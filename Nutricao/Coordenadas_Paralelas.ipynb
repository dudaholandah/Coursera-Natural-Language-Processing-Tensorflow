{
  "nbformat": 4,
  "nbformat_minor": 0,
  "metadata": {
    "colab": {
      "provenance": [],
      "collapsed_sections": [
        "gQpJWtihIGTO"
      ],
      "authorship_tag": "ABX9TyMpRYqmanXE11eKVIz/QnNd",
      "include_colab_link": true
    },
    "kernelspec": {
      "name": "python3",
      "display_name": "Python 3"
    },
    "language_info": {
      "name": "python"
    }
  },
  "cells": [
    {
      "cell_type": "markdown",
      "metadata": {
        "id": "view-in-github",
        "colab_type": "text"
      },
      "source": [
        "<a href=\"https://colab.research.google.com/github/dudaholandah/PIBIC/blob/main/Nutricao/Coordenadas_Paralelas.ipynb\" target=\"_parent\"><img src=\"https://colab.research.google.com/assets/colab-badge.svg\" alt=\"Open In Colab\"/></a>"
      ]
    },
    {
      "cell_type": "markdown",
      "source": [
        "# Imports"
      ],
      "metadata": {
        "id": "KxRV7SdQICk7"
      }
    },
    {
      "cell_type": "code",
      "execution_count": null,
      "metadata": {
        "id": "IG9zXmKeH-HJ"
      },
      "outputs": [],
      "source": [
        "!apt-get install poppler-utils\n",
        "!apt-get update poppler-utils\n",
        "!pip install pdf2image\n",
        "!pip install unidecode\n",
        "!pip install -U kaleido\n",
        "!pip install scikit-learn-extra\n",
        "# !pip install umap-learn[plot]\n",
        "# !pip install trimap"
      ]
    },
    {
      "cell_type": "code",
      "source": [
        "import pandas as pd\n",
        "import numpy as np\n",
        "from unidecode import unidecode\n",
        "from sklearn import preprocessing\n",
        "from pandas.core.frame import DataFrame\n",
        "import plotly.express as px\n",
        "import re\n",
        "import plotly.graph_objects as go\n",
        "import plotly\n",
        "import pdf2image\n",
        "import os"
      ],
      "metadata": {
        "id": "iHEbBGvNIAwZ"
      },
      "execution_count": 5,
      "outputs": []
    },
    {
      "cell_type": "markdown",
      "source": [
        "# Pre-Processing"
      ],
      "metadata": {
        "id": "gQpJWtihIGTO"
      }
    },
    {
      "cell_type": "code",
      "source": [
        "data = pd.read_excel(\"TABLE_VEG.xlsx\", sheet_name='Veganos')"
      ],
      "metadata": {
        "id": "3DDG3P-IIITW"
      },
      "execution_count": 6,
      "outputs": []
    },
    {
      "cell_type": "code",
      "source": [
        "data = data.drop(columns=['Porção', 'Kcal', 'Carboidratos', 'Açúcares', 'Proteínas', 'Gorduras Totais', 'Gorduras Saturadas', 'Fibras ', 'Sódio', 'B12', 'Cálcio', 'Zinco'])"
      ],
      "metadata": {
        "id": "YPLX3qcKeqhO"
      },
      "execution_count": 9,
      "outputs": []
    },
    {
      "cell_type": "code",
      "source": [
        "data.head()"
      ],
      "metadata": {
        "colab": {
          "base_uri": "https://localhost:8080/",
          "height": 548
        },
        "id": "AIaz59tpfDHe",
        "outputId": "2712ee5f-1fc0-4cea-d32d-50548337c1b7"
      },
      "execution_count": 10,
      "outputs": [
        {
          "output_type": "execute_result",
          "data": {
            "text/plain": [
              "  Classificação                Nome do Produto  \\\n",
              "0      CARNES 1  Hambúrguer Fazenda Futuro 2.0   \n",
              "1      CARNES 2          Carne Moída do Futuro   \n",
              "2      CARNES 3            Almôndega do Futuro   \n",
              "3     FRANGOS 3               Frango do Futuro   \n",
              "4     SUÍNOS 1              Linguiça do Futuro   \n",
              "\n",
              "                                        Ingredientes  Kcal.1  Carboidratos.1  \\\n",
              "0  água, proteína texturizada de soja, proteína d...  246.25           12.50   \n",
              "1  água, proteína texturizada de soja, proteína d...  210.00           13.75   \n",
              "2  água, proteína texturizada de soja, proteína i...  210.00           13.75   \n",
              "3  água, proteína texturizada de soja, proteína i...  210.00           13.75   \n",
              "4  água, proteína texturizada de soja, proteína i...  278.00           15.40   \n",
              "\n",
              "   Açúcares.1  Proteínas.1  Gorduras Totais.1  Gorduras Saturadas.1  \\\n",
              "0         0.0        13.75              16.25                  5.25   \n",
              "1         0.0        10.25              12.50                 11.25   \n",
              "2         0.0        10.25              12.50                 11.25   \n",
              "3         0.0        10.25              12.50                 11.25   \n",
              "4         0.0        11.40              19.00                  7.80   \n",
              "\n",
              "   Fibras .1  Sódio.1  B12.1  Cálcio.1  Zinco.1  \n",
              "0      3.500    595.0    0.0       0.0      0.0  \n",
              "1      0.875    490.0    0.0       0.0      0.0  \n",
              "2      0.875    490.0    0.0       0.0      0.0  \n",
              "3      0.875    490.0    0.0       0.0      0.0  \n",
              "4      0.400    588.0    0.0       0.0      0.0  "
            ],
            "text/html": [
              "\n",
              "  <div id=\"df-d8c30227-4be5-41e2-933e-0271d3b30229\">\n",
              "    <div class=\"colab-df-container\">\n",
              "      <div>\n",
              "<style scoped>\n",
              "    .dataframe tbody tr th:only-of-type {\n",
              "        vertical-align: middle;\n",
              "    }\n",
              "\n",
              "    .dataframe tbody tr th {\n",
              "        vertical-align: top;\n",
              "    }\n",
              "\n",
              "    .dataframe thead th {\n",
              "        text-align: right;\n",
              "    }\n",
              "</style>\n",
              "<table border=\"1\" class=\"dataframe\">\n",
              "  <thead>\n",
              "    <tr style=\"text-align: right;\">\n",
              "      <th></th>\n",
              "      <th>Classificação</th>\n",
              "      <th>Nome do Produto</th>\n",
              "      <th>Ingredientes</th>\n",
              "      <th>Kcal.1</th>\n",
              "      <th>Carboidratos.1</th>\n",
              "      <th>Açúcares.1</th>\n",
              "      <th>Proteínas.1</th>\n",
              "      <th>Gorduras Totais.1</th>\n",
              "      <th>Gorduras Saturadas.1</th>\n",
              "      <th>Fibras .1</th>\n",
              "      <th>Sódio.1</th>\n",
              "      <th>B12.1</th>\n",
              "      <th>Cálcio.1</th>\n",
              "      <th>Zinco.1</th>\n",
              "    </tr>\n",
              "  </thead>\n",
              "  <tbody>\n",
              "    <tr>\n",
              "      <th>0</th>\n",
              "      <td>CARNES 1</td>\n",
              "      <td>Hambúrguer Fazenda Futuro 2.0</td>\n",
              "      <td>água, proteína texturizada de soja, proteína d...</td>\n",
              "      <td>246.25</td>\n",
              "      <td>12.50</td>\n",
              "      <td>0.0</td>\n",
              "      <td>13.75</td>\n",
              "      <td>16.25</td>\n",
              "      <td>5.25</td>\n",
              "      <td>3.500</td>\n",
              "      <td>595.0</td>\n",
              "      <td>0.0</td>\n",
              "      <td>0.0</td>\n",
              "      <td>0.0</td>\n",
              "    </tr>\n",
              "    <tr>\n",
              "      <th>1</th>\n",
              "      <td>CARNES 2</td>\n",
              "      <td>Carne Moída do Futuro</td>\n",
              "      <td>água, proteína texturizada de soja, proteína d...</td>\n",
              "      <td>210.00</td>\n",
              "      <td>13.75</td>\n",
              "      <td>0.0</td>\n",
              "      <td>10.25</td>\n",
              "      <td>12.50</td>\n",
              "      <td>11.25</td>\n",
              "      <td>0.875</td>\n",
              "      <td>490.0</td>\n",
              "      <td>0.0</td>\n",
              "      <td>0.0</td>\n",
              "      <td>0.0</td>\n",
              "    </tr>\n",
              "    <tr>\n",
              "      <th>2</th>\n",
              "      <td>CARNES 3</td>\n",
              "      <td>Almôndega do Futuro</td>\n",
              "      <td>água, proteína texturizada de soja, proteína i...</td>\n",
              "      <td>210.00</td>\n",
              "      <td>13.75</td>\n",
              "      <td>0.0</td>\n",
              "      <td>10.25</td>\n",
              "      <td>12.50</td>\n",
              "      <td>11.25</td>\n",
              "      <td>0.875</td>\n",
              "      <td>490.0</td>\n",
              "      <td>0.0</td>\n",
              "      <td>0.0</td>\n",
              "      <td>0.0</td>\n",
              "    </tr>\n",
              "    <tr>\n",
              "      <th>3</th>\n",
              "      <td>FRANGOS 3</td>\n",
              "      <td>Frango do Futuro</td>\n",
              "      <td>água, proteína texturizada de soja, proteína i...</td>\n",
              "      <td>210.00</td>\n",
              "      <td>13.75</td>\n",
              "      <td>0.0</td>\n",
              "      <td>10.25</td>\n",
              "      <td>12.50</td>\n",
              "      <td>11.25</td>\n",
              "      <td>0.875</td>\n",
              "      <td>490.0</td>\n",
              "      <td>0.0</td>\n",
              "      <td>0.0</td>\n",
              "      <td>0.0</td>\n",
              "    </tr>\n",
              "    <tr>\n",
              "      <th>4</th>\n",
              "      <td>SUÍNOS 1</td>\n",
              "      <td>Linguiça do Futuro</td>\n",
              "      <td>água, proteína texturizada de soja, proteína i...</td>\n",
              "      <td>278.00</td>\n",
              "      <td>15.40</td>\n",
              "      <td>0.0</td>\n",
              "      <td>11.40</td>\n",
              "      <td>19.00</td>\n",
              "      <td>7.80</td>\n",
              "      <td>0.400</td>\n",
              "      <td>588.0</td>\n",
              "      <td>0.0</td>\n",
              "      <td>0.0</td>\n",
              "      <td>0.0</td>\n",
              "    </tr>\n",
              "  </tbody>\n",
              "</table>\n",
              "</div>\n",
              "      <button class=\"colab-df-convert\" onclick=\"convertToInteractive('df-d8c30227-4be5-41e2-933e-0271d3b30229')\"\n",
              "              title=\"Convert this dataframe to an interactive table.\"\n",
              "              style=\"display:none;\">\n",
              "        \n",
              "  <svg xmlns=\"http://www.w3.org/2000/svg\" height=\"24px\"viewBox=\"0 0 24 24\"\n",
              "       width=\"24px\">\n",
              "    <path d=\"M0 0h24v24H0V0z\" fill=\"none\"/>\n",
              "    <path d=\"M18.56 5.44l.94 2.06.94-2.06 2.06-.94-2.06-.94-.94-2.06-.94 2.06-2.06.94zm-11 1L8.5 8.5l.94-2.06 2.06-.94-2.06-.94L8.5 2.5l-.94 2.06-2.06.94zm10 10l.94 2.06.94-2.06 2.06-.94-2.06-.94-.94-2.06-.94 2.06-2.06.94z\"/><path d=\"M17.41 7.96l-1.37-1.37c-.4-.4-.92-.59-1.43-.59-.52 0-1.04.2-1.43.59L10.3 9.45l-7.72 7.72c-.78.78-.78 2.05 0 2.83L4 21.41c.39.39.9.59 1.41.59.51 0 1.02-.2 1.41-.59l7.78-7.78 2.81-2.81c.8-.78.8-2.07 0-2.86zM5.41 20L4 18.59l7.72-7.72 1.47 1.35L5.41 20z\"/>\n",
              "  </svg>\n",
              "      </button>\n",
              "      \n",
              "  <style>\n",
              "    .colab-df-container {\n",
              "      display:flex;\n",
              "      flex-wrap:wrap;\n",
              "      gap: 12px;\n",
              "    }\n",
              "\n",
              "    .colab-df-convert {\n",
              "      background-color: #E8F0FE;\n",
              "      border: none;\n",
              "      border-radius: 50%;\n",
              "      cursor: pointer;\n",
              "      display: none;\n",
              "      fill: #1967D2;\n",
              "      height: 32px;\n",
              "      padding: 0 0 0 0;\n",
              "      width: 32px;\n",
              "    }\n",
              "\n",
              "    .colab-df-convert:hover {\n",
              "      background-color: #E2EBFA;\n",
              "      box-shadow: 0px 1px 2px rgba(60, 64, 67, 0.3), 0px 1px 3px 1px rgba(60, 64, 67, 0.15);\n",
              "      fill: #174EA6;\n",
              "    }\n",
              "\n",
              "    [theme=dark] .colab-df-convert {\n",
              "      background-color: #3B4455;\n",
              "      fill: #D2E3FC;\n",
              "    }\n",
              "\n",
              "    [theme=dark] .colab-df-convert:hover {\n",
              "      background-color: #434B5C;\n",
              "      box-shadow: 0px 1px 3px 1px rgba(0, 0, 0, 0.15);\n",
              "      filter: drop-shadow(0px 1px 2px rgba(0, 0, 0, 0.3));\n",
              "      fill: #FFFFFF;\n",
              "    }\n",
              "  </style>\n",
              "\n",
              "      <script>\n",
              "        const buttonEl =\n",
              "          document.querySelector('#df-d8c30227-4be5-41e2-933e-0271d3b30229 button.colab-df-convert');\n",
              "        buttonEl.style.display =\n",
              "          google.colab.kernel.accessAllowed ? 'block' : 'none';\n",
              "\n",
              "        async function convertToInteractive(key) {\n",
              "          const element = document.querySelector('#df-d8c30227-4be5-41e2-933e-0271d3b30229');\n",
              "          const dataTable =\n",
              "            await google.colab.kernel.invokeFunction('convertToInteractive',\n",
              "                                                     [key], {});\n",
              "          if (!dataTable) return;\n",
              "\n",
              "          const docLinkHtml = 'Like what you see? Visit the ' +\n",
              "            '<a target=\"_blank\" href=https://colab.research.google.com/notebooks/data_table.ipynb>data table notebook</a>'\n",
              "            + ' to learn more about interactive tables.';\n",
              "          element.innerHTML = '';\n",
              "          dataTable['output_type'] = 'display_data';\n",
              "          await google.colab.output.renderOutput(dataTable, element);\n",
              "          const docLink = document.createElement('div');\n",
              "          docLink.innerHTML = docLinkHtml;\n",
              "          element.appendChild(docLink);\n",
              "        }\n",
              "      </script>\n",
              "    </div>\n",
              "  </div>\n",
              "  "
            ]
          },
          "metadata": {},
          "execution_count": 10
        }
      ]
    },
    {
      "cell_type": "code",
      "source": [
        "for index, row in data.iterrows():\n",
        "  label = data['Classificação'][index].rstrip().lstrip()\n",
        "  data.at[index,'Classificação'] = label\n",
        "\n",
        "print(data['Classificação'].value_counts())"
      ],
      "metadata": {
        "colab": {
          "base_uri": "https://localhost:8080/"
        },
        "id": "kwD3Tx_3JOOK",
        "outputId": "63b5c455-b92d-4d52-a164-e1fe89f62bb0"
      },
      "execution_count": 13,
      "outputs": [
        {
          "output_type": "stream",
          "name": "stdout",
          "text": [
            "LATICÍNIOS 1    78\n",
            "LATICÍNIOS 3    45\n",
            "CARNES 1        35\n",
            "CARNES 3        18\n",
            "FRANGOS 1       14\n",
            "OVOS 1          14\n",
            "FRANGOS 3       13\n",
            "SUÍNOS 1        12\n",
            "LATICÍNIOS 2    11\n",
            "CARNES 2         9\n",
            "PESCADOS 1       8\n",
            "SUÍNOS 2         6\n",
            "FRANGOS 2        5\n",
            "PESCADOS 2       5\n",
            "OVOS 2           2\n",
            "Name: Classificação, dtype: int64\n"
          ]
        }
      ]
    },
    {
      "cell_type": "code",
      "source": [
        "flag_dairy = []\n",
        "flag_egg = []\n",
        "\n",
        "for label in data['Classificação']:\n",
        "    if \"LATICÍNIOS\" in label:\n",
        "        flag_dairy.append(True)\n",
        "    else:\n",
        "        flag_dairy.append(False)\n",
        "\n",
        "    if \"OVOS\" in label:\n",
        "        flag_egg.append(True)\n",
        "    else:\n",
        "        flag_egg.append(False)  \n",
        "\n",
        "data_dairy = data[flag_dairy]\n",
        "data_egg = data[flag_egg]"
      ],
      "metadata": {
        "id": "EvxOXBesKznV"
      },
      "execution_count": 14,
      "outputs": []
    },
    {
      "cell_type": "code",
      "source": [
        "data_egg['Classificação'] = data_egg['Classificação'].map({'OVOS 1': 1, 'OVOS 2': 2}) \n",
        "data_dairy['Classificação'] = data_dairy['Classificação'].map({'LATICÍNIOS 1': 1, 'LATICÍNIOS 2': 2, 'LATICÍNIOS 3': 3}) "
      ],
      "metadata": {
        "colab": {
          "base_uri": "https://localhost:8080/"
        },
        "id": "57HrUVYbjB6W",
        "outputId": "3f981119-d2dd-45d0-803f-2a5b26c57601"
      },
      "execution_count": 18,
      "outputs": [
        {
          "output_type": "stream",
          "name": "stderr",
          "text": [
            "/usr/local/lib/python3.7/dist-packages/ipykernel_launcher.py:1: SettingWithCopyWarning: \n",
            "A value is trying to be set on a copy of a slice from a DataFrame.\n",
            "Try using .loc[row_indexer,col_indexer] = value instead\n",
            "\n",
            "See the caveats in the documentation: https://pandas.pydata.org/pandas-docs/stable/user_guide/indexing.html#returning-a-view-versus-a-copy\n",
            "  \"\"\"Entry point for launching an IPython kernel.\n",
            "/usr/local/lib/python3.7/dist-packages/ipykernel_launcher.py:2: SettingWithCopyWarning: \n",
            "A value is trying to be set on a copy of a slice from a DataFrame.\n",
            "Try using .loc[row_indexer,col_indexer] = value instead\n",
            "\n",
            "See the caveats in the documentation: https://pandas.pydata.org/pandas-docs/stable/user_guide/indexing.html#returning-a-view-versus-a-copy\n",
            "  \n"
          ]
        }
      ]
    },
    {
      "cell_type": "code",
      "source": [
        "if not os.path.exists(\"images\"):\n",
        "    os.mkdir(\"images\")"
      ],
      "metadata": {
        "id": "6g-zZR_tJwgD"
      },
      "execution_count": 19,
      "outputs": []
    },
    {
      "cell_type": "markdown",
      "source": [
        "# Graphics"
      ],
      "metadata": {
        "id": "YWPasNclR4kW"
      }
    },
    {
      "cell_type": "code",
      "source": [
        "fig = px.parallel_coordinates(data_egg, \n",
        "                              color='Classificação', \n",
        "                              dimensions=['Kcal.1', 'Carboidratos.1', 'Proteínas.1', 'Gorduras Totais.1', 'Gorduras Saturadas.1', 'Fibras .1',\n",
        "                                          ],\n",
        "                              labels={'Classificação':'Classification', 'Kcal.1': \"Energy (Kcal)\", 'Carboidratos.1': 'Carbohydrate (g)', 'Proteínas.1': 'Protein (g)', \n",
        "                                      'Gorduras Totais.1': 'Total Fat (g)', 'Gorduras Saturadas.1': 'Saturated Fat (g)', 'Fibras .1': 'Dietary Fiber (g)',\n",
        "                                      }, \n",
        "                              range_color=[0.5,2.5],\n",
        "                              color_continuous_scale=[(0.0, px.colors.qualitative.Plotly[0]), (0.5, px.colors.qualitative.Plotly[0]),\n",
        "                                                      (0.5, px.colors.qualitative.Plotly[1]), (1.0, px.colors.qualitative.Plotly[1]),\n",
        "                              ],\n",
        "                             )\n",
        "\n",
        "fig.update_layout(coloraxis_colorbar=dict(\n",
        "      tickvals=[1,2],\n",
        "      ticktext=[\"Mayonnaise\",\"Eggs\"],\n",
        "      lenmode=\"pixels\", len=100,\n",
        "))\n",
        "\n",
        "fig.write_image('images/EGG.png')\n",
        "fig.show()"
      ],
      "metadata": {
        "colab": {
          "base_uri": "https://localhost:8080/",
          "height": 542
        },
        "id": "2aeUNXCRR7dK",
        "outputId": "616c9d8b-97ab-4408-88f4-983bb714c8b6"
      },
      "execution_count": 25,
      "outputs": [
        {
          "output_type": "display_data",
          "data": {
            "text/html": [
              "<html>\n",
              "<head><meta charset=\"utf-8\" /></head>\n",
              "<body>\n",
              "    <div>            <script src=\"https://cdnjs.cloudflare.com/ajax/libs/mathjax/2.7.5/MathJax.js?config=TeX-AMS-MML_SVG\"></script><script type=\"text/javascript\">if (window.MathJax) {MathJax.Hub.Config({SVG: {font: \"STIX-Web\"}});}</script>                <script type=\"text/javascript\">window.PlotlyConfig = {MathJaxConfig: 'local'};</script>\n",
              "        <script src=\"https://cdn.plot.ly/plotly-2.8.3.min.js\"></script>                <div id=\"9dc99a5b-08ed-423d-815f-8c2c9e1ee236\" class=\"plotly-graph-div\" style=\"height:525px; width:100%;\"></div>            <script type=\"text/javascript\">                                    window.PLOTLYENV=window.PLOTLYENV || {};                                    if (document.getElementById(\"9dc99a5b-08ed-423d-815f-8c2c9e1ee236\")) {                    Plotly.newPlot(                        \"9dc99a5b-08ed-423d-815f-8c2c9e1ee236\",                        [{\"dimensions\":[{\"label\":\"Energy (Kcal)\",\"values\":[233.33333333333334,166.66666666666666,583.3333333333334,591.6666666666666,475.0,466.6666666666667,275.0,275.0,275.0,275.0,275.0,208.33333333333334,175.0,210.0,250.0,400.0]},{\"label\":\"Carbohydrate (g)\",\"values\":[11.666666666666666,0.0,0.0,5.0,5.0,5.0,5.0,5.0,5.0,5.0,5.0,0.0,0.0,13.0,33.0,17.142857142857142]},{\"label\":\"Protein (g)\",\"values\":[20.833333333333332,0.0,0.0,0.0,0.0,0.0,3.3333333333333335,3.3333333333333335,3.3333333333333335,3.3333333333333335,3.3333333333333335,0.0,0.0,1.25,40.99999999999999,44.285714285714285]},{\"label\":\"Total Fat (g)\",\"values\":[3.3333333333333335,15.0,63.333333333333336,63.333333333333336,50.833333333333336,50.0,27.5,27.5,27.5,27.5,27.5,32.5,15.0,12.749999999999998,8.0,17.142857142857142]},{\"label\":\"Saturated Fat (g)\",\"values\":[0.0,2.5,10.833333333333334,10.833333333333334,8.333333333333334,8.333333333333334,2.5,2.5,2.5,2.5,2.5,5.0,0.0,1.5,0.0,0.0]},{\"label\":\"Dietary Fiber (g)\",\"values\":[0.0,0.0,0.0,0.0,0.0,0.0,0.0,0.0,0.0,0.0,0.0,0.0,0.0,0.0,14.0,12.857142857142858]}],\"domain\":{\"x\":[0.0,1.0],\"y\":[0.0,1.0]},\"line\":{\"color\":[1,1,1,1,1,1,1,1,1,1,1,1,1,1,2,2],\"coloraxis\":\"coloraxis\"},\"name\":\"\",\"type\":\"parcoords\"}],                        {\"template\":{\"data\":{\"bar\":[{\"error_x\":{\"color\":\"#2a3f5f\"},\"error_y\":{\"color\":\"#2a3f5f\"},\"marker\":{\"line\":{\"color\":\"#E5ECF6\",\"width\":0.5},\"pattern\":{\"fillmode\":\"overlay\",\"size\":10,\"solidity\":0.2}},\"type\":\"bar\"}],\"barpolar\":[{\"marker\":{\"line\":{\"color\":\"#E5ECF6\",\"width\":0.5},\"pattern\":{\"fillmode\":\"overlay\",\"size\":10,\"solidity\":0.2}},\"type\":\"barpolar\"}],\"carpet\":[{\"aaxis\":{\"endlinecolor\":\"#2a3f5f\",\"gridcolor\":\"white\",\"linecolor\":\"white\",\"minorgridcolor\":\"white\",\"startlinecolor\":\"#2a3f5f\"},\"baxis\":{\"endlinecolor\":\"#2a3f5f\",\"gridcolor\":\"white\",\"linecolor\":\"white\",\"minorgridcolor\":\"white\",\"startlinecolor\":\"#2a3f5f\"},\"type\":\"carpet\"}],\"choropleth\":[{\"colorbar\":{\"outlinewidth\":0,\"ticks\":\"\"},\"type\":\"choropleth\"}],\"contour\":[{\"colorbar\":{\"outlinewidth\":0,\"ticks\":\"\"},\"colorscale\":[[0.0,\"#0d0887\"],[0.1111111111111111,\"#46039f\"],[0.2222222222222222,\"#7201a8\"],[0.3333333333333333,\"#9c179e\"],[0.4444444444444444,\"#bd3786\"],[0.5555555555555556,\"#d8576b\"],[0.6666666666666666,\"#ed7953\"],[0.7777777777777778,\"#fb9f3a\"],[0.8888888888888888,\"#fdca26\"],[1.0,\"#f0f921\"]],\"type\":\"contour\"}],\"contourcarpet\":[{\"colorbar\":{\"outlinewidth\":0,\"ticks\":\"\"},\"type\":\"contourcarpet\"}],\"heatmap\":[{\"colorbar\":{\"outlinewidth\":0,\"ticks\":\"\"},\"colorscale\":[[0.0,\"#0d0887\"],[0.1111111111111111,\"#46039f\"],[0.2222222222222222,\"#7201a8\"],[0.3333333333333333,\"#9c179e\"],[0.4444444444444444,\"#bd3786\"],[0.5555555555555556,\"#d8576b\"],[0.6666666666666666,\"#ed7953\"],[0.7777777777777778,\"#fb9f3a\"],[0.8888888888888888,\"#fdca26\"],[1.0,\"#f0f921\"]],\"type\":\"heatmap\"}],\"heatmapgl\":[{\"colorbar\":{\"outlinewidth\":0,\"ticks\":\"\"},\"colorscale\":[[0.0,\"#0d0887\"],[0.1111111111111111,\"#46039f\"],[0.2222222222222222,\"#7201a8\"],[0.3333333333333333,\"#9c179e\"],[0.4444444444444444,\"#bd3786\"],[0.5555555555555556,\"#d8576b\"],[0.6666666666666666,\"#ed7953\"],[0.7777777777777778,\"#fb9f3a\"],[0.8888888888888888,\"#fdca26\"],[1.0,\"#f0f921\"]],\"type\":\"heatmapgl\"}],\"histogram\":[{\"marker\":{\"pattern\":{\"fillmode\":\"overlay\",\"size\":10,\"solidity\":0.2}},\"type\":\"histogram\"}],\"histogram2d\":[{\"colorbar\":{\"outlinewidth\":0,\"ticks\":\"\"},\"colorscale\":[[0.0,\"#0d0887\"],[0.1111111111111111,\"#46039f\"],[0.2222222222222222,\"#7201a8\"],[0.3333333333333333,\"#9c179e\"],[0.4444444444444444,\"#bd3786\"],[0.5555555555555556,\"#d8576b\"],[0.6666666666666666,\"#ed7953\"],[0.7777777777777778,\"#fb9f3a\"],[0.8888888888888888,\"#fdca26\"],[1.0,\"#f0f921\"]],\"type\":\"histogram2d\"}],\"histogram2dcontour\":[{\"colorbar\":{\"outlinewidth\":0,\"ticks\":\"\"},\"colorscale\":[[0.0,\"#0d0887\"],[0.1111111111111111,\"#46039f\"],[0.2222222222222222,\"#7201a8\"],[0.3333333333333333,\"#9c179e\"],[0.4444444444444444,\"#bd3786\"],[0.5555555555555556,\"#d8576b\"],[0.6666666666666666,\"#ed7953\"],[0.7777777777777778,\"#fb9f3a\"],[0.8888888888888888,\"#fdca26\"],[1.0,\"#f0f921\"]],\"type\":\"histogram2dcontour\"}],\"mesh3d\":[{\"colorbar\":{\"outlinewidth\":0,\"ticks\":\"\"},\"type\":\"mesh3d\"}],\"parcoords\":[{\"line\":{\"colorbar\":{\"outlinewidth\":0,\"ticks\":\"\"}},\"type\":\"parcoords\"}],\"pie\":[{\"automargin\":true,\"type\":\"pie\"}],\"scatter\":[{\"marker\":{\"colorbar\":{\"outlinewidth\":0,\"ticks\":\"\"}},\"type\":\"scatter\"}],\"scatter3d\":[{\"line\":{\"colorbar\":{\"outlinewidth\":0,\"ticks\":\"\"}},\"marker\":{\"colorbar\":{\"outlinewidth\":0,\"ticks\":\"\"}},\"type\":\"scatter3d\"}],\"scattercarpet\":[{\"marker\":{\"colorbar\":{\"outlinewidth\":0,\"ticks\":\"\"}},\"type\":\"scattercarpet\"}],\"scattergeo\":[{\"marker\":{\"colorbar\":{\"outlinewidth\":0,\"ticks\":\"\"}},\"type\":\"scattergeo\"}],\"scattergl\":[{\"marker\":{\"colorbar\":{\"outlinewidth\":0,\"ticks\":\"\"}},\"type\":\"scattergl\"}],\"scattermapbox\":[{\"marker\":{\"colorbar\":{\"outlinewidth\":0,\"ticks\":\"\"}},\"type\":\"scattermapbox\"}],\"scatterpolar\":[{\"marker\":{\"colorbar\":{\"outlinewidth\":0,\"ticks\":\"\"}},\"type\":\"scatterpolar\"}],\"scatterpolargl\":[{\"marker\":{\"colorbar\":{\"outlinewidth\":0,\"ticks\":\"\"}},\"type\":\"scatterpolargl\"}],\"scatterternary\":[{\"marker\":{\"colorbar\":{\"outlinewidth\":0,\"ticks\":\"\"}},\"type\":\"scatterternary\"}],\"surface\":[{\"colorbar\":{\"outlinewidth\":0,\"ticks\":\"\"},\"colorscale\":[[0.0,\"#0d0887\"],[0.1111111111111111,\"#46039f\"],[0.2222222222222222,\"#7201a8\"],[0.3333333333333333,\"#9c179e\"],[0.4444444444444444,\"#bd3786\"],[0.5555555555555556,\"#d8576b\"],[0.6666666666666666,\"#ed7953\"],[0.7777777777777778,\"#fb9f3a\"],[0.8888888888888888,\"#fdca26\"],[1.0,\"#f0f921\"]],\"type\":\"surface\"}],\"table\":[{\"cells\":{\"fill\":{\"color\":\"#EBF0F8\"},\"line\":{\"color\":\"white\"}},\"header\":{\"fill\":{\"color\":\"#C8D4E3\"},\"line\":{\"color\":\"white\"}},\"type\":\"table\"}]},\"layout\":{\"annotationdefaults\":{\"arrowcolor\":\"#2a3f5f\",\"arrowhead\":0,\"arrowwidth\":1},\"autotypenumbers\":\"strict\",\"coloraxis\":{\"colorbar\":{\"outlinewidth\":0,\"ticks\":\"\"}},\"colorscale\":{\"diverging\":[[0,\"#8e0152\"],[0.1,\"#c51b7d\"],[0.2,\"#de77ae\"],[0.3,\"#f1b6da\"],[0.4,\"#fde0ef\"],[0.5,\"#f7f7f7\"],[0.6,\"#e6f5d0\"],[0.7,\"#b8e186\"],[0.8,\"#7fbc41\"],[0.9,\"#4d9221\"],[1,\"#276419\"]],\"sequential\":[[0.0,\"#0d0887\"],[0.1111111111111111,\"#46039f\"],[0.2222222222222222,\"#7201a8\"],[0.3333333333333333,\"#9c179e\"],[0.4444444444444444,\"#bd3786\"],[0.5555555555555556,\"#d8576b\"],[0.6666666666666666,\"#ed7953\"],[0.7777777777777778,\"#fb9f3a\"],[0.8888888888888888,\"#fdca26\"],[1.0,\"#f0f921\"]],\"sequentialminus\":[[0.0,\"#0d0887\"],[0.1111111111111111,\"#46039f\"],[0.2222222222222222,\"#7201a8\"],[0.3333333333333333,\"#9c179e\"],[0.4444444444444444,\"#bd3786\"],[0.5555555555555556,\"#d8576b\"],[0.6666666666666666,\"#ed7953\"],[0.7777777777777778,\"#fb9f3a\"],[0.8888888888888888,\"#fdca26\"],[1.0,\"#f0f921\"]]},\"colorway\":[\"#636efa\",\"#EF553B\",\"#00cc96\",\"#ab63fa\",\"#FFA15A\",\"#19d3f3\",\"#FF6692\",\"#B6E880\",\"#FF97FF\",\"#FECB52\"],\"font\":{\"color\":\"#2a3f5f\"},\"geo\":{\"bgcolor\":\"white\",\"lakecolor\":\"white\",\"landcolor\":\"#E5ECF6\",\"showlakes\":true,\"showland\":true,\"subunitcolor\":\"white\"},\"hoverlabel\":{\"align\":\"left\"},\"hovermode\":\"closest\",\"mapbox\":{\"style\":\"light\"},\"paper_bgcolor\":\"white\",\"plot_bgcolor\":\"#E5ECF6\",\"polar\":{\"angularaxis\":{\"gridcolor\":\"white\",\"linecolor\":\"white\",\"ticks\":\"\"},\"bgcolor\":\"#E5ECF6\",\"radialaxis\":{\"gridcolor\":\"white\",\"linecolor\":\"white\",\"ticks\":\"\"}},\"scene\":{\"xaxis\":{\"backgroundcolor\":\"#E5ECF6\",\"gridcolor\":\"white\",\"gridwidth\":2,\"linecolor\":\"white\",\"showbackground\":true,\"ticks\":\"\",\"zerolinecolor\":\"white\"},\"yaxis\":{\"backgroundcolor\":\"#E5ECF6\",\"gridcolor\":\"white\",\"gridwidth\":2,\"linecolor\":\"white\",\"showbackground\":true,\"ticks\":\"\",\"zerolinecolor\":\"white\"},\"zaxis\":{\"backgroundcolor\":\"#E5ECF6\",\"gridcolor\":\"white\",\"gridwidth\":2,\"linecolor\":\"white\",\"showbackground\":true,\"ticks\":\"\",\"zerolinecolor\":\"white\"}},\"shapedefaults\":{\"line\":{\"color\":\"#2a3f5f\"}},\"ternary\":{\"aaxis\":{\"gridcolor\":\"white\",\"linecolor\":\"white\",\"ticks\":\"\"},\"baxis\":{\"gridcolor\":\"white\",\"linecolor\":\"white\",\"ticks\":\"\"},\"bgcolor\":\"#E5ECF6\",\"caxis\":{\"gridcolor\":\"white\",\"linecolor\":\"white\",\"ticks\":\"\"}},\"title\":{\"x\":0.05},\"xaxis\":{\"automargin\":true,\"gridcolor\":\"white\",\"linecolor\":\"white\",\"ticks\":\"\",\"title\":{\"standoff\":15},\"zerolinecolor\":\"white\",\"zerolinewidth\":2},\"yaxis\":{\"automargin\":true,\"gridcolor\":\"white\",\"linecolor\":\"white\",\"ticks\":\"\",\"title\":{\"standoff\":15},\"zerolinecolor\":\"white\",\"zerolinewidth\":2}}},\"coloraxis\":{\"colorbar\":{\"title\":{\"text\":\"Classification\"},\"tickvals\":[1,2],\"ticktext\":[\"Mayonnaise\",\"Eggs\"],\"lenmode\":\"pixels\",\"len\":100},\"colorscale\":[[0.0,\"#636EFA\"],[0.5,\"#636EFA\"],[0.5,\"#EF553B\"],[1.0,\"#EF553B\"]],\"cmin\":0.5,\"cmax\":2.5},\"legend\":{\"tracegroupgap\":0},\"margin\":{\"t\":60}},                        {\"responsive\": true}                    ).then(function(){\n",
              "                            \n",
              "var gd = document.getElementById('9dc99a5b-08ed-423d-815f-8c2c9e1ee236');\n",
              "var x = new MutationObserver(function (mutations, observer) {{\n",
              "        var display = window.getComputedStyle(gd).display;\n",
              "        if (!display || display === 'none') {{\n",
              "            console.log([gd, 'removed!']);\n",
              "            Plotly.purge(gd);\n",
              "            observer.disconnect();\n",
              "        }}\n",
              "}});\n",
              "\n",
              "// Listen for the removal of the full notebook cells\n",
              "var notebookContainer = gd.closest('#notebook-container');\n",
              "if (notebookContainer) {{\n",
              "    x.observe(notebookContainer, {childList: true});\n",
              "}}\n",
              "\n",
              "// Listen for the clearing of the current output cell\n",
              "var outputEl = gd.closest('.output');\n",
              "if (outputEl) {{\n",
              "    x.observe(outputEl, {childList: true});\n",
              "}}\n",
              "\n",
              "                        })                };                            </script>        </div>\n",
              "</body>\n",
              "</html>"
            ]
          },
          "metadata": {}
        }
      ]
    },
    {
      "cell_type": "code",
      "source": [
        "fig = px.parallel_coordinates(data_dairy, \n",
        "                              color='Classificação', \n",
        "                              dimensions=['Kcal.1', 'Carboidratos.1', 'Proteínas.1', 'Gorduras Totais.1', 'Gorduras Saturadas.1', 'Fibras .1',\n",
        "                                          ],\n",
        "                              labels={'Classificação':'Classification', 'Kcal.1': \"Energy (Kcal)\", 'Carboidratos.1': 'Carbohydrate (g)', 'Proteínas.1': 'Protein (g)', \n",
        "                                      'Gorduras Totais.1': 'Total Fat (g)', 'Gorduras Saturadas.1': 'Saturated Fat (g)', 'Fibras .1': 'Dietary Fiber (g)',\n",
        "                                      },\n",
        "                              range_color=[0.8,3.2],\n",
        "                              color_continuous_scale=[(0.0, px.colors.qualitative.Plotly[0]), (0.33, px.colors.qualitative.Plotly[0]),\n",
        "                                                      (0.33, px.colors.qualitative.Plotly[1]), (0.66, px.colors.qualitative.Plotly[1]),\n",
        "                                                      (0.66, px.colors.qualitative.Plotly[2]), (1.0, px.colors.qualitative.Plotly[2]),\n",
        "                              ],\n",
        "                             )\n",
        "\n",
        "fig.update_layout(coloraxis_colorbar=dict(\n",
        "      tickvals=[1,2,3],\n",
        "      ticktext=[\"Beverages\",\"Yogurts\",\"Cheese\"],\n",
        "      lenmode=\"pixels\", len=140,\n",
        "))\n",
        "\n",
        "fig.write_image('images/DAIRY.png')\n",
        "fig.show()"
      ],
      "metadata": {
        "colab": {
          "base_uri": "https://localhost:8080/",
          "height": 542
        },
        "id": "UdH75aqPqGC8",
        "outputId": "7045ad4c-7d63-431a-9ac9-7c6c632b91a3"
      },
      "execution_count": 26,
      "outputs": [
        {
          "output_type": "display_data",
          "data": {
            "text/html": [
              "<html>\n",
              "<head><meta charset=\"utf-8\" /></head>\n",
              "<body>\n",
              "    <div>            <script src=\"https://cdnjs.cloudflare.com/ajax/libs/mathjax/2.7.5/MathJax.js?config=TeX-AMS-MML_SVG\"></script><script type=\"text/javascript\">if (window.MathJax) {MathJax.Hub.Config({SVG: {font: \"STIX-Web\"}});}</script>                <script type=\"text/javascript\">window.PlotlyConfig = {MathJaxConfig: 'local'};</script>\n",
              "        <script src=\"https://cdn.plot.ly/plotly-2.8.3.min.js\"></script>                <div id=\"41b9e309-cd8e-40ab-b624-0cb02d88108c\" class=\"plotly-graph-div\" style=\"height:525px; width:100%;\"></div>            <script type=\"text/javascript\">                                    window.PLOTLYENV=window.PLOTLYENV || {};                                    if (document.getElementById(\"41b9e309-cd8e-40ab-b624-0cb02d88108c\")) {                    Plotly.newPlot(                        \"41b9e309-cd8e-40ab-b624-0cb02d88108c\",                        [{\"dimensions\":[{\"label\":\"Energy (Kcal)\",\"values\":[248.0,248.0,248.0,310.0,250.0,290.0,300.0,178.0,178.0,280.0,170.0,170.0,36.8,24.0,273.3333333333333,34.0,71.0,276.6666666666667,74.5,74.5,46.0,50.0,96.66666666666667,98.66666666666667,26.5,35.0,44.0,29.0,62.4,49.2,60.8,316.6666666666667,296.6666666666667,310.0,276.6666666666667,276.6666666666667,276.6666666666667,54.0,72.5,58.5,55.5,58.5,72.5,58.5,67.0,36.0,56.5,39.5,45.5,42.0,40.0,60.0,581.0,581.0,48.5,33.0,49.5,52.0,41.0,48.5,196.66666666666666,143.33333333333334,333.3333333333333,143.33333333333334,394.0,250.0,25.5,49.0,35.0,15.0,29.0,17.6,180.0,10.5,24.0,29.5,42.0,27.5,314.0,285.5,342.00000000000006,314.0,296.6666666666667,37.0,37.0,37.0,37.0,37.0,37.0,37.0,380.0,380.0,380.0,380.0,380.0,39.0,45.0,40.0,28.5,75.0,37.5,50.0,40.0,54.5,14.5,18.0,11.5,41.0,53.0,43.0,20.5,40.0,13.0,13.5,35.5,49.5,53.0,46.5,47.5,240.0,193.33333333333334,236.66666666666666,260.0,253.33333333333334,61.5,54.0,42.0,240.0,380.0,340.0,240.0,313.3333333333333,313.3333333333333,326.6666666666667]},{\"label\":\"Carbohydrate (g)\",\"values\":[10.2,10.2,10.2,6.0,7.0,7.0,7.0,8.7,8.7,23.3,6.0,6.0,1.48,1.36,9.0,0.45,11.0,9.666666666666666,12.0,12.0,3.2,4.1,13.333333333333334,14.0,0.0,0.5,2.0,0.4,4.68,4.4,4.4,30.333333333333332,27.33333333333333,29.333333333333336,7.666666666666666,7.666666666666666,7.666666666666666,6.5,9.0,13.5,10.0,13.5,9.0,13.5,13.5,5.5,3.75,6.0,7.5,8.0,7.6923076923076925,7.5,30.2,30.2,4.2,5.0,8.0,9.0,7.0,4.2,6.666666666666667,4.0,18.0,null,23.0,25.0,3.15,8.5,5.5,0.45,4.25,0.56,0.0,2.35,3.4,3.75,7.5,2.35,18.0,17.0,19.0,18.0,21.333333333333332,7.5,7.5,7.5,7.5,7.5,7.5,7.5,83.33333333333333,83.33333333333333,83.33333333333333,83.33333333333333,83.33333333333333,4.25,1.5,1.55,0.85,9.0,8.0,1.15,1.65,1.55,0.35,0.65,2.0,1.1,1.5,1.5,2.5,6.0,0.5,0.5,5.5,7.0,9.5,8.0,6.0,9.666666666666666,11.666666666666666,9.333333333333334,11.333333333333334,11.333333333333334,2.4,2.7,1.95,6.666666666666667,8.0,25.333333333333332,8.0,18.666666666666668,18.666666666666668,20.666666666666668]},{\"label\":\"Protein (g)\",\"values\":[0.0,0.0,0.0,3.0,3.0,3.0,3.0,8.4,8.4,3.0,4.7,4.7,1.28,1.28,5.0,1.5,0.4,5.0,0.4,0.4,0.45,0.5,0.6666666666666666,0.6666666666666666,1.5,1.5,1.5,1.5,5.6,4.0,5.6,6.666666666666667,6.333333333333333,6.333333333333333,5.333333333333333,5.333333333333333,5.333333333333333,0.55,0.75,0.0,0.0,0.5,0.75,0.0,2.3,0.55,3.5,0.6,0.55,1.0,1.1538461538461537,2.4,18.2,18.2,1.15,1.35,2.05,1.8,1.65,1.15,3.0,2.6666666666666665,9.666666666666666,2.6666666666666665,13.0,5.833333333333333,0.45,0.65,0.45,0.45,0.45,0.64,0.0,0.5,3.4,0.45,0.6,0.0,10.0,9.5,10.5,10.0,0.0,0.0,0.0,0.0,0.0,0.0,0.0,0.0,6.666666666666667,6.666666666666667,6.666666666666667,6.666666666666667,6.666666666666667,1.2,1.5,1.0,0.95,1.5,0.0,3.5,1.05,2.7,0.35,0.65,0.4,0.8,1.5,1.5,0.4,0.75,0.35,0.4,0.55,1.1,1.1,0.55,2.7,3.3333333333333335,3.3333333333333335,3.0,3.3333333333333335,3.0,2.55,1.9,1.4,2.0,3.0,4.666666666666667,2.6666666666666665,0.6666666666666666,0.6666666666666666,0.6666666666666666]},{\"label\":\"Total Fat (g)\",\"values\":[23.06,23.06,23.06,30.0,24.0,28.0,29.0,12.2,12.2,19.7,11.3,11.3,2.56,1.2,24.0,2.9,2.8,24.333333333333332,2.8,2.8,3.5,3.5,4.666666666666667,4.666666666666667,2.2,3.0,3.3,2.4,2.36,2.12,2.16,19.0,18.0,18.333333333333332,25.0,25.0,25.0,2.9,3.75,0.5,1.5,0.5,3.75,0.5,0.4,1.2,3.05,1.35,1.4,0.55,0.5,2.3,43.8,43.8,3.0,0.75,0.95,1.0,0.8,3.0,18.666666666666668,13.666666666666664,28.333333333333332,13.666666666666664,31.0,15.833333333333334,1.25,1.4,1.25,1.25,1.15,1.4,20.0,1.0,1.0,1.4,1.05,1.85,24.500000000000004,22.000000000000004,27.0,245.0,23.333333333333332,0.775,0.775,0.775,0.775,0.775,0.775,0.775,0.0,0.0,0.0,0.0,0.0,null,3.65,3.3,2.35,3.65,0.6,3.5,3.25,4.15,0.85,1.6,0.2,3.8,5.5,3.0,1.0,1.45,1.0,1.05,1.35,1.95,1.85,1.4,1.45,21.333333333333332,4.333333333333333,21.333333333333332,24.0,22.666666666666668,4.65,3.95,3.15,20.0,38.0,26.0,22.0,26.0,26.0,25.333333333333332]},{\"label\":\"Saturated Fat (g)\",\"values\":[2.66,2.66,2.66,5.0,4.0,4.0,4.0,2.2,2.2,1.0,2.7,2.7,1.68,0.8,16.333333333333336,1.05,2.65,16.333333333333336,2.65,2.65,3.3,3.3,4.0,4.0,1.85,1.15,1.45,2.0,1.88,1.6,1.68,2.6666666666666665,2.6666666666666665,2.6666666666666665,16.999999999999996,16.999999999999996,16.999999999999996,0.3,0.4,0.1,0.3,0.1,0.4,0.1,0.1,0.1,0.25,0.15,0.2,0.2,0.15384615384615385,0.2,7.7,7.7,0.5,0.2,0.25,0.25,0.25,0.5,12.666666666666666,9.333333333333334,7.666666666666666,9.333333333333334,5.0,3.3333333333333335,0.0,0.15,0.0,0.0,0.0,0.16,8.666666666666666,0.0,0.0,0.25,0.15,1.65,5.0,4.0,5.500000000000001,5.0,10.333333333333334,0.0,0.0,0.0,0.0,0.0,0.0,0.0,0.0,0.0,0.0,0.0,0.0,0.35,0.7,0.7,0.2,0.75,0.0,0.65,0.7,0.35,0.7,0.1,0.0,0.75,2.25,0.6,0.15,0.25,0.2,0.0,0.0,0.15,0.15,0.0,0.85,4.333333333333333,0.0,29.333333333333336,17.666666666666668,16.666666666666668,0.6,0.75,0.55,3.3333333333333335,5.0,0.6666666666666666,1.3333333333333333,2.6666666666666665,2.6666666666666665,2.6666666666666665]},{\"label\":\"Dietary Fiber (g)\",\"values\":[0.0,0.0,0.0,0.0,0.0,0.0,0.0,0.0,0.0,2.7,2.7,2.7,0.9199999999999999,3.6,0.0,0.4,0.55,0.0,0.55,0.55,1.45,1.45,0.3333333333333333,0.4666666666666667,0.0,0.5,0.4,0.0,1.04,0.16,1.04,1.3333333333333333,1.3333333333333333,1.3333333333333333,0.0,0.0,0.0,1.15,1.6,0.0,0.0,0.3,1.6,0.0,0.4,3.1,0.0,3.15,3.1,3.8,3.8461538461538463,1.35,3.3,3.3,0.0,0.5,0.55,0.5,0.45,0.0,0.6666666666666666,0.6666666666666666,1.6666666666666667,0.6666666666666666,3.0,1.6666666666666667,0.0,0.0,0.0,0.0,0.0,0.0,0.0,0.0,0.0,0.0,0.5,0.0,2.0,2.5,2.0,2.0,0.0,0.0,0.0,0.0,0.0,0.0,0.0,0.0,5.0,5.0,5.0,5.0,5.0,0.0,0.0,0.0,1.0,0.6,0.0,0.45,0.0,0.6,0.2,0.0,0.3,0.5,1.0,1.0,0.0,0.5,0.3,0.3,0.4,1.25,1.1,0.4,0.4,0.0,0.0,0.0,0.0,0.0,0.75,0.0,0.0,1.6666666666666667,0.0,0.0,3.3333333333333335,0.6666666666666666,0.6666666666666666,0.6666666666666666]}],\"domain\":{\"x\":[0.0,1.0],\"y\":[0.0,1.0]},\"line\":{\"color\":[3,3,3,3,3,3,3,3,3,3,3,3,1,1,3,1,2,3,2,2,2,2,2,2,1,1,1,1,2,2,2,3,3,3,3,3,3,1,1,1,1,1,1,1,1,1,1,1,1,1,1,1,3,3,1,1,1,1,1,1,3,3,3,3,3,3,1,1,1,1,1,1,2,1,1,1,1,1,3,3,3,3,3,1,1,1,1,1,1,1,1,1,1,1,1,1,1,1,1,1,1,1,1,1,1,1,1,1,1,1,1,1,1,1,1,1,1,1,1,3,3,3,3,3,1,1,1,3,3,3,3,3,3,3],\"coloraxis\":\"coloraxis\"},\"name\":\"\",\"type\":\"parcoords\"}],                        {\"template\":{\"data\":{\"bar\":[{\"error_x\":{\"color\":\"#2a3f5f\"},\"error_y\":{\"color\":\"#2a3f5f\"},\"marker\":{\"line\":{\"color\":\"#E5ECF6\",\"width\":0.5},\"pattern\":{\"fillmode\":\"overlay\",\"size\":10,\"solidity\":0.2}},\"type\":\"bar\"}],\"barpolar\":[{\"marker\":{\"line\":{\"color\":\"#E5ECF6\",\"width\":0.5},\"pattern\":{\"fillmode\":\"overlay\",\"size\":10,\"solidity\":0.2}},\"type\":\"barpolar\"}],\"carpet\":[{\"aaxis\":{\"endlinecolor\":\"#2a3f5f\",\"gridcolor\":\"white\",\"linecolor\":\"white\",\"minorgridcolor\":\"white\",\"startlinecolor\":\"#2a3f5f\"},\"baxis\":{\"endlinecolor\":\"#2a3f5f\",\"gridcolor\":\"white\",\"linecolor\":\"white\",\"minorgridcolor\":\"white\",\"startlinecolor\":\"#2a3f5f\"},\"type\":\"carpet\"}],\"choropleth\":[{\"colorbar\":{\"outlinewidth\":0,\"ticks\":\"\"},\"type\":\"choropleth\"}],\"contour\":[{\"colorbar\":{\"outlinewidth\":0,\"ticks\":\"\"},\"colorscale\":[[0.0,\"#0d0887\"],[0.1111111111111111,\"#46039f\"],[0.2222222222222222,\"#7201a8\"],[0.3333333333333333,\"#9c179e\"],[0.4444444444444444,\"#bd3786\"],[0.5555555555555556,\"#d8576b\"],[0.6666666666666666,\"#ed7953\"],[0.7777777777777778,\"#fb9f3a\"],[0.8888888888888888,\"#fdca26\"],[1.0,\"#f0f921\"]],\"type\":\"contour\"}],\"contourcarpet\":[{\"colorbar\":{\"outlinewidth\":0,\"ticks\":\"\"},\"type\":\"contourcarpet\"}],\"heatmap\":[{\"colorbar\":{\"outlinewidth\":0,\"ticks\":\"\"},\"colorscale\":[[0.0,\"#0d0887\"],[0.1111111111111111,\"#46039f\"],[0.2222222222222222,\"#7201a8\"],[0.3333333333333333,\"#9c179e\"],[0.4444444444444444,\"#bd3786\"],[0.5555555555555556,\"#d8576b\"],[0.6666666666666666,\"#ed7953\"],[0.7777777777777778,\"#fb9f3a\"],[0.8888888888888888,\"#fdca26\"],[1.0,\"#f0f921\"]],\"type\":\"heatmap\"}],\"heatmapgl\":[{\"colorbar\":{\"outlinewidth\":0,\"ticks\":\"\"},\"colorscale\":[[0.0,\"#0d0887\"],[0.1111111111111111,\"#46039f\"],[0.2222222222222222,\"#7201a8\"],[0.3333333333333333,\"#9c179e\"],[0.4444444444444444,\"#bd3786\"],[0.5555555555555556,\"#d8576b\"],[0.6666666666666666,\"#ed7953\"],[0.7777777777777778,\"#fb9f3a\"],[0.8888888888888888,\"#fdca26\"],[1.0,\"#f0f921\"]],\"type\":\"heatmapgl\"}],\"histogram\":[{\"marker\":{\"pattern\":{\"fillmode\":\"overlay\",\"size\":10,\"solidity\":0.2}},\"type\":\"histogram\"}],\"histogram2d\":[{\"colorbar\":{\"outlinewidth\":0,\"ticks\":\"\"},\"colorscale\":[[0.0,\"#0d0887\"],[0.1111111111111111,\"#46039f\"],[0.2222222222222222,\"#7201a8\"],[0.3333333333333333,\"#9c179e\"],[0.4444444444444444,\"#bd3786\"],[0.5555555555555556,\"#d8576b\"],[0.6666666666666666,\"#ed7953\"],[0.7777777777777778,\"#fb9f3a\"],[0.8888888888888888,\"#fdca26\"],[1.0,\"#f0f921\"]],\"type\":\"histogram2d\"}],\"histogram2dcontour\":[{\"colorbar\":{\"outlinewidth\":0,\"ticks\":\"\"},\"colorscale\":[[0.0,\"#0d0887\"],[0.1111111111111111,\"#46039f\"],[0.2222222222222222,\"#7201a8\"],[0.3333333333333333,\"#9c179e\"],[0.4444444444444444,\"#bd3786\"],[0.5555555555555556,\"#d8576b\"],[0.6666666666666666,\"#ed7953\"],[0.7777777777777778,\"#fb9f3a\"],[0.8888888888888888,\"#fdca26\"],[1.0,\"#f0f921\"]],\"type\":\"histogram2dcontour\"}],\"mesh3d\":[{\"colorbar\":{\"outlinewidth\":0,\"ticks\":\"\"},\"type\":\"mesh3d\"}],\"parcoords\":[{\"line\":{\"colorbar\":{\"outlinewidth\":0,\"ticks\":\"\"}},\"type\":\"parcoords\"}],\"pie\":[{\"automargin\":true,\"type\":\"pie\"}],\"scatter\":[{\"marker\":{\"colorbar\":{\"outlinewidth\":0,\"ticks\":\"\"}},\"type\":\"scatter\"}],\"scatter3d\":[{\"line\":{\"colorbar\":{\"outlinewidth\":0,\"ticks\":\"\"}},\"marker\":{\"colorbar\":{\"outlinewidth\":0,\"ticks\":\"\"}},\"type\":\"scatter3d\"}],\"scattercarpet\":[{\"marker\":{\"colorbar\":{\"outlinewidth\":0,\"ticks\":\"\"}},\"type\":\"scattercarpet\"}],\"scattergeo\":[{\"marker\":{\"colorbar\":{\"outlinewidth\":0,\"ticks\":\"\"}},\"type\":\"scattergeo\"}],\"scattergl\":[{\"marker\":{\"colorbar\":{\"outlinewidth\":0,\"ticks\":\"\"}},\"type\":\"scattergl\"}],\"scattermapbox\":[{\"marker\":{\"colorbar\":{\"outlinewidth\":0,\"ticks\":\"\"}},\"type\":\"scattermapbox\"}],\"scatterpolar\":[{\"marker\":{\"colorbar\":{\"outlinewidth\":0,\"ticks\":\"\"}},\"type\":\"scatterpolar\"}],\"scatterpolargl\":[{\"marker\":{\"colorbar\":{\"outlinewidth\":0,\"ticks\":\"\"}},\"type\":\"scatterpolargl\"}],\"scatterternary\":[{\"marker\":{\"colorbar\":{\"outlinewidth\":0,\"ticks\":\"\"}},\"type\":\"scatterternary\"}],\"surface\":[{\"colorbar\":{\"outlinewidth\":0,\"ticks\":\"\"},\"colorscale\":[[0.0,\"#0d0887\"],[0.1111111111111111,\"#46039f\"],[0.2222222222222222,\"#7201a8\"],[0.3333333333333333,\"#9c179e\"],[0.4444444444444444,\"#bd3786\"],[0.5555555555555556,\"#d8576b\"],[0.6666666666666666,\"#ed7953\"],[0.7777777777777778,\"#fb9f3a\"],[0.8888888888888888,\"#fdca26\"],[1.0,\"#f0f921\"]],\"type\":\"surface\"}],\"table\":[{\"cells\":{\"fill\":{\"color\":\"#EBF0F8\"},\"line\":{\"color\":\"white\"}},\"header\":{\"fill\":{\"color\":\"#C8D4E3\"},\"line\":{\"color\":\"white\"}},\"type\":\"table\"}]},\"layout\":{\"annotationdefaults\":{\"arrowcolor\":\"#2a3f5f\",\"arrowhead\":0,\"arrowwidth\":1},\"autotypenumbers\":\"strict\",\"coloraxis\":{\"colorbar\":{\"outlinewidth\":0,\"ticks\":\"\"}},\"colorscale\":{\"diverging\":[[0,\"#8e0152\"],[0.1,\"#c51b7d\"],[0.2,\"#de77ae\"],[0.3,\"#f1b6da\"],[0.4,\"#fde0ef\"],[0.5,\"#f7f7f7\"],[0.6,\"#e6f5d0\"],[0.7,\"#b8e186\"],[0.8,\"#7fbc41\"],[0.9,\"#4d9221\"],[1,\"#276419\"]],\"sequential\":[[0.0,\"#0d0887\"],[0.1111111111111111,\"#46039f\"],[0.2222222222222222,\"#7201a8\"],[0.3333333333333333,\"#9c179e\"],[0.4444444444444444,\"#bd3786\"],[0.5555555555555556,\"#d8576b\"],[0.6666666666666666,\"#ed7953\"],[0.7777777777777778,\"#fb9f3a\"],[0.8888888888888888,\"#fdca26\"],[1.0,\"#f0f921\"]],\"sequentialminus\":[[0.0,\"#0d0887\"],[0.1111111111111111,\"#46039f\"],[0.2222222222222222,\"#7201a8\"],[0.3333333333333333,\"#9c179e\"],[0.4444444444444444,\"#bd3786\"],[0.5555555555555556,\"#d8576b\"],[0.6666666666666666,\"#ed7953\"],[0.7777777777777778,\"#fb9f3a\"],[0.8888888888888888,\"#fdca26\"],[1.0,\"#f0f921\"]]},\"colorway\":[\"#636efa\",\"#EF553B\",\"#00cc96\",\"#ab63fa\",\"#FFA15A\",\"#19d3f3\",\"#FF6692\",\"#B6E880\",\"#FF97FF\",\"#FECB52\"],\"font\":{\"color\":\"#2a3f5f\"},\"geo\":{\"bgcolor\":\"white\",\"lakecolor\":\"white\",\"landcolor\":\"#E5ECF6\",\"showlakes\":true,\"showland\":true,\"subunitcolor\":\"white\"},\"hoverlabel\":{\"align\":\"left\"},\"hovermode\":\"closest\",\"mapbox\":{\"style\":\"light\"},\"paper_bgcolor\":\"white\",\"plot_bgcolor\":\"#E5ECF6\",\"polar\":{\"angularaxis\":{\"gridcolor\":\"white\",\"linecolor\":\"white\",\"ticks\":\"\"},\"bgcolor\":\"#E5ECF6\",\"radialaxis\":{\"gridcolor\":\"white\",\"linecolor\":\"white\",\"ticks\":\"\"}},\"scene\":{\"xaxis\":{\"backgroundcolor\":\"#E5ECF6\",\"gridcolor\":\"white\",\"gridwidth\":2,\"linecolor\":\"white\",\"showbackground\":true,\"ticks\":\"\",\"zerolinecolor\":\"white\"},\"yaxis\":{\"backgroundcolor\":\"#E5ECF6\",\"gridcolor\":\"white\",\"gridwidth\":2,\"linecolor\":\"white\",\"showbackground\":true,\"ticks\":\"\",\"zerolinecolor\":\"white\"},\"zaxis\":{\"backgroundcolor\":\"#E5ECF6\",\"gridcolor\":\"white\",\"gridwidth\":2,\"linecolor\":\"white\",\"showbackground\":true,\"ticks\":\"\",\"zerolinecolor\":\"white\"}},\"shapedefaults\":{\"line\":{\"color\":\"#2a3f5f\"}},\"ternary\":{\"aaxis\":{\"gridcolor\":\"white\",\"linecolor\":\"white\",\"ticks\":\"\"},\"baxis\":{\"gridcolor\":\"white\",\"linecolor\":\"white\",\"ticks\":\"\"},\"bgcolor\":\"#E5ECF6\",\"caxis\":{\"gridcolor\":\"white\",\"linecolor\":\"white\",\"ticks\":\"\"}},\"title\":{\"x\":0.05},\"xaxis\":{\"automargin\":true,\"gridcolor\":\"white\",\"linecolor\":\"white\",\"ticks\":\"\",\"title\":{\"standoff\":15},\"zerolinecolor\":\"white\",\"zerolinewidth\":2},\"yaxis\":{\"automargin\":true,\"gridcolor\":\"white\",\"linecolor\":\"white\",\"ticks\":\"\",\"title\":{\"standoff\":15},\"zerolinecolor\":\"white\",\"zerolinewidth\":2}}},\"coloraxis\":{\"colorbar\":{\"title\":{\"text\":\"Classification\"},\"tickvals\":[1,2,3],\"ticktext\":[\"Beverages\",\"Yogurts\",\"Cheese\"],\"lenmode\":\"pixels\",\"len\":140},\"colorscale\":[[0.0,\"#636EFA\"],[0.33,\"#636EFA\"],[0.33,\"#EF553B\"],[0.66,\"#EF553B\"],[0.66,\"#00CC96\"],[1.0,\"#00CC96\"]],\"cmin\":0.8,\"cmax\":3.2},\"legend\":{\"tracegroupgap\":0},\"margin\":{\"t\":60}},                        {\"responsive\": true}                    ).then(function(){\n",
              "                            \n",
              "var gd = document.getElementById('41b9e309-cd8e-40ab-b624-0cb02d88108c');\n",
              "var x = new MutationObserver(function (mutations, observer) {{\n",
              "        var display = window.getComputedStyle(gd).display;\n",
              "        if (!display || display === 'none') {{\n",
              "            console.log([gd, 'removed!']);\n",
              "            Plotly.purge(gd);\n",
              "            observer.disconnect();\n",
              "        }}\n",
              "}});\n",
              "\n",
              "// Listen for the removal of the full notebook cells\n",
              "var notebookContainer = gd.closest('#notebook-container');\n",
              "if (notebookContainer) {{\n",
              "    x.observe(notebookContainer, {childList: true});\n",
              "}}\n",
              "\n",
              "// Listen for the clearing of the current output cell\n",
              "var outputEl = gd.closest('.output');\n",
              "if (outputEl) {{\n",
              "    x.observe(outputEl, {childList: true});\n",
              "}}\n",
              "\n",
              "                        })                };                            </script>        </div>\n",
              "</body>\n",
              "</html>"
            ]
          },
          "metadata": {}
        }
      ]
    }
  ]
}