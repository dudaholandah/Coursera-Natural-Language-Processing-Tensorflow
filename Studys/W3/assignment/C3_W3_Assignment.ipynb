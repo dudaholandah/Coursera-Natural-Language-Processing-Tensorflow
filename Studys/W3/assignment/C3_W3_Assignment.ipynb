{
  "nbformat": 4,
  "nbformat_minor": 0,
  "metadata": {
    "accelerator": "GPU",
    "colab": {
      "name": "C3_W3_Assignment.ipynb",
      "provenance": [],
      "toc_visible": true,
      "include_colab_link": true
    },
    "kernelspec": {
      "display_name": "Python 3",
      "language": "python",
      "name": "python3"
    },
    "language_info": {
      "codemirror_mode": {
        "name": "ipython",
        "version": 3
      },
      "file_extension": ".py",
      "mimetype": "text/x-python",
      "name": "python",
      "nbconvert_exporter": "python",
      "pygments_lexer": "ipython3",
      "version": "3.8.5"
    }
  },
  "cells": [
    {
      "cell_type": "markdown",
      "metadata": {
        "id": "view-in-github",
        "colab_type": "text"
      },
      "source": [
        "<a href=\"https://colab.research.google.com/github/dudaholandah/PIBIC/blob/main/C3/W3/assignment/C3_W3_Assignment.ipynb\" target=\"_parent\"><img src=\"https://colab.research.google.com/assets/colab-badge.svg\" alt=\"Open In Colab\"/></a>"
      ]
    },
    {
      "cell_type": "code",
      "metadata": {
        "id": "zX4Kg8DUTKWO"
      },
      "source": [
        "#@title Licensed under the Apache License, Version 2.0 (the \"License\");\n",
        "# you may not use this file except in compliance with the License.\n",
        "# You may obtain a copy of the License at\n",
        "#\n",
        "# https://www.apache.org/licenses/LICENSE-2.0\n",
        "#\n",
        "# Unless required by applicable law or agreed to in writing, software\n",
        "# distributed under the License is distributed on an \"AS IS\" BASIS,\n",
        "# WITHOUT WARRANTIES OR CONDITIONS OF ANY KIND, either express or implied.\n",
        "# See the License for the specific language governing permissions and\n",
        "# limitations under the License."
      ],
      "execution_count": null,
      "outputs": []
    },
    {
      "cell_type": "markdown",
      "metadata": {
        "id": "gnU1TV9kV5f9"
      },
      "source": [
        "**Note:** This notebook can run using TensorFlow 2.5.0"
      ]
    },
    {
      "cell_type": "code",
      "metadata": {
        "id": "qTZDRvo5V5f9",
        "colab": {
          "base_uri": "https://localhost:8080/"
        },
        "outputId": "ea83dc16-77f2-4530-de01-630bf8dd2478"
      },
      "source": [
        "!pip install tensorflow==2.5.0"
      ],
      "execution_count": null,
      "outputs": [
        {
          "output_type": "stream",
          "name": "stdout",
          "text": [
            "Requirement already satisfied: tensorflow==2.5.0 in /usr/local/lib/python3.7/dist-packages (2.5.0)\n",
            "Requirement already satisfied: flatbuffers~=1.12.0 in /usr/local/lib/python3.7/dist-packages (from tensorflow==2.5.0) (1.12)\n",
            "Requirement already satisfied: h5py~=3.1.0 in /usr/local/lib/python3.7/dist-packages (from tensorflow==2.5.0) (3.1.0)\n",
            "Requirement already satisfied: keras-nightly~=2.5.0.dev in /usr/local/lib/python3.7/dist-packages (from tensorflow==2.5.0) (2.5.0.dev2021032900)\n",
            "Requirement already satisfied: google-pasta~=0.2 in /usr/local/lib/python3.7/dist-packages (from tensorflow==2.5.0) (0.2.0)\n",
            "Requirement already satisfied: wheel~=0.35 in /usr/local/lib/python3.7/dist-packages (from tensorflow==2.5.0) (0.37.0)\n",
            "Requirement already satisfied: keras-preprocessing~=1.1.2 in /usr/local/lib/python3.7/dist-packages (from tensorflow==2.5.0) (1.1.2)\n",
            "Requirement already satisfied: six~=1.15.0 in /usr/local/lib/python3.7/dist-packages (from tensorflow==2.5.0) (1.15.0)\n",
            "Requirement already satisfied: absl-py~=0.10 in /usr/local/lib/python3.7/dist-packages (from tensorflow==2.5.0) (0.12.0)\n",
            "Requirement already satisfied: opt-einsum~=3.3.0 in /usr/local/lib/python3.7/dist-packages (from tensorflow==2.5.0) (3.3.0)\n",
            "Requirement already satisfied: protobuf>=3.9.2 in /usr/local/lib/python3.7/dist-packages (from tensorflow==2.5.0) (3.17.3)\n",
            "Requirement already satisfied: tensorflow-estimator<2.6.0,>=2.5.0rc0 in /usr/local/lib/python3.7/dist-packages (from tensorflow==2.5.0) (2.5.0)\n",
            "Requirement already satisfied: tensorboard~=2.5 in /usr/local/lib/python3.7/dist-packages (from tensorflow==2.5.0) (2.7.0)\n",
            "Requirement already satisfied: wrapt~=1.12.1 in /usr/local/lib/python3.7/dist-packages (from tensorflow==2.5.0) (1.12.1)\n",
            "Requirement already satisfied: gast==0.4.0 in /usr/local/lib/python3.7/dist-packages (from tensorflow==2.5.0) (0.4.0)\n",
            "Requirement already satisfied: grpcio~=1.34.0 in /usr/local/lib/python3.7/dist-packages (from tensorflow==2.5.0) (1.34.1)\n",
            "Requirement already satisfied: termcolor~=1.1.0 in /usr/local/lib/python3.7/dist-packages (from tensorflow==2.5.0) (1.1.0)\n",
            "Requirement already satisfied: typing-extensions~=3.7.4 in /usr/local/lib/python3.7/dist-packages (from tensorflow==2.5.0) (3.7.4.3)\n",
            "Requirement already satisfied: numpy~=1.19.2 in /usr/local/lib/python3.7/dist-packages (from tensorflow==2.5.0) (1.19.5)\n",
            "Requirement already satisfied: astunparse~=1.6.3 in /usr/local/lib/python3.7/dist-packages (from tensorflow==2.5.0) (1.6.3)\n",
            "Requirement already satisfied: cached-property in /usr/local/lib/python3.7/dist-packages (from h5py~=3.1.0->tensorflow==2.5.0) (1.5.2)\n",
            "Requirement already satisfied: requests<3,>=2.21.0 in /usr/local/lib/python3.7/dist-packages (from tensorboard~=2.5->tensorflow==2.5.0) (2.23.0)\n",
            "Requirement already satisfied: tensorboard-data-server<0.7.0,>=0.6.0 in /usr/local/lib/python3.7/dist-packages (from tensorboard~=2.5->tensorflow==2.5.0) (0.6.1)\n",
            "Requirement already satisfied: google-auth-oauthlib<0.5,>=0.4.1 in /usr/local/lib/python3.7/dist-packages (from tensorboard~=2.5->tensorflow==2.5.0) (0.4.6)\n",
            "Requirement already satisfied: werkzeug>=0.11.15 in /usr/local/lib/python3.7/dist-packages (from tensorboard~=2.5->tensorflow==2.5.0) (1.0.1)\n",
            "Requirement already satisfied: markdown>=2.6.8 in /usr/local/lib/python3.7/dist-packages (from tensorboard~=2.5->tensorflow==2.5.0) (3.3.6)\n",
            "Requirement already satisfied: setuptools>=41.0.0 in /usr/local/lib/python3.7/dist-packages (from tensorboard~=2.5->tensorflow==2.5.0) (57.4.0)\n",
            "Requirement already satisfied: tensorboard-plugin-wit>=1.6.0 in /usr/local/lib/python3.7/dist-packages (from tensorboard~=2.5->tensorflow==2.5.0) (1.8.0)\n",
            "Requirement already satisfied: google-auth<3,>=1.6.3 in /usr/local/lib/python3.7/dist-packages (from tensorboard~=2.5->tensorflow==2.5.0) (1.35.0)\n",
            "Requirement already satisfied: rsa<5,>=3.1.4 in /usr/local/lib/python3.7/dist-packages (from google-auth<3,>=1.6.3->tensorboard~=2.5->tensorflow==2.5.0) (4.8)\n",
            "Requirement already satisfied: pyasn1-modules>=0.2.1 in /usr/local/lib/python3.7/dist-packages (from google-auth<3,>=1.6.3->tensorboard~=2.5->tensorflow==2.5.0) (0.2.8)\n",
            "Requirement already satisfied: cachetools<5.0,>=2.0.0 in /usr/local/lib/python3.7/dist-packages (from google-auth<3,>=1.6.3->tensorboard~=2.5->tensorflow==2.5.0) (4.2.4)\n",
            "Requirement already satisfied: requests-oauthlib>=0.7.0 in /usr/local/lib/python3.7/dist-packages (from google-auth-oauthlib<0.5,>=0.4.1->tensorboard~=2.5->tensorflow==2.5.0) (1.3.0)\n",
            "Requirement already satisfied: importlib-metadata>=4.4 in /usr/local/lib/python3.7/dist-packages (from markdown>=2.6.8->tensorboard~=2.5->tensorflow==2.5.0) (4.8.2)\n",
            "Requirement already satisfied: zipp>=0.5 in /usr/local/lib/python3.7/dist-packages (from importlib-metadata>=4.4->markdown>=2.6.8->tensorboard~=2.5->tensorflow==2.5.0) (3.6.0)\n",
            "Requirement already satisfied: pyasn1<0.5.0,>=0.4.6 in /usr/local/lib/python3.7/dist-packages (from pyasn1-modules>=0.2.1->google-auth<3,>=1.6.3->tensorboard~=2.5->tensorflow==2.5.0) (0.4.8)\n",
            "Requirement already satisfied: certifi>=2017.4.17 in /usr/local/lib/python3.7/dist-packages (from requests<3,>=2.21.0->tensorboard~=2.5->tensorflow==2.5.0) (2021.10.8)\n",
            "Requirement already satisfied: idna<3,>=2.5 in /usr/local/lib/python3.7/dist-packages (from requests<3,>=2.21.0->tensorboard~=2.5->tensorflow==2.5.0) (2.10)\n",
            "Requirement already satisfied: urllib3!=1.25.0,!=1.25.1,<1.26,>=1.21.1 in /usr/local/lib/python3.7/dist-packages (from requests<3,>=2.21.0->tensorboard~=2.5->tensorflow==2.5.0) (1.24.3)\n",
            "Requirement already satisfied: chardet<4,>=3.0.2 in /usr/local/lib/python3.7/dist-packages (from requests<3,>=2.21.0->tensorboard~=2.5->tensorflow==2.5.0) (3.0.4)\n",
            "Requirement already satisfied: oauthlib>=3.0.0 in /usr/local/lib/python3.7/dist-packages (from requests-oauthlib>=0.7.0->google-auth-oauthlib<0.5,>=0.4.1->tensorboard~=2.5->tensorflow==2.5.0) (3.1.1)\n"
          ]
        }
      ]
    },
    {
      "cell_type": "code",
      "metadata": {
        "id": "hmA6EzkQJ5jt"
      },
      "source": [
        "import json\n",
        "import tensorflow as tf\n",
        "import csv\n",
        "import random\n",
        "import numpy as np\n",
        "\n",
        "from tensorflow.keras.preprocessing.text import Tokenizer\n",
        "from tensorflow.keras.preprocessing.sequence import pad_sequences\n",
        "from tensorflow.keras.utils import to_categorical\n",
        "from tensorflow.keras import regularizers\n",
        "\n",
        "\n",
        "embedding_dim = 100\n",
        "max_length = 16\n",
        "trunc_type='post'\n",
        "padding_type='post'\n",
        "oov_tok = \"<OOV>\"\n",
        "training_size= 160000 #Your dataset size here. Experiment using smaller values (i.e. 16000), but don't forget to train on at least 160000 to see the best effects\n",
        "test_portion=.1\n",
        "\n",
        "corpus = []\n"
      ],
      "execution_count": 2,
      "outputs": []
    },
    {
      "cell_type": "code",
      "metadata": {
        "id": "bM0l_dORKqE0",
        "colab": {
          "base_uri": "https://localhost:8080/"
        },
        "outputId": "4e1c3329-a3ae-47ca-a75c-2eb5883c9f86"
      },
      "source": [
        "# Note that I cleaned the Stanford dataset to remove LATIN1 encoding to make it easier for Python CSV reader\n",
        "# You can do that yourself with:\n",
        "# iconv -f LATIN1 -t UTF8 training.1600000.processed.noemoticon.csv -o training_cleaned.csv\n",
        "\n",
        "# training_cleaned.csv\n",
        "!gdown --id 1wd8KaeCSHxt-nEpMeuHFSNWrDp8joUXJ\n",
        "\n",
        "num_sentences = 0\n",
        "\n",
        "with open(\"./training_cleaned.csv\") as csvfile:\n",
        "    reader = csv.reader(csvfile, delimiter=',')\n",
        "    for row in reader:\n",
        "        list_item=[]\n",
        "\n",
        "        ### START CODE HERE\n",
        "        list_item.append(row[5])\n",
        "        if row[0] == '0':\n",
        "          list_item.append(0)\n",
        "        else:\n",
        "          list_item.append(1)\n",
        "        ### END CODE HERE\n",
        "        \n",
        "        num_sentences = num_sentences + 1\n",
        "        corpus.append(list_item)\n"
      ],
      "execution_count": 3,
      "outputs": [
        {
          "output_type": "stream",
          "name": "stdout",
          "text": [
            "Downloading...\n",
            "From: https://drive.google.com/uc?id=1wd8KaeCSHxt-nEpMeuHFSNWrDp8joUXJ\n",
            "To: /content/training_cleaned.csv\n",
            "100% 239M/239M [00:01<00:00, 161MB/s]\n"
          ]
        }
      ]
    },
    {
      "cell_type": "code",
      "metadata": {
        "id": "3kxblBUjEUX-",
        "colab": {
          "base_uri": "https://localhost:8080/"
        },
        "outputId": "282989aa-2c1f-49f6-a2d6-3b9a32db6d60"
      },
      "source": [
        "print(num_sentences)\n",
        "print(len(corpus))\n",
        "print(corpus[1])\n",
        "\n",
        "# Expected Output:\n",
        "# 1600000\n",
        "# 1600000\n",
        "# [\"is upset that he can't update his Facebook by texting it... and might cry as a result  School today also. Blah!\", 0]"
      ],
      "execution_count": 4,
      "outputs": [
        {
          "output_type": "stream",
          "name": "stdout",
          "text": [
            "1600000\n",
            "1600000\n",
            "[\"is upset that he can't update his Facebook by texting it... and might cry as a result  School today also. Blah!\", 0]\n"
          ]
        }
      ]
    },
    {
      "cell_type": "code",
      "metadata": {
        "id": "ohOGz24lsNAD"
      },
      "source": [
        "sentences=[]\n",
        "labels=[]\n",
        "random.shuffle(corpus)\n",
        "for x in range(training_size):\n",
        "    sentences.append(corpus[x][0])\n",
        "    labels.append(corpus[x][1])\n",
        "\n",
        "\n",
        "tokenizer = Tokenizer()\n",
        "tokenizer.fit_on_texts(sentences) # YOUR CODE HERE\n",
        "\n",
        "word_index = tokenizer.word_index\n",
        "vocab_size=len(word_index)  # YOUR CODE HERE\n",
        "\n",
        "sequences = tokenizer.texts_to_sequences(sentences) # YOUR CODE HERE\n",
        "padded = pad_sequences(sequences, maxlen=max_length, padding=padding_type, truncating=trunc_type)  # YOUR CODE HERE\n",
        "\n",
        "split = int(test_portion * training_size)\n",
        "\n",
        "test_sequences = padded[0:split]  # YOUR CODE HERE\n",
        "training_sequences = padded[split:training_size] # YOUR CODE HERE\n",
        "test_labels = labels[0:split]  # YOUR CODE HERE\n",
        "training_labels = labels[split:training_size]  # YOUR CODE HERE"
      ],
      "execution_count": 5,
      "outputs": []
    },
    {
      "cell_type": "code",
      "metadata": {
        "id": "gIrtRem1En3N",
        "colab": {
          "base_uri": "https://localhost:8080/"
        },
        "outputId": "95565b33-ff06-428d-b978-b82f5333d0f3"
      },
      "source": [
        "print(vocab_size)\n",
        "print(word_index['i'])\n",
        "\n",
        "# Expected Output\n",
        "# 138856\n",
        "# 1"
      ],
      "execution_count": 6,
      "outputs": [
        {
          "output_type": "stream",
          "name": "stdout",
          "text": [
            "138303\n",
            "1\n"
          ]
        }
      ]
    },
    {
      "cell_type": "code",
      "metadata": {
        "id": "C1zdgJkusRh0",
        "colab": {
          "base_uri": "https://localhost:8080/"
        },
        "outputId": "c938e99b-8d04-420c-cf8c-3dad458591a3"
      },
      "source": [
        "# Note this is the 100 dimension version of GloVe from Stanford\n",
        "\n",
        "# glove.6B.100d.txt\n",
        "!gdown --id 1W5vZy2etitAblLdFn8_DxnsQKzfFJ98g\n",
        "\n",
        "embeddings_index = {};\n",
        "with open('./glove.6B.100d.txt') as f:\n",
        "    for line in f:\n",
        "        values = line.split();\n",
        "        word = values[0];\n",
        "        coefs = np.asarray(values[1:], dtype='float32');\n",
        "        embeddings_index[word] = coefs;\n",
        "\n",
        "embeddings_matrix = np.zeros((vocab_size+1, embedding_dim));\n",
        "for word, i in word_index.items():\n",
        "    embedding_vector = embeddings_index.get(word);\n",
        "    if embedding_vector is not None:\n",
        "        embeddings_matrix[i] = embedding_vector;"
      ],
      "execution_count": 7,
      "outputs": [
        {
          "output_type": "stream",
          "name": "stdout",
          "text": [
            "Downloading...\n",
            "From: https://drive.google.com/uc?id=1W5vZy2etitAblLdFn8_DxnsQKzfFJ98g\n",
            "To: /content/glove.6B.100d.txt\n",
            "100% 347M/347M [00:02<00:00, 171MB/s]\n"
          ]
        }
      ]
    },
    {
      "cell_type": "code",
      "metadata": {
        "id": "71NLk_lpFLNt",
        "colab": {
          "base_uri": "https://localhost:8080/"
        },
        "outputId": "970e4361-e708-4e01-ebfa-2e4c20223132"
      },
      "source": [
        "print(len(embeddings_matrix))\n",
        "# Expected Output\n",
        "# 138857"
      ],
      "execution_count": 8,
      "outputs": [
        {
          "output_type": "stream",
          "name": "stdout",
          "text": [
            "138304\n"
          ]
        }
      ]
    },
    {
      "cell_type": "code",
      "metadata": {
        "id": "iKKvbuEBOGFz",
        "colab": {
          "base_uri": "https://localhost:8080/"
        },
        "outputId": "13333351-eeb6-4403-bdbf-7b21ffa708d6"
      },
      "source": [
        "model = tf.keras.Sequential([\n",
        "    tf.keras.layers.Embedding(vocab_size+1, embedding_dim, input_length=max_length, weights=[embeddings_matrix], trainable=False),\n",
        "    tf.keras.layers.Bidirectional(tf.keras.layers.LSTM(64, return_sequences=True)),\n",
        "    tf.keras.layers.Bidirectional(tf.keras.layers.LSTM(32)),\n",
        "    tf.keras.layers.Dense(64, activation='relu'),\n",
        "    tf.keras.layers.Dense(1, activation='sigmoid')\n",
        "    # YOUR CODE HERE - experiment with combining different types, such as convolutions and LSTMs\n",
        "])\n",
        "\n",
        "model.compile(loss='binary_crossentropy', optimizer='adam', metrics=['accuracy'])\n",
        "model.summary()\n",
        "\n",
        "num_epochs = 50\n",
        "\n",
        "training_padded = np.array(training_sequences)\n",
        "training_labels = np.array(training_labels)\n",
        "testing_padded = np.array(test_sequences)\n",
        "testing_labels = np.array(test_labels)\n",
        "\n",
        "history = model.fit(training_padded, training_labels, epochs=num_epochs, validation_data=(testing_padded, testing_labels), verbose=2)\n",
        "\n",
        "print(\"Training Complete\")\n"
      ],
      "execution_count": 10,
      "outputs": [
        {
          "output_type": "stream",
          "name": "stdout",
          "text": [
            "Model: \"sequential_1\"\n",
            "_________________________________________________________________\n",
            " Layer (type)                Output Shape              Param #   \n",
            "=================================================================\n",
            " embedding_1 (Embedding)     (None, 16, 100)           13830400  \n",
            "                                                                 \n",
            " bidirectional_2 (Bidirectio  (None, 16, 128)          84480     \n",
            " nal)                                                            \n",
            "                                                                 \n",
            " bidirectional_3 (Bidirectio  (None, 64)               41216     \n",
            " nal)                                                            \n",
            "                                                                 \n",
            " dense_1 (Dense)             (None, 64)                4160      \n",
            "                                                                 \n",
            " dense_2 (Dense)             (None, 1)                 65        \n",
            "                                                                 \n",
            "=================================================================\n",
            "Total params: 13,960,321\n",
            "Trainable params: 129,921\n",
            "Non-trainable params: 13,830,400\n",
            "_________________________________________________________________\n",
            "Epoch 1/50\n",
            "4500/4500 - 102s - loss: 0.5327 - accuracy: 0.7279 - val_loss: 0.5090 - val_accuracy: 0.7490 - 102s/epoch - 23ms/step\n",
            "Epoch 2/50\n",
            "4500/4500 - 93s - loss: 0.4797 - accuracy: 0.7662 - val_loss: 0.4799 - val_accuracy: 0.7668 - 93s/epoch - 21ms/step\n",
            "Epoch 3/50\n",
            "4500/4500 - 93s - loss: 0.4532 - accuracy: 0.7838 - val_loss: 0.4730 - val_accuracy: 0.7716 - 93s/epoch - 21ms/step\n",
            "Epoch 4/50\n",
            "4500/4500 - 91s - loss: 0.4307 - accuracy: 0.7975 - val_loss: 0.4691 - val_accuracy: 0.7768 - 91s/epoch - 20ms/step\n",
            "Epoch 5/50\n",
            "4500/4500 - 91s - loss: 0.4079 - accuracy: 0.8102 - val_loss: 0.4872 - val_accuracy: 0.7742 - 91s/epoch - 20ms/step\n",
            "Epoch 6/50\n",
            "4500/4500 - 91s - loss: 0.3841 - accuracy: 0.8230 - val_loss: 0.4884 - val_accuracy: 0.7736 - 91s/epoch - 20ms/step\n",
            "Epoch 7/50\n",
            "4500/4500 - 91s - loss: 0.3591 - accuracy: 0.8364 - val_loss: 0.5170 - val_accuracy: 0.7707 - 91s/epoch - 20ms/step\n",
            "Epoch 8/50\n",
            "4500/4500 - 91s - loss: 0.3329 - accuracy: 0.8511 - val_loss: 0.5568 - val_accuracy: 0.7599 - 91s/epoch - 20ms/step\n",
            "Epoch 9/50\n",
            "4500/4500 - 95s - loss: 0.3066 - accuracy: 0.8638 - val_loss: 0.5712 - val_accuracy: 0.7636 - 95s/epoch - 21ms/step\n",
            "Epoch 10/50\n",
            "4500/4500 - 95s - loss: 0.2818 - accuracy: 0.8759 - val_loss: 0.6343 - val_accuracy: 0.7636 - 95s/epoch - 21ms/step\n",
            "Epoch 11/50\n",
            "4500/4500 - 93s - loss: 0.2567 - accuracy: 0.8878 - val_loss: 0.6910 - val_accuracy: 0.7572 - 93s/epoch - 21ms/step\n",
            "Epoch 12/50\n",
            "4500/4500 - 93s - loss: 0.2350 - accuracy: 0.8973 - val_loss: 0.7365 - val_accuracy: 0.7560 - 93s/epoch - 21ms/step\n",
            "Epoch 13/50\n",
            "4500/4500 - 93s - loss: 0.2144 - accuracy: 0.9082 - val_loss: 0.8042 - val_accuracy: 0.7516 - 93s/epoch - 21ms/step\n",
            "Epoch 14/50\n",
            "4500/4500 - 93s - loss: 0.1966 - accuracy: 0.9158 - val_loss: 0.8625 - val_accuracy: 0.7527 - 93s/epoch - 21ms/step\n",
            "Epoch 15/50\n",
            "4500/4500 - 91s - loss: 0.1824 - accuracy: 0.9211 - val_loss: 0.9475 - val_accuracy: 0.7486 - 91s/epoch - 20ms/step\n",
            "Epoch 16/50\n",
            "4500/4500 - 92s - loss: 0.1676 - accuracy: 0.9289 - val_loss: 1.0251 - val_accuracy: 0.7470 - 92s/epoch - 21ms/step\n",
            "Epoch 17/50\n",
            "4500/4500 - 89s - loss: 0.1587 - accuracy: 0.9339 - val_loss: 1.0405 - val_accuracy: 0.7437 - 89s/epoch - 20ms/step\n",
            "Epoch 18/50\n",
            "4500/4500 - 90s - loss: 0.1470 - accuracy: 0.9386 - val_loss: 1.1295 - val_accuracy: 0.7445 - 90s/epoch - 20ms/step\n",
            "Epoch 19/50\n",
            "4500/4500 - 91s - loss: 0.1381 - accuracy: 0.9425 - val_loss: 1.1333 - val_accuracy: 0.7451 - 91s/epoch - 20ms/step\n",
            "Epoch 20/50\n",
            "4500/4500 - 90s - loss: 0.1294 - accuracy: 0.9468 - val_loss: 1.2123 - val_accuracy: 0.7430 - 90s/epoch - 20ms/step\n",
            "Epoch 21/50\n",
            "4500/4500 - 90s - loss: 0.1240 - accuracy: 0.9488 - val_loss: 1.2668 - val_accuracy: 0.7446 - 90s/epoch - 20ms/step\n",
            "Epoch 22/50\n",
            "4500/4500 - 90s - loss: 0.1168 - accuracy: 0.9521 - val_loss: 1.2425 - val_accuracy: 0.7432 - 90s/epoch - 20ms/step\n",
            "Epoch 23/50\n",
            "4500/4500 - 91s - loss: 0.1119 - accuracy: 0.9545 - val_loss: 1.3220 - val_accuracy: 0.7430 - 91s/epoch - 20ms/step\n",
            "Epoch 24/50\n",
            "4500/4500 - 90s - loss: 0.1066 - accuracy: 0.9572 - val_loss: 1.3666 - val_accuracy: 0.7385 - 90s/epoch - 20ms/step\n",
            "Epoch 25/50\n",
            "4500/4500 - 89s - loss: 0.1020 - accuracy: 0.9590 - val_loss: 1.3995 - val_accuracy: 0.7436 - 89s/epoch - 20ms/step\n",
            "Epoch 26/50\n",
            "4500/4500 - 92s - loss: 0.0967 - accuracy: 0.9612 - val_loss: 1.4384 - val_accuracy: 0.7391 - 92s/epoch - 20ms/step\n",
            "Epoch 27/50\n",
            "4500/4500 - 92s - loss: 0.0967 - accuracy: 0.9612 - val_loss: 1.4685 - val_accuracy: 0.7441 - 92s/epoch - 20ms/step\n",
            "Epoch 28/50\n",
            "4500/4500 - 89s - loss: 0.0898 - accuracy: 0.9644 - val_loss: 1.4513 - val_accuracy: 0.7375 - 89s/epoch - 20ms/step\n",
            "Epoch 29/50\n",
            "4500/4500 - 90s - loss: 0.0888 - accuracy: 0.9649 - val_loss: 1.4664 - val_accuracy: 0.7345 - 90s/epoch - 20ms/step\n",
            "Epoch 30/50\n",
            "4500/4500 - 89s - loss: 0.0859 - accuracy: 0.9663 - val_loss: 1.4920 - val_accuracy: 0.7380 - 89s/epoch - 20ms/step\n",
            "Epoch 31/50\n",
            "4500/4500 - 93s - loss: 0.0830 - accuracy: 0.9672 - val_loss: 1.5591 - val_accuracy: 0.7383 - 93s/epoch - 21ms/step\n",
            "Epoch 32/50\n",
            "4500/4500 - 91s - loss: 0.0819 - accuracy: 0.9676 - val_loss: 1.5220 - val_accuracy: 0.7361 - 91s/epoch - 20ms/step\n",
            "Epoch 33/50\n",
            "4500/4500 - 90s - loss: 0.0777 - accuracy: 0.9697 - val_loss: 1.5500 - val_accuracy: 0.7389 - 90s/epoch - 20ms/step\n",
            "Epoch 34/50\n",
            "4500/4500 - 89s - loss: 0.0768 - accuracy: 0.9698 - val_loss: 1.6467 - val_accuracy: 0.7401 - 89s/epoch - 20ms/step\n",
            "Epoch 35/50\n",
            "4500/4500 - 89s - loss: 0.0758 - accuracy: 0.9704 - val_loss: 1.5715 - val_accuracy: 0.7426 - 89s/epoch - 20ms/step\n",
            "Epoch 36/50\n",
            "4500/4500 - 90s - loss: 0.0728 - accuracy: 0.9717 - val_loss: 1.6008 - val_accuracy: 0.7416 - 90s/epoch - 20ms/step\n",
            "Epoch 37/50\n",
            "4500/4500 - 90s - loss: 0.0728 - accuracy: 0.9719 - val_loss: 1.6207 - val_accuracy: 0.7413 - 90s/epoch - 20ms/step\n",
            "Epoch 38/50\n",
            "4500/4500 - 90s - loss: 0.0704 - accuracy: 0.9729 - val_loss: 1.6580 - val_accuracy: 0.7387 - 90s/epoch - 20ms/step\n",
            "Epoch 39/50\n",
            "4500/4500 - 91s - loss: 0.0705 - accuracy: 0.9724 - val_loss: 1.6575 - val_accuracy: 0.7381 - 91s/epoch - 20ms/step\n",
            "Epoch 40/50\n",
            "4500/4500 - 90s - loss: 0.0684 - accuracy: 0.9739 - val_loss: 1.6715 - val_accuracy: 0.7379 - 90s/epoch - 20ms/step\n",
            "Epoch 41/50\n",
            "4500/4500 - 90s - loss: 0.0672 - accuracy: 0.9744 - val_loss: 1.7008 - val_accuracy: 0.7424 - 90s/epoch - 20ms/step\n",
            "Epoch 42/50\n",
            "4500/4500 - 90s - loss: 0.0653 - accuracy: 0.9747 - val_loss: 1.7290 - val_accuracy: 0.7383 - 90s/epoch - 20ms/step\n",
            "Epoch 43/50\n",
            "4500/4500 - 90s - loss: 0.0639 - accuracy: 0.9751 - val_loss: 1.7660 - val_accuracy: 0.7376 - 90s/epoch - 20ms/step\n",
            "Epoch 44/50\n",
            "4500/4500 - 91s - loss: 0.0651 - accuracy: 0.9752 - val_loss: 1.7149 - val_accuracy: 0.7395 - 91s/epoch - 20ms/step\n",
            "Epoch 45/50\n",
            "4500/4500 - 91s - loss: 0.0625 - accuracy: 0.9759 - val_loss: 1.6715 - val_accuracy: 0.7370 - 91s/epoch - 20ms/step\n",
            "Epoch 46/50\n",
            "4500/4500 - 91s - loss: 0.0624 - accuracy: 0.9766 - val_loss: 1.7508 - val_accuracy: 0.7424 - 91s/epoch - 20ms/step\n",
            "Epoch 47/50\n",
            "4500/4500 - 89s - loss: 0.0619 - accuracy: 0.9764 - val_loss: 1.7323 - val_accuracy: 0.7407 - 89s/epoch - 20ms/step\n",
            "Epoch 48/50\n",
            "4500/4500 - 91s - loss: 0.0597 - accuracy: 0.9769 - val_loss: 1.6871 - val_accuracy: 0.7425 - 91s/epoch - 20ms/step\n",
            "Epoch 49/50\n",
            "4500/4500 - 91s - loss: 0.0600 - accuracy: 0.9768 - val_loss: 1.7056 - val_accuracy: 0.7394 - 91s/epoch - 20ms/step\n",
            "Epoch 50/50\n",
            "4500/4500 - 91s - loss: 0.0593 - accuracy: 0.9772 - val_loss: 1.7407 - val_accuracy: 0.7396 - 91s/epoch - 20ms/step\n",
            "Training Complete\n"
          ]
        }
      ]
    },
    {
      "cell_type": "code",
      "metadata": {
        "id": "qxju4ItJKO8F",
        "colab": {
          "base_uri": "https://localhost:8080/",
          "height": 610
        },
        "outputId": "875f0b0e-7110-49ea-f19f-750a9b832365"
      },
      "source": [
        "import matplotlib.image  as mpimg\n",
        "import matplotlib.pyplot as plt\n",
        "\n",
        "#-----------------------------------------------------------\n",
        "# Retrieve a list of list results on training and test data\n",
        "# sets for each training epoch\n",
        "#-----------------------------------------------------------\n",
        "acc=history.history['accuracy']\n",
        "val_acc=history.history['val_accuracy']\n",
        "loss=history.history['loss']\n",
        "val_loss=history.history['val_loss']\n",
        "\n",
        "epochs=range(len(acc)) # Get number of epochs\n",
        "\n",
        "#------------------------------------------------\n",
        "# Plot training and validation accuracy per epoch\n",
        "#------------------------------------------------\n",
        "plt.plot(epochs, acc, 'r')\n",
        "plt.plot(epochs, val_acc, 'b')\n",
        "plt.title('Training and validation accuracy')\n",
        "plt.xlabel(\"Epochs\")\n",
        "plt.ylabel(\"Accuracy\")\n",
        "plt.legend([\"Accuracy\", \"Validation Accuracy\"])\n",
        "\n",
        "plt.figure()\n",
        "\n",
        "#------------------------------------------------\n",
        "# Plot training and validation loss per epoch\n",
        "#------------------------------------------------\n",
        "plt.plot(epochs, loss, 'r')\n",
        "plt.plot(epochs, val_loss, 'b')\n",
        "plt.title('Training and validation loss')\n",
        "plt.xlabel(\"Epochs\")\n",
        "plt.ylabel(\"Loss\")\n",
        "plt.legend([\"Loss\", \"Validation Loss\"])\n",
        "\n",
        "plt.figure()\n",
        "\n",
        "\n",
        "# Expected Output\n",
        "# A chart where the validation loss does not increase sharply!"
      ],
      "execution_count": 11,
      "outputs": [
        {
          "output_type": "execute_result",
          "data": {
            "text/plain": [
              "<Figure size 432x288 with 0 Axes>"
            ]
          },
          "metadata": {},
          "execution_count": 11
        },
        {
          "output_type": "display_data",
          "data": {
            "image/png": "[encoded data removed]",
            "text/plain": [
              "<Figure size 432x288 with 1 Axes>"
            ]
          },
          "metadata": {
            "needs_background": "light"
          }
        },
        {
          "output_type": "display_data",
          "data": {
            "image/png": "[encoded data removed]",
            "text/plain": [
              "<Figure size 432x288 with 1 Axes>"
            ]
          },
          "metadata": {
            "needs_background": "light"
          }
        },
        {
          "output_type": "display_data",
          "data": {
            "text/plain": [
              "<Figure size 432x288 with 0 Axes>"
            ]
          },
          "metadata": {}
        }
      ]
    }
  ]
}