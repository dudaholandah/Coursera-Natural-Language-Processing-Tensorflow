{
  "nbformat": 4,
  "nbformat_minor": 0,
  "metadata": {
    "colab": {
      "name": "corgis_visualization_evaluation.ipynb",
      "provenance": [],
      "collapsed_sections": [],
      "include_colab_link": true
    },
    "kernelspec": {
      "display_name": "Python 3",
      "language": "python",
      "name": "python3"
    },
    "language_info": {
      "codemirror_mode": {
        "name": "ipython",
        "version": 3
      },
      "file_extension": ".py",
      "mimetype": "text/x-python",
      "name": "python",
      "nbconvert_exporter": "python",
      "pygments_lexer": "ipython3",
      "version": "3.6.10"
    }
  },
  "cells": [
    {
      "cell_type": "markdown",
      "metadata": {
        "id": "view-in-github",
        "colab_type": "text"
      },
      "source": [
        "<a href=\"https://colab.research.google.com/github/dudaholandah/PIBIC/blob/main/corgis_visualization_evaluation.ipynb\" target=\"_parent\"><img src=\"https://colab.research.google.com/assets/colab-badge.svg\" alt=\"Open In Colab\"/></a>"
      ]
    },
    {
      "cell_type": "markdown",
      "metadata": {
        "id": "JFhO1kZQPonA"
      },
      "source": [
        "#Visualization of the Corgis DataSet"
      ]
    },
    {
      "cell_type": "markdown",
      "metadata": {
        "id": "0OnyXDCTp0-0"
      },
      "source": [
        "Instalação do plotly e do renderer Orca, para que o Github apresente as imagens geradas pelo Plotly"
      ]
    },
    {
      "cell_type": "code",
      "source": [
        "from google.colab import drive\n",
        "drive.mount('/content/drive')"
      ],
      "metadata": {
        "id": "GmjNcY2Z9nHr",
        "colab": {
          "base_uri": "https://localhost:8080/"
        },
        "outputId": "ba8d0d32-ba6f-4b13-d103-3fa10de2382a"
      },
      "execution_count": 1,
      "outputs": [
        {
          "output_type": "stream",
          "name": "stdout",
          "text": [
            "Mounted at /content/drive\n"
          ]
        }
      ]
    },
    {
      "cell_type": "code",
      "source": [
        "!cp \"/content/drive/My Drive/food/CORGIS_dataset.csv\" \"corgis.csv\"\n",
        "!cp \"/content/drive/My Drive/food/australian_AUSNUT_2011_Food_Nutrient_Database.xls\" \"australian.xls\""
      ],
      "metadata": {
        "id": "Zj-Sj7Z19pcB"
      },
      "execution_count": 2,
      "outputs": []
    },
    {
      "cell_type": "code",
      "metadata": {
        "id": "bLiPKsx_p1ZT",
        "colab": {
          "base_uri": "https://localhost:8080/"
        },
        "outputId": "fb4fbb22-fb5f-4c13-85a5-130b779fa1a4"
      },
      "source": [
        "!pip install plotly==4.14.3\n",
        "!pip install orca\n",
        "!apt-get install xvfb libgtk2.0-0 libgconf-2-4\n",
        "!pip install umap-learn\n",
        "!pip install trimap"
      ],
      "execution_count": 3,
      "outputs": [
        {
          "output_type": "stream",
          "name": "stdout",
          "text": [
            "Collecting plotly==4.14.3\n",
            "  Downloading plotly-4.14.3-py2.py3-none-any.whl (13.2 MB)\n",
            "\u001b[K     |████████████████████████████████| 13.2 MB 411 kB/s \n",
            "\u001b[?25hRequirement already satisfied: six in /usr/local/lib/python3.7/dist-packages (from plotly==4.14.3) (1.15.0)\n",
            "Collecting retrying>=1.3.3\n",
            "  Downloading retrying-1.3.3.tar.gz (10 kB)\n",
            "Building wheels for collected packages: retrying\n",
            "  Building wheel for retrying (setup.py) ... \u001b[?25l\u001b[?25hdone\n",
            "  Created wheel for retrying: filename=retrying-1.3.3-py3-none-any.whl size=11447 sha256=51b743fa962ed8bca1163217c57e7ce7cecf75330302ab3cff86a5051391b990\n",
            "  Stored in directory: /root/.cache/pip/wheels/f9/8d/8d/f6af3f7f9eea3553bc2fe6d53e4b287dad18b06a861ac56ddf\n",
            "Successfully built retrying\n",
            "Installing collected packages: retrying, plotly\n",
            "  Attempting uninstall: plotly\n",
            "    Found existing installation: plotly 5.5.0\n",
            "    Uninstalling plotly-5.5.0:\n",
            "      Successfully uninstalled plotly-5.5.0\n",
            "Successfully installed plotly-4.14.3 retrying-1.3.3\n",
            "Collecting orca\n",
            "  Downloading orca-1.6-py2.py3-none-any.whl (244 kB)\n",
            "\u001b[K     |████████████████████████████████| 244 kB 5.0 MB/s \n",
            "\u001b[?25hRequirement already satisfied: pandas>=0.15.0 in /usr/local/lib/python3.7/dist-packages (from orca) (1.3.5)\n",
            "Collecting tables<3.7,>=3.1\n",
            "  Downloading tables-3.6.1-cp37-cp37m-manylinux1_x86_64.whl (4.3 MB)\n",
            "\u001b[K     |████████████████████████████████| 4.3 MB 42.4 MB/s \n",
            "\u001b[?25hRequirement already satisfied: toolz>=0.8.1 in /usr/local/lib/python3.7/dist-packages (from orca) (0.11.2)\n",
            "Requirement already satisfied: pytz>=2017.3 in /usr/local/lib/python3.7/dist-packages (from pandas>=0.15.0->orca) (2022.1)\n",
            "Requirement already satisfied: python-dateutil>=2.7.3 in /usr/local/lib/python3.7/dist-packages (from pandas>=0.15.0->orca) (2.8.2)\n",
            "Requirement already satisfied: numpy>=1.17.3 in /usr/local/lib/python3.7/dist-packages (from pandas>=0.15.0->orca) (1.21.6)\n",
            "Requirement already satisfied: six>=1.5 in /usr/local/lib/python3.7/dist-packages (from python-dateutil>=2.7.3->pandas>=0.15.0->orca) (1.15.0)\n",
            "Requirement already satisfied: numexpr>=2.6.2 in /usr/local/lib/python3.7/dist-packages (from tables<3.7,>=3.1->orca) (2.8.1)\n",
            "Requirement already satisfied: packaging in /usr/local/lib/python3.7/dist-packages (from numexpr>=2.6.2->tables<3.7,>=3.1->orca) (21.3)\n",
            "Requirement already satisfied: pyparsing!=3.0.5,>=2.0.2 in /usr/local/lib/python3.7/dist-packages (from packaging->numexpr>=2.6.2->tables<3.7,>=3.1->orca) (3.0.8)\n",
            "Installing collected packages: tables, orca\n",
            "  Attempting uninstall: tables\n",
            "    Found existing installation: tables 3.7.0\n",
            "    Uninstalling tables-3.7.0:\n",
            "      Successfully uninstalled tables-3.7.0\n",
            "Successfully installed orca-1.6 tables-3.6.1\n",
            "Reading package lists... Done\n",
            "Building dependency tree       \n",
            "Reading state information... Done\n",
            "The following additional packages will be installed:\n",
            "  gconf-service gconf-service-backend gconf2-common libdbus-glib-1-2\n",
            "  libgail-common libgail18 libgtk2.0-bin libgtk2.0-common\n",
            "Suggested packages:\n",
            "  gvfs\n",
            "The following NEW packages will be installed:\n",
            "  gconf-service gconf-service-backend gconf2-common libdbus-glib-1-2\n",
            "  libgail-common libgail18 libgconf-2-4 libgtk2.0-0 libgtk2.0-bin\n",
            "  libgtk2.0-common xvfb\n",
            "0 upgraded, 11 newly installed, 0 to remove and 41 not upgraded.\n",
            "Need to get 3,715 kB of archives.\n",
            "After this operation, 17.2 MB of additional disk space will be used.\n",
            "Get:1 http://archive.ubuntu.com/ubuntu bionic/main amd64 libdbus-glib-1-2 amd64 0.110-2 [58.3 kB]\n",
            "Get:2 http://archive.ubuntu.com/ubuntu bionic/universe amd64 gconf2-common all 3.2.6-4ubuntu1 [700 kB]\n",
            "Get:3 http://archive.ubuntu.com/ubuntu bionic/universe amd64 libgconf-2-4 amd64 3.2.6-4ubuntu1 [84.8 kB]\n",
            "Get:4 http://archive.ubuntu.com/ubuntu bionic/universe amd64 gconf-service-backend amd64 3.2.6-4ubuntu1 [58.1 kB]\n",
            "Get:5 http://archive.ubuntu.com/ubuntu bionic/universe amd64 gconf-service amd64 3.2.6-4ubuntu1 [2,036 B]\n",
            "Get:6 http://archive.ubuntu.com/ubuntu bionic/main amd64 libgtk2.0-common all 2.24.32-1ubuntu1 [125 kB]\n",
            "Get:7 http://archive.ubuntu.com/ubuntu bionic/main amd64 libgtk2.0-0 amd64 2.24.32-1ubuntu1 [1,769 kB]\n",
            "Get:8 http://archive.ubuntu.com/ubuntu bionic/main amd64 libgail18 amd64 2.24.32-1ubuntu1 [14.2 kB]\n",
            "Get:9 http://archive.ubuntu.com/ubuntu bionic/main amd64 libgail-common amd64 2.24.32-1ubuntu1 [112 kB]\n",
            "Get:10 http://archive.ubuntu.com/ubuntu bionic/main amd64 libgtk2.0-bin amd64 2.24.32-1ubuntu1 [7,536 B]\n",
            "Get:11 http://archive.ubuntu.com/ubuntu bionic-updates/universe amd64 xvfb amd64 2:1.19.6-1ubuntu4.10 [784 kB]\n",
            "Fetched 3,715 kB in 0s (9,921 kB/s)\n",
            "Selecting previously unselected package libdbus-glib-1-2:amd64.\n",
            "(Reading database ... 155514 files and directories currently installed.)\n",
            "Preparing to unpack .../00-libdbus-glib-1-2_0.110-2_amd64.deb ...\n",
            "Unpacking libdbus-glib-1-2:amd64 (0.110-2) ...\n",
            "Selecting previously unselected package gconf2-common.\n",
            "Preparing to unpack .../01-gconf2-common_3.2.6-4ubuntu1_all.deb ...\n",
            "Unpacking gconf2-common (3.2.6-4ubuntu1) ...\n",
            "Selecting previously unselected package libgconf-2-4:amd64.\n",
            "Preparing to unpack .../02-libgconf-2-4_3.2.6-4ubuntu1_amd64.deb ...\n",
            "Unpacking libgconf-2-4:amd64 (3.2.6-4ubuntu1) ...\n",
            "Selecting previously unselected package gconf-service-backend.\n",
            "Preparing to unpack .../03-gconf-service-backend_3.2.6-4ubuntu1_amd64.deb ...\n",
            "Unpacking gconf-service-backend (3.2.6-4ubuntu1) ...\n",
            "Selecting previously unselected package gconf-service.\n",
            "Preparing to unpack .../04-gconf-service_3.2.6-4ubuntu1_amd64.deb ...\n",
            "Unpacking gconf-service (3.2.6-4ubuntu1) ...\n",
            "Selecting previously unselected package libgtk2.0-common.\n",
            "Preparing to unpack .../05-libgtk2.0-common_2.24.32-1ubuntu1_all.deb ...\n",
            "Unpacking libgtk2.0-common (2.24.32-1ubuntu1) ...\n",
            "Selecting previously unselected package libgtk2.0-0:amd64.\n",
            "Preparing to unpack .../06-libgtk2.0-0_2.24.32-1ubuntu1_amd64.deb ...\n",
            "Unpacking libgtk2.0-0:amd64 (2.24.32-1ubuntu1) ...\n",
            "Selecting previously unselected package libgail18:amd64.\n",
            "Preparing to unpack .../07-libgail18_2.24.32-1ubuntu1_amd64.deb ...\n",
            "Unpacking libgail18:amd64 (2.24.32-1ubuntu1) ...\n",
            "Selecting previously unselected package libgail-common:amd64.\n",
            "Preparing to unpack .../08-libgail-common_2.24.32-1ubuntu1_amd64.deb ...\n",
            "Unpacking libgail-common:amd64 (2.24.32-1ubuntu1) ...\n",
            "Selecting previously unselected package libgtk2.0-bin.\n",
            "Preparing to unpack .../09-libgtk2.0-bin_2.24.32-1ubuntu1_amd64.deb ...\n",
            "Unpacking libgtk2.0-bin (2.24.32-1ubuntu1) ...\n",
            "Selecting previously unselected package xvfb.\n",
            "Preparing to unpack .../10-xvfb_2%3a1.19.6-1ubuntu4.10_amd64.deb ...\n",
            "Unpacking xvfb (2:1.19.6-1ubuntu4.10) ...\n",
            "Setting up gconf2-common (3.2.6-4ubuntu1) ...\n",
            "\n",
            "Creating config file /etc/gconf/2/path with new version\n",
            "Setting up libgtk2.0-common (2.24.32-1ubuntu1) ...\n",
            "Setting up libdbus-glib-1-2:amd64 (0.110-2) ...\n",
            "Setting up xvfb (2:1.19.6-1ubuntu4.10) ...\n",
            "Setting up libgconf-2-4:amd64 (3.2.6-4ubuntu1) ...\n",
            "Setting up libgtk2.0-0:amd64 (2.24.32-1ubuntu1) ...\n",
            "Setting up libgail18:amd64 (2.24.32-1ubuntu1) ...\n",
            "Setting up libgail-common:amd64 (2.24.32-1ubuntu1) ...\n",
            "Setting up libgtk2.0-bin (2.24.32-1ubuntu1) ...\n",
            "Setting up gconf-service-backend (3.2.6-4ubuntu1) ...\n",
            "Setting up gconf-service (3.2.6-4ubuntu1) ...\n",
            "Processing triggers for libc-bin (2.27-3ubuntu1.3) ...\n",
            "/sbin/ldconfig.real: /usr/local/lib/python3.7/dist-packages/ideep4py/lib/libmkldnn.so.0 is not a symbolic link\n",
            "\n",
            "Processing triggers for man-db (2.8.3-2ubuntu0.1) ...\n",
            "Collecting umap-learn\n",
            "  Downloading umap-learn-0.5.3.tar.gz (88 kB)\n",
            "\u001b[K     |████████████████████████████████| 88 kB 3.5 MB/s \n",
            "\u001b[?25hRequirement already satisfied: numpy>=1.17 in /usr/local/lib/python3.7/dist-packages (from umap-learn) (1.21.6)\n",
            "Requirement already satisfied: scikit-learn>=0.22 in /usr/local/lib/python3.7/dist-packages (from umap-learn) (1.0.2)\n",
            "Requirement already satisfied: scipy>=1.0 in /usr/local/lib/python3.7/dist-packages (from umap-learn) (1.4.1)\n",
            "Requirement already satisfied: numba>=0.49 in /usr/local/lib/python3.7/dist-packages (from umap-learn) (0.51.2)\n",
            "Collecting pynndescent>=0.5\n",
            "  Downloading pynndescent-0.5.6.tar.gz (1.1 MB)\n",
            "\u001b[K     |████████████████████████████████| 1.1 MB 34.8 MB/s \n",
            "\u001b[?25hRequirement already satisfied: tqdm in /usr/local/lib/python3.7/dist-packages (from umap-learn) (4.64.0)\n",
            "Requirement already satisfied: setuptools in /usr/local/lib/python3.7/dist-packages (from numba>=0.49->umap-learn) (57.4.0)\n",
            "Requirement already satisfied: llvmlite<0.35,>=0.34.0.dev0 in /usr/local/lib/python3.7/dist-packages (from numba>=0.49->umap-learn) (0.34.0)\n",
            "Requirement already satisfied: joblib>=0.11 in /usr/local/lib/python3.7/dist-packages (from pynndescent>=0.5->umap-learn) (1.1.0)\n",
            "Requirement already satisfied: threadpoolctl>=2.0.0 in /usr/local/lib/python3.7/dist-packages (from scikit-learn>=0.22->umap-learn) (3.1.0)\n",
            "Building wheels for collected packages: umap-learn, pynndescent\n",
            "  Building wheel for umap-learn (setup.py) ... \u001b[?25l\u001b[?25hdone\n",
            "  Created wheel for umap-learn: filename=umap_learn-0.5.3-py3-none-any.whl size=82829 sha256=3a386ee8841411d799e41226e2587fdaea3841239939363ae2c7b156aadc648a\n",
            "  Stored in directory: /root/.cache/pip/wheels/b3/52/a5/1fd9e3e76a7ab34f134c07469cd6f16e27ef3a37aeff1fe821\n",
            "  Building wheel for pynndescent (setup.py) ... \u001b[?25l\u001b[?25hdone\n",
            "  Created wheel for pynndescent: filename=pynndescent-0.5.6-py3-none-any.whl size=53943 sha256=c33d108968463dd313795983aa6c578cc01b492b2925af4cf6c4256c93a5a23b\n",
            "  Stored in directory: /root/.cache/pip/wheels/03/f1/56/f80d72741e400345b5a5b50ec3d929aca581bf45e0225d5c50\n",
            "Successfully built umap-learn pynndescent\n",
            "Installing collected packages: pynndescent, umap-learn\n",
            "Successfully installed pynndescent-0.5.6 umap-learn-0.5.3\n",
            "Collecting trimap\n",
            "  Downloading trimap-1.1.4-py3-none-any.whl (15 kB)\n",
            "Requirement already satisfied: numba>=0.34 in /usr/local/lib/python3.7/dist-packages (from trimap) (0.51.2)\n",
            "Collecting annoy>=1.11\n",
            "  Downloading annoy-1.17.0.tar.gz (646 kB)\n",
            "\u001b[K     |████████████████████████████████| 646 kB 5.1 MB/s \n",
            "\u001b[?25hRequirement already satisfied: scikit-learn>=0.16 in /usr/local/lib/python3.7/dist-packages (from trimap) (1.0.2)\n",
            "Requirement already satisfied: llvmlite<0.35,>=0.34.0.dev0 in /usr/local/lib/python3.7/dist-packages (from numba>=0.34->trimap) (0.34.0)\n",
            "Requirement already satisfied: numpy>=1.15 in /usr/local/lib/python3.7/dist-packages (from numba>=0.34->trimap) (1.21.6)\n",
            "Requirement already satisfied: setuptools in /usr/local/lib/python3.7/dist-packages (from numba>=0.34->trimap) (57.4.0)\n",
            "Requirement already satisfied: threadpoolctl>=2.0.0 in /usr/local/lib/python3.7/dist-packages (from scikit-learn>=0.16->trimap) (3.1.0)\n",
            "Requirement already satisfied: scipy>=1.1.0 in /usr/local/lib/python3.7/dist-packages (from scikit-learn>=0.16->trimap) (1.4.1)\n",
            "Requirement already satisfied: joblib>=0.11 in /usr/local/lib/python3.7/dist-packages (from scikit-learn>=0.16->trimap) (1.1.0)\n",
            "Building wheels for collected packages: annoy\n",
            "  Building wheel for annoy (setup.py) ... \u001b[?25l\u001b[?25hdone\n",
            "  Created wheel for annoy: filename=annoy-1.17.0-cp37-cp37m-linux_x86_64.whl size=391576 sha256=bfb2fffc8ea88f8c1008cd9e200c8a3e3168dd54e867839c7b616708b9657cd1\n",
            "  Stored in directory: /root/.cache/pip/wheels/4f/e8/1e/7cc9ebbfa87a3b9f8ba79408d4d31831d67eea918b679a4c07\n",
            "Successfully built annoy\n",
            "Installing collected packages: annoy, trimap\n",
            "Successfully installed annoy-1.17.0 trimap-1.1.4\n"
          ]
        }
      ]
    },
    {
      "cell_type": "markdown",
      "metadata": {
        "id": "Fk3DAY9kPl7Z"
      },
      "source": [
        "Bibliotecas importantes"
      ]
    },
    {
      "cell_type": "code",
      "metadata": {
        "id": "k30sCmYRPWTC",
        "colab": {
          "base_uri": "https://localhost:8080/"
        },
        "outputId": "29e8ea87-3452-40ef-e5a6-6ac03e72363f"
      },
      "source": [
        "import pandas as pd\n",
        "from sklearn import preprocessing\n",
        "#from ipywidgets import interactive, HBox, VBox\n",
        "import plotly.express as px\n",
        "#from plotly.offline import init_notebook_mode, iplot\n",
        "##import plotly.offline as py\n",
        "import plotly.graph_objects as go\n",
        "import numpy as np\n",
        "from sklearn.decomposition import PCA as sklearnPCA\n",
        "from sklearn.manifold import TSNE\n",
        "from sklearn.manifold import Isomap\n",
        "from sklearn.manifold import trustworthiness\n",
        "from umap import UMAP\n",
        "import trimap"
      ],
      "execution_count": 4,
      "outputs": [
        {
          "output_type": "stream",
          "name": "stderr",
          "text": [
            "/usr/local/lib/python3.7/dist-packages/numba/np/ufunc/parallel.py:363: NumbaWarning: The TBB threading layer requires TBB version 2019.5 or later i.e., TBB_INTERFACE_VERSION >= 11005. Found TBB_INTERFACE_VERSION = 9107. The TBB threading layer is disabled.\n",
            "  warnings.warn(problem)\n"
          ]
        }
      ]
    },
    {
      "cell_type": "markdown",
      "metadata": {
        "id": "z6OL0pC9Q8Ak"
      },
      "source": [
        "Abre o arquivo .data utilizando o Pandas. O conjunto auto-mpg pode ser baixado aqui:\n",
        "\n",
        "\n",
        "https://archive.ics.uci.edu/ml/datasets/Auto+MPG"
      ]
    },
    {
      "cell_type": "code",
      "metadata": {
        "id": "IcrsmJCHPWTG"
      },
      "source": [
        "raw_data = pd.read_csv(\"corgis.csv\")"
      ],
      "execution_count": 5,
      "outputs": []
    },
    {
      "cell_type": "code",
      "metadata": {
        "id": "2qSe656kRIvS",
        "colab": {
          "base_uri": "https://localhost:8080/",
          "height": 386
        },
        "outputId": "79b044b3-d71d-4bea-bcdd-7ff5a71cf19b"
      },
      "source": [
        "raw_data.head()"
      ],
      "execution_count": 6,
      "outputs": [
        {
          "output_type": "execute_result",
          "data": {
            "text/plain": [
              "  Category                     Description  Nutrient Data Bank Number  \\\n",
              "0     Milk                     Milk, human                   11000000   \n",
              "1     Milk                       Milk, NFS                   11100000   \n",
              "2     Milk                     Milk, whole                   11111000   \n",
              "3     Milk         Milk, low sodium, whole                   11111100   \n",
              "4     Milk  Milk, calcium fortified, whole                   11111150   \n",
              "\n",
              "   Data.Alpha Carotene  Data.Beta Carotene  Data.Beta Cryptoxanthin  \\\n",
              "0                    0                   7                        0   \n",
              "1                    0                   4                        0   \n",
              "2                    0                   7                        0   \n",
              "3                    0                   7                        0   \n",
              "4                    0                   7                        0   \n",
              "\n",
              "   Data.Carbohydrate  Data.Cholesterol  Data.Choline  Data.Fiber  ...  \\\n",
              "0               6.89                14          16.0         0.0  ...   \n",
              "1               4.87                 8          17.9         0.0  ...   \n",
              "2               4.67                12          17.8         0.0  ...   \n",
              "3               4.46                14          16.0         0.0  ...   \n",
              "4               4.67                12          17.8         0.0  ...   \n",
              "\n",
              "   Data.Major Minerals.Phosphorus  Data.Major Minerals.Potassium  \\\n",
              "0                              14                             51   \n",
              "1                             103                            157   \n",
              "2                             101                            150   \n",
              "3                              86                            253   \n",
              "4                             101                            150   \n",
              "\n",
              "   Data.Major Minerals.Sodium  Data.Major Minerals.Zinc  \\\n",
              "0                          17                      0.17   \n",
              "1                          39                      0.42   \n",
              "2                          38                      0.41   \n",
              "3                           3                      0.38   \n",
              "4                          38                      0.41   \n",
              "\n",
              "   Data.Vitamins.Vitamin A - RAE  Data.Vitamins.Vitamin B12  \\\n",
              "0                             61                       0.05   \n",
              "1                             59                       0.56   \n",
              "2                             32                       0.54   \n",
              "3                             29                       0.36   \n",
              "4                             32                       0.54   \n",
              "\n",
              "   Data.Vitamins.Vitamin B6  Data.Vitamins.Vitamin C  Data.Vitamins.Vitamin E  \\\n",
              "0                     0.011                      5.0                     0.08   \n",
              "1                     0.060                      0.1                     0.03   \n",
              "2                     0.061                      0.0                     0.05   \n",
              "3                     0.034                      0.9                     0.08   \n",
              "4                     0.061                      0.0                     0.05   \n",
              "\n",
              "   Data.Vitamins.Vitamin K  \n",
              "0                      0.3  \n",
              "1                      0.2  \n",
              "2                      0.3  \n",
              "3                      0.3  \n",
              "4                      0.3  \n",
              "\n",
              "[5 rows x 38 columns]"
            ],
            "text/html": [
              "\n",
              "  <div id=\"df-4ee7335e-ba1e-4f60-9042-5932fe3b1848\">\n",
              "    <div class=\"colab-df-container\">\n",
              "      <div>\n",
              "<style scoped>\n",
              "    .dataframe tbody tr th:only-of-type {\n",
              "        vertical-align: middle;\n",
              "    }\n",
              "\n",
              "    .dataframe tbody tr th {\n",
              "        vertical-align: top;\n",
              "    }\n",
              "\n",
              "    .dataframe thead th {\n",
              "        text-align: right;\n",
              "    }\n",
              "</style>\n",
              "<table border=\"1\" class=\"dataframe\">\n",
              "  <thead>\n",
              "    <tr style=\"text-align: right;\">\n",
              "      <th></th>\n",
              "      <th>Category</th>\n",
              "      <th>Description</th>\n",
              "      <th>Nutrient Data Bank Number</th>\n",
              "      <th>Data.Alpha Carotene</th>\n",
              "      <th>Data.Beta Carotene</th>\n",
              "      <th>Data.Beta Cryptoxanthin</th>\n",
              "      <th>Data.Carbohydrate</th>\n",
              "      <th>Data.Cholesterol</th>\n",
              "      <th>Data.Choline</th>\n",
              "      <th>Data.Fiber</th>\n",
              "      <th>...</th>\n",
              "      <th>Data.Major Minerals.Phosphorus</th>\n",
              "      <th>Data.Major Minerals.Potassium</th>\n",
              "      <th>Data.Major Minerals.Sodium</th>\n",
              "      <th>Data.Major Minerals.Zinc</th>\n",
              "      <th>Data.Vitamins.Vitamin A - RAE</th>\n",
              "      <th>Data.Vitamins.Vitamin B12</th>\n",
              "      <th>Data.Vitamins.Vitamin B6</th>\n",
              "      <th>Data.Vitamins.Vitamin C</th>\n",
              "      <th>Data.Vitamins.Vitamin E</th>\n",
              "      <th>Data.Vitamins.Vitamin K</th>\n",
              "    </tr>\n",
              "  </thead>\n",
              "  <tbody>\n",
              "    <tr>\n",
              "      <th>0</th>\n",
              "      <td>Milk</td>\n",
              "      <td>Milk, human</td>\n",
              "      <td>11000000</td>\n",
              "      <td>0</td>\n",
              "      <td>7</td>\n",
              "      <td>0</td>\n",
              "      <td>6.89</td>\n",
              "      <td>14</td>\n",
              "      <td>16.0</td>\n",
              "      <td>0.0</td>\n",
              "      <td>...</td>\n",
              "      <td>14</td>\n",
              "      <td>51</td>\n",
              "      <td>17</td>\n",
              "      <td>0.17</td>\n",
              "      <td>61</td>\n",
              "      <td>0.05</td>\n",
              "      <td>0.011</td>\n",
              "      <td>5.0</td>\n",
              "      <td>0.08</td>\n",
              "      <td>0.3</td>\n",
              "    </tr>\n",
              "    <tr>\n",
              "      <th>1</th>\n",
              "      <td>Milk</td>\n",
              "      <td>Milk, NFS</td>\n",
              "      <td>11100000</td>\n",
              "      <td>0</td>\n",
              "      <td>4</td>\n",
              "      <td>0</td>\n",
              "      <td>4.87</td>\n",
              "      <td>8</td>\n",
              "      <td>17.9</td>\n",
              "      <td>0.0</td>\n",
              "      <td>...</td>\n",
              "      <td>103</td>\n",
              "      <td>157</td>\n",
              "      <td>39</td>\n",
              "      <td>0.42</td>\n",
              "      <td>59</td>\n",
              "      <td>0.56</td>\n",
              "      <td>0.060</td>\n",
              "      <td>0.1</td>\n",
              "      <td>0.03</td>\n",
              "      <td>0.2</td>\n",
              "    </tr>\n",
              "    <tr>\n",
              "      <th>2</th>\n",
              "      <td>Milk</td>\n",
              "      <td>Milk, whole</td>\n",
              "      <td>11111000</td>\n",
              "      <td>0</td>\n",
              "      <td>7</td>\n",
              "      <td>0</td>\n",
              "      <td>4.67</td>\n",
              "      <td>12</td>\n",
              "      <td>17.8</td>\n",
              "      <td>0.0</td>\n",
              "      <td>...</td>\n",
              "      <td>101</td>\n",
              "      <td>150</td>\n",
              "      <td>38</td>\n",
              "      <td>0.41</td>\n",
              "      <td>32</td>\n",
              "      <td>0.54</td>\n",
              "      <td>0.061</td>\n",
              "      <td>0.0</td>\n",
              "      <td>0.05</td>\n",
              "      <td>0.3</td>\n",
              "    </tr>\n",
              "    <tr>\n",
              "      <th>3</th>\n",
              "      <td>Milk</td>\n",
              "      <td>Milk, low sodium, whole</td>\n",
              "      <td>11111100</td>\n",
              "      <td>0</td>\n",
              "      <td>7</td>\n",
              "      <td>0</td>\n",
              "      <td>4.46</td>\n",
              "      <td>14</td>\n",
              "      <td>16.0</td>\n",
              "      <td>0.0</td>\n",
              "      <td>...</td>\n",
              "      <td>86</td>\n",
              "      <td>253</td>\n",
              "      <td>3</td>\n",
              "      <td>0.38</td>\n",
              "      <td>29</td>\n",
              "      <td>0.36</td>\n",
              "      <td>0.034</td>\n",
              "      <td>0.9</td>\n",
              "      <td>0.08</td>\n",
              "      <td>0.3</td>\n",
              "    </tr>\n",
              "    <tr>\n",
              "      <th>4</th>\n",
              "      <td>Milk</td>\n",
              "      <td>Milk, calcium fortified, whole</td>\n",
              "      <td>11111150</td>\n",
              "      <td>0</td>\n",
              "      <td>7</td>\n",
              "      <td>0</td>\n",
              "      <td>4.67</td>\n",
              "      <td>12</td>\n",
              "      <td>17.8</td>\n",
              "      <td>0.0</td>\n",
              "      <td>...</td>\n",
              "      <td>101</td>\n",
              "      <td>150</td>\n",
              "      <td>38</td>\n",
              "      <td>0.41</td>\n",
              "      <td>32</td>\n",
              "      <td>0.54</td>\n",
              "      <td>0.061</td>\n",
              "      <td>0.0</td>\n",
              "      <td>0.05</td>\n",
              "      <td>0.3</td>\n",
              "    </tr>\n",
              "  </tbody>\n",
              "</table>\n",
              "<p>5 rows × 38 columns</p>\n",
              "</div>\n",
              "      <button class=\"colab-df-convert\" onclick=\"convertToInteractive('df-4ee7335e-ba1e-4f60-9042-5932fe3b1848')\"\n",
              "              title=\"Convert this dataframe to an interactive table.\"\n",
              "              style=\"display:none;\">\n",
              "        \n",
              "  <svg xmlns=\"http://www.w3.org/2000/svg\" height=\"24px\"viewBox=\"0 0 24 24\"\n",
              "       width=\"24px\">\n",
              "    <path d=\"M0 0h24v24H0V0z\" fill=\"none\"/>\n",
              "    <path d=\"M18.56 5.44l.94 2.06.94-2.06 2.06-.94-2.06-.94-.94-2.06-.94 2.06-2.06.94zm-11 1L8.5 8.5l.94-2.06 2.06-.94-2.06-.94L8.5 2.5l-.94 2.06-2.06.94zm10 10l.94 2.06.94-2.06 2.06-.94-2.06-.94-.94-2.06-.94 2.06-2.06.94z\"/><path d=\"M17.41 7.96l-1.37-1.37c-.4-.4-.92-.59-1.43-.59-.52 0-1.04.2-1.43.59L10.3 9.45l-7.72 7.72c-.78.78-.78 2.05 0 2.83L4 21.41c.39.39.9.59 1.41.59.51 0 1.02-.2 1.41-.59l7.78-7.78 2.81-2.81c.8-.78.8-2.07 0-2.86zM5.41 20L4 18.59l7.72-7.72 1.47 1.35L5.41 20z\"/>\n",
              "  </svg>\n",
              "      </button>\n",
              "      \n",
              "  <style>\n",
              "    .colab-df-container {\n",
              "      display:flex;\n",
              "      flex-wrap:wrap;\n",
              "      gap: 12px;\n",
              "    }\n",
              "\n",
              "    .colab-df-convert {\n",
              "      background-color: #E8F0FE;\n",
              "      border: none;\n",
              "      border-radius: 50%;\n",
              "      cursor: pointer;\n",
              "      display: none;\n",
              "      fill: #1967D2;\n",
              "      height: 32px;\n",
              "      padding: 0 0 0 0;\n",
              "      width: 32px;\n",
              "    }\n",
              "\n",
              "    .colab-df-convert:hover {\n",
              "      background-color: #E2EBFA;\n",
              "      box-shadow: 0px 1px 2px rgba(60, 64, 67, 0.3), 0px 1px 3px 1px rgba(60, 64, 67, 0.15);\n",
              "      fill: #174EA6;\n",
              "    }\n",
              "\n",
              "    [theme=dark] .colab-df-convert {\n",
              "      background-color: #3B4455;\n",
              "      fill: #D2E3FC;\n",
              "    }\n",
              "\n",
              "    [theme=dark] .colab-df-convert:hover {\n",
              "      background-color: #434B5C;\n",
              "      box-shadow: 0px 1px 3px 1px rgba(0, 0, 0, 0.15);\n",
              "      filter: drop-shadow(0px 1px 2px rgba(0, 0, 0, 0.3));\n",
              "      fill: #FFFFFF;\n",
              "    }\n",
              "  </style>\n",
              "\n",
              "      <script>\n",
              "        const buttonEl =\n",
              "          document.querySelector('#df-4ee7335e-ba1e-4f60-9042-5932fe3b1848 button.colab-df-convert');\n",
              "        buttonEl.style.display =\n",
              "          google.colab.kernel.accessAllowed ? 'block' : 'none';\n",
              "\n",
              "        async function convertToInteractive(key) {\n",
              "          const element = document.querySelector('#df-4ee7335e-ba1e-4f60-9042-5932fe3b1848');\n",
              "          const dataTable =\n",
              "            await google.colab.kernel.invokeFunction('convertToInteractive',\n",
              "                                                     [key], {});\n",
              "          if (!dataTable) return;\n",
              "\n",
              "          const docLinkHtml = 'Like what you see? Visit the ' +\n",
              "            '<a target=\"_blank\" href=https://colab.research.google.com/notebooks/data_table.ipynb>data table notebook</a>'\n",
              "            + ' to learn more about interactive tables.';\n",
              "          element.innerHTML = '';\n",
              "          dataTable['output_type'] = 'display_data';\n",
              "          await google.colab.output.renderOutput(dataTable, element);\n",
              "          const docLink = document.createElement('div');\n",
              "          docLink.innerHTML = docLinkHtml;\n",
              "          element.appendChild(docLink);\n",
              "        }\n",
              "      </script>\n",
              "    </div>\n",
              "  </div>\n",
              "  "
            ]
          },
          "metadata": {},
          "execution_count": 6
        }
      ]
    },
    {
      "cell_type": "code",
      "source": [
        "print(f'Number of Data instances: {raw_data.shape[0]}')\n",
        "print(f'Number of Data Attributes: {raw_data.shape[1]}')"
      ],
      "metadata": {
        "colab": {
          "base_uri": "https://localhost:8080/"
        },
        "id": "-AZP4ZnMAAUW",
        "outputId": "77d06fae-8b37-45f5-c071-155575ab719b"
      },
      "execution_count": 7,
      "outputs": [
        {
          "output_type": "stream",
          "name": "stdout",
          "text": [
            "Number of Data instances: 7083\n",
            "Number of Data Attributes: 38\n"
          ]
        }
      ]
    },
    {
      "cell_type": "markdown",
      "source": [
        "Labels information"
      ],
      "metadata": {
        "id": "-w5KskYkAPsM"
      }
    },
    {
      "cell_type": "code",
      "source": [
        "print(raw_data['Category'].value_counts())"
      ],
      "metadata": {
        "colab": {
          "base_uri": "https://localhost:8080/"
        },
        "id": "oeBJe2ZUAQ5P",
        "outputId": "56cc52ea-d0bb-4e77-ec38-a8851fff04fe"
      },
      "execution_count": 8,
      "outputs": [
        {
          "output_type": "stream",
          "name": "stdout",
          "text": [
            "Infant formula                          173\n",
            "Rice                                    143\n",
            "Bread                                   119\n",
            "Potato                                  105\n",
            "Cookie                                  100\n",
            "                                       ... \n",
            "Layer dip                                 1\n",
            "Bean dip                                  1\n",
            "Refried beans with meat                   1\n",
            "Black bean salad                          1\n",
            "Industrial oil as ingredient in food      1\n",
            "Name: Category, Length: 2429, dtype: int64\n"
          ]
        }
      ]
    },
    {
      "cell_type": "markdown",
      "metadata": {
        "id": "196OrKOKinVf"
      },
      "source": [
        "Remoção de instâncias com valores ausentes:"
      ]
    },
    {
      "cell_type": "code",
      "metadata": {
        "id": "x8GZPgCIcxkC"
      },
      "source": [
        "raw_data = raw_data.replace('?',np.NaN)\n",
        "raw_data = raw_data.replace('NA',np.NaN)\n",
        "raw_data = raw_data.dropna(axis=0)"
      ],
      "execution_count": 9,
      "outputs": []
    },
    {
      "cell_type": "markdown",
      "source": [
        "Remoção do atributo irrelevante para descoberta de conhecimento \"Nutrient Data Bank Number\" e remoção do atributo \"Description\" que é uma lista de ingredientes (strings) -- análise considera apenas os nutrientes"
      ],
      "metadata": {
        "id": "zUTBpjNDAXzX"
      }
    },
    {
      "cell_type": "code",
      "source": [
        "raw_data = raw_data.drop(['Nutrient Data Bank Number'],axis=1)\n",
        "raw_data = raw_data.drop(['Description'],axis=1)"
      ],
      "metadata": {
        "id": "njwCFfkr-rEJ"
      },
      "execution_count": 10,
      "outputs": []
    },
    {
      "cell_type": "code",
      "source": [
        "raw_data.head()"
      ],
      "metadata": {
        "colab": {
          "base_uri": "https://localhost:8080/",
          "height": 334
        },
        "id": "IHuhoP0b-x8A",
        "outputId": "e59038d1-2e81-43d0-a438-1c7cb27fdf80"
      },
      "execution_count": 11,
      "outputs": [
        {
          "output_type": "execute_result",
          "data": {
            "text/plain": [
              "  Category  Data.Alpha Carotene  Data.Beta Carotene  Data.Beta Cryptoxanthin  \\\n",
              "0     Milk                    0                   7                        0   \n",
              "1     Milk                    0                   4                        0   \n",
              "2     Milk                    0                   7                        0   \n",
              "3     Milk                    0                   7                        0   \n",
              "4     Milk                    0                   7                        0   \n",
              "\n",
              "   Data.Carbohydrate  Data.Cholesterol  Data.Choline  Data.Fiber  \\\n",
              "0               6.89                14          16.0         0.0   \n",
              "1               4.87                 8          17.9         0.0   \n",
              "2               4.67                12          17.8         0.0   \n",
              "3               4.46                14          16.0         0.0   \n",
              "4               4.67                12          17.8         0.0   \n",
              "\n",
              "   Data.Lutein and Zeaxanthin  Data.Lycopene  ...  \\\n",
              "0                           0              0  ...   \n",
              "1                           0              0  ...   \n",
              "2                           0              0  ...   \n",
              "3                           0              0  ...   \n",
              "4                           0              0  ...   \n",
              "\n",
              "   Data.Major Minerals.Phosphorus  Data.Major Minerals.Potassium  \\\n",
              "0                              14                             51   \n",
              "1                             103                            157   \n",
              "2                             101                            150   \n",
              "3                              86                            253   \n",
              "4                             101                            150   \n",
              "\n",
              "   Data.Major Minerals.Sodium  Data.Major Minerals.Zinc  \\\n",
              "0                          17                      0.17   \n",
              "1                          39                      0.42   \n",
              "2                          38                      0.41   \n",
              "3                           3                      0.38   \n",
              "4                          38                      0.41   \n",
              "\n",
              "   Data.Vitamins.Vitamin A - RAE  Data.Vitamins.Vitamin B12  \\\n",
              "0                             61                       0.05   \n",
              "1                             59                       0.56   \n",
              "2                             32                       0.54   \n",
              "3                             29                       0.36   \n",
              "4                             32                       0.54   \n",
              "\n",
              "   Data.Vitamins.Vitamin B6  Data.Vitamins.Vitamin C  Data.Vitamins.Vitamin E  \\\n",
              "0                     0.011                      5.0                     0.08   \n",
              "1                     0.060                      0.1                     0.03   \n",
              "2                     0.061                      0.0                     0.05   \n",
              "3                     0.034                      0.9                     0.08   \n",
              "4                     0.061                      0.0                     0.05   \n",
              "\n",
              "   Data.Vitamins.Vitamin K  \n",
              "0                      0.3  \n",
              "1                      0.2  \n",
              "2                      0.3  \n",
              "3                      0.3  \n",
              "4                      0.3  \n",
              "\n",
              "[5 rows x 36 columns]"
            ],
            "text/html": [
              "\n",
              "  <div id=\"df-2239caff-44a3-40be-9470-e7c15213925e\">\n",
              "    <div class=\"colab-df-container\">\n",
              "      <div>\n",
              "<style scoped>\n",
              "    .dataframe tbody tr th:only-of-type {\n",
              "        vertical-align: middle;\n",
              "    }\n",
              "\n",
              "    .dataframe tbody tr th {\n",
              "        vertical-align: top;\n",
              "    }\n",
              "\n",
              "    .dataframe thead th {\n",
              "        text-align: right;\n",
              "    }\n",
              "</style>\n",
              "<table border=\"1\" class=\"dataframe\">\n",
              "  <thead>\n",
              "    <tr style=\"text-align: right;\">\n",
              "      <th></th>\n",
              "      <th>Category</th>\n",
              "      <th>Data.Alpha Carotene</th>\n",
              "      <th>Data.Beta Carotene</th>\n",
              "      <th>Data.Beta Cryptoxanthin</th>\n",
              "      <th>Data.Carbohydrate</th>\n",
              "      <th>Data.Cholesterol</th>\n",
              "      <th>Data.Choline</th>\n",
              "      <th>Data.Fiber</th>\n",
              "      <th>Data.Lutein and Zeaxanthin</th>\n",
              "      <th>Data.Lycopene</th>\n",
              "      <th>...</th>\n",
              "      <th>Data.Major Minerals.Phosphorus</th>\n",
              "      <th>Data.Major Minerals.Potassium</th>\n",
              "      <th>Data.Major Minerals.Sodium</th>\n",
              "      <th>Data.Major Minerals.Zinc</th>\n",
              "      <th>Data.Vitamins.Vitamin A - RAE</th>\n",
              "      <th>Data.Vitamins.Vitamin B12</th>\n",
              "      <th>Data.Vitamins.Vitamin B6</th>\n",
              "      <th>Data.Vitamins.Vitamin C</th>\n",
              "      <th>Data.Vitamins.Vitamin E</th>\n",
              "      <th>Data.Vitamins.Vitamin K</th>\n",
              "    </tr>\n",
              "  </thead>\n",
              "  <tbody>\n",
              "    <tr>\n",
              "      <th>0</th>\n",
              "      <td>Milk</td>\n",
              "      <td>0</td>\n",
              "      <td>7</td>\n",
              "      <td>0</td>\n",
              "      <td>6.89</td>\n",
              "      <td>14</td>\n",
              "      <td>16.0</td>\n",
              "      <td>0.0</td>\n",
              "      <td>0</td>\n",
              "      <td>0</td>\n",
              "      <td>...</td>\n",
              "      <td>14</td>\n",
              "      <td>51</td>\n",
              "      <td>17</td>\n",
              "      <td>0.17</td>\n",
              "      <td>61</td>\n",
              "      <td>0.05</td>\n",
              "      <td>0.011</td>\n",
              "      <td>5.0</td>\n",
              "      <td>0.08</td>\n",
              "      <td>0.3</td>\n",
              "    </tr>\n",
              "    <tr>\n",
              "      <th>1</th>\n",
              "      <td>Milk</td>\n",
              "      <td>0</td>\n",
              "      <td>4</td>\n",
              "      <td>0</td>\n",
              "      <td>4.87</td>\n",
              "      <td>8</td>\n",
              "      <td>17.9</td>\n",
              "      <td>0.0</td>\n",
              "      <td>0</td>\n",
              "      <td>0</td>\n",
              "      <td>...</td>\n",
              "      <td>103</td>\n",
              "      <td>157</td>\n",
              "      <td>39</td>\n",
              "      <td>0.42</td>\n",
              "      <td>59</td>\n",
              "      <td>0.56</td>\n",
              "      <td>0.060</td>\n",
              "      <td>0.1</td>\n",
              "      <td>0.03</td>\n",
              "      <td>0.2</td>\n",
              "    </tr>\n",
              "    <tr>\n",
              "      <th>2</th>\n",
              "      <td>Milk</td>\n",
              "      <td>0</td>\n",
              "      <td>7</td>\n",
              "      <td>0</td>\n",
              "      <td>4.67</td>\n",
              "      <td>12</td>\n",
              "      <td>17.8</td>\n",
              "      <td>0.0</td>\n",
              "      <td>0</td>\n",
              "      <td>0</td>\n",
              "      <td>...</td>\n",
              "      <td>101</td>\n",
              "      <td>150</td>\n",
              "      <td>38</td>\n",
              "      <td>0.41</td>\n",
              "      <td>32</td>\n",
              "      <td>0.54</td>\n",
              "      <td>0.061</td>\n",
              "      <td>0.0</td>\n",
              "      <td>0.05</td>\n",
              "      <td>0.3</td>\n",
              "    </tr>\n",
              "    <tr>\n",
              "      <th>3</th>\n",
              "      <td>Milk</td>\n",
              "      <td>0</td>\n",
              "      <td>7</td>\n",
              "      <td>0</td>\n",
              "      <td>4.46</td>\n",
              "      <td>14</td>\n",
              "      <td>16.0</td>\n",
              "      <td>0.0</td>\n",
              "      <td>0</td>\n",
              "      <td>0</td>\n",
              "      <td>...</td>\n",
              "      <td>86</td>\n",
              "      <td>253</td>\n",
              "      <td>3</td>\n",
              "      <td>0.38</td>\n",
              "      <td>29</td>\n",
              "      <td>0.36</td>\n",
              "      <td>0.034</td>\n",
              "      <td>0.9</td>\n",
              "      <td>0.08</td>\n",
              "      <td>0.3</td>\n",
              "    </tr>\n",
              "    <tr>\n",
              "      <th>4</th>\n",
              "      <td>Milk</td>\n",
              "      <td>0</td>\n",
              "      <td>7</td>\n",
              "      <td>0</td>\n",
              "      <td>4.67</td>\n",
              "      <td>12</td>\n",
              "      <td>17.8</td>\n",
              "      <td>0.0</td>\n",
              "      <td>0</td>\n",
              "      <td>0</td>\n",
              "      <td>...</td>\n",
              "      <td>101</td>\n",
              "      <td>150</td>\n",
              "      <td>38</td>\n",
              "      <td>0.41</td>\n",
              "      <td>32</td>\n",
              "      <td>0.54</td>\n",
              "      <td>0.061</td>\n",
              "      <td>0.0</td>\n",
              "      <td>0.05</td>\n",
              "      <td>0.3</td>\n",
              "    </tr>\n",
              "  </tbody>\n",
              "</table>\n",
              "<p>5 rows × 36 columns</p>\n",
              "</div>\n",
              "      <button class=\"colab-df-convert\" onclick=\"convertToInteractive('df-2239caff-44a3-40be-9470-e7c15213925e')\"\n",
              "              title=\"Convert this dataframe to an interactive table.\"\n",
              "              style=\"display:none;\">\n",
              "        \n",
              "  <svg xmlns=\"http://www.w3.org/2000/svg\" height=\"24px\"viewBox=\"0 0 24 24\"\n",
              "       width=\"24px\">\n",
              "    <path d=\"M0 0h24v24H0V0z\" fill=\"none\"/>\n",
              "    <path d=\"M18.56 5.44l.94 2.06.94-2.06 2.06-.94-2.06-.94-.94-2.06-.94 2.06-2.06.94zm-11 1L8.5 8.5l.94-2.06 2.06-.94-2.06-.94L8.5 2.5l-.94 2.06-2.06.94zm10 10l.94 2.06.94-2.06 2.06-.94-2.06-.94-.94-2.06-.94 2.06-2.06.94z\"/><path d=\"M17.41 7.96l-1.37-1.37c-.4-.4-.92-.59-1.43-.59-.52 0-1.04.2-1.43.59L10.3 9.45l-7.72 7.72c-.78.78-.78 2.05 0 2.83L4 21.41c.39.39.9.59 1.41.59.51 0 1.02-.2 1.41-.59l7.78-7.78 2.81-2.81c.8-.78.8-2.07 0-2.86zM5.41 20L4 18.59l7.72-7.72 1.47 1.35L5.41 20z\"/>\n",
              "  </svg>\n",
              "      </button>\n",
              "      \n",
              "  <style>\n",
              "    .colab-df-container {\n",
              "      display:flex;\n",
              "      flex-wrap:wrap;\n",
              "      gap: 12px;\n",
              "    }\n",
              "\n",
              "    .colab-df-convert {\n",
              "      background-color: #E8F0FE;\n",
              "      border: none;\n",
              "      border-radius: 50%;\n",
              "      cursor: pointer;\n",
              "      display: none;\n",
              "      fill: #1967D2;\n",
              "      height: 32px;\n",
              "      padding: 0 0 0 0;\n",
              "      width: 32px;\n",
              "    }\n",
              "\n",
              "    .colab-df-convert:hover {\n",
              "      background-color: #E2EBFA;\n",
              "      box-shadow: 0px 1px 2px rgba(60, 64, 67, 0.3), 0px 1px 3px 1px rgba(60, 64, 67, 0.15);\n",
              "      fill: #174EA6;\n",
              "    }\n",
              "\n",
              "    [theme=dark] .colab-df-convert {\n",
              "      background-color: #3B4455;\n",
              "      fill: #D2E3FC;\n",
              "    }\n",
              "\n",
              "    [theme=dark] .colab-df-convert:hover {\n",
              "      background-color: #434B5C;\n",
              "      box-shadow: 0px 1px 3px 1px rgba(0, 0, 0, 0.15);\n",
              "      filter: drop-shadow(0px 1px 2px rgba(0, 0, 0, 0.3));\n",
              "      fill: #FFFFFF;\n",
              "    }\n",
              "  </style>\n",
              "\n",
              "      <script>\n",
              "        const buttonEl =\n",
              "          document.querySelector('#df-2239caff-44a3-40be-9470-e7c15213925e button.colab-df-convert');\n",
              "        buttonEl.style.display =\n",
              "          google.colab.kernel.accessAllowed ? 'block' : 'none';\n",
              "\n",
              "        async function convertToInteractive(key) {\n",
              "          const element = document.querySelector('#df-2239caff-44a3-40be-9470-e7c15213925e');\n",
              "          const dataTable =\n",
              "            await google.colab.kernel.invokeFunction('convertToInteractive',\n",
              "                                                     [key], {});\n",
              "          if (!dataTable) return;\n",
              "\n",
              "          const docLinkHtml = 'Like what you see? Visit the ' +\n",
              "            '<a target=\"_blank\" href=https://colab.research.google.com/notebooks/data_table.ipynb>data table notebook</a>'\n",
              "            + ' to learn more about interactive tables.';\n",
              "          element.innerHTML = '';\n",
              "          dataTable['output_type'] = 'display_data';\n",
              "          await google.colab.output.renderOutput(dataTable, element);\n",
              "          const docLink = document.createElement('div');\n",
              "          docLink.innerHTML = docLinkHtml;\n",
              "          element.appendChild(docLink);\n",
              "        }\n",
              "      </script>\n",
              "    </div>\n",
              "  </div>\n",
              "  "
            ]
          },
          "metadata": {},
          "execution_count": 11
        }
      ]
    },
    {
      "cell_type": "markdown",
      "source": [
        "Filtragem\n",
        "\n",
        "Vamos analisa somente os produtos cujas categorias indiquem a presença de leite\n",
        "\n"
      ],
      "metadata": {
        "id": "bkdla5yrCGnh"
      }
    },
    {
      "cell_type": "code",
      "source": [
        "flag_milk = []\n",
        "for label in raw_data['Category']:\n",
        "    if \"milk\" in label or \"Milk\" in label:\n",
        "        flag_milk.append(True)\n",
        "    else:\n",
        "        flag_milk.append(False)"
      ],
      "metadata": {
        "id": "BnUIKdXJCOBG"
      },
      "execution_count": 12,
      "outputs": []
    },
    {
      "cell_type": "code",
      "source": [
        "df_milk = raw_data[flag_milk]"
      ],
      "metadata": {
        "id": "Me9sBvgtC-qE"
      },
      "execution_count": 13,
      "outputs": []
    },
    {
      "cell_type": "code",
      "source": [
        "print(f'Number of Data instances: {df_milk.shape[0]}')\n",
        "print(f'Number of Data Attributes: {df_milk.shape[1]}')"
      ],
      "metadata": {
        "colab": {
          "base_uri": "https://localhost:8080/"
        },
        "id": "syAPdxzqDQEQ",
        "outputId": "b484321d-778e-4317-a402-ab3a546d814e"
      },
      "execution_count": 14,
      "outputs": [
        {
          "output_type": "stream",
          "name": "stdout",
          "text": [
            "Number of Data instances: 129\n",
            "Number of Data Attributes: 36\n"
          ]
        }
      ]
    },
    {
      "cell_type": "markdown",
      "metadata": {
        "id": "BHXs5q7qNPGJ"
      },
      "source": [
        "Pré-processamento\n"
      ]
    },
    {
      "cell_type": "code",
      "source": [
        "labels = df_milk['Category'].values\n",
        "df_milk = df_milk.drop(['Category'],axis=1)\n",
        "X = df_milk.values"
      ],
      "metadata": {
        "id": "qKN-dSxj_Mj_"
      },
      "execution_count": 15,
      "outputs": []
    },
    {
      "cell_type": "markdown",
      "source": [
        "Normalização dos atributos para o intervalo [0,1]"
      ],
      "metadata": {
        "id": "n_hZY6JN_UCO"
      }
    },
    {
      "cell_type": "code",
      "source": [
        "normalize = preprocessing.MinMaxScaler()\n",
        "xscaled = normalize.fit_transform(X)"
      ],
      "metadata": {
        "id": "JH6bPcbv_UH7"
      },
      "execution_count": 16,
      "outputs": []
    },
    {
      "cell_type": "code",
      "source": [
        "xscaled"
      ],
      "metadata": {
        "colab": {
          "base_uri": "https://localhost:8080/"
        },
        "id": "lfK3KM08_hgJ",
        "outputId": "0026ed7b-fa4c-4d07-b23f-129ff71a731e"
      },
      "execution_count": 17,
      "outputs": [
        {
          "output_type": "execute_result",
          "data": {
            "text/plain": [
              "array([[0.        , 0.12727273, 0.        , ..., 0.09174312, 0.00651997,\n",
              "        0.05263158],\n",
              "       [0.        , 0.07272727, 0.        , ..., 0.00183486, 0.00244499,\n",
              "        0.03508772],\n",
              "       [0.        , 0.12727273, 0.        , ..., 0.        , 0.00407498,\n",
              "        0.05263158],\n",
              "       ...,\n",
              "       [0.        , 0.05454545, 0.        , ..., 0.        , 0.00244499,\n",
              "        0.03508772],\n",
              "       [0.        , 0.05454545, 0.        , ..., 0.        , 0.00325998,\n",
              "        0.03508772],\n",
              "       [0.        , 0.        , 0.        , ..., 0.55045872, 0.57620212,\n",
              "        0.0877193 ]])"
            ]
          },
          "metadata": {},
          "execution_count": 17
        }
      ]
    },
    {
      "cell_type": "markdown",
      "metadata": {
        "id": "mdjazECBcxcL"
      },
      "source": [
        "## Visualização baseada no posicionamento de pontos utilizando Análise de Componentes Principais"
      ]
    },
    {
      "cell_type": "markdown",
      "metadata": {
        "id": "ajFOI7RgeKuc"
      },
      "source": [
        "Reduz a dimensionalidade dos dados"
      ]
    },
    {
      "cell_type": "code",
      "metadata": {
        "id": "iTMyFYxUeJvl",
        "colab": {
          "base_uri": "https://localhost:8080/",
          "height": 542
        },
        "outputId": "227fae93-4744-40a7-d9df-1f1d60127c97"
      },
      "source": [
        "sklearn_pca = sklearnPCA(n_components=2)\n",
        "X_pca = sklearn_pca.fit_transform(xscaled)\n",
        "\n",
        "#pca = PCA(n_components=2)\n",
        "#components = pca.fit_transform(X)\n",
        "\n",
        "fig = px.scatter(X_pca, x=0, y=1, color=labels.astype(object))\n",
        "fig.show()"
      ],
      "execution_count": 18,
      "outputs": [
        {
          "output_type": "display_data",
          "data": {
            "text/html": [
              "<html>\n",
              "<head><meta charset=\"utf-8\" /></head>\n",
              "<body>\n",
              "    <div>            <script src=\"https://cdnjs.cloudflare.com/ajax/libs/mathjax/2.7.5/MathJax.js?config=TeX-AMS-MML_SVG\"></script><script type=\"text/javascript\">if (window.MathJax) {MathJax.Hub.Config({SVG: {font: \"STIX-Web\"}});}</script>                <script type=\"text/javascript\">window.PlotlyConfig = {MathJaxConfig: 'local'};</script>\n",
              "        <script src=\"https://cdn.plot.ly/plotly-latest.min.js\"></script>                <div id=\"cd92ca0d-9a7f-44fe-a7d4-1ebe5d12fc45\" class=\"plotly-graph-div\" style=\"height:525px; width:100%;\"></div>            <script type=\"text/javascript\">                                    window.PLOTLYENV=window.PLOTLYENV || {};                                    if (document.getElementById(\"cd92ca0d-9a7f-44fe-a7d4-1ebe5d12fc45\")) {                    Plotly.newPlot(                        \"cd92ca0d-9a7f-44fe-a7d4-1ebe5d12fc45\",                        [{\"hovertemplate\": \"color=Milk<br>0=%{x}<br>1=%{y}<extra></extra>\", \"legendgroup\": \"Milk\", \"marker\": {\"color\": \"#636efa\", \"symbol\": \"circle\"}, \"mode\": \"markers\", \"name\": \"Milk\", \"orientation\": \"v\", \"showlegend\": true, \"type\": \"scatter\", \"x\": [-0.30912251771516147, -0.28024199158842883, -0.26076088324209123, -0.2861748324145119, -0.2607608832420924, -0.29956937684307183, -0.30410124670584743, -0.27776992606349193, -0.2995693768430717, -0.2777699260634924, -0.29956937684307183, -0.31854421170339825, -0.2995693768430717, -0.31854421170339825, -0.2777699260634921, -0.26076088324209157, -0.34701388790551, -0.18138682035157042, -0.32353192064978803, -0.3574207227322203, 0.08019842609840236, 0.08019842609840236, -0.030678702020733292, -0.07096849424397002, 0.8033889628615538, -0.18396059951297555, 2.2469632163312063, 2.144283770186978, 2.245848734899687, 2.2469632163312068, 1.936834543723573], \"xaxis\": \"x\", \"y\": [0.12732387400476064, -0.06625295482347822, -0.0204748674954147, 0.02167680127687457, -0.02047486749541463, -0.10093131844327487, -0.15337105539772927, -0.07360714772306577, -0.100931318443275, -0.07360714772306522, -0.10093131844327505, -0.13430556514049882, -0.10093131844327509, -0.1343055651404989, -0.07360714772306559, -0.02047486749541488, -0.11877647820699026, -0.016162031331650967, -0.08628659444319436, -0.10678793180145729, 0.021751874463367713, 0.02175187446336778, -0.1716703859663921, -0.23479797201395808, 0.04873826894189681, -0.08675678866490105, -1.4544803561350457, -0.15517304595802656, -1.4076075185390022, -1.454480356135045, -0.5593139941780891], \"yaxis\": \"y\"}, {\"hovertemplate\": \"color=Buttermilk<br>0=%{x}<br>1=%{y}<extra></extra>\", \"legendgroup\": \"Buttermilk\", \"marker\": {\"color\": \"#EF553B\", \"symbol\": \"circle\"}, \"mode\": \"markers\", \"name\": \"Buttermilk\", \"orientation\": \"v\", \"showlegend\": true, \"type\": \"scatter\", \"x\": [-0.28927770574541406, -0.2892777057454143, -0.24745352277417218, -0.2252588958082072], \"xaxis\": \"x\", \"y\": [-0.11579931465269226, -0.11579931465269237, -0.08830092775712359, -0.04077326665475172], \"yaxis\": \"y\"}, {\"hovertemplate\": \"color=Goat's milk<br>0=%{x}<br>1=%{y}<extra></extra>\", \"legendgroup\": \"Goat's milk\", \"marker\": {\"color\": \"#00cc96\", \"symbol\": \"circle\"}, \"mode\": \"markers\", \"name\": \"Goat's milk\", \"orientation\": \"v\", \"showlegend\": true, \"type\": \"scatter\", \"x\": [-0.24432251412184883], \"xaxis\": \"x\", \"y\": [0.016826220429304147], \"yaxis\": \"y\"}, {\"hovertemplate\": \"color=Non-dairy milk<br>0=%{x}<br>1=%{y}<extra></extra>\", \"legendgroup\": \"Non-dairy milk\", \"marker\": {\"color\": \"#ab63fa\", \"symbol\": \"circle\"}, \"mode\": \"markers\", \"name\": \"Non-dairy milk\", \"orientation\": \"v\", \"showlegend\": true, \"type\": \"scatter\", \"x\": [-0.34913887044991826], \"xaxis\": \"x\", \"y\": [0.026597391920007964], \"yaxis\": \"y\"}, {\"hovertemplate\": \"color=Soy milk<br>0=%{x}<br>1=%{y}<extra></extra>\", \"legendgroup\": \"Soy milk\", \"marker\": {\"color\": \"#FFA15A\", \"symbol\": \"circle\"}, \"mode\": \"markers\", \"name\": \"Soy milk\", \"orientation\": \"v\", \"showlegend\": true, \"type\": \"scatter\", \"x\": [-0.18330642192308214, -0.259448938219834, -0.2951417437238432, -0.09571198489986171, -0.12516165415085623, -0.12516165415085623], \"xaxis\": \"x\", \"y\": [0.14100918493817854, 0.0021551141616008604, 0.046231577176594735, 0.1387356577217172, 0.14558656628836356, 0.14558656628836356], \"yaxis\": \"y\"}, {\"hovertemplate\": \"color=Almond milk<br>0=%{x}<br>1=%{y}<extra></extra>\", \"legendgroup\": \"Almond milk\", \"marker\": {\"color\": \"#19d3f3\", \"symbol\": \"circle\"}, \"mode\": \"markers\", \"name\": \"Almond milk\", \"orientation\": \"v\", \"showlegend\": true, \"type\": \"scatter\", \"x\": [-0.40005032291085624, -0.3652298054757358, -0.4367329722757579, -0.42997082309628987], \"xaxis\": \"x\", \"y\": [-0.015954430783510283, -0.00022227846426524936, -0.032283210472933324, -0.02825978060716237], \"yaxis\": \"y\"}, {\"hovertemplate\": \"color=Rice milk<br>0=%{x}<br>1=%{y}<extra></extra>\", \"legendgroup\": \"Rice milk\", \"marker\": {\"color\": \"#FF6692\", \"symbol\": \"circle\"}, \"mode\": \"markers\", \"name\": \"Rice milk\", \"orientation\": \"v\", \"showlegend\": true, \"type\": \"scatter\", \"x\": [-0.32650386342739496], \"xaxis\": \"x\", \"y\": [-0.015133955213630132], \"yaxis\": \"y\"}, {\"hovertemplate\": \"color=Coconut milk<br>0=%{x}<br>1=%{y}<extra></extra>\", \"legendgroup\": \"Coconut milk\", \"marker\": {\"color\": \"#B6E880\", \"symbol\": \"circle\"}, \"mode\": \"markers\", \"name\": \"Coconut milk\", \"orientation\": \"v\", \"showlegend\": true, \"type\": \"scatter\", \"x\": [-0.4485945598425908, 0.08135292179607523], \"xaxis\": \"x\", \"y\": [-0.005924735911349454, 0.6275969373980481], \"yaxis\": \"y\"}, {\"hovertemplate\": \"color=Chocolate milk<br>0=%{x}<br>1=%{y}<extra></extra>\", \"legendgroup\": \"Chocolate milk\", \"marker\": {\"color\": \"#FF97FF\", \"symbol\": \"circle\"}, \"mode\": \"markers\", \"name\": \"Chocolate milk\", \"orientation\": \"v\", \"showlegend\": true, \"type\": \"scatter\", \"x\": [-0.23051368776728273, -0.17694502044588512, -0.18326931195078133, -0.23051368776728273, -0.23497025612297393, -0.26507885224230004, -0.23497025612297393, -0.23051368776728273, -0.23497025612297393, -0.2023783786904348, -0.18509537356964198, -0.20006142098827198, -0.22128744582703186, -0.2364345391200169, -0.21110176385737628, -0.15991973460171832, -0.1418432544220597, -0.1577662737613457, -0.1789625129469721, -0.19642628360982908, -0.17220809924323177, -0.2023783786904348, -0.18509537356964198, -0.20006142098827198, -0.22128744582703186, -0.2364345391200169, -0.21110176385737628, -0.15991973460171832, -0.1418432544220597, -0.1577662737613457, -0.1789625129469721, -0.19642628360982908, -0.17220809924323177, -0.20958619071055415, -0.19304703925897004, -0.20665928513466914, -0.22712355061324002, -0.24350769715917722, -0.22045793260289268, -0.25698871455235983, -0.24022630487759644, -0.2543568447628141, -0.27428175077449896, -0.29069801863256267, -0.26761003529597616, -0.23487942581534396, -0.21776420051099513, -0.23235386980625172, -0.2524193595415165, -0.26824920427427296, -0.24446567215053738], \"xaxis\": \"x\", \"y\": [-0.10508156084533526, 0.039011448046461124, -0.029681569716599375, -0.10508156084533526, -0.07816563352524636, -0.094620561897037, -0.07816563352524636, -0.10508156084533526, -0.07816563352524636, -0.045188825899576596, -0.0019738263517054444, -0.05222185703743594, -0.07787229493281239, -0.1031917370522274, 0.08090193671887218, -0.0881395356062045, -0.04425242467638693, -0.09517841853940565, -0.12147406442599315, -0.15401851595978786, 0.03244901237341666, -0.045188825899576596, -0.0019738263517054444, -0.05222185703743594, -0.07787229493281239, -0.1031917370522274, 0.08090193671887218, -0.0881395356062045, -0.04425242467638693, -0.09517841853940565, -0.12147406442599315, -0.15401851595978786, 0.03244901237341666, -0.0354478286646115, 0.00512915645732031, -0.04239587625313343, -0.06640389492164407, -0.09592809299310541, 0.07564252447678643, -0.04884479859393741, -0.008064633451797318, -0.05572190574580781, -0.08037339871601616, -0.1101196942489435, 0.062363327921609375, -0.005853167893786936, 0.034704275997729156, -0.012551994192506724, -0.03728691884024043, -0.06753307629727741, 0.10813267907935441], \"yaxis\": \"y\"}, {\"hovertemplate\": \"color=Strawberry milk<br>0=%{x}<br>1=%{y}<extra></extra>\", \"legendgroup\": \"Strawberry milk\", \"marker\": {\"color\": \"#FECB52\", \"symbol\": \"circle\"}, \"mode\": \"markers\", \"name\": \"Strawberry milk\", \"orientation\": \"v\", \"showlegend\": true, \"type\": \"scatter\", \"x\": [-0.27352079319356404, -0.20305029768441982, -0.22938524740900168, -0.23872402411827198, -0.2560500595912763, -0.2832749972635967, -0.23101006592134357], \"xaxis\": \"x\", \"y\": [-0.07182086104724036, 0.00759664418331785, -0.047863595099534105, -0.06783213153632207, -0.09917152074411552, -0.09179649394831393, 0.0839857394177428], \"yaxis\": \"y\"}, {\"hovertemplate\": \"color=Milk shake<br>0=%{x}<br>1=%{y}<extra></extra>\", \"legendgroup\": \"Milk shake\", \"marker\": {\"color\": \"#636efa\", \"symbol\": \"circle\"}, \"mode\": \"markers\", \"name\": \"Milk shake\", \"orientation\": \"v\", \"showlegend\": true, \"type\": \"scatter\", \"x\": [-0.06195190991250152, -0.09669309320873135, -0.11980176666978791, -0.14630068176136063, 0.1401767772810776, 0.08477857623507394, 0.1401767772810776, 0.08477857623507394], \"xaxis\": \"x\", \"y\": [0.09613563997834519, 0.06982306565937478, -0.00037544551854255625, -0.045522189178173994, 0.16058982222207283, 0.08226826296909288, 0.16058982222207283, 0.08226826296909288], \"yaxis\": \"y\"}, {\"hovertemplate\": \"color=Milk shake with malt<br>0=%{x}<br>1=%{y}<extra></extra>\", \"legendgroup\": \"Milk shake with malt\", \"marker\": {\"color\": \"#EF553B\", \"symbol\": \"circle\"}, \"mode\": \"markers\", \"name\": \"Milk shake with malt\", \"orientation\": \"v\", \"showlegend\": true, \"type\": \"scatter\", \"x\": [-0.03693620971609209], \"xaxis\": \"x\", \"y\": [0.07482134127520815], \"yaxis\": \"y\"}, {\"hovertemplate\": \"color=Chocolate milk drink<br>0=%{x}<br>1=%{y}<extra></extra>\", \"legendgroup\": \"Chocolate milk drink\", \"marker\": {\"color\": \"#00cc96\", \"symbol\": \"circle\"}, \"mode\": \"markers\", \"name\": \"Chocolate milk drink\", \"orientation\": \"v\", \"showlegend\": true, \"type\": \"scatter\", \"x\": [-0.33366317156929964], \"xaxis\": \"x\", \"y\": [0.03976283891719901], \"yaxis\": \"y\"}, {\"hovertemplate\": \"color=Milk dessert or milk candy<br>0=%{x}<br>1=%{y}<extra></extra>\", \"legendgroup\": \"Milk dessert or milk candy\", \"marker\": {\"color\": \"#ab63fa\", \"symbol\": \"circle\"}, \"mode\": \"markers\", \"name\": \"Milk dessert or milk candy\", \"orientation\": \"v\", \"showlegend\": true, \"type\": \"scatter\", \"x\": [0.6673478739739521], \"xaxis\": \"x\", \"y\": [0.14627122348284427], \"yaxis\": \"y\"}, {\"hovertemplate\": \"color=Milk 'n Cereal bar<br>0=%{x}<br>1=%{y}<extra></extra>\", \"legendgroup\": \"Milk 'n Cereal bar\", \"marker\": {\"color\": \"#FFA15A\", \"symbol\": \"circle\"}, \"mode\": \"markers\", \"name\": \"Milk 'n Cereal bar\", \"orientation\": \"v\", \"showlegend\": true, \"type\": \"scatter\", \"x\": [1.2439119485976886], \"xaxis\": \"x\", \"y\": [0.09038645750763931], \"yaxis\": \"y\"}, {\"hovertemplate\": \"color=Nutrition bar (Tiger's Milk)<br>0=%{x}<br>1=%{y}<extra></extra>\", \"legendgroup\": \"Nutrition bar (Tiger's Milk)\", \"marker\": {\"color\": \"#19d3f3\", \"symbol\": \"circle\"}, \"mode\": \"markers\", \"name\": \"Nutrition bar (Tiger's Milk)\", \"orientation\": \"v\", \"showlegend\": true, \"type\": \"scatter\", \"x\": [1.8659536504554608], \"xaxis\": \"x\", \"y\": [0.39581549023540197], \"yaxis\": \"y\"}, {\"hovertemplate\": \"color=Milk chocolate candy<br>0=%{x}<br>1=%{y}<extra></extra>\", \"legendgroup\": \"Milk chocolate candy\", \"marker\": {\"color\": \"#FF6692\", \"symbol\": \"circle\"}, \"mode\": \"markers\", \"name\": \"Milk chocolate candy\", \"orientation\": \"v\", \"showlegend\": true, \"type\": \"scatter\", \"x\": [1.4146361142385078, 1.4118091048640786, 1.233781462984502, 1.5949529725734322], \"xaxis\": \"x\", \"y\": [1.5562450412027324, 1.4986863545080147, 1.3485055188806072, 1.786755909411732], \"yaxis\": \"y\"}, {\"hovertemplate\": \"color=M&M's Milk Chocolate Candies<br>0=%{x}<br>1=%{y}<extra></extra>\", \"legendgroup\": \"M&M's Milk Chocolate Candies\", \"marker\": {\"color\": \"#B6E880\", \"symbol\": \"circle\"}, \"mode\": \"markers\", \"name\": \"M&M's Milk Chocolate Candies\", \"orientation\": \"v\", \"showlegend\": true, \"type\": \"scatter\", \"x\": [1.0451495808107127], \"xaxis\": \"x\", \"y\": [1.003497715712254], \"yaxis\": \"y\"}, {\"hovertemplate\": \"color=Oatmeal beverage with milk<br>0=%{x}<br>1=%{y}<extra></extra>\", \"legendgroup\": \"Oatmeal beverage with milk\", \"marker\": {\"color\": \"#FF97FF\", \"symbol\": \"circle\"}, \"mode\": \"markers\", \"name\": \"Oatmeal beverage with milk\", \"orientation\": \"v\", \"showlegend\": true, \"type\": \"scatter\", \"x\": [-0.22497579748037783], \"xaxis\": \"x\", \"y\": [0.266233977952283], \"yaxis\": \"y\"}, {\"hovertemplate\": \"color=Cornmeal beverage with chocolate milk<br>0=%{x}<br>1=%{y}<extra></extra>\", \"legendgroup\": \"Cornmeal beverage with chocolate milk\", \"marker\": {\"color\": \"#FECB52\", \"symbol\": \"circle\"}, \"mode\": \"markers\", \"name\": \"Cornmeal beverage with chocolate milk\", \"orientation\": \"v\", \"showlegend\": true, \"type\": \"scatter\", \"x\": [-0.18010843474197963], \"xaxis\": \"x\", \"y\": [0.1485518419106986], \"yaxis\": \"y\"}, {\"hovertemplate\": \"color=Nutritional powder mix (Muscle Milk)<br>0=%{x}<br>1=%{y}<extra></extra>\", \"legendgroup\": \"Nutritional powder mix (Muscle Milk)\", \"marker\": {\"color\": \"#636efa\", \"symbol\": \"circle\"}, \"mode\": \"markers\", \"name\": \"Nutritional powder mix (Muscle Milk)\", \"orientation\": \"v\", \"showlegend\": true, \"type\": \"scatter\", \"x\": [2.266655243722185], \"xaxis\": \"x\", \"y\": [-0.3651188282059009], \"yaxis\": \"y\"}],                        {\"legend\": {\"title\": {\"text\": \"color\"}, \"tracegroupgap\": 0}, \"margin\": {\"t\": 60}, \"template\": {\"data\": {\"bar\": [{\"error_x\": {\"color\": \"#2a3f5f\"}, \"error_y\": {\"color\": \"#2a3f5f\"}, \"marker\": {\"line\": {\"color\": \"#E5ECF6\", \"width\": 0.5}}, \"type\": \"bar\"}], \"barpolar\": [{\"marker\": {\"line\": {\"color\": \"#E5ECF6\", \"width\": 0.5}}, \"type\": \"barpolar\"}], \"carpet\": [{\"aaxis\": {\"endlinecolor\": \"#2a3f5f\", \"gridcolor\": \"white\", \"linecolor\": \"white\", \"minorgridcolor\": \"white\", \"startlinecolor\": \"#2a3f5f\"}, \"baxis\": {\"endlinecolor\": \"#2a3f5f\", \"gridcolor\": \"white\", \"linecolor\": \"white\", \"minorgridcolor\": \"white\", \"startlinecolor\": \"#2a3f5f\"}, \"type\": \"carpet\"}], \"choropleth\": [{\"colorbar\": {\"outlinewidth\": 0, \"ticks\": \"\"}, \"type\": \"choropleth\"}], \"contour\": [{\"colorbar\": {\"outlinewidth\": 0, \"ticks\": \"\"}, \"colorscale\": [[0.0, \"#0d0887\"], [0.1111111111111111, \"#46039f\"], [0.2222222222222222, \"#7201a8\"], [0.3333333333333333, \"#9c179e\"], [0.4444444444444444, \"#bd3786\"], [0.5555555555555556, \"#d8576b\"], [0.6666666666666666, \"#ed7953\"], [0.7777777777777778, \"#fb9f3a\"], [0.8888888888888888, \"#fdca26\"], [1.0, \"#f0f921\"]], \"type\": \"contour\"}], \"contourcarpet\": [{\"colorbar\": {\"outlinewidth\": 0, \"ticks\": \"\"}, \"type\": \"contourcarpet\"}], \"heatmap\": [{\"colorbar\": {\"outlinewidth\": 0, \"ticks\": \"\"}, \"colorscale\": [[0.0, \"#0d0887\"], [0.1111111111111111, \"#46039f\"], [0.2222222222222222, \"#7201a8\"], [0.3333333333333333, \"#9c179e\"], [0.4444444444444444, \"#bd3786\"], [0.5555555555555556, \"#d8576b\"], [0.6666666666666666, \"#ed7953\"], [0.7777777777777778, \"#fb9f3a\"], [0.8888888888888888, \"#fdca26\"], [1.0, \"#f0f921\"]], \"type\": \"heatmap\"}], \"heatmapgl\": [{\"colorbar\": {\"outlinewidth\": 0, \"ticks\": \"\"}, \"colorscale\": [[0.0, \"#0d0887\"], [0.1111111111111111, \"#46039f\"], [0.2222222222222222, \"#7201a8\"], [0.3333333333333333, \"#9c179e\"], [0.4444444444444444, \"#bd3786\"], [0.5555555555555556, \"#d8576b\"], [0.6666666666666666, \"#ed7953\"], [0.7777777777777778, \"#fb9f3a\"], [0.8888888888888888, \"#fdca26\"], [1.0, \"#f0f921\"]], \"type\": \"heatmapgl\"}], \"histogram\": [{\"marker\": {\"colorbar\": {\"outlinewidth\": 0, \"ticks\": \"\"}}, \"type\": \"histogram\"}], \"histogram2d\": [{\"colorbar\": {\"outlinewidth\": 0, \"ticks\": \"\"}, \"colorscale\": [[0.0, \"#0d0887\"], [0.1111111111111111, \"#46039f\"], [0.2222222222222222, \"#7201a8\"], [0.3333333333333333, \"#9c179e\"], [0.4444444444444444, \"#bd3786\"], [0.5555555555555556, \"#d8576b\"], [0.6666666666666666, \"#ed7953\"], [0.7777777777777778, \"#fb9f3a\"], [0.8888888888888888, \"#fdca26\"], [1.0, \"#f0f921\"]], \"type\": \"histogram2d\"}], \"histogram2dcontour\": [{\"colorbar\": {\"outlinewidth\": 0, \"ticks\": \"\"}, \"colorscale\": [[0.0, \"#0d0887\"], [0.1111111111111111, \"#46039f\"], [0.2222222222222222, \"#7201a8\"], [0.3333333333333333, \"#9c179e\"], [0.4444444444444444, \"#bd3786\"], [0.5555555555555556, \"#d8576b\"], [0.6666666666666666, \"#ed7953\"], [0.7777777777777778, \"#fb9f3a\"], [0.8888888888888888, \"#fdca26\"], [1.0, \"#f0f921\"]], \"type\": \"histogram2dcontour\"}], \"mesh3d\": [{\"colorbar\": {\"outlinewidth\": 0, \"ticks\": \"\"}, \"type\": \"mesh3d\"}], \"parcoords\": [{\"line\": {\"colorbar\": {\"outlinewidth\": 0, \"ticks\": \"\"}}, \"type\": \"parcoords\"}], \"pie\": [{\"automargin\": true, \"type\": \"pie\"}], \"scatter\": [{\"marker\": {\"colorbar\": {\"outlinewidth\": 0, \"ticks\": \"\"}}, \"type\": \"scatter\"}], \"scatter3d\": [{\"line\": {\"colorbar\": {\"outlinewidth\": 0, \"ticks\": \"\"}}, \"marker\": {\"colorbar\": {\"outlinewidth\": 0, \"ticks\": \"\"}}, \"type\": \"scatter3d\"}], \"scattercarpet\": [{\"marker\": {\"colorbar\": {\"outlinewidth\": 0, \"ticks\": \"\"}}, \"type\": \"scattercarpet\"}], \"scattergeo\": [{\"marker\": {\"colorbar\": {\"outlinewidth\": 0, \"ticks\": \"\"}}, \"type\": \"scattergeo\"}], \"scattergl\": [{\"marker\": {\"colorbar\": {\"outlinewidth\": 0, \"ticks\": \"\"}}, \"type\": \"scattergl\"}], \"scattermapbox\": [{\"marker\": {\"colorbar\": {\"outlinewidth\": 0, \"ticks\": \"\"}}, \"type\": \"scattermapbox\"}], \"scatterpolar\": [{\"marker\": {\"colorbar\": {\"outlinewidth\": 0, \"ticks\": \"\"}}, \"type\": \"scatterpolar\"}], \"scatterpolargl\": [{\"marker\": {\"colorbar\": {\"outlinewidth\": 0, \"ticks\": \"\"}}, \"type\": \"scatterpolargl\"}], \"scatterternary\": [{\"marker\": {\"colorbar\": {\"outlinewidth\": 0, \"ticks\": \"\"}}, \"type\": \"scatterternary\"}], \"surface\": [{\"colorbar\": {\"outlinewidth\": 0, \"ticks\": \"\"}, \"colorscale\": [[0.0, \"#0d0887\"], [0.1111111111111111, \"#46039f\"], [0.2222222222222222, \"#7201a8\"], [0.3333333333333333, \"#9c179e\"], [0.4444444444444444, \"#bd3786\"], [0.5555555555555556, \"#d8576b\"], [0.6666666666666666, \"#ed7953\"], [0.7777777777777778, \"#fb9f3a\"], [0.8888888888888888, \"#fdca26\"], [1.0, \"#f0f921\"]], \"type\": \"surface\"}], \"table\": [{\"cells\": {\"fill\": {\"color\": \"#EBF0F8\"}, \"line\": {\"color\": \"white\"}}, \"header\": {\"fill\": {\"color\": \"#C8D4E3\"}, \"line\": {\"color\": \"white\"}}, \"type\": \"table\"}]}, \"layout\": {\"annotationdefaults\": {\"arrowcolor\": \"#2a3f5f\", \"arrowhead\": 0, \"arrowwidth\": 1}, \"autotypenumbers\": \"strict\", \"coloraxis\": {\"colorbar\": {\"outlinewidth\": 0, \"ticks\": \"\"}}, \"colorscale\": {\"diverging\": [[0, \"#8e0152\"], [0.1, \"#c51b7d\"], [0.2, \"#de77ae\"], [0.3, \"#f1b6da\"], [0.4, \"#fde0ef\"], [0.5, \"#f7f7f7\"], [0.6, \"#e6f5d0\"], [0.7, \"#b8e186\"], [0.8, \"#7fbc41\"], [0.9, \"#4d9221\"], [1, \"#276419\"]], \"sequential\": [[0.0, \"#0d0887\"], [0.1111111111111111, \"#46039f\"], [0.2222222222222222, \"#7201a8\"], [0.3333333333333333, \"#9c179e\"], [0.4444444444444444, \"#bd3786\"], [0.5555555555555556, \"#d8576b\"], [0.6666666666666666, \"#ed7953\"], [0.7777777777777778, \"#fb9f3a\"], [0.8888888888888888, \"#fdca26\"], [1.0, \"#f0f921\"]], \"sequentialminus\": [[0.0, \"#0d0887\"], [0.1111111111111111, \"#46039f\"], [0.2222222222222222, \"#7201a8\"], [0.3333333333333333, \"#9c179e\"], [0.4444444444444444, \"#bd3786\"], [0.5555555555555556, \"#d8576b\"], [0.6666666666666666, \"#ed7953\"], [0.7777777777777778, \"#fb9f3a\"], [0.8888888888888888, \"#fdca26\"], [1.0, \"#f0f921\"]]}, \"colorway\": [\"#636efa\", \"#EF553B\", \"#00cc96\", \"#ab63fa\", \"#FFA15A\", \"#19d3f3\", \"#FF6692\", \"#B6E880\", \"#FF97FF\", \"#FECB52\"], \"font\": {\"color\": \"#2a3f5f\"}, \"geo\": {\"bgcolor\": \"white\", \"lakecolor\": \"white\", \"landcolor\": \"#E5ECF6\", \"showlakes\": true, \"showland\": true, \"subunitcolor\": \"white\"}, \"hoverlabel\": {\"align\": \"left\"}, \"hovermode\": \"closest\", \"mapbox\": {\"style\": \"light\"}, \"paper_bgcolor\": \"white\", \"plot_bgcolor\": \"#E5ECF6\", \"polar\": {\"angularaxis\": {\"gridcolor\": \"white\", \"linecolor\": \"white\", \"ticks\": \"\"}, \"bgcolor\": \"#E5ECF6\", \"radialaxis\": {\"gridcolor\": \"white\", \"linecolor\": \"white\", \"ticks\": \"\"}}, \"scene\": {\"xaxis\": {\"backgroundcolor\": \"#E5ECF6\", \"gridcolor\": \"white\", \"gridwidth\": 2, \"linecolor\": \"white\", \"showbackground\": true, \"ticks\": \"\", \"zerolinecolor\": \"white\"}, \"yaxis\": {\"backgroundcolor\": \"#E5ECF6\", \"gridcolor\": \"white\", \"gridwidth\": 2, \"linecolor\": \"white\", \"showbackground\": true, \"ticks\": \"\", \"zerolinecolor\": \"white\"}, \"zaxis\": {\"backgroundcolor\": \"#E5ECF6\", \"gridcolor\": \"white\", \"gridwidth\": 2, \"linecolor\": \"white\", \"showbackground\": true, \"ticks\": \"\", \"zerolinecolor\": \"white\"}}, \"shapedefaults\": {\"line\": {\"color\": \"#2a3f5f\"}}, \"ternary\": {\"aaxis\": {\"gridcolor\": \"white\", \"linecolor\": \"white\", \"ticks\": \"\"}, \"baxis\": {\"gridcolor\": \"white\", \"linecolor\": \"white\", \"ticks\": \"\"}, \"bgcolor\": \"#E5ECF6\", \"caxis\": {\"gridcolor\": \"white\", \"linecolor\": \"white\", \"ticks\": \"\"}}, \"title\": {\"x\": 0.05}, \"xaxis\": {\"automargin\": true, \"gridcolor\": \"white\", \"linecolor\": \"white\", \"ticks\": \"\", \"title\": {\"standoff\": 15}, \"zerolinecolor\": \"white\", \"zerolinewidth\": 2}, \"yaxis\": {\"automargin\": true, \"gridcolor\": \"white\", \"linecolor\": \"white\", \"ticks\": \"\", \"title\": {\"standoff\": 15}, \"zerolinecolor\": \"white\", \"zerolinewidth\": 2}}}, \"xaxis\": {\"anchor\": \"y\", \"domain\": [0.0, 1.0], \"title\": {\"text\": \"0\"}}, \"yaxis\": {\"anchor\": \"x\", \"domain\": [0.0, 1.0], \"title\": {\"text\": \"1\"}}},                        {\"responsive\": true}                    ).then(function(){\n",
              "                            \n",
              "var gd = document.getElementById('cd92ca0d-9a7f-44fe-a7d4-1ebe5d12fc45');\n",
              "var x = new MutationObserver(function (mutations, observer) {{\n",
              "        var display = window.getComputedStyle(gd).display;\n",
              "        if (!display || display === 'none') {{\n",
              "            console.log([gd, 'removed!']);\n",
              "            Plotly.purge(gd);\n",
              "            observer.disconnect();\n",
              "        }}\n",
              "}});\n",
              "\n",
              "// Listen for the removal of the full notebook cells\n",
              "var notebookContainer = gd.closest('#notebook-container');\n",
              "if (notebookContainer) {{\n",
              "    x.observe(notebookContainer, {childList: true});\n",
              "}}\n",
              "\n",
              "// Listen for the clearing of the current output cell\n",
              "var outputEl = gd.closest('.output');\n",
              "if (outputEl) {{\n",
              "    x.observe(outputEl, {childList: true});\n",
              "}}\n",
              "\n",
              "                        })                };                            </script>        </div>\n",
              "</body>\n",
              "</html>"
            ]
          },
          "metadata": {}
        }
      ]
    },
    {
      "cell_type": "markdown",
      "metadata": {
        "id": "9W5kvtkRr7VW"
      },
      "source": [
        "## UMAP"
      ]
    },
    {
      "cell_type": "code",
      "metadata": {
        "colab": {
          "base_uri": "https://localhost:8080/",
          "height": 542
        },
        "id": "fiReXW4er9XV",
        "outputId": "a26bc3cb-0b27-4c84-a773-a90ceefae51c"
      },
      "source": [
        "umap_2d = UMAP(n_components=2, init='random', random_state=0)\n",
        "X_umap = umap_2d.fit_transform(xscaled)\n",
        "\n",
        "fig = px.scatter(X_umap, x=0, y=1, color=labels.astype(object))\n",
        "fig.show()"
      ],
      "execution_count": 19,
      "outputs": [
        {
          "output_type": "display_data",
          "data": {
            "text/html": [
              "<html>\n",
              "<head><meta charset=\"utf-8\" /></head>\n",
              "<body>\n",
              "    <div>            <script src=\"https://cdnjs.cloudflare.com/ajax/libs/mathjax/2.7.5/MathJax.js?config=TeX-AMS-MML_SVG\"></script><script type=\"text/javascript\">if (window.MathJax) {MathJax.Hub.Config({SVG: {font: \"STIX-Web\"}});}</script>                <script type=\"text/javascript\">window.PlotlyConfig = {MathJaxConfig: 'local'};</script>\n",
              "        <script src=\"https://cdn.plot.ly/plotly-latest.min.js\"></script>                <div id=\"81b64815-1772-499a-9676-a7b6979cc088\" class=\"plotly-graph-div\" style=\"height:525px; width:100%;\"></div>            <script type=\"text/javascript\">                                    window.PLOTLYENV=window.PLOTLYENV || {};                                    if (document.getElementById(\"81b64815-1772-499a-9676-a7b6979cc088\")) {                    Plotly.newPlot(                        \"81b64815-1772-499a-9676-a7b6979cc088\",                        [{\"hovertemplate\": \"color=Milk<br>0=%{x}<br>1=%{y}<extra></extra>\", \"legendgroup\": \"Milk\", \"marker\": {\"color\": \"#636efa\", \"symbol\": \"circle\"}, \"mode\": \"markers\", \"name\": \"Milk\", \"orientation\": \"v\", \"showlegend\": true, \"type\": \"scatter\", \"x\": [0.029107248410582542, -0.7323912978172302, 0.1908591389656067, 0.22706803679466248, 0.012003928422927856, -2.4388604164123535, -2.9929850101470947, -0.9337272644042969, -2.6496381759643555, -0.8696877956390381, -2.514249086380005, -2.5956132411956787, -2.5650441646575928, -2.541984796524048, -0.7984917759895325, 0.0061869872733950615, -3.0447919368743896, -0.031605880707502365, -3.024420738220215, -3.03584623336792, 0.27906477451324463, 0.22335723042488098, -3.0045113563537598, -3.095898389816284, 0.7759270668029785, -1.8773415088653564, 1.0866708755493164, 1.1403405666351318, 1.3331035375595093, 1.2065768241882324, 0.9741831421852112], \"xaxis\": \"x\", \"y\": [3.8460097312927246, 2.001978635787964, 3.667210578918457, 3.5125925540924072, 3.596587657928467, 1.1327003240585327, 0.6729933023452759, 1.9646793603897095, 0.8975910544395447, 1.847678780555725, 1.2177009582519531, 0.8708820343017578, 1.0192164182662964, 0.8605930805206299, 1.8912686109542847, 3.5325160026550293, 0.8680423498153687, 4.0920000076293945, 0.8840766549110413, 0.9579359889030457, 6.073278903961182, 5.977599620819092, 4.620619773864746, 4.447748184204102, 7.088235378265381, 4.04599142074585, 6.759890556335449, 7.010248184204102, 6.869635105133057, 6.86138916015625, 7.506496429443359], \"yaxis\": \"y\"}, {\"hovertemplate\": \"color=Buttermilk<br>0=%{x}<br>1=%{y}<extra></extra>\", \"legendgroup\": \"Buttermilk\", \"marker\": {\"color\": \"#EF553B\", \"symbol\": \"circle\"}, \"mode\": \"markers\", \"name\": \"Buttermilk\", \"orientation\": \"v\", \"showlegend\": true, \"type\": \"scatter\", \"x\": [-3.621816396713257, -3.5313808917999268, -3.457246780395508, -0.12703989446163177], \"xaxis\": \"x\", \"y\": [2.302835702896118, 2.4258761405944824, 2.5816056728363037, 3.3737640380859375], \"yaxis\": \"y\"}, {\"hovertemplate\": \"color=Goat's milk<br>0=%{x}<br>1=%{y}<extra></extra>\", \"legendgroup\": \"Goat's milk\", \"marker\": {\"color\": \"#00cc96\", \"symbol\": \"circle\"}, \"mode\": \"markers\", \"name\": \"Goat's milk\", \"orientation\": \"v\", \"showlegend\": true, \"type\": \"scatter\", \"x\": [0.08960533142089844], \"xaxis\": \"x\", \"y\": [3.8108794689178467], \"yaxis\": \"y\"}, {\"hovertemplate\": \"color=Non-dairy milk<br>0=%{x}<br>1=%{y}<extra></extra>\", \"legendgroup\": \"Non-dairy milk\", \"marker\": {\"color\": \"#ab63fa\", \"symbol\": \"circle\"}, \"mode\": \"markers\", \"name\": \"Non-dairy milk\", \"orientation\": \"v\", \"showlegend\": true, \"type\": \"scatter\", \"x\": [2.531571626663208], \"xaxis\": \"x\", \"y\": [-0.0026379285845905542], \"yaxis\": \"y\"}, {\"hovertemplate\": \"color=Soy milk<br>0=%{x}<br>1=%{y}<extra></extra>\", \"legendgroup\": \"Soy milk\", \"marker\": {\"color\": \"#FFA15A\", \"symbol\": \"circle\"}, \"mode\": \"markers\", \"name\": \"Soy milk\", \"orientation\": \"v\", \"showlegend\": true, \"type\": \"scatter\", \"x\": [3.654729127883911, 2.9735538959503174, 3.16279673576355, 3.5254294872283936, 3.7192015647888184, 3.6038103103637695], \"xaxis\": \"x\", \"y\": [-0.2832019627094269, -0.38345885276794434, -0.29260489344596863, -0.5126948952674866, -0.4202677309513092, -0.42266345024108887], \"yaxis\": \"y\"}, {\"hovertemplate\": \"color=Almond milk<br>0=%{x}<br>1=%{y}<extra></extra>\", \"legendgroup\": \"Almond milk\", \"marker\": {\"color\": \"#19d3f3\", \"symbol\": \"circle\"}, \"mode\": \"markers\", \"name\": \"Almond milk\", \"orientation\": \"v\", \"showlegend\": true, \"type\": \"scatter\", \"x\": [-3.336172103881836, -3.3320741653442383, -3.489500045776367, -3.360347270965576], \"xaxis\": \"x\", \"y\": [-0.020400838926434517, -0.028504613786935806, 0.166873961687088, 0.035404086112976074], \"yaxis\": \"y\"}, {\"hovertemplate\": \"color=Rice milk<br>0=%{x}<br>1=%{y}<extra></extra>\", \"legendgroup\": \"Rice milk\", \"marker\": {\"color\": \"#FF6692\", \"symbol\": \"circle\"}, \"mode\": \"markers\", \"name\": \"Rice milk\", \"orientation\": \"v\", \"showlegend\": true, \"type\": \"scatter\", \"x\": [-2.966449022293091], \"xaxis\": \"x\", \"y\": [1.3699530363082886], \"yaxis\": \"y\"}, {\"hovertemplate\": \"color=Coconut milk<br>0=%{x}<br>1=%{y}<extra></extra>\", \"legendgroup\": \"Coconut milk\", \"marker\": {\"color\": \"#B6E880\", \"symbol\": \"circle\"}, \"mode\": \"markers\", \"name\": \"Coconut milk\", \"orientation\": \"v\", \"showlegend\": true, \"type\": \"scatter\", \"x\": [-3.0054519176483154, 0.08821602165699005], \"xaxis\": \"x\", \"y\": [1.2494797706604004, 6.25393009185791], \"yaxis\": \"y\"}, {\"hovertemplate\": \"color=Chocolate milk<br>0=%{x}<br>1=%{y}<extra></extra>\", \"legendgroup\": \"Chocolate milk\", \"marker\": {\"color\": \"#FF97FF\", \"symbol\": \"circle\"}, \"mode\": \"markers\", \"name\": \"Chocolate milk\", \"orientation\": \"v\", \"showlegend\": true, \"type\": \"scatter\", \"x\": [-0.8717339634895325, -0.9035430550575256, -0.9175021648406982, -0.8229264616966248, -3.572381019592285, -3.529283046722412, -3.419426918029785, -0.7490234971046448, -3.4867537021636963, -1.5227491855621338, -1.2203779220581055, -1.9262863397598267, -2.390932083129883, -2.597480058670044, 3.1049129962921143, -3.245795488357544, -3.053494691848755, -3.2829549312591553, -3.544975996017456, -3.60356068611145, 3.2096011638641357, -1.5762369632720947, -1.085361361503601, -1.7984791994094849, -2.4709253311157227, -2.6196799278259277, 3.0284996032714844, -3.1290814876556396, -2.873533010482788, -3.347919464111328, -3.6692349910736084, -3.6357791423797607, 3.088028907775879, -1.713785171508789, -1.2724252939224243, -1.8756946325302124, -2.217517137527466, -2.379512071609497, 2.8285646438598633, -1.450119137763977, -0.5491650700569153, -1.6197872161865234, -2.459345817565918, -2.5860376358032227, 2.82670521736145, -1.3724075555801392, -1.2824137210845947, -1.4745372533798218, -1.6118351221084595, -1.6733462810516357, 2.8483452796936035], \"xaxis\": \"x\", \"y\": [4.783693790435791, 4.206267833709717, 4.593019008636475, 4.930388927459717, 3.4160799980163574, 3.1693074703216553, 3.2359206676483154, 4.8663482666015625, 3.3527770042419434, 3.86141300201416, 4.212061882019043, 3.767937183380127, 3.818040370941162, 3.617208480834961, 0.2948644161224365, 6.844823837280273, 6.759719371795654, 6.8748064041137695, 6.675591945648193, 6.423661231994629, 0.07828641682863235, 3.905045747756958, 4.027387619018555, 4.00151252746582, 3.750962495803833, 3.7255547046661377, -0.04083370044827461, 6.71582555770874, 6.913496017456055, 6.858770847320557, 6.515649318695068, 6.564660549163818, 0.014953244477510452, 3.1347758769989014, 3.474642515182495, 3.203817129135132, 2.9110491275787354, 3.004288911819458, 0.2624088525772095, 2.5468502044677734, 3.619011878967285, 2.695908308029175, 2.0291671752929688, 1.8636415004730225, -0.18475207686424255, 1.1554291248321533, 1.3413679599761963, 1.3148552179336548, 1.2082198858261108, 1.1090624332427979, 0.197834774851799], \"yaxis\": \"y\"}, {\"hovertemplate\": \"color=Strawberry milk<br>0=%{x}<br>1=%{y}<extra></extra>\", \"legendgroup\": \"Strawberry milk\", \"marker\": {\"color\": \"#FECB52\", \"symbol\": \"circle\"}, \"mode\": \"markers\", \"name\": \"Strawberry milk\", \"orientation\": \"v\", \"showlegend\": true, \"type\": \"scatter\", \"x\": [-0.9019559621810913, -1.0609691143035889, -1.839408278465271, -2.343158006668091, -2.4216465950012207, -2.6041650772094727, 2.908339500427246], \"xaxis\": \"x\", \"y\": [2.0297839641571045, 3.621959686279297, 2.859940528869629, 2.8525664806365967, 2.839641809463501, 1.4382001161575317, 0.08609601110219955], \"yaxis\": \"y\"}, {\"hovertemplate\": \"color=Milk shake<br>0=%{x}<br>1=%{y}<extra></extra>\", \"legendgroup\": \"Milk shake\", \"marker\": {\"color\": \"#636efa\", \"symbol\": \"circle\"}, \"mode\": \"markers\", \"name\": \"Milk shake\", \"orientation\": \"v\", \"showlegend\": true, \"type\": \"scatter\", \"x\": [-0.08984103798866272, 0.1256108433008194, -0.28476670384407043, -1.1799806356430054, 0.1700320839881897, 0.23590293526649475, 0.40337446331977844, 0.3417474329471588], \"xaxis\": \"x\", \"y\": [5.864781379699707, 5.663449764251709, 5.406867980957031, 3.8438525199890137, 6.931464672088623, 7.128526210784912, 6.955913543701172, 7.008325099945068], \"yaxis\": \"y\"}, {\"hovertemplate\": \"color=Milk shake with malt<br>0=%{x}<br>1=%{y}<extra></extra>\", \"legendgroup\": \"Milk shake with malt\", \"marker\": {\"color\": \"#EF553B\", \"symbol\": \"circle\"}, \"mode\": \"markers\", \"name\": \"Milk shake with malt\", \"orientation\": \"v\", \"showlegend\": true, \"type\": \"scatter\", \"x\": [0.05849035456776619], \"xaxis\": \"x\", \"y\": [5.874757766723633], \"yaxis\": \"y\"}, {\"hovertemplate\": \"color=Chocolate milk drink<br>0=%{x}<br>1=%{y}<extra></extra>\", \"legendgroup\": \"Chocolate milk drink\", \"marker\": {\"color\": \"#00cc96\", \"symbol\": \"circle\"}, \"mode\": \"markers\", \"name\": \"Chocolate milk drink\", \"orientation\": \"v\", \"showlegend\": true, \"type\": \"scatter\", \"x\": [-1.758334755897522], \"xaxis\": \"x\", \"y\": [1.0436943769454956], \"yaxis\": \"y\"}, {\"hovertemplate\": \"color=Milk dessert or milk candy<br>0=%{x}<br>1=%{y}<extra></extra>\", \"legendgroup\": \"Milk dessert or milk candy\", \"marker\": {\"color\": \"#ab63fa\", \"symbol\": \"circle\"}, \"mode\": \"markers\", \"name\": \"Milk dessert or milk candy\", \"orientation\": \"v\", \"showlegend\": true, \"type\": \"scatter\", \"x\": [0.6193526387214661], \"xaxis\": \"x\", \"y\": [7.163329124450684], \"yaxis\": \"y\"}, {\"hovertemplate\": \"color=Milk 'n Cereal bar<br>0=%{x}<br>1=%{y}<extra></extra>\", \"legendgroup\": \"Milk 'n Cereal bar\", \"marker\": {\"color\": \"#FFA15A\", \"symbol\": \"circle\"}, \"mode\": \"markers\", \"name\": \"Milk 'n Cereal bar\", \"orientation\": \"v\", \"showlegend\": true, \"type\": \"scatter\", \"x\": [0.8382022976875305], \"xaxis\": \"x\", \"y\": [7.31843376159668], \"yaxis\": \"y\"}, {\"hovertemplate\": \"color=Nutrition bar (Tiger's Milk)<br>0=%{x}<br>1=%{y}<extra></extra>\", \"legendgroup\": \"Nutrition bar (Tiger's Milk)\", \"marker\": {\"color\": \"#19d3f3\", \"symbol\": \"circle\"}, \"mode\": \"markers\", \"name\": \"Nutrition bar (Tiger's Milk)\", \"orientation\": \"v\", \"showlegend\": true, \"type\": \"scatter\", \"x\": [1.0240979194641113], \"xaxis\": \"x\", \"y\": [7.637484073638916], \"yaxis\": \"y\"}, {\"hovertemplate\": \"color=Milk chocolate candy<br>0=%{x}<br>1=%{y}<extra></extra>\", \"legendgroup\": \"Milk chocolate candy\", \"marker\": {\"color\": \"#FF6692\", \"symbol\": \"circle\"}, \"mode\": \"markers\", \"name\": \"Milk chocolate candy\", \"orientation\": \"v\", \"showlegend\": true, \"type\": \"scatter\", \"x\": [0.3469749987125397, 0.43079331517219543, 0.60699063539505, 0.47783994674682617], \"xaxis\": \"x\", \"y\": [7.750586986541748, 7.911955833435059, 7.928953170776367, 7.842870235443115], \"yaxis\": \"y\"}, {\"hovertemplate\": \"color=M&M's Milk Chocolate Candies<br>0=%{x}<br>1=%{y}<extra></extra>\", \"legendgroup\": \"M&M's Milk Chocolate Candies\", \"marker\": {\"color\": \"#B6E880\", \"symbol\": \"circle\"}, \"mode\": \"markers\", \"name\": \"M&M's Milk Chocolate Candies\", \"orientation\": \"v\", \"showlegend\": true, \"type\": \"scatter\", \"x\": [0.6448937058448792], \"xaxis\": \"x\", \"y\": [7.670607089996338], \"yaxis\": \"y\"}, {\"hovertemplate\": \"color=Oatmeal beverage with milk<br>0=%{x}<br>1=%{y}<extra></extra>\", \"legendgroup\": \"Oatmeal beverage with milk\", \"marker\": {\"color\": \"#FF97FF\", \"symbol\": \"circle\"}, \"mode\": \"markers\", \"name\": \"Oatmeal beverage with milk\", \"orientation\": \"v\", \"showlegend\": true, \"type\": \"scatter\", \"x\": [-1.5383245944976807], \"xaxis\": \"x\", \"y\": [1.4827593564987183], \"yaxis\": \"y\"}, {\"hovertemplate\": \"color=Cornmeal beverage with chocolate milk<br>0=%{x}<br>1=%{y}<extra></extra>\", \"legendgroup\": \"Cornmeal beverage with chocolate milk\", \"marker\": {\"color\": \"#FECB52\", \"symbol\": \"circle\"}, \"mode\": \"markers\", \"name\": \"Cornmeal beverage with chocolate milk\", \"orientation\": \"v\", \"showlegend\": true, \"type\": \"scatter\", \"x\": [-1.7055511474609375], \"xaxis\": \"x\", \"y\": [3.188595771789551], \"yaxis\": \"y\"}, {\"hovertemplate\": \"color=Nutritional powder mix (Muscle Milk)<br>0=%{x}<br>1=%{y}<extra></extra>\", \"legendgroup\": \"Nutritional powder mix (Muscle Milk)\", \"marker\": {\"color\": \"#636efa\", \"symbol\": \"circle\"}, \"mode\": \"markers\", \"name\": \"Nutritional powder mix (Muscle Milk)\", \"orientation\": \"v\", \"showlegend\": true, \"type\": \"scatter\", \"x\": [1.2751610279083252], \"xaxis\": \"x\", \"y\": [7.358720779418945], \"yaxis\": \"y\"}],                        {\"legend\": {\"title\": {\"text\": \"color\"}, \"tracegroupgap\": 0}, \"margin\": {\"t\": 60}, \"template\": {\"data\": {\"bar\": [{\"error_x\": {\"color\": \"#2a3f5f\"}, \"error_y\": {\"color\": \"#2a3f5f\"}, \"marker\": {\"line\": {\"color\": \"#E5ECF6\", \"width\": 0.5}}, \"type\": \"bar\"}], \"barpolar\": [{\"marker\": {\"line\": {\"color\": \"#E5ECF6\", \"width\": 0.5}}, \"type\": \"barpolar\"}], \"carpet\": [{\"aaxis\": {\"endlinecolor\": \"#2a3f5f\", \"gridcolor\": \"white\", \"linecolor\": \"white\", \"minorgridcolor\": \"white\", \"startlinecolor\": \"#2a3f5f\"}, \"baxis\": {\"endlinecolor\": \"#2a3f5f\", \"gridcolor\": \"white\", \"linecolor\": \"white\", \"minorgridcolor\": \"white\", \"startlinecolor\": \"#2a3f5f\"}, \"type\": \"carpet\"}], \"choropleth\": [{\"colorbar\": {\"outlinewidth\": 0, \"ticks\": \"\"}, \"type\": \"choropleth\"}], \"contour\": [{\"colorbar\": {\"outlinewidth\": 0, \"ticks\": \"\"}, \"colorscale\": [[0.0, \"#0d0887\"], [0.1111111111111111, \"#46039f\"], [0.2222222222222222, \"#7201a8\"], [0.3333333333333333, \"#9c179e\"], [0.4444444444444444, \"#bd3786\"], [0.5555555555555556, \"#d8576b\"], [0.6666666666666666, \"#ed7953\"], [0.7777777777777778, \"#fb9f3a\"], [0.8888888888888888, \"#fdca26\"], [1.0, \"#f0f921\"]], \"type\": \"contour\"}], \"contourcarpet\": [{\"colorbar\": {\"outlinewidth\": 0, \"ticks\": \"\"}, \"type\": \"contourcarpet\"}], \"heatmap\": [{\"colorbar\": {\"outlinewidth\": 0, \"ticks\": \"\"}, \"colorscale\": [[0.0, \"#0d0887\"], [0.1111111111111111, \"#46039f\"], [0.2222222222222222, \"#7201a8\"], [0.3333333333333333, \"#9c179e\"], [0.4444444444444444, \"#bd3786\"], [0.5555555555555556, \"#d8576b\"], [0.6666666666666666, \"#ed7953\"], [0.7777777777777778, \"#fb9f3a\"], [0.8888888888888888, \"#fdca26\"], [1.0, \"#f0f921\"]], \"type\": \"heatmap\"}], \"heatmapgl\": [{\"colorbar\": {\"outlinewidth\": 0, \"ticks\": \"\"}, \"colorscale\": [[0.0, \"#0d0887\"], [0.1111111111111111, \"#46039f\"], [0.2222222222222222, \"#7201a8\"], [0.3333333333333333, \"#9c179e\"], [0.4444444444444444, \"#bd3786\"], [0.5555555555555556, \"#d8576b\"], [0.6666666666666666, \"#ed7953\"], [0.7777777777777778, \"#fb9f3a\"], [0.8888888888888888, \"#fdca26\"], [1.0, \"#f0f921\"]], \"type\": \"heatmapgl\"}], \"histogram\": [{\"marker\": {\"colorbar\": {\"outlinewidth\": 0, \"ticks\": \"\"}}, \"type\": \"histogram\"}], \"histogram2d\": [{\"colorbar\": {\"outlinewidth\": 0, \"ticks\": \"\"}, \"colorscale\": [[0.0, \"#0d0887\"], [0.1111111111111111, \"#46039f\"], [0.2222222222222222, \"#7201a8\"], [0.3333333333333333, \"#9c179e\"], [0.4444444444444444, \"#bd3786\"], [0.5555555555555556, \"#d8576b\"], [0.6666666666666666, \"#ed7953\"], [0.7777777777777778, \"#fb9f3a\"], [0.8888888888888888, \"#fdca26\"], [1.0, \"#f0f921\"]], \"type\": \"histogram2d\"}], \"histogram2dcontour\": [{\"colorbar\": {\"outlinewidth\": 0, \"ticks\": \"\"}, \"colorscale\": [[0.0, \"#0d0887\"], [0.1111111111111111, \"#46039f\"], [0.2222222222222222, \"#7201a8\"], [0.3333333333333333, \"#9c179e\"], [0.4444444444444444, \"#bd3786\"], [0.5555555555555556, \"#d8576b\"], [0.6666666666666666, \"#ed7953\"], [0.7777777777777778, \"#fb9f3a\"], [0.8888888888888888, \"#fdca26\"], [1.0, \"#f0f921\"]], \"type\": \"histogram2dcontour\"}], \"mesh3d\": [{\"colorbar\": {\"outlinewidth\": 0, \"ticks\": \"\"}, \"type\": \"mesh3d\"}], \"parcoords\": [{\"line\": {\"colorbar\": {\"outlinewidth\": 0, \"ticks\": \"\"}}, \"type\": \"parcoords\"}], \"pie\": [{\"automargin\": true, \"type\": \"pie\"}], \"scatter\": [{\"marker\": {\"colorbar\": {\"outlinewidth\": 0, \"ticks\": \"\"}}, \"type\": \"scatter\"}], \"scatter3d\": [{\"line\": {\"colorbar\": {\"outlinewidth\": 0, \"ticks\": \"\"}}, \"marker\": {\"colorbar\": {\"outlinewidth\": 0, \"ticks\": \"\"}}, \"type\": \"scatter3d\"}], \"scattercarpet\": [{\"marker\": {\"colorbar\": {\"outlinewidth\": 0, \"ticks\": \"\"}}, \"type\": \"scattercarpet\"}], \"scattergeo\": [{\"marker\": {\"colorbar\": {\"outlinewidth\": 0, \"ticks\": \"\"}}, \"type\": \"scattergeo\"}], \"scattergl\": [{\"marker\": {\"colorbar\": {\"outlinewidth\": 0, \"ticks\": \"\"}}, \"type\": \"scattergl\"}], \"scattermapbox\": [{\"marker\": {\"colorbar\": {\"outlinewidth\": 0, \"ticks\": \"\"}}, \"type\": \"scattermapbox\"}], \"scatterpolar\": [{\"marker\": {\"colorbar\": {\"outlinewidth\": 0, \"ticks\": \"\"}}, \"type\": \"scatterpolar\"}], \"scatterpolargl\": [{\"marker\": {\"colorbar\": {\"outlinewidth\": 0, \"ticks\": \"\"}}, \"type\": \"scatterpolargl\"}], \"scatterternary\": [{\"marker\": {\"colorbar\": {\"outlinewidth\": 0, \"ticks\": \"\"}}, \"type\": \"scatterternary\"}], \"surface\": [{\"colorbar\": {\"outlinewidth\": 0, \"ticks\": \"\"}, \"colorscale\": [[0.0, \"#0d0887\"], [0.1111111111111111, \"#46039f\"], [0.2222222222222222, \"#7201a8\"], [0.3333333333333333, \"#9c179e\"], [0.4444444444444444, \"#bd3786\"], [0.5555555555555556, \"#d8576b\"], [0.6666666666666666, \"#ed7953\"], [0.7777777777777778, \"#fb9f3a\"], [0.8888888888888888, \"#fdca26\"], [1.0, \"#f0f921\"]], \"type\": \"surface\"}], \"table\": [{\"cells\": {\"fill\": {\"color\": \"#EBF0F8\"}, \"line\": {\"color\": \"white\"}}, \"header\": {\"fill\": {\"color\": \"#C8D4E3\"}, \"line\": {\"color\": \"white\"}}, \"type\": \"table\"}]}, \"layout\": {\"annotationdefaults\": {\"arrowcolor\": \"#2a3f5f\", \"arrowhead\": 0, \"arrowwidth\": 1}, \"autotypenumbers\": \"strict\", \"coloraxis\": {\"colorbar\": {\"outlinewidth\": 0, \"ticks\": \"\"}}, \"colorscale\": {\"diverging\": [[0, \"#8e0152\"], [0.1, \"#c51b7d\"], [0.2, \"#de77ae\"], [0.3, \"#f1b6da\"], [0.4, \"#fde0ef\"], [0.5, \"#f7f7f7\"], [0.6, \"#e6f5d0\"], [0.7, \"#b8e186\"], [0.8, \"#7fbc41\"], [0.9, \"#4d9221\"], [1, \"#276419\"]], \"sequential\": [[0.0, \"#0d0887\"], [0.1111111111111111, \"#46039f\"], [0.2222222222222222, \"#7201a8\"], [0.3333333333333333, \"#9c179e\"], [0.4444444444444444, \"#bd3786\"], [0.5555555555555556, \"#d8576b\"], [0.6666666666666666, \"#ed7953\"], [0.7777777777777778, \"#fb9f3a\"], [0.8888888888888888, \"#fdca26\"], [1.0, \"#f0f921\"]], \"sequentialminus\": [[0.0, \"#0d0887\"], [0.1111111111111111, \"#46039f\"], [0.2222222222222222, \"#7201a8\"], [0.3333333333333333, \"#9c179e\"], [0.4444444444444444, \"#bd3786\"], [0.5555555555555556, \"#d8576b\"], [0.6666666666666666, \"#ed7953\"], [0.7777777777777778, \"#fb9f3a\"], [0.8888888888888888, \"#fdca26\"], [1.0, \"#f0f921\"]]}, \"colorway\": [\"#636efa\", \"#EF553B\", \"#00cc96\", \"#ab63fa\", \"#FFA15A\", \"#19d3f3\", \"#FF6692\", \"#B6E880\", \"#FF97FF\", \"#FECB52\"], \"font\": {\"color\": \"#2a3f5f\"}, \"geo\": {\"bgcolor\": \"white\", \"lakecolor\": \"white\", \"landcolor\": \"#E5ECF6\", \"showlakes\": true, \"showland\": true, \"subunitcolor\": \"white\"}, \"hoverlabel\": {\"align\": \"left\"}, \"hovermode\": \"closest\", \"mapbox\": {\"style\": \"light\"}, \"paper_bgcolor\": \"white\", \"plot_bgcolor\": \"#E5ECF6\", \"polar\": {\"angularaxis\": {\"gridcolor\": \"white\", \"linecolor\": \"white\", \"ticks\": \"\"}, \"bgcolor\": \"#E5ECF6\", \"radialaxis\": {\"gridcolor\": \"white\", \"linecolor\": \"white\", \"ticks\": \"\"}}, \"scene\": {\"xaxis\": {\"backgroundcolor\": \"#E5ECF6\", \"gridcolor\": \"white\", \"gridwidth\": 2, \"linecolor\": \"white\", \"showbackground\": true, \"ticks\": \"\", \"zerolinecolor\": \"white\"}, \"yaxis\": {\"backgroundcolor\": \"#E5ECF6\", \"gridcolor\": \"white\", \"gridwidth\": 2, \"linecolor\": \"white\", \"showbackground\": true, \"ticks\": \"\", \"zerolinecolor\": \"white\"}, \"zaxis\": {\"backgroundcolor\": \"#E5ECF6\", \"gridcolor\": \"white\", \"gridwidth\": 2, \"linecolor\": \"white\", \"showbackground\": true, \"ticks\": \"\", \"zerolinecolor\": \"white\"}}, \"shapedefaults\": {\"line\": {\"color\": \"#2a3f5f\"}}, \"ternary\": {\"aaxis\": {\"gridcolor\": \"white\", \"linecolor\": \"white\", \"ticks\": \"\"}, \"baxis\": {\"gridcolor\": \"white\", \"linecolor\": \"white\", \"ticks\": \"\"}, \"bgcolor\": \"#E5ECF6\", \"caxis\": {\"gridcolor\": \"white\", \"linecolor\": \"white\", \"ticks\": \"\"}}, \"title\": {\"x\": 0.05}, \"xaxis\": {\"automargin\": true, \"gridcolor\": \"white\", \"linecolor\": \"white\", \"ticks\": \"\", \"title\": {\"standoff\": 15}, \"zerolinecolor\": \"white\", \"zerolinewidth\": 2}, \"yaxis\": {\"automargin\": true, \"gridcolor\": \"white\", \"linecolor\": \"white\", \"ticks\": \"\", \"title\": {\"standoff\": 15}, \"zerolinecolor\": \"white\", \"zerolinewidth\": 2}}}, \"xaxis\": {\"anchor\": \"y\", \"domain\": [0.0, 1.0], \"title\": {\"text\": \"0\"}}, \"yaxis\": {\"anchor\": \"x\", \"domain\": [0.0, 1.0], \"title\": {\"text\": \"1\"}}},                        {\"responsive\": true}                    ).then(function(){\n",
              "                            \n",
              "var gd = document.getElementById('81b64815-1772-499a-9676-a7b6979cc088');\n",
              "var x = new MutationObserver(function (mutations, observer) {{\n",
              "        var display = window.getComputedStyle(gd).display;\n",
              "        if (!display || display === 'none') {{\n",
              "            console.log([gd, 'removed!']);\n",
              "            Plotly.purge(gd);\n",
              "            observer.disconnect();\n",
              "        }}\n",
              "}});\n",
              "\n",
              "// Listen for the removal of the full notebook cells\n",
              "var notebookContainer = gd.closest('#notebook-container');\n",
              "if (notebookContainer) {{\n",
              "    x.observe(notebookContainer, {childList: true});\n",
              "}}\n",
              "\n",
              "// Listen for the clearing of the current output cell\n",
              "var outputEl = gd.closest('.output');\n",
              "if (outputEl) {{\n",
              "    x.observe(outputEl, {childList: true});\n",
              "}}\n",
              "\n",
              "                        })                };                            </script>        </div>\n",
              "</body>\n",
              "</html>"
            ]
          },
          "metadata": {}
        }
      ]
    },
    {
      "cell_type": "markdown",
      "metadata": {
        "id": "zcc_ss8MdFNh"
      },
      "source": [
        "## t-Stochastic Distributed Neighbor Embedding Projection (t-SNE)\n"
      ]
    },
    {
      "cell_type": "markdown",
      "metadata": {
        "id": "i3ocJItKtpl8"
      },
      "source": [
        "Vamos gerar um gráfico de linhas para o conjunto de dados Auto-MPG Cars. Considere que cada carro é enumerado por um número inteiro de 1 a N, em que N é a quantidade de instâncias. Agora vamos criar uma nova coluna no DataFrame para possibilitar seu uso como eixo X no gráfico de linhas (Line Chart) do Plotly:"
      ]
    },
    {
      "cell_type": "code",
      "metadata": {
        "id": "-Ov9hczGtmjG",
        "colab": {
          "base_uri": "https://localhost:8080/",
          "height": 542
        },
        "outputId": "ed54cd9c-70fe-47cb-861f-49b687c84059"
      },
      "source": [
        "tsne = TSNE(n_components=2,perplexity=5,learning_rate=100.0,metric='euclidean', init='random')\n",
        "X_tsne = tsne.fit_transform(xscaled)\n",
        "\n",
        "fig = px.scatter(X_tsne, x=0, y=1, color=labels.astype(object))\n",
        "fig.show()\n"
      ],
      "execution_count": 20,
      "outputs": [
        {
          "output_type": "display_data",
          "data": {
            "text/html": [
              "<html>\n",
              "<head><meta charset=\"utf-8\" /></head>\n",
              "<body>\n",
              "    <div>            <script src=\"https://cdnjs.cloudflare.com/ajax/libs/mathjax/2.7.5/MathJax.js?config=TeX-AMS-MML_SVG\"></script><script type=\"text/javascript\">if (window.MathJax) {MathJax.Hub.Config({SVG: {font: \"STIX-Web\"}});}</script>                <script type=\"text/javascript\">window.PlotlyConfig = {MathJaxConfig: 'local'};</script>\n",
              "        <script src=\"https://cdn.plot.ly/plotly-latest.min.js\"></script>                <div id=\"c4a8221f-83ee-4b61-a618-7cb25489e5b3\" class=\"plotly-graph-div\" style=\"height:525px; width:100%;\"></div>            <script type=\"text/javascript\">                                    window.PLOTLYENV=window.PLOTLYENV || {};                                    if (document.getElementById(\"c4a8221f-83ee-4b61-a618-7cb25489e5b3\")) {                    Plotly.newPlot(                        \"c4a8221f-83ee-4b61-a618-7cb25489e5b3\",                        [{\"hovertemplate\": \"color=Milk<br>0=%{x}<br>1=%{y}<extra></extra>\", \"legendgroup\": \"Milk\", \"marker\": {\"color\": \"#636efa\", \"symbol\": \"circle\"}, \"mode\": \"markers\", \"name\": \"Milk\", \"orientation\": \"v\", \"showlegend\": true, \"type\": \"scatter\", \"x\": [-4.2967610359191895, -10.962736129760742, -1.3272143602371216, -3.1080586910247803, -0.657679557800293, -5.270320415496826, -8.659673690795898, -11.902807235717773, -4.768138408660889, -11.056814193725586, -5.54902982711792, -7.900542259216309, -4.500035762786865, -7.706216335296631, -11.737565040588379, -1.0963081121444702, -7.051863670349121, -1.1386479139328003, -6.224716663360596, -7.202417373657227, 0.6128236055374146, 0.6699495315551758, 25.67793846130371, 25.71298599243164, -3.728578567504883, 18.15966796875, -2.1468498706817627, -1.8429206609725952, -2.37992787361145, -2.8302180767059326, -6.687784671783447], \"xaxis\": \"x\", \"y\": [-9.759940147399902, 6.407188892364502, -8.680526733398438, -8.66665267944336, -8.651959419250488, 18.64376449584961, 21.920970916748047, 8.049764633178711, 17.56340217590332, 8.293850898742676, 17.789932250976562, 19.27703857421875, 18.45909881591797, 19.547517776489258, 7.257564067840576, -8.09441089630127, 23.140581130981445, -10.3157958984375, 22.607460021972656, 23.871545791625977, -23.08534049987793, -23.23261260986328, -6.606198310852051, -6.577218532562256, -35.07191848754883, -3.96955943107605, -41.06435775756836, -39.0136604309082, -40.36727523803711, -40.94234085083008, -35.08049011230469], \"yaxis\": \"y\"}, {\"hovertemplate\": \"color=Buttermilk<br>0=%{x}<br>1=%{y}<extra></extra>\", \"legendgroup\": \"Buttermilk\", \"marker\": {\"color\": \"#EF553B\", \"symbol\": \"circle\"}, \"mode\": \"markers\", \"name\": \"Buttermilk\", \"orientation\": \"v\", \"showlegend\": true, \"type\": \"scatter\", \"x\": [-3.3249928951263428, -3.324993133544922, -3.082291841506958, -2.807298183441162], \"xaxis\": \"x\", \"y\": [-0.2299659550189972, -0.22996562719345093, -1.6238505840301514, -3.1278815269470215], \"yaxis\": \"y\"}, {\"hovertemplate\": \"color=Goat's milk<br>0=%{x}<br>1=%{y}<extra></extra>\", \"legendgroup\": \"Goat's milk\", \"marker\": {\"color\": \"#00cc96\", \"symbol\": \"circle\"}, \"mode\": \"markers\", \"name\": \"Goat's milk\", \"orientation\": \"v\", \"showlegend\": true, \"type\": \"scatter\", \"x\": [-2.5596280097961426], \"xaxis\": \"x\", \"y\": [-10.71729850769043], \"yaxis\": \"y\"}, {\"hovertemplate\": \"color=Non-dairy milk<br>0=%{x}<br>1=%{y}<extra></extra>\", \"legendgroup\": \"Non-dairy milk\", \"marker\": {\"color\": \"#ab63fa\", \"symbol\": \"circle\"}, \"mode\": \"markers\", \"name\": \"Non-dairy milk\", \"orientation\": \"v\", \"showlegend\": true, \"type\": \"scatter\", \"x\": [-37.468746185302734], \"xaxis\": \"x\", \"y\": [27.464805603027344], \"yaxis\": \"y\"}, {\"hovertemplate\": \"color=Soy milk<br>0=%{x}<br>1=%{y}<extra></extra>\", \"legendgroup\": \"Soy milk\", \"marker\": {\"color\": \"#FFA15A\", \"symbol\": \"circle\"}, \"mode\": \"markers\", \"name\": \"Soy milk\", \"orientation\": \"v\", \"showlegend\": true, \"type\": \"scatter\", \"x\": [-46.1475944519043, -41.33934020996094, -41.85041809082031, -46.606590270996094, -45.1973991394043, -45.568485260009766], \"xaxis\": \"x\", \"y\": [20.394577026367188, 24.685945510864258, 23.911466598510742, 20.061243057250977, 19.52265739440918, 19.135251998901367], \"yaxis\": \"y\"}, {\"hovertemplate\": \"color=Almond milk<br>0=%{x}<br>1=%{y}<extra></extra>\", \"legendgroup\": \"Almond milk\", \"marker\": {\"color\": \"#19d3f3\", \"symbol\": \"circle\"}, \"mode\": \"markers\", \"name\": \"Almond milk\", \"orientation\": \"v\", \"showlegend\": true, \"type\": \"scatter\", \"x\": [-30.68623161315918, -29.973793029785156, -30.62504768371582, -31.281131744384766], \"xaxis\": \"x\", \"y\": [28.25725746154785, 28.13825225830078, 29.328960418701172, 28.987045288085938], \"yaxis\": \"y\"}, {\"hovertemplate\": \"color=Rice milk<br>0=%{x}<br>1=%{y}<extra></extra>\", \"legendgroup\": \"Rice milk\", \"marker\": {\"color\": \"#FF6692\", \"symbol\": \"circle\"}, \"mode\": \"markers\", \"name\": \"Rice milk\", \"orientation\": \"v\", \"showlegend\": true, \"type\": \"scatter\", \"x\": [-0.8756893277168274], \"xaxis\": \"x\", \"y\": [18.998598098754883], \"yaxis\": \"y\"}, {\"hovertemplate\": \"color=Coconut milk<br>0=%{x}<br>1=%{y}<extra></extra>\", \"legendgroup\": \"Coconut milk\", \"marker\": {\"color\": \"#B6E880\", \"symbol\": \"circle\"}, \"mode\": \"markers\", \"name\": \"Coconut milk\", \"orientation\": \"v\", \"showlegend\": true, \"type\": \"scatter\", \"x\": [-0.7591407299041748, 5.0608391761779785], \"xaxis\": \"x\", \"y\": [20.211772918701172, -23.375652313232422], \"yaxis\": \"y\"}, {\"hovertemplate\": \"color=Chocolate milk<br>0=%{x}<br>1=%{y}<extra></extra>\", \"legendgroup\": \"Chocolate milk\", \"marker\": {\"color\": \"#FF97FF\", \"symbol\": \"circle\"}, \"mode\": \"markers\", \"name\": \"Chocolate milk\", \"orientation\": \"v\", \"showlegend\": true, \"type\": \"scatter\", \"x\": [13.368170738220215, 8.266644477844238, 8.974217414855957, 12.688224792480469, 4.489071846008301, 2.7683310508728027, 4.017796516418457, 13.165411949157715, 3.9086270332336426, 15.56937026977539, 7.4430928230285645, 16.699844360351562, 19.148862838745117, 19.45985984802246, -40.84686279296875, 38.9778938293457, 37.80474090576172, 40.190216064453125, 41.32365417480469, 42.08499526977539, -43.2957878112793, 15.672996520996094, 7.458707809448242, 16.838415145874023, 18.810991287231445, 19.88612937927246, -41.01134490966797, 39.65200424194336, 38.12146759033203, 39.492855072021484, 41.78171920776367, 42.65879440307617, -43.18645095825195, 10.748205184936523, 5.098184108734131, 10.471593856811523, 13.342159271240234, 14.040139198303223, -40.0542106628418, 6.371941566467285, 2.2057530879974365, 6.664646148681641, -0.7431021332740784, -0.5017794370651245, -39.43976974487305, 14.194717407226562, 14.953774452209473, 13.697901725769043, 13.175202369689941, 12.516534805297852, -38.90974426269531], \"xaxis\": \"x\", \"y\": [-16.11479949951172, -12.612848281860352, -13.578237533569336, -15.960951805114746, 3.5005884170532227, 3.7352542877197266, 3.979551076889038, -15.442618370056152, 3.1675541400909424, -3.3106555938720703, -11.04863452911377, -3.4105679988861084, 1.493510127067566, 3.095731258392334, 27.27832794189453, -9.757835388183594, -12.133124351501465, -9.232826232910156, -6.653139591217041, -5.41904878616333, 28.073776245117188, -2.62631893157959, -11.037202835083008, -2.7532639503479004, 1.6573140621185303, 2.8818132877349854, 27.769306182861328, -10.144813537597656, -12.35107135772705, -8.812376976013184, -6.963162422180176, -5.828441619873047, 28.467235565185547, 11.52035140991211, -8.185744285583496, 11.261104583740234, 9.624420166015625, 8.710132598876953, 28.933258056640625, 10.281976699829102, -8.337607383728027, 10.32398509979248, 16.9068546295166, 16.31329345703125, 27.057891845703125, 22.539264678955078, 23.344051361083984, 23.02220344543457, 21.9194393157959, 22.15825843811035, 25.72243309020996], \"yaxis\": \"y\"}, {\"hovertemplate\": \"color=Strawberry milk<br>0=%{x}<br>1=%{y}<extra></extra>\", \"legendgroup\": \"Strawberry milk\", \"marker\": {\"color\": \"#FECB52\", \"symbol\": \"circle\"}, \"mode\": \"markers\", \"name\": \"Strawberry milk\", \"orientation\": \"v\", \"showlegend\": true, \"type\": \"scatter\", \"x\": [-10.64311695098877, 4.770874500274658, 8.264090538024902, 14.013875961303711, 14.73202896118164, -3.113459825515747, -39.699947357177734], \"xaxis\": \"x\", \"y\": [7.545763969421387, -8.005671501159668, 10.567707061767578, 10.161886215209961, 9.177929878234863, 17.514392852783203, 28.277297973632812], \"yaxis\": \"y\"}, {\"hovertemplate\": \"color=Milk shake<br>0=%{x}<br>1=%{y}<extra></extra>\", \"legendgroup\": \"Milk shake\", \"marker\": {\"color\": \"#636efa\", \"symbol\": \"circle\"}, \"mode\": \"markers\", \"name\": \"Milk shake\", \"orientation\": \"v\", \"showlegend\": true, \"type\": \"scatter\", \"x\": [4.4860687255859375, 3.8240208625793457, 5.939257621765137, 5.891351699829102, 0.771546483039856, 2.1298131942749023, 1.0734052658081055, 1.874919056892395], \"xaxis\": \"x\", \"y\": [-21.868064880371094, -21.314908981323242, -20.445045471191406, -7.015191555023193, -30.39891242980957, -30.488920211791992, -29.85279655456543, -30.950998306274414], \"yaxis\": \"y\"}, {\"hovertemplate\": \"color=Milk shake with malt<br>0=%{x}<br>1=%{y}<extra></extra>\", \"legendgroup\": \"Milk shake with malt\", \"marker\": {\"color\": \"#EF553B\", \"symbol\": \"circle\"}, \"mode\": \"markers\", \"name\": \"Milk shake with malt\", \"orientation\": \"v\", \"showlegend\": true, \"type\": \"scatter\", \"x\": [3.5120694637298584], \"xaxis\": \"x\", \"y\": [-21.84085464477539], \"yaxis\": \"y\"}, {\"hovertemplate\": \"color=Chocolate milk drink<br>0=%{x}<br>1=%{y}<extra></extra>\", \"legendgroup\": \"Chocolate milk drink\", \"marker\": {\"color\": \"#00cc96\", \"symbol\": \"circle\"}, \"mode\": \"markers\", \"name\": \"Chocolate milk drink\", \"orientation\": \"v\", \"showlegend\": true, \"type\": \"scatter\", \"x\": [12.096019744873047], \"xaxis\": \"x\", \"y\": [20.62417984008789], \"yaxis\": \"y\"}, {\"hovertemplate\": \"color=Milk dessert or milk candy<br>0=%{x}<br>1=%{y}<extra></extra>\", \"legendgroup\": \"Milk dessert or milk candy\", \"marker\": {\"color\": \"#ab63fa\", \"symbol\": \"circle\"}, \"mode\": \"markers\", \"name\": \"Milk dessert or milk candy\", \"orientation\": \"v\", \"showlegend\": true, \"type\": \"scatter\", \"x\": [-3.83965802192688], \"xaxis\": \"x\", \"y\": [-34.953529357910156], \"yaxis\": \"y\"}, {\"hovertemplate\": \"color=Milk 'n Cereal bar<br>0=%{x}<br>1=%{y}<extra></extra>\", \"legendgroup\": \"Milk 'n Cereal bar\", \"marker\": {\"color\": \"#FFA15A\", \"symbol\": \"circle\"}, \"mode\": \"markers\", \"name\": \"Milk 'n Cereal bar\", \"orientation\": \"v\", \"showlegend\": true, \"type\": \"scatter\", \"x\": [-5.806819438934326], \"xaxis\": \"x\", \"y\": [-35.87514877319336], \"yaxis\": \"y\"}, {\"hovertemplate\": \"color=Nutrition bar (Tiger's Milk)<br>0=%{x}<br>1=%{y}<extra></extra>\", \"legendgroup\": \"Nutrition bar (Tiger's Milk)\", \"marker\": {\"color\": \"#19d3f3\", \"symbol\": \"circle\"}, \"mode\": \"markers\", \"name\": \"Nutrition bar (Tiger's Milk)\", \"orientation\": \"v\", \"showlegend\": true, \"type\": \"scatter\", \"x\": [-6.32211971282959], \"xaxis\": \"x\", \"y\": [-37.46001434326172], \"yaxis\": \"y\"}, {\"hovertemplate\": \"color=Milk chocolate candy<br>0=%{x}<br>1=%{y}<extra></extra>\", \"legendgroup\": \"Milk chocolate candy\", \"marker\": {\"color\": \"#FF6692\", \"symbol\": \"circle\"}, \"mode\": \"markers\", \"name\": \"Milk chocolate candy\", \"orientation\": \"v\", \"showlegend\": true, \"type\": \"scatter\", \"x\": [-13.148112297058105, -12.822978973388672, -11.961568832397461, -13.057578086853027], \"xaxis\": \"x\", \"y\": [-35.855010986328125, -36.33912658691406, -35.62229919433594, -34.87193298339844], \"yaxis\": \"y\"}, {\"hovertemplate\": \"color=M&M's Milk Chocolate Candies<br>0=%{x}<br>1=%{y}<extra></extra>\", \"legendgroup\": \"M&M's Milk Chocolate Candies\", \"marker\": {\"color\": \"#B6E880\", \"symbol\": \"circle\"}, \"mode\": \"markers\", \"name\": \"M&M's Milk Chocolate Candies\", \"orientation\": \"v\", \"showlegend\": true, \"type\": \"scatter\", \"x\": [-10.843949317932129], \"xaxis\": \"x\", \"y\": [-35.723140716552734], \"yaxis\": \"y\"}, {\"hovertemplate\": \"color=Oatmeal beverage with milk<br>0=%{x}<br>1=%{y}<extra></extra>\", \"legendgroup\": \"Oatmeal beverage with milk\", \"marker\": {\"color\": \"#FF97FF\", \"symbol\": \"circle\"}, \"mode\": \"markers\", \"name\": \"Oatmeal beverage with milk\", \"orientation\": \"v\", \"showlegend\": true, \"type\": \"scatter\", \"x\": [11.813090324401855], \"xaxis\": \"x\", \"y\": [15.942030906677246], \"yaxis\": \"y\"}, {\"hovertemplate\": \"color=Cornmeal beverage with chocolate milk<br>0=%{x}<br>1=%{y}<extra></extra>\", \"legendgroup\": \"Cornmeal beverage with chocolate milk\", \"marker\": {\"color\": \"#FECB52\", \"symbol\": \"circle\"}, \"mode\": \"markers\", \"name\": \"Cornmeal beverage with chocolate milk\", \"orientation\": \"v\", \"showlegend\": true, \"type\": \"scatter\", \"x\": [11.425275802612305], \"xaxis\": \"x\", \"y\": [14.194172859191895], \"yaxis\": \"y\"}, {\"hovertemplate\": \"color=Nutritional powder mix (Muscle Milk)<br>0=%{x}<br>1=%{y}<extra></extra>\", \"legendgroup\": \"Nutritional powder mix (Muscle Milk)\", \"marker\": {\"color\": \"#636efa\", \"symbol\": \"circle\"}, \"mode\": \"markers\", \"name\": \"Nutritional powder mix (Muscle Milk)\", \"orientation\": \"v\", \"showlegend\": true, \"type\": \"scatter\", \"x\": [-5.695764541625977], \"xaxis\": \"x\", \"y\": [-38.7771110534668], \"yaxis\": \"y\"}],                        {\"legend\": {\"title\": {\"text\": \"color\"}, \"tracegroupgap\": 0}, \"margin\": {\"t\": 60}, \"template\": {\"data\": {\"bar\": [{\"error_x\": {\"color\": \"#2a3f5f\"}, \"error_y\": {\"color\": \"#2a3f5f\"}, \"marker\": {\"line\": {\"color\": \"#E5ECF6\", \"width\": 0.5}}, \"type\": \"bar\"}], \"barpolar\": [{\"marker\": {\"line\": {\"color\": \"#E5ECF6\", \"width\": 0.5}}, \"type\": \"barpolar\"}], \"carpet\": [{\"aaxis\": {\"endlinecolor\": \"#2a3f5f\", \"gridcolor\": \"white\", \"linecolor\": \"white\", \"minorgridcolor\": \"white\", \"startlinecolor\": \"#2a3f5f\"}, \"baxis\": {\"endlinecolor\": \"#2a3f5f\", \"gridcolor\": \"white\", \"linecolor\": \"white\", \"minorgridcolor\": \"white\", \"startlinecolor\": \"#2a3f5f\"}, \"type\": \"carpet\"}], \"choropleth\": [{\"colorbar\": {\"outlinewidth\": 0, \"ticks\": \"\"}, \"type\": \"choropleth\"}], \"contour\": [{\"colorbar\": {\"outlinewidth\": 0, \"ticks\": \"\"}, \"colorscale\": [[0.0, \"#0d0887\"], [0.1111111111111111, \"#46039f\"], [0.2222222222222222, \"#7201a8\"], [0.3333333333333333, \"#9c179e\"], [0.4444444444444444, \"#bd3786\"], [0.5555555555555556, \"#d8576b\"], [0.6666666666666666, \"#ed7953\"], [0.7777777777777778, \"#fb9f3a\"], [0.8888888888888888, \"#fdca26\"], [1.0, \"#f0f921\"]], \"type\": \"contour\"}], \"contourcarpet\": [{\"colorbar\": {\"outlinewidth\": 0, \"ticks\": \"\"}, \"type\": \"contourcarpet\"}], \"heatmap\": [{\"colorbar\": {\"outlinewidth\": 0, \"ticks\": \"\"}, \"colorscale\": [[0.0, \"#0d0887\"], [0.1111111111111111, \"#46039f\"], [0.2222222222222222, \"#7201a8\"], [0.3333333333333333, \"#9c179e\"], [0.4444444444444444, \"#bd3786\"], [0.5555555555555556, \"#d8576b\"], [0.6666666666666666, \"#ed7953\"], [0.7777777777777778, \"#fb9f3a\"], [0.8888888888888888, \"#fdca26\"], [1.0, \"#f0f921\"]], \"type\": \"heatmap\"}], \"heatmapgl\": [{\"colorbar\": {\"outlinewidth\": 0, \"ticks\": \"\"}, \"colorscale\": [[0.0, \"#0d0887\"], [0.1111111111111111, \"#46039f\"], [0.2222222222222222, \"#7201a8\"], [0.3333333333333333, \"#9c179e\"], [0.4444444444444444, \"#bd3786\"], [0.5555555555555556, \"#d8576b\"], [0.6666666666666666, \"#ed7953\"], [0.7777777777777778, \"#fb9f3a\"], [0.8888888888888888, \"#fdca26\"], [1.0, \"#f0f921\"]], \"type\": \"heatmapgl\"}], \"histogram\": [{\"marker\": {\"colorbar\": {\"outlinewidth\": 0, \"ticks\": \"\"}}, \"type\": \"histogram\"}], \"histogram2d\": [{\"colorbar\": {\"outlinewidth\": 0, \"ticks\": \"\"}, \"colorscale\": [[0.0, \"#0d0887\"], [0.1111111111111111, \"#46039f\"], [0.2222222222222222, \"#7201a8\"], [0.3333333333333333, \"#9c179e\"], [0.4444444444444444, \"#bd3786\"], [0.5555555555555556, \"#d8576b\"], [0.6666666666666666, \"#ed7953\"], [0.7777777777777778, \"#fb9f3a\"], [0.8888888888888888, \"#fdca26\"], [1.0, \"#f0f921\"]], \"type\": \"histogram2d\"}], \"histogram2dcontour\": [{\"colorbar\": {\"outlinewidth\": 0, \"ticks\": \"\"}, \"colorscale\": [[0.0, \"#0d0887\"], [0.1111111111111111, \"#46039f\"], [0.2222222222222222, \"#7201a8\"], [0.3333333333333333, \"#9c179e\"], [0.4444444444444444, \"#bd3786\"], [0.5555555555555556, \"#d8576b\"], [0.6666666666666666, \"#ed7953\"], [0.7777777777777778, \"#fb9f3a\"], [0.8888888888888888, \"#fdca26\"], [1.0, \"#f0f921\"]], \"type\": \"histogram2dcontour\"}], \"mesh3d\": [{\"colorbar\": {\"outlinewidth\": 0, \"ticks\": \"\"}, \"type\": \"mesh3d\"}], \"parcoords\": [{\"line\": {\"colorbar\": {\"outlinewidth\": 0, \"ticks\": \"\"}}, \"type\": \"parcoords\"}], \"pie\": [{\"automargin\": true, \"type\": \"pie\"}], \"scatter\": [{\"marker\": {\"colorbar\": {\"outlinewidth\": 0, \"ticks\": \"\"}}, \"type\": \"scatter\"}], \"scatter3d\": [{\"line\": {\"colorbar\": {\"outlinewidth\": 0, \"ticks\": \"\"}}, \"marker\": {\"colorbar\": {\"outlinewidth\": 0, \"ticks\": \"\"}}, \"type\": \"scatter3d\"}], \"scattercarpet\": [{\"marker\": {\"colorbar\": {\"outlinewidth\": 0, \"ticks\": \"\"}}, \"type\": \"scattercarpet\"}], \"scattergeo\": [{\"marker\": {\"colorbar\": {\"outlinewidth\": 0, \"ticks\": \"\"}}, \"type\": \"scattergeo\"}], \"scattergl\": [{\"marker\": {\"colorbar\": {\"outlinewidth\": 0, \"ticks\": \"\"}}, \"type\": \"scattergl\"}], \"scattermapbox\": [{\"marker\": {\"colorbar\": {\"outlinewidth\": 0, \"ticks\": \"\"}}, \"type\": \"scattermapbox\"}], \"scatterpolar\": [{\"marker\": {\"colorbar\": {\"outlinewidth\": 0, \"ticks\": \"\"}}, \"type\": \"scatterpolar\"}], \"scatterpolargl\": [{\"marker\": {\"colorbar\": {\"outlinewidth\": 0, \"ticks\": \"\"}}, \"type\": \"scatterpolargl\"}], \"scatterternary\": [{\"marker\": {\"colorbar\": {\"outlinewidth\": 0, \"ticks\": \"\"}}, \"type\": \"scatterternary\"}], \"surface\": [{\"colorbar\": {\"outlinewidth\": 0, \"ticks\": \"\"}, \"colorscale\": [[0.0, \"#0d0887\"], [0.1111111111111111, \"#46039f\"], [0.2222222222222222, \"#7201a8\"], [0.3333333333333333, \"#9c179e\"], [0.4444444444444444, \"#bd3786\"], [0.5555555555555556, \"#d8576b\"], [0.6666666666666666, \"#ed7953\"], [0.7777777777777778, \"#fb9f3a\"], [0.8888888888888888, \"#fdca26\"], [1.0, \"#f0f921\"]], \"type\": \"surface\"}], \"table\": [{\"cells\": {\"fill\": {\"color\": \"#EBF0F8\"}, \"line\": {\"color\": \"white\"}}, \"header\": {\"fill\": {\"color\": \"#C8D4E3\"}, \"line\": {\"color\": \"white\"}}, \"type\": \"table\"}]}, \"layout\": {\"annotationdefaults\": {\"arrowcolor\": \"#2a3f5f\", \"arrowhead\": 0, \"arrowwidth\": 1}, \"autotypenumbers\": \"strict\", \"coloraxis\": {\"colorbar\": {\"outlinewidth\": 0, \"ticks\": \"\"}}, \"colorscale\": {\"diverging\": [[0, \"#8e0152\"], [0.1, \"#c51b7d\"], [0.2, \"#de77ae\"], [0.3, \"#f1b6da\"], [0.4, \"#fde0ef\"], [0.5, \"#f7f7f7\"], [0.6, \"#e6f5d0\"], [0.7, \"#b8e186\"], [0.8, \"#7fbc41\"], [0.9, \"#4d9221\"], [1, \"#276419\"]], \"sequential\": [[0.0, \"#0d0887\"], [0.1111111111111111, \"#46039f\"], [0.2222222222222222, \"#7201a8\"], [0.3333333333333333, \"#9c179e\"], [0.4444444444444444, \"#bd3786\"], [0.5555555555555556, \"#d8576b\"], [0.6666666666666666, \"#ed7953\"], [0.7777777777777778, \"#fb9f3a\"], [0.8888888888888888, \"#fdca26\"], [1.0, \"#f0f921\"]], \"sequentialminus\": [[0.0, \"#0d0887\"], [0.1111111111111111, \"#46039f\"], [0.2222222222222222, \"#7201a8\"], [0.3333333333333333, \"#9c179e\"], [0.4444444444444444, \"#bd3786\"], [0.5555555555555556, \"#d8576b\"], [0.6666666666666666, \"#ed7953\"], [0.7777777777777778, \"#fb9f3a\"], [0.8888888888888888, \"#fdca26\"], [1.0, \"#f0f921\"]]}, \"colorway\": [\"#636efa\", \"#EF553B\", \"#00cc96\", \"#ab63fa\", \"#FFA15A\", \"#19d3f3\", \"#FF6692\", \"#B6E880\", \"#FF97FF\", \"#FECB52\"], \"font\": {\"color\": \"#2a3f5f\"}, \"geo\": {\"bgcolor\": \"white\", \"lakecolor\": \"white\", \"landcolor\": \"#E5ECF6\", \"showlakes\": true, \"showland\": true, \"subunitcolor\": \"white\"}, \"hoverlabel\": {\"align\": \"left\"}, \"hovermode\": \"closest\", \"mapbox\": {\"style\": \"light\"}, \"paper_bgcolor\": \"white\", \"plot_bgcolor\": \"#E5ECF6\", \"polar\": {\"angularaxis\": {\"gridcolor\": \"white\", \"linecolor\": \"white\", \"ticks\": \"\"}, \"bgcolor\": \"#E5ECF6\", \"radialaxis\": {\"gridcolor\": \"white\", \"linecolor\": \"white\", \"ticks\": \"\"}}, \"scene\": {\"xaxis\": {\"backgroundcolor\": \"#E5ECF6\", \"gridcolor\": \"white\", \"gridwidth\": 2, \"linecolor\": \"white\", \"showbackground\": true, \"ticks\": \"\", \"zerolinecolor\": \"white\"}, \"yaxis\": {\"backgroundcolor\": \"#E5ECF6\", \"gridcolor\": \"white\", \"gridwidth\": 2, \"linecolor\": \"white\", \"showbackground\": true, \"ticks\": \"\", \"zerolinecolor\": \"white\"}, \"zaxis\": {\"backgroundcolor\": \"#E5ECF6\", \"gridcolor\": \"white\", \"gridwidth\": 2, \"linecolor\": \"white\", \"showbackground\": true, \"ticks\": \"\", \"zerolinecolor\": \"white\"}}, \"shapedefaults\": {\"line\": {\"color\": \"#2a3f5f\"}}, \"ternary\": {\"aaxis\": {\"gridcolor\": \"white\", \"linecolor\": \"white\", \"ticks\": \"\"}, \"baxis\": {\"gridcolor\": \"white\", \"linecolor\": \"white\", \"ticks\": \"\"}, \"bgcolor\": \"#E5ECF6\", \"caxis\": {\"gridcolor\": \"white\", \"linecolor\": \"white\", \"ticks\": \"\"}}, \"title\": {\"x\": 0.05}, \"xaxis\": {\"automargin\": true, \"gridcolor\": \"white\", \"linecolor\": \"white\", \"ticks\": \"\", \"title\": {\"standoff\": 15}, \"zerolinecolor\": \"white\", \"zerolinewidth\": 2}, \"yaxis\": {\"automargin\": true, \"gridcolor\": \"white\", \"linecolor\": \"white\", \"ticks\": \"\", \"title\": {\"standoff\": 15}, \"zerolinecolor\": \"white\", \"zerolinewidth\": 2}}}, \"xaxis\": {\"anchor\": \"y\", \"domain\": [0.0, 1.0], \"title\": {\"text\": \"0\"}}, \"yaxis\": {\"anchor\": \"x\", \"domain\": [0.0, 1.0], \"title\": {\"text\": \"1\"}}},                        {\"responsive\": true}                    ).then(function(){\n",
              "                            \n",
              "var gd = document.getElementById('c4a8221f-83ee-4b61-a618-7cb25489e5b3');\n",
              "var x = new MutationObserver(function (mutations, observer) {{\n",
              "        var display = window.getComputedStyle(gd).display;\n",
              "        if (!display || display === 'none') {{\n",
              "            console.log([gd, 'removed!']);\n",
              "            Plotly.purge(gd);\n",
              "            observer.disconnect();\n",
              "        }}\n",
              "}});\n",
              "\n",
              "// Listen for the removal of the full notebook cells\n",
              "var notebookContainer = gd.closest('#notebook-container');\n",
              "if (notebookContainer) {{\n",
              "    x.observe(notebookContainer, {childList: true});\n",
              "}}\n",
              "\n",
              "// Listen for the clearing of the current output cell\n",
              "var outputEl = gd.closest('.output');\n",
              "if (outputEl) {{\n",
              "    x.observe(outputEl, {childList: true});\n",
              "}}\n",
              "\n",
              "                        })                };                            </script>        </div>\n",
              "</body>\n",
              "</html>"
            ]
          },
          "metadata": {}
        }
      ]
    },
    {
      "cell_type": "markdown",
      "source": [
        "## TriMap\n",
        "\n",
        "Triplets Mapping (TriMap) is a dimensionality reduction method that uses triplet constraints to form a low-dimensional embedding of a set of points. The triplet constraints are of the form “point i is closer to point j than point k”. The triplets are sampled from the high-dimensional representation of the points and a weighting scheme is used to reflect the importance of each triplet.\n",
        "\n",
        "https://github.com/eamid/trimap\n"
      ],
      "metadata": {
        "id": "6mRo2tBNGORe"
      }
    },
    {
      "cell_type": "code",
      "source": [
        "X_trimap = trimap.TRIMAP().fit_transform(xscaled)\n",
        "\n",
        "fig = px.scatter(X_trimap, x=0, y=1, color=labels.astype(object))\n",
        "fig.show()"
      ],
      "metadata": {
        "colab": {
          "base_uri": "https://localhost:8080/",
          "height": 542
        },
        "id": "qKPkXH31GeVc",
        "outputId": "0f09f619-732f-4cfa-9cf7-338e94512754"
      },
      "execution_count": 21,
      "outputs": [
        {
          "output_type": "display_data",
          "data": {
            "text/html": [
              "<html>\n",
              "<head><meta charset=\"utf-8\" /></head>\n",
              "<body>\n",
              "    <div>            <script src=\"https://cdnjs.cloudflare.com/ajax/libs/mathjax/2.7.5/MathJax.js?config=TeX-AMS-MML_SVG\"></script><script type=\"text/javascript\">if (window.MathJax) {MathJax.Hub.Config({SVG: {font: \"STIX-Web\"}});}</script>                <script type=\"text/javascript\">window.PlotlyConfig = {MathJaxConfig: 'local'};</script>\n",
              "        <script src=\"https://cdn.plot.ly/plotly-latest.min.js\"></script>                <div id=\"19eed598-ae0a-421c-8fdc-55a44a23ba8f\" class=\"plotly-graph-div\" style=\"height:525px; width:100%;\"></div>            <script type=\"text/javascript\">                                    window.PLOTLYENV=window.PLOTLYENV || {};                                    if (document.getElementById(\"19eed598-ae0a-421c-8fdc-55a44a23ba8f\")) {                    Plotly.newPlot(                        \"19eed598-ae0a-421c-8fdc-55a44a23ba8f\",                        [{\"hovertemplate\": \"color=Milk<br>0=%{x}<br>1=%{y}<extra></extra>\", \"legendgroup\": \"Milk\", \"marker\": {\"color\": \"#636efa\", \"symbol\": \"circle\"}, \"mode\": \"markers\", \"name\": \"Milk\", \"orientation\": \"v\", \"showlegend\": true, \"type\": \"scatter\", \"x\": [24.433317184448242, -15.354998588562012, -3.741243362426758, -1.7826876640319824, -4.962517261505127, -25.527233123779297, -14.783768653869629, -16.230627059936523, -25.444618225097656, -15.959650993347168, -25.708629608154297, -24.332229614257812, -23.901090621948242, -24.37458610534668, -16.205156326293945, -5.096488952636719, -21.644563674926758, -3.154907464981079, -18.90508460998535, -18.487506866455078, 43.26225662231445, 42.38835906982422, 24.26529312133789, 20.041078567504883, 63.26945114135742, -15.577779769897461, 72.5249252319336, 72.57652282714844, 71.93084716796875, 73.09354400634766, 71.99491119384766], \"xaxis\": \"x\", \"y\": [-5.947999477386475, -7.612675189971924, -9.723973274230957, -10.407154083251953, -11.393025398254395, -2.094731569290161, 3.4398200511932373, -7.82224178314209, -2.367635726928711, -7.610466480255127, -2.2050697803497314, -1.2968870401382446, -2.55753755569458, -2.254044532775879, -7.763336181640625, -11.725439071655273, 0.9618751406669617, -11.418295860290527, -2.1718108654022217, 0.9452062249183655, -5.238448619842529, -5.529040336608887, -4.866443157196045, -3.00569748878479, -0.8146257400512695, -27.007436752319336, -0.29734519124031067, -0.08653462678194046, -0.10035807639360428, 0.6947160363197327, 2.504666805267334], \"yaxis\": \"y\"}, {\"hovertemplate\": \"color=Buttermilk<br>0=%{x}<br>1=%{y}<extra></extra>\", \"legendgroup\": \"Buttermilk\", \"marker\": {\"color\": \"#EF553B\", \"symbol\": \"circle\"}, \"mode\": \"markers\", \"name\": \"Buttermilk\", \"orientation\": \"v\", \"showlegend\": true, \"type\": \"scatter\", \"x\": [-2.711099624633789, -3.510404109954834, -3.413783073425293, -1.4518812894821167], \"xaxis\": \"x\", \"y\": [2.6137595176696777, 1.5073143243789673, -1.5007176399230957, -6.940708160400391], \"yaxis\": \"y\"}, {\"hovertemplate\": \"color=Goat's milk<br>0=%{x}<br>1=%{y}<extra></extra>\", \"legendgroup\": \"Goat's milk\", \"marker\": {\"color\": \"#00cc96\", \"symbol\": \"circle\"}, \"mode\": \"markers\", \"name\": \"Goat's milk\", \"orientation\": \"v\", \"showlegend\": true, \"type\": \"scatter\", \"x\": [-1.9985480308532715], \"xaxis\": \"x\", \"y\": [-9.370072364807129], \"yaxis\": \"y\"}, {\"hovertemplate\": \"color=Non-dairy milk<br>0=%{x}<br>1=%{y}<extra></extra>\", \"legendgroup\": \"Non-dairy milk\", \"marker\": {\"color\": \"#ab63fa\", \"symbol\": \"circle\"}, \"mode\": \"markers\", \"name\": \"Non-dairy milk\", \"orientation\": \"v\", \"showlegend\": true, \"type\": \"scatter\", \"x\": [-4.072729110717773], \"xaxis\": \"x\", \"y\": [40.393836975097656], \"yaxis\": \"y\"}, {\"hovertemplate\": \"color=Soy milk<br>0=%{x}<br>1=%{y}<extra></extra>\", \"legendgroup\": \"Soy milk\", \"marker\": {\"color\": \"#FFA15A\", \"symbol\": \"circle\"}, \"mode\": \"markers\", \"name\": \"Soy milk\", \"orientation\": \"v\", \"showlegend\": true, \"type\": \"scatter\", \"x\": [-2.6105918884277344, -3.428021192550659, -3.0534934997558594, -3.1002743244171143, -2.349229097366333, -2.854480266571045], \"xaxis\": \"x\", \"y\": [49.34686279296875, 45.5478401184082, 48.24171829223633, 48.05287170410156, 49.83356857299805, 48.71028137207031], \"yaxis\": \"y\"}, {\"hovertemplate\": \"color=Almond milk<br>0=%{x}<br>1=%{y}<extra></extra>\", \"legendgroup\": \"Almond milk\", \"marker\": {\"color\": \"#19d3f3\", \"symbol\": \"circle\"}, \"mode\": \"markers\", \"name\": \"Almond milk\", \"orientation\": \"v\", \"showlegend\": true, \"type\": \"scatter\", \"x\": [-4.51008939743042, -4.425184726715088, -4.6550211906433105, -4.8948822021484375], \"xaxis\": \"x\", \"y\": [32.942848205566406, 33.06964874267578, 30.958274841308594, 31.765520095825195], \"yaxis\": \"y\"}, {\"hovertemplate\": \"color=Rice milk<br>0=%{x}<br>1=%{y}<extra></extra>\", \"legendgroup\": \"Rice milk\", \"marker\": {\"color\": \"#FF6692\", \"symbol\": \"circle\"}, \"mode\": \"markers\", \"name\": \"Rice milk\", \"orientation\": \"v\", \"showlegend\": true, \"type\": \"scatter\", \"x\": [-4.090719699859619], \"xaxis\": \"x\", \"y\": [26.995492935180664], \"yaxis\": \"y\"}, {\"hovertemplate\": \"color=Coconut milk<br>0=%{x}<br>1=%{y}<extra></extra>\", \"legendgroup\": \"Coconut milk\", \"marker\": {\"color\": \"#B6E880\", \"symbol\": \"circle\"}, \"mode\": \"markers\", \"name\": \"Coconut milk\", \"orientation\": \"v\", \"showlegend\": true, \"type\": \"scatter\", \"x\": [-4.62799596786499, 59.761356353759766], \"xaxis\": \"x\", \"y\": [28.842178344726562, -0.402977854013443], \"yaxis\": \"y\"}, {\"hovertemplate\": \"color=Chocolate milk<br>0=%{x}<br>1=%{y}<extra></extra>\", \"legendgroup\": \"Chocolate milk\", \"marker\": {\"color\": \"#FF97FF\", \"symbol\": \"circle\"}, \"mode\": \"markers\", \"name\": \"Chocolate milk\", \"orientation\": \"v\", \"showlegend\": true, \"type\": \"scatter\", \"x\": [-2.072498083114624, -3.806824207305908, -3.049316167831421, -1.533769130706787, -3.4031693935394287, -5.685523986816406, -2.9376354217529297, -0.6853439807891846, -3.094911575317383, -15.039419174194336, -5.751509666442871, -16.34157943725586, -18.442869186401367, -20.847124099731445, -3.859318256378174, -25.392719268798828, -22.913082122802734, -26.373069763183594, -26.801794052124023, -26.878503799438477, -4.690329551696777, -15.53940486907959, -5.734799861907959, -17.884174346923828, -20.8613338470459, -20.85839080810547, -4.381269454956055, -24.46108627319336, -22.39614486694336, -25.6115779876709, -29.633825302124023, -26.999059677124023, -3.6431498527526855, -17.252857208251953, -7.3717546463012695, -16.152629852294922, -19.759239196777344, -19.18674659729004, -4.109156131744385, -16.385841369628906, -5.423922538757324, -16.309499740600586, -20.312828063964844, -21.998695373535156, -4.4248223304748535, 0.23779694736003876, 1.5610759258270264, -2.048740863800049, 0.07890921831130981, -0.5837765336036682, -3.660828113555908], \"xaxis\": \"x\", \"y\": [-2.5322887897491455, -13.978683471679688, -13.692682266235352, -2.4242000579833984, -1.8736318349838257, -0.7805610299110413, -2.04500412940979, -3.112398862838745, -2.2663285732269287, -17.89150047302246, -15.011869430541992, -18.328821182250977, -18.50390625, -18.556499481201172, 44.18057632446289, -47.776885986328125, -46.47553634643555, -48.42237854003906, -48.3117790222168, -48.30169677734375, 43.874305725097656, -18.249601364135742, -14.767217636108398, -20.63002586364746, -17.806360244750977, -17.338409423828125, 43.98807144165039, -50.108768463134766, -46.975189208984375, -49.10152053833008, -49.338924407958984, -48.451419830322266, 44.226863861083984, -16.182373046875, -16.476219177246094, -16.23849868774414, -16.725563049316406, -15.654923439025879, 42.80052947998047, -12.387746810913086, -12.259432792663574, -13.726644515991211, -12.748608589172363, -8.29163646697998, 42.90396499633789, 6.822676658630371, 3.741335868835449, 6.538651943206787, 6.356774806976318, 6.707546234130859, 42.96914291381836], \"yaxis\": \"y\"}, {\"hovertemplate\": \"color=Strawberry milk<br>0=%{x}<br>1=%{y}<extra></extra>\", \"legendgroup\": \"Strawberry milk\", \"marker\": {\"color\": \"#FECB52\", \"symbol\": \"circle\"}, \"mode\": \"markers\", \"name\": \"Strawberry milk\", \"orientation\": \"v\", \"showlegend\": true, \"type\": \"scatter\", \"x\": [-15.67134952545166, -7.149482250213623, -15.937114715576172, -19.395967483520508, -19.788671493530273, -24.61028480529785, -4.80133056640625], \"xaxis\": \"x\", \"y\": [-7.387442111968994, -15.672677993774414, -16.716341018676758, -15.78348159790039, -16.164566040039062, -4.110373020172119, 43.791229248046875], \"yaxis\": \"y\"}, {\"hovertemplate\": \"color=Milk shake<br>0=%{x}<br>1=%{y}<extra></extra>\", \"legendgroup\": \"Milk shake\", \"marker\": {\"color\": \"#636efa\", \"symbol\": \"circle\"}, \"mode\": \"markers\", \"name\": \"Milk shake\", \"orientation\": \"v\", \"showlegend\": true, \"type\": \"scatter\", \"x\": [33.05496597290039, 31.247573852539062, 33.25301742553711, -6.6090312004089355, 62.785823822021484, 52.82819747924805, 54.252235412597656, 44.36394119262695], \"xaxis\": \"x\", \"y\": [-6.9593825340271, -8.441311836242676, -7.605508804321289, -15.22401237487793, -0.7617696523666382, -2.9641520977020264, -2.629511594772339, -4.864142417907715], \"yaxis\": \"y\"}, {\"hovertemplate\": \"color=Milk shake with malt<br>0=%{x}<br>1=%{y}<extra></extra>\", \"legendgroup\": \"Milk shake with malt\", \"marker\": {\"color\": \"#EF553B\", \"symbol\": \"circle\"}, \"mode\": \"markers\", \"name\": \"Milk shake with malt\", \"orientation\": \"v\", \"showlegend\": true, \"type\": \"scatter\", \"x\": [38.438926696777344], \"xaxis\": \"x\", \"y\": [-6.7905988693237305], \"yaxis\": \"y\"}, {\"hovertemplate\": \"color=Chocolate milk drink<br>0=%{x}<br>1=%{y}<extra></extra>\", \"legendgroup\": \"Chocolate milk drink\", \"marker\": {\"color\": \"#00cc96\", \"symbol\": \"circle\"}, \"mode\": \"markers\", \"name\": \"Chocolate milk drink\", \"orientation\": \"v\", \"showlegend\": true, \"type\": \"scatter\", \"x\": [1.5826656818389893], \"xaxis\": \"x\", \"y\": [14.898969650268555], \"yaxis\": \"y\"}, {\"hovertemplate\": \"color=Milk dessert or milk candy<br>0=%{x}<br>1=%{y}<extra></extra>\", \"legendgroup\": \"Milk dessert or milk candy\", \"marker\": {\"color\": \"#ab63fa\", \"symbol\": \"circle\"}, \"mode\": \"markers\", \"name\": \"Milk dessert or milk candy\", \"orientation\": \"v\", \"showlegend\": true, \"type\": \"scatter\", \"x\": [63.29420852661133], \"xaxis\": \"x\", \"y\": [-0.6443272829055786], \"yaxis\": \"y\"}, {\"hovertemplate\": \"color=Milk 'n Cereal bar<br>0=%{x}<br>1=%{y}<extra></extra>\", \"legendgroup\": \"Milk 'n Cereal bar\", \"marker\": {\"color\": \"#FFA15A\", \"symbol\": \"circle\"}, \"mode\": \"markers\", \"name\": \"Milk 'n Cereal bar\", \"orientation\": \"v\", \"showlegend\": true, \"type\": \"scatter\", \"x\": [64.81916046142578], \"xaxis\": \"x\", \"y\": [0.3630139231681824], \"yaxis\": \"y\"}, {\"hovertemplate\": \"color=Nutrition bar (Tiger's Milk)<br>0=%{x}<br>1=%{y}<extra></extra>\", \"legendgroup\": \"Nutrition bar (Tiger's Milk)\", \"marker\": {\"color\": \"#19d3f3\", \"symbol\": \"circle\"}, \"mode\": \"markers\", \"name\": \"Nutrition bar (Tiger's Milk)\", \"orientation\": \"v\", \"showlegend\": true, \"type\": \"scatter\", \"x\": [70.84387969970703], \"xaxis\": \"x\", \"y\": [0.27738574147224426], \"yaxis\": \"y\"}, {\"hovertemplate\": \"color=Milk chocolate candy<br>0=%{x}<br>1=%{y}<extra></extra>\", \"legendgroup\": \"Milk chocolate candy\", \"marker\": {\"color\": \"#FF6692\", \"symbol\": \"circle\"}, \"mode\": \"markers\", \"name\": \"Milk chocolate candy\", \"orientation\": \"v\", \"showlegend\": true, \"type\": \"scatter\", \"x\": [64.36859893798828, 64.96403503417969, 63.971805572509766, 65.4391098022461], \"xaxis\": \"x\", \"y\": [0.7202786207199097, 0.49674856662750244, 0.6144982576370239, 0.6134337186813354], \"yaxis\": \"y\"}, {\"hovertemplate\": \"color=M&M's Milk Chocolate Candies<br>0=%{x}<br>1=%{y}<extra></extra>\", \"legendgroup\": \"M&M's Milk Chocolate Candies\", \"marker\": {\"color\": \"#B6E880\", \"symbol\": \"circle\"}, \"mode\": \"markers\", \"name\": \"M&M's Milk Chocolate Candies\", \"orientation\": \"v\", \"showlegend\": true, \"type\": \"scatter\", \"x\": [65.26164245605469], \"xaxis\": \"x\", \"y\": [0.3521820306777954], \"yaxis\": \"y\"}, {\"hovertemplate\": \"color=Oatmeal beverage with milk<br>0=%{x}<br>1=%{y}<extra></extra>\", \"legendgroup\": \"Oatmeal beverage with milk\", \"marker\": {\"color\": \"#FF97FF\", \"symbol\": \"circle\"}, \"mode\": \"markers\", \"name\": \"Oatmeal beverage with milk\", \"orientation\": \"v\", \"showlegend\": true, \"type\": \"scatter\", \"x\": [9.006454467773438], \"xaxis\": \"x\", \"y\": [10.982025146484375], \"yaxis\": \"y\"}, {\"hovertemplate\": \"color=Cornmeal beverage with chocolate milk<br>0=%{x}<br>1=%{y}<extra></extra>\", \"legendgroup\": \"Cornmeal beverage with chocolate milk\", \"marker\": {\"color\": \"#FECB52\", \"symbol\": \"circle\"}, \"mode\": \"markers\", \"name\": \"Cornmeal beverage with chocolate milk\", \"orientation\": \"v\", \"showlegend\": true, \"type\": \"scatter\", \"x\": [18.289474487304688], \"xaxis\": \"x\", \"y\": [3.029223918914795], \"yaxis\": \"y\"}, {\"hovertemplate\": \"color=Nutritional powder mix (Muscle Milk)<br>0=%{x}<br>1=%{y}<extra></extra>\", \"legendgroup\": \"Nutritional powder mix (Muscle Milk)\", \"marker\": {\"color\": \"#636efa\", \"symbol\": \"circle\"}, \"mode\": \"markers\", \"name\": \"Nutritional powder mix (Muscle Milk)\", \"orientation\": \"v\", \"showlegend\": true, \"type\": \"scatter\", \"x\": [72.48613739013672], \"xaxis\": \"x\", \"y\": [0.7667400240898132], \"yaxis\": \"y\"}],                        {\"legend\": {\"title\": {\"text\": \"color\"}, \"tracegroupgap\": 0}, \"margin\": {\"t\": 60}, \"template\": {\"data\": {\"bar\": [{\"error_x\": {\"color\": \"#2a3f5f\"}, \"error_y\": {\"color\": \"#2a3f5f\"}, \"marker\": {\"line\": {\"color\": \"#E5ECF6\", \"width\": 0.5}}, \"type\": \"bar\"}], \"barpolar\": [{\"marker\": {\"line\": {\"color\": \"#E5ECF6\", \"width\": 0.5}}, \"type\": \"barpolar\"}], \"carpet\": [{\"aaxis\": {\"endlinecolor\": \"#2a3f5f\", \"gridcolor\": \"white\", \"linecolor\": \"white\", \"minorgridcolor\": \"white\", \"startlinecolor\": \"#2a3f5f\"}, \"baxis\": {\"endlinecolor\": \"#2a3f5f\", \"gridcolor\": \"white\", \"linecolor\": \"white\", \"minorgridcolor\": \"white\", \"startlinecolor\": \"#2a3f5f\"}, \"type\": \"carpet\"}], \"choropleth\": [{\"colorbar\": {\"outlinewidth\": 0, \"ticks\": \"\"}, \"type\": \"choropleth\"}], \"contour\": [{\"colorbar\": {\"outlinewidth\": 0, \"ticks\": \"\"}, \"colorscale\": [[0.0, \"#0d0887\"], [0.1111111111111111, \"#46039f\"], [0.2222222222222222, \"#7201a8\"], [0.3333333333333333, \"#9c179e\"], [0.4444444444444444, \"#bd3786\"], [0.5555555555555556, \"#d8576b\"], [0.6666666666666666, \"#ed7953\"], [0.7777777777777778, \"#fb9f3a\"], [0.8888888888888888, \"#fdca26\"], [1.0, \"#f0f921\"]], \"type\": \"contour\"}], \"contourcarpet\": [{\"colorbar\": {\"outlinewidth\": 0, \"ticks\": \"\"}, \"type\": \"contourcarpet\"}], \"heatmap\": [{\"colorbar\": {\"outlinewidth\": 0, \"ticks\": \"\"}, \"colorscale\": [[0.0, \"#0d0887\"], [0.1111111111111111, \"#46039f\"], [0.2222222222222222, \"#7201a8\"], [0.3333333333333333, \"#9c179e\"], [0.4444444444444444, \"#bd3786\"], [0.5555555555555556, \"#d8576b\"], [0.6666666666666666, \"#ed7953\"], [0.7777777777777778, \"#fb9f3a\"], [0.8888888888888888, \"#fdca26\"], [1.0, \"#f0f921\"]], \"type\": \"heatmap\"}], \"heatmapgl\": [{\"colorbar\": {\"outlinewidth\": 0, \"ticks\": \"\"}, \"colorscale\": [[0.0, \"#0d0887\"], [0.1111111111111111, \"#46039f\"], [0.2222222222222222, \"#7201a8\"], [0.3333333333333333, \"#9c179e\"], [0.4444444444444444, \"#bd3786\"], [0.5555555555555556, \"#d8576b\"], [0.6666666666666666, \"#ed7953\"], [0.7777777777777778, \"#fb9f3a\"], [0.8888888888888888, \"#fdca26\"], [1.0, \"#f0f921\"]], \"type\": \"heatmapgl\"}], \"histogram\": [{\"marker\": {\"colorbar\": {\"outlinewidth\": 0, \"ticks\": \"\"}}, \"type\": \"histogram\"}], \"histogram2d\": [{\"colorbar\": {\"outlinewidth\": 0, \"ticks\": \"\"}, \"colorscale\": [[0.0, \"#0d0887\"], [0.1111111111111111, \"#46039f\"], [0.2222222222222222, \"#7201a8\"], [0.3333333333333333, \"#9c179e\"], [0.4444444444444444, \"#bd3786\"], [0.5555555555555556, \"#d8576b\"], [0.6666666666666666, \"#ed7953\"], [0.7777777777777778, \"#fb9f3a\"], [0.8888888888888888, \"#fdca26\"], [1.0, \"#f0f921\"]], \"type\": \"histogram2d\"}], \"histogram2dcontour\": [{\"colorbar\": {\"outlinewidth\": 0, \"ticks\": \"\"}, \"colorscale\": [[0.0, \"#0d0887\"], [0.1111111111111111, \"#46039f\"], [0.2222222222222222, \"#7201a8\"], [0.3333333333333333, \"#9c179e\"], [0.4444444444444444, \"#bd3786\"], [0.5555555555555556, \"#d8576b\"], [0.6666666666666666, \"#ed7953\"], [0.7777777777777778, \"#fb9f3a\"], [0.8888888888888888, \"#fdca26\"], [1.0, \"#f0f921\"]], \"type\": \"histogram2dcontour\"}], \"mesh3d\": [{\"colorbar\": {\"outlinewidth\": 0, \"ticks\": \"\"}, \"type\": \"mesh3d\"}], \"parcoords\": [{\"line\": {\"colorbar\": {\"outlinewidth\": 0, \"ticks\": \"\"}}, \"type\": \"parcoords\"}], \"pie\": [{\"automargin\": true, \"type\": \"pie\"}], \"scatter\": [{\"marker\": {\"colorbar\": {\"outlinewidth\": 0, \"ticks\": \"\"}}, \"type\": \"scatter\"}], \"scatter3d\": [{\"line\": {\"colorbar\": {\"outlinewidth\": 0, \"ticks\": \"\"}}, \"marker\": {\"colorbar\": {\"outlinewidth\": 0, \"ticks\": \"\"}}, \"type\": \"scatter3d\"}], \"scattercarpet\": [{\"marker\": {\"colorbar\": {\"outlinewidth\": 0, \"ticks\": \"\"}}, \"type\": \"scattercarpet\"}], \"scattergeo\": [{\"marker\": {\"colorbar\": {\"outlinewidth\": 0, \"ticks\": \"\"}}, \"type\": \"scattergeo\"}], \"scattergl\": [{\"marker\": {\"colorbar\": {\"outlinewidth\": 0, \"ticks\": \"\"}}, \"type\": \"scattergl\"}], \"scattermapbox\": [{\"marker\": {\"colorbar\": {\"outlinewidth\": 0, \"ticks\": \"\"}}, \"type\": \"scattermapbox\"}], \"scatterpolar\": [{\"marker\": {\"colorbar\": {\"outlinewidth\": 0, \"ticks\": \"\"}}, \"type\": \"scatterpolar\"}], \"scatterpolargl\": [{\"marker\": {\"colorbar\": {\"outlinewidth\": 0, \"ticks\": \"\"}}, \"type\": \"scatterpolargl\"}], \"scatterternary\": [{\"marker\": {\"colorbar\": {\"outlinewidth\": 0, \"ticks\": \"\"}}, \"type\": \"scatterternary\"}], \"surface\": [{\"colorbar\": {\"outlinewidth\": 0, \"ticks\": \"\"}, \"colorscale\": [[0.0, \"#0d0887\"], [0.1111111111111111, \"#46039f\"], [0.2222222222222222, \"#7201a8\"], [0.3333333333333333, \"#9c179e\"], [0.4444444444444444, \"#bd3786\"], [0.5555555555555556, \"#d8576b\"], [0.6666666666666666, \"#ed7953\"], [0.7777777777777778, \"#fb9f3a\"], [0.8888888888888888, \"#fdca26\"], [1.0, \"#f0f921\"]], \"type\": \"surface\"}], \"table\": [{\"cells\": {\"fill\": {\"color\": \"#EBF0F8\"}, \"line\": {\"color\": \"white\"}}, \"header\": {\"fill\": {\"color\": \"#C8D4E3\"}, \"line\": {\"color\": \"white\"}}, \"type\": \"table\"}]}, \"layout\": {\"annotationdefaults\": {\"arrowcolor\": \"#2a3f5f\", \"arrowhead\": 0, \"arrowwidth\": 1}, \"autotypenumbers\": \"strict\", \"coloraxis\": {\"colorbar\": {\"outlinewidth\": 0, \"ticks\": \"\"}}, \"colorscale\": {\"diverging\": [[0, \"#8e0152\"], [0.1, \"#c51b7d\"], [0.2, \"#de77ae\"], [0.3, \"#f1b6da\"], [0.4, \"#fde0ef\"], [0.5, \"#f7f7f7\"], [0.6, \"#e6f5d0\"], [0.7, \"#b8e186\"], [0.8, \"#7fbc41\"], [0.9, \"#4d9221\"], [1, \"#276419\"]], \"sequential\": [[0.0, \"#0d0887\"], [0.1111111111111111, \"#46039f\"], [0.2222222222222222, \"#7201a8\"], [0.3333333333333333, \"#9c179e\"], [0.4444444444444444, \"#bd3786\"], [0.5555555555555556, \"#d8576b\"], [0.6666666666666666, \"#ed7953\"], [0.7777777777777778, \"#fb9f3a\"], [0.8888888888888888, \"#fdca26\"], [1.0, \"#f0f921\"]], \"sequentialminus\": [[0.0, \"#0d0887\"], [0.1111111111111111, \"#46039f\"], [0.2222222222222222, \"#7201a8\"], [0.3333333333333333, \"#9c179e\"], [0.4444444444444444, \"#bd3786\"], [0.5555555555555556, \"#d8576b\"], [0.6666666666666666, \"#ed7953\"], [0.7777777777777778, \"#fb9f3a\"], [0.8888888888888888, \"#fdca26\"], [1.0, \"#f0f921\"]]}, \"colorway\": [\"#636efa\", \"#EF553B\", \"#00cc96\", \"#ab63fa\", \"#FFA15A\", \"#19d3f3\", \"#FF6692\", \"#B6E880\", \"#FF97FF\", \"#FECB52\"], \"font\": {\"color\": \"#2a3f5f\"}, \"geo\": {\"bgcolor\": \"white\", \"lakecolor\": \"white\", \"landcolor\": \"#E5ECF6\", \"showlakes\": true, \"showland\": true, \"subunitcolor\": \"white\"}, \"hoverlabel\": {\"align\": \"left\"}, \"hovermode\": \"closest\", \"mapbox\": {\"style\": \"light\"}, \"paper_bgcolor\": \"white\", \"plot_bgcolor\": \"#E5ECF6\", \"polar\": {\"angularaxis\": {\"gridcolor\": \"white\", \"linecolor\": \"white\", \"ticks\": \"\"}, \"bgcolor\": \"#E5ECF6\", \"radialaxis\": {\"gridcolor\": \"white\", \"linecolor\": \"white\", \"ticks\": \"\"}}, \"scene\": {\"xaxis\": {\"backgroundcolor\": \"#E5ECF6\", \"gridcolor\": \"white\", \"gridwidth\": 2, \"linecolor\": \"white\", \"showbackground\": true, \"ticks\": \"\", \"zerolinecolor\": \"white\"}, \"yaxis\": {\"backgroundcolor\": \"#E5ECF6\", \"gridcolor\": \"white\", \"gridwidth\": 2, \"linecolor\": \"white\", \"showbackground\": true, \"ticks\": \"\", \"zerolinecolor\": \"white\"}, \"zaxis\": {\"backgroundcolor\": \"#E5ECF6\", \"gridcolor\": \"white\", \"gridwidth\": 2, \"linecolor\": \"white\", \"showbackground\": true, \"ticks\": \"\", \"zerolinecolor\": \"white\"}}, \"shapedefaults\": {\"line\": {\"color\": \"#2a3f5f\"}}, \"ternary\": {\"aaxis\": {\"gridcolor\": \"white\", \"linecolor\": \"white\", \"ticks\": \"\"}, \"baxis\": {\"gridcolor\": \"white\", \"linecolor\": \"white\", \"ticks\": \"\"}, \"bgcolor\": \"#E5ECF6\", \"caxis\": {\"gridcolor\": \"white\", \"linecolor\": \"white\", \"ticks\": \"\"}}, \"title\": {\"x\": 0.05}, \"xaxis\": {\"automargin\": true, \"gridcolor\": \"white\", \"linecolor\": \"white\", \"ticks\": \"\", \"title\": {\"standoff\": 15}, \"zerolinecolor\": \"white\", \"zerolinewidth\": 2}, \"yaxis\": {\"automargin\": true, \"gridcolor\": \"white\", \"linecolor\": \"white\", \"ticks\": \"\", \"title\": {\"standoff\": 15}, \"zerolinecolor\": \"white\", \"zerolinewidth\": 2}}}, \"xaxis\": {\"anchor\": \"y\", \"domain\": [0.0, 1.0], \"title\": {\"text\": \"0\"}}, \"yaxis\": {\"anchor\": \"x\", \"domain\": [0.0, 1.0], \"title\": {\"text\": \"1\"}}},                        {\"responsive\": true}                    ).then(function(){\n",
              "                            \n",
              "var gd = document.getElementById('19eed598-ae0a-421c-8fdc-55a44a23ba8f');\n",
              "var x = new MutationObserver(function (mutations, observer) {{\n",
              "        var display = window.getComputedStyle(gd).display;\n",
              "        if (!display || display === 'none') {{\n",
              "            console.log([gd, 'removed!']);\n",
              "            Plotly.purge(gd);\n",
              "            observer.disconnect();\n",
              "        }}\n",
              "}});\n",
              "\n",
              "// Listen for the removal of the full notebook cells\n",
              "var notebookContainer = gd.closest('#notebook-container');\n",
              "if (notebookContainer) {{\n",
              "    x.observe(notebookContainer, {childList: true});\n",
              "}}\n",
              "\n",
              "// Listen for the clearing of the current output cell\n",
              "var outputEl = gd.closest('.output');\n",
              "if (outputEl) {{\n",
              "    x.observe(outputEl, {childList: true});\n",
              "}}\n",
              "\n",
              "                        })                };                            </script>        </div>\n",
              "</body>\n",
              "</html>"
            ]
          },
          "metadata": {}
        }
      ]
    },
    {
      "cell_type": "markdown",
      "metadata": {
        "id": "yUKcj5sDh6h9"
      },
      "source": [
        "## Avaliação da Qualidade de Projeções\n",
        "\n",
        "### Neighborhood Preservation"
      ]
    },
    {
      "cell_type": "code",
      "metadata": {
        "id": "DoXAmWD_h_SB"
      },
      "source": [
        "kneigh = []\n",
        "y_tsne = []\n",
        "y_pca = []\n",
        "y_umap = []\n",
        "y_trimap = []\n",
        "\n",
        "for k in range(1,51):\n",
        "    precision = trustworthiness(xscaled, X_tsne, n_neighbors=k, metric='euclidean' )\n",
        "    kneigh.append(k)\n",
        "    y_tsne.append(precision)\n",
        "    precision = trustworthiness(xscaled, X_pca, n_neighbors=k, metric='euclidean')\n",
        "    y_pca.append(precision)\n",
        "    precision = trustworthiness(xscaled, X_umap, n_neighbors=k, metric='euclidean')\n",
        "    y_umap.append(precision)\n",
        "    precision = trustworthiness(xscaled, X_trimap, n_neighbors=k, metric='euclidean')\n",
        "    y_trimap.append(precision)\n",
        "    \n"
      ],
      "execution_count": 22,
      "outputs": []
    },
    {
      "cell_type": "markdown",
      "metadata": {
        "id": "kOZ7tqDDtm2E"
      },
      "source": [
        "Em seguida, podemos criar um gráfico de linhas:"
      ]
    },
    {
      "cell_type": "code",
      "metadata": {
        "id": "ledNhfYkqf7N",
        "colab": {
          "base_uri": "https://localhost:8080/",
          "height": 542
        },
        "outputId": "944b6ae1-ce3a-48dc-e0f5-b983228086fd"
      },
      "source": [
        "fig = go.Figure()\n",
        "fig.add_trace(go.Scatter(x=kneigh, y=y_tsne,\n",
        "                    mode='lines+markers',\n",
        "                    name='t-SNE'))\n",
        "fig.add_trace(go.Scatter(x=kneigh, y=y_pca,\n",
        "                    mode='lines+markers',\n",
        "                    name='PCA'))\n",
        "fig.add_trace(go.Scatter(x=kneigh, y=y_umap,\n",
        "                    mode='lines+markers',\n",
        "                    name='UMAP'))\n",
        "fig.add_trace(go.Scatter(x=kneigh, y=y_trimap,\n",
        "                    mode='lines+markers',\n",
        "                    name='trimap'))\n",
        "\n",
        "fig.show()"
      ],
      "execution_count": 23,
      "outputs": [
        {
          "output_type": "display_data",
          "data": {
            "text/html": [
              "<html>\n",
              "<head><meta charset=\"utf-8\" /></head>\n",
              "<body>\n",
              "    <div>            <script src=\"https://cdnjs.cloudflare.com/ajax/libs/mathjax/2.7.5/MathJax.js?config=TeX-AMS-MML_SVG\"></script><script type=\"text/javascript\">if (window.MathJax) {MathJax.Hub.Config({SVG: {font: \"STIX-Web\"}});}</script>                <script type=\"text/javascript\">window.PlotlyConfig = {MathJaxConfig: 'local'};</script>\n",
              "        <script src=\"https://cdn.plot.ly/plotly-latest.min.js\"></script>                <div id=\"97eb53dd-f221-4fdd-9aa1-7230ce3a1cfc\" class=\"plotly-graph-div\" style=\"height:525px; width:100%;\"></div>            <script type=\"text/javascript\">                                    window.PLOTLYENV=window.PLOTLYENV || {};                                    if (document.getElementById(\"97eb53dd-f221-4fdd-9aa1-7230ce3a1cfc\")) {                    Plotly.newPlot(                        \"97eb53dd-f221-4fdd-9aa1-7230ce3a1cfc\",                        [{\"mode\": \"lines+markers\", \"name\": \"t-SNE\", \"type\": \"scatter\", \"x\": [1, 2, 3, 4, 5, 6, 7, 8, 9, 10, 11, 12, 13, 14, 15, 16, 17, 18, 19, 20, 21, 22, 23, 24, 25, 26, 27, 28, 29, 30, 31, 32, 33, 34, 35, 36, 37, 38, 39, 40, 41, 42, 43, 44, 45, 46, 47, 48, 49, 50], \"y\": [0.9803454800708051, 0.9739028382593656, 0.960594315245478, 0.9460686600221484, 0.9208149144724198, 0.9043603299709168, 0.8951799087786474, 0.8782479954752637, 0.868449237913343, 0.8599528736809753, 0.8481639484546462, 0.8409508108550516, 0.8339214302517055, 0.8306574982616086, 0.8251474818390132, 0.8219650606431512, 0.8167293108257075, 0.8093837909395247, 0.8118196654426765, 0.8109432180380121, 0.8063309396323062, 0.8046592800032468, 0.803774139649621, 0.8049898735945248, 0.7999829627736604, 0.7978866224936122, 0.7974251559522877, 0.7968140879150424, 0.7965658757488561, 0.7964628881771341, 0.7960679194188791, 0.7959218065385911, 0.795752639732622, 0.7962990747686922, 0.7943026170076354, 0.793856834827648, 0.7940412537417953, 0.7939188514463913, 0.7927904137206463, 0.7913964805069881, 0.7918716118782153, 0.7923573950557796, 0.7941229493419867, 0.7937167019027485, 0.7936487764928482, 0.7927709000688243, 0.7906720810796977, 0.7916523747456038, 0.7931397506148337, 0.7932681301166413]}, {\"mode\": \"lines+markers\", \"name\": \"PCA\", \"type\": \"scatter\", \"x\": [1, 2, 3, 4, 5, 6, 7, 8, 9, 10, 11, 12, 13, 14, 15, 16, 17, 18, 19, 20, 21, 22, 23, 24, 25, 26, 27, 28, 29, 30, 31, 32, 33, 34, 35, 36, 37, 38, 39, 40, 41, 42, 43, 44, 45, 46, 47, 48, 49, 50], \"y\": [0.8947689678325093, 0.8806325087247908, 0.8511294490289238, 0.8389337130200918, 0.8316099686078544, 0.8234244753657034, 0.8234134804887663, 0.8258558738397046, 0.8264389768939819, 0.8273127753303965, 0.8251094835397161, 0.8268616927987653, 0.8282045811382274, 0.8297664117025934, 0.8318365754960753, 0.8316271651644969, 0.831538124394034, 0.8318631381983427, 0.8332762137902896, 0.835891079368827, 0.8369276904400376, 0.837319991587616, 0.8386793738212537, 0.840111041273832, 0.8400238521168754, 0.8399576258482326, 0.8385600187925769, 0.8389536484038433, 0.8410994229287545, 0.8431261507991769, 0.8434334193304424, 0.8457075448986471, 0.8475184580571686, 0.8490004854154716, 0.8518272425249169, 0.8532652365179288, 0.8546877556116167, 0.8549243494163935, 0.8556776556776556, 0.8565353929723307, 0.8575810680008917, 0.8599438118344562, 0.8621636695511087, 0.8634362226920367, 0.8652235918724672, 0.8671294604798441, 0.867685281555165, 0.8688401820219067, 0.8709554011879593, 0.872178511917699]}, {\"mode\": \"lines+markers\", \"name\": \"UMAP\", \"type\": \"scatter\", \"x\": [1, 2, 3, 4, 5, 6, 7, 8, 9, 10, 11, 12, 13, 14, 15, 16, 17, 18, 19, 20, 21, 22, 23, 24, 25, 26, 27, 28, 29, 30, 31, 32, 33, 34, 35, 36, 37, 38, 39, 40, 41, 42, 43, 44, 45, 46, 47, 48, 49, 50], \"y\": [0.9446987731184765, 0.9590166465919269, 0.9584896224056014, 0.9457997152349312, 0.9237234928566852, 0.90631723481777, 0.894569889445727, 0.8894433908906412, 0.8851365015166835, 0.8742888365263122, 0.8636741165810933, 0.8561740736843336, 0.8464656742873086, 0.8368229931236962, 0.8316415581882892, 0.8212371573754683, 0.8160608113193346, 0.8094219778261478, 0.8064504283965728, 0.8030063353401802, 0.800017505603696, 0.7986045773699493, 0.7959863462627914, 0.796110063551924, 0.7911713093108442, 0.7888054953145248, 0.7869554720329914, 0.7852661968134478, 0.7845275720552856, 0.7837874638320259, 0.7835281991229515, 0.7828765227021041, 0.782431319375682, 0.7838900901696012, 0.784297954187795, 0.7866627357808877, 0.7878649595756955, 0.7881983377699412, 0.7889002470397819, 0.7887427148757993, 0.789582998224984, 0.7905145133975242, 0.7913286461150171, 0.791906976744186, 0.7910167888055802, 0.7921676253919161, 0.7910360752330415, 0.7917810020351695, 0.7923544893644562, 0.7934449032818952]}, {\"mode\": \"lines+markers\", \"name\": \"trimap\", \"type\": \"scatter\", \"x\": [1, 2, 3, 4, 5, 6, 7, 8, 9, 10, 11, 12, 13, 14, 15, 16, 17, 18, 19, 20, 21, 22, 23, 24, 25, 26, 27, 28, 29, 30, 31, 32, 33, 34, 35, 36, 37, 38, 39, 40, 41, 42, 43, 44, 45, 46, 47, 48, 49, 50], \"y\": [0.9276689251052921, 0.9256925785231168, 0.9240643494206885, 0.9123239993671888, 0.9025562175667884, 0.890834982106754, 0.8868179514612309, 0.8815084672455668, 0.8725761150432536, 0.8623979783492128, 0.8533801469847981, 0.8396120523343505, 0.8317550453244927, 0.8248577094439723, 0.8175905611623031, 0.8054921924260969, 0.8006897498218073, 0.7966336137948007, 0.7916319869441044, 0.7915791130523748, 0.7906976744186046, 0.7874138929782422, 0.7830891580434425, 0.7836580766813325, 0.7858488798023682, 0.7856007835220515, 0.7877711220734477, 0.7882075803839481, 0.7893139613503781, 0.787661885531263, 0.7903530760738965, 0.7913326351774279, 0.7930794551342093, 0.7947457452598443, 0.7961735734685551, 0.7963887877263872, 0.7965123454132692, 0.7970572878773613, 0.7962148962148963, 0.7970633169241215, 0.7968580241165133, 0.7983735301328059, 0.7991031188029565, 0.8004510218463707, 0.8027760127645756, 0.8043860618059155, 0.805846087347222, 0.8053040177448492, 0.8080079389049488, 0.809157429544302]}],                        {\"template\": {\"data\": {\"bar\": [{\"error_x\": {\"color\": \"#2a3f5f\"}, \"error_y\": {\"color\": \"#2a3f5f\"}, \"marker\": {\"line\": {\"color\": \"#E5ECF6\", \"width\": 0.5}}, \"type\": \"bar\"}], \"barpolar\": [{\"marker\": {\"line\": {\"color\": \"#E5ECF6\", \"width\": 0.5}}, \"type\": \"barpolar\"}], \"carpet\": [{\"aaxis\": {\"endlinecolor\": \"#2a3f5f\", \"gridcolor\": \"white\", \"linecolor\": \"white\", \"minorgridcolor\": \"white\", \"startlinecolor\": \"#2a3f5f\"}, \"baxis\": {\"endlinecolor\": \"#2a3f5f\", \"gridcolor\": \"white\", \"linecolor\": \"white\", \"minorgridcolor\": \"white\", \"startlinecolor\": \"#2a3f5f\"}, \"type\": \"carpet\"}], \"choropleth\": [{\"colorbar\": {\"outlinewidth\": 0, \"ticks\": \"\"}, \"type\": \"choropleth\"}], \"contour\": [{\"colorbar\": {\"outlinewidth\": 0, \"ticks\": \"\"}, \"colorscale\": [[0.0, \"#0d0887\"], [0.1111111111111111, \"#46039f\"], [0.2222222222222222, \"#7201a8\"], [0.3333333333333333, \"#9c179e\"], [0.4444444444444444, \"#bd3786\"], [0.5555555555555556, \"#d8576b\"], [0.6666666666666666, \"#ed7953\"], [0.7777777777777778, \"#fb9f3a\"], [0.8888888888888888, \"#fdca26\"], [1.0, \"#f0f921\"]], \"type\": \"contour\"}], \"contourcarpet\": [{\"colorbar\": {\"outlinewidth\": 0, \"ticks\": \"\"}, \"type\": \"contourcarpet\"}], \"heatmap\": [{\"colorbar\": {\"outlinewidth\": 0, \"ticks\": \"\"}, \"colorscale\": [[0.0, \"#0d0887\"], [0.1111111111111111, \"#46039f\"], [0.2222222222222222, \"#7201a8\"], [0.3333333333333333, \"#9c179e\"], [0.4444444444444444, \"#bd3786\"], [0.5555555555555556, \"#d8576b\"], [0.6666666666666666, \"#ed7953\"], [0.7777777777777778, \"#fb9f3a\"], [0.8888888888888888, \"#fdca26\"], [1.0, \"#f0f921\"]], \"type\": \"heatmap\"}], \"heatmapgl\": [{\"colorbar\": {\"outlinewidth\": 0, \"ticks\": \"\"}, \"colorscale\": [[0.0, \"#0d0887\"], [0.1111111111111111, \"#46039f\"], [0.2222222222222222, \"#7201a8\"], [0.3333333333333333, \"#9c179e\"], [0.4444444444444444, \"#bd3786\"], [0.5555555555555556, \"#d8576b\"], [0.6666666666666666, \"#ed7953\"], [0.7777777777777778, \"#fb9f3a\"], [0.8888888888888888, \"#fdca26\"], [1.0, \"#f0f921\"]], \"type\": \"heatmapgl\"}], \"histogram\": [{\"marker\": {\"colorbar\": {\"outlinewidth\": 0, \"ticks\": \"\"}}, \"type\": \"histogram\"}], \"histogram2d\": [{\"colorbar\": {\"outlinewidth\": 0, \"ticks\": \"\"}, \"colorscale\": [[0.0, \"#0d0887\"], [0.1111111111111111, \"#46039f\"], [0.2222222222222222, \"#7201a8\"], [0.3333333333333333, \"#9c179e\"], [0.4444444444444444, \"#bd3786\"], [0.5555555555555556, \"#d8576b\"], [0.6666666666666666, \"#ed7953\"], [0.7777777777777778, \"#fb9f3a\"], [0.8888888888888888, \"#fdca26\"], [1.0, \"#f0f921\"]], \"type\": \"histogram2d\"}], \"histogram2dcontour\": [{\"colorbar\": {\"outlinewidth\": 0, \"ticks\": \"\"}, \"colorscale\": [[0.0, \"#0d0887\"], [0.1111111111111111, \"#46039f\"], [0.2222222222222222, \"#7201a8\"], [0.3333333333333333, \"#9c179e\"], [0.4444444444444444, \"#bd3786\"], [0.5555555555555556, \"#d8576b\"], [0.6666666666666666, \"#ed7953\"], [0.7777777777777778, \"#fb9f3a\"], [0.8888888888888888, \"#fdca26\"], [1.0, \"#f0f921\"]], \"type\": \"histogram2dcontour\"}], \"mesh3d\": [{\"colorbar\": {\"outlinewidth\": 0, \"ticks\": \"\"}, \"type\": \"mesh3d\"}], \"parcoords\": [{\"line\": {\"colorbar\": {\"outlinewidth\": 0, \"ticks\": \"\"}}, \"type\": \"parcoords\"}], \"pie\": [{\"automargin\": true, \"type\": \"pie\"}], \"scatter\": [{\"marker\": {\"colorbar\": {\"outlinewidth\": 0, \"ticks\": \"\"}}, \"type\": \"scatter\"}], \"scatter3d\": [{\"line\": {\"colorbar\": {\"outlinewidth\": 0, \"ticks\": \"\"}}, \"marker\": {\"colorbar\": {\"outlinewidth\": 0, \"ticks\": \"\"}}, \"type\": \"scatter3d\"}], \"scattercarpet\": [{\"marker\": {\"colorbar\": {\"outlinewidth\": 0, \"ticks\": \"\"}}, \"type\": \"scattercarpet\"}], \"scattergeo\": [{\"marker\": {\"colorbar\": {\"outlinewidth\": 0, \"ticks\": \"\"}}, \"type\": \"scattergeo\"}], \"scattergl\": [{\"marker\": {\"colorbar\": {\"outlinewidth\": 0, \"ticks\": \"\"}}, \"type\": \"scattergl\"}], \"scattermapbox\": [{\"marker\": {\"colorbar\": {\"outlinewidth\": 0, \"ticks\": \"\"}}, \"type\": \"scattermapbox\"}], \"scatterpolar\": [{\"marker\": {\"colorbar\": {\"outlinewidth\": 0, \"ticks\": \"\"}}, \"type\": \"scatterpolar\"}], \"scatterpolargl\": [{\"marker\": {\"colorbar\": {\"outlinewidth\": 0, \"ticks\": \"\"}}, \"type\": \"scatterpolargl\"}], \"scatterternary\": [{\"marker\": {\"colorbar\": {\"outlinewidth\": 0, \"ticks\": \"\"}}, \"type\": \"scatterternary\"}], \"surface\": [{\"colorbar\": {\"outlinewidth\": 0, \"ticks\": \"\"}, \"colorscale\": [[0.0, \"#0d0887\"], [0.1111111111111111, \"#46039f\"], [0.2222222222222222, \"#7201a8\"], [0.3333333333333333, \"#9c179e\"], [0.4444444444444444, \"#bd3786\"], [0.5555555555555556, \"#d8576b\"], [0.6666666666666666, \"#ed7953\"], [0.7777777777777778, \"#fb9f3a\"], [0.8888888888888888, \"#fdca26\"], [1.0, \"#f0f921\"]], \"type\": \"surface\"}], \"table\": [{\"cells\": {\"fill\": {\"color\": \"#EBF0F8\"}, \"line\": {\"color\": \"white\"}}, \"header\": {\"fill\": {\"color\": \"#C8D4E3\"}, \"line\": {\"color\": \"white\"}}, \"type\": \"table\"}]}, \"layout\": {\"annotationdefaults\": {\"arrowcolor\": \"#2a3f5f\", \"arrowhead\": 0, \"arrowwidth\": 1}, \"autotypenumbers\": \"strict\", \"coloraxis\": {\"colorbar\": {\"outlinewidth\": 0, \"ticks\": \"\"}}, \"colorscale\": {\"diverging\": [[0, \"#8e0152\"], [0.1, \"#c51b7d\"], [0.2, \"#de77ae\"], [0.3, \"#f1b6da\"], [0.4, \"#fde0ef\"], [0.5, \"#f7f7f7\"], [0.6, \"#e6f5d0\"], [0.7, \"#b8e186\"], [0.8, \"#7fbc41\"], [0.9, \"#4d9221\"], [1, \"#276419\"]], \"sequential\": [[0.0, \"#0d0887\"], [0.1111111111111111, \"#46039f\"], [0.2222222222222222, \"#7201a8\"], [0.3333333333333333, \"#9c179e\"], [0.4444444444444444, \"#bd3786\"], [0.5555555555555556, \"#d8576b\"], [0.6666666666666666, \"#ed7953\"], [0.7777777777777778, \"#fb9f3a\"], [0.8888888888888888, \"#fdca26\"], [1.0, \"#f0f921\"]], \"sequentialminus\": [[0.0, \"#0d0887\"], [0.1111111111111111, \"#46039f\"], [0.2222222222222222, \"#7201a8\"], [0.3333333333333333, \"#9c179e\"], [0.4444444444444444, \"#bd3786\"], [0.5555555555555556, \"#d8576b\"], [0.6666666666666666, \"#ed7953\"], [0.7777777777777778, \"#fb9f3a\"], [0.8888888888888888, \"#fdca26\"], [1.0, \"#f0f921\"]]}, \"colorway\": [\"#636efa\", \"#EF553B\", \"#00cc96\", \"#ab63fa\", \"#FFA15A\", \"#19d3f3\", \"#FF6692\", \"#B6E880\", \"#FF97FF\", \"#FECB52\"], \"font\": {\"color\": \"#2a3f5f\"}, \"geo\": {\"bgcolor\": \"white\", \"lakecolor\": \"white\", \"landcolor\": \"#E5ECF6\", \"showlakes\": true, \"showland\": true, \"subunitcolor\": \"white\"}, \"hoverlabel\": {\"align\": \"left\"}, \"hovermode\": \"closest\", \"mapbox\": {\"style\": \"light\"}, \"paper_bgcolor\": \"white\", \"plot_bgcolor\": \"#E5ECF6\", \"polar\": {\"angularaxis\": {\"gridcolor\": \"white\", \"linecolor\": \"white\", \"ticks\": \"\"}, \"bgcolor\": \"#E5ECF6\", \"radialaxis\": {\"gridcolor\": \"white\", \"linecolor\": \"white\", \"ticks\": \"\"}}, \"scene\": {\"xaxis\": {\"backgroundcolor\": \"#E5ECF6\", \"gridcolor\": \"white\", \"gridwidth\": 2, \"linecolor\": \"white\", \"showbackground\": true, \"ticks\": \"\", \"zerolinecolor\": \"white\"}, \"yaxis\": {\"backgroundcolor\": \"#E5ECF6\", \"gridcolor\": \"white\", \"gridwidth\": 2, \"linecolor\": \"white\", \"showbackground\": true, \"ticks\": \"\", \"zerolinecolor\": \"white\"}, \"zaxis\": {\"backgroundcolor\": \"#E5ECF6\", \"gridcolor\": \"white\", \"gridwidth\": 2, \"linecolor\": \"white\", \"showbackground\": true, \"ticks\": \"\", \"zerolinecolor\": \"white\"}}, \"shapedefaults\": {\"line\": {\"color\": \"#2a3f5f\"}}, \"ternary\": {\"aaxis\": {\"gridcolor\": \"white\", \"linecolor\": \"white\", \"ticks\": \"\"}, \"baxis\": {\"gridcolor\": \"white\", \"linecolor\": \"white\", \"ticks\": \"\"}, \"bgcolor\": \"#E5ECF6\", \"caxis\": {\"gridcolor\": \"white\", \"linecolor\": \"white\", \"ticks\": \"\"}}, \"title\": {\"x\": 0.05}, \"xaxis\": {\"automargin\": true, \"gridcolor\": \"white\", \"linecolor\": \"white\", \"ticks\": \"\", \"title\": {\"standoff\": 15}, \"zerolinecolor\": \"white\", \"zerolinewidth\": 2}, \"yaxis\": {\"automargin\": true, \"gridcolor\": \"white\", \"linecolor\": \"white\", \"ticks\": \"\", \"title\": {\"standoff\": 15}, \"zerolinecolor\": \"white\", \"zerolinewidth\": 2}}}},                        {\"responsive\": true}                    ).then(function(){\n",
              "                            \n",
              "var gd = document.getElementById('97eb53dd-f221-4fdd-9aa1-7230ce3a1cfc');\n",
              "var x = new MutationObserver(function (mutations, observer) {{\n",
              "        var display = window.getComputedStyle(gd).display;\n",
              "        if (!display || display === 'none') {{\n",
              "            console.log([gd, 'removed!']);\n",
              "            Plotly.purge(gd);\n",
              "            observer.disconnect();\n",
              "        }}\n",
              "}});\n",
              "\n",
              "// Listen for the removal of the full notebook cells\n",
              "var notebookContainer = gd.closest('#notebook-container');\n",
              "if (notebookContainer) {{\n",
              "    x.observe(notebookContainer, {childList: true});\n",
              "}}\n",
              "\n",
              "// Listen for the clearing of the current output cell\n",
              "var outputEl = gd.closest('.output');\n",
              "if (outputEl) {{\n",
              "    x.observe(outputEl, {childList: true});\n",
              "}}\n",
              "\n",
              "                        })                };                            </script>        </div>\n",
              "</body>\n",
              "</html>"
            ]
          },
          "metadata": {}
        }
      ]
    },
    {
      "cell_type": "markdown",
      "source": [
        "### Coeficiente de Silhueta"
      ],
      "metadata": {
        "id": "QlnP3hQDiWrd"
      }
    },
    {
      "cell_type": "code",
      "source": [
        "from sklearn.metrics import silhouette_samples, silhouette_score\n",
        "from sklearn.cluster import KMeans\n",
        "\n",
        "clusterer = KMeans(n_clusters=10, random_state=10)\n",
        "cluster_labels_high = clusterer.fit_predict(xscaled)\n",
        "\n",
        "cluster_labels_low = clusterer.fit_predict(X_tsne)\n",
        "\n",
        "silhouette_avg_high = silhouette_score(X, cluster_labels_high)\n",
        "\n",
        "silhouette_avg_low = silhouette_score(X_tsne, cluster_labels_low)\n",
        "\n",
        "print(silhouette_avg_high)\n",
        "print(silhouette_avg_low)"
      ],
      "metadata": {
        "colab": {
          "base_uri": "https://localhost:8080/"
        },
        "id": "dEmRfdpwiabE",
        "outputId": "f4ad130f-19d2-4225-d523-098863708c67"
      },
      "execution_count": 24,
      "outputs": [
        {
          "output_type": "stream",
          "name": "stdout",
          "text": [
            "0.11493075122390936\n",
            "0.61776555\n"
          ]
        }
      ]
    },
    {
      "cell_type": "code",
      "source": [
        "clusterer = KMeans(n_clusters=10, random_state=10)\n",
        "cluster_labels_high = clusterer.fit_predict(xscaled)\n",
        "\n",
        "cluster_labels_low = clusterer.fit_predict(X_umap)\n",
        "\n",
        "silhouette_avg_high = silhouette_score(X, cluster_labels_high)\n",
        "\n",
        "silhouette_avg_low = silhouette_score(X_umap, cluster_labels_low)\n",
        "\n",
        "print(silhouette_avg_high)\n",
        "print(silhouette_avg_low)"
      ],
      "metadata": {
        "colab": {
          "base_uri": "https://localhost:8080/"
        },
        "id": "Dxoni1BP1Vi5",
        "outputId": "688954eb-1782-4196-ee62-5f4a66536b0a"
      },
      "execution_count": 25,
      "outputs": [
        {
          "output_type": "stream",
          "name": "stdout",
          "text": [
            "0.11493075122390936\n",
            "0.5837925\n"
          ]
        }
      ]
    },
    {
      "cell_type": "code",
      "source": [
        "clusterer = KMeans(n_clusters=10, random_state=10)\n",
        "cluster_labels_high = clusterer.fit_predict(xscaled)\n",
        "\n",
        "cluster_labels_low = clusterer.fit_predict(X_pca)\n",
        "\n",
        "silhouette_avg_high = silhouette_score(X, cluster_labels_high)\n",
        "\n",
        "silhouette_avg_low = silhouette_score(X_pca,cluster_labels_low)\n",
        "\n",
        "print(silhouette_avg_high)\n",
        "print(silhouette_avg_low)"
      ],
      "metadata": {
        "colab": {
          "base_uri": "https://localhost:8080/"
        },
        "id": "WSLNAvzL1ge3",
        "outputId": "5b85b6d7-3905-4784-8b6b-0feff654704a"
      },
      "execution_count": 26,
      "outputs": [
        {
          "output_type": "stream",
          "name": "stdout",
          "text": [
            "0.11493075122390936\n",
            "0.375094816195165\n"
          ]
        }
      ]
    },
    {
      "cell_type": "code",
      "source": [
        "clusterer = KMeans(n_clusters=10, random_state=10)\n",
        "cluster_labels_high = clusterer.fit_predict(xscaled)\n",
        "\n",
        "cluster_labels_low = clusterer.fit_predict(X_trimap)\n",
        "\n",
        "silhouette_avg_high = silhouette_score(X, cluster_labels_high)\n",
        "\n",
        "silhouette_avg_low = silhouette_score(X_trimap,cluster_labels_low)\n",
        "\n",
        "print(silhouette_avg_high)\n",
        "print(silhouette_avg_low)"
      ],
      "metadata": {
        "colab": {
          "base_uri": "https://localhost:8080/"
        },
        "id": "eiKO8b1OwnzD",
        "outputId": "aaffe477-8b15-40a5-82e0-8df87ba1afd3"
      },
      "execution_count": 32,
      "outputs": [
        {
          "output_type": "stream",
          "name": "stdout",
          "text": [
            "0.11493075122390936\n",
            "0.636574\n"
          ]
        }
      ]
    },
    {
      "cell_type": "markdown",
      "metadata": {
        "id": "3OiRLLZSxh05"
      },
      "source": [
        "## Global Score\n",
        "\n",
        "https://github.com/eamid/trimap"
      ]
    },
    {
      "cell_type": "code",
      "source": [
        "gs = trimap.TRIMAP(verbose=False).global_score(xscaled, X_trimap)\n",
        "print(f\"TriMap global score {gs}\")"
      ],
      "metadata": {
        "colab": {
          "base_uri": "https://localhost:8080/"
        },
        "id": "068Jv4Z3GsWE",
        "outputId": "d3deb028-9ce1-4e2c-cf70-077de86a20b8"
      },
      "execution_count": 27,
      "outputs": [
        {
          "output_type": "stream",
          "name": "stdout",
          "text": [
            "TriMap global score 0.3399594034883071\n"
          ]
        }
      ]
    },
    {
      "cell_type": "code",
      "source": [
        "gs = trimap.TRIMAP(verbose=False).global_score(xscaled, X_tsne)\n",
        "print(f\"tSNE global score {gs}\")"
      ],
      "metadata": {
        "colab": {
          "base_uri": "https://localhost:8080/"
        },
        "id": "6hJKHnPRG89m",
        "outputId": "7af2858f-1b1b-413e-e9fe-9b9e7249a53e"
      },
      "execution_count": 28,
      "outputs": [
        {
          "output_type": "stream",
          "name": "stdout",
          "text": [
            "tSNE global score 0.29756576623867986\n"
          ]
        }
      ]
    },
    {
      "cell_type": "code",
      "source": [
        "gs = trimap.TRIMAP(verbose=False).global_score(xscaled, X_umap)\n",
        "print(f\"UMAP global score {gs}\")"
      ],
      "metadata": {
        "colab": {
          "base_uri": "https://localhost:8080/"
        },
        "id": "BM3eksKfG9Ns",
        "outputId": "8d9fd047-6226-4b9b-cae4-493b0ad1e624"
      },
      "execution_count": 29,
      "outputs": [
        {
          "output_type": "stream",
          "name": "stdout",
          "text": [
            "UMAP global score 0.25658366986251674\n"
          ]
        }
      ]
    },
    {
      "cell_type": "code",
      "source": [
        "gs = trimap.TRIMAP(verbose=False).global_score(xscaled, X_pca)\n",
        "print(f\"PCA global score {gs}\")"
      ],
      "metadata": {
        "colab": {
          "base_uri": "https://localhost:8080/"
        },
        "id": "r4X3BU5RHQ8w",
        "outputId": "f4051ed7-7f68-4c40-f5ca-5f1e8c549e8e"
      },
      "execution_count": 30,
      "outputs": [
        {
          "output_type": "stream",
          "name": "stdout",
          "text": [
            "PCA global score 1.0\n"
          ]
        }
      ]
    }
  ]
}