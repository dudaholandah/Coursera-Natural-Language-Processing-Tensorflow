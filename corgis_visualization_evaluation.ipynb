{
  "nbformat": 4,
  "nbformat_minor": 0,
  "metadata": {
    "colab": {
      "name": "corgis_visualization_evaluation.ipynb",
      "provenance": [],
      "collapsed_sections": [],
      "include_colab_link": true
    },
    "kernelspec": {
      "display_name": "Python 3",
      "language": "python",
      "name": "python3"
    },
    "language_info": {
      "codemirror_mode": {
        "name": "ipython",
        "version": 3
      },
      "file_extension": ".py",
      "mimetype": "text/x-python",
      "name": "python",
      "nbconvert_exporter": "python",
      "pygments_lexer": "ipython3",
      "version": "3.6.10"
    }
  },
  "cells": [
    {
      "cell_type": "markdown",
      "metadata": {
        "id": "view-in-github",
        "colab_type": "text"
      },
      "source": [
        "<a href=\"https://colab.research.google.com/github/dudaholandah/PIBIC/blob/main/corgis_visualization_evaluation.ipynb\" target=\"_parent\"><img src=\"https://colab.research.google.com/assets/colab-badge.svg\" alt=\"Open In Colab\"/></a>"
      ]
    },
    {
      "cell_type": "markdown",
      "metadata": {
        "id": "JFhO1kZQPonA"
      },
      "source": [
        "#Visualization of the USDA DataSet\n",
        "\n"
      ]
    },
    {
      "cell_type": "markdown",
      "metadata": {
        "id": "0OnyXDCTp0-0"
      },
      "source": [
        "Instalação do plotly e do renderer Orca, para que o Github apresente as imagens geradas pelo Plotly"
      ]
    },
    {
      "cell_type": "code",
      "source": [
        "#from google.colab import drive\n",
        "#drive.mount('/content/drive')"
      ],
      "metadata": {
        "id": "GmjNcY2Z9nHr"
      },
      "execution_count": 1,
      "outputs": []
    },
    {
      "cell_type": "code",
      "source": [
        "#!cp \"/content/drive/My Drive/food/CORGIS_dataset.csv\" \"corgis.csv\"\n",
        "#!cp \"/content/drive/My Drive/food/australian_AUSNUT_2011_Food_Nutrient_Database.xls\" \"australian.xls\""
      ],
      "metadata": {
        "id": "Zj-Sj7Z19pcB"
      },
      "execution_count": 2,
      "outputs": []
    },
    {
      "cell_type": "code",
      "metadata": {
        "id": "bLiPKsx_p1ZT"
      },
      "source": [
        "!pip install plotly==4.14.3\n",
        "# !pip install orca\n",
        "!apt-get install xvfb libgtk2.0-0 libgconf-2-4\n",
        "!pip install umap-learn\n",
        "!pip install trimap\n",
        "!pip install scikit-learn-extra\n",
        "!apt-get install poppler-utils \n",
        "!pip install pdf2image\n",
        "!pip install -U kaleido"
      ],
      "execution_count": null,
      "outputs": []
    },
    {
      "cell_type": "markdown",
      "metadata": {
        "id": "Fk3DAY9kPl7Z"
      },
      "source": [
        "Bibliotecas importantes"
      ]
    },
    {
      "cell_type": "code",
      "metadata": {
        "id": "k30sCmYRPWTC",
        "outputId": "c16f0fa8-9d87-46bc-ef31-e8489e52ae31",
        "colab": {
          "base_uri": "https://localhost:8080/"
        }
      },
      "source": [
        "import pandas as pd\n",
        "from sklearn import preprocessing\n",
        "#from ipywidgets import interactive, HBox, VBox\n",
        "import plotly.express as px\n",
        "#from plotly.offline import init_notebook_mode, iplot\n",
        "##import plotly.offline as py\n",
        "import plotly.graph_objects as go\n",
        "import numpy as np\n",
        "from sklearn.decomposition import PCA as sklearnPCA\n",
        "from sklearn.manifold import TSNE\n",
        "from sklearn.manifold import Isomap\n",
        "from sklearn.manifold import trustworthiness\n",
        "from sklearn_extra.cluster import KMedoids\n",
        "from umap import UMAP\n",
        "import trimap\n",
        "import plotly\n",
        "import pdf2image\n",
        "import os"
      ],
      "execution_count": 4,
      "outputs": [
        {
          "output_type": "stream",
          "name": "stderr",
          "text": [
            "/usr/local/lib/python3.7/dist-packages/numba/np/ufunc/parallel.py:363: NumbaWarning: The TBB threading layer requires TBB version 2019.5 or later i.e., TBB_INTERFACE_VERSION >= 11005. Found TBB_INTERFACE_VERSION = 9107. The TBB threading layer is disabled.\n",
            "  warnings.warn(problem)\n"
          ]
        }
      ]
    },
    {
      "cell_type": "markdown",
      "metadata": {
        "id": "z6OL0pC9Q8Ak"
      },
      "source": [
        "Abre o arquivo .data utilizando o Pandas. O conjunto auto-mpg pode ser baixado aqui:\n",
        "\n",
        "\n",
        "https://archive.ics.uci.edu/ml/datasets/Auto+MPG"
      ]
    },
    {
      "cell_type": "code",
      "metadata": {
        "id": "IcrsmJCHPWTG"
      },
      "source": [
        "raw_data = pd.read_csv(\"CORGIS_dataset.csv\")"
      ],
      "execution_count": 5,
      "outputs": []
    },
    {
      "cell_type": "code",
      "metadata": {
        "id": "2qSe656kRIvS",
        "colab": {
          "base_uri": "https://localhost:8080/",
          "height": 421
        },
        "outputId": "38f3ce42-058f-46a5-e575-a237bee98143"
      },
      "source": [
        "raw_data.head()"
      ],
      "execution_count": 6,
      "outputs": [
        {
          "output_type": "execute_result",
          "data": {
            "text/plain": [
              "  Category                     Description  Nutrient Data Bank Number  \\\n",
              "0     Milk                     Milk, human                   11000000   \n",
              "1     Milk                       Milk, NFS                   11100000   \n",
              "2     Milk                     Milk, whole                   11111000   \n",
              "3     Milk         Milk, low sodium, whole                   11111100   \n",
              "4     Milk  Milk, calcium fortified, whole                   11111150   \n",
              "\n",
              "   Data.Alpha Carotene  Data.Beta Carotene  Data.Beta Cryptoxanthin  \\\n",
              "0                    0                   7                        0   \n",
              "1                    0                   4                        0   \n",
              "2                    0                   7                        0   \n",
              "3                    0                   7                        0   \n",
              "4                    0                   7                        0   \n",
              "\n",
              "   Data.Carbohydrate  Data.Cholesterol  Data.Choline  Data.Fiber  ...  \\\n",
              "0               6.89                14          16.0         0.0  ...   \n",
              "1               4.87                 8          17.9         0.0  ...   \n",
              "2               4.67                12          17.8         0.0  ...   \n",
              "3               4.46                14          16.0         0.0  ...   \n",
              "4               4.67                12          17.8         0.0  ...   \n",
              "\n",
              "   Data.Major Minerals.Phosphorus  Data.Major Minerals.Potassium  \\\n",
              "0                              14                             51   \n",
              "1                             103                            157   \n",
              "2                             101                            150   \n",
              "3                              86                            253   \n",
              "4                             101                            150   \n",
              "\n",
              "   Data.Major Minerals.Sodium  Data.Major Minerals.Zinc  \\\n",
              "0                          17                      0.17   \n",
              "1                          39                      0.42   \n",
              "2                          38                      0.41   \n",
              "3                           3                      0.38   \n",
              "4                          38                      0.41   \n",
              "\n",
              "   Data.Vitamins.Vitamin A - RAE  Data.Vitamins.Vitamin B12  \\\n",
              "0                             61                       0.05   \n",
              "1                             59                       0.56   \n",
              "2                             32                       0.54   \n",
              "3                             29                       0.36   \n",
              "4                             32                       0.54   \n",
              "\n",
              "   Data.Vitamins.Vitamin B6  Data.Vitamins.Vitamin C  Data.Vitamins.Vitamin E  \\\n",
              "0                     0.011                      5.0                     0.08   \n",
              "1                     0.060                      0.1                     0.03   \n",
              "2                     0.061                      0.0                     0.05   \n",
              "3                     0.034                      0.9                     0.08   \n",
              "4                     0.061                      0.0                     0.05   \n",
              "\n",
              "   Data.Vitamins.Vitamin K  \n",
              "0                      0.3  \n",
              "1                      0.2  \n",
              "2                      0.3  \n",
              "3                      0.3  \n",
              "4                      0.3  \n",
              "\n",
              "[5 rows x 38 columns]"
            ],
            "text/html": [
              "\n",
              "  <div id=\"df-d6556898-10d9-447e-8c0a-ee10438841ac\">\n",
              "    <div class=\"colab-df-container\">\n",
              "      <div>\n",
              "<style scoped>\n",
              "    .dataframe tbody tr th:only-of-type {\n",
              "        vertical-align: middle;\n",
              "    }\n",
              "\n",
              "    .dataframe tbody tr th {\n",
              "        vertical-align: top;\n",
              "    }\n",
              "\n",
              "    .dataframe thead th {\n",
              "        text-align: right;\n",
              "    }\n",
              "</style>\n",
              "<table border=\"1\" class=\"dataframe\">\n",
              "  <thead>\n",
              "    <tr style=\"text-align: right;\">\n",
              "      <th></th>\n",
              "      <th>Category</th>\n",
              "      <th>Description</th>\n",
              "      <th>Nutrient Data Bank Number</th>\n",
              "      <th>Data.Alpha Carotene</th>\n",
              "      <th>Data.Beta Carotene</th>\n",
              "      <th>Data.Beta Cryptoxanthin</th>\n",
              "      <th>Data.Carbohydrate</th>\n",
              "      <th>Data.Cholesterol</th>\n",
              "      <th>Data.Choline</th>\n",
              "      <th>Data.Fiber</th>\n",
              "      <th>...</th>\n",
              "      <th>Data.Major Minerals.Phosphorus</th>\n",
              "      <th>Data.Major Minerals.Potassium</th>\n",
              "      <th>Data.Major Minerals.Sodium</th>\n",
              "      <th>Data.Major Minerals.Zinc</th>\n",
              "      <th>Data.Vitamins.Vitamin A - RAE</th>\n",
              "      <th>Data.Vitamins.Vitamin B12</th>\n",
              "      <th>Data.Vitamins.Vitamin B6</th>\n",
              "      <th>Data.Vitamins.Vitamin C</th>\n",
              "      <th>Data.Vitamins.Vitamin E</th>\n",
              "      <th>Data.Vitamins.Vitamin K</th>\n",
              "    </tr>\n",
              "  </thead>\n",
              "  <tbody>\n",
              "    <tr>\n",
              "      <th>0</th>\n",
              "      <td>Milk</td>\n",
              "      <td>Milk, human</td>\n",
              "      <td>11000000</td>\n",
              "      <td>0</td>\n",
              "      <td>7</td>\n",
              "      <td>0</td>\n",
              "      <td>6.89</td>\n",
              "      <td>14</td>\n",
              "      <td>16.0</td>\n",
              "      <td>0.0</td>\n",
              "      <td>...</td>\n",
              "      <td>14</td>\n",
              "      <td>51</td>\n",
              "      <td>17</td>\n",
              "      <td>0.17</td>\n",
              "      <td>61</td>\n",
              "      <td>0.05</td>\n",
              "      <td>0.011</td>\n",
              "      <td>5.0</td>\n",
              "      <td>0.08</td>\n",
              "      <td>0.3</td>\n",
              "    </tr>\n",
              "    <tr>\n",
              "      <th>1</th>\n",
              "      <td>Milk</td>\n",
              "      <td>Milk, NFS</td>\n",
              "      <td>11100000</td>\n",
              "      <td>0</td>\n",
              "      <td>4</td>\n",
              "      <td>0</td>\n",
              "      <td>4.87</td>\n",
              "      <td>8</td>\n",
              "      <td>17.9</td>\n",
              "      <td>0.0</td>\n",
              "      <td>...</td>\n",
              "      <td>103</td>\n",
              "      <td>157</td>\n",
              "      <td>39</td>\n",
              "      <td>0.42</td>\n",
              "      <td>59</td>\n",
              "      <td>0.56</td>\n",
              "      <td>0.060</td>\n",
              "      <td>0.1</td>\n",
              "      <td>0.03</td>\n",
              "      <td>0.2</td>\n",
              "    </tr>\n",
              "    <tr>\n",
              "      <th>2</th>\n",
              "      <td>Milk</td>\n",
              "      <td>Milk, whole</td>\n",
              "      <td>11111000</td>\n",
              "      <td>0</td>\n",
              "      <td>7</td>\n",
              "      <td>0</td>\n",
              "      <td>4.67</td>\n",
              "      <td>12</td>\n",
              "      <td>17.8</td>\n",
              "      <td>0.0</td>\n",
              "      <td>...</td>\n",
              "      <td>101</td>\n",
              "      <td>150</td>\n",
              "      <td>38</td>\n",
              "      <td>0.41</td>\n",
              "      <td>32</td>\n",
              "      <td>0.54</td>\n",
              "      <td>0.061</td>\n",
              "      <td>0.0</td>\n",
              "      <td>0.05</td>\n",
              "      <td>0.3</td>\n",
              "    </tr>\n",
              "    <tr>\n",
              "      <th>3</th>\n",
              "      <td>Milk</td>\n",
              "      <td>Milk, low sodium, whole</td>\n",
              "      <td>11111100</td>\n",
              "      <td>0</td>\n",
              "      <td>7</td>\n",
              "      <td>0</td>\n",
              "      <td>4.46</td>\n",
              "      <td>14</td>\n",
              "      <td>16.0</td>\n",
              "      <td>0.0</td>\n",
              "      <td>...</td>\n",
              "      <td>86</td>\n",
              "      <td>253</td>\n",
              "      <td>3</td>\n",
              "      <td>0.38</td>\n",
              "      <td>29</td>\n",
              "      <td>0.36</td>\n",
              "      <td>0.034</td>\n",
              "      <td>0.9</td>\n",
              "      <td>0.08</td>\n",
              "      <td>0.3</td>\n",
              "    </tr>\n",
              "    <tr>\n",
              "      <th>4</th>\n",
              "      <td>Milk</td>\n",
              "      <td>Milk, calcium fortified, whole</td>\n",
              "      <td>11111150</td>\n",
              "      <td>0</td>\n",
              "      <td>7</td>\n",
              "      <td>0</td>\n",
              "      <td>4.67</td>\n",
              "      <td>12</td>\n",
              "      <td>17.8</td>\n",
              "      <td>0.0</td>\n",
              "      <td>...</td>\n",
              "      <td>101</td>\n",
              "      <td>150</td>\n",
              "      <td>38</td>\n",
              "      <td>0.41</td>\n",
              "      <td>32</td>\n",
              "      <td>0.54</td>\n",
              "      <td>0.061</td>\n",
              "      <td>0.0</td>\n",
              "      <td>0.05</td>\n",
              "      <td>0.3</td>\n",
              "    </tr>\n",
              "  </tbody>\n",
              "</table>\n",
              "<p>5 rows × 38 columns</p>\n",
              "</div>\n",
              "      <button class=\"colab-df-convert\" onclick=\"convertToInteractive('df-d6556898-10d9-447e-8c0a-ee10438841ac')\"\n",
              "              title=\"Convert this dataframe to an interactive table.\"\n",
              "              style=\"display:none;\">\n",
              "        \n",
              "  <svg xmlns=\"http://www.w3.org/2000/svg\" height=\"24px\"viewBox=\"0 0 24 24\"\n",
              "       width=\"24px\">\n",
              "    <path d=\"M0 0h24v24H0V0z\" fill=\"none\"/>\n",
              "    <path d=\"M18.56 5.44l.94 2.06.94-2.06 2.06-.94-2.06-.94-.94-2.06-.94 2.06-2.06.94zm-11 1L8.5 8.5l.94-2.06 2.06-.94-2.06-.94L8.5 2.5l-.94 2.06-2.06.94zm10 10l.94 2.06.94-2.06 2.06-.94-2.06-.94-.94-2.06-.94 2.06-2.06.94z\"/><path d=\"M17.41 7.96l-1.37-1.37c-.4-.4-.92-.59-1.43-.59-.52 0-1.04.2-1.43.59L10.3 9.45l-7.72 7.72c-.78.78-.78 2.05 0 2.83L4 21.41c.39.39.9.59 1.41.59.51 0 1.02-.2 1.41-.59l7.78-7.78 2.81-2.81c.8-.78.8-2.07 0-2.86zM5.41 20L4 18.59l7.72-7.72 1.47 1.35L5.41 20z\"/>\n",
              "  </svg>\n",
              "      </button>\n",
              "      \n",
              "  <style>\n",
              "    .colab-df-container {\n",
              "      display:flex;\n",
              "      flex-wrap:wrap;\n",
              "      gap: 12px;\n",
              "    }\n",
              "\n",
              "    .colab-df-convert {\n",
              "      background-color: #E8F0FE;\n",
              "      border: none;\n",
              "      border-radius: 50%;\n",
              "      cursor: pointer;\n",
              "      display: none;\n",
              "      fill: #1967D2;\n",
              "      height: 32px;\n",
              "      padding: 0 0 0 0;\n",
              "      width: 32px;\n",
              "    }\n",
              "\n",
              "    .colab-df-convert:hover {\n",
              "      background-color: #E2EBFA;\n",
              "      box-shadow: 0px 1px 2px rgba(60, 64, 67, 0.3), 0px 1px 3px 1px rgba(60, 64, 67, 0.15);\n",
              "      fill: #174EA6;\n",
              "    }\n",
              "\n",
              "    [theme=dark] .colab-df-convert {\n",
              "      background-color: #3B4455;\n",
              "      fill: #D2E3FC;\n",
              "    }\n",
              "\n",
              "    [theme=dark] .colab-df-convert:hover {\n",
              "      background-color: #434B5C;\n",
              "      box-shadow: 0px 1px 3px 1px rgba(0, 0, 0, 0.15);\n",
              "      filter: drop-shadow(0px 1px 2px rgba(0, 0, 0, 0.3));\n",
              "      fill: #FFFFFF;\n",
              "    }\n",
              "  </style>\n",
              "\n",
              "      <script>\n",
              "        const buttonEl =\n",
              "          document.querySelector('#df-d6556898-10d9-447e-8c0a-ee10438841ac button.colab-df-convert');\n",
              "        buttonEl.style.display =\n",
              "          google.colab.kernel.accessAllowed ? 'block' : 'none';\n",
              "\n",
              "        async function convertToInteractive(key) {\n",
              "          const element = document.querySelector('#df-d6556898-10d9-447e-8c0a-ee10438841ac');\n",
              "          const dataTable =\n",
              "            await google.colab.kernel.invokeFunction('convertToInteractive',\n",
              "                                                     [key], {});\n",
              "          if (!dataTable) return;\n",
              "\n",
              "          const docLinkHtml = 'Like what you see? Visit the ' +\n",
              "            '<a target=\"_blank\" href=https://colab.research.google.com/notebooks/data_table.ipynb>data table notebook</a>'\n",
              "            + ' to learn more about interactive tables.';\n",
              "          element.innerHTML = '';\n",
              "          dataTable['output_type'] = 'display_data';\n",
              "          await google.colab.output.renderOutput(dataTable, element);\n",
              "          const docLink = document.createElement('div');\n",
              "          docLink.innerHTML = docLinkHtml;\n",
              "          element.appendChild(docLink);\n",
              "        }\n",
              "      </script>\n",
              "    </div>\n",
              "  </div>\n",
              "  "
            ]
          },
          "metadata": {},
          "execution_count": 6
        }
      ]
    },
    {
      "cell_type": "code",
      "source": [
        "print(f'Number of Data instances: {raw_data.shape[0]}')\n",
        "print(f'Number of Data Attributes: {raw_data.shape[1]}')"
      ],
      "metadata": {
        "colab": {
          "base_uri": "https://localhost:8080/"
        },
        "id": "-AZP4ZnMAAUW",
        "outputId": "db7b164f-24d5-4962-b826-bd817b2ebfd4"
      },
      "execution_count": 7,
      "outputs": [
        {
          "output_type": "stream",
          "name": "stdout",
          "text": [
            "Number of Data instances: 7083\n",
            "Number of Data Attributes: 38\n"
          ]
        }
      ]
    },
    {
      "cell_type": "code",
      "source": [
        "print(raw_data.columns)"
      ],
      "metadata": {
        "colab": {
          "base_uri": "https://localhost:8080/"
        },
        "id": "Rui_rUvE4pWZ",
        "outputId": "df0014bf-38a1-4a26-9fa9-ac5a6cbd2900"
      },
      "execution_count": 8,
      "outputs": [
        {
          "output_type": "stream",
          "name": "stdout",
          "text": [
            "Index(['Category', 'Description', 'Nutrient Data Bank Number',\n",
            "       'Data.Alpha Carotene', 'Data.Beta Carotene', 'Data.Beta Cryptoxanthin',\n",
            "       'Data.Carbohydrate', 'Data.Cholesterol', 'Data.Choline', 'Data.Fiber',\n",
            "       'Data.Lutein and Zeaxanthin', 'Data.Lycopene', 'Data.Niacin',\n",
            "       'Data.Protein', 'Data.Retinol', 'Data.Riboflavin', 'Data.Selenium',\n",
            "       'Data.Sugar Total', 'Data.Thiamin', 'Data.Water',\n",
            "       'Data.Fat.Monosaturated Fat', 'Data.Fat.Polysaturated Fat',\n",
            "       'Data.Fat.Saturated Fat', 'Data.Fat.Total Lipid',\n",
            "       'Data.Major Minerals.Calcium', 'Data.Major Minerals.Copper',\n",
            "       'Data.Major Minerals.Iron', 'Data.Major Minerals.Magnesium',\n",
            "       'Data.Major Minerals.Phosphorus', 'Data.Major Minerals.Potassium',\n",
            "       'Data.Major Minerals.Sodium', 'Data.Major Minerals.Zinc',\n",
            "       'Data.Vitamins.Vitamin A - RAE', 'Data.Vitamins.Vitamin B12',\n",
            "       'Data.Vitamins.Vitamin B6', 'Data.Vitamins.Vitamin C',\n",
            "       'Data.Vitamins.Vitamin E', 'Data.Vitamins.Vitamin K'],\n",
            "      dtype='object')\n"
          ]
        }
      ]
    },
    {
      "cell_type": "markdown",
      "source": [
        "Labels information"
      ],
      "metadata": {
        "id": "-w5KskYkAPsM"
      }
    },
    {
      "cell_type": "code",
      "source": [
        "print(raw_data['Category'].value_counts())"
      ],
      "metadata": {
        "colab": {
          "base_uri": "https://localhost:8080/"
        },
        "id": "oeBJe2ZUAQ5P",
        "outputId": "339db651-04e4-4a20-dc30-57ede0ffdb45"
      },
      "execution_count": 9,
      "outputs": [
        {
          "output_type": "stream",
          "name": "stdout",
          "text": [
            "Infant formula                          173\n",
            "Rice                                    143\n",
            "Bread                                   119\n",
            "Potato                                  105\n",
            "Cookie                                  100\n",
            "                                       ... \n",
            "Layer dip                                 1\n",
            "Bean dip                                  1\n",
            "Refried beans with meat                   1\n",
            "Black bean salad                          1\n",
            "Industrial oil as ingredient in food      1\n",
            "Name: Category, Length: 2429, dtype: int64\n"
          ]
        }
      ]
    },
    {
      "cell_type": "markdown",
      "metadata": {
        "id": "196OrKOKinVf"
      },
      "source": [
        "Remoção de instâncias com valores ausentes:"
      ]
    },
    {
      "cell_type": "code",
      "metadata": {
        "id": "x8GZPgCIcxkC"
      },
      "source": [
        "raw_data = raw_data.replace('?',np.NaN)\n",
        "raw_data = raw_data.replace('NA',np.NaN)\n",
        "raw_data = raw_data.dropna(axis=0)"
      ],
      "execution_count": 10,
      "outputs": []
    },
    {
      "cell_type": "markdown",
      "source": [
        "Remoção do atributo irrelevante para descoberta de conhecimento \"Nutrient Data Bank Number\" e remoção do atributo \"Description\" que é uma lista de ingredientes (strings) -- análise considera apenas os nutrientes"
      ],
      "metadata": {
        "id": "zUTBpjNDAXzX"
      }
    },
    {
      "cell_type": "code",
      "source": [
        "raw_data = raw_data.drop(['Nutrient Data Bank Number'],axis=1)\n",
        "raw_data = raw_data.drop(['Description'],axis=1)"
      ],
      "metadata": {
        "id": "njwCFfkr-rEJ"
      },
      "execution_count": 11,
      "outputs": []
    },
    {
      "cell_type": "code",
      "source": [
        "raw_data.head()"
      ],
      "metadata": {
        "colab": {
          "base_uri": "https://localhost:8080/",
          "height": 334
        },
        "id": "IHuhoP0b-x8A",
        "outputId": "0865f354-06a7-46a9-c3da-af79706ed6c2"
      },
      "execution_count": 12,
      "outputs": [
        {
          "output_type": "execute_result",
          "data": {
            "text/plain": [
              "  Category  Data.Alpha Carotene  Data.Beta Carotene  Data.Beta Cryptoxanthin  \\\n",
              "0     Milk                    0                   7                        0   \n",
              "1     Milk                    0                   4                        0   \n",
              "2     Milk                    0                   7                        0   \n",
              "3     Milk                    0                   7                        0   \n",
              "4     Milk                    0                   7                        0   \n",
              "\n",
              "   Data.Carbohydrate  Data.Cholesterol  Data.Choline  Data.Fiber  \\\n",
              "0               6.89                14          16.0         0.0   \n",
              "1               4.87                 8          17.9         0.0   \n",
              "2               4.67                12          17.8         0.0   \n",
              "3               4.46                14          16.0         0.0   \n",
              "4               4.67                12          17.8         0.0   \n",
              "\n",
              "   Data.Lutein and Zeaxanthin  Data.Lycopene  ...  \\\n",
              "0                           0              0  ...   \n",
              "1                           0              0  ...   \n",
              "2                           0              0  ...   \n",
              "3                           0              0  ...   \n",
              "4                           0              0  ...   \n",
              "\n",
              "   Data.Major Minerals.Phosphorus  Data.Major Minerals.Potassium  \\\n",
              "0                              14                             51   \n",
              "1                             103                            157   \n",
              "2                             101                            150   \n",
              "3                              86                            253   \n",
              "4                             101                            150   \n",
              "\n",
              "   Data.Major Minerals.Sodium  Data.Major Minerals.Zinc  \\\n",
              "0                          17                      0.17   \n",
              "1                          39                      0.42   \n",
              "2                          38                      0.41   \n",
              "3                           3                      0.38   \n",
              "4                          38                      0.41   \n",
              "\n",
              "   Data.Vitamins.Vitamin A - RAE  Data.Vitamins.Vitamin B12  \\\n",
              "0                             61                       0.05   \n",
              "1                             59                       0.56   \n",
              "2                             32                       0.54   \n",
              "3                             29                       0.36   \n",
              "4                             32                       0.54   \n",
              "\n",
              "   Data.Vitamins.Vitamin B6  Data.Vitamins.Vitamin C  Data.Vitamins.Vitamin E  \\\n",
              "0                     0.011                      5.0                     0.08   \n",
              "1                     0.060                      0.1                     0.03   \n",
              "2                     0.061                      0.0                     0.05   \n",
              "3                     0.034                      0.9                     0.08   \n",
              "4                     0.061                      0.0                     0.05   \n",
              "\n",
              "   Data.Vitamins.Vitamin K  \n",
              "0                      0.3  \n",
              "1                      0.2  \n",
              "2                      0.3  \n",
              "3                      0.3  \n",
              "4                      0.3  \n",
              "\n",
              "[5 rows x 36 columns]"
            ],
            "text/html": [
              "\n",
              "  <div id=\"df-301818aa-cb11-4e83-b315-d5af5deebfd3\">\n",
              "    <div class=\"colab-df-container\">\n",
              "      <div>\n",
              "<style scoped>\n",
              "    .dataframe tbody tr th:only-of-type {\n",
              "        vertical-align: middle;\n",
              "    }\n",
              "\n",
              "    .dataframe tbody tr th {\n",
              "        vertical-align: top;\n",
              "    }\n",
              "\n",
              "    .dataframe thead th {\n",
              "        text-align: right;\n",
              "    }\n",
              "</style>\n",
              "<table border=\"1\" class=\"dataframe\">\n",
              "  <thead>\n",
              "    <tr style=\"text-align: right;\">\n",
              "      <th></th>\n",
              "      <th>Category</th>\n",
              "      <th>Data.Alpha Carotene</th>\n",
              "      <th>Data.Beta Carotene</th>\n",
              "      <th>Data.Beta Cryptoxanthin</th>\n",
              "      <th>Data.Carbohydrate</th>\n",
              "      <th>Data.Cholesterol</th>\n",
              "      <th>Data.Choline</th>\n",
              "      <th>Data.Fiber</th>\n",
              "      <th>Data.Lutein and Zeaxanthin</th>\n",
              "      <th>Data.Lycopene</th>\n",
              "      <th>...</th>\n",
              "      <th>Data.Major Minerals.Phosphorus</th>\n",
              "      <th>Data.Major Minerals.Potassium</th>\n",
              "      <th>Data.Major Minerals.Sodium</th>\n",
              "      <th>Data.Major Minerals.Zinc</th>\n",
              "      <th>Data.Vitamins.Vitamin A - RAE</th>\n",
              "      <th>Data.Vitamins.Vitamin B12</th>\n",
              "      <th>Data.Vitamins.Vitamin B6</th>\n",
              "      <th>Data.Vitamins.Vitamin C</th>\n",
              "      <th>Data.Vitamins.Vitamin E</th>\n",
              "      <th>Data.Vitamins.Vitamin K</th>\n",
              "    </tr>\n",
              "  </thead>\n",
              "  <tbody>\n",
              "    <tr>\n",
              "      <th>0</th>\n",
              "      <td>Milk</td>\n",
              "      <td>0</td>\n",
              "      <td>7</td>\n",
              "      <td>0</td>\n",
              "      <td>6.89</td>\n",
              "      <td>14</td>\n",
              "      <td>16.0</td>\n",
              "      <td>0.0</td>\n",
              "      <td>0</td>\n",
              "      <td>0</td>\n",
              "      <td>...</td>\n",
              "      <td>14</td>\n",
              "      <td>51</td>\n",
              "      <td>17</td>\n",
              "      <td>0.17</td>\n",
              "      <td>61</td>\n",
              "      <td>0.05</td>\n",
              "      <td>0.011</td>\n",
              "      <td>5.0</td>\n",
              "      <td>0.08</td>\n",
              "      <td>0.3</td>\n",
              "    </tr>\n",
              "    <tr>\n",
              "      <th>1</th>\n",
              "      <td>Milk</td>\n",
              "      <td>0</td>\n",
              "      <td>4</td>\n",
              "      <td>0</td>\n",
              "      <td>4.87</td>\n",
              "      <td>8</td>\n",
              "      <td>17.9</td>\n",
              "      <td>0.0</td>\n",
              "      <td>0</td>\n",
              "      <td>0</td>\n",
              "      <td>...</td>\n",
              "      <td>103</td>\n",
              "      <td>157</td>\n",
              "      <td>39</td>\n",
              "      <td>0.42</td>\n",
              "      <td>59</td>\n",
              "      <td>0.56</td>\n",
              "      <td>0.060</td>\n",
              "      <td>0.1</td>\n",
              "      <td>0.03</td>\n",
              "      <td>0.2</td>\n",
              "    </tr>\n",
              "    <tr>\n",
              "      <th>2</th>\n",
              "      <td>Milk</td>\n",
              "      <td>0</td>\n",
              "      <td>7</td>\n",
              "      <td>0</td>\n",
              "      <td>4.67</td>\n",
              "      <td>12</td>\n",
              "      <td>17.8</td>\n",
              "      <td>0.0</td>\n",
              "      <td>0</td>\n",
              "      <td>0</td>\n",
              "      <td>...</td>\n",
              "      <td>101</td>\n",
              "      <td>150</td>\n",
              "      <td>38</td>\n",
              "      <td>0.41</td>\n",
              "      <td>32</td>\n",
              "      <td>0.54</td>\n",
              "      <td>0.061</td>\n",
              "      <td>0.0</td>\n",
              "      <td>0.05</td>\n",
              "      <td>0.3</td>\n",
              "    </tr>\n",
              "    <tr>\n",
              "      <th>3</th>\n",
              "      <td>Milk</td>\n",
              "      <td>0</td>\n",
              "      <td>7</td>\n",
              "      <td>0</td>\n",
              "      <td>4.46</td>\n",
              "      <td>14</td>\n",
              "      <td>16.0</td>\n",
              "      <td>0.0</td>\n",
              "      <td>0</td>\n",
              "      <td>0</td>\n",
              "      <td>...</td>\n",
              "      <td>86</td>\n",
              "      <td>253</td>\n",
              "      <td>3</td>\n",
              "      <td>0.38</td>\n",
              "      <td>29</td>\n",
              "      <td>0.36</td>\n",
              "      <td>0.034</td>\n",
              "      <td>0.9</td>\n",
              "      <td>0.08</td>\n",
              "      <td>0.3</td>\n",
              "    </tr>\n",
              "    <tr>\n",
              "      <th>4</th>\n",
              "      <td>Milk</td>\n",
              "      <td>0</td>\n",
              "      <td>7</td>\n",
              "      <td>0</td>\n",
              "      <td>4.67</td>\n",
              "      <td>12</td>\n",
              "      <td>17.8</td>\n",
              "      <td>0.0</td>\n",
              "      <td>0</td>\n",
              "      <td>0</td>\n",
              "      <td>...</td>\n",
              "      <td>101</td>\n",
              "      <td>150</td>\n",
              "      <td>38</td>\n",
              "      <td>0.41</td>\n",
              "      <td>32</td>\n",
              "      <td>0.54</td>\n",
              "      <td>0.061</td>\n",
              "      <td>0.0</td>\n",
              "      <td>0.05</td>\n",
              "      <td>0.3</td>\n",
              "    </tr>\n",
              "  </tbody>\n",
              "</table>\n",
              "<p>5 rows × 36 columns</p>\n",
              "</div>\n",
              "      <button class=\"colab-df-convert\" onclick=\"convertToInteractive('df-301818aa-cb11-4e83-b315-d5af5deebfd3')\"\n",
              "              title=\"Convert this dataframe to an interactive table.\"\n",
              "              style=\"display:none;\">\n",
              "        \n",
              "  <svg xmlns=\"http://www.w3.org/2000/svg\" height=\"24px\"viewBox=\"0 0 24 24\"\n",
              "       width=\"24px\">\n",
              "    <path d=\"M0 0h24v24H0V0z\" fill=\"none\"/>\n",
              "    <path d=\"M18.56 5.44l.94 2.06.94-2.06 2.06-.94-2.06-.94-.94-2.06-.94 2.06-2.06.94zm-11 1L8.5 8.5l.94-2.06 2.06-.94-2.06-.94L8.5 2.5l-.94 2.06-2.06.94zm10 10l.94 2.06.94-2.06 2.06-.94-2.06-.94-.94-2.06-.94 2.06-2.06.94z\"/><path d=\"M17.41 7.96l-1.37-1.37c-.4-.4-.92-.59-1.43-.59-.52 0-1.04.2-1.43.59L10.3 9.45l-7.72 7.72c-.78.78-.78 2.05 0 2.83L4 21.41c.39.39.9.59 1.41.59.51 0 1.02-.2 1.41-.59l7.78-7.78 2.81-2.81c.8-.78.8-2.07 0-2.86zM5.41 20L4 18.59l7.72-7.72 1.47 1.35L5.41 20z\"/>\n",
              "  </svg>\n",
              "      </button>\n",
              "      \n",
              "  <style>\n",
              "    .colab-df-container {\n",
              "      display:flex;\n",
              "      flex-wrap:wrap;\n",
              "      gap: 12px;\n",
              "    }\n",
              "\n",
              "    .colab-df-convert {\n",
              "      background-color: #E8F0FE;\n",
              "      border: none;\n",
              "      border-radius: 50%;\n",
              "      cursor: pointer;\n",
              "      display: none;\n",
              "      fill: #1967D2;\n",
              "      height: 32px;\n",
              "      padding: 0 0 0 0;\n",
              "      width: 32px;\n",
              "    }\n",
              "\n",
              "    .colab-df-convert:hover {\n",
              "      background-color: #E2EBFA;\n",
              "      box-shadow: 0px 1px 2px rgba(60, 64, 67, 0.3), 0px 1px 3px 1px rgba(60, 64, 67, 0.15);\n",
              "      fill: #174EA6;\n",
              "    }\n",
              "\n",
              "    [theme=dark] .colab-df-convert {\n",
              "      background-color: #3B4455;\n",
              "      fill: #D2E3FC;\n",
              "    }\n",
              "\n",
              "    [theme=dark] .colab-df-convert:hover {\n",
              "      background-color: #434B5C;\n",
              "      box-shadow: 0px 1px 3px 1px rgba(0, 0, 0, 0.15);\n",
              "      filter: drop-shadow(0px 1px 2px rgba(0, 0, 0, 0.3));\n",
              "      fill: #FFFFFF;\n",
              "    }\n",
              "  </style>\n",
              "\n",
              "      <script>\n",
              "        const buttonEl =\n",
              "          document.querySelector('#df-301818aa-cb11-4e83-b315-d5af5deebfd3 button.colab-df-convert');\n",
              "        buttonEl.style.display =\n",
              "          google.colab.kernel.accessAllowed ? 'block' : 'none';\n",
              "\n",
              "        async function convertToInteractive(key) {\n",
              "          const element = document.querySelector('#df-301818aa-cb11-4e83-b315-d5af5deebfd3');\n",
              "          const dataTable =\n",
              "            await google.colab.kernel.invokeFunction('convertToInteractive',\n",
              "                                                     [key], {});\n",
              "          if (!dataTable) return;\n",
              "\n",
              "          const docLinkHtml = 'Like what you see? Visit the ' +\n",
              "            '<a target=\"_blank\" href=https://colab.research.google.com/notebooks/data_table.ipynb>data table notebook</a>'\n",
              "            + ' to learn more about interactive tables.';\n",
              "          element.innerHTML = '';\n",
              "          dataTable['output_type'] = 'display_data';\n",
              "          await google.colab.output.renderOutput(dataTable, element);\n",
              "          const docLink = document.createElement('div');\n",
              "          docLink.innerHTML = docLinkHtml;\n",
              "          element.appendChild(docLink);\n",
              "        }\n",
              "      </script>\n",
              "    </div>\n",
              "  </div>\n",
              "  "
            ]
          },
          "metadata": {},
          "execution_count": 12
        }
      ]
    },
    {
      "cell_type": "markdown",
      "source": [
        "Filtragem\n",
        "\n",
        "Vamos analisa somente os produtos cujas categorias indiquem a presença de leite\n",
        "\n"
      ],
      "metadata": {
        "id": "bkdla5yrCGnh"
      }
    },
    {
      "cell_type": "code",
      "source": [
        "flag_milk = []\n",
        "for label in raw_data['Category']:\n",
        "    if \"milk\" in label or \"Milk\" in label:\n",
        "        flag_milk.append(True)\n",
        "    else:\n",
        "        flag_milk.append(False)"
      ],
      "metadata": {
        "id": "BnUIKdXJCOBG"
      },
      "execution_count": 13,
      "outputs": []
    },
    {
      "cell_type": "code",
      "source": [
        "df_milk = raw_data[flag_milk]"
      ],
      "metadata": {
        "id": "Me9sBvgtC-qE"
      },
      "execution_count": 14,
      "outputs": []
    },
    {
      "cell_type": "code",
      "source": [
        "print(f'Number of Data instances: {df_milk.shape[0]}')\n",
        "print(f'Number of Data Attributes: {df_milk.shape[1]}')"
      ],
      "metadata": {
        "colab": {
          "base_uri": "https://localhost:8080/"
        },
        "id": "syAPdxzqDQEQ",
        "outputId": "54f95e42-09c2-400a-b82b-fc59d8d9c997"
      },
      "execution_count": 15,
      "outputs": [
        {
          "output_type": "stream",
          "name": "stdout",
          "text": [
            "Number of Data instances: 129\n",
            "Number of Data Attributes: 36\n"
          ]
        }
      ]
    },
    {
      "cell_type": "markdown",
      "metadata": {
        "id": "BHXs5q7qNPGJ"
      },
      "source": [
        "Pré-processamento\n"
      ]
    },
    {
      "cell_type": "code",
      "source": [
        "labels = df_milk['Category'].values\n",
        "df_milk = df_milk.drop(['Category'],axis=1)\n",
        "X = df_milk.values"
      ],
      "metadata": {
        "id": "qKN-dSxj_Mj_"
      },
      "execution_count": 16,
      "outputs": []
    },
    {
      "cell_type": "markdown",
      "source": [
        "Normalização dos atributos para o intervalo [0,1]"
      ],
      "metadata": {
        "id": "n_hZY6JN_UCO"
      }
    },
    {
      "cell_type": "code",
      "source": [
        "normalize = preprocessing.MinMaxScaler()\n",
        "xscaled = normalize.fit_transform(X)"
      ],
      "metadata": {
        "id": "JH6bPcbv_UH7"
      },
      "execution_count": 17,
      "outputs": []
    },
    {
      "cell_type": "code",
      "source": [
        "xscaled"
      ],
      "metadata": {
        "colab": {
          "base_uri": "https://localhost:8080/"
        },
        "id": "lfK3KM08_hgJ",
        "outputId": "4c5028e6-c52a-4d8f-dbd0-997e415a4d4a"
      },
      "execution_count": 18,
      "outputs": [
        {
          "output_type": "execute_result",
          "data": {
            "text/plain": [
              "array([[0.        , 0.12727273, 0.        , ..., 0.09174312, 0.00651997,\n",
              "        0.05263158],\n",
              "       [0.        , 0.07272727, 0.        , ..., 0.00183486, 0.00244499,\n",
              "        0.03508772],\n",
              "       [0.        , 0.12727273, 0.        , ..., 0.        , 0.00407498,\n",
              "        0.05263158],\n",
              "       ...,\n",
              "       [0.        , 0.05454545, 0.        , ..., 0.        , 0.00244499,\n",
              "        0.03508772],\n",
              "       [0.        , 0.05454545, 0.        , ..., 0.        , 0.00325998,\n",
              "        0.03508772],\n",
              "       [0.        , 0.        , 0.        , ..., 0.55045872, 0.57620212,\n",
              "        0.0877193 ]])"
            ]
          },
          "metadata": {},
          "execution_count": 18
        }
      ]
    },
    {
      "cell_type": "markdown",
      "metadata": {
        "id": "mdjazECBcxcL"
      },
      "source": [
        "## Visualização baseada no posicionamento de pontos utilizando Análise de Componentes Principais"
      ]
    },
    {
      "cell_type": "markdown",
      "metadata": {
        "id": "ajFOI7RgeKuc"
      },
      "source": [
        "Reduz a dimensionalidade dos dados"
      ]
    },
    {
      "cell_type": "code",
      "metadata": {
        "id": "iTMyFYxUeJvl",
        "colab": {
          "base_uri": "https://localhost:8080/",
          "height": 542
        },
        "outputId": "f651ab7c-9ed5-47f5-a283-1bdcb797d644"
      },
      "source": [
        "if not os.path.exists(\"imgs\"):\n",
        "    os.mkdir(\"imgs\")\n",
        "\n",
        "sklearn_pca = sklearnPCA(n_components=2)\n",
        "X_pca = sklearn_pca.fit_transform(xscaled)\n",
        "\n",
        "fig = px.scatter(\n",
        "    X_pca, \n",
        "    x=0, \n",
        "    y=1, \n",
        "    color=labels.astype(object), \n",
        "    template=\"simple_white\",\n",
        "    labels={ \n",
        "      \"color\": \"Classification (Label)\"\n",
        "    },\n",
        "    color_discrete_sequence= px.colors.qualitative.Plotly + px.colors.qualitative.Bold,\n",
        "    width=800)\n",
        "\n",
        "fig.update_layout(xaxis={'visible': False},\n",
        "                  yaxis={'visible': False},\n",
        "                  margin=dict(l=0,r=0,b=0,t=0))\n",
        "\n",
        "fig.show()\n",
        "fig.write_image('imgs/PCA_USDA.eps', format='eps')"
      ],
      "execution_count": 42,
      "outputs": [
        {
          "output_type": "display_data",
          "data": {
            "text/html": [
              "<html>\n",
              "<head><meta charset=\"utf-8\" /></head>\n",
              "<body>\n",
              "    <div>            <script src=\"https://cdnjs.cloudflare.com/ajax/libs/mathjax/2.7.5/MathJax.js?config=TeX-AMS-MML_SVG\"></script><script type=\"text/javascript\">if (window.MathJax) {MathJax.Hub.Config({SVG: {font: \"STIX-Web\"}});}</script>                <script type=\"text/javascript\">window.PlotlyConfig = {MathJaxConfig: 'local'};</script>\n",
              "        <script src=\"https://cdn.plot.ly/plotly-latest.min.js\"></script>                <div id=\"327b94d0-1d73-46ed-a8f5-b9e85f42b898\" class=\"plotly-graph-div\" style=\"height:525px; width:800px;\"></div>            <script type=\"text/javascript\">                                    window.PLOTLYENV=window.PLOTLYENV || {};                                    if (document.getElementById(\"327b94d0-1d73-46ed-a8f5-b9e85f42b898\")) {                    Plotly.newPlot(                        \"327b94d0-1d73-46ed-a8f5-b9e85f42b898\",                        [{\"hovertemplate\": \"Classification (Label)=Milk<br>0=%{x}<br>1=%{y}<extra></extra>\", \"legendgroup\": \"Milk\", \"marker\": {\"color\": \"#636EFA\", \"symbol\": \"circle\"}, \"mode\": \"markers\", \"name\": \"Milk\", \"orientation\": \"v\", \"showlegend\": true, \"type\": \"scatter\", \"x\": [-0.30912251771516147, -0.28024199158842883, -0.26076088324209123, -0.2861748324145119, -0.2607608832420924, -0.29956937684307183, -0.30410124670584743, -0.27776992606349193, -0.2995693768430717, -0.2777699260634924, -0.29956937684307183, -0.31854421170339825, -0.2995693768430717, -0.31854421170339825, -0.2777699260634921, -0.26076088324209157, -0.34701388790551, -0.18138682035157042, -0.32353192064978803, -0.3574207227322203, 0.08019842609840236, 0.08019842609840236, -0.030678702020733292, -0.07096849424397002, 0.8033889628615538, -0.18396059951297555, 2.2469632163312063, 2.144283770186978, 2.245848734899687, 2.2469632163312068, 1.936834543723573], \"xaxis\": \"x\", \"y\": [0.12732387400476064, -0.06625295482347822, -0.0204748674954147, 0.02167680127687457, -0.02047486749541463, -0.10093131844327487, -0.15337105539772927, -0.07360714772306577, -0.100931318443275, -0.07360714772306522, -0.10093131844327505, -0.13430556514049882, -0.10093131844327509, -0.1343055651404989, -0.07360714772306559, -0.02047486749541488, -0.11877647820699026, -0.016162031331650967, -0.08628659444319436, -0.10678793180145729, 0.021751874463367713, 0.02175187446336778, -0.1716703859663921, -0.23479797201395808, 0.04873826894189681, -0.08675678866490105, -1.4544803561350457, -0.15517304595802656, -1.4076075185390022, -1.454480356135045, -0.5593139941780891], \"yaxis\": \"y\"}, {\"hovertemplate\": \"Classification (Label)=Buttermilk<br>0=%{x}<br>1=%{y}<extra></extra>\", \"legendgroup\": \"Buttermilk\", \"marker\": {\"color\": \"#EF553B\", \"symbol\": \"circle\"}, \"mode\": \"markers\", \"name\": \"Buttermilk\", \"orientation\": \"v\", \"showlegend\": true, \"type\": \"scatter\", \"x\": [-0.28927770574541406, -0.2892777057454143, -0.24745352277417218, -0.2252588958082072], \"xaxis\": \"x\", \"y\": [-0.11579931465269226, -0.11579931465269237, -0.08830092775712359, -0.04077326665475172], \"yaxis\": \"y\"}, {\"hovertemplate\": \"Classification (Label)=Goat's milk<br>0=%{x}<br>1=%{y}<extra></extra>\", \"legendgroup\": \"Goat's milk\", \"marker\": {\"color\": \"#00CC96\", \"symbol\": \"circle\"}, \"mode\": \"markers\", \"name\": \"Goat's milk\", \"orientation\": \"v\", \"showlegend\": true, \"type\": \"scatter\", \"x\": [-0.24432251412184883], \"xaxis\": \"x\", \"y\": [0.016826220429304147], \"yaxis\": \"y\"}, {\"hovertemplate\": \"Classification (Label)=Non-dairy milk<br>0=%{x}<br>1=%{y}<extra></extra>\", \"legendgroup\": \"Non-dairy milk\", \"marker\": {\"color\": \"#AB63FA\", \"symbol\": \"circle\"}, \"mode\": \"markers\", \"name\": \"Non-dairy milk\", \"orientation\": \"v\", \"showlegend\": true, \"type\": \"scatter\", \"x\": [-0.34913887044991826], \"xaxis\": \"x\", \"y\": [0.026597391920007964], \"yaxis\": \"y\"}, {\"hovertemplate\": \"Classification (Label)=Soy milk<br>0=%{x}<br>1=%{y}<extra></extra>\", \"legendgroup\": \"Soy milk\", \"marker\": {\"color\": \"#FFA15A\", \"symbol\": \"circle\"}, \"mode\": \"markers\", \"name\": \"Soy milk\", \"orientation\": \"v\", \"showlegend\": true, \"type\": \"scatter\", \"x\": [-0.18330642192308214, -0.259448938219834, -0.2951417437238432, -0.09571198489986171, -0.12516165415085623, -0.12516165415085623], \"xaxis\": \"x\", \"y\": [0.14100918493817854, 0.0021551141616008604, 0.046231577176594735, 0.1387356577217172, 0.14558656628836356, 0.14558656628836356], \"yaxis\": \"y\"}, {\"hovertemplate\": \"Classification (Label)=Almond milk<br>0=%{x}<br>1=%{y}<extra></extra>\", \"legendgroup\": \"Almond milk\", \"marker\": {\"color\": \"#19D3F3\", \"symbol\": \"circle\"}, \"mode\": \"markers\", \"name\": \"Almond milk\", \"orientation\": \"v\", \"showlegend\": true, \"type\": \"scatter\", \"x\": [-0.40005032291085624, -0.3652298054757358, -0.4367329722757579, -0.42997082309628987], \"xaxis\": \"x\", \"y\": [-0.015954430783510283, -0.00022227846426524936, -0.032283210472933324, -0.02825978060716237], \"yaxis\": \"y\"}, {\"hovertemplate\": \"Classification (Label)=Rice milk<br>0=%{x}<br>1=%{y}<extra></extra>\", \"legendgroup\": \"Rice milk\", \"marker\": {\"color\": \"#FF6692\", \"symbol\": \"circle\"}, \"mode\": \"markers\", \"name\": \"Rice milk\", \"orientation\": \"v\", \"showlegend\": true, \"type\": \"scatter\", \"x\": [-0.32650386342739496], \"xaxis\": \"x\", \"y\": [-0.015133955213630132], \"yaxis\": \"y\"}, {\"hovertemplate\": \"Classification (Label)=Coconut milk<br>0=%{x}<br>1=%{y}<extra></extra>\", \"legendgroup\": \"Coconut milk\", \"marker\": {\"color\": \"#B6E880\", \"symbol\": \"circle\"}, \"mode\": \"markers\", \"name\": \"Coconut milk\", \"orientation\": \"v\", \"showlegend\": true, \"type\": \"scatter\", \"x\": [-0.4485945598425908, 0.08135292179607523], \"xaxis\": \"x\", \"y\": [-0.005924735911349454, 0.6275969373980481], \"yaxis\": \"y\"}, {\"hovertemplate\": \"Classification (Label)=Chocolate milk<br>0=%{x}<br>1=%{y}<extra></extra>\", \"legendgroup\": \"Chocolate milk\", \"marker\": {\"color\": \"#FF97FF\", \"symbol\": \"circle\"}, \"mode\": \"markers\", \"name\": \"Chocolate milk\", \"orientation\": \"v\", \"showlegend\": true, \"type\": \"scatter\", \"x\": [-0.23051368776728273, -0.17694502044588512, -0.18326931195078133, -0.23051368776728273, -0.23497025612297393, -0.26507885224230004, -0.23497025612297393, -0.23051368776728273, -0.23497025612297393, -0.2023783786904348, -0.18509537356964198, -0.20006142098827198, -0.22128744582703186, -0.2364345391200169, -0.21110176385737628, -0.15991973460171832, -0.1418432544220597, -0.1577662737613457, -0.1789625129469721, -0.19642628360982908, -0.17220809924323177, -0.2023783786904348, -0.18509537356964198, -0.20006142098827198, -0.22128744582703186, -0.2364345391200169, -0.21110176385737628, -0.15991973460171832, -0.1418432544220597, -0.1577662737613457, -0.1789625129469721, -0.19642628360982908, -0.17220809924323177, -0.20958619071055415, -0.19304703925897004, -0.20665928513466914, -0.22712355061324002, -0.24350769715917722, -0.22045793260289268, -0.25698871455235983, -0.24022630487759644, -0.2543568447628141, -0.27428175077449896, -0.29069801863256267, -0.26761003529597616, -0.23487942581534396, -0.21776420051099513, -0.23235386980625172, -0.2524193595415165, -0.26824920427427296, -0.24446567215053738], \"xaxis\": \"x\", \"y\": [-0.10508156084533526, 0.039011448046461124, -0.029681569716599375, -0.10508156084533526, -0.07816563352524636, -0.094620561897037, -0.07816563352524636, -0.10508156084533526, -0.07816563352524636, -0.045188825899576596, -0.0019738263517054444, -0.05222185703743594, -0.07787229493281239, -0.1031917370522274, 0.08090193671887218, -0.0881395356062045, -0.04425242467638693, -0.09517841853940565, -0.12147406442599315, -0.15401851595978786, 0.03244901237341666, -0.045188825899576596, -0.0019738263517054444, -0.05222185703743594, -0.07787229493281239, -0.1031917370522274, 0.08090193671887218, -0.0881395356062045, -0.04425242467638693, -0.09517841853940565, -0.12147406442599315, -0.15401851595978786, 0.03244901237341666, -0.0354478286646115, 0.00512915645732031, -0.04239587625313343, -0.06640389492164407, -0.09592809299310541, 0.07564252447678643, -0.04884479859393741, -0.008064633451797318, -0.05572190574580781, -0.08037339871601616, -0.1101196942489435, 0.062363327921609375, -0.005853167893786936, 0.034704275997729156, -0.012551994192506724, -0.03728691884024043, -0.06753307629727741, 0.10813267907935441], \"yaxis\": \"y\"}, {\"hovertemplate\": \"Classification (Label)=Strawberry milk<br>0=%{x}<br>1=%{y}<extra></extra>\", \"legendgroup\": \"Strawberry milk\", \"marker\": {\"color\": \"#FECB52\", \"symbol\": \"circle\"}, \"mode\": \"markers\", \"name\": \"Strawberry milk\", \"orientation\": \"v\", \"showlegend\": true, \"type\": \"scatter\", \"x\": [-0.27352079319356404, -0.20305029768441982, -0.22938524740900168, -0.23872402411827198, -0.2560500595912763, -0.2832749972635967, -0.23101006592134357], \"xaxis\": \"x\", \"y\": [-0.07182086104724036, 0.00759664418331785, -0.047863595099534105, -0.06783213153632207, -0.09917152074411552, -0.09179649394831393, 0.0839857394177428], \"yaxis\": \"y\"}, {\"hovertemplate\": \"Classification (Label)=Milk shake<br>0=%{x}<br>1=%{y}<extra></extra>\", \"legendgroup\": \"Milk shake\", \"marker\": {\"color\": \"rgb(127, 60, 141)\", \"symbol\": \"circle\"}, \"mode\": \"markers\", \"name\": \"Milk shake\", \"orientation\": \"v\", \"showlegend\": true, \"type\": \"scatter\", \"x\": [-0.06195190991250152, -0.09669309320873135, -0.11980176666978791, -0.14630068176136063, 0.1401767772810776, 0.08477857623507394, 0.1401767772810776, 0.08477857623507394], \"xaxis\": \"x\", \"y\": [0.09613563997834519, 0.06982306565937478, -0.00037544551854255625, -0.045522189178173994, 0.16058982222207283, 0.08226826296909288, 0.16058982222207283, 0.08226826296909288], \"yaxis\": \"y\"}, {\"hovertemplate\": \"Classification (Label)=Milk shake with malt<br>0=%{x}<br>1=%{y}<extra></extra>\", \"legendgroup\": \"Milk shake with malt\", \"marker\": {\"color\": \"rgb(17, 165, 121)\", \"symbol\": \"circle\"}, \"mode\": \"markers\", \"name\": \"Milk shake with malt\", \"orientation\": \"v\", \"showlegend\": true, \"type\": \"scatter\", \"x\": [-0.03693620971609209], \"xaxis\": \"x\", \"y\": [0.07482134127520815], \"yaxis\": \"y\"}, {\"hovertemplate\": \"Classification (Label)=Chocolate milk drink<br>0=%{x}<br>1=%{y}<extra></extra>\", \"legendgroup\": \"Chocolate milk drink\", \"marker\": {\"color\": \"rgb(57, 105, 172)\", \"symbol\": \"circle\"}, \"mode\": \"markers\", \"name\": \"Chocolate milk drink\", \"orientation\": \"v\", \"showlegend\": true, \"type\": \"scatter\", \"x\": [-0.33366317156929964], \"xaxis\": \"x\", \"y\": [0.03976283891719901], \"yaxis\": \"y\"}, {\"hovertemplate\": \"Classification (Label)=Milk dessert or milk candy<br>0=%{x}<br>1=%{y}<extra></extra>\", \"legendgroup\": \"Milk dessert or milk candy\", \"marker\": {\"color\": \"rgb(242, 183, 1)\", \"symbol\": \"circle\"}, \"mode\": \"markers\", \"name\": \"Milk dessert or milk candy\", \"orientation\": \"v\", \"showlegend\": true, \"type\": \"scatter\", \"x\": [0.6673478739739521], \"xaxis\": \"x\", \"y\": [0.14627122348284427], \"yaxis\": \"y\"}, {\"hovertemplate\": \"Classification (Label)=Milk 'n Cereal bar<br>0=%{x}<br>1=%{y}<extra></extra>\", \"legendgroup\": \"Milk 'n Cereal bar\", \"marker\": {\"color\": \"rgb(231, 63, 116)\", \"symbol\": \"circle\"}, \"mode\": \"markers\", \"name\": \"Milk 'n Cereal bar\", \"orientation\": \"v\", \"showlegend\": true, \"type\": \"scatter\", \"x\": [1.2439119485976886], \"xaxis\": \"x\", \"y\": [0.09038645750763931], \"yaxis\": \"y\"}, {\"hovertemplate\": \"Classification (Label)=Nutrition bar (Tiger's Milk)<br>0=%{x}<br>1=%{y}<extra></extra>\", \"legendgroup\": \"Nutrition bar (Tiger's Milk)\", \"marker\": {\"color\": \"rgb(128, 186, 90)\", \"symbol\": \"circle\"}, \"mode\": \"markers\", \"name\": \"Nutrition bar (Tiger's Milk)\", \"orientation\": \"v\", \"showlegend\": true, \"type\": \"scatter\", \"x\": [1.8659536504554608], \"xaxis\": \"x\", \"y\": [0.39581549023540197], \"yaxis\": \"y\"}, {\"hovertemplate\": \"Classification (Label)=Milk chocolate candy<br>0=%{x}<br>1=%{y}<extra></extra>\", \"legendgroup\": \"Milk chocolate candy\", \"marker\": {\"color\": \"rgb(230, 131, 16)\", \"symbol\": \"circle\"}, \"mode\": \"markers\", \"name\": \"Milk chocolate candy\", \"orientation\": \"v\", \"showlegend\": true, \"type\": \"scatter\", \"x\": [1.4146361142385078, 1.4118091048640786, 1.233781462984502, 1.5949529725734322], \"xaxis\": \"x\", \"y\": [1.5562450412027324, 1.4986863545080147, 1.3485055188806072, 1.786755909411732], \"yaxis\": \"y\"}, {\"hovertemplate\": \"Classification (Label)=M&M's Milk Chocolate Candies<br>0=%{x}<br>1=%{y}<extra></extra>\", \"legendgroup\": \"M&M's Milk Chocolate Candies\", \"marker\": {\"color\": \"rgb(0, 134, 149)\", \"symbol\": \"circle\"}, \"mode\": \"markers\", \"name\": \"M&M's Milk Chocolate Candies\", \"orientation\": \"v\", \"showlegend\": true, \"type\": \"scatter\", \"x\": [1.0451495808107127], \"xaxis\": \"x\", \"y\": [1.003497715712254], \"yaxis\": \"y\"}, {\"hovertemplate\": \"Classification (Label)=Oatmeal beverage with milk<br>0=%{x}<br>1=%{y}<extra></extra>\", \"legendgroup\": \"Oatmeal beverage with milk\", \"marker\": {\"color\": \"rgb(207, 28, 144)\", \"symbol\": \"circle\"}, \"mode\": \"markers\", \"name\": \"Oatmeal beverage with milk\", \"orientation\": \"v\", \"showlegend\": true, \"type\": \"scatter\", \"x\": [-0.22497579748037783], \"xaxis\": \"x\", \"y\": [0.266233977952283], \"yaxis\": \"y\"}, {\"hovertemplate\": \"Classification (Label)=Cornmeal beverage with chocolate milk<br>0=%{x}<br>1=%{y}<extra></extra>\", \"legendgroup\": \"Cornmeal beverage with chocolate milk\", \"marker\": {\"color\": \"rgb(249, 123, 114)\", \"symbol\": \"circle\"}, \"mode\": \"markers\", \"name\": \"Cornmeal beverage with chocolate milk\", \"orientation\": \"v\", \"showlegend\": true, \"type\": \"scatter\", \"x\": [-0.18010843474197963], \"xaxis\": \"x\", \"y\": [0.1485518419106986], \"yaxis\": \"y\"}, {\"hovertemplate\": \"Classification (Label)=Nutritional powder mix (Muscle Milk)<br>0=%{x}<br>1=%{y}<extra></extra>\", \"legendgroup\": \"Nutritional powder mix (Muscle Milk)\", \"marker\": {\"color\": \"rgb(165, 170, 153)\", \"symbol\": \"circle\"}, \"mode\": \"markers\", \"name\": \"Nutritional powder mix (Muscle Milk)\", \"orientation\": \"v\", \"showlegend\": true, \"type\": \"scatter\", \"x\": [2.266655243722185], \"xaxis\": \"x\", \"y\": [-0.3651188282059009], \"yaxis\": \"y\"}],                        {\"legend\": {\"title\": {\"text\": \"Classification (Label)\"}, \"tracegroupgap\": 0}, \"margin\": {\"b\": 0, \"l\": 0, \"r\": 0, \"t\": 0}, \"template\": {\"data\": {\"bar\": [{\"error_x\": {\"color\": \"rgb(36,36,36)\"}, \"error_y\": {\"color\": \"rgb(36,36,36)\"}, \"marker\": {\"line\": {\"color\": \"white\", \"width\": 0.5}}, \"type\": \"bar\"}], \"barpolar\": [{\"marker\": {\"line\": {\"color\": \"white\", \"width\": 0.5}}, \"type\": \"barpolar\"}], \"carpet\": [{\"aaxis\": {\"endlinecolor\": \"rgb(36,36,36)\", \"gridcolor\": \"white\", \"linecolor\": \"white\", \"minorgridcolor\": \"white\", \"startlinecolor\": \"rgb(36,36,36)\"}, \"baxis\": {\"endlinecolor\": \"rgb(36,36,36)\", \"gridcolor\": \"white\", \"linecolor\": \"white\", \"minorgridcolor\": \"white\", \"startlinecolor\": \"rgb(36,36,36)\"}, \"type\": \"carpet\"}], \"choropleth\": [{\"colorbar\": {\"outlinewidth\": 1, \"tickcolor\": \"rgb(36,36,36)\", \"ticks\": \"outside\"}, \"type\": \"choropleth\"}], \"contour\": [{\"colorbar\": {\"outlinewidth\": 1, \"tickcolor\": \"rgb(36,36,36)\", \"ticks\": \"outside\"}, \"colorscale\": [[0.0, \"#440154\"], [0.1111111111111111, \"#482878\"], [0.2222222222222222, \"#3e4989\"], [0.3333333333333333, \"#31688e\"], [0.4444444444444444, \"#26828e\"], [0.5555555555555556, \"#1f9e89\"], [0.6666666666666666, \"#35b779\"], [0.7777777777777778, \"#6ece58\"], [0.8888888888888888, \"#b5de2b\"], [1.0, \"#fde725\"]], \"type\": \"contour\"}], \"contourcarpet\": [{\"colorbar\": {\"outlinewidth\": 1, \"tickcolor\": \"rgb(36,36,36)\", \"ticks\": \"outside\"}, \"type\": \"contourcarpet\"}], \"heatmap\": [{\"colorbar\": {\"outlinewidth\": 1, \"tickcolor\": \"rgb(36,36,36)\", \"ticks\": \"outside\"}, \"colorscale\": [[0.0, \"#440154\"], [0.1111111111111111, \"#482878\"], [0.2222222222222222, \"#3e4989\"], [0.3333333333333333, \"#31688e\"], [0.4444444444444444, \"#26828e\"], [0.5555555555555556, \"#1f9e89\"], [0.6666666666666666, \"#35b779\"], [0.7777777777777778, \"#6ece58\"], [0.8888888888888888, \"#b5de2b\"], [1.0, \"#fde725\"]], \"type\": \"heatmap\"}], \"heatmapgl\": [{\"colorbar\": {\"outlinewidth\": 1, \"tickcolor\": \"rgb(36,36,36)\", \"ticks\": \"outside\"}, \"colorscale\": [[0.0, \"#440154\"], [0.1111111111111111, \"#482878\"], [0.2222222222222222, \"#3e4989\"], [0.3333333333333333, \"#31688e\"], [0.4444444444444444, \"#26828e\"], [0.5555555555555556, \"#1f9e89\"], [0.6666666666666666, \"#35b779\"], [0.7777777777777778, \"#6ece58\"], [0.8888888888888888, \"#b5de2b\"], [1.0, \"#fde725\"]], \"type\": \"heatmapgl\"}], \"histogram\": [{\"marker\": {\"line\": {\"color\": \"white\", \"width\": 0.6}}, \"type\": \"histogram\"}], \"histogram2d\": [{\"colorbar\": {\"outlinewidth\": 1, \"tickcolor\": \"rgb(36,36,36)\", \"ticks\": \"outside\"}, \"colorscale\": [[0.0, \"#440154\"], [0.1111111111111111, \"#482878\"], [0.2222222222222222, \"#3e4989\"], [0.3333333333333333, \"#31688e\"], [0.4444444444444444, \"#26828e\"], [0.5555555555555556, \"#1f9e89\"], [0.6666666666666666, \"#35b779\"], [0.7777777777777778, \"#6ece58\"], [0.8888888888888888, \"#b5de2b\"], [1.0, \"#fde725\"]], \"type\": \"histogram2d\"}], \"histogram2dcontour\": [{\"colorbar\": {\"outlinewidth\": 1, \"tickcolor\": \"rgb(36,36,36)\", \"ticks\": \"outside\"}, \"colorscale\": [[0.0, \"#440154\"], [0.1111111111111111, \"#482878\"], [0.2222222222222222, \"#3e4989\"], [0.3333333333333333, \"#31688e\"], [0.4444444444444444, \"#26828e\"], [0.5555555555555556, \"#1f9e89\"], [0.6666666666666666, \"#35b779\"], [0.7777777777777778, \"#6ece58\"], [0.8888888888888888, \"#b5de2b\"], [1.0, \"#fde725\"]], \"type\": \"histogram2dcontour\"}], \"mesh3d\": [{\"colorbar\": {\"outlinewidth\": 1, \"tickcolor\": \"rgb(36,36,36)\", \"ticks\": \"outside\"}, \"type\": \"mesh3d\"}], \"parcoords\": [{\"line\": {\"colorbar\": {\"outlinewidth\": 1, \"tickcolor\": \"rgb(36,36,36)\", \"ticks\": \"outside\"}}, \"type\": \"parcoords\"}], \"pie\": [{\"automargin\": true, \"type\": \"pie\"}], \"scatter\": [{\"marker\": {\"colorbar\": {\"outlinewidth\": 1, \"tickcolor\": \"rgb(36,36,36)\", \"ticks\": \"outside\"}}, \"type\": \"scatter\"}], \"scatter3d\": [{\"line\": {\"colorbar\": {\"outlinewidth\": 1, \"tickcolor\": \"rgb(36,36,36)\", \"ticks\": \"outside\"}}, \"marker\": {\"colorbar\": {\"outlinewidth\": 1, \"tickcolor\": \"rgb(36,36,36)\", \"ticks\": \"outside\"}}, \"type\": \"scatter3d\"}], \"scattercarpet\": [{\"marker\": {\"colorbar\": {\"outlinewidth\": 1, \"tickcolor\": \"rgb(36,36,36)\", \"ticks\": \"outside\"}}, \"type\": \"scattercarpet\"}], \"scattergeo\": [{\"marker\": {\"colorbar\": {\"outlinewidth\": 1, \"tickcolor\": \"rgb(36,36,36)\", \"ticks\": \"outside\"}}, \"type\": \"scattergeo\"}], \"scattergl\": [{\"marker\": {\"colorbar\": {\"outlinewidth\": 1, \"tickcolor\": \"rgb(36,36,36)\", \"ticks\": \"outside\"}}, \"type\": \"scattergl\"}], \"scattermapbox\": [{\"marker\": {\"colorbar\": {\"outlinewidth\": 1, \"tickcolor\": \"rgb(36,36,36)\", \"ticks\": \"outside\"}}, \"type\": \"scattermapbox\"}], \"scatterpolar\": [{\"marker\": {\"colorbar\": {\"outlinewidth\": 1, \"tickcolor\": \"rgb(36,36,36)\", \"ticks\": \"outside\"}}, \"type\": \"scatterpolar\"}], \"scatterpolargl\": [{\"marker\": {\"colorbar\": {\"outlinewidth\": 1, \"tickcolor\": \"rgb(36,36,36)\", \"ticks\": \"outside\"}}, \"type\": \"scatterpolargl\"}], \"scatterternary\": [{\"marker\": {\"colorbar\": {\"outlinewidth\": 1, \"tickcolor\": \"rgb(36,36,36)\", \"ticks\": \"outside\"}}, \"type\": \"scatterternary\"}], \"surface\": [{\"colorbar\": {\"outlinewidth\": 1, \"tickcolor\": \"rgb(36,36,36)\", \"ticks\": \"outside\"}, \"colorscale\": [[0.0, \"#440154\"], [0.1111111111111111, \"#482878\"], [0.2222222222222222, \"#3e4989\"], [0.3333333333333333, \"#31688e\"], [0.4444444444444444, \"#26828e\"], [0.5555555555555556, \"#1f9e89\"], [0.6666666666666666, \"#35b779\"], [0.7777777777777778, \"#6ece58\"], [0.8888888888888888, \"#b5de2b\"], [1.0, \"#fde725\"]], \"type\": \"surface\"}], \"table\": [{\"cells\": {\"fill\": {\"color\": \"rgb(237,237,237)\"}, \"line\": {\"color\": \"white\"}}, \"header\": {\"fill\": {\"color\": \"rgb(217,217,217)\"}, \"line\": {\"color\": \"white\"}}, \"type\": \"table\"}]}, \"layout\": {\"annotationdefaults\": {\"arrowhead\": 0, \"arrowwidth\": 1}, \"autotypenumbers\": \"strict\", \"coloraxis\": {\"colorbar\": {\"outlinewidth\": 1, \"tickcolor\": \"rgb(36,36,36)\", \"ticks\": \"outside\"}}, \"colorscale\": {\"diverging\": [[0.0, \"rgb(103,0,31)\"], [0.1, \"rgb(178,24,43)\"], [0.2, \"rgb(214,96,77)\"], [0.3, \"rgb(244,165,130)\"], [0.4, \"rgb(253,219,199)\"], [0.5, \"rgb(247,247,247)\"], [0.6, \"rgb(209,229,240)\"], [0.7, \"rgb(146,197,222)\"], [0.8, \"rgb(67,147,195)\"], [0.9, \"rgb(33,102,172)\"], [1.0, \"rgb(5,48,97)\"]], \"sequential\": [[0.0, \"#440154\"], [0.1111111111111111, \"#482878\"], [0.2222222222222222, \"#3e4989\"], [0.3333333333333333, \"#31688e\"], [0.4444444444444444, \"#26828e\"], [0.5555555555555556, \"#1f9e89\"], [0.6666666666666666, \"#35b779\"], [0.7777777777777778, \"#6ece58\"], [0.8888888888888888, \"#b5de2b\"], [1.0, \"#fde725\"]], \"sequentialminus\": [[0.0, \"#440154\"], [0.1111111111111111, \"#482878\"], [0.2222222222222222, \"#3e4989\"], [0.3333333333333333, \"#31688e\"], [0.4444444444444444, \"#26828e\"], [0.5555555555555556, \"#1f9e89\"], [0.6666666666666666, \"#35b779\"], [0.7777777777777778, \"#6ece58\"], [0.8888888888888888, \"#b5de2b\"], [1.0, \"#fde725\"]]}, \"colorway\": [\"#1F77B4\", \"#FF7F0E\", \"#2CA02C\", \"#D62728\", \"#9467BD\", \"#8C564B\", \"#E377C2\", \"#7F7F7F\", \"#BCBD22\", \"#17BECF\"], \"font\": {\"color\": \"rgb(36,36,36)\"}, \"geo\": {\"bgcolor\": \"white\", \"lakecolor\": \"white\", \"landcolor\": \"white\", \"showlakes\": true, \"showland\": true, \"subunitcolor\": \"white\"}, \"hoverlabel\": {\"align\": \"left\"}, \"hovermode\": \"closest\", \"mapbox\": {\"style\": \"light\"}, \"paper_bgcolor\": \"white\", \"plot_bgcolor\": \"white\", \"polar\": {\"angularaxis\": {\"gridcolor\": \"rgb(232,232,232)\", \"linecolor\": \"rgb(36,36,36)\", \"showgrid\": false, \"showline\": true, \"ticks\": \"outside\"}, \"bgcolor\": \"white\", \"radialaxis\": {\"gridcolor\": \"rgb(232,232,232)\", \"linecolor\": \"rgb(36,36,36)\", \"showgrid\": false, \"showline\": true, \"ticks\": \"outside\"}}, \"scene\": {\"xaxis\": {\"backgroundcolor\": \"white\", \"gridcolor\": \"rgb(232,232,232)\", \"gridwidth\": 2, \"linecolor\": \"rgb(36,36,36)\", \"showbackground\": true, \"showgrid\": false, \"showline\": true, \"ticks\": \"outside\", \"zeroline\": false, \"zerolinecolor\": \"rgb(36,36,36)\"}, \"yaxis\": {\"backgroundcolor\": \"white\", \"gridcolor\": \"rgb(232,232,232)\", \"gridwidth\": 2, \"linecolor\": \"rgb(36,36,36)\", \"showbackground\": true, \"showgrid\": false, \"showline\": true, \"ticks\": \"outside\", \"zeroline\": false, \"zerolinecolor\": \"rgb(36,36,36)\"}, \"zaxis\": {\"backgroundcolor\": \"white\", \"gridcolor\": \"rgb(232,232,232)\", \"gridwidth\": 2, \"linecolor\": \"rgb(36,36,36)\", \"showbackground\": true, \"showgrid\": false, \"showline\": true, \"ticks\": \"outside\", \"zeroline\": false, \"zerolinecolor\": \"rgb(36,36,36)\"}}, \"shapedefaults\": {\"fillcolor\": \"black\", \"line\": {\"width\": 0}, \"opacity\": 0.3}, \"ternary\": {\"aaxis\": {\"gridcolor\": \"rgb(232,232,232)\", \"linecolor\": \"rgb(36,36,36)\", \"showgrid\": false, \"showline\": true, \"ticks\": \"outside\"}, \"baxis\": {\"gridcolor\": \"rgb(232,232,232)\", \"linecolor\": \"rgb(36,36,36)\", \"showgrid\": false, \"showline\": true, \"ticks\": \"outside\"}, \"bgcolor\": \"white\", \"caxis\": {\"gridcolor\": \"rgb(232,232,232)\", \"linecolor\": \"rgb(36,36,36)\", \"showgrid\": false, \"showline\": true, \"ticks\": \"outside\"}}, \"title\": {\"x\": 0.05}, \"xaxis\": {\"automargin\": true, \"gridcolor\": \"rgb(232,232,232)\", \"linecolor\": \"rgb(36,36,36)\", \"showgrid\": false, \"showline\": true, \"ticks\": \"outside\", \"title\": {\"standoff\": 15}, \"zeroline\": false, \"zerolinecolor\": \"rgb(36,36,36)\"}, \"yaxis\": {\"automargin\": true, \"gridcolor\": \"rgb(232,232,232)\", \"linecolor\": \"rgb(36,36,36)\", \"showgrid\": false, \"showline\": true, \"ticks\": \"outside\", \"title\": {\"standoff\": 15}, \"zeroline\": false, \"zerolinecolor\": \"rgb(36,36,36)\"}}}, \"width\": 800, \"xaxis\": {\"anchor\": \"y\", \"domain\": [0.0, 1.0], \"title\": {\"text\": \"0\"}, \"visible\": false}, \"yaxis\": {\"anchor\": \"x\", \"domain\": [0.0, 1.0], \"title\": {\"text\": \"1\"}, \"visible\": false}},                        {\"responsive\": true}                    ).then(function(){\n",
              "                            \n",
              "var gd = document.getElementById('327b94d0-1d73-46ed-a8f5-b9e85f42b898');\n",
              "var x = new MutationObserver(function (mutations, observer) {{\n",
              "        var display = window.getComputedStyle(gd).display;\n",
              "        if (!display || display === 'none') {{\n",
              "            console.log([gd, 'removed!']);\n",
              "            Plotly.purge(gd);\n",
              "            observer.disconnect();\n",
              "        }}\n",
              "}});\n",
              "\n",
              "// Listen for the removal of the full notebook cells\n",
              "var notebookContainer = gd.closest('#notebook-container');\n",
              "if (notebookContainer) {{\n",
              "    x.observe(notebookContainer, {childList: true});\n",
              "}}\n",
              "\n",
              "// Listen for the clearing of the current output cell\n",
              "var outputEl = gd.closest('.output');\n",
              "if (outputEl) {{\n",
              "    x.observe(outputEl, {childList: true});\n",
              "}}\n",
              "\n",
              "                        })                };                            </script>        </div>\n",
              "</body>\n",
              "</html>"
            ]
          },
          "metadata": {}
        }
      ]
    },
    {
      "cell_type": "markdown",
      "metadata": {
        "id": "9W5kvtkRr7VW"
      },
      "source": [
        "## UMAP"
      ]
    },
    {
      "cell_type": "code",
      "metadata": {
        "colab": {
          "base_uri": "https://localhost:8080/",
          "height": 542
        },
        "id": "fiReXW4er9XV",
        "outputId": "8bebe09b-6566-41b0-f7e0-fc881a63e615"
      },
      "source": [
        "umap_2d = UMAP(n_components=2,n_neighbors=10,metric='euclidean', random_state=0)\n",
        "X_umap = umap_2d.fit_transform(xscaled)\n",
        "\n",
        "fig = px.scatter(\n",
        "    X_umap, \n",
        "    x=0, \n",
        "    y=1, \n",
        "    color=labels.astype(object), \n",
        "    template=\"simple_white\",\n",
        "    labels={ \n",
        "      \"color\": \"Classification (Label)\"\n",
        "    },\n",
        "    color_discrete_sequence= px.colors.qualitative.Plotly + px.colors.qualitative.Bold,\n",
        "    width=800)\n",
        "\n",
        "fig.update_layout(xaxis={'visible': False},\n",
        "                  yaxis={'visible': False},\n",
        "                  margin=dict(l=0,r=0,b=0,t=0))\n",
        "\n",
        "fig.show()\n",
        "fig.write_image('imgs/UMAP_USDA.eps', format='eps')"
      ],
      "execution_count": 43,
      "outputs": [
        {
          "output_type": "display_data",
          "data": {
            "text/html": [
              "<html>\n",
              "<head><meta charset=\"utf-8\" /></head>\n",
              "<body>\n",
              "    <div>            <script src=\"https://cdnjs.cloudflare.com/ajax/libs/mathjax/2.7.5/MathJax.js?config=TeX-AMS-MML_SVG\"></script><script type=\"text/javascript\">if (window.MathJax) {MathJax.Hub.Config({SVG: {font: \"STIX-Web\"}});}</script>                <script type=\"text/javascript\">window.PlotlyConfig = {MathJaxConfig: 'local'};</script>\n",
              "        <script src=\"https://cdn.plot.ly/plotly-latest.min.js\"></script>                <div id=\"1d5f5381-5902-44ff-a753-e37041e4b920\" class=\"plotly-graph-div\" style=\"height:525px; width:800px;\"></div>            <script type=\"text/javascript\">                                    window.PLOTLYENV=window.PLOTLYENV || {};                                    if (document.getElementById(\"1d5f5381-5902-44ff-a753-e37041e4b920\")) {                    Plotly.newPlot(                        \"1d5f5381-5902-44ff-a753-e37041e4b920\",                        [{\"hovertemplate\": \"Classification (Label)=Milk<br>0=%{x}<br>1=%{y}<extra></extra>\", \"legendgroup\": \"Milk\", \"marker\": {\"color\": \"#636EFA\", \"symbol\": \"circle\"}, \"mode\": \"markers\", \"name\": \"Milk\", \"orientation\": \"v\", \"showlegend\": true, \"type\": \"scatter\", \"x\": [1.6133841276168823, 3.810276508331299, 1.8311703205108643, 1.6361762285232544, 1.7090469598770142, 6.657360076904297, 6.9771904945373535, 3.966367483139038, 6.759565830230713, 4.021100044250488, 6.961105823516846, 6.904963493347168, 6.740828990936279, 6.798587799072266, 3.7835311889648438, 1.7011417150497437, 6.807614803314209, 1.8590911626815796, 6.910539150238037, 6.767348766326904, -1.0917664766311646, -1.0081846714019775, 3.704664468765259, 3.864675998687744, -2.175389289855957, 0.971926748752594, -2.8962996006011963, -2.8023197650909424, -2.8558316230773926, -2.894911050796509, -2.507101535797119], \"xaxis\": \"x\", \"y\": [2.1130881309509277, 3.3991894721984863, 1.8414368629455566, 1.9860100746154785, 1.9074679613113403, 1.3411401510238647, 1.5733487606048584, 3.490143299102783, 1.2156909704208374, 3.612152099609375, 1.4110519886016846, 1.2905381917953491, 1.3977341651916504, 1.2182368040084839, 3.4981725215911865, 1.9615278244018555, 1.923782467842102, 1.6661864519119263, 1.7462332248687744, 1.6058567762374878, 1.8843003511428833, 1.9257231950759888, -0.7711477279663086, -0.7466206550598145, 1.4716073274612427, 3.6946210861206055, 1.784235954284668, 1.8116843700408936, 1.824593186378479, 1.7851862907409668, 1.46974515914917], \"yaxis\": \"y\"}, {\"hovertemplate\": \"Classification (Label)=Buttermilk<br>0=%{x}<br>1=%{y}<extra></extra>\", \"legendgroup\": \"Buttermilk\", \"marker\": {\"color\": \"#EF553B\", \"symbol\": \"circle\"}, \"mode\": \"markers\", \"name\": \"Buttermilk\", \"orientation\": \"v\", \"showlegend\": true, \"type\": \"scatter\", \"x\": [3.9624500274658203, 3.8046045303344727, 3.726048707962036, 2.13985276222229], \"xaxis\": \"x\", \"y\": [0.2173503190279007, 0.36597180366516113, 0.4306136965751648, 1.5838476419448853], \"yaxis\": \"y\"}, {\"hovertemplate\": \"Classification (Label)=Goat's milk<br>0=%{x}<br>1=%{y}<extra></extra>\", \"legendgroup\": \"Goat's milk\", \"marker\": {\"color\": \"#00CC96\", \"symbol\": \"circle\"}, \"mode\": \"markers\", \"name\": \"Goat's milk\", \"orientation\": \"v\", \"showlegend\": true, \"type\": \"scatter\", \"x\": [1.7818819284439087], \"xaxis\": \"x\", \"y\": [1.831407904624939], \"yaxis\": \"y\"}, {\"hovertemplate\": \"Classification (Label)=Non-dairy milk<br>0=%{x}<br>1=%{y}<extra></extra>\", \"legendgroup\": \"Non-dairy milk\", \"marker\": {\"color\": \"#AB63FA\", \"symbol\": \"circle\"}, \"mode\": \"markers\", \"name\": \"Non-dairy milk\", \"orientation\": \"v\", \"showlegend\": true, \"type\": \"scatter\", \"x\": [4.934230804443359], \"xaxis\": \"x\", \"y\": [9.758936882019043], \"yaxis\": \"y\"}, {\"hovertemplate\": \"Classification (Label)=Soy milk<br>0=%{x}<br>1=%{y}<extra></extra>\", \"legendgroup\": \"Soy milk\", \"marker\": {\"color\": \"#FFA15A\", \"symbol\": \"circle\"}, \"mode\": \"markers\", \"name\": \"Soy milk\", \"orientation\": \"v\", \"showlegend\": true, \"type\": \"scatter\", \"x\": [4.325126647949219, 4.83145809173584, 4.644888401031494, 4.513474464416504, 4.403350830078125, 4.384523391723633], \"xaxis\": \"x\", \"y\": [11.139897346496582, 10.43252944946289, 10.678550720214844, 11.245762825012207, 11.30499267578125, 11.214348793029785], \"yaxis\": \"y\"}, {\"hovertemplate\": \"Classification (Label)=Almond milk<br>0=%{x}<br>1=%{y}<extra></extra>\", \"legendgroup\": \"Almond milk\", \"marker\": {\"color\": \"#19D3F3\", \"symbol\": \"circle\"}, \"mode\": \"markers\", \"name\": \"Almond milk\", \"orientation\": \"v\", \"showlegend\": true, \"type\": \"scatter\", \"x\": [7.252037525177002, 7.141019344329834, 7.396146297454834, 7.229802131652832], \"xaxis\": \"x\", \"y\": [3.123091697692871, 3.1141669750213623, 3.3113536834716797, 3.078275680541992], \"yaxis\": \"y\"}, {\"hovertemplate\": \"Classification (Label)=Rice milk<br>0=%{x}<br>1=%{y}<extra></extra>\", \"legendgroup\": \"Rice milk\", \"marker\": {\"color\": \"#FF6692\", \"symbol\": \"circle\"}, \"mode\": \"markers\", \"name\": \"Rice milk\", \"orientation\": \"v\", \"showlegend\": true, \"type\": \"scatter\", \"x\": [6.519782066345215], \"xaxis\": \"x\", \"y\": [1.94493567943573], \"yaxis\": \"y\"}, {\"hovertemplate\": \"Classification (Label)=Coconut milk<br>0=%{x}<br>1=%{y}<extra></extra>\", \"legendgroup\": \"Coconut milk\", \"marker\": {\"color\": \"#B6E880\", \"symbol\": \"circle\"}, \"mode\": \"markers\", \"name\": \"Coconut milk\", \"orientation\": \"v\", \"showlegend\": true, \"type\": \"scatter\", \"x\": [6.594277381896973, -0.936375081539154], \"xaxis\": \"x\", \"y\": [1.8782825469970703, 1.8508930206298828], \"yaxis\": \"y\"}, {\"hovertemplate\": \"Classification (Label)=Chocolate milk<br>0=%{x}<br>1=%{y}<extra></extra>\", \"legendgroup\": \"Chocolate milk\", \"marker\": {\"color\": \"#FF97FF\", \"symbol\": \"circle\"}, \"mode\": \"markers\", \"name\": \"Chocolate milk\", \"orientation\": \"v\", \"showlegend\": true, \"type\": \"scatter\", \"x\": [-0.025786761194467545, 0.7064377069473267, 0.28415045142173767, -0.07165843993425369, 4.0973734855651855, 4.071052551269531, 3.982948064804077, 0.01944068819284439, 3.976341962814331, 1.1226332187652588, 0.9737597703933716, 1.1409133672714233, 1.900468111038208, 1.9949835538864136, 4.715729713439941, 4.055525302886963, 4.116423606872559, 4.2588300704956055, 4.66341495513916, 4.789033889770508, 4.472553253173828, 1.0412132740020752, 1.034433126449585, 1.0546672344207764, 1.8519972562789917, 1.8468081951141357, 5.011802673339844, 4.154030799865723, 4.194417476654053, 4.238465785980225, 4.915526390075684, 4.794743537902832, 4.624122619628906, 2.339730739593506, 2.04608416557312, 2.586723566055298, 2.519472360610962, 2.3585400581359863, 4.876941204071045, 3.3289389610290527, 1.8754806518554688, 3.2687854766845703, 6.070383548736572, 6.08156681060791, 4.925507068634033, 5.322714328765869, 5.121190071105957, 5.378491401672363, 5.519023895263672, 5.507084369659424, 4.862904071807861], \"xaxis\": \"x\", \"y\": [2.8592300415039062, 2.832062005996704, 2.7294397354125977, 2.7118964195251465, -0.3099439740180969, -0.24702174961566925, -0.2025139033794403, 2.7835023403167725, -0.16798089444637299, 3.315530300140381, 3.0293757915496826, 3.6361052989959717, 4.763476371765137, 4.765902519226074, 10.352143287658691, -2.144766092300415, -2.18290376663208, -1.8599798679351807, -1.8444772958755493, -1.7228302955627441, 10.28854751586914, 3.4973835945129395, 3.141608476638794, 3.747304916381836, 4.811135768890381, 4.845765590667725, 10.35400390625, -2.0136778354644775, -2.1500747203826904, -1.9171884059906006, -1.5714200735092163, -1.6618541479110718, 10.507486343383789, 3.433511734008789, 3.1249780654907227, 3.441810131072998, 3.7985851764678955, 3.8857343196868896, 10.085091590881348, 3.1196017265319824, 2.3269598484039307, 3.173300266265869, 1.9775710105895996, 1.8603332042694092, 10.136552810668945, 3.732825756072998, 3.5651822090148926, 3.768049955368042, 3.821420907974243, 3.802748203277588, 10.173145294189453], \"yaxis\": \"y\"}, {\"hovertemplate\": \"Classification (Label)=Strawberry milk<br>0=%{x}<br>1=%{y}<extra></extra>\", \"legendgroup\": \"Strawberry milk\", \"marker\": {\"color\": \"#FECB52\", \"symbol\": \"circle\"}, \"mode\": \"markers\", \"name\": \"Strawberry milk\", \"orientation\": \"v\", \"showlegend\": true, \"type\": \"scatter\", \"x\": [3.83670973777771, 1.7836346626281738, 2.6693222522735596, 2.5596773624420166, 2.4454004764556885, 6.39565896987915, 4.7881879806518555], \"xaxis\": \"x\", \"y\": [3.425605058670044, 2.9550318717956543, 3.2917182445526123, 3.7709314823150635, 4.060151100158691, 1.5170323848724365, 10.171407699584961], \"yaxis\": \"y\"}, {\"hovertemplate\": \"Classification (Label)=Milk shake<br>0=%{x}<br>1=%{y}<extra></extra>\", \"legendgroup\": \"Milk shake\", \"marker\": {\"color\": \"rgb(127, 60, 141)\", \"symbol\": \"circle\"}, \"mode\": \"markers\", \"name\": \"Milk shake\", \"orientation\": \"v\", \"showlegend\": true, \"type\": \"scatter\", \"x\": [-0.7589961886405945, -0.6924525499343872, -0.415030300617218, 1.6838693618774414, -1.6601017713546753, -1.6068850755691528, -1.7234582901000977, -1.6693010330200195], \"xaxis\": \"x\", \"y\": [2.0370357036590576, 1.8309565782546997, 2.2584445476531982, 3.0193264484405518, 1.1523925065994263, 1.2100558280944824, 1.314637541770935, 1.2774651050567627], \"yaxis\": \"y\"}, {\"hovertemplate\": \"Classification (Label)=Milk shake with malt<br>0=%{x}<br>1=%{y}<extra></extra>\", \"legendgroup\": \"Milk shake with malt\", \"marker\": {\"color\": \"rgb(17, 165, 121)\", \"symbol\": \"circle\"}, \"mode\": \"markers\", \"name\": \"Milk shake with malt\", \"orientation\": \"v\", \"showlegend\": true, \"type\": \"scatter\", \"x\": [-0.6579492092132568], \"xaxis\": \"x\", \"y\": [1.8404545783996582], \"yaxis\": \"y\"}, {\"hovertemplate\": \"Classification (Label)=Chocolate milk drink<br>0=%{x}<br>1=%{y}<extra></extra>\", \"legendgroup\": \"Chocolate milk drink\", \"marker\": {\"color\": \"rgb(57, 105, 172)\", \"symbol\": \"circle\"}, \"mode\": \"markers\", \"name\": \"Chocolate milk drink\", \"orientation\": \"v\", \"showlegend\": true, \"type\": \"scatter\", \"x\": [5.686065673828125], \"xaxis\": \"x\", \"y\": [3.776697874069214], \"yaxis\": \"y\"}, {\"hovertemplate\": \"Classification (Label)=Milk dessert or milk candy<br>0=%{x}<br>1=%{y}<extra></extra>\", \"legendgroup\": \"Milk dessert or milk candy\", \"marker\": {\"color\": \"rgb(242, 183, 1)\", \"symbol\": \"circle\"}, \"mode\": \"markers\", \"name\": \"Milk dessert or milk candy\", \"orientation\": \"v\", \"showlegend\": true, \"type\": \"scatter\", \"x\": [-2.2228996753692627], \"xaxis\": \"x\", \"y\": [1.4168344736099243], \"yaxis\": \"y\"}, {\"hovertemplate\": \"Classification (Label)=Milk 'n Cereal bar<br>0=%{x}<br>1=%{y}<extra></extra>\", \"legendgroup\": \"Milk 'n Cereal bar\", \"marker\": {\"color\": \"rgb(231, 63, 116)\", \"symbol\": \"circle\"}, \"mode\": \"markers\", \"name\": \"Milk 'n Cereal bar\", \"orientation\": \"v\", \"showlegend\": true, \"type\": \"scatter\", \"x\": [-2.4366488456726074], \"xaxis\": \"x\", \"y\": [1.317703127861023], \"yaxis\": \"y\"}, {\"hovertemplate\": \"Classification (Label)=Nutrition bar (Tiger's Milk)<br>0=%{x}<br>1=%{y}<extra></extra>\", \"legendgroup\": \"Nutrition bar (Tiger's Milk)\", \"marker\": {\"color\": \"rgb(128, 186, 90)\", \"symbol\": \"circle\"}, \"mode\": \"markers\", \"name\": \"Nutrition bar (Tiger's Milk)\", \"orientation\": \"v\", \"showlegend\": true, \"type\": \"scatter\", \"x\": [-2.733835220336914], \"xaxis\": \"x\", \"y\": [1.1142306327819824], \"yaxis\": \"y\"}, {\"hovertemplate\": \"Classification (Label)=Milk chocolate candy<br>0=%{x}<br>1=%{y}<extra></extra>\", \"legendgroup\": \"Milk chocolate candy\", \"marker\": {\"color\": \"rgb(230, 131, 16)\", \"symbol\": \"circle\"}, \"mode\": \"markers\", \"name\": \"Milk chocolate candy\", \"orientation\": \"v\", \"showlegend\": true, \"type\": \"scatter\", \"x\": [-3.1023387908935547, -2.9054253101348877, -2.968489646911621, -3.10884690284729], \"xaxis\": \"x\", \"y\": [0.6548283100128174, 0.8420958518981934, 0.7978422045707703, 0.6618772745132446], \"yaxis\": \"y\"}, {\"hovertemplate\": \"Classification (Label)=M&M's Milk Chocolate Candies<br>0=%{x}<br>1=%{y}<extra></extra>\", \"legendgroup\": \"M&M's Milk Chocolate Candies\", \"marker\": {\"color\": \"rgb(0, 134, 149)\", \"symbol\": \"circle\"}, \"mode\": \"markers\", \"name\": \"M&M's Milk Chocolate Candies\", \"orientation\": \"v\", \"showlegend\": true, \"type\": \"scatter\", \"x\": [-3.012801170349121], \"xaxis\": \"x\", \"y\": [1.0522093772888184], \"yaxis\": \"y\"}, {\"hovertemplate\": \"Classification (Label)=Oatmeal beverage with milk<br>0=%{x}<br>1=%{y}<extra></extra>\", \"legendgroup\": \"Oatmeal beverage with milk\", \"marker\": {\"color\": \"rgb(207, 28, 144)\", \"symbol\": \"circle\"}, \"mode\": \"markers\", \"name\": \"Oatmeal beverage with milk\", \"orientation\": \"v\", \"showlegend\": true, \"type\": \"scatter\", \"x\": [5.303077220916748], \"xaxis\": \"x\", \"y\": [3.8657991886138916], \"yaxis\": \"y\"}, {\"hovertemplate\": \"Classification (Label)=Cornmeal beverage with chocolate milk<br>0=%{x}<br>1=%{y}<extra></extra>\", \"legendgroup\": \"Cornmeal beverage with chocolate milk\", \"marker\": {\"color\": \"rgb(249, 123, 114)\", \"symbol\": \"circle\"}, \"mode\": \"markers\", \"name\": \"Cornmeal beverage with chocolate milk\", \"orientation\": \"v\", \"showlegend\": true, \"type\": \"scatter\", \"x\": [2.2814247608184814], \"xaxis\": \"x\", \"y\": [3.2853827476501465], \"yaxis\": \"y\"}, {\"hovertemplate\": \"Classification (Label)=Nutritional powder mix (Muscle Milk)<br>0=%{x}<br>1=%{y}<extra></extra>\", \"legendgroup\": \"Nutritional powder mix (Muscle Milk)\", \"marker\": {\"color\": \"rgb(165, 170, 153)\", \"symbol\": \"circle\"}, \"mode\": \"markers\", \"name\": \"Nutritional powder mix (Muscle Milk)\", \"orientation\": \"v\", \"showlegend\": true, \"type\": \"scatter\", \"x\": [-2.7937822341918945], \"xaxis\": \"x\", \"y\": [1.5118536949157715], \"yaxis\": \"y\"}],                        {\"legend\": {\"title\": {\"text\": \"Classification (Label)\"}, \"tracegroupgap\": 0}, \"margin\": {\"b\": 0, \"l\": 0, \"r\": 0, \"t\": 0}, \"template\": {\"data\": {\"bar\": [{\"error_x\": {\"color\": \"rgb(36,36,36)\"}, \"error_y\": {\"color\": \"rgb(36,36,36)\"}, \"marker\": {\"line\": {\"color\": \"white\", \"width\": 0.5}}, \"type\": \"bar\"}], \"barpolar\": [{\"marker\": {\"line\": {\"color\": \"white\", \"width\": 0.5}}, \"type\": \"barpolar\"}], \"carpet\": [{\"aaxis\": {\"endlinecolor\": \"rgb(36,36,36)\", \"gridcolor\": \"white\", \"linecolor\": \"white\", \"minorgridcolor\": \"white\", \"startlinecolor\": \"rgb(36,36,36)\"}, \"baxis\": {\"endlinecolor\": \"rgb(36,36,36)\", \"gridcolor\": \"white\", \"linecolor\": \"white\", \"minorgridcolor\": \"white\", \"startlinecolor\": \"rgb(36,36,36)\"}, \"type\": \"carpet\"}], \"choropleth\": [{\"colorbar\": {\"outlinewidth\": 1, \"tickcolor\": \"rgb(36,36,36)\", \"ticks\": \"outside\"}, \"type\": \"choropleth\"}], \"contour\": [{\"colorbar\": {\"outlinewidth\": 1, \"tickcolor\": \"rgb(36,36,36)\", \"ticks\": \"outside\"}, \"colorscale\": [[0.0, \"#440154\"], [0.1111111111111111, \"#482878\"], [0.2222222222222222, \"#3e4989\"], [0.3333333333333333, \"#31688e\"], [0.4444444444444444, \"#26828e\"], [0.5555555555555556, \"#1f9e89\"], [0.6666666666666666, \"#35b779\"], [0.7777777777777778, \"#6ece58\"], [0.8888888888888888, \"#b5de2b\"], [1.0, \"#fde725\"]], \"type\": \"contour\"}], \"contourcarpet\": [{\"colorbar\": {\"outlinewidth\": 1, \"tickcolor\": \"rgb(36,36,36)\", \"ticks\": \"outside\"}, \"type\": \"contourcarpet\"}], \"heatmap\": [{\"colorbar\": {\"outlinewidth\": 1, \"tickcolor\": \"rgb(36,36,36)\", \"ticks\": \"outside\"}, \"colorscale\": [[0.0, \"#440154\"], [0.1111111111111111, \"#482878\"], [0.2222222222222222, \"#3e4989\"], [0.3333333333333333, \"#31688e\"], [0.4444444444444444, \"#26828e\"], [0.5555555555555556, \"#1f9e89\"], [0.6666666666666666, \"#35b779\"], [0.7777777777777778, \"#6ece58\"], [0.8888888888888888, \"#b5de2b\"], [1.0, \"#fde725\"]], \"type\": \"heatmap\"}], \"heatmapgl\": [{\"colorbar\": {\"outlinewidth\": 1, \"tickcolor\": \"rgb(36,36,36)\", \"ticks\": \"outside\"}, \"colorscale\": [[0.0, \"#440154\"], [0.1111111111111111, \"#482878\"], [0.2222222222222222, \"#3e4989\"], [0.3333333333333333, \"#31688e\"], [0.4444444444444444, \"#26828e\"], [0.5555555555555556, \"#1f9e89\"], [0.6666666666666666, \"#35b779\"], [0.7777777777777778, \"#6ece58\"], [0.8888888888888888, \"#b5de2b\"], [1.0, \"#fde725\"]], \"type\": \"heatmapgl\"}], \"histogram\": [{\"marker\": {\"line\": {\"color\": \"white\", \"width\": 0.6}}, \"type\": \"histogram\"}], \"histogram2d\": [{\"colorbar\": {\"outlinewidth\": 1, \"tickcolor\": \"rgb(36,36,36)\", \"ticks\": \"outside\"}, \"colorscale\": [[0.0, \"#440154\"], [0.1111111111111111, \"#482878\"], [0.2222222222222222, \"#3e4989\"], [0.3333333333333333, \"#31688e\"], [0.4444444444444444, \"#26828e\"], [0.5555555555555556, \"#1f9e89\"], [0.6666666666666666, \"#35b779\"], [0.7777777777777778, \"#6ece58\"], [0.8888888888888888, \"#b5de2b\"], [1.0, \"#fde725\"]], \"type\": \"histogram2d\"}], \"histogram2dcontour\": [{\"colorbar\": {\"outlinewidth\": 1, \"tickcolor\": \"rgb(36,36,36)\", \"ticks\": \"outside\"}, \"colorscale\": [[0.0, \"#440154\"], [0.1111111111111111, \"#482878\"], [0.2222222222222222, \"#3e4989\"], [0.3333333333333333, \"#31688e\"], [0.4444444444444444, \"#26828e\"], [0.5555555555555556, \"#1f9e89\"], [0.6666666666666666, \"#35b779\"], [0.7777777777777778, \"#6ece58\"], [0.8888888888888888, \"#b5de2b\"], [1.0, \"#fde725\"]], \"type\": \"histogram2dcontour\"}], \"mesh3d\": [{\"colorbar\": {\"outlinewidth\": 1, \"tickcolor\": \"rgb(36,36,36)\", \"ticks\": \"outside\"}, \"type\": \"mesh3d\"}], \"parcoords\": [{\"line\": {\"colorbar\": {\"outlinewidth\": 1, \"tickcolor\": \"rgb(36,36,36)\", \"ticks\": \"outside\"}}, \"type\": \"parcoords\"}], \"pie\": [{\"automargin\": true, \"type\": \"pie\"}], \"scatter\": [{\"marker\": {\"colorbar\": {\"outlinewidth\": 1, \"tickcolor\": \"rgb(36,36,36)\", \"ticks\": \"outside\"}}, \"type\": \"scatter\"}], \"scatter3d\": [{\"line\": {\"colorbar\": {\"outlinewidth\": 1, \"tickcolor\": \"rgb(36,36,36)\", \"ticks\": \"outside\"}}, \"marker\": {\"colorbar\": {\"outlinewidth\": 1, \"tickcolor\": \"rgb(36,36,36)\", \"ticks\": \"outside\"}}, \"type\": \"scatter3d\"}], \"scattercarpet\": [{\"marker\": {\"colorbar\": {\"outlinewidth\": 1, \"tickcolor\": \"rgb(36,36,36)\", \"ticks\": \"outside\"}}, \"type\": \"scattercarpet\"}], \"scattergeo\": [{\"marker\": {\"colorbar\": {\"outlinewidth\": 1, \"tickcolor\": \"rgb(36,36,36)\", \"ticks\": \"outside\"}}, \"type\": \"scattergeo\"}], \"scattergl\": [{\"marker\": {\"colorbar\": {\"outlinewidth\": 1, \"tickcolor\": \"rgb(36,36,36)\", \"ticks\": \"outside\"}}, \"type\": \"scattergl\"}], \"scattermapbox\": [{\"marker\": {\"colorbar\": {\"outlinewidth\": 1, \"tickcolor\": \"rgb(36,36,36)\", \"ticks\": \"outside\"}}, \"type\": \"scattermapbox\"}], \"scatterpolar\": [{\"marker\": {\"colorbar\": {\"outlinewidth\": 1, \"tickcolor\": \"rgb(36,36,36)\", \"ticks\": \"outside\"}}, \"type\": \"scatterpolar\"}], \"scatterpolargl\": [{\"marker\": {\"colorbar\": {\"outlinewidth\": 1, \"tickcolor\": \"rgb(36,36,36)\", \"ticks\": \"outside\"}}, \"type\": \"scatterpolargl\"}], \"scatterternary\": [{\"marker\": {\"colorbar\": {\"outlinewidth\": 1, \"tickcolor\": \"rgb(36,36,36)\", \"ticks\": \"outside\"}}, \"type\": \"scatterternary\"}], \"surface\": [{\"colorbar\": {\"outlinewidth\": 1, \"tickcolor\": \"rgb(36,36,36)\", \"ticks\": \"outside\"}, \"colorscale\": [[0.0, \"#440154\"], [0.1111111111111111, \"#482878\"], [0.2222222222222222, \"#3e4989\"], [0.3333333333333333, \"#31688e\"], [0.4444444444444444, \"#26828e\"], [0.5555555555555556, \"#1f9e89\"], [0.6666666666666666, \"#35b779\"], [0.7777777777777778, \"#6ece58\"], [0.8888888888888888, \"#b5de2b\"], [1.0, \"#fde725\"]], \"type\": \"surface\"}], \"table\": [{\"cells\": {\"fill\": {\"color\": \"rgb(237,237,237)\"}, \"line\": {\"color\": \"white\"}}, \"header\": {\"fill\": {\"color\": \"rgb(217,217,217)\"}, \"line\": {\"color\": \"white\"}}, \"type\": \"table\"}]}, \"layout\": {\"annotationdefaults\": {\"arrowhead\": 0, \"arrowwidth\": 1}, \"autotypenumbers\": \"strict\", \"coloraxis\": {\"colorbar\": {\"outlinewidth\": 1, \"tickcolor\": \"rgb(36,36,36)\", \"ticks\": \"outside\"}}, \"colorscale\": {\"diverging\": [[0.0, \"rgb(103,0,31)\"], [0.1, \"rgb(178,24,43)\"], [0.2, \"rgb(214,96,77)\"], [0.3, \"rgb(244,165,130)\"], [0.4, \"rgb(253,219,199)\"], [0.5, \"rgb(247,247,247)\"], [0.6, \"rgb(209,229,240)\"], [0.7, \"rgb(146,197,222)\"], [0.8, \"rgb(67,147,195)\"], [0.9, \"rgb(33,102,172)\"], [1.0, \"rgb(5,48,97)\"]], \"sequential\": [[0.0, \"#440154\"], [0.1111111111111111, \"#482878\"], [0.2222222222222222, \"#3e4989\"], [0.3333333333333333, \"#31688e\"], [0.4444444444444444, \"#26828e\"], [0.5555555555555556, \"#1f9e89\"], [0.6666666666666666, \"#35b779\"], [0.7777777777777778, \"#6ece58\"], [0.8888888888888888, \"#b5de2b\"], [1.0, \"#fde725\"]], \"sequentialminus\": [[0.0, \"#440154\"], [0.1111111111111111, \"#482878\"], [0.2222222222222222, \"#3e4989\"], [0.3333333333333333, \"#31688e\"], [0.4444444444444444, \"#26828e\"], [0.5555555555555556, \"#1f9e89\"], [0.6666666666666666, \"#35b779\"], [0.7777777777777778, \"#6ece58\"], [0.8888888888888888, \"#b5de2b\"], [1.0, \"#fde725\"]]}, \"colorway\": [\"#1F77B4\", \"#FF7F0E\", \"#2CA02C\", \"#D62728\", \"#9467BD\", \"#8C564B\", \"#E377C2\", \"#7F7F7F\", \"#BCBD22\", \"#17BECF\"], \"font\": {\"color\": \"rgb(36,36,36)\"}, \"geo\": {\"bgcolor\": \"white\", \"lakecolor\": \"white\", \"landcolor\": \"white\", \"showlakes\": true, \"showland\": true, \"subunitcolor\": \"white\"}, \"hoverlabel\": {\"align\": \"left\"}, \"hovermode\": \"closest\", \"mapbox\": {\"style\": \"light\"}, \"paper_bgcolor\": \"white\", \"plot_bgcolor\": \"white\", \"polar\": {\"angularaxis\": {\"gridcolor\": \"rgb(232,232,232)\", \"linecolor\": \"rgb(36,36,36)\", \"showgrid\": false, \"showline\": true, \"ticks\": \"outside\"}, \"bgcolor\": \"white\", \"radialaxis\": {\"gridcolor\": \"rgb(232,232,232)\", \"linecolor\": \"rgb(36,36,36)\", \"showgrid\": false, \"showline\": true, \"ticks\": \"outside\"}}, \"scene\": {\"xaxis\": {\"backgroundcolor\": \"white\", \"gridcolor\": \"rgb(232,232,232)\", \"gridwidth\": 2, \"linecolor\": \"rgb(36,36,36)\", \"showbackground\": true, \"showgrid\": false, \"showline\": true, \"ticks\": \"outside\", \"zeroline\": false, \"zerolinecolor\": \"rgb(36,36,36)\"}, \"yaxis\": {\"backgroundcolor\": \"white\", \"gridcolor\": \"rgb(232,232,232)\", \"gridwidth\": 2, \"linecolor\": \"rgb(36,36,36)\", \"showbackground\": true, \"showgrid\": false, \"showline\": true, \"ticks\": \"outside\", \"zeroline\": false, \"zerolinecolor\": \"rgb(36,36,36)\"}, \"zaxis\": {\"backgroundcolor\": \"white\", \"gridcolor\": \"rgb(232,232,232)\", \"gridwidth\": 2, \"linecolor\": \"rgb(36,36,36)\", \"showbackground\": true, \"showgrid\": false, \"showline\": true, \"ticks\": \"outside\", \"zeroline\": false, \"zerolinecolor\": \"rgb(36,36,36)\"}}, \"shapedefaults\": {\"fillcolor\": \"black\", \"line\": {\"width\": 0}, \"opacity\": 0.3}, \"ternary\": {\"aaxis\": {\"gridcolor\": \"rgb(232,232,232)\", \"linecolor\": \"rgb(36,36,36)\", \"showgrid\": false, \"showline\": true, \"ticks\": \"outside\"}, \"baxis\": {\"gridcolor\": \"rgb(232,232,232)\", \"linecolor\": \"rgb(36,36,36)\", \"showgrid\": false, \"showline\": true, \"ticks\": \"outside\"}, \"bgcolor\": \"white\", \"caxis\": {\"gridcolor\": \"rgb(232,232,232)\", \"linecolor\": \"rgb(36,36,36)\", \"showgrid\": false, \"showline\": true, \"ticks\": \"outside\"}}, \"title\": {\"x\": 0.05}, \"xaxis\": {\"automargin\": true, \"gridcolor\": \"rgb(232,232,232)\", \"linecolor\": \"rgb(36,36,36)\", \"showgrid\": false, \"showline\": true, \"ticks\": \"outside\", \"title\": {\"standoff\": 15}, \"zeroline\": false, \"zerolinecolor\": \"rgb(36,36,36)\"}, \"yaxis\": {\"automargin\": true, \"gridcolor\": \"rgb(232,232,232)\", \"linecolor\": \"rgb(36,36,36)\", \"showgrid\": false, \"showline\": true, \"ticks\": \"outside\", \"title\": {\"standoff\": 15}, \"zeroline\": false, \"zerolinecolor\": \"rgb(36,36,36)\"}}}, \"width\": 800, \"xaxis\": {\"anchor\": \"y\", \"domain\": [0.0, 1.0], \"title\": {\"text\": \"0\"}, \"visible\": false}, \"yaxis\": {\"anchor\": \"x\", \"domain\": [0.0, 1.0], \"title\": {\"text\": \"1\"}, \"visible\": false}},                        {\"responsive\": true}                    ).then(function(){\n",
              "                            \n",
              "var gd = document.getElementById('1d5f5381-5902-44ff-a753-e37041e4b920');\n",
              "var x = new MutationObserver(function (mutations, observer) {{\n",
              "        var display = window.getComputedStyle(gd).display;\n",
              "        if (!display || display === 'none') {{\n",
              "            console.log([gd, 'removed!']);\n",
              "            Plotly.purge(gd);\n",
              "            observer.disconnect();\n",
              "        }}\n",
              "}});\n",
              "\n",
              "// Listen for the removal of the full notebook cells\n",
              "var notebookContainer = gd.closest('#notebook-container');\n",
              "if (notebookContainer) {{\n",
              "    x.observe(notebookContainer, {childList: true});\n",
              "}}\n",
              "\n",
              "// Listen for the clearing of the current output cell\n",
              "var outputEl = gd.closest('.output');\n",
              "if (outputEl) {{\n",
              "    x.observe(outputEl, {childList: true});\n",
              "}}\n",
              "\n",
              "                        })                };                            </script>        </div>\n",
              "</body>\n",
              "</html>"
            ]
          },
          "metadata": {}
        }
      ]
    },
    {
      "cell_type": "markdown",
      "metadata": {
        "id": "zcc_ss8MdFNh"
      },
      "source": [
        "## t-Stochastic Distributed Neighbor Embedding Projection (t-SNE)\n"
      ]
    },
    {
      "cell_type": "markdown",
      "metadata": {
        "id": "i3ocJItKtpl8"
      },
      "source": [
        "Vamos gerar um gráfico de linhas para o conjunto de dados Auto-MPG Cars. Considere que cada carro é enumerado por um número inteiro de 1 a N, em que N é a quantidade de instâncias. Agora vamos criar uma nova coluna no DataFrame para possibilitar seu uso como eixo X no gráfico de linhas (Line Chart) do Plotly:"
      ]
    },
    {
      "cell_type": "code",
      "metadata": {
        "id": "-Ov9hczGtmjG",
        "colab": {
          "base_uri": "https://localhost:8080/",
          "height": 611
        },
        "outputId": "6600c4a3-0aba-4707-ec9b-9ab11b397222"
      },
      "source": [
        "tsne = TSNE(n_components=2,perplexity=5,learning_rate=100,metric='euclidean', init='pca')\n",
        "X_tsne = tsne.fit_transform(xscaled)\n",
        "\n",
        "fig = px.scatter(\n",
        "    X_tsne, \n",
        "    x=0, \n",
        "    y=1, \n",
        "    color=labels.astype(object), \n",
        "    template=\"simple_white\",\n",
        "    labels={ \n",
        "      \"color\": \"Classification (Label)\"\n",
        "    },\n",
        "    color_discrete_sequence= px.colors.qualitative.Plotly + px.colors.qualitative.Bold,\n",
        "    width=800)\n",
        "\n",
        "fig.update_layout(xaxis={'visible': False},\n",
        "                  yaxis={'visible': False},\n",
        "                  margin=dict(l=0,r=0,b=0,t=0))\n",
        "\n",
        "fig.show()\n",
        "fig.write_image('imgs/TSNE_USDA.eps', format='eps')"
      ],
      "execution_count": 44,
      "outputs": [
        {
          "output_type": "stream",
          "name": "stderr",
          "text": [
            "/usr/local/lib/python3.7/dist-packages/sklearn/manifold/_t_sne.py:986: FutureWarning:\n",
            "\n",
            "The PCA initialization in TSNE will change to have the standard deviation of PC1 equal to 1e-4 in 1.2. This will ensure better convergence.\n",
            "\n"
          ]
        },
        {
          "output_type": "display_data",
          "data": {
            "text/html": [
              "<html>\n",
              "<head><meta charset=\"utf-8\" /></head>\n",
              "<body>\n",
              "    <div>            <script src=\"https://cdnjs.cloudflare.com/ajax/libs/mathjax/2.7.5/MathJax.js?config=TeX-AMS-MML_SVG\"></script><script type=\"text/javascript\">if (window.MathJax) {MathJax.Hub.Config({SVG: {font: \"STIX-Web\"}});}</script>                <script type=\"text/javascript\">window.PlotlyConfig = {MathJaxConfig: 'local'};</script>\n",
              "        <script src=\"https://cdn.plot.ly/plotly-latest.min.js\"></script>                <div id=\"33576423-e064-46f7-9318-ef51f77e1375\" class=\"plotly-graph-div\" style=\"height:525px; width:800px;\"></div>            <script type=\"text/javascript\">                                    window.PLOTLYENV=window.PLOTLYENV || {};                                    if (document.getElementById(\"33576423-e064-46f7-9318-ef51f77e1375\")) {                    Plotly.newPlot(                        \"33576423-e064-46f7-9318-ef51f77e1375\",                        [{\"hovertemplate\": \"Classification (Label)=Milk<br>0=%{x}<br>1=%{y}<extra></extra>\", \"legendgroup\": \"Milk\", \"marker\": {\"color\": \"#636EFA\", \"symbol\": \"circle\"}, \"mode\": \"markers\", \"name\": \"Milk\", \"orientation\": \"v\", \"showlegend\": true, \"type\": \"scatter\", \"x\": [45.29235076904297, -63.68681716918945, 25.179027557373047, 37.39008331298828, 25.179027557373047, -104.2158432006836, -136.7142333984375, -77.62852478027344, -109.58617401123047, -80.18372344970703, -104.2158432006836, -129.59324645996094, -112.60989379882812, -127.22047424316406, -72.58721923828125, 18.324411392211914, -127.90908813476562, 23.486618041992188, -120.52415466308594, -129.67051696777344, 89.13710021972656, 95.18315124511719, 36.69242858886719, 32.6850700378418, 138.48123168945312, 24.694856643676758, 144.2074432373047, 134.7993621826172, 144.031005859375, 144.2074432373047, 160.34854125976562], \"xaxis\": \"x\", \"y\": [-42.562618255615234, -101.97966766357422, -33.495689392089844, -35.16560745239258, -33.495689392089844, -32.4209098815918, -46.54668426513672, -94.34382629394531, -25.248605728149414, -101.97801971435547, -32.4209098815918, -28.823686599731445, -33.07465744018555, -34.746395111083984, -103.16105651855469, -36.261619567871094, -55.12750244140625, -46.801414489746094, -52.69989776611328, -61.82731246948242, -28.893396377563477, -27.7802734375, -96.27092742919922, -100.46786499023438, -32.31797790527344, 72.77040100097656, -72.40603637695312, -60.447998046875, -64.96826171875, -72.40603637695312, -28.131086349487305], \"yaxis\": \"y\"}, {\"hovertemplate\": \"Classification (Label)=Buttermilk<br>0=%{x}<br>1=%{y}<extra></extra>\", \"legendgroup\": \"Buttermilk\", \"marker\": {\"color\": \"#EF553B\", \"symbol\": \"circle\"}, \"mode\": \"markers\", \"name\": \"Buttermilk\", \"orientation\": \"v\", \"showlegend\": true, \"type\": \"scatter\", \"x\": [-7.91389274597168, -7.91389274597168, -0.646867573261261, 6.441808223724365], \"xaxis\": \"x\", \"y\": [-77.71649932861328, -77.71649932861328, -70.5543441772461, -63.12128448486328], \"yaxis\": \"y\"}, {\"hovertemplate\": \"Classification (Label)=Goat's milk<br>0=%{x}<br>1=%{y}<extra></extra>\", \"legendgroup\": \"Goat's milk\", \"marker\": {\"color\": \"#00CC96\", \"symbol\": \"circle\"}, \"mode\": \"markers\", \"name\": \"Goat's milk\", \"orientation\": \"v\", \"showlegend\": true, \"type\": \"scatter\", \"x\": [33.8321418762207], \"xaxis\": \"x\", \"y\": [-48.5389289855957], \"yaxis\": \"y\"}, {\"hovertemplate\": \"Classification (Label)=Non-dairy milk<br>0=%{x}<br>1=%{y}<extra></extra>\", \"legendgroup\": \"Non-dairy milk\", \"marker\": {\"color\": \"#AB63FA\", \"symbol\": \"circle\"}, \"mode\": \"markers\", \"name\": \"Non-dairy milk\", \"orientation\": \"v\", \"showlegend\": true, \"type\": \"scatter\", \"x\": [-17.69798469543457], \"xaxis\": \"x\", \"y\": [169.8326416015625], \"yaxis\": \"y\"}, {\"hovertemplate\": \"Classification (Label)=Soy milk<br>0=%{x}<br>1=%{y}<extra></extra>\", \"legendgroup\": \"Soy milk\", \"marker\": {\"color\": \"#FFA15A\", \"symbol\": \"circle\"}, \"mode\": \"markers\", \"name\": \"Soy milk\", \"orientation\": \"v\", \"showlegend\": true, \"type\": \"scatter\", \"x\": [-84.97864532470703, -43.620208740234375, -51.028648376464844, -78.68635559082031, -86.71687316894531, -86.71687316894531], \"xaxis\": \"x\", \"y\": [146.40663146972656, 161.99253845214844, 158.6436004638672, 149.3963623046875, 156.4776611328125, 156.4776611328125], \"yaxis\": \"y\"}, {\"hovertemplate\": \"Classification (Label)=Almond milk<br>0=%{x}<br>1=%{y}<extra></extra>\", \"legendgroup\": \"Almond milk\", \"marker\": {\"color\": \"#19D3F3\", \"symbol\": \"circle\"}, \"mode\": \"markers\", \"name\": \"Almond milk\", \"orientation\": \"v\", \"showlegend\": true, \"type\": \"scatter\", \"x\": [18.838268280029297, 11.755877494812012, 20.822038650512695, 13.38652229309082], \"xaxis\": \"x\", \"y\": [149.8905487060547, 147.72616577148438, 157.88552856445312, 157.35861206054688], \"yaxis\": \"y\"}, {\"hovertemplate\": \"Classification (Label)=Rice milk<br>0=%{x}<br>1=%{y}<extra></extra>\", \"legendgroup\": \"Rice milk\", \"marker\": {\"color\": \"#FF6692\", \"symbol\": \"circle\"}, \"mode\": \"markers\", \"name\": \"Rice milk\", \"orientation\": \"v\", \"showlegend\": true, \"type\": \"scatter\", \"x\": [-98.57908630371094], \"xaxis\": \"x\", \"y\": [-6.81862735748291], \"yaxis\": \"y\"}, {\"hovertemplate\": \"Classification (Label)=Coconut milk<br>0=%{x}<br>1=%{y}<extra></extra>\", \"legendgroup\": \"Coconut milk\", \"marker\": {\"color\": \"#B6E880\", \"symbol\": \"circle\"}, \"mode\": \"markers\", \"name\": \"Coconut milk\", \"orientation\": \"v\", \"showlegend\": true, \"type\": \"scatter\", \"x\": [-106.19957733154297, 99.06233978271484], \"xaxis\": \"x\", \"y\": [-1.9111558198928833, 0.7925710082054138], \"yaxis\": \"y\"}, {\"hovertemplate\": \"Classification (Label)=Chocolate milk<br>0=%{x}<br>1=%{y}<extra></extra>\", \"legendgroup\": \"Chocolate milk\", \"marker\": {\"color\": \"#FF97FF\", \"symbol\": \"circle\"}, \"mode\": \"markers\", \"name\": \"Chocolate milk\", \"orientation\": \"v\", \"showlegend\": true, \"type\": \"scatter\", \"x\": [76.15960693359375, 49.46347427368164, 57.323368072509766, 76.15960693359375, -34.85101318359375, -39.65717315673828, -33.090457916259766, 76.15960693359375, -40.58729553222656, 19.47520637512207, 37.5972785949707, 24.38911247253418, -8.880069732666016, -19.586233139038086, -30.617183685302734, 26.36170196533203, 18.929821014404297, 28.737957000732422, 42.71125030517578, 49.496585845947266, -20.824190139770508, 19.47520637512207, 39.645450592041016, 17.023305892944336, -9.7875394821167, -20.510360717773438, -30.617183685302734, 26.36170196533203, 13.834562301635742, 34.92041015625, 42.71125030517578, 49.496585845947266, -26.45378303527832, -21.275651931762695, 8.049980163574219, -26.323820114135742, -34.132179260253906, -36.57935333251953, -41.393070220947266, -41.73900604248047, 18.509981155395508, -41.50693130493164, -88.150146484375, -81.48372650146484, -32.12150192260742, -112.65672302246094, -106.00325775146484, -106.54195404052734, -115.49718475341797, -110.36458587646484, -27.726964950561523], \"xaxis\": \"x\", \"y\": [49.744354248046875, 20.95030975341797, 25.167083740234375, 49.744354248046875, -47.54428482055664, -61.64076614379883, -54.64937210083008, 49.744354248046875, -52.102169036865234, 53.711669921875, 19.925756454467773, 61.794490814208984, 73.3941879272461, 75.06297302246094, 181.3857421875, -163.6182098388672, -148.67434692382812, -172.5933074951172, -183.1495361328125, -191.47401428222656, 193.08566284179688, 53.711669921875, 14.256173133850098, 63.144012451171875, 67.02327728271484, 68.45254516601562, 181.3857421875, -163.6182098388672, -152.6964569091797, -167.26776123046875, -183.1495361328125, -191.47401428222656, 196.46282958984375, 14.037321090698242, 1.972235083580017, 10.501052856445312, 29.04012107849121, 37.233917236328125, 184.34715270996094, -11.989949226379395, -15.551939964294434, -6.029983043670654, -12.42147445678711, -13.614497184753418, 170.7807159423828, 65.07752990722656, 70.6884994506836, 60.97593688964844, 56.72520446777344, 51.529300689697266, 161.44935607910156], \"yaxis\": \"y\"}, {\"hovertemplate\": \"Classification (Label)=Strawberry milk<br>0=%{x}<br>1=%{y}<extra></extra>\", \"legendgroup\": \"Strawberry milk\", \"marker\": {\"color\": \"#FECB52\", \"symbol\": \"circle\"}, \"mode\": \"markers\", \"name\": \"Strawberry milk\", \"orientation\": \"v\", \"showlegend\": true, \"type\": \"scatter\", \"x\": [-69.75758361816406, 13.620512008666992, -33.71791076660156, -41.59794998168945, -44.01670455932617, -97.74993896484375, -39.921871185302734], \"xaxis\": \"x\", \"y\": [-94.78887176513672, -1.3523283004760742, 0.4454832077026367, 26.581512451171875, 35.238487243652344, -22.22939109802246, 176.77769470214844], \"yaxis\": \"y\"}, {\"hovertemplate\": \"Classification (Label)=Milk shake<br>0=%{x}<br>1=%{y}<extra></extra>\", \"legendgroup\": \"Milk shake\", \"marker\": {\"color\": \"rgb(127, 60, 141)\", \"symbol\": \"circle\"}, \"mode\": \"markers\", \"name\": \"Milk shake\", \"orientation\": \"v\", \"showlegend\": true, \"type\": \"scatter\", \"x\": [89.03059387207031, 82.74234008789062, 82.32193756103516, 17.21232032775879, 194.65867614746094, 186.16030883789062, 194.65867614746094, 191.5862274169922], \"xaxis\": \"x\", \"y\": [-1.8545215129852295, -6.577843189239502, 8.707584381103516, 7.7947211265563965, -17.060832977294922, -11.8533296585083, -17.060832977294922, -7.553891181945801], \"yaxis\": \"y\"}, {\"hovertemplate\": \"Classification (Label)=Milk shake with malt<br>0=%{x}<br>1=%{y}<extra></extra>\", \"legendgroup\": \"Milk shake with malt\", \"marker\": {\"color\": \"rgb(17, 165, 121)\", \"symbol\": \"circle\"}, \"mode\": \"markers\", \"name\": \"Milk shake with malt\", \"orientation\": \"v\", \"showlegend\": true, \"type\": \"scatter\", \"x\": [88.9585189819336], \"xaxis\": \"x\", \"y\": [-10.034000396728516], \"yaxis\": \"y\"}, {\"hovertemplate\": \"Classification (Label)=Chocolate milk drink<br>0=%{x}<br>1=%{y}<extra></extra>\", \"legendgroup\": \"Chocolate milk drink\", \"marker\": {\"color\": \"rgb(57, 105, 172)\", \"symbol\": \"circle\"}, \"mode\": \"markers\", \"name\": \"Chocolate milk drink\", \"orientation\": \"v\", \"showlegend\": true, \"type\": \"scatter\", \"x\": [-120.06137084960938], \"xaxis\": \"x\", \"y\": [46.339473724365234], \"yaxis\": \"y\"}, {\"hovertemplate\": \"Classification (Label)=Milk dessert or milk candy<br>0=%{x}<br>1=%{y}<extra></extra>\", \"legendgroup\": \"Milk dessert or milk candy\", \"marker\": {\"color\": \"rgb(242, 183, 1)\", \"symbol\": \"circle\"}, \"mode\": \"markers\", \"name\": \"Milk dessert or milk candy\", \"orientation\": \"v\", \"showlegend\": true, \"type\": \"scatter\", \"x\": [140.62062072753906], \"xaxis\": \"x\", \"y\": [-26.89405632019043], \"yaxis\": \"y\"}, {\"hovertemplate\": \"Classification (Label)=Milk 'n Cereal bar<br>0=%{x}<br>1=%{y}<extra></extra>\", \"legendgroup\": \"Milk 'n Cereal bar\", \"marker\": {\"color\": \"rgb(231, 63, 116)\", \"symbol\": \"circle\"}, \"mode\": \"markers\", \"name\": \"Milk 'n Cereal bar\", \"orientation\": \"v\", \"showlegend\": true, \"type\": \"scatter\", \"x\": [152.26829528808594], \"xaxis\": \"x\", \"y\": [-32.6296272277832], \"yaxis\": \"y\"}, {\"hovertemplate\": \"Classification (Label)=Nutrition bar (Tiger's Milk)<br>0=%{x}<br>1=%{y}<extra></extra>\", \"legendgroup\": \"Nutrition bar (Tiger's Milk)\", \"marker\": {\"color\": \"rgb(128, 186, 90)\", \"symbol\": \"circle\"}, \"mode\": \"markers\", \"name\": \"Nutrition bar (Tiger's Milk)\", \"orientation\": \"v\", \"showlegend\": true, \"type\": \"scatter\", \"x\": [156.4229736328125], \"xaxis\": \"x\", \"y\": [-42.25923538208008], \"yaxis\": \"y\"}, {\"hovertemplate\": \"Classification (Label)=Milk chocolate candy<br>0=%{x}<br>1=%{y}<extra></extra>\", \"legendgroup\": \"Milk chocolate candy\", \"marker\": {\"color\": \"rgb(230, 131, 16)\", \"symbol\": \"circle\"}, \"mode\": \"markers\", \"name\": \"Milk chocolate candy\", \"orientation\": \"v\", \"showlegend\": true, \"type\": \"scatter\", \"x\": [147.5884552001953, 142.73023986816406, 150.03106689453125, 155.65240478515625], \"xaxis\": \"x\", \"y\": [16.49644660949707, 11.340810775756836, 6.71920919418335, 13.974116325378418], \"yaxis\": \"y\"}, {\"hovertemplate\": \"Classification (Label)=M&M's Milk Chocolate Candies<br>0=%{x}<br>1=%{y}<extra></extra>\", \"legendgroup\": \"M&M's Milk Chocolate Candies\", \"marker\": {\"color\": \"rgb(0, 134, 149)\", \"symbol\": \"circle\"}, \"mode\": \"markers\", \"name\": \"M&M's Milk Chocolate Candies\", \"orientation\": \"v\", \"showlegend\": true, \"type\": \"scatter\", \"x\": [148.64976501464844], \"xaxis\": \"x\", \"y\": [-1.6760319471359253], \"yaxis\": \"y\"}, {\"hovertemplate\": \"Classification (Label)=Oatmeal beverage with milk<br>0=%{x}<br>1=%{y}<extra></extra>\", \"legendgroup\": \"Oatmeal beverage with milk\", \"marker\": {\"color\": \"rgb(207, 28, 144)\", \"symbol\": \"circle\"}, \"mode\": \"markers\", \"name\": \"Oatmeal beverage with milk\", \"orientation\": \"v\", \"showlegend\": true, \"type\": \"scatter\", \"x\": [-86.9427719116211], \"xaxis\": \"x\", \"y\": [49.830406188964844], \"yaxis\": \"y\"}, {\"hovertemplate\": \"Classification (Label)=Cornmeal beverage with chocolate milk<br>0=%{x}<br>1=%{y}<extra></extra>\", \"legendgroup\": \"Cornmeal beverage with chocolate milk\", \"marker\": {\"color\": \"rgb(249, 123, 114)\", \"symbol\": \"circle\"}, \"mode\": \"markers\", \"name\": \"Cornmeal beverage with chocolate milk\", \"orientation\": \"v\", \"showlegend\": true, \"type\": \"scatter\", \"x\": [-10.176589012145996], \"xaxis\": \"x\", \"y\": [12.183664321899414], \"yaxis\": \"y\"}, {\"hovertemplate\": \"Classification (Label)=Nutritional powder mix (Muscle Milk)<br>0=%{x}<br>1=%{y}<extra></extra>\", \"legendgroup\": \"Nutritional powder mix (Muscle Milk)\", \"marker\": {\"color\": \"rgb(165, 170, 153)\", \"symbol\": \"circle\"}, \"mode\": \"markers\", \"name\": \"Nutritional powder mix (Muscle Milk)\", \"orientation\": \"v\", \"showlegend\": true, \"type\": \"scatter\", \"x\": [156.72882080078125], \"xaxis\": \"x\", \"y\": [-52.20487594604492], \"yaxis\": \"y\"}],                        {\"legend\": {\"title\": {\"text\": \"Classification (Label)\"}, \"tracegroupgap\": 0}, \"margin\": {\"b\": 0, \"l\": 0, \"r\": 0, \"t\": 0}, \"template\": {\"data\": {\"bar\": [{\"error_x\": {\"color\": \"rgb(36,36,36)\"}, \"error_y\": {\"color\": \"rgb(36,36,36)\"}, \"marker\": {\"line\": {\"color\": \"white\", \"width\": 0.5}}, \"type\": \"bar\"}], \"barpolar\": [{\"marker\": {\"line\": {\"color\": \"white\", \"width\": 0.5}}, \"type\": \"barpolar\"}], \"carpet\": [{\"aaxis\": {\"endlinecolor\": \"rgb(36,36,36)\", \"gridcolor\": \"white\", \"linecolor\": \"white\", \"minorgridcolor\": \"white\", \"startlinecolor\": \"rgb(36,36,36)\"}, \"baxis\": {\"endlinecolor\": \"rgb(36,36,36)\", \"gridcolor\": \"white\", \"linecolor\": \"white\", \"minorgridcolor\": \"white\", \"startlinecolor\": \"rgb(36,36,36)\"}, \"type\": \"carpet\"}], \"choropleth\": [{\"colorbar\": {\"outlinewidth\": 1, \"tickcolor\": \"rgb(36,36,36)\", \"ticks\": \"outside\"}, \"type\": \"choropleth\"}], \"contour\": [{\"colorbar\": {\"outlinewidth\": 1, \"tickcolor\": \"rgb(36,36,36)\", \"ticks\": \"outside\"}, \"colorscale\": [[0.0, \"#440154\"], [0.1111111111111111, \"#482878\"], [0.2222222222222222, \"#3e4989\"], [0.3333333333333333, \"#31688e\"], [0.4444444444444444, \"#26828e\"], [0.5555555555555556, \"#1f9e89\"], [0.6666666666666666, \"#35b779\"], [0.7777777777777778, \"#6ece58\"], [0.8888888888888888, \"#b5de2b\"], [1.0, \"#fde725\"]], \"type\": \"contour\"}], \"contourcarpet\": [{\"colorbar\": {\"outlinewidth\": 1, \"tickcolor\": \"rgb(36,36,36)\", \"ticks\": \"outside\"}, \"type\": \"contourcarpet\"}], \"heatmap\": [{\"colorbar\": {\"outlinewidth\": 1, \"tickcolor\": \"rgb(36,36,36)\", \"ticks\": \"outside\"}, \"colorscale\": [[0.0, \"#440154\"], [0.1111111111111111, \"#482878\"], [0.2222222222222222, \"#3e4989\"], [0.3333333333333333, \"#31688e\"], [0.4444444444444444, \"#26828e\"], [0.5555555555555556, \"#1f9e89\"], [0.6666666666666666, \"#35b779\"], [0.7777777777777778, \"#6ece58\"], [0.8888888888888888, \"#b5de2b\"], [1.0, \"#fde725\"]], \"type\": \"heatmap\"}], \"heatmapgl\": [{\"colorbar\": {\"outlinewidth\": 1, \"tickcolor\": \"rgb(36,36,36)\", \"ticks\": \"outside\"}, \"colorscale\": [[0.0, \"#440154\"], [0.1111111111111111, \"#482878\"], [0.2222222222222222, \"#3e4989\"], [0.3333333333333333, \"#31688e\"], [0.4444444444444444, \"#26828e\"], [0.5555555555555556, \"#1f9e89\"], [0.6666666666666666, \"#35b779\"], [0.7777777777777778, \"#6ece58\"], [0.8888888888888888, \"#b5de2b\"], [1.0, \"#fde725\"]], \"type\": \"heatmapgl\"}], \"histogram\": [{\"marker\": {\"line\": {\"color\": \"white\", \"width\": 0.6}}, \"type\": \"histogram\"}], \"histogram2d\": [{\"colorbar\": {\"outlinewidth\": 1, \"tickcolor\": \"rgb(36,36,36)\", \"ticks\": \"outside\"}, \"colorscale\": [[0.0, \"#440154\"], [0.1111111111111111, \"#482878\"], [0.2222222222222222, \"#3e4989\"], [0.3333333333333333, \"#31688e\"], [0.4444444444444444, \"#26828e\"], [0.5555555555555556, \"#1f9e89\"], [0.6666666666666666, \"#35b779\"], [0.7777777777777778, \"#6ece58\"], [0.8888888888888888, \"#b5de2b\"], [1.0, \"#fde725\"]], \"type\": \"histogram2d\"}], \"histogram2dcontour\": [{\"colorbar\": {\"outlinewidth\": 1, \"tickcolor\": \"rgb(36,36,36)\", \"ticks\": \"outside\"}, \"colorscale\": [[0.0, \"#440154\"], [0.1111111111111111, \"#482878\"], [0.2222222222222222, \"#3e4989\"], [0.3333333333333333, \"#31688e\"], [0.4444444444444444, \"#26828e\"], [0.5555555555555556, \"#1f9e89\"], [0.6666666666666666, \"#35b779\"], [0.7777777777777778, \"#6ece58\"], [0.8888888888888888, \"#b5de2b\"], [1.0, \"#fde725\"]], \"type\": \"histogram2dcontour\"}], \"mesh3d\": [{\"colorbar\": {\"outlinewidth\": 1, \"tickcolor\": \"rgb(36,36,36)\", \"ticks\": \"outside\"}, \"type\": \"mesh3d\"}], \"parcoords\": [{\"line\": {\"colorbar\": {\"outlinewidth\": 1, \"tickcolor\": \"rgb(36,36,36)\", \"ticks\": \"outside\"}}, \"type\": \"parcoords\"}], \"pie\": [{\"automargin\": true, \"type\": \"pie\"}], \"scatter\": [{\"marker\": {\"colorbar\": {\"outlinewidth\": 1, \"tickcolor\": \"rgb(36,36,36)\", \"ticks\": \"outside\"}}, \"type\": \"scatter\"}], \"scatter3d\": [{\"line\": {\"colorbar\": {\"outlinewidth\": 1, \"tickcolor\": \"rgb(36,36,36)\", \"ticks\": \"outside\"}}, \"marker\": {\"colorbar\": {\"outlinewidth\": 1, \"tickcolor\": \"rgb(36,36,36)\", \"ticks\": \"outside\"}}, \"type\": \"scatter3d\"}], \"scattercarpet\": [{\"marker\": {\"colorbar\": {\"outlinewidth\": 1, \"tickcolor\": \"rgb(36,36,36)\", \"ticks\": \"outside\"}}, \"type\": \"scattercarpet\"}], \"scattergeo\": [{\"marker\": {\"colorbar\": {\"outlinewidth\": 1, \"tickcolor\": \"rgb(36,36,36)\", \"ticks\": \"outside\"}}, \"type\": \"scattergeo\"}], \"scattergl\": [{\"marker\": {\"colorbar\": {\"outlinewidth\": 1, \"tickcolor\": \"rgb(36,36,36)\", \"ticks\": \"outside\"}}, \"type\": \"scattergl\"}], \"scattermapbox\": [{\"marker\": {\"colorbar\": {\"outlinewidth\": 1, \"tickcolor\": \"rgb(36,36,36)\", \"ticks\": \"outside\"}}, \"type\": \"scattermapbox\"}], \"scatterpolar\": [{\"marker\": {\"colorbar\": {\"outlinewidth\": 1, \"tickcolor\": \"rgb(36,36,36)\", \"ticks\": \"outside\"}}, \"type\": \"scatterpolar\"}], \"scatterpolargl\": [{\"marker\": {\"colorbar\": {\"outlinewidth\": 1, \"tickcolor\": \"rgb(36,36,36)\", \"ticks\": \"outside\"}}, \"type\": \"scatterpolargl\"}], \"scatterternary\": [{\"marker\": {\"colorbar\": {\"outlinewidth\": 1, \"tickcolor\": \"rgb(36,36,36)\", \"ticks\": \"outside\"}}, \"type\": \"scatterternary\"}], \"surface\": [{\"colorbar\": {\"outlinewidth\": 1, \"tickcolor\": \"rgb(36,36,36)\", \"ticks\": \"outside\"}, \"colorscale\": [[0.0, \"#440154\"], [0.1111111111111111, \"#482878\"], [0.2222222222222222, \"#3e4989\"], [0.3333333333333333, \"#31688e\"], [0.4444444444444444, \"#26828e\"], [0.5555555555555556, \"#1f9e89\"], [0.6666666666666666, \"#35b779\"], [0.7777777777777778, \"#6ece58\"], [0.8888888888888888, \"#b5de2b\"], [1.0, \"#fde725\"]], \"type\": \"surface\"}], \"table\": [{\"cells\": {\"fill\": {\"color\": \"rgb(237,237,237)\"}, \"line\": {\"color\": \"white\"}}, \"header\": {\"fill\": {\"color\": \"rgb(217,217,217)\"}, \"line\": {\"color\": \"white\"}}, \"type\": \"table\"}]}, \"layout\": {\"annotationdefaults\": {\"arrowhead\": 0, \"arrowwidth\": 1}, \"autotypenumbers\": \"strict\", \"coloraxis\": {\"colorbar\": {\"outlinewidth\": 1, \"tickcolor\": \"rgb(36,36,36)\", \"ticks\": \"outside\"}}, \"colorscale\": {\"diverging\": [[0.0, \"rgb(103,0,31)\"], [0.1, \"rgb(178,24,43)\"], [0.2, \"rgb(214,96,77)\"], [0.3, \"rgb(244,165,130)\"], [0.4, \"rgb(253,219,199)\"], [0.5, \"rgb(247,247,247)\"], [0.6, \"rgb(209,229,240)\"], [0.7, \"rgb(146,197,222)\"], [0.8, \"rgb(67,147,195)\"], [0.9, \"rgb(33,102,172)\"], [1.0, \"rgb(5,48,97)\"]], \"sequential\": [[0.0, \"#440154\"], [0.1111111111111111, \"#482878\"], [0.2222222222222222, \"#3e4989\"], [0.3333333333333333, \"#31688e\"], [0.4444444444444444, \"#26828e\"], [0.5555555555555556, \"#1f9e89\"], [0.6666666666666666, \"#35b779\"], [0.7777777777777778, \"#6ece58\"], [0.8888888888888888, \"#b5de2b\"], [1.0, \"#fde725\"]], \"sequentialminus\": [[0.0, \"#440154\"], [0.1111111111111111, \"#482878\"], [0.2222222222222222, \"#3e4989\"], [0.3333333333333333, \"#31688e\"], [0.4444444444444444, \"#26828e\"], [0.5555555555555556, \"#1f9e89\"], [0.6666666666666666, \"#35b779\"], [0.7777777777777778, \"#6ece58\"], [0.8888888888888888, \"#b5de2b\"], [1.0, \"#fde725\"]]}, \"colorway\": [\"#1F77B4\", \"#FF7F0E\", \"#2CA02C\", \"#D62728\", \"#9467BD\", \"#8C564B\", \"#E377C2\", \"#7F7F7F\", \"#BCBD22\", \"#17BECF\"], \"font\": {\"color\": \"rgb(36,36,36)\"}, \"geo\": {\"bgcolor\": \"white\", \"lakecolor\": \"white\", \"landcolor\": \"white\", \"showlakes\": true, \"showland\": true, \"subunitcolor\": \"white\"}, \"hoverlabel\": {\"align\": \"left\"}, \"hovermode\": \"closest\", \"mapbox\": {\"style\": \"light\"}, \"paper_bgcolor\": \"white\", \"plot_bgcolor\": \"white\", \"polar\": {\"angularaxis\": {\"gridcolor\": \"rgb(232,232,232)\", \"linecolor\": \"rgb(36,36,36)\", \"showgrid\": false, \"showline\": true, \"ticks\": \"outside\"}, \"bgcolor\": \"white\", \"radialaxis\": {\"gridcolor\": \"rgb(232,232,232)\", \"linecolor\": \"rgb(36,36,36)\", \"showgrid\": false, \"showline\": true, \"ticks\": \"outside\"}}, \"scene\": {\"xaxis\": {\"backgroundcolor\": \"white\", \"gridcolor\": \"rgb(232,232,232)\", \"gridwidth\": 2, \"linecolor\": \"rgb(36,36,36)\", \"showbackground\": true, \"showgrid\": false, \"showline\": true, \"ticks\": \"outside\", \"zeroline\": false, \"zerolinecolor\": \"rgb(36,36,36)\"}, \"yaxis\": {\"backgroundcolor\": \"white\", \"gridcolor\": \"rgb(232,232,232)\", \"gridwidth\": 2, \"linecolor\": \"rgb(36,36,36)\", \"showbackground\": true, \"showgrid\": false, \"showline\": true, \"ticks\": \"outside\", \"zeroline\": false, \"zerolinecolor\": \"rgb(36,36,36)\"}, \"zaxis\": {\"backgroundcolor\": \"white\", \"gridcolor\": \"rgb(232,232,232)\", \"gridwidth\": 2, \"linecolor\": \"rgb(36,36,36)\", \"showbackground\": true, \"showgrid\": false, \"showline\": true, \"ticks\": \"outside\", \"zeroline\": false, \"zerolinecolor\": \"rgb(36,36,36)\"}}, \"shapedefaults\": {\"fillcolor\": \"black\", \"line\": {\"width\": 0}, \"opacity\": 0.3}, \"ternary\": {\"aaxis\": {\"gridcolor\": \"rgb(232,232,232)\", \"linecolor\": \"rgb(36,36,36)\", \"showgrid\": false, \"showline\": true, \"ticks\": \"outside\"}, \"baxis\": {\"gridcolor\": \"rgb(232,232,232)\", \"linecolor\": \"rgb(36,36,36)\", \"showgrid\": false, \"showline\": true, \"ticks\": \"outside\"}, \"bgcolor\": \"white\", \"caxis\": {\"gridcolor\": \"rgb(232,232,232)\", \"linecolor\": \"rgb(36,36,36)\", \"showgrid\": false, \"showline\": true, \"ticks\": \"outside\"}}, \"title\": {\"x\": 0.05}, \"xaxis\": {\"automargin\": true, \"gridcolor\": \"rgb(232,232,232)\", \"linecolor\": \"rgb(36,36,36)\", \"showgrid\": false, \"showline\": true, \"ticks\": \"outside\", \"title\": {\"standoff\": 15}, \"zeroline\": false, \"zerolinecolor\": \"rgb(36,36,36)\"}, \"yaxis\": {\"automargin\": true, \"gridcolor\": \"rgb(232,232,232)\", \"linecolor\": \"rgb(36,36,36)\", \"showgrid\": false, \"showline\": true, \"ticks\": \"outside\", \"title\": {\"standoff\": 15}, \"zeroline\": false, \"zerolinecolor\": \"rgb(36,36,36)\"}}}, \"width\": 800, \"xaxis\": {\"anchor\": \"y\", \"domain\": [0.0, 1.0], \"title\": {\"text\": \"0\"}, \"visible\": false}, \"yaxis\": {\"anchor\": \"x\", \"domain\": [0.0, 1.0], \"title\": {\"text\": \"1\"}, \"visible\": false}},                        {\"responsive\": true}                    ).then(function(){\n",
              "                            \n",
              "var gd = document.getElementById('33576423-e064-46f7-9318-ef51f77e1375');\n",
              "var x = new MutationObserver(function (mutations, observer) {{\n",
              "        var display = window.getComputedStyle(gd).display;\n",
              "        if (!display || display === 'none') {{\n",
              "            console.log([gd, 'removed!']);\n",
              "            Plotly.purge(gd);\n",
              "            observer.disconnect();\n",
              "        }}\n",
              "}});\n",
              "\n",
              "// Listen for the removal of the full notebook cells\n",
              "var notebookContainer = gd.closest('#notebook-container');\n",
              "if (notebookContainer) {{\n",
              "    x.observe(notebookContainer, {childList: true});\n",
              "}}\n",
              "\n",
              "// Listen for the clearing of the current output cell\n",
              "var outputEl = gd.closest('.output');\n",
              "if (outputEl) {{\n",
              "    x.observe(outputEl, {childList: true});\n",
              "}}\n",
              "\n",
              "                        })                };                            </script>        </div>\n",
              "</body>\n",
              "</html>"
            ]
          },
          "metadata": {}
        }
      ]
    },
    {
      "cell_type": "markdown",
      "source": [
        "## TriMap\n",
        "\n",
        "Triplets Mapping (TriMap) is a dimensionality reduction method that uses triplet constraints to form a low-dimensional embedding of a set of points. The triplet constraints are of the form “point i is closer to point j than point k”. The triplets are sampled from the high-dimensional representation of the points and a weighting scheme is used to reflect the importance of each triplet.\n",
        "\n",
        "https://github.com/eamid/trimap\n"
      ],
      "metadata": {
        "id": "6mRo2tBNGORe"
      }
    },
    {
      "cell_type": "code",
      "source": [
        "X_trimap = trimap.TRIMAP(n_dims=2, n_inliers=15).fit_transform(xscaled)\n",
        "\n",
        "fig = px.scatter(\n",
        "    X_trimap, \n",
        "    x=0, \n",
        "    y=1, \n",
        "    color=labels.astype(object), \n",
        "    template=\"simple_white\",\n",
        "    labels={ \n",
        "      \"color\": \"Classification (Label)\"\n",
        "    },\n",
        "    color_discrete_sequence= px.colors.qualitative.Plotly + px.colors.qualitative.Bold,\n",
        "    width=800)\n",
        "\n",
        "fig.update_layout(xaxis={'visible': False},\n",
        "                  yaxis={'visible': False},\n",
        "                  margin=dict(l=0,r=0,b=0,t=0))\n",
        "\n",
        "fig.show()\n",
        "fig.write_image('imgs/TRIMAP_USDA.eps', format='eps')"
      ],
      "metadata": {
        "colab": {
          "base_uri": "https://localhost:8080/",
          "height": 542
        },
        "id": "qKPkXH31GeVc",
        "outputId": "767dd927-41ad-4ab3-c4be-fc11b79e5f15"
      },
      "execution_count": 45,
      "outputs": [
        {
          "output_type": "display_data",
          "data": {
            "text/html": [
              "<html>\n",
              "<head><meta charset=\"utf-8\" /></head>\n",
              "<body>\n",
              "    <div>            <script src=\"https://cdnjs.cloudflare.com/ajax/libs/mathjax/2.7.5/MathJax.js?config=TeX-AMS-MML_SVG\"></script><script type=\"text/javascript\">if (window.MathJax) {MathJax.Hub.Config({SVG: {font: \"STIX-Web\"}});}</script>                <script type=\"text/javascript\">window.PlotlyConfig = {MathJaxConfig: 'local'};</script>\n",
              "        <script src=\"https://cdn.plot.ly/plotly-latest.min.js\"></script>                <div id=\"8e92fec8-f5b7-4aca-97f2-25866dccb623\" class=\"plotly-graph-div\" style=\"height:525px; width:800px;\"></div>            <script type=\"text/javascript\">                                    window.PLOTLYENV=window.PLOTLYENV || {};                                    if (document.getElementById(\"8e92fec8-f5b7-4aca-97f2-25866dccb623\")) {                    Plotly.newPlot(                        \"8e92fec8-f5b7-4aca-97f2-25866dccb623\",                        [{\"hovertemplate\": \"Classification (Label)=Milk<br>0=%{x}<br>1=%{y}<extra></extra>\", \"legendgroup\": \"Milk\", \"marker\": {\"color\": \"#636EFA\", \"symbol\": \"circle\"}, \"mode\": \"markers\", \"name\": \"Milk\", \"orientation\": \"v\", \"showlegend\": true, \"type\": \"scatter\", \"x\": [12.518441200256348, -33.354244232177734, 1.1544499397277832, 1.6686079502105713, 0.39485570788383484, -32.08281326293945, -21.186338424682617, -35.27878952026367, -31.46334457397461, -34.0777587890625, -31.46150779724121, -26.740934371948242, -31.27741050720215, -28.563573837280273, -34.90244674682617, -0.022173363715410233, -24.264062881469727, 1.6370691061019897, -24.81890296936035, -22.951078414916992, 54.18190002441406, 53.64438247680664, 24.543542861938477, 21.496417999267578, 64.17131805419922, -11.672225952148438, 68.86991882324219, 69.85432434082031, 68.9601058959961, 69.3172378540039, 65.708984375], \"xaxis\": \"x\", \"y\": [-8.67730712890625, -4.2026824951171875, -9.5518217086792, -9.488065719604492, -9.284103393554688, -0.3452032208442688, 5.47166109085083, -3.621805429458618, -0.16711048781871796, -3.591261863708496, 0.03258521482348442, 1.880353569984436, 0.21290691196918488, 1.9476171731948853, -3.2659215927124023, -8.489751815795898, 3.382565498352051, -9.775823593139648, 2.8379642963409424, 3.340953826904297, -6.411078453063965, -6.593240261077881, -2.2209115028381348, 2.6040685176849365, -5.5686726570129395, -12.949932098388672, -6.42191219329834, -5.495233058929443, -6.723814487457275, -6.0059590339660645, -6.617544651031494], \"yaxis\": \"y\"}, {\"hovertemplate\": \"Classification (Label)=Buttermilk<br>0=%{x}<br>1=%{y}<extra></extra>\", \"legendgroup\": \"Buttermilk\", \"marker\": {\"color\": \"#EF553B\", \"symbol\": \"circle\"}, \"mode\": \"markers\", \"name\": \"Buttermilk\", \"orientation\": \"v\", \"showlegend\": true, \"type\": \"scatter\", \"x\": [-11.464598655700684, -10.764053344726562, -10.97213077545166, 1.228574275970459], \"xaxis\": \"x\", \"y\": [1.8635023832321167, 4.093891143798828, 0.7508383989334106, -6.8870134353637695], \"yaxis\": \"y\"}, {\"hovertemplate\": \"Classification (Label)=Goat's milk<br>0=%{x}<br>1=%{y}<extra></extra>\", \"legendgroup\": \"Goat's milk\", \"marker\": {\"color\": \"#00CC96\", \"symbol\": \"circle\"}, \"mode\": \"markers\", \"name\": \"Goat's milk\", \"orientation\": \"v\", \"showlegend\": true, \"type\": \"scatter\", \"x\": [5.062620162963867], \"xaxis\": \"x\", \"y\": [-9.15748119354248], \"yaxis\": \"y\"}, {\"hovertemplate\": \"Classification (Label)=Non-dairy milk<br>0=%{x}<br>1=%{y}<extra></extra>\", \"legendgroup\": \"Non-dairy milk\", \"marker\": {\"color\": \"#AB63FA\", \"symbol\": \"circle\"}, \"mode\": \"markers\", \"name\": \"Non-dairy milk\", \"orientation\": \"v\", \"showlegend\": true, \"type\": \"scatter\", \"x\": [-16.13411521911621], \"xaxis\": \"x\", \"y\": [45.219932556152344], \"yaxis\": \"y\"}, {\"hovertemplate\": \"Classification (Label)=Soy milk<br>0=%{x}<br>1=%{y}<extra></extra>\", \"legendgroup\": \"Soy milk\", \"marker\": {\"color\": \"#FFA15A\", \"symbol\": \"circle\"}, \"mode\": \"markers\", \"name\": \"Soy milk\", \"orientation\": \"v\", \"showlegend\": true, \"type\": \"scatter\", \"x\": [-15.6131010055542, -16.41057777404785, -15.761533737182617, -15.591455459594727, -14.95495891571045, -15.581013679504395], \"xaxis\": \"x\", \"y\": [54.39893341064453, 52.27995300292969, 53.76923751831055, 54.28889465332031, 56.555389404296875, 54.32521057128906], \"yaxis\": \"y\"}, {\"hovertemplate\": \"Classification (Label)=Almond milk<br>0=%{x}<br>1=%{y}<extra></extra>\", \"legendgroup\": \"Almond milk\", \"marker\": {\"color\": \"#19D3F3\", \"symbol\": \"circle\"}, \"mode\": \"markers\", \"name\": \"Almond milk\", \"orientation\": \"v\", \"showlegend\": true, \"type\": \"scatter\", \"x\": [-16.16750717163086, -16.45366668701172, -15.788437843322754, -16.034820556640625], \"xaxis\": \"x\", \"y\": [41.24029541015625, 40.61066818237305, 38.6971321105957, 39.3133659362793], \"yaxis\": \"y\"}, {\"hovertemplate\": \"Classification (Label)=Rice milk<br>0=%{x}<br>1=%{y}<extra></extra>\", \"legendgroup\": \"Rice milk\", \"marker\": {\"color\": \"#FF6692\", \"symbol\": \"circle\"}, \"mode\": \"markers\", \"name\": \"Rice milk\", \"orientation\": \"v\", \"showlegend\": true, \"type\": \"scatter\", \"x\": [-16.74886703491211], \"xaxis\": \"x\", \"y\": [35.861778259277344], \"yaxis\": \"y\"}, {\"hovertemplate\": \"Classification (Label)=Coconut milk<br>0=%{x}<br>1=%{y}<extra></extra>\", \"legendgroup\": \"Coconut milk\", \"marker\": {\"color\": \"#B6E880\", \"symbol\": \"circle\"}, \"mode\": \"markers\", \"name\": \"Coconut milk\", \"orientation\": \"v\", \"showlegend\": true, \"type\": \"scatter\", \"x\": [-16.121755599975586, 59.95917510986328], \"xaxis\": \"x\", \"y\": [35.17703628540039, -4.640751361846924], \"yaxis\": \"y\"}, {\"hovertemplate\": \"Classification (Label)=Chocolate milk<br>0=%{x}<br>1=%{y}<extra></extra>\", \"legendgroup\": \"Chocolate milk\", \"marker\": {\"color\": \"#FF97FF\", \"symbol\": \"circle\"}, \"mode\": \"markers\", \"name\": \"Chocolate milk\", \"orientation\": \"v\", \"showlegend\": true, \"type\": \"scatter\", \"x\": [-8.41532039642334, 1.5288819074630737, 4.777012825012207, -8.691015243530273, -12.974909782409668, -14.513564109802246, -12.665437698364258, -9.043164253234863, -13.355952262878418, -14.574554443359375, -2.441333293914795, -15.21285629272461, -18.31865882873535, -18.21451187133789, -16.86086654663086, -9.637402534484863, -8.973419189453125, -11.063958168029785, -11.245144844055176, -12.759705543518066, -16.323461532592773, -13.623065948486328, -2.0375826358795166, -14.901066780090332, -17.304317474365234, -18.18638038635254, -16.30974769592285, -10.280965805053711, -7.2452802658081055, -11.68740177154541, -12.171165466308594, -13.004652976989746, -16.028127670288086, -14.728717803955078, -4.898078918457031, -15.037678718566895, -16.94497299194336, -15.976492881774902, -15.963723182678223, -18.320711135864258, -1.7269421815872192, -17.84295654296875, -20.072690963745117, -24.3131046295166, -16.37676239013672, -7.8443474769592285, 2.044617176055908, -7.569889545440674, -8.98816204071045, -9.008387565612793, -15.893548011779785], \"xaxis\": \"x\", \"y\": [-4.449914455413818, -11.873361587524414, -11.447230339050293, -3.7686221599578857, -3.4664764404296875, 0.3758993148803711, -3.4545538425445557, -3.7040514945983887, -2.9576590061187744, -12.662338256835938, -12.669958114624023, -12.74035930633545, -10.772119522094727, -11.031295776367188, 49.35258483886719, -31.19964027404785, -30.44064712524414, -32.207069396972656, -31.878768920898438, -33.33672332763672, 48.14046859741211, -12.713789939880371, -12.186305046081543, -12.911553382873535, -11.848234176635742, -11.778097152709961, 49.8901252746582, -31.990886688232422, -28.539762496948242, -32.291343688964844, -32.43036651611328, -33.63433074951172, 50.007633209228516, -10.091572761535645, -11.646646499633789, -8.889287948608398, -9.2985258102417, -8.966832160949707, 48.992515563964844, -8.188011169433594, -11.22216796875, -8.064895629882812, -7.490262985229492, -2.8837971687316895, 48.905147552490234, 7.914120197296143, -4.408123016357422, 7.9947190284729, 8.147573471069336, 7.952242374420166, 48.61284255981445], \"yaxis\": \"y\"}, {\"hovertemplate\": \"Classification (Label)=Strawberry milk<br>0=%{x}<br>1=%{y}<extra></extra>\", \"legendgroup\": \"Strawberry milk\", \"marker\": {\"color\": \"#FECB52\", \"symbol\": \"circle\"}, \"mode\": \"markers\", \"name\": \"Strawberry milk\", \"orientation\": \"v\", \"showlegend\": true, \"type\": \"scatter\", \"x\": [-33.520267486572266, -2.820150136947632, -14.957113265991211, -18.355144500732422, -18.219005584716797, -30.582212448120117, -16.934492111206055], \"xaxis\": \"x\", \"y\": [-4.5756378173828125, -12.144055366516113, -11.984922409057617, -10.062724113464355, -11.103331565856934, -0.3116382658481598, 49.19482421875], \"yaxis\": \"y\"}, {\"hovertemplate\": \"Classification (Label)=Milk shake<br>0=%{x}<br>1=%{y}<extra></extra>\", \"legendgroup\": \"Milk shake\", \"marker\": {\"color\": \"rgb(127, 60, 141)\", \"symbol\": \"circle\"}, \"mode\": \"markers\", \"name\": \"Milk shake\", \"orientation\": \"v\", \"showlegend\": true, \"type\": \"scatter\", \"x\": [19.710922241210938, 10.394736289978027, 23.604251861572266, -4.531607151031494, 57.535911560058594, 57.6548957824707, 58.03807830810547, 56.857784271240234], \"xaxis\": \"x\", \"y\": [-9.500969886779785, -10.42119026184082, -9.116942405700684, -12.441643714904785, -5.256252288818359, -6.100732326507568, -6.679058074951172, -4.909103870391846], \"yaxis\": \"y\"}, {\"hovertemplate\": \"Classification (Label)=Milk shake with malt<br>0=%{x}<br>1=%{y}<extra></extra>\", \"legendgroup\": \"Milk shake with malt\", \"marker\": {\"color\": \"rgb(17, 165, 121)\", \"symbol\": \"circle\"}, \"mode\": \"markers\", \"name\": \"Milk shake with malt\", \"orientation\": \"v\", \"showlegend\": true, \"type\": \"scatter\", \"x\": [24.57407569885254], \"xaxis\": \"x\", \"y\": [-8.867834091186523], \"yaxis\": \"y\"}, {\"hovertemplate\": \"Classification (Label)=Chocolate milk drink<br>0=%{x}<br>1=%{y}<extra></extra>\", \"legendgroup\": \"Chocolate milk drink\", \"marker\": {\"color\": \"rgb(57, 105, 172)\", \"symbol\": \"circle\"}, \"mode\": \"markers\", \"name\": \"Chocolate milk drink\", \"orientation\": \"v\", \"showlegend\": true, \"type\": \"scatter\", \"x\": [-12.972058296203613], \"xaxis\": \"x\", \"y\": [30.92043113708496], \"yaxis\": \"y\"}, {\"hovertemplate\": \"Classification (Label)=Milk dessert or milk candy<br>0=%{x}<br>1=%{y}<extra></extra>\", \"legendgroup\": \"Milk dessert or milk candy\", \"marker\": {\"color\": \"rgb(242, 183, 1)\", \"symbol\": \"circle\"}, \"mode\": \"markers\", \"name\": \"Milk dessert or milk candy\", \"orientation\": \"v\", \"showlegend\": true, \"type\": \"scatter\", \"x\": [64.21744537353516], \"xaxis\": \"x\", \"y\": [-5.546267986297607], \"yaxis\": \"y\"}, {\"hovertemplate\": \"Classification (Label)=Milk 'n Cereal bar<br>0=%{x}<br>1=%{y}<extra></extra>\", \"legendgroup\": \"Milk 'n Cereal bar\", \"marker\": {\"color\": \"rgb(231, 63, 116)\", \"symbol\": \"circle\"}, \"mode\": \"markers\", \"name\": \"Milk 'n Cereal bar\", \"orientation\": \"v\", \"showlegend\": true, \"type\": \"scatter\", \"x\": [65.24459075927734], \"xaxis\": \"x\", \"y\": [-5.684196949005127], \"yaxis\": \"y\"}, {\"hovertemplate\": \"Classification (Label)=Nutrition bar (Tiger's Milk)<br>0=%{x}<br>1=%{y}<extra></extra>\", \"legendgroup\": \"Nutrition bar (Tiger's Milk)\", \"marker\": {\"color\": \"rgb(128, 186, 90)\", \"symbol\": \"circle\"}, \"mode\": \"markers\", \"name\": \"Nutrition bar (Tiger's Milk)\", \"orientation\": \"v\", \"showlegend\": true, \"type\": \"scatter\", \"x\": [69.5649642944336], \"xaxis\": \"x\", \"y\": [-4.674427509307861], \"yaxis\": \"y\"}, {\"hovertemplate\": \"Classification (Label)=Milk chocolate candy<br>0=%{x}<br>1=%{y}<extra></extra>\", \"legendgroup\": \"Milk chocolate candy\", \"marker\": {\"color\": \"rgb(230, 131, 16)\", \"symbol\": \"circle\"}, \"mode\": \"markers\", \"name\": \"Milk chocolate candy\", \"orientation\": \"v\", \"showlegend\": true, \"type\": \"scatter\", \"x\": [66.01431274414062, 66.45054626464844, 65.9171371459961, 69.39118194580078], \"xaxis\": \"x\", \"y\": [-4.184598445892334, -4.050955772399902, -3.9704954624176025, -3.099722146987915], \"yaxis\": \"y\"}, {\"hovertemplate\": \"Classification (Label)=M&M's Milk Chocolate Candies<br>0=%{x}<br>1=%{y}<extra></extra>\", \"legendgroup\": \"M&M's Milk Chocolate Candies\", \"marker\": {\"color\": \"rgb(0, 134, 149)\", \"symbol\": \"circle\"}, \"mode\": \"markers\", \"name\": \"M&M's Milk Chocolate Candies\", \"orientation\": \"v\", \"showlegend\": true, \"type\": \"scatter\", \"x\": [65.48869323730469], \"xaxis\": \"x\", \"y\": [-4.801578998565674], \"yaxis\": \"y\"}, {\"hovertemplate\": \"Classification (Label)=Oatmeal beverage with milk<br>0=%{x}<br>1=%{y}<extra></extra>\", \"legendgroup\": \"Oatmeal beverage with milk\", \"marker\": {\"color\": \"rgb(207, 28, 144)\", \"symbol\": \"circle\"}, \"mode\": \"markers\", \"name\": \"Oatmeal beverage with milk\", \"orientation\": \"v\", \"showlegend\": true, \"type\": \"scatter\", \"x\": [75.17452239990234], \"xaxis\": \"x\", \"y\": [10.861100196838379], \"yaxis\": \"y\"}, {\"hovertemplate\": \"Classification (Label)=Cornmeal beverage with chocolate milk<br>0=%{x}<br>1=%{y}<extra></extra>\", \"legendgroup\": \"Cornmeal beverage with chocolate milk\", \"marker\": {\"color\": \"rgb(249, 123, 114)\", \"symbol\": \"circle\"}, \"mode\": \"markers\", \"name\": \"Cornmeal beverage with chocolate milk\", \"orientation\": \"v\", \"showlegend\": true, \"type\": \"scatter\", \"x\": [20.732133865356445], \"xaxis\": \"x\", \"y\": [-8.18867301940918], \"yaxis\": \"y\"}, {\"hovertemplate\": \"Classification (Label)=Nutritional powder mix (Muscle Milk)<br>0=%{x}<br>1=%{y}<extra></extra>\", \"legendgroup\": \"Nutritional powder mix (Muscle Milk)\", \"marker\": {\"color\": \"rgb(165, 170, 153)\", \"symbol\": \"circle\"}, \"mode\": \"markers\", \"name\": \"Nutritional powder mix (Muscle Milk)\", \"orientation\": \"v\", \"showlegend\": true, \"type\": \"scatter\", \"x\": [69.70254516601562], \"xaxis\": \"x\", \"y\": [-5.491330623626709], \"yaxis\": \"y\"}],                        {\"legend\": {\"title\": {\"text\": \"Classification (Label)\"}, \"tracegroupgap\": 0}, \"margin\": {\"b\": 0, \"l\": 0, \"r\": 0, \"t\": 0}, \"template\": {\"data\": {\"bar\": [{\"error_x\": {\"color\": \"rgb(36,36,36)\"}, \"error_y\": {\"color\": \"rgb(36,36,36)\"}, \"marker\": {\"line\": {\"color\": \"white\", \"width\": 0.5}}, \"type\": \"bar\"}], \"barpolar\": [{\"marker\": {\"line\": {\"color\": \"white\", \"width\": 0.5}}, \"type\": \"barpolar\"}], \"carpet\": [{\"aaxis\": {\"endlinecolor\": \"rgb(36,36,36)\", \"gridcolor\": \"white\", \"linecolor\": \"white\", \"minorgridcolor\": \"white\", \"startlinecolor\": \"rgb(36,36,36)\"}, \"baxis\": {\"endlinecolor\": \"rgb(36,36,36)\", \"gridcolor\": \"white\", \"linecolor\": \"white\", \"minorgridcolor\": \"white\", \"startlinecolor\": \"rgb(36,36,36)\"}, \"type\": \"carpet\"}], \"choropleth\": [{\"colorbar\": {\"outlinewidth\": 1, \"tickcolor\": \"rgb(36,36,36)\", \"ticks\": \"outside\"}, \"type\": \"choropleth\"}], \"contour\": [{\"colorbar\": {\"outlinewidth\": 1, \"tickcolor\": \"rgb(36,36,36)\", \"ticks\": \"outside\"}, \"colorscale\": [[0.0, \"#440154\"], [0.1111111111111111, \"#482878\"], [0.2222222222222222, \"#3e4989\"], [0.3333333333333333, \"#31688e\"], [0.4444444444444444, \"#26828e\"], [0.5555555555555556, \"#1f9e89\"], [0.6666666666666666, \"#35b779\"], [0.7777777777777778, \"#6ece58\"], [0.8888888888888888, \"#b5de2b\"], [1.0, \"#fde725\"]], \"type\": \"contour\"}], \"contourcarpet\": [{\"colorbar\": {\"outlinewidth\": 1, \"tickcolor\": \"rgb(36,36,36)\", \"ticks\": \"outside\"}, \"type\": \"contourcarpet\"}], \"heatmap\": [{\"colorbar\": {\"outlinewidth\": 1, \"tickcolor\": \"rgb(36,36,36)\", \"ticks\": \"outside\"}, \"colorscale\": [[0.0, \"#440154\"], [0.1111111111111111, \"#482878\"], [0.2222222222222222, \"#3e4989\"], [0.3333333333333333, \"#31688e\"], [0.4444444444444444, \"#26828e\"], [0.5555555555555556, \"#1f9e89\"], [0.6666666666666666, \"#35b779\"], [0.7777777777777778, \"#6ece58\"], [0.8888888888888888, \"#b5de2b\"], [1.0, \"#fde725\"]], \"type\": \"heatmap\"}], \"heatmapgl\": [{\"colorbar\": {\"outlinewidth\": 1, \"tickcolor\": \"rgb(36,36,36)\", \"ticks\": \"outside\"}, \"colorscale\": [[0.0, \"#440154\"], [0.1111111111111111, \"#482878\"], [0.2222222222222222, \"#3e4989\"], [0.3333333333333333, \"#31688e\"], [0.4444444444444444, \"#26828e\"], [0.5555555555555556, \"#1f9e89\"], [0.6666666666666666, \"#35b779\"], [0.7777777777777778, \"#6ece58\"], [0.8888888888888888, \"#b5de2b\"], [1.0, \"#fde725\"]], \"type\": \"heatmapgl\"}], \"histogram\": [{\"marker\": {\"line\": {\"color\": \"white\", \"width\": 0.6}}, \"type\": \"histogram\"}], \"histogram2d\": [{\"colorbar\": {\"outlinewidth\": 1, \"tickcolor\": \"rgb(36,36,36)\", \"ticks\": \"outside\"}, \"colorscale\": [[0.0, \"#440154\"], [0.1111111111111111, \"#482878\"], [0.2222222222222222, \"#3e4989\"], [0.3333333333333333, \"#31688e\"], [0.4444444444444444, \"#26828e\"], [0.5555555555555556, \"#1f9e89\"], [0.6666666666666666, \"#35b779\"], [0.7777777777777778, \"#6ece58\"], [0.8888888888888888, \"#b5de2b\"], [1.0, \"#fde725\"]], \"type\": \"histogram2d\"}], \"histogram2dcontour\": [{\"colorbar\": {\"outlinewidth\": 1, \"tickcolor\": \"rgb(36,36,36)\", \"ticks\": \"outside\"}, \"colorscale\": [[0.0, \"#440154\"], [0.1111111111111111, \"#482878\"], [0.2222222222222222, \"#3e4989\"], [0.3333333333333333, \"#31688e\"], [0.4444444444444444, \"#26828e\"], [0.5555555555555556, \"#1f9e89\"], [0.6666666666666666, \"#35b779\"], [0.7777777777777778, \"#6ece58\"], [0.8888888888888888, \"#b5de2b\"], [1.0, \"#fde725\"]], \"type\": \"histogram2dcontour\"}], \"mesh3d\": [{\"colorbar\": {\"outlinewidth\": 1, \"tickcolor\": \"rgb(36,36,36)\", \"ticks\": \"outside\"}, \"type\": \"mesh3d\"}], \"parcoords\": [{\"line\": {\"colorbar\": {\"outlinewidth\": 1, \"tickcolor\": \"rgb(36,36,36)\", \"ticks\": \"outside\"}}, \"type\": \"parcoords\"}], \"pie\": [{\"automargin\": true, \"type\": \"pie\"}], \"scatter\": [{\"marker\": {\"colorbar\": {\"outlinewidth\": 1, \"tickcolor\": \"rgb(36,36,36)\", \"ticks\": \"outside\"}}, \"type\": \"scatter\"}], \"scatter3d\": [{\"line\": {\"colorbar\": {\"outlinewidth\": 1, \"tickcolor\": \"rgb(36,36,36)\", \"ticks\": \"outside\"}}, \"marker\": {\"colorbar\": {\"outlinewidth\": 1, \"tickcolor\": \"rgb(36,36,36)\", \"ticks\": \"outside\"}}, \"type\": \"scatter3d\"}], \"scattercarpet\": [{\"marker\": {\"colorbar\": {\"outlinewidth\": 1, \"tickcolor\": \"rgb(36,36,36)\", \"ticks\": \"outside\"}}, \"type\": \"scattercarpet\"}], \"scattergeo\": [{\"marker\": {\"colorbar\": {\"outlinewidth\": 1, \"tickcolor\": \"rgb(36,36,36)\", \"ticks\": \"outside\"}}, \"type\": \"scattergeo\"}], \"scattergl\": [{\"marker\": {\"colorbar\": {\"outlinewidth\": 1, \"tickcolor\": \"rgb(36,36,36)\", \"ticks\": \"outside\"}}, \"type\": \"scattergl\"}], \"scattermapbox\": [{\"marker\": {\"colorbar\": {\"outlinewidth\": 1, \"tickcolor\": \"rgb(36,36,36)\", \"ticks\": \"outside\"}}, \"type\": \"scattermapbox\"}], \"scatterpolar\": [{\"marker\": {\"colorbar\": {\"outlinewidth\": 1, \"tickcolor\": \"rgb(36,36,36)\", \"ticks\": \"outside\"}}, \"type\": \"scatterpolar\"}], \"scatterpolargl\": [{\"marker\": {\"colorbar\": {\"outlinewidth\": 1, \"tickcolor\": \"rgb(36,36,36)\", \"ticks\": \"outside\"}}, \"type\": \"scatterpolargl\"}], \"scatterternary\": [{\"marker\": {\"colorbar\": {\"outlinewidth\": 1, \"tickcolor\": \"rgb(36,36,36)\", \"ticks\": \"outside\"}}, \"type\": \"scatterternary\"}], \"surface\": [{\"colorbar\": {\"outlinewidth\": 1, \"tickcolor\": \"rgb(36,36,36)\", \"ticks\": \"outside\"}, \"colorscale\": [[0.0, \"#440154\"], [0.1111111111111111, \"#482878\"], [0.2222222222222222, \"#3e4989\"], [0.3333333333333333, \"#31688e\"], [0.4444444444444444, \"#26828e\"], [0.5555555555555556, \"#1f9e89\"], [0.6666666666666666, \"#35b779\"], [0.7777777777777778, \"#6ece58\"], [0.8888888888888888, \"#b5de2b\"], [1.0, \"#fde725\"]], \"type\": \"surface\"}], \"table\": [{\"cells\": {\"fill\": {\"color\": \"rgb(237,237,237)\"}, \"line\": {\"color\": \"white\"}}, \"header\": {\"fill\": {\"color\": \"rgb(217,217,217)\"}, \"line\": {\"color\": \"white\"}}, \"type\": \"table\"}]}, \"layout\": {\"annotationdefaults\": {\"arrowhead\": 0, \"arrowwidth\": 1}, \"autotypenumbers\": \"strict\", \"coloraxis\": {\"colorbar\": {\"outlinewidth\": 1, \"tickcolor\": \"rgb(36,36,36)\", \"ticks\": \"outside\"}}, \"colorscale\": {\"diverging\": [[0.0, \"rgb(103,0,31)\"], [0.1, \"rgb(178,24,43)\"], [0.2, \"rgb(214,96,77)\"], [0.3, \"rgb(244,165,130)\"], [0.4, \"rgb(253,219,199)\"], [0.5, \"rgb(247,247,247)\"], [0.6, \"rgb(209,229,240)\"], [0.7, \"rgb(146,197,222)\"], [0.8, \"rgb(67,147,195)\"], [0.9, \"rgb(33,102,172)\"], [1.0, \"rgb(5,48,97)\"]], \"sequential\": [[0.0, \"#440154\"], [0.1111111111111111, \"#482878\"], [0.2222222222222222, \"#3e4989\"], [0.3333333333333333, \"#31688e\"], [0.4444444444444444, \"#26828e\"], [0.5555555555555556, \"#1f9e89\"], [0.6666666666666666, \"#35b779\"], [0.7777777777777778, \"#6ece58\"], [0.8888888888888888, \"#b5de2b\"], [1.0, \"#fde725\"]], \"sequentialminus\": [[0.0, \"#440154\"], [0.1111111111111111, \"#482878\"], [0.2222222222222222, \"#3e4989\"], [0.3333333333333333, \"#31688e\"], [0.4444444444444444, \"#26828e\"], [0.5555555555555556, \"#1f9e89\"], [0.6666666666666666, \"#35b779\"], [0.7777777777777778, \"#6ece58\"], [0.8888888888888888, \"#b5de2b\"], [1.0, \"#fde725\"]]}, \"colorway\": [\"#1F77B4\", \"#FF7F0E\", \"#2CA02C\", \"#D62728\", \"#9467BD\", \"#8C564B\", \"#E377C2\", \"#7F7F7F\", \"#BCBD22\", \"#17BECF\"], \"font\": {\"color\": \"rgb(36,36,36)\"}, \"geo\": {\"bgcolor\": \"white\", \"lakecolor\": \"white\", \"landcolor\": \"white\", \"showlakes\": true, \"showland\": true, \"subunitcolor\": \"white\"}, \"hoverlabel\": {\"align\": \"left\"}, \"hovermode\": \"closest\", \"mapbox\": {\"style\": \"light\"}, \"paper_bgcolor\": \"white\", \"plot_bgcolor\": \"white\", \"polar\": {\"angularaxis\": {\"gridcolor\": \"rgb(232,232,232)\", \"linecolor\": \"rgb(36,36,36)\", \"showgrid\": false, \"showline\": true, \"ticks\": \"outside\"}, \"bgcolor\": \"white\", \"radialaxis\": {\"gridcolor\": \"rgb(232,232,232)\", \"linecolor\": \"rgb(36,36,36)\", \"showgrid\": false, \"showline\": true, \"ticks\": \"outside\"}}, \"scene\": {\"xaxis\": {\"backgroundcolor\": \"white\", \"gridcolor\": \"rgb(232,232,232)\", \"gridwidth\": 2, \"linecolor\": \"rgb(36,36,36)\", \"showbackground\": true, \"showgrid\": false, \"showline\": true, \"ticks\": \"outside\", \"zeroline\": false, \"zerolinecolor\": \"rgb(36,36,36)\"}, \"yaxis\": {\"backgroundcolor\": \"white\", \"gridcolor\": \"rgb(232,232,232)\", \"gridwidth\": 2, \"linecolor\": \"rgb(36,36,36)\", \"showbackground\": true, \"showgrid\": false, \"showline\": true, \"ticks\": \"outside\", \"zeroline\": false, \"zerolinecolor\": \"rgb(36,36,36)\"}, \"zaxis\": {\"backgroundcolor\": \"white\", \"gridcolor\": \"rgb(232,232,232)\", \"gridwidth\": 2, \"linecolor\": \"rgb(36,36,36)\", \"showbackground\": true, \"showgrid\": false, \"showline\": true, \"ticks\": \"outside\", \"zeroline\": false, \"zerolinecolor\": \"rgb(36,36,36)\"}}, \"shapedefaults\": {\"fillcolor\": \"black\", \"line\": {\"width\": 0}, \"opacity\": 0.3}, \"ternary\": {\"aaxis\": {\"gridcolor\": \"rgb(232,232,232)\", \"linecolor\": \"rgb(36,36,36)\", \"showgrid\": false, \"showline\": true, \"ticks\": \"outside\"}, \"baxis\": {\"gridcolor\": \"rgb(232,232,232)\", \"linecolor\": \"rgb(36,36,36)\", \"showgrid\": false, \"showline\": true, \"ticks\": \"outside\"}, \"bgcolor\": \"white\", \"caxis\": {\"gridcolor\": \"rgb(232,232,232)\", \"linecolor\": \"rgb(36,36,36)\", \"showgrid\": false, \"showline\": true, \"ticks\": \"outside\"}}, \"title\": {\"x\": 0.05}, \"xaxis\": {\"automargin\": true, \"gridcolor\": \"rgb(232,232,232)\", \"linecolor\": \"rgb(36,36,36)\", \"showgrid\": false, \"showline\": true, \"ticks\": \"outside\", \"title\": {\"standoff\": 15}, \"zeroline\": false, \"zerolinecolor\": \"rgb(36,36,36)\"}, \"yaxis\": {\"automargin\": true, \"gridcolor\": \"rgb(232,232,232)\", \"linecolor\": \"rgb(36,36,36)\", \"showgrid\": false, \"showline\": true, \"ticks\": \"outside\", \"title\": {\"standoff\": 15}, \"zeroline\": false, \"zerolinecolor\": \"rgb(36,36,36)\"}}}, \"width\": 800, \"xaxis\": {\"anchor\": \"y\", \"domain\": [0.0, 1.0], \"title\": {\"text\": \"0\"}, \"visible\": false}, \"yaxis\": {\"anchor\": \"x\", \"domain\": [0.0, 1.0], \"title\": {\"text\": \"1\"}, \"visible\": false}},                        {\"responsive\": true}                    ).then(function(){\n",
              "                            \n",
              "var gd = document.getElementById('8e92fec8-f5b7-4aca-97f2-25866dccb623');\n",
              "var x = new MutationObserver(function (mutations, observer) {{\n",
              "        var display = window.getComputedStyle(gd).display;\n",
              "        if (!display || display === 'none') {{\n",
              "            console.log([gd, 'removed!']);\n",
              "            Plotly.purge(gd);\n",
              "            observer.disconnect();\n",
              "        }}\n",
              "}});\n",
              "\n",
              "// Listen for the removal of the full notebook cells\n",
              "var notebookContainer = gd.closest('#notebook-container');\n",
              "if (notebookContainer) {{\n",
              "    x.observe(notebookContainer, {childList: true});\n",
              "}}\n",
              "\n",
              "// Listen for the clearing of the current output cell\n",
              "var outputEl = gd.closest('.output');\n",
              "if (outputEl) {{\n",
              "    x.observe(outputEl, {childList: true});\n",
              "}}\n",
              "\n",
              "                        })                };                            </script>        </div>\n",
              "</body>\n",
              "</html>"
            ]
          },
          "metadata": {}
        }
      ]
    },
    {
      "cell_type": "markdown",
      "metadata": {
        "id": "yUKcj5sDh6h9"
      },
      "source": [
        "## Avaliação da Qualidade de Projeções\n",
        "\n",
        "### Neighborhood Preservation"
      ]
    },
    {
      "cell_type": "code",
      "metadata": {
        "id": "DoXAmWD_h_SB"
      },
      "source": [
        "kneigh = []\n",
        "y_tsne = []\n",
        "y_pca = []\n",
        "y_umap = []\n",
        "y_trimap = []\n",
        "\n",
        "for k in range(1,51):\n",
        "    precision = trustworthiness(xscaled, X_tsne, n_neighbors=k, metric='euclidean' )\n",
        "    kneigh.append(k)\n",
        "    y_tsne.append(precision)\n",
        "    precision = trustworthiness(xscaled, X_pca, n_neighbors=k, metric='euclidean')\n",
        "    y_pca.append(precision)\n",
        "    precision = trustworthiness(xscaled, X_umap, n_neighbors=k, metric='euclidean')\n",
        "    y_umap.append(precision)\n",
        "    precision = trustworthiness(xscaled, X_trimap, n_neighbors=k, metric='euclidean')\n",
        "    y_trimap.append(precision)"
      ],
      "execution_count": 37,
      "outputs": []
    },
    {
      "cell_type": "markdown",
      "metadata": {
        "id": "kOZ7tqDDtm2E"
      },
      "source": [
        "Em seguida, podemos criar um gráfico de linhas:"
      ]
    },
    {
      "cell_type": "code",
      "metadata": {
        "id": "ledNhfYkqf7N",
        "colab": {
          "base_uri": "https://localhost:8080/",
          "height": 542
        },
        "outputId": "d72c9656-0221-4194-d23d-91b6d26a59b1"
      },
      "source": [
        "fig = go.Figure()\n",
        "\n",
        "fig.add_trace(go.Scatter(x=kneigh, y=y_tsne,\n",
        "                    mode='lines+markers',\n",
        "                    name='t-SNE',\n",
        "                    line=dict(color=px.colors.qualitative.Plotly[0])))\n",
        "\n",
        "fig.add_trace(go.Scatter(x=kneigh, y=y_umap,\n",
        "                    mode='lines+markers',\n",
        "                    name='UMAP',\n",
        "                    line=dict(color=px.colors.qualitative.Plotly[1])))\n",
        "\n",
        "fig.add_trace(go.Scatter(x=kneigh, y=y_pca,\n",
        "                    mode='lines+markers',\n",
        "                    name='PCA',\n",
        "                    line=dict(color=px.colors.qualitative.Plotly[2])))\n",
        "\n",
        "fig.add_trace(go.Scatter(x=kneigh, y=y_trimap,\n",
        "                    mode='lines+markers',\n",
        "                    name='TRIMAP',\n",
        "                    line=dict(color=px.colors.qualitative.Plotly[3])))\n",
        "\n",
        "fig.update_layout(width=1000, template=\"simple_white\",\n",
        "                  margin=dict(l=0,r=0,b=0,t=0))\n",
        "\n",
        "fig.show()\n",
        "fig.write_image('imgs/neighborhoodpres_USDA.eps', format='eps')"
      ],
      "execution_count": 38,
      "outputs": [
        {
          "output_type": "display_data",
          "data": {
            "text/html": [
              "<html>\n",
              "<head><meta charset=\"utf-8\" /></head>\n",
              "<body>\n",
              "    <div>            <script src=\"https://cdnjs.cloudflare.com/ajax/libs/mathjax/2.7.5/MathJax.js?config=TeX-AMS-MML_SVG\"></script><script type=\"text/javascript\">if (window.MathJax) {MathJax.Hub.Config({SVG: {font: \"STIX-Web\"}});}</script>                <script type=\"text/javascript\">window.PlotlyConfig = {MathJaxConfig: 'local'};</script>\n",
              "        <script src=\"https://cdn.plot.ly/plotly-latest.min.js\"></script>                <div id=\"267c8bc8-3b3f-4034-b384-8fc7b0877fac\" class=\"plotly-graph-div\" style=\"height:525px; width:1000px;\"></div>            <script type=\"text/javascript\">                                    window.PLOTLYENV=window.PLOTLYENV || {};                                    if (document.getElementById(\"267c8bc8-3b3f-4034-b384-8fc7b0877fac\")) {                    Plotly.newPlot(                        \"267c8bc8-3b3f-4034-b384-8fc7b0877fac\",                        [{\"line\": {\"color\": \"#636EFA\"}, \"mode\": \"lines+markers\", \"name\": \"t-SNE\", \"type\": \"scatter\", \"x\": [1, 2, 3, 4, 5, 6, 7, 8, 9, 10, 11, 12, 13, 14, 15, 16, 17, 18, 19, 20, 21, 22, 23, 24, 25, 26, 27, 28, 29, 30, 31, 32, 33, 34, 35, 36, 37, 38, 39, 40, 41, 42, 43, 44, 45, 46, 47, 48, 49, 50], \"y\": [0.9852896294939877, 0.9746131752061521, 0.9587813620071685, 0.9377313716184148, 0.9192901531167916, 0.9006303179700086, 0.8886667792856204, 0.879429084738996, 0.8675729318803131, 0.8560461701328416, 0.8413117889862076, 0.8346954762823435, 0.8275590421952701, 0.8177444693399263, 0.8127833845253767, 0.8044907458922147, 0.7981485662677805, 0.7936720085878065, 0.791015911872705, 0.7890056270412781, 0.7888557804645073, 0.7861778628855215, 0.7857711421379859, 0.7844193030239541, 0.7809489735071131, 0.7765329815479225, 0.7742639574034923, 0.769877543704671, 0.7673097787631492, 0.7660523913413483, 0.7643435249056166, 0.7622117097597381, 0.7611974915478006, 0.7604136328199697, 0.7595354665734103, 0.7570799299377418, 0.7553447043730573, 0.7534758183472994, 0.753167504330295, 0.7520681265206812, 0.750374615860008, 0.750343074681793, 0.7493633946277267, 0.7494460887949259, 0.7496702955338106, 0.7498930816006888, 0.7485397578301398, 0.7473617113717957, 0.7483741065136413, 0.7484720712888502]}, {\"line\": {\"color\": \"#EF553B\"}, \"mode\": \"lines+markers\", \"name\": \"UMAP\", \"type\": \"scatter\", \"x\": [1, 2, 3, 4, 5, 6, 7, 8, 9, 10, 11, 12, 13, 14, 15, 16, 17, 18, 19, 20, 21, 22, 23, 24, 25, 26, 27, 28, 29, 30, 31, 32, 33, 34, 35, 36, 37, 38, 39, 40, 41, 42, 43, 44, 45, 46, 47, 48, 49, 50], \"y\": [0.955868888481963, 0.953889866889033, 0.9424647828623822, 0.9323682961556716, 0.9126657697482222, 0.8927053939217022, 0.8865457889896203, 0.8801693449113351, 0.8794966857656443, 0.8665300686405082, 0.8500453035336757, 0.8356951605925614, 0.8274058634630429, 0.8197223724535785, 0.81189605577495, 0.8045232001780349, 0.7977191328100444, 0.7906976744186046, 0.7818074255405957, 0.7789281076614332, 0.7739417672287487, 0.7719395341457925, 0.7713214149975978, 0.7702004329911307, 0.7643104182639067, 0.7635942075334046, 0.7638203742854905, 0.7662672274179197, 0.7691463433809771, 0.7704064738739576, 0.7724797052921767, 0.7746069863739227, 0.776799493314065, 0.7782180839327479, 0.7782683452818092, 0.7803588667487529, 0.7822483203177691, 0.7834478862630637, 0.7847971150296732, 0.7842245232841056, 0.7840660565578235, 0.7855353514859995, 0.7865315711195241, 0.7874841437632135, 0.7898363479758829, 0.7911111866384573, 0.7919176235731713, 0.7927014017516179, 0.7931138628813048, 0.7910251394624357]}, {\"line\": {\"color\": \"#00CC96\"}, \"mode\": \"lines+markers\", \"name\": \"PCA\", \"type\": \"scatter\", \"x\": [1, 2, 3, 4, 5, 6, 7, 8, 9, 10, 11, 12, 13, 14, 15, 16, 17, 18, 19, 20, 21, 22, 23, 24, 25, 26, 27, 28, 29, 30, 31, 32, 33, 34, 35, 36, 37, 38, 39, 40, 41, 42, 43, 44, 45, 46, 47, 48, 49, 50], \"y\": [0.8947689678325093, 0.8806325087247908, 0.8511294490289238, 0.8389337130200918, 0.8316099686078544, 0.8234244753657034, 0.8234134804887663, 0.8258558738397046, 0.8264389768939819, 0.8273127753303965, 0.8251094835397161, 0.8268616927987653, 0.8282045811382274, 0.8297664117025934, 0.8318365754960753, 0.8316271651644969, 0.831538124394034, 0.8318631381983427, 0.8332762137902896, 0.835891079368827, 0.8369276904400376, 0.837319991587616, 0.8386793738212537, 0.840111041273832, 0.8400238521168754, 0.8399576258482326, 0.8385600187925769, 0.8389536484038433, 0.8410994229287545, 0.8431261507991769, 0.8434334193304424, 0.8457075448986471, 0.8475184580571686, 0.8490004854154716, 0.8518272425249169, 0.8532652365179288, 0.8546877556116167, 0.8549243494163935, 0.8556776556776556, 0.8565353929723307, 0.8575810680008917, 0.8599438118344562, 0.8621636695511087, 0.8634362226920367, 0.8652235918724672, 0.8671294604798441, 0.867685281555165, 0.8688401820219067, 0.8709554011879593, 0.872178511917699]}, {\"line\": {\"color\": \"#AB63FA\"}, \"mode\": \"lines+markers\", \"name\": \"TRIMAP\", \"type\": \"scatter\", \"x\": [1, 2, 3, 4, 5, 6, 7, 8, 9, 10, 11, 12, 13, 14, 15, 16, 17, 18, 19, 20, 21, 22, 23, 24, 25, 26, 27, 28, 29, 30, 31, 32, 33, 34, 35, 36, 37, 38, 39, 40, 41, 42, 43, 44, 45, 46, 47, 48, 49, 50], \"y\": [0.9548922663736801, 0.9492263504123043, 0.9371926314912061, 0.9149818066761588, 0.9037734640271639, 0.8996032132161352, 0.8951329842145767, 0.8906244801543733, 0.8785829307568438, 0.8688249154799713, 0.8619311889660727, 0.849141206870345, 0.8391295071474291, 0.8304720698447037, 0.8226122568377944, 0.8179036385890731, 0.8145511534936847, 0.8115010416534073, 0.81093839249286, 0.8051587770038957, 0.8018746218218766, 0.7946123846525648, 0.7972484564249296, 0.7997974718904951, 0.8018400204446716, 0.8001752264452018, 0.7980483125831963, 0.7945352357907809, 0.7943896724688271, 0.7944978260533198, 0.7961990497624406, 0.7989040156001733, 0.7993089565064837, 0.801191474339173, 0.8025878650113656, 0.803207140338403, 0.8030847030528457, 0.8039447292813267, 0.8060113013601385, 0.8079358343235443, 0.8081938577108784, 0.8098985851515588, 0.8115225572381467, 0.813307963354475, 0.8133943321896048, 0.814593582630221, 0.8145421351669538, 0.8162001783631748, 0.8174454559836619, 0.8195001086720278]}],                        {\"margin\": {\"b\": 0, \"l\": 0, \"r\": 0, \"t\": 0}, \"template\": {\"data\": {\"bar\": [{\"error_x\": {\"color\": \"rgb(36,36,36)\"}, \"error_y\": {\"color\": \"rgb(36,36,36)\"}, \"marker\": {\"line\": {\"color\": \"white\", \"width\": 0.5}}, \"type\": \"bar\"}], \"barpolar\": [{\"marker\": {\"line\": {\"color\": \"white\", \"width\": 0.5}}, \"type\": \"barpolar\"}], \"carpet\": [{\"aaxis\": {\"endlinecolor\": \"rgb(36,36,36)\", \"gridcolor\": \"white\", \"linecolor\": \"white\", \"minorgridcolor\": \"white\", \"startlinecolor\": \"rgb(36,36,36)\"}, \"baxis\": {\"endlinecolor\": \"rgb(36,36,36)\", \"gridcolor\": \"white\", \"linecolor\": \"white\", \"minorgridcolor\": \"white\", \"startlinecolor\": \"rgb(36,36,36)\"}, \"type\": \"carpet\"}], \"choropleth\": [{\"colorbar\": {\"outlinewidth\": 1, \"tickcolor\": \"rgb(36,36,36)\", \"ticks\": \"outside\"}, \"type\": \"choropleth\"}], \"contour\": [{\"colorbar\": {\"outlinewidth\": 1, \"tickcolor\": \"rgb(36,36,36)\", \"ticks\": \"outside\"}, \"colorscale\": [[0.0, \"#440154\"], [0.1111111111111111, \"#482878\"], [0.2222222222222222, \"#3e4989\"], [0.3333333333333333, \"#31688e\"], [0.4444444444444444, \"#26828e\"], [0.5555555555555556, \"#1f9e89\"], [0.6666666666666666, \"#35b779\"], [0.7777777777777778, \"#6ece58\"], [0.8888888888888888, \"#b5de2b\"], [1.0, \"#fde725\"]], \"type\": \"contour\"}], \"contourcarpet\": [{\"colorbar\": {\"outlinewidth\": 1, \"tickcolor\": \"rgb(36,36,36)\", \"ticks\": \"outside\"}, \"type\": \"contourcarpet\"}], \"heatmap\": [{\"colorbar\": {\"outlinewidth\": 1, \"tickcolor\": \"rgb(36,36,36)\", \"ticks\": \"outside\"}, \"colorscale\": [[0.0, \"#440154\"], [0.1111111111111111, \"#482878\"], [0.2222222222222222, \"#3e4989\"], [0.3333333333333333, \"#31688e\"], [0.4444444444444444, \"#26828e\"], [0.5555555555555556, \"#1f9e89\"], [0.6666666666666666, \"#35b779\"], [0.7777777777777778, \"#6ece58\"], [0.8888888888888888, \"#b5de2b\"], [1.0, \"#fde725\"]], \"type\": \"heatmap\"}], \"heatmapgl\": [{\"colorbar\": {\"outlinewidth\": 1, \"tickcolor\": \"rgb(36,36,36)\", \"ticks\": \"outside\"}, \"colorscale\": [[0.0, \"#440154\"], [0.1111111111111111, \"#482878\"], [0.2222222222222222, \"#3e4989\"], [0.3333333333333333, \"#31688e\"], [0.4444444444444444, \"#26828e\"], [0.5555555555555556, \"#1f9e89\"], [0.6666666666666666, \"#35b779\"], [0.7777777777777778, \"#6ece58\"], [0.8888888888888888, \"#b5de2b\"], [1.0, \"#fde725\"]], \"type\": \"heatmapgl\"}], \"histogram\": [{\"marker\": {\"line\": {\"color\": \"white\", \"width\": 0.6}}, \"type\": \"histogram\"}], \"histogram2d\": [{\"colorbar\": {\"outlinewidth\": 1, \"tickcolor\": \"rgb(36,36,36)\", \"ticks\": \"outside\"}, \"colorscale\": [[0.0, \"#440154\"], [0.1111111111111111, \"#482878\"], [0.2222222222222222, \"#3e4989\"], [0.3333333333333333, \"#31688e\"], [0.4444444444444444, \"#26828e\"], [0.5555555555555556, \"#1f9e89\"], [0.6666666666666666, \"#35b779\"], [0.7777777777777778, \"#6ece58\"], [0.8888888888888888, \"#b5de2b\"], [1.0, \"#fde725\"]], \"type\": \"histogram2d\"}], \"histogram2dcontour\": [{\"colorbar\": {\"outlinewidth\": 1, \"tickcolor\": \"rgb(36,36,36)\", \"ticks\": \"outside\"}, \"colorscale\": [[0.0, \"#440154\"], [0.1111111111111111, \"#482878\"], [0.2222222222222222, \"#3e4989\"], [0.3333333333333333, \"#31688e\"], [0.4444444444444444, \"#26828e\"], [0.5555555555555556, \"#1f9e89\"], [0.6666666666666666, \"#35b779\"], [0.7777777777777778, \"#6ece58\"], [0.8888888888888888, \"#b5de2b\"], [1.0, \"#fde725\"]], \"type\": \"histogram2dcontour\"}], \"mesh3d\": [{\"colorbar\": {\"outlinewidth\": 1, \"tickcolor\": \"rgb(36,36,36)\", \"ticks\": \"outside\"}, \"type\": \"mesh3d\"}], \"parcoords\": [{\"line\": {\"colorbar\": {\"outlinewidth\": 1, \"tickcolor\": \"rgb(36,36,36)\", \"ticks\": \"outside\"}}, \"type\": \"parcoords\"}], \"pie\": [{\"automargin\": true, \"type\": \"pie\"}], \"scatter\": [{\"marker\": {\"colorbar\": {\"outlinewidth\": 1, \"tickcolor\": \"rgb(36,36,36)\", \"ticks\": \"outside\"}}, \"type\": \"scatter\"}], \"scatter3d\": [{\"line\": {\"colorbar\": {\"outlinewidth\": 1, \"tickcolor\": \"rgb(36,36,36)\", \"ticks\": \"outside\"}}, \"marker\": {\"colorbar\": {\"outlinewidth\": 1, \"tickcolor\": \"rgb(36,36,36)\", \"ticks\": \"outside\"}}, \"type\": \"scatter3d\"}], \"scattercarpet\": [{\"marker\": {\"colorbar\": {\"outlinewidth\": 1, \"tickcolor\": \"rgb(36,36,36)\", \"ticks\": \"outside\"}}, \"type\": \"scattercarpet\"}], \"scattergeo\": [{\"marker\": {\"colorbar\": {\"outlinewidth\": 1, \"tickcolor\": \"rgb(36,36,36)\", \"ticks\": \"outside\"}}, \"type\": \"scattergeo\"}], \"scattergl\": [{\"marker\": {\"colorbar\": {\"outlinewidth\": 1, \"tickcolor\": \"rgb(36,36,36)\", \"ticks\": \"outside\"}}, \"type\": \"scattergl\"}], \"scattermapbox\": [{\"marker\": {\"colorbar\": {\"outlinewidth\": 1, \"tickcolor\": \"rgb(36,36,36)\", \"ticks\": \"outside\"}}, \"type\": \"scattermapbox\"}], \"scatterpolar\": [{\"marker\": {\"colorbar\": {\"outlinewidth\": 1, \"tickcolor\": \"rgb(36,36,36)\", \"ticks\": \"outside\"}}, \"type\": \"scatterpolar\"}], \"scatterpolargl\": [{\"marker\": {\"colorbar\": {\"outlinewidth\": 1, \"tickcolor\": \"rgb(36,36,36)\", \"ticks\": \"outside\"}}, \"type\": \"scatterpolargl\"}], \"scatterternary\": [{\"marker\": {\"colorbar\": {\"outlinewidth\": 1, \"tickcolor\": \"rgb(36,36,36)\", \"ticks\": \"outside\"}}, \"type\": \"scatterternary\"}], \"surface\": [{\"colorbar\": {\"outlinewidth\": 1, \"tickcolor\": \"rgb(36,36,36)\", \"ticks\": \"outside\"}, \"colorscale\": [[0.0, \"#440154\"], [0.1111111111111111, \"#482878\"], [0.2222222222222222, \"#3e4989\"], [0.3333333333333333, \"#31688e\"], [0.4444444444444444, \"#26828e\"], [0.5555555555555556, \"#1f9e89\"], [0.6666666666666666, \"#35b779\"], [0.7777777777777778, \"#6ece58\"], [0.8888888888888888, \"#b5de2b\"], [1.0, \"#fde725\"]], \"type\": \"surface\"}], \"table\": [{\"cells\": {\"fill\": {\"color\": \"rgb(237,237,237)\"}, \"line\": {\"color\": \"white\"}}, \"header\": {\"fill\": {\"color\": \"rgb(217,217,217)\"}, \"line\": {\"color\": \"white\"}}, \"type\": \"table\"}]}, \"layout\": {\"annotationdefaults\": {\"arrowhead\": 0, \"arrowwidth\": 1}, \"autotypenumbers\": \"strict\", \"coloraxis\": {\"colorbar\": {\"outlinewidth\": 1, \"tickcolor\": \"rgb(36,36,36)\", \"ticks\": \"outside\"}}, \"colorscale\": {\"diverging\": [[0.0, \"rgb(103,0,31)\"], [0.1, \"rgb(178,24,43)\"], [0.2, \"rgb(214,96,77)\"], [0.3, \"rgb(244,165,130)\"], [0.4, \"rgb(253,219,199)\"], [0.5, \"rgb(247,247,247)\"], [0.6, \"rgb(209,229,240)\"], [0.7, \"rgb(146,197,222)\"], [0.8, \"rgb(67,147,195)\"], [0.9, \"rgb(33,102,172)\"], [1.0, \"rgb(5,48,97)\"]], \"sequential\": [[0.0, \"#440154\"], [0.1111111111111111, \"#482878\"], [0.2222222222222222, \"#3e4989\"], [0.3333333333333333, \"#31688e\"], [0.4444444444444444, \"#26828e\"], [0.5555555555555556, \"#1f9e89\"], [0.6666666666666666, \"#35b779\"], [0.7777777777777778, \"#6ece58\"], [0.8888888888888888, \"#b5de2b\"], [1.0, \"#fde725\"]], \"sequentialminus\": [[0.0, \"#440154\"], [0.1111111111111111, \"#482878\"], [0.2222222222222222, \"#3e4989\"], [0.3333333333333333, \"#31688e\"], [0.4444444444444444, \"#26828e\"], [0.5555555555555556, \"#1f9e89\"], [0.6666666666666666, \"#35b779\"], [0.7777777777777778, \"#6ece58\"], [0.8888888888888888, \"#b5de2b\"], [1.0, \"#fde725\"]]}, \"colorway\": [\"#1F77B4\", \"#FF7F0E\", \"#2CA02C\", \"#D62728\", \"#9467BD\", \"#8C564B\", \"#E377C2\", \"#7F7F7F\", \"#BCBD22\", \"#17BECF\"], \"font\": {\"color\": \"rgb(36,36,36)\"}, \"geo\": {\"bgcolor\": \"white\", \"lakecolor\": \"white\", \"landcolor\": \"white\", \"showlakes\": true, \"showland\": true, \"subunitcolor\": \"white\"}, \"hoverlabel\": {\"align\": \"left\"}, \"hovermode\": \"closest\", \"mapbox\": {\"style\": \"light\"}, \"paper_bgcolor\": \"white\", \"plot_bgcolor\": \"white\", \"polar\": {\"angularaxis\": {\"gridcolor\": \"rgb(232,232,232)\", \"linecolor\": \"rgb(36,36,36)\", \"showgrid\": false, \"showline\": true, \"ticks\": \"outside\"}, \"bgcolor\": \"white\", \"radialaxis\": {\"gridcolor\": \"rgb(232,232,232)\", \"linecolor\": \"rgb(36,36,36)\", \"showgrid\": false, \"showline\": true, \"ticks\": \"outside\"}}, \"scene\": {\"xaxis\": {\"backgroundcolor\": \"white\", \"gridcolor\": \"rgb(232,232,232)\", \"gridwidth\": 2, \"linecolor\": \"rgb(36,36,36)\", \"showbackground\": true, \"showgrid\": false, \"showline\": true, \"ticks\": \"outside\", \"zeroline\": false, \"zerolinecolor\": \"rgb(36,36,36)\"}, \"yaxis\": {\"backgroundcolor\": \"white\", \"gridcolor\": \"rgb(232,232,232)\", \"gridwidth\": 2, \"linecolor\": \"rgb(36,36,36)\", \"showbackground\": true, \"showgrid\": false, \"showline\": true, \"ticks\": \"outside\", \"zeroline\": false, \"zerolinecolor\": \"rgb(36,36,36)\"}, \"zaxis\": {\"backgroundcolor\": \"white\", \"gridcolor\": \"rgb(232,232,232)\", \"gridwidth\": 2, \"linecolor\": \"rgb(36,36,36)\", \"showbackground\": true, \"showgrid\": false, \"showline\": true, \"ticks\": \"outside\", \"zeroline\": false, \"zerolinecolor\": \"rgb(36,36,36)\"}}, \"shapedefaults\": {\"fillcolor\": \"black\", \"line\": {\"width\": 0}, \"opacity\": 0.3}, \"ternary\": {\"aaxis\": {\"gridcolor\": \"rgb(232,232,232)\", \"linecolor\": \"rgb(36,36,36)\", \"showgrid\": false, \"showline\": true, \"ticks\": \"outside\"}, \"baxis\": {\"gridcolor\": \"rgb(232,232,232)\", \"linecolor\": \"rgb(36,36,36)\", \"showgrid\": false, \"showline\": true, \"ticks\": \"outside\"}, \"bgcolor\": \"white\", \"caxis\": {\"gridcolor\": \"rgb(232,232,232)\", \"linecolor\": \"rgb(36,36,36)\", \"showgrid\": false, \"showline\": true, \"ticks\": \"outside\"}}, \"title\": {\"x\": 0.05}, \"xaxis\": {\"automargin\": true, \"gridcolor\": \"rgb(232,232,232)\", \"linecolor\": \"rgb(36,36,36)\", \"showgrid\": false, \"showline\": true, \"ticks\": \"outside\", \"title\": {\"standoff\": 15}, \"zeroline\": false, \"zerolinecolor\": \"rgb(36,36,36)\"}, \"yaxis\": {\"automargin\": true, \"gridcolor\": \"rgb(232,232,232)\", \"linecolor\": \"rgb(36,36,36)\", \"showgrid\": false, \"showline\": true, \"ticks\": \"outside\", \"title\": {\"standoff\": 15}, \"zeroline\": false, \"zerolinecolor\": \"rgb(36,36,36)\"}}}, \"width\": 1000},                        {\"responsive\": true}                    ).then(function(){\n",
              "                            \n",
              "var gd = document.getElementById('267c8bc8-3b3f-4034-b384-8fc7b0877fac');\n",
              "var x = new MutationObserver(function (mutations, observer) {{\n",
              "        var display = window.getComputedStyle(gd).display;\n",
              "        if (!display || display === 'none') {{\n",
              "            console.log([gd, 'removed!']);\n",
              "            Plotly.purge(gd);\n",
              "            observer.disconnect();\n",
              "        }}\n",
              "}});\n",
              "\n",
              "// Listen for the removal of the full notebook cells\n",
              "var notebookContainer = gd.closest('#notebook-container');\n",
              "if (notebookContainer) {{\n",
              "    x.observe(notebookContainer, {childList: true});\n",
              "}}\n",
              "\n",
              "// Listen for the clearing of the current output cell\n",
              "var outputEl = gd.closest('.output');\n",
              "if (outputEl) {{\n",
              "    x.observe(outputEl, {childList: true});\n",
              "}}\n",
              "\n",
              "                        })                };                            </script>        </div>\n",
              "</body>\n",
              "</html>"
            ]
          },
          "metadata": {}
        }
      ]
    },
    {
      "cell_type": "markdown",
      "source": [
        "### Coeficiente de Silhueta"
      ],
      "metadata": {
        "id": "QlnP3hQDiWrd"
      }
    },
    {
      "cell_type": "code",
      "source": [
        "from sklearn.metrics import silhouette_samples, silhouette_score\n",
        "\n",
        "def coeficiente_silhueta(X_high,X_low):\n",
        "\n",
        "    silhouette_avg_high = []\n",
        "\n",
        "    silhouette_avg_low = []\n",
        "\n",
        "    for k in range(3,20):\n",
        "        clusterer = KMedoids(n_clusters=k, init='k-medoids++',random_state=10)\n",
        "\n",
        "        cluster_labels_high = clusterer.fit_predict(X_high)\n",
        "\n",
        "        cluster_labels_low = clusterer.fit_predict(X_low)\n",
        "\n",
        "        silhouette_avg_high.append(silhouette_score(X_high, cluster_labels_high))\n",
        "\n",
        "        silhouette_avg_low.append(silhouette_score(X_low, cluster_labels_low))\n",
        "\n",
        "    mean_silhouete_high = np.mean(np.array(silhouette_avg_high))\n",
        "\n",
        "    mean_silhouete_low = np.mean(np.array(silhouette_avg_low))\n",
        "\n",
        "    std_silhouete_high = np.std(np.array(silhouette_avg_high))\n",
        "\n",
        "    std_silhouete_low = np.std(np.array(silhouette_avg_low))\n",
        "    \n",
        "    return mean_silhouete_high, mean_silhouete_low, std_silhouete_high, std_silhouete_low"
      ],
      "metadata": {
        "id": "dEmRfdpwiabE"
      },
      "execution_count": 39,
      "outputs": []
    },
    {
      "cell_type": "markdown",
      "source": [
        "Print the silhouette scores for all point placement visualizations"
      ],
      "metadata": {
        "id": "KAKpfJE3pHg9"
      }
    },
    {
      "cell_type": "code",
      "source": [
        "mean_high,mean_low,std_high,std_low = coeficiente_silhueta(X,X_pca)\n",
        "print(\"PCA\")\n",
        "print(f\"Média Silhueta Original: {mean_high} Desvio Padrão Original: {std_high}\")\n",
        "print(f\"Média Silhueta Visualização: {mean_low:.10f} Desvio Padrão Visualização: {std_low:.10f}\\n\")\n",
        "\n",
        "mean_high,mean_low,std_high,std_low = coeficiente_silhueta(X,X_tsne)\n",
        "print(\"t-SNE\")\n",
        "print(f\"Média Silhueta Original: {mean_high} Desvio Padrão Original: {std_high}\")\n",
        "print(f\"Média Silhueta Visualização: {mean_low:.10f} Desvio Padrão Visualização: {std_low:.10f}\\n\")\n",
        "\n",
        "mean_high,mean_low,std_high,std_low = coeficiente_silhueta(X,X_umap)\n",
        "print(\"UMAP\")\n",
        "print(f\"Média Silhueta Original: {mean_high} Desvio Padrão Original: {std_high}\")\n",
        "print(f\"Média Silhueta Visualização: {mean_low:.10f} Desvio Padrão Visualização: {std_low:.10f}\\n\")\n",
        "\n",
        "mean_high,mean_low,std_high,std_low = coeficiente_silhueta(X,X_trimap)\n",
        "print(\"TriMap\")\n",
        "print(f\"Média Silhueta Original: {mean_high} Desvio Padrão Original: {std_high}\")\n",
        "print(f\"Média Silhueta Visualização: {mean_low:.10f} Desvio Padrão Visualização: {std_low:.10f}\\n\")"
      ],
      "metadata": {
        "colab": {
          "base_uri": "https://localhost:8080/"
        },
        "id": "fvNQa3O8mRy5",
        "outputId": "d82822ff-0db7-400a-f5a7-6dfddca4fa91"
      },
      "execution_count": 41,
      "outputs": [
        {
          "output_type": "stream",
          "name": "stdout",
          "text": [
            "PCA\n",
            "Média Silhueta Original: 0.4349976584611273 Desvio Padrão Original: 0.24400525004807258\n",
            "Média Silhueta Visualização: 0.4048111316 Desvio Padrão Visualização: 0.1223161033\n",
            "\n",
            "t-SNE\n",
            "Média Silhueta Original: 0.4349976584611273 Desvio Padrão Original: 0.24400525004807258\n",
            "Média Silhueta Visualização: 0.4965111911 Desvio Padrão Visualização: 0.0490386933\n",
            "\n",
            "UMAP\n",
            "Média Silhueta Original: 0.4349976584611273 Desvio Padrão Original: 0.24400525004807258\n",
            "Média Silhueta Visualização: 0.6113460660 Desvio Padrão Visualização: 0.0477987714\n",
            "\n",
            "TriMap\n",
            "Média Silhueta Original: 0.4349976584611273 Desvio Padrão Original: 0.24400525004807258\n",
            "Média Silhueta Visualização: 0.5935673118 Desvio Padrão Visualização: 0.0404421687\n",
            "\n"
          ]
        }
      ]
    },
    {
      "cell_type": "markdown",
      "metadata": {
        "id": "3OiRLLZSxh05"
      },
      "source": [
        "## Global Score\n",
        "\n",
        "https://github.com/eamid/trimap"
      ]
    },
    {
      "cell_type": "code",
      "source": [
        "gs = trimap.TRIMAP(verbose=False).global_score(xscaled, X_trimap)\n",
        "print(f\"TriMap global score {gs}\")"
      ],
      "metadata": {
        "colab": {
          "base_uri": "https://localhost:8080/"
        },
        "id": "068Jv4Z3GsWE",
        "outputId": "efc2c24e-3be0-4635-8573-3f5e4ed2f1a6"
      },
      "execution_count": 27,
      "outputs": [
        {
          "output_type": "stream",
          "name": "stdout",
          "text": [
            "TriMap global score 0.3313679917442982\n"
          ]
        }
      ]
    },
    {
      "cell_type": "code",
      "source": [
        "gs = trimap.TRIMAP(verbose=False).global_score(xscaled, X_tsne)\n",
        "print(f\"tSNE global score {gs}\")"
      ],
      "metadata": {
        "colab": {
          "base_uri": "https://localhost:8080/"
        },
        "id": "6hJKHnPRG89m",
        "outputId": "68b0ca5e-341b-4b84-a115-6b0f03c89819"
      },
      "execution_count": 28,
      "outputs": [
        {
          "output_type": "stream",
          "name": "stdout",
          "text": [
            "tSNE global score 0.21803804457693002\n"
          ]
        }
      ]
    },
    {
      "cell_type": "code",
      "source": [
        "gs = trimap.TRIMAP(verbose=False).global_score(xscaled, X_umap)\n",
        "print(f\"UMAP global score {gs}\")"
      ],
      "metadata": {
        "colab": {
          "base_uri": "https://localhost:8080/"
        },
        "id": "BM3eksKfG9Ns",
        "outputId": "14064517-b2bb-43ed-9cd0-aa87af9839e6"
      },
      "execution_count": 29,
      "outputs": [
        {
          "output_type": "stream",
          "name": "stdout",
          "text": [
            "UMAP global score 0.25658366986251674\n"
          ]
        }
      ]
    },
    {
      "cell_type": "code",
      "source": [
        "gs = trimap.TRIMAP(verbose=False).global_score(xscaled, X_pca)\n",
        "print(f\"PCA global score {gs}\")"
      ],
      "metadata": {
        "colab": {
          "base_uri": "https://localhost:8080/"
        },
        "id": "r4X3BU5RHQ8w",
        "outputId": "9e7e4a41-4504-4f8c-d44f-50149645455f"
      },
      "execution_count": 30,
      "outputs": [
        {
          "output_type": "stream",
          "name": "stdout",
          "text": [
            "PCA global score 1.0\n"
          ]
        }
      ]
    }
  ]
}