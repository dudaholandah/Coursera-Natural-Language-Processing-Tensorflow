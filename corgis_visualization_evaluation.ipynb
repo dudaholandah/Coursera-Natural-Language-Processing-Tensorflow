{
  "nbformat": 4,
  "nbformat_minor": 0,
  "metadata": {
    "colab": {
      "name": "corgis_visualization_evaluation.ipynb",
      "provenance": [],
      "collapsed_sections": [],
      "include_colab_link": true
    },
    "kernelspec": {
      "display_name": "Python 3",
      "language": "python",
      "name": "python3"
    },
    "language_info": {
      "codemirror_mode": {
        "name": "ipython",
        "version": 3
      },
      "file_extension": ".py",
      "mimetype": "text/x-python",
      "name": "python",
      "nbconvert_exporter": "python",
      "pygments_lexer": "ipython3",
      "version": "3.6.10"
    }
  },
  "cells": [
    {
      "cell_type": "markdown",
      "metadata": {
        "id": "view-in-github",
        "colab_type": "text"
      },
      "source": [
        "<a href=\"https://colab.research.google.com/github/dudaholandah/PIBIC/blob/main/corgis_visualization_evaluation.ipynb\" target=\"_parent\"><img src=\"https://colab.research.google.com/assets/colab-badge.svg\" alt=\"Open In Colab\"/></a>"
      ]
    },
    {
      "cell_type": "markdown",
      "metadata": {
        "id": "JFhO1kZQPonA"
      },
      "source": [
        "#Visualization of the Corgis DataSet"
      ]
    },
    {
      "cell_type": "markdown",
      "metadata": {
        "id": "0OnyXDCTp0-0"
      },
      "source": [
        "Instalação do plotly e do renderer Orca, para que o Github apresente as imagens geradas pelo Plotly"
      ]
    },
    {
      "cell_type": "code",
      "source": [
        "from google.colab import drive\n",
        "drive.mount('/content/drive')"
      ],
      "metadata": {
        "id": "GmjNcY2Z9nHr"
      },
      "execution_count": null,
      "outputs": []
    },
    {
      "cell_type": "code",
      "source": [
        "!cp \"/content/drive/My Drive/food/CORGIS_dataset.csv\" \"corgis.csv\"\n",
        "!cp \"/content/drive/My Drive/food/australian_AUSNUT_2011_Food_Nutrient_Database.xls\" \"australian.xls\""
      ],
      "metadata": {
        "id": "Zj-Sj7Z19pcB"
      },
      "execution_count": null,
      "outputs": []
    },
    {
      "cell_type": "code",
      "metadata": {
        "id": "bLiPKsx_p1ZT",
        "colab": {
          "base_uri": "https://localhost:8080/"
        },
        "outputId": "30396dbf-b4f0-4a7b-debf-8037fd4a550b"
      },
      "source": [
        "!pip install plotly==4.14.3\n",
        "!pip install orca\n",
        "!apt-get install xvfb libgtk2.0-0 libgconf-2-4\n",
        "!pip install umap-learn\n",
        "!pip install trimap"
      ],
      "execution_count": null,
      "outputs": [
        {
          "output_type": "stream",
          "name": "stdout",
          "text": [
            "Collecting trimap\n",
            "  Downloading trimap-1.1.3-py3-none-any.whl (15 kB)\n",
            "Collecting annoy>=1.11\n",
            "  Downloading annoy-1.17.0.tar.gz (646 kB)\n",
            "\u001b[K     |████████████████████████████████| 646 kB 6.5 MB/s \n",
            "\u001b[?25hRequirement already satisfied: numba>=0.34 in /usr/local/lib/python3.7/dist-packages (from trimap) (0.51.2)\n",
            "Requirement already satisfied: scikit-learn>=0.16 in /usr/local/lib/python3.7/dist-packages (from trimap) (1.0.2)\n",
            "Requirement already satisfied: setuptools in /usr/local/lib/python3.7/dist-packages (from numba>=0.34->trimap) (57.4.0)\n",
            "Requirement already satisfied: numpy>=1.15 in /usr/local/lib/python3.7/dist-packages (from numba>=0.34->trimap) (1.21.5)\n",
            "Requirement already satisfied: llvmlite<0.35,>=0.34.0.dev0 in /usr/local/lib/python3.7/dist-packages (from numba>=0.34->trimap) (0.34.0)\n",
            "Requirement already satisfied: joblib>=0.11 in /usr/local/lib/python3.7/dist-packages (from scikit-learn>=0.16->trimap) (1.1.0)\n",
            "Requirement already satisfied: scipy>=1.1.0 in /usr/local/lib/python3.7/dist-packages (from scikit-learn>=0.16->trimap) (1.4.1)\n",
            "Requirement already satisfied: threadpoolctl>=2.0.0 in /usr/local/lib/python3.7/dist-packages (from scikit-learn>=0.16->trimap) (3.1.0)\n",
            "Building wheels for collected packages: annoy\n",
            "  Building wheel for annoy (setup.py) ... \u001b[?25l\u001b[?25hdone\n",
            "  Created wheel for annoy: filename=annoy-1.17.0-cp37-cp37m-linux_x86_64.whl size=391671 sha256=89feb0cf8bb16048c42f92b1735ee8f3f1d7ae567d2b78829e7b8fe1ac4dc791\n",
            "  Stored in directory: /root/.cache/pip/wheels/4f/e8/1e/7cc9ebbfa87a3b9f8ba79408d4d31831d67eea918b679a4c07\n",
            "Successfully built annoy\n",
            "Installing collected packages: annoy, trimap\n",
            "Successfully installed annoy-1.17.0 trimap-1.1.3\n"
          ]
        }
      ]
    },
    {
      "cell_type": "markdown",
      "metadata": {
        "id": "Fk3DAY9kPl7Z"
      },
      "source": [
        "Bibliotecas importantes"
      ]
    },
    {
      "cell_type": "code",
      "metadata": {
        "id": "k30sCmYRPWTC"
      },
      "source": [
        "import pandas as pd\n",
        "from sklearn import preprocessing\n",
        "#from ipywidgets import interactive, HBox, VBox\n",
        "import plotly.express as px\n",
        "#from plotly.offline import init_notebook_mode, iplot\n",
        "##import plotly.offline as py\n",
        "import plotly.graph_objects as go\n",
        "import numpy as np\n",
        "from sklearn.decomposition import PCA as sklearnPCA\n",
        "from sklearn.manifold import TSNE\n",
        "from sklearn.manifold import Isomap\n",
        "from sklearn.manifold import trustworthiness\n",
        "from umap import UMAP\n",
        "import trimap"
      ],
      "execution_count": null,
      "outputs": []
    },
    {
      "cell_type": "markdown",
      "metadata": {
        "id": "z6OL0pC9Q8Ak"
      },
      "source": [
        "Abre o arquivo .data utilizando o Pandas. O conjunto auto-mpg pode ser baixado aqui:\n",
        "\n",
        "\n",
        "https://archive.ics.uci.edu/ml/datasets/Auto+MPG"
      ]
    },
    {
      "cell_type": "code",
      "metadata": {
        "id": "IcrsmJCHPWTG"
      },
      "source": [
        "raw_data = pd.read_csv(\"corgis.csv\")"
      ],
      "execution_count": null,
      "outputs": []
    },
    {
      "cell_type": "code",
      "metadata": {
        "id": "2qSe656kRIvS",
        "colab": {
          "base_uri": "https://localhost:8080/",
          "height": 386
        },
        "outputId": "36c5106a-9565-4f9f-b334-6208ec758660"
      },
      "source": [
        "raw_data.head()"
      ],
      "execution_count": null,
      "outputs": [
        {
          "output_type": "execute_result",
          "data": {
            "text/plain": [
              "  Category                     Description  Nutrient Data Bank Number  \\\n",
              "0     Milk                     Milk, human                   11000000   \n",
              "1     Milk                       Milk, NFS                   11100000   \n",
              "2     Milk                     Milk, whole                   11111000   \n",
              "3     Milk         Milk, low sodium, whole                   11111100   \n",
              "4     Milk  Milk, calcium fortified, whole                   11111150   \n",
              "\n",
              "   Data.Alpha Carotene  Data.Beta Carotene  Data.Beta Cryptoxanthin  \\\n",
              "0                    0                   7                        0   \n",
              "1                    0                   4                        0   \n",
              "2                    0                   7                        0   \n",
              "3                    0                   7                        0   \n",
              "4                    0                   7                        0   \n",
              "\n",
              "   Data.Carbohydrate  Data.Cholesterol  Data.Choline  Data.Fiber  ...  \\\n",
              "0               6.89                14          16.0         0.0  ...   \n",
              "1               4.87                 8          17.9         0.0  ...   \n",
              "2               4.67                12          17.8         0.0  ...   \n",
              "3               4.46                14          16.0         0.0  ...   \n",
              "4               4.67                12          17.8         0.0  ...   \n",
              "\n",
              "   Data.Major Minerals.Phosphorus  Data.Major Minerals.Potassium  \\\n",
              "0                              14                             51   \n",
              "1                             103                            157   \n",
              "2                             101                            150   \n",
              "3                              86                            253   \n",
              "4                             101                            150   \n",
              "\n",
              "   Data.Major Minerals.Sodium  Data.Major Minerals.Zinc  \\\n",
              "0                          17                      0.17   \n",
              "1                          39                      0.42   \n",
              "2                          38                      0.41   \n",
              "3                           3                      0.38   \n",
              "4                          38                      0.41   \n",
              "\n",
              "   Data.Vitamins.Vitamin A - RAE  Data.Vitamins.Vitamin B12  \\\n",
              "0                             61                       0.05   \n",
              "1                             59                       0.56   \n",
              "2                             32                       0.54   \n",
              "3                             29                       0.36   \n",
              "4                             32                       0.54   \n",
              "\n",
              "   Data.Vitamins.Vitamin B6  Data.Vitamins.Vitamin C  Data.Vitamins.Vitamin E  \\\n",
              "0                     0.011                      5.0                     0.08   \n",
              "1                     0.060                      0.1                     0.03   \n",
              "2                     0.061                      0.0                     0.05   \n",
              "3                     0.034                      0.9                     0.08   \n",
              "4                     0.061                      0.0                     0.05   \n",
              "\n",
              "   Data.Vitamins.Vitamin K  \n",
              "0                      0.3  \n",
              "1                      0.2  \n",
              "2                      0.3  \n",
              "3                      0.3  \n",
              "4                      0.3  \n",
              "\n",
              "[5 rows x 38 columns]"
            ],
            "text/html": [
              "\n",
              "  <div id=\"df-fbc67760-77e9-47bc-88fb-55210656c97e\">\n",
              "    <div class=\"colab-df-container\">\n",
              "      <div>\n",
              "<style scoped>\n",
              "    .dataframe tbody tr th:only-of-type {\n",
              "        vertical-align: middle;\n",
              "    }\n",
              "\n",
              "    .dataframe tbody tr th {\n",
              "        vertical-align: top;\n",
              "    }\n",
              "\n",
              "    .dataframe thead th {\n",
              "        text-align: right;\n",
              "    }\n",
              "</style>\n",
              "<table border=\"1\" class=\"dataframe\">\n",
              "  <thead>\n",
              "    <tr style=\"text-align: right;\">\n",
              "      <th></th>\n",
              "      <th>Category</th>\n",
              "      <th>Description</th>\n",
              "      <th>Nutrient Data Bank Number</th>\n",
              "      <th>Data.Alpha Carotene</th>\n",
              "      <th>Data.Beta Carotene</th>\n",
              "      <th>Data.Beta Cryptoxanthin</th>\n",
              "      <th>Data.Carbohydrate</th>\n",
              "      <th>Data.Cholesterol</th>\n",
              "      <th>Data.Choline</th>\n",
              "      <th>Data.Fiber</th>\n",
              "      <th>...</th>\n",
              "      <th>Data.Major Minerals.Phosphorus</th>\n",
              "      <th>Data.Major Minerals.Potassium</th>\n",
              "      <th>Data.Major Minerals.Sodium</th>\n",
              "      <th>Data.Major Minerals.Zinc</th>\n",
              "      <th>Data.Vitamins.Vitamin A - RAE</th>\n",
              "      <th>Data.Vitamins.Vitamin B12</th>\n",
              "      <th>Data.Vitamins.Vitamin B6</th>\n",
              "      <th>Data.Vitamins.Vitamin C</th>\n",
              "      <th>Data.Vitamins.Vitamin E</th>\n",
              "      <th>Data.Vitamins.Vitamin K</th>\n",
              "    </tr>\n",
              "  </thead>\n",
              "  <tbody>\n",
              "    <tr>\n",
              "      <th>0</th>\n",
              "      <td>Milk</td>\n",
              "      <td>Milk, human</td>\n",
              "      <td>11000000</td>\n",
              "      <td>0</td>\n",
              "      <td>7</td>\n",
              "      <td>0</td>\n",
              "      <td>6.89</td>\n",
              "      <td>14</td>\n",
              "      <td>16.0</td>\n",
              "      <td>0.0</td>\n",
              "      <td>...</td>\n",
              "      <td>14</td>\n",
              "      <td>51</td>\n",
              "      <td>17</td>\n",
              "      <td>0.17</td>\n",
              "      <td>61</td>\n",
              "      <td>0.05</td>\n",
              "      <td>0.011</td>\n",
              "      <td>5.0</td>\n",
              "      <td>0.08</td>\n",
              "      <td>0.3</td>\n",
              "    </tr>\n",
              "    <tr>\n",
              "      <th>1</th>\n",
              "      <td>Milk</td>\n",
              "      <td>Milk, NFS</td>\n",
              "      <td>11100000</td>\n",
              "      <td>0</td>\n",
              "      <td>4</td>\n",
              "      <td>0</td>\n",
              "      <td>4.87</td>\n",
              "      <td>8</td>\n",
              "      <td>17.9</td>\n",
              "      <td>0.0</td>\n",
              "      <td>...</td>\n",
              "      <td>103</td>\n",
              "      <td>157</td>\n",
              "      <td>39</td>\n",
              "      <td>0.42</td>\n",
              "      <td>59</td>\n",
              "      <td>0.56</td>\n",
              "      <td>0.060</td>\n",
              "      <td>0.1</td>\n",
              "      <td>0.03</td>\n",
              "      <td>0.2</td>\n",
              "    </tr>\n",
              "    <tr>\n",
              "      <th>2</th>\n",
              "      <td>Milk</td>\n",
              "      <td>Milk, whole</td>\n",
              "      <td>11111000</td>\n",
              "      <td>0</td>\n",
              "      <td>7</td>\n",
              "      <td>0</td>\n",
              "      <td>4.67</td>\n",
              "      <td>12</td>\n",
              "      <td>17.8</td>\n",
              "      <td>0.0</td>\n",
              "      <td>...</td>\n",
              "      <td>101</td>\n",
              "      <td>150</td>\n",
              "      <td>38</td>\n",
              "      <td>0.41</td>\n",
              "      <td>32</td>\n",
              "      <td>0.54</td>\n",
              "      <td>0.061</td>\n",
              "      <td>0.0</td>\n",
              "      <td>0.05</td>\n",
              "      <td>0.3</td>\n",
              "    </tr>\n",
              "    <tr>\n",
              "      <th>3</th>\n",
              "      <td>Milk</td>\n",
              "      <td>Milk, low sodium, whole</td>\n",
              "      <td>11111100</td>\n",
              "      <td>0</td>\n",
              "      <td>7</td>\n",
              "      <td>0</td>\n",
              "      <td>4.46</td>\n",
              "      <td>14</td>\n",
              "      <td>16.0</td>\n",
              "      <td>0.0</td>\n",
              "      <td>...</td>\n",
              "      <td>86</td>\n",
              "      <td>253</td>\n",
              "      <td>3</td>\n",
              "      <td>0.38</td>\n",
              "      <td>29</td>\n",
              "      <td>0.36</td>\n",
              "      <td>0.034</td>\n",
              "      <td>0.9</td>\n",
              "      <td>0.08</td>\n",
              "      <td>0.3</td>\n",
              "    </tr>\n",
              "    <tr>\n",
              "      <th>4</th>\n",
              "      <td>Milk</td>\n",
              "      <td>Milk, calcium fortified, whole</td>\n",
              "      <td>11111150</td>\n",
              "      <td>0</td>\n",
              "      <td>7</td>\n",
              "      <td>0</td>\n",
              "      <td>4.67</td>\n",
              "      <td>12</td>\n",
              "      <td>17.8</td>\n",
              "      <td>0.0</td>\n",
              "      <td>...</td>\n",
              "      <td>101</td>\n",
              "      <td>150</td>\n",
              "      <td>38</td>\n",
              "      <td>0.41</td>\n",
              "      <td>32</td>\n",
              "      <td>0.54</td>\n",
              "      <td>0.061</td>\n",
              "      <td>0.0</td>\n",
              "      <td>0.05</td>\n",
              "      <td>0.3</td>\n",
              "    </tr>\n",
              "  </tbody>\n",
              "</table>\n",
              "<p>5 rows × 38 columns</p>\n",
              "</div>\n",
              "      <button class=\"colab-df-convert\" onclick=\"convertToInteractive('df-fbc67760-77e9-47bc-88fb-55210656c97e')\"\n",
              "              title=\"Convert this dataframe to an interactive table.\"\n",
              "              style=\"display:none;\">\n",
              "        \n",
              "  <svg xmlns=\"http://www.w3.org/2000/svg\" height=\"24px\"viewBox=\"0 0 24 24\"\n",
              "       width=\"24px\">\n",
              "    <path d=\"M0 0h24v24H0V0z\" fill=\"none\"/>\n",
              "    <path d=\"M18.56 5.44l.94 2.06.94-2.06 2.06-.94-2.06-.94-.94-2.06-.94 2.06-2.06.94zm-11 1L8.5 8.5l.94-2.06 2.06-.94-2.06-.94L8.5 2.5l-.94 2.06-2.06.94zm10 10l.94 2.06.94-2.06 2.06-.94-2.06-.94-.94-2.06-.94 2.06-2.06.94z\"/><path d=\"M17.41 7.96l-1.37-1.37c-.4-.4-.92-.59-1.43-.59-.52 0-1.04.2-1.43.59L10.3 9.45l-7.72 7.72c-.78.78-.78 2.05 0 2.83L4 21.41c.39.39.9.59 1.41.59.51 0 1.02-.2 1.41-.59l7.78-7.78 2.81-2.81c.8-.78.8-2.07 0-2.86zM5.41 20L4 18.59l7.72-7.72 1.47 1.35L5.41 20z\"/>\n",
              "  </svg>\n",
              "      </button>\n",
              "      \n",
              "  <style>\n",
              "    .colab-df-container {\n",
              "      display:flex;\n",
              "      flex-wrap:wrap;\n",
              "      gap: 12px;\n",
              "    }\n",
              "\n",
              "    .colab-df-convert {\n",
              "      background-color: #E8F0FE;\n",
              "      border: none;\n",
              "      border-radius: 50%;\n",
              "      cursor: pointer;\n",
              "      display: none;\n",
              "      fill: #1967D2;\n",
              "      height: 32px;\n",
              "      padding: 0 0 0 0;\n",
              "      width: 32px;\n",
              "    }\n",
              "\n",
              "    .colab-df-convert:hover {\n",
              "      background-color: #E2EBFA;\n",
              "      box-shadow: 0px 1px 2px rgba(60, 64, 67, 0.3), 0px 1px 3px 1px rgba(60, 64, 67, 0.15);\n",
              "      fill: #174EA6;\n",
              "    }\n",
              "\n",
              "    [theme=dark] .colab-df-convert {\n",
              "      background-color: #3B4455;\n",
              "      fill: #D2E3FC;\n",
              "    }\n",
              "\n",
              "    [theme=dark] .colab-df-convert:hover {\n",
              "      background-color: #434B5C;\n",
              "      box-shadow: 0px 1px 3px 1px rgba(0, 0, 0, 0.15);\n",
              "      filter: drop-shadow(0px 1px 2px rgba(0, 0, 0, 0.3));\n",
              "      fill: #FFFFFF;\n",
              "    }\n",
              "  </style>\n",
              "\n",
              "      <script>\n",
              "        const buttonEl =\n",
              "          document.querySelector('#df-fbc67760-77e9-47bc-88fb-55210656c97e button.colab-df-convert');\n",
              "        buttonEl.style.display =\n",
              "          google.colab.kernel.accessAllowed ? 'block' : 'none';\n",
              "\n",
              "        async function convertToInteractive(key) {\n",
              "          const element = document.querySelector('#df-fbc67760-77e9-47bc-88fb-55210656c97e');\n",
              "          const dataTable =\n",
              "            await google.colab.kernel.invokeFunction('convertToInteractive',\n",
              "                                                     [key], {});\n",
              "          if (!dataTable) return;\n",
              "\n",
              "          const docLinkHtml = 'Like what you see? Visit the ' +\n",
              "            '<a target=\"_blank\" href=https://colab.research.google.com/notebooks/data_table.ipynb>data table notebook</a>'\n",
              "            + ' to learn more about interactive tables.';\n",
              "          element.innerHTML = '';\n",
              "          dataTable['output_type'] = 'display_data';\n",
              "          await google.colab.output.renderOutput(dataTable, element);\n",
              "          const docLink = document.createElement('div');\n",
              "          docLink.innerHTML = docLinkHtml;\n",
              "          element.appendChild(docLink);\n",
              "        }\n",
              "      </script>\n",
              "    </div>\n",
              "  </div>\n",
              "  "
            ]
          },
          "metadata": {},
          "execution_count": 6
        }
      ]
    },
    {
      "cell_type": "code",
      "source": [
        "print(f'Number of Data instances: {raw_data.shape[0]}')\n",
        "print(f'Number of Data Attributes: {raw_data.shape[1]}')"
      ],
      "metadata": {
        "colab": {
          "base_uri": "https://localhost:8080/"
        },
        "id": "-AZP4ZnMAAUW",
        "outputId": "d1b039ef-f3d2-4cef-8dbd-e5f7c578900b"
      },
      "execution_count": null,
      "outputs": [
        {
          "output_type": "stream",
          "name": "stdout",
          "text": [
            "Number of Data instances: 7083\n",
            "Number of Data Attributes: 38\n"
          ]
        }
      ]
    },
    {
      "cell_type": "markdown",
      "source": [
        "Labels information"
      ],
      "metadata": {
        "id": "-w5KskYkAPsM"
      }
    },
    {
      "cell_type": "code",
      "source": [
        "print(raw_data['Category'].value_counts())"
      ],
      "metadata": {
        "colab": {
          "base_uri": "https://localhost:8080/"
        },
        "id": "oeBJe2ZUAQ5P",
        "outputId": "84fc074a-3d69-4872-d6d5-68c757b36595"
      },
      "execution_count": null,
      "outputs": [
        {
          "output_type": "stream",
          "name": "stdout",
          "text": [
            "Infant formula                          173\n",
            "Rice                                    143\n",
            "Bread                                   119\n",
            "Potato                                  105\n",
            "Cookie                                  100\n",
            "                                       ... \n",
            "Layer dip                                 1\n",
            "Bean dip                                  1\n",
            "Refried beans with meat                   1\n",
            "Black bean salad                          1\n",
            "Industrial oil as ingredient in food      1\n",
            "Name: Category, Length: 2429, dtype: int64\n"
          ]
        }
      ]
    },
    {
      "cell_type": "markdown",
      "metadata": {
        "id": "196OrKOKinVf"
      },
      "source": [
        "Remoção de instâncias com valores ausentes:"
      ]
    },
    {
      "cell_type": "code",
      "metadata": {
        "id": "x8GZPgCIcxkC"
      },
      "source": [
        "raw_data = raw_data.replace('?',np.NaN)\n",
        "raw_data = raw_data.replace('NA',np.NaN)\n",
        "raw_data = raw_data.dropna(axis=0)"
      ],
      "execution_count": null,
      "outputs": []
    },
    {
      "cell_type": "markdown",
      "source": [
        "Remoção do atributo irrelevante para descoberta de conhecimento \"Nutrient Data Bank Number\" e remoção do atributo \"Description\" que é uma lista de ingredientes (strings) -- análise considera apenas os nutrientes"
      ],
      "metadata": {
        "id": "zUTBpjNDAXzX"
      }
    },
    {
      "cell_type": "code",
      "source": [
        "raw_data = raw_data.drop(['Nutrient Data Bank Number'],axis=1)\n",
        "raw_data = raw_data.drop(['Description'],axis=1)"
      ],
      "metadata": {
        "id": "njwCFfkr-rEJ"
      },
      "execution_count": null,
      "outputs": []
    },
    {
      "cell_type": "code",
      "source": [
        "raw_data.head()"
      ],
      "metadata": {
        "colab": {
          "base_uri": "https://localhost:8080/",
          "height": 334
        },
        "id": "IHuhoP0b-x8A",
        "outputId": "2934530d-6199-41f4-f386-2b5e50f59c1e"
      },
      "execution_count": null,
      "outputs": [
        {
          "output_type": "execute_result",
          "data": {
            "text/plain": [
              "  Category  Data.Alpha Carotene  Data.Beta Carotene  Data.Beta Cryptoxanthin  \\\n",
              "0     Milk                    0                   7                        0   \n",
              "1     Milk                    0                   4                        0   \n",
              "2     Milk                    0                   7                        0   \n",
              "3     Milk                    0                   7                        0   \n",
              "4     Milk                    0                   7                        0   \n",
              "\n",
              "   Data.Carbohydrate  Data.Cholesterol  Data.Choline  Data.Fiber  \\\n",
              "0               6.89                14          16.0         0.0   \n",
              "1               4.87                 8          17.9         0.0   \n",
              "2               4.67                12          17.8         0.0   \n",
              "3               4.46                14          16.0         0.0   \n",
              "4               4.67                12          17.8         0.0   \n",
              "\n",
              "   Data.Lutein and Zeaxanthin  Data.Lycopene  ...  \\\n",
              "0                           0              0  ...   \n",
              "1                           0              0  ...   \n",
              "2                           0              0  ...   \n",
              "3                           0              0  ...   \n",
              "4                           0              0  ...   \n",
              "\n",
              "   Data.Major Minerals.Phosphorus  Data.Major Minerals.Potassium  \\\n",
              "0                              14                             51   \n",
              "1                             103                            157   \n",
              "2                             101                            150   \n",
              "3                              86                            253   \n",
              "4                             101                            150   \n",
              "\n",
              "   Data.Major Minerals.Sodium  Data.Major Minerals.Zinc  \\\n",
              "0                          17                      0.17   \n",
              "1                          39                      0.42   \n",
              "2                          38                      0.41   \n",
              "3                           3                      0.38   \n",
              "4                          38                      0.41   \n",
              "\n",
              "   Data.Vitamins.Vitamin A - RAE  Data.Vitamins.Vitamin B12  \\\n",
              "0                             61                       0.05   \n",
              "1                             59                       0.56   \n",
              "2                             32                       0.54   \n",
              "3                             29                       0.36   \n",
              "4                             32                       0.54   \n",
              "\n",
              "   Data.Vitamins.Vitamin B6  Data.Vitamins.Vitamin C  Data.Vitamins.Vitamin E  \\\n",
              "0                     0.011                      5.0                     0.08   \n",
              "1                     0.060                      0.1                     0.03   \n",
              "2                     0.061                      0.0                     0.05   \n",
              "3                     0.034                      0.9                     0.08   \n",
              "4                     0.061                      0.0                     0.05   \n",
              "\n",
              "   Data.Vitamins.Vitamin K  \n",
              "0                      0.3  \n",
              "1                      0.2  \n",
              "2                      0.3  \n",
              "3                      0.3  \n",
              "4                      0.3  \n",
              "\n",
              "[5 rows x 36 columns]"
            ],
            "text/html": [
              "\n",
              "  <div id=\"df-f9768a68-5cc6-449f-ab6b-b85f600e602a\">\n",
              "    <div class=\"colab-df-container\">\n",
              "      <div>\n",
              "<style scoped>\n",
              "    .dataframe tbody tr th:only-of-type {\n",
              "        vertical-align: middle;\n",
              "    }\n",
              "\n",
              "    .dataframe tbody tr th {\n",
              "        vertical-align: top;\n",
              "    }\n",
              "\n",
              "    .dataframe thead th {\n",
              "        text-align: right;\n",
              "    }\n",
              "</style>\n",
              "<table border=\"1\" class=\"dataframe\">\n",
              "  <thead>\n",
              "    <tr style=\"text-align: right;\">\n",
              "      <th></th>\n",
              "      <th>Category</th>\n",
              "      <th>Data.Alpha Carotene</th>\n",
              "      <th>Data.Beta Carotene</th>\n",
              "      <th>Data.Beta Cryptoxanthin</th>\n",
              "      <th>Data.Carbohydrate</th>\n",
              "      <th>Data.Cholesterol</th>\n",
              "      <th>Data.Choline</th>\n",
              "      <th>Data.Fiber</th>\n",
              "      <th>Data.Lutein and Zeaxanthin</th>\n",
              "      <th>Data.Lycopene</th>\n",
              "      <th>...</th>\n",
              "      <th>Data.Major Minerals.Phosphorus</th>\n",
              "      <th>Data.Major Minerals.Potassium</th>\n",
              "      <th>Data.Major Minerals.Sodium</th>\n",
              "      <th>Data.Major Minerals.Zinc</th>\n",
              "      <th>Data.Vitamins.Vitamin A - RAE</th>\n",
              "      <th>Data.Vitamins.Vitamin B12</th>\n",
              "      <th>Data.Vitamins.Vitamin B6</th>\n",
              "      <th>Data.Vitamins.Vitamin C</th>\n",
              "      <th>Data.Vitamins.Vitamin E</th>\n",
              "      <th>Data.Vitamins.Vitamin K</th>\n",
              "    </tr>\n",
              "  </thead>\n",
              "  <tbody>\n",
              "    <tr>\n",
              "      <th>0</th>\n",
              "      <td>Milk</td>\n",
              "      <td>0</td>\n",
              "      <td>7</td>\n",
              "      <td>0</td>\n",
              "      <td>6.89</td>\n",
              "      <td>14</td>\n",
              "      <td>16.0</td>\n",
              "      <td>0.0</td>\n",
              "      <td>0</td>\n",
              "      <td>0</td>\n",
              "      <td>...</td>\n",
              "      <td>14</td>\n",
              "      <td>51</td>\n",
              "      <td>17</td>\n",
              "      <td>0.17</td>\n",
              "      <td>61</td>\n",
              "      <td>0.05</td>\n",
              "      <td>0.011</td>\n",
              "      <td>5.0</td>\n",
              "      <td>0.08</td>\n",
              "      <td>0.3</td>\n",
              "    </tr>\n",
              "    <tr>\n",
              "      <th>1</th>\n",
              "      <td>Milk</td>\n",
              "      <td>0</td>\n",
              "      <td>4</td>\n",
              "      <td>0</td>\n",
              "      <td>4.87</td>\n",
              "      <td>8</td>\n",
              "      <td>17.9</td>\n",
              "      <td>0.0</td>\n",
              "      <td>0</td>\n",
              "      <td>0</td>\n",
              "      <td>...</td>\n",
              "      <td>103</td>\n",
              "      <td>157</td>\n",
              "      <td>39</td>\n",
              "      <td>0.42</td>\n",
              "      <td>59</td>\n",
              "      <td>0.56</td>\n",
              "      <td>0.060</td>\n",
              "      <td>0.1</td>\n",
              "      <td>0.03</td>\n",
              "      <td>0.2</td>\n",
              "    </tr>\n",
              "    <tr>\n",
              "      <th>2</th>\n",
              "      <td>Milk</td>\n",
              "      <td>0</td>\n",
              "      <td>7</td>\n",
              "      <td>0</td>\n",
              "      <td>4.67</td>\n",
              "      <td>12</td>\n",
              "      <td>17.8</td>\n",
              "      <td>0.0</td>\n",
              "      <td>0</td>\n",
              "      <td>0</td>\n",
              "      <td>...</td>\n",
              "      <td>101</td>\n",
              "      <td>150</td>\n",
              "      <td>38</td>\n",
              "      <td>0.41</td>\n",
              "      <td>32</td>\n",
              "      <td>0.54</td>\n",
              "      <td>0.061</td>\n",
              "      <td>0.0</td>\n",
              "      <td>0.05</td>\n",
              "      <td>0.3</td>\n",
              "    </tr>\n",
              "    <tr>\n",
              "      <th>3</th>\n",
              "      <td>Milk</td>\n",
              "      <td>0</td>\n",
              "      <td>7</td>\n",
              "      <td>0</td>\n",
              "      <td>4.46</td>\n",
              "      <td>14</td>\n",
              "      <td>16.0</td>\n",
              "      <td>0.0</td>\n",
              "      <td>0</td>\n",
              "      <td>0</td>\n",
              "      <td>...</td>\n",
              "      <td>86</td>\n",
              "      <td>253</td>\n",
              "      <td>3</td>\n",
              "      <td>0.38</td>\n",
              "      <td>29</td>\n",
              "      <td>0.36</td>\n",
              "      <td>0.034</td>\n",
              "      <td>0.9</td>\n",
              "      <td>0.08</td>\n",
              "      <td>0.3</td>\n",
              "    </tr>\n",
              "    <tr>\n",
              "      <th>4</th>\n",
              "      <td>Milk</td>\n",
              "      <td>0</td>\n",
              "      <td>7</td>\n",
              "      <td>0</td>\n",
              "      <td>4.67</td>\n",
              "      <td>12</td>\n",
              "      <td>17.8</td>\n",
              "      <td>0.0</td>\n",
              "      <td>0</td>\n",
              "      <td>0</td>\n",
              "      <td>...</td>\n",
              "      <td>101</td>\n",
              "      <td>150</td>\n",
              "      <td>38</td>\n",
              "      <td>0.41</td>\n",
              "      <td>32</td>\n",
              "      <td>0.54</td>\n",
              "      <td>0.061</td>\n",
              "      <td>0.0</td>\n",
              "      <td>0.05</td>\n",
              "      <td>0.3</td>\n",
              "    </tr>\n",
              "  </tbody>\n",
              "</table>\n",
              "<p>5 rows × 36 columns</p>\n",
              "</div>\n",
              "      <button class=\"colab-df-convert\" onclick=\"convertToInteractive('df-f9768a68-5cc6-449f-ab6b-b85f600e602a')\"\n",
              "              title=\"Convert this dataframe to an interactive table.\"\n",
              "              style=\"display:none;\">\n",
              "        \n",
              "  <svg xmlns=\"http://www.w3.org/2000/svg\" height=\"24px\"viewBox=\"0 0 24 24\"\n",
              "       width=\"24px\">\n",
              "    <path d=\"M0 0h24v24H0V0z\" fill=\"none\"/>\n",
              "    <path d=\"M18.56 5.44l.94 2.06.94-2.06 2.06-.94-2.06-.94-.94-2.06-.94 2.06-2.06.94zm-11 1L8.5 8.5l.94-2.06 2.06-.94-2.06-.94L8.5 2.5l-.94 2.06-2.06.94zm10 10l.94 2.06.94-2.06 2.06-.94-2.06-.94-.94-2.06-.94 2.06-2.06.94z\"/><path d=\"M17.41 7.96l-1.37-1.37c-.4-.4-.92-.59-1.43-.59-.52 0-1.04.2-1.43.59L10.3 9.45l-7.72 7.72c-.78.78-.78 2.05 0 2.83L4 21.41c.39.39.9.59 1.41.59.51 0 1.02-.2 1.41-.59l7.78-7.78 2.81-2.81c.8-.78.8-2.07 0-2.86zM5.41 20L4 18.59l7.72-7.72 1.47 1.35L5.41 20z\"/>\n",
              "  </svg>\n",
              "      </button>\n",
              "      \n",
              "  <style>\n",
              "    .colab-df-container {\n",
              "      display:flex;\n",
              "      flex-wrap:wrap;\n",
              "      gap: 12px;\n",
              "    }\n",
              "\n",
              "    .colab-df-convert {\n",
              "      background-color: #E8F0FE;\n",
              "      border: none;\n",
              "      border-radius: 50%;\n",
              "      cursor: pointer;\n",
              "      display: none;\n",
              "      fill: #1967D2;\n",
              "      height: 32px;\n",
              "      padding: 0 0 0 0;\n",
              "      width: 32px;\n",
              "    }\n",
              "\n",
              "    .colab-df-convert:hover {\n",
              "      background-color: #E2EBFA;\n",
              "      box-shadow: 0px 1px 2px rgba(60, 64, 67, 0.3), 0px 1px 3px 1px rgba(60, 64, 67, 0.15);\n",
              "      fill: #174EA6;\n",
              "    }\n",
              "\n",
              "    [theme=dark] .colab-df-convert {\n",
              "      background-color: #3B4455;\n",
              "      fill: #D2E3FC;\n",
              "    }\n",
              "\n",
              "    [theme=dark] .colab-df-convert:hover {\n",
              "      background-color: #434B5C;\n",
              "      box-shadow: 0px 1px 3px 1px rgba(0, 0, 0, 0.15);\n",
              "      filter: drop-shadow(0px 1px 2px rgba(0, 0, 0, 0.3));\n",
              "      fill: #FFFFFF;\n",
              "    }\n",
              "  </style>\n",
              "\n",
              "      <script>\n",
              "        const buttonEl =\n",
              "          document.querySelector('#df-f9768a68-5cc6-449f-ab6b-b85f600e602a button.colab-df-convert');\n",
              "        buttonEl.style.display =\n",
              "          google.colab.kernel.accessAllowed ? 'block' : 'none';\n",
              "\n",
              "        async function convertToInteractive(key) {\n",
              "          const element = document.querySelector('#df-f9768a68-5cc6-449f-ab6b-b85f600e602a');\n",
              "          const dataTable =\n",
              "            await google.colab.kernel.invokeFunction('convertToInteractive',\n",
              "                                                     [key], {});\n",
              "          if (!dataTable) return;\n",
              "\n",
              "          const docLinkHtml = 'Like what you see? Visit the ' +\n",
              "            '<a target=\"_blank\" href=https://colab.research.google.com/notebooks/data_table.ipynb>data table notebook</a>'\n",
              "            + ' to learn more about interactive tables.';\n",
              "          element.innerHTML = '';\n",
              "          dataTable['output_type'] = 'display_data';\n",
              "          await google.colab.output.renderOutput(dataTable, element);\n",
              "          const docLink = document.createElement('div');\n",
              "          docLink.innerHTML = docLinkHtml;\n",
              "          element.appendChild(docLink);\n",
              "        }\n",
              "      </script>\n",
              "    </div>\n",
              "  </div>\n",
              "  "
            ]
          },
          "metadata": {},
          "execution_count": 11
        }
      ]
    },
    {
      "cell_type": "markdown",
      "source": [
        "Filtragem\n",
        "\n",
        "Vamos analisa somente os produtos cujas categorias indiquem a presença de leite\n",
        "\n"
      ],
      "metadata": {
        "id": "bkdla5yrCGnh"
      }
    },
    {
      "cell_type": "code",
      "source": [
        "flag_milk = []\n",
        "for label in raw_data['Category']:\n",
        "    if \"milk\" in label or \"Milk\" in label:\n",
        "        flag_milk.append(True)\n",
        "    else:\n",
        "        flag_milk.append(False)"
      ],
      "metadata": {
        "id": "BnUIKdXJCOBG"
      },
      "execution_count": null,
      "outputs": []
    },
    {
      "cell_type": "code",
      "source": [
        "df_milk = raw_data[flag_milk]"
      ],
      "metadata": {
        "id": "Me9sBvgtC-qE"
      },
      "execution_count": null,
      "outputs": []
    },
    {
      "cell_type": "code",
      "source": [
        "print(f'Number of Data instances: {df_milk.shape[0]}')\n",
        "print(f'Number of Data Attributes: {df_milk.shape[1]}')"
      ],
      "metadata": {
        "colab": {
          "base_uri": "https://localhost:8080/"
        },
        "id": "syAPdxzqDQEQ",
        "outputId": "9a2dd0c1-334c-433d-9c8c-4eda842647be"
      },
      "execution_count": null,
      "outputs": [
        {
          "output_type": "stream",
          "name": "stdout",
          "text": [
            "Number of Data instances: 129\n",
            "Number of Data Attributes: 36\n"
          ]
        }
      ]
    },
    {
      "cell_type": "markdown",
      "metadata": {
        "id": "BHXs5q7qNPGJ"
      },
      "source": [
        "Pré-processamento\n"
      ]
    },
    {
      "cell_type": "code",
      "source": [
        "labels = df_milk['Category'].values\n",
        "df_milk = df_milk.drop(['Category'],axis=1)\n",
        "X = df_milk.values"
      ],
      "metadata": {
        "id": "qKN-dSxj_Mj_"
      },
      "execution_count": null,
      "outputs": []
    },
    {
      "cell_type": "markdown",
      "source": [
        "Normalização dos atributos para o intervalo [0,1]"
      ],
      "metadata": {
        "id": "n_hZY6JN_UCO"
      }
    },
    {
      "cell_type": "code",
      "source": [
        "normalize = preprocessing.MinMaxScaler()\n",
        "xscaled = normalize.fit_transform(X)"
      ],
      "metadata": {
        "id": "JH6bPcbv_UH7"
      },
      "execution_count": null,
      "outputs": []
    },
    {
      "cell_type": "code",
      "source": [
        "xscaled"
      ],
      "metadata": {
        "colab": {
          "base_uri": "https://localhost:8080/"
        },
        "id": "lfK3KM08_hgJ",
        "outputId": "5db6b9d6-fc39-4223-821d-b40c617f2071"
      },
      "execution_count": null,
      "outputs": [
        {
          "output_type": "execute_result",
          "data": {
            "text/plain": [
              "array([[0.        , 0.12727273, 0.        , ..., 0.09174312, 0.00651997,\n",
              "        0.05263158],\n",
              "       [0.        , 0.07272727, 0.        , ..., 0.00183486, 0.00244499,\n",
              "        0.03508772],\n",
              "       [0.        , 0.12727273, 0.        , ..., 0.        , 0.00407498,\n",
              "        0.05263158],\n",
              "       ...,\n",
              "       [0.        , 0.05454545, 0.        , ..., 0.        , 0.00244499,\n",
              "        0.03508772],\n",
              "       [0.        , 0.05454545, 0.        , ..., 0.        , 0.00325998,\n",
              "        0.03508772],\n",
              "       [0.        , 0.        , 0.        , ..., 0.55045872, 0.57620212,\n",
              "        0.0877193 ]])"
            ]
          },
          "metadata": {},
          "execution_count": 17
        }
      ]
    },
    {
      "cell_type": "markdown",
      "metadata": {
        "id": "mdjazECBcxcL"
      },
      "source": [
        "## Visualização baseada no posicionamento de pontos utilizando Análise de Componentes Principais"
      ]
    },
    {
      "cell_type": "markdown",
      "metadata": {
        "id": "ajFOI7RgeKuc"
      },
      "source": [
        "Reduz a dimensionalidade dos dados"
      ]
    },
    {
      "cell_type": "code",
      "metadata": {
        "id": "iTMyFYxUeJvl",
        "colab": {
          "base_uri": "https://localhost:8080/",
          "height": 542
        },
        "outputId": "ef61ce52-d71a-4b39-e05f-2df219e57187"
      },
      "source": [
        "sklearn_pca = sklearnPCA(n_components=2)\n",
        "X_pca = sklearn_pca.fit_transform(xscaled)\n",
        "\n",
        "#pca = PCA(n_components=2)\n",
        "#components = pca.fit_transform(X)\n",
        "\n",
        "fig = px.scatter(X_pca, x=0, y=1, color=labels.astype(object))\n",
        "fig.show()"
      ],
      "execution_count": null,
      "outputs": [
        {
          "output_type": "display_data",
          "data": {
            "text/html": [
              "<html>\n",
              "<head><meta charset=\"utf-8\" /></head>\n",
              "<body>\n",
              "    <div>            <script src=\"https://cdnjs.cloudflare.com/ajax/libs/mathjax/2.7.5/MathJax.js?config=TeX-AMS-MML_SVG\"></script><script type=\"text/javascript\">if (window.MathJax) {MathJax.Hub.Config({SVG: {font: \"STIX-Web\"}});}</script>                <script type=\"text/javascript\">window.PlotlyConfig = {MathJaxConfig: 'local'};</script>\n",
              "        <script src=\"https://cdn.plot.ly/plotly-latest.min.js\"></script>                <div id=\"46c4fc6b-dd20-465f-90af-6372f7622f8e\" class=\"plotly-graph-div\" style=\"height:525px; width:100%;\"></div>            <script type=\"text/javascript\">                                    window.PLOTLYENV=window.PLOTLYENV || {};                                    if (document.getElementById(\"46c4fc6b-dd20-465f-90af-6372f7622f8e\")) {                    Plotly.newPlot(                        \"46c4fc6b-dd20-465f-90af-6372f7622f8e\",                        [{\"hovertemplate\": \"color=Milk<br>0=%{x}<br>1=%{y}<extra></extra>\", \"legendgroup\": \"Milk\", \"marker\": {\"color\": \"#636efa\", \"symbol\": \"circle\"}, \"mode\": \"markers\", \"name\": \"Milk\", \"orientation\": \"v\", \"showlegend\": true, \"type\": \"scatter\", \"x\": [-0.30912251771516147, -0.28024199158842883, -0.26076088324209123, -0.2861748324145119, -0.2607608832420924, -0.29956937684307183, -0.30410124670584743, -0.27776992606349193, -0.2995693768430717, -0.2777699260634924, -0.29956937684307183, -0.31854421170339825, -0.2995693768430717, -0.31854421170339825, -0.2777699260634921, -0.26076088324209157, -0.34701388790551, -0.18138682035157042, -0.32353192064978803, -0.3574207227322203, 0.08019842609840236, 0.08019842609840236, -0.030678702020733292, -0.07096849424397002, 0.8033889628615538, -0.18396059951297555, 2.2469632163312063, 2.144283770186978, 2.245848734899687, 2.2469632163312068, 1.936834543723573], \"xaxis\": \"x\", \"y\": [0.12732387400476064, -0.06625295482347822, -0.0204748674954147, 0.02167680127687457, -0.02047486749541463, -0.10093131844327487, -0.15337105539772927, -0.07360714772306577, -0.100931318443275, -0.07360714772306522, -0.10093131844327505, -0.13430556514049882, -0.10093131844327509, -0.1343055651404989, -0.07360714772306559, -0.02047486749541488, -0.11877647820699026, -0.016162031331650967, -0.08628659444319436, -0.10678793180145729, 0.021751874463367713, 0.02175187446336778, -0.1716703859663921, -0.23479797201395808, 0.04873826894189681, -0.08675678866490105, -1.4544803561350457, -0.15517304595802656, -1.4076075185390022, -1.454480356135045, -0.5593139941780891], \"yaxis\": \"y\"}, {\"hovertemplate\": \"color=Buttermilk<br>0=%{x}<br>1=%{y}<extra></extra>\", \"legendgroup\": \"Buttermilk\", \"marker\": {\"color\": \"#EF553B\", \"symbol\": \"circle\"}, \"mode\": \"markers\", \"name\": \"Buttermilk\", \"orientation\": \"v\", \"showlegend\": true, \"type\": \"scatter\", \"x\": [-0.28927770574541406, -0.2892777057454143, -0.24745352277417218, -0.2252588958082072], \"xaxis\": \"x\", \"y\": [-0.11579931465269226, -0.11579931465269237, -0.08830092775712359, -0.04077326665475172], \"yaxis\": \"y\"}, {\"hovertemplate\": \"color=Goat's milk<br>0=%{x}<br>1=%{y}<extra></extra>\", \"legendgroup\": \"Goat's milk\", \"marker\": {\"color\": \"#00cc96\", \"symbol\": \"circle\"}, \"mode\": \"markers\", \"name\": \"Goat's milk\", \"orientation\": \"v\", \"showlegend\": true, \"type\": \"scatter\", \"x\": [-0.24432251412184883], \"xaxis\": \"x\", \"y\": [0.016826220429304147], \"yaxis\": \"y\"}, {\"hovertemplate\": \"color=Non-dairy milk<br>0=%{x}<br>1=%{y}<extra></extra>\", \"legendgroup\": \"Non-dairy milk\", \"marker\": {\"color\": \"#ab63fa\", \"symbol\": \"circle\"}, \"mode\": \"markers\", \"name\": \"Non-dairy milk\", \"orientation\": \"v\", \"showlegend\": true, \"type\": \"scatter\", \"x\": [-0.34913887044991826], \"xaxis\": \"x\", \"y\": [0.026597391920007964], \"yaxis\": \"y\"}, {\"hovertemplate\": \"color=Soy milk<br>0=%{x}<br>1=%{y}<extra></extra>\", \"legendgroup\": \"Soy milk\", \"marker\": {\"color\": \"#FFA15A\", \"symbol\": \"circle\"}, \"mode\": \"markers\", \"name\": \"Soy milk\", \"orientation\": \"v\", \"showlegend\": true, \"type\": \"scatter\", \"x\": [-0.18330642192308214, -0.259448938219834, -0.2951417437238432, -0.09571198489986171, -0.12516165415085623, -0.12516165415085623], \"xaxis\": \"x\", \"y\": [0.14100918493817854, 0.0021551141616008604, 0.046231577176594735, 0.1387356577217172, 0.14558656628836356, 0.14558656628836356], \"yaxis\": \"y\"}, {\"hovertemplate\": \"color=Almond milk<br>0=%{x}<br>1=%{y}<extra></extra>\", \"legendgroup\": \"Almond milk\", \"marker\": {\"color\": \"#19d3f3\", \"symbol\": \"circle\"}, \"mode\": \"markers\", \"name\": \"Almond milk\", \"orientation\": \"v\", \"showlegend\": true, \"type\": \"scatter\", \"x\": [-0.40005032291085624, -0.3652298054757358, -0.4367329722757579, -0.42997082309628987], \"xaxis\": \"x\", \"y\": [-0.015954430783510283, -0.00022227846426524936, -0.032283210472933324, -0.02825978060716237], \"yaxis\": \"y\"}, {\"hovertemplate\": \"color=Rice milk<br>0=%{x}<br>1=%{y}<extra></extra>\", \"legendgroup\": \"Rice milk\", \"marker\": {\"color\": \"#FF6692\", \"symbol\": \"circle\"}, \"mode\": \"markers\", \"name\": \"Rice milk\", \"orientation\": \"v\", \"showlegend\": true, \"type\": \"scatter\", \"x\": [-0.32650386342739496], \"xaxis\": \"x\", \"y\": [-0.015133955213630132], \"yaxis\": \"y\"}, {\"hovertemplate\": \"color=Coconut milk<br>0=%{x}<br>1=%{y}<extra></extra>\", \"legendgroup\": \"Coconut milk\", \"marker\": {\"color\": \"#B6E880\", \"symbol\": \"circle\"}, \"mode\": \"markers\", \"name\": \"Coconut milk\", \"orientation\": \"v\", \"showlegend\": true, \"type\": \"scatter\", \"x\": [-0.4485945598425908, 0.08135292179607523], \"xaxis\": \"x\", \"y\": [-0.005924735911349454, 0.6275969373980481], \"yaxis\": \"y\"}, {\"hovertemplate\": \"color=Chocolate milk<br>0=%{x}<br>1=%{y}<extra></extra>\", \"legendgroup\": \"Chocolate milk\", \"marker\": {\"color\": \"#FF97FF\", \"symbol\": \"circle\"}, \"mode\": \"markers\", \"name\": \"Chocolate milk\", \"orientation\": \"v\", \"showlegend\": true, \"type\": \"scatter\", \"x\": [-0.23051368776728273, -0.17694502044588512, -0.18326931195078133, -0.23051368776728273, -0.23497025612297393, -0.26507885224230004, -0.23497025612297393, -0.23051368776728273, -0.23497025612297393, -0.2023783786904348, -0.18509537356964198, -0.20006142098827198, -0.22128744582703186, -0.2364345391200169, -0.21110176385737628, -0.15991973460171832, -0.1418432544220597, -0.1577662737613457, -0.1789625129469721, -0.19642628360982908, -0.17220809924323177, -0.2023783786904348, -0.18509537356964198, -0.20006142098827198, -0.22128744582703186, -0.2364345391200169, -0.21110176385737628, -0.15991973460171832, -0.1418432544220597, -0.1577662737613457, -0.1789625129469721, -0.19642628360982908, -0.17220809924323177, -0.20958619071055415, -0.19304703925897004, -0.20665928513466914, -0.22712355061324002, -0.24350769715917722, -0.22045793260289268, -0.25698871455235983, -0.24022630487759644, -0.2543568447628141, -0.27428175077449896, -0.29069801863256267, -0.26761003529597616, -0.23487942581534396, -0.21776420051099513, -0.23235386980625172, -0.2524193595415165, -0.26824920427427296, -0.24446567215053738], \"xaxis\": \"x\", \"y\": [-0.10508156084533526, 0.039011448046461124, -0.029681569716599375, -0.10508156084533526, -0.07816563352524636, -0.094620561897037, -0.07816563352524636, -0.10508156084533526, -0.07816563352524636, -0.045188825899576596, -0.0019738263517054444, -0.05222185703743594, -0.07787229493281239, -0.1031917370522274, 0.08090193671887218, -0.0881395356062045, -0.04425242467638693, -0.09517841853940565, -0.12147406442599315, -0.15401851595978786, 0.03244901237341666, -0.045188825899576596, -0.0019738263517054444, -0.05222185703743594, -0.07787229493281239, -0.1031917370522274, 0.08090193671887218, -0.0881395356062045, -0.04425242467638693, -0.09517841853940565, -0.12147406442599315, -0.15401851595978786, 0.03244901237341666, -0.0354478286646115, 0.00512915645732031, -0.04239587625313343, -0.06640389492164407, -0.09592809299310541, 0.07564252447678643, -0.04884479859393741, -0.008064633451797318, -0.05572190574580781, -0.08037339871601616, -0.1101196942489435, 0.062363327921609375, -0.005853167893786936, 0.034704275997729156, -0.012551994192506724, -0.03728691884024043, -0.06753307629727741, 0.10813267907935441], \"yaxis\": \"y\"}, {\"hovertemplate\": \"color=Strawberry milk<br>0=%{x}<br>1=%{y}<extra></extra>\", \"legendgroup\": \"Strawberry milk\", \"marker\": {\"color\": \"#FECB52\", \"symbol\": \"circle\"}, \"mode\": \"markers\", \"name\": \"Strawberry milk\", \"orientation\": \"v\", \"showlegend\": true, \"type\": \"scatter\", \"x\": [-0.27352079319356404, -0.20305029768441982, -0.22938524740900168, -0.23872402411827198, -0.2560500595912763, -0.2832749972635967, -0.23101006592134357], \"xaxis\": \"x\", \"y\": [-0.07182086104724036, 0.00759664418331785, -0.047863595099534105, -0.06783213153632207, -0.09917152074411552, -0.09179649394831393, 0.0839857394177428], \"yaxis\": \"y\"}, {\"hovertemplate\": \"color=Milk shake<br>0=%{x}<br>1=%{y}<extra></extra>\", \"legendgroup\": \"Milk shake\", \"marker\": {\"color\": \"#636efa\", \"symbol\": \"circle\"}, \"mode\": \"markers\", \"name\": \"Milk shake\", \"orientation\": \"v\", \"showlegend\": true, \"type\": \"scatter\", \"x\": [-0.06195190991250152, -0.09669309320873135, -0.11980176666978791, -0.14630068176136063, 0.1401767772810776, 0.08477857623507394, 0.1401767772810776, 0.08477857623507394], \"xaxis\": \"x\", \"y\": [0.09613563997834519, 0.06982306565937478, -0.00037544551854255625, -0.045522189178173994, 0.16058982222207283, 0.08226826296909288, 0.16058982222207283, 0.08226826296909288], \"yaxis\": \"y\"}, {\"hovertemplate\": \"color=Milk shake with malt<br>0=%{x}<br>1=%{y}<extra></extra>\", \"legendgroup\": \"Milk shake with malt\", \"marker\": {\"color\": \"#EF553B\", \"symbol\": \"circle\"}, \"mode\": \"markers\", \"name\": \"Milk shake with malt\", \"orientation\": \"v\", \"showlegend\": true, \"type\": \"scatter\", \"x\": [-0.03693620971609209], \"xaxis\": \"x\", \"y\": [0.07482134127520815], \"yaxis\": \"y\"}, {\"hovertemplate\": \"color=Chocolate milk drink<br>0=%{x}<br>1=%{y}<extra></extra>\", \"legendgroup\": \"Chocolate milk drink\", \"marker\": {\"color\": \"#00cc96\", \"symbol\": \"circle\"}, \"mode\": \"markers\", \"name\": \"Chocolate milk drink\", \"orientation\": \"v\", \"showlegend\": true, \"type\": \"scatter\", \"x\": [-0.33366317156929964], \"xaxis\": \"x\", \"y\": [0.03976283891719901], \"yaxis\": \"y\"}, {\"hovertemplate\": \"color=Milk dessert or milk candy<br>0=%{x}<br>1=%{y}<extra></extra>\", \"legendgroup\": \"Milk dessert or milk candy\", \"marker\": {\"color\": \"#ab63fa\", \"symbol\": \"circle\"}, \"mode\": \"markers\", \"name\": \"Milk dessert or milk candy\", \"orientation\": \"v\", \"showlegend\": true, \"type\": \"scatter\", \"x\": [0.6673478739739521], \"xaxis\": \"x\", \"y\": [0.14627122348284427], \"yaxis\": \"y\"}, {\"hovertemplate\": \"color=Milk 'n Cereal bar<br>0=%{x}<br>1=%{y}<extra></extra>\", \"legendgroup\": \"Milk 'n Cereal bar\", \"marker\": {\"color\": \"#FFA15A\", \"symbol\": \"circle\"}, \"mode\": \"markers\", \"name\": \"Milk 'n Cereal bar\", \"orientation\": \"v\", \"showlegend\": true, \"type\": \"scatter\", \"x\": [1.2439119485976886], \"xaxis\": \"x\", \"y\": [0.09038645750763931], \"yaxis\": \"y\"}, {\"hovertemplate\": \"color=Nutrition bar (Tiger's Milk)<br>0=%{x}<br>1=%{y}<extra></extra>\", \"legendgroup\": \"Nutrition bar (Tiger's Milk)\", \"marker\": {\"color\": \"#19d3f3\", \"symbol\": \"circle\"}, \"mode\": \"markers\", \"name\": \"Nutrition bar (Tiger's Milk)\", \"orientation\": \"v\", \"showlegend\": true, \"type\": \"scatter\", \"x\": [1.8659536504554608], \"xaxis\": \"x\", \"y\": [0.39581549023540197], \"yaxis\": \"y\"}, {\"hovertemplate\": \"color=Milk chocolate candy<br>0=%{x}<br>1=%{y}<extra></extra>\", \"legendgroup\": \"Milk chocolate candy\", \"marker\": {\"color\": \"#FF6692\", \"symbol\": \"circle\"}, \"mode\": \"markers\", \"name\": \"Milk chocolate candy\", \"orientation\": \"v\", \"showlegend\": true, \"type\": \"scatter\", \"x\": [1.4146361142385078, 1.4118091048640786, 1.233781462984502, 1.5949529725734322], \"xaxis\": \"x\", \"y\": [1.5562450412027324, 1.4986863545080147, 1.3485055188806072, 1.786755909411732], \"yaxis\": \"y\"}, {\"hovertemplate\": \"color=M&M's Milk Chocolate Candies<br>0=%{x}<br>1=%{y}<extra></extra>\", \"legendgroup\": \"M&M's Milk Chocolate Candies\", \"marker\": {\"color\": \"#B6E880\", \"symbol\": \"circle\"}, \"mode\": \"markers\", \"name\": \"M&M's Milk Chocolate Candies\", \"orientation\": \"v\", \"showlegend\": true, \"type\": \"scatter\", \"x\": [1.0451495808107127], \"xaxis\": \"x\", \"y\": [1.003497715712254], \"yaxis\": \"y\"}, {\"hovertemplate\": \"color=Oatmeal beverage with milk<br>0=%{x}<br>1=%{y}<extra></extra>\", \"legendgroup\": \"Oatmeal beverage with milk\", \"marker\": {\"color\": \"#FF97FF\", \"symbol\": \"circle\"}, \"mode\": \"markers\", \"name\": \"Oatmeal beverage with milk\", \"orientation\": \"v\", \"showlegend\": true, \"type\": \"scatter\", \"x\": [-0.22497579748037783], \"xaxis\": \"x\", \"y\": [0.266233977952283], \"yaxis\": \"y\"}, {\"hovertemplate\": \"color=Cornmeal beverage with chocolate milk<br>0=%{x}<br>1=%{y}<extra></extra>\", \"legendgroup\": \"Cornmeal beverage with chocolate milk\", \"marker\": {\"color\": \"#FECB52\", \"symbol\": \"circle\"}, \"mode\": \"markers\", \"name\": \"Cornmeal beverage with chocolate milk\", \"orientation\": \"v\", \"showlegend\": true, \"type\": \"scatter\", \"x\": [-0.18010843474197963], \"xaxis\": \"x\", \"y\": [0.1485518419106986], \"yaxis\": \"y\"}, {\"hovertemplate\": \"color=Nutritional powder mix (Muscle Milk)<br>0=%{x}<br>1=%{y}<extra></extra>\", \"legendgroup\": \"Nutritional powder mix (Muscle Milk)\", \"marker\": {\"color\": \"#636efa\", \"symbol\": \"circle\"}, \"mode\": \"markers\", \"name\": \"Nutritional powder mix (Muscle Milk)\", \"orientation\": \"v\", \"showlegend\": true, \"type\": \"scatter\", \"x\": [2.266655243722185], \"xaxis\": \"x\", \"y\": [-0.3651188282059009], \"yaxis\": \"y\"}],                        {\"legend\": {\"title\": {\"text\": \"color\"}, \"tracegroupgap\": 0}, \"margin\": {\"t\": 60}, \"template\": {\"data\": {\"bar\": [{\"error_x\": {\"color\": \"#2a3f5f\"}, \"error_y\": {\"color\": \"#2a3f5f\"}, \"marker\": {\"line\": {\"color\": \"#E5ECF6\", \"width\": 0.5}}, \"type\": \"bar\"}], \"barpolar\": [{\"marker\": {\"line\": {\"color\": \"#E5ECF6\", \"width\": 0.5}}, \"type\": \"barpolar\"}], \"carpet\": [{\"aaxis\": {\"endlinecolor\": \"#2a3f5f\", \"gridcolor\": \"white\", \"linecolor\": \"white\", \"minorgridcolor\": \"white\", \"startlinecolor\": \"#2a3f5f\"}, \"baxis\": {\"endlinecolor\": \"#2a3f5f\", \"gridcolor\": \"white\", \"linecolor\": \"white\", \"minorgridcolor\": \"white\", \"startlinecolor\": \"#2a3f5f\"}, \"type\": \"carpet\"}], \"choropleth\": [{\"colorbar\": {\"outlinewidth\": 0, \"ticks\": \"\"}, \"type\": \"choropleth\"}], \"contour\": [{\"colorbar\": {\"outlinewidth\": 0, \"ticks\": \"\"}, \"colorscale\": [[0.0, \"#0d0887\"], [0.1111111111111111, \"#46039f\"], [0.2222222222222222, \"#7201a8\"], [0.3333333333333333, \"#9c179e\"], [0.4444444444444444, \"#bd3786\"], [0.5555555555555556, \"#d8576b\"], [0.6666666666666666, \"#ed7953\"], [0.7777777777777778, \"#fb9f3a\"], [0.8888888888888888, \"#fdca26\"], [1.0, \"#f0f921\"]], \"type\": \"contour\"}], \"contourcarpet\": [{\"colorbar\": {\"outlinewidth\": 0, \"ticks\": \"\"}, \"type\": \"contourcarpet\"}], \"heatmap\": [{\"colorbar\": {\"outlinewidth\": 0, \"ticks\": \"\"}, \"colorscale\": [[0.0, \"#0d0887\"], [0.1111111111111111, \"#46039f\"], [0.2222222222222222, \"#7201a8\"], [0.3333333333333333, \"#9c179e\"], [0.4444444444444444, \"#bd3786\"], [0.5555555555555556, \"#d8576b\"], [0.6666666666666666, \"#ed7953\"], [0.7777777777777778, \"#fb9f3a\"], [0.8888888888888888, \"#fdca26\"], [1.0, \"#f0f921\"]], \"type\": \"heatmap\"}], \"heatmapgl\": [{\"colorbar\": {\"outlinewidth\": 0, \"ticks\": \"\"}, \"colorscale\": [[0.0, \"#0d0887\"], [0.1111111111111111, \"#46039f\"], [0.2222222222222222, \"#7201a8\"], [0.3333333333333333, \"#9c179e\"], [0.4444444444444444, \"#bd3786\"], [0.5555555555555556, \"#d8576b\"], [0.6666666666666666, \"#ed7953\"], [0.7777777777777778, \"#fb9f3a\"], [0.8888888888888888, \"#fdca26\"], [1.0, \"#f0f921\"]], \"type\": \"heatmapgl\"}], \"histogram\": [{\"marker\": {\"colorbar\": {\"outlinewidth\": 0, \"ticks\": \"\"}}, \"type\": \"histogram\"}], \"histogram2d\": [{\"colorbar\": {\"outlinewidth\": 0, \"ticks\": \"\"}, \"colorscale\": [[0.0, \"#0d0887\"], [0.1111111111111111, \"#46039f\"], [0.2222222222222222, \"#7201a8\"], [0.3333333333333333, \"#9c179e\"], [0.4444444444444444, \"#bd3786\"], [0.5555555555555556, \"#d8576b\"], [0.6666666666666666, \"#ed7953\"], [0.7777777777777778, \"#fb9f3a\"], [0.8888888888888888, \"#fdca26\"], [1.0, \"#f0f921\"]], \"type\": \"histogram2d\"}], \"histogram2dcontour\": [{\"colorbar\": {\"outlinewidth\": 0, \"ticks\": \"\"}, \"colorscale\": [[0.0, \"#0d0887\"], [0.1111111111111111, \"#46039f\"], [0.2222222222222222, \"#7201a8\"], [0.3333333333333333, \"#9c179e\"], [0.4444444444444444, \"#bd3786\"], [0.5555555555555556, \"#d8576b\"], [0.6666666666666666, \"#ed7953\"], [0.7777777777777778, \"#fb9f3a\"], [0.8888888888888888, \"#fdca26\"], [1.0, \"#f0f921\"]], \"type\": \"histogram2dcontour\"}], \"mesh3d\": [{\"colorbar\": {\"outlinewidth\": 0, \"ticks\": \"\"}, \"type\": \"mesh3d\"}], \"parcoords\": [{\"line\": {\"colorbar\": {\"outlinewidth\": 0, \"ticks\": \"\"}}, \"type\": \"parcoords\"}], \"pie\": [{\"automargin\": true, \"type\": \"pie\"}], \"scatter\": [{\"marker\": {\"colorbar\": {\"outlinewidth\": 0, \"ticks\": \"\"}}, \"type\": \"scatter\"}], \"scatter3d\": [{\"line\": {\"colorbar\": {\"outlinewidth\": 0, \"ticks\": \"\"}}, \"marker\": {\"colorbar\": {\"outlinewidth\": 0, \"ticks\": \"\"}}, \"type\": \"scatter3d\"}], \"scattercarpet\": [{\"marker\": {\"colorbar\": {\"outlinewidth\": 0, \"ticks\": \"\"}}, \"type\": \"scattercarpet\"}], \"scattergeo\": [{\"marker\": {\"colorbar\": {\"outlinewidth\": 0, \"ticks\": \"\"}}, \"type\": \"scattergeo\"}], \"scattergl\": [{\"marker\": {\"colorbar\": {\"outlinewidth\": 0, \"ticks\": \"\"}}, \"type\": \"scattergl\"}], \"scattermapbox\": [{\"marker\": {\"colorbar\": {\"outlinewidth\": 0, \"ticks\": \"\"}}, \"type\": \"scattermapbox\"}], \"scatterpolar\": [{\"marker\": {\"colorbar\": {\"outlinewidth\": 0, \"ticks\": \"\"}}, \"type\": \"scatterpolar\"}], \"scatterpolargl\": [{\"marker\": {\"colorbar\": {\"outlinewidth\": 0, \"ticks\": \"\"}}, \"type\": \"scatterpolargl\"}], \"scatterternary\": [{\"marker\": {\"colorbar\": {\"outlinewidth\": 0, \"ticks\": \"\"}}, \"type\": \"scatterternary\"}], \"surface\": [{\"colorbar\": {\"outlinewidth\": 0, \"ticks\": \"\"}, \"colorscale\": [[0.0, \"#0d0887\"], [0.1111111111111111, \"#46039f\"], [0.2222222222222222, \"#7201a8\"], [0.3333333333333333, \"#9c179e\"], [0.4444444444444444, \"#bd3786\"], [0.5555555555555556, \"#d8576b\"], [0.6666666666666666, \"#ed7953\"], [0.7777777777777778, \"#fb9f3a\"], [0.8888888888888888, \"#fdca26\"], [1.0, \"#f0f921\"]], \"type\": \"surface\"}], \"table\": [{\"cells\": {\"fill\": {\"color\": \"#EBF0F8\"}, \"line\": {\"color\": \"white\"}}, \"header\": {\"fill\": {\"color\": \"#C8D4E3\"}, \"line\": {\"color\": \"white\"}}, \"type\": \"table\"}]}, \"layout\": {\"annotationdefaults\": {\"arrowcolor\": \"#2a3f5f\", \"arrowhead\": 0, \"arrowwidth\": 1}, \"autotypenumbers\": \"strict\", \"coloraxis\": {\"colorbar\": {\"outlinewidth\": 0, \"ticks\": \"\"}}, \"colorscale\": {\"diverging\": [[0, \"#8e0152\"], [0.1, \"#c51b7d\"], [0.2, \"#de77ae\"], [0.3, \"#f1b6da\"], [0.4, \"#fde0ef\"], [0.5, \"#f7f7f7\"], [0.6, \"#e6f5d0\"], [0.7, \"#b8e186\"], [0.8, \"#7fbc41\"], [0.9, \"#4d9221\"], [1, \"#276419\"]], \"sequential\": [[0.0, \"#0d0887\"], [0.1111111111111111, \"#46039f\"], [0.2222222222222222, \"#7201a8\"], [0.3333333333333333, \"#9c179e\"], [0.4444444444444444, \"#bd3786\"], [0.5555555555555556, \"#d8576b\"], [0.6666666666666666, \"#ed7953\"], [0.7777777777777778, \"#fb9f3a\"], [0.8888888888888888, \"#fdca26\"], [1.0, \"#f0f921\"]], \"sequentialminus\": [[0.0, \"#0d0887\"], [0.1111111111111111, \"#46039f\"], [0.2222222222222222, \"#7201a8\"], [0.3333333333333333, \"#9c179e\"], [0.4444444444444444, \"#bd3786\"], [0.5555555555555556, \"#d8576b\"], [0.6666666666666666, \"#ed7953\"], [0.7777777777777778, \"#fb9f3a\"], [0.8888888888888888, \"#fdca26\"], [1.0, \"#f0f921\"]]}, \"colorway\": [\"#636efa\", \"#EF553B\", \"#00cc96\", \"#ab63fa\", \"#FFA15A\", \"#19d3f3\", \"#FF6692\", \"#B6E880\", \"#FF97FF\", \"#FECB52\"], \"font\": {\"color\": \"#2a3f5f\"}, \"geo\": {\"bgcolor\": \"white\", \"lakecolor\": \"white\", \"landcolor\": \"#E5ECF6\", \"showlakes\": true, \"showland\": true, \"subunitcolor\": \"white\"}, \"hoverlabel\": {\"align\": \"left\"}, \"hovermode\": \"closest\", \"mapbox\": {\"style\": \"light\"}, \"paper_bgcolor\": \"white\", \"plot_bgcolor\": \"#E5ECF6\", \"polar\": {\"angularaxis\": {\"gridcolor\": \"white\", \"linecolor\": \"white\", \"ticks\": \"\"}, \"bgcolor\": \"#E5ECF6\", \"radialaxis\": {\"gridcolor\": \"white\", \"linecolor\": \"white\", \"ticks\": \"\"}}, \"scene\": {\"xaxis\": {\"backgroundcolor\": \"#E5ECF6\", \"gridcolor\": \"white\", \"gridwidth\": 2, \"linecolor\": \"white\", \"showbackground\": true, \"ticks\": \"\", \"zerolinecolor\": \"white\"}, \"yaxis\": {\"backgroundcolor\": \"#E5ECF6\", \"gridcolor\": \"white\", \"gridwidth\": 2, \"linecolor\": \"white\", \"showbackground\": true, \"ticks\": \"\", \"zerolinecolor\": \"white\"}, \"zaxis\": {\"backgroundcolor\": \"#E5ECF6\", \"gridcolor\": \"white\", \"gridwidth\": 2, \"linecolor\": \"white\", \"showbackground\": true, \"ticks\": \"\", \"zerolinecolor\": \"white\"}}, \"shapedefaults\": {\"line\": {\"color\": \"#2a3f5f\"}}, \"ternary\": {\"aaxis\": {\"gridcolor\": \"white\", \"linecolor\": \"white\", \"ticks\": \"\"}, \"baxis\": {\"gridcolor\": \"white\", \"linecolor\": \"white\", \"ticks\": \"\"}, \"bgcolor\": \"#E5ECF6\", \"caxis\": {\"gridcolor\": \"white\", \"linecolor\": \"white\", \"ticks\": \"\"}}, \"title\": {\"x\": 0.05}, \"xaxis\": {\"automargin\": true, \"gridcolor\": \"white\", \"linecolor\": \"white\", \"ticks\": \"\", \"title\": {\"standoff\": 15}, \"zerolinecolor\": \"white\", \"zerolinewidth\": 2}, \"yaxis\": {\"automargin\": true, \"gridcolor\": \"white\", \"linecolor\": \"white\", \"ticks\": \"\", \"title\": {\"standoff\": 15}, \"zerolinecolor\": \"white\", \"zerolinewidth\": 2}}}, \"xaxis\": {\"anchor\": \"y\", \"domain\": [0.0, 1.0], \"title\": {\"text\": \"0\"}}, \"yaxis\": {\"anchor\": \"x\", \"domain\": [0.0, 1.0], \"title\": {\"text\": \"1\"}}},                        {\"responsive\": true}                    ).then(function(){\n",
              "                            \n",
              "var gd = document.getElementById('46c4fc6b-dd20-465f-90af-6372f7622f8e');\n",
              "var x = new MutationObserver(function (mutations, observer) {{\n",
              "        var display = window.getComputedStyle(gd).display;\n",
              "        if (!display || display === 'none') {{\n",
              "            console.log([gd, 'removed!']);\n",
              "            Plotly.purge(gd);\n",
              "            observer.disconnect();\n",
              "        }}\n",
              "}});\n",
              "\n",
              "// Listen for the removal of the full notebook cells\n",
              "var notebookContainer = gd.closest('#notebook-container');\n",
              "if (notebookContainer) {{\n",
              "    x.observe(notebookContainer, {childList: true});\n",
              "}}\n",
              "\n",
              "// Listen for the clearing of the current output cell\n",
              "var outputEl = gd.closest('.output');\n",
              "if (outputEl) {{\n",
              "    x.observe(outputEl, {childList: true});\n",
              "}}\n",
              "\n",
              "                        })                };                            </script>        </div>\n",
              "</body>\n",
              "</html>"
            ]
          },
          "metadata": {}
        }
      ]
    },
    {
      "cell_type": "markdown",
      "metadata": {
        "id": "9W5kvtkRr7VW"
      },
      "source": [
        "## UMAP"
      ]
    },
    {
      "cell_type": "code",
      "metadata": {
        "colab": {
          "base_uri": "https://localhost:8080/",
          "height": 635
        },
        "id": "fiReXW4er9XV",
        "outputId": "3a197772-c937-46ef-a19c-df91b4ff6cdc"
      },
      "source": [
        "umap_2d = UMAP(n_components=2, init='random', random_state=0)\n",
        "X_umap = umap_2d.fit_transform(xscaled)\n",
        "\n",
        "fig = px.scatter(X_umap, x=0, y=1, color=labels.astype(object))\n",
        "fig.show()"
      ],
      "execution_count": null,
      "outputs": [
        {
          "output_type": "stream",
          "name": "stderr",
          "text": [
            "/usr/local/lib/python3.7/dist-packages/numba/np/ufunc/parallel.py:363: NumbaWarning:\n",
            "\n",
            "The TBB threading layer requires TBB version 2019.5 or later i.e., TBB_INTERFACE_VERSION >= 11005. Found TBB_INTERFACE_VERSION = 9107. The TBB threading layer is disabled.\n",
            "\n"
          ]
        },
        {
          "output_type": "display_data",
          "data": {
            "text/html": [
              "<html>\n",
              "<head><meta charset=\"utf-8\" /></head>\n",
              "<body>\n",
              "    <div>            <script src=\"https://cdnjs.cloudflare.com/ajax/libs/mathjax/2.7.5/MathJax.js?config=TeX-AMS-MML_SVG\"></script><script type=\"text/javascript\">if (window.MathJax) {MathJax.Hub.Config({SVG: {font: \"STIX-Web\"}});}</script>                <script type=\"text/javascript\">window.PlotlyConfig = {MathJaxConfig: 'local'};</script>\n",
              "        <script src=\"https://cdn.plot.ly/plotly-latest.min.js\"></script>                <div id=\"0fb7801e-6c53-44bf-9452-38bda8173ee4\" class=\"plotly-graph-div\" style=\"height:525px; width:100%;\"></div>            <script type=\"text/javascript\">                                    window.PLOTLYENV=window.PLOTLYENV || {};                                    if (document.getElementById(\"0fb7801e-6c53-44bf-9452-38bda8173ee4\")) {                    Plotly.newPlot(                        \"0fb7801e-6c53-44bf-9452-38bda8173ee4\",                        [{\"hovertemplate\": \"color=Milk<br>0=%{x}<br>1=%{y}<extra></extra>\", \"legendgroup\": \"Milk\", \"marker\": {\"color\": \"#636efa\", \"symbol\": \"circle\"}, \"mode\": \"markers\", \"name\": \"Milk\", \"orientation\": \"v\", \"showlegend\": true, \"type\": \"scatter\", \"x\": [0.029107248410582542, -0.7323912978172302, 0.1908591389656067, 0.22706803679466248, 0.012003928422927856, -2.4388604164123535, -2.9929850101470947, -0.9337272644042969, -2.6496381759643555, -0.8696877956390381, -2.514249086380005, -2.5956132411956787, -2.5650441646575928, -2.541984796524048, -0.7984917759895325, 0.0061869872733950615, -3.0447919368743896, -0.031605880707502365, -3.024420738220215, -3.03584623336792, 0.27906477451324463, 0.22335723042488098, -3.0045113563537598, -3.095898389816284, 0.7759270668029785, -1.8773415088653564, 1.0866708755493164, 1.1403405666351318, 1.3331035375595093, 1.2065768241882324, 0.9741831421852112], \"xaxis\": \"x\", \"y\": [3.8460097312927246, 2.001978635787964, 3.667210578918457, 3.5125925540924072, 3.596587657928467, 1.1327003240585327, 0.6729933023452759, 1.9646793603897095, 0.8975910544395447, 1.847678780555725, 1.2177009582519531, 0.8708820343017578, 1.0192164182662964, 0.8605930805206299, 1.8912686109542847, 3.5325160026550293, 0.8680423498153687, 4.0920000076293945, 0.8840766549110413, 0.9579359889030457, 6.073278903961182, 5.977599620819092, 4.620619773864746, 4.447748184204102, 7.088235378265381, 4.04599142074585, 6.759890556335449, 7.010248184204102, 6.869635105133057, 6.86138916015625, 7.506496429443359], \"yaxis\": \"y\"}, {\"hovertemplate\": \"color=Buttermilk<br>0=%{x}<br>1=%{y}<extra></extra>\", \"legendgroup\": \"Buttermilk\", \"marker\": {\"color\": \"#EF553B\", \"symbol\": \"circle\"}, \"mode\": \"markers\", \"name\": \"Buttermilk\", \"orientation\": \"v\", \"showlegend\": true, \"type\": \"scatter\", \"x\": [-3.621816396713257, -3.5313808917999268, -3.457246780395508, -0.12703989446163177], \"xaxis\": \"x\", \"y\": [2.302835702896118, 2.4258761405944824, 2.5816056728363037, 3.3737640380859375], \"yaxis\": \"y\"}, {\"hovertemplate\": \"color=Goat's milk<br>0=%{x}<br>1=%{y}<extra></extra>\", \"legendgroup\": \"Goat's milk\", \"marker\": {\"color\": \"#00cc96\", \"symbol\": \"circle\"}, \"mode\": \"markers\", \"name\": \"Goat's milk\", \"orientation\": \"v\", \"showlegend\": true, \"type\": \"scatter\", \"x\": [0.08960533142089844], \"xaxis\": \"x\", \"y\": [3.8108794689178467], \"yaxis\": \"y\"}, {\"hovertemplate\": \"color=Non-dairy milk<br>0=%{x}<br>1=%{y}<extra></extra>\", \"legendgroup\": \"Non-dairy milk\", \"marker\": {\"color\": \"#ab63fa\", \"symbol\": \"circle\"}, \"mode\": \"markers\", \"name\": \"Non-dairy milk\", \"orientation\": \"v\", \"showlegend\": true, \"type\": \"scatter\", \"x\": [2.531571626663208], \"xaxis\": \"x\", \"y\": [-0.0026379285845905542], \"yaxis\": \"y\"}, {\"hovertemplate\": \"color=Soy milk<br>0=%{x}<br>1=%{y}<extra></extra>\", \"legendgroup\": \"Soy milk\", \"marker\": {\"color\": \"#FFA15A\", \"symbol\": \"circle\"}, \"mode\": \"markers\", \"name\": \"Soy milk\", \"orientation\": \"v\", \"showlegend\": true, \"type\": \"scatter\", \"x\": [3.654729127883911, 2.9735538959503174, 3.16279673576355, 3.5254294872283936, 3.7192015647888184, 3.6038103103637695], \"xaxis\": \"x\", \"y\": [-0.2832019627094269, -0.38345885276794434, -0.29260489344596863, -0.5126948952674866, -0.4202677309513092, -0.42266345024108887], \"yaxis\": \"y\"}, {\"hovertemplate\": \"color=Almond milk<br>0=%{x}<br>1=%{y}<extra></extra>\", \"legendgroup\": \"Almond milk\", \"marker\": {\"color\": \"#19d3f3\", \"symbol\": \"circle\"}, \"mode\": \"markers\", \"name\": \"Almond milk\", \"orientation\": \"v\", \"showlegend\": true, \"type\": \"scatter\", \"x\": [-3.336172103881836, -3.3320741653442383, -3.489500045776367, -3.360347270965576], \"xaxis\": \"x\", \"y\": [-0.020400838926434517, -0.028504613786935806, 0.166873961687088, 0.035404086112976074], \"yaxis\": \"y\"}, {\"hovertemplate\": \"color=Rice milk<br>0=%{x}<br>1=%{y}<extra></extra>\", \"legendgroup\": \"Rice milk\", \"marker\": {\"color\": \"#FF6692\", \"symbol\": \"circle\"}, \"mode\": \"markers\", \"name\": \"Rice milk\", \"orientation\": \"v\", \"showlegend\": true, \"type\": \"scatter\", \"x\": [-2.966449022293091], \"xaxis\": \"x\", \"y\": [1.3699530363082886], \"yaxis\": \"y\"}, {\"hovertemplate\": \"color=Coconut milk<br>0=%{x}<br>1=%{y}<extra></extra>\", \"legendgroup\": \"Coconut milk\", \"marker\": {\"color\": \"#B6E880\", \"symbol\": \"circle\"}, \"mode\": \"markers\", \"name\": \"Coconut milk\", \"orientation\": \"v\", \"showlegend\": true, \"type\": \"scatter\", \"x\": [-3.0054519176483154, 0.08821602165699005], \"xaxis\": \"x\", \"y\": [1.2494797706604004, 6.25393009185791], \"yaxis\": \"y\"}, {\"hovertemplate\": \"color=Chocolate milk<br>0=%{x}<br>1=%{y}<extra></extra>\", \"legendgroup\": \"Chocolate milk\", \"marker\": {\"color\": \"#FF97FF\", \"symbol\": \"circle\"}, \"mode\": \"markers\", \"name\": \"Chocolate milk\", \"orientation\": \"v\", \"showlegend\": true, \"type\": \"scatter\", \"x\": [-0.8717339634895325, -0.9035430550575256, -0.9175021648406982, -0.8229264616966248, -3.572381019592285, -3.529283046722412, -3.419426918029785, -0.7490234971046448, -3.4867537021636963, -1.5227491855621338, -1.2203779220581055, -1.9262863397598267, -2.390932083129883, -2.597480058670044, 3.1049129962921143, -3.245795488357544, -3.053494691848755, -3.2829549312591553, -3.544975996017456, -3.60356068611145, 3.2096011638641357, -1.5762369632720947, -1.085361361503601, -1.7984791994094849, -2.4709253311157227, -2.6196799278259277, 3.0284996032714844, -3.1290814876556396, -2.873533010482788, -3.347919464111328, -3.6692349910736084, -3.6357791423797607, 3.088028907775879, -1.713785171508789, -1.2724252939224243, -1.8756946325302124, -2.217517137527466, -2.379512071609497, 2.8285646438598633, -1.450119137763977, -0.5491650700569153, -1.6197872161865234, -2.459345817565918, -2.5860376358032227, 2.82670521736145, -1.3724075555801392, -1.2824137210845947, -1.4745372533798218, -1.6118351221084595, -1.6733462810516357, 2.8483452796936035], \"xaxis\": \"x\", \"y\": [4.783693790435791, 4.206267833709717, 4.593019008636475, 4.930388927459717, 3.4160799980163574, 3.1693074703216553, 3.2359206676483154, 4.8663482666015625, 3.3527770042419434, 3.86141300201416, 4.212061882019043, 3.767937183380127, 3.818040370941162, 3.617208480834961, 0.2948644161224365, 6.844823837280273, 6.759719371795654, 6.8748064041137695, 6.675591945648193, 6.423661231994629, 0.07828641682863235, 3.905045747756958, 4.027387619018555, 4.00151252746582, 3.750962495803833, 3.7255547046661377, -0.04083370044827461, 6.71582555770874, 6.913496017456055, 6.858770847320557, 6.515649318695068, 6.564660549163818, 0.014953244477510452, 3.1347758769989014, 3.474642515182495, 3.203817129135132, 2.9110491275787354, 3.004288911819458, 0.2624088525772095, 2.5468502044677734, 3.619011878967285, 2.695908308029175, 2.0291671752929688, 1.8636415004730225, -0.18475207686424255, 1.1554291248321533, 1.3413679599761963, 1.3148552179336548, 1.2082198858261108, 1.1090624332427979, 0.197834774851799], \"yaxis\": \"y\"}, {\"hovertemplate\": \"color=Strawberry milk<br>0=%{x}<br>1=%{y}<extra></extra>\", \"legendgroup\": \"Strawberry milk\", \"marker\": {\"color\": \"#FECB52\", \"symbol\": \"circle\"}, \"mode\": \"markers\", \"name\": \"Strawberry milk\", \"orientation\": \"v\", \"showlegend\": true, \"type\": \"scatter\", \"x\": [-0.9019559621810913, -1.0609691143035889, -1.839408278465271, -2.343158006668091, -2.4216465950012207, -2.6041650772094727, 2.908339500427246], \"xaxis\": \"x\", \"y\": [2.0297839641571045, 3.621959686279297, 2.859940528869629, 2.8525664806365967, 2.839641809463501, 1.4382001161575317, 0.08609601110219955], \"yaxis\": \"y\"}, {\"hovertemplate\": \"color=Milk shake<br>0=%{x}<br>1=%{y}<extra></extra>\", \"legendgroup\": \"Milk shake\", \"marker\": {\"color\": \"#636efa\", \"symbol\": \"circle\"}, \"mode\": \"markers\", \"name\": \"Milk shake\", \"orientation\": \"v\", \"showlegend\": true, \"type\": \"scatter\", \"x\": [-0.08984103798866272, 0.1256108433008194, -0.28476670384407043, -1.1799806356430054, 0.1700320839881897, 0.23590293526649475, 0.40337446331977844, 0.3417474329471588], \"xaxis\": \"x\", \"y\": [5.864781379699707, 5.663449764251709, 5.406867980957031, 3.8438525199890137, 6.931464672088623, 7.128526210784912, 6.955913543701172, 7.008325099945068], \"yaxis\": \"y\"}, {\"hovertemplate\": \"color=Milk shake with malt<br>0=%{x}<br>1=%{y}<extra></extra>\", \"legendgroup\": \"Milk shake with malt\", \"marker\": {\"color\": \"#EF553B\", \"symbol\": \"circle\"}, \"mode\": \"markers\", \"name\": \"Milk shake with malt\", \"orientation\": \"v\", \"showlegend\": true, \"type\": \"scatter\", \"x\": [0.05849035456776619], \"xaxis\": \"x\", \"y\": [5.874757766723633], \"yaxis\": \"y\"}, {\"hovertemplate\": \"color=Chocolate milk drink<br>0=%{x}<br>1=%{y}<extra></extra>\", \"legendgroup\": \"Chocolate milk drink\", \"marker\": {\"color\": \"#00cc96\", \"symbol\": \"circle\"}, \"mode\": \"markers\", \"name\": \"Chocolate milk drink\", \"orientation\": \"v\", \"showlegend\": true, \"type\": \"scatter\", \"x\": [-1.758334755897522], \"xaxis\": \"x\", \"y\": [1.0436943769454956], \"yaxis\": \"y\"}, {\"hovertemplate\": \"color=Milk dessert or milk candy<br>0=%{x}<br>1=%{y}<extra></extra>\", \"legendgroup\": \"Milk dessert or milk candy\", \"marker\": {\"color\": \"#ab63fa\", \"symbol\": \"circle\"}, \"mode\": \"markers\", \"name\": \"Milk dessert or milk candy\", \"orientation\": \"v\", \"showlegend\": true, \"type\": \"scatter\", \"x\": [0.6193526387214661], \"xaxis\": \"x\", \"y\": [7.163329124450684], \"yaxis\": \"y\"}, {\"hovertemplate\": \"color=Milk 'n Cereal bar<br>0=%{x}<br>1=%{y}<extra></extra>\", \"legendgroup\": \"Milk 'n Cereal bar\", \"marker\": {\"color\": \"#FFA15A\", \"symbol\": \"circle\"}, \"mode\": \"markers\", \"name\": \"Milk 'n Cereal bar\", \"orientation\": \"v\", \"showlegend\": true, \"type\": \"scatter\", \"x\": [0.8382022976875305], \"xaxis\": \"x\", \"y\": [7.31843376159668], \"yaxis\": \"y\"}, {\"hovertemplate\": \"color=Nutrition bar (Tiger's Milk)<br>0=%{x}<br>1=%{y}<extra></extra>\", \"legendgroup\": \"Nutrition bar (Tiger's Milk)\", \"marker\": {\"color\": \"#19d3f3\", \"symbol\": \"circle\"}, \"mode\": \"markers\", \"name\": \"Nutrition bar (Tiger's Milk)\", \"orientation\": \"v\", \"showlegend\": true, \"type\": \"scatter\", \"x\": [1.0240979194641113], \"xaxis\": \"x\", \"y\": [7.637484073638916], \"yaxis\": \"y\"}, {\"hovertemplate\": \"color=Milk chocolate candy<br>0=%{x}<br>1=%{y}<extra></extra>\", \"legendgroup\": \"Milk chocolate candy\", \"marker\": {\"color\": \"#FF6692\", \"symbol\": \"circle\"}, \"mode\": \"markers\", \"name\": \"Milk chocolate candy\", \"orientation\": \"v\", \"showlegend\": true, \"type\": \"scatter\", \"x\": [0.3469749987125397, 0.43079331517219543, 0.60699063539505, 0.47783994674682617], \"xaxis\": \"x\", \"y\": [7.750586986541748, 7.911955833435059, 7.928953170776367, 7.842870235443115], \"yaxis\": \"y\"}, {\"hovertemplate\": \"color=M&M's Milk Chocolate Candies<br>0=%{x}<br>1=%{y}<extra></extra>\", \"legendgroup\": \"M&M's Milk Chocolate Candies\", \"marker\": {\"color\": \"#B6E880\", \"symbol\": \"circle\"}, \"mode\": \"markers\", \"name\": \"M&M's Milk Chocolate Candies\", \"orientation\": \"v\", \"showlegend\": true, \"type\": \"scatter\", \"x\": [0.6448937058448792], \"xaxis\": \"x\", \"y\": [7.670607089996338], \"yaxis\": \"y\"}, {\"hovertemplate\": \"color=Oatmeal beverage with milk<br>0=%{x}<br>1=%{y}<extra></extra>\", \"legendgroup\": \"Oatmeal beverage with milk\", \"marker\": {\"color\": \"#FF97FF\", \"symbol\": \"circle\"}, \"mode\": \"markers\", \"name\": \"Oatmeal beverage with milk\", \"orientation\": \"v\", \"showlegend\": true, \"type\": \"scatter\", \"x\": [-1.5383245944976807], \"xaxis\": \"x\", \"y\": [1.4827593564987183], \"yaxis\": \"y\"}, {\"hovertemplate\": \"color=Cornmeal beverage with chocolate milk<br>0=%{x}<br>1=%{y}<extra></extra>\", \"legendgroup\": \"Cornmeal beverage with chocolate milk\", \"marker\": {\"color\": \"#FECB52\", \"symbol\": \"circle\"}, \"mode\": \"markers\", \"name\": \"Cornmeal beverage with chocolate milk\", \"orientation\": \"v\", \"showlegend\": true, \"type\": \"scatter\", \"x\": [-1.7055511474609375], \"xaxis\": \"x\", \"y\": [3.188595771789551], \"yaxis\": \"y\"}, {\"hovertemplate\": \"color=Nutritional powder mix (Muscle Milk)<br>0=%{x}<br>1=%{y}<extra></extra>\", \"legendgroup\": \"Nutritional powder mix (Muscle Milk)\", \"marker\": {\"color\": \"#636efa\", \"symbol\": \"circle\"}, \"mode\": \"markers\", \"name\": \"Nutritional powder mix (Muscle Milk)\", \"orientation\": \"v\", \"showlegend\": true, \"type\": \"scatter\", \"x\": [1.2751610279083252], \"xaxis\": \"x\", \"y\": [7.358720779418945], \"yaxis\": \"y\"}],                        {\"legend\": {\"title\": {\"text\": \"color\"}, \"tracegroupgap\": 0}, \"margin\": {\"t\": 60}, \"template\": {\"data\": {\"bar\": [{\"error_x\": {\"color\": \"#2a3f5f\"}, \"error_y\": {\"color\": \"#2a3f5f\"}, \"marker\": {\"line\": {\"color\": \"#E5ECF6\", \"width\": 0.5}}, \"type\": \"bar\"}], \"barpolar\": [{\"marker\": {\"line\": {\"color\": \"#E5ECF6\", \"width\": 0.5}}, \"type\": \"barpolar\"}], \"carpet\": [{\"aaxis\": {\"endlinecolor\": \"#2a3f5f\", \"gridcolor\": \"white\", \"linecolor\": \"white\", \"minorgridcolor\": \"white\", \"startlinecolor\": \"#2a3f5f\"}, \"baxis\": {\"endlinecolor\": \"#2a3f5f\", \"gridcolor\": \"white\", \"linecolor\": \"white\", \"minorgridcolor\": \"white\", \"startlinecolor\": \"#2a3f5f\"}, \"type\": \"carpet\"}], \"choropleth\": [{\"colorbar\": {\"outlinewidth\": 0, \"ticks\": \"\"}, \"type\": \"choropleth\"}], \"contour\": [{\"colorbar\": {\"outlinewidth\": 0, \"ticks\": \"\"}, \"colorscale\": [[0.0, \"#0d0887\"], [0.1111111111111111, \"#46039f\"], [0.2222222222222222, \"#7201a8\"], [0.3333333333333333, \"#9c179e\"], [0.4444444444444444, \"#bd3786\"], [0.5555555555555556, \"#d8576b\"], [0.6666666666666666, \"#ed7953\"], [0.7777777777777778, \"#fb9f3a\"], [0.8888888888888888, \"#fdca26\"], [1.0, \"#f0f921\"]], \"type\": \"contour\"}], \"contourcarpet\": [{\"colorbar\": {\"outlinewidth\": 0, \"ticks\": \"\"}, \"type\": \"contourcarpet\"}], \"heatmap\": [{\"colorbar\": {\"outlinewidth\": 0, \"ticks\": \"\"}, \"colorscale\": [[0.0, \"#0d0887\"], [0.1111111111111111, \"#46039f\"], [0.2222222222222222, \"#7201a8\"], [0.3333333333333333, \"#9c179e\"], [0.4444444444444444, \"#bd3786\"], [0.5555555555555556, \"#d8576b\"], [0.6666666666666666, \"#ed7953\"], [0.7777777777777778, \"#fb9f3a\"], [0.8888888888888888, \"#fdca26\"], [1.0, \"#f0f921\"]], \"type\": \"heatmap\"}], \"heatmapgl\": [{\"colorbar\": {\"outlinewidth\": 0, \"ticks\": \"\"}, \"colorscale\": [[0.0, \"#0d0887\"], [0.1111111111111111, \"#46039f\"], [0.2222222222222222, \"#7201a8\"], [0.3333333333333333, \"#9c179e\"], [0.4444444444444444, \"#bd3786\"], [0.5555555555555556, \"#d8576b\"], [0.6666666666666666, \"#ed7953\"], [0.7777777777777778, \"#fb9f3a\"], [0.8888888888888888, \"#fdca26\"], [1.0, \"#f0f921\"]], \"type\": \"heatmapgl\"}], \"histogram\": [{\"marker\": {\"colorbar\": {\"outlinewidth\": 0, \"ticks\": \"\"}}, \"type\": \"histogram\"}], \"histogram2d\": [{\"colorbar\": {\"outlinewidth\": 0, \"ticks\": \"\"}, \"colorscale\": [[0.0, \"#0d0887\"], [0.1111111111111111, \"#46039f\"], [0.2222222222222222, \"#7201a8\"], [0.3333333333333333, \"#9c179e\"], [0.4444444444444444, \"#bd3786\"], [0.5555555555555556, \"#d8576b\"], [0.6666666666666666, \"#ed7953\"], [0.7777777777777778, \"#fb9f3a\"], [0.8888888888888888, \"#fdca26\"], [1.0, \"#f0f921\"]], \"type\": \"histogram2d\"}], \"histogram2dcontour\": [{\"colorbar\": {\"outlinewidth\": 0, \"ticks\": \"\"}, \"colorscale\": [[0.0, \"#0d0887\"], [0.1111111111111111, \"#46039f\"], [0.2222222222222222, \"#7201a8\"], [0.3333333333333333, \"#9c179e\"], [0.4444444444444444, \"#bd3786\"], [0.5555555555555556, \"#d8576b\"], [0.6666666666666666, \"#ed7953\"], [0.7777777777777778, \"#fb9f3a\"], [0.8888888888888888, \"#fdca26\"], [1.0, \"#f0f921\"]], \"type\": \"histogram2dcontour\"}], \"mesh3d\": [{\"colorbar\": {\"outlinewidth\": 0, \"ticks\": \"\"}, \"type\": \"mesh3d\"}], \"parcoords\": [{\"line\": {\"colorbar\": {\"outlinewidth\": 0, \"ticks\": \"\"}}, \"type\": \"parcoords\"}], \"pie\": [{\"automargin\": true, \"type\": \"pie\"}], \"scatter\": [{\"marker\": {\"colorbar\": {\"outlinewidth\": 0, \"ticks\": \"\"}}, \"type\": \"scatter\"}], \"scatter3d\": [{\"line\": {\"colorbar\": {\"outlinewidth\": 0, \"ticks\": \"\"}}, \"marker\": {\"colorbar\": {\"outlinewidth\": 0, \"ticks\": \"\"}}, \"type\": \"scatter3d\"}], \"scattercarpet\": [{\"marker\": {\"colorbar\": {\"outlinewidth\": 0, \"ticks\": \"\"}}, \"type\": \"scattercarpet\"}], \"scattergeo\": [{\"marker\": {\"colorbar\": {\"outlinewidth\": 0, \"ticks\": \"\"}}, \"type\": \"scattergeo\"}], \"scattergl\": [{\"marker\": {\"colorbar\": {\"outlinewidth\": 0, \"ticks\": \"\"}}, \"type\": \"scattergl\"}], \"scattermapbox\": [{\"marker\": {\"colorbar\": {\"outlinewidth\": 0, \"ticks\": \"\"}}, \"type\": \"scattermapbox\"}], \"scatterpolar\": [{\"marker\": {\"colorbar\": {\"outlinewidth\": 0, \"ticks\": \"\"}}, \"type\": \"scatterpolar\"}], \"scatterpolargl\": [{\"marker\": {\"colorbar\": {\"outlinewidth\": 0, \"ticks\": \"\"}}, \"type\": \"scatterpolargl\"}], \"scatterternary\": [{\"marker\": {\"colorbar\": {\"outlinewidth\": 0, \"ticks\": \"\"}}, \"type\": \"scatterternary\"}], \"surface\": [{\"colorbar\": {\"outlinewidth\": 0, \"ticks\": \"\"}, \"colorscale\": [[0.0, \"#0d0887\"], [0.1111111111111111, \"#46039f\"], [0.2222222222222222, \"#7201a8\"], [0.3333333333333333, \"#9c179e\"], [0.4444444444444444, \"#bd3786\"], [0.5555555555555556, \"#d8576b\"], [0.6666666666666666, \"#ed7953\"], [0.7777777777777778, \"#fb9f3a\"], [0.8888888888888888, \"#fdca26\"], [1.0, \"#f0f921\"]], \"type\": \"surface\"}], \"table\": [{\"cells\": {\"fill\": {\"color\": \"#EBF0F8\"}, \"line\": {\"color\": \"white\"}}, \"header\": {\"fill\": {\"color\": \"#C8D4E3\"}, \"line\": {\"color\": \"white\"}}, \"type\": \"table\"}]}, \"layout\": {\"annotationdefaults\": {\"arrowcolor\": \"#2a3f5f\", \"arrowhead\": 0, \"arrowwidth\": 1}, \"autotypenumbers\": \"strict\", \"coloraxis\": {\"colorbar\": {\"outlinewidth\": 0, \"ticks\": \"\"}}, \"colorscale\": {\"diverging\": [[0, \"#8e0152\"], [0.1, \"#c51b7d\"], [0.2, \"#de77ae\"], [0.3, \"#f1b6da\"], [0.4, \"#fde0ef\"], [0.5, \"#f7f7f7\"], [0.6, \"#e6f5d0\"], [0.7, \"#b8e186\"], [0.8, \"#7fbc41\"], [0.9, \"#4d9221\"], [1, \"#276419\"]], \"sequential\": [[0.0, \"#0d0887\"], [0.1111111111111111, \"#46039f\"], [0.2222222222222222, \"#7201a8\"], [0.3333333333333333, \"#9c179e\"], [0.4444444444444444, \"#bd3786\"], [0.5555555555555556, \"#d8576b\"], [0.6666666666666666, \"#ed7953\"], [0.7777777777777778, \"#fb9f3a\"], [0.8888888888888888, \"#fdca26\"], [1.0, \"#f0f921\"]], \"sequentialminus\": [[0.0, \"#0d0887\"], [0.1111111111111111, \"#46039f\"], [0.2222222222222222, \"#7201a8\"], [0.3333333333333333, \"#9c179e\"], [0.4444444444444444, \"#bd3786\"], [0.5555555555555556, \"#d8576b\"], [0.6666666666666666, \"#ed7953\"], [0.7777777777777778, \"#fb9f3a\"], [0.8888888888888888, \"#fdca26\"], [1.0, \"#f0f921\"]]}, \"colorway\": [\"#636efa\", \"#EF553B\", \"#00cc96\", \"#ab63fa\", \"#FFA15A\", \"#19d3f3\", \"#FF6692\", \"#B6E880\", \"#FF97FF\", \"#FECB52\"], \"font\": {\"color\": \"#2a3f5f\"}, \"geo\": {\"bgcolor\": \"white\", \"lakecolor\": \"white\", \"landcolor\": \"#E5ECF6\", \"showlakes\": true, \"showland\": true, \"subunitcolor\": \"white\"}, \"hoverlabel\": {\"align\": \"left\"}, \"hovermode\": \"closest\", \"mapbox\": {\"style\": \"light\"}, \"paper_bgcolor\": \"white\", \"plot_bgcolor\": \"#E5ECF6\", \"polar\": {\"angularaxis\": {\"gridcolor\": \"white\", \"linecolor\": \"white\", \"ticks\": \"\"}, \"bgcolor\": \"#E5ECF6\", \"radialaxis\": {\"gridcolor\": \"white\", \"linecolor\": \"white\", \"ticks\": \"\"}}, \"scene\": {\"xaxis\": {\"backgroundcolor\": \"#E5ECF6\", \"gridcolor\": \"white\", \"gridwidth\": 2, \"linecolor\": \"white\", \"showbackground\": true, \"ticks\": \"\", \"zerolinecolor\": \"white\"}, \"yaxis\": {\"backgroundcolor\": \"#E5ECF6\", \"gridcolor\": \"white\", \"gridwidth\": 2, \"linecolor\": \"white\", \"showbackground\": true, \"ticks\": \"\", \"zerolinecolor\": \"white\"}, \"zaxis\": {\"backgroundcolor\": \"#E5ECF6\", \"gridcolor\": \"white\", \"gridwidth\": 2, \"linecolor\": \"white\", \"showbackground\": true, \"ticks\": \"\", \"zerolinecolor\": \"white\"}}, \"shapedefaults\": {\"line\": {\"color\": \"#2a3f5f\"}}, \"ternary\": {\"aaxis\": {\"gridcolor\": \"white\", \"linecolor\": \"white\", \"ticks\": \"\"}, \"baxis\": {\"gridcolor\": \"white\", \"linecolor\": \"white\", \"ticks\": \"\"}, \"bgcolor\": \"#E5ECF6\", \"caxis\": {\"gridcolor\": \"white\", \"linecolor\": \"white\", \"ticks\": \"\"}}, \"title\": {\"x\": 0.05}, \"xaxis\": {\"automargin\": true, \"gridcolor\": \"white\", \"linecolor\": \"white\", \"ticks\": \"\", \"title\": {\"standoff\": 15}, \"zerolinecolor\": \"white\", \"zerolinewidth\": 2}, \"yaxis\": {\"automargin\": true, \"gridcolor\": \"white\", \"linecolor\": \"white\", \"ticks\": \"\", \"title\": {\"standoff\": 15}, \"zerolinecolor\": \"white\", \"zerolinewidth\": 2}}}, \"xaxis\": {\"anchor\": \"y\", \"domain\": [0.0, 1.0], \"title\": {\"text\": \"0\"}}, \"yaxis\": {\"anchor\": \"x\", \"domain\": [0.0, 1.0], \"title\": {\"text\": \"1\"}}},                        {\"responsive\": true}                    ).then(function(){\n",
              "                            \n",
              "var gd = document.getElementById('0fb7801e-6c53-44bf-9452-38bda8173ee4');\n",
              "var x = new MutationObserver(function (mutations, observer) {{\n",
              "        var display = window.getComputedStyle(gd).display;\n",
              "        if (!display || display === 'none') {{\n",
              "            console.log([gd, 'removed!']);\n",
              "            Plotly.purge(gd);\n",
              "            observer.disconnect();\n",
              "        }}\n",
              "}});\n",
              "\n",
              "// Listen for the removal of the full notebook cells\n",
              "var notebookContainer = gd.closest('#notebook-container');\n",
              "if (notebookContainer) {{\n",
              "    x.observe(notebookContainer, {childList: true});\n",
              "}}\n",
              "\n",
              "// Listen for the clearing of the current output cell\n",
              "var outputEl = gd.closest('.output');\n",
              "if (outputEl) {{\n",
              "    x.observe(outputEl, {childList: true});\n",
              "}}\n",
              "\n",
              "                        })                };                            </script>        </div>\n",
              "</body>\n",
              "</html>"
            ]
          },
          "metadata": {}
        }
      ]
    },
    {
      "cell_type": "markdown",
      "metadata": {
        "id": "zcc_ss8MdFNh"
      },
      "source": [
        "## t-Stochastic Distributed Neighbor Embedding Projection (t-SNE)\n"
      ]
    },
    {
      "cell_type": "markdown",
      "metadata": {
        "id": "i3ocJItKtpl8"
      },
      "source": [
        "Vamos gerar um gráfico de linhas para o conjunto de dados Auto-MPG Cars. Considere que cada carro é enumerado por um número inteiro de 1 a N, em que N é a quantidade de instâncias. Agora vamos criar uma nova coluna no DataFrame para possibilitar seu uso como eixo X no gráfico de linhas (Line Chart) do Plotly:"
      ]
    },
    {
      "cell_type": "code",
      "metadata": {
        "id": "-Ov9hczGtmjG",
        "colab": {
          "base_uri": "https://localhost:8080/",
          "height": 542
        },
        "outputId": "21e1d9b6-dca3-4527-9583-320beedfaac3"
      },
      "source": [
        "tsne = TSNE(n_components=2,perplexity=5,learning_rate=100.0,metric='euclidean', init='random')\n",
        "X_tsne = tsne.fit_transform(xscaled)\n",
        "\n",
        "fig = px.scatter(X_tsne, x=0, y=1, color=labels.astype(object))\n",
        "fig.show()\n"
      ],
      "execution_count": null,
      "outputs": [
        {
          "output_type": "display_data",
          "data": {
            "text/html": [
              "<html>\n",
              "<head><meta charset=\"utf-8\" /></head>\n",
              "<body>\n",
              "    <div>            <script src=\"https://cdnjs.cloudflare.com/ajax/libs/mathjax/2.7.5/MathJax.js?config=TeX-AMS-MML_SVG\"></script><script type=\"text/javascript\">if (window.MathJax) {MathJax.Hub.Config({SVG: {font: \"STIX-Web\"}});}</script>                <script type=\"text/javascript\">window.PlotlyConfig = {MathJaxConfig: 'local'};</script>\n",
              "        <script src=\"https://cdn.plot.ly/plotly-latest.min.js\"></script>                <div id=\"d6f2b103-1a15-4ce0-98fe-334f760fc578\" class=\"plotly-graph-div\" style=\"height:525px; width:100%;\"></div>            <script type=\"text/javascript\">                                    window.PLOTLYENV=window.PLOTLYENV || {};                                    if (document.getElementById(\"d6f2b103-1a15-4ce0-98fe-334f760fc578\")) {                    Plotly.newPlot(                        \"d6f2b103-1a15-4ce0-98fe-334f760fc578\",                        [{\"hovertemplate\": \"color=Milk<br>0=%{x}<br>1=%{y}<extra></extra>\", \"legendgroup\": \"Milk\", \"marker\": {\"color\": \"#636efa\", \"symbol\": \"circle\"}, \"mode\": \"markers\", \"name\": \"Milk\", \"orientation\": \"v\", \"showlegend\": true, \"type\": \"scatter\", \"x\": [3.3406810760498047, -11.350160598754883, 3.7125790119171143, 4.091502666473389, 4.242320537567139, -10.647875785827637, -15.660082817077637, -12.766376495361328, -10.896197319030762, -12.34924602508545, -10.216646194458008, -13.084239959716797, -11.31679630279541, -13.192187309265137, -12.102779388427734, 3.692064046859741, -15.912555694580078, 2.0709004402160645, -15.064661026000977, -16.578582763671875, 21.322927474975586, 21.321903228759766, 24.16836929321289, 24.183917999267578, 31.231916427612305, 13.254427909851074, 33.276649475097656, 31.538509368896484, 32.63899230957031, 32.77920150756836, 33.76766586303711], \"xaxis\": \"x\", \"y\": [-6.153904914855957, 8.03890609741211, -2.4582669734954834, -4.808114528656006, -2.8607277870178223, 21.925317764282227, 23.691604614257812, 9.179340362548828, 23.038806915283203, 8.53059196472168, 22.71541976928711, 24.40757179260254, 22.280324935913086, 24.167537689208984, 9.69257640838623, -3.074538469314575, 21.721405029296875, -3.0718486309051514, 21.264415740966797, 21.512134552001953, -12.352076530456543, -12.349275588989258, 6.849874019622803, 6.875111103057861, -18.4935359954834, 10.654961585998535, -23.95735740661621, -22.814924240112305, -23.698415756225586, -24.378141403198242, -17.12135124206543], \"yaxis\": \"y\"}, {\"hovertemplate\": \"color=Buttermilk<br>0=%{x}<br>1=%{y}<extra></extra>\", \"legendgroup\": \"Buttermilk\", \"marker\": {\"color\": \"#EF553B\", \"symbol\": \"circle\"}, \"mode\": \"markers\", \"name\": \"Buttermilk\", \"orientation\": \"v\", \"showlegend\": true, \"type\": \"scatter\", \"x\": [-2.9114763736724854, -2.9118666648864746, -1.938515067100525, -0.8334944248199463], \"xaxis\": \"x\", \"y\": [1.9748307466506958, 1.974448561668396, 1.0012379884719849, -0.06379326432943344], \"yaxis\": \"y\"}, {\"hovertemplate\": \"color=Goat's milk<br>0=%{x}<br>1=%{y}<extra></extra>\", \"legendgroup\": \"Goat's milk\", \"marker\": {\"color\": \"#00cc96\", \"symbol\": \"circle\"}, \"mode\": \"markers\", \"name\": \"Goat's milk\", \"orientation\": \"v\", \"showlegend\": true, \"type\": \"scatter\", \"x\": [2.0644757747650146], \"xaxis\": \"x\", \"y\": [-4.613100528717041], \"yaxis\": \"y\"}, {\"hovertemplate\": \"color=Non-dairy milk<br>0=%{x}<br>1=%{y}<extra></extra>\", \"legendgroup\": \"Non-dairy milk\", \"marker\": {\"color\": \"#ab63fa\", \"symbol\": \"circle\"}, \"mode\": \"markers\", \"name\": \"Non-dairy milk\", \"orientation\": \"v\", \"showlegend\": true, \"type\": \"scatter\", \"x\": [-34.247886657714844], \"xaxis\": \"x\", \"y\": [-2.8783137798309326], \"yaxis\": \"y\"}, {\"hovertemplate\": \"color=Soy milk<br>0=%{x}<br>1=%{y}<extra></extra>\", \"legendgroup\": \"Soy milk\", \"marker\": {\"color\": \"#FFA15A\", \"symbol\": \"circle\"}, \"mode\": \"markers\", \"name\": \"Soy milk\", \"orientation\": \"v\", \"showlegend\": true, \"type\": \"scatter\", \"x\": [-43.869476318359375, -37.11827850341797, -38.01082229614258, -43.35297775268555, -43.62691116333008, -44.1077766418457], \"xaxis\": \"x\", \"y\": [-2.560086250305176, -4.090269565582275, -3.9100658893585205, -2.5493249893188477, -3.875843048095703, -3.791996479034424], \"yaxis\": \"y\"}, {\"hovertemplate\": \"color=Almond milk<br>0=%{x}<br>1=%{y}<extra></extra>\", \"legendgroup\": \"Almond milk\", \"marker\": {\"color\": \"#19d3f3\", \"symbol\": \"circle\"}, \"mode\": \"markers\", \"name\": \"Almond milk\", \"orientation\": \"v\", \"showlegend\": true, \"type\": \"scatter\", \"x\": [-31.350784301757812, -31.303367614746094, -30.353755950927734, -30.83816146850586], \"xaxis\": \"x\", \"y\": [3.1575400829315186, 3.836413621902466, 2.9164621829986572, 2.414034366607666], \"yaxis\": \"y\"}, {\"hovertemplate\": \"color=Rice milk<br>0=%{x}<br>1=%{y}<extra></extra>\", \"legendgroup\": \"Rice milk\", \"marker\": {\"color\": \"#FF6692\", \"symbol\": \"circle\"}, \"mode\": \"markers\", \"name\": \"Rice milk\", \"orientation\": \"v\", \"showlegend\": true, \"type\": \"scatter\", \"x\": [-8.59454345703125], \"xaxis\": \"x\", \"y\": [19.058494567871094], \"yaxis\": \"y\"}, {\"hovertemplate\": \"color=Coconut milk<br>0=%{x}<br>1=%{y}<extra></extra>\", \"legendgroup\": \"Coconut milk\", \"marker\": {\"color\": \"#B6E880\", \"symbol\": \"circle\"}, \"mode\": \"markers\", \"name\": \"Coconut milk\", \"orientation\": \"v\", \"showlegend\": true, \"type\": \"scatter\", \"x\": [-9.363372802734375, 16.821138381958008], \"xaxis\": \"x\", \"y\": [18.15479850769043, -12.064414024353027], \"yaxis\": \"y\"}, {\"hovertemplate\": \"color=Chocolate milk<br>0=%{x}<br>1=%{y}<extra></extra>\", \"legendgroup\": \"Chocolate milk\", \"marker\": {\"color\": \"#FF97FF\", \"symbol\": \"circle\"}, \"mode\": \"markers\", \"name\": \"Chocolate milk\", \"orientation\": \"v\", \"showlegend\": true, \"type\": \"scatter\", \"x\": [18.84185791015625, 13.603239059448242, 14.69589614868164, 19.369665145874023, 1.3499897718429565, 0.11361006647348404, 1.678505778312683, 18.774276733398438, 1.0893827676773071, 14.988200187683105, 12.101287841796875, 14.41066837310791, 17.623138427734375, 17.78983497619629, -35.3182258605957, -3.777268171310425, -2.1744039058685303, -5.05812406539917, -6.772704601287842, -8.18641185760498, -36.28250503540039, 15.512801170349121, 12.100025177001953, 14.893747329711914, 17.341276168823242, 18.187772750854492, -34.90000534057617, -4.256567001342773, -1.9674590826034546, -4.554435729980469, -7.089386940002441, -7.777885913848877, -36.548065185546875, 6.276058197021484, 8.861202239990234, 6.182323455810547, 9.451286315917969, 10.516996383666992, -33.51423263549805, 3.252659797668457, 6.538224220275879, 3.452392578125, -7.0354204177856445, -6.472857475280762, -35.006561279296875, 4.328507423400879, 4.75407600402832, 3.7327003479003906, 3.612579345703125, 2.957531213760376, -33.51993942260742], \"xaxis\": \"x\", \"y\": [-1.7151734828948975, -1.8738540410995483, -2.2434282302856445, -1.3282458782196045, 9.227388381958008, 9.203804969787598, 9.755035400390625, -1.0604768991470337, 9.961082458496094, 8.800761222839355, -1.0453755855560303, 9.73182201385498, 14.094881057739258, 15.649630546569824, -5.919685363769531, -29.98341941833496, -27.904020309448242, -30.09185028076172, -32.39802169799805, -32.85346603393555, -8.195713996887207, 9.183209419250488, -1.0414294004440308, 10.133993148803711, 14.201602935791016, 15.503978729248047, -6.185367107391357, -29.428298950195312, -28.140546798706055, -30.673805236816406, -32.026546478271484, -33.340179443359375, -7.984241962432861, 19.561033248901367, 0.454906702041626, 19.23412322998047, 19.7897891998291, 20.1159725189209, -5.466630458831787, 16.364788055419922, -1.1761958599090576, 16.519622802734375, 20.370574951171875, 20.624326705932617, -4.548807144165039, 30.790319442749023, 31.77261734008789, 31.043909072875977, 29.876008987426758, 29.842504501342773, -7.822141647338867], \"yaxis\": \"y\"}, {\"hovertemplate\": \"color=Strawberry milk<br>0=%{x}<br>1=%{y}<extra></extra>\", \"legendgroup\": \"Strawberry milk\", \"marker\": {\"color\": \"#FECB52\", \"symbol\": \"circle\"}, \"mode\": \"markers\", \"name\": \"Strawberry milk\", \"orientation\": \"v\", \"showlegend\": true, \"type\": \"scatter\", \"x\": [-11.46734619140625, 8.564945220947266, 4.694048881530762, 9.661896705627441, 10.791213989257812, -9.058625221252441, -34.02802276611328], \"xaxis\": \"x\", \"y\": [9.177762031555176, 0.4203372001647949, 17.477741241455078, 18.982107162475586, 19.369911193847656, 21.607086181640625, -5.081058502197266], \"yaxis\": \"y\"}, {\"hovertemplate\": \"color=Milk shake<br>0=%{x}<br>1=%{y}<extra></extra>\", \"legendgroup\": \"Milk shake\", \"marker\": {\"color\": \"#636efa\", \"symbol\": \"circle\"}, \"mode\": \"markers\", \"name\": \"Milk shake\", \"orientation\": \"v\", \"showlegend\": true, \"type\": \"scatter\", \"x\": [17.679237365722656, 18.394113540649414, 16.85112190246582, 9.166667938232422, 24.35491180419922, 24.558746337890625, 23.862258911132812, 24.956884384155273], \"xaxis\": \"x\", \"y\": [-10.769322395324707, -10.435829162597656, -8.930830001831055, 1.7832307815551758, -18.535762786865234, -17.240324020385742, -18.220117568969727, -17.499740600585938], \"yaxis\": \"y\"}, {\"hovertemplate\": \"color=Milk shake with malt<br>0=%{x}<br>1=%{y}<extra></extra>\", \"legendgroup\": \"Milk shake with malt\", \"marker\": {\"color\": \"#EF553B\", \"symbol\": \"circle\"}, \"mode\": \"markers\", \"name\": \"Milk shake with malt\", \"orientation\": \"v\", \"showlegend\": true, \"type\": \"scatter\", \"x\": [18.604341506958008], \"xaxis\": \"x\", \"y\": [-10.952194213867188], \"yaxis\": \"y\"}, {\"hovertemplate\": \"color=Chocolate milk drink<br>0=%{x}<br>1=%{y}<extra></extra>\", \"legendgroup\": \"Chocolate milk drink\", \"marker\": {\"color\": \"#00cc96\", \"symbol\": \"circle\"}, \"mode\": \"markers\", \"name\": \"Chocolate milk drink\", \"orientation\": \"v\", \"showlegend\": true, \"type\": \"scatter\", \"x\": [3.131166696548462], \"xaxis\": \"x\", \"y\": [28.292186737060547], \"yaxis\": \"y\"}, {\"hovertemplate\": \"color=Milk dessert or milk candy<br>0=%{x}<br>1=%{y}<extra></extra>\", \"legendgroup\": \"Milk dessert or milk candy\", \"marker\": {\"color\": \"#ab63fa\", \"symbol\": \"circle\"}, \"mode\": \"markers\", \"name\": \"Milk dessert or milk candy\", \"orientation\": \"v\", \"showlegend\": true, \"type\": \"scatter\", \"x\": [31.26386070251465], \"xaxis\": \"x\", \"y\": [-18.368122100830078], \"yaxis\": \"y\"}, {\"hovertemplate\": \"color=Milk 'n Cereal bar<br>0=%{x}<br>1=%{y}<extra></extra>\", \"legendgroup\": \"Milk 'n Cereal bar\", \"marker\": {\"color\": \"#FFA15A\", \"symbol\": \"circle\"}, \"mode\": \"markers\", \"name\": \"Milk 'n Cereal bar\", \"orientation\": \"v\", \"showlegend\": true, \"type\": \"scatter\", \"x\": [33.38451385498047], \"xaxis\": \"x\", \"y\": [-18.204408645629883], \"yaxis\": \"y\"}, {\"hovertemplate\": \"color=Nutrition bar (Tiger's Milk)<br>0=%{x}<br>1=%{y}<extra></extra>\", \"legendgroup\": \"Nutrition bar (Tiger's Milk)\", \"marker\": {\"color\": \"#19d3f3\", \"symbol\": \"circle\"}, \"mode\": \"markers\", \"name\": \"Nutrition bar (Tiger's Milk)\", \"orientation\": \"v\", \"showlegend\": true, \"type\": \"scatter\", \"x\": [34.58539581298828], \"xaxis\": \"x\", \"y\": [-19.315061569213867], \"yaxis\": \"y\"}, {\"hovertemplate\": \"color=Milk chocolate candy<br>0=%{x}<br>1=%{y}<extra></extra>\", \"legendgroup\": \"Milk chocolate candy\", \"marker\": {\"color\": \"#FF6692\", \"symbol\": \"circle\"}, \"mode\": \"markers\", \"name\": \"Milk chocolate candy\", \"orientation\": \"v\", \"showlegend\": true, \"type\": \"scatter\", \"x\": [39.4273681640625, 38.94645309448242, 38.60226058959961, 39.89300537109375], \"xaxis\": \"x\", \"y\": [-14.364870071411133, -14.131540298461914, -15.172369003295898, -15.197870254516602], \"yaxis\": \"y\"}, {\"hovertemplate\": \"color=M&M's Milk Chocolate Candies<br>0=%{x}<br>1=%{y}<extra></extra>\", \"legendgroup\": \"M&M's Milk Chocolate Candies\", \"marker\": {\"color\": \"#B6E880\", \"symbol\": \"circle\"}, \"mode\": \"markers\", \"name\": \"M&M's Milk Chocolate Candies\", \"orientation\": \"v\", \"showlegend\": true, \"type\": \"scatter\", \"x\": [37.59996795654297], \"xaxis\": \"x\", \"y\": [-15.612956047058105], \"yaxis\": \"y\"}, {\"hovertemplate\": \"color=Oatmeal beverage with milk<br>0=%{x}<br>1=%{y}<extra></extra>\", \"legendgroup\": \"Oatmeal beverage with milk\", \"marker\": {\"color\": \"#FF97FF\", \"symbol\": \"circle\"}, \"mode\": \"markers\", \"name\": \"Oatmeal beverage with milk\", \"orientation\": \"v\", \"showlegend\": true, \"type\": \"scatter\", \"x\": [5.153127670288086], \"xaxis\": \"x\", \"y\": [23.80577850341797], \"yaxis\": \"y\"}, {\"hovertemplate\": \"color=Cornmeal beverage with chocolate milk<br>0=%{x}<br>1=%{y}<extra></extra>\", \"legendgroup\": \"Cornmeal beverage with chocolate milk\", \"marker\": {\"color\": \"#FECB52\", \"symbol\": \"circle\"}, \"mode\": \"markers\", \"name\": \"Cornmeal beverage with chocolate milk\", \"orientation\": \"v\", \"showlegend\": true, \"type\": \"scatter\", \"x\": [5.616422653198242], \"xaxis\": \"x\", \"y\": [22.11641502380371], \"yaxis\": \"y\"}, {\"hovertemplate\": \"color=Nutritional powder mix (Muscle Milk)<br>0=%{x}<br>1=%{y}<extra></extra>\", \"legendgroup\": \"Nutritional powder mix (Muscle Milk)\", \"marker\": {\"color\": \"#636efa\", \"symbol\": \"circle\"}, \"mode\": \"markers\", \"name\": \"Nutritional powder mix (Muscle Milk)\", \"orientation\": \"v\", \"showlegend\": true, \"type\": \"scatter\", \"x\": [34.699745178222656], \"xaxis\": \"x\", \"y\": [-20.728336334228516], \"yaxis\": \"y\"}],                        {\"legend\": {\"title\": {\"text\": \"color\"}, \"tracegroupgap\": 0}, \"margin\": {\"t\": 60}, \"template\": {\"data\": {\"bar\": [{\"error_x\": {\"color\": \"#2a3f5f\"}, \"error_y\": {\"color\": \"#2a3f5f\"}, \"marker\": {\"line\": {\"color\": \"#E5ECF6\", \"width\": 0.5}}, \"type\": \"bar\"}], \"barpolar\": [{\"marker\": {\"line\": {\"color\": \"#E5ECF6\", \"width\": 0.5}}, \"type\": \"barpolar\"}], \"carpet\": [{\"aaxis\": {\"endlinecolor\": \"#2a3f5f\", \"gridcolor\": \"white\", \"linecolor\": \"white\", \"minorgridcolor\": \"white\", \"startlinecolor\": \"#2a3f5f\"}, \"baxis\": {\"endlinecolor\": \"#2a3f5f\", \"gridcolor\": \"white\", \"linecolor\": \"white\", \"minorgridcolor\": \"white\", \"startlinecolor\": \"#2a3f5f\"}, \"type\": \"carpet\"}], \"choropleth\": [{\"colorbar\": {\"outlinewidth\": 0, \"ticks\": \"\"}, \"type\": \"choropleth\"}], \"contour\": [{\"colorbar\": {\"outlinewidth\": 0, \"ticks\": \"\"}, \"colorscale\": [[0.0, \"#0d0887\"], [0.1111111111111111, \"#46039f\"], [0.2222222222222222, \"#7201a8\"], [0.3333333333333333, \"#9c179e\"], [0.4444444444444444, \"#bd3786\"], [0.5555555555555556, \"#d8576b\"], [0.6666666666666666, \"#ed7953\"], [0.7777777777777778, \"#fb9f3a\"], [0.8888888888888888, \"#fdca26\"], [1.0, \"#f0f921\"]], \"type\": \"contour\"}], \"contourcarpet\": [{\"colorbar\": {\"outlinewidth\": 0, \"ticks\": \"\"}, \"type\": \"contourcarpet\"}], \"heatmap\": [{\"colorbar\": {\"outlinewidth\": 0, \"ticks\": \"\"}, \"colorscale\": [[0.0, \"#0d0887\"], [0.1111111111111111, \"#46039f\"], [0.2222222222222222, \"#7201a8\"], [0.3333333333333333, \"#9c179e\"], [0.4444444444444444, \"#bd3786\"], [0.5555555555555556, \"#d8576b\"], [0.6666666666666666, \"#ed7953\"], [0.7777777777777778, \"#fb9f3a\"], [0.8888888888888888, \"#fdca26\"], [1.0, \"#f0f921\"]], \"type\": \"heatmap\"}], \"heatmapgl\": [{\"colorbar\": {\"outlinewidth\": 0, \"ticks\": \"\"}, \"colorscale\": [[0.0, \"#0d0887\"], [0.1111111111111111, \"#46039f\"], [0.2222222222222222, \"#7201a8\"], [0.3333333333333333, \"#9c179e\"], [0.4444444444444444, \"#bd3786\"], [0.5555555555555556, \"#d8576b\"], [0.6666666666666666, \"#ed7953\"], [0.7777777777777778, \"#fb9f3a\"], [0.8888888888888888, \"#fdca26\"], [1.0, \"#f0f921\"]], \"type\": \"heatmapgl\"}], \"histogram\": [{\"marker\": {\"colorbar\": {\"outlinewidth\": 0, \"ticks\": \"\"}}, \"type\": \"histogram\"}], \"histogram2d\": [{\"colorbar\": {\"outlinewidth\": 0, \"ticks\": \"\"}, \"colorscale\": [[0.0, \"#0d0887\"], [0.1111111111111111, \"#46039f\"], [0.2222222222222222, \"#7201a8\"], [0.3333333333333333, \"#9c179e\"], [0.4444444444444444, \"#bd3786\"], [0.5555555555555556, \"#d8576b\"], [0.6666666666666666, \"#ed7953\"], [0.7777777777777778, \"#fb9f3a\"], [0.8888888888888888, \"#fdca26\"], [1.0, \"#f0f921\"]], \"type\": \"histogram2d\"}], \"histogram2dcontour\": [{\"colorbar\": {\"outlinewidth\": 0, \"ticks\": \"\"}, \"colorscale\": [[0.0, \"#0d0887\"], [0.1111111111111111, \"#46039f\"], [0.2222222222222222, \"#7201a8\"], [0.3333333333333333, \"#9c179e\"], [0.4444444444444444, \"#bd3786\"], [0.5555555555555556, \"#d8576b\"], [0.6666666666666666, \"#ed7953\"], [0.7777777777777778, \"#fb9f3a\"], [0.8888888888888888, \"#fdca26\"], [1.0, \"#f0f921\"]], \"type\": \"histogram2dcontour\"}], \"mesh3d\": [{\"colorbar\": {\"outlinewidth\": 0, \"ticks\": \"\"}, \"type\": \"mesh3d\"}], \"parcoords\": [{\"line\": {\"colorbar\": {\"outlinewidth\": 0, \"ticks\": \"\"}}, \"type\": \"parcoords\"}], \"pie\": [{\"automargin\": true, \"type\": \"pie\"}], \"scatter\": [{\"marker\": {\"colorbar\": {\"outlinewidth\": 0, \"ticks\": \"\"}}, \"type\": \"scatter\"}], \"scatter3d\": [{\"line\": {\"colorbar\": {\"outlinewidth\": 0, \"ticks\": \"\"}}, \"marker\": {\"colorbar\": {\"outlinewidth\": 0, \"ticks\": \"\"}}, \"type\": \"scatter3d\"}], \"scattercarpet\": [{\"marker\": {\"colorbar\": {\"outlinewidth\": 0, \"ticks\": \"\"}}, \"type\": \"scattercarpet\"}], \"scattergeo\": [{\"marker\": {\"colorbar\": {\"outlinewidth\": 0, \"ticks\": \"\"}}, \"type\": \"scattergeo\"}], \"scattergl\": [{\"marker\": {\"colorbar\": {\"outlinewidth\": 0, \"ticks\": \"\"}}, \"type\": \"scattergl\"}], \"scattermapbox\": [{\"marker\": {\"colorbar\": {\"outlinewidth\": 0, \"ticks\": \"\"}}, \"type\": \"scattermapbox\"}], \"scatterpolar\": [{\"marker\": {\"colorbar\": {\"outlinewidth\": 0, \"ticks\": \"\"}}, \"type\": \"scatterpolar\"}], \"scatterpolargl\": [{\"marker\": {\"colorbar\": {\"outlinewidth\": 0, \"ticks\": \"\"}}, \"type\": \"scatterpolargl\"}], \"scatterternary\": [{\"marker\": {\"colorbar\": {\"outlinewidth\": 0, \"ticks\": \"\"}}, \"type\": \"scatterternary\"}], \"surface\": [{\"colorbar\": {\"outlinewidth\": 0, \"ticks\": \"\"}, \"colorscale\": [[0.0, \"#0d0887\"], [0.1111111111111111, \"#46039f\"], [0.2222222222222222, \"#7201a8\"], [0.3333333333333333, \"#9c179e\"], [0.4444444444444444, \"#bd3786\"], [0.5555555555555556, \"#d8576b\"], [0.6666666666666666, \"#ed7953\"], [0.7777777777777778, \"#fb9f3a\"], [0.8888888888888888, \"#fdca26\"], [1.0, \"#f0f921\"]], \"type\": \"surface\"}], \"table\": [{\"cells\": {\"fill\": {\"color\": \"#EBF0F8\"}, \"line\": {\"color\": \"white\"}}, \"header\": {\"fill\": {\"color\": \"#C8D4E3\"}, \"line\": {\"color\": \"white\"}}, \"type\": \"table\"}]}, \"layout\": {\"annotationdefaults\": {\"arrowcolor\": \"#2a3f5f\", \"arrowhead\": 0, \"arrowwidth\": 1}, \"autotypenumbers\": \"strict\", \"coloraxis\": {\"colorbar\": {\"outlinewidth\": 0, \"ticks\": \"\"}}, \"colorscale\": {\"diverging\": [[0, \"#8e0152\"], [0.1, \"#c51b7d\"], [0.2, \"#de77ae\"], [0.3, \"#f1b6da\"], [0.4, \"#fde0ef\"], [0.5, \"#f7f7f7\"], [0.6, \"#e6f5d0\"], [0.7, \"#b8e186\"], [0.8, \"#7fbc41\"], [0.9, \"#4d9221\"], [1, \"#276419\"]], \"sequential\": [[0.0, \"#0d0887\"], [0.1111111111111111, \"#46039f\"], [0.2222222222222222, \"#7201a8\"], [0.3333333333333333, \"#9c179e\"], [0.4444444444444444, \"#bd3786\"], [0.5555555555555556, \"#d8576b\"], [0.6666666666666666, \"#ed7953\"], [0.7777777777777778, \"#fb9f3a\"], [0.8888888888888888, \"#fdca26\"], [1.0, \"#f0f921\"]], \"sequentialminus\": [[0.0, \"#0d0887\"], [0.1111111111111111, \"#46039f\"], [0.2222222222222222, \"#7201a8\"], [0.3333333333333333, \"#9c179e\"], [0.4444444444444444, \"#bd3786\"], [0.5555555555555556, \"#d8576b\"], [0.6666666666666666, \"#ed7953\"], [0.7777777777777778, \"#fb9f3a\"], [0.8888888888888888, \"#fdca26\"], [1.0, \"#f0f921\"]]}, \"colorway\": [\"#636efa\", \"#EF553B\", \"#00cc96\", \"#ab63fa\", \"#FFA15A\", \"#19d3f3\", \"#FF6692\", \"#B6E880\", \"#FF97FF\", \"#FECB52\"], \"font\": {\"color\": \"#2a3f5f\"}, \"geo\": {\"bgcolor\": \"white\", \"lakecolor\": \"white\", \"landcolor\": \"#E5ECF6\", \"showlakes\": true, \"showland\": true, \"subunitcolor\": \"white\"}, \"hoverlabel\": {\"align\": \"left\"}, \"hovermode\": \"closest\", \"mapbox\": {\"style\": \"light\"}, \"paper_bgcolor\": \"white\", \"plot_bgcolor\": \"#E5ECF6\", \"polar\": {\"angularaxis\": {\"gridcolor\": \"white\", \"linecolor\": \"white\", \"ticks\": \"\"}, \"bgcolor\": \"#E5ECF6\", \"radialaxis\": {\"gridcolor\": \"white\", \"linecolor\": \"white\", \"ticks\": \"\"}}, \"scene\": {\"xaxis\": {\"backgroundcolor\": \"#E5ECF6\", \"gridcolor\": \"white\", \"gridwidth\": 2, \"linecolor\": \"white\", \"showbackground\": true, \"ticks\": \"\", \"zerolinecolor\": \"white\"}, \"yaxis\": {\"backgroundcolor\": \"#E5ECF6\", \"gridcolor\": \"white\", \"gridwidth\": 2, \"linecolor\": \"white\", \"showbackground\": true, \"ticks\": \"\", \"zerolinecolor\": \"white\"}, \"zaxis\": {\"backgroundcolor\": \"#E5ECF6\", \"gridcolor\": \"white\", \"gridwidth\": 2, \"linecolor\": \"white\", \"showbackground\": true, \"ticks\": \"\", \"zerolinecolor\": \"white\"}}, \"shapedefaults\": {\"line\": {\"color\": \"#2a3f5f\"}}, \"ternary\": {\"aaxis\": {\"gridcolor\": \"white\", \"linecolor\": \"white\", \"ticks\": \"\"}, \"baxis\": {\"gridcolor\": \"white\", \"linecolor\": \"white\", \"ticks\": \"\"}, \"bgcolor\": \"#E5ECF6\", \"caxis\": {\"gridcolor\": \"white\", \"linecolor\": \"white\", \"ticks\": \"\"}}, \"title\": {\"x\": 0.05}, \"xaxis\": {\"automargin\": true, \"gridcolor\": \"white\", \"linecolor\": \"white\", \"ticks\": \"\", \"title\": {\"standoff\": 15}, \"zerolinecolor\": \"white\", \"zerolinewidth\": 2}, \"yaxis\": {\"automargin\": true, \"gridcolor\": \"white\", \"linecolor\": \"white\", \"ticks\": \"\", \"title\": {\"standoff\": 15}, \"zerolinecolor\": \"white\", \"zerolinewidth\": 2}}}, \"xaxis\": {\"anchor\": \"y\", \"domain\": [0.0, 1.0], \"title\": {\"text\": \"0\"}}, \"yaxis\": {\"anchor\": \"x\", \"domain\": [0.0, 1.0], \"title\": {\"text\": \"1\"}}},                        {\"responsive\": true}                    ).then(function(){\n",
              "                            \n",
              "var gd = document.getElementById('d6f2b103-1a15-4ce0-98fe-334f760fc578');\n",
              "var x = new MutationObserver(function (mutations, observer) {{\n",
              "        var display = window.getComputedStyle(gd).display;\n",
              "        if (!display || display === 'none') {{\n",
              "            console.log([gd, 'removed!']);\n",
              "            Plotly.purge(gd);\n",
              "            observer.disconnect();\n",
              "        }}\n",
              "}});\n",
              "\n",
              "// Listen for the removal of the full notebook cells\n",
              "var notebookContainer = gd.closest('#notebook-container');\n",
              "if (notebookContainer) {{\n",
              "    x.observe(notebookContainer, {childList: true});\n",
              "}}\n",
              "\n",
              "// Listen for the clearing of the current output cell\n",
              "var outputEl = gd.closest('.output');\n",
              "if (outputEl) {{\n",
              "    x.observe(outputEl, {childList: true});\n",
              "}}\n",
              "\n",
              "                        })                };                            </script>        </div>\n",
              "</body>\n",
              "</html>"
            ]
          },
          "metadata": {}
        }
      ]
    },
    {
      "cell_type": "markdown",
      "source": [
        "## TriMap\n",
        "\n",
        "Triplets Mapping (TriMap) is a dimensionality reduction method that uses triplet constraints to form a low-dimensional embedding of a set of points. The triplet constraints are of the form “point i is closer to point j than point k”. The triplets are sampled from the high-dimensional representation of the points and a weighting scheme is used to reflect the importance of each triplet.\n",
        "\n",
        "https://github.com/eamid/trimap\n"
      ],
      "metadata": {
        "id": "6mRo2tBNGORe"
      }
    },
    {
      "cell_type": "code",
      "source": [
        "X_trimap = trimap.TRIMAP().fit_transform(xscaled)\n",
        "\n",
        "fig = px.scatter(X_trimap, x=0, y=1, color=labels.astype(object))\n",
        "fig.show()"
      ],
      "metadata": {
        "colab": {
          "base_uri": "https://localhost:8080/",
          "height": 542
        },
        "id": "qKPkXH31GeVc",
        "outputId": "47b13b51-7540-4ced-d217-70ad07202585"
      },
      "execution_count": null,
      "outputs": [
        {
          "output_type": "display_data",
          "data": {
            "text/html": [
              "<html>\n",
              "<head><meta charset=\"utf-8\" /></head>\n",
              "<body>\n",
              "    <div>            <script src=\"https://cdnjs.cloudflare.com/ajax/libs/mathjax/2.7.5/MathJax.js?config=TeX-AMS-MML_SVG\"></script><script type=\"text/javascript\">if (window.MathJax) {MathJax.Hub.Config({SVG: {font: \"STIX-Web\"}});}</script>                <script type=\"text/javascript\">window.PlotlyConfig = {MathJaxConfig: 'local'};</script>\n",
              "        <script src=\"https://cdn.plot.ly/plotly-latest.min.js\"></script>                <div id=\"09c47c78-cc5f-4288-9455-30ac59720f45\" class=\"plotly-graph-div\" style=\"height:525px; width:100%;\"></div>            <script type=\"text/javascript\">                                    window.PLOTLYENV=window.PLOTLYENV || {};                                    if (document.getElementById(\"09c47c78-cc5f-4288-9455-30ac59720f45\")) {                    Plotly.newPlot(                        \"09c47c78-cc5f-4288-9455-30ac59720f45\",                        [{\"hovertemplate\": \"color=Milk<br>0=%{x}<br>1=%{y}<extra></extra>\", \"legendgroup\": \"Milk\", \"marker\": {\"color\": \"#636efa\", \"symbol\": \"circle\"}, \"mode\": \"markers\", \"name\": \"Milk\", \"orientation\": \"v\", \"showlegend\": true, \"type\": \"scatter\", \"x\": [55.68718338012695, -18.852041244506836, -18.48423957824707, -18.172033309936523, -18.809938430786133, -14.918722152709961, -11.300048828125, -17.645183563232422, -14.570596694946289, -18.38886070251465, -14.674352645874023, -13.337593078613281, -14.279254913330078, -13.121193885803223, -19.12505340576172, -18.732622146606445, -11.828352928161621, -18.755664825439453, -13.378698348999023, -11.525117874145508, 58.99497604370117, 59.307621002197266, -8.062275886535645, -7.912303924560547, 63.93347930908203, -35.26976776123047, 71.35692596435547, 71.11405944824219, 70.81412506103516, 71.5206069946289, 72.87110137939453], \"xaxis\": \"x\", \"y\": [-4.849634170532227, -9.470396995544434, -4.774568557739258, -3.996490478515625, -4.5023345947265625, -17.0490779876709, -12.410874366760254, -11.38837718963623, -16.18832778930664, -10.412038803100586, -16.99523162841797, -15.405159950256348, -15.996342658996582, -15.658446311950684, -10.837594032287598, -4.474457740783691, -14.262410163879395, -3.784320592880249, -13.669957160949707, -13.768720626831055, -4.803861141204834, -4.6828837394714355, -2.538566827774048, -2.63038969039917, -3.976503610610962, -0.5799834728240967, -3.3071200847625732, -2.826725482940674, -3.0003528594970703, -3.4735305309295654, -3.756882905960083], \"yaxis\": \"y\"}, {\"hovertemplate\": \"color=Buttermilk<br>0=%{x}<br>1=%{y}<extra></extra>\", \"legendgroup\": \"Buttermilk\", \"marker\": {\"color\": \"#EF553B\", \"symbol\": \"circle\"}, \"mode\": \"markers\", \"name\": \"Buttermilk\", \"orientation\": \"v\", \"showlegend\": true, \"type\": \"scatter\", \"x\": [-7.7917914390563965, -7.960903644561768, -9.364935874938965, -15.825597763061523], \"xaxis\": \"x\", \"y\": [-3.2322914600372314, -4.568889141082764, -3.729409694671631, -3.411205768585205], \"yaxis\": \"y\"}, {\"hovertemplate\": \"color=Goat's milk<br>0=%{x}<br>1=%{y}<extra></extra>\", \"legendgroup\": \"Goat's milk\", \"marker\": {\"color\": \"#00cc96\", \"symbol\": \"circle\"}, \"mode\": \"markers\", \"name\": \"Goat's milk\", \"orientation\": \"v\", \"showlegend\": true, \"type\": \"scatter\", \"x\": [-16.99431800842285], \"xaxis\": \"x\", \"y\": [-3.4721601009368896], \"yaxis\": \"y\"}, {\"hovertemplate\": \"color=Non-dairy milk<br>0=%{x}<br>1=%{y}<extra></extra>\", \"legendgroup\": \"Non-dairy milk\", \"marker\": {\"color\": \"#ab63fa\", \"symbol\": \"circle\"}, \"mode\": \"markers\", \"name\": \"Non-dairy milk\", \"orientation\": \"v\", \"showlegend\": true, \"type\": \"scatter\", \"x\": [12.538532257080078], \"xaxis\": \"x\", \"y\": [25.68074607849121], \"yaxis\": \"y\"}, {\"hovertemplate\": \"color=Soy milk<br>0=%{x}<br>1=%{y}<extra></extra>\", \"legendgroup\": \"Soy milk\", \"marker\": {\"color\": \"#FFA15A\", \"symbol\": \"circle\"}, \"mode\": \"markers\", \"name\": \"Soy milk\", \"orientation\": \"v\", \"showlegend\": true, \"type\": \"scatter\", \"x\": [16.94587516784668, 15.412992477416992, 15.5489501953125, 16.578737258911133, 17.83605194091797, 16.998939514160156], \"xaxis\": \"x\", \"y\": [31.862590789794922, 30.31714630126953, 30.545917510986328, 31.6027774810791, 32.13005065917969, 32.032196044921875], \"yaxis\": \"y\"}, {\"hovertemplate\": \"color=Almond milk<br>0=%{x}<br>1=%{y}<extra></extra>\", \"legendgroup\": \"Almond milk\", \"marker\": {\"color\": \"#19d3f3\", \"symbol\": \"circle\"}, \"mode\": \"markers\", \"name\": \"Almond milk\", \"orientation\": \"v\", \"showlegend\": true, \"type\": \"scatter\", \"x\": [8.836254119873047, 9.470947265625, 8.884876251220703, 8.9008207321167], \"xaxis\": \"x\", \"y\": [18.391082763671875, 19.63985252380371, 18.409536361694336, 18.555906295776367], \"yaxis\": \"y\"}, {\"hovertemplate\": \"color=Rice milk<br>0=%{x}<br>1=%{y}<extra></extra>\", \"legendgroup\": \"Rice milk\", \"marker\": {\"color\": \"#FF6692\", \"symbol\": \"circle\"}, \"mode\": \"markers\", \"name\": \"Rice milk\", \"orientation\": \"v\", \"showlegend\": true, \"type\": \"scatter\", \"x\": [7.5088210105896], \"xaxis\": \"x\", \"y\": [16.036415100097656], \"yaxis\": \"y\"}, {\"hovertemplate\": \"color=Coconut milk<br>0=%{x}<br>1=%{y}<extra></extra>\", \"legendgroup\": \"Coconut milk\", \"marker\": {\"color\": \"#B6E880\", \"symbol\": \"circle\"}, \"mode\": \"markers\", \"name\": \"Coconut milk\", \"orientation\": \"v\", \"showlegend\": true, \"type\": \"scatter\", \"x\": [7.491702556610107, 61.13763427734375], \"xaxis\": \"x\", \"y\": [15.862789154052734, -4.420125484466553], \"yaxis\": \"y\"}, {\"hovertemplate\": \"color=Chocolate milk<br>0=%{x}<br>1=%{y}<extra></extra>\", \"legendgroup\": \"Chocolate milk\", \"marker\": {\"color\": \"#FF97FF\", \"symbol\": \"circle\"}, \"mode\": \"markers\", \"name\": \"Chocolate milk\", \"orientation\": \"v\", \"showlegend\": true, \"type\": \"scatter\", \"x\": [-9.490706443786621, -19.54097557067871, -13.450047492980957, -9.81959342956543, -9.609763145446777, -9.382065773010254, -9.59933853149414, -9.429447174072266, -9.56351089477539, -28.849294662475586, -20.855915069580078, -29.110877990722656, -28.89754295349121, -28.83017349243164, 13.732176780700684, -43.764747619628906, -39.38923645019531, -43.053688049316406, -45.08158874511719, -45.12727355957031, 14.077103614807129, -28.14434242248535, -20.545867919921875, -28.544248580932617, -29.15196990966797, -28.98661994934082, 13.623565673828125, -43.415653228759766, -42.342002868652344, -43.63339614868164, -44.69775390625, -45.06986618041992, 13.923303604125977, -25.56617546081543, -21.79796028137207, -25.39430809020996, -26.896873474121094, -26.80792999267578, 13.27241039276123, -23.916030883789062, -20.568395614624023, -24.133819580078125, -25.000659942626953, -24.65803337097168, 13.47309398651123, -3.5198521614074707, -8.710508346557617, -2.9703872203826904, -3.288578748703003, -3.6722681522369385, 13.142367362976074], \"xaxis\": \"x\", \"y\": [-2.848604917526245, -3.1114675998687744, -1.6765497922897339, -2.497450351715088, -3.5952095985412598, -5.458051681518555, -3.8500771522521973, -2.700608253479004, -3.932893753051758, -6.9449076652526855, -3.8267905712127686, -7.210242748260498, -8.500163078308105, -9.417421340942383, 28.438152313232422, 4.438160419464111, 3.3470373153686523, 3.0587775707244873, 3.186624526977539, 2.9668490886688232, 28.57575035095215, -6.673823356628418, -3.583388566970825, -7.173102378845215, -8.509910583496094, -8.905106544494629, 28.412975311279297, 4.729427814483643, 4.375197887420654, 3.290189027786255, 2.9830925464630127, 2.9483652114868164, 28.455507278442383, -8.456497192382812, -4.17172908782959, -7.907995223999023, -9.954704284667969, -9.894377708435059, 27.982454299926758, -9.074254989624023, -4.39868688583374, -9.063003540039062, -10.895269393920898, -10.956216812133789, 28.047527313232422, 2.037936210632324, 0.7204641699790955, 2.335747241973877, 1.7849459648132324, 0.6987865567207336, 26.280029296875], \"yaxis\": \"y\"}, {\"hovertemplate\": \"color=Strawberry milk<br>0=%{x}<br>1=%{y}<extra></extra>\", \"legendgroup\": \"Strawberry milk\", \"marker\": {\"color\": \"#FECB52\", \"symbol\": \"circle\"}, \"mode\": \"markers\", \"name\": \"Strawberry milk\", \"orientation\": \"v\", \"showlegend\": true, \"type\": \"scatter\", \"x\": [-18.386791229248047, -21.72899627685547, -26.297508239746094, -26.411226272583008, -27.759090423583984, -15.498786926269531, 13.325126647949219], \"xaxis\": \"x\", \"y\": [-11.325655937194824, -4.007138252258301, -7.637906074523926, -9.578907012939453, -10.888642311096191, -16.141843795776367, 27.275053024291992], \"yaxis\": \"y\"}, {\"hovertemplate\": \"color=Milk shake<br>0=%{x}<br>1=%{y}<extra></extra>\", \"legendgroup\": \"Milk shake\", \"marker\": {\"color\": \"#636efa\", \"symbol\": \"circle\"}, \"mode\": \"markers\", \"name\": \"Milk shake\", \"orientation\": \"v\", \"showlegend\": true, \"type\": \"scatter\", \"x\": [57.19239807128906, 57.82064437866211, 52.411434173583984, -21.62078094482422, 60.28472137451172, 59.596031188964844, 59.58405303955078, 59.643123626708984], \"xaxis\": \"x\", \"y\": [-4.730730056762695, -4.8771653175354, -7.768468379974365, -3.729468822479248, -4.547641754150391, -4.636229038238525, -4.666341781616211, -4.6760783195495605], \"yaxis\": \"y\"}, {\"hovertemplate\": \"color=Milk shake with malt<br>0=%{x}<br>1=%{y}<extra></extra>\", \"legendgroup\": \"Milk shake with malt\", \"marker\": {\"color\": \"#EF553B\", \"symbol\": \"circle\"}, \"mode\": \"markers\", \"name\": \"Milk shake with malt\", \"orientation\": \"v\", \"showlegend\": true, \"type\": \"scatter\", \"x\": [58.93844985961914], \"xaxis\": \"x\", \"y\": [-4.7793707847595215], \"yaxis\": \"y\"}, {\"hovertemplate\": \"color=Chocolate milk drink<br>0=%{x}<br>1=%{y}<extra></extra>\", \"legendgroup\": \"Chocolate milk drink\", \"marker\": {\"color\": \"#00cc96\", \"symbol\": \"circle\"}, \"mode\": \"markers\", \"name\": \"Chocolate milk drink\", \"orientation\": \"v\", \"showlegend\": true, \"type\": \"scatter\", \"x\": [5.3508830070495605], \"xaxis\": \"x\", \"y\": [12.300653457641602], \"yaxis\": \"y\"}, {\"hovertemplate\": \"color=Milk dessert or milk candy<br>0=%{x}<br>1=%{y}<extra></extra>\", \"legendgroup\": \"Milk dessert or milk candy\", \"marker\": {\"color\": \"#ab63fa\", \"symbol\": \"circle\"}, \"mode\": \"markers\", \"name\": \"Milk dessert or milk candy\", \"orientation\": \"v\", \"showlegend\": true, \"type\": \"scatter\", \"x\": [63.522972106933594], \"xaxis\": \"x\", \"y\": [-3.9485676288604736], \"yaxis\": \"y\"}, {\"hovertemplate\": \"color=Milk 'n Cereal bar<br>0=%{x}<br>1=%{y}<extra></extra>\", \"legendgroup\": \"Milk 'n Cereal bar\", \"marker\": {\"color\": \"#FFA15A\", \"symbol\": \"circle\"}, \"mode\": \"markers\", \"name\": \"Milk 'n Cereal bar\", \"orientation\": \"v\", \"showlegend\": true, \"type\": \"scatter\", \"x\": [66.20867156982422], \"xaxis\": \"x\", \"y\": [-3.562323808670044], \"yaxis\": \"y\"}, {\"hovertemplate\": \"color=Nutrition bar (Tiger's Milk)<br>0=%{x}<br>1=%{y}<extra></extra>\", \"legendgroup\": \"Nutrition bar (Tiger's Milk)\", \"marker\": {\"color\": \"#19d3f3\", \"symbol\": \"circle\"}, \"mode\": \"markers\", \"name\": \"Nutrition bar (Tiger's Milk)\", \"orientation\": \"v\", \"showlegend\": true, \"type\": \"scatter\", \"x\": [70.23119354248047], \"xaxis\": \"x\", \"y\": [-3.5135045051574707], \"yaxis\": \"y\"}, {\"hovertemplate\": \"color=Milk chocolate candy<br>0=%{x}<br>1=%{y}<extra></extra>\", \"legendgroup\": \"Milk chocolate candy\", \"marker\": {\"color\": \"#FF6692\", \"symbol\": \"circle\"}, \"mode\": \"markers\", \"name\": \"Milk chocolate candy\", \"orientation\": \"v\", \"showlegend\": true, \"type\": \"scatter\", \"x\": [66.56642150878906, 67.64046478271484, 66.87796020507812, 67.54644775390625], \"xaxis\": \"x\", \"y\": [-3.1376712322235107, -2.4406790733337402, -3.3884339332580566, -3.2962405681610107], \"yaxis\": \"y\"}, {\"hovertemplate\": \"color=M&M's Milk Chocolate Candies<br>0=%{x}<br>1=%{y}<extra></extra>\", \"legendgroup\": \"M&M's Milk Chocolate Candies\", \"marker\": {\"color\": \"#B6E880\", \"symbol\": \"circle\"}, \"mode\": \"markers\", \"name\": \"M&M's Milk Chocolate Candies\", \"orientation\": \"v\", \"showlegend\": true, \"type\": \"scatter\", \"x\": [66.01905059814453], \"xaxis\": \"x\", \"y\": [-3.493180513381958], \"yaxis\": \"y\"}, {\"hovertemplate\": \"color=Oatmeal beverage with milk<br>0=%{x}<br>1=%{y}<extra></extra>\", \"legendgroup\": \"Oatmeal beverage with milk\", \"marker\": {\"color\": \"#FF97FF\", \"symbol\": \"circle\"}, \"mode\": \"markers\", \"name\": \"Oatmeal beverage with milk\", \"orientation\": \"v\", \"showlegend\": true, \"type\": \"scatter\", \"x\": [68.17984008789062], \"xaxis\": \"x\", \"y\": [-1.074960470199585], \"yaxis\": \"y\"}, {\"hovertemplate\": \"color=Cornmeal beverage with chocolate milk<br>0=%{x}<br>1=%{y}<extra></extra>\", \"legendgroup\": \"Cornmeal beverage with chocolate milk\", \"marker\": {\"color\": \"#FECB52\", \"symbol\": \"circle\"}, \"mode\": \"markers\", \"name\": \"Cornmeal beverage with chocolate milk\", \"orientation\": \"v\", \"showlegend\": true, \"type\": \"scatter\", \"x\": [55.52756881713867], \"xaxis\": \"x\", \"y\": [-4.730348110198975], \"yaxis\": \"y\"}, {\"hovertemplate\": \"color=Nutritional powder mix (Muscle Milk)<br>0=%{x}<br>1=%{y}<extra></extra>\", \"legendgroup\": \"Nutritional powder mix (Muscle Milk)\", \"marker\": {\"color\": \"#636efa\", \"symbol\": \"circle\"}, \"mode\": \"markers\", \"name\": \"Nutritional powder mix (Muscle Milk)\", \"orientation\": \"v\", \"showlegend\": true, \"type\": \"scatter\", \"x\": [71.27960968017578], \"xaxis\": \"x\", \"y\": [-3.145784616470337], \"yaxis\": \"y\"}],                        {\"legend\": {\"title\": {\"text\": \"color\"}, \"tracegroupgap\": 0}, \"margin\": {\"t\": 60}, \"template\": {\"data\": {\"bar\": [{\"error_x\": {\"color\": \"#2a3f5f\"}, \"error_y\": {\"color\": \"#2a3f5f\"}, \"marker\": {\"line\": {\"color\": \"#E5ECF6\", \"width\": 0.5}}, \"type\": \"bar\"}], \"barpolar\": [{\"marker\": {\"line\": {\"color\": \"#E5ECF6\", \"width\": 0.5}}, \"type\": \"barpolar\"}], \"carpet\": [{\"aaxis\": {\"endlinecolor\": \"#2a3f5f\", \"gridcolor\": \"white\", \"linecolor\": \"white\", \"minorgridcolor\": \"white\", \"startlinecolor\": \"#2a3f5f\"}, \"baxis\": {\"endlinecolor\": \"#2a3f5f\", \"gridcolor\": \"white\", \"linecolor\": \"white\", \"minorgridcolor\": \"white\", \"startlinecolor\": \"#2a3f5f\"}, \"type\": \"carpet\"}], \"choropleth\": [{\"colorbar\": {\"outlinewidth\": 0, \"ticks\": \"\"}, \"type\": \"choropleth\"}], \"contour\": [{\"colorbar\": {\"outlinewidth\": 0, \"ticks\": \"\"}, \"colorscale\": [[0.0, \"#0d0887\"], [0.1111111111111111, \"#46039f\"], [0.2222222222222222, \"#7201a8\"], [0.3333333333333333, \"#9c179e\"], [0.4444444444444444, \"#bd3786\"], [0.5555555555555556, \"#d8576b\"], [0.6666666666666666, \"#ed7953\"], [0.7777777777777778, \"#fb9f3a\"], [0.8888888888888888, \"#fdca26\"], [1.0, \"#f0f921\"]], \"type\": \"contour\"}], \"contourcarpet\": [{\"colorbar\": {\"outlinewidth\": 0, \"ticks\": \"\"}, \"type\": \"contourcarpet\"}], \"heatmap\": [{\"colorbar\": {\"outlinewidth\": 0, \"ticks\": \"\"}, \"colorscale\": [[0.0, \"#0d0887\"], [0.1111111111111111, \"#46039f\"], [0.2222222222222222, \"#7201a8\"], [0.3333333333333333, \"#9c179e\"], [0.4444444444444444, \"#bd3786\"], [0.5555555555555556, \"#d8576b\"], [0.6666666666666666, \"#ed7953\"], [0.7777777777777778, \"#fb9f3a\"], [0.8888888888888888, \"#fdca26\"], [1.0, \"#f0f921\"]], \"type\": \"heatmap\"}], \"heatmapgl\": [{\"colorbar\": {\"outlinewidth\": 0, \"ticks\": \"\"}, \"colorscale\": [[0.0, \"#0d0887\"], [0.1111111111111111, \"#46039f\"], [0.2222222222222222, \"#7201a8\"], [0.3333333333333333, \"#9c179e\"], [0.4444444444444444, \"#bd3786\"], [0.5555555555555556, \"#d8576b\"], [0.6666666666666666, \"#ed7953\"], [0.7777777777777778, \"#fb9f3a\"], [0.8888888888888888, \"#fdca26\"], [1.0, \"#f0f921\"]], \"type\": \"heatmapgl\"}], \"histogram\": [{\"marker\": {\"colorbar\": {\"outlinewidth\": 0, \"ticks\": \"\"}}, \"type\": \"histogram\"}], \"histogram2d\": [{\"colorbar\": {\"outlinewidth\": 0, \"ticks\": \"\"}, \"colorscale\": [[0.0, \"#0d0887\"], [0.1111111111111111, \"#46039f\"], [0.2222222222222222, \"#7201a8\"], [0.3333333333333333, \"#9c179e\"], [0.4444444444444444, \"#bd3786\"], [0.5555555555555556, \"#d8576b\"], [0.6666666666666666, \"#ed7953\"], [0.7777777777777778, \"#fb9f3a\"], [0.8888888888888888, \"#fdca26\"], [1.0, \"#f0f921\"]], \"type\": \"histogram2d\"}], \"histogram2dcontour\": [{\"colorbar\": {\"outlinewidth\": 0, \"ticks\": \"\"}, \"colorscale\": [[0.0, \"#0d0887\"], [0.1111111111111111, \"#46039f\"], [0.2222222222222222, \"#7201a8\"], [0.3333333333333333, \"#9c179e\"], [0.4444444444444444, \"#bd3786\"], [0.5555555555555556, \"#d8576b\"], [0.6666666666666666, \"#ed7953\"], [0.7777777777777778, \"#fb9f3a\"], [0.8888888888888888, \"#fdca26\"], [1.0, \"#f0f921\"]], \"type\": \"histogram2dcontour\"}], \"mesh3d\": [{\"colorbar\": {\"outlinewidth\": 0, \"ticks\": \"\"}, \"type\": \"mesh3d\"}], \"parcoords\": [{\"line\": {\"colorbar\": {\"outlinewidth\": 0, \"ticks\": \"\"}}, \"type\": \"parcoords\"}], \"pie\": [{\"automargin\": true, \"type\": \"pie\"}], \"scatter\": [{\"marker\": {\"colorbar\": {\"outlinewidth\": 0, \"ticks\": \"\"}}, \"type\": \"scatter\"}], \"scatter3d\": [{\"line\": {\"colorbar\": {\"outlinewidth\": 0, \"ticks\": \"\"}}, \"marker\": {\"colorbar\": {\"outlinewidth\": 0, \"ticks\": \"\"}}, \"type\": \"scatter3d\"}], \"scattercarpet\": [{\"marker\": {\"colorbar\": {\"outlinewidth\": 0, \"ticks\": \"\"}}, \"type\": \"scattercarpet\"}], \"scattergeo\": [{\"marker\": {\"colorbar\": {\"outlinewidth\": 0, \"ticks\": \"\"}}, \"type\": \"scattergeo\"}], \"scattergl\": [{\"marker\": {\"colorbar\": {\"outlinewidth\": 0, \"ticks\": \"\"}}, \"type\": \"scattergl\"}], \"scattermapbox\": [{\"marker\": {\"colorbar\": {\"outlinewidth\": 0, \"ticks\": \"\"}}, \"type\": \"scattermapbox\"}], \"scatterpolar\": [{\"marker\": {\"colorbar\": {\"outlinewidth\": 0, \"ticks\": \"\"}}, \"type\": \"scatterpolar\"}], \"scatterpolargl\": [{\"marker\": {\"colorbar\": {\"outlinewidth\": 0, \"ticks\": \"\"}}, \"type\": \"scatterpolargl\"}], \"scatterternary\": [{\"marker\": {\"colorbar\": {\"outlinewidth\": 0, \"ticks\": \"\"}}, \"type\": \"scatterternary\"}], \"surface\": [{\"colorbar\": {\"outlinewidth\": 0, \"ticks\": \"\"}, \"colorscale\": [[0.0, \"#0d0887\"], [0.1111111111111111, \"#46039f\"], [0.2222222222222222, \"#7201a8\"], [0.3333333333333333, \"#9c179e\"], [0.4444444444444444, \"#bd3786\"], [0.5555555555555556, \"#d8576b\"], [0.6666666666666666, \"#ed7953\"], [0.7777777777777778, \"#fb9f3a\"], [0.8888888888888888, \"#fdca26\"], [1.0, \"#f0f921\"]], \"type\": \"surface\"}], \"table\": [{\"cells\": {\"fill\": {\"color\": \"#EBF0F8\"}, \"line\": {\"color\": \"white\"}}, \"header\": {\"fill\": {\"color\": \"#C8D4E3\"}, \"line\": {\"color\": \"white\"}}, \"type\": \"table\"}]}, \"layout\": {\"annotationdefaults\": {\"arrowcolor\": \"#2a3f5f\", \"arrowhead\": 0, \"arrowwidth\": 1}, \"autotypenumbers\": \"strict\", \"coloraxis\": {\"colorbar\": {\"outlinewidth\": 0, \"ticks\": \"\"}}, \"colorscale\": {\"diverging\": [[0, \"#8e0152\"], [0.1, \"#c51b7d\"], [0.2, \"#de77ae\"], [0.3, \"#f1b6da\"], [0.4, \"#fde0ef\"], [0.5, \"#f7f7f7\"], [0.6, \"#e6f5d0\"], [0.7, \"#b8e186\"], [0.8, \"#7fbc41\"], [0.9, \"#4d9221\"], [1, \"#276419\"]], \"sequential\": [[0.0, \"#0d0887\"], [0.1111111111111111, \"#46039f\"], [0.2222222222222222, \"#7201a8\"], [0.3333333333333333, \"#9c179e\"], [0.4444444444444444, \"#bd3786\"], [0.5555555555555556, \"#d8576b\"], [0.6666666666666666, \"#ed7953\"], [0.7777777777777778, \"#fb9f3a\"], [0.8888888888888888, \"#fdca26\"], [1.0, \"#f0f921\"]], \"sequentialminus\": [[0.0, \"#0d0887\"], [0.1111111111111111, \"#46039f\"], [0.2222222222222222, \"#7201a8\"], [0.3333333333333333, \"#9c179e\"], [0.4444444444444444, \"#bd3786\"], [0.5555555555555556, \"#d8576b\"], [0.6666666666666666, \"#ed7953\"], [0.7777777777777778, \"#fb9f3a\"], [0.8888888888888888, \"#fdca26\"], [1.0, \"#f0f921\"]]}, \"colorway\": [\"#636efa\", \"#EF553B\", \"#00cc96\", \"#ab63fa\", \"#FFA15A\", \"#19d3f3\", \"#FF6692\", \"#B6E880\", \"#FF97FF\", \"#FECB52\"], \"font\": {\"color\": \"#2a3f5f\"}, \"geo\": {\"bgcolor\": \"white\", \"lakecolor\": \"white\", \"landcolor\": \"#E5ECF6\", \"showlakes\": true, \"showland\": true, \"subunitcolor\": \"white\"}, \"hoverlabel\": {\"align\": \"left\"}, \"hovermode\": \"closest\", \"mapbox\": {\"style\": \"light\"}, \"paper_bgcolor\": \"white\", \"plot_bgcolor\": \"#E5ECF6\", \"polar\": {\"angularaxis\": {\"gridcolor\": \"white\", \"linecolor\": \"white\", \"ticks\": \"\"}, \"bgcolor\": \"#E5ECF6\", \"radialaxis\": {\"gridcolor\": \"white\", \"linecolor\": \"white\", \"ticks\": \"\"}}, \"scene\": {\"xaxis\": {\"backgroundcolor\": \"#E5ECF6\", \"gridcolor\": \"white\", \"gridwidth\": 2, \"linecolor\": \"white\", \"showbackground\": true, \"ticks\": \"\", \"zerolinecolor\": \"white\"}, \"yaxis\": {\"backgroundcolor\": \"#E5ECF6\", \"gridcolor\": \"white\", \"gridwidth\": 2, \"linecolor\": \"white\", \"showbackground\": true, \"ticks\": \"\", \"zerolinecolor\": \"white\"}, \"zaxis\": {\"backgroundcolor\": \"#E5ECF6\", \"gridcolor\": \"white\", \"gridwidth\": 2, \"linecolor\": \"white\", \"showbackground\": true, \"ticks\": \"\", \"zerolinecolor\": \"white\"}}, \"shapedefaults\": {\"line\": {\"color\": \"#2a3f5f\"}}, \"ternary\": {\"aaxis\": {\"gridcolor\": \"white\", \"linecolor\": \"white\", \"ticks\": \"\"}, \"baxis\": {\"gridcolor\": \"white\", \"linecolor\": \"white\", \"ticks\": \"\"}, \"bgcolor\": \"#E5ECF6\", \"caxis\": {\"gridcolor\": \"white\", \"linecolor\": \"white\", \"ticks\": \"\"}}, \"title\": {\"x\": 0.05}, \"xaxis\": {\"automargin\": true, \"gridcolor\": \"white\", \"linecolor\": \"white\", \"ticks\": \"\", \"title\": {\"standoff\": 15}, \"zerolinecolor\": \"white\", \"zerolinewidth\": 2}, \"yaxis\": {\"automargin\": true, \"gridcolor\": \"white\", \"linecolor\": \"white\", \"ticks\": \"\", \"title\": {\"standoff\": 15}, \"zerolinecolor\": \"white\", \"zerolinewidth\": 2}}}, \"xaxis\": {\"anchor\": \"y\", \"domain\": [0.0, 1.0], \"title\": {\"text\": \"0\"}}, \"yaxis\": {\"anchor\": \"x\", \"domain\": [0.0, 1.0], \"title\": {\"text\": \"1\"}}},                        {\"responsive\": true}                    ).then(function(){\n",
              "                            \n",
              "var gd = document.getElementById('09c47c78-cc5f-4288-9455-30ac59720f45');\n",
              "var x = new MutationObserver(function (mutations, observer) {{\n",
              "        var display = window.getComputedStyle(gd).display;\n",
              "        if (!display || display === 'none') {{\n",
              "            console.log([gd, 'removed!']);\n",
              "            Plotly.purge(gd);\n",
              "            observer.disconnect();\n",
              "        }}\n",
              "}});\n",
              "\n",
              "// Listen for the removal of the full notebook cells\n",
              "var notebookContainer = gd.closest('#notebook-container');\n",
              "if (notebookContainer) {{\n",
              "    x.observe(notebookContainer, {childList: true});\n",
              "}}\n",
              "\n",
              "// Listen for the clearing of the current output cell\n",
              "var outputEl = gd.closest('.output');\n",
              "if (outputEl) {{\n",
              "    x.observe(outputEl, {childList: true});\n",
              "}}\n",
              "\n",
              "                        })                };                            </script>        </div>\n",
              "</body>\n",
              "</html>"
            ]
          },
          "metadata": {}
        }
      ]
    },
    {
      "cell_type": "markdown",
      "metadata": {
        "id": "yUKcj5sDh6h9"
      },
      "source": [
        "## Avaliação da Qualidade de Projeções\n",
        "\n",
        "### Neighborhood Preservation"
      ]
    },
    {
      "cell_type": "code",
      "metadata": {
        "id": "DoXAmWD_h_SB"
      },
      "source": [
        "kneigh = []\n",
        "y_tsne = []\n",
        "y_pca = []\n",
        "y_umap = []\n",
        "\n",
        "for k in range(1,51):\n",
        "    precision = trustworthiness(xscaled, X_tsne, n_neighbors=k, metric='euclidean' )\n",
        "    kneigh.append(k)\n",
        "    y_tsne.append(precision)\n",
        "    precision = trustworthiness(xscaled, X_pca, n_neighbors=k, metric='euclidean')\n",
        "    y_pca.append(precision)\n",
        "    precision = trustworthiness(xscaled, X_umap, n_neighbors=k, metric='euclidean')\n",
        "    y_umap.append(precision)\n"
      ],
      "execution_count": null,
      "outputs": []
    },
    {
      "cell_type": "markdown",
      "metadata": {
        "id": "kOZ7tqDDtm2E"
      },
      "source": [
        "Em seguida, podemos criar um gráfico de linhas:"
      ]
    },
    {
      "cell_type": "code",
      "metadata": {
        "id": "ledNhfYkqf7N",
        "colab": {
          "base_uri": "https://localhost:8080/",
          "height": 542
        },
        "outputId": "2da0d122-0da8-452a-d9b4-c173dcdca277"
      },
      "source": [
        "fig = go.Figure()\n",
        "fig.add_trace(go.Scatter(x=kneigh, y=y_tsne,\n",
        "                    mode='lines+markers',\n",
        "                    name='t-SNE'))\n",
        "fig.add_trace(go.Scatter(x=kneigh, y=y_pca,\n",
        "                    mode='lines+markers',\n",
        "                    name='PCA'))\n",
        "fig.add_trace(go.Scatter(x=kneigh, y=y_umap,\n",
        "                    mode='lines+markers',\n",
        "                    name='UMAP'))\n",
        "\n",
        "fig.show()"
      ],
      "execution_count": null,
      "outputs": [
        {
          "output_type": "display_data",
          "data": {
            "text/html": [
              "<html>\n",
              "<head><meta charset=\"utf-8\" /></head>\n",
              "<body>\n",
              "    <div>            <script src=\"https://cdnjs.cloudflare.com/ajax/libs/mathjax/2.7.5/MathJax.js?config=TeX-AMS-MML_SVG\"></script><script type=\"text/javascript\">if (window.MathJax) {MathJax.Hub.Config({SVG: {font: \"STIX-Web\"}});}</script>                <script type=\"text/javascript\">window.PlotlyConfig = {MathJaxConfig: 'local'};</script>\n",
              "        <script src=\"https://cdn.plot.ly/plotly-latest.min.js\"></script>                <div id=\"ddee16c4-f30f-48ea-af6c-3f677295bf3f\" class=\"plotly-graph-div\" style=\"height:525px; width:100%;\"></div>            <script type=\"text/javascript\">                                    window.PLOTLYENV=window.PLOTLYENV || {};                                    if (document.getElementById(\"ddee16c4-f30f-48ea-af6c-3f677295bf3f\")) {                    Plotly.newPlot(                        \"ddee16c4-f30f-48ea-af6c-3f677295bf3f\",                        [{\"mode\": \"lines+markers\", \"name\": \"t-SNE\", \"type\": \"scatter\", \"x\": [1, 2, 3, 4, 5, 6, 7, 8, 9, 10, 11, 12, 13, 14, 15, 16, 17, 18, 19, 20, 21, 22, 23, 24, 25, 26, 27, 28, 29, 30, 31, 32, 33, 34, 35, 36, 37, 38, 39, 40, 41, 42, 43, 44, 45, 46, 47, 48, 49, 50], \"y\": [0.9795519746078252, 0.9739337224744433, 0.9603650912728182, 0.944296788482835, 0.9232365942725351, 0.902835890283589, 0.8915854871708242, 0.8720514356056825, 0.8620304834662772, 0.8517433323088481, 0.8378951474881707, 0.8295567481613993, 0.822033666497076, 0.8164104148960828, 0.8082053532250987, 0.8038926597678128, 0.7997113498820164, 0.7932180089357315, 0.7917380660954711, 0.7921300121984811, 0.792124761676428, 0.7905722265882986, 0.7884567117727628, 0.7836860115929883, 0.7784683533520743, 0.7749872577727586, 0.7720258136924804, 0.7706745018211614, 0.7710520936522163, 0.769580219406149, 0.7690337218450954, 0.7686425682507583, 0.7695768399330366, 0.7720959651677626, 0.7741504925103456, 0.7741648312898508, 0.7749957667128741, 0.7759127857047073, 0.7754379986938127, 0.7766055564986137, 0.776364913944176, 0.776053246317759, 0.7765909500630972, 0.7754982381959126, 0.7745894579291454, 0.7722199091972481, 0.7708855864002684, 0.7691797580663602, 0.7683364254792826, 0.768369195102514]}, {\"mode\": \"lines+markers\", \"name\": \"PCA\", \"type\": \"scatter\", \"x\": [1, 2, 3, 4, 5, 6, 7, 8, 9, 10, 11, 12, 13, 14, 15, 16, 17, 18, 19, 20, 21, 22, 23, 24, 25, 26, 27, 28, 29, 30, 31, 32, 33, 34, 35, 36, 37, 38, 39, 40, 41, 42, 43, 44, 45, 46, 47, 48, 49, 50], \"y\": [0.8947689678325093, 0.8806325087247908, 0.8511294490289238, 0.8389337130200918, 0.8316099686078544, 0.8234244753657034, 0.8234134804887663, 0.8258558738397046, 0.8264389768939819, 0.8273127753303965, 0.8251094835397161, 0.8268616927987653, 0.8282045811382274, 0.8297664117025934, 0.8318365754960753, 0.8316271651644969, 0.831538124394034, 0.8318631381983427, 0.8332762137902896, 0.835891079368827, 0.8369276904400376, 0.837319991587616, 0.8386793738212537, 0.840111041273832, 0.8400238521168754, 0.8399576258482326, 0.8385600187925769, 0.8389536484038433, 0.8410994229287545, 0.8431261507991769, 0.8434334193304424, 0.8457075448986471, 0.8475184580571686, 0.8490004854154716, 0.8518272425249169, 0.8532652365179288, 0.8546877556116167, 0.8549243494163935, 0.8556776556776556, 0.8565353929723307, 0.8575810680008917, 0.8599438118344562, 0.8621636695511087, 0.8634362226920367, 0.8652235918724672, 0.8671294604798441, 0.867685281555165, 0.8688401820219067, 0.8709554011879593, 0.872178511917699]}, {\"mode\": \"lines+markers\", \"name\": \"UMAP\", \"type\": \"scatter\", \"x\": [1, 2, 3, 4, 5, 6, 7, 8, 9, 10, 11, 12, 13, 14, 15, 16, 17, 18, 19, 20, 21, 22, 23, 24, 25, 26, 27, 28, 29, 30, 31, 32, 33, 34, 35, 36, 37, 38, 39, 40, 41, 42, 43, 44, 45, 46, 47, 48, 49, 50], \"y\": [0.9446987731184765, 0.9590166465919269, 0.9584896224056014, 0.9457997152349312, 0.9237234928566852, 0.90631723481777, 0.894569889445727, 0.8894433908906412, 0.8851365015166835, 0.8742888365263122, 0.8636741165810933, 0.8561740736843336, 0.8464656742873086, 0.8368229931236962, 0.8316415581882892, 0.8212371573754683, 0.8160608113193346, 0.8094219778261478, 0.8064504283965728, 0.8030063353401802, 0.800017505603696, 0.7986045773699493, 0.7959863462627914, 0.796110063551924, 0.7911713093108442, 0.7888054953145248, 0.7869554720329914, 0.7852661968134478, 0.7845275720552856, 0.7837874638320259, 0.7835281991229515, 0.7828765227021041, 0.782431319375682, 0.7838900901696012, 0.784297954187795, 0.7866627357808877, 0.7878649595756955, 0.7881983377699412, 0.7889002470397819, 0.7887427148757993, 0.789582998224984, 0.7905145133975242, 0.7913286461150171, 0.791906976744186, 0.7910167888055802, 0.7921676253919161, 0.7910360752330415, 0.7917810020351695, 0.7923544893644562, 0.7934449032818952]}],                        {\"template\": {\"data\": {\"bar\": [{\"error_x\": {\"color\": \"#2a3f5f\"}, \"error_y\": {\"color\": \"#2a3f5f\"}, \"marker\": {\"line\": {\"color\": \"#E5ECF6\", \"width\": 0.5}}, \"type\": \"bar\"}], \"barpolar\": [{\"marker\": {\"line\": {\"color\": \"#E5ECF6\", \"width\": 0.5}}, \"type\": \"barpolar\"}], \"carpet\": [{\"aaxis\": {\"endlinecolor\": \"#2a3f5f\", \"gridcolor\": \"white\", \"linecolor\": \"white\", \"minorgridcolor\": \"white\", \"startlinecolor\": \"#2a3f5f\"}, \"baxis\": {\"endlinecolor\": \"#2a3f5f\", \"gridcolor\": \"white\", \"linecolor\": \"white\", \"minorgridcolor\": \"white\", \"startlinecolor\": \"#2a3f5f\"}, \"type\": \"carpet\"}], \"choropleth\": [{\"colorbar\": {\"outlinewidth\": 0, \"ticks\": \"\"}, \"type\": \"choropleth\"}], \"contour\": [{\"colorbar\": {\"outlinewidth\": 0, \"ticks\": \"\"}, \"colorscale\": [[0.0, \"#0d0887\"], [0.1111111111111111, \"#46039f\"], [0.2222222222222222, \"#7201a8\"], [0.3333333333333333, \"#9c179e\"], [0.4444444444444444, \"#bd3786\"], [0.5555555555555556, \"#d8576b\"], [0.6666666666666666, \"#ed7953\"], [0.7777777777777778, \"#fb9f3a\"], [0.8888888888888888, \"#fdca26\"], [1.0, \"#f0f921\"]], \"type\": \"contour\"}], \"contourcarpet\": [{\"colorbar\": {\"outlinewidth\": 0, \"ticks\": \"\"}, \"type\": \"contourcarpet\"}], \"heatmap\": [{\"colorbar\": {\"outlinewidth\": 0, \"ticks\": \"\"}, \"colorscale\": [[0.0, \"#0d0887\"], [0.1111111111111111, \"#46039f\"], [0.2222222222222222, \"#7201a8\"], [0.3333333333333333, \"#9c179e\"], [0.4444444444444444, \"#bd3786\"], [0.5555555555555556, \"#d8576b\"], [0.6666666666666666, \"#ed7953\"], [0.7777777777777778, \"#fb9f3a\"], [0.8888888888888888, \"#fdca26\"], [1.0, \"#f0f921\"]], \"type\": \"heatmap\"}], \"heatmapgl\": [{\"colorbar\": {\"outlinewidth\": 0, \"ticks\": \"\"}, \"colorscale\": [[0.0, \"#0d0887\"], [0.1111111111111111, \"#46039f\"], [0.2222222222222222, \"#7201a8\"], [0.3333333333333333, \"#9c179e\"], [0.4444444444444444, \"#bd3786\"], [0.5555555555555556, \"#d8576b\"], [0.6666666666666666, \"#ed7953\"], [0.7777777777777778, \"#fb9f3a\"], [0.8888888888888888, \"#fdca26\"], [1.0, \"#f0f921\"]], \"type\": \"heatmapgl\"}], \"histogram\": [{\"marker\": {\"colorbar\": {\"outlinewidth\": 0, \"ticks\": \"\"}}, \"type\": \"histogram\"}], \"histogram2d\": [{\"colorbar\": {\"outlinewidth\": 0, \"ticks\": \"\"}, \"colorscale\": [[0.0, \"#0d0887\"], [0.1111111111111111, \"#46039f\"], [0.2222222222222222, \"#7201a8\"], [0.3333333333333333, \"#9c179e\"], [0.4444444444444444, \"#bd3786\"], [0.5555555555555556, \"#d8576b\"], [0.6666666666666666, \"#ed7953\"], [0.7777777777777778, \"#fb9f3a\"], [0.8888888888888888, \"#fdca26\"], [1.0, \"#f0f921\"]], \"type\": \"histogram2d\"}], \"histogram2dcontour\": [{\"colorbar\": {\"outlinewidth\": 0, \"ticks\": \"\"}, \"colorscale\": [[0.0, \"#0d0887\"], [0.1111111111111111, \"#46039f\"], [0.2222222222222222, \"#7201a8\"], [0.3333333333333333, \"#9c179e\"], [0.4444444444444444, \"#bd3786\"], [0.5555555555555556, \"#d8576b\"], [0.6666666666666666, \"#ed7953\"], [0.7777777777777778, \"#fb9f3a\"], [0.8888888888888888, \"#fdca26\"], [1.0, \"#f0f921\"]], \"type\": \"histogram2dcontour\"}], \"mesh3d\": [{\"colorbar\": {\"outlinewidth\": 0, \"ticks\": \"\"}, \"type\": \"mesh3d\"}], \"parcoords\": [{\"line\": {\"colorbar\": {\"outlinewidth\": 0, \"ticks\": \"\"}}, \"type\": \"parcoords\"}], \"pie\": [{\"automargin\": true, \"type\": \"pie\"}], \"scatter\": [{\"marker\": {\"colorbar\": {\"outlinewidth\": 0, \"ticks\": \"\"}}, \"type\": \"scatter\"}], \"scatter3d\": [{\"line\": {\"colorbar\": {\"outlinewidth\": 0, \"ticks\": \"\"}}, \"marker\": {\"colorbar\": {\"outlinewidth\": 0, \"ticks\": \"\"}}, \"type\": \"scatter3d\"}], \"scattercarpet\": [{\"marker\": {\"colorbar\": {\"outlinewidth\": 0, \"ticks\": \"\"}}, \"type\": \"scattercarpet\"}], \"scattergeo\": [{\"marker\": {\"colorbar\": {\"outlinewidth\": 0, \"ticks\": \"\"}}, \"type\": \"scattergeo\"}], \"scattergl\": [{\"marker\": {\"colorbar\": {\"outlinewidth\": 0, \"ticks\": \"\"}}, \"type\": \"scattergl\"}], \"scattermapbox\": [{\"marker\": {\"colorbar\": {\"outlinewidth\": 0, \"ticks\": \"\"}}, \"type\": \"scattermapbox\"}], \"scatterpolar\": [{\"marker\": {\"colorbar\": {\"outlinewidth\": 0, \"ticks\": \"\"}}, \"type\": \"scatterpolar\"}], \"scatterpolargl\": [{\"marker\": {\"colorbar\": {\"outlinewidth\": 0, \"ticks\": \"\"}}, \"type\": \"scatterpolargl\"}], \"scatterternary\": [{\"marker\": {\"colorbar\": {\"outlinewidth\": 0, \"ticks\": \"\"}}, \"type\": \"scatterternary\"}], \"surface\": [{\"colorbar\": {\"outlinewidth\": 0, \"ticks\": \"\"}, \"colorscale\": [[0.0, \"#0d0887\"], [0.1111111111111111, \"#46039f\"], [0.2222222222222222, \"#7201a8\"], [0.3333333333333333, \"#9c179e\"], [0.4444444444444444, \"#bd3786\"], [0.5555555555555556, \"#d8576b\"], [0.6666666666666666, \"#ed7953\"], [0.7777777777777778, \"#fb9f3a\"], [0.8888888888888888, \"#fdca26\"], [1.0, \"#f0f921\"]], \"type\": \"surface\"}], \"table\": [{\"cells\": {\"fill\": {\"color\": \"#EBF0F8\"}, \"line\": {\"color\": \"white\"}}, \"header\": {\"fill\": {\"color\": \"#C8D4E3\"}, \"line\": {\"color\": \"white\"}}, \"type\": \"table\"}]}, \"layout\": {\"annotationdefaults\": {\"arrowcolor\": \"#2a3f5f\", \"arrowhead\": 0, \"arrowwidth\": 1}, \"autotypenumbers\": \"strict\", \"coloraxis\": {\"colorbar\": {\"outlinewidth\": 0, \"ticks\": \"\"}}, \"colorscale\": {\"diverging\": [[0, \"#8e0152\"], [0.1, \"#c51b7d\"], [0.2, \"#de77ae\"], [0.3, \"#f1b6da\"], [0.4, \"#fde0ef\"], [0.5, \"#f7f7f7\"], [0.6, \"#e6f5d0\"], [0.7, \"#b8e186\"], [0.8, \"#7fbc41\"], [0.9, \"#4d9221\"], [1, \"#276419\"]], \"sequential\": [[0.0, \"#0d0887\"], [0.1111111111111111, \"#46039f\"], [0.2222222222222222, \"#7201a8\"], [0.3333333333333333, \"#9c179e\"], [0.4444444444444444, \"#bd3786\"], [0.5555555555555556, \"#d8576b\"], [0.6666666666666666, \"#ed7953\"], [0.7777777777777778, \"#fb9f3a\"], [0.8888888888888888, \"#fdca26\"], [1.0, \"#f0f921\"]], \"sequentialminus\": [[0.0, \"#0d0887\"], [0.1111111111111111, \"#46039f\"], [0.2222222222222222, \"#7201a8\"], [0.3333333333333333, \"#9c179e\"], [0.4444444444444444, \"#bd3786\"], [0.5555555555555556, \"#d8576b\"], [0.6666666666666666, \"#ed7953\"], [0.7777777777777778, \"#fb9f3a\"], [0.8888888888888888, \"#fdca26\"], [1.0, \"#f0f921\"]]}, \"colorway\": [\"#636efa\", \"#EF553B\", \"#00cc96\", \"#ab63fa\", \"#FFA15A\", \"#19d3f3\", \"#FF6692\", \"#B6E880\", \"#FF97FF\", \"#FECB52\"], \"font\": {\"color\": \"#2a3f5f\"}, \"geo\": {\"bgcolor\": \"white\", \"lakecolor\": \"white\", \"landcolor\": \"#E5ECF6\", \"showlakes\": true, \"showland\": true, \"subunitcolor\": \"white\"}, \"hoverlabel\": {\"align\": \"left\"}, \"hovermode\": \"closest\", \"mapbox\": {\"style\": \"light\"}, \"paper_bgcolor\": \"white\", \"plot_bgcolor\": \"#E5ECF6\", \"polar\": {\"angularaxis\": {\"gridcolor\": \"white\", \"linecolor\": \"white\", \"ticks\": \"\"}, \"bgcolor\": \"#E5ECF6\", \"radialaxis\": {\"gridcolor\": \"white\", \"linecolor\": \"white\", \"ticks\": \"\"}}, \"scene\": {\"xaxis\": {\"backgroundcolor\": \"#E5ECF6\", \"gridcolor\": \"white\", \"gridwidth\": 2, \"linecolor\": \"white\", \"showbackground\": true, \"ticks\": \"\", \"zerolinecolor\": \"white\"}, \"yaxis\": {\"backgroundcolor\": \"#E5ECF6\", \"gridcolor\": \"white\", \"gridwidth\": 2, \"linecolor\": \"white\", \"showbackground\": true, \"ticks\": \"\", \"zerolinecolor\": \"white\"}, \"zaxis\": {\"backgroundcolor\": \"#E5ECF6\", \"gridcolor\": \"white\", \"gridwidth\": 2, \"linecolor\": \"white\", \"showbackground\": true, \"ticks\": \"\", \"zerolinecolor\": \"white\"}}, \"shapedefaults\": {\"line\": {\"color\": \"#2a3f5f\"}}, \"ternary\": {\"aaxis\": {\"gridcolor\": \"white\", \"linecolor\": \"white\", \"ticks\": \"\"}, \"baxis\": {\"gridcolor\": \"white\", \"linecolor\": \"white\", \"ticks\": \"\"}, \"bgcolor\": \"#E5ECF6\", \"caxis\": {\"gridcolor\": \"white\", \"linecolor\": \"white\", \"ticks\": \"\"}}, \"title\": {\"x\": 0.05}, \"xaxis\": {\"automargin\": true, \"gridcolor\": \"white\", \"linecolor\": \"white\", \"ticks\": \"\", \"title\": {\"standoff\": 15}, \"zerolinecolor\": \"white\", \"zerolinewidth\": 2}, \"yaxis\": {\"automargin\": true, \"gridcolor\": \"white\", \"linecolor\": \"white\", \"ticks\": \"\", \"title\": {\"standoff\": 15}, \"zerolinecolor\": \"white\", \"zerolinewidth\": 2}}}},                        {\"responsive\": true}                    ).then(function(){\n",
              "                            \n",
              "var gd = document.getElementById('ddee16c4-f30f-48ea-af6c-3f677295bf3f');\n",
              "var x = new MutationObserver(function (mutations, observer) {{\n",
              "        var display = window.getComputedStyle(gd).display;\n",
              "        if (!display || display === 'none') {{\n",
              "            console.log([gd, 'removed!']);\n",
              "            Plotly.purge(gd);\n",
              "            observer.disconnect();\n",
              "        }}\n",
              "}});\n",
              "\n",
              "// Listen for the removal of the full notebook cells\n",
              "var notebookContainer = gd.closest('#notebook-container');\n",
              "if (notebookContainer) {{\n",
              "    x.observe(notebookContainer, {childList: true});\n",
              "}}\n",
              "\n",
              "// Listen for the clearing of the current output cell\n",
              "var outputEl = gd.closest('.output');\n",
              "if (outputEl) {{\n",
              "    x.observe(outputEl, {childList: true});\n",
              "}}\n",
              "\n",
              "                        })                };                            </script>        </div>\n",
              "</body>\n",
              "</html>"
            ]
          },
          "metadata": {}
        }
      ]
    },
    {
      "cell_type": "markdown",
      "source": [
        "### Coeficiente de Silhueta"
      ],
      "metadata": {
        "id": "QlnP3hQDiWrd"
      }
    },
    {
      "cell_type": "code",
      "source": [
        "from sklearn.metrics import silhouette_samples, silhouette_score\n",
        "from sklearn.cluster import KMeans\n",
        "\n",
        "clusterer = KMeans(n_clusters=10, random_state=10)\n",
        "cluster_labels_high = clusterer.fit_predict(xscaled)\n",
        "\n",
        "cluster_labels_low = clusterer.fit_predict(X_tsne)\n",
        "\n",
        "silhouette_avg_high = silhouette_score(X, cluster_labels_high)\n",
        "\n",
        "silhouette_avg_low = silhouette_score(X_tsne, cluster_labels_low)\n",
        "\n",
        "print(silhouette_avg_high)\n",
        "print(silhouette_avg_low)"
      ],
      "metadata": {
        "colab": {
          "base_uri": "https://localhost:8080/"
        },
        "id": "dEmRfdpwiabE",
        "outputId": "c24ce4b3-9ae1-417a-a4e0-7047e9e037b8"
      },
      "execution_count": null,
      "outputs": [
        {
          "output_type": "stream",
          "name": "stdout",
          "text": [
            "0.11493075122390936\n",
            "0.5937349\n"
          ]
        }
      ]
    },
    {
      "cell_type": "code",
      "source": [
        "clusterer = KMeans(n_clusters=10, random_state=10)\n",
        "cluster_labels_high = clusterer.fit_predict(xscaled)\n",
        "\n",
        "cluster_labels_low = clusterer.fit_predict(X_umap)\n",
        "\n",
        "silhouette_avg_high = silhouette_score(X, cluster_labels_high)\n",
        "\n",
        "silhouette_avg_low = silhouette_score(X_umap, cluster_labels_low)\n",
        "\n",
        "print(silhouette_avg_high)\n",
        "print(silhouette_avg_low)"
      ],
      "metadata": {
        "colab": {
          "base_uri": "https://localhost:8080/"
        },
        "id": "Dxoni1BP1Vi5",
        "outputId": "fff8c5ae-35ab-4a3a-8645-1659d87c26a5"
      },
      "execution_count": null,
      "outputs": [
        {
          "output_type": "stream",
          "name": "stdout",
          "text": [
            "0.11493075122390936\n",
            "0.5837925\n"
          ]
        }
      ]
    },
    {
      "cell_type": "code",
      "source": [
        "clusterer = KMeans(n_clusters=10, random_state=10)\n",
        "cluster_labels_high = clusterer.fit_predict(xscaled)\n",
        "\n",
        "cluster_labels_low = clusterer.fit_predict(X_pca)\n",
        "\n",
        "silhouette_avg_high = silhouette_score(X, cluster_labels_high)\n",
        "\n",
        "silhouette_avg_low = silhouette_score(X_pca,cluster_labels_low)\n",
        "\n",
        "print(silhouette_avg_high)\n",
        "print(silhouette_avg_low)"
      ],
      "metadata": {
        "colab": {
          "base_uri": "https://localhost:8080/"
        },
        "id": "WSLNAvzL1ge3",
        "outputId": "d1276403-c74f-4959-ada4-8f359a5e57c6"
      },
      "execution_count": null,
      "outputs": [
        {
          "output_type": "stream",
          "name": "stdout",
          "text": [
            "0.11493075122390936\n",
            "0.375094816195165\n"
          ]
        }
      ]
    },
    {
      "cell_type": "markdown",
      "metadata": {
        "id": "3OiRLLZSxh05"
      },
      "source": [
        "## Global Score\n",
        "\n",
        "https://github.com/eamid/trimap"
      ]
    },
    {
      "cell_type": "code",
      "source": [
        "gs = trimap.TRIMAP(verbose=False).global_score(xscaled, X_trimap)\n",
        "print(f\"TriMap global score {gs}\")"
      ],
      "metadata": {
        "colab": {
          "base_uri": "https://localhost:8080/"
        },
        "id": "068Jv4Z3GsWE",
        "outputId": "31c840ad-db70-419d-dfdd-86dcb6752d3e"
      },
      "execution_count": null,
      "outputs": [
        {
          "output_type": "stream",
          "name": "stdout",
          "text": [
            "TriMap global score 0.2455117491079787\n"
          ]
        }
      ]
    },
    {
      "cell_type": "code",
      "source": [
        "gs = trimap.TRIMAP(verbose=False).global_score(xscaled, X_tsne)\n",
        "print(f\"tSNE global score {gs}\")"
      ],
      "metadata": {
        "colab": {
          "base_uri": "https://localhost:8080/"
        },
        "id": "6hJKHnPRG89m",
        "outputId": "b1a38d3b-99a3-4635-89cd-7eceda1595bf"
      },
      "execution_count": null,
      "outputs": [
        {
          "output_type": "stream",
          "name": "stdout",
          "text": [
            "tSNE global score 0.23552576869253314\n"
          ]
        }
      ]
    },
    {
      "cell_type": "code",
      "source": [
        "gs = trimap.TRIMAP(verbose=False).global_score(xscaled, X_umap)\n",
        "print(f\"UMAP global score {gs}\")"
      ],
      "metadata": {
        "colab": {
          "base_uri": "https://localhost:8080/"
        },
        "id": "BM3eksKfG9Ns",
        "outputId": "9aec3d79-ec3a-4fdc-efb0-0a2e86589a83"
      },
      "execution_count": null,
      "outputs": [
        {
          "output_type": "stream",
          "name": "stdout",
          "text": [
            "UMAP global score 0.25658366986251674\n"
          ]
        }
      ]
    },
    {
      "cell_type": "code",
      "source": [
        "gs = trimap.TRIMAP(verbose=False).global_score(xscaled, X_pca)\n",
        "print(f\"PCA global score {gs}\")"
      ],
      "metadata": {
        "colab": {
          "base_uri": "https://localhost:8080/"
        },
        "id": "r4X3BU5RHQ8w",
        "outputId": "2e21e0b9-48c7-4b41-ef72-1eb1a497d02a"
      },
      "execution_count": null,
      "outputs": [
        {
          "output_type": "stream",
          "name": "stdout",
          "text": [
            "PCA global score 1.0\n"
          ]
        }
      ]
    }
  ]
}