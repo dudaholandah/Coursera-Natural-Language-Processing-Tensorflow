{
  "nbformat": 4,
  "nbformat_minor": 0,
  "metadata": {
    "colab": {
      "name": "corgis_visualization_evaluation.ipynb",
      "provenance": [],
      "collapsed_sections": [],
      "include_colab_link": true
    },
    "kernelspec": {
      "display_name": "Python 3",
      "language": "python",
      "name": "python3"
    },
    "language_info": {
      "codemirror_mode": {
        "name": "ipython",
        "version": 3
      },
      "file_extension": ".py",
      "mimetype": "text/x-python",
      "name": "python",
      "nbconvert_exporter": "python",
      "pygments_lexer": "ipython3",
      "version": "3.6.10"
    }
  },
  "cells": [
    {
      "cell_type": "markdown",
      "metadata": {
        "id": "view-in-github",
        "colab_type": "text"
      },
      "source": [
        "<a href=\"https://colab.research.google.com/github/dudaholandah/PIBIC/blob/main/corgis_visualization_evaluation.ipynb\" target=\"_parent\"><img src=\"https://colab.research.google.com/assets/colab-badge.svg\" alt=\"Open In Colab\"/></a>"
      ]
    },
    {
      "cell_type": "markdown",
      "metadata": {
        "id": "JFhO1kZQPonA"
      },
      "source": [
        "#Visualization of the USDA DataSet\n",
        "\n"
      ]
    },
    {
      "cell_type": "markdown",
      "metadata": {
        "id": "0OnyXDCTp0-0"
      },
      "source": [
        "Instalação do plotly e do renderer Orca, para que o Github apresente as imagens geradas pelo Plotly"
      ]
    },
    {
      "cell_type": "code",
      "source": [
        "#from google.colab import drive\n",
        "#drive.mount('/content/drive')"
      ],
      "metadata": {
        "id": "GmjNcY2Z9nHr"
      },
      "execution_count": 35,
      "outputs": []
    },
    {
      "cell_type": "code",
      "source": [
        "#!cp \"/content/drive/My Drive/food/CORGIS_dataset.csv\" \"corgis.csv\"\n",
        "#!cp \"/content/drive/My Drive/food/australian_AUSNUT_2011_Food_Nutrient_Database.xls\" \"australian.xls\""
      ],
      "metadata": {
        "id": "Zj-Sj7Z19pcB"
      },
      "execution_count": 36,
      "outputs": []
    },
    {
      "cell_type": "code",
      "metadata": {
        "id": "bLiPKsx_p1ZT"
      },
      "source": [
        "#!pip install plotly==4.14.3\n",
        "#!pip install orca\n",
        "#!apt-get install xvfb libgtk2.0-0 libgconf-2-4\n",
        "#!pip install umap-learn\n",
        "#!pip install trimap\n",
        "#!pip install scikit-learn-extra"
      ],
      "execution_count": 37,
      "outputs": []
    },
    {
      "cell_type": "markdown",
      "metadata": {
        "id": "Fk3DAY9kPl7Z"
      },
      "source": [
        "Bibliotecas importantes"
      ]
    },
    {
      "cell_type": "code",
      "metadata": {
        "id": "k30sCmYRPWTC"
      },
      "source": [
        "import pandas as pd\n",
        "from sklearn import preprocessing\n",
        "#from ipywidgets import interactive, HBox, VBox\n",
        "import plotly.express as px\n",
        "#from plotly.offline import init_notebook_mode, iplot\n",
        "##import plotly.offline as py\n",
        "import plotly.graph_objects as go\n",
        "import numpy as np\n",
        "from sklearn.decomposition import PCA as sklearnPCA\n",
        "from sklearn.manifold import TSNE\n",
        "from sklearn.manifold import Isomap\n",
        "from sklearn.manifold import trustworthiness\n",
        "from sklearn_extra.cluster import KMedoids\n",
        "from umap import UMAP\n",
        "import trimap"
      ],
      "execution_count": 38,
      "outputs": []
    },
    {
      "cell_type": "markdown",
      "metadata": {
        "id": "z6OL0pC9Q8Ak"
      },
      "source": [
        "Abre o arquivo .data utilizando o Pandas. O conjunto auto-mpg pode ser baixado aqui:\n",
        "\n",
        "\n",
        "https://archive.ics.uci.edu/ml/datasets/Auto+MPG"
      ]
    },
    {
      "cell_type": "code",
      "metadata": {
        "id": "IcrsmJCHPWTG"
      },
      "source": [
        "raw_data = pd.read_csv(\"corgis.csv\")"
      ],
      "execution_count": 39,
      "outputs": []
    },
    {
      "cell_type": "code",
      "metadata": {
        "id": "2qSe656kRIvS",
        "colab": {
          "base_uri": "https://localhost:8080/",
          "height": 386
        },
        "outputId": "220d1129-1ec5-4ad8-a6e5-1ab29a11fc3e"
      },
      "source": [
        "raw_data.head()"
      ],
      "execution_count": 40,
      "outputs": [
        {
          "output_type": "execute_result",
          "data": {
            "text/plain": [
              "  Category                     Description  Nutrient Data Bank Number  \\\n",
              "0     Milk                     Milk, human                   11000000   \n",
              "1     Milk                       Milk, NFS                   11100000   \n",
              "2     Milk                     Milk, whole                   11111000   \n",
              "3     Milk         Milk, low sodium, whole                   11111100   \n",
              "4     Milk  Milk, calcium fortified, whole                   11111150   \n",
              "\n",
              "   Data.Alpha Carotene  Data.Beta Carotene  Data.Beta Cryptoxanthin  \\\n",
              "0                    0                   7                        0   \n",
              "1                    0                   4                        0   \n",
              "2                    0                   7                        0   \n",
              "3                    0                   7                        0   \n",
              "4                    0                   7                        0   \n",
              "\n",
              "   Data.Carbohydrate  Data.Cholesterol  Data.Choline  Data.Fiber  ...  \\\n",
              "0               6.89                14          16.0         0.0  ...   \n",
              "1               4.87                 8          17.9         0.0  ...   \n",
              "2               4.67                12          17.8         0.0  ...   \n",
              "3               4.46                14          16.0         0.0  ...   \n",
              "4               4.67                12          17.8         0.0  ...   \n",
              "\n",
              "   Data.Major Minerals.Phosphorus  Data.Major Minerals.Potassium  \\\n",
              "0                              14                             51   \n",
              "1                             103                            157   \n",
              "2                             101                            150   \n",
              "3                              86                            253   \n",
              "4                             101                            150   \n",
              "\n",
              "   Data.Major Minerals.Sodium  Data.Major Minerals.Zinc  \\\n",
              "0                          17                      0.17   \n",
              "1                          39                      0.42   \n",
              "2                          38                      0.41   \n",
              "3                           3                      0.38   \n",
              "4                          38                      0.41   \n",
              "\n",
              "   Data.Vitamins.Vitamin A - RAE  Data.Vitamins.Vitamin B12  \\\n",
              "0                             61                       0.05   \n",
              "1                             59                       0.56   \n",
              "2                             32                       0.54   \n",
              "3                             29                       0.36   \n",
              "4                             32                       0.54   \n",
              "\n",
              "   Data.Vitamins.Vitamin B6  Data.Vitamins.Vitamin C  Data.Vitamins.Vitamin E  \\\n",
              "0                     0.011                      5.0                     0.08   \n",
              "1                     0.060                      0.1                     0.03   \n",
              "2                     0.061                      0.0                     0.05   \n",
              "3                     0.034                      0.9                     0.08   \n",
              "4                     0.061                      0.0                     0.05   \n",
              "\n",
              "   Data.Vitamins.Vitamin K  \n",
              "0                      0.3  \n",
              "1                      0.2  \n",
              "2                      0.3  \n",
              "3                      0.3  \n",
              "4                      0.3  \n",
              "\n",
              "[5 rows x 38 columns]"
            ],
            "text/html": [
              "\n",
              "  <div id=\"df-aefe1ccc-3fc0-417e-877a-aa4713464845\">\n",
              "    <div class=\"colab-df-container\">\n",
              "      <div>\n",
              "<style scoped>\n",
              "    .dataframe tbody tr th:only-of-type {\n",
              "        vertical-align: middle;\n",
              "    }\n",
              "\n",
              "    .dataframe tbody tr th {\n",
              "        vertical-align: top;\n",
              "    }\n",
              "\n",
              "    .dataframe thead th {\n",
              "        text-align: right;\n",
              "    }\n",
              "</style>\n",
              "<table border=\"1\" class=\"dataframe\">\n",
              "  <thead>\n",
              "    <tr style=\"text-align: right;\">\n",
              "      <th></th>\n",
              "      <th>Category</th>\n",
              "      <th>Description</th>\n",
              "      <th>Nutrient Data Bank Number</th>\n",
              "      <th>Data.Alpha Carotene</th>\n",
              "      <th>Data.Beta Carotene</th>\n",
              "      <th>Data.Beta Cryptoxanthin</th>\n",
              "      <th>Data.Carbohydrate</th>\n",
              "      <th>Data.Cholesterol</th>\n",
              "      <th>Data.Choline</th>\n",
              "      <th>Data.Fiber</th>\n",
              "      <th>...</th>\n",
              "      <th>Data.Major Minerals.Phosphorus</th>\n",
              "      <th>Data.Major Minerals.Potassium</th>\n",
              "      <th>Data.Major Minerals.Sodium</th>\n",
              "      <th>Data.Major Minerals.Zinc</th>\n",
              "      <th>Data.Vitamins.Vitamin A - RAE</th>\n",
              "      <th>Data.Vitamins.Vitamin B12</th>\n",
              "      <th>Data.Vitamins.Vitamin B6</th>\n",
              "      <th>Data.Vitamins.Vitamin C</th>\n",
              "      <th>Data.Vitamins.Vitamin E</th>\n",
              "      <th>Data.Vitamins.Vitamin K</th>\n",
              "    </tr>\n",
              "  </thead>\n",
              "  <tbody>\n",
              "    <tr>\n",
              "      <th>0</th>\n",
              "      <td>Milk</td>\n",
              "      <td>Milk, human</td>\n",
              "      <td>11000000</td>\n",
              "      <td>0</td>\n",
              "      <td>7</td>\n",
              "      <td>0</td>\n",
              "      <td>6.89</td>\n",
              "      <td>14</td>\n",
              "      <td>16.0</td>\n",
              "      <td>0.0</td>\n",
              "      <td>...</td>\n",
              "      <td>14</td>\n",
              "      <td>51</td>\n",
              "      <td>17</td>\n",
              "      <td>0.17</td>\n",
              "      <td>61</td>\n",
              "      <td>0.05</td>\n",
              "      <td>0.011</td>\n",
              "      <td>5.0</td>\n",
              "      <td>0.08</td>\n",
              "      <td>0.3</td>\n",
              "    </tr>\n",
              "    <tr>\n",
              "      <th>1</th>\n",
              "      <td>Milk</td>\n",
              "      <td>Milk, NFS</td>\n",
              "      <td>11100000</td>\n",
              "      <td>0</td>\n",
              "      <td>4</td>\n",
              "      <td>0</td>\n",
              "      <td>4.87</td>\n",
              "      <td>8</td>\n",
              "      <td>17.9</td>\n",
              "      <td>0.0</td>\n",
              "      <td>...</td>\n",
              "      <td>103</td>\n",
              "      <td>157</td>\n",
              "      <td>39</td>\n",
              "      <td>0.42</td>\n",
              "      <td>59</td>\n",
              "      <td>0.56</td>\n",
              "      <td>0.060</td>\n",
              "      <td>0.1</td>\n",
              "      <td>0.03</td>\n",
              "      <td>0.2</td>\n",
              "    </tr>\n",
              "    <tr>\n",
              "      <th>2</th>\n",
              "      <td>Milk</td>\n",
              "      <td>Milk, whole</td>\n",
              "      <td>11111000</td>\n",
              "      <td>0</td>\n",
              "      <td>7</td>\n",
              "      <td>0</td>\n",
              "      <td>4.67</td>\n",
              "      <td>12</td>\n",
              "      <td>17.8</td>\n",
              "      <td>0.0</td>\n",
              "      <td>...</td>\n",
              "      <td>101</td>\n",
              "      <td>150</td>\n",
              "      <td>38</td>\n",
              "      <td>0.41</td>\n",
              "      <td>32</td>\n",
              "      <td>0.54</td>\n",
              "      <td>0.061</td>\n",
              "      <td>0.0</td>\n",
              "      <td>0.05</td>\n",
              "      <td>0.3</td>\n",
              "    </tr>\n",
              "    <tr>\n",
              "      <th>3</th>\n",
              "      <td>Milk</td>\n",
              "      <td>Milk, low sodium, whole</td>\n",
              "      <td>11111100</td>\n",
              "      <td>0</td>\n",
              "      <td>7</td>\n",
              "      <td>0</td>\n",
              "      <td>4.46</td>\n",
              "      <td>14</td>\n",
              "      <td>16.0</td>\n",
              "      <td>0.0</td>\n",
              "      <td>...</td>\n",
              "      <td>86</td>\n",
              "      <td>253</td>\n",
              "      <td>3</td>\n",
              "      <td>0.38</td>\n",
              "      <td>29</td>\n",
              "      <td>0.36</td>\n",
              "      <td>0.034</td>\n",
              "      <td>0.9</td>\n",
              "      <td>0.08</td>\n",
              "      <td>0.3</td>\n",
              "    </tr>\n",
              "    <tr>\n",
              "      <th>4</th>\n",
              "      <td>Milk</td>\n",
              "      <td>Milk, calcium fortified, whole</td>\n",
              "      <td>11111150</td>\n",
              "      <td>0</td>\n",
              "      <td>7</td>\n",
              "      <td>0</td>\n",
              "      <td>4.67</td>\n",
              "      <td>12</td>\n",
              "      <td>17.8</td>\n",
              "      <td>0.0</td>\n",
              "      <td>...</td>\n",
              "      <td>101</td>\n",
              "      <td>150</td>\n",
              "      <td>38</td>\n",
              "      <td>0.41</td>\n",
              "      <td>32</td>\n",
              "      <td>0.54</td>\n",
              "      <td>0.061</td>\n",
              "      <td>0.0</td>\n",
              "      <td>0.05</td>\n",
              "      <td>0.3</td>\n",
              "    </tr>\n",
              "  </tbody>\n",
              "</table>\n",
              "<p>5 rows × 38 columns</p>\n",
              "</div>\n",
              "      <button class=\"colab-df-convert\" onclick=\"convertToInteractive('df-aefe1ccc-3fc0-417e-877a-aa4713464845')\"\n",
              "              title=\"Convert this dataframe to an interactive table.\"\n",
              "              style=\"display:none;\">\n",
              "        \n",
              "  <svg xmlns=\"http://www.w3.org/2000/svg\" height=\"24px\"viewBox=\"0 0 24 24\"\n",
              "       width=\"24px\">\n",
              "    <path d=\"M0 0h24v24H0V0z\" fill=\"none\"/>\n",
              "    <path d=\"M18.56 5.44l.94 2.06.94-2.06 2.06-.94-2.06-.94-.94-2.06-.94 2.06-2.06.94zm-11 1L8.5 8.5l.94-2.06 2.06-.94-2.06-.94L8.5 2.5l-.94 2.06-2.06.94zm10 10l.94 2.06.94-2.06 2.06-.94-2.06-.94-.94-2.06-.94 2.06-2.06.94z\"/><path d=\"M17.41 7.96l-1.37-1.37c-.4-.4-.92-.59-1.43-.59-.52 0-1.04.2-1.43.59L10.3 9.45l-7.72 7.72c-.78.78-.78 2.05 0 2.83L4 21.41c.39.39.9.59 1.41.59.51 0 1.02-.2 1.41-.59l7.78-7.78 2.81-2.81c.8-.78.8-2.07 0-2.86zM5.41 20L4 18.59l7.72-7.72 1.47 1.35L5.41 20z\"/>\n",
              "  </svg>\n",
              "      </button>\n",
              "      \n",
              "  <style>\n",
              "    .colab-df-container {\n",
              "      display:flex;\n",
              "      flex-wrap:wrap;\n",
              "      gap: 12px;\n",
              "    }\n",
              "\n",
              "    .colab-df-convert {\n",
              "      background-color: #E8F0FE;\n",
              "      border: none;\n",
              "      border-radius: 50%;\n",
              "      cursor: pointer;\n",
              "      display: none;\n",
              "      fill: #1967D2;\n",
              "      height: 32px;\n",
              "      padding: 0 0 0 0;\n",
              "      width: 32px;\n",
              "    }\n",
              "\n",
              "    .colab-df-convert:hover {\n",
              "      background-color: #E2EBFA;\n",
              "      box-shadow: 0px 1px 2px rgba(60, 64, 67, 0.3), 0px 1px 3px 1px rgba(60, 64, 67, 0.15);\n",
              "      fill: #174EA6;\n",
              "    }\n",
              "\n",
              "    [theme=dark] .colab-df-convert {\n",
              "      background-color: #3B4455;\n",
              "      fill: #D2E3FC;\n",
              "    }\n",
              "\n",
              "    [theme=dark] .colab-df-convert:hover {\n",
              "      background-color: #434B5C;\n",
              "      box-shadow: 0px 1px 3px 1px rgba(0, 0, 0, 0.15);\n",
              "      filter: drop-shadow(0px 1px 2px rgba(0, 0, 0, 0.3));\n",
              "      fill: #FFFFFF;\n",
              "    }\n",
              "  </style>\n",
              "\n",
              "      <script>\n",
              "        const buttonEl =\n",
              "          document.querySelector('#df-aefe1ccc-3fc0-417e-877a-aa4713464845 button.colab-df-convert');\n",
              "        buttonEl.style.display =\n",
              "          google.colab.kernel.accessAllowed ? 'block' : 'none';\n",
              "\n",
              "        async function convertToInteractive(key) {\n",
              "          const element = document.querySelector('#df-aefe1ccc-3fc0-417e-877a-aa4713464845');\n",
              "          const dataTable =\n",
              "            await google.colab.kernel.invokeFunction('convertToInteractive',\n",
              "                                                     [key], {});\n",
              "          if (!dataTable) return;\n",
              "\n",
              "          const docLinkHtml = 'Like what you see? Visit the ' +\n",
              "            '<a target=\"_blank\" href=https://colab.research.google.com/notebooks/data_table.ipynb>data table notebook</a>'\n",
              "            + ' to learn more about interactive tables.';\n",
              "          element.innerHTML = '';\n",
              "          dataTable['output_type'] = 'display_data';\n",
              "          await google.colab.output.renderOutput(dataTable, element);\n",
              "          const docLink = document.createElement('div');\n",
              "          docLink.innerHTML = docLinkHtml;\n",
              "          element.appendChild(docLink);\n",
              "        }\n",
              "      </script>\n",
              "    </div>\n",
              "  </div>\n",
              "  "
            ]
          },
          "metadata": {},
          "execution_count": 40
        }
      ]
    },
    {
      "cell_type": "code",
      "source": [
        "print(f'Number of Data instances: {raw_data.shape[0]}')\n",
        "print(f'Number of Data Attributes: {raw_data.shape[1]}')"
      ],
      "metadata": {
        "colab": {
          "base_uri": "https://localhost:8080/"
        },
        "id": "-AZP4ZnMAAUW",
        "outputId": "30f944c0-6c8e-46ad-f8f9-431b7efbd3b8"
      },
      "execution_count": 41,
      "outputs": [
        {
          "output_type": "stream",
          "name": "stdout",
          "text": [
            "Number of Data instances: 7083\n",
            "Number of Data Attributes: 38\n"
          ]
        }
      ]
    },
    {
      "cell_type": "code",
      "source": [
        "print(raw_data.columns)"
      ],
      "metadata": {
        "colab": {
          "base_uri": "https://localhost:8080/"
        },
        "id": "Rui_rUvE4pWZ",
        "outputId": "44e7f962-2df1-4ed9-8b59-f93e3e0246d9"
      },
      "execution_count": 42,
      "outputs": [
        {
          "output_type": "stream",
          "name": "stdout",
          "text": [
            "Index(['Category', 'Description', 'Nutrient Data Bank Number',\n",
            "       'Data.Alpha Carotene', 'Data.Beta Carotene', 'Data.Beta Cryptoxanthin',\n",
            "       'Data.Carbohydrate', 'Data.Cholesterol', 'Data.Choline', 'Data.Fiber',\n",
            "       'Data.Lutein and Zeaxanthin', 'Data.Lycopene', 'Data.Niacin',\n",
            "       'Data.Protein', 'Data.Retinol', 'Data.Riboflavin', 'Data.Selenium',\n",
            "       'Data.Sugar Total', 'Data.Thiamin', 'Data.Water',\n",
            "       'Data.Fat.Monosaturated Fat', 'Data.Fat.Polysaturated Fat',\n",
            "       'Data.Fat.Saturated Fat', 'Data.Fat.Total Lipid',\n",
            "       'Data.Major Minerals.Calcium', 'Data.Major Minerals.Copper',\n",
            "       'Data.Major Minerals.Iron', 'Data.Major Minerals.Magnesium',\n",
            "       'Data.Major Minerals.Phosphorus', 'Data.Major Minerals.Potassium',\n",
            "       'Data.Major Minerals.Sodium', 'Data.Major Minerals.Zinc',\n",
            "       'Data.Vitamins.Vitamin A - RAE', 'Data.Vitamins.Vitamin B12',\n",
            "       'Data.Vitamins.Vitamin B6', 'Data.Vitamins.Vitamin C',\n",
            "       'Data.Vitamins.Vitamin E', 'Data.Vitamins.Vitamin K'],\n",
            "      dtype='object')\n"
          ]
        }
      ]
    },
    {
      "cell_type": "markdown",
      "source": [
        "Labels information"
      ],
      "metadata": {
        "id": "-w5KskYkAPsM"
      }
    },
    {
      "cell_type": "code",
      "source": [
        "print(raw_data['Category'].value_counts())"
      ],
      "metadata": {
        "colab": {
          "base_uri": "https://localhost:8080/"
        },
        "id": "oeBJe2ZUAQ5P",
        "outputId": "c3864707-34f8-44da-8c53-3b98736adb28"
      },
      "execution_count": 43,
      "outputs": [
        {
          "output_type": "stream",
          "name": "stdout",
          "text": [
            "Infant formula                          173\n",
            "Rice                                    143\n",
            "Bread                                   119\n",
            "Potato                                  105\n",
            "Cookie                                  100\n",
            "                                       ... \n",
            "Layer dip                                 1\n",
            "Bean dip                                  1\n",
            "Refried beans with meat                   1\n",
            "Black bean salad                          1\n",
            "Industrial oil as ingredient in food      1\n",
            "Name: Category, Length: 2429, dtype: int64\n"
          ]
        }
      ]
    },
    {
      "cell_type": "markdown",
      "metadata": {
        "id": "196OrKOKinVf"
      },
      "source": [
        "Remoção de instâncias com valores ausentes:"
      ]
    },
    {
      "cell_type": "code",
      "metadata": {
        "id": "x8GZPgCIcxkC"
      },
      "source": [
        "raw_data = raw_data.replace('?',np.NaN)\n",
        "raw_data = raw_data.replace('NA',np.NaN)\n",
        "raw_data = raw_data.dropna(axis=0)"
      ],
      "execution_count": 44,
      "outputs": []
    },
    {
      "cell_type": "markdown",
      "source": [
        "Remoção do atributo irrelevante para descoberta de conhecimento \"Nutrient Data Bank Number\" e remoção do atributo \"Description\" que é uma lista de ingredientes (strings) -- análise considera apenas os nutrientes"
      ],
      "metadata": {
        "id": "zUTBpjNDAXzX"
      }
    },
    {
      "cell_type": "code",
      "source": [
        "raw_data = raw_data.drop(['Nutrient Data Bank Number'],axis=1)\n",
        "raw_data = raw_data.drop(['Description'],axis=1)"
      ],
      "metadata": {
        "id": "njwCFfkr-rEJ"
      },
      "execution_count": 45,
      "outputs": []
    },
    {
      "cell_type": "code",
      "source": [
        "raw_data.head()"
      ],
      "metadata": {
        "colab": {
          "base_uri": "https://localhost:8080/",
          "height": 334
        },
        "id": "IHuhoP0b-x8A",
        "outputId": "7b0b770f-76b1-4a82-f1ec-2088608ccc08"
      },
      "execution_count": 46,
      "outputs": [
        {
          "output_type": "execute_result",
          "data": {
            "text/plain": [
              "  Category  Data.Alpha Carotene  Data.Beta Carotene  Data.Beta Cryptoxanthin  \\\n",
              "0     Milk                    0                   7                        0   \n",
              "1     Milk                    0                   4                        0   \n",
              "2     Milk                    0                   7                        0   \n",
              "3     Milk                    0                   7                        0   \n",
              "4     Milk                    0                   7                        0   \n",
              "\n",
              "   Data.Carbohydrate  Data.Cholesterol  Data.Choline  Data.Fiber  \\\n",
              "0               6.89                14          16.0         0.0   \n",
              "1               4.87                 8          17.9         0.0   \n",
              "2               4.67                12          17.8         0.0   \n",
              "3               4.46                14          16.0         0.0   \n",
              "4               4.67                12          17.8         0.0   \n",
              "\n",
              "   Data.Lutein and Zeaxanthin  Data.Lycopene  ...  \\\n",
              "0                           0              0  ...   \n",
              "1                           0              0  ...   \n",
              "2                           0              0  ...   \n",
              "3                           0              0  ...   \n",
              "4                           0              0  ...   \n",
              "\n",
              "   Data.Major Minerals.Phosphorus  Data.Major Minerals.Potassium  \\\n",
              "0                              14                             51   \n",
              "1                             103                            157   \n",
              "2                             101                            150   \n",
              "3                              86                            253   \n",
              "4                             101                            150   \n",
              "\n",
              "   Data.Major Minerals.Sodium  Data.Major Minerals.Zinc  \\\n",
              "0                          17                      0.17   \n",
              "1                          39                      0.42   \n",
              "2                          38                      0.41   \n",
              "3                           3                      0.38   \n",
              "4                          38                      0.41   \n",
              "\n",
              "   Data.Vitamins.Vitamin A - RAE  Data.Vitamins.Vitamin B12  \\\n",
              "0                             61                       0.05   \n",
              "1                             59                       0.56   \n",
              "2                             32                       0.54   \n",
              "3                             29                       0.36   \n",
              "4                             32                       0.54   \n",
              "\n",
              "   Data.Vitamins.Vitamin B6  Data.Vitamins.Vitamin C  Data.Vitamins.Vitamin E  \\\n",
              "0                     0.011                      5.0                     0.08   \n",
              "1                     0.060                      0.1                     0.03   \n",
              "2                     0.061                      0.0                     0.05   \n",
              "3                     0.034                      0.9                     0.08   \n",
              "4                     0.061                      0.0                     0.05   \n",
              "\n",
              "   Data.Vitamins.Vitamin K  \n",
              "0                      0.3  \n",
              "1                      0.2  \n",
              "2                      0.3  \n",
              "3                      0.3  \n",
              "4                      0.3  \n",
              "\n",
              "[5 rows x 36 columns]"
            ],
            "text/html": [
              "\n",
              "  <div id=\"df-53335d85-404f-488a-8a06-342068d19479\">\n",
              "    <div class=\"colab-df-container\">\n",
              "      <div>\n",
              "<style scoped>\n",
              "    .dataframe tbody tr th:only-of-type {\n",
              "        vertical-align: middle;\n",
              "    }\n",
              "\n",
              "    .dataframe tbody tr th {\n",
              "        vertical-align: top;\n",
              "    }\n",
              "\n",
              "    .dataframe thead th {\n",
              "        text-align: right;\n",
              "    }\n",
              "</style>\n",
              "<table border=\"1\" class=\"dataframe\">\n",
              "  <thead>\n",
              "    <tr style=\"text-align: right;\">\n",
              "      <th></th>\n",
              "      <th>Category</th>\n",
              "      <th>Data.Alpha Carotene</th>\n",
              "      <th>Data.Beta Carotene</th>\n",
              "      <th>Data.Beta Cryptoxanthin</th>\n",
              "      <th>Data.Carbohydrate</th>\n",
              "      <th>Data.Cholesterol</th>\n",
              "      <th>Data.Choline</th>\n",
              "      <th>Data.Fiber</th>\n",
              "      <th>Data.Lutein and Zeaxanthin</th>\n",
              "      <th>Data.Lycopene</th>\n",
              "      <th>...</th>\n",
              "      <th>Data.Major Minerals.Phosphorus</th>\n",
              "      <th>Data.Major Minerals.Potassium</th>\n",
              "      <th>Data.Major Minerals.Sodium</th>\n",
              "      <th>Data.Major Minerals.Zinc</th>\n",
              "      <th>Data.Vitamins.Vitamin A - RAE</th>\n",
              "      <th>Data.Vitamins.Vitamin B12</th>\n",
              "      <th>Data.Vitamins.Vitamin B6</th>\n",
              "      <th>Data.Vitamins.Vitamin C</th>\n",
              "      <th>Data.Vitamins.Vitamin E</th>\n",
              "      <th>Data.Vitamins.Vitamin K</th>\n",
              "    </tr>\n",
              "  </thead>\n",
              "  <tbody>\n",
              "    <tr>\n",
              "      <th>0</th>\n",
              "      <td>Milk</td>\n",
              "      <td>0</td>\n",
              "      <td>7</td>\n",
              "      <td>0</td>\n",
              "      <td>6.89</td>\n",
              "      <td>14</td>\n",
              "      <td>16.0</td>\n",
              "      <td>0.0</td>\n",
              "      <td>0</td>\n",
              "      <td>0</td>\n",
              "      <td>...</td>\n",
              "      <td>14</td>\n",
              "      <td>51</td>\n",
              "      <td>17</td>\n",
              "      <td>0.17</td>\n",
              "      <td>61</td>\n",
              "      <td>0.05</td>\n",
              "      <td>0.011</td>\n",
              "      <td>5.0</td>\n",
              "      <td>0.08</td>\n",
              "      <td>0.3</td>\n",
              "    </tr>\n",
              "    <tr>\n",
              "      <th>1</th>\n",
              "      <td>Milk</td>\n",
              "      <td>0</td>\n",
              "      <td>4</td>\n",
              "      <td>0</td>\n",
              "      <td>4.87</td>\n",
              "      <td>8</td>\n",
              "      <td>17.9</td>\n",
              "      <td>0.0</td>\n",
              "      <td>0</td>\n",
              "      <td>0</td>\n",
              "      <td>...</td>\n",
              "      <td>103</td>\n",
              "      <td>157</td>\n",
              "      <td>39</td>\n",
              "      <td>0.42</td>\n",
              "      <td>59</td>\n",
              "      <td>0.56</td>\n",
              "      <td>0.060</td>\n",
              "      <td>0.1</td>\n",
              "      <td>0.03</td>\n",
              "      <td>0.2</td>\n",
              "    </tr>\n",
              "    <tr>\n",
              "      <th>2</th>\n",
              "      <td>Milk</td>\n",
              "      <td>0</td>\n",
              "      <td>7</td>\n",
              "      <td>0</td>\n",
              "      <td>4.67</td>\n",
              "      <td>12</td>\n",
              "      <td>17.8</td>\n",
              "      <td>0.0</td>\n",
              "      <td>0</td>\n",
              "      <td>0</td>\n",
              "      <td>...</td>\n",
              "      <td>101</td>\n",
              "      <td>150</td>\n",
              "      <td>38</td>\n",
              "      <td>0.41</td>\n",
              "      <td>32</td>\n",
              "      <td>0.54</td>\n",
              "      <td>0.061</td>\n",
              "      <td>0.0</td>\n",
              "      <td>0.05</td>\n",
              "      <td>0.3</td>\n",
              "    </tr>\n",
              "    <tr>\n",
              "      <th>3</th>\n",
              "      <td>Milk</td>\n",
              "      <td>0</td>\n",
              "      <td>7</td>\n",
              "      <td>0</td>\n",
              "      <td>4.46</td>\n",
              "      <td>14</td>\n",
              "      <td>16.0</td>\n",
              "      <td>0.0</td>\n",
              "      <td>0</td>\n",
              "      <td>0</td>\n",
              "      <td>...</td>\n",
              "      <td>86</td>\n",
              "      <td>253</td>\n",
              "      <td>3</td>\n",
              "      <td>0.38</td>\n",
              "      <td>29</td>\n",
              "      <td>0.36</td>\n",
              "      <td>0.034</td>\n",
              "      <td>0.9</td>\n",
              "      <td>0.08</td>\n",
              "      <td>0.3</td>\n",
              "    </tr>\n",
              "    <tr>\n",
              "      <th>4</th>\n",
              "      <td>Milk</td>\n",
              "      <td>0</td>\n",
              "      <td>7</td>\n",
              "      <td>0</td>\n",
              "      <td>4.67</td>\n",
              "      <td>12</td>\n",
              "      <td>17.8</td>\n",
              "      <td>0.0</td>\n",
              "      <td>0</td>\n",
              "      <td>0</td>\n",
              "      <td>...</td>\n",
              "      <td>101</td>\n",
              "      <td>150</td>\n",
              "      <td>38</td>\n",
              "      <td>0.41</td>\n",
              "      <td>32</td>\n",
              "      <td>0.54</td>\n",
              "      <td>0.061</td>\n",
              "      <td>0.0</td>\n",
              "      <td>0.05</td>\n",
              "      <td>0.3</td>\n",
              "    </tr>\n",
              "  </tbody>\n",
              "</table>\n",
              "<p>5 rows × 36 columns</p>\n",
              "</div>\n",
              "      <button class=\"colab-df-convert\" onclick=\"convertToInteractive('df-53335d85-404f-488a-8a06-342068d19479')\"\n",
              "              title=\"Convert this dataframe to an interactive table.\"\n",
              "              style=\"display:none;\">\n",
              "        \n",
              "  <svg xmlns=\"http://www.w3.org/2000/svg\" height=\"24px\"viewBox=\"0 0 24 24\"\n",
              "       width=\"24px\">\n",
              "    <path d=\"M0 0h24v24H0V0z\" fill=\"none\"/>\n",
              "    <path d=\"M18.56 5.44l.94 2.06.94-2.06 2.06-.94-2.06-.94-.94-2.06-.94 2.06-2.06.94zm-11 1L8.5 8.5l.94-2.06 2.06-.94-2.06-.94L8.5 2.5l-.94 2.06-2.06.94zm10 10l.94 2.06.94-2.06 2.06-.94-2.06-.94-.94-2.06-.94 2.06-2.06.94z\"/><path d=\"M17.41 7.96l-1.37-1.37c-.4-.4-.92-.59-1.43-.59-.52 0-1.04.2-1.43.59L10.3 9.45l-7.72 7.72c-.78.78-.78 2.05 0 2.83L4 21.41c.39.39.9.59 1.41.59.51 0 1.02-.2 1.41-.59l7.78-7.78 2.81-2.81c.8-.78.8-2.07 0-2.86zM5.41 20L4 18.59l7.72-7.72 1.47 1.35L5.41 20z\"/>\n",
              "  </svg>\n",
              "      </button>\n",
              "      \n",
              "  <style>\n",
              "    .colab-df-container {\n",
              "      display:flex;\n",
              "      flex-wrap:wrap;\n",
              "      gap: 12px;\n",
              "    }\n",
              "\n",
              "    .colab-df-convert {\n",
              "      background-color: #E8F0FE;\n",
              "      border: none;\n",
              "      border-radius: 50%;\n",
              "      cursor: pointer;\n",
              "      display: none;\n",
              "      fill: #1967D2;\n",
              "      height: 32px;\n",
              "      padding: 0 0 0 0;\n",
              "      width: 32px;\n",
              "    }\n",
              "\n",
              "    .colab-df-convert:hover {\n",
              "      background-color: #E2EBFA;\n",
              "      box-shadow: 0px 1px 2px rgba(60, 64, 67, 0.3), 0px 1px 3px 1px rgba(60, 64, 67, 0.15);\n",
              "      fill: #174EA6;\n",
              "    }\n",
              "\n",
              "    [theme=dark] .colab-df-convert {\n",
              "      background-color: #3B4455;\n",
              "      fill: #D2E3FC;\n",
              "    }\n",
              "\n",
              "    [theme=dark] .colab-df-convert:hover {\n",
              "      background-color: #434B5C;\n",
              "      box-shadow: 0px 1px 3px 1px rgba(0, 0, 0, 0.15);\n",
              "      filter: drop-shadow(0px 1px 2px rgba(0, 0, 0, 0.3));\n",
              "      fill: #FFFFFF;\n",
              "    }\n",
              "  </style>\n",
              "\n",
              "      <script>\n",
              "        const buttonEl =\n",
              "          document.querySelector('#df-53335d85-404f-488a-8a06-342068d19479 button.colab-df-convert');\n",
              "        buttonEl.style.display =\n",
              "          google.colab.kernel.accessAllowed ? 'block' : 'none';\n",
              "\n",
              "        async function convertToInteractive(key) {\n",
              "          const element = document.querySelector('#df-53335d85-404f-488a-8a06-342068d19479');\n",
              "          const dataTable =\n",
              "            await google.colab.kernel.invokeFunction('convertToInteractive',\n",
              "                                                     [key], {});\n",
              "          if (!dataTable) return;\n",
              "\n",
              "          const docLinkHtml = 'Like what you see? Visit the ' +\n",
              "            '<a target=\"_blank\" href=https://colab.research.google.com/notebooks/data_table.ipynb>data table notebook</a>'\n",
              "            + ' to learn more about interactive tables.';\n",
              "          element.innerHTML = '';\n",
              "          dataTable['output_type'] = 'display_data';\n",
              "          await google.colab.output.renderOutput(dataTable, element);\n",
              "          const docLink = document.createElement('div');\n",
              "          docLink.innerHTML = docLinkHtml;\n",
              "          element.appendChild(docLink);\n",
              "        }\n",
              "      </script>\n",
              "    </div>\n",
              "  </div>\n",
              "  "
            ]
          },
          "metadata": {},
          "execution_count": 46
        }
      ]
    },
    {
      "cell_type": "markdown",
      "source": [
        "Filtragem\n",
        "\n",
        "Vamos analisa somente os produtos cujas categorias indiquem a presença de leite\n",
        "\n"
      ],
      "metadata": {
        "id": "bkdla5yrCGnh"
      }
    },
    {
      "cell_type": "code",
      "source": [
        "flag_milk = []\n",
        "for label in raw_data['Category']:\n",
        "    if \"milk\" in label or \"Milk\" in label:\n",
        "        flag_milk.append(True)\n",
        "    else:\n",
        "        flag_milk.append(False)"
      ],
      "metadata": {
        "id": "BnUIKdXJCOBG"
      },
      "execution_count": 47,
      "outputs": []
    },
    {
      "cell_type": "code",
      "source": [
        "df_milk = raw_data[flag_milk]"
      ],
      "metadata": {
        "id": "Me9sBvgtC-qE"
      },
      "execution_count": 48,
      "outputs": []
    },
    {
      "cell_type": "code",
      "source": [
        "print(f'Number of Data instances: {df_milk.shape[0]}')\n",
        "print(f'Number of Data Attributes: {df_milk.shape[1]}')"
      ],
      "metadata": {
        "colab": {
          "base_uri": "https://localhost:8080/"
        },
        "id": "syAPdxzqDQEQ",
        "outputId": "64368f67-458a-416b-9beb-307f650b098c"
      },
      "execution_count": 49,
      "outputs": [
        {
          "output_type": "stream",
          "name": "stdout",
          "text": [
            "Number of Data instances: 129\n",
            "Number of Data Attributes: 36\n"
          ]
        }
      ]
    },
    {
      "cell_type": "markdown",
      "metadata": {
        "id": "BHXs5q7qNPGJ"
      },
      "source": [
        "Pré-processamento\n"
      ]
    },
    {
      "cell_type": "code",
      "source": [
        "labels = df_milk['Category'].values\n",
        "df_milk = df_milk.drop(['Category'],axis=1)\n",
        "X = df_milk.values"
      ],
      "metadata": {
        "id": "qKN-dSxj_Mj_"
      },
      "execution_count": 50,
      "outputs": []
    },
    {
      "cell_type": "markdown",
      "source": [
        "Normalização dos atributos para o intervalo [0,1]"
      ],
      "metadata": {
        "id": "n_hZY6JN_UCO"
      }
    },
    {
      "cell_type": "code",
      "source": [
        "normalize = preprocessing.MinMaxScaler()\n",
        "xscaled = normalize.fit_transform(X)"
      ],
      "metadata": {
        "id": "JH6bPcbv_UH7"
      },
      "execution_count": 51,
      "outputs": []
    },
    {
      "cell_type": "code",
      "source": [
        "xscaled"
      ],
      "metadata": {
        "colab": {
          "base_uri": "https://localhost:8080/"
        },
        "id": "lfK3KM08_hgJ",
        "outputId": "d0b406a1-eab0-4787-f0d8-3bb6c71de007"
      },
      "execution_count": 52,
      "outputs": [
        {
          "output_type": "execute_result",
          "data": {
            "text/plain": [
              "array([[0.        , 0.12727273, 0.        , ..., 0.09174312, 0.00651997,\n",
              "        0.05263158],\n",
              "       [0.        , 0.07272727, 0.        , ..., 0.00183486, 0.00244499,\n",
              "        0.03508772],\n",
              "       [0.        , 0.12727273, 0.        , ..., 0.        , 0.00407498,\n",
              "        0.05263158],\n",
              "       ...,\n",
              "       [0.        , 0.05454545, 0.        , ..., 0.        , 0.00244499,\n",
              "        0.03508772],\n",
              "       [0.        , 0.05454545, 0.        , ..., 0.        , 0.00325998,\n",
              "        0.03508772],\n",
              "       [0.        , 0.        , 0.        , ..., 0.55045872, 0.57620212,\n",
              "        0.0877193 ]])"
            ]
          },
          "metadata": {},
          "execution_count": 52
        }
      ]
    },
    {
      "cell_type": "markdown",
      "metadata": {
        "id": "mdjazECBcxcL"
      },
      "source": [
        "## Visualização baseada no posicionamento de pontos utilizando Análise de Componentes Principais"
      ]
    },
    {
      "cell_type": "markdown",
      "metadata": {
        "id": "ajFOI7RgeKuc"
      },
      "source": [
        "Reduz a dimensionalidade dos dados"
      ]
    },
    {
      "cell_type": "code",
      "metadata": {
        "id": "iTMyFYxUeJvl",
        "colab": {
          "base_uri": "https://localhost:8080/",
          "height": 542
        },
        "outputId": "7e80097e-80cc-4085-a1f5-69ceb0793d13"
      },
      "source": [
        "sklearn_pca = sklearnPCA(n_components=2)\n",
        "X_pca = sklearn_pca.fit_transform(xscaled)\n",
        "\n",
        "#pca = PCA(n_components=2)\n",
        "#components = pca.fit_transform(X)\n",
        "\n",
        "fig = px.scatter(X_pca, x=0, y=1, color=labels.astype(object))\n",
        "fig.show()"
      ],
      "execution_count": 53,
      "outputs": [
        {
          "output_type": "display_data",
          "data": {
            "text/html": [
              "<html>\n",
              "<head><meta charset=\"utf-8\" /></head>\n",
              "<body>\n",
              "    <div>            <script src=\"https://cdnjs.cloudflare.com/ajax/libs/mathjax/2.7.5/MathJax.js?config=TeX-AMS-MML_SVG\"></script><script type=\"text/javascript\">if (window.MathJax) {MathJax.Hub.Config({SVG: {font: \"STIX-Web\"}});}</script>                <script type=\"text/javascript\">window.PlotlyConfig = {MathJaxConfig: 'local'};</script>\n",
              "        <script src=\"https://cdn.plot.ly/plotly-latest.min.js\"></script>                <div id=\"c623350d-94bf-481d-b086-14acb49f6113\" class=\"plotly-graph-div\" style=\"height:525px; width:100%;\"></div>            <script type=\"text/javascript\">                                    window.PLOTLYENV=window.PLOTLYENV || {};                                    if (document.getElementById(\"c623350d-94bf-481d-b086-14acb49f6113\")) {                    Plotly.newPlot(                        \"c623350d-94bf-481d-b086-14acb49f6113\",                        [{\"hovertemplate\": \"color=Milk<br>0=%{x}<br>1=%{y}<extra></extra>\", \"legendgroup\": \"Milk\", \"marker\": {\"color\": \"#636efa\", \"symbol\": \"circle\"}, \"mode\": \"markers\", \"name\": \"Milk\", \"orientation\": \"v\", \"showlegend\": true, \"type\": \"scatter\", \"x\": [-0.30912251771516147, -0.28024199158842883, -0.26076088324209123, -0.2861748324145119, -0.2607608832420924, -0.29956937684307183, -0.30410124670584743, -0.27776992606349193, -0.2995693768430717, -0.2777699260634924, -0.29956937684307183, -0.31854421170339825, -0.2995693768430717, -0.31854421170339825, -0.2777699260634921, -0.26076088324209157, -0.34701388790551, -0.18138682035157042, -0.32353192064978803, -0.3574207227322203, 0.08019842609840236, 0.08019842609840236, -0.030678702020733292, -0.07096849424397002, 0.8033889628615538, -0.18396059951297555, 2.2469632163312063, 2.144283770186978, 2.245848734899687, 2.2469632163312068, 1.936834543723573], \"xaxis\": \"x\", \"y\": [0.12732387400476064, -0.06625295482347822, -0.0204748674954147, 0.02167680127687457, -0.02047486749541463, -0.10093131844327487, -0.15337105539772927, -0.07360714772306577, -0.100931318443275, -0.07360714772306522, -0.10093131844327505, -0.13430556514049882, -0.10093131844327509, -0.1343055651404989, -0.07360714772306559, -0.02047486749541488, -0.11877647820699026, -0.016162031331650967, -0.08628659444319436, -0.10678793180145729, 0.021751874463367713, 0.02175187446336778, -0.1716703859663921, -0.23479797201395808, 0.04873826894189681, -0.08675678866490105, -1.4544803561350457, -0.15517304595802656, -1.4076075185390022, -1.454480356135045, -0.5593139941780891], \"yaxis\": \"y\"}, {\"hovertemplate\": \"color=Buttermilk<br>0=%{x}<br>1=%{y}<extra></extra>\", \"legendgroup\": \"Buttermilk\", \"marker\": {\"color\": \"#EF553B\", \"symbol\": \"circle\"}, \"mode\": \"markers\", \"name\": \"Buttermilk\", \"orientation\": \"v\", \"showlegend\": true, \"type\": \"scatter\", \"x\": [-0.28927770574541406, -0.2892777057454143, -0.24745352277417218, -0.2252588958082072], \"xaxis\": \"x\", \"y\": [-0.11579931465269226, -0.11579931465269237, -0.08830092775712359, -0.04077326665475172], \"yaxis\": \"y\"}, {\"hovertemplate\": \"color=Goat's milk<br>0=%{x}<br>1=%{y}<extra></extra>\", \"legendgroup\": \"Goat's milk\", \"marker\": {\"color\": \"#00cc96\", \"symbol\": \"circle\"}, \"mode\": \"markers\", \"name\": \"Goat's milk\", \"orientation\": \"v\", \"showlegend\": true, \"type\": \"scatter\", \"x\": [-0.24432251412184883], \"xaxis\": \"x\", \"y\": [0.016826220429304147], \"yaxis\": \"y\"}, {\"hovertemplate\": \"color=Non-dairy milk<br>0=%{x}<br>1=%{y}<extra></extra>\", \"legendgroup\": \"Non-dairy milk\", \"marker\": {\"color\": \"#ab63fa\", \"symbol\": \"circle\"}, \"mode\": \"markers\", \"name\": \"Non-dairy milk\", \"orientation\": \"v\", \"showlegend\": true, \"type\": \"scatter\", \"x\": [-0.34913887044991826], \"xaxis\": \"x\", \"y\": [0.026597391920007964], \"yaxis\": \"y\"}, {\"hovertemplate\": \"color=Soy milk<br>0=%{x}<br>1=%{y}<extra></extra>\", \"legendgroup\": \"Soy milk\", \"marker\": {\"color\": \"#FFA15A\", \"symbol\": \"circle\"}, \"mode\": \"markers\", \"name\": \"Soy milk\", \"orientation\": \"v\", \"showlegend\": true, \"type\": \"scatter\", \"x\": [-0.18330642192308214, -0.259448938219834, -0.2951417437238432, -0.09571198489986171, -0.12516165415085623, -0.12516165415085623], \"xaxis\": \"x\", \"y\": [0.14100918493817854, 0.0021551141616008604, 0.046231577176594735, 0.1387356577217172, 0.14558656628836356, 0.14558656628836356], \"yaxis\": \"y\"}, {\"hovertemplate\": \"color=Almond milk<br>0=%{x}<br>1=%{y}<extra></extra>\", \"legendgroup\": \"Almond milk\", \"marker\": {\"color\": \"#19d3f3\", \"symbol\": \"circle\"}, \"mode\": \"markers\", \"name\": \"Almond milk\", \"orientation\": \"v\", \"showlegend\": true, \"type\": \"scatter\", \"x\": [-0.40005032291085624, -0.3652298054757358, -0.4367329722757579, -0.42997082309628987], \"xaxis\": \"x\", \"y\": [-0.015954430783510283, -0.00022227846426524936, -0.032283210472933324, -0.02825978060716237], \"yaxis\": \"y\"}, {\"hovertemplate\": \"color=Rice milk<br>0=%{x}<br>1=%{y}<extra></extra>\", \"legendgroup\": \"Rice milk\", \"marker\": {\"color\": \"#FF6692\", \"symbol\": \"circle\"}, \"mode\": \"markers\", \"name\": \"Rice milk\", \"orientation\": \"v\", \"showlegend\": true, \"type\": \"scatter\", \"x\": [-0.32650386342739496], \"xaxis\": \"x\", \"y\": [-0.015133955213630132], \"yaxis\": \"y\"}, {\"hovertemplate\": \"color=Coconut milk<br>0=%{x}<br>1=%{y}<extra></extra>\", \"legendgroup\": \"Coconut milk\", \"marker\": {\"color\": \"#B6E880\", \"symbol\": \"circle\"}, \"mode\": \"markers\", \"name\": \"Coconut milk\", \"orientation\": \"v\", \"showlegend\": true, \"type\": \"scatter\", \"x\": [-0.4485945598425908, 0.08135292179607523], \"xaxis\": \"x\", \"y\": [-0.005924735911349454, 0.6275969373980481], \"yaxis\": \"y\"}, {\"hovertemplate\": \"color=Chocolate milk<br>0=%{x}<br>1=%{y}<extra></extra>\", \"legendgroup\": \"Chocolate milk\", \"marker\": {\"color\": \"#FF97FF\", \"symbol\": \"circle\"}, \"mode\": \"markers\", \"name\": \"Chocolate milk\", \"orientation\": \"v\", \"showlegend\": true, \"type\": \"scatter\", \"x\": [-0.23051368776728273, -0.17694502044588512, -0.18326931195078133, -0.23051368776728273, -0.23497025612297393, -0.26507885224230004, -0.23497025612297393, -0.23051368776728273, -0.23497025612297393, -0.2023783786904348, -0.18509537356964198, -0.20006142098827198, -0.22128744582703186, -0.2364345391200169, -0.21110176385737628, -0.15991973460171832, -0.1418432544220597, -0.1577662737613457, -0.1789625129469721, -0.19642628360982908, -0.17220809924323177, -0.2023783786904348, -0.18509537356964198, -0.20006142098827198, -0.22128744582703186, -0.2364345391200169, -0.21110176385737628, -0.15991973460171832, -0.1418432544220597, -0.1577662737613457, -0.1789625129469721, -0.19642628360982908, -0.17220809924323177, -0.20958619071055415, -0.19304703925897004, -0.20665928513466914, -0.22712355061324002, -0.24350769715917722, -0.22045793260289268, -0.25698871455235983, -0.24022630487759644, -0.2543568447628141, -0.27428175077449896, -0.29069801863256267, -0.26761003529597616, -0.23487942581534396, -0.21776420051099513, -0.23235386980625172, -0.2524193595415165, -0.26824920427427296, -0.24446567215053738], \"xaxis\": \"x\", \"y\": [-0.10508156084533526, 0.039011448046461124, -0.029681569716599375, -0.10508156084533526, -0.07816563352524636, -0.094620561897037, -0.07816563352524636, -0.10508156084533526, -0.07816563352524636, -0.045188825899576596, -0.0019738263517054444, -0.05222185703743594, -0.07787229493281239, -0.1031917370522274, 0.08090193671887218, -0.0881395356062045, -0.04425242467638693, -0.09517841853940565, -0.12147406442599315, -0.15401851595978786, 0.03244901237341666, -0.045188825899576596, -0.0019738263517054444, -0.05222185703743594, -0.07787229493281239, -0.1031917370522274, 0.08090193671887218, -0.0881395356062045, -0.04425242467638693, -0.09517841853940565, -0.12147406442599315, -0.15401851595978786, 0.03244901237341666, -0.0354478286646115, 0.00512915645732031, -0.04239587625313343, -0.06640389492164407, -0.09592809299310541, 0.07564252447678643, -0.04884479859393741, -0.008064633451797318, -0.05572190574580781, -0.08037339871601616, -0.1101196942489435, 0.062363327921609375, -0.005853167893786936, 0.034704275997729156, -0.012551994192506724, -0.03728691884024043, -0.06753307629727741, 0.10813267907935441], \"yaxis\": \"y\"}, {\"hovertemplate\": \"color=Strawberry milk<br>0=%{x}<br>1=%{y}<extra></extra>\", \"legendgroup\": \"Strawberry milk\", \"marker\": {\"color\": \"#FECB52\", \"symbol\": \"circle\"}, \"mode\": \"markers\", \"name\": \"Strawberry milk\", \"orientation\": \"v\", \"showlegend\": true, \"type\": \"scatter\", \"x\": [-0.27352079319356404, -0.20305029768441982, -0.22938524740900168, -0.23872402411827198, -0.2560500595912763, -0.2832749972635967, -0.23101006592134357], \"xaxis\": \"x\", \"y\": [-0.07182086104724036, 0.00759664418331785, -0.047863595099534105, -0.06783213153632207, -0.09917152074411552, -0.09179649394831393, 0.0839857394177428], \"yaxis\": \"y\"}, {\"hovertemplate\": \"color=Milk shake<br>0=%{x}<br>1=%{y}<extra></extra>\", \"legendgroup\": \"Milk shake\", \"marker\": {\"color\": \"#636efa\", \"symbol\": \"circle\"}, \"mode\": \"markers\", \"name\": \"Milk shake\", \"orientation\": \"v\", \"showlegend\": true, \"type\": \"scatter\", \"x\": [-0.06195190991250152, -0.09669309320873135, -0.11980176666978791, -0.14630068176136063, 0.1401767772810776, 0.08477857623507394, 0.1401767772810776, 0.08477857623507394], \"xaxis\": \"x\", \"y\": [0.09613563997834519, 0.06982306565937478, -0.00037544551854255625, -0.045522189178173994, 0.16058982222207283, 0.08226826296909288, 0.16058982222207283, 0.08226826296909288], \"yaxis\": \"y\"}, {\"hovertemplate\": \"color=Milk shake with malt<br>0=%{x}<br>1=%{y}<extra></extra>\", \"legendgroup\": \"Milk shake with malt\", \"marker\": {\"color\": \"#EF553B\", \"symbol\": \"circle\"}, \"mode\": \"markers\", \"name\": \"Milk shake with malt\", \"orientation\": \"v\", \"showlegend\": true, \"type\": \"scatter\", \"x\": [-0.03693620971609209], \"xaxis\": \"x\", \"y\": [0.07482134127520815], \"yaxis\": \"y\"}, {\"hovertemplate\": \"color=Chocolate milk drink<br>0=%{x}<br>1=%{y}<extra></extra>\", \"legendgroup\": \"Chocolate milk drink\", \"marker\": {\"color\": \"#00cc96\", \"symbol\": \"circle\"}, \"mode\": \"markers\", \"name\": \"Chocolate milk drink\", \"orientation\": \"v\", \"showlegend\": true, \"type\": \"scatter\", \"x\": [-0.33366317156929964], \"xaxis\": \"x\", \"y\": [0.03976283891719901], \"yaxis\": \"y\"}, {\"hovertemplate\": \"color=Milk dessert or milk candy<br>0=%{x}<br>1=%{y}<extra></extra>\", \"legendgroup\": \"Milk dessert or milk candy\", \"marker\": {\"color\": \"#ab63fa\", \"symbol\": \"circle\"}, \"mode\": \"markers\", \"name\": \"Milk dessert or milk candy\", \"orientation\": \"v\", \"showlegend\": true, \"type\": \"scatter\", \"x\": [0.6673478739739521], \"xaxis\": \"x\", \"y\": [0.14627122348284427], \"yaxis\": \"y\"}, {\"hovertemplate\": \"color=Milk 'n Cereal bar<br>0=%{x}<br>1=%{y}<extra></extra>\", \"legendgroup\": \"Milk 'n Cereal bar\", \"marker\": {\"color\": \"#FFA15A\", \"symbol\": \"circle\"}, \"mode\": \"markers\", \"name\": \"Milk 'n Cereal bar\", \"orientation\": \"v\", \"showlegend\": true, \"type\": \"scatter\", \"x\": [1.2439119485976886], \"xaxis\": \"x\", \"y\": [0.09038645750763931], \"yaxis\": \"y\"}, {\"hovertemplate\": \"color=Nutrition bar (Tiger's Milk)<br>0=%{x}<br>1=%{y}<extra></extra>\", \"legendgroup\": \"Nutrition bar (Tiger's Milk)\", \"marker\": {\"color\": \"#19d3f3\", \"symbol\": \"circle\"}, \"mode\": \"markers\", \"name\": \"Nutrition bar (Tiger's Milk)\", \"orientation\": \"v\", \"showlegend\": true, \"type\": \"scatter\", \"x\": [1.8659536504554608], \"xaxis\": \"x\", \"y\": [0.39581549023540197], \"yaxis\": \"y\"}, {\"hovertemplate\": \"color=Milk chocolate candy<br>0=%{x}<br>1=%{y}<extra></extra>\", \"legendgroup\": \"Milk chocolate candy\", \"marker\": {\"color\": \"#FF6692\", \"symbol\": \"circle\"}, \"mode\": \"markers\", \"name\": \"Milk chocolate candy\", \"orientation\": \"v\", \"showlegend\": true, \"type\": \"scatter\", \"x\": [1.4146361142385078, 1.4118091048640786, 1.233781462984502, 1.5949529725734322], \"xaxis\": \"x\", \"y\": [1.5562450412027324, 1.4986863545080147, 1.3485055188806072, 1.786755909411732], \"yaxis\": \"y\"}, {\"hovertemplate\": \"color=M&M's Milk Chocolate Candies<br>0=%{x}<br>1=%{y}<extra></extra>\", \"legendgroup\": \"M&M's Milk Chocolate Candies\", \"marker\": {\"color\": \"#B6E880\", \"symbol\": \"circle\"}, \"mode\": \"markers\", \"name\": \"M&M's Milk Chocolate Candies\", \"orientation\": \"v\", \"showlegend\": true, \"type\": \"scatter\", \"x\": [1.0451495808107127], \"xaxis\": \"x\", \"y\": [1.003497715712254], \"yaxis\": \"y\"}, {\"hovertemplate\": \"color=Oatmeal beverage with milk<br>0=%{x}<br>1=%{y}<extra></extra>\", \"legendgroup\": \"Oatmeal beverage with milk\", \"marker\": {\"color\": \"#FF97FF\", \"symbol\": \"circle\"}, \"mode\": \"markers\", \"name\": \"Oatmeal beverage with milk\", \"orientation\": \"v\", \"showlegend\": true, \"type\": \"scatter\", \"x\": [-0.22497579748037783], \"xaxis\": \"x\", \"y\": [0.266233977952283], \"yaxis\": \"y\"}, {\"hovertemplate\": \"color=Cornmeal beverage with chocolate milk<br>0=%{x}<br>1=%{y}<extra></extra>\", \"legendgroup\": \"Cornmeal beverage with chocolate milk\", \"marker\": {\"color\": \"#FECB52\", \"symbol\": \"circle\"}, \"mode\": \"markers\", \"name\": \"Cornmeal beverage with chocolate milk\", \"orientation\": \"v\", \"showlegend\": true, \"type\": \"scatter\", \"x\": [-0.18010843474197963], \"xaxis\": \"x\", \"y\": [0.1485518419106986], \"yaxis\": \"y\"}, {\"hovertemplate\": \"color=Nutritional powder mix (Muscle Milk)<br>0=%{x}<br>1=%{y}<extra></extra>\", \"legendgroup\": \"Nutritional powder mix (Muscle Milk)\", \"marker\": {\"color\": \"#636efa\", \"symbol\": \"circle\"}, \"mode\": \"markers\", \"name\": \"Nutritional powder mix (Muscle Milk)\", \"orientation\": \"v\", \"showlegend\": true, \"type\": \"scatter\", \"x\": [2.266655243722185], \"xaxis\": \"x\", \"y\": [-0.3651188282059009], \"yaxis\": \"y\"}],                        {\"legend\": {\"title\": {\"text\": \"color\"}, \"tracegroupgap\": 0}, \"margin\": {\"t\": 60}, \"template\": {\"data\": {\"bar\": [{\"error_x\": {\"color\": \"#2a3f5f\"}, \"error_y\": {\"color\": \"#2a3f5f\"}, \"marker\": {\"line\": {\"color\": \"#E5ECF6\", \"width\": 0.5}}, \"type\": \"bar\"}], \"barpolar\": [{\"marker\": {\"line\": {\"color\": \"#E5ECF6\", \"width\": 0.5}}, \"type\": \"barpolar\"}], \"carpet\": [{\"aaxis\": {\"endlinecolor\": \"#2a3f5f\", \"gridcolor\": \"white\", \"linecolor\": \"white\", \"minorgridcolor\": \"white\", \"startlinecolor\": \"#2a3f5f\"}, \"baxis\": {\"endlinecolor\": \"#2a3f5f\", \"gridcolor\": \"white\", \"linecolor\": \"white\", \"minorgridcolor\": \"white\", \"startlinecolor\": \"#2a3f5f\"}, \"type\": \"carpet\"}], \"choropleth\": [{\"colorbar\": {\"outlinewidth\": 0, \"ticks\": \"\"}, \"type\": \"choropleth\"}], \"contour\": [{\"colorbar\": {\"outlinewidth\": 0, \"ticks\": \"\"}, \"colorscale\": [[0.0, \"#0d0887\"], [0.1111111111111111, \"#46039f\"], [0.2222222222222222, \"#7201a8\"], [0.3333333333333333, \"#9c179e\"], [0.4444444444444444, \"#bd3786\"], [0.5555555555555556, \"#d8576b\"], [0.6666666666666666, \"#ed7953\"], [0.7777777777777778, \"#fb9f3a\"], [0.8888888888888888, \"#fdca26\"], [1.0, \"#f0f921\"]], \"type\": \"contour\"}], \"contourcarpet\": [{\"colorbar\": {\"outlinewidth\": 0, \"ticks\": \"\"}, \"type\": \"contourcarpet\"}], \"heatmap\": [{\"colorbar\": {\"outlinewidth\": 0, \"ticks\": \"\"}, \"colorscale\": [[0.0, \"#0d0887\"], [0.1111111111111111, \"#46039f\"], [0.2222222222222222, \"#7201a8\"], [0.3333333333333333, \"#9c179e\"], [0.4444444444444444, \"#bd3786\"], [0.5555555555555556, \"#d8576b\"], [0.6666666666666666, \"#ed7953\"], [0.7777777777777778, \"#fb9f3a\"], [0.8888888888888888, \"#fdca26\"], [1.0, \"#f0f921\"]], \"type\": \"heatmap\"}], \"heatmapgl\": [{\"colorbar\": {\"outlinewidth\": 0, \"ticks\": \"\"}, \"colorscale\": [[0.0, \"#0d0887\"], [0.1111111111111111, \"#46039f\"], [0.2222222222222222, \"#7201a8\"], [0.3333333333333333, \"#9c179e\"], [0.4444444444444444, \"#bd3786\"], [0.5555555555555556, \"#d8576b\"], [0.6666666666666666, \"#ed7953\"], [0.7777777777777778, \"#fb9f3a\"], [0.8888888888888888, \"#fdca26\"], [1.0, \"#f0f921\"]], \"type\": \"heatmapgl\"}], \"histogram\": [{\"marker\": {\"colorbar\": {\"outlinewidth\": 0, \"ticks\": \"\"}}, \"type\": \"histogram\"}], \"histogram2d\": [{\"colorbar\": {\"outlinewidth\": 0, \"ticks\": \"\"}, \"colorscale\": [[0.0, \"#0d0887\"], [0.1111111111111111, \"#46039f\"], [0.2222222222222222, \"#7201a8\"], [0.3333333333333333, \"#9c179e\"], [0.4444444444444444, \"#bd3786\"], [0.5555555555555556, \"#d8576b\"], [0.6666666666666666, \"#ed7953\"], [0.7777777777777778, \"#fb9f3a\"], [0.8888888888888888, \"#fdca26\"], [1.0, \"#f0f921\"]], \"type\": \"histogram2d\"}], \"histogram2dcontour\": [{\"colorbar\": {\"outlinewidth\": 0, \"ticks\": \"\"}, \"colorscale\": [[0.0, \"#0d0887\"], [0.1111111111111111, \"#46039f\"], [0.2222222222222222, \"#7201a8\"], [0.3333333333333333, \"#9c179e\"], [0.4444444444444444, \"#bd3786\"], [0.5555555555555556, \"#d8576b\"], [0.6666666666666666, \"#ed7953\"], [0.7777777777777778, \"#fb9f3a\"], [0.8888888888888888, \"#fdca26\"], [1.0, \"#f0f921\"]], \"type\": \"histogram2dcontour\"}], \"mesh3d\": [{\"colorbar\": {\"outlinewidth\": 0, \"ticks\": \"\"}, \"type\": \"mesh3d\"}], \"parcoords\": [{\"line\": {\"colorbar\": {\"outlinewidth\": 0, \"ticks\": \"\"}}, \"type\": \"parcoords\"}], \"pie\": [{\"automargin\": true, \"type\": \"pie\"}], \"scatter\": [{\"marker\": {\"colorbar\": {\"outlinewidth\": 0, \"ticks\": \"\"}}, \"type\": \"scatter\"}], \"scatter3d\": [{\"line\": {\"colorbar\": {\"outlinewidth\": 0, \"ticks\": \"\"}}, \"marker\": {\"colorbar\": {\"outlinewidth\": 0, \"ticks\": \"\"}}, \"type\": \"scatter3d\"}], \"scattercarpet\": [{\"marker\": {\"colorbar\": {\"outlinewidth\": 0, \"ticks\": \"\"}}, \"type\": \"scattercarpet\"}], \"scattergeo\": [{\"marker\": {\"colorbar\": {\"outlinewidth\": 0, \"ticks\": \"\"}}, \"type\": \"scattergeo\"}], \"scattergl\": [{\"marker\": {\"colorbar\": {\"outlinewidth\": 0, \"ticks\": \"\"}}, \"type\": \"scattergl\"}], \"scattermapbox\": [{\"marker\": {\"colorbar\": {\"outlinewidth\": 0, \"ticks\": \"\"}}, \"type\": \"scattermapbox\"}], \"scatterpolar\": [{\"marker\": {\"colorbar\": {\"outlinewidth\": 0, \"ticks\": \"\"}}, \"type\": \"scatterpolar\"}], \"scatterpolargl\": [{\"marker\": {\"colorbar\": {\"outlinewidth\": 0, \"ticks\": \"\"}}, \"type\": \"scatterpolargl\"}], \"scatterternary\": [{\"marker\": {\"colorbar\": {\"outlinewidth\": 0, \"ticks\": \"\"}}, \"type\": \"scatterternary\"}], \"surface\": [{\"colorbar\": {\"outlinewidth\": 0, \"ticks\": \"\"}, \"colorscale\": [[0.0, \"#0d0887\"], [0.1111111111111111, \"#46039f\"], [0.2222222222222222, \"#7201a8\"], [0.3333333333333333, \"#9c179e\"], [0.4444444444444444, \"#bd3786\"], [0.5555555555555556, \"#d8576b\"], [0.6666666666666666, \"#ed7953\"], [0.7777777777777778, \"#fb9f3a\"], [0.8888888888888888, \"#fdca26\"], [1.0, \"#f0f921\"]], \"type\": \"surface\"}], \"table\": [{\"cells\": {\"fill\": {\"color\": \"#EBF0F8\"}, \"line\": {\"color\": \"white\"}}, \"header\": {\"fill\": {\"color\": \"#C8D4E3\"}, \"line\": {\"color\": \"white\"}}, \"type\": \"table\"}]}, \"layout\": {\"annotationdefaults\": {\"arrowcolor\": \"#2a3f5f\", \"arrowhead\": 0, \"arrowwidth\": 1}, \"autotypenumbers\": \"strict\", \"coloraxis\": {\"colorbar\": {\"outlinewidth\": 0, \"ticks\": \"\"}}, \"colorscale\": {\"diverging\": [[0, \"#8e0152\"], [0.1, \"#c51b7d\"], [0.2, \"#de77ae\"], [0.3, \"#f1b6da\"], [0.4, \"#fde0ef\"], [0.5, \"#f7f7f7\"], [0.6, \"#e6f5d0\"], [0.7, \"#b8e186\"], [0.8, \"#7fbc41\"], [0.9, \"#4d9221\"], [1, \"#276419\"]], \"sequential\": [[0.0, \"#0d0887\"], [0.1111111111111111, \"#46039f\"], [0.2222222222222222, \"#7201a8\"], [0.3333333333333333, \"#9c179e\"], [0.4444444444444444, \"#bd3786\"], [0.5555555555555556, \"#d8576b\"], [0.6666666666666666, \"#ed7953\"], [0.7777777777777778, \"#fb9f3a\"], [0.8888888888888888, \"#fdca26\"], [1.0, \"#f0f921\"]], \"sequentialminus\": [[0.0, \"#0d0887\"], [0.1111111111111111, \"#46039f\"], [0.2222222222222222, \"#7201a8\"], [0.3333333333333333, \"#9c179e\"], [0.4444444444444444, \"#bd3786\"], [0.5555555555555556, \"#d8576b\"], [0.6666666666666666, \"#ed7953\"], [0.7777777777777778, \"#fb9f3a\"], [0.8888888888888888, \"#fdca26\"], [1.0, \"#f0f921\"]]}, \"colorway\": [\"#636efa\", \"#EF553B\", \"#00cc96\", \"#ab63fa\", \"#FFA15A\", \"#19d3f3\", \"#FF6692\", \"#B6E880\", \"#FF97FF\", \"#FECB52\"], \"font\": {\"color\": \"#2a3f5f\"}, \"geo\": {\"bgcolor\": \"white\", \"lakecolor\": \"white\", \"landcolor\": \"#E5ECF6\", \"showlakes\": true, \"showland\": true, \"subunitcolor\": \"white\"}, \"hoverlabel\": {\"align\": \"left\"}, \"hovermode\": \"closest\", \"mapbox\": {\"style\": \"light\"}, \"paper_bgcolor\": \"white\", \"plot_bgcolor\": \"#E5ECF6\", \"polar\": {\"angularaxis\": {\"gridcolor\": \"white\", \"linecolor\": \"white\", \"ticks\": \"\"}, \"bgcolor\": \"#E5ECF6\", \"radialaxis\": {\"gridcolor\": \"white\", \"linecolor\": \"white\", \"ticks\": \"\"}}, \"scene\": {\"xaxis\": {\"backgroundcolor\": \"#E5ECF6\", \"gridcolor\": \"white\", \"gridwidth\": 2, \"linecolor\": \"white\", \"showbackground\": true, \"ticks\": \"\", \"zerolinecolor\": \"white\"}, \"yaxis\": {\"backgroundcolor\": \"#E5ECF6\", \"gridcolor\": \"white\", \"gridwidth\": 2, \"linecolor\": \"white\", \"showbackground\": true, \"ticks\": \"\", \"zerolinecolor\": \"white\"}, \"zaxis\": {\"backgroundcolor\": \"#E5ECF6\", \"gridcolor\": \"white\", \"gridwidth\": 2, \"linecolor\": \"white\", \"showbackground\": true, \"ticks\": \"\", \"zerolinecolor\": \"white\"}}, \"shapedefaults\": {\"line\": {\"color\": \"#2a3f5f\"}}, \"ternary\": {\"aaxis\": {\"gridcolor\": \"white\", \"linecolor\": \"white\", \"ticks\": \"\"}, \"baxis\": {\"gridcolor\": \"white\", \"linecolor\": \"white\", \"ticks\": \"\"}, \"bgcolor\": \"#E5ECF6\", \"caxis\": {\"gridcolor\": \"white\", \"linecolor\": \"white\", \"ticks\": \"\"}}, \"title\": {\"x\": 0.05}, \"xaxis\": {\"automargin\": true, \"gridcolor\": \"white\", \"linecolor\": \"white\", \"ticks\": \"\", \"title\": {\"standoff\": 15}, \"zerolinecolor\": \"white\", \"zerolinewidth\": 2}, \"yaxis\": {\"automargin\": true, \"gridcolor\": \"white\", \"linecolor\": \"white\", \"ticks\": \"\", \"title\": {\"standoff\": 15}, \"zerolinecolor\": \"white\", \"zerolinewidth\": 2}}}, \"xaxis\": {\"anchor\": \"y\", \"domain\": [0.0, 1.0], \"title\": {\"text\": \"0\"}}, \"yaxis\": {\"anchor\": \"x\", \"domain\": [0.0, 1.0], \"title\": {\"text\": \"1\"}}},                        {\"responsive\": true}                    ).then(function(){\n",
              "                            \n",
              "var gd = document.getElementById('c623350d-94bf-481d-b086-14acb49f6113');\n",
              "var x = new MutationObserver(function (mutations, observer) {{\n",
              "        var display = window.getComputedStyle(gd).display;\n",
              "        if (!display || display === 'none') {{\n",
              "            console.log([gd, 'removed!']);\n",
              "            Plotly.purge(gd);\n",
              "            observer.disconnect();\n",
              "        }}\n",
              "}});\n",
              "\n",
              "// Listen for the removal of the full notebook cells\n",
              "var notebookContainer = gd.closest('#notebook-container');\n",
              "if (notebookContainer) {{\n",
              "    x.observe(notebookContainer, {childList: true});\n",
              "}}\n",
              "\n",
              "// Listen for the clearing of the current output cell\n",
              "var outputEl = gd.closest('.output');\n",
              "if (outputEl) {{\n",
              "    x.observe(outputEl, {childList: true});\n",
              "}}\n",
              "\n",
              "                        })                };                            </script>        </div>\n",
              "</body>\n",
              "</html>"
            ]
          },
          "metadata": {}
        }
      ]
    },
    {
      "cell_type": "markdown",
      "metadata": {
        "id": "9W5kvtkRr7VW"
      },
      "source": [
        "## UMAP"
      ]
    },
    {
      "cell_type": "code",
      "metadata": {
        "colab": {
          "base_uri": "https://localhost:8080/",
          "height": 542
        },
        "id": "fiReXW4er9XV",
        "outputId": "4950b85d-7ca8-40cc-bedb-dee9d1963452"
      },
      "source": [
        "umap_2d = UMAP(n_components=2, init='random', random_state=0)\n",
        "X_umap = umap_2d.fit_transform(xscaled)\n",
        "\n",
        "fig = px.scatter(X_umap, x=0, y=1, color=labels.astype(object))\n",
        "fig.show()"
      ],
      "execution_count": 54,
      "outputs": [
        {
          "output_type": "display_data",
          "data": {
            "text/html": [
              "<html>\n",
              "<head><meta charset=\"utf-8\" /></head>\n",
              "<body>\n",
              "    <div>            <script src=\"https://cdnjs.cloudflare.com/ajax/libs/mathjax/2.7.5/MathJax.js?config=TeX-AMS-MML_SVG\"></script><script type=\"text/javascript\">if (window.MathJax) {MathJax.Hub.Config({SVG: {font: \"STIX-Web\"}});}</script>                <script type=\"text/javascript\">window.PlotlyConfig = {MathJaxConfig: 'local'};</script>\n",
              "        <script src=\"https://cdn.plot.ly/plotly-latest.min.js\"></script>                <div id=\"cbb5428d-c060-4a18-b3ab-9d1faa48e338\" class=\"plotly-graph-div\" style=\"height:525px; width:100%;\"></div>            <script type=\"text/javascript\">                                    window.PLOTLYENV=window.PLOTLYENV || {};                                    if (document.getElementById(\"cbb5428d-c060-4a18-b3ab-9d1faa48e338\")) {                    Plotly.newPlot(                        \"cbb5428d-c060-4a18-b3ab-9d1faa48e338\",                        [{\"hovertemplate\": \"color=Milk<br>0=%{x}<br>1=%{y}<extra></extra>\", \"legendgroup\": \"Milk\", \"marker\": {\"color\": \"#636efa\", \"symbol\": \"circle\"}, \"mode\": \"markers\", \"name\": \"Milk\", \"orientation\": \"v\", \"showlegend\": true, \"type\": \"scatter\", \"x\": [0.029107248410582542, -0.7323912978172302, 0.1908591389656067, 0.22706803679466248, 0.012003928422927856, -2.4388604164123535, -2.9929850101470947, -0.9337272644042969, -2.6496381759643555, -0.8696877956390381, -2.514249086380005, -2.5956132411956787, -2.5650441646575928, -2.541984796524048, -0.7984917759895325, 0.0061869872733950615, -3.0447919368743896, -0.031605880707502365, -3.024420738220215, -3.03584623336792, 0.27906477451324463, 0.22335723042488098, -3.0045113563537598, -3.095898389816284, 0.7759270668029785, -1.8773415088653564, 1.0866708755493164, 1.1403405666351318, 1.3331035375595093, 1.2065768241882324, 0.9741831421852112], \"xaxis\": \"x\", \"y\": [3.8460097312927246, 2.001978635787964, 3.667210578918457, 3.5125925540924072, 3.596587657928467, 1.1327003240585327, 0.6729933023452759, 1.9646793603897095, 0.8975910544395447, 1.847678780555725, 1.2177009582519531, 0.8708820343017578, 1.0192164182662964, 0.8605930805206299, 1.8912686109542847, 3.5325160026550293, 0.8680423498153687, 4.0920000076293945, 0.8840766549110413, 0.9579359889030457, 6.073278903961182, 5.977599620819092, 4.620619773864746, 4.447748184204102, 7.088235378265381, 4.04599142074585, 6.759890556335449, 7.010248184204102, 6.869635105133057, 6.86138916015625, 7.506496429443359], \"yaxis\": \"y\"}, {\"hovertemplate\": \"color=Buttermilk<br>0=%{x}<br>1=%{y}<extra></extra>\", \"legendgroup\": \"Buttermilk\", \"marker\": {\"color\": \"#EF553B\", \"symbol\": \"circle\"}, \"mode\": \"markers\", \"name\": \"Buttermilk\", \"orientation\": \"v\", \"showlegend\": true, \"type\": \"scatter\", \"x\": [-3.621816396713257, -3.5313808917999268, -3.457246780395508, -0.12703989446163177], \"xaxis\": \"x\", \"y\": [2.302835702896118, 2.4258761405944824, 2.5816056728363037, 3.3737640380859375], \"yaxis\": \"y\"}, {\"hovertemplate\": \"color=Goat's milk<br>0=%{x}<br>1=%{y}<extra></extra>\", \"legendgroup\": \"Goat's milk\", \"marker\": {\"color\": \"#00cc96\", \"symbol\": \"circle\"}, \"mode\": \"markers\", \"name\": \"Goat's milk\", \"orientation\": \"v\", \"showlegend\": true, \"type\": \"scatter\", \"x\": [0.08960533142089844], \"xaxis\": \"x\", \"y\": [3.8108794689178467], \"yaxis\": \"y\"}, {\"hovertemplate\": \"color=Non-dairy milk<br>0=%{x}<br>1=%{y}<extra></extra>\", \"legendgroup\": \"Non-dairy milk\", \"marker\": {\"color\": \"#ab63fa\", \"symbol\": \"circle\"}, \"mode\": \"markers\", \"name\": \"Non-dairy milk\", \"orientation\": \"v\", \"showlegend\": true, \"type\": \"scatter\", \"x\": [2.531571626663208], \"xaxis\": \"x\", \"y\": [-0.0026379285845905542], \"yaxis\": \"y\"}, {\"hovertemplate\": \"color=Soy milk<br>0=%{x}<br>1=%{y}<extra></extra>\", \"legendgroup\": \"Soy milk\", \"marker\": {\"color\": \"#FFA15A\", \"symbol\": \"circle\"}, \"mode\": \"markers\", \"name\": \"Soy milk\", \"orientation\": \"v\", \"showlegend\": true, \"type\": \"scatter\", \"x\": [3.654729127883911, 2.9735538959503174, 3.16279673576355, 3.5254294872283936, 3.7192015647888184, 3.6038103103637695], \"xaxis\": \"x\", \"y\": [-0.2832019627094269, -0.38345885276794434, -0.29260489344596863, -0.5126948952674866, -0.4202677309513092, -0.42266345024108887], \"yaxis\": \"y\"}, {\"hovertemplate\": \"color=Almond milk<br>0=%{x}<br>1=%{y}<extra></extra>\", \"legendgroup\": \"Almond milk\", \"marker\": {\"color\": \"#19d3f3\", \"symbol\": \"circle\"}, \"mode\": \"markers\", \"name\": \"Almond milk\", \"orientation\": \"v\", \"showlegend\": true, \"type\": \"scatter\", \"x\": [-3.336172103881836, -3.3320741653442383, -3.489500045776367, -3.360347270965576], \"xaxis\": \"x\", \"y\": [-0.020400838926434517, -0.028504613786935806, 0.166873961687088, 0.035404086112976074], \"yaxis\": \"y\"}, {\"hovertemplate\": \"color=Rice milk<br>0=%{x}<br>1=%{y}<extra></extra>\", \"legendgroup\": \"Rice milk\", \"marker\": {\"color\": \"#FF6692\", \"symbol\": \"circle\"}, \"mode\": \"markers\", \"name\": \"Rice milk\", \"orientation\": \"v\", \"showlegend\": true, \"type\": \"scatter\", \"x\": [-2.966449022293091], \"xaxis\": \"x\", \"y\": [1.3699530363082886], \"yaxis\": \"y\"}, {\"hovertemplate\": \"color=Coconut milk<br>0=%{x}<br>1=%{y}<extra></extra>\", \"legendgroup\": \"Coconut milk\", \"marker\": {\"color\": \"#B6E880\", \"symbol\": \"circle\"}, \"mode\": \"markers\", \"name\": \"Coconut milk\", \"orientation\": \"v\", \"showlegend\": true, \"type\": \"scatter\", \"x\": [-3.0054519176483154, 0.08821602165699005], \"xaxis\": \"x\", \"y\": [1.2494797706604004, 6.25393009185791], \"yaxis\": \"y\"}, {\"hovertemplate\": \"color=Chocolate milk<br>0=%{x}<br>1=%{y}<extra></extra>\", \"legendgroup\": \"Chocolate milk\", \"marker\": {\"color\": \"#FF97FF\", \"symbol\": \"circle\"}, \"mode\": \"markers\", \"name\": \"Chocolate milk\", \"orientation\": \"v\", \"showlegend\": true, \"type\": \"scatter\", \"x\": [-0.8717339634895325, -0.9035430550575256, -0.9175021648406982, -0.8229264616966248, -3.572381019592285, -3.529283046722412, -3.419426918029785, -0.7490234971046448, -3.4867537021636963, -1.5227491855621338, -1.2203779220581055, -1.9262863397598267, -2.390932083129883, -2.597480058670044, 3.1049129962921143, -3.245795488357544, -3.053494691848755, -3.2829549312591553, -3.544975996017456, -3.60356068611145, 3.2096011638641357, -1.5762369632720947, -1.085361361503601, -1.7984791994094849, -2.4709253311157227, -2.6196799278259277, 3.0284996032714844, -3.1290814876556396, -2.873533010482788, -3.347919464111328, -3.6692349910736084, -3.6357791423797607, 3.088028907775879, -1.713785171508789, -1.2724252939224243, -1.8756946325302124, -2.217517137527466, -2.379512071609497, 2.8285646438598633, -1.450119137763977, -0.5491650700569153, -1.6197872161865234, -2.459345817565918, -2.5860376358032227, 2.82670521736145, -1.3724075555801392, -1.2824137210845947, -1.4745372533798218, -1.6118351221084595, -1.6733462810516357, 2.8483452796936035], \"xaxis\": \"x\", \"y\": [4.783693790435791, 4.206267833709717, 4.593019008636475, 4.930388927459717, 3.4160799980163574, 3.1693074703216553, 3.2359206676483154, 4.8663482666015625, 3.3527770042419434, 3.86141300201416, 4.212061882019043, 3.767937183380127, 3.818040370941162, 3.617208480834961, 0.2948644161224365, 6.844823837280273, 6.759719371795654, 6.8748064041137695, 6.675591945648193, 6.423661231994629, 0.07828641682863235, 3.905045747756958, 4.027387619018555, 4.00151252746582, 3.750962495803833, 3.7255547046661377, -0.04083370044827461, 6.71582555770874, 6.913496017456055, 6.858770847320557, 6.515649318695068, 6.564660549163818, 0.014953244477510452, 3.1347758769989014, 3.474642515182495, 3.203817129135132, 2.9110491275787354, 3.004288911819458, 0.2624088525772095, 2.5468502044677734, 3.619011878967285, 2.695908308029175, 2.0291671752929688, 1.8636415004730225, -0.18475207686424255, 1.1554291248321533, 1.3413679599761963, 1.3148552179336548, 1.2082198858261108, 1.1090624332427979, 0.197834774851799], \"yaxis\": \"y\"}, {\"hovertemplate\": \"color=Strawberry milk<br>0=%{x}<br>1=%{y}<extra></extra>\", \"legendgroup\": \"Strawberry milk\", \"marker\": {\"color\": \"#FECB52\", \"symbol\": \"circle\"}, \"mode\": \"markers\", \"name\": \"Strawberry milk\", \"orientation\": \"v\", \"showlegend\": true, \"type\": \"scatter\", \"x\": [-0.9019559621810913, -1.0609691143035889, -1.839408278465271, -2.343158006668091, -2.4216465950012207, -2.6041650772094727, 2.908339500427246], \"xaxis\": \"x\", \"y\": [2.0297839641571045, 3.621959686279297, 2.859940528869629, 2.8525664806365967, 2.839641809463501, 1.4382001161575317, 0.08609601110219955], \"yaxis\": \"y\"}, {\"hovertemplate\": \"color=Milk shake<br>0=%{x}<br>1=%{y}<extra></extra>\", \"legendgroup\": \"Milk shake\", \"marker\": {\"color\": \"#636efa\", \"symbol\": \"circle\"}, \"mode\": \"markers\", \"name\": \"Milk shake\", \"orientation\": \"v\", \"showlegend\": true, \"type\": \"scatter\", \"x\": [-0.08984103798866272, 0.1256108433008194, -0.28476670384407043, -1.1799806356430054, 0.1700320839881897, 0.23590293526649475, 0.40337446331977844, 0.3417474329471588], \"xaxis\": \"x\", \"y\": [5.864781379699707, 5.663449764251709, 5.406867980957031, 3.8438525199890137, 6.931464672088623, 7.128526210784912, 6.955913543701172, 7.008325099945068], \"yaxis\": \"y\"}, {\"hovertemplate\": \"color=Milk shake with malt<br>0=%{x}<br>1=%{y}<extra></extra>\", \"legendgroup\": \"Milk shake with malt\", \"marker\": {\"color\": \"#EF553B\", \"symbol\": \"circle\"}, \"mode\": \"markers\", \"name\": \"Milk shake with malt\", \"orientation\": \"v\", \"showlegend\": true, \"type\": \"scatter\", \"x\": [0.05849035456776619], \"xaxis\": \"x\", \"y\": [5.874757766723633], \"yaxis\": \"y\"}, {\"hovertemplate\": \"color=Chocolate milk drink<br>0=%{x}<br>1=%{y}<extra></extra>\", \"legendgroup\": \"Chocolate milk drink\", \"marker\": {\"color\": \"#00cc96\", \"symbol\": \"circle\"}, \"mode\": \"markers\", \"name\": \"Chocolate milk drink\", \"orientation\": \"v\", \"showlegend\": true, \"type\": \"scatter\", \"x\": [-1.758334755897522], \"xaxis\": \"x\", \"y\": [1.0436943769454956], \"yaxis\": \"y\"}, {\"hovertemplate\": \"color=Milk dessert or milk candy<br>0=%{x}<br>1=%{y}<extra></extra>\", \"legendgroup\": \"Milk dessert or milk candy\", \"marker\": {\"color\": \"#ab63fa\", \"symbol\": \"circle\"}, \"mode\": \"markers\", \"name\": \"Milk dessert or milk candy\", \"orientation\": \"v\", \"showlegend\": true, \"type\": \"scatter\", \"x\": [0.6193526387214661], \"xaxis\": \"x\", \"y\": [7.163329124450684], \"yaxis\": \"y\"}, {\"hovertemplate\": \"color=Milk 'n Cereal bar<br>0=%{x}<br>1=%{y}<extra></extra>\", \"legendgroup\": \"Milk 'n Cereal bar\", \"marker\": {\"color\": \"#FFA15A\", \"symbol\": \"circle\"}, \"mode\": \"markers\", \"name\": \"Milk 'n Cereal bar\", \"orientation\": \"v\", \"showlegend\": true, \"type\": \"scatter\", \"x\": [0.8382022976875305], \"xaxis\": \"x\", \"y\": [7.31843376159668], \"yaxis\": \"y\"}, {\"hovertemplate\": \"color=Nutrition bar (Tiger's Milk)<br>0=%{x}<br>1=%{y}<extra></extra>\", \"legendgroup\": \"Nutrition bar (Tiger's Milk)\", \"marker\": {\"color\": \"#19d3f3\", \"symbol\": \"circle\"}, \"mode\": \"markers\", \"name\": \"Nutrition bar (Tiger's Milk)\", \"orientation\": \"v\", \"showlegend\": true, \"type\": \"scatter\", \"x\": [1.0240979194641113], \"xaxis\": \"x\", \"y\": [7.637484073638916], \"yaxis\": \"y\"}, {\"hovertemplate\": \"color=Milk chocolate candy<br>0=%{x}<br>1=%{y}<extra></extra>\", \"legendgroup\": \"Milk chocolate candy\", \"marker\": {\"color\": \"#FF6692\", \"symbol\": \"circle\"}, \"mode\": \"markers\", \"name\": \"Milk chocolate candy\", \"orientation\": \"v\", \"showlegend\": true, \"type\": \"scatter\", \"x\": [0.3469749987125397, 0.43079331517219543, 0.60699063539505, 0.47783994674682617], \"xaxis\": \"x\", \"y\": [7.750586986541748, 7.911955833435059, 7.928953170776367, 7.842870235443115], \"yaxis\": \"y\"}, {\"hovertemplate\": \"color=M&M's Milk Chocolate Candies<br>0=%{x}<br>1=%{y}<extra></extra>\", \"legendgroup\": \"M&M's Milk Chocolate Candies\", \"marker\": {\"color\": \"#B6E880\", \"symbol\": \"circle\"}, \"mode\": \"markers\", \"name\": \"M&M's Milk Chocolate Candies\", \"orientation\": \"v\", \"showlegend\": true, \"type\": \"scatter\", \"x\": [0.6448937058448792], \"xaxis\": \"x\", \"y\": [7.670607089996338], \"yaxis\": \"y\"}, {\"hovertemplate\": \"color=Oatmeal beverage with milk<br>0=%{x}<br>1=%{y}<extra></extra>\", \"legendgroup\": \"Oatmeal beverage with milk\", \"marker\": {\"color\": \"#FF97FF\", \"symbol\": \"circle\"}, \"mode\": \"markers\", \"name\": \"Oatmeal beverage with milk\", \"orientation\": \"v\", \"showlegend\": true, \"type\": \"scatter\", \"x\": [-1.5383245944976807], \"xaxis\": \"x\", \"y\": [1.4827593564987183], \"yaxis\": \"y\"}, {\"hovertemplate\": \"color=Cornmeal beverage with chocolate milk<br>0=%{x}<br>1=%{y}<extra></extra>\", \"legendgroup\": \"Cornmeal beverage with chocolate milk\", \"marker\": {\"color\": \"#FECB52\", \"symbol\": \"circle\"}, \"mode\": \"markers\", \"name\": \"Cornmeal beverage with chocolate milk\", \"orientation\": \"v\", \"showlegend\": true, \"type\": \"scatter\", \"x\": [-1.7055511474609375], \"xaxis\": \"x\", \"y\": [3.188595771789551], \"yaxis\": \"y\"}, {\"hovertemplate\": \"color=Nutritional powder mix (Muscle Milk)<br>0=%{x}<br>1=%{y}<extra></extra>\", \"legendgroup\": \"Nutritional powder mix (Muscle Milk)\", \"marker\": {\"color\": \"#636efa\", \"symbol\": \"circle\"}, \"mode\": \"markers\", \"name\": \"Nutritional powder mix (Muscle Milk)\", \"orientation\": \"v\", \"showlegend\": true, \"type\": \"scatter\", \"x\": [1.2751610279083252], \"xaxis\": \"x\", \"y\": [7.358720779418945], \"yaxis\": \"y\"}],                        {\"legend\": {\"title\": {\"text\": \"color\"}, \"tracegroupgap\": 0}, \"margin\": {\"t\": 60}, \"template\": {\"data\": {\"bar\": [{\"error_x\": {\"color\": \"#2a3f5f\"}, \"error_y\": {\"color\": \"#2a3f5f\"}, \"marker\": {\"line\": {\"color\": \"#E5ECF6\", \"width\": 0.5}}, \"type\": \"bar\"}], \"barpolar\": [{\"marker\": {\"line\": {\"color\": \"#E5ECF6\", \"width\": 0.5}}, \"type\": \"barpolar\"}], \"carpet\": [{\"aaxis\": {\"endlinecolor\": \"#2a3f5f\", \"gridcolor\": \"white\", \"linecolor\": \"white\", \"minorgridcolor\": \"white\", \"startlinecolor\": \"#2a3f5f\"}, \"baxis\": {\"endlinecolor\": \"#2a3f5f\", \"gridcolor\": \"white\", \"linecolor\": \"white\", \"minorgridcolor\": \"white\", \"startlinecolor\": \"#2a3f5f\"}, \"type\": \"carpet\"}], \"choropleth\": [{\"colorbar\": {\"outlinewidth\": 0, \"ticks\": \"\"}, \"type\": \"choropleth\"}], \"contour\": [{\"colorbar\": {\"outlinewidth\": 0, \"ticks\": \"\"}, \"colorscale\": [[0.0, \"#0d0887\"], [0.1111111111111111, \"#46039f\"], [0.2222222222222222, \"#7201a8\"], [0.3333333333333333, \"#9c179e\"], [0.4444444444444444, \"#bd3786\"], [0.5555555555555556, \"#d8576b\"], [0.6666666666666666, \"#ed7953\"], [0.7777777777777778, \"#fb9f3a\"], [0.8888888888888888, \"#fdca26\"], [1.0, \"#f0f921\"]], \"type\": \"contour\"}], \"contourcarpet\": [{\"colorbar\": {\"outlinewidth\": 0, \"ticks\": \"\"}, \"type\": \"contourcarpet\"}], \"heatmap\": [{\"colorbar\": {\"outlinewidth\": 0, \"ticks\": \"\"}, \"colorscale\": [[0.0, \"#0d0887\"], [0.1111111111111111, \"#46039f\"], [0.2222222222222222, \"#7201a8\"], [0.3333333333333333, \"#9c179e\"], [0.4444444444444444, \"#bd3786\"], [0.5555555555555556, \"#d8576b\"], [0.6666666666666666, \"#ed7953\"], [0.7777777777777778, \"#fb9f3a\"], [0.8888888888888888, \"#fdca26\"], [1.0, \"#f0f921\"]], \"type\": \"heatmap\"}], \"heatmapgl\": [{\"colorbar\": {\"outlinewidth\": 0, \"ticks\": \"\"}, \"colorscale\": [[0.0, \"#0d0887\"], [0.1111111111111111, \"#46039f\"], [0.2222222222222222, \"#7201a8\"], [0.3333333333333333, \"#9c179e\"], [0.4444444444444444, \"#bd3786\"], [0.5555555555555556, \"#d8576b\"], [0.6666666666666666, \"#ed7953\"], [0.7777777777777778, \"#fb9f3a\"], [0.8888888888888888, \"#fdca26\"], [1.0, \"#f0f921\"]], \"type\": \"heatmapgl\"}], \"histogram\": [{\"marker\": {\"colorbar\": {\"outlinewidth\": 0, \"ticks\": \"\"}}, \"type\": \"histogram\"}], \"histogram2d\": [{\"colorbar\": {\"outlinewidth\": 0, \"ticks\": \"\"}, \"colorscale\": [[0.0, \"#0d0887\"], [0.1111111111111111, \"#46039f\"], [0.2222222222222222, \"#7201a8\"], [0.3333333333333333, \"#9c179e\"], [0.4444444444444444, \"#bd3786\"], [0.5555555555555556, \"#d8576b\"], [0.6666666666666666, \"#ed7953\"], [0.7777777777777778, \"#fb9f3a\"], [0.8888888888888888, \"#fdca26\"], [1.0, \"#f0f921\"]], \"type\": \"histogram2d\"}], \"histogram2dcontour\": [{\"colorbar\": {\"outlinewidth\": 0, \"ticks\": \"\"}, \"colorscale\": [[0.0, \"#0d0887\"], [0.1111111111111111, \"#46039f\"], [0.2222222222222222, \"#7201a8\"], [0.3333333333333333, \"#9c179e\"], [0.4444444444444444, \"#bd3786\"], [0.5555555555555556, \"#d8576b\"], [0.6666666666666666, \"#ed7953\"], [0.7777777777777778, \"#fb9f3a\"], [0.8888888888888888, \"#fdca26\"], [1.0, \"#f0f921\"]], \"type\": \"histogram2dcontour\"}], \"mesh3d\": [{\"colorbar\": {\"outlinewidth\": 0, \"ticks\": \"\"}, \"type\": \"mesh3d\"}], \"parcoords\": [{\"line\": {\"colorbar\": {\"outlinewidth\": 0, \"ticks\": \"\"}}, \"type\": \"parcoords\"}], \"pie\": [{\"automargin\": true, \"type\": \"pie\"}], \"scatter\": [{\"marker\": {\"colorbar\": {\"outlinewidth\": 0, \"ticks\": \"\"}}, \"type\": \"scatter\"}], \"scatter3d\": [{\"line\": {\"colorbar\": {\"outlinewidth\": 0, \"ticks\": \"\"}}, \"marker\": {\"colorbar\": {\"outlinewidth\": 0, \"ticks\": \"\"}}, \"type\": \"scatter3d\"}], \"scattercarpet\": [{\"marker\": {\"colorbar\": {\"outlinewidth\": 0, \"ticks\": \"\"}}, \"type\": \"scattercarpet\"}], \"scattergeo\": [{\"marker\": {\"colorbar\": {\"outlinewidth\": 0, \"ticks\": \"\"}}, \"type\": \"scattergeo\"}], \"scattergl\": [{\"marker\": {\"colorbar\": {\"outlinewidth\": 0, \"ticks\": \"\"}}, \"type\": \"scattergl\"}], \"scattermapbox\": [{\"marker\": {\"colorbar\": {\"outlinewidth\": 0, \"ticks\": \"\"}}, \"type\": \"scattermapbox\"}], \"scatterpolar\": [{\"marker\": {\"colorbar\": {\"outlinewidth\": 0, \"ticks\": \"\"}}, \"type\": \"scatterpolar\"}], \"scatterpolargl\": [{\"marker\": {\"colorbar\": {\"outlinewidth\": 0, \"ticks\": \"\"}}, \"type\": \"scatterpolargl\"}], \"scatterternary\": [{\"marker\": {\"colorbar\": {\"outlinewidth\": 0, \"ticks\": \"\"}}, \"type\": \"scatterternary\"}], \"surface\": [{\"colorbar\": {\"outlinewidth\": 0, \"ticks\": \"\"}, \"colorscale\": [[0.0, \"#0d0887\"], [0.1111111111111111, \"#46039f\"], [0.2222222222222222, \"#7201a8\"], [0.3333333333333333, \"#9c179e\"], [0.4444444444444444, \"#bd3786\"], [0.5555555555555556, \"#d8576b\"], [0.6666666666666666, \"#ed7953\"], [0.7777777777777778, \"#fb9f3a\"], [0.8888888888888888, \"#fdca26\"], [1.0, \"#f0f921\"]], \"type\": \"surface\"}], \"table\": [{\"cells\": {\"fill\": {\"color\": \"#EBF0F8\"}, \"line\": {\"color\": \"white\"}}, \"header\": {\"fill\": {\"color\": \"#C8D4E3\"}, \"line\": {\"color\": \"white\"}}, \"type\": \"table\"}]}, \"layout\": {\"annotationdefaults\": {\"arrowcolor\": \"#2a3f5f\", \"arrowhead\": 0, \"arrowwidth\": 1}, \"autotypenumbers\": \"strict\", \"coloraxis\": {\"colorbar\": {\"outlinewidth\": 0, \"ticks\": \"\"}}, \"colorscale\": {\"diverging\": [[0, \"#8e0152\"], [0.1, \"#c51b7d\"], [0.2, \"#de77ae\"], [0.3, \"#f1b6da\"], [0.4, \"#fde0ef\"], [0.5, \"#f7f7f7\"], [0.6, \"#e6f5d0\"], [0.7, \"#b8e186\"], [0.8, \"#7fbc41\"], [0.9, \"#4d9221\"], [1, \"#276419\"]], \"sequential\": [[0.0, \"#0d0887\"], [0.1111111111111111, \"#46039f\"], [0.2222222222222222, \"#7201a8\"], [0.3333333333333333, \"#9c179e\"], [0.4444444444444444, \"#bd3786\"], [0.5555555555555556, \"#d8576b\"], [0.6666666666666666, \"#ed7953\"], [0.7777777777777778, \"#fb9f3a\"], [0.8888888888888888, \"#fdca26\"], [1.0, \"#f0f921\"]], \"sequentialminus\": [[0.0, \"#0d0887\"], [0.1111111111111111, \"#46039f\"], [0.2222222222222222, \"#7201a8\"], [0.3333333333333333, \"#9c179e\"], [0.4444444444444444, \"#bd3786\"], [0.5555555555555556, \"#d8576b\"], [0.6666666666666666, \"#ed7953\"], [0.7777777777777778, \"#fb9f3a\"], [0.8888888888888888, \"#fdca26\"], [1.0, \"#f0f921\"]]}, \"colorway\": [\"#636efa\", \"#EF553B\", \"#00cc96\", \"#ab63fa\", \"#FFA15A\", \"#19d3f3\", \"#FF6692\", \"#B6E880\", \"#FF97FF\", \"#FECB52\"], \"font\": {\"color\": \"#2a3f5f\"}, \"geo\": {\"bgcolor\": \"white\", \"lakecolor\": \"white\", \"landcolor\": \"#E5ECF6\", \"showlakes\": true, \"showland\": true, \"subunitcolor\": \"white\"}, \"hoverlabel\": {\"align\": \"left\"}, \"hovermode\": \"closest\", \"mapbox\": {\"style\": \"light\"}, \"paper_bgcolor\": \"white\", \"plot_bgcolor\": \"#E5ECF6\", \"polar\": {\"angularaxis\": {\"gridcolor\": \"white\", \"linecolor\": \"white\", \"ticks\": \"\"}, \"bgcolor\": \"#E5ECF6\", \"radialaxis\": {\"gridcolor\": \"white\", \"linecolor\": \"white\", \"ticks\": \"\"}}, \"scene\": {\"xaxis\": {\"backgroundcolor\": \"#E5ECF6\", \"gridcolor\": \"white\", \"gridwidth\": 2, \"linecolor\": \"white\", \"showbackground\": true, \"ticks\": \"\", \"zerolinecolor\": \"white\"}, \"yaxis\": {\"backgroundcolor\": \"#E5ECF6\", \"gridcolor\": \"white\", \"gridwidth\": 2, \"linecolor\": \"white\", \"showbackground\": true, \"ticks\": \"\", \"zerolinecolor\": \"white\"}, \"zaxis\": {\"backgroundcolor\": \"#E5ECF6\", \"gridcolor\": \"white\", \"gridwidth\": 2, \"linecolor\": \"white\", \"showbackground\": true, \"ticks\": \"\", \"zerolinecolor\": \"white\"}}, \"shapedefaults\": {\"line\": {\"color\": \"#2a3f5f\"}}, \"ternary\": {\"aaxis\": {\"gridcolor\": \"white\", \"linecolor\": \"white\", \"ticks\": \"\"}, \"baxis\": {\"gridcolor\": \"white\", \"linecolor\": \"white\", \"ticks\": \"\"}, \"bgcolor\": \"#E5ECF6\", \"caxis\": {\"gridcolor\": \"white\", \"linecolor\": \"white\", \"ticks\": \"\"}}, \"title\": {\"x\": 0.05}, \"xaxis\": {\"automargin\": true, \"gridcolor\": \"white\", \"linecolor\": \"white\", \"ticks\": \"\", \"title\": {\"standoff\": 15}, \"zerolinecolor\": \"white\", \"zerolinewidth\": 2}, \"yaxis\": {\"automargin\": true, \"gridcolor\": \"white\", \"linecolor\": \"white\", \"ticks\": \"\", \"title\": {\"standoff\": 15}, \"zerolinecolor\": \"white\", \"zerolinewidth\": 2}}}, \"xaxis\": {\"anchor\": \"y\", \"domain\": [0.0, 1.0], \"title\": {\"text\": \"0\"}}, \"yaxis\": {\"anchor\": \"x\", \"domain\": [0.0, 1.0], \"title\": {\"text\": \"1\"}}},                        {\"responsive\": true}                    ).then(function(){\n",
              "                            \n",
              "var gd = document.getElementById('cbb5428d-c060-4a18-b3ab-9d1faa48e338');\n",
              "var x = new MutationObserver(function (mutations, observer) {{\n",
              "        var display = window.getComputedStyle(gd).display;\n",
              "        if (!display || display === 'none') {{\n",
              "            console.log([gd, 'removed!']);\n",
              "            Plotly.purge(gd);\n",
              "            observer.disconnect();\n",
              "        }}\n",
              "}});\n",
              "\n",
              "// Listen for the removal of the full notebook cells\n",
              "var notebookContainer = gd.closest('#notebook-container');\n",
              "if (notebookContainer) {{\n",
              "    x.observe(notebookContainer, {childList: true});\n",
              "}}\n",
              "\n",
              "// Listen for the clearing of the current output cell\n",
              "var outputEl = gd.closest('.output');\n",
              "if (outputEl) {{\n",
              "    x.observe(outputEl, {childList: true});\n",
              "}}\n",
              "\n",
              "                        })                };                            </script>        </div>\n",
              "</body>\n",
              "</html>"
            ]
          },
          "metadata": {}
        }
      ]
    },
    {
      "cell_type": "markdown",
      "metadata": {
        "id": "zcc_ss8MdFNh"
      },
      "source": [
        "## t-Stochastic Distributed Neighbor Embedding Projection (t-SNE)\n"
      ]
    },
    {
      "cell_type": "markdown",
      "metadata": {
        "id": "i3ocJItKtpl8"
      },
      "source": [
        "Vamos gerar um gráfico de linhas para o conjunto de dados Auto-MPG Cars. Considere que cada carro é enumerado por um número inteiro de 1 a N, em que N é a quantidade de instâncias. Agora vamos criar uma nova coluna no DataFrame para possibilitar seu uso como eixo X no gráfico de linhas (Line Chart) do Plotly:"
      ]
    },
    {
      "cell_type": "code",
      "metadata": {
        "id": "-Ov9hczGtmjG",
        "colab": {
          "base_uri": "https://localhost:8080/",
          "height": 542
        },
        "outputId": "84a751f0-0b3c-42b2-bc27-0ccbf2ab81d5"
      },
      "source": [
        "tsne = TSNE(n_components=2,perplexity=5,learning_rate=100.0,metric='euclidean', init='random')\n",
        "X_tsne = tsne.fit_transform(xscaled)\n",
        "\n",
        "fig = px.scatter(X_tsne, x=0, y=1, color=labels.astype(object))\n",
        "fig.show()\n"
      ],
      "execution_count": 55,
      "outputs": [
        {
          "output_type": "display_data",
          "data": {
            "text/html": [
              "<html>\n",
              "<head><meta charset=\"utf-8\" /></head>\n",
              "<body>\n",
              "    <div>            <script src=\"https://cdnjs.cloudflare.com/ajax/libs/mathjax/2.7.5/MathJax.js?config=TeX-AMS-MML_SVG\"></script><script type=\"text/javascript\">if (window.MathJax) {MathJax.Hub.Config({SVG: {font: \"STIX-Web\"}});}</script>                <script type=\"text/javascript\">window.PlotlyConfig = {MathJaxConfig: 'local'};</script>\n",
              "        <script src=\"https://cdn.plot.ly/plotly-latest.min.js\"></script>                <div id=\"7c495dc7-1f09-410e-9ecb-8d9bbec6f40c\" class=\"plotly-graph-div\" style=\"height:525px; width:100%;\"></div>            <script type=\"text/javascript\">                                    window.PLOTLYENV=window.PLOTLYENV || {};                                    if (document.getElementById(\"7c495dc7-1f09-410e-9ecb-8d9bbec6f40c\")) {                    Plotly.newPlot(                        \"7c495dc7-1f09-410e-9ecb-8d9bbec6f40c\",                        [{\"hovertemplate\": \"color=Milk<br>0=%{x}<br>1=%{y}<extra></extra>\", \"legendgroup\": \"Milk\", \"marker\": {\"color\": \"#636efa\", \"symbol\": \"circle\"}, \"mode\": \"markers\", \"name\": \"Milk\", \"orientation\": \"v\", \"showlegend\": true, \"type\": \"scatter\", \"x\": [-7.383058071136475, 13.429292678833008, -5.7416605949401855, -7.192065238952637, -5.317290782928467, 15.646306037902832, 21.155418395996094, 15.066286087036133, 15.6388578414917, 15.437061309814453, 16.52334213256836, 19.206865310668945, 16.50440788269043, 19.362876892089844, 14.224715232849121, -6.111091613769531, 20.055044174194336, -4.327724933624268, 19.054073333740234, 20.4488582611084, -24.77472686767578, -24.589338302612305, -3.2703282833099365, -3.1789276599884033, -30.5982666015625, -15.540726661682129, -36.83500671386719, -34.66969299316406, -36.06008529663086, -36.68412780761719, -30.53035545349121], \"xaxis\": \"x\", \"y\": [-13.087723731994629, -6.34053373336792, -10.250791549682617, -11.441274642944336, -9.635621070861816, 8.091926574707031, 9.563565254211426, -5.118723392486572, 7.089277744293213, -5.9996232986450195, 7.9418439865112305, 7.767115116119385, 6.963044166564941, 7.339545249938965, -5.399506568908691, -9.630853652954102, 11.332035064697266, -11.256990432739258, 11.076690673828125, 12.039263725280762, -14.11316204071045, -14.395068168640137, 20.457698822021484, 20.455188751220703, -23.38372802734375, 8.930760383605957, -21.91566276550293, -21.551822662353516, -22.16876792907715, -22.686630249023438, -26.546924591064453], \"yaxis\": \"y\"}, {\"hovertemplate\": \"color=Buttermilk<br>0=%{x}<br>1=%{y}<extra></extra>\", \"legendgroup\": \"Buttermilk\", \"marker\": {\"color\": \"#EF553B\", \"symbol\": \"circle\"}, \"mode\": \"markers\", \"name\": \"Buttermilk\", \"orientation\": \"v\", \"showlegend\": true, \"type\": \"scatter\", \"x\": [2.9211220741271973, 2.9211220741271973, 1.448749303817749, -0.16536273062229156], \"xaxis\": \"x\", \"y\": [-10.140179634094238, -10.140179634094238, -10.374651908874512, -10.570267677307129], \"yaxis\": \"y\"}, {\"hovertemplate\": \"color=Goat's milk<br>0=%{x}<br>1=%{y}<extra></extra>\", \"legendgroup\": \"Goat's milk\", \"marker\": {\"color\": \"#00cc96\", \"symbol\": \"circle\"}, \"mode\": \"markers\", \"name\": \"Goat's milk\", \"orientation\": \"v\", \"showlegend\": true, \"type\": \"scatter\", \"x\": [-5.319633960723877], \"xaxis\": \"x\", \"y\": [-12.571929931640625], \"yaxis\": \"y\"}, {\"hovertemplate\": \"color=Non-dairy milk<br>0=%{x}<br>1=%{y}<extra></extra>\", \"legendgroup\": \"Non-dairy milk\", \"marker\": {\"color\": \"#ab63fa\", \"symbol\": \"circle\"}, \"mode\": \"markers\", \"name\": \"Non-dairy milk\", \"orientation\": \"v\", \"showlegend\": true, \"type\": \"scatter\", \"x\": [46.26698303222656], \"xaxis\": \"x\", \"y\": [12.346323013305664], \"yaxis\": \"y\"}, {\"hovertemplate\": \"color=Soy milk<br>0=%{x}<br>1=%{y}<extra></extra>\", \"legendgroup\": \"Soy milk\", \"marker\": {\"color\": \"#FFA15A\", \"symbol\": \"circle\"}, \"mode\": \"markers\", \"name\": \"Soy milk\", \"orientation\": \"v\", \"showlegend\": true, \"type\": \"scatter\", \"x\": [46.355796813964844, 46.29354476928711, 45.923439025878906, 46.388492584228516, 45.00349426269531, 44.9362678527832], \"xaxis\": \"x\", \"y\": [22.26641273498535, 15.369025230407715, 16.31403923034668, 22.92386817932129, 22.087665557861328, 22.71278953552246], \"yaxis\": \"y\"}, {\"hovertemplate\": \"color=Almond milk<br>0=%{x}<br>1=%{y}<extra></extra>\", \"legendgroup\": \"Almond milk\", \"marker\": {\"color\": \"#19d3f3\", \"symbol\": \"circle\"}, \"mode\": \"markers\", \"name\": \"Almond milk\", \"orientation\": \"v\", \"showlegend\": true, \"type\": \"scatter\", \"x\": [40.33302688598633, 39.956809997558594, 39.32023620605469, 40.034278869628906], \"xaxis\": \"x\", \"y\": [7.5674262046813965, 6.858606338500977, 8.137293815612793, 8.538169860839844], \"yaxis\": \"y\"}, {\"hovertemplate\": \"color=Rice milk<br>0=%{x}<br>1=%{y}<extra></extra>\", \"legendgroup\": \"Rice milk\", \"marker\": {\"color\": \"#FF6692\", \"symbol\": \"circle\"}, \"mode\": \"markers\", \"name\": \"Rice milk\", \"orientation\": \"v\", \"showlegend\": true, \"type\": \"scatter\", \"x\": [12.373126029968262], \"xaxis\": \"x\", \"y\": [5.247546672821045], \"yaxis\": \"y\"}, {\"hovertemplate\": \"color=Coconut milk<br>0=%{x}<br>1=%{y}<extra></extra>\", \"legendgroup\": \"Coconut milk\", \"marker\": {\"color\": \"#B6E880\", \"symbol\": \"circle\"}, \"mode\": \"markers\", \"name\": \"Coconut milk\", \"orientation\": \"v\", \"showlegend\": true, \"type\": \"scatter\", \"x\": [12.725918769836426, -19.8963565826416], \"xaxis\": \"x\", \"y\": [4.016641139984131, -13.81174087524414], \"yaxis\": \"y\"}, {\"hovertemplate\": \"color=Chocolate milk<br>0=%{x}<br>1=%{y}<extra></extra>\", \"legendgroup\": \"Chocolate milk\", \"marker\": {\"color\": \"#FF97FF\", \"symbol\": \"circle\"}, \"mode\": \"markers\", \"name\": \"Chocolate milk\", \"orientation\": \"v\", \"showlegend\": true, \"type\": \"scatter\", \"x\": [-20.138959884643555, -14.73062515258789, -15.98730182647705, -19.899953842163086, 0.5731431245803833, 1.64058518409729, -0.13263441622257233, -20.666650772094727, 0.27939704060554504, -12.853687286376953, -12.876306533813477, -13.702589988708496, -11.865850448608398, -10.635247230529785, 48.847999572753906, -10.072673797607422, -12.365708351135254, -9.002718925476074, -6.176912307739258, -4.805999279022217, 49.608673095703125, -13.398151397705078, -12.908208847045898, -14.207436561584473, -11.417109489440918, -11.160566329956055, 49.40403366088867, -9.778203010559082, -12.54375171661377, -8.695497512817383, -5.97116231918335, -4.547242641448975, 50.11042785644531, -3.3067708015441895, -7.426974773406982, -3.413532018661499, -0.005827225744724274, 0.7446466088294983, 49.419578552246094, -5.800775051116943, -7.095316410064697, -5.597221851348877, 11.40468978881836, 10.86607551574707, 47.677982330322266, 12.456870079040527, 11.909896850585938, 13.132104873657227, 13.329792022705078, 14.100454330444336, 51.56241226196289], \"xaxis\": \"x\", \"y\": [-2.2213892936706543, -4.35392951965332, -4.316939830780029, -1.469956874847412, 15.828596115112305, 15.069648742675781, 15.606576919555664, -1.6396393775939941, 14.964401245117188, 7.606318473815918, -4.21884298324585, 8.51696491241455, 13.060752868652344, 14.342244148254395, 12.60820484161377, 37.30934143066406, 35.69093704223633, 37.719940185546875, 38.666481018066406, 39.229881286621094, 10.247389793395996, 7.058811664581299, -3.9484286308288574, 7.951827049255371, 12.850052833557129, 14.597908020019531, 12.883942604064941, 36.514583587646484, 36.14822769165039, 36.88853073120117, 38.07014465332031, 38.514320373535156, 10.357767105102539, 1.3344500064849854, -3.617042303085327, 1.7894396781921387, 3.6511552333831787, 4.605390548706055, 14.441576957702637, 5.113360404968262, -6.807199954986572, 4.837642669677734, 7.030478477478027, 7.523518085479736, 13.509649276733398, -22.61760711669922, -23.6572322845459, -23.000091552734375, -21.718536376953125, -21.779172897338867, 12.854701042175293], \"yaxis\": \"y\"}, {\"hovertemplate\": \"color=Strawberry milk<br>0=%{x}<br>1=%{y}<extra></extra>\", \"legendgroup\": \"Strawberry milk\", \"marker\": {\"color\": \"#FECB52\", \"symbol\": \"circle\"}, \"mode\": \"markers\", \"name\": \"Strawberry milk\", \"orientation\": \"v\", \"showlegend\": true, \"type\": \"scatter\", \"x\": [14.664555549621582, -7.793684959411621, -4.792670726776123, 0.7025750875473022, 1.496861457824707, 13.989941596984863, 48.66203689575195], \"xaxis\": \"x\", \"y\": [-6.512812614440918, -4.051157474517822, 3.490335702896118, 3.049797534942627, 4.089791774749756, 7.382987976074219, 14.1469144821167], \"yaxis\": \"y\"}, {\"hovertemplate\": \"color=Milk shake<br>0=%{x}<br>1=%{y}<extra></extra>\", \"legendgroup\": \"Milk shake\", \"marker\": {\"color\": \"#636efa\", \"symbol\": \"circle\"}, \"mode\": \"markers\", \"name\": \"Milk shake\", \"orientation\": \"v\", \"showlegend\": true, \"type\": \"scatter\", \"x\": [-20.82485008239746, -21.63686180114746, -19.95494842529297, -8.780065536499023, -22.981826782226562, -24.138687133789062, -23.335237503051758, -24.444896697998047], \"xaxis\": \"x\", \"y\": [-12.433918952941895, -12.028098106384277, -10.456338882446289, -2.9285993576049805, -21.384485244750977, -20.769359588623047, -21.998291015625, -21.30352020263672], \"yaxis\": \"y\"}, {\"hovertemplate\": \"color=Milk shake with malt<br>0=%{x}<br>1=%{y}<extra></extra>\", \"legendgroup\": \"Milk shake with malt\", \"marker\": {\"color\": \"#EF553B\", \"symbol\": \"circle\"}, \"mode\": \"markers\", \"name\": \"Milk shake with malt\", \"orientation\": \"v\", \"showlegend\": true, \"type\": \"scatter\", \"x\": [-21.847354888916016], \"xaxis\": \"x\", \"y\": [-12.688209533691406], \"yaxis\": \"y\"}, {\"hovertemplate\": \"color=Chocolate milk drink<br>0=%{x}<br>1=%{y}<extra></extra>\", \"legendgroup\": \"Chocolate milk drink\", \"marker\": {\"color\": \"#00cc96\", \"symbol\": \"circle\"}, \"mode\": \"markers\", \"name\": \"Chocolate milk drink\", \"orientation\": \"v\", \"showlegend\": true, \"type\": \"scatter\", \"x\": [13.959563255310059], \"xaxis\": \"x\", \"y\": [-20.09342384338379], \"yaxis\": \"y\"}, {\"hovertemplate\": \"color=Milk dessert or milk candy<br>0=%{x}<br>1=%{y}<extra></extra>\", \"legendgroup\": \"Milk dessert or milk candy\", \"marker\": {\"color\": \"#ab63fa\", \"symbol\": \"circle\"}, \"mode\": \"markers\", \"name\": \"Milk dessert or milk candy\", \"orientation\": \"v\", \"showlegend\": true, \"type\": \"scatter\", \"x\": [-30.406475067138672], \"xaxis\": \"x\", \"y\": [-23.54461669921875], \"yaxis\": \"y\"}, {\"hovertemplate\": \"color=Milk 'n Cereal bar<br>0=%{x}<br>1=%{y}<extra></extra>\", \"legendgroup\": \"Milk 'n Cereal bar\", \"marker\": {\"color\": \"#FFA15A\", \"symbol\": \"circle\"}, \"mode\": \"markers\", \"name\": \"Milk 'n Cereal bar\", \"orientation\": \"v\", \"showlegend\": true, \"type\": \"scatter\", \"x\": [-31.34579086303711], \"xaxis\": \"x\", \"y\": [-25.60007095336914], \"yaxis\": \"y\"}, {\"hovertemplate\": \"color=Nutrition bar (Tiger's Milk)<br>0=%{x}<br>1=%{y}<extra></extra>\", \"legendgroup\": \"Nutrition bar (Tiger's Milk)\", \"marker\": {\"color\": \"#19d3f3\", \"symbol\": \"circle\"}, \"mode\": \"markers\", \"name\": \"Nutrition bar (Tiger's Milk)\", \"orientation\": \"v\", \"showlegend\": true, \"type\": \"scatter\", \"x\": [-32.9805793762207], \"xaxis\": \"x\", \"y\": [-26.208669662475586], \"yaxis\": \"y\"}, {\"hovertemplate\": \"color=Milk chocolate candy<br>0=%{x}<br>1=%{y}<extra></extra>\", \"legendgroup\": \"Milk chocolate candy\", \"marker\": {\"color\": \"#FF6692\", \"symbol\": \"circle\"}, \"mode\": \"markers\", \"name\": \"Milk chocolate candy\", \"orientation\": \"v\", \"showlegend\": true, \"type\": \"scatter\", \"x\": [-29.682870864868164, -29.243253707885742, -30.212039947509766, -30.746082305908203], \"xaxis\": \"x\", \"y\": [-33.25529479980469, -32.751338958740234, -32.05369186401367, -33.326515197753906], \"yaxis\": \"y\"}, {\"hovertemplate\": \"color=M&M's Milk Chocolate Candies<br>0=%{x}<br>1=%{y}<extra></extra>\", \"legendgroup\": \"M&M's Milk Chocolate Candies\", \"marker\": {\"color\": \"#B6E880\", \"symbol\": \"circle\"}, \"mode\": \"markers\", \"name\": \"M&M's Milk Chocolate Candies\", \"orientation\": \"v\", \"showlegend\": true, \"type\": \"scatter\", \"x\": [-30.276147842407227], \"xaxis\": \"x\", \"y\": [-30.866052627563477], \"yaxis\": \"y\"}, {\"hovertemplate\": \"color=Oatmeal beverage with milk<br>0=%{x}<br>1=%{y}<extra></extra>\", \"legendgroup\": \"Oatmeal beverage with milk\", \"marker\": {\"color\": \"#FF97FF\", \"symbol\": \"circle\"}, \"mode\": \"markers\", \"name\": \"Oatmeal beverage with milk\", \"orientation\": \"v\", \"showlegend\": true, \"type\": \"scatter\", \"x\": [10.716963768005371], \"xaxis\": \"x\", \"y\": [-18.93467903137207], \"yaxis\": \"y\"}, {\"hovertemplate\": \"color=Cornmeal beverage with chocolate milk<br>0=%{x}<br>1=%{y}<extra></extra>\", \"legendgroup\": \"Cornmeal beverage with chocolate milk\", \"marker\": {\"color\": \"#FECB52\", \"symbol\": \"circle\"}, \"mode\": \"markers\", \"name\": \"Cornmeal beverage with chocolate milk\", \"orientation\": \"v\", \"showlegend\": true, \"type\": \"scatter\", \"x\": [-3.6318581104278564], \"xaxis\": \"x\", \"y\": [-0.7143083810806274], \"yaxis\": \"y\"}, {\"hovertemplate\": \"color=Nutritional powder mix (Muscle Milk)<br>0=%{x}<br>1=%{y}<extra></extra>\", \"legendgroup\": \"Nutritional powder mix (Muscle Milk)\", \"marker\": {\"color\": \"#636efa\", \"symbol\": \"circle\"}, \"mode\": \"markers\", \"name\": \"Nutritional powder mix (Muscle Milk)\", \"orientation\": \"v\", \"showlegend\": true, \"type\": \"scatter\", \"x\": [-34.3869514465332], \"xaxis\": \"x\", \"y\": [-25.636308670043945], \"yaxis\": \"y\"}],                        {\"legend\": {\"title\": {\"text\": \"color\"}, \"tracegroupgap\": 0}, \"margin\": {\"t\": 60}, \"template\": {\"data\": {\"bar\": [{\"error_x\": {\"color\": \"#2a3f5f\"}, \"error_y\": {\"color\": \"#2a3f5f\"}, \"marker\": {\"line\": {\"color\": \"#E5ECF6\", \"width\": 0.5}}, \"type\": \"bar\"}], \"barpolar\": [{\"marker\": {\"line\": {\"color\": \"#E5ECF6\", \"width\": 0.5}}, \"type\": \"barpolar\"}], \"carpet\": [{\"aaxis\": {\"endlinecolor\": \"#2a3f5f\", \"gridcolor\": \"white\", \"linecolor\": \"white\", \"minorgridcolor\": \"white\", \"startlinecolor\": \"#2a3f5f\"}, \"baxis\": {\"endlinecolor\": \"#2a3f5f\", \"gridcolor\": \"white\", \"linecolor\": \"white\", \"minorgridcolor\": \"white\", \"startlinecolor\": \"#2a3f5f\"}, \"type\": \"carpet\"}], \"choropleth\": [{\"colorbar\": {\"outlinewidth\": 0, \"ticks\": \"\"}, \"type\": \"choropleth\"}], \"contour\": [{\"colorbar\": {\"outlinewidth\": 0, \"ticks\": \"\"}, \"colorscale\": [[0.0, \"#0d0887\"], [0.1111111111111111, \"#46039f\"], [0.2222222222222222, \"#7201a8\"], [0.3333333333333333, \"#9c179e\"], [0.4444444444444444, \"#bd3786\"], [0.5555555555555556, \"#d8576b\"], [0.6666666666666666, \"#ed7953\"], [0.7777777777777778, \"#fb9f3a\"], [0.8888888888888888, \"#fdca26\"], [1.0, \"#f0f921\"]], \"type\": \"contour\"}], \"contourcarpet\": [{\"colorbar\": {\"outlinewidth\": 0, \"ticks\": \"\"}, \"type\": \"contourcarpet\"}], \"heatmap\": [{\"colorbar\": {\"outlinewidth\": 0, \"ticks\": \"\"}, \"colorscale\": [[0.0, \"#0d0887\"], [0.1111111111111111, \"#46039f\"], [0.2222222222222222, \"#7201a8\"], [0.3333333333333333, \"#9c179e\"], [0.4444444444444444, \"#bd3786\"], [0.5555555555555556, \"#d8576b\"], [0.6666666666666666, \"#ed7953\"], [0.7777777777777778, \"#fb9f3a\"], [0.8888888888888888, \"#fdca26\"], [1.0, \"#f0f921\"]], \"type\": \"heatmap\"}], \"heatmapgl\": [{\"colorbar\": {\"outlinewidth\": 0, \"ticks\": \"\"}, \"colorscale\": [[0.0, \"#0d0887\"], [0.1111111111111111, \"#46039f\"], [0.2222222222222222, \"#7201a8\"], [0.3333333333333333, \"#9c179e\"], [0.4444444444444444, \"#bd3786\"], [0.5555555555555556, \"#d8576b\"], [0.6666666666666666, \"#ed7953\"], [0.7777777777777778, \"#fb9f3a\"], [0.8888888888888888, \"#fdca26\"], [1.0, \"#f0f921\"]], \"type\": \"heatmapgl\"}], \"histogram\": [{\"marker\": {\"colorbar\": {\"outlinewidth\": 0, \"ticks\": \"\"}}, \"type\": \"histogram\"}], \"histogram2d\": [{\"colorbar\": {\"outlinewidth\": 0, \"ticks\": \"\"}, \"colorscale\": [[0.0, \"#0d0887\"], [0.1111111111111111, \"#46039f\"], [0.2222222222222222, \"#7201a8\"], [0.3333333333333333, \"#9c179e\"], [0.4444444444444444, \"#bd3786\"], [0.5555555555555556, \"#d8576b\"], [0.6666666666666666, \"#ed7953\"], [0.7777777777777778, \"#fb9f3a\"], [0.8888888888888888, \"#fdca26\"], [1.0, \"#f0f921\"]], \"type\": \"histogram2d\"}], \"histogram2dcontour\": [{\"colorbar\": {\"outlinewidth\": 0, \"ticks\": \"\"}, \"colorscale\": [[0.0, \"#0d0887\"], [0.1111111111111111, \"#46039f\"], [0.2222222222222222, \"#7201a8\"], [0.3333333333333333, \"#9c179e\"], [0.4444444444444444, \"#bd3786\"], [0.5555555555555556, \"#d8576b\"], [0.6666666666666666, \"#ed7953\"], [0.7777777777777778, \"#fb9f3a\"], [0.8888888888888888, \"#fdca26\"], [1.0, \"#f0f921\"]], \"type\": \"histogram2dcontour\"}], \"mesh3d\": [{\"colorbar\": {\"outlinewidth\": 0, \"ticks\": \"\"}, \"type\": \"mesh3d\"}], \"parcoords\": [{\"line\": {\"colorbar\": {\"outlinewidth\": 0, \"ticks\": \"\"}}, \"type\": \"parcoords\"}], \"pie\": [{\"automargin\": true, \"type\": \"pie\"}], \"scatter\": [{\"marker\": {\"colorbar\": {\"outlinewidth\": 0, \"ticks\": \"\"}}, \"type\": \"scatter\"}], \"scatter3d\": [{\"line\": {\"colorbar\": {\"outlinewidth\": 0, \"ticks\": \"\"}}, \"marker\": {\"colorbar\": {\"outlinewidth\": 0, \"ticks\": \"\"}}, \"type\": \"scatter3d\"}], \"scattercarpet\": [{\"marker\": {\"colorbar\": {\"outlinewidth\": 0, \"ticks\": \"\"}}, \"type\": \"scattercarpet\"}], \"scattergeo\": [{\"marker\": {\"colorbar\": {\"outlinewidth\": 0, \"ticks\": \"\"}}, \"type\": \"scattergeo\"}], \"scattergl\": [{\"marker\": {\"colorbar\": {\"outlinewidth\": 0, \"ticks\": \"\"}}, \"type\": \"scattergl\"}], \"scattermapbox\": [{\"marker\": {\"colorbar\": {\"outlinewidth\": 0, \"ticks\": \"\"}}, \"type\": \"scattermapbox\"}], \"scatterpolar\": [{\"marker\": {\"colorbar\": {\"outlinewidth\": 0, \"ticks\": \"\"}}, \"type\": \"scatterpolar\"}], \"scatterpolargl\": [{\"marker\": {\"colorbar\": {\"outlinewidth\": 0, \"ticks\": \"\"}}, \"type\": \"scatterpolargl\"}], \"scatterternary\": [{\"marker\": {\"colorbar\": {\"outlinewidth\": 0, \"ticks\": \"\"}}, \"type\": \"scatterternary\"}], \"surface\": [{\"colorbar\": {\"outlinewidth\": 0, \"ticks\": \"\"}, \"colorscale\": [[0.0, \"#0d0887\"], [0.1111111111111111, \"#46039f\"], [0.2222222222222222, \"#7201a8\"], [0.3333333333333333, \"#9c179e\"], [0.4444444444444444, \"#bd3786\"], [0.5555555555555556, \"#d8576b\"], [0.6666666666666666, \"#ed7953\"], [0.7777777777777778, \"#fb9f3a\"], [0.8888888888888888, \"#fdca26\"], [1.0, \"#f0f921\"]], \"type\": \"surface\"}], \"table\": [{\"cells\": {\"fill\": {\"color\": \"#EBF0F8\"}, \"line\": {\"color\": \"white\"}}, \"header\": {\"fill\": {\"color\": \"#C8D4E3\"}, \"line\": {\"color\": \"white\"}}, \"type\": \"table\"}]}, \"layout\": {\"annotationdefaults\": {\"arrowcolor\": \"#2a3f5f\", \"arrowhead\": 0, \"arrowwidth\": 1}, \"autotypenumbers\": \"strict\", \"coloraxis\": {\"colorbar\": {\"outlinewidth\": 0, \"ticks\": \"\"}}, \"colorscale\": {\"diverging\": [[0, \"#8e0152\"], [0.1, \"#c51b7d\"], [0.2, \"#de77ae\"], [0.3, \"#f1b6da\"], [0.4, \"#fde0ef\"], [0.5, \"#f7f7f7\"], [0.6, \"#e6f5d0\"], [0.7, \"#b8e186\"], [0.8, \"#7fbc41\"], [0.9, \"#4d9221\"], [1, \"#276419\"]], \"sequential\": [[0.0, \"#0d0887\"], [0.1111111111111111, \"#46039f\"], [0.2222222222222222, \"#7201a8\"], [0.3333333333333333, \"#9c179e\"], [0.4444444444444444, \"#bd3786\"], [0.5555555555555556, \"#d8576b\"], [0.6666666666666666, \"#ed7953\"], [0.7777777777777778, \"#fb9f3a\"], [0.8888888888888888, \"#fdca26\"], [1.0, \"#f0f921\"]], \"sequentialminus\": [[0.0, \"#0d0887\"], [0.1111111111111111, \"#46039f\"], [0.2222222222222222, \"#7201a8\"], [0.3333333333333333, \"#9c179e\"], [0.4444444444444444, \"#bd3786\"], [0.5555555555555556, \"#d8576b\"], [0.6666666666666666, \"#ed7953\"], [0.7777777777777778, \"#fb9f3a\"], [0.8888888888888888, \"#fdca26\"], [1.0, \"#f0f921\"]]}, \"colorway\": [\"#636efa\", \"#EF553B\", \"#00cc96\", \"#ab63fa\", \"#FFA15A\", \"#19d3f3\", \"#FF6692\", \"#B6E880\", \"#FF97FF\", \"#FECB52\"], \"font\": {\"color\": \"#2a3f5f\"}, \"geo\": {\"bgcolor\": \"white\", \"lakecolor\": \"white\", \"landcolor\": \"#E5ECF6\", \"showlakes\": true, \"showland\": true, \"subunitcolor\": \"white\"}, \"hoverlabel\": {\"align\": \"left\"}, \"hovermode\": \"closest\", \"mapbox\": {\"style\": \"light\"}, \"paper_bgcolor\": \"white\", \"plot_bgcolor\": \"#E5ECF6\", \"polar\": {\"angularaxis\": {\"gridcolor\": \"white\", \"linecolor\": \"white\", \"ticks\": \"\"}, \"bgcolor\": \"#E5ECF6\", \"radialaxis\": {\"gridcolor\": \"white\", \"linecolor\": \"white\", \"ticks\": \"\"}}, \"scene\": {\"xaxis\": {\"backgroundcolor\": \"#E5ECF6\", \"gridcolor\": \"white\", \"gridwidth\": 2, \"linecolor\": \"white\", \"showbackground\": true, \"ticks\": \"\", \"zerolinecolor\": \"white\"}, \"yaxis\": {\"backgroundcolor\": \"#E5ECF6\", \"gridcolor\": \"white\", \"gridwidth\": 2, \"linecolor\": \"white\", \"showbackground\": true, \"ticks\": \"\", \"zerolinecolor\": \"white\"}, \"zaxis\": {\"backgroundcolor\": \"#E5ECF6\", \"gridcolor\": \"white\", \"gridwidth\": 2, \"linecolor\": \"white\", \"showbackground\": true, \"ticks\": \"\", \"zerolinecolor\": \"white\"}}, \"shapedefaults\": {\"line\": {\"color\": \"#2a3f5f\"}}, \"ternary\": {\"aaxis\": {\"gridcolor\": \"white\", \"linecolor\": \"white\", \"ticks\": \"\"}, \"baxis\": {\"gridcolor\": \"white\", \"linecolor\": \"white\", \"ticks\": \"\"}, \"bgcolor\": \"#E5ECF6\", \"caxis\": {\"gridcolor\": \"white\", \"linecolor\": \"white\", \"ticks\": \"\"}}, \"title\": {\"x\": 0.05}, \"xaxis\": {\"automargin\": true, \"gridcolor\": \"white\", \"linecolor\": \"white\", \"ticks\": \"\", \"title\": {\"standoff\": 15}, \"zerolinecolor\": \"white\", \"zerolinewidth\": 2}, \"yaxis\": {\"automargin\": true, \"gridcolor\": \"white\", \"linecolor\": \"white\", \"ticks\": \"\", \"title\": {\"standoff\": 15}, \"zerolinecolor\": \"white\", \"zerolinewidth\": 2}}}, \"xaxis\": {\"anchor\": \"y\", \"domain\": [0.0, 1.0], \"title\": {\"text\": \"0\"}}, \"yaxis\": {\"anchor\": \"x\", \"domain\": [0.0, 1.0], \"title\": {\"text\": \"1\"}}},                        {\"responsive\": true}                    ).then(function(){\n",
              "                            \n",
              "var gd = document.getElementById('7c495dc7-1f09-410e-9ecb-8d9bbec6f40c');\n",
              "var x = new MutationObserver(function (mutations, observer) {{\n",
              "        var display = window.getComputedStyle(gd).display;\n",
              "        if (!display || display === 'none') {{\n",
              "            console.log([gd, 'removed!']);\n",
              "            Plotly.purge(gd);\n",
              "            observer.disconnect();\n",
              "        }}\n",
              "}});\n",
              "\n",
              "// Listen for the removal of the full notebook cells\n",
              "var notebookContainer = gd.closest('#notebook-container');\n",
              "if (notebookContainer) {{\n",
              "    x.observe(notebookContainer, {childList: true});\n",
              "}}\n",
              "\n",
              "// Listen for the clearing of the current output cell\n",
              "var outputEl = gd.closest('.output');\n",
              "if (outputEl) {{\n",
              "    x.observe(outputEl, {childList: true});\n",
              "}}\n",
              "\n",
              "                        })                };                            </script>        </div>\n",
              "</body>\n",
              "</html>"
            ]
          },
          "metadata": {}
        }
      ]
    },
    {
      "cell_type": "markdown",
      "source": [
        "## TriMap\n",
        "\n",
        "Triplets Mapping (TriMap) is a dimensionality reduction method that uses triplet constraints to form a low-dimensional embedding of a set of points. The triplet constraints are of the form “point i is closer to point j than point k”. The triplets are sampled from the high-dimensional representation of the points and a weighting scheme is used to reflect the importance of each triplet.\n",
        "\n",
        "https://github.com/eamid/trimap\n"
      ],
      "metadata": {
        "id": "6mRo2tBNGORe"
      }
    },
    {
      "cell_type": "code",
      "source": [
        "X_trimap = trimap.TRIMAP().fit_transform(xscaled)\n",
        "\n",
        "fig = px.scatter(X_trimap, x=0, y=1, color=labels.astype(object))\n",
        "fig.show()"
      ],
      "metadata": {
        "colab": {
          "base_uri": "https://localhost:8080/",
          "height": 542
        },
        "id": "qKPkXH31GeVc",
        "outputId": "659f2515-e540-4fcb-c745-44ead6f75e10"
      },
      "execution_count": 56,
      "outputs": [
        {
          "output_type": "display_data",
          "data": {
            "text/html": [
              "<html>\n",
              "<head><meta charset=\"utf-8\" /></head>\n",
              "<body>\n",
              "    <div>            <script src=\"https://cdnjs.cloudflare.com/ajax/libs/mathjax/2.7.5/MathJax.js?config=TeX-AMS-MML_SVG\"></script><script type=\"text/javascript\">if (window.MathJax) {MathJax.Hub.Config({SVG: {font: \"STIX-Web\"}});}</script>                <script type=\"text/javascript\">window.PlotlyConfig = {MathJaxConfig: 'local'};</script>\n",
              "        <script src=\"https://cdn.plot.ly/plotly-latest.min.js\"></script>                <div id=\"270e5bad-a62f-44d3-903e-ddca63c20c6e\" class=\"plotly-graph-div\" style=\"height:525px; width:100%;\"></div>            <script type=\"text/javascript\">                                    window.PLOTLYENV=window.PLOTLYENV || {};                                    if (document.getElementById(\"270e5bad-a62f-44d3-903e-ddca63c20c6e\")) {                    Plotly.newPlot(                        \"270e5bad-a62f-44d3-903e-ddca63c20c6e\",                        [{\"hovertemplate\": \"color=Milk<br>0=%{x}<br>1=%{y}<extra></extra>\", \"legendgroup\": \"Milk\", \"marker\": {\"color\": \"#636efa\", \"symbol\": \"circle\"}, \"mode\": \"markers\", \"name\": \"Milk\", \"orientation\": \"v\", \"showlegend\": true, \"type\": \"scatter\", \"x\": [20.3129825592041, -28.385679244995117, 0.923327624797821, 4.510202407836914, 0.5189309120178223, -25.64048957824707, -16.262521743774414, -31.476490020751953, -26.29741668701172, -31.4564151763916, -25.33631134033203, -24.424840927124023, -26.410675048828125, -25.186723709106445, -33.18095397949219, -0.5684462189674377, -22.52057647705078, 2.7959372997283936, -23.13131332397461, -21.557199478149414, 42.927589416503906, 39.624664306640625, 33.951683044433594, 12.497941017150879, 66.1924819946289, -13.81403923034668, 73.20124053955078, 74.36874389648438, 71.45618438720703, 74.56888580322266, 75.54739379882812], \"xaxis\": \"x\", \"y\": [-5.962921142578125, -2.9460010528564453, -10.29848575592041, -10.488948822021484, -10.433157920837402, 1.606728196144104, 9.190628051757812, -2.948183298110962, 1.0102633237838745, -3.369978427886963, 1.8911573886871338, 2.0784568786621094, 0.5948550701141357, 1.3708804845809937, -3.597385883331299, -10.982640266418457, 3.029130220413208, -10.510244369506836, 2.6628293991088867, 3.8178043365478516, -2.6373865604400635, -3.0399136543273926, -1.2604649066925049, 1.5006275177001953, 1.5218315124511719, -19.444869995117188, 2.551069498062134, 2.903474807739258, 2.933706283569336, 2.765984296798706, 3.016824722290039], \"yaxis\": \"y\"}, {\"hovertemplate\": \"color=Buttermilk<br>0=%{x}<br>1=%{y}<extra></extra>\", \"legendgroup\": \"Buttermilk\", \"marker\": {\"color\": \"#EF553B\", \"symbol\": \"circle\"}, \"mode\": \"markers\", \"name\": \"Buttermilk\", \"orientation\": \"v\", \"showlegend\": true, \"type\": \"scatter\", \"x\": [-6.739516735076904, -5.686485767364502, -5.520449638366699, 1.4857256412506104], \"xaxis\": \"x\", \"y\": [7.173341274261475, 4.854784965515137, 2.3586530685424805, -5.101139068603516], \"yaxis\": \"y\"}, {\"hovertemplate\": \"color=Goat's milk<br>0=%{x}<br>1=%{y}<extra></extra>\", \"legendgroup\": \"Goat's milk\", \"marker\": {\"color\": \"#00cc96\", \"symbol\": \"circle\"}, \"mode\": \"markers\", \"name\": \"Goat's milk\", \"orientation\": \"v\", \"showlegend\": true, \"type\": \"scatter\", \"x\": [3.7383642196655273], \"xaxis\": \"x\", \"y\": [-9.964547157287598], \"yaxis\": \"y\"}, {\"hovertemplate\": \"color=Non-dairy milk<br>0=%{x}<br>1=%{y}<extra></extra>\", \"legendgroup\": \"Non-dairy milk\", \"marker\": {\"color\": \"#ab63fa\", \"symbol\": \"circle\"}, \"mode\": \"markers\", \"name\": \"Non-dairy milk\", \"orientation\": \"v\", \"showlegend\": true, \"type\": \"scatter\", \"x\": [-4.953248023986816], \"xaxis\": \"x\", \"y\": [43.829315185546875], \"yaxis\": \"y\"}, {\"hovertemplate\": \"color=Soy milk<br>0=%{x}<br>1=%{y}<extra></extra>\", \"legendgroup\": \"Soy milk\", \"marker\": {\"color\": \"#FFA15A\", \"symbol\": \"circle\"}, \"mode\": \"markers\", \"name\": \"Soy milk\", \"orientation\": \"v\", \"showlegend\": true, \"type\": \"scatter\", \"x\": [-2.5898385047912598, -4.107536792755127, -2.511995553970337, -2.7345800399780273, -1.8059351444244385, -1.2864768505096436], \"xaxis\": \"x\", \"y\": [50.41999053955078, 48.98408889770508, 51.05430603027344, 50.467369079589844, 51.52875518798828, 51.882568359375], \"yaxis\": \"y\"}, {\"hovertemplate\": \"color=Almond milk<br>0=%{x}<br>1=%{y}<extra></extra>\", \"legendgroup\": \"Almond milk\", \"marker\": {\"color\": \"#19d3f3\", \"symbol\": \"circle\"}, \"mode\": \"markers\", \"name\": \"Almond milk\", \"orientation\": \"v\", \"showlegend\": true, \"type\": \"scatter\", \"x\": [-6.799939155578613, -6.298891067504883, -6.854725360870361, -6.9301347732543945], \"xaxis\": \"x\", \"y\": [33.45631790161133, 34.65724182128906, 31.36684799194336, 33.163692474365234], \"yaxis\": \"y\"}, {\"hovertemplate\": \"color=Rice milk<br>0=%{x}<br>1=%{y}<extra></extra>\", \"legendgroup\": \"Rice milk\", \"marker\": {\"color\": \"#FF6692\", \"symbol\": \"circle\"}, \"mode\": \"markers\", \"name\": \"Rice milk\", \"orientation\": \"v\", \"showlegend\": true, \"type\": \"scatter\", \"x\": [-7.914468765258789], \"xaxis\": \"x\", \"y\": [23.097414016723633], \"yaxis\": \"y\"}, {\"hovertemplate\": \"color=Coconut milk<br>0=%{x}<br>1=%{y}<extra></extra>\", \"legendgroup\": \"Coconut milk\", \"marker\": {\"color\": \"#B6E880\", \"symbol\": \"circle\"}, \"mode\": \"markers\", \"name\": \"Coconut milk\", \"orientation\": \"v\", \"showlegend\": true, \"type\": \"scatter\", \"x\": [-7.187859535217285, 56.98386764526367], \"xaxis\": \"x\", \"y\": [28.373151779174805, 1.1111873388290405], \"yaxis\": \"y\"}, {\"hovertemplate\": \"color=Chocolate milk<br>0=%{x}<br>1=%{y}<extra></extra>\", \"legendgroup\": \"Chocolate milk\", \"marker\": {\"color\": \"#FF97FF\", \"symbol\": \"circle\"}, \"mode\": \"markers\", \"name\": \"Chocolate milk\", \"orientation\": \"v\", \"showlegend\": true, \"type\": \"scatter\", \"x\": [-1.4621095657348633, 1.0904902219772339, 1.1099313497543335, -1.2377231121063232, -5.1864142417907715, -7.8158087730407715, -5.581049919128418, -1.6293672323226929, -5.963753700256348, -15.830724716186523, -3.653914451599121, -16.724449157714844, -18.753948211669922, -19.511232376098633, -5.082129001617432, -17.495943069458008, -15.715625762939453, -19.080902099609375, -18.018722534179688, -20.105209350585938, -3.185465097427368, -15.697879791259766, -4.378604888916016, -16.84585952758789, -18.607288360595703, -18.97031021118164, -4.123464107513428, -18.422636032104492, -16.9326114654541, -17.7989559173584, -20.443998336791992, -19.90473175048828, -4.542325019836426, -14.33227825164795, -5.001196384429932, -16.045927047729492, -19.142446517944336, -19.124427795410156, -4.990727424621582, -16.793439865112305, -2.834235191345215, -16.40022850036621, -19.936540603637695, -21.186016082763672, -5.396539211273193, -2.9491512775421143, 3.154554843902588, -3.413790702819824, -5.305538177490234, -5.331602096557617, -4.096675872802734], \"xaxis\": \"x\", \"y\": [-0.007427038624882698, -8.514900207519531, -3.7067363262176514, 0.32667773962020874, 1.2462400197982788, 2.86545467376709, 1.285711646080017, 0.10326194763183594, 1.231605052947998, -15.913331985473633, -12.411774635314941, -15.101757049560547, -14.244773864746094, -13.567756652832031, 47.518863677978516, -43.297142028808594, -41.34041976928711, -45.00368118286133, -43.51899719238281, -45.393795013427734, 46.793800354003906, -15.129003524780273, -13.408528327941895, -15.69932746887207, -14.325752258300781, -14.250609397888184, 46.99739456176758, -42.42789840698242, -43.4705810546875, -43.407196044921875, -44.83244705200195, -45.79280090332031, 47.56767654418945, -11.226436614990234, -11.779192924499512, -10.455415725708008, -10.037419319152832, -11.312339782714844, 46.281654357910156, -9.723016738891602, -11.755417823791504, -10.067452430725098, -8.786672592163086, -7.950188636779785, 47.076473236083984, 9.55294132232666, -2.8681769371032715, 10.365152359008789, 10.835602760314941, 11.290764808654785, 46.27191162109375], \"yaxis\": \"y\"}, {\"hovertemplate\": \"color=Strawberry milk<br>0=%{x}<br>1=%{y}<extra></extra>\", \"legendgroup\": \"Strawberry milk\", \"marker\": {\"color\": \"#FECB52\", \"symbol\": \"circle\"}, \"mode\": \"markers\", \"name\": \"Strawberry milk\", \"orientation\": \"v\", \"showlegend\": true, \"type\": \"scatter\", \"x\": [-32.4348258972168, -3.849915027618408, -15.900924682617188, -18.953380584716797, -18.973966598510742, -26.340078353881836, -5.004886150360107], \"xaxis\": \"x\", \"y\": [-3.700456380844116, -11.934808731079102, -11.443663597106934, -11.17449951171875, -11.291813850402832, -0.2317688763141632, 45.936405181884766], \"yaxis\": \"y\"}, {\"hovertemplate\": \"color=Milk shake<br>0=%{x}<br>1=%{y}<extra></extra>\", \"legendgroup\": \"Milk shake\", \"marker\": {\"color\": \"#636efa\", \"symbol\": \"circle\"}, \"mode\": \"markers\", \"name\": \"Milk shake\", \"orientation\": \"v\", \"showlegend\": true, \"type\": \"scatter\", \"x\": [32.06278610229492, 29.962726593017578, 28.454330444335938, -6.368656635284424, 51.760276794433594, 49.11388397216797, 51.13493728637695, 46.46537780761719], \"xaxis\": \"x\", \"y\": [-4.5133867263793945, -6.249812602996826, -2.7262895107269287, -11.410107612609863, -0.5260049104690552, -1.3155112266540527, -0.7971852421760559, -1.8547346591949463], \"yaxis\": \"y\"}, {\"hovertemplate\": \"color=Milk shake with malt<br>0=%{x}<br>1=%{y}<extra></extra>\", \"legendgroup\": \"Milk shake with malt\", \"marker\": {\"color\": \"#EF553B\", \"symbol\": \"circle\"}, \"mode\": \"markers\", \"name\": \"Milk shake with malt\", \"orientation\": \"v\", \"showlegend\": true, \"type\": \"scatter\", \"x\": [37.699195861816406], \"xaxis\": \"x\", \"y\": [-3.853508949279785], \"yaxis\": \"y\"}, {\"hovertemplate\": \"color=Chocolate milk drink<br>0=%{x}<br>1=%{y}<extra></extra>\", \"legendgroup\": \"Chocolate milk drink\", \"marker\": {\"color\": \"#00cc96\", \"symbol\": \"circle\"}, \"mode\": \"markers\", \"name\": \"Chocolate milk drink\", \"orientation\": \"v\", \"showlegend\": true, \"type\": \"scatter\", \"x\": [-4.031238079071045], \"xaxis\": \"x\", \"y\": [19.38033103942871], \"yaxis\": \"y\"}, {\"hovertemplate\": \"color=Milk dessert or milk candy<br>0=%{x}<br>1=%{y}<extra></extra>\", \"legendgroup\": \"Milk dessert or milk candy\", \"marker\": {\"color\": \"#ab63fa\", \"symbol\": \"circle\"}, \"mode\": \"markers\", \"name\": \"Milk dessert or milk candy\", \"orientation\": \"v\", \"showlegend\": true, \"type\": \"scatter\", \"x\": [65.82083129882812], \"xaxis\": \"x\", \"y\": [1.2379430532455444], \"yaxis\": \"y\"}, {\"hovertemplate\": \"color=Milk 'n Cereal bar<br>0=%{x}<br>1=%{y}<extra></extra>\", \"legendgroup\": \"Milk 'n Cereal bar\", \"marker\": {\"color\": \"#FFA15A\", \"symbol\": \"circle\"}, \"mode\": \"markers\", \"name\": \"Milk 'n Cereal bar\", \"orientation\": \"v\", \"showlegend\": true, \"type\": \"scatter\", \"x\": [69.22662353515625], \"xaxis\": \"x\", \"y\": [2.6479246616363525], \"yaxis\": \"y\"}, {\"hovertemplate\": \"color=Nutrition bar (Tiger's Milk)<br>0=%{x}<br>1=%{y}<extra></extra>\", \"legendgroup\": \"Nutrition bar (Tiger's Milk)\", \"marker\": {\"color\": \"#19d3f3\", \"symbol\": \"circle\"}, \"mode\": \"markers\", \"name\": \"Nutrition bar (Tiger's Milk)\", \"orientation\": \"v\", \"showlegend\": true, \"type\": \"scatter\", \"x\": [70.37963104248047], \"xaxis\": \"x\", \"y\": [3.0402979850769043], \"yaxis\": \"y\"}, {\"hovertemplate\": \"color=Milk chocolate candy<br>0=%{x}<br>1=%{y}<extra></extra>\", \"legendgroup\": \"Milk chocolate candy\", \"marker\": {\"color\": \"#FF6692\", \"symbol\": \"circle\"}, \"mode\": \"markers\", \"name\": \"Milk chocolate candy\", \"orientation\": \"v\", \"showlegend\": true, \"type\": \"scatter\", \"x\": [66.63151550292969, 66.4039077758789, 66.06256103515625, 69.10430908203125], \"xaxis\": \"x\", \"y\": [3.5728983879089355, 3.102372407913208, 2.9900715351104736, 3.029541015625], \"yaxis\": \"y\"}, {\"hovertemplate\": \"color=M&M's Milk Chocolate Candies<br>0=%{x}<br>1=%{y}<extra></extra>\", \"legendgroup\": \"M&M's Milk Chocolate Candies\", \"marker\": {\"color\": \"#B6E880\", \"symbol\": \"circle\"}, \"mode\": \"markers\", \"name\": \"M&M's Milk Chocolate Candies\", \"orientation\": \"v\", \"showlegend\": true, \"type\": \"scatter\", \"x\": [66.49085235595703], \"xaxis\": \"x\", \"y\": [2.742654323577881], \"yaxis\": \"y\"}, {\"hovertemplate\": \"color=Oatmeal beverage with milk<br>0=%{x}<br>1=%{y}<extra></extra>\", \"legendgroup\": \"Oatmeal beverage with milk\", \"marker\": {\"color\": \"#FF97FF\", \"symbol\": \"circle\"}, \"mode\": \"markers\", \"name\": \"Oatmeal beverage with milk\", \"orientation\": \"v\", \"showlegend\": true, \"type\": \"scatter\", \"x\": [9.983203887939453], \"xaxis\": \"x\", \"y\": [13.188339233398438], \"yaxis\": \"y\"}, {\"hovertemplate\": \"color=Cornmeal beverage with chocolate milk<br>0=%{x}<br>1=%{y}<extra></extra>\", \"legendgroup\": \"Cornmeal beverage with chocolate milk\", \"marker\": {\"color\": \"#FECB52\", \"symbol\": \"circle\"}, \"mode\": \"markers\", \"name\": \"Cornmeal beverage with chocolate milk\", \"orientation\": \"v\", \"showlegend\": true, \"type\": \"scatter\", \"x\": [21.32325553894043], \"xaxis\": \"x\", \"y\": [1.6670907735824585], \"yaxis\": \"y\"}, {\"hovertemplate\": \"color=Nutritional powder mix (Muscle Milk)<br>0=%{x}<br>1=%{y}<extra></extra>\", \"legendgroup\": \"Nutritional powder mix (Muscle Milk)\", \"marker\": {\"color\": \"#636efa\", \"symbol\": \"circle\"}, \"mode\": \"markers\", \"name\": \"Nutritional powder mix (Muscle Milk)\", \"orientation\": \"v\", \"showlegend\": true, \"type\": \"scatter\", \"x\": [71.19718933105469], \"xaxis\": \"x\", \"y\": [2.9607126712799072], \"yaxis\": \"y\"}],                        {\"legend\": {\"title\": {\"text\": \"color\"}, \"tracegroupgap\": 0}, \"margin\": {\"t\": 60}, \"template\": {\"data\": {\"bar\": [{\"error_x\": {\"color\": \"#2a3f5f\"}, \"error_y\": {\"color\": \"#2a3f5f\"}, \"marker\": {\"line\": {\"color\": \"#E5ECF6\", \"width\": 0.5}}, \"type\": \"bar\"}], \"barpolar\": [{\"marker\": {\"line\": {\"color\": \"#E5ECF6\", \"width\": 0.5}}, \"type\": \"barpolar\"}], \"carpet\": [{\"aaxis\": {\"endlinecolor\": \"#2a3f5f\", \"gridcolor\": \"white\", \"linecolor\": \"white\", \"minorgridcolor\": \"white\", \"startlinecolor\": \"#2a3f5f\"}, \"baxis\": {\"endlinecolor\": \"#2a3f5f\", \"gridcolor\": \"white\", \"linecolor\": \"white\", \"minorgridcolor\": \"white\", \"startlinecolor\": \"#2a3f5f\"}, \"type\": \"carpet\"}], \"choropleth\": [{\"colorbar\": {\"outlinewidth\": 0, \"ticks\": \"\"}, \"type\": \"choropleth\"}], \"contour\": [{\"colorbar\": {\"outlinewidth\": 0, \"ticks\": \"\"}, \"colorscale\": [[0.0, \"#0d0887\"], [0.1111111111111111, \"#46039f\"], [0.2222222222222222, \"#7201a8\"], [0.3333333333333333, \"#9c179e\"], [0.4444444444444444, \"#bd3786\"], [0.5555555555555556, \"#d8576b\"], [0.6666666666666666, \"#ed7953\"], [0.7777777777777778, \"#fb9f3a\"], [0.8888888888888888, \"#fdca26\"], [1.0, \"#f0f921\"]], \"type\": \"contour\"}], \"contourcarpet\": [{\"colorbar\": {\"outlinewidth\": 0, \"ticks\": \"\"}, \"type\": \"contourcarpet\"}], \"heatmap\": [{\"colorbar\": {\"outlinewidth\": 0, \"ticks\": \"\"}, \"colorscale\": [[0.0, \"#0d0887\"], [0.1111111111111111, \"#46039f\"], [0.2222222222222222, \"#7201a8\"], [0.3333333333333333, \"#9c179e\"], [0.4444444444444444, \"#bd3786\"], [0.5555555555555556, \"#d8576b\"], [0.6666666666666666, \"#ed7953\"], [0.7777777777777778, \"#fb9f3a\"], [0.8888888888888888, \"#fdca26\"], [1.0, \"#f0f921\"]], \"type\": \"heatmap\"}], \"heatmapgl\": [{\"colorbar\": {\"outlinewidth\": 0, \"ticks\": \"\"}, \"colorscale\": [[0.0, \"#0d0887\"], [0.1111111111111111, \"#46039f\"], [0.2222222222222222, \"#7201a8\"], [0.3333333333333333, \"#9c179e\"], [0.4444444444444444, \"#bd3786\"], [0.5555555555555556, \"#d8576b\"], [0.6666666666666666, \"#ed7953\"], [0.7777777777777778, \"#fb9f3a\"], [0.8888888888888888, \"#fdca26\"], [1.0, \"#f0f921\"]], \"type\": \"heatmapgl\"}], \"histogram\": [{\"marker\": {\"colorbar\": {\"outlinewidth\": 0, \"ticks\": \"\"}}, \"type\": \"histogram\"}], \"histogram2d\": [{\"colorbar\": {\"outlinewidth\": 0, \"ticks\": \"\"}, \"colorscale\": [[0.0, \"#0d0887\"], [0.1111111111111111, \"#46039f\"], [0.2222222222222222, \"#7201a8\"], [0.3333333333333333, \"#9c179e\"], [0.4444444444444444, \"#bd3786\"], [0.5555555555555556, \"#d8576b\"], [0.6666666666666666, \"#ed7953\"], [0.7777777777777778, \"#fb9f3a\"], [0.8888888888888888, \"#fdca26\"], [1.0, \"#f0f921\"]], \"type\": \"histogram2d\"}], \"histogram2dcontour\": [{\"colorbar\": {\"outlinewidth\": 0, \"ticks\": \"\"}, \"colorscale\": [[0.0, \"#0d0887\"], [0.1111111111111111, \"#46039f\"], [0.2222222222222222, \"#7201a8\"], [0.3333333333333333, \"#9c179e\"], [0.4444444444444444, \"#bd3786\"], [0.5555555555555556, \"#d8576b\"], [0.6666666666666666, \"#ed7953\"], [0.7777777777777778, \"#fb9f3a\"], [0.8888888888888888, \"#fdca26\"], [1.0, \"#f0f921\"]], \"type\": \"histogram2dcontour\"}], \"mesh3d\": [{\"colorbar\": {\"outlinewidth\": 0, \"ticks\": \"\"}, \"type\": \"mesh3d\"}], \"parcoords\": [{\"line\": {\"colorbar\": {\"outlinewidth\": 0, \"ticks\": \"\"}}, \"type\": \"parcoords\"}], \"pie\": [{\"automargin\": true, \"type\": \"pie\"}], \"scatter\": [{\"marker\": {\"colorbar\": {\"outlinewidth\": 0, \"ticks\": \"\"}}, \"type\": \"scatter\"}], \"scatter3d\": [{\"line\": {\"colorbar\": {\"outlinewidth\": 0, \"ticks\": \"\"}}, \"marker\": {\"colorbar\": {\"outlinewidth\": 0, \"ticks\": \"\"}}, \"type\": \"scatter3d\"}], \"scattercarpet\": [{\"marker\": {\"colorbar\": {\"outlinewidth\": 0, \"ticks\": \"\"}}, \"type\": \"scattercarpet\"}], \"scattergeo\": [{\"marker\": {\"colorbar\": {\"outlinewidth\": 0, \"ticks\": \"\"}}, \"type\": \"scattergeo\"}], \"scattergl\": [{\"marker\": {\"colorbar\": {\"outlinewidth\": 0, \"ticks\": \"\"}}, \"type\": \"scattergl\"}], \"scattermapbox\": [{\"marker\": {\"colorbar\": {\"outlinewidth\": 0, \"ticks\": \"\"}}, \"type\": \"scattermapbox\"}], \"scatterpolar\": [{\"marker\": {\"colorbar\": {\"outlinewidth\": 0, \"ticks\": \"\"}}, \"type\": \"scatterpolar\"}], \"scatterpolargl\": [{\"marker\": {\"colorbar\": {\"outlinewidth\": 0, \"ticks\": \"\"}}, \"type\": \"scatterpolargl\"}], \"scatterternary\": [{\"marker\": {\"colorbar\": {\"outlinewidth\": 0, \"ticks\": \"\"}}, \"type\": \"scatterternary\"}], \"surface\": [{\"colorbar\": {\"outlinewidth\": 0, \"ticks\": \"\"}, \"colorscale\": [[0.0, \"#0d0887\"], [0.1111111111111111, \"#46039f\"], [0.2222222222222222, \"#7201a8\"], [0.3333333333333333, \"#9c179e\"], [0.4444444444444444, \"#bd3786\"], [0.5555555555555556, \"#d8576b\"], [0.6666666666666666, \"#ed7953\"], [0.7777777777777778, \"#fb9f3a\"], [0.8888888888888888, \"#fdca26\"], [1.0, \"#f0f921\"]], \"type\": \"surface\"}], \"table\": [{\"cells\": {\"fill\": {\"color\": \"#EBF0F8\"}, \"line\": {\"color\": \"white\"}}, \"header\": {\"fill\": {\"color\": \"#C8D4E3\"}, \"line\": {\"color\": \"white\"}}, \"type\": \"table\"}]}, \"layout\": {\"annotationdefaults\": {\"arrowcolor\": \"#2a3f5f\", \"arrowhead\": 0, \"arrowwidth\": 1}, \"autotypenumbers\": \"strict\", \"coloraxis\": {\"colorbar\": {\"outlinewidth\": 0, \"ticks\": \"\"}}, \"colorscale\": {\"diverging\": [[0, \"#8e0152\"], [0.1, \"#c51b7d\"], [0.2, \"#de77ae\"], [0.3, \"#f1b6da\"], [0.4, \"#fde0ef\"], [0.5, \"#f7f7f7\"], [0.6, \"#e6f5d0\"], [0.7, \"#b8e186\"], [0.8, \"#7fbc41\"], [0.9, \"#4d9221\"], [1, \"#276419\"]], \"sequential\": [[0.0, \"#0d0887\"], [0.1111111111111111, \"#46039f\"], [0.2222222222222222, \"#7201a8\"], [0.3333333333333333, \"#9c179e\"], [0.4444444444444444, \"#bd3786\"], [0.5555555555555556, \"#d8576b\"], [0.6666666666666666, \"#ed7953\"], [0.7777777777777778, \"#fb9f3a\"], [0.8888888888888888, \"#fdca26\"], [1.0, \"#f0f921\"]], \"sequentialminus\": [[0.0, \"#0d0887\"], [0.1111111111111111, \"#46039f\"], [0.2222222222222222, \"#7201a8\"], [0.3333333333333333, \"#9c179e\"], [0.4444444444444444, \"#bd3786\"], [0.5555555555555556, \"#d8576b\"], [0.6666666666666666, \"#ed7953\"], [0.7777777777777778, \"#fb9f3a\"], [0.8888888888888888, \"#fdca26\"], [1.0, \"#f0f921\"]]}, \"colorway\": [\"#636efa\", \"#EF553B\", \"#00cc96\", \"#ab63fa\", \"#FFA15A\", \"#19d3f3\", \"#FF6692\", \"#B6E880\", \"#FF97FF\", \"#FECB52\"], \"font\": {\"color\": \"#2a3f5f\"}, \"geo\": {\"bgcolor\": \"white\", \"lakecolor\": \"white\", \"landcolor\": \"#E5ECF6\", \"showlakes\": true, \"showland\": true, \"subunitcolor\": \"white\"}, \"hoverlabel\": {\"align\": \"left\"}, \"hovermode\": \"closest\", \"mapbox\": {\"style\": \"light\"}, \"paper_bgcolor\": \"white\", \"plot_bgcolor\": \"#E5ECF6\", \"polar\": {\"angularaxis\": {\"gridcolor\": \"white\", \"linecolor\": \"white\", \"ticks\": \"\"}, \"bgcolor\": \"#E5ECF6\", \"radialaxis\": {\"gridcolor\": \"white\", \"linecolor\": \"white\", \"ticks\": \"\"}}, \"scene\": {\"xaxis\": {\"backgroundcolor\": \"#E5ECF6\", \"gridcolor\": \"white\", \"gridwidth\": 2, \"linecolor\": \"white\", \"showbackground\": true, \"ticks\": \"\", \"zerolinecolor\": \"white\"}, \"yaxis\": {\"backgroundcolor\": \"#E5ECF6\", \"gridcolor\": \"white\", \"gridwidth\": 2, \"linecolor\": \"white\", \"showbackground\": true, \"ticks\": \"\", \"zerolinecolor\": \"white\"}, \"zaxis\": {\"backgroundcolor\": \"#E5ECF6\", \"gridcolor\": \"white\", \"gridwidth\": 2, \"linecolor\": \"white\", \"showbackground\": true, \"ticks\": \"\", \"zerolinecolor\": \"white\"}}, \"shapedefaults\": {\"line\": {\"color\": \"#2a3f5f\"}}, \"ternary\": {\"aaxis\": {\"gridcolor\": \"white\", \"linecolor\": \"white\", \"ticks\": \"\"}, \"baxis\": {\"gridcolor\": \"white\", \"linecolor\": \"white\", \"ticks\": \"\"}, \"bgcolor\": \"#E5ECF6\", \"caxis\": {\"gridcolor\": \"white\", \"linecolor\": \"white\", \"ticks\": \"\"}}, \"title\": {\"x\": 0.05}, \"xaxis\": {\"automargin\": true, \"gridcolor\": \"white\", \"linecolor\": \"white\", \"ticks\": \"\", \"title\": {\"standoff\": 15}, \"zerolinecolor\": \"white\", \"zerolinewidth\": 2}, \"yaxis\": {\"automargin\": true, \"gridcolor\": \"white\", \"linecolor\": \"white\", \"ticks\": \"\", \"title\": {\"standoff\": 15}, \"zerolinecolor\": \"white\", \"zerolinewidth\": 2}}}, \"xaxis\": {\"anchor\": \"y\", \"domain\": [0.0, 1.0], \"title\": {\"text\": \"0\"}}, \"yaxis\": {\"anchor\": \"x\", \"domain\": [0.0, 1.0], \"title\": {\"text\": \"1\"}}},                        {\"responsive\": true}                    ).then(function(){\n",
              "                            \n",
              "var gd = document.getElementById('270e5bad-a62f-44d3-903e-ddca63c20c6e');\n",
              "var x = new MutationObserver(function (mutations, observer) {{\n",
              "        var display = window.getComputedStyle(gd).display;\n",
              "        if (!display || display === 'none') {{\n",
              "            console.log([gd, 'removed!']);\n",
              "            Plotly.purge(gd);\n",
              "            observer.disconnect();\n",
              "        }}\n",
              "}});\n",
              "\n",
              "// Listen for the removal of the full notebook cells\n",
              "var notebookContainer = gd.closest('#notebook-container');\n",
              "if (notebookContainer) {{\n",
              "    x.observe(notebookContainer, {childList: true});\n",
              "}}\n",
              "\n",
              "// Listen for the clearing of the current output cell\n",
              "var outputEl = gd.closest('.output');\n",
              "if (outputEl) {{\n",
              "    x.observe(outputEl, {childList: true});\n",
              "}}\n",
              "\n",
              "                        })                };                            </script>        </div>\n",
              "</body>\n",
              "</html>"
            ]
          },
          "metadata": {}
        }
      ]
    },
    {
      "cell_type": "markdown",
      "metadata": {
        "id": "yUKcj5sDh6h9"
      },
      "source": [
        "## Avaliação da Qualidade de Projeções\n",
        "\n",
        "### Neighborhood Preservation"
      ]
    },
    {
      "cell_type": "code",
      "metadata": {
        "id": "DoXAmWD_h_SB"
      },
      "source": [
        "kneigh = []\n",
        "y_tsne = []\n",
        "y_pca = []\n",
        "y_umap = []\n",
        "y_trimap = []\n",
        "\n",
        "for k in range(1,51):\n",
        "    precision = trustworthiness(xscaled, X_tsne, n_neighbors=k, metric='euclidean' )\n",
        "    kneigh.append(k)\n",
        "    y_tsne.append(precision)\n",
        "    precision = trustworthiness(xscaled, X_pca, n_neighbors=k, metric='euclidean')\n",
        "    y_pca.append(precision)\n",
        "    precision = trustworthiness(xscaled, X_umap, n_neighbors=k, metric='euclidean')\n",
        "    y_umap.append(precision)\n",
        "    precision = trustworthiness(xscaled, X_trimap, n_neighbors=k, metric='euclidean')\n",
        "    y_trimap.append(precision)\n",
        "    \n"
      ],
      "execution_count": 57,
      "outputs": []
    },
    {
      "cell_type": "markdown",
      "metadata": {
        "id": "kOZ7tqDDtm2E"
      },
      "source": [
        "Em seguida, podemos criar um gráfico de linhas:"
      ]
    },
    {
      "cell_type": "code",
      "metadata": {
        "id": "ledNhfYkqf7N",
        "colab": {
          "base_uri": "https://localhost:8080/",
          "height": 542
        },
        "outputId": "5a68cb85-a728-4c29-cac8-95c13269ac5a"
      },
      "source": [
        "fig = go.Figure()\n",
        "fig.add_trace(go.Scatter(x=kneigh, y=y_tsne,\n",
        "                    mode='lines+markers',\n",
        "                    name='t-SNE'))\n",
        "fig.add_trace(go.Scatter(x=kneigh, y=y_pca,\n",
        "                    mode='lines+markers',\n",
        "                    name='PCA'))\n",
        "fig.add_trace(go.Scatter(x=kneigh, y=y_umap,\n",
        "                    mode='lines+markers',\n",
        "                    name='UMAP'))\n",
        "fig.add_trace(go.Scatter(x=kneigh, y=y_trimap,\n",
        "                    mode='lines+markers',\n",
        "                    name='trimap'))\n",
        "\n",
        "fig.show()"
      ],
      "execution_count": 58,
      "outputs": [
        {
          "output_type": "display_data",
          "data": {
            "text/html": [
              "<html>\n",
              "<head><meta charset=\"utf-8\" /></head>\n",
              "<body>\n",
              "    <div>            <script src=\"https://cdnjs.cloudflare.com/ajax/libs/mathjax/2.7.5/MathJax.js?config=TeX-AMS-MML_SVG\"></script><script type=\"text/javascript\">if (window.MathJax) {MathJax.Hub.Config({SVG: {font: \"STIX-Web\"}});}</script>                <script type=\"text/javascript\">window.PlotlyConfig = {MathJaxConfig: 'local'};</script>\n",
              "        <script src=\"https://cdn.plot.ly/plotly-latest.min.js\"></script>                <div id=\"0c7ee67e-2ae0-4b4b-90b2-81953025949e\" class=\"plotly-graph-div\" style=\"height:525px; width:100%;\"></div>            <script type=\"text/javascript\">                                    window.PLOTLYENV=window.PLOTLYENV || {};                                    if (document.getElementById(\"0c7ee67e-2ae0-4b4b-90b2-81953025949e\")) {                    Plotly.newPlot(                        \"0c7ee67e-2ae0-4b4b-90b2-81953025949e\",                        [{\"mode\": \"lines+markers\", \"name\": \"t-SNE\", \"type\": \"scatter\", \"x\": [1, 2, 3, 4, 5, 6, 7, 8, 9, 10, 11, 12, 13, 14, 15, 16, 17, 18, 19, 20, 21, 22, 23, 24, 25, 26, 27, 28, 29, 30, 31, 32, 33, 34, 35, 36, 37, 38, 39, 40, 41, 42, 43, 44, 45, 46, 47, 48, 49, 50], \"y\": [0.9860220960751999, 0.9757250069489484, 0.9640535133783446, 0.9406423034330011, 0.9137292587609712, 0.895786708183322, 0.882773054038328, 0.8677679076421466, 0.8629517282702318, 0.8530956527678175, 0.8425828047921071, 0.8370748418628036, 0.8343426717653302, 0.827237374127585, 0.8180342255375165, 0.8132348577575016, 0.8081317873728855, 0.804669831935269, 0.8040228478172174, 0.8026797308464172, 0.802251372857942, 0.8016743595703781, 0.8021032779008813, 0.7993714644877435, 0.7970798194054008, 0.7981131509779035, 0.7988313366220343, 0.7985072238332085, 0.7987200654118904, 0.7988519085859289, 0.7975347495410438, 0.7973030718859839, 0.7962640832820402, 0.7963432034479208, 0.796202716092557, 0.795507228783333, 0.795223704111885, 0.7954652446696511, 0.7939063520458869, 0.7938946415435976, 0.7939993735237596, 0.7942791768461926, 0.7949144808004327, 0.7952840028188866, 0.7934765112043038, 0.7923743815018424, 0.7911640419275765, 0.7905976309711646, 0.7907379442263163, 0.7892168369195103]}, {\"mode\": \"lines+markers\", \"name\": \"PCA\", \"type\": \"scatter\", \"x\": [1, 2, 3, 4, 5, 6, 7, 8, 9, 10, 11, 12, 13, 14, 15, 16, 17, 18, 19, 20, 21, 22, 23, 24, 25, 26, 27, 28, 29, 30, 31, 32, 33, 34, 35, 36, 37, 38, 39, 40, 41, 42, 43, 44, 45, 46, 47, 48, 49, 50], \"y\": [0.8947689678325093, 0.8806325087247908, 0.8511294490289238, 0.8389337130200918, 0.8316099686078544, 0.8234244753657034, 0.8234134804887663, 0.8258558738397046, 0.8264389768939819, 0.8273127753303965, 0.8251094835397161, 0.8268616927987653, 0.8282045811382274, 0.8297664117025934, 0.8318365754960753, 0.8316271651644969, 0.831538124394034, 0.8318631381983427, 0.8332762137902896, 0.835891079368827, 0.8369276904400376, 0.837319991587616, 0.8386793738212537, 0.840111041273832, 0.8400238521168754, 0.8399576258482326, 0.8385600187925769, 0.8389536484038433, 0.8410994229287545, 0.8431261507991769, 0.8434334193304424, 0.8457075448986471, 0.8475184580571686, 0.8490004854154716, 0.8518272425249169, 0.8532652365179288, 0.8546877556116167, 0.8549243494163935, 0.8556776556776556, 0.8565353929723307, 0.8575810680008917, 0.8599438118344562, 0.8621636695511087, 0.8634362226920367, 0.8652235918724672, 0.8671294604798441, 0.867685281555165, 0.8688401820219067, 0.8709554011879593, 0.872178511917699]}, {\"mode\": \"lines+markers\", \"name\": \"UMAP\", \"type\": \"scatter\", \"x\": [1, 2, 3, 4, 5, 6, 7, 8, 9, 10, 11, 12, 13, 14, 15, 16, 17, 18, 19, 20, 21, 22, 23, 24, 25, 26, 27, 28, 29, 30, 31, 32, 33, 34, 35, 36, 37, 38, 39, 40, 41, 42, 43, 44, 45, 46, 47, 48, 49, 50], \"y\": [0.9446987731184765, 0.9590166465919269, 0.9584896224056014, 0.9457997152349312, 0.9237234928566852, 0.90631723481777, 0.894569889445727, 0.8894433908906412, 0.8851365015166835, 0.8742888365263122, 0.8636741165810933, 0.8561740736843336, 0.8464656742873086, 0.8368229931236962, 0.8316415581882892, 0.8212371573754683, 0.8160608113193346, 0.8094219778261478, 0.8064504283965728, 0.8030063353401802, 0.800017505603696, 0.7986045773699493, 0.7959863462627914, 0.796110063551924, 0.7911713093108442, 0.7888054953145248, 0.7869554720329914, 0.7852661968134478, 0.7845275720552856, 0.7837874638320259, 0.7835281991229515, 0.7828765227021041, 0.782431319375682, 0.7838900901696012, 0.784297954187795, 0.7866627357808877, 0.7878649595756955, 0.7881983377699412, 0.7889002470397819, 0.7887427148757993, 0.789582998224984, 0.7905145133975242, 0.7913286461150171, 0.791906976744186, 0.7910167888055802, 0.7921676253919161, 0.7910360752330415, 0.7917810020351695, 0.7923544893644562, 0.7934449032818952]}, {\"mode\": \"lines+markers\", \"name\": \"trimap\", \"type\": \"scatter\", \"x\": [1, 2, 3, 4, 5, 6, 7, 8, 9, 10, 11, 12, 13, 14, 15, 16, 17, 18, 19, 20, 21, 22, 23, 24, 25, 26, 27, 28, 29, 30, 31, 32, 33, 34, 35, 36, 37, 38, 39, 40, 41, 42, 43, 44, 45, 46, 47, 48, 49, 50], \"y\": [0.9415247512665568, 0.9217085147780969, 0.9168542135533884, 0.9083531086853346, 0.904285988852585, 0.9050522742261576, 0.9019276610920285, 0.8900256179924809, 0.879174624574018, 0.8681419253491787, 0.8554188060002014, 0.848609211126311, 0.8371710076425246, 0.8285456746246362, 0.8204719418848423, 0.8176903675679685, 0.8127935753213004, 0.8086115672322569, 0.8037902896776825, 0.8036752843033094, 0.8001773393765722, 0.7994568846876164, 0.797728918816198, 0.7973915776241358, 0.7964460345855695, 0.7929662905627567, 0.7929227677289693, 0.7921059538212382, 0.7924587637781657, 0.7925884664778969, 0.7922712385413426, 0.794236602628918, 0.796284897845098, 0.800429519144492, 0.8028297487905811, 0.804374844643301, 0.8055902350263612, 0.80434131352124, 0.8052559843257517, 0.8063543258077293, 0.8063454706050011, 0.8060409322614187, 0.8069001261943393, 0.8085637773079634, 0.8100958755171489, 0.809648429644861, 0.8105154498455869, 0.8112551736754248, 0.8121442234399046, 0.8127856263131203]}],                        {\"template\": {\"data\": {\"bar\": [{\"error_x\": {\"color\": \"#2a3f5f\"}, \"error_y\": {\"color\": \"#2a3f5f\"}, \"marker\": {\"line\": {\"color\": \"#E5ECF6\", \"width\": 0.5}}, \"type\": \"bar\"}], \"barpolar\": [{\"marker\": {\"line\": {\"color\": \"#E5ECF6\", \"width\": 0.5}}, \"type\": \"barpolar\"}], \"carpet\": [{\"aaxis\": {\"endlinecolor\": \"#2a3f5f\", \"gridcolor\": \"white\", \"linecolor\": \"white\", \"minorgridcolor\": \"white\", \"startlinecolor\": \"#2a3f5f\"}, \"baxis\": {\"endlinecolor\": \"#2a3f5f\", \"gridcolor\": \"white\", \"linecolor\": \"white\", \"minorgridcolor\": \"white\", \"startlinecolor\": \"#2a3f5f\"}, \"type\": \"carpet\"}], \"choropleth\": [{\"colorbar\": {\"outlinewidth\": 0, \"ticks\": \"\"}, \"type\": \"choropleth\"}], \"contour\": [{\"colorbar\": {\"outlinewidth\": 0, \"ticks\": \"\"}, \"colorscale\": [[0.0, \"#0d0887\"], [0.1111111111111111, \"#46039f\"], [0.2222222222222222, \"#7201a8\"], [0.3333333333333333, \"#9c179e\"], [0.4444444444444444, \"#bd3786\"], [0.5555555555555556, \"#d8576b\"], [0.6666666666666666, \"#ed7953\"], [0.7777777777777778, \"#fb9f3a\"], [0.8888888888888888, \"#fdca26\"], [1.0, \"#f0f921\"]], \"type\": \"contour\"}], \"contourcarpet\": [{\"colorbar\": {\"outlinewidth\": 0, \"ticks\": \"\"}, \"type\": \"contourcarpet\"}], \"heatmap\": [{\"colorbar\": {\"outlinewidth\": 0, \"ticks\": \"\"}, \"colorscale\": [[0.0, \"#0d0887\"], [0.1111111111111111, \"#46039f\"], [0.2222222222222222, \"#7201a8\"], [0.3333333333333333, \"#9c179e\"], [0.4444444444444444, \"#bd3786\"], [0.5555555555555556, \"#d8576b\"], [0.6666666666666666, \"#ed7953\"], [0.7777777777777778, \"#fb9f3a\"], [0.8888888888888888, \"#fdca26\"], [1.0, \"#f0f921\"]], \"type\": \"heatmap\"}], \"heatmapgl\": [{\"colorbar\": {\"outlinewidth\": 0, \"ticks\": \"\"}, \"colorscale\": [[0.0, \"#0d0887\"], [0.1111111111111111, \"#46039f\"], [0.2222222222222222, \"#7201a8\"], [0.3333333333333333, \"#9c179e\"], [0.4444444444444444, \"#bd3786\"], [0.5555555555555556, \"#d8576b\"], [0.6666666666666666, \"#ed7953\"], [0.7777777777777778, \"#fb9f3a\"], [0.8888888888888888, \"#fdca26\"], [1.0, \"#f0f921\"]], \"type\": \"heatmapgl\"}], \"histogram\": [{\"marker\": {\"colorbar\": {\"outlinewidth\": 0, \"ticks\": \"\"}}, \"type\": \"histogram\"}], \"histogram2d\": [{\"colorbar\": {\"outlinewidth\": 0, \"ticks\": \"\"}, \"colorscale\": [[0.0, \"#0d0887\"], [0.1111111111111111, \"#46039f\"], [0.2222222222222222, \"#7201a8\"], [0.3333333333333333, \"#9c179e\"], [0.4444444444444444, \"#bd3786\"], [0.5555555555555556, \"#d8576b\"], [0.6666666666666666, \"#ed7953\"], [0.7777777777777778, \"#fb9f3a\"], [0.8888888888888888, \"#fdca26\"], [1.0, \"#f0f921\"]], \"type\": \"histogram2d\"}], \"histogram2dcontour\": [{\"colorbar\": {\"outlinewidth\": 0, \"ticks\": \"\"}, \"colorscale\": [[0.0, \"#0d0887\"], [0.1111111111111111, \"#46039f\"], [0.2222222222222222, \"#7201a8\"], [0.3333333333333333, \"#9c179e\"], [0.4444444444444444, \"#bd3786\"], [0.5555555555555556, \"#d8576b\"], [0.6666666666666666, \"#ed7953\"], [0.7777777777777778, \"#fb9f3a\"], [0.8888888888888888, \"#fdca26\"], [1.0, \"#f0f921\"]], \"type\": \"histogram2dcontour\"}], \"mesh3d\": [{\"colorbar\": {\"outlinewidth\": 0, \"ticks\": \"\"}, \"type\": \"mesh3d\"}], \"parcoords\": [{\"line\": {\"colorbar\": {\"outlinewidth\": 0, \"ticks\": \"\"}}, \"type\": \"parcoords\"}], \"pie\": [{\"automargin\": true, \"type\": \"pie\"}], \"scatter\": [{\"marker\": {\"colorbar\": {\"outlinewidth\": 0, \"ticks\": \"\"}}, \"type\": \"scatter\"}], \"scatter3d\": [{\"line\": {\"colorbar\": {\"outlinewidth\": 0, \"ticks\": \"\"}}, \"marker\": {\"colorbar\": {\"outlinewidth\": 0, \"ticks\": \"\"}}, \"type\": \"scatter3d\"}], \"scattercarpet\": [{\"marker\": {\"colorbar\": {\"outlinewidth\": 0, \"ticks\": \"\"}}, \"type\": \"scattercarpet\"}], \"scattergeo\": [{\"marker\": {\"colorbar\": {\"outlinewidth\": 0, \"ticks\": \"\"}}, \"type\": \"scattergeo\"}], \"scattergl\": [{\"marker\": {\"colorbar\": {\"outlinewidth\": 0, \"ticks\": \"\"}}, \"type\": \"scattergl\"}], \"scattermapbox\": [{\"marker\": {\"colorbar\": {\"outlinewidth\": 0, \"ticks\": \"\"}}, \"type\": \"scattermapbox\"}], \"scatterpolar\": [{\"marker\": {\"colorbar\": {\"outlinewidth\": 0, \"ticks\": \"\"}}, \"type\": \"scatterpolar\"}], \"scatterpolargl\": [{\"marker\": {\"colorbar\": {\"outlinewidth\": 0, \"ticks\": \"\"}}, \"type\": \"scatterpolargl\"}], \"scatterternary\": [{\"marker\": {\"colorbar\": {\"outlinewidth\": 0, \"ticks\": \"\"}}, \"type\": \"scatterternary\"}], \"surface\": [{\"colorbar\": {\"outlinewidth\": 0, \"ticks\": \"\"}, \"colorscale\": [[0.0, \"#0d0887\"], [0.1111111111111111, \"#46039f\"], [0.2222222222222222, \"#7201a8\"], [0.3333333333333333, \"#9c179e\"], [0.4444444444444444, \"#bd3786\"], [0.5555555555555556, \"#d8576b\"], [0.6666666666666666, \"#ed7953\"], [0.7777777777777778, \"#fb9f3a\"], [0.8888888888888888, \"#fdca26\"], [1.0, \"#f0f921\"]], \"type\": \"surface\"}], \"table\": [{\"cells\": {\"fill\": {\"color\": \"#EBF0F8\"}, \"line\": {\"color\": \"white\"}}, \"header\": {\"fill\": {\"color\": \"#C8D4E3\"}, \"line\": {\"color\": \"white\"}}, \"type\": \"table\"}]}, \"layout\": {\"annotationdefaults\": {\"arrowcolor\": \"#2a3f5f\", \"arrowhead\": 0, \"arrowwidth\": 1}, \"autotypenumbers\": \"strict\", \"coloraxis\": {\"colorbar\": {\"outlinewidth\": 0, \"ticks\": \"\"}}, \"colorscale\": {\"diverging\": [[0, \"#8e0152\"], [0.1, \"#c51b7d\"], [0.2, \"#de77ae\"], [0.3, \"#f1b6da\"], [0.4, \"#fde0ef\"], [0.5, \"#f7f7f7\"], [0.6, \"#e6f5d0\"], [0.7, \"#b8e186\"], [0.8, \"#7fbc41\"], [0.9, \"#4d9221\"], [1, \"#276419\"]], \"sequential\": [[0.0, \"#0d0887\"], [0.1111111111111111, \"#46039f\"], [0.2222222222222222, \"#7201a8\"], [0.3333333333333333, \"#9c179e\"], [0.4444444444444444, \"#bd3786\"], [0.5555555555555556, \"#d8576b\"], [0.6666666666666666, \"#ed7953\"], [0.7777777777777778, \"#fb9f3a\"], [0.8888888888888888, \"#fdca26\"], [1.0, \"#f0f921\"]], \"sequentialminus\": [[0.0, \"#0d0887\"], [0.1111111111111111, \"#46039f\"], [0.2222222222222222, \"#7201a8\"], [0.3333333333333333, \"#9c179e\"], [0.4444444444444444, \"#bd3786\"], [0.5555555555555556, \"#d8576b\"], [0.6666666666666666, \"#ed7953\"], [0.7777777777777778, \"#fb9f3a\"], [0.8888888888888888, \"#fdca26\"], [1.0, \"#f0f921\"]]}, \"colorway\": [\"#636efa\", \"#EF553B\", \"#00cc96\", \"#ab63fa\", \"#FFA15A\", \"#19d3f3\", \"#FF6692\", \"#B6E880\", \"#FF97FF\", \"#FECB52\"], \"font\": {\"color\": \"#2a3f5f\"}, \"geo\": {\"bgcolor\": \"white\", \"lakecolor\": \"white\", \"landcolor\": \"#E5ECF6\", \"showlakes\": true, \"showland\": true, \"subunitcolor\": \"white\"}, \"hoverlabel\": {\"align\": \"left\"}, \"hovermode\": \"closest\", \"mapbox\": {\"style\": \"light\"}, \"paper_bgcolor\": \"white\", \"plot_bgcolor\": \"#E5ECF6\", \"polar\": {\"angularaxis\": {\"gridcolor\": \"white\", \"linecolor\": \"white\", \"ticks\": \"\"}, \"bgcolor\": \"#E5ECF6\", \"radialaxis\": {\"gridcolor\": \"white\", \"linecolor\": \"white\", \"ticks\": \"\"}}, \"scene\": {\"xaxis\": {\"backgroundcolor\": \"#E5ECF6\", \"gridcolor\": \"white\", \"gridwidth\": 2, \"linecolor\": \"white\", \"showbackground\": true, \"ticks\": \"\", \"zerolinecolor\": \"white\"}, \"yaxis\": {\"backgroundcolor\": \"#E5ECF6\", \"gridcolor\": \"white\", \"gridwidth\": 2, \"linecolor\": \"white\", \"showbackground\": true, \"ticks\": \"\", \"zerolinecolor\": \"white\"}, \"zaxis\": {\"backgroundcolor\": \"#E5ECF6\", \"gridcolor\": \"white\", \"gridwidth\": 2, \"linecolor\": \"white\", \"showbackground\": true, \"ticks\": \"\", \"zerolinecolor\": \"white\"}}, \"shapedefaults\": {\"line\": {\"color\": \"#2a3f5f\"}}, \"ternary\": {\"aaxis\": {\"gridcolor\": \"white\", \"linecolor\": \"white\", \"ticks\": \"\"}, \"baxis\": {\"gridcolor\": \"white\", \"linecolor\": \"white\", \"ticks\": \"\"}, \"bgcolor\": \"#E5ECF6\", \"caxis\": {\"gridcolor\": \"white\", \"linecolor\": \"white\", \"ticks\": \"\"}}, \"title\": {\"x\": 0.05}, \"xaxis\": {\"automargin\": true, \"gridcolor\": \"white\", \"linecolor\": \"white\", \"ticks\": \"\", \"title\": {\"standoff\": 15}, \"zerolinecolor\": \"white\", \"zerolinewidth\": 2}, \"yaxis\": {\"automargin\": true, \"gridcolor\": \"white\", \"linecolor\": \"white\", \"ticks\": \"\", \"title\": {\"standoff\": 15}, \"zerolinecolor\": \"white\", \"zerolinewidth\": 2}}}},                        {\"responsive\": true}                    ).then(function(){\n",
              "                            \n",
              "var gd = document.getElementById('0c7ee67e-2ae0-4b4b-90b2-81953025949e');\n",
              "var x = new MutationObserver(function (mutations, observer) {{\n",
              "        var display = window.getComputedStyle(gd).display;\n",
              "        if (!display || display === 'none') {{\n",
              "            console.log([gd, 'removed!']);\n",
              "            Plotly.purge(gd);\n",
              "            observer.disconnect();\n",
              "        }}\n",
              "}});\n",
              "\n",
              "// Listen for the removal of the full notebook cells\n",
              "var notebookContainer = gd.closest('#notebook-container');\n",
              "if (notebookContainer) {{\n",
              "    x.observe(notebookContainer, {childList: true});\n",
              "}}\n",
              "\n",
              "// Listen for the clearing of the current output cell\n",
              "var outputEl = gd.closest('.output');\n",
              "if (outputEl) {{\n",
              "    x.observe(outputEl, {childList: true});\n",
              "}}\n",
              "\n",
              "                        })                };                            </script>        </div>\n",
              "</body>\n",
              "</html>"
            ]
          },
          "metadata": {}
        }
      ]
    },
    {
      "cell_type": "markdown",
      "source": [
        "### Coeficiente de Silhueta"
      ],
      "metadata": {
        "id": "QlnP3hQDiWrd"
      }
    },
    {
      "cell_type": "code",
      "source": [
        "from sklearn.metrics import silhouette_samples, silhouette_score\n",
        "\n",
        "def coeficiente_silhueta(X_high,X_low):\n",
        "\n",
        "    silhouette_avg_high = []\n",
        "\n",
        "    silhouette_avg_low = []\n",
        "\n",
        "    for k in range(3,20):\n",
        "        clusterer = KMedoids(n_clusters=k, init='k-medoids++',random_state=10)\n",
        "\n",
        "        cluster_labels_high = clusterer.fit_predict(X_high)\n",
        "\n",
        "        cluster_labels_low = clusterer.fit_predict(X_low)\n",
        "\n",
        "        silhouette_avg_high.append(silhouette_score(X_high, cluster_labels_high))\n",
        "\n",
        "        silhouette_avg_low.append(silhouette_score(X_low, cluster_labels_low))\n",
        "\n",
        "    mean_silhouete_high = np.mean(np.array(silhouette_avg_high))\n",
        "\n",
        "    mean_silhouete_low = np.mean(np.array(silhouette_avg_low))\n",
        "\n",
        "    std_silhouete_high = np.std(np.array(silhouette_avg_high))\n",
        "\n",
        "    std_silhouete_low = np.std(np.array(silhouette_avg_low))\n",
        "    \n",
        "    return mean_silhouete_high, mean_silhouete_low, std_silhouete_high, std_silhouete_low"
      ],
      "metadata": {
        "id": "dEmRfdpwiabE"
      },
      "execution_count": 69,
      "outputs": []
    },
    {
      "cell_type": "markdown",
      "source": [
        "Print the silhouette scores for all point placement visualizations"
      ],
      "metadata": {
        "id": "KAKpfJE3pHg9"
      }
    },
    {
      "cell_type": "code",
      "source": [
        "mean_high,mean_low,std_high,std_low = coeficiente_silhueta(X,X_pca)\n",
        "print(\"PCA\")\n",
        "print(f\"Média Silhueta Original: {mean_high} Desvio Padrão Original: {std_high}\")\n",
        "print(f\"Média Silhueta Visualização: {mean_low} Desvio Padrão Visualização: {std_low}\\n\")\n",
        "\n",
        "mean_high,mean_low,std_high,std_low = coeficiente_silhueta(X,X_tsne)\n",
        "print(\"t-SNE\")\n",
        "print(f\"Média Silhueta Original: {mean_high} Desvio Padrão Original: {std_high}\")\n",
        "print(f\"Média Silhueta Visualização: {mean_low} Desvio Padrão Visualização: {std_low}\\n\")\n",
        "\n",
        "mean_high,mean_low,std_high,std_low = coeficiente_silhueta(X,X_umap)\n",
        "print(\"UMAP\")\n",
        "print(f\"Média Silhueta Original: {mean_high} Desvio Padrão Original: {std_high}\")\n",
        "print(f\"Média Silhueta Visualização: {mean_low} Desvio Padrão Visualização: {std_low}\\n\")\n",
        "\n",
        "mean_high,mean_low,std_high,std_low = coeficiente_silhueta(X,X_trimap)\n",
        "print(\"TriMap\")\n",
        "print(f\"Média Silhueta Original: {mean_high} Desvio Padrão Original: {std_high}\")\n",
        "print(f\"Média Silhueta Visualização: {mean_low} Desvio Padrão Visualização: {std_low}\\n\")"
      ],
      "metadata": {
        "colab": {
          "base_uri": "https://localhost:8080/"
        },
        "id": "fvNQa3O8mRy5",
        "outputId": "c8fa7817-f371-41f7-bb9c-8b77f353a998"
      },
      "execution_count": 71,
      "outputs": [
        {
          "output_type": "stream",
          "name": "stdout",
          "text": [
            "PCA\n",
            "Média Silhueta Original: 0.4349976584611273 Desvio Padrão Original: 0.24400525004807258\n",
            "Média Silhueta Visualização: 0.4048111315753926 Desvio Padrão Visualização: 0.12231610330417815\n",
            "\n",
            "t-SNE\n",
            "Média Silhueta Original: 0.4349976584611273 Desvio Padrão Original: 0.24400525004807258\n",
            "Média Silhueta Visualização: 0.5801975131034851 Desvio Padrão Visualização: 0.06424654275178909\n",
            "\n",
            "UMAP\n",
            "Média Silhueta Original: 0.4349976584611273 Desvio Padrão Original: 0.24400525004807258\n",
            "Média Silhueta Visualização: 0.5610472559928894 Desvio Padrão Visualização: 0.04048643261194229\n",
            "\n",
            "TriMap\n",
            "Média Silhueta Original: 0.4349976584611273 Desvio Padrão Original: 0.24400525004807258\n",
            "Média Silhueta Visualização: 0.5963062644004822 Desvio Padrão Visualização: 0.05643360689282417\n",
            "\n"
          ]
        }
      ]
    },
    {
      "cell_type": "markdown",
      "metadata": {
        "id": "3OiRLLZSxh05"
      },
      "source": [
        "## Global Score\n",
        "\n",
        "https://github.com/eamid/trimap"
      ]
    },
    {
      "cell_type": "code",
      "source": [
        "gs = trimap.TRIMAP(verbose=False).global_score(xscaled, X_trimap)\n",
        "print(f\"TriMap global score {gs}\")"
      ],
      "metadata": {
        "colab": {
          "base_uri": "https://localhost:8080/"
        },
        "id": "068Jv4Z3GsWE",
        "outputId": "37af0592-4ebc-40ef-c391-55a1120c0b9d"
      },
      "execution_count": 72,
      "outputs": [
        {
          "output_type": "stream",
          "name": "stdout",
          "text": [
            "TriMap global score 0.3458990466101308\n"
          ]
        }
      ]
    },
    {
      "cell_type": "code",
      "source": [
        "gs = trimap.TRIMAP(verbose=False).global_score(xscaled, X_tsne)\n",
        "print(f\"tSNE global score {gs}\")"
      ],
      "metadata": {
        "colab": {
          "base_uri": "https://localhost:8080/"
        },
        "id": "6hJKHnPRG89m",
        "outputId": "3d8b788c-f211-4d2a-987c-c09a2322de00"
      },
      "execution_count": 73,
      "outputs": [
        {
          "output_type": "stream",
          "name": "stdout",
          "text": [
            "tSNE global score 0.21040027033206765\n"
          ]
        }
      ]
    },
    {
      "cell_type": "code",
      "source": [
        "gs = trimap.TRIMAP(verbose=False).global_score(xscaled, X_umap)\n",
        "print(f\"UMAP global score {gs}\")"
      ],
      "metadata": {
        "colab": {
          "base_uri": "https://localhost:8080/"
        },
        "id": "BM3eksKfG9Ns",
        "outputId": "b2386511-71c1-4c9e-cdea-2e3c0f867867"
      },
      "execution_count": 74,
      "outputs": [
        {
          "output_type": "stream",
          "name": "stdout",
          "text": [
            "UMAP global score 0.25658366986251674\n"
          ]
        }
      ]
    },
    {
      "cell_type": "code",
      "source": [
        "gs = trimap.TRIMAP(verbose=False).global_score(xscaled, X_pca)\n",
        "print(f\"PCA global score {gs}\")"
      ],
      "metadata": {
        "colab": {
          "base_uri": "https://localhost:8080/"
        },
        "id": "r4X3BU5RHQ8w",
        "outputId": "0152464e-36d4-417b-f608-569a0b9e01ae"
      },
      "execution_count": 75,
      "outputs": [
        {
          "output_type": "stream",
          "name": "stdout",
          "text": [
            "PCA global score 1.0\n"
          ]
        }
      ]
    }
  ]
}