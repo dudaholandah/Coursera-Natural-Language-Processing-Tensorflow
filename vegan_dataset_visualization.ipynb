{
  "nbformat": 4,
  "nbformat_minor": 0,
  "metadata": {
    "colab": {
      "name": "PIBIC.ipynb",
      "provenance": [],
      "collapsed_sections": [
        "9unZu4Gffk8G",
        "G0ogYP7UcjBB",
        "fc67aC8Lj5hE",
        "d9y94CTMSLCo",
        "MOzjzWvfyXPk",
        "YNEwUT6KFHE4",
        "C2F5AHyJE_iE",
        "PU8AyXxHFROd"
      ],
      "toc_visible": true,
      "authorship_tag": "ABX9TyMgDdFtNQ1BOXZ4+/HsS6PG",
      "include_colab_link": true
    },
    "kernelspec": {
      "name": "python3",
      "display_name": "Python 3"
    },
    "language_info": {
      "name": "python"
    }
  },
  "cells": [
    {
      "cell_type": "markdown",
      "metadata": {
        "id": "view-in-github",
        "colab_type": "text"
      },
      "source": [
        "<a href=\"https://colab.research.google.com/github/dudaholandah/PIBIC/blob/main/vegan_dataset_visualization.ipynb\" target=\"_parent\"><img src=\"https://colab.research.google.com/assets/colab-badge.svg\" alt=\"Open In Colab\"/></a>"
      ]
    },
    {
      "cell_type": "markdown",
      "source": [
        "# Imports"
      ],
      "metadata": {
        "id": "9unZu4Gffk8G"
      }
    },
    {
      "cell_type": "code",
      "source": [
        "!apt-get install poppler-utils \n",
        "!pip install pdf2image\n",
        "!pip install unidecode\n",
        "!pip install umap-learn[plot]\n",
        "!pip install trimap\n",
        "!pip install -U kaleido\n",
        "!pip install scikit-learn-extra"
      ],
      "metadata": {
        "id": "WGib2oaNT1MM"
      },
      "execution_count": null,
      "outputs": []
    },
    {
      "cell_type": "code",
      "execution_count": null,
      "metadata": {
        "id": "qBfSL0Ccbty6"
      },
      "outputs": [],
      "source": [
        "import pandas as pd\n",
        "import numpy as np\n",
        "from unidecode import unidecode\n",
        "from sklearn import preprocessing\n",
        "from pandas.core.frame import DataFrame\n",
        "import plotly.express as px\n",
        "from sklearn.manifold import TSNE\n",
        "import re\n",
        "import umap\n",
        "import trimap\n",
        "from sklearn.decomposition import PCA as sklearnPCA\n",
        "from sklearn.manifold import Isomap\n",
        "from sklearn.manifold import trustworthiness\n",
        "import plotly.graph_objects as go\n",
        "from sklearn.metrics import silhouette_samples, silhouette_score\n",
        "from sklearn.cluster import KMeans\n",
        "import plotly\n",
        "import pdf2image\n",
        "import os\n",
        "from sklearn.metrics import silhouette_samples, silhouette_score\n",
        "from sklearn_extra.cluster import KMedoids"
      ]
    },
    {
      "cell_type": "markdown",
      "source": [
        "# Pre-Processing Data"
      ],
      "metadata": {
        "id": "G0ogYP7UcjBB"
      }
    },
    {
      "cell_type": "code",
      "source": [
        "data = pd.read_excel(\"vegan_dataset.xlsx\", sheet_name='Veganos')"
      ],
      "metadata": {
        "id": "38rpysEbcCOe"
      },
      "execution_count": 3,
      "outputs": []
    },
    {
      "cell_type": "code",
      "source": [
        "data.head()"
      ],
      "metadata": {
        "colab": {
          "base_uri": "https://localhost:8080/",
          "height": 508
        },
        "id": "owChfQYLc_Zr",
        "outputId": "8d3c95f1-863a-4207-d6cd-0cf877921aa2"
      },
      "execution_count": 4,
      "outputs": [
        {
          "output_type": "execute_result",
          "data": {
            "text/plain": [
              "  Classification                Description  \\\n",
              "0         MEAT 2      Carne Moída do Futuro   \n",
              "1         MEAT 3      Carne Moída do Futuro   \n",
              "2      POULTRY 3           Frango do Futuro   \n",
              "3        PORK 1          Linguiça do Futuro   \n",
              "4         MEAT 1  Hamburguer de Soja Goshen   \n",
              "\n",
              "                                         Ingredients  Serving Size   Kcal  \\\n",
              "0  water, texturizedsoyprotein, peaprotein e chic...          80.0  168.0   \n",
              "1  water, texturizedsoyprotein, isolatedsoyprotei...          80.0  168.0   \n",
              "2  water, texturizedsoyprotein, isolatedsoyprotei...          80.0  168.0   \n",
              "3  water, texturizedsoyprotein, isolatedsoyprotei...          50.0  139.0   \n",
              "4   texturizedsoyprotein, water, soyoil, modified...          50.0  118.0   \n",
              "\n",
              "   Carbohydrate  Sugars  Proteins   Total Fats   Saturated Fats  ...  \\\n",
              "0          11.0     0.0       8.2         10.0              9.0  ...   \n",
              "1          11.0     0.0       8.2         10.0              9.0  ...   \n",
              "2          11.0     0.0       8.2         10.0              9.0  ...   \n",
              "3           7.7     0.0       5.7          9.5              3.9  ...   \n",
              "4           2.8     0.0       7.0          9.0              1.3  ...   \n",
              "\n",
              "   Carbohydrate.1  Sugars.1  Proteins.1  Total Fats  Saturated Fats  \\\n",
              "0           13.75       0.0       10.25        12.5           11.25   \n",
              "1           13.75       0.0       10.25        12.5           11.25   \n",
              "2           13.75       0.0       10.25        12.5           11.25   \n",
              "3           15.40       0.0       11.40        19.0            7.80   \n",
              "4            5.60       0.0       14.00        18.0            2.60   \n",
              "\n",
              "    Dietary Fiber .1  Sodium.1  B12.1  Calcium.1  Zinc.1  \n",
              "0              0.875     490.0    0.0        0.0     0.0  \n",
              "1              0.875     490.0    0.0        0.0     0.0  \n",
              "2              0.875     490.0    0.0        0.0     0.0  \n",
              "3              0.400     588.0    0.0        0.0     0.0  \n",
              "4              4.000     688.0    0.0        0.0     0.0  \n",
              "\n",
              "[5 rows x 26 columns]"
            ],
            "text/html": [
              "\n",
              "  <div id=\"df-062562b4-8572-488d-9b72-ea694e2f3700\">\n",
              "    <div class=\"colab-df-container\">\n",
              "      <div>\n",
              "<style scoped>\n",
              "    .dataframe tbody tr th:only-of-type {\n",
              "        vertical-align: middle;\n",
              "    }\n",
              "\n",
              "    .dataframe tbody tr th {\n",
              "        vertical-align: top;\n",
              "    }\n",
              "\n",
              "    .dataframe thead th {\n",
              "        text-align: right;\n",
              "    }\n",
              "</style>\n",
              "<table border=\"1\" class=\"dataframe\">\n",
              "  <thead>\n",
              "    <tr style=\"text-align: right;\">\n",
              "      <th></th>\n",
              "      <th>Classification</th>\n",
              "      <th>Description</th>\n",
              "      <th>Ingredients</th>\n",
              "      <th>Serving Size</th>\n",
              "      <th>Kcal</th>\n",
              "      <th>Carbohydrate</th>\n",
              "      <th>Sugars</th>\n",
              "      <th>Proteins</th>\n",
              "      <th>Total Fats</th>\n",
              "      <th>Saturated Fats</th>\n",
              "      <th>...</th>\n",
              "      <th>Carbohydrate.1</th>\n",
              "      <th>Sugars.1</th>\n",
              "      <th>Proteins.1</th>\n",
              "      <th>Total Fats</th>\n",
              "      <th>Saturated Fats</th>\n",
              "      <th>Dietary Fiber .1</th>\n",
              "      <th>Sodium.1</th>\n",
              "      <th>B12.1</th>\n",
              "      <th>Calcium.1</th>\n",
              "      <th>Zinc.1</th>\n",
              "    </tr>\n",
              "  </thead>\n",
              "  <tbody>\n",
              "    <tr>\n",
              "      <th>0</th>\n",
              "      <td>MEAT 2</td>\n",
              "      <td>Carne Moída do Futuro</td>\n",
              "      <td>water, texturizedsoyprotein, peaprotein e chic...</td>\n",
              "      <td>80.0</td>\n",
              "      <td>168.0</td>\n",
              "      <td>11.0</td>\n",
              "      <td>0.0</td>\n",
              "      <td>8.2</td>\n",
              "      <td>10.0</td>\n",
              "      <td>9.0</td>\n",
              "      <td>...</td>\n",
              "      <td>13.75</td>\n",
              "      <td>0.0</td>\n",
              "      <td>10.25</td>\n",
              "      <td>12.5</td>\n",
              "      <td>11.25</td>\n",
              "      <td>0.875</td>\n",
              "      <td>490.0</td>\n",
              "      <td>0.0</td>\n",
              "      <td>0.0</td>\n",
              "      <td>0.0</td>\n",
              "    </tr>\n",
              "    <tr>\n",
              "      <th>1</th>\n",
              "      <td>MEAT 3</td>\n",
              "      <td>Carne Moída do Futuro</td>\n",
              "      <td>water, texturizedsoyprotein, isolatedsoyprotei...</td>\n",
              "      <td>80.0</td>\n",
              "      <td>168.0</td>\n",
              "      <td>11.0</td>\n",
              "      <td>0.0</td>\n",
              "      <td>8.2</td>\n",
              "      <td>10.0</td>\n",
              "      <td>9.0</td>\n",
              "      <td>...</td>\n",
              "      <td>13.75</td>\n",
              "      <td>0.0</td>\n",
              "      <td>10.25</td>\n",
              "      <td>12.5</td>\n",
              "      <td>11.25</td>\n",
              "      <td>0.875</td>\n",
              "      <td>490.0</td>\n",
              "      <td>0.0</td>\n",
              "      <td>0.0</td>\n",
              "      <td>0.0</td>\n",
              "    </tr>\n",
              "    <tr>\n",
              "      <th>2</th>\n",
              "      <td>POULTRY 3</td>\n",
              "      <td>Frango do Futuro</td>\n",
              "      <td>water, texturizedsoyprotein, isolatedsoyprotei...</td>\n",
              "      <td>80.0</td>\n",
              "      <td>168.0</td>\n",
              "      <td>11.0</td>\n",
              "      <td>0.0</td>\n",
              "      <td>8.2</td>\n",
              "      <td>10.0</td>\n",
              "      <td>9.0</td>\n",
              "      <td>...</td>\n",
              "      <td>13.75</td>\n",
              "      <td>0.0</td>\n",
              "      <td>10.25</td>\n",
              "      <td>12.5</td>\n",
              "      <td>11.25</td>\n",
              "      <td>0.875</td>\n",
              "      <td>490.0</td>\n",
              "      <td>0.0</td>\n",
              "      <td>0.0</td>\n",
              "      <td>0.0</td>\n",
              "    </tr>\n",
              "    <tr>\n",
              "      <th>3</th>\n",
              "      <td>PORK 1</td>\n",
              "      <td>Linguiça do Futuro</td>\n",
              "      <td>water, texturizedsoyprotein, isolatedsoyprotei...</td>\n",
              "      <td>50.0</td>\n",
              "      <td>139.0</td>\n",
              "      <td>7.7</td>\n",
              "      <td>0.0</td>\n",
              "      <td>5.7</td>\n",
              "      <td>9.5</td>\n",
              "      <td>3.9</td>\n",
              "      <td>...</td>\n",
              "      <td>15.40</td>\n",
              "      <td>0.0</td>\n",
              "      <td>11.40</td>\n",
              "      <td>19.0</td>\n",
              "      <td>7.80</td>\n",
              "      <td>0.400</td>\n",
              "      <td>588.0</td>\n",
              "      <td>0.0</td>\n",
              "      <td>0.0</td>\n",
              "      <td>0.0</td>\n",
              "    </tr>\n",
              "    <tr>\n",
              "      <th>4</th>\n",
              "      <td>MEAT 1</td>\n",
              "      <td>Hamburguer de Soja Goshen</td>\n",
              "      <td>texturizedsoyprotein, water, soyoil, modified...</td>\n",
              "      <td>50.0</td>\n",
              "      <td>118.0</td>\n",
              "      <td>2.8</td>\n",
              "      <td>0.0</td>\n",
              "      <td>7.0</td>\n",
              "      <td>9.0</td>\n",
              "      <td>1.3</td>\n",
              "      <td>...</td>\n",
              "      <td>5.60</td>\n",
              "      <td>0.0</td>\n",
              "      <td>14.00</td>\n",
              "      <td>18.0</td>\n",
              "      <td>2.60</td>\n",
              "      <td>4.000</td>\n",
              "      <td>688.0</td>\n",
              "      <td>0.0</td>\n",
              "      <td>0.0</td>\n",
              "      <td>0.0</td>\n",
              "    </tr>\n",
              "  </tbody>\n",
              "</table>\n",
              "<p>5 rows × 26 columns</p>\n",
              "</div>\n",
              "      <button class=\"colab-df-convert\" onclick=\"convertToInteractive('df-062562b4-8572-488d-9b72-ea694e2f3700')\"\n",
              "              title=\"Convert this dataframe to an interactive table.\"\n",
              "              style=\"display:none;\">\n",
              "        \n",
              "  <svg xmlns=\"http://www.w3.org/2000/svg\" height=\"24px\"viewBox=\"0 0 24 24\"\n",
              "       width=\"24px\">\n",
              "    <path d=\"M0 0h24v24H0V0z\" fill=\"none\"/>\n",
              "    <path d=\"M18.56 5.44l.94 2.06.94-2.06 2.06-.94-2.06-.94-.94-2.06-.94 2.06-2.06.94zm-11 1L8.5 8.5l.94-2.06 2.06-.94-2.06-.94L8.5 2.5l-.94 2.06-2.06.94zm10 10l.94 2.06.94-2.06 2.06-.94-2.06-.94-.94-2.06-.94 2.06-2.06.94z\"/><path d=\"M17.41 7.96l-1.37-1.37c-.4-.4-.92-.59-1.43-.59-.52 0-1.04.2-1.43.59L10.3 9.45l-7.72 7.72c-.78.78-.78 2.05 0 2.83L4 21.41c.39.39.9.59 1.41.59.51 0 1.02-.2 1.41-.59l7.78-7.78 2.81-2.81c.8-.78.8-2.07 0-2.86zM5.41 20L4 18.59l7.72-7.72 1.47 1.35L5.41 20z\"/>\n",
              "  </svg>\n",
              "      </button>\n",
              "      \n",
              "  <style>\n",
              "    .colab-df-container {\n",
              "      display:flex;\n",
              "      flex-wrap:wrap;\n",
              "      gap: 12px;\n",
              "    }\n",
              "\n",
              "    .colab-df-convert {\n",
              "      background-color: #E8F0FE;\n",
              "      border: none;\n",
              "      border-radius: 50%;\n",
              "      cursor: pointer;\n",
              "      display: none;\n",
              "      fill: #1967D2;\n",
              "      height: 32px;\n",
              "      padding: 0 0 0 0;\n",
              "      width: 32px;\n",
              "    }\n",
              "\n",
              "    .colab-df-convert:hover {\n",
              "      background-color: #E2EBFA;\n",
              "      box-shadow: 0px 1px 2px rgba(60, 64, 67, 0.3), 0px 1px 3px 1px rgba(60, 64, 67, 0.15);\n",
              "      fill: #174EA6;\n",
              "    }\n",
              "\n",
              "    [theme=dark] .colab-df-convert {\n",
              "      background-color: #3B4455;\n",
              "      fill: #D2E3FC;\n",
              "    }\n",
              "\n",
              "    [theme=dark] .colab-df-convert:hover {\n",
              "      background-color: #434B5C;\n",
              "      box-shadow: 0px 1px 3px 1px rgba(0, 0, 0, 0.15);\n",
              "      filter: drop-shadow(0px 1px 2px rgba(0, 0, 0, 0.3));\n",
              "      fill: #FFFFFF;\n",
              "    }\n",
              "  </style>\n",
              "\n",
              "      <script>\n",
              "        const buttonEl =\n",
              "          document.querySelector('#df-062562b4-8572-488d-9b72-ea694e2f3700 button.colab-df-convert');\n",
              "        buttonEl.style.display =\n",
              "          google.colab.kernel.accessAllowed ? 'block' : 'none';\n",
              "\n",
              "        async function convertToInteractive(key) {\n",
              "          const element = document.querySelector('#df-062562b4-8572-488d-9b72-ea694e2f3700');\n",
              "          const dataTable =\n",
              "            await google.colab.kernel.invokeFunction('convertToInteractive',\n",
              "                                                     [key], {});\n",
              "          if (!dataTable) return;\n",
              "\n",
              "          const docLinkHtml = 'Like what you see? Visit the ' +\n",
              "            '<a target=\"_blank\" href=https://colab.research.google.com/notebooks/data_table.ipynb>data table notebook</a>'\n",
              "            + ' to learn more about interactive tables.';\n",
              "          element.innerHTML = '';\n",
              "          dataTable['output_type'] = 'display_data';\n",
              "          await google.colab.output.renderOutput(dataTable, element);\n",
              "          const docLink = document.createElement('div');\n",
              "          docLink.innerHTML = docLinkHtml;\n",
              "          element.appendChild(docLink);\n",
              "        }\n",
              "      </script>\n",
              "    </div>\n",
              "  </div>\n",
              "  "
            ]
          },
          "metadata": {},
          "execution_count": 4
        }
      ]
    },
    {
      "cell_type": "markdown",
      "source": [
        "### Separating data"
      ],
      "metadata": {
        "id": "iUaEyrS5hi9I"
      }
    },
    {
      "cell_type": "code",
      "source": [
        "data_ingredients = pd.DataFrame(data['Ingredients'])\n",
        "data_nutrients = data.drop(columns=['Ingredients', 'Classification', \"Description\"])\n",
        "data_clasification = pd.DataFrame(data['Classification'])\n",
        "data_name = pd.DataFrame(data[\"Description\"])\n",
        "label_data = data_clasification.join(data_name)"
      ],
      "metadata": {
        "id": "uflKESOVddI4"
      },
      "execution_count": 5,
      "outputs": []
    },
    {
      "cell_type": "code",
      "source": [
        "data_nutrients.head()"
      ],
      "metadata": {
        "colab": {
          "base_uri": "https://localhost:8080/",
          "height": 334
        },
        "id": "sxBu43UzedDC",
        "outputId": "50a8561a-6db5-4ffe-b51d-b5b480ce355b"
      },
      "execution_count": 6,
      "outputs": [
        {
          "output_type": "execute_result",
          "data": {
            "text/plain": [
              "   Serving Size   Kcal  Carbohydrate  Sugars  Proteins   Total Fats  \\\n",
              "0          80.0  168.0          11.0     0.0       8.2         10.0   \n",
              "1          80.0  168.0          11.0     0.0       8.2         10.0   \n",
              "2          80.0  168.0          11.0     0.0       8.2         10.0   \n",
              "3          50.0  139.0           7.7     0.0       5.7          9.5   \n",
              "4          50.0  118.0           2.8     0.0       7.0          9.0   \n",
              "\n",
              "    Saturated Fats   Dietary Fiber   Sodium  B12  ...  Carbohydrate.1  \\\n",
              "0              9.0              0.7   392.0  0.0  ...           13.75   \n",
              "1              9.0              0.7   392.0  0.0  ...           13.75   \n",
              "2              9.0              0.7   392.0  0.0  ...           13.75   \n",
              "3              3.9              0.2   294.0  0.0  ...           15.40   \n",
              "4              1.3              2.0   344.0  0.0  ...            5.60   \n",
              "\n",
              "   Sugars.1  Proteins.1  Total Fats  Saturated Fats   Dietary Fiber .1  \\\n",
              "0       0.0       10.25        12.5           11.25              0.875   \n",
              "1       0.0       10.25        12.5           11.25              0.875   \n",
              "2       0.0       10.25        12.5           11.25              0.875   \n",
              "3       0.0       11.40        19.0            7.80              0.400   \n",
              "4       0.0       14.00        18.0            2.60              4.000   \n",
              "\n",
              "   Sodium.1  B12.1  Calcium.1  Zinc.1  \n",
              "0     490.0    0.0        0.0     0.0  \n",
              "1     490.0    0.0        0.0     0.0  \n",
              "2     490.0    0.0        0.0     0.0  \n",
              "3     588.0    0.0        0.0     0.0  \n",
              "4     688.0    0.0        0.0     0.0  \n",
              "\n",
              "[5 rows x 23 columns]"
            ],
            "text/html": [
              "\n",
              "  <div id=\"df-2ba3681d-dd0a-497a-864d-9632f324db48\">\n",
              "    <div class=\"colab-df-container\">\n",
              "      <div>\n",
              "<style scoped>\n",
              "    .dataframe tbody tr th:only-of-type {\n",
              "        vertical-align: middle;\n",
              "    }\n",
              "\n",
              "    .dataframe tbody tr th {\n",
              "        vertical-align: top;\n",
              "    }\n",
              "\n",
              "    .dataframe thead th {\n",
              "        text-align: right;\n",
              "    }\n",
              "</style>\n",
              "<table border=\"1\" class=\"dataframe\">\n",
              "  <thead>\n",
              "    <tr style=\"text-align: right;\">\n",
              "      <th></th>\n",
              "      <th>Serving Size</th>\n",
              "      <th>Kcal</th>\n",
              "      <th>Carbohydrate</th>\n",
              "      <th>Sugars</th>\n",
              "      <th>Proteins</th>\n",
              "      <th>Total Fats</th>\n",
              "      <th>Saturated Fats</th>\n",
              "      <th>Dietary Fiber</th>\n",
              "      <th>Sodium</th>\n",
              "      <th>B12</th>\n",
              "      <th>...</th>\n",
              "      <th>Carbohydrate.1</th>\n",
              "      <th>Sugars.1</th>\n",
              "      <th>Proteins.1</th>\n",
              "      <th>Total Fats</th>\n",
              "      <th>Saturated Fats</th>\n",
              "      <th>Dietary Fiber .1</th>\n",
              "      <th>Sodium.1</th>\n",
              "      <th>B12.1</th>\n",
              "      <th>Calcium.1</th>\n",
              "      <th>Zinc.1</th>\n",
              "    </tr>\n",
              "  </thead>\n",
              "  <tbody>\n",
              "    <tr>\n",
              "      <th>0</th>\n",
              "      <td>80.0</td>\n",
              "      <td>168.0</td>\n",
              "      <td>11.0</td>\n",
              "      <td>0.0</td>\n",
              "      <td>8.2</td>\n",
              "      <td>10.0</td>\n",
              "      <td>9.0</td>\n",
              "      <td>0.7</td>\n",
              "      <td>392.0</td>\n",
              "      <td>0.0</td>\n",
              "      <td>...</td>\n",
              "      <td>13.75</td>\n",
              "      <td>0.0</td>\n",
              "      <td>10.25</td>\n",
              "      <td>12.5</td>\n",
              "      <td>11.25</td>\n",
              "      <td>0.875</td>\n",
              "      <td>490.0</td>\n",
              "      <td>0.0</td>\n",
              "      <td>0.0</td>\n",
              "      <td>0.0</td>\n",
              "    </tr>\n",
              "    <tr>\n",
              "      <th>1</th>\n",
              "      <td>80.0</td>\n",
              "      <td>168.0</td>\n",
              "      <td>11.0</td>\n",
              "      <td>0.0</td>\n",
              "      <td>8.2</td>\n",
              "      <td>10.0</td>\n",
              "      <td>9.0</td>\n",
              "      <td>0.7</td>\n",
              "      <td>392.0</td>\n",
              "      <td>0.0</td>\n",
              "      <td>...</td>\n",
              "      <td>13.75</td>\n",
              "      <td>0.0</td>\n",
              "      <td>10.25</td>\n",
              "      <td>12.5</td>\n",
              "      <td>11.25</td>\n",
              "      <td>0.875</td>\n",
              "      <td>490.0</td>\n",
              "      <td>0.0</td>\n",
              "      <td>0.0</td>\n",
              "      <td>0.0</td>\n",
              "    </tr>\n",
              "    <tr>\n",
              "      <th>2</th>\n",
              "      <td>80.0</td>\n",
              "      <td>168.0</td>\n",
              "      <td>11.0</td>\n",
              "      <td>0.0</td>\n",
              "      <td>8.2</td>\n",
              "      <td>10.0</td>\n",
              "      <td>9.0</td>\n",
              "      <td>0.7</td>\n",
              "      <td>392.0</td>\n",
              "      <td>0.0</td>\n",
              "      <td>...</td>\n",
              "      <td>13.75</td>\n",
              "      <td>0.0</td>\n",
              "      <td>10.25</td>\n",
              "      <td>12.5</td>\n",
              "      <td>11.25</td>\n",
              "      <td>0.875</td>\n",
              "      <td>490.0</td>\n",
              "      <td>0.0</td>\n",
              "      <td>0.0</td>\n",
              "      <td>0.0</td>\n",
              "    </tr>\n",
              "    <tr>\n",
              "      <th>3</th>\n",
              "      <td>50.0</td>\n",
              "      <td>139.0</td>\n",
              "      <td>7.7</td>\n",
              "      <td>0.0</td>\n",
              "      <td>5.7</td>\n",
              "      <td>9.5</td>\n",
              "      <td>3.9</td>\n",
              "      <td>0.2</td>\n",
              "      <td>294.0</td>\n",
              "      <td>0.0</td>\n",
              "      <td>...</td>\n",
              "      <td>15.40</td>\n",
              "      <td>0.0</td>\n",
              "      <td>11.40</td>\n",
              "      <td>19.0</td>\n",
              "      <td>7.80</td>\n",
              "      <td>0.400</td>\n",
              "      <td>588.0</td>\n",
              "      <td>0.0</td>\n",
              "      <td>0.0</td>\n",
              "      <td>0.0</td>\n",
              "    </tr>\n",
              "    <tr>\n",
              "      <th>4</th>\n",
              "      <td>50.0</td>\n",
              "      <td>118.0</td>\n",
              "      <td>2.8</td>\n",
              "      <td>0.0</td>\n",
              "      <td>7.0</td>\n",
              "      <td>9.0</td>\n",
              "      <td>1.3</td>\n",
              "      <td>2.0</td>\n",
              "      <td>344.0</td>\n",
              "      <td>0.0</td>\n",
              "      <td>...</td>\n",
              "      <td>5.60</td>\n",
              "      <td>0.0</td>\n",
              "      <td>14.00</td>\n",
              "      <td>18.0</td>\n",
              "      <td>2.60</td>\n",
              "      <td>4.000</td>\n",
              "      <td>688.0</td>\n",
              "      <td>0.0</td>\n",
              "      <td>0.0</td>\n",
              "      <td>0.0</td>\n",
              "    </tr>\n",
              "  </tbody>\n",
              "</table>\n",
              "<p>5 rows × 23 columns</p>\n",
              "</div>\n",
              "      <button class=\"colab-df-convert\" onclick=\"convertToInteractive('df-2ba3681d-dd0a-497a-864d-9632f324db48')\"\n",
              "              title=\"Convert this dataframe to an interactive table.\"\n",
              "              style=\"display:none;\">\n",
              "        \n",
              "  <svg xmlns=\"http://www.w3.org/2000/svg\" height=\"24px\"viewBox=\"0 0 24 24\"\n",
              "       width=\"24px\">\n",
              "    <path d=\"M0 0h24v24H0V0z\" fill=\"none\"/>\n",
              "    <path d=\"M18.56 5.44l.94 2.06.94-2.06 2.06-.94-2.06-.94-.94-2.06-.94 2.06-2.06.94zm-11 1L8.5 8.5l.94-2.06 2.06-.94-2.06-.94L8.5 2.5l-.94 2.06-2.06.94zm10 10l.94 2.06.94-2.06 2.06-.94-2.06-.94-.94-2.06-.94 2.06-2.06.94z\"/><path d=\"M17.41 7.96l-1.37-1.37c-.4-.4-.92-.59-1.43-.59-.52 0-1.04.2-1.43.59L10.3 9.45l-7.72 7.72c-.78.78-.78 2.05 0 2.83L4 21.41c.39.39.9.59 1.41.59.51 0 1.02-.2 1.41-.59l7.78-7.78 2.81-2.81c.8-.78.8-2.07 0-2.86zM5.41 20L4 18.59l7.72-7.72 1.47 1.35L5.41 20z\"/>\n",
              "  </svg>\n",
              "      </button>\n",
              "      \n",
              "  <style>\n",
              "    .colab-df-container {\n",
              "      display:flex;\n",
              "      flex-wrap:wrap;\n",
              "      gap: 12px;\n",
              "    }\n",
              "\n",
              "    .colab-df-convert {\n",
              "      background-color: #E8F0FE;\n",
              "      border: none;\n",
              "      border-radius: 50%;\n",
              "      cursor: pointer;\n",
              "      display: none;\n",
              "      fill: #1967D2;\n",
              "      height: 32px;\n",
              "      padding: 0 0 0 0;\n",
              "      width: 32px;\n",
              "    }\n",
              "\n",
              "    .colab-df-convert:hover {\n",
              "      background-color: #E2EBFA;\n",
              "      box-shadow: 0px 1px 2px rgba(60, 64, 67, 0.3), 0px 1px 3px 1px rgba(60, 64, 67, 0.15);\n",
              "      fill: #174EA6;\n",
              "    }\n",
              "\n",
              "    [theme=dark] .colab-df-convert {\n",
              "      background-color: #3B4455;\n",
              "      fill: #D2E3FC;\n",
              "    }\n",
              "\n",
              "    [theme=dark] .colab-df-convert:hover {\n",
              "      background-color: #434B5C;\n",
              "      box-shadow: 0px 1px 3px 1px rgba(0, 0, 0, 0.15);\n",
              "      filter: drop-shadow(0px 1px 2px rgba(0, 0, 0, 0.3));\n",
              "      fill: #FFFFFF;\n",
              "    }\n",
              "  </style>\n",
              "\n",
              "      <script>\n",
              "        const buttonEl =\n",
              "          document.querySelector('#df-2ba3681d-dd0a-497a-864d-9632f324db48 button.colab-df-convert');\n",
              "        buttonEl.style.display =\n",
              "          google.colab.kernel.accessAllowed ? 'block' : 'none';\n",
              "\n",
              "        async function convertToInteractive(key) {\n",
              "          const element = document.querySelector('#df-2ba3681d-dd0a-497a-864d-9632f324db48');\n",
              "          const dataTable =\n",
              "            await google.colab.kernel.invokeFunction('convertToInteractive',\n",
              "                                                     [key], {});\n",
              "          if (!dataTable) return;\n",
              "\n",
              "          const docLinkHtml = 'Like what you see? Visit the ' +\n",
              "            '<a target=\"_blank\" href=https://colab.research.google.com/notebooks/data_table.ipynb>data table notebook</a>'\n",
              "            + ' to learn more about interactive tables.';\n",
              "          element.innerHTML = '';\n",
              "          dataTable['output_type'] = 'display_data';\n",
              "          await google.colab.output.renderOutput(dataTable, element);\n",
              "          const docLink = document.createElement('div');\n",
              "          docLink.innerHTML = docLinkHtml;\n",
              "          element.appendChild(docLink);\n",
              "        }\n",
              "      </script>\n",
              "    </div>\n",
              "  </div>\n",
              "  "
            ]
          },
          "metadata": {},
          "execution_count": 6
        }
      ]
    },
    {
      "cell_type": "markdown",
      "source": [
        "### Normalizing Nutrient Values (MinMax Scaler) "
      ],
      "metadata": {
        "id": "glGmmTNFhZwJ"
      }
    },
    {
      "cell_type": "code",
      "source": [
        "X = data_nutrients.values\n",
        "print(X)"
      ],
      "metadata": {
        "colab": {
          "base_uri": "https://localhost:8080/"
        },
        "id": "CMXY3FP5ekWw",
        "outputId": "043a79cc-ad54-4229-b1a7-e9f50d17d2fd"
      },
      "execution_count": 7,
      "outputs": [
        {
          "output_type": "stream",
          "name": "stdout",
          "text": [
            "[[ 80.  168.   11.  ...   0.    0.    0. ]\n",
            " [ 80.  168.   11.  ...   0.    0.    0. ]\n",
            " [ 80.  168.   11.  ...   0.    0.    0. ]\n",
            " ...\n",
            " [ 40.   84.    5.2 ...   0.    0.    0. ]\n",
            " [ 10.   25.    3.3 ...   0.    0.    0. ]\n",
            " [  7.   28.    1.2 ...   0.    0.    0. ]]\n"
          ]
        }
      ]
    },
    {
      "cell_type": "code",
      "source": [
        "attributes_dummies = data_nutrients.columns\n",
        "normalize = preprocessing.MinMaxScaler()\n",
        "xscaled = normalize.fit_transform(X)\n",
        "\n",
        "nutrients_normalized = pd.DataFrame(xscaled,columns=attributes_dummies)\n",
        "nutrients_normalized = nutrients_normalized.replace(np.nan,0)\n",
        "\n",
        "nutrients_normalized.head()"
      ],
      "metadata": {
        "colab": {
          "base_uri": "https://localhost:8080/",
          "height": 334
        },
        "id": "55oXzPRqgA8-",
        "outputId": "ccc9ff0c-c11d-498a-e6d4-2cf9b0e174c2"
      },
      "execution_count": 8,
      "outputs": [
        {
          "output_type": "execute_result",
          "data": {
            "text/plain": [
              "   Serving Size      Kcal  Carbohydrate  Sugars  Proteins   Total Fats  \\\n",
              "0      0.212828  0.263815      0.244444     0.0  0.195238     0.204082   \n",
              "1      0.212828  0.263815      0.244444     0.0  0.195238     0.204082   \n",
              "2      0.212828  0.263815      0.244444     0.0  0.195238     0.204082   \n",
              "3      0.125364  0.212121      0.171111     0.0  0.135714     0.193878   \n",
              "4      0.125364  0.174688      0.062222     0.0  0.166667     0.183673   \n",
              "\n",
              "    Saturated Fats   Dietary Fiber     Sodium  B12  ...  Carbohydrate.1  \\\n",
              "0         0.489130         0.007447  0.414376  0.0  ...          0.1650   \n",
              "1         0.489130         0.007447  0.414376  0.0  ...          0.1650   \n",
              "2         0.489130         0.007447  0.414376  0.0  ...          0.1650   \n",
              "3         0.211957         0.002128  0.310782  0.0  ...          0.1848   \n",
              "4         0.070652         0.021277  0.363636  0.0  ...          0.0672   \n",
              "\n",
              "   Sugars.1  Proteins.1  Total Fats  Saturated Fats   Dietary Fiber .1  \\\n",
              "0       0.0       0.205    0.051020        0.383523           0.001117   \n",
              "1       0.0       0.205    0.051020        0.383523           0.001117   \n",
              "2       0.0       0.205    0.051020        0.383523           0.001117   \n",
              "3       0.0       0.228    0.077551        0.265909           0.000511   \n",
              "4       0.0       0.280    0.073469        0.088636           0.005106   \n",
              "\n",
              "   Sodium.1  B12.1  Calcium.1  Zinc.1  \n",
              "0  0.377892    0.0        0.0     0.0  \n",
              "1  0.377892    0.0        0.0     0.0  \n",
              "2  0.377892    0.0        0.0     0.0  \n",
              "3  0.453470    0.0        0.0     0.0  \n",
              "4  0.530591    0.0        0.0     0.0  \n",
              "\n",
              "[5 rows x 23 columns]"
            ],
            "text/html": [
              "\n",
              "  <div id=\"df-4f8c37ea-6726-4e34-8edc-15ff6218a2b5\">\n",
              "    <div class=\"colab-df-container\">\n",
              "      <div>\n",
              "<style scoped>\n",
              "    .dataframe tbody tr th:only-of-type {\n",
              "        vertical-align: middle;\n",
              "    }\n",
              "\n",
              "    .dataframe tbody tr th {\n",
              "        vertical-align: top;\n",
              "    }\n",
              "\n",
              "    .dataframe thead th {\n",
              "        text-align: right;\n",
              "    }\n",
              "</style>\n",
              "<table border=\"1\" class=\"dataframe\">\n",
              "  <thead>\n",
              "    <tr style=\"text-align: right;\">\n",
              "      <th></th>\n",
              "      <th>Serving Size</th>\n",
              "      <th>Kcal</th>\n",
              "      <th>Carbohydrate</th>\n",
              "      <th>Sugars</th>\n",
              "      <th>Proteins</th>\n",
              "      <th>Total Fats</th>\n",
              "      <th>Saturated Fats</th>\n",
              "      <th>Dietary Fiber</th>\n",
              "      <th>Sodium</th>\n",
              "      <th>B12</th>\n",
              "      <th>...</th>\n",
              "      <th>Carbohydrate.1</th>\n",
              "      <th>Sugars.1</th>\n",
              "      <th>Proteins.1</th>\n",
              "      <th>Total Fats</th>\n",
              "      <th>Saturated Fats</th>\n",
              "      <th>Dietary Fiber .1</th>\n",
              "      <th>Sodium.1</th>\n",
              "      <th>B12.1</th>\n",
              "      <th>Calcium.1</th>\n",
              "      <th>Zinc.1</th>\n",
              "    </tr>\n",
              "  </thead>\n",
              "  <tbody>\n",
              "    <tr>\n",
              "      <th>0</th>\n",
              "      <td>0.212828</td>\n",
              "      <td>0.263815</td>\n",
              "      <td>0.244444</td>\n",
              "      <td>0.0</td>\n",
              "      <td>0.195238</td>\n",
              "      <td>0.204082</td>\n",
              "      <td>0.489130</td>\n",
              "      <td>0.007447</td>\n",
              "      <td>0.414376</td>\n",
              "      <td>0.0</td>\n",
              "      <td>...</td>\n",
              "      <td>0.1650</td>\n",
              "      <td>0.0</td>\n",
              "      <td>0.205</td>\n",
              "      <td>0.051020</td>\n",
              "      <td>0.383523</td>\n",
              "      <td>0.001117</td>\n",
              "      <td>0.377892</td>\n",
              "      <td>0.0</td>\n",
              "      <td>0.0</td>\n",
              "      <td>0.0</td>\n",
              "    </tr>\n",
              "    <tr>\n",
              "      <th>1</th>\n",
              "      <td>0.212828</td>\n",
              "      <td>0.263815</td>\n",
              "      <td>0.244444</td>\n",
              "      <td>0.0</td>\n",
              "      <td>0.195238</td>\n",
              "      <td>0.204082</td>\n",
              "      <td>0.489130</td>\n",
              "      <td>0.007447</td>\n",
              "      <td>0.414376</td>\n",
              "      <td>0.0</td>\n",
              "      <td>...</td>\n",
              "      <td>0.1650</td>\n",
              "      <td>0.0</td>\n",
              "      <td>0.205</td>\n",
              "      <td>0.051020</td>\n",
              "      <td>0.383523</td>\n",
              "      <td>0.001117</td>\n",
              "      <td>0.377892</td>\n",
              "      <td>0.0</td>\n",
              "      <td>0.0</td>\n",
              "      <td>0.0</td>\n",
              "    </tr>\n",
              "    <tr>\n",
              "      <th>2</th>\n",
              "      <td>0.212828</td>\n",
              "      <td>0.263815</td>\n",
              "      <td>0.244444</td>\n",
              "      <td>0.0</td>\n",
              "      <td>0.195238</td>\n",
              "      <td>0.204082</td>\n",
              "      <td>0.489130</td>\n",
              "      <td>0.007447</td>\n",
              "      <td>0.414376</td>\n",
              "      <td>0.0</td>\n",
              "      <td>...</td>\n",
              "      <td>0.1650</td>\n",
              "      <td>0.0</td>\n",
              "      <td>0.205</td>\n",
              "      <td>0.051020</td>\n",
              "      <td>0.383523</td>\n",
              "      <td>0.001117</td>\n",
              "      <td>0.377892</td>\n",
              "      <td>0.0</td>\n",
              "      <td>0.0</td>\n",
              "      <td>0.0</td>\n",
              "    </tr>\n",
              "    <tr>\n",
              "      <th>3</th>\n",
              "      <td>0.125364</td>\n",
              "      <td>0.212121</td>\n",
              "      <td>0.171111</td>\n",
              "      <td>0.0</td>\n",
              "      <td>0.135714</td>\n",
              "      <td>0.193878</td>\n",
              "      <td>0.211957</td>\n",
              "      <td>0.002128</td>\n",
              "      <td>0.310782</td>\n",
              "      <td>0.0</td>\n",
              "      <td>...</td>\n",
              "      <td>0.1848</td>\n",
              "      <td>0.0</td>\n",
              "      <td>0.228</td>\n",
              "      <td>0.077551</td>\n",
              "      <td>0.265909</td>\n",
              "      <td>0.000511</td>\n",
              "      <td>0.453470</td>\n",
              "      <td>0.0</td>\n",
              "      <td>0.0</td>\n",
              "      <td>0.0</td>\n",
              "    </tr>\n",
              "    <tr>\n",
              "      <th>4</th>\n",
              "      <td>0.125364</td>\n",
              "      <td>0.174688</td>\n",
              "      <td>0.062222</td>\n",
              "      <td>0.0</td>\n",
              "      <td>0.166667</td>\n",
              "      <td>0.183673</td>\n",
              "      <td>0.070652</td>\n",
              "      <td>0.021277</td>\n",
              "      <td>0.363636</td>\n",
              "      <td>0.0</td>\n",
              "      <td>...</td>\n",
              "      <td>0.0672</td>\n",
              "      <td>0.0</td>\n",
              "      <td>0.280</td>\n",
              "      <td>0.073469</td>\n",
              "      <td>0.088636</td>\n",
              "      <td>0.005106</td>\n",
              "      <td>0.530591</td>\n",
              "      <td>0.0</td>\n",
              "      <td>0.0</td>\n",
              "      <td>0.0</td>\n",
              "    </tr>\n",
              "  </tbody>\n",
              "</table>\n",
              "<p>5 rows × 23 columns</p>\n",
              "</div>\n",
              "      <button class=\"colab-df-convert\" onclick=\"convertToInteractive('df-4f8c37ea-6726-4e34-8edc-15ff6218a2b5')\"\n",
              "              title=\"Convert this dataframe to an interactive table.\"\n",
              "              style=\"display:none;\">\n",
              "        \n",
              "  <svg xmlns=\"http://www.w3.org/2000/svg\" height=\"24px\"viewBox=\"0 0 24 24\"\n",
              "       width=\"24px\">\n",
              "    <path d=\"M0 0h24v24H0V0z\" fill=\"none\"/>\n",
              "    <path d=\"M18.56 5.44l.94 2.06.94-2.06 2.06-.94-2.06-.94-.94-2.06-.94 2.06-2.06.94zm-11 1L8.5 8.5l.94-2.06 2.06-.94-2.06-.94L8.5 2.5l-.94 2.06-2.06.94zm10 10l.94 2.06.94-2.06 2.06-.94-2.06-.94-.94-2.06-.94 2.06-2.06.94z\"/><path d=\"M17.41 7.96l-1.37-1.37c-.4-.4-.92-.59-1.43-.59-.52 0-1.04.2-1.43.59L10.3 9.45l-7.72 7.72c-.78.78-.78 2.05 0 2.83L4 21.41c.39.39.9.59 1.41.59.51 0 1.02-.2 1.41-.59l7.78-7.78 2.81-2.81c.8-.78.8-2.07 0-2.86zM5.41 20L4 18.59l7.72-7.72 1.47 1.35L5.41 20z\"/>\n",
              "  </svg>\n",
              "      </button>\n",
              "      \n",
              "  <style>\n",
              "    .colab-df-container {\n",
              "      display:flex;\n",
              "      flex-wrap:wrap;\n",
              "      gap: 12px;\n",
              "    }\n",
              "\n",
              "    .colab-df-convert {\n",
              "      background-color: #E8F0FE;\n",
              "      border: none;\n",
              "      border-radius: 50%;\n",
              "      cursor: pointer;\n",
              "      display: none;\n",
              "      fill: #1967D2;\n",
              "      height: 32px;\n",
              "      padding: 0 0 0 0;\n",
              "      width: 32px;\n",
              "    }\n",
              "\n",
              "    .colab-df-convert:hover {\n",
              "      background-color: #E2EBFA;\n",
              "      box-shadow: 0px 1px 2px rgba(60, 64, 67, 0.3), 0px 1px 3px 1px rgba(60, 64, 67, 0.15);\n",
              "      fill: #174EA6;\n",
              "    }\n",
              "\n",
              "    [theme=dark] .colab-df-convert {\n",
              "      background-color: #3B4455;\n",
              "      fill: #D2E3FC;\n",
              "    }\n",
              "\n",
              "    [theme=dark] .colab-df-convert:hover {\n",
              "      background-color: #434B5C;\n",
              "      box-shadow: 0px 1px 3px 1px rgba(0, 0, 0, 0.15);\n",
              "      filter: drop-shadow(0px 1px 2px rgba(0, 0, 0, 0.3));\n",
              "      fill: #FFFFFF;\n",
              "    }\n",
              "  </style>\n",
              "\n",
              "      <script>\n",
              "        const buttonEl =\n",
              "          document.querySelector('#df-4f8c37ea-6726-4e34-8edc-15ff6218a2b5 button.colab-df-convert');\n",
              "        buttonEl.style.display =\n",
              "          google.colab.kernel.accessAllowed ? 'block' : 'none';\n",
              "\n",
              "        async function convertToInteractive(key) {\n",
              "          const element = document.querySelector('#df-4f8c37ea-6726-4e34-8edc-15ff6218a2b5');\n",
              "          const dataTable =\n",
              "            await google.colab.kernel.invokeFunction('convertToInteractive',\n",
              "                                                     [key], {});\n",
              "          if (!dataTable) return;\n",
              "\n",
              "          const docLinkHtml = 'Like what you see? Visit the ' +\n",
              "            '<a target=\"_blank\" href=https://colab.research.google.com/notebooks/data_table.ipynb>data table notebook</a>'\n",
              "            + ' to learn more about interactive tables.';\n",
              "          element.innerHTML = '';\n",
              "          dataTable['output_type'] = 'display_data';\n",
              "          await google.colab.output.renderOutput(dataTable, element);\n",
              "          const docLink = document.createElement('div');\n",
              "          docLink.innerHTML = docLinkHtml;\n",
              "          element.appendChild(docLink);\n",
              "        }\n",
              "      </script>\n",
              "    </div>\n",
              "  </div>\n",
              "  "
            ]
          },
          "metadata": {},
          "execution_count": 8
        }
      ]
    },
    {
      "cell_type": "markdown",
      "source": [
        "### Normalizing Ingredients (One Hot Encode)"
      ],
      "metadata": {
        "id": "47hZh5mjFl6H"
      }
    },
    {
      "cell_type": "code",
      "source": [
        "ingredients_normalized = pd.DataFrame()\n",
        "\n",
        "for i in range(276):\n",
        "  aux = data_ingredients.at[i,'Ingredients'].split(\",\")\n",
        "  for w in aux:\n",
        "    w = unidecode(w.lower().lstrip().replace('.',''))\n",
        "    ingredients_normalized.at[i,w] = 1\n",
        "\n",
        "ingredients_normalized = ingredients_normalized.replace(np.nan,0)\n",
        "ingredients_normalized.head()"
      ],
      "metadata": {
        "id": "r_fKMe2ghv6k",
        "colab": {
          "base_uri": "https://localhost:8080/",
          "height": 334
        },
        "outputId": "f86bbed6-a42a-4f72-ab87-e05e47460ae2"
      },
      "execution_count": 9,
      "outputs": [
        {
          "output_type": "execute_result",
          "data": {
            "text/plain": [
              "   water  texturizedsoyprotein  peaprotein e chickpeaflour  vegetalfat  \\\n",
              "0    1.0                   1.0                         1.0         1.0   \n",
              "1    1.0                   1.0                         1.0         1.0   \n",
              "2    1.0                   1.0                         1.0         1.0   \n",
              "3    1.0                   1.0                         1.0         1.0   \n",
              "4    1.0                   1.0                         0.0         0.0   \n",
              "\n",
              "   modifiedstarch  onion  meatflavoredcondiment  salt  sugar  powderedbeet  \\\n",
              "0             1.0    1.0                    1.0   1.0    1.0           1.0   \n",
              "1             1.0    1.0                    1.0   1.0    0.0           1.0   \n",
              "2             1.0    1.0                    1.0   1.0    0.0           1.0   \n",
              "3             1.0    1.0                    0.0   1.0    1.0           1.0   \n",
              "4             0.0    0.0                    0.0   1.0    1.0           0.0   \n",
              "\n",
              "   ...  cloreto de potassio  calciumdisodium and citricacid  \\\n",
              "0  ...                  0.0                             0.0   \n",
              "1  ...                  0.0                             0.0   \n",
              "2  ...                  0.0                             0.0   \n",
              "3  ...                  0.0                             0.0   \n",
              "4  ...                  0.0                             0.0   \n",
              "\n",
              "   isolatedvegetableprotein  hydrolyzedvegetableprotein  soy  \\\n",
              "0                       0.0                         0.0  0.0   \n",
              "1                       0.0                         0.0  0.0   \n",
              "2                       0.0                         0.0  0.0   \n",
              "3                       0.0                         0.0  0.0   \n",
              "4                       0.0                         0.0  0.0   \n",
              "\n",
              "   potassiumsorbate   peastarch  peaprotein and sodiumbicarbonate  \\\n",
              "0                0.0        0.0                               0.0   \n",
              "1                0.0        0.0                               0.0   \n",
              "2                0.0        0.0                               0.0   \n",
              "3                0.0        0.0                               0.0   \n",
              "4                0.0        0.0                               0.0   \n",
              "\n",
              "   isolatedriceprotein  chickpeas and goldenflaxseed  \n",
              "0                  0.0                           0.0  \n",
              "1                  0.0                           0.0  \n",
              "2                  0.0                           0.0  \n",
              "3                  0.0                           0.0  \n",
              "4                  0.0                           0.0  \n",
              "\n",
              "[5 rows x 607 columns]"
            ],
            "text/html": [
              "\n",
              "  <div id=\"df-b5b1a05b-2ced-4816-8fd9-b7d6cb424862\">\n",
              "    <div class=\"colab-df-container\">\n",
              "      <div>\n",
              "<style scoped>\n",
              "    .dataframe tbody tr th:only-of-type {\n",
              "        vertical-align: middle;\n",
              "    }\n",
              "\n",
              "    .dataframe tbody tr th {\n",
              "        vertical-align: top;\n",
              "    }\n",
              "\n",
              "    .dataframe thead th {\n",
              "        text-align: right;\n",
              "    }\n",
              "</style>\n",
              "<table border=\"1\" class=\"dataframe\">\n",
              "  <thead>\n",
              "    <tr style=\"text-align: right;\">\n",
              "      <th></th>\n",
              "      <th>water</th>\n",
              "      <th>texturizedsoyprotein</th>\n",
              "      <th>peaprotein e chickpeaflour</th>\n",
              "      <th>vegetalfat</th>\n",
              "      <th>modifiedstarch</th>\n",
              "      <th>onion</th>\n",
              "      <th>meatflavoredcondiment</th>\n",
              "      <th>salt</th>\n",
              "      <th>sugar</th>\n",
              "      <th>powderedbeet</th>\n",
              "      <th>...</th>\n",
              "      <th>cloreto de potassio</th>\n",
              "      <th>calciumdisodium and citricacid</th>\n",
              "      <th>isolatedvegetableprotein</th>\n",
              "      <th>hydrolyzedvegetableprotein</th>\n",
              "      <th>soy</th>\n",
              "      <th>potassiumsorbate</th>\n",
              "      <th>peastarch</th>\n",
              "      <th>peaprotein and sodiumbicarbonate</th>\n",
              "      <th>isolatedriceprotein</th>\n",
              "      <th>chickpeas and goldenflaxseed</th>\n",
              "    </tr>\n",
              "  </thead>\n",
              "  <tbody>\n",
              "    <tr>\n",
              "      <th>0</th>\n",
              "      <td>1.0</td>\n",
              "      <td>1.0</td>\n",
              "      <td>1.0</td>\n",
              "      <td>1.0</td>\n",
              "      <td>1.0</td>\n",
              "      <td>1.0</td>\n",
              "      <td>1.0</td>\n",
              "      <td>1.0</td>\n",
              "      <td>1.0</td>\n",
              "      <td>1.0</td>\n",
              "      <td>...</td>\n",
              "      <td>0.0</td>\n",
              "      <td>0.0</td>\n",
              "      <td>0.0</td>\n",
              "      <td>0.0</td>\n",
              "      <td>0.0</td>\n",
              "      <td>0.0</td>\n",
              "      <td>0.0</td>\n",
              "      <td>0.0</td>\n",
              "      <td>0.0</td>\n",
              "      <td>0.0</td>\n",
              "    </tr>\n",
              "    <tr>\n",
              "      <th>1</th>\n",
              "      <td>1.0</td>\n",
              "      <td>1.0</td>\n",
              "      <td>1.0</td>\n",
              "      <td>1.0</td>\n",
              "      <td>1.0</td>\n",
              "      <td>1.0</td>\n",
              "      <td>1.0</td>\n",
              "      <td>1.0</td>\n",
              "      <td>0.0</td>\n",
              "      <td>1.0</td>\n",
              "      <td>...</td>\n",
              "      <td>0.0</td>\n",
              "      <td>0.0</td>\n",
              "      <td>0.0</td>\n",
              "      <td>0.0</td>\n",
              "      <td>0.0</td>\n",
              "      <td>0.0</td>\n",
              "      <td>0.0</td>\n",
              "      <td>0.0</td>\n",
              "      <td>0.0</td>\n",
              "      <td>0.0</td>\n",
              "    </tr>\n",
              "    <tr>\n",
              "      <th>2</th>\n",
              "      <td>1.0</td>\n",
              "      <td>1.0</td>\n",
              "      <td>1.0</td>\n",
              "      <td>1.0</td>\n",
              "      <td>1.0</td>\n",
              "      <td>1.0</td>\n",
              "      <td>1.0</td>\n",
              "      <td>1.0</td>\n",
              "      <td>0.0</td>\n",
              "      <td>1.0</td>\n",
              "      <td>...</td>\n",
              "      <td>0.0</td>\n",
              "      <td>0.0</td>\n",
              "      <td>0.0</td>\n",
              "      <td>0.0</td>\n",
              "      <td>0.0</td>\n",
              "      <td>0.0</td>\n",
              "      <td>0.0</td>\n",
              "      <td>0.0</td>\n",
              "      <td>0.0</td>\n",
              "      <td>0.0</td>\n",
              "    </tr>\n",
              "    <tr>\n",
              "      <th>3</th>\n",
              "      <td>1.0</td>\n",
              "      <td>1.0</td>\n",
              "      <td>1.0</td>\n",
              "      <td>1.0</td>\n",
              "      <td>1.0</td>\n",
              "      <td>1.0</td>\n",
              "      <td>0.0</td>\n",
              "      <td>1.0</td>\n",
              "      <td>1.0</td>\n",
              "      <td>1.0</td>\n",
              "      <td>...</td>\n",
              "      <td>0.0</td>\n",
              "      <td>0.0</td>\n",
              "      <td>0.0</td>\n",
              "      <td>0.0</td>\n",
              "      <td>0.0</td>\n",
              "      <td>0.0</td>\n",
              "      <td>0.0</td>\n",
              "      <td>0.0</td>\n",
              "      <td>0.0</td>\n",
              "      <td>0.0</td>\n",
              "    </tr>\n",
              "    <tr>\n",
              "      <th>4</th>\n",
              "      <td>1.0</td>\n",
              "      <td>1.0</td>\n",
              "      <td>0.0</td>\n",
              "      <td>0.0</td>\n",
              "      <td>0.0</td>\n",
              "      <td>0.0</td>\n",
              "      <td>0.0</td>\n",
              "      <td>1.0</td>\n",
              "      <td>1.0</td>\n",
              "      <td>0.0</td>\n",
              "      <td>...</td>\n",
              "      <td>0.0</td>\n",
              "      <td>0.0</td>\n",
              "      <td>0.0</td>\n",
              "      <td>0.0</td>\n",
              "      <td>0.0</td>\n",
              "      <td>0.0</td>\n",
              "      <td>0.0</td>\n",
              "      <td>0.0</td>\n",
              "      <td>0.0</td>\n",
              "      <td>0.0</td>\n",
              "    </tr>\n",
              "  </tbody>\n",
              "</table>\n",
              "<p>5 rows × 607 columns</p>\n",
              "</div>\n",
              "      <button class=\"colab-df-convert\" onclick=\"convertToInteractive('df-b5b1a05b-2ced-4816-8fd9-b7d6cb424862')\"\n",
              "              title=\"Convert this dataframe to an interactive table.\"\n",
              "              style=\"display:none;\">\n",
              "        \n",
              "  <svg xmlns=\"http://www.w3.org/2000/svg\" height=\"24px\"viewBox=\"0 0 24 24\"\n",
              "       width=\"24px\">\n",
              "    <path d=\"M0 0h24v24H0V0z\" fill=\"none\"/>\n",
              "    <path d=\"M18.56 5.44l.94 2.06.94-2.06 2.06-.94-2.06-.94-.94-2.06-.94 2.06-2.06.94zm-11 1L8.5 8.5l.94-2.06 2.06-.94-2.06-.94L8.5 2.5l-.94 2.06-2.06.94zm10 10l.94 2.06.94-2.06 2.06-.94-2.06-.94-.94-2.06-.94 2.06-2.06.94z\"/><path d=\"M17.41 7.96l-1.37-1.37c-.4-.4-.92-.59-1.43-.59-.52 0-1.04.2-1.43.59L10.3 9.45l-7.72 7.72c-.78.78-.78 2.05 0 2.83L4 21.41c.39.39.9.59 1.41.59.51 0 1.02-.2 1.41-.59l7.78-7.78 2.81-2.81c.8-.78.8-2.07 0-2.86zM5.41 20L4 18.59l7.72-7.72 1.47 1.35L5.41 20z\"/>\n",
              "  </svg>\n",
              "      </button>\n",
              "      \n",
              "  <style>\n",
              "    .colab-df-container {\n",
              "      display:flex;\n",
              "      flex-wrap:wrap;\n",
              "      gap: 12px;\n",
              "    }\n",
              "\n",
              "    .colab-df-convert {\n",
              "      background-color: #E8F0FE;\n",
              "      border: none;\n",
              "      border-radius: 50%;\n",
              "      cursor: pointer;\n",
              "      display: none;\n",
              "      fill: #1967D2;\n",
              "      height: 32px;\n",
              "      padding: 0 0 0 0;\n",
              "      width: 32px;\n",
              "    }\n",
              "\n",
              "    .colab-df-convert:hover {\n",
              "      background-color: #E2EBFA;\n",
              "      box-shadow: 0px 1px 2px rgba(60, 64, 67, 0.3), 0px 1px 3px 1px rgba(60, 64, 67, 0.15);\n",
              "      fill: #174EA6;\n",
              "    }\n",
              "\n",
              "    [theme=dark] .colab-df-convert {\n",
              "      background-color: #3B4455;\n",
              "      fill: #D2E3FC;\n",
              "    }\n",
              "\n",
              "    [theme=dark] .colab-df-convert:hover {\n",
              "      background-color: #434B5C;\n",
              "      box-shadow: 0px 1px 3px 1px rgba(0, 0, 0, 0.15);\n",
              "      filter: drop-shadow(0px 1px 2px rgba(0, 0, 0, 0.3));\n",
              "      fill: #FFFFFF;\n",
              "    }\n",
              "  </style>\n",
              "\n",
              "      <script>\n",
              "        const buttonEl =\n",
              "          document.querySelector('#df-b5b1a05b-2ced-4816-8fd9-b7d6cb424862 button.colab-df-convert');\n",
              "        buttonEl.style.display =\n",
              "          google.colab.kernel.accessAllowed ? 'block' : 'none';\n",
              "\n",
              "        async function convertToInteractive(key) {\n",
              "          const element = document.querySelector('#df-b5b1a05b-2ced-4816-8fd9-b7d6cb424862');\n",
              "          const dataTable =\n",
              "            await google.colab.kernel.invokeFunction('convertToInteractive',\n",
              "                                                     [key], {});\n",
              "          if (!dataTable) return;\n",
              "\n",
              "          const docLinkHtml = 'Like what you see? Visit the ' +\n",
              "            '<a target=\"_blank\" href=https://colab.research.google.com/notebooks/data_table.ipynb>data table notebook</a>'\n",
              "            + ' to learn more about interactive tables.';\n",
              "          element.innerHTML = '';\n",
              "          dataTable['output_type'] = 'display_data';\n",
              "          await google.colab.output.renderOutput(dataTable, element);\n",
              "          const docLink = document.createElement('div');\n",
              "          docLink.innerHTML = docLinkHtml;\n",
              "          element.appendChild(docLink);\n",
              "        }\n",
              "      </script>\n",
              "    </div>\n",
              "  </div>\n",
              "  "
            ]
          },
          "metadata": {},
          "execution_count": 9
        }
      ]
    },
    {
      "cell_type": "markdown",
      "source": [
        "### Preparing data"
      ],
      "metadata": {
        "id": "azEImQ_cGFi_"
      }
    },
    {
      "cell_type": "code",
      "source": [
        "raw_data = pd.DataFrame(ingredients_normalized)\n",
        "raw_data = pd.concat([raw_data,nutrients_normalized], axis=1)\n",
        "raw_data = raw_data.replace(np.nan,0)\n",
        "\n",
        "raw_data.head()"
      ],
      "metadata": {
        "colab": {
          "base_uri": "https://localhost:8080/",
          "height": 334
        },
        "id": "tTomN3J0kd6h",
        "outputId": "a269dfa2-4b5c-4abe-c1fa-d73c46248969"
      },
      "execution_count": 10,
      "outputs": [
        {
          "output_type": "execute_result",
          "data": {
            "text/plain": [
              "   water  texturizedsoyprotein  peaprotein e chickpeaflour  vegetalfat  \\\n",
              "0    1.0                   1.0                         1.0         1.0   \n",
              "1    1.0                   1.0                         1.0         1.0   \n",
              "2    1.0                   1.0                         1.0         1.0   \n",
              "3    1.0                   1.0                         1.0         1.0   \n",
              "4    1.0                   1.0                         0.0         0.0   \n",
              "\n",
              "   modifiedstarch  onion  meatflavoredcondiment  salt  sugar  powderedbeet  \\\n",
              "0             1.0    1.0                    1.0   1.0    1.0           1.0   \n",
              "1             1.0    1.0                    1.0   1.0    0.0           1.0   \n",
              "2             1.0    1.0                    1.0   1.0    0.0           1.0   \n",
              "3             1.0    1.0                    0.0   1.0    1.0           1.0   \n",
              "4             0.0    0.0                    0.0   1.0    1.0           0.0   \n",
              "\n",
              "   ...  Carbohydrate.1  Sugars.1  Proteins.1  Total Fats  Saturated Fats  \\\n",
              "0  ...          0.1650       0.0       0.205    0.051020        0.383523   \n",
              "1  ...          0.1650       0.0       0.205    0.051020        0.383523   \n",
              "2  ...          0.1650       0.0       0.205    0.051020        0.383523   \n",
              "3  ...          0.1848       0.0       0.228    0.077551        0.265909   \n",
              "4  ...          0.0672       0.0       0.280    0.073469        0.088636   \n",
              "\n",
              "    Dietary Fiber .1  Sodium.1  B12.1  Calcium.1  Zinc.1  \n",
              "0           0.001117  0.377892    0.0        0.0     0.0  \n",
              "1           0.001117  0.377892    0.0        0.0     0.0  \n",
              "2           0.001117  0.377892    0.0        0.0     0.0  \n",
              "3           0.000511  0.453470    0.0        0.0     0.0  \n",
              "4           0.005106  0.530591    0.0        0.0     0.0  \n",
              "\n",
              "[5 rows x 630 columns]"
            ],
            "text/html": [
              "\n",
              "  <div id=\"df-6fe0af7d-8779-4cbf-b07a-c7f4b0b02fd5\">\n",
              "    <div class=\"colab-df-container\">\n",
              "      <div>\n",
              "<style scoped>\n",
              "    .dataframe tbody tr th:only-of-type {\n",
              "        vertical-align: middle;\n",
              "    }\n",
              "\n",
              "    .dataframe tbody tr th {\n",
              "        vertical-align: top;\n",
              "    }\n",
              "\n",
              "    .dataframe thead th {\n",
              "        text-align: right;\n",
              "    }\n",
              "</style>\n",
              "<table border=\"1\" class=\"dataframe\">\n",
              "  <thead>\n",
              "    <tr style=\"text-align: right;\">\n",
              "      <th></th>\n",
              "      <th>water</th>\n",
              "      <th>texturizedsoyprotein</th>\n",
              "      <th>peaprotein e chickpeaflour</th>\n",
              "      <th>vegetalfat</th>\n",
              "      <th>modifiedstarch</th>\n",
              "      <th>onion</th>\n",
              "      <th>meatflavoredcondiment</th>\n",
              "      <th>salt</th>\n",
              "      <th>sugar</th>\n",
              "      <th>powderedbeet</th>\n",
              "      <th>...</th>\n",
              "      <th>Carbohydrate.1</th>\n",
              "      <th>Sugars.1</th>\n",
              "      <th>Proteins.1</th>\n",
              "      <th>Total Fats</th>\n",
              "      <th>Saturated Fats</th>\n",
              "      <th>Dietary Fiber .1</th>\n",
              "      <th>Sodium.1</th>\n",
              "      <th>B12.1</th>\n",
              "      <th>Calcium.1</th>\n",
              "      <th>Zinc.1</th>\n",
              "    </tr>\n",
              "  </thead>\n",
              "  <tbody>\n",
              "    <tr>\n",
              "      <th>0</th>\n",
              "      <td>1.0</td>\n",
              "      <td>1.0</td>\n",
              "      <td>1.0</td>\n",
              "      <td>1.0</td>\n",
              "      <td>1.0</td>\n",
              "      <td>1.0</td>\n",
              "      <td>1.0</td>\n",
              "      <td>1.0</td>\n",
              "      <td>1.0</td>\n",
              "      <td>1.0</td>\n",
              "      <td>...</td>\n",
              "      <td>0.1650</td>\n",
              "      <td>0.0</td>\n",
              "      <td>0.205</td>\n",
              "      <td>0.051020</td>\n",
              "      <td>0.383523</td>\n",
              "      <td>0.001117</td>\n",
              "      <td>0.377892</td>\n",
              "      <td>0.0</td>\n",
              "      <td>0.0</td>\n",
              "      <td>0.0</td>\n",
              "    </tr>\n",
              "    <tr>\n",
              "      <th>1</th>\n",
              "      <td>1.0</td>\n",
              "      <td>1.0</td>\n",
              "      <td>1.0</td>\n",
              "      <td>1.0</td>\n",
              "      <td>1.0</td>\n",
              "      <td>1.0</td>\n",
              "      <td>1.0</td>\n",
              "      <td>1.0</td>\n",
              "      <td>0.0</td>\n",
              "      <td>1.0</td>\n",
              "      <td>...</td>\n",
              "      <td>0.1650</td>\n",
              "      <td>0.0</td>\n",
              "      <td>0.205</td>\n",
              "      <td>0.051020</td>\n",
              "      <td>0.383523</td>\n",
              "      <td>0.001117</td>\n",
              "      <td>0.377892</td>\n",
              "      <td>0.0</td>\n",
              "      <td>0.0</td>\n",
              "      <td>0.0</td>\n",
              "    </tr>\n",
              "    <tr>\n",
              "      <th>2</th>\n",
              "      <td>1.0</td>\n",
              "      <td>1.0</td>\n",
              "      <td>1.0</td>\n",
              "      <td>1.0</td>\n",
              "      <td>1.0</td>\n",
              "      <td>1.0</td>\n",
              "      <td>1.0</td>\n",
              "      <td>1.0</td>\n",
              "      <td>0.0</td>\n",
              "      <td>1.0</td>\n",
              "      <td>...</td>\n",
              "      <td>0.1650</td>\n",
              "      <td>0.0</td>\n",
              "      <td>0.205</td>\n",
              "      <td>0.051020</td>\n",
              "      <td>0.383523</td>\n",
              "      <td>0.001117</td>\n",
              "      <td>0.377892</td>\n",
              "      <td>0.0</td>\n",
              "      <td>0.0</td>\n",
              "      <td>0.0</td>\n",
              "    </tr>\n",
              "    <tr>\n",
              "      <th>3</th>\n",
              "      <td>1.0</td>\n",
              "      <td>1.0</td>\n",
              "      <td>1.0</td>\n",
              "      <td>1.0</td>\n",
              "      <td>1.0</td>\n",
              "      <td>1.0</td>\n",
              "      <td>0.0</td>\n",
              "      <td>1.0</td>\n",
              "      <td>1.0</td>\n",
              "      <td>1.0</td>\n",
              "      <td>...</td>\n",
              "      <td>0.1848</td>\n",
              "      <td>0.0</td>\n",
              "      <td>0.228</td>\n",
              "      <td>0.077551</td>\n",
              "      <td>0.265909</td>\n",
              "      <td>0.000511</td>\n",
              "      <td>0.453470</td>\n",
              "      <td>0.0</td>\n",
              "      <td>0.0</td>\n",
              "      <td>0.0</td>\n",
              "    </tr>\n",
              "    <tr>\n",
              "      <th>4</th>\n",
              "      <td>1.0</td>\n",
              "      <td>1.0</td>\n",
              "      <td>0.0</td>\n",
              "      <td>0.0</td>\n",
              "      <td>0.0</td>\n",
              "      <td>0.0</td>\n",
              "      <td>0.0</td>\n",
              "      <td>1.0</td>\n",
              "      <td>1.0</td>\n",
              "      <td>0.0</td>\n",
              "      <td>...</td>\n",
              "      <td>0.0672</td>\n",
              "      <td>0.0</td>\n",
              "      <td>0.280</td>\n",
              "      <td>0.073469</td>\n",
              "      <td>0.088636</td>\n",
              "      <td>0.005106</td>\n",
              "      <td>0.530591</td>\n",
              "      <td>0.0</td>\n",
              "      <td>0.0</td>\n",
              "      <td>0.0</td>\n",
              "    </tr>\n",
              "  </tbody>\n",
              "</table>\n",
              "<p>5 rows × 630 columns</p>\n",
              "</div>\n",
              "      <button class=\"colab-df-convert\" onclick=\"convertToInteractive('df-6fe0af7d-8779-4cbf-b07a-c7f4b0b02fd5')\"\n",
              "              title=\"Convert this dataframe to an interactive table.\"\n",
              "              style=\"display:none;\">\n",
              "        \n",
              "  <svg xmlns=\"http://www.w3.org/2000/svg\" height=\"24px\"viewBox=\"0 0 24 24\"\n",
              "       width=\"24px\">\n",
              "    <path d=\"M0 0h24v24H0V0z\" fill=\"none\"/>\n",
              "    <path d=\"M18.56 5.44l.94 2.06.94-2.06 2.06-.94-2.06-.94-.94-2.06-.94 2.06-2.06.94zm-11 1L8.5 8.5l.94-2.06 2.06-.94-2.06-.94L8.5 2.5l-.94 2.06-2.06.94zm10 10l.94 2.06.94-2.06 2.06-.94-2.06-.94-.94-2.06-.94 2.06-2.06.94z\"/><path d=\"M17.41 7.96l-1.37-1.37c-.4-.4-.92-.59-1.43-.59-.52 0-1.04.2-1.43.59L10.3 9.45l-7.72 7.72c-.78.78-.78 2.05 0 2.83L4 21.41c.39.39.9.59 1.41.59.51 0 1.02-.2 1.41-.59l7.78-7.78 2.81-2.81c.8-.78.8-2.07 0-2.86zM5.41 20L4 18.59l7.72-7.72 1.47 1.35L5.41 20z\"/>\n",
              "  </svg>\n",
              "      </button>\n",
              "      \n",
              "  <style>\n",
              "    .colab-df-container {\n",
              "      display:flex;\n",
              "      flex-wrap:wrap;\n",
              "      gap: 12px;\n",
              "    }\n",
              "\n",
              "    .colab-df-convert {\n",
              "      background-color: #E8F0FE;\n",
              "      border: none;\n",
              "      border-radius: 50%;\n",
              "      cursor: pointer;\n",
              "      display: none;\n",
              "      fill: #1967D2;\n",
              "      height: 32px;\n",
              "      padding: 0 0 0 0;\n",
              "      width: 32px;\n",
              "    }\n",
              "\n",
              "    .colab-df-convert:hover {\n",
              "      background-color: #E2EBFA;\n",
              "      box-shadow: 0px 1px 2px rgba(60, 64, 67, 0.3), 0px 1px 3px 1px rgba(60, 64, 67, 0.15);\n",
              "      fill: #174EA6;\n",
              "    }\n",
              "\n",
              "    [theme=dark] .colab-df-convert {\n",
              "      background-color: #3B4455;\n",
              "      fill: #D2E3FC;\n",
              "    }\n",
              "\n",
              "    [theme=dark] .colab-df-convert:hover {\n",
              "      background-color: #434B5C;\n",
              "      box-shadow: 0px 1px 3px 1px rgba(0, 0, 0, 0.15);\n",
              "      filter: drop-shadow(0px 1px 2px rgba(0, 0, 0, 0.3));\n",
              "      fill: #FFFFFF;\n",
              "    }\n",
              "  </style>\n",
              "\n",
              "      <script>\n",
              "        const buttonEl =\n",
              "          document.querySelector('#df-6fe0af7d-8779-4cbf-b07a-c7f4b0b02fd5 button.colab-df-convert');\n",
              "        buttonEl.style.display =\n",
              "          google.colab.kernel.accessAllowed ? 'block' : 'none';\n",
              "\n",
              "        async function convertToInteractive(key) {\n",
              "          const element = document.querySelector('#df-6fe0af7d-8779-4cbf-b07a-c7f4b0b02fd5');\n",
              "          const dataTable =\n",
              "            await google.colab.kernel.invokeFunction('convertToInteractive',\n",
              "                                                     [key], {});\n",
              "          if (!dataTable) return;\n",
              "\n",
              "          const docLinkHtml = 'Like what you see? Visit the ' +\n",
              "            '<a target=\"_blank\" href=https://colab.research.google.com/notebooks/data_table.ipynb>data table notebook</a>'\n",
              "            + ' to learn more about interactive tables.';\n",
              "          element.innerHTML = '';\n",
              "          dataTable['output_type'] = 'display_data';\n",
              "          await google.colab.output.renderOutput(dataTable, element);\n",
              "          const docLink = document.createElement('div');\n",
              "          docLink.innerHTML = docLinkHtml;\n",
              "          element.appendChild(docLink);\n",
              "        }\n",
              "      </script>\n",
              "    </div>\n",
              "  </div>\n",
              "  "
            ]
          },
          "metadata": {},
          "execution_count": 10
        }
      ]
    },
    {
      "cell_type": "code",
      "source": [
        "X = raw_data.values\n",
        "X_ingredients = ingredients_normalized.values\n",
        "X_nutrients = nutrients_normalized.values\n",
        "y = label_data.values\n",
        "all_data = label_data.join(raw_data)\n",
        "\n",
        "for i in range(276):\n",
        "  label = label_data['Classification'][i].rstrip()\n",
        "  label_data.at[i,'Classification'] = label\n",
        "  all_data.at[i,'Classification'] = label\n",
        "\n",
        "print(all_data['Classification'].value_counts())"
      ],
      "metadata": {
        "colab": {
          "base_uri": "https://localhost:8080/"
        },
        "id": "I8hjs_JCcDiL",
        "outputId": "eaffe770-0e5c-41b9-aeb7-f9911e928075"
      },
      "execution_count": 11,
      "outputs": [
        {
          "output_type": "stream",
          "name": "stdout",
          "text": [
            "DAIRY 1      80\n",
            "DAIRY 3      45\n",
            "MEAT 1       34\n",
            "MEAT 3       18\n",
            "POULTRY 1    14\n",
            "EGG 1        14\n",
            "POULTRY 3    13\n",
            "PORK 1       12\n",
            "DAIRY 2      11\n",
            "MEAT 2        9\n",
            "FISH 1        8\n",
            "PORK 2        6\n",
            "POULTRY 2     5\n",
            "FISH 2        5\n",
            "EGG 2         2\n",
            "Name: Classification, dtype: int64\n"
          ]
        }
      ]
    },
    {
      "cell_type": "markdown",
      "source": [
        "# Visualization Techniques"
      ],
      "metadata": {
        "id": "fc67aC8Lj5hE"
      }
    },
    {
      "cell_type": "code",
      "source": [
        "for i in range(276):\n",
        "  aux = data_ingredients.at[i,'Ingredients']\n",
        "  data_ingredients.at[i,'Ingredients'] = re.sub(',\\s*',\"<br>\",aux).lstrip()"
      ],
      "metadata": {
        "id": "fPvDbUMGFeWs"
      },
      "execution_count": 12,
      "outputs": []
    },
    {
      "cell_type": "code",
      "source": [
        "if not os.path.exists(\"imgs\"):\n",
        "    os.mkdir(\"imgs\")"
      ],
      "metadata": {
        "id": "E3cA0tsme9Yz"
      },
      "execution_count": 13,
      "outputs": []
    },
    {
      "cell_type": "markdown",
      "source": [
        "### t-SNE"
      ],
      "metadata": {
        "id": "XDaLYnRncUbJ"
      }
    },
    {
      "cell_type": "code",
      "source": [
        "tsne = TSNE(n_components=2,perplexity=5,learning_rate=100,metric='euclidean', init='pca')\n",
        "X_tsne = tsne.fit_transform(X)\n",
        "\n",
        "X_tsne[1:4, :]\n",
        "all_data['x'] = X_tsne[:,0]\n",
        "all_data['y'] = X_tsne[:,1]\n",
        "all_data['Ingredients'] = data_ingredients\n",
        "\n",
        "fig = px.scatter(\n",
        "    all_data, \n",
        "    x='x', \n",
        "    y='y', \n",
        "    color='Classification', \n",
        "    template=\"simple_white\",\n",
        "    labels={ \n",
        "      \"Classification\": \"Classification (Label)\"\n",
        "    },\n",
        "    color_discrete_sequence= px.colors.qualitative.Plotly + px.colors.qualitative.Bold,\n",
        "    hover_name=\"Description\",\n",
        "    hover_data={'x':False,\n",
        "                'y':False,  \n",
        "                'Kcal ': [f' {x}' for x in data['Kcal']],\n",
        "                'Serving Size ': [f' {y}' for y in data['Serving Size']],\n",
        "                'Carbohydrate ': [f' {z}' for z in data['Carbohydrate']],\n",
        "                'Sugars ': [f' {a}' for a in data['Sugars']],\n",
        "                'Proteins ': [f' {b}' for b in data['Proteins']],\n",
        "                }, #'Ingredients':True}, \n",
        "    width=700)\n",
        "\n",
        "fig.update_traces(showlegend=False)\n",
        "\n",
        "fig.update_layout(xaxis={'visible': False},\n",
        "                  yaxis={'visible': False},\n",
        "                  margin=dict(l=0,r=0,b=0,t=0))\n",
        "\n",
        "fig.show()\n",
        "fig.write_image('imgs/TSNE_ALL.eps', format='eps')"
      ],
      "metadata": {
        "colab": {
          "base_uri": "https://localhost:8080/",
          "height": 597
        },
        "id": "o-rjtAxAqlNJ",
        "outputId": "9f5f83e1-f6f5-412c-8cc8-99c114ea551e"
      },
      "execution_count": 14,
      "outputs": [
        {
          "output_type": "stream",
          "name": "stderr",
          "text": [
            "/usr/local/lib/python3.7/dist-packages/sklearn/manifold/_t_sne.py:986: FutureWarning: The PCA initialization in TSNE will change to have the standard deviation of PC1 equal to 1e-4 in 1.2. This will ensure better convergence.\n",
            "  FutureWarning,\n"
          ]
        },
        {
          "output_type": "display_data",
          "data": {
            "text/html": [
              "<html>\n",
              "<head><meta charset=\"utf-8\" /></head>\n",
              "<body>\n",
              "    <div>            <script src=\"https://cdnjs.cloudflare.com/ajax/libs/mathjax/2.7.5/MathJax.js?config=TeX-AMS-MML_SVG\"></script><script type=\"text/javascript\">if (window.MathJax) {MathJax.Hub.Config({SVG: {font: \"STIX-Web\"}});}</script>                <script type=\"text/javascript\">window.PlotlyConfig = {MathJaxConfig: 'local'};</script>\n",
              "        <script src=\"https://cdn.plot.ly/plotly-2.8.3.min.js\"></script>                <div id=\"5a096c3b-6628-4a45-a17e-a760b07ca65e\" class=\"plotly-graph-div\" style=\"height:525px; width:700px;\"></div>            <script type=\"text/javascript\">                                    window.PLOTLYENV=window.PLOTLYENV || {};                                    if (document.getElementById(\"5a096c3b-6628-4a45-a17e-a760b07ca65e\")) {                    Plotly.newPlot(                        \"5a096c3b-6628-4a45-a17e-a760b07ca65e\",                        [{\"customdata\":[[\" 168.0\",\" 80.0\",\" 11.0\",\" 0.0\",\" 8.2\"],[\" 234.0\",\" 100.0\",\" 12.0\",\" 0.0\",\" 19.0\"],[\" 146.0\",\" 80.0\",\" 3.7\",\" 0.0\",\" 14.0\"],[\" 166.0\",\" 100.0\",\" 10.0\",\" 0.0\",\" 13.0\"],[\" 166.0\",\" 100.0\",\" 10.0\",\" 0.0\",\" 13.0\"],[\" 178.0\",\" 75.0\",\" 33.0\",\" 0.0\",\" 4.3\"],[\" 158.0\",\" 80.0\",\" 9.3\",\" 0.0\",\" 7.8\"],[\" 77.0\",\" 50.0\",\" 2.1\",\" 0.0\",\" 13.0\"],[\" 188.0\",\" 100.0\",\" 6.0\",\" 0.0\",\" 14.0\"]],\"hovertemplate\":\"<b>%{hovertext}</b><br><br>Classification (Label)=MEAT 2<br>Kcal =%{customdata[0]}<br>Serving Size =%{customdata[1]}<br>Carbohydrate =%{customdata[2]}<br>Sugars =%{customdata[3]}<br>Proteins =%{customdata[4]}<extra></extra>\",\"hovertext\":[\"Carne Mo\\u00edda do Futuro\",\"Almondegas de Soja Vegway\",\"Almondegas Amazonika Mundi\",\"Kibe Incr\\u00edvel Seara\",\"Almondegas Incr\\u00edveis Seara\",\"Almondegas Mr Veggy\",\"Carne Mo\\u00edda Superbom\",\"Carne Vegetal Mo\\u00edda Superbom\",\"Carne Mo\\u00edda Vegetal Verdali\"],\"legendgroup\":\"MEAT 2\",\"marker\":{\"color\":\"#636EFA\",\"symbol\":\"circle\"},\"mode\":\"markers\",\"name\":\"MEAT 2\",\"orientation\":\"v\",\"showlegend\":false,\"x\":[67.9683837890625,11.02022933959961,-9.502105712890625,37.243743896484375,58.143001556396484,37.491756439208984,-30.053707122802734,19.087364196777344,27.892518997192383],\"xaxis\":\"x\",\"y\":[-6.890214920043945,63.682090759277344,4.09917688369751,-11.513777732849121,-31.7869815826416,-6.437244892120361,4.9900336265563965,44.427757263183594,13.544668197631836],\"yaxis\":\"y\",\"type\":\"scatter\"},{\"customdata\":[[\" 168.0\",\" 80.0\",\" 11.0\",\" 0.0\",\" 8.2\"],[\" 150.0\",\" 50.0\",\" 10.0\",\" 0.0\",\" 25.0\"],[\" 150.0\",\" 50.0\",\" 10.0\",\" 0.0\",\" 25.0\"],[\" 62.0\",\" 50.0\",\" 1.0\",\" 0.0\",\" 10.0\"],[\" 62.0\",\" 50.0\",\" 1.0\",\" 0.0\",\" 10.0\"],[\" 115.0\",\" 60.0\",\" 2.8\",\" 0.0\",\" 7.5\"],[\" 115.0\",\" 60.0\",\" 3.1\",\" 0.0\",\" 7.5\"],[\" 121.0\",\" 350.0\",\" 9.3\",\" 0.0\",\" 9.3\"],[\" 88.0\",\" 40.0\",\" 6.0\",\" 0.0\",\" 6.3\"],[\" 129.0\",\" 80.0\",\" 12.0\",\" 0.0\",\" 11.0\"],[\" 203.0\",\" 100.0\",\" 13.0\",\" 0.0\",\" 9.2\"],[\" 64.0\",\" 40.0\",\" 2.7\",\" 0.0\",\" 7.8\"],[\" 26.0\",\" 50.0\",\" 0.5\",\" 0.0\",\" 5.0\"],[\" 22.0\",\" 50.0\",\" 0.5\",\" 0.0\",\" 5.3\"],[\" 53.0\",\" 50.0\",\" 0.0\",\" 0.0\",\" 5.4\"],[\" 63.0\",\" 50.0\",\" 0.2\",\" 0.0\",\" 6.3\"],[\" 144.0\",\" 100.0\",\" 5.0\",\" 0.0\",\" 22.0\"],[\" 119.0\",\" 100.0\",\" 5.0\",\" 0.0\",\" 18.0\"]],\"hovertemplate\":\"<b>%{hovertext}</b><br><br>Classification (Label)=MEAT 3<br>Kcal =%{customdata[0]}<br>Serving Size =%{customdata[1]}<br>Carbohydrate =%{customdata[2]}<br>Sugars =%{customdata[3]}<br>Proteins =%{customdata[4]}<extra></extra>\",\"hovertext\":[\"Carne Mo\\u00edda do Futuro\",\"Fil\\u00e9s Sora Carne Vermelha\",\"Fatias Sora Carne Vermelha\",\"Fil\\u00e9 Pronto Saud\\u00e1vel Sora\",\"Carne Mo\\u00edda Pronto Saud\\u00e1vel Sora\",\"Churrasco Vegabom\",\"Churrasco Aoniondo Vegabom\",\"Carne de Pernil Seara\",\"Alm\\u00f4ndega de Soja Vegana Goshen\",\"Bife de Soja Vegano Goshen\",\"Alm\\u00f4ndega Vegana Superbom\",\"Bife Vegetal Superbom\",\"Escalope ao Molho Caseiro Superbom\",\"Cubinhos ao Molho Mexicano Superbom\",\"Alm\\u00f4ndegas ao Molho Sugo Superbom\",\"Medalh\\u00e3o ao Molho Madeira Superbom\",\"Mignon Verdali\",\"Steak Verdali\"],\"legendgroup\":\"MEAT 3\",\"marker\":{\"color\":\"#EF553B\",\"symbol\":\"circle\"},\"mode\":\"markers\",\"name\":\"MEAT 3\",\"orientation\":\"v\",\"showlegend\":false,\"x\":[67.51972961425781,15.851226806640625,19.59136962890625,1.801519751548767,1.801519751548767,37.38533020019531,38.157718658447266,59.88185119628906,43.189361572265625,38.951904296875,-29.329858779907227,5.531096935272217,2.9450700283050537,2.943307399749756,18.787935256958008,18.86924171447754,26.64671516418457,27.808820724487305],\"xaxis\":\"x\",\"y\":[-9.699466705322266,24.178997039794922,27.32862663269043,25.832603454589844,25.832603454589844,-8.932191848754883,-8.578514099121094,-32.15937805175781,44.872032165527344,43.09720993041992,4.514702320098877,13.000333786010742,35.10370635986328,35.96776580810547,47.01442337036133,45.980804443359375,12.25920295715332,14.578739166259766],\"yaxis\":\"y\",\"type\":\"scatter\"},{\"customdata\":[[\" 168.0\",\" 80.0\",\" 11.0\",\" 0.0\",\" 8.2\"],[\" 150.0\",\" 50.0\",\" 10.0\",\" 0.0\",\" 25.0\"],[\" 150.0\",\" 50.0\",\" 10.0\",\" 0.0\",\" 25.0\"],[\" 115.0\",\" 60.0\",\" 2.8\",\" 0.0\",\" 7.5\"],[\" 34.8\",\" 30.0\",\" 2.9\",\" 0.0\",\" 3.8\"],[\" 153.0\",\" 100.0\",\" 12.0\",\" 0.0\",\" 6.0\"],[\" 94.0\",\" 80.0\",\" 3.1\",\" 0.0\",\" 17.0\"],[\" 94.0\",\" 80.0\",\" 3.1\",\" 0.0\",\" 17.0\"],[\" 58.0\",\" 30.0\",\" 2.2\",\" 0.0\",\" 4.8\"],[\" 58.0\",\" 30.0\",\" 2.2\",\" 0.0\",\" 4.8\"],[\" 174.0\",\" 100.0\",\" 6.0\",\" 0.0\",\" 24.0\"],[\" 129.0\",\" 115.0\",\" 5.8\",\" 0.0\",\" 19.0\"],[\" 138.0\",\" 120.0\",\" 8.4\",\" 0.0\",\" 18.0\"]],\"hovertemplate\":\"<b>%{hovertext}</b><br><br>Classification (Label)=POULTRY 3<br>Kcal =%{customdata[0]}<br>Serving Size =%{customdata[1]}<br>Carbohydrate =%{customdata[2]}<br>Sugars =%{customdata[3]}<br>Proteins =%{customdata[4]}<extra></extra>\",\"hovertext\":[\"Frango do Futuro\",\"Fatias Sora Carne Branca\",\"Fil\\u00e9s Sora Carne Branca\",\"Strogonoff de Frango Vegabom\",\"Tiras de Frango New Butchers\",\"Fil\\u00e9 de Frango Desfiado Vegway\",\"Frango Veg e Tal Sadia\",\"Frango Veg e Tal Sadia Desfiado\",\"Peito de Peru de Soja\",\"Peito de Peru de Soja Vegano\",\"Tiras de Ave Verdali\",\"Fil\\u00e9 sem Frango Verdali\",\"Mini Fil\\u00e9 de Frango Verdali\"],\"legendgroup\":\"POULTRY 3\",\"marker\":{\"color\":\"#00CC96\",\"symbol\":\"circle\"},\"mode\":\"markers\",\"name\":\"POULTRY 3\",\"orientation\":\"v\",\"showlegend\":false,\"x\":[67.51972961425781,15.664085388183594,17.147968292236328,39.157413482666016,-19.594520568847656,10.217154502868652,-16.904632568359375,-16.904632568359375,49.95342254638672,43.232486724853516,28.000913619995117,30.088132858276367,31.470937728881836],\"xaxis\":\"x\",\"y\":[-9.699466705322266,26.0419864654541,25.472082138061523,-10.237203598022461,-3.5598204135894775,57.397926330566406,7.040009021759033,7.040009021759033,47.05860137939453,55.328495025634766,-0.5273345112800598,7.770429611206055,6.127124786376953],\"yaxis\":\"y\",\"type\":\"scatter\"},{\"customdata\":[[\" 139.0\",\" 50.0\",\" 7.7\",\" 0.0\",\" 5.7\"],[\" 78.0\",\" 35.0\",\" 6.0\",\" 0.0\",\" 4.0\"],[\" 78.0\",\" 35.0\",\" 6.0\",\" 0.0\",\" 4.0\"],[\" 156.0\",\" 65.0\",\" 8.0\",\" 0.0\",\" 11.0\"],[\" 115.0\",\" 80.0\",\" 3.6\",\" 0.0\",\" 9.7\"],[\" 44.0\",\" 30.0\",\" 0.5\",\" 0.0\",\" 5.1\"],[\" 58.0\",\" 30.0\",\" 1.7\",\" 0.0\",\" 5.1\"],[\" 93.0\",\" 50.0\",\" 1.9\",\" 0.0\",\" 8.1\"],[\" 58.0\",\" 30.0\",\" 4.3\",\" 0.0\",\" 2.4\"],[\" 96.0\",\" 50.0\",\" 1.8\",\" 0.0\",\" 8.8\"],[\" 60.0\",\" 40.0\",\" 1.4\",\" 0.0\",\" 7.6\"],[\" 43.0\",\" 40.0\",\" 1.8\",\" 0.0\",\" 4.9\"]],\"hovertemplate\":\"<b>%{hovertext}</b><br><br>Classification (Label)=PORK 1<br>Kcal =%{customdata[0]}<br>Serving Size =%{customdata[1]}<br>Carbohydrate =%{customdata[2]}<br>Sugars =%{customdata[3]}<br>Proteins =%{customdata[4]}<extra></extra>\",\"hovertext\":[\"Lingui\\u00e7a do Futuro\",\"Lingui\\u00e7a calabresa vegabom\",\"saltsicha de chickpea Vegabom\",\"Vegway Soy Sausage\",\"saltsichas Incriveis Seara\",\"Lingui\\u00e7a Apimentada de Soja Goshen\",\"Lingui\\u00e7a Calabresa de Soja Goshen\",\"Lingui\\u00e7a de Soja Vegana Goshen\",\"Lingui\\u00e7a Toscana de Soja Goshen\",\"saltsicha de Soja Vegana Goshen\",\"saltsicha Vegetal Superbom\",\"saltsicha Vegetal Defumada Superbom\"],\"legendgroup\":\"PORK 1\",\"marker\":{\"color\":\"#AB63FA\",\"symbol\":\"circle\"},\"mode\":\"markers\",\"name\":\"PORK 1\",\"orientation\":\"v\",\"showlegend\":false,\"x\":[70.25874328613281,53.30734634399414,52.325897216796875,11.093071937561035,57.666866302490234,51.101016998291016,43.20598602294922,48.610137939453125,50.823787689208984,49.42878723144531,23.99801254272461,23.751867294311523],\"xaxis\":\"x\",\"y\":[-7.10665225982666,7.731955051422119,9.8768892288208,59.86475372314453,-33.326507568359375,51.81022644042969,52.30705261230469,52.02613830566406,47.09700393676758,52.430152893066406,35.979248046875,35.12791442871094],\"yaxis\":\"y\",\"type\":\"scatter\"},{\"customdata\":[[\" 118.0\",\" 50.0\",\" 2.8\",\" 0.0\",\" 7.0\"],[\" 78.0\",\" 50.0\",\" 5.3\",\" 0.0\",\" 8.9\"],[\" 140.0\",\" 120.0\",\" 25.0\",\" 0.0\",\" 6.1\"],[\" 128.0\",\" 60.0\",\" 19.0\",\" 0.0\",\" 5.1\"],[\" 253.0\",\" 113.0\",\" 42.0\",\" 0.0\",\" 17.0\"],[\" 90.0\",\" 80.0\",\" 4.8\",\" 0.0\",\" 11.0\"],[\" 187.0\",\" 80.0\",\" 10.0\",\" 0.0\",\" 9.8\"],[\" 158.0\",\" 113.5\",\" 8.7\",\" 0.0\",\" 15.0\"],[\" 206.0\",\" 100.0\",\" 4.1\",\" 0.0\",\" 13.0\"],[\" 420.0\",\" 100.0\",\" 4.4\",\" 0.0\",\" 28.0\"],[\" 209.0\",\" 115.0\",\" 5.3\",\" 0.0\",\" 20.0\"],[\" 114.0\",\" 60.0\",\" 4.5\",\" 0.0\",\" 7.6\"],[\" 170.0\",\" 80.0\",\" 4.6\",\" 0.0\",\" 12.0\"],[\" 134.0\",\" 60.0\",\" 5.9\",\" 0.0\",\" 7.3\"],[\" 237.0\",\" 134.0\",\" 29.0\",\" 0.0\",\" 16.0\"],[\" 115.0\",\" 60.0\",\" 13.0\",\" 0.0\",\" 8.9\"],[\" 118.0\",\" 60.0\",\" 11.0\",\" 0.0\",\" 6.0\"],[\" 118.0\",\" 60.0\",\" 11.0\",\" 0.0\",\" 6.0\"],[\" 197.0\",\" 80.0\",\" 10.0\",\" 0.0\",\" 11.0\"],[\" 309.0\",\" 115.0\",\" 45.0\",\" 0.0\",\" 7.0\"],[\" 127.0\",\" 90.0\",\" 23.0\",\" 0.0\",\" 3.1\"],[\" 150.0\",\" 50.0\",\" 10.0\",\" 0.0\",\" 25.0\"],[\" 120.0\",\" 90.0\",\" 17.0\",\" 0.0\",\" 5.4\"],[\" 171.0\",\" 90.0\",\" 28.0\",\" 0.0\",\" 3.4\"],[\" 196.0\",\" 100.0\",\" 9.7\",\" 0.0\",\" 19.0\"],[\" 146.0\",\" 63.0\",\" 7.0\",\" 0.0\",\" 12.3\"],[\" 80.0\",\" 70.0\",\" 4.4\",\" 0.0\",\" 8.2\"],[\" 301.0\",\" 67.0\",\" 40.0\",\" 0.0\",\" 8.9\"],[\" 192.0\",\" 90.0\",\" 26.0\",\" 0.0\",\" 7.7\"],[\" 210.0\",\" 90.0\",\" 29.0\",\" 0.0\",\" 10.0\"],[\" 110.0\",\" 60.0\",\" 8.9\",\" 0.0\",\" 4.3\"],[\" 62.0\",\" 50.0\",\" 1.0\",\" 0.0\",\" 10.0\"],[\" 266.0\",\" 80.0\",\" 26.0\",\" 0.0\",\" 27.0\"],[\" 266.0\",\" 80.0\",\" 26.0\",\" 0.0\",\" 27.0\"]],\"hovertemplate\":\"<b>%{hovertext}</b><br><br>Classification (Label)=MEAT 1<br>Kcal =%{customdata[0]}<br>Serving Size =%{customdata[1]}<br>Carbohydrate =%{customdata[2]}<br>Sugars =%{customdata[3]}<br>Proteins =%{customdata[4]}<extra></extra>\",\"hovertext\":[\"Hamburguer de Soja Goshen\",\"Hamburguer de Soja Vegano Goshen\",\"Hamburguer de Quinoa Mr Veggy\",\"Hamburguer de lentil Mr Veggy\",\"Hamburguer vegano falafel amazonika mundi\",\"Hamburguer Vegetal Verdali\",\"VegBurger Sabor Carne\",\"Burger Gourmet Superbom\",\"Hamburguer Incr\\u00edvel Seara\",\"Not Burguer Notco\",\"Hamburguer de Fibra de Caju Amazonika Mundi\",\"Hamburguer Vegabom\",\"Hamburguer de Carne Veg  e Tal Sadia\",\"Hamburger New Butchers\",\"Hamburguer de Legumes Mr Veggy\",\"Hamburguer Vegetariano Mr Veggy\",\"Hambuguer Mr Veggy Mari Mari\",\"Hambuguer Mr Veggy Mari Mari Churrrasco\",\"Hamb\\u00farguer Fazenda Futuro 2.0\",\"Hamb\\u00farguer Vegano de Quinoa Amazonika Mundi\",\"Hamburguer Veggie Roots Tempero Indiano\",\"Hamb\\u00farguer Sora Carne Vermelha \",\"Hamburguer Veggie Roots brazilianspices\",\"Hamburguer veggie roots tempero mexicano\",\"Hamburguer de Soja Sabor Carne Vegway\",\"Hamb\\u00farguer de Soja Empanado Vegway\",\"Hamburguer Vegetal Superbom\",\"Hamburguer de chickpea Mr Veggy\",\"Hamburguer Veggie Roots Tempero \\u00c1rabe\",\"Hamburguer Veggie Roots Tempero Tailand\\u00eas\",\"Hamburguer Vegabom\",\"Hamb\\u00farguer Pronto Saud\\u00e1vel Sora\",\"hamburguer vegetal com herbs jasmine\",\"Hamburguer Vegetal Tradicional Jasmine\"],\"legendgroup\":\"MEAT 1\",\"marker\":{\"color\":\"#FFA15A\",\"symbol\":\"circle\"},\"mode\":\"markers\",\"name\":\"MEAT 1\",\"orientation\":\"v\",\"showlegend\":false,\"x\":[37.83534622192383,43.228511810302734,0.430419385433197,9.60678768157959,0.7498096227645874,27.7712345123291,-18.514312744140625,-2.6145520210266113,57.203277587890625,-19.954261779785156,-10.18025016784668,52.04631805419922,-41.147464752197266,-19.521270751953125,43.09535598754883,43.16240310668945,44.950233459472656,44.950233459472656,68.3884048461914,-1.7081003189086914,6.417564392089844,19.880535125732422,8.993252754211426,10.900646209716797,9.375847816467285,10.434207916259766,12.853751182556152,8.760543823242188,14.048046112060547,12.910196304321289,49.85466384887695,1.801519751548767,-5.304048538208008,-5.534916400909424],\"xaxis\":\"x\",\"y\":[43.119789123535156,39.0948486328125,-15.04788875579834,-16.701658248901367,-10.443589210510254,-1.3736131191253662,-12.777921676635742,-2.792952537536621,-30.44898796081543,9.550735473632812,4.633028507232666,8.834144592285156,-20.44588851928711,-2.7014362812042236,0.008594338782131672,0.9270879626274109,4.580082893371582,4.580082893371582,-6.081871032714844,-12.205596923828125,2.017258882522583,26.283056259155273,11.486833572387695,11.80754280090332,59.38420867919922,64.6685791015625,54.43610382080078,-16.462709426879883,14.482749938964844,14.49862289428711,7.608956336975098,25.832603454589844,13.312280654907227,12.484935760498047],\"yaxis\":\"y\",\"type\":\"scatter\"},{\"customdata\":[[\" 150.0\",\" 50.0\",\" 10.0\",\" 0.0\",\" 25.0\"],[\" 189.0\",\" 80.0\",\" 11.0\",\" 0.0\",\" 9.8\"],[\" 173.0\",\" 80.0\",\" 3.6\",\" 0.0\",\" 13.0\"],[\" 129.0\",\" 100.0\",\" 2.4\",\" 0.0\",\" 7.0\"],[\" 96.0\",\" 80.0\",\" 4.8\",\" 0.0\",\" 11.0\"]],\"hovertemplate\":\"<b>%{hovertext}</b><br><br>Classification (Label)=POULTRY 2<br>Kcal =%{customdata[0]}<br>Serving Size =%{customdata[1]}<br>Carbohydrate =%{customdata[2]}<br>Sugars =%{customdata[3]}<br>Proteins =%{customdata[4]}<extra></extra>\",\"hovertext\":[\"Hamb\\u00farguer Sora Carne Branca\",\"VegBurger Sabor Frango\",\"Hambuguer Incr\\u00edvel Seara Frango\",\"Frango Vegano em Peda\\u00e7os \\u00e0 Base de pea\",\"Hamb\\u00farguer de Frango Verdali\"],\"legendgroup\":\"POULTRY 2\",\"marker\":{\"color\":\"#19D3F3\",\"symbol\":\"circle\"},\"mode\":\"markers\",\"name\":\"POULTRY 2\",\"orientation\":\"v\",\"showlegend\":false,\"x\":[16.755428314208984,-18.71748924255371,56.39957046508789,-3.004619836807251,30.273372650146484],\"xaxis\":\"x\",\"y\":[26.881135940551758,-11.93586540222168,-32.01874542236328,-4.554317951202393,6.692593097686768],\"yaxis\":\"y\",\"type\":\"scatter\"},{\"customdata\":[[\" 116.0\",\" 60.0\",\" 2.9\",\" 0.0\",\" 7.9\"],[\" 116.0\",\" 60.0\",\" 2.9\",\" 0.0\",\" 7.9\"],[\" 198.0\",\" 100.0\",\" 14.0\",\" 0.0\",\" 15.0\"],[\" 449.0\",\" 130.0\",\" 31.0\",\" 0.0\",\" 12.0\"],[\" 291.0\",\" 130.0\",\" 29.0\",\" 0.0\",\" 17.0\"],[\" 127.0\",\" 40.0\",\" 4.9\",\" 0.0\",\" 6.5\"],[\" 94.0\",\" 40.0\",\" 3.4\",\" 0.0\",\" 6.7\"],[\" 61.0\",\" 40.0\",\" 3.0\",\" 0.0\",\" 7.2\"],[\" 330.0\",\" 130.0\",\" 32.0\",\" 0.0\",\" 13.0\"],[\" 210.0\",\" 80.0\",\" 32.0\",\" 0.0\",\" 8.0\"],[\" 178.0\",\" 130.0\",\" 21.5\",\" 0.0\",\" 13.4\"],[\" 110.0\",\" 80.0\",\" 13.0\",\" 0.0\",\" 8.5\"],[\" 188.0\",\" 100.0\",\" 24.0\",\" 0.0\",\" 13.0\"],[\" 188.0\",\" 100.0\",\" 24.0\",\" 0.0\",\" 13.0\"]],\"hovertemplate\":\"<b>%{hovertext}</b><br><br>Classification (Label)=POULTRY 1<br>Kcal =%{customdata[0]}<br>Serving Size =%{customdata[1]}<br>Carbohydrate =%{customdata[2]}<br>Sugars =%{customdata[3]}<br>Proteins =%{customdata[4]}<extra></extra>\",\"hovertext\":[\"Empanado de Frango Vegabom\",\"Fil\\u00e9 de Frango Empanado Vegabom\",\"Empanados de Frango Vegway\",\"Empanados Incr\\u00edveis Seara\",\"Empanados Sadia Veg e Tal\",\"Empanadinho de Soja  Goshen\",\"Empanadinho de Soja Vegano  Goshen\",\"Steak de Soja Vegano Goshen\",\"Empanado Vegano (Mini Crispy) 100 Foods\",\"Crispy Chicken 100 Foods\",\"Mini Empanado de Legumes Superbom\",\"Steak Vegan Sabor Legumes Superbom\",\"Steak Veg\\u00ea Sabor Frango\",\"Steak Veg\\u00ea Sabor Frango Empanado\"],\"legendgroup\":\"POULTRY 1\",\"marker\":{\"color\":\"#FF6692\",\"symbol\":\"circle\"},\"mode\":\"markers\",\"name\":\"POULTRY 1\",\"orientation\":\"v\",\"showlegend\":false,\"x\":[56.86956787109375,56.86956787109375,5.61793851852417,47.442108154296875,46.270172119140625,38.557491302490234,41.48769760131836,39.98826217651367,29.992351531982422,30.51597023010254,16.188722610473633,15.604183197021484,13.780783653259277,14.514429092407227],\"xaxis\":\"x\",\"y\":[16.470264434814453,16.470264434814453,60.23921203613281,-20.63811683654785,-19.90606117248535,45.307899475097656,46.15869140625,46.028465270996094,-12.251361846923828,-12.94040584564209,-7.196464538574219,-7.830287456512451,4.600423336029053,4.089788913726807],\"yaxis\":\"y\",\"type\":\"scatter\"},{\"customdata\":[[\" 116.0\",\" 60.0\",\" 3.6\",\" 0.0\",\" 7.5\"],[\" 116.0\",\" 60.0\",\" 3.6\",\" 0.0\",\" 7.5\"],[\" 206.0\",\" 100.0\",\" 28.0\",\" 0.0\",\" 8.0\"],[\" 41.0\",\" 40.0\",\" 7.0\",\" 0.0\",\" 1.6\"],[\" 82.0\",\" 30.0\",\" 3.5\",\" 0.0\",\" 4.0\"]],\"hovertemplate\":\"<b>%{hovertext}</b><br><br>Classification (Label)=FISH 2<br>Kcal =%{customdata[0]}<br>Serving Size =%{customdata[1]}<br>Carbohydrate =%{customdata[2]}<br>Sugars =%{customdata[3]}<br>Proteins =%{customdata[4]}<extra></extra>\",\"hovertext\":[\"Fil\\u00e9 Peixe Empanado Vegabom\",\"Tirinhas de Peixe Empanado Vegabom\",\"Bolinho de Bacalhau New Butchers\",\"Bolinho de Siri Amazonika Mundi\",\"Camar\\u00e3o de Soja Vegano Goshen\"],\"legendgroup\":\"FISH 2\",\"marker\":{\"color\":\"#B6E880\",\"symbol\":\"circle\"},\"mode\":\"markers\",\"name\":\"FISH 2\",\"orientation\":\"v\",\"showlegend\":false,\"x\":[58.61265563964844,58.61265563964844,-11.858611106872559,0.8215148448944092,42.91218566894531],\"xaxis\":\"x\",\"y\":[17.04737091064453,17.04737091064453,-4.2999587059021,8.652462005615234,50.69805908203125],\"yaxis\":\"y\",\"type\":\"scatter\"},{\"customdata\":[[\" 124.0\",\" 50.0\",\" 5.1\",\" 0.0\",\" 0.0\"],[\" 124.0\",\" 50.0\",\" 5.1\",\" 0.0\",\" 0.0\"],[\" 124.0\",\" 50.0\",\" 5.1\",\" 0.0\",\" 0.0\"],[\" 31.0\",\" 10.0\",\" 0.6\",\" 0.0\",\" 0.3\"],[\" 25.0\",\" 10.0\",\" 0.7\",\" 0.0\",\" 0.3\"],[\" 29.0\",\" 10.0\",\" 0.7\",\" 0.0\",\" 0.3\"],[\" 30.0\",\" 10.0\",\" 0.7\",\" 0.0\",\" 0.3\"],[\" 178.0\",\" 100.0\",\" 8.7\",\" 0.0\",\" 8.4\"],[\" 178.0\",\" 100.0\",\" 8.7\",\" 0.0\",\" 8.4\"],[\" 280.0\",\" 100.0\",\" 23.3\",\" 0.0\",\" 3.0\"],[\" 170.0\",\" 100.0\",\" 6.0\",\" 0.0\",\" 4.7\"],[\" 170.0\",\" 100.0\",\" 6.0\",\" 0.0\",\" 4.7\"],[\" 82.0\",\" 30.0\",\" 2.7\",\" 0.0\",\" 1.5\"],[\" 83.0\",\" 30.0\",\" 2.9\",\" 0.0\",\" 1.5\"],[\" 95.0\",\" 30.0\",\" 9.1\",\" 0.0\",\" 2.0\"],[\" 89.0\",\" 30.0\",\" 8.2\",\" 0.0\",\" 1.9\"],[\" 93.0\",\" 30.0\",\" 8.8\",\" 0.0\",\" 1.9\"],[\" 83.0\",\" 30.0\",\" 2.3\",\" 0.0\",\" 1.6\"],[\" 83.0\",\" 30.0\",\" 2.3\",\" 0.0\",\" 1.6\"],[\" 83.0\",\" 30.0\",\" 2.3\",\" 0.0\",\" 1.6\"],[\" 581.0\",\" 100.0\",\" 30.2\",\" 0.0\",\" 18.2\"],[\" 581.0\",\" 100.0\",\" 30.2\",\" 0.0\",\" 18.2\"],[\" 59.0\",\" 30.0\",\" 2.0\",\" 0.0\",\" 0.9\"],[\" 43.0\",\" 30.0\",\" 1.2\",\" 0.0\",\" 0.8\"],[\" 100.0\",\" 30.0\",\" 5.4\",\" 0.0\",\" 2.9\"],[\" 43.0\",\" 30.0\",\" 1.2\",\" 0.0\",\" 0.8\"],[\" 394.0\",\" 100.0\",\" 23.0\",\" 0.0\",\" 13.0\"],[\" 30.0\",\" 12.0\",\" 3.0\",\" 0.0\",\" 0.7\"],[\" 62.8\",\" 20.0\",\" 3.6\",\" 0.0\",\" 2.0\"],[\" 57.1\",\" 20.0\",\" 3.4\",\" 0.0\",\" 1.9\"],[\" 68.4\",\" 20.0\",\" 3.8\",\" 0.0\",\" 2.1\"],[\" 62.8\",\" 20.0\",\" 3.6\",\" 0.0\",\" 2.0\"],[\" 89.0\",\" 30.0\",\" 6.4\",\" 0.0\",\" 0.0\"],[\" 72.0\",\" 30.0\",\" 2.9\",\" 0.0\",\" 1.0\"],[\" 58.0\",\" 30.0\",\" 3.5\",\" 0.0\",\" 1.0\"],[\" 71.0\",\" 30.0\",\" 2.8\",\" 0.0\",\" 0.9\"],[\" 78.0\",\" 30.0\",\" 3.4\",\" 0.0\",\" 1.0\"],[\" 76.0\",\" 30.0\",\" 3.4\",\" 0.0\",\" 0.9\"],[\" 36.0\",\" 15.0\",\" 1.0\",\" 0.0\",\" 0.3\"],[\" 38.0\",\" 10.0\",\" 0.8\",\" 0.0\",\" 0.3\"],[\" 51.0\",\" 15.0\",\" 3.8\",\" 0.0\",\" 0.7\"],[\" 36.0\",\" 15.0\",\" 1.2\",\" 0.0\",\" 0.4\"],[\" 47.0\",\" 15.0\",\" 2.8\",\" 0.0\",\" 0.1\"],[\" 47.0\",\" 15.0\",\" 2.8\",\" 0.0\",\" 0.1\"],[\" 49.0\",\" 15.0\",\" 3.1\",\" 0.0\",\" 0.1\"]],\"hovertemplate\":\"<b>%{hovertext}</b><br><br>Classification (Label)=DAIRY 3<br>Kcal =%{customdata[0]}<br>Serving Size =%{customdata[1]}<br>Carbohydrate =%{customdata[2]}<br>Sugars =%{customdata[3]}<br>Proteins =%{customdata[4]}<extra></extra>\",\"hovertext\":[\"Queijo Mu\\u00e7arela Vegabom\",\"Queijo Picante Vegabom\",\"Queijo Cheddar Vegabom\",\"Requeisoy Provolone \",\"Requeisoy Cheddar' \",\"Requeisoy Tradicional\",\"Requeisoy Gorgonzola\",\"Okeijo R\\u00fastico\",\"Okeijo Cremoso\",\"Okeijo Gratinado\",\"Okeijo Mussarela\",\"Okeijo Provolone\",\"Creme s Vida Veg\",\"Creme s fineherbs e Pesto\",\"Queijo mu\\u00e7arela\",\"Queijo minas frescal\",\"Queijo minas padr\\u00e3o\",\"Requeij\\u00e3o Tradicional\",\"Requeij\\u00e3o fineherbs\",\"Requeij\\u00e3o Defumado\",\"Queijo Zimurisku \",\"Queijo Zimurisku Temperado\",\"Queijo Mozarela NoMoo\",\"Queijo Provolone\",\"Queijo Ch\\u00e9vre\",\"Queijo Prato\",\"Queijo Parmes\\u00e3o\",\"Requeij\\u00e3o Nomoo\",\"Queijo Gorgolino\",\"Queijo Melhor Que Cheddar\",\"Queijo Recaishow\",\"Queijo Brie\",\"Mussarela Vegana Goshen\",\"Queijo ProVolone Veganita\",\"Queijo Munster Veganita\",\"Queijo Brie Veganita\",\"Queijo Mussarela Veganita\",\"Queijo Cheddar Veganita\",\"CREAM CHEESE CULIN\\u00c1RIO BASI.CO\",\"REQUEIJ\\u00c3O VEGETAL\",\"QUEIJO PARMES\\u00c3O\",\"QUEIJO MINAS VEGETAL\",\"QUEIJO PRATO\",\"QUEIJO MU\\u00c7ARELA\",\"QUEIJO CHEDDAR\"],\"legendgroup\":\"DAIRY 3\",\"marker\":{\"color\":\"#FF97FF\",\"symbol\":\"circle\"},\"mode\":\"markers\",\"name\":\"DAIRY 3\",\"orientation\":\"v\",\"showlegend\":false,\"x\":[20.864397048950195,19.222328186035156,19.222328186035156,13.171355247497559,16.006977081298828,15.07776165008545,14.835118293762207,6.5088958740234375,6.520055770874023,-5.822229385375977,-30.441675186157227,-30.441675186157227,-48.94450378417969,-48.283119201660156,-50.46070098876953,-49.851322174072266,-50.38082504272461,-51.79731369018555,-50.90424346923828,-52.052276611328125,-22.2742919921875,-23.042695999145508,-43.472434997558594,-43.30055618286133,-50.335811614990234,-42.22068786621094,-51.64570617675781,-41.19123458862305,-41.09917068481445,-40.081295013427734,-40.127471923828125,-49.957523345947266,-9.060128211975098,-49.2776985168457,-47.928794860839844,-47.82691955566406,-49.001220703125,-50.14422607421875,-29.4261417388916,-30.19463539123535,-28.408376693725586,-31.357404708862305,-18.995662689208984,-18.817249298095703,-19.457191467285156],\"xaxis\":\"x\",\"y\":[-19.1879940032959,-18.70775604248047,-18.70775604248047,-56.11699676513672,-55.87749481201172,-53.96946716308594,-55.26524353027344,-2.808446168899536,-1.7417526245117188,-7.940583229064941,25.118722915649414,25.118722915649414,1.1352506875991821,1.8721554279327393,-4.290772914886475,-0.6929994821548462,-3.340803861618042,6.445855140686035,6.821106910705566,8.203414916992188,11.31029224395752,11.823002815246582,33.6556396484375,32.648590087890625,30.252099990844727,34.83786392211914,30.616710662841797,23.798627853393555,22.006837844848633,20.16388511657715,22.25623893737793,27.881471633911133,-10.128730773925781,33.03749084472656,32.87847137451172,35.09803771972656,34.423988342285156,36.29878234863281,-8.580825805664062,-9.812796592712402,-6.591612339019775,-11.571015357971191,-38.325477600097656,-37.052490234375,-36.20783233642578],\"yaxis\":\"y\",\"type\":\"scatter\"},{\"customdata\":[[\" 146.0\",\" 90.0\",\" 12.1\",\" 0.0\",\" 11.9\"],[\" 327.0\",\" 240.0\",\" 41.0\",\" 0.0\",\" 11.0\"],[\" 317.0\",\" 100.0\",\" 17.0\",\" 0.0\",\" 13.0\"],[\" 153.0\",\" 100.0\",\" 12.0\",\" 0.0\",\" 6.0\"],[\" 138.0\",\" 100.0\",\" 19.0\",\" 0.0\",\" 2.0\"],[\" 304.0\",\" 300.0\",\" 19.0\",\" 0.0\",\" 21.0\"],[\" 440.0\",\" 130.0\",\" 31.0\",\" 0.0\",\" 12.0\"],[\" 166.0\",\" 80.0\",\" 7.1\",\" 0.0\",\" 12.0\"]],\"hovertemplate\":\"<b>%{hovertext}</b><br><br>Classification (Label)=FISH 1<br>Kcal =%{customdata[0]}<br>Serving Size =%{customdata[1]}<br>Carbohydrate =%{customdata[2]}<br>Sugars =%{customdata[3]}<br>Proteins =%{customdata[4]}<extra></extra>\",\"hovertext\":[\"Fil\\u00e9 de saltm\\u00e3o New Butchers\",\"Bacalhau New  Butchers\",\"Isca de Peixe Vegway\",\"Fil\\u00e9 de Peixe Vegway\",\"Vieira de Soja Vegway\",\"Bacalhau Incr\\u00edvel Seara\",\"Iscas de Peixe Incr\\u00edvel Seara\",\"Atum do Futuro\"],\"legendgroup\":\"FISH 1\",\"marker\":{\"color\":\"#FECB52\",\"symbol\":\"circle\"},\"mode\":\"markers\",\"name\":\"FISH 1\",\"orientation\":\"v\",\"showlegend\":false,\"x\":[-9.839150428771973,-11.384617805480957,6.957016944885254,8.30856704711914,11.379462242126465,59.29049301147461,47.51102066040039,-2.5837600231170654],\"xaxis\":\"x\",\"y\":[-6.301222324371338,-3.3189213275909424,58.21123504638672,58.745052337646484,56.079402923583984,-30.411550521850586,-19.298730850219727,-18.384872436523438],\"yaxis\":\"y\",\"type\":\"scatter\"},{\"customdata\":[[\" 78.0\",\" 40.0\",\" 3.9\",\" 0.0\",\" 7.4\"],[\" 185.0\",\" 60.0\",\" 31.0\",\" 0.0\",\" 1.1\"],[\" 34.0\",\" 20.0\",\" 0.2\",\" 0.0\",\" 3.4\"],[\" 75.0\",\" 40.0\",\" 3.6\",\" 0.0\",\" 7.6\"],[\" 35.0\",\" 20.0\",\" 0.4\",\" 0.0\",\" 3.9\"],[\" 476.0\",\" 100.0\",\" 14.0\",\" 0.0\",\" 42.0\"]],\"hovertemplate\":\"<b>%{hovertext}</b><br><br>Classification (Label)=PORK 2<br>Kcal =%{customdata[0]}<br>Serving Size =%{customdata[1]}<br>Carbohydrate =%{customdata[2]}<br>Sugars =%{customdata[3]}<br>Proteins =%{customdata[4]}<extra></extra>\",\"hovertext\":[\"Presunto de Soja Vegway\",\"Bacon Vegano\",\"Mortadela de Soja Vegana Goshen\",\"Presunto de Soja Defumado\",\"Presunto de Soja Vegano Fatiado Goshen\",\"Bacon Crispy Verdali\"],\"legendgroup\":\"PORK 2\",\"marker\":{\"color\":\"rgb(127, 60, 141)\",\"symbol\":\"circle\"},\"mode\":\"markers\",\"name\":\"PORK 2\",\"orientation\":\"v\",\"showlegend\":false,\"x\":[8.852137565612793,5.847182273864746,43.000953674316406,42.66860580444336,41.57036590576172,27.733211517333984],\"xaxis\":\"x\",\"y\":[61.18320846557617,-7.062358379364014,54.074485778808594,39.87655258178711,53.59983444213867,16.468637466430664],\"yaxis\":\"y\",\"type\":\"scatter\"},{\"customdata\":[[\" 92.0\",\" 250.0\",\" 3.7\",\" 2.0\",\" 3.2\"],[\" 60.0\",\" 250.0\",\" 3.4\",\" 2.0\",\" 3.2\"],[\" 68.0\",\" 200.0\",\" 0.9\",\" 0.0\",\" 3.0\"],[\" 53.0\",\" 200.0\",\" 0.0\",\" 0.0\",\" 3.0\"],[\" 70.0\",\" 200.0\",\" 1.0\",\" 0.0\",\" 3.0\"],[\" 88.0\",\" 200.0\",\" 4.0\",\" 0.0\",\" 3.0\"],[\" 58.0\",\" 200.0\",\" 0.8\",\" 0.0\",\" 3.0\"],[\" 108.0\",\" 200.0\",\" 13.0\",\" 0.0\",\" 1.1\"],[\" 145.0\",\" 200.0\",\" 18.0\",\" 0.0\",\" 1.5\"],[\" 117.0\",\" 200.0\",\" 27.0\",\" 10.0\",\" 0.0\"],[\" 111.0\",\" 200.0\",\" 20.0\",\" 9.4\",\" 0.0\"],[\" 117.0\",\" 200.0\",\" 27.0\",\" 10.0\",\" 1.0\"],[\" 145.0\",\" 200.0\",\" 18.0\",\" 0.0\",\" 1.5\"],[\" 117.0\",\" 200.0\",\" 27.0\",\" 10.0\",\" 0.0\"],[\" 134.0\",\" 200.0\",\" 27.0\",\" 10.0\",\" 4.6\"],[\" 72.0\",\" 200.0\",\" 11.0\",\" 8.9\",\" 1.1\"],[\" 113.0\",\" 200.0\",\" 7.5\",\" 6.7\",\" 7.0\"],[\" 79.0\",\" 200.0\",\" 12.0\",\" 10.0\",\" 1.2\"],[\" 91.0\",\" 200.0\",\" 15.0\",\" 10.0\",\" 1.1\"],[\" 84.0\",\" 200.0\",\" 16.0\",\" 9.4\",\" 2.0\"],[\" 104.0\",\" 260.0\",\" 20.0\",\" 12.0\",\" 3.0\"],[\" 79.0\",\" 25.0\",\" 8.6\",\" 3.1\",\" 7.3\"],[\" 73.0\",\" 25.0\",\" 11.0\",\" 3.2\",\" 5.0\"],[\" 120.0\",\" 200.0\",\" 15.0\",\" 11.0\",\" 4.8\"],[\" 97.0\",\" 200.0\",\" 8.4\",\" 5.9\",\" 2.3\"],[\" 66.0\",\" 200.0\",\" 10.0\",\" 7.3\",\" 2.7\"],[\" 99.0\",\" 200.0\",\" 16.0\",\" 11.5\",\" 4.1\"],[\" 104.0\",\" 200.0\",\" 18.0\",\" 12.6\",\" 3.6\"],[\" 82.0\",\" 200.0\",\" 14.0\",\" 8.8\",\" 3.3\"],[\" 97.0\",\" 200.0\",\" 8.4\",\" 5.9\",\" 2.3\"],[\" 51.0\",\" 200.0\",\" 6.3\",\" 6.3\",\" 0.9\"],[\" 98.0\",\" 200.0\",\" 17.0\",\" 17.0\",\" 1.3\"],[\" 70.0\",\" 200.0\",\" 11.0\",\" 11.0\",\" 0.9\"],[\" 30.0\",\" 200.0\",\" 0.9\",\" 0.9\",\" 0.9\"],[\" 58.0\",\" 200.0\",\" 8.5\",\" 0.0\",\" 0.9\"],[\" 44.0\",\" 250.0\",\" 1.4\",\" 1.4\",\" 1.6\"],[\" 21.0\",\" 200.0\",\" 4.7\",\" 0.0\",\" 1.0\"],[\" 48.0\",\" 200.0\",\" 6.8\",\" 4.0\",\" 6.8\"],[\" 59.0\",\" 200.0\",\" 7.5\",\" 0.0\",\" 0.9\"],[\" 84.0\",\" 200.0\",\" 15.0\",\" 0.0\",\" 1.2\"],[\" 55.0\",\" 200.0\",\" 4.7\",\" 0.0\",\" 0.0\"],[\" 74.0\",\" 200.0\",\" 15.0\",\" 0.0\",\" 0.0\"],[\" 74.0\",\" 200.0\",\" 15.0\",\" 0.0\",\" 0.0\"],[\" 74.0\",\" 200.0\",\" 15.0\",\" 0.0\",\" 0.0\"],[\" 74.0\",\" 200.0\",\" 15.0\",\" 0.0\",\" 0.0\"],[\" 74.0\",\" 200.0\",\" 15.0\",\" 0.0\",\" 0.0\"],[\" 74.0\",\" 200.0\",\" 15.0\",\" 0.0\",\" 0.0\"],[\" 74.0\",\" 200.0\",\" 15.0\",\" 0.0\",\" 0.0\"],[\" 114.0\",\" 30.0\",\" 25.0\",\" 0.0\",\" 2.0\"],[\" 114.0\",\" 30.0\",\" 25.0\",\" 0.0\",\" 2.0\"],[\" 114.0\",\" 30.0\",\" 25.0\",\" 0.0\",\" 2.0\"],[\" 114.0\",\" 30.0\",\" 25.0\",\" 0.0\",\" 2.0\"],[\" 114.0\",\" 30.0\",\" 25.0\",\" 0.0\",\" 2.0\"],[\" 78.0\",\" 200.0\",\" 8.5\",\" 2.8\",\" 2.4\"],[\" 90.0\",\" 200.0\",\" 3.0\",\" 0.9\",\" 3.0\"],[\" 80.0\",\" 200.0\",\" 3.1\",\" 0.8\",\" 2.0\"],[\" 57.0\",\" 200.0\",\" 1.7\",\" 0.4\",\" 1.9\"],[\" 150.0\",\" 200.0\",\" 18.0\",\" 0.0\",\" 3.0\"],[\" 75.0\",\" 200.0\",\" 16.0\",\" 6.3\",\" 0.0\"],[\" 100.0\",\" 200.0\",\" 2.3\",\" 0.8\",\" 7.0\"],[\" 80.0\",\" 200.0\",\" 3.3\",\" 0.9\",\" 2.1\"],[\" 109.0\",\" 200.0\",\" 3.1\",\" 0.1\",\" 5.4\"],[\" 29.0\",\" 200.0\",\" 0.7\",\" 0.0\",\" 0.7\"],[\" 36.0\",\" 200.0\",\" 1.3\",\" 0.0\",\" 1.3\"],[\" 23.0\",\" 200.0\",\" 4.0\",\" 0.0\",\" 0.8\"],[\" 82.0\",\" 200.0\",\" 2.2\",\" 0.4\",\" 1.6\"],[\" 106.0\",\" 200.0\",\" 3.0\",\" 0.5\",\" 3.0\"],[\" 86.0\",\" 200.0\",\" 3.0\",\" 0.5\",\" 3.0\"],[\" 41.0\",\" 200.0\",\" 5.0\",\" 4.2\",\" 0.8\"],[\" 80.0\",\" 200.0\",\" 12.0\",\" 9.3\",\" 1.5\"],[\" 26.0\",\" 200.0\",\" 1.0\",\" 0.3\",\" 0.7\"],[\" 27.0\",\" 200.0\",\" 1.0\",\" 0.2\",\" 0.8\"],[\" 71.0\",\" 200.0\",\" 11.0\",\" 8.9\",\" 1.1\"],[\" 99.0\",\" 200.0\",\" 14.0\",\" 9.6\",\" 2.2\"],[\" 106.0\",\" 200.0\",\" 19.0\",\" 17.0\",\" 2.2\"],[\" 93.0\",\" 200.0\",\" 16.0\",\" 8.9\",\" 1.1\"],[\" 95.0\",\" 200.0\",\" 12.0\",\" 0.0\",\" 5.4\"],[\" 123.0\",\" 200.0\",\" 4.8\",\" 0.0\",\" 5.1\"],[\" 108.0\",\" 200.0\",\" 5.4\",\" 0.0\",\" 3.8\"],[\" 84.0\",\" 200.0\",\" 3.9\",\" 0.0\",\" 2.8\"]],\"hovertemplate\":\"<b>%{hovertext}</b><br><br>Classification (Label)=DAIRY 1<br>Kcal =%{customdata[0]}<br>Serving Size =%{customdata[1]}<br>Carbohydrate =%{customdata[2]}<br>Sugars =%{customdata[3]}<br>Proteins =%{customdata[4]}<extra></extra>\",\"hovertext\":[\"Not Milk \",\"Not Milk Semidesnatado\",\" Vegetal de almonds\",\" vegetal \",\" Vegetal de almonds Fresco\",\" Vegetal  de Caj\\u00fa Fresco\",\" Vegetal  Fresco\",\" Vegetal Noats Original\",\" Vegetal Noats Barista\",\" Jasmine rice em P\\u00f3\",\" BIOV jasmine rice com amendoas\",\" BIOV jasmine rice com coco\",\" BioV oats Jasmine\",\" Jasmine rice \",\" Jasmine rice com oats\",\"Bebida de rice Nesfit\",\"Bebida Natural Nesfit\",\"Bebida de rice  e Amendoas Nesfit\",\"Bebida de rice e Coco Nesfit\",\"Bebida de oats Nesfit\",\"Bebida de oats e cocoa\",\"Molico Vegetal Nestl\\u00e9\",\"Ninho Vegetal Nestl\\u00e9\",\"Ninho Banana e apple Nestl\\u00e9\",\"Nude Edi\\u00e7\\u00e3o Barista\",\"Nude Original \",\"Nude Sabor Baunilha\",\"Nude de cocoa\",\"Nude + calcium\",\"Nude Barista\",\"Almond Breeze Original\",\"Almond Breeze Chocolate\",\"Almond Breeze Baunilha\",\"Almond Breeze Sem sugar\",\"Almond Breeze Amendoas com Coco\",\"Almond Breeze Chocolate Sem sugar\",\" de Amendoas Silk Sem sugar\",\" de Amendoas Silk \",\" cashews Silk\",\" de almonds e cocoa Silk\",\" de almonds Silk Coco\",\"Bebida de rice L\\u00edquida Sabor Original\",\"Bebida de rice L\\u00edquida Sabor almonds\",\"Bebida de rice L\\u00edquida Sabor peanuts\\n\",\"Bebida de rice L\\u00edquida Sabor cashews\",\"Bebida de rice L\\u00edquida Sabor Chocolate\",\"Bebida de rice L\\u00edquida Sabor Coco\",\"Bebida de rice L\\u00edquida Sabor Baunilha\",\"Bebida de rice Em P\\u00f3 Sabor Original\",\"Bebida de rice Em P\\u00f3 Sabor Original\",\"Bebida de rice Em P\\u00f3 Sabor Banana e apple\",\"Bebida de rice Em P\\u00f3 Sabor Chocolate\",\"Bebida de rice Em P\\u00f3 Sabor strawberries\",\" a tal da castanha barista\",\" a tal da castanha original\",\" a tal da castanha caju + Coco\",\" a tal da castanha almonds\",\" a tal da castanha castanha + cocoa\",\" a tal da castanha oats\",\" a tal da castanha mixed nuts\",\" a tal da castanha caju + Par\\u00e1\",\" a tal da castanha caju + peanuts\",\" Natuterra oats + Coco\",\" de almonds Natuterra\",\" Natuterra oats \",\" Vegetal 3 Nuts \\u2013 macadamianuts, almonds e cashews\",\" Vegetal de macadamianuts e Coco\",\" Vegetal de macadamianuts e cashews\",\" Vegetal Possible Foods\",\" Vegetal Possible Foods Chocolate\",\"Bebida de castanh de caj\\u00fa sem adi\\u00e7\\u00e3o de sugar nature's heart\",\"Bebida de almonds s/ adi\\u00e7\\u00e3o de sugares 1L \\u2013 Nature\\u2019s Heart\",\"Bebida de rice s/ adi\\u00e7\\u00e3o de sugares 1L \\u2013 Nature\\u2019s Heart\",\"Bebida de oats s/ adi\\u00e7\\u00e3o de sugares 1L \\u2013 Nature\\u2019s Heart\",\"Bebida de cocoa & rice 1L \\u2013 Nature\\u2019s Heart\",\"Bebida  & rice s/ adi\\u00e7\\u00e3o de sugares 1L \\u2013 Nature\\u2019s Heart\",\" Vegetal de soy Naturis Batavo\",\" DUOLAT peanuts E CASTANHA 1L - CAJUEIRO\",\" 85 CASTANHAS 1L - CAJUEIRO\",\" TOASTED 1L - CAJUEIRO\"],\"legendgroup\":\"DAIRY 1\",\"marker\":{\"color\":\"rgb(17, 165, 121)\",\"symbol\":\"circle\"},\"mode\":\"markers\",\"name\":\"DAIRY 1\",\"orientation\":\"v\",\"showlegend\":false,\"x\":[-13.433300018310547,-13.570509910583496,-8.4227294921875,-8.367400169372559,-9.333247184753418,-8.892183303833008,-8.46973705291748,-38.59146499633789,-38.81375503540039,-18.098735809326172,-8.712592124938965,-18.497285842895508,-39.55705261230469,-17.622928619384766,-18.978179931640625,-30.058212280273438,-11.526126861572266,-22.24134063720703,-22.510644912719727,-29.262617111206055,-27.912710189819336,-9.428725242614746,-10.046402931213379,-11.035429954528809,-31.036205291748047,-34.191368103027344,-34.590145111083984,-33.7216682434082,-32.5308723449707,-31.036205291748047,-79.44087982177734,-76.98405456542969,-78.58954620361328,-80.28034210205078,-76.3194808959961,-77.30602264404297,-4.6190619468688965,-5.351681232452393,-7.235467910766602,-6.913317680358887,-6.30686616897583,-42.65412139892578,-47.11961364746094,-48.91397476196289,-49.303077697753906,-41.53557205200195,-41.84019088745117,-47.894134521484375,-10.438088417053223,-10.438088417053223,-15.950841903686523,-15.180870056152344,-14.51829719543457,-33.66331481933594,3.2085771560668945,-7.093180179595947,3.6699819564819336,-2.0900580883026123,-30.5635986328125,-8.889749526977539,-5.6371541023254395,-3.9728214740753174,-19.52013397216797,-20.734025955200195,-20.93391990661621,-5.847142219543457,-6.801835060119629,-5.453629016876221,-38.41468048095703,-38.238521575927734,-55.63029479980469,-56.495269775390625,-56.62276077270508,-55.560020446777344,-57.369911193847656,-57.035552978515625,-3.185620069503784,-3.631875514984131,4.685699462890625,5.066282749176025],\"xaxis\":\"x\",\"y\":[-22.263975143432617,-23.111228942871094,-71.77355194091797,-72.86399841308594,-68.80963897705078,-66.8057632446289,-68.25967407226562,-17.941619873046875,-15.82070255279541,33.997249603271484,-17.707660675048828,32.026302337646484,-19.179847717285156,32.722503662109375,30.37711524963379,-29.727596282958984,-12.910625457763672,-20.230318069458008,-21.0505313873291,-29.190401077270508,-28.313020706176758,20.560544967651367,21.579627990722656,20.653900146484375,-39.5026741027832,-17.279037475585938,-18.755529403686523,-19.76341438293457,-18.328876495361328,-39.5026741027832,1.4993797540664673,-0.24479013681411743,0.5295849442481995,-0.3191600739955902,-1.7046631574630737,-2.4411842823028564,-28.68901252746582,-28.206924438476562,-33.36099624633789,-31.42387580871582,-33.35400390625,-35.52006530761719,-32.5781135559082,-33.8907585144043,-35.29093933105469,-37.433021545410156,-35.20183181762695,-34.81272506713867,43.18236541748047,43.18236541748047,44.831153869628906,44.1259765625,45.67741775512695,-15.368667602539062,9.631089210510254,-12.978253364562988,7.920902729034424,-8.500578880310059,-18.688081741333008,-14.368267059326172,-12.103029251098633,-10.33422565460205,-51.78260803222656,-52.052894592285156,-50.83283233642578,-16.154876708984375,-10.821427345275879,-13.696094512939453,-5.407634258270264,-6.268800258636475,-18.186351776123047,-17.919540405273438,-23.601110458374023,-23.829158782958984,-26.988557815551758,-26.09352684020996,-14.768462181091309,-11.255715370178223,10.721516609191895,9.9545316696167],\"yaxis\":\"y\",\"type\":\"scatter\"},{\"customdata\":[[\" 142.0\",\" 200.0\",\" 22.0\",\" 0.0\",\" 0.8\"],[\" 149.0\",\" 200.0\",\" 24.0\",\" 0.0\",\" 0.8\"],[\" 149.0\",\" 200.0\",\" 24.0\",\" 0.0\",\" 0.8\"],[\" 92.0\",\" 200.0\",\" 6.4\",\" 0.0\",\" 0.9\"],[\" 100.0\",\" 200.0\",\" 8.2\",\" 0.0\",\" 1.0\"],[\" 145.0\",\" 150.0\",\" 20.0\",\" 0.0\",\" 1.0\"],[\" 148.0\",\" 150.0\",\" 21.0\",\" 0.0\",\" 1.0\"],[\" 156.0\",\" 250.0\",\" 11.7\",\" 0.0\",\" 14.0\"],[\" 123.0\",\" 250.0\",\" 11.0\",\" 0.0\",\" 10.0\"],[\" 152.0\",\" 250.0\",\" 11.0\",\" 0.0\",\" 14.0\"],[\" 27.0\",\" 15.0\",\" 0.0\",\" 0.0\",\" 0.0\"]],\"hovertemplate\":\"<b>%{hovertext}</b><br><br>Classification (Label)=DAIRY 2<br>Kcal =%{customdata[0]}<br>Serving Size =%{customdata[1]}<br>Carbohydrate =%{customdata[2]}<br>Sugars =%{customdata[3]}<br>Proteins =%{customdata[4]}<extra></extra>\",\"hovertext\":[\"Iogurte \",\"Iogurte  com strawberries\",\"Iogurte  com banana, apple e papaya\",\"Iogurte  Zero sugar\",\"Iogurte  com strawberries Zero sugar\",\"Iogurte GregoVeg \",\"Iogurte GregoVeg  com strawberries\",\"Iogurte Proteico 14g sabor strawberries\",\"Shake \",\"Iogurte Proteico 14g sabor  peanuts\",\"Creme de almonds\"],\"legendgroup\":\"DAIRY 2\",\"marker\":{\"color\":\"rgb(57, 105, 172)\",\"symbol\":\"circle\"},\"mode\":\"markers\",\"name\":\"DAIRY 2\",\"orientation\":\"v\",\"showlegend\":false,\"x\":[7.707856178283691,9.042587280273438,10.549676895141602,6.896125793457031,8.081900596618652,8.38442325592041,7.429690361022949,-1.7546344995498657,-6.614743232727051,-0.9307186603546143,6.458385467529297],\"xaxis\":\"x\",\"y\":[-40.331016540527344,-43.703182220458984,-42.05777359008789,-40.949771881103516,-43.211090087890625,-33.58006286621094,-33.64115905761719,-40.89879608154297,-72.3455581665039,-40.563724517822266,7.898006916046143],\"yaxis\":\"y\",\"type\":\"scatter\"},{\"customdata\":[[\" 28.0\",\" 12.0\",\" 1.4\",\" 0.0\",\" 2.5\"],[\" 20.0\",\" 12.0\",\" 0.0\",\" 0.0\",\" 0.0\"],[\" 70.0\",\" 12.0\",\" 0.0\",\" 0.0\",\" 0.0\"],[\" 71.0\",\" 12.0\",\" 0.6\",\" 0.0\",\" 0.0\"],[\" 57.0\",\" 12.0\",\" 0.6\",\" 0.0\",\" 0.0\"],[\" 56.0\",\" 12.0\",\" 0.6\",\" 0.0\",\" 0.0\"],[\" 33.0\",\" 12.0\",\" 0.6\",\" 0.0\",\" 0.4\"],[\" 33.0\",\" 12.0\",\" 0.6\",\" 0.0\",\" 0.4\"],[\" 33.0\",\" 12.0\",\" 0.6\",\" 0.0\",\" 0.4\"],[\" 33.0\",\" 12.0\",\" 0.6\",\" 0.0\",\" 0.4\"],[\" 33.0\",\" 12.0\",\" 0.6\",\" 0.0\",\" 0.4\"],[\" 25.0\",\" 12.0\",\" 0.0\",\" 0.0\",\" 0.0\"],[\" 21.0\",\" 12.0\",\" 0.0\",\" 0.0\",\" 0.0\"],[\" 84.0\",\" 40.0\",\" 5.2\",\" 0.0\",\" 0.5\"]],\"hovertemplate\":\"<b>%{hovertext}</b><br><br>Classification (Label)=EGG 1<br>Kcal =%{customdata[0]}<br>Serving Size =%{customdata[1]}<br>Carbohydrate =%{customdata[2]}<br>Sugars =%{customdata[3]}<br>Proteins =%{customdata[4]}<extra></extra>\",\"hovertext\":[\"MAIONESE VEGETAL SUPERBOM\",\"MAIONESE FUGINI\",\"NOT MAYO\",\"NOT MAYO garlic\",\"NOT MAYO AZEITONA\",\"NOT MAYO PICANTE\",\"MAIONESE V-MAYO\",\"MAIONESE V-MAYO ApepperDA\",\"MAIONESE V-MAYO TRUFADA\",\"MAIONESE V-MAYO DE ABACATE\",\"MAIONESE V-MAYO DE garlic\",\"MAIONESE HELLMANS\",\"MAIONESE VEGANA FUGINI\",\"MAIONESE DEL\\u00cdCIAS DE GOI\\u00c1S\"],\"legendgroup\":\"EGG 1\",\"marker\":{\"color\":\"rgb(242, 183, 1)\",\"symbol\":\"circle\"},\"mode\":\"markers\",\"name\":\"EGG 1\",\"orientation\":\"v\",\"showlegend\":false,\"x\":[11.189888000488281,11.40739917755127,29.453763961791992,31.062480926513672,29.02687644958496,28.714618682861328,36.28968048095703,36.07990264892578,37.19650650024414,37.86468505859375,37.79126739501953,11.442522048950195,13.043318748474121,6.291050910949707],\"xaxis\":\"x\",\"y\":[-29.81842613220215,-31.52816390991211,-33.62297058105469,-33.721038818359375,-32.7835807800293,-35.16539764404297,-56.73969650268555,-58.23297882080078,-55.24563217163086,-58.35532760620117,-56.86357498168945,-28.029056549072266,-32.5823860168457,-5.0921454429626465],\"yaxis\":\"y\",\"type\":\"scatter\"},{\"customdata\":[[\" 25.0\",\" 10.0\",\" 3.3\",\" 0.0\",\" 4.1\"],[\" 28.0\",\" 7.0\",\" 1.2\",\" 0.0\",\" 3.1\"]],\"hovertemplate\":\"<b>%{hovertext}</b><br><br>Classification (Label)=EGG 2<br>Kcal =%{customdata[0]}<br>Serving Size =%{customdata[1]}<br>Carbohydrate =%{customdata[2]}<br>Sugars =%{customdata[3]}<br>Proteins =%{customdata[4]}<extra></extra>\",\"hovertext\":[\"Ovos Novos\",\"Ovos Novos\"],\"legendgroup\":\"EGG 2\",\"marker\":{\"color\":\"rgb(231, 63, 116)\",\"symbol\":\"circle\"},\"mode\":\"markers\",\"name\":\"EGG 2\",\"orientation\":\"v\",\"showlegend\":false,\"x\":[1.695741057395935,1.593191146850586],\"xaxis\":\"x\",\"y\":[13.070571899414062,14.452738761901855],\"yaxis\":\"y\",\"type\":\"scatter\"}],                        {\"template\":{\"data\":{\"barpolar\":[{\"marker\":{\"line\":{\"color\":\"white\",\"width\":0.5},\"pattern\":{\"fillmode\":\"overlay\",\"size\":10,\"solidity\":0.2}},\"type\":\"barpolar\"}],\"bar\":[{\"error_x\":{\"color\":\"rgb(36,36,36)\"},\"error_y\":{\"color\":\"rgb(36,36,36)\"},\"marker\":{\"line\":{\"color\":\"white\",\"width\":0.5},\"pattern\":{\"fillmode\":\"overlay\",\"size\":10,\"solidity\":0.2}},\"type\":\"bar\"}],\"carpet\":[{\"aaxis\":{\"endlinecolor\":\"rgb(36,36,36)\",\"gridcolor\":\"white\",\"linecolor\":\"white\",\"minorgridcolor\":\"white\",\"startlinecolor\":\"rgb(36,36,36)\"},\"baxis\":{\"endlinecolor\":\"rgb(36,36,36)\",\"gridcolor\":\"white\",\"linecolor\":\"white\",\"minorgridcolor\":\"white\",\"startlinecolor\":\"rgb(36,36,36)\"},\"type\":\"carpet\"}],\"choropleth\":[{\"colorbar\":{\"outlinewidth\":1,\"tickcolor\":\"rgb(36,36,36)\",\"ticks\":\"outside\"},\"type\":\"choropleth\"}],\"contourcarpet\":[{\"colorbar\":{\"outlinewidth\":1,\"tickcolor\":\"rgb(36,36,36)\",\"ticks\":\"outside\"},\"type\":\"contourcarpet\"}],\"contour\":[{\"colorbar\":{\"outlinewidth\":1,\"tickcolor\":\"rgb(36,36,36)\",\"ticks\":\"outside\"},\"colorscale\":[[0.0,\"#440154\"],[0.1111111111111111,\"#482878\"],[0.2222222222222222,\"#3e4989\"],[0.3333333333333333,\"#31688e\"],[0.4444444444444444,\"#26828e\"],[0.5555555555555556,\"#1f9e89\"],[0.6666666666666666,\"#35b779\"],[0.7777777777777778,\"#6ece58\"],[0.8888888888888888,\"#b5de2b\"],[1.0,\"#fde725\"]],\"type\":\"contour\"}],\"heatmapgl\":[{\"colorbar\":{\"outlinewidth\":1,\"tickcolor\":\"rgb(36,36,36)\",\"ticks\":\"outside\"},\"colorscale\":[[0.0,\"#440154\"],[0.1111111111111111,\"#482878\"],[0.2222222222222222,\"#3e4989\"],[0.3333333333333333,\"#31688e\"],[0.4444444444444444,\"#26828e\"],[0.5555555555555556,\"#1f9e89\"],[0.6666666666666666,\"#35b779\"],[0.7777777777777778,\"#6ece58\"],[0.8888888888888888,\"#b5de2b\"],[1.0,\"#fde725\"]],\"type\":\"heatmapgl\"}],\"heatmap\":[{\"colorbar\":{\"outlinewidth\":1,\"tickcolor\":\"rgb(36,36,36)\",\"ticks\":\"outside\"},\"colorscale\":[[0.0,\"#440154\"],[0.1111111111111111,\"#482878\"],[0.2222222222222222,\"#3e4989\"],[0.3333333333333333,\"#31688e\"],[0.4444444444444444,\"#26828e\"],[0.5555555555555556,\"#1f9e89\"],[0.6666666666666666,\"#35b779\"],[0.7777777777777778,\"#6ece58\"],[0.8888888888888888,\"#b5de2b\"],[1.0,\"#fde725\"]],\"type\":\"heatmap\"}],\"histogram2dcontour\":[{\"colorbar\":{\"outlinewidth\":1,\"tickcolor\":\"rgb(36,36,36)\",\"ticks\":\"outside\"},\"colorscale\":[[0.0,\"#440154\"],[0.1111111111111111,\"#482878\"],[0.2222222222222222,\"#3e4989\"],[0.3333333333333333,\"#31688e\"],[0.4444444444444444,\"#26828e\"],[0.5555555555555556,\"#1f9e89\"],[0.6666666666666666,\"#35b779\"],[0.7777777777777778,\"#6ece58\"],[0.8888888888888888,\"#b5de2b\"],[1.0,\"#fde725\"]],\"type\":\"histogram2dcontour\"}],\"histogram2d\":[{\"colorbar\":{\"outlinewidth\":1,\"tickcolor\":\"rgb(36,36,36)\",\"ticks\":\"outside\"},\"colorscale\":[[0.0,\"#440154\"],[0.1111111111111111,\"#482878\"],[0.2222222222222222,\"#3e4989\"],[0.3333333333333333,\"#31688e\"],[0.4444444444444444,\"#26828e\"],[0.5555555555555556,\"#1f9e89\"],[0.6666666666666666,\"#35b779\"],[0.7777777777777778,\"#6ece58\"],[0.8888888888888888,\"#b5de2b\"],[1.0,\"#fde725\"]],\"type\":\"histogram2d\"}],\"histogram\":[{\"marker\":{\"line\":{\"color\":\"white\",\"width\":0.6}},\"type\":\"histogram\"}],\"mesh3d\":[{\"colorbar\":{\"outlinewidth\":1,\"tickcolor\":\"rgb(36,36,36)\",\"ticks\":\"outside\"},\"type\":\"mesh3d\"}],\"parcoords\":[{\"line\":{\"colorbar\":{\"outlinewidth\":1,\"tickcolor\":\"rgb(36,36,36)\",\"ticks\":\"outside\"}},\"type\":\"parcoords\"}],\"pie\":[{\"automargin\":true,\"type\":\"pie\"}],\"scatter3d\":[{\"line\":{\"colorbar\":{\"outlinewidth\":1,\"tickcolor\":\"rgb(36,36,36)\",\"ticks\":\"outside\"}},\"marker\":{\"colorbar\":{\"outlinewidth\":1,\"tickcolor\":\"rgb(36,36,36)\",\"ticks\":\"outside\"}},\"type\":\"scatter3d\"}],\"scattercarpet\":[{\"marker\":{\"colorbar\":{\"outlinewidth\":1,\"tickcolor\":\"rgb(36,36,36)\",\"ticks\":\"outside\"}},\"type\":\"scattercarpet\"}],\"scattergeo\":[{\"marker\":{\"colorbar\":{\"outlinewidth\":1,\"tickcolor\":\"rgb(36,36,36)\",\"ticks\":\"outside\"}},\"type\":\"scattergeo\"}],\"scattergl\":[{\"marker\":{\"colorbar\":{\"outlinewidth\":1,\"tickcolor\":\"rgb(36,36,36)\",\"ticks\":\"outside\"}},\"type\":\"scattergl\"}],\"scattermapbox\":[{\"marker\":{\"colorbar\":{\"outlinewidth\":1,\"tickcolor\":\"rgb(36,36,36)\",\"ticks\":\"outside\"}},\"type\":\"scattermapbox\"}],\"scatterpolargl\":[{\"marker\":{\"colorbar\":{\"outlinewidth\":1,\"tickcolor\":\"rgb(36,36,36)\",\"ticks\":\"outside\"}},\"type\":\"scatterpolargl\"}],\"scatterpolar\":[{\"marker\":{\"colorbar\":{\"outlinewidth\":1,\"tickcolor\":\"rgb(36,36,36)\",\"ticks\":\"outside\"}},\"type\":\"scatterpolar\"}],\"scatter\":[{\"marker\":{\"colorbar\":{\"outlinewidth\":1,\"tickcolor\":\"rgb(36,36,36)\",\"ticks\":\"outside\"}},\"type\":\"scatter\"}],\"scatterternary\":[{\"marker\":{\"colorbar\":{\"outlinewidth\":1,\"tickcolor\":\"rgb(36,36,36)\",\"ticks\":\"outside\"}},\"type\":\"scatterternary\"}],\"surface\":[{\"colorbar\":{\"outlinewidth\":1,\"tickcolor\":\"rgb(36,36,36)\",\"ticks\":\"outside\"},\"colorscale\":[[0.0,\"#440154\"],[0.1111111111111111,\"#482878\"],[0.2222222222222222,\"#3e4989\"],[0.3333333333333333,\"#31688e\"],[0.4444444444444444,\"#26828e\"],[0.5555555555555556,\"#1f9e89\"],[0.6666666666666666,\"#35b779\"],[0.7777777777777778,\"#6ece58\"],[0.8888888888888888,\"#b5de2b\"],[1.0,\"#fde725\"]],\"type\":\"surface\"}],\"table\":[{\"cells\":{\"fill\":{\"color\":\"rgb(237,237,237)\"},\"line\":{\"color\":\"white\"}},\"header\":{\"fill\":{\"color\":\"rgb(217,217,217)\"},\"line\":{\"color\":\"white\"}},\"type\":\"table\"}]},\"layout\":{\"annotationdefaults\":{\"arrowhead\":0,\"arrowwidth\":1},\"autotypenumbers\":\"strict\",\"coloraxis\":{\"colorbar\":{\"outlinewidth\":1,\"tickcolor\":\"rgb(36,36,36)\",\"ticks\":\"outside\"}},\"colorscale\":{\"diverging\":[[0.0,\"rgb(103,0,31)\"],[0.1,\"rgb(178,24,43)\"],[0.2,\"rgb(214,96,77)\"],[0.3,\"rgb(244,165,130)\"],[0.4,\"rgb(253,219,199)\"],[0.5,\"rgb(247,247,247)\"],[0.6,\"rgb(209,229,240)\"],[0.7,\"rgb(146,197,222)\"],[0.8,\"rgb(67,147,195)\"],[0.9,\"rgb(33,102,172)\"],[1.0,\"rgb(5,48,97)\"]],\"sequential\":[[0.0,\"#440154\"],[0.1111111111111111,\"#482878\"],[0.2222222222222222,\"#3e4989\"],[0.3333333333333333,\"#31688e\"],[0.4444444444444444,\"#26828e\"],[0.5555555555555556,\"#1f9e89\"],[0.6666666666666666,\"#35b779\"],[0.7777777777777778,\"#6ece58\"],[0.8888888888888888,\"#b5de2b\"],[1.0,\"#fde725\"]],\"sequentialminus\":[[0.0,\"#440154\"],[0.1111111111111111,\"#482878\"],[0.2222222222222222,\"#3e4989\"],[0.3333333333333333,\"#31688e\"],[0.4444444444444444,\"#26828e\"],[0.5555555555555556,\"#1f9e89\"],[0.6666666666666666,\"#35b779\"],[0.7777777777777778,\"#6ece58\"],[0.8888888888888888,\"#b5de2b\"],[1.0,\"#fde725\"]]},\"colorway\":[\"#1F77B4\",\"#FF7F0E\",\"#2CA02C\",\"#D62728\",\"#9467BD\",\"#8C564B\",\"#E377C2\",\"#7F7F7F\",\"#BCBD22\",\"#17BECF\"],\"font\":{\"color\":\"rgb(36,36,36)\"},\"geo\":{\"bgcolor\":\"white\",\"lakecolor\":\"white\",\"landcolor\":\"white\",\"showlakes\":true,\"showland\":true,\"subunitcolor\":\"white\"},\"hoverlabel\":{\"align\":\"left\"},\"hovermode\":\"closest\",\"mapbox\":{\"style\":\"light\"},\"paper_bgcolor\":\"white\",\"plot_bgcolor\":\"white\",\"polar\":{\"angularaxis\":{\"gridcolor\":\"rgb(232,232,232)\",\"linecolor\":\"rgb(36,36,36)\",\"showgrid\":false,\"showline\":true,\"ticks\":\"outside\"},\"bgcolor\":\"white\",\"radialaxis\":{\"gridcolor\":\"rgb(232,232,232)\",\"linecolor\":\"rgb(36,36,36)\",\"showgrid\":false,\"showline\":true,\"ticks\":\"outside\"}},\"scene\":{\"xaxis\":{\"backgroundcolor\":\"white\",\"gridcolor\":\"rgb(232,232,232)\",\"gridwidth\":2,\"linecolor\":\"rgb(36,36,36)\",\"showbackground\":true,\"showgrid\":false,\"showline\":true,\"ticks\":\"outside\",\"zeroline\":false,\"zerolinecolor\":\"rgb(36,36,36)\"},\"yaxis\":{\"backgroundcolor\":\"white\",\"gridcolor\":\"rgb(232,232,232)\",\"gridwidth\":2,\"linecolor\":\"rgb(36,36,36)\",\"showbackground\":true,\"showgrid\":false,\"showline\":true,\"ticks\":\"outside\",\"zeroline\":false,\"zerolinecolor\":\"rgb(36,36,36)\"},\"zaxis\":{\"backgroundcolor\":\"white\",\"gridcolor\":\"rgb(232,232,232)\",\"gridwidth\":2,\"linecolor\":\"rgb(36,36,36)\",\"showbackground\":true,\"showgrid\":false,\"showline\":true,\"ticks\":\"outside\",\"zeroline\":false,\"zerolinecolor\":\"rgb(36,36,36)\"}},\"shapedefaults\":{\"fillcolor\":\"black\",\"line\":{\"width\":0},\"opacity\":0.3},\"ternary\":{\"aaxis\":{\"gridcolor\":\"rgb(232,232,232)\",\"linecolor\":\"rgb(36,36,36)\",\"showgrid\":false,\"showline\":true,\"ticks\":\"outside\"},\"baxis\":{\"gridcolor\":\"rgb(232,232,232)\",\"linecolor\":\"rgb(36,36,36)\",\"showgrid\":false,\"showline\":true,\"ticks\":\"outside\"},\"bgcolor\":\"white\",\"caxis\":{\"gridcolor\":\"rgb(232,232,232)\",\"linecolor\":\"rgb(36,36,36)\",\"showgrid\":false,\"showline\":true,\"ticks\":\"outside\"}},\"title\":{\"x\":0.05},\"xaxis\":{\"automargin\":true,\"gridcolor\":\"rgb(232,232,232)\",\"linecolor\":\"rgb(36,36,36)\",\"showgrid\":false,\"showline\":true,\"ticks\":\"outside\",\"title\":{\"standoff\":15},\"zeroline\":false,\"zerolinecolor\":\"rgb(36,36,36)\"},\"yaxis\":{\"automargin\":true,\"gridcolor\":\"rgb(232,232,232)\",\"linecolor\":\"rgb(36,36,36)\",\"showgrid\":false,\"showline\":true,\"ticks\":\"outside\",\"title\":{\"standoff\":15},\"zeroline\":false,\"zerolinecolor\":\"rgb(36,36,36)\"}}},\"xaxis\":{\"anchor\":\"y\",\"domain\":[0.0,1.0],\"title\":{\"text\":\"x\"},\"visible\":false},\"yaxis\":{\"anchor\":\"x\",\"domain\":[0.0,1.0],\"title\":{\"text\":\"y\"},\"visible\":false},\"legend\":{\"title\":{\"text\":\"Classification (Label)\"},\"tracegroupgap\":0},\"margin\":{\"t\":0,\"l\":0,\"r\":0,\"b\":0},\"width\":700},                        {\"responsive\": true}                    ).then(function(){\n",
              "                            \n",
              "var gd = document.getElementById('5a096c3b-6628-4a45-a17e-a760b07ca65e');\n",
              "var x = new MutationObserver(function (mutations, observer) {{\n",
              "        var display = window.getComputedStyle(gd).display;\n",
              "        if (!display || display === 'none') {{\n",
              "            console.log([gd, 'removed!']);\n",
              "            Plotly.purge(gd);\n",
              "            observer.disconnect();\n",
              "        }}\n",
              "}});\n",
              "\n",
              "// Listen for the removal of the full notebook cells\n",
              "var notebookContainer = gd.closest('#notebook-container');\n",
              "if (notebookContainer) {{\n",
              "    x.observe(notebookContainer, {childList: true});\n",
              "}}\n",
              "\n",
              "// Listen for the clearing of the current output cell\n",
              "var outputEl = gd.closest('.output');\n",
              "if (outputEl) {{\n",
              "    x.observe(outputEl, {childList: true});\n",
              "}}\n",
              "\n",
              "                        })                };                            </script>        </div>\n",
              "</body>\n",
              "</html>"
            ]
          },
          "metadata": {}
        }
      ]
    },
    {
      "cell_type": "markdown",
      "source": [
        "### UMAP"
      ],
      "metadata": {
        "id": "A7LLQVJotd72"
      }
    },
    {
      "cell_type": "code",
      "source": [
        "reducer = umap.UMAP(n_components=2,n_neighbors=10,metric='euclidean', random_state=0)\n",
        "X_umap = reducer.fit_transform(X)\n",
        "\n",
        "X_umap[1:4, :]\n",
        "all_data['x'] = X_umap[:,0]\n",
        "all_data['y'] = X_umap[:,1]\n",
        "\n",
        "fig = px.scatter(\n",
        "    all_data, \n",
        "    x='x', \n",
        "    y='y', \n",
        "    color='Classification', \n",
        "    template=\"simple_white\",\n",
        "    labels={ \n",
        "      \"Classification\": \"Classification (Label)\"\n",
        "    },\n",
        "    color_discrete_sequence= px.colors.qualitative.Plotly + px.colors.qualitative.Bold,\n",
        "    hover_name=\"Description\",\n",
        "    hover_data={'x':False,\n",
        "                'y':False,  \n",
        "                'Kcal ': [f' {x}' for x in data['Kcal']],\n",
        "                'Serving Size ': [f' {y}' for y in data['Serving Size']],\n",
        "                'Carbohydrate ': [f' {z}' for z in data['Carbohydrate']],\n",
        "                'Sugars ': [f' {a}' for a in data['Sugars']],\n",
        "                'Proteins ': [f' {b}' for b in data['Proteins']],\n",
        "                }, #'Ingredients':True}, \n",
        "    width=700)\n",
        "\n",
        "fig.update_traces(showlegend=False)\n",
        "\n",
        "fig.update_layout(xaxis={'visible': False},\n",
        "                  yaxis={'visible': False},\n",
        "                  margin=dict(l=0,r=0,b=0,t=0))\n",
        "\n",
        "fig.show()\n",
        "fig.write_image('imgs/UMAP_ALL.eps', format='eps')"
      ],
      "metadata": {
        "colab": {
          "base_uri": "https://localhost:8080/",
          "height": 542
        },
        "id": "akN3C0Vmtg-9",
        "outputId": "80264f3f-9cdd-4473-9a24-b878ffd12599"
      },
      "execution_count": 15,
      "outputs": [
        {
          "output_type": "display_data",
          "data": {
            "text/html": [
              "<html>\n",
              "<head><meta charset=\"utf-8\" /></head>\n",
              "<body>\n",
              "    <div>            <script src=\"https://cdnjs.cloudflare.com/ajax/libs/mathjax/2.7.5/MathJax.js?config=TeX-AMS-MML_SVG\"></script><script type=\"text/javascript\">if (window.MathJax) {MathJax.Hub.Config({SVG: {font: \"STIX-Web\"}});}</script>                <script type=\"text/javascript\">window.PlotlyConfig = {MathJaxConfig: 'local'};</script>\n",
              "        <script src=\"https://cdn.plot.ly/plotly-2.8.3.min.js\"></script>                <div id=\"76d0f173-29d3-4e8d-850d-55fcdff7cf6e\" class=\"plotly-graph-div\" style=\"height:525px; width:700px;\"></div>            <script type=\"text/javascript\">                                    window.PLOTLYENV=window.PLOTLYENV || {};                                    if (document.getElementById(\"76d0f173-29d3-4e8d-850d-55fcdff7cf6e\")) {                    Plotly.newPlot(                        \"76d0f173-29d3-4e8d-850d-55fcdff7cf6e\",                        [{\"customdata\":[[\" 168.0\",\" 80.0\",\" 11.0\",\" 0.0\",\" 8.2\"],[\" 234.0\",\" 100.0\",\" 12.0\",\" 0.0\",\" 19.0\"],[\" 146.0\",\" 80.0\",\" 3.7\",\" 0.0\",\" 14.0\"],[\" 166.0\",\" 100.0\",\" 10.0\",\" 0.0\",\" 13.0\"],[\" 166.0\",\" 100.0\",\" 10.0\",\" 0.0\",\" 13.0\"],[\" 178.0\",\" 75.0\",\" 33.0\",\" 0.0\",\" 4.3\"],[\" 158.0\",\" 80.0\",\" 9.3\",\" 0.0\",\" 7.8\"],[\" 77.0\",\" 50.0\",\" 2.1\",\" 0.0\",\" 13.0\"],[\" 188.0\",\" 100.0\",\" 6.0\",\" 0.0\",\" 14.0\"]],\"hovertemplate\":\"<b>%{hovertext}</b><br><br>Classification (Label)=MEAT 2<br>Kcal =%{customdata[0]}<br>Serving Size =%{customdata[1]}<br>Carbohydrate =%{customdata[2]}<br>Sugars =%{customdata[3]}<br>Proteins =%{customdata[4]}<extra></extra>\",\"hovertext\":[\"Carne Mo\\u00edda do Futuro\",\"Almondegas de Soja Vegway\",\"Almondegas Amazonika Mundi\",\"Kibe Incr\\u00edvel Seara\",\"Almondegas Incr\\u00edveis Seara\",\"Almondegas Mr Veggy\",\"Carne Mo\\u00edda Superbom\",\"Carne Vegetal Mo\\u00edda Superbom\",\"Carne Mo\\u00edda Vegetal Verdali\"],\"legendgroup\":\"MEAT 2\",\"marker\":{\"color\":\"#636EFA\",\"symbol\":\"circle\"},\"mode\":\"markers\",\"name\":\"MEAT 2\",\"orientation\":\"v\",\"showlegend\":false,\"x\":[5.697740077972412,11.314635276794434,8.016632080078125,6.299893379211426,3.031090021133423,6.589420318603516,8.25560474395752,9.01081371307373,7.490296363830566],\"xaxis\":\"x\",\"y\":[5.468072891235352,-1.3344948291778564,8.140267372131348,6.741459369659424,7.168974876403809,6.980682849884033,7.865224361419678,2.589292526245117,6.063131332397461],\"yaxis\":\"y\",\"type\":\"scatter\"},{\"customdata\":[[\" 168.0\",\" 80.0\",\" 11.0\",\" 0.0\",\" 8.2\"],[\" 150.0\",\" 50.0\",\" 10.0\",\" 0.0\",\" 25.0\"],[\" 150.0\",\" 50.0\",\" 10.0\",\" 0.0\",\" 25.0\"],[\" 62.0\",\" 50.0\",\" 1.0\",\" 0.0\",\" 10.0\"],[\" 62.0\",\" 50.0\",\" 1.0\",\" 0.0\",\" 10.0\"],[\" 115.0\",\" 60.0\",\" 2.8\",\" 0.0\",\" 7.5\"],[\" 115.0\",\" 60.0\",\" 3.1\",\" 0.0\",\" 7.5\"],[\" 121.0\",\" 350.0\",\" 9.3\",\" 0.0\",\" 9.3\"],[\" 88.0\",\" 40.0\",\" 6.0\",\" 0.0\",\" 6.3\"],[\" 129.0\",\" 80.0\",\" 12.0\",\" 0.0\",\" 11.0\"],[\" 203.0\",\" 100.0\",\" 13.0\",\" 0.0\",\" 9.2\"],[\" 64.0\",\" 40.0\",\" 2.7\",\" 0.0\",\" 7.8\"],[\" 26.0\",\" 50.0\",\" 0.5\",\" 0.0\",\" 5.0\"],[\" 22.0\",\" 50.0\",\" 0.5\",\" 0.0\",\" 5.3\"],[\" 53.0\",\" 50.0\",\" 0.0\",\" 0.0\",\" 5.4\"],[\" 63.0\",\" 50.0\",\" 0.2\",\" 0.0\",\" 6.3\"],[\" 144.0\",\" 100.0\",\" 5.0\",\" 0.0\",\" 22.0\"],[\" 119.0\",\" 100.0\",\" 5.0\",\" 0.0\",\" 18.0\"]],\"hovertemplate\":\"<b>%{hovertext}</b><br><br>Classification (Label)=MEAT 3<br>Kcal =%{customdata[0]}<br>Serving Size =%{customdata[1]}<br>Carbohydrate =%{customdata[2]}<br>Sugars =%{customdata[3]}<br>Proteins =%{customdata[4]}<extra></extra>\",\"hovertext\":[\"Carne Mo\\u00edda do Futuro\",\"Fil\\u00e9s Sora Carne Vermelha\",\"Fatias Sora Carne Vermelha\",\"Fil\\u00e9 Pronto Saud\\u00e1vel Sora\",\"Carne Mo\\u00edda Pronto Saud\\u00e1vel Sora\",\"Churrasco Vegabom\",\"Churrasco Aoniondo Vegabom\",\"Carne de Pernil Seara\",\"Alm\\u00f4ndega de Soja Vegana Goshen\",\"Bife de Soja Vegano Goshen\",\"Alm\\u00f4ndega Vegana Superbom\",\"Bife Vegetal Superbom\",\"Escalope ao Molho Caseiro Superbom\",\"Cubinhos ao Molho Mexicano Superbom\",\"Alm\\u00f4ndegas ao Molho Sugo Superbom\",\"Medalh\\u00e3o ao Molho Madeira Superbom\",\"Mignon Verdali\",\"Steak Verdali\"],\"legendgroup\":\"MEAT 3\",\"marker\":{\"color\":\"#EF553B\",\"symbol\":\"circle\"},\"mode\":\"markers\",\"name\":\"MEAT 3\",\"orientation\":\"v\",\"showlegend\":false,\"x\":[5.712915897369385,9.588561058044434,9.493772506713867,9.318489074707031,9.360051155090332,6.448012828826904,6.39082670211792,3.0350453853607178,7.2822794914245605,7.59261417388916,8.288576126098633,9.382232666015625,9.269886016845703,9.193469047546387,8.744091987609863,8.800699234008789,7.487626552581787,7.525243759155273],\"xaxis\":\"x\",\"y\":[5.462527275085449,2.91310715675354,2.7915070056915283,4.767270565032959,4.904673099517822,6.747747421264648,6.7611565589904785,7.145667552947998,1.1040213108062744,1.1441941261291504,7.860289573669434,4.271356105804443,4.890990257263184,5.1169514656066895,2.371623992919922,2.3374578952789307,5.882577896118164,5.972922325134277],\"yaxis\":\"y\",\"type\":\"scatter\"},{\"customdata\":[[\" 168.0\",\" 80.0\",\" 11.0\",\" 0.0\",\" 8.2\"],[\" 150.0\",\" 50.0\",\" 10.0\",\" 0.0\",\" 25.0\"],[\" 150.0\",\" 50.0\",\" 10.0\",\" 0.0\",\" 25.0\"],[\" 115.0\",\" 60.0\",\" 2.8\",\" 0.0\",\" 7.5\"],[\" 34.8\",\" 30.0\",\" 2.9\",\" 0.0\",\" 3.8\"],[\" 153.0\",\" 100.0\",\" 12.0\",\" 0.0\",\" 6.0\"],[\" 94.0\",\" 80.0\",\" 3.1\",\" 0.0\",\" 17.0\"],[\" 94.0\",\" 80.0\",\" 3.1\",\" 0.0\",\" 17.0\"],[\" 58.0\",\" 30.0\",\" 2.2\",\" 0.0\",\" 4.8\"],[\" 58.0\",\" 30.0\",\" 2.2\",\" 0.0\",\" 4.8\"],[\" 174.0\",\" 100.0\",\" 6.0\",\" 0.0\",\" 24.0\"],[\" 129.0\",\" 115.0\",\" 5.8\",\" 0.0\",\" 19.0\"],[\" 138.0\",\" 120.0\",\" 8.4\",\" 0.0\",\" 18.0\"]],\"hovertemplate\":\"<b>%{hovertext}</b><br><br>Classification (Label)=POULTRY 3<br>Kcal =%{customdata[0]}<br>Serving Size =%{customdata[1]}<br>Carbohydrate =%{customdata[2]}<br>Sugars =%{customdata[3]}<br>Proteins =%{customdata[4]}<extra></extra>\",\"hovertext\":[\"Frango do Futuro\",\"Fatias Sora Carne Branca\",\"Fil\\u00e9s Sora Carne Branca\",\"Strogonoff de Frango Vegabom\",\"Tiras de Frango New Butchers\",\"Fil\\u00e9 de Frango Desfiado Vegway\",\"Frango Veg e Tal Sadia\",\"Frango Veg e Tal Sadia Desfiado\",\"Peito de Peru de Soja\",\"Peito de Peru de Soja Vegano\",\"Tiras de Ave Verdali\",\"Fil\\u00e9 sem Frango Verdali\",\"Mini Fil\\u00e9 de Frango Verdali\"],\"legendgroup\":\"POULTRY 3\",\"marker\":{\"color\":\"#00CC96\",\"symbol\":\"circle\"},\"mode\":\"markers\",\"name\":\"POULTRY 3\",\"orientation\":\"v\",\"showlegend\":false,\"x\":[5.61696720123291,9.468498229980469,9.590590476989746,6.516073226928711,7.799418926239014,11.436012268066406,7.980306148529053,7.995783805847168,7.386521339416504,7.19290828704834,6.983372211456299,7.420241355895996,7.3813652992248535],\"xaxis\":\"x\",\"y\":[5.369598388671875,2.798858404159546,2.8189587593078613,6.66054105758667,7.435577392578125,-1.4502332210540771,8.341756820678711,8.271833419799805,0.790154755115509,0.6336990594863892,6.742434501647949,6.269383907318115,6.444972991943359],\"yaxis\":\"y\",\"type\":\"scatter\"},{\"customdata\":[[\" 139.0\",\" 50.0\",\" 7.7\",\" 0.0\",\" 5.7\"],[\" 78.0\",\" 35.0\",\" 6.0\",\" 0.0\",\" 4.0\"],[\" 78.0\",\" 35.0\",\" 6.0\",\" 0.0\",\" 4.0\"],[\" 156.0\",\" 65.0\",\" 8.0\",\" 0.0\",\" 11.0\"],[\" 115.0\",\" 80.0\",\" 3.6\",\" 0.0\",\" 9.7\"],[\" 44.0\",\" 30.0\",\" 0.5\",\" 0.0\",\" 5.1\"],[\" 58.0\",\" 30.0\",\" 1.7\",\" 0.0\",\" 5.1\"],[\" 93.0\",\" 50.0\",\" 1.9\",\" 0.0\",\" 8.1\"],[\" 58.0\",\" 30.0\",\" 4.3\",\" 0.0\",\" 2.4\"],[\" 96.0\",\" 50.0\",\" 1.8\",\" 0.0\",\" 8.8\"],[\" 60.0\",\" 40.0\",\" 1.4\",\" 0.0\",\" 7.6\"],[\" 43.0\",\" 40.0\",\" 1.8\",\" 0.0\",\" 4.9\"]],\"hovertemplate\":\"<b>%{hovertext}</b><br><br>Classification (Label)=PORK 1<br>Kcal =%{customdata[0]}<br>Serving Size =%{customdata[1]}<br>Carbohydrate =%{customdata[2]}<br>Sugars =%{customdata[3]}<br>Proteins =%{customdata[4]}<extra></extra>\",\"hovertext\":[\"Lingui\\u00e7a do Futuro\",\"Lingui\\u00e7a calabresa vegabom\",\"saltsicha de chickpea Vegabom\",\"Vegway Soy Sausage\",\"saltsichas Incriveis Seara\",\"Lingui\\u00e7a Apimentada de Soja Goshen\",\"Lingui\\u00e7a Calabresa de Soja Goshen\",\"Lingui\\u00e7a de Soja Vegana Goshen\",\"Lingui\\u00e7a Toscana de Soja Goshen\",\"saltsicha de Soja Vegana Goshen\",\"saltsicha Vegetal Superbom\",\"saltsicha Vegetal Defumada Superbom\"],\"legendgroup\":\"PORK 1\",\"marker\":{\"color\":\"#AB63FA\",\"symbol\":\"circle\"},\"mode\":\"markers\",\"name\":\"PORK 1\",\"orientation\":\"v\",\"showlegend\":false,\"x\":[5.734910488128662,6.191215515136719,5.849594593048096,11.458029747009277,3.040644884109497,7.509189605712891,7.14190149307251,7.407712459564209,7.488790035247803,7.414051532745361,9.08520793914795,9.187321662902832],\"xaxis\":\"x\",\"y\":[5.519904136657715,8.025218963623047,8.10363483428955,-1.4715632200241089,7.140529155731201,0.7129984498023987,0.6037929058074951,0.8653074502944946,0.7767001390457153,0.7342432141304016,3.2702434062957764,3.4245495796203613],\"yaxis\":\"y\",\"type\":\"scatter\"},{\"customdata\":[[\" 118.0\",\" 50.0\",\" 2.8\",\" 0.0\",\" 7.0\"],[\" 78.0\",\" 50.0\",\" 5.3\",\" 0.0\",\" 8.9\"],[\" 140.0\",\" 120.0\",\" 25.0\",\" 0.0\",\" 6.1\"],[\" 128.0\",\" 60.0\",\" 19.0\",\" 0.0\",\" 5.1\"],[\" 253.0\",\" 113.0\",\" 42.0\",\" 0.0\",\" 17.0\"],[\" 90.0\",\" 80.0\",\" 4.8\",\" 0.0\",\" 11.0\"],[\" 187.0\",\" 80.0\",\" 10.0\",\" 0.0\",\" 9.8\"],[\" 158.0\",\" 113.5\",\" 8.7\",\" 0.0\",\" 15.0\"],[\" 206.0\",\" 100.0\",\" 4.1\",\" 0.0\",\" 13.0\"],[\" 420.0\",\" 100.0\",\" 4.4\",\" 0.0\",\" 28.0\"],[\" 209.0\",\" 115.0\",\" 5.3\",\" 0.0\",\" 20.0\"],[\" 114.0\",\" 60.0\",\" 4.5\",\" 0.0\",\" 7.6\"],[\" 170.0\",\" 80.0\",\" 4.6\",\" 0.0\",\" 12.0\"],[\" 134.0\",\" 60.0\",\" 5.9\",\" 0.0\",\" 7.3\"],[\" 237.0\",\" 134.0\",\" 29.0\",\" 0.0\",\" 16.0\"],[\" 115.0\",\" 60.0\",\" 13.0\",\" 0.0\",\" 8.9\"],[\" 118.0\",\" 60.0\",\" 11.0\",\" 0.0\",\" 6.0\"],[\" 118.0\",\" 60.0\",\" 11.0\",\" 0.0\",\" 6.0\"],[\" 197.0\",\" 80.0\",\" 10.0\",\" 0.0\",\" 11.0\"],[\" 309.0\",\" 115.0\",\" 45.0\",\" 0.0\",\" 7.0\"],[\" 127.0\",\" 90.0\",\" 23.0\",\" 0.0\",\" 3.1\"],[\" 150.0\",\" 50.0\",\" 10.0\",\" 0.0\",\" 25.0\"],[\" 120.0\",\" 90.0\",\" 17.0\",\" 0.0\",\" 5.4\"],[\" 171.0\",\" 90.0\",\" 28.0\",\" 0.0\",\" 3.4\"],[\" 196.0\",\" 100.0\",\" 9.7\",\" 0.0\",\" 19.0\"],[\" 146.0\",\" 63.0\",\" 7.0\",\" 0.0\",\" 12.3\"],[\" 80.0\",\" 70.0\",\" 4.4\",\" 0.0\",\" 8.2\"],[\" 301.0\",\" 67.0\",\" 40.0\",\" 0.0\",\" 8.9\"],[\" 192.0\",\" 90.0\",\" 26.0\",\" 0.0\",\" 7.7\"],[\" 210.0\",\" 90.0\",\" 29.0\",\" 0.0\",\" 10.0\"],[\" 110.0\",\" 60.0\",\" 8.9\",\" 0.0\",\" 4.3\"],[\" 62.0\",\" 50.0\",\" 1.0\",\" 0.0\",\" 10.0\"],[\" 266.0\",\" 80.0\",\" 26.0\",\" 0.0\",\" 27.0\"],[\" 266.0\",\" 80.0\",\" 26.0\",\" 0.0\",\" 27.0\"]],\"hovertemplate\":\"<b>%{hovertext}</b><br><br>Classification (Label)=MEAT 1<br>Kcal =%{customdata[0]}<br>Serving Size =%{customdata[1]}<br>Carbohydrate =%{customdata[2]}<br>Sugars =%{customdata[3]}<br>Proteins =%{customdata[4]}<extra></extra>\",\"hovertext\":[\"Hamburguer de Soja Goshen\",\"Hamburguer de Soja Vegano Goshen\",\"Hamburguer de Quinoa Mr Veggy\",\"Hamburguer de lentil Mr Veggy\",\"Hamburguer vegano falafel amazonika mundi\",\"Hamburguer Vegetal Verdali\",\"VegBurger Sabor Carne\",\"Burger Gourmet Superbom\",\"Hamburguer Incr\\u00edvel Seara\",\"Not Burguer Notco\",\"Hamburguer de Fibra de Caju Amazonika Mundi\",\"Hamburguer Vegabom\",\"Hamburguer de Carne Veg  e Tal Sadia\",\"Hamburger New Butchers\",\"Hamburguer de Legumes Mr Veggy\",\"Hamburguer Vegetariano Mr Veggy\",\"Hambuguer Mr Veggy Mari Mari\",\"Hambuguer Mr Veggy Mari Mari Churrrasco\",\"Hamb\\u00farguer Fazenda Futuro 2.0\",\"Hamb\\u00farguer Vegano de Quinoa Amazonika Mundi\",\"Hamburguer Veggie Roots Tempero Indiano\",\"Hamb\\u00farguer Sora Carne Vermelha \",\"Hamburguer Veggie Roots brazilianspices\",\"Hamburguer veggie roots tempero mexicano\",\"Hamburguer de Soja Sabor Carne Vegway\",\"Hamb\\u00farguer de Soja Empanado Vegway\",\"Hamburguer Vegetal Superbom\",\"Hamburguer de chickpea Mr Veggy\",\"Hamburguer Veggie Roots Tempero \\u00c1rabe\",\"Hamburguer Veggie Roots Tempero Tailand\\u00eas\",\"Hamburguer Vegabom\",\"Hamb\\u00farguer Pronto Saud\\u00e1vel Sora\",\"hamburguer vegetal com herbs jasmine\",\"Hamburguer Vegetal Tradicional Jasmine\"],\"legendgroup\":\"MEAT 1\",\"marker\":{\"color\":\"#FFA15A\",\"symbol\":\"circle\"},\"mode\":\"markers\",\"name\":\"MEAT 1\",\"orientation\":\"v\",\"showlegend\":false,\"x\":[7.677639484405518,7.521206855773926,8.475910186767578,7.63149881362915,8.228262901306152,7.140902042388916,8.12600040435791,8.785204887390137,3.087810754776001,7.660044193267822,7.997918128967285,6.086283206939697,9.599968910217285,7.714219093322754,6.603470802307129,6.528453826904297,6.573237419128418,6.599428176879883,5.741560935974121,8.037919998168945,9.035405158996582,9.535209655761719,8.928520202636719,8.768399238586426,11.421201705932617,11.24845027923584,11.130268096923828,7.609628200531006,8.891794204711914,8.865142822265625,6.412501335144043,9.484854698181152,9.305182456970215,9.340330123901367],\"xaxis\":\"x\",\"y\":[1.3683288097381592,1.2610405683517456,8.015610694885254,7.870430946350098,7.641106605529785,6.867415428161621,7.396397113800049,5.933901786804199,7.114365100860596,8.48224925994873,8.118712425231934,8.028985023498535,6.917380332946777,7.722373962402344,7.497017860412598,7.486770153045654,7.483710289001465,7.486030578613281,5.5110087394714355,7.482608795166016,5.452723026275635,2.9635744094848633,5.16855001449585,5.198157787322998,-1.4343230724334717,-1.2680810689926147,-1.109256386756897,7.973084926605225,5.265588283538818,5.120410919189453,7.770328044891357,4.737029075622559,4.413137912750244,4.4586076736450195],\"yaxis\":\"y\",\"type\":\"scatter\"},{\"customdata\":[[\" 150.0\",\" 50.0\",\" 10.0\",\" 0.0\",\" 25.0\"],[\" 189.0\",\" 80.0\",\" 11.0\",\" 0.0\",\" 9.8\"],[\" 173.0\",\" 80.0\",\" 3.6\",\" 0.0\",\" 13.0\"],[\" 129.0\",\" 100.0\",\" 2.4\",\" 0.0\",\" 7.0\"],[\" 96.0\",\" 80.0\",\" 4.8\",\" 0.0\",\" 11.0\"]],\"hovertemplate\":\"<b>%{hovertext}</b><br><br>Classification (Label)=POULTRY 2<br>Kcal =%{customdata[0]}<br>Serving Size =%{customdata[1]}<br>Carbohydrate =%{customdata[2]}<br>Sugars =%{customdata[3]}<br>Proteins =%{customdata[4]}<extra></extra>\",\"hovertext\":[\"Hamb\\u00farguer Sora Carne Branca\",\"VegBurger Sabor Frango\",\"Hambuguer Incr\\u00edvel Seara Frango\",\"Frango Vegano em Peda\\u00e7os \\u00e0 Base de pea\",\"Hamb\\u00farguer de Frango Verdali\"],\"legendgroup\":\"POULTRY 2\",\"marker\":{\"color\":\"#19D3F3\",\"symbol\":\"circle\"},\"mode\":\"markers\",\"name\":\"POULTRY 2\",\"orientation\":\"v\",\"showlegend\":false,\"x\":[9.534845352172852,8.082284927368164,3.1186747550964355,8.186006546020508,7.337191581726074],\"xaxis\":\"x\",\"y\":[2.892932653427124,7.3853888511657715,7.088964462280273,7.422741889953613,6.49111270904541],\"yaxis\":\"y\",\"type\":\"scatter\"},{\"customdata\":[[\" 116.0\",\" 60.0\",\" 2.9\",\" 0.0\",\" 7.9\"],[\" 116.0\",\" 60.0\",\" 2.9\",\" 0.0\",\" 7.9\"],[\" 198.0\",\" 100.0\",\" 14.0\",\" 0.0\",\" 15.0\"],[\" 449.0\",\" 130.0\",\" 31.0\",\" 0.0\",\" 12.0\"],[\" 291.0\",\" 130.0\",\" 29.0\",\" 0.0\",\" 17.0\"],[\" 127.0\",\" 40.0\",\" 4.9\",\" 0.0\",\" 6.5\"],[\" 94.0\",\" 40.0\",\" 3.4\",\" 0.0\",\" 6.7\"],[\" 61.0\",\" 40.0\",\" 3.0\",\" 0.0\",\" 7.2\"],[\" 330.0\",\" 130.0\",\" 32.0\",\" 0.0\",\" 13.0\"],[\" 210.0\",\" 80.0\",\" 32.0\",\" 0.0\",\" 8.0\"],[\" 178.0\",\" 130.0\",\" 21.5\",\" 0.0\",\" 13.4\"],[\" 110.0\",\" 80.0\",\" 13.0\",\" 0.0\",\" 8.5\"],[\" 188.0\",\" 100.0\",\" 24.0\",\" 0.0\",\" 13.0\"],[\" 188.0\",\" 100.0\",\" 24.0\",\" 0.0\",\" 13.0\"]],\"hovertemplate\":\"<b>%{hovertext}</b><br><br>Classification (Label)=POULTRY 1<br>Kcal =%{customdata[0]}<br>Serving Size =%{customdata[1]}<br>Carbohydrate =%{customdata[2]}<br>Sugars =%{customdata[3]}<br>Proteins =%{customdata[4]}<extra></extra>\",\"hovertext\":[\"Empanado de Frango Vegabom\",\"Fil\\u00e9 de Frango Empanado Vegabom\",\"Empanados de Frango Vegway\",\"Empanados Incr\\u00edveis Seara\",\"Empanados Sadia Veg e Tal\",\"Empanadinho de Soja  Goshen\",\"Empanadinho de Soja Vegano  Goshen\",\"Steak de Soja Vegano Goshen\",\"Empanado Vegano (Mini Crispy) 100 Foods\",\"Crispy Chicken 100 Foods\",\"Mini Empanado de Legumes Superbom\",\"Steak Vegan Sabor Legumes Superbom\",\"Steak Veg\\u00ea Sabor Frango\",\"Steak Veg\\u00ea Sabor Frango Empanado\"],\"legendgroup\":\"POULTRY 1\",\"marker\":{\"color\":\"#FF6692\",\"symbol\":\"circle\"},\"mode\":\"markers\",\"name\":\"POULTRY 1\",\"orientation\":\"v\",\"showlegend\":false,\"x\":[5.529266357421875,5.501885414123535,11.318103790283203,3.4262659549713135,3.436476945877075,7.593237400054932,7.421123504638672,7.450461387634277,6.588489055633545,6.521859645843506,7.921702861785889,7.9655375480651855,8.607893943786621,8.478371620178223],\"xaxis\":\"x\",\"y\":[8.220979690551758,8.231860160827637,-1.3412147760391235,6.993234634399414,6.991929531097412,1.2621824741363525,1.257551670074463,1.0823290348052979,6.598904132843018,6.574555397033691,8.564118385314941,8.485596656799316,5.669277191162109,5.830406188964844],\"yaxis\":\"y\",\"type\":\"scatter\"},{\"customdata\":[[\" 116.0\",\" 60.0\",\" 3.6\",\" 0.0\",\" 7.5\"],[\" 116.0\",\" 60.0\",\" 3.6\",\" 0.0\",\" 7.5\"],[\" 206.0\",\" 100.0\",\" 28.0\",\" 0.0\",\" 8.0\"],[\" 41.0\",\" 40.0\",\" 7.0\",\" 0.0\",\" 1.6\"],[\" 82.0\",\" 30.0\",\" 3.5\",\" 0.0\",\" 4.0\"]],\"hovertemplate\":\"<b>%{hovertext}</b><br><br>Classification (Label)=FISH 2<br>Kcal =%{customdata[0]}<br>Serving Size =%{customdata[1]}<br>Carbohydrate =%{customdata[2]}<br>Sugars =%{customdata[3]}<br>Proteins =%{customdata[4]}<extra></extra>\",\"hovertext\":[\"Fil\\u00e9 Peixe Empanado Vegabom\",\"Tirinhas de Peixe Empanado Vegabom\",\"Bolinho de Bacalhau New Butchers\",\"Bolinho de Siri Amazonika Mundi\",\"Camar\\u00e3o de Soja Vegano Goshen\"],\"legendgroup\":\"FISH 2\",\"marker\":{\"color\":\"#B6E880\",\"symbol\":\"circle\"},\"mode\":\"markers\",\"name\":\"FISH 2\",\"orientation\":\"v\",\"showlegend\":false,\"x\":[5.5560221672058105,5.564987659454346,7.646231174468994,9.38487434387207,7.115075588226318],\"xaxis\":\"x\",\"y\":[8.171162605285645,8.156167030334473,7.325232982635498,5.002847671508789,0.8528881072998047],\"yaxis\":\"y\",\"type\":\"scatter\"},{\"customdata\":[[\" 124.0\",\" 50.0\",\" 5.1\",\" 0.0\",\" 0.0\"],[\" 124.0\",\" 50.0\",\" 5.1\",\" 0.0\",\" 0.0\"],[\" 124.0\",\" 50.0\",\" 5.1\",\" 0.0\",\" 0.0\"],[\" 31.0\",\" 10.0\",\" 0.6\",\" 0.0\",\" 0.3\"],[\" 25.0\",\" 10.0\",\" 0.7\",\" 0.0\",\" 0.3\"],[\" 29.0\",\" 10.0\",\" 0.7\",\" 0.0\",\" 0.3\"],[\" 30.0\",\" 10.0\",\" 0.7\",\" 0.0\",\" 0.3\"],[\" 178.0\",\" 100.0\",\" 8.7\",\" 0.0\",\" 8.4\"],[\" 178.0\",\" 100.0\",\" 8.7\",\" 0.0\",\" 8.4\"],[\" 280.0\",\" 100.0\",\" 23.3\",\" 0.0\",\" 3.0\"],[\" 170.0\",\" 100.0\",\" 6.0\",\" 0.0\",\" 4.7\"],[\" 170.0\",\" 100.0\",\" 6.0\",\" 0.0\",\" 4.7\"],[\" 82.0\",\" 30.0\",\" 2.7\",\" 0.0\",\" 1.5\"],[\" 83.0\",\" 30.0\",\" 2.9\",\" 0.0\",\" 1.5\"],[\" 95.0\",\" 30.0\",\" 9.1\",\" 0.0\",\" 2.0\"],[\" 89.0\",\" 30.0\",\" 8.2\",\" 0.0\",\" 1.9\"],[\" 93.0\",\" 30.0\",\" 8.8\",\" 0.0\",\" 1.9\"],[\" 83.0\",\" 30.0\",\" 2.3\",\" 0.0\",\" 1.6\"],[\" 83.0\",\" 30.0\",\" 2.3\",\" 0.0\",\" 1.6\"],[\" 83.0\",\" 30.0\",\" 2.3\",\" 0.0\",\" 1.6\"],[\" 581.0\",\" 100.0\",\" 30.2\",\" 0.0\",\" 18.2\"],[\" 581.0\",\" 100.0\",\" 30.2\",\" 0.0\",\" 18.2\"],[\" 59.0\",\" 30.0\",\" 2.0\",\" 0.0\",\" 0.9\"],[\" 43.0\",\" 30.0\",\" 1.2\",\" 0.0\",\" 0.8\"],[\" 100.0\",\" 30.0\",\" 5.4\",\" 0.0\",\" 2.9\"],[\" 43.0\",\" 30.0\",\" 1.2\",\" 0.0\",\" 0.8\"],[\" 394.0\",\" 100.0\",\" 23.0\",\" 0.0\",\" 13.0\"],[\" 30.0\",\" 12.0\",\" 3.0\",\" 0.0\",\" 0.7\"],[\" 62.8\",\" 20.0\",\" 3.6\",\" 0.0\",\" 2.0\"],[\" 57.1\",\" 20.0\",\" 3.4\",\" 0.0\",\" 1.9\"],[\" 68.4\",\" 20.0\",\" 3.8\",\" 0.0\",\" 2.1\"],[\" 62.8\",\" 20.0\",\" 3.6\",\" 0.0\",\" 2.0\"],[\" 89.0\",\" 30.0\",\" 6.4\",\" 0.0\",\" 0.0\"],[\" 72.0\",\" 30.0\",\" 2.9\",\" 0.0\",\" 1.0\"],[\" 58.0\",\" 30.0\",\" 3.5\",\" 0.0\",\" 1.0\"],[\" 71.0\",\" 30.0\",\" 2.8\",\" 0.0\",\" 0.9\"],[\" 78.0\",\" 30.0\",\" 3.4\",\" 0.0\",\" 1.0\"],[\" 76.0\",\" 30.0\",\" 3.4\",\" 0.0\",\" 0.9\"],[\" 36.0\",\" 15.0\",\" 1.0\",\" 0.0\",\" 0.3\"],[\" 38.0\",\" 10.0\",\" 0.8\",\" 0.0\",\" 0.3\"],[\" 51.0\",\" 15.0\",\" 3.8\",\" 0.0\",\" 0.7\"],[\" 36.0\",\" 15.0\",\" 1.2\",\" 0.0\",\" 0.4\"],[\" 47.0\",\" 15.0\",\" 2.8\",\" 0.0\",\" 0.1\"],[\" 47.0\",\" 15.0\",\" 2.8\",\" 0.0\",\" 0.1\"],[\" 49.0\",\" 15.0\",\" 3.1\",\" 0.0\",\" 0.1\"]],\"hovertemplate\":\"<b>%{hovertext}</b><br><br>Classification (Label)=DAIRY 3<br>Kcal =%{customdata[0]}<br>Serving Size =%{customdata[1]}<br>Carbohydrate =%{customdata[2]}<br>Sugars =%{customdata[3]}<br>Proteins =%{customdata[4]}<extra></extra>\",\"hovertext\":[\"Queijo Mu\\u00e7arela Vegabom\",\"Queijo Picante Vegabom\",\"Queijo Cheddar Vegabom\",\"Requeisoy Provolone \",\"Requeisoy Cheddar' \",\"Requeisoy Tradicional\",\"Requeisoy Gorgonzola\",\"Okeijo R\\u00fastico\",\"Okeijo Cremoso\",\"Okeijo Gratinado\",\"Okeijo Mussarela\",\"Okeijo Provolone\",\"Creme s Vida Veg\",\"Creme s fineherbs e Pesto\",\"Queijo mu\\u00e7arela\",\"Queijo minas frescal\",\"Queijo minas padr\\u00e3o\",\"Requeij\\u00e3o Tradicional\",\"Requeij\\u00e3o fineherbs\",\"Requeij\\u00e3o Defumado\",\"Queijo Zimurisku \",\"Queijo Zimurisku Temperado\",\"Queijo Mozarela NoMoo\",\"Queijo Provolone\",\"Queijo Ch\\u00e9vre\",\"Queijo Prato\",\"Queijo Parmes\\u00e3o\",\"Requeij\\u00e3o Nomoo\",\"Queijo Gorgolino\",\"Queijo Melhor Que Cheddar\",\"Queijo Recaishow\",\"Queijo Brie\",\"Mussarela Vegana Goshen\",\"Queijo ProVolone Veganita\",\"Queijo Munster Veganita\",\"Queijo Brie Veganita\",\"Queijo Mussarela Veganita\",\"Queijo Cheddar Veganita\",\"CREAM CHEESE CULIN\\u00c1RIO BASI.CO\",\"REQUEIJ\\u00c3O VEGETAL\",\"QUEIJO PARMES\\u00c3O\",\"QUEIJO MINAS VEGETAL\",\"QUEIJO PRATO\",\"QUEIJO MU\\u00c7ARELA\",\"QUEIJO CHEDDAR\"],\"legendgroup\":\"DAIRY 3\",\"marker\":{\"color\":\"#FF97FF\",\"symbol\":\"circle\"},\"mode\":\"markers\",\"name\":\"DAIRY 3\",\"orientation\":\"v\",\"showlegend\":false,\"x\":[7.306530475616455,7.338717460632324,7.286956787109375,8.689666748046875,8.668678283691406,8.811868667602539,8.693947792053223,8.275505065917969,8.537108421325684,8.342976570129395,8.453734397888184,8.374310493469238,10.313155174255371,10.22295093536377,10.293712615966797,10.279147148132324,10.251605033874512,10.353622436523438,10.325389862060547,10.304349899291992,7.487653732299805,7.522737503051758,4.501224517822266,4.494626045227051,4.3988823890686035,4.61700963973999,4.311164855957031,4.705439567565918,4.868810176849365,4.9959306716918945,4.84865665435791,4.43811559677124,8.177160263061523,4.2695746421813965,4.296960353851318,4.276673793792725,4.238796234130859,4.257848262786865,9.71381950378418,9.802104949951172,9.458895683288574,10.017138481140137,9.628898620605469,9.576908111572266,9.6126070022583],\"xaxis\":\"x\",\"y\":[7.665741443634033,7.685108184814453,7.679059028625488,8.130175590515137,8.178919792175293,8.309077262878418,8.19436264038086,7.010890960693359,6.8598313331604,7.282958984375,6.9827961921691895,6.9374308586120605,5.925766944885254,5.88438606262207,6.07578706741333,6.025977611541748,6.070066452026367,5.637975692749023,5.55681037902832,5.52023983001709,8.504110336303711,8.510821342468262,12.238816261291504,12.39532470703125,12.203749656677246,12.167174339294434,12.162269592285156,12.112035751342773,11.944759368896484,11.934585571289062,12.06282901763916,11.862066268920898,7.785213470458984,12.07377815246582,12.169511795043945,12.153502464294434,12.232253074645996,12.141916275024414,6.296989440917969,6.3453569412231445,5.656144142150879,6.255341529846191,5.598834037780762,5.5430097579956055,5.490408897399902],\"yaxis\":\"y\",\"type\":\"scatter\"},{\"customdata\":[[\" 146.0\",\" 90.0\",\" 12.1\",\" 0.0\",\" 11.9\"],[\" 327.0\",\" 240.0\",\" 41.0\",\" 0.0\",\" 11.0\"],[\" 317.0\",\" 100.0\",\" 17.0\",\" 0.0\",\" 13.0\"],[\" 153.0\",\" 100.0\",\" 12.0\",\" 0.0\",\" 6.0\"],[\" 138.0\",\" 100.0\",\" 19.0\",\" 0.0\",\" 2.0\"],[\" 304.0\",\" 300.0\",\" 19.0\",\" 0.0\",\" 21.0\"],[\" 440.0\",\" 130.0\",\" 31.0\",\" 0.0\",\" 12.0\"],[\" 166.0\",\" 80.0\",\" 7.1\",\" 0.0\",\" 12.0\"]],\"hovertemplate\":\"<b>%{hovertext}</b><br><br>Classification (Label)=FISH 1<br>Kcal =%{customdata[0]}<br>Serving Size =%{customdata[1]}<br>Carbohydrate =%{customdata[2]}<br>Sugars =%{customdata[3]}<br>Proteins =%{customdata[4]}<extra></extra>\",\"hovertext\":[\"Fil\\u00e9 de saltm\\u00e3o New Butchers\",\"Bacalhau New  Butchers\",\"Isca de Peixe Vegway\",\"Fil\\u00e9 de Peixe Vegway\",\"Vieira de Soja Vegway\",\"Bacalhau Incr\\u00edvel Seara\",\"Iscas de Peixe Incr\\u00edvel Seara\",\"Atum do Futuro\"],\"legendgroup\":\"FISH 1\",\"marker\":{\"color\":\"#FECB52\",\"symbol\":\"circle\"},\"mode\":\"markers\",\"name\":\"FISH 1\",\"orientation\":\"v\",\"showlegend\":false,\"x\":[7.784532070159912,7.5956268310546875,11.346565246582031,11.289019584655762,11.373516082763672,3.1020119190216064,3.41359281539917,8.266324996948242],\"xaxis\":\"x\",\"y\":[7.514146327972412,7.248039722442627,-1.3742430210113525,-1.3075668811798096,-1.384533405303955,7.151303291320801,7.001148223876953,7.826187610626221],\"yaxis\":\"y\",\"type\":\"scatter\"},{\"customdata\":[[\" 78.0\",\" 40.0\",\" 3.9\",\" 0.0\",\" 7.4\"],[\" 185.0\",\" 60.0\",\" 31.0\",\" 0.0\",\" 1.1\"],[\" 34.0\",\" 20.0\",\" 0.2\",\" 0.0\",\" 3.4\"],[\" 75.0\",\" 40.0\",\" 3.6\",\" 0.0\",\" 7.6\"],[\" 35.0\",\" 20.0\",\" 0.4\",\" 0.0\",\" 3.9\"],[\" 476.0\",\" 100.0\",\" 14.0\",\" 0.0\",\" 42.0\"]],\"hovertemplate\":\"<b>%{hovertext}</b><br><br>Classification (Label)=PORK 2<br>Kcal =%{customdata[0]}<br>Serving Size =%{customdata[1]}<br>Carbohydrate =%{customdata[2]}<br>Sugars =%{customdata[3]}<br>Proteins =%{customdata[4]}<extra></extra>\",\"hovertext\":[\"Presunto de Soja Vegway\",\"Bacon Vegano\",\"Mortadela de Soja Vegana Goshen\",\"Presunto de Soja Defumado\",\"Presunto de Soja Vegano Fatiado Goshen\",\"Bacon Crispy Verdali\"],\"legendgroup\":\"PORK 2\",\"marker\":{\"color\":\"rgb(127, 60, 141)\",\"symbol\":\"circle\"},\"mode\":\"markers\",\"name\":\"PORK 2\",\"orientation\":\"v\",\"showlegend\":false,\"x\":[11.21300220489502,8.021929740905762,7.159081935882568,7.4520649909973145,7.1887688636779785,7.678302764892578],\"xaxis\":\"x\",\"y\":[-1.2320160865783691,7.3635640144348145,0.6339390873908997,1.1997592449188232,0.6589659452438354,5.701899528503418],\"yaxis\":\"y\",\"type\":\"scatter\"},{\"customdata\":[[\" 92.0\",\" 250.0\",\" 3.7\",\" 2.0\",\" 3.2\"],[\" 60.0\",\" 250.0\",\" 3.4\",\" 2.0\",\" 3.2\"],[\" 68.0\",\" 200.0\",\" 0.9\",\" 0.0\",\" 3.0\"],[\" 53.0\",\" 200.0\",\" 0.0\",\" 0.0\",\" 3.0\"],[\" 70.0\",\" 200.0\",\" 1.0\",\" 0.0\",\" 3.0\"],[\" 88.0\",\" 200.0\",\" 4.0\",\" 0.0\",\" 3.0\"],[\" 58.0\",\" 200.0\",\" 0.8\",\" 0.0\",\" 3.0\"],[\" 108.0\",\" 200.0\",\" 13.0\",\" 0.0\",\" 1.1\"],[\" 145.0\",\" 200.0\",\" 18.0\",\" 0.0\",\" 1.5\"],[\" 117.0\",\" 200.0\",\" 27.0\",\" 10.0\",\" 0.0\"],[\" 111.0\",\" 200.0\",\" 20.0\",\" 9.4\",\" 0.0\"],[\" 117.0\",\" 200.0\",\" 27.0\",\" 10.0\",\" 1.0\"],[\" 145.0\",\" 200.0\",\" 18.0\",\" 0.0\",\" 1.5\"],[\" 117.0\",\" 200.0\",\" 27.0\",\" 10.0\",\" 0.0\"],[\" 134.0\",\" 200.0\",\" 27.0\",\" 10.0\",\" 4.6\"],[\" 72.0\",\" 200.0\",\" 11.0\",\" 8.9\",\" 1.1\"],[\" 113.0\",\" 200.0\",\" 7.5\",\" 6.7\",\" 7.0\"],[\" 79.0\",\" 200.0\",\" 12.0\",\" 10.0\",\" 1.2\"],[\" 91.0\",\" 200.0\",\" 15.0\",\" 10.0\",\" 1.1\"],[\" 84.0\",\" 200.0\",\" 16.0\",\" 9.4\",\" 2.0\"],[\" 104.0\",\" 260.0\",\" 20.0\",\" 12.0\",\" 3.0\"],[\" 79.0\",\" 25.0\",\" 8.6\",\" 3.1\",\" 7.3\"],[\" 73.0\",\" 25.0\",\" 11.0\",\" 3.2\",\" 5.0\"],[\" 120.0\",\" 200.0\",\" 15.0\",\" 11.0\",\" 4.8\"],[\" 97.0\",\" 200.0\",\" 8.4\",\" 5.9\",\" 2.3\"],[\" 66.0\",\" 200.0\",\" 10.0\",\" 7.3\",\" 2.7\"],[\" 99.0\",\" 200.0\",\" 16.0\",\" 11.5\",\" 4.1\"],[\" 104.0\",\" 200.0\",\" 18.0\",\" 12.6\",\" 3.6\"],[\" 82.0\",\" 200.0\",\" 14.0\",\" 8.8\",\" 3.3\"],[\" 97.0\",\" 200.0\",\" 8.4\",\" 5.9\",\" 2.3\"],[\" 51.0\",\" 200.0\",\" 6.3\",\" 6.3\",\" 0.9\"],[\" 98.0\",\" 200.0\",\" 17.0\",\" 17.0\",\" 1.3\"],[\" 70.0\",\" 200.0\",\" 11.0\",\" 11.0\",\" 0.9\"],[\" 30.0\",\" 200.0\",\" 0.9\",\" 0.9\",\" 0.9\"],[\" 58.0\",\" 200.0\",\" 8.5\",\" 0.0\",\" 0.9\"],[\" 44.0\",\" 250.0\",\" 1.4\",\" 1.4\",\" 1.6\"],[\" 21.0\",\" 200.0\",\" 4.7\",\" 0.0\",\" 1.0\"],[\" 48.0\",\" 200.0\",\" 6.8\",\" 4.0\",\" 6.8\"],[\" 59.0\",\" 200.0\",\" 7.5\",\" 0.0\",\" 0.9\"],[\" 84.0\",\" 200.0\",\" 15.0\",\" 0.0\",\" 1.2\"],[\" 55.0\",\" 200.0\",\" 4.7\",\" 0.0\",\" 0.0\"],[\" 74.0\",\" 200.0\",\" 15.0\",\" 0.0\",\" 0.0\"],[\" 74.0\",\" 200.0\",\" 15.0\",\" 0.0\",\" 0.0\"],[\" 74.0\",\" 200.0\",\" 15.0\",\" 0.0\",\" 0.0\"],[\" 74.0\",\" 200.0\",\" 15.0\",\" 0.0\",\" 0.0\"],[\" 74.0\",\" 200.0\",\" 15.0\",\" 0.0\",\" 0.0\"],[\" 74.0\",\" 200.0\",\" 15.0\",\" 0.0\",\" 0.0\"],[\" 74.0\",\" 200.0\",\" 15.0\",\" 0.0\",\" 0.0\"],[\" 114.0\",\" 30.0\",\" 25.0\",\" 0.0\",\" 2.0\"],[\" 114.0\",\" 30.0\",\" 25.0\",\" 0.0\",\" 2.0\"],[\" 114.0\",\" 30.0\",\" 25.0\",\" 0.0\",\" 2.0\"],[\" 114.0\",\" 30.0\",\" 25.0\",\" 0.0\",\" 2.0\"],[\" 114.0\",\" 30.0\",\" 25.0\",\" 0.0\",\" 2.0\"],[\" 78.0\",\" 200.0\",\" 8.5\",\" 2.8\",\" 2.4\"],[\" 90.0\",\" 200.0\",\" 3.0\",\" 0.9\",\" 3.0\"],[\" 80.0\",\" 200.0\",\" 3.1\",\" 0.8\",\" 2.0\"],[\" 57.0\",\" 200.0\",\" 1.7\",\" 0.4\",\" 1.9\"],[\" 150.0\",\" 200.0\",\" 18.0\",\" 0.0\",\" 3.0\"],[\" 75.0\",\" 200.0\",\" 16.0\",\" 6.3\",\" 0.0\"],[\" 100.0\",\" 200.0\",\" 2.3\",\" 0.8\",\" 7.0\"],[\" 80.0\",\" 200.0\",\" 3.3\",\" 0.9\",\" 2.1\"],[\" 109.0\",\" 200.0\",\" 3.1\",\" 0.1\",\" 5.4\"],[\" 29.0\",\" 200.0\",\" 0.7\",\" 0.0\",\" 0.7\"],[\" 36.0\",\" 200.0\",\" 1.3\",\" 0.0\",\" 1.3\"],[\" 23.0\",\" 200.0\",\" 4.0\",\" 0.0\",\" 0.8\"],[\" 82.0\",\" 200.0\",\" 2.2\",\" 0.4\",\" 1.6\"],[\" 106.0\",\" 200.0\",\" 3.0\",\" 0.5\",\" 3.0\"],[\" 86.0\",\" 200.0\",\" 3.0\",\" 0.5\",\" 3.0\"],[\" 41.0\",\" 200.0\",\" 5.0\",\" 4.2\",\" 0.8\"],[\" 80.0\",\" 200.0\",\" 12.0\",\" 9.3\",\" 1.5\"],[\" 26.0\",\" 200.0\",\" 1.0\",\" 0.3\",\" 0.7\"],[\" 27.0\",\" 200.0\",\" 1.0\",\" 0.2\",\" 0.8\"],[\" 71.0\",\" 200.0\",\" 11.0\",\" 8.9\",\" 1.1\"],[\" 99.0\",\" 200.0\",\" 14.0\",\" 9.6\",\" 2.2\"],[\" 106.0\",\" 200.0\",\" 19.0\",\" 17.0\",\" 2.2\"],[\" 93.0\",\" 200.0\",\" 16.0\",\" 8.9\",\" 1.1\"],[\" 95.0\",\" 200.0\",\" 12.0\",\" 0.0\",\" 5.4\"],[\" 123.0\",\" 200.0\",\" 4.8\",\" 0.0\",\" 5.1\"],[\" 108.0\",\" 200.0\",\" 5.4\",\" 0.0\",\" 3.8\"],[\" 84.0\",\" 200.0\",\" 3.9\",\" 0.0\",\" 2.8\"]],\"hovertemplate\":\"<b>%{hovertext}</b><br><br>Classification (Label)=DAIRY 1<br>Kcal =%{customdata[0]}<br>Serving Size =%{customdata[1]}<br>Carbohydrate =%{customdata[2]}<br>Sugars =%{customdata[3]}<br>Proteins =%{customdata[4]}<extra></extra>\",\"hovertext\":[\"Not Milk \",\"Not Milk Semidesnatado\",\" Vegetal de almonds\",\" vegetal \",\" Vegetal de almonds Fresco\",\" Vegetal  de Caj\\u00fa Fresco\",\" Vegetal  Fresco\",\" Vegetal Noats Original\",\" Vegetal Noats Barista\",\" Jasmine rice em P\\u00f3\",\" BIOV jasmine rice com amendoas\",\" BIOV jasmine rice com coco\",\" BioV oats Jasmine\",\" Jasmine rice \",\" Jasmine rice com oats\",\"Bebida de rice Nesfit\",\"Bebida Natural Nesfit\",\"Bebida de rice  e Amendoas Nesfit\",\"Bebida de rice e Coco Nesfit\",\"Bebida de oats Nesfit\",\"Bebida de oats e cocoa\",\"Molico Vegetal Nestl\\u00e9\",\"Ninho Vegetal Nestl\\u00e9\",\"Ninho Banana e apple Nestl\\u00e9\",\"Nude Edi\\u00e7\\u00e3o Barista\",\"Nude Original \",\"Nude Sabor Baunilha\",\"Nude de cocoa\",\"Nude + calcium\",\"Nude Barista\",\"Almond Breeze Original\",\"Almond Breeze Chocolate\",\"Almond Breeze Baunilha\",\"Almond Breeze Sem sugar\",\"Almond Breeze Amendoas com Coco\",\"Almond Breeze Chocolate Sem sugar\",\" de Amendoas Silk Sem sugar\",\" de Amendoas Silk \",\" cashews Silk\",\" de almonds e cocoa Silk\",\" de almonds Silk Coco\",\"Bebida de rice L\\u00edquida Sabor Original\",\"Bebida de rice L\\u00edquida Sabor almonds\",\"Bebida de rice L\\u00edquida Sabor peanuts\\n\",\"Bebida de rice L\\u00edquida Sabor cashews\",\"Bebida de rice L\\u00edquida Sabor Chocolate\",\"Bebida de rice L\\u00edquida Sabor Coco\",\"Bebida de rice L\\u00edquida Sabor Baunilha\",\"Bebida de rice Em P\\u00f3 Sabor Original\",\"Bebida de rice Em P\\u00f3 Sabor Original\",\"Bebida de rice Em P\\u00f3 Sabor Banana e apple\",\"Bebida de rice Em P\\u00f3 Sabor Chocolate\",\"Bebida de rice Em P\\u00f3 Sabor strawberries\",\" a tal da castanha barista\",\" a tal da castanha original\",\" a tal da castanha caju + Coco\",\" a tal da castanha almonds\",\" a tal da castanha castanha + cocoa\",\" a tal da castanha oats\",\" a tal da castanha mixed nuts\",\" a tal da castanha caju + Par\\u00e1\",\" a tal da castanha caju + peanuts\",\" Natuterra oats + Coco\",\" de almonds Natuterra\",\" Natuterra oats \",\" Vegetal 3 Nuts \\u2013 macadamianuts, almonds e cashews\",\" Vegetal de macadamianuts e Coco\",\" Vegetal de macadamianuts e cashews\",\" Vegetal Possible Foods\",\" Vegetal Possible Foods Chocolate\",\"Bebida de castanh de caj\\u00fa sem adi\\u00e7\\u00e3o de sugar nature's heart\",\"Bebida de almonds s/ adi\\u00e7\\u00e3o de sugares 1L \\u2013 Nature\\u2019s Heart\",\"Bebida de rice s/ adi\\u00e7\\u00e3o de sugares 1L \\u2013 Nature\\u2019s Heart\",\"Bebida de oats s/ adi\\u00e7\\u00e3o de sugares 1L \\u2013 Nature\\u2019s Heart\",\"Bebida de cocoa & rice 1L \\u2013 Nature\\u2019s Heart\",\"Bebida  & rice s/ adi\\u00e7\\u00e3o de sugares 1L \\u2013 Nature\\u2019s Heart\",\" Vegetal de soy Naturis Batavo\",\" DUOLAT peanuts E CASTANHA 1L - CAJUEIRO\",\" 85 CASTANHAS 1L - CAJUEIRO\",\" TOASTED 1L - CAJUEIRO\"],\"legendgroup\":\"DAIRY 1\",\"marker\":{\"color\":\"rgb(17, 165, 121)\",\"symbol\":\"circle\"},\"mode\":\"markers\",\"name\":\"DAIRY 1\",\"orientation\":\"v\",\"showlegend\":false,\"x\":[8.889238357543945,8.882973670959473,7.902944087982178,7.932999610900879,7.974853992462158,8.137823104858398,7.995428562164307,10.519671440124512,10.399633407592773,9.98216438293457,8.614707946777344,10.02925968170166,10.449803352355957,10.024696350097656,10.060990333557129,9.539134979248047,8.830198287963867,8.535114288330078,8.659499168395996,9.321844100952148,9.291407585144043,8.745108604431152,8.735054016113281,8.743864059448242,10.410654067993164,10.251533508300781,10.33604621887207,10.286459922790527,10.322139739990234,10.3554105758667,12.896540641784668,12.825386047363281,12.764283180236816,12.760749816894531,12.818714141845703,12.79715347290039,8.42669677734375,8.364286422729492,8.52193832397461,8.424914360046387,8.405961990356445,10.135420799255371,10.497573852539062,10.472217559814453,10.447394371032715,10.196548461914062,10.278975486755371,10.48666000366211,8.672194480895996,8.775343894958496,8.673810958862305,8.581439018249512,8.5931978225708,10.051589012145996,9.451177597045898,8.796429634094238,9.217370986938477,8.545326232910156,9.345298767089844,8.838143348693848,8.511178970336914,7.925919055938721,9.036783218383789,9.0925874710083,9.267721176147461,8.423072814941406,7.883118629455566,8.611311912536621,9.358674049377441,9.424019813537598,10.69884204864502,10.651583671569824,10.730596542358398,10.698234558105469,10.6998291015625,10.72667121887207,8.342486381530762,8.359890937805176,9.479755401611328,9.137489318847656],\"xaxis\":\"x\",\"y\":[7.433128833770752,7.388403415679932,9.991613388061523,9.990311622619629,9.909734725952148,9.681290626525879,9.876585960388184,6.812008380889893,6.7662482261657715,4.838674545288086,7.379491329193115,4.831033229827881,6.908203601837158,4.818436145782471,4.882554054260254,7.900017738342285,7.6788740158081055,7.473277568817139,7.550154209136963,7.816055774688721,7.774233818054199,4.770022392272949,4.759892463684082,4.750245094299316,6.795353889465332,6.945369243621826,6.949870586395264,6.976847171783447,6.904017448425293,6.864357948303223,4.9845991134643555,4.893728256225586,4.834011554718018,4.8435282707214355,4.8373942375183105,4.881133079528809,9.066614151000977,9.013347625732422,9.099607467651367,9.204548835754395,9.071778297424316,7.974648952484131,8.329960823059082,8.292879104614258,8.288135528564453,8.135087013244629,8.061479568481445,8.240450859069824,4.17947244644165,4.260098457336426,4.128355979919434,4.0327043533325195,4.074870586395264,7.0628180503845215,4.989248752593994,7.712023735046387,5.291005611419678,7.783649921417236,7.238936901092529,7.620282173156738,7.466231822967529,7.731250286102295,7.143957614898682,7.040318965911865,7.006041049957275,7.548856735229492,7.667234897613525,7.352136611938477,7.483378887176514,7.516441822052002,7.418840408325195,7.370190143585205,7.623947620391846,7.541894912719727,7.670388221740723,7.688999176025391,7.788232326507568,7.379295349121094,5.1532745361328125,4.949819087982178],\"yaxis\":\"y\",\"type\":\"scatter\"},{\"customdata\":[[\" 142.0\",\" 200.0\",\" 22.0\",\" 0.0\",\" 0.8\"],[\" 149.0\",\" 200.0\",\" 24.0\",\" 0.0\",\" 0.8\"],[\" 149.0\",\" 200.0\",\" 24.0\",\" 0.0\",\" 0.8\"],[\" 92.0\",\" 200.0\",\" 6.4\",\" 0.0\",\" 0.9\"],[\" 100.0\",\" 200.0\",\" 8.2\",\" 0.0\",\" 1.0\"],[\" 145.0\",\" 150.0\",\" 20.0\",\" 0.0\",\" 1.0\"],[\" 148.0\",\" 150.0\",\" 21.0\",\" 0.0\",\" 1.0\"],[\" 156.0\",\" 250.0\",\" 11.7\",\" 0.0\",\" 14.0\"],[\" 123.0\",\" 250.0\",\" 11.0\",\" 0.0\",\" 10.0\"],[\" 152.0\",\" 250.0\",\" 11.0\",\" 0.0\",\" 14.0\"],[\" 27.0\",\" 15.0\",\" 0.0\",\" 0.0\",\" 0.0\"]],\"hovertemplate\":\"<b>%{hovertext}</b><br><br>Classification (Label)=DAIRY 2<br>Kcal =%{customdata[0]}<br>Serving Size =%{customdata[1]}<br>Carbohydrate =%{customdata[2]}<br>Sugars =%{customdata[3]}<br>Proteins =%{customdata[4]}<extra></extra>\",\"hovertext\":[\"Iogurte \",\"Iogurte  com strawberries\",\"Iogurte  com banana, apple e papaya\",\"Iogurte  Zero sugar\",\"Iogurte  com strawberries Zero sugar\",\"Iogurte GregoVeg \",\"Iogurte GregoVeg  com strawberries\",\"Iogurte Proteico 14g sabor strawberries\",\"Shake \",\"Iogurte Proteico 14g sabor  peanuts\",\"Creme de almonds\"],\"legendgroup\":\"DAIRY 2\",\"marker\":{\"color\":\"rgb(57, 105, 172)\",\"symbol\":\"circle\"},\"mode\":\"markers\",\"name\":\"DAIRY 2\",\"orientation\":\"v\",\"showlegend\":false,\"x\":[9.301704406738281,9.426774978637695,9.363173484802246,9.251960754394531,9.392914772033691,9.194255828857422,8.910713195800781,8.75617504119873,7.822512626647949,8.859984397888184,9.425625801086426],\"xaxis\":\"x\",\"y\":[9.09249210357666,9.22528076171875,9.14876937866211,9.04872989654541,9.183653831481934,8.703232765197754,8.397518157958984,8.752915382385254,10.033761024475098,8.865370750427246,5.108985900878906],\"yaxis\":\"y\",\"type\":\"scatter\"},{\"customdata\":[[\" 28.0\",\" 12.0\",\" 1.4\",\" 0.0\",\" 2.5\"],[\" 20.0\",\" 12.0\",\" 0.0\",\" 0.0\",\" 0.0\"],[\" 70.0\",\" 12.0\",\" 0.0\",\" 0.0\",\" 0.0\"],[\" 71.0\",\" 12.0\",\" 0.6\",\" 0.0\",\" 0.0\"],[\" 57.0\",\" 12.0\",\" 0.6\",\" 0.0\",\" 0.0\"],[\" 56.0\",\" 12.0\",\" 0.6\",\" 0.0\",\" 0.0\"],[\" 33.0\",\" 12.0\",\" 0.6\",\" 0.0\",\" 0.4\"],[\" 33.0\",\" 12.0\",\" 0.6\",\" 0.0\",\" 0.4\"],[\" 33.0\",\" 12.0\",\" 0.6\",\" 0.0\",\" 0.4\"],[\" 33.0\",\" 12.0\",\" 0.6\",\" 0.0\",\" 0.4\"],[\" 33.0\",\" 12.0\",\" 0.6\",\" 0.0\",\" 0.4\"],[\" 25.0\",\" 12.0\",\" 0.0\",\" 0.0\",\" 0.0\"],[\" 21.0\",\" 12.0\",\" 0.0\",\" 0.0\",\" 0.0\"],[\" 84.0\",\" 40.0\",\" 5.2\",\" 0.0\",\" 0.5\"]],\"hovertemplate\":\"<b>%{hovertext}</b><br><br>Classification (Label)=EGG 1<br>Kcal =%{customdata[0]}<br>Serving Size =%{customdata[1]}<br>Carbohydrate =%{customdata[2]}<br>Sugars =%{customdata[3]}<br>Proteins =%{customdata[4]}<extra></extra>\",\"hovertext\":[\"MAIONESE VEGETAL SUPERBOM\",\"MAIONESE FUGINI\",\"NOT MAYO\",\"NOT MAYO garlic\",\"NOT MAYO AZEITONA\",\"NOT MAYO PICANTE\",\"MAIONESE V-MAYO\",\"MAIONESE V-MAYO ApepperDA\",\"MAIONESE V-MAYO TRUFADA\",\"MAIONESE V-MAYO DE ABACATE\",\"MAIONESE V-MAYO DE garlic\",\"MAIONESE HELLMANS\",\"MAIONESE VEGANA FUGINI\",\"MAIONESE DEL\\u00cdCIAS DE GOI\\u00c1S\"],\"legendgroup\":\"EGG 1\",\"marker\":{\"color\":\"rgb(242, 183, 1)\",\"symbol\":\"circle\"},\"mode\":\"markers\",\"name\":\"EGG 1\",\"orientation\":\"v\",\"showlegend\":false,\"x\":[9.233702659606934,9.331783294677734,8.126113891601562,8.112869262695312,8.143168449401855,8.10875129699707,10.312366485595703,10.297080993652344,10.303893089294434,10.246318817138672,10.267056465148926,9.222036361694336,9.307500839233398,8.08475399017334],\"xaxis\":\"x\",\"y\":[8.39207935333252,8.497437477111816,6.620733737945557,6.647412300109863,6.672688961029053,6.625698089599609,14.810371398925781,14.804304122924805,14.728014945983887,14.745637893676758,14.762130737304688,8.245016098022461,8.610036849975586,7.065089225769043],\"yaxis\":\"y\",\"type\":\"scatter\"},{\"customdata\":[[\" 25.0\",\" 10.0\",\" 3.3\",\" 0.0\",\" 4.1\"],[\" 28.0\",\" 7.0\",\" 1.2\",\" 0.0\",\" 3.1\"]],\"hovertemplate\":\"<b>%{hovertext}</b><br><br>Classification (Label)=EGG 2<br>Kcal =%{customdata[0]}<br>Serving Size =%{customdata[1]}<br>Carbohydrate =%{customdata[2]}<br>Sugars =%{customdata[3]}<br>Proteins =%{customdata[4]}<extra></extra>\",\"hovertext\":[\"Ovos Novos\",\"Ovos Novos\"],\"legendgroup\":\"EGG 2\",\"marker\":{\"color\":\"rgb(231, 63, 116)\",\"symbol\":\"circle\"},\"mode\":\"markers\",\"name\":\"EGG 2\",\"orientation\":\"v\",\"showlegend\":false,\"x\":[9.016929626464844,9.167899131774902],\"xaxis\":\"x\",\"y\":[4.6636552810668945,4.715259075164795],\"yaxis\":\"y\",\"type\":\"scatter\"}],                        {\"template\":{\"data\":{\"barpolar\":[{\"marker\":{\"line\":{\"color\":\"white\",\"width\":0.5},\"pattern\":{\"fillmode\":\"overlay\",\"size\":10,\"solidity\":0.2}},\"type\":\"barpolar\"}],\"bar\":[{\"error_x\":{\"color\":\"rgb(36,36,36)\"},\"error_y\":{\"color\":\"rgb(36,36,36)\"},\"marker\":{\"line\":{\"color\":\"white\",\"width\":0.5},\"pattern\":{\"fillmode\":\"overlay\",\"size\":10,\"solidity\":0.2}},\"type\":\"bar\"}],\"carpet\":[{\"aaxis\":{\"endlinecolor\":\"rgb(36,36,36)\",\"gridcolor\":\"white\",\"linecolor\":\"white\",\"minorgridcolor\":\"white\",\"startlinecolor\":\"rgb(36,36,36)\"},\"baxis\":{\"endlinecolor\":\"rgb(36,36,36)\",\"gridcolor\":\"white\",\"linecolor\":\"white\",\"minorgridcolor\":\"white\",\"startlinecolor\":\"rgb(36,36,36)\"},\"type\":\"carpet\"}],\"choropleth\":[{\"colorbar\":{\"outlinewidth\":1,\"tickcolor\":\"rgb(36,36,36)\",\"ticks\":\"outside\"},\"type\":\"choropleth\"}],\"contourcarpet\":[{\"colorbar\":{\"outlinewidth\":1,\"tickcolor\":\"rgb(36,36,36)\",\"ticks\":\"outside\"},\"type\":\"contourcarpet\"}],\"contour\":[{\"colorbar\":{\"outlinewidth\":1,\"tickcolor\":\"rgb(36,36,36)\",\"ticks\":\"outside\"},\"colorscale\":[[0.0,\"#440154\"],[0.1111111111111111,\"#482878\"],[0.2222222222222222,\"#3e4989\"],[0.3333333333333333,\"#31688e\"],[0.4444444444444444,\"#26828e\"],[0.5555555555555556,\"#1f9e89\"],[0.6666666666666666,\"#35b779\"],[0.7777777777777778,\"#6ece58\"],[0.8888888888888888,\"#b5de2b\"],[1.0,\"#fde725\"]],\"type\":\"contour\"}],\"heatmapgl\":[{\"colorbar\":{\"outlinewidth\":1,\"tickcolor\":\"rgb(36,36,36)\",\"ticks\":\"outside\"},\"colorscale\":[[0.0,\"#440154\"],[0.1111111111111111,\"#482878\"],[0.2222222222222222,\"#3e4989\"],[0.3333333333333333,\"#31688e\"],[0.4444444444444444,\"#26828e\"],[0.5555555555555556,\"#1f9e89\"],[0.6666666666666666,\"#35b779\"],[0.7777777777777778,\"#6ece58\"],[0.8888888888888888,\"#b5de2b\"],[1.0,\"#fde725\"]],\"type\":\"heatmapgl\"}],\"heatmap\":[{\"colorbar\":{\"outlinewidth\":1,\"tickcolor\":\"rgb(36,36,36)\",\"ticks\":\"outside\"},\"colorscale\":[[0.0,\"#440154\"],[0.1111111111111111,\"#482878\"],[0.2222222222222222,\"#3e4989\"],[0.3333333333333333,\"#31688e\"],[0.4444444444444444,\"#26828e\"],[0.5555555555555556,\"#1f9e89\"],[0.6666666666666666,\"#35b779\"],[0.7777777777777778,\"#6ece58\"],[0.8888888888888888,\"#b5de2b\"],[1.0,\"#fde725\"]],\"type\":\"heatmap\"}],\"histogram2dcontour\":[{\"colorbar\":{\"outlinewidth\":1,\"tickcolor\":\"rgb(36,36,36)\",\"ticks\":\"outside\"},\"colorscale\":[[0.0,\"#440154\"],[0.1111111111111111,\"#482878\"],[0.2222222222222222,\"#3e4989\"],[0.3333333333333333,\"#31688e\"],[0.4444444444444444,\"#26828e\"],[0.5555555555555556,\"#1f9e89\"],[0.6666666666666666,\"#35b779\"],[0.7777777777777778,\"#6ece58\"],[0.8888888888888888,\"#b5de2b\"],[1.0,\"#fde725\"]],\"type\":\"histogram2dcontour\"}],\"histogram2d\":[{\"colorbar\":{\"outlinewidth\":1,\"tickcolor\":\"rgb(36,36,36)\",\"ticks\":\"outside\"},\"colorscale\":[[0.0,\"#440154\"],[0.1111111111111111,\"#482878\"],[0.2222222222222222,\"#3e4989\"],[0.3333333333333333,\"#31688e\"],[0.4444444444444444,\"#26828e\"],[0.5555555555555556,\"#1f9e89\"],[0.6666666666666666,\"#35b779\"],[0.7777777777777778,\"#6ece58\"],[0.8888888888888888,\"#b5de2b\"],[1.0,\"#fde725\"]],\"type\":\"histogram2d\"}],\"histogram\":[{\"marker\":{\"line\":{\"color\":\"white\",\"width\":0.6}},\"type\":\"histogram\"}],\"mesh3d\":[{\"colorbar\":{\"outlinewidth\":1,\"tickcolor\":\"rgb(36,36,36)\",\"ticks\":\"outside\"},\"type\":\"mesh3d\"}],\"parcoords\":[{\"line\":{\"colorbar\":{\"outlinewidth\":1,\"tickcolor\":\"rgb(36,36,36)\",\"ticks\":\"outside\"}},\"type\":\"parcoords\"}],\"pie\":[{\"automargin\":true,\"type\":\"pie\"}],\"scatter3d\":[{\"line\":{\"colorbar\":{\"outlinewidth\":1,\"tickcolor\":\"rgb(36,36,36)\",\"ticks\":\"outside\"}},\"marker\":{\"colorbar\":{\"outlinewidth\":1,\"tickcolor\":\"rgb(36,36,36)\",\"ticks\":\"outside\"}},\"type\":\"scatter3d\"}],\"scattercarpet\":[{\"marker\":{\"colorbar\":{\"outlinewidth\":1,\"tickcolor\":\"rgb(36,36,36)\",\"ticks\":\"outside\"}},\"type\":\"scattercarpet\"}],\"scattergeo\":[{\"marker\":{\"colorbar\":{\"outlinewidth\":1,\"tickcolor\":\"rgb(36,36,36)\",\"ticks\":\"outside\"}},\"type\":\"scattergeo\"}],\"scattergl\":[{\"marker\":{\"colorbar\":{\"outlinewidth\":1,\"tickcolor\":\"rgb(36,36,36)\",\"ticks\":\"outside\"}},\"type\":\"scattergl\"}],\"scattermapbox\":[{\"marker\":{\"colorbar\":{\"outlinewidth\":1,\"tickcolor\":\"rgb(36,36,36)\",\"ticks\":\"outside\"}},\"type\":\"scattermapbox\"}],\"scatterpolargl\":[{\"marker\":{\"colorbar\":{\"outlinewidth\":1,\"tickcolor\":\"rgb(36,36,36)\",\"ticks\":\"outside\"}},\"type\":\"scatterpolargl\"}],\"scatterpolar\":[{\"marker\":{\"colorbar\":{\"outlinewidth\":1,\"tickcolor\":\"rgb(36,36,36)\",\"ticks\":\"outside\"}},\"type\":\"scatterpolar\"}],\"scatter\":[{\"marker\":{\"colorbar\":{\"outlinewidth\":1,\"tickcolor\":\"rgb(36,36,36)\",\"ticks\":\"outside\"}},\"type\":\"scatter\"}],\"scatterternary\":[{\"marker\":{\"colorbar\":{\"outlinewidth\":1,\"tickcolor\":\"rgb(36,36,36)\",\"ticks\":\"outside\"}},\"type\":\"scatterternary\"}],\"surface\":[{\"colorbar\":{\"outlinewidth\":1,\"tickcolor\":\"rgb(36,36,36)\",\"ticks\":\"outside\"},\"colorscale\":[[0.0,\"#440154\"],[0.1111111111111111,\"#482878\"],[0.2222222222222222,\"#3e4989\"],[0.3333333333333333,\"#31688e\"],[0.4444444444444444,\"#26828e\"],[0.5555555555555556,\"#1f9e89\"],[0.6666666666666666,\"#35b779\"],[0.7777777777777778,\"#6ece58\"],[0.8888888888888888,\"#b5de2b\"],[1.0,\"#fde725\"]],\"type\":\"surface\"}],\"table\":[{\"cells\":{\"fill\":{\"color\":\"rgb(237,237,237)\"},\"line\":{\"color\":\"white\"}},\"header\":{\"fill\":{\"color\":\"rgb(217,217,217)\"},\"line\":{\"color\":\"white\"}},\"type\":\"table\"}]},\"layout\":{\"annotationdefaults\":{\"arrowhead\":0,\"arrowwidth\":1},\"autotypenumbers\":\"strict\",\"coloraxis\":{\"colorbar\":{\"outlinewidth\":1,\"tickcolor\":\"rgb(36,36,36)\",\"ticks\":\"outside\"}},\"colorscale\":{\"diverging\":[[0.0,\"rgb(103,0,31)\"],[0.1,\"rgb(178,24,43)\"],[0.2,\"rgb(214,96,77)\"],[0.3,\"rgb(244,165,130)\"],[0.4,\"rgb(253,219,199)\"],[0.5,\"rgb(247,247,247)\"],[0.6,\"rgb(209,229,240)\"],[0.7,\"rgb(146,197,222)\"],[0.8,\"rgb(67,147,195)\"],[0.9,\"rgb(33,102,172)\"],[1.0,\"rgb(5,48,97)\"]],\"sequential\":[[0.0,\"#440154\"],[0.1111111111111111,\"#482878\"],[0.2222222222222222,\"#3e4989\"],[0.3333333333333333,\"#31688e\"],[0.4444444444444444,\"#26828e\"],[0.5555555555555556,\"#1f9e89\"],[0.6666666666666666,\"#35b779\"],[0.7777777777777778,\"#6ece58\"],[0.8888888888888888,\"#b5de2b\"],[1.0,\"#fde725\"]],\"sequentialminus\":[[0.0,\"#440154\"],[0.1111111111111111,\"#482878\"],[0.2222222222222222,\"#3e4989\"],[0.3333333333333333,\"#31688e\"],[0.4444444444444444,\"#26828e\"],[0.5555555555555556,\"#1f9e89\"],[0.6666666666666666,\"#35b779\"],[0.7777777777777778,\"#6ece58\"],[0.8888888888888888,\"#b5de2b\"],[1.0,\"#fde725\"]]},\"colorway\":[\"#1F77B4\",\"#FF7F0E\",\"#2CA02C\",\"#D62728\",\"#9467BD\",\"#8C564B\",\"#E377C2\",\"#7F7F7F\",\"#BCBD22\",\"#17BECF\"],\"font\":{\"color\":\"rgb(36,36,36)\"},\"geo\":{\"bgcolor\":\"white\",\"lakecolor\":\"white\",\"landcolor\":\"white\",\"showlakes\":true,\"showland\":true,\"subunitcolor\":\"white\"},\"hoverlabel\":{\"align\":\"left\"},\"hovermode\":\"closest\",\"mapbox\":{\"style\":\"light\"},\"paper_bgcolor\":\"white\",\"plot_bgcolor\":\"white\",\"polar\":{\"angularaxis\":{\"gridcolor\":\"rgb(232,232,232)\",\"linecolor\":\"rgb(36,36,36)\",\"showgrid\":false,\"showline\":true,\"ticks\":\"outside\"},\"bgcolor\":\"white\",\"radialaxis\":{\"gridcolor\":\"rgb(232,232,232)\",\"linecolor\":\"rgb(36,36,36)\",\"showgrid\":false,\"showline\":true,\"ticks\":\"outside\"}},\"scene\":{\"xaxis\":{\"backgroundcolor\":\"white\",\"gridcolor\":\"rgb(232,232,232)\",\"gridwidth\":2,\"linecolor\":\"rgb(36,36,36)\",\"showbackground\":true,\"showgrid\":false,\"showline\":true,\"ticks\":\"outside\",\"zeroline\":false,\"zerolinecolor\":\"rgb(36,36,36)\"},\"yaxis\":{\"backgroundcolor\":\"white\",\"gridcolor\":\"rgb(232,232,232)\",\"gridwidth\":2,\"linecolor\":\"rgb(36,36,36)\",\"showbackground\":true,\"showgrid\":false,\"showline\":true,\"ticks\":\"outside\",\"zeroline\":false,\"zerolinecolor\":\"rgb(36,36,36)\"},\"zaxis\":{\"backgroundcolor\":\"white\",\"gridcolor\":\"rgb(232,232,232)\",\"gridwidth\":2,\"linecolor\":\"rgb(36,36,36)\",\"showbackground\":true,\"showgrid\":false,\"showline\":true,\"ticks\":\"outside\",\"zeroline\":false,\"zerolinecolor\":\"rgb(36,36,36)\"}},\"shapedefaults\":{\"fillcolor\":\"black\",\"line\":{\"width\":0},\"opacity\":0.3},\"ternary\":{\"aaxis\":{\"gridcolor\":\"rgb(232,232,232)\",\"linecolor\":\"rgb(36,36,36)\",\"showgrid\":false,\"showline\":true,\"ticks\":\"outside\"},\"baxis\":{\"gridcolor\":\"rgb(232,232,232)\",\"linecolor\":\"rgb(36,36,36)\",\"showgrid\":false,\"showline\":true,\"ticks\":\"outside\"},\"bgcolor\":\"white\",\"caxis\":{\"gridcolor\":\"rgb(232,232,232)\",\"linecolor\":\"rgb(36,36,36)\",\"showgrid\":false,\"showline\":true,\"ticks\":\"outside\"}},\"title\":{\"x\":0.05},\"xaxis\":{\"automargin\":true,\"gridcolor\":\"rgb(232,232,232)\",\"linecolor\":\"rgb(36,36,36)\",\"showgrid\":false,\"showline\":true,\"ticks\":\"outside\",\"title\":{\"standoff\":15},\"zeroline\":false,\"zerolinecolor\":\"rgb(36,36,36)\"},\"yaxis\":{\"automargin\":true,\"gridcolor\":\"rgb(232,232,232)\",\"linecolor\":\"rgb(36,36,36)\",\"showgrid\":false,\"showline\":true,\"ticks\":\"outside\",\"title\":{\"standoff\":15},\"zeroline\":false,\"zerolinecolor\":\"rgb(36,36,36)\"}}},\"xaxis\":{\"anchor\":\"y\",\"domain\":[0.0,1.0],\"title\":{\"text\":\"x\"},\"visible\":false},\"yaxis\":{\"anchor\":\"x\",\"domain\":[0.0,1.0],\"title\":{\"text\":\"y\"},\"visible\":false},\"legend\":{\"title\":{\"text\":\"Classification (Label)\"},\"tracegroupgap\":0},\"margin\":{\"t\":0,\"l\":0,\"r\":0,\"b\":0},\"width\":700},                        {\"responsive\": true}                    ).then(function(){\n",
              "                            \n",
              "var gd = document.getElementById('76d0f173-29d3-4e8d-850d-55fcdff7cf6e');\n",
              "var x = new MutationObserver(function (mutations, observer) {{\n",
              "        var display = window.getComputedStyle(gd).display;\n",
              "        if (!display || display === 'none') {{\n",
              "            console.log([gd, 'removed!']);\n",
              "            Plotly.purge(gd);\n",
              "            observer.disconnect();\n",
              "        }}\n",
              "}});\n",
              "\n",
              "// Listen for the removal of the full notebook cells\n",
              "var notebookContainer = gd.closest('#notebook-container');\n",
              "if (notebookContainer) {{\n",
              "    x.observe(notebookContainer, {childList: true});\n",
              "}}\n",
              "\n",
              "// Listen for the clearing of the current output cell\n",
              "var outputEl = gd.closest('.output');\n",
              "if (outputEl) {{\n",
              "    x.observe(outputEl, {childList: true});\n",
              "}}\n",
              "\n",
              "                        })                };                            </script>        </div>\n",
              "</body>\n",
              "</html>"
            ]
          },
          "metadata": {}
        }
      ]
    },
    {
      "cell_type": "markdown",
      "source": [
        "### PCA"
      ],
      "metadata": {
        "id": "29zJ_sqZd1gv"
      }
    },
    {
      "cell_type": "code",
      "source": [
        "sklearn_pca = sklearnPCA(n_components=2)\n",
        "X_pca = sklearn_pca.fit_transform(X)\n",
        "\n",
        "X_pca[1:4, :]\n",
        "all_data['x'] = X_pca[:,0]\n",
        "all_data['y'] = X_pca[:,1]\n",
        "\n",
        "fig = px.scatter(\n",
        "    all_data, \n",
        "    x='x', \n",
        "    y='y', \n",
        "    color='Classification', \n",
        "    template=\"simple_white\",\n",
        "    labels={ \n",
        "      \"Classification\": \"Classification (Label)\"\n",
        "    },\n",
        "    color_discrete_sequence= px.colors.qualitative.Plotly + px.colors.qualitative.Bold,\n",
        "    hover_name=\"Description\",\n",
        "    hover_data={'x':False,\n",
        "                'y':False,  \n",
        "                'Kcal ': [f' {x}' for x in data['Kcal']],\n",
        "                'Serving Size ': [f' {y}' for y in data['Serving Size']],\n",
        "                'Carbohydrate ': [f' {z}' for z in data['Carbohydrate']],\n",
        "                'Sugars ': [f' {a}' for a in data['Sugars']],\n",
        "                'Proteins ': [f' {b}' for b in data['Proteins']],\n",
        "                }, #'Ingredients':True}, \n",
        "    width=700)\n",
        "\n",
        "fig.update_traces(showlegend=False)\n",
        "\n",
        "fig.update_layout(xaxis={'visible': False},\n",
        "                  yaxis={'visible': False},\n",
        "                  margin=dict(l=0,r=0,b=0,t=0))\n",
        "\n",
        "fig.show()\n",
        "fig.write_image('imgs/PCA_ALL.eps', format='eps')"
      ],
      "metadata": {
        "colab": {
          "base_uri": "https://localhost:8080/",
          "height": 542
        },
        "id": "3LsXNNwnd4VR",
        "outputId": "b69ab69b-436a-4037-9e67-ce9e73d99a2c"
      },
      "execution_count": 16,
      "outputs": [
        {
          "output_type": "display_data",
          "data": {
            "text/html": [
              "<html>\n",
              "<head><meta charset=\"utf-8\" /></head>\n",
              "<body>\n",
              "    <div>            <script src=\"https://cdnjs.cloudflare.com/ajax/libs/mathjax/2.7.5/MathJax.js?config=TeX-AMS-MML_SVG\"></script><script type=\"text/javascript\">if (window.MathJax) {MathJax.Hub.Config({SVG: {font: \"STIX-Web\"}});}</script>                <script type=\"text/javascript\">window.PlotlyConfig = {MathJaxConfig: 'local'};</script>\n",
              "        <script src=\"https://cdn.plot.ly/plotly-2.8.3.min.js\"></script>                <div id=\"4bb9eddf-6acb-44f1-ad58-c7b4fea83230\" class=\"plotly-graph-div\" style=\"height:525px; width:700px;\"></div>            <script type=\"text/javascript\">                                    window.PLOTLYENV=window.PLOTLYENV || {};                                    if (document.getElementById(\"4bb9eddf-6acb-44f1-ad58-c7b4fea83230\")) {                    Plotly.newPlot(                        \"4bb9eddf-6acb-44f1-ad58-c7b4fea83230\",                        [{\"customdata\":[[\" 168.0\",\" 80.0\",\" 11.0\",\" 0.0\",\" 8.2\"],[\" 234.0\",\" 100.0\",\" 12.0\",\" 0.0\",\" 19.0\"],[\" 146.0\",\" 80.0\",\" 3.7\",\" 0.0\",\" 14.0\"],[\" 166.0\",\" 100.0\",\" 10.0\",\" 0.0\",\" 13.0\"],[\" 166.0\",\" 100.0\",\" 10.0\",\" 0.0\",\" 13.0\"],[\" 178.0\",\" 75.0\",\" 33.0\",\" 0.0\",\" 4.3\"],[\" 158.0\",\" 80.0\",\" 9.3\",\" 0.0\",\" 7.8\"],[\" 77.0\",\" 50.0\",\" 2.1\",\" 0.0\",\" 13.0\"],[\" 188.0\",\" 100.0\",\" 6.0\",\" 0.0\",\" 14.0\"]],\"hovertemplate\":\"<b>%{hovertext}</b><br><br>Classification (Label)=MEAT 2<br>Kcal =%{customdata[0]}<br>Serving Size =%{customdata[1]}<br>Carbohydrate =%{customdata[2]}<br>Sugars =%{customdata[3]}<br>Proteins =%{customdata[4]}<extra></extra>\",\"hovertext\":[\"Carne Mo\\u00edda do Futuro\",\"Almondegas de Soja Vegway\",\"Almondegas Amazonika Mundi\",\"Kibe Incr\\u00edvel Seara\",\"Almondegas Incr\\u00edveis Seara\",\"Almondegas Mr Veggy\",\"Carne Mo\\u00edda Superbom\",\"Carne Vegetal Mo\\u00edda Superbom\",\"Carne Mo\\u00edda Vegetal Verdali\"],\"legendgroup\":\"MEAT 2\",\"marker\":{\"color\":\"#636EFA\",\"symbol\":\"circle\"},\"mode\":\"markers\",\"name\":\"MEAT 2\",\"orientation\":\"v\",\"showlegend\":false,\"x\":[1.061552069103409,1.0991806702407971,1.0295668811127057,1.4100989260429204,2.2064185480539495,0.9318799236708836,-0.3178026703934803,0.5626643049996367,0.7308295030500523],\"xaxis\":\"x\",\"y\":[-0.052007251600058355,0.9832566868948796,-0.8704217481993116,-1.0068284054981467,-1.7274578318933396,-0.15941997947378575,-0.0838798213826623,1.0650732009603066,0.14327630707369712],\"yaxis\":\"y\",\"type\":\"scatter\"},{\"customdata\":[[\" 168.0\",\" 80.0\",\" 11.0\",\" 0.0\",\" 8.2\"],[\" 150.0\",\" 50.0\",\" 10.0\",\" 0.0\",\" 25.0\"],[\" 150.0\",\" 50.0\",\" 10.0\",\" 0.0\",\" 25.0\"],[\" 62.0\",\" 50.0\",\" 1.0\",\" 0.0\",\" 10.0\"],[\" 62.0\",\" 50.0\",\" 1.0\",\" 0.0\",\" 10.0\"],[\" 115.0\",\" 60.0\",\" 2.8\",\" 0.0\",\" 7.5\"],[\" 115.0\",\" 60.0\",\" 3.1\",\" 0.0\",\" 7.5\"],[\" 121.0\",\" 350.0\",\" 9.3\",\" 0.0\",\" 9.3\"],[\" 88.0\",\" 40.0\",\" 6.0\",\" 0.0\",\" 6.3\"],[\" 129.0\",\" 80.0\",\" 12.0\",\" 0.0\",\" 11.0\"],[\" 203.0\",\" 100.0\",\" 13.0\",\" 0.0\",\" 9.2\"],[\" 64.0\",\" 40.0\",\" 2.7\",\" 0.0\",\" 7.8\"],[\" 26.0\",\" 50.0\",\" 0.5\",\" 0.0\",\" 5.0\"],[\" 22.0\",\" 50.0\",\" 0.5\",\" 0.0\",\" 5.3\"],[\" 53.0\",\" 50.0\",\" 0.0\",\" 0.0\",\" 5.4\"],[\" 63.0\",\" 50.0\",\" 0.2\",\" 0.0\",\" 6.3\"],[\" 144.0\",\" 100.0\",\" 5.0\",\" 0.0\",\" 22.0\"],[\" 119.0\",\" 100.0\",\" 5.0\",\" 0.0\",\" 18.0\"]],\"hovertemplate\":\"<b>%{hovertext}</b><br><br>Classification (Label)=MEAT 3<br>Kcal =%{customdata[0]}<br>Serving Size =%{customdata[1]}<br>Carbohydrate =%{customdata[2]}<br>Sugars =%{customdata[3]}<br>Proteins =%{customdata[4]}<extra></extra>\",\"hovertext\":[\"Carne Mo\\u00edda do Futuro\",\"Fil\\u00e9s Sora Carne Vermelha\",\"Fatias Sora Carne Vermelha\",\"Fil\\u00e9 Pronto Saud\\u00e1vel Sora\",\"Carne Mo\\u00edda Pronto Saud\\u00e1vel Sora\",\"Churrasco Vegabom\",\"Churrasco Aoniondo Vegabom\",\"Carne de Pernil Seara\",\"Alm\\u00f4ndega de Soja Vegana Goshen\",\"Bife de Soja Vegano Goshen\",\"Alm\\u00f4ndega Vegana Superbom\",\"Bife Vegetal Superbom\",\"Escalope ao Molho Caseiro Superbom\",\"Cubinhos ao Molho Mexicano Superbom\",\"Alm\\u00f4ndegas ao Molho Sugo Superbom\",\"Medalh\\u00e3o ao Molho Madeira Superbom\",\"Mignon Verdali\",\"Steak Verdali\"],\"legendgroup\":\"MEAT 3\",\"marker\":{\"color\":\"#EF553B\",\"symbol\":\"circle\"},\"mode\":\"markers\",\"name\":\"MEAT 3\",\"orientation\":\"v\",\"showlegend\":false,\"x\":[0.9373908148823751,-0.18881776209092077,-0.5011244004110444,0.29811147368415764,0.29811147368415764,1.0793470718108196,1.07932604212534,2.0945613619042076,0.6291961680005995,0.7502797548200114,-0.36652241218710013,0.3678208934506913,0.955363878049251,0.6347594256520562,1.3302399318986067,1.5124972392594367,1.3335728923281687,0.6651377455309007],\"xaxis\":\"x\",\"y\":[0.15376553827669392,0.0473305341396358,0.326145123251602,-0.53083104053693,-0.53083104053693,-0.12953946317534804,-0.13005333940226188,-1.8663200815877825,1.4482819099410507,1.5901018337971429,-0.12471160469344222,0.573847948561064,-0.13381439172136386,0.15005550668379353,0.6428451610449931,1.0217550527114687,-0.444301558850625,0.20352106975580322],\"yaxis\":\"y\",\"type\":\"scatter\"},{\"customdata\":[[\" 168.0\",\" 80.0\",\" 11.0\",\" 0.0\",\" 8.2\"],[\" 150.0\",\" 50.0\",\" 10.0\",\" 0.0\",\" 25.0\"],[\" 150.0\",\" 50.0\",\" 10.0\",\" 0.0\",\" 25.0\"],[\" 115.0\",\" 60.0\",\" 2.8\",\" 0.0\",\" 7.5\"],[\" 34.8\",\" 30.0\",\" 2.9\",\" 0.0\",\" 3.8\"],[\" 153.0\",\" 100.0\",\" 12.0\",\" 0.0\",\" 6.0\"],[\" 94.0\",\" 80.0\",\" 3.1\",\" 0.0\",\" 17.0\"],[\" 94.0\",\" 80.0\",\" 3.1\",\" 0.0\",\" 17.0\"],[\" 58.0\",\" 30.0\",\" 2.2\",\" 0.0\",\" 4.8\"],[\" 58.0\",\" 30.0\",\" 2.2\",\" 0.0\",\" 4.8\"],[\" 174.0\",\" 100.0\",\" 6.0\",\" 0.0\",\" 24.0\"],[\" 129.0\",\" 115.0\",\" 5.8\",\" 0.0\",\" 19.0\"],[\" 138.0\",\" 120.0\",\" 8.4\",\" 0.0\",\" 18.0\"]],\"hovertemplate\":\"<b>%{hovertext}</b><br><br>Classification (Label)=POULTRY 3<br>Kcal =%{customdata[0]}<br>Serving Size =%{customdata[1]}<br>Carbohydrate =%{customdata[2]}<br>Sugars =%{customdata[3]}<br>Proteins =%{customdata[4]}<extra></extra>\",\"hovertext\":[\"Frango do Futuro\",\"Fatias Sora Carne Branca\",\"Fil\\u00e9s Sora Carne Branca\",\"Strogonoff de Frango Vegabom\",\"Tiras de Frango New Butchers\",\"Fil\\u00e9 de Frango Desfiado Vegway\",\"Frango Veg e Tal Sadia\",\"Frango Veg e Tal Sadia Desfiado\",\"Peito de Peru de Soja\",\"Peito de Peru de Soja Vegano\",\"Tiras de Ave Verdali\",\"Fil\\u00e9 sem Frango Verdali\",\"Mini Fil\\u00e9 de Frango Verdali\"],\"legendgroup\":\"POULTRY 3\",\"marker\":{\"color\":\"#00CC96\",\"symbol\":\"circle\"},\"mode\":\"markers\",\"name\":\"POULTRY 3\",\"orientation\":\"v\",\"showlegend\":false,\"x\":[0.9373908148823749,-0.5047643087991137,-0.5047643087991137,0.5766142952426151,0.06019827476428232,0.932945272394066,0.17724114803389637,0.17724114803389637,0.2226149466549931,0.6056413902766279,1.117703633283107,0.562098151894745,0.8304584874083104],\"xaxis\":\"x\",\"y\":[0.15376553827669348,0.3290383285653045,0.3290383285653045,-0.2060245941827448,-0.5338074481868782,0.8573644379775559,-0.15438352086597476,-0.15438352086597476,1.9249870209410573,2.012266961964253,-0.7051852958788456,0.0890858975220321,-0.42234789899414155],\"yaxis\":\"y\",\"type\":\"scatter\"},{\"customdata\":[[\" 139.0\",\" 50.0\",\" 7.7\",\" 0.0\",\" 5.7\"],[\" 78.0\",\" 35.0\",\" 6.0\",\" 0.0\",\" 4.0\"],[\" 78.0\",\" 35.0\",\" 6.0\",\" 0.0\",\" 4.0\"],[\" 156.0\",\" 65.0\",\" 8.0\",\" 0.0\",\" 11.0\"],[\" 115.0\",\" 80.0\",\" 3.6\",\" 0.0\",\" 9.7\"],[\" 44.0\",\" 30.0\",\" 0.5\",\" 0.0\",\" 5.1\"],[\" 58.0\",\" 30.0\",\" 1.7\",\" 0.0\",\" 5.1\"],[\" 93.0\",\" 50.0\",\" 1.9\",\" 0.0\",\" 8.1\"],[\" 58.0\",\" 30.0\",\" 4.3\",\" 0.0\",\" 2.4\"],[\" 96.0\",\" 50.0\",\" 1.8\",\" 0.0\",\" 8.8\"],[\" 60.0\",\" 40.0\",\" 1.4\",\" 0.0\",\" 7.6\"],[\" 43.0\",\" 40.0\",\" 1.8\",\" 0.0\",\" 4.9\"]],\"hovertemplate\":\"<b>%{hovertext}</b><br><br>Classification (Label)=PORK 1<br>Kcal =%{customdata[0]}<br>Serving Size =%{customdata[1]}<br>Carbohydrate =%{customdata[2]}<br>Sugars =%{customdata[3]}<br>Proteins =%{customdata[4]}<extra></extra>\",\"hovertext\":[\"Lingui\\u00e7a do Futuro\",\"Lingui\\u00e7a calabresa vegabom\",\"saltsicha de chickpea Vegabom\",\"Vegway Soy Sausage\",\"saltsichas Incriveis Seara\",\"Lingui\\u00e7a Apimentada de Soja Goshen\",\"Lingui\\u00e7a Calabresa de Soja Goshen\",\"Lingui\\u00e7a de Soja Vegana Goshen\",\"Lingui\\u00e7a Toscana de Soja Goshen\",\"saltsicha de Soja Vegana Goshen\",\"saltsicha Vegetal Superbom\",\"saltsicha Vegetal Defumada Superbom\"],\"legendgroup\":\"PORK 1\",\"marker\":{\"color\":\"#AB63FA\",\"symbol\":\"circle\"},\"mode\":\"markers\",\"name\":\"PORK 1\",\"orientation\":\"v\",\"showlegend\":false,\"x\":[1.519460071204053,0.3986263648917304,0.26826920232133755,0.8856242944340508,2.069500768139512,0.5148219861272091,0.7177877657825635,0.9219451114922084,0.19412407351156863,0.7299569983745156,0.6545410616814452,0.5760519498790339],\"xaxis\":\"x\",\"y\":[-0.1145218181366037,0.7677825470134523,0.7163045372880515,0.7508588891085333,-1.7226888601859984,1.703544757982933,2.20522364199409,2.129814175696877,1.9072989158987759,2.0936005732110994,1.420100480009937,1.0431821090645965],\"yaxis\":\"y\",\"type\":\"scatter\"},{\"customdata\":[[\" 118.0\",\" 50.0\",\" 2.8\",\" 0.0\",\" 7.0\"],[\" 78.0\",\" 50.0\",\" 5.3\",\" 0.0\",\" 8.9\"],[\" 140.0\",\" 120.0\",\" 25.0\",\" 0.0\",\" 6.1\"],[\" 128.0\",\" 60.0\",\" 19.0\",\" 0.0\",\" 5.1\"],[\" 253.0\",\" 113.0\",\" 42.0\",\" 0.0\",\" 17.0\"],[\" 90.0\",\" 80.0\",\" 4.8\",\" 0.0\",\" 11.0\"],[\" 187.0\",\" 80.0\",\" 10.0\",\" 0.0\",\" 9.8\"],[\" 158.0\",\" 113.5\",\" 8.7\",\" 0.0\",\" 15.0\"],[\" 206.0\",\" 100.0\",\" 4.1\",\" 0.0\",\" 13.0\"],[\" 420.0\",\" 100.0\",\" 4.4\",\" 0.0\",\" 28.0\"],[\" 209.0\",\" 115.0\",\" 5.3\",\" 0.0\",\" 20.0\"],[\" 114.0\",\" 60.0\",\" 4.5\",\" 0.0\",\" 7.6\"],[\" 170.0\",\" 80.0\",\" 4.6\",\" 0.0\",\" 12.0\"],[\" 134.0\",\" 60.0\",\" 5.9\",\" 0.0\",\" 7.3\"],[\" 237.0\",\" 134.0\",\" 29.0\",\" 0.0\",\" 16.0\"],[\" 115.0\",\" 60.0\",\" 13.0\",\" 0.0\",\" 8.9\"],[\" 118.0\",\" 60.0\",\" 11.0\",\" 0.0\",\" 6.0\"],[\" 118.0\",\" 60.0\",\" 11.0\",\" 0.0\",\" 6.0\"],[\" 197.0\",\" 80.0\",\" 10.0\",\" 0.0\",\" 11.0\"],[\" 309.0\",\" 115.0\",\" 45.0\",\" 0.0\",\" 7.0\"],[\" 127.0\",\" 90.0\",\" 23.0\",\" 0.0\",\" 3.1\"],[\" 150.0\",\" 50.0\",\" 10.0\",\" 0.0\",\" 25.0\"],[\" 120.0\",\" 90.0\",\" 17.0\",\" 0.0\",\" 5.4\"],[\" 171.0\",\" 90.0\",\" 28.0\",\" 0.0\",\" 3.4\"],[\" 196.0\",\" 100.0\",\" 9.7\",\" 0.0\",\" 19.0\"],[\" 146.0\",\" 63.0\",\" 7.0\",\" 0.0\",\" 12.3\"],[\" 80.0\",\" 70.0\",\" 4.4\",\" 0.0\",\" 8.2\"],[\" 301.0\",\" 67.0\",\" 40.0\",\" 0.0\",\" 8.9\"],[\" 192.0\",\" 90.0\",\" 26.0\",\" 0.0\",\" 7.7\"],[\" 210.0\",\" 90.0\",\" 29.0\",\" 0.0\",\" 10.0\"],[\" 110.0\",\" 60.0\",\" 8.9\",\" 0.0\",\" 4.3\"],[\" 62.0\",\" 50.0\",\" 1.0\",\" 0.0\",\" 10.0\"],[\" 266.0\",\" 80.0\",\" 26.0\",\" 0.0\",\" 27.0\"],[\" 266.0\",\" 80.0\",\" 26.0\",\" 0.0\",\" 27.0\"]],\"hovertemplate\":\"<b>%{hovertext}</b><br><br>Classification (Label)=MEAT 1<br>Kcal =%{customdata[0]}<br>Serving Size =%{customdata[1]}<br>Carbohydrate =%{customdata[2]}<br>Sugars =%{customdata[3]}<br>Proteins =%{customdata[4]}<extra></extra>\",\"hovertext\":[\"Hamburguer de Soja Goshen\",\"Hamburguer de Soja Vegano Goshen\",\"Hamburguer de Quinoa Mr Veggy\",\"Hamburguer de lentil Mr Veggy\",\"Hamburguer vegano falafel amazonika mundi\",\"Hamburguer Vegetal Verdali\",\"VegBurger Sabor Carne\",\"Burger Gourmet Superbom\",\"Hamburguer Incr\\u00edvel Seara\",\"Not Burguer Notco\",\"Hamburguer de Fibra de Caju Amazonika Mundi\",\"Hamburguer Vegabom\",\"Hamburguer de Carne Veg  e Tal Sadia\",\"Hamburger New Butchers\",\"Hamburguer de Legumes Mr Veggy\",\"Hamburguer Vegetariano Mr Veggy\",\"Hambuguer Mr Veggy Mari Mari\",\"Hambuguer Mr Veggy Mari Mari Churrrasco\",\"Hamb\\u00farguer Fazenda Futuro 2.0\",\"Hamb\\u00farguer Vegano de Quinoa Amazonika Mundi\",\"Hamburguer Veggie Roots Tempero Indiano\",\"Hamb\\u00farguer Sora Carne Vermelha \",\"Hamburguer Veggie Roots brazilianspices\",\"Hamburguer veggie roots tempero mexicano\",\"Hamburguer de Soja Sabor Carne Vegway\",\"Hamb\\u00farguer de Soja Empanado Vegway\",\"Hamburguer Vegetal Superbom\",\"Hamburguer de chickpea Mr Veggy\",\"Hamburguer Veggie Roots Tempero \\u00c1rabe\",\"Hamburguer Veggie Roots Tempero Tailand\\u00eas\",\"Hamburguer Vegabom\",\"Hamb\\u00farguer Pronto Saud\\u00e1vel Sora\",\"hamburguer vegetal com herbs jasmine\",\"Hamburguer Vegetal Tradicional Jasmine\"],\"legendgroup\":\"MEAT 1\",\"marker\":{\"color\":\"#FFA15A\",\"symbol\":\"circle\"},\"mode\":\"markers\",\"name\":\"MEAT 1\",\"orientation\":\"v\",\"showlegend\":false,\"x\":[0.7626064453297521,0.47632559094950766,0.38671022299627494,0.7330007138716329,0.16237548417880593,1.2473542986446182,0.3559418617617981,0.010088247084179524,2.1593286354940315,0.3884753733151611,1.0470468524916317,0.3122884807284289,0.7082526135910537,0.5347250660526573,0.38770190486465966,0.28610586940299776,0.2046989418747788,0.2046989418747788,1.1088222777373948,0.39129066186041345,0.6574966662036823,-0.5011244004110444,0.6626535281199979,0.7442091753247175,1.0101544110217842,1.0140728952914737,1.4819922550795896,0.19813214589213876,0.8177361776447098,0.8063613222204103,0.26414445106015705,0.29811147368415764,-0.21806641760395412,-0.22035578401417036],\"xaxis\":\"x\",\"y\":[1.5006373767761896,1.4476868903350664,-0.24945687654635268,-0.40453436836230416,-0.10917692293040981,-0.8694708214194098,-0.867843498392112,0.2354527675729345,-1.7350195237602626,-0.31447963491842995,-0.9329270104915239,0.6480651070959804,-0.815234474613216,-0.8904561066320088,0.5093720416556619,0.5875934161783792,0.5348383226040501,0.5348383226040501,-0.031124070847358527,-0.3023286177825633,-0.5321486229420845,0.326145123251602,-0.5848362739813004,-0.6999432330901926,0.9326115426038091,0.9199952165885035,0.49115026188013544,0.11965463586441384,-0.6656348375405795,-0.40242138622711904,0.535488425136178,-0.53083104053693,0.493718871035116,0.501323489599432],\"yaxis\":\"y\",\"type\":\"scatter\"},{\"customdata\":[[\" 150.0\",\" 50.0\",\" 10.0\",\" 0.0\",\" 25.0\"],[\" 189.0\",\" 80.0\",\" 11.0\",\" 0.0\",\" 9.8\"],[\" 173.0\",\" 80.0\",\" 3.6\",\" 0.0\",\" 13.0\"],[\" 129.0\",\" 100.0\",\" 2.4\",\" 0.0\",\" 7.0\"],[\" 96.0\",\" 80.0\",\" 4.8\",\" 0.0\",\" 11.0\"]],\"hovertemplate\":\"<b>%{hovertext}</b><br><br>Classification (Label)=POULTRY 2<br>Kcal =%{customdata[0]}<br>Serving Size =%{customdata[1]}<br>Carbohydrate =%{customdata[2]}<br>Sugars =%{customdata[3]}<br>Proteins =%{customdata[4]}<extra></extra>\",\"hovertext\":[\"Hamb\\u00farguer Sora Carne Branca\",\"VegBurger Sabor Frango\",\"Hambuguer Incr\\u00edvel Seara Frango\",\"Frango Vegano em Peda\\u00e7os \\u00e0 Base de pea\",\"Hamb\\u00farguer de Frango Verdali\"],\"legendgroup\":\"POULTRY 2\",\"marker\":{\"color\":\"#19D3F3\",\"symbol\":\"circle\"},\"mode\":\"markers\",\"name\":\"POULTRY 2\",\"orientation\":\"v\",\"showlegend\":false,\"x\":[-0.5047643087991137,0.31893188660477484,2.1402015921698685,0.030868972513097205,1.0490913259702297],\"xaxis\":\"x\",\"y\":[0.3290383285653045,-0.8565679478355774,-1.7164435832287932,0.16010907446780737,-0.6147346117421054],\"yaxis\":\"y\",\"type\":\"scatter\"},{\"customdata\":[[\" 116.0\",\" 60.0\",\" 2.9\",\" 0.0\",\" 7.9\"],[\" 116.0\",\" 60.0\",\" 2.9\",\" 0.0\",\" 7.9\"],[\" 198.0\",\" 100.0\",\" 14.0\",\" 0.0\",\" 15.0\"],[\" 449.0\",\" 130.0\",\" 31.0\",\" 0.0\",\" 12.0\"],[\" 291.0\",\" 130.0\",\" 29.0\",\" 0.0\",\" 17.0\"],[\" 127.0\",\" 40.0\",\" 4.9\",\" 0.0\",\" 6.5\"],[\" 94.0\",\" 40.0\",\" 3.4\",\" 0.0\",\" 6.7\"],[\" 61.0\",\" 40.0\",\" 3.0\",\" 0.0\",\" 7.2\"],[\" 330.0\",\" 130.0\",\" 32.0\",\" 0.0\",\" 13.0\"],[\" 210.0\",\" 80.0\",\" 32.0\",\" 0.0\",\" 8.0\"],[\" 178.0\",\" 130.0\",\" 21.5\",\" 0.0\",\" 13.4\"],[\" 110.0\",\" 80.0\",\" 13.0\",\" 0.0\",\" 8.5\"],[\" 188.0\",\" 100.0\",\" 24.0\",\" 0.0\",\" 13.0\"],[\" 188.0\",\" 100.0\",\" 24.0\",\" 0.0\",\" 13.0\"]],\"hovertemplate\":\"<b>%{hovertext}</b><br><br>Classification (Label)=POULTRY 1<br>Kcal =%{customdata[0]}<br>Serving Size =%{customdata[1]}<br>Carbohydrate =%{customdata[2]}<br>Sugars =%{customdata[3]}<br>Proteins =%{customdata[4]}<extra></extra>\",\"hovertext\":[\"Empanado de Frango Vegabom\",\"Fil\\u00e9 de Frango Empanado Vegabom\",\"Empanados de Frango Vegway\",\"Empanados Incr\\u00edveis Seara\",\"Empanados Sadia Veg e Tal\",\"Empanadinho de Soja  Goshen\",\"Empanadinho de Soja Vegano  Goshen\",\"Steak de Soja Vegano Goshen\",\"Empanado Vegano (Mini Crispy) 100 Foods\",\"Crispy Chicken 100 Foods\",\"Mini Empanado de Legumes Superbom\",\"Steak Vegan Sabor Legumes Superbom\",\"Steak Veg\\u00ea Sabor Frango\",\"Steak Veg\\u00ea Sabor Frango Empanado\"],\"legendgroup\":\"POULTRY 1\",\"marker\":{\"color\":\"#FF6692\",\"symbol\":\"circle\"},\"mode\":\"markers\",\"name\":\"POULTRY 1\",\"orientation\":\"v\",\"showlegend\":false,\"x\":[0.7545022769465478,0.7545022769465478,1.0267408252377777,1.9829812997737721,1.9597953357343685,0.9109645646822404,0.5143496257224294,0.8245931018864882,1.2917348040500771,1.4174035386356918,0.6445184614006887,0.5987646540258443,-0.04712270876274993,0.008332528310322544],\"xaxis\":\"x\",\"y\":[0.5323914264735549,0.5323914264735549,0.9499466783744266,-1.4937939540539487,-1.4626972252752592,1.653816562113116,1.2982861221069764,1.6105040638546055,-0.9183030735174256,-1.045655464399131,0.13688341879437385,0.18213022134115053,0.05136114975657026,0.04891936278072068],\"yaxis\":\"y\",\"type\":\"scatter\"},{\"customdata\":[[\" 116.0\",\" 60.0\",\" 3.6\",\" 0.0\",\" 7.5\"],[\" 116.0\",\" 60.0\",\" 3.6\",\" 0.0\",\" 7.5\"],[\" 206.0\",\" 100.0\",\" 28.0\",\" 0.0\",\" 8.0\"],[\" 41.0\",\" 40.0\",\" 7.0\",\" 0.0\",\" 1.6\"],[\" 82.0\",\" 30.0\",\" 3.5\",\" 0.0\",\" 4.0\"]],\"hovertemplate\":\"<b>%{hovertext}</b><br><br>Classification (Label)=FISH 2<br>Kcal =%{customdata[0]}<br>Serving Size =%{customdata[1]}<br>Carbohydrate =%{customdata[2]}<br>Sugars =%{customdata[3]}<br>Proteins =%{customdata[4]}<extra></extra>\",\"hovertext\":[\"Fil\\u00e9 Peixe Empanado Vegabom\",\"Tirinhas de Peixe Empanado Vegabom\",\"Bolinho de Bacalhau New Butchers\",\"Bolinho de Siri Amazonika Mundi\",\"Camar\\u00e3o de Soja Vegano Goshen\"],\"legendgroup\":\"FISH 2\",\"marker\":{\"color\":\"#B6E880\",\"symbol\":\"circle\"},\"mode\":\"markers\",\"name\":\"FISH 2\",\"orientation\":\"v\",\"showlegend\":false,\"x\":[0.8342393184358105,0.8342393184358105,0.35052198100203613,0.6350906012041022,0.647951962472809],\"xaxis\":\"x\",\"y\":[0.5661945416636908,0.5661945416636908,-0.9572455633682323,-0.568139546542617,1.8271510540236002],\"yaxis\":\"y\",\"type\":\"scatter\"},{\"customdata\":[[\" 124.0\",\" 50.0\",\" 5.1\",\" 0.0\",\" 0.0\"],[\" 124.0\",\" 50.0\",\" 5.1\",\" 0.0\",\" 0.0\"],[\" 124.0\",\" 50.0\",\" 5.1\",\" 0.0\",\" 0.0\"],[\" 31.0\",\" 10.0\",\" 0.6\",\" 0.0\",\" 0.3\"],[\" 25.0\",\" 10.0\",\" 0.7\",\" 0.0\",\" 0.3\"],[\" 29.0\",\" 10.0\",\" 0.7\",\" 0.0\",\" 0.3\"],[\" 30.0\",\" 10.0\",\" 0.7\",\" 0.0\",\" 0.3\"],[\" 178.0\",\" 100.0\",\" 8.7\",\" 0.0\",\" 8.4\"],[\" 178.0\",\" 100.0\",\" 8.7\",\" 0.0\",\" 8.4\"],[\" 280.0\",\" 100.0\",\" 23.3\",\" 0.0\",\" 3.0\"],[\" 170.0\",\" 100.0\",\" 6.0\",\" 0.0\",\" 4.7\"],[\" 170.0\",\" 100.0\",\" 6.0\",\" 0.0\",\" 4.7\"],[\" 82.0\",\" 30.0\",\" 2.7\",\" 0.0\",\" 1.5\"],[\" 83.0\",\" 30.0\",\" 2.9\",\" 0.0\",\" 1.5\"],[\" 95.0\",\" 30.0\",\" 9.1\",\" 0.0\",\" 2.0\"],[\" 89.0\",\" 30.0\",\" 8.2\",\" 0.0\",\" 1.9\"],[\" 93.0\",\" 30.0\",\" 8.8\",\" 0.0\",\" 1.9\"],[\" 83.0\",\" 30.0\",\" 2.3\",\" 0.0\",\" 1.6\"],[\" 83.0\",\" 30.0\",\" 2.3\",\" 0.0\",\" 1.6\"],[\" 83.0\",\" 30.0\",\" 2.3\",\" 0.0\",\" 1.6\"],[\" 581.0\",\" 100.0\",\" 30.2\",\" 0.0\",\" 18.2\"],[\" 581.0\",\" 100.0\",\" 30.2\",\" 0.0\",\" 18.2\"],[\" 59.0\",\" 30.0\",\" 2.0\",\" 0.0\",\" 0.9\"],[\" 43.0\",\" 30.0\",\" 1.2\",\" 0.0\",\" 0.8\"],[\" 100.0\",\" 30.0\",\" 5.4\",\" 0.0\",\" 2.9\"],[\" 43.0\",\" 30.0\",\" 1.2\",\" 0.0\",\" 0.8\"],[\" 394.0\",\" 100.0\",\" 23.0\",\" 0.0\",\" 13.0\"],[\" 30.0\",\" 12.0\",\" 3.0\",\" 0.0\",\" 0.7\"],[\" 62.8\",\" 20.0\",\" 3.6\",\" 0.0\",\" 2.0\"],[\" 57.1\",\" 20.0\",\" 3.4\",\" 0.0\",\" 1.9\"],[\" 68.4\",\" 20.0\",\" 3.8\",\" 0.0\",\" 2.1\"],[\" 62.8\",\" 20.0\",\" 3.6\",\" 0.0\",\" 2.0\"],[\" 89.0\",\" 30.0\",\" 6.4\",\" 0.0\",\" 0.0\"],[\" 72.0\",\" 30.0\",\" 2.9\",\" 0.0\",\" 1.0\"],[\" 58.0\",\" 30.0\",\" 3.5\",\" 0.0\",\" 1.0\"],[\" 71.0\",\" 30.0\",\" 2.8\",\" 0.0\",\" 0.9\"],[\" 78.0\",\" 30.0\",\" 3.4\",\" 0.0\",\" 1.0\"],[\" 76.0\",\" 30.0\",\" 3.4\",\" 0.0\",\" 0.9\"],[\" 36.0\",\" 15.0\",\" 1.0\",\" 0.0\",\" 0.3\"],[\" 38.0\",\" 10.0\",\" 0.8\",\" 0.0\",\" 0.3\"],[\" 51.0\",\" 15.0\",\" 3.8\",\" 0.0\",\" 0.7\"],[\" 36.0\",\" 15.0\",\" 1.2\",\" 0.0\",\" 0.4\"],[\" 47.0\",\" 15.0\",\" 2.8\",\" 0.0\",\" 0.1\"],[\" 47.0\",\" 15.0\",\" 2.8\",\" 0.0\",\" 0.1\"],[\" 49.0\",\" 15.0\",\" 3.1\",\" 0.0\",\" 0.1\"]],\"hovertemplate\":\"<b>%{hovertext}</b><br><br>Classification (Label)=DAIRY 3<br>Kcal =%{customdata[0]}<br>Serving Size =%{customdata[1]}<br>Carbohydrate =%{customdata[2]}<br>Sugars =%{customdata[3]}<br>Proteins =%{customdata[4]}<extra></extra>\",\"hovertext\":[\"Queijo Mu\\u00e7arela Vegabom\",\"Queijo Picante Vegabom\",\"Queijo Cheddar Vegabom\",\"Requeisoy Provolone \",\"Requeisoy Cheddar' \",\"Requeisoy Tradicional\",\"Requeisoy Gorgonzola\",\"Okeijo R\\u00fastico\",\"Okeijo Cremoso\",\"Okeijo Gratinado\",\"Okeijo Mussarela\",\"Okeijo Provolone\",\"Creme s Vida Veg\",\"Creme s fineherbs e Pesto\",\"Queijo mu\\u00e7arela\",\"Queijo minas frescal\",\"Queijo minas padr\\u00e3o\",\"Requeij\\u00e3o Tradicional\",\"Requeij\\u00e3o fineherbs\",\"Requeij\\u00e3o Defumado\",\"Queijo Zimurisku \",\"Queijo Zimurisku Temperado\",\"Queijo Mozarela NoMoo\",\"Queijo Provolone\",\"Queijo Ch\\u00e9vre\",\"Queijo Prato\",\"Queijo Parmes\\u00e3o\",\"Requeij\\u00e3o Nomoo\",\"Queijo Gorgolino\",\"Queijo Melhor Que Cheddar\",\"Queijo Recaishow\",\"Queijo Brie\",\"Mussarela Vegana Goshen\",\"Queijo ProVolone Veganita\",\"Queijo Munster Veganita\",\"Queijo Brie Veganita\",\"Queijo Mussarela Veganita\",\"Queijo Cheddar Veganita\",\"CREAM CHEESE CULIN\\u00c1RIO BASI.CO\",\"REQUEIJ\\u00c3O VEGETAL\",\"QUEIJO PARMES\\u00c3O\",\"QUEIJO MINAS VEGETAL\",\"QUEIJO PRATO\",\"QUEIJO MU\\u00c7ARELA\",\"QUEIJO CHEDDAR\"],\"legendgroup\":\"DAIRY 3\",\"marker\":{\"color\":\"#FF97FF\",\"symbol\":\"circle\"},\"mode\":\"markers\",\"name\":\"DAIRY 3\",\"orientation\":\"v\",\"showlegend\":false,\"x\":[0.05561043553104992,0.023922392105628038,0.023922392105628038,0.0472743280921158,0.05366253126141293,0.05324251906835601,0.062167952178981474,-0.04186637293658248,0.28472850108520253,-0.012565875186293244,-0.12510553804216845,-0.12510553804216845,-0.8924581805778128,-0.8654404401723529,-0.8718101462013248,-0.8106398273602761,-0.9065827518300255,-0.8587408197628142,-0.9467716475278568,-0.9040777722469066,-0.3255089005513523,-0.25775361100195154,-0.7603100226542713,-0.7876637798759585,-0.8302519764098669,-0.7659719799114726,-0.7281136293280909,-0.06128271167492448,-0.1706446825088664,-0.1555100084582008,0.156357408746825,-0.25821984429524725,-0.5277549654254778,-0.8553980722530486,-0.8076949388122313,-0.8820333346431222,-0.8562410621251237,-0.8079071412840987,-0.4820950947813892,-0.8029594164453555,-0.24083509058106414,-0.9482412122372589,-0.919911568389494,-0.9583399579282111,-1.0041536434662781],\"xaxis\":\"x\",\"y\":[-0.06523922515252269,-0.060946381848246314,-0.060946381848246314,0.5730840150213968,0.6032111498480508,0.5732087862305962,0.6081764948720028,0.018907248715867426,-0.26622622287489267,-0.15037745946333284,-0.02218521795476869,-0.02218521795476869,-0.12332725960402573,-0.11262437945009782,-0.023346996199397885,-0.008867341635763188,-0.0348314708489554,-0.008573826716170704,-0.08027029138803397,-0.17064455548608337,-0.11042873809243835,-0.04596240879068808,0.01063373383201609,0.0074761897687901525,-0.017004299520193375,0.007126328824628822,-0.10021783046495754,0.24924296646917682,0.1779929144876299,0.11553104408500697,-0.11955646215057997,0.11857831843163082,-0.026211073445526204,0.05693803753716881,0.08168625767866072,0.027122377322674123,0.04434652253308678,0.05675652492719919,-0.17144594164793567,-0.29353742907058356,0.25118546623075894,-0.08974869236185962,0.0643099853902979,0.09920274821365997,0.06065248537268015],\"yaxis\":\"y\",\"type\":\"scatter\"},{\"customdata\":[[\" 146.0\",\" 90.0\",\" 12.1\",\" 0.0\",\" 11.9\"],[\" 327.0\",\" 240.0\",\" 41.0\",\" 0.0\",\" 11.0\"],[\" 317.0\",\" 100.0\",\" 17.0\",\" 0.0\",\" 13.0\"],[\" 153.0\",\" 100.0\",\" 12.0\",\" 0.0\",\" 6.0\"],[\" 138.0\",\" 100.0\",\" 19.0\",\" 0.0\",\" 2.0\"],[\" 304.0\",\" 300.0\",\" 19.0\",\" 0.0\",\" 21.0\"],[\" 440.0\",\" 130.0\",\" 31.0\",\" 0.0\",\" 12.0\"],[\" 166.0\",\" 80.0\",\" 7.1\",\" 0.0\",\" 12.0\"]],\"hovertemplate\":\"<b>%{hovertext}</b><br><br>Classification (Label)=FISH 1<br>Kcal =%{customdata[0]}<br>Serving Size =%{customdata[1]}<br>Carbohydrate =%{customdata[2]}<br>Sugars =%{customdata[3]}<br>Proteins =%{customdata[4]}<extra></extra>\",\"hovertext\":[\"Fil\\u00e9 de saltm\\u00e3o New Butchers\",\"Bacalhau New  Butchers\",\"Isca de Peixe Vegway\",\"Fil\\u00e9 de Peixe Vegway\",\"Vieira de Soja Vegway\",\"Bacalhau Incr\\u00edvel Seara\",\"Iscas de Peixe Incr\\u00edvel Seara\",\"Atum do Futuro\"],\"legendgroup\":\"FISH 1\",\"marker\":{\"color\":\"#FECB52\",\"symbol\":\"circle\"},\"mode\":\"markers\",\"name\":\"FISH 1\",\"orientation\":\"v\",\"showlegend\":false,\"x\":[-0.011407068961038581,0.7919755642026322,0.947586541642161,0.9732927845024884,0.9139973850411304,2.1389930476155232,1.9620652617235517,0.5896848696326663],\"xaxis\":\"x\",\"y\":[-0.576206817438552,-0.8596264335200253,0.9615565996386468,0.9343158500483724,0.7820922190670075,-1.8747599504762427,-1.4956189036413563,-0.15285373033823407],\"yaxis\":\"y\",\"type\":\"scatter\"},{\"customdata\":[[\" 78.0\",\" 40.0\",\" 3.9\",\" 0.0\",\" 7.4\"],[\" 185.0\",\" 60.0\",\" 31.0\",\" 0.0\",\" 1.1\"],[\" 34.0\",\" 20.0\",\" 0.2\",\" 0.0\",\" 3.4\"],[\" 75.0\",\" 40.0\",\" 3.6\",\" 0.0\",\" 7.6\"],[\" 35.0\",\" 20.0\",\" 0.4\",\" 0.0\",\" 3.9\"],[\" 476.0\",\" 100.0\",\" 14.0\",\" 0.0\",\" 42.0\"]],\"hovertemplate\":\"<b>%{hovertext}</b><br><br>Classification (Label)=PORK 2<br>Kcal =%{customdata[0]}<br>Serving Size =%{customdata[1]}<br>Carbohydrate =%{customdata[2]}<br>Sugars =%{customdata[3]}<br>Proteins =%{customdata[4]}<extra></extra>\",\"hovertext\":[\"Presunto de Soja Vegway\",\"Bacon Vegano\",\"Mortadela de Soja Vegana Goshen\",\"Presunto de Soja Defumado\",\"Presunto de Soja Vegano Fatiado Goshen\",\"Bacon Crispy Verdali\"],\"legendgroup\":\"PORK 2\",\"marker\":{\"color\":\"rgb(127, 60, 141)\",\"symbol\":\"circle\"},\"mode\":\"markers\",\"name\":\"PORK 2\",\"orientation\":\"v\",\"showlegend\":false,\"x\":[0.8585288492552038,-0.3006794324972627,0.6963789397735624,0.8190217587507737,0.6757948113007267,0.19212456277812834],\"xaxis\":\"x\",\"y\":[0.9277345789757497,0.13933319262933924,2.1404394536435833,1.6464077204858967,2.0345229192983667,-0.01691681151362404],\"yaxis\":\"y\",\"type\":\"scatter\"},{\"customdata\":[[\" 92.0\",\" 250.0\",\" 3.7\",\" 2.0\",\" 3.2\"],[\" 60.0\",\" 250.0\",\" 3.4\",\" 2.0\",\" 3.2\"],[\" 68.0\",\" 200.0\",\" 0.9\",\" 0.0\",\" 3.0\"],[\" 53.0\",\" 200.0\",\" 0.0\",\" 0.0\",\" 3.0\"],[\" 70.0\",\" 200.0\",\" 1.0\",\" 0.0\",\" 3.0\"],[\" 88.0\",\" 200.0\",\" 4.0\",\" 0.0\",\" 3.0\"],[\" 58.0\",\" 200.0\",\" 0.8\",\" 0.0\",\" 3.0\"],[\" 108.0\",\" 200.0\",\" 13.0\",\" 0.0\",\" 1.1\"],[\" 145.0\",\" 200.0\",\" 18.0\",\" 0.0\",\" 1.5\"],[\" 117.0\",\" 200.0\",\" 27.0\",\" 10.0\",\" 0.0\"],[\" 111.0\",\" 200.0\",\" 20.0\",\" 9.4\",\" 0.0\"],[\" 117.0\",\" 200.0\",\" 27.0\",\" 10.0\",\" 1.0\"],[\" 145.0\",\" 200.0\",\" 18.0\",\" 0.0\",\" 1.5\"],[\" 117.0\",\" 200.0\",\" 27.0\",\" 10.0\",\" 0.0\"],[\" 134.0\",\" 200.0\",\" 27.0\",\" 10.0\",\" 4.6\"],[\" 72.0\",\" 200.0\",\" 11.0\",\" 8.9\",\" 1.1\"],[\" 113.0\",\" 200.0\",\" 7.5\",\" 6.7\",\" 7.0\"],[\" 79.0\",\" 200.0\",\" 12.0\",\" 10.0\",\" 1.2\"],[\" 91.0\",\" 200.0\",\" 15.0\",\" 10.0\",\" 1.1\"],[\" 84.0\",\" 200.0\",\" 16.0\",\" 9.4\",\" 2.0\"],[\" 104.0\",\" 260.0\",\" 20.0\",\" 12.0\",\" 3.0\"],[\" 79.0\",\" 25.0\",\" 8.6\",\" 3.1\",\" 7.3\"],[\" 73.0\",\" 25.0\",\" 11.0\",\" 3.2\",\" 5.0\"],[\" 120.0\",\" 200.0\",\" 15.0\",\" 11.0\",\" 4.8\"],[\" 97.0\",\" 200.0\",\" 8.4\",\" 5.9\",\" 2.3\"],[\" 66.0\",\" 200.0\",\" 10.0\",\" 7.3\",\" 2.7\"],[\" 99.0\",\" 200.0\",\" 16.0\",\" 11.5\",\" 4.1\"],[\" 104.0\",\" 200.0\",\" 18.0\",\" 12.6\",\" 3.6\"],[\" 82.0\",\" 200.0\",\" 14.0\",\" 8.8\",\" 3.3\"],[\" 97.0\",\" 200.0\",\" 8.4\",\" 5.9\",\" 2.3\"],[\" 51.0\",\" 200.0\",\" 6.3\",\" 6.3\",\" 0.9\"],[\" 98.0\",\" 200.0\",\" 17.0\",\" 17.0\",\" 1.3\"],[\" 70.0\",\" 200.0\",\" 11.0\",\" 11.0\",\" 0.9\"],[\" 30.0\",\" 200.0\",\" 0.9\",\" 0.9\",\" 0.9\"],[\" 58.0\",\" 200.0\",\" 8.5\",\" 0.0\",\" 0.9\"],[\" 44.0\",\" 250.0\",\" 1.4\",\" 1.4\",\" 1.6\"],[\" 21.0\",\" 200.0\",\" 4.7\",\" 0.0\",\" 1.0\"],[\" 48.0\",\" 200.0\",\" 6.8\",\" 4.0\",\" 6.8\"],[\" 59.0\",\" 200.0\",\" 7.5\",\" 0.0\",\" 0.9\"],[\" 84.0\",\" 200.0\",\" 15.0\",\" 0.0\",\" 1.2\"],[\" 55.0\",\" 200.0\",\" 4.7\",\" 0.0\",\" 0.0\"],[\" 74.0\",\" 200.0\",\" 15.0\",\" 0.0\",\" 0.0\"],[\" 74.0\",\" 200.0\",\" 15.0\",\" 0.0\",\" 0.0\"],[\" 74.0\",\" 200.0\",\" 15.0\",\" 0.0\",\" 0.0\"],[\" 74.0\",\" 200.0\",\" 15.0\",\" 0.0\",\" 0.0\"],[\" 74.0\",\" 200.0\",\" 15.0\",\" 0.0\",\" 0.0\"],[\" 74.0\",\" 200.0\",\" 15.0\",\" 0.0\",\" 0.0\"],[\" 74.0\",\" 200.0\",\" 15.0\",\" 0.0\",\" 0.0\"],[\" 114.0\",\" 30.0\",\" 25.0\",\" 0.0\",\" 2.0\"],[\" 114.0\",\" 30.0\",\" 25.0\",\" 0.0\",\" 2.0\"],[\" 114.0\",\" 30.0\",\" 25.0\",\" 0.0\",\" 2.0\"],[\" 114.0\",\" 30.0\",\" 25.0\",\" 0.0\",\" 2.0\"],[\" 114.0\",\" 30.0\",\" 25.0\",\" 0.0\",\" 2.0\"],[\" 78.0\",\" 200.0\",\" 8.5\",\" 2.8\",\" 2.4\"],[\" 90.0\",\" 200.0\",\" 3.0\",\" 0.9\",\" 3.0\"],[\" 80.0\",\" 200.0\",\" 3.1\",\" 0.8\",\" 2.0\"],[\" 57.0\",\" 200.0\",\" 1.7\",\" 0.4\",\" 1.9\"],[\" 150.0\",\" 200.0\",\" 18.0\",\" 0.0\",\" 3.0\"],[\" 75.0\",\" 200.0\",\" 16.0\",\" 6.3\",\" 0.0\"],[\" 100.0\",\" 200.0\",\" 2.3\",\" 0.8\",\" 7.0\"],[\" 80.0\",\" 200.0\",\" 3.3\",\" 0.9\",\" 2.1\"],[\" 109.0\",\" 200.0\",\" 3.1\",\" 0.1\",\" 5.4\"],[\" 29.0\",\" 200.0\",\" 0.7\",\" 0.0\",\" 0.7\"],[\" 36.0\",\" 200.0\",\" 1.3\",\" 0.0\",\" 1.3\"],[\" 23.0\",\" 200.0\",\" 4.0\",\" 0.0\",\" 0.8\"],[\" 82.0\",\" 200.0\",\" 2.2\",\" 0.4\",\" 1.6\"],[\" 106.0\",\" 200.0\",\" 3.0\",\" 0.5\",\" 3.0\"],[\" 86.0\",\" 200.0\",\" 3.0\",\" 0.5\",\" 3.0\"],[\" 41.0\",\" 200.0\",\" 5.0\",\" 4.2\",\" 0.8\"],[\" 80.0\",\" 200.0\",\" 12.0\",\" 9.3\",\" 1.5\"],[\" 26.0\",\" 200.0\",\" 1.0\",\" 0.3\",\" 0.7\"],[\" 27.0\",\" 200.0\",\" 1.0\",\" 0.2\",\" 0.8\"],[\" 71.0\",\" 200.0\",\" 11.0\",\" 8.9\",\" 1.1\"],[\" 99.0\",\" 200.0\",\" 14.0\",\" 9.6\",\" 2.2\"],[\" 106.0\",\" 200.0\",\" 19.0\",\" 17.0\",\" 2.2\"],[\" 93.0\",\" 200.0\",\" 16.0\",\" 8.9\",\" 1.1\"],[\" 95.0\",\" 200.0\",\" 12.0\",\" 0.0\",\" 5.4\"],[\" 123.0\",\" 200.0\",\" 4.8\",\" 0.0\",\" 5.1\"],[\" 108.0\",\" 200.0\",\" 5.4\",\" 0.0\",\" 3.8\"],[\" 84.0\",\" 200.0\",\" 3.9\",\" 0.0\",\" 2.8\"]],\"hovertemplate\":\"<b>%{hovertext}</b><br><br>Classification (Label)=DAIRY 1<br>Kcal =%{customdata[0]}<br>Serving Size =%{customdata[1]}<br>Carbohydrate =%{customdata[2]}<br>Sugars =%{customdata[3]}<br>Proteins =%{customdata[4]}<extra></extra>\",\"hovertext\":[\"Not Milk \",\"Not Milk Semidesnatado\",\" Vegetal de almonds\",\" vegetal \",\" Vegetal de almonds Fresco\",\" Vegetal  de Caj\\u00fa Fresco\",\" Vegetal  Fresco\",\" Vegetal Noats Original\",\" Vegetal Noats Barista\",\" Jasmine rice em P\\u00f3\",\" BIOV jasmine rice com amendoas\",\" BIOV jasmine rice com coco\",\" BioV oats Jasmine\",\" Jasmine rice \",\" Jasmine rice com oats\",\"Bebida de rice Nesfit\",\"Bebida Natural Nesfit\",\"Bebida de rice  e Amendoas Nesfit\",\"Bebida de rice e Coco Nesfit\",\"Bebida de oats Nesfit\",\"Bebida de oats e cocoa\",\"Molico Vegetal Nestl\\u00e9\",\"Ninho Vegetal Nestl\\u00e9\",\"Ninho Banana e apple Nestl\\u00e9\",\"Nude Edi\\u00e7\\u00e3o Barista\",\"Nude Original \",\"Nude Sabor Baunilha\",\"Nude de cocoa\",\"Nude + calcium\",\"Nude Barista\",\"Almond Breeze Original\",\"Almond Breeze Chocolate\",\"Almond Breeze Baunilha\",\"Almond Breeze Sem sugar\",\"Almond Breeze Amendoas com Coco\",\"Almond Breeze Chocolate Sem sugar\",\" de Amendoas Silk Sem sugar\",\" de Amendoas Silk \",\" cashews Silk\",\" de almonds e cocoa Silk\",\" de almonds Silk Coco\",\"Bebida de rice L\\u00edquida Sabor Original\",\"Bebida de rice L\\u00edquida Sabor almonds\",\"Bebida de rice L\\u00edquida Sabor peanuts\\n\",\"Bebida de rice L\\u00edquida Sabor cashews\",\"Bebida de rice L\\u00edquida Sabor Chocolate\",\"Bebida de rice L\\u00edquida Sabor Coco\",\"Bebida de rice L\\u00edquida Sabor Baunilha\",\"Bebida de rice Em P\\u00f3 Sabor Original\",\"Bebida de rice Em P\\u00f3 Sabor Original\",\"Bebida de rice Em P\\u00f3 Sabor Banana e apple\",\"Bebida de rice Em P\\u00f3 Sabor Chocolate\",\"Bebida de rice Em P\\u00f3 Sabor strawberries\",\" a tal da castanha barista\",\" a tal da castanha original\",\" a tal da castanha caju + Coco\",\" a tal da castanha almonds\",\" a tal da castanha castanha + cocoa\",\" a tal da castanha oats\",\" a tal da castanha mixed nuts\",\" a tal da castanha caju + Par\\u00e1\",\" a tal da castanha caju + peanuts\",\" Natuterra oats + Coco\",\" de almonds Natuterra\",\" Natuterra oats \",\" Vegetal 3 Nuts \\u2013 macadamianuts, almonds e cashews\",\" Vegetal de macadamianuts e Coco\",\" Vegetal de macadamianuts e cashews\",\" Vegetal Possible Foods\",\" Vegetal Possible Foods Chocolate\",\"Bebida de castanh de caj\\u00fa sem adi\\u00e7\\u00e3o de sugar nature's heart\",\"Bebida de almonds s/ adi\\u00e7\\u00e3o de sugares 1L \\u2013 Nature\\u2019s Heart\",\"Bebida de rice s/ adi\\u00e7\\u00e3o de sugares 1L \\u2013 Nature\\u2019s Heart\",\"Bebida de oats s/ adi\\u00e7\\u00e3o de sugares 1L \\u2013 Nature\\u2019s Heart\",\"Bebida de cocoa & rice 1L \\u2013 Nature\\u2019s Heart\",\"Bebida  & rice s/ adi\\u00e7\\u00e3o de sugares 1L \\u2013 Nature\\u2019s Heart\",\" Vegetal de soy Naturis Batavo\",\" DUOLAT peanuts E CASTANHA 1L - CAJUEIRO\",\" 85 CASTANHAS 1L - CAJUEIRO\",\" TOASTED 1L - CAJUEIRO\"],\"legendgroup\":\"DAIRY 1\",\"marker\":{\"color\":\"rgb(17, 165, 121)\",\"symbol\":\"circle\"},\"mode\":\"markers\",\"name\":\"DAIRY 1\",\"orientation\":\"v\",\"showlegend\":false,\"x\":[-0.10206893226203996,-0.11634803102377934,-0.9115036298672028,-0.9006212734606809,-0.8909717917033421,-1.0009601410034332,-0.8602014845801612,-0.6699396584034172,-0.6979005238775655,-0.6144783462899881,-0.7074958747549516,-0.5143453264572532,-0.7393061656547197,-0.538551332456769,-0.522537257049693,-0.5720251289355487,-0.8156264602030143,-0.5048929960386747,-0.5492083820116819,-0.524398571381846,-0.5187687027237654,-0.7358803822049683,-0.7702183356921644,-0.8219649258390278,-0.3695215415033737,-0.896345011491205,-0.7268830045285813,-0.7345344184793848,-0.7674746278546266,-0.3695215415033737,-1.1543724180099528,-1.2189596068314508,-1.1396889696206076,-1.283954338956728,-1.1103850385202736,-1.3627562383812972,-0.5060043879504341,-0.5019472728551025,-0.6390750062140227,-0.5485317535833164,-0.5723045360004826,-0.8101407662011673,-1.036049905631768,-1.0589125215335247,-1.1172695550604026,-0.4058434411848967,-0.7873510629683333,-0.9877620670730096,-0.6977879415127278,-0.6977879415127278,-0.9743968020527065,-1.0151346979478884,-0.9802529034696694,-0.7937957975664038,-0.7410647092522383,-0.6360179912159776,-0.8019835462088041,-0.626252934608882,-0.7924086200504826,-0.7452070635607131,-0.6353555860887512,-0.6258712410992168,-0.952357555198054,-0.9091207946243289,-0.9133467620724367,-0.6306282028184168,-0.6169156655752901,-0.6247207786075945,-1.1725648366641843,-1.187241405223377,-1.1567918688448562,-1.1833297029393666,-1.2276498658720858,-1.230969937300881,-1.3534640266985247,-1.2839803071920013,-0.5222872935658204,-0.611676610816936,-0.7277781270141693,-0.7368899113893281],\"xaxis\":\"x\",\"y\":[-0.39409116902177554,-0.3890991288494,-0.4952018969418474,-0.49026439423059925,-0.4697017967739941,-0.2700701213132008,-0.4567093071154574,-0.15455011571543162,-0.18907649434690155,-0.2116731513804617,-0.1628380208749341,-0.1663148250612903,-0.20785202889532578,-0.17242919074744315,-0.07911072285334227,-0.17980780398021684,-0.21771538272256905,-0.135147446376846,-0.1578184504622951,-0.16910158236566075,-0.1749460543933505,-0.22074873369969616,-0.24206587951581388,-0.346633313037838,-0.11922605783029663,-0.19185496456055245,-0.16691478275914112,-0.1737054189729504,-0.1792106069098646,-0.11922605783029663,-0.2485978618014484,-0.28545462152645856,-0.241441166110438,-0.23706611743083478,-0.22281296045901813,-0.28674604205986803,-0.09343033577560224,-0.10411842972460711,-0.13228881747568413,-0.1673769806528979,-0.13613767361174503,-0.19288439264685425,-0.35477852794187464,-0.2686512586074872,-0.25841611260381964,-0.14409047162581734,-0.18997938955423932,-0.24113837775104682,-0.025180167324217847,-0.02518016732421787,-0.10139647222948783,-0.11703854693267522,-0.10764662669832047,-0.14673840866744203,-0.07766000813779654,-0.10659259717454225,-0.09764465174008569,-0.1348818173626111,-0.19510736765561196,-0.3318046779790441,-0.10651967154495927,-0.10661267863935399,-0.24993912812339106,-0.22274146364205988,-0.31161558554504576,-0.10462280677124682,-0.1131943682498369,-0.10313941722292158,-0.2643193315204235,-0.28578810318186715,-0.20436336225572357,-0.21019347344195788,-0.3358558001430521,-0.3460239669087222,-0.4087789839515513,-0.3681207641188434,-0.09974224477854207,-0.1077530413485364,-0.0790752199178398,-0.07461179532873133],\"yaxis\":\"y\",\"type\":\"scatter\"},{\"customdata\":[[\" 142.0\",\" 200.0\",\" 22.0\",\" 0.0\",\" 0.8\"],[\" 149.0\",\" 200.0\",\" 24.0\",\" 0.0\",\" 0.8\"],[\" 149.0\",\" 200.0\",\" 24.0\",\" 0.0\",\" 0.8\"],[\" 92.0\",\" 200.0\",\" 6.4\",\" 0.0\",\" 0.9\"],[\" 100.0\",\" 200.0\",\" 8.2\",\" 0.0\",\" 1.0\"],[\" 145.0\",\" 150.0\",\" 20.0\",\" 0.0\",\" 1.0\"],[\" 148.0\",\" 150.0\",\" 21.0\",\" 0.0\",\" 1.0\"],[\" 156.0\",\" 250.0\",\" 11.7\",\" 0.0\",\" 14.0\"],[\" 123.0\",\" 250.0\",\" 11.0\",\" 0.0\",\" 10.0\"],[\" 152.0\",\" 250.0\",\" 11.0\",\" 0.0\",\" 14.0\"],[\" 27.0\",\" 15.0\",\" 0.0\",\" 0.0\",\" 0.0\"]],\"hovertemplate\":\"<b>%{hovertext}</b><br><br>Classification (Label)=DAIRY 2<br>Kcal =%{customdata[0]}<br>Serving Size =%{customdata[1]}<br>Carbohydrate =%{customdata[2]}<br>Sugars =%{customdata[3]}<br>Proteins =%{customdata[4]}<extra></extra>\",\"hovertext\":[\"Iogurte \",\"Iogurte  com strawberries\",\"Iogurte  com banana, apple e papaya\",\"Iogurte  Zero sugar\",\"Iogurte  com strawberries Zero sugar\",\"Iogurte GregoVeg \",\"Iogurte GregoVeg  com strawberries\",\"Iogurte Proteico 14g sabor strawberries\",\"Shake \",\"Iogurte Proteico 14g sabor  peanuts\",\"Creme de almonds\"],\"legendgroup\":\"DAIRY 2\",\"marker\":{\"color\":\"rgb(57, 105, 172)\",\"symbol\":\"circle\"},\"mode\":\"markers\",\"name\":\"DAIRY 2\",\"orientation\":\"v\",\"showlegend\":false,\"x\":[-0.8947649588364792,-0.6293619081712329,-0.6660345757330309,-0.893558801062818,-0.8499436078936907,-0.46417432535782466,-0.4734378814991262,-0.6516638259001716,-0.5198755346850445,-0.6718378521516739,-0.6785938946739861],\"xaxis\":\"x\",\"y\":[-0.30541652571495775,-0.28210428967565687,-0.2412267012077126,-0.2777248413925105,-0.301561390904527,-0.15239760335976543,-0.15896349823338202,-0.3456704043178902,-0.4116106635628534,-0.33273818192596716,-0.15541493339189477],\"yaxis\":\"y\",\"type\":\"scatter\"},{\"customdata\":[[\" 28.0\",\" 12.0\",\" 1.4\",\" 0.0\",\" 2.5\"],[\" 20.0\",\" 12.0\",\" 0.0\",\" 0.0\",\" 0.0\"],[\" 70.0\",\" 12.0\",\" 0.0\",\" 0.0\",\" 0.0\"],[\" 71.0\",\" 12.0\",\" 0.6\",\" 0.0\",\" 0.0\"],[\" 57.0\",\" 12.0\",\" 0.6\",\" 0.0\",\" 0.0\"],[\" 56.0\",\" 12.0\",\" 0.6\",\" 0.0\",\" 0.0\"],[\" 33.0\",\" 12.0\",\" 0.6\",\" 0.0\",\" 0.4\"],[\" 33.0\",\" 12.0\",\" 0.6\",\" 0.0\",\" 0.4\"],[\" 33.0\",\" 12.0\",\" 0.6\",\" 0.0\",\" 0.4\"],[\" 33.0\",\" 12.0\",\" 0.6\",\" 0.0\",\" 0.4\"],[\" 33.0\",\" 12.0\",\" 0.6\",\" 0.0\",\" 0.4\"],[\" 25.0\",\" 12.0\",\" 0.0\",\" 0.0\",\" 0.0\"],[\" 21.0\",\" 12.0\",\" 0.0\",\" 0.0\",\" 0.0\"],[\" 84.0\",\" 40.0\",\" 5.2\",\" 0.0\",\" 0.5\"]],\"hovertemplate\":\"<b>%{hovertext}</b><br><br>Classification (Label)=EGG 1<br>Kcal =%{customdata[0]}<br>Serving Size =%{customdata[1]}<br>Carbohydrate =%{customdata[2]}<br>Sugars =%{customdata[3]}<br>Proteins =%{customdata[4]}<extra></extra>\",\"hovertext\":[\"MAIONESE VEGETAL SUPERBOM\",\"MAIONESE FUGINI\",\"NOT MAYO\",\"NOT MAYO garlic\",\"NOT MAYO AZEITONA\",\"NOT MAYO PICANTE\",\"MAIONESE V-MAYO\",\"MAIONESE V-MAYO ApepperDA\",\"MAIONESE V-MAYO TRUFADA\",\"MAIONESE V-MAYO DE ABACATE\",\"MAIONESE V-MAYO DE garlic\",\"MAIONESE HELLMANS\",\"MAIONESE VEGANA FUGINI\",\"MAIONESE DEL\\u00cdCIAS DE GOI\\u00c1S\"],\"legendgroup\":\"EGG 1\",\"marker\":{\"color\":\"rgb(242, 183, 1)\",\"symbol\":\"circle\"},\"mode\":\"markers\",\"name\":\"EGG 1\",\"orientation\":\"v\",\"showlegend\":false,\"x\":[0.39533028374344903,-0.2508129326330978,0.12636378987736413,0.2358409290248031,0.13247906441037713,0.46027306271366025,1.2406894542721403,1.257404568080269,1.2211374250689098,1.2471664404161042,1.2406894542721403,0.36005289874113017,0.845965308463934,-0.04649263187398556],\"xaxis\":\"x\",\"y\":[0.27444744060289056,0.41133215290892206,0.08062640508422504,0.06640844871981653,0.07674136890255491,-0.20042043016408143,-0.9773823111882998,-0.9492008723275174,-0.9551310781874809,-0.9848520917697599,-0.9773823111882998,0.04696166888448399,-0.15593025961265009,0.10265921527917682],\"yaxis\":\"y\",\"type\":\"scatter\"},{\"customdata\":[[\" 25.0\",\" 10.0\",\" 3.3\",\" 0.0\",\" 4.1\"],[\" 28.0\",\" 7.0\",\" 1.2\",\" 0.0\",\" 3.1\"]],\"hovertemplate\":\"<b>%{hovertext}</b><br><br>Classification (Label)=EGG 2<br>Kcal =%{customdata[0]}<br>Serving Size =%{customdata[1]}<br>Carbohydrate =%{customdata[2]}<br>Sugars =%{customdata[3]}<br>Proteins =%{customdata[4]}<extra></extra>\",\"hovertext\":[\"Ovos Novos\",\"Ovos Novos\"],\"legendgroup\":\"EGG 2\",\"marker\":{\"color\":\"rgb(231, 63, 116)\",\"symbol\":\"circle\"},\"mode\":\"markers\",\"name\":\"EGG 2\",\"orientation\":\"v\",\"showlegend\":false,\"x\":[-0.5478708705420744,-0.5931777032988508],\"xaxis\":\"x\",\"y\":[0.10804188669508544,0.09402858454446754],\"yaxis\":\"y\",\"type\":\"scatter\"}],                        {\"template\":{\"data\":{\"barpolar\":[{\"marker\":{\"line\":{\"color\":\"white\",\"width\":0.5},\"pattern\":{\"fillmode\":\"overlay\",\"size\":10,\"solidity\":0.2}},\"type\":\"barpolar\"}],\"bar\":[{\"error_x\":{\"color\":\"rgb(36,36,36)\"},\"error_y\":{\"color\":\"rgb(36,36,36)\"},\"marker\":{\"line\":{\"color\":\"white\",\"width\":0.5},\"pattern\":{\"fillmode\":\"overlay\",\"size\":10,\"solidity\":0.2}},\"type\":\"bar\"}],\"carpet\":[{\"aaxis\":{\"endlinecolor\":\"rgb(36,36,36)\",\"gridcolor\":\"white\",\"linecolor\":\"white\",\"minorgridcolor\":\"white\",\"startlinecolor\":\"rgb(36,36,36)\"},\"baxis\":{\"endlinecolor\":\"rgb(36,36,36)\",\"gridcolor\":\"white\",\"linecolor\":\"white\",\"minorgridcolor\":\"white\",\"startlinecolor\":\"rgb(36,36,36)\"},\"type\":\"carpet\"}],\"choropleth\":[{\"colorbar\":{\"outlinewidth\":1,\"tickcolor\":\"rgb(36,36,36)\",\"ticks\":\"outside\"},\"type\":\"choropleth\"}],\"contourcarpet\":[{\"colorbar\":{\"outlinewidth\":1,\"tickcolor\":\"rgb(36,36,36)\",\"ticks\":\"outside\"},\"type\":\"contourcarpet\"}],\"contour\":[{\"colorbar\":{\"outlinewidth\":1,\"tickcolor\":\"rgb(36,36,36)\",\"ticks\":\"outside\"},\"colorscale\":[[0.0,\"#440154\"],[0.1111111111111111,\"#482878\"],[0.2222222222222222,\"#3e4989\"],[0.3333333333333333,\"#31688e\"],[0.4444444444444444,\"#26828e\"],[0.5555555555555556,\"#1f9e89\"],[0.6666666666666666,\"#35b779\"],[0.7777777777777778,\"#6ece58\"],[0.8888888888888888,\"#b5de2b\"],[1.0,\"#fde725\"]],\"type\":\"contour\"}],\"heatmapgl\":[{\"colorbar\":{\"outlinewidth\":1,\"tickcolor\":\"rgb(36,36,36)\",\"ticks\":\"outside\"},\"colorscale\":[[0.0,\"#440154\"],[0.1111111111111111,\"#482878\"],[0.2222222222222222,\"#3e4989\"],[0.3333333333333333,\"#31688e\"],[0.4444444444444444,\"#26828e\"],[0.5555555555555556,\"#1f9e89\"],[0.6666666666666666,\"#35b779\"],[0.7777777777777778,\"#6ece58\"],[0.8888888888888888,\"#b5de2b\"],[1.0,\"#fde725\"]],\"type\":\"heatmapgl\"}],\"heatmap\":[{\"colorbar\":{\"outlinewidth\":1,\"tickcolor\":\"rgb(36,36,36)\",\"ticks\":\"outside\"},\"colorscale\":[[0.0,\"#440154\"],[0.1111111111111111,\"#482878\"],[0.2222222222222222,\"#3e4989\"],[0.3333333333333333,\"#31688e\"],[0.4444444444444444,\"#26828e\"],[0.5555555555555556,\"#1f9e89\"],[0.6666666666666666,\"#35b779\"],[0.7777777777777778,\"#6ece58\"],[0.8888888888888888,\"#b5de2b\"],[1.0,\"#fde725\"]],\"type\":\"heatmap\"}],\"histogram2dcontour\":[{\"colorbar\":{\"outlinewidth\":1,\"tickcolor\":\"rgb(36,36,36)\",\"ticks\":\"outside\"},\"colorscale\":[[0.0,\"#440154\"],[0.1111111111111111,\"#482878\"],[0.2222222222222222,\"#3e4989\"],[0.3333333333333333,\"#31688e\"],[0.4444444444444444,\"#26828e\"],[0.5555555555555556,\"#1f9e89\"],[0.6666666666666666,\"#35b779\"],[0.7777777777777778,\"#6ece58\"],[0.8888888888888888,\"#b5de2b\"],[1.0,\"#fde725\"]],\"type\":\"histogram2dcontour\"}],\"histogram2d\":[{\"colorbar\":{\"outlinewidth\":1,\"tickcolor\":\"rgb(36,36,36)\",\"ticks\":\"outside\"},\"colorscale\":[[0.0,\"#440154\"],[0.1111111111111111,\"#482878\"],[0.2222222222222222,\"#3e4989\"],[0.3333333333333333,\"#31688e\"],[0.4444444444444444,\"#26828e\"],[0.5555555555555556,\"#1f9e89\"],[0.6666666666666666,\"#35b779\"],[0.7777777777777778,\"#6ece58\"],[0.8888888888888888,\"#b5de2b\"],[1.0,\"#fde725\"]],\"type\":\"histogram2d\"}],\"histogram\":[{\"marker\":{\"line\":{\"color\":\"white\",\"width\":0.6}},\"type\":\"histogram\"}],\"mesh3d\":[{\"colorbar\":{\"outlinewidth\":1,\"tickcolor\":\"rgb(36,36,36)\",\"ticks\":\"outside\"},\"type\":\"mesh3d\"}],\"parcoords\":[{\"line\":{\"colorbar\":{\"outlinewidth\":1,\"tickcolor\":\"rgb(36,36,36)\",\"ticks\":\"outside\"}},\"type\":\"parcoords\"}],\"pie\":[{\"automargin\":true,\"type\":\"pie\"}],\"scatter3d\":[{\"line\":{\"colorbar\":{\"outlinewidth\":1,\"tickcolor\":\"rgb(36,36,36)\",\"ticks\":\"outside\"}},\"marker\":{\"colorbar\":{\"outlinewidth\":1,\"tickcolor\":\"rgb(36,36,36)\",\"ticks\":\"outside\"}},\"type\":\"scatter3d\"}],\"scattercarpet\":[{\"marker\":{\"colorbar\":{\"outlinewidth\":1,\"tickcolor\":\"rgb(36,36,36)\",\"ticks\":\"outside\"}},\"type\":\"scattercarpet\"}],\"scattergeo\":[{\"marker\":{\"colorbar\":{\"outlinewidth\":1,\"tickcolor\":\"rgb(36,36,36)\",\"ticks\":\"outside\"}},\"type\":\"scattergeo\"}],\"scattergl\":[{\"marker\":{\"colorbar\":{\"outlinewidth\":1,\"tickcolor\":\"rgb(36,36,36)\",\"ticks\":\"outside\"}},\"type\":\"scattergl\"}],\"scattermapbox\":[{\"marker\":{\"colorbar\":{\"outlinewidth\":1,\"tickcolor\":\"rgb(36,36,36)\",\"ticks\":\"outside\"}},\"type\":\"scattermapbox\"}],\"scatterpolargl\":[{\"marker\":{\"colorbar\":{\"outlinewidth\":1,\"tickcolor\":\"rgb(36,36,36)\",\"ticks\":\"outside\"}},\"type\":\"scatterpolargl\"}],\"scatterpolar\":[{\"marker\":{\"colorbar\":{\"outlinewidth\":1,\"tickcolor\":\"rgb(36,36,36)\",\"ticks\":\"outside\"}},\"type\":\"scatterpolar\"}],\"scatter\":[{\"marker\":{\"colorbar\":{\"outlinewidth\":1,\"tickcolor\":\"rgb(36,36,36)\",\"ticks\":\"outside\"}},\"type\":\"scatter\"}],\"scatterternary\":[{\"marker\":{\"colorbar\":{\"outlinewidth\":1,\"tickcolor\":\"rgb(36,36,36)\",\"ticks\":\"outside\"}},\"type\":\"scatterternary\"}],\"surface\":[{\"colorbar\":{\"outlinewidth\":1,\"tickcolor\":\"rgb(36,36,36)\",\"ticks\":\"outside\"},\"colorscale\":[[0.0,\"#440154\"],[0.1111111111111111,\"#482878\"],[0.2222222222222222,\"#3e4989\"],[0.3333333333333333,\"#31688e\"],[0.4444444444444444,\"#26828e\"],[0.5555555555555556,\"#1f9e89\"],[0.6666666666666666,\"#35b779\"],[0.7777777777777778,\"#6ece58\"],[0.8888888888888888,\"#b5de2b\"],[1.0,\"#fde725\"]],\"type\":\"surface\"}],\"table\":[{\"cells\":{\"fill\":{\"color\":\"rgb(237,237,237)\"},\"line\":{\"color\":\"white\"}},\"header\":{\"fill\":{\"color\":\"rgb(217,217,217)\"},\"line\":{\"color\":\"white\"}},\"type\":\"table\"}]},\"layout\":{\"annotationdefaults\":{\"arrowhead\":0,\"arrowwidth\":1},\"autotypenumbers\":\"strict\",\"coloraxis\":{\"colorbar\":{\"outlinewidth\":1,\"tickcolor\":\"rgb(36,36,36)\",\"ticks\":\"outside\"}},\"colorscale\":{\"diverging\":[[0.0,\"rgb(103,0,31)\"],[0.1,\"rgb(178,24,43)\"],[0.2,\"rgb(214,96,77)\"],[0.3,\"rgb(244,165,130)\"],[0.4,\"rgb(253,219,199)\"],[0.5,\"rgb(247,247,247)\"],[0.6,\"rgb(209,229,240)\"],[0.7,\"rgb(146,197,222)\"],[0.8,\"rgb(67,147,195)\"],[0.9,\"rgb(33,102,172)\"],[1.0,\"rgb(5,48,97)\"]],\"sequential\":[[0.0,\"#440154\"],[0.1111111111111111,\"#482878\"],[0.2222222222222222,\"#3e4989\"],[0.3333333333333333,\"#31688e\"],[0.4444444444444444,\"#26828e\"],[0.5555555555555556,\"#1f9e89\"],[0.6666666666666666,\"#35b779\"],[0.7777777777777778,\"#6ece58\"],[0.8888888888888888,\"#b5de2b\"],[1.0,\"#fde725\"]],\"sequentialminus\":[[0.0,\"#440154\"],[0.1111111111111111,\"#482878\"],[0.2222222222222222,\"#3e4989\"],[0.3333333333333333,\"#31688e\"],[0.4444444444444444,\"#26828e\"],[0.5555555555555556,\"#1f9e89\"],[0.6666666666666666,\"#35b779\"],[0.7777777777777778,\"#6ece58\"],[0.8888888888888888,\"#b5de2b\"],[1.0,\"#fde725\"]]},\"colorway\":[\"#1F77B4\",\"#FF7F0E\",\"#2CA02C\",\"#D62728\",\"#9467BD\",\"#8C564B\",\"#E377C2\",\"#7F7F7F\",\"#BCBD22\",\"#17BECF\"],\"font\":{\"color\":\"rgb(36,36,36)\"},\"geo\":{\"bgcolor\":\"white\",\"lakecolor\":\"white\",\"landcolor\":\"white\",\"showlakes\":true,\"showland\":true,\"subunitcolor\":\"white\"},\"hoverlabel\":{\"align\":\"left\"},\"hovermode\":\"closest\",\"mapbox\":{\"style\":\"light\"},\"paper_bgcolor\":\"white\",\"plot_bgcolor\":\"white\",\"polar\":{\"angularaxis\":{\"gridcolor\":\"rgb(232,232,232)\",\"linecolor\":\"rgb(36,36,36)\",\"showgrid\":false,\"showline\":true,\"ticks\":\"outside\"},\"bgcolor\":\"white\",\"radialaxis\":{\"gridcolor\":\"rgb(232,232,232)\",\"linecolor\":\"rgb(36,36,36)\",\"showgrid\":false,\"showline\":true,\"ticks\":\"outside\"}},\"scene\":{\"xaxis\":{\"backgroundcolor\":\"white\",\"gridcolor\":\"rgb(232,232,232)\",\"gridwidth\":2,\"linecolor\":\"rgb(36,36,36)\",\"showbackground\":true,\"showgrid\":false,\"showline\":true,\"ticks\":\"outside\",\"zeroline\":false,\"zerolinecolor\":\"rgb(36,36,36)\"},\"yaxis\":{\"backgroundcolor\":\"white\",\"gridcolor\":\"rgb(232,232,232)\",\"gridwidth\":2,\"linecolor\":\"rgb(36,36,36)\",\"showbackground\":true,\"showgrid\":false,\"showline\":true,\"ticks\":\"outside\",\"zeroline\":false,\"zerolinecolor\":\"rgb(36,36,36)\"},\"zaxis\":{\"backgroundcolor\":\"white\",\"gridcolor\":\"rgb(232,232,232)\",\"gridwidth\":2,\"linecolor\":\"rgb(36,36,36)\",\"showbackground\":true,\"showgrid\":false,\"showline\":true,\"ticks\":\"outside\",\"zeroline\":false,\"zerolinecolor\":\"rgb(36,36,36)\"}},\"shapedefaults\":{\"fillcolor\":\"black\",\"line\":{\"width\":0},\"opacity\":0.3},\"ternary\":{\"aaxis\":{\"gridcolor\":\"rgb(232,232,232)\",\"linecolor\":\"rgb(36,36,36)\",\"showgrid\":false,\"showline\":true,\"ticks\":\"outside\"},\"baxis\":{\"gridcolor\":\"rgb(232,232,232)\",\"linecolor\":\"rgb(36,36,36)\",\"showgrid\":false,\"showline\":true,\"ticks\":\"outside\"},\"bgcolor\":\"white\",\"caxis\":{\"gridcolor\":\"rgb(232,232,232)\",\"linecolor\":\"rgb(36,36,36)\",\"showgrid\":false,\"showline\":true,\"ticks\":\"outside\"}},\"title\":{\"x\":0.05},\"xaxis\":{\"automargin\":true,\"gridcolor\":\"rgb(232,232,232)\",\"linecolor\":\"rgb(36,36,36)\",\"showgrid\":false,\"showline\":true,\"ticks\":\"outside\",\"title\":{\"standoff\":15},\"zeroline\":false,\"zerolinecolor\":\"rgb(36,36,36)\"},\"yaxis\":{\"automargin\":true,\"gridcolor\":\"rgb(232,232,232)\",\"linecolor\":\"rgb(36,36,36)\",\"showgrid\":false,\"showline\":true,\"ticks\":\"outside\",\"title\":{\"standoff\":15},\"zeroline\":false,\"zerolinecolor\":\"rgb(36,36,36)\"}}},\"xaxis\":{\"anchor\":\"y\",\"domain\":[0.0,1.0],\"title\":{\"text\":\"x\"},\"visible\":false},\"yaxis\":{\"anchor\":\"x\",\"domain\":[0.0,1.0],\"title\":{\"text\":\"y\"},\"visible\":false},\"legend\":{\"title\":{\"text\":\"Classification (Label)\"},\"tracegroupgap\":0},\"margin\":{\"t\":0,\"l\":0,\"r\":0,\"b\":0},\"width\":700},                        {\"responsive\": true}                    ).then(function(){\n",
              "                            \n",
              "var gd = document.getElementById('4bb9eddf-6acb-44f1-ad58-c7b4fea83230');\n",
              "var x = new MutationObserver(function (mutations, observer) {{\n",
              "        var display = window.getComputedStyle(gd).display;\n",
              "        if (!display || display === 'none') {{\n",
              "            console.log([gd, 'removed!']);\n",
              "            Plotly.purge(gd);\n",
              "            observer.disconnect();\n",
              "        }}\n",
              "}});\n",
              "\n",
              "// Listen for the removal of the full notebook cells\n",
              "var notebookContainer = gd.closest('#notebook-container');\n",
              "if (notebookContainer) {{\n",
              "    x.observe(notebookContainer, {childList: true});\n",
              "}}\n",
              "\n",
              "// Listen for the clearing of the current output cell\n",
              "var outputEl = gd.closest('.output');\n",
              "if (outputEl) {{\n",
              "    x.observe(outputEl, {childList: true});\n",
              "}}\n",
              "\n",
              "                        })                };                            </script>        </div>\n",
              "</body>\n",
              "</html>"
            ]
          },
          "metadata": {}
        }
      ]
    },
    {
      "cell_type": "markdown",
      "source": [
        "### TRIMAP"
      ],
      "metadata": {
        "id": "KLIFc4s-rnaU"
      }
    },
    {
      "cell_type": "code",
      "source": [
        "X_trimap = trimap.TRIMAP(n_dims=2, n_inliers=15).fit_transform(X)\n",
        "\n",
        "X_trimap[1:4, :]\n",
        "all_data['x'] = X_trimap[:,0]\n",
        "all_data['y'] = X_trimap[:,1]\n",
        "all_data['Ingredients'] = data_ingredients\n",
        "\n",
        "fig = px.scatter(\n",
        "    all_data, \n",
        "    x='x', \n",
        "    y='y', \n",
        "    color='Classification', \n",
        "    template=\"simple_white\",\n",
        "    labels={ \n",
        "      \"Classification\": \"Classification (Label)\"\n",
        "    },\n",
        "    color_discrete_sequence= px.colors.qualitative.Plotly + px.colors.qualitative.Bold,\n",
        "    hover_name=\"Description\",\n",
        "    hover_data={'x':False,\n",
        "                'y':False,  \n",
        "                'Kcal ': [f' {x}' for x in data['Kcal']],\n",
        "                'Serving Size ': [f' {y}' for y in data['Serving Size']],\n",
        "                'Carbohydrate ': [f' {z}' for z in data['Carbohydrate']],\n",
        "                'Sugars ': [f' {a}' for a in data['Sugars']],\n",
        "                'Proteins ': [f' {b}' for b in data['Proteins']],\n",
        "                #'Ingredients':True},\n",
        "                }, \n",
        "    width=800)\n",
        "\n",
        "fig.update_layout(xaxis={'visible': False},\n",
        "                  yaxis={'visible': False},\n",
        "                  legend=dict(font=dict(size=16)),\n",
        "                  margin=dict(l=0,r=0,b=0,t=0))\n",
        "\n",
        "fig.show()\n",
        "fig.write_image('imgs/TRIMAP_ALL.eps', format='eps')"
      ],
      "metadata": {
        "colab": {
          "base_uri": "https://localhost:8080/",
          "height": 542
        },
        "id": "6xwZGth5rqH0",
        "outputId": "57ebb7b5-d045-4507-fd7e-d2c6b458c906"
      },
      "execution_count": 17,
      "outputs": [
        {
          "output_type": "display_data",
          "data": {
            "text/html": [
              "<html>\n",
              "<head><meta charset=\"utf-8\" /></head>\n",
              "<body>\n",
              "    <div>            <script src=\"https://cdnjs.cloudflare.com/ajax/libs/mathjax/2.7.5/MathJax.js?config=TeX-AMS-MML_SVG\"></script><script type=\"text/javascript\">if (window.MathJax) {MathJax.Hub.Config({SVG: {font: \"STIX-Web\"}});}</script>                <script type=\"text/javascript\">window.PlotlyConfig = {MathJaxConfig: 'local'};</script>\n",
              "        <script src=\"https://cdn.plot.ly/plotly-2.8.3.min.js\"></script>                <div id=\"62234d27-e9ed-4fae-a3f2-7c182fecb5af\" class=\"plotly-graph-div\" style=\"height:525px; width:800px;\"></div>            <script type=\"text/javascript\">                                    window.PLOTLYENV=window.PLOTLYENV || {};                                    if (document.getElementById(\"62234d27-e9ed-4fae-a3f2-7c182fecb5af\")) {                    Plotly.newPlot(                        \"62234d27-e9ed-4fae-a3f2-7c182fecb5af\",                        [{\"customdata\":[[\" 168.0\",\" 80.0\",\" 11.0\",\" 0.0\",\" 8.2\"],[\" 234.0\",\" 100.0\",\" 12.0\",\" 0.0\",\" 19.0\"],[\" 146.0\",\" 80.0\",\" 3.7\",\" 0.0\",\" 14.0\"],[\" 166.0\",\" 100.0\",\" 10.0\",\" 0.0\",\" 13.0\"],[\" 166.0\",\" 100.0\",\" 10.0\",\" 0.0\",\" 13.0\"],[\" 178.0\",\" 75.0\",\" 33.0\",\" 0.0\",\" 4.3\"],[\" 158.0\",\" 80.0\",\" 9.3\",\" 0.0\",\" 7.8\"],[\" 77.0\",\" 50.0\",\" 2.1\",\" 0.0\",\" 13.0\"],[\" 188.0\",\" 100.0\",\" 6.0\",\" 0.0\",\" 14.0\"]],\"hovertemplate\":\"<b>%{hovertext}</b><br><br>Classification (Label)=MEAT 2<br>Kcal =%{customdata[0]}<br>Serving Size =%{customdata[1]}<br>Carbohydrate =%{customdata[2]}<br>Sugars =%{customdata[3]}<br>Proteins =%{customdata[4]}<extra></extra>\",\"hovertext\":[\"Carne Mo\\u00edda do Futuro\",\"Almondegas de Soja Vegway\",\"Almondegas Amazonika Mundi\",\"Kibe Incr\\u00edvel Seara\",\"Almondegas Incr\\u00edveis Seara\",\"Almondegas Mr Veggy\",\"Carne Mo\\u00edda Superbom\",\"Carne Vegetal Mo\\u00edda Superbom\",\"Carne Mo\\u00edda Vegetal Verdali\"],\"legendgroup\":\"MEAT 2\",\"marker\":{\"color\":\"#636EFA\",\"symbol\":\"circle\"},\"mode\":\"markers\",\"name\":\"MEAT 2\",\"orientation\":\"v\",\"showlegend\":true,\"x\":[37.582210540771484,52.317073822021484,31.634952545166016,30.960166931152344,45.17546463012695,27.347681045532227,13.51168155670166,30.739341735839844,31.123498916625977],\"xaxis\":\"x\",\"y\":[-1.0823673009872437,27.290122985839844,-2.830627202987671,-2.532485008239746,-12.30494213104248,0.31968167424201965,5.84245491027832,9.61635971069336,1.9865494966506958],\"yaxis\":\"y\",\"type\":\"scatter\"},{\"customdata\":[[\" 168.0\",\" 80.0\",\" 11.0\",\" 0.0\",\" 8.2\"],[\" 150.0\",\" 50.0\",\" 10.0\",\" 0.0\",\" 25.0\"],[\" 150.0\",\" 50.0\",\" 10.0\",\" 0.0\",\" 25.0\"],[\" 62.0\",\" 50.0\",\" 1.0\",\" 0.0\",\" 10.0\"],[\" 62.0\",\" 50.0\",\" 1.0\",\" 0.0\",\" 10.0\"],[\" 115.0\",\" 60.0\",\" 2.8\",\" 0.0\",\" 7.5\"],[\" 115.0\",\" 60.0\",\" 3.1\",\" 0.0\",\" 7.5\"],[\" 121.0\",\" 350.0\",\" 9.3\",\" 0.0\",\" 9.3\"],[\" 88.0\",\" 40.0\",\" 6.0\",\" 0.0\",\" 6.3\"],[\" 129.0\",\" 80.0\",\" 12.0\",\" 0.0\",\" 11.0\"],[\" 203.0\",\" 100.0\",\" 13.0\",\" 0.0\",\" 9.2\"],[\" 64.0\",\" 40.0\",\" 2.7\",\" 0.0\",\" 7.8\"],[\" 26.0\",\" 50.0\",\" 0.5\",\" 0.0\",\" 5.0\"],[\" 22.0\",\" 50.0\",\" 0.5\",\" 0.0\",\" 5.3\"],[\" 53.0\",\" 50.0\",\" 0.0\",\" 0.0\",\" 5.4\"],[\" 63.0\",\" 50.0\",\" 0.2\",\" 0.0\",\" 6.3\"],[\" 144.0\",\" 100.0\",\" 5.0\",\" 0.0\",\" 22.0\"],[\" 119.0\",\" 100.0\",\" 5.0\",\" 0.0\",\" 18.0\"]],\"hovertemplate\":\"<b>%{hovertext}</b><br><br>Classification (Label)=MEAT 3<br>Kcal =%{customdata[0]}<br>Serving Size =%{customdata[1]}<br>Carbohydrate =%{customdata[2]}<br>Sugars =%{customdata[3]}<br>Proteins =%{customdata[4]}<extra></extra>\",\"hovertext\":[\"Carne Mo\\u00edda do Futuro\",\"Fil\\u00e9s Sora Carne Vermelha\",\"Fatias Sora Carne Vermelha\",\"Fil\\u00e9 Pronto Saud\\u00e1vel Sora\",\"Carne Mo\\u00edda Pronto Saud\\u00e1vel Sora\",\"Churrasco Vegabom\",\"Churrasco Aoniondo Vegabom\",\"Carne de Pernil Seara\",\"Alm\\u00f4ndega de Soja Vegana Goshen\",\"Bife de Soja Vegano Goshen\",\"Alm\\u00f4ndega Vegana Superbom\",\"Bife Vegetal Superbom\",\"Escalope ao Molho Caseiro Superbom\",\"Cubinhos ao Molho Mexicano Superbom\",\"Alm\\u00f4ndegas ao Molho Sugo Superbom\",\"Medalh\\u00e3o ao Molho Madeira Superbom\",\"Mignon Verdali\",\"Steak Verdali\"],\"legendgroup\":\"MEAT 3\",\"marker\":{\"color\":\"#EF553B\",\"symbol\":\"circle\"},\"mode\":\"markers\",\"name\":\"MEAT 3\",\"orientation\":\"v\",\"showlegend\":true,\"x\":[36.57251739501953,-32.38432693481445,-32.63938903808594,28.594392776489258,28.547183990478516,28.76535415649414,29.873437881469727,46.08030319213867,27.856748580932617,29.46302032470703,13.55303955078125,22.28160285949707,30.971202850341797,37.80145263671875,32.84004592895508,32.267452239990234,31.863218307495117,31.111356735229492],\"xaxis\":\"x\",\"y\":[-0.3329451084136963,20.737112045288086,19.73836326599121,-0.9187493920326233,-0.8389918208122253,-0.4406978189945221,-0.8834023475646973,-11.917048454284668,17.267562866210938,18.605579376220703,6.2744903564453125,5.332205772399902,-0.8379321098327637,10.076862335205078,7.9733052253723145,9.584299087524414,1.1825588941574097,1.7727830410003662],\"yaxis\":\"y\",\"type\":\"scatter\"},{\"customdata\":[[\" 168.0\",\" 80.0\",\" 11.0\",\" 0.0\",\" 8.2\"],[\" 150.0\",\" 50.0\",\" 10.0\",\" 0.0\",\" 25.0\"],[\" 150.0\",\" 50.0\",\" 10.0\",\" 0.0\",\" 25.0\"],[\" 115.0\",\" 60.0\",\" 2.8\",\" 0.0\",\" 7.5\"],[\" 34.8\",\" 30.0\",\" 2.9\",\" 0.0\",\" 3.8\"],[\" 153.0\",\" 100.0\",\" 12.0\",\" 0.0\",\" 6.0\"],[\" 94.0\",\" 80.0\",\" 3.1\",\" 0.0\",\" 17.0\"],[\" 94.0\",\" 80.0\",\" 3.1\",\" 0.0\",\" 17.0\"],[\" 58.0\",\" 30.0\",\" 2.2\",\" 0.0\",\" 4.8\"],[\" 58.0\",\" 30.0\",\" 2.2\",\" 0.0\",\" 4.8\"],[\" 174.0\",\" 100.0\",\" 6.0\",\" 0.0\",\" 24.0\"],[\" 129.0\",\" 115.0\",\" 5.8\",\" 0.0\",\" 19.0\"],[\" 138.0\",\" 120.0\",\" 8.4\",\" 0.0\",\" 18.0\"]],\"hovertemplate\":\"<b>%{hovertext}</b><br><br>Classification (Label)=POULTRY 3<br>Kcal =%{customdata[0]}<br>Serving Size =%{customdata[1]}<br>Carbohydrate =%{customdata[2]}<br>Sugars =%{customdata[3]}<br>Proteins =%{customdata[4]}<extra></extra>\",\"hovertext\":[\"Frango do Futuro\",\"Fatias Sora Carne Branca\",\"Fil\\u00e9s Sora Carne Branca\",\"Strogonoff de Frango Vegabom\",\"Tiras de Frango New Butchers\",\"Fil\\u00e9 de Frango Desfiado Vegway\",\"Frango Veg e Tal Sadia\",\"Frango Veg e Tal Sadia Desfiado\",\"Peito de Peru de Soja\",\"Peito de Peru de Soja Vegano\",\"Tiras de Ave Verdali\",\"Fil\\u00e9 sem Frango Verdali\",\"Mini Fil\\u00e9 de Frango Verdali\"],\"legendgroup\":\"POULTRY 3\",\"marker\":{\"color\":\"#00CC96\",\"symbol\":\"circle\"},\"mode\":\"markers\",\"name\":\"POULTRY 3\",\"orientation\":\"v\",\"showlegend\":true,\"x\":[35.90255355834961,-32.09409713745117,-32.20701217651367,26.798686981201172,20.619157791137695,51.212039947509766,15.263328552246094,14.590864181518555,29.018953323364258,28.79623794555664,29.87462615966797,31.09251594543457,31.243370056152344],\"xaxis\":\"x\",\"y\":[-1.4593267440795898,19.552474975585938,20.889545440673828,0.6143177151679993,-13.918821334838867,27.69119644165039,5.200850486755371,4.60098123550415,20.79737091064453,21.3004150390625,-1.586241602897644,1.2592140436172485,-0.23721778392791748],\"yaxis\":\"y\",\"type\":\"scatter\"},{\"customdata\":[[\" 139.0\",\" 50.0\",\" 7.7\",\" 0.0\",\" 5.7\"],[\" 78.0\",\" 35.0\",\" 6.0\",\" 0.0\",\" 4.0\"],[\" 78.0\",\" 35.0\",\" 6.0\",\" 0.0\",\" 4.0\"],[\" 156.0\",\" 65.0\",\" 8.0\",\" 0.0\",\" 11.0\"],[\" 115.0\",\" 80.0\",\" 3.6\",\" 0.0\",\" 9.7\"],[\" 44.0\",\" 30.0\",\" 0.5\",\" 0.0\",\" 5.1\"],[\" 58.0\",\" 30.0\",\" 1.7\",\" 0.0\",\" 5.1\"],[\" 93.0\",\" 50.0\",\" 1.9\",\" 0.0\",\" 8.1\"],[\" 58.0\",\" 30.0\",\" 4.3\",\" 0.0\",\" 2.4\"],[\" 96.0\",\" 50.0\",\" 1.8\",\" 0.0\",\" 8.8\"],[\" 60.0\",\" 40.0\",\" 1.4\",\" 0.0\",\" 7.6\"],[\" 43.0\",\" 40.0\",\" 1.8\",\" 0.0\",\" 4.9\"]],\"hovertemplate\":\"<b>%{hovertext}</b><br><br>Classification (Label)=PORK 1<br>Kcal =%{customdata[0]}<br>Serving Size =%{customdata[1]}<br>Carbohydrate =%{customdata[2]}<br>Sugars =%{customdata[3]}<br>Proteins =%{customdata[4]}<extra></extra>\",\"hovertext\":[\"Lingui\\u00e7a do Futuro\",\"Lingui\\u00e7a calabresa vegabom\",\"saltsicha de chickpea Vegabom\",\"Vegway Soy Sausage\",\"saltsichas Incriveis Seara\",\"Lingui\\u00e7a Apimentada de Soja Goshen\",\"Lingui\\u00e7a Calabresa de Soja Goshen\",\"Lingui\\u00e7a de Soja Vegana Goshen\",\"Lingui\\u00e7a Toscana de Soja Goshen\",\"saltsicha de Soja Vegana Goshen\",\"saltsicha Vegetal Superbom\",\"saltsicha Vegetal Defumada Superbom\"],\"legendgroup\":\"PORK 1\",\"marker\":{\"color\":\"#AB63FA\",\"symbol\":\"circle\"},\"mode\":\"markers\",\"name\":\"PORK 1\",\"orientation\":\"v\",\"showlegend\":true,\"x\":[35.768653869628906,24.654638290405273,24.322467803955078,51.45644760131836,45.48619842529297,29.242708206176758,28.89075469970703,29.167329788208008,29.137298583984375,29.186487197875977,30.638092041015625,30.470348358154297],\"xaxis\":\"x\",\"y\":[-0.18159498274326324,2.8810617923736572,2.307175874710083,27.575626373291016,-12.836302757263184,19.769826889038086,21.724384307861328,19.764726638793945,20.27898597717285,19.900571823120117,12.110332489013672,11.91267204284668],\"yaxis\":\"y\",\"type\":\"scatter\"},{\"customdata\":[[\" 118.0\",\" 50.0\",\" 2.8\",\" 0.0\",\" 7.0\"],[\" 78.0\",\" 50.0\",\" 5.3\",\" 0.0\",\" 8.9\"],[\" 140.0\",\" 120.0\",\" 25.0\",\" 0.0\",\" 6.1\"],[\" 128.0\",\" 60.0\",\" 19.0\",\" 0.0\",\" 5.1\"],[\" 253.0\",\" 113.0\",\" 42.0\",\" 0.0\",\" 17.0\"],[\" 90.0\",\" 80.0\",\" 4.8\",\" 0.0\",\" 11.0\"],[\" 187.0\",\" 80.0\",\" 10.0\",\" 0.0\",\" 9.8\"],[\" 158.0\",\" 113.5\",\" 8.7\",\" 0.0\",\" 15.0\"],[\" 206.0\",\" 100.0\",\" 4.1\",\" 0.0\",\" 13.0\"],[\" 420.0\",\" 100.0\",\" 4.4\",\" 0.0\",\" 28.0\"],[\" 209.0\",\" 115.0\",\" 5.3\",\" 0.0\",\" 20.0\"],[\" 114.0\",\" 60.0\",\" 4.5\",\" 0.0\",\" 7.6\"],[\" 170.0\",\" 80.0\",\" 4.6\",\" 0.0\",\" 12.0\"],[\" 134.0\",\" 60.0\",\" 5.9\",\" 0.0\",\" 7.3\"],[\" 237.0\",\" 134.0\",\" 29.0\",\" 0.0\",\" 16.0\"],[\" 115.0\",\" 60.0\",\" 13.0\",\" 0.0\",\" 8.9\"],[\" 118.0\",\" 60.0\",\" 11.0\",\" 0.0\",\" 6.0\"],[\" 118.0\",\" 60.0\",\" 11.0\",\" 0.0\",\" 6.0\"],[\" 197.0\",\" 80.0\",\" 10.0\",\" 0.0\",\" 11.0\"],[\" 309.0\",\" 115.0\",\" 45.0\",\" 0.0\",\" 7.0\"],[\" 127.0\",\" 90.0\",\" 23.0\",\" 0.0\",\" 3.1\"],[\" 150.0\",\" 50.0\",\" 10.0\",\" 0.0\",\" 25.0\"],[\" 120.0\",\" 90.0\",\" 17.0\",\" 0.0\",\" 5.4\"],[\" 171.0\",\" 90.0\",\" 28.0\",\" 0.0\",\" 3.4\"],[\" 196.0\",\" 100.0\",\" 9.7\",\" 0.0\",\" 19.0\"],[\" 146.0\",\" 63.0\",\" 7.0\",\" 0.0\",\" 12.3\"],[\" 80.0\",\" 70.0\",\" 4.4\",\" 0.0\",\" 8.2\"],[\" 301.0\",\" 67.0\",\" 40.0\",\" 0.0\",\" 8.9\"],[\" 192.0\",\" 90.0\",\" 26.0\",\" 0.0\",\" 7.7\"],[\" 210.0\",\" 90.0\",\" 29.0\",\" 0.0\",\" 10.0\"],[\" 110.0\",\" 60.0\",\" 8.9\",\" 0.0\",\" 4.3\"],[\" 62.0\",\" 50.0\",\" 1.0\",\" 0.0\",\" 10.0\"],[\" 266.0\",\" 80.0\",\" 26.0\",\" 0.0\",\" 27.0\"],[\" 266.0\",\" 80.0\",\" 26.0\",\" 0.0\",\" 27.0\"]],\"hovertemplate\":\"<b>%{hovertext}</b><br><br>Classification (Label)=MEAT 1<br>Kcal =%{customdata[0]}<br>Serving Size =%{customdata[1]}<br>Carbohydrate =%{customdata[2]}<br>Sugars =%{customdata[3]}<br>Proteins =%{customdata[4]}<extra></extra>\",\"hovertext\":[\"Hamburguer de Soja Goshen\",\"Hamburguer de Soja Vegano Goshen\",\"Hamburguer de Quinoa Mr Veggy\",\"Hamburguer de lentil Mr Veggy\",\"Hamburguer vegano falafel amazonika mundi\",\"Hamburguer Vegetal Verdali\",\"VegBurger Sabor Carne\",\"Burger Gourmet Superbom\",\"Hamburguer Incr\\u00edvel Seara\",\"Not Burguer Notco\",\"Hamburguer de Fibra de Caju Amazonika Mundi\",\"Hamburguer Vegabom\",\"Hamburguer de Carne Veg  e Tal Sadia\",\"Hamburger New Butchers\",\"Hamburguer de Legumes Mr Veggy\",\"Hamburguer Vegetariano Mr Veggy\",\"Hambuguer Mr Veggy Mari Mari\",\"Hambuguer Mr Veggy Mari Mari Churrrasco\",\"Hamb\\u00farguer Fazenda Futuro 2.0\",\"Hamb\\u00farguer Vegano de Quinoa Amazonika Mundi\",\"Hamburguer Veggie Roots Tempero Indiano\",\"Hamb\\u00farguer Sora Carne Vermelha \",\"Hamburguer Veggie Roots brazilianspices\",\"Hamburguer veggie roots tempero mexicano\",\"Hamburguer de Soja Sabor Carne Vegway\",\"Hamb\\u00farguer de Soja Empanado Vegway\",\"Hamburguer Vegetal Superbom\",\"Hamburguer de chickpea Mr Veggy\",\"Hamburguer Veggie Roots Tempero \\u00c1rabe\",\"Hamburguer Veggie Roots Tempero Tailand\\u00eas\",\"Hamburguer Vegabom\",\"Hamb\\u00farguer Pronto Saud\\u00e1vel Sora\",\"hamburguer vegetal com herbs jasmine\",\"Hamburguer Vegetal Tradicional Jasmine\"],\"legendgroup\":\"MEAT 1\",\"marker\":{\"color\":\"#FFA15A\",\"symbol\":\"circle\"},\"mode\":\"markers\",\"name\":\"MEAT 1\",\"orientation\":\"v\",\"showlegend\":true,\"x\":[29.251672744750977,27.181087493896484,27.39019203186035,30.341039657592773,18.581052780151367,34.227882385253906,34.74567794799805,11.939959526062012,45.73640060424805,13.369887351989746,31.456085205078125,23.376218795776367,32.990482330322266,33.81180953979492,20.84299659729004,20.678743362426758,18.752870559692383,19.614486694335938,36.42469787597656,27.546051025390625,28.87497329711914,-31.87080955505371,30.07032012939453,32.15513229370117,51.49026870727539,50.02754592895508,34.248714447021484,24.54446029663086,31.560518264770508,31.331941604614258,22.55422592163086,28.713590621948242,-6.536207675933838,-5.91001033782959],\"xaxis\":\"x\",\"y\":[16.15265655517578,16.723642349243164,-3.035736322402954,-2.5034983158111572,0.03598066419363022,-3.0676751136779785,-4.478569030761719,6.326927185058594,-12.665487289428711,3.4833130836486816,-3.0364267826080322,2.384690761566162,-5.109854698181152,-3.7693464756011963,9.949542999267578,10.127795219421387,9.078165054321289,9.852884292602539,-1.2242616415023804,-3.321014165878296,-2.246211290359497,19.976335525512695,-2.799212694168091,-3.1204490661621094,27.223159790039062,27.106800079345703,8.630969047546387,0.5265649557113647,-2.8952043056488037,-2.666060447692871,4.881188869476318,-1.1210482120513916,23.264484405517578,21.75552749633789],\"yaxis\":\"y\",\"type\":\"scatter\"},{\"customdata\":[[\" 150.0\",\" 50.0\",\" 10.0\",\" 0.0\",\" 25.0\"],[\" 189.0\",\" 80.0\",\" 11.0\",\" 0.0\",\" 9.8\"],[\" 173.0\",\" 80.0\",\" 3.6\",\" 0.0\",\" 13.0\"],[\" 129.0\",\" 100.0\",\" 2.4\",\" 0.0\",\" 7.0\"],[\" 96.0\",\" 80.0\",\" 4.8\",\" 0.0\",\" 11.0\"]],\"hovertemplate\":\"<b>%{hovertext}</b><br><br>Classification (Label)=POULTRY 2<br>Kcal =%{customdata[0]}<br>Serving Size =%{customdata[1]}<br>Carbohydrate =%{customdata[2]}<br>Sugars =%{customdata[3]}<br>Proteins =%{customdata[4]}<extra></extra>\",\"hovertext\":[\"Hamb\\u00farguer Sora Carne Branca\",\"VegBurger Sabor Frango\",\"Hambuguer Incr\\u00edvel Seara Frango\",\"Frango Vegano em Peda\\u00e7os \\u00e0 Base de pea\",\"Hamb\\u00farguer de Frango Verdali\"],\"legendgroup\":\"POULTRY 2\",\"marker\":{\"color\":\"#19D3F3\",\"symbol\":\"circle\"},\"mode\":\"markers\",\"name\":\"POULTRY 2\",\"orientation\":\"v\",\"showlegend\":true,\"x\":[-31.802488327026367,34.777198791503906,45.122291564941406,15.656692504882812,31.496782302856445],\"xaxis\":\"x\",\"y\":[19.81277084350586,-4.605466842651367,-12.542908668518066,5.980883598327637,-0.6787945032119751],\"yaxis\":\"y\",\"type\":\"scatter\"},{\"customdata\":[[\" 116.0\",\" 60.0\",\" 2.9\",\" 0.0\",\" 7.9\"],[\" 116.0\",\" 60.0\",\" 2.9\",\" 0.0\",\" 7.9\"],[\" 198.0\",\" 100.0\",\" 14.0\",\" 0.0\",\" 15.0\"],[\" 449.0\",\" 130.0\",\" 31.0\",\" 0.0\",\" 12.0\"],[\" 291.0\",\" 130.0\",\" 29.0\",\" 0.0\",\" 17.0\"],[\" 127.0\",\" 40.0\",\" 4.9\",\" 0.0\",\" 6.5\"],[\" 94.0\",\" 40.0\",\" 3.4\",\" 0.0\",\" 6.7\"],[\" 61.0\",\" 40.0\",\" 3.0\",\" 0.0\",\" 7.2\"],[\" 330.0\",\" 130.0\",\" 32.0\",\" 0.0\",\" 13.0\"],[\" 210.0\",\" 80.0\",\" 32.0\",\" 0.0\",\" 8.0\"],[\" 178.0\",\" 130.0\",\" 21.5\",\" 0.0\",\" 13.4\"],[\" 110.0\",\" 80.0\",\" 13.0\",\" 0.0\",\" 8.5\"],[\" 188.0\",\" 100.0\",\" 24.0\",\" 0.0\",\" 13.0\"],[\" 188.0\",\" 100.0\",\" 24.0\",\" 0.0\",\" 13.0\"]],\"hovertemplate\":\"<b>%{hovertext}</b><br><br>Classification (Label)=POULTRY 1<br>Kcal =%{customdata[0]}<br>Serving Size =%{customdata[1]}<br>Carbohydrate =%{customdata[2]}<br>Sugars =%{customdata[3]}<br>Proteins =%{customdata[4]}<extra></extra>\",\"hovertext\":[\"Empanado de Frango Vegabom\",\"Fil\\u00e9 de Frango Empanado Vegabom\",\"Empanados de Frango Vegway\",\"Empanados Incr\\u00edveis Seara\",\"Empanados Sadia Veg e Tal\",\"Empanadinho de Soja  Goshen\",\"Empanadinho de Soja Vegano  Goshen\",\"Steak de Soja Vegano Goshen\",\"Empanado Vegano (Mini Crispy) 100 Foods\",\"Crispy Chicken 100 Foods\",\"Mini Empanado de Legumes Superbom\",\"Steak Vegan Sabor Legumes Superbom\",\"Steak Veg\\u00ea Sabor Frango\",\"Steak Veg\\u00ea Sabor Frango Empanado\"],\"legendgroup\":\"POULTRY 1\",\"marker\":{\"color\":\"#FF6692\",\"symbol\":\"circle\"},\"mode\":\"markers\",\"name\":\"POULTRY 1\",\"orientation\":\"v\",\"showlegend\":true,\"x\":[24.397714614868164,24.362403869628906,52.56279373168945,40.01186752319336,41.24362564086914,29.590675354003906,28.377357482910156,29.605531692504883,39.335838317871094,39.707401275634766,16.322481155395508,15.880590438842773,-29.885719299316406,-27.077613830566406],\"xaxis\":\"x\",\"y\":[2.7090647220611572,2.6633565425872803,27.248498916625977,-8.079072952270508,-8.982060432434082,18.720401763916016,15.19291877746582,18.535600662231445,-8.886502265930176,-7.167242050170898,5.954186916351318,6.0017523765563965,13.700543403625488,11.386752128601074],\"yaxis\":\"y\",\"type\":\"scatter\"},{\"customdata\":[[\" 116.0\",\" 60.0\",\" 3.6\",\" 0.0\",\" 7.5\"],[\" 116.0\",\" 60.0\",\" 3.6\",\" 0.0\",\" 7.5\"],[\" 206.0\",\" 100.0\",\" 28.0\",\" 0.0\",\" 8.0\"],[\" 41.0\",\" 40.0\",\" 7.0\",\" 0.0\",\" 1.6\"],[\" 82.0\",\" 30.0\",\" 3.5\",\" 0.0\",\" 4.0\"]],\"hovertemplate\":\"<b>%{hovertext}</b><br><br>Classification (Label)=FISH 2<br>Kcal =%{customdata[0]}<br>Serving Size =%{customdata[1]}<br>Carbohydrate =%{customdata[2]}<br>Sugars =%{customdata[3]}<br>Proteins =%{customdata[4]}<extra></extra>\",\"hovertext\":[\"Fil\\u00e9 Peixe Empanado Vegabom\",\"Tirinhas de Peixe Empanado Vegabom\",\"Bolinho de Bacalhau New Butchers\",\"Bolinho de Siri Amazonika Mundi\",\"Camar\\u00e3o de Soja Vegano Goshen\"],\"legendgroup\":\"FISH 2\",\"marker\":{\"color\":\"#B6E880\",\"symbol\":\"circle\"},\"mode\":\"markers\",\"name\":\"FISH 2\",\"orientation\":\"v\",\"showlegend\":true,\"x\":[24.549579620361328,24.35654067993164,29.720552444458008,28.438106536865234,29.12799835205078],\"xaxis\":\"x\",\"y\":[2.855215549468994,2.8687169551849365,-10.390987396240234,-1.549952745437622,20.78348159790039],\"yaxis\":\"y\",\"type\":\"scatter\"},{\"customdata\":[[\" 124.0\",\" 50.0\",\" 5.1\",\" 0.0\",\" 0.0\"],[\" 124.0\",\" 50.0\",\" 5.1\",\" 0.0\",\" 0.0\"],[\" 124.0\",\" 50.0\",\" 5.1\",\" 0.0\",\" 0.0\"],[\" 31.0\",\" 10.0\",\" 0.6\",\" 0.0\",\" 0.3\"],[\" 25.0\",\" 10.0\",\" 0.7\",\" 0.0\",\" 0.3\"],[\" 29.0\",\" 10.0\",\" 0.7\",\" 0.0\",\" 0.3\"],[\" 30.0\",\" 10.0\",\" 0.7\",\" 0.0\",\" 0.3\"],[\" 178.0\",\" 100.0\",\" 8.7\",\" 0.0\",\" 8.4\"],[\" 178.0\",\" 100.0\",\" 8.7\",\" 0.0\",\" 8.4\"],[\" 280.0\",\" 100.0\",\" 23.3\",\" 0.0\",\" 3.0\"],[\" 170.0\",\" 100.0\",\" 6.0\",\" 0.0\",\" 4.7\"],[\" 170.0\",\" 100.0\",\" 6.0\",\" 0.0\",\" 4.7\"],[\" 82.0\",\" 30.0\",\" 2.7\",\" 0.0\",\" 1.5\"],[\" 83.0\",\" 30.0\",\" 2.9\",\" 0.0\",\" 1.5\"],[\" 95.0\",\" 30.0\",\" 9.1\",\" 0.0\",\" 2.0\"],[\" 89.0\",\" 30.0\",\" 8.2\",\" 0.0\",\" 1.9\"],[\" 93.0\",\" 30.0\",\" 8.8\",\" 0.0\",\" 1.9\"],[\" 83.0\",\" 30.0\",\" 2.3\",\" 0.0\",\" 1.6\"],[\" 83.0\",\" 30.0\",\" 2.3\",\" 0.0\",\" 1.6\"],[\" 83.0\",\" 30.0\",\" 2.3\",\" 0.0\",\" 1.6\"],[\" 581.0\",\" 100.0\",\" 30.2\",\" 0.0\",\" 18.2\"],[\" 581.0\",\" 100.0\",\" 30.2\",\" 0.0\",\" 18.2\"],[\" 59.0\",\" 30.0\",\" 2.0\",\" 0.0\",\" 0.9\"],[\" 43.0\",\" 30.0\",\" 1.2\",\" 0.0\",\" 0.8\"],[\" 100.0\",\" 30.0\",\" 5.4\",\" 0.0\",\" 2.9\"],[\" 43.0\",\" 30.0\",\" 1.2\",\" 0.0\",\" 0.8\"],[\" 394.0\",\" 100.0\",\" 23.0\",\" 0.0\",\" 13.0\"],[\" 30.0\",\" 12.0\",\" 3.0\",\" 0.0\",\" 0.7\"],[\" 62.8\",\" 20.0\",\" 3.6\",\" 0.0\",\" 2.0\"],[\" 57.1\",\" 20.0\",\" 3.4\",\" 0.0\",\" 1.9\"],[\" 68.4\",\" 20.0\",\" 3.8\",\" 0.0\",\" 2.1\"],[\" 62.8\",\" 20.0\",\" 3.6\",\" 0.0\",\" 2.0\"],[\" 89.0\",\" 30.0\",\" 6.4\",\" 0.0\",\" 0.0\"],[\" 72.0\",\" 30.0\",\" 2.9\",\" 0.0\",\" 1.0\"],[\" 58.0\",\" 30.0\",\" 3.5\",\" 0.0\",\" 1.0\"],[\" 71.0\",\" 30.0\",\" 2.8\",\" 0.0\",\" 0.9\"],[\" 78.0\",\" 30.0\",\" 3.4\",\" 0.0\",\" 1.0\"],[\" 76.0\",\" 30.0\",\" 3.4\",\" 0.0\",\" 0.9\"],[\" 36.0\",\" 15.0\",\" 1.0\",\" 0.0\",\" 0.3\"],[\" 38.0\",\" 10.0\",\" 0.8\",\" 0.0\",\" 0.3\"],[\" 51.0\",\" 15.0\",\" 3.8\",\" 0.0\",\" 0.7\"],[\" 36.0\",\" 15.0\",\" 1.2\",\" 0.0\",\" 0.4\"],[\" 47.0\",\" 15.0\",\" 2.8\",\" 0.0\",\" 0.1\"],[\" 47.0\",\" 15.0\",\" 2.8\",\" 0.0\",\" 0.1\"],[\" 49.0\",\" 15.0\",\" 3.1\",\" 0.0\",\" 0.1\"]],\"hovertemplate\":\"<b>%{hovertext}</b><br><br>Classification (Label)=DAIRY 3<br>Kcal =%{customdata[0]}<br>Serving Size =%{customdata[1]}<br>Carbohydrate =%{customdata[2]}<br>Sugars =%{customdata[3]}<br>Proteins =%{customdata[4]}<extra></extra>\",\"hovertext\":[\"Queijo Mu\\u00e7arela Vegabom\",\"Queijo Picante Vegabom\",\"Queijo Cheddar Vegabom\",\"Requeisoy Provolone \",\"Requeisoy Cheddar' \",\"Requeisoy Tradicional\",\"Requeisoy Gorgonzola\",\"Okeijo R\\u00fastico\",\"Okeijo Cremoso\",\"Okeijo Gratinado\",\"Okeijo Mussarela\",\"Okeijo Provolone\",\"Creme s Vida Veg\",\"Creme s fineherbs e Pesto\",\"Queijo mu\\u00e7arela\",\"Queijo minas frescal\",\"Queijo minas padr\\u00e3o\",\"Requeij\\u00e3o Tradicional\",\"Requeij\\u00e3o fineherbs\",\"Requeij\\u00e3o Defumado\",\"Queijo Zimurisku \",\"Queijo Zimurisku Temperado\",\"Queijo Mozarela NoMoo\",\"Queijo Provolone\",\"Queijo Ch\\u00e9vre\",\"Queijo Prato\",\"Queijo Parmes\\u00e3o\",\"Requeij\\u00e3o Nomoo\",\"Queijo Gorgolino\",\"Queijo Melhor Que Cheddar\",\"Queijo Recaishow\",\"Queijo Brie\",\"Mussarela Vegana Goshen\",\"Queijo ProVolone Veganita\",\"Queijo Munster Veganita\",\"Queijo Brie Veganita\",\"Queijo Mussarela Veganita\",\"Queijo Cheddar Veganita\",\"CREAM CHEESE CULIN\\u00c1RIO BASI.CO\",\"REQUEIJ\\u00c3O VEGETAL\",\"QUEIJO PARMES\\u00c3O\",\"QUEIJO MINAS VEGETAL\",\"QUEIJO PRATO\",\"QUEIJO MU\\u00c7ARELA\",\"QUEIJO CHEDDAR\"],\"legendgroup\":\"DAIRY 3\",\"marker\":{\"color\":\"#FF97FF\",\"symbol\":\"circle\"},\"mode\":\"markers\",\"name\":\"DAIRY 3\",\"orientation\":\"v\",\"showlegend\":true,\"x\":[6.8499274253845215,8.452377319335938,8.048955917358398,10.626762390136719,10.753434181213379,9.734452247619629,10.079052925109863,6.977593421936035,20.510860443115234,5.608826160430908,5.5312180519104,5.109711170196533,-18.107099533081055,-18.34700584411621,-18.081554412841797,-18.368131637573242,-18.027469635009766,-16.515491485595703,-16.9530029296875,-17.761478424072266,-13.795955657958984,-12.858846664428711,-9.110071182250977,-8.815896034240723,-10.142508506774902,-10.38576889038086,-9.45057201385498,-8.188648223876953,-7.582507133483887,-14.168909072875977,-7.366419315338135,-11.233360290527344,-14.788092613220215,-9.873847007751465,-9.789953231811523,-9.162866592407227,-10.24187183380127,-10.48758602142334,-18.18405532836914,-20.636384963989258,-16.869638442993164,-19.17124366760254,-17.706636428833008,-17.968751907348633,-19.901363372802734],\"xaxis\":\"x\",\"y\":[1.071368932723999,-1.5575817823410034,-1.4820177555084229,-3.4146885871887207,-3.3914732933044434,-4.550333499908447,-4.106969356536865,2.039400100708008,-1.7380980253219604,2.881634473800659,5.409722328186035,3.9616072177886963,-3.271571159362793,-2.4221503734588623,-1.798521876335144,-3.3718879222869873,-2.7910187244415283,-4.776671409606934,-4.815795421600342,-3.8053250312805176,4.883776664733887,6.309172630310059,7.832679748535156,7.375308990478516,7.671496391296387,7.069005966186523,7.442044258117676,6.8078813552856445,6.492816925048828,2.4383368492126465,6.707305908203125,7.244534969329834,-0.4570308029651642,8.043084144592285,8.017419815063477,7.726760387420654,8.165756225585938,7.9910783767700195,0.0662214383482933,-1.1197433471679688,2.218062162399292,-0.013591553084552288,-2.138923168182373,-2.1102614402770996,-0.9161882400512695],\"yaxis\":\"y\",\"type\":\"scatter\"},{\"customdata\":[[\" 146.0\",\" 90.0\",\" 12.1\",\" 0.0\",\" 11.9\"],[\" 327.0\",\" 240.0\",\" 41.0\",\" 0.0\",\" 11.0\"],[\" 317.0\",\" 100.0\",\" 17.0\",\" 0.0\",\" 13.0\"],[\" 153.0\",\" 100.0\",\" 12.0\",\" 0.0\",\" 6.0\"],[\" 138.0\",\" 100.0\",\" 19.0\",\" 0.0\",\" 2.0\"],[\" 304.0\",\" 300.0\",\" 19.0\",\" 0.0\",\" 21.0\"],[\" 440.0\",\" 130.0\",\" 31.0\",\" 0.0\",\" 12.0\"],[\" 166.0\",\" 80.0\",\" 7.1\",\" 0.0\",\" 12.0\"]],\"hovertemplate\":\"<b>%{hovertext}</b><br><br>Classification (Label)=FISH 1<br>Kcal =%{customdata[0]}<br>Serving Size =%{customdata[1]}<br>Carbohydrate =%{customdata[2]}<br>Sugars =%{customdata[3]}<br>Proteins =%{customdata[4]}<extra></extra>\",\"hovertext\":[\"Fil\\u00e9 de saltm\\u00e3o New Butchers\",\"Bacalhau New  Butchers\",\"Isca de Peixe Vegway\",\"Fil\\u00e9 de Peixe Vegway\",\"Vieira de Soja Vegway\",\"Bacalhau Incr\\u00edvel Seara\",\"Iscas de Peixe Incr\\u00edvel Seara\",\"Atum do Futuro\"],\"legendgroup\":\"FISH 1\",\"marker\":{\"color\":\"#FECB52\",\"symbol\":\"circle\"},\"mode\":\"markers\",\"name\":\"FISH 1\",\"orientation\":\"v\",\"showlegend\":true,\"x\":[21.474273681640625,30.57199478149414,52.8173942565918,52.12464904785156,50.04997253417969,45.30021286010742,42.23081588745117,30.211687088012695],\"xaxis\":\"x\",\"y\":[-13.027057647705078,-8.42619514465332,27.670564651489258,27.399477005004883,27.574167251586914,-12.292840957641602,-9.640457153320312,-1.198182463645935],\"yaxis\":\"y\",\"type\":\"scatter\"},{\"customdata\":[[\" 78.0\",\" 40.0\",\" 3.9\",\" 0.0\",\" 7.4\"],[\" 185.0\",\" 60.0\",\" 31.0\",\" 0.0\",\" 1.1\"],[\" 34.0\",\" 20.0\",\" 0.2\",\" 0.0\",\" 3.4\"],[\" 75.0\",\" 40.0\",\" 3.6\",\" 0.0\",\" 7.6\"],[\" 35.0\",\" 20.0\",\" 0.4\",\" 0.0\",\" 3.9\"],[\" 476.0\",\" 100.0\",\" 14.0\",\" 0.0\",\" 42.0\"]],\"hovertemplate\":\"<b>%{hovertext}</b><br><br>Classification (Label)=PORK 2<br>Kcal =%{customdata[0]}<br>Serving Size =%{customdata[1]}<br>Carbohydrate =%{customdata[2]}<br>Sugars =%{customdata[3]}<br>Proteins =%{customdata[4]}<extra></extra>\",\"hovertext\":[\"Presunto de Soja Vegway\",\"Bacon Vegano\",\"Mortadela de Soja Vegana Goshen\",\"Presunto de Soja Defumado\",\"Presunto de Soja Vegano Fatiado Goshen\",\"Bacon Crispy Verdali\"],\"legendgroup\":\"PORK 2\",\"marker\":{\"color\":\"rgb(127, 60, 141)\",\"symbol\":\"circle\"},\"mode\":\"markers\",\"name\":\"PORK 2\",\"orientation\":\"v\",\"showlegend\":true,\"x\":[52.6827392578125,3.43295955657959,28.54714012145996,27.61956214904785,28.90097427368164,30.642662048339844],\"xaxis\":\"x\",\"y\":[27.747373580932617,4.87816858291626,21.889238357543945,17.300495147705078,22.04033088684082,1.0433954000473022],\"yaxis\":\"y\",\"type\":\"scatter\"},{\"customdata\":[[\" 92.0\",\" 250.0\",\" 3.7\",\" 2.0\",\" 3.2\"],[\" 60.0\",\" 250.0\",\" 3.4\",\" 2.0\",\" 3.2\"],[\" 68.0\",\" 200.0\",\" 0.9\",\" 0.0\",\" 3.0\"],[\" 53.0\",\" 200.0\",\" 0.0\",\" 0.0\",\" 3.0\"],[\" 70.0\",\" 200.0\",\" 1.0\",\" 0.0\",\" 3.0\"],[\" 88.0\",\" 200.0\",\" 4.0\",\" 0.0\",\" 3.0\"],[\" 58.0\",\" 200.0\",\" 0.8\",\" 0.0\",\" 3.0\"],[\" 108.0\",\" 200.0\",\" 13.0\",\" 0.0\",\" 1.1\"],[\" 145.0\",\" 200.0\",\" 18.0\",\" 0.0\",\" 1.5\"],[\" 117.0\",\" 200.0\",\" 27.0\",\" 10.0\",\" 0.0\"],[\" 111.0\",\" 200.0\",\" 20.0\",\" 9.4\",\" 0.0\"],[\" 117.0\",\" 200.0\",\" 27.0\",\" 10.0\",\" 1.0\"],[\" 145.0\",\" 200.0\",\" 18.0\",\" 0.0\",\" 1.5\"],[\" 117.0\",\" 200.0\",\" 27.0\",\" 10.0\",\" 0.0\"],[\" 134.0\",\" 200.0\",\" 27.0\",\" 10.0\",\" 4.6\"],[\" 72.0\",\" 200.0\",\" 11.0\",\" 8.9\",\" 1.1\"],[\" 113.0\",\" 200.0\",\" 7.5\",\" 6.7\",\" 7.0\"],[\" 79.0\",\" 200.0\",\" 12.0\",\" 10.0\",\" 1.2\"],[\" 91.0\",\" 200.0\",\" 15.0\",\" 10.0\",\" 1.1\"],[\" 84.0\",\" 200.0\",\" 16.0\",\" 9.4\",\" 2.0\"],[\" 104.0\",\" 260.0\",\" 20.0\",\" 12.0\",\" 3.0\"],[\" 79.0\",\" 25.0\",\" 8.6\",\" 3.1\",\" 7.3\"],[\" 73.0\",\" 25.0\",\" 11.0\",\" 3.2\",\" 5.0\"],[\" 120.0\",\" 200.0\",\" 15.0\",\" 11.0\",\" 4.8\"],[\" 97.0\",\" 200.0\",\" 8.4\",\" 5.9\",\" 2.3\"],[\" 66.0\",\" 200.0\",\" 10.0\",\" 7.3\",\" 2.7\"],[\" 99.0\",\" 200.0\",\" 16.0\",\" 11.5\",\" 4.1\"],[\" 104.0\",\" 200.0\",\" 18.0\",\" 12.6\",\" 3.6\"],[\" 82.0\",\" 200.0\",\" 14.0\",\" 8.8\",\" 3.3\"],[\" 97.0\",\" 200.0\",\" 8.4\",\" 5.9\",\" 2.3\"],[\" 51.0\",\" 200.0\",\" 6.3\",\" 6.3\",\" 0.9\"],[\" 98.0\",\" 200.0\",\" 17.0\",\" 17.0\",\" 1.3\"],[\" 70.0\",\" 200.0\",\" 11.0\",\" 11.0\",\" 0.9\"],[\" 30.0\",\" 200.0\",\" 0.9\",\" 0.9\",\" 0.9\"],[\" 58.0\",\" 200.0\",\" 8.5\",\" 0.0\",\" 0.9\"],[\" 44.0\",\" 250.0\",\" 1.4\",\" 1.4\",\" 1.6\"],[\" 21.0\",\" 200.0\",\" 4.7\",\" 0.0\",\" 1.0\"],[\" 48.0\",\" 200.0\",\" 6.8\",\" 4.0\",\" 6.8\"],[\" 59.0\",\" 200.0\",\" 7.5\",\" 0.0\",\" 0.9\"],[\" 84.0\",\" 200.0\",\" 15.0\",\" 0.0\",\" 1.2\"],[\" 55.0\",\" 200.0\",\" 4.7\",\" 0.0\",\" 0.0\"],[\" 74.0\",\" 200.0\",\" 15.0\",\" 0.0\",\" 0.0\"],[\" 74.0\",\" 200.0\",\" 15.0\",\" 0.0\",\" 0.0\"],[\" 74.0\",\" 200.0\",\" 15.0\",\" 0.0\",\" 0.0\"],[\" 74.0\",\" 200.0\",\" 15.0\",\" 0.0\",\" 0.0\"],[\" 74.0\",\" 200.0\",\" 15.0\",\" 0.0\",\" 0.0\"],[\" 74.0\",\" 200.0\",\" 15.0\",\" 0.0\",\" 0.0\"],[\" 74.0\",\" 200.0\",\" 15.0\",\" 0.0\",\" 0.0\"],[\" 114.0\",\" 30.0\",\" 25.0\",\" 0.0\",\" 2.0\"],[\" 114.0\",\" 30.0\",\" 25.0\",\" 0.0\",\" 2.0\"],[\" 114.0\",\" 30.0\",\" 25.0\",\" 0.0\",\" 2.0\"],[\" 114.0\",\" 30.0\",\" 25.0\",\" 0.0\",\" 2.0\"],[\" 114.0\",\" 30.0\",\" 25.0\",\" 0.0\",\" 2.0\"],[\" 78.0\",\" 200.0\",\" 8.5\",\" 2.8\",\" 2.4\"],[\" 90.0\",\" 200.0\",\" 3.0\",\" 0.9\",\" 3.0\"],[\" 80.0\",\" 200.0\",\" 3.1\",\" 0.8\",\" 2.0\"],[\" 57.0\",\" 200.0\",\" 1.7\",\" 0.4\",\" 1.9\"],[\" 150.0\",\" 200.0\",\" 18.0\",\" 0.0\",\" 3.0\"],[\" 75.0\",\" 200.0\",\" 16.0\",\" 6.3\",\" 0.0\"],[\" 100.0\",\" 200.0\",\" 2.3\",\" 0.8\",\" 7.0\"],[\" 80.0\",\" 200.0\",\" 3.3\",\" 0.9\",\" 2.1\"],[\" 109.0\",\" 200.0\",\" 3.1\",\" 0.1\",\" 5.4\"],[\" 29.0\",\" 200.0\",\" 0.7\",\" 0.0\",\" 0.7\"],[\" 36.0\",\" 200.0\",\" 1.3\",\" 0.0\",\" 1.3\"],[\" 23.0\",\" 200.0\",\" 4.0\",\" 0.0\",\" 0.8\"],[\" 82.0\",\" 200.0\",\" 2.2\",\" 0.4\",\" 1.6\"],[\" 106.0\",\" 200.0\",\" 3.0\",\" 0.5\",\" 3.0\"],[\" 86.0\",\" 200.0\",\" 3.0\",\" 0.5\",\" 3.0\"],[\" 41.0\",\" 200.0\",\" 5.0\",\" 4.2\",\" 0.8\"],[\" 80.0\",\" 200.0\",\" 12.0\",\" 9.3\",\" 1.5\"],[\" 26.0\",\" 200.0\",\" 1.0\",\" 0.3\",\" 0.7\"],[\" 27.0\",\" 200.0\",\" 1.0\",\" 0.2\",\" 0.8\"],[\" 71.0\",\" 200.0\",\" 11.0\",\" 8.9\",\" 1.1\"],[\" 99.0\",\" 200.0\",\" 14.0\",\" 9.6\",\" 2.2\"],[\" 106.0\",\" 200.0\",\" 19.0\",\" 17.0\",\" 2.2\"],[\" 93.0\",\" 200.0\",\" 16.0\",\" 8.9\",\" 1.1\"],[\" 95.0\",\" 200.0\",\" 12.0\",\" 0.0\",\" 5.4\"],[\" 123.0\",\" 200.0\",\" 4.8\",\" 0.0\",\" 5.1\"],[\" 108.0\",\" 200.0\",\" 5.4\",\" 0.0\",\" 3.8\"],[\" 84.0\",\" 200.0\",\" 3.9\",\" 0.0\",\" 2.8\"]],\"hovertemplate\":\"<b>%{hovertext}</b><br><br>Classification (Label)=DAIRY 1<br>Kcal =%{customdata[0]}<br>Serving Size =%{customdata[1]}<br>Carbohydrate =%{customdata[2]}<br>Sugars =%{customdata[3]}<br>Proteins =%{customdata[4]}<extra></extra>\",\"hovertext\":[\"Not Milk \",\"Not Milk Semidesnatado\",\" Vegetal de almonds\",\" vegetal \",\" Vegetal de almonds Fresco\",\" Vegetal  de Caj\\u00fa Fresco\",\" Vegetal  Fresco\",\" Vegetal Noats Original\",\" Vegetal Noats Barista\",\" Jasmine rice em P\\u00f3\",\" BIOV jasmine rice com amendoas\",\" BIOV jasmine rice com coco\",\" BioV oats Jasmine\",\" Jasmine rice \",\" Jasmine rice com oats\",\"Bebida de rice Nesfit\",\"Bebida Natural Nesfit\",\"Bebida de rice  e Amendoas Nesfit\",\"Bebida de rice e Coco Nesfit\",\"Bebida de oats Nesfit\",\"Bebida de oats e cocoa\",\"Molico Vegetal Nestl\\u00e9\",\"Ninho Vegetal Nestl\\u00e9\",\"Ninho Banana e apple Nestl\\u00e9\",\"Nude Edi\\u00e7\\u00e3o Barista\",\"Nude Original \",\"Nude Sabor Baunilha\",\"Nude de cocoa\",\"Nude + calcium\",\"Nude Barista\",\"Almond Breeze Original\",\"Almond Breeze Chocolate\",\"Almond Breeze Baunilha\",\"Almond Breeze Sem sugar\",\"Almond Breeze Amendoas com Coco\",\"Almond Breeze Chocolate Sem sugar\",\" de Amendoas Silk Sem sugar\",\" de Amendoas Silk \",\" cashews Silk\",\" de almonds e cocoa Silk\",\" de almonds Silk Coco\",\"Bebida de rice L\\u00edquida Sabor Original\",\"Bebida de rice L\\u00edquida Sabor almonds\",\"Bebida de rice L\\u00edquida Sabor peanuts\\n\",\"Bebida de rice L\\u00edquida Sabor cashews\",\"Bebida de rice L\\u00edquida Sabor Chocolate\",\"Bebida de rice L\\u00edquida Sabor Coco\",\"Bebida de rice L\\u00edquida Sabor Baunilha\",\"Bebida de rice Em P\\u00f3 Sabor Original\",\"Bebida de rice Em P\\u00f3 Sabor Original\",\"Bebida de rice Em P\\u00f3 Sabor Banana e apple\",\"Bebida de rice Em P\\u00f3 Sabor Chocolate\",\"Bebida de rice Em P\\u00f3 Sabor strawberries\",\" a tal da castanha barista\",\" a tal da castanha original\",\" a tal da castanha caju + Coco\",\" a tal da castanha almonds\",\" a tal da castanha castanha + cocoa\",\" a tal da castanha oats\",\" a tal da castanha mixed nuts\",\" a tal da castanha caju + Par\\u00e1\",\" a tal da castanha caju + peanuts\",\" Natuterra oats + Coco\",\" de almonds Natuterra\",\" Natuterra oats \",\" Vegetal 3 Nuts \\u2013 macadamianuts, almonds e cashews\",\" Vegetal de macadamianuts e Coco\",\" Vegetal de macadamianuts e cashews\",\" Vegetal Possible Foods\",\" Vegetal Possible Foods Chocolate\",\"Bebida de castanh de caj\\u00fa sem adi\\u00e7\\u00e3o de sugar nature's heart\",\"Bebida de almonds s/ adi\\u00e7\\u00e3o de sugares 1L \\u2013 Nature\\u2019s Heart\",\"Bebida de rice s/ adi\\u00e7\\u00e3o de sugares 1L \\u2013 Nature\\u2019s Heart\",\"Bebida de oats s/ adi\\u00e7\\u00e3o de sugares 1L \\u2013 Nature\\u2019s Heart\",\"Bebida de cocoa & rice 1L \\u2013 Nature\\u2019s Heart\",\"Bebida  & rice s/ adi\\u00e7\\u00e3o de sugares 1L \\u2013 Nature\\u2019s Heart\",\" Vegetal de soy Naturis Batavo\",\" DUOLAT peanuts E CASTANHA 1L - CAJUEIRO\",\" 85 CASTANHAS 1L - CAJUEIRO\",\" TOASTED 1L - CAJUEIRO\"],\"legendgroup\":\"DAIRY 1\",\"marker\":{\"color\":\"rgb(17, 165, 121)\",\"symbol\":\"circle\"},\"mode\":\"markers\",\"name\":\"DAIRY 1\",\"orientation\":\"v\",\"showlegend\":true,\"x\":[-24.24967384338379,-24.78904151916504,-25.001277923583984,-24.937639236450195,-24.480682373046875,-24.76405906677246,-24.342634201049805,-61.732173919677734,-59.0362663269043,-29.294145584106445,-69.8615493774414,-29.773408889770508,-56.28068923950195,-29.338125228881836,-31.368864059448242,-30.15578842163086,-38.5993537902832,-31.32012939453125,-31.68505859375,-31.498125076293945,-31.458412170410156,-37.569644927978516,-37.21721649169922,-37.056270599365234,-32.04248809814453,-60.5963134765625,-61.67562484741211,-61.95347595214844,-64.47450256347656,-31.65795135498047,-36.46757507324219,-36.44902038574219,-36.80425262451172,-36.76020431518555,-36.83418655395508,-36.37060546875,-32.32229995727539,-32.67896270751953,-31.545703887939453,-32.1799430847168,-32.766395568847656,-30.923948287963867,-28.484439849853516,-28.466413497924805,-28.705318450927734,-28.84837532043457,-30.05750274658203,-29.575698852539062,-30.368114471435547,-29.793012619018555,-27.920787811279297,-27.31127166748047,-27.879974365234375,-66.05657196044922,-76.09143829345703,-81.72687530517578,-76.32438659667969,-81.30709075927734,-70.23917388916016,-67.44829559326172,-80.60816192626953,-81.19975280761719,-25.360254287719727,-29.093734741210938,-28.85953712463379,-82.68949127197266,-80.79130554199219,-81.3141098022461,-32.84545135498047,-33.29053497314453,-33.38340759277344,-33.82889938354492,-32.694183349609375,-33.54428482055664,-33.13804244995117,-32.3839111328125,-30.203201293945312,-81.86651611328125,-75.97968292236328,-76.4260025024414],\"xaxis\":\"x\",\"y\":[-9.616883277893066,-9.6123046875,-17.280197143554688,-16.81412124633789,-17.352214813232422,-16.27541732788086,-16.92176628112793,-9.115957260131836,-9.79796028137207,1.2913264036178589,-7.699357986450195,2.3378827571868896,-9.069579124450684,2.9802887439727783,1.8673614263534546,-4.535281658172607,-6.69713830947876,-4.818914413452148,-5.62795877456665,-4.356640815734863,-4.451416969299316,-2.8874239921569824,-2.2667062282562256,-5.127301216125488,-9.113344192504883,-9.200997352600098,-9.63381576538086,-9.474152565002441,-8.964943885803223,-9.275422096252441,-12.53805923461914,-12.011587142944336,-12.751888275146484,-11.762789726257324,-12.515104293823242,-12.260502815246582,-13.42180347442627,-13.67982292175293,-14.251799583435059,-13.82300090789795,-13.588438987731934,-4.057812213897705,-3.2126221656799316,-3.5597751140594482,-3.97702956199646,-4.330267906188965,-4.129934787750244,-3.7273576259613037,11.772627830505371,10.62359619140625,7.355371952056885,5.602053642272949,6.402204513549805,-8.847949028015137,-3.3880341053009033,-6.072078704833984,-3.474074125289917,-6.018986701965332,-7.498050689697266,-6.684596538543701,-6.1233696937561035,-6.006731986999512,-16.512723922729492,-15.015053749084473,-15.417935371398926,-6.030458450317383,-5.859544277191162,-6.075364589691162,-10.766536712646484,-10.786717414855957,-8.480581283569336,-8.725855827331543,-7.0026164054870605,-7.642865180969238,-7.651819229125977,-6.652535915374756,-14.625916481018066,-5.905529022216797,-3.599889039993286,-3.1920158863067627],\"yaxis\":\"y\",\"type\":\"scatter\"},{\"customdata\":[[\" 142.0\",\" 200.0\",\" 22.0\",\" 0.0\",\" 0.8\"],[\" 149.0\",\" 200.0\",\" 24.0\",\" 0.0\",\" 0.8\"],[\" 149.0\",\" 200.0\",\" 24.0\",\" 0.0\",\" 0.8\"],[\" 92.0\",\" 200.0\",\" 6.4\",\" 0.0\",\" 0.9\"],[\" 100.0\",\" 200.0\",\" 8.2\",\" 0.0\",\" 1.0\"],[\" 145.0\",\" 150.0\",\" 20.0\",\" 0.0\",\" 1.0\"],[\" 148.0\",\" 150.0\",\" 21.0\",\" 0.0\",\" 1.0\"],[\" 156.0\",\" 250.0\",\" 11.7\",\" 0.0\",\" 14.0\"],[\" 123.0\",\" 250.0\",\" 11.0\",\" 0.0\",\" 10.0\"],[\" 152.0\",\" 250.0\",\" 11.0\",\" 0.0\",\" 14.0\"],[\" 27.0\",\" 15.0\",\" 0.0\",\" 0.0\",\" 0.0\"]],\"hovertemplate\":\"<b>%{hovertext}</b><br><br>Classification (Label)=DAIRY 2<br>Kcal =%{customdata[0]}<br>Serving Size =%{customdata[1]}<br>Carbohydrate =%{customdata[2]}<br>Sugars =%{customdata[3]}<br>Proteins =%{customdata[4]}<extra></extra>\",\"hovertext\":[\"Iogurte \",\"Iogurte  com strawberries\",\"Iogurte  com banana, apple e papaya\",\"Iogurte  Zero sugar\",\"Iogurte  com strawberries Zero sugar\",\"Iogurte GregoVeg \",\"Iogurte GregoVeg  com strawberries\",\"Iogurte Proteico 14g sabor strawberries\",\"Shake \",\"Iogurte Proteico 14g sabor  peanuts\",\"Creme de almonds\"],\"legendgroup\":\"DAIRY 2\",\"marker\":{\"color\":\"rgb(57, 105, 172)\",\"symbol\":\"circle\"},\"mode\":\"markers\",\"name\":\"DAIRY 2\",\"orientation\":\"v\",\"showlegend\":true,\"x\":[-16.280292510986328,-14.4064302444458,-13.295378684997559,-16.465879440307617,-15.002267837524414,-15.394895553588867,-15.317046165466309,-17.413705825805664,-24.998292922973633,-17.9390869140625,-33.35044860839844],\"xaxis\":\"x\",\"y\":[-14.511759757995605,-15.470420837402344,-15.566837310791016,-14.785157203674316,-14.948179244995117,-14.47861385345459,-14.575417518615723,-17.96855926513672,-16.3218994140625,-18.941509246826172,6.125470161437988],\"yaxis\":\"y\",\"type\":\"scatter\"},{\"customdata\":[[\" 28.0\",\" 12.0\",\" 1.4\",\" 0.0\",\" 2.5\"],[\" 20.0\",\" 12.0\",\" 0.0\",\" 0.0\",\" 0.0\"],[\" 70.0\",\" 12.0\",\" 0.0\",\" 0.0\",\" 0.0\"],[\" 71.0\",\" 12.0\",\" 0.6\",\" 0.0\",\" 0.0\"],[\" 57.0\",\" 12.0\",\" 0.6\",\" 0.0\",\" 0.0\"],[\" 56.0\",\" 12.0\",\" 0.6\",\" 0.0\",\" 0.0\"],[\" 33.0\",\" 12.0\",\" 0.6\",\" 0.0\",\" 0.4\"],[\" 33.0\",\" 12.0\",\" 0.6\",\" 0.0\",\" 0.4\"],[\" 33.0\",\" 12.0\",\" 0.6\",\" 0.0\",\" 0.4\"],[\" 33.0\",\" 12.0\",\" 0.6\",\" 0.0\",\" 0.4\"],[\" 33.0\",\" 12.0\",\" 0.6\",\" 0.0\",\" 0.4\"],[\" 25.0\",\" 12.0\",\" 0.0\",\" 0.0\",\" 0.0\"],[\" 21.0\",\" 12.0\",\" 0.0\",\" 0.0\",\" 0.0\"],[\" 84.0\",\" 40.0\",\" 5.2\",\" 0.0\",\" 0.5\"]],\"hovertemplate\":\"<b>%{hovertext}</b><br><br>Classification (Label)=EGG 1<br>Kcal =%{customdata[0]}<br>Serving Size =%{customdata[1]}<br>Carbohydrate =%{customdata[2]}<br>Sugars =%{customdata[3]}<br>Proteins =%{customdata[4]}<extra></extra>\",\"hovertext\":[\"MAIONESE VEGETAL SUPERBOM\",\"MAIONESE FUGINI\",\"NOT MAYO\",\"NOT MAYO garlic\",\"NOT MAYO AZEITONA\",\"NOT MAYO PICANTE\",\"MAIONESE V-MAYO\",\"MAIONESE V-MAYO ApepperDA\",\"MAIONESE V-MAYO TRUFADA\",\"MAIONESE V-MAYO DE ABACATE\",\"MAIONESE V-MAYO DE garlic\",\"MAIONESE HELLMANS\",\"MAIONESE VEGANA FUGINI\",\"MAIONESE DEL\\u00cdCIAS DE GOI\\u00c1S\"],\"legendgroup\":\"EGG 1\",\"marker\":{\"color\":\"rgb(242, 183, 1)\",\"symbol\":\"circle\"},\"mode\":\"markers\",\"name\":\"EGG 1\",\"orientation\":\"v\",\"showlegend\":true,\"x\":[15.734240531921387,-6.5880327224731445,18.133831024169922,19.19861602783203,18.016584396362305,19.913259506225586,24.171831130981445,24.069272994995117,23.94927978515625,23.970552444458008,23.872447967529297,19.985546112060547,20.878076553344727,7.313620567321777],\"xaxis\":\"x\",\"y\":[-4.478614330291748,-9.865159034729004,-3.2203938961029053,-4.055886268615723,-3.4022579193115234,-3.9775357246398926,-8.559196472167969,-8.449975967407227,-8.686894416809082,-8.857781410217285,-8.219403266906738,-3.5525949001312256,-8.124770164489746,1.994513750076294],\"yaxis\":\"y\",\"type\":\"scatter\"},{\"customdata\":[[\" 25.0\",\" 10.0\",\" 3.3\",\" 0.0\",\" 4.1\"],[\" 28.0\",\" 7.0\",\" 1.2\",\" 0.0\",\" 3.1\"]],\"hovertemplate\":\"<b>%{hovertext}</b><br><br>Classification (Label)=EGG 2<br>Kcal =%{customdata[0]}<br>Serving Size =%{customdata[1]}<br>Carbohydrate =%{customdata[2]}<br>Sugars =%{customdata[3]}<br>Proteins =%{customdata[4]}<extra></extra>\",\"hovertext\":[\"Ovos Novos\",\"Ovos Novos\"],\"legendgroup\":\"EGG 2\",\"marker\":{\"color\":\"rgb(231, 63, 116)\",\"symbol\":\"circle\"},\"mode\":\"markers\",\"name\":\"EGG 2\",\"orientation\":\"v\",\"showlegend\":true,\"x\":[-34.823551177978516,-33.4879264831543],\"xaxis\":\"x\",\"y\":[16.552169799804688,16.176584243774414],\"yaxis\":\"y\",\"type\":\"scatter\"}],                        {\"template\":{\"data\":{\"barpolar\":[{\"marker\":{\"line\":{\"color\":\"white\",\"width\":0.5},\"pattern\":{\"fillmode\":\"overlay\",\"size\":10,\"solidity\":0.2}},\"type\":\"barpolar\"}],\"bar\":[{\"error_x\":{\"color\":\"rgb(36,36,36)\"},\"error_y\":{\"color\":\"rgb(36,36,36)\"},\"marker\":{\"line\":{\"color\":\"white\",\"width\":0.5},\"pattern\":{\"fillmode\":\"overlay\",\"size\":10,\"solidity\":0.2}},\"type\":\"bar\"}],\"carpet\":[{\"aaxis\":{\"endlinecolor\":\"rgb(36,36,36)\",\"gridcolor\":\"white\",\"linecolor\":\"white\",\"minorgridcolor\":\"white\",\"startlinecolor\":\"rgb(36,36,36)\"},\"baxis\":{\"endlinecolor\":\"rgb(36,36,36)\",\"gridcolor\":\"white\",\"linecolor\":\"white\",\"minorgridcolor\":\"white\",\"startlinecolor\":\"rgb(36,36,36)\"},\"type\":\"carpet\"}],\"choropleth\":[{\"colorbar\":{\"outlinewidth\":1,\"tickcolor\":\"rgb(36,36,36)\",\"ticks\":\"outside\"},\"type\":\"choropleth\"}],\"contourcarpet\":[{\"colorbar\":{\"outlinewidth\":1,\"tickcolor\":\"rgb(36,36,36)\",\"ticks\":\"outside\"},\"type\":\"contourcarpet\"}],\"contour\":[{\"colorbar\":{\"outlinewidth\":1,\"tickcolor\":\"rgb(36,36,36)\",\"ticks\":\"outside\"},\"colorscale\":[[0.0,\"#440154\"],[0.1111111111111111,\"#482878\"],[0.2222222222222222,\"#3e4989\"],[0.3333333333333333,\"#31688e\"],[0.4444444444444444,\"#26828e\"],[0.5555555555555556,\"#1f9e89\"],[0.6666666666666666,\"#35b779\"],[0.7777777777777778,\"#6ece58\"],[0.8888888888888888,\"#b5de2b\"],[1.0,\"#fde725\"]],\"type\":\"contour\"}],\"heatmapgl\":[{\"colorbar\":{\"outlinewidth\":1,\"tickcolor\":\"rgb(36,36,36)\",\"ticks\":\"outside\"},\"colorscale\":[[0.0,\"#440154\"],[0.1111111111111111,\"#482878\"],[0.2222222222222222,\"#3e4989\"],[0.3333333333333333,\"#31688e\"],[0.4444444444444444,\"#26828e\"],[0.5555555555555556,\"#1f9e89\"],[0.6666666666666666,\"#35b779\"],[0.7777777777777778,\"#6ece58\"],[0.8888888888888888,\"#b5de2b\"],[1.0,\"#fde725\"]],\"type\":\"heatmapgl\"}],\"heatmap\":[{\"colorbar\":{\"outlinewidth\":1,\"tickcolor\":\"rgb(36,36,36)\",\"ticks\":\"outside\"},\"colorscale\":[[0.0,\"#440154\"],[0.1111111111111111,\"#482878\"],[0.2222222222222222,\"#3e4989\"],[0.3333333333333333,\"#31688e\"],[0.4444444444444444,\"#26828e\"],[0.5555555555555556,\"#1f9e89\"],[0.6666666666666666,\"#35b779\"],[0.7777777777777778,\"#6ece58\"],[0.8888888888888888,\"#b5de2b\"],[1.0,\"#fde725\"]],\"type\":\"heatmap\"}],\"histogram2dcontour\":[{\"colorbar\":{\"outlinewidth\":1,\"tickcolor\":\"rgb(36,36,36)\",\"ticks\":\"outside\"},\"colorscale\":[[0.0,\"#440154\"],[0.1111111111111111,\"#482878\"],[0.2222222222222222,\"#3e4989\"],[0.3333333333333333,\"#31688e\"],[0.4444444444444444,\"#26828e\"],[0.5555555555555556,\"#1f9e89\"],[0.6666666666666666,\"#35b779\"],[0.7777777777777778,\"#6ece58\"],[0.8888888888888888,\"#b5de2b\"],[1.0,\"#fde725\"]],\"type\":\"histogram2dcontour\"}],\"histogram2d\":[{\"colorbar\":{\"outlinewidth\":1,\"tickcolor\":\"rgb(36,36,36)\",\"ticks\":\"outside\"},\"colorscale\":[[0.0,\"#440154\"],[0.1111111111111111,\"#482878\"],[0.2222222222222222,\"#3e4989\"],[0.3333333333333333,\"#31688e\"],[0.4444444444444444,\"#26828e\"],[0.5555555555555556,\"#1f9e89\"],[0.6666666666666666,\"#35b779\"],[0.7777777777777778,\"#6ece58\"],[0.8888888888888888,\"#b5de2b\"],[1.0,\"#fde725\"]],\"type\":\"histogram2d\"}],\"histogram\":[{\"marker\":{\"line\":{\"color\":\"white\",\"width\":0.6}},\"type\":\"histogram\"}],\"mesh3d\":[{\"colorbar\":{\"outlinewidth\":1,\"tickcolor\":\"rgb(36,36,36)\",\"ticks\":\"outside\"},\"type\":\"mesh3d\"}],\"parcoords\":[{\"line\":{\"colorbar\":{\"outlinewidth\":1,\"tickcolor\":\"rgb(36,36,36)\",\"ticks\":\"outside\"}},\"type\":\"parcoords\"}],\"pie\":[{\"automargin\":true,\"type\":\"pie\"}],\"scatter3d\":[{\"line\":{\"colorbar\":{\"outlinewidth\":1,\"tickcolor\":\"rgb(36,36,36)\",\"ticks\":\"outside\"}},\"marker\":{\"colorbar\":{\"outlinewidth\":1,\"tickcolor\":\"rgb(36,36,36)\",\"ticks\":\"outside\"}},\"type\":\"scatter3d\"}],\"scattercarpet\":[{\"marker\":{\"colorbar\":{\"outlinewidth\":1,\"tickcolor\":\"rgb(36,36,36)\",\"ticks\":\"outside\"}},\"type\":\"scattercarpet\"}],\"scattergeo\":[{\"marker\":{\"colorbar\":{\"outlinewidth\":1,\"tickcolor\":\"rgb(36,36,36)\",\"ticks\":\"outside\"}},\"type\":\"scattergeo\"}],\"scattergl\":[{\"marker\":{\"colorbar\":{\"outlinewidth\":1,\"tickcolor\":\"rgb(36,36,36)\",\"ticks\":\"outside\"}},\"type\":\"scattergl\"}],\"scattermapbox\":[{\"marker\":{\"colorbar\":{\"outlinewidth\":1,\"tickcolor\":\"rgb(36,36,36)\",\"ticks\":\"outside\"}},\"type\":\"scattermapbox\"}],\"scatterpolargl\":[{\"marker\":{\"colorbar\":{\"outlinewidth\":1,\"tickcolor\":\"rgb(36,36,36)\",\"ticks\":\"outside\"}},\"type\":\"scatterpolargl\"}],\"scatterpolar\":[{\"marker\":{\"colorbar\":{\"outlinewidth\":1,\"tickcolor\":\"rgb(36,36,36)\",\"ticks\":\"outside\"}},\"type\":\"scatterpolar\"}],\"scatter\":[{\"marker\":{\"colorbar\":{\"outlinewidth\":1,\"tickcolor\":\"rgb(36,36,36)\",\"ticks\":\"outside\"}},\"type\":\"scatter\"}],\"scatterternary\":[{\"marker\":{\"colorbar\":{\"outlinewidth\":1,\"tickcolor\":\"rgb(36,36,36)\",\"ticks\":\"outside\"}},\"type\":\"scatterternary\"}],\"surface\":[{\"colorbar\":{\"outlinewidth\":1,\"tickcolor\":\"rgb(36,36,36)\",\"ticks\":\"outside\"},\"colorscale\":[[0.0,\"#440154\"],[0.1111111111111111,\"#482878\"],[0.2222222222222222,\"#3e4989\"],[0.3333333333333333,\"#31688e\"],[0.4444444444444444,\"#26828e\"],[0.5555555555555556,\"#1f9e89\"],[0.6666666666666666,\"#35b779\"],[0.7777777777777778,\"#6ece58\"],[0.8888888888888888,\"#b5de2b\"],[1.0,\"#fde725\"]],\"type\":\"surface\"}],\"table\":[{\"cells\":{\"fill\":{\"color\":\"rgb(237,237,237)\"},\"line\":{\"color\":\"white\"}},\"header\":{\"fill\":{\"color\":\"rgb(217,217,217)\"},\"line\":{\"color\":\"white\"}},\"type\":\"table\"}]},\"layout\":{\"annotationdefaults\":{\"arrowhead\":0,\"arrowwidth\":1},\"autotypenumbers\":\"strict\",\"coloraxis\":{\"colorbar\":{\"outlinewidth\":1,\"tickcolor\":\"rgb(36,36,36)\",\"ticks\":\"outside\"}},\"colorscale\":{\"diverging\":[[0.0,\"rgb(103,0,31)\"],[0.1,\"rgb(178,24,43)\"],[0.2,\"rgb(214,96,77)\"],[0.3,\"rgb(244,165,130)\"],[0.4,\"rgb(253,219,199)\"],[0.5,\"rgb(247,247,247)\"],[0.6,\"rgb(209,229,240)\"],[0.7,\"rgb(146,197,222)\"],[0.8,\"rgb(67,147,195)\"],[0.9,\"rgb(33,102,172)\"],[1.0,\"rgb(5,48,97)\"]],\"sequential\":[[0.0,\"#440154\"],[0.1111111111111111,\"#482878\"],[0.2222222222222222,\"#3e4989\"],[0.3333333333333333,\"#31688e\"],[0.4444444444444444,\"#26828e\"],[0.5555555555555556,\"#1f9e89\"],[0.6666666666666666,\"#35b779\"],[0.7777777777777778,\"#6ece58\"],[0.8888888888888888,\"#b5de2b\"],[1.0,\"#fde725\"]],\"sequentialminus\":[[0.0,\"#440154\"],[0.1111111111111111,\"#482878\"],[0.2222222222222222,\"#3e4989\"],[0.3333333333333333,\"#31688e\"],[0.4444444444444444,\"#26828e\"],[0.5555555555555556,\"#1f9e89\"],[0.6666666666666666,\"#35b779\"],[0.7777777777777778,\"#6ece58\"],[0.8888888888888888,\"#b5de2b\"],[1.0,\"#fde725\"]]},\"colorway\":[\"#1F77B4\",\"#FF7F0E\",\"#2CA02C\",\"#D62728\",\"#9467BD\",\"#8C564B\",\"#E377C2\",\"#7F7F7F\",\"#BCBD22\",\"#17BECF\"],\"font\":{\"color\":\"rgb(36,36,36)\"},\"geo\":{\"bgcolor\":\"white\",\"lakecolor\":\"white\",\"landcolor\":\"white\",\"showlakes\":true,\"showland\":true,\"subunitcolor\":\"white\"},\"hoverlabel\":{\"align\":\"left\"},\"hovermode\":\"closest\",\"mapbox\":{\"style\":\"light\"},\"paper_bgcolor\":\"white\",\"plot_bgcolor\":\"white\",\"polar\":{\"angularaxis\":{\"gridcolor\":\"rgb(232,232,232)\",\"linecolor\":\"rgb(36,36,36)\",\"showgrid\":false,\"showline\":true,\"ticks\":\"outside\"},\"bgcolor\":\"white\",\"radialaxis\":{\"gridcolor\":\"rgb(232,232,232)\",\"linecolor\":\"rgb(36,36,36)\",\"showgrid\":false,\"showline\":true,\"ticks\":\"outside\"}},\"scene\":{\"xaxis\":{\"backgroundcolor\":\"white\",\"gridcolor\":\"rgb(232,232,232)\",\"gridwidth\":2,\"linecolor\":\"rgb(36,36,36)\",\"showbackground\":true,\"showgrid\":false,\"showline\":true,\"ticks\":\"outside\",\"zeroline\":false,\"zerolinecolor\":\"rgb(36,36,36)\"},\"yaxis\":{\"backgroundcolor\":\"white\",\"gridcolor\":\"rgb(232,232,232)\",\"gridwidth\":2,\"linecolor\":\"rgb(36,36,36)\",\"showbackground\":true,\"showgrid\":false,\"showline\":true,\"ticks\":\"outside\",\"zeroline\":false,\"zerolinecolor\":\"rgb(36,36,36)\"},\"zaxis\":{\"backgroundcolor\":\"white\",\"gridcolor\":\"rgb(232,232,232)\",\"gridwidth\":2,\"linecolor\":\"rgb(36,36,36)\",\"showbackground\":true,\"showgrid\":false,\"showline\":true,\"ticks\":\"outside\",\"zeroline\":false,\"zerolinecolor\":\"rgb(36,36,36)\"}},\"shapedefaults\":{\"fillcolor\":\"black\",\"line\":{\"width\":0},\"opacity\":0.3},\"ternary\":{\"aaxis\":{\"gridcolor\":\"rgb(232,232,232)\",\"linecolor\":\"rgb(36,36,36)\",\"showgrid\":false,\"showline\":true,\"ticks\":\"outside\"},\"baxis\":{\"gridcolor\":\"rgb(232,232,232)\",\"linecolor\":\"rgb(36,36,36)\",\"showgrid\":false,\"showline\":true,\"ticks\":\"outside\"},\"bgcolor\":\"white\",\"caxis\":{\"gridcolor\":\"rgb(232,232,232)\",\"linecolor\":\"rgb(36,36,36)\",\"showgrid\":false,\"showline\":true,\"ticks\":\"outside\"}},\"title\":{\"x\":0.05},\"xaxis\":{\"automargin\":true,\"gridcolor\":\"rgb(232,232,232)\",\"linecolor\":\"rgb(36,36,36)\",\"showgrid\":false,\"showline\":true,\"ticks\":\"outside\",\"title\":{\"standoff\":15},\"zeroline\":false,\"zerolinecolor\":\"rgb(36,36,36)\"},\"yaxis\":{\"automargin\":true,\"gridcolor\":\"rgb(232,232,232)\",\"linecolor\":\"rgb(36,36,36)\",\"showgrid\":false,\"showline\":true,\"ticks\":\"outside\",\"title\":{\"standoff\":15},\"zeroline\":false,\"zerolinecolor\":\"rgb(36,36,36)\"}}},\"xaxis\":{\"anchor\":\"y\",\"domain\":[0.0,1.0],\"title\":{\"text\":\"x\"},\"visible\":false},\"yaxis\":{\"anchor\":\"x\",\"domain\":[0.0,1.0],\"title\":{\"text\":\"y\"},\"visible\":false},\"legend\":{\"title\":{\"text\":\"Classification (Label)\"},\"tracegroupgap\":0,\"font\":{\"size\":16}},\"margin\":{\"t\":0,\"l\":0,\"r\":0,\"b\":0},\"width\":800},                        {\"responsive\": true}                    ).then(function(){\n",
              "                            \n",
              "var gd = document.getElementById('62234d27-e9ed-4fae-a3f2-7c182fecb5af');\n",
              "var x = new MutationObserver(function (mutations, observer) {{\n",
              "        var display = window.getComputedStyle(gd).display;\n",
              "        if (!display || display === 'none') {{\n",
              "            console.log([gd, 'removed!']);\n",
              "            Plotly.purge(gd);\n",
              "            observer.disconnect();\n",
              "        }}\n",
              "}});\n",
              "\n",
              "// Listen for the removal of the full notebook cells\n",
              "var notebookContainer = gd.closest('#notebook-container');\n",
              "if (notebookContainer) {{\n",
              "    x.observe(notebookContainer, {childList: true});\n",
              "}}\n",
              "\n",
              "// Listen for the clearing of the current output cell\n",
              "var outputEl = gd.closest('.output');\n",
              "if (outputEl) {{\n",
              "    x.observe(outputEl, {childList: true});\n",
              "}}\n",
              "\n",
              "                        })                };                            </script>        </div>\n",
              "</body>\n",
              "</html>"
            ]
          },
          "metadata": {}
        }
      ]
    },
    {
      "cell_type": "markdown",
      "source": [
        "### Not used in the Article"
      ],
      "metadata": {
        "id": "d9y94CTMSLCo"
      }
    },
    {
      "cell_type": "code",
      "source": [
        "data_ingredients = label_data.join(ingredients_normalized)\n",
        "tsne = TSNE(n_components=2,perplexity=5,learning_rate=350.0,metric='euclidean', init='random')\n",
        "X_tsneI = tsne.fit_transform(X_ingredients)\n",
        "\n",
        "X_tsneI[1:4, :]\n",
        "data_ingredients['x'] = X_tsneI[:,0]\n",
        "data_ingredients['y'] = X_tsneI[:,1]\n",
        "\n",
        "fig = px.scatter(data_ingredients, x='x', y='y', color='Classification', hover_data=[\"Description\"], width=800)\n",
        "fig.show()"
      ],
      "metadata": {
        "colab": {
          "base_uri": "https://localhost:8080/",
          "height": 542
        },
        "id": "iolxIik8ZVws",
        "outputId": "ed68dae3-bee8-494f-e46c-9e0c5629141e"
      },
      "execution_count": 18,
      "outputs": [
        {
          "output_type": "display_data",
          "data": {
            "text/html": [
              "<html>\n",
              "<head><meta charset=\"utf-8\" /></head>\n",
              "<body>\n",
              "    <div>            <script src=\"https://cdnjs.cloudflare.com/ajax/libs/mathjax/2.7.5/MathJax.js?config=TeX-AMS-MML_SVG\"></script><script type=\"text/javascript\">if (window.MathJax) {MathJax.Hub.Config({SVG: {font: \"STIX-Web\"}});}</script>                <script type=\"text/javascript\">window.PlotlyConfig = {MathJaxConfig: 'local'};</script>\n",
              "        <script src=\"https://cdn.plot.ly/plotly-2.8.3.min.js\"></script>                <div id=\"255af334-aafe-4efa-9c43-a48fad9b3d01\" class=\"plotly-graph-div\" style=\"height:525px; width:800px;\"></div>            <script type=\"text/javascript\">                                    window.PLOTLYENV=window.PLOTLYENV || {};                                    if (document.getElementById(\"255af334-aafe-4efa-9c43-a48fad9b3d01\")) {                    Plotly.newPlot(                        \"255af334-aafe-4efa-9c43-a48fad9b3d01\",                        [{\"customdata\":[[\"Carne Mo\\u00edda do Futuro\"],[\"Almondegas de Soja Vegway\"],[\"Almondegas Amazonika Mundi\"],[\"Kibe Incr\\u00edvel Seara\"],[\"Almondegas Incr\\u00edveis Seara\"],[\"Almondegas Mr Veggy\"],[\"Carne Mo\\u00edda Superbom\"],[\"Carne Vegetal Mo\\u00edda Superbom\"],[\"Carne Mo\\u00edda Vegetal Verdali\"]],\"hovertemplate\":\"Classification=MEAT 2<br>x=%{x}<br>y=%{y}<br>Description=%{customdata[0]}<extra></extra>\",\"legendgroup\":\"MEAT 2\",\"marker\":{\"color\":\"#636efa\",\"symbol\":\"circle\"},\"mode\":\"markers\",\"name\":\"MEAT 2\",\"orientation\":\"v\",\"showlegend\":true,\"x\":[23.91103172302246,-46.06061935424805,16.119922637939453,22.226505279541016,46.251251220703125,20.043134689331055,4.740179061889648,13.691650390625,12.63028335571289],\"xaxis\":\"x\",\"y\":[51.11397171020508,-44.658348083496094,14.448651313781738,29.888635635375977,40.08783721923828,26.836103439331055,26.745643615722656,-49.519996643066406,-11.424473762512207],\"yaxis\":\"y\",\"type\":\"scatter\"},{\"customdata\":[[\"Carne Mo\\u00edda do Futuro\"],[\"Fil\\u00e9s Sora Carne Vermelha\"],[\"Fatias Sora Carne Vermelha\"],[\"Fil\\u00e9 Pronto Saud\\u00e1vel Sora\"],[\"Carne Mo\\u00edda Pronto Saud\\u00e1vel Sora\"],[\"Churrasco Vegabom\"],[\"Churrasco Aoniondo Vegabom\"],[\"Carne de Pernil Seara\"],[\"Alm\\u00f4ndega de Soja Vegana Goshen\"],[\"Bife de Soja Vegano Goshen\"],[\"Alm\\u00f4ndega Vegana Superbom\"],[\"Bife Vegetal Superbom\"],[\"Escalope ao Molho Caseiro Superbom\"],[\"Cubinhos ao Molho Mexicano Superbom\"],[\"Alm\\u00f4ndegas ao Molho Sugo Superbom\"],[\"Medalh\\u00e3o ao Molho Madeira Superbom\"],[\"Mignon Verdali\"],[\"Steak Verdali\"]],\"hovertemplate\":\"Classification=MEAT 3<br>x=%{x}<br>y=%{y}<br>Description=%{customdata[0]}<extra></extra>\",\"legendgroup\":\"MEAT 3\",\"marker\":{\"color\":\"#EF553B\",\"symbol\":\"circle\"},\"mode\":\"markers\",\"name\":\"MEAT 3\",\"orientation\":\"v\",\"showlegend\":true,\"x\":[23.395076751708984,20.009380340576172,23.398595809936523,9.987933158874512,9.164870262145996,20.775022506713867,20.522214889526367,47.834434509277344,-3.14095139503479,-1.189634084701538,4.950022220611572,23.78741455078125,3.7601709365844727,3.5286405086517334,12.554569244384766,12.959830284118652,12.380110740661621,12.59073543548584],\"xaxis\":\"x\",\"y\":[48.878334045410156,-30.951923370361328,-34.13115310668945,-36.801963806152344,-37.04728317260742,28.36288833618164,28.408584594726562,41.71800994873047,-72.2226791381836,-68.64112854003906,26.93358612060547,-48.849334716796875,-13.799467086791992,-13.646536827087402,-50.92142868041992,-50.42145919799805,-10.168207168579102,-11.922731399536133],\"yaxis\":\"y\",\"type\":\"scatter\"},{\"customdata\":[[\"Frango do Futuro\"],[\"Fatias Sora Carne Branca\"],[\"Fil\\u00e9s Sora Carne Branca\"],[\"Strogonoff de Frango Vegabom\"],[\"Tiras de Frango New Butchers\"],[\"Fil\\u00e9 de Frango Desfiado Vegway\"],[\"Frango Veg e Tal Sadia\"],[\"Frango Veg e Tal Sadia Desfiado\"],[\"Peito de Peru de Soja\"],[\"Peito de Peru de Soja Vegano\"],[\"Tiras de Ave Verdali\"],[\"Fil\\u00e9 sem Frango Verdali\"],[\"Mini Fil\\u00e9 de Frango Verdali\"]],\"hovertemplate\":\"Classification=POULTRY 3<br>x=%{x}<br>y=%{y}<br>Description=%{customdata[0]}<extra></extra>\",\"legendgroup\":\"POULTRY 3\",\"marker\":{\"color\":\"#00cc96\",\"symbol\":\"circle\"},\"mode\":\"markers\",\"name\":\"POULTRY 3\",\"orientation\":\"v\",\"showlegend\":true,\"x\":[23.77161979675293,21.54520034790039,20.690710067749023,20.4116268157959,-14.58422565460205,-41.91625213623047,4.6251444816589355,4.6251444816589355,5.732458114624023,0.27606526017189026,-7.716371536254883,14.562911987304688,15.135285377502441],\"xaxis\":\"x\",\"y\":[48.77445602416992,-32.476463317871094,-32.39409255981445,29.904321670532227,1.700991153717041,-42.37018966674805,1.7962102890014648,1.7962102890014648,-71.50637817382812,-78.9861831665039,9.324986457824707,-5.8356547355651855,-4.433933258056641],\"yaxis\":\"y\",\"type\":\"scatter\"},{\"customdata\":[[\"Lingui\\u00e7a do Futuro\"],[\"Lingui\\u00e7a calabresa vegabom\"],[\"saltsicha de chickpea Vegabom\"],[\"Vegway Soy Sausage\"],[\"saltsichas Incriveis Seara\"],[\"Lingui\\u00e7a Apimentada de Soja Goshen\"],[\"Lingui\\u00e7a Calabresa de Soja Goshen\"],[\"Lingui\\u00e7a de Soja Vegana Goshen\"],[\"Lingui\\u00e7a Toscana de Soja Goshen\"],[\"saltsicha de Soja Vegana Goshen\"],[\"saltsicha Vegetal Superbom\"],[\"saltsicha Vegetal Defumada Superbom\"]],\"hovertemplate\":\"Classification=PORK 1<br>x=%{x}<br>y=%{y}<br>Description=%{customdata[0]}<extra></extra>\",\"legendgroup\":\"PORK 1\",\"marker\":{\"color\":\"#ab63fa\",\"symbol\":\"circle\"},\"mode\":\"markers\",\"name\":\"PORK 1\",\"orientation\":\"v\",\"showlegend\":true,\"x\":[25.539445877075195,38.389286041259766,38.11061096191406,-42.82123565673828,46.580562591552734,6.197721004486084,0.17423182725906372,4.517159938812256,6.01601505279541,4.92889404296875,22.875288009643555,22.9210262298584],\"xaxis\":\"x\",\"y\":[51.163421630859375,-14.996996879577637,-16.680288314819336,-40.539310455322266,42.33679962158203,-75.23249816894531,-76.83145904541016,-75.6548080444336,-71.55847930908203,-75.63673400878906,-42.506935119628906,-42.18088912963867],\"yaxis\":\"y\",\"type\":\"scatter\"},{\"customdata\":[[\"Hamburguer de Soja Goshen\"],[\"Hamburguer de Soja Vegano Goshen\"],[\"Hamburguer de Quinoa Mr Veggy\"],[\"Hamburguer de lentil Mr Veggy\"],[\"Hamburguer vegano falafel amazonika mundi\"],[\"Hamburguer Vegetal Verdali\"],[\"VegBurger Sabor Carne\"],[\"Burger Gourmet Superbom\"],[\"Hamburguer Incr\\u00edvel Seara\"],[\"Not Burguer Notco\"],[\"Hamburguer de Fibra de Caju Amazonika Mundi\"],[\"Hamburguer Vegabom\"],[\"Hamburguer de Carne Veg  e Tal Sadia\"],[\"Hamburger New Butchers\"],[\"Hamburguer de Legumes Mr Veggy\"],[\"Hamburguer Vegetariano Mr Veggy\"],[\"Hambuguer Mr Veggy Mari Mari\"],[\"Hambuguer Mr Veggy Mari Mari Churrrasco\"],[\"Hamb\\u00farguer Fazenda Futuro 2.0\"],[\"Hamb\\u00farguer Vegano de Quinoa Amazonika Mundi\"],[\"Hamburguer Veggie Roots Tempero Indiano\"],[\"Hamb\\u00farguer Sora Carne Vermelha \"],[\"Hamburguer Veggie Roots brazilianspices\"],[\"Hamburguer veggie roots tempero mexicano\"],[\"Hamburguer de Soja Sabor Carne Vegway\"],[\"Hamb\\u00farguer de Soja Empanado Vegway\"],[\"Hamburguer Vegetal Superbom\"],[\"Hamburguer de chickpea Mr Veggy\"],[\"Hamburguer Veggie Roots Tempero \\u00c1rabe\"],[\"Hamburguer Veggie Roots Tempero Tailand\\u00eas\"],[\"Hamburguer Vegabom\"],[\"Hamb\\u00farguer Pronto Saud\\u00e1vel Sora\"],[\"hamburguer vegetal com herbs jasmine\"],[\"Hamburguer Vegetal Tradicional Jasmine\"]],\"hovertemplate\":\"Classification=MEAT 1<br>x=%{x}<br>y=%{y}<br>Description=%{customdata[0]}<extra></extra>\",\"legendgroup\":\"MEAT 1\",\"marker\":{\"color\":\"#FFA15A\",\"symbol\":\"circle\"},\"mode\":\"markers\",\"name\":\"MEAT 1\",\"orientation\":\"v\",\"showlegend\":true,\"x\":[-0.7933063507080078,-5.818924427032471,35.70157241821289,-7.11042594909668,-2.63105845451355,-7.991880416870117,28.839191436767578,-21.108627319335938,47.63128662109375,-141.5326385498047,16.39760971069336,37.78606414794922,-19.48403549194336,-14.516763687133789,-32.544822692871094,-32.19792556762695,-29.2103214263916,-29.053184509277344,23.908540725708008,1.2692656517028809,7.952105522155762,23.057598114013672,13.065679550170898,13.892292976379395,-43.26548767089844,-46.121395111083984,-39.139339447021484,-6.777178764343262,17.66803550720215,18.62305450439453,35.907108306884766,9.363062858581543,23.131685256958008,23.32453727722168],\"xaxis\":\"x\",\"y\":[-68.1597671508789,-68.33487701416016,186.30039978027344,4.198339939117432,10.051294326782227,9.5246000289917,-23.19284439086914,-24.067501068115234,40.324867248535156,-120.19597625732422,14.421443939208984,-16.100614547729492,35.560089111328125,1.975205898284912,21.892871856689453,21.688343048095703,19.811254501342773,20.061735153198242,51.456451416015625,6.788247585296631,-21.553064346313477,-34.453182220458984,-24.1998348236084,-25.384246826171875,-41.98799514770508,-45.28921127319336,-41.80363082885742,4.429868698120117,-28.434038162231445,-29.481294631958008,-15.681278228759766,-36.21348190307617,-11.010912895202637,-10.802434921264648],\"yaxis\":\"y\",\"type\":\"scatter\"},{\"customdata\":[[\"Hamb\\u00farguer Sora Carne Branca\"],[\"VegBurger Sabor Frango\"],[\"Hambuguer Incr\\u00edvel Seara Frango\"],[\"Frango Vegano em Peda\\u00e7os \\u00e0 Base de pea\"],[\"Hamb\\u00farguer de Frango Verdali\"]],\"hovertemplate\":\"Classification=POULTRY 2<br>x=%{x}<br>y=%{y}<br>Description=%{customdata[0]}<extra></extra>\",\"legendgroup\":\"POULTRY 2\",\"marker\":{\"color\":\"#19d3f3\",\"symbol\":\"circle\"},\"mode\":\"markers\",\"name\":\"POULTRY 2\",\"orientation\":\"v\",\"showlegend\":true,\"x\":[21.429128646850586,28.87729263305664,45.59618377685547,-22.25053596496582,14.782432556152344],\"xaxis\":\"x\",\"y\":[-31.63551139831543,-18.60108184814453,41.33545684814453,-24.422395706176758,-5.244736671447754],\"yaxis\":\"y\",\"type\":\"scatter\"},{\"customdata\":[[\"Empanado de Frango Vegabom\"],[\"Fil\\u00e9 de Frango Empanado Vegabom\"],[\"Empanados de Frango Vegway\"],[\"Empanados Incr\\u00edveis Seara\"],[\"Empanados Sadia Veg e Tal\"],[\"Empanadinho de Soja  Goshen\"],[\"Empanadinho de Soja Vegano  Goshen\"],[\"Steak de Soja Vegano Goshen\"],[\"Empanado Vegano (Mini Crispy) 100 Foods\"],[\"Crispy Chicken 100 Foods\"],[\"Mini Empanado de Legumes Superbom\"],[\"Steak Vegan Sabor Legumes Superbom\"],[\"Steak Veg\\u00ea Sabor Frango\"],[\"Steak Veg\\u00ea Sabor Frango Empanado\"]],\"hovertemplate\":\"Classification=POULTRY 1<br>x=%{x}<br>y=%{y}<br>Description=%{customdata[0]}<extra></extra>\",\"legendgroup\":\"POULTRY 1\",\"marker\":{\"color\":\"#FF6692\",\"symbol\":\"circle\"},\"mode\":\"markers\",\"name\":\"POULTRY 1\",\"orientation\":\"v\",\"showlegend\":true,\"x\":[43.851318359375,43.26751708984375,-45.770118713378906,33.01307678222656,32.45724868774414,-0.3370552361011505,-1.602043867111206,-0.8271399736404419,24.988035202026367,25.105449676513672,-30.42737579345703,-30.29446792602539,2.9049055576324463,2.579961061477661],\"xaxis\":\"x\",\"y\":[-21.69637680053711,-22.35687255859375,-40.041473388671875,33.73841857910156,34.41883850097656,-69.95960235595703,-71.81804656982422,-71.06049346923828,22.802003860473633,23.065433502197266,-21.941923141479492,-21.69849967956543,-19.828874588012695,-19.983373641967773],\"yaxis\":\"y\",\"type\":\"scatter\"},{\"customdata\":[[\"Fil\\u00e9 Peixe Empanado Vegabom\"],[\"Tirinhas de Peixe Empanado Vegabom\"],[\"Bolinho de Bacalhau New Butchers\"],[\"Bolinho de Siri Amazonika Mundi\"],[\"Camar\\u00e3o de Soja Vegano Goshen\"]],\"hovertemplate\":\"Classification=FISH 2<br>x=%{x}<br>y=%{y}<br>Description=%{customdata[0]}<extra></extra>\",\"legendgroup\":\"FISH 2\",\"marker\":{\"color\":\"#B6E880\",\"symbol\":\"circle\"},\"mode\":\"markers\",\"name\":\"FISH 2\",\"orientation\":\"v\",\"showlegend\":true,\"x\":[44.74463653564453,44.15117263793945,-6.156886100769043,9.337259292602539,-0.02168302983045578],\"xaxis\":\"x\",\"y\":[-22.465660095214844,-23.14493751525879,54.97908401489258,-18.96068000793457,-75.6594009399414],\"yaxis\":\"y\",\"type\":\"scatter\"},{\"customdata\":[[\"Queijo Mu\\u00e7arela Vegabom\"],[\"Queijo Picante Vegabom\"],[\"Queijo Cheddar Vegabom\"],[\"Requeisoy Provolone \"],[\"Requeisoy Cheddar' \"],[\"Requeisoy Tradicional\"],[\"Requeisoy Gorgonzola\"],[\"Okeijo R\\u00fastico\"],[\"Okeijo Cremoso\"],[\"Okeijo Gratinado\"],[\"Okeijo Mussarela\"],[\"Okeijo Provolone\"],[\"Creme s Vida Veg\"],[\"Creme s fineherbs e Pesto\"],[\"Queijo mu\\u00e7arela\"],[\"Queijo minas frescal\"],[\"Queijo minas padr\\u00e3o\"],[\"Requeij\\u00e3o Tradicional\"],[\"Requeij\\u00e3o fineherbs\"],[\"Requeij\\u00e3o Defumado\"],[\"Queijo Zimurisku \"],[\"Queijo Zimurisku Temperado\"],[\"Queijo Mozarela NoMoo\"],[\"Queijo Provolone\"],[\"Queijo Ch\\u00e9vre\"],[\"Queijo Prato\"],[\"Queijo Parmes\\u00e3o\"],[\"Requeij\\u00e3o Nomoo\"],[\"Queijo Gorgolino\"],[\"Queijo Melhor Que Cheddar\"],[\"Queijo Recaishow\"],[\"Queijo Brie\"],[\"Mussarela Vegana Goshen\"],[\"Queijo ProVolone Veganita\"],[\"Queijo Munster Veganita\"],[\"Queijo Brie Veganita\"],[\"Queijo Mussarela Veganita\"],[\"Queijo Cheddar Veganita\"],[\"CREAM CHEESE CULIN\\u00c1RIO BASI.CO\"],[\"REQUEIJ\\u00c3O VEGETAL\"],[\"QUEIJO PARMES\\u00c3O\"],[\"QUEIJO MINAS VEGETAL\"],[\"QUEIJO PRATO\"],[\"QUEIJO MU\\u00c7ARELA\"],[\"QUEIJO CHEDDAR\"]],\"hovertemplate\":\"Classification=DAIRY 3<br>x=%{x}<br>y=%{y}<br>Description=%{customdata[0]}<extra></extra>\",\"legendgroup\":\"DAIRY 3\",\"marker\":{\"color\":\"#FF97FF\",\"symbol\":\"circle\"},\"mode\":\"markers\",\"name\":\"DAIRY 3\",\"orientation\":\"v\",\"showlegend\":true,\"x\":[9.163094520568848,9.588319778442383,9.156047821044922,20.467500686645508,22.594778060913086,21.939931869506836,21.8075008392334,-2.0709969997406006,-1.7297612428665161,-27.5063419342041,-28.60599136352539,-28.28836441040039,-6.209803104400635,-6.750865459442139,-2.198194742202759,-4.979099273681641,-2.580670118331909,-7.793151378631592,-7.3999199867248535,-7.307394504547119,-11.10583209991455,-11.456228256225586,-37.70600128173828,-37.36323165893555,-38.529998779296875,-37.96509552001953,-37.927703857421875,-21.06241226196289,-21.76027488708496,-13.094934463500977,-22.11689567565918,-13.148606300354004,97.14400482177734,-40.37081527709961,-41.168155670166016,-40.59737777709961,-39.771793365478516,-42.45351791381836,-9.414214134216309,-7.5899224281311035,52.51595687866211,-6.733747482299805,42.1566047668457,42.945640563964844,43.51721954345703],\"xaxis\":\"x\",\"y\":[20.615190505981445,19.481225967407227,19.40424346923828,5.8509297370910645,5.638588905334473,4.289794921875,5.190290451049805,0.407920241355896,-0.007008618209511042,45.19778823852539,40.03232955932617,40.03059387207031,34.315914154052734,34.562320709228516,31.95182228088379,33.48856735229492,32.1789665222168,40.75788879394531,40.64421081542969,41.936214447021484,23.205039978027344,23.565595626831055,55.622859954833984,56.08468246459961,61.16823196411133,54.3775634765625,61.43018341064453,34.02134704589844,32.909236907958984,21.822772979736328,33.29950714111328,24.838544845581055,-162.49609375,59.88618850708008,59.4156608581543,58.50560760498047,59.055320739746094,58.16064453125,24.526826858520508,24.771228790283203,-6.267991065979004,23.237533569335938,-2.798952341079712,-3.174530267715454,-3.4362125396728516],\"yaxis\":\"y\",\"type\":\"scatter\"},{\"customdata\":[[\"Fil\\u00e9 de saltm\\u00e3o New Butchers\"],[\"Bacalhau New  Butchers\"],[\"Isca de Peixe Vegway\"],[\"Fil\\u00e9 de Peixe Vegway\"],[\"Vieira de Soja Vegway\"],[\"Bacalhau Incr\\u00edvel Seara\"],[\"Iscas de Peixe Incr\\u00edvel Seara\"],[\"Atum do Futuro\"]],\"hovertemplate\":\"Classification=FISH 1<br>x=%{x}<br>y=%{y}<br>Description=%{customdata[0]}<extra></extra>\",\"legendgroup\":\"FISH 1\",\"marker\":{\"color\":\"#FECB52\",\"symbol\":\"circle\"},\"mode\":\"markers\",\"name\":\"FISH 1\",\"orientation\":\"v\",\"showlegend\":true,\"x\":[-6.1489105224609375,-5.562625408172607,-44.96612548828125,-44.175479888916016,-40.677398681640625,46.77671432495117,33.323787689208984,98.06820678710938],\"xaxis\":\"x\",\"y\":[56.99494171142578,55.062156677246094,-41.32411575317383,-41.75022506713867,-42.08608627319336,41.165592193603516,34.5601692199707,158.1385498046875],\"yaxis\":\"y\",\"type\":\"scatter\"},{\"customdata\":[[\"Presunto de Soja Vegway\"],[\"Bacon Vegano\"],[\"Mortadela de Soja Vegana Goshen\"],[\"Presunto de Soja Defumado\"],[\"Presunto de Soja Vegano Fatiado Goshen\"],[\"Bacon Crispy Verdali\"]],\"hovertemplate\":\"Classification=PORK 2<br>x=%{x}<br>y=%{y}<br>Description=%{customdata[0]}<extra></extra>\",\"legendgroup\":\"PORK 2\",\"marker\":{\"color\":\"#636efa\",\"symbol\":\"circle\"},\"mode\":\"markers\",\"name\":\"PORK 2\",\"orientation\":\"v\",\"showlegend\":true,\"x\":[-43.66461181640625,185.13897705078125,0.06959334760904312,-5.464570045471191,-0.9450298547744751,11.958770751953125],\"xaxis\":\"x\",\"y\":[-43.45417022705078,14.52222728729248,-78.18864440917969,-68.57437896728516,-77.80429077148438,-15.84554672241211],\"yaxis\":\"y\",\"type\":\"scatter\"},{\"customdata\":[[\"Not Milk \"],[\"Not Milk Semidesnatado\"],[\" Vegetal de almonds\"],[\" vegetal \"],[\" Vegetal de almonds Fresco\"],[\" Vegetal  de Caj\\u00fa Fresco\"],[\" Vegetal  Fresco\"],[\" Vegetal Noats Original\"],[\" Vegetal Noats Barista\"],[\" Jasmine rice em P\\u00f3\"],[\" BIOV jasmine rice com amendoas\"],[\" BIOV jasmine rice com coco\"],[\" BioV oats Jasmine\"],[\" Jasmine rice \"],[\" Jasmine rice com oats\"],[\"Bebida de rice Nesfit\"],[\"Bebida Natural Nesfit\"],[\"Bebida de rice  e Amendoas Nesfit\"],[\"Bebida de rice e Coco Nesfit\"],[\"Bebida de oats Nesfit\"],[\"Bebida de oats e cocoa\"],[\"Molico Vegetal Nestl\\u00e9\"],[\"Ninho Vegetal Nestl\\u00e9\"],[\"Ninho Banana e apple Nestl\\u00e9\"],[\"Nude Edi\\u00e7\\u00e3o Barista\"],[\"Nude Original \"],[\"Nude Sabor Baunilha\"],[\"Nude de cocoa\"],[\"Nude + calcium\"],[\"Nude Barista\"],[\"Almond Breeze Original\"],[\"Almond Breeze Chocolate\"],[\"Almond Breeze Baunilha\"],[\"Almond Breeze Sem sugar\"],[\"Almond Breeze Amendoas com Coco\"],[\"Almond Breeze Chocolate Sem sugar\"],[\" de Amendoas Silk Sem sugar\"],[\" de Amendoas Silk \"],[\" cashews Silk\"],[\" de almonds e cocoa Silk\"],[\" de almonds Silk Coco\"],[\"Bebida de rice L\\u00edquida Sabor Original\"],[\"Bebida de rice L\\u00edquida Sabor almonds\"],[\"Bebida de rice L\\u00edquida Sabor peanuts\\n\"],[\"Bebida de rice L\\u00edquida Sabor cashews\"],[\"Bebida de rice L\\u00edquida Sabor Chocolate\"],[\"Bebida de rice L\\u00edquida Sabor Coco\"],[\"Bebida de rice L\\u00edquida Sabor Baunilha\"],[\"Bebida de rice Em P\\u00f3 Sabor Original\"],[\"Bebida de rice Em P\\u00f3 Sabor Original\"],[\"Bebida de rice Em P\\u00f3 Sabor Banana e apple\"],[\"Bebida de rice Em P\\u00f3 Sabor Chocolate\"],[\"Bebida de rice Em P\\u00f3 Sabor strawberries\"],[\" a tal da castanha barista\"],[\" a tal da castanha original\"],[\" a tal da castanha caju + Coco\"],[\" a tal da castanha almonds\"],[\" a tal da castanha castanha + cocoa\"],[\" a tal da castanha oats\"],[\" a tal da castanha mixed nuts\"],[\" a tal da castanha caju + Par\\u00e1\"],[\" a tal da castanha caju + peanuts\"],[\" Natuterra oats + Coco\"],[\" de almonds Natuterra\"],[\" Natuterra oats \"],[\" Vegetal 3 Nuts \\u2013 macadamianuts, almonds e cashews\"],[\" Vegetal de macadamianuts e Coco\"],[\" Vegetal de macadamianuts e cashews\"],[\" Vegetal Possible Foods\"],[\" Vegetal Possible Foods Chocolate\"],[\"Bebida de castanh de caj\\u00fa sem adi\\u00e7\\u00e3o de sugar nature's heart\"],[\"Bebida de almonds s/ adi\\u00e7\\u00e3o de sugares 1L \\u2013 Nature\\u2019s Heart\"],[\"Bebida de rice s/ adi\\u00e7\\u00e3o de sugares 1L \\u2013 Nature\\u2019s Heart\"],[\"Bebida de oats s/ adi\\u00e7\\u00e3o de sugares 1L \\u2013 Nature\\u2019s Heart\"],[\"Bebida de cocoa & rice 1L \\u2013 Nature\\u2019s Heart\"],[\"Bebida  & rice s/ adi\\u00e7\\u00e3o de sugares 1L \\u2013 Nature\\u2019s Heart\"],[\" Vegetal de soy Naturis Batavo\"],[\" DUOLAT peanuts E CASTANHA 1L - CAJUEIRO\"],[\" 85 CASTANHAS 1L - CAJUEIRO\"],[\" TOASTED 1L - CAJUEIRO\"]],\"hovertemplate\":\"Classification=DAIRY 1<br>x=%{x}<br>y=%{y}<br>Description=%{customdata[0]}<extra></extra>\",\"legendgroup\":\"DAIRY 1\",\"marker\":{\"color\":\"#EF553B\",\"symbol\":\"circle\"},\"mode\":\"markers\",\"name\":\"DAIRY 1\",\"orientation\":\"v\",\"showlegend\":true,\"x\":[-14.58836841583252,-14.595490455627441,-54.664459228515625,-55.270503997802734,-52.18294143676758,-50.83768844604492,-51.86077117919922,-2.293128728866577,-0.6365549564361572,-7.572758197784424,-121.7261734008789,-9.05225658416748,-0.5827868580818176,-8.422652244567871,-10.35361385345459,-21.092660903930664,-41.681358337402344,3.945241689682007,4.208067893981934,-20.949684143066406,-20.62582015991211,-5.451345920562744,-4.825592517852783,-4.610244274139404,-8.534668922424316,-3.506654977798462,-2.5162158012390137,-3.4078707695007324,-2.4327495098114014,-8.810948371887207,57.86946487426758,59.87022018432617,58.733150482177734,58.87958526611328,60.23429870605469,61.0609245300293,8.139700889587402,8.117395401000977,12.022385597229004,10.880645751953125,11.72525405883789,-24.694398880004883,-29.339508056640625,-30.705644607543945,-31.102678298950195,-23.4847469329834,-24.862398147583008,-30.136661529541016,3.732372522354126,4.059206962585449,-1.8177813291549683,-1.4003727436065674,-1.1318522691726685,-5.803609848022461,10.92135238647461,-1.871847152709961,10.245468139648438,10.990701675415039,-2.667450428009033,-10.477739334106445,-2.6377227306365967,-0.44082242250442505,32.023048400878906,32.76679611206055,32.88572311401367,15.899986267089844,-0.8041025996208191,-1.6536250114440918,-12.420433044433594,-12.726076126098633,19.788724899291992,19.6844482421875,-32.16880416870117,-32.19804000854492,-34.7310676574707,-34.33845901489258,143.14666748046875,-0.24218858778476715,11.539288520812988,11.69660472869873],\"xaxis\":\"x\",\"y\":[9.80624771118164,9.537858009338379,13.520565032958984,13.32940673828125,13.789329528808594,14.438920021057129,14.192368507385254,21.43587875366211,17.20169448852539,-30.97496795654297,-30.383914947509766,-30.57444953918457,19.720869064331055,-30.742582321166992,-30.23155975341797,13.119487762451172,-13.146462440490723,13.118769645690918,12.953186988830566,13.639333724975586,14.86704158782959,-44.97430419921875,-44.361000061035156,-45.20524978637695,15.05826473236084,19.994888305664062,19.439117431640625,18.942935943603516,17.91401481628418,15.108651161193848,9.08818244934082,7.818231582641602,9.026101112365723,10.231864929199219,7.0861406326293945,7.760623455047607,7.182510852813721,7.473730087280273,8.023082733154297,7.055173397064209,8.247537612915039,4.5530219078063965,6.5121870040893555,5.552569389343262,4.664137840270996,3.456190586090088,4.297382831573486,4.884312152862549,-27.549577713012695,-27.5836124420166,-31.045040130615234,-30.85395622253418,-32.01946258544922,19.660030364990234,-20.203548431396484,8.097190856933594,-20.963953018188477,0.2995970845222473,16.334033966064453,21.644790649414062,7.262021541595459,8.988167762756348,11.044363021850586,11.178964614868164,11.920326232910156,20.56401252746582,7.194163799285889,6.424526214599609,30.105798721313477,30.21218490600586,-17.87379264831543,-18.21091651916504,-3.3479788303375244,-3.9171202182769775,-2.6076438426971436,-2.7506420612335205,-48.64738845825195,8.822291374206543,-21.605161666870117,-21.44073486328125],\"yaxis\":\"y\",\"type\":\"scatter\"},{\"customdata\":[[\"Iogurte \"],[\"Iogurte  com strawberries\"],[\"Iogurte  com banana, apple e papaya\"],[\"Iogurte  Zero sugar\"],[\"Iogurte  com strawberries Zero sugar\"],[\"Iogurte GregoVeg \"],[\"Iogurte GregoVeg  com strawberries\"],[\"Iogurte Proteico 14g sabor strawberries\"],[\"Shake \"],[\"Iogurte Proteico 14g sabor  peanuts\"],[\"Creme de almonds\"]],\"hovertemplate\":\"Classification=DAIRY 2<br>x=%{x}<br>y=%{y}<br>Description=%{customdata[0]}<extra></extra>\",\"legendgroup\":\"DAIRY 2\",\"marker\":{\"color\":\"#00cc96\",\"symbol\":\"circle\"},\"mode\":\"markers\",\"name\":\"DAIRY 2\",\"orientation\":\"v\",\"showlegend\":true,\"x\":[-9.378142356872559,-11.045454025268555,-11.851181030273438,-8.92933177947998,-10.603052139282227,-6.353457450866699,-6.070995807647705,0.31829535961151123,-55.428314208984375,-0.011361031793057919,10.070754051208496],\"xaxis\":\"x\",\"y\":[-10.810694694519043,-13.199130058288574,-11.539374351501465,-11.135237693786621,-12.838050842285156,-6.749777793884277,-7.2766032218933105,-7.2081217765808105,14.555961608886719,-7.3657708168029785,-23.268409729003906],\"yaxis\":\"y\",\"type\":\"scatter\"},{\"customdata\":[[\"MAIONESE VEGETAL SUPERBOM\"],[\"MAIONESE FUGINI\"],[\"NOT MAYO\"],[\"NOT MAYO garlic\"],[\"NOT MAYO AZEITONA\"],[\"NOT MAYO PICANTE\"],[\"MAIONESE V-MAYO\"],[\"MAIONESE V-MAYO ApepperDA\"],[\"MAIONESE V-MAYO TRUFADA\"],[\"MAIONESE V-MAYO DE ABACATE\"],[\"MAIONESE V-MAYO DE garlic\"],[\"MAIONESE HELLMANS\"],[\"MAIONESE VEGANA FUGINI\"],[\"MAIONESE DEL\\u00cdCIAS DE GOI\\u00c1S\"]],\"hovertemplate\":\"Classification=EGG 1<br>x=%{x}<br>y=%{y}<br>Description=%{customdata[0]}<extra></extra>\",\"legendgroup\":\"EGG 1\",\"marker\":{\"color\":\"#ab63fa\",\"symbol\":\"circle\"},\"mode\":\"markers\",\"name\":\"EGG 1\",\"orientation\":\"v\",\"showlegend\":true,\"x\":[-5.612412929534912,-7.3157124519348145,8.415966987609863,9.6031494140625,8.077566146850586,8.357600212097168,-9.858988761901855,-10.791665077209473,-9.025251388549805,-9.393450736999512,-10.554652214050293,-4.453207015991211,-8.450933456420898,-2.2230007648468018],\"xaxis\":\"x\",\"y\":[-4.0199408531188965,-5.00626277923584,44.66761016845703,44.447166442871094,44.34980773925781,45.98029327392578,72.46118927001953,73.01065063476562,73.20328521728516,71.45458221435547,71.82888793945312,-2.3253204822540283,-4.439697265625,2.095642566680908],\"yaxis\":\"y\",\"type\":\"scatter\"},{\"customdata\":[[\"Ovos Novos\"],[\"Ovos Novos\"]],\"hovertemplate\":\"Classification=EGG 2<br>x=%{x}<br>y=%{y}<br>Description=%{customdata[0]}<extra></extra>\",\"legendgroup\":\"EGG 2\",\"marker\":{\"color\":\"#FFA15A\",\"symbol\":\"circle\"},\"mode\":\"markers\",\"name\":\"EGG 2\",\"orientation\":\"v\",\"showlegend\":true,\"x\":[13.694964408874512,12.421934127807617],\"xaxis\":\"x\",\"y\":[-21.21294593811035,-19.21331214904785],\"yaxis\":\"y\",\"type\":\"scatter\"}],                        {\"template\":{\"data\":{\"bar\":[{\"error_x\":{\"color\":\"#2a3f5f\"},\"error_y\":{\"color\":\"#2a3f5f\"},\"marker\":{\"line\":{\"color\":\"#E5ECF6\",\"width\":0.5},\"pattern\":{\"fillmode\":\"overlay\",\"size\":10,\"solidity\":0.2}},\"type\":\"bar\"}],\"barpolar\":[{\"marker\":{\"line\":{\"color\":\"#E5ECF6\",\"width\":0.5},\"pattern\":{\"fillmode\":\"overlay\",\"size\":10,\"solidity\":0.2}},\"type\":\"barpolar\"}],\"carpet\":[{\"aaxis\":{\"endlinecolor\":\"#2a3f5f\",\"gridcolor\":\"white\",\"linecolor\":\"white\",\"minorgridcolor\":\"white\",\"startlinecolor\":\"#2a3f5f\"},\"baxis\":{\"endlinecolor\":\"#2a3f5f\",\"gridcolor\":\"white\",\"linecolor\":\"white\",\"minorgridcolor\":\"white\",\"startlinecolor\":\"#2a3f5f\"},\"type\":\"carpet\"}],\"choropleth\":[{\"colorbar\":{\"outlinewidth\":0,\"ticks\":\"\"},\"type\":\"choropleth\"}],\"contour\":[{\"colorbar\":{\"outlinewidth\":0,\"ticks\":\"\"},\"colorscale\":[[0.0,\"#0d0887\"],[0.1111111111111111,\"#46039f\"],[0.2222222222222222,\"#7201a8\"],[0.3333333333333333,\"#9c179e\"],[0.4444444444444444,\"#bd3786\"],[0.5555555555555556,\"#d8576b\"],[0.6666666666666666,\"#ed7953\"],[0.7777777777777778,\"#fb9f3a\"],[0.8888888888888888,\"#fdca26\"],[1.0,\"#f0f921\"]],\"type\":\"contour\"}],\"contourcarpet\":[{\"colorbar\":{\"outlinewidth\":0,\"ticks\":\"\"},\"type\":\"contourcarpet\"}],\"heatmap\":[{\"colorbar\":{\"outlinewidth\":0,\"ticks\":\"\"},\"colorscale\":[[0.0,\"#0d0887\"],[0.1111111111111111,\"#46039f\"],[0.2222222222222222,\"#7201a8\"],[0.3333333333333333,\"#9c179e\"],[0.4444444444444444,\"#bd3786\"],[0.5555555555555556,\"#d8576b\"],[0.6666666666666666,\"#ed7953\"],[0.7777777777777778,\"#fb9f3a\"],[0.8888888888888888,\"#fdca26\"],[1.0,\"#f0f921\"]],\"type\":\"heatmap\"}],\"heatmapgl\":[{\"colorbar\":{\"outlinewidth\":0,\"ticks\":\"\"},\"colorscale\":[[0.0,\"#0d0887\"],[0.1111111111111111,\"#46039f\"],[0.2222222222222222,\"#7201a8\"],[0.3333333333333333,\"#9c179e\"],[0.4444444444444444,\"#bd3786\"],[0.5555555555555556,\"#d8576b\"],[0.6666666666666666,\"#ed7953\"],[0.7777777777777778,\"#fb9f3a\"],[0.8888888888888888,\"#fdca26\"],[1.0,\"#f0f921\"]],\"type\":\"heatmapgl\"}],\"histogram\":[{\"marker\":{\"pattern\":{\"fillmode\":\"overlay\",\"size\":10,\"solidity\":0.2}},\"type\":\"histogram\"}],\"histogram2d\":[{\"colorbar\":{\"outlinewidth\":0,\"ticks\":\"\"},\"colorscale\":[[0.0,\"#0d0887\"],[0.1111111111111111,\"#46039f\"],[0.2222222222222222,\"#7201a8\"],[0.3333333333333333,\"#9c179e\"],[0.4444444444444444,\"#bd3786\"],[0.5555555555555556,\"#d8576b\"],[0.6666666666666666,\"#ed7953\"],[0.7777777777777778,\"#fb9f3a\"],[0.8888888888888888,\"#fdca26\"],[1.0,\"#f0f921\"]],\"type\":\"histogram2d\"}],\"histogram2dcontour\":[{\"colorbar\":{\"outlinewidth\":0,\"ticks\":\"\"},\"colorscale\":[[0.0,\"#0d0887\"],[0.1111111111111111,\"#46039f\"],[0.2222222222222222,\"#7201a8\"],[0.3333333333333333,\"#9c179e\"],[0.4444444444444444,\"#bd3786\"],[0.5555555555555556,\"#d8576b\"],[0.6666666666666666,\"#ed7953\"],[0.7777777777777778,\"#fb9f3a\"],[0.8888888888888888,\"#fdca26\"],[1.0,\"#f0f921\"]],\"type\":\"histogram2dcontour\"}],\"mesh3d\":[{\"colorbar\":{\"outlinewidth\":0,\"ticks\":\"\"},\"type\":\"mesh3d\"}],\"parcoords\":[{\"line\":{\"colorbar\":{\"outlinewidth\":0,\"ticks\":\"\"}},\"type\":\"parcoords\"}],\"pie\":[{\"automargin\":true,\"type\":\"pie\"}],\"scatter\":[{\"marker\":{\"colorbar\":{\"outlinewidth\":0,\"ticks\":\"\"}},\"type\":\"scatter\"}],\"scatter3d\":[{\"line\":{\"colorbar\":{\"outlinewidth\":0,\"ticks\":\"\"}},\"marker\":{\"colorbar\":{\"outlinewidth\":0,\"ticks\":\"\"}},\"type\":\"scatter3d\"}],\"scattercarpet\":[{\"marker\":{\"colorbar\":{\"outlinewidth\":0,\"ticks\":\"\"}},\"type\":\"scattercarpet\"}],\"scattergeo\":[{\"marker\":{\"colorbar\":{\"outlinewidth\":0,\"ticks\":\"\"}},\"type\":\"scattergeo\"}],\"scattergl\":[{\"marker\":{\"colorbar\":{\"outlinewidth\":0,\"ticks\":\"\"}},\"type\":\"scattergl\"}],\"scattermapbox\":[{\"marker\":{\"colorbar\":{\"outlinewidth\":0,\"ticks\":\"\"}},\"type\":\"scattermapbox\"}],\"scatterpolar\":[{\"marker\":{\"colorbar\":{\"outlinewidth\":0,\"ticks\":\"\"}},\"type\":\"scatterpolar\"}],\"scatterpolargl\":[{\"marker\":{\"colorbar\":{\"outlinewidth\":0,\"ticks\":\"\"}},\"type\":\"scatterpolargl\"}],\"scatterternary\":[{\"marker\":{\"colorbar\":{\"outlinewidth\":0,\"ticks\":\"\"}},\"type\":\"scatterternary\"}],\"surface\":[{\"colorbar\":{\"outlinewidth\":0,\"ticks\":\"\"},\"colorscale\":[[0.0,\"#0d0887\"],[0.1111111111111111,\"#46039f\"],[0.2222222222222222,\"#7201a8\"],[0.3333333333333333,\"#9c179e\"],[0.4444444444444444,\"#bd3786\"],[0.5555555555555556,\"#d8576b\"],[0.6666666666666666,\"#ed7953\"],[0.7777777777777778,\"#fb9f3a\"],[0.8888888888888888,\"#fdca26\"],[1.0,\"#f0f921\"]],\"type\":\"surface\"}],\"table\":[{\"cells\":{\"fill\":{\"color\":\"#EBF0F8\"},\"line\":{\"color\":\"white\"}},\"header\":{\"fill\":{\"color\":\"#C8D4E3\"},\"line\":{\"color\":\"white\"}},\"type\":\"table\"}]},\"layout\":{\"annotationdefaults\":{\"arrowcolor\":\"#2a3f5f\",\"arrowhead\":0,\"arrowwidth\":1},\"autotypenumbers\":\"strict\",\"coloraxis\":{\"colorbar\":{\"outlinewidth\":0,\"ticks\":\"\"}},\"colorscale\":{\"diverging\":[[0,\"#8e0152\"],[0.1,\"#c51b7d\"],[0.2,\"#de77ae\"],[0.3,\"#f1b6da\"],[0.4,\"#fde0ef\"],[0.5,\"#f7f7f7\"],[0.6,\"#e6f5d0\"],[0.7,\"#b8e186\"],[0.8,\"#7fbc41\"],[0.9,\"#4d9221\"],[1,\"#276419\"]],\"sequential\":[[0.0,\"#0d0887\"],[0.1111111111111111,\"#46039f\"],[0.2222222222222222,\"#7201a8\"],[0.3333333333333333,\"#9c179e\"],[0.4444444444444444,\"#bd3786\"],[0.5555555555555556,\"#d8576b\"],[0.6666666666666666,\"#ed7953\"],[0.7777777777777778,\"#fb9f3a\"],[0.8888888888888888,\"#fdca26\"],[1.0,\"#f0f921\"]],\"sequentialminus\":[[0.0,\"#0d0887\"],[0.1111111111111111,\"#46039f\"],[0.2222222222222222,\"#7201a8\"],[0.3333333333333333,\"#9c179e\"],[0.4444444444444444,\"#bd3786\"],[0.5555555555555556,\"#d8576b\"],[0.6666666666666666,\"#ed7953\"],[0.7777777777777778,\"#fb9f3a\"],[0.8888888888888888,\"#fdca26\"],[1.0,\"#f0f921\"]]},\"colorway\":[\"#636efa\",\"#EF553B\",\"#00cc96\",\"#ab63fa\",\"#FFA15A\",\"#19d3f3\",\"#FF6692\",\"#B6E880\",\"#FF97FF\",\"#FECB52\"],\"font\":{\"color\":\"#2a3f5f\"},\"geo\":{\"bgcolor\":\"white\",\"lakecolor\":\"white\",\"landcolor\":\"#E5ECF6\",\"showlakes\":true,\"showland\":true,\"subunitcolor\":\"white\"},\"hoverlabel\":{\"align\":\"left\"},\"hovermode\":\"closest\",\"mapbox\":{\"style\":\"light\"},\"paper_bgcolor\":\"white\",\"plot_bgcolor\":\"#E5ECF6\",\"polar\":{\"angularaxis\":{\"gridcolor\":\"white\",\"linecolor\":\"white\",\"ticks\":\"\"},\"bgcolor\":\"#E5ECF6\",\"radialaxis\":{\"gridcolor\":\"white\",\"linecolor\":\"white\",\"ticks\":\"\"}},\"scene\":{\"xaxis\":{\"backgroundcolor\":\"#E5ECF6\",\"gridcolor\":\"white\",\"gridwidth\":2,\"linecolor\":\"white\",\"showbackground\":true,\"ticks\":\"\",\"zerolinecolor\":\"white\"},\"yaxis\":{\"backgroundcolor\":\"#E5ECF6\",\"gridcolor\":\"white\",\"gridwidth\":2,\"linecolor\":\"white\",\"showbackground\":true,\"ticks\":\"\",\"zerolinecolor\":\"white\"},\"zaxis\":{\"backgroundcolor\":\"#E5ECF6\",\"gridcolor\":\"white\",\"gridwidth\":2,\"linecolor\":\"white\",\"showbackground\":true,\"ticks\":\"\",\"zerolinecolor\":\"white\"}},\"shapedefaults\":{\"line\":{\"color\":\"#2a3f5f\"}},\"ternary\":{\"aaxis\":{\"gridcolor\":\"white\",\"linecolor\":\"white\",\"ticks\":\"\"},\"baxis\":{\"gridcolor\":\"white\",\"linecolor\":\"white\",\"ticks\":\"\"},\"bgcolor\":\"#E5ECF6\",\"caxis\":{\"gridcolor\":\"white\",\"linecolor\":\"white\",\"ticks\":\"\"}},\"title\":{\"x\":0.05},\"xaxis\":{\"automargin\":true,\"gridcolor\":\"white\",\"linecolor\":\"white\",\"ticks\":\"\",\"title\":{\"standoff\":15},\"zerolinecolor\":\"white\",\"zerolinewidth\":2},\"yaxis\":{\"automargin\":true,\"gridcolor\":\"white\",\"linecolor\":\"white\",\"ticks\":\"\",\"title\":{\"standoff\":15},\"zerolinecolor\":\"white\",\"zerolinewidth\":2}}},\"xaxis\":{\"anchor\":\"y\",\"domain\":[0.0,1.0],\"title\":{\"text\":\"x\"}},\"yaxis\":{\"anchor\":\"x\",\"domain\":[0.0,1.0],\"title\":{\"text\":\"y\"}},\"legend\":{\"title\":{\"text\":\"Classification\"},\"tracegroupgap\":0},\"margin\":{\"t\":60},\"width\":800},                        {\"responsive\": true}                    ).then(function(){\n",
              "                            \n",
              "var gd = document.getElementById('255af334-aafe-4efa-9c43-a48fad9b3d01');\n",
              "var x = new MutationObserver(function (mutations, observer) {{\n",
              "        var display = window.getComputedStyle(gd).display;\n",
              "        if (!display || display === 'none') {{\n",
              "            console.log([gd, 'removed!']);\n",
              "            Plotly.purge(gd);\n",
              "            observer.disconnect();\n",
              "        }}\n",
              "}});\n",
              "\n",
              "// Listen for the removal of the full notebook cells\n",
              "var notebookContainer = gd.closest('#notebook-container');\n",
              "if (notebookContainer) {{\n",
              "    x.observe(notebookContainer, {childList: true});\n",
              "}}\n",
              "\n",
              "// Listen for the clearing of the current output cell\n",
              "var outputEl = gd.closest('.output');\n",
              "if (outputEl) {{\n",
              "    x.observe(outputEl, {childList: true});\n",
              "}}\n",
              "\n",
              "                        })                };                            </script>        </div>\n",
              "</body>\n",
              "</html>"
            ]
          },
          "metadata": {}
        }
      ]
    },
    {
      "cell_type": "code",
      "source": [
        "data_nutrients = label_data.join(nutrients_normalized)\n",
        "tsne = TSNE(n_components=2,perplexity=5,learning_rate=350.0,metric='euclidean', init='random')\n",
        "X_tsneN = tsne.fit_transform(nutrients_normalized.values)\n",
        "\n",
        "X_tsneN[1:4, :]\n",
        "data_nutrients['x'] = X_tsneN[:,0]\n",
        "data_nutrients['y'] = X_tsneN[:,1]\n",
        "\n",
        "fig = px.scatter(data_nutrients, x='x', y='y', color='Classification', hover_data=[\"Description\"], width=800)\n",
        "fig.show()"
      ],
      "metadata": {
        "colab": {
          "base_uri": "https://localhost:8080/",
          "height": 542
        },
        "id": "RenDmk3EaLQn",
        "outputId": "b6e47d8a-a4b2-4abb-a5e6-c3ad56334f6d"
      },
      "execution_count": 19,
      "outputs": [
        {
          "output_type": "display_data",
          "data": {
            "text/html": [
              "<html>\n",
              "<head><meta charset=\"utf-8\" /></head>\n",
              "<body>\n",
              "    <div>            <script src=\"https://cdnjs.cloudflare.com/ajax/libs/mathjax/2.7.5/MathJax.js?config=TeX-AMS-MML_SVG\"></script><script type=\"text/javascript\">if (window.MathJax) {MathJax.Hub.Config({SVG: {font: \"STIX-Web\"}});}</script>                <script type=\"text/javascript\">window.PlotlyConfig = {MathJaxConfig: 'local'};</script>\n",
              "        <script src=\"https://cdn.plot.ly/plotly-2.8.3.min.js\"></script>                <div id=\"95d5c7b2-4519-4acc-8bac-25a33c560384\" class=\"plotly-graph-div\" style=\"height:525px; width:800px;\"></div>            <script type=\"text/javascript\">                                    window.PLOTLYENV=window.PLOTLYENV || {};                                    if (document.getElementById(\"95d5c7b2-4519-4acc-8bac-25a33c560384\")) {                    Plotly.newPlot(                        \"95d5c7b2-4519-4acc-8bac-25a33c560384\",                        [{\"customdata\":[[\"Carne Mo\\u00edda do Futuro\"],[\"Almondegas de Soja Vegway\"],[\"Almondegas Amazonika Mundi\"],[\"Kibe Incr\\u00edvel Seara\"],[\"Almondegas Incr\\u00edveis Seara\"],[\"Almondegas Mr Veggy\"],[\"Carne Mo\\u00edda Superbom\"],[\"Carne Vegetal Mo\\u00edda Superbom\"],[\"Carne Mo\\u00edda Vegetal Verdali\"]],\"hovertemplate\":\"Classification=MEAT 2<br>x=%{x}<br>y=%{y}<br>Description=%{customdata[0]}<extra></extra>\",\"legendgroup\":\"MEAT 2\",\"marker\":{\"color\":\"#636efa\",\"symbol\":\"circle\"},\"mode\":\"markers\",\"name\":\"MEAT 2\",\"orientation\":\"v\",\"showlegend\":true,\"x\":[5.775233745574951,23.410371780395508,19.29230499267578,20.835838317871094,20.835926055908203,8.062999725341797,55.3886604309082,-0.15082497894763947,17.138492584228516],\"xaxis\":\"x\",\"y\":[-60.81816101074219,-21.071529388427734,-4.6226115226745605,-22.361539840698242,-22.36121940612793,-24.781291961669922,-0.45809492468833923,13.54178524017334,-2.422804117202759],\"yaxis\":\"y\",\"type\":\"scatter\"},{\"customdata\":[[\"Carne Mo\\u00edda do Futuro\"],[\"Fil\\u00e9s Sora Carne Vermelha\"],[\"Fatias Sora Carne Vermelha\"],[\"Fil\\u00e9 Pronto Saud\\u00e1vel Sora\"],[\"Carne Mo\\u00edda Pronto Saud\\u00e1vel Sora\"],[\"Churrasco Vegabom\"],[\"Churrasco Aoniondo Vegabom\"],[\"Carne de Pernil Seara\"],[\"Alm\\u00f4ndega de Soja Vegana Goshen\"],[\"Bife de Soja Vegano Goshen\"],[\"Alm\\u00f4ndega Vegana Superbom\"],[\"Bife Vegetal Superbom\"],[\"Escalope ao Molho Caseiro Superbom\"],[\"Cubinhos ao Molho Mexicano Superbom\"],[\"Alm\\u00f4ndegas ao Molho Sugo Superbom\"],[\"Medalh\\u00e3o ao Molho Madeira Superbom\"],[\"Mignon Verdali\"],[\"Steak Verdali\"]],\"hovertemplate\":\"Classification=MEAT 3<br>x=%{x}<br>y=%{y}<br>Description=%{customdata[0]}<extra></extra>\",\"legendgroup\":\"MEAT 3\",\"marker\":{\"color\":\"#EF553B\",\"symbol\":\"circle\"},\"mode\":\"markers\",\"name\":\"MEAT 3\",\"orientation\":\"v\",\"showlegend\":true,\"x\":[5.366753578186035,-19.04359245300293,-19.67540740966797,1.5579800605773926,1.1324337720870972,11.140277862548828,10.490570068359375,-4.943760395050049,17.502796173095703,16.82480239868164,56.02663803100586,25.534563064575195,24.021181106567383,24.068017959594727,6.746535301208496,21.745637893676758,25.1649227142334,24.564313888549805],\"xaxis\":\"x\",\"y\":[-60.15479278564453,-54.34919357299805,-55.99454116821289,14.395018577575684,14.300249099731445,10.587658882141113,10.56387996673584,-28.38707160949707,24.349809646606445,-11.785223007202148,-0.002230701968073845,20.411848068237305,14.32935619354248,14.308124542236328,16.524948120117188,14.99036693572998,-12.61038589477539,-12.464448928833008],\"yaxis\":\"y\",\"type\":\"scatter\"},{\"customdata\":[[\"Frango do Futuro\"],[\"Fatias Sora Carne Branca\"],[\"Fil\\u00e9s Sora Carne Branca\"],[\"Strogonoff de Frango Vegabom\"],[\"Tiras de Frango New Butchers\"],[\"Fil\\u00e9 de Frango Desfiado Vegway\"],[\"Frango Veg e Tal Sadia\"],[\"Frango Veg e Tal Sadia Desfiado\"],[\"Peito de Peru de Soja\"],[\"Peito de Peru de Soja Vegano\"],[\"Tiras de Ave Verdali\"],[\"Fil\\u00e9 sem Frango Verdali\"],[\"Mini Fil\\u00e9 de Frango Verdali\"]],\"hovertemplate\":\"Classification=POULTRY 3<br>x=%{x}<br>y=%{y}<br>Description=%{customdata[0]}<extra></extra>\",\"legendgroup\":\"POULTRY 3\",\"marker\":{\"color\":\"#00cc96\",\"symbol\":\"circle\"},\"mode\":\"markers\",\"name\":\"POULTRY 3\",\"orientation\":\"v\",\"showlegend\":true,\"x\":[6.190964221954346,-20.52667999267578,-18.758955001831055,10.492514610290527,6.101627349853516,17.085268020629883,25.183462142944336,25.184844970703125,18.938875198364258,18.9384708404541,24.48591423034668,23.976661682128906,23.60535430908203],\"xaxis\":\"x\",\"y\":[-60.345787048339844,-55.307823181152344,-55.40266418457031,9.917742729187012,17.7796688079834,-21.899532318115234,-16.728967666625977,-16.73008155822754,20.223949432373047,19.973981857299805,-19.29552459716797,-13.303385734558105,-13.223003387451172],\"yaxis\":\"y\",\"type\":\"scatter\"},{\"customdata\":[[\"Lingui\\u00e7a do Futuro\"],[\"Lingui\\u00e7a calabresa vegabom\"],[\"saltsicha de chickpea Vegabom\"],[\"Vegway Soy Sausage\"],[\"saltsichas Incriveis Seara\"],[\"Lingui\\u00e7a Apimentada de Soja Goshen\"],[\"Lingui\\u00e7a Calabresa de Soja Goshen\"],[\"Lingui\\u00e7a de Soja Vegana Goshen\"],[\"Lingui\\u00e7a Toscana de Soja Goshen\"],[\"saltsicha de Soja Vegana Goshen\"],[\"saltsicha Vegetal Superbom\"],[\"saltsicha Vegetal Defumada Superbom\"]],\"hovertemplate\":\"Classification=PORK 1<br>x=%{x}<br>y=%{y}<br>Description=%{customdata[0]}<extra></extra>\",\"legendgroup\":\"PORK 1\",\"marker\":{\"color\":\"#ab63fa\",\"symbol\":\"circle\"},\"mode\":\"markers\",\"name\":\"PORK 1\",\"orientation\":\"v\",\"showlegend\":true,\"x\":[12.344583511352539,16.367713928222656,16.54993438720703,18.95055389404297,7.613915920257568,20.448543548583984,19.77133560180664,19.639753341674805,14.350567817687988,19.44384765625,20.617219924926758,6.397586822509766],\"xaxis\":\"x\",\"y\":[-8.733878135681152,24.61095428466797,24.33016014099121,2.547666072845459,13.151816368103027,18.834636688232422,20.003774642944336,14.515191078186035,27.05986213684082,14.434032440185547,17.951427459716797,17.17765998840332],\"yaxis\":\"y\",\"type\":\"scatter\"},{\"customdata\":[[\"Hamburguer de Soja Goshen\"],[\"Hamburguer de Soja Vegano Goshen\"],[\"Hamburguer de Quinoa Mr Veggy\"],[\"Hamburguer de lentil Mr Veggy\"],[\"Hamburguer vegano falafel amazonika mundi\"],[\"Hamburguer Vegetal Verdali\"],[\"VegBurger Sabor Carne\"],[\"Burger Gourmet Superbom\"],[\"Hamburguer Incr\\u00edvel Seara\"],[\"Not Burguer Notco\"],[\"Hamburguer de Fibra de Caju Amazonika Mundi\"],[\"Hamburguer Vegabom\"],[\"Hamburguer de Carne Veg  e Tal Sadia\"],[\"Hamburger New Butchers\"],[\"Hamburguer de Legumes Mr Veggy\"],[\"Hamburguer Vegetariano Mr Veggy\"],[\"Hambuguer Mr Veggy Mari Mari\"],[\"Hambuguer Mr Veggy Mari Mari Churrrasco\"],[\"Hamb\\u00farguer Fazenda Futuro 2.0\"],[\"Hamb\\u00farguer Vegano de Quinoa Amazonika Mundi\"],[\"Hamburguer Veggie Roots Tempero Indiano\"],[\"Hamb\\u00farguer Sora Carne Vermelha \"],[\"Hamburguer Veggie Roots brazilianspices\"],[\"Hamburguer veggie roots tempero mexicano\"],[\"Hamburguer de Soja Sabor Carne Vegway\"],[\"Hamb\\u00farguer de Soja Empanado Vegway\"],[\"Hamburguer Vegetal Superbom\"],[\"Hamburguer de chickpea Mr Veggy\"],[\"Hamburguer Veggie Roots Tempero \\u00c1rabe\"],[\"Hamburguer Veggie Roots Tempero Tailand\\u00eas\"],[\"Hamburguer Vegabom\"],[\"Hamb\\u00farguer Pronto Saud\\u00e1vel Sora\"],[\"hamburguer vegetal com herbs jasmine\"],[\"Hamburguer Vegetal Tradicional Jasmine\"]],\"hovertemplate\":\"Classification=MEAT 1<br>x=%{x}<br>y=%{y}<br>Description=%{customdata[0]}<extra></extra>\",\"legendgroup\":\"MEAT 1\",\"marker\":{\"color\":\"#FFA15A\",\"symbol\":\"circle\"},\"mode\":\"markers\",\"name\":\"MEAT 1\",\"orientation\":\"v\",\"showlegend\":true,\"x\":[18.344158172607422,3.0402238368988037,8.078315734863281,12.295151710510254,1.3136012554168701,18.68426513671875,6.5772271156311035,56.6689453125,16.84324836730957,0.9180362820625305,19.747695922851562,0.18140332400798798,-62.003883361816406,7.50075626373291,-0.9704813361167908,13.52220630645752,13.102960586547852,13.109444618225098,17.18997573852539,0.9871794581413269,8.648675918579102,-20.134714126586914,9.24707317352295,7.907607078552246,23.641881942749023,18.982145309448242,7.30409574508667,7.465560436248779,4.977280616760254,5.619080066680908,0.8361080884933472,1.471120834350586,12.385315895080566,12.384772300720215],\"xaxis\":\"x\",\"y\":[12.996048927307129,14.30391788482666,-18.110595703125,-13.112253189086914,-22.438451766967773,-12.192344665527344,-59.31013870239258,-0.20292259752750397,-2.0527775287628174,-37.84418869018555,-4.343073844909668,26.87151527404785,21.271442413330078,-60.47490692138672,-29.459667205810547,-11.593609809875488,-9.903406143188477,-9.90641975402832,-0.911167323589325,-22.59971046447754,-18.348791122436523,-54.293052673339844,-17.719900131225586,-19.69144630432129,-20.666309356689453,2.628415822982788,13.525358200073242,-26.317411422729492,-23.098878860473633,-22.66678810119629,27.90188217163086,13.813078880310059,-34.92393112182617,-34.92388916015625],\"yaxis\":\"y\",\"type\":\"scatter\"},{\"customdata\":[[\"Hamb\\u00farguer Sora Carne Branca\"],[\"VegBurger Sabor Frango\"],[\"Hambuguer Incr\\u00edvel Seara Frango\"],[\"Frango Vegano em Peda\\u00e7os \\u00e0 Base de pea\"],[\"Hamb\\u00farguer de Frango Verdali\"]],\"hovertemplate\":\"Classification=POULTRY 2<br>x=%{x}<br>y=%{y}<br>Description=%{customdata[0]}<extra></extra>\",\"legendgroup\":\"POULTRY 2\",\"marker\":{\"color\":\"#19d3f3\",\"symbol\":\"circle\"},\"mode\":\"markers\",\"name\":\"POULTRY 2\",\"orientation\":\"v\",\"showlegend\":true,\"x\":[-19.628360748291016,5.814501762390137,17.207841873168945,57.35287857055664,18.438032150268555],\"xaxis\":\"x\",\"y\":[-55.0658073425293,-59.12782287597656,-3.24857497215271,-0.4653187096118927,-12.113208770751953],\"yaxis\":\"y\",\"type\":\"scatter\"},{\"customdata\":[[\"Empanado de Frango Vegabom\"],[\"Fil\\u00e9 de Frango Empanado Vegabom\"],[\"Empanados de Frango Vegway\"],[\"Empanados Incr\\u00edveis Seara\"],[\"Empanados Sadia Veg e Tal\"],[\"Empanadinho de Soja  Goshen\"],[\"Empanadinho de Soja Vegano  Goshen\"],[\"Steak de Soja Vegano Goshen\"],[\"Empanado Vegano (Mini Crispy) 100 Foods\"],[\"Crispy Chicken 100 Foods\"],[\"Mini Empanado de Legumes Superbom\"],[\"Steak Vegan Sabor Legumes Superbom\"],[\"Steak Veg\\u00ea Sabor Frango\"],[\"Steak Veg\\u00ea Sabor Frango Empanado\"]],\"hovertemplate\":\"Classification=POULTRY 1<br>x=%{x}<br>y=%{y}<br>Description=%{customdata[0]}<extra></extra>\",\"legendgroup\":\"POULTRY 1\",\"marker\":{\"color\":\"#FF6692\",\"symbol\":\"circle\"},\"mode\":\"markers\",\"name\":\"POULTRY 1\",\"orientation\":\"v\",\"showlegend\":true,\"x\":[-0.08744961023330688,-0.49569013714790344,21.833871841430664,0.5997945666313171,-0.6670790910720825,17.608444213867188,-0.14057934284210205,25.42078971862793,-0.6974840760231018,7.315880298614502,55.69729995727539,56.03388977050781,4.448082447052002,4.448083400726318],\"xaxis\":\"x\",\"y\":[26.222061157226562,26.4012451171875,-22.39789390563965,-33.77652359008789,-30.42521095275879,12.27417278289795,25.038511276245117,20.328346252441406,-30.801158905029297,-24.908105850219727,-1.6245663166046143,-1.9466559886932373,-21.294727325439453,-21.29472541809082],\"yaxis\":\"y\",\"type\":\"scatter\"},{\"customdata\":[[\"Fil\\u00e9 Peixe Empanado Vegabom\"],[\"Tirinhas de Peixe Empanado Vegabom\"],[\"Bolinho de Bacalhau New Butchers\"],[\"Bolinho de Siri Amazonika Mundi\"],[\"Camar\\u00e3o de Soja Vegano Goshen\"]],\"hovertemplate\":\"Classification=FISH 2<br>x=%{x}<br>y=%{y}<br>Description=%{customdata[0]}<extra></extra>\",\"legendgroup\":\"FISH 2\",\"marker\":{\"color\":\"#B6E880\",\"symbol\":\"circle\"},\"mode\":\"markers\",\"name\":\"FISH 2\",\"orientation\":\"v\",\"showlegend\":true,\"x\":[11.927473068237305,11.561375617980957,4.834472179412842,14.669866561889648,17.110408782958984],\"xaxis\":\"x\",\"y\":[9.521112442016602,9.145615577697754,-23.52324104309082,28.29460334777832,22.022960662841797],\"yaxis\":\"y\",\"type\":\"scatter\"},{\"customdata\":[[\"Queijo Mu\\u00e7arela Vegabom\"],[\"Queijo Picante Vegabom\"],[\"Queijo Cheddar Vegabom\"],[\"Requeisoy Provolone \"],[\"Requeisoy Cheddar' \"],[\"Requeisoy Tradicional\"],[\"Requeisoy Gorgonzola\"],[\"Okeijo R\\u00fastico\"],[\"Okeijo Cremoso\"],[\"Okeijo Gratinado\"],[\"Okeijo Mussarela\"],[\"Okeijo Provolone\"],[\"Creme s Vida Veg\"],[\"Creme s fineherbs e Pesto\"],[\"Queijo mu\\u00e7arela\"],[\"Queijo minas frescal\"],[\"Queijo minas padr\\u00e3o\"],[\"Requeij\\u00e3o Tradicional\"],[\"Requeij\\u00e3o fineherbs\"],[\"Requeij\\u00e3o Defumado\"],[\"Queijo Zimurisku \"],[\"Queijo Zimurisku Temperado\"],[\"Queijo Mozarela NoMoo\"],[\"Queijo Provolone\"],[\"Queijo Ch\\u00e9vre\"],[\"Queijo Prato\"],[\"Queijo Parmes\\u00e3o\"],[\"Requeij\\u00e3o Nomoo\"],[\"Queijo Gorgolino\"],[\"Queijo Melhor Que Cheddar\"],[\"Queijo Recaishow\"],[\"Queijo Brie\"],[\"Mussarela Vegana Goshen\"],[\"Queijo ProVolone Veganita\"],[\"Queijo Munster Veganita\"],[\"Queijo Brie Veganita\"],[\"Queijo Mussarela Veganita\"],[\"Queijo Cheddar Veganita\"],[\"CREAM CHEESE CULIN\\u00c1RIO BASI.CO\"],[\"REQUEIJ\\u00c3O VEGETAL\"],[\"QUEIJO PARMES\\u00c3O\"],[\"QUEIJO MINAS VEGETAL\"],[\"QUEIJO PRATO\"],[\"QUEIJO MU\\u00c7ARELA\"],[\"QUEIJO CHEDDAR\"]],\"hovertemplate\":\"Classification=DAIRY 3<br>x=%{x}<br>y=%{y}<br>Description=%{customdata[0]}<extra></extra>\",\"legendgroup\":\"DAIRY 3\",\"marker\":{\"color\":\"#FF97FF\",\"symbol\":\"circle\"},\"mode\":\"markers\",\"name\":\"DAIRY 3\",\"orientation\":\"v\",\"showlegend\":true,\"x\":[-2.291811943054199,-1.8435901403427124,-2.3692166805267334,-11.637810707092285,-10.67138957977295,-10.924958229064941,-11.429929733276367,-2.7190968990325928,-2.7190098762512207,4.183228015899658,-1.3938993215560913,-1.392878532409668,8.648734092712402,9.042058944702148,-0.23044836521148682,-0.5584566593170166,0.020698703825473785,9.29179573059082,9.886690139770508,10.124983787536621,1.0086241960525513,1.0086238384246826,3.5529329776763916,2.655686855316162,-3.914478063583374,2.5370140075683594,4.563136577606201,-19.54453468322754,-5.559998512268066,-5.926695346832275,-5.106265068054199,-4.273464679718018,-2.6573784351348877,-9.164453506469727,13.890018463134766,11.703134536743164,9.96019458770752,9.370368957519531,-21.89101219177246,-12.827220916748047,-19.460840225219727,-22.508403778076172,-26.136133193969727,-26.5980224609375,-26.665771484375],\"xaxis\":\"x\",\"y\":[40.32704544067383,40.67462921142578,40.889129638671875,46.470638275146484,47.43186950683594,44.86733627319336,47.09222412109375,32.891754150390625,32.892581939697266,-24.88508415222168,34.13720703125,34.139339447021484,62.0664176940918,62.77046203613281,45.85780715942383,45.31417465209961,45.36259841918945,61.468528747558594,62.324527740478516,61.572418212890625,-36.43336486816406,-36.43336486816406,58.85757064819336,58.38665008544922,49.890804290771484,57.961402893066406,-32.75535202026367,34.38129425048828,48.59868240356445,48.14457702636719,48.85520935058594,51.37802505493164,50.050968170166016,47.63396453857422,26.81110954284668,63.27128601074219,63.64893341064453,64.83241271972656,38.93037033081055,47.27269744873047,34.199440002441406,43.091060638427734,45.06423568725586,45.36082458496094,44.7531623840332],\"yaxis\":\"y\",\"type\":\"scatter\"},{\"customdata\":[[\"Fil\\u00e9 de saltm\\u00e3o New Butchers\"],[\"Bacalhau New  Butchers\"],[\"Isca de Peixe Vegway\"],[\"Fil\\u00e9 de Peixe Vegway\"],[\"Vieira de Soja Vegway\"],[\"Bacalhau Incr\\u00edvel Seara\"],[\"Iscas de Peixe Incr\\u00edvel Seara\"],[\"Atum do Futuro\"]],\"hovertemplate\":\"Classification=FISH 1<br>x=%{x}<br>y=%{y}<br>Description=%{customdata[0]}<extra></extra>\",\"legendgroup\":\"FISH 1\",\"marker\":{\"color\":\"#FECB52\",\"symbol\":\"circle\"},\"mode\":\"markers\",\"name\":\"FISH 1\",\"orientation\":\"v\",\"showlegend\":true,\"x\":[16.285350799560547,-2.44503116607666,4.767398834228516,17.082605361938477,15.943829536437988,-4.509606838226318,0.6784800291061401,17.119314193725586],\"xaxis\":\"x\",\"y\":[-6.19767951965332,-29.302505493164062,-32.67653274536133,-21.896120071411133,-22.44794273376465,-28.562740325927734,-33.690765380859375,-4.332437992095947],\"yaxis\":\"y\",\"type\":\"scatter\"},{\"customdata\":[[\"Presunto de Soja Vegway\"],[\"Bacon Vegano\"],[\"Mortadela de Soja Vegana Goshen\"],[\"Presunto de Soja Defumado\"],[\"Presunto de Soja Vegano Fatiado Goshen\"],[\"Bacon Crispy Verdali\"]],\"hovertemplate\":\"Classification=PORK 2<br>x=%{x}<br>y=%{y}<br>Description=%{customdata[0]}<extra></extra>\",\"legendgroup\":\"PORK 2\",\"marker\":{\"color\":\"#636efa\",\"symbol\":\"circle\"},\"mode\":\"markers\",\"name\":\"PORK 2\",\"orientation\":\"v\",\"showlegend\":true,\"x\":[18.27805519104004,9.394179344177246,28.601062774658203,26.520566940307617,28.618175506591797,12.307783126831055],\"xaxis\":\"x\",\"y\":[18.88794708251953,-24.910884857177734,23.139280319213867,21.166561126708984,23.323612213134766,-36.23630905151367],\"yaxis\":\"y\",\"type\":\"scatter\"},{\"customdata\":[[\"Not Milk \"],[\"Not Milk Semidesnatado\"],[\" Vegetal de almonds\"],[\" vegetal \"],[\" Vegetal de almonds Fresco\"],[\" Vegetal  de Caj\\u00fa Fresco\"],[\" Vegetal  Fresco\"],[\" Vegetal Noats Original\"],[\" Vegetal Noats Barista\"],[\" Jasmine rice em P\\u00f3\"],[\" BIOV jasmine rice com amendoas\"],[\" BIOV jasmine rice com coco\"],[\" BioV oats Jasmine\"],[\" Jasmine rice \"],[\" Jasmine rice com oats\"],[\"Bebida de rice Nesfit\"],[\"Bebida Natural Nesfit\"],[\"Bebida de rice  e Amendoas Nesfit\"],[\"Bebida de rice e Coco Nesfit\"],[\"Bebida de oats Nesfit\"],[\"Bebida de oats e cocoa\"],[\"Molico Vegetal Nestl\\u00e9\"],[\"Ninho Vegetal Nestl\\u00e9\"],[\"Ninho Banana e apple Nestl\\u00e9\"],[\"Nude Edi\\u00e7\\u00e3o Barista\"],[\"Nude Original \"],[\"Nude Sabor Baunilha\"],[\"Nude de cocoa\"],[\"Nude + calcium\"],[\"Nude Barista\"],[\"Almond Breeze Original\"],[\"Almond Breeze Chocolate\"],[\"Almond Breeze Baunilha\"],[\"Almond Breeze Sem sugar\"],[\"Almond Breeze Amendoas com Coco\"],[\"Almond Breeze Chocolate Sem sugar\"],[\" de Amendoas Silk Sem sugar\"],[\" de Amendoas Silk \"],[\" cashews Silk\"],[\" de almonds e cocoa Silk\"],[\" de almonds Silk Coco\"],[\"Bebida de rice L\\u00edquida Sabor Original\"],[\"Bebida de rice L\\u00edquida Sabor almonds\"],[\"Bebida de rice L\\u00edquida Sabor peanuts\\n\"],[\"Bebida de rice L\\u00edquida Sabor cashews\"],[\"Bebida de rice L\\u00edquida Sabor Chocolate\"],[\"Bebida de rice L\\u00edquida Sabor Coco\"],[\"Bebida de rice L\\u00edquida Sabor Baunilha\"],[\"Bebida de rice Em P\\u00f3 Sabor Original\"],[\"Bebida de rice Em P\\u00f3 Sabor Original\"],[\"Bebida de rice Em P\\u00f3 Sabor Banana e apple\"],[\"Bebida de rice Em P\\u00f3 Sabor Chocolate\"],[\"Bebida de rice Em P\\u00f3 Sabor strawberries\"],[\" a tal da castanha barista\"],[\" a tal da castanha original\"],[\" a tal da castanha caju + Coco\"],[\" a tal da castanha almonds\"],[\" a tal da castanha castanha + cocoa\"],[\" a tal da castanha oats\"],[\" a tal da castanha mixed nuts\"],[\" a tal da castanha caju + Par\\u00e1\"],[\" a tal da castanha caju + peanuts\"],[\" Natuterra oats + Coco\"],[\" de almonds Natuterra\"],[\" Natuterra oats \"],[\" Vegetal 3 Nuts \\u2013 macadamianuts, almonds e cashews\"],[\" Vegetal de macadamianuts e Coco\"],[\" Vegetal de macadamianuts e cashews\"],[\" Vegetal Possible Foods\"],[\" Vegetal Possible Foods Chocolate\"],[\"Bebida de castanh de caj\\u00fa sem adi\\u00e7\\u00e3o de sugar nature's heart\"],[\"Bebida de almonds s/ adi\\u00e7\\u00e3o de sugares 1L \\u2013 Nature\\u2019s Heart\"],[\"Bebida de rice s/ adi\\u00e7\\u00e3o de sugares 1L \\u2013 Nature\\u2019s Heart\"],[\"Bebida de oats s/ adi\\u00e7\\u00e3o de sugares 1L \\u2013 Nature\\u2019s Heart\"],[\"Bebida de cocoa & rice 1L \\u2013 Nature\\u2019s Heart\"],[\"Bebida  & rice s/ adi\\u00e7\\u00e3o de sugares 1L \\u2013 Nature\\u2019s Heart\"],[\" Vegetal de soy Naturis Batavo\"],[\" DUOLAT peanuts E CASTANHA 1L - CAJUEIRO\"],[\" 85 CASTANHAS 1L - CAJUEIRO\"],[\" TOASTED 1L - CAJUEIRO\"]],\"hovertemplate\":\"Classification=DAIRY 1<br>x=%{x}<br>y=%{y}<br>Description=%{customdata[0]}<extra></extra>\",\"legendgroup\":\"DAIRY 1\",\"marker\":{\"color\":\"#EF553B\",\"symbol\":\"circle\"},\"mode\":\"markers\",\"name\":\"DAIRY 1\",\"orientation\":\"v\",\"showlegend\":true,\"x\":[-30.01399040222168,-29.9687442779541,-28.82649803161621,-30.12511444091797,-28.989459991455078,-28.93455696105957,-30.368858337402344,-60.70660400390625,-60.9132080078125,58.448692321777344,39.88209915161133,58.35264587402344,-61.251651763916016,57.93790054321289,57.2825813293457,50.02399826049805,49.55577850341797,49.768218994140625,48.9290885925293,48.35756301879883,51.02253341674805,54.09214782714844,54.14373016357422,59.733116149902344,48.622867584228516,38.32313919067383,40.520362854003906,40.936370849609375,47.274593353271484,48.62086486816406,45.76423645019531,55.10145568847656,50.740238189697266,-22.817182540893555,-23.10346794128418,-21.655698776245117,-56.92267990112305,36.505435943603516,-57.007774353027344,-59.52004623413086,-57.341407775878906,-53.143409729003906,-51.31352615356445,-52.817691802978516,-51.74429702758789,-52.446617126464844,-53.5222053527832,-52.0714225769043,-46.25726318359375,-45.97014236450195,-44.94468688964844,-45.627994537353516,-45.1562614440918,36.230255126953125,-57.679901123046875,-57.06043243408203,-28.450172424316406,-51.36631774902344,47.009708404541016,-27.272254943847656,-57.19477081298828,-56.5734977722168,-26.434181213378906,-26.81015396118164,-25.827198028564453,-58.60789489746094,-59.59273910522461,-58.70960998535156,45.402381896972656,49.54558563232422,-27.233680725097656,-26.904857635498047,49.39973449707031,48.38201141357422,55.17028045654297,48.12774658203125,-28.633020401000977,-60.80086135864258,-60.3138313293457,-59.32483673095703],\"xaxis\":\"x\",\"y\":[-15.613677024841309,-15.609423637390137,-10.10295581817627,-10.204787254333496,-10.703389167785645,-11.614011764526367,-10.892744064331055,19.845455169677734,20.41950225830078,-37.10868835449219,-41.538597106933594,-37.62661361694336,20.11768341064453,-36.96842956542969,-37.99959182739258,-32.86336898803711,-39.900390625,-32.19040298461914,-32.12590026855469,-32.36989212036133,-29.281227111816406,-23.022321701049805,-22.962749481201172,-36.423336029052734,-39.465179443359375,-41.85022735595703,-41.09571075439453,-41.26348114013672,-36.532310485839844,-39.468482971191406,-27.844514846801758,-30.567949295043945,-30.766170501708984,-6.073207855224609,-5.971895694732666,-6.559323310852051,1.3615121841430664,-42.317710876464844,1.157669186592102,6.868448734283447,0.09334002435207367,17.91737937927246,17.34113121032715,16.09947967529297,16.4086971282959,17.129425048828125,16.887197494506836,18.1254940032959,-41.70344543457031,-40.9566650390625,-41.773338317871094,-42.216064453125,-40.98401641845703,-42.385528564453125,-7.97626256942749,-8.19485092163086,-3.1815853118896484,14.628619194030762,-28.832801818847656,-10.720236778259277,-8.76708698272705,-9.842864036560059,-3.251603603363037,-3.6926496028900146,-4.115110397338867,-5.133861064910889,-3.6656088829040527,-5.86111307144165,-27.53884506225586,-30.427091598510742,-4.795657634735107,-4.948003768920898,-34.80714416503906,-34.587955474853516,-30.629749298095703,-34.99232482910156,-13.14747428894043,-5.6463236808776855,-5.20440149307251,-5.876234531402588],\"yaxis\":\"y\",\"type\":\"scatter\"},{\"customdata\":[[\"Iogurte \"],[\"Iogurte  com strawberries\"],[\"Iogurte  com banana, apple e papaya\"],[\"Iogurte  Zero sugar\"],[\"Iogurte  com strawberries Zero sugar\"],[\"Iogurte GregoVeg \"],[\"Iogurte GregoVeg  com strawberries\"],[\"Iogurte Proteico 14g sabor strawberries\"],[\"Shake \"],[\"Iogurte Proteico 14g sabor  peanuts\"],[\"Creme de almonds\"]],\"hovertemplate\":\"Classification=DAIRY 2<br>x=%{x}<br>y=%{y}<br>Description=%{customdata[0]}<extra></extra>\",\"legendgroup\":\"DAIRY 2\",\"marker\":{\"color\":\"#00cc96\",\"symbol\":\"circle\"},\"mode\":\"markers\",\"name\":\"DAIRY 2\",\"orientation\":\"v\",\"showlegend\":true,\"x\":[-36.01146697998047,-36.57000732421875,-36.0975227355957,-33.41181564331055,-33.49667739868164,-50.48294448852539,-50.48056411743164,-26.215900421142578,-62.03581619262695,-26.219064712524414,1.7770087718963623],\"xaxis\":\"x\",\"y\":[-16.060157775878906,-16.321033477783203,-16.668167114257812,-12.760421752929688,-12.859197616577148,11.028156280517578,11.03300952911377,-16.70435905456543,-4.716308116912842,-16.69469451904297,57.81163024902344],\"yaxis\":\"y\",\"type\":\"scatter\"},{\"customdata\":[[\"MAIONESE VEGETAL SUPERBOM\"],[\"MAIONESE FUGINI\"],[\"NOT MAYO\"],[\"NOT MAYO garlic\"],[\"NOT MAYO AZEITONA\"],[\"NOT MAYO PICANTE\"],[\"MAIONESE V-MAYO\"],[\"MAIONESE V-MAYO ApepperDA\"],[\"MAIONESE V-MAYO TRUFADA\"],[\"MAIONESE V-MAYO DE ABACATE\"],[\"MAIONESE V-MAYO DE garlic\"],[\"MAIONESE HELLMANS\"],[\"MAIONESE VEGANA FUGINI\"],[\"MAIONESE DEL\\u00cdCIAS DE GOI\\u00c1S\"]],\"hovertemplate\":\"Classification=EGG 1<br>x=%{x}<br>y=%{y}<br>Description=%{customdata[0]}<extra></extra>\",\"legendgroup\":\"EGG 1\",\"marker\":{\"color\":\"#ab63fa\",\"symbol\":\"circle\"},\"mode\":\"markers\",\"name\":\"EGG 1\",\"orientation\":\"v\",\"showlegend\":true,\"x\":[28.96558380126953,-23.38960838317871,-16.798917770385742,-17.25670051574707,-16.435468673706055,-16.34581184387207,-22.174129486083984,-21.69014549255371,-21.502880096435547,-20.918439865112305,-20.782005310058594,-22.86539649963379,-10.556221961975098,13.014974594116211],\"xaxis\":\"x\",\"y\":[24.09934425354004,37.56814956665039,52.77512741088867,52.54872131347656,51.468326568603516,51.41594314575195,41.015525817871094,41.625728607177734,40.58232879638672,41.63339614868164,40.81876754760742,37.837528228759766,43.47050094604492,27.613086700439453],\"yaxis\":\"y\",\"type\":\"scatter\"},{\"customdata\":[[\"Ovos Novos\"],[\"Ovos Novos\"]],\"hovertemplate\":\"Classification=EGG 2<br>x=%{x}<br>y=%{y}<br>Description=%{customdata[0]}<extra></extra>\",\"legendgroup\":\"EGG 2\",\"marker\":{\"color\":\"#FFA15A\",\"symbol\":\"circle\"},\"mode\":\"markers\",\"name\":\"EGG 2\",\"orientation\":\"v\",\"showlegend\":true,\"x\":[-19.516725540161133,-19.523990631103516],\"xaxis\":\"x\",\"y\":[-48.958560943603516,-49.121315002441406],\"yaxis\":\"y\",\"type\":\"scatter\"}],                        {\"template\":{\"data\":{\"bar\":[{\"error_x\":{\"color\":\"#2a3f5f\"},\"error_y\":{\"color\":\"#2a3f5f\"},\"marker\":{\"line\":{\"color\":\"#E5ECF6\",\"width\":0.5},\"pattern\":{\"fillmode\":\"overlay\",\"size\":10,\"solidity\":0.2}},\"type\":\"bar\"}],\"barpolar\":[{\"marker\":{\"line\":{\"color\":\"#E5ECF6\",\"width\":0.5},\"pattern\":{\"fillmode\":\"overlay\",\"size\":10,\"solidity\":0.2}},\"type\":\"barpolar\"}],\"carpet\":[{\"aaxis\":{\"endlinecolor\":\"#2a3f5f\",\"gridcolor\":\"white\",\"linecolor\":\"white\",\"minorgridcolor\":\"white\",\"startlinecolor\":\"#2a3f5f\"},\"baxis\":{\"endlinecolor\":\"#2a3f5f\",\"gridcolor\":\"white\",\"linecolor\":\"white\",\"minorgridcolor\":\"white\",\"startlinecolor\":\"#2a3f5f\"},\"type\":\"carpet\"}],\"choropleth\":[{\"colorbar\":{\"outlinewidth\":0,\"ticks\":\"\"},\"type\":\"choropleth\"}],\"contour\":[{\"colorbar\":{\"outlinewidth\":0,\"ticks\":\"\"},\"colorscale\":[[0.0,\"#0d0887\"],[0.1111111111111111,\"#46039f\"],[0.2222222222222222,\"#7201a8\"],[0.3333333333333333,\"#9c179e\"],[0.4444444444444444,\"#bd3786\"],[0.5555555555555556,\"#d8576b\"],[0.6666666666666666,\"#ed7953\"],[0.7777777777777778,\"#fb9f3a\"],[0.8888888888888888,\"#fdca26\"],[1.0,\"#f0f921\"]],\"type\":\"contour\"}],\"contourcarpet\":[{\"colorbar\":{\"outlinewidth\":0,\"ticks\":\"\"},\"type\":\"contourcarpet\"}],\"heatmap\":[{\"colorbar\":{\"outlinewidth\":0,\"ticks\":\"\"},\"colorscale\":[[0.0,\"#0d0887\"],[0.1111111111111111,\"#46039f\"],[0.2222222222222222,\"#7201a8\"],[0.3333333333333333,\"#9c179e\"],[0.4444444444444444,\"#bd3786\"],[0.5555555555555556,\"#d8576b\"],[0.6666666666666666,\"#ed7953\"],[0.7777777777777778,\"#fb9f3a\"],[0.8888888888888888,\"#fdca26\"],[1.0,\"#f0f921\"]],\"type\":\"heatmap\"}],\"heatmapgl\":[{\"colorbar\":{\"outlinewidth\":0,\"ticks\":\"\"},\"colorscale\":[[0.0,\"#0d0887\"],[0.1111111111111111,\"#46039f\"],[0.2222222222222222,\"#7201a8\"],[0.3333333333333333,\"#9c179e\"],[0.4444444444444444,\"#bd3786\"],[0.5555555555555556,\"#d8576b\"],[0.6666666666666666,\"#ed7953\"],[0.7777777777777778,\"#fb9f3a\"],[0.8888888888888888,\"#fdca26\"],[1.0,\"#f0f921\"]],\"type\":\"heatmapgl\"}],\"histogram\":[{\"marker\":{\"pattern\":{\"fillmode\":\"overlay\",\"size\":10,\"solidity\":0.2}},\"type\":\"histogram\"}],\"histogram2d\":[{\"colorbar\":{\"outlinewidth\":0,\"ticks\":\"\"},\"colorscale\":[[0.0,\"#0d0887\"],[0.1111111111111111,\"#46039f\"],[0.2222222222222222,\"#7201a8\"],[0.3333333333333333,\"#9c179e\"],[0.4444444444444444,\"#bd3786\"],[0.5555555555555556,\"#d8576b\"],[0.6666666666666666,\"#ed7953\"],[0.7777777777777778,\"#fb9f3a\"],[0.8888888888888888,\"#fdca26\"],[1.0,\"#f0f921\"]],\"type\":\"histogram2d\"}],\"histogram2dcontour\":[{\"colorbar\":{\"outlinewidth\":0,\"ticks\":\"\"},\"colorscale\":[[0.0,\"#0d0887\"],[0.1111111111111111,\"#46039f\"],[0.2222222222222222,\"#7201a8\"],[0.3333333333333333,\"#9c179e\"],[0.4444444444444444,\"#bd3786\"],[0.5555555555555556,\"#d8576b\"],[0.6666666666666666,\"#ed7953\"],[0.7777777777777778,\"#fb9f3a\"],[0.8888888888888888,\"#fdca26\"],[1.0,\"#f0f921\"]],\"type\":\"histogram2dcontour\"}],\"mesh3d\":[{\"colorbar\":{\"outlinewidth\":0,\"ticks\":\"\"},\"type\":\"mesh3d\"}],\"parcoords\":[{\"line\":{\"colorbar\":{\"outlinewidth\":0,\"ticks\":\"\"}},\"type\":\"parcoords\"}],\"pie\":[{\"automargin\":true,\"type\":\"pie\"}],\"scatter\":[{\"marker\":{\"colorbar\":{\"outlinewidth\":0,\"ticks\":\"\"}},\"type\":\"scatter\"}],\"scatter3d\":[{\"line\":{\"colorbar\":{\"outlinewidth\":0,\"ticks\":\"\"}},\"marker\":{\"colorbar\":{\"outlinewidth\":0,\"ticks\":\"\"}},\"type\":\"scatter3d\"}],\"scattercarpet\":[{\"marker\":{\"colorbar\":{\"outlinewidth\":0,\"ticks\":\"\"}},\"type\":\"scattercarpet\"}],\"scattergeo\":[{\"marker\":{\"colorbar\":{\"outlinewidth\":0,\"ticks\":\"\"}},\"type\":\"scattergeo\"}],\"scattergl\":[{\"marker\":{\"colorbar\":{\"outlinewidth\":0,\"ticks\":\"\"}},\"type\":\"scattergl\"}],\"scattermapbox\":[{\"marker\":{\"colorbar\":{\"outlinewidth\":0,\"ticks\":\"\"}},\"type\":\"scattermapbox\"}],\"scatterpolar\":[{\"marker\":{\"colorbar\":{\"outlinewidth\":0,\"ticks\":\"\"}},\"type\":\"scatterpolar\"}],\"scatterpolargl\":[{\"marker\":{\"colorbar\":{\"outlinewidth\":0,\"ticks\":\"\"}},\"type\":\"scatterpolargl\"}],\"scatterternary\":[{\"marker\":{\"colorbar\":{\"outlinewidth\":0,\"ticks\":\"\"}},\"type\":\"scatterternary\"}],\"surface\":[{\"colorbar\":{\"outlinewidth\":0,\"ticks\":\"\"},\"colorscale\":[[0.0,\"#0d0887\"],[0.1111111111111111,\"#46039f\"],[0.2222222222222222,\"#7201a8\"],[0.3333333333333333,\"#9c179e\"],[0.4444444444444444,\"#bd3786\"],[0.5555555555555556,\"#d8576b\"],[0.6666666666666666,\"#ed7953\"],[0.7777777777777778,\"#fb9f3a\"],[0.8888888888888888,\"#fdca26\"],[1.0,\"#f0f921\"]],\"type\":\"surface\"}],\"table\":[{\"cells\":{\"fill\":{\"color\":\"#EBF0F8\"},\"line\":{\"color\":\"white\"}},\"header\":{\"fill\":{\"color\":\"#C8D4E3\"},\"line\":{\"color\":\"white\"}},\"type\":\"table\"}]},\"layout\":{\"annotationdefaults\":{\"arrowcolor\":\"#2a3f5f\",\"arrowhead\":0,\"arrowwidth\":1},\"autotypenumbers\":\"strict\",\"coloraxis\":{\"colorbar\":{\"outlinewidth\":0,\"ticks\":\"\"}},\"colorscale\":{\"diverging\":[[0,\"#8e0152\"],[0.1,\"#c51b7d\"],[0.2,\"#de77ae\"],[0.3,\"#f1b6da\"],[0.4,\"#fde0ef\"],[0.5,\"#f7f7f7\"],[0.6,\"#e6f5d0\"],[0.7,\"#b8e186\"],[0.8,\"#7fbc41\"],[0.9,\"#4d9221\"],[1,\"#276419\"]],\"sequential\":[[0.0,\"#0d0887\"],[0.1111111111111111,\"#46039f\"],[0.2222222222222222,\"#7201a8\"],[0.3333333333333333,\"#9c179e\"],[0.4444444444444444,\"#bd3786\"],[0.5555555555555556,\"#d8576b\"],[0.6666666666666666,\"#ed7953\"],[0.7777777777777778,\"#fb9f3a\"],[0.8888888888888888,\"#fdca26\"],[1.0,\"#f0f921\"]],\"sequentialminus\":[[0.0,\"#0d0887\"],[0.1111111111111111,\"#46039f\"],[0.2222222222222222,\"#7201a8\"],[0.3333333333333333,\"#9c179e\"],[0.4444444444444444,\"#bd3786\"],[0.5555555555555556,\"#d8576b\"],[0.6666666666666666,\"#ed7953\"],[0.7777777777777778,\"#fb9f3a\"],[0.8888888888888888,\"#fdca26\"],[1.0,\"#f0f921\"]]},\"colorway\":[\"#636efa\",\"#EF553B\",\"#00cc96\",\"#ab63fa\",\"#FFA15A\",\"#19d3f3\",\"#FF6692\",\"#B6E880\",\"#FF97FF\",\"#FECB52\"],\"font\":{\"color\":\"#2a3f5f\"},\"geo\":{\"bgcolor\":\"white\",\"lakecolor\":\"white\",\"landcolor\":\"#E5ECF6\",\"showlakes\":true,\"showland\":true,\"subunitcolor\":\"white\"},\"hoverlabel\":{\"align\":\"left\"},\"hovermode\":\"closest\",\"mapbox\":{\"style\":\"light\"},\"paper_bgcolor\":\"white\",\"plot_bgcolor\":\"#E5ECF6\",\"polar\":{\"angularaxis\":{\"gridcolor\":\"white\",\"linecolor\":\"white\",\"ticks\":\"\"},\"bgcolor\":\"#E5ECF6\",\"radialaxis\":{\"gridcolor\":\"white\",\"linecolor\":\"white\",\"ticks\":\"\"}},\"scene\":{\"xaxis\":{\"backgroundcolor\":\"#E5ECF6\",\"gridcolor\":\"white\",\"gridwidth\":2,\"linecolor\":\"white\",\"showbackground\":true,\"ticks\":\"\",\"zerolinecolor\":\"white\"},\"yaxis\":{\"backgroundcolor\":\"#E5ECF6\",\"gridcolor\":\"white\",\"gridwidth\":2,\"linecolor\":\"white\",\"showbackground\":true,\"ticks\":\"\",\"zerolinecolor\":\"white\"},\"zaxis\":{\"backgroundcolor\":\"#E5ECF6\",\"gridcolor\":\"white\",\"gridwidth\":2,\"linecolor\":\"white\",\"showbackground\":true,\"ticks\":\"\",\"zerolinecolor\":\"white\"}},\"shapedefaults\":{\"line\":{\"color\":\"#2a3f5f\"}},\"ternary\":{\"aaxis\":{\"gridcolor\":\"white\",\"linecolor\":\"white\",\"ticks\":\"\"},\"baxis\":{\"gridcolor\":\"white\",\"linecolor\":\"white\",\"ticks\":\"\"},\"bgcolor\":\"#E5ECF6\",\"caxis\":{\"gridcolor\":\"white\",\"linecolor\":\"white\",\"ticks\":\"\"}},\"title\":{\"x\":0.05},\"xaxis\":{\"automargin\":true,\"gridcolor\":\"white\",\"linecolor\":\"white\",\"ticks\":\"\",\"title\":{\"standoff\":15},\"zerolinecolor\":\"white\",\"zerolinewidth\":2},\"yaxis\":{\"automargin\":true,\"gridcolor\":\"white\",\"linecolor\":\"white\",\"ticks\":\"\",\"title\":{\"standoff\":15},\"zerolinecolor\":\"white\",\"zerolinewidth\":2}}},\"xaxis\":{\"anchor\":\"y\",\"domain\":[0.0,1.0],\"title\":{\"text\":\"x\"}},\"yaxis\":{\"anchor\":\"x\",\"domain\":[0.0,1.0],\"title\":{\"text\":\"y\"}},\"legend\":{\"title\":{\"text\":\"Classification\"},\"tracegroupgap\":0},\"margin\":{\"t\":60},\"width\":800},                        {\"responsive\": true}                    ).then(function(){\n",
              "                            \n",
              "var gd = document.getElementById('95d5c7b2-4519-4acc-8bac-25a33c560384');\n",
              "var x = new MutationObserver(function (mutations, observer) {{\n",
              "        var display = window.getComputedStyle(gd).display;\n",
              "        if (!display || display === 'none') {{\n",
              "            console.log([gd, 'removed!']);\n",
              "            Plotly.purge(gd);\n",
              "            observer.disconnect();\n",
              "        }}\n",
              "}});\n",
              "\n",
              "// Listen for the removal of the full notebook cells\n",
              "var notebookContainer = gd.closest('#notebook-container');\n",
              "if (notebookContainer) {{\n",
              "    x.observe(notebookContainer, {childList: true});\n",
              "}}\n",
              "\n",
              "// Listen for the clearing of the current output cell\n",
              "var outputEl = gd.closest('.output');\n",
              "if (outputEl) {{\n",
              "    x.observe(outputEl, {childList: true});\n",
              "}}\n",
              "\n",
              "                        })                };                            </script>        </div>\n",
              "</body>\n",
              "</html>"
            ]
          },
          "metadata": {}
        }
      ]
    },
    {
      "cell_type": "code",
      "source": [
        "data_ingredients = label_data.join(ingredients_normalized)\n",
        "reducer = umap.UMAP(n_components=2,n_neighbors=80,metric='euclidean')\n",
        "X_umapI = reducer.fit_transform(X_ingredients)\n",
        "\n",
        "X_umapI[1:4, :]\n",
        "data_ingredients['x'] = X_umapI[:,0]\n",
        "data_ingredients['y'] = X_umapI[:,1]\n",
        "\n",
        "fig = px.scatter(data_ingredients, x='x', y='y', color='Classification', hover_data=[\"Description\"], width=800)\n",
        "fig.show()"
      ],
      "metadata": {
        "id": "Cb9EDEgHalMI",
        "colab": {
          "base_uri": "https://localhost:8080/",
          "height": 542
        },
        "outputId": "7845a378-b099-40a3-a89d-377e15b08a3e"
      },
      "execution_count": 20,
      "outputs": [
        {
          "output_type": "display_data",
          "data": {
            "text/html": [
              "<html>\n",
              "<head><meta charset=\"utf-8\" /></head>\n",
              "<body>\n",
              "    <div>            <script src=\"https://cdnjs.cloudflare.com/ajax/libs/mathjax/2.7.5/MathJax.js?config=TeX-AMS-MML_SVG\"></script><script type=\"text/javascript\">if (window.MathJax) {MathJax.Hub.Config({SVG: {font: \"STIX-Web\"}});}</script>                <script type=\"text/javascript\">window.PlotlyConfig = {MathJaxConfig: 'local'};</script>\n",
              "        <script src=\"https://cdn.plot.ly/plotly-2.8.3.min.js\"></script>                <div id=\"661576b3-2218-4a7a-a3a9-f3c2af09cd7f\" class=\"plotly-graph-div\" style=\"height:525px; width:800px;\"></div>            <script type=\"text/javascript\">                                    window.PLOTLYENV=window.PLOTLYENV || {};                                    if (document.getElementById(\"661576b3-2218-4a7a-a3a9-f3c2af09cd7f\")) {                    Plotly.newPlot(                        \"661576b3-2218-4a7a-a3a9-f3c2af09cd7f\",                        [{\"customdata\":[[\"Carne Mo\\u00edda do Futuro\"],[\"Almondegas de Soja Vegway\"],[\"Almondegas Amazonika Mundi\"],[\"Kibe Incr\\u00edvel Seara\"],[\"Almondegas Incr\\u00edveis Seara\"],[\"Almondegas Mr Veggy\"],[\"Carne Mo\\u00edda Superbom\"],[\"Carne Vegetal Mo\\u00edda Superbom\"],[\"Carne Mo\\u00edda Vegetal Verdali\"]],\"hovertemplate\":\"Classification=MEAT 2<br>x=%{x}<br>y=%{y}<br>Description=%{customdata[0]}<extra></extra>\",\"legendgroup\":\"MEAT 2\",\"marker\":{\"color\":\"#636efa\",\"symbol\":\"circle\"},\"mode\":\"markers\",\"name\":\"MEAT 2\",\"orientation\":\"v\",\"showlegend\":true,\"x\":[30.513607025146484,28.432029724121094,31.250364303588867,31.510364532470703,31.484439849853516,31.09737777709961,32.3040771484375,29.120121002197266,30.381393432617188],\"xaxis\":\"x\",\"y\":[4.0611443519592285,2.776021957397461,3.613098382949829,4.852931022644043,5.113819599151611,3.8313510417938232,1.876009464263916,2.254943370819092,2.6106157302856445],\"yaxis\":\"y\",\"type\":\"scatter\"},{\"customdata\":[[\"Carne Mo\\u00edda do Futuro\"],[\"Fil\\u00e9s Sora Carne Vermelha\"],[\"Fatias Sora Carne Vermelha\"],[\"Fil\\u00e9 Pronto Saud\\u00e1vel Sora\"],[\"Carne Mo\\u00edda Pronto Saud\\u00e1vel Sora\"],[\"Churrasco Vegabom\"],[\"Churrasco Aoniondo Vegabom\"],[\"Carne de Pernil Seara\"],[\"Alm\\u00f4ndega de Soja Vegana Goshen\"],[\"Bife de Soja Vegano Goshen\"],[\"Alm\\u00f4ndega Vegana Superbom\"],[\"Bife Vegetal Superbom\"],[\"Escalope ao Molho Caseiro Superbom\"],[\"Cubinhos ao Molho Mexicano Superbom\"],[\"Alm\\u00f4ndegas ao Molho Sugo Superbom\"],[\"Medalh\\u00e3o ao Molho Madeira Superbom\"],[\"Mignon Verdali\"],[\"Steak Verdali\"]],\"hovertemplate\":\"Classification=MEAT 3<br>x=%{x}<br>y=%{y}<br>Description=%{customdata[0]}<extra></extra>\",\"legendgroup\":\"MEAT 3\",\"marker\":{\"color\":\"#EF553B\",\"symbol\":\"circle\"},\"mode\":\"markers\",\"name\":\"MEAT 3\",\"orientation\":\"v\",\"showlegend\":true,\"x\":[30.31702995300293,29.54987907409668,29.164724349975586,29.76102066040039,29.8286075592041,31.189163208007812,31.105880737304688,31.493738174438477,29.2198486328125,28.803083419799805,32.18694305419922,29.382997512817383,29.198238372802734,29.278587341308594,28.982385635375977,28.92333221435547,30.38501739501953,30.44971466064453],\"xaxis\":\"x\",\"y\":[4.21187162399292,1.0635404586791992,1.2753608226776123,2.2740843296051025,2.315047025680542,4.149029731750488,4.061151504516602,5.126003265380859,3.657329559326172,3.6252949237823486,1.9795693159103394,1.5501978397369385,1.824013113975525,1.8155328035354614,2.3267507553100586,2.3805348873138428,2.702439785003662,2.6004996299743652],\"yaxis\":\"y\",\"type\":\"scatter\"},{\"customdata\":[[\"Frango do Futuro\"],[\"Fatias Sora Carne Branca\"],[\"Fil\\u00e9s Sora Carne Branca\"],[\"Strogonoff de Frango Vegabom\"],[\"Tiras de Frango New Butchers\"],[\"Fil\\u00e9 de Frango Desfiado Vegway\"],[\"Frango Veg e Tal Sadia\"],[\"Frango Veg e Tal Sadia Desfiado\"],[\"Peito de Peru de Soja\"],[\"Peito de Peru de Soja Vegano\"],[\"Tiras de Ave Verdali\"],[\"Fil\\u00e9 sem Frango Verdali\"],[\"Mini Fil\\u00e9 de Frango Verdali\"]],\"hovertemplate\":\"Classification=POULTRY 3<br>x=%{x}<br>y=%{y}<br>Description=%{customdata[0]}<extra></extra>\",\"legendgroup\":\"POULTRY 3\",\"marker\":{\"color\":\"#00cc96\",\"symbol\":\"circle\"},\"mode\":\"markers\",\"name\":\"POULTRY 3\",\"orientation\":\"v\",\"showlegend\":true,\"x\":[30.304838180541992,29.209142684936523,29.251585006713867,31.527294158935547,32.2417106628418,28.492801666259766,33.21412658691406,33.25674057006836,28.8826961517334,29.14677619934082,31.2110652923584,30.988771438598633,30.881113052368164],\"xaxis\":\"x\",\"y\":[4.228240966796875,1.3198988437652588,1.3579959869384766,3.964858293533325,1.170011281967163,2.73248028755188,2.8826048374176025,2.7907910346984863,4.092102527618408,3.815004587173462,2.9881982803344727,2.6192996501922607,2.4793174266815186],\"yaxis\":\"y\",\"type\":\"scatter\"},{\"customdata\":[[\"Lingui\\u00e7a do Futuro\"],[\"Lingui\\u00e7a calabresa vegabom\"],[\"saltsicha de chickpea Vegabom\"],[\"Vegway Soy Sausage\"],[\"saltsichas Incriveis Seara\"],[\"Lingui\\u00e7a Apimentada de Soja Goshen\"],[\"Lingui\\u00e7a Calabresa de Soja Goshen\"],[\"Lingui\\u00e7a de Soja Vegana Goshen\"],[\"Lingui\\u00e7a Toscana de Soja Goshen\"],[\"saltsicha de Soja Vegana Goshen\"],[\"saltsicha Vegetal Superbom\"],[\"saltsicha Vegetal Defumada Superbom\"]],\"hovertemplate\":\"Classification=PORK 1<br>x=%{x}<br>y=%{y}<br>Description=%{customdata[0]}<extra></extra>\",\"legendgroup\":\"PORK 1\",\"marker\":{\"color\":\"#ab63fa\",\"symbol\":\"circle\"},\"mode\":\"markers\",\"name\":\"PORK 1\",\"orientation\":\"v\",\"showlegend\":true,\"x\":[30.435319900512695,30.438953399658203,30.108898162841797,28.383460998535156,31.48337173461914,28.88677978515625,29.128385543823242,28.9749755859375,28.85978126525879,29.056848526000977,29.270553588867188,29.356584548950195],\"xaxis\":\"x\",\"y\":[3.944350481033325,3.2687535285949707,3.2662017345428467,2.7472500801086426,5.132315635681152,4.003842830657959,4.130713939666748,3.8037450313568115,4.036160945892334,3.827533721923828,2.4554169178009033,2.3421335220336914],\"yaxis\":\"y\",\"type\":\"scatter\"},{\"customdata\":[[\"Hamburguer de Soja Goshen\"],[\"Hamburguer de Soja Vegano Goshen\"],[\"Hamburguer de Quinoa Mr Veggy\"],[\"Hamburguer de lentil Mr Veggy\"],[\"Hamburguer vegano falafel amazonika mundi\"],[\"Hamburguer Vegetal Verdali\"],[\"VegBurger Sabor Carne\"],[\"Burger Gourmet Superbom\"],[\"Hamburguer Incr\\u00edvel Seara\"],[\"Not Burguer Notco\"],[\"Hamburguer de Fibra de Caju Amazonika Mundi\"],[\"Hamburguer Vegabom\"],[\"Hamburguer de Carne Veg  e Tal Sadia\"],[\"Hamburger New Butchers\"],[\"Hamburguer de Legumes Mr Veggy\"],[\"Hamburguer Vegetariano Mr Veggy\"],[\"Hambuguer Mr Veggy Mari Mari\"],[\"Hambuguer Mr Veggy Mari Mari Churrrasco\"],[\"Hamb\\u00farguer Fazenda Futuro 2.0\"],[\"Hamb\\u00farguer Vegano de Quinoa Amazonika Mundi\"],[\"Hamburguer Veggie Roots Tempero Indiano\"],[\"Hamb\\u00farguer Sora Carne Vermelha \"],[\"Hamburguer Veggie Roots brazilianspices\"],[\"Hamburguer veggie roots tempero mexicano\"],[\"Hamburguer de Soja Sabor Carne Vegway\"],[\"Hamb\\u00farguer de Soja Empanado Vegway\"],[\"Hamburguer Vegetal Superbom\"],[\"Hamburguer de chickpea Mr Veggy\"],[\"Hamburguer Veggie Roots Tempero \\u00c1rabe\"],[\"Hamburguer Veggie Roots Tempero Tailand\\u00eas\"],[\"Hamburguer Vegabom\"],[\"Hamb\\u00farguer Pronto Saud\\u00e1vel Sora\"],[\"hamburguer vegetal com herbs jasmine\"],[\"Hamburguer Vegetal Tradicional Jasmine\"]],\"hovertemplate\":\"Classification=MEAT 1<br>x=%{x}<br>y=%{y}<br>Description=%{customdata[0]}<extra></extra>\",\"legendgroup\":\"MEAT 1\",\"marker\":{\"color\":\"#FFA15A\",\"symbol\":\"circle\"},\"mode\":\"markers\",\"name\":\"MEAT 1\",\"orientation\":\"v\",\"showlegend\":true,\"x\":[28.696107864379883,29.124252319335938,33.07176208496094,32.229270935058594,32.90802764892578,31.09765625,30.25638198852539,30.525951385498047,31.53243637084961,33.388065338134766,31.37595558166504,30.403596878051758,32.11100387573242,32.36628341674805,30.85383415222168,30.654735565185547,30.803184509277344,30.90015983581543,30.437305450439453,32.99446105957031,30.1035213470459,29.443180084228516,30.046039581298828,30.130359649658203,28.53414535522461,28.707923889160156,28.734426498413086,32.53933334350586,29.844223022460938,29.65892219543457,30.609254837036133,29.817243576049805,30.0444278717041,30.54105567932129],\"xaxis\":\"x\",\"y\":[3.378021240234375,4.013347148895264,2.5835623741149902,2.5056312084198,3.045891284942627,2.9817559719085693,1.1018658876419067,2.3006701469421387,5.199347972869873,2.77397084236145,3.6610758304595947,3.327998399734497,3.6627349853515625,1.4032566547393799,3.5464491844177246,3.6301486492156982,3.4679903984069824,3.363614797592163,4.0981526374816895,2.832533359527588,2.156403064727783,1.1530017852783203,1.8169832229614258,1.7925914525985718,2.7237584590911865,2.627713918685913,2.5059289932250977,2.489476442337036,1.6453365087509155,1.4672298431396484,3.4578092098236084,2.4051730632781982,1.2259979248046875,1.4535218477249146],\"yaxis\":\"y\",\"type\":\"scatter\"},{\"customdata\":[[\"Hamb\\u00farguer Sora Carne Branca\"],[\"VegBurger Sabor Frango\"],[\"Hambuguer Incr\\u00edvel Seara Frango\"],[\"Frango Vegano em Peda\\u00e7os \\u00e0 Base de pea\"],[\"Hamb\\u00farguer de Frango Verdali\"]],\"hovertemplate\":\"Classification=POULTRY 2<br>x=%{x}<br>y=%{y}<br>Description=%{customdata[0]}<extra></extra>\",\"legendgroup\":\"POULTRY 2\",\"marker\":{\"color\":\"#19d3f3\",\"symbol\":\"circle\"},\"mode\":\"markers\",\"name\":\"POULTRY 2\",\"orientation\":\"v\",\"showlegend\":true,\"x\":[29.467893600463867,30.05282974243164,31.5540828704834,32.8660888671875,30.738431930541992],\"xaxis\":\"x\",\"y\":[1.3154606819152832,1.006213903427124,5.205901145935059,2.59078311920166,2.479189395904541],\"yaxis\":\"y\",\"type\":\"scatter\"},{\"customdata\":[[\"Empanado de Frango Vegabom\"],[\"Fil\\u00e9 de Frango Empanado Vegabom\"],[\"Empanados de Frango Vegway\"],[\"Empanados Incr\\u00edveis Seara\"],[\"Empanados Sadia Veg e Tal\"],[\"Empanadinho de Soja  Goshen\"],[\"Empanadinho de Soja Vegano  Goshen\"],[\"Steak de Soja Vegano Goshen\"],[\"Empanado Vegano (Mini Crispy) 100 Foods\"],[\"Crispy Chicken 100 Foods\"],[\"Mini Empanado de Legumes Superbom\"],[\"Steak Vegan Sabor Legumes Superbom\"],[\"Steak Veg\\u00ea Sabor Frango\"],[\"Steak Veg\\u00ea Sabor Frango Empanado\"]],\"hovertemplate\":\"Classification=POULTRY 1<br>x=%{x}<br>y=%{y}<br>Description=%{customdata[0]}<extra></extra>\",\"legendgroup\":\"POULTRY 1\",\"marker\":{\"color\":\"#FF6692\",\"symbol\":\"circle\"},\"mode\":\"markers\",\"name\":\"POULTRY 1\",\"orientation\":\"v\",\"showlegend\":true,\"x\":[29.95122528076172,30.02956199645996,28.43681526184082,31.450998306274414,31.508947372436523,28.715839385986328,29.327129364013672,28.831457138061523,31.220130920410156,31.059762954711914,31.12369728088379,31.094886779785156,30.431814193725586,30.789663314819336],\"xaxis\":\"x\",\"y\":[3.300083875656128,3.1993162631988525,2.757092237472534,4.3260498046875,4.298084259033203,3.54362416267395,3.543626070022583,3.569127082824707,3.104731559753418,3.2434298992156982,2.091191291809082,2.028303861618042,2.4716525077819824,2.3370585441589355],\"yaxis\":\"y\",\"type\":\"scatter\"},{\"customdata\":[[\"Fil\\u00e9 Peixe Empanado Vegabom\"],[\"Tirinhas de Peixe Empanado Vegabom\"],[\"Bolinho de Bacalhau New Butchers\"],[\"Bolinho de Siri Amazonika Mundi\"],[\"Camar\\u00e3o de Soja Vegano Goshen\"]],\"hovertemplate\":\"Classification=FISH 2<br>x=%{x}<br>y=%{y}<br>Description=%{customdata[0]}<extra></extra>\",\"legendgroup\":\"FISH 2\",\"marker\":{\"color\":\"#B6E880\",\"symbol\":\"circle\"},\"mode\":\"markers\",\"name\":\"FISH 2\",\"orientation\":\"v\",\"showlegend\":true,\"x\":[29.89249610900879,29.91351890563965,32.67722702026367,29.730262756347656,28.92909812927246],\"xaxis\":\"x\",\"y\":[3.284123420715332,3.2483859062194824,2.150550365447998,1.9503624439239502,4.116565704345703],\"yaxis\":\"y\",\"type\":\"scatter\"},{\"customdata\":[[\"Queijo Mu\\u00e7arela Vegabom\"],[\"Queijo Picante Vegabom\"],[\"Queijo Cheddar Vegabom\"],[\"Requeisoy Provolone \"],[\"Requeisoy Cheddar' \"],[\"Requeisoy Tradicional\"],[\"Requeisoy Gorgonzola\"],[\"Okeijo R\\u00fastico\"],[\"Okeijo Cremoso\"],[\"Okeijo Gratinado\"],[\"Okeijo Mussarela\"],[\"Okeijo Provolone\"],[\"Creme s Vida Veg\"],[\"Creme s fineherbs e Pesto\"],[\"Queijo mu\\u00e7arela\"],[\"Queijo minas frescal\"],[\"Queijo minas padr\\u00e3o\"],[\"Requeij\\u00e3o Tradicional\"],[\"Requeij\\u00e3o fineherbs\"],[\"Requeij\\u00e3o Defumado\"],[\"Queijo Zimurisku \"],[\"Queijo Zimurisku Temperado\"],[\"Queijo Mozarela NoMoo\"],[\"Queijo Provolone\"],[\"Queijo Ch\\u00e9vre\"],[\"Queijo Prato\"],[\"Queijo Parmes\\u00e3o\"],[\"Requeij\\u00e3o Nomoo\"],[\"Queijo Gorgolino\"],[\"Queijo Melhor Que Cheddar\"],[\"Queijo Recaishow\"],[\"Queijo Brie\"],[\"Mussarela Vegana Goshen\"],[\"Queijo ProVolone Veganita\"],[\"Queijo Munster Veganita\"],[\"Queijo Brie Veganita\"],[\"Queijo Mussarela Veganita\"],[\"Queijo Cheddar Veganita\"],[\"CREAM CHEESE CULIN\\u00c1RIO BASI.CO\"],[\"REQUEIJ\\u00c3O VEGETAL\"],[\"QUEIJO PARMES\\u00c3O\"],[\"QUEIJO MINAS VEGETAL\"],[\"QUEIJO PRATO\"],[\"QUEIJO MU\\u00c7ARELA\"],[\"QUEIJO CHEDDAR\"]],\"hovertemplate\":\"Classification=DAIRY 3<br>x=%{x}<br>y=%{y}<br>Description=%{customdata[0]}<extra></extra>\",\"legendgroup\":\"DAIRY 3\",\"marker\":{\"color\":\"#FF97FF\",\"symbol\":\"circle\"},\"mode\":\"markers\",\"name\":\"DAIRY 3\",\"orientation\":\"v\",\"showlegend\":true,\"x\":[31.683795928955078,31.856704711914062,31.906957626342773,32.188575744628906,31.93220329284668,32.06755065917969,31.87352752685547,31.529447555541992,31.402374267578125,33.12809753417969,31.823986053466797,31.711246490478516,31.888721466064453,31.74776268005371,31.784893035888672,31.72671127319336,31.852231979370117,31.48514175415039,31.46459197998047,31.464035034179688,31.33619499206543,30.956693649291992,29.81725311279297,29.80765151977539,29.552461624145508,29.710220336914062,29.780563354492188,30.865568161010742,30.990509033203125,31.117902755737305,31.117950439453125,30.640621185302734,32.81608581542969,29.594209671020508,29.556188583374023,29.55318260192871,29.50200653076172,29.582849502563477,32.15190887451172,31.91112518310547,30.519968032836914,31.697084426879883,30.909852981567383,30.802722930908203,30.84205436706543],\"xaxis\":\"x\",\"y\":[3.0084097385406494,2.8643922805786133,2.821868419647217,3.233654022216797,3.0783166885375977,3.173194646835327,3.154493570327759,3.410349130630493,3.263091564178467,3.1682839393615723,3.2420997619628906,3.2839226722717285,0.6091763973236084,0.7495073080062866,0.76937335729599,0.7238430380821228,0.723790168762207,0.26405298709869385,0.2692440450191498,0.2985053062438965,1.8892271518707275,1.9237664937973022,0.24357633292675018,0.27488216757774353,0.5045453906059265,0.2076723873615265,0.5335806608200073,2.638511896133423,2.552022695541382,2.4770760536193848,2.7296769618988037,1.9698827266693115,2.9441726207733154,0.27770107984542847,0.3055354058742523,0.2895687222480774,0.19913573563098907,0.2439301609992981,1.3124547004699707,1.5630502700805664,1.9769937992095947,1.4542086124420166,1.3466126918792725,1.1224931478500366,1.2365580797195435],\"yaxis\":\"y\",\"type\":\"scatter\"},{\"customdata\":[[\"Fil\\u00e9 de saltm\\u00e3o New Butchers\"],[\"Bacalhau New  Butchers\"],[\"Isca de Peixe Vegway\"],[\"Fil\\u00e9 de Peixe Vegway\"],[\"Vieira de Soja Vegway\"],[\"Bacalhau Incr\\u00edvel Seara\"],[\"Iscas de Peixe Incr\\u00edvel Seara\"],[\"Atum do Futuro\"]],\"hovertemplate\":\"Classification=FISH 1<br>x=%{x}<br>y=%{y}<br>Description=%{customdata[0]}<extra></extra>\",\"legendgroup\":\"FISH 1\",\"marker\":{\"color\":\"#FECB52\",\"symbol\":\"circle\"},\"mode\":\"markers\",\"name\":\"FISH 1\",\"orientation\":\"v\",\"showlegend\":true,\"x\":[32.806312561035156,32.50351333618164,28.238367080688477,28.46376609802246,28.57787322998047,31.49767303466797,31.488178253173828,32.684181213378906],\"xaxis\":\"x\",\"y\":[2.6769843101501465,2.2992899417877197,2.591799736022949,2.8261899948120117,2.7334306240081787,5.135697364807129,4.398798942565918,3.04187273979187],\"yaxis\":\"y\",\"type\":\"scatter\"},{\"customdata\":[[\"Presunto de Soja Vegway\"],[\"Bacon Vegano\"],[\"Mortadela de Soja Vegana Goshen\"],[\"Presunto de Soja Defumado\"],[\"Presunto de Soja Vegano Fatiado Goshen\"],[\"Bacon Crispy Verdali\"]],\"hovertemplate\":\"Classification=PORK 2<br>x=%{x}<br>y=%{y}<br>Description=%{customdata[0]}<extra></extra>\",\"legendgroup\":\"PORK 2\",\"marker\":{\"color\":\"#636efa\",\"symbol\":\"circle\"},\"mode\":\"markers\",\"name\":\"PORK 2\",\"orientation\":\"v\",\"showlegend\":true,\"x\":[28.390546798706055,32.837589263916016,29.152294158935547,28.81709098815918,29.15399932861328,30.09100341796875],\"xaxis\":\"x\",\"y\":[2.7977781295776367,2.7396745681762695,3.8168675899505615,3.954440116882324,3.9480209350585938,2.3218724727630615],\"yaxis\":\"y\",\"type\":\"scatter\"},{\"customdata\":[[\"Not Milk \"],[\"Not Milk Semidesnatado\"],[\" Vegetal de almonds\"],[\" vegetal \"],[\" Vegetal de almonds Fresco\"],[\" Vegetal  de Caj\\u00fa Fresco\"],[\" Vegetal  Fresco\"],[\" Vegetal Noats Original\"],[\" Vegetal Noats Barista\"],[\" Jasmine rice em P\\u00f3\"],[\" BIOV jasmine rice com amendoas\"],[\" BIOV jasmine rice com coco\"],[\" BioV oats Jasmine\"],[\" Jasmine rice \"],[\" Jasmine rice com oats\"],[\"Bebida de rice Nesfit\"],[\"Bebida Natural Nesfit\"],[\"Bebida de rice  e Amendoas Nesfit\"],[\"Bebida de rice e Coco Nesfit\"],[\"Bebida de oats Nesfit\"],[\"Bebida de oats e cocoa\"],[\"Molico Vegetal Nestl\\u00e9\"],[\"Ninho Vegetal Nestl\\u00e9\"],[\"Ninho Banana e apple Nestl\\u00e9\"],[\"Nude Edi\\u00e7\\u00e3o Barista\"],[\"Nude Original \"],[\"Nude Sabor Baunilha\"],[\"Nude de cocoa\"],[\"Nude + calcium\"],[\"Nude Barista\"],[\"Almond Breeze Original\"],[\"Almond Breeze Chocolate\"],[\"Almond Breeze Baunilha\"],[\"Almond Breeze Sem sugar\"],[\"Almond Breeze Amendoas com Coco\"],[\"Almond Breeze Chocolate Sem sugar\"],[\" de Amendoas Silk Sem sugar\"],[\" de Amendoas Silk \"],[\" cashews Silk\"],[\" de almonds e cocoa Silk\"],[\" de almonds Silk Coco\"],[\"Bebida de rice L\\u00edquida Sabor Original\"],[\"Bebida de rice L\\u00edquida Sabor almonds\"],[\"Bebida de rice L\\u00edquida Sabor peanuts\\n\"],[\"Bebida de rice L\\u00edquida Sabor cashews\"],[\"Bebida de rice L\\u00edquida Sabor Chocolate\"],[\"Bebida de rice L\\u00edquida Sabor Coco\"],[\"Bebida de rice L\\u00edquida Sabor Baunilha\"],[\"Bebida de rice Em P\\u00f3 Sabor Original\"],[\"Bebida de rice Em P\\u00f3 Sabor Original\"],[\"Bebida de rice Em P\\u00f3 Sabor Banana e apple\"],[\"Bebida de rice Em P\\u00f3 Sabor Chocolate\"],[\"Bebida de rice Em P\\u00f3 Sabor strawberries\"],[\" a tal da castanha barista\"],[\" a tal da castanha original\"],[\" a tal da castanha caju + Coco\"],[\" a tal da castanha almonds\"],[\" a tal da castanha castanha + cocoa\"],[\" a tal da castanha oats\"],[\" a tal da castanha mixed nuts\"],[\" a tal da castanha caju + Par\\u00e1\"],[\" a tal da castanha caju + peanuts\"],[\" Natuterra oats + Coco\"],[\" de almonds Natuterra\"],[\" Natuterra oats \"],[\" Vegetal 3 Nuts \\u2013 macadamianuts, almonds e cashews\"],[\" Vegetal de macadamianuts e Coco\"],[\" Vegetal de macadamianuts e cashews\"],[\" Vegetal Possible Foods\"],[\" Vegetal Possible Foods Chocolate\"],[\"Bebida de castanh de caj\\u00fa sem adi\\u00e7\\u00e3o de sugar nature's heart\"],[\"Bebida de almonds s/ adi\\u00e7\\u00e3o de sugares 1L \\u2013 Nature\\u2019s Heart\"],[\"Bebida de rice s/ adi\\u00e7\\u00e3o de sugares 1L \\u2013 Nature\\u2019s Heart\"],[\"Bebida de oats s/ adi\\u00e7\\u00e3o de sugares 1L \\u2013 Nature\\u2019s Heart\"],[\"Bebida de cocoa & rice 1L \\u2013 Nature\\u2019s Heart\"],[\"Bebida  & rice s/ adi\\u00e7\\u00e3o de sugares 1L \\u2013 Nature\\u2019s Heart\"],[\" Vegetal de soy Naturis Batavo\"],[\" DUOLAT peanuts E CASTANHA 1L - CAJUEIRO\"],[\" 85 CASTANHAS 1L - CAJUEIRO\"],[\" TOASTED 1L - CAJUEIRO\"]],\"hovertemplate\":\"Classification=DAIRY 1<br>x=%{x}<br>y=%{y}<br>Description=%{customdata[0]}<extra></extra>\",\"legendgroup\":\"DAIRY 1\",\"marker\":{\"color\":\"#EF553B\",\"symbol\":\"circle\"},\"mode\":\"markers\",\"name\":\"DAIRY 1\",\"orientation\":\"v\",\"showlegend\":true,\"x\":[33.16307830810547,33.27710723876953,32.286155700683594,32.38071823120117,32.34336853027344,32.20002365112305,32.42824172973633,32.16541290283203,31.899168014526367,30.696115493774414,32.62266540527344,30.682003021240234,32.87578582763672,30.649873733520508,30.713420867919922,31.58966064453125,32.70509338378906,31.744733810424805,31.847848892211914,31.349973678588867,31.865921020507812,29.859699249267578,29.954341888427734,29.857351303100586,32.03373718261719,32.067161560058594,31.921424865722656,32.07087707519531,31.80103874206543,32.04518508911133,30.45240592956543,30.639692306518555,30.568349838256836,30.493728637695312,30.58765983581543,30.621366500854492,31.12348747253418,31.082279205322266,30.88445472717285,31.009075164794922,31.002296447753906,31.914907455444336,31.854122161865234,32.00062942504883,31.79013442993164,31.971851348876953,31.837425231933594,31.885353088378906,30.267520904541016,30.288795471191406,30.257442474365234,30.28783416748047,30.386476516723633,31.680551528930664,30.158693313598633,32.94186019897461,30.069992065429688,32.096954345703125,31.61918830871582,33.26687240600586,32.567996978759766,32.688663482666016,31.42228126525879,31.548526763916016,31.602567672729492,32.50697708129883,32.91505813598633,32.8633918762207,31.397350311279297,31.359359741210938,31.130826950073242,30.91925621032715,31.47719383239746,31.649625778198242,31.380584716796875,31.394926071166992,32.53345489501953,32.643890380859375,30.16289520263672,30.144561767578125],\"xaxis\":\"x\",\"y\":[3.2016024589538574,3.0441980361938477,0.37797948718070984,0.4733215868473053,0.676013171672821,0.5977365970611572,0.5992683172225952,2.0573720932006836,2.077475070953369,1.5619540214538574,2.250967025756836,1.6611682176589966,2.218773126602173,1.529741883277893,1.604491949081421,1.9912643432617188,3.0898685455322266,2.525390625,2.3171985149383545,2.147779941558838,2.3425798416137695,2.0370194911956787,1.9624576568603516,1.9566099643707275,1.9502558708190918,1.7056739330291748,1.9192010164260864,1.8419770002365112,2.116509199142456,1.9055615663528442,0.1780756115913391,0.11513108760118484,0.18755394220352173,0.09093537926673889,0.3715607821941376,0.23695902526378632,1.1431654691696167,1.0319814682006836,0.7279320359230042,0.6323481202125549,0.5060151219367981,1.949365258216858,1.1362632513046265,1.3790034055709839,1.3593460321426392,1.9280312061309814,1.7216647863388062,1.2447890043258667,1.3575961589813232,1.417127251625061,1.0650267601013184,1.0195600986480713,1.0367774963378906,1.9574037790298462,1.7008247375488281,2.939274549484253,2.1462807655334473,2.605407476425171,2.234614849090576,2.361053943634033,3.166337013244629,3.072559118270874,1.6944351196289062,1.66169273853302,1.689029335975647,2.698049545288086,2.8343849182128906,2.717546224594116,1.047257900238037,0.9145123362541199,0.8295112252235413,0.9058198928833008,1.2354295253753662,1.1394559144973755,1.3551396131515503,1.3350157737731934,2.731656312942505,2.656646728515625,2.0944278240203857,2.218705177307129],\"yaxis\":\"y\",\"type\":\"scatter\"},{\"customdata\":[[\"Iogurte \"],[\"Iogurte  com strawberries\"],[\"Iogurte  com banana, apple e papaya\"],[\"Iogurte  Zero sugar\"],[\"Iogurte  com strawberries Zero sugar\"],[\"Iogurte GregoVeg \"],[\"Iogurte GregoVeg  com strawberries\"],[\"Iogurte Proteico 14g sabor strawberries\"],[\"Shake \"],[\"Iogurte Proteico 14g sabor  peanuts\"],[\"Creme de almonds\"]],\"hovertemplate\":\"Classification=DAIRY 2<br>x=%{x}<br>y=%{y}<br>Description=%{customdata[0]}<extra></extra>\",\"legendgroup\":\"DAIRY 2\",\"marker\":{\"color\":\"#00cc96\",\"symbol\":\"circle\"},\"mode\":\"markers\",\"name\":\"DAIRY 2\",\"orientation\":\"v\",\"showlegend\":true,\"x\":[33.1070442199707,33.20714569091797,33.1409912109375,33.194976806640625,32.95072937011719,32.93352127075195,32.758174896240234,32.569698333740234,32.186866760253906,32.59852600097656,29.94776153564453],\"xaxis\":\"x\",\"y\":[1.484859824180603,1.6374011039733887,1.449790596961975,1.566441535949707,1.443160057067871,1.8592984676361084,1.65010404586792,1.6631298065185547,0.3494437634944916,1.5678170919418335,1.927278995513916],\"yaxis\":\"y\",\"type\":\"scatter\"},{\"customdata\":[[\"MAIONESE VEGETAL SUPERBOM\"],[\"MAIONESE FUGINI\"],[\"NOT MAYO\"],[\"NOT MAYO garlic\"],[\"NOT MAYO AZEITONA\"],[\"NOT MAYO PICANTE\"],[\"MAIONESE V-MAYO\"],[\"MAIONESE V-MAYO ApepperDA\"],[\"MAIONESE V-MAYO TRUFADA\"],[\"MAIONESE V-MAYO DE ABACATE\"],[\"MAIONESE V-MAYO DE garlic\"],[\"MAIONESE HELLMANS\"],[\"MAIONESE VEGANA FUGINI\"],[\"MAIONESE DEL\\u00cdCIAS DE GOI\\u00c1S\"]],\"hovertemplate\":\"Classification=EGG 1<br>x=%{x}<br>y=%{y}<br>Description=%{customdata[0]}<extra></extra>\",\"legendgroup\":\"EGG 1\",\"marker\":{\"color\":\"#ab63fa\",\"symbol\":\"circle\"},\"mode\":\"markers\",\"name\":\"EGG 1\",\"orientation\":\"v\",\"showlegend\":true,\"x\":[32.32831954956055,32.224632263183594,31.45163917541504,31.484317779541016,31.547191619873047,31.40259552001953,32.34280014038086,32.270751953125,32.267974853515625,32.3027229309082,32.265411376953125,32.253387451171875,32.232521057128906,31.832761764526367],\"xaxis\":\"x\",\"y\":[2.844452142715454,2.8246495723724365,2.5885884761810303,2.744309425354004,2.608940362930298,2.7295703887939453,3.942396879196167,4.030879020690918,4.019196510314941,4.01862907409668,3.9696264266967773,2.7700014114379883,3.36576509475708,3.461644411087036],\"yaxis\":\"y\",\"type\":\"scatter\"},{\"customdata\":[[\"Ovos Novos\"],[\"Ovos Novos\"]],\"hovertemplate\":\"Classification=EGG 2<br>x=%{x}<br>y=%{y}<br>Description=%{customdata[0]}<extra></extra>\",\"legendgroup\":\"EGG 2\",\"marker\":{\"color\":\"#FFA15A\",\"symbol\":\"circle\"},\"mode\":\"markers\",\"name\":\"EGG 2\",\"orientation\":\"v\",\"showlegend\":true,\"x\":[30.456405639648438,30.35242462158203],\"xaxis\":\"x\",\"y\":[2.220247983932495,1.9417322874069214],\"yaxis\":\"y\",\"type\":\"scatter\"}],                        {\"template\":{\"data\":{\"bar\":[{\"error_x\":{\"color\":\"#2a3f5f\"},\"error_y\":{\"color\":\"#2a3f5f\"},\"marker\":{\"line\":{\"color\":\"#E5ECF6\",\"width\":0.5},\"pattern\":{\"fillmode\":\"overlay\",\"size\":10,\"solidity\":0.2}},\"type\":\"bar\"}],\"barpolar\":[{\"marker\":{\"line\":{\"color\":\"#E5ECF6\",\"width\":0.5},\"pattern\":{\"fillmode\":\"overlay\",\"size\":10,\"solidity\":0.2}},\"type\":\"barpolar\"}],\"carpet\":[{\"aaxis\":{\"endlinecolor\":\"#2a3f5f\",\"gridcolor\":\"white\",\"linecolor\":\"white\",\"minorgridcolor\":\"white\",\"startlinecolor\":\"#2a3f5f\"},\"baxis\":{\"endlinecolor\":\"#2a3f5f\",\"gridcolor\":\"white\",\"linecolor\":\"white\",\"minorgridcolor\":\"white\",\"startlinecolor\":\"#2a3f5f\"},\"type\":\"carpet\"}],\"choropleth\":[{\"colorbar\":{\"outlinewidth\":0,\"ticks\":\"\"},\"type\":\"choropleth\"}],\"contour\":[{\"colorbar\":{\"outlinewidth\":0,\"ticks\":\"\"},\"colorscale\":[[0.0,\"#0d0887\"],[0.1111111111111111,\"#46039f\"],[0.2222222222222222,\"#7201a8\"],[0.3333333333333333,\"#9c179e\"],[0.4444444444444444,\"#bd3786\"],[0.5555555555555556,\"#d8576b\"],[0.6666666666666666,\"#ed7953\"],[0.7777777777777778,\"#fb9f3a\"],[0.8888888888888888,\"#fdca26\"],[1.0,\"#f0f921\"]],\"type\":\"contour\"}],\"contourcarpet\":[{\"colorbar\":{\"outlinewidth\":0,\"ticks\":\"\"},\"type\":\"contourcarpet\"}],\"heatmap\":[{\"colorbar\":{\"outlinewidth\":0,\"ticks\":\"\"},\"colorscale\":[[0.0,\"#0d0887\"],[0.1111111111111111,\"#46039f\"],[0.2222222222222222,\"#7201a8\"],[0.3333333333333333,\"#9c179e\"],[0.4444444444444444,\"#bd3786\"],[0.5555555555555556,\"#d8576b\"],[0.6666666666666666,\"#ed7953\"],[0.7777777777777778,\"#fb9f3a\"],[0.8888888888888888,\"#fdca26\"],[1.0,\"#f0f921\"]],\"type\":\"heatmap\"}],\"heatmapgl\":[{\"colorbar\":{\"outlinewidth\":0,\"ticks\":\"\"},\"colorscale\":[[0.0,\"#0d0887\"],[0.1111111111111111,\"#46039f\"],[0.2222222222222222,\"#7201a8\"],[0.3333333333333333,\"#9c179e\"],[0.4444444444444444,\"#bd3786\"],[0.5555555555555556,\"#d8576b\"],[0.6666666666666666,\"#ed7953\"],[0.7777777777777778,\"#fb9f3a\"],[0.8888888888888888,\"#fdca26\"],[1.0,\"#f0f921\"]],\"type\":\"heatmapgl\"}],\"histogram\":[{\"marker\":{\"pattern\":{\"fillmode\":\"overlay\",\"size\":10,\"solidity\":0.2}},\"type\":\"histogram\"}],\"histogram2d\":[{\"colorbar\":{\"outlinewidth\":0,\"ticks\":\"\"},\"colorscale\":[[0.0,\"#0d0887\"],[0.1111111111111111,\"#46039f\"],[0.2222222222222222,\"#7201a8\"],[0.3333333333333333,\"#9c179e\"],[0.4444444444444444,\"#bd3786\"],[0.5555555555555556,\"#d8576b\"],[0.6666666666666666,\"#ed7953\"],[0.7777777777777778,\"#fb9f3a\"],[0.8888888888888888,\"#fdca26\"],[1.0,\"#f0f921\"]],\"type\":\"histogram2d\"}],\"histogram2dcontour\":[{\"colorbar\":{\"outlinewidth\":0,\"ticks\":\"\"},\"colorscale\":[[0.0,\"#0d0887\"],[0.1111111111111111,\"#46039f\"],[0.2222222222222222,\"#7201a8\"],[0.3333333333333333,\"#9c179e\"],[0.4444444444444444,\"#bd3786\"],[0.5555555555555556,\"#d8576b\"],[0.6666666666666666,\"#ed7953\"],[0.7777777777777778,\"#fb9f3a\"],[0.8888888888888888,\"#fdca26\"],[1.0,\"#f0f921\"]],\"type\":\"histogram2dcontour\"}],\"mesh3d\":[{\"colorbar\":{\"outlinewidth\":0,\"ticks\":\"\"},\"type\":\"mesh3d\"}],\"parcoords\":[{\"line\":{\"colorbar\":{\"outlinewidth\":0,\"ticks\":\"\"}},\"type\":\"parcoords\"}],\"pie\":[{\"automargin\":true,\"type\":\"pie\"}],\"scatter\":[{\"marker\":{\"colorbar\":{\"outlinewidth\":0,\"ticks\":\"\"}},\"type\":\"scatter\"}],\"scatter3d\":[{\"line\":{\"colorbar\":{\"outlinewidth\":0,\"ticks\":\"\"}},\"marker\":{\"colorbar\":{\"outlinewidth\":0,\"ticks\":\"\"}},\"type\":\"scatter3d\"}],\"scattercarpet\":[{\"marker\":{\"colorbar\":{\"outlinewidth\":0,\"ticks\":\"\"}},\"type\":\"scattercarpet\"}],\"scattergeo\":[{\"marker\":{\"colorbar\":{\"outlinewidth\":0,\"ticks\":\"\"}},\"type\":\"scattergeo\"}],\"scattergl\":[{\"marker\":{\"colorbar\":{\"outlinewidth\":0,\"ticks\":\"\"}},\"type\":\"scattergl\"}],\"scattermapbox\":[{\"marker\":{\"colorbar\":{\"outlinewidth\":0,\"ticks\":\"\"}},\"type\":\"scattermapbox\"}],\"scatterpolar\":[{\"marker\":{\"colorbar\":{\"outlinewidth\":0,\"ticks\":\"\"}},\"type\":\"scatterpolar\"}],\"scatterpolargl\":[{\"marker\":{\"colorbar\":{\"outlinewidth\":0,\"ticks\":\"\"}},\"type\":\"scatterpolargl\"}],\"scatterternary\":[{\"marker\":{\"colorbar\":{\"outlinewidth\":0,\"ticks\":\"\"}},\"type\":\"scatterternary\"}],\"surface\":[{\"colorbar\":{\"outlinewidth\":0,\"ticks\":\"\"},\"colorscale\":[[0.0,\"#0d0887\"],[0.1111111111111111,\"#46039f\"],[0.2222222222222222,\"#7201a8\"],[0.3333333333333333,\"#9c179e\"],[0.4444444444444444,\"#bd3786\"],[0.5555555555555556,\"#d8576b\"],[0.6666666666666666,\"#ed7953\"],[0.7777777777777778,\"#fb9f3a\"],[0.8888888888888888,\"#fdca26\"],[1.0,\"#f0f921\"]],\"type\":\"surface\"}],\"table\":[{\"cells\":{\"fill\":{\"color\":\"#EBF0F8\"},\"line\":{\"color\":\"white\"}},\"header\":{\"fill\":{\"color\":\"#C8D4E3\"},\"line\":{\"color\":\"white\"}},\"type\":\"table\"}]},\"layout\":{\"annotationdefaults\":{\"arrowcolor\":\"#2a3f5f\",\"arrowhead\":0,\"arrowwidth\":1},\"autotypenumbers\":\"strict\",\"coloraxis\":{\"colorbar\":{\"outlinewidth\":0,\"ticks\":\"\"}},\"colorscale\":{\"diverging\":[[0,\"#8e0152\"],[0.1,\"#c51b7d\"],[0.2,\"#de77ae\"],[0.3,\"#f1b6da\"],[0.4,\"#fde0ef\"],[0.5,\"#f7f7f7\"],[0.6,\"#e6f5d0\"],[0.7,\"#b8e186\"],[0.8,\"#7fbc41\"],[0.9,\"#4d9221\"],[1,\"#276419\"]],\"sequential\":[[0.0,\"#0d0887\"],[0.1111111111111111,\"#46039f\"],[0.2222222222222222,\"#7201a8\"],[0.3333333333333333,\"#9c179e\"],[0.4444444444444444,\"#bd3786\"],[0.5555555555555556,\"#d8576b\"],[0.6666666666666666,\"#ed7953\"],[0.7777777777777778,\"#fb9f3a\"],[0.8888888888888888,\"#fdca26\"],[1.0,\"#f0f921\"]],\"sequentialminus\":[[0.0,\"#0d0887\"],[0.1111111111111111,\"#46039f\"],[0.2222222222222222,\"#7201a8\"],[0.3333333333333333,\"#9c179e\"],[0.4444444444444444,\"#bd3786\"],[0.5555555555555556,\"#d8576b\"],[0.6666666666666666,\"#ed7953\"],[0.7777777777777778,\"#fb9f3a\"],[0.8888888888888888,\"#fdca26\"],[1.0,\"#f0f921\"]]},\"colorway\":[\"#636efa\",\"#EF553B\",\"#00cc96\",\"#ab63fa\",\"#FFA15A\",\"#19d3f3\",\"#FF6692\",\"#B6E880\",\"#FF97FF\",\"#FECB52\"],\"font\":{\"color\":\"#2a3f5f\"},\"geo\":{\"bgcolor\":\"white\",\"lakecolor\":\"white\",\"landcolor\":\"#E5ECF6\",\"showlakes\":true,\"showland\":true,\"subunitcolor\":\"white\"},\"hoverlabel\":{\"align\":\"left\"},\"hovermode\":\"closest\",\"mapbox\":{\"style\":\"light\"},\"paper_bgcolor\":\"white\",\"plot_bgcolor\":\"#E5ECF6\",\"polar\":{\"angularaxis\":{\"gridcolor\":\"white\",\"linecolor\":\"white\",\"ticks\":\"\"},\"bgcolor\":\"#E5ECF6\",\"radialaxis\":{\"gridcolor\":\"white\",\"linecolor\":\"white\",\"ticks\":\"\"}},\"scene\":{\"xaxis\":{\"backgroundcolor\":\"#E5ECF6\",\"gridcolor\":\"white\",\"gridwidth\":2,\"linecolor\":\"white\",\"showbackground\":true,\"ticks\":\"\",\"zerolinecolor\":\"white\"},\"yaxis\":{\"backgroundcolor\":\"#E5ECF6\",\"gridcolor\":\"white\",\"gridwidth\":2,\"linecolor\":\"white\",\"showbackground\":true,\"ticks\":\"\",\"zerolinecolor\":\"white\"},\"zaxis\":{\"backgroundcolor\":\"#E5ECF6\",\"gridcolor\":\"white\",\"gridwidth\":2,\"linecolor\":\"white\",\"showbackground\":true,\"ticks\":\"\",\"zerolinecolor\":\"white\"}},\"shapedefaults\":{\"line\":{\"color\":\"#2a3f5f\"}},\"ternary\":{\"aaxis\":{\"gridcolor\":\"white\",\"linecolor\":\"white\",\"ticks\":\"\"},\"baxis\":{\"gridcolor\":\"white\",\"linecolor\":\"white\",\"ticks\":\"\"},\"bgcolor\":\"#E5ECF6\",\"caxis\":{\"gridcolor\":\"white\",\"linecolor\":\"white\",\"ticks\":\"\"}},\"title\":{\"x\":0.05},\"xaxis\":{\"automargin\":true,\"gridcolor\":\"white\",\"linecolor\":\"white\",\"ticks\":\"\",\"title\":{\"standoff\":15},\"zerolinecolor\":\"white\",\"zerolinewidth\":2},\"yaxis\":{\"automargin\":true,\"gridcolor\":\"white\",\"linecolor\":\"white\",\"ticks\":\"\",\"title\":{\"standoff\":15},\"zerolinecolor\":\"white\",\"zerolinewidth\":2}}},\"xaxis\":{\"anchor\":\"y\",\"domain\":[0.0,1.0],\"title\":{\"text\":\"x\"}},\"yaxis\":{\"anchor\":\"x\",\"domain\":[0.0,1.0],\"title\":{\"text\":\"y\"}},\"legend\":{\"title\":{\"text\":\"Classification\"},\"tracegroupgap\":0},\"margin\":{\"t\":60},\"width\":800},                        {\"responsive\": true}                    ).then(function(){\n",
              "                            \n",
              "var gd = document.getElementById('661576b3-2218-4a7a-a3a9-f3c2af09cd7f');\n",
              "var x = new MutationObserver(function (mutations, observer) {{\n",
              "        var display = window.getComputedStyle(gd).display;\n",
              "        if (!display || display === 'none') {{\n",
              "            console.log([gd, 'removed!']);\n",
              "            Plotly.purge(gd);\n",
              "            observer.disconnect();\n",
              "        }}\n",
              "}});\n",
              "\n",
              "// Listen for the removal of the full notebook cells\n",
              "var notebookContainer = gd.closest('#notebook-container');\n",
              "if (notebookContainer) {{\n",
              "    x.observe(notebookContainer, {childList: true});\n",
              "}}\n",
              "\n",
              "// Listen for the clearing of the current output cell\n",
              "var outputEl = gd.closest('.output');\n",
              "if (outputEl) {{\n",
              "    x.observe(outputEl, {childList: true});\n",
              "}}\n",
              "\n",
              "                        })                };                            </script>        </div>\n",
              "</body>\n",
              "</html>"
            ]
          },
          "metadata": {}
        }
      ]
    },
    {
      "cell_type": "code",
      "source": [
        "data_nutrients = label_data.join(nutrients_normalized)\n",
        "reducer = umap.UMAP(n_components=2,n_neighbors=80,metric='euclidean')\n",
        "X_umapN = reducer.fit_transform(X_nutrients)\n",
        "\n",
        "X_umapN[1:4, :]\n",
        "data_nutrients['x'] = X_umapN[:,0]\n",
        "data_nutrients['y'] = X_umapN[:,1]\n",
        "\n",
        "fig = px.scatter(data_nutrients, x='x', y='y', color='Classification', hover_data=[\"Description\"], width=800)\n",
        "fig.show()"
      ],
      "metadata": {
        "id": "BkQYbu7JbNhE",
        "colab": {
          "base_uri": "https://localhost:8080/",
          "height": 542
        },
        "outputId": "9016f431-bc9d-4c1a-8357-0fa6f5300316"
      },
      "execution_count": 21,
      "outputs": [
        {
          "output_type": "display_data",
          "data": {
            "text/html": [
              "<html>\n",
              "<head><meta charset=\"utf-8\" /></head>\n",
              "<body>\n",
              "    <div>            <script src=\"https://cdnjs.cloudflare.com/ajax/libs/mathjax/2.7.5/MathJax.js?config=TeX-AMS-MML_SVG\"></script><script type=\"text/javascript\">if (window.MathJax) {MathJax.Hub.Config({SVG: {font: \"STIX-Web\"}});}</script>                <script type=\"text/javascript\">window.PlotlyConfig = {MathJaxConfig: 'local'};</script>\n",
              "        <script src=\"https://cdn.plot.ly/plotly-2.8.3.min.js\"></script>                <div id=\"f0fe5e19-5677-4151-834a-86270a2ed79a\" class=\"plotly-graph-div\" style=\"height:525px; width:800px;\"></div>            <script type=\"text/javascript\">                                    window.PLOTLYENV=window.PLOTLYENV || {};                                    if (document.getElementById(\"f0fe5e19-5677-4151-834a-86270a2ed79a\")) {                    Plotly.newPlot(                        \"f0fe5e19-5677-4151-834a-86270a2ed79a\",                        [{\"customdata\":[[\"Carne Mo\\u00edda do Futuro\"],[\"Almondegas de Soja Vegway\"],[\"Almondegas Amazonika Mundi\"],[\"Kibe Incr\\u00edvel Seara\"],[\"Almondegas Incr\\u00edveis Seara\"],[\"Almondegas Mr Veggy\"],[\"Carne Mo\\u00edda Superbom\"],[\"Carne Vegetal Mo\\u00edda Superbom\"],[\"Carne Mo\\u00edda Vegetal Verdali\"]],\"hovertemplate\":\"Classification=MEAT 2<br>x=%{x}<br>y=%{y}<br>Description=%{customdata[0]}<extra></extra>\",\"legendgroup\":\"MEAT 2\",\"marker\":{\"color\":\"#636efa\",\"symbol\":\"circle\"},\"mode\":\"markers\",\"name\":\"MEAT 2\",\"orientation\":\"v\",\"showlegend\":true,\"x\":[7.544734001159668,6.815498352050781,7.566237449645996,6.815917491912842,7.019972324371338,5.90557336807251,5.9403395652771,6.918602466583252,7.409036159515381],\"xaxis\":\"x\",\"y\":[4.72107458114624,4.969924449920654,5.607828140258789,5.144592761993408,5.240962982177734,4.476626396179199,5.835675239562988,6.834964275360107,5.327004432678223],\"yaxis\":\"y\",\"type\":\"scatter\"},{\"customdata\":[[\"Carne Mo\\u00edda do Futuro\"],[\"Fil\\u00e9s Sora Carne Vermelha\"],[\"Fatias Sora Carne Vermelha\"],[\"Fil\\u00e9 Pronto Saud\\u00e1vel Sora\"],[\"Carne Mo\\u00edda Pronto Saud\\u00e1vel Sora\"],[\"Churrasco Vegabom\"],[\"Churrasco Aoniondo Vegabom\"],[\"Carne de Pernil Seara\"],[\"Alm\\u00f4ndega de Soja Vegana Goshen\"],[\"Bife de Soja Vegano Goshen\"],[\"Alm\\u00f4ndega Vegana Superbom\"],[\"Bife Vegetal Superbom\"],[\"Escalope ao Molho Caseiro Superbom\"],[\"Cubinhos ao Molho Mexicano Superbom\"],[\"Alm\\u00f4ndegas ao Molho Sugo Superbom\"],[\"Medalh\\u00e3o ao Molho Madeira Superbom\"],[\"Mignon Verdali\"],[\"Steak Verdali\"]],\"hovertemplate\":\"Classification=MEAT 3<br>x=%{x}<br>y=%{y}<br>Description=%{customdata[0]}<extra></extra>\",\"legendgroup\":\"MEAT 3\",\"marker\":{\"color\":\"#EF553B\",\"symbol\":\"circle\"},\"mode\":\"markers\",\"name\":\"MEAT 3\",\"orientation\":\"v\",\"showlegend\":true,\"x\":[7.615453720092773,9.475740432739258,9.366280555725098,6.87115478515625,6.871258735656738,6.708866119384766,6.660679817199707,6.488279819488525,7.832718372344971,6.455069065093994,5.820461273193359,7.6576337814331055,7.219048023223877,7.112497806549072,6.922976970672607,7.316260814666748,7.136526107788086,7.0357561111450195],\"xaxis\":\"x\",\"y\":[4.667212009429932,6.4164204597473145,6.488424777984619,6.940894603729248,6.847592830657959,6.62857723236084,6.443958759307861,5.118171691894531,6.634746551513672,5.4733452796936035,5.851681709289551,6.5918755531311035,6.628711223602295,6.707450866699219,7.143057346343994,6.588005542755127,5.701180458068848,5.808732509613037],\"yaxis\":\"y\",\"type\":\"scatter\"},{\"customdata\":[[\"Frango do Futuro\"],[\"Fatias Sora Carne Branca\"],[\"Fil\\u00e9s Sora Carne Branca\"],[\"Strogonoff de Frango Vegabom\"],[\"Tiras de Frango New Butchers\"],[\"Fil\\u00e9 de Frango Desfiado Vegway\"],[\"Frango Veg e Tal Sadia\"],[\"Frango Veg e Tal Sadia Desfiado\"],[\"Peito de Peru de Soja\"],[\"Peito de Peru de Soja Vegano\"],[\"Tiras de Ave Verdali\"],[\"Fil\\u00e9 sem Frango Verdali\"],[\"Mini Fil\\u00e9 de Frango Verdali\"]],\"hovertemplate\":\"Classification=POULTRY 3<br>x=%{x}<br>y=%{y}<br>Description=%{customdata[0]}<extra></extra>\",\"legendgroup\":\"POULTRY 3\",\"marker\":{\"color\":\"#00cc96\",\"symbol\":\"circle\"},\"mode\":\"markers\",\"name\":\"POULTRY 3\",\"orientation\":\"v\",\"showlegend\":true,\"x\":[7.646481990814209,9.475342750549316,9.394941329956055,6.769497394561768,7.109241962432861,6.360865116119385,6.870632648468018,7.018039703369141,7.472196102142334,7.547908306121826,6.948165416717529,6.899928569793701,7.052309036254883],\"xaxis\":\"x\",\"y\":[4.690690040588379,6.490479946136475,6.464930534362793,6.53616189956665,7.369937896728516,5.182061195373535,5.7980499267578125,5.769857406616211,7.008298397064209,7.0662150382995605,5.359172344207764,5.887204647064209,5.440739154815674],\"yaxis\":\"y\",\"type\":\"scatter\"},{\"customdata\":[[\"Lingui\\u00e7a do Futuro\"],[\"Lingui\\u00e7a calabresa vegabom\"],[\"saltsicha de chickpea Vegabom\"],[\"Vegway Soy Sausage\"],[\"saltsichas Incriveis Seara\"],[\"Lingui\\u00e7a Apimentada de Soja Goshen\"],[\"Lingui\\u00e7a Calabresa de Soja Goshen\"],[\"Lingui\\u00e7a de Soja Vegana Goshen\"],[\"Lingui\\u00e7a Toscana de Soja Goshen\"],[\"saltsicha de Soja Vegana Goshen\"],[\"saltsicha Vegetal Superbom\"],[\"saltsicha Vegetal Defumada Superbom\"]],\"hovertemplate\":\"Classification=PORK 1<br>x=%{x}<br>y=%{y}<br>Description=%{customdata[0]}<extra></extra>\",\"legendgroup\":\"PORK 1\",\"marker\":{\"color\":\"#ab63fa\",\"symbol\":\"circle\"},\"mode\":\"markers\",\"name\":\"PORK 1\",\"orientation\":\"v\",\"showlegend\":true,\"x\":[6.6889801025390625,7.879022121429443,7.934269905090332,7.230236053466797,6.398356914520264,7.276594638824463,7.592092514038086,7.1171746253967285,7.701304912567139,7.339461326599121,7.2215447425842285,6.9917988777160645],\"xaxis\":\"x\",\"y\":[5.677019119262695,7.0599470138549805,7.175136089324951,5.618304252624512,6.891951084136963,7.108663558959961,6.964451789855957,6.421823978424072,7.5510029792785645,6.347331523895264,6.822640895843506,7.2628912925720215],\"yaxis\":\"y\",\"type\":\"scatter\"},{\"customdata\":[[\"Hamburguer de Soja Goshen\"],[\"Hamburguer de Soja Vegano Goshen\"],[\"Hamburguer de Quinoa Mr Veggy\"],[\"Hamburguer de lentil Mr Veggy\"],[\"Hamburguer vegano falafel amazonika mundi\"],[\"Hamburguer Vegetal Verdali\"],[\"VegBurger Sabor Carne\"],[\"Burger Gourmet Superbom\"],[\"Hamburguer Incr\\u00edvel Seara\"],[\"Not Burguer Notco\"],[\"Hamburguer de Fibra de Caju Amazonika Mundi\"],[\"Hamburguer Vegabom\"],[\"Hamburguer de Carne Veg  e Tal Sadia\"],[\"Hamburger New Butchers\"],[\"Hamburguer de Legumes Mr Veggy\"],[\"Hamburguer Vegetariano Mr Veggy\"],[\"Hambuguer Mr Veggy Mari Mari\"],[\"Hambuguer Mr Veggy Mari Mari Churrrasco\"],[\"Hamb\\u00farguer Fazenda Futuro 2.0\"],[\"Hamb\\u00farguer Vegano de Quinoa Amazonika Mundi\"],[\"Hamburguer Veggie Roots Tempero Indiano\"],[\"Hamb\\u00farguer Sora Carne Vermelha \"],[\"Hamburguer Veggie Roots brazilianspices\"],[\"Hamburguer veggie roots tempero mexicano\"],[\"Hamburguer de Soja Sabor Carne Vegway\"],[\"Hamb\\u00farguer de Soja Empanado Vegway\"],[\"Hamburguer Vegetal Superbom\"],[\"Hamburguer de chickpea Mr Veggy\"],[\"Hamburguer Veggie Roots Tempero \\u00c1rabe\"],[\"Hamburguer Veggie Roots Tempero Tailand\\u00eas\"],[\"Hamburguer Vegabom\"],[\"Hamb\\u00farguer Pronto Saud\\u00e1vel Sora\"],[\"hamburguer vegetal com herbs jasmine\"],[\"Hamburguer Vegetal Tradicional Jasmine\"]],\"hovertemplate\":\"Classification=MEAT 1<br>x=%{x}<br>y=%{y}<br>Description=%{customdata[0]}<extra></extra>\",\"legendgroup\":\"MEAT 1\",\"marker\":{\"color\":\"#FFA15A\",\"symbol\":\"circle\"},\"mode\":\"markers\",\"name\":\"MEAT 1\",\"orientation\":\"v\",\"showlegend\":true,\"x\":[7.404974460601807,6.6309685707092285,5.627353668212891,5.801684856414795,5.805362701416016,6.768339157104492,7.543521881103516,5.945463180541992,7.3915839195251465,7.159004211425781,7.582008361816406,6.555106163024902,3.4122872352600098,7.631810665130615,6.086527347564697,6.277020454406738,6.438892364501953,6.607168674468994,7.310538291931152,5.6767988204956055,5.565135478973389,9.487993240356445,5.894487380981445,5.584961414337158,7.070188045501709,7.413054943084717,6.609183311462402,6.0203537940979,5.700522422790527,5.8163533210754395,6.726305961608887,6.8200788497924805,6.189997673034668,6.164363384246826],\"xaxis\":\"x\",\"y\":[6.2317891120910645,7.071797847747803,4.652767181396484,5.04172945022583,4.004062175750732,6.083567142486572,4.6826863288879395,5.787215232849121,5.39139461517334,4.400801181793213,5.4796528816223145,7.701725482940674,9.958486557006836,4.783705711364746,4.3572611808776855,5.596105575561523,5.506192207336426,5.711956977844238,5.111650466918945,4.1738505363464355,4.821513652801514,6.388876914978027,5.0187249183654785,4.492291450500488,5.074085235595703,5.823982238769531,6.878595352172852,4.245534420013428,4.361225605010986,4.079888343811035,7.6495161056518555,6.881752967834473,3.937288522720337,4.044989585876465],\"yaxis\":\"y\",\"type\":\"scatter\"},{\"customdata\":[[\"Hamb\\u00farguer Sora Carne Branca\"],[\"VegBurger Sabor Frango\"],[\"Hambuguer Incr\\u00edvel Seara Frango\"],[\"Frango Vegano em Peda\\u00e7os \\u00e0 Base de pea\"],[\"Hamb\\u00farguer de Frango Verdali\"]],\"hovertemplate\":\"Classification=POULTRY 2<br>x=%{x}<br>y=%{y}<br>Description=%{customdata[0]}<extra></extra>\",\"legendgroup\":\"POULTRY 2\",\"marker\":{\"color\":\"#19d3f3\",\"symbol\":\"circle\"},\"mode\":\"markers\",\"name\":\"POULTRY 2\",\"orientation\":\"v\",\"showlegend\":true,\"x\":[9.436517715454102,7.649293422698975,7.308239936828613,5.870145797729492,6.974354267120361],\"xaxis\":\"x\",\"y\":[6.448392391204834,4.73129940032959,5.5419602394104,5.9510178565979,5.915971279144287],\"yaxis\":\"y\",\"type\":\"scatter\"},{\"customdata\":[[\"Empanado de Frango Vegabom\"],[\"Fil\\u00e9 de Frango Empanado Vegabom\"],[\"Empanados de Frango Vegway\"],[\"Empanados Incr\\u00edveis Seara\"],[\"Empanados Sadia Veg e Tal\"],[\"Empanadinho de Soja  Goshen\"],[\"Empanadinho de Soja Vegano  Goshen\"],[\"Steak de Soja Vegano Goshen\"],[\"Empanado Vegano (Mini Crispy) 100 Foods\"],[\"Crispy Chicken 100 Foods\"],[\"Mini Empanado de Legumes Superbom\"],[\"Steak Vegan Sabor Legumes Superbom\"],[\"Steak Veg\\u00ea Sabor Frango\"],[\"Steak Veg\\u00ea Sabor Frango Empanado\"]],\"hovertemplate\":\"Classification=POULTRY 1<br>x=%{x}<br>y=%{y}<br>Description=%{customdata[0]}<extra></extra>\",\"legendgroup\":\"POULTRY 1\",\"marker\":{\"color\":\"#FF6692\",\"symbol\":\"circle\"},\"mode\":\"markers\",\"name\":\"POULTRY 1\",\"orientation\":\"v\",\"showlegend\":true,\"x\":[6.457337379455566,6.507096290588379,6.850216388702393,6.730630397796631,6.398035049438477,7.807873249053955,6.701286792755127,7.6504340171813965,6.248217582702637,5.74574089050293,5.917898178100586,5.92783260345459,5.939828395843506,5.932913303375244],\"xaxis\":\"x\",\"y\":[7.536754608154297,7.463591575622559,4.92085075378418,4.2696404457092285,4.590517044067383,6.266246318817139,7.388092517852783,6.494082450866699,4.404177188873291,4.298940181732178,5.6923394203186035,5.9121246337890625,4.256852626800537,4.1303391456604],\"yaxis\":\"y\",\"type\":\"scatter\"},{\"customdata\":[[\"Fil\\u00e9 Peixe Empanado Vegabom\"],[\"Tirinhas de Peixe Empanado Vegabom\"],[\"Bolinho de Bacalhau New Butchers\"],[\"Bolinho de Siri Amazonika Mundi\"],[\"Camar\\u00e3o de Soja Vegano Goshen\"]],\"hovertemplate\":\"Classification=FISH 2<br>x=%{x}<br>y=%{y}<br>Description=%{customdata[0]}<extra></extra>\",\"legendgroup\":\"FISH 2\",\"marker\":{\"color\":\"#B6E880\",\"symbol\":\"circle\"},\"mode\":\"markers\",\"name\":\"FISH 2\",\"orientation\":\"v\",\"showlegend\":true,\"x\":[6.770998477935791,6.905932426452637,5.582412242889404,7.56587553024292,7.698198318481445],\"xaxis\":\"x\",\"y\":[6.358264446258545,6.33793306350708,4.267289638519287,7.606693267822266,7.2607550621032715],\"yaxis\":\"y\",\"type\":\"scatter\"},{\"customdata\":[[\"Queijo Mu\\u00e7arela Vegabom\"],[\"Queijo Picante Vegabom\"],[\"Queijo Cheddar Vegabom\"],[\"Requeisoy Provolone \"],[\"Requeisoy Cheddar' \"],[\"Requeisoy Tradicional\"],[\"Requeisoy Gorgonzola\"],[\"Okeijo R\\u00fastico\"],[\"Okeijo Cremoso\"],[\"Okeijo Gratinado\"],[\"Okeijo Mussarela\"],[\"Okeijo Provolone\"],[\"Creme s Vida Veg\"],[\"Creme s fineherbs e Pesto\"],[\"Queijo mu\\u00e7arela\"],[\"Queijo minas frescal\"],[\"Queijo minas padr\\u00e3o\"],[\"Requeij\\u00e3o Tradicional\"],[\"Requeij\\u00e3o fineherbs\"],[\"Requeij\\u00e3o Defumado\"],[\"Queijo Zimurisku \"],[\"Queijo Zimurisku Temperado\"],[\"Queijo Mozarela NoMoo\"],[\"Queijo Provolone\"],[\"Queijo Ch\\u00e9vre\"],[\"Queijo Prato\"],[\"Queijo Parmes\\u00e3o\"],[\"Requeij\\u00e3o Nomoo\"],[\"Queijo Gorgolino\"],[\"Queijo Melhor Que Cheddar\"],[\"Queijo Recaishow\"],[\"Queijo Brie\"],[\"Mussarela Vegana Goshen\"],[\"Queijo ProVolone Veganita\"],[\"Queijo Munster Veganita\"],[\"Queijo Brie Veganita\"],[\"Queijo Mussarela Veganita\"],[\"Queijo Cheddar Veganita\"],[\"CREAM CHEESE CULIN\\u00c1RIO BASI.CO\"],[\"REQUEIJ\\u00c3O VEGETAL\"],[\"QUEIJO PARMES\\u00c3O\"],[\"QUEIJO MINAS VEGETAL\"],[\"QUEIJO PRATO\"],[\"QUEIJO MU\\u00c7ARELA\"],[\"QUEIJO CHEDDAR\"]],\"hovertemplate\":\"Classification=DAIRY 3<br>x=%{x}<br>y=%{y}<br>Description=%{customdata[0]}<extra></extra>\",\"legendgroup\":\"DAIRY 3\",\"marker\":{\"color\":\"#FF97FF\",\"symbol\":\"circle\"},\"mode\":\"markers\",\"name\":\"DAIRY 3\",\"orientation\":\"v\",\"showlegend\":true,\"x\":[6.701395511627197,6.723772048950195,6.789854049682617,7.627089023590088,7.948370933532715,7.1720709800720215,7.911620140075684,6.016260147094727,6.103525638580322,5.878538131713867,6.0029778480529785,6.191021919250488,6.385856628417969,6.292321681976318,7.202054023742676,7.085902214050293,7.160712242126465,6.182318687438965,6.258171081542969,6.153953552246094,6.919686317443848,6.842538356781006,6.560245990753174,6.411666393280029,7.022807598114014,6.59228515625,6.623697757720947,8.282370567321777,7.339707851409912,7.249713897705078,7.387831211090088,6.987714767456055,6.809638977050781,7.143354892730713,7.94288969039917,6.32199239730835,6.326903343200684,6.365788459777832,8.324771881103516,7.7535719871521,8.13028335571289,8.35800838470459,8.006248474121094,8.092534065246582,7.999024391174316],\"xaxis\":\"x\",\"y\":[8.51725959777832,8.37005615234375,8.393774032592773,8.761929512023926,8.533106803894043,8.527706146240234,8.65971851348877,7.99412202835083,7.936020851135254,4.5219011306762695,8.053011894226074,7.916773796081543,9.265355110168457,9.439484596252441,9.338397979736328,8.998257637023926,9.153422355651855,9.532394409179688,9.36213493347168,9.51252269744873,4.2325263023376465,4.2811503410339355,9.050063133239746,8.804250717163086,8.759565353393555,8.836935997009277,4.448802947998047,7.881968021392822,8.309174537658691,8.605719566345215,8.576944351196289,8.543001174926758,9.065104484558105,8.354752540588379,7.600203990936279,9.473487854003906,9.41274642944336,9.35104751586914,8.292619705200195,8.553117752075195,7.629283428192139,8.52270793914795,8.180665016174316,8.249421119689941,8.104021072387695],\"yaxis\":\"y\",\"type\":\"scatter\"},{\"customdata\":[[\"Fil\\u00e9 de saltm\\u00e3o New Butchers\"],[\"Bacalhau New  Butchers\"],[\"Isca de Peixe Vegway\"],[\"Fil\\u00e9 de Peixe Vegway\"],[\"Vieira de Soja Vegway\"],[\"Bacalhau Incr\\u00edvel Seara\"],[\"Iscas de Peixe Incr\\u00edvel Seara\"],[\"Atum do Futuro\"]],\"hovertemplate\":\"Classification=FISH 1<br>x=%{x}<br>y=%{y}<br>Description=%{customdata[0]}<extra></extra>\",\"legendgroup\":\"FISH 1\",\"marker\":{\"color\":\"#FECB52\",\"symbol\":\"circle\"},\"mode\":\"markers\",\"name\":\"FISH 1\",\"orientation\":\"v\",\"showlegend\":true,\"x\":[6.759991645812988,6.219752788543701,6.787826061248779,6.490339756011963,6.299910545349121,6.472908020019531,6.729904651641846,7.200740814208984],\"xaxis\":\"x\",\"y\":[5.584517478942871,4.455280303955078,4.613384246826172,5.251244068145752,5.0322160720825195,4.840031623840332,4.306544780731201,5.5599751472473145],\"yaxis\":\"y\",\"type\":\"scatter\"},{\"customdata\":[[\"Presunto de Soja Vegway\"],[\"Bacon Vegano\"],[\"Mortadela de Soja Vegana Goshen\"],[\"Presunto de Soja Defumado\"],[\"Presunto de Soja Vegano Fatiado Goshen\"],[\"Bacon Crispy Verdali\"]],\"hovertemplate\":\"Classification=PORK 2<br>x=%{x}<br>y=%{y}<br>Description=%{customdata[0]}<extra></extra>\",\"legendgroup\":\"PORK 2\",\"marker\":{\"color\":\"#636efa\",\"symbol\":\"circle\"},\"mode\":\"markers\",\"name\":\"PORK 2\",\"orientation\":\"v\",\"showlegend\":true,\"x\":[7.429345607757568,6.022716522216797,7.895706653594971,7.6951446533203125,7.721308708190918,6.538049697875977],\"xaxis\":\"x\",\"y\":[6.817615032196045,4.624931335449219,6.7665696144104,6.445652484893799,6.739278793334961,4.210949897766113],\"yaxis\":\"y\",\"type\":\"scatter\"},{\"customdata\":[[\"Not Milk \"],[\"Not Milk Semidesnatado\"],[\" Vegetal de almonds\"],[\" vegetal \"],[\" Vegetal de almonds Fresco\"],[\" Vegetal  de Caj\\u00fa Fresco\"],[\" Vegetal  Fresco\"],[\" Vegetal Noats Original\"],[\" Vegetal Noats Barista\"],[\" Jasmine rice em P\\u00f3\"],[\" BIOV jasmine rice com amendoas\"],[\" BIOV jasmine rice com coco\"],[\" BioV oats Jasmine\"],[\" Jasmine rice \"],[\" Jasmine rice com oats\"],[\"Bebida de rice Nesfit\"],[\"Bebida Natural Nesfit\"],[\"Bebida de rice  e Amendoas Nesfit\"],[\"Bebida de rice e Coco Nesfit\"],[\"Bebida de oats Nesfit\"],[\"Bebida de oats e cocoa\"],[\"Molico Vegetal Nestl\\u00e9\"],[\"Ninho Vegetal Nestl\\u00e9\"],[\"Ninho Banana e apple Nestl\\u00e9\"],[\"Nude Edi\\u00e7\\u00e3o Barista\"],[\"Nude Original \"],[\"Nude Sabor Baunilha\"],[\"Nude de cocoa\"],[\"Nude + calcium\"],[\"Nude Barista\"],[\"Almond Breeze Original\"],[\"Almond Breeze Chocolate\"],[\"Almond Breeze Baunilha\"],[\"Almond Breeze Sem sugar\"],[\"Almond Breeze Amendoas com Coco\"],[\"Almond Breeze Chocolate Sem sugar\"],[\" de Amendoas Silk Sem sugar\"],[\" de Amendoas Silk \"],[\" cashews Silk\"],[\" de almonds e cocoa Silk\"],[\" de almonds Silk Coco\"],[\"Bebida de rice L\\u00edquida Sabor Original\"],[\"Bebida de rice L\\u00edquida Sabor almonds\"],[\"Bebida de rice L\\u00edquida Sabor peanuts\\n\"],[\"Bebida de rice L\\u00edquida Sabor cashews\"],[\"Bebida de rice L\\u00edquida Sabor Chocolate\"],[\"Bebida de rice L\\u00edquida Sabor Coco\"],[\"Bebida de rice L\\u00edquida Sabor Baunilha\"],[\"Bebida de rice Em P\\u00f3 Sabor Original\"],[\"Bebida de rice Em P\\u00f3 Sabor Original\"],[\"Bebida de rice Em P\\u00f3 Sabor Banana e apple\"],[\"Bebida de rice Em P\\u00f3 Sabor Chocolate\"],[\"Bebida de rice Em P\\u00f3 Sabor strawberries\"],[\" a tal da castanha barista\"],[\" a tal da castanha original\"],[\" a tal da castanha caju + Coco\"],[\" a tal da castanha almonds\"],[\" a tal da castanha castanha + cocoa\"],[\" a tal da castanha oats\"],[\" a tal da castanha mixed nuts\"],[\" a tal da castanha caju + Par\\u00e1\"],[\" a tal da castanha caju + peanuts\"],[\" Natuterra oats + Coco\"],[\" de almonds Natuterra\"],[\" Natuterra oats \"],[\" Vegetal 3 Nuts \\u2013 macadamianuts, almonds e cashews\"],[\" Vegetal de macadamianuts e Coco\"],[\" Vegetal de macadamianuts e cashews\"],[\" Vegetal Possible Foods\"],[\" Vegetal Possible Foods Chocolate\"],[\"Bebida de castanh de caj\\u00fa sem adi\\u00e7\\u00e3o de sugar nature's heart\"],[\"Bebida de almonds s/ adi\\u00e7\\u00e3o de sugares 1L \\u2013 Nature\\u2019s Heart\"],[\"Bebida de rice s/ adi\\u00e7\\u00e3o de sugares 1L \\u2013 Nature\\u2019s Heart\"],[\"Bebida de oats s/ adi\\u00e7\\u00e3o de sugares 1L \\u2013 Nature\\u2019s Heart\"],[\"Bebida de cocoa & rice 1L \\u2013 Nature\\u2019s Heart\"],[\"Bebida  & rice s/ adi\\u00e7\\u00e3o de sugares 1L \\u2013 Nature\\u2019s Heart\"],[\" Vegetal de soy Naturis Batavo\"],[\" DUOLAT peanuts E CASTANHA 1L - CAJUEIRO\"],[\" 85 CASTANHAS 1L - CAJUEIRO\"],[\" TOASTED 1L - CAJUEIRO\"]],\"hovertemplate\":\"Classification=DAIRY 1<br>x=%{x}<br>y=%{y}<br>Description=%{customdata[0]}<extra></extra>\",\"legendgroup\":\"DAIRY 1\",\"marker\":{\"color\":\"#EF553B\",\"symbol\":\"circle\"},\"mode\":\"markers\",\"name\":\"DAIRY 1\",\"orientation\":\"v\",\"showlegend\":true,\"x\":[0.44451186060905457,0.27998414635658264,0.10181772708892822,0.22623541951179504,0.20323508977890015,0.23438233137130737,0.16842302680015564,3.2224507331848145,3.1040456295013428,0.139054074883461,0.8046428561210632,0.10519521683454514,3.217024564743042,0.2560223340988159,0.18176421523094177,-0.3168394863605499,-0.056004323065280914,-0.3862959146499634,-0.3287539482116699,-0.45798301696777344,-0.4030265808105469,-0.17085283994674683,-0.02868548035621643,0.12997768819332123,0.02752767875790596,1.2807101011276245,0.7926449775695801,0.7455970644950867,0.2738818824291229,0.123000867664814,-0.24415670335292816,-0.16527195274829865,-0.3419456481933594,0.039693549275398254,-0.07276905328035355,-0.19890843331813812,2.099437713623047,1.7994047403335571,2.0180201530456543,2.540973424911499,2.1243112087249756,2.5897200107574463,2.669771432876587,2.4297211170196533,2.505660057067871,2.615330219268799,2.381521224975586,2.5050928592681885,7.3279337882995605,7.248178005218506,7.287228584289551,7.240225791931152,7.2007293701171875,1.8728159666061401,2.208528518676758,1.9801578521728516,-0.16072098910808563,2.4824976921081543,-0.4013969302177429,0.009480250999331474,2.2012128829956055,2.250750780105591,0.03114880621433258,-0.03138254955410957,0.03295740857720375,2.3469018936157227,2.129908800125122,2.062859535217285,-0.13293369114398956,-0.3853195905685425,0.18755143880844116,0.022185400128364563,-0.13784725964069366,-0.2570175230503082,-0.20684167742729187,-0.05465855449438095,0.2859119176864624,2.1277577877044678,2.0778708457946777,2.107605457305908],\"xaxis\":\"x\",\"y\":[12.00432014465332,12.1214599609375,12.388619422912598,12.46580696105957,12.513296127319336,12.28862476348877,12.462418556213379,10.086612701416016,10.227051734924316,10.325718879699707,10.484760284423828,10.378568649291992,10.076452255249023,10.308262825012207,10.31618881225586,10.798087120056152,11.08120059967041,10.68165111541748,10.604785919189453,10.808835983276367,10.597090721130371,10.220821380615234,10.151780128479004,10.396028518676758,10.960139274597168,10.465392112731934,10.462623596191406,10.399463653564453,10.758658409118652,11.111754417419434,11.200356483459473,10.322742462158203,10.639277458190918,12.108826637268066,12.144834518432617,11.918359756469727,10.416751861572266,10.506181716918945,10.56216049194336,11.013772010803223,10.412490844726562,11.098503112792969,10.910003662109375,10.937148094177246,10.911818504333496,10.889928817749023,10.850857734680176,10.98753833770752,9.577030181884766,9.51118278503418,9.548168182373047,9.487698554992676,9.499687194824219,10.445525169372559,10.510186195373535,10.60587215423584,12.331339836120605,11.060528755187988,10.898082733154297,12.042657852172852,10.526495933532715,10.27964973449707,12.352187156677246,12.206114768981934,12.260780334472656,10.189836502075195,10.102668762207031,10.11292839050293,11.666600227355957,10.670891761779785,12.269125938415527,12.187613487243652,10.860085487365723,10.670709609985352,10.465106010437012,10.776520729064941,12.058348655700684,10.089035987854004,10.168006896972656,10.060715675354004],\"yaxis\":\"y\",\"type\":\"scatter\"},{\"customdata\":[[\"Iogurte \"],[\"Iogurte  com strawberries\"],[\"Iogurte  com banana, apple e papaya\"],[\"Iogurte  Zero sugar\"],[\"Iogurte  com strawberries Zero sugar\"],[\"Iogurte GregoVeg \"],[\"Iogurte GregoVeg  com strawberries\"],[\"Iogurte Proteico 14g sabor strawberries\"],[\"Shake \"],[\"Iogurte Proteico 14g sabor  peanuts\"],[\"Creme de almonds\"]],\"hovertemplate\":\"Classification=DAIRY 2<br>x=%{x}<br>y=%{y}<br>Description=%{customdata[0]}<extra></extra>\",\"legendgroup\":\"DAIRY 2\",\"marker\":{\"color\":\"#00cc96\",\"symbol\":\"circle\"},\"mode\":\"markers\",\"name\":\"DAIRY 2\",\"orientation\":\"v\",\"showlegend\":true,\"x\":[0.500425398349762,0.569596529006958,0.5609956383705139,0.48991888761520386,0.5380711555480957,2.6902413368225098,2.7182798385620117,0.2828851044178009,1.9446847438812256,0.24802497029304504,6.632342338562012],\"xaxis\":\"x\",\"y\":[11.766740798950195,11.668783187866211,11.674446105957031,12.065242767333984,12.12308406829834,10.171738624572754,10.217856407165527,11.69074821472168,10.346613883972168,11.775317192077637,8.741868019104004],\"yaxis\":\"y\",\"type\":\"scatter\"},{\"customdata\":[[\"MAIONESE VEGETAL SUPERBOM\"],[\"MAIONESE FUGINI\"],[\"NOT MAYO\"],[\"NOT MAYO garlic\"],[\"NOT MAYO AZEITONA\"],[\"NOT MAYO PICANTE\"],[\"MAIONESE V-MAYO\"],[\"MAIONESE V-MAYO ApepperDA\"],[\"MAIONESE V-MAYO TRUFADA\"],[\"MAIONESE V-MAYO DE ABACATE\"],[\"MAIONESE V-MAYO DE garlic\"],[\"MAIONESE HELLMANS\"],[\"MAIONESE VEGANA FUGINI\"],[\"MAIONESE DEL\\u00cdCIAS DE GOI\\u00c1S\"]],\"hovertemplate\":\"Classification=EGG 1<br>x=%{x}<br>y=%{y}<br>Description=%{customdata[0]}<extra></extra>\",\"legendgroup\":\"EGG 1\",\"marker\":{\"color\":\"#ab63fa\",\"symbol\":\"circle\"},\"mode\":\"markers\",\"name\":\"EGG 1\",\"orientation\":\"v\",\"showlegend\":true,\"x\":[7.981320858001709,8.283330917358398,7.523285388946533,7.61002779006958,7.633228778839111,7.666241645812988,8.43173885345459,8.28806209564209,8.392219543457031,8.216702461242676,8.270392417907715,8.302637100219727,6.888835906982422,7.69641637802124],\"xaxis\":\"x\",\"y\":[6.854374408721924,8.16434383392334,8.585481643676758,8.550101280212402,8.58003044128418,8.50801944732666,8.5438871383667,8.543902397155762,8.459339141845703,8.459954261779785,8.5140962600708,8.376989364624023,8.202544212341309,7.86016321182251],\"yaxis\":\"y\",\"type\":\"scatter\"},{\"customdata\":[[\"Ovos Novos\"],[\"Ovos Novos\"]],\"hovertemplate\":\"Classification=EGG 2<br>x=%{x}<br>y=%{y}<br>Description=%{customdata[0]}<extra></extra>\",\"legendgroup\":\"EGG 2\",\"marker\":{\"color\":\"#FFA15A\",\"symbol\":\"circle\"},\"mode\":\"markers\",\"name\":\"EGG 2\",\"orientation\":\"v\",\"showlegend\":true,\"x\":[8.27434253692627,9.188812255859375],\"xaxis\":\"x\",\"y\":[6.715216636657715,6.579384803771973],\"yaxis\":\"y\",\"type\":\"scatter\"}],                        {\"template\":{\"data\":{\"bar\":[{\"error_x\":{\"color\":\"#2a3f5f\"},\"error_y\":{\"color\":\"#2a3f5f\"},\"marker\":{\"line\":{\"color\":\"#E5ECF6\",\"width\":0.5},\"pattern\":{\"fillmode\":\"overlay\",\"size\":10,\"solidity\":0.2}},\"type\":\"bar\"}],\"barpolar\":[{\"marker\":{\"line\":{\"color\":\"#E5ECF6\",\"width\":0.5},\"pattern\":{\"fillmode\":\"overlay\",\"size\":10,\"solidity\":0.2}},\"type\":\"barpolar\"}],\"carpet\":[{\"aaxis\":{\"endlinecolor\":\"#2a3f5f\",\"gridcolor\":\"white\",\"linecolor\":\"white\",\"minorgridcolor\":\"white\",\"startlinecolor\":\"#2a3f5f\"},\"baxis\":{\"endlinecolor\":\"#2a3f5f\",\"gridcolor\":\"white\",\"linecolor\":\"white\",\"minorgridcolor\":\"white\",\"startlinecolor\":\"#2a3f5f\"},\"type\":\"carpet\"}],\"choropleth\":[{\"colorbar\":{\"outlinewidth\":0,\"ticks\":\"\"},\"type\":\"choropleth\"}],\"contour\":[{\"colorbar\":{\"outlinewidth\":0,\"ticks\":\"\"},\"colorscale\":[[0.0,\"#0d0887\"],[0.1111111111111111,\"#46039f\"],[0.2222222222222222,\"#7201a8\"],[0.3333333333333333,\"#9c179e\"],[0.4444444444444444,\"#bd3786\"],[0.5555555555555556,\"#d8576b\"],[0.6666666666666666,\"#ed7953\"],[0.7777777777777778,\"#fb9f3a\"],[0.8888888888888888,\"#fdca26\"],[1.0,\"#f0f921\"]],\"type\":\"contour\"}],\"contourcarpet\":[{\"colorbar\":{\"outlinewidth\":0,\"ticks\":\"\"},\"type\":\"contourcarpet\"}],\"heatmap\":[{\"colorbar\":{\"outlinewidth\":0,\"ticks\":\"\"},\"colorscale\":[[0.0,\"#0d0887\"],[0.1111111111111111,\"#46039f\"],[0.2222222222222222,\"#7201a8\"],[0.3333333333333333,\"#9c179e\"],[0.4444444444444444,\"#bd3786\"],[0.5555555555555556,\"#d8576b\"],[0.6666666666666666,\"#ed7953\"],[0.7777777777777778,\"#fb9f3a\"],[0.8888888888888888,\"#fdca26\"],[1.0,\"#f0f921\"]],\"type\":\"heatmap\"}],\"heatmapgl\":[{\"colorbar\":{\"outlinewidth\":0,\"ticks\":\"\"},\"colorscale\":[[0.0,\"#0d0887\"],[0.1111111111111111,\"#46039f\"],[0.2222222222222222,\"#7201a8\"],[0.3333333333333333,\"#9c179e\"],[0.4444444444444444,\"#bd3786\"],[0.5555555555555556,\"#d8576b\"],[0.6666666666666666,\"#ed7953\"],[0.7777777777777778,\"#fb9f3a\"],[0.8888888888888888,\"#fdca26\"],[1.0,\"#f0f921\"]],\"type\":\"heatmapgl\"}],\"histogram\":[{\"marker\":{\"pattern\":{\"fillmode\":\"overlay\",\"size\":10,\"solidity\":0.2}},\"type\":\"histogram\"}],\"histogram2d\":[{\"colorbar\":{\"outlinewidth\":0,\"ticks\":\"\"},\"colorscale\":[[0.0,\"#0d0887\"],[0.1111111111111111,\"#46039f\"],[0.2222222222222222,\"#7201a8\"],[0.3333333333333333,\"#9c179e\"],[0.4444444444444444,\"#bd3786\"],[0.5555555555555556,\"#d8576b\"],[0.6666666666666666,\"#ed7953\"],[0.7777777777777778,\"#fb9f3a\"],[0.8888888888888888,\"#fdca26\"],[1.0,\"#f0f921\"]],\"type\":\"histogram2d\"}],\"histogram2dcontour\":[{\"colorbar\":{\"outlinewidth\":0,\"ticks\":\"\"},\"colorscale\":[[0.0,\"#0d0887\"],[0.1111111111111111,\"#46039f\"],[0.2222222222222222,\"#7201a8\"],[0.3333333333333333,\"#9c179e\"],[0.4444444444444444,\"#bd3786\"],[0.5555555555555556,\"#d8576b\"],[0.6666666666666666,\"#ed7953\"],[0.7777777777777778,\"#fb9f3a\"],[0.8888888888888888,\"#fdca26\"],[1.0,\"#f0f921\"]],\"type\":\"histogram2dcontour\"}],\"mesh3d\":[{\"colorbar\":{\"outlinewidth\":0,\"ticks\":\"\"},\"type\":\"mesh3d\"}],\"parcoords\":[{\"line\":{\"colorbar\":{\"outlinewidth\":0,\"ticks\":\"\"}},\"type\":\"parcoords\"}],\"pie\":[{\"automargin\":true,\"type\":\"pie\"}],\"scatter\":[{\"marker\":{\"colorbar\":{\"outlinewidth\":0,\"ticks\":\"\"}},\"type\":\"scatter\"}],\"scatter3d\":[{\"line\":{\"colorbar\":{\"outlinewidth\":0,\"ticks\":\"\"}},\"marker\":{\"colorbar\":{\"outlinewidth\":0,\"ticks\":\"\"}},\"type\":\"scatter3d\"}],\"scattercarpet\":[{\"marker\":{\"colorbar\":{\"outlinewidth\":0,\"ticks\":\"\"}},\"type\":\"scattercarpet\"}],\"scattergeo\":[{\"marker\":{\"colorbar\":{\"outlinewidth\":0,\"ticks\":\"\"}},\"type\":\"scattergeo\"}],\"scattergl\":[{\"marker\":{\"colorbar\":{\"outlinewidth\":0,\"ticks\":\"\"}},\"type\":\"scattergl\"}],\"scattermapbox\":[{\"marker\":{\"colorbar\":{\"outlinewidth\":0,\"ticks\":\"\"}},\"type\":\"scattermapbox\"}],\"scatterpolar\":[{\"marker\":{\"colorbar\":{\"outlinewidth\":0,\"ticks\":\"\"}},\"type\":\"scatterpolar\"}],\"scatterpolargl\":[{\"marker\":{\"colorbar\":{\"outlinewidth\":0,\"ticks\":\"\"}},\"type\":\"scatterpolargl\"}],\"scatterternary\":[{\"marker\":{\"colorbar\":{\"outlinewidth\":0,\"ticks\":\"\"}},\"type\":\"scatterternary\"}],\"surface\":[{\"colorbar\":{\"outlinewidth\":0,\"ticks\":\"\"},\"colorscale\":[[0.0,\"#0d0887\"],[0.1111111111111111,\"#46039f\"],[0.2222222222222222,\"#7201a8\"],[0.3333333333333333,\"#9c179e\"],[0.4444444444444444,\"#bd3786\"],[0.5555555555555556,\"#d8576b\"],[0.6666666666666666,\"#ed7953\"],[0.7777777777777778,\"#fb9f3a\"],[0.8888888888888888,\"#fdca26\"],[1.0,\"#f0f921\"]],\"type\":\"surface\"}],\"table\":[{\"cells\":{\"fill\":{\"color\":\"#EBF0F8\"},\"line\":{\"color\":\"white\"}},\"header\":{\"fill\":{\"color\":\"#C8D4E3\"},\"line\":{\"color\":\"white\"}},\"type\":\"table\"}]},\"layout\":{\"annotationdefaults\":{\"arrowcolor\":\"#2a3f5f\",\"arrowhead\":0,\"arrowwidth\":1},\"autotypenumbers\":\"strict\",\"coloraxis\":{\"colorbar\":{\"outlinewidth\":0,\"ticks\":\"\"}},\"colorscale\":{\"diverging\":[[0,\"#8e0152\"],[0.1,\"#c51b7d\"],[0.2,\"#de77ae\"],[0.3,\"#f1b6da\"],[0.4,\"#fde0ef\"],[0.5,\"#f7f7f7\"],[0.6,\"#e6f5d0\"],[0.7,\"#b8e186\"],[0.8,\"#7fbc41\"],[0.9,\"#4d9221\"],[1,\"#276419\"]],\"sequential\":[[0.0,\"#0d0887\"],[0.1111111111111111,\"#46039f\"],[0.2222222222222222,\"#7201a8\"],[0.3333333333333333,\"#9c179e\"],[0.4444444444444444,\"#bd3786\"],[0.5555555555555556,\"#d8576b\"],[0.6666666666666666,\"#ed7953\"],[0.7777777777777778,\"#fb9f3a\"],[0.8888888888888888,\"#fdca26\"],[1.0,\"#f0f921\"]],\"sequentialminus\":[[0.0,\"#0d0887\"],[0.1111111111111111,\"#46039f\"],[0.2222222222222222,\"#7201a8\"],[0.3333333333333333,\"#9c179e\"],[0.4444444444444444,\"#bd3786\"],[0.5555555555555556,\"#d8576b\"],[0.6666666666666666,\"#ed7953\"],[0.7777777777777778,\"#fb9f3a\"],[0.8888888888888888,\"#fdca26\"],[1.0,\"#f0f921\"]]},\"colorway\":[\"#636efa\",\"#EF553B\",\"#00cc96\",\"#ab63fa\",\"#FFA15A\",\"#19d3f3\",\"#FF6692\",\"#B6E880\",\"#FF97FF\",\"#FECB52\"],\"font\":{\"color\":\"#2a3f5f\"},\"geo\":{\"bgcolor\":\"white\",\"lakecolor\":\"white\",\"landcolor\":\"#E5ECF6\",\"showlakes\":true,\"showland\":true,\"subunitcolor\":\"white\"},\"hoverlabel\":{\"align\":\"left\"},\"hovermode\":\"closest\",\"mapbox\":{\"style\":\"light\"},\"paper_bgcolor\":\"white\",\"plot_bgcolor\":\"#E5ECF6\",\"polar\":{\"angularaxis\":{\"gridcolor\":\"white\",\"linecolor\":\"white\",\"ticks\":\"\"},\"bgcolor\":\"#E5ECF6\",\"radialaxis\":{\"gridcolor\":\"white\",\"linecolor\":\"white\",\"ticks\":\"\"}},\"scene\":{\"xaxis\":{\"backgroundcolor\":\"#E5ECF6\",\"gridcolor\":\"white\",\"gridwidth\":2,\"linecolor\":\"white\",\"showbackground\":true,\"ticks\":\"\",\"zerolinecolor\":\"white\"},\"yaxis\":{\"backgroundcolor\":\"#E5ECF6\",\"gridcolor\":\"white\",\"gridwidth\":2,\"linecolor\":\"white\",\"showbackground\":true,\"ticks\":\"\",\"zerolinecolor\":\"white\"},\"zaxis\":{\"backgroundcolor\":\"#E5ECF6\",\"gridcolor\":\"white\",\"gridwidth\":2,\"linecolor\":\"white\",\"showbackground\":true,\"ticks\":\"\",\"zerolinecolor\":\"white\"}},\"shapedefaults\":{\"line\":{\"color\":\"#2a3f5f\"}},\"ternary\":{\"aaxis\":{\"gridcolor\":\"white\",\"linecolor\":\"white\",\"ticks\":\"\"},\"baxis\":{\"gridcolor\":\"white\",\"linecolor\":\"white\",\"ticks\":\"\"},\"bgcolor\":\"#E5ECF6\",\"caxis\":{\"gridcolor\":\"white\",\"linecolor\":\"white\",\"ticks\":\"\"}},\"title\":{\"x\":0.05},\"xaxis\":{\"automargin\":true,\"gridcolor\":\"white\",\"linecolor\":\"white\",\"ticks\":\"\",\"title\":{\"standoff\":15},\"zerolinecolor\":\"white\",\"zerolinewidth\":2},\"yaxis\":{\"automargin\":true,\"gridcolor\":\"white\",\"linecolor\":\"white\",\"ticks\":\"\",\"title\":{\"standoff\":15},\"zerolinecolor\":\"white\",\"zerolinewidth\":2}}},\"xaxis\":{\"anchor\":\"y\",\"domain\":[0.0,1.0],\"title\":{\"text\":\"x\"}},\"yaxis\":{\"anchor\":\"x\",\"domain\":[0.0,1.0],\"title\":{\"text\":\"y\"}},\"legend\":{\"title\":{\"text\":\"Classification\"},\"tracegroupgap\":0},\"margin\":{\"t\":60},\"width\":800},                        {\"responsive\": true}                    ).then(function(){\n",
              "                            \n",
              "var gd = document.getElementById('f0fe5e19-5677-4151-834a-86270a2ed79a');\n",
              "var x = new MutationObserver(function (mutations, observer) {{\n",
              "        var display = window.getComputedStyle(gd).display;\n",
              "        if (!display || display === 'none') {{\n",
              "            console.log([gd, 'removed!']);\n",
              "            Plotly.purge(gd);\n",
              "            observer.disconnect();\n",
              "        }}\n",
              "}});\n",
              "\n",
              "// Listen for the removal of the full notebook cells\n",
              "var notebookContainer = gd.closest('#notebook-container');\n",
              "if (notebookContainer) {{\n",
              "    x.observe(notebookContainer, {childList: true});\n",
              "}}\n",
              "\n",
              "// Listen for the clearing of the current output cell\n",
              "var outputEl = gd.closest('.output');\n",
              "if (outputEl) {{\n",
              "    x.observe(outputEl, {childList: true});\n",
              "}}\n",
              "\n",
              "                        })                };                            </script>        </div>\n",
              "</body>\n",
              "</html>"
            ]
          },
          "metadata": {}
        }
      ]
    },
    {
      "cell_type": "code",
      "source": [
        "data_ingredients = label_data.join(ingredients_normalized)\n",
        "sklearn_pca = sklearnPCA(n_components=200)\n",
        "X_pcaI = sklearn_pca.fit_transform(X_ingredients)\n",
        "\n",
        "X_pcaI[1:4, :]\n",
        "data_ingredients['x'] = X_pcaI[:,0]\n",
        "data_ingredients['y'] = X_pcaI[:,1]\n",
        "\n",
        "fig = px.scatter(data_ingredients, x='x', y='y', color='Classification', hover_data=[\"Description\"], width=800)\n",
        "fig.show()"
      ],
      "metadata": {
        "colab": {
          "base_uri": "https://localhost:8080/",
          "height": 542
        },
        "id": "Ajcet5Qmbx19",
        "outputId": "f86fb48d-1756-4b52-e49e-8249cf13d401"
      },
      "execution_count": 22,
      "outputs": [
        {
          "output_type": "display_data",
          "data": {
            "text/html": [
              "<html>\n",
              "<head><meta charset=\"utf-8\" /></head>\n",
              "<body>\n",
              "    <div>            <script src=\"https://cdnjs.cloudflare.com/ajax/libs/mathjax/2.7.5/MathJax.js?config=TeX-AMS-MML_SVG\"></script><script type=\"text/javascript\">if (window.MathJax) {MathJax.Hub.Config({SVG: {font: \"STIX-Web\"}});}</script>                <script type=\"text/javascript\">window.PlotlyConfig = {MathJaxConfig: 'local'};</script>\n",
              "        <script src=\"https://cdn.plot.ly/plotly-2.8.3.min.js\"></script>                <div id=\"bd03c738-66e1-4752-8d97-37718b97c8ab\" class=\"plotly-graph-div\" style=\"height:525px; width:800px;\"></div>            <script type=\"text/javascript\">                                    window.PLOTLYENV=window.PLOTLYENV || {};                                    if (document.getElementById(\"bd03c738-66e1-4752-8d97-37718b97c8ab\")) {                    Plotly.newPlot(                        \"bd03c738-66e1-4752-8d97-37718b97c8ab\",                        [{\"customdata\":[[\"Carne Mo\\u00edda do Futuro\"],[\"Almondegas de Soja Vegway\"],[\"Almondegas Amazonika Mundi\"],[\"Kibe Incr\\u00edvel Seara\"],[\"Almondegas Incr\\u00edveis Seara\"],[\"Almondegas Mr Veggy\"],[\"Carne Mo\\u00edda Superbom\"],[\"Carne Vegetal Mo\\u00edda Superbom\"],[\"Carne Mo\\u00edda Vegetal Verdali\"]],\"hovertemplate\":\"Classification=MEAT 2<br>x=%{x}<br>y=%{y}<br>Description=%{customdata[0]}<extra></extra>\",\"legendgroup\":\"MEAT 2\",\"marker\":{\"color\":\"#636efa\",\"symbol\":\"circle\"},\"mode\":\"markers\",\"name\":\"MEAT 2\",\"orientation\":\"v\",\"showlegend\":true,\"x\":[1.0334862242464953,0.8648192951052931,1.0912070223031478,1.3504480309045994,2.3040052584379174,0.851244647839993,-0.5516832654223116,0.42139924520586247,0.619253204934416],\"xaxis\":\"x\",\"y\":[0.09396575744037934,1.1665020950642182,-0.8116971019131533,-0.899479032722298,-1.4733865184000277,-0.08407009223421262,-0.15891552979580642,1.0331943836151467,0.22036893720563083],\"yaxis\":\"y\",\"type\":\"scatter\"},{\"customdata\":[[\"Carne Mo\\u00edda do Futuro\"],[\"Fil\\u00e9s Sora Carne Vermelha\"],[\"Fatias Sora Carne Vermelha\"],[\"Fil\\u00e9 Pronto Saud\\u00e1vel Sora\"],[\"Carne Mo\\u00edda Pronto Saud\\u00e1vel Sora\"],[\"Churrasco Vegabom\"],[\"Churrasco Aoniondo Vegabom\"],[\"Carne de Pernil Seara\"],[\"Alm\\u00f4ndega de Soja Vegana Goshen\"],[\"Bife de Soja Vegano Goshen\"],[\"Alm\\u00f4ndega Vegana Superbom\"],[\"Bife Vegetal Superbom\"],[\"Escalope ao Molho Caseiro Superbom\"],[\"Cubinhos ao Molho Mexicano Superbom\"],[\"Alm\\u00f4ndegas ao Molho Sugo Superbom\"],[\"Medalh\\u00e3o ao Molho Madeira Superbom\"],[\"Mignon Verdali\"],[\"Steak Verdali\"]],\"hovertemplate\":\"Classification=MEAT 3<br>x=%{x}<br>y=%{y}<br>Description=%{customdata[0]}<extra></extra>\",\"legendgroup\":\"MEAT 3\",\"marker\":{\"color\":\"#EF553B\",\"symbol\":\"circle\"},\"mode\":\"markers\",\"name\":\"MEAT 3\",\"orientation\":\"v\",\"showlegend\":true,\"x\":[0.8670825624787771,-0.30272583466627245,-0.648556273616013,0.25505581083871276,0.2550558108387128,1.0647199777819563,1.0647199777819563,2.3040052584379174,0.4325864250274901,0.5962836183491305,-0.554896500039839,0.19966414655295237,0.9346794617288408,0.5846514341267428,1.3377081918560811,1.4453924384279508,1.303927906030837,0.5713395597699045],\"xaxis\":\"x\",\"y\":[0.2701577802071174,-0.13926095298945843,0.12238389108052279,-0.6846828162049444,-0.6846828162049444,-0.08562346749906655,-0.08562346749906655,-1.4733865184000277,1.4422359300323175,1.702832748234355,-0.1601964342949578,0.47081401227147407,-0.14987034876803568,0.11462208594628685,0.7196825633206055,1.111884443146001,-0.35708612650158267,0.26269736186231907],\"yaxis\":\"y\",\"type\":\"scatter\"},{\"customdata\":[[\"Frango do Futuro\"],[\"Fatias Sora Carne Branca\"],[\"Fil\\u00e9s Sora Carne Branca\"],[\"Strogonoff de Frango Vegabom\"],[\"Tiras de Frango New Butchers\"],[\"Fil\\u00e9 de Frango Desfiado Vegway\"],[\"Frango Veg e Tal Sadia\"],[\"Frango Veg e Tal Sadia Desfiado\"],[\"Peito de Peru de Soja\"],[\"Peito de Peru de Soja Vegano\"],[\"Tiras de Ave Verdali\"],[\"Fil\\u00e9 sem Frango Verdali\"],[\"Mini Fil\\u00e9 de Frango Verdali\"]],\"hovertemplate\":\"Classification=POULTRY 3<br>x=%{x}<br>y=%{y}<br>Description=%{customdata[0]}<extra></extra>\",\"legendgroup\":\"POULTRY 3\",\"marker\":{\"color\":\"#00cc96\",\"symbol\":\"circle\"},\"mode\":\"markers\",\"name\":\"POULTRY 3\",\"orientation\":\"v\",\"showlegend\":true,\"x\":[0.8670825624787777,-0.6540969394167641,-0.6540969394167641,0.5447520260389159,0.092266371591412,0.8047788298213315,0.02247441107224624,0.02247441107224624,0.029817264463405664,0.4016995017847473,0.9884548601098978,0.4315322303575558,0.7550060576591223],\"xaxis\":\"x\",\"y\":[0.2701577802071161,0.12224785714881815,0.12224785714881813,-0.20347247503658097,-0.6174231237713813,1.0486759069644627,-0.19942835613424,-0.19942835613424,1.8983757123800256,1.985988688863187,-0.701784014465788,0.11112430844597261,-0.38787821411253237],\"yaxis\":\"y\",\"type\":\"scatter\"},{\"customdata\":[[\"Lingui\\u00e7a do Futuro\"],[\"Lingui\\u00e7a calabresa vegabom\"],[\"saltsicha de chickpea Vegabom\"],[\"Vegway Soy Sausage\"],[\"saltsichas Incriveis Seara\"],[\"Lingui\\u00e7a Apimentada de Soja Goshen\"],[\"Lingui\\u00e7a Calabresa de Soja Goshen\"],[\"Lingui\\u00e7a de Soja Vegana Goshen\"],[\"Lingui\\u00e7a Toscana de Soja Goshen\"],[\"saltsicha de Soja Vegana Goshen\"],[\"saltsicha Vegetal Superbom\"],[\"saltsicha Vegetal Defumada Superbom\"]],\"hovertemplate\":\"Classification=PORK 1<br>x=%{x}<br>y=%{y}<br>Description=%{customdata[0]}<extra></extra>\",\"legendgroup\":\"PORK 1\",\"marker\":{\"color\":\"#ab63fa\",\"symbol\":\"circle\"},\"mode\":\"markers\",\"name\":\"PORK 1\",\"orientation\":\"v\",\"showlegend\":true,\"x\":[1.5164482292698647,0.23900608821496602,0.11539798255761688,0.711852671649273,2.3040052584379174,0.36972038697194837,0.49327846560560734,0.7472739149060393,0.029817264463405664,0.5146419550043824,0.5062945239856386,0.5149284698241465],\"xaxis\":\"x\",\"y\":[0.022261966872517656,0.692615257211168,0.6064628974911574,0.8605093787003311,-1.4733865184000277,1.7185431119642112,2.2064262028127732,2.2392275619818376,1.8983757123800256,2.1416792644616254,1.4074987118323135,1.0518674323265467],\"yaxis\":\"y\",\"type\":\"scatter\"},{\"customdata\":[[\"Hamburguer de Soja Goshen\"],[\"Hamburguer de Soja Vegano Goshen\"],[\"Hamburguer de Quinoa Mr Veggy\"],[\"Hamburguer de lentil Mr Veggy\"],[\"Hamburguer vegano falafel amazonika mundi\"],[\"Hamburguer Vegetal Verdali\"],[\"VegBurger Sabor Carne\"],[\"Burger Gourmet Superbom\"],[\"Hamburguer Incr\\u00edvel Seara\"],[\"Not Burguer Notco\"],[\"Hamburguer de Fibra de Caju Amazonika Mundi\"],[\"Hamburguer Vegabom\"],[\"Hamburguer de Carne Veg  e Tal Sadia\"],[\"Hamburger New Butchers\"],[\"Hamburguer de Legumes Mr Veggy\"],[\"Hamburguer Vegetariano Mr Veggy\"],[\"Hambuguer Mr Veggy Mari Mari\"],[\"Hambuguer Mr Veggy Mari Mari Churrrasco\"],[\"Hamb\\u00farguer Fazenda Futuro 2.0\"],[\"Hamb\\u00farguer Vegano de Quinoa Amazonika Mundi\"],[\"Hamburguer Veggie Roots Tempero Indiano\"],[\"Hamb\\u00farguer Sora Carne Vermelha \"],[\"Hamburguer Veggie Roots brazilianspices\"],[\"Hamburguer veggie roots tempero mexicano\"],[\"Hamburguer de Soja Sabor Carne Vegway\"],[\"Hamb\\u00farguer de Soja Empanado Vegway\"],[\"Hamburguer Vegetal Superbom\"],[\"Hamburguer de chickpea Mr Veggy\"],[\"Hamburguer Veggie Roots Tempero \\u00c1rabe\"],[\"Hamburguer Veggie Roots Tempero Tailand\\u00eas\"],[\"Hamburguer Vegabom\"],[\"Hamb\\u00farguer Pronto Saud\\u00e1vel Sora\"],[\"hamburguer vegetal com herbs jasmine\"],[\"Hamburguer Vegetal Tradicional Jasmine\"]],\"hovertemplate\":\"Classification=MEAT 1<br>x=%{x}<br>y=%{y}<br>Description=%{customdata[0]}<extra></extra>\",\"legendgroup\":\"MEAT 1\",\"marker\":{\"color\":\"#FFA15A\",\"symbol\":\"circle\"},\"mode\":\"markers\",\"name\":\"MEAT 1\",\"orientation\":\"v\",\"showlegend\":true,\"x\":[0.5929253128167266,0.3398952177248133,0.345789872780448,0.6952484298447162,0.07368616726140859,1.253803031928717,0.30519967436612605,-0.17350796252613976,2.3040052584379174,0.022201553483280564,1.0804941450463093,0.25385511141215433,0.7977669533086655,0.5359230791720622,0.19987227276250985,0.17778008546332313,0.06939550239054355,0.06939550239054355,1.0334862242464933,0.3699481412783685,0.6539403528177035,-0.648556273616013,0.6464784043682068,0.7351766851834949,0.8159379343211597,0.8474141769805159,1.4822773135303215,-0.053989503895245906,0.791570974219384,0.7449796125777092,0.21862781791258723,0.25505581083871276,-0.5154648343614655,-0.521434630350022],\"xaxis\":\"x\",\"y\":[1.5629301132348585,1.4597378813149655,-0.2190971377464222,-0.4050453302598419,-0.05074089309018061,-0.8091231849666682,-0.9003177137258307,0.19388067012702317,-1.4733865184000277,-0.3128417563593365,-0.8479692096369438,0.6372220669040932,-0.7537506538889207,-0.912618144998282,0.5942274784845667,0.5953716624777536,0.5368354875036392,0.5368354875036392,0.09396575744038048,-0.18726813655261526,-0.5326456975270046,0.1223838910805228,-0.6099189235626916,-0.7024799755078553,1.102231453246288,1.0610463102617405,0.6095723098183872,0.10879806414832541,-0.6753384257399929,-0.4255438385530673,0.5416998007011157,-0.6846828162049444,0.33640170598728014,0.3417813320759458],\"yaxis\":\"y\",\"type\":\"scatter\"},{\"customdata\":[[\"Hamb\\u00farguer Sora Carne Branca\"],[\"VegBurger Sabor Frango\"],[\"Hambuguer Incr\\u00edvel Seara Frango\"],[\"Frango Vegano em Peda\\u00e7os \\u00e0 Base de pea\"],[\"Hamb\\u00farguer de Frango Verdali\"]],\"hovertemplate\":\"Classification=POULTRY 2<br>x=%{x}<br>y=%{y}<br>Description=%{customdata[0]}<extra></extra>\",\"legendgroup\":\"POULTRY 2\",\"marker\":{\"color\":\"#19d3f3\",\"symbol\":\"circle\"},\"mode\":\"markers\",\"name\":\"POULTRY 2\",\"orientation\":\"v\",\"showlegend\":true,\"x\":[-0.654096939416764,0.26449682384248896,2.3040052584379174,-0.04072192390403776,1.0351664542802217],\"xaxis\":\"x\",\"y\":[0.12224785714881813,-0.8911000329791844,-1.4733865184000277,0.18306727403116324,-0.5782148912369728],\"yaxis\":\"y\",\"type\":\"scatter\"},{\"customdata\":[[\"Empanado de Frango Vegabom\"],[\"Fil\\u00e9 de Frango Empanado Vegabom\"],[\"Empanados de Frango Vegway\"],[\"Empanados Incr\\u00edveis Seara\"],[\"Empanados Sadia Veg e Tal\"],[\"Empanadinho de Soja  Goshen\"],[\"Empanadinho de Soja Vegano  Goshen\"],[\"Steak de Soja Vegano Goshen\"],[\"Empanado Vegano (Mini Crispy) 100 Foods\"],[\"Crispy Chicken 100 Foods\"],[\"Mini Empanado de Legumes Superbom\"],[\"Steak Vegan Sabor Legumes Superbom\"],[\"Steak Veg\\u00ea Sabor Frango\"],[\"Steak Veg\\u00ea Sabor Frango Empanado\"]],\"hovertemplate\":\"Classification=POULTRY 1<br>x=%{x}<br>y=%{y}<br>Description=%{customdata[0]}<extra></extra>\",\"legendgroup\":\"POULTRY 1\",\"marker\":{\"color\":\"#FF6692\",\"symbol\":\"circle\"},\"mode\":\"markers\",\"name\":\"POULTRY 1\",\"orientation\":\"v\",\"showlegend\":true,\"x\":[0.7112045873569636,0.7112045873569636,0.7865330676993334,1.8693776398860769,1.8693776398860769,0.7336327365774669,0.4214545315856838,0.6644027443577176,1.2051791200506512,1.42092140178709,0.5326851958251707,0.5326851958254006,-0.1656537156632541,-0.11192260441874193],\"xaxis\":\"x\",\"y\":[0.49468944245613816,0.49468944245613816,1.1175998975577899,-1.2546642110008435,-1.2546642110008435,1.7523965098710046,1.3447576146043345,1.6864013250686944,-0.7601713586778233,-0.9006330975405697,0.31345001754857293,0.3134500175479945,0.010455194080050856,0.01638827158546448],\"yaxis\":\"y\",\"type\":\"scatter\"},{\"customdata\":[[\"Fil\\u00e9 Peixe Empanado Vegabom\"],[\"Tirinhas de Peixe Empanado Vegabom\"],[\"Bolinho de Bacalhau New Butchers\"],[\"Bolinho de Siri Amazonika Mundi\"],[\"Camar\\u00e3o de Soja Vegano Goshen\"]],\"hovertemplate\":\"Classification=FISH 2<br>x=%{x}<br>y=%{y}<br>Description=%{customdata[0]}<extra></extra>\",\"legendgroup\":\"FISH 2\",\"marker\":{\"color\":\"#B6E880\",\"symbol\":\"circle\"},\"mode\":\"markers\",\"name\":\"FISH 2\",\"orientation\":\"v\",\"showlegend\":true,\"x\":[0.7292083215643498,0.7292083215643498,0.2892938160468666,0.6745943475918654,0.4591360253495029],\"xaxis\":\"x\",\"y\":[0.5211676463830381,0.5211676463830381,-0.9519575030225298,-0.6522831611917829,1.8419712252764064],\"yaxis\":\"y\",\"type\":\"scatter\"},{\"customdata\":[[\"Queijo Mu\\u00e7arela Vegabom\"],[\"Queijo Picante Vegabom\"],[\"Queijo Cheddar Vegabom\"],[\"Requeisoy Provolone \"],[\"Requeisoy Cheddar' \"],[\"Requeisoy Tradicional\"],[\"Requeisoy Gorgonzola\"],[\"Okeijo R\\u00fastico\"],[\"Okeijo Cremoso\"],[\"Okeijo Gratinado\"],[\"Okeijo Mussarela\"],[\"Okeijo Provolone\"],[\"Creme s Vida Veg\"],[\"Creme s fineherbs e Pesto\"],[\"Queijo mu\\u00e7arela\"],[\"Queijo minas frescal\"],[\"Queijo minas padr\\u00e3o\"],[\"Requeij\\u00e3o Tradicional\"],[\"Requeij\\u00e3o fineherbs\"],[\"Requeij\\u00e3o Defumado\"],[\"Queijo Zimurisku \"],[\"Queijo Zimurisku Temperado\"],[\"Queijo Mozarela NoMoo\"],[\"Queijo Provolone\"],[\"Queijo Ch\\u00e9vre\"],[\"Queijo Prato\"],[\"Queijo Parmes\\u00e3o\"],[\"Requeij\\u00e3o Nomoo\"],[\"Queijo Gorgolino\"],[\"Queijo Melhor Que Cheddar\"],[\"Queijo Recaishow\"],[\"Queijo Brie\"],[\"Mussarela Vegana Goshen\"],[\"Queijo ProVolone Veganita\"],[\"Queijo Munster Veganita\"],[\"Queijo Brie Veganita\"],[\"Queijo Mussarela Veganita\"],[\"Queijo Cheddar Veganita\"],[\"CREAM CHEESE CULIN\\u00c1RIO BASI.CO\"],[\"REQUEIJ\\u00c3O VEGETAL\"],[\"QUEIJO PARMES\\u00c3O\"],[\"QUEIJO MINAS VEGETAL\"],[\"QUEIJO PRATO\"],[\"QUEIJO MU\\u00c7ARELA\"],[\"QUEIJO CHEDDAR\"]],\"hovertemplate\":\"Classification=DAIRY 3<br>x=%{x}<br>y=%{y}<br>Description=%{customdata[0]}<extra></extra>\",\"legendgroup\":\"DAIRY 3\",\"marker\":{\"color\":\"#FF97FF\",\"symbol\":\"circle\"},\"mode\":\"markers\",\"name\":\"DAIRY 3\",\"orientation\":\"v\",\"showlegend\":true,\"x\":[0.11067536872773873,0.08538825021524701,0.08538825021524701,0.029342704787215308,0.028679472047461303,0.07495414295844403,0.035237868320966634,-0.0076167466554021325,0.35534431763252416,-0.11659206327084069,-0.16753229433501546,-0.16753229433501546,-0.9539799679565992,-0.9310507465645604,-0.9256170614532117,-0.8592037164598287,-0.9596959859909837,-0.9207758320167553,-1.0055516505822362,-0.9472121590244869,-0.697582808496309,-0.6406069711178292,-0.8671295542641896,-0.8721219249924065,-0.9453034727067855,-0.8483805409303845,-0.9682441752626088,-0.22825999375505074,-0.27732300814245936,-0.1948114099802314,0.08927930150486992,-0.4056684957099045,-0.5491967642233866,-1.0150685596610824,-1.0150685596610824,-1.0150685596610824,-1.0150685596610824,-0.9971712833679774,-0.5674547007913158,-0.8492895247474683,-0.4390444943192993,-1.0253237875436851,-1.0569582282259908,-1.1036013130372877,-1.147532354277651],\"xaxis\":\"x\",\"y\":[-0.044533530009154755,-0.03652302529922954,-0.03652302529922954,0.5382222512316076,0.560567252273459,0.5613826287847042,0.5666659341663676,0.03267728817980812,-0.23995035442548923,-0.148651964853621,-0.0761380235952613,-0.0761380235952613,-0.3001351971298508,-0.28812759458987014,-0.19526575913787972,-0.17956954120106763,-0.21180634796145228,-0.1959136009342372,-0.28332372034364894,-0.3674133946495769,-0.16470598830040056,-0.09027782708418014,-0.20640068337015818,-0.20803793826844308,-0.26410900519017727,-0.1987308547671373,-0.2734550224674177,0.05710418856432279,0.0206045050009466,0.01702431587205513,-0.2606774264734026,-0.054210251781995324,-0.10922058951435375,-0.2406073629933823,-0.2406073629933823,-0.2406073629933823,-0.2406073629933823,-0.23320887581068875,-0.3796008040251622,-0.503952542949286,0.008790878321957043,-0.2969682574586252,-0.22369456234092924,-0.18160658225591794,-0.22424770905713604],\"yaxis\":\"y\",\"type\":\"scatter\"},{\"customdata\":[[\"Fil\\u00e9 de saltm\\u00e3o New Butchers\"],[\"Bacalhau New  Butchers\"],[\"Isca de Peixe Vegway\"],[\"Fil\\u00e9 de Peixe Vegway\"],[\"Vieira de Soja Vegway\"],[\"Bacalhau Incr\\u00edvel Seara\"],[\"Iscas de Peixe Incr\\u00edvel Seara\"],[\"Atum do Futuro\"]],\"hovertemplate\":\"Classification=FISH 1<br>x=%{x}<br>y=%{y}<br>Description=%{customdata[0]}<extra></extra>\",\"legendgroup\":\"FISH 1\",\"marker\":{\"color\":\"#FECB52\",\"symbol\":\"circle\"},\"mode\":\"markers\",\"name\":\"FISH 1\",\"orientation\":\"v\",\"showlegend\":true,\"x\":[-0.05331968029508606,0.785844271067499,0.8527309040760199,0.8339416685285459,0.7628575854399219,2.3040052584379174,1.8693776398860769,0.5546723593137086],\"xaxis\":\"x\",\"y\":[-0.60936515946169,-0.6691509837563974,1.1934103715789108,1.128709657173189,0.9716153865093377,-1.4733865184000277,-1.2546642110008435,-0.09259293002801806],\"yaxis\":\"y\",\"type\":\"scatter\"},{\"customdata\":[[\"Presunto de Soja Vegway\"],[\"Bacon Vegano\"],[\"Mortadela de Soja Vegana Goshen\"],[\"Presunto de Soja Defumado\"],[\"Presunto de Soja Vegano Fatiado Goshen\"],[\"Bacon Crispy Verdali\"]],\"hovertemplate\":\"Classification=PORK 2<br>x=%{x}<br>y=%{y}<br>Description=%{customdata[0]}<extra></extra>\",\"legendgroup\":\"PORK 2\",\"marker\":{\"color\":\"#636efa\",\"symbol\":\"circle\"},\"mode\":\"markers\",\"name\":\"PORK 2\",\"orientation\":\"v\",\"showlegend\":true,\"x\":[0.7633317094629166,-0.6353789556026443,0.41673660366498577,0.5680788112584623,0.3974779689369766,-0.16573230103028894],\"xaxis\":\"x\",\"y\":[1.035956249399216,0.023326492745372213,2.0683577420090287,1.6454839255306593,1.9545577086521666,-0.10103886532817372],\"yaxis\":\"y\",\"type\":\"scatter\"},{\"customdata\":[[\"Not Milk \"],[\"Not Milk Semidesnatado\"],[\" Vegetal de almonds\"],[\" vegetal \"],[\" Vegetal de almonds Fresco\"],[\" Vegetal  de Caj\\u00fa Fresco\"],[\" Vegetal  Fresco\"],[\" Vegetal Noats Original\"],[\" Vegetal Noats Barista\"],[\" Jasmine rice em P\\u00f3\"],[\" BIOV jasmine rice com amendoas\"],[\" BIOV jasmine rice com coco\"],[\" BioV oats Jasmine\"],[\" Jasmine rice \"],[\" Jasmine rice com oats\"],[\"Bebida de rice Nesfit\"],[\"Bebida Natural Nesfit\"],[\"Bebida de rice  e Amendoas Nesfit\"],[\"Bebida de rice e Coco Nesfit\"],[\"Bebida de oats Nesfit\"],[\"Bebida de oats e cocoa\"],[\"Molico Vegetal Nestl\\u00e9\"],[\"Ninho Vegetal Nestl\\u00e9\"],[\"Ninho Banana e apple Nestl\\u00e9\"],[\"Nude Edi\\u00e7\\u00e3o Barista\"],[\"Nude Original \"],[\"Nude Sabor Baunilha\"],[\"Nude de cocoa\"],[\"Nude + calcium\"],[\"Nude Barista\"],[\"Almond Breeze Original\"],[\"Almond Breeze Chocolate\"],[\"Almond Breeze Baunilha\"],[\"Almond Breeze Sem sugar\"],[\"Almond Breeze Amendoas com Coco\"],[\"Almond Breeze Chocolate Sem sugar\"],[\" de Amendoas Silk Sem sugar\"],[\" de Amendoas Silk \"],[\" cashews Silk\"],[\" de almonds e cocoa Silk\"],[\" de almonds Silk Coco\"],[\"Bebida de rice L\\u00edquida Sabor Original\"],[\"Bebida de rice L\\u00edquida Sabor almonds\"],[\"Bebida de rice L\\u00edquida Sabor peanuts\\n\"],[\"Bebida de rice L\\u00edquida Sabor cashews\"],[\"Bebida de rice L\\u00edquida Sabor Chocolate\"],[\"Bebida de rice L\\u00edquida Sabor Coco\"],[\"Bebida de rice L\\u00edquida Sabor Baunilha\"],[\"Bebida de rice Em P\\u00f3 Sabor Original\"],[\"Bebida de rice Em P\\u00f3 Sabor Original\"],[\"Bebida de rice Em P\\u00f3 Sabor Banana e apple\"],[\"Bebida de rice Em P\\u00f3 Sabor Chocolate\"],[\"Bebida de rice Em P\\u00f3 Sabor strawberries\"],[\" a tal da castanha barista\"],[\" a tal da castanha original\"],[\" a tal da castanha caju + Coco\"],[\" a tal da castanha almonds\"],[\" a tal da castanha castanha + cocoa\"],[\" a tal da castanha oats\"],[\" a tal da castanha mixed nuts\"],[\" a tal da castanha caju + Par\\u00e1\"],[\" a tal da castanha caju + peanuts\"],[\" Natuterra oats + Coco\"],[\" de almonds Natuterra\"],[\" Natuterra oats \"],[\" Vegetal 3 Nuts \\u2013 macadamianuts, almonds e cashews\"],[\" Vegetal de macadamianuts e Coco\"],[\" Vegetal de macadamianuts e cashews\"],[\" Vegetal Possible Foods\"],[\" Vegetal Possible Foods Chocolate\"],[\"Bebida de castanh de caj\\u00fa sem adi\\u00e7\\u00e3o de sugar nature's heart\"],[\"Bebida de almonds s/ adi\\u00e7\\u00e3o de sugares 1L \\u2013 Nature\\u2019s Heart\"],[\"Bebida de rice s/ adi\\u00e7\\u00e3o de sugares 1L \\u2013 Nature\\u2019s Heart\"],[\"Bebida de oats s/ adi\\u00e7\\u00e3o de sugares 1L \\u2013 Nature\\u2019s Heart\"],[\"Bebida de cocoa & rice 1L \\u2013 Nature\\u2019s Heart\"],[\"Bebida  & rice s/ adi\\u00e7\\u00e3o de sugares 1L \\u2013 Nature\\u2019s Heart\"],[\" Vegetal de soy Naturis Batavo\"],[\" DUOLAT peanuts E CASTANHA 1L - CAJUEIRO\"],[\" 85 CASTANHAS 1L - CAJUEIRO\"],[\" TOASTED 1L - CAJUEIRO\"]],\"hovertemplate\":\"Classification=DAIRY 1<br>x=%{x}<br>y=%{y}<br>Description=%{customdata[0]}<extra></extra>\",\"legendgroup\":\"DAIRY 1\",\"marker\":{\"color\":\"#EF553B\",\"symbol\":\"circle\"},\"mode\":\"markers\",\"name\":\"DAIRY 1\",\"orientation\":\"v\",\"showlegend\":true,\"x\":[0.15817076932409205,0.15817076932409205,-0.6442259820503379,-0.636041967999019,-0.6583440522363598,-0.8362569146093373,-0.6348478970123799,-0.5935098995298393,-0.6203522208349979,-0.36494472195956357,-0.5547036472171553,-0.2596194389561754,-0.6779838090019361,-0.2809543745449884,-0.2894395010406418,-0.26837075770291235,-0.6628970709227636,-0.21689297542709024,-0.2554639673536778,-0.2196875676682015,-0.15667053795497704,-0.614525952230436,-0.614525952230436,-0.614525952230436,-0.11627814980198105,-0.7691574960574247,-0.5785489630956148,-0.5785489630938607,-0.5852913774515563,-0.11627814980198106,-0.8530531515121161,-0.856304814655696,-0.8179994498276957,-1.0531037951365827,-0.851595303270884,-1.0855666074288979,-0.3829959747940943,-0.3829959747934372,-0.5488228981842825,-0.4351534277070216,-0.44895971456525163,-0.7215354818051429,-0.9211234504962841,-0.9659256384445343,-1.0549813199249565,-0.27462253706513606,-0.6952712912044187,-0.8989617932161832,-0.7403655438434269,-0.7403655438458769,-1.0156160420332256,-1.0477108593399238,-1.0177939117035364,-0.7229334155634124,-0.6682781422021744,-0.53654908621409,-0.6682781422004154,-0.545376026225812,-0.5507440527344701,-0.5767793472624497,-0.5365490862136375,-0.5396560766110798,-0.7091493986019112,-0.6797265327404216,-0.6581584185419083,-0.5396560766111708,-0.5365490862109394,-0.536549086212054,-0.9603466962321946,-0.9538918242629956,-0.987783464074572,-1.0108288130610945,-0.9857228113643934,-0.9885176467541245,-1.0581631597727346,-1.0361919955341243,-0.35059502834772155,-0.5396560766110798,-0.6721479349647989,-0.6721479349647989],\"xaxis\":\"x\",\"y\":[-0.187359612741977,-0.187359612741977,-0.3982674722501582,-0.39455925518149304,-0.39270894199665246,-0.2566357172131534,-0.38107768317892315,-0.12254000782011748,-0.13448429793748012,-0.11927528617087456,-0.11050461929809716,-0.06830885230870935,-0.16581816762220464,-0.07633772471464845,0.023926435053976586,-0.009105148723901817,-0.17040560123823742,0.018752680778211357,0.006171708772502451,0.011439941196587445,0.04486762596466227,-0.32952724467392475,-0.32952724467392475,-0.32952724467392475,0.013168984275575602,-0.1901384593210245,-0.11866701590346004,-0.11866701590827357,-0.12060760250298809,0.01316898427557577,-0.19265474488270892,-0.18418601395518466,-0.17180063950007615,-0.27080986607092017,-0.18282322079954605,-0.28114531143433624,-0.035811983191531525,-0.03581198319912394,-0.10189889992194961,-0.0777236286803303,-0.06306939632842841,-0.18511116912330947,-0.3633701442246375,-0.288729084251602,-0.3120635115347534,-0.06108425618130471,-0.17603235703631057,-0.2529193111785088,-0.15997244023916848,-0.1599724402347512,-0.2710798669068231,-0.2812304090787596,-0.2722660942123042,-0.17304548290969402,-0.1359047620273987,-0.10575505941899879,-0.1359047620325841,-0.10863739920442507,-0.11015592259249213,-0.3151588427139453,-0.10575505941448855,-0.10660065958095837,-0.1895473819883394,-0.17423277547941568,-0.25211080352528464,-0.10660065958120839,-0.10575505942393156,-0.10575505940562302,-0.2695070019816388,-0.25877130964077893,-0.25472502135894837,-0.2621738647531601,-0.2844115900349468,-0.2819324859140728,-0.31948797270345336,-0.3019415541012243,0.0050406667921249326,-0.10660065958095837,-0.13699143429108138,-0.13699143429108138],\"yaxis\":\"y\",\"type\":\"scatter\"},{\"customdata\":[[\"Iogurte \"],[\"Iogurte  com strawberries\"],[\"Iogurte  com banana, apple e papaya\"],[\"Iogurte  Zero sugar\"],[\"Iogurte  com strawberries Zero sugar\"],[\"Iogurte GregoVeg \"],[\"Iogurte GregoVeg  com strawberries\"],[\"Iogurte Proteico 14g sabor strawberries\"],[\"Shake \"],[\"Iogurte Proteico 14g sabor  peanuts\"],[\"Creme de almonds\"]],\"hovertemplate\":\"Classification=DAIRY 2<br>x=%{x}<br>y=%{y}<br>Description=%{customdata[0]}<extra></extra>\",\"legendgroup\":\"DAIRY 2\",\"marker\":{\"color\":\"#00cc96\",\"symbol\":\"circle\"},\"mode\":\"markers\",\"name\":\"DAIRY 2\",\"orientation\":\"v\",\"showlegend\":true,\"x\":[-0.6774856399321497,-0.3725046249318412,-0.41161626419870706,-0.6720451291624683,-0.6177929698030611,-0.34664677041811925,-0.35477014883304553,-0.4335116209790447,-0.36761857382632473,-0.44797893896502694,-0.655666112870535],\"xaxis\":\"x\",\"y\":[-0.18941165349093853,-0.08949636421012253,-0.0549482097359924,-0.18811378314181912,-0.19137822613301414,-0.049250389757585715,-0.05085118134645845,-0.14871144075454193,-0.270139288296926,-0.135714182837907,-0.31268888662811123],\"yaxis\":\"y\",\"type\":\"scatter\"},{\"customdata\":[[\"MAIONESE VEGETAL SUPERBOM\"],[\"MAIONESE FUGINI\"],[\"NOT MAYO\"],[\"NOT MAYO garlic\"],[\"NOT MAYO AZEITONA\"],[\"NOT MAYO PICANTE\"],[\"MAIONESE V-MAYO\"],[\"MAIONESE V-MAYO ApepperDA\"],[\"MAIONESE V-MAYO TRUFADA\"],[\"MAIONESE V-MAYO DE ABACATE\"],[\"MAIONESE V-MAYO DE garlic\"],[\"MAIONESE HELLMANS\"],[\"MAIONESE VEGANA FUGINI\"],[\"MAIONESE DEL\\u00cdCIAS DE GOI\\u00c1S\"]],\"hovertemplate\":\"Classification=EGG 1<br>x=%{x}<br>y=%{y}<br>Description=%{customdata[0]}<extra></extra>\",\"legendgroup\":\"EGG 1\",\"marker\":{\"color\":\"#ab63fa\",\"symbol\":\"circle\"},\"mode\":\"markers\",\"name\":\"EGG 1\",\"orientation\":\"v\",\"showlegend\":true,\"x\":[0.3152955489813328,-0.29968782145490613,0.08959245985727426,0.19756038345117483,0.09463265792962901,0.46170653109052345,1.4144767299770815,1.4313747829355854,1.3899016316202597,1.4226203714736625,1.4144767299770815,0.3715710669318174,0.995037969361939,-0.08783726975200258],\"xaxis\":\"x\",\"y\":[0.18640259474025098,0.2884041454321688,-0.06159783496380453,-0.07041019736483585,-0.06739443439005287,-0.3270200784562611,-0.9722466747077126,-0.9426480696680084,-0.94928350770449,-0.9799589342281169,-0.9722466747077126,0.001856469560893084,-0.15382943480503378,0.05299923640283535],\"yaxis\":\"y\",\"type\":\"scatter\"},{\"customdata\":[[\"Ovos Novos\"],[\"Ovos Novos\"]],\"hovertemplate\":\"Classification=EGG 2<br>x=%{x}<br>y=%{y}<br>Description=%{customdata[0]}<extra></extra>\",\"legendgroup\":\"EGG 2\",\"marker\":{\"color\":\"#FFA15A\",\"symbol\":\"circle\"},\"mode\":\"markers\",\"name\":\"EGG 2\",\"orientation\":\"v\",\"showlegend\":true,\"x\":[-0.6721479349648148,-0.6721479349649842],\"xaxis\":\"x\",\"y\":[-0.13699143429119204,-0.13699143429118887],\"yaxis\":\"y\",\"type\":\"scatter\"}],                        {\"template\":{\"data\":{\"bar\":[{\"error_x\":{\"color\":\"#2a3f5f\"},\"error_y\":{\"color\":\"#2a3f5f\"},\"marker\":{\"line\":{\"color\":\"#E5ECF6\",\"width\":0.5},\"pattern\":{\"fillmode\":\"overlay\",\"size\":10,\"solidity\":0.2}},\"type\":\"bar\"}],\"barpolar\":[{\"marker\":{\"line\":{\"color\":\"#E5ECF6\",\"width\":0.5},\"pattern\":{\"fillmode\":\"overlay\",\"size\":10,\"solidity\":0.2}},\"type\":\"barpolar\"}],\"carpet\":[{\"aaxis\":{\"endlinecolor\":\"#2a3f5f\",\"gridcolor\":\"white\",\"linecolor\":\"white\",\"minorgridcolor\":\"white\",\"startlinecolor\":\"#2a3f5f\"},\"baxis\":{\"endlinecolor\":\"#2a3f5f\",\"gridcolor\":\"white\",\"linecolor\":\"white\",\"minorgridcolor\":\"white\",\"startlinecolor\":\"#2a3f5f\"},\"type\":\"carpet\"}],\"choropleth\":[{\"colorbar\":{\"outlinewidth\":0,\"ticks\":\"\"},\"type\":\"choropleth\"}],\"contour\":[{\"colorbar\":{\"outlinewidth\":0,\"ticks\":\"\"},\"colorscale\":[[0.0,\"#0d0887\"],[0.1111111111111111,\"#46039f\"],[0.2222222222222222,\"#7201a8\"],[0.3333333333333333,\"#9c179e\"],[0.4444444444444444,\"#bd3786\"],[0.5555555555555556,\"#d8576b\"],[0.6666666666666666,\"#ed7953\"],[0.7777777777777778,\"#fb9f3a\"],[0.8888888888888888,\"#fdca26\"],[1.0,\"#f0f921\"]],\"type\":\"contour\"}],\"contourcarpet\":[{\"colorbar\":{\"outlinewidth\":0,\"ticks\":\"\"},\"type\":\"contourcarpet\"}],\"heatmap\":[{\"colorbar\":{\"outlinewidth\":0,\"ticks\":\"\"},\"colorscale\":[[0.0,\"#0d0887\"],[0.1111111111111111,\"#46039f\"],[0.2222222222222222,\"#7201a8\"],[0.3333333333333333,\"#9c179e\"],[0.4444444444444444,\"#bd3786\"],[0.5555555555555556,\"#d8576b\"],[0.6666666666666666,\"#ed7953\"],[0.7777777777777778,\"#fb9f3a\"],[0.8888888888888888,\"#fdca26\"],[1.0,\"#f0f921\"]],\"type\":\"heatmap\"}],\"heatmapgl\":[{\"colorbar\":{\"outlinewidth\":0,\"ticks\":\"\"},\"colorscale\":[[0.0,\"#0d0887\"],[0.1111111111111111,\"#46039f\"],[0.2222222222222222,\"#7201a8\"],[0.3333333333333333,\"#9c179e\"],[0.4444444444444444,\"#bd3786\"],[0.5555555555555556,\"#d8576b\"],[0.6666666666666666,\"#ed7953\"],[0.7777777777777778,\"#fb9f3a\"],[0.8888888888888888,\"#fdca26\"],[1.0,\"#f0f921\"]],\"type\":\"heatmapgl\"}],\"histogram\":[{\"marker\":{\"pattern\":{\"fillmode\":\"overlay\",\"size\":10,\"solidity\":0.2}},\"type\":\"histogram\"}],\"histogram2d\":[{\"colorbar\":{\"outlinewidth\":0,\"ticks\":\"\"},\"colorscale\":[[0.0,\"#0d0887\"],[0.1111111111111111,\"#46039f\"],[0.2222222222222222,\"#7201a8\"],[0.3333333333333333,\"#9c179e\"],[0.4444444444444444,\"#bd3786\"],[0.5555555555555556,\"#d8576b\"],[0.6666666666666666,\"#ed7953\"],[0.7777777777777778,\"#fb9f3a\"],[0.8888888888888888,\"#fdca26\"],[1.0,\"#f0f921\"]],\"type\":\"histogram2d\"}],\"histogram2dcontour\":[{\"colorbar\":{\"outlinewidth\":0,\"ticks\":\"\"},\"colorscale\":[[0.0,\"#0d0887\"],[0.1111111111111111,\"#46039f\"],[0.2222222222222222,\"#7201a8\"],[0.3333333333333333,\"#9c179e\"],[0.4444444444444444,\"#bd3786\"],[0.5555555555555556,\"#d8576b\"],[0.6666666666666666,\"#ed7953\"],[0.7777777777777778,\"#fb9f3a\"],[0.8888888888888888,\"#fdca26\"],[1.0,\"#f0f921\"]],\"type\":\"histogram2dcontour\"}],\"mesh3d\":[{\"colorbar\":{\"outlinewidth\":0,\"ticks\":\"\"},\"type\":\"mesh3d\"}],\"parcoords\":[{\"line\":{\"colorbar\":{\"outlinewidth\":0,\"ticks\":\"\"}},\"type\":\"parcoords\"}],\"pie\":[{\"automargin\":true,\"type\":\"pie\"}],\"scatter\":[{\"marker\":{\"colorbar\":{\"outlinewidth\":0,\"ticks\":\"\"}},\"type\":\"scatter\"}],\"scatter3d\":[{\"line\":{\"colorbar\":{\"outlinewidth\":0,\"ticks\":\"\"}},\"marker\":{\"colorbar\":{\"outlinewidth\":0,\"ticks\":\"\"}},\"type\":\"scatter3d\"}],\"scattercarpet\":[{\"marker\":{\"colorbar\":{\"outlinewidth\":0,\"ticks\":\"\"}},\"type\":\"scattercarpet\"}],\"scattergeo\":[{\"marker\":{\"colorbar\":{\"outlinewidth\":0,\"ticks\":\"\"}},\"type\":\"scattergeo\"}],\"scattergl\":[{\"marker\":{\"colorbar\":{\"outlinewidth\":0,\"ticks\":\"\"}},\"type\":\"scattergl\"}],\"scattermapbox\":[{\"marker\":{\"colorbar\":{\"outlinewidth\":0,\"ticks\":\"\"}},\"type\":\"scattermapbox\"}],\"scatterpolar\":[{\"marker\":{\"colorbar\":{\"outlinewidth\":0,\"ticks\":\"\"}},\"type\":\"scatterpolar\"}],\"scatterpolargl\":[{\"marker\":{\"colorbar\":{\"outlinewidth\":0,\"ticks\":\"\"}},\"type\":\"scatterpolargl\"}],\"scatterternary\":[{\"marker\":{\"colorbar\":{\"outlinewidth\":0,\"ticks\":\"\"}},\"type\":\"scatterternary\"}],\"surface\":[{\"colorbar\":{\"outlinewidth\":0,\"ticks\":\"\"},\"colorscale\":[[0.0,\"#0d0887\"],[0.1111111111111111,\"#46039f\"],[0.2222222222222222,\"#7201a8\"],[0.3333333333333333,\"#9c179e\"],[0.4444444444444444,\"#bd3786\"],[0.5555555555555556,\"#d8576b\"],[0.6666666666666666,\"#ed7953\"],[0.7777777777777778,\"#fb9f3a\"],[0.8888888888888888,\"#fdca26\"],[1.0,\"#f0f921\"]],\"type\":\"surface\"}],\"table\":[{\"cells\":{\"fill\":{\"color\":\"#EBF0F8\"},\"line\":{\"color\":\"white\"}},\"header\":{\"fill\":{\"color\":\"#C8D4E3\"},\"line\":{\"color\":\"white\"}},\"type\":\"table\"}]},\"layout\":{\"annotationdefaults\":{\"arrowcolor\":\"#2a3f5f\",\"arrowhead\":0,\"arrowwidth\":1},\"autotypenumbers\":\"strict\",\"coloraxis\":{\"colorbar\":{\"outlinewidth\":0,\"ticks\":\"\"}},\"colorscale\":{\"diverging\":[[0,\"#8e0152\"],[0.1,\"#c51b7d\"],[0.2,\"#de77ae\"],[0.3,\"#f1b6da\"],[0.4,\"#fde0ef\"],[0.5,\"#f7f7f7\"],[0.6,\"#e6f5d0\"],[0.7,\"#b8e186\"],[0.8,\"#7fbc41\"],[0.9,\"#4d9221\"],[1,\"#276419\"]],\"sequential\":[[0.0,\"#0d0887\"],[0.1111111111111111,\"#46039f\"],[0.2222222222222222,\"#7201a8\"],[0.3333333333333333,\"#9c179e\"],[0.4444444444444444,\"#bd3786\"],[0.5555555555555556,\"#d8576b\"],[0.6666666666666666,\"#ed7953\"],[0.7777777777777778,\"#fb9f3a\"],[0.8888888888888888,\"#fdca26\"],[1.0,\"#f0f921\"]],\"sequentialminus\":[[0.0,\"#0d0887\"],[0.1111111111111111,\"#46039f\"],[0.2222222222222222,\"#7201a8\"],[0.3333333333333333,\"#9c179e\"],[0.4444444444444444,\"#bd3786\"],[0.5555555555555556,\"#d8576b\"],[0.6666666666666666,\"#ed7953\"],[0.7777777777777778,\"#fb9f3a\"],[0.8888888888888888,\"#fdca26\"],[1.0,\"#f0f921\"]]},\"colorway\":[\"#636efa\",\"#EF553B\",\"#00cc96\",\"#ab63fa\",\"#FFA15A\",\"#19d3f3\",\"#FF6692\",\"#B6E880\",\"#FF97FF\",\"#FECB52\"],\"font\":{\"color\":\"#2a3f5f\"},\"geo\":{\"bgcolor\":\"white\",\"lakecolor\":\"white\",\"landcolor\":\"#E5ECF6\",\"showlakes\":true,\"showland\":true,\"subunitcolor\":\"white\"},\"hoverlabel\":{\"align\":\"left\"},\"hovermode\":\"closest\",\"mapbox\":{\"style\":\"light\"},\"paper_bgcolor\":\"white\",\"plot_bgcolor\":\"#E5ECF6\",\"polar\":{\"angularaxis\":{\"gridcolor\":\"white\",\"linecolor\":\"white\",\"ticks\":\"\"},\"bgcolor\":\"#E5ECF6\",\"radialaxis\":{\"gridcolor\":\"white\",\"linecolor\":\"white\",\"ticks\":\"\"}},\"scene\":{\"xaxis\":{\"backgroundcolor\":\"#E5ECF6\",\"gridcolor\":\"white\",\"gridwidth\":2,\"linecolor\":\"white\",\"showbackground\":true,\"ticks\":\"\",\"zerolinecolor\":\"white\"},\"yaxis\":{\"backgroundcolor\":\"#E5ECF6\",\"gridcolor\":\"white\",\"gridwidth\":2,\"linecolor\":\"white\",\"showbackground\":true,\"ticks\":\"\",\"zerolinecolor\":\"white\"},\"zaxis\":{\"backgroundcolor\":\"#E5ECF6\",\"gridcolor\":\"white\",\"gridwidth\":2,\"linecolor\":\"white\",\"showbackground\":true,\"ticks\":\"\",\"zerolinecolor\":\"white\"}},\"shapedefaults\":{\"line\":{\"color\":\"#2a3f5f\"}},\"ternary\":{\"aaxis\":{\"gridcolor\":\"white\",\"linecolor\":\"white\",\"ticks\":\"\"},\"baxis\":{\"gridcolor\":\"white\",\"linecolor\":\"white\",\"ticks\":\"\"},\"bgcolor\":\"#E5ECF6\",\"caxis\":{\"gridcolor\":\"white\",\"linecolor\":\"white\",\"ticks\":\"\"}},\"title\":{\"x\":0.05},\"xaxis\":{\"automargin\":true,\"gridcolor\":\"white\",\"linecolor\":\"white\",\"ticks\":\"\",\"title\":{\"standoff\":15},\"zerolinecolor\":\"white\",\"zerolinewidth\":2},\"yaxis\":{\"automargin\":true,\"gridcolor\":\"white\",\"linecolor\":\"white\",\"ticks\":\"\",\"title\":{\"standoff\":15},\"zerolinecolor\":\"white\",\"zerolinewidth\":2}}},\"xaxis\":{\"anchor\":\"y\",\"domain\":[0.0,1.0],\"title\":{\"text\":\"x\"}},\"yaxis\":{\"anchor\":\"x\",\"domain\":[0.0,1.0],\"title\":{\"text\":\"y\"}},\"legend\":{\"title\":{\"text\":\"Classification\"},\"tracegroupgap\":0},\"margin\":{\"t\":60},\"width\":800},                        {\"responsive\": true}                    ).then(function(){\n",
              "                            \n",
              "var gd = document.getElementById('bd03c738-66e1-4752-8d97-37718b97c8ab');\n",
              "var x = new MutationObserver(function (mutations, observer) {{\n",
              "        var display = window.getComputedStyle(gd).display;\n",
              "        if (!display || display === 'none') {{\n",
              "            console.log([gd, 'removed!']);\n",
              "            Plotly.purge(gd);\n",
              "            observer.disconnect();\n",
              "        }}\n",
              "}});\n",
              "\n",
              "// Listen for the removal of the full notebook cells\n",
              "var notebookContainer = gd.closest('#notebook-container');\n",
              "if (notebookContainer) {{\n",
              "    x.observe(notebookContainer, {childList: true});\n",
              "}}\n",
              "\n",
              "// Listen for the clearing of the current output cell\n",
              "var outputEl = gd.closest('.output');\n",
              "if (outputEl) {{\n",
              "    x.observe(outputEl, {childList: true});\n",
              "}}\n",
              "\n",
              "                        })                };                            </script>        </div>\n",
              "</body>\n",
              "</html>"
            ]
          },
          "metadata": {}
        }
      ]
    },
    {
      "cell_type": "code",
      "source": [
        "data_nutrients = label_data.join(nutrients_normalized)\n",
        "sklearn_pca = sklearnPCA(n_components=20)\n",
        "X_pcaN = sklearn_pca.fit_transform(X_nutrients)\n",
        "\n",
        "X_pcaN[1:4, :]\n",
        "data_nutrients['x'] = X_pcaN[:,0]\n",
        "data_nutrients['y'] = X_pcaN[:,1]\n",
        "\n",
        "fig = px.scatter(data_nutrients, x='x', y='y', color='Classification', hover_data=[\"Description\"], width=800)\n",
        "fig.show()"
      ],
      "metadata": {
        "colab": {
          "base_uri": "https://localhost:8080/",
          "height": 542
        },
        "id": "Nw0k9SZ3cCVW",
        "outputId": "ba287563-3255-4cb0-80a2-f5f0ec5b571a"
      },
      "execution_count": 23,
      "outputs": [
        {
          "output_type": "display_data",
          "data": {
            "text/html": [
              "<html>\n",
              "<head><meta charset=\"utf-8\" /></head>\n",
              "<body>\n",
              "    <div>            <script src=\"https://cdnjs.cloudflare.com/ajax/libs/mathjax/2.7.5/MathJax.js?config=TeX-AMS-MML_SVG\"></script><script type=\"text/javascript\">if (window.MathJax) {MathJax.Hub.Config({SVG: {font: \"STIX-Web\"}});}</script>                <script type=\"text/javascript\">window.PlotlyConfig = {MathJaxConfig: 'local'};</script>\n",
              "        <script src=\"https://cdn.plot.ly/plotly-2.8.3.min.js\"></script>                <div id=\"1f5e87e7-36e0-40a4-8aeb-df4fb1e6271b\" class=\"plotly-graph-div\" style=\"height:525px; width:800px;\"></div>            <script type=\"text/javascript\">                                    window.PLOTLYENV=window.PLOTLYENV || {};                                    if (document.getElementById(\"1f5e87e7-36e0-40a4-8aeb-df4fb1e6271b\")) {                    Plotly.newPlot(                        \"1f5e87e7-36e0-40a4-8aeb-df4fb1e6271b\",                        [{\"customdata\":[[\"Carne Mo\\u00edda do Futuro\"],[\"Almondegas de Soja Vegway\"],[\"Almondegas Amazonika Mundi\"],[\"Kibe Incr\\u00edvel Seara\"],[\"Almondegas Incr\\u00edveis Seara\"],[\"Almondegas Mr Veggy\"],[\"Carne Mo\\u00edda Superbom\"],[\"Carne Vegetal Mo\\u00edda Superbom\"],[\"Carne Mo\\u00edda Vegetal Verdali\"]],\"hovertemplate\":\"Classification=MEAT 2<br>x=%{x}<br>y=%{y}<br>Description=%{customdata[0]}<extra></extra>\",\"legendgroup\":\"MEAT 2\",\"marker\":{\"color\":\"#636efa\",\"symbol\":\"circle\"},\"mode\":\"markers\",\"name\":\"MEAT 2\",\"orientation\":\"v\",\"showlegend\":true,\"x\":[-0.33091540728805224,-0.5179074569947735,-0.18789262282746957,-0.3940710259025204,-0.3940873841607366,-0.3817914892320171,-0.41001847551149456,-0.2641834593227798,-0.30000752740700065],\"xaxis\":\"x\",\"y\":[0.10282864450967649,0.3779313691787344,-0.05750407355497153,0.26071276612567396,0.26070760179693836,0.418149921932239,0.22994619885316592,-0.16183271398004972,0.1358809297265044],\"yaxis\":\"y\",\"type\":\"scatter\"},{\"customdata\":[[\"Carne Mo\\u00edda do Futuro\"],[\"Fil\\u00e9s Sora Carne Vermelha\"],[\"Fatias Sora Carne Vermelha\"],[\"Fil\\u00e9 Pronto Saud\\u00e1vel Sora\"],[\"Carne Mo\\u00edda Pronto Saud\\u00e1vel Sora\"],[\"Churrasco Vegabom\"],[\"Churrasco Aoniondo Vegabom\"],[\"Carne de Pernil Seara\"],[\"Alm\\u00f4ndega de Soja Vegana Goshen\"],[\"Bife de Soja Vegano Goshen\"],[\"Alm\\u00f4ndega Vegana Superbom\"],[\"Bife Vegetal Superbom\"],[\"Escalope ao Molho Caseiro Superbom\"],[\"Cubinhos ao Molho Mexicano Superbom\"],[\"Alm\\u00f4ndegas ao Molho Sugo Superbom\"],[\"Medalh\\u00e3o ao Molho Madeira Superbom\"],[\"Mignon Verdali\"],[\"Steak Verdali\"]],\"hovertemplate\":\"Classification=MEAT 3<br>x=%{x}<br>y=%{y}<br>Description=%{customdata[0]}<extra></extra>\",\"legendgroup\":\"MEAT 3\",\"marker\":{\"color\":\"#EF553B\",\"symbol\":\"circle\"},\"mode\":\"markers\",\"name\":\"MEAT 3\",\"orientation\":\"v\",\"showlegend\":true,\"x\":[-0.33091540728805247,-0.35466095315665,-0.3546609531566504,-0.12567687167487002,-0.12567687167487007,-0.2044243692847914,-0.20538565801131117,0.11432918074649376,-0.3343854862386569,-0.25068352383756787,-0.3250028388201136,-0.3271734346307537,-0.12745629871716005,-0.11223245959215689,-0.06730423088614676,-0.19897544340401904,-0.27632584599874627,-0.19944119266642488],\"xaxis\":\"x\",\"y\":[0.10282864450967623,0.021915259345876077,0.021915259345876105,-0.24869773958404032,-0.24869773958404034,-0.13828769325999143,-0.13354721668434485,0.5413436569150809,-0.14087996538974082,0.09259632066731781,0.3320408791839672,-0.19003509307290264,-0.2649743710472987,-0.2708471431876508,-0.296518624018805,-0.2321239225176211,0.1105073743163597,0.05126120232410789],\"yaxis\":\"y\",\"type\":\"scatter\"},{\"customdata\":[[\"Frango do Futuro\"],[\"Fatias Sora Carne Branca\"],[\"Fil\\u00e9s Sora Carne Branca\"],[\"Strogonoff de Frango Vegabom\"],[\"Tiras de Frango New Butchers\"],[\"Fil\\u00e9 de Frango Desfiado Vegway\"],[\"Frango Veg e Tal Sadia\"],[\"Frango Veg e Tal Sadia Desfiado\"],[\"Peito de Peru de Soja\"],[\"Peito de Peru de Soja Vegano\"],[\"Tiras de Ave Verdali\"],[\"Fil\\u00e9 sem Frango Verdali\"],[\"Mini Fil\\u00e9 de Frango Verdali\"]],\"hovertemplate\":\"Classification=POULTRY 3<br>x=%{x}<br>y=%{y}<br>Description=%{customdata[0]}<extra></extra>\",\"legendgroup\":\"POULTRY 3\",\"marker\":{\"color\":\"#00cc96\",\"symbol\":\"circle\"},\"mode\":\"markers\",\"name\":\"POULTRY 3\",\"orientation\":\"v\",\"showlegend\":true,\"x\":[-0.33091540728805224,-0.35466095315664997,-0.35466095315664986,-0.20442436928479135,-0.04104170140030513,-0.25202242398090047,-0.35602702603000114,-0.35602702603000114,-0.23046894987924696,-0.23046894987924696,-0.4941979690408751,-0.2353769223814507,-0.2139939918901341],\"xaxis\":\"x\",\"y\":[0.10282864450967592,0.021915259345876164,0.021915259345876008,-0.13828769325999146,-0.33633316924298856,0.1742238570179533,0.044138117450075565,0.044138117450075565,-0.29200850177387055,-0.29200850177387055,0.28231602064871064,0.14253346241586737,0.1768526709782991],\"yaxis\":\"y\",\"type\":\"scatter\"},{\"customdata\":[[\"Lingui\\u00e7a do Futuro\"],[\"Lingui\\u00e7a calabresa vegabom\"],[\"saltsicha de chickpea Vegabom\"],[\"Vegway Soy Sausage\"],[\"saltsichas Incriveis Seara\"],[\"Lingui\\u00e7a Apimentada de Soja Goshen\"],[\"Lingui\\u00e7a Calabresa de Soja Goshen\"],[\"Lingui\\u00e7a de Soja Vegana Goshen\"],[\"Lingui\\u00e7a Toscana de Soja Goshen\"],[\"saltsicha de Soja Vegana Goshen\"],[\"saltsicha Vegetal Superbom\"],[\"saltsicha Vegetal Defumada Superbom\"]],\"hovertemplate\":\"Classification=PORK 1<br>x=%{x}<br>y=%{y}<br>Description=%{customdata[0]}<extra></extra>\",\"legendgroup\":\"PORK 1\",\"marker\":{\"color\":\"#ab63fa\",\"symbol\":\"circle\"},\"mode\":\"markers\",\"name\":\"PORK 1\",\"orientation\":\"v\",\"showlegend\":true,\"x\":[-0.36498063337417425,-0.26961011408792207,-0.27599920603782696,-0.4393858778227855,-0.10781900001731867,-0.18298878628801277,-0.26103947880828926,-0.2647302472423169,-0.1623334248736103,-0.2908823829510411,-0.23713980670174215,-0.054865746992608565],\"xaxis\":\"x\",\"y\":[-0.0660946618164591,-0.19286462436876042,-0.194893683292253,0.08277922868742132,-0.1046428964146364,-0.33279440226204837,-0.29046330123447983,-0.17295307169969543,-0.292029008747049,-0.16056721674843943,-0.2437325788602683,-0.3148560505709875],\"yaxis\":\"y\",\"type\":\"scatter\"},{\"customdata\":[[\"Hamburguer de Soja Goshen\"],[\"Hamburguer de Soja Vegano Goshen\"],[\"Hamburguer de Quinoa Mr Veggy\"],[\"Hamburguer de lentil Mr Veggy\"],[\"Hamburguer vegano falafel amazonika mundi\"],[\"Hamburguer Vegetal Verdali\"],[\"VegBurger Sabor Carne\"],[\"Burger Gourmet Superbom\"],[\"Hamburguer Incr\\u00edvel Seara\"],[\"Not Burguer Notco\"],[\"Hamburguer de Fibra de Caju Amazonika Mundi\"],[\"Hamburguer Vegabom\"],[\"Hamburguer de Carne Veg  e Tal Sadia\"],[\"Hamburger New Butchers\"],[\"Hamburguer de Legumes Mr Veggy\"],[\"Hamburguer Vegetariano Mr Veggy\"],[\"Hambuguer Mr Veggy Mari Mari\"],[\"Hambuguer Mr Veggy Mari Mari Churrrasco\"],[\"Hamb\\u00farguer Fazenda Futuro 2.0\"],[\"Hamb\\u00farguer Vegano de Quinoa Amazonika Mundi\"],[\"Hamburguer Veggie Roots Tempero Indiano\"],[\"Hamb\\u00farguer Sora Carne Vermelha \"],[\"Hamburguer Veggie Roots brazilianspices\"],[\"Hamburguer veggie roots tempero mexicano\"],[\"Hamburguer de Soja Sabor Carne Vegway\"],[\"Hamb\\u00farguer de Soja Empanado Vegway\"],[\"Hamburguer Vegetal Superbom\"],[\"Hamburguer de chickpea Mr Veggy\"],[\"Hamburguer Veggie Roots Tempero \\u00c1rabe\"],[\"Hamburguer Veggie Roots Tempero Tailand\\u00eas\"],[\"Hamburguer Vegabom\"],[\"Hamb\\u00farguer Pronto Saud\\u00e1vel Sora\"],[\"hamburguer vegetal com herbs jasmine\"],[\"Hamburguer Vegetal Tradicional Jasmine\"]],\"hovertemplate\":\"Classification=MEAT 1<br>x=%{x}<br>y=%{y}<br>Description=%{customdata[0]}<extra></extra>\",\"legendgroup\":\"MEAT 1\",\"marker\":{\"color\":\"#FFA15A\",\"symbol\":\"circle\"},\"mode\":\"markers\",\"name\":\"MEAT 1\",\"orientation\":\"v\",\"showlegend\":true,\"x\":[-0.35133282769649343,-0.1665403235362115,-0.07930228065259143,-0.24243760270963707,-0.2691214980668461,-0.2253571087722189,-0.33745270887695666,-0.22943402709234806,-0.33062895420919103,-1.0519855694993052,-0.23495880976987196,-0.07568478930428732,-0.06594374797943153,-0.28732359028067417,-0.33149476685736884,-0.22654792867376958,-0.27581549560627416,-0.27581549560627416,-0.41960022692537335,-0.22480832334674733,-0.12412127031233561,-0.3546609531566502,-0.13636426141673874,-0.17929916698652978,-0.41783843829932266,-0.4307583917480605,-0.09502752964388625,-0.7364371466609129,-0.2532216866034059,-0.30687077586369405,-0.06129087906668853,-0.12567687167487004,-0.5590499096137327,-0.5590499096137327],\"xaxis\":\"x\",\"y\":[-0.12511486743791864,-0.16853050209932838,0.27498297243849273,0.0877707562312872,0.6232694159928659,-0.021852829281304133,0.09508765084191409,0.2582553587501736,0.13669897169451511,0.6921033086310485,0.14110670530743935,-0.1815262387211768,-0.11129603210294484,-0.08848730185259106,0.5822031111436577,0.003553352479370661,-0.007594339980235903,-0.007594339980235903,0.16994673131462135,0.640686240454061,0.18268082451293802,0.02191525934587612,0.11612748733661414,0.2827434413086336,0.2732029884413005,0.05319258060428291,-0.14509044326361306,0.6783205110301075,0.3167557640048575,0.3896843325382475,-0.13885352054445457,-0.24869773958404034,0.4924691056191925,0.4924691056191925],\"yaxis\":\"y\",\"type\":\"scatter\"},{\"customdata\":[[\"Hamb\\u00farguer Sora Carne Branca\"],[\"VegBurger Sabor Frango\"],[\"Hambuguer Incr\\u00edvel Seara Frango\"],[\"Frango Vegano em Peda\\u00e7os \\u00e0 Base de pea\"],[\"Hamb\\u00farguer de Frango Verdali\"]],\"hovertemplate\":\"Classification=POULTRY 2<br>x=%{x}<br>y=%{y}<br>Description=%{customdata[0]}<extra></extra>\",\"legendgroup\":\"POULTRY 2\",\"marker\":{\"color\":\"#19d3f3\",\"symbol\":\"circle\"},\"mode\":\"markers\",\"name\":\"POULTRY 2\",\"orientation\":\"v\",\"showlegend\":true,\"x\":[-0.35466095315665025,-0.3488182340318783,-0.3190751889550906,-0.08688338029627628,-0.20148670855278297],\"xaxis\":\"x\",\"y\":[0.021915259345876154,0.11539161767438492,0.02691961506306841,0.03023905274296501,-0.036239534345637855],\"yaxis\":\"y\",\"type\":\"scatter\"},{\"customdata\":[[\"Empanado de Frango Vegabom\"],[\"Fil\\u00e9 de Frango Empanado Vegabom\"],[\"Empanados de Frango Vegway\"],[\"Empanados Incr\\u00edveis Seara\"],[\"Empanados Sadia Veg e Tal\"],[\"Empanadinho de Soja  Goshen\"],[\"Empanadinho de Soja Vegano  Goshen\"],[\"Steak de Soja Vegano Goshen\"],[\"Empanado Vegano (Mini Crispy) 100 Foods\"],[\"Crispy Chicken 100 Foods\"],[\"Mini Empanado de Legumes Superbom\"],[\"Steak Vegan Sabor Legumes Superbom\"],[\"Steak Veg\\u00ea Sabor Frango\"],[\"Steak Veg\\u00ea Sabor Frango Empanado\"]],\"hovertemplate\":\"Classification=POULTRY 1<br>x=%{x}<br>y=%{y}<br>Description=%{customdata[0]}<extra></extra>\",\"legendgroup\":\"POULTRY 1\",\"marker\":{\"color\":\"#FF6692\",\"symbol\":\"circle\"},\"mode\":\"markers\",\"name\":\"POULTRY 1\",\"orientation\":\"v\",\"showlegend\":true,\"x\":[-0.08401047530386696,-0.08401047530386699,-0.4985167685563464,-0.6470077799192934,-0.5046925584418283,-0.4317624597845991,-0.18139041146167134,-0.3081954308809603,-0.4894393599697523,-0.4102571214674557,-0.24089564684302492,-0.1774741885804914,-0.24389020999840597,-0.24389020999840597],\"xaxis\":\"x\",\"y\":[-0.19724971976482164,-0.19724971976482164,0.38372457078626826,0.8761782378105759,0.7200155547193395,-0.12291450669116198,-0.23634693950607633,-0.19498427491958906,0.7467924931158557,0.4580294889688056,0.4691583031917928,0.11532684983949192,0.32377648129518116,0.32377648129518116],\"yaxis\":\"y\",\"type\":\"scatter\"},{\"customdata\":[[\"Fil\\u00e9 Peixe Empanado Vegabom\"],[\"Tirinhas de Peixe Empanado Vegabom\"],[\"Bolinho de Bacalhau New Butchers\"],[\"Bolinho de Siri Amazonika Mundi\"],[\"Camar\\u00e3o de Soja Vegano Goshen\"]],\"hovertemplate\":\"Classification=FISH 2<br>x=%{x}<br>y=%{y}<br>Description=%{customdata[0]}<extra></extra>\",\"legendgroup\":\"FISH 2\",\"marker\":{\"color\":\"#B6E880\",\"symbol\":\"circle\"},\"mode\":\"markers\",\"name\":\"FISH 2\",\"orientation\":\"v\",\"showlegend\":true,\"x\":[-0.2206944944204769,-0.2206944944204769,-0.25001310422669853,-0.06513686567210596,-0.2862695282953836],\"xaxis\":\"x\",\"y\":[-0.12332493147129776,-0.12332493147129776,0.379433656452576,-0.23863402886921886,-0.25993165978752025],\"yaxis\":\"y\",\"type\":\"scatter\"},{\"customdata\":[[\"Queijo Mu\\u00e7arela Vegabom\"],[\"Queijo Picante Vegabom\"],[\"Queijo Cheddar Vegabom\"],[\"Requeisoy Provolone \"],[\"Requeisoy Cheddar' \"],[\"Requeisoy Tradicional\"],[\"Requeisoy Gorgonzola\"],[\"Okeijo R\\u00fastico\"],[\"Okeijo Cremoso\"],[\"Okeijo Gratinado\"],[\"Okeijo Mussarela\"],[\"Okeijo Provolone\"],[\"Creme s Vida Veg\"],[\"Creme s fineherbs e Pesto\"],[\"Queijo mu\\u00e7arela\"],[\"Queijo minas frescal\"],[\"Queijo minas padr\\u00e3o\"],[\"Requeij\\u00e3o Tradicional\"],[\"Requeij\\u00e3o fineherbs\"],[\"Requeij\\u00e3o Defumado\"],[\"Queijo Zimurisku \"],[\"Queijo Zimurisku Temperado\"],[\"Queijo Mozarela NoMoo\"],[\"Queijo Provolone\"],[\"Queijo Ch\\u00e9vre\"],[\"Queijo Prato\"],[\"Queijo Parmes\\u00e3o\"],[\"Requeij\\u00e3o Nomoo\"],[\"Queijo Gorgolino\"],[\"Queijo Melhor Que Cheddar\"],[\"Queijo Recaishow\"],[\"Queijo Brie\"],[\"Mussarela Vegana Goshen\"],[\"Queijo ProVolone Veganita\"],[\"Queijo Munster Veganita\"],[\"Queijo Brie Veganita\"],[\"Queijo Mussarela Veganita\"],[\"Queijo Cheddar Veganita\"],[\"CREAM CHEESE CULIN\\u00c1RIO BASI.CO\"],[\"REQUEIJ\\u00c3O VEGETAL\"],[\"QUEIJO PARMES\\u00c3O\"],[\"QUEIJO MINAS VEGETAL\"],[\"QUEIJO PRATO\"],[\"QUEIJO MU\\u00c7ARELA\"],[\"QUEIJO CHEDDAR\"]],\"hovertemplate\":\"Classification=DAIRY 3<br>x=%{x}<br>y=%{y}<br>Description=%{customdata[0]}<extra></extra>\",\"legendgroup\":\"DAIRY 3\",\"marker\":{\"color\":\"#FF97FF\",\"symbol\":\"circle\"},\"mode\":\"markers\",\"name\":\"DAIRY 3\",\"orientation\":\"v\",\"showlegend\":true,\"x\":[0.003340187090951738,0.003340187090951738,0.003340187090951738,-0.1271527760892116,-0.11452867233810947,-0.04100739428269017,-0.1435334206124892,0.02289503999872577,0.02289503999872577,-0.2779180269445451,-0.011436615201967443,-0.011436615201967443,-0.16147197557396611,-0.17170048519483716,-0.10569157910749001,-0.08293712188788138,-0.0963179659870879,-0.16499179164099742,-0.16626085290729972,-0.16245366910839293,-0.9924108900673857,-0.9924108900673857,-0.06983345264352946,0.026100948366396193,-0.1900892351277353,0.03259085145305892,-0.47507736878575063,-0.34788614838792215,-0.22081244624500576,-0.15450309424626457,-0.23273725951910088,-0.38076788555447305,-0.14943833038587856,-0.11549287282518189,-0.1774692025147108,-0.16483344387047333,-0.18518635308502937,-0.24496257728910314,-0.20345581530331883,-0.212314485103704,-0.427839448160446,-0.09033361469816233,-0.17782986693412886,-0.17782986693412886,-0.19869091644618422],\"xaxis\":\"x\",\"y\":[-0.2641767902845189,-0.2641767902845189,-0.2641767902845189,-0.4818779365873732,-0.47583132097113057,-0.4806745639298712,-0.4746418492230637,-0.05758559716023198,-0.05758559716023198,0.35235897676051803,-0.0742672554027281,-0.0742672554027281,-0.3587979658067538,-0.3522996245957355,-0.22377647758924288,-0.24641508225056205,-0.23237716455350296,-0.365862560563256,-0.36550205265279806,-0.36658357638417244,1.0154453300521202,1.0154453300521202,-0.38944016704558054,-0.42228309488322513,-0.27046316285487,-0.43098289608683066,0.5034266654390893,-0.37375374481038387,-0.33709237115517016,-0.3512700212151409,-0.3313377603544756,-0.2257801121649807,-0.2886137172485268,-0.33636433057454346,-0.3034056716175456,-0.39669400636246205,-0.3455485280351275,-0.32668283273503257,-0.4335217627089341,-0.47083729274330954,-0.29854444740171965,-0.4093084991162886,-0.3668366529854765,-0.3668366529854765,-0.3572621845817078],\"yaxis\":\"y\",\"type\":\"scatter\"},{\"customdata\":[[\"Fil\\u00e9 de saltm\\u00e3o New Butchers\"],[\"Bacalhau New  Butchers\"],[\"Isca de Peixe Vegway\"],[\"Fil\\u00e9 de Peixe Vegway\"],[\"Vieira de Soja Vegway\"],[\"Bacalhau Incr\\u00edvel Seara\"],[\"Iscas de Peixe Incr\\u00edvel Seara\"],[\"Atum do Futuro\"]],\"hovertemplate\":\"Classification=FISH 1<br>x=%{x}<br>y=%{y}<br>Description=%{customdata[0]}<extra></extra>\",\"legendgroup\":\"FISH 1\",\"marker\":{\"color\":\"#FECB52\",\"symbol\":\"circle\"},\"mode\":\"markers\",\"name\":\"FISH 1\",\"orientation\":\"v\",\"showlegend\":true,\"x\":[-0.21654314241197467,-0.10692711292827692,-0.2973166512118804,-0.2514228023515314,-0.30929667333897043,-0.098398313550169,-0.6028454416133195,-0.26961572483242624],\"xaxis\":\"x\",\"y\":[0.10310092891399035,0.8850923179195794,0.292381245338939,0.17380388802057867,0.28982093793021235,0.7904979369538085,0.8404083359155659,0.04555942127819627],\"yaxis\":\"y\",\"type\":\"scatter\"},{\"customdata\":[[\"Presunto de Soja Vegway\"],[\"Bacon Vegano\"],[\"Mortadela de Soja Vegana Goshen\"],[\"Presunto de Soja Defumado\"],[\"Presunto de Soja Vegano Fatiado Goshen\"],[\"Bacon Crispy Verdali\"]],\"hovertemplate\":\"Classification=PORK 2<br>x=%{x}<br>y=%{y}<br>Description=%{customdata[0]}<extra></extra>\",\"legendgroup\":\"PORK 2\",\"marker\":{\"color\":\"#636efa\",\"symbol\":\"circle\"},\"mode\":\"markers\",\"name\":\"PORK 2\",\"orientation\":\"v\",\"showlegend\":true,\"x\":[-0.269504196092984,-0.6976308395008938,-0.3754508393887652,-0.4337612429278386,-0.39350987774318746,-0.958210106175198],\"xaxis\":\"x\",\"y\":[-0.1940755458001718,0.4870059874992237,-0.3577698365619825,-0.1368492823291889,-0.3464419123075102,0.765289295173169],\"yaxis\":\"y\",\"type\":\"scatter\"},{\"customdata\":[[\"Not Milk \"],[\"Not Milk Semidesnatado\"],[\" Vegetal de almonds\"],[\" vegetal \"],[\" Vegetal de almonds Fresco\"],[\" Vegetal  de Caj\\u00fa Fresco\"],[\" Vegetal  Fresco\"],[\" Vegetal Noats Original\"],[\" Vegetal Noats Barista\"],[\" Jasmine rice em P\\u00f3\"],[\" BIOV jasmine rice com amendoas\"],[\" BIOV jasmine rice com coco\"],[\" BioV oats Jasmine\"],[\" Jasmine rice \"],[\" Jasmine rice com oats\"],[\"Bebida de rice Nesfit\"],[\"Bebida Natural Nesfit\"],[\"Bebida de rice  e Amendoas Nesfit\"],[\"Bebida de rice e Coco Nesfit\"],[\"Bebida de oats Nesfit\"],[\"Bebida de oats e cocoa\"],[\"Molico Vegetal Nestl\\u00e9\"],[\"Ninho Vegetal Nestl\\u00e9\"],[\"Ninho Banana e apple Nestl\\u00e9\"],[\"Nude Edi\\u00e7\\u00e3o Barista\"],[\"Nude Original \"],[\"Nude Sabor Baunilha\"],[\"Nude de cocoa\"],[\"Nude + calcium\"],[\"Nude Barista\"],[\"Almond Breeze Original\"],[\"Almond Breeze Chocolate\"],[\"Almond Breeze Baunilha\"],[\"Almond Breeze Sem sugar\"],[\"Almond Breeze Amendoas com Coco\"],[\"Almond Breeze Chocolate Sem sugar\"],[\" de Amendoas Silk Sem sugar\"],[\" de Amendoas Silk \"],[\" cashews Silk\"],[\" de almonds e cocoa Silk\"],[\" de almonds Silk Coco\"],[\"Bebida de rice L\\u00edquida Sabor Original\"],[\"Bebida de rice L\\u00edquida Sabor almonds\"],[\"Bebida de rice L\\u00edquida Sabor peanuts\\n\"],[\"Bebida de rice L\\u00edquida Sabor cashews\"],[\"Bebida de rice L\\u00edquida Sabor Chocolate\"],[\"Bebida de rice L\\u00edquida Sabor Coco\"],[\"Bebida de rice L\\u00edquida Sabor Baunilha\"],[\"Bebida de rice Em P\\u00f3 Sabor Original\"],[\"Bebida de rice Em P\\u00f3 Sabor Original\"],[\"Bebida de rice Em P\\u00f3 Sabor Banana e apple\"],[\"Bebida de rice Em P\\u00f3 Sabor Chocolate\"],[\"Bebida de rice Em P\\u00f3 Sabor strawberries\"],[\" a tal da castanha barista\"],[\" a tal da castanha original\"],[\" a tal da castanha caju + Coco\"],[\" a tal da castanha almonds\"],[\" a tal da castanha castanha + cocoa\"],[\" a tal da castanha oats\"],[\" a tal da castanha mixed nuts\"],[\" a tal da castanha caju + Par\\u00e1\"],[\" a tal da castanha caju + peanuts\"],[\" Natuterra oats + Coco\"],[\" de almonds Natuterra\"],[\" Natuterra oats \"],[\" Vegetal 3 Nuts \\u2013 macadamianuts, almonds e cashews\"],[\" Vegetal de macadamianuts e Coco\"],[\" Vegetal de macadamianuts e cashews\"],[\" Vegetal Possible Foods\"],[\" Vegetal Possible Foods Chocolate\"],[\"Bebida de castanh de caj\\u00fa sem adi\\u00e7\\u00e3o de sugar nature's heart\"],[\"Bebida de almonds s/ adi\\u00e7\\u00e3o de sugares 1L \\u2013 Nature\\u2019s Heart\"],[\"Bebida de rice s/ adi\\u00e7\\u00e3o de sugares 1L \\u2013 Nature\\u2019s Heart\"],[\"Bebida de oats s/ adi\\u00e7\\u00e3o de sugares 1L \\u2013 Nature\\u2019s Heart\"],[\"Bebida de cocoa & rice 1L \\u2013 Nature\\u2019s Heart\"],[\"Bebida  & rice s/ adi\\u00e7\\u00e3o de sugares 1L \\u2013 Nature\\u2019s Heart\"],[\" Vegetal de soy Naturis Batavo\"],[\" DUOLAT peanuts E CASTANHA 1L - CAJUEIRO\"],[\" 85 CASTANHAS 1L - CAJUEIRO\"],[\" TOASTED 1L - CAJUEIRO\"]],\"hovertemplate\":\"Classification=DAIRY 1<br>x=%{x}<br>y=%{y}<br>Description=%{customdata[0]}<extra></extra>\",\"legendgroup\":\"DAIRY 1\",\"marker\":{\"color\":\"#EF553B\",\"symbol\":\"circle\"},\"mode\":\"markers\",\"name\":\"DAIRY 1\",\"orientation\":\"v\",\"showlegend\":true,\"x\":[0.5948725449468418,0.6529398991743635,0.6636339147946345,0.6595342368690084,0.6297802078056416,0.6231604359315603,0.6215847933012432,0.30656283602504264,0.27305968906793776,0.7823663679613585,0.5525310854937765,0.7751647582795259,0.27305968906793776,0.7823663679613585,0.7492702130757424,0.8826964599309974,0.6259863604487426,0.900161718946294,0.88824375416644,0.8806156604804976,1.0753155432128692,0.3013019406661084,0.328515559299831,0.7042979837065553,0.7006439997104351,0.5072980875529636,0.5635611251059329,0.5861776391974979,0.6617146639890318,0.7006439997104351,0.9030597845924322,1.097838299937721,0.9920072048539996,0.8003769089129487,0.754102746276264,0.9390574114128812,0.3693853432034833,0.3809914025405473,0.32910215726301356,0.2958759453379736,0.3232637016179462,0.3703442475849516,0.3703442475849516,0.3703442475849516,0.3703442475849516,0.3703442475849516,0.3703442475849516,0.3703442475849516,-0.25272287986853825,-0.25272287986853825,-0.25272287986853825,-0.25272287986853825,-0.25272287986853825,0.3931592639994462,0.3798039083320328,0.3898904237025838,0.5803917406251082,0.30203078938776023,0.8585453492723485,0.6312358685391105,0.38684521131128413,0.3434617928611709,0.7018384157706808,0.694792242001364,0.7104368388219693,0.37040845956625384,0.32408149467092856,0.3647013425809609,0.8280966112303583,0.902423037526413,0.6729484771159798,0.6710865858483175,0.8324389833861866,0.8152074858073266,0.9637798484487182,0.8117769159340656,0.5109057856941268,0.30731885020072297,0.326608486987857,0.3585406116078692],\"xaxis\":\"x\",\"y\":[0.08398250428440149,0.04899191844430777,-0.07969004496077073,-0.09207891707872842,-0.04617370499392932,-0.0019044003571210273,-0.045860805329616526,0.019425182454224726,0.12152641807446697,0.3882260437882245,0.18704073749275682,0.3953775485992227,0.12152641807446697,0.3882260437882245,0.40501013155113647,0.1744014976395115,0.19720684364524171,0.21026303882299552,0.2589881736872255,0.2533604063134037,0.45657648162140363,0.21774225660679267,0.2875804094310024,0.3528680760592616,0.08008668134248716,0.028755717742465665,0.2023636327045433,0.24487814318118495,0.1715087416986818,0.08008668134248716,0.06686349683036918,0.399223000045392,0.20943962396481933,-0.09638576936973985,0.009781291820831513,0.026526868968111187,-0.1702174748333795,-0.008219773430334337,-0.09370030938915473,0.03069477090205066,-0.12533033880606306,-0.041717058038670034,-0.041717058038670034,-0.041717058038670034,-0.041717058038670034,-0.041717058038670034,-0.041717058038670034,-0.041717058038670034,0.09411417272068062,0.09411417272068062,0.09411417272068062,0.09411417272068062,0.09411417272068062,-0.03885986646516581,-0.13646648562890676,-0.1510692711365422,-0.09534637912106587,0.0952551176906527,0.22698927966092963,0.049259856315369305,-0.14544526985860884,-0.09162450302998186,-0.16392439248853796,-0.14596169063368805,-0.13254026882239403,-0.17565593226834214,-0.11571451652378174,-0.15734162142961056,0.04506774062266877,0.2468075945918194,-0.12215249937968972,-0.12318498552321315,0.16124838619259468,0.2433514659973276,0.4279254918022566,0.24366887607414695,0.08865710669934193,-0.09093721881854848,-0.10615207582612562,-0.15867613640017478],\"yaxis\":\"y\",\"type\":\"scatter\"},{\"customdata\":[[\"Iogurte \"],[\"Iogurte  com strawberries\"],[\"Iogurte  com banana, apple e papaya\"],[\"Iogurte  Zero sugar\"],[\"Iogurte  com strawberries Zero sugar\"],[\"Iogurte GregoVeg \"],[\"Iogurte GregoVeg  com strawberries\"],[\"Iogurte Proteico 14g sabor strawberries\"],[\"Shake \"],[\"Iogurte Proteico 14g sabor  peanuts\"],[\"Creme de almonds\"]],\"hovertemplate\":\"Classification=DAIRY 2<br>x=%{x}<br>y=%{y}<br>Description=%{customdata[0]}<extra></extra>\",\"legendgroup\":\"DAIRY 2\",\"marker\":{\"color\":\"#00cc96\",\"symbol\":\"circle\"},\"mode\":\"markers\",\"name\":\"DAIRY 2\",\"orientation\":\"v\",\"showlegend\":true,\"x\":[0.57176796112149,0.5645725340902965,0.5645725340902965,0.6078584347374003,0.6000855032672846,0.19606580570866075,0.19231248617550953,0.5090220931385329,0.27901173108343813,0.5150338606614058,0.03775008824552303],\"xaxis\":\"x\",\"y\":[0.23396701429758274,0.26566564570701245,0.26566564570701245,0.0037507708551328743,0.03373643700769091,0.062950089547928,0.0786869721543634,0.3049059068919782,0.12586293549220787,0.28994510266445583,-0.5056824757867725],\"yaxis\":\"y\",\"type\":\"scatter\"},{\"customdata\":[[\"MAIONESE VEGETAL SUPERBOM\"],[\"MAIONESE FUGINI\"],[\"NOT MAYO\"],[\"NOT MAYO garlic\"],[\"NOT MAYO AZEITONA\"],[\"NOT MAYO PICANTE\"],[\"MAIONESE V-MAYO\"],[\"MAIONESE V-MAYO ApepperDA\"],[\"MAIONESE V-MAYO TRUFADA\"],[\"MAIONESE V-MAYO DE ABACATE\"],[\"MAIONESE V-MAYO DE garlic\"],[\"MAIONESE HELLMANS\"],[\"MAIONESE VEGANA FUGINI\"],[\"MAIONESE DEL\\u00cdCIAS DE GOI\\u00c1S\"]],\"hovertemplate\":\"Classification=EGG 1<br>x=%{x}<br>y=%{y}<br>Description=%{customdata[0]}<extra></extra>\",\"legendgroup\":\"EGG 1\",\"marker\":{\"color\":\"#ab63fa\",\"symbol\":\"circle\"},\"mode\":\"markers\",\"name\":\"EGG 1\",\"orientation\":\"v\",\"showlegend\":true,\"x\":[-0.38752953357376324,-0.13465211067414048,-0.3791490163165259,-0.3958020343808026,-0.33473219964933365,-0.32064085958287086,-0.1869393475441136,-0.1869393475441136,-0.18693934754411362,-0.1869393475441136,-0.1869393475441136,-0.16747622203183268,0.10117256813267679,-0.13170822399853124],\"xaxis\":\"x\",\"y\":[-0.38141088058418277,-0.4857575556339356,-0.4911939320337323,-0.4725261885286396,-0.4697094850048379,-0.47084699050816864,-0.45834744622497964,-0.45834744622497964,-0.45834744622497964,-0.45834744622497964,-0.45834744622497964,-0.48812169820812074,-0.4843847102600072,-0.24824317056538853],\"yaxis\":\"y\",\"type\":\"scatter\"},{\"customdata\":[[\"Ovos Novos\"],[\"Ovos Novos\"]],\"hovertemplate\":\"Classification=EGG 2<br>x=%{x}<br>y=%{y}<br>Description=%{customdata[0]}<extra></extra>\",\"legendgroup\":\"EGG 2\",\"marker\":{\"color\":\"#FFA15A\",\"symbol\":\"circle\"},\"mode\":\"markers\",\"name\":\"EGG 2\",\"orientation\":\"v\",\"showlegend\":true,\"x\":[-0.36541399713927714,-0.30071414275054287],\"xaxis\":\"x\",\"y\":[-0.2939940859322517,-0.37378472278377234],\"yaxis\":\"y\",\"type\":\"scatter\"}],                        {\"template\":{\"data\":{\"bar\":[{\"error_x\":{\"color\":\"#2a3f5f\"},\"error_y\":{\"color\":\"#2a3f5f\"},\"marker\":{\"line\":{\"color\":\"#E5ECF6\",\"width\":0.5},\"pattern\":{\"fillmode\":\"overlay\",\"size\":10,\"solidity\":0.2}},\"type\":\"bar\"}],\"barpolar\":[{\"marker\":{\"line\":{\"color\":\"#E5ECF6\",\"width\":0.5},\"pattern\":{\"fillmode\":\"overlay\",\"size\":10,\"solidity\":0.2}},\"type\":\"barpolar\"}],\"carpet\":[{\"aaxis\":{\"endlinecolor\":\"#2a3f5f\",\"gridcolor\":\"white\",\"linecolor\":\"white\",\"minorgridcolor\":\"white\",\"startlinecolor\":\"#2a3f5f\"},\"baxis\":{\"endlinecolor\":\"#2a3f5f\",\"gridcolor\":\"white\",\"linecolor\":\"white\",\"minorgridcolor\":\"white\",\"startlinecolor\":\"#2a3f5f\"},\"type\":\"carpet\"}],\"choropleth\":[{\"colorbar\":{\"outlinewidth\":0,\"ticks\":\"\"},\"type\":\"choropleth\"}],\"contour\":[{\"colorbar\":{\"outlinewidth\":0,\"ticks\":\"\"},\"colorscale\":[[0.0,\"#0d0887\"],[0.1111111111111111,\"#46039f\"],[0.2222222222222222,\"#7201a8\"],[0.3333333333333333,\"#9c179e\"],[0.4444444444444444,\"#bd3786\"],[0.5555555555555556,\"#d8576b\"],[0.6666666666666666,\"#ed7953\"],[0.7777777777777778,\"#fb9f3a\"],[0.8888888888888888,\"#fdca26\"],[1.0,\"#f0f921\"]],\"type\":\"contour\"}],\"contourcarpet\":[{\"colorbar\":{\"outlinewidth\":0,\"ticks\":\"\"},\"type\":\"contourcarpet\"}],\"heatmap\":[{\"colorbar\":{\"outlinewidth\":0,\"ticks\":\"\"},\"colorscale\":[[0.0,\"#0d0887\"],[0.1111111111111111,\"#46039f\"],[0.2222222222222222,\"#7201a8\"],[0.3333333333333333,\"#9c179e\"],[0.4444444444444444,\"#bd3786\"],[0.5555555555555556,\"#d8576b\"],[0.6666666666666666,\"#ed7953\"],[0.7777777777777778,\"#fb9f3a\"],[0.8888888888888888,\"#fdca26\"],[1.0,\"#f0f921\"]],\"type\":\"heatmap\"}],\"heatmapgl\":[{\"colorbar\":{\"outlinewidth\":0,\"ticks\":\"\"},\"colorscale\":[[0.0,\"#0d0887\"],[0.1111111111111111,\"#46039f\"],[0.2222222222222222,\"#7201a8\"],[0.3333333333333333,\"#9c179e\"],[0.4444444444444444,\"#bd3786\"],[0.5555555555555556,\"#d8576b\"],[0.6666666666666666,\"#ed7953\"],[0.7777777777777778,\"#fb9f3a\"],[0.8888888888888888,\"#fdca26\"],[1.0,\"#f0f921\"]],\"type\":\"heatmapgl\"}],\"histogram\":[{\"marker\":{\"pattern\":{\"fillmode\":\"overlay\",\"size\":10,\"solidity\":0.2}},\"type\":\"histogram\"}],\"histogram2d\":[{\"colorbar\":{\"outlinewidth\":0,\"ticks\":\"\"},\"colorscale\":[[0.0,\"#0d0887\"],[0.1111111111111111,\"#46039f\"],[0.2222222222222222,\"#7201a8\"],[0.3333333333333333,\"#9c179e\"],[0.4444444444444444,\"#bd3786\"],[0.5555555555555556,\"#d8576b\"],[0.6666666666666666,\"#ed7953\"],[0.7777777777777778,\"#fb9f3a\"],[0.8888888888888888,\"#fdca26\"],[1.0,\"#f0f921\"]],\"type\":\"histogram2d\"}],\"histogram2dcontour\":[{\"colorbar\":{\"outlinewidth\":0,\"ticks\":\"\"},\"colorscale\":[[0.0,\"#0d0887\"],[0.1111111111111111,\"#46039f\"],[0.2222222222222222,\"#7201a8\"],[0.3333333333333333,\"#9c179e\"],[0.4444444444444444,\"#bd3786\"],[0.5555555555555556,\"#d8576b\"],[0.6666666666666666,\"#ed7953\"],[0.7777777777777778,\"#fb9f3a\"],[0.8888888888888888,\"#fdca26\"],[1.0,\"#f0f921\"]],\"type\":\"histogram2dcontour\"}],\"mesh3d\":[{\"colorbar\":{\"outlinewidth\":0,\"ticks\":\"\"},\"type\":\"mesh3d\"}],\"parcoords\":[{\"line\":{\"colorbar\":{\"outlinewidth\":0,\"ticks\":\"\"}},\"type\":\"parcoords\"}],\"pie\":[{\"automargin\":true,\"type\":\"pie\"}],\"scatter\":[{\"marker\":{\"colorbar\":{\"outlinewidth\":0,\"ticks\":\"\"}},\"type\":\"scatter\"}],\"scatter3d\":[{\"line\":{\"colorbar\":{\"outlinewidth\":0,\"ticks\":\"\"}},\"marker\":{\"colorbar\":{\"outlinewidth\":0,\"ticks\":\"\"}},\"type\":\"scatter3d\"}],\"scattercarpet\":[{\"marker\":{\"colorbar\":{\"outlinewidth\":0,\"ticks\":\"\"}},\"type\":\"scattercarpet\"}],\"scattergeo\":[{\"marker\":{\"colorbar\":{\"outlinewidth\":0,\"ticks\":\"\"}},\"type\":\"scattergeo\"}],\"scattergl\":[{\"marker\":{\"colorbar\":{\"outlinewidth\":0,\"ticks\":\"\"}},\"type\":\"scattergl\"}],\"scattermapbox\":[{\"marker\":{\"colorbar\":{\"outlinewidth\":0,\"ticks\":\"\"}},\"type\":\"scattermapbox\"}],\"scatterpolar\":[{\"marker\":{\"colorbar\":{\"outlinewidth\":0,\"ticks\":\"\"}},\"type\":\"scatterpolar\"}],\"scatterpolargl\":[{\"marker\":{\"colorbar\":{\"outlinewidth\":0,\"ticks\":\"\"}},\"type\":\"scatterpolargl\"}],\"scatterternary\":[{\"marker\":{\"colorbar\":{\"outlinewidth\":0,\"ticks\":\"\"}},\"type\":\"scatterternary\"}],\"surface\":[{\"colorbar\":{\"outlinewidth\":0,\"ticks\":\"\"},\"colorscale\":[[0.0,\"#0d0887\"],[0.1111111111111111,\"#46039f\"],[0.2222222222222222,\"#7201a8\"],[0.3333333333333333,\"#9c179e\"],[0.4444444444444444,\"#bd3786\"],[0.5555555555555556,\"#d8576b\"],[0.6666666666666666,\"#ed7953\"],[0.7777777777777778,\"#fb9f3a\"],[0.8888888888888888,\"#fdca26\"],[1.0,\"#f0f921\"]],\"type\":\"surface\"}],\"table\":[{\"cells\":{\"fill\":{\"color\":\"#EBF0F8\"},\"line\":{\"color\":\"white\"}},\"header\":{\"fill\":{\"color\":\"#C8D4E3\"},\"line\":{\"color\":\"white\"}},\"type\":\"table\"}]},\"layout\":{\"annotationdefaults\":{\"arrowcolor\":\"#2a3f5f\",\"arrowhead\":0,\"arrowwidth\":1},\"autotypenumbers\":\"strict\",\"coloraxis\":{\"colorbar\":{\"outlinewidth\":0,\"ticks\":\"\"}},\"colorscale\":{\"diverging\":[[0,\"#8e0152\"],[0.1,\"#c51b7d\"],[0.2,\"#de77ae\"],[0.3,\"#f1b6da\"],[0.4,\"#fde0ef\"],[0.5,\"#f7f7f7\"],[0.6,\"#e6f5d0\"],[0.7,\"#b8e186\"],[0.8,\"#7fbc41\"],[0.9,\"#4d9221\"],[1,\"#276419\"]],\"sequential\":[[0.0,\"#0d0887\"],[0.1111111111111111,\"#46039f\"],[0.2222222222222222,\"#7201a8\"],[0.3333333333333333,\"#9c179e\"],[0.4444444444444444,\"#bd3786\"],[0.5555555555555556,\"#d8576b\"],[0.6666666666666666,\"#ed7953\"],[0.7777777777777778,\"#fb9f3a\"],[0.8888888888888888,\"#fdca26\"],[1.0,\"#f0f921\"]],\"sequentialminus\":[[0.0,\"#0d0887\"],[0.1111111111111111,\"#46039f\"],[0.2222222222222222,\"#7201a8\"],[0.3333333333333333,\"#9c179e\"],[0.4444444444444444,\"#bd3786\"],[0.5555555555555556,\"#d8576b\"],[0.6666666666666666,\"#ed7953\"],[0.7777777777777778,\"#fb9f3a\"],[0.8888888888888888,\"#fdca26\"],[1.0,\"#f0f921\"]]},\"colorway\":[\"#636efa\",\"#EF553B\",\"#00cc96\",\"#ab63fa\",\"#FFA15A\",\"#19d3f3\",\"#FF6692\",\"#B6E880\",\"#FF97FF\",\"#FECB52\"],\"font\":{\"color\":\"#2a3f5f\"},\"geo\":{\"bgcolor\":\"white\",\"lakecolor\":\"white\",\"landcolor\":\"#E5ECF6\",\"showlakes\":true,\"showland\":true,\"subunitcolor\":\"white\"},\"hoverlabel\":{\"align\":\"left\"},\"hovermode\":\"closest\",\"mapbox\":{\"style\":\"light\"},\"paper_bgcolor\":\"white\",\"plot_bgcolor\":\"#E5ECF6\",\"polar\":{\"angularaxis\":{\"gridcolor\":\"white\",\"linecolor\":\"white\",\"ticks\":\"\"},\"bgcolor\":\"#E5ECF6\",\"radialaxis\":{\"gridcolor\":\"white\",\"linecolor\":\"white\",\"ticks\":\"\"}},\"scene\":{\"xaxis\":{\"backgroundcolor\":\"#E5ECF6\",\"gridcolor\":\"white\",\"gridwidth\":2,\"linecolor\":\"white\",\"showbackground\":true,\"ticks\":\"\",\"zerolinecolor\":\"white\"},\"yaxis\":{\"backgroundcolor\":\"#E5ECF6\",\"gridcolor\":\"white\",\"gridwidth\":2,\"linecolor\":\"white\",\"showbackground\":true,\"ticks\":\"\",\"zerolinecolor\":\"white\"},\"zaxis\":{\"backgroundcolor\":\"#E5ECF6\",\"gridcolor\":\"white\",\"gridwidth\":2,\"linecolor\":\"white\",\"showbackground\":true,\"ticks\":\"\",\"zerolinecolor\":\"white\"}},\"shapedefaults\":{\"line\":{\"color\":\"#2a3f5f\"}},\"ternary\":{\"aaxis\":{\"gridcolor\":\"white\",\"linecolor\":\"white\",\"ticks\":\"\"},\"baxis\":{\"gridcolor\":\"white\",\"linecolor\":\"white\",\"ticks\":\"\"},\"bgcolor\":\"#E5ECF6\",\"caxis\":{\"gridcolor\":\"white\",\"linecolor\":\"white\",\"ticks\":\"\"}},\"title\":{\"x\":0.05},\"xaxis\":{\"automargin\":true,\"gridcolor\":\"white\",\"linecolor\":\"white\",\"ticks\":\"\",\"title\":{\"standoff\":15},\"zerolinecolor\":\"white\",\"zerolinewidth\":2},\"yaxis\":{\"automargin\":true,\"gridcolor\":\"white\",\"linecolor\":\"white\",\"ticks\":\"\",\"title\":{\"standoff\":15},\"zerolinecolor\":\"white\",\"zerolinewidth\":2}}},\"xaxis\":{\"anchor\":\"y\",\"domain\":[0.0,1.0],\"title\":{\"text\":\"x\"}},\"yaxis\":{\"anchor\":\"x\",\"domain\":[0.0,1.0],\"title\":{\"text\":\"y\"}},\"legend\":{\"title\":{\"text\":\"Classification\"},\"tracegroupgap\":0},\"margin\":{\"t\":60},\"width\":800},                        {\"responsive\": true}                    ).then(function(){\n",
              "                            \n",
              "var gd = document.getElementById('1f5e87e7-36e0-40a4-8aeb-df4fb1e6271b');\n",
              "var x = new MutationObserver(function (mutations, observer) {{\n",
              "        var display = window.getComputedStyle(gd).display;\n",
              "        if (!display || display === 'none') {{\n",
              "            console.log([gd, 'removed!']);\n",
              "            Plotly.purge(gd);\n",
              "            observer.disconnect();\n",
              "        }}\n",
              "}});\n",
              "\n",
              "// Listen for the removal of the full notebook cells\n",
              "var notebookContainer = gd.closest('#notebook-container');\n",
              "if (notebookContainer) {{\n",
              "    x.observe(notebookContainer, {childList: true});\n",
              "}}\n",
              "\n",
              "// Listen for the clearing of the current output cell\n",
              "var outputEl = gd.closest('.output');\n",
              "if (outputEl) {{\n",
              "    x.observe(outputEl, {childList: true});\n",
              "}}\n",
              "\n",
              "                        })                };                            </script>        </div>\n",
              "</body>\n",
              "</html>"
            ]
          },
          "metadata": {}
        }
      ]
    },
    {
      "cell_type": "code",
      "source": [
        "data_ingredients = label_data.join(ingredients_normalized)\n",
        "isomap = Isomap(n_components=2,n_neighbors=90)\n",
        "X_isomapI = isomap.fit_transform(X_ingredients)\n",
        "\n",
        "X_isomapI[1:4, :]\n",
        "data_ingredients['x'] = X_isomapI[:,0]\n",
        "data_ingredients['y'] = X_isomapI[:,1]\n",
        "\n",
        "fig = px.scatter(data_ingredients, x='x', y='y', color='Classification', hover_data=[\"Description\"], width=800)\n",
        "fig.show()"
      ],
      "metadata": {
        "id": "0-tCZXS6cJjk",
        "colab": {
          "base_uri": "https://localhost:8080/",
          "height": 542
        },
        "outputId": "78f9527d-638d-498d-89b1-1905d2dfcf8a"
      },
      "execution_count": 24,
      "outputs": [
        {
          "output_type": "display_data",
          "data": {
            "text/html": [
              "<html>\n",
              "<head><meta charset=\"utf-8\" /></head>\n",
              "<body>\n",
              "    <div>            <script src=\"https://cdnjs.cloudflare.com/ajax/libs/mathjax/2.7.5/MathJax.js?config=TeX-AMS-MML_SVG\"></script><script type=\"text/javascript\">if (window.MathJax) {MathJax.Hub.Config({SVG: {font: \"STIX-Web\"}});}</script>                <script type=\"text/javascript\">window.PlotlyConfig = {MathJaxConfig: 'local'};</script>\n",
              "        <script src=\"https://cdn.plot.ly/plotly-2.8.3.min.js\"></script>                <div id=\"f68910cc-f8a1-44da-922b-73c2c0c95d37\" class=\"plotly-graph-div\" style=\"height:525px; width:800px;\"></div>            <script type=\"text/javascript\">                                    window.PLOTLYENV=window.PLOTLYENV || {};                                    if (document.getElementById(\"f68910cc-f8a1-44da-922b-73c2c0c95d37\")) {                    Plotly.newPlot(                        \"f68910cc-f8a1-44da-922b-73c2c0c95d37\",                        [{\"customdata\":[[\"Carne Mo\\u00edda do Futuro\"],[\"Almondegas de Soja Vegway\"],[\"Almondegas Amazonika Mundi\"],[\"Kibe Incr\\u00edvel Seara\"],[\"Almondegas Incr\\u00edveis Seara\"],[\"Almondegas Mr Veggy\"],[\"Carne Mo\\u00edda Superbom\"],[\"Carne Vegetal Mo\\u00edda Superbom\"],[\"Carne Mo\\u00edda Vegetal Verdali\"]],\"hovertemplate\":\"Classification=MEAT 2<br>x=%{x}<br>y=%{y}<br>Description=%{customdata[0]}<extra></extra>\",\"legendgroup\":\"MEAT 2\",\"marker\":{\"color\":\"#636efa\",\"symbol\":\"circle\"},\"mode\":\"markers\",\"name\":\"MEAT 2\",\"orientation\":\"v\",\"showlegend\":true,\"x\":[2.1796367383764026,2.620579726380205,1.2090248308863962,1.7148286318597945,2.360272144383322,2.334559020542697,-1.2522765589560478,1.3964087610947813,0.6843771771345731],\"xaxis\":\"x\",\"y\":[0.8196989570610477,-1.2340365242620037,3.3869826646542682,3.0653286156717474,3.8856644237115527,0.6205190447812471,-0.26718688253558953,-2.2744265040929945,-0.3251654049491582],\"yaxis\":\"y\",\"type\":\"scatter\"},{\"customdata\":[[\"Carne Mo\\u00edda do Futuro\"],[\"Fil\\u00e9s Sora Carne Vermelha\"],[\"Fatias Sora Carne Vermelha\"],[\"Fil\\u00e9 Pronto Saud\\u00e1vel Sora\"],[\"Carne Mo\\u00edda Pronto Saud\\u00e1vel Sora\"],[\"Churrasco Vegabom\"],[\"Churrasco Aoniondo Vegabom\"],[\"Carne de Pernil Seara\"],[\"Alm\\u00f4ndega de Soja Vegana Goshen\"],[\"Bife de Soja Vegano Goshen\"],[\"Alm\\u00f4ndega Vegana Superbom\"],[\"Bife Vegetal Superbom\"],[\"Escalope ao Molho Caseiro Superbom\"],[\"Cubinhos ao Molho Mexicano Superbom\"],[\"Alm\\u00f4ndegas ao Molho Sugo Superbom\"],[\"Medalh\\u00e3o ao Molho Madeira Superbom\"],[\"Mignon Verdali\"],[\"Steak Verdali\"]],\"hovertemplate\":\"Classification=MEAT 3<br>x=%{x}<br>y=%{y}<br>Description=%{customdata[0]}<extra></extra>\",\"legendgroup\":\"MEAT 3\",\"marker\":{\"color\":\"#EF553B\",\"symbol\":\"circle\"},\"mode\":\"markers\",\"name\":\"MEAT 3\",\"orientation\":\"v\",\"showlegend\":true,\"x\":[1.9091627875519368,-0.12282101795982052,-0.012703074135827561,0.006942894973075281,0.006942894973075762,2.883552587679146,2.8835525876791466,2.3602721443833223,1.8914237948916333,2.4835559425034903,-1.2930031613873765,2.2138771271708944,0.992084055528591,0.5729746897276666,2.2938298036577978,2.891413648141173,1.572337101357355,0.6729489074897951],\"xaxis\":\"x\",\"y\":[0.192031796786655,0.3138763470934833,-0.0752543536612334,1.1551307719918118,1.1551307719918116,0.8454302569398149,0.8454302569398153,3.8856644237115527,-2.623910899133895,-2.94413293878569,-0.2828504375464074,-0.7950698881184868,-0.3311238046073693,-0.7538814869298044,-2.259115995564236,-2.671593137674464,0.7770529835300097,-0.37178345884815905],\"yaxis\":\"y\",\"type\":\"scatter\"},{\"customdata\":[[\"Frango do Futuro\"],[\"Fatias Sora Carne Branca\"],[\"Fil\\u00e9s Sora Carne Branca\"],[\"Strogonoff de Frango Vegabom\"],[\"Tiras de Frango New Butchers\"],[\"Fil\\u00e9 de Frango Desfiado Vegway\"],[\"Frango Veg e Tal Sadia\"],[\"Frango Veg e Tal Sadia Desfiado\"],[\"Peito de Peru de Soja\"],[\"Peito de Peru de Soja Vegano\"],[\"Tiras de Ave Verdali\"],[\"Fil\\u00e9 sem Frango Verdali\"],[\"Mini Fil\\u00e9 de Frango Verdali\"]],\"hovertemplate\":\"Classification=POULTRY 3<br>x=%{x}<br>y=%{y}<br>Description=%{customdata[0]}<extra></extra>\",\"legendgroup\":\"POULTRY 3\",\"marker\":{\"color\":\"#00cc96\",\"symbol\":\"circle\"},\"mode\":\"markers\",\"name\":\"POULTRY 3\",\"orientation\":\"v\",\"showlegend\":true,\"x\":[1.9091627875519368,-0.012932055708337145,-0.012932055708337888,1.4351805467299763,-1.0617295228870414,2.769302481868087,0.6711425240538983,0.6711425240538987,1.3112430505531765,1.5917613422695238,1.0067521643555908,0.7081075007267746,0.4191643564599789],\"xaxis\":\"x\",\"y\":[0.1920317967866546,-0.0747746748309924,-0.0747746748309925,0.4995592732347546,-0.021831304031946695,-1.030676246945969,1.6743295557681002,1.6743295557681004,-2.2920571913292016,-2.7446622021276963,3.1103285968303873,0.5059837004741897,1.0485991683426286],\"yaxis\":\"y\",\"type\":\"scatter\"},{\"customdata\":[[\"Lingui\\u00e7a do Futuro\"],[\"Lingui\\u00e7a calabresa vegabom\"],[\"saltsicha de chickpea Vegabom\"],[\"Vegway Soy Sausage\"],[\"saltsichas Incriveis Seara\"],[\"Lingui\\u00e7a Apimentada de Soja Goshen\"],[\"Lingui\\u00e7a Calabresa de Soja Goshen\"],[\"Lingui\\u00e7a de Soja Vegana Goshen\"],[\"Lingui\\u00e7a Toscana de Soja Goshen\"],[\"saltsicha de Soja Vegana Goshen\"],[\"saltsicha Vegetal Superbom\"],[\"saltsicha Vegetal Defumada Superbom\"]],\"hovertemplate\":\"Classification=PORK 1<br>x=%{x}<br>y=%{y}<br>Description=%{customdata[0]}<extra></extra>\",\"legendgroup\":\"PORK 1\",\"marker\":{\"color\":\"#ab63fa\",\"symbol\":\"circle\"},\"mode\":\"markers\",\"name\":\"PORK 1\",\"orientation\":\"v\",\"showlegend\":true,\"x\":[2.461438550532245,1.1470157624572184,0.8113528059156729,2.5264720647359615,2.3602721443833192,1.3989892690935777,2.0443420218343844,2.4426078376720595,1.3112430505531771,2.0978253302926455,1.5009961911384244,1.1224663303634244],\"xaxis\":\"x\",\"y\":[-0.010953515202979101,-1.5958805244814658,-1.4315245111196278,-0.8540202425570853,3.885664423711551,-2.2365509933458845,-2.885239941067091,-2.9805367351052237,-2.292057191329202,-2.671723416526721,-2.6581670577828103,-2.5618959296553685],\"yaxis\":\"y\",\"type\":\"scatter\"},{\"customdata\":[[\"Hamburguer de Soja Goshen\"],[\"Hamburguer de Soja Vegano Goshen\"],[\"Hamburguer de Quinoa Mr Veggy\"],[\"Hamburguer de lentil Mr Veggy\"],[\"Hamburguer vegano falafel amazonika mundi\"],[\"Hamburguer Vegetal Verdali\"],[\"VegBurger Sabor Carne\"],[\"Burger Gourmet Superbom\"],[\"Hamburguer Incr\\u00edvel Seara\"],[\"Not Burguer Notco\"],[\"Hamburguer de Fibra de Caju Amazonika Mundi\"],[\"Hamburguer Vegabom\"],[\"Hamburguer de Carne Veg  e Tal Sadia\"],[\"Hamburger New Butchers\"],[\"Hamburguer de Legumes Mr Veggy\"],[\"Hamburguer Vegetariano Mr Veggy\"],[\"Hambuguer Mr Veggy Mari Mari\"],[\"Hambuguer Mr Veggy Mari Mari Churrrasco\"],[\"Hamb\\u00farguer Fazenda Futuro 2.0\"],[\"Hamb\\u00farguer Vegano de Quinoa Amazonika Mundi\"],[\"Hamburguer Veggie Roots Tempero Indiano\"],[\"Hamb\\u00farguer Sora Carne Vermelha \"],[\"Hamburguer Veggie Roots brazilianspices\"],[\"Hamburguer veggie roots tempero mexicano\"],[\"Hamburguer de Soja Sabor Carne Vegway\"],[\"Hamb\\u00farguer de Soja Empanado Vegway\"],[\"Hamburguer Vegetal Superbom\"],[\"Hamburguer de chickpea Mr Veggy\"],[\"Hamburguer Veggie Roots Tempero \\u00c1rabe\"],[\"Hamburguer Veggie Roots Tempero Tailand\\u00eas\"],[\"Hamburguer Vegabom\"],[\"Hamb\\u00farguer Pronto Saud\\u00e1vel Sora\"],[\"hamburguer vegetal com herbs jasmine\"],[\"Hamburguer Vegetal Tradicional Jasmine\"]],\"hovertemplate\":\"Classification=MEAT 1<br>x=%{x}<br>y=%{y}<br>Description=%{customdata[0]}<extra></extra>\",\"legendgroup\":\"MEAT 1\",\"marker\":{\"color\":\"#FFA15A\",\"symbol\":\"circle\"},\"mode\":\"markers\",\"name\":\"MEAT 1\",\"orientation\":\"v\",\"showlegend\":true,\"x\":[2.457420590289691,1.7932573075524116,-0.4219782272679299,0.029119365279697478,-0.7728714628793799,1.3876914321957572,-0.6169275382294133,-0.4644392486449404,2.360272144383321,-1.2926455122560347,1.2323791824240093,1.7075250981193555,-0.4748304169212508,-0.14107298356326706,0.6701925382639694,0.4306115221419037,0.862288579653657,0.8622885796536571,2.1796367383764017,-0.5634141916850334,-0.7069933683582575,-0.012703074135827086,-0.5979436653946434,-0.6598266692758272,3.097710288235571,2.2198495053516205,2.339654101763644,-0.5698580203079401,-0.45795849785328013,-0.6170174919185412,1.1706860046271952,0.006942894973075021,-0.9447516015883182,-1.005328394028903],\"xaxis\":\"x\",\"y\":[-2.9816941838076705,-2.462291383252661,0.12055849280200687,0.9881550630008589,-0.0065404618617885,2.249194926986545,0.8358321956202227,-0.8134213102956022,3.885664423711552,-0.14738862625377855,3.4220083481049457,-1.5767168054916065,1.3192877552083304,1.046381111590139,-0.6600990318487014,-0.39569271046297605,-1.4922108147364064,-1.4922108147364064,0.8196989570610471,0.31815910014368,0.8431038468653214,-0.07525435366123333,0.7574006354555016,0.7590915681067408,-0.8621070302655301,-1.2496896879354336,-1.5980164703027882,-0.062288319754785035,1.461686673936128,0.5827190339444098,-0.6693459508137669,1.1551307719918116,-0.3700990278415453,-0.4100113491310119],\"yaxis\":\"y\",\"type\":\"scatter\"},{\"customdata\":[[\"Hamb\\u00farguer Sora Carne Branca\"],[\"VegBurger Sabor Frango\"],[\"Hambuguer Incr\\u00edvel Seara Frango\"],[\"Frango Vegano em Peda\\u00e7os \\u00e0 Base de pea\"],[\"Hamb\\u00farguer de Frango Verdali\"]],\"hovertemplate\":\"Classification=POULTRY 2<br>x=%{x}<br>y=%{y}<br>Description=%{customdata[0]}<extra></extra>\",\"legendgroup\":\"POULTRY 2\",\"marker\":{\"color\":\"#19d3f3\",\"symbol\":\"circle\"},\"mode\":\"markers\",\"name\":\"POULTRY 2\",\"orientation\":\"v\",\"showlegend\":true,\"x\":[-0.012932055708337793,-0.6582915999180541,2.3602721443833237,-0.25540431101092825,1.253180599827728],\"xaxis\":\"x\",\"y\":[-0.0747746748309925,0.642781408342099,3.8856644237115536,-0.547801405701775,2.398173035543338],\"yaxis\":\"y\",\"type\":\"scatter\"},{\"customdata\":[[\"Empanado de Frango Vegabom\"],[\"Fil\\u00e9 de Frango Empanado Vegabom\"],[\"Empanados de Frango Vegway\"],[\"Empanados Incr\\u00edveis Seara\"],[\"Empanados Sadia Veg e Tal\"],[\"Empanadinho de Soja  Goshen\"],[\"Empanadinho de Soja Vegano  Goshen\"],[\"Steak de Soja Vegano Goshen\"],[\"Empanado Vegano (Mini Crispy) 100 Foods\"],[\"Crispy Chicken 100 Foods\"],[\"Mini Empanado de Legumes Superbom\"],[\"Steak Vegan Sabor Legumes Superbom\"],[\"Steak Veg\\u00ea Sabor Frango\"],[\"Steak Veg\\u00ea Sabor Frango Empanado\"]],\"hovertemplate\":\"Classification=POULTRY 1<br>x=%{x}<br>y=%{y}<br>Description=%{customdata[0]}<extra></extra>\",\"legendgroup\":\"POULTRY 1\",\"marker\":{\"color\":\"#FF6692\",\"symbol\":\"circle\"},\"mode\":\"markers\",\"name\":\"POULTRY 1\",\"orientation\":\"v\",\"showlegend\":true,\"x\":[1.082064340849173,1.0820643408491728,2.3263668669474757,1.9712783620162533,1.9712783620162535,2.597357318827397,1.6003406946914227,2.6231385183519667,1.4768509767962323,1.97643220410524,0.2328908756822422,0.2328908756822421,0.16068896722019746,0.5234975013878799],\"xaxis\":\"x\",\"y\":[-1.2005174320142429,-1.200517432014243,-1.3536546177393864,3.4102441682737816,3.410244168273782,-2.902012458366117,-1.6890546037825158,-2.8277613465436664,2.599403342242255,3.271063564285888,-1.1419899442515715,-1.1419899442515715,0.06623398705022164,0.10631205655269639],\"yaxis\":\"y\",\"type\":\"scatter\"},{\"customdata\":[[\"Fil\\u00e9 Peixe Empanado Vegabom\"],[\"Tirinhas de Peixe Empanado Vegabom\"],[\"Bolinho de Bacalhau New Butchers\"],[\"Bolinho de Siri Amazonika Mundi\"],[\"Camar\\u00e3o de Soja Vegano Goshen\"]],\"hovertemplate\":\"Classification=FISH 2<br>x=%{x}<br>y=%{y}<br>Description=%{customdata[0]}<extra></extra>\",\"legendgroup\":\"FISH 2\",\"marker\":{\"color\":\"#B6E880\",\"symbol\":\"circle\"},\"mode\":\"markers\",\"name\":\"FISH 2\",\"orientation\":\"v\",\"showlegend\":true,\"x\":[1.125739588203534,1.125739588203534,-0.8280596046023637,-0.3649225649184654,2.110565927048784],\"xaxis\":\"x\",\"y\":[-1.2602565897687696,-1.26025658976877,0.5863867308052523,1.573593334454693,-2.7560698409508233],\"yaxis\":\"y\",\"type\":\"scatter\"},{\"customdata\":[[\"Queijo Mu\\u00e7arela Vegabom\"],[\"Queijo Picante Vegabom\"],[\"Queijo Cheddar Vegabom\"],[\"Requeisoy Provolone \"],[\"Requeisoy Cheddar' \"],[\"Requeisoy Tradicional\"],[\"Requeisoy Gorgonzola\"],[\"Okeijo R\\u00fastico\"],[\"Okeijo Cremoso\"],[\"Okeijo Gratinado\"],[\"Okeijo Mussarela\"],[\"Okeijo Provolone\"],[\"Creme s Vida Veg\"],[\"Creme s fineherbs e Pesto\"],[\"Queijo mu\\u00e7arela\"],[\"Queijo minas frescal\"],[\"Queijo minas padr\\u00e3o\"],[\"Requeij\\u00e3o Tradicional\"],[\"Requeij\\u00e3o fineherbs\"],[\"Requeij\\u00e3o Defumado\"],[\"Queijo Zimurisku \"],[\"Queijo Zimurisku Temperado\"],[\"Queijo Mozarela NoMoo\"],[\"Queijo Provolone\"],[\"Queijo Ch\\u00e9vre\"],[\"Queijo Prato\"],[\"Queijo Parmes\\u00e3o\"],[\"Requeij\\u00e3o Nomoo\"],[\"Queijo Gorgolino\"],[\"Queijo Melhor Que Cheddar\"],[\"Queijo Recaishow\"],[\"Queijo Brie\"],[\"Mussarela Vegana Goshen\"],[\"Queijo ProVolone Veganita\"],[\"Queijo Munster Veganita\"],[\"Queijo Brie Veganita\"],[\"Queijo Mussarela Veganita\"],[\"Queijo Cheddar Veganita\"],[\"CREAM CHEESE CULIN\\u00c1RIO BASI.CO\"],[\"REQUEIJ\\u00c3O VEGETAL\"],[\"QUEIJO PARMES\\u00c3O\"],[\"QUEIJO MINAS VEGETAL\"],[\"QUEIJO PRATO\"],[\"QUEIJO MU\\u00c7ARELA\"],[\"QUEIJO CHEDDAR\"]],\"hovertemplate\":\"Classification=DAIRY 3<br>x=%{x}<br>y=%{y}<br>Description=%{customdata[0]}<extra></extra>\",\"legendgroup\":\"DAIRY 3\",\"marker\":{\"color\":\"#FF97FF\",\"symbol\":\"circle\"},\"mode\":\"markers\",\"name\":\"DAIRY 3\",\"orientation\":\"v\",\"showlegend\":true,\"x\":[0.9333582240077066,0.41545226486777675,0.41545226486777725,0.05150189227988652,0.04165754803740353,0.09777764749407386,0.008248663400228225,0.24324045453013457,0.908773622297606,-0.7950625531848038,-0.4992259401223262,-0.49922594012232646,-2.1726819987167483,-2.132565094963481,-1.8340550419525097,-1.4664106760386741,-1.8873748415252294,-2.3275187617035,-2.2963083273278526,-2.3002370078800394,-0.05251553151291052,-0.006654723475321367,-1.7851091398526517,-1.6583730957926748,-1.086196235094935,-1.0242157686382058,-1.6264827275931875,0.7505874016381439,0.3689305720714511,0.3309759144705032,1.183459867159243,0.030658852042823145,-0.9378324784772836,-1.5135886662968476,-1.5135886662968463,-1.5135886662968463,-1.5135886662968474,-1.4235542021802485,-0.6781289207394989,-2.4374015975763412,-0.34068541784387185,-1.0239612740027113,-2.493902597156848,-2.4092386811669724,-2.4174280900324567],\"xaxis\":\"x\",\"y\":[0.424091442306579,1.0842221316148177,1.0842221316148177,-0.5082568880370951,-0.5580506588256263,-0.8286336429741029,-0.5472840118033311,0.1373333057942532,0.39675655928403414,1.0100938458759718,0.014563575182520343,0.014563575182520187,0.03208031864012578,-0.21461554802041838,-0.14923593889773504,-0.41744972935135394,-0.16310085438301508,-0.42555089600459967,-0.393018443955021,-0.44894281293290833,0.06813768521548919,0.03664635803075684,-0.3060220950344284,-0.27490501291544156,-0.5293428717157518,-0.03825290655776406,-0.5130795697179628,0.15074396205038704,0.20473270015622436,0.1432864047918113,0.9833595354386437,-0.31477935970114884,-0.26755510349064787,-0.35633676116826285,-0.35633676116826235,-0.35633676116826285,-0.35633676116826296,-0.12629836989502996,0.5193132131351993,0.4726941994087913,-1.1634316161064762,-0.3184043188477189,-0.36770271879458954,-0.3753205278280501,-0.3666734571995183],\"yaxis\":\"y\",\"type\":\"scatter\"},{\"customdata\":[[\"Fil\\u00e9 de saltm\\u00e3o New Butchers\"],[\"Bacalhau New  Butchers\"],[\"Isca de Peixe Vegway\"],[\"Fil\\u00e9 de Peixe Vegway\"],[\"Vieira de Soja Vegway\"],[\"Bacalhau Incr\\u00edvel Seara\"],[\"Iscas de Peixe Incr\\u00edvel Seara\"],[\"Atum do Futuro\"]],\"hovertemplate\":\"Classification=FISH 1<br>x=%{x}<br>y=%{y}<br>Description=%{customdata[0]}<extra></extra>\",\"legendgroup\":\"FISH 1\",\"marker\":{\"color\":\"#FECB52\",\"symbol\":\"circle\"},\"mode\":\"markers\",\"name\":\"FISH 1\",\"orientation\":\"v\",\"showlegend\":true,\"x\":[-1.0075660179024053,0.35467210550381045,2.865793698031923,3.029981980706768,3.0035213578198143,2.36027214438332,1.9712783620162548,1.8847394069639756],\"xaxis\":\"x\",\"y\":[0.3192222692526024,1.149933467191572,-1.2593013128931583,-1.0780227161328009,-0.6558506558912163,3.8856644237115505,3.410244168273782,1.2690057450168248],\"yaxis\":\"y\",\"type\":\"scatter\"},{\"customdata\":[[\"Presunto de Soja Vegway\"],[\"Bacon Vegano\"],[\"Mortadela de Soja Vegana Goshen\"],[\"Presunto de Soja Defumado\"],[\"Presunto de Soja Vegano Fatiado Goshen\"],[\"Bacon Crispy Verdali\"]],\"hovertemplate\":\"Classification=PORK 2<br>x=%{x}<br>y=%{y}<br>Description=%{customdata[0]}<extra></extra>\",\"legendgroup\":\"PORK 2\",\"marker\":{\"color\":\"#636efa\",\"symbol\":\"circle\"},\"mode\":\"markers\",\"name\":\"PORK 2\",\"orientation\":\"v\",\"showlegend\":true,\"x\":[2.7158332611680644,-1.5008624052645931,1.7223599070903077,2.093593199838522,1.6393389464731984,-0.9947776211198529],\"xaxis\":\"x\",\"y\":[-1.0886546044101535,-0.23015676176427893,-2.868863046920206,-2.896599526365963,-2.7385399661237746,-0.2487283516529563],\"yaxis\":\"y\",\"type\":\"scatter\"},{\"customdata\":[[\"Not Milk \"],[\"Not Milk Semidesnatado\"],[\" Vegetal de almonds\"],[\" vegetal \"],[\" Vegetal de almonds Fresco\"],[\" Vegetal  de Caj\\u00fa Fresco\"],[\" Vegetal  Fresco\"],[\" Vegetal Noats Original\"],[\" Vegetal Noats Barista\"],[\" Jasmine rice em P\\u00f3\"],[\" BIOV jasmine rice com amendoas\"],[\" BIOV jasmine rice com coco\"],[\" BioV oats Jasmine\"],[\" Jasmine rice \"],[\" Jasmine rice com oats\"],[\"Bebida de rice Nesfit\"],[\"Bebida Natural Nesfit\"],[\"Bebida de rice  e Amendoas Nesfit\"],[\"Bebida de rice e Coco Nesfit\"],[\"Bebida de oats Nesfit\"],[\"Bebida de oats e cocoa\"],[\"Molico Vegetal Nestl\\u00e9\"],[\"Ninho Vegetal Nestl\\u00e9\"],[\"Ninho Banana e apple Nestl\\u00e9\"],[\"Nude Edi\\u00e7\\u00e3o Barista\"],[\"Nude Original \"],[\"Nude Sabor Baunilha\"],[\"Nude de cocoa\"],[\"Nude + calcium\"],[\"Nude Barista\"],[\"Almond Breeze Original\"],[\"Almond Breeze Chocolate\"],[\"Almond Breeze Baunilha\"],[\"Almond Breeze Sem sugar\"],[\"Almond Breeze Amendoas com Coco\"],[\"Almond Breeze Chocolate Sem sugar\"],[\" de Amendoas Silk Sem sugar\"],[\" de Amendoas Silk \"],[\" cashews Silk\"],[\" de almonds e cocoa Silk\"],[\" de almonds Silk Coco\"],[\"Bebida de rice L\\u00edquida Sabor Original\"],[\"Bebida de rice L\\u00edquida Sabor almonds\"],[\"Bebida de rice L\\u00edquida Sabor peanuts\\n\"],[\"Bebida de rice L\\u00edquida Sabor cashews\"],[\"Bebida de rice L\\u00edquida Sabor Chocolate\"],[\"Bebida de rice L\\u00edquida Sabor Coco\"],[\"Bebida de rice L\\u00edquida Sabor Baunilha\"],[\"Bebida de rice Em P\\u00f3 Sabor Original\"],[\"Bebida de rice Em P\\u00f3 Sabor Original\"],[\"Bebida de rice Em P\\u00f3 Sabor Banana e apple\"],[\"Bebida de rice Em P\\u00f3 Sabor Chocolate\"],[\"Bebida de rice Em P\\u00f3 Sabor strawberries\"],[\" a tal da castanha barista\"],[\" a tal da castanha original\"],[\" a tal da castanha caju + Coco\"],[\" a tal da castanha almonds\"],[\" a tal da castanha castanha + cocoa\"],[\" a tal da castanha oats\"],[\" a tal da castanha mixed nuts\"],[\" a tal da castanha caju + Par\\u00e1\"],[\" a tal da castanha caju + peanuts\"],[\" Natuterra oats + Coco\"],[\" de almonds Natuterra\"],[\" Natuterra oats \"],[\" Vegetal 3 Nuts \\u2013 macadamianuts, almonds e cashews\"],[\" Vegetal de macadamianuts e Coco\"],[\" Vegetal de macadamianuts e cashews\"],[\" Vegetal Possible Foods\"],[\" Vegetal Possible Foods Chocolate\"],[\"Bebida de castanh de caj\\u00fa sem adi\\u00e7\\u00e3o de sugar nature's heart\"],[\"Bebida de almonds s/ adi\\u00e7\\u00e3o de sugares 1L \\u2013 Nature\\u2019s Heart\"],[\"Bebida de rice s/ adi\\u00e7\\u00e3o de sugares 1L \\u2013 Nature\\u2019s Heart\"],[\"Bebida de oats s/ adi\\u00e7\\u00e3o de sugares 1L \\u2013 Nature\\u2019s Heart\"],[\"Bebida de cocoa & rice 1L \\u2013 Nature\\u2019s Heart\"],[\"Bebida  & rice s/ adi\\u00e7\\u00e3o de sugares 1L \\u2013 Nature\\u2019s Heart\"],[\" Vegetal de soy Naturis Batavo\"],[\" DUOLAT peanuts E CASTANHA 1L - CAJUEIRO\"],[\" 85 CASTANHAS 1L - CAJUEIRO\"],[\" TOASTED 1L - CAJUEIRO\"]],\"hovertemplate\":\"Classification=DAIRY 1<br>x=%{x}<br>y=%{y}<br>Description=%{customdata[0]}<extra></extra>\",\"legendgroup\":\"DAIRY 1\",\"marker\":{\"color\":\"#EF553B\",\"symbol\":\"circle\"},\"mode\":\"markers\",\"name\":\"DAIRY 1\",\"orientation\":\"v\",\"showlegend\":true,\"x\":[-0.6666660388661111,-0.6666660388661111,-1.5775124645379413,-1.5373182719558134,-1.5539433503707503,-1.4214771440722844,-1.5014086316123858,-0.005597065872885774,-1.0399740430497975,-1.5253358062862534,0.0022721530749828024,-0.6183830238312291,-0.07140674025099597,-1.0271173592183065,-0.9303973055598614,-1.501645693036865,-0.22847058792869365,-1.0945347081923422,-1.0490142222379901,-1.5155174452173152,-1.0871274216213893,-1.8453334174904075,-1.845333417490408,-1.8453334174904075,0.5373684985037969,-0.12049722139871256,0.0004973363436719705,0.0004973363436724903,-0.0012472862185777176,0.5373684985037965,-1.919181727530515,-2.1264815877145162,-2.0836601704782276,-2.1239633591094575,-2.1229728910591508,-2.06377652951179,0.0827957815897514,0.08279578158975062,-0.15918628630916196,-0.4523414334336512,-0.12985835281978453,-0.2859921455125432,-2.742170954326152,-2.4593710960359374,-2.367593768887773,-1.1201151123240736,-0.2888829362355813,-1.322449114897403,-1.1068866271733655,-1.0359962463429673,-2.2797626397203876,-2.29447025536205,-2.319929267698067,-0.09792764664839768,-0.07319679207164281,0.008362729189757421,-0.07319679207164322,0.004515315824526132,0.003919660885006768,-0.07725561870233735,0.008362729189757081,0.008376835027869,-1.6012406083237734,-1.5061264070855944,-1.7420508068997387,0.008376835027868991,0.008362729189756916,0.008362729189756985,-1.3759676616750343,-2.203631298717902,-2.2893243990599093,-2.372010580675807,-2.2669126178797834,-1.7375434124438116,-2.1054006767342517,-2.077672617351012,0.14119175961318953,0.008376835027869515,-0.07332025680137949,-0.07332025680137935],\"xaxis\":\"x\",\"y\":[-0.22428968517376194,-0.22428968517376185,-0.07314467811686517,-0.10689571256527688,-0.10780467803752479,-0.13986699438531608,-0.09341404283597989,0.07603152010872838,-0.04527181394104798,0.14624959890422284,0.07605720669300076,0.1995083831822634,0.06861464687780988,0.19492945407048745,-0.2257348376661266,-0.3491686848655212,0.21607365266678563,-0.24935040788894017,-0.18092246566346284,-0.31574819803020593,0.018335063912129277,0.780606066652081,0.780606066652081,0.7806060666520808,0.016572455854384136,0.0591084650425375,0.075479886733643,0.07547988673364316,0.07553992243833697,0.01657245585438392,-0.32935645342177866,-0.36126307460462054,-0.3559985718694063,-0.34651557949302986,-0.36055031053620373,-0.3423352166483666,0.05693210187794308,0.05693210187794275,0.09333263917204727,-0.23620716130205716,0.021571703107262724,0.253447885392969,-0.19938895622820735,-0.20126833857253626,-0.1600269694334958,0.20166392748131984,0.2969428327903826,-0.020860066744495514,-0.823588655809874,-0.7186152802286835,-0.3773770046889872,-0.37079584893856454,-0.38948762495295414,0.11488316476592918,0.025743148565967308,0.07535329505514,0.025743148565967256,0.07474727787129812,0.07525736747717574,0.21771193432643324,0.07535329505513996,0.07550446664706076,-0.1534376565562793,-0.08284515770508756,-0.11673337500086343,0.07550446664706095,0.0753532950551399,0.07535329505513998,0.17499887428314811,-0.11900048126843751,-0.3774298365687212,-0.24119848710439076,-0.19657984116558708,-0.12731464403271595,-0.16949176774738212,-0.1704222014170721,0.1861080916097517,0.07550446664706088,0.025794793722916435,0.0257947937229165],\"yaxis\":\"y\",\"type\":\"scatter\"},{\"customdata\":[[\"Iogurte \"],[\"Iogurte  com strawberries\"],[\"Iogurte  com banana, apple e papaya\"],[\"Iogurte  Zero sugar\"],[\"Iogurte  com strawberries Zero sugar\"],[\"Iogurte GregoVeg \"],[\"Iogurte GregoVeg  com strawberries\"],[\"Iogurte Proteico 14g sabor strawberries\"],[\"Shake \"],[\"Iogurte Proteico 14g sabor  peanuts\"],[\"Creme de almonds\"]],\"hovertemplate\":\"Classification=DAIRY 2<br>x=%{x}<br>y=%{y}<br>Description=%{customdata[0]}<extra></extra>\",\"legendgroup\":\"DAIRY 2\",\"marker\":{\"color\":\"#00cc96\",\"symbol\":\"circle\"},\"mode\":\"markers\",\"name\":\"DAIRY 2\",\"orientation\":\"v\",\"showlegend\":true,\"x\":[-1.7322247457456872,-1.5053373239922856,-1.4792417971786904,-1.6993147953868393,-1.8732658884144877,-0.2851100647457601,-0.6603009587387477,-2.043846306295542,-1.3913823225235917,-1.5848110801562567,-1.7265254071786131],\"xaxis\":\"x\",\"y\":[-0.22121782487723757,-0.22007418410540502,-0.20978097859525663,-0.2433245666254513,-0.2758729184091933,0.18770455092702984,0.0037693760507262466,-0.24101717529808137,-0.1336369829063775,-0.2902477285037431,0.037282257767575946],\"yaxis\":\"y\",\"type\":\"scatter\"},{\"customdata\":[[\"MAIONESE VEGETAL SUPERBOM\"],[\"MAIONESE FUGINI\"],[\"NOT MAYO\"],[\"NOT MAYO garlic\"],[\"NOT MAYO AZEITONA\"],[\"NOT MAYO PICANTE\"],[\"MAIONESE V-MAYO\"],[\"MAIONESE V-MAYO ApepperDA\"],[\"MAIONESE V-MAYO TRUFADA\"],[\"MAIONESE V-MAYO DE ABACATE\"],[\"MAIONESE V-MAYO DE garlic\"],[\"MAIONESE HELLMANS\"],[\"MAIONESE VEGANA FUGINI\"],[\"MAIONESE DEL\\u00cdCIAS DE GOI\\u00c1S\"]],\"hovertemplate\":\"Classification=EGG 1<br>x=%{x}<br>y=%{y}<br>Description=%{customdata[0]}<extra></extra>\",\"legendgroup\":\"EGG 1\",\"marker\":{\"color\":\"#ab63fa\",\"symbol\":\"circle\"},\"mode\":\"markers\",\"name\":\"EGG 1\",\"orientation\":\"v\",\"showlegend\":true,\"x\":[0.3948275728932118,-0.5988647536304941,-0.6056731614204232,-0.34931154211347215,-0.649297653387442,-0.33313355554814783,1.0998477867503822,1.0843826974997783,1.0943471638642643,1.0823468082312275,1.0998477867503802,0.25590181448140914,0.5966626111357289,0.7970263592983621],\"xaxis\":\"x\",\"y\":[0.054642277097567894,-1.204857632576688,0.5675315928747046,0.6451950142452116,0.5143804431783905,1.0266029349507408,3.316289167338139,3.2898510463297272,3.2964894431013914,3.2830697844526386,3.316289167338136,0.21008043499686038,-0.034198776532161586,0.39626206513701917],\"yaxis\":\"y\",\"type\":\"scatter\"},{\"customdata\":[[\"Ovos Novos\"],[\"Ovos Novos\"]],\"hovertemplate\":\"Classification=EGG 2<br>x=%{x}<br>y=%{y}<br>Description=%{customdata[0]}<extra></extra>\",\"legendgroup\":\"EGG 2\",\"marker\":{\"color\":\"#FFA15A\",\"symbol\":\"circle\"},\"mode\":\"markers\",\"name\":\"EGG 2\",\"orientation\":\"v\",\"showlegend\":true,\"x\":[-0.07332025680137966,-0.0733202568013788],\"xaxis\":\"x\",\"y\":[0.025794793722916372,0.02579479372291651],\"yaxis\":\"y\",\"type\":\"scatter\"}],                        {\"template\":{\"data\":{\"bar\":[{\"error_x\":{\"color\":\"#2a3f5f\"},\"error_y\":{\"color\":\"#2a3f5f\"},\"marker\":{\"line\":{\"color\":\"#E5ECF6\",\"width\":0.5},\"pattern\":{\"fillmode\":\"overlay\",\"size\":10,\"solidity\":0.2}},\"type\":\"bar\"}],\"barpolar\":[{\"marker\":{\"line\":{\"color\":\"#E5ECF6\",\"width\":0.5},\"pattern\":{\"fillmode\":\"overlay\",\"size\":10,\"solidity\":0.2}},\"type\":\"barpolar\"}],\"carpet\":[{\"aaxis\":{\"endlinecolor\":\"#2a3f5f\",\"gridcolor\":\"white\",\"linecolor\":\"white\",\"minorgridcolor\":\"white\",\"startlinecolor\":\"#2a3f5f\"},\"baxis\":{\"endlinecolor\":\"#2a3f5f\",\"gridcolor\":\"white\",\"linecolor\":\"white\",\"minorgridcolor\":\"white\",\"startlinecolor\":\"#2a3f5f\"},\"type\":\"carpet\"}],\"choropleth\":[{\"colorbar\":{\"outlinewidth\":0,\"ticks\":\"\"},\"type\":\"choropleth\"}],\"contour\":[{\"colorbar\":{\"outlinewidth\":0,\"ticks\":\"\"},\"colorscale\":[[0.0,\"#0d0887\"],[0.1111111111111111,\"#46039f\"],[0.2222222222222222,\"#7201a8\"],[0.3333333333333333,\"#9c179e\"],[0.4444444444444444,\"#bd3786\"],[0.5555555555555556,\"#d8576b\"],[0.6666666666666666,\"#ed7953\"],[0.7777777777777778,\"#fb9f3a\"],[0.8888888888888888,\"#fdca26\"],[1.0,\"#f0f921\"]],\"type\":\"contour\"}],\"contourcarpet\":[{\"colorbar\":{\"outlinewidth\":0,\"ticks\":\"\"},\"type\":\"contourcarpet\"}],\"heatmap\":[{\"colorbar\":{\"outlinewidth\":0,\"ticks\":\"\"},\"colorscale\":[[0.0,\"#0d0887\"],[0.1111111111111111,\"#46039f\"],[0.2222222222222222,\"#7201a8\"],[0.3333333333333333,\"#9c179e\"],[0.4444444444444444,\"#bd3786\"],[0.5555555555555556,\"#d8576b\"],[0.6666666666666666,\"#ed7953\"],[0.7777777777777778,\"#fb9f3a\"],[0.8888888888888888,\"#fdca26\"],[1.0,\"#f0f921\"]],\"type\":\"heatmap\"}],\"heatmapgl\":[{\"colorbar\":{\"outlinewidth\":0,\"ticks\":\"\"},\"colorscale\":[[0.0,\"#0d0887\"],[0.1111111111111111,\"#46039f\"],[0.2222222222222222,\"#7201a8\"],[0.3333333333333333,\"#9c179e\"],[0.4444444444444444,\"#bd3786\"],[0.5555555555555556,\"#d8576b\"],[0.6666666666666666,\"#ed7953\"],[0.7777777777777778,\"#fb9f3a\"],[0.8888888888888888,\"#fdca26\"],[1.0,\"#f0f921\"]],\"type\":\"heatmapgl\"}],\"histogram\":[{\"marker\":{\"pattern\":{\"fillmode\":\"overlay\",\"size\":10,\"solidity\":0.2}},\"type\":\"histogram\"}],\"histogram2d\":[{\"colorbar\":{\"outlinewidth\":0,\"ticks\":\"\"},\"colorscale\":[[0.0,\"#0d0887\"],[0.1111111111111111,\"#46039f\"],[0.2222222222222222,\"#7201a8\"],[0.3333333333333333,\"#9c179e\"],[0.4444444444444444,\"#bd3786\"],[0.5555555555555556,\"#d8576b\"],[0.6666666666666666,\"#ed7953\"],[0.7777777777777778,\"#fb9f3a\"],[0.8888888888888888,\"#fdca26\"],[1.0,\"#f0f921\"]],\"type\":\"histogram2d\"}],\"histogram2dcontour\":[{\"colorbar\":{\"outlinewidth\":0,\"ticks\":\"\"},\"colorscale\":[[0.0,\"#0d0887\"],[0.1111111111111111,\"#46039f\"],[0.2222222222222222,\"#7201a8\"],[0.3333333333333333,\"#9c179e\"],[0.4444444444444444,\"#bd3786\"],[0.5555555555555556,\"#d8576b\"],[0.6666666666666666,\"#ed7953\"],[0.7777777777777778,\"#fb9f3a\"],[0.8888888888888888,\"#fdca26\"],[1.0,\"#f0f921\"]],\"type\":\"histogram2dcontour\"}],\"mesh3d\":[{\"colorbar\":{\"outlinewidth\":0,\"ticks\":\"\"},\"type\":\"mesh3d\"}],\"parcoords\":[{\"line\":{\"colorbar\":{\"outlinewidth\":0,\"ticks\":\"\"}},\"type\":\"parcoords\"}],\"pie\":[{\"automargin\":true,\"type\":\"pie\"}],\"scatter\":[{\"marker\":{\"colorbar\":{\"outlinewidth\":0,\"ticks\":\"\"}},\"type\":\"scatter\"}],\"scatter3d\":[{\"line\":{\"colorbar\":{\"outlinewidth\":0,\"ticks\":\"\"}},\"marker\":{\"colorbar\":{\"outlinewidth\":0,\"ticks\":\"\"}},\"type\":\"scatter3d\"}],\"scattercarpet\":[{\"marker\":{\"colorbar\":{\"outlinewidth\":0,\"ticks\":\"\"}},\"type\":\"scattercarpet\"}],\"scattergeo\":[{\"marker\":{\"colorbar\":{\"outlinewidth\":0,\"ticks\":\"\"}},\"type\":\"scattergeo\"}],\"scattergl\":[{\"marker\":{\"colorbar\":{\"outlinewidth\":0,\"ticks\":\"\"}},\"type\":\"scattergl\"}],\"scattermapbox\":[{\"marker\":{\"colorbar\":{\"outlinewidth\":0,\"ticks\":\"\"}},\"type\":\"scattermapbox\"}],\"scatterpolar\":[{\"marker\":{\"colorbar\":{\"outlinewidth\":0,\"ticks\":\"\"}},\"type\":\"scatterpolar\"}],\"scatterpolargl\":[{\"marker\":{\"colorbar\":{\"outlinewidth\":0,\"ticks\":\"\"}},\"type\":\"scatterpolargl\"}],\"scatterternary\":[{\"marker\":{\"colorbar\":{\"outlinewidth\":0,\"ticks\":\"\"}},\"type\":\"scatterternary\"}],\"surface\":[{\"colorbar\":{\"outlinewidth\":0,\"ticks\":\"\"},\"colorscale\":[[0.0,\"#0d0887\"],[0.1111111111111111,\"#46039f\"],[0.2222222222222222,\"#7201a8\"],[0.3333333333333333,\"#9c179e\"],[0.4444444444444444,\"#bd3786\"],[0.5555555555555556,\"#d8576b\"],[0.6666666666666666,\"#ed7953\"],[0.7777777777777778,\"#fb9f3a\"],[0.8888888888888888,\"#fdca26\"],[1.0,\"#f0f921\"]],\"type\":\"surface\"}],\"table\":[{\"cells\":{\"fill\":{\"color\":\"#EBF0F8\"},\"line\":{\"color\":\"white\"}},\"header\":{\"fill\":{\"color\":\"#C8D4E3\"},\"line\":{\"color\":\"white\"}},\"type\":\"table\"}]},\"layout\":{\"annotationdefaults\":{\"arrowcolor\":\"#2a3f5f\",\"arrowhead\":0,\"arrowwidth\":1},\"autotypenumbers\":\"strict\",\"coloraxis\":{\"colorbar\":{\"outlinewidth\":0,\"ticks\":\"\"}},\"colorscale\":{\"diverging\":[[0,\"#8e0152\"],[0.1,\"#c51b7d\"],[0.2,\"#de77ae\"],[0.3,\"#f1b6da\"],[0.4,\"#fde0ef\"],[0.5,\"#f7f7f7\"],[0.6,\"#e6f5d0\"],[0.7,\"#b8e186\"],[0.8,\"#7fbc41\"],[0.9,\"#4d9221\"],[1,\"#276419\"]],\"sequential\":[[0.0,\"#0d0887\"],[0.1111111111111111,\"#46039f\"],[0.2222222222222222,\"#7201a8\"],[0.3333333333333333,\"#9c179e\"],[0.4444444444444444,\"#bd3786\"],[0.5555555555555556,\"#d8576b\"],[0.6666666666666666,\"#ed7953\"],[0.7777777777777778,\"#fb9f3a\"],[0.8888888888888888,\"#fdca26\"],[1.0,\"#f0f921\"]],\"sequentialminus\":[[0.0,\"#0d0887\"],[0.1111111111111111,\"#46039f\"],[0.2222222222222222,\"#7201a8\"],[0.3333333333333333,\"#9c179e\"],[0.4444444444444444,\"#bd3786\"],[0.5555555555555556,\"#d8576b\"],[0.6666666666666666,\"#ed7953\"],[0.7777777777777778,\"#fb9f3a\"],[0.8888888888888888,\"#fdca26\"],[1.0,\"#f0f921\"]]},\"colorway\":[\"#636efa\",\"#EF553B\",\"#00cc96\",\"#ab63fa\",\"#FFA15A\",\"#19d3f3\",\"#FF6692\",\"#B6E880\",\"#FF97FF\",\"#FECB52\"],\"font\":{\"color\":\"#2a3f5f\"},\"geo\":{\"bgcolor\":\"white\",\"lakecolor\":\"white\",\"landcolor\":\"#E5ECF6\",\"showlakes\":true,\"showland\":true,\"subunitcolor\":\"white\"},\"hoverlabel\":{\"align\":\"left\"},\"hovermode\":\"closest\",\"mapbox\":{\"style\":\"light\"},\"paper_bgcolor\":\"white\",\"plot_bgcolor\":\"#E5ECF6\",\"polar\":{\"angularaxis\":{\"gridcolor\":\"white\",\"linecolor\":\"white\",\"ticks\":\"\"},\"bgcolor\":\"#E5ECF6\",\"radialaxis\":{\"gridcolor\":\"white\",\"linecolor\":\"white\",\"ticks\":\"\"}},\"scene\":{\"xaxis\":{\"backgroundcolor\":\"#E5ECF6\",\"gridcolor\":\"white\",\"gridwidth\":2,\"linecolor\":\"white\",\"showbackground\":true,\"ticks\":\"\",\"zerolinecolor\":\"white\"},\"yaxis\":{\"backgroundcolor\":\"#E5ECF6\",\"gridcolor\":\"white\",\"gridwidth\":2,\"linecolor\":\"white\",\"showbackground\":true,\"ticks\":\"\",\"zerolinecolor\":\"white\"},\"zaxis\":{\"backgroundcolor\":\"#E5ECF6\",\"gridcolor\":\"white\",\"gridwidth\":2,\"linecolor\":\"white\",\"showbackground\":true,\"ticks\":\"\",\"zerolinecolor\":\"white\"}},\"shapedefaults\":{\"line\":{\"color\":\"#2a3f5f\"}},\"ternary\":{\"aaxis\":{\"gridcolor\":\"white\",\"linecolor\":\"white\",\"ticks\":\"\"},\"baxis\":{\"gridcolor\":\"white\",\"linecolor\":\"white\",\"ticks\":\"\"},\"bgcolor\":\"#E5ECF6\",\"caxis\":{\"gridcolor\":\"white\",\"linecolor\":\"white\",\"ticks\":\"\"}},\"title\":{\"x\":0.05},\"xaxis\":{\"automargin\":true,\"gridcolor\":\"white\",\"linecolor\":\"white\",\"ticks\":\"\",\"title\":{\"standoff\":15},\"zerolinecolor\":\"white\",\"zerolinewidth\":2},\"yaxis\":{\"automargin\":true,\"gridcolor\":\"white\",\"linecolor\":\"white\",\"ticks\":\"\",\"title\":{\"standoff\":15},\"zerolinecolor\":\"white\",\"zerolinewidth\":2}}},\"xaxis\":{\"anchor\":\"y\",\"domain\":[0.0,1.0],\"title\":{\"text\":\"x\"}},\"yaxis\":{\"anchor\":\"x\",\"domain\":[0.0,1.0],\"title\":{\"text\":\"y\"}},\"legend\":{\"title\":{\"text\":\"Classification\"},\"tracegroupgap\":0},\"margin\":{\"t\":60},\"width\":800},                        {\"responsive\": true}                    ).then(function(){\n",
              "                            \n",
              "var gd = document.getElementById('f68910cc-f8a1-44da-922b-73c2c0c95d37');\n",
              "var x = new MutationObserver(function (mutations, observer) {{\n",
              "        var display = window.getComputedStyle(gd).display;\n",
              "        if (!display || display === 'none') {{\n",
              "            console.log([gd, 'removed!']);\n",
              "            Plotly.purge(gd);\n",
              "            observer.disconnect();\n",
              "        }}\n",
              "}});\n",
              "\n",
              "// Listen for the removal of the full notebook cells\n",
              "var notebookContainer = gd.closest('#notebook-container');\n",
              "if (notebookContainer) {{\n",
              "    x.observe(notebookContainer, {childList: true});\n",
              "}}\n",
              "\n",
              "// Listen for the clearing of the current output cell\n",
              "var outputEl = gd.closest('.output');\n",
              "if (outputEl) {{\n",
              "    x.observe(outputEl, {childList: true});\n",
              "}}\n",
              "\n",
              "                        })                };                            </script>        </div>\n",
              "</body>\n",
              "</html>"
            ]
          },
          "metadata": {}
        }
      ]
    },
    {
      "cell_type": "code",
      "source": [
        "data_nutrients = label_data.join(nutrients_normalized)\n",
        "isomap = Isomap(n_components=2,n_neighbors=90)\n",
        "X_isomapN = isomap.fit_transform(X_nutrients)\n",
        "\n",
        "X_isomapN[1:4, :]\n",
        "data_nutrients['x'] = X_isomapN[:,0]\n",
        "data_nutrients['y'] = X_isomapN[:,1]\n",
        "\n",
        "fig = px.scatter(data_nutrients, x='x', y='y', color='Classification', hover_data=[\"Description\"], width=800)\n",
        "fig.show()"
      ],
      "metadata": {
        "id": "IBtkbvAZcPcS",
        "colab": {
          "base_uri": "https://localhost:8080/",
          "height": 542
        },
        "outputId": "3c50b9c3-d633-41a6-ac91-f1f915dd5b36"
      },
      "execution_count": 25,
      "outputs": [
        {
          "output_type": "display_data",
          "data": {
            "text/html": [
              "<html>\n",
              "<head><meta charset=\"utf-8\" /></head>\n",
              "<body>\n",
              "    <div>            <script src=\"https://cdnjs.cloudflare.com/ajax/libs/mathjax/2.7.5/MathJax.js?config=TeX-AMS-MML_SVG\"></script><script type=\"text/javascript\">if (window.MathJax) {MathJax.Hub.Config({SVG: {font: \"STIX-Web\"}});}</script>                <script type=\"text/javascript\">window.PlotlyConfig = {MathJaxConfig: 'local'};</script>\n",
              "        <script src=\"https://cdn.plot.ly/plotly-2.8.3.min.js\"></script>                <div id=\"e04a5792-8308-4d26-8b94-8d651d7b33c1\" class=\"plotly-graph-div\" style=\"height:525px; width:800px;\"></div>            <script type=\"text/javascript\">                                    window.PLOTLYENV=window.PLOTLYENV || {};                                    if (document.getElementById(\"e04a5792-8308-4d26-8b94-8d651d7b33c1\")) {                    Plotly.newPlot(                        \"e04a5792-8308-4d26-8b94-8d651d7b33c1\",                        [{\"customdata\":[[\"Carne Mo\\u00edda do Futuro\"],[\"Almondegas de Soja Vegway\"],[\"Almondegas Amazonika Mundi\"],[\"Kibe Incr\\u00edvel Seara\"],[\"Almondegas Incr\\u00edveis Seara\"],[\"Almondegas Mr Veggy\"],[\"Carne Mo\\u00edda Superbom\"],[\"Carne Vegetal Mo\\u00edda Superbom\"],[\"Carne Mo\\u00edda Vegetal Verdali\"]],\"hovertemplate\":\"Classification=MEAT 2<br>x=%{x}<br>y=%{y}<br>Description=%{customdata[0]}<extra></extra>\",\"legendgroup\":\"MEAT 2\",\"marker\":{\"color\":\"#636efa\",\"symbol\":\"circle\"},\"mode\":\"markers\",\"name\":\"MEAT 2\",\"orientation\":\"v\",\"showlegend\":true,\"x\":[-0.46684049601419064,-0.598981108398695,-0.22879308490162403,-0.4635801103304947,-0.46358456868785497,-0.39893256770464425,-0.6713755075432553,-0.2760775482757485,-0.36522595412032777],\"xaxis\":\"x\",\"y\":[0.12231220448427907,0.4258751804569583,-0.01831882322778718,0.36273788123028167,0.36271956455471893,0.49830654839798294,0.37966842767459213,-0.11312610285888378,0.1967862655985023],\"yaxis\":\"y\",\"type\":\"scatter\"},{\"customdata\":[[\"Carne Mo\\u00edda do Futuro\"],[\"Fil\\u00e9s Sora Carne Vermelha\"],[\"Fatias Sora Carne Vermelha\"],[\"Fil\\u00e9 Pronto Saud\\u00e1vel Sora\"],[\"Carne Mo\\u00edda Pronto Saud\\u00e1vel Sora\"],[\"Churrasco Vegabom\"],[\"Churrasco Aoniondo Vegabom\"],[\"Carne de Pernil Seara\"],[\"Alm\\u00f4ndega de Soja Vegana Goshen\"],[\"Bife de Soja Vegano Goshen\"],[\"Alm\\u00f4ndega Vegana Superbom\"],[\"Bife Vegetal Superbom\"],[\"Escalope ao Molho Caseiro Superbom\"],[\"Cubinhos ao Molho Mexicano Superbom\"],[\"Alm\\u00f4ndegas ao Molho Sugo Superbom\"],[\"Medalh\\u00e3o ao Molho Madeira Superbom\"],[\"Mignon Verdali\"],[\"Steak Verdali\"]],\"hovertemplate\":\"Classification=MEAT 3<br>x=%{x}<br>y=%{y}<br>Description=%{customdata[0]}<extra></extra>\",\"legendgroup\":\"MEAT 3\",\"marker\":{\"color\":\"#EF553B\",\"symbol\":\"circle\"},\"mode\":\"markers\",\"name\":\"MEAT 3\",\"orientation\":\"v\",\"showlegend\":true,\"x\":[-0.4668404960141906,-0.5958019618109935,-0.5958019618109934,-0.14536938426395696,-0.14536938426395693,-0.18394125456343574,-0.18453900251724692,0.1451910178041321,-0.3550666736350621,-0.25660025253987734,-0.4141979481141662,-0.3453378494499601,-0.1935440666535137,-0.1768346123174686,-0.051246551696024614,-0.20679537198008074,-0.3566007852920027,-0.25922979618086456],\"xaxis\":\"x\",\"y\":[0.12231220448427878,-0.08983018561657616,-0.08983018561657603,-0.18788401062747032,-0.18788401062747032,-0.07310163632672455,-0.06957800409793297,0.7977525203699077,-0.09336383519380344,0.17557857505624822,0.5494342731439626,-0.12250378041230753,-0.16894541043264066,-0.17586496339869034,-0.2117633053287115,-0.1479727893894728,0.1897024413092103,0.14729333690463978],\"yaxis\":\"y\",\"type\":\"scatter\"},{\"customdata\":[[\"Frango do Futuro\"],[\"Fatias Sora Carne Branca\"],[\"Fil\\u00e9s Sora Carne Branca\"],[\"Strogonoff de Frango Vegabom\"],[\"Tiras de Frango New Butchers\"],[\"Fil\\u00e9 de Frango Desfiado Vegway\"],[\"Frango Veg e Tal Sadia\"],[\"Frango Veg e Tal Sadia Desfiado\"],[\"Peito de Peru de Soja\"],[\"Peito de Peru de Soja Vegano\"],[\"Tiras de Ave Verdali\"],[\"Fil\\u00e9 sem Frango Verdali\"],[\"Mini Fil\\u00e9 de Frango Verdali\"]],\"hovertemplate\":\"Classification=POULTRY 3<br>x=%{x}<br>y=%{y}<br>Description=%{customdata[0]}<extra></extra>\",\"legendgroup\":\"POULTRY 3\",\"marker\":{\"color\":\"#00cc96\",\"symbol\":\"circle\"},\"mode\":\"markers\",\"name\":\"POULTRY 3\",\"orientation\":\"v\",\"showlegend\":true,\"x\":[-0.46684049601419064,-0.5958019618109933,-0.5958019618109933,-0.18394125456343577,-0.046446454286808506,-0.31176379981519314,-0.4075756715477456,-0.40757567154774577,-0.2417684791129853,-0.24176847911298535,-0.5841448751220806,-0.3232975689221509,-0.3091222693692303],\"xaxis\":\"x\",\"y\":[0.12231220448427894,-0.08983018561657616,-0.08983018561657607,-0.07310163632672459,-0.2877926001937319,0.30985894967122307,0.1482149225964517,0.14821492259645183,-0.25105620896517505,-0.2510562089651749,0.361257782725845,0.2398986385029373,0.26683981978056776],\"yaxis\":\"y\",\"type\":\"scatter\"},{\"customdata\":[[\"Lingui\\u00e7a do Futuro\"],[\"Lingui\\u00e7a calabresa vegabom\"],[\"saltsicha de chickpea Vegabom\"],[\"Vegway Soy Sausage\"],[\"saltsichas Incriveis Seara\"],[\"Lingui\\u00e7a Apimentada de Soja Goshen\"],[\"Lingui\\u00e7a Calabresa de Soja Goshen\"],[\"Lingui\\u00e7a de Soja Vegana Goshen\"],[\"Lingui\\u00e7a Toscana de Soja Goshen\"],[\"saltsicha de Soja Vegana Goshen\"],[\"saltsicha Vegetal Superbom\"],[\"saltsicha Vegetal Defumada Superbom\"]],\"hovertemplate\":\"Classification=PORK 1<br>x=%{x}<br>y=%{y}<br>Description=%{customdata[0]}<extra></extra>\",\"legendgroup\":\"PORK 1\",\"marker\":{\"color\":\"#ab63fa\",\"symbol\":\"circle\"},\"mode\":\"markers\",\"name\":\"PORK 1\",\"orientation\":\"v\",\"showlegend\":true,\"x\":[-0.4447075454448099,-0.30095559433418634,-0.31100513235257765,-0.45869133892859754,-0.05359840609373611,-0.18912704509771172,-0.27476213862217713,-0.2551449025575873,-0.18607865259409695,-0.2839460179852787,-0.23542162308101278,-0.030498988726795642],\"xaxis\":\"x\",\"y\":[-0.0692088903551322,-0.15406322668442046,-0.15422267574339418,0.141503991342821,-0.02029527799372903,-0.2735229652306506,-0.2501110228835414,-0.10473651324123402,-0.2489726794656325,-0.0957960414297636,-0.1721765978765492,-0.23947396895694495],\"yaxis\":\"y\",\"type\":\"scatter\"},{\"customdata\":[[\"Hamburguer de Soja Goshen\"],[\"Hamburguer de Soja Vegano Goshen\"],[\"Hamburguer de Quinoa Mr Veggy\"],[\"Hamburguer de lentil Mr Veggy\"],[\"Hamburguer vegano falafel amazonika mundi\"],[\"Hamburguer Vegetal Verdali\"],[\"VegBurger Sabor Carne\"],[\"Burger Gourmet Superbom\"],[\"Hamburguer Incr\\u00edvel Seara\"],[\"Not Burguer Notco\"],[\"Hamburguer de Fibra de Caju Amazonika Mundi\"],[\"Hamburguer Vegabom\"],[\"Hamburguer de Carne Veg  e Tal Sadia\"],[\"Hamburger New Butchers\"],[\"Hamburguer de Legumes Mr Veggy\"],[\"Hamburguer Vegetariano Mr Veggy\"],[\"Hambuguer Mr Veggy Mari Mari\"],[\"Hambuguer Mr Veggy Mari Mari Churrrasco\"],[\"Hamb\\u00farguer Fazenda Futuro 2.0\"],[\"Hamb\\u00farguer Vegano de Quinoa Amazonika Mundi\"],[\"Hamburguer Veggie Roots Tempero Indiano\"],[\"Hamb\\u00farguer Sora Carne Vermelha \"],[\"Hamburguer Veggie Roots brazilianspices\"],[\"Hamburguer veggie roots tempero mexicano\"],[\"Hamburguer de Soja Sabor Carne Vegway\"],[\"Hamb\\u00farguer de Soja Empanado Vegway\"],[\"Hamburguer Vegetal Superbom\"],[\"Hamburguer de chickpea Mr Veggy\"],[\"Hamburguer Veggie Roots Tempero \\u00c1rabe\"],[\"Hamburguer Veggie Roots Tempero Tailand\\u00eas\"],[\"Hamburguer Vegabom\"],[\"Hamb\\u00farguer Pronto Saud\\u00e1vel Sora\"],[\"hamburguer vegetal com herbs jasmine\"],[\"Hamburguer Vegetal Tradicional Jasmine\"]],\"hovertemplate\":\"Classification=MEAT 1<br>x=%{x}<br>y=%{y}<br>Description=%{customdata[0]}<extra></extra>\",\"legendgroup\":\"MEAT 1\",\"marker\":{\"color\":\"#FFA15A\",\"symbol\":\"circle\"},\"mode\":\"markers\",\"name\":\"MEAT 1\",\"orientation\":\"v\",\"showlegend\":true,\"x\":[-0.3696975066440505,-0.15127470588230246,-0.023611155887459236,-0.26891335325737564,-0.4469854309915268,-0.23996224098587055,-0.4763419114527117,-0.21749757943347245,-0.40252294891697926,-1.3538103363222276,-0.34874313505492377,-0.00840126273976557,-0.34727914188031417,-0.39406934579214015,-0.43644129652033725,-0.2635958772204195,-0.32268572484893127,-0.32268572484893127,-0.47869049090773674,-0.3712193937972573,-0.07451909133887903,-0.5958019618109932,-0.08472664794833745,-0.1756242965167324,-0.47793943371618486,-0.43564984069333995,-0.039840480236084205,-0.9073179450650528,-0.28020208741199276,-0.3392298758767912,0.007246953032590077,-0.14536938426395704,-0.7479273066880232,-0.7479273066880237],\"xaxis\":\"x\",\"y\":[-0.07504815506279341,-0.12352951242534188,0.4292278607604469,0.14540997942234435,0.6762257486810602,0.08728078898349897,0.0996194110222446,0.46671366166610473,0.20344238281645952,0.7290488768468002,0.19492051081926154,-0.1423483094313246,-0.6317981932250375,-0.08786670198048929,0.6536445772883914,0.02356733159724367,0.027101091676285848,0.02710109167628597,0.20844147192392345,0.6699545306921295,0.322030867621275,-0.08983018561657628,0.25063204951031587,0.40860233637832605,0.33073821321127567,0.10985497037772994,-0.058038443940501463,0.6894409424358544,0.4180789523457592,0.4784792214638054,-0.0797278517171232,-0.18788401062747012,0.47886270718054325,0.47886270718054336],\"yaxis\":\"y\",\"type\":\"scatter\"},{\"customdata\":[[\"Hamb\\u00farguer Sora Carne Branca\"],[\"VegBurger Sabor Frango\"],[\"Hambuguer Incr\\u00edvel Seara Frango\"],[\"Frango Vegano em Peda\\u00e7os \\u00e0 Base de pea\"],[\"Hamb\\u00farguer de Frango Verdali\"]],\"hovertemplate\":\"Classification=POULTRY 2<br>x=%{x}<br>y=%{y}<br>Description=%{customdata[0]}<extra></extra>\",\"legendgroup\":\"POULTRY 2\",\"marker\":{\"color\":\"#19d3f3\",\"symbol\":\"circle\"},\"mode\":\"markers\",\"name\":\"POULTRY 2\",\"orientation\":\"v\",\"showlegend\":true,\"x\":[-0.5958019618109933,-0.4885485543130803,-0.3446790155328927,-0.02454720932108846,-0.2036348531236928],\"xaxis\":\"x\",\"y\":[-0.0898301856165762,0.11685154415826526,0.08446868480072162,0.23137642177460835,0.06173850668390506],\"yaxis\":\"y\",\"type\":\"scatter\"},{\"customdata\":[[\"Empanado de Frango Vegabom\"],[\"Fil\\u00e9 de Frango Empanado Vegabom\"],[\"Empanados de Frango Vegway\"],[\"Empanados Incr\\u00edveis Seara\"],[\"Empanados Sadia Veg e Tal\"],[\"Empanadinho de Soja  Goshen\"],[\"Empanadinho de Soja Vegano  Goshen\"],[\"Steak de Soja Vegano Goshen\"],[\"Empanado Vegano (Mini Crispy) 100 Foods\"],[\"Crispy Chicken 100 Foods\"],[\"Mini Empanado de Legumes Superbom\"],[\"Steak Vegan Sabor Legumes Superbom\"],[\"Steak Veg\\u00ea Sabor Frango\"],[\"Steak Veg\\u00ea Sabor Frango Empanado\"]],\"hovertemplate\":\"Classification=POULTRY 1<br>x=%{x}<br>y=%{y}<br>Description=%{customdata[0]}<extra></extra>\",\"legendgroup\":\"POULTRY 1\",\"marker\":{\"color\":\"#FF6692\",\"symbol\":\"circle\"},\"mode\":\"markers\",\"name\":\"POULTRY 1\",\"orientation\":\"v\",\"showlegend\":true,\"x\":[-0.02481795489360875,-0.024817954893608715,-0.5685708055344045,-0.8703036978426766,-0.6143073471128063,-0.4755985830612324,-0.15163087566801836,-0.3252084848472394,-0.6109798443880086,-0.443809128620665,-0.4107708521878837,-0.33329270337691386,-0.2985750111513286,-0.2985750111513286],\"xaxis\":\"x\",\"y\":[-0.16286187547773937,-0.1628618754777393,0.47313938696339863,0.9027883016117478,0.7993019448142941,-0.1132558098481737,-0.22429392324668107,-0.12207569604977676,0.8239097721327998,0.5391197942438773,0.6651913920048868,0.17380585731324497,0.4178493629668308,0.41784936296683056],\"yaxis\":\"y\",\"type\":\"scatter\"},{\"customdata\":[[\"Fil\\u00e9 Peixe Empanado Vegabom\"],[\"Tirinhas de Peixe Empanado Vegabom\"],[\"Bolinho de Bacalhau New Butchers\"],[\"Bolinho de Siri Amazonika Mundi\"],[\"Camar\\u00e3o de Soja Vegano Goshen\"]],\"hovertemplate\":\"Classification=FISH 2<br>x=%{x}<br>y=%{y}<br>Description=%{customdata[0]}<extra></extra>\",\"legendgroup\":\"FISH 2\",\"marker\":{\"color\":\"#B6E880\",\"symbol\":\"circle\"},\"mode\":\"markers\",\"name\":\"FISH 2\",\"orientation\":\"v\",\"showlegend\":true,\"x\":[-0.20457953777212748,-0.20457953777212748,-0.2747460814384652,-0.07211540977962265,-0.3248479059034852],\"xaxis\":\"x\",\"y\":[-0.06609000097129226,-0.06609000097129207,0.4842820322712293,-0.18000647895957375,-0.2340476851506276],\"yaxis\":\"y\",\"type\":\"scatter\"},{\"customdata\":[[\"Queijo Mu\\u00e7arela Vegabom\"],[\"Queijo Picante Vegabom\"],[\"Queijo Cheddar Vegabom\"],[\"Requeisoy Provolone \"],[\"Requeisoy Cheddar' \"],[\"Requeisoy Tradicional\"],[\"Requeisoy Gorgonzola\"],[\"Okeijo R\\u00fastico\"],[\"Okeijo Cremoso\"],[\"Okeijo Gratinado\"],[\"Okeijo Mussarela\"],[\"Okeijo Provolone\"],[\"Creme s Vida Veg\"],[\"Creme s fineherbs e Pesto\"],[\"Queijo mu\\u00e7arela\"],[\"Queijo minas frescal\"],[\"Queijo minas padr\\u00e3o\"],[\"Requeij\\u00e3o Tradicional\"],[\"Requeij\\u00e3o fineherbs\"],[\"Requeij\\u00e3o Defumado\"],[\"Queijo Zimurisku \"],[\"Queijo Zimurisku Temperado\"],[\"Queijo Mozarela NoMoo\"],[\"Queijo Provolone\"],[\"Queijo Ch\\u00e9vre\"],[\"Queijo Prato\"],[\"Queijo Parmes\\u00e3o\"],[\"Requeij\\u00e3o Nomoo\"],[\"Queijo Gorgolino\"],[\"Queijo Melhor Que Cheddar\"],[\"Queijo Recaishow\"],[\"Queijo Brie\"],[\"Mussarela Vegana Goshen\"],[\"Queijo ProVolone Veganita\"],[\"Queijo Munster Veganita\"],[\"Queijo Brie Veganita\"],[\"Queijo Mussarela Veganita\"],[\"Queijo Cheddar Veganita\"],[\"CREAM CHEESE CULIN\\u00c1RIO BASI.CO\"],[\"REQUEIJ\\u00c3O VEGETAL\"],[\"QUEIJO PARMES\\u00c3O\"],[\"QUEIJO MINAS VEGETAL\"],[\"QUEIJO PRATO\"],[\"QUEIJO MU\\u00c7ARELA\"],[\"QUEIJO CHEDDAR\"]],\"hovertemplate\":\"Classification=DAIRY 3<br>x=%{x}<br>y=%{y}<br>Description=%{customdata[0]}<extra></extra>\",\"legendgroup\":\"DAIRY 3\",\"marker\":{\"color\":\"#FF97FF\",\"symbol\":\"circle\"},\"mode\":\"markers\",\"name\":\"DAIRY 3\",\"orientation\":\"v\",\"showlegend\":true,\"x\":[0.03474080912195088,0.03474080912195086,0.034740809121950815,-0.21110972555711638,-0.20173462836603784,-0.15243140785144213,-0.2203276437468717,0.07815060346205839,0.07815060346205849,-0.42381055342802304,0.03975577613436578,0.039755776134365844,-0.2836981753680306,-0.29268193610837107,-0.18826865980369356,-0.15765524026430572,-0.1765098677880421,-0.2938176257385409,-0.2948109699265548,-0.29186623083368346,-1.310270766267601,-1.3102707662676008,-0.15865610631240926,-0.04818971792046955,-0.2681214137257424,-0.042111484103790724,-0.6469411899668991,-0.43994059386912104,-0.25272239948634667,-0.19116738937315175,-0.2726879333098057,-0.6714474198435585,-0.26999959190259937,-0.1374757469108797,-0.2304402369706993,-0.453150569499356,-0.325915292352028,-0.3884386355371749,-0.28408318065163324,-0.281560207157148,-0.546687833176887,-0.18801483939858935,-0.2780668180355476,-0.27806681803554756,-0.2981220926335872],\"xaxis\":\"x\",\"y\":[-0.29418970476780903,-0.2941897047678092,-0.29418970476780887,-0.5364116603817402,-0.4892245112804491,-0.5332155948019003,-0.5153002649244601,-0.004560575428853462,-0.004560575428853707,0.40368351230377414,-4.8359908793406566e-05,-4.835990879362066e-05,-0.49519613338920637,-0.48927552373872224,-0.3317122763479233,-0.332937291673024,-0.3325495501880786,-0.5058143824430672,-0.5048331114773249,-0.5078002645217403,1.008696079602052,1.0086960796020517,-0.4807570577373602,-0.47715137815796965,-0.3865254916764612,-0.4836368101500081,0.47305816455449307,-0.41369624978238073,-0.39611757543248316,-0.4021287067794202,-0.42404838319023425,-0.6307777538461267,-0.416090538439763,-0.35637512301565877,-0.2736674677247971,-0.6138157120369218,-0.4892170587156255,-0.4313696367621124,-0.44605054380856746,-0.5719430210518669,-0.47773151696523425,-0.4824294963754838,-0.4824413529019597,-0.4824413529019596,-0.48412928471798605],\"yaxis\":\"y\",\"type\":\"scatter\"},{\"customdata\":[[\"Fil\\u00e9 de saltm\\u00e3o New Butchers\"],[\"Bacalhau New  Butchers\"],[\"Isca de Peixe Vegway\"],[\"Fil\\u00e9 de Peixe Vegway\"],[\"Vieira de Soja Vegway\"],[\"Bacalhau Incr\\u00edvel Seara\"],[\"Iscas de Peixe Incr\\u00edvel Seara\"],[\"Atum do Futuro\"]],\"hovertemplate\":\"Classification=FISH 1<br>x=%{x}<br>y=%{y}<br>Description=%{customdata[0]}<extra></extra>\",\"legendgroup\":\"FISH 1\",\"marker\":{\"color\":\"#FECB52\",\"symbol\":\"circle\"},\"mode\":\"markers\",\"name\":\"FISH 1\",\"orientation\":\"v\",\"showlegend\":true,\"x\":[-0.25045303291374404,-0.22453390240196333,-0.4081575285552836,-0.31103866920310375,-0.4190730445228688,-0.20947056590574603,-0.8243477610518197,-0.3102767788644054],\"xaxis\":\"x\",\"y\":[0.15669733940301916,0.9791381371407688,0.2930326939309061,0.30937135857495807,0.42563754483575694,0.9053301760590939,0.8637782637559266,0.08259757693498591],\"yaxis\":\"y\",\"type\":\"scatter\"},{\"customdata\":[[\"Presunto de Soja Vegway\"],[\"Bacon Vegano\"],[\"Mortadela de Soja Vegana Goshen\"],[\"Presunto de Soja Defumado\"],[\"Presunto de Soja Vegano Fatiado Goshen\"],[\"Bacon Crispy Verdali\"]],\"hovertemplate\":\"Classification=PORK 2<br>x=%{x}<br>y=%{y}<br>Description=%{customdata[0]}<extra></extra>\",\"legendgroup\":\"PORK 2\",\"marker\":{\"color\":\"#636efa\",\"symbol\":\"circle\"},\"mode\":\"markers\",\"name\":\"PORK 2\",\"orientation\":\"v\",\"showlegend\":true,\"x\":[-0.2614816581002486,-0.7749324764747996,-0.4610345412351489,-0.46375871114233846,-0.47385958352966395,-1.2264139325818033],\"xaxis\":\"x\",\"y\":[-0.153886042748103,0.5706259961586234,-0.30985065371548803,-0.07512096425662086,-0.30148357136135967,0.7245933477121168],\"yaxis\":\"y\",\"type\":\"scatter\"},{\"customdata\":[[\"Not Milk \"],[\"Not Milk Semidesnatado\"],[\" Vegetal de almonds\"],[\" vegetal \"],[\" Vegetal de almonds Fresco\"],[\" Vegetal  de Caj\\u00fa Fresco\"],[\" Vegetal  Fresco\"],[\" Vegetal Noats Original\"],[\" Vegetal Noats Barista\"],[\" Jasmine rice em P\\u00f3\"],[\" BIOV jasmine rice com amendoas\"],[\" BIOV jasmine rice com coco\"],[\" BioV oats Jasmine\"],[\" Jasmine rice \"],[\" Jasmine rice com oats\"],[\"Bebida de rice Nesfit\"],[\"Bebida Natural Nesfit\"],[\"Bebida de rice  e Amendoas Nesfit\"],[\"Bebida de rice e Coco Nesfit\"],[\"Bebida de oats Nesfit\"],[\"Bebida de oats e cocoa\"],[\"Molico Vegetal Nestl\\u00e9\"],[\"Ninho Vegetal Nestl\\u00e9\"],[\"Ninho Banana e apple Nestl\\u00e9\"],[\"Nude Edi\\u00e7\\u00e3o Barista\"],[\"Nude Original \"],[\"Nude Sabor Baunilha\"],[\"Nude de cocoa\"],[\"Nude + calcium\"],[\"Nude Barista\"],[\"Almond Breeze Original\"],[\"Almond Breeze Chocolate\"],[\"Almond Breeze Baunilha\"],[\"Almond Breeze Sem sugar\"],[\"Almond Breeze Amendoas com Coco\"],[\"Almond Breeze Chocolate Sem sugar\"],[\" de Amendoas Silk Sem sugar\"],[\" de Amendoas Silk \"],[\" cashews Silk\"],[\" de almonds e cocoa Silk\"],[\" de almonds Silk Coco\"],[\"Bebida de rice L\\u00edquida Sabor Original\"],[\"Bebida de rice L\\u00edquida Sabor almonds\"],[\"Bebida de rice L\\u00edquida Sabor peanuts\\n\"],[\"Bebida de rice L\\u00edquida Sabor cashews\"],[\"Bebida de rice L\\u00edquida Sabor Chocolate\"],[\"Bebida de rice L\\u00edquida Sabor Coco\"],[\"Bebida de rice L\\u00edquida Sabor Baunilha\"],[\"Bebida de rice Em P\\u00f3 Sabor Original\"],[\"Bebida de rice Em P\\u00f3 Sabor Original\"],[\"Bebida de rice Em P\\u00f3 Sabor Banana e apple\"],[\"Bebida de rice Em P\\u00f3 Sabor Chocolate\"],[\"Bebida de rice Em P\\u00f3 Sabor strawberries\"],[\" a tal da castanha barista\"],[\" a tal da castanha original\"],[\" a tal da castanha caju + Coco\"],[\" a tal da castanha almonds\"],[\" a tal da castanha castanha + cocoa\"],[\" a tal da castanha oats\"],[\" a tal da castanha mixed nuts\"],[\" a tal da castanha caju + Par\\u00e1\"],[\" a tal da castanha caju + peanuts\"],[\" Natuterra oats + Coco\"],[\" de almonds Natuterra\"],[\" Natuterra oats \"],[\" Vegetal 3 Nuts \\u2013 macadamianuts, almonds e cashews\"],[\" Vegetal de macadamianuts e Coco\"],[\" Vegetal de macadamianuts e cashews\"],[\" Vegetal Possible Foods\"],[\" Vegetal Possible Foods Chocolate\"],[\"Bebida de castanh de caj\\u00fa sem adi\\u00e7\\u00e3o de sugar nature's heart\"],[\"Bebida de almonds s/ adi\\u00e7\\u00e3o de sugares 1L \\u2013 Nature\\u2019s Heart\"],[\"Bebida de rice s/ adi\\u00e7\\u00e3o de sugares 1L \\u2013 Nature\\u2019s Heart\"],[\"Bebida de oats s/ adi\\u00e7\\u00e3o de sugares 1L \\u2013 Nature\\u2019s Heart\"],[\"Bebida de cocoa & rice 1L \\u2013 Nature\\u2019s Heart\"],[\"Bebida  & rice s/ adi\\u00e7\\u00e3o de sugares 1L \\u2013 Nature\\u2019s Heart\"],[\" Vegetal de soy Naturis Batavo\"],[\" DUOLAT peanuts E CASTANHA 1L - CAJUEIRO\"],[\" 85 CASTANHAS 1L - CAJUEIRO\"],[\" TOASTED 1L - CAJUEIRO\"]],\"hovertemplate\":\"Classification=DAIRY 1<br>x=%{x}<br>y=%{y}<br>Description=%{customdata[0]}<extra></extra>\",\"legendgroup\":\"DAIRY 1\",\"marker\":{\"color\":\"#EF553B\",\"symbol\":\"circle\"},\"mode\":\"markers\",\"name\":\"DAIRY 1\",\"orientation\":\"v\",\"showlegend\":true,\"x\":[0.7664501288485059,0.8134690958036721,0.8204890747723018,0.8201441743240432,0.8046065758007973,0.8131973999357012,0.8080314643176575,0.46086774054876267,0.4193361655021325,1.0380745104677433,0.7246786057064838,1.0340117588686015,0.4193361655021327,1.0380745104677436,1.0166191221105587,1.1501007914823302,0.8942309205053267,1.1758587584224156,1.1701858627943245,1.152809655687789,1.4298925418744874,0.7748026426198714,0.8451266838637097,1.1073227140689648,0.9201613267487049,0.6377933502031745,0.7828169946794037,0.8273224356166676,0.8726847086888259,0.9201613267487051,1.1544308409802397,1.5362914734908788,1.2960072820760766,0.9787427708170671,0.9618163223026883,1.177615863096717,0.42389420924887605,0.46976806974729585,0.3942345000991005,0.36594791116262304,0.395771078433821,0.4357228569914994,0.4357228569914994,0.43572285699149954,0.4357228569914995,0.4357228569914995,0.4357228569914996,0.4357228569914993,-0.5574124051429579,-0.5574124051429578,-0.5574124051429579,-0.557412405142958,-0.5574124051429579,0.4619844081798413,0.43474212395312706,0.4447483258067611,0.7147896042438027,0.38193807777615474,1.1104272662543972,0.8598567915396497,0.4465459527708032,0.45396726494963874,0.8166894448560786,0.8117622147311192,0.8354353343240214,0.41746735418630493,0.3917071704061256,0.41434655214463534,1.069468421637766,1.1979261028927282,0.8155081835296857,0.8130419501271583,1.0864755567051063,1.0807832834796702,1.3867384522719466,1.0604865582278125,0.6642076382256368,0.37265050912662634,0.38696661178549413,0.40931582716305337],\"xaxis\":\"x\",\"y\":[0.08994519578369334,0.09935243468339919,-0.0992299395203081,-0.12849241918758897,-0.09349830901563976,-0.018929576281982226,-0.10679336395066105,-0.09548175000575741,0.07012071567799015,0.3995826230577649,0.1707454838204534,0.4013478220855351,0.07012071567799011,0.39958262305776476,0.3649680143613518,0.09881985630257706,0.023192202307753828,0.14433851016970278,0.20727160361383595,0.20989253485184053,0.33042407478098107,-0.46549832725923856,-0.32410909765170104,0.3358883902809475,-0.0026526589299378785,0.03286704166255004,0.16717460731147565,0.20920781865645544,0.14812211743280457,-0.002652658929938123,0.03404875767619934,0.28814696023479297,0.14325277229344813,-0.11446867261030298,-0.007433365975238465,-0.056419828439741054,-0.03943066098939656,0.07995573328496074,0.01521857047351688,0.1601666366089686,-0.035789534327935704,0.07600495196116334,0.07600495196116334,0.07600495196116339,0.07600495196116334,0.07600495196116334,0.07600495196116355,0.07600495196116343,-0.11156384092533089,-0.11156384092533089,-0.11156384092533102,-0.11156384092533093,-0.11156384092533098,0.030961086763977692,-0.06616561739805588,-0.07605343574804638,-0.11749519811000557,0.20136046836163451,0.19886674660897427,0.010343602883554457,-0.07256950384166048,-0.02489918043482737,-0.16383250411061792,-0.15540224435881847,-0.10490286252022796,-0.08869951969677932,-0.07073607430727265,-0.07527235248539778,0.01697054326513785,0.18335108671326147,-0.1166345452987734,-0.11819032720473834,0.09195842744150037,0.18505062233450859,0.3158920103090269,0.19974079261762778,0.13691721936286083,-0.027613189325678536,-0.044343090297600786,-0.07425755539729043],\"yaxis\":\"y\",\"type\":\"scatter\"},{\"customdata\":[[\"Iogurte \"],[\"Iogurte  com strawberries\"],[\"Iogurte  com banana, apple e papaya\"],[\"Iogurte  Zero sugar\"],[\"Iogurte  com strawberries Zero sugar\"],[\"Iogurte GregoVeg \"],[\"Iogurte GregoVeg  com strawberries\"],[\"Iogurte Proteico 14g sabor strawberries\"],[\"Shake \"],[\"Iogurte Proteico 14g sabor  peanuts\"],[\"Creme de almonds\"]],\"hovertemplate\":\"Classification=DAIRY 2<br>x=%{x}<br>y=%{y}<br>Description=%{customdata[0]}<extra></extra>\",\"legendgroup\":\"DAIRY 2\",\"marker\":{\"color\":\"#00cc96\",\"symbol\":\"circle\"},\"mode\":\"markers\",\"name\":\"DAIRY 2\",\"orientation\":\"v\",\"showlegend\":true,\"x\":[0.7731963891820776,0.7702476902719697,0.7702476902719697,0.7874271797933858,0.7849259541384588,0.24617002605336083,0.24434568030979928,0.714796630948739,0.3960978495870836,0.7170109223401898,-0.0618246098961872],\"xaxis\":\"x\",\"y\":[0.28122777332449567,0.3103873856249986,0.31038738562499857,-0.014908478813569888,0.00850949311666713,0.1523321349126102,0.1668076355898885,0.30988431054813637,0.1969168407502723,0.30146543372855295,-0.5654250148404258],\"yaxis\":\"y\",\"type\":\"scatter\"},{\"customdata\":[[\"MAIONESE VEGETAL SUPERBOM\"],[\"MAIONESE FUGINI\"],[\"NOT MAYO\"],[\"NOT MAYO garlic\"],[\"NOT MAYO AZEITONA\"],[\"NOT MAYO PICANTE\"],[\"MAIONESE V-MAYO\"],[\"MAIONESE V-MAYO ApepperDA\"],[\"MAIONESE V-MAYO TRUFADA\"],[\"MAIONESE V-MAYO DE ABACATE\"],[\"MAIONESE V-MAYO DE garlic\"],[\"MAIONESE HELLMANS\"],[\"MAIONESE VEGANA FUGINI\"],[\"MAIONESE DEL\\u00cdCIAS DE GOI\\u00c1S\"]],\"hovertemplate\":\"Classification=EGG 1<br>x=%{x}<br>y=%{y}<br>Description=%{customdata[0]}<extra></extra>\",\"legendgroup\":\"EGG 1\",\"marker\":{\"color\":\"#ab63fa\",\"symbol\":\"circle\"},\"mode\":\"markers\",\"name\":\"EGG 1\",\"orientation\":\"v\",\"showlegend\":true,\"x\":[-0.45585481642954334,-0.2739573785383412,-0.4802968935591288,-0.4917659479599891,-0.41641291529018803,-0.40247012921564573,-0.26151641062660663,-0.2615164106266067,-0.2615164106266068,-0.2615164106266067,-0.2615164106266068,-0.29734610114131765,-0.23597978980061932,-0.14660354691524782],\"xaxis\":\"x\",\"y\":[-0.37964140750280956,-0.49480324680923815,-0.7780498794549787,-0.761992617316136,-0.6618513537264845,-0.6559411937150157,-0.4805586706487075,-0.48055867064870716,-0.48055867064870744,-0.48055867064870744,-0.4805586706487073,-0.5242612324774741,-0.9545624899826264,-0.22953157028200818],\"yaxis\":\"y\",\"type\":\"scatter\"},{\"customdata\":[[\"Ovos Novos\"],[\"Ovos Novos\"]],\"hovertemplate\":\"Classification=EGG 2<br>x=%{x}<br>y=%{y}<br>Description=%{customdata[0]}<extra></extra>\",\"legendgroup\":\"EGG 2\",\"marker\":{\"color\":\"#FFA15A\",\"symbol\":\"circle\"},\"mode\":\"markers\",\"name\":\"EGG 2\",\"orientation\":\"v\",\"showlegend\":true,\"x\":[-0.45392599906819503,-0.41683040725879483],\"xaxis\":\"x\",\"y\":[-0.4496385553465792,-0.6067849733356417],\"yaxis\":\"y\",\"type\":\"scatter\"}],                        {\"template\":{\"data\":{\"bar\":[{\"error_x\":{\"color\":\"#2a3f5f\"},\"error_y\":{\"color\":\"#2a3f5f\"},\"marker\":{\"line\":{\"color\":\"#E5ECF6\",\"width\":0.5},\"pattern\":{\"fillmode\":\"overlay\",\"size\":10,\"solidity\":0.2}},\"type\":\"bar\"}],\"barpolar\":[{\"marker\":{\"line\":{\"color\":\"#E5ECF6\",\"width\":0.5},\"pattern\":{\"fillmode\":\"overlay\",\"size\":10,\"solidity\":0.2}},\"type\":\"barpolar\"}],\"carpet\":[{\"aaxis\":{\"endlinecolor\":\"#2a3f5f\",\"gridcolor\":\"white\",\"linecolor\":\"white\",\"minorgridcolor\":\"white\",\"startlinecolor\":\"#2a3f5f\"},\"baxis\":{\"endlinecolor\":\"#2a3f5f\",\"gridcolor\":\"white\",\"linecolor\":\"white\",\"minorgridcolor\":\"white\",\"startlinecolor\":\"#2a3f5f\"},\"type\":\"carpet\"}],\"choropleth\":[{\"colorbar\":{\"outlinewidth\":0,\"ticks\":\"\"},\"type\":\"choropleth\"}],\"contour\":[{\"colorbar\":{\"outlinewidth\":0,\"ticks\":\"\"},\"colorscale\":[[0.0,\"#0d0887\"],[0.1111111111111111,\"#46039f\"],[0.2222222222222222,\"#7201a8\"],[0.3333333333333333,\"#9c179e\"],[0.4444444444444444,\"#bd3786\"],[0.5555555555555556,\"#d8576b\"],[0.6666666666666666,\"#ed7953\"],[0.7777777777777778,\"#fb9f3a\"],[0.8888888888888888,\"#fdca26\"],[1.0,\"#f0f921\"]],\"type\":\"contour\"}],\"contourcarpet\":[{\"colorbar\":{\"outlinewidth\":0,\"ticks\":\"\"},\"type\":\"contourcarpet\"}],\"heatmap\":[{\"colorbar\":{\"outlinewidth\":0,\"ticks\":\"\"},\"colorscale\":[[0.0,\"#0d0887\"],[0.1111111111111111,\"#46039f\"],[0.2222222222222222,\"#7201a8\"],[0.3333333333333333,\"#9c179e\"],[0.4444444444444444,\"#bd3786\"],[0.5555555555555556,\"#d8576b\"],[0.6666666666666666,\"#ed7953\"],[0.7777777777777778,\"#fb9f3a\"],[0.8888888888888888,\"#fdca26\"],[1.0,\"#f0f921\"]],\"type\":\"heatmap\"}],\"heatmapgl\":[{\"colorbar\":{\"outlinewidth\":0,\"ticks\":\"\"},\"colorscale\":[[0.0,\"#0d0887\"],[0.1111111111111111,\"#46039f\"],[0.2222222222222222,\"#7201a8\"],[0.3333333333333333,\"#9c179e\"],[0.4444444444444444,\"#bd3786\"],[0.5555555555555556,\"#d8576b\"],[0.6666666666666666,\"#ed7953\"],[0.7777777777777778,\"#fb9f3a\"],[0.8888888888888888,\"#fdca26\"],[1.0,\"#f0f921\"]],\"type\":\"heatmapgl\"}],\"histogram\":[{\"marker\":{\"pattern\":{\"fillmode\":\"overlay\",\"size\":10,\"solidity\":0.2}},\"type\":\"histogram\"}],\"histogram2d\":[{\"colorbar\":{\"outlinewidth\":0,\"ticks\":\"\"},\"colorscale\":[[0.0,\"#0d0887\"],[0.1111111111111111,\"#46039f\"],[0.2222222222222222,\"#7201a8\"],[0.3333333333333333,\"#9c179e\"],[0.4444444444444444,\"#bd3786\"],[0.5555555555555556,\"#d8576b\"],[0.6666666666666666,\"#ed7953\"],[0.7777777777777778,\"#fb9f3a\"],[0.8888888888888888,\"#fdca26\"],[1.0,\"#f0f921\"]],\"type\":\"histogram2d\"}],\"histogram2dcontour\":[{\"colorbar\":{\"outlinewidth\":0,\"ticks\":\"\"},\"colorscale\":[[0.0,\"#0d0887\"],[0.1111111111111111,\"#46039f\"],[0.2222222222222222,\"#7201a8\"],[0.3333333333333333,\"#9c179e\"],[0.4444444444444444,\"#bd3786\"],[0.5555555555555556,\"#d8576b\"],[0.6666666666666666,\"#ed7953\"],[0.7777777777777778,\"#fb9f3a\"],[0.8888888888888888,\"#fdca26\"],[1.0,\"#f0f921\"]],\"type\":\"histogram2dcontour\"}],\"mesh3d\":[{\"colorbar\":{\"outlinewidth\":0,\"ticks\":\"\"},\"type\":\"mesh3d\"}],\"parcoords\":[{\"line\":{\"colorbar\":{\"outlinewidth\":0,\"ticks\":\"\"}},\"type\":\"parcoords\"}],\"pie\":[{\"automargin\":true,\"type\":\"pie\"}],\"scatter\":[{\"marker\":{\"colorbar\":{\"outlinewidth\":0,\"ticks\":\"\"}},\"type\":\"scatter\"}],\"scatter3d\":[{\"line\":{\"colorbar\":{\"outlinewidth\":0,\"ticks\":\"\"}},\"marker\":{\"colorbar\":{\"outlinewidth\":0,\"ticks\":\"\"}},\"type\":\"scatter3d\"}],\"scattercarpet\":[{\"marker\":{\"colorbar\":{\"outlinewidth\":0,\"ticks\":\"\"}},\"type\":\"scattercarpet\"}],\"scattergeo\":[{\"marker\":{\"colorbar\":{\"outlinewidth\":0,\"ticks\":\"\"}},\"type\":\"scattergeo\"}],\"scattergl\":[{\"marker\":{\"colorbar\":{\"outlinewidth\":0,\"ticks\":\"\"}},\"type\":\"scattergl\"}],\"scattermapbox\":[{\"marker\":{\"colorbar\":{\"outlinewidth\":0,\"ticks\":\"\"}},\"type\":\"scattermapbox\"}],\"scatterpolar\":[{\"marker\":{\"colorbar\":{\"outlinewidth\":0,\"ticks\":\"\"}},\"type\":\"scatterpolar\"}],\"scatterpolargl\":[{\"marker\":{\"colorbar\":{\"outlinewidth\":0,\"ticks\":\"\"}},\"type\":\"scatterpolargl\"}],\"scatterternary\":[{\"marker\":{\"colorbar\":{\"outlinewidth\":0,\"ticks\":\"\"}},\"type\":\"scatterternary\"}],\"surface\":[{\"colorbar\":{\"outlinewidth\":0,\"ticks\":\"\"},\"colorscale\":[[0.0,\"#0d0887\"],[0.1111111111111111,\"#46039f\"],[0.2222222222222222,\"#7201a8\"],[0.3333333333333333,\"#9c179e\"],[0.4444444444444444,\"#bd3786\"],[0.5555555555555556,\"#d8576b\"],[0.6666666666666666,\"#ed7953\"],[0.7777777777777778,\"#fb9f3a\"],[0.8888888888888888,\"#fdca26\"],[1.0,\"#f0f921\"]],\"type\":\"surface\"}],\"table\":[{\"cells\":{\"fill\":{\"color\":\"#EBF0F8\"},\"line\":{\"color\":\"white\"}},\"header\":{\"fill\":{\"color\":\"#C8D4E3\"},\"line\":{\"color\":\"white\"}},\"type\":\"table\"}]},\"layout\":{\"annotationdefaults\":{\"arrowcolor\":\"#2a3f5f\",\"arrowhead\":0,\"arrowwidth\":1},\"autotypenumbers\":\"strict\",\"coloraxis\":{\"colorbar\":{\"outlinewidth\":0,\"ticks\":\"\"}},\"colorscale\":{\"diverging\":[[0,\"#8e0152\"],[0.1,\"#c51b7d\"],[0.2,\"#de77ae\"],[0.3,\"#f1b6da\"],[0.4,\"#fde0ef\"],[0.5,\"#f7f7f7\"],[0.6,\"#e6f5d0\"],[0.7,\"#b8e186\"],[0.8,\"#7fbc41\"],[0.9,\"#4d9221\"],[1,\"#276419\"]],\"sequential\":[[0.0,\"#0d0887\"],[0.1111111111111111,\"#46039f\"],[0.2222222222222222,\"#7201a8\"],[0.3333333333333333,\"#9c179e\"],[0.4444444444444444,\"#bd3786\"],[0.5555555555555556,\"#d8576b\"],[0.6666666666666666,\"#ed7953\"],[0.7777777777777778,\"#fb9f3a\"],[0.8888888888888888,\"#fdca26\"],[1.0,\"#f0f921\"]],\"sequentialminus\":[[0.0,\"#0d0887\"],[0.1111111111111111,\"#46039f\"],[0.2222222222222222,\"#7201a8\"],[0.3333333333333333,\"#9c179e\"],[0.4444444444444444,\"#bd3786\"],[0.5555555555555556,\"#d8576b\"],[0.6666666666666666,\"#ed7953\"],[0.7777777777777778,\"#fb9f3a\"],[0.8888888888888888,\"#fdca26\"],[1.0,\"#f0f921\"]]},\"colorway\":[\"#636efa\",\"#EF553B\",\"#00cc96\",\"#ab63fa\",\"#FFA15A\",\"#19d3f3\",\"#FF6692\",\"#B6E880\",\"#FF97FF\",\"#FECB52\"],\"font\":{\"color\":\"#2a3f5f\"},\"geo\":{\"bgcolor\":\"white\",\"lakecolor\":\"white\",\"landcolor\":\"#E5ECF6\",\"showlakes\":true,\"showland\":true,\"subunitcolor\":\"white\"},\"hoverlabel\":{\"align\":\"left\"},\"hovermode\":\"closest\",\"mapbox\":{\"style\":\"light\"},\"paper_bgcolor\":\"white\",\"plot_bgcolor\":\"#E5ECF6\",\"polar\":{\"angularaxis\":{\"gridcolor\":\"white\",\"linecolor\":\"white\",\"ticks\":\"\"},\"bgcolor\":\"#E5ECF6\",\"radialaxis\":{\"gridcolor\":\"white\",\"linecolor\":\"white\",\"ticks\":\"\"}},\"scene\":{\"xaxis\":{\"backgroundcolor\":\"#E5ECF6\",\"gridcolor\":\"white\",\"gridwidth\":2,\"linecolor\":\"white\",\"showbackground\":true,\"ticks\":\"\",\"zerolinecolor\":\"white\"},\"yaxis\":{\"backgroundcolor\":\"#E5ECF6\",\"gridcolor\":\"white\",\"gridwidth\":2,\"linecolor\":\"white\",\"showbackground\":true,\"ticks\":\"\",\"zerolinecolor\":\"white\"},\"zaxis\":{\"backgroundcolor\":\"#E5ECF6\",\"gridcolor\":\"white\",\"gridwidth\":2,\"linecolor\":\"white\",\"showbackground\":true,\"ticks\":\"\",\"zerolinecolor\":\"white\"}},\"shapedefaults\":{\"line\":{\"color\":\"#2a3f5f\"}},\"ternary\":{\"aaxis\":{\"gridcolor\":\"white\",\"linecolor\":\"white\",\"ticks\":\"\"},\"baxis\":{\"gridcolor\":\"white\",\"linecolor\":\"white\",\"ticks\":\"\"},\"bgcolor\":\"#E5ECF6\",\"caxis\":{\"gridcolor\":\"white\",\"linecolor\":\"white\",\"ticks\":\"\"}},\"title\":{\"x\":0.05},\"xaxis\":{\"automargin\":true,\"gridcolor\":\"white\",\"linecolor\":\"white\",\"ticks\":\"\",\"title\":{\"standoff\":15},\"zerolinecolor\":\"white\",\"zerolinewidth\":2},\"yaxis\":{\"automargin\":true,\"gridcolor\":\"white\",\"linecolor\":\"white\",\"ticks\":\"\",\"title\":{\"standoff\":15},\"zerolinecolor\":\"white\",\"zerolinewidth\":2}}},\"xaxis\":{\"anchor\":\"y\",\"domain\":[0.0,1.0],\"title\":{\"text\":\"x\"}},\"yaxis\":{\"anchor\":\"x\",\"domain\":[0.0,1.0],\"title\":{\"text\":\"y\"}},\"legend\":{\"title\":{\"text\":\"Classification\"},\"tracegroupgap\":0},\"margin\":{\"t\":60},\"width\":800},                        {\"responsive\": true}                    ).then(function(){\n",
              "                            \n",
              "var gd = document.getElementById('e04a5792-8308-4d26-8b94-8d651d7b33c1');\n",
              "var x = new MutationObserver(function (mutations, observer) {{\n",
              "        var display = window.getComputedStyle(gd).display;\n",
              "        if (!display || display === 'none') {{\n",
              "            console.log([gd, 'removed!']);\n",
              "            Plotly.purge(gd);\n",
              "            observer.disconnect();\n",
              "        }}\n",
              "}});\n",
              "\n",
              "// Listen for the removal of the full notebook cells\n",
              "var notebookContainer = gd.closest('#notebook-container');\n",
              "if (notebookContainer) {{\n",
              "    x.observe(notebookContainer, {childList: true});\n",
              "}}\n",
              "\n",
              "// Listen for the clearing of the current output cell\n",
              "var outputEl = gd.closest('.output');\n",
              "if (outputEl) {{\n",
              "    x.observe(outputEl, {childList: true});\n",
              "}}\n",
              "\n",
              "                        })                };                            </script>        </div>\n",
              "</body>\n",
              "</html>"
            ]
          },
          "metadata": {}
        }
      ]
    },
    {
      "cell_type": "markdown",
      "source": [
        "# Trustworthiness"
      ],
      "metadata": {
        "id": "R59Go1ZKswV3"
      }
    },
    {
      "cell_type": "markdown",
      "source": [
        "## Neighborhood Preservation"
      ],
      "metadata": {
        "id": "9Or5iDXuMDpu"
      }
    },
    {
      "cell_type": "markdown",
      "source": [
        "### Trustworthiness"
      ],
      "metadata": {
        "id": "vvf7VGzBOWDu"
      }
    },
    {
      "cell_type": "markdown",
      "source": [
        "All Data (Ingredients + Nutrients)"
      ],
      "metadata": {
        "id": "5ljaZO-_m7gY"
      }
    },
    {
      "cell_type": "code",
      "source": [
        "kneigh = []\n",
        "y_tsne = []\n",
        "y_umap = []\n",
        "y_pca = []\n",
        "y_trimap = []\n",
        "\n",
        "precision = trustworthiness(X, X_tsne, n_neighbors=5, metric='euclidean')\n",
        "print(precision)\n",
        "\n",
        "for k in range(1,51):\n",
        "  kneigh.append(k)\n",
        "\n",
        "  precision = trustworthiness(X, X_tsne, n_neighbors=k, metric='euclidean')\n",
        "  y_tsne.append(precision)\n",
        "\n",
        "  precision = trustworthiness(X, X_umap, n_neighbors=k, metric='euclidean')\n",
        "  y_umap.append(precision)\n",
        "\n",
        "  precision = trustworthiness(X, X_pca, n_neighbors=k, metric='euclidean')\n",
        "  y_pca.append(precision)\n",
        "\n",
        "  precision = trustworthiness(X, X_trimap, n_neighbors=k, metric='euclidean')\n",
        "  y_trimap.append(precision)"
      ],
      "metadata": {
        "id": "ibt-sLx1MBAS",
        "colab": {
          "base_uri": "https://localhost:8080/"
        },
        "outputId": "b8d46be6-9c5b-49d9-deda-55e6ef8aa49f"
      },
      "execution_count": 26,
      "outputs": [
        {
          "output_type": "stream",
          "name": "stdout",
          "text": [
            "0.893191650443435\n"
          ]
        }
      ]
    },
    {
      "cell_type": "code",
      "source": [
        "fig = go.Figure()\n",
        "\n",
        "fig.add_trace(go.Scatter(x=kneigh, y=y_tsne,\n",
        "                    mode='lines+markers',\n",
        "                    name='t-SNE',\n",
        "                    line=dict(color=px.colors.qualitative.Plotly[0])))\n",
        "\n",
        "fig.add_trace(go.Scatter(x=kneigh, y=y_umap,\n",
        "                    mode='lines+markers',\n",
        "                    name='UMAP',\n",
        "                    line=dict(color=px.colors.qualitative.Plotly[1])))\n",
        "\n",
        "fig.add_trace(go.Scatter(x=kneigh, y=y_pca,\n",
        "                    mode='lines+markers',\n",
        "                    name='PCA',\n",
        "                    line=dict(color=px.colors.qualitative.Plotly[2])))\n",
        "\n",
        "fig.add_trace(go.Scatter(x=kneigh, y=y_trimap,\n",
        "                    mode='lines+markers',\n",
        "                    name='TRIMAP',\n",
        "                    line=dict(color=px.colors.qualitative.Plotly[3])))\n",
        "\n",
        "fig.update_layout(width=1000, template=\"simple_white\",\n",
        "                  xaxis_title=\"K (number of neighbors)\",\n",
        "                  yaxis_title=\"Trustworthiness\",\n",
        "                  font=dict(size=18),\n",
        "                  margin=dict(l=0,r=0,b=0,t=0))\n",
        "\n",
        "fig.show()\n",
        "fig.write_image('imgs/neighborhoodpres.eps', format='eps')"
      ],
      "metadata": {
        "colab": {
          "base_uri": "https://localhost:8080/",
          "height": 542
        },
        "id": "pRUOvepXO-5e",
        "outputId": "30b87668-367c-419b-8d40-0330d45ce61b"
      },
      "execution_count": 27,
      "outputs": [
        {
          "output_type": "display_data",
          "data": {
            "text/html": [
              "<html>\n",
              "<head><meta charset=\"utf-8\" /></head>\n",
              "<body>\n",
              "    <div>            <script src=\"https://cdnjs.cloudflare.com/ajax/libs/mathjax/2.7.5/MathJax.js?config=TeX-AMS-MML_SVG\"></script><script type=\"text/javascript\">if (window.MathJax) {MathJax.Hub.Config({SVG: {font: \"STIX-Web\"}});}</script>                <script type=\"text/javascript\">window.PlotlyConfig = {MathJaxConfig: 'local'};</script>\n",
              "        <script src=\"https://cdn.plot.ly/plotly-2.8.3.min.js\"></script>                <div id=\"4a8276ab-c64c-4a58-9c54-2d0206c5d11b\" class=\"plotly-graph-div\" style=\"height:525px; width:1000px;\"></div>            <script type=\"text/javascript\">                                    window.PLOTLYENV=window.PLOTLYENV || {};                                    if (document.getElementById(\"4a8276ab-c64c-4a58-9c54-2d0206c5d11b\")) {                    Plotly.newPlot(                        \"4a8276ab-c64c-4a58-9c54-2d0206c5d11b\",                        [{\"line\":{\"color\":\"#636EFA\"},\"mode\":\"lines+markers\",\"name\":\"t-SNE\",\"x\":[1,2,3,4,5,6,7,8,9,10,11,12,13,14,15,16,17,18,19,20,21,22,23,24,25,26,27,28,29,30,31,32,33,34,35,36,37,38,39,40,41,42,43,44,45,46,47,48,49,50],\"y\":[0.9917883211678832,0.9663010238000266,0.9430272563595201,0.9183236535721008,0.893191650443435,0.8701430241727166,0.8505605687722176,0.8408014327750736,0.8244090422981893,0.8099585523936688,0.7926592600505644,0.7805145162046808,0.7720809817447045,0.7649167978458147,0.7577638387657292,0.7522581899904919,0.7460647911338448,0.7378125435382019,0.728371271427998,0.7219236104961776,0.7165611671135548,0.7098474661450905,0.7053850397550638,0.7025877936118927,0.7007112410181464,0.6995422844765615,0.698181838946563,0.6975092103688137,0.6960867626531562,0.6939519213639747,0.6932094947032752,0.6916880673674152,0.6901911574381755,0.6895939067018305,0.6878705586348401,0.6876106403783311,0.6864869315956272,0.6855187665711887,0.6844174214440695,0.683164783617472,0.6816789063867884,0.6809783623594365,0.6802673004950186,0.6797129749293286,0.6781760962467485,0.6767348508080941,0.6752626670577528,0.6751356099182186,0.6740272518822423,0.6720011565289674],\"type\":\"scatter\"},{\"line\":{\"color\":\"#EF553B\"},\"mode\":\"lines+markers\",\"name\":\"UMAP\",\"x\":[1,2,3,4,5,6,7,8,9,10,11,12,13,14,15,16,17,18,19,20,21,22,23,24,25,26,27,28,29,30,31,32,33,34,35,36,37,38,39,40,41,42,43,44,45,46,47,48,49,50],\"y\":[0.9402835078810959,0.9147786198643797,0.9034262081751252,0.8810128794600844,0.8612102530824141,0.8447829712410837,0.8304054845892418,0.816207408629651,0.8059765706629298,0.7959859801385296,0.7861186991621775,0.7762182824445383,0.7663783793199554,0.7589028948899113,0.749582784365393,0.7433244734491602,0.7377178175618073,0.728386421589116,0.7231074959004623,0.716992827415213,0.7143599599497675,0.7119181505779444,0.7091533387194189,0.7063067935412948,0.7040214346608209,0.7021702598042335,0.7004145681296468,0.6979542119426674,0.6958805080218511,0.6920001676674317,0.6872339643673022,0.6855818999840739,0.6838469341355067,0.6822915183309695,0.681970401730589,0.680416062347557,0.6795325463803725,0.6765037781001104,0.6730135611622288,0.6696850095833754,0.6669767891299392,0.6650148175212114,0.6626437415040964,0.6606348322909493,0.6589553914282176,0.656127418446793,0.6542549431044726,0.6527822288691854,0.6506218501175761,0.6483989302107052],\"type\":\"scatter\"},{\"line\":{\"color\":\"#00CC96\"},\"mode\":\"lines+markers\",\"name\":\"PCA\",\"x\":[1,2,3,4,5,6,7,8,9,10,11,12,13,14,15,16,17,18,19,20,21,22,23,24,25,26,27,28,29,30,31,32,33,34,35,36,37,38,39,40,41,42,43,44,45,46,47,48,49,50],\"y\":[0.8377895906061568,0.8161747108097328,0.8055822949533843,0.7978442365088327,0.7936729396495782,0.7869275181046125,0.7823332942693074,0.7733960344306026,0.7711229732885889,0.7681771398369913,0.7642969056012534,0.7608003845973453,0.7551930915551839,0.7491407257359252,0.7462555612839167,0.743977259630622,0.739918158567775,0.739746854719298,0.7375500668587505,0.7347006995483929,0.7327057099865368,0.7309753745432813,0.7290720506605799,0.7292448286990811,0.7277584947022286,0.7287198813993556,0.7292790169139229,0.7287108587034106,0.7273717667028554,0.7270400410785207,0.7262060792395745,0.7253488811912725,0.7250817136350034,0.7254745318288058,0.7254254519120965,0.7253719515963112,0.725926717231065,0.7265660046045868,0.726053477456002,0.7264665086250379,0.725595302986756,0.7266630130312994,0.726920693185866,0.7272581842079611,0.7280034528675833,0.7286335251155347,0.7291148665418199,0.7295906331232418,0.7307588123497355,0.7308999241027865],\"type\":\"scatter\"},{\"line\":{\"color\":\"#AB63FA\"},\"mode\":\"lines+markers\",\"name\":\"TRIMAP\",\"x\":[1,2,3,4,5,6,7,8,9,10,11,12,13,14,15,16,17,18,19,20,21,22,23,24,25,26,27,28,29,30,31,32,33,34,35,36,37,38,39,40,41,42,43,44,45,46,47,48,49,50],\"y\":[0.9331958108536973,0.9152506315649515,0.9037515375153752,0.8930386383802533,0.8897577330737616,0.8762723078735805,0.8599281221922731,0.8515214641256221,0.8462618775429928,0.8378883974519458,0.830623254536298,0.8246130575488955,0.8194426299470456,0.8138018767770199,0.808183918580894,0.8021715720171724,0.7981636828644502,0.7923183221713535,0.7859385084785543,0.7786741049027421,0.772871907137766,0.765839479510479,0.7614264760096949,0.755533745827156,0.7506119839240044,0.7462501266849093,0.741299779582234,0.7391742145140339,0.7357495821054989,0.731881962128119,0.7296215429403203,0.7262666228698837,0.723788481195176,0.7234547929755808,0.7231303790769574,0.7201593584948183,0.7188632802763237,0.7169047506837933,0.7166836202600579,0.7140211506775614,0.7117463322134238,0.7098368042869321,0.7087975630833321,0.7071769631565211,0.7056279419051158,0.7034600133347371,0.7030662665553575,0.7020305879001532,0.7010466907382842,0.7001496259351621],\"type\":\"scatter\"}],                        {\"template\":{\"data\":{\"barpolar\":[{\"marker\":{\"line\":{\"color\":\"white\",\"width\":0.5},\"pattern\":{\"fillmode\":\"overlay\",\"size\":10,\"solidity\":0.2}},\"type\":\"barpolar\"}],\"bar\":[{\"error_x\":{\"color\":\"rgb(36,36,36)\"},\"error_y\":{\"color\":\"rgb(36,36,36)\"},\"marker\":{\"line\":{\"color\":\"white\",\"width\":0.5},\"pattern\":{\"fillmode\":\"overlay\",\"size\":10,\"solidity\":0.2}},\"type\":\"bar\"}],\"carpet\":[{\"aaxis\":{\"endlinecolor\":\"rgb(36,36,36)\",\"gridcolor\":\"white\",\"linecolor\":\"white\",\"minorgridcolor\":\"white\",\"startlinecolor\":\"rgb(36,36,36)\"},\"baxis\":{\"endlinecolor\":\"rgb(36,36,36)\",\"gridcolor\":\"white\",\"linecolor\":\"white\",\"minorgridcolor\":\"white\",\"startlinecolor\":\"rgb(36,36,36)\"},\"type\":\"carpet\"}],\"choropleth\":[{\"colorbar\":{\"outlinewidth\":1,\"tickcolor\":\"rgb(36,36,36)\",\"ticks\":\"outside\"},\"type\":\"choropleth\"}],\"contourcarpet\":[{\"colorbar\":{\"outlinewidth\":1,\"tickcolor\":\"rgb(36,36,36)\",\"ticks\":\"outside\"},\"type\":\"contourcarpet\"}],\"contour\":[{\"colorbar\":{\"outlinewidth\":1,\"tickcolor\":\"rgb(36,36,36)\",\"ticks\":\"outside\"},\"colorscale\":[[0.0,\"#440154\"],[0.1111111111111111,\"#482878\"],[0.2222222222222222,\"#3e4989\"],[0.3333333333333333,\"#31688e\"],[0.4444444444444444,\"#26828e\"],[0.5555555555555556,\"#1f9e89\"],[0.6666666666666666,\"#35b779\"],[0.7777777777777778,\"#6ece58\"],[0.8888888888888888,\"#b5de2b\"],[1.0,\"#fde725\"]],\"type\":\"contour\"}],\"heatmapgl\":[{\"colorbar\":{\"outlinewidth\":1,\"tickcolor\":\"rgb(36,36,36)\",\"ticks\":\"outside\"},\"colorscale\":[[0.0,\"#440154\"],[0.1111111111111111,\"#482878\"],[0.2222222222222222,\"#3e4989\"],[0.3333333333333333,\"#31688e\"],[0.4444444444444444,\"#26828e\"],[0.5555555555555556,\"#1f9e89\"],[0.6666666666666666,\"#35b779\"],[0.7777777777777778,\"#6ece58\"],[0.8888888888888888,\"#b5de2b\"],[1.0,\"#fde725\"]],\"type\":\"heatmapgl\"}],\"heatmap\":[{\"colorbar\":{\"outlinewidth\":1,\"tickcolor\":\"rgb(36,36,36)\",\"ticks\":\"outside\"},\"colorscale\":[[0.0,\"#440154\"],[0.1111111111111111,\"#482878\"],[0.2222222222222222,\"#3e4989\"],[0.3333333333333333,\"#31688e\"],[0.4444444444444444,\"#26828e\"],[0.5555555555555556,\"#1f9e89\"],[0.6666666666666666,\"#35b779\"],[0.7777777777777778,\"#6ece58\"],[0.8888888888888888,\"#b5de2b\"],[1.0,\"#fde725\"]],\"type\":\"heatmap\"}],\"histogram2dcontour\":[{\"colorbar\":{\"outlinewidth\":1,\"tickcolor\":\"rgb(36,36,36)\",\"ticks\":\"outside\"},\"colorscale\":[[0.0,\"#440154\"],[0.1111111111111111,\"#482878\"],[0.2222222222222222,\"#3e4989\"],[0.3333333333333333,\"#31688e\"],[0.4444444444444444,\"#26828e\"],[0.5555555555555556,\"#1f9e89\"],[0.6666666666666666,\"#35b779\"],[0.7777777777777778,\"#6ece58\"],[0.8888888888888888,\"#b5de2b\"],[1.0,\"#fde725\"]],\"type\":\"histogram2dcontour\"}],\"histogram2d\":[{\"colorbar\":{\"outlinewidth\":1,\"tickcolor\":\"rgb(36,36,36)\",\"ticks\":\"outside\"},\"colorscale\":[[0.0,\"#440154\"],[0.1111111111111111,\"#482878\"],[0.2222222222222222,\"#3e4989\"],[0.3333333333333333,\"#31688e\"],[0.4444444444444444,\"#26828e\"],[0.5555555555555556,\"#1f9e89\"],[0.6666666666666666,\"#35b779\"],[0.7777777777777778,\"#6ece58\"],[0.8888888888888888,\"#b5de2b\"],[1.0,\"#fde725\"]],\"type\":\"histogram2d\"}],\"histogram\":[{\"marker\":{\"line\":{\"color\":\"white\",\"width\":0.6}},\"type\":\"histogram\"}],\"mesh3d\":[{\"colorbar\":{\"outlinewidth\":1,\"tickcolor\":\"rgb(36,36,36)\",\"ticks\":\"outside\"},\"type\":\"mesh3d\"}],\"parcoords\":[{\"line\":{\"colorbar\":{\"outlinewidth\":1,\"tickcolor\":\"rgb(36,36,36)\",\"ticks\":\"outside\"}},\"type\":\"parcoords\"}],\"pie\":[{\"automargin\":true,\"type\":\"pie\"}],\"scatter3d\":[{\"line\":{\"colorbar\":{\"outlinewidth\":1,\"tickcolor\":\"rgb(36,36,36)\",\"ticks\":\"outside\"}},\"marker\":{\"colorbar\":{\"outlinewidth\":1,\"tickcolor\":\"rgb(36,36,36)\",\"ticks\":\"outside\"}},\"type\":\"scatter3d\"}],\"scattercarpet\":[{\"marker\":{\"colorbar\":{\"outlinewidth\":1,\"tickcolor\":\"rgb(36,36,36)\",\"ticks\":\"outside\"}},\"type\":\"scattercarpet\"}],\"scattergeo\":[{\"marker\":{\"colorbar\":{\"outlinewidth\":1,\"tickcolor\":\"rgb(36,36,36)\",\"ticks\":\"outside\"}},\"type\":\"scattergeo\"}],\"scattergl\":[{\"marker\":{\"colorbar\":{\"outlinewidth\":1,\"tickcolor\":\"rgb(36,36,36)\",\"ticks\":\"outside\"}},\"type\":\"scattergl\"}],\"scattermapbox\":[{\"marker\":{\"colorbar\":{\"outlinewidth\":1,\"tickcolor\":\"rgb(36,36,36)\",\"ticks\":\"outside\"}},\"type\":\"scattermapbox\"}],\"scatterpolargl\":[{\"marker\":{\"colorbar\":{\"outlinewidth\":1,\"tickcolor\":\"rgb(36,36,36)\",\"ticks\":\"outside\"}},\"type\":\"scatterpolargl\"}],\"scatterpolar\":[{\"marker\":{\"colorbar\":{\"outlinewidth\":1,\"tickcolor\":\"rgb(36,36,36)\",\"ticks\":\"outside\"}},\"type\":\"scatterpolar\"}],\"scatter\":[{\"marker\":{\"colorbar\":{\"outlinewidth\":1,\"tickcolor\":\"rgb(36,36,36)\",\"ticks\":\"outside\"}},\"type\":\"scatter\"}],\"scatterternary\":[{\"marker\":{\"colorbar\":{\"outlinewidth\":1,\"tickcolor\":\"rgb(36,36,36)\",\"ticks\":\"outside\"}},\"type\":\"scatterternary\"}],\"surface\":[{\"colorbar\":{\"outlinewidth\":1,\"tickcolor\":\"rgb(36,36,36)\",\"ticks\":\"outside\"},\"colorscale\":[[0.0,\"#440154\"],[0.1111111111111111,\"#482878\"],[0.2222222222222222,\"#3e4989\"],[0.3333333333333333,\"#31688e\"],[0.4444444444444444,\"#26828e\"],[0.5555555555555556,\"#1f9e89\"],[0.6666666666666666,\"#35b779\"],[0.7777777777777778,\"#6ece58\"],[0.8888888888888888,\"#b5de2b\"],[1.0,\"#fde725\"]],\"type\":\"surface\"}],\"table\":[{\"cells\":{\"fill\":{\"color\":\"rgb(237,237,237)\"},\"line\":{\"color\":\"white\"}},\"header\":{\"fill\":{\"color\":\"rgb(217,217,217)\"},\"line\":{\"color\":\"white\"}},\"type\":\"table\"}]},\"layout\":{\"annotationdefaults\":{\"arrowhead\":0,\"arrowwidth\":1},\"autotypenumbers\":\"strict\",\"coloraxis\":{\"colorbar\":{\"outlinewidth\":1,\"tickcolor\":\"rgb(36,36,36)\",\"ticks\":\"outside\"}},\"colorscale\":{\"diverging\":[[0.0,\"rgb(103,0,31)\"],[0.1,\"rgb(178,24,43)\"],[0.2,\"rgb(214,96,77)\"],[0.3,\"rgb(244,165,130)\"],[0.4,\"rgb(253,219,199)\"],[0.5,\"rgb(247,247,247)\"],[0.6,\"rgb(209,229,240)\"],[0.7,\"rgb(146,197,222)\"],[0.8,\"rgb(67,147,195)\"],[0.9,\"rgb(33,102,172)\"],[1.0,\"rgb(5,48,97)\"]],\"sequential\":[[0.0,\"#440154\"],[0.1111111111111111,\"#482878\"],[0.2222222222222222,\"#3e4989\"],[0.3333333333333333,\"#31688e\"],[0.4444444444444444,\"#26828e\"],[0.5555555555555556,\"#1f9e89\"],[0.6666666666666666,\"#35b779\"],[0.7777777777777778,\"#6ece58\"],[0.8888888888888888,\"#b5de2b\"],[1.0,\"#fde725\"]],\"sequentialminus\":[[0.0,\"#440154\"],[0.1111111111111111,\"#482878\"],[0.2222222222222222,\"#3e4989\"],[0.3333333333333333,\"#31688e\"],[0.4444444444444444,\"#26828e\"],[0.5555555555555556,\"#1f9e89\"],[0.6666666666666666,\"#35b779\"],[0.7777777777777778,\"#6ece58\"],[0.8888888888888888,\"#b5de2b\"],[1.0,\"#fde725\"]]},\"colorway\":[\"#1F77B4\",\"#FF7F0E\",\"#2CA02C\",\"#D62728\",\"#9467BD\",\"#8C564B\",\"#E377C2\",\"#7F7F7F\",\"#BCBD22\",\"#17BECF\"],\"font\":{\"color\":\"rgb(36,36,36)\"},\"geo\":{\"bgcolor\":\"white\",\"lakecolor\":\"white\",\"landcolor\":\"white\",\"showlakes\":true,\"showland\":true,\"subunitcolor\":\"white\"},\"hoverlabel\":{\"align\":\"left\"},\"hovermode\":\"closest\",\"mapbox\":{\"style\":\"light\"},\"paper_bgcolor\":\"white\",\"plot_bgcolor\":\"white\",\"polar\":{\"angularaxis\":{\"gridcolor\":\"rgb(232,232,232)\",\"linecolor\":\"rgb(36,36,36)\",\"showgrid\":false,\"showline\":true,\"ticks\":\"outside\"},\"bgcolor\":\"white\",\"radialaxis\":{\"gridcolor\":\"rgb(232,232,232)\",\"linecolor\":\"rgb(36,36,36)\",\"showgrid\":false,\"showline\":true,\"ticks\":\"outside\"}},\"scene\":{\"xaxis\":{\"backgroundcolor\":\"white\",\"gridcolor\":\"rgb(232,232,232)\",\"gridwidth\":2,\"linecolor\":\"rgb(36,36,36)\",\"showbackground\":true,\"showgrid\":false,\"showline\":true,\"ticks\":\"outside\",\"zeroline\":false,\"zerolinecolor\":\"rgb(36,36,36)\"},\"yaxis\":{\"backgroundcolor\":\"white\",\"gridcolor\":\"rgb(232,232,232)\",\"gridwidth\":2,\"linecolor\":\"rgb(36,36,36)\",\"showbackground\":true,\"showgrid\":false,\"showline\":true,\"ticks\":\"outside\",\"zeroline\":false,\"zerolinecolor\":\"rgb(36,36,36)\"},\"zaxis\":{\"backgroundcolor\":\"white\",\"gridcolor\":\"rgb(232,232,232)\",\"gridwidth\":2,\"linecolor\":\"rgb(36,36,36)\",\"showbackground\":true,\"showgrid\":false,\"showline\":true,\"ticks\":\"outside\",\"zeroline\":false,\"zerolinecolor\":\"rgb(36,36,36)\"}},\"shapedefaults\":{\"fillcolor\":\"black\",\"line\":{\"width\":0},\"opacity\":0.3},\"ternary\":{\"aaxis\":{\"gridcolor\":\"rgb(232,232,232)\",\"linecolor\":\"rgb(36,36,36)\",\"showgrid\":false,\"showline\":true,\"ticks\":\"outside\"},\"baxis\":{\"gridcolor\":\"rgb(232,232,232)\",\"linecolor\":\"rgb(36,36,36)\",\"showgrid\":false,\"showline\":true,\"ticks\":\"outside\"},\"bgcolor\":\"white\",\"caxis\":{\"gridcolor\":\"rgb(232,232,232)\",\"linecolor\":\"rgb(36,36,36)\",\"showgrid\":false,\"showline\":true,\"ticks\":\"outside\"}},\"title\":{\"x\":0.05},\"xaxis\":{\"automargin\":true,\"gridcolor\":\"rgb(232,232,232)\",\"linecolor\":\"rgb(36,36,36)\",\"showgrid\":false,\"showline\":true,\"ticks\":\"outside\",\"title\":{\"standoff\":15},\"zeroline\":false,\"zerolinecolor\":\"rgb(36,36,36)\"},\"yaxis\":{\"automargin\":true,\"gridcolor\":\"rgb(232,232,232)\",\"linecolor\":\"rgb(36,36,36)\",\"showgrid\":false,\"showline\":true,\"ticks\":\"outside\",\"title\":{\"standoff\":15},\"zeroline\":false,\"zerolinecolor\":\"rgb(36,36,36)\"}}},\"font\":{\"size\":18},\"margin\":{\"l\":0,\"r\":0,\"b\":0,\"t\":0},\"width\":1000,\"xaxis\":{\"title\":{\"text\":\"K (number of neighbors)\"}},\"yaxis\":{\"title\":{\"text\":\"Trustworthiness\"}}},                        {\"responsive\": true}                    ).then(function(){\n",
              "                            \n",
              "var gd = document.getElementById('4a8276ab-c64c-4a58-9c54-2d0206c5d11b');\n",
              "var x = new MutationObserver(function (mutations, observer) {{\n",
              "        var display = window.getComputedStyle(gd).display;\n",
              "        if (!display || display === 'none') {{\n",
              "            console.log([gd, 'removed!']);\n",
              "            Plotly.purge(gd);\n",
              "            observer.disconnect();\n",
              "        }}\n",
              "}});\n",
              "\n",
              "// Listen for the removal of the full notebook cells\n",
              "var notebookContainer = gd.closest('#notebook-container');\n",
              "if (notebookContainer) {{\n",
              "    x.observe(notebookContainer, {childList: true});\n",
              "}}\n",
              "\n",
              "// Listen for the clearing of the current output cell\n",
              "var outputEl = gd.closest('.output');\n",
              "if (outputEl) {{\n",
              "    x.observe(outputEl, {childList: true});\n",
              "}}\n",
              "\n",
              "                        })                };                            </script>        </div>\n",
              "</body>\n",
              "</html>"
            ]
          },
          "metadata": {}
        }
      ]
    },
    {
      "cell_type": "markdown",
      "source": [
        "Only Ingredients"
      ],
      "metadata": {
        "id": "LSrCqERXPI-W"
      }
    },
    {
      "cell_type": "code",
      "source": [
        "kneigh = []\n",
        "y_tsne = []\n",
        "y_umap = []\n",
        "y_pca = []\n",
        "y_isomap = []\n",
        "\n",
        "for k in range(1,51):\n",
        "  kneigh.append(k)\n",
        "\n",
        "  precision = trustworthiness(X, X_tsneI, n_neighbors=k, metric='euclidean')\n",
        "  y_tsne.append(precision)\n",
        "\n",
        "  precision = trustworthiness(X, X_umapI, n_neighbors=k, metric='euclidean')\n",
        "  y_umap.append(precision)\n",
        "\n",
        "  precision = trustworthiness(X, X_pcaI, n_neighbors=k, metric='euclidean')\n",
        "  y_pca.append(precision)\n",
        "\n",
        "  precision = trustworthiness(X, X_isomapI, n_neighbors=k, metric='euclidean')\n",
        "  y_isomap.append(precision)"
      ],
      "metadata": {
        "id": "iRZxyJ3vPKsK"
      },
      "execution_count": 28,
      "outputs": []
    },
    {
      "cell_type": "code",
      "source": [
        "fig = go.Figure()\n",
        "\n",
        "fig.add_trace(go.Scatter(x=kneigh, y=y_tsne,\n",
        "                    mode='lines+markers',\n",
        "                    name='t-SNE'))\n",
        "\n",
        "fig.add_trace(go.Scatter(x=kneigh, y=y_umap,\n",
        "                    mode='lines+markers',\n",
        "                    name='UMAP'))\n",
        "\n",
        "fig.add_trace(go.Scatter(x=kneigh, y=y_pca,\n",
        "                    mode='lines+markers',\n",
        "                    name='PCA'))\n",
        "\n",
        "fig.add_trace(go.Scatter(x=kneigh, y=y_isomap,\n",
        "                    mode='lines+markers',\n",
        "                    name='Isomap'))\n",
        "\n",
        "fig.show()"
      ],
      "metadata": {
        "colab": {
          "base_uri": "https://localhost:8080/",
          "height": 542
        },
        "id": "azCq0Zv8PRoA",
        "outputId": "2b33b4d5-ffcb-4b85-feef-62c0723e2e58"
      },
      "execution_count": 29,
      "outputs": [
        {
          "output_type": "display_data",
          "data": {
            "text/html": [
              "<html>\n",
              "<head><meta charset=\"utf-8\" /></head>\n",
              "<body>\n",
              "    <div>            <script src=\"https://cdnjs.cloudflare.com/ajax/libs/mathjax/2.7.5/MathJax.js?config=TeX-AMS-MML_SVG\"></script><script type=\"text/javascript\">if (window.MathJax) {MathJax.Hub.Config({SVG: {font: \"STIX-Web\"}});}</script>                <script type=\"text/javascript\">window.PlotlyConfig = {MathJaxConfig: 'local'};</script>\n",
              "        <script src=\"https://cdn.plot.ly/plotly-2.8.3.min.js\"></script>                <div id=\"bf89ad43-0934-48e6-8f29-b1016e7c526e\" class=\"plotly-graph-div\" style=\"height:525px; width:100%;\"></div>            <script type=\"text/javascript\">                                    window.PLOTLYENV=window.PLOTLYENV || {};                                    if (document.getElementById(\"bf89ad43-0934-48e6-8f29-b1016e7c526e\")) {                    Plotly.newPlot(                        \"bf89ad43-0934-48e6-8f29-b1016e7c526e\",                        [{\"mode\":\"lines+markers\",\"name\":\"t-SNE\",\"x\":[1,2,3,4,5,6,7,8,9,10,11,12,13,14,15,16,17,18,19,20,21,22,23,24,25,26,27,28,29,30,31,32,33,34,35,36,37,38,39,40,41,42,43,44,45,46,47,48,49,50],\"y\":[0.9802708134983603,0.9494748038824624,0.9246305506533327,0.8966382995886102,0.8711199437594636,0.8422655464012834,0.8215399039024962,0.8041965734400351,0.788462956816757,0.7749172438732649,0.7573481160437683,0.7461423010177759,0.7352372491638797,0.729266576366602,0.7259112867808519,0.7208443181490766,0.7157783461210572,0.7078768909754826,0.7012209056349729,0.6950706927595265,0.6881547760467932,0.682331608328919,0.677711410396191,0.6727544804494064,0.6689148702959444,0.6642808657469932,0.6607730610659996,0.6562526323256237,0.6525336469696186,0.649130749159043,0.6475284332759667,0.6445786550406115,0.6425213077290799,0.6404119602716656,0.6385455254435562,0.6367624126236355,0.636017341452124,0.635415521192794,0.6347665113443515,0.6344774538484819,0.6350036174071615,0.6355571793934964,0.6361017799267455,0.6362842390911292,0.6359175647219125,0.6345328493769749,0.6341121214172364,0.6334952788757137,0.6329953203838574,0.6328678304239401],\"type\":\"scatter\"},{\"mode\":\"lines+markers\",\"name\":\"UMAP\",\"x\":[1,2,3,4,5,6,7,8,9,10,11,12,13,14,15,16,17,18,19,20,21,22,23,24,25,26,27,28,29,30,31,32,33,34,35,36,37,38,39,40,41,42,43,44,45,46,47,48,49,50],\"y\":[0.874404950809267,0.8648318042813455,0.8499741519154322,0.831172192197037,0.821441704520874,0.8165792025813234,0.8053634907613578,0.7927185600748012,0.7838717409742966,0.7750591115190966,0.7671570497657454,0.7615824773697294,0.754306891025641,0.7482804345792302,0.743146015924844,0.7410275664851471,0.7373503836317136,0.7338054089431922,0.7283635510180133,0.7258862422149415,0.7246695007297288,0.7237677084606713,0.7200895763556072,0.7174158875676984,0.7143362562416271,0.7132702147868983,0.7108044677424881,0.7073047867317488,0.7052524384359544,0.7046836849109791,0.7026224350847537,0.7001234272973403,0.6998408478785547,0.6979011804198778,0.6969663630708669,0.6961833386040865,0.6944076487554749,0.6935772298121685,0.6931553719772514,0.6923375029422644,0.6910598011912668,0.6896874111963626,0.688921341709835,0.6881522761075527,0.6874713551343986,0.6864750065224257,0.6863567308198522,0.6858219385393298,0.6861670195413507,0.6857450576457407],\"type\":\"scatter\"},{\"mode\":\"lines+markers\",\"name\":\"PCA\",\"x\":[1,2,3,4,5,6,7,8,9,10,11,12,13,14,15,16,17,18,19,20,21,22,23,24,25,26,27,28,29,30,31,32,33,34,35,36,37,38,39,40,41,42,43,44,45,46,47,48,49,50],\"y\":[0.9972495504072781,0.9969751362850685,0.9964213772572509,0.9966154445968111,0.996390330953926,0.995891907079606,0.9956092034845111,0.9956755493221131,0.9952428365969687,0.9947049987482266,0.9941830594004507,0.9938792739552553,0.9934874059364549,0.9931308903505025,0.9928777376792499,0.9924222779266431,0.992387041773231,0.9922740954584188,0.992249480416408,0.9923972077097907,0.9921943058525382,0.9919311899813917,0.9917365419761704,0.9915711072786502,0.9914322250639386,0.9911980503487076,0.991307202978495,0.991180323726176,0.9910868918988781,0.9911047187902795,0.9912219724762213,0.9912929009396401,0.9914720502446551,0.9915151981195306,0.9916111931222089,0.9917689919775502,0.9920463447637361,0.9921457583866142,0.9921504006356742,0.9919339924005515,0.9920012355345008,0.9919579425973288,0.9918311537496985,0.9917175280877678,0.9917382788306701,0.9915063523086336,0.9911351278175131,0.9909917328395589,0.9910196321318023,0.9910650908959485],\"type\":\"scatter\"},{\"mode\":\"lines+markers\",\"name\":\"Isomap\",\"x\":[1,2,3,4,5,6,7,8,9,10,11,12,13,14,15,16,17,18,19,20,21,22,23,24,25,26,27,28,29,30,31,32,33,34,35,36,37,38,39,40,41,42,43,44,45,46,47,48,49,50],\"y\":[0.819052152755739,0.7739728759473474,0.7610255450380591,0.749838670646124,0.7392331819165044,0.7368328031106398,0.7305949451150435,0.727774454802959,0.7246008039237379,0.721253720548555,0.7170441192180323,0.7141210543595516,0.7135155379041249,0.711138431626174,0.7088073552156728,0.7074536476791425,0.706768968456948,0.7074030333368975,0.7084634222415747,0.70860267422297,0.7078213918021473,0.70776184072912,0.7088395861603747,0.7098827065242606,0.7119425161368895,0.7129420124870074,0.7144699124039242,0.7163899122632016,0.7187564622860984,0.7189920043593532,0.7206184377877268,0.7219501512979773,0.7232176516997602,0.7241611082314208,0.7242310299046505,0.725355139711308,0.7262142577359969,0.7263417099110328,0.7278156236781763,0.7283852853155789,0.7288422975656006,0.7295428896196159,0.73047160151876,0.7311065935897315,0.7314845782237087,0.7310243183492999,0.7306344622188128,0.7305368609716436,0.7302349911122434,0.7300184321804185],\"type\":\"scatter\"}],                        {\"template\":{\"data\":{\"bar\":[{\"error_x\":{\"color\":\"#2a3f5f\"},\"error_y\":{\"color\":\"#2a3f5f\"},\"marker\":{\"line\":{\"color\":\"#E5ECF6\",\"width\":0.5},\"pattern\":{\"fillmode\":\"overlay\",\"size\":10,\"solidity\":0.2}},\"type\":\"bar\"}],\"barpolar\":[{\"marker\":{\"line\":{\"color\":\"#E5ECF6\",\"width\":0.5},\"pattern\":{\"fillmode\":\"overlay\",\"size\":10,\"solidity\":0.2}},\"type\":\"barpolar\"}],\"carpet\":[{\"aaxis\":{\"endlinecolor\":\"#2a3f5f\",\"gridcolor\":\"white\",\"linecolor\":\"white\",\"minorgridcolor\":\"white\",\"startlinecolor\":\"#2a3f5f\"},\"baxis\":{\"endlinecolor\":\"#2a3f5f\",\"gridcolor\":\"white\",\"linecolor\":\"white\",\"minorgridcolor\":\"white\",\"startlinecolor\":\"#2a3f5f\"},\"type\":\"carpet\"}],\"choropleth\":[{\"colorbar\":{\"outlinewidth\":0,\"ticks\":\"\"},\"type\":\"choropleth\"}],\"contour\":[{\"colorbar\":{\"outlinewidth\":0,\"ticks\":\"\"},\"colorscale\":[[0.0,\"#0d0887\"],[0.1111111111111111,\"#46039f\"],[0.2222222222222222,\"#7201a8\"],[0.3333333333333333,\"#9c179e\"],[0.4444444444444444,\"#bd3786\"],[0.5555555555555556,\"#d8576b\"],[0.6666666666666666,\"#ed7953\"],[0.7777777777777778,\"#fb9f3a\"],[0.8888888888888888,\"#fdca26\"],[1.0,\"#f0f921\"]],\"type\":\"contour\"}],\"contourcarpet\":[{\"colorbar\":{\"outlinewidth\":0,\"ticks\":\"\"},\"type\":\"contourcarpet\"}],\"heatmap\":[{\"colorbar\":{\"outlinewidth\":0,\"ticks\":\"\"},\"colorscale\":[[0.0,\"#0d0887\"],[0.1111111111111111,\"#46039f\"],[0.2222222222222222,\"#7201a8\"],[0.3333333333333333,\"#9c179e\"],[0.4444444444444444,\"#bd3786\"],[0.5555555555555556,\"#d8576b\"],[0.6666666666666666,\"#ed7953\"],[0.7777777777777778,\"#fb9f3a\"],[0.8888888888888888,\"#fdca26\"],[1.0,\"#f0f921\"]],\"type\":\"heatmap\"}],\"heatmapgl\":[{\"colorbar\":{\"outlinewidth\":0,\"ticks\":\"\"},\"colorscale\":[[0.0,\"#0d0887\"],[0.1111111111111111,\"#46039f\"],[0.2222222222222222,\"#7201a8\"],[0.3333333333333333,\"#9c179e\"],[0.4444444444444444,\"#bd3786\"],[0.5555555555555556,\"#d8576b\"],[0.6666666666666666,\"#ed7953\"],[0.7777777777777778,\"#fb9f3a\"],[0.8888888888888888,\"#fdca26\"],[1.0,\"#f0f921\"]],\"type\":\"heatmapgl\"}],\"histogram\":[{\"marker\":{\"pattern\":{\"fillmode\":\"overlay\",\"size\":10,\"solidity\":0.2}},\"type\":\"histogram\"}],\"histogram2d\":[{\"colorbar\":{\"outlinewidth\":0,\"ticks\":\"\"},\"colorscale\":[[0.0,\"#0d0887\"],[0.1111111111111111,\"#46039f\"],[0.2222222222222222,\"#7201a8\"],[0.3333333333333333,\"#9c179e\"],[0.4444444444444444,\"#bd3786\"],[0.5555555555555556,\"#d8576b\"],[0.6666666666666666,\"#ed7953\"],[0.7777777777777778,\"#fb9f3a\"],[0.8888888888888888,\"#fdca26\"],[1.0,\"#f0f921\"]],\"type\":\"histogram2d\"}],\"histogram2dcontour\":[{\"colorbar\":{\"outlinewidth\":0,\"ticks\":\"\"},\"colorscale\":[[0.0,\"#0d0887\"],[0.1111111111111111,\"#46039f\"],[0.2222222222222222,\"#7201a8\"],[0.3333333333333333,\"#9c179e\"],[0.4444444444444444,\"#bd3786\"],[0.5555555555555556,\"#d8576b\"],[0.6666666666666666,\"#ed7953\"],[0.7777777777777778,\"#fb9f3a\"],[0.8888888888888888,\"#fdca26\"],[1.0,\"#f0f921\"]],\"type\":\"histogram2dcontour\"}],\"mesh3d\":[{\"colorbar\":{\"outlinewidth\":0,\"ticks\":\"\"},\"type\":\"mesh3d\"}],\"parcoords\":[{\"line\":{\"colorbar\":{\"outlinewidth\":0,\"ticks\":\"\"}},\"type\":\"parcoords\"}],\"pie\":[{\"automargin\":true,\"type\":\"pie\"}],\"scatter\":[{\"marker\":{\"colorbar\":{\"outlinewidth\":0,\"ticks\":\"\"}},\"type\":\"scatter\"}],\"scatter3d\":[{\"line\":{\"colorbar\":{\"outlinewidth\":0,\"ticks\":\"\"}},\"marker\":{\"colorbar\":{\"outlinewidth\":0,\"ticks\":\"\"}},\"type\":\"scatter3d\"}],\"scattercarpet\":[{\"marker\":{\"colorbar\":{\"outlinewidth\":0,\"ticks\":\"\"}},\"type\":\"scattercarpet\"}],\"scattergeo\":[{\"marker\":{\"colorbar\":{\"outlinewidth\":0,\"ticks\":\"\"}},\"type\":\"scattergeo\"}],\"scattergl\":[{\"marker\":{\"colorbar\":{\"outlinewidth\":0,\"ticks\":\"\"}},\"type\":\"scattergl\"}],\"scattermapbox\":[{\"marker\":{\"colorbar\":{\"outlinewidth\":0,\"ticks\":\"\"}},\"type\":\"scattermapbox\"}],\"scatterpolar\":[{\"marker\":{\"colorbar\":{\"outlinewidth\":0,\"ticks\":\"\"}},\"type\":\"scatterpolar\"}],\"scatterpolargl\":[{\"marker\":{\"colorbar\":{\"outlinewidth\":0,\"ticks\":\"\"}},\"type\":\"scatterpolargl\"}],\"scatterternary\":[{\"marker\":{\"colorbar\":{\"outlinewidth\":0,\"ticks\":\"\"}},\"type\":\"scatterternary\"}],\"surface\":[{\"colorbar\":{\"outlinewidth\":0,\"ticks\":\"\"},\"colorscale\":[[0.0,\"#0d0887\"],[0.1111111111111111,\"#46039f\"],[0.2222222222222222,\"#7201a8\"],[0.3333333333333333,\"#9c179e\"],[0.4444444444444444,\"#bd3786\"],[0.5555555555555556,\"#d8576b\"],[0.6666666666666666,\"#ed7953\"],[0.7777777777777778,\"#fb9f3a\"],[0.8888888888888888,\"#fdca26\"],[1.0,\"#f0f921\"]],\"type\":\"surface\"}],\"table\":[{\"cells\":{\"fill\":{\"color\":\"#EBF0F8\"},\"line\":{\"color\":\"white\"}},\"header\":{\"fill\":{\"color\":\"#C8D4E3\"},\"line\":{\"color\":\"white\"}},\"type\":\"table\"}]},\"layout\":{\"annotationdefaults\":{\"arrowcolor\":\"#2a3f5f\",\"arrowhead\":0,\"arrowwidth\":1},\"autotypenumbers\":\"strict\",\"coloraxis\":{\"colorbar\":{\"outlinewidth\":0,\"ticks\":\"\"}},\"colorscale\":{\"diverging\":[[0,\"#8e0152\"],[0.1,\"#c51b7d\"],[0.2,\"#de77ae\"],[0.3,\"#f1b6da\"],[0.4,\"#fde0ef\"],[0.5,\"#f7f7f7\"],[0.6,\"#e6f5d0\"],[0.7,\"#b8e186\"],[0.8,\"#7fbc41\"],[0.9,\"#4d9221\"],[1,\"#276419\"]],\"sequential\":[[0.0,\"#0d0887\"],[0.1111111111111111,\"#46039f\"],[0.2222222222222222,\"#7201a8\"],[0.3333333333333333,\"#9c179e\"],[0.4444444444444444,\"#bd3786\"],[0.5555555555555556,\"#d8576b\"],[0.6666666666666666,\"#ed7953\"],[0.7777777777777778,\"#fb9f3a\"],[0.8888888888888888,\"#fdca26\"],[1.0,\"#f0f921\"]],\"sequentialminus\":[[0.0,\"#0d0887\"],[0.1111111111111111,\"#46039f\"],[0.2222222222222222,\"#7201a8\"],[0.3333333333333333,\"#9c179e\"],[0.4444444444444444,\"#bd3786\"],[0.5555555555555556,\"#d8576b\"],[0.6666666666666666,\"#ed7953\"],[0.7777777777777778,\"#fb9f3a\"],[0.8888888888888888,\"#fdca26\"],[1.0,\"#f0f921\"]]},\"colorway\":[\"#636efa\",\"#EF553B\",\"#00cc96\",\"#ab63fa\",\"#FFA15A\",\"#19d3f3\",\"#FF6692\",\"#B6E880\",\"#FF97FF\",\"#FECB52\"],\"font\":{\"color\":\"#2a3f5f\"},\"geo\":{\"bgcolor\":\"white\",\"lakecolor\":\"white\",\"landcolor\":\"#E5ECF6\",\"showlakes\":true,\"showland\":true,\"subunitcolor\":\"white\"},\"hoverlabel\":{\"align\":\"left\"},\"hovermode\":\"closest\",\"mapbox\":{\"style\":\"light\"},\"paper_bgcolor\":\"white\",\"plot_bgcolor\":\"#E5ECF6\",\"polar\":{\"angularaxis\":{\"gridcolor\":\"white\",\"linecolor\":\"white\",\"ticks\":\"\"},\"bgcolor\":\"#E5ECF6\",\"radialaxis\":{\"gridcolor\":\"white\",\"linecolor\":\"white\",\"ticks\":\"\"}},\"scene\":{\"xaxis\":{\"backgroundcolor\":\"#E5ECF6\",\"gridcolor\":\"white\",\"gridwidth\":2,\"linecolor\":\"white\",\"showbackground\":true,\"ticks\":\"\",\"zerolinecolor\":\"white\"},\"yaxis\":{\"backgroundcolor\":\"#E5ECF6\",\"gridcolor\":\"white\",\"gridwidth\":2,\"linecolor\":\"white\",\"showbackground\":true,\"ticks\":\"\",\"zerolinecolor\":\"white\"},\"zaxis\":{\"backgroundcolor\":\"#E5ECF6\",\"gridcolor\":\"white\",\"gridwidth\":2,\"linecolor\":\"white\",\"showbackground\":true,\"ticks\":\"\",\"zerolinecolor\":\"white\"}},\"shapedefaults\":{\"line\":{\"color\":\"#2a3f5f\"}},\"ternary\":{\"aaxis\":{\"gridcolor\":\"white\",\"linecolor\":\"white\",\"ticks\":\"\"},\"baxis\":{\"gridcolor\":\"white\",\"linecolor\":\"white\",\"ticks\":\"\"},\"bgcolor\":\"#E5ECF6\",\"caxis\":{\"gridcolor\":\"white\",\"linecolor\":\"white\",\"ticks\":\"\"}},\"title\":{\"x\":0.05},\"xaxis\":{\"automargin\":true,\"gridcolor\":\"white\",\"linecolor\":\"white\",\"ticks\":\"\",\"title\":{\"standoff\":15},\"zerolinecolor\":\"white\",\"zerolinewidth\":2},\"yaxis\":{\"automargin\":true,\"gridcolor\":\"white\",\"linecolor\":\"white\",\"ticks\":\"\",\"title\":{\"standoff\":15},\"zerolinecolor\":\"white\",\"zerolinewidth\":2}}}},                        {\"responsive\": true}                    ).then(function(){\n",
              "                            \n",
              "var gd = document.getElementById('bf89ad43-0934-48e6-8f29-b1016e7c526e');\n",
              "var x = new MutationObserver(function (mutations, observer) {{\n",
              "        var display = window.getComputedStyle(gd).display;\n",
              "        if (!display || display === 'none') {{\n",
              "            console.log([gd, 'removed!']);\n",
              "            Plotly.purge(gd);\n",
              "            observer.disconnect();\n",
              "        }}\n",
              "}});\n",
              "\n",
              "// Listen for the removal of the full notebook cells\n",
              "var notebookContainer = gd.closest('#notebook-container');\n",
              "if (notebookContainer) {{\n",
              "    x.observe(notebookContainer, {childList: true});\n",
              "}}\n",
              "\n",
              "// Listen for the clearing of the current output cell\n",
              "var outputEl = gd.closest('.output');\n",
              "if (outputEl) {{\n",
              "    x.observe(outputEl, {childList: true});\n",
              "}}\n",
              "\n",
              "                        })                };                            </script>        </div>\n",
              "</body>\n",
              "</html>"
            ]
          },
          "metadata": {}
        }
      ]
    },
    {
      "cell_type": "markdown",
      "source": [
        "Only Nutrients"
      ],
      "metadata": {
        "id": "qyrbLg5kPTyu"
      }
    },
    {
      "cell_type": "code",
      "source": [
        "kneigh = []\n",
        "y_tsne = []\n",
        "y_umap = []\n",
        "y_pca = []\n",
        "y_isomap = []\n",
        "\n",
        "for k in range(1,51):\n",
        "  kneigh.append(k)\n",
        "\n",
        "  precision = trustworthiness(X, X_tsneN, n_neighbors=k, metric='euclidean')\n",
        "  y_tsne.append(precision)\n",
        "\n",
        "  precision = trustworthiness(X, X_umapN, n_neighbors=k, metric='euclidean')\n",
        "  y_umap.append(precision)\n",
        "\n",
        "  precision = trustworthiness(X, X_pcaN, n_neighbors=k, metric='euclidean')\n",
        "  y_pca.append(precision)\n",
        "\n",
        "  precision = trustworthiness(X, X_isomapN, n_neighbors=k, metric='euclidean')\n",
        "  y_isomap.append(precision)"
      ],
      "metadata": {
        "id": "Nn05BRoHPVMz"
      },
      "execution_count": 30,
      "outputs": []
    },
    {
      "cell_type": "code",
      "source": [
        "fig = go.Figure()\n",
        "\n",
        "fig.add_trace(go.Scatter(x=kneigh, y=y_tsne,\n",
        "                    mode='lines+markers',\n",
        "                    name='t-SNE'))\n",
        "\n",
        "fig.add_trace(go.Scatter(x=kneigh, y=y_umap,\n",
        "                    mode='lines+markers',\n",
        "                    name='UMAP'))\n",
        "\n",
        "fig.add_trace(go.Scatter(x=kneigh, y=y_pca,\n",
        "                    mode='lines+markers',\n",
        "                    name='PCA'))\n",
        "\n",
        "fig.add_trace(go.Scatter(x=kneigh, y=y_isomap,\n",
        "                    mode='lines+markers',\n",
        "                    name='Isomap'))\n",
        "\n",
        "fig.show()"
      ],
      "metadata": {
        "colab": {
          "base_uri": "https://localhost:8080/",
          "height": 542
        },
        "id": "1mCxna9YPaBE",
        "outputId": "28c95f32-4abc-447b-8255-4a694a8b3fe2"
      },
      "execution_count": 31,
      "outputs": [
        {
          "output_type": "display_data",
          "data": {
            "text/html": [
              "<html>\n",
              "<head><meta charset=\"utf-8\" /></head>\n",
              "<body>\n",
              "    <div>            <script src=\"https://cdnjs.cloudflare.com/ajax/libs/mathjax/2.7.5/MathJax.js?config=TeX-AMS-MML_SVG\"></script><script type=\"text/javascript\">if (window.MathJax) {MathJax.Hub.Config({SVG: {font: \"STIX-Web\"}});}</script>                <script type=\"text/javascript\">window.PlotlyConfig = {MathJaxConfig: 'local'};</script>\n",
              "        <script src=\"https://cdn.plot.ly/plotly-2.8.3.min.js\"></script>                <div id=\"1407fde9-f315-4f0f-85b8-f1414f020867\" class=\"plotly-graph-div\" style=\"height:525px; width:100%;\"></div>            <script type=\"text/javascript\">                                    window.PLOTLYENV=window.PLOTLYENV || {};                                    if (document.getElementById(\"1407fde9-f315-4f0f-85b8-f1414f020867\")) {                    Plotly.newPlot(                        \"1407fde9-f315-4f0f-85b8-f1414f020867\",                        [{\"mode\":\"lines+markers\",\"name\":\"t-SNE\",\"x\":[1,2,3,4,5,6,7,8,9,10,11,12,13,14,15,16,17,18,19,20,21,22,23,24,25,26,27,28,29,30,31,32,33,34,35,36,37,38,39,40,41,42,43,44,45,46,47,48,49,50],\"y\":[0.8560774357346874,0.8220914771971812,0.7967449239709788,0.7829111881906913,0.7657338308457712,0.7471948047239669,0.7402593851322317,0.7282866512663971,0.7180673870020037,0.7102478511224235,0.7049524114741506,0.699409033347404,0.6918656807413601,0.6882786855239234,0.6872486681560406,0.6835508687008385,0.6797672634271099,0.6789108240424836,0.6768830851993564,0.6769872192213466,0.6766707395716662,0.6752203795009712,0.673882321873521,0.6714370719998386,0.6693922786505906,0.6691767955670889,0.6698261783213988,0.6684555397431293,0.6679095796929122,0.6654626049231349,0.6634216699228919,0.6599513258480649,0.6567274320737191,0.6553490089751404,0.6538409046597777,0.6519476341588424,0.6497258127692911,0.648372248899036,0.6461228501901715,0.6438410000336259,0.6409839017122394,0.6392830755490602,0.6383588350209333,0.6368211533200638,0.6353709897188158,0.6343955351516788,0.632320645593135,0.6302993952450474,0.629335160667797,0.627585384365174],\"type\":\"scatter\"},{\"mode\":\"lines+markers\",\"name\":\"UMAP\",\"x\":[1,2,3,4,5,6,7,8,9,10,11,12,13,14,15,16,17,18,19,20,21,22,23,24,25,26,27,28,29,30,31,32,33,34,35,36,37,38,39,40,41,42,43,44,45,46,47,48,49,50],\"y\":[0.7824896858140273,0.7765257279617073,0.7620772946859903,0.7559355758113522,0.7420857668180836,0.739001277972646,0.7341282862611821,0.7237439155185216,0.7164048382933215,0.7102061253442377,0.705042705042705,0.7013015336991699,0.6971894161092531,0.6935044966991666,0.6908336674877318,0.686934552107644,0.6848951406649617,0.6816097875497753,0.6781970989787443,0.6765525841967001,0.6751073380171742,0.672903168846692,0.6716527177508125,0.6705987211682954,0.6696267202533187,0.6692616449947086,0.6684014572697891,0.6675322861664916,0.6669698555894467,0.6663276640783007,0.6653947994308241,0.664666945373467,0.66288267437748,0.6632969543002638,0.6624177181108357,0.6611719065222843,0.659480824698216,0.6595027639739085,0.6582617943066751,0.6562985473620498,0.6539706411895488,0.6521495554743637,0.6513177336163837,0.6513638250304226,0.6502477393781741,0.6493791871303005,0.6486684265547558,0.6482398900877162,0.647831431324144,0.6477350103003361],\"type\":\"scatter\"},{\"mode\":\"lines+markers\",\"name\":\"PCA\",\"x\":[1,2,3,4,5,6,7,8,9,10,11,12,13,14,15,16,17,18,19,20,21,22,23,24,25,26,27,28,29,30,31,32,33,34,35,36,37,38,39,40,41,42,43,44,45,46,47,48,49,50],\"y\":[0.8569105046017138,0.828247573460976,0.8023869369128473,0.7830557124035384,0.7595825221717499,0.7459077684422329,0.7341107074495097,0.7253973819541841,0.7246407542623938,0.7207224123063228,0.7141521815434859,0.707036489845692,0.7049932065217391,0.7031304022420448,0.7010215577323328,0.696473333909586,0.6943512361466326,0.69570644478789,0.6947210924688945,0.69456595531155,0.6934134903664484,0.6937329367181452,0.6935722559070456,0.6916841900900628,0.6900986481549141,0.6900002592621399,0.6894610614314592,0.6892758499917983,0.6871682693136191,0.6854134574072328,0.6846090794580172,0.684198817486861,0.6833883272898278,0.6825108178257262,0.6807977977699171,0.6802447628706338,0.6782862407862408,0.6773145554164987,0.6766465963520663,0.6751319815730186,0.6743173176347773,0.674180164819551,0.6731686785285853,0.672939444250537,0.6725171869193608,0.6715909073571436,0.6704793814820664,0.6689196607674869,0.6680104456763334,0.668108713722939],\"type\":\"scatter\"},{\"mode\":\"lines+markers\",\"name\":\"Isomap\",\"x\":[1,2,3,4,5,6,7,8,9,10,11,12,13,14,15,16,17,18,19,20,21,22,23,24,25,26,27,28,29,30,31,32,33,34,35,36,37,38,39,40,41,42,43,44,45,46,47,48,49,50],\"y\":[0.8020469692161218,0.76021805610956,0.73683530313564,0.7153612433115539,0.6956251351935973,0.6903182242524767,0.6859096058439783,0.6789731320298105,0.6751730156974101,0.6689824473559765,0.6617590204546726,0.654065240842362,0.6496111169175027,0.6477402612193763,0.646354852876592,0.6488919742415075,0.6502199488491048,0.6502298817056931,0.649408462186976,0.6489351810856283,0.6493122730203984,0.6491565135895032,0.6521896006714305,0.6528786320131514,0.652206795761783,0.6541236821823273,0.6559090234236704,0.657147068863855,0.6575796153647314,0.6565657518312428,0.6562559331687868,0.65621964086638,0.6557047971053358,0.6549441118560332,0.6559846438087811,0.6555353812935518,0.6548921945661076,0.655061379944738,0.6539548965916427,0.6538161168835537,0.6536406973171722,0.6518804043356472,0.6516567710854151,0.6512639888560818,0.6511860522730089,0.6509029936026829,0.6497029248738371,0.6486085888259802,0.6474719676936638,0.6476092377751275],\"type\":\"scatter\"}],                        {\"template\":{\"data\":{\"bar\":[{\"error_x\":{\"color\":\"#2a3f5f\"},\"error_y\":{\"color\":\"#2a3f5f\"},\"marker\":{\"line\":{\"color\":\"#E5ECF6\",\"width\":0.5},\"pattern\":{\"fillmode\":\"overlay\",\"size\":10,\"solidity\":0.2}},\"type\":\"bar\"}],\"barpolar\":[{\"marker\":{\"line\":{\"color\":\"#E5ECF6\",\"width\":0.5},\"pattern\":{\"fillmode\":\"overlay\",\"size\":10,\"solidity\":0.2}},\"type\":\"barpolar\"}],\"carpet\":[{\"aaxis\":{\"endlinecolor\":\"#2a3f5f\",\"gridcolor\":\"white\",\"linecolor\":\"white\",\"minorgridcolor\":\"white\",\"startlinecolor\":\"#2a3f5f\"},\"baxis\":{\"endlinecolor\":\"#2a3f5f\",\"gridcolor\":\"white\",\"linecolor\":\"white\",\"minorgridcolor\":\"white\",\"startlinecolor\":\"#2a3f5f\"},\"type\":\"carpet\"}],\"choropleth\":[{\"colorbar\":{\"outlinewidth\":0,\"ticks\":\"\"},\"type\":\"choropleth\"}],\"contour\":[{\"colorbar\":{\"outlinewidth\":0,\"ticks\":\"\"},\"colorscale\":[[0.0,\"#0d0887\"],[0.1111111111111111,\"#46039f\"],[0.2222222222222222,\"#7201a8\"],[0.3333333333333333,\"#9c179e\"],[0.4444444444444444,\"#bd3786\"],[0.5555555555555556,\"#d8576b\"],[0.6666666666666666,\"#ed7953\"],[0.7777777777777778,\"#fb9f3a\"],[0.8888888888888888,\"#fdca26\"],[1.0,\"#f0f921\"]],\"type\":\"contour\"}],\"contourcarpet\":[{\"colorbar\":{\"outlinewidth\":0,\"ticks\":\"\"},\"type\":\"contourcarpet\"}],\"heatmap\":[{\"colorbar\":{\"outlinewidth\":0,\"ticks\":\"\"},\"colorscale\":[[0.0,\"#0d0887\"],[0.1111111111111111,\"#46039f\"],[0.2222222222222222,\"#7201a8\"],[0.3333333333333333,\"#9c179e\"],[0.4444444444444444,\"#bd3786\"],[0.5555555555555556,\"#d8576b\"],[0.6666666666666666,\"#ed7953\"],[0.7777777777777778,\"#fb9f3a\"],[0.8888888888888888,\"#fdca26\"],[1.0,\"#f0f921\"]],\"type\":\"heatmap\"}],\"heatmapgl\":[{\"colorbar\":{\"outlinewidth\":0,\"ticks\":\"\"},\"colorscale\":[[0.0,\"#0d0887\"],[0.1111111111111111,\"#46039f\"],[0.2222222222222222,\"#7201a8\"],[0.3333333333333333,\"#9c179e\"],[0.4444444444444444,\"#bd3786\"],[0.5555555555555556,\"#d8576b\"],[0.6666666666666666,\"#ed7953\"],[0.7777777777777778,\"#fb9f3a\"],[0.8888888888888888,\"#fdca26\"],[1.0,\"#f0f921\"]],\"type\":\"heatmapgl\"}],\"histogram\":[{\"marker\":{\"pattern\":{\"fillmode\":\"overlay\",\"size\":10,\"solidity\":0.2}},\"type\":\"histogram\"}],\"histogram2d\":[{\"colorbar\":{\"outlinewidth\":0,\"ticks\":\"\"},\"colorscale\":[[0.0,\"#0d0887\"],[0.1111111111111111,\"#46039f\"],[0.2222222222222222,\"#7201a8\"],[0.3333333333333333,\"#9c179e\"],[0.4444444444444444,\"#bd3786\"],[0.5555555555555556,\"#d8576b\"],[0.6666666666666666,\"#ed7953\"],[0.7777777777777778,\"#fb9f3a\"],[0.8888888888888888,\"#fdca26\"],[1.0,\"#f0f921\"]],\"type\":\"histogram2d\"}],\"histogram2dcontour\":[{\"colorbar\":{\"outlinewidth\":0,\"ticks\":\"\"},\"colorscale\":[[0.0,\"#0d0887\"],[0.1111111111111111,\"#46039f\"],[0.2222222222222222,\"#7201a8\"],[0.3333333333333333,\"#9c179e\"],[0.4444444444444444,\"#bd3786\"],[0.5555555555555556,\"#d8576b\"],[0.6666666666666666,\"#ed7953\"],[0.7777777777777778,\"#fb9f3a\"],[0.8888888888888888,\"#fdca26\"],[1.0,\"#f0f921\"]],\"type\":\"histogram2dcontour\"}],\"mesh3d\":[{\"colorbar\":{\"outlinewidth\":0,\"ticks\":\"\"},\"type\":\"mesh3d\"}],\"parcoords\":[{\"line\":{\"colorbar\":{\"outlinewidth\":0,\"ticks\":\"\"}},\"type\":\"parcoords\"}],\"pie\":[{\"automargin\":true,\"type\":\"pie\"}],\"scatter\":[{\"marker\":{\"colorbar\":{\"outlinewidth\":0,\"ticks\":\"\"}},\"type\":\"scatter\"}],\"scatter3d\":[{\"line\":{\"colorbar\":{\"outlinewidth\":0,\"ticks\":\"\"}},\"marker\":{\"colorbar\":{\"outlinewidth\":0,\"ticks\":\"\"}},\"type\":\"scatter3d\"}],\"scattercarpet\":[{\"marker\":{\"colorbar\":{\"outlinewidth\":0,\"ticks\":\"\"}},\"type\":\"scattercarpet\"}],\"scattergeo\":[{\"marker\":{\"colorbar\":{\"outlinewidth\":0,\"ticks\":\"\"}},\"type\":\"scattergeo\"}],\"scattergl\":[{\"marker\":{\"colorbar\":{\"outlinewidth\":0,\"ticks\":\"\"}},\"type\":\"scattergl\"}],\"scattermapbox\":[{\"marker\":{\"colorbar\":{\"outlinewidth\":0,\"ticks\":\"\"}},\"type\":\"scattermapbox\"}],\"scatterpolar\":[{\"marker\":{\"colorbar\":{\"outlinewidth\":0,\"ticks\":\"\"}},\"type\":\"scatterpolar\"}],\"scatterpolargl\":[{\"marker\":{\"colorbar\":{\"outlinewidth\":0,\"ticks\":\"\"}},\"type\":\"scatterpolargl\"}],\"scatterternary\":[{\"marker\":{\"colorbar\":{\"outlinewidth\":0,\"ticks\":\"\"}},\"type\":\"scatterternary\"}],\"surface\":[{\"colorbar\":{\"outlinewidth\":0,\"ticks\":\"\"},\"colorscale\":[[0.0,\"#0d0887\"],[0.1111111111111111,\"#46039f\"],[0.2222222222222222,\"#7201a8\"],[0.3333333333333333,\"#9c179e\"],[0.4444444444444444,\"#bd3786\"],[0.5555555555555556,\"#d8576b\"],[0.6666666666666666,\"#ed7953\"],[0.7777777777777778,\"#fb9f3a\"],[0.8888888888888888,\"#fdca26\"],[1.0,\"#f0f921\"]],\"type\":\"surface\"}],\"table\":[{\"cells\":{\"fill\":{\"color\":\"#EBF0F8\"},\"line\":{\"color\":\"white\"}},\"header\":{\"fill\":{\"color\":\"#C8D4E3\"},\"line\":{\"color\":\"white\"}},\"type\":\"table\"}]},\"layout\":{\"annotationdefaults\":{\"arrowcolor\":\"#2a3f5f\",\"arrowhead\":0,\"arrowwidth\":1},\"autotypenumbers\":\"strict\",\"coloraxis\":{\"colorbar\":{\"outlinewidth\":0,\"ticks\":\"\"}},\"colorscale\":{\"diverging\":[[0,\"#8e0152\"],[0.1,\"#c51b7d\"],[0.2,\"#de77ae\"],[0.3,\"#f1b6da\"],[0.4,\"#fde0ef\"],[0.5,\"#f7f7f7\"],[0.6,\"#e6f5d0\"],[0.7,\"#b8e186\"],[0.8,\"#7fbc41\"],[0.9,\"#4d9221\"],[1,\"#276419\"]],\"sequential\":[[0.0,\"#0d0887\"],[0.1111111111111111,\"#46039f\"],[0.2222222222222222,\"#7201a8\"],[0.3333333333333333,\"#9c179e\"],[0.4444444444444444,\"#bd3786\"],[0.5555555555555556,\"#d8576b\"],[0.6666666666666666,\"#ed7953\"],[0.7777777777777778,\"#fb9f3a\"],[0.8888888888888888,\"#fdca26\"],[1.0,\"#f0f921\"]],\"sequentialminus\":[[0.0,\"#0d0887\"],[0.1111111111111111,\"#46039f\"],[0.2222222222222222,\"#7201a8\"],[0.3333333333333333,\"#9c179e\"],[0.4444444444444444,\"#bd3786\"],[0.5555555555555556,\"#d8576b\"],[0.6666666666666666,\"#ed7953\"],[0.7777777777777778,\"#fb9f3a\"],[0.8888888888888888,\"#fdca26\"],[1.0,\"#f0f921\"]]},\"colorway\":[\"#636efa\",\"#EF553B\",\"#00cc96\",\"#ab63fa\",\"#FFA15A\",\"#19d3f3\",\"#FF6692\",\"#B6E880\",\"#FF97FF\",\"#FECB52\"],\"font\":{\"color\":\"#2a3f5f\"},\"geo\":{\"bgcolor\":\"white\",\"lakecolor\":\"white\",\"landcolor\":\"#E5ECF6\",\"showlakes\":true,\"showland\":true,\"subunitcolor\":\"white\"},\"hoverlabel\":{\"align\":\"left\"},\"hovermode\":\"closest\",\"mapbox\":{\"style\":\"light\"},\"paper_bgcolor\":\"white\",\"plot_bgcolor\":\"#E5ECF6\",\"polar\":{\"angularaxis\":{\"gridcolor\":\"white\",\"linecolor\":\"white\",\"ticks\":\"\"},\"bgcolor\":\"#E5ECF6\",\"radialaxis\":{\"gridcolor\":\"white\",\"linecolor\":\"white\",\"ticks\":\"\"}},\"scene\":{\"xaxis\":{\"backgroundcolor\":\"#E5ECF6\",\"gridcolor\":\"white\",\"gridwidth\":2,\"linecolor\":\"white\",\"showbackground\":true,\"ticks\":\"\",\"zerolinecolor\":\"white\"},\"yaxis\":{\"backgroundcolor\":\"#E5ECF6\",\"gridcolor\":\"white\",\"gridwidth\":2,\"linecolor\":\"white\",\"showbackground\":true,\"ticks\":\"\",\"zerolinecolor\":\"white\"},\"zaxis\":{\"backgroundcolor\":\"#E5ECF6\",\"gridcolor\":\"white\",\"gridwidth\":2,\"linecolor\":\"white\",\"showbackground\":true,\"ticks\":\"\",\"zerolinecolor\":\"white\"}},\"shapedefaults\":{\"line\":{\"color\":\"#2a3f5f\"}},\"ternary\":{\"aaxis\":{\"gridcolor\":\"white\",\"linecolor\":\"white\",\"ticks\":\"\"},\"baxis\":{\"gridcolor\":\"white\",\"linecolor\":\"white\",\"ticks\":\"\"},\"bgcolor\":\"#E5ECF6\",\"caxis\":{\"gridcolor\":\"white\",\"linecolor\":\"white\",\"ticks\":\"\"}},\"title\":{\"x\":0.05},\"xaxis\":{\"automargin\":true,\"gridcolor\":\"white\",\"linecolor\":\"white\",\"ticks\":\"\",\"title\":{\"standoff\":15},\"zerolinecolor\":\"white\",\"zerolinewidth\":2},\"yaxis\":{\"automargin\":true,\"gridcolor\":\"white\",\"linecolor\":\"white\",\"ticks\":\"\",\"title\":{\"standoff\":15},\"zerolinecolor\":\"white\",\"zerolinewidth\":2}}}},                        {\"responsive\": true}                    ).then(function(){\n",
              "                            \n",
              "var gd = document.getElementById('1407fde9-f315-4f0f-85b8-f1414f020867');\n",
              "var x = new MutationObserver(function (mutations, observer) {{\n",
              "        var display = window.getComputedStyle(gd).display;\n",
              "        if (!display || display === 'none') {{\n",
              "            console.log([gd, 'removed!']);\n",
              "            Plotly.purge(gd);\n",
              "            observer.disconnect();\n",
              "        }}\n",
              "}});\n",
              "\n",
              "// Listen for the removal of the full notebook cells\n",
              "var notebookContainer = gd.closest('#notebook-container');\n",
              "if (notebookContainer) {{\n",
              "    x.observe(notebookContainer, {childList: true});\n",
              "}}\n",
              "\n",
              "// Listen for the clearing of the current output cell\n",
              "var outputEl = gd.closest('.output');\n",
              "if (outputEl) {{\n",
              "    x.observe(outputEl, {childList: true});\n",
              "}}\n",
              "\n",
              "                        })                };                            </script>        </div>\n",
              "</body>\n",
              "</html>"
            ]
          },
          "metadata": {}
        }
      ]
    },
    {
      "cell_type": "markdown",
      "source": [
        "### KNN"
      ],
      "metadata": {
        "id": "-fEEIT9OmY_J"
      }
    },
    {
      "cell_type": "code",
      "source": [
        "def neighborhood_preservation(lista_a, lista_b, k):\n",
        "  ans = []\n",
        "  size = len(lista_a)\n",
        "\n",
        "  for i in range(size):\n",
        "    prop = 0.0\n",
        "    for x in lista_b[i]:\n",
        "      if x in lista_a[i]: prop += 1\n",
        "    \n",
        "    ans.append(prop/k)\n",
        "\n",
        "  return sum(ans)/size"
      ],
      "metadata": {
        "id": "amjnC4GolDsY"
      },
      "execution_count": 32,
      "outputs": []
    },
    {
      "cell_type": "code",
      "source": [
        "def knn(X, k):\n",
        "  nearest_neighbors_ids = []\n",
        "    \n",
        "  for p in range(len(X)):\n",
        "    distances = np.linalg.norm(X - X[p], axis=1)\n",
        "    nearest_neighbors_ids.append(distances.argsort()[:(k)])\n",
        "\n",
        "  return nearest_neighbors_ids"
      ],
      "metadata": {
        "id": "39g2KOdlrmlx"
      },
      "execution_count": 33,
      "outputs": []
    },
    {
      "cell_type": "markdown",
      "source": [
        "Neighborhood Preservation"
      ],
      "metadata": {
        "id": "QnkOeVlEsZqg"
      }
    },
    {
      "cell_type": "code",
      "source": [
        "kneigh = []\n",
        "y_tsne = []\n",
        "y_umap = []\n",
        "y_pca = []\n",
        "y_trimap = []\n",
        "\n",
        "for k in range(1,51):\n",
        "  kneigh.append(k)\n",
        "  knn_x = knn(X, k)\n",
        "\n",
        "  knn_tsne = knn(X_tsne, k)\n",
        "  precision = neighborhood_preservation(knn_x, knn_tsne, k)\n",
        "  y_tsne.append(precision)\n",
        "\n",
        "  knn_umap = knn(X_umap, k)\n",
        "  precision = neighborhood_preservation(knn_x, knn_umap, k)\n",
        "  y_umap.append(precision)\n",
        "\n",
        "  knn_pca = knn(X_pca, k)\n",
        "  precision = neighborhood_preservation(knn_x, knn_pca, k)\n",
        "  y_pca.append(precision)\n",
        "\n",
        "  knn_trimap = knn(X_trimap, k)\n",
        "  precision = neighborhood_preservation(knn_x, knn_trimap, k) \n",
        "  y_trimap.append(precision)  "
      ],
      "metadata": {
        "id": "GCimKPJbqLZD"
      },
      "execution_count": 34,
      "outputs": []
    },
    {
      "cell_type": "code",
      "source": [
        "fig = go.Figure()\n",
        "\n",
        "fig.add_trace(go.Scatter(x=kneigh, y=y_tsne,\n",
        "                    mode='lines+markers',\n",
        "                    name='t-SNE',\n",
        "                    line=dict(color=px.colors.qualitative.Plotly[0])))\n",
        "\n",
        "fig.add_trace(go.Scatter(x=kneigh, y=y_umap,\n",
        "                    mode='lines+markers',\n",
        "                    name='UMAP',\n",
        "                    line=dict(color=px.colors.qualitative.Plotly[1])))\n",
        "\n",
        "fig.add_trace(go.Scatter(x=kneigh, y=y_pca,\n",
        "                    mode='lines+markers',\n",
        "                    name='PCA',\n",
        "                    line=dict(color=px.colors.qualitative.Plotly[2])))\n",
        "\n",
        "fig.add_trace(go.Scatter(x=kneigh, y=y_trimap,\n",
        "                    mode='lines+markers',\n",
        "                    name='TRIMAP',\n",
        "                    line=dict(color=px.colors.qualitative.Plotly[3])))\n",
        "\n",
        "fig.update_layout(width=1000, template=\"simple_white\",\n",
        "                  xaxis_title=\"K (number of neighbors)\",\n",
        "                  yaxis_title=\"Neighborhood Preservation\",\n",
        "                  font=dict(size=18),\n",
        "                  margin=dict(l=0,r=0,b=0,t=0))\n",
        "\n",
        "fig.show()\n",
        "fig.write_image('imgs/neighborhoodpres.eps', format='eps')"
      ],
      "metadata": {
        "id": "V9Z9caOyrfDT",
        "colab": {
          "base_uri": "https://localhost:8080/",
          "height": 542
        },
        "outputId": "e8779fb8-1d92-429a-ee76-da9c6ada17c6"
      },
      "execution_count": 35,
      "outputs": [
        {
          "output_type": "display_data",
          "data": {
            "text/html": [
              "<html>\n",
              "<head><meta charset=\"utf-8\" /></head>\n",
              "<body>\n",
              "    <div>            <script src=\"https://cdnjs.cloudflare.com/ajax/libs/mathjax/2.7.5/MathJax.js?config=TeX-AMS-MML_SVG\"></script><script type=\"text/javascript\">if (window.MathJax) {MathJax.Hub.Config({SVG: {font: \"STIX-Web\"}});}</script>                <script type=\"text/javascript\">window.PlotlyConfig = {MathJaxConfig: 'local'};</script>\n",
              "        <script src=\"https://cdn.plot.ly/plotly-2.8.3.min.js\"></script>                <div id=\"6e7109d7-14f8-43ea-a785-ef8a026fbc99\" class=\"plotly-graph-div\" style=\"height:525px; width:1000px;\"></div>            <script type=\"text/javascript\">                                    window.PLOTLYENV=window.PLOTLYENV || {};                                    if (document.getElementById(\"6e7109d7-14f8-43ea-a785-ef8a026fbc99\")) {                    Plotly.newPlot(                        \"6e7109d7-14f8-43ea-a785-ef8a026fbc99\",                        [{\"line\":{\"color\":\"#636EFA\"},\"mode\":\"lines+markers\",\"name\":\"t-SNE\",\"x\":[1,2,3,4,5,6,7,8,9,10,11,12,13,14,15,16,17,18,19,20,21,22,23,24,25,26,27,28,29,30,31,32,33,34,35,36,37,38,39,40,41,42,43,44,45,46,47,48,49,50],\"y\":[0.967391304347826,0.9130434782608695,0.815217391304346,0.7463768115942029,0.7101449275362323,0.6678743961352659,0.6180124223602493,0.5760869565217391,0.5462962962962963,0.5195652173913045,0.49802371541502055,0.4788647342995165,0.46376811594202855,0.453157349896481,0.4405797101449272,0.42866847826086957,0.4192242114236996,0.4080112721417062,0.39721586575133416,0.3867753623188407,0.3793995859213254,0.37252964426877455,0.3687775677378701,0.36428140096618344,0.3604347826086955,0.3589743589743587,0.3569511540526031,0.3568840579710145,0.35569715142428815,0.35652173913043494,0.35612435717625107,0.35756340579710144,0.3577075098814229,0.35763000852514903,0.35755693581780557,0.3560789049919486,0.3574226400313352,0.3593630816170859,0.361389817911557,0.3622282608695654,0.363025804171085,0.36507936507936484,0.3664475901584089,0.3687417654808956,0.37165861513687615,0.37200693131695,0.37341967314215124,0.3756038647342995,0.38021295474711664,0.3823188405797103],\"type\":\"scatter\"},{\"line\":{\"color\":\"#EF553B\"},\"mode\":\"lines+markers\",\"name\":\"UMAP\",\"x\":[1,2,3,4,5,6,7,8,9,10,11,12,13,14,15,16,17,18,19,20,21,22,23,24,25,26,27,28,29,30,31,32,33,34,35,36,37,38,39,40,41,42,43,44,45,46,47,48,49,50],\"y\":[0.9492753623188406,0.7083333333333334,0.6557971014492747,0.6621376811594203,0.6391304347826084,0.6250000000000008,0.5942028985507243,0.5656702898550725,0.5466988727858294,0.5257246376811595,0.5085638998682479,0.48731884057971014,0.47157190635451485,0.4583333333333344,0.44396135265700465,0.4316123188405797,0.41879795396419445,0.4076086956521735,0.39530892448512517,0.38605072463768125,0.3773291925465838,0.3695652173913039,0.36184625078764904,0.3570350241545892,0.35289855072463683,0.3507525083612035,0.34755770263016583,0.3445910973084884,0.3450774612693652,0.34589371980676314,0.3454885460495563,0.34386322463768115,0.3429951690821255,0.34537510656436465,0.3439958592132505,0.3452093397745571,0.3442028985507246,0.34563310450038104,0.3465254552211072,0.3461050724637679,0.3454400848356312,0.3448930296756382,0.34529828109201205,0.3458498023715417,0.34742351046698905,0.34845620667926847,0.34975331483194494,0.3498641304347827,0.3523365868086371,0.35376811594202895],\"type\":\"scatter\"},{\"line\":{\"color\":\"#00CC96\"},\"mode\":\"lines+markers\",\"name\":\"PCA\",\"x\":[1,2,3,4,5,6,7,8,9,10,11,12,13,14,15,16,17,18,19,20,21,22,23,24,25,26,27,28,29,30,31,32,33,34,35,36,37,38,39,40,41,42,43,44,45,46,47,48,49,50],\"y\":[0.9710144927536232,0.6757246376811594,0.5760869565217384,0.519927536231884,0.4811594202898554,0.44927536231884024,0.4275362318840583,0.4048913043478261,0.3844605475040259,0.372826086956522,0.3652832674571806,0.35477053140096615,0.34615384615384637,0.3416149068322978,0.33695652173913043,0.3319746376811594,0.33098891730605295,0.3266908212560387,0.32570556826849734,0.32717391304347837,0.3260869565217394,0.32229907773386085,0.32088846880907373,0.32472826086956524,0.3275362318840577,0.3290133779264213,0.3309178743961351,0.332427536231884,0.33333333333333326,0.33780193236714984,0.3416316035530623,0.343070652173913,0.34541062801932393,0.3483589087809041,0.35279503105590077,0.3540660225442836,0.35683509596553087,0.35917238749046554,0.36296915644741756,0.3654891304347828,0.3693001060445381,0.3711180124223602,0.3749578699022584,0.3773880105401842,0.38035426731078936,0.38500315059861345,0.38760407030527255,0.38956823671497604,0.3928571428571429,0.3973913043478259],\"type\":\"scatter\"},{\"line\":{\"color\":\"#AB63FA\"},\"mode\":\"lines+markers\",\"name\":\"TRIMAP\",\"x\":[1,2,3,4,5,6,7,8,9,10,11,12,13,14,15,16,17,18,19,20,21,22,23,24,25,26,27,28,29,30,31,32,33,34,35,36,37,38,39,40,41,42,43,44,45,46,47,48,49,50],\"y\":[0.9492753623188406,0.6539855072463768,0.5942028985507247,0.5842391304347826,0.5804347826086956,0.5736714975845421,0.5481366459627327,0.5276268115942029,0.5012077294685989,0.48297101449275326,0.4670619235836627,0.4525966183574884,0.4392419175027868,0.4246894409937891,0.4096618357487923,0.4008152173913043,0.39556692242114233,0.3913043478260866,0.3831045003813877,0.3797101449275362,0.37646652864044167,0.3710474308300393,0.36594202898550743,0.3614130434782609,0.3540579710144922,0.3476867335562988,0.34380032206119115,0.34045031055900654,0.3385807096451774,0.3369565217391306,0.3359046283309956,0.3350317028985507,0.33333333333333365,0.33120204603580566,0.33115942028985507,0.33232689210950067,0.33245201723462586,0.33266590389015993,0.334076551467856,0.3371376811594203,0.3383704489218805,0.33894064872325735,0.34015840916750917,0.34099143610013166,0.3413848631239938,0.34176118462507865,0.34196731421523224,0.3430706521739131,0.34272404614019536,0.3429710144927537],\"type\":\"scatter\"}],                        {\"template\":{\"data\":{\"barpolar\":[{\"marker\":{\"line\":{\"color\":\"white\",\"width\":0.5},\"pattern\":{\"fillmode\":\"overlay\",\"size\":10,\"solidity\":0.2}},\"type\":\"barpolar\"}],\"bar\":[{\"error_x\":{\"color\":\"rgb(36,36,36)\"},\"error_y\":{\"color\":\"rgb(36,36,36)\"},\"marker\":{\"line\":{\"color\":\"white\",\"width\":0.5},\"pattern\":{\"fillmode\":\"overlay\",\"size\":10,\"solidity\":0.2}},\"type\":\"bar\"}],\"carpet\":[{\"aaxis\":{\"endlinecolor\":\"rgb(36,36,36)\",\"gridcolor\":\"white\",\"linecolor\":\"white\",\"minorgridcolor\":\"white\",\"startlinecolor\":\"rgb(36,36,36)\"},\"baxis\":{\"endlinecolor\":\"rgb(36,36,36)\",\"gridcolor\":\"white\",\"linecolor\":\"white\",\"minorgridcolor\":\"white\",\"startlinecolor\":\"rgb(36,36,36)\"},\"type\":\"carpet\"}],\"choropleth\":[{\"colorbar\":{\"outlinewidth\":1,\"tickcolor\":\"rgb(36,36,36)\",\"ticks\":\"outside\"},\"type\":\"choropleth\"}],\"contourcarpet\":[{\"colorbar\":{\"outlinewidth\":1,\"tickcolor\":\"rgb(36,36,36)\",\"ticks\":\"outside\"},\"type\":\"contourcarpet\"}],\"contour\":[{\"colorbar\":{\"outlinewidth\":1,\"tickcolor\":\"rgb(36,36,36)\",\"ticks\":\"outside\"},\"colorscale\":[[0.0,\"#440154\"],[0.1111111111111111,\"#482878\"],[0.2222222222222222,\"#3e4989\"],[0.3333333333333333,\"#31688e\"],[0.4444444444444444,\"#26828e\"],[0.5555555555555556,\"#1f9e89\"],[0.6666666666666666,\"#35b779\"],[0.7777777777777778,\"#6ece58\"],[0.8888888888888888,\"#b5de2b\"],[1.0,\"#fde725\"]],\"type\":\"contour\"}],\"heatmapgl\":[{\"colorbar\":{\"outlinewidth\":1,\"tickcolor\":\"rgb(36,36,36)\",\"ticks\":\"outside\"},\"colorscale\":[[0.0,\"#440154\"],[0.1111111111111111,\"#482878\"],[0.2222222222222222,\"#3e4989\"],[0.3333333333333333,\"#31688e\"],[0.4444444444444444,\"#26828e\"],[0.5555555555555556,\"#1f9e89\"],[0.6666666666666666,\"#35b779\"],[0.7777777777777778,\"#6ece58\"],[0.8888888888888888,\"#b5de2b\"],[1.0,\"#fde725\"]],\"type\":\"heatmapgl\"}],\"heatmap\":[{\"colorbar\":{\"outlinewidth\":1,\"tickcolor\":\"rgb(36,36,36)\",\"ticks\":\"outside\"},\"colorscale\":[[0.0,\"#440154\"],[0.1111111111111111,\"#482878\"],[0.2222222222222222,\"#3e4989\"],[0.3333333333333333,\"#31688e\"],[0.4444444444444444,\"#26828e\"],[0.5555555555555556,\"#1f9e89\"],[0.6666666666666666,\"#35b779\"],[0.7777777777777778,\"#6ece58\"],[0.8888888888888888,\"#b5de2b\"],[1.0,\"#fde725\"]],\"type\":\"heatmap\"}],\"histogram2dcontour\":[{\"colorbar\":{\"outlinewidth\":1,\"tickcolor\":\"rgb(36,36,36)\",\"ticks\":\"outside\"},\"colorscale\":[[0.0,\"#440154\"],[0.1111111111111111,\"#482878\"],[0.2222222222222222,\"#3e4989\"],[0.3333333333333333,\"#31688e\"],[0.4444444444444444,\"#26828e\"],[0.5555555555555556,\"#1f9e89\"],[0.6666666666666666,\"#35b779\"],[0.7777777777777778,\"#6ece58\"],[0.8888888888888888,\"#b5de2b\"],[1.0,\"#fde725\"]],\"type\":\"histogram2dcontour\"}],\"histogram2d\":[{\"colorbar\":{\"outlinewidth\":1,\"tickcolor\":\"rgb(36,36,36)\",\"ticks\":\"outside\"},\"colorscale\":[[0.0,\"#440154\"],[0.1111111111111111,\"#482878\"],[0.2222222222222222,\"#3e4989\"],[0.3333333333333333,\"#31688e\"],[0.4444444444444444,\"#26828e\"],[0.5555555555555556,\"#1f9e89\"],[0.6666666666666666,\"#35b779\"],[0.7777777777777778,\"#6ece58\"],[0.8888888888888888,\"#b5de2b\"],[1.0,\"#fde725\"]],\"type\":\"histogram2d\"}],\"histogram\":[{\"marker\":{\"line\":{\"color\":\"white\",\"width\":0.6}},\"type\":\"histogram\"}],\"mesh3d\":[{\"colorbar\":{\"outlinewidth\":1,\"tickcolor\":\"rgb(36,36,36)\",\"ticks\":\"outside\"},\"type\":\"mesh3d\"}],\"parcoords\":[{\"line\":{\"colorbar\":{\"outlinewidth\":1,\"tickcolor\":\"rgb(36,36,36)\",\"ticks\":\"outside\"}},\"type\":\"parcoords\"}],\"pie\":[{\"automargin\":true,\"type\":\"pie\"}],\"scatter3d\":[{\"line\":{\"colorbar\":{\"outlinewidth\":1,\"tickcolor\":\"rgb(36,36,36)\",\"ticks\":\"outside\"}},\"marker\":{\"colorbar\":{\"outlinewidth\":1,\"tickcolor\":\"rgb(36,36,36)\",\"ticks\":\"outside\"}},\"type\":\"scatter3d\"}],\"scattercarpet\":[{\"marker\":{\"colorbar\":{\"outlinewidth\":1,\"tickcolor\":\"rgb(36,36,36)\",\"ticks\":\"outside\"}},\"type\":\"scattercarpet\"}],\"scattergeo\":[{\"marker\":{\"colorbar\":{\"outlinewidth\":1,\"tickcolor\":\"rgb(36,36,36)\",\"ticks\":\"outside\"}},\"type\":\"scattergeo\"}],\"scattergl\":[{\"marker\":{\"colorbar\":{\"outlinewidth\":1,\"tickcolor\":\"rgb(36,36,36)\",\"ticks\":\"outside\"}},\"type\":\"scattergl\"}],\"scattermapbox\":[{\"marker\":{\"colorbar\":{\"outlinewidth\":1,\"tickcolor\":\"rgb(36,36,36)\",\"ticks\":\"outside\"}},\"type\":\"scattermapbox\"}],\"scatterpolargl\":[{\"marker\":{\"colorbar\":{\"outlinewidth\":1,\"tickcolor\":\"rgb(36,36,36)\",\"ticks\":\"outside\"}},\"type\":\"scatterpolargl\"}],\"scatterpolar\":[{\"marker\":{\"colorbar\":{\"outlinewidth\":1,\"tickcolor\":\"rgb(36,36,36)\",\"ticks\":\"outside\"}},\"type\":\"scatterpolar\"}],\"scatter\":[{\"marker\":{\"colorbar\":{\"outlinewidth\":1,\"tickcolor\":\"rgb(36,36,36)\",\"ticks\":\"outside\"}},\"type\":\"scatter\"}],\"scatterternary\":[{\"marker\":{\"colorbar\":{\"outlinewidth\":1,\"tickcolor\":\"rgb(36,36,36)\",\"ticks\":\"outside\"}},\"type\":\"scatterternary\"}],\"surface\":[{\"colorbar\":{\"outlinewidth\":1,\"tickcolor\":\"rgb(36,36,36)\",\"ticks\":\"outside\"},\"colorscale\":[[0.0,\"#440154\"],[0.1111111111111111,\"#482878\"],[0.2222222222222222,\"#3e4989\"],[0.3333333333333333,\"#31688e\"],[0.4444444444444444,\"#26828e\"],[0.5555555555555556,\"#1f9e89\"],[0.6666666666666666,\"#35b779\"],[0.7777777777777778,\"#6ece58\"],[0.8888888888888888,\"#b5de2b\"],[1.0,\"#fde725\"]],\"type\":\"surface\"}],\"table\":[{\"cells\":{\"fill\":{\"color\":\"rgb(237,237,237)\"},\"line\":{\"color\":\"white\"}},\"header\":{\"fill\":{\"color\":\"rgb(217,217,217)\"},\"line\":{\"color\":\"white\"}},\"type\":\"table\"}]},\"layout\":{\"annotationdefaults\":{\"arrowhead\":0,\"arrowwidth\":1},\"autotypenumbers\":\"strict\",\"coloraxis\":{\"colorbar\":{\"outlinewidth\":1,\"tickcolor\":\"rgb(36,36,36)\",\"ticks\":\"outside\"}},\"colorscale\":{\"diverging\":[[0.0,\"rgb(103,0,31)\"],[0.1,\"rgb(178,24,43)\"],[0.2,\"rgb(214,96,77)\"],[0.3,\"rgb(244,165,130)\"],[0.4,\"rgb(253,219,199)\"],[0.5,\"rgb(247,247,247)\"],[0.6,\"rgb(209,229,240)\"],[0.7,\"rgb(146,197,222)\"],[0.8,\"rgb(67,147,195)\"],[0.9,\"rgb(33,102,172)\"],[1.0,\"rgb(5,48,97)\"]],\"sequential\":[[0.0,\"#440154\"],[0.1111111111111111,\"#482878\"],[0.2222222222222222,\"#3e4989\"],[0.3333333333333333,\"#31688e\"],[0.4444444444444444,\"#26828e\"],[0.5555555555555556,\"#1f9e89\"],[0.6666666666666666,\"#35b779\"],[0.7777777777777778,\"#6ece58\"],[0.8888888888888888,\"#b5de2b\"],[1.0,\"#fde725\"]],\"sequentialminus\":[[0.0,\"#440154\"],[0.1111111111111111,\"#482878\"],[0.2222222222222222,\"#3e4989\"],[0.3333333333333333,\"#31688e\"],[0.4444444444444444,\"#26828e\"],[0.5555555555555556,\"#1f9e89\"],[0.6666666666666666,\"#35b779\"],[0.7777777777777778,\"#6ece58\"],[0.8888888888888888,\"#b5de2b\"],[1.0,\"#fde725\"]]},\"colorway\":[\"#1F77B4\",\"#FF7F0E\",\"#2CA02C\",\"#D62728\",\"#9467BD\",\"#8C564B\",\"#E377C2\",\"#7F7F7F\",\"#BCBD22\",\"#17BECF\"],\"font\":{\"color\":\"rgb(36,36,36)\"},\"geo\":{\"bgcolor\":\"white\",\"lakecolor\":\"white\",\"landcolor\":\"white\",\"showlakes\":true,\"showland\":true,\"subunitcolor\":\"white\"},\"hoverlabel\":{\"align\":\"left\"},\"hovermode\":\"closest\",\"mapbox\":{\"style\":\"light\"},\"paper_bgcolor\":\"white\",\"plot_bgcolor\":\"white\",\"polar\":{\"angularaxis\":{\"gridcolor\":\"rgb(232,232,232)\",\"linecolor\":\"rgb(36,36,36)\",\"showgrid\":false,\"showline\":true,\"ticks\":\"outside\"},\"bgcolor\":\"white\",\"radialaxis\":{\"gridcolor\":\"rgb(232,232,232)\",\"linecolor\":\"rgb(36,36,36)\",\"showgrid\":false,\"showline\":true,\"ticks\":\"outside\"}},\"scene\":{\"xaxis\":{\"backgroundcolor\":\"white\",\"gridcolor\":\"rgb(232,232,232)\",\"gridwidth\":2,\"linecolor\":\"rgb(36,36,36)\",\"showbackground\":true,\"showgrid\":false,\"showline\":true,\"ticks\":\"outside\",\"zeroline\":false,\"zerolinecolor\":\"rgb(36,36,36)\"},\"yaxis\":{\"backgroundcolor\":\"white\",\"gridcolor\":\"rgb(232,232,232)\",\"gridwidth\":2,\"linecolor\":\"rgb(36,36,36)\",\"showbackground\":true,\"showgrid\":false,\"showline\":true,\"ticks\":\"outside\",\"zeroline\":false,\"zerolinecolor\":\"rgb(36,36,36)\"},\"zaxis\":{\"backgroundcolor\":\"white\",\"gridcolor\":\"rgb(232,232,232)\",\"gridwidth\":2,\"linecolor\":\"rgb(36,36,36)\",\"showbackground\":true,\"showgrid\":false,\"showline\":true,\"ticks\":\"outside\",\"zeroline\":false,\"zerolinecolor\":\"rgb(36,36,36)\"}},\"shapedefaults\":{\"fillcolor\":\"black\",\"line\":{\"width\":0},\"opacity\":0.3},\"ternary\":{\"aaxis\":{\"gridcolor\":\"rgb(232,232,232)\",\"linecolor\":\"rgb(36,36,36)\",\"showgrid\":false,\"showline\":true,\"ticks\":\"outside\"},\"baxis\":{\"gridcolor\":\"rgb(232,232,232)\",\"linecolor\":\"rgb(36,36,36)\",\"showgrid\":false,\"showline\":true,\"ticks\":\"outside\"},\"bgcolor\":\"white\",\"caxis\":{\"gridcolor\":\"rgb(232,232,232)\",\"linecolor\":\"rgb(36,36,36)\",\"showgrid\":false,\"showline\":true,\"ticks\":\"outside\"}},\"title\":{\"x\":0.05},\"xaxis\":{\"automargin\":true,\"gridcolor\":\"rgb(232,232,232)\",\"linecolor\":\"rgb(36,36,36)\",\"showgrid\":false,\"showline\":true,\"ticks\":\"outside\",\"title\":{\"standoff\":15},\"zeroline\":false,\"zerolinecolor\":\"rgb(36,36,36)\"},\"yaxis\":{\"automargin\":true,\"gridcolor\":\"rgb(232,232,232)\",\"linecolor\":\"rgb(36,36,36)\",\"showgrid\":false,\"showline\":true,\"ticks\":\"outside\",\"title\":{\"standoff\":15},\"zeroline\":false,\"zerolinecolor\":\"rgb(36,36,36)\"}}},\"font\":{\"size\":18},\"margin\":{\"l\":0,\"r\":0,\"b\":0,\"t\":0},\"width\":1000,\"xaxis\":{\"title\":{\"text\":\"K (number of neighbors)\"}},\"yaxis\":{\"title\":{\"text\":\"Neighborhood Preservation\"}}},                        {\"responsive\": true}                    ).then(function(){\n",
              "                            \n",
              "var gd = document.getElementById('6e7109d7-14f8-43ea-a785-ef8a026fbc99');\n",
              "var x = new MutationObserver(function (mutations, observer) {{\n",
              "        var display = window.getComputedStyle(gd).display;\n",
              "        if (!display || display === 'none') {{\n",
              "            console.log([gd, 'removed!']);\n",
              "            Plotly.purge(gd);\n",
              "            observer.disconnect();\n",
              "        }}\n",
              "}});\n",
              "\n",
              "// Listen for the removal of the full notebook cells\n",
              "var notebookContainer = gd.closest('#notebook-container');\n",
              "if (notebookContainer) {{\n",
              "    x.observe(notebookContainer, {childList: true});\n",
              "}}\n",
              "\n",
              "// Listen for the clearing of the current output cell\n",
              "var outputEl = gd.closest('.output');\n",
              "if (outputEl) {{\n",
              "    x.observe(outputEl, {childList: true});\n",
              "}}\n",
              "\n",
              "                        })                };                            </script>        </div>\n",
              "</body>\n",
              "</html>"
            ]
          },
          "metadata": {}
        }
      ]
    },
    {
      "cell_type": "markdown",
      "source": [
        "Neighborhood Hit"
      ],
      "metadata": {
        "id": "4z0PeQUjsdfT"
      }
    },
    {
      "cell_type": "code",
      "source": [
        ""
      ],
      "metadata": {
        "id": "1bFGYqgesfnJ"
      },
      "execution_count": 35,
      "outputs": []
    },
    {
      "cell_type": "markdown",
      "source": [
        "# Silhouette Coefficient"
      ],
      "metadata": {
        "id": "vDo1G0GCcJ7R"
      }
    },
    {
      "cell_type": "code",
      "source": [
        "def coeficiente_silhueta(X_high,X_low):\n",
        "  silhouette_avg_high = []\n",
        "  silhouette_avg_low = []\n",
        "\n",
        "  for k in range(3,20):\n",
        "    clusterer = KMedoids(n_clusters=k, init='k-medoids++',random_state=10)\n",
        "    cluster_labels_high = clusterer.fit_predict(X_high)\n",
        "    cluster_labels_low = clusterer.fit_predict(X_low)\n",
        "    silhouette_avg_high.append(silhouette_score(X_high, cluster_labels_high))\n",
        "    silhouette_avg_low.append(silhouette_score(X_low, cluster_labels_low))\n",
        "\n",
        "  mean_silhouete_high = np.mean(np.array(silhouette_avg_high))\n",
        "  mean_silhouete_low = np.mean(np.array(silhouette_avg_low))\n",
        "  std_silhouete_high = np.std(np.array(silhouette_avg_high))\n",
        "  std_silhouete_low = np.std(np.array(silhouette_avg_low))\n",
        "    \n",
        "  return mean_silhouete_high, mean_silhouete_low, std_silhouete_high, std_silhouete_low"
      ],
      "metadata": {
        "id": "EEcbt83_GI4k"
      },
      "execution_count": 36,
      "outputs": []
    },
    {
      "cell_type": "markdown",
      "source": [
        "### t-SNE"
      ],
      "metadata": {
        "id": "aS99avj-iga8"
      }
    },
    {
      "cell_type": "code",
      "source": [
        "mean_high,mean_low,std_high,std_low = coeficiente_silhueta(X,X_tsne)\n",
        "\n",
        "print(\"TSNE\")\n",
        "print(f\"Média Silhueta Original: {mean_high} Desvio Padrão Original: {std_high}\")\n",
        "print(f\"Média Silhueta Visualização: {mean_low:.10f} Desvio Padrão Visualização: {std_low:.10f}\\n\")"
      ],
      "metadata": {
        "id": "6WDSGstkcWa5",
        "colab": {
          "base_uri": "https://localhost:8080/"
        },
        "outputId": "24bbbaa7-1010-4dd6-9d0f-ca9137d7c4b3"
      },
      "execution_count": 37,
      "outputs": [
        {
          "output_type": "stream",
          "name": "stdout",
          "text": [
            "TSNE\n",
            "Média Silhueta Original: 0.056157551079033335 Desvio Padrão Original: 0.019028980449068117\n",
            "Média Silhueta Visualização: 0.3916836679 Desvio Padrão Visualização: 0.0361868739\n",
            "\n"
          ]
        }
      ]
    },
    {
      "cell_type": "markdown",
      "source": [
        "### UMAP"
      ],
      "metadata": {
        "id": "0GDI0CwojTGx"
      }
    },
    {
      "cell_type": "code",
      "source": [
        "mean_high,mean_low,std_high,std_low = coeficiente_silhueta(X,X_umap)\n",
        "\n",
        "print(\"UMAP\")\n",
        "print(f\"Média Silhueta Original: {mean_high} Desvio Padrão Original: {std_high}\")\n",
        "print(f\"Média Silhueta Visualização: {mean_low:.10f} Desvio Padrão Visualização: {std_low:.10f}\\n\")"
      ],
      "metadata": {
        "id": "xm-j7RDcjSSz",
        "colab": {
          "base_uri": "https://localhost:8080/"
        },
        "outputId": "6b5b8d78-999a-4863-e7c2-9069a13bbfa0"
      },
      "execution_count": 38,
      "outputs": [
        {
          "output_type": "stream",
          "name": "stdout",
          "text": [
            "UMAP\n",
            "Média Silhueta Original: 0.056157551079033335 Desvio Padrão Original: 0.019028980449068117\n",
            "Média Silhueta Visualização: 0.4858280122 Desvio Padrão Visualização: 0.0267988946\n",
            "\n"
          ]
        }
      ]
    },
    {
      "cell_type": "markdown",
      "source": [
        "### PCA"
      ],
      "metadata": {
        "id": "PKr6Rtggjrof"
      }
    },
    {
      "cell_type": "code",
      "source": [
        "mean_high,mean_low,std_high,std_low = coeficiente_silhueta(X,X_pca)\n",
        "\n",
        "print(\"PCA\")\n",
        "print(f\"Média Silhueta Original: {mean_high} Desvio Padrão Original: {std_high}\")\n",
        "print(f\"Média Silhueta Visualização: {mean_low:.10f} Desvio Padrão Visualização: {std_low:.10f}\\n\")"
      ],
      "metadata": {
        "id": "lLzYtxa3jv3C",
        "colab": {
          "base_uri": "https://localhost:8080/"
        },
        "outputId": "444ca878-f99a-4fb0-a25b-f56e53276b3f"
      },
      "execution_count": 39,
      "outputs": [
        {
          "output_type": "stream",
          "name": "stdout",
          "text": [
            "PCA\n",
            "Média Silhueta Original: 0.056157551079033335 Desvio Padrão Original: 0.019028980449068117\n",
            "Média Silhueta Visualização: 0.4002078598 Desvio Padrão Visualização: 0.0424993462\n",
            "\n"
          ]
        }
      ]
    },
    {
      "cell_type": "markdown",
      "source": [
        "### TRIMAP"
      ],
      "metadata": {
        "id": "h1FjdURYjkY8"
      }
    },
    {
      "cell_type": "code",
      "source": [
        "mean_high,mean_low,std_high,std_low = coeficiente_silhueta(X,X_trimap)\n",
        "\n",
        "print(\"TriMap\")\n",
        "print(f\"Média Silhueta Original: {mean_high} Desvio Padrão Original: {std_high}\")\n",
        "print(f\"Média Silhueta Visualização: {mean_low:.10f} Desvio Padrão Visualização: {std_low:.10f}\\n\")"
      ],
      "metadata": {
        "id": "5DvfQhtGjl7K",
        "colab": {
          "base_uri": "https://localhost:8080/"
        },
        "outputId": "4b111bbe-1324-4f3f-8b4f-2e07076eb9b8"
      },
      "execution_count": 40,
      "outputs": [
        {
          "output_type": "stream",
          "name": "stdout",
          "text": [
            "TriMap\n",
            "Média Silhueta Original: 0.056157551079033335 Desvio Padrão Original: 0.019028980449068117\n",
            "Média Silhueta Visualização: 0.5344805717 Desvio Padrão Visualização: 0.0351237953\n",
            "\n"
          ]
        }
      ]
    },
    {
      "cell_type": "markdown",
      "source": [
        "# Global Score\n"
      ],
      "metadata": {
        "id": "tcuS5drCcko9"
      }
    },
    {
      "cell_type": "markdown",
      "source": [
        "### t-SNE"
      ],
      "metadata": {
        "id": "zjBUVrX3gIDo"
      }
    },
    {
      "cell_type": "code",
      "source": [
        "gs = trimap.TRIMAP(verbose=False).global_score(X, X_tsne)\n",
        "print(f\"tSNE global score {gs} - All Data\")"
      ],
      "metadata": {
        "id": "urh2aGi1cmx5",
        "colab": {
          "base_uri": "https://localhost:8080/"
        },
        "outputId": "54d5d07f-d577-442b-a965-98056fab468f"
      },
      "execution_count": 41,
      "outputs": [
        {
          "output_type": "stream",
          "name": "stdout",
          "text": [
            "tSNE global score 0.9520419412120931 - All Data\n"
          ]
        }
      ]
    },
    {
      "cell_type": "markdown",
      "source": [
        "### UMAP"
      ],
      "metadata": {
        "id": "zwQVensygL5g"
      }
    },
    {
      "cell_type": "code",
      "source": [
        "gs = trimap.TRIMAP(verbose=False).global_score(X, X_umap)\n",
        "print(f\"UMAP global score {gs} - All Data\")"
      ],
      "metadata": {
        "id": "1TobKtibcrmq",
        "colab": {
          "base_uri": "https://localhost:8080/"
        },
        "outputId": "e1557f30-77da-425b-d2fe-2e3f3e301000"
      },
      "execution_count": 42,
      "outputs": [
        {
          "output_type": "stream",
          "name": "stdout",
          "text": [
            "UMAP global score 0.9367252251214411 - All Data\n"
          ]
        }
      ]
    },
    {
      "cell_type": "markdown",
      "source": [
        "### PCA"
      ],
      "metadata": {
        "id": "oMKWxdGHgO0M"
      }
    },
    {
      "cell_type": "code",
      "source": [
        "gs = trimap.TRIMAP(verbose=False).global_score(X, X_pca)\n",
        "print(f\"PCA global score {gs} - All Data\")"
      ],
      "metadata": {
        "id": "KQtKNuU6cxyw",
        "colab": {
          "base_uri": "https://localhost:8080/"
        },
        "outputId": "56758809-00d0-4eac-b410-8edd0effaf76"
      },
      "execution_count": 43,
      "outputs": [
        {
          "output_type": "stream",
          "name": "stdout",
          "text": [
            "PCA global score 0.999999999106895 - All Data\n"
          ]
        }
      ]
    },
    {
      "cell_type": "markdown",
      "source": [
        "### TRIMAP"
      ],
      "metadata": {
        "id": "xKfUPzYDgQSn"
      }
    },
    {
      "cell_type": "code",
      "source": [
        "gs = trimap.TRIMAP(verbose=False).global_score(X, X_trimap)\n",
        "print(f\"TRIMAP global score {gs} - All Data\")"
      ],
      "metadata": {
        "id": "qcteE9i-c2GU",
        "colab": {
          "base_uri": "https://localhost:8080/"
        },
        "outputId": "2c2b1782-0fb4-4193-8020-f258fc42d9e5"
      },
      "execution_count": 44,
      "outputs": [
        {
          "output_type": "stream",
          "name": "stdout",
          "text": [
            "TRIMAP global score 0.9606665885762683 - All Data\n"
          ]
        }
      ]
    },
    {
      "cell_type": "markdown",
      "source": [
        "# Testing values"
      ],
      "metadata": {
        "id": "MOzjzWvfyXPk"
      }
    },
    {
      "cell_type": "markdown",
      "source": [
        "### t-SNE"
      ],
      "metadata": {
        "id": "d7nFsrDfFBad"
      }
    },
    {
      "cell_type": "code",
      "source": [
        "kneigh = []\n",
        "y_tsne = np.zeros((10,21))\n",
        "\n",
        "v_perplexity = [5,10,15,20,25,30,35,40,45,50]\n",
        "v_learning_rate = [10,50,100,150,200,250,300,350,400,450,500,550,600,650,700,750,800,850,900,950,1000]\n",
        "\n",
        "for pv in range(0,21):\n",
        "  kneigh.append(v_learning_rate[pv])\n",
        "  for pi in range(0,10):\n",
        "    tsne = TSNE(n_components=2,perplexity=v_perplexity[pi],learning_rate=v_learning_rate[pv],metric='euclidean', init='pca')\n",
        "    X_tsne = tsne.fit_transform(X)\n",
        "    precision = trustworthiness(X, X_tsne, metric='euclidean')\n",
        "    y_tsne[pi][pv] = precision"
      ],
      "metadata": {
        "id": "bi9sB3AUs0oX"
      },
      "execution_count": null,
      "outputs": []
    },
    {
      "cell_type": "code",
      "source": [
        "fig = go.Figure()\n",
        "for pi in range(10):\n",
        "  fig.add_trace(go.Scatter(x=kneigh, y=y_tsne[pi],\n",
        "                    mode='lines+markers',\n",
        "                    name='t-SNE perplexity ' + str(v_perplexity[pi])))\n",
        "\n",
        "fig.show()"
      ],
      "metadata": {
        "id": "N1fQ-eLneePn"
      },
      "execution_count": null,
      "outputs": []
    },
    {
      "cell_type": "markdown",
      "source": [
        "### UMAP"
      ],
      "metadata": {
        "id": "YNEwUT6KFHE4"
      }
    },
    {
      "cell_type": "code",
      "source": [
        "teste = [0,0.1,0.25,0.5,0.8,0.99]\n",
        "kneigh = []\n",
        "y_umap = []\n",
        "\n",
        "for n in teste:\n",
        "  kneigh.append(n)\n",
        "  reducer = umap.UMAP(n_components=2, n_neighbors=10, min_dist=n, metric='euclidean')\n",
        "  X_umap = reducer.fit_transform(X)\n",
        "  precision = trustworthiness(X, X_umap, metric='euclidean')\n",
        "  y_umap.append(precision)"
      ],
      "metadata": {
        "id": "xAQdTbk6c-Kw"
      },
      "execution_count": null,
      "outputs": []
    },
    {
      "cell_type": "code",
      "source": [
        "fig = go.Figure()\n",
        "\n",
        "fig.add_trace(go.Scatter(x=kneigh, y=y_umap,\n",
        "                  mode='lines+markers',\n",
        "                  name='UMAP'))\n",
        "\n",
        "fig.show()"
      ],
      "metadata": {
        "id": "24NK535adD3H"
      },
      "execution_count": null,
      "outputs": []
    },
    {
      "cell_type": "code",
      "source": [
        "teste = [2, 5, 10, 20, 30, 40, 50, 60, 70, 80, 90, 100, 110, 120, 130, 140, 150, 160, 170, 180, 190, 200]\n",
        "kneigh = []\n",
        "y_umap = []\n",
        "\n",
        "for n in teste:\n",
        "  kneigh.append(n)\n",
        "  reducer = umap.UMAP(n_components=n,n_neighbors=40,metric='euclidean')\n",
        "  X_umap = reducer.fit_transform(X)\n",
        "  precision = trustworthiness(X, X_umap, n_neighbors=1, metric='euclidean')\n",
        "  y_umap.append(precision)"
      ],
      "metadata": {
        "id": "AbPUVBzM7tKc"
      },
      "execution_count": null,
      "outputs": []
    },
    {
      "cell_type": "code",
      "source": [
        "fig = go.Figure()\n",
        "\n",
        "fig.add_trace(go.Scatter(x=kneigh, y=y_umap,\n",
        "                  mode='lines+markers',\n",
        "                  name='UMAP'))\n",
        "\n",
        "fig.show()"
      ],
      "metadata": {
        "id": "2fnMDYNJ-Nzy"
      },
      "execution_count": null,
      "outputs": []
    },
    {
      "cell_type": "markdown",
      "source": [
        "### PCA"
      ],
      "metadata": {
        "id": "C2F5AHyJE_iE"
      }
    },
    {
      "cell_type": "code",
      "source": [
        "components = [2, 5, 10, 20, 30, 40, 50, 60, 70, 80, 90, 100, 110, 120, 130, 140, 150, 160, 170, 180, 190, 200]\n",
        "kneigh = []\n",
        "y_pca = []\n",
        "\n",
        "for n in components:\n",
        "  kneigh.append(n)\n",
        "  pca = sklearnPCA(n_components=n)\n",
        "  X_pca = pca.fit_transform(X)\n",
        "  precision = trustworthiness(X, X_pca, n_neighbors=1, metric='euclidean')\n",
        "  y_pca.append(precision)"
      ],
      "metadata": {
        "id": "rzChEobbFBdm"
      },
      "execution_count": null,
      "outputs": []
    },
    {
      "cell_type": "code",
      "source": [
        "fig = go.Figure()\n",
        "\n",
        "fig.add_trace(go.Scatter(x=kneigh, y=y_pca,\n",
        "                  mode='lines+markers',\n",
        "                  name='PCA'))\n",
        "\n",
        "fig.show()"
      ],
      "metadata": {
        "id": "K2o9fJfODYxO"
      },
      "execution_count": null,
      "outputs": []
    },
    {
      "cell_type": "markdown",
      "source": [
        "### TRIMAP"
      ],
      "metadata": {
        "id": "PU8AyXxHFROd"
      }
    },
    {
      "cell_type": "code",
      "source": [
        "teste = [1,2,3,4,5,6,7,8,9,10]\n",
        "kneigh = []\n",
        "y_trimap = []\n",
        "\n",
        "for n in teste:\n",
        "  kneigh.append(n)\n",
        "  X_trimap = trimap.TRIMAP(n_dims=2, n_inliers=5, n_random=n).fit_transform(X)\n",
        "  precision = trustworthiness(X, X_trimap, metric='euclidean')\n",
        "  y_trimap.append(precision)"
      ],
      "metadata": {
        "id": "bUQKMxHdFUKY"
      },
      "execution_count": null,
      "outputs": []
    },
    {
      "cell_type": "code",
      "source": [
        "fig = go.Figure()\n",
        "\n",
        "fig.add_trace(go.Scatter(x=kneigh, y=y_trimap,\n",
        "                  mode='lines+markers',\n",
        "                  name='TRIMAP'))\n",
        "\n",
        "fig.show()"
      ],
      "metadata": {
        "id": "xseW6gRJK5Yr"
      },
      "execution_count": null,
      "outputs": []
    }
  ]
}