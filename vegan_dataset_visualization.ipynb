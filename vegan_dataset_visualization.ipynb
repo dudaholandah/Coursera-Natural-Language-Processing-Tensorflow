{
  "nbformat": 4,
  "nbformat_minor": 0,
  "metadata": {
    "colab": {
      "name": "PIBIC.ipynb",
      "provenance": [],
      "collapsed_sections": [
        "G0ogYP7UcjBB"
      ],
      "toc_visible": true,
      "authorship_tag": "ABX9TyO/xjUHufWHQAYpsNn3HfB3",
      "include_colab_link": true
    },
    "kernelspec": {
      "name": "python3",
      "display_name": "Python 3"
    },
    "language_info": {
      "name": "python"
    }
  },
  "cells": [
    {
      "cell_type": "markdown",
      "metadata": {
        "id": "view-in-github",
        "colab_type": "text"
      },
      "source": [
        "<a href=\"https://colab.research.google.com/github/dudaholandah/PIBIC/blob/main/vegan_dataset_visualization.ipynb\" target=\"_parent\"><img src=\"https://colab.research.google.com/assets/colab-badge.svg\" alt=\"Open In Colab\"/></a>"
      ]
    },
    {
      "cell_type": "markdown",
      "source": [
        "# Imports"
      ],
      "metadata": {
        "id": "9unZu4Gffk8G"
      }
    },
    {
      "cell_type": "code",
      "source": [
        "!apt-get install poppler-utils \n",
        "!pip install pdf2image\n",
        "!pip install unidecode\n",
        "!pip install umap-learn[plot]\n",
        "!pip install trimap\n",
        "!pip install -U kaleido\n",
        "!pip install scikit-learn-extra"
      ],
      "metadata": {
        "id": "WGib2oaNT1MM"
      },
      "execution_count": null,
      "outputs": []
    },
    {
      "cell_type": "code",
      "execution_count": 61,
      "metadata": {
        "id": "qBfSL0Ccbty6"
      },
      "outputs": [],
      "source": [
        "import pandas as pd\n",
        "import numpy as np\n",
        "from unidecode import unidecode\n",
        "from sklearn import preprocessing\n",
        "from pandas.core.frame import DataFrame\n",
        "import plotly.express as px\n",
        "from sklearn.manifold import TSNE\n",
        "import re\n",
        "import umap\n",
        "import trimap\n",
        "from sklearn.decomposition import PCA as sklearnPCA\n",
        "from sklearn.manifold import Isomap\n",
        "from sklearn.manifold import trustworthiness\n",
        "import plotly.graph_objects as go\n",
        "from sklearn.metrics import silhouette_samples, silhouette_score\n",
        "from sklearn.cluster import KMeans\n",
        "import plotly\n",
        "import pdf2image\n",
        "import os\n",
        "from sklearn.metrics import silhouette_samples, silhouette_score\n",
        "from sklearn_extra.cluster import KMedoids"
      ]
    },
    {
      "cell_type": "markdown",
      "source": [
        "# Pre-Processing Data"
      ],
      "metadata": {
        "id": "G0ogYP7UcjBB"
      }
    },
    {
      "cell_type": "code",
      "source": [
        "data = pd.read_excel(\"table_veg.xlsx\", sheet_name='Veganos')"
      ],
      "metadata": {
        "id": "38rpysEbcCOe"
      },
      "execution_count": 62,
      "outputs": []
    },
    {
      "cell_type": "code",
      "source": [
        "data.head()"
      ],
      "metadata": {
        "colab": {
          "base_uri": "https://localhost:8080/",
          "height": 0
        },
        "id": "owChfQYLc_Zr",
        "outputId": "ac5acb39-f645-43f2-c19d-cbeb05406d94"
      },
      "execution_count": 63,
      "outputs": [
        {
          "output_type": "execute_result",
          "data": {
            "text/plain": [
              "  Classification                Description  \\\n",
              "0         MEAT 2      Carne Moída do Futuro   \n",
              "1         MEAT 3      Carne Moída do Futuro   \n",
              "2      POULTRY 3           Frango do Futuro   \n",
              "3        PORK 1          Linguiça do Futuro   \n",
              "4         MEAT 1  Hamburguer de Soja Goshen   \n",
              "\n",
              "                                         Ingredients  Serving Size   Kcal  \\\n",
              "0  water, texturizedsoyprotein, peaprotein e chic...          80.0  168.0   \n",
              "1  water, texturizedsoyprotein, isolatedsoyprotei...          80.0  168.0   \n",
              "2  water, texturizedsoyprotein, isolatedsoyprotei...          80.0  168.0   \n",
              "3  water, texturizedsoyprotein, isolatedsoyprotei...          50.0  139.0   \n",
              "4   texturizedsoyprotein, water, soyoil, modified...          50.0  118.0   \n",
              "\n",
              "   Carbohydrate  Sugars  Proteins   Total Fats   Saturated Fats  ...  \\\n",
              "0          11.0     0.0       8.2         10.0              9.0  ...   \n",
              "1          11.0     0.0       8.2         10.0              9.0  ...   \n",
              "2          11.0     0.0       8.2         10.0              9.0  ...   \n",
              "3           7.7     0.0       5.7          9.5              3.9  ...   \n",
              "4           2.8     0.0       7.0          9.0              1.3  ...   \n",
              "\n",
              "   Carbohydrate.1  Sugars.1  Proteins.1  Total Fats  Saturated Fats  \\\n",
              "0           13.75       0.0       10.25        12.5           11.25   \n",
              "1           13.75       0.0       10.25        12.5           11.25   \n",
              "2           13.75       0.0       10.25        12.5           11.25   \n",
              "3           15.40       0.0       11.40        19.0            7.80   \n",
              "4            5.60       0.0       14.00        18.0            2.60   \n",
              "\n",
              "    Dietary Fiber .1  Sodium.1  B12.1  Calcium.1  Zinc.1  \n",
              "0              0.875     490.0    0.0        0.0     0.0  \n",
              "1              0.875     490.0    0.0        0.0     0.0  \n",
              "2              0.875     490.0    0.0        0.0     0.0  \n",
              "3              0.400     588.0    0.0        0.0     0.0  \n",
              "4              4.000     688.0    0.0        0.0     0.0  \n",
              "\n",
              "[5 rows x 26 columns]"
            ],
            "text/html": [
              "\n",
              "  <div id=\"df-6b691b9a-cca1-4e76-aa8a-be811ceba9a7\">\n",
              "    <div class=\"colab-df-container\">\n",
              "      <div>\n",
              "<style scoped>\n",
              "    .dataframe tbody tr th:only-of-type {\n",
              "        vertical-align: middle;\n",
              "    }\n",
              "\n",
              "    .dataframe tbody tr th {\n",
              "        vertical-align: top;\n",
              "    }\n",
              "\n",
              "    .dataframe thead th {\n",
              "        text-align: right;\n",
              "    }\n",
              "</style>\n",
              "<table border=\"1\" class=\"dataframe\">\n",
              "  <thead>\n",
              "    <tr style=\"text-align: right;\">\n",
              "      <th></th>\n",
              "      <th>Classification</th>\n",
              "      <th>Description</th>\n",
              "      <th>Ingredients</th>\n",
              "      <th>Serving Size</th>\n",
              "      <th>Kcal</th>\n",
              "      <th>Carbohydrate</th>\n",
              "      <th>Sugars</th>\n",
              "      <th>Proteins</th>\n",
              "      <th>Total Fats</th>\n",
              "      <th>Saturated Fats</th>\n",
              "      <th>...</th>\n",
              "      <th>Carbohydrate.1</th>\n",
              "      <th>Sugars.1</th>\n",
              "      <th>Proteins.1</th>\n",
              "      <th>Total Fats</th>\n",
              "      <th>Saturated Fats</th>\n",
              "      <th>Dietary Fiber .1</th>\n",
              "      <th>Sodium.1</th>\n",
              "      <th>B12.1</th>\n",
              "      <th>Calcium.1</th>\n",
              "      <th>Zinc.1</th>\n",
              "    </tr>\n",
              "  </thead>\n",
              "  <tbody>\n",
              "    <tr>\n",
              "      <th>0</th>\n",
              "      <td>MEAT 2</td>\n",
              "      <td>Carne Moída do Futuro</td>\n",
              "      <td>water, texturizedsoyprotein, peaprotein e chic...</td>\n",
              "      <td>80.0</td>\n",
              "      <td>168.0</td>\n",
              "      <td>11.0</td>\n",
              "      <td>0.0</td>\n",
              "      <td>8.2</td>\n",
              "      <td>10.0</td>\n",
              "      <td>9.0</td>\n",
              "      <td>...</td>\n",
              "      <td>13.75</td>\n",
              "      <td>0.0</td>\n",
              "      <td>10.25</td>\n",
              "      <td>12.5</td>\n",
              "      <td>11.25</td>\n",
              "      <td>0.875</td>\n",
              "      <td>490.0</td>\n",
              "      <td>0.0</td>\n",
              "      <td>0.0</td>\n",
              "      <td>0.0</td>\n",
              "    </tr>\n",
              "    <tr>\n",
              "      <th>1</th>\n",
              "      <td>MEAT 3</td>\n",
              "      <td>Carne Moída do Futuro</td>\n",
              "      <td>water, texturizedsoyprotein, isolatedsoyprotei...</td>\n",
              "      <td>80.0</td>\n",
              "      <td>168.0</td>\n",
              "      <td>11.0</td>\n",
              "      <td>0.0</td>\n",
              "      <td>8.2</td>\n",
              "      <td>10.0</td>\n",
              "      <td>9.0</td>\n",
              "      <td>...</td>\n",
              "      <td>13.75</td>\n",
              "      <td>0.0</td>\n",
              "      <td>10.25</td>\n",
              "      <td>12.5</td>\n",
              "      <td>11.25</td>\n",
              "      <td>0.875</td>\n",
              "      <td>490.0</td>\n",
              "      <td>0.0</td>\n",
              "      <td>0.0</td>\n",
              "      <td>0.0</td>\n",
              "    </tr>\n",
              "    <tr>\n",
              "      <th>2</th>\n",
              "      <td>POULTRY 3</td>\n",
              "      <td>Frango do Futuro</td>\n",
              "      <td>water, texturizedsoyprotein, isolatedsoyprotei...</td>\n",
              "      <td>80.0</td>\n",
              "      <td>168.0</td>\n",
              "      <td>11.0</td>\n",
              "      <td>0.0</td>\n",
              "      <td>8.2</td>\n",
              "      <td>10.0</td>\n",
              "      <td>9.0</td>\n",
              "      <td>...</td>\n",
              "      <td>13.75</td>\n",
              "      <td>0.0</td>\n",
              "      <td>10.25</td>\n",
              "      <td>12.5</td>\n",
              "      <td>11.25</td>\n",
              "      <td>0.875</td>\n",
              "      <td>490.0</td>\n",
              "      <td>0.0</td>\n",
              "      <td>0.0</td>\n",
              "      <td>0.0</td>\n",
              "    </tr>\n",
              "    <tr>\n",
              "      <th>3</th>\n",
              "      <td>PORK 1</td>\n",
              "      <td>Linguiça do Futuro</td>\n",
              "      <td>water, texturizedsoyprotein, isolatedsoyprotei...</td>\n",
              "      <td>50.0</td>\n",
              "      <td>139.0</td>\n",
              "      <td>7.7</td>\n",
              "      <td>0.0</td>\n",
              "      <td>5.7</td>\n",
              "      <td>9.5</td>\n",
              "      <td>3.9</td>\n",
              "      <td>...</td>\n",
              "      <td>15.40</td>\n",
              "      <td>0.0</td>\n",
              "      <td>11.40</td>\n",
              "      <td>19.0</td>\n",
              "      <td>7.80</td>\n",
              "      <td>0.400</td>\n",
              "      <td>588.0</td>\n",
              "      <td>0.0</td>\n",
              "      <td>0.0</td>\n",
              "      <td>0.0</td>\n",
              "    </tr>\n",
              "    <tr>\n",
              "      <th>4</th>\n",
              "      <td>MEAT 1</td>\n",
              "      <td>Hamburguer de Soja Goshen</td>\n",
              "      <td>texturizedsoyprotein, water, soyoil, modified...</td>\n",
              "      <td>50.0</td>\n",
              "      <td>118.0</td>\n",
              "      <td>2.8</td>\n",
              "      <td>0.0</td>\n",
              "      <td>7.0</td>\n",
              "      <td>9.0</td>\n",
              "      <td>1.3</td>\n",
              "      <td>...</td>\n",
              "      <td>5.60</td>\n",
              "      <td>0.0</td>\n",
              "      <td>14.00</td>\n",
              "      <td>18.0</td>\n",
              "      <td>2.60</td>\n",
              "      <td>4.000</td>\n",
              "      <td>688.0</td>\n",
              "      <td>0.0</td>\n",
              "      <td>0.0</td>\n",
              "      <td>0.0</td>\n",
              "    </tr>\n",
              "  </tbody>\n",
              "</table>\n",
              "<p>5 rows × 26 columns</p>\n",
              "</div>\n",
              "      <button class=\"colab-df-convert\" onclick=\"convertToInteractive('df-6b691b9a-cca1-4e76-aa8a-be811ceba9a7')\"\n",
              "              title=\"Convert this dataframe to an interactive table.\"\n",
              "              style=\"display:none;\">\n",
              "        \n",
              "  <svg xmlns=\"http://www.w3.org/2000/svg\" height=\"24px\"viewBox=\"0 0 24 24\"\n",
              "       width=\"24px\">\n",
              "    <path d=\"M0 0h24v24H0V0z\" fill=\"none\"/>\n",
              "    <path d=\"M18.56 5.44l.94 2.06.94-2.06 2.06-.94-2.06-.94-.94-2.06-.94 2.06-2.06.94zm-11 1L8.5 8.5l.94-2.06 2.06-.94-2.06-.94L8.5 2.5l-.94 2.06-2.06.94zm10 10l.94 2.06.94-2.06 2.06-.94-2.06-.94-.94-2.06-.94 2.06-2.06.94z\"/><path d=\"M17.41 7.96l-1.37-1.37c-.4-.4-.92-.59-1.43-.59-.52 0-1.04.2-1.43.59L10.3 9.45l-7.72 7.72c-.78.78-.78 2.05 0 2.83L4 21.41c.39.39.9.59 1.41.59.51 0 1.02-.2 1.41-.59l7.78-7.78 2.81-2.81c.8-.78.8-2.07 0-2.86zM5.41 20L4 18.59l7.72-7.72 1.47 1.35L5.41 20z\"/>\n",
              "  </svg>\n",
              "      </button>\n",
              "      \n",
              "  <style>\n",
              "    .colab-df-container {\n",
              "      display:flex;\n",
              "      flex-wrap:wrap;\n",
              "      gap: 12px;\n",
              "    }\n",
              "\n",
              "    .colab-df-convert {\n",
              "      background-color: #E8F0FE;\n",
              "      border: none;\n",
              "      border-radius: 50%;\n",
              "      cursor: pointer;\n",
              "      display: none;\n",
              "      fill: #1967D2;\n",
              "      height: 32px;\n",
              "      padding: 0 0 0 0;\n",
              "      width: 32px;\n",
              "    }\n",
              "\n",
              "    .colab-df-convert:hover {\n",
              "      background-color: #E2EBFA;\n",
              "      box-shadow: 0px 1px 2px rgba(60, 64, 67, 0.3), 0px 1px 3px 1px rgba(60, 64, 67, 0.15);\n",
              "      fill: #174EA6;\n",
              "    }\n",
              "\n",
              "    [theme=dark] .colab-df-convert {\n",
              "      background-color: #3B4455;\n",
              "      fill: #D2E3FC;\n",
              "    }\n",
              "\n",
              "    [theme=dark] .colab-df-convert:hover {\n",
              "      background-color: #434B5C;\n",
              "      box-shadow: 0px 1px 3px 1px rgba(0, 0, 0, 0.15);\n",
              "      filter: drop-shadow(0px 1px 2px rgba(0, 0, 0, 0.3));\n",
              "      fill: #FFFFFF;\n",
              "    }\n",
              "  </style>\n",
              "\n",
              "      <script>\n",
              "        const buttonEl =\n",
              "          document.querySelector('#df-6b691b9a-cca1-4e76-aa8a-be811ceba9a7 button.colab-df-convert');\n",
              "        buttonEl.style.display =\n",
              "          google.colab.kernel.accessAllowed ? 'block' : 'none';\n",
              "\n",
              "        async function convertToInteractive(key) {\n",
              "          const element = document.querySelector('#df-6b691b9a-cca1-4e76-aa8a-be811ceba9a7');\n",
              "          const dataTable =\n",
              "            await google.colab.kernel.invokeFunction('convertToInteractive',\n",
              "                                                     [key], {});\n",
              "          if (!dataTable) return;\n",
              "\n",
              "          const docLinkHtml = 'Like what you see? Visit the ' +\n",
              "            '<a target=\"_blank\" href=https://colab.research.google.com/notebooks/data_table.ipynb>data table notebook</a>'\n",
              "            + ' to learn more about interactive tables.';\n",
              "          element.innerHTML = '';\n",
              "          dataTable['output_type'] = 'display_data';\n",
              "          await google.colab.output.renderOutput(dataTable, element);\n",
              "          const docLink = document.createElement('div');\n",
              "          docLink.innerHTML = docLinkHtml;\n",
              "          element.appendChild(docLink);\n",
              "        }\n",
              "      </script>\n",
              "    </div>\n",
              "  </div>\n",
              "  "
            ]
          },
          "metadata": {},
          "execution_count": 63
        }
      ]
    },
    {
      "cell_type": "markdown",
      "source": [
        "### Separating data"
      ],
      "metadata": {
        "id": "iUaEyrS5hi9I"
      }
    },
    {
      "cell_type": "code",
      "source": [
        "data_ingredients = pd.DataFrame(data['Ingredients'])\n",
        "data_nutrients = data.drop(columns=['Ingredients', 'Classification', \"Description\"])\n",
        "data_clasification = pd.DataFrame(data['Classification'])\n",
        "data_name = pd.DataFrame(data[\"Description\"])\n",
        "label_data = data_clasification.join(data_name)\n",
        "\n",
        "label_data.head()"
      ],
      "metadata": {
        "colab": {
          "base_uri": "https://localhost:8080/",
          "height": 0
        },
        "id": "uflKESOVddI4",
        "outputId": "04bc61d0-6b25-483e-fdcc-fb48754ea7b2"
      },
      "execution_count": 64,
      "outputs": [
        {
          "output_type": "execute_result",
          "data": {
            "text/plain": [
              "  Classification                Description\n",
              "0         MEAT 2      Carne Moída do Futuro\n",
              "1         MEAT 3      Carne Moída do Futuro\n",
              "2      POULTRY 3           Frango do Futuro\n",
              "3        PORK 1          Linguiça do Futuro\n",
              "4         MEAT 1  Hamburguer de Soja Goshen"
            ],
            "text/html": [
              "\n",
              "  <div id=\"df-8c2d78db-bd15-4dbb-88e9-3b86b8c7dbf8\">\n",
              "    <div class=\"colab-df-container\">\n",
              "      <div>\n",
              "<style scoped>\n",
              "    .dataframe tbody tr th:only-of-type {\n",
              "        vertical-align: middle;\n",
              "    }\n",
              "\n",
              "    .dataframe tbody tr th {\n",
              "        vertical-align: top;\n",
              "    }\n",
              "\n",
              "    .dataframe thead th {\n",
              "        text-align: right;\n",
              "    }\n",
              "</style>\n",
              "<table border=\"1\" class=\"dataframe\">\n",
              "  <thead>\n",
              "    <tr style=\"text-align: right;\">\n",
              "      <th></th>\n",
              "      <th>Classification</th>\n",
              "      <th>Description</th>\n",
              "    </tr>\n",
              "  </thead>\n",
              "  <tbody>\n",
              "    <tr>\n",
              "      <th>0</th>\n",
              "      <td>MEAT 2</td>\n",
              "      <td>Carne Moída do Futuro</td>\n",
              "    </tr>\n",
              "    <tr>\n",
              "      <th>1</th>\n",
              "      <td>MEAT 3</td>\n",
              "      <td>Carne Moída do Futuro</td>\n",
              "    </tr>\n",
              "    <tr>\n",
              "      <th>2</th>\n",
              "      <td>POULTRY 3</td>\n",
              "      <td>Frango do Futuro</td>\n",
              "    </tr>\n",
              "    <tr>\n",
              "      <th>3</th>\n",
              "      <td>PORK 1</td>\n",
              "      <td>Linguiça do Futuro</td>\n",
              "    </tr>\n",
              "    <tr>\n",
              "      <th>4</th>\n",
              "      <td>MEAT 1</td>\n",
              "      <td>Hamburguer de Soja Goshen</td>\n",
              "    </tr>\n",
              "  </tbody>\n",
              "</table>\n",
              "</div>\n",
              "      <button class=\"colab-df-convert\" onclick=\"convertToInteractive('df-8c2d78db-bd15-4dbb-88e9-3b86b8c7dbf8')\"\n",
              "              title=\"Convert this dataframe to an interactive table.\"\n",
              "              style=\"display:none;\">\n",
              "        \n",
              "  <svg xmlns=\"http://www.w3.org/2000/svg\" height=\"24px\"viewBox=\"0 0 24 24\"\n",
              "       width=\"24px\">\n",
              "    <path d=\"M0 0h24v24H0V0z\" fill=\"none\"/>\n",
              "    <path d=\"M18.56 5.44l.94 2.06.94-2.06 2.06-.94-2.06-.94-.94-2.06-.94 2.06-2.06.94zm-11 1L8.5 8.5l.94-2.06 2.06-.94-2.06-.94L8.5 2.5l-.94 2.06-2.06.94zm10 10l.94 2.06.94-2.06 2.06-.94-2.06-.94-.94-2.06-.94 2.06-2.06.94z\"/><path d=\"M17.41 7.96l-1.37-1.37c-.4-.4-.92-.59-1.43-.59-.52 0-1.04.2-1.43.59L10.3 9.45l-7.72 7.72c-.78.78-.78 2.05 0 2.83L4 21.41c.39.39.9.59 1.41.59.51 0 1.02-.2 1.41-.59l7.78-7.78 2.81-2.81c.8-.78.8-2.07 0-2.86zM5.41 20L4 18.59l7.72-7.72 1.47 1.35L5.41 20z\"/>\n",
              "  </svg>\n",
              "      </button>\n",
              "      \n",
              "  <style>\n",
              "    .colab-df-container {\n",
              "      display:flex;\n",
              "      flex-wrap:wrap;\n",
              "      gap: 12px;\n",
              "    }\n",
              "\n",
              "    .colab-df-convert {\n",
              "      background-color: #E8F0FE;\n",
              "      border: none;\n",
              "      border-radius: 50%;\n",
              "      cursor: pointer;\n",
              "      display: none;\n",
              "      fill: #1967D2;\n",
              "      height: 32px;\n",
              "      padding: 0 0 0 0;\n",
              "      width: 32px;\n",
              "    }\n",
              "\n",
              "    .colab-df-convert:hover {\n",
              "      background-color: #E2EBFA;\n",
              "      box-shadow: 0px 1px 2px rgba(60, 64, 67, 0.3), 0px 1px 3px 1px rgba(60, 64, 67, 0.15);\n",
              "      fill: #174EA6;\n",
              "    }\n",
              "\n",
              "    [theme=dark] .colab-df-convert {\n",
              "      background-color: #3B4455;\n",
              "      fill: #D2E3FC;\n",
              "    }\n",
              "\n",
              "    [theme=dark] .colab-df-convert:hover {\n",
              "      background-color: #434B5C;\n",
              "      box-shadow: 0px 1px 3px 1px rgba(0, 0, 0, 0.15);\n",
              "      filter: drop-shadow(0px 1px 2px rgba(0, 0, 0, 0.3));\n",
              "      fill: #FFFFFF;\n",
              "    }\n",
              "  </style>\n",
              "\n",
              "      <script>\n",
              "        const buttonEl =\n",
              "          document.querySelector('#df-8c2d78db-bd15-4dbb-88e9-3b86b8c7dbf8 button.colab-df-convert');\n",
              "        buttonEl.style.display =\n",
              "          google.colab.kernel.accessAllowed ? 'block' : 'none';\n",
              "\n",
              "        async function convertToInteractive(key) {\n",
              "          const element = document.querySelector('#df-8c2d78db-bd15-4dbb-88e9-3b86b8c7dbf8');\n",
              "          const dataTable =\n",
              "            await google.colab.kernel.invokeFunction('convertToInteractive',\n",
              "                                                     [key], {});\n",
              "          if (!dataTable) return;\n",
              "\n",
              "          const docLinkHtml = 'Like what you see? Visit the ' +\n",
              "            '<a target=\"_blank\" href=https://colab.research.google.com/notebooks/data_table.ipynb>data table notebook</a>'\n",
              "            + ' to learn more about interactive tables.';\n",
              "          element.innerHTML = '';\n",
              "          dataTable['output_type'] = 'display_data';\n",
              "          await google.colab.output.renderOutput(dataTable, element);\n",
              "          const docLink = document.createElement('div');\n",
              "          docLink.innerHTML = docLinkHtml;\n",
              "          element.appendChild(docLink);\n",
              "        }\n",
              "      </script>\n",
              "    </div>\n",
              "  </div>\n",
              "  "
            ]
          },
          "metadata": {},
          "execution_count": 64
        }
      ]
    },
    {
      "cell_type": "code",
      "source": [
        "data_nutrients.head()"
      ],
      "metadata": {
        "colab": {
          "base_uri": "https://localhost:8080/",
          "height": 0
        },
        "id": "sxBu43UzedDC",
        "outputId": "f2e24795-3d0a-475d-ad3e-d65603e7089e"
      },
      "execution_count": 65,
      "outputs": [
        {
          "output_type": "execute_result",
          "data": {
            "text/plain": [
              "   Serving Size   Kcal  Carbohydrate  Sugars  Proteins   Total Fats  \\\n",
              "0          80.0  168.0          11.0     0.0       8.2         10.0   \n",
              "1          80.0  168.0          11.0     0.0       8.2         10.0   \n",
              "2          80.0  168.0          11.0     0.0       8.2         10.0   \n",
              "3          50.0  139.0           7.7     0.0       5.7          9.5   \n",
              "4          50.0  118.0           2.8     0.0       7.0          9.0   \n",
              "\n",
              "    Saturated Fats   Dietary Fiber   Sodium  B12  ...  Carbohydrate.1  \\\n",
              "0              9.0              0.7   392.0  0.0  ...           13.75   \n",
              "1              9.0              0.7   392.0  0.0  ...           13.75   \n",
              "2              9.0              0.7   392.0  0.0  ...           13.75   \n",
              "3              3.9              0.2   294.0  0.0  ...           15.40   \n",
              "4              1.3              2.0   344.0  0.0  ...            5.60   \n",
              "\n",
              "   Sugars.1  Proteins.1  Total Fats  Saturated Fats   Dietary Fiber .1  \\\n",
              "0       0.0       10.25        12.5           11.25              0.875   \n",
              "1       0.0       10.25        12.5           11.25              0.875   \n",
              "2       0.0       10.25        12.5           11.25              0.875   \n",
              "3       0.0       11.40        19.0            7.80              0.400   \n",
              "4       0.0       14.00        18.0            2.60              4.000   \n",
              "\n",
              "   Sodium.1  B12.1  Calcium.1  Zinc.1  \n",
              "0     490.0    0.0        0.0     0.0  \n",
              "1     490.0    0.0        0.0     0.0  \n",
              "2     490.0    0.0        0.0     0.0  \n",
              "3     588.0    0.0        0.0     0.0  \n",
              "4     688.0    0.0        0.0     0.0  \n",
              "\n",
              "[5 rows x 23 columns]"
            ],
            "text/html": [
              "\n",
              "  <div id=\"df-bfb3e4f9-e66b-464c-984f-9053db76e4bf\">\n",
              "    <div class=\"colab-df-container\">\n",
              "      <div>\n",
              "<style scoped>\n",
              "    .dataframe tbody tr th:only-of-type {\n",
              "        vertical-align: middle;\n",
              "    }\n",
              "\n",
              "    .dataframe tbody tr th {\n",
              "        vertical-align: top;\n",
              "    }\n",
              "\n",
              "    .dataframe thead th {\n",
              "        text-align: right;\n",
              "    }\n",
              "</style>\n",
              "<table border=\"1\" class=\"dataframe\">\n",
              "  <thead>\n",
              "    <tr style=\"text-align: right;\">\n",
              "      <th></th>\n",
              "      <th>Serving Size</th>\n",
              "      <th>Kcal</th>\n",
              "      <th>Carbohydrate</th>\n",
              "      <th>Sugars</th>\n",
              "      <th>Proteins</th>\n",
              "      <th>Total Fats</th>\n",
              "      <th>Saturated Fats</th>\n",
              "      <th>Dietary Fiber</th>\n",
              "      <th>Sodium</th>\n",
              "      <th>B12</th>\n",
              "      <th>...</th>\n",
              "      <th>Carbohydrate.1</th>\n",
              "      <th>Sugars.1</th>\n",
              "      <th>Proteins.1</th>\n",
              "      <th>Total Fats</th>\n",
              "      <th>Saturated Fats</th>\n",
              "      <th>Dietary Fiber .1</th>\n",
              "      <th>Sodium.1</th>\n",
              "      <th>B12.1</th>\n",
              "      <th>Calcium.1</th>\n",
              "      <th>Zinc.1</th>\n",
              "    </tr>\n",
              "  </thead>\n",
              "  <tbody>\n",
              "    <tr>\n",
              "      <th>0</th>\n",
              "      <td>80.0</td>\n",
              "      <td>168.0</td>\n",
              "      <td>11.0</td>\n",
              "      <td>0.0</td>\n",
              "      <td>8.2</td>\n",
              "      <td>10.0</td>\n",
              "      <td>9.0</td>\n",
              "      <td>0.7</td>\n",
              "      <td>392.0</td>\n",
              "      <td>0.0</td>\n",
              "      <td>...</td>\n",
              "      <td>13.75</td>\n",
              "      <td>0.0</td>\n",
              "      <td>10.25</td>\n",
              "      <td>12.5</td>\n",
              "      <td>11.25</td>\n",
              "      <td>0.875</td>\n",
              "      <td>490.0</td>\n",
              "      <td>0.0</td>\n",
              "      <td>0.0</td>\n",
              "      <td>0.0</td>\n",
              "    </tr>\n",
              "    <tr>\n",
              "      <th>1</th>\n",
              "      <td>80.0</td>\n",
              "      <td>168.0</td>\n",
              "      <td>11.0</td>\n",
              "      <td>0.0</td>\n",
              "      <td>8.2</td>\n",
              "      <td>10.0</td>\n",
              "      <td>9.0</td>\n",
              "      <td>0.7</td>\n",
              "      <td>392.0</td>\n",
              "      <td>0.0</td>\n",
              "      <td>...</td>\n",
              "      <td>13.75</td>\n",
              "      <td>0.0</td>\n",
              "      <td>10.25</td>\n",
              "      <td>12.5</td>\n",
              "      <td>11.25</td>\n",
              "      <td>0.875</td>\n",
              "      <td>490.0</td>\n",
              "      <td>0.0</td>\n",
              "      <td>0.0</td>\n",
              "      <td>0.0</td>\n",
              "    </tr>\n",
              "    <tr>\n",
              "      <th>2</th>\n",
              "      <td>80.0</td>\n",
              "      <td>168.0</td>\n",
              "      <td>11.0</td>\n",
              "      <td>0.0</td>\n",
              "      <td>8.2</td>\n",
              "      <td>10.0</td>\n",
              "      <td>9.0</td>\n",
              "      <td>0.7</td>\n",
              "      <td>392.0</td>\n",
              "      <td>0.0</td>\n",
              "      <td>...</td>\n",
              "      <td>13.75</td>\n",
              "      <td>0.0</td>\n",
              "      <td>10.25</td>\n",
              "      <td>12.5</td>\n",
              "      <td>11.25</td>\n",
              "      <td>0.875</td>\n",
              "      <td>490.0</td>\n",
              "      <td>0.0</td>\n",
              "      <td>0.0</td>\n",
              "      <td>0.0</td>\n",
              "    </tr>\n",
              "    <tr>\n",
              "      <th>3</th>\n",
              "      <td>50.0</td>\n",
              "      <td>139.0</td>\n",
              "      <td>7.7</td>\n",
              "      <td>0.0</td>\n",
              "      <td>5.7</td>\n",
              "      <td>9.5</td>\n",
              "      <td>3.9</td>\n",
              "      <td>0.2</td>\n",
              "      <td>294.0</td>\n",
              "      <td>0.0</td>\n",
              "      <td>...</td>\n",
              "      <td>15.40</td>\n",
              "      <td>0.0</td>\n",
              "      <td>11.40</td>\n",
              "      <td>19.0</td>\n",
              "      <td>7.80</td>\n",
              "      <td>0.400</td>\n",
              "      <td>588.0</td>\n",
              "      <td>0.0</td>\n",
              "      <td>0.0</td>\n",
              "      <td>0.0</td>\n",
              "    </tr>\n",
              "    <tr>\n",
              "      <th>4</th>\n",
              "      <td>50.0</td>\n",
              "      <td>118.0</td>\n",
              "      <td>2.8</td>\n",
              "      <td>0.0</td>\n",
              "      <td>7.0</td>\n",
              "      <td>9.0</td>\n",
              "      <td>1.3</td>\n",
              "      <td>2.0</td>\n",
              "      <td>344.0</td>\n",
              "      <td>0.0</td>\n",
              "      <td>...</td>\n",
              "      <td>5.60</td>\n",
              "      <td>0.0</td>\n",
              "      <td>14.00</td>\n",
              "      <td>18.0</td>\n",
              "      <td>2.60</td>\n",
              "      <td>4.000</td>\n",
              "      <td>688.0</td>\n",
              "      <td>0.0</td>\n",
              "      <td>0.0</td>\n",
              "      <td>0.0</td>\n",
              "    </tr>\n",
              "  </tbody>\n",
              "</table>\n",
              "<p>5 rows × 23 columns</p>\n",
              "</div>\n",
              "      <button class=\"colab-df-convert\" onclick=\"convertToInteractive('df-bfb3e4f9-e66b-464c-984f-9053db76e4bf')\"\n",
              "              title=\"Convert this dataframe to an interactive table.\"\n",
              "              style=\"display:none;\">\n",
              "        \n",
              "  <svg xmlns=\"http://www.w3.org/2000/svg\" height=\"24px\"viewBox=\"0 0 24 24\"\n",
              "       width=\"24px\">\n",
              "    <path d=\"M0 0h24v24H0V0z\" fill=\"none\"/>\n",
              "    <path d=\"M18.56 5.44l.94 2.06.94-2.06 2.06-.94-2.06-.94-.94-2.06-.94 2.06-2.06.94zm-11 1L8.5 8.5l.94-2.06 2.06-.94-2.06-.94L8.5 2.5l-.94 2.06-2.06.94zm10 10l.94 2.06.94-2.06 2.06-.94-2.06-.94-.94-2.06-.94 2.06-2.06.94z\"/><path d=\"M17.41 7.96l-1.37-1.37c-.4-.4-.92-.59-1.43-.59-.52 0-1.04.2-1.43.59L10.3 9.45l-7.72 7.72c-.78.78-.78 2.05 0 2.83L4 21.41c.39.39.9.59 1.41.59.51 0 1.02-.2 1.41-.59l7.78-7.78 2.81-2.81c.8-.78.8-2.07 0-2.86zM5.41 20L4 18.59l7.72-7.72 1.47 1.35L5.41 20z\"/>\n",
              "  </svg>\n",
              "      </button>\n",
              "      \n",
              "  <style>\n",
              "    .colab-df-container {\n",
              "      display:flex;\n",
              "      flex-wrap:wrap;\n",
              "      gap: 12px;\n",
              "    }\n",
              "\n",
              "    .colab-df-convert {\n",
              "      background-color: #E8F0FE;\n",
              "      border: none;\n",
              "      border-radius: 50%;\n",
              "      cursor: pointer;\n",
              "      display: none;\n",
              "      fill: #1967D2;\n",
              "      height: 32px;\n",
              "      padding: 0 0 0 0;\n",
              "      width: 32px;\n",
              "    }\n",
              "\n",
              "    .colab-df-convert:hover {\n",
              "      background-color: #E2EBFA;\n",
              "      box-shadow: 0px 1px 2px rgba(60, 64, 67, 0.3), 0px 1px 3px 1px rgba(60, 64, 67, 0.15);\n",
              "      fill: #174EA6;\n",
              "    }\n",
              "\n",
              "    [theme=dark] .colab-df-convert {\n",
              "      background-color: #3B4455;\n",
              "      fill: #D2E3FC;\n",
              "    }\n",
              "\n",
              "    [theme=dark] .colab-df-convert:hover {\n",
              "      background-color: #434B5C;\n",
              "      box-shadow: 0px 1px 3px 1px rgba(0, 0, 0, 0.15);\n",
              "      filter: drop-shadow(0px 1px 2px rgba(0, 0, 0, 0.3));\n",
              "      fill: #FFFFFF;\n",
              "    }\n",
              "  </style>\n",
              "\n",
              "      <script>\n",
              "        const buttonEl =\n",
              "          document.querySelector('#df-bfb3e4f9-e66b-464c-984f-9053db76e4bf button.colab-df-convert');\n",
              "        buttonEl.style.display =\n",
              "          google.colab.kernel.accessAllowed ? 'block' : 'none';\n",
              "\n",
              "        async function convertToInteractive(key) {\n",
              "          const element = document.querySelector('#df-bfb3e4f9-e66b-464c-984f-9053db76e4bf');\n",
              "          const dataTable =\n",
              "            await google.colab.kernel.invokeFunction('convertToInteractive',\n",
              "                                                     [key], {});\n",
              "          if (!dataTable) return;\n",
              "\n",
              "          const docLinkHtml = 'Like what you see? Visit the ' +\n",
              "            '<a target=\"_blank\" href=https://colab.research.google.com/notebooks/data_table.ipynb>data table notebook</a>'\n",
              "            + ' to learn more about interactive tables.';\n",
              "          element.innerHTML = '';\n",
              "          dataTable['output_type'] = 'display_data';\n",
              "          await google.colab.output.renderOutput(dataTable, element);\n",
              "          const docLink = document.createElement('div');\n",
              "          docLink.innerHTML = docLinkHtml;\n",
              "          element.appendChild(docLink);\n",
              "        }\n",
              "      </script>\n",
              "    </div>\n",
              "  </div>\n",
              "  "
            ]
          },
          "metadata": {},
          "execution_count": 65
        }
      ]
    },
    {
      "cell_type": "markdown",
      "source": [
        "### Normalizing Nutrient Values (MinMax Scaler) "
      ],
      "metadata": {
        "id": "glGmmTNFhZwJ"
      }
    },
    {
      "cell_type": "code",
      "source": [
        "X = data_nutrients.values\n",
        "print(X)"
      ],
      "metadata": {
        "colab": {
          "base_uri": "https://localhost:8080/"
        },
        "id": "CMXY3FP5ekWw",
        "outputId": "0ee3411f-bbd2-480c-fbfa-8bcd61723bf6"
      },
      "execution_count": 66,
      "outputs": [
        {
          "output_type": "stream",
          "name": "stdout",
          "text": [
            "[[ 80.  168.   11.  ...   0.    0.    0. ]\n",
            " [ 80.  168.   11.  ...   0.    0.    0. ]\n",
            " [ 80.  168.   11.  ...   0.    0.    0. ]\n",
            " ...\n",
            " [ 40.   84.    5.2 ...   0.    0.    0. ]\n",
            " [ 10.   25.    3.3 ...   0.    0.    0. ]\n",
            " [  7.   28.    1.2 ...   0.    0.    0. ]]\n"
          ]
        }
      ]
    },
    {
      "cell_type": "code",
      "source": [
        "attributes_dummies = data_nutrients.columns\n",
        "normalize = preprocessing.MinMaxScaler()\n",
        "xscaled = normalize.fit_transform(X)\n",
        "\n",
        "nutrients_normalized = pd.DataFrame(xscaled,columns=attributes_dummies)\n",
        "nutrients_normalized = nutrients_normalized.replace(np.nan,0)\n",
        "\n",
        "nutrients_normalized.head()"
      ],
      "metadata": {
        "colab": {
          "base_uri": "https://localhost:8080/",
          "height": 0
        },
        "id": "55oXzPRqgA8-",
        "outputId": "d454bb06-fb83-4273-b8b7-b0929cafe84c"
      },
      "execution_count": 67,
      "outputs": [
        {
          "output_type": "execute_result",
          "data": {
            "text/plain": [
              "   Serving Size      Kcal  Carbohydrate  Sugars  Proteins   Total Fats  \\\n",
              "0      0.212828  0.263815      0.244444     0.0  0.195238     0.204082   \n",
              "1      0.212828  0.263815      0.244444     0.0  0.195238     0.204082   \n",
              "2      0.212828  0.263815      0.244444     0.0  0.195238     0.204082   \n",
              "3      0.125364  0.212121      0.171111     0.0  0.135714     0.193878   \n",
              "4      0.125364  0.174688      0.062222     0.0  0.166667     0.183673   \n",
              "\n",
              "    Saturated Fats   Dietary Fiber     Sodium  B12  ...  Carbohydrate.1  \\\n",
              "0         0.489130         0.007447  0.414376  0.0  ...          0.1650   \n",
              "1         0.489130         0.007447  0.414376  0.0  ...          0.1650   \n",
              "2         0.489130         0.007447  0.414376  0.0  ...          0.1650   \n",
              "3         0.211957         0.002128  0.310782  0.0  ...          0.1848   \n",
              "4         0.070652         0.021277  0.363636  0.0  ...          0.0672   \n",
              "\n",
              "   Sugars.1  Proteins.1  Total Fats  Saturated Fats   Dietary Fiber .1  \\\n",
              "0       0.0       0.205    0.051020        0.383523           0.001117   \n",
              "1       0.0       0.205    0.051020        0.383523           0.001117   \n",
              "2       0.0       0.205    0.051020        0.383523           0.001117   \n",
              "3       0.0       0.228    0.077551        0.265909           0.000511   \n",
              "4       0.0       0.280    0.073469        0.088636           0.005106   \n",
              "\n",
              "   Sodium.1  B12.1  Calcium.1  Zinc.1  \n",
              "0  0.377892    0.0        0.0     0.0  \n",
              "1  0.377892    0.0        0.0     0.0  \n",
              "2  0.377892    0.0        0.0     0.0  \n",
              "3  0.453470    0.0        0.0     0.0  \n",
              "4  0.530591    0.0        0.0     0.0  \n",
              "\n",
              "[5 rows x 23 columns]"
            ],
            "text/html": [
              "\n",
              "  <div id=\"df-62cf95fe-94d4-41cb-b8e6-adfd6388d376\">\n",
              "    <div class=\"colab-df-container\">\n",
              "      <div>\n",
              "<style scoped>\n",
              "    .dataframe tbody tr th:only-of-type {\n",
              "        vertical-align: middle;\n",
              "    }\n",
              "\n",
              "    .dataframe tbody tr th {\n",
              "        vertical-align: top;\n",
              "    }\n",
              "\n",
              "    .dataframe thead th {\n",
              "        text-align: right;\n",
              "    }\n",
              "</style>\n",
              "<table border=\"1\" class=\"dataframe\">\n",
              "  <thead>\n",
              "    <tr style=\"text-align: right;\">\n",
              "      <th></th>\n",
              "      <th>Serving Size</th>\n",
              "      <th>Kcal</th>\n",
              "      <th>Carbohydrate</th>\n",
              "      <th>Sugars</th>\n",
              "      <th>Proteins</th>\n",
              "      <th>Total Fats</th>\n",
              "      <th>Saturated Fats</th>\n",
              "      <th>Dietary Fiber</th>\n",
              "      <th>Sodium</th>\n",
              "      <th>B12</th>\n",
              "      <th>...</th>\n",
              "      <th>Carbohydrate.1</th>\n",
              "      <th>Sugars.1</th>\n",
              "      <th>Proteins.1</th>\n",
              "      <th>Total Fats</th>\n",
              "      <th>Saturated Fats</th>\n",
              "      <th>Dietary Fiber .1</th>\n",
              "      <th>Sodium.1</th>\n",
              "      <th>B12.1</th>\n",
              "      <th>Calcium.1</th>\n",
              "      <th>Zinc.1</th>\n",
              "    </tr>\n",
              "  </thead>\n",
              "  <tbody>\n",
              "    <tr>\n",
              "      <th>0</th>\n",
              "      <td>0.212828</td>\n",
              "      <td>0.263815</td>\n",
              "      <td>0.244444</td>\n",
              "      <td>0.0</td>\n",
              "      <td>0.195238</td>\n",
              "      <td>0.204082</td>\n",
              "      <td>0.489130</td>\n",
              "      <td>0.007447</td>\n",
              "      <td>0.414376</td>\n",
              "      <td>0.0</td>\n",
              "      <td>...</td>\n",
              "      <td>0.1650</td>\n",
              "      <td>0.0</td>\n",
              "      <td>0.205</td>\n",
              "      <td>0.051020</td>\n",
              "      <td>0.383523</td>\n",
              "      <td>0.001117</td>\n",
              "      <td>0.377892</td>\n",
              "      <td>0.0</td>\n",
              "      <td>0.0</td>\n",
              "      <td>0.0</td>\n",
              "    </tr>\n",
              "    <tr>\n",
              "      <th>1</th>\n",
              "      <td>0.212828</td>\n",
              "      <td>0.263815</td>\n",
              "      <td>0.244444</td>\n",
              "      <td>0.0</td>\n",
              "      <td>0.195238</td>\n",
              "      <td>0.204082</td>\n",
              "      <td>0.489130</td>\n",
              "      <td>0.007447</td>\n",
              "      <td>0.414376</td>\n",
              "      <td>0.0</td>\n",
              "      <td>...</td>\n",
              "      <td>0.1650</td>\n",
              "      <td>0.0</td>\n",
              "      <td>0.205</td>\n",
              "      <td>0.051020</td>\n",
              "      <td>0.383523</td>\n",
              "      <td>0.001117</td>\n",
              "      <td>0.377892</td>\n",
              "      <td>0.0</td>\n",
              "      <td>0.0</td>\n",
              "      <td>0.0</td>\n",
              "    </tr>\n",
              "    <tr>\n",
              "      <th>2</th>\n",
              "      <td>0.212828</td>\n",
              "      <td>0.263815</td>\n",
              "      <td>0.244444</td>\n",
              "      <td>0.0</td>\n",
              "      <td>0.195238</td>\n",
              "      <td>0.204082</td>\n",
              "      <td>0.489130</td>\n",
              "      <td>0.007447</td>\n",
              "      <td>0.414376</td>\n",
              "      <td>0.0</td>\n",
              "      <td>...</td>\n",
              "      <td>0.1650</td>\n",
              "      <td>0.0</td>\n",
              "      <td>0.205</td>\n",
              "      <td>0.051020</td>\n",
              "      <td>0.383523</td>\n",
              "      <td>0.001117</td>\n",
              "      <td>0.377892</td>\n",
              "      <td>0.0</td>\n",
              "      <td>0.0</td>\n",
              "      <td>0.0</td>\n",
              "    </tr>\n",
              "    <tr>\n",
              "      <th>3</th>\n",
              "      <td>0.125364</td>\n",
              "      <td>0.212121</td>\n",
              "      <td>0.171111</td>\n",
              "      <td>0.0</td>\n",
              "      <td>0.135714</td>\n",
              "      <td>0.193878</td>\n",
              "      <td>0.211957</td>\n",
              "      <td>0.002128</td>\n",
              "      <td>0.310782</td>\n",
              "      <td>0.0</td>\n",
              "      <td>...</td>\n",
              "      <td>0.1848</td>\n",
              "      <td>0.0</td>\n",
              "      <td>0.228</td>\n",
              "      <td>0.077551</td>\n",
              "      <td>0.265909</td>\n",
              "      <td>0.000511</td>\n",
              "      <td>0.453470</td>\n",
              "      <td>0.0</td>\n",
              "      <td>0.0</td>\n",
              "      <td>0.0</td>\n",
              "    </tr>\n",
              "    <tr>\n",
              "      <th>4</th>\n",
              "      <td>0.125364</td>\n",
              "      <td>0.174688</td>\n",
              "      <td>0.062222</td>\n",
              "      <td>0.0</td>\n",
              "      <td>0.166667</td>\n",
              "      <td>0.183673</td>\n",
              "      <td>0.070652</td>\n",
              "      <td>0.021277</td>\n",
              "      <td>0.363636</td>\n",
              "      <td>0.0</td>\n",
              "      <td>...</td>\n",
              "      <td>0.0672</td>\n",
              "      <td>0.0</td>\n",
              "      <td>0.280</td>\n",
              "      <td>0.073469</td>\n",
              "      <td>0.088636</td>\n",
              "      <td>0.005106</td>\n",
              "      <td>0.530591</td>\n",
              "      <td>0.0</td>\n",
              "      <td>0.0</td>\n",
              "      <td>0.0</td>\n",
              "    </tr>\n",
              "  </tbody>\n",
              "</table>\n",
              "<p>5 rows × 23 columns</p>\n",
              "</div>\n",
              "      <button class=\"colab-df-convert\" onclick=\"convertToInteractive('df-62cf95fe-94d4-41cb-b8e6-adfd6388d376')\"\n",
              "              title=\"Convert this dataframe to an interactive table.\"\n",
              "              style=\"display:none;\">\n",
              "        \n",
              "  <svg xmlns=\"http://www.w3.org/2000/svg\" height=\"24px\"viewBox=\"0 0 24 24\"\n",
              "       width=\"24px\">\n",
              "    <path d=\"M0 0h24v24H0V0z\" fill=\"none\"/>\n",
              "    <path d=\"M18.56 5.44l.94 2.06.94-2.06 2.06-.94-2.06-.94-.94-2.06-.94 2.06-2.06.94zm-11 1L8.5 8.5l.94-2.06 2.06-.94-2.06-.94L8.5 2.5l-.94 2.06-2.06.94zm10 10l.94 2.06.94-2.06 2.06-.94-2.06-.94-.94-2.06-.94 2.06-2.06.94z\"/><path d=\"M17.41 7.96l-1.37-1.37c-.4-.4-.92-.59-1.43-.59-.52 0-1.04.2-1.43.59L10.3 9.45l-7.72 7.72c-.78.78-.78 2.05 0 2.83L4 21.41c.39.39.9.59 1.41.59.51 0 1.02-.2 1.41-.59l7.78-7.78 2.81-2.81c.8-.78.8-2.07 0-2.86zM5.41 20L4 18.59l7.72-7.72 1.47 1.35L5.41 20z\"/>\n",
              "  </svg>\n",
              "      </button>\n",
              "      \n",
              "  <style>\n",
              "    .colab-df-container {\n",
              "      display:flex;\n",
              "      flex-wrap:wrap;\n",
              "      gap: 12px;\n",
              "    }\n",
              "\n",
              "    .colab-df-convert {\n",
              "      background-color: #E8F0FE;\n",
              "      border: none;\n",
              "      border-radius: 50%;\n",
              "      cursor: pointer;\n",
              "      display: none;\n",
              "      fill: #1967D2;\n",
              "      height: 32px;\n",
              "      padding: 0 0 0 0;\n",
              "      width: 32px;\n",
              "    }\n",
              "\n",
              "    .colab-df-convert:hover {\n",
              "      background-color: #E2EBFA;\n",
              "      box-shadow: 0px 1px 2px rgba(60, 64, 67, 0.3), 0px 1px 3px 1px rgba(60, 64, 67, 0.15);\n",
              "      fill: #174EA6;\n",
              "    }\n",
              "\n",
              "    [theme=dark] .colab-df-convert {\n",
              "      background-color: #3B4455;\n",
              "      fill: #D2E3FC;\n",
              "    }\n",
              "\n",
              "    [theme=dark] .colab-df-convert:hover {\n",
              "      background-color: #434B5C;\n",
              "      box-shadow: 0px 1px 3px 1px rgba(0, 0, 0, 0.15);\n",
              "      filter: drop-shadow(0px 1px 2px rgba(0, 0, 0, 0.3));\n",
              "      fill: #FFFFFF;\n",
              "    }\n",
              "  </style>\n",
              "\n",
              "      <script>\n",
              "        const buttonEl =\n",
              "          document.querySelector('#df-62cf95fe-94d4-41cb-b8e6-adfd6388d376 button.colab-df-convert');\n",
              "        buttonEl.style.display =\n",
              "          google.colab.kernel.accessAllowed ? 'block' : 'none';\n",
              "\n",
              "        async function convertToInteractive(key) {\n",
              "          const element = document.querySelector('#df-62cf95fe-94d4-41cb-b8e6-adfd6388d376');\n",
              "          const dataTable =\n",
              "            await google.colab.kernel.invokeFunction('convertToInteractive',\n",
              "                                                     [key], {});\n",
              "          if (!dataTable) return;\n",
              "\n",
              "          const docLinkHtml = 'Like what you see? Visit the ' +\n",
              "            '<a target=\"_blank\" href=https://colab.research.google.com/notebooks/data_table.ipynb>data table notebook</a>'\n",
              "            + ' to learn more about interactive tables.';\n",
              "          element.innerHTML = '';\n",
              "          dataTable['output_type'] = 'display_data';\n",
              "          await google.colab.output.renderOutput(dataTable, element);\n",
              "          const docLink = document.createElement('div');\n",
              "          docLink.innerHTML = docLinkHtml;\n",
              "          element.appendChild(docLink);\n",
              "        }\n",
              "      </script>\n",
              "    </div>\n",
              "  </div>\n",
              "  "
            ]
          },
          "metadata": {},
          "execution_count": 67
        }
      ]
    },
    {
      "cell_type": "markdown",
      "source": [
        "### Normalizing Ingredients (One Hot Encode)"
      ],
      "metadata": {
        "id": "47hZh5mjFl6H"
      }
    },
    {
      "cell_type": "code",
      "source": [
        "ingredients_normalized = pd.DataFrame()\n",
        "\n",
        "for i in range(276):\n",
        "  aux = data_ingredients.at[i,'Ingredients'].split(\",\")\n",
        "  for w in aux:\n",
        "    w = unidecode(w.lower().lstrip().replace('.',''))\n",
        "    ingredients_normalized.at[i,w] = 1\n",
        "\n",
        "ingredients_normalized = ingredients_normalized.replace(np.nan,0)\n",
        "ingredients_normalized.head()"
      ],
      "metadata": {
        "id": "r_fKMe2ghv6k",
        "colab": {
          "base_uri": "https://localhost:8080/",
          "height": 0
        },
        "outputId": "ab33ec0e-0be0-4da9-d6a7-3c0c05a8fa13"
      },
      "execution_count": 68,
      "outputs": [
        {
          "output_type": "execute_result",
          "data": {
            "text/plain": [
              "   water  texturizedsoyprotein  peaprotein e chickpeaflour  vegetalfat  \\\n",
              "0    1.0                   1.0                         1.0         1.0   \n",
              "1    1.0                   1.0                         1.0         1.0   \n",
              "2    1.0                   1.0                         1.0         1.0   \n",
              "3    1.0                   1.0                         1.0         1.0   \n",
              "4    1.0                   1.0                         0.0         0.0   \n",
              "\n",
              "   modifiedstarch  onion  meatflavoredcondiment  salt  sugar  powderedbeet  \\\n",
              "0             1.0    1.0                    1.0   1.0    1.0           1.0   \n",
              "1             1.0    1.0                    1.0   1.0    0.0           1.0   \n",
              "2             1.0    1.0                    1.0   1.0    0.0           1.0   \n",
              "3             1.0    1.0                    0.0   1.0    1.0           1.0   \n",
              "4             0.0    0.0                    0.0   1.0    1.0           0.0   \n",
              "\n",
              "   ...  cloreto de potassio  calciumdisodium and citricacid  \\\n",
              "0  ...                  0.0                             0.0   \n",
              "1  ...                  0.0                             0.0   \n",
              "2  ...                  0.0                             0.0   \n",
              "3  ...                  0.0                             0.0   \n",
              "4  ...                  0.0                             0.0   \n",
              "\n",
              "   isolatedvegetableprotein  hydrolyzedvegetableprotein  soy  \\\n",
              "0                       0.0                         0.0  0.0   \n",
              "1                       0.0                         0.0  0.0   \n",
              "2                       0.0                         0.0  0.0   \n",
              "3                       0.0                         0.0  0.0   \n",
              "4                       0.0                         0.0  0.0   \n",
              "\n",
              "   potassiumsorbate   peastarch  peaprotein and sodiumbicarbonate  \\\n",
              "0                0.0        0.0                               0.0   \n",
              "1                0.0        0.0                               0.0   \n",
              "2                0.0        0.0                               0.0   \n",
              "3                0.0        0.0                               0.0   \n",
              "4                0.0        0.0                               0.0   \n",
              "\n",
              "   isolatedriceprotein  chickpeas and goldenflaxseed  \n",
              "0                  0.0                           0.0  \n",
              "1                  0.0                           0.0  \n",
              "2                  0.0                           0.0  \n",
              "3                  0.0                           0.0  \n",
              "4                  0.0                           0.0  \n",
              "\n",
              "[5 rows x 607 columns]"
            ],
            "text/html": [
              "\n",
              "  <div id=\"df-11672227-72dd-4431-b6f5-8a22149a3d47\">\n",
              "    <div class=\"colab-df-container\">\n",
              "      <div>\n",
              "<style scoped>\n",
              "    .dataframe tbody tr th:only-of-type {\n",
              "        vertical-align: middle;\n",
              "    }\n",
              "\n",
              "    .dataframe tbody tr th {\n",
              "        vertical-align: top;\n",
              "    }\n",
              "\n",
              "    .dataframe thead th {\n",
              "        text-align: right;\n",
              "    }\n",
              "</style>\n",
              "<table border=\"1\" class=\"dataframe\">\n",
              "  <thead>\n",
              "    <tr style=\"text-align: right;\">\n",
              "      <th></th>\n",
              "      <th>water</th>\n",
              "      <th>texturizedsoyprotein</th>\n",
              "      <th>peaprotein e chickpeaflour</th>\n",
              "      <th>vegetalfat</th>\n",
              "      <th>modifiedstarch</th>\n",
              "      <th>onion</th>\n",
              "      <th>meatflavoredcondiment</th>\n",
              "      <th>salt</th>\n",
              "      <th>sugar</th>\n",
              "      <th>powderedbeet</th>\n",
              "      <th>...</th>\n",
              "      <th>cloreto de potassio</th>\n",
              "      <th>calciumdisodium and citricacid</th>\n",
              "      <th>isolatedvegetableprotein</th>\n",
              "      <th>hydrolyzedvegetableprotein</th>\n",
              "      <th>soy</th>\n",
              "      <th>potassiumsorbate</th>\n",
              "      <th>peastarch</th>\n",
              "      <th>peaprotein and sodiumbicarbonate</th>\n",
              "      <th>isolatedriceprotein</th>\n",
              "      <th>chickpeas and goldenflaxseed</th>\n",
              "    </tr>\n",
              "  </thead>\n",
              "  <tbody>\n",
              "    <tr>\n",
              "      <th>0</th>\n",
              "      <td>1.0</td>\n",
              "      <td>1.0</td>\n",
              "      <td>1.0</td>\n",
              "      <td>1.0</td>\n",
              "      <td>1.0</td>\n",
              "      <td>1.0</td>\n",
              "      <td>1.0</td>\n",
              "      <td>1.0</td>\n",
              "      <td>1.0</td>\n",
              "      <td>1.0</td>\n",
              "      <td>...</td>\n",
              "      <td>0.0</td>\n",
              "      <td>0.0</td>\n",
              "      <td>0.0</td>\n",
              "      <td>0.0</td>\n",
              "      <td>0.0</td>\n",
              "      <td>0.0</td>\n",
              "      <td>0.0</td>\n",
              "      <td>0.0</td>\n",
              "      <td>0.0</td>\n",
              "      <td>0.0</td>\n",
              "    </tr>\n",
              "    <tr>\n",
              "      <th>1</th>\n",
              "      <td>1.0</td>\n",
              "      <td>1.0</td>\n",
              "      <td>1.0</td>\n",
              "      <td>1.0</td>\n",
              "      <td>1.0</td>\n",
              "      <td>1.0</td>\n",
              "      <td>1.0</td>\n",
              "      <td>1.0</td>\n",
              "      <td>0.0</td>\n",
              "      <td>1.0</td>\n",
              "      <td>...</td>\n",
              "      <td>0.0</td>\n",
              "      <td>0.0</td>\n",
              "      <td>0.0</td>\n",
              "      <td>0.0</td>\n",
              "      <td>0.0</td>\n",
              "      <td>0.0</td>\n",
              "      <td>0.0</td>\n",
              "      <td>0.0</td>\n",
              "      <td>0.0</td>\n",
              "      <td>0.0</td>\n",
              "    </tr>\n",
              "    <tr>\n",
              "      <th>2</th>\n",
              "      <td>1.0</td>\n",
              "      <td>1.0</td>\n",
              "      <td>1.0</td>\n",
              "      <td>1.0</td>\n",
              "      <td>1.0</td>\n",
              "      <td>1.0</td>\n",
              "      <td>1.0</td>\n",
              "      <td>1.0</td>\n",
              "      <td>0.0</td>\n",
              "      <td>1.0</td>\n",
              "      <td>...</td>\n",
              "      <td>0.0</td>\n",
              "      <td>0.0</td>\n",
              "      <td>0.0</td>\n",
              "      <td>0.0</td>\n",
              "      <td>0.0</td>\n",
              "      <td>0.0</td>\n",
              "      <td>0.0</td>\n",
              "      <td>0.0</td>\n",
              "      <td>0.0</td>\n",
              "      <td>0.0</td>\n",
              "    </tr>\n",
              "    <tr>\n",
              "      <th>3</th>\n",
              "      <td>1.0</td>\n",
              "      <td>1.0</td>\n",
              "      <td>1.0</td>\n",
              "      <td>1.0</td>\n",
              "      <td>1.0</td>\n",
              "      <td>1.0</td>\n",
              "      <td>0.0</td>\n",
              "      <td>1.0</td>\n",
              "      <td>1.0</td>\n",
              "      <td>1.0</td>\n",
              "      <td>...</td>\n",
              "      <td>0.0</td>\n",
              "      <td>0.0</td>\n",
              "      <td>0.0</td>\n",
              "      <td>0.0</td>\n",
              "      <td>0.0</td>\n",
              "      <td>0.0</td>\n",
              "      <td>0.0</td>\n",
              "      <td>0.0</td>\n",
              "      <td>0.0</td>\n",
              "      <td>0.0</td>\n",
              "    </tr>\n",
              "    <tr>\n",
              "      <th>4</th>\n",
              "      <td>1.0</td>\n",
              "      <td>1.0</td>\n",
              "      <td>0.0</td>\n",
              "      <td>0.0</td>\n",
              "      <td>0.0</td>\n",
              "      <td>0.0</td>\n",
              "      <td>0.0</td>\n",
              "      <td>1.0</td>\n",
              "      <td>1.0</td>\n",
              "      <td>0.0</td>\n",
              "      <td>...</td>\n",
              "      <td>0.0</td>\n",
              "      <td>0.0</td>\n",
              "      <td>0.0</td>\n",
              "      <td>0.0</td>\n",
              "      <td>0.0</td>\n",
              "      <td>0.0</td>\n",
              "      <td>0.0</td>\n",
              "      <td>0.0</td>\n",
              "      <td>0.0</td>\n",
              "      <td>0.0</td>\n",
              "    </tr>\n",
              "  </tbody>\n",
              "</table>\n",
              "<p>5 rows × 607 columns</p>\n",
              "</div>\n",
              "      <button class=\"colab-df-convert\" onclick=\"convertToInteractive('df-11672227-72dd-4431-b6f5-8a22149a3d47')\"\n",
              "              title=\"Convert this dataframe to an interactive table.\"\n",
              "              style=\"display:none;\">\n",
              "        \n",
              "  <svg xmlns=\"http://www.w3.org/2000/svg\" height=\"24px\"viewBox=\"0 0 24 24\"\n",
              "       width=\"24px\">\n",
              "    <path d=\"M0 0h24v24H0V0z\" fill=\"none\"/>\n",
              "    <path d=\"M18.56 5.44l.94 2.06.94-2.06 2.06-.94-2.06-.94-.94-2.06-.94 2.06-2.06.94zm-11 1L8.5 8.5l.94-2.06 2.06-.94-2.06-.94L8.5 2.5l-.94 2.06-2.06.94zm10 10l.94 2.06.94-2.06 2.06-.94-2.06-.94-.94-2.06-.94 2.06-2.06.94z\"/><path d=\"M17.41 7.96l-1.37-1.37c-.4-.4-.92-.59-1.43-.59-.52 0-1.04.2-1.43.59L10.3 9.45l-7.72 7.72c-.78.78-.78 2.05 0 2.83L4 21.41c.39.39.9.59 1.41.59.51 0 1.02-.2 1.41-.59l7.78-7.78 2.81-2.81c.8-.78.8-2.07 0-2.86zM5.41 20L4 18.59l7.72-7.72 1.47 1.35L5.41 20z\"/>\n",
              "  </svg>\n",
              "      </button>\n",
              "      \n",
              "  <style>\n",
              "    .colab-df-container {\n",
              "      display:flex;\n",
              "      flex-wrap:wrap;\n",
              "      gap: 12px;\n",
              "    }\n",
              "\n",
              "    .colab-df-convert {\n",
              "      background-color: #E8F0FE;\n",
              "      border: none;\n",
              "      border-radius: 50%;\n",
              "      cursor: pointer;\n",
              "      display: none;\n",
              "      fill: #1967D2;\n",
              "      height: 32px;\n",
              "      padding: 0 0 0 0;\n",
              "      width: 32px;\n",
              "    }\n",
              "\n",
              "    .colab-df-convert:hover {\n",
              "      background-color: #E2EBFA;\n",
              "      box-shadow: 0px 1px 2px rgba(60, 64, 67, 0.3), 0px 1px 3px 1px rgba(60, 64, 67, 0.15);\n",
              "      fill: #174EA6;\n",
              "    }\n",
              "\n",
              "    [theme=dark] .colab-df-convert {\n",
              "      background-color: #3B4455;\n",
              "      fill: #D2E3FC;\n",
              "    }\n",
              "\n",
              "    [theme=dark] .colab-df-convert:hover {\n",
              "      background-color: #434B5C;\n",
              "      box-shadow: 0px 1px 3px 1px rgba(0, 0, 0, 0.15);\n",
              "      filter: drop-shadow(0px 1px 2px rgba(0, 0, 0, 0.3));\n",
              "      fill: #FFFFFF;\n",
              "    }\n",
              "  </style>\n",
              "\n",
              "      <script>\n",
              "        const buttonEl =\n",
              "          document.querySelector('#df-11672227-72dd-4431-b6f5-8a22149a3d47 button.colab-df-convert');\n",
              "        buttonEl.style.display =\n",
              "          google.colab.kernel.accessAllowed ? 'block' : 'none';\n",
              "\n",
              "        async function convertToInteractive(key) {\n",
              "          const element = document.querySelector('#df-11672227-72dd-4431-b6f5-8a22149a3d47');\n",
              "          const dataTable =\n",
              "            await google.colab.kernel.invokeFunction('convertToInteractive',\n",
              "                                                     [key], {});\n",
              "          if (!dataTable) return;\n",
              "\n",
              "          const docLinkHtml = 'Like what you see? Visit the ' +\n",
              "            '<a target=\"_blank\" href=https://colab.research.google.com/notebooks/data_table.ipynb>data table notebook</a>'\n",
              "            + ' to learn more about interactive tables.';\n",
              "          element.innerHTML = '';\n",
              "          dataTable['output_type'] = 'display_data';\n",
              "          await google.colab.output.renderOutput(dataTable, element);\n",
              "          const docLink = document.createElement('div');\n",
              "          docLink.innerHTML = docLinkHtml;\n",
              "          element.appendChild(docLink);\n",
              "        }\n",
              "      </script>\n",
              "    </div>\n",
              "  </div>\n",
              "  "
            ]
          },
          "metadata": {},
          "execution_count": 68
        }
      ]
    },
    {
      "cell_type": "markdown",
      "source": [
        "### Preparing data"
      ],
      "metadata": {
        "id": "azEImQ_cGFi_"
      }
    },
    {
      "cell_type": "code",
      "source": [
        "raw_data = pd.DataFrame(ingredients_normalized)\n",
        "raw_data = pd.concat([raw_data,nutrients_normalized], axis=1)\n",
        "raw_data = raw_data.replace(np.nan,0)\n",
        "\n",
        "raw_data.head()"
      ],
      "metadata": {
        "colab": {
          "base_uri": "https://localhost:8080/",
          "height": 0
        },
        "id": "tTomN3J0kd6h",
        "outputId": "1e8e4c7c-2d63-4b88-ca8a-302e3cae547f"
      },
      "execution_count": 69,
      "outputs": [
        {
          "output_type": "execute_result",
          "data": {
            "text/plain": [
              "   water  texturizedsoyprotein  peaprotein e chickpeaflour  vegetalfat  \\\n",
              "0    1.0                   1.0                         1.0         1.0   \n",
              "1    1.0                   1.0                         1.0         1.0   \n",
              "2    1.0                   1.0                         1.0         1.0   \n",
              "3    1.0                   1.0                         1.0         1.0   \n",
              "4    1.0                   1.0                         0.0         0.0   \n",
              "\n",
              "   modifiedstarch  onion  meatflavoredcondiment  salt  sugar  powderedbeet  \\\n",
              "0             1.0    1.0                    1.0   1.0    1.0           1.0   \n",
              "1             1.0    1.0                    1.0   1.0    0.0           1.0   \n",
              "2             1.0    1.0                    1.0   1.0    0.0           1.0   \n",
              "3             1.0    1.0                    0.0   1.0    1.0           1.0   \n",
              "4             0.0    0.0                    0.0   1.0    1.0           0.0   \n",
              "\n",
              "   ...  Carbohydrate.1  Sugars.1  Proteins.1  Total Fats  Saturated Fats  \\\n",
              "0  ...          0.1650       0.0       0.205    0.051020        0.383523   \n",
              "1  ...          0.1650       0.0       0.205    0.051020        0.383523   \n",
              "2  ...          0.1650       0.0       0.205    0.051020        0.383523   \n",
              "3  ...          0.1848       0.0       0.228    0.077551        0.265909   \n",
              "4  ...          0.0672       0.0       0.280    0.073469        0.088636   \n",
              "\n",
              "    Dietary Fiber .1  Sodium.1  B12.1  Calcium.1  Zinc.1  \n",
              "0           0.001117  0.377892    0.0        0.0     0.0  \n",
              "1           0.001117  0.377892    0.0        0.0     0.0  \n",
              "2           0.001117  0.377892    0.0        0.0     0.0  \n",
              "3           0.000511  0.453470    0.0        0.0     0.0  \n",
              "4           0.005106  0.530591    0.0        0.0     0.0  \n",
              "\n",
              "[5 rows x 630 columns]"
            ],
            "text/html": [
              "\n",
              "  <div id=\"df-f710ead8-82e6-4140-8da0-c018b889807e\">\n",
              "    <div class=\"colab-df-container\">\n",
              "      <div>\n",
              "<style scoped>\n",
              "    .dataframe tbody tr th:only-of-type {\n",
              "        vertical-align: middle;\n",
              "    }\n",
              "\n",
              "    .dataframe tbody tr th {\n",
              "        vertical-align: top;\n",
              "    }\n",
              "\n",
              "    .dataframe thead th {\n",
              "        text-align: right;\n",
              "    }\n",
              "</style>\n",
              "<table border=\"1\" class=\"dataframe\">\n",
              "  <thead>\n",
              "    <tr style=\"text-align: right;\">\n",
              "      <th></th>\n",
              "      <th>water</th>\n",
              "      <th>texturizedsoyprotein</th>\n",
              "      <th>peaprotein e chickpeaflour</th>\n",
              "      <th>vegetalfat</th>\n",
              "      <th>modifiedstarch</th>\n",
              "      <th>onion</th>\n",
              "      <th>meatflavoredcondiment</th>\n",
              "      <th>salt</th>\n",
              "      <th>sugar</th>\n",
              "      <th>powderedbeet</th>\n",
              "      <th>...</th>\n",
              "      <th>Carbohydrate.1</th>\n",
              "      <th>Sugars.1</th>\n",
              "      <th>Proteins.1</th>\n",
              "      <th>Total Fats</th>\n",
              "      <th>Saturated Fats</th>\n",
              "      <th>Dietary Fiber .1</th>\n",
              "      <th>Sodium.1</th>\n",
              "      <th>B12.1</th>\n",
              "      <th>Calcium.1</th>\n",
              "      <th>Zinc.1</th>\n",
              "    </tr>\n",
              "  </thead>\n",
              "  <tbody>\n",
              "    <tr>\n",
              "      <th>0</th>\n",
              "      <td>1.0</td>\n",
              "      <td>1.0</td>\n",
              "      <td>1.0</td>\n",
              "      <td>1.0</td>\n",
              "      <td>1.0</td>\n",
              "      <td>1.0</td>\n",
              "      <td>1.0</td>\n",
              "      <td>1.0</td>\n",
              "      <td>1.0</td>\n",
              "      <td>1.0</td>\n",
              "      <td>...</td>\n",
              "      <td>0.1650</td>\n",
              "      <td>0.0</td>\n",
              "      <td>0.205</td>\n",
              "      <td>0.051020</td>\n",
              "      <td>0.383523</td>\n",
              "      <td>0.001117</td>\n",
              "      <td>0.377892</td>\n",
              "      <td>0.0</td>\n",
              "      <td>0.0</td>\n",
              "      <td>0.0</td>\n",
              "    </tr>\n",
              "    <tr>\n",
              "      <th>1</th>\n",
              "      <td>1.0</td>\n",
              "      <td>1.0</td>\n",
              "      <td>1.0</td>\n",
              "      <td>1.0</td>\n",
              "      <td>1.0</td>\n",
              "      <td>1.0</td>\n",
              "      <td>1.0</td>\n",
              "      <td>1.0</td>\n",
              "      <td>0.0</td>\n",
              "      <td>1.0</td>\n",
              "      <td>...</td>\n",
              "      <td>0.1650</td>\n",
              "      <td>0.0</td>\n",
              "      <td>0.205</td>\n",
              "      <td>0.051020</td>\n",
              "      <td>0.383523</td>\n",
              "      <td>0.001117</td>\n",
              "      <td>0.377892</td>\n",
              "      <td>0.0</td>\n",
              "      <td>0.0</td>\n",
              "      <td>0.0</td>\n",
              "    </tr>\n",
              "    <tr>\n",
              "      <th>2</th>\n",
              "      <td>1.0</td>\n",
              "      <td>1.0</td>\n",
              "      <td>1.0</td>\n",
              "      <td>1.0</td>\n",
              "      <td>1.0</td>\n",
              "      <td>1.0</td>\n",
              "      <td>1.0</td>\n",
              "      <td>1.0</td>\n",
              "      <td>0.0</td>\n",
              "      <td>1.0</td>\n",
              "      <td>...</td>\n",
              "      <td>0.1650</td>\n",
              "      <td>0.0</td>\n",
              "      <td>0.205</td>\n",
              "      <td>0.051020</td>\n",
              "      <td>0.383523</td>\n",
              "      <td>0.001117</td>\n",
              "      <td>0.377892</td>\n",
              "      <td>0.0</td>\n",
              "      <td>0.0</td>\n",
              "      <td>0.0</td>\n",
              "    </tr>\n",
              "    <tr>\n",
              "      <th>3</th>\n",
              "      <td>1.0</td>\n",
              "      <td>1.0</td>\n",
              "      <td>1.0</td>\n",
              "      <td>1.0</td>\n",
              "      <td>1.0</td>\n",
              "      <td>1.0</td>\n",
              "      <td>0.0</td>\n",
              "      <td>1.0</td>\n",
              "      <td>1.0</td>\n",
              "      <td>1.0</td>\n",
              "      <td>...</td>\n",
              "      <td>0.1848</td>\n",
              "      <td>0.0</td>\n",
              "      <td>0.228</td>\n",
              "      <td>0.077551</td>\n",
              "      <td>0.265909</td>\n",
              "      <td>0.000511</td>\n",
              "      <td>0.453470</td>\n",
              "      <td>0.0</td>\n",
              "      <td>0.0</td>\n",
              "      <td>0.0</td>\n",
              "    </tr>\n",
              "    <tr>\n",
              "      <th>4</th>\n",
              "      <td>1.0</td>\n",
              "      <td>1.0</td>\n",
              "      <td>0.0</td>\n",
              "      <td>0.0</td>\n",
              "      <td>0.0</td>\n",
              "      <td>0.0</td>\n",
              "      <td>0.0</td>\n",
              "      <td>1.0</td>\n",
              "      <td>1.0</td>\n",
              "      <td>0.0</td>\n",
              "      <td>...</td>\n",
              "      <td>0.0672</td>\n",
              "      <td>0.0</td>\n",
              "      <td>0.280</td>\n",
              "      <td>0.073469</td>\n",
              "      <td>0.088636</td>\n",
              "      <td>0.005106</td>\n",
              "      <td>0.530591</td>\n",
              "      <td>0.0</td>\n",
              "      <td>0.0</td>\n",
              "      <td>0.0</td>\n",
              "    </tr>\n",
              "  </tbody>\n",
              "</table>\n",
              "<p>5 rows × 630 columns</p>\n",
              "</div>\n",
              "      <button class=\"colab-df-convert\" onclick=\"convertToInteractive('df-f710ead8-82e6-4140-8da0-c018b889807e')\"\n",
              "              title=\"Convert this dataframe to an interactive table.\"\n",
              "              style=\"display:none;\">\n",
              "        \n",
              "  <svg xmlns=\"http://www.w3.org/2000/svg\" height=\"24px\"viewBox=\"0 0 24 24\"\n",
              "       width=\"24px\">\n",
              "    <path d=\"M0 0h24v24H0V0z\" fill=\"none\"/>\n",
              "    <path d=\"M18.56 5.44l.94 2.06.94-2.06 2.06-.94-2.06-.94-.94-2.06-.94 2.06-2.06.94zm-11 1L8.5 8.5l.94-2.06 2.06-.94-2.06-.94L8.5 2.5l-.94 2.06-2.06.94zm10 10l.94 2.06.94-2.06 2.06-.94-2.06-.94-.94-2.06-.94 2.06-2.06.94z\"/><path d=\"M17.41 7.96l-1.37-1.37c-.4-.4-.92-.59-1.43-.59-.52 0-1.04.2-1.43.59L10.3 9.45l-7.72 7.72c-.78.78-.78 2.05 0 2.83L4 21.41c.39.39.9.59 1.41.59.51 0 1.02-.2 1.41-.59l7.78-7.78 2.81-2.81c.8-.78.8-2.07 0-2.86zM5.41 20L4 18.59l7.72-7.72 1.47 1.35L5.41 20z\"/>\n",
              "  </svg>\n",
              "      </button>\n",
              "      \n",
              "  <style>\n",
              "    .colab-df-container {\n",
              "      display:flex;\n",
              "      flex-wrap:wrap;\n",
              "      gap: 12px;\n",
              "    }\n",
              "\n",
              "    .colab-df-convert {\n",
              "      background-color: #E8F0FE;\n",
              "      border: none;\n",
              "      border-radius: 50%;\n",
              "      cursor: pointer;\n",
              "      display: none;\n",
              "      fill: #1967D2;\n",
              "      height: 32px;\n",
              "      padding: 0 0 0 0;\n",
              "      width: 32px;\n",
              "    }\n",
              "\n",
              "    .colab-df-convert:hover {\n",
              "      background-color: #E2EBFA;\n",
              "      box-shadow: 0px 1px 2px rgba(60, 64, 67, 0.3), 0px 1px 3px 1px rgba(60, 64, 67, 0.15);\n",
              "      fill: #174EA6;\n",
              "    }\n",
              "\n",
              "    [theme=dark] .colab-df-convert {\n",
              "      background-color: #3B4455;\n",
              "      fill: #D2E3FC;\n",
              "    }\n",
              "\n",
              "    [theme=dark] .colab-df-convert:hover {\n",
              "      background-color: #434B5C;\n",
              "      box-shadow: 0px 1px 3px 1px rgba(0, 0, 0, 0.15);\n",
              "      filter: drop-shadow(0px 1px 2px rgba(0, 0, 0, 0.3));\n",
              "      fill: #FFFFFF;\n",
              "    }\n",
              "  </style>\n",
              "\n",
              "      <script>\n",
              "        const buttonEl =\n",
              "          document.querySelector('#df-f710ead8-82e6-4140-8da0-c018b889807e button.colab-df-convert');\n",
              "        buttonEl.style.display =\n",
              "          google.colab.kernel.accessAllowed ? 'block' : 'none';\n",
              "\n",
              "        async function convertToInteractive(key) {\n",
              "          const element = document.querySelector('#df-f710ead8-82e6-4140-8da0-c018b889807e');\n",
              "          const dataTable =\n",
              "            await google.colab.kernel.invokeFunction('convertToInteractive',\n",
              "                                                     [key], {});\n",
              "          if (!dataTable) return;\n",
              "\n",
              "          const docLinkHtml = 'Like what you see? Visit the ' +\n",
              "            '<a target=\"_blank\" href=https://colab.research.google.com/notebooks/data_table.ipynb>data table notebook</a>'\n",
              "            + ' to learn more about interactive tables.';\n",
              "          element.innerHTML = '';\n",
              "          dataTable['output_type'] = 'display_data';\n",
              "          await google.colab.output.renderOutput(dataTable, element);\n",
              "          const docLink = document.createElement('div');\n",
              "          docLink.innerHTML = docLinkHtml;\n",
              "          element.appendChild(docLink);\n",
              "        }\n",
              "      </script>\n",
              "    </div>\n",
              "  </div>\n",
              "  "
            ]
          },
          "metadata": {},
          "execution_count": 69
        }
      ]
    },
    {
      "cell_type": "code",
      "source": [
        "X = raw_data.values\n",
        "X_ingredients = ingredients_normalized.values\n",
        "X_nutrients = nutrients_normalized.values\n",
        "y = label_data.values\n",
        "all_data = label_data.join(raw_data)\n",
        "\n",
        "for i in range(276):\n",
        "  label = label_data['Classification'][i].rstrip()\n",
        "  label_data.at[i,'Classification'] = label\n",
        "  all_data.at[i,'Classification'] = label\n",
        "\n",
        "print(all_data['Classification'].value_counts())"
      ],
      "metadata": {
        "colab": {
          "base_uri": "https://localhost:8080/"
        },
        "id": "I8hjs_JCcDiL",
        "outputId": "3aed5f27-7431-4e2e-b47e-d2834ce4cf05"
      },
      "execution_count": 70,
      "outputs": [
        {
          "output_type": "stream",
          "name": "stdout",
          "text": [
            "DAIRY 1      80\n",
            "DAIRY 3      45\n",
            "MEAT 1       34\n",
            "MEAT 3       18\n",
            "POULTRY 1    14\n",
            "EGG 1        14\n",
            "POULTRY 3    13\n",
            "PORK 1       12\n",
            "DAIRY 2      11\n",
            "MEAT 2        9\n",
            "FISH 1        8\n",
            "PORK 2        6\n",
            "POULTRY 2     5\n",
            "FISH 2        5\n",
            "EGG 2         2\n",
            "Name: Classification, dtype: int64\n"
          ]
        }
      ]
    },
    {
      "cell_type": "markdown",
      "source": [
        "# Visualization Techniques"
      ],
      "metadata": {
        "id": "fc67aC8Lj5hE"
      }
    },
    {
      "cell_type": "code",
      "source": [
        "for i in range(276):\n",
        "  aux = data_ingredients.at[i,'Ingredients']\n",
        "  data_ingredients.at[i,'Ingredients'] = re.sub(',\\s*',\"<br>\",aux).lstrip()\n",
        "\n",
        "print(data_ingredients.at[0,'Ingredients'])"
      ],
      "metadata": {
        "colab": {
          "base_uri": "https://localhost:8080/"
        },
        "id": "fPvDbUMGFeWs",
        "outputId": "817dcac3-c012-49d9-c2ed-7418a669429a"
      },
      "execution_count": 71,
      "outputs": [
        {
          "output_type": "stream",
          "name": "stdout",
          "text": [
            "water<br>texturizedsoyprotein<br>peaprotein e chickpeaflour<br>vegetalfat<br>modifiedstarch<br>onion<br>meatflavoredcondiment<br>salt<br>sugar<br>powderedbeet<br>estabilizante methylcelullose<br>naturalaromatizer e antioxidant àcido ascórbico.\n"
          ]
        }
      ]
    },
    {
      "cell_type": "code",
      "source": [
        "if not os.path.exists(\"imgs\"):\n",
        "    os.mkdir(\"imgs\")"
      ],
      "metadata": {
        "id": "E3cA0tsme9Yz"
      },
      "execution_count": 72,
      "outputs": []
    },
    {
      "cell_type": "markdown",
      "source": [
        "### t-SNE"
      ],
      "metadata": {
        "id": "XDaLYnRncUbJ"
      }
    },
    {
      "cell_type": "code",
      "source": [
        "tsne = TSNE(n_components=2,perplexity=5,learning_rate=100,metric='euclidean', init='pca')\n",
        "X_tsne = tsne.fit_transform(X)\n",
        "\n",
        "X_tsne[1:4, :]\n",
        "all_data['x'] = X_tsne[:,0]\n",
        "all_data['y'] = X_tsne[:,1]\n",
        "all_data['Ingredients'] = data_ingredients\n",
        "\n",
        "fig = px.scatter(\n",
        "    all_data, \n",
        "    x='x', \n",
        "    y='y', \n",
        "    color='Classification', \n",
        "    template=\"simple_white\",\n",
        "    labels={ \n",
        "      \"Classification\": \"Classification (Label)\"\n",
        "    },\n",
        "    color_discrete_sequence= px.colors.qualitative.Plotly + px.colors.qualitative.Bold,\n",
        "    hover_name=\"Description\",\n",
        "    hover_data={'x':False,\n",
        "                'y':False,  \n",
        "                'Kcal ': [f' {x}' for x in data['Kcal']],\n",
        "                'Serving Size ': [f' {y}' for y in data['Serving Size']],\n",
        "                'Carbohydrate ': [f' {z}' for z in data['Carbohydrate']],\n",
        "                'Sugars ': [f' {a}' for a in data['Sugars']],\n",
        "                'Proteins ': [f' {b}' for b in data['Proteins']],\n",
        "                }, #'Ingredients':True}, \n",
        "    width=800)\n",
        "\n",
        "fig.update_layout(xaxis={'visible': False},\n",
        "                  yaxis={'visible': False},\n",
        "                  margin=dict(l=0,r=0,b=0,t=0))\n",
        "\n",
        "fig.show()\n",
        "fig.write_image('imgs/TSNE_ALL.eps', format='eps')"
      ],
      "metadata": {
        "colab": {
          "base_uri": "https://localhost:8080/",
          "height": 611
        },
        "id": "o-rjtAxAqlNJ",
        "outputId": "e2b64869-9d3f-4dc0-a80d-b3a4228a1d9f"
      },
      "execution_count": 110,
      "outputs": [
        {
          "output_type": "stream",
          "name": "stderr",
          "text": [
            "/usr/local/lib/python3.7/dist-packages/sklearn/manifold/_t_sne.py:986: FutureWarning:\n",
            "\n",
            "The PCA initialization in TSNE will change to have the standard deviation of PC1 equal to 1e-4 in 1.2. This will ensure better convergence.\n",
            "\n"
          ]
        },
        {
          "output_type": "display_data",
          "data": {
            "text/html": [
              "<html>\n",
              "<head><meta charset=\"utf-8\" /></head>\n",
              "<body>\n",
              "    <div>            <script src=\"https://cdnjs.cloudflare.com/ajax/libs/mathjax/2.7.5/MathJax.js?config=TeX-AMS-MML_SVG\"></script><script type=\"text/javascript\">if (window.MathJax) {MathJax.Hub.Config({SVG: {font: \"STIX-Web\"}});}</script>                <script type=\"text/javascript\">window.PlotlyConfig = {MathJaxConfig: 'local'};</script>\n",
              "        <script src=\"https://cdn.plot.ly/plotly-2.8.3.min.js\"></script>                <div id=\"c2c94412-5867-424d-b38f-56f705f140c1\" class=\"plotly-graph-div\" style=\"height:525px; width:800px;\"></div>            <script type=\"text/javascript\">                                    window.PLOTLYENV=window.PLOTLYENV || {};                                    if (document.getElementById(\"c2c94412-5867-424d-b38f-56f705f140c1\")) {                    Plotly.newPlot(                        \"c2c94412-5867-424d-b38f-56f705f140c1\",                        [{\"customdata\":[[\" 168.0\",\" 80.0\",\" 11.0\",\" 0.0\",\" 8.2\"],[\" 234.0\",\" 100.0\",\" 12.0\",\" 0.0\",\" 19.0\"],[\" 146.0\",\" 80.0\",\" 3.7\",\" 0.0\",\" 14.0\"],[\" 166.0\",\" 100.0\",\" 10.0\",\" 0.0\",\" 13.0\"],[\" 166.0\",\" 100.0\",\" 10.0\",\" 0.0\",\" 13.0\"],[\" 178.0\",\" 75.0\",\" 33.0\",\" 0.0\",\" 4.3\"],[\" 158.0\",\" 80.0\",\" 9.3\",\" 0.0\",\" 7.8\"],[\" 77.0\",\" 50.0\",\" 2.1\",\" 0.0\",\" 13.0\"],[\" 188.0\",\" 100.0\",\" 6.0\",\" 0.0\",\" 14.0\"]],\"hovertemplate\":\"<b>%{hovertext}</b><br><br>Classification (Label)=MEAT 2<br>Kcal =%{customdata[0]}<br>Serving Size =%{customdata[1]}<br>Carbohydrate =%{customdata[2]}<br>Sugars =%{customdata[3]}<br>Proteins =%{customdata[4]}<extra></extra>\",\"hovertext\":[\"Carne Mo\\u00edda do Futuro\",\"Almondegas de Soja Vegway\",\"Almondegas Amazonika Mundi\",\"Kibe Incr\\u00edvel Seara\",\"Almondegas Incr\\u00edveis Seara\",\"Almondegas Mr Veggy\",\"Carne Mo\\u00edda Superbom\",\"Carne Vegetal Mo\\u00edda Superbom\",\"Carne Mo\\u00edda Vegetal Verdali\"],\"legendgroup\":\"MEAT 2\",\"marker\":{\"color\":\"#636EFA\",\"symbol\":\"circle\"},\"mode\":\"markers\",\"name\":\"MEAT 2\",\"orientation\":\"v\",\"showlegend\":true,\"x\":[57.73310852050781,52.54389190673828,24.970352172851562,29.34933853149414,73.20655059814453,31.565574645996094,10.068994522094727,28.463315963745117,24.06287384033203],\"xaxis\":\"x\",\"y\":[7.333609104156494,38.74631118774414,-14.137563705444336,-4.009809494018555,-20.51191520690918,-0.046056196093559265,0.5049210786819458,43.73362731933594,25.02449607849121],\"yaxis\":\"y\",\"type\":\"scatter\"},{\"customdata\":[[\" 168.0\",\" 80.0\",\" 11.0\",\" 0.0\",\" 8.2\"],[\" 150.0\",\" 50.0\",\" 10.0\",\" 0.0\",\" 25.0\"],[\" 150.0\",\" 50.0\",\" 10.0\",\" 0.0\",\" 25.0\"],[\" 62.0\",\" 50.0\",\" 1.0\",\" 0.0\",\" 10.0\"],[\" 62.0\",\" 50.0\",\" 1.0\",\" 0.0\",\" 10.0\"],[\" 115.0\",\" 60.0\",\" 2.8\",\" 0.0\",\" 7.5\"],[\" 115.0\",\" 60.0\",\" 3.1\",\" 0.0\",\" 7.5\"],[\" 121.0\",\" 350.0\",\" 9.3\",\" 0.0\",\" 9.3\"],[\" 88.0\",\" 40.0\",\" 6.0\",\" 0.0\",\" 6.3\"],[\" 129.0\",\" 80.0\",\" 12.0\",\" 0.0\",\" 11.0\"],[\" 203.0\",\" 100.0\",\" 13.0\",\" 0.0\",\" 9.2\"],[\" 64.0\",\" 40.0\",\" 2.7\",\" 0.0\",\" 7.8\"],[\" 26.0\",\" 50.0\",\" 0.5\",\" 0.0\",\" 5.0\"],[\" 22.0\",\" 50.0\",\" 0.5\",\" 0.0\",\" 5.3\"],[\" 53.0\",\" 50.0\",\" 0.0\",\" 0.0\",\" 5.4\"],[\" 63.0\",\" 50.0\",\" 0.2\",\" 0.0\",\" 6.3\"],[\" 144.0\",\" 100.0\",\" 5.0\",\" 0.0\",\" 22.0\"],[\" 119.0\",\" 100.0\",\" 5.0\",\" 0.0\",\" 18.0\"]],\"hovertemplate\":\"<b>%{hovertext}</b><br><br>Classification (Label)=MEAT 3<br>Kcal =%{customdata[0]}<br>Serving Size =%{customdata[1]}<br>Carbohydrate =%{customdata[2]}<br>Sugars =%{customdata[3]}<br>Proteins =%{customdata[4]}<extra></extra>\",\"hovertext\":[\"Carne Mo\\u00edda do Futuro\",\"Fil\\u00e9s Sora Carne Vermelha\",\"Fatias Sora Carne Vermelha\",\"Fil\\u00e9 Pronto Saud\\u00e1vel Sora\",\"Carne Mo\\u00edda Pronto Saud\\u00e1vel Sora\",\"Churrasco Vegabom\",\"Churrasco Aoniondo Vegabom\",\"Carne de Pernil Seara\",\"Alm\\u00f4ndega de Soja Vegana Goshen\",\"Bife de Soja Vegano Goshen\",\"Alm\\u00f4ndega Vegana Superbom\",\"Bife Vegetal Superbom\",\"Escalope ao Molho Caseiro Superbom\",\"Cubinhos ao Molho Mexicano Superbom\",\"Alm\\u00f4ndegas ao Molho Sugo Superbom\",\"Medalh\\u00e3o ao Molho Madeira Superbom\",\"Mignon Verdali\",\"Steak Verdali\"],\"legendgroup\":\"MEAT 3\",\"marker\":{\"color\":\"#EF553B\",\"symbol\":\"circle\"},\"mode\":\"markers\",\"name\":\"MEAT 3\",\"orientation\":\"v\",\"showlegend\":true,\"x\":[55.31897735595703,4.799956798553467,6.446491241455078,-8.617176055908203,-8.617176055908203,29.378564834594727,29.86677360534668,75.86939239501953,17.332557678222656,23.34752655029297,9.5902681350708,2.2681148052215576,39.845760345458984,40.068790435791016,31.046775817871094,30.018098831176758,25.748579025268555,23.094724655151367],\"xaxis\":\"x\",\"y\":[8.727287292480469,33.44566345214844,37.72924041748047,50.434513092041016,50.434513092041016,-0.9956674575805664,-1.6926206350326538,-22.1577205657959,61.78742980957031,62.49150466918945,-0.22089117765426636,15.268437385559082,24.934837341308594,24.09634780883789,44.09994125366211,43.94841766357422,25.640413284301758,25.40340232849121],\"yaxis\":\"y\",\"type\":\"scatter\"},{\"customdata\":[[\" 168.0\",\" 80.0\",\" 11.0\",\" 0.0\",\" 8.2\"],[\" 150.0\",\" 50.0\",\" 10.0\",\" 0.0\",\" 25.0\"],[\" 150.0\",\" 50.0\",\" 10.0\",\" 0.0\",\" 25.0\"],[\" 115.0\",\" 60.0\",\" 2.8\",\" 0.0\",\" 7.5\"],[\" 34.8\",\" 30.0\",\" 2.9\",\" 0.0\",\" 3.8\"],[\" 153.0\",\" 100.0\",\" 12.0\",\" 0.0\",\" 6.0\"],[\" 94.0\",\" 80.0\",\" 3.1\",\" 0.0\",\" 17.0\"],[\" 94.0\",\" 80.0\",\" 3.1\",\" 0.0\",\" 17.0\"],[\" 58.0\",\" 30.0\",\" 2.2\",\" 0.0\",\" 4.8\"],[\" 58.0\",\" 30.0\",\" 2.2\",\" 0.0\",\" 4.8\"],[\" 174.0\",\" 100.0\",\" 6.0\",\" 0.0\",\" 24.0\"],[\" 129.0\",\" 115.0\",\" 5.8\",\" 0.0\",\" 19.0\"],[\" 138.0\",\" 120.0\",\" 8.4\",\" 0.0\",\" 18.0\"]],\"hovertemplate\":\"<b>%{hovertext}</b><br><br>Classification (Label)=POULTRY 3<br>Kcal =%{customdata[0]}<br>Serving Size =%{customdata[1]}<br>Carbohydrate =%{customdata[2]}<br>Sugars =%{customdata[3]}<br>Proteins =%{customdata[4]}<extra></extra>\",\"hovertext\":[\"Frango do Futuro\",\"Fatias Sora Carne Branca\",\"Fil\\u00e9s Sora Carne Branca\",\"Strogonoff de Frango Vegabom\",\"Tiras de Frango New Butchers\",\"Fil\\u00e9 de Frango Desfiado Vegway\",\"Frango Veg e Tal Sadia\",\"Frango Veg e Tal Sadia Desfiado\",\"Peito de Peru de Soja\",\"Peito de Peru de Soja Vegano\",\"Tiras de Ave Verdali\",\"Fil\\u00e9 sem Frango Verdali\",\"Mini Fil\\u00e9 de Frango Verdali\"],\"legendgroup\":\"POULTRY 3\",\"marker\":{\"color\":\"#00CC96\",\"symbol\":\"circle\"},\"mode\":\"markers\",\"name\":\"POULTRY 3\",\"orientation\":\"v\",\"showlegend\":true,\"x\":[55.31897735595703,3.7909064292907715,5.011091232299805,27.727354049682617,-13.872243881225586,46.21360397338867,-18.155258178710938,-18.155258178710938,24.914257049560547,12.947540283203125,28.077098846435547,26.99924659729004,28.602848052978516],\"xaxis\":\"x\",\"y\":[8.727287292480469,36.097198486328125,35.26681137084961,-2.1171681880950928,15.055376052856445,41.47604751586914,5.078489303588867,5.078489303588867,70.20063018798828,70.63505554199219,9.954121589660645,18.92109489440918,17.4519100189209],\"yaxis\":\"y\",\"type\":\"scatter\"},{\"customdata\":[[\" 139.0\",\" 50.0\",\" 7.7\",\" 0.0\",\" 5.7\"],[\" 78.0\",\" 35.0\",\" 6.0\",\" 0.0\",\" 4.0\"],[\" 78.0\",\" 35.0\",\" 6.0\",\" 0.0\",\" 4.0\"],[\" 156.0\",\" 65.0\",\" 8.0\",\" 0.0\",\" 11.0\"],[\" 115.0\",\" 80.0\",\" 3.6\",\" 0.0\",\" 9.7\"],[\" 44.0\",\" 30.0\",\" 0.5\",\" 0.0\",\" 5.1\"],[\" 58.0\",\" 30.0\",\" 1.7\",\" 0.0\",\" 5.1\"],[\" 93.0\",\" 50.0\",\" 1.9\",\" 0.0\",\" 8.1\"],[\" 58.0\",\" 30.0\",\" 4.3\",\" 0.0\",\" 2.4\"],[\" 96.0\",\" 50.0\",\" 1.8\",\" 0.0\",\" 8.8\"],[\" 60.0\",\" 40.0\",\" 1.4\",\" 0.0\",\" 7.6\"],[\" 43.0\",\" 40.0\",\" 1.8\",\" 0.0\",\" 4.9\"]],\"hovertemplate\":\"<b>%{hovertext}</b><br><br>Classification (Label)=PORK 1<br>Kcal =%{customdata[0]}<br>Serving Size =%{customdata[1]}<br>Carbohydrate =%{customdata[2]}<br>Sugars =%{customdata[3]}<br>Proteins =%{customdata[4]}<extra></extra>\",\"hovertext\":[\"Lingui\\u00e7a do Futuro\",\"Lingui\\u00e7a calabresa vegabom\",\"saltsicha de chickpea Vegabom\",\"Vegway Soy Sausage\",\"saltsichas Incriveis Seara\",\"Lingui\\u00e7a Apimentada de Soja Goshen\",\"Lingui\\u00e7a Calabresa de Soja Goshen\",\"Lingui\\u00e7a de Soja Vegana Goshen\",\"Lingui\\u00e7a Toscana de Soja Goshen\",\"saltsicha de Soja Vegana Goshen\",\"saltsicha Vegetal Superbom\",\"saltsicha Vegetal Defumada Superbom\"],\"legendgroup\":\"PORK 1\",\"marker\":{\"color\":\"#AB63FA\",\"symbol\":\"circle\"},\"mode\":\"markers\",\"name\":\"PORK 1\",\"orientation\":\"v\",\"showlegend\":true,\"x\":[59.07771682739258,45.79015350341797,43.841766357421875,46.855926513671875,72.3425064086914,21.503450393676758,15.22085189819336,19.96207618713379,25.378215789794922,20.008485794067383,14.489322662353516,13.752862930297852],\"xaxis\":\"x\",\"y\":[9.198342323303223,-11.067436218261719,-12.3699369430542,38.8642578125,-22.235559463500977,73.67771911621094,68.66062927246094,71.73375701904297,70.95557403564453,72.65292358398438,43.42001724243164,42.91960525512695],\"yaxis\":\"y\",\"type\":\"scatter\"},{\"customdata\":[[\" 118.0\",\" 50.0\",\" 2.8\",\" 0.0\",\" 7.0\"],[\" 78.0\",\" 50.0\",\" 5.3\",\" 0.0\",\" 8.9\"],[\" 140.0\",\" 120.0\",\" 25.0\",\" 0.0\",\" 6.1\"],[\" 128.0\",\" 60.0\",\" 19.0\",\" 0.0\",\" 5.1\"],[\" 253.0\",\" 113.0\",\" 42.0\",\" 0.0\",\" 17.0\"],[\" 90.0\",\" 80.0\",\" 4.8\",\" 0.0\",\" 11.0\"],[\" 187.0\",\" 80.0\",\" 10.0\",\" 0.0\",\" 9.8\"],[\" 158.0\",\" 113.5\",\" 8.7\",\" 0.0\",\" 15.0\"],[\" 206.0\",\" 100.0\",\" 4.1\",\" 0.0\",\" 13.0\"],[\" 420.0\",\" 100.0\",\" 4.4\",\" 0.0\",\" 28.0\"],[\" 209.0\",\" 115.0\",\" 5.3\",\" 0.0\",\" 20.0\"],[\" 114.0\",\" 60.0\",\" 4.5\",\" 0.0\",\" 7.6\"],[\" 170.0\",\" 80.0\",\" 4.6\",\" 0.0\",\" 12.0\"],[\" 134.0\",\" 60.0\",\" 5.9\",\" 0.0\",\" 7.3\"],[\" 237.0\",\" 134.0\",\" 29.0\",\" 0.0\",\" 16.0\"],[\" 115.0\",\" 60.0\",\" 13.0\",\" 0.0\",\" 8.9\"],[\" 118.0\",\" 60.0\",\" 11.0\",\" 0.0\",\" 6.0\"],[\" 118.0\",\" 60.0\",\" 11.0\",\" 0.0\",\" 6.0\"],[\" 197.0\",\" 80.0\",\" 10.0\",\" 0.0\",\" 11.0\"],[\" 309.0\",\" 115.0\",\" 45.0\",\" 0.0\",\" 7.0\"],[\" 127.0\",\" 90.0\",\" 23.0\",\" 0.0\",\" 3.1\"],[\" 150.0\",\" 50.0\",\" 10.0\",\" 0.0\",\" 25.0\"],[\" 120.0\",\" 90.0\",\" 17.0\",\" 0.0\",\" 5.4\"],[\" 171.0\",\" 90.0\",\" 28.0\",\" 0.0\",\" 3.4\"],[\" 196.0\",\" 100.0\",\" 9.7\",\" 0.0\",\" 19.0\"],[\" 146.0\",\" 63.0\",\" 7.0\",\" 0.0\",\" 12.3\"],[\" 80.0\",\" 70.0\",\" 4.4\",\" 0.0\",\" 8.2\"],[\" 301.0\",\" 67.0\",\" 40.0\",\" 0.0\",\" 8.9\"],[\" 192.0\",\" 90.0\",\" 26.0\",\" 0.0\",\" 7.7\"],[\" 210.0\",\" 90.0\",\" 29.0\",\" 0.0\",\" 10.0\"],[\" 110.0\",\" 60.0\",\" 8.9\",\" 0.0\",\" 4.3\"],[\" 62.0\",\" 50.0\",\" 1.0\",\" 0.0\",\" 10.0\"],[\" 266.0\",\" 80.0\",\" 26.0\",\" 0.0\",\" 27.0\"],[\" 266.0\",\" 80.0\",\" 26.0\",\" 0.0\",\" 27.0\"]],\"hovertemplate\":\"<b>%{hovertext}</b><br><br>Classification (Label)=MEAT 1<br>Kcal =%{customdata[0]}<br>Serving Size =%{customdata[1]}<br>Carbohydrate =%{customdata[2]}<br>Sugars =%{customdata[3]}<br>Proteins =%{customdata[4]}<extra></extra>\",\"hovertext\":[\"Hamburguer de Soja Goshen\",\"Hamburguer de Soja Vegano Goshen\",\"Hamburguer de Quinoa Mr Veggy\",\"Hamburguer de lentil Mr Veggy\",\"Hamburguer vegano falafel amazonika mundi\",\"Hamburguer Vegetal Verdali\",\"VegBurger Sabor Carne\",\"Burger Gourmet Superbom\",\"Hamburguer Incr\\u00edvel Seara\",\"Not Burguer Notco\",\"Hamburguer de Fibra de Caju Amazonika Mundi\",\"Hamburguer Vegabom\",\"Hamburguer de Carne Veg  e Tal Sadia\",\"Hamburger New Butchers\",\"Hamburguer de Legumes Mr Veggy\",\"Hamburguer Vegetariano Mr Veggy\",\"Hambuguer Mr Veggy Mari Mari\",\"Hambuguer Mr Veggy Mari Mari Churrrasco\",\"Hamb\\u00farguer Fazenda Futuro 2.0\",\"Hamb\\u00farguer Vegano de Quinoa Amazonika Mundi\",\"Hamburguer Veggie Roots Tempero Indiano\",\"Hamb\\u00farguer Sora Carne Vermelha \",\"Hamburguer Veggie Roots brazilianspices\",\"Hamburguer veggie roots tempero mexicano\",\"Hamburguer de Soja Sabor Carne Vegway\",\"Vegway Breaded Soy Burguer \",\"Hamburguer Vegetal Superbom\",\"Hamburguer de chickpea Mr Veggy\",\"Hamburguer Veggie Roots Tempero \\u00c1rabe\",\"Hamburguer Veggie Roots Tempero Tailand\\u00eas\",\"Hamburguer Vegabom\",\"Hamb\\u00farguer Pronto Saud\\u00e1vel Sora\",\"hamburguer vegetal com herbs jasmine\",\"Hamburguer Vegetal Tradicional Jasmine\"],\"legendgroup\":\"MEAT 1\",\"marker\":{\"color\":\"#FFA15A\",\"symbol\":\"circle\"},\"mode\":\"markers\",\"name\":\"MEAT 1\",\"orientation\":\"v\",\"showlegend\":true,\"x\":[22.77825355529785,20.25349998474121,2.39963436126709,-4.993403434753418,-2.649614095687866,28.192306518554688,-16.0761775970459,2.676506757736206,74.03060150146484,-21.135906219482422,24.676149368286133,44.139774322509766,-34.11460494995117,-14.358978271484375,39.398983001708984,39.08595275878906,40.651119232177734,40.651119232177734,58.61790084838867,-0.5073832273483276,-0.31383490562438965,5.537569999694824,2.7587270736694336,4.377456188201904,47.88106155395508,52.799652099609375,42.23643112182617,-5.778613090515137,5.861886501312256,4.925081253051758,42.83317184448242,-8.617176055908203,-5.377423286437988,-4.957224369049072],\"xaxis\":\"x\",\"y\":[61.53664779663086,56.63348388671875,-10.827901840209961,-25.74994659423828,-5.824191093444824,9.084108352661133,-4.82728910446167,-3.8888933658599854,-21.89596176147461,7.566982269287109,-13.321142196655273,-11.331404685974121,-21.39065933227539,15.775339126586914,0.833829402923584,-0.04844405874609947,-3.809483289718628,-3.809483289718628,7.115623474121094,-8.771174430847168,8.555587768554688,38.33112335205078,19.467273712158203,20.515233993530273,40.407379150390625,37.63445281982422,41.441619873046875,-25.342632293701172,24.44959259033203,23.80795669555664,-9.093547821044922,50.434513092041016,29.238590240478516,29.99563980102539],\"yaxis\":\"y\",\"type\":\"scatter\"},{\"customdata\":[[\" 150.0\",\" 50.0\",\" 10.0\",\" 0.0\",\" 25.0\"],[\" 189.0\",\" 80.0\",\" 11.0\",\" 0.0\",\" 9.8\"],[\" 173.0\",\" 80.0\",\" 3.6\",\" 0.0\",\" 13.0\"],[\" 129.0\",\" 100.0\",\" 2.4\",\" 0.0\",\" 7.0\"],[\" 96.0\",\" 80.0\",\" 4.8\",\" 0.0\",\" 11.0\"]],\"hovertemplate\":\"<b>%{hovertext}</b><br><br>Classification (Label)=POULTRY 2<br>Kcal =%{customdata[0]}<br>Serving Size =%{customdata[1]}<br>Carbohydrate =%{customdata[2]}<br>Sugars =%{customdata[3]}<br>Proteins =%{customdata[4]}<extra></extra>\",\"hovertext\":[\"Hamb\\u00farguer Sora Carne Branca\",\"VegBurger Sabor Frango\",\"Hambuguer Incr\\u00edvel Seara Frango\",\"Frango Vegano em Peda\\u00e7os \\u00e0 Base de pea\",\"Hamb\\u00farguer de Frango Verdali\"],\"legendgroup\":\"POULTRY 2\",\"marker\":{\"color\":\"#19D3F3\",\"symbol\":\"circle\"},\"mode\":\"markers\",\"name\":\"POULTRY 2\",\"orientation\":\"v\",\"showlegend\":true,\"x\":[3.485926389694214,-15.674572944641113,73.77581024169922,1.3043456077575684,27.351654052734375],\"xaxis\":\"x\",\"y\":[34.75600814819336,-4.056028842926025,-23.414142608642578,-5.022214412689209,17.886362075805664],\"yaxis\":\"y\",\"type\":\"scatter\"},{\"customdata\":[[\" 116.0\",\" 60.0\",\" 2.9\",\" 0.0\",\" 7.9\"],[\" 116.0\",\" 60.0\",\" 2.9\",\" 0.0\",\" 7.9\"],[\" 198.0\",\" 100.0\",\" 14.0\",\" 0.0\",\" 15.0\"],[\" 449.0\",\" 130.0\",\" 31.0\",\" 0.0\",\" 12.0\"],[\" 291.0\",\" 130.0\",\" 29.0\",\" 0.0\",\" 17.0\"],[\" 127.0\",\" 40.0\",\" 4.9\",\" 0.0\",\" 6.5\"],[\" 94.0\",\" 40.0\",\" 3.4\",\" 0.0\",\" 6.7\"],[\" 61.0\",\" 40.0\",\" 3.0\",\" 0.0\",\" 7.2\"],[\" 330.0\",\" 130.0\",\" 32.0\",\" 0.0\",\" 13.0\"],[\" 210.0\",\" 80.0\",\" 32.0\",\" 0.0\",\" 8.0\"],[\" 178.0\",\" 130.0\",\" 21.5\",\" 0.0\",\" 13.4\"],[\" 110.0\",\" 80.0\",\" 13.0\",\" 0.0\",\" 8.5\"],[\" 188.0\",\" 100.0\",\" 24.0\",\" 0.0\",\" 13.0\"],[\" 188.0\",\" 100.0\",\" 24.0\",\" 0.0\",\" 13.0\"]],\"hovertemplate\":\"<b>%{hovertext}</b><br><br>Classification (Label)=POULTRY 1<br>Kcal =%{customdata[0]}<br>Serving Size =%{customdata[1]}<br>Carbohydrate =%{customdata[2]}<br>Sugars =%{customdata[3]}<br>Proteins =%{customdata[4]}<extra></extra>\",\"hovertext\":[\"Empanado de Frango Vegabom\",\"Fil\\u00e9 de Frango Empanado Vegabom\",\"Empanados de Frango Vegway\",\"Empanados Incr\\u00edveis Seara\",\"Empanados Sadia Veg e Tal\",\"Empanadinho de Soja  Goshen\",\"Empanadinho de Soja Vegano  Goshen\",\"Steak de Soja Vegano Goshen\",\"Empanado Vegano (Mini Crispy) 100 Foods\",\"Crispy Chicken 100 Foods\",\"Mini Empanado de Legumes Superbom\",\"Steak Vegan Sabor Legumes Superbom\",\"Steak Veg\\u00ea Sabor Frango\",\"Steak Veg\\u00ea Sabor Frango Empanado\"],\"legendgroup\":\"POULTRY 1\",\"marker\":{\"color\":\"#FF6692\",\"symbol\":\"circle\"},\"mode\":\"markers\",\"name\":\"POULTRY 1\",\"orientation\":\"v\",\"showlegend\":true,\"x\":[45.33830642700195,45.33830642700195,48.78144073486328,63.8794059753418,62.73615646362305,21.622724533081055,18.652175903320312,20.105083465576172,20.871414184570312,21.451393127441406,-11.03022575378418,-11.133804321289062,7.149365425109863,7.80328893661499],\"xaxis\":\"x\",\"y\":[-20.030179977416992,-20.030179977416992,44.17581558227539,-12.237898826599121,-13.0314302444458,63.64273452758789,63.46654510498047,63.92972183227539,0.349808007478714,0.9976348876953125,4.420409679412842,3.560330629348755,9.867378234863281,9.258328437805176],\"yaxis\":\"y\",\"type\":\"scatter\"},{\"customdata\":[[\" 116.0\",\" 60.0\",\" 3.6\",\" 0.0\",\" 7.5\"],[\" 116.0\",\" 60.0\",\" 3.6\",\" 0.0\",\" 7.5\"],[\" 206.0\",\" 100.0\",\" 28.0\",\" 0.0\",\" 8.0\"],[\" 41.0\",\" 40.0\",\" 7.0\",\" 0.0\",\" 1.6\"],[\" 82.0\",\" 30.0\",\" 3.5\",\" 0.0\",\" 4.0\"]],\"hovertemplate\":\"<b>%{hovertext}</b><br><br>Classification (Label)=FISH 2<br>Kcal =%{customdata[0]}<br>Serving Size =%{customdata[1]}<br>Carbohydrate =%{customdata[2]}<br>Sugars =%{customdata[3]}<br>Proteins =%{customdata[4]}<extra></extra>\",\"hovertext\":[\"Fil\\u00e9 Peixe Empanado Vegabom\",\"Tirinhas de Peixe Empanado Vegabom\",\"Bolinho de Bacalhau New Butchers\",\"Bolinho de Siri Amazonika Mundi\",\"Camar\\u00e3o de Soja Vegano Goshen\"],\"legendgroup\":\"FISH 2\",\"marker\":{\"color\":\"#B6E880\",\"symbol\":\"circle\"},\"mode\":\"markers\",\"name\":\"FISH 2\",\"orientation\":\"v\",\"showlegend\":true,\"x\":[46.5389289855957,46.5389289855957,2.4899942874908447,-0.9925671815872192,16.330730438232422],\"xaxis\":\"x\",\"y\":[-21.42738151550293,-21.42738151550293,-19.00200843811035,18.771921157836914,67.4645767211914],\"yaxis\":\"y\",\"type\":\"scatter\"},{\"customdata\":[[\" 124.0\",\" 50.0\",\" 5.1\",\" 0.0\",\" 0.0\"],[\" 124.0\",\" 50.0\",\" 5.1\",\" 0.0\",\" 0.0\"],[\" 124.0\",\" 50.0\",\" 5.1\",\" 0.0\",\" 0.0\"],[\" 31.0\",\" 10.0\",\" 0.6\",\" 0.0\",\" 0.3\"],[\" 25.0\",\" 10.0\",\" 0.7\",\" 0.0\",\" 0.3\"],[\" 29.0\",\" 10.0\",\" 0.7\",\" 0.0\",\" 0.3\"],[\" 30.0\",\" 10.0\",\" 0.7\",\" 0.0\",\" 0.3\"],[\" 178.0\",\" 100.0\",\" 8.7\",\" 0.0\",\" 8.4\"],[\" 178.0\",\" 100.0\",\" 8.7\",\" 0.0\",\" 8.4\"],[\" 280.0\",\" 100.0\",\" 23.3\",\" 0.0\",\" 3.0\"],[\" 170.0\",\" 100.0\",\" 6.0\",\" 0.0\",\" 4.7\"],[\" 170.0\",\" 100.0\",\" 6.0\",\" 0.0\",\" 4.7\"],[\" 82.0\",\" 30.0\",\" 2.7\",\" 0.0\",\" 1.5\"],[\" 83.0\",\" 30.0\",\" 2.9\",\" 0.0\",\" 1.5\"],[\" 95.0\",\" 30.0\",\" 9.1\",\" 0.0\",\" 2.0\"],[\" 89.0\",\" 30.0\",\" 8.2\",\" 0.0\",\" 1.9\"],[\" 93.0\",\" 30.0\",\" 8.8\",\" 0.0\",\" 1.9\"],[\" 83.0\",\" 30.0\",\" 2.3\",\" 0.0\",\" 1.6\"],[\" 83.0\",\" 30.0\",\" 2.3\",\" 0.0\",\" 1.6\"],[\" 83.0\",\" 30.0\",\" 2.3\",\" 0.0\",\" 1.6\"],[\" 581.0\",\" 100.0\",\" 30.2\",\" 0.0\",\" 18.2\"],[\" 581.0\",\" 100.0\",\" 30.2\",\" 0.0\",\" 18.2\"],[\" 59.0\",\" 30.0\",\" 2.0\",\" 0.0\",\" 0.9\"],[\" 43.0\",\" 30.0\",\" 1.2\",\" 0.0\",\" 0.8\"],[\" 100.0\",\" 30.0\",\" 5.4\",\" 0.0\",\" 2.9\"],[\" 43.0\",\" 30.0\",\" 1.2\",\" 0.0\",\" 0.8\"],[\" 394.0\",\" 100.0\",\" 23.0\",\" 0.0\",\" 13.0\"],[\" 30.0\",\" 12.0\",\" 3.0\",\" 0.0\",\" 0.7\"],[\" 62.8\",\" 20.0\",\" 3.6\",\" 0.0\",\" 2.0\"],[\" 57.1\",\" 20.0\",\" 3.4\",\" 0.0\",\" 1.9\"],[\" 68.4\",\" 20.0\",\" 3.8\",\" 0.0\",\" 2.1\"],[\" 62.8\",\" 20.0\",\" 3.6\",\" 0.0\",\" 2.0\"],[\" 89.0\",\" 30.0\",\" 6.4\",\" 0.0\",\" 0.0\"],[\" 72.0\",\" 30.0\",\" 2.9\",\" 0.0\",\" 1.0\"],[\" 58.0\",\" 30.0\",\" 3.5\",\" 0.0\",\" 1.0\"],[\" 71.0\",\" 30.0\",\" 2.8\",\" 0.0\",\" 0.9\"],[\" 78.0\",\" 30.0\",\" 3.4\",\" 0.0\",\" 1.0\"],[\" 76.0\",\" 30.0\",\" 3.4\",\" 0.0\",\" 0.9\"],[\" 36.0\",\" 15.0\",\" 1.0\",\" 0.0\",\" 0.3\"],[\" 38.0\",\" 10.0\",\" 0.8\",\" 0.0\",\" 0.3\"],[\" 51.0\",\" 15.0\",\" 3.8\",\" 0.0\",\" 0.7\"],[\" 36.0\",\" 15.0\",\" 1.2\",\" 0.0\",\" 0.4\"],[\" 47.0\",\" 15.0\",\" 2.8\",\" 0.0\",\" 0.1\"],[\" 47.0\",\" 15.0\",\" 2.8\",\" 0.0\",\" 0.1\"],[\" 49.0\",\" 15.0\",\" 3.1\",\" 0.0\",\" 0.1\"]],\"hovertemplate\":\"<b>%{hovertext}</b><br><br>Classification (Label)=DAIRY 3<br>Kcal =%{customdata[0]}<br>Serving Size =%{customdata[1]}<br>Carbohydrate =%{customdata[2]}<br>Sugars =%{customdata[3]}<br>Proteins =%{customdata[4]}<extra></extra>\",\"hovertext\":[\"Queijo Mu\\u00e7arela Vegabom\",\"Queijo Picante Vegabom\",\"Queijo Cheddar Vegabom\",\"Requeisoy Provolone \",\"Requeisoy Cheddar' \",\"Requeisoy Tradicional\",\"Requeisoy Gorgonzola\",\"Okeijo R\\u00fastico\",\"Okeijo Cremoso\",\"Okeijo Gratinado\",\"Okeijo Mussarela\",\"Okeijo Provolone\",\"Creme s Vida Veg\",\"Creme s fineherbs e Pesto\",\"Queijo mu\\u00e7arela\",\"Queijo minas frescal\",\"Queijo minas padr\\u00e3o\",\"Requeij\\u00e3o Tradicional\",\"Requeij\\u00e3o fineherbs\",\"Requeij\\u00e3o Defumado\",\"Queijo Zimurisku \",\"Queijo Zimurisku Temperado\",\"Queijo Mozarela NoMoo\",\"Queijo Provolone\",\"Queijo Ch\\u00e9vre\",\"Queijo Prato\",\"Queijo Parmes\\u00e3o\",\"Requeij\\u00e3o Nomoo\",\"Queijo Gorgolino\",\"Queijo Melhor Que Cheddar\",\"Queijo Recaishow\",\"Queijo Brie\",\"Mussarela Vegana Goshen\",\"Queijo ProVolone Veganita\",\"Queijo Munster Veganita\",\"Queijo Brie Veganita\",\"Queijo Mussarela Veganita\",\"Queijo Cheddar Veganita\",\"CREAM CHEESE CULIN\\u00c1RIO BASI.CO\",\"REQUEIJ\\u00c3O VEGETAL\",\"QUEIJO PARMES\\u00c3O\",\"QUEIJO MINAS VEGETAL\",\"QUEIJO PRATO\",\"QUEIJO MU\\u00c7ARELA\",\"QUEIJO CHEDDAR\"],\"legendgroup\":\"DAIRY 3\",\"marker\":{\"color\":\"#FF97FF\",\"symbol\":\"circle\"},\"mode\":\"markers\",\"name\":\"DAIRY 3\",\"orientation\":\"v\",\"showlegend\":true,\"x\":[14.714681625366211,13.00325870513916,13.00325870513916,7.7626447677612305,6.057689189910889,8.109596252441406,7.302353382110596,-0.9074181914329529,-0.5950514078140259,-6.7852396965026855,-58.717201232910156,-58.717201232910156,-13.759451866149902,-12.772700309753418,-18.755094528198242,-15.76604175567627,-18.02226448059082,-10.692869186401367,-9.984582901000977,-9.1769380569458,-23.262184143066406,-23.931129455566406,-53.10856628417969,-52.55739212036133,-45.512447357177734,-54.827606201171875,-44.845855712890625,-48.22931671142578,-47.553524017333984,-45.944854736328125,-46.712554931640625,-43.952247619628906,-5.1849260330200195,-48.63548278808594,-48.21238708496094,-50.656005859375,-49.80220031738281,-51.057884216308594,-26.645668029785156,-26.860538482666016,-26.715919494628906,-27.175045013427734,-35.26032638549805,-35.06187438964844,-34.23690414428711],\"xaxis\":\"x\",\"y\":[-9.623336791992188,-9.730019569396973,-9.730019569396973,-29.845958709716797,-32.11286544799805,-32.73030090332031,-31.65739631652832,4.059080123901367,5.073613166809082,-4.218967437744141,14.466148376464844,14.466148376464844,-35.30577087402344,-35.199039459228516,-32.86656951904297,-34.954627990722656,-33.477088928222656,-40.59561538696289,-39.926918029785156,-41.53303146362305,9.574502944946289,10.213563919067383,26.23611068725586,25.36930274963379,28.79732894897461,26.329328536987305,29.960994720458984,17.66288185119629,15.99133586883545,14.612441062927246,16.556819915771484,26.917585372924805,-16.716371536254883,29.4869441986084,30.866466522216797,29.531436920166016,30.5599422454834,32.35933303833008,-6.017711639404297,-7.450228691101074,-3.703871011734009,-9.568219184875488,5.892983436584473,4.622730255126953,3.9546871185302734],\"yaxis\":\"y\",\"type\":\"scatter\"},{\"customdata\":[[\" 146.0\",\" 90.0\",\" 12.1\",\" 0.0\",\" 11.9\"],[\" 327.0\",\" 240.0\",\" 41.0\",\" 0.0\",\" 11.0\"],[\" 317.0\",\" 100.0\",\" 17.0\",\" 0.0\",\" 13.0\"],[\" 153.0\",\" 100.0\",\" 12.0\",\" 0.0\",\" 6.0\"],[\" 138.0\",\" 100.0\",\" 19.0\",\" 0.0\",\" 2.0\"],[\" 304.0\",\" 300.0\",\" 19.0\",\" 0.0\",\" 21.0\"],[\" 440.0\",\" 130.0\",\" 31.0\",\" 0.0\",\" 12.0\"],[\" 166.0\",\" 80.0\",\" 7.1\",\" 0.0\",\" 12.0\"]],\"hovertemplate\":\"<b>%{hovertext}</b><br><br>Classification (Label)=FISH 1<br>Kcal =%{customdata[0]}<br>Serving Size =%{customdata[1]}<br>Carbohydrate =%{customdata[2]}<br>Sugars =%{customdata[3]}<br>Proteins =%{customdata[4]}<extra></extra>\",\"hovertext\":[\"Fil\\u00e9 de saltm\\u00e3o New Butchers\",\"Bacalhau New  Butchers\",\"Vegway Fish Fillet\",\"Vegway Fish Fillet\",\"Vegway Soy Scallop \",\"Bacalhau Incr\\u00edvel Seara\",\"Iscas de Peixe Incr\\u00edvel Seara\",\"Atum do Futuro\"],\"legendgroup\":\"FISH 1\",\"marker\":{\"color\":\"#FECB52\",\"symbol\":\"circle\"},\"mode\":\"markers\",\"name\":\"FISH 1\",\"orientation\":\"v\",\"showlegend\":true,\"x\":[1.0031038522720337,3.5732460021972656,49.98634338378906,48.802223205566406,44.43762969970703,75.22885131835938,64.01467895507812,-2.7062788009643555],\"xaxis\":\"x\",\"y\":[-16.486509323120117,-18.838228225708008,42.06834411621094,41.219635009765625,41.39353942871094,-20.482755661010742,-13.579880714416504,-14.252535820007324],\"yaxis\":\"y\",\"type\":\"scatter\"},{\"customdata\":[[\" 78.0\",\" 40.0\",\" 3.9\",\" 0.0\",\" 7.4\"],[\" 185.0\",\" 60.0\",\" 31.0\",\" 0.0\",\" 1.1\"],[\" 34.0\",\" 20.0\",\" 0.2\",\" 0.0\",\" 3.4\"],[\" 75.0\",\" 40.0\",\" 3.6\",\" 0.0\",\" 7.6\"],[\" 35.0\",\" 20.0\",\" 0.4\",\" 0.0\",\" 3.9\"],[\" 476.0\",\" 100.0\",\" 14.0\",\" 0.0\",\" 42.0\"]],\"hovertemplate\":\"<b>%{hovertext}</b><br><br>Classification (Label)=PORK 2<br>Kcal =%{customdata[0]}<br>Serving Size =%{customdata[1]}<br>Carbohydrate =%{customdata[2]}<br>Sugars =%{customdata[3]}<br>Proteins =%{customdata[4]}<extra></extra>\",\"hovertext\":[\"Vegway Soy Ham \",\"Bacon Vegano\",\"Mortadela de Soja Vegana Goshen\",\"Presunto de Soja Defumado\",\"Presunto de Soja Vegano Fatiado Goshen\",\"Bacon Crispy Verdali\"],\"legendgroup\":\"PORK 2\",\"marker\":{\"color\":\"rgb(127, 60, 141)\",\"symbol\":\"circle\"},\"mode\":\"markers\",\"name\":\"PORK 2\",\"orientation\":\"v\",\"showlegend\":true,\"x\":[49.195899963378906,-3.146589756011963,13.729875564575195,20.004337310791016,13.178555488586426,21.277511596679688],\"xaxis\":\"x\",\"y\":[38.809078216552734,0.43066832423210144,69.62017059326172,57.566062927246094,68.20995330810547,25.961870193481445],\"yaxis\":\"y\",\"type\":\"scatter\"},{\"customdata\":[[\" 92.0\",\" 250.0\",\" 3.7\",\" 2.0\",\" 3.2\"],[\" 60.0\",\" 250.0\",\" 3.4\",\" 2.0\",\" 3.2\"],[\" 68.0\",\" 200.0\",\" 0.9\",\" 0.0\",\" 3.0\"],[\" 53.0\",\" 200.0\",\" 0.0\",\" 0.0\",\" 3.0\"],[\" 70.0\",\" 200.0\",\" 1.0\",\" 0.0\",\" 3.0\"],[\" 88.0\",\" 200.0\",\" 4.0\",\" 0.0\",\" 3.0\"],[\" 58.0\",\" 200.0\",\" 0.8\",\" 0.0\",\" 3.0\"],[\" 108.0\",\" 200.0\",\" 13.0\",\" 0.0\",\" 1.1\"],[\" 145.0\",\" 200.0\",\" 18.0\",\" 0.0\",\" 1.5\"],[\" 117.0\",\" 200.0\",\" 27.0\",\" 10.0\",\" 0.0\"],[\" 111.0\",\" 200.0\",\" 20.0\",\" 9.4\",\" 0.0\"],[\" 117.0\",\" 200.0\",\" 27.0\",\" 10.0\",\" 1.0\"],[\" 145.0\",\" 200.0\",\" 18.0\",\" 0.0\",\" 1.5\"],[\" 117.0\",\" 200.0\",\" 27.0\",\" 10.0\",\" 0.0\"],[\" 134.0\",\" 200.0\",\" 27.0\",\" 10.0\",\" 4.6\"],[\" 72.0\",\" 200.0\",\" 11.0\",\" 8.9\",\" 1.1\"],[\" 113.0\",\" 200.0\",\" 7.5\",\" 6.7\",\" 7.0\"],[\" 79.0\",\" 200.0\",\" 12.0\",\" 10.0\",\" 1.2\"],[\" 91.0\",\" 200.0\",\" 15.0\",\" 10.0\",\" 1.1\"],[\" 84.0\",\" 200.0\",\" 16.0\",\" 9.4\",\" 2.0\"],[\" 104.0\",\" 260.0\",\" 20.0\",\" 12.0\",\" 3.0\"],[\" 79.0\",\" 25.0\",\" 8.6\",\" 3.1\",\" 7.3\"],[\" 73.0\",\" 25.0\",\" 11.0\",\" 3.2\",\" 5.0\"],[\" 120.0\",\" 200.0\",\" 15.0\",\" 11.0\",\" 4.8\"],[\" 97.0\",\" 200.0\",\" 8.4\",\" 5.9\",\" 2.3\"],[\" 66.0\",\" 200.0\",\" 10.0\",\" 7.3\",\" 2.7\"],[\" 99.0\",\" 200.0\",\" 16.0\",\" 11.5\",\" 4.1\"],[\" 104.0\",\" 200.0\",\" 18.0\",\" 12.6\",\" 3.6\"],[\" 82.0\",\" 200.0\",\" 14.0\",\" 8.8\",\" 3.3\"],[\" 97.0\",\" 200.0\",\" 8.4\",\" 5.9\",\" 2.3\"],[\" 51.0\",\" 200.0\",\" 6.3\",\" 6.3\",\" 0.9\"],[\" 98.0\",\" 200.0\",\" 17.0\",\" 17.0\",\" 1.3\"],[\" 70.0\",\" 200.0\",\" 11.0\",\" 11.0\",\" 0.9\"],[\" 30.0\",\" 200.0\",\" 0.9\",\" 0.9\",\" 0.9\"],[\" 58.0\",\" 200.0\",\" 8.5\",\" 0.0\",\" 0.9\"],[\" 44.0\",\" 250.0\",\" 1.4\",\" 1.4\",\" 1.6\"],[\" 21.0\",\" 200.0\",\" 4.7\",\" 0.0\",\" 1.0\"],[\" 48.0\",\" 200.0\",\" 6.8\",\" 4.0\",\" 6.8\"],[\" 59.0\",\" 200.0\",\" 7.5\",\" 0.0\",\" 0.9\"],[\" 84.0\",\" 200.0\",\" 15.0\",\" 0.0\",\" 1.2\"],[\" 55.0\",\" 200.0\",\" 4.7\",\" 0.0\",\" 0.0\"],[\" 74.0\",\" 200.0\",\" 15.0\",\" 0.0\",\" 0.0\"],[\" 74.0\",\" 200.0\",\" 15.0\",\" 0.0\",\" 0.0\"],[\" 74.0\",\" 200.0\",\" 15.0\",\" 0.0\",\" 0.0\"],[\" 74.0\",\" 200.0\",\" 15.0\",\" 0.0\",\" 0.0\"],[\" 74.0\",\" 200.0\",\" 15.0\",\" 0.0\",\" 0.0\"],[\" 74.0\",\" 200.0\",\" 15.0\",\" 0.0\",\" 0.0\"],[\" 74.0\",\" 200.0\",\" 15.0\",\" 0.0\",\" 0.0\"],[\" 114.0\",\" 30.0\",\" 25.0\",\" 0.0\",\" 2.0\"],[\" 114.0\",\" 30.0\",\" 25.0\",\" 0.0\",\" 2.0\"],[\" 114.0\",\" 30.0\",\" 25.0\",\" 0.0\",\" 2.0\"],[\" 114.0\",\" 30.0\",\" 25.0\",\" 0.0\",\" 2.0\"],[\" 114.0\",\" 30.0\",\" 25.0\",\" 0.0\",\" 2.0\"],[\" 78.0\",\" 200.0\",\" 8.5\",\" 2.8\",\" 2.4\"],[\" 90.0\",\" 200.0\",\" 3.0\",\" 0.9\",\" 3.0\"],[\" 80.0\",\" 200.0\",\" 3.1\",\" 0.8\",\" 2.0\"],[\" 57.0\",\" 200.0\",\" 1.7\",\" 0.4\",\" 1.9\"],[\" 150.0\",\" 200.0\",\" 18.0\",\" 0.0\",\" 3.0\"],[\" 75.0\",\" 200.0\",\" 16.0\",\" 6.3\",\" 0.0\"],[\" 100.0\",\" 200.0\",\" 2.3\",\" 0.8\",\" 7.0\"],[\" 80.0\",\" 200.0\",\" 3.3\",\" 0.9\",\" 2.1\"],[\" 109.0\",\" 200.0\",\" 3.1\",\" 0.1\",\" 5.4\"],[\" 29.0\",\" 200.0\",\" 0.7\",\" 0.0\",\" 0.7\"],[\" 36.0\",\" 200.0\",\" 1.3\",\" 0.0\",\" 1.3\"],[\" 23.0\",\" 200.0\",\" 4.0\",\" 0.0\",\" 0.8\"],[\" 82.0\",\" 200.0\",\" 2.2\",\" 0.4\",\" 1.6\"],[\" 106.0\",\" 200.0\",\" 3.0\",\" 0.5\",\" 3.0\"],[\" 86.0\",\" 200.0\",\" 3.0\",\" 0.5\",\" 3.0\"],[\" 41.0\",\" 200.0\",\" 5.0\",\" 4.2\",\" 0.8\"],[\" 80.0\",\" 200.0\",\" 12.0\",\" 9.3\",\" 1.5\"],[\" 26.0\",\" 200.0\",\" 1.0\",\" 0.3\",\" 0.7\"],[\" 27.0\",\" 200.0\",\" 1.0\",\" 0.2\",\" 0.8\"],[\" 71.0\",\" 200.0\",\" 11.0\",\" 8.9\",\" 1.1\"],[\" 99.0\",\" 200.0\",\" 14.0\",\" 9.6\",\" 2.2\"],[\" 106.0\",\" 200.0\",\" 19.0\",\" 17.0\",\" 2.2\"],[\" 93.0\",\" 200.0\",\" 16.0\",\" 8.9\",\" 1.1\"],[\" 95.0\",\" 200.0\",\" 12.0\",\" 0.0\",\" 5.4\"],[\" 123.0\",\" 200.0\",\" 4.8\",\" 0.0\",\" 5.1\"],[\" 108.0\",\" 200.0\",\" 5.4\",\" 0.0\",\" 3.8\"],[\" 84.0\",\" 200.0\",\" 3.9\",\" 0.0\",\" 2.8\"]],\"hovertemplate\":\"<b>%{hovertext}</b><br><br>Classification (Label)=DAIRY 1<br>Kcal =%{customdata[0]}<br>Serving Size =%{customdata[1]}<br>Carbohydrate =%{customdata[2]}<br>Sugars =%{customdata[3]}<br>Proteins =%{customdata[4]}<extra></extra>\",\"hovertext\":[\"Not Milk \",\"Not Milk Semidesnatado\",\" Vegetal de almonds\",\" vegetal \",\" Vegetal de almonds Fresco\",\" Vegetal  de Caj\\u00fa Fresco\",\" Vegetal  Fresco\",\" Vegetal Noats Original\",\" Vegetal Noats Barista\",\" Jasmine rice em P\\u00f3\",\" BIOV jasmine rice com amendoas\",\" BIOV jasmine rice com coco\",\" BioV oats Jasmine\",\" Jasmine rice \",\" Jasmine rice com oats\",\"Bebida de rice Nesfit\",\"Bebida Natural Nesfit\",\"Bebida de rice  e Amendoas Nesfit\",\"Bebida de rice e Coco Nesfit\",\"Bebida de oats Nesfit\",\"Bebida de oats e cocoa\",\"Molico Vegetal Nestl\\u00e9\",\"Ninho Vegetal Nestl\\u00e9\",\"Ninho Banana e apple Nestl\\u00e9\",\"Nude Edi\\u00e7\\u00e3o Barista\",\"Nude Original \",\"Nude Sabor Baunilha\",\"Nude de cocoa\",\"Nude + calcium\",\"Nude Barista\",\"Almond Breeze Original\",\"Almond Breeze Chocolate\",\"Almond Breeze Baunilha\",\"Almond Breeze Sem sugar\",\"Almond Breeze Amendoas com Coco\",\"Almond Breeze Chocolate Sem sugar\",\" de Amendoas Silk Sem sugar\",\" de Amendoas Silk \",\" cashews Silk\",\" de almonds e cocoa Silk\",\" de almonds Silk Coco\",\"Bebida de rice L\\u00edquida Sabor Original\",\"Bebida de rice L\\u00edquida Sabor almonds\",\"Bebida de rice L\\u00edquida Sabor peanuts\\n\",\"Bebida de rice L\\u00edquida Sabor cashews\",\"Bebida de rice L\\u00edquida Sabor Chocolate\",\"Bebida de rice L\\u00edquida Sabor Coco\",\"Bebida de rice L\\u00edquida Sabor Baunilha\",\"Bebida de rice Em P\\u00f3 Sabor Original\",\"Bebida de rice Em P\\u00f3 Sabor Original\",\"Bebida de rice Em P\\u00f3 Sabor Banana e apple\",\"Bebida de rice Em P\\u00f3 Sabor Chocolate\",\"Bebida de rice Em P\\u00f3 Sabor strawberries\",\" a tal da castanha barista\",\" a tal da castanha original\",\" a tal da castanha caju + Coco\",\" a tal da castanha almonds\",\" a tal da castanha castanha + cocoa\",\" a tal da castanha oats\",\" a tal da castanha mixed nuts\",\" a tal da castanha caju + Par\\u00e1\",\" a tal da castanha caju + peanuts\",\" Natuterra oats + Coco\",\" de almonds Natuterra\",\" Natuterra oats \",\" Vegetal 3 Nuts \\u2013 macadamianuts, almonds e cashews\",\" Vegetal de macadamianuts e Coco\",\" Vegetal de macadamianuts e cashews\",\" Vegetal Possible Foods\",\" Vegetal Possible Foods Chocolate\",\"Bebida de castanh de caj\\u00fa sem adi\\u00e7\\u00e3o de sugar nature's heart\",\"Bebida de almonds s/ adi\\u00e7\\u00e3o de sugares 1L \\u2013 Nature\\u2019s Heart\",\"Bebida de rice s/ adi\\u00e7\\u00e3o de sugares 1L \\u2013 Nature\\u2019s Heart\",\"Bebida de oats s/ adi\\u00e7\\u00e3o de sugares 1L \\u2013 Nature\\u2019s Heart\",\"Bebida de cocoa & rice 1L \\u2013 Nature\\u2019s Heart\",\"Bebida  & rice s/ adi\\u00e7\\u00e3o de sugares 1L \\u2013 Nature\\u2019s Heart\",\" Vegetal de soy Naturis Batavo\",\" DUOLAT peanuts E CASTANHA 1L - CAJUEIRO\",\" 85 CASTANHAS 1L - CAJUEIRO\",\" TOASTED 1L - CAJUEIRO\"],\"legendgroup\":\"DAIRY 1\",\"marker\":{\"color\":\"rgb(17, 165, 121)\",\"symbol\":\"circle\"},\"mode\":\"markers\",\"name\":\"DAIRY 1\",\"orientation\":\"v\",\"showlegend\":true,\"x\":[12.23396110534668,12.66183853149414,-13.1338472366333,-12.975855827331543,-12.36648941040039,-12.900136947631836,-13.256549835205078,-30.67635154724121,-28.747621536254883,-25.976882934570312,-9.606562614440918,-26.444849014282227,-32.21487045288086,-25.544721603393555,-26.979154586791992,-34.48594665527344,-9.13861083984375,-17.55251693725586,-17.561159133911133,-33.54815673828125,-31.964113235473633,14.14108943939209,15.33240795135498,15.04482650756836,-36.142208099365234,-27.942041397094727,-28.97898292541504,-29.645774841308594,-27.21623420715332,-36.142208099365234,-81.25316619873047,-78.8909912109375,-80.45638275146484,-82.19389343261719,-78.276123046875,-79.29444122314453,-27.373964309692383,-28.233022689819336,-24.73649787902832,-26.743331909179688,-25.054332733154297,-44.816226959228516,-50.826210021972656,-52.182456970214844,-52.14977264404297,-44.528263092041016,-45.63447570800781,-50.93167495727539,-17.022083282470703,-17.022083282470703,-22.325233459472656,-21.659137725830078,-20.7854061126709,-26.50243377685547,-2.05899977684021,-6.6758012771606445,-2.980071544647217,-5.806981563568115,-25.520580291748047,-9.161956787109375,-5.253854751586914,-3.1961631774902344,-51.40913391113281,-50.410980224609375,-49.72684097290039,-6.400619029998779,-3.7069082260131836,-5.292862415313721,-17.647018432617188,-18.48802947998047,-58.25440216064453,-58.4598503112793,-52.95104217529297,-52.60160827636719,-49.444026947021484,-50.35712814331055,-0.9230339527130127,-2.9699573516845703,-0.11843471229076385,-0.45322221517562866],\"xaxis\":\"x\",\"y\":[-19.51548957824707,-20.272483825683594,-67.92581176757812,-69.01459503173828,-64.9089584350586,-62.91654968261719,-64.39349365234375,-20.448368072509766,-21.414281845092773,27.013370513916016,-14.223423957824707,25.053613662719727,-20.70581817626953,25.719038009643555,23.409530639648438,-32.55955123901367,-8.06513786315918,-13.74459171295166,-14.613090515136719,-32.76372528076172,-33.10028839111328,15.819550514221191,15.809308052062988,14.483826637268066,-10.706998825073242,-15.465526580810547,-16.753896713256836,-15.537636756896973,-17.27190589904785,-10.706998825073242,-3.35489821434021,-1.4717332124710083,-2.333299160003662,-1.5793217420578003,0.00797480158507824,0.7090598940849304,-46.26915740966797,-46.4730110168457,-50.05415344238281,-49.82225036621094,-50.925079345703125,-18.869905471801758,-20.425899505615234,-18.658906936645508,-17.21133804321289,-16.663143157958984,-18.56098747253418,-18.070375442504883,35.04227828979492,35.04227828979492,37.50171661376953,36.70109939575195,38.14162063598633,-14.077825546264648,16.44289207458496,-10.476655006408691,15.026535034179688,-7.319482803344727,-18.176660537719727,-10.974258422851562,-9.77603530883789,-8.47323989868164,-1.9304569959640503,-1.1771876811981201,-2.2141661643981934,-13.55579948425293,-11.702844619750977,-11.581955909729004,-22.74740219116211,-22.480667114257812,-30.655099868774414,-31.537464141845703,-31.861221313476562,-30.833168029785156,-32.55440902709961,-32.24292755126953,-11.910213470458984,-9.378243446350098,16.337738037109375,15.53366756439209],\"yaxis\":\"y\",\"type\":\"scatter\"},{\"customdata\":[[\" 142.0\",\" 200.0\",\" 22.0\",\" 0.0\",\" 0.8\"],[\" 149.0\",\" 200.0\",\" 24.0\",\" 0.0\",\" 0.8\"],[\" 149.0\",\" 200.0\",\" 24.0\",\" 0.0\",\" 0.8\"],[\" 92.0\",\" 200.0\",\" 6.4\",\" 0.0\",\" 0.9\"],[\" 100.0\",\" 200.0\",\" 8.2\",\" 0.0\",\" 1.0\"],[\" 145.0\",\" 150.0\",\" 20.0\",\" 0.0\",\" 1.0\"],[\" 148.0\",\" 150.0\",\" 21.0\",\" 0.0\",\" 1.0\"],[\" 156.0\",\" 250.0\",\" 11.7\",\" 0.0\",\" 14.0\"],[\" 123.0\",\" 250.0\",\" 11.0\",\" 0.0\",\" 10.0\"],[\" 152.0\",\" 250.0\",\" 11.0\",\" 0.0\",\" 14.0\"],[\" 27.0\",\" 15.0\",\" 0.0\",\" 0.0\",\" 0.0\"]],\"hovertemplate\":\"<b>%{hovertext}</b><br><br>Classification (Label)=DAIRY 2<br>Kcal =%{customdata[0]}<br>Serving Size =%{customdata[1]}<br>Carbohydrate =%{customdata[2]}<br>Sugars =%{customdata[3]}<br>Proteins =%{customdata[4]}<extra></extra>\",\"hovertext\":[\"Iogurte \",\"Iogurte  com strawberries\",\"Iogurte  com banana, apple e papaya\",\"Iogurte  Zero sugar\",\"Iogurte  com strawberries Zero sugar\",\"Iogurte GregoVeg \",\"Iogurte GregoVeg  com strawberries\",\"Iogurte Proteico 14g sabor strawberries\",\"Shake \",\"Iogurte Proteico 14g sabor  peanuts\",\"Creme de almonds\"],\"legendgroup\":\"DAIRY 2\",\"marker\":{\"color\":\"rgb(57, 105, 172)\",\"symbol\":\"circle\"},\"mode\":\"markers\",\"name\":\"DAIRY 2\",\"orientation\":\"v\",\"showlegend\":true,\"x\":[10.264270782470703,11.477866172790527,12.882668495178223,9.35840892791748,10.62854290008545,11.408209800720215,10.489660263061523,1.2948410511016846,-14.804494857788086,2.189049482345581,-1.055312156677246],\"xaxis\":\"x\",\"y\":[-54.336666107177734,-57.88359069824219,-56.003204345703125,-54.82904052734375,-57.20362091064453,-47.256309509277344,-47.4851188659668,-50.145870208740234,-68.81937408447266,-50.1678581237793,13.050914764404297],\"yaxis\":\"y\",\"type\":\"scatter\"},{\"customdata\":[[\" 28.0\",\" 12.0\",\" 1.4\",\" 0.0\",\" 2.5\"],[\" 20.0\",\" 12.0\",\" 0.0\",\" 0.0\",\" 0.0\"],[\" 70.0\",\" 12.0\",\" 0.0\",\" 0.0\",\" 0.0\"],[\" 71.0\",\" 12.0\",\" 0.6\",\" 0.0\",\" 0.0\"],[\" 57.0\",\" 12.0\",\" 0.6\",\" 0.0\",\" 0.0\"],[\" 56.0\",\" 12.0\",\" 0.6\",\" 0.0\",\" 0.0\"],[\" 33.0\",\" 12.0\",\" 0.6\",\" 0.0\",\" 0.4\"],[\" 33.0\",\" 12.0\",\" 0.6\",\" 0.0\",\" 0.4\"],[\" 33.0\",\" 12.0\",\" 0.6\",\" 0.0\",\" 0.4\"],[\" 33.0\",\" 12.0\",\" 0.6\",\" 0.0\",\" 0.4\"],[\" 33.0\",\" 12.0\",\" 0.6\",\" 0.0\",\" 0.4\"],[\" 25.0\",\" 12.0\",\" 0.0\",\" 0.0\",\" 0.0\"],[\" 21.0\",\" 12.0\",\" 0.0\",\" 0.0\",\" 0.0\"],[\" 84.0\",\" 40.0\",\" 5.2\",\" 0.0\",\" 0.5\"]],\"hovertemplate\":\"<b>%{hovertext}</b><br><br>Classification (Label)=EGG 1<br>Kcal =%{customdata[0]}<br>Serving Size =%{customdata[1]}<br>Carbohydrate =%{customdata[2]}<br>Sugars =%{customdata[3]}<br>Proteins =%{customdata[4]}<extra></extra>\",\"hovertext\":[\"MAIONESE VEGETAL SUPERBOM\",\"MAIONESE FUGINI\",\"NOT MAYO\",\"NOT MAYO garlic\",\"NOT MAYO AZEITONA\",\"NOT MAYO PICANTE\",\"MAIONESE V-MAYO\",\"MAIONESE V-MAYO ApepperDA\",\"MAIONESE V-MAYO TRUFADA\",\"MAIONESE V-MAYO DE ABACATE\",\"MAIONESE V-MAYO DE garlic\",\"MAIONESE HELLMANS\",\"MAIONESE VEGANA FUGINI\",\"MAIONESE DEL\\u00cdCIAS DE GOI\\u00c1S\"],\"legendgroup\":\"EGG 1\",\"marker\":{\"color\":\"rgb(242, 183, 1)\",\"symbol\":\"circle\"},\"mode\":\"markers\",\"name\":\"EGG 1\",\"orientation\":\"v\",\"showlegend\":true,\"x\":[14.049756050109863,14.295696258544922,28.54556655883789,29.519399642944336,27.60350227355957,29.376787185668945,34.439666748046875,36.677791595458984,34.10213088989258,35.252994537353516,35.64582061767578,14.433661460876465,15.995283126831055,-2.054388999938965],\"xaxis\":\"x\",\"y\":[-43.134639739990234,-44.865081787109375,-33.11513137817383,-34.40085220336914,-33.23108673095703,-31.61871910095215,-56.055118560791016,-56.23432159423828,-54.347110748291016,-57.33305740356445,-55.139591217041016,-41.36231231689453,-45.80881881713867,2.096766710281372],\"yaxis\":\"y\",\"type\":\"scatter\"},{\"customdata\":[[\" 25.0\",\" 10.0\",\" 3.3\",\" 0.0\",\" 4.1\"],[\" 28.0\",\" 7.0\",\" 1.2\",\" 0.0\",\" 3.1\"]],\"hovertemplate\":\"<b>%{hovertext}</b><br><br>Classification (Label)=EGG 2<br>Kcal =%{customdata[0]}<br>Serving Size =%{customdata[1]}<br>Carbohydrate =%{customdata[2]}<br>Sugars =%{customdata[3]}<br>Proteins =%{customdata[4]}<extra></extra>\",\"hovertext\":[\"Ovos Novos\",\"Ovos Novos\"],\"legendgroup\":\"EGG 2\",\"marker\":{\"color\":\"rgb(231, 63, 116)\",\"symbol\":\"circle\"},\"mode\":\"markers\",\"name\":\"EGG 2\",\"orientation\":\"v\",\"showlegend\":true,\"x\":[-5.014340400695801,-5.1316351890563965],\"xaxis\":\"x\",\"y\":[18.523048400878906,19.912803649902344],\"yaxis\":\"y\",\"type\":\"scatter\"}],                        {\"template\":{\"data\":{\"barpolar\":[{\"marker\":{\"line\":{\"color\":\"white\",\"width\":0.5},\"pattern\":{\"fillmode\":\"overlay\",\"size\":10,\"solidity\":0.2}},\"type\":\"barpolar\"}],\"bar\":[{\"error_x\":{\"color\":\"rgb(36,36,36)\"},\"error_y\":{\"color\":\"rgb(36,36,36)\"},\"marker\":{\"line\":{\"color\":\"white\",\"width\":0.5},\"pattern\":{\"fillmode\":\"overlay\",\"size\":10,\"solidity\":0.2}},\"type\":\"bar\"}],\"carpet\":[{\"aaxis\":{\"endlinecolor\":\"rgb(36,36,36)\",\"gridcolor\":\"white\",\"linecolor\":\"white\",\"minorgridcolor\":\"white\",\"startlinecolor\":\"rgb(36,36,36)\"},\"baxis\":{\"endlinecolor\":\"rgb(36,36,36)\",\"gridcolor\":\"white\",\"linecolor\":\"white\",\"minorgridcolor\":\"white\",\"startlinecolor\":\"rgb(36,36,36)\"},\"type\":\"carpet\"}],\"choropleth\":[{\"colorbar\":{\"outlinewidth\":1,\"tickcolor\":\"rgb(36,36,36)\",\"ticks\":\"outside\"},\"type\":\"choropleth\"}],\"contourcarpet\":[{\"colorbar\":{\"outlinewidth\":1,\"tickcolor\":\"rgb(36,36,36)\",\"ticks\":\"outside\"},\"type\":\"contourcarpet\"}],\"contour\":[{\"colorbar\":{\"outlinewidth\":1,\"tickcolor\":\"rgb(36,36,36)\",\"ticks\":\"outside\"},\"colorscale\":[[0.0,\"#440154\"],[0.1111111111111111,\"#482878\"],[0.2222222222222222,\"#3e4989\"],[0.3333333333333333,\"#31688e\"],[0.4444444444444444,\"#26828e\"],[0.5555555555555556,\"#1f9e89\"],[0.6666666666666666,\"#35b779\"],[0.7777777777777778,\"#6ece58\"],[0.8888888888888888,\"#b5de2b\"],[1.0,\"#fde725\"]],\"type\":\"contour\"}],\"heatmapgl\":[{\"colorbar\":{\"outlinewidth\":1,\"tickcolor\":\"rgb(36,36,36)\",\"ticks\":\"outside\"},\"colorscale\":[[0.0,\"#440154\"],[0.1111111111111111,\"#482878\"],[0.2222222222222222,\"#3e4989\"],[0.3333333333333333,\"#31688e\"],[0.4444444444444444,\"#26828e\"],[0.5555555555555556,\"#1f9e89\"],[0.6666666666666666,\"#35b779\"],[0.7777777777777778,\"#6ece58\"],[0.8888888888888888,\"#b5de2b\"],[1.0,\"#fde725\"]],\"type\":\"heatmapgl\"}],\"heatmap\":[{\"colorbar\":{\"outlinewidth\":1,\"tickcolor\":\"rgb(36,36,36)\",\"ticks\":\"outside\"},\"colorscale\":[[0.0,\"#440154\"],[0.1111111111111111,\"#482878\"],[0.2222222222222222,\"#3e4989\"],[0.3333333333333333,\"#31688e\"],[0.4444444444444444,\"#26828e\"],[0.5555555555555556,\"#1f9e89\"],[0.6666666666666666,\"#35b779\"],[0.7777777777777778,\"#6ece58\"],[0.8888888888888888,\"#b5de2b\"],[1.0,\"#fde725\"]],\"type\":\"heatmap\"}],\"histogram2dcontour\":[{\"colorbar\":{\"outlinewidth\":1,\"tickcolor\":\"rgb(36,36,36)\",\"ticks\":\"outside\"},\"colorscale\":[[0.0,\"#440154\"],[0.1111111111111111,\"#482878\"],[0.2222222222222222,\"#3e4989\"],[0.3333333333333333,\"#31688e\"],[0.4444444444444444,\"#26828e\"],[0.5555555555555556,\"#1f9e89\"],[0.6666666666666666,\"#35b779\"],[0.7777777777777778,\"#6ece58\"],[0.8888888888888888,\"#b5de2b\"],[1.0,\"#fde725\"]],\"type\":\"histogram2dcontour\"}],\"histogram2d\":[{\"colorbar\":{\"outlinewidth\":1,\"tickcolor\":\"rgb(36,36,36)\",\"ticks\":\"outside\"},\"colorscale\":[[0.0,\"#440154\"],[0.1111111111111111,\"#482878\"],[0.2222222222222222,\"#3e4989\"],[0.3333333333333333,\"#31688e\"],[0.4444444444444444,\"#26828e\"],[0.5555555555555556,\"#1f9e89\"],[0.6666666666666666,\"#35b779\"],[0.7777777777777778,\"#6ece58\"],[0.8888888888888888,\"#b5de2b\"],[1.0,\"#fde725\"]],\"type\":\"histogram2d\"}],\"histogram\":[{\"marker\":{\"line\":{\"color\":\"white\",\"width\":0.6}},\"type\":\"histogram\"}],\"mesh3d\":[{\"colorbar\":{\"outlinewidth\":1,\"tickcolor\":\"rgb(36,36,36)\",\"ticks\":\"outside\"},\"type\":\"mesh3d\"}],\"parcoords\":[{\"line\":{\"colorbar\":{\"outlinewidth\":1,\"tickcolor\":\"rgb(36,36,36)\",\"ticks\":\"outside\"}},\"type\":\"parcoords\"}],\"pie\":[{\"automargin\":true,\"type\":\"pie\"}],\"scatter3d\":[{\"line\":{\"colorbar\":{\"outlinewidth\":1,\"tickcolor\":\"rgb(36,36,36)\",\"ticks\":\"outside\"}},\"marker\":{\"colorbar\":{\"outlinewidth\":1,\"tickcolor\":\"rgb(36,36,36)\",\"ticks\":\"outside\"}},\"type\":\"scatter3d\"}],\"scattercarpet\":[{\"marker\":{\"colorbar\":{\"outlinewidth\":1,\"tickcolor\":\"rgb(36,36,36)\",\"ticks\":\"outside\"}},\"type\":\"scattercarpet\"}],\"scattergeo\":[{\"marker\":{\"colorbar\":{\"outlinewidth\":1,\"tickcolor\":\"rgb(36,36,36)\",\"ticks\":\"outside\"}},\"type\":\"scattergeo\"}],\"scattergl\":[{\"marker\":{\"colorbar\":{\"outlinewidth\":1,\"tickcolor\":\"rgb(36,36,36)\",\"ticks\":\"outside\"}},\"type\":\"scattergl\"}],\"scattermapbox\":[{\"marker\":{\"colorbar\":{\"outlinewidth\":1,\"tickcolor\":\"rgb(36,36,36)\",\"ticks\":\"outside\"}},\"type\":\"scattermapbox\"}],\"scatterpolargl\":[{\"marker\":{\"colorbar\":{\"outlinewidth\":1,\"tickcolor\":\"rgb(36,36,36)\",\"ticks\":\"outside\"}},\"type\":\"scatterpolargl\"}],\"scatterpolar\":[{\"marker\":{\"colorbar\":{\"outlinewidth\":1,\"tickcolor\":\"rgb(36,36,36)\",\"ticks\":\"outside\"}},\"type\":\"scatterpolar\"}],\"scatter\":[{\"marker\":{\"colorbar\":{\"outlinewidth\":1,\"tickcolor\":\"rgb(36,36,36)\",\"ticks\":\"outside\"}},\"type\":\"scatter\"}],\"scatterternary\":[{\"marker\":{\"colorbar\":{\"outlinewidth\":1,\"tickcolor\":\"rgb(36,36,36)\",\"ticks\":\"outside\"}},\"type\":\"scatterternary\"}],\"surface\":[{\"colorbar\":{\"outlinewidth\":1,\"tickcolor\":\"rgb(36,36,36)\",\"ticks\":\"outside\"},\"colorscale\":[[0.0,\"#440154\"],[0.1111111111111111,\"#482878\"],[0.2222222222222222,\"#3e4989\"],[0.3333333333333333,\"#31688e\"],[0.4444444444444444,\"#26828e\"],[0.5555555555555556,\"#1f9e89\"],[0.6666666666666666,\"#35b779\"],[0.7777777777777778,\"#6ece58\"],[0.8888888888888888,\"#b5de2b\"],[1.0,\"#fde725\"]],\"type\":\"surface\"}],\"table\":[{\"cells\":{\"fill\":{\"color\":\"rgb(237,237,237)\"},\"line\":{\"color\":\"white\"}},\"header\":{\"fill\":{\"color\":\"rgb(217,217,217)\"},\"line\":{\"color\":\"white\"}},\"type\":\"table\"}]},\"layout\":{\"annotationdefaults\":{\"arrowhead\":0,\"arrowwidth\":1},\"autotypenumbers\":\"strict\",\"coloraxis\":{\"colorbar\":{\"outlinewidth\":1,\"tickcolor\":\"rgb(36,36,36)\",\"ticks\":\"outside\"}},\"colorscale\":{\"diverging\":[[0.0,\"rgb(103,0,31)\"],[0.1,\"rgb(178,24,43)\"],[0.2,\"rgb(214,96,77)\"],[0.3,\"rgb(244,165,130)\"],[0.4,\"rgb(253,219,199)\"],[0.5,\"rgb(247,247,247)\"],[0.6,\"rgb(209,229,240)\"],[0.7,\"rgb(146,197,222)\"],[0.8,\"rgb(67,147,195)\"],[0.9,\"rgb(33,102,172)\"],[1.0,\"rgb(5,48,97)\"]],\"sequential\":[[0.0,\"#440154\"],[0.1111111111111111,\"#482878\"],[0.2222222222222222,\"#3e4989\"],[0.3333333333333333,\"#31688e\"],[0.4444444444444444,\"#26828e\"],[0.5555555555555556,\"#1f9e89\"],[0.6666666666666666,\"#35b779\"],[0.7777777777777778,\"#6ece58\"],[0.8888888888888888,\"#b5de2b\"],[1.0,\"#fde725\"]],\"sequentialminus\":[[0.0,\"#440154\"],[0.1111111111111111,\"#482878\"],[0.2222222222222222,\"#3e4989\"],[0.3333333333333333,\"#31688e\"],[0.4444444444444444,\"#26828e\"],[0.5555555555555556,\"#1f9e89\"],[0.6666666666666666,\"#35b779\"],[0.7777777777777778,\"#6ece58\"],[0.8888888888888888,\"#b5de2b\"],[1.0,\"#fde725\"]]},\"colorway\":[\"#1F77B4\",\"#FF7F0E\",\"#2CA02C\",\"#D62728\",\"#9467BD\",\"#8C564B\",\"#E377C2\",\"#7F7F7F\",\"#BCBD22\",\"#17BECF\"],\"font\":{\"color\":\"rgb(36,36,36)\"},\"geo\":{\"bgcolor\":\"white\",\"lakecolor\":\"white\",\"landcolor\":\"white\",\"showlakes\":true,\"showland\":true,\"subunitcolor\":\"white\"},\"hoverlabel\":{\"align\":\"left\"},\"hovermode\":\"closest\",\"mapbox\":{\"style\":\"light\"},\"paper_bgcolor\":\"white\",\"plot_bgcolor\":\"white\",\"polar\":{\"angularaxis\":{\"gridcolor\":\"rgb(232,232,232)\",\"linecolor\":\"rgb(36,36,36)\",\"showgrid\":false,\"showline\":true,\"ticks\":\"outside\"},\"bgcolor\":\"white\",\"radialaxis\":{\"gridcolor\":\"rgb(232,232,232)\",\"linecolor\":\"rgb(36,36,36)\",\"showgrid\":false,\"showline\":true,\"ticks\":\"outside\"}},\"scene\":{\"xaxis\":{\"backgroundcolor\":\"white\",\"gridcolor\":\"rgb(232,232,232)\",\"gridwidth\":2,\"linecolor\":\"rgb(36,36,36)\",\"showbackground\":true,\"showgrid\":false,\"showline\":true,\"ticks\":\"outside\",\"zeroline\":false,\"zerolinecolor\":\"rgb(36,36,36)\"},\"yaxis\":{\"backgroundcolor\":\"white\",\"gridcolor\":\"rgb(232,232,232)\",\"gridwidth\":2,\"linecolor\":\"rgb(36,36,36)\",\"showbackground\":true,\"showgrid\":false,\"showline\":true,\"ticks\":\"outside\",\"zeroline\":false,\"zerolinecolor\":\"rgb(36,36,36)\"},\"zaxis\":{\"backgroundcolor\":\"white\",\"gridcolor\":\"rgb(232,232,232)\",\"gridwidth\":2,\"linecolor\":\"rgb(36,36,36)\",\"showbackground\":true,\"showgrid\":false,\"showline\":true,\"ticks\":\"outside\",\"zeroline\":false,\"zerolinecolor\":\"rgb(36,36,36)\"}},\"shapedefaults\":{\"fillcolor\":\"black\",\"line\":{\"width\":0},\"opacity\":0.3},\"ternary\":{\"aaxis\":{\"gridcolor\":\"rgb(232,232,232)\",\"linecolor\":\"rgb(36,36,36)\",\"showgrid\":false,\"showline\":true,\"ticks\":\"outside\"},\"baxis\":{\"gridcolor\":\"rgb(232,232,232)\",\"linecolor\":\"rgb(36,36,36)\",\"showgrid\":false,\"showline\":true,\"ticks\":\"outside\"},\"bgcolor\":\"white\",\"caxis\":{\"gridcolor\":\"rgb(232,232,232)\",\"linecolor\":\"rgb(36,36,36)\",\"showgrid\":false,\"showline\":true,\"ticks\":\"outside\"}},\"title\":{\"x\":0.05},\"xaxis\":{\"automargin\":true,\"gridcolor\":\"rgb(232,232,232)\",\"linecolor\":\"rgb(36,36,36)\",\"showgrid\":false,\"showline\":true,\"ticks\":\"outside\",\"title\":{\"standoff\":15},\"zeroline\":false,\"zerolinecolor\":\"rgb(36,36,36)\"},\"yaxis\":{\"automargin\":true,\"gridcolor\":\"rgb(232,232,232)\",\"linecolor\":\"rgb(36,36,36)\",\"showgrid\":false,\"showline\":true,\"ticks\":\"outside\",\"title\":{\"standoff\":15},\"zeroline\":false,\"zerolinecolor\":\"rgb(36,36,36)\"}}},\"xaxis\":{\"anchor\":\"y\",\"domain\":[0.0,1.0],\"title\":{\"text\":\"x\"},\"visible\":false},\"yaxis\":{\"anchor\":\"x\",\"domain\":[0.0,1.0],\"title\":{\"text\":\"y\"},\"visible\":false},\"legend\":{\"title\":{\"text\":\"Classification (Label)\"},\"tracegroupgap\":0},\"margin\":{\"t\":0,\"l\":0,\"r\":0,\"b\":0},\"width\":800},                        {\"responsive\": true}                    ).then(function(){\n",
              "                            \n",
              "var gd = document.getElementById('c2c94412-5867-424d-b38f-56f705f140c1');\n",
              "var x = new MutationObserver(function (mutations, observer) {{\n",
              "        var display = window.getComputedStyle(gd).display;\n",
              "        if (!display || display === 'none') {{\n",
              "            console.log([gd, 'removed!']);\n",
              "            Plotly.purge(gd);\n",
              "            observer.disconnect();\n",
              "        }}\n",
              "}});\n",
              "\n",
              "// Listen for the removal of the full notebook cells\n",
              "var notebookContainer = gd.closest('#notebook-container');\n",
              "if (notebookContainer) {{\n",
              "    x.observe(notebookContainer, {childList: true});\n",
              "}}\n",
              "\n",
              "// Listen for the clearing of the current output cell\n",
              "var outputEl = gd.closest('.output');\n",
              "if (outputEl) {{\n",
              "    x.observe(outputEl, {childList: true});\n",
              "}}\n",
              "\n",
              "                        })                };                            </script>        </div>\n",
              "</body>\n",
              "</html>"
            ]
          },
          "metadata": {}
        }
      ]
    },
    {
      "cell_type": "code",
      "source": [
        "data_ingredients = label_data.join(ingredients_normalized)\n",
        "tsne = TSNE(n_components=2,perplexity=5,learning_rate=350.0,metric='euclidean', init='random')\n",
        "X_tsneI = tsne.fit_transform(X_ingredients)\n",
        "\n",
        "X_tsneI[1:4, :]\n",
        "data_ingredients['x'] = X_tsneI[:,0]\n",
        "data_ingredients['y'] = X_tsneI[:,1]\n",
        "\n",
        "fig = px.scatter(data_ingredients, x='x', y='y', color='Classification', hover_data=[\"Description\"], width=800)\n",
        "fig.show()"
      ],
      "metadata": {
        "colab": {
          "base_uri": "https://localhost:8080/",
          "height": 542
        },
        "id": "iolxIik8ZVws",
        "outputId": "ecdc84ad-4449-4423-c8c8-0443cd613ab3"
      },
      "execution_count": null,
      "outputs": [
        {
          "output_type": "display_data",
          "data": {
            "text/html": [
              "<html>\n",
              "<head><meta charset=\"utf-8\" /></head>\n",
              "<body>\n",
              "    <div>            <script src=\"https://cdnjs.cloudflare.com/ajax/libs/mathjax/2.7.5/MathJax.js?config=TeX-AMS-MML_SVG\"></script><script type=\"text/javascript\">if (window.MathJax) {MathJax.Hub.Config({SVG: {font: \"STIX-Web\"}});}</script>                <script type=\"text/javascript\">window.PlotlyConfig = {MathJaxConfig: 'local'};</script>\n",
              "        <script src=\"https://cdn.plot.ly/plotly-2.8.3.min.js\"></script>                <div id=\"0d142ce3-f434-4e5c-9423-b88ffbadd063\" class=\"plotly-graph-div\" style=\"height:525px; width:800px;\"></div>            <script type=\"text/javascript\">                                    window.PLOTLYENV=window.PLOTLYENV || {};                                    if (document.getElementById(\"0d142ce3-f434-4e5c-9423-b88ffbadd063\")) {                    Plotly.newPlot(                        \"0d142ce3-f434-4e5c-9423-b88ffbadd063\",                        [{\"customdata\":[[\"Carne Mo\\u00edda do Futuro\"],[\"Almondegas de Soja Vegway\"],[\"Almondegas Amazonika Mundi\"],[\"Kibe Incr\\u00edvel Seara\"],[\"Almondegas Incr\\u00edveis Seara\"],[\"Almondegas Mr Veggy\"],[\"Carne Mo\\u00edda Superbom\"],[\"Carne Vegetal Mo\\u00edda Superbom\"],[\"Carne Mo\\u00edda Vegetal Verdali\"]],\"hovertemplate\":\"Classification=MEAT 2<br>x=%{x}<br>y=%{y}<br>Product's Name=%{customdata[0]}<extra></extra>\",\"legendgroup\":\"MEAT 2\",\"marker\":{\"color\":\"#636efa\",\"symbol\":\"circle\"},\"mode\":\"markers\",\"name\":\"MEAT 2\",\"orientation\":\"v\",\"showlegend\":true,\"x\":[8.93911075592041,11.355557441711426,-24.02202033996582,-6.696422576904297,-20.49488639831543,-3.848422050476074,-8.133476257324219,21.38506507873535,14.250880241394043],\"xaxis\":\"x\",\"y\":[52.73488235473633,-69.9324722290039,19.04363441467285,39.71702194213867,70.22073364257812,36.956825256347656,-4.59290885925293,-48.126930236816406,-4.203893184661865],\"yaxis\":\"y\",\"type\":\"scatter\"},{\"customdata\":[[\"Carne Mo\\u00edda do Futuro\"],[\"Fil\\u00e9s Sora Carne Vermelha\"],[\"Fatias Sora Carne Vermelha\"],[\"Fil\\u00e9 Pronto Saud\\u00e1vel Sora\"],[\"Carne Mo\\u00edda Pronto Saud\\u00e1vel Sora\"],[\"Churrasco Vegabom\"],[\"Churrasco Aoniondo Vegabom\"],[\"Carne de Pernil Seara\"],[\"Alm\\u00f4ndega de Soja Vegana Goshen\"],[\"Bife de Soja Vegano Goshen\"],[\"Alm\\u00f4ndega Vegana Superbom\"],[\"Bife Vegetal Superbom\"],[\"Escalope ao Molho Caseiro Superbom\"],[\"Cubinhos ao Molho Mexicano Superbom\"],[\"Alm\\u00f4ndegas ao Molho Sugo Superbom\"],[\"Medalh\\u00e3o ao Molho Madeira Superbom\"],[\"Mignon Verdali\"],[\"Steak Verdali\"]],\"hovertemplate\":\"Classification=MEAT 3<br>x=%{x}<br>y=%{y}<br>Product's Name=%{customdata[0]}<extra></extra>\",\"legendgroup\":\"MEAT 3\",\"marker\":{\"color\":\"#EF553B\",\"symbol\":\"circle\"},\"mode\":\"markers\",\"name\":\"MEAT 3\",\"orientation\":\"v\",\"showlegend\":true,\"x\":[10.880796432495117,16.934587478637695,20.41506004333496,10.257658004760742,9.544709205627441,-4.6613593101501465,-4.437859058380127,-19.232898712158203,46.84617614746094,43.4072151184082,-8.145663261413574,14.291351318359375,-1.9717488288879395,-2.1751885414123535,21.925512313842773,21.72372817993164,15.503679275512695,13.842150688171387],\"xaxis\":\"x\",\"y\":[51.233673095703125,-24.62982940673828,-27.550182342529297,-33.455963134765625,-34.04167175292969,38.460052490234375,38.5164680480957,69.64724731445312,-37.118526458740234,-38.9621696472168,-4.831457138061523,-47.4912109375,-27.48932456970215,-27.33415412902832,-49.811344146728516,-49.21384811401367,-3.9920313358306885,-4.424004554748535],\"yaxis\":\"y\",\"type\":\"scatter\"},{\"customdata\":[[\"Frango do Futuro\"],[\"Fatias Sora Carne Branca\"],[\"Fil\\u00e9s Sora Carne Branca\"],[\"Strogonoff de Frango Vegabom\"],[\"Tiras de Frango New Butchers\"],[\"Fil\\u00e9 de Frango Desfiado Vegway\"],[\"Frango Veg e Tal Sadia\"],[\"Frango Veg e Tal Sadia Desfiado\"],[\"Peito de Peru de Soja\"],[\"Peito de Peru de Soja Vegano\"],[\"Tiras de Ave Verdali\"],[\"Fil\\u00e9 sem Frango Verdali\"],[\"Mini Fil\\u00e9 de Frango Verdali\"]],\"hovertemplate\":\"Classification=POULTRY 3<br>x=%{x}<br>y=%{y}<br>Product's Name=%{customdata[0]}<extra></extra>\",\"legendgroup\":\"POULTRY 3\",\"marker\":{\"color\":\"#00cc96\",\"symbol\":\"circle\"},\"mode\":\"markers\",\"name\":\"POULTRY 3\",\"orientation\":\"v\",\"showlegend\":true,\"x\":[11.127140998840332,18.44709587097168,18.916711807250977,-4.65954065322876,9.433746337890625,14.206710815429688,-18.313650131225586,-18.3608455657959,52.260345458984375,54.37246322631836,-3.672125816345215,18.55644416809082,19.5361385345459],\"xaxis\":\"x\",\"y\":[51.522403717041016,-24.831472396850586,-25.515501022338867,40.00227355957031,7.5919036865234375,-65.45974731445312,18.475404739379883,18.71623420715332,-36.51176834106445,-41.676429748535156,27.986360549926758,0.5517919659614563,1.694793939590454],\"yaxis\":\"y\",\"type\":\"scatter\"},{\"customdata\":[[\"Lingui\\u00e7a do Futuro\"],[\"Lingui\\u00e7a calabresa vegabom\"],[\"saltsicha de chickpea Vegabom\"],[\"saltsicha de Soja Vegway\"],[\"saltsichas Incriveis Seara\"],[\"Lingui\\u00e7a Apimentada de Soja Goshen\"],[\"Lingui\\u00e7a Calabresa de Soja Goshen\"],[\"Lingui\\u00e7a de Soja Vegana Goshen\"],[\"Lingui\\u00e7a Toscana de Soja Goshen\"],[\"saltsicha de Soja Vegana Goshen\"],[\"saltsicha Vegetal Superbom\"],[\"saltsicha Vegetal Defumada Superbom\"]],\"hovertemplate\":\"Classification=PORK 1<br>x=%{x}<br>y=%{y}<br>Product's Name=%{customdata[0]}<extra></extra>\",\"legendgroup\":\"PORK 1\",\"marker\":{\"color\":\"#ab63fa\",\"symbol\":\"circle\"},\"mode\":\"markers\",\"name\":\"PORK 1\",\"orientation\":\"v\",\"showlegend\":true,\"x\":[9.794918060302734,3.974393844604492,2.454435348510742,12.182037353515625,-19.38379669189453,48.64874267578125,52.22146224975586,48.397396087646484,52.006072998046875,48.626136779785156,16.719894409179688,16.657957077026367],\"xaxis\":\"x\",\"y\":[54.1018180847168,-3.0664632320404053,-3.6494789123535156,-65.68305969238281,68.2583236694336,-45.851409912109375,-41.483848571777344,-44.19205856323242,-36.550559997558594,-44.54637145996094,-41.3563117980957,-41.08887481689453],\"yaxis\":\"y\",\"type\":\"scatter\"},{\"customdata\":[[\"Hamburguer de Soja Goshen\"],[\"Hamburguer de Soja Vegano Goshen\"],[\"Hamburguer de Quinoa Mr Veggy\"],[\"Hamburguer de lentil Mr Veggy\"],[\"Hamburguer vegano falafel amazonika mundi\"],[\"Hamburguer Vegetal Verdali\"],[\"VegBurger Sabor Carne\"],[\"Burger Gourmet Superbom\"],[\"Hamburguer Incr\\u00edvel Seara\"],[\"Not Burguer Notco\"],[\"Hamburguer de Fibra de Caju Amazonika Mundi\"],[\"Hamburguer Vegabom\"],[\"Hamburguer de Carne Veg  e Tal Sadia\"],[\"Hamburger New Butchers\"],[\"Hamburguer de Legumes Mr Veggy\"],[\"Hamburguer Vegetariano Mr Veggy\"],[\"Hambuguer Mr Veggy Mari Mari\"],[\"Hambuguer Mr Veggy Mari Mari Churrrasco\"],[\"Hamb\\u00farguer Fazenda Futuro 2.0\"],[\"Hamb\\u00farguer Vegano de Quinoa Amazonika Mundi\"],[\"Hamburguer Veggie Roots Tempero Indiano\"],[\"Hamb\\u00farguer Sora Carne Vermelha \"],[\"Hamburguer Veggie Roots brazilianspices\"],[\"Hamburguer veggie roots tempero mexicano\"],[\"Hamburguer de Soja Sabor Carne Vegway\"],[\"Hamb\\u00farguer de Soja Empanado Vegway\"],[\"Hamburguer Vegetal Superbom\"],[\"Hamburguer de chickpea Mr Veggy\"],[\"Hamburguer Veggie Roots Tempero \\u00c1rabe\"],[\"Hamburguer Veggie Roots Tempero Tailand\\u00eas\"],[\"Hamburguer Vegabom\"],[\"Hamb\\u00farguer Pronto Saud\\u00e1vel Sora\"],[\"hamburguer vegetal com herbs jasmine\"],[\"Hamburguer Vegetal Tradicional Jasmine\"]],\"hovertemplate\":\"Classification=MEAT 1<br>x=%{x}<br>y=%{y}<br>Product's Name=%{customdata[0]}<extra></extra>\",\"legendgroup\":\"MEAT 1\",\"marker\":{\"color\":\"#FFA15A\",\"symbol\":\"circle\"},\"mode\":\"markers\",\"name\":\"MEAT 1\",\"orientation\":\"v\",\"showlegend\":true,\"x\":[42.94849395751953,43.78874588012695,132.687255859375,-6.967745780944824,-10.54116439819336,-3.799797534942627,-12.305124282836914,28.795427322387695,-20.7460880279541,-146.26510620117188,-24.14706039428711,2.7366201877593994,-9.310102462768555,9.478459358215332,1.7498811483383179,1.570005178451538,-0.39406219124794006,-0.16192841529846191,8.93911075592041,-11.76030445098877,7.582294464111328,20.067834854125977,7.4076924324035645,8.55333137512207,13.257970809936523,10.781184196472168,14.604129791259766,-7.2154221534729,14.011411666870117,15.200395584106445,1.7354999780654907,9.345759391784668,14.366674423217773,14.607733726501465],\"xaxis\":\"x\",\"y\":[-39.33268737792969,-34.09968185424805,130.34307861328125,15.818586349487305,8.28316593170166,28.26371192932129,18.86894416809082,-11.131967544555664,67.9761962890625,-111.3370132446289,18.836978912353516,-3.0639235973358154,40.185367584228516,7.348655700683594,5.397463798522949,5.0622429847717285,2.2262845039367676,2.141630172729492,52.73488235473633,13.45866584777832,-15.69815444946289,-27.837093353271484,-20.613357543945312,-21.4566650390625,-66.57442474365234,-70.14942932128906,-62.645118713378906,15.504385948181152,-22.883344650268555,-23.650020599365234,-1.2822424173355103,-33.176353454589844,-13.578227043151855,-13.653642654418945],\"yaxis\":\"y\",\"type\":\"scatter\"},{\"customdata\":[[\"Hamb\\u00farguer Sora Carne Branca\"],[\"VegBurger Sabor Frango\"],[\"Hambuguer Incr\\u00edvel Seara Frango\"],[\"Frango Vegano em Peda\\u00e7os \\u00e0 Base de pea\"],[\"Hamb\\u00farguer de Frango Verdali\"]],\"hovertemplate\":\"Classification=POULTRY 2<br>x=%{x}<br>y=%{y}<br>Product's Name=%{customdata[0]}<extra></extra>\",\"legendgroup\":\"POULTRY 2\",\"marker\":{\"color\":\"#19d3f3\",\"symbol\":\"circle\"},\"mode\":\"markers\",\"name\":\"POULTRY 2\",\"orientation\":\"v\",\"showlegend\":true,\"x\":[18.053239822387695,-12.124940872192383,-21.434526443481445,29.95102310180664,18.96605682373047],\"xaxis\":\"x\",\"y\":[-25.789155960083008,19.0333251953125,69.1920166015625,-10.895764350891113,1.0296661853790283],\"yaxis\":\"y\",\"type\":\"scatter\"},{\"customdata\":[[\"Empanado de Frango Vegabom\"],[\"Fil\\u00e9 de Frango Empanado Vegabom\"],[\"Empanados de Frango Vegway\"],[\"Empanados Incr\\u00edveis Seara\"],[\"Empanados Sadia Veg e Tal\"],[\"Empanadinho de Soja  Goshen\"],[\"Empanadinho de Soja Vegano  Goshen\"],[\"Steak de Soja Vegano Goshen\"],[\"Empanado Vegano (Mini Crispy) 100 Foods\"],[\"Crispy Chicken 100 Foods\"],[\"Mini Empanado de Legumes Superbom\"],[\"Steak Vegan Sabor Legumes Superbom\"],[\"Steak Veg\\u00ea Sabor Frango\"],[\"Steak Veg\\u00ea Sabor Frango Empanado\"]],\"hovertemplate\":\"Classification=POULTRY 1<br>x=%{x}<br>y=%{y}<br>Product's Name=%{customdata[0]}<extra></extra>\",\"legendgroup\":\"POULTRY 1\",\"marker\":{\"color\":\"#FF6692\",\"symbol\":\"circle\"},\"mode\":\"markers\",\"name\":\"POULTRY 1\",\"orientation\":\"v\",\"showlegend\":true,\"x\":[30.137447357177734,30.801292419433594,15.820589065551758,-13.276750564575195,-13.710108757019043,44.71510314941406,46.57308578491211,45.715476989746094,1.8898833990097046,1.8874653577804565,3.1448991298675537,3.383518934249878,3.6731462478637695,3.924362897872925],\"xaxis\":\"x\",\"y\":[32.49888229370117,31.949195861816406,-68.45020294189453,58.00057601928711,57.248016357421875,-39.82880401611328,-38.63005828857422,-39.40253829956055,41.638450622558594,41.902793884277344,12.927041053771973,12.923934936523438,-25.109798431396484,-25.334197998046875],\"yaxis\":\"y\",\"type\":\"scatter\"},{\"customdata\":[[\"Fil\\u00e9 Peixe Empanado Vegabom\"],[\"Tirinhas de Peixe Empanado Vegabom\"],[\"Bolinho de Bacalhau New Butchers\"],[\"Bolinho de Siri Amazonika Mundi\"],[\"Camar\\u00e3o de Soja Vegano Goshen\"]],\"hovertemplate\":\"Classification=FISH 2<br>x=%{x}<br>y=%{y}<br>Product's Name=%{customdata[0]}<extra></extra>\",\"legendgroup\":\"FISH 2\",\"marker\":{\"color\":\"#B6E880\",\"symbol\":\"circle\"},\"mode\":\"markers\",\"name\":\"FISH 2\",\"orientation\":\"v\",\"showlegend\":true,\"x\":[31.559993743896484,30.87831687927246,-47.06349182128906,3.039281129837036,51.16450500488281],\"xaxis\":\"x\",\"y\":[32.84016418457031,33.4052734375,-33.8092155456543,-15.70258903503418,-41.04140853881836],\"yaxis\":\"y\",\"type\":\"scatter\"},{\"customdata\":[[\"Queijo Mu\\u00e7arela Vegabom\"],[\"Queijo Picante Vegabom\"],[\"Queijo Cheddar Vegabom\"],[\"Requeisoy Provolone \"],[\"Requeisoy Cheddar' \"],[\"Requeisoy Tradicional\"],[\"Requeisoy Gorgonzola\"],[\"Okeijo R\\u00fastico\"],[\"Okeijo Cremoso\"],[\"Okeijo Gratinado\"],[\"Okeijo Mussarela\"],[\"Okeijo Provolone\"],[\"Creme s Vida Veg\"],[\"Creme s fineherbs e Pesto\"],[\"Queijo mu\\u00e7arela\"],[\"Queijo minas frescal\"],[\"Queijo minas padr\\u00e3o\"],[\"Requeij\\u00e3o Tradicional\"],[\"Requeij\\u00e3o fineherbs\"],[\"Requeij\\u00e3o Defumado\"],[\"Queijo Zimurisku \"],[\"Queijo Zimurisku Temperado\"],[\"Queijo Mozarela NoMoo\"],[\"Queijo Provolone\"],[\"Queijo Ch\\u00e9vre\"],[\"Queijo Prato\"],[\"Queijo Parmes\\u00e3o\"],[\"Requeij\\u00e3o Nomoo\"],[\"Queijo Gorgolino\"],[\"Queijo Melhor Que Cheddar\"],[\"Queijo Recaishow\"],[\"Queijo Brie\"],[\"Mussarela Vegana Goshen\"],[\"Queijo ProVolone Veganita\"],[\"Queijo Munster Veganita\"],[\"Queijo Brie Veganita\"],[\"Queijo Mussarela Veganita\"],[\"Queijo Cheddar Veganita\"],[\"CREAM CHEESE CULIN\\u00c1RIO BASI.CO\"],[\"REQUEIJ\\u00c3O VEGETAL\"],[\"QUEIJO PARMES\\u00c3O\"],[\"QUEIJO MINAS VEGETAL\"],[\"QUEIJO PRATO\"],[\"QUEIJO MU\\u00c7ARELA\"],[\"QUEIJO CHEDDAR\"]],\"hovertemplate\":\"Classification=DAIRY 3<br>x=%{x}<br>y=%{y}<br>Product's Name=%{customdata[0]}<extra></extra>\",\"legendgroup\":\"DAIRY 3\",\"marker\":{\"color\":\"#FF97FF\",\"symbol\":\"circle\"},\"mode\":\"markers\",\"name\":\"DAIRY 3\",\"orientation\":\"v\",\"showlegend\":true,\"x\":[-12.626812934875488,-13.563127517700195,-13.24399471282959,-21.159494400024414,-21.914487838745117,-23.052928924560547,-22.150264739990234,-4.220883369445801,-3.8640098571777344,33.31916809082031,28.13998031616211,28.198760986328125,-34.33601379394531,-34.70939254760742,-31.57447624206543,-33.39467239379883,-31.826566696166992,-39.790584564208984,-39.84292984008789,-41.051368713378906,-19.939298629760742,-20.067913055419922,51.64558792114258,51.70630645751953,56.09858322143555,51.05379867553711,55.80512237548828,-11.961135864257812,-13.215340614318848,-18.136688232421875,-13.218706130981445,-21.429689407348633,-11.30369758605957,56.693031311035156,55.29439926147461,56.207984924316406,55.68893814086914,56.97977828979492,-21.522573471069336,-22.65647315979004,-29.240514755249023,-21.92864227294922,-25.90866470336914,-26.015670776367188,-26.101207733154297],\"xaxis\":\"x\",\"y\":[27.888235092163086,27.139089584350586,26.861711502075195,33.702606201171875,31.741838455200195,32.69397735595703,32.61248779296875,10.427434921264648,10.85216236114502,14.98557186126709,16.06568717956543,16.361902236938477,-4.232054710388184,-4.705090522766113,-0.6180603504180908,-3.0819551944732666,-0.950275719165802,-8.082987785339355,-7.694612979888916,-8.108377456665039,10.376501083374023,10.791016578674316,20.30950355529785,20.845117568969727,23.93246841430664,19.202495574951172,24.495874404907227,40.42758560180664,40.7324333190918,11.98955249786377,40.227874755859375,12.323801040649414,187.71295166015625,20.96125602722168,21.393545150756836,21.75563621520996,20.522802352905273,19.17647933959961,9.110108375549316,7.645877838134766,-51.872703552246094,6.109162330627441,-42.494285583496094,-43.35184097290039,-43.95718765258789],\"yaxis\":\"y\",\"type\":\"scatter\"},{\"customdata\":[[\"Fil\\u00e9 de saltm\\u00e3o New Butchers\"],[\"Bacalhau New  Butchers\"],[\"Isca de Peixe Vegway\"],[\"Fil\\u00e9 de Peixe Vegway\"],[\"Vieira de Soja Vegway\"],[\"Bacalhau Incr\\u00edvel Seara\"],[\"Iscas de Peixe Incr\\u00edvel Seara\"],[\"Atum do Futuro\"]],\"hovertemplate\":\"Classification=FISH 1<br>x=%{x}<br>y=%{y}<br>Product's Name=%{customdata[0]}<extra></extra>\",\"legendgroup\":\"FISH 1\",\"marker\":{\"color\":\"#FECB52\",\"symbol\":\"circle\"},\"mode\":\"markers\",\"name\":\"FISH 1\",\"orientation\":\"v\",\"showlegend\":true,\"x\":[-48.04969024658203,-46.59198760986328,14.371344566345215,13.75157356262207,14.344301223754883,-20.254592895507812,-14.139782905578613,118.22201538085938],\"xaxis\":\"x\",\"y\":[-35.59497833251953,-34.15071105957031,-67.965087890625,-67.32240295410156,-64.13964080810547,69.04607391357422,58.00453186035156,-149.06849670410156],\"yaxis\":\"y\",\"type\":\"scatter\"},{\"customdata\":[[\"Presunto de Soja Vegway\"],[\"Bacon Vegano\"],[\"Mortadela de Soja Vegana Goshen\"],[\"Presunto de Soja Defumado\"],[\"Presunto de Soja Vegano Fatiado Goshen\"],[\"Bacon Crispy Verdali\"]],\"hovertemplate\":\"Classification=PORK 2<br>x=%{x}<br>y=%{y}<br>Product's Name=%{customdata[0]}<extra></extra>\",\"legendgroup\":\"PORK 2\",\"marker\":{\"color\":\"#636efa\",\"symbol\":\"circle\"},\"mode\":\"markers\",\"name\":\"PORK 2\",\"orientation\":\"v\",\"showlegend\":true,\"x\":[12.030223846435547,-17.990657806396484,53.55073928833008,43.82480239868164,53.00566101074219,5.368456840515137],\"xaxis\":\"x\",\"y\":[-67.435302734375,-188.68666076660156,-41.77976989746094,-34.50806427001953,-42.648616790771484,-13.791232109069824],\"yaxis\":\"y\",\"type\":\"scatter\"},{\"customdata\":[[\"Not Milk \"],[\"Not Milk Semidesnatado\"],[\" Vegetal de almonds\"],[\" vegetal \"],[\" Vegetal de almonds Fresco\"],[\" Vegetal  de Caj\\u00fa Fresco\"],[\" Vegetal  Fresco\"],[\" Vegetal Noats Original\"],[\" Vegetal Noats Barista\"],[\" Jasmine rice em P\\u00f3\"],[\" BIOV jasmine rice com amendoas\"],[\" BIOV jasmine rice com coco\"],[\" BioV oats Jasmine\"],[\" Jasmine rice \"],[\" Jasmine rice com oats\"],[\"Bebida de rice Nesfit\"],[\"Bebida Natural Nesfit\"],[\"Bebida de rice  e Amendoas Nesfit\"],[\"Bebida de rice e Coco Nesfit\"],[\"Bebida de oats Nesfit\"],[\"Bebida de oats e cocoa\"],[\"Molico Vegetal Nestl\\u00e9\"],[\"Ninho Vegetal Nestl\\u00e9\"],[\"Ninho Banana e apple Nestl\\u00e9\"],[\"Nude Edi\\u00e7\\u00e3o Barista\"],[\"Nude Original \"],[\"Nude Sabor Baunilha\"],[\"Nude de cocoa\"],[\"Nude + calcium\"],[\"Nude Barista\"],[\"Almond Breeze Original\"],[\"Almond Breeze Chocolate\"],[\"Almond Breeze Baunilha\"],[\"Almond Breeze Sem sugar\"],[\"Almond Breeze Amendoas com Coco\"],[\"Almond Breeze Chocolate Sem sugar\"],[\" de Amendoas Silk Sem sugar\"],[\" de Amendoas Silk \"],[\" cashews Silk\"],[\" de almonds e cocoa Silk\"],[\" de almonds Silk Coco\"],[\"Bebida de rice L\\u00edquida Sabor Original\"],[\"Bebida de rice L\\u00edquida Sabor almonds\"],[\"Bebida de rice L\\u00edquida Sabor peanuts\\n\"],[\"Bebida de rice L\\u00edquida Sabor cashews\"],[\"Bebida de rice L\\u00edquida Sabor Chocolate\"],[\"Bebida de rice L\\u00edquida Sabor Coco\"],[\"Bebida de rice L\\u00edquida Sabor Baunilha\"],[\"Bebida de rice Em P\\u00f3 Sabor Original\"],[\"Bebida de rice Em P\\u00f3 Sabor Original\"],[\"Bebida de rice Em P\\u00f3 Sabor Banana e apple\"],[\"Bebida de rice Em P\\u00f3 Sabor Chocolate\"],[\"Bebida de rice Em P\\u00f3 Sabor strawberries\"],[\" a tal da castanha barista\"],[\" a tal da castanha original\"],[\" a tal da castanha caju + Coco\"],[\" a tal da castanha almonds\"],[\" a tal da castanha castanha + cocoa\"],[\" a tal da castanha oats\"],[\" a tal da castanha mixed nuts\"],[\" a tal da castanha caju + Par\\u00e1\"],[\" a tal da castanha caju + peanuts\"],[\" Natuterra oats + Coco\"],[\" de almonds Natuterra\"],[\" Natuterra oats \"],[\" Vegetal 3 Nuts \\u2013 macadamianuts, almonds e cashews\"],[\" Vegetal de macadamianuts e Coco\"],[\" Vegetal de macadamianuts e cashews\"],[\" Vegetal Possible Foods\"],[\" Vegetal Possible Foods Chocolate\"],[\"Bebida de castanh de caj\\u00fa sem adi\\u00e7\\u00e3o de sugar nature's heart\"],[\"Bebida de almonds s/ adi\\u00e7\\u00e3o de sugares 1L \\u2013 Nature\\u2019s Heart\"],[\"Bebida de rice s/ adi\\u00e7\\u00e3o de sugares 1L \\u2013 Nature\\u2019s Heart\"],[\"Bebida de oats s/ adi\\u00e7\\u00e3o de sugares 1L \\u2013 Nature\\u2019s Heart\"],[\"Bebida de cocoa & rice 1L \\u2013 Nature\\u2019s Heart\"],[\"Bebida  & rice s/ adi\\u00e7\\u00e3o de sugares 1L \\u2013 Nature\\u2019s Heart\"],[\" Vegetal de soy Naturis Batavo\"],[\" DUOLAT peanuts E CASTANHA 1L - CAJUEIRO\"],[\" 85 CASTANHAS 1L - CAJUEIRO\"],[\" TOASTED 1L - CAJUEIRO\"]],\"hovertemplate\":\"Classification=DAIRY 1<br>x=%{x}<br>y=%{y}<br>Product's Name=%{customdata[0]}<extra></extra>\",\"legendgroup\":\"DAIRY 1\",\"marker\":{\"color\":\"#EF553B\",\"symbol\":\"circle\"},\"mode\":\"markers\",\"name\":\"DAIRY 1\",\"orientation\":\"v\",\"showlegend\":true,\"x\":[-23.828527450561523,-23.803531646728516,-60.29467010498047,-60.840755462646484,-57.921226501464844,-56.6499137878418,-57.6378288269043,-16.64396858215332,-15.60860824584961,-12.825613021850586,-49.79837417602539,-13.452495574951172,-19.611326217651367,-13.157638549804688,-13.997395515441895,-1.8594022989273071,-56.16694641113281,-8.377667427062988,-8.115097045898438,-1.6864174604415894,-1.3540050983428955,-0.7432768940925598,-1.6153932809829712,-1.2503784894943237,-15.768782615661621,-18.716522216796875,-17.70351791381836,-17.8426456451416,-16.39027214050293,-15.995976448059082,-65.13573455810547,-66.94129943847656,-65.99795532226562,-66.17843627929688,-67.70452117919922,-67.11255645751953,6.158260822296143,5.924349308013916,8.870668411254883,7.511500358581543,8.929200172424316,-35.36314010620117,-40.1567268371582,-40.04096603393555,-39.46780014038086,-35.04838180541992,-35.09229278564453,-39.19482421875,-4.979922294616699,-4.833978176116943,-11.158903121948242,-10.762816429138184,-10.397759437561035,-18.89360809326172,5.110780715942383,-12.439830780029297,4.1508660316467285,-8.121847152709961,-14.751482009887695,-18.544593811035156,-11.320261001586914,-9.70134162902832,14.795707702636719,15.524938583374023,15.867849349975586,5.105570316314697,-11.144946098327637,-12.246769905090332,-27.49022102355957,-27.55813980102539,-30.923343658447266,-30.96465301513672,-34.61978530883789,-34.318607330322266,-37.17728805541992,-36.746280670166016,30.321075439453125,-9.66512393951416,4.798418045043945,4.975006103515625],\"xaxis\":\"x\",\"y\":[-5.3966803550720215,-5.640023708343506,17.939271926879883,18.241113662719727,17.057415008544922,16.299575805664062,16.64460563659668,0.09644176065921783,3.96923565864563,-31.085493087768555,-115.81916046142578,-32.5057487487793,0.517274022102356,-31.83585548400879,-33.68265914916992,20.63500213623047,43.636375427246094,3.619577169418335,3.502307176589966,20.08837127685547,18.9022274017334,-38.38064956665039,-38.4544563293457,-37.68828201293945,-4.984633445739746,2.2927355766296387,2.4113264083862305,1.4715750217437744,2.378054618835449,-5.0952887535095215,-18.425439834594727,-19.90671730041504,-18.560314178466797,-17.3905086517334,-20.22348403930664,-21.056781768798828,27.01595687866211,27.167667388916016,30.06053924560547,29.432870864868164,29.725082397460938,11.738280296325684,9.66445255279541,8.010690689086914,7.2248616218566895,13.331795692443848,11.714072227478027,8.16067886352539,-18.507875442504883,-18.245641708374023,-24.56878089904785,-24.81126594543457,-23.725852966308594,4.505634784698486,-17.01259422302246,11.224730491638184,-17.327695846557617,22.827848434448242,2.191558361053467,9.42465591430664,11.557453155517578,11.15294075012207,15.497438430786133,15.586036682128906,14.940935134887695,19.394208908081055,10.209405899047852,10.02895450592041,5.3748250007629395,5.670382499694824,-22.13673210144043,-22.462112426757812,-20.06125259399414,-19.596811294555664,-19.411968231201172,-19.4887638092041,150.17555236816406,10.890970230102539,-18.557209014892578,-18.56591033935547],\"yaxis\":\"y\",\"type\":\"scatter\"},{\"customdata\":[[\"Iogurte \"],[\"Iogurte  com strawberries\"],[\"Iogurte  com banana, apple e papaya\"],[\"Iogurte  Zero sugar\"],[\"Iogurte  com strawberries Zero sugar\"],[\"Iogurte GregoVeg \"],[\"Iogurte GregoVeg  com strawberries\"],[\"Iogurte Proteico 14g sabor strawberries\"],[\"Shake \"],[\"Iogurte Proteico 14g sabor  peanuts\"],[\"Creme de almonds\"]],\"hovertemplate\":\"Classification=DAIRY 2<br>x=%{x}<br>y=%{y}<br>Product's Name=%{customdata[0]}<extra></extra>\",\"legendgroup\":\"DAIRY 2\",\"marker\":{\"color\":\"#00cc96\",\"symbol\":\"circle\"},\"mode\":\"markers\",\"name\":\"DAIRY 2\",\"orientation\":\"v\",\"showlegend\":true,\"x\":[-37.88421630859375,-40.18584060668945,-40.43976593017578,-37.592620849609375,-39.676307678222656,-33.17351531982422,-33.708824157714844,15.600950241088867,-61.23893737792969,15.723394393920898,2.174389362335205],\"xaxis\":\"x\",\"y\":[30.448223114013672,32.161231994628906,30.33655548095703,30.902938842773438,31.934614181518555,28.4779109954834,28.330121994018555,27.0916690826416,17.089603424072266,27.374597549438477,-18.207590103149414],\"yaxis\":\"y\",\"type\":\"scatter\"},{\"customdata\":[[\"MAIONESE VEGETAL SUPERBOM\"],[\"MAIONESE FUGINI\"],[\"NOT MAYO\"],[\"NOT MAYO garlic\"],[\"NOT MAYO AZEITONA\"],[\"NOT MAYO PICANTE\"],[\"MAIONESE V-MAYO\"],[\"MAIONESE V-MAYO ApepperDA\"],[\"MAIONESE V-MAYO TRUFADA\"],[\"MAIONESE V-MAYO DE ABACATE\"],[\"MAIONESE V-MAYO DE garlic\"],[\"MAIONESE HELLMANS\"],[\"MAIONESE VEGANA FUGINI\"],[\"MAIONESE DEL\\u00cdCIAS DE GOI\\u00c1S\"]],\"hovertemplate\":\"Classification=EGG 1<br>x=%{x}<br>y=%{y}<br>Product's Name=%{customdata[0]}<extra></extra>\",\"legendgroup\":\"EGG 1\",\"marker\":{\"color\":\"#ab63fa\",\"symbol\":\"circle\"},\"mode\":\"markers\",\"name\":\"EGG 1\",\"orientation\":\"v\",\"showlegend\":true,\"x\":[-30.780282974243164,-31.18088722229004,-19.236875534057617,-18.112628936767578,-19.355226516723633,-20.061248779296875,37.33340835571289,37.92151641845703,37.5000114440918,36.52870178222656,36.465354919433594,-29.590347290039062,-30.37540626525879,-5.100986003875732],\"xaxis\":\"x\",\"y\":[27.217973709106445,29.063987731933594,-15.72510051727295,-16.10848045349121,-15.274776458740234,-16.74054718017578,54.73835372924805,55.51274108886719,53.599853515625,55.67104721069336,54.52925491333008,25.862154006958008,30.028234481811523,9.120016098022461],\"yaxis\":\"y\",\"type\":\"scatter\"},{\"customdata\":[[\"Ovos Novos\"],[\"VEGAN PRO EGGS NUTRIFY\"]],\"hovertemplate\":\"Classification=EGG 2<br>x=%{x}<br>y=%{y}<br>Product's Name=%{customdata[0]}<extra></extra>\",\"legendgroup\":\"EGG 2\",\"marker\":{\"color\":\"#FFA15A\",\"symbol\":\"circle\"},\"mode\":\"markers\",\"name\":\"EGG 2\",\"orientation\":\"v\",\"showlegend\":true,\"x\":[6.745738983154297,3.7712607383728027],\"xaxis\":\"x\",\"y\":[-18.008886337280273,-20.248424530029297],\"yaxis\":\"y\",\"type\":\"scatter\"}],                        {\"template\":{\"data\":{\"bar\":[{\"error_x\":{\"color\":\"#2a3f5f\"},\"error_y\":{\"color\":\"#2a3f5f\"},\"marker\":{\"line\":{\"color\":\"#E5ECF6\",\"width\":0.5},\"pattern\":{\"fillmode\":\"overlay\",\"size\":10,\"solidity\":0.2}},\"type\":\"bar\"}],\"barpolar\":[{\"marker\":{\"line\":{\"color\":\"#E5ECF6\",\"width\":0.5},\"pattern\":{\"fillmode\":\"overlay\",\"size\":10,\"solidity\":0.2}},\"type\":\"barpolar\"}],\"carpet\":[{\"aaxis\":{\"endlinecolor\":\"#2a3f5f\",\"gridcolor\":\"white\",\"linecolor\":\"white\",\"minorgridcolor\":\"white\",\"startlinecolor\":\"#2a3f5f\"},\"baxis\":{\"endlinecolor\":\"#2a3f5f\",\"gridcolor\":\"white\",\"linecolor\":\"white\",\"minorgridcolor\":\"white\",\"startlinecolor\":\"#2a3f5f\"},\"type\":\"carpet\"}],\"choropleth\":[{\"colorbar\":{\"outlinewidth\":0,\"ticks\":\"\"},\"type\":\"choropleth\"}],\"contour\":[{\"colorbar\":{\"outlinewidth\":0,\"ticks\":\"\"},\"colorscale\":[[0.0,\"#0d0887\"],[0.1111111111111111,\"#46039f\"],[0.2222222222222222,\"#7201a8\"],[0.3333333333333333,\"#9c179e\"],[0.4444444444444444,\"#bd3786\"],[0.5555555555555556,\"#d8576b\"],[0.6666666666666666,\"#ed7953\"],[0.7777777777777778,\"#fb9f3a\"],[0.8888888888888888,\"#fdca26\"],[1.0,\"#f0f921\"]],\"type\":\"contour\"}],\"contourcarpet\":[{\"colorbar\":{\"outlinewidth\":0,\"ticks\":\"\"},\"type\":\"contourcarpet\"}],\"heatmap\":[{\"colorbar\":{\"outlinewidth\":0,\"ticks\":\"\"},\"colorscale\":[[0.0,\"#0d0887\"],[0.1111111111111111,\"#46039f\"],[0.2222222222222222,\"#7201a8\"],[0.3333333333333333,\"#9c179e\"],[0.4444444444444444,\"#bd3786\"],[0.5555555555555556,\"#d8576b\"],[0.6666666666666666,\"#ed7953\"],[0.7777777777777778,\"#fb9f3a\"],[0.8888888888888888,\"#fdca26\"],[1.0,\"#f0f921\"]],\"type\":\"heatmap\"}],\"heatmapgl\":[{\"colorbar\":{\"outlinewidth\":0,\"ticks\":\"\"},\"colorscale\":[[0.0,\"#0d0887\"],[0.1111111111111111,\"#46039f\"],[0.2222222222222222,\"#7201a8\"],[0.3333333333333333,\"#9c179e\"],[0.4444444444444444,\"#bd3786\"],[0.5555555555555556,\"#d8576b\"],[0.6666666666666666,\"#ed7953\"],[0.7777777777777778,\"#fb9f3a\"],[0.8888888888888888,\"#fdca26\"],[1.0,\"#f0f921\"]],\"type\":\"heatmapgl\"}],\"histogram\":[{\"marker\":{\"pattern\":{\"fillmode\":\"overlay\",\"size\":10,\"solidity\":0.2}},\"type\":\"histogram\"}],\"histogram2d\":[{\"colorbar\":{\"outlinewidth\":0,\"ticks\":\"\"},\"colorscale\":[[0.0,\"#0d0887\"],[0.1111111111111111,\"#46039f\"],[0.2222222222222222,\"#7201a8\"],[0.3333333333333333,\"#9c179e\"],[0.4444444444444444,\"#bd3786\"],[0.5555555555555556,\"#d8576b\"],[0.6666666666666666,\"#ed7953\"],[0.7777777777777778,\"#fb9f3a\"],[0.8888888888888888,\"#fdca26\"],[1.0,\"#f0f921\"]],\"type\":\"histogram2d\"}],\"histogram2dcontour\":[{\"colorbar\":{\"outlinewidth\":0,\"ticks\":\"\"},\"colorscale\":[[0.0,\"#0d0887\"],[0.1111111111111111,\"#46039f\"],[0.2222222222222222,\"#7201a8\"],[0.3333333333333333,\"#9c179e\"],[0.4444444444444444,\"#bd3786\"],[0.5555555555555556,\"#d8576b\"],[0.6666666666666666,\"#ed7953\"],[0.7777777777777778,\"#fb9f3a\"],[0.8888888888888888,\"#fdca26\"],[1.0,\"#f0f921\"]],\"type\":\"histogram2dcontour\"}],\"mesh3d\":[{\"colorbar\":{\"outlinewidth\":0,\"ticks\":\"\"},\"type\":\"mesh3d\"}],\"parcoords\":[{\"line\":{\"colorbar\":{\"outlinewidth\":0,\"ticks\":\"\"}},\"type\":\"parcoords\"}],\"pie\":[{\"automargin\":true,\"type\":\"pie\"}],\"scatter\":[{\"marker\":{\"colorbar\":{\"outlinewidth\":0,\"ticks\":\"\"}},\"type\":\"scatter\"}],\"scatter3d\":[{\"line\":{\"colorbar\":{\"outlinewidth\":0,\"ticks\":\"\"}},\"marker\":{\"colorbar\":{\"outlinewidth\":0,\"ticks\":\"\"}},\"type\":\"scatter3d\"}],\"scattercarpet\":[{\"marker\":{\"colorbar\":{\"outlinewidth\":0,\"ticks\":\"\"}},\"type\":\"scattercarpet\"}],\"scattergeo\":[{\"marker\":{\"colorbar\":{\"outlinewidth\":0,\"ticks\":\"\"}},\"type\":\"scattergeo\"}],\"scattergl\":[{\"marker\":{\"colorbar\":{\"outlinewidth\":0,\"ticks\":\"\"}},\"type\":\"scattergl\"}],\"scattermapbox\":[{\"marker\":{\"colorbar\":{\"outlinewidth\":0,\"ticks\":\"\"}},\"type\":\"scattermapbox\"}],\"scatterpolar\":[{\"marker\":{\"colorbar\":{\"outlinewidth\":0,\"ticks\":\"\"}},\"type\":\"scatterpolar\"}],\"scatterpolargl\":[{\"marker\":{\"colorbar\":{\"outlinewidth\":0,\"ticks\":\"\"}},\"type\":\"scatterpolargl\"}],\"scatterternary\":[{\"marker\":{\"colorbar\":{\"outlinewidth\":0,\"ticks\":\"\"}},\"type\":\"scatterternary\"}],\"surface\":[{\"colorbar\":{\"outlinewidth\":0,\"ticks\":\"\"},\"colorscale\":[[0.0,\"#0d0887\"],[0.1111111111111111,\"#46039f\"],[0.2222222222222222,\"#7201a8\"],[0.3333333333333333,\"#9c179e\"],[0.4444444444444444,\"#bd3786\"],[0.5555555555555556,\"#d8576b\"],[0.6666666666666666,\"#ed7953\"],[0.7777777777777778,\"#fb9f3a\"],[0.8888888888888888,\"#fdca26\"],[1.0,\"#f0f921\"]],\"type\":\"surface\"}],\"table\":[{\"cells\":{\"fill\":{\"color\":\"#EBF0F8\"},\"line\":{\"color\":\"white\"}},\"header\":{\"fill\":{\"color\":\"#C8D4E3\"},\"line\":{\"color\":\"white\"}},\"type\":\"table\"}]},\"layout\":{\"annotationdefaults\":{\"arrowcolor\":\"#2a3f5f\",\"arrowhead\":0,\"arrowwidth\":1},\"autotypenumbers\":\"strict\",\"coloraxis\":{\"colorbar\":{\"outlinewidth\":0,\"ticks\":\"\"}},\"colorscale\":{\"diverging\":[[0,\"#8e0152\"],[0.1,\"#c51b7d\"],[0.2,\"#de77ae\"],[0.3,\"#f1b6da\"],[0.4,\"#fde0ef\"],[0.5,\"#f7f7f7\"],[0.6,\"#e6f5d0\"],[0.7,\"#b8e186\"],[0.8,\"#7fbc41\"],[0.9,\"#4d9221\"],[1,\"#276419\"]],\"sequential\":[[0.0,\"#0d0887\"],[0.1111111111111111,\"#46039f\"],[0.2222222222222222,\"#7201a8\"],[0.3333333333333333,\"#9c179e\"],[0.4444444444444444,\"#bd3786\"],[0.5555555555555556,\"#d8576b\"],[0.6666666666666666,\"#ed7953\"],[0.7777777777777778,\"#fb9f3a\"],[0.8888888888888888,\"#fdca26\"],[1.0,\"#f0f921\"]],\"sequentialminus\":[[0.0,\"#0d0887\"],[0.1111111111111111,\"#46039f\"],[0.2222222222222222,\"#7201a8\"],[0.3333333333333333,\"#9c179e\"],[0.4444444444444444,\"#bd3786\"],[0.5555555555555556,\"#d8576b\"],[0.6666666666666666,\"#ed7953\"],[0.7777777777777778,\"#fb9f3a\"],[0.8888888888888888,\"#fdca26\"],[1.0,\"#f0f921\"]]},\"colorway\":[\"#636efa\",\"#EF553B\",\"#00cc96\",\"#ab63fa\",\"#FFA15A\",\"#19d3f3\",\"#FF6692\",\"#B6E880\",\"#FF97FF\",\"#FECB52\"],\"font\":{\"color\":\"#2a3f5f\"},\"geo\":{\"bgcolor\":\"white\",\"lakecolor\":\"white\",\"landcolor\":\"#E5ECF6\",\"showlakes\":true,\"showland\":true,\"subunitcolor\":\"white\"},\"hoverlabel\":{\"align\":\"left\"},\"hovermode\":\"closest\",\"mapbox\":{\"style\":\"light\"},\"paper_bgcolor\":\"white\",\"plot_bgcolor\":\"#E5ECF6\",\"polar\":{\"angularaxis\":{\"gridcolor\":\"white\",\"linecolor\":\"white\",\"ticks\":\"\"},\"bgcolor\":\"#E5ECF6\",\"radialaxis\":{\"gridcolor\":\"white\",\"linecolor\":\"white\",\"ticks\":\"\"}},\"scene\":{\"xaxis\":{\"backgroundcolor\":\"#E5ECF6\",\"gridcolor\":\"white\",\"gridwidth\":2,\"linecolor\":\"white\",\"showbackground\":true,\"ticks\":\"\",\"zerolinecolor\":\"white\"},\"yaxis\":{\"backgroundcolor\":\"#E5ECF6\",\"gridcolor\":\"white\",\"gridwidth\":2,\"linecolor\":\"white\",\"showbackground\":true,\"ticks\":\"\",\"zerolinecolor\":\"white\"},\"zaxis\":{\"backgroundcolor\":\"#E5ECF6\",\"gridcolor\":\"white\",\"gridwidth\":2,\"linecolor\":\"white\",\"showbackground\":true,\"ticks\":\"\",\"zerolinecolor\":\"white\"}},\"shapedefaults\":{\"line\":{\"color\":\"#2a3f5f\"}},\"ternary\":{\"aaxis\":{\"gridcolor\":\"white\",\"linecolor\":\"white\",\"ticks\":\"\"},\"baxis\":{\"gridcolor\":\"white\",\"linecolor\":\"white\",\"ticks\":\"\"},\"bgcolor\":\"#E5ECF6\",\"caxis\":{\"gridcolor\":\"white\",\"linecolor\":\"white\",\"ticks\":\"\"}},\"title\":{\"x\":0.05},\"xaxis\":{\"automargin\":true,\"gridcolor\":\"white\",\"linecolor\":\"white\",\"ticks\":\"\",\"title\":{\"standoff\":15},\"zerolinecolor\":\"white\",\"zerolinewidth\":2},\"yaxis\":{\"automargin\":true,\"gridcolor\":\"white\",\"linecolor\":\"white\",\"ticks\":\"\",\"title\":{\"standoff\":15},\"zerolinecolor\":\"white\",\"zerolinewidth\":2}}},\"xaxis\":{\"anchor\":\"y\",\"domain\":[0.0,1.0],\"title\":{\"text\":\"x\"}},\"yaxis\":{\"anchor\":\"x\",\"domain\":[0.0,1.0],\"title\":{\"text\":\"y\"}},\"legend\":{\"title\":{\"text\":\"Classification\"},\"tracegroupgap\":0},\"margin\":{\"t\":60},\"width\":800},                        {\"responsive\": true}                    ).then(function(){\n",
              "                            \n",
              "var gd = document.getElementById('0d142ce3-f434-4e5c-9423-b88ffbadd063');\n",
              "var x = new MutationObserver(function (mutations, observer) {{\n",
              "        var display = window.getComputedStyle(gd).display;\n",
              "        if (!display || display === 'none') {{\n",
              "            console.log([gd, 'removed!']);\n",
              "            Plotly.purge(gd);\n",
              "            observer.disconnect();\n",
              "        }}\n",
              "}});\n",
              "\n",
              "// Listen for the removal of the full notebook cells\n",
              "var notebookContainer = gd.closest('#notebook-container');\n",
              "if (notebookContainer) {{\n",
              "    x.observe(notebookContainer, {childList: true});\n",
              "}}\n",
              "\n",
              "// Listen for the clearing of the current output cell\n",
              "var outputEl = gd.closest('.output');\n",
              "if (outputEl) {{\n",
              "    x.observe(outputEl, {childList: true});\n",
              "}}\n",
              "\n",
              "                        })                };                            </script>        </div>\n",
              "</body>\n",
              "</html>"
            ]
          },
          "metadata": {}
        }
      ]
    },
    {
      "cell_type": "code",
      "source": [
        "data_nutrients = label_data.join(nutrients_normalized)\n",
        "tsne = TSNE(n_components=2,perplexity=5,learning_rate=350.0,metric='euclidean', init='random')\n",
        "X_tsneN = tsne.fit_transform(nutrients_normalized.values)\n",
        "\n",
        "X_tsneN[1:4, :]\n",
        "data_nutrients['x'] = X_tsneN[:,0]\n",
        "data_nutrients['y'] = X_tsneN[:,1]\n",
        "\n",
        "fig = px.scatter(data_nutrients, x='x', y='y', color='Classification', hover_data=[\"Description\"], width=800)\n",
        "fig.show()"
      ],
      "metadata": {
        "colab": {
          "base_uri": "https://localhost:8080/",
          "height": 542
        },
        "id": "RenDmk3EaLQn",
        "outputId": "27ce00d7-3a6d-43bd-b507-f2a1b8c1f17d"
      },
      "execution_count": null,
      "outputs": [
        {
          "output_type": "display_data",
          "data": {
            "text/html": [
              "<html>\n",
              "<head><meta charset=\"utf-8\" /></head>\n",
              "<body>\n",
              "    <div>            <script src=\"https://cdnjs.cloudflare.com/ajax/libs/mathjax/2.7.5/MathJax.js?config=TeX-AMS-MML_SVG\"></script><script type=\"text/javascript\">if (window.MathJax) {MathJax.Hub.Config({SVG: {font: \"STIX-Web\"}});}</script>                <script type=\"text/javascript\">window.PlotlyConfig = {MathJaxConfig: 'local'};</script>\n",
              "        <script src=\"https://cdn.plot.ly/plotly-2.8.3.min.js\"></script>                <div id=\"2646f04f-14ca-4e2d-b841-1ed89c9c8da5\" class=\"plotly-graph-div\" style=\"height:525px; width:800px;\"></div>            <script type=\"text/javascript\">                                    window.PLOTLYENV=window.PLOTLYENV || {};                                    if (document.getElementById(\"2646f04f-14ca-4e2d-b841-1ed89c9c8da5\")) {                    Plotly.newPlot(                        \"2646f04f-14ca-4e2d-b841-1ed89c9c8da5\",                        [{\"customdata\":[[\"Carne Mo\\u00edda do Futuro\"],[\"Almondegas de Soja Vegway\"],[\"Almondegas Amazonika Mundi\"],[\"Kibe Incr\\u00edvel Seara\"],[\"Almondegas Incr\\u00edveis Seara\"],[\"Almondegas Mr Veggy\"],[\"Carne Mo\\u00edda Superbom\"],[\"Carne Vegetal Mo\\u00edda Superbom\"],[\"Carne Mo\\u00edda Vegetal Verdali\"]],\"hovertemplate\":\"Classification=MEAT 2<br>x=%{x}<br>y=%{y}<br>Product's Name=%{customdata[0]}<extra></extra>\",\"legendgroup\":\"MEAT 2\",\"marker\":{\"color\":\"#636efa\",\"symbol\":\"circle\"},\"mode\":\"markers\",\"name\":\"MEAT 2\",\"orientation\":\"v\",\"showlegend\":true,\"x\":[-37.3865966796875,36.67789840698242,17.260540008544922,36.40604019165039,36.406044006347656,26.108678817749023,63.82495880126953,8.860816955566406,19.90435028076172],\"xaxis\":\"x\",\"y\":[49.856773376464844,-16.9469051361084,-21.847793579101562,-14.038690567016602,-14.038873672485352,0.4625624716281891,-24.18214225769043,-37.986480712890625,-23.676973342895508],\"yaxis\":\"y\",\"type\":\"scatter\"},{\"customdata\":[[\"Carne Mo\\u00edda do Futuro\"],[\"Fil\\u00e9s Sora Carne Vermelha\"],[\"Fatias Sora Carne Vermelha\"],[\"Fil\\u00e9 Pronto Saud\\u00e1vel Sora\"],[\"Carne Mo\\u00edda Pronto Saud\\u00e1vel Sora\"],[\"Churrasco Vegabom\"],[\"Churrasco Aoniondo Vegabom\"],[\"Carne de Pernil Seara\"],[\"Alm\\u00f4ndega de Soja Vegana Goshen\"],[\"Bife de Soja Vegano Goshen\"],[\"Alm\\u00f4ndega Vegana Superbom\"],[\"Bife Vegetal Superbom\"],[\"Escalope ao Molho Caseiro Superbom\"],[\"Cubinhos ao Molho Mexicano Superbom\"],[\"Alm\\u00f4ndegas ao Molho Sugo Superbom\"],[\"Medalh\\u00e3o ao Molho Madeira Superbom\"],[\"Mignon Verdali\"],[\"Steak Verdali\"]],\"hovertemplate\":\"Classification=MEAT 3<br>x=%{x}<br>y=%{y}<br>Product's Name=%{customdata[0]}<extra></extra>\",\"legendgroup\":\"MEAT 3\",\"marker\":{\"color\":\"#EF553B\",\"symbol\":\"circle\"},\"mode\":\"markers\",\"name\":\"MEAT 3\",\"orientation\":\"v\",\"showlegend\":true,\"x\":[-36.91935348510742,-5.031371593475342,-4.295019149780273,6.928310871124268,7.237110137939453,-2.33499813079834,-2.6861929893493652,16.621089935302734,-3.3079442977905273,25.25637435913086,63.84626388549805,-6.228297710418701,4.5986328125,4.665093421936035,1.787669062614441,2.372403383255005,31.361845016479492,30.903549194335938],\"xaxis\":\"x\",\"y\":[50.264793395996094,42.92485809326172,42.34099578857422,-38.36139678955078,-37.84127426147461,-34.15542221069336,-33.59084701538086,8.515464782714844,-17.18449592590332,-17.08487319946289,-24.99614906311035,-22.48756217956543,-26.489900588989258,-26.51430320739746,-39.51837921142578,-25.677303314208984,-23.356929779052734,-22.946025848388672],\"yaxis\":\"y\",\"type\":\"scatter\"},{\"customdata\":[[\"Frango do Futuro\"],[\"Fatias Sora Carne Branca\"],[\"Fil\\u00e9s Sora Carne Branca\"],[\"Strogonoff de Frango Vegabom\"],[\"Tiras de Frango New Butchers\"],[\"Fil\\u00e9 de Frango Desfiado Vegway\"],[\"Frango Veg e Tal Sadia\"],[\"Frango Veg e Tal Sadia Desfiado\"],[\"Peito de Peru de Soja\"],[\"Peito de Peru de Soja Vegano\"],[\"Tiras de Ave Verdali\"],[\"Fil\\u00e9 sem Frango Verdali\"],[\"Mini Fil\\u00e9 de Frango Verdali\"]],\"hovertemplate\":\"Classification=POULTRY 3<br>x=%{x}<br>y=%{y}<br>Product's Name=%{customdata[0]}<extra></extra>\",\"legendgroup\":\"POULTRY 3\",\"marker\":{\"color\":\"#00cc96\",\"symbol\":\"circle\"},\"mode\":\"markers\",\"name\":\"POULTRY 3\",\"orientation\":\"v\",\"showlegend\":true,\"x\":[-36.565467834472656,-5.976681232452393,-4.248054504394531,-1.7871050834655762,2.3113584518432617,34.05968475341797,34.90842819213867,34.90880584716797,0.5155621767044067,0.32165858149528503,36.199249267578125,31.280277252197266,31.003644943237305],\"xaxis\":\"x\",\"y\":[49.50223159790039,42.967926025390625,43.44253158569336,-33.766197204589844,-40.83308410644531,-10.908735275268555,-21.243255615234375,-21.242361068725586,-19.96023941040039,-20.21104621887207,-18.97509002685547,-21.976673126220703,-21.6980037689209],\"yaxis\":\"y\",\"type\":\"scatter\"},{\"customdata\":[[\"Lingui\\u00e7a do Futuro\"],[\"Lingui\\u00e7a calabresa vegabom\"],[\"saltsicha de chickpea Vegabom\"],[\"saltsicha de Soja Vegway\"],[\"saltsichas Incriveis Seara\"],[\"Lingui\\u00e7a Apimentada de Soja Goshen\"],[\"Lingui\\u00e7a Calabresa de Soja Goshen\"],[\"Lingui\\u00e7a de Soja Vegana Goshen\"],[\"Lingui\\u00e7a Toscana de Soja Goshen\"],[\"saltsicha de Soja Vegana Goshen\"],[\"saltsicha Vegetal Superbom\"],[\"saltsicha Vegetal Defumada Superbom\"]],\"hovertemplate\":\"Classification=PORK 1<br>x=%{x}<br>y=%{y}<br>Product's Name=%{customdata[0]}<extra></extra>\",\"legendgroup\":\"PORK 1\",\"marker\":{\"color\":\"#ab63fa\",\"symbol\":\"circle\"},\"mode\":\"markers\",\"name\":\"PORK 1\",\"orientation\":\"v\",\"showlegend\":true,\"x\":[19.837108612060547,-2.915239095687866,-2.7408981323242188,22.44502830505371,0.5586866736412048,1.76645827293396,1.0949058532714844,0.31144601106643677,-3.91978120803833,0.06723999977111816,1.5021941661834717,2.06689715385437],\"xaxis\":\"x\",\"y\":[-15.381508827209473,-16.01862144470215,-16.31392478942871,-27.975502014160156,-36.46978759765625,-21.726896286010742,-20.542659759521484,-25.84511947631836,-12.872223854064941,-25.854488372802734,-22.658613204956055,-40.20553970336914],\"yaxis\":\"y\",\"type\":\"scatter\"},{\"customdata\":[[\"Hamburguer de Soja Goshen\"],[\"Hamburguer de Soja Vegano Goshen\"],[\"Hamburguer de Quinoa Mr Veggy\"],[\"Hamburguer de lentil Mr Veggy\"],[\"Hamburguer vegano falafel amazonika mundi\"],[\"Hamburguer Vegetal Verdali\"],[\"VegBurger Sabor Carne\"],[\"Burger Gourmet Superbom\"],[\"Hamburguer Incr\\u00edvel Seara\"],[\"Not Burguer Notco\"],[\"Hamburguer de Fibra de Caju Amazonika Mundi\"],[\"Hamburguer Vegabom\"],[\"Hamburguer de Carne Veg  e Tal Sadia\"],[\"Hamburger New Butchers\"],[\"Hamburguer de Legumes Mr Veggy\"],[\"Hamburguer Vegetariano Mr Veggy\"],[\"Hambuguer Mr Veggy Mari Mari\"],[\"Hambuguer Mr Veggy Mari Mari Churrrasco\"],[\"Hamb\\u00farguer Fazenda Futuro 2.0\"],[\"Hamb\\u00farguer Vegano de Quinoa Amazonika Mundi\"],[\"Hamburguer Veggie Roots Tempero Indiano\"],[\"Hamb\\u00farguer Sora Carne Vermelha \"],[\"Hamburguer Veggie Roots brazilianspices\"],[\"Hamburguer veggie roots tempero mexicano\"],[\"Hamburguer de Soja Sabor Carne Vegway\"],[\"Hamb\\u00farguer de Soja Empanado Vegway\"],[\"Hamburguer Vegetal Superbom\"],[\"Hamburguer de chickpea Mr Veggy\"],[\"Hamburguer Veggie Roots Tempero \\u00c1rabe\"],[\"Hamburguer Veggie Roots Tempero Tailand\\u00eas\"],[\"Hamburguer Vegabom\"],[\"Hamb\\u00farguer Pronto Saud\\u00e1vel Sora\"],[\"hamburguer vegetal com herbs jasmine\"],[\"Hamburguer Vegetal Tradicional Jasmine\"]],\"hovertemplate\":\"Classification=MEAT 1<br>x=%{x}<br>y=%{y}<br>Product's Name=%{customdata[0]}<extra></extra>\",\"legendgroup\":\"MEAT 1\",\"marker\":{\"color\":\"#FFA15A\",\"symbol\":\"circle\"},\"mode\":\"markers\",\"name\":\"MEAT 1\",\"orientation\":\"v\",\"showlegend\":true,\"x\":[-1.5442774295806885,5.614278793334961,23.242212295532227,23.07689666748047,21.13423728942871,26.77065658569336,-37.936092376708984,63.22705078125,19.9824275970459,25.034208297729492,16.900602340698242,-23.659029006958008,-24.302387237548828,-38.77417755126953,20.576812744140625,22.803104400634766,21.24675941467285,21.246551513671875,20.79297637939453,21.180604934692383,23.835176467895508,-5.285098075866699,23.968246459960938,23.891353607177734,36.524932861328125,22.47156524658203,0.9136853814125061,25.4942684173584,23.36054229736328,22.871524810791016,-23.63780975341797,7.393377780914307,13.935449600219727,13.924219131469727],\"xaxis\":\"x\",\"y\":[-26.20891761779785,-37.56170654296875,-7.094440460205078,-12.471763610839844,0.7424198985099792,-18.26001739501953,48.86347961425781,-25.336267471313477,-24.126150131225586,14.455160140991211,-22.24891471862793,-17.54999542236328,-54.161041259765625,50.01084518432617,7.4440765380859375,-14.494902610778809,-15.276251792907715,-15.276765823364258,-24.969270706176758,1.1623929738998413,-7.234287738800049,43.82794189453125,-8.119353294372559,-5.707674503326416,-17.414594650268555,-28.040822982788086,-36.85521697998047,1.969996690750122,-2.3071281909942627,-1.2280917167663574,-16.30727767944336,-38.436729431152344,-0.17748400568962097,-0.17715701460838318],\"yaxis\":\"y\",\"type\":\"scatter\"},{\"customdata\":[[\"Hamb\\u00farguer Sora Carne Branca\"],[\"VegBurger Sabor Frango\"],[\"Hambuguer Incr\\u00edvel Seara Frango\"],[\"Frango Vegano em Peda\\u00e7os \\u00e0 Base de pea\"],[\"Hamb\\u00farguer de Frango Verdali\"]],\"hovertemplate\":\"Classification=POULTRY 2<br>x=%{x}<br>y=%{y}<br>Product's Name=%{customdata[0]}<extra></extra>\",\"legendgroup\":\"POULTRY 2\",\"marker\":{\"color\":\"#19d3f3\",\"symbol\":\"circle\"},\"mode\":\"markers\",\"name\":\"POULTRY 2\",\"orientation\":\"v\",\"showlegend\":true,\"x\":[-5.364448547363281,-37.25108337402344,19.556116104125977,62.74142074584961,26.55071449279785],\"xaxis\":\"x\",\"y\":[42.050968170166016,48.542903900146484,-22.92044448852539,-25.897268295288086,-18.11936378479004],\"yaxis\":\"y\",\"type\":\"scatter\"},{\"customdata\":[[\"Empanado de Frango Vegabom\"],[\"Fil\\u00e9 de Frango Empanado Vegabom\"],[\"Empanados de Frango Vegway\"],[\"Empanados Incr\\u00edveis Seara\"],[\"Empanados Sadia Veg e Tal\"],[\"Empanadinho de Soja  Goshen\"],[\"Empanadinho de Soja Vegano  Goshen\"],[\"Steak de Soja Vegano Goshen\"],[\"Empanado Vegano (Mini Crispy) 100 Foods\"],[\"Crispy Chicken 100 Foods\"],[\"Mini Empanado de Legumes Superbom\"],[\"Steak Vegan Sabor Legumes Superbom\"],[\"Steak Veg\\u00ea Sabor Frango\"],[\"Steak Veg\\u00ea Sabor Frango Empanado\"]],\"hovertemplate\":\"Classification=POULTRY 1<br>x=%{x}<br>y=%{y}<br>Product's Name=%{customdata[0]}<extra></extra>\",\"legendgroup\":\"POULTRY 1\",\"marker\":{\"color\":\"#FF6692\",\"symbol\":\"circle\"},\"mode\":\"markers\",\"name\":\"POULTRY 1\",\"orientation\":\"v\",\"showlegend\":true,\"x\":[-23.60257339477539,-24.018875122070312,36.91400909423828,23.92061996459961,21.369144439697266,-2.603743314743042,-22.771711349487305,-6.082681179046631,21.538558959960938,25.336437225341797,62.68831253051758,62.206478118896484,21.45248031616211,21.449552536010742],\"xaxis\":\"x\",\"y\":[-18.281993865966797,-18.323984146118164,-14.939443588256836,10.601496696472168,8.114211082458496,-25.950225830078125,-19.1296443939209,-22.474184036254883,8.48180103302002,0.5427151918411255,-23.761259078979492,-23.880273818969727,-2.57624888420105,-2.567941904067993],\"yaxis\":\"y\",\"type\":\"scatter\"},{\"customdata\":[[\"Fil\\u00e9 Peixe Empanado Vegabom\"],[\"Tirinhas de Peixe Empanado Vegabom\"],[\"Bolinho de Bacalhau New Butchers\"],[\"Bolinho de Siri Amazonika Mundi\"],[\"Camar\\u00e3o de Soja Vegano Goshen\"]],\"hovertemplate\":\"Classification=FISH 2<br>x=%{x}<br>y=%{y}<br>Product's Name=%{customdata[0]}<extra></extra>\",\"legendgroup\":\"FISH 2\",\"marker\":{\"color\":\"#B6E880\",\"symbol\":\"circle\"},\"mode\":\"markers\",\"name\":\"FISH 2\",\"orientation\":\"v\",\"showlegend\":true,\"x\":[-1.7543768882751465,-2.2936127185821533,23.73891258239746,-3.1858224868774414,-0.9215700030326843],\"xaxis\":\"x\",\"y\":[-32.43665313720703,-32.3487434387207,-2.0739521980285645,-11.83094596862793,-17.75651741027832],\"yaxis\":\"y\",\"type\":\"scatter\"},{\"customdata\":[[\"Queijo Mu\\u00e7arela Vegabom\"],[\"Queijo Picante Vegabom\"],[\"Queijo Cheddar Vegabom\"],[\"Requeisoy Provolone \"],[\"Requeisoy Cheddar' \"],[\"Requeisoy Tradicional\"],[\"Requeisoy Gorgonzola\"],[\"Okeijo R\\u00fastico\"],[\"Okeijo Cremoso\"],[\"Okeijo Gratinado\"],[\"Okeijo Mussarela\"],[\"Okeijo Provolone\"],[\"Creme s Vida Veg\"],[\"Creme s fineherbs e Pesto\"],[\"Queijo mu\\u00e7arela\"],[\"Queijo minas frescal\"],[\"Queijo minas padr\\u00e3o\"],[\"Requeij\\u00e3o Tradicional\"],[\"Requeij\\u00e3o fineherbs\"],[\"Requeij\\u00e3o Defumado\"],[\"Queijo Zimurisku \"],[\"Queijo Zimurisku Temperado\"],[\"Queijo Mozarela NoMoo\"],[\"Queijo Provolone\"],[\"Queijo Ch\\u00e9vre\"],[\"Queijo Prato\"],[\"Queijo Parmes\\u00e3o\"],[\"Requeij\\u00e3o Nomoo\"],[\"Queijo Gorgolino\"],[\"Queijo Melhor Que Cheddar\"],[\"Queijo Recaishow\"],[\"Queijo Brie\"],[\"Mussarela Vegana Goshen\"],[\"Queijo ProVolone Veganita\"],[\"Queijo Munster Veganita\"],[\"Queijo Brie Veganita\"],[\"Queijo Mussarela Veganita\"],[\"Queijo Cheddar Veganita\"],[\"CREAM CHEESE CULIN\\u00c1RIO BASI.CO\"],[\"REQUEIJ\\u00c3O VEGETAL\"],[\"QUEIJO PARMES\\u00c3O\"],[\"QUEIJO MINAS VEGETAL\"],[\"QUEIJO PRATO\"],[\"QUEIJO MU\\u00c7ARELA\"],[\"QUEIJO CHEDDAR\"]],\"hovertemplate\":\"Classification=DAIRY 3<br>x=%{x}<br>y=%{y}<br>Product's Name=%{customdata[0]}<extra></extra>\",\"legendgroup\":\"DAIRY 3\",\"marker\":{\"color\":\"#FF97FF\",\"symbol\":\"circle\"},\"mode\":\"markers\",\"name\":\"DAIRY 3\",\"orientation\":\"v\",\"showlegend\":true,\"x\":[-31.10272216796875,-31.657146453857422,-31.524295806884766,-32.38977813720703,-31.579519271850586,-34.1697883605957,-31.81062126159668,-30.13775634765625,-30.13775634765625,25.0969295501709,-29.7313175201416,-29.7319393157959,-50.741294860839844,-51.30242919921875,-27.435102462768555,-27.875762939453125,-27.282268524169922,-52.10063552856445,-51.939144134521484,-51.21392822265625,24.85628318786621,24.856281280517578,-44.379905700683594,-43.38089370727539,-32.99239730834961,-43.15669250488281,27.909202575683594,-28.774978637695312,-31.826940536499023,-31.83658218383789,-32.12688446044922,-32.71811294555664,-34.31867599487305,-31.509368896484375,-4.441376686096191,-54.146217346191406,-52.511940002441406,-52.28517532348633,-31.922500610351562,-31.30991554260254,-28.576913833618164,-28.42228889465332,-24.21891975402832,-24.744386672973633,-24.675573348999023],\"xaxis\":\"x\",\"y\":[-7.394826412200928,-7.558509349822998,-7.001401424407959,7.208089828491211,6.077337265014648,6.926751136779785,6.884427070617676,-15.46624755859375,-15.46624755859375,-2.513042449951172,-13.67241096496582,-13.672191619873047,3.4390950202941895,2.7814159393310547,-2.9542510509490967,-3.4357059001922607,-3.513396978378296,4.184113025665283,3.471801280975342,4.255129337310791,13.05319881439209,13.053197860717773,4.701517105102539,4.957682132720947,-1.1398619413375854,5.356764316558838,8.861042976379395,24.8448543548584,0.6807898283004761,1.27346932888031,0.2281663715839386,-2.911220073699951,-1.1153037548065186,4.563915252685547,-12.965374946594238,3.1410858631134033,2.2319440841674805,0.8944402933120728,20.086753845214844,8.178817749023438,24.96239471435547,18.04275894165039,20.648841857910156,20.44576644897461,21.07280921936035],\"yaxis\":\"y\",\"type\":\"scatter\"},{\"customdata\":[[\"Fil\\u00e9 de saltm\\u00e3o New Butchers\"],[\"Bacalhau New  Butchers\"],[\"Isca de Peixe Vegway\"],[\"Fil\\u00e9 de Peixe Vegway\"],[\"Vieira de Soja Vegway\"],[\"Bacalhau Incr\\u00edvel Seara\"],[\"Iscas de Peixe Incr\\u00edvel Seara\"],[\"Atum do Futuro\"]],\"hovertemplate\":\"Classification=FISH 1<br>x=%{x}<br>y=%{y}<br>Product's Name=%{customdata[0]}<extra></extra>\",\"legendgroup\":\"FISH 1\",\"marker\":{\"color\":\"#FECB52\",\"symbol\":\"circle\"},\"mode\":\"markers\",\"name\":\"FISH 1\",\"orientation\":\"v\",\"showlegend\":true,\"x\":[20.180904388427734,19.228910446166992,28.103673934936523,34.05895233154297,33.72845458984375,17.064516067504883,23.978233337402344,19.47547149658203],\"xaxis\":\"x\",\"y\":[-19.927352905273438,8.029866218566895,8.748676300048828,-10.916454315185547,-9.6764497756958,8.447458267211914,10.493247985839844,-21.818729400634766],\"yaxis\":\"y\",\"type\":\"scatter\"},{\"customdata\":[[\"Presunto de Soja Vegway\"],[\"Bacon Vegano\"],[\"Mortadela de Soja Vegana Goshen\"],[\"Presunto de Soja Defumado\"],[\"Presunto de Soja Vegano Fatiado Goshen\"],[\"Bacon Crispy Verdali\"]],\"hovertemplate\":\"Classification=PORK 2<br>x=%{x}<br>y=%{y}<br>Product's Name=%{customdata[0]}<extra></extra>\",\"legendgroup\":\"PORK 2\",\"marker\":{\"color\":\"#636efa\",\"symbol\":\"circle\"},\"mode\":\"markers\",\"name\":\"PORK 2\",\"orientation\":\"v\",\"showlegend\":true,\"x\":[-0.46839988231658936,27.462129592895508,-10.284875869750977,-7.47334623336792,-10.413783073425293,12.665813446044922],\"xaxis\":\"x\",\"y\":[-21.2086124420166,0.5576912760734558,-22.393346786499023,-22.476654052734375,-22.249195098876953,0.3037703037261963],\"yaxis\":\"y\",\"type\":\"scatter\"},{\"customdata\":[[\"Not Milk \"],[\"Not Milk Semidesnatado\"],[\" Vegetal de almonds\"],[\" vegetal \"],[\" Vegetal de almonds Fresco\"],[\" Vegetal  de Caj\\u00fa Fresco\"],[\" Vegetal  Fresco\"],[\" Vegetal Noats Original\"],[\" Vegetal Noats Barista\"],[\" Jasmine rice em P\\u00f3\"],[\" BIOV jasmine rice com amendoas\"],[\" BIOV jasmine rice com coco\"],[\" BioV oats Jasmine\"],[\" Jasmine rice \"],[\" Jasmine rice com oats\"],[\"Bebida de rice Nesfit\"],[\"Bebida Natural Nesfit\"],[\"Bebida de rice  e Amendoas Nesfit\"],[\"Bebida de rice e Coco Nesfit\"],[\"Bebida de oats Nesfit\"],[\"Bebida de oats e cocoa\"],[\"Molico Vegetal Nestl\\u00e9\"],[\"Ninho Vegetal Nestl\\u00e9\"],[\"Ninho Banana e apple Nestl\\u00e9\"],[\"Nude Edi\\u00e7\\u00e3o Barista\"],[\"Nude Original \"],[\"Nude Sabor Baunilha\"],[\"Nude de cocoa\"],[\"Nude + calcium\"],[\"Nude Barista\"],[\"Almond Breeze Original\"],[\"Almond Breeze Chocolate\"],[\"Almond Breeze Baunilha\"],[\"Almond Breeze Sem sugar\"],[\"Almond Breeze Amendoas com Coco\"],[\"Almond Breeze Chocolate Sem sugar\"],[\" de Amendoas Silk Sem sugar\"],[\" de Amendoas Silk \"],[\" cashews Silk\"],[\" de almonds e cocoa Silk\"],[\" de almonds Silk Coco\"],[\"Bebida de rice L\\u00edquida Sabor Original\"],[\"Bebida de rice L\\u00edquida Sabor almonds\"],[\"Bebida de rice L\\u00edquida Sabor peanuts\\n\"],[\"Bebida de rice L\\u00edquida Sabor cashews\"],[\"Bebida de rice L\\u00edquida Sabor Chocolate\"],[\"Bebida de rice L\\u00edquida Sabor Coco\"],[\"Bebida de rice L\\u00edquida Sabor Baunilha\"],[\"Bebida de rice Em P\\u00f3 Sabor Original\"],[\"Bebida de rice Em P\\u00f3 Sabor Original\"],[\"Bebida de rice Em P\\u00f3 Sabor Banana e apple\"],[\"Bebida de rice Em P\\u00f3 Sabor Chocolate\"],[\"Bebida de rice Em P\\u00f3 Sabor strawberries\"],[\" a tal da castanha barista\"],[\" a tal da castanha original\"],[\" a tal da castanha caju + Coco\"],[\" a tal da castanha almonds\"],[\" a tal da castanha castanha + cocoa\"],[\" a tal da castanha oats\"],[\" a tal da castanha mixed nuts\"],[\" a tal da castanha caju + Par\\u00e1\"],[\" a tal da castanha caju + peanuts\"],[\" Natuterra oats + Coco\"],[\" de almonds Natuterra\"],[\" Natuterra oats \"],[\" Vegetal 3 Nuts \\u2013 macadamianuts, almonds e cashews\"],[\" Vegetal de macadamianuts e Coco\"],[\" Vegetal de macadamianuts e cashews\"],[\" Vegetal Possible Foods\"],[\" Vegetal Possible Foods Chocolate\"],[\"Bebida de castanh de caj\\u00fa sem adi\\u00e7\\u00e3o de sugar nature's heart\"],[\"Bebida de almonds s/ adi\\u00e7\\u00e3o de sugares 1L \\u2013 Nature\\u2019s Heart\"],[\"Bebida de rice s/ adi\\u00e7\\u00e3o de sugares 1L \\u2013 Nature\\u2019s Heart\"],[\"Bebida de oats s/ adi\\u00e7\\u00e3o de sugares 1L \\u2013 Nature\\u2019s Heart\"],[\"Bebida de cocoa & rice 1L \\u2013 Nature\\u2019s Heart\"],[\"Bebida  & rice s/ adi\\u00e7\\u00e3o de sugares 1L \\u2013 Nature\\u2019s Heart\"],[\" Vegetal de soy Naturis Batavo\"],[\" DUOLAT peanuts E CASTANHA 1L - CAJUEIRO\"],[\" 85 CASTANHAS 1L - CAJUEIRO\"],[\" TOASTED 1L - CAJUEIRO\"]],\"hovertemplate\":\"Classification=DAIRY 1<br>x=%{x}<br>y=%{y}<br>Product's Name=%{customdata[0]}<extra></extra>\",\"legendgroup\":\"DAIRY 1\",\"marker\":{\"color\":\"#EF553B\",\"symbol\":\"circle\"},\"mode\":\"markers\",\"name\":\"DAIRY 1\",\"orientation\":\"v\",\"showlegend\":true,\"x\":[25.535234451293945,25.531517028808594,30.901430130004883,31.622753143310547,30.495803833007812,29.762020111083984,31.228038787841797,-26.10480499267578,-25.65498924255371,63.459625244140625,48.764217376708984,64.15473175048828,-25.471435546875,63.95796585083008,63.52162170410156,54.2004508972168,56.431339263916016,53.69068145751953,52.87431716918945,52.40337371826172,53.99056625366211,63.83338928222656,63.88062286376953,64.55777740478516,55.39574432373047,47.76768112182617,49.534423828125,49.75992202758789,52.779972076416016,55.39542007446289,48.73920822143555,58.03194808959961,54.15946578979492,33.83653259277344,33.54603958129883,35.05576705932617,-36.86722946166992,-33.17326736450195,-37.00368118286133,-40.98883819580078,-37.839500427246094,-33.75468826293945,-31.72760009765625,-31.972732543945312,-32.498077392578125,-33.4970703125,-32.75761413574219,-33.008766174316406,-2.080472469329834,-3.2873449325561523,-2.7370877265930176,-2.881375789642334,-1.9898396730422974,-33.28486251831055,-37.33637619018555,-36.6898193359375,27.463315963745117,-35.42525100708008,50.08565139770508,29.662242889404297,-36.608299255371094,-35.526878356933594,29.48284912109375,29.220075607299805,30.26929473876953,-39.185546875,-40.816551208496094,-38.898746490478516,48.345882415771484,52.93077850341797,29.02164077758789,29.414621353149414,54.25387191772461,53.2170524597168,58.097618103027344,53.102413177490234,28.29079246520996,-40.99595260620117,-40.66162109375,-39.45840072631836],\"xaxis\":\"x\",\"y\":[51.41139602661133,51.314178466796875,51.00051498413086,52.07199478149414,51.49393844604492,52.05144119262695,52.688419342041016,-54.95317459106445,-54.528106689453125,23.58289909362793,15.061326026916504,23.89230728149414,-54.95184326171875,23.391393661499023,24.81263542175293,24.9678955078125,18.48689079284668,25.520856857299805,25.27273941040039,24.879770278930664,28.705535888671875,16.40074920654297,16.41735076904297,22.023035049438477,18.599767684936523,14.250568389892578,14.974248886108398,15.400269508361816,20.54395866394043,18.602027893066406,29.31183433532715,29.620424270629883,27.1627197265625,43.75770950317383,43.90824890136719,43.42235565185547,-46.482051849365234,-44.93550109863281,-46.30842208862305,-51.99040222167969,-45.513694763183594,-60.30615234375,-60.998497009277344,-59.92942428588867,-61.78909683227539,-61.4339714050293,-60.66468811035156,-59.56418228149414,18.53618621826172,19.07914924621582,19.684814453125,18.36600685119629,19.348766326904297,-44.969268798828125,-38.24866485595703,-38.266395568847656,43.553077697753906,-61.35470199584961,28.37171745300293,50.08565139770508,-37.66481399536133,-37.049171447753906,43.0745735168457,43.61258316040039,43.80153274536133,-40.87131881713867,-41.83164978027344,-40.1970329284668,29.60968589782715,27.13348388671875,44.78697204589844,44.864654541015625,22.95067596435547,22.809452056884766,29.62717628479004,22.333463668823242,52.79521560668945,-39.56486511230469,-40.13719940185547,-39.91075897216797],\"yaxis\":\"y\",\"type\":\"scatter\"},{\"customdata\":[[\"Iogurte \"],[\"Iogurte  com strawberries\"],[\"Iogurte  com banana, apple e papaya\"],[\"Iogurte  Zero sugar\"],[\"Iogurte  com strawberries Zero sugar\"],[\"Iogurte GregoVeg \"],[\"Iogurte GregoVeg  com strawberries\"],[\"Iogurte Proteico 14g sabor strawberries\"],[\"Shake \"],[\"Iogurte Proteico 14g sabor  peanuts\"],[\"Creme de almonds\"]],\"hovertemplate\":\"Classification=DAIRY 2<br>x=%{x}<br>y=%{y}<br>Product's Name=%{customdata[0]}<extra></extra>\",\"legendgroup\":\"DAIRY 2\",\"marker\":{\"color\":\"#00cc96\",\"symbol\":\"circle\"},\"mode\":\"markers\",\"name\":\"DAIRY 2\",\"orientation\":\"v\",\"showlegend\":true,\"x\":[30.11964988708496,30.281803131103516,29.690235137939453,31.395606994628906,31.35811424255371,-39.09457015991211,-39.092044830322266,25.87621307373047,-42.51333236694336,25.869043350219727,-42.342750549316406],\"xaxis\":\"x\",\"y\":[60.05973815917969,60.67504119873047,60.540435791015625,56.041526794433594,56.18284225463867,-60.54087829589844,-60.610103607177734,56.3271484375,-39.91312789916992,56.30815124511719,5.311124801635742],\"yaxis\":\"y\",\"type\":\"scatter\"},{\"customdata\":[[\"MAIONESE VEGETAL SUPERBOM\"],[\"MAIONESE FUGINI\"],[\"NOT MAYO\"],[\"NOT MAYO garlic\"],[\"NOT MAYO AZEITONA\"],[\"NOT MAYO PICANTE\"],[\"MAIONESE V-MAYO\"],[\"MAIONESE V-MAYO ApepperDA\"],[\"MAIONESE V-MAYO TRUFADA\"],[\"MAIONESE V-MAYO DE ABACATE\"],[\"MAIONESE V-MAYO DE garlic\"],[\"MAIONESE HELLMANS\"],[\"MAIONESE VEGANA FUGINI\"],[\"MAIONESE DEL\\u00cdCIAS DE GOI\\u00c1S\"]],\"hovertemplate\":\"Classification=EGG 1<br>x=%{x}<br>y=%{y}<br>Product's Name=%{customdata[0]}<extra></extra>\",\"legendgroup\":\"EGG 1\",\"marker\":{\"color\":\"#ab63fa\",\"symbol\":\"circle\"},\"mode\":\"markers\",\"name\":\"EGG 1\",\"orientation\":\"v\",\"showlegend\":true,\"x\":[-11.182761192321777,-33.84964370727539,-24.295682907104492,-24.2600154876709,-25.612079620361328,-25.715078353881836,-31.024276733398438,-30.125892639160156,-30.303749084472656,-30.581241607666016,-31.30693244934082,-33.25039291381836,-35.633148193359375,-5.04946756362915],\"xaxis\":\"x\",\"y\":[-21.860929489135742,20.89475440979004,9.157341003417969,9.686567306518555,9.510342597961426,9.446560859680176,18.664033889770508,18.155841827392578,18.94780158996582,17.53787612915039,17.942365646362305,20.818809509277344,6.89157247543335,-11.9336576461792],\"yaxis\":\"y\",\"type\":\"scatter\"},{\"customdata\":[[\"Ovos Novos\"],[\"VEGAN PRO EGGS NUTRIFY\"]],\"hovertemplate\":\"Classification=EGG 2<br>x=%{x}<br>y=%{y}<br>Product's Name=%{customdata[0]}<extra></extra>\",\"legendgroup\":\"EGG 2\",\"marker\":{\"color\":\"#FFA15A\",\"symbol\":\"circle\"},\"mode\":\"markers\",\"name\":\"EGG 2\",\"orientation\":\"v\",\"showlegend\":true,\"x\":[-5.313847541809082,-5.306550025939941],\"xaxis\":\"x\",\"y\":[36.84680938720703,37.019248962402344],\"yaxis\":\"y\",\"type\":\"scatter\"}],                        {\"template\":{\"data\":{\"bar\":[{\"error_x\":{\"color\":\"#2a3f5f\"},\"error_y\":{\"color\":\"#2a3f5f\"},\"marker\":{\"line\":{\"color\":\"#E5ECF6\",\"width\":0.5},\"pattern\":{\"fillmode\":\"overlay\",\"size\":10,\"solidity\":0.2}},\"type\":\"bar\"}],\"barpolar\":[{\"marker\":{\"line\":{\"color\":\"#E5ECF6\",\"width\":0.5},\"pattern\":{\"fillmode\":\"overlay\",\"size\":10,\"solidity\":0.2}},\"type\":\"barpolar\"}],\"carpet\":[{\"aaxis\":{\"endlinecolor\":\"#2a3f5f\",\"gridcolor\":\"white\",\"linecolor\":\"white\",\"minorgridcolor\":\"white\",\"startlinecolor\":\"#2a3f5f\"},\"baxis\":{\"endlinecolor\":\"#2a3f5f\",\"gridcolor\":\"white\",\"linecolor\":\"white\",\"minorgridcolor\":\"white\",\"startlinecolor\":\"#2a3f5f\"},\"type\":\"carpet\"}],\"choropleth\":[{\"colorbar\":{\"outlinewidth\":0,\"ticks\":\"\"},\"type\":\"choropleth\"}],\"contour\":[{\"colorbar\":{\"outlinewidth\":0,\"ticks\":\"\"},\"colorscale\":[[0.0,\"#0d0887\"],[0.1111111111111111,\"#46039f\"],[0.2222222222222222,\"#7201a8\"],[0.3333333333333333,\"#9c179e\"],[0.4444444444444444,\"#bd3786\"],[0.5555555555555556,\"#d8576b\"],[0.6666666666666666,\"#ed7953\"],[0.7777777777777778,\"#fb9f3a\"],[0.8888888888888888,\"#fdca26\"],[1.0,\"#f0f921\"]],\"type\":\"contour\"}],\"contourcarpet\":[{\"colorbar\":{\"outlinewidth\":0,\"ticks\":\"\"},\"type\":\"contourcarpet\"}],\"heatmap\":[{\"colorbar\":{\"outlinewidth\":0,\"ticks\":\"\"},\"colorscale\":[[0.0,\"#0d0887\"],[0.1111111111111111,\"#46039f\"],[0.2222222222222222,\"#7201a8\"],[0.3333333333333333,\"#9c179e\"],[0.4444444444444444,\"#bd3786\"],[0.5555555555555556,\"#d8576b\"],[0.6666666666666666,\"#ed7953\"],[0.7777777777777778,\"#fb9f3a\"],[0.8888888888888888,\"#fdca26\"],[1.0,\"#f0f921\"]],\"type\":\"heatmap\"}],\"heatmapgl\":[{\"colorbar\":{\"outlinewidth\":0,\"ticks\":\"\"},\"colorscale\":[[0.0,\"#0d0887\"],[0.1111111111111111,\"#46039f\"],[0.2222222222222222,\"#7201a8\"],[0.3333333333333333,\"#9c179e\"],[0.4444444444444444,\"#bd3786\"],[0.5555555555555556,\"#d8576b\"],[0.6666666666666666,\"#ed7953\"],[0.7777777777777778,\"#fb9f3a\"],[0.8888888888888888,\"#fdca26\"],[1.0,\"#f0f921\"]],\"type\":\"heatmapgl\"}],\"histogram\":[{\"marker\":{\"pattern\":{\"fillmode\":\"overlay\",\"size\":10,\"solidity\":0.2}},\"type\":\"histogram\"}],\"histogram2d\":[{\"colorbar\":{\"outlinewidth\":0,\"ticks\":\"\"},\"colorscale\":[[0.0,\"#0d0887\"],[0.1111111111111111,\"#46039f\"],[0.2222222222222222,\"#7201a8\"],[0.3333333333333333,\"#9c179e\"],[0.4444444444444444,\"#bd3786\"],[0.5555555555555556,\"#d8576b\"],[0.6666666666666666,\"#ed7953\"],[0.7777777777777778,\"#fb9f3a\"],[0.8888888888888888,\"#fdca26\"],[1.0,\"#f0f921\"]],\"type\":\"histogram2d\"}],\"histogram2dcontour\":[{\"colorbar\":{\"outlinewidth\":0,\"ticks\":\"\"},\"colorscale\":[[0.0,\"#0d0887\"],[0.1111111111111111,\"#46039f\"],[0.2222222222222222,\"#7201a8\"],[0.3333333333333333,\"#9c179e\"],[0.4444444444444444,\"#bd3786\"],[0.5555555555555556,\"#d8576b\"],[0.6666666666666666,\"#ed7953\"],[0.7777777777777778,\"#fb9f3a\"],[0.8888888888888888,\"#fdca26\"],[1.0,\"#f0f921\"]],\"type\":\"histogram2dcontour\"}],\"mesh3d\":[{\"colorbar\":{\"outlinewidth\":0,\"ticks\":\"\"},\"type\":\"mesh3d\"}],\"parcoords\":[{\"line\":{\"colorbar\":{\"outlinewidth\":0,\"ticks\":\"\"}},\"type\":\"parcoords\"}],\"pie\":[{\"automargin\":true,\"type\":\"pie\"}],\"scatter\":[{\"marker\":{\"colorbar\":{\"outlinewidth\":0,\"ticks\":\"\"}},\"type\":\"scatter\"}],\"scatter3d\":[{\"line\":{\"colorbar\":{\"outlinewidth\":0,\"ticks\":\"\"}},\"marker\":{\"colorbar\":{\"outlinewidth\":0,\"ticks\":\"\"}},\"type\":\"scatter3d\"}],\"scattercarpet\":[{\"marker\":{\"colorbar\":{\"outlinewidth\":0,\"ticks\":\"\"}},\"type\":\"scattercarpet\"}],\"scattergeo\":[{\"marker\":{\"colorbar\":{\"outlinewidth\":0,\"ticks\":\"\"}},\"type\":\"scattergeo\"}],\"scattergl\":[{\"marker\":{\"colorbar\":{\"outlinewidth\":0,\"ticks\":\"\"}},\"type\":\"scattergl\"}],\"scattermapbox\":[{\"marker\":{\"colorbar\":{\"outlinewidth\":0,\"ticks\":\"\"}},\"type\":\"scattermapbox\"}],\"scatterpolar\":[{\"marker\":{\"colorbar\":{\"outlinewidth\":0,\"ticks\":\"\"}},\"type\":\"scatterpolar\"}],\"scatterpolargl\":[{\"marker\":{\"colorbar\":{\"outlinewidth\":0,\"ticks\":\"\"}},\"type\":\"scatterpolargl\"}],\"scatterternary\":[{\"marker\":{\"colorbar\":{\"outlinewidth\":0,\"ticks\":\"\"}},\"type\":\"scatterternary\"}],\"surface\":[{\"colorbar\":{\"outlinewidth\":0,\"ticks\":\"\"},\"colorscale\":[[0.0,\"#0d0887\"],[0.1111111111111111,\"#46039f\"],[0.2222222222222222,\"#7201a8\"],[0.3333333333333333,\"#9c179e\"],[0.4444444444444444,\"#bd3786\"],[0.5555555555555556,\"#d8576b\"],[0.6666666666666666,\"#ed7953\"],[0.7777777777777778,\"#fb9f3a\"],[0.8888888888888888,\"#fdca26\"],[1.0,\"#f0f921\"]],\"type\":\"surface\"}],\"table\":[{\"cells\":{\"fill\":{\"color\":\"#EBF0F8\"},\"line\":{\"color\":\"white\"}},\"header\":{\"fill\":{\"color\":\"#C8D4E3\"},\"line\":{\"color\":\"white\"}},\"type\":\"table\"}]},\"layout\":{\"annotationdefaults\":{\"arrowcolor\":\"#2a3f5f\",\"arrowhead\":0,\"arrowwidth\":1},\"autotypenumbers\":\"strict\",\"coloraxis\":{\"colorbar\":{\"outlinewidth\":0,\"ticks\":\"\"}},\"colorscale\":{\"diverging\":[[0,\"#8e0152\"],[0.1,\"#c51b7d\"],[0.2,\"#de77ae\"],[0.3,\"#f1b6da\"],[0.4,\"#fde0ef\"],[0.5,\"#f7f7f7\"],[0.6,\"#e6f5d0\"],[0.7,\"#b8e186\"],[0.8,\"#7fbc41\"],[0.9,\"#4d9221\"],[1,\"#276419\"]],\"sequential\":[[0.0,\"#0d0887\"],[0.1111111111111111,\"#46039f\"],[0.2222222222222222,\"#7201a8\"],[0.3333333333333333,\"#9c179e\"],[0.4444444444444444,\"#bd3786\"],[0.5555555555555556,\"#d8576b\"],[0.6666666666666666,\"#ed7953\"],[0.7777777777777778,\"#fb9f3a\"],[0.8888888888888888,\"#fdca26\"],[1.0,\"#f0f921\"]],\"sequentialminus\":[[0.0,\"#0d0887\"],[0.1111111111111111,\"#46039f\"],[0.2222222222222222,\"#7201a8\"],[0.3333333333333333,\"#9c179e\"],[0.4444444444444444,\"#bd3786\"],[0.5555555555555556,\"#d8576b\"],[0.6666666666666666,\"#ed7953\"],[0.7777777777777778,\"#fb9f3a\"],[0.8888888888888888,\"#fdca26\"],[1.0,\"#f0f921\"]]},\"colorway\":[\"#636efa\",\"#EF553B\",\"#00cc96\",\"#ab63fa\",\"#FFA15A\",\"#19d3f3\",\"#FF6692\",\"#B6E880\",\"#FF97FF\",\"#FECB52\"],\"font\":{\"color\":\"#2a3f5f\"},\"geo\":{\"bgcolor\":\"white\",\"lakecolor\":\"white\",\"landcolor\":\"#E5ECF6\",\"showlakes\":true,\"showland\":true,\"subunitcolor\":\"white\"},\"hoverlabel\":{\"align\":\"left\"},\"hovermode\":\"closest\",\"mapbox\":{\"style\":\"light\"},\"paper_bgcolor\":\"white\",\"plot_bgcolor\":\"#E5ECF6\",\"polar\":{\"angularaxis\":{\"gridcolor\":\"white\",\"linecolor\":\"white\",\"ticks\":\"\"},\"bgcolor\":\"#E5ECF6\",\"radialaxis\":{\"gridcolor\":\"white\",\"linecolor\":\"white\",\"ticks\":\"\"}},\"scene\":{\"xaxis\":{\"backgroundcolor\":\"#E5ECF6\",\"gridcolor\":\"white\",\"gridwidth\":2,\"linecolor\":\"white\",\"showbackground\":true,\"ticks\":\"\",\"zerolinecolor\":\"white\"},\"yaxis\":{\"backgroundcolor\":\"#E5ECF6\",\"gridcolor\":\"white\",\"gridwidth\":2,\"linecolor\":\"white\",\"showbackground\":true,\"ticks\":\"\",\"zerolinecolor\":\"white\"},\"zaxis\":{\"backgroundcolor\":\"#E5ECF6\",\"gridcolor\":\"white\",\"gridwidth\":2,\"linecolor\":\"white\",\"showbackground\":true,\"ticks\":\"\",\"zerolinecolor\":\"white\"}},\"shapedefaults\":{\"line\":{\"color\":\"#2a3f5f\"}},\"ternary\":{\"aaxis\":{\"gridcolor\":\"white\",\"linecolor\":\"white\",\"ticks\":\"\"},\"baxis\":{\"gridcolor\":\"white\",\"linecolor\":\"white\",\"ticks\":\"\"},\"bgcolor\":\"#E5ECF6\",\"caxis\":{\"gridcolor\":\"white\",\"linecolor\":\"white\",\"ticks\":\"\"}},\"title\":{\"x\":0.05},\"xaxis\":{\"automargin\":true,\"gridcolor\":\"white\",\"linecolor\":\"white\",\"ticks\":\"\",\"title\":{\"standoff\":15},\"zerolinecolor\":\"white\",\"zerolinewidth\":2},\"yaxis\":{\"automargin\":true,\"gridcolor\":\"white\",\"linecolor\":\"white\",\"ticks\":\"\",\"title\":{\"standoff\":15},\"zerolinecolor\":\"white\",\"zerolinewidth\":2}}},\"xaxis\":{\"anchor\":\"y\",\"domain\":[0.0,1.0],\"title\":{\"text\":\"x\"}},\"yaxis\":{\"anchor\":\"x\",\"domain\":[0.0,1.0],\"title\":{\"text\":\"y\"}},\"legend\":{\"title\":{\"text\":\"Classification\"},\"tracegroupgap\":0},\"margin\":{\"t\":60},\"width\":800},                        {\"responsive\": true}                    ).then(function(){\n",
              "                            \n",
              "var gd = document.getElementById('2646f04f-14ca-4e2d-b841-1ed89c9c8da5');\n",
              "var x = new MutationObserver(function (mutations, observer) {{\n",
              "        var display = window.getComputedStyle(gd).display;\n",
              "        if (!display || display === 'none') {{\n",
              "            console.log([gd, 'removed!']);\n",
              "            Plotly.purge(gd);\n",
              "            observer.disconnect();\n",
              "        }}\n",
              "}});\n",
              "\n",
              "// Listen for the removal of the full notebook cells\n",
              "var notebookContainer = gd.closest('#notebook-container');\n",
              "if (notebookContainer) {{\n",
              "    x.observe(notebookContainer, {childList: true});\n",
              "}}\n",
              "\n",
              "// Listen for the clearing of the current output cell\n",
              "var outputEl = gd.closest('.output');\n",
              "if (outputEl) {{\n",
              "    x.observe(outputEl, {childList: true});\n",
              "}}\n",
              "\n",
              "                        })                };                            </script>        </div>\n",
              "</body>\n",
              "</html>"
            ]
          },
          "metadata": {}
        }
      ]
    },
    {
      "cell_type": "markdown",
      "source": [
        "### UMAP"
      ],
      "metadata": {
        "id": "A7LLQVJotd72"
      }
    },
    {
      "cell_type": "code",
      "source": [
        "reducer = umap.UMAP(n_components=2,n_neighbors=10,metric='euclidean', random_state=0)\n",
        "X_umap = reducer.fit_transform(X)\n",
        "\n",
        "X_umap[1:4, :]\n",
        "all_data['x'] = X_umap[:,0]\n",
        "all_data['y'] = X_umap[:,1]\n",
        "\n",
        "fig = px.scatter(\n",
        "    all_data, \n",
        "    x='x', \n",
        "    y='y', \n",
        "    color='Classification', \n",
        "    template=\"simple_white\",\n",
        "    labels={ \n",
        "      \"Classification\": \"Classification (Label)\"\n",
        "    },\n",
        "    color_discrete_sequence= px.colors.qualitative.Plotly + px.colors.qualitative.Bold,\n",
        "    hover_name=\"Description\",\n",
        "    hover_data={'x':False,\n",
        "                'y':False,  \n",
        "                'Kcal ': [f' {x}' for x in data['Kcal']],\n",
        "                'Serving Size ': [f' {y}' for y in data['Serving Size']],\n",
        "                'Carbohydrate ': [f' {z}' for z in data['Carbohydrate']],\n",
        "                'Sugars ': [f' {a}' for a in data['Sugars']],\n",
        "                'Proteins ': [f' {b}' for b in data['Proteins']],\n",
        "                }, #'Ingredients':True}, \n",
        "    width=800)\n",
        "\n",
        "fig.update_layout(xaxis={'visible': False},\n",
        "                  yaxis={'visible': False},\n",
        "                  margin=dict(l=0,r=0,b=0,t=0))\n",
        "\n",
        "fig.show()\n",
        "fig.write_image('imgs/UMAP_ALL.eps', format='eps')"
      ],
      "metadata": {
        "colab": {
          "base_uri": "https://localhost:8080/",
          "height": 542
        },
        "id": "akN3C0Vmtg-9",
        "outputId": "883702fb-d063-4cc1-8ef2-63a04b00c1fc"
      },
      "execution_count": 74,
      "outputs": [
        {
          "output_type": "display_data",
          "data": {
            "text/html": [
              "<html>\n",
              "<head><meta charset=\"utf-8\" /></head>\n",
              "<body>\n",
              "    <div>            <script src=\"https://cdnjs.cloudflare.com/ajax/libs/mathjax/2.7.5/MathJax.js?config=TeX-AMS-MML_SVG\"></script><script type=\"text/javascript\">if (window.MathJax) {MathJax.Hub.Config({SVG: {font: \"STIX-Web\"}});}</script>                <script type=\"text/javascript\">window.PlotlyConfig = {MathJaxConfig: 'local'};</script>\n",
              "        <script src=\"https://cdn.plot.ly/plotly-2.8.3.min.js\"></script>                <div id=\"88790add-9b62-407a-ac52-1bf1e0984988\" class=\"plotly-graph-div\" style=\"height:525px; width:800px;\"></div>            <script type=\"text/javascript\">                                    window.PLOTLYENV=window.PLOTLYENV || {};                                    if (document.getElementById(\"88790add-9b62-407a-ac52-1bf1e0984988\")) {                    Plotly.newPlot(                        \"88790add-9b62-407a-ac52-1bf1e0984988\",                        [{\"customdata\":[[\" 168.0\",\" 80.0\",\" 11.0\",\" 0.0\",\" 8.2\"],[\" 234.0\",\" 100.0\",\" 12.0\",\" 0.0\",\" 19.0\"],[\" 146.0\",\" 80.0\",\" 3.7\",\" 0.0\",\" 14.0\"],[\" 166.0\",\" 100.0\",\" 10.0\",\" 0.0\",\" 13.0\"],[\" 166.0\",\" 100.0\",\" 10.0\",\" 0.0\",\" 13.0\"],[\" 178.0\",\" 75.0\",\" 33.0\",\" 0.0\",\" 4.3\"],[\" 158.0\",\" 80.0\",\" 9.3\",\" 0.0\",\" 7.8\"],[\" 77.0\",\" 50.0\",\" 2.1\",\" 0.0\",\" 13.0\"],[\" 188.0\",\" 100.0\",\" 6.0\",\" 0.0\",\" 14.0\"]],\"hovertemplate\":\"<b>%{hovertext}</b><br><br>Classification (Label)=MEAT 2<br>Kcal =%{customdata[0]}<br>Serving Size =%{customdata[1]}<br>Carbohydrate =%{customdata[2]}<br>Sugars =%{customdata[3]}<br>Proteins =%{customdata[4]}<extra></extra>\",\"hovertext\":[\"Carne Mo\\u00edda do Futuro\",\"Almondegas de Soja Vegway\",\"Almondegas Amazonika Mundi\",\"Kibe Incr\\u00edvel Seara\",\"Almondegas Incr\\u00edveis Seara\",\"Almondegas Mr Veggy\",\"Carne Mo\\u00edda Superbom\",\"Carne Vegetal Mo\\u00edda Superbom\",\"Carne Mo\\u00edda Vegetal Verdali\"],\"legendgroup\":\"MEAT 2\",\"marker\":{\"color\":\"#636EFA\",\"symbol\":\"circle\"},\"mode\":\"markers\",\"name\":\"MEAT 2\",\"orientation\":\"v\",\"showlegend\":true,\"x\":[5.697740077972412,11.314635276794434,8.016632080078125,6.299893379211426,3.031090021133423,6.589420318603516,8.25560474395752,9.01081371307373,7.490296363830566],\"xaxis\":\"x\",\"y\":[5.468072891235352,-1.3344948291778564,8.140267372131348,6.741459369659424,7.168974876403809,6.980682849884033,7.865224361419678,2.589292526245117,6.063131332397461],\"yaxis\":\"y\",\"type\":\"scatter\"},{\"customdata\":[[\" 168.0\",\" 80.0\",\" 11.0\",\" 0.0\",\" 8.2\"],[\" 150.0\",\" 50.0\",\" 10.0\",\" 0.0\",\" 25.0\"],[\" 150.0\",\" 50.0\",\" 10.0\",\" 0.0\",\" 25.0\"],[\" 62.0\",\" 50.0\",\" 1.0\",\" 0.0\",\" 10.0\"],[\" 62.0\",\" 50.0\",\" 1.0\",\" 0.0\",\" 10.0\"],[\" 115.0\",\" 60.0\",\" 2.8\",\" 0.0\",\" 7.5\"],[\" 115.0\",\" 60.0\",\" 3.1\",\" 0.0\",\" 7.5\"],[\" 121.0\",\" 350.0\",\" 9.3\",\" 0.0\",\" 9.3\"],[\" 88.0\",\" 40.0\",\" 6.0\",\" 0.0\",\" 6.3\"],[\" 129.0\",\" 80.0\",\" 12.0\",\" 0.0\",\" 11.0\"],[\" 203.0\",\" 100.0\",\" 13.0\",\" 0.0\",\" 9.2\"],[\" 64.0\",\" 40.0\",\" 2.7\",\" 0.0\",\" 7.8\"],[\" 26.0\",\" 50.0\",\" 0.5\",\" 0.0\",\" 5.0\"],[\" 22.0\",\" 50.0\",\" 0.5\",\" 0.0\",\" 5.3\"],[\" 53.0\",\" 50.0\",\" 0.0\",\" 0.0\",\" 5.4\"],[\" 63.0\",\" 50.0\",\" 0.2\",\" 0.0\",\" 6.3\"],[\" 144.0\",\" 100.0\",\" 5.0\",\" 0.0\",\" 22.0\"],[\" 119.0\",\" 100.0\",\" 5.0\",\" 0.0\",\" 18.0\"]],\"hovertemplate\":\"<b>%{hovertext}</b><br><br>Classification (Label)=MEAT 3<br>Kcal =%{customdata[0]}<br>Serving Size =%{customdata[1]}<br>Carbohydrate =%{customdata[2]}<br>Sugars =%{customdata[3]}<br>Proteins =%{customdata[4]}<extra></extra>\",\"hovertext\":[\"Carne Mo\\u00edda do Futuro\",\"Fil\\u00e9s Sora Carne Vermelha\",\"Fatias Sora Carne Vermelha\",\"Fil\\u00e9 Pronto Saud\\u00e1vel Sora\",\"Carne Mo\\u00edda Pronto Saud\\u00e1vel Sora\",\"Churrasco Vegabom\",\"Churrasco Aoniondo Vegabom\",\"Carne de Pernil Seara\",\"Alm\\u00f4ndega de Soja Vegana Goshen\",\"Bife de Soja Vegano Goshen\",\"Alm\\u00f4ndega Vegana Superbom\",\"Bife Vegetal Superbom\",\"Escalope ao Molho Caseiro Superbom\",\"Cubinhos ao Molho Mexicano Superbom\",\"Alm\\u00f4ndegas ao Molho Sugo Superbom\",\"Medalh\\u00e3o ao Molho Madeira Superbom\",\"Mignon Verdali\",\"Steak Verdali\"],\"legendgroup\":\"MEAT 3\",\"marker\":{\"color\":\"#EF553B\",\"symbol\":\"circle\"},\"mode\":\"markers\",\"name\":\"MEAT 3\",\"orientation\":\"v\",\"showlegend\":true,\"x\":[5.712915897369385,9.588561058044434,9.493772506713867,9.318489074707031,9.360051155090332,6.448012828826904,6.39082670211792,3.0350453853607178,7.2822794914245605,7.59261417388916,8.288576126098633,9.382232666015625,9.269886016845703,9.193469047546387,8.744091987609863,8.800699234008789,7.487626552581787,7.525243759155273],\"xaxis\":\"x\",\"y\":[5.462527275085449,2.91310715675354,2.7915070056915283,4.767270565032959,4.904673099517822,6.747747421264648,6.7611565589904785,7.145667552947998,1.1040213108062744,1.1441941261291504,7.860289573669434,4.271356105804443,4.890990257263184,5.1169514656066895,2.371623992919922,2.3374578952789307,5.882577896118164,5.972922325134277],\"yaxis\":\"y\",\"type\":\"scatter\"},{\"customdata\":[[\" 168.0\",\" 80.0\",\" 11.0\",\" 0.0\",\" 8.2\"],[\" 150.0\",\" 50.0\",\" 10.0\",\" 0.0\",\" 25.0\"],[\" 150.0\",\" 50.0\",\" 10.0\",\" 0.0\",\" 25.0\"],[\" 115.0\",\" 60.0\",\" 2.8\",\" 0.0\",\" 7.5\"],[\" 34.8\",\" 30.0\",\" 2.9\",\" 0.0\",\" 3.8\"],[\" 153.0\",\" 100.0\",\" 12.0\",\" 0.0\",\" 6.0\"],[\" 94.0\",\" 80.0\",\" 3.1\",\" 0.0\",\" 17.0\"],[\" 94.0\",\" 80.0\",\" 3.1\",\" 0.0\",\" 17.0\"],[\" 58.0\",\" 30.0\",\" 2.2\",\" 0.0\",\" 4.8\"],[\" 58.0\",\" 30.0\",\" 2.2\",\" 0.0\",\" 4.8\"],[\" 174.0\",\" 100.0\",\" 6.0\",\" 0.0\",\" 24.0\"],[\" 129.0\",\" 115.0\",\" 5.8\",\" 0.0\",\" 19.0\"],[\" 138.0\",\" 120.0\",\" 8.4\",\" 0.0\",\" 18.0\"]],\"hovertemplate\":\"<b>%{hovertext}</b><br><br>Classification (Label)=POULTRY 3<br>Kcal =%{customdata[0]}<br>Serving Size =%{customdata[1]}<br>Carbohydrate =%{customdata[2]}<br>Sugars =%{customdata[3]}<br>Proteins =%{customdata[4]}<extra></extra>\",\"hovertext\":[\"Frango do Futuro\",\"Fatias Sora Carne Branca\",\"Fil\\u00e9s Sora Carne Branca\",\"Strogonoff de Frango Vegabom\",\"Tiras de Frango New Butchers\",\"Fil\\u00e9 de Frango Desfiado Vegway\",\"Frango Veg e Tal Sadia\",\"Frango Veg e Tal Sadia Desfiado\",\"Peito de Peru de Soja\",\"Peito de Peru de Soja Vegano\",\"Tiras de Ave Verdali\",\"Fil\\u00e9 sem Frango Verdali\",\"Mini Fil\\u00e9 de Frango Verdali\"],\"legendgroup\":\"POULTRY 3\",\"marker\":{\"color\":\"#00CC96\",\"symbol\":\"circle\"},\"mode\":\"markers\",\"name\":\"POULTRY 3\",\"orientation\":\"v\",\"showlegend\":true,\"x\":[5.61696720123291,9.468498229980469,9.590590476989746,6.516073226928711,7.799418926239014,11.436012268066406,7.980306148529053,7.995783805847168,7.386521339416504,7.19290828704834,6.983372211456299,7.420241355895996,7.3813652992248535],\"xaxis\":\"x\",\"y\":[5.369598388671875,2.798858404159546,2.8189587593078613,6.66054105758667,7.435577392578125,-1.4502332210540771,8.341756820678711,8.271833419799805,0.790154755115509,0.6336990594863892,6.742434501647949,6.269383907318115,6.444972991943359],\"yaxis\":\"y\",\"type\":\"scatter\"},{\"customdata\":[[\" 139.0\",\" 50.0\",\" 7.7\",\" 0.0\",\" 5.7\"],[\" 78.0\",\" 35.0\",\" 6.0\",\" 0.0\",\" 4.0\"],[\" 78.0\",\" 35.0\",\" 6.0\",\" 0.0\",\" 4.0\"],[\" 156.0\",\" 65.0\",\" 8.0\",\" 0.0\",\" 11.0\"],[\" 115.0\",\" 80.0\",\" 3.6\",\" 0.0\",\" 9.7\"],[\" 44.0\",\" 30.0\",\" 0.5\",\" 0.0\",\" 5.1\"],[\" 58.0\",\" 30.0\",\" 1.7\",\" 0.0\",\" 5.1\"],[\" 93.0\",\" 50.0\",\" 1.9\",\" 0.0\",\" 8.1\"],[\" 58.0\",\" 30.0\",\" 4.3\",\" 0.0\",\" 2.4\"],[\" 96.0\",\" 50.0\",\" 1.8\",\" 0.0\",\" 8.8\"],[\" 60.0\",\" 40.0\",\" 1.4\",\" 0.0\",\" 7.6\"],[\" 43.0\",\" 40.0\",\" 1.8\",\" 0.0\",\" 4.9\"]],\"hovertemplate\":\"<b>%{hovertext}</b><br><br>Classification (Label)=PORK 1<br>Kcal =%{customdata[0]}<br>Serving Size =%{customdata[1]}<br>Carbohydrate =%{customdata[2]}<br>Sugars =%{customdata[3]}<br>Proteins =%{customdata[4]}<extra></extra>\",\"hovertext\":[\"Lingui\\u00e7a do Futuro\",\"Lingui\\u00e7a calabresa vegabom\",\"saltsicha de chickpea Vegabom\",\"Vegway Soy Sausage\",\"saltsichas Incriveis Seara\",\"Lingui\\u00e7a Apimentada de Soja Goshen\",\"Lingui\\u00e7a Calabresa de Soja Goshen\",\"Lingui\\u00e7a de Soja Vegana Goshen\",\"Lingui\\u00e7a Toscana de Soja Goshen\",\"saltsicha de Soja Vegana Goshen\",\"saltsicha Vegetal Superbom\",\"saltsicha Vegetal Defumada Superbom\"],\"legendgroup\":\"PORK 1\",\"marker\":{\"color\":\"#AB63FA\",\"symbol\":\"circle\"},\"mode\":\"markers\",\"name\":\"PORK 1\",\"orientation\":\"v\",\"showlegend\":true,\"x\":[5.734910488128662,6.191215515136719,5.849594593048096,11.458029747009277,3.040644884109497,7.509189605712891,7.14190149307251,7.407712459564209,7.488790035247803,7.414051532745361,9.08520793914795,9.187321662902832],\"xaxis\":\"x\",\"y\":[5.519904136657715,8.025218963623047,8.10363483428955,-1.4715632200241089,7.140529155731201,0.7129984498023987,0.6037929058074951,0.8653074502944946,0.7767001390457153,0.7342432141304016,3.2702434062957764,3.4245495796203613],\"yaxis\":\"y\",\"type\":\"scatter\"},{\"customdata\":[[\" 118.0\",\" 50.0\",\" 2.8\",\" 0.0\",\" 7.0\"],[\" 78.0\",\" 50.0\",\" 5.3\",\" 0.0\",\" 8.9\"],[\" 140.0\",\" 120.0\",\" 25.0\",\" 0.0\",\" 6.1\"],[\" 128.0\",\" 60.0\",\" 19.0\",\" 0.0\",\" 5.1\"],[\" 253.0\",\" 113.0\",\" 42.0\",\" 0.0\",\" 17.0\"],[\" 90.0\",\" 80.0\",\" 4.8\",\" 0.0\",\" 11.0\"],[\" 187.0\",\" 80.0\",\" 10.0\",\" 0.0\",\" 9.8\"],[\" 158.0\",\" 113.5\",\" 8.7\",\" 0.0\",\" 15.0\"],[\" 206.0\",\" 100.0\",\" 4.1\",\" 0.0\",\" 13.0\"],[\" 420.0\",\" 100.0\",\" 4.4\",\" 0.0\",\" 28.0\"],[\" 209.0\",\" 115.0\",\" 5.3\",\" 0.0\",\" 20.0\"],[\" 114.0\",\" 60.0\",\" 4.5\",\" 0.0\",\" 7.6\"],[\" 170.0\",\" 80.0\",\" 4.6\",\" 0.0\",\" 12.0\"],[\" 134.0\",\" 60.0\",\" 5.9\",\" 0.0\",\" 7.3\"],[\" 237.0\",\" 134.0\",\" 29.0\",\" 0.0\",\" 16.0\"],[\" 115.0\",\" 60.0\",\" 13.0\",\" 0.0\",\" 8.9\"],[\" 118.0\",\" 60.0\",\" 11.0\",\" 0.0\",\" 6.0\"],[\" 118.0\",\" 60.0\",\" 11.0\",\" 0.0\",\" 6.0\"],[\" 197.0\",\" 80.0\",\" 10.0\",\" 0.0\",\" 11.0\"],[\" 309.0\",\" 115.0\",\" 45.0\",\" 0.0\",\" 7.0\"],[\" 127.0\",\" 90.0\",\" 23.0\",\" 0.0\",\" 3.1\"],[\" 150.0\",\" 50.0\",\" 10.0\",\" 0.0\",\" 25.0\"],[\" 120.0\",\" 90.0\",\" 17.0\",\" 0.0\",\" 5.4\"],[\" 171.0\",\" 90.0\",\" 28.0\",\" 0.0\",\" 3.4\"],[\" 196.0\",\" 100.0\",\" 9.7\",\" 0.0\",\" 19.0\"],[\" 146.0\",\" 63.0\",\" 7.0\",\" 0.0\",\" 12.3\"],[\" 80.0\",\" 70.0\",\" 4.4\",\" 0.0\",\" 8.2\"],[\" 301.0\",\" 67.0\",\" 40.0\",\" 0.0\",\" 8.9\"],[\" 192.0\",\" 90.0\",\" 26.0\",\" 0.0\",\" 7.7\"],[\" 210.0\",\" 90.0\",\" 29.0\",\" 0.0\",\" 10.0\"],[\" 110.0\",\" 60.0\",\" 8.9\",\" 0.0\",\" 4.3\"],[\" 62.0\",\" 50.0\",\" 1.0\",\" 0.0\",\" 10.0\"],[\" 266.0\",\" 80.0\",\" 26.0\",\" 0.0\",\" 27.0\"],[\" 266.0\",\" 80.0\",\" 26.0\",\" 0.0\",\" 27.0\"]],\"hovertemplate\":\"<b>%{hovertext}</b><br><br>Classification (Label)=MEAT 1<br>Kcal =%{customdata[0]}<br>Serving Size =%{customdata[1]}<br>Carbohydrate =%{customdata[2]}<br>Sugars =%{customdata[3]}<br>Proteins =%{customdata[4]}<extra></extra>\",\"hovertext\":[\"Hamburguer de Soja Goshen\",\"Hamburguer de Soja Vegano Goshen\",\"Hamburguer de Quinoa Mr Veggy\",\"Hamburguer de lentil Mr Veggy\",\"Hamburguer vegano falafel amazonika mundi\",\"Hamburguer Vegetal Verdali\",\"VegBurger Sabor Carne\",\"Burger Gourmet Superbom\",\"Hamburguer Incr\\u00edvel Seara\",\"Not Burguer Notco\",\"Hamburguer de Fibra de Caju Amazonika Mundi\",\"Hamburguer Vegabom\",\"Hamburguer de Carne Veg  e Tal Sadia\",\"Hamburger New Butchers\",\"Hamburguer de Legumes Mr Veggy\",\"Hamburguer Vegetariano Mr Veggy\",\"Hambuguer Mr Veggy Mari Mari\",\"Hambuguer Mr Veggy Mari Mari Churrrasco\",\"Hamb\\u00farguer Fazenda Futuro 2.0\",\"Hamb\\u00farguer Vegano de Quinoa Amazonika Mundi\",\"Hamburguer Veggie Roots Tempero Indiano\",\"Hamb\\u00farguer Sora Carne Vermelha \",\"Hamburguer Veggie Roots brazilianspices\",\"Hamburguer veggie roots tempero mexicano\",\"Hamburguer de Soja Sabor Carne Vegway\",\"Vegway Breaded Soy Burguer \",\"Hamburguer Vegetal Superbom\",\"Hamburguer de chickpea Mr Veggy\",\"Hamburguer Veggie Roots Tempero \\u00c1rabe\",\"Hamburguer Veggie Roots Tempero Tailand\\u00eas\",\"Hamburguer Vegabom\",\"Hamb\\u00farguer Pronto Saud\\u00e1vel Sora\",\"hamburguer vegetal com herbs jasmine\",\"Hamburguer Vegetal Tradicional Jasmine\"],\"legendgroup\":\"MEAT 1\",\"marker\":{\"color\":\"#FFA15A\",\"symbol\":\"circle\"},\"mode\":\"markers\",\"name\":\"MEAT 1\",\"orientation\":\"v\",\"showlegend\":true,\"x\":[7.677639484405518,7.521206855773926,8.475910186767578,7.63149881362915,8.228262901306152,7.140902042388916,8.12600040435791,8.785204887390137,3.087810754776001,7.660044193267822,7.997918128967285,6.086283206939697,9.599968910217285,7.714219093322754,6.603470802307129,6.528453826904297,6.573237419128418,6.599428176879883,5.741560935974121,8.037919998168945,9.035405158996582,9.535209655761719,8.928520202636719,8.768399238586426,11.421201705932617,11.24845027923584,11.130268096923828,7.609628200531006,8.891794204711914,8.865142822265625,6.412501335144043,9.484854698181152,9.305182456970215,9.340330123901367],\"xaxis\":\"x\",\"y\":[1.3683288097381592,1.2610405683517456,8.015610694885254,7.870430946350098,7.641106605529785,6.867415428161621,7.396397113800049,5.933901786804199,7.114365100860596,8.48224925994873,8.118712425231934,8.028985023498535,6.917380332946777,7.722373962402344,7.497017860412598,7.486770153045654,7.483710289001465,7.486030578613281,5.5110087394714355,7.482608795166016,5.452723026275635,2.9635744094848633,5.16855001449585,5.198157787322998,-1.4343230724334717,-1.2680810689926147,-1.109256386756897,7.973084926605225,5.265588283538818,5.120410919189453,7.770328044891357,4.737029075622559,4.413137912750244,4.4586076736450195],\"yaxis\":\"y\",\"type\":\"scatter\"},{\"customdata\":[[\" 150.0\",\" 50.0\",\" 10.0\",\" 0.0\",\" 25.0\"],[\" 189.0\",\" 80.0\",\" 11.0\",\" 0.0\",\" 9.8\"],[\" 173.0\",\" 80.0\",\" 3.6\",\" 0.0\",\" 13.0\"],[\" 129.0\",\" 100.0\",\" 2.4\",\" 0.0\",\" 7.0\"],[\" 96.0\",\" 80.0\",\" 4.8\",\" 0.0\",\" 11.0\"]],\"hovertemplate\":\"<b>%{hovertext}</b><br><br>Classification (Label)=POULTRY 2<br>Kcal =%{customdata[0]}<br>Serving Size =%{customdata[1]}<br>Carbohydrate =%{customdata[2]}<br>Sugars =%{customdata[3]}<br>Proteins =%{customdata[4]}<extra></extra>\",\"hovertext\":[\"Hamb\\u00farguer Sora Carne Branca\",\"VegBurger Sabor Frango\",\"Hambuguer Incr\\u00edvel Seara Frango\",\"Frango Vegano em Peda\\u00e7os \\u00e0 Base de pea\",\"Hamb\\u00farguer de Frango Verdali\"],\"legendgroup\":\"POULTRY 2\",\"marker\":{\"color\":\"#19D3F3\",\"symbol\":\"circle\"},\"mode\":\"markers\",\"name\":\"POULTRY 2\",\"orientation\":\"v\",\"showlegend\":true,\"x\":[9.534845352172852,8.082284927368164,3.1186747550964355,8.186006546020508,7.337191581726074],\"xaxis\":\"x\",\"y\":[2.892932653427124,7.3853888511657715,7.088964462280273,7.422741889953613,6.49111270904541],\"yaxis\":\"y\",\"type\":\"scatter\"},{\"customdata\":[[\" 116.0\",\" 60.0\",\" 2.9\",\" 0.0\",\" 7.9\"],[\" 116.0\",\" 60.0\",\" 2.9\",\" 0.0\",\" 7.9\"],[\" 198.0\",\" 100.0\",\" 14.0\",\" 0.0\",\" 15.0\"],[\" 449.0\",\" 130.0\",\" 31.0\",\" 0.0\",\" 12.0\"],[\" 291.0\",\" 130.0\",\" 29.0\",\" 0.0\",\" 17.0\"],[\" 127.0\",\" 40.0\",\" 4.9\",\" 0.0\",\" 6.5\"],[\" 94.0\",\" 40.0\",\" 3.4\",\" 0.0\",\" 6.7\"],[\" 61.0\",\" 40.0\",\" 3.0\",\" 0.0\",\" 7.2\"],[\" 330.0\",\" 130.0\",\" 32.0\",\" 0.0\",\" 13.0\"],[\" 210.0\",\" 80.0\",\" 32.0\",\" 0.0\",\" 8.0\"],[\" 178.0\",\" 130.0\",\" 21.5\",\" 0.0\",\" 13.4\"],[\" 110.0\",\" 80.0\",\" 13.0\",\" 0.0\",\" 8.5\"],[\" 188.0\",\" 100.0\",\" 24.0\",\" 0.0\",\" 13.0\"],[\" 188.0\",\" 100.0\",\" 24.0\",\" 0.0\",\" 13.0\"]],\"hovertemplate\":\"<b>%{hovertext}</b><br><br>Classification (Label)=POULTRY 1<br>Kcal =%{customdata[0]}<br>Serving Size =%{customdata[1]}<br>Carbohydrate =%{customdata[2]}<br>Sugars =%{customdata[3]}<br>Proteins =%{customdata[4]}<extra></extra>\",\"hovertext\":[\"Empanado de Frango Vegabom\",\"Fil\\u00e9 de Frango Empanado Vegabom\",\"Empanados de Frango Vegway\",\"Empanados Incr\\u00edveis Seara\",\"Empanados Sadia Veg e Tal\",\"Empanadinho de Soja  Goshen\",\"Empanadinho de Soja Vegano  Goshen\",\"Steak de Soja Vegano Goshen\",\"Empanado Vegano (Mini Crispy) 100 Foods\",\"Crispy Chicken 100 Foods\",\"Mini Empanado de Legumes Superbom\",\"Steak Vegan Sabor Legumes Superbom\",\"Steak Veg\\u00ea Sabor Frango\",\"Steak Veg\\u00ea Sabor Frango Empanado\"],\"legendgroup\":\"POULTRY 1\",\"marker\":{\"color\":\"#FF6692\",\"symbol\":\"circle\"},\"mode\":\"markers\",\"name\":\"POULTRY 1\",\"orientation\":\"v\",\"showlegend\":true,\"x\":[5.529266357421875,5.501885414123535,11.318103790283203,3.4262659549713135,3.436476945877075,7.593237400054932,7.421123504638672,7.450461387634277,6.588489055633545,6.521859645843506,7.921702861785889,7.9655375480651855,8.607893943786621,8.478371620178223],\"xaxis\":\"x\",\"y\":[8.220979690551758,8.231860160827637,-1.3412147760391235,6.993234634399414,6.991929531097412,1.2621824741363525,1.257551670074463,1.0823290348052979,6.598904132843018,6.574555397033691,8.564118385314941,8.485596656799316,5.669277191162109,5.830406188964844],\"yaxis\":\"y\",\"type\":\"scatter\"},{\"customdata\":[[\" 116.0\",\" 60.0\",\" 3.6\",\" 0.0\",\" 7.5\"],[\" 116.0\",\" 60.0\",\" 3.6\",\" 0.0\",\" 7.5\"],[\" 206.0\",\" 100.0\",\" 28.0\",\" 0.0\",\" 8.0\"],[\" 41.0\",\" 40.0\",\" 7.0\",\" 0.0\",\" 1.6\"],[\" 82.0\",\" 30.0\",\" 3.5\",\" 0.0\",\" 4.0\"]],\"hovertemplate\":\"<b>%{hovertext}</b><br><br>Classification (Label)=FISH 2<br>Kcal =%{customdata[0]}<br>Serving Size =%{customdata[1]}<br>Carbohydrate =%{customdata[2]}<br>Sugars =%{customdata[3]}<br>Proteins =%{customdata[4]}<extra></extra>\",\"hovertext\":[\"Fil\\u00e9 Peixe Empanado Vegabom\",\"Tirinhas de Peixe Empanado Vegabom\",\"Bolinho de Bacalhau New Butchers\",\"Bolinho de Siri Amazonika Mundi\",\"Camar\\u00e3o de Soja Vegano Goshen\"],\"legendgroup\":\"FISH 2\",\"marker\":{\"color\":\"#B6E880\",\"symbol\":\"circle\"},\"mode\":\"markers\",\"name\":\"FISH 2\",\"orientation\":\"v\",\"showlegend\":true,\"x\":[5.5560221672058105,5.564987659454346,7.646231174468994,9.38487434387207,7.115075588226318],\"xaxis\":\"x\",\"y\":[8.171162605285645,8.156167030334473,7.325232982635498,5.002847671508789,0.8528881072998047],\"yaxis\":\"y\",\"type\":\"scatter\"},{\"customdata\":[[\" 124.0\",\" 50.0\",\" 5.1\",\" 0.0\",\" 0.0\"],[\" 124.0\",\" 50.0\",\" 5.1\",\" 0.0\",\" 0.0\"],[\" 124.0\",\" 50.0\",\" 5.1\",\" 0.0\",\" 0.0\"],[\" 31.0\",\" 10.0\",\" 0.6\",\" 0.0\",\" 0.3\"],[\" 25.0\",\" 10.0\",\" 0.7\",\" 0.0\",\" 0.3\"],[\" 29.0\",\" 10.0\",\" 0.7\",\" 0.0\",\" 0.3\"],[\" 30.0\",\" 10.0\",\" 0.7\",\" 0.0\",\" 0.3\"],[\" 178.0\",\" 100.0\",\" 8.7\",\" 0.0\",\" 8.4\"],[\" 178.0\",\" 100.0\",\" 8.7\",\" 0.0\",\" 8.4\"],[\" 280.0\",\" 100.0\",\" 23.3\",\" 0.0\",\" 3.0\"],[\" 170.0\",\" 100.0\",\" 6.0\",\" 0.0\",\" 4.7\"],[\" 170.0\",\" 100.0\",\" 6.0\",\" 0.0\",\" 4.7\"],[\" 82.0\",\" 30.0\",\" 2.7\",\" 0.0\",\" 1.5\"],[\" 83.0\",\" 30.0\",\" 2.9\",\" 0.0\",\" 1.5\"],[\" 95.0\",\" 30.0\",\" 9.1\",\" 0.0\",\" 2.0\"],[\" 89.0\",\" 30.0\",\" 8.2\",\" 0.0\",\" 1.9\"],[\" 93.0\",\" 30.0\",\" 8.8\",\" 0.0\",\" 1.9\"],[\" 83.0\",\" 30.0\",\" 2.3\",\" 0.0\",\" 1.6\"],[\" 83.0\",\" 30.0\",\" 2.3\",\" 0.0\",\" 1.6\"],[\" 83.0\",\" 30.0\",\" 2.3\",\" 0.0\",\" 1.6\"],[\" 581.0\",\" 100.0\",\" 30.2\",\" 0.0\",\" 18.2\"],[\" 581.0\",\" 100.0\",\" 30.2\",\" 0.0\",\" 18.2\"],[\" 59.0\",\" 30.0\",\" 2.0\",\" 0.0\",\" 0.9\"],[\" 43.0\",\" 30.0\",\" 1.2\",\" 0.0\",\" 0.8\"],[\" 100.0\",\" 30.0\",\" 5.4\",\" 0.0\",\" 2.9\"],[\" 43.0\",\" 30.0\",\" 1.2\",\" 0.0\",\" 0.8\"],[\" 394.0\",\" 100.0\",\" 23.0\",\" 0.0\",\" 13.0\"],[\" 30.0\",\" 12.0\",\" 3.0\",\" 0.0\",\" 0.7\"],[\" 62.8\",\" 20.0\",\" 3.6\",\" 0.0\",\" 2.0\"],[\" 57.1\",\" 20.0\",\" 3.4\",\" 0.0\",\" 1.9\"],[\" 68.4\",\" 20.0\",\" 3.8\",\" 0.0\",\" 2.1\"],[\" 62.8\",\" 20.0\",\" 3.6\",\" 0.0\",\" 2.0\"],[\" 89.0\",\" 30.0\",\" 6.4\",\" 0.0\",\" 0.0\"],[\" 72.0\",\" 30.0\",\" 2.9\",\" 0.0\",\" 1.0\"],[\" 58.0\",\" 30.0\",\" 3.5\",\" 0.0\",\" 1.0\"],[\" 71.0\",\" 30.0\",\" 2.8\",\" 0.0\",\" 0.9\"],[\" 78.0\",\" 30.0\",\" 3.4\",\" 0.0\",\" 1.0\"],[\" 76.0\",\" 30.0\",\" 3.4\",\" 0.0\",\" 0.9\"],[\" 36.0\",\" 15.0\",\" 1.0\",\" 0.0\",\" 0.3\"],[\" 38.0\",\" 10.0\",\" 0.8\",\" 0.0\",\" 0.3\"],[\" 51.0\",\" 15.0\",\" 3.8\",\" 0.0\",\" 0.7\"],[\" 36.0\",\" 15.0\",\" 1.2\",\" 0.0\",\" 0.4\"],[\" 47.0\",\" 15.0\",\" 2.8\",\" 0.0\",\" 0.1\"],[\" 47.0\",\" 15.0\",\" 2.8\",\" 0.0\",\" 0.1\"],[\" 49.0\",\" 15.0\",\" 3.1\",\" 0.0\",\" 0.1\"]],\"hovertemplate\":\"<b>%{hovertext}</b><br><br>Classification (Label)=DAIRY 3<br>Kcal =%{customdata[0]}<br>Serving Size =%{customdata[1]}<br>Carbohydrate =%{customdata[2]}<br>Sugars =%{customdata[3]}<br>Proteins =%{customdata[4]}<extra></extra>\",\"hovertext\":[\"Queijo Mu\\u00e7arela Vegabom\",\"Queijo Picante Vegabom\",\"Queijo Cheddar Vegabom\",\"Requeisoy Provolone \",\"Requeisoy Cheddar' \",\"Requeisoy Tradicional\",\"Requeisoy Gorgonzola\",\"Okeijo R\\u00fastico\",\"Okeijo Cremoso\",\"Okeijo Gratinado\",\"Okeijo Mussarela\",\"Okeijo Provolone\",\"Creme s Vida Veg\",\"Creme s fineherbs e Pesto\",\"Queijo mu\\u00e7arela\",\"Queijo minas frescal\",\"Queijo minas padr\\u00e3o\",\"Requeij\\u00e3o Tradicional\",\"Requeij\\u00e3o fineherbs\",\"Requeij\\u00e3o Defumado\",\"Queijo Zimurisku \",\"Queijo Zimurisku Temperado\",\"Queijo Mozarela NoMoo\",\"Queijo Provolone\",\"Queijo Ch\\u00e9vre\",\"Queijo Prato\",\"Queijo Parmes\\u00e3o\",\"Requeij\\u00e3o Nomoo\",\"Queijo Gorgolino\",\"Queijo Melhor Que Cheddar\",\"Queijo Recaishow\",\"Queijo Brie\",\"Mussarela Vegana Goshen\",\"Queijo ProVolone Veganita\",\"Queijo Munster Veganita\",\"Queijo Brie Veganita\",\"Queijo Mussarela Veganita\",\"Queijo Cheddar Veganita\",\"CREAM CHEESE CULIN\\u00c1RIO BASI.CO\",\"REQUEIJ\\u00c3O VEGETAL\",\"QUEIJO PARMES\\u00c3O\",\"QUEIJO MINAS VEGETAL\",\"QUEIJO PRATO\",\"QUEIJO MU\\u00c7ARELA\",\"QUEIJO CHEDDAR\"],\"legendgroup\":\"DAIRY 3\",\"marker\":{\"color\":\"#FF97FF\",\"symbol\":\"circle\"},\"mode\":\"markers\",\"name\":\"DAIRY 3\",\"orientation\":\"v\",\"showlegend\":true,\"x\":[7.306530475616455,7.338717460632324,7.286956787109375,8.689666748046875,8.668678283691406,8.811868667602539,8.693947792053223,8.275505065917969,8.537108421325684,8.342976570129395,8.453734397888184,8.374310493469238,10.313155174255371,10.22295093536377,10.293712615966797,10.279147148132324,10.251605033874512,10.353622436523438,10.325389862060547,10.304349899291992,7.487653732299805,7.522737503051758,4.501224517822266,4.494626045227051,4.3988823890686035,4.61700963973999,4.311164855957031,4.705439567565918,4.868810176849365,4.9959306716918945,4.84865665435791,4.43811559677124,8.177160263061523,4.2695746421813965,4.296960353851318,4.276673793792725,4.238796234130859,4.257848262786865,9.71381950378418,9.802104949951172,9.458895683288574,10.017138481140137,9.628898620605469,9.576908111572266,9.6126070022583],\"xaxis\":\"x\",\"y\":[7.665741443634033,7.685108184814453,7.679059028625488,8.130175590515137,8.178919792175293,8.309077262878418,8.19436264038086,7.010890960693359,6.8598313331604,7.282958984375,6.9827961921691895,6.9374308586120605,5.925766944885254,5.88438606262207,6.07578706741333,6.025977611541748,6.070066452026367,5.637975692749023,5.55681037902832,5.52023983001709,8.504110336303711,8.510821342468262,12.238816261291504,12.39532470703125,12.203749656677246,12.167174339294434,12.162269592285156,12.112035751342773,11.944759368896484,11.934585571289062,12.06282901763916,11.862066268920898,7.785213470458984,12.07377815246582,12.169511795043945,12.153502464294434,12.232253074645996,12.141916275024414,6.296989440917969,6.3453569412231445,5.656144142150879,6.255341529846191,5.598834037780762,5.5430097579956055,5.490408897399902],\"yaxis\":\"y\",\"type\":\"scatter\"},{\"customdata\":[[\" 146.0\",\" 90.0\",\" 12.1\",\" 0.0\",\" 11.9\"],[\" 327.0\",\" 240.0\",\" 41.0\",\" 0.0\",\" 11.0\"],[\" 317.0\",\" 100.0\",\" 17.0\",\" 0.0\",\" 13.0\"],[\" 153.0\",\" 100.0\",\" 12.0\",\" 0.0\",\" 6.0\"],[\" 138.0\",\" 100.0\",\" 19.0\",\" 0.0\",\" 2.0\"],[\" 304.0\",\" 300.0\",\" 19.0\",\" 0.0\",\" 21.0\"],[\" 440.0\",\" 130.0\",\" 31.0\",\" 0.0\",\" 12.0\"],[\" 166.0\",\" 80.0\",\" 7.1\",\" 0.0\",\" 12.0\"]],\"hovertemplate\":\"<b>%{hovertext}</b><br><br>Classification (Label)=FISH 1<br>Kcal =%{customdata[0]}<br>Serving Size =%{customdata[1]}<br>Carbohydrate =%{customdata[2]}<br>Sugars =%{customdata[3]}<br>Proteins =%{customdata[4]}<extra></extra>\",\"hovertext\":[\"Fil\\u00e9 de saltm\\u00e3o New Butchers\",\"Bacalhau New  Butchers\",\"Vegway Fish Fillet\",\"Vegway Fish Fillet\",\"Vegway Soy Scallop \",\"Bacalhau Incr\\u00edvel Seara\",\"Iscas de Peixe Incr\\u00edvel Seara\",\"Atum do Futuro\"],\"legendgroup\":\"FISH 1\",\"marker\":{\"color\":\"#FECB52\",\"symbol\":\"circle\"},\"mode\":\"markers\",\"name\":\"FISH 1\",\"orientation\":\"v\",\"showlegend\":true,\"x\":[7.784532070159912,7.5956268310546875,11.346565246582031,11.289019584655762,11.373516082763672,3.1020119190216064,3.41359281539917,8.266324996948242],\"xaxis\":\"x\",\"y\":[7.514146327972412,7.248039722442627,-1.3742430210113525,-1.3075668811798096,-1.384533405303955,7.151303291320801,7.001148223876953,7.826187610626221],\"yaxis\":\"y\",\"type\":\"scatter\"},{\"customdata\":[[\" 78.0\",\" 40.0\",\" 3.9\",\" 0.0\",\" 7.4\"],[\" 185.0\",\" 60.0\",\" 31.0\",\" 0.0\",\" 1.1\"],[\" 34.0\",\" 20.0\",\" 0.2\",\" 0.0\",\" 3.4\"],[\" 75.0\",\" 40.0\",\" 3.6\",\" 0.0\",\" 7.6\"],[\" 35.0\",\" 20.0\",\" 0.4\",\" 0.0\",\" 3.9\"],[\" 476.0\",\" 100.0\",\" 14.0\",\" 0.0\",\" 42.0\"]],\"hovertemplate\":\"<b>%{hovertext}</b><br><br>Classification (Label)=PORK 2<br>Kcal =%{customdata[0]}<br>Serving Size =%{customdata[1]}<br>Carbohydrate =%{customdata[2]}<br>Sugars =%{customdata[3]}<br>Proteins =%{customdata[4]}<extra></extra>\",\"hovertext\":[\"Vegway Soy Ham \",\"Bacon Vegano\",\"Mortadela de Soja Vegana Goshen\",\"Presunto de Soja Defumado\",\"Presunto de Soja Vegano Fatiado Goshen\",\"Bacon Crispy Verdali\"],\"legendgroup\":\"PORK 2\",\"marker\":{\"color\":\"rgb(127, 60, 141)\",\"symbol\":\"circle\"},\"mode\":\"markers\",\"name\":\"PORK 2\",\"orientation\":\"v\",\"showlegend\":true,\"x\":[11.21300220489502,8.021929740905762,7.159081935882568,7.4520649909973145,7.1887688636779785,7.678302764892578],\"xaxis\":\"x\",\"y\":[-1.2320160865783691,7.3635640144348145,0.6339390873908997,1.1997592449188232,0.6589659452438354,5.701899528503418],\"yaxis\":\"y\",\"type\":\"scatter\"},{\"customdata\":[[\" 92.0\",\" 250.0\",\" 3.7\",\" 2.0\",\" 3.2\"],[\" 60.0\",\" 250.0\",\" 3.4\",\" 2.0\",\" 3.2\"],[\" 68.0\",\" 200.0\",\" 0.9\",\" 0.0\",\" 3.0\"],[\" 53.0\",\" 200.0\",\" 0.0\",\" 0.0\",\" 3.0\"],[\" 70.0\",\" 200.0\",\" 1.0\",\" 0.0\",\" 3.0\"],[\" 88.0\",\" 200.0\",\" 4.0\",\" 0.0\",\" 3.0\"],[\" 58.0\",\" 200.0\",\" 0.8\",\" 0.0\",\" 3.0\"],[\" 108.0\",\" 200.0\",\" 13.0\",\" 0.0\",\" 1.1\"],[\" 145.0\",\" 200.0\",\" 18.0\",\" 0.0\",\" 1.5\"],[\" 117.0\",\" 200.0\",\" 27.0\",\" 10.0\",\" 0.0\"],[\" 111.0\",\" 200.0\",\" 20.0\",\" 9.4\",\" 0.0\"],[\" 117.0\",\" 200.0\",\" 27.0\",\" 10.0\",\" 1.0\"],[\" 145.0\",\" 200.0\",\" 18.0\",\" 0.0\",\" 1.5\"],[\" 117.0\",\" 200.0\",\" 27.0\",\" 10.0\",\" 0.0\"],[\" 134.0\",\" 200.0\",\" 27.0\",\" 10.0\",\" 4.6\"],[\" 72.0\",\" 200.0\",\" 11.0\",\" 8.9\",\" 1.1\"],[\" 113.0\",\" 200.0\",\" 7.5\",\" 6.7\",\" 7.0\"],[\" 79.0\",\" 200.0\",\" 12.0\",\" 10.0\",\" 1.2\"],[\" 91.0\",\" 200.0\",\" 15.0\",\" 10.0\",\" 1.1\"],[\" 84.0\",\" 200.0\",\" 16.0\",\" 9.4\",\" 2.0\"],[\" 104.0\",\" 260.0\",\" 20.0\",\" 12.0\",\" 3.0\"],[\" 79.0\",\" 25.0\",\" 8.6\",\" 3.1\",\" 7.3\"],[\" 73.0\",\" 25.0\",\" 11.0\",\" 3.2\",\" 5.0\"],[\" 120.0\",\" 200.0\",\" 15.0\",\" 11.0\",\" 4.8\"],[\" 97.0\",\" 200.0\",\" 8.4\",\" 5.9\",\" 2.3\"],[\" 66.0\",\" 200.0\",\" 10.0\",\" 7.3\",\" 2.7\"],[\" 99.0\",\" 200.0\",\" 16.0\",\" 11.5\",\" 4.1\"],[\" 104.0\",\" 200.0\",\" 18.0\",\" 12.6\",\" 3.6\"],[\" 82.0\",\" 200.0\",\" 14.0\",\" 8.8\",\" 3.3\"],[\" 97.0\",\" 200.0\",\" 8.4\",\" 5.9\",\" 2.3\"],[\" 51.0\",\" 200.0\",\" 6.3\",\" 6.3\",\" 0.9\"],[\" 98.0\",\" 200.0\",\" 17.0\",\" 17.0\",\" 1.3\"],[\" 70.0\",\" 200.0\",\" 11.0\",\" 11.0\",\" 0.9\"],[\" 30.0\",\" 200.0\",\" 0.9\",\" 0.9\",\" 0.9\"],[\" 58.0\",\" 200.0\",\" 8.5\",\" 0.0\",\" 0.9\"],[\" 44.0\",\" 250.0\",\" 1.4\",\" 1.4\",\" 1.6\"],[\" 21.0\",\" 200.0\",\" 4.7\",\" 0.0\",\" 1.0\"],[\" 48.0\",\" 200.0\",\" 6.8\",\" 4.0\",\" 6.8\"],[\" 59.0\",\" 200.0\",\" 7.5\",\" 0.0\",\" 0.9\"],[\" 84.0\",\" 200.0\",\" 15.0\",\" 0.0\",\" 1.2\"],[\" 55.0\",\" 200.0\",\" 4.7\",\" 0.0\",\" 0.0\"],[\" 74.0\",\" 200.0\",\" 15.0\",\" 0.0\",\" 0.0\"],[\" 74.0\",\" 200.0\",\" 15.0\",\" 0.0\",\" 0.0\"],[\" 74.0\",\" 200.0\",\" 15.0\",\" 0.0\",\" 0.0\"],[\" 74.0\",\" 200.0\",\" 15.0\",\" 0.0\",\" 0.0\"],[\" 74.0\",\" 200.0\",\" 15.0\",\" 0.0\",\" 0.0\"],[\" 74.0\",\" 200.0\",\" 15.0\",\" 0.0\",\" 0.0\"],[\" 74.0\",\" 200.0\",\" 15.0\",\" 0.0\",\" 0.0\"],[\" 114.0\",\" 30.0\",\" 25.0\",\" 0.0\",\" 2.0\"],[\" 114.0\",\" 30.0\",\" 25.0\",\" 0.0\",\" 2.0\"],[\" 114.0\",\" 30.0\",\" 25.0\",\" 0.0\",\" 2.0\"],[\" 114.0\",\" 30.0\",\" 25.0\",\" 0.0\",\" 2.0\"],[\" 114.0\",\" 30.0\",\" 25.0\",\" 0.0\",\" 2.0\"],[\" 78.0\",\" 200.0\",\" 8.5\",\" 2.8\",\" 2.4\"],[\" 90.0\",\" 200.0\",\" 3.0\",\" 0.9\",\" 3.0\"],[\" 80.0\",\" 200.0\",\" 3.1\",\" 0.8\",\" 2.0\"],[\" 57.0\",\" 200.0\",\" 1.7\",\" 0.4\",\" 1.9\"],[\" 150.0\",\" 200.0\",\" 18.0\",\" 0.0\",\" 3.0\"],[\" 75.0\",\" 200.0\",\" 16.0\",\" 6.3\",\" 0.0\"],[\" 100.0\",\" 200.0\",\" 2.3\",\" 0.8\",\" 7.0\"],[\" 80.0\",\" 200.0\",\" 3.3\",\" 0.9\",\" 2.1\"],[\" 109.0\",\" 200.0\",\" 3.1\",\" 0.1\",\" 5.4\"],[\" 29.0\",\" 200.0\",\" 0.7\",\" 0.0\",\" 0.7\"],[\" 36.0\",\" 200.0\",\" 1.3\",\" 0.0\",\" 1.3\"],[\" 23.0\",\" 200.0\",\" 4.0\",\" 0.0\",\" 0.8\"],[\" 82.0\",\" 200.0\",\" 2.2\",\" 0.4\",\" 1.6\"],[\" 106.0\",\" 200.0\",\" 3.0\",\" 0.5\",\" 3.0\"],[\" 86.0\",\" 200.0\",\" 3.0\",\" 0.5\",\" 3.0\"],[\" 41.0\",\" 200.0\",\" 5.0\",\" 4.2\",\" 0.8\"],[\" 80.0\",\" 200.0\",\" 12.0\",\" 9.3\",\" 1.5\"],[\" 26.0\",\" 200.0\",\" 1.0\",\" 0.3\",\" 0.7\"],[\" 27.0\",\" 200.0\",\" 1.0\",\" 0.2\",\" 0.8\"],[\" 71.0\",\" 200.0\",\" 11.0\",\" 8.9\",\" 1.1\"],[\" 99.0\",\" 200.0\",\" 14.0\",\" 9.6\",\" 2.2\"],[\" 106.0\",\" 200.0\",\" 19.0\",\" 17.0\",\" 2.2\"],[\" 93.0\",\" 200.0\",\" 16.0\",\" 8.9\",\" 1.1\"],[\" 95.0\",\" 200.0\",\" 12.0\",\" 0.0\",\" 5.4\"],[\" 123.0\",\" 200.0\",\" 4.8\",\" 0.0\",\" 5.1\"],[\" 108.0\",\" 200.0\",\" 5.4\",\" 0.0\",\" 3.8\"],[\" 84.0\",\" 200.0\",\" 3.9\",\" 0.0\",\" 2.8\"]],\"hovertemplate\":\"<b>%{hovertext}</b><br><br>Classification (Label)=DAIRY 1<br>Kcal =%{customdata[0]}<br>Serving Size =%{customdata[1]}<br>Carbohydrate =%{customdata[2]}<br>Sugars =%{customdata[3]}<br>Proteins =%{customdata[4]}<extra></extra>\",\"hovertext\":[\"Not Milk \",\"Not Milk Semidesnatado\",\" Vegetal de almonds\",\" vegetal \",\" Vegetal de almonds Fresco\",\" Vegetal  de Caj\\u00fa Fresco\",\" Vegetal  Fresco\",\" Vegetal Noats Original\",\" Vegetal Noats Barista\",\" Jasmine rice em P\\u00f3\",\" BIOV jasmine rice com amendoas\",\" BIOV jasmine rice com coco\",\" BioV oats Jasmine\",\" Jasmine rice \",\" Jasmine rice com oats\",\"Bebida de rice Nesfit\",\"Bebida Natural Nesfit\",\"Bebida de rice  e Amendoas Nesfit\",\"Bebida de rice e Coco Nesfit\",\"Bebida de oats Nesfit\",\"Bebida de oats e cocoa\",\"Molico Vegetal Nestl\\u00e9\",\"Ninho Vegetal Nestl\\u00e9\",\"Ninho Banana e apple Nestl\\u00e9\",\"Nude Edi\\u00e7\\u00e3o Barista\",\"Nude Original \",\"Nude Sabor Baunilha\",\"Nude de cocoa\",\"Nude + calcium\",\"Nude Barista\",\"Almond Breeze Original\",\"Almond Breeze Chocolate\",\"Almond Breeze Baunilha\",\"Almond Breeze Sem sugar\",\"Almond Breeze Amendoas com Coco\",\"Almond Breeze Chocolate Sem sugar\",\" de Amendoas Silk Sem sugar\",\" de Amendoas Silk \",\" cashews Silk\",\" de almonds e cocoa Silk\",\" de almonds Silk Coco\",\"Bebida de rice L\\u00edquida Sabor Original\",\"Bebida de rice L\\u00edquida Sabor almonds\",\"Bebida de rice L\\u00edquida Sabor peanuts\\n\",\"Bebida de rice L\\u00edquida Sabor cashews\",\"Bebida de rice L\\u00edquida Sabor Chocolate\",\"Bebida de rice L\\u00edquida Sabor Coco\",\"Bebida de rice L\\u00edquida Sabor Baunilha\",\"Bebida de rice Em P\\u00f3 Sabor Original\",\"Bebida de rice Em P\\u00f3 Sabor Original\",\"Bebida de rice Em P\\u00f3 Sabor Banana e apple\",\"Bebida de rice Em P\\u00f3 Sabor Chocolate\",\"Bebida de rice Em P\\u00f3 Sabor strawberries\",\" a tal da castanha barista\",\" a tal da castanha original\",\" a tal da castanha caju + Coco\",\" a tal da castanha almonds\",\" a tal da castanha castanha + cocoa\",\" a tal da castanha oats\",\" a tal da castanha mixed nuts\",\" a tal da castanha caju + Par\\u00e1\",\" a tal da castanha caju + peanuts\",\" Natuterra oats + Coco\",\" de almonds Natuterra\",\" Natuterra oats \",\" Vegetal 3 Nuts \\u2013 macadamianuts, almonds e cashews\",\" Vegetal de macadamianuts e Coco\",\" Vegetal de macadamianuts e cashews\",\" Vegetal Possible Foods\",\" Vegetal Possible Foods Chocolate\",\"Bebida de castanh de caj\\u00fa sem adi\\u00e7\\u00e3o de sugar nature's heart\",\"Bebida de almonds s/ adi\\u00e7\\u00e3o de sugares 1L \\u2013 Nature\\u2019s Heart\",\"Bebida de rice s/ adi\\u00e7\\u00e3o de sugares 1L \\u2013 Nature\\u2019s Heart\",\"Bebida de oats s/ adi\\u00e7\\u00e3o de sugares 1L \\u2013 Nature\\u2019s Heart\",\"Bebida de cocoa & rice 1L \\u2013 Nature\\u2019s Heart\",\"Bebida  & rice s/ adi\\u00e7\\u00e3o de sugares 1L \\u2013 Nature\\u2019s Heart\",\" Vegetal de soy Naturis Batavo\",\" DUOLAT peanuts E CASTANHA 1L - CAJUEIRO\",\" 85 CASTANHAS 1L - CAJUEIRO\",\" TOASTED 1L - CAJUEIRO\"],\"legendgroup\":\"DAIRY 1\",\"marker\":{\"color\":\"rgb(17, 165, 121)\",\"symbol\":\"circle\"},\"mode\":\"markers\",\"name\":\"DAIRY 1\",\"orientation\":\"v\",\"showlegend\":true,\"x\":[8.889238357543945,8.882973670959473,7.902944087982178,7.932999610900879,7.974853992462158,8.137823104858398,7.995428562164307,10.519671440124512,10.399633407592773,9.98216438293457,8.614707946777344,10.02925968170166,10.449803352355957,10.024696350097656,10.060990333557129,9.539134979248047,8.830198287963867,8.535114288330078,8.659499168395996,9.321844100952148,9.291407585144043,8.745108604431152,8.735054016113281,8.743864059448242,10.410654067993164,10.251533508300781,10.33604621887207,10.286459922790527,10.322139739990234,10.3554105758667,12.896540641784668,12.825386047363281,12.764283180236816,12.760749816894531,12.818714141845703,12.79715347290039,8.42669677734375,8.364286422729492,8.52193832397461,8.424914360046387,8.405961990356445,10.135420799255371,10.497573852539062,10.472217559814453,10.447394371032715,10.196548461914062,10.278975486755371,10.48666000366211,8.672194480895996,8.775343894958496,8.673810958862305,8.581439018249512,8.5931978225708,10.051589012145996,9.451177597045898,8.796429634094238,9.217370986938477,8.545326232910156,9.345298767089844,8.838143348693848,8.511178970336914,7.925919055938721,9.036783218383789,9.0925874710083,9.267721176147461,8.423072814941406,7.883118629455566,8.611311912536621,9.358674049377441,9.424019813537598,10.69884204864502,10.651583671569824,10.730596542358398,10.698234558105469,10.6998291015625,10.72667121887207,8.342486381530762,8.359890937805176,9.479755401611328,9.137489318847656],\"xaxis\":\"x\",\"y\":[7.433128833770752,7.388403415679932,9.991613388061523,9.990311622619629,9.909734725952148,9.681290626525879,9.876585960388184,6.812008380889893,6.7662482261657715,4.838674545288086,7.379491329193115,4.831033229827881,6.908203601837158,4.818436145782471,4.882554054260254,7.900017738342285,7.6788740158081055,7.473277568817139,7.550154209136963,7.816055774688721,7.774233818054199,4.770022392272949,4.759892463684082,4.750245094299316,6.795353889465332,6.945369243621826,6.949870586395264,6.976847171783447,6.904017448425293,6.864357948303223,4.9845991134643555,4.893728256225586,4.834011554718018,4.8435282707214355,4.8373942375183105,4.881133079528809,9.066614151000977,9.013347625732422,9.099607467651367,9.204548835754395,9.071778297424316,7.974648952484131,8.329960823059082,8.292879104614258,8.288135528564453,8.135087013244629,8.061479568481445,8.240450859069824,4.17947244644165,4.260098457336426,4.128355979919434,4.0327043533325195,4.074870586395264,7.0628180503845215,4.989248752593994,7.712023735046387,5.291005611419678,7.783649921417236,7.238936901092529,7.620282173156738,7.466231822967529,7.731250286102295,7.143957614898682,7.040318965911865,7.006041049957275,7.548856735229492,7.667234897613525,7.352136611938477,7.483378887176514,7.516441822052002,7.418840408325195,7.370190143585205,7.623947620391846,7.541894912719727,7.670388221740723,7.688999176025391,7.788232326507568,7.379295349121094,5.1532745361328125,4.949819087982178],\"yaxis\":\"y\",\"type\":\"scatter\"},{\"customdata\":[[\" 142.0\",\" 200.0\",\" 22.0\",\" 0.0\",\" 0.8\"],[\" 149.0\",\" 200.0\",\" 24.0\",\" 0.0\",\" 0.8\"],[\" 149.0\",\" 200.0\",\" 24.0\",\" 0.0\",\" 0.8\"],[\" 92.0\",\" 200.0\",\" 6.4\",\" 0.0\",\" 0.9\"],[\" 100.0\",\" 200.0\",\" 8.2\",\" 0.0\",\" 1.0\"],[\" 145.0\",\" 150.0\",\" 20.0\",\" 0.0\",\" 1.0\"],[\" 148.0\",\" 150.0\",\" 21.0\",\" 0.0\",\" 1.0\"],[\" 156.0\",\" 250.0\",\" 11.7\",\" 0.0\",\" 14.0\"],[\" 123.0\",\" 250.0\",\" 11.0\",\" 0.0\",\" 10.0\"],[\" 152.0\",\" 250.0\",\" 11.0\",\" 0.0\",\" 14.0\"],[\" 27.0\",\" 15.0\",\" 0.0\",\" 0.0\",\" 0.0\"]],\"hovertemplate\":\"<b>%{hovertext}</b><br><br>Classification (Label)=DAIRY 2<br>Kcal =%{customdata[0]}<br>Serving Size =%{customdata[1]}<br>Carbohydrate =%{customdata[2]}<br>Sugars =%{customdata[3]}<br>Proteins =%{customdata[4]}<extra></extra>\",\"hovertext\":[\"Iogurte \",\"Iogurte  com strawberries\",\"Iogurte  com banana, apple e papaya\",\"Iogurte  Zero sugar\",\"Iogurte  com strawberries Zero sugar\",\"Iogurte GregoVeg \",\"Iogurte GregoVeg  com strawberries\",\"Iogurte Proteico 14g sabor strawberries\",\"Shake \",\"Iogurte Proteico 14g sabor  peanuts\",\"Creme de almonds\"],\"legendgroup\":\"DAIRY 2\",\"marker\":{\"color\":\"rgb(57, 105, 172)\",\"symbol\":\"circle\"},\"mode\":\"markers\",\"name\":\"DAIRY 2\",\"orientation\":\"v\",\"showlegend\":true,\"x\":[9.301704406738281,9.426774978637695,9.363173484802246,9.251960754394531,9.392914772033691,9.194255828857422,8.910713195800781,8.75617504119873,7.822512626647949,8.859984397888184,9.425625801086426],\"xaxis\":\"x\",\"y\":[9.09249210357666,9.22528076171875,9.14876937866211,9.04872989654541,9.183653831481934,8.703232765197754,8.397518157958984,8.752915382385254,10.033761024475098,8.865370750427246,5.108985900878906],\"yaxis\":\"y\",\"type\":\"scatter\"},{\"customdata\":[[\" 28.0\",\" 12.0\",\" 1.4\",\" 0.0\",\" 2.5\"],[\" 20.0\",\" 12.0\",\" 0.0\",\" 0.0\",\" 0.0\"],[\" 70.0\",\" 12.0\",\" 0.0\",\" 0.0\",\" 0.0\"],[\" 71.0\",\" 12.0\",\" 0.6\",\" 0.0\",\" 0.0\"],[\" 57.0\",\" 12.0\",\" 0.6\",\" 0.0\",\" 0.0\"],[\" 56.0\",\" 12.0\",\" 0.6\",\" 0.0\",\" 0.0\"],[\" 33.0\",\" 12.0\",\" 0.6\",\" 0.0\",\" 0.4\"],[\" 33.0\",\" 12.0\",\" 0.6\",\" 0.0\",\" 0.4\"],[\" 33.0\",\" 12.0\",\" 0.6\",\" 0.0\",\" 0.4\"],[\" 33.0\",\" 12.0\",\" 0.6\",\" 0.0\",\" 0.4\"],[\" 33.0\",\" 12.0\",\" 0.6\",\" 0.0\",\" 0.4\"],[\" 25.0\",\" 12.0\",\" 0.0\",\" 0.0\",\" 0.0\"],[\" 21.0\",\" 12.0\",\" 0.0\",\" 0.0\",\" 0.0\"],[\" 84.0\",\" 40.0\",\" 5.2\",\" 0.0\",\" 0.5\"]],\"hovertemplate\":\"<b>%{hovertext}</b><br><br>Classification (Label)=EGG 1<br>Kcal =%{customdata[0]}<br>Serving Size =%{customdata[1]}<br>Carbohydrate =%{customdata[2]}<br>Sugars =%{customdata[3]}<br>Proteins =%{customdata[4]}<extra></extra>\",\"hovertext\":[\"MAIONESE VEGETAL SUPERBOM\",\"MAIONESE FUGINI\",\"NOT MAYO\",\"NOT MAYO garlic\",\"NOT MAYO AZEITONA\",\"NOT MAYO PICANTE\",\"MAIONESE V-MAYO\",\"MAIONESE V-MAYO ApepperDA\",\"MAIONESE V-MAYO TRUFADA\",\"MAIONESE V-MAYO DE ABACATE\",\"MAIONESE V-MAYO DE garlic\",\"MAIONESE HELLMANS\",\"MAIONESE VEGANA FUGINI\",\"MAIONESE DEL\\u00cdCIAS DE GOI\\u00c1S\"],\"legendgroup\":\"EGG 1\",\"marker\":{\"color\":\"rgb(242, 183, 1)\",\"symbol\":\"circle\"},\"mode\":\"markers\",\"name\":\"EGG 1\",\"orientation\":\"v\",\"showlegend\":true,\"x\":[9.233702659606934,9.331783294677734,8.126113891601562,8.112869262695312,8.143168449401855,8.10875129699707,10.312366485595703,10.297080993652344,10.303893089294434,10.246318817138672,10.267056465148926,9.222036361694336,9.307500839233398,8.08475399017334],\"xaxis\":\"x\",\"y\":[8.39207935333252,8.497437477111816,6.620733737945557,6.647412300109863,6.672688961029053,6.625698089599609,14.810371398925781,14.804304122924805,14.728014945983887,14.745637893676758,14.762130737304688,8.245016098022461,8.610036849975586,7.065089225769043],\"yaxis\":\"y\",\"type\":\"scatter\"},{\"customdata\":[[\" 25.0\",\" 10.0\",\" 3.3\",\" 0.0\",\" 4.1\"],[\" 28.0\",\" 7.0\",\" 1.2\",\" 0.0\",\" 3.1\"]],\"hovertemplate\":\"<b>%{hovertext}</b><br><br>Classification (Label)=EGG 2<br>Kcal =%{customdata[0]}<br>Serving Size =%{customdata[1]}<br>Carbohydrate =%{customdata[2]}<br>Sugars =%{customdata[3]}<br>Proteins =%{customdata[4]}<extra></extra>\",\"hovertext\":[\"Ovos Novos\",\"Ovos Novos\"],\"legendgroup\":\"EGG 2\",\"marker\":{\"color\":\"rgb(231, 63, 116)\",\"symbol\":\"circle\"},\"mode\":\"markers\",\"name\":\"EGG 2\",\"orientation\":\"v\",\"showlegend\":true,\"x\":[9.016929626464844,9.167899131774902],\"xaxis\":\"x\",\"y\":[4.6636552810668945,4.715259075164795],\"yaxis\":\"y\",\"type\":\"scatter\"}],                        {\"template\":{\"data\":{\"barpolar\":[{\"marker\":{\"line\":{\"color\":\"white\",\"width\":0.5},\"pattern\":{\"fillmode\":\"overlay\",\"size\":10,\"solidity\":0.2}},\"type\":\"barpolar\"}],\"bar\":[{\"error_x\":{\"color\":\"rgb(36,36,36)\"},\"error_y\":{\"color\":\"rgb(36,36,36)\"},\"marker\":{\"line\":{\"color\":\"white\",\"width\":0.5},\"pattern\":{\"fillmode\":\"overlay\",\"size\":10,\"solidity\":0.2}},\"type\":\"bar\"}],\"carpet\":[{\"aaxis\":{\"endlinecolor\":\"rgb(36,36,36)\",\"gridcolor\":\"white\",\"linecolor\":\"white\",\"minorgridcolor\":\"white\",\"startlinecolor\":\"rgb(36,36,36)\"},\"baxis\":{\"endlinecolor\":\"rgb(36,36,36)\",\"gridcolor\":\"white\",\"linecolor\":\"white\",\"minorgridcolor\":\"white\",\"startlinecolor\":\"rgb(36,36,36)\"},\"type\":\"carpet\"}],\"choropleth\":[{\"colorbar\":{\"outlinewidth\":1,\"tickcolor\":\"rgb(36,36,36)\",\"ticks\":\"outside\"},\"type\":\"choropleth\"}],\"contourcarpet\":[{\"colorbar\":{\"outlinewidth\":1,\"tickcolor\":\"rgb(36,36,36)\",\"ticks\":\"outside\"},\"type\":\"contourcarpet\"}],\"contour\":[{\"colorbar\":{\"outlinewidth\":1,\"tickcolor\":\"rgb(36,36,36)\",\"ticks\":\"outside\"},\"colorscale\":[[0.0,\"#440154\"],[0.1111111111111111,\"#482878\"],[0.2222222222222222,\"#3e4989\"],[0.3333333333333333,\"#31688e\"],[0.4444444444444444,\"#26828e\"],[0.5555555555555556,\"#1f9e89\"],[0.6666666666666666,\"#35b779\"],[0.7777777777777778,\"#6ece58\"],[0.8888888888888888,\"#b5de2b\"],[1.0,\"#fde725\"]],\"type\":\"contour\"}],\"heatmapgl\":[{\"colorbar\":{\"outlinewidth\":1,\"tickcolor\":\"rgb(36,36,36)\",\"ticks\":\"outside\"},\"colorscale\":[[0.0,\"#440154\"],[0.1111111111111111,\"#482878\"],[0.2222222222222222,\"#3e4989\"],[0.3333333333333333,\"#31688e\"],[0.4444444444444444,\"#26828e\"],[0.5555555555555556,\"#1f9e89\"],[0.6666666666666666,\"#35b779\"],[0.7777777777777778,\"#6ece58\"],[0.8888888888888888,\"#b5de2b\"],[1.0,\"#fde725\"]],\"type\":\"heatmapgl\"}],\"heatmap\":[{\"colorbar\":{\"outlinewidth\":1,\"tickcolor\":\"rgb(36,36,36)\",\"ticks\":\"outside\"},\"colorscale\":[[0.0,\"#440154\"],[0.1111111111111111,\"#482878\"],[0.2222222222222222,\"#3e4989\"],[0.3333333333333333,\"#31688e\"],[0.4444444444444444,\"#26828e\"],[0.5555555555555556,\"#1f9e89\"],[0.6666666666666666,\"#35b779\"],[0.7777777777777778,\"#6ece58\"],[0.8888888888888888,\"#b5de2b\"],[1.0,\"#fde725\"]],\"type\":\"heatmap\"}],\"histogram2dcontour\":[{\"colorbar\":{\"outlinewidth\":1,\"tickcolor\":\"rgb(36,36,36)\",\"ticks\":\"outside\"},\"colorscale\":[[0.0,\"#440154\"],[0.1111111111111111,\"#482878\"],[0.2222222222222222,\"#3e4989\"],[0.3333333333333333,\"#31688e\"],[0.4444444444444444,\"#26828e\"],[0.5555555555555556,\"#1f9e89\"],[0.6666666666666666,\"#35b779\"],[0.7777777777777778,\"#6ece58\"],[0.8888888888888888,\"#b5de2b\"],[1.0,\"#fde725\"]],\"type\":\"histogram2dcontour\"}],\"histogram2d\":[{\"colorbar\":{\"outlinewidth\":1,\"tickcolor\":\"rgb(36,36,36)\",\"ticks\":\"outside\"},\"colorscale\":[[0.0,\"#440154\"],[0.1111111111111111,\"#482878\"],[0.2222222222222222,\"#3e4989\"],[0.3333333333333333,\"#31688e\"],[0.4444444444444444,\"#26828e\"],[0.5555555555555556,\"#1f9e89\"],[0.6666666666666666,\"#35b779\"],[0.7777777777777778,\"#6ece58\"],[0.8888888888888888,\"#b5de2b\"],[1.0,\"#fde725\"]],\"type\":\"histogram2d\"}],\"histogram\":[{\"marker\":{\"line\":{\"color\":\"white\",\"width\":0.6}},\"type\":\"histogram\"}],\"mesh3d\":[{\"colorbar\":{\"outlinewidth\":1,\"tickcolor\":\"rgb(36,36,36)\",\"ticks\":\"outside\"},\"type\":\"mesh3d\"}],\"parcoords\":[{\"line\":{\"colorbar\":{\"outlinewidth\":1,\"tickcolor\":\"rgb(36,36,36)\",\"ticks\":\"outside\"}},\"type\":\"parcoords\"}],\"pie\":[{\"automargin\":true,\"type\":\"pie\"}],\"scatter3d\":[{\"line\":{\"colorbar\":{\"outlinewidth\":1,\"tickcolor\":\"rgb(36,36,36)\",\"ticks\":\"outside\"}},\"marker\":{\"colorbar\":{\"outlinewidth\":1,\"tickcolor\":\"rgb(36,36,36)\",\"ticks\":\"outside\"}},\"type\":\"scatter3d\"}],\"scattercarpet\":[{\"marker\":{\"colorbar\":{\"outlinewidth\":1,\"tickcolor\":\"rgb(36,36,36)\",\"ticks\":\"outside\"}},\"type\":\"scattercarpet\"}],\"scattergeo\":[{\"marker\":{\"colorbar\":{\"outlinewidth\":1,\"tickcolor\":\"rgb(36,36,36)\",\"ticks\":\"outside\"}},\"type\":\"scattergeo\"}],\"scattergl\":[{\"marker\":{\"colorbar\":{\"outlinewidth\":1,\"tickcolor\":\"rgb(36,36,36)\",\"ticks\":\"outside\"}},\"type\":\"scattergl\"}],\"scattermapbox\":[{\"marker\":{\"colorbar\":{\"outlinewidth\":1,\"tickcolor\":\"rgb(36,36,36)\",\"ticks\":\"outside\"}},\"type\":\"scattermapbox\"}],\"scatterpolargl\":[{\"marker\":{\"colorbar\":{\"outlinewidth\":1,\"tickcolor\":\"rgb(36,36,36)\",\"ticks\":\"outside\"}},\"type\":\"scatterpolargl\"}],\"scatterpolar\":[{\"marker\":{\"colorbar\":{\"outlinewidth\":1,\"tickcolor\":\"rgb(36,36,36)\",\"ticks\":\"outside\"}},\"type\":\"scatterpolar\"}],\"scatter\":[{\"marker\":{\"colorbar\":{\"outlinewidth\":1,\"tickcolor\":\"rgb(36,36,36)\",\"ticks\":\"outside\"}},\"type\":\"scatter\"}],\"scatterternary\":[{\"marker\":{\"colorbar\":{\"outlinewidth\":1,\"tickcolor\":\"rgb(36,36,36)\",\"ticks\":\"outside\"}},\"type\":\"scatterternary\"}],\"surface\":[{\"colorbar\":{\"outlinewidth\":1,\"tickcolor\":\"rgb(36,36,36)\",\"ticks\":\"outside\"},\"colorscale\":[[0.0,\"#440154\"],[0.1111111111111111,\"#482878\"],[0.2222222222222222,\"#3e4989\"],[0.3333333333333333,\"#31688e\"],[0.4444444444444444,\"#26828e\"],[0.5555555555555556,\"#1f9e89\"],[0.6666666666666666,\"#35b779\"],[0.7777777777777778,\"#6ece58\"],[0.8888888888888888,\"#b5de2b\"],[1.0,\"#fde725\"]],\"type\":\"surface\"}],\"table\":[{\"cells\":{\"fill\":{\"color\":\"rgb(237,237,237)\"},\"line\":{\"color\":\"white\"}},\"header\":{\"fill\":{\"color\":\"rgb(217,217,217)\"},\"line\":{\"color\":\"white\"}},\"type\":\"table\"}]},\"layout\":{\"annotationdefaults\":{\"arrowhead\":0,\"arrowwidth\":1},\"autotypenumbers\":\"strict\",\"coloraxis\":{\"colorbar\":{\"outlinewidth\":1,\"tickcolor\":\"rgb(36,36,36)\",\"ticks\":\"outside\"}},\"colorscale\":{\"diverging\":[[0.0,\"rgb(103,0,31)\"],[0.1,\"rgb(178,24,43)\"],[0.2,\"rgb(214,96,77)\"],[0.3,\"rgb(244,165,130)\"],[0.4,\"rgb(253,219,199)\"],[0.5,\"rgb(247,247,247)\"],[0.6,\"rgb(209,229,240)\"],[0.7,\"rgb(146,197,222)\"],[0.8,\"rgb(67,147,195)\"],[0.9,\"rgb(33,102,172)\"],[1.0,\"rgb(5,48,97)\"]],\"sequential\":[[0.0,\"#440154\"],[0.1111111111111111,\"#482878\"],[0.2222222222222222,\"#3e4989\"],[0.3333333333333333,\"#31688e\"],[0.4444444444444444,\"#26828e\"],[0.5555555555555556,\"#1f9e89\"],[0.6666666666666666,\"#35b779\"],[0.7777777777777778,\"#6ece58\"],[0.8888888888888888,\"#b5de2b\"],[1.0,\"#fde725\"]],\"sequentialminus\":[[0.0,\"#440154\"],[0.1111111111111111,\"#482878\"],[0.2222222222222222,\"#3e4989\"],[0.3333333333333333,\"#31688e\"],[0.4444444444444444,\"#26828e\"],[0.5555555555555556,\"#1f9e89\"],[0.6666666666666666,\"#35b779\"],[0.7777777777777778,\"#6ece58\"],[0.8888888888888888,\"#b5de2b\"],[1.0,\"#fde725\"]]},\"colorway\":[\"#1F77B4\",\"#FF7F0E\",\"#2CA02C\",\"#D62728\",\"#9467BD\",\"#8C564B\",\"#E377C2\",\"#7F7F7F\",\"#BCBD22\",\"#17BECF\"],\"font\":{\"color\":\"rgb(36,36,36)\"},\"geo\":{\"bgcolor\":\"white\",\"lakecolor\":\"white\",\"landcolor\":\"white\",\"showlakes\":true,\"showland\":true,\"subunitcolor\":\"white\"},\"hoverlabel\":{\"align\":\"left\"},\"hovermode\":\"closest\",\"mapbox\":{\"style\":\"light\"},\"paper_bgcolor\":\"white\",\"plot_bgcolor\":\"white\",\"polar\":{\"angularaxis\":{\"gridcolor\":\"rgb(232,232,232)\",\"linecolor\":\"rgb(36,36,36)\",\"showgrid\":false,\"showline\":true,\"ticks\":\"outside\"},\"bgcolor\":\"white\",\"radialaxis\":{\"gridcolor\":\"rgb(232,232,232)\",\"linecolor\":\"rgb(36,36,36)\",\"showgrid\":false,\"showline\":true,\"ticks\":\"outside\"}},\"scene\":{\"xaxis\":{\"backgroundcolor\":\"white\",\"gridcolor\":\"rgb(232,232,232)\",\"gridwidth\":2,\"linecolor\":\"rgb(36,36,36)\",\"showbackground\":true,\"showgrid\":false,\"showline\":true,\"ticks\":\"outside\",\"zeroline\":false,\"zerolinecolor\":\"rgb(36,36,36)\"},\"yaxis\":{\"backgroundcolor\":\"white\",\"gridcolor\":\"rgb(232,232,232)\",\"gridwidth\":2,\"linecolor\":\"rgb(36,36,36)\",\"showbackground\":true,\"showgrid\":false,\"showline\":true,\"ticks\":\"outside\",\"zeroline\":false,\"zerolinecolor\":\"rgb(36,36,36)\"},\"zaxis\":{\"backgroundcolor\":\"white\",\"gridcolor\":\"rgb(232,232,232)\",\"gridwidth\":2,\"linecolor\":\"rgb(36,36,36)\",\"showbackground\":true,\"showgrid\":false,\"showline\":true,\"ticks\":\"outside\",\"zeroline\":false,\"zerolinecolor\":\"rgb(36,36,36)\"}},\"shapedefaults\":{\"fillcolor\":\"black\",\"line\":{\"width\":0},\"opacity\":0.3},\"ternary\":{\"aaxis\":{\"gridcolor\":\"rgb(232,232,232)\",\"linecolor\":\"rgb(36,36,36)\",\"showgrid\":false,\"showline\":true,\"ticks\":\"outside\"},\"baxis\":{\"gridcolor\":\"rgb(232,232,232)\",\"linecolor\":\"rgb(36,36,36)\",\"showgrid\":false,\"showline\":true,\"ticks\":\"outside\"},\"bgcolor\":\"white\",\"caxis\":{\"gridcolor\":\"rgb(232,232,232)\",\"linecolor\":\"rgb(36,36,36)\",\"showgrid\":false,\"showline\":true,\"ticks\":\"outside\"}},\"title\":{\"x\":0.05},\"xaxis\":{\"automargin\":true,\"gridcolor\":\"rgb(232,232,232)\",\"linecolor\":\"rgb(36,36,36)\",\"showgrid\":false,\"showline\":true,\"ticks\":\"outside\",\"title\":{\"standoff\":15},\"zeroline\":false,\"zerolinecolor\":\"rgb(36,36,36)\"},\"yaxis\":{\"automargin\":true,\"gridcolor\":\"rgb(232,232,232)\",\"linecolor\":\"rgb(36,36,36)\",\"showgrid\":false,\"showline\":true,\"ticks\":\"outside\",\"title\":{\"standoff\":15},\"zeroline\":false,\"zerolinecolor\":\"rgb(36,36,36)\"}}},\"xaxis\":{\"anchor\":\"y\",\"domain\":[0.0,1.0],\"title\":{\"text\":\"x\"},\"visible\":false},\"yaxis\":{\"anchor\":\"x\",\"domain\":[0.0,1.0],\"title\":{\"text\":\"y\"},\"visible\":false},\"legend\":{\"title\":{\"text\":\"Classification (Label)\"},\"tracegroupgap\":0},\"margin\":{\"t\":0,\"l\":0,\"r\":0,\"b\":0},\"width\":800},                        {\"responsive\": true}                    ).then(function(){\n",
              "                            \n",
              "var gd = document.getElementById('88790add-9b62-407a-ac52-1bf1e0984988');\n",
              "var x = new MutationObserver(function (mutations, observer) {{\n",
              "        var display = window.getComputedStyle(gd).display;\n",
              "        if (!display || display === 'none') {{\n",
              "            console.log([gd, 'removed!']);\n",
              "            Plotly.purge(gd);\n",
              "            observer.disconnect();\n",
              "        }}\n",
              "}});\n",
              "\n",
              "// Listen for the removal of the full notebook cells\n",
              "var notebookContainer = gd.closest('#notebook-container');\n",
              "if (notebookContainer) {{\n",
              "    x.observe(notebookContainer, {childList: true});\n",
              "}}\n",
              "\n",
              "// Listen for the clearing of the current output cell\n",
              "var outputEl = gd.closest('.output');\n",
              "if (outputEl) {{\n",
              "    x.observe(outputEl, {childList: true});\n",
              "}}\n",
              "\n",
              "                        })                };                            </script>        </div>\n",
              "</body>\n",
              "</html>"
            ]
          },
          "metadata": {}
        }
      ]
    },
    {
      "cell_type": "code",
      "source": [
        "data_ingredients = label_data.join(ingredients_normalized)\n",
        "reducer = umap.UMAP(n_components=2,n_neighbors=80,metric='euclidean')\n",
        "X_umapI = reducer.fit_transform(X_ingredients)\n",
        "\n",
        "X_umapI[1:4, :]\n",
        "data_ingredients['x'] = X_umapI[:,0]\n",
        "data_ingredients['y'] = X_umapI[:,1]\n",
        "\n",
        "fig = px.scatter(data_ingredients, x='x', y='y', color='Classification', hover_data=[\"Description\"], width=800)\n",
        "fig.show()"
      ],
      "metadata": {
        "id": "Cb9EDEgHalMI",
        "colab": {
          "base_uri": "https://localhost:8080/",
          "height": 542
        },
        "outputId": "ea5244fc-b2fa-4047-f9b9-ba5dce6de458"
      },
      "execution_count": null,
      "outputs": [
        {
          "output_type": "display_data",
          "data": {
            "text/html": [
              "<html>\n",
              "<head><meta charset=\"utf-8\" /></head>\n",
              "<body>\n",
              "    <div>            <script src=\"https://cdnjs.cloudflare.com/ajax/libs/mathjax/2.7.5/MathJax.js?config=TeX-AMS-MML_SVG\"></script><script type=\"text/javascript\">if (window.MathJax) {MathJax.Hub.Config({SVG: {font: \"STIX-Web\"}});}</script>                <script type=\"text/javascript\">window.PlotlyConfig = {MathJaxConfig: 'local'};</script>\n",
              "        <script src=\"https://cdn.plot.ly/plotly-2.8.3.min.js\"></script>                <div id=\"fab6408f-b89f-4aac-be10-631bb3448732\" class=\"plotly-graph-div\" style=\"height:525px; width:800px;\"></div>            <script type=\"text/javascript\">                                    window.PLOTLYENV=window.PLOTLYENV || {};                                    if (document.getElementById(\"fab6408f-b89f-4aac-be10-631bb3448732\")) {                    Plotly.newPlot(                        \"fab6408f-b89f-4aac-be10-631bb3448732\",                        [{\"customdata\":[[\"Carne Mo\\u00edda do Futuro\"],[\"Almondegas de Soja Vegway\"],[\"Almondegas Amazonika Mundi\"],[\"Kibe Incr\\u00edvel Seara\"],[\"Almondegas Incr\\u00edveis Seara\"],[\"Almondegas Mr Veggy\"],[\"Carne Mo\\u00edda Superbom\"],[\"Carne Vegetal Mo\\u00edda Superbom\"],[\"Carne Mo\\u00edda Vegetal Verdali\"]],\"hovertemplate\":\"Classification=MEAT 2<br>x=%{x}<br>y=%{y}<br>Product's Name=%{customdata[0]}<extra></extra>\",\"legendgroup\":\"MEAT 2\",\"marker\":{\"color\":\"#636efa\",\"symbol\":\"circle\"},\"mode\":\"markers\",\"name\":\"MEAT 2\",\"orientation\":\"v\",\"showlegend\":true,\"x\":[-0.5611647963523865,-0.3456225097179413,-1.1743896007537842,0.14251653850078583,0.4719699025154114,-0.8321369290351868,-2.9269144535064697,-0.8657256364822388,-1.8105930089950562],\"xaxis\":\"x\",\"y\":[15.987846374511719,13.850318908691406,16.515625,17.29527473449707,17.655275344848633,16.11526107788086,14.942795753479004,15.769664764404297,16.21595001220703],\"yaxis\":\"y\",\"type\":\"scatter\"},{\"customdata\":[[\"Carne Mo\\u00edda do Futuro\"],[\"Fil\\u00e9s Sora Carne Vermelha\"],[\"Fatias Sora Carne Vermelha\"],[\"Fil\\u00e9 Pronto Saud\\u00e1vel Sora\"],[\"Carne Mo\\u00edda Pronto Saud\\u00e1vel Sora\"],[\"Churrasco Vegabom\"],[\"Churrasco Aoniondo Vegabom\"],[\"Carne de Pernil Seara\"],[\"Alm\\u00f4ndega de Soja Vegana Goshen\"],[\"Bife de Soja Vegano Goshen\"],[\"Alm\\u00f4ndega Vegana Superbom\"],[\"Bife Vegetal Superbom\"],[\"Escalope ao Molho Caseiro Superbom\"],[\"Cubinhos ao Molho Mexicano Superbom\"],[\"Alm\\u00f4ndegas ao Molho Sugo Superbom\"],[\"Medalh\\u00e3o ao Molho Madeira Superbom\"],[\"Mignon Verdali\"],[\"Steak Verdali\"]],\"hovertemplate\":\"Classification=MEAT 3<br>x=%{x}<br>y=%{y}<br>Product's Name=%{customdata[0]}<extra></extra>\",\"legendgroup\":\"MEAT 3\",\"marker\":{\"color\":\"#EF553B\",\"symbol\":\"circle\"},\"mode\":\"markers\",\"name\":\"MEAT 3\",\"orientation\":\"v\",\"showlegend\":true,\"x\":[-0.35597091913223267,-1.7910547256469727,-1.6173056364059448,-2.5581705570220947,-2.5486199855804443,-0.23549309372901917,-0.31220653653144836,0.4215952157974243,-0.16880491375923157,0.2930348217487335,-2.9236083030700684,-1.6344434022903442,-1.8600010871887207,-1.8390251398086548,-0.5052274465560913,-0.5562281012535095,-1.9208946228027344,-1.7629380226135254],\"xaxis\":\"x\",\"y\":[15.963292121887207,17.22509765625,16.908729553222656,17.452333450317383,17.348148345947266,16.439775466918945,16.498926162719727,17.60277557373047,14.916797637939453,15.013641357421875,14.825684547424316,17.061237335205078,16.432771682739258,16.569067001342773,15.562360763549805,15.349441528320312,16.38858413696289,16.17275619506836],\"yaxis\":\"y\",\"type\":\"scatter\"},{\"customdata\":[[\"Frango do Futuro\"],[\"Fatias Sora Carne Branca\"],[\"Fil\\u00e9s Sora Carne Branca\"],[\"Strogonoff de Frango Vegabom\"],[\"Tiras de Frango New Butchers\"],[\"Fil\\u00e9 de Frango Desfiado Vegway\"],[\"Frango Veg e Tal Sadia\"],[\"Frango Veg e Tal Sadia Desfiado\"],[\"Peito de Peru de Soja\"],[\"Peito de Peru de Soja Vegano\"],[\"Tiras de Ave Verdali\"],[\"Fil\\u00e9 sem Frango Verdali\"],[\"Mini Fil\\u00e9 de Frango Verdali\"]],\"hovertemplate\":\"Classification=POULTRY 3<br>x=%{x}<br>y=%{y}<br>Product's Name=%{customdata[0]}<extra></extra>\",\"legendgroup\":\"POULTRY 3\",\"marker\":{\"color\":\"#00cc96\",\"symbol\":\"circle\"},\"mode\":\"markers\",\"name\":\"POULTRY 3\",\"orientation\":\"v\",\"showlegend\":true,\"x\":[-0.42602434754371643,-1.5530215501785278,-1.6977825164794922,-0.3427433669567108,-3.422287702560425,-0.2304680496454239,-2.0369796752929688,-1.8160990476608276,0.5880284905433655,0.2676551342010498,-1.4845548868179321,-1.8889693021774292,-2.078516960144043],\"xaxis\":\"x\",\"y\":[16.03352165222168,17.22582244873047,17.234830856323242,16.5427188873291,14.781445503234863,14.165459632873535,13.51474666595459,13.537057876586914,15.094557762145996,15.34409236907959,16.2479248046875,15.981666564941406,15.945086479187012],\"yaxis\":\"y\",\"type\":\"scatter\"},{\"customdata\":[[\"Lingui\\u00e7a do Futuro\"],[\"Lingui\\u00e7a calabresa vegabom\"],[\"saltsicha de chickpea Vegabom\"],[\"saltsicha de Soja Vegway\"],[\"saltsichas Incriveis Seara\"],[\"Lingui\\u00e7a Apimentada de Soja Goshen\"],[\"Lingui\\u00e7a Calabresa de Soja Goshen\"],[\"Lingui\\u00e7a de Soja Vegana Goshen\"],[\"Lingui\\u00e7a Toscana de Soja Goshen\"],[\"saltsicha de Soja Vegana Goshen\"],[\"saltsicha Vegetal Superbom\"],[\"saltsicha Vegetal Defumada Superbom\"]],\"hovertemplate\":\"Classification=PORK 1<br>x=%{x}<br>y=%{y}<br>Product's Name=%{customdata[0]}<extra></extra>\",\"legendgroup\":\"PORK 1\",\"marker\":{\"color\":\"#ab63fa\",\"symbol\":\"circle\"},\"mode\":\"markers\",\"name\":\"PORK 1\",\"orientation\":\"v\",\"showlegend\":true,\"x\":[-0.7948236465454102,-0.8367570042610168,-0.9783906936645508,-0.5367456078529358,0.3403451144695282,0.6471036076545715,0.5785508155822754,0.5337340235710144,0.6653321385383606,0.4351174235343933,-0.78757643699646,-0.9771340489387512],\"xaxis\":\"x\",\"y\":[16.059289932250977,15.62778377532959,15.770959854125977,13.98805046081543,17.521831512451172,15.048307418823242,15.039322853088379,15.175461769104004,14.988546371459961,14.953839302062988,15.007078170776367,15.00352668762207],\"yaxis\":\"y\",\"type\":\"scatter\"},{\"customdata\":[[\"Hamburguer de Soja Goshen\"],[\"Hamburguer de Soja Vegano Goshen\"],[\"Hamburguer de Quinoa Mr Veggy\"],[\"Hamburguer de lentil Mr Veggy\"],[\"Hamburguer vegano falafel amazonika mundi\"],[\"Hamburguer Vegetal Verdali\"],[\"VegBurger Sabor Carne\"],[\"Burger Gourmet Superbom\"],[\"Hamburguer Incr\\u00edvel Seara\"],[\"Not Burguer Notco\"],[\"Hamburguer de Fibra de Caju Amazonika Mundi\"],[\"Hamburguer Vegabom\"],[\"Hamburguer de Carne Veg  e Tal Sadia\"],[\"Hamburger New Butchers\"],[\"Hamburguer de Legumes Mr Veggy\"],[\"Hamburguer Vegetariano Mr Veggy\"],[\"Hambuguer Mr Veggy Mari Mari\"],[\"Hambuguer Mr Veggy Mari Mari Churrrasco\"],[\"Hamb\\u00farguer Fazenda Futuro 2.0\"],[\"Hamb\\u00farguer Vegano de Quinoa Amazonika Mundi\"],[\"Hamburguer Veggie Roots Tempero Indiano\"],[\"Hamb\\u00farguer Sora Carne Vermelha \"],[\"Hamburguer Veggie Roots brazilianspices\"],[\"Hamburguer veggie roots tempero mexicano\"],[\"Hamburguer de Soja Sabor Carne Vegway\"],[\"Hamb\\u00farguer de Soja Empanado Vegway\"],[\"Hamburguer Vegetal Superbom\"],[\"Hamburguer de chickpea Mr Veggy\"],[\"Hamburguer Veggie Roots Tempero \\u00c1rabe\"],[\"Hamburguer Veggie Roots Tempero Tailand\\u00eas\"],[\"Hamburguer Vegabom\"],[\"Hamb\\u00farguer Pronto Saud\\u00e1vel Sora\"],[\"hamburguer vegetal com herbs jasmine\"],[\"Hamburguer Vegetal Tradicional Jasmine\"]],\"hovertemplate\":\"Classification=MEAT 1<br>x=%{x}<br>y=%{y}<br>Product's Name=%{customdata[0]}<extra></extra>\",\"legendgroup\":\"MEAT 1\",\"marker\":{\"color\":\"#FFA15A\",\"symbol\":\"circle\"},\"mode\":\"markers\",\"name\":\"MEAT 1\",\"orientation\":\"v\",\"showlegend\":true,\"x\":[0.028839215636253357,-0.08553669601678848,-2.3661201000213623,-2.1101651191711426,-2.075324296951294,-1.6973596811294556,-3.637627601623535,-2.270359516143799,0.3888884484767914,-2.081310272216797,-1.1687076091766357,-1.0213513374328613,-1.5733665227890015,-3.236287832260132,-1.1663755178451538,-1.0408059358596802,-1.0598154067993164,-1.2013224363327026,-0.5120905041694641,-2.1362009048461914,-2.5285451412200928,-1.742207407951355,-2.356717348098755,-2.150158166885376,-0.36689454317092896,-0.473271906375885,-0.46919116377830505,-2.3781697750091553,-2.3123931884765625,-2.003469467163086,-1.0322657823562622,-2.494493007659912,-3.6070423126220703,-3.1402170658111572],\"xaxis\":\"x\",\"y\":[14.965215682983398,14.758770942687988,13.478128433227539,14.255067825317383,13.403252601623535,15.969050407409668,15.640946388244629,17.549396514892578,17.571247100830078,13.277750968933105,16.441265106201172,15.49934196472168,13.482930183410645,14.773945808410645,14.881218910217285,14.83056926727295,14.680922508239746,14.752134323120117,16.006282806396484,13.493124008178711,16.88602066040039,16.94247817993164,17.119112014770508,17.17271614074707,14.070331573486328,13.930912017822266,14.325450897216797,13.959939956665039,17.13117027282715,17.257328033447266,15.307854652404785,17.39583969116211,16.383695602416992,16.1767635345459],\"yaxis\":\"y\",\"type\":\"scatter\"},{\"customdata\":[[\"Hamb\\u00farguer Sora Carne Branca\"],[\"VegBurger Sabor Frango\"],[\"Hambuguer Incr\\u00edvel Seara Frango\"],[\"Frango Vegano em Peda\\u00e7os \\u00e0 Base de pea\"],[\"Hamb\\u00farguer de Frango Verdali\"]],\"hovertemplate\":\"Classification=POULTRY 2<br>x=%{x}<br>y=%{y}<br>Product's Name=%{customdata[0]}<extra></extra>\",\"legendgroup\":\"POULTRY 2\",\"marker\":{\"color\":\"#19d3f3\",\"symbol\":\"circle\"},\"mode\":\"markers\",\"name\":\"POULTRY 2\",\"orientation\":\"v\",\"showlegend\":true,\"x\":[-1.6992716789245605,-3.5349018573760986,0.42996272444725037,-1.8387395143508911,-1.9145957231521606],\"xaxis\":\"x\",\"y\":[16.901044845581055,15.537259101867676,17.6135196685791,13.773918151855469,16.022951126098633],\"yaxis\":\"y\",\"type\":\"scatter\"},{\"customdata\":[[\"Empanado de Frango Vegabom\"],[\"Fil\\u00e9 de Frango Empanado Vegabom\"],[\"Empanados de Frango Vegway\"],[\"Empanados Incr\\u00edveis Seara\"],[\"Empanados Sadia Veg e Tal\"],[\"Empanadinho de Soja  Goshen\"],[\"Empanadinho de Soja Vegano  Goshen\"],[\"Steak de Soja Vegano Goshen\"],[\"Empanado Vegano (Mini Crispy) 100 Foods\"],[\"Crispy Chicken 100 Foods\"],[\"Mini Empanado de Legumes Superbom\"],[\"Steak Vegan Sabor Legumes Superbom\"],[\"Steak Veg\\u00ea Sabor Frango\"],[\"Steak Veg\\u00ea Sabor Frango Empanado\"]],\"hovertemplate\":\"Classification=POULTRY 1<br>x=%{x}<br>y=%{y}<br>Product's Name=%{customdata[0]}<extra></extra>\",\"legendgroup\":\"POULTRY 1\",\"marker\":{\"color\":\"#FF6692\",\"symbol\":\"circle\"},\"mode\":\"markers\",\"name\":\"POULTRY 1\",\"orientation\":\"v\",\"showlegend\":true,\"x\":[-1.1242260932922363,-1.2073909044265747,-0.2667925953865051,-0.29645514488220215,-0.4075414836406708,0.18586060404777527,-0.2146616131067276,0.22753344476222992,-1.3526111841201782,-1.2806487083435059,-2.121638059616089,-1.9604578018188477,-2.3952126502990723,-2.227214813232422],\"xaxis\":\"x\",\"y\":[17.53107452392578,17.440462112426758,13.981343269348145,17.144208908081055,17.12123680114746,14.941705703735352,15.07138442993164,14.961119651794434,16.023468017578125,16.09659767150879,14.523365020751953,14.307609558105469,16.013397216796875,16.082929611206055],\"yaxis\":\"y\",\"type\":\"scatter\"},{\"customdata\":[[\"Fil\\u00e9 Peixe Empanado Vegabom\"],[\"Tirinhas de Peixe Empanado Vegabom\"],[\"Bolinho de Bacalhau New Butchers\"],[\"Bolinho de Siri Amazonika Mundi\"],[\"Camar\\u00e3o de Soja Vegano Goshen\"]],\"hovertemplate\":\"Classification=FISH 2<br>x=%{x}<br>y=%{y}<br>Product's Name=%{customdata[0]}<extra></extra>\",\"legendgroup\":\"FISH 2\",\"marker\":{\"color\":\"#B6E880\",\"symbol\":\"circle\"},\"mode\":\"markers\",\"name\":\"FISH 2\",\"orientation\":\"v\",\"showlegend\":true,\"x\":[-1.1569031476974487,-1.1570744514465332,-1.4520727396011353,-2.6461353302001953,0.5630101561546326],\"xaxis\":\"x\",\"y\":[17.616409301757812,17.55803108215332,14.19229507446289,17.26512908935547,15.14529037475586],\"yaxis\":\"y\",\"type\":\"scatter\"},{\"customdata\":[[\"Queijo Mu\\u00e7arela Vegabom\"],[\"Queijo Picante Vegabom\"],[\"Queijo Cheddar Vegabom\"],[\"Requeisoy Provolone \"],[\"Requeisoy Cheddar' \"],[\"Requeisoy Tradicional\"],[\"Requeisoy Gorgonzola\"],[\"Okeijo R\\u00fastico\"],[\"Okeijo Cremoso\"],[\"Okeijo Gratinado\"],[\"Okeijo Mussarela\"],[\"Okeijo Provolone\"],[\"Creme s Vida Veg\"],[\"Creme s fineherbs e Pesto\"],[\"Queijo mu\\u00e7arela\"],[\"Queijo minas frescal\"],[\"Queijo minas padr\\u00e3o\"],[\"Requeij\\u00e3o Tradicional\"],[\"Requeij\\u00e3o fineherbs\"],[\"Requeij\\u00e3o Defumado\"],[\"Queijo Zimurisku \"],[\"Queijo Zimurisku Temperado\"],[\"Queijo Mozarela NoMoo\"],[\"Queijo Provolone\"],[\"Queijo Ch\\u00e9vre\"],[\"Queijo Prato\"],[\"Queijo Parmes\\u00e3o\"],[\"Requeij\\u00e3o Nomoo\"],[\"Queijo Gorgolino\"],[\"Queijo Melhor Que Cheddar\"],[\"Queijo Recaishow\"],[\"Queijo Brie\"],[\"Mussarela Vegana Goshen\"],[\"Queijo ProVolone Veganita\"],[\"Queijo Munster Veganita\"],[\"Queijo Brie Veganita\"],[\"Queijo Mussarela Veganita\"],[\"Queijo Cheddar Veganita\"],[\"CREAM CHEESE CULIN\\u00c1RIO BASI.CO\"],[\"REQUEIJ\\u00c3O VEGETAL\"],[\"QUEIJO PARMES\\u00c3O\"],[\"QUEIJO MINAS VEGETAL\"],[\"QUEIJO PRATO\"],[\"QUEIJO MU\\u00c7ARELA\"],[\"QUEIJO CHEDDAR\"]],\"hovertemplate\":\"Classification=DAIRY 3<br>x=%{x}<br>y=%{y}<br>Product's Name=%{customdata[0]}<extra></extra>\",\"legendgroup\":\"DAIRY 3\",\"marker\":{\"color\":\"#FF97FF\",\"symbol\":\"circle\"},\"mode\":\"markers\",\"name\":\"DAIRY 3\",\"orientation\":\"v\",\"showlegend\":true,\"x\":[-1.769370675086975,-1.8676308393478394,-2.0054733753204346,-1.5214542150497437,-1.827507734298706,-1.6575466394424438,-1.9109306335449219,-1.6285741329193115,-1.493753433227539,-1.9466047286987305,-1.645601749420166,-1.7563222646713257,-3.8760852813720703,-3.7767555713653564,-3.8368003368377686,-3.9323863983154297,-3.873728036880493,-3.584684133529663,-3.595335006713867,-3.636525869369507,-3.4406521320343018,-2.8314507007598877,-4.304078578948975,-4.311655044555664,-4.258496284484863,-4.156338214874268,-4.339697360992432,-3.661346197128296,-3.6737308502197266,-2.5399341583251953,-2.7341465950012207,-3.4176371097564697,-2.2709269523620605,-4.527731418609619,-4.465825080871582,-4.520181655883789,-4.473097801208496,-4.466131687164307,-3.4806292057037354,-3.1570465564727783,-2.986914873123169,-3.123427629470825,-3.2896039485931396,-3.405247688293457,-3.309898853302002],\"xaxis\":\"x\",\"y\":[15.587653160095215,15.632017135620117,15.510015487670898,14.347827911376953,14.807829856872559,14.522236824035645,14.558775901794434,15.087719917297363,15.59392261505127,13.125785827636719,15.065605163574219,15.175300598144531,15.263492584228516,15.221028327941895,15.071003913879395,14.994183540344238,15.036873817443848,16.006338119506836,16.070194244384766,16.11783790588379,15.357937812805176,15.412027359008789,15.942474365234375,15.861505508422852,16.358705520629883,15.802702903747559,16.27385711669922,15.727355003356934,15.721078872680664,15.686827659606934,15.73026180267334,16.534608840942383,13.679096221923828,16.255817413330078,16.16576385498047,16.280427932739258,16.200197219848633,16.22614860534668,15.000832557678223,15.133076667785645,16.759845733642578,15.317877769470215,16.270214080810547,16.266103744506836,16.11268424987793],\"yaxis\":\"y\",\"type\":\"scatter\"},{\"customdata\":[[\"Fil\\u00e9 de saltm\\u00e3o New Butchers\"],[\"Bacalhau New  Butchers\"],[\"Isca de Peixe Vegway\"],[\"Fil\\u00e9 de Peixe Vegway\"],[\"Vieira de Soja Vegway\"],[\"Bacalhau Incr\\u00edvel Seara\"],[\"Iscas de Peixe Incr\\u00edvel Seara\"],[\"Atum do Futuro\"]],\"hovertemplate\":\"Classification=FISH 1<br>x=%{x}<br>y=%{y}<br>Product's Name=%{customdata[0]}<extra></extra>\",\"legendgroup\":\"FISH 1\",\"marker\":{\"color\":\"#FECB52\",\"symbol\":\"circle\"},\"mode\":\"markers\",\"name\":\"FISH 1\",\"orientation\":\"v\",\"showlegend\":true,\"x\":[-1.7227755784988403,-1.4860711097717285,-0.4736379384994507,-0.4563039243221283,-0.3274420499801636,0.38650181889533997,-0.3392217457294464,-2.069197416305542],\"xaxis\":\"x\",\"y\":[13.818817138671875,14.232611656188965,13.883084297180176,13.854303359985352,14.129096984863281,17.569154739379883,17.2454776763916,13.560044288635254],\"yaxis\":\"y\",\"type\":\"scatter\"},{\"customdata\":[[\"Presunto de Soja Vegway\"],[\"Bacon Vegano\"],[\"Mortadela de Soja Vegana Goshen\"],[\"Presunto de Soja Defumado\"],[\"Presunto de Soja Vegano Fatiado Goshen\"],[\"Bacon Crispy Verdali\"]],\"hovertemplate\":\"Classification=PORK 2<br>x=%{x}<br>y=%{y}<br>Product's Name=%{customdata[0]}<extra></extra>\",\"legendgroup\":\"PORK 2\",\"marker\":{\"color\":\"#636efa\",\"symbol\":\"circle\"},\"mode\":\"markers\",\"name\":\"PORK 2\",\"orientation\":\"v\",\"showlegend\":true,\"x\":[-0.37941884994506836,-2.340268850326538,0.48821279406547546,0.020602501928806305,0.3515918254852295,-2.357036828994751],\"xaxis\":\"x\",\"y\":[13.937606811523438,13.495991706848145,15.272173881530762,14.897957801818848,15.380268096923828,16.759614944458008],\"yaxis\":\"y\",\"type\":\"scatter\"},{\"customdata\":[[\"Not Milk \"],[\"Not Milk Semidesnatado\"],[\" Vegetal de almonds\"],[\" vegetal \"],[\" Vegetal de almonds Fresco\"],[\" Vegetal  de Caj\\u00fa Fresco\"],[\" Vegetal  Fresco\"],[\" Vegetal Noats Original\"],[\" Vegetal Noats Barista\"],[\" Jasmine rice em P\\u00f3\"],[\" BIOV jasmine rice com amendoas\"],[\" BIOV jasmine rice com coco\"],[\" BioV oats Jasmine\"],[\" Jasmine rice \"],[\" Jasmine rice com oats\"],[\"Bebida de rice Nesfit\"],[\"Bebida Natural Nesfit\"],[\"Bebida de rice  e Amendoas Nesfit\"],[\"Bebida de rice e Coco Nesfit\"],[\"Bebida de oats Nesfit\"],[\"Bebida de oats e cocoa\"],[\"Molico Vegetal Nestl\\u00e9\"],[\"Ninho Vegetal Nestl\\u00e9\"],[\"Ninho Banana e apple Nestl\\u00e9\"],[\"Nude Edi\\u00e7\\u00e3o Barista\"],[\"Nude Original \"],[\"Nude Sabor Baunilha\"],[\"Nude de cocoa\"],[\"Nude + calcium\"],[\"Nude Barista\"],[\"Almond Breeze Original\"],[\"Almond Breeze Chocolate\"],[\"Almond Breeze Baunilha\"],[\"Almond Breeze Sem sugar\"],[\"Almond Breeze Amendoas com Coco\"],[\"Almond Breeze Chocolate Sem sugar\"],[\" de Amendoas Silk Sem sugar\"],[\" de Amendoas Silk \"],[\" cashews Silk\"],[\" de almonds e cocoa Silk\"],[\" de almonds Silk Coco\"],[\"Bebida de rice L\\u00edquida Sabor Original\"],[\"Bebida de rice L\\u00edquida Sabor almonds\"],[\"Bebida de rice L\\u00edquida Sabor peanuts\\n\"],[\"Bebida de rice L\\u00edquida Sabor cashews\"],[\"Bebida de rice L\\u00edquida Sabor Chocolate\"],[\"Bebida de rice L\\u00edquida Sabor Coco\"],[\"Bebida de rice L\\u00edquida Sabor Baunilha\"],[\"Bebida de rice Em P\\u00f3 Sabor Original\"],[\"Bebida de rice Em P\\u00f3 Sabor Original\"],[\"Bebida de rice Em P\\u00f3 Sabor Banana e apple\"],[\"Bebida de rice Em P\\u00f3 Sabor Chocolate\"],[\"Bebida de rice Em P\\u00f3 Sabor strawberries\"],[\" a tal da castanha barista\"],[\" a tal da castanha original\"],[\" a tal da castanha caju + Coco\"],[\" a tal da castanha almonds\"],[\" a tal da castanha castanha + cocoa\"],[\" a tal da castanha oats\"],[\" a tal da castanha mixed nuts\"],[\" a tal da castanha caju + Par\\u00e1\"],[\" a tal da castanha caju + peanuts\"],[\" Natuterra oats + Coco\"],[\" de almonds Natuterra\"],[\" Natuterra oats \"],[\" Vegetal 3 Nuts \\u2013 macadamianuts, almonds e cashews\"],[\" Vegetal de macadamianuts e Coco\"],[\" Vegetal de macadamianuts e cashews\"],[\" Vegetal Possible Foods\"],[\" Vegetal Possible Foods Chocolate\"],[\"Bebida de castanh de caj\\u00fa sem adi\\u00e7\\u00e3o de sugar nature's heart\"],[\"Bebida de almonds s/ adi\\u00e7\\u00e3o de sugares 1L \\u2013 Nature\\u2019s Heart\"],[\"Bebida de rice s/ adi\\u00e7\\u00e3o de sugares 1L \\u2013 Nature\\u2019s Heart\"],[\"Bebida de oats s/ adi\\u00e7\\u00e3o de sugares 1L \\u2013 Nature\\u2019s Heart\"],[\"Bebida de cocoa & rice 1L \\u2013 Nature\\u2019s Heart\"],[\"Bebida  & rice s/ adi\\u00e7\\u00e3o de sugares 1L \\u2013 Nature\\u2019s Heart\"],[\" Vegetal de soy Naturis Batavo\"],[\" DUOLAT peanuts E CASTANHA 1L - CAJUEIRO\"],[\" 85 CASTANHAS 1L - CAJUEIRO\"],[\" TOASTED 1L - CAJUEIRO\"]],\"hovertemplate\":\"Classification=DAIRY 1<br>x=%{x}<br>y=%{y}<br>Product's Name=%{customdata[0]}<extra></extra>\",\"legendgroup\":\"DAIRY 1\",\"marker\":{\"color\":\"#EF553B\",\"symbol\":\"circle\"},\"mode\":\"markers\",\"name\":\"DAIRY 1\",\"orientation\":\"v\",\"showlegend\":true,\"x\":[-1.7688753604888916,-1.9620485305786133,-3.7969844341278076,-3.671719789505005,-3.8564727306365967,-3.7865867614746094,-3.9427261352539062,-2.273162841796875,-2.4208688735961914,-2.509457588195801,-2.4946913719177246,-2.2518746852874756,-1.458211064338684,-2.577747344970703,-2.3766403198242188,-2.4619641304016113,-1.7546069622039795,-2.3293163776397705,-2.4642527103424072,-2.2916324138641357,-2.2293760776519775,-2.8331875801086426,-2.8572463989257812,-2.8760151863098145,-2.325660467147827,-2.3146111965179443,-2.6038267612457275,-2.159259557723999,-2.114394187927246,-2.334526300430298,-3.8851678371429443,-3.6452367305755615,-3.649312734603882,-3.7052555084228516,-3.6764607429504395,-3.538015604019165,-3.1509504318237305,-2.072530746459961,-3.400444746017456,-3.284891366958618,-3.3128278255462646,-2.634791851043701,-2.587782382965088,-2.7468183040618896,-3.108865976333618,-2.6711254119873047,-2.467919111251831,-2.8967068195343018,-2.7848310470581055,-2.86487078666687,-3.050396203994751,-2.903886318206787,-3.065551996231079,-2.606105089187622,-2.8663556575775146,-2.3137331008911133,-2.4803786277770996,-2.1348767280578613,-1.9560842514038086,-2.603349447250366,-1.8896551132202148,-2.4988796710968018,-2.64223313331604,-2.8866114616394043,-2.710588216781616,-2.7348170280456543,-2.119758367538452,-2.0465288162231445,-3.321448802947998,-3.65761399269104,-2.9165537357330322,-3.0059731006622314,-2.996375799179077,-2.6568028926849365,-2.8098716735839844,-2.6997079849243164,-2.189127206802368,-2.468517541885376,-2.4651684761047363,-2.639721155166626],\"xaxis\":\"x\",\"y\":[13.19701862335205,13.395232200622559,14.093796730041504,14.078604698181152,14.17293643951416,14.247305870056152,14.146377563476562,14.645020484924316,14.233850479125977,16.34536361694336,13.38354778289795,16.358760833740234,13.97295093536377,16.242420196533203,16.260732650756836,15.523829460144043,13.940130233764648,15.090532302856445,15.055421829223633,15.625656127929688,15.74217700958252,17.198575973510742,17.2462215423584,17.13326644897461,14.699987411499023,14.991792678833008,14.720213890075684,14.741179466247559,14.913346290588379,14.823320388793945,17.026084899902344,17.242040634155273,17.19582176208496,17.16607093811035,17.17054557800293,17.18701171875,14.75661849975586,14.968494415283203,14.368890762329102,14.368555068969727,14.438222885131836,15.37082576751709,15.171916961669922,15.124893188476562,15.274097442626953,14.890412330627441,15.17119026184082,15.186262130737305,16.205219268798828,16.151824951171875,16.55495834350586,16.525938034057617,16.39386749267578,14.841651916503906,17.003292083740234,13.651771545410156,16.91541862487793,13.954743385314941,15.177300453186035,14.054425239562988,13.62313461303711,13.785140037536621,14.509590148925781,14.434260368347168,14.50069522857666,14.01734447479248,13.641313552856445,13.810079574584961,15.224971771240234,15.060879707336426,15.830118179321289,15.97175407409668,15.682005882263184,15.409749984741211,15.344223022460938,15.371550559997559,13.774042129516602,13.555951118469238,16.864046096801758,16.95075798034668],\"yaxis\":\"y\",\"type\":\"scatter\"},{\"customdata\":[[\"Iogurte \"],[\"Iogurte  com strawberries\"],[\"Iogurte  com banana, apple e papaya\"],[\"Iogurte  Zero sugar\"],[\"Iogurte  com strawberries Zero sugar\"],[\"Iogurte GregoVeg \"],[\"Iogurte GregoVeg  com strawberries\"],[\"Iogurte Proteico 14g sabor strawberries\"],[\"Shake \"],[\"Iogurte Proteico 14g sabor  peanuts\"],[\"Creme de almonds\"]],\"hovertemplate\":\"Classification=DAIRY 2<br>x=%{x}<br>y=%{y}<br>Product's Name=%{customdata[0]}<extra></extra>\",\"legendgroup\":\"DAIRY 2\",\"marker\":{\"color\":\"#00cc96\",\"symbol\":\"circle\"},\"mode\":\"markers\",\"name\":\"DAIRY 2\",\"orientation\":\"v\",\"showlegend\":true,\"x\":[-3.0211024284362793,-3.3186988830566406,-3.1538002490997314,-3.1820528507232666,-3.183497428894043,-2.809539318084717,-2.6556954383850098,-3.0274600982666016,-3.5418484210968018,-2.98393177986145,-2.6929097175598145],\"xaxis\":\"x\",\"y\":[13.482178688049316,13.812308311462402,13.461978912353516,13.51990795135498,13.753023147583008,14.02099323272705,14.459186553955078,13.78203296661377,14.053359031677246,13.757102012634277,16.96763801574707],\"yaxis\":\"y\",\"type\":\"scatter\"},{\"customdata\":[[\"MAIONESE VEGETAL SUPERBOM\"],[\"MAIONESE FUGINI\"],[\"NOT MAYO\"],[\"NOT MAYO garlic\"],[\"NOT MAYO AZEITONA\"],[\"NOT MAYO PICANTE\"],[\"MAIONESE V-MAYO\"],[\"MAIONESE V-MAYO ApepperDA\"],[\"MAIONESE V-MAYO TRUFADA\"],[\"MAIONESE V-MAYO DE ABACATE\"],[\"MAIONESE V-MAYO DE garlic\"],[\"MAIONESE HELLMANS\"],[\"MAIONESE VEGANA FUGINI\"],[\"MAIONESE DEL\\u00cdCIAS DE GOI\\u00c1S\"]],\"hovertemplate\":\"Classification=EGG 1<br>x=%{x}<br>y=%{y}<br>Product's Name=%{customdata[0]}<extra></extra>\",\"legendgroup\":\"EGG 1\",\"marker\":{\"color\":\"#ab63fa\",\"symbol\":\"circle\"},\"mode\":\"markers\",\"name\":\"EGG 1\",\"orientation\":\"v\",\"showlegend\":true,\"x\":[-1.9633231163024902,-1.9574097394943237,-1.5046486854553223,-1.3816719055175781,-1.4748753309249878,-1.6126642227172852,-0.796674370765686,-0.7761361002922058,-0.7040320038795471,-0.7325828671455383,-0.819543719291687,-1.7900123596191406,-1.7218068838119507,-1.5999876260757446],\"xaxis\":\"x\",\"y\":[14.124543190002441,14.188623428344727,15.387967109680176,15.32986831665039,15.354827880859375,15.627142906188965,16.722360610961914,16.798288345336914,16.81097984313965,16.798259735107422,16.730667114257812,14.690679550170898,14.45375919342041,14.959572792053223],\"yaxis\":\"y\",\"type\":\"scatter\"},{\"customdata\":[[\"Ovos Novos\"],[\"VEGAN PRO EGGS NUTRIFY\"]],\"hovertemplate\":\"Classification=EGG 2<br>x=%{x}<br>y=%{y}<br>Product's Name=%{customdata[0]}<extra></extra>\",\"legendgroup\":\"EGG 2\",\"marker\":{\"color\":\"#FFA15A\",\"symbol\":\"circle\"},\"mode\":\"markers\",\"name\":\"EGG 2\",\"orientation\":\"v\",\"showlegend\":true,\"x\":[-2.281643867492676,-2.615915060043335],\"xaxis\":\"x\",\"y\":[16.583026885986328,16.53652572631836],\"yaxis\":\"y\",\"type\":\"scatter\"}],                        {\"template\":{\"data\":{\"bar\":[{\"error_x\":{\"color\":\"#2a3f5f\"},\"error_y\":{\"color\":\"#2a3f5f\"},\"marker\":{\"line\":{\"color\":\"#E5ECF6\",\"width\":0.5},\"pattern\":{\"fillmode\":\"overlay\",\"size\":10,\"solidity\":0.2}},\"type\":\"bar\"}],\"barpolar\":[{\"marker\":{\"line\":{\"color\":\"#E5ECF6\",\"width\":0.5},\"pattern\":{\"fillmode\":\"overlay\",\"size\":10,\"solidity\":0.2}},\"type\":\"barpolar\"}],\"carpet\":[{\"aaxis\":{\"endlinecolor\":\"#2a3f5f\",\"gridcolor\":\"white\",\"linecolor\":\"white\",\"minorgridcolor\":\"white\",\"startlinecolor\":\"#2a3f5f\"},\"baxis\":{\"endlinecolor\":\"#2a3f5f\",\"gridcolor\":\"white\",\"linecolor\":\"white\",\"minorgridcolor\":\"white\",\"startlinecolor\":\"#2a3f5f\"},\"type\":\"carpet\"}],\"choropleth\":[{\"colorbar\":{\"outlinewidth\":0,\"ticks\":\"\"},\"type\":\"choropleth\"}],\"contour\":[{\"colorbar\":{\"outlinewidth\":0,\"ticks\":\"\"},\"colorscale\":[[0.0,\"#0d0887\"],[0.1111111111111111,\"#46039f\"],[0.2222222222222222,\"#7201a8\"],[0.3333333333333333,\"#9c179e\"],[0.4444444444444444,\"#bd3786\"],[0.5555555555555556,\"#d8576b\"],[0.6666666666666666,\"#ed7953\"],[0.7777777777777778,\"#fb9f3a\"],[0.8888888888888888,\"#fdca26\"],[1.0,\"#f0f921\"]],\"type\":\"contour\"}],\"contourcarpet\":[{\"colorbar\":{\"outlinewidth\":0,\"ticks\":\"\"},\"type\":\"contourcarpet\"}],\"heatmap\":[{\"colorbar\":{\"outlinewidth\":0,\"ticks\":\"\"},\"colorscale\":[[0.0,\"#0d0887\"],[0.1111111111111111,\"#46039f\"],[0.2222222222222222,\"#7201a8\"],[0.3333333333333333,\"#9c179e\"],[0.4444444444444444,\"#bd3786\"],[0.5555555555555556,\"#d8576b\"],[0.6666666666666666,\"#ed7953\"],[0.7777777777777778,\"#fb9f3a\"],[0.8888888888888888,\"#fdca26\"],[1.0,\"#f0f921\"]],\"type\":\"heatmap\"}],\"heatmapgl\":[{\"colorbar\":{\"outlinewidth\":0,\"ticks\":\"\"},\"colorscale\":[[0.0,\"#0d0887\"],[0.1111111111111111,\"#46039f\"],[0.2222222222222222,\"#7201a8\"],[0.3333333333333333,\"#9c179e\"],[0.4444444444444444,\"#bd3786\"],[0.5555555555555556,\"#d8576b\"],[0.6666666666666666,\"#ed7953\"],[0.7777777777777778,\"#fb9f3a\"],[0.8888888888888888,\"#fdca26\"],[1.0,\"#f0f921\"]],\"type\":\"heatmapgl\"}],\"histogram\":[{\"marker\":{\"pattern\":{\"fillmode\":\"overlay\",\"size\":10,\"solidity\":0.2}},\"type\":\"histogram\"}],\"histogram2d\":[{\"colorbar\":{\"outlinewidth\":0,\"ticks\":\"\"},\"colorscale\":[[0.0,\"#0d0887\"],[0.1111111111111111,\"#46039f\"],[0.2222222222222222,\"#7201a8\"],[0.3333333333333333,\"#9c179e\"],[0.4444444444444444,\"#bd3786\"],[0.5555555555555556,\"#d8576b\"],[0.6666666666666666,\"#ed7953\"],[0.7777777777777778,\"#fb9f3a\"],[0.8888888888888888,\"#fdca26\"],[1.0,\"#f0f921\"]],\"type\":\"histogram2d\"}],\"histogram2dcontour\":[{\"colorbar\":{\"outlinewidth\":0,\"ticks\":\"\"},\"colorscale\":[[0.0,\"#0d0887\"],[0.1111111111111111,\"#46039f\"],[0.2222222222222222,\"#7201a8\"],[0.3333333333333333,\"#9c179e\"],[0.4444444444444444,\"#bd3786\"],[0.5555555555555556,\"#d8576b\"],[0.6666666666666666,\"#ed7953\"],[0.7777777777777778,\"#fb9f3a\"],[0.8888888888888888,\"#fdca26\"],[1.0,\"#f0f921\"]],\"type\":\"histogram2dcontour\"}],\"mesh3d\":[{\"colorbar\":{\"outlinewidth\":0,\"ticks\":\"\"},\"type\":\"mesh3d\"}],\"parcoords\":[{\"line\":{\"colorbar\":{\"outlinewidth\":0,\"ticks\":\"\"}},\"type\":\"parcoords\"}],\"pie\":[{\"automargin\":true,\"type\":\"pie\"}],\"scatter\":[{\"marker\":{\"colorbar\":{\"outlinewidth\":0,\"ticks\":\"\"}},\"type\":\"scatter\"}],\"scatter3d\":[{\"line\":{\"colorbar\":{\"outlinewidth\":0,\"ticks\":\"\"}},\"marker\":{\"colorbar\":{\"outlinewidth\":0,\"ticks\":\"\"}},\"type\":\"scatter3d\"}],\"scattercarpet\":[{\"marker\":{\"colorbar\":{\"outlinewidth\":0,\"ticks\":\"\"}},\"type\":\"scattercarpet\"}],\"scattergeo\":[{\"marker\":{\"colorbar\":{\"outlinewidth\":0,\"ticks\":\"\"}},\"type\":\"scattergeo\"}],\"scattergl\":[{\"marker\":{\"colorbar\":{\"outlinewidth\":0,\"ticks\":\"\"}},\"type\":\"scattergl\"}],\"scattermapbox\":[{\"marker\":{\"colorbar\":{\"outlinewidth\":0,\"ticks\":\"\"}},\"type\":\"scattermapbox\"}],\"scatterpolar\":[{\"marker\":{\"colorbar\":{\"outlinewidth\":0,\"ticks\":\"\"}},\"type\":\"scatterpolar\"}],\"scatterpolargl\":[{\"marker\":{\"colorbar\":{\"outlinewidth\":0,\"ticks\":\"\"}},\"type\":\"scatterpolargl\"}],\"scatterternary\":[{\"marker\":{\"colorbar\":{\"outlinewidth\":0,\"ticks\":\"\"}},\"type\":\"scatterternary\"}],\"surface\":[{\"colorbar\":{\"outlinewidth\":0,\"ticks\":\"\"},\"colorscale\":[[0.0,\"#0d0887\"],[0.1111111111111111,\"#46039f\"],[0.2222222222222222,\"#7201a8\"],[0.3333333333333333,\"#9c179e\"],[0.4444444444444444,\"#bd3786\"],[0.5555555555555556,\"#d8576b\"],[0.6666666666666666,\"#ed7953\"],[0.7777777777777778,\"#fb9f3a\"],[0.8888888888888888,\"#fdca26\"],[1.0,\"#f0f921\"]],\"type\":\"surface\"}],\"table\":[{\"cells\":{\"fill\":{\"color\":\"#EBF0F8\"},\"line\":{\"color\":\"white\"}},\"header\":{\"fill\":{\"color\":\"#C8D4E3\"},\"line\":{\"color\":\"white\"}},\"type\":\"table\"}]},\"layout\":{\"annotationdefaults\":{\"arrowcolor\":\"#2a3f5f\",\"arrowhead\":0,\"arrowwidth\":1},\"autotypenumbers\":\"strict\",\"coloraxis\":{\"colorbar\":{\"outlinewidth\":0,\"ticks\":\"\"}},\"colorscale\":{\"diverging\":[[0,\"#8e0152\"],[0.1,\"#c51b7d\"],[0.2,\"#de77ae\"],[0.3,\"#f1b6da\"],[0.4,\"#fde0ef\"],[0.5,\"#f7f7f7\"],[0.6,\"#e6f5d0\"],[0.7,\"#b8e186\"],[0.8,\"#7fbc41\"],[0.9,\"#4d9221\"],[1,\"#276419\"]],\"sequential\":[[0.0,\"#0d0887\"],[0.1111111111111111,\"#46039f\"],[0.2222222222222222,\"#7201a8\"],[0.3333333333333333,\"#9c179e\"],[0.4444444444444444,\"#bd3786\"],[0.5555555555555556,\"#d8576b\"],[0.6666666666666666,\"#ed7953\"],[0.7777777777777778,\"#fb9f3a\"],[0.8888888888888888,\"#fdca26\"],[1.0,\"#f0f921\"]],\"sequentialminus\":[[0.0,\"#0d0887\"],[0.1111111111111111,\"#46039f\"],[0.2222222222222222,\"#7201a8\"],[0.3333333333333333,\"#9c179e\"],[0.4444444444444444,\"#bd3786\"],[0.5555555555555556,\"#d8576b\"],[0.6666666666666666,\"#ed7953\"],[0.7777777777777778,\"#fb9f3a\"],[0.8888888888888888,\"#fdca26\"],[1.0,\"#f0f921\"]]},\"colorway\":[\"#636efa\",\"#EF553B\",\"#00cc96\",\"#ab63fa\",\"#FFA15A\",\"#19d3f3\",\"#FF6692\",\"#B6E880\",\"#FF97FF\",\"#FECB52\"],\"font\":{\"color\":\"#2a3f5f\"},\"geo\":{\"bgcolor\":\"white\",\"lakecolor\":\"white\",\"landcolor\":\"#E5ECF6\",\"showlakes\":true,\"showland\":true,\"subunitcolor\":\"white\"},\"hoverlabel\":{\"align\":\"left\"},\"hovermode\":\"closest\",\"mapbox\":{\"style\":\"light\"},\"paper_bgcolor\":\"white\",\"plot_bgcolor\":\"#E5ECF6\",\"polar\":{\"angularaxis\":{\"gridcolor\":\"white\",\"linecolor\":\"white\",\"ticks\":\"\"},\"bgcolor\":\"#E5ECF6\",\"radialaxis\":{\"gridcolor\":\"white\",\"linecolor\":\"white\",\"ticks\":\"\"}},\"scene\":{\"xaxis\":{\"backgroundcolor\":\"#E5ECF6\",\"gridcolor\":\"white\",\"gridwidth\":2,\"linecolor\":\"white\",\"showbackground\":true,\"ticks\":\"\",\"zerolinecolor\":\"white\"},\"yaxis\":{\"backgroundcolor\":\"#E5ECF6\",\"gridcolor\":\"white\",\"gridwidth\":2,\"linecolor\":\"white\",\"showbackground\":true,\"ticks\":\"\",\"zerolinecolor\":\"white\"},\"zaxis\":{\"backgroundcolor\":\"#E5ECF6\",\"gridcolor\":\"white\",\"gridwidth\":2,\"linecolor\":\"white\",\"showbackground\":true,\"ticks\":\"\",\"zerolinecolor\":\"white\"}},\"shapedefaults\":{\"line\":{\"color\":\"#2a3f5f\"}},\"ternary\":{\"aaxis\":{\"gridcolor\":\"white\",\"linecolor\":\"white\",\"ticks\":\"\"},\"baxis\":{\"gridcolor\":\"white\",\"linecolor\":\"white\",\"ticks\":\"\"},\"bgcolor\":\"#E5ECF6\",\"caxis\":{\"gridcolor\":\"white\",\"linecolor\":\"white\",\"ticks\":\"\"}},\"title\":{\"x\":0.05},\"xaxis\":{\"automargin\":true,\"gridcolor\":\"white\",\"linecolor\":\"white\",\"ticks\":\"\",\"title\":{\"standoff\":15},\"zerolinecolor\":\"white\",\"zerolinewidth\":2},\"yaxis\":{\"automargin\":true,\"gridcolor\":\"white\",\"linecolor\":\"white\",\"ticks\":\"\",\"title\":{\"standoff\":15},\"zerolinecolor\":\"white\",\"zerolinewidth\":2}}},\"xaxis\":{\"anchor\":\"y\",\"domain\":[0.0,1.0],\"title\":{\"text\":\"x\"}},\"yaxis\":{\"anchor\":\"x\",\"domain\":[0.0,1.0],\"title\":{\"text\":\"y\"}},\"legend\":{\"title\":{\"text\":\"Classification\"},\"tracegroupgap\":0},\"margin\":{\"t\":60},\"width\":800},                        {\"responsive\": true}                    ).then(function(){\n",
              "                            \n",
              "var gd = document.getElementById('fab6408f-b89f-4aac-be10-631bb3448732');\n",
              "var x = new MutationObserver(function (mutations, observer) {{\n",
              "        var display = window.getComputedStyle(gd).display;\n",
              "        if (!display || display === 'none') {{\n",
              "            console.log([gd, 'removed!']);\n",
              "            Plotly.purge(gd);\n",
              "            observer.disconnect();\n",
              "        }}\n",
              "}});\n",
              "\n",
              "// Listen for the removal of the full notebook cells\n",
              "var notebookContainer = gd.closest('#notebook-container');\n",
              "if (notebookContainer) {{\n",
              "    x.observe(notebookContainer, {childList: true});\n",
              "}}\n",
              "\n",
              "// Listen for the clearing of the current output cell\n",
              "var outputEl = gd.closest('.output');\n",
              "if (outputEl) {{\n",
              "    x.observe(outputEl, {childList: true});\n",
              "}}\n",
              "\n",
              "                        })                };                            </script>        </div>\n",
              "</body>\n",
              "</html>"
            ]
          },
          "metadata": {}
        }
      ]
    },
    {
      "cell_type": "code",
      "source": [
        "data_nutrients = label_data.join(nutrients_normalized)\n",
        "reducer = umap.UMAP(n_components=2,n_neighbors=80,metric='euclidean')\n",
        "X_umapN = reducer.fit_transform(X_nutrients)\n",
        "\n",
        "X_umapN[1:4, :]\n",
        "data_nutrients['x'] = X_umapN[:,0]\n",
        "data_nutrients['y'] = X_umapN[:,1]\n",
        "\n",
        "fig = px.scatter(data_nutrients, x='x', y='y', color='Classification', hover_data=[\"Description\"], width=800)\n",
        "fig.show()"
      ],
      "metadata": {
        "id": "BkQYbu7JbNhE",
        "colab": {
          "base_uri": "https://localhost:8080/",
          "height": 542
        },
        "outputId": "73e8bf7b-d037-489f-87b3-fdcc7bcf6529"
      },
      "execution_count": null,
      "outputs": [
        {
          "output_type": "display_data",
          "data": {
            "text/html": [
              "<html>\n",
              "<head><meta charset=\"utf-8\" /></head>\n",
              "<body>\n",
              "    <div>            <script src=\"https://cdnjs.cloudflare.com/ajax/libs/mathjax/2.7.5/MathJax.js?config=TeX-AMS-MML_SVG\"></script><script type=\"text/javascript\">if (window.MathJax) {MathJax.Hub.Config({SVG: {font: \"STIX-Web\"}});}</script>                <script type=\"text/javascript\">window.PlotlyConfig = {MathJaxConfig: 'local'};</script>\n",
              "        <script src=\"https://cdn.plot.ly/plotly-2.8.3.min.js\"></script>                <div id=\"7d24927e-655c-42ea-ab2f-ba432e11ee61\" class=\"plotly-graph-div\" style=\"height:525px; width:800px;\"></div>            <script type=\"text/javascript\">                                    window.PLOTLYENV=window.PLOTLYENV || {};                                    if (document.getElementById(\"7d24927e-655c-42ea-ab2f-ba432e11ee61\")) {                    Plotly.newPlot(                        \"7d24927e-655c-42ea-ab2f-ba432e11ee61\",                        [{\"customdata\":[[\"Carne Mo\\u00edda do Futuro\"],[\"Almondegas de Soja Vegway\"],[\"Almondegas Amazonika Mundi\"],[\"Kibe Incr\\u00edvel Seara\"],[\"Almondegas Incr\\u00edveis Seara\"],[\"Almondegas Mr Veggy\"],[\"Carne Mo\\u00edda Superbom\"],[\"Carne Vegetal Mo\\u00edda Superbom\"],[\"Carne Mo\\u00edda Vegetal Verdali\"]],\"hovertemplate\":\"Classification=MEAT 2<br>x=%{x}<br>y=%{y}<br>Product's Name=%{customdata[0]}<extra></extra>\",\"legendgroup\":\"MEAT 2\",\"marker\":{\"color\":\"#636efa\",\"symbol\":\"circle\"},\"mode\":\"markers\",\"name\":\"MEAT 2\",\"orientation\":\"v\",\"showlegend\":true,\"x\":[10.738971710205078,12.077078819274902,11.560009956359863,12.237464904785156,12.1641206741333,11.595587730407715,13.080862998962402,12.678276062011719,11.801115036010742],\"xaxis\":\"x\",\"y\":[11.03985595703125,10.492849349975586,11.552591323852539,10.499876022338867,10.48674488067627,9.68259334564209,10.815747261047363,11.94328784942627,11.112257957458496],\"yaxis\":\"y\",\"type\":\"scatter\"},{\"customdata\":[[\"Carne Mo\\u00edda do Futuro\"],[\"Fil\\u00e9s Sora Carne Vermelha\"],[\"Fatias Sora Carne Vermelha\"],[\"Fil\\u00e9 Pronto Saud\\u00e1vel Sora\"],[\"Carne Mo\\u00edda Pronto Saud\\u00e1vel Sora\"],[\"Churrasco Vegabom\"],[\"Churrasco Aoniondo Vegabom\"],[\"Carne de Pernil Seara\"],[\"Alm\\u00f4ndega de Soja Vegana Goshen\"],[\"Bife de Soja Vegano Goshen\"],[\"Alm\\u00f4ndega Vegana Superbom\"],[\"Bife Vegetal Superbom\"],[\"Escalope ao Molho Caseiro Superbom\"],[\"Cubinhos ao Molho Mexicano Superbom\"],[\"Alm\\u00f4ndegas ao Molho Sugo Superbom\"],[\"Medalh\\u00e3o ao Molho Madeira Superbom\"],[\"Mignon Verdali\"],[\"Steak Verdali\"]],\"hovertemplate\":\"Classification=MEAT 3<br>x=%{x}<br>y=%{y}<br>Product's Name=%{customdata[0]}<extra></extra>\",\"legendgroup\":\"MEAT 3\",\"marker\":{\"color\":\"#EF553B\",\"symbol\":\"circle\"},\"mode\":\"markers\",\"name\":\"MEAT 3\",\"orientation\":\"v\",\"showlegend\":true,\"x\":[10.832724571228027,14.595846176147461,14.681544303894043,12.501570701599121,12.450839042663574,12.075650215148926,12.151378631591797,12.17873477935791,12.70707893371582,12.040854454040527,13.170711517333984,13.084807395935059,12.655150413513184,12.747904777526855,12.12451171875,12.965377807617188,12.47236442565918,12.448431968688965],\"xaxis\":\"x\",\"y\":[11.213738441467285,11.667962074279785,11.586430549621582,12.129131317138672,12.201037406921387,12.022089958190918,11.896881103515625,10.06950569152832,11.954568862915039,11.034727096557617,10.828248023986816,12.208932876586914,12.361170768737793,12.17418098449707,12.398905754089355,12.029942512512207,10.952658653259277,10.980250358581543],\"yaxis\":\"y\",\"type\":\"scatter\"},{\"customdata\":[[\"Frango do Futuro\"],[\"Fatias Sora Carne Branca\"],[\"Fil\\u00e9s Sora Carne Branca\"],[\"Strogonoff de Frango Vegabom\"],[\"Tiras de Frango New Butchers\"],[\"Fil\\u00e9 de Frango Desfiado Vegway\"],[\"Frango Veg e Tal Sadia\"],[\"Frango Veg e Tal Sadia Desfiado\"],[\"Peito de Peru de Soja\"],[\"Peito de Peru de Soja Vegano\"],[\"Tiras de Ave Verdali\"],[\"Fil\\u00e9 sem Frango Verdali\"],[\"Mini Fil\\u00e9 de Frango Verdali\"]],\"hovertemplate\":\"Classification=POULTRY 3<br>x=%{x}<br>y=%{y}<br>Product's Name=%{customdata[0]}<extra></extra>\",\"legendgroup\":\"POULTRY 3\",\"marker\":{\"color\":\"#00cc96\",\"symbol\":\"circle\"},\"mode\":\"markers\",\"name\":\"POULTRY 3\",\"orientation\":\"v\",\"showlegend\":true,\"x\":[11.012508392333984,14.63244342803955,14.64177131652832,11.966238021850586,12.074650764465332,12.294086456298828,12.529117584228516,12.58227252960205,12.786361694335938,12.733495712280273,12.38116455078125,12.4533109664917,12.303508758544922],\"xaxis\":\"x\",\"y\":[11.055474281311035,11.634661674499512,11.621990203857422,11.954303741455078,12.798436164855957,10.368386268615723,10.865266799926758,10.861608505249023,12.530608177185059,12.646825790405273,10.570732116699219,10.970056533813477,10.851348876953125],\"yaxis\":\"y\",\"type\":\"scatter\"},{\"customdata\":[[\"Lingui\\u00e7a do Futuro\"],[\"Lingui\\u00e7a calabresa vegabom\"],[\"saltsicha de chickpea Vegabom\"],[\"saltsicha de Soja Vegway\"],[\"saltsichas Incriveis Seara\"],[\"Lingui\\u00e7a Apimentada de Soja Goshen\"],[\"Lingui\\u00e7a Calabresa de Soja Goshen\"],[\"Lingui\\u00e7a de Soja Vegana Goshen\"],[\"Lingui\\u00e7a Toscana de Soja Goshen\"],[\"saltsicha de Soja Vegana Goshen\"],[\"saltsicha Vegetal Superbom\"],[\"saltsicha Vegetal Defumada Superbom\"]],\"hovertemplate\":\"Classification=PORK 1<br>x=%{x}<br>y=%{y}<br>Product's Name=%{customdata[0]}<extra></extra>\",\"legendgroup\":\"PORK 1\",\"marker\":{\"color\":\"#ab63fa\",\"symbol\":\"circle\"},\"mode\":\"markers\",\"name\":\"PORK 1\",\"orientation\":\"v\",\"showlegend\":true,\"x\":[11.235651969909668,12.735172271728516,12.673478126525879,12.581228256225586,11.870304107666016,12.586441993713379,12.917097091674805,12.830224990844727,12.566412925720215,12.781389236450195,13.030200004577637,12.214898109436035],\"xaxis\":\"x\",\"y\":[11.323518753051758,12.989191055297852,12.930200576782227,11.087510108947754,12.048630714416504,12.547661781311035,12.4136962890625,11.761858940124512,13.08880615234375,11.77109432220459,12.09992504119873,12.637799263000488],\"yaxis\":\"y\",\"type\":\"scatter\"},{\"customdata\":[[\"Hamburguer de Soja Goshen\"],[\"Hamburguer de Soja Vegano Goshen\"],[\"Hamburguer de Quinoa Mr Veggy\"],[\"Hamburguer de lentil Mr Veggy\"],[\"Hamburguer vegano falafel amazonika mundi\"],[\"Hamburguer Vegetal Verdali\"],[\"VegBurger Sabor Carne\"],[\"Burger Gourmet Superbom\"],[\"Hamburguer Incr\\u00edvel Seara\"],[\"Not Burguer Notco\"],[\"Hamburguer de Fibra de Caju Amazonika Mundi\"],[\"Hamburguer Vegabom\"],[\"Hamburguer de Carne Veg  e Tal Sadia\"],[\"Hamburger New Butchers\"],[\"Hamburguer de Legumes Mr Veggy\"],[\"Hamburguer Vegetariano Mr Veggy\"],[\"Hambuguer Mr Veggy Mari Mari\"],[\"Hambuguer Mr Veggy Mari Mari Churrrasco\"],[\"Hamb\\u00farguer Fazenda Futuro 2.0\"],[\"Hamb\\u00farguer Vegano de Quinoa Amazonika Mundi\"],[\"Hamburguer Veggie Roots Tempero Indiano\"],[\"Hamb\\u00farguer Sora Carne Vermelha \"],[\"Hamburguer Veggie Roots brazilianspices\"],[\"Hamburguer veggie roots tempero mexicano\"],[\"Hamburguer de Soja Sabor Carne Vegway\"],[\"Hamb\\u00farguer de Soja Empanado Vegway\"],[\"Hamburguer Vegetal Superbom\"],[\"Hamburguer de chickpea Mr Veggy\"],[\"Hamburguer Veggie Roots Tempero \\u00c1rabe\"],[\"Hamburguer Veggie Roots Tempero Tailand\\u00eas\"],[\"Hamburguer Vegabom\"],[\"Hamb\\u00farguer Pronto Saud\\u00e1vel Sora\"],[\"hamburguer vegetal com herbs jasmine\"],[\"Hamburguer Vegetal Tradicional Jasmine\"]],\"hovertemplate\":\"Classification=MEAT 1<br>x=%{x}<br>y=%{y}<br>Product's Name=%{customdata[0]}<extra></extra>\",\"legendgroup\":\"MEAT 1\",\"marker\":{\"color\":\"#FFA15A\",\"symbol\":\"circle\"},\"mode\":\"markers\",\"name\":\"MEAT 1\",\"orientation\":\"v\",\"showlegend\":true,\"x\":[12.6273832321167,12.311833381652832,11.288505554199219,11.035245895385742,11.681072235107422,12.406816482543945,10.855582237243652,13.116131782531738,11.941516876220703,11.203892707824707,11.643075942993164,11.52584171295166,7.511276721954346,10.747267723083496,11.726191520690918,11.431265830993652,11.547016143798828,11.593104362487793,11.726125717163086,11.489053726196289,11.155595779418945,14.585101127624512,11.681269645690918,11.444523811340332,12.200885772705078,12.375876426696777,12.02985668182373,11.446247100830078,11.3281831741333,11.525880813598633,11.616930961608887,12.383338928222656,11.860323905944824,11.905811309814453],\"xaxis\":\"x\",\"y\":[11.672820091247559,12.399800300598145,9.35807991027832,9.872305870056152,9.234310150146484,11.172513008117676,11.213624000549316,10.877196311950684,11.0181245803833,10.48111629486084,11.3573579788208,12.73338508605957,9.322154998779297,11.350421905517578,9.623096466064453,10.892351150512695,11.097441673278809,11.0452299118042,10.87463665008545,9.395666122436523,9.331644058227539,11.675183296203613,10.140952110290527,9.325654983520508,10.711466789245605,11.362078666687012,12.260801315307617,9.630218505859375,9.541104316711426,9.406988143920898,12.957133293151855,12.279112815856934,9.267984390258789,9.246319770812988],\"yaxis\":\"y\",\"type\":\"scatter\"},{\"customdata\":[[\"Hamb\\u00farguer Sora Carne Branca\"],[\"VegBurger Sabor Frango\"],[\"Hambuguer Incr\\u00edvel Seara Frango\"],[\"Frango Vegano em Peda\\u00e7os \\u00e0 Base de pea\"],[\"Hamb\\u00farguer de Frango Verdali\"]],\"hovertemplate\":\"Classification=POULTRY 2<br>x=%{x}<br>y=%{y}<br>Product's Name=%{customdata[0]}<extra></extra>\",\"legendgroup\":\"POULTRY 2\",\"marker\":{\"color\":\"#19d3f3\",\"symbol\":\"circle\"},\"mode\":\"markers\",\"name\":\"POULTRY 2\",\"orientation\":\"v\",\"showlegend\":true,\"x\":[14.666383743286133,10.83599853515625,11.971251487731934,13.183097839355469,12.264071464538574],\"xaxis\":\"x\",\"y\":[11.598737716674805,11.209794998168945,11.267322540283203,11.010021209716797,11.358319282531738],\"yaxis\":\"y\",\"type\":\"scatter\"},{\"customdata\":[[\"Empanado de Frango Vegabom\"],[\"Fil\\u00e9 de Frango Empanado Vegabom\"],[\"Empanados de Frango Vegway\"],[\"Empanados Incr\\u00edveis Seara\"],[\"Empanados Sadia Veg e Tal\"],[\"Empanadinho de Soja  Goshen\"],[\"Empanadinho de Soja Vegano  Goshen\"],[\"Steak de Soja Vegano Goshen\"],[\"Empanado Vegano (Mini Crispy) 100 Foods\"],[\"Crispy Chicken 100 Foods\"],[\"Mini Empanado de Legumes Superbom\"],[\"Steak Vegan Sabor Legumes Superbom\"],[\"Steak Veg\\u00ea Sabor Frango\"],[\"Steak Veg\\u00ea Sabor Frango Empanado\"]],\"hovertemplate\":\"Classification=POULTRY 1<br>x=%{x}<br>y=%{y}<br>Product's Name=%{customdata[0]}<extra></extra>\",\"legendgroup\":\"POULTRY 1\",\"marker\":{\"color\":\"#FF6692\",\"symbol\":\"circle\"},\"mode\":\"markers\",\"name\":\"POULTRY 1\",\"orientation\":\"v\",\"showlegend\":true,\"x\":[11.50389575958252,11.503657341003418,11.915972709655762,11.364021301269531,11.86584186553955,12.445083618164062,11.69836711883545,12.990339279174805,11.58912467956543,11.508123397827148,12.969259262084961,13.062773704528809,11.765091896057129,11.656365394592285],\"xaxis\":\"x\",\"y\":[12.632322311401367,12.615405082702637,10.340335845947266,10.116568565368652,9.91385555267334,12.022144317626953,12.648504257202148,12.387124061584473,9.867070198059082,9.501103401184082,10.694777488708496,10.95433521270752,9.453829765319824,9.305347442626953],\"yaxis\":\"y\",\"type\":\"scatter\"},{\"customdata\":[[\"Fil\\u00e9 Peixe Empanado Vegabom\"],[\"Tirinhas de Peixe Empanado Vegabom\"],[\"Bolinho de Bacalhau New Butchers\"],[\"Bolinho de Siri Amazonika Mundi\"],[\"Camar\\u00e3o de Soja Vegano Goshen\"]],\"hovertemplate\":\"Classification=FISH 2<br>x=%{x}<br>y=%{y}<br>Product's Name=%{customdata[0]}<extra></extra>\",\"legendgroup\":\"FISH 2\",\"marker\":{\"color\":\"#B6E880\",\"symbol\":\"circle\"},\"mode\":\"markers\",\"name\":\"FISH 2\",\"orientation\":\"v\",\"showlegend\":true,\"x\":[12.04848861694336,12.073169708251953,11.243315696716309,12.355097770690918,12.778990745544434],\"xaxis\":\"x\",\"y\":[11.797850608825684,11.767642974853516,9.507598876953125,13.10008430480957,12.83442497253418],\"yaxis\":\"y\",\"type\":\"scatter\"},{\"customdata\":[[\"Queijo Mu\\u00e7arela Vegabom\"],[\"Queijo Picante Vegabom\"],[\"Queijo Cheddar Vegabom\"],[\"Requeisoy Provolone \"],[\"Requeisoy Cheddar' \"],[\"Requeisoy Tradicional\"],[\"Requeisoy Gorgonzola\"],[\"Okeijo R\\u00fastico\"],[\"Okeijo Cremoso\"],[\"Okeijo Gratinado\"],[\"Okeijo Mussarela\"],[\"Okeijo Provolone\"],[\"Creme s Vida Veg\"],[\"Creme s fineherbs e Pesto\"],[\"Queijo mu\\u00e7arela\"],[\"Queijo minas frescal\"],[\"Queijo minas padr\\u00e3o\"],[\"Requeij\\u00e3o Tradicional\"],[\"Requeij\\u00e3o fineherbs\"],[\"Requeij\\u00e3o Defumado\"],[\"Queijo Zimurisku \"],[\"Queijo Zimurisku Temperado\"],[\"Queijo Mozarela NoMoo\"],[\"Queijo Provolone\"],[\"Queijo Ch\\u00e9vre\"],[\"Queijo Prato\"],[\"Queijo Parmes\\u00e3o\"],[\"Requeij\\u00e3o Nomoo\"],[\"Queijo Gorgolino\"],[\"Queijo Melhor Que Cheddar\"],[\"Queijo Recaishow\"],[\"Queijo Brie\"],[\"Mussarela Vegana Goshen\"],[\"Queijo ProVolone Veganita\"],[\"Queijo Munster Veganita\"],[\"Queijo Brie Veganita\"],[\"Queijo Mussarela Veganita\"],[\"Queijo Cheddar Veganita\"],[\"CREAM CHEESE CULIN\\u00c1RIO BASI.CO\"],[\"REQUEIJ\\u00c3O VEGETAL\"],[\"QUEIJO PARMES\\u00c3O\"],[\"QUEIJO MINAS VEGETAL\"],[\"QUEIJO PRATO\"],[\"QUEIJO MU\\u00c7ARELA\"],[\"QUEIJO CHEDDAR\"]],\"hovertemplate\":\"Classification=DAIRY 3<br>x=%{x}<br>y=%{y}<br>Product's Name=%{customdata[0]}<extra></extra>\",\"legendgroup\":\"DAIRY 3\",\"marker\":{\"color\":\"#FF97FF\",\"symbol\":\"circle\"},\"mode\":\"markers\",\"name\":\"DAIRY 3\",\"orientation\":\"v\",\"showlegend\":true,\"x\":[11.112147331237793,11.03671932220459,11.02445125579834,11.861662864685059,12.212657928466797,11.563069343566895,12.17178726196289,10.87014102935791,10.945419311523438,11.17442512512207,10.889688491821289,11.057374000549316,10.985858917236328,10.868703842163086,10.411526679992676,10.795877456665039,10.66423225402832,10.909008979797363,10.985570907592773,10.879000663757324,11.358875274658203,11.312753677368164,11.136458396911621,11.215794563293457,11.088175773620605,11.252253532409668,11.268656730651855,12.823196411132812,11.598526000976562,11.385590553283691,11.615646362304688,11.446496963500977,11.038287162780762,11.69318675994873,12.5418701171875,10.95139217376709,10.956276893615723,10.973230361938477,12.766757011413574,12.035747528076172,12.935553550720215,12.551159858703613,12.377388000488281,12.491636276245117,12.314101219177246],\"xaxis\":\"x\",\"y\":[13.471202850341797,13.393688201904297,13.349020004272461,14.040051460266113,14.11681079864502,13.826648712158203,14.211533546447754,12.589134216308594,12.702109336853027,9.76770305633545,12.61899471282959,12.82680606842041,14.605620384216309,14.758366584777832,13.500133514404297,13.542024612426758,13.49665641784668,14.814984321594238,14.701963424682617,14.703433990478516,10.213715553283691,10.321708679199219,14.453573226928711,14.123444557189941,13.868019104003906,14.077032089233398,10.146286010742188,13.56580638885498,14.0232572555542,13.778656959533691,14.087739944458008,13.747086524963379,14.264856338500977,13.734578132629395,13.414315223693848,14.80552864074707,14.750293731689453,14.726531028747559,14.152985572814941,14.120073318481445,13.577239036560059,14.363560676574707,14.03834056854248,13.941295623779297,14.05163860321045],\"yaxis\":\"y\",\"type\":\"scatter\"},{\"customdata\":[[\"Fil\\u00e9 de saltm\\u00e3o New Butchers\"],[\"Bacalhau New  Butchers\"],[\"Isca de Peixe Vegway\"],[\"Fil\\u00e9 de Peixe Vegway\"],[\"Vieira de Soja Vegway\"],[\"Bacalhau Incr\\u00edvel Seara\"],[\"Iscas de Peixe Incr\\u00edvel Seara\"],[\"Atum do Futuro\"]],\"hovertemplate\":\"Classification=FISH 1<br>x=%{x}<br>y=%{y}<br>Product's Name=%{customdata[0]}<extra></extra>\",\"legendgroup\":\"FISH 1\",\"marker\":{\"color\":\"#FECB52\",\"symbol\":\"circle\"},\"mode\":\"markers\",\"name\":\"FISH 1\",\"orientation\":\"v\",\"showlegend\":true,\"x\":[11.640050888061523,11.953311920166016,11.17672061920166,12.11095905303955,12.179781913757324,12.022173881530762,11.333586692810059,11.811190605163574],\"xaxis\":\"x\",\"y\":[10.965384483337402,9.709901809692383,10.37944221496582,10.395837783813477,10.11270809173584,9.891546249389648,10.104679107666016,11.175737380981445],\"yaxis\":\"y\",\"type\":\"scatter\"},{\"customdata\":[[\"Presunto de Soja Vegway\"],[\"Bacon Vegano\"],[\"Mortadela de Soja Vegana Goshen\"],[\"Presunto de Soja Defumado\"],[\"Presunto de Soja Vegano Fatiado Goshen\"],[\"Bacon Crispy Verdali\"]],\"hovertemplate\":\"Classification=PORK 2<br>x=%{x}<br>y=%{y}<br>Product's Name=%{customdata[0]}<extra></extra>\",\"legendgroup\":\"PORK 2\",\"marker\":{\"color\":\"#636efa\",\"symbol\":\"circle\"},\"mode\":\"markers\",\"name\":\"PORK 2\",\"orientation\":\"v\",\"showlegend\":true,\"x\":[12.781251907348633,11.725767135620117,13.197294235229492,13.14259147644043,13.172022819519043,11.985708236694336],\"xaxis\":\"x\",\"y\":[12.122838973999023,9.756860733032227,12.834856986999512,12.273717880249023,12.695207595825195,9.69360637664795],\"yaxis\":\"y\",\"type\":\"scatter\"},{\"customdata\":[[\"Not Milk \"],[\"Not Milk Semidesnatado\"],[\" Vegetal de almonds\"],[\" vegetal \"],[\" Vegetal de almonds Fresco\"],[\" Vegetal  de Caj\\u00fa Fresco\"],[\" Vegetal  Fresco\"],[\" Vegetal Noats Original\"],[\" Vegetal Noats Barista\"],[\" Jasmine rice em P\\u00f3\"],[\" BIOV jasmine rice com amendoas\"],[\" BIOV jasmine rice com coco\"],[\" BioV oats Jasmine\"],[\" Jasmine rice \"],[\" Jasmine rice com oats\"],[\"Bebida de rice Nesfit\"],[\"Bebida Natural Nesfit\"],[\"Bebida de rice  e Amendoas Nesfit\"],[\"Bebida de rice e Coco Nesfit\"],[\"Bebida de oats Nesfit\"],[\"Bebida de oats e cocoa\"],[\"Molico Vegetal Nestl\\u00e9\"],[\"Ninho Vegetal Nestl\\u00e9\"],[\"Ninho Banana e apple Nestl\\u00e9\"],[\"Nude Edi\\u00e7\\u00e3o Barista\"],[\"Nude Original \"],[\"Nude Sabor Baunilha\"],[\"Nude de cocoa\"],[\"Nude + calcium\"],[\"Nude Barista\"],[\"Almond Breeze Original\"],[\"Almond Breeze Chocolate\"],[\"Almond Breeze Baunilha\"],[\"Almond Breeze Sem sugar\"],[\"Almond Breeze Amendoas com Coco\"],[\"Almond Breeze Chocolate Sem sugar\"],[\" de Amendoas Silk Sem sugar\"],[\" de Amendoas Silk \"],[\" cashews Silk\"],[\" de almonds e cocoa Silk\"],[\" de almonds Silk Coco\"],[\"Bebida de rice L\\u00edquida Sabor Original\"],[\"Bebida de rice L\\u00edquida Sabor almonds\"],[\"Bebida de rice L\\u00edquida Sabor peanuts\\n\"],[\"Bebida de rice L\\u00edquida Sabor cashews\"],[\"Bebida de rice L\\u00edquida Sabor Chocolate\"],[\"Bebida de rice L\\u00edquida Sabor Coco\"],[\"Bebida de rice L\\u00edquida Sabor Baunilha\"],[\"Bebida de rice Em P\\u00f3 Sabor Original\"],[\"Bebida de rice Em P\\u00f3 Sabor Original\"],[\"Bebida de rice Em P\\u00f3 Sabor Banana e apple\"],[\"Bebida de rice Em P\\u00f3 Sabor Chocolate\"],[\"Bebida de rice Em P\\u00f3 Sabor strawberries\"],[\" a tal da castanha barista\"],[\" a tal da castanha original\"],[\" a tal da castanha caju + Coco\"],[\" a tal da castanha almonds\"],[\" a tal da castanha castanha + cocoa\"],[\" a tal da castanha oats\"],[\" a tal da castanha mixed nuts\"],[\" a tal da castanha caju + Par\\u00e1\"],[\" a tal da castanha caju + peanuts\"],[\" Natuterra oats + Coco\"],[\" de almonds Natuterra\"],[\" Natuterra oats \"],[\" Vegetal 3 Nuts \\u2013 macadamianuts, almonds e cashews\"],[\" Vegetal de macadamianuts e Coco\"],[\" Vegetal de macadamianuts e cashews\"],[\" Vegetal Possible Foods\"],[\" Vegetal Possible Foods Chocolate\"],[\"Bebida de castanh de caj\\u00fa sem adi\\u00e7\\u00e3o de sugar nature's heart\"],[\"Bebida de almonds s/ adi\\u00e7\\u00e3o de sugares 1L \\u2013 Nature\\u2019s Heart\"],[\"Bebida de rice s/ adi\\u00e7\\u00e3o de sugares 1L \\u2013 Nature\\u2019s Heart\"],[\"Bebida de oats s/ adi\\u00e7\\u00e3o de sugares 1L \\u2013 Nature\\u2019s Heart\"],[\"Bebida de cocoa & rice 1L \\u2013 Nature\\u2019s Heart\"],[\"Bebida  & rice s/ adi\\u00e7\\u00e3o de sugares 1L \\u2013 Nature\\u2019s Heart\"],[\" Vegetal de soy Naturis Batavo\"],[\" DUOLAT peanuts E CASTANHA 1L - CAJUEIRO\"],[\" 85 CASTANHAS 1L - CAJUEIRO\"],[\" TOASTED 1L - CAJUEIRO\"]],\"hovertemplate\":\"Classification=DAIRY 1<br>x=%{x}<br>y=%{y}<br>Product's Name=%{customdata[0]}<extra></extra>\",\"legendgroup\":\"DAIRY 1\",\"marker\":{\"color\":\"#EF553B\",\"symbol\":\"circle\"},\"mode\":\"markers\",\"name\":\"DAIRY 1\",\"orientation\":\"v\",\"showlegend\":true,\"x\":[3.0825273990631104,3.175779342651367,2.8881587982177734,2.9820618629455566,2.8327248096466064,2.945941686630249,3.031999349594116,7.264134407043457,7.272028923034668,4.471037864685059,5.128998279571533,4.641263961791992,7.265382766723633,4.618483066558838,4.5486650466918945,4.290522575378418,4.162728309631348,4.469971656799316,4.573922634124756,4.413815975189209,4.499238967895508,4.631653785705566,4.8794169425964355,4.679267883300781,4.074840068817139,5.494152069091797,4.954685688018799,5.072097301483154,4.74195671081543,4.143463134765625,3.950150489807129,4.6576056480407715,4.576278209686279,2.715148687362671,2.7962265014648438,3.11272931098938,6.154720783233643,5.760404109954834,6.291806221008301,6.624709129333496,6.3411359786987305,6.4283223152160645,6.380873680114746,6.4296464920043945,6.3852105140686035,6.452934741973877,6.499711990356445,6.577094078063965,10.165877342224121,10.157145500183105,10.245574951171875,10.232881546020508,10.273344039916992,5.966045379638672,5.969741344451904,5.930412769317627,2.8013274669647217,6.443840503692627,4.166703224182129,2.8843445777893066,5.979546070098877,5.848853588104248,2.708454132080078,2.7075047492980957,2.747415542602539,5.981063365936279,5.989904403686523,5.981539726257324,3.6136820316314697,4.386120796203613,2.7649474143981934,2.767270088195801,4.4719343185424805,4.372714519500732,4.561802864074707,4.475774765014648,3.050682306289673,6.0765461921691895,6.020690441131592,6.172741889953613],\"xaxis\":\"x\",\"y\":[6.895979881286621,6.827788829803467,6.567822456359863,6.459330081939697,6.572729110717773,6.644020080566406,6.478533744812012,9.117773056030273,9.12302303314209,7.3004255294799805,7.566251754760742,7.168357849121094,9.086318016052246,7.307607173919678,7.198990821838379,6.517014980316162,6.7988600730896,6.447319984436035,6.618093967437744,6.5447468757629395,6.423036098480225,6.540314197540283,6.593170642852783,7.145610332489014,6.919469833374023,7.967622756958008,7.40535831451416,7.522217750549316,7.002552509307861,6.900055885314941,6.493455410003662,6.982896327972412,6.394804000854492,6.409256458282471,6.735026836395264,6.535211563110352,8.591299057006836,8.343738555908203,8.515626907348633,7.923556327819824,8.921266555786133,8.138609886169434,8.188783645629883,8.096288681030273,8.01357364654541,8.169578552246094,8.128148078918457,7.976869106292725,13.318243026733398,13.309301376342773,13.384688377380371,13.387557029724121,13.418885231018066,8.433838844299316,8.766168594360352,8.940245628356934,6.891067028045654,8.07508659362793,6.620809078216553,6.675622463226318,8.817682266235352,9.013407707214355,6.633562088012695,6.819267749786377,6.80912971496582,9.05651569366455,9.009929656982422,8.800860404968262,6.5329270362854,6.24431037902832,6.618884563446045,6.852084636688232,6.573309421539307,6.594773769378662,6.872762203216553,6.710597515106201,6.920388221740723,8.762689590454102,8.98048210144043,8.83991527557373],\"yaxis\":\"y\",\"type\":\"scatter\"},{\"customdata\":[[\"Iogurte \"],[\"Iogurte  com strawberries\"],[\"Iogurte  com banana, apple e papaya\"],[\"Iogurte  Zero sugar\"],[\"Iogurte  com strawberries Zero sugar\"],[\"Iogurte GregoVeg \"],[\"Iogurte GregoVeg  com strawberries\"],[\"Iogurte Proteico 14g sabor strawberries\"],[\"Shake \"],[\"Iogurte Proteico 14g sabor  peanuts\"],[\"Creme de almonds\"]],\"hovertemplate\":\"Classification=DAIRY 2<br>x=%{x}<br>y=%{y}<br>Product's Name=%{customdata[0]}<extra></extra>\",\"legendgroup\":\"DAIRY 2\",\"marker\":{\"color\":\"#00cc96\",\"symbol\":\"circle\"},\"mode\":\"markers\",\"name\":\"DAIRY 2\",\"orientation\":\"v\",\"showlegend\":true,\"x\":[3.5595502853393555,3.589921712875366,3.5474514961242676,3.2261407375335693,3.3155601024627686,6.743891716003418,6.759555816650391,3.2313811779022217,6.261175632476807,3.376227617263794,11.457806587219238],\"xaxis\":\"x\",\"y\":[7.175816535949707,7.2250213623046875,7.184615135192871,6.7936930656433105,6.961298942565918,8.80693244934082,8.706708908081055,7.140644073486328,8.770764350891113,7.150459289550781,13.916086196899414],\"yaxis\":\"y\",\"type\":\"scatter\"},{\"customdata\":[[\"MAIONESE VEGETAL SUPERBOM\"],[\"MAIONESE FUGINI\"],[\"NOT MAYO\"],[\"NOT MAYO garlic\"],[\"NOT MAYO AZEITONA\"],[\"NOT MAYO PICANTE\"],[\"MAIONESE V-MAYO\"],[\"MAIONESE V-MAYO ApepperDA\"],[\"MAIONESE V-MAYO TRUFADA\"],[\"MAIONESE V-MAYO DE ABACATE\"],[\"MAIONESE V-MAYO DE garlic\"],[\"MAIONESE HELLMANS\"],[\"MAIONESE VEGANA FUGINI\"],[\"MAIONESE DEL\\u00cdCIAS DE GOI\\u00c1S\"]],\"hovertemplate\":\"Classification=EGG 1<br>x=%{x}<br>y=%{y}<br>Product's Name=%{customdata[0]}<extra></extra>\",\"legendgroup\":\"EGG 1\",\"marker\":{\"color\":\"#ab63fa\",\"symbol\":\"circle\"},\"mode\":\"markers\",\"name\":\"EGG 1\",\"orientation\":\"v\",\"showlegend\":true,\"x\":[13.130813598632812,12.86674976348877,11.802155494689941,11.945690155029297,11.996686935424805,12.039908409118652,12.518074035644531,12.513777732849121,12.65818977355957,12.59442138671875,12.558854103088379,12.735671043395996,11.487378120422363,12.265792846679688],\"xaxis\":\"x\",\"y\":[12.78865909576416,14.005036354064941,14.269679069519043,14.304835319519043,14.272659301757812,14.306082725524902,14.409018516540527,14.358708381652832,14.216782569885254,14.31229305267334,14.37265682220459,14.142683029174805,13.399434089660645,13.570226669311523],\"yaxis\":\"y\",\"type\":\"scatter\"},{\"customdata\":[[\"Ovos Novos\"],[\"VEGAN PRO EGGS NUTRIFY\"]],\"hovertemplate\":\"Classification=EGG 2<br>x=%{x}<br>y=%{y}<br>Product's Name=%{customdata[0]}<extra></extra>\",\"legendgroup\":\"EGG 2\",\"marker\":{\"color\":\"#FFA15A\",\"symbol\":\"circle\"},\"mode\":\"markers\",\"name\":\"EGG 2\",\"orientation\":\"v\",\"showlegend\":true,\"x\":[13.379435539245605,14.43380355834961],\"xaxis\":\"x\",\"y\":[12.23961353302002,11.756072998046875],\"yaxis\":\"y\",\"type\":\"scatter\"}],                        {\"template\":{\"data\":{\"bar\":[{\"error_x\":{\"color\":\"#2a3f5f\"},\"error_y\":{\"color\":\"#2a3f5f\"},\"marker\":{\"line\":{\"color\":\"#E5ECF6\",\"width\":0.5},\"pattern\":{\"fillmode\":\"overlay\",\"size\":10,\"solidity\":0.2}},\"type\":\"bar\"}],\"barpolar\":[{\"marker\":{\"line\":{\"color\":\"#E5ECF6\",\"width\":0.5},\"pattern\":{\"fillmode\":\"overlay\",\"size\":10,\"solidity\":0.2}},\"type\":\"barpolar\"}],\"carpet\":[{\"aaxis\":{\"endlinecolor\":\"#2a3f5f\",\"gridcolor\":\"white\",\"linecolor\":\"white\",\"minorgridcolor\":\"white\",\"startlinecolor\":\"#2a3f5f\"},\"baxis\":{\"endlinecolor\":\"#2a3f5f\",\"gridcolor\":\"white\",\"linecolor\":\"white\",\"minorgridcolor\":\"white\",\"startlinecolor\":\"#2a3f5f\"},\"type\":\"carpet\"}],\"choropleth\":[{\"colorbar\":{\"outlinewidth\":0,\"ticks\":\"\"},\"type\":\"choropleth\"}],\"contour\":[{\"colorbar\":{\"outlinewidth\":0,\"ticks\":\"\"},\"colorscale\":[[0.0,\"#0d0887\"],[0.1111111111111111,\"#46039f\"],[0.2222222222222222,\"#7201a8\"],[0.3333333333333333,\"#9c179e\"],[0.4444444444444444,\"#bd3786\"],[0.5555555555555556,\"#d8576b\"],[0.6666666666666666,\"#ed7953\"],[0.7777777777777778,\"#fb9f3a\"],[0.8888888888888888,\"#fdca26\"],[1.0,\"#f0f921\"]],\"type\":\"contour\"}],\"contourcarpet\":[{\"colorbar\":{\"outlinewidth\":0,\"ticks\":\"\"},\"type\":\"contourcarpet\"}],\"heatmap\":[{\"colorbar\":{\"outlinewidth\":0,\"ticks\":\"\"},\"colorscale\":[[0.0,\"#0d0887\"],[0.1111111111111111,\"#46039f\"],[0.2222222222222222,\"#7201a8\"],[0.3333333333333333,\"#9c179e\"],[0.4444444444444444,\"#bd3786\"],[0.5555555555555556,\"#d8576b\"],[0.6666666666666666,\"#ed7953\"],[0.7777777777777778,\"#fb9f3a\"],[0.8888888888888888,\"#fdca26\"],[1.0,\"#f0f921\"]],\"type\":\"heatmap\"}],\"heatmapgl\":[{\"colorbar\":{\"outlinewidth\":0,\"ticks\":\"\"},\"colorscale\":[[0.0,\"#0d0887\"],[0.1111111111111111,\"#46039f\"],[0.2222222222222222,\"#7201a8\"],[0.3333333333333333,\"#9c179e\"],[0.4444444444444444,\"#bd3786\"],[0.5555555555555556,\"#d8576b\"],[0.6666666666666666,\"#ed7953\"],[0.7777777777777778,\"#fb9f3a\"],[0.8888888888888888,\"#fdca26\"],[1.0,\"#f0f921\"]],\"type\":\"heatmapgl\"}],\"histogram\":[{\"marker\":{\"pattern\":{\"fillmode\":\"overlay\",\"size\":10,\"solidity\":0.2}},\"type\":\"histogram\"}],\"histogram2d\":[{\"colorbar\":{\"outlinewidth\":0,\"ticks\":\"\"},\"colorscale\":[[0.0,\"#0d0887\"],[0.1111111111111111,\"#46039f\"],[0.2222222222222222,\"#7201a8\"],[0.3333333333333333,\"#9c179e\"],[0.4444444444444444,\"#bd3786\"],[0.5555555555555556,\"#d8576b\"],[0.6666666666666666,\"#ed7953\"],[0.7777777777777778,\"#fb9f3a\"],[0.8888888888888888,\"#fdca26\"],[1.0,\"#f0f921\"]],\"type\":\"histogram2d\"}],\"histogram2dcontour\":[{\"colorbar\":{\"outlinewidth\":0,\"ticks\":\"\"},\"colorscale\":[[0.0,\"#0d0887\"],[0.1111111111111111,\"#46039f\"],[0.2222222222222222,\"#7201a8\"],[0.3333333333333333,\"#9c179e\"],[0.4444444444444444,\"#bd3786\"],[0.5555555555555556,\"#d8576b\"],[0.6666666666666666,\"#ed7953\"],[0.7777777777777778,\"#fb9f3a\"],[0.8888888888888888,\"#fdca26\"],[1.0,\"#f0f921\"]],\"type\":\"histogram2dcontour\"}],\"mesh3d\":[{\"colorbar\":{\"outlinewidth\":0,\"ticks\":\"\"},\"type\":\"mesh3d\"}],\"parcoords\":[{\"line\":{\"colorbar\":{\"outlinewidth\":0,\"ticks\":\"\"}},\"type\":\"parcoords\"}],\"pie\":[{\"automargin\":true,\"type\":\"pie\"}],\"scatter\":[{\"marker\":{\"colorbar\":{\"outlinewidth\":0,\"ticks\":\"\"}},\"type\":\"scatter\"}],\"scatter3d\":[{\"line\":{\"colorbar\":{\"outlinewidth\":0,\"ticks\":\"\"}},\"marker\":{\"colorbar\":{\"outlinewidth\":0,\"ticks\":\"\"}},\"type\":\"scatter3d\"}],\"scattercarpet\":[{\"marker\":{\"colorbar\":{\"outlinewidth\":0,\"ticks\":\"\"}},\"type\":\"scattercarpet\"}],\"scattergeo\":[{\"marker\":{\"colorbar\":{\"outlinewidth\":0,\"ticks\":\"\"}},\"type\":\"scattergeo\"}],\"scattergl\":[{\"marker\":{\"colorbar\":{\"outlinewidth\":0,\"ticks\":\"\"}},\"type\":\"scattergl\"}],\"scattermapbox\":[{\"marker\":{\"colorbar\":{\"outlinewidth\":0,\"ticks\":\"\"}},\"type\":\"scattermapbox\"}],\"scatterpolar\":[{\"marker\":{\"colorbar\":{\"outlinewidth\":0,\"ticks\":\"\"}},\"type\":\"scatterpolar\"}],\"scatterpolargl\":[{\"marker\":{\"colorbar\":{\"outlinewidth\":0,\"ticks\":\"\"}},\"type\":\"scatterpolargl\"}],\"scatterternary\":[{\"marker\":{\"colorbar\":{\"outlinewidth\":0,\"ticks\":\"\"}},\"type\":\"scatterternary\"}],\"surface\":[{\"colorbar\":{\"outlinewidth\":0,\"ticks\":\"\"},\"colorscale\":[[0.0,\"#0d0887\"],[0.1111111111111111,\"#46039f\"],[0.2222222222222222,\"#7201a8\"],[0.3333333333333333,\"#9c179e\"],[0.4444444444444444,\"#bd3786\"],[0.5555555555555556,\"#d8576b\"],[0.6666666666666666,\"#ed7953\"],[0.7777777777777778,\"#fb9f3a\"],[0.8888888888888888,\"#fdca26\"],[1.0,\"#f0f921\"]],\"type\":\"surface\"}],\"table\":[{\"cells\":{\"fill\":{\"color\":\"#EBF0F8\"},\"line\":{\"color\":\"white\"}},\"header\":{\"fill\":{\"color\":\"#C8D4E3\"},\"line\":{\"color\":\"white\"}},\"type\":\"table\"}]},\"layout\":{\"annotationdefaults\":{\"arrowcolor\":\"#2a3f5f\",\"arrowhead\":0,\"arrowwidth\":1},\"autotypenumbers\":\"strict\",\"coloraxis\":{\"colorbar\":{\"outlinewidth\":0,\"ticks\":\"\"}},\"colorscale\":{\"diverging\":[[0,\"#8e0152\"],[0.1,\"#c51b7d\"],[0.2,\"#de77ae\"],[0.3,\"#f1b6da\"],[0.4,\"#fde0ef\"],[0.5,\"#f7f7f7\"],[0.6,\"#e6f5d0\"],[0.7,\"#b8e186\"],[0.8,\"#7fbc41\"],[0.9,\"#4d9221\"],[1,\"#276419\"]],\"sequential\":[[0.0,\"#0d0887\"],[0.1111111111111111,\"#46039f\"],[0.2222222222222222,\"#7201a8\"],[0.3333333333333333,\"#9c179e\"],[0.4444444444444444,\"#bd3786\"],[0.5555555555555556,\"#d8576b\"],[0.6666666666666666,\"#ed7953\"],[0.7777777777777778,\"#fb9f3a\"],[0.8888888888888888,\"#fdca26\"],[1.0,\"#f0f921\"]],\"sequentialminus\":[[0.0,\"#0d0887\"],[0.1111111111111111,\"#46039f\"],[0.2222222222222222,\"#7201a8\"],[0.3333333333333333,\"#9c179e\"],[0.4444444444444444,\"#bd3786\"],[0.5555555555555556,\"#d8576b\"],[0.6666666666666666,\"#ed7953\"],[0.7777777777777778,\"#fb9f3a\"],[0.8888888888888888,\"#fdca26\"],[1.0,\"#f0f921\"]]},\"colorway\":[\"#636efa\",\"#EF553B\",\"#00cc96\",\"#ab63fa\",\"#FFA15A\",\"#19d3f3\",\"#FF6692\",\"#B6E880\",\"#FF97FF\",\"#FECB52\"],\"font\":{\"color\":\"#2a3f5f\"},\"geo\":{\"bgcolor\":\"white\",\"lakecolor\":\"white\",\"landcolor\":\"#E5ECF6\",\"showlakes\":true,\"showland\":true,\"subunitcolor\":\"white\"},\"hoverlabel\":{\"align\":\"left\"},\"hovermode\":\"closest\",\"mapbox\":{\"style\":\"light\"},\"paper_bgcolor\":\"white\",\"plot_bgcolor\":\"#E5ECF6\",\"polar\":{\"angularaxis\":{\"gridcolor\":\"white\",\"linecolor\":\"white\",\"ticks\":\"\"},\"bgcolor\":\"#E5ECF6\",\"radialaxis\":{\"gridcolor\":\"white\",\"linecolor\":\"white\",\"ticks\":\"\"}},\"scene\":{\"xaxis\":{\"backgroundcolor\":\"#E5ECF6\",\"gridcolor\":\"white\",\"gridwidth\":2,\"linecolor\":\"white\",\"showbackground\":true,\"ticks\":\"\",\"zerolinecolor\":\"white\"},\"yaxis\":{\"backgroundcolor\":\"#E5ECF6\",\"gridcolor\":\"white\",\"gridwidth\":2,\"linecolor\":\"white\",\"showbackground\":true,\"ticks\":\"\",\"zerolinecolor\":\"white\"},\"zaxis\":{\"backgroundcolor\":\"#E5ECF6\",\"gridcolor\":\"white\",\"gridwidth\":2,\"linecolor\":\"white\",\"showbackground\":true,\"ticks\":\"\",\"zerolinecolor\":\"white\"}},\"shapedefaults\":{\"line\":{\"color\":\"#2a3f5f\"}},\"ternary\":{\"aaxis\":{\"gridcolor\":\"white\",\"linecolor\":\"white\",\"ticks\":\"\"},\"baxis\":{\"gridcolor\":\"white\",\"linecolor\":\"white\",\"ticks\":\"\"},\"bgcolor\":\"#E5ECF6\",\"caxis\":{\"gridcolor\":\"white\",\"linecolor\":\"white\",\"ticks\":\"\"}},\"title\":{\"x\":0.05},\"xaxis\":{\"automargin\":true,\"gridcolor\":\"white\",\"linecolor\":\"white\",\"ticks\":\"\",\"title\":{\"standoff\":15},\"zerolinecolor\":\"white\",\"zerolinewidth\":2},\"yaxis\":{\"automargin\":true,\"gridcolor\":\"white\",\"linecolor\":\"white\",\"ticks\":\"\",\"title\":{\"standoff\":15},\"zerolinecolor\":\"white\",\"zerolinewidth\":2}}},\"xaxis\":{\"anchor\":\"y\",\"domain\":[0.0,1.0],\"title\":{\"text\":\"x\"}},\"yaxis\":{\"anchor\":\"x\",\"domain\":[0.0,1.0],\"title\":{\"text\":\"y\"}},\"legend\":{\"title\":{\"text\":\"Classification\"},\"tracegroupgap\":0},\"margin\":{\"t\":60},\"width\":800},                        {\"responsive\": true}                    ).then(function(){\n",
              "                            \n",
              "var gd = document.getElementById('7d24927e-655c-42ea-ab2f-ba432e11ee61');\n",
              "var x = new MutationObserver(function (mutations, observer) {{\n",
              "        var display = window.getComputedStyle(gd).display;\n",
              "        if (!display || display === 'none') {{\n",
              "            console.log([gd, 'removed!']);\n",
              "            Plotly.purge(gd);\n",
              "            observer.disconnect();\n",
              "        }}\n",
              "}});\n",
              "\n",
              "// Listen for the removal of the full notebook cells\n",
              "var notebookContainer = gd.closest('#notebook-container');\n",
              "if (notebookContainer) {{\n",
              "    x.observe(notebookContainer, {childList: true});\n",
              "}}\n",
              "\n",
              "// Listen for the clearing of the current output cell\n",
              "var outputEl = gd.closest('.output');\n",
              "if (outputEl) {{\n",
              "    x.observe(outputEl, {childList: true});\n",
              "}}\n",
              "\n",
              "                        })                };                            </script>        </div>\n",
              "</body>\n",
              "</html>"
            ]
          },
          "metadata": {}
        }
      ]
    },
    {
      "cell_type": "markdown",
      "source": [
        "### PCA"
      ],
      "metadata": {
        "id": "29zJ_sqZd1gv"
      }
    },
    {
      "cell_type": "code",
      "source": [
        "sklearn_pca = sklearnPCA(n_components=2)\n",
        "X_pca = sklearn_pca.fit_transform(X)\n",
        "\n",
        "X_pca[1:4, :]\n",
        "all_data['x'] = X_pca[:,0]\n",
        "all_data['y'] = X_pca[:,1]\n",
        "\n",
        "fig = px.scatter(\n",
        "    all_data, \n",
        "    x='x', \n",
        "    y='y', \n",
        "    color='Classification', \n",
        "    template=\"simple_white\",\n",
        "    labels={ \n",
        "      \"Classification\": \"Classification (Label)\"\n",
        "    },\n",
        "    color_discrete_sequence= px.colors.qualitative.Plotly + px.colors.qualitative.Bold,\n",
        "    hover_name=\"Description\",\n",
        "    hover_data={'x':False,\n",
        "                'y':False,  \n",
        "                'Kcal ': [f' {x}' for x in data['Kcal']],\n",
        "                'Serving Size ': [f' {y}' for y in data['Serving Size']],\n",
        "                'Carbohydrate ': [f' {z}' for z in data['Carbohydrate']],\n",
        "                'Sugars ': [f' {a}' for a in data['Sugars']],\n",
        "                'Proteins ': [f' {b}' for b in data['Proteins']],\n",
        "                }, #'Ingredients':True}, \n",
        "    width=800)\n",
        "\n",
        "fig.update_layout(xaxis={'visible': False},\n",
        "                  yaxis={'visible': False},\n",
        "                  margin=dict(l=0,r=0,b=0,t=0))\n",
        "\n",
        "fig.show()\n",
        "fig.write_image('imgs/PCA_ALL.eps', format='eps')"
      ],
      "metadata": {
        "colab": {
          "base_uri": "https://localhost:8080/",
          "height": 542
        },
        "id": "3LsXNNwnd4VR",
        "outputId": "2e393702-c135-4331-c634-75a10ea2a1c5"
      },
      "execution_count": 75,
      "outputs": [
        {
          "output_type": "display_data",
          "data": {
            "text/html": [
              "<html>\n",
              "<head><meta charset=\"utf-8\" /></head>\n",
              "<body>\n",
              "    <div>            <script src=\"https://cdnjs.cloudflare.com/ajax/libs/mathjax/2.7.5/MathJax.js?config=TeX-AMS-MML_SVG\"></script><script type=\"text/javascript\">if (window.MathJax) {MathJax.Hub.Config({SVG: {font: \"STIX-Web\"}});}</script>                <script type=\"text/javascript\">window.PlotlyConfig = {MathJaxConfig: 'local'};</script>\n",
              "        <script src=\"https://cdn.plot.ly/plotly-2.8.3.min.js\"></script>                <div id=\"d1ec6a76-5df9-4298-9cb5-3f099a491131\" class=\"plotly-graph-div\" style=\"height:525px; width:800px;\"></div>            <script type=\"text/javascript\">                                    window.PLOTLYENV=window.PLOTLYENV || {};                                    if (document.getElementById(\"d1ec6a76-5df9-4298-9cb5-3f099a491131\")) {                    Plotly.newPlot(                        \"d1ec6a76-5df9-4298-9cb5-3f099a491131\",                        [{\"customdata\":[[\" 168.0\",\" 80.0\",\" 11.0\",\" 0.0\",\" 8.2\"],[\" 234.0\",\" 100.0\",\" 12.0\",\" 0.0\",\" 19.0\"],[\" 146.0\",\" 80.0\",\" 3.7\",\" 0.0\",\" 14.0\"],[\" 166.0\",\" 100.0\",\" 10.0\",\" 0.0\",\" 13.0\"],[\" 166.0\",\" 100.0\",\" 10.0\",\" 0.0\",\" 13.0\"],[\" 178.0\",\" 75.0\",\" 33.0\",\" 0.0\",\" 4.3\"],[\" 158.0\",\" 80.0\",\" 9.3\",\" 0.0\",\" 7.8\"],[\" 77.0\",\" 50.0\",\" 2.1\",\" 0.0\",\" 13.0\"],[\" 188.0\",\" 100.0\",\" 6.0\",\" 0.0\",\" 14.0\"]],\"hovertemplate\":\"<b>%{hovertext}</b><br><br>Classification (Label)=MEAT 2<br>Kcal =%{customdata[0]}<br>Serving Size =%{customdata[1]}<br>Carbohydrate =%{customdata[2]}<br>Sugars =%{customdata[3]}<br>Proteins =%{customdata[4]}<extra></extra>\",\"hovertext\":[\"Carne Mo\\u00edda do Futuro\",\"Almondegas de Soja Vegway\",\"Almondegas Amazonika Mundi\",\"Kibe Incr\\u00edvel Seara\",\"Almondegas Incr\\u00edveis Seara\",\"Almondegas Mr Veggy\",\"Carne Mo\\u00edda Superbom\",\"Carne Vegetal Mo\\u00edda Superbom\",\"Carne Mo\\u00edda Vegetal Verdali\"],\"legendgroup\":\"MEAT 2\",\"marker\":{\"color\":\"#636EFA\",\"symbol\":\"circle\"},\"mode\":\"markers\",\"name\":\"MEAT 2\",\"orientation\":\"v\",\"showlegend\":true,\"x\":[1.061583670196983,1.0991538863323438,1.0295648203749923,1.4100958374402457,2.2064177985724,0.9318843922771178,-0.31779844956813535,0.5626871301599186,0.7308401813449922],\"xaxis\":\"x\",\"y\":[-0.052190965788114475,0.9834077405162666,-0.8705314535024298,-1.0067716035487955,-1.7272475231708897,-0.15949978945304882,-0.08387928770920931,1.0648660988114131,0.14336276841274462],\"yaxis\":\"y\",\"type\":\"scatter\"},{\"customdata\":[[\" 168.0\",\" 80.0\",\" 11.0\",\" 0.0\",\" 8.2\"],[\" 150.0\",\" 50.0\",\" 10.0\",\" 0.0\",\" 25.0\"],[\" 150.0\",\" 50.0\",\" 10.0\",\" 0.0\",\" 25.0\"],[\" 62.0\",\" 50.0\",\" 1.0\",\" 0.0\",\" 10.0\"],[\" 62.0\",\" 50.0\",\" 1.0\",\" 0.0\",\" 10.0\"],[\" 115.0\",\" 60.0\",\" 2.8\",\" 0.0\",\" 7.5\"],[\" 115.0\",\" 60.0\",\" 3.1\",\" 0.0\",\" 7.5\"],[\" 121.0\",\" 350.0\",\" 9.3\",\" 0.0\",\" 9.3\"],[\" 88.0\",\" 40.0\",\" 6.0\",\" 0.0\",\" 6.3\"],[\" 129.0\",\" 80.0\",\" 12.0\",\" 0.0\",\" 11.0\"],[\" 203.0\",\" 100.0\",\" 13.0\",\" 0.0\",\" 9.2\"],[\" 64.0\",\" 40.0\",\" 2.7\",\" 0.0\",\" 7.8\"],[\" 26.0\",\" 50.0\",\" 0.5\",\" 0.0\",\" 5.0\"],[\" 22.0\",\" 50.0\",\" 0.5\",\" 0.0\",\" 5.3\"],[\" 53.0\",\" 50.0\",\" 0.0\",\" 0.0\",\" 5.4\"],[\" 63.0\",\" 50.0\",\" 0.2\",\" 0.0\",\" 6.3\"],[\" 144.0\",\" 100.0\",\" 5.0\",\" 0.0\",\" 22.0\"],[\" 119.0\",\" 100.0\",\" 5.0\",\" 0.0\",\" 18.0\"]],\"hovertemplate\":\"<b>%{hovertext}</b><br><br>Classification (Label)=MEAT 3<br>Kcal =%{customdata[0]}<br>Serving Size =%{customdata[1]}<br>Carbohydrate =%{customdata[2]}<br>Sugars =%{customdata[3]}<br>Proteins =%{customdata[4]}<extra></extra>\",\"hovertext\":[\"Carne Mo\\u00edda do Futuro\",\"Fil\\u00e9s Sora Carne Vermelha\",\"Fatias Sora Carne Vermelha\",\"Fil\\u00e9 Pronto Saud\\u00e1vel Sora\",\"Carne Mo\\u00edda Pronto Saud\\u00e1vel Sora\",\"Churrasco Vegabom\",\"Churrasco Aoniondo Vegabom\",\"Carne de Pernil Seara\",\"Alm\\u00f4ndega de Soja Vegana Goshen\",\"Bife de Soja Vegano Goshen\",\"Alm\\u00f4ndega Vegana Superbom\",\"Bife Vegetal Superbom\",\"Escalope ao Molho Caseiro Superbom\",\"Cubinhos ao Molho Mexicano Superbom\",\"Alm\\u00f4ndegas ao Molho Sugo Superbom\",\"Medalh\\u00e3o ao Molho Madeira Superbom\",\"Mignon Verdali\",\"Steak Verdali\"],\"legendgroup\":\"MEAT 3\",\"marker\":{\"color\":\"#EF553B\",\"symbol\":\"circle\"},\"mode\":\"markers\",\"name\":\"MEAT 3\",\"orientation\":\"v\",\"showlegend\":true,\"x\":[0.9374131558242628,-0.1888258010843985,-0.5011313832832806,0.2981082125585835,0.2981082125585835,1.0793430655971379,1.079322027026814,2.0945603534580948,0.6291963235137348,0.7502821103750579,-0.36651795836051776,0.3678268150039057,0.9553626565192581,0.6347588567822074,1.3302636044661447,1.5125154006259118,1.3335732006412369,0.6651495279031029],\"xaxis\":\"x\",\"y\":[0.15364420026079367,0.047452540915721396,0.3263117271231702,-0.5309193812753741,-0.5309193812753741,-0.12966219187700667,-0.13017539635321868,-1.8661655200474336,1.4483272726236567,1.5901022854813114,-0.1247093233898289,0.573802389635524,-0.1341118084525505,0.14980402775513524,0.6424550615142407,1.0214277225205897,-0.4443140849685995,0.20360350861439905],\"yaxis\":\"y\",\"type\":\"scatter\"},{\"customdata\":[[\" 168.0\",\" 80.0\",\" 11.0\",\" 0.0\",\" 8.2\"],[\" 150.0\",\" 50.0\",\" 10.0\",\" 0.0\",\" 25.0\"],[\" 150.0\",\" 50.0\",\" 10.0\",\" 0.0\",\" 25.0\"],[\" 115.0\",\" 60.0\",\" 2.8\",\" 0.0\",\" 7.5\"],[\" 34.8\",\" 30.0\",\" 2.9\",\" 0.0\",\" 3.8\"],[\" 153.0\",\" 100.0\",\" 12.0\",\" 0.0\",\" 6.0\"],[\" 94.0\",\" 80.0\",\" 3.1\",\" 0.0\",\" 17.0\"],[\" 94.0\",\" 80.0\",\" 3.1\",\" 0.0\",\" 17.0\"],[\" 58.0\",\" 30.0\",\" 2.2\",\" 0.0\",\" 4.8\"],[\" 58.0\",\" 30.0\",\" 2.2\",\" 0.0\",\" 4.8\"],[\" 174.0\",\" 100.0\",\" 6.0\",\" 0.0\",\" 24.0\"],[\" 129.0\",\" 115.0\",\" 5.8\",\" 0.0\",\" 19.0\"],[\" 138.0\",\" 120.0\",\" 8.4\",\" 0.0\",\" 18.0\"]],\"hovertemplate\":\"<b>%{hovertext}</b><br><br>Classification (Label)=POULTRY 3<br>Kcal =%{customdata[0]}<br>Serving Size =%{customdata[1]}<br>Carbohydrate =%{customdata[2]}<br>Sugars =%{customdata[3]}<br>Proteins =%{customdata[4]}<extra></extra>\",\"hovertext\":[\"Frango do Futuro\",\"Fatias Sora Carne Branca\",\"Fil\\u00e9s Sora Carne Branca\",\"Strogonoff de Frango Vegabom\",\"Tiras de Frango New Butchers\",\"Fil\\u00e9 de Frango Desfiado Vegway\",\"Frango Veg e Tal Sadia\",\"Frango Veg e Tal Sadia Desfiado\",\"Peito de Peru de Soja\",\"Peito de Peru de Soja Vegano\",\"Tiras de Ave Verdali\",\"Fil\\u00e9 sem Frango Verdali\",\"Mini Fil\\u00e9 de Frango Verdali\"],\"legendgroup\":\"POULTRY 3\",\"marker\":{\"color\":\"#00CC96\",\"symbol\":\"circle\"},\"mode\":\"markers\",\"name\":\"POULTRY 3\",\"orientation\":\"v\",\"showlegend\":true,\"x\":[0.9374131558242628,-0.5047716804633341,-0.5047716804633341,0.5766006089664008,0.06018607395360928,0.9329257101621456,0.17723999198326504,0.17723999198326504,0.22260420665489158,0.6056418373884386,1.1176963690782042,0.5621027704746568,0.830455451647981],\"xaxis\":\"x\",\"y\":[0.15364420026079487,0.3292125198062042,0.3292125198062042,-0.20601259686177853,-0.5337544581690126,0.8574458236863941,-0.15442416389512242,-0.15442416389512242,1.9251244139640022,2.012256552374187,-0.705151130454552,0.089165663987378,-0.4222496713476543],\"yaxis\":\"y\",\"type\":\"scatter\"},{\"customdata\":[[\" 139.0\",\" 50.0\",\" 7.7\",\" 0.0\",\" 5.7\"],[\" 78.0\",\" 35.0\",\" 6.0\",\" 0.0\",\" 4.0\"],[\" 78.0\",\" 35.0\",\" 6.0\",\" 0.0\",\" 4.0\"],[\" 156.0\",\" 65.0\",\" 8.0\",\" 0.0\",\" 11.0\"],[\" 115.0\",\" 80.0\",\" 3.6\",\" 0.0\",\" 9.7\"],[\" 44.0\",\" 30.0\",\" 0.5\",\" 0.0\",\" 5.1\"],[\" 58.0\",\" 30.0\",\" 1.7\",\" 0.0\",\" 5.1\"],[\" 93.0\",\" 50.0\",\" 1.9\",\" 0.0\",\" 8.1\"],[\" 58.0\",\" 30.0\",\" 4.3\",\" 0.0\",\" 2.4\"],[\" 96.0\",\" 50.0\",\" 1.8\",\" 0.0\",\" 8.8\"],[\" 60.0\",\" 40.0\",\" 1.4\",\" 0.0\",\" 7.6\"],[\" 43.0\",\" 40.0\",\" 1.8\",\" 0.0\",\" 4.9\"]],\"hovertemplate\":\"<b>%{hovertext}</b><br><br>Classification (Label)=PORK 1<br>Kcal =%{customdata[0]}<br>Serving Size =%{customdata[1]}<br>Carbohydrate =%{customdata[2]}<br>Sugars =%{customdata[3]}<br>Proteins =%{customdata[4]}<extra></extra>\",\"hovertext\":[\"Lingui\\u00e7a do Futuro\",\"Lingui\\u00e7a calabresa vegabom\",\"saltsicha de chickpea Vegabom\",\"Vegway Soy Sausage\",\"saltsichas Incriveis Seara\",\"Lingui\\u00e7a Apimentada de Soja Goshen\",\"Lingui\\u00e7a Calabresa de Soja Goshen\",\"Lingui\\u00e7a de Soja Vegana Goshen\",\"Lingui\\u00e7a Toscana de Soja Goshen\",\"saltsicha de Soja Vegana Goshen\",\"saltsicha Vegetal Superbom\",\"saltsicha Vegetal Defumada Superbom\"],\"legendgroup\":\"PORK 1\",\"marker\":{\"color\":\"#AB63FA\",\"symbol\":\"circle\"},\"mode\":\"markers\",\"name\":\"PORK 1\",\"orientation\":\"v\",\"showlegend\":true,\"x\":[1.519487037044212,0.39863918115972624,0.2682800537016359,0.8856040460966943,2.0694992020281093,0.5148004904081322,0.7177846690289179,0.9219410542528604,0.19411309614755756,0.7299464962025798,0.6545654743146355,0.5760740636354539],\"xaxis\":\"x\",\"y\":[-0.11471572011448253,0.7676726040225822,0.7162331094871007,0.7509679858832978,-1.7225043857860827,1.7037031093651138,2.2052472416821387,2.1298608574868494,1.907436384649156,2.0937000673624464,1.4198913951815784,1.043035681878898],\"yaxis\":\"y\",\"type\":\"scatter\"},{\"customdata\":[[\" 118.0\",\" 50.0\",\" 2.8\",\" 0.0\",\" 7.0\"],[\" 78.0\",\" 50.0\",\" 5.3\",\" 0.0\",\" 8.9\"],[\" 140.0\",\" 120.0\",\" 25.0\",\" 0.0\",\" 6.1\"],[\" 128.0\",\" 60.0\",\" 19.0\",\" 0.0\",\" 5.1\"],[\" 253.0\",\" 113.0\",\" 42.0\",\" 0.0\",\" 17.0\"],[\" 90.0\",\" 80.0\",\" 4.8\",\" 0.0\",\" 11.0\"],[\" 187.0\",\" 80.0\",\" 10.0\",\" 0.0\",\" 9.8\"],[\" 158.0\",\" 113.5\",\" 8.7\",\" 0.0\",\" 15.0\"],[\" 206.0\",\" 100.0\",\" 4.1\",\" 0.0\",\" 13.0\"],[\" 420.0\",\" 100.0\",\" 4.4\",\" 0.0\",\" 28.0\"],[\" 209.0\",\" 115.0\",\" 5.3\",\" 0.0\",\" 20.0\"],[\" 114.0\",\" 60.0\",\" 4.5\",\" 0.0\",\" 7.6\"],[\" 170.0\",\" 80.0\",\" 4.6\",\" 0.0\",\" 12.0\"],[\" 134.0\",\" 60.0\",\" 5.9\",\" 0.0\",\" 7.3\"],[\" 237.0\",\" 134.0\",\" 29.0\",\" 0.0\",\" 16.0\"],[\" 115.0\",\" 60.0\",\" 13.0\",\" 0.0\",\" 8.9\"],[\" 118.0\",\" 60.0\",\" 11.0\",\" 0.0\",\" 6.0\"],[\" 118.0\",\" 60.0\",\" 11.0\",\" 0.0\",\" 6.0\"],[\" 197.0\",\" 80.0\",\" 10.0\",\" 0.0\",\" 11.0\"],[\" 309.0\",\" 115.0\",\" 45.0\",\" 0.0\",\" 7.0\"],[\" 127.0\",\" 90.0\",\" 23.0\",\" 0.0\",\" 3.1\"],[\" 150.0\",\" 50.0\",\" 10.0\",\" 0.0\",\" 25.0\"],[\" 120.0\",\" 90.0\",\" 17.0\",\" 0.0\",\" 5.4\"],[\" 171.0\",\" 90.0\",\" 28.0\",\" 0.0\",\" 3.4\"],[\" 196.0\",\" 100.0\",\" 9.7\",\" 0.0\",\" 19.0\"],[\" 146.0\",\" 63.0\",\" 7.0\",\" 0.0\",\" 12.3\"],[\" 80.0\",\" 70.0\",\" 4.4\",\" 0.0\",\" 8.2\"],[\" 301.0\",\" 67.0\",\" 40.0\",\" 0.0\",\" 8.9\"],[\" 192.0\",\" 90.0\",\" 26.0\",\" 0.0\",\" 7.7\"],[\" 210.0\",\" 90.0\",\" 29.0\",\" 0.0\",\" 10.0\"],[\" 110.0\",\" 60.0\",\" 8.9\",\" 0.0\",\" 4.3\"],[\" 62.0\",\" 50.0\",\" 1.0\",\" 0.0\",\" 10.0\"],[\" 266.0\",\" 80.0\",\" 26.0\",\" 0.0\",\" 27.0\"],[\" 266.0\",\" 80.0\",\" 26.0\",\" 0.0\",\" 27.0\"]],\"hovertemplate\":\"<b>%{hovertext}</b><br><br>Classification (Label)=MEAT 1<br>Kcal =%{customdata[0]}<br>Serving Size =%{customdata[1]}<br>Carbohydrate =%{customdata[2]}<br>Sugars =%{customdata[3]}<br>Proteins =%{customdata[4]}<extra></extra>\",\"hovertext\":[\"Hamburguer de Soja Goshen\",\"Hamburguer de Soja Vegano Goshen\",\"Hamburguer de Quinoa Mr Veggy\",\"Hamburguer de lentil Mr Veggy\",\"Hamburguer vegano falafel amazonika mundi\",\"Hamburguer Vegetal Verdali\",\"VegBurger Sabor Carne\",\"Burger Gourmet Superbom\",\"Hamburguer Incr\\u00edvel Seara\",\"Not Burguer Notco\",\"Hamburguer de Fibra de Caju Amazonika Mundi\",\"Hamburguer Vegabom\",\"Hamburguer de Carne Veg  e Tal Sadia\",\"Hamburger New Butchers\",\"Hamburguer de Legumes Mr Veggy\",\"Hamburguer Vegetariano Mr Veggy\",\"Hambuguer Mr Veggy Mari Mari\",\"Hambuguer Mr Veggy Mari Mari Churrrasco\",\"Hamb\\u00farguer Fazenda Futuro 2.0\",\"Hamb\\u00farguer Vegano de Quinoa Amazonika Mundi\",\"Hamburguer Veggie Roots Tempero Indiano\",\"Hamb\\u00farguer Sora Carne Vermelha \",\"Hamburguer Veggie Roots brazilianspices\",\"Hamburguer veggie roots tempero mexicano\",\"Hamburguer de Soja Sabor Carne Vegway\",\"Vegway Breaded Soy Burguer \",\"Hamburguer Vegetal Superbom\",\"Hamburguer de chickpea Mr Veggy\",\"Hamburguer Veggie Roots Tempero \\u00c1rabe\",\"Hamburguer Veggie Roots Tempero Tailand\\u00eas\",\"Hamburguer Vegabom\",\"Hamb\\u00farguer Pronto Saud\\u00e1vel Sora\",\"hamburguer vegetal com herbs jasmine\",\"Hamburguer Vegetal Tradicional Jasmine\"],\"legendgroup\":\"MEAT 1\",\"marker\":{\"color\":\"#FFA15A\",\"symbol\":\"circle\"},\"mode\":\"markers\",\"name\":\"MEAT 1\",\"orientation\":\"v\",\"showlegend\":true,\"x\":[0.7626108271244559,0.4763232667761036,0.3867047747335713,0.7329895197228199,0.16235319125114753,1.247344348691489,0.3559408267106418,0.01009875636613564,2.1593282711230883,0.38848571270614,1.047046336523591,0.3122947845897951,0.7082583078654253,0.5347202629284984,0.38772025482322786,0.28612187257802213,0.20471984257613848,0.20471984257613848,1.1088532848242563,0.39127201672997863,0.6574711071076651,-0.5011313832832806,0.6626264382738293,0.7441811162391037,1.0101324358437396,1.0140501172575638,1.481994729861941,0.19812885732357702,0.8177081755080889,0.8063328401759666,0.26415768649790783,0.2981082125585835,-0.21803488405552174,-0.22032280400609058],\"xaxis\":\"x\",\"y\":[1.50059530495395,1.4477491096066688,-0.24953440100266963,-0.40461959315137674,-0.10904757779525388,-0.8694741890897166,-0.8679841010174156,0.23525523433369616,-1.7348191358835092,-0.3145271367826129,-0.9330440623219678,0.6479973720392006,-0.8155962038333378,-0.8904687209776362,0.509389665035765,0.5875924285126263,0.5347733751213176,0.5347733751213176,-0.03129285858336837,-0.3022466997680818,-0.5322254626425053,0.3263117271231702,-0.5849443631145971,-0.7000380837294987,0.9327293412932278,0.9201658858332651,0.4908649114982274,0.11976790603449748,-0.665652570217018,-0.4024020831566491,0.5354635910621347,-0.5309193812753741,0.4936992231181504,0.5013039134224039],\"yaxis\":\"y\",\"type\":\"scatter\"},{\"customdata\":[[\" 150.0\",\" 50.0\",\" 10.0\",\" 0.0\",\" 25.0\"],[\" 189.0\",\" 80.0\",\" 11.0\",\" 0.0\",\" 9.8\"],[\" 173.0\",\" 80.0\",\" 3.6\",\" 0.0\",\" 13.0\"],[\" 129.0\",\" 100.0\",\" 2.4\",\" 0.0\",\" 7.0\"],[\" 96.0\",\" 80.0\",\" 4.8\",\" 0.0\",\" 11.0\"]],\"hovertemplate\":\"<b>%{hovertext}</b><br><br>Classification (Label)=POULTRY 2<br>Kcal =%{customdata[0]}<br>Serving Size =%{customdata[1]}<br>Carbohydrate =%{customdata[2]}<br>Sugars =%{customdata[3]}<br>Proteins =%{customdata[4]}<extra></extra>\",\"hovertext\":[\"Hamb\\u00farguer Sora Carne Branca\",\"VegBurger Sabor Frango\",\"Hambuguer Incr\\u00edvel Seara Frango\",\"Frango Vegano em Peda\\u00e7os \\u00e0 Base de pea\",\"Hamb\\u00farguer de Frango Verdali\"],\"legendgroup\":\"POULTRY 2\",\"marker\":{\"color\":\"#19D3F3\",\"symbol\":\"circle\"},\"mode\":\"markers\",\"name\":\"POULTRY 2\",\"orientation\":\"v\",\"showlegend\":true,\"x\":[-0.5047716804633341,0.31892643867317644,2.1402010532562636,0.030869557092751146,1.0490913397682144],\"xaxis\":\"x\",\"y\":[0.3292125198062042,-0.8566818751589792,-1.7162422439331435,0.16007635096141723,-0.6147832439964509],\"yaxis\":\"y\",\"type\":\"scatter\"},{\"customdata\":[[\" 116.0\",\" 60.0\",\" 2.9\",\" 0.0\",\" 7.9\"],[\" 116.0\",\" 60.0\",\" 2.9\",\" 0.0\",\" 7.9\"],[\" 198.0\",\" 100.0\",\" 14.0\",\" 0.0\",\" 15.0\"],[\" 449.0\",\" 130.0\",\" 31.0\",\" 0.0\",\" 12.0\"],[\" 291.0\",\" 130.0\",\" 29.0\",\" 0.0\",\" 17.0\"],[\" 127.0\",\" 40.0\",\" 4.9\",\" 0.0\",\" 6.5\"],[\" 94.0\",\" 40.0\",\" 3.4\",\" 0.0\",\" 6.7\"],[\" 61.0\",\" 40.0\",\" 3.0\",\" 0.0\",\" 7.2\"],[\" 330.0\",\" 130.0\",\" 32.0\",\" 0.0\",\" 13.0\"],[\" 210.0\",\" 80.0\",\" 32.0\",\" 0.0\",\" 8.0\"],[\" 178.0\",\" 130.0\",\" 21.5\",\" 0.0\",\" 13.4\"],[\" 110.0\",\" 80.0\",\" 13.0\",\" 0.0\",\" 8.5\"],[\" 188.0\",\" 100.0\",\" 24.0\",\" 0.0\",\" 13.0\"],[\" 188.0\",\" 100.0\",\" 24.0\",\" 0.0\",\" 13.0\"]],\"hovertemplate\":\"<b>%{hovertext}</b><br><br>Classification (Label)=POULTRY 1<br>Kcal =%{customdata[0]}<br>Serving Size =%{customdata[1]}<br>Carbohydrate =%{customdata[2]}<br>Sugars =%{customdata[3]}<br>Proteins =%{customdata[4]}<extra></extra>\",\"hovertext\":[\"Empanado de Frango Vegabom\",\"Fil\\u00e9 de Frango Empanado Vegabom\",\"Empanados de Frango Vegway\",\"Empanados Incr\\u00edveis Seara\",\"Empanados Sadia Veg e Tal\",\"Empanadinho de Soja  Goshen\",\"Empanadinho de Soja Vegano  Goshen\",\"Steak de Soja Vegano Goshen\",\"Empanado Vegano (Mini Crispy) 100 Foods\",\"Crispy Chicken 100 Foods\",\"Mini Empanado de Legumes Superbom\",\"Steak Vegan Sabor Legumes Superbom\",\"Steak Veg\\u00ea Sabor Frango\",\"Steak Veg\\u00ea Sabor Frango Empanado\"],\"legendgroup\":\"POULTRY 1\",\"marker\":{\"color\":\"#FF6692\",\"symbol\":\"circle\"},\"mode\":\"markers\",\"name\":\"POULTRY 1\",\"orientation\":\"v\",\"showlegend\":true,\"x\":[0.754504527638841,0.754504527638841,1.026723634410771,1.9830065959541514,1.9598194957597665,0.9109727264314478,0.5143522757128841,0.8245950018899562,1.2917281745037608,1.4174011210567445,0.6445313621423887,0.5987771548470505,-0.04712792403137034,0.00833231651841231],\"xaxis\":\"x\",\"y\":[0.532326867970912,0.532326867970912,0.9500537538350178,-1.4937047917777637,-1.4626273016009939,1.653793202943061,1.2982846860540909,1.6104687986373563,-0.9182010211469337,-1.0455423689775651,0.1368006877878054,0.1820336354764388,0.05141708173572092,0.04896684570295084],\"yaxis\":\"y\",\"type\":\"scatter\"},{\"customdata\":[[\" 116.0\",\" 60.0\",\" 3.6\",\" 0.0\",\" 7.5\"],[\" 116.0\",\" 60.0\",\" 3.6\",\" 0.0\",\" 7.5\"],[\" 206.0\",\" 100.0\",\" 28.0\",\" 0.0\",\" 8.0\"],[\" 41.0\",\" 40.0\",\" 7.0\",\" 0.0\",\" 1.6\"],[\" 82.0\",\" 30.0\",\" 3.5\",\" 0.0\",\" 4.0\"]],\"hovertemplate\":\"<b>%{hovertext}</b><br><br>Classification (Label)=FISH 2<br>Kcal =%{customdata[0]}<br>Serving Size =%{customdata[1]}<br>Carbohydrate =%{customdata[2]}<br>Sugars =%{customdata[3]}<br>Proteins =%{customdata[4]}<extra></extra>\",\"hovertext\":[\"Fil\\u00e9 Peixe Empanado Vegabom\",\"Tirinhas de Peixe Empanado Vegabom\",\"Bolinho de Bacalhau New Butchers\",\"Bolinho de Siri Amazonika Mundi\",\"Camar\\u00e3o de Soja Vegano Goshen\"],\"legendgroup\":\"FISH 2\",\"marker\":{\"color\":\"#B6E880\",\"symbol\":\"circle\"},\"mode\":\"markers\",\"name\":\"FISH 2\",\"orientation\":\"v\",\"showlegend\":true,\"x\":[0.8342415490391201,0.8342415490391201,0.35053024489149776,0.6350720055460694,0.6479493139415549],\"xaxis\":\"x\",\"y\":[0.5661345264107844,0.5661345264107844,-0.9573428399503724,-0.5682464005052513,1.827147507189648],\"yaxis\":\"y\",\"type\":\"scatter\"},{\"customdata\":[[\" 124.0\",\" 50.0\",\" 5.1\",\" 0.0\",\" 0.0\"],[\" 124.0\",\" 50.0\",\" 5.1\",\" 0.0\",\" 0.0\"],[\" 124.0\",\" 50.0\",\" 5.1\",\" 0.0\",\" 0.0\"],[\" 31.0\",\" 10.0\",\" 0.6\",\" 0.0\",\" 0.3\"],[\" 25.0\",\" 10.0\",\" 0.7\",\" 0.0\",\" 0.3\"],[\" 29.0\",\" 10.0\",\" 0.7\",\" 0.0\",\" 0.3\"],[\" 30.0\",\" 10.0\",\" 0.7\",\" 0.0\",\" 0.3\"],[\" 178.0\",\" 100.0\",\" 8.7\",\" 0.0\",\" 8.4\"],[\" 178.0\",\" 100.0\",\" 8.7\",\" 0.0\",\" 8.4\"],[\" 280.0\",\" 100.0\",\" 23.3\",\" 0.0\",\" 3.0\"],[\" 170.0\",\" 100.0\",\" 6.0\",\" 0.0\",\" 4.7\"],[\" 170.0\",\" 100.0\",\" 6.0\",\" 0.0\",\" 4.7\"],[\" 82.0\",\" 30.0\",\" 2.7\",\" 0.0\",\" 1.5\"],[\" 83.0\",\" 30.0\",\" 2.9\",\" 0.0\",\" 1.5\"],[\" 95.0\",\" 30.0\",\" 9.1\",\" 0.0\",\" 2.0\"],[\" 89.0\",\" 30.0\",\" 8.2\",\" 0.0\",\" 1.9\"],[\" 93.0\",\" 30.0\",\" 8.8\",\" 0.0\",\" 1.9\"],[\" 83.0\",\" 30.0\",\" 2.3\",\" 0.0\",\" 1.6\"],[\" 83.0\",\" 30.0\",\" 2.3\",\" 0.0\",\" 1.6\"],[\" 83.0\",\" 30.0\",\" 2.3\",\" 0.0\",\" 1.6\"],[\" 581.0\",\" 100.0\",\" 30.2\",\" 0.0\",\" 18.2\"],[\" 581.0\",\" 100.0\",\" 30.2\",\" 0.0\",\" 18.2\"],[\" 59.0\",\" 30.0\",\" 2.0\",\" 0.0\",\" 0.9\"],[\" 43.0\",\" 30.0\",\" 1.2\",\" 0.0\",\" 0.8\"],[\" 100.0\",\" 30.0\",\" 5.4\",\" 0.0\",\" 2.9\"],[\" 43.0\",\" 30.0\",\" 1.2\",\" 0.0\",\" 0.8\"],[\" 394.0\",\" 100.0\",\" 23.0\",\" 0.0\",\" 13.0\"],[\" 30.0\",\" 12.0\",\" 3.0\",\" 0.0\",\" 0.7\"],[\" 62.8\",\" 20.0\",\" 3.6\",\" 0.0\",\" 2.0\"],[\" 57.1\",\" 20.0\",\" 3.4\",\" 0.0\",\" 1.9\"],[\" 68.4\",\" 20.0\",\" 3.8\",\" 0.0\",\" 2.1\"],[\" 62.8\",\" 20.0\",\" 3.6\",\" 0.0\",\" 2.0\"],[\" 89.0\",\" 30.0\",\" 6.4\",\" 0.0\",\" 0.0\"],[\" 72.0\",\" 30.0\",\" 2.9\",\" 0.0\",\" 1.0\"],[\" 58.0\",\" 30.0\",\" 3.5\",\" 0.0\",\" 1.0\"],[\" 71.0\",\" 30.0\",\" 2.8\",\" 0.0\",\" 0.9\"],[\" 78.0\",\" 30.0\",\" 3.4\",\" 0.0\",\" 1.0\"],[\" 76.0\",\" 30.0\",\" 3.4\",\" 0.0\",\" 0.9\"],[\" 36.0\",\" 15.0\",\" 1.0\",\" 0.0\",\" 0.3\"],[\" 38.0\",\" 10.0\",\" 0.8\",\" 0.0\",\" 0.3\"],[\" 51.0\",\" 15.0\",\" 3.8\",\" 0.0\",\" 0.7\"],[\" 36.0\",\" 15.0\",\" 1.2\",\" 0.0\",\" 0.4\"],[\" 47.0\",\" 15.0\",\" 2.8\",\" 0.0\",\" 0.1\"],[\" 47.0\",\" 15.0\",\" 2.8\",\" 0.0\",\" 0.1\"],[\" 49.0\",\" 15.0\",\" 3.1\",\" 0.0\",\" 0.1\"]],\"hovertemplate\":\"<b>%{hovertext}</b><br><br>Classification (Label)=DAIRY 3<br>Kcal =%{customdata[0]}<br>Serving Size =%{customdata[1]}<br>Carbohydrate =%{customdata[2]}<br>Sugars =%{customdata[3]}<br>Proteins =%{customdata[4]}<extra></extra>\",\"hovertext\":[\"Queijo Mu\\u00e7arela Vegabom\",\"Queijo Picante Vegabom\",\"Queijo Cheddar Vegabom\",\"Requeisoy Provolone \",\"Requeisoy Cheddar' \",\"Requeisoy Tradicional\",\"Requeisoy Gorgonzola\",\"Okeijo R\\u00fastico\",\"Okeijo Cremoso\",\"Okeijo Gratinado\",\"Okeijo Mussarela\",\"Okeijo Provolone\",\"Creme s Vida Veg\",\"Creme s fineherbs e Pesto\",\"Queijo mu\\u00e7arela\",\"Queijo minas frescal\",\"Queijo minas padr\\u00e3o\",\"Requeij\\u00e3o Tradicional\",\"Requeij\\u00e3o fineherbs\",\"Requeij\\u00e3o Defumado\",\"Queijo Zimurisku \",\"Queijo Zimurisku Temperado\",\"Queijo Mozarela NoMoo\",\"Queijo Provolone\",\"Queijo Ch\\u00e9vre\",\"Queijo Prato\",\"Queijo Parmes\\u00e3o\",\"Requeij\\u00e3o Nomoo\",\"Queijo Gorgolino\",\"Queijo Melhor Que Cheddar\",\"Queijo Recaishow\",\"Queijo Brie\",\"Mussarela Vegana Goshen\",\"Queijo ProVolone Veganita\",\"Queijo Munster Veganita\",\"Queijo Brie Veganita\",\"Queijo Mussarela Veganita\",\"Queijo Cheddar Veganita\",\"CREAM CHEESE CULIN\\u00c1RIO BASI.CO\",\"REQUEIJ\\u00c3O VEGETAL\",\"QUEIJO PARMES\\u00c3O\",\"QUEIJO MINAS VEGETAL\",\"QUEIJO PRATO\",\"QUEIJO MU\\u00c7ARELA\",\"QUEIJO CHEDDAR\"],\"legendgroup\":\"DAIRY 3\",\"marker\":{\"color\":\"#FF97FF\",\"symbol\":\"circle\"},\"mode\":\"markers\",\"name\":\"DAIRY 3\",\"orientation\":\"v\",\"showlegend\":true,\"x\":[0.05560458493157613,0.023917113643403303,0.023917113643403303,0.047258163008797094,0.053644349206790135,0.0532310790346369,0.06214932279216986,-0.04187141387330988,0.284719388365052,-0.012560563096384062,-0.12509364225346178,-0.12509364225346178,-0.8924573056973303,-0.8654388154135776,-0.8718206375585115,-0.8106526350456396,-0.9065938464805846,-0.8587373879252896,-0.9467648817667126,-0.9040695284320094,-0.3255139460596994,-0.2577603746363146,-0.7603067207504696,-0.7876609183112031,-0.8302528902255807,-0.7659699170154513,-0.7281126191105964,-0.06127799589630934,-0.17064495850111466,-0.15552007266290768,0.15635434891567193,-0.2582215781470714,-0.5277623310846127,-0.855392441088327,-0.8076894068378345,-0.8820254414297212,-0.8562341281223474,-0.8079007092917226,-0.48210510617805935,-0.8029573241493652,-0.24083910795054156,-0.9482398944777458,-0.9199036154222352,-0.9583319604670582,-1.0041407024586204],\"xaxis\":\"x\",\"y\":[-0.06517908317236853,-0.06086318755636139,-0.06086318755636139,0.5731764869370122,0.6033030593953579,0.5732974226119883,0.6082750457332537,0.018934997187370833,-0.2662473867630789,-0.15046164880284538,-0.022442837861183347,-0.022442837861183347,-0.12320953335389344,-0.11250787379112279,-0.02316213597949899,-0.008656471407462878,-0.034642056919226456,-0.008410139242710475,-0.08011551719984454,-0.17051036270465722,-0.11024891899475338,-0.0458010349828228,0.010420224096597108,0.0072476666677888215,-0.017113294056909912,0.006924296475919954,-0.10030432480214432,0.24905124278773402,0.17784723879457365,0.11553894947885766,-0.11974845590526875,0.11847965099693702,-0.02610712655410684,0.056714999401095985,0.08146412741317233,0.026884816042388033,0.04412168244367397,0.05655811770169355,-0.17128584673286404,-0.2933277369231864,0.2513435938304626,-0.08976580337475007,0.06439127670766719,0.09925649794307399,0.060800873440981625],\"yaxis\":\"y\",\"type\":\"scatter\"},{\"customdata\":[[\" 146.0\",\" 90.0\",\" 12.1\",\" 0.0\",\" 11.9\"],[\" 327.0\",\" 240.0\",\" 41.0\",\" 0.0\",\" 11.0\"],[\" 317.0\",\" 100.0\",\" 17.0\",\" 0.0\",\" 13.0\"],[\" 153.0\",\" 100.0\",\" 12.0\",\" 0.0\",\" 6.0\"],[\" 138.0\",\" 100.0\",\" 19.0\",\" 0.0\",\" 2.0\"],[\" 304.0\",\" 300.0\",\" 19.0\",\" 0.0\",\" 21.0\"],[\" 440.0\",\" 130.0\",\" 31.0\",\" 0.0\",\" 12.0\"],[\" 166.0\",\" 80.0\",\" 7.1\",\" 0.0\",\" 12.0\"]],\"hovertemplate\":\"<b>%{hovertext}</b><br><br>Classification (Label)=FISH 1<br>Kcal =%{customdata[0]}<br>Serving Size =%{customdata[1]}<br>Carbohydrate =%{customdata[2]}<br>Sugars =%{customdata[3]}<br>Proteins =%{customdata[4]}<extra></extra>\",\"hovertext\":[\"Fil\\u00e9 de saltm\\u00e3o New Butchers\",\"Bacalhau New  Butchers\",\"Vegway Fish Fillet\",\"Vegway Fish Fillet\",\"Vegway Soy Scallop \",\"Bacalhau Incr\\u00edvel Seara\",\"Iscas de Peixe Incr\\u00edvel Seara\",\"Atum do Futuro\"],\"legendgroup\":\"FISH 1\",\"marker\":{\"color\":\"#FECB52\",\"symbol\":\"circle\"},\"mode\":\"markers\",\"name\":\"FISH 1\",\"orientation\":\"v\",\"showlegend\":true,\"x\":[-0.011411979805161029,0.7919682915865823,0.9475653748469868,0.973269752052463,0.9139823322476116,2.1389923929194117,1.9620904089358373,0.5896828123504329],\"xaxis\":\"x\",\"y\":[-0.5761606557309084,-0.859683767075167,0.9616921576195133,0.9344164552522455,0.7821573499742049,-1.8745645640295876,-1.4955323468943946,-0.15291571574026563],\"yaxis\":\"y\",\"type\":\"scatter\"},{\"customdata\":[[\" 78.0\",\" 40.0\",\" 3.9\",\" 0.0\",\" 7.4\"],[\" 185.0\",\" 60.0\",\" 31.0\",\" 0.0\",\" 1.1\"],[\" 34.0\",\" 20.0\",\" 0.2\",\" 0.0\",\" 3.4\"],[\" 75.0\",\" 40.0\",\" 3.6\",\" 0.0\",\" 7.6\"],[\" 35.0\",\" 20.0\",\" 0.4\",\" 0.0\",\" 3.9\"],[\" 476.0\",\" 100.0\",\" 14.0\",\" 0.0\",\" 42.0\"]],\"hovertemplate\":\"<b>%{hovertext}</b><br><br>Classification (Label)=PORK 2<br>Kcal =%{customdata[0]}<br>Serving Size =%{customdata[1]}<br>Carbohydrate =%{customdata[2]}<br>Sugars =%{customdata[3]}<br>Proteins =%{customdata[4]}<extra></extra>\",\"hovertext\":[\"Vegway Soy Ham \",\"Bacon Vegano\",\"Mortadela de Soja Vegana Goshen\",\"Presunto de Soja Defumado\",\"Presunto de Soja Vegano Fatiado Goshen\",\"Bacon Crispy Verdali\"],\"legendgroup\":\"PORK 2\",\"marker\":{\"color\":\"rgb(127, 60, 141)\",\"symbol\":\"circle\"},\"mode\":\"markers\",\"name\":\"PORK 2\",\"orientation\":\"v\",\"showlegend\":true,\"x\":[0.8585074550756855,-0.30067443744608474,0.6963795429388886,0.8190380275175422,0.6757964091913871,0.19213666750147881],\"xaxis\":\"x\",\"y\":[0.9278562659293568,0.13944770599177847,2.140431711619097,1.6463460491546278,2.034507194608308,-0.016681541417661743],\"yaxis\":\"y\",\"type\":\"scatter\"},{\"customdata\":[[\" 92.0\",\" 250.0\",\" 3.7\",\" 2.0\",\" 3.2\"],[\" 60.0\",\" 250.0\",\" 3.4\",\" 2.0\",\" 3.2\"],[\" 68.0\",\" 200.0\",\" 0.9\",\" 0.0\",\" 3.0\"],[\" 53.0\",\" 200.0\",\" 0.0\",\" 0.0\",\" 3.0\"],[\" 70.0\",\" 200.0\",\" 1.0\",\" 0.0\",\" 3.0\"],[\" 88.0\",\" 200.0\",\" 4.0\",\" 0.0\",\" 3.0\"],[\" 58.0\",\" 200.0\",\" 0.8\",\" 0.0\",\" 3.0\"],[\" 108.0\",\" 200.0\",\" 13.0\",\" 0.0\",\" 1.1\"],[\" 145.0\",\" 200.0\",\" 18.0\",\" 0.0\",\" 1.5\"],[\" 117.0\",\" 200.0\",\" 27.0\",\" 10.0\",\" 0.0\"],[\" 111.0\",\" 200.0\",\" 20.0\",\" 9.4\",\" 0.0\"],[\" 117.0\",\" 200.0\",\" 27.0\",\" 10.0\",\" 1.0\"],[\" 145.0\",\" 200.0\",\" 18.0\",\" 0.0\",\" 1.5\"],[\" 117.0\",\" 200.0\",\" 27.0\",\" 10.0\",\" 0.0\"],[\" 134.0\",\" 200.0\",\" 27.0\",\" 10.0\",\" 4.6\"],[\" 72.0\",\" 200.0\",\" 11.0\",\" 8.9\",\" 1.1\"],[\" 113.0\",\" 200.0\",\" 7.5\",\" 6.7\",\" 7.0\"],[\" 79.0\",\" 200.0\",\" 12.0\",\" 10.0\",\" 1.2\"],[\" 91.0\",\" 200.0\",\" 15.0\",\" 10.0\",\" 1.1\"],[\" 84.0\",\" 200.0\",\" 16.0\",\" 9.4\",\" 2.0\"],[\" 104.0\",\" 260.0\",\" 20.0\",\" 12.0\",\" 3.0\"],[\" 79.0\",\" 25.0\",\" 8.6\",\" 3.1\",\" 7.3\"],[\" 73.0\",\" 25.0\",\" 11.0\",\" 3.2\",\" 5.0\"],[\" 120.0\",\" 200.0\",\" 15.0\",\" 11.0\",\" 4.8\"],[\" 97.0\",\" 200.0\",\" 8.4\",\" 5.9\",\" 2.3\"],[\" 66.0\",\" 200.0\",\" 10.0\",\" 7.3\",\" 2.7\"],[\" 99.0\",\" 200.0\",\" 16.0\",\" 11.5\",\" 4.1\"],[\" 104.0\",\" 200.0\",\" 18.0\",\" 12.6\",\" 3.6\"],[\" 82.0\",\" 200.0\",\" 14.0\",\" 8.8\",\" 3.3\"],[\" 97.0\",\" 200.0\",\" 8.4\",\" 5.9\",\" 2.3\"],[\" 51.0\",\" 200.0\",\" 6.3\",\" 6.3\",\" 0.9\"],[\" 98.0\",\" 200.0\",\" 17.0\",\" 17.0\",\" 1.3\"],[\" 70.0\",\" 200.0\",\" 11.0\",\" 11.0\",\" 0.9\"],[\" 30.0\",\" 200.0\",\" 0.9\",\" 0.9\",\" 0.9\"],[\" 58.0\",\" 200.0\",\" 8.5\",\" 0.0\",\" 0.9\"],[\" 44.0\",\" 250.0\",\" 1.4\",\" 1.4\",\" 1.6\"],[\" 21.0\",\" 200.0\",\" 4.7\",\" 0.0\",\" 1.0\"],[\" 48.0\",\" 200.0\",\" 6.8\",\" 4.0\",\" 6.8\"],[\" 59.0\",\" 200.0\",\" 7.5\",\" 0.0\",\" 0.9\"],[\" 84.0\",\" 200.0\",\" 15.0\",\" 0.0\",\" 1.2\"],[\" 55.0\",\" 200.0\",\" 4.7\",\" 0.0\",\" 0.0\"],[\" 74.0\",\" 200.0\",\" 15.0\",\" 0.0\",\" 0.0\"],[\" 74.0\",\" 200.0\",\" 15.0\",\" 0.0\",\" 0.0\"],[\" 74.0\",\" 200.0\",\" 15.0\",\" 0.0\",\" 0.0\"],[\" 74.0\",\" 200.0\",\" 15.0\",\" 0.0\",\" 0.0\"],[\" 74.0\",\" 200.0\",\" 15.0\",\" 0.0\",\" 0.0\"],[\" 74.0\",\" 200.0\",\" 15.0\",\" 0.0\",\" 0.0\"],[\" 74.0\",\" 200.0\",\" 15.0\",\" 0.0\",\" 0.0\"],[\" 114.0\",\" 30.0\",\" 25.0\",\" 0.0\",\" 2.0\"],[\" 114.0\",\" 30.0\",\" 25.0\",\" 0.0\",\" 2.0\"],[\" 114.0\",\" 30.0\",\" 25.0\",\" 0.0\",\" 2.0\"],[\" 114.0\",\" 30.0\",\" 25.0\",\" 0.0\",\" 2.0\"],[\" 114.0\",\" 30.0\",\" 25.0\",\" 0.0\",\" 2.0\"],[\" 78.0\",\" 200.0\",\" 8.5\",\" 2.8\",\" 2.4\"],[\" 90.0\",\" 200.0\",\" 3.0\",\" 0.9\",\" 3.0\"],[\" 80.0\",\" 200.0\",\" 3.1\",\" 0.8\",\" 2.0\"],[\" 57.0\",\" 200.0\",\" 1.7\",\" 0.4\",\" 1.9\"],[\" 150.0\",\" 200.0\",\" 18.0\",\" 0.0\",\" 3.0\"],[\" 75.0\",\" 200.0\",\" 16.0\",\" 6.3\",\" 0.0\"],[\" 100.0\",\" 200.0\",\" 2.3\",\" 0.8\",\" 7.0\"],[\" 80.0\",\" 200.0\",\" 3.3\",\" 0.9\",\" 2.1\"],[\" 109.0\",\" 200.0\",\" 3.1\",\" 0.1\",\" 5.4\"],[\" 29.0\",\" 200.0\",\" 0.7\",\" 0.0\",\" 0.7\"],[\" 36.0\",\" 200.0\",\" 1.3\",\" 0.0\",\" 1.3\"],[\" 23.0\",\" 200.0\",\" 4.0\",\" 0.0\",\" 0.8\"],[\" 82.0\",\" 200.0\",\" 2.2\",\" 0.4\",\" 1.6\"],[\" 106.0\",\" 200.0\",\" 3.0\",\" 0.5\",\" 3.0\"],[\" 86.0\",\" 200.0\",\" 3.0\",\" 0.5\",\" 3.0\"],[\" 41.0\",\" 200.0\",\" 5.0\",\" 4.2\",\" 0.8\"],[\" 80.0\",\" 200.0\",\" 12.0\",\" 9.3\",\" 1.5\"],[\" 26.0\",\" 200.0\",\" 1.0\",\" 0.3\",\" 0.7\"],[\" 27.0\",\" 200.0\",\" 1.0\",\" 0.2\",\" 0.8\"],[\" 71.0\",\" 200.0\",\" 11.0\",\" 8.9\",\" 1.1\"],[\" 99.0\",\" 200.0\",\" 14.0\",\" 9.6\",\" 2.2\"],[\" 106.0\",\" 200.0\",\" 19.0\",\" 17.0\",\" 2.2\"],[\" 93.0\",\" 200.0\",\" 16.0\",\" 8.9\",\" 1.1\"],[\" 95.0\",\" 200.0\",\" 12.0\",\" 0.0\",\" 5.4\"],[\" 123.0\",\" 200.0\",\" 4.8\",\" 0.0\",\" 5.1\"],[\" 108.0\",\" 200.0\",\" 5.4\",\" 0.0\",\" 3.8\"],[\" 84.0\",\" 200.0\",\" 3.9\",\" 0.0\",\" 2.8\"]],\"hovertemplate\":\"<b>%{hovertext}</b><br><br>Classification (Label)=DAIRY 1<br>Kcal =%{customdata[0]}<br>Serving Size =%{customdata[1]}<br>Carbohydrate =%{customdata[2]}<br>Sugars =%{customdata[3]}<br>Proteins =%{customdata[4]}<extra></extra>\",\"hovertext\":[\"Not Milk \",\"Not Milk Semidesnatado\",\" Vegetal de almonds\",\" vegetal \",\" Vegetal de almonds Fresco\",\" Vegetal  de Caj\\u00fa Fresco\",\" Vegetal  Fresco\",\" Vegetal Noats Original\",\" Vegetal Noats Barista\",\" Jasmine rice em P\\u00f3\",\" BIOV jasmine rice com amendoas\",\" BIOV jasmine rice com coco\",\" BioV oats Jasmine\",\" Jasmine rice \",\" Jasmine rice com oats\",\"Bebida de rice Nesfit\",\"Bebida Natural Nesfit\",\"Bebida de rice  e Amendoas Nesfit\",\"Bebida de rice e Coco Nesfit\",\"Bebida de oats Nesfit\",\"Bebida de oats e cocoa\",\"Molico Vegetal Nestl\\u00e9\",\"Ninho Vegetal Nestl\\u00e9\",\"Ninho Banana e apple Nestl\\u00e9\",\"Nude Edi\\u00e7\\u00e3o Barista\",\"Nude Original \",\"Nude Sabor Baunilha\",\"Nude de cocoa\",\"Nude + calcium\",\"Nude Barista\",\"Almond Breeze Original\",\"Almond Breeze Chocolate\",\"Almond Breeze Baunilha\",\"Almond Breeze Sem sugar\",\"Almond Breeze Amendoas com Coco\",\"Almond Breeze Chocolate Sem sugar\",\" de Amendoas Silk Sem sugar\",\" de Amendoas Silk \",\" cashews Silk\",\" de almonds e cocoa Silk\",\" de almonds Silk Coco\",\"Bebida de rice L\\u00edquida Sabor Original\",\"Bebida de rice L\\u00edquida Sabor almonds\",\"Bebida de rice L\\u00edquida Sabor peanuts\\n\",\"Bebida de rice L\\u00edquida Sabor cashews\",\"Bebida de rice L\\u00edquida Sabor Chocolate\",\"Bebida de rice L\\u00edquida Sabor Coco\",\"Bebida de rice L\\u00edquida Sabor Baunilha\",\"Bebida de rice Em P\\u00f3 Sabor Original\",\"Bebida de rice Em P\\u00f3 Sabor Original\",\"Bebida de rice Em P\\u00f3 Sabor Banana e apple\",\"Bebida de rice Em P\\u00f3 Sabor Chocolate\",\"Bebida de rice Em P\\u00f3 Sabor strawberries\",\" a tal da castanha barista\",\" a tal da castanha original\",\" a tal da castanha caju + Coco\",\" a tal da castanha almonds\",\" a tal da castanha castanha + cocoa\",\" a tal da castanha oats\",\" a tal da castanha mixed nuts\",\" a tal da castanha caju + Par\\u00e1\",\" a tal da castanha caju + peanuts\",\" Natuterra oats + Coco\",\" de almonds Natuterra\",\" Natuterra oats \",\" Vegetal 3 Nuts \\u2013 macadamianuts, almonds e cashews\",\" Vegetal de macadamianuts e Coco\",\" Vegetal de macadamianuts e cashews\",\" Vegetal Possible Foods\",\" Vegetal Possible Foods Chocolate\",\"Bebida de castanh de caj\\u00fa sem adi\\u00e7\\u00e3o de sugar nature's heart\",\"Bebida de almonds s/ adi\\u00e7\\u00e3o de sugares 1L \\u2013 Nature\\u2019s Heart\",\"Bebida de rice s/ adi\\u00e7\\u00e3o de sugares 1L \\u2013 Nature\\u2019s Heart\",\"Bebida de oats s/ adi\\u00e7\\u00e3o de sugares 1L \\u2013 Nature\\u2019s Heart\",\"Bebida de cocoa & rice 1L \\u2013 Nature\\u2019s Heart\",\"Bebida  & rice s/ adi\\u00e7\\u00e3o de sugares 1L \\u2013 Nature\\u2019s Heart\",\" Vegetal de soy Naturis Batavo\",\" DUOLAT peanuts E CASTANHA 1L - CAJUEIRO\",\" 85 CASTANHAS 1L - CAJUEIRO\",\" TOASTED 1L - CAJUEIRO\"],\"legendgroup\":\"DAIRY 1\",\"marker\":{\"color\":\"rgb(17, 165, 121)\",\"symbol\":\"circle\"},\"mode\":\"markers\",\"name\":\"DAIRY 1\",\"orientation\":\"v\",\"showlegend\":true,\"x\":[-0.10205592510733186,-0.11633534316264839,-0.9115129454924599,-0.9006307021120452,-0.890981268593393,-1.0009714119501258,-0.8602103528608169,-0.6699516991798975,-0.6979120204797239,-0.6144735682459564,-0.7075052403901066,-0.5143469701763693,-0.7393117446169158,-0.5385529564792456,-0.5225458365444051,-0.5720236712061818,-0.815626027184183,-0.5048939620193371,-0.5492075853617433,-0.5243977672863104,-0.5187698415509888,-0.7358814031975546,-0.770219650674638,-0.8219677369719363,-0.3695293506679785,-0.896352257722821,-0.7268934739028436,-0.7345448959174793,-0.7674848584192516,-0.3695293506679785,-1.1543547308695123,-1.2189395062632362,-1.139670762748994,-1.2839430629907704,-1.1103656974237581,-1.3627428188684922,-0.5060039033124716,-0.5019465867810554,-0.6390751653193457,-0.548531085499207,-0.5723003931117657,-0.8101435285598388,-1.0360454481781278,-1.0589077237860285,-1.117269819368969,-0.40583681941909355,-0.7873534676179746,-0.9877611317662717,-0.6977949830912668,-0.6977949830912668,-0.9743967922171537,-1.0151330035629378,-0.9802517549945776,-0.7938075644743887,-0.7410692206378222,-0.6360257018247965,-0.8019871148156106,-0.6262609500139129,-0.7924156317218013,-0.7452148173101449,-0.6353632982762979,-0.6258789541935603,-0.9523648028828782,-0.9091298026898517,-0.9133577089556164,-0.6306361700333103,-0.6169229019272109,-0.6247286363583616,-1.1725657351142431,-1.1872432728905098,-1.1567915649877731,-1.1833268753726245,-1.227646732506935,-1.2309696734704114,-1.3534577114317965,-1.2839752251654981,-0.5222871631398349,-0.6116845649241943,-0.7277828610337486,-0.7368947563982586],\"xaxis\":\"x\",\"y\":[-0.3945360558750217,-0.3895482852907019,-0.4953255723532439,-0.4903906030485966,-0.4697678745548378,-0.27014426429860033,-0.45676994380063257,-0.15448726318039133,-0.18900754547491747,-0.2115709257900669,-0.16277255737934235,-0.16618459503130048,-0.20784510959794955,-0.17226229039683189,-0.079061502506235,-0.1799418968612283,-0.21772209475991053,-0.13529593958970418,-0.15797429087607437,-0.16923192064579393,-0.1749826880954172,-0.22064179401617096,-0.2419480066143142,-0.3465822536123517,-0.11935350587999095,-0.19179738550401376,-0.16686872396502977,-0.17365743574895298,-0.17917932289674146,-0.11935350587999094,-0.24887344048810245,-0.28571113745115756,-0.24169107347355767,-0.23727260698014657,-0.22306341234716645,-0.28697204811765226,-0.0935164776390619,-0.10419705255735606,-0.13241761742923183,-0.1674846318219627,-0.13628682992244817,-0.192842121728646,-0.3546734833643341,-0.26854416907767586,-0.25841830703017554,-0.14403911127049093,-0.18998082795766338,-0.24111628904846144,-0.024911384438397438,-0.024911384438397265,-0.1009656776960928,-0.11663019906466036,-0.10722350189033553,-0.14672458853457082,-0.07765566883988093,-0.10656314313068987,-0.09766396094540283,-0.13482117494569712,-0.19510103117245461,-0.33182994860443166,-0.10648944922526192,-0.1065754453263787,-0.25000956636167526,-0.22281290616583452,-0.31167462375335503,-0.10459310820849568,-0.11316256554197138,-0.10310764583934626,-0.2643606695912872,-0.2858571026559751,-0.2044102250436797,-0.21027788958821228,-0.33591192542894216,-0.3460718841270915,-0.4088099252208723,-0.36818051365025367,-0.09978990981838196,-0.10771098905217252,-0.07906290712261102,-0.07460501036646487],\"yaxis\":\"y\",\"type\":\"scatter\"},{\"customdata\":[[\" 142.0\",\" 200.0\",\" 22.0\",\" 0.0\",\" 0.8\"],[\" 149.0\",\" 200.0\",\" 24.0\",\" 0.0\",\" 0.8\"],[\" 149.0\",\" 200.0\",\" 24.0\",\" 0.0\",\" 0.8\"],[\" 92.0\",\" 200.0\",\" 6.4\",\" 0.0\",\" 0.9\"],[\" 100.0\",\" 200.0\",\" 8.2\",\" 0.0\",\" 1.0\"],[\" 145.0\",\" 150.0\",\" 20.0\",\" 0.0\",\" 1.0\"],[\" 148.0\",\" 150.0\",\" 21.0\",\" 0.0\",\" 1.0\"],[\" 156.0\",\" 250.0\",\" 11.7\",\" 0.0\",\" 14.0\"],[\" 123.0\",\" 250.0\",\" 11.0\",\" 0.0\",\" 10.0\"],[\" 152.0\",\" 250.0\",\" 11.0\",\" 0.0\",\" 14.0\"],[\" 27.0\",\" 15.0\",\" 0.0\",\" 0.0\",\" 0.0\"]],\"hovertemplate\":\"<b>%{hovertext}</b><br><br>Classification (Label)=DAIRY 2<br>Kcal =%{customdata[0]}<br>Serving Size =%{customdata[1]}<br>Carbohydrate =%{customdata[2]}<br>Sugars =%{customdata[3]}<br>Proteins =%{customdata[4]}<extra></extra>\",\"hovertext\":[\"Iogurte \",\"Iogurte  com strawberries\",\"Iogurte  com banana, apple e papaya\",\"Iogurte  Zero sugar\",\"Iogurte  com strawberries Zero sugar\",\"Iogurte GregoVeg \",\"Iogurte GregoVeg  com strawberries\",\"Iogurte Proteico 14g sabor strawberries\",\"Shake \",\"Iogurte Proteico 14g sabor  peanuts\",\"Creme de almonds\"],\"legendgroup\":\"DAIRY 2\",\"marker\":{\"color\":\"rgb(57, 105, 172)\",\"symbol\":\"circle\"},\"mode\":\"markers\",\"name\":\"DAIRY 2\",\"orientation\":\"v\",\"showlegend\":true,\"x\":[-0.8947555293560422,-0.6293363516924131,-0.6660110815565192,-0.8935487279172839,-0.849923846134984,-0.4641661378677466,-0.47342905504835536,-0.6516553573149697,-0.5198777522748177,-0.6718297334831608,-0.6785930429341771],\"xaxis\":\"x\",\"y\":[-0.30526096597482244,-0.28203002105641384,-0.24116910833318053,-0.2776023583566875,-0.30145387419985326,-0.15236559209042852,-0.15892800353266395,-0.34571085335780843,-0.41171592222017583,-0.3327715186232352,-0.15541489240250575],\"yaxis\":\"y\",\"type\":\"scatter\"},{\"customdata\":[[\" 28.0\",\" 12.0\",\" 1.4\",\" 0.0\",\" 2.5\"],[\" 20.0\",\" 12.0\",\" 0.0\",\" 0.0\",\" 0.0\"],[\" 70.0\",\" 12.0\",\" 0.0\",\" 0.0\",\" 0.0\"],[\" 71.0\",\" 12.0\",\" 0.6\",\" 0.0\",\" 0.0\"],[\" 57.0\",\" 12.0\",\" 0.6\",\" 0.0\",\" 0.0\"],[\" 56.0\",\" 12.0\",\" 0.6\",\" 0.0\",\" 0.0\"],[\" 33.0\",\" 12.0\",\" 0.6\",\" 0.0\",\" 0.4\"],[\" 33.0\",\" 12.0\",\" 0.6\",\" 0.0\",\" 0.4\"],[\" 33.0\",\" 12.0\",\" 0.6\",\" 0.0\",\" 0.4\"],[\" 33.0\",\" 12.0\",\" 0.6\",\" 0.0\",\" 0.4\"],[\" 33.0\",\" 12.0\",\" 0.6\",\" 0.0\",\" 0.4\"],[\" 25.0\",\" 12.0\",\" 0.0\",\" 0.0\",\" 0.0\"],[\" 21.0\",\" 12.0\",\" 0.0\",\" 0.0\",\" 0.0\"],[\" 84.0\",\" 40.0\",\" 5.2\",\" 0.0\",\" 0.5\"]],\"hovertemplate\":\"<b>%{hovertext}</b><br><br>Classification (Label)=EGG 1<br>Kcal =%{customdata[0]}<br>Serving Size =%{customdata[1]}<br>Carbohydrate =%{customdata[2]}<br>Sugars =%{customdata[3]}<br>Proteins =%{customdata[4]}<extra></extra>\",\"hovertext\":[\"MAIONESE VEGETAL SUPERBOM\",\"MAIONESE FUGINI\",\"NOT MAYO\",\"NOT MAYO garlic\",\"NOT MAYO AZEITONA\",\"NOT MAYO PICANTE\",\"MAIONESE V-MAYO\",\"MAIONESE V-MAYO ApepperDA\",\"MAIONESE V-MAYO TRUFADA\",\"MAIONESE V-MAYO DE ABACATE\",\"MAIONESE V-MAYO DE garlic\",\"MAIONESE HELLMANS\",\"MAIONESE VEGANA FUGINI\",\"MAIONESE DEL\\u00cdCIAS DE GOI\\u00c1S\"],\"legendgroup\":\"EGG 1\",\"marker\":{\"color\":\"rgb(242, 183, 1)\",\"symbol\":\"circle\"},\"mode\":\"markers\",\"name\":\"EGG 1\",\"orientation\":\"v\",\"showlegend\":true,\"x\":[0.3953409818907454,-0.25080406559011054,0.12637309550636716,0.23584706319380455,0.13248821088573393,0.46027863915860145,1.24068578965164,1.2573997859002488,1.2211339174819493,1.2471627320546295,1.24068578965164,0.3600696936880901,0.8459676647962635,-0.046488516563616404],\"xaxis\":\"x\",\"y\":[0.2745107741507542,0.4114810049229383,0.08100709887569424,0.06667632906184312,0.07712009798446229,-0.20012871109905378,-0.977402031952357,-0.9492108383182176,-0.9551507425729504,-0.9848719309147043,-0.977402031952357,0.047113070369662766,-0.1558711411617382,0.10268155490458995],\"yaxis\":\"y\",\"type\":\"scatter\"},{\"customdata\":[[\" 25.0\",\" 10.0\",\" 3.3\",\" 0.0\",\" 4.1\"],[\" 28.0\",\" 7.0\",\" 1.2\",\" 0.0\",\" 3.1\"]],\"hovertemplate\":\"<b>%{hovertext}</b><br><br>Classification (Label)=EGG 2<br>Kcal =%{customdata[0]}<br>Serving Size =%{customdata[1]}<br>Carbohydrate =%{customdata[2]}<br>Sugars =%{customdata[3]}<br>Proteins =%{customdata[4]}<extra></extra>\",\"hovertext\":[\"Ovos Novos\",\"Ovos Novos\"],\"legendgroup\":\"EGG 2\",\"marker\":{\"color\":\"rgb(231, 63, 116)\",\"symbol\":\"circle\"},\"mode\":\"markers\",\"name\":\"EGG 2\",\"orientation\":\"v\",\"showlegend\":true,\"x\":[-0.547875638790769,-0.593182807431189],\"xaxis\":\"x\",\"y\":[0.10814329841488074,0.09413227825682423],\"yaxis\":\"y\",\"type\":\"scatter\"}],                        {\"template\":{\"data\":{\"barpolar\":[{\"marker\":{\"line\":{\"color\":\"white\",\"width\":0.5},\"pattern\":{\"fillmode\":\"overlay\",\"size\":10,\"solidity\":0.2}},\"type\":\"barpolar\"}],\"bar\":[{\"error_x\":{\"color\":\"rgb(36,36,36)\"},\"error_y\":{\"color\":\"rgb(36,36,36)\"},\"marker\":{\"line\":{\"color\":\"white\",\"width\":0.5},\"pattern\":{\"fillmode\":\"overlay\",\"size\":10,\"solidity\":0.2}},\"type\":\"bar\"}],\"carpet\":[{\"aaxis\":{\"endlinecolor\":\"rgb(36,36,36)\",\"gridcolor\":\"white\",\"linecolor\":\"white\",\"minorgridcolor\":\"white\",\"startlinecolor\":\"rgb(36,36,36)\"},\"baxis\":{\"endlinecolor\":\"rgb(36,36,36)\",\"gridcolor\":\"white\",\"linecolor\":\"white\",\"minorgridcolor\":\"white\",\"startlinecolor\":\"rgb(36,36,36)\"},\"type\":\"carpet\"}],\"choropleth\":[{\"colorbar\":{\"outlinewidth\":1,\"tickcolor\":\"rgb(36,36,36)\",\"ticks\":\"outside\"},\"type\":\"choropleth\"}],\"contourcarpet\":[{\"colorbar\":{\"outlinewidth\":1,\"tickcolor\":\"rgb(36,36,36)\",\"ticks\":\"outside\"},\"type\":\"contourcarpet\"}],\"contour\":[{\"colorbar\":{\"outlinewidth\":1,\"tickcolor\":\"rgb(36,36,36)\",\"ticks\":\"outside\"},\"colorscale\":[[0.0,\"#440154\"],[0.1111111111111111,\"#482878\"],[0.2222222222222222,\"#3e4989\"],[0.3333333333333333,\"#31688e\"],[0.4444444444444444,\"#26828e\"],[0.5555555555555556,\"#1f9e89\"],[0.6666666666666666,\"#35b779\"],[0.7777777777777778,\"#6ece58\"],[0.8888888888888888,\"#b5de2b\"],[1.0,\"#fde725\"]],\"type\":\"contour\"}],\"heatmapgl\":[{\"colorbar\":{\"outlinewidth\":1,\"tickcolor\":\"rgb(36,36,36)\",\"ticks\":\"outside\"},\"colorscale\":[[0.0,\"#440154\"],[0.1111111111111111,\"#482878\"],[0.2222222222222222,\"#3e4989\"],[0.3333333333333333,\"#31688e\"],[0.4444444444444444,\"#26828e\"],[0.5555555555555556,\"#1f9e89\"],[0.6666666666666666,\"#35b779\"],[0.7777777777777778,\"#6ece58\"],[0.8888888888888888,\"#b5de2b\"],[1.0,\"#fde725\"]],\"type\":\"heatmapgl\"}],\"heatmap\":[{\"colorbar\":{\"outlinewidth\":1,\"tickcolor\":\"rgb(36,36,36)\",\"ticks\":\"outside\"},\"colorscale\":[[0.0,\"#440154\"],[0.1111111111111111,\"#482878\"],[0.2222222222222222,\"#3e4989\"],[0.3333333333333333,\"#31688e\"],[0.4444444444444444,\"#26828e\"],[0.5555555555555556,\"#1f9e89\"],[0.6666666666666666,\"#35b779\"],[0.7777777777777778,\"#6ece58\"],[0.8888888888888888,\"#b5de2b\"],[1.0,\"#fde725\"]],\"type\":\"heatmap\"}],\"histogram2dcontour\":[{\"colorbar\":{\"outlinewidth\":1,\"tickcolor\":\"rgb(36,36,36)\",\"ticks\":\"outside\"},\"colorscale\":[[0.0,\"#440154\"],[0.1111111111111111,\"#482878\"],[0.2222222222222222,\"#3e4989\"],[0.3333333333333333,\"#31688e\"],[0.4444444444444444,\"#26828e\"],[0.5555555555555556,\"#1f9e89\"],[0.6666666666666666,\"#35b779\"],[0.7777777777777778,\"#6ece58\"],[0.8888888888888888,\"#b5de2b\"],[1.0,\"#fde725\"]],\"type\":\"histogram2dcontour\"}],\"histogram2d\":[{\"colorbar\":{\"outlinewidth\":1,\"tickcolor\":\"rgb(36,36,36)\",\"ticks\":\"outside\"},\"colorscale\":[[0.0,\"#440154\"],[0.1111111111111111,\"#482878\"],[0.2222222222222222,\"#3e4989\"],[0.3333333333333333,\"#31688e\"],[0.4444444444444444,\"#26828e\"],[0.5555555555555556,\"#1f9e89\"],[0.6666666666666666,\"#35b779\"],[0.7777777777777778,\"#6ece58\"],[0.8888888888888888,\"#b5de2b\"],[1.0,\"#fde725\"]],\"type\":\"histogram2d\"}],\"histogram\":[{\"marker\":{\"line\":{\"color\":\"white\",\"width\":0.6}},\"type\":\"histogram\"}],\"mesh3d\":[{\"colorbar\":{\"outlinewidth\":1,\"tickcolor\":\"rgb(36,36,36)\",\"ticks\":\"outside\"},\"type\":\"mesh3d\"}],\"parcoords\":[{\"line\":{\"colorbar\":{\"outlinewidth\":1,\"tickcolor\":\"rgb(36,36,36)\",\"ticks\":\"outside\"}},\"type\":\"parcoords\"}],\"pie\":[{\"automargin\":true,\"type\":\"pie\"}],\"scatter3d\":[{\"line\":{\"colorbar\":{\"outlinewidth\":1,\"tickcolor\":\"rgb(36,36,36)\",\"ticks\":\"outside\"}},\"marker\":{\"colorbar\":{\"outlinewidth\":1,\"tickcolor\":\"rgb(36,36,36)\",\"ticks\":\"outside\"}},\"type\":\"scatter3d\"}],\"scattercarpet\":[{\"marker\":{\"colorbar\":{\"outlinewidth\":1,\"tickcolor\":\"rgb(36,36,36)\",\"ticks\":\"outside\"}},\"type\":\"scattercarpet\"}],\"scattergeo\":[{\"marker\":{\"colorbar\":{\"outlinewidth\":1,\"tickcolor\":\"rgb(36,36,36)\",\"ticks\":\"outside\"}},\"type\":\"scattergeo\"}],\"scattergl\":[{\"marker\":{\"colorbar\":{\"outlinewidth\":1,\"tickcolor\":\"rgb(36,36,36)\",\"ticks\":\"outside\"}},\"type\":\"scattergl\"}],\"scattermapbox\":[{\"marker\":{\"colorbar\":{\"outlinewidth\":1,\"tickcolor\":\"rgb(36,36,36)\",\"ticks\":\"outside\"}},\"type\":\"scattermapbox\"}],\"scatterpolargl\":[{\"marker\":{\"colorbar\":{\"outlinewidth\":1,\"tickcolor\":\"rgb(36,36,36)\",\"ticks\":\"outside\"}},\"type\":\"scatterpolargl\"}],\"scatterpolar\":[{\"marker\":{\"colorbar\":{\"outlinewidth\":1,\"tickcolor\":\"rgb(36,36,36)\",\"ticks\":\"outside\"}},\"type\":\"scatterpolar\"}],\"scatter\":[{\"marker\":{\"colorbar\":{\"outlinewidth\":1,\"tickcolor\":\"rgb(36,36,36)\",\"ticks\":\"outside\"}},\"type\":\"scatter\"}],\"scatterternary\":[{\"marker\":{\"colorbar\":{\"outlinewidth\":1,\"tickcolor\":\"rgb(36,36,36)\",\"ticks\":\"outside\"}},\"type\":\"scatterternary\"}],\"surface\":[{\"colorbar\":{\"outlinewidth\":1,\"tickcolor\":\"rgb(36,36,36)\",\"ticks\":\"outside\"},\"colorscale\":[[0.0,\"#440154\"],[0.1111111111111111,\"#482878\"],[0.2222222222222222,\"#3e4989\"],[0.3333333333333333,\"#31688e\"],[0.4444444444444444,\"#26828e\"],[0.5555555555555556,\"#1f9e89\"],[0.6666666666666666,\"#35b779\"],[0.7777777777777778,\"#6ece58\"],[0.8888888888888888,\"#b5de2b\"],[1.0,\"#fde725\"]],\"type\":\"surface\"}],\"table\":[{\"cells\":{\"fill\":{\"color\":\"rgb(237,237,237)\"},\"line\":{\"color\":\"white\"}},\"header\":{\"fill\":{\"color\":\"rgb(217,217,217)\"},\"line\":{\"color\":\"white\"}},\"type\":\"table\"}]},\"layout\":{\"annotationdefaults\":{\"arrowhead\":0,\"arrowwidth\":1},\"autotypenumbers\":\"strict\",\"coloraxis\":{\"colorbar\":{\"outlinewidth\":1,\"tickcolor\":\"rgb(36,36,36)\",\"ticks\":\"outside\"}},\"colorscale\":{\"diverging\":[[0.0,\"rgb(103,0,31)\"],[0.1,\"rgb(178,24,43)\"],[0.2,\"rgb(214,96,77)\"],[0.3,\"rgb(244,165,130)\"],[0.4,\"rgb(253,219,199)\"],[0.5,\"rgb(247,247,247)\"],[0.6,\"rgb(209,229,240)\"],[0.7,\"rgb(146,197,222)\"],[0.8,\"rgb(67,147,195)\"],[0.9,\"rgb(33,102,172)\"],[1.0,\"rgb(5,48,97)\"]],\"sequential\":[[0.0,\"#440154\"],[0.1111111111111111,\"#482878\"],[0.2222222222222222,\"#3e4989\"],[0.3333333333333333,\"#31688e\"],[0.4444444444444444,\"#26828e\"],[0.5555555555555556,\"#1f9e89\"],[0.6666666666666666,\"#35b779\"],[0.7777777777777778,\"#6ece58\"],[0.8888888888888888,\"#b5de2b\"],[1.0,\"#fde725\"]],\"sequentialminus\":[[0.0,\"#440154\"],[0.1111111111111111,\"#482878\"],[0.2222222222222222,\"#3e4989\"],[0.3333333333333333,\"#31688e\"],[0.4444444444444444,\"#26828e\"],[0.5555555555555556,\"#1f9e89\"],[0.6666666666666666,\"#35b779\"],[0.7777777777777778,\"#6ece58\"],[0.8888888888888888,\"#b5de2b\"],[1.0,\"#fde725\"]]},\"colorway\":[\"#1F77B4\",\"#FF7F0E\",\"#2CA02C\",\"#D62728\",\"#9467BD\",\"#8C564B\",\"#E377C2\",\"#7F7F7F\",\"#BCBD22\",\"#17BECF\"],\"font\":{\"color\":\"rgb(36,36,36)\"},\"geo\":{\"bgcolor\":\"white\",\"lakecolor\":\"white\",\"landcolor\":\"white\",\"showlakes\":true,\"showland\":true,\"subunitcolor\":\"white\"},\"hoverlabel\":{\"align\":\"left\"},\"hovermode\":\"closest\",\"mapbox\":{\"style\":\"light\"},\"paper_bgcolor\":\"white\",\"plot_bgcolor\":\"white\",\"polar\":{\"angularaxis\":{\"gridcolor\":\"rgb(232,232,232)\",\"linecolor\":\"rgb(36,36,36)\",\"showgrid\":false,\"showline\":true,\"ticks\":\"outside\"},\"bgcolor\":\"white\",\"radialaxis\":{\"gridcolor\":\"rgb(232,232,232)\",\"linecolor\":\"rgb(36,36,36)\",\"showgrid\":false,\"showline\":true,\"ticks\":\"outside\"}},\"scene\":{\"xaxis\":{\"backgroundcolor\":\"white\",\"gridcolor\":\"rgb(232,232,232)\",\"gridwidth\":2,\"linecolor\":\"rgb(36,36,36)\",\"showbackground\":true,\"showgrid\":false,\"showline\":true,\"ticks\":\"outside\",\"zeroline\":false,\"zerolinecolor\":\"rgb(36,36,36)\"},\"yaxis\":{\"backgroundcolor\":\"white\",\"gridcolor\":\"rgb(232,232,232)\",\"gridwidth\":2,\"linecolor\":\"rgb(36,36,36)\",\"showbackground\":true,\"showgrid\":false,\"showline\":true,\"ticks\":\"outside\",\"zeroline\":false,\"zerolinecolor\":\"rgb(36,36,36)\"},\"zaxis\":{\"backgroundcolor\":\"white\",\"gridcolor\":\"rgb(232,232,232)\",\"gridwidth\":2,\"linecolor\":\"rgb(36,36,36)\",\"showbackground\":true,\"showgrid\":false,\"showline\":true,\"ticks\":\"outside\",\"zeroline\":false,\"zerolinecolor\":\"rgb(36,36,36)\"}},\"shapedefaults\":{\"fillcolor\":\"black\",\"line\":{\"width\":0},\"opacity\":0.3},\"ternary\":{\"aaxis\":{\"gridcolor\":\"rgb(232,232,232)\",\"linecolor\":\"rgb(36,36,36)\",\"showgrid\":false,\"showline\":true,\"ticks\":\"outside\"},\"baxis\":{\"gridcolor\":\"rgb(232,232,232)\",\"linecolor\":\"rgb(36,36,36)\",\"showgrid\":false,\"showline\":true,\"ticks\":\"outside\"},\"bgcolor\":\"white\",\"caxis\":{\"gridcolor\":\"rgb(232,232,232)\",\"linecolor\":\"rgb(36,36,36)\",\"showgrid\":false,\"showline\":true,\"ticks\":\"outside\"}},\"title\":{\"x\":0.05},\"xaxis\":{\"automargin\":true,\"gridcolor\":\"rgb(232,232,232)\",\"linecolor\":\"rgb(36,36,36)\",\"showgrid\":false,\"showline\":true,\"ticks\":\"outside\",\"title\":{\"standoff\":15},\"zeroline\":false,\"zerolinecolor\":\"rgb(36,36,36)\"},\"yaxis\":{\"automargin\":true,\"gridcolor\":\"rgb(232,232,232)\",\"linecolor\":\"rgb(36,36,36)\",\"showgrid\":false,\"showline\":true,\"ticks\":\"outside\",\"title\":{\"standoff\":15},\"zeroline\":false,\"zerolinecolor\":\"rgb(36,36,36)\"}}},\"xaxis\":{\"anchor\":\"y\",\"domain\":[0.0,1.0],\"title\":{\"text\":\"x\"},\"visible\":false},\"yaxis\":{\"anchor\":\"x\",\"domain\":[0.0,1.0],\"title\":{\"text\":\"y\"},\"visible\":false},\"legend\":{\"title\":{\"text\":\"Classification (Label)\"},\"tracegroupgap\":0},\"margin\":{\"t\":0,\"l\":0,\"r\":0,\"b\":0},\"width\":800},                        {\"responsive\": true}                    ).then(function(){\n",
              "                            \n",
              "var gd = document.getElementById('d1ec6a76-5df9-4298-9cb5-3f099a491131');\n",
              "var x = new MutationObserver(function (mutations, observer) {{\n",
              "        var display = window.getComputedStyle(gd).display;\n",
              "        if (!display || display === 'none') {{\n",
              "            console.log([gd, 'removed!']);\n",
              "            Plotly.purge(gd);\n",
              "            observer.disconnect();\n",
              "        }}\n",
              "}});\n",
              "\n",
              "// Listen for the removal of the full notebook cells\n",
              "var notebookContainer = gd.closest('#notebook-container');\n",
              "if (notebookContainer) {{\n",
              "    x.observe(notebookContainer, {childList: true});\n",
              "}}\n",
              "\n",
              "// Listen for the clearing of the current output cell\n",
              "var outputEl = gd.closest('.output');\n",
              "if (outputEl) {{\n",
              "    x.observe(outputEl, {childList: true});\n",
              "}}\n",
              "\n",
              "                        })                };                            </script>        </div>\n",
              "</body>\n",
              "</html>"
            ]
          },
          "metadata": {}
        }
      ]
    },
    {
      "cell_type": "code",
      "source": [
        "data_ingredients = label_data.join(ingredients_normalized)\n",
        "sklearn_pca = sklearnPCA(n_components=200)\n",
        "X_pcaI = sklearn_pca.fit_transform(X_ingredients)\n",
        "\n",
        "X_pcaI[1:4, :]\n",
        "data_ingredients['x'] = X_pcaI[:,0]\n",
        "data_ingredients['y'] = X_pcaI[:,1]\n",
        "\n",
        "fig = px.scatter(data_ingredients, x='x', y='y', color='Classification', hover_data=[\"Description\"], width=800)\n",
        "fig.show()"
      ],
      "metadata": {
        "colab": {
          "base_uri": "https://localhost:8080/",
          "height": 542
        },
        "id": "Ajcet5Qmbx19",
        "outputId": "ea3d921f-bb0a-4760-99ee-f4e4f39e0d05"
      },
      "execution_count": null,
      "outputs": [
        {
          "output_type": "display_data",
          "data": {
            "text/html": [
              "<html>\n",
              "<head><meta charset=\"utf-8\" /></head>\n",
              "<body>\n",
              "    <div>            <script src=\"https://cdnjs.cloudflare.com/ajax/libs/mathjax/2.7.5/MathJax.js?config=TeX-AMS-MML_SVG\"></script><script type=\"text/javascript\">if (window.MathJax) {MathJax.Hub.Config({SVG: {font: \"STIX-Web\"}});}</script>                <script type=\"text/javascript\">window.PlotlyConfig = {MathJaxConfig: 'local'};</script>\n",
              "        <script src=\"https://cdn.plot.ly/plotly-2.8.3.min.js\"></script>                <div id=\"de1b75fe-b4ec-4fb1-a336-533f3fa8bf2a\" class=\"plotly-graph-div\" style=\"height:525px; width:800px;\"></div>            <script type=\"text/javascript\">                                    window.PLOTLYENV=window.PLOTLYENV || {};                                    if (document.getElementById(\"de1b75fe-b4ec-4fb1-a336-533f3fa8bf2a\")) {                    Plotly.newPlot(                        \"de1b75fe-b4ec-4fb1-a336-533f3fa8bf2a\",                        [{\"customdata\":[[\"Carne Mo\\u00edda do Futuro\"],[\"Almondegas de Soja Vegway\"],[\"Almondegas Amazonika Mundi\"],[\"Kibe Incr\\u00edvel Seara\"],[\"Almondegas Incr\\u00edveis Seara\"],[\"Almondegas Mr Veggy\"],[\"Carne Mo\\u00edda Superbom\"],[\"Carne Vegetal Mo\\u00edda Superbom\"],[\"Carne Mo\\u00edda Vegetal Verdali\"]],\"hovertemplate\":\"Classification=MEAT 2<br>x=%{x}<br>y=%{y}<br>Product's Name=%{customdata[0]}<extra></extra>\",\"legendgroup\":\"MEAT 2\",\"marker\":{\"color\":\"#636efa\",\"symbol\":\"circle\"},\"mode\":\"markers\",\"name\":\"MEAT 2\",\"orientation\":\"v\",\"showlegend\":true,\"x\":[1.0334862242462652,0.8648192951056514,1.0912070223026387,1.3504480309045683,2.3040052584379245,0.8512446478410355,-0.5516832654222874,0.42139924520594074,0.6192532049337022],\"xaxis\":\"x\",\"y\":[0.09396575743854256,1.166502095058927,-0.8116971019042845,-0.8994790327231715,-1.4733865184000046,-0.0840700922340435,-0.15891552979549303,1.0331943836120527,0.2203689372084736],\"yaxis\":\"y\",\"type\":\"scatter\"},{\"customdata\":[[\"Carne Mo\\u00edda do Futuro\"],[\"Fil\\u00e9s Sora Carne Vermelha\"],[\"Fatias Sora Carne Vermelha\"],[\"Fil\\u00e9 Pronto Saud\\u00e1vel Sora\"],[\"Carne Mo\\u00edda Pronto Saud\\u00e1vel Sora\"],[\"Churrasco Vegabom\"],[\"Churrasco Aoniondo Vegabom\"],[\"Carne de Pernil Seara\"],[\"Alm\\u00f4ndega de Soja Vegana Goshen\"],[\"Bife de Soja Vegano Goshen\"],[\"Alm\\u00f4ndega Vegana Superbom\"],[\"Bife Vegetal Superbom\"],[\"Escalope ao Molho Caseiro Superbom\"],[\"Cubinhos ao Molho Mexicano Superbom\"],[\"Alm\\u00f4ndegas ao Molho Sugo Superbom\"],[\"Medalh\\u00e3o ao Molho Madeira Superbom\"],[\"Mignon Verdali\"],[\"Steak Verdali\"]],\"hovertemplate\":\"Classification=MEAT 3<br>x=%{x}<br>y=%{y}<br>Product's Name=%{customdata[0]}<extra></extra>\",\"legendgroup\":\"MEAT 3\",\"marker\":{\"color\":\"#EF553B\",\"symbol\":\"circle\"},\"mode\":\"markers\",\"name\":\"MEAT 3\",\"orientation\":\"v\",\"showlegend\":true,\"x\":[0.8670825624787281,-0.3027258346668106,-0.6485562736162979,0.2550558108386524,0.2550558108386524,1.0647199777819922,1.0647199777819925,2.3040052584379245,0.43258642502775096,0.596283618349127,-0.5548965000398219,0.19966414655290188,0.9346794617293583,0.5846514341264665,1.3377081918557456,1.4453924384275874,1.3039279060309474,0.5713395597696461],\"xaxis\":\"x\",\"y\":[0.2701577802081517,-0.13926095298539776,0.12238389108431497,-0.6846828162039602,-0.6846828162039602,-0.08562346749985549,-0.08562346749985547,-1.4733865184000046,1.4422359300357646,1.7028327482343497,-0.16019643429481362,0.4708140122677211,-0.14987034876958763,0.1146220859481419,0.7196825633219974,1.1118844431524375,-0.3570861265032787,0.2626973618629155],\"yaxis\":\"y\",\"type\":\"scatter\"},{\"customdata\":[[\"Frango do Futuro\"],[\"Fatias Sora Carne Branca\"],[\"Fil\\u00e9s Sora Carne Branca\"],[\"Strogonoff de Frango Vegabom\"],[\"Tiras de Frango New Butchers\"],[\"Fil\\u00e9 de Frango Desfiado Vegway\"],[\"Frango Veg e Tal Sadia\"],[\"Frango Veg e Tal Sadia Desfiado\"],[\"Peito de Peru de Soja\"],[\"Peito de Peru de Soja Vegano\"],[\"Tiras de Ave Verdali\"],[\"Fil\\u00e9 sem Frango Verdali\"],[\"Mini Fil\\u00e9 de Frango Verdali\"]],\"hovertemplate\":\"Classification=POULTRY 3<br>x=%{x}<br>y=%{y}<br>Product's Name=%{customdata[0]}<extra></extra>\",\"legendgroup\":\"POULTRY 3\",\"marker\":{\"color\":\"#00cc96\",\"symbol\":\"circle\"},\"mode\":\"markers\",\"name\":\"POULTRY 3\",\"orientation\":\"v\",\"showlegend\":true,\"x\":[0.8670825624787304,-0.6540969394166667,-0.6540969394166667,0.5447520260388289,0.09226637159132003,0.8047788298210308,0.022474411072243333,0.022474411072243333,0.029817264463909192,0.4016995017838001,0.9884548601098243,0.4315322303603311,0.7550060576592635],\"xaxis\":\"x\",\"y\":[0.27015778020815134,0.12224785714849011,0.1222478571484901,-0.20347247503633195,-0.617423123770752,1.0486759069684122,-0.19942835613454868,-0.19942835613454868,1.8983757123784832,1.9859886888581024,-0.7017840144642854,0.11112430842970111,-0.38787821411533635],\"yaxis\":\"y\",\"type\":\"scatter\"},{\"customdata\":[[\"Lingui\\u00e7a do Futuro\"],[\"Lingui\\u00e7a calabresa vegabom\"],[\"saltsicha de chickpea Vegabom\"],[\"saltsicha de Soja Vegway\"],[\"saltsichas Incriveis Seara\"],[\"Lingui\\u00e7a Apimentada de Soja Goshen\"],[\"Lingui\\u00e7a Calabresa de Soja Goshen\"],[\"Lingui\\u00e7a de Soja Vegana Goshen\"],[\"Lingui\\u00e7a Toscana de Soja Goshen\"],[\"saltsicha de Soja Vegana Goshen\"],[\"saltsicha Vegetal Superbom\"],[\"saltsicha Vegetal Defumada Superbom\"]],\"hovertemplate\":\"Classification=PORK 1<br>x=%{x}<br>y=%{y}<br>Product's Name=%{customdata[0]}<extra></extra>\",\"legendgroup\":\"PORK 1\",\"marker\":{\"color\":\"#ab63fa\",\"symbol\":\"circle\"},\"mode\":\"markers\",\"name\":\"PORK 1\",\"orientation\":\"v\",\"showlegend\":true,\"x\":[1.5164482292708064,0.23900608821488684,0.11539798255921352,0.7118526716489036,2.3040052584379245,0.36972038697141923,0.49327846560749417,0.7472739149063592,0.029817264463909192,0.5146419550042481,0.5062945239862311,0.5149284698241521],\"xaxis\":\"x\",\"y\":[0.02226196687104453,0.6926152572110872,0.6064628974831258,0.8605093787036612,-1.4733865184000046,1.7185431119642365,2.2064262027779087,2.239227561983698,1.8983757123784832,2.1416792644620624,1.4074987118309472,1.0518674323256296],\"yaxis\":\"y\",\"type\":\"scatter\"},{\"customdata\":[[\"Hamburguer de Soja Goshen\"],[\"Hamburguer de Soja Vegano Goshen\"],[\"Hamburguer de Quinoa Mr Veggy\"],[\"Hamburguer de lentil Mr Veggy\"],[\"Hamburguer vegano falafel amazonika mundi\"],[\"Hamburguer Vegetal Verdali\"],[\"VegBurger Sabor Carne\"],[\"Burger Gourmet Superbom\"],[\"Hamburguer Incr\\u00edvel Seara\"],[\"Not Burguer Notco\"],[\"Hamburguer de Fibra de Caju Amazonika Mundi\"],[\"Hamburguer Vegabom\"],[\"Hamburguer de Carne Veg  e Tal Sadia\"],[\"Hamburger New Butchers\"],[\"Hamburguer de Legumes Mr Veggy\"],[\"Hamburguer Vegetariano Mr Veggy\"],[\"Hambuguer Mr Veggy Mari Mari\"],[\"Hambuguer Mr Veggy Mari Mari Churrrasco\"],[\"Hamb\\u00farguer Fazenda Futuro 2.0\"],[\"Hamb\\u00farguer Vegano de Quinoa Amazonika Mundi\"],[\"Hamburguer Veggie Roots Tempero Indiano\"],[\"Hamb\\u00farguer Sora Carne Vermelha \"],[\"Hamburguer Veggie Roots brazilianspices\"],[\"Hamburguer veggie roots tempero mexicano\"],[\"Hamburguer de Soja Sabor Carne Vegway\"],[\"Hamb\\u00farguer de Soja Empanado Vegway\"],[\"Hamburguer Vegetal Superbom\"],[\"Hamburguer de chickpea Mr Veggy\"],[\"Hamburguer Veggie Roots Tempero \\u00c1rabe\"],[\"Hamburguer Veggie Roots Tempero Tailand\\u00eas\"],[\"Hamburguer Vegabom\"],[\"Hamb\\u00farguer Pronto Saud\\u00e1vel Sora\"],[\"hamburguer vegetal com herbs jasmine\"],[\"Hamburguer Vegetal Tradicional Jasmine\"]],\"hovertemplate\":\"Classification=MEAT 1<br>x=%{x}<br>y=%{y}<br>Product's Name=%{customdata[0]}<extra></extra>\",\"legendgroup\":\"MEAT 1\",\"marker\":{\"color\":\"#FFA15A\",\"symbol\":\"circle\"},\"mode\":\"markers\",\"name\":\"MEAT 1\",\"orientation\":\"v\",\"showlegend\":true,\"x\":[0.592925312816111,0.3398952177242343,0.34578987278036566,0.6952484298453677,0.07368616726118311,1.2538030319289752,0.305199674366022,-0.17350796252623582,2.3040052584379245,0.022201553483232005,1.0804941450468375,0.2538551114104392,0.7977669533087725,0.5359230791720604,0.19987227276382655,0.17778008546137747,0.06939550239062814,0.06939550239062814,1.033486224246266,0.3699481412784959,0.6539403528178505,-0.648556273616298,0.6464784043682342,0.7351766851835787,0.8159379343209155,0.847414176980982,1.4822773135305773,-0.05398950389584424,0.7915709742195011,0.744979612577399,0.21862781791259353,0.2550558108386525,-0.5154648343601685,-0.5214346303513709],\"xaxis\":\"x\",\"y\":[1.5629301132363018,1.4597378813158142,-0.21909713774708076,-0.40504533026519063,-0.0507408930879484,-0.8091231849688482,-0.9003177137252064,0.1938806701271856,-1.4733865184000046,-0.31284175635904765,-0.8479692096465415,0.6372220669091541,-0.7537506538892899,-0.9126181449989533,0.5942274784813275,0.5953716624808177,0.5368354875046673,0.5368354875046673,0.0939657574385395,-0.1872681365541742,-0.532645697527579,0.12238389108431495,-0.6099189235638702,-0.7024799755079373,1.1022314532426492,1.0610463102590912,0.6095723098180452,0.10879806415160373,-0.6753384257414058,-0.42554383855082895,0.541699800703814,-0.6846828162039601,0.3364017059903888,0.3417813320743858],\"yaxis\":\"y\",\"type\":\"scatter\"},{\"customdata\":[[\"Hamb\\u00farguer Sora Carne Branca\"],[\"VegBurger Sabor Frango\"],[\"Hambuguer Incr\\u00edvel Seara Frango\"],[\"Frango Vegano em Peda\\u00e7os \\u00e0 Base de pea\"],[\"Hamb\\u00farguer de Frango Verdali\"]],\"hovertemplate\":\"Classification=POULTRY 2<br>x=%{x}<br>y=%{y}<br>Product's Name=%{customdata[0]}<extra></extra>\",\"legendgroup\":\"POULTRY 2\",\"marker\":{\"color\":\"#19d3f3\",\"symbol\":\"circle\"},\"mode\":\"markers\",\"name\":\"POULTRY 2\",\"orientation\":\"v\",\"showlegend\":true,\"x\":[-0.6540969394166667,0.26449682384256434,2.3040052584379245,-0.040721923904079936,1.0351664542778274],\"xaxis\":\"x\",\"y\":[0.1222478571484901,-0.8911000329799884,-1.4733865184000046,0.18306727403103532,-0.5782148912189227],\"yaxis\":\"y\",\"type\":\"scatter\"},{\"customdata\":[[\"Empanado de Frango Vegabom\"],[\"Fil\\u00e9 de Frango Empanado Vegabom\"],[\"Empanados de Frango Vegway\"],[\"Empanados Incr\\u00edveis Seara\"],[\"Empanados Sadia Veg e Tal\"],[\"Empanadinho de Soja  Goshen\"],[\"Empanadinho de Soja Vegano  Goshen\"],[\"Steak de Soja Vegano Goshen\"],[\"Empanado Vegano (Mini Crispy) 100 Foods\"],[\"Crispy Chicken 100 Foods\"],[\"Mini Empanado de Legumes Superbom\"],[\"Steak Vegan Sabor Legumes Superbom\"],[\"Steak Veg\\u00ea Sabor Frango\"],[\"Steak Veg\\u00ea Sabor Frango Empanado\"]],\"hovertemplate\":\"Classification=POULTRY 1<br>x=%{x}<br>y=%{y}<br>Product's Name=%{customdata[0]}<extra></extra>\",\"legendgroup\":\"POULTRY 1\",\"marker\":{\"color\":\"#FF6692\",\"symbol\":\"circle\"},\"mode\":\"markers\",\"name\":\"POULTRY 1\",\"orientation\":\"v\",\"showlegend\":true,\"x\":[0.7112045873568218,0.7112045873568218,0.7865330677000019,1.8693776398861117,1.8693776398861117,0.7336327365784046,0.42145453158422286,0.6644027443586042,1.2051791200519935,1.4209214017855822,0.5326851958252785,0.5326851958253206,-0.16565371566148201,-0.11192260442066272],\"xaxis\":\"x\",\"y\":[0.494689442455749,0.49468944245574903,1.1175998975555672,-1.2546642110013604,-1.2546642110013604,1.7523965098706487,1.3447576145986382,1.686401325065671,-0.7601713586877324,-0.9006330975307758,0.3134500175484017,0.3134500175487255,0.010455194084754111,0.016388271581494196],\"yaxis\":\"y\",\"type\":\"scatter\"},{\"customdata\":[[\"Fil\\u00e9 Peixe Empanado Vegabom\"],[\"Tirinhas de Peixe Empanado Vegabom\"],[\"Bolinho de Bacalhau New Butchers\"],[\"Bolinho de Siri Amazonika Mundi\"],[\"Camar\\u00e3o de Soja Vegano Goshen\"]],\"hovertemplate\":\"Classification=FISH 2<br>x=%{x}<br>y=%{y}<br>Product's Name=%{customdata[0]}<extra></extra>\",\"legendgroup\":\"FISH 2\",\"marker\":{\"color\":\"#B6E880\",\"symbol\":\"circle\"},\"mode\":\"markers\",\"name\":\"FISH 2\",\"orientation\":\"v\",\"showlegend\":true,\"x\":[0.7292083215643521,0.7292083215643521,0.2892938160468314,0.674594347591876,0.459136025346112],\"xaxis\":\"x\",\"y\":[0.5211676463846598,0.5211676463846598,-0.9519575030215399,-0.6522831611917107,1.8419712253033558],\"yaxis\":\"y\",\"type\":\"scatter\"},{\"customdata\":[[\"Queijo Mu\\u00e7arela Vegabom\"],[\"Queijo Picante Vegabom\"],[\"Queijo Cheddar Vegabom\"],[\"Requeisoy Provolone \"],[\"Requeisoy Cheddar' \"],[\"Requeisoy Tradicional\"],[\"Requeisoy Gorgonzola\"],[\"Okeijo R\\u00fastico\"],[\"Okeijo Cremoso\"],[\"Okeijo Gratinado\"],[\"Okeijo Mussarela\"],[\"Okeijo Provolone\"],[\"Creme s Vida Veg\"],[\"Creme s fineherbs e Pesto\"],[\"Queijo mu\\u00e7arela\"],[\"Queijo minas frescal\"],[\"Queijo minas padr\\u00e3o\"],[\"Requeij\\u00e3o Tradicional\"],[\"Requeij\\u00e3o fineherbs\"],[\"Requeij\\u00e3o Defumado\"],[\"Queijo Zimurisku \"],[\"Queijo Zimurisku Temperado\"],[\"Queijo Mozarela NoMoo\"],[\"Queijo Provolone\"],[\"Queijo Ch\\u00e9vre\"],[\"Queijo Prato\"],[\"Queijo Parmes\\u00e3o\"],[\"Requeij\\u00e3o Nomoo\"],[\"Queijo Gorgolino\"],[\"Queijo Melhor Que Cheddar\"],[\"Queijo Recaishow\"],[\"Queijo Brie\"],[\"Mussarela Vegana Goshen\"],[\"Queijo ProVolone Veganita\"],[\"Queijo Munster Veganita\"],[\"Queijo Brie Veganita\"],[\"Queijo Mussarela Veganita\"],[\"Queijo Cheddar Veganita\"],[\"CREAM CHEESE CULIN\\u00c1RIO BASI.CO\"],[\"REQUEIJ\\u00c3O VEGETAL\"],[\"QUEIJO PARMES\\u00c3O\"],[\"QUEIJO MINAS VEGETAL\"],[\"QUEIJO PRATO\"],[\"QUEIJO MU\\u00c7ARELA\"],[\"QUEIJO CHEDDAR\"]],\"hovertemplate\":\"Classification=DAIRY 3<br>x=%{x}<br>y=%{y}<br>Product's Name=%{customdata[0]}<extra></extra>\",\"legendgroup\":\"DAIRY 3\",\"marker\":{\"color\":\"#FF97FF\",\"symbol\":\"circle\"},\"mode\":\"markers\",\"name\":\"DAIRY 3\",\"orientation\":\"v\",\"showlegend\":true,\"x\":[0.1106753687287197,0.08538825021484658,0.08538825021484658,0.029342704787533733,0.028679472047861483,0.07495414295898374,0.0352378683204544,-0.007616746655721974,0.35534431763327995,-0.11659206327024806,-0.1675322943349133,-0.1675322943349133,-0.9539799679567643,-0.9310507465634259,-0.9256170614539097,-0.8592037164599431,-0.9596959859904766,-0.9207758320166654,-1.005551650584281,-0.9472121590232436,-0.6975828084967128,-0.6406069711187825,-0.8671295542643411,-0.8721219249905402,-0.9453034727079865,-0.8483805409311063,-0.9682441752660086,-0.22825999375545222,-0.27732300814287153,-0.19481140997960925,0.08927930150402764,-0.40566849570852787,-0.549196764223387,-1.0150685596603606,-1.0150685596603606,-1.0150685596603606,-1.0150685596603606,-0.9971712833676344,-0.5674547007919399,-0.8492895247462245,-0.43904449431866377,-1.0253237875470311,-1.0569582282264003,-1.1036013130376614,-1.1475323542772258],\"xaxis\":\"x\",\"y\":[-0.044533530017063734,-0.03652302529603791,-0.03652302529603791,0.5382222512299202,0.560567252273011,0.561382628781963,0.5666659341684963,0.03267728818764952,-0.23995035443451898,-0.14865196485490345,-0.07613802359541716,-0.07613802359541716,-0.30013519713626186,-0.2881275945842068,-0.1952657591409674,-0.17956954119310883,-0.21180634795755254,-0.19591360094247104,-0.28332372035135345,-0.367413394638218,-0.16470598830646166,-0.09027782709275987,-0.2064006833716621,-0.20803793827954634,-0.26410900518852654,-0.1987308547524427,-0.27345502246850895,0.05710418856387199,0.02060450499824018,0.017024315877299353,-0.2606774264753414,-0.05421025177611286,-0.1092205895146505,-0.24060736299078078,-0.24060736299078078,-0.24060736299078078,-0.24060736299078078,-0.2332088758189135,-0.3796008040266128,-0.5039525429436339,0.008790878319777873,-0.2969682574614434,-0.22369456234150947,-0.18160658225105944,-0.22424770906163485],\"yaxis\":\"y\",\"type\":\"scatter\"},{\"customdata\":[[\"Fil\\u00e9 de saltm\\u00e3o New Butchers\"],[\"Bacalhau New  Butchers\"],[\"Isca de Peixe Vegway\"],[\"Fil\\u00e9 de Peixe Vegway\"],[\"Vieira de Soja Vegway\"],[\"Bacalhau Incr\\u00edvel Seara\"],[\"Iscas de Peixe Incr\\u00edvel Seara\"],[\"Atum do Futuro\"]],\"hovertemplate\":\"Classification=FISH 1<br>x=%{x}<br>y=%{y}<br>Product's Name=%{customdata[0]}<extra></extra>\",\"legendgroup\":\"FISH 1\",\"marker\":{\"color\":\"#FECB52\",\"symbol\":\"circle\"},\"mode\":\"markers\",\"name\":\"FISH 1\",\"orientation\":\"v\",\"showlegend\":true,\"x\":[-0.05331968029499072,0.785844271067376,0.8527309040762028,0.8339416685284465,0.7628575854402249,2.3040052584379245,1.8693776398861117,0.5546723593136672],\"xaxis\":\"x\",\"y\":[-0.6093651594615342,-0.669150983758505,1.193410371577954,1.128709657171561,0.9716153865195307,-1.4733865184000046,-1.2546642110013604,-0.09259293002901965],\"yaxis\":\"y\",\"type\":\"scatter\"},{\"customdata\":[[\"Presunto de Soja Vegway\"],[\"Bacon Vegano\"],[\"Mortadela de Soja Vegana Goshen\"],[\"Presunto de Soja Defumado\"],[\"Presunto de Soja Vegano Fatiado Goshen\"],[\"Bacon Crispy Verdali\"]],\"hovertemplate\":\"Classification=PORK 2<br>x=%{x}<br>y=%{y}<br>Product's Name=%{customdata[0]}<extra></extra>\",\"legendgroup\":\"PORK 2\",\"marker\":{\"color\":\"#636efa\",\"symbol\":\"circle\"},\"mode\":\"markers\",\"name\":\"PORK 2\",\"orientation\":\"v\",\"showlegend\":true,\"x\":[0.7633317094619011,-0.6353789556029004,0.4167366036650368,0.5680788112587886,0.39747796893767295,-0.16573230103026118],\"xaxis\":\"x\",\"y\":[1.0359562494057544,0.02332649274643303,2.068357742038281,1.645483925528577,1.9545577086395445,-0.10103886532825206],\"yaxis\":\"y\",\"type\":\"scatter\"},{\"customdata\":[[\"Not Milk \"],[\"Not Milk Semidesnatado\"],[\" Vegetal de almonds\"],[\" vegetal \"],[\" Vegetal de almonds Fresco\"],[\" Vegetal  de Caj\\u00fa Fresco\"],[\" Vegetal  Fresco\"],[\" Vegetal Noats Original\"],[\" Vegetal Noats Barista\"],[\" Jasmine rice em P\\u00f3\"],[\" BIOV jasmine rice com amendoas\"],[\" BIOV jasmine rice com coco\"],[\" BioV oats Jasmine\"],[\" Jasmine rice \"],[\" Jasmine rice com oats\"],[\"Bebida de rice Nesfit\"],[\"Bebida Natural Nesfit\"],[\"Bebida de rice  e Amendoas Nesfit\"],[\"Bebida de rice e Coco Nesfit\"],[\"Bebida de oats Nesfit\"],[\"Bebida de oats e cocoa\"],[\"Molico Vegetal Nestl\\u00e9\"],[\"Ninho Vegetal Nestl\\u00e9\"],[\"Ninho Banana e apple Nestl\\u00e9\"],[\"Nude Edi\\u00e7\\u00e3o Barista\"],[\"Nude Original \"],[\"Nude Sabor Baunilha\"],[\"Nude de cocoa\"],[\"Nude + calcium\"],[\"Nude Barista\"],[\"Almond Breeze Original\"],[\"Almond Breeze Chocolate\"],[\"Almond Breeze Baunilha\"],[\"Almond Breeze Sem sugar\"],[\"Almond Breeze Amendoas com Coco\"],[\"Almond Breeze Chocolate Sem sugar\"],[\" de Amendoas Silk Sem sugar\"],[\" de Amendoas Silk \"],[\" cashews Silk\"],[\" de almonds e cocoa Silk\"],[\" de almonds Silk Coco\"],[\"Bebida de rice L\\u00edquida Sabor Original\"],[\"Bebida de rice L\\u00edquida Sabor almonds\"],[\"Bebida de rice L\\u00edquida Sabor peanuts\\n\"],[\"Bebida de rice L\\u00edquida Sabor cashews\"],[\"Bebida de rice L\\u00edquida Sabor Chocolate\"],[\"Bebida de rice L\\u00edquida Sabor Coco\"],[\"Bebida de rice L\\u00edquida Sabor Baunilha\"],[\"Bebida de rice Em P\\u00f3 Sabor Original\"],[\"Bebida de rice Em P\\u00f3 Sabor Original\"],[\"Bebida de rice Em P\\u00f3 Sabor Banana e apple\"],[\"Bebida de rice Em P\\u00f3 Sabor Chocolate\"],[\"Bebida de rice Em P\\u00f3 Sabor strawberries\"],[\" a tal da castanha barista\"],[\" a tal da castanha original\"],[\" a tal da castanha caju + Coco\"],[\" a tal da castanha almonds\"],[\" a tal da castanha castanha + cocoa\"],[\" a tal da castanha oats\"],[\" a tal da castanha mixed nuts\"],[\" a tal da castanha caju + Par\\u00e1\"],[\" a tal da castanha caju + peanuts\"],[\" Natuterra oats + Coco\"],[\" de almonds Natuterra\"],[\" Natuterra oats \"],[\" Vegetal 3 Nuts \\u2013 macadamianuts, almonds e cashews\"],[\" Vegetal de macadamianuts e Coco\"],[\" Vegetal de macadamianuts e cashews\"],[\" Vegetal Possible Foods\"],[\" Vegetal Possible Foods Chocolate\"],[\"Bebida de castanh de caj\\u00fa sem adi\\u00e7\\u00e3o de sugar nature's heart\"],[\"Bebida de almonds s/ adi\\u00e7\\u00e3o de sugares 1L \\u2013 Nature\\u2019s Heart\"],[\"Bebida de rice s/ adi\\u00e7\\u00e3o de sugares 1L \\u2013 Nature\\u2019s Heart\"],[\"Bebida de oats s/ adi\\u00e7\\u00e3o de sugares 1L \\u2013 Nature\\u2019s Heart\"],[\"Bebida de cocoa & rice 1L \\u2013 Nature\\u2019s Heart\"],[\"Bebida  & rice s/ adi\\u00e7\\u00e3o de sugares 1L \\u2013 Nature\\u2019s Heart\"],[\" Vegetal de soy Naturis Batavo\"],[\" DUOLAT peanuts E CASTANHA 1L - CAJUEIRO\"],[\" 85 CASTANHAS 1L - CAJUEIRO\"],[\" TOASTED 1L - CAJUEIRO\"]],\"hovertemplate\":\"Classification=DAIRY 1<br>x=%{x}<br>y=%{y}<br>Product's Name=%{customdata[0]}<extra></extra>\",\"legendgroup\":\"DAIRY 1\",\"marker\":{\"color\":\"#EF553B\",\"symbol\":\"circle\"},\"mode\":\"markers\",\"name\":\"DAIRY 1\",\"orientation\":\"v\",\"showlegend\":true,\"x\":[0.15817076932415775,0.15817076932415775,-0.6442259820499763,-0.6360419679987107,-0.6583440522367533,-0.8362569146079486,-0.6348478970129938,-0.5935098995282192,-0.6203522208361868,-0.3649447219597852,-0.5547036472165306,-0.2596194389575412,-0.6779838090012591,-0.28095437454575967,-0.2894395010402252,-0.2683707577031874,-0.6628970709223581,-0.2168929754270615,-0.25546396735376525,-0.21968756766737602,-0.15667053795494615,-0.6145259522303728,-0.6145259522303728,-0.6145259522303728,-0.11627814980198417,-0.7691574960573807,-0.5785489630972763,-0.5785489630962277,-0.5852913774485117,-0.11627814980198399,-0.853053151511886,-0.8563048146556987,-0.8179994498279801,-1.05310379513631,-0.8515953032712855,-1.0855666074284227,-0.38299597479480885,-0.38299597479404823,-0.548822898184128,-0.4351534277067693,-0.44895971456538647,-0.7215354818104315,-0.9211234504964995,-0.9659256384458266,-1.0549813199239246,-0.2746225370642323,-0.695271291200424,-0.8989617932157922,-0.7403655438434712,-0.7403655438446899,-1.0156160420318696,-1.0477108593411517,-1.017793911701923,-0.7229334155642436,-0.668278142201057,-0.5365490862123146,-0.6682781422013989,-0.5453760262252759,-0.550744052734085,-0.5767793472615904,-0.5365490862127396,-0.5396560766111148,-0.7091493986044034,-0.6797265327388414,-0.6581584185409122,-0.5396560766111456,-0.5365490862130446,-0.5365490862129515,-0.9603466962332841,-0.9538918242616625,-0.9877834640749833,-1.0108288130609642,-0.9857228113640549,-0.9885176467546227,-1.058163159772698,-1.036191995533615,-0.3505950283477842,-0.5396560766111148,-0.672147934964995,-0.672147934964995],\"xaxis\":\"x\",\"y\":[-0.1873596127419707,-0.1873596127419707,-0.39826747224899056,-0.3945592551795905,-0.3927089419978818,-0.256635717212964,-0.38107768317685914,-0.12254000781672282,-0.13448429794567868,-0.11927528617596588,-0.11050461929933479,-0.06830885230114354,-0.16581816761780926,-0.07633772471683307,0.023926435053704974,-0.00910514871712372,-0.17040560124026582,0.018752680778540823,0.006171708772417129,0.011439941192367596,0.04486762596240799,-0.3295272446740445,-0.3295272446740445,-0.3295272446740445,0.013168984275428864,-0.19013845931211049,-0.11866701591810648,-0.1186670159230399,-0.12060760248953745,0.013168984275428999,-0.1926547448799356,-0.18418601395843098,-0.1718006394998734,-0.2708098660726848,-0.18282322079803776,-0.2811453114340274,-0.03581198319994552,-0.0358119831879329,-0.10189889993048287,-0.0777236286688105,-0.063069396334393,-0.1851111691164813,-0.36337014423785813,-0.28872908424355725,-0.3120635115381169,-0.061084256175321684,-0.17603235704060932,-0.2529193111852776,-0.15997244024262489,-0.15997244023472337,-0.2710798669065729,-0.2812304090817242,-0.2722660942076483,-0.17304548290929725,-0.1359047620448034,-0.10575505941053202,-0.13590476202368615,-0.10863739920425548,-0.11015592259031566,-0.3151588427102491,-0.10575505940869404,-0.10660065958189803,-0.18954738199635912,-0.17423277548252228,-0.25211080351432397,-0.1066006595833597,-0.10575505940764582,-0.10575505942081996,-0.26950700197631333,-0.25877130964547984,-0.25472502136058556,-0.26217386475020643,-0.28441159003580846,-0.2819324859152956,-0.3194879727003894,-0.3019415541033704,0.005040666791117921,-0.10660065958189803,-0.13699143429176688,-0.13699143429176688],\"yaxis\":\"y\",\"type\":\"scatter\"},{\"customdata\":[[\"Iogurte \"],[\"Iogurte  com strawberries\"],[\"Iogurte  com banana, apple e papaya\"],[\"Iogurte  Zero sugar\"],[\"Iogurte  com strawberries Zero sugar\"],[\"Iogurte GregoVeg \"],[\"Iogurte GregoVeg  com strawberries\"],[\"Iogurte Proteico 14g sabor strawberries\"],[\"Shake \"],[\"Iogurte Proteico 14g sabor  peanuts\"],[\"Creme de almonds\"]],\"hovertemplate\":\"Classification=DAIRY 2<br>x=%{x}<br>y=%{y}<br>Product's Name=%{customdata[0]}<extra></extra>\",\"legendgroup\":\"DAIRY 2\",\"marker\":{\"color\":\"#00cc96\",\"symbol\":\"circle\"},\"mode\":\"markers\",\"name\":\"DAIRY 2\",\"orientation\":\"v\",\"showlegend\":true,\"x\":[-0.677485639931659,-0.3725046249326842,-0.41161626419887914,-0.6720451291617944,-0.6177929698035153,-0.34664677041263414,-0.3547701488344416,-0.4335116209792811,-0.36761857382755747,-0.44797893896530466,-0.6556661128708802],\"xaxis\":\"x\",\"y\":[-0.1894116534883995,-0.08949636421295369,-0.054948209736324284,-0.1881137831392655,-0.19137822613343933,-0.049250389748119176,-0.050851181348539214,-0.14871144075585319,-0.27013928830173045,-0.13571418283792605,-0.3126888866270591],\"yaxis\":\"y\",\"type\":\"scatter\"},{\"customdata\":[[\"MAIONESE VEGETAL SUPERBOM\"],[\"MAIONESE FUGINI\"],[\"NOT MAYO\"],[\"NOT MAYO garlic\"],[\"NOT MAYO AZEITONA\"],[\"NOT MAYO PICANTE\"],[\"MAIONESE V-MAYO\"],[\"MAIONESE V-MAYO ApepperDA\"],[\"MAIONESE V-MAYO TRUFADA\"],[\"MAIONESE V-MAYO DE ABACATE\"],[\"MAIONESE V-MAYO DE garlic\"],[\"MAIONESE HELLMANS\"],[\"MAIONESE VEGANA FUGINI\"],[\"MAIONESE DEL\\u00cdCIAS DE GOI\\u00c1S\"]],\"hovertemplate\":\"Classification=EGG 1<br>x=%{x}<br>y=%{y}<br>Product's Name=%{customdata[0]}<extra></extra>\",\"legendgroup\":\"EGG 1\",\"marker\":{\"color\":\"#ab63fa\",\"symbol\":\"circle\"},\"mode\":\"markers\",\"name\":\"EGG 1\",\"orientation\":\"v\",\"showlegend\":true,\"x\":[0.31529554898067275,-0.2996878214552993,0.08959245985631002,0.19756038345105617,0.09463265793063912,0.46170653109066223,1.4144767299772458,1.4313747829356835,1.3899016316202035,1.4226203714733412,1.4144767299772458,0.371571066931283,0.9950379693618835,-0.08783726975160107],\"xaxis\":\"x\",\"y\":[0.1864025947447485,0.28840414543067033,-0.06159783496475564,-0.0704101973635085,-0.06739443439055719,-0.327020078456387,-0.9722466747139549,-0.9426480696646575,-0.9492835077040012,-0.9799589342229236,-0.9722466747139549,0.0018564695623145347,-0.1538294348065932,0.05299923640248397],\"yaxis\":\"y\",\"type\":\"scatter\"},{\"customdata\":[[\"Ovos Novos\"],[\"VEGAN PRO EGGS NUTRIFY\"]],\"hovertemplate\":\"Classification=EGG 2<br>x=%{x}<br>y=%{y}<br>Product's Name=%{customdata[0]}<extra></extra>\",\"legendgroup\":\"EGG 2\",\"marker\":{\"color\":\"#FFA15A\",\"symbol\":\"circle\"},\"mode\":\"markers\",\"name\":\"EGG 2\",\"orientation\":\"v\",\"showlegend\":true,\"x\":[-0.672147934964852,-0.6721479349649957],\"xaxis\":\"x\",\"y\":[-0.1369914342898276,-0.13699143429085106],\"yaxis\":\"y\",\"type\":\"scatter\"}],                        {\"template\":{\"data\":{\"bar\":[{\"error_x\":{\"color\":\"#2a3f5f\"},\"error_y\":{\"color\":\"#2a3f5f\"},\"marker\":{\"line\":{\"color\":\"#E5ECF6\",\"width\":0.5},\"pattern\":{\"fillmode\":\"overlay\",\"size\":10,\"solidity\":0.2}},\"type\":\"bar\"}],\"barpolar\":[{\"marker\":{\"line\":{\"color\":\"#E5ECF6\",\"width\":0.5},\"pattern\":{\"fillmode\":\"overlay\",\"size\":10,\"solidity\":0.2}},\"type\":\"barpolar\"}],\"carpet\":[{\"aaxis\":{\"endlinecolor\":\"#2a3f5f\",\"gridcolor\":\"white\",\"linecolor\":\"white\",\"minorgridcolor\":\"white\",\"startlinecolor\":\"#2a3f5f\"},\"baxis\":{\"endlinecolor\":\"#2a3f5f\",\"gridcolor\":\"white\",\"linecolor\":\"white\",\"minorgridcolor\":\"white\",\"startlinecolor\":\"#2a3f5f\"},\"type\":\"carpet\"}],\"choropleth\":[{\"colorbar\":{\"outlinewidth\":0,\"ticks\":\"\"},\"type\":\"choropleth\"}],\"contour\":[{\"colorbar\":{\"outlinewidth\":0,\"ticks\":\"\"},\"colorscale\":[[0.0,\"#0d0887\"],[0.1111111111111111,\"#46039f\"],[0.2222222222222222,\"#7201a8\"],[0.3333333333333333,\"#9c179e\"],[0.4444444444444444,\"#bd3786\"],[0.5555555555555556,\"#d8576b\"],[0.6666666666666666,\"#ed7953\"],[0.7777777777777778,\"#fb9f3a\"],[0.8888888888888888,\"#fdca26\"],[1.0,\"#f0f921\"]],\"type\":\"contour\"}],\"contourcarpet\":[{\"colorbar\":{\"outlinewidth\":0,\"ticks\":\"\"},\"type\":\"contourcarpet\"}],\"heatmap\":[{\"colorbar\":{\"outlinewidth\":0,\"ticks\":\"\"},\"colorscale\":[[0.0,\"#0d0887\"],[0.1111111111111111,\"#46039f\"],[0.2222222222222222,\"#7201a8\"],[0.3333333333333333,\"#9c179e\"],[0.4444444444444444,\"#bd3786\"],[0.5555555555555556,\"#d8576b\"],[0.6666666666666666,\"#ed7953\"],[0.7777777777777778,\"#fb9f3a\"],[0.8888888888888888,\"#fdca26\"],[1.0,\"#f0f921\"]],\"type\":\"heatmap\"}],\"heatmapgl\":[{\"colorbar\":{\"outlinewidth\":0,\"ticks\":\"\"},\"colorscale\":[[0.0,\"#0d0887\"],[0.1111111111111111,\"#46039f\"],[0.2222222222222222,\"#7201a8\"],[0.3333333333333333,\"#9c179e\"],[0.4444444444444444,\"#bd3786\"],[0.5555555555555556,\"#d8576b\"],[0.6666666666666666,\"#ed7953\"],[0.7777777777777778,\"#fb9f3a\"],[0.8888888888888888,\"#fdca26\"],[1.0,\"#f0f921\"]],\"type\":\"heatmapgl\"}],\"histogram\":[{\"marker\":{\"pattern\":{\"fillmode\":\"overlay\",\"size\":10,\"solidity\":0.2}},\"type\":\"histogram\"}],\"histogram2d\":[{\"colorbar\":{\"outlinewidth\":0,\"ticks\":\"\"},\"colorscale\":[[0.0,\"#0d0887\"],[0.1111111111111111,\"#46039f\"],[0.2222222222222222,\"#7201a8\"],[0.3333333333333333,\"#9c179e\"],[0.4444444444444444,\"#bd3786\"],[0.5555555555555556,\"#d8576b\"],[0.6666666666666666,\"#ed7953\"],[0.7777777777777778,\"#fb9f3a\"],[0.8888888888888888,\"#fdca26\"],[1.0,\"#f0f921\"]],\"type\":\"histogram2d\"}],\"histogram2dcontour\":[{\"colorbar\":{\"outlinewidth\":0,\"ticks\":\"\"},\"colorscale\":[[0.0,\"#0d0887\"],[0.1111111111111111,\"#46039f\"],[0.2222222222222222,\"#7201a8\"],[0.3333333333333333,\"#9c179e\"],[0.4444444444444444,\"#bd3786\"],[0.5555555555555556,\"#d8576b\"],[0.6666666666666666,\"#ed7953\"],[0.7777777777777778,\"#fb9f3a\"],[0.8888888888888888,\"#fdca26\"],[1.0,\"#f0f921\"]],\"type\":\"histogram2dcontour\"}],\"mesh3d\":[{\"colorbar\":{\"outlinewidth\":0,\"ticks\":\"\"},\"type\":\"mesh3d\"}],\"parcoords\":[{\"line\":{\"colorbar\":{\"outlinewidth\":0,\"ticks\":\"\"}},\"type\":\"parcoords\"}],\"pie\":[{\"automargin\":true,\"type\":\"pie\"}],\"scatter\":[{\"marker\":{\"colorbar\":{\"outlinewidth\":0,\"ticks\":\"\"}},\"type\":\"scatter\"}],\"scatter3d\":[{\"line\":{\"colorbar\":{\"outlinewidth\":0,\"ticks\":\"\"}},\"marker\":{\"colorbar\":{\"outlinewidth\":0,\"ticks\":\"\"}},\"type\":\"scatter3d\"}],\"scattercarpet\":[{\"marker\":{\"colorbar\":{\"outlinewidth\":0,\"ticks\":\"\"}},\"type\":\"scattercarpet\"}],\"scattergeo\":[{\"marker\":{\"colorbar\":{\"outlinewidth\":0,\"ticks\":\"\"}},\"type\":\"scattergeo\"}],\"scattergl\":[{\"marker\":{\"colorbar\":{\"outlinewidth\":0,\"ticks\":\"\"}},\"type\":\"scattergl\"}],\"scattermapbox\":[{\"marker\":{\"colorbar\":{\"outlinewidth\":0,\"ticks\":\"\"}},\"type\":\"scattermapbox\"}],\"scatterpolar\":[{\"marker\":{\"colorbar\":{\"outlinewidth\":0,\"ticks\":\"\"}},\"type\":\"scatterpolar\"}],\"scatterpolargl\":[{\"marker\":{\"colorbar\":{\"outlinewidth\":0,\"ticks\":\"\"}},\"type\":\"scatterpolargl\"}],\"scatterternary\":[{\"marker\":{\"colorbar\":{\"outlinewidth\":0,\"ticks\":\"\"}},\"type\":\"scatterternary\"}],\"surface\":[{\"colorbar\":{\"outlinewidth\":0,\"ticks\":\"\"},\"colorscale\":[[0.0,\"#0d0887\"],[0.1111111111111111,\"#46039f\"],[0.2222222222222222,\"#7201a8\"],[0.3333333333333333,\"#9c179e\"],[0.4444444444444444,\"#bd3786\"],[0.5555555555555556,\"#d8576b\"],[0.6666666666666666,\"#ed7953\"],[0.7777777777777778,\"#fb9f3a\"],[0.8888888888888888,\"#fdca26\"],[1.0,\"#f0f921\"]],\"type\":\"surface\"}],\"table\":[{\"cells\":{\"fill\":{\"color\":\"#EBF0F8\"},\"line\":{\"color\":\"white\"}},\"header\":{\"fill\":{\"color\":\"#C8D4E3\"},\"line\":{\"color\":\"white\"}},\"type\":\"table\"}]},\"layout\":{\"annotationdefaults\":{\"arrowcolor\":\"#2a3f5f\",\"arrowhead\":0,\"arrowwidth\":1},\"autotypenumbers\":\"strict\",\"coloraxis\":{\"colorbar\":{\"outlinewidth\":0,\"ticks\":\"\"}},\"colorscale\":{\"diverging\":[[0,\"#8e0152\"],[0.1,\"#c51b7d\"],[0.2,\"#de77ae\"],[0.3,\"#f1b6da\"],[0.4,\"#fde0ef\"],[0.5,\"#f7f7f7\"],[0.6,\"#e6f5d0\"],[0.7,\"#b8e186\"],[0.8,\"#7fbc41\"],[0.9,\"#4d9221\"],[1,\"#276419\"]],\"sequential\":[[0.0,\"#0d0887\"],[0.1111111111111111,\"#46039f\"],[0.2222222222222222,\"#7201a8\"],[0.3333333333333333,\"#9c179e\"],[0.4444444444444444,\"#bd3786\"],[0.5555555555555556,\"#d8576b\"],[0.6666666666666666,\"#ed7953\"],[0.7777777777777778,\"#fb9f3a\"],[0.8888888888888888,\"#fdca26\"],[1.0,\"#f0f921\"]],\"sequentialminus\":[[0.0,\"#0d0887\"],[0.1111111111111111,\"#46039f\"],[0.2222222222222222,\"#7201a8\"],[0.3333333333333333,\"#9c179e\"],[0.4444444444444444,\"#bd3786\"],[0.5555555555555556,\"#d8576b\"],[0.6666666666666666,\"#ed7953\"],[0.7777777777777778,\"#fb9f3a\"],[0.8888888888888888,\"#fdca26\"],[1.0,\"#f0f921\"]]},\"colorway\":[\"#636efa\",\"#EF553B\",\"#00cc96\",\"#ab63fa\",\"#FFA15A\",\"#19d3f3\",\"#FF6692\",\"#B6E880\",\"#FF97FF\",\"#FECB52\"],\"font\":{\"color\":\"#2a3f5f\"},\"geo\":{\"bgcolor\":\"white\",\"lakecolor\":\"white\",\"landcolor\":\"#E5ECF6\",\"showlakes\":true,\"showland\":true,\"subunitcolor\":\"white\"},\"hoverlabel\":{\"align\":\"left\"},\"hovermode\":\"closest\",\"mapbox\":{\"style\":\"light\"},\"paper_bgcolor\":\"white\",\"plot_bgcolor\":\"#E5ECF6\",\"polar\":{\"angularaxis\":{\"gridcolor\":\"white\",\"linecolor\":\"white\",\"ticks\":\"\"},\"bgcolor\":\"#E5ECF6\",\"radialaxis\":{\"gridcolor\":\"white\",\"linecolor\":\"white\",\"ticks\":\"\"}},\"scene\":{\"xaxis\":{\"backgroundcolor\":\"#E5ECF6\",\"gridcolor\":\"white\",\"gridwidth\":2,\"linecolor\":\"white\",\"showbackground\":true,\"ticks\":\"\",\"zerolinecolor\":\"white\"},\"yaxis\":{\"backgroundcolor\":\"#E5ECF6\",\"gridcolor\":\"white\",\"gridwidth\":2,\"linecolor\":\"white\",\"showbackground\":true,\"ticks\":\"\",\"zerolinecolor\":\"white\"},\"zaxis\":{\"backgroundcolor\":\"#E5ECF6\",\"gridcolor\":\"white\",\"gridwidth\":2,\"linecolor\":\"white\",\"showbackground\":true,\"ticks\":\"\",\"zerolinecolor\":\"white\"}},\"shapedefaults\":{\"line\":{\"color\":\"#2a3f5f\"}},\"ternary\":{\"aaxis\":{\"gridcolor\":\"white\",\"linecolor\":\"white\",\"ticks\":\"\"},\"baxis\":{\"gridcolor\":\"white\",\"linecolor\":\"white\",\"ticks\":\"\"},\"bgcolor\":\"#E5ECF6\",\"caxis\":{\"gridcolor\":\"white\",\"linecolor\":\"white\",\"ticks\":\"\"}},\"title\":{\"x\":0.05},\"xaxis\":{\"automargin\":true,\"gridcolor\":\"white\",\"linecolor\":\"white\",\"ticks\":\"\",\"title\":{\"standoff\":15},\"zerolinecolor\":\"white\",\"zerolinewidth\":2},\"yaxis\":{\"automargin\":true,\"gridcolor\":\"white\",\"linecolor\":\"white\",\"ticks\":\"\",\"title\":{\"standoff\":15},\"zerolinecolor\":\"white\",\"zerolinewidth\":2}}},\"xaxis\":{\"anchor\":\"y\",\"domain\":[0.0,1.0],\"title\":{\"text\":\"x\"}},\"yaxis\":{\"anchor\":\"x\",\"domain\":[0.0,1.0],\"title\":{\"text\":\"y\"}},\"legend\":{\"title\":{\"text\":\"Classification\"},\"tracegroupgap\":0},\"margin\":{\"t\":60},\"width\":800},                        {\"responsive\": true}                    ).then(function(){\n",
              "                            \n",
              "var gd = document.getElementById('de1b75fe-b4ec-4fb1-a336-533f3fa8bf2a');\n",
              "var x = new MutationObserver(function (mutations, observer) {{\n",
              "        var display = window.getComputedStyle(gd).display;\n",
              "        if (!display || display === 'none') {{\n",
              "            console.log([gd, 'removed!']);\n",
              "            Plotly.purge(gd);\n",
              "            observer.disconnect();\n",
              "        }}\n",
              "}});\n",
              "\n",
              "// Listen for the removal of the full notebook cells\n",
              "var notebookContainer = gd.closest('#notebook-container');\n",
              "if (notebookContainer) {{\n",
              "    x.observe(notebookContainer, {childList: true});\n",
              "}}\n",
              "\n",
              "// Listen for the clearing of the current output cell\n",
              "var outputEl = gd.closest('.output');\n",
              "if (outputEl) {{\n",
              "    x.observe(outputEl, {childList: true});\n",
              "}}\n",
              "\n",
              "                        })                };                            </script>        </div>\n",
              "</body>\n",
              "</html>"
            ]
          },
          "metadata": {}
        }
      ]
    },
    {
      "cell_type": "code",
      "source": [
        "data_nutrients = label_data.join(nutrients_normalized)\n",
        "sklearn_pca = sklearnPCA(n_components=20)\n",
        "X_pcaN = sklearn_pca.fit_transform(X_nutrients)\n",
        "\n",
        "X_pcaN[1:4, :]\n",
        "data_nutrients['x'] = X_pcaN[:,0]\n",
        "data_nutrients['y'] = X_pcaN[:,1]\n",
        "\n",
        "fig = px.scatter(data_nutrients, x='x', y='y', color='Classification', hover_data=[\"Description\"], width=800)\n",
        "fig.show()"
      ],
      "metadata": {
        "colab": {
          "base_uri": "https://localhost:8080/",
          "height": 542
        },
        "id": "Nw0k9SZ3cCVW",
        "outputId": "228034b0-444d-4931-ca67-12c95d4ec03d"
      },
      "execution_count": null,
      "outputs": [
        {
          "output_type": "display_data",
          "data": {
            "text/html": [
              "<html>\n",
              "<head><meta charset=\"utf-8\" /></head>\n",
              "<body>\n",
              "    <div>            <script src=\"https://cdnjs.cloudflare.com/ajax/libs/mathjax/2.7.5/MathJax.js?config=TeX-AMS-MML_SVG\"></script><script type=\"text/javascript\">if (window.MathJax) {MathJax.Hub.Config({SVG: {font: \"STIX-Web\"}});}</script>                <script type=\"text/javascript\">window.PlotlyConfig = {MathJaxConfig: 'local'};</script>\n",
              "        <script src=\"https://cdn.plot.ly/plotly-2.8.3.min.js\"></script>                <div id=\"3192797d-28e9-41bc-aa2e-c65366de6f86\" class=\"plotly-graph-div\" style=\"height:525px; width:800px;\"></div>            <script type=\"text/javascript\">                                    window.PLOTLYENV=window.PLOTLYENV || {};                                    if (document.getElementById(\"3192797d-28e9-41bc-aa2e-c65366de6f86\")) {                    Plotly.newPlot(                        \"3192797d-28e9-41bc-aa2e-c65366de6f86\",                        [{\"customdata\":[[\"Carne Mo\\u00edda do Futuro\"],[\"Almondegas de Soja Vegway\"],[\"Almondegas Amazonika Mundi\"],[\"Kibe Incr\\u00edvel Seara\"],[\"Almondegas Incr\\u00edveis Seara\"],[\"Almondegas Mr Veggy\"],[\"Carne Mo\\u00edda Superbom\"],[\"Carne Vegetal Mo\\u00edda Superbom\"],[\"Carne Mo\\u00edda Vegetal Verdali\"]],\"hovertemplate\":\"Classification=MEAT 2<br>x=%{x}<br>y=%{y}<br>Product's Name=%{customdata[0]}<extra></extra>\",\"legendgroup\":\"MEAT 2\",\"marker\":{\"color\":\"#636efa\",\"symbol\":\"circle\"},\"mode\":\"markers\",\"name\":\"MEAT 2\",\"orientation\":\"v\",\"showlegend\":true,\"x\":[-0.33091540728805224,-0.5179074569947735,-0.18789262282746957,-0.3940710259025204,-0.3940873841607366,-0.3817914892320171,-0.41001847551149456,-0.2641834593227798,-0.30000752740700065],\"xaxis\":\"x\",\"y\":[0.10282864450967649,0.3779313691787344,-0.05750407355497153,0.26071276612567396,0.26070760179693836,0.418149921932239,0.22994619885316592,-0.16183271398004972,0.1358809297265044],\"yaxis\":\"y\",\"type\":\"scatter\"},{\"customdata\":[[\"Carne Mo\\u00edda do Futuro\"],[\"Fil\\u00e9s Sora Carne Vermelha\"],[\"Fatias Sora Carne Vermelha\"],[\"Fil\\u00e9 Pronto Saud\\u00e1vel Sora\"],[\"Carne Mo\\u00edda Pronto Saud\\u00e1vel Sora\"],[\"Churrasco Vegabom\"],[\"Churrasco Aoniondo Vegabom\"],[\"Carne de Pernil Seara\"],[\"Alm\\u00f4ndega de Soja Vegana Goshen\"],[\"Bife de Soja Vegano Goshen\"],[\"Alm\\u00f4ndega Vegana Superbom\"],[\"Bife Vegetal Superbom\"],[\"Escalope ao Molho Caseiro Superbom\"],[\"Cubinhos ao Molho Mexicano Superbom\"],[\"Alm\\u00f4ndegas ao Molho Sugo Superbom\"],[\"Medalh\\u00e3o ao Molho Madeira Superbom\"],[\"Mignon Verdali\"],[\"Steak Verdali\"]],\"hovertemplate\":\"Classification=MEAT 3<br>x=%{x}<br>y=%{y}<br>Product's Name=%{customdata[0]}<extra></extra>\",\"legendgroup\":\"MEAT 3\",\"marker\":{\"color\":\"#EF553B\",\"symbol\":\"circle\"},\"mode\":\"markers\",\"name\":\"MEAT 3\",\"orientation\":\"v\",\"showlegend\":true,\"x\":[-0.33091540728805247,-0.35466095315665,-0.3546609531566504,-0.12567687167487002,-0.12567687167487007,-0.2044243692847914,-0.20538565801131117,0.11432918074649376,-0.3343854862386569,-0.25068352383756787,-0.3250028388201136,-0.3271734346307537,-0.12745629871716005,-0.11223245959215689,-0.06730423088614676,-0.19897544340401904,-0.27632584599874627,-0.19944119266642488],\"xaxis\":\"x\",\"y\":[0.10282864450967623,0.021915259345876077,0.021915259345876105,-0.24869773958404032,-0.24869773958404034,-0.13828769325999143,-0.13354721668434485,0.5413436569150809,-0.14087996538974082,0.09259632066731781,0.3320408791839672,-0.19003509307290264,-0.2649743710472987,-0.2708471431876508,-0.296518624018805,-0.2321239225176211,0.1105073743163597,0.05126120232410789],\"yaxis\":\"y\",\"type\":\"scatter\"},{\"customdata\":[[\"Frango do Futuro\"],[\"Fatias Sora Carne Branca\"],[\"Fil\\u00e9s Sora Carne Branca\"],[\"Strogonoff de Frango Vegabom\"],[\"Tiras de Frango New Butchers\"],[\"Fil\\u00e9 de Frango Desfiado Vegway\"],[\"Frango Veg e Tal Sadia\"],[\"Frango Veg e Tal Sadia Desfiado\"],[\"Peito de Peru de Soja\"],[\"Peito de Peru de Soja Vegano\"],[\"Tiras de Ave Verdali\"],[\"Fil\\u00e9 sem Frango Verdali\"],[\"Mini Fil\\u00e9 de Frango Verdali\"]],\"hovertemplate\":\"Classification=POULTRY 3<br>x=%{x}<br>y=%{y}<br>Product's Name=%{customdata[0]}<extra></extra>\",\"legendgroup\":\"POULTRY 3\",\"marker\":{\"color\":\"#00cc96\",\"symbol\":\"circle\"},\"mode\":\"markers\",\"name\":\"POULTRY 3\",\"orientation\":\"v\",\"showlegend\":true,\"x\":[-0.33091540728805224,-0.35466095315664997,-0.35466095315664986,-0.20442436928479135,-0.04104170140030513,-0.25202242398090047,-0.35602702603000114,-0.35602702603000114,-0.23046894987924696,-0.23046894987924696,-0.4941979690408751,-0.2353769223814507,-0.2139939918901341],\"xaxis\":\"x\",\"y\":[0.10282864450967592,0.021915259345876164,0.021915259345876008,-0.13828769325999146,-0.33633316924298856,0.1742238570179533,0.044138117450075565,0.044138117450075565,-0.29200850177387055,-0.29200850177387055,0.28231602064871064,0.14253346241586737,0.1768526709782991],\"yaxis\":\"y\",\"type\":\"scatter\"},{\"customdata\":[[\"Lingui\\u00e7a do Futuro\"],[\"Lingui\\u00e7a calabresa vegabom\"],[\"saltsicha de chickpea Vegabom\"],[\"saltsicha de Soja Vegway\"],[\"saltsichas Incriveis Seara\"],[\"Lingui\\u00e7a Apimentada de Soja Goshen\"],[\"Lingui\\u00e7a Calabresa de Soja Goshen\"],[\"Lingui\\u00e7a de Soja Vegana Goshen\"],[\"Lingui\\u00e7a Toscana de Soja Goshen\"],[\"saltsicha de Soja Vegana Goshen\"],[\"saltsicha Vegetal Superbom\"],[\"saltsicha Vegetal Defumada Superbom\"]],\"hovertemplate\":\"Classification=PORK 1<br>x=%{x}<br>y=%{y}<br>Product's Name=%{customdata[0]}<extra></extra>\",\"legendgroup\":\"PORK 1\",\"marker\":{\"color\":\"#ab63fa\",\"symbol\":\"circle\"},\"mode\":\"markers\",\"name\":\"PORK 1\",\"orientation\":\"v\",\"showlegend\":true,\"x\":[-0.36498063337417425,-0.26961011408792207,-0.27599920603782696,-0.4393858778227855,-0.10781900001731867,-0.18298878628801277,-0.26103947880828926,-0.2647302472423169,-0.1623334248736103,-0.2908823829510411,-0.23713980670174215,-0.054865746992608565],\"xaxis\":\"x\",\"y\":[-0.0660946618164591,-0.19286462436876042,-0.194893683292253,0.08277922868742132,-0.1046428964146364,-0.33279440226204837,-0.29046330123447983,-0.17295307169969543,-0.292029008747049,-0.16056721674843943,-0.2437325788602683,-0.3148560505709875],\"yaxis\":\"y\",\"type\":\"scatter\"},{\"customdata\":[[\"Hamburguer de Soja Goshen\"],[\"Hamburguer de Soja Vegano Goshen\"],[\"Hamburguer de Quinoa Mr Veggy\"],[\"Hamburguer de lentil Mr Veggy\"],[\"Hamburguer vegano falafel amazonika mundi\"],[\"Hamburguer Vegetal Verdali\"],[\"VegBurger Sabor Carne\"],[\"Burger Gourmet Superbom\"],[\"Hamburguer Incr\\u00edvel Seara\"],[\"Not Burguer Notco\"],[\"Hamburguer de Fibra de Caju Amazonika Mundi\"],[\"Hamburguer Vegabom\"],[\"Hamburguer de Carne Veg  e Tal Sadia\"],[\"Hamburger New Butchers\"],[\"Hamburguer de Legumes Mr Veggy\"],[\"Hamburguer Vegetariano Mr Veggy\"],[\"Hambuguer Mr Veggy Mari Mari\"],[\"Hambuguer Mr Veggy Mari Mari Churrrasco\"],[\"Hamb\\u00farguer Fazenda Futuro 2.0\"],[\"Hamb\\u00farguer Vegano de Quinoa Amazonika Mundi\"],[\"Hamburguer Veggie Roots Tempero Indiano\"],[\"Hamb\\u00farguer Sora Carne Vermelha \"],[\"Hamburguer Veggie Roots brazilianspices\"],[\"Hamburguer veggie roots tempero mexicano\"],[\"Hamburguer de Soja Sabor Carne Vegway\"],[\"Hamb\\u00farguer de Soja Empanado Vegway\"],[\"Hamburguer Vegetal Superbom\"],[\"Hamburguer de chickpea Mr Veggy\"],[\"Hamburguer Veggie Roots Tempero \\u00c1rabe\"],[\"Hamburguer Veggie Roots Tempero Tailand\\u00eas\"],[\"Hamburguer Vegabom\"],[\"Hamb\\u00farguer Pronto Saud\\u00e1vel Sora\"],[\"hamburguer vegetal com herbs jasmine\"],[\"Hamburguer Vegetal Tradicional Jasmine\"]],\"hovertemplate\":\"Classification=MEAT 1<br>x=%{x}<br>y=%{y}<br>Product's Name=%{customdata[0]}<extra></extra>\",\"legendgroup\":\"MEAT 1\",\"marker\":{\"color\":\"#FFA15A\",\"symbol\":\"circle\"},\"mode\":\"markers\",\"name\":\"MEAT 1\",\"orientation\":\"v\",\"showlegend\":true,\"x\":[-0.35133282769649343,-0.1665403235362115,-0.07930228065259143,-0.24243760270963707,-0.2691214980668461,-0.2253571087722189,-0.33745270887695666,-0.22943402709234806,-0.33062895420919103,-1.0519855694993052,-0.23495880976987196,-0.07568478930428732,-0.06594374797943153,-0.28732359028067417,-0.33149476685736884,-0.22654792867376958,-0.27581549560627416,-0.27581549560627416,-0.41960022692537335,-0.22480832334674733,-0.12412127031233561,-0.3546609531566502,-0.13636426141673874,-0.17929916698652978,-0.41783843829932266,-0.4307583917480605,-0.09502752964388625,-0.7364371466609129,-0.2532216866034059,-0.30687077586369405,-0.06129087906668853,-0.12567687167487004,-0.5590499096137327,-0.5590499096137327],\"xaxis\":\"x\",\"y\":[-0.12511486743791864,-0.16853050209932838,0.27498297243849273,0.0877707562312872,0.6232694159928659,-0.021852829281304133,0.09508765084191409,0.2582553587501736,0.13669897169451511,0.6921033086310485,0.14110670530743935,-0.1815262387211768,-0.11129603210294484,-0.08848730185259106,0.5822031111436577,0.003553352479370661,-0.007594339980235903,-0.007594339980235903,0.16994673131462135,0.640686240454061,0.18268082451293802,0.02191525934587612,0.11612748733661414,0.2827434413086336,0.2732029884413005,0.05319258060428291,-0.14509044326361306,0.6783205110301075,0.3167557640048575,0.3896843325382475,-0.13885352054445457,-0.24869773958404034,0.4924691056191925,0.4924691056191925],\"yaxis\":\"y\",\"type\":\"scatter\"},{\"customdata\":[[\"Hamb\\u00farguer Sora Carne Branca\"],[\"VegBurger Sabor Frango\"],[\"Hambuguer Incr\\u00edvel Seara Frango\"],[\"Frango Vegano em Peda\\u00e7os \\u00e0 Base de pea\"],[\"Hamb\\u00farguer de Frango Verdali\"]],\"hovertemplate\":\"Classification=POULTRY 2<br>x=%{x}<br>y=%{y}<br>Product's Name=%{customdata[0]}<extra></extra>\",\"legendgroup\":\"POULTRY 2\",\"marker\":{\"color\":\"#19d3f3\",\"symbol\":\"circle\"},\"mode\":\"markers\",\"name\":\"POULTRY 2\",\"orientation\":\"v\",\"showlegend\":true,\"x\":[-0.35466095315665025,-0.3488182340318783,-0.3190751889550906,-0.08688338029627628,-0.20148670855278297],\"xaxis\":\"x\",\"y\":[0.021915259345876154,0.11539161767438492,0.02691961506306841,0.03023905274296501,-0.036239534345637855],\"yaxis\":\"y\",\"type\":\"scatter\"},{\"customdata\":[[\"Empanado de Frango Vegabom\"],[\"Fil\\u00e9 de Frango Empanado Vegabom\"],[\"Empanados de Frango Vegway\"],[\"Empanados Incr\\u00edveis Seara\"],[\"Empanados Sadia Veg e Tal\"],[\"Empanadinho de Soja  Goshen\"],[\"Empanadinho de Soja Vegano  Goshen\"],[\"Steak de Soja Vegano Goshen\"],[\"Empanado Vegano (Mini Crispy) 100 Foods\"],[\"Crispy Chicken 100 Foods\"],[\"Mini Empanado de Legumes Superbom\"],[\"Steak Vegan Sabor Legumes Superbom\"],[\"Steak Veg\\u00ea Sabor Frango\"],[\"Steak Veg\\u00ea Sabor Frango Empanado\"]],\"hovertemplate\":\"Classification=POULTRY 1<br>x=%{x}<br>y=%{y}<br>Product's Name=%{customdata[0]}<extra></extra>\",\"legendgroup\":\"POULTRY 1\",\"marker\":{\"color\":\"#FF6692\",\"symbol\":\"circle\"},\"mode\":\"markers\",\"name\":\"POULTRY 1\",\"orientation\":\"v\",\"showlegend\":true,\"x\":[-0.08401047530386696,-0.08401047530386699,-0.4985167685563464,-0.6470077799192934,-0.5046925584418283,-0.4317624597845991,-0.18139041146167134,-0.3081954308809603,-0.4894393599697523,-0.4102571214674557,-0.24089564684302492,-0.1774741885804914,-0.24389020999840597,-0.24389020999840597],\"xaxis\":\"x\",\"y\":[-0.19724971976482164,-0.19724971976482164,0.38372457078626826,0.8761782378105759,0.7200155547193395,-0.12291450669116198,-0.23634693950607633,-0.19498427491958906,0.7467924931158557,0.4580294889688056,0.4691583031917928,0.11532684983949192,0.32377648129518116,0.32377648129518116],\"yaxis\":\"y\",\"type\":\"scatter\"},{\"customdata\":[[\"Fil\\u00e9 Peixe Empanado Vegabom\"],[\"Tirinhas de Peixe Empanado Vegabom\"],[\"Bolinho de Bacalhau New Butchers\"],[\"Bolinho de Siri Amazonika Mundi\"],[\"Camar\\u00e3o de Soja Vegano Goshen\"]],\"hovertemplate\":\"Classification=FISH 2<br>x=%{x}<br>y=%{y}<br>Product's Name=%{customdata[0]}<extra></extra>\",\"legendgroup\":\"FISH 2\",\"marker\":{\"color\":\"#B6E880\",\"symbol\":\"circle\"},\"mode\":\"markers\",\"name\":\"FISH 2\",\"orientation\":\"v\",\"showlegend\":true,\"x\":[-0.2206944944204769,-0.2206944944204769,-0.25001310422669853,-0.06513686567210596,-0.2862695282953836],\"xaxis\":\"x\",\"y\":[-0.12332493147129776,-0.12332493147129776,0.379433656452576,-0.23863402886921886,-0.25993165978752025],\"yaxis\":\"y\",\"type\":\"scatter\"},{\"customdata\":[[\"Queijo Mu\\u00e7arela Vegabom\"],[\"Queijo Picante Vegabom\"],[\"Queijo Cheddar Vegabom\"],[\"Requeisoy Provolone \"],[\"Requeisoy Cheddar' \"],[\"Requeisoy Tradicional\"],[\"Requeisoy Gorgonzola\"],[\"Okeijo R\\u00fastico\"],[\"Okeijo Cremoso\"],[\"Okeijo Gratinado\"],[\"Okeijo Mussarela\"],[\"Okeijo Provolone\"],[\"Creme s Vida Veg\"],[\"Creme s fineherbs e Pesto\"],[\"Queijo mu\\u00e7arela\"],[\"Queijo minas frescal\"],[\"Queijo minas padr\\u00e3o\"],[\"Requeij\\u00e3o Tradicional\"],[\"Requeij\\u00e3o fineherbs\"],[\"Requeij\\u00e3o Defumado\"],[\"Queijo Zimurisku \"],[\"Queijo Zimurisku Temperado\"],[\"Queijo Mozarela NoMoo\"],[\"Queijo Provolone\"],[\"Queijo Ch\\u00e9vre\"],[\"Queijo Prato\"],[\"Queijo Parmes\\u00e3o\"],[\"Requeij\\u00e3o Nomoo\"],[\"Queijo Gorgolino\"],[\"Queijo Melhor Que Cheddar\"],[\"Queijo Recaishow\"],[\"Queijo Brie\"],[\"Mussarela Vegana Goshen\"],[\"Queijo ProVolone Veganita\"],[\"Queijo Munster Veganita\"],[\"Queijo Brie Veganita\"],[\"Queijo Mussarela Veganita\"],[\"Queijo Cheddar Veganita\"],[\"CREAM CHEESE CULIN\\u00c1RIO BASI.CO\"],[\"REQUEIJ\\u00c3O VEGETAL\"],[\"QUEIJO PARMES\\u00c3O\"],[\"QUEIJO MINAS VEGETAL\"],[\"QUEIJO PRATO\"],[\"QUEIJO MU\\u00c7ARELA\"],[\"QUEIJO CHEDDAR\"]],\"hovertemplate\":\"Classification=DAIRY 3<br>x=%{x}<br>y=%{y}<br>Product's Name=%{customdata[0]}<extra></extra>\",\"legendgroup\":\"DAIRY 3\",\"marker\":{\"color\":\"#FF97FF\",\"symbol\":\"circle\"},\"mode\":\"markers\",\"name\":\"DAIRY 3\",\"orientation\":\"v\",\"showlegend\":true,\"x\":[0.003340187090951738,0.003340187090951738,0.003340187090951738,-0.1271527760892116,-0.11452867233810947,-0.04100739428269017,-0.1435334206124892,0.02289503999872577,0.02289503999872577,-0.2779180269445451,-0.011436615201967443,-0.011436615201967443,-0.16147197557396611,-0.17170048519483716,-0.10569157910749001,-0.08293712188788138,-0.0963179659870879,-0.16499179164099742,-0.16626085290729972,-0.16245366910839293,-0.9924108900673857,-0.9924108900673857,-0.06983345264352946,0.026100948366396193,-0.1900892351277353,0.03259085145305892,-0.47507736878575063,-0.34788614838792215,-0.22081244624500576,-0.15450309424626457,-0.23273725951910088,-0.38076788555447305,-0.14943833038587856,-0.11549287282518189,-0.1774692025147108,-0.16483344387047333,-0.18518635308502937,-0.24496257728910314,-0.20345581530331883,-0.212314485103704,-0.427839448160446,-0.09033361469816233,-0.17782986693412886,-0.17782986693412886,-0.19869091644618422],\"xaxis\":\"x\",\"y\":[-0.2641767902845189,-0.2641767902845189,-0.2641767902845189,-0.4818779365873732,-0.47583132097113057,-0.4806745639298712,-0.4746418492230637,-0.05758559716023198,-0.05758559716023198,0.35235897676051803,-0.0742672554027281,-0.0742672554027281,-0.3587979658067538,-0.3522996245957355,-0.22377647758924288,-0.24641508225056205,-0.23237716455350296,-0.365862560563256,-0.36550205265279806,-0.36658357638417244,1.0154453300521202,1.0154453300521202,-0.38944016704558054,-0.42228309488322513,-0.27046316285487,-0.43098289608683066,0.5034266654390893,-0.37375374481038387,-0.33709237115517016,-0.3512700212151409,-0.3313377603544756,-0.2257801121649807,-0.2886137172485268,-0.33636433057454346,-0.3034056716175456,-0.39669400636246205,-0.3455485280351275,-0.32668283273503257,-0.4335217627089341,-0.47083729274330954,-0.29854444740171965,-0.4093084991162886,-0.3668366529854765,-0.3668366529854765,-0.3572621845817078],\"yaxis\":\"y\",\"type\":\"scatter\"},{\"customdata\":[[\"Fil\\u00e9 de saltm\\u00e3o New Butchers\"],[\"Bacalhau New  Butchers\"],[\"Isca de Peixe Vegway\"],[\"Fil\\u00e9 de Peixe Vegway\"],[\"Vieira de Soja Vegway\"],[\"Bacalhau Incr\\u00edvel Seara\"],[\"Iscas de Peixe Incr\\u00edvel Seara\"],[\"Atum do Futuro\"]],\"hovertemplate\":\"Classification=FISH 1<br>x=%{x}<br>y=%{y}<br>Product's Name=%{customdata[0]}<extra></extra>\",\"legendgroup\":\"FISH 1\",\"marker\":{\"color\":\"#FECB52\",\"symbol\":\"circle\"},\"mode\":\"markers\",\"name\":\"FISH 1\",\"orientation\":\"v\",\"showlegend\":true,\"x\":[-0.21654314241197467,-0.10692711292827692,-0.2973166512118804,-0.2514228023515314,-0.30929667333897043,-0.098398313550169,-0.6028454416133195,-0.26961572483242624],\"xaxis\":\"x\",\"y\":[0.10310092891399035,0.8850923179195794,0.292381245338939,0.17380388802057867,0.28982093793021235,0.7904979369538085,0.8404083359155659,0.04555942127819627],\"yaxis\":\"y\",\"type\":\"scatter\"},{\"customdata\":[[\"Presunto de Soja Vegway\"],[\"Bacon Vegano\"],[\"Mortadela de Soja Vegana Goshen\"],[\"Presunto de Soja Defumado\"],[\"Presunto de Soja Vegano Fatiado Goshen\"],[\"Bacon Crispy Verdali\"]],\"hovertemplate\":\"Classification=PORK 2<br>x=%{x}<br>y=%{y}<br>Product's Name=%{customdata[0]}<extra></extra>\",\"legendgroup\":\"PORK 2\",\"marker\":{\"color\":\"#636efa\",\"symbol\":\"circle\"},\"mode\":\"markers\",\"name\":\"PORK 2\",\"orientation\":\"v\",\"showlegend\":true,\"x\":[-0.269504196092984,-0.6976308395008938,-0.3754508393887652,-0.4337612429278386,-0.39350987774318746,-0.958210106175198],\"xaxis\":\"x\",\"y\":[-0.1940755458001718,0.4870059874992237,-0.3577698365619825,-0.1368492823291889,-0.3464419123075102,0.765289295173169],\"yaxis\":\"y\",\"type\":\"scatter\"},{\"customdata\":[[\"Not Milk \"],[\"Not Milk Semidesnatado\"],[\" Vegetal de almonds\"],[\" vegetal \"],[\" Vegetal de almonds Fresco\"],[\" Vegetal  de Caj\\u00fa Fresco\"],[\" Vegetal  Fresco\"],[\" Vegetal Noats Original\"],[\" Vegetal Noats Barista\"],[\" Jasmine rice em P\\u00f3\"],[\" BIOV jasmine rice com amendoas\"],[\" BIOV jasmine rice com coco\"],[\" BioV oats Jasmine\"],[\" Jasmine rice \"],[\" Jasmine rice com oats\"],[\"Bebida de rice Nesfit\"],[\"Bebida Natural Nesfit\"],[\"Bebida de rice  e Amendoas Nesfit\"],[\"Bebida de rice e Coco Nesfit\"],[\"Bebida de oats Nesfit\"],[\"Bebida de oats e cocoa\"],[\"Molico Vegetal Nestl\\u00e9\"],[\"Ninho Vegetal Nestl\\u00e9\"],[\"Ninho Banana e apple Nestl\\u00e9\"],[\"Nude Edi\\u00e7\\u00e3o Barista\"],[\"Nude Original \"],[\"Nude Sabor Baunilha\"],[\"Nude de cocoa\"],[\"Nude + calcium\"],[\"Nude Barista\"],[\"Almond Breeze Original\"],[\"Almond Breeze Chocolate\"],[\"Almond Breeze Baunilha\"],[\"Almond Breeze Sem sugar\"],[\"Almond Breeze Amendoas com Coco\"],[\"Almond Breeze Chocolate Sem sugar\"],[\" de Amendoas Silk Sem sugar\"],[\" de Amendoas Silk \"],[\" cashews Silk\"],[\" de almonds e cocoa Silk\"],[\" de almonds Silk Coco\"],[\"Bebida de rice L\\u00edquida Sabor Original\"],[\"Bebida de rice L\\u00edquida Sabor almonds\"],[\"Bebida de rice L\\u00edquida Sabor peanuts\\n\"],[\"Bebida de rice L\\u00edquida Sabor cashews\"],[\"Bebida de rice L\\u00edquida Sabor Chocolate\"],[\"Bebida de rice L\\u00edquida Sabor Coco\"],[\"Bebida de rice L\\u00edquida Sabor Baunilha\"],[\"Bebida de rice Em P\\u00f3 Sabor Original\"],[\"Bebida de rice Em P\\u00f3 Sabor Original\"],[\"Bebida de rice Em P\\u00f3 Sabor Banana e apple\"],[\"Bebida de rice Em P\\u00f3 Sabor Chocolate\"],[\"Bebida de rice Em P\\u00f3 Sabor strawberries\"],[\" a tal da castanha barista\"],[\" a tal da castanha original\"],[\" a tal da castanha caju + Coco\"],[\" a tal da castanha almonds\"],[\" a tal da castanha castanha + cocoa\"],[\" a tal da castanha oats\"],[\" a tal da castanha mixed nuts\"],[\" a tal da castanha caju + Par\\u00e1\"],[\" a tal da castanha caju + peanuts\"],[\" Natuterra oats + Coco\"],[\" de almonds Natuterra\"],[\" Natuterra oats \"],[\" Vegetal 3 Nuts \\u2013 macadamianuts, almonds e cashews\"],[\" Vegetal de macadamianuts e Coco\"],[\" Vegetal de macadamianuts e cashews\"],[\" Vegetal Possible Foods\"],[\" Vegetal Possible Foods Chocolate\"],[\"Bebida de castanh de caj\\u00fa sem adi\\u00e7\\u00e3o de sugar nature's heart\"],[\"Bebida de almonds s/ adi\\u00e7\\u00e3o de sugares 1L \\u2013 Nature\\u2019s Heart\"],[\"Bebida de rice s/ adi\\u00e7\\u00e3o de sugares 1L \\u2013 Nature\\u2019s Heart\"],[\"Bebida de oats s/ adi\\u00e7\\u00e3o de sugares 1L \\u2013 Nature\\u2019s Heart\"],[\"Bebida de cocoa & rice 1L \\u2013 Nature\\u2019s Heart\"],[\"Bebida  & rice s/ adi\\u00e7\\u00e3o de sugares 1L \\u2013 Nature\\u2019s Heart\"],[\" Vegetal de soy Naturis Batavo\"],[\" DUOLAT peanuts E CASTANHA 1L - CAJUEIRO\"],[\" 85 CASTANHAS 1L - CAJUEIRO\"],[\" TOASTED 1L - CAJUEIRO\"]],\"hovertemplate\":\"Classification=DAIRY 1<br>x=%{x}<br>y=%{y}<br>Product's Name=%{customdata[0]}<extra></extra>\",\"legendgroup\":\"DAIRY 1\",\"marker\":{\"color\":\"#EF553B\",\"symbol\":\"circle\"},\"mode\":\"markers\",\"name\":\"DAIRY 1\",\"orientation\":\"v\",\"showlegend\":true,\"x\":[0.5948725449468418,0.6529398991743635,0.6636339147946345,0.6595342368690084,0.6297802078056416,0.6231604359315603,0.6215847933012432,0.30656283602504264,0.27305968906793776,0.7823663679613585,0.5525310854937765,0.7751647582795259,0.27305968906793776,0.7823663679613585,0.7492702130757424,0.8826964599309974,0.6259863604487426,0.900161718946294,0.88824375416644,0.8806156604804976,1.0753155432128692,0.3013019406661084,0.328515559299831,0.7042979837065553,0.7006439997104351,0.5072980875529636,0.5635611251059329,0.5861776391974979,0.6617146639890318,0.7006439997104351,0.9030597845924322,1.097838299937721,0.9920072048539996,0.8003769089129487,0.754102746276264,0.9390574114128812,0.3693853432034833,0.3809914025405473,0.32910215726301356,0.2958759453379736,0.3232637016179462,0.3703442475849516,0.3703442475849516,0.3703442475849516,0.3703442475849516,0.3703442475849516,0.3703442475849516,0.3703442475849516,-0.25272287986853825,-0.25272287986853825,-0.25272287986853825,-0.25272287986853825,-0.25272287986853825,0.3931592639994462,0.3798039083320328,0.3898904237025838,0.5803917406251082,0.30203078938776023,0.8585453492723485,0.6312358685391105,0.38684521131128413,0.3434617928611709,0.7018384157706808,0.694792242001364,0.7104368388219693,0.37040845956625384,0.32408149467092856,0.3647013425809609,0.8280966112303583,0.902423037526413,0.6729484771159798,0.6710865858483175,0.8324389833861866,0.8152074858073266,0.9637798484487182,0.8117769159340656,0.5109057856941268,0.30731885020072297,0.326608486987857,0.3585406116078692],\"xaxis\":\"x\",\"y\":[0.08398250428440149,0.04899191844430777,-0.07969004496077073,-0.09207891707872842,-0.04617370499392932,-0.0019044003571210273,-0.045860805329616526,0.019425182454224726,0.12152641807446697,0.3882260437882245,0.18704073749275682,0.3953775485992227,0.12152641807446697,0.3882260437882245,0.40501013155113647,0.1744014976395115,0.19720684364524171,0.21026303882299552,0.2589881736872255,0.2533604063134037,0.45657648162140363,0.21774225660679267,0.2875804094310024,0.3528680760592616,0.08008668134248716,0.028755717742465665,0.2023636327045433,0.24487814318118495,0.1715087416986818,0.08008668134248716,0.06686349683036918,0.399223000045392,0.20943962396481933,-0.09638576936973985,0.009781291820831513,0.026526868968111187,-0.1702174748333795,-0.008219773430334337,-0.09370030938915473,0.03069477090205066,-0.12533033880606306,-0.041717058038670034,-0.041717058038670034,-0.041717058038670034,-0.041717058038670034,-0.041717058038670034,-0.041717058038670034,-0.041717058038670034,0.09411417272068062,0.09411417272068062,0.09411417272068062,0.09411417272068062,0.09411417272068062,-0.03885986646516581,-0.13646648562890676,-0.1510692711365422,-0.09534637912106587,0.0952551176906527,0.22698927966092963,0.049259856315369305,-0.14544526985860884,-0.09162450302998186,-0.16392439248853796,-0.14596169063368805,-0.13254026882239403,-0.17565593226834214,-0.11571451652378174,-0.15734162142961056,0.04506774062266877,0.2468075945918194,-0.12215249937968972,-0.12318498552321315,0.16124838619259468,0.2433514659973276,0.4279254918022566,0.24366887607414695,0.08865710669934193,-0.09093721881854848,-0.10615207582612562,-0.15867613640017478],\"yaxis\":\"y\",\"type\":\"scatter\"},{\"customdata\":[[\"Iogurte \"],[\"Iogurte  com strawberries\"],[\"Iogurte  com banana, apple e papaya\"],[\"Iogurte  Zero sugar\"],[\"Iogurte  com strawberries Zero sugar\"],[\"Iogurte GregoVeg \"],[\"Iogurte GregoVeg  com strawberries\"],[\"Iogurte Proteico 14g sabor strawberries\"],[\"Shake \"],[\"Iogurte Proteico 14g sabor  peanuts\"],[\"Creme de almonds\"]],\"hovertemplate\":\"Classification=DAIRY 2<br>x=%{x}<br>y=%{y}<br>Product's Name=%{customdata[0]}<extra></extra>\",\"legendgroup\":\"DAIRY 2\",\"marker\":{\"color\":\"#00cc96\",\"symbol\":\"circle\"},\"mode\":\"markers\",\"name\":\"DAIRY 2\",\"orientation\":\"v\",\"showlegend\":true,\"x\":[0.57176796112149,0.5645725340902965,0.5645725340902965,0.6078584347374003,0.6000855032672846,0.19606580570866075,0.19231248617550953,0.5090220931385329,0.27901173108343813,0.5150338606614058,0.03775008824552303],\"xaxis\":\"x\",\"y\":[0.23396701429758274,0.26566564570701245,0.26566564570701245,0.0037507708551328743,0.03373643700769091,0.062950089547928,0.0786869721543634,0.3049059068919782,0.12586293549220787,0.28994510266445583,-0.5056824757867725],\"yaxis\":\"y\",\"type\":\"scatter\"},{\"customdata\":[[\"MAIONESE VEGETAL SUPERBOM\"],[\"MAIONESE FUGINI\"],[\"NOT MAYO\"],[\"NOT MAYO garlic\"],[\"NOT MAYO AZEITONA\"],[\"NOT MAYO PICANTE\"],[\"MAIONESE V-MAYO\"],[\"MAIONESE V-MAYO ApepperDA\"],[\"MAIONESE V-MAYO TRUFADA\"],[\"MAIONESE V-MAYO DE ABACATE\"],[\"MAIONESE V-MAYO DE garlic\"],[\"MAIONESE HELLMANS\"],[\"MAIONESE VEGANA FUGINI\"],[\"MAIONESE DEL\\u00cdCIAS DE GOI\\u00c1S\"]],\"hovertemplate\":\"Classification=EGG 1<br>x=%{x}<br>y=%{y}<br>Product's Name=%{customdata[0]}<extra></extra>\",\"legendgroup\":\"EGG 1\",\"marker\":{\"color\":\"#ab63fa\",\"symbol\":\"circle\"},\"mode\":\"markers\",\"name\":\"EGG 1\",\"orientation\":\"v\",\"showlegend\":true,\"x\":[-0.38752953357376324,-0.13465211067414048,-0.3791490163165259,-0.3958020343808026,-0.33473219964933365,-0.32064085958287086,-0.1869393475441136,-0.1869393475441136,-0.18693934754411362,-0.1869393475441136,-0.1869393475441136,-0.16747622203183268,0.10117256813267679,-0.13170822399853124],\"xaxis\":\"x\",\"y\":[-0.38141088058418277,-0.4857575556339356,-0.4911939320337323,-0.4725261885286396,-0.4697094850048379,-0.47084699050816864,-0.45834744622497964,-0.45834744622497964,-0.45834744622497964,-0.45834744622497964,-0.45834744622497964,-0.48812169820812074,-0.4843847102600072,-0.24824317056538853],\"yaxis\":\"y\",\"type\":\"scatter\"},{\"customdata\":[[\"Ovos Novos\"],[\"VEGAN PRO EGGS NUTRIFY\"]],\"hovertemplate\":\"Classification=EGG 2<br>x=%{x}<br>y=%{y}<br>Product's Name=%{customdata[0]}<extra></extra>\",\"legendgroup\":\"EGG 2\",\"marker\":{\"color\":\"#FFA15A\",\"symbol\":\"circle\"},\"mode\":\"markers\",\"name\":\"EGG 2\",\"orientation\":\"v\",\"showlegend\":true,\"x\":[-0.36541399713927714,-0.30071414275054287],\"xaxis\":\"x\",\"y\":[-0.2939940859322517,-0.37378472278377234],\"yaxis\":\"y\",\"type\":\"scatter\"}],                        {\"template\":{\"data\":{\"bar\":[{\"error_x\":{\"color\":\"#2a3f5f\"},\"error_y\":{\"color\":\"#2a3f5f\"},\"marker\":{\"line\":{\"color\":\"#E5ECF6\",\"width\":0.5},\"pattern\":{\"fillmode\":\"overlay\",\"size\":10,\"solidity\":0.2}},\"type\":\"bar\"}],\"barpolar\":[{\"marker\":{\"line\":{\"color\":\"#E5ECF6\",\"width\":0.5},\"pattern\":{\"fillmode\":\"overlay\",\"size\":10,\"solidity\":0.2}},\"type\":\"barpolar\"}],\"carpet\":[{\"aaxis\":{\"endlinecolor\":\"#2a3f5f\",\"gridcolor\":\"white\",\"linecolor\":\"white\",\"minorgridcolor\":\"white\",\"startlinecolor\":\"#2a3f5f\"},\"baxis\":{\"endlinecolor\":\"#2a3f5f\",\"gridcolor\":\"white\",\"linecolor\":\"white\",\"minorgridcolor\":\"white\",\"startlinecolor\":\"#2a3f5f\"},\"type\":\"carpet\"}],\"choropleth\":[{\"colorbar\":{\"outlinewidth\":0,\"ticks\":\"\"},\"type\":\"choropleth\"}],\"contour\":[{\"colorbar\":{\"outlinewidth\":0,\"ticks\":\"\"},\"colorscale\":[[0.0,\"#0d0887\"],[0.1111111111111111,\"#46039f\"],[0.2222222222222222,\"#7201a8\"],[0.3333333333333333,\"#9c179e\"],[0.4444444444444444,\"#bd3786\"],[0.5555555555555556,\"#d8576b\"],[0.6666666666666666,\"#ed7953\"],[0.7777777777777778,\"#fb9f3a\"],[0.8888888888888888,\"#fdca26\"],[1.0,\"#f0f921\"]],\"type\":\"contour\"}],\"contourcarpet\":[{\"colorbar\":{\"outlinewidth\":0,\"ticks\":\"\"},\"type\":\"contourcarpet\"}],\"heatmap\":[{\"colorbar\":{\"outlinewidth\":0,\"ticks\":\"\"},\"colorscale\":[[0.0,\"#0d0887\"],[0.1111111111111111,\"#46039f\"],[0.2222222222222222,\"#7201a8\"],[0.3333333333333333,\"#9c179e\"],[0.4444444444444444,\"#bd3786\"],[0.5555555555555556,\"#d8576b\"],[0.6666666666666666,\"#ed7953\"],[0.7777777777777778,\"#fb9f3a\"],[0.8888888888888888,\"#fdca26\"],[1.0,\"#f0f921\"]],\"type\":\"heatmap\"}],\"heatmapgl\":[{\"colorbar\":{\"outlinewidth\":0,\"ticks\":\"\"},\"colorscale\":[[0.0,\"#0d0887\"],[0.1111111111111111,\"#46039f\"],[0.2222222222222222,\"#7201a8\"],[0.3333333333333333,\"#9c179e\"],[0.4444444444444444,\"#bd3786\"],[0.5555555555555556,\"#d8576b\"],[0.6666666666666666,\"#ed7953\"],[0.7777777777777778,\"#fb9f3a\"],[0.8888888888888888,\"#fdca26\"],[1.0,\"#f0f921\"]],\"type\":\"heatmapgl\"}],\"histogram\":[{\"marker\":{\"pattern\":{\"fillmode\":\"overlay\",\"size\":10,\"solidity\":0.2}},\"type\":\"histogram\"}],\"histogram2d\":[{\"colorbar\":{\"outlinewidth\":0,\"ticks\":\"\"},\"colorscale\":[[0.0,\"#0d0887\"],[0.1111111111111111,\"#46039f\"],[0.2222222222222222,\"#7201a8\"],[0.3333333333333333,\"#9c179e\"],[0.4444444444444444,\"#bd3786\"],[0.5555555555555556,\"#d8576b\"],[0.6666666666666666,\"#ed7953\"],[0.7777777777777778,\"#fb9f3a\"],[0.8888888888888888,\"#fdca26\"],[1.0,\"#f0f921\"]],\"type\":\"histogram2d\"}],\"histogram2dcontour\":[{\"colorbar\":{\"outlinewidth\":0,\"ticks\":\"\"},\"colorscale\":[[0.0,\"#0d0887\"],[0.1111111111111111,\"#46039f\"],[0.2222222222222222,\"#7201a8\"],[0.3333333333333333,\"#9c179e\"],[0.4444444444444444,\"#bd3786\"],[0.5555555555555556,\"#d8576b\"],[0.6666666666666666,\"#ed7953\"],[0.7777777777777778,\"#fb9f3a\"],[0.8888888888888888,\"#fdca26\"],[1.0,\"#f0f921\"]],\"type\":\"histogram2dcontour\"}],\"mesh3d\":[{\"colorbar\":{\"outlinewidth\":0,\"ticks\":\"\"},\"type\":\"mesh3d\"}],\"parcoords\":[{\"line\":{\"colorbar\":{\"outlinewidth\":0,\"ticks\":\"\"}},\"type\":\"parcoords\"}],\"pie\":[{\"automargin\":true,\"type\":\"pie\"}],\"scatter\":[{\"marker\":{\"colorbar\":{\"outlinewidth\":0,\"ticks\":\"\"}},\"type\":\"scatter\"}],\"scatter3d\":[{\"line\":{\"colorbar\":{\"outlinewidth\":0,\"ticks\":\"\"}},\"marker\":{\"colorbar\":{\"outlinewidth\":0,\"ticks\":\"\"}},\"type\":\"scatter3d\"}],\"scattercarpet\":[{\"marker\":{\"colorbar\":{\"outlinewidth\":0,\"ticks\":\"\"}},\"type\":\"scattercarpet\"}],\"scattergeo\":[{\"marker\":{\"colorbar\":{\"outlinewidth\":0,\"ticks\":\"\"}},\"type\":\"scattergeo\"}],\"scattergl\":[{\"marker\":{\"colorbar\":{\"outlinewidth\":0,\"ticks\":\"\"}},\"type\":\"scattergl\"}],\"scattermapbox\":[{\"marker\":{\"colorbar\":{\"outlinewidth\":0,\"ticks\":\"\"}},\"type\":\"scattermapbox\"}],\"scatterpolar\":[{\"marker\":{\"colorbar\":{\"outlinewidth\":0,\"ticks\":\"\"}},\"type\":\"scatterpolar\"}],\"scatterpolargl\":[{\"marker\":{\"colorbar\":{\"outlinewidth\":0,\"ticks\":\"\"}},\"type\":\"scatterpolargl\"}],\"scatterternary\":[{\"marker\":{\"colorbar\":{\"outlinewidth\":0,\"ticks\":\"\"}},\"type\":\"scatterternary\"}],\"surface\":[{\"colorbar\":{\"outlinewidth\":0,\"ticks\":\"\"},\"colorscale\":[[0.0,\"#0d0887\"],[0.1111111111111111,\"#46039f\"],[0.2222222222222222,\"#7201a8\"],[0.3333333333333333,\"#9c179e\"],[0.4444444444444444,\"#bd3786\"],[0.5555555555555556,\"#d8576b\"],[0.6666666666666666,\"#ed7953\"],[0.7777777777777778,\"#fb9f3a\"],[0.8888888888888888,\"#fdca26\"],[1.0,\"#f0f921\"]],\"type\":\"surface\"}],\"table\":[{\"cells\":{\"fill\":{\"color\":\"#EBF0F8\"},\"line\":{\"color\":\"white\"}},\"header\":{\"fill\":{\"color\":\"#C8D4E3\"},\"line\":{\"color\":\"white\"}},\"type\":\"table\"}]},\"layout\":{\"annotationdefaults\":{\"arrowcolor\":\"#2a3f5f\",\"arrowhead\":0,\"arrowwidth\":1},\"autotypenumbers\":\"strict\",\"coloraxis\":{\"colorbar\":{\"outlinewidth\":0,\"ticks\":\"\"}},\"colorscale\":{\"diverging\":[[0,\"#8e0152\"],[0.1,\"#c51b7d\"],[0.2,\"#de77ae\"],[0.3,\"#f1b6da\"],[0.4,\"#fde0ef\"],[0.5,\"#f7f7f7\"],[0.6,\"#e6f5d0\"],[0.7,\"#b8e186\"],[0.8,\"#7fbc41\"],[0.9,\"#4d9221\"],[1,\"#276419\"]],\"sequential\":[[0.0,\"#0d0887\"],[0.1111111111111111,\"#46039f\"],[0.2222222222222222,\"#7201a8\"],[0.3333333333333333,\"#9c179e\"],[0.4444444444444444,\"#bd3786\"],[0.5555555555555556,\"#d8576b\"],[0.6666666666666666,\"#ed7953\"],[0.7777777777777778,\"#fb9f3a\"],[0.8888888888888888,\"#fdca26\"],[1.0,\"#f0f921\"]],\"sequentialminus\":[[0.0,\"#0d0887\"],[0.1111111111111111,\"#46039f\"],[0.2222222222222222,\"#7201a8\"],[0.3333333333333333,\"#9c179e\"],[0.4444444444444444,\"#bd3786\"],[0.5555555555555556,\"#d8576b\"],[0.6666666666666666,\"#ed7953\"],[0.7777777777777778,\"#fb9f3a\"],[0.8888888888888888,\"#fdca26\"],[1.0,\"#f0f921\"]]},\"colorway\":[\"#636efa\",\"#EF553B\",\"#00cc96\",\"#ab63fa\",\"#FFA15A\",\"#19d3f3\",\"#FF6692\",\"#B6E880\",\"#FF97FF\",\"#FECB52\"],\"font\":{\"color\":\"#2a3f5f\"},\"geo\":{\"bgcolor\":\"white\",\"lakecolor\":\"white\",\"landcolor\":\"#E5ECF6\",\"showlakes\":true,\"showland\":true,\"subunitcolor\":\"white\"},\"hoverlabel\":{\"align\":\"left\"},\"hovermode\":\"closest\",\"mapbox\":{\"style\":\"light\"},\"paper_bgcolor\":\"white\",\"plot_bgcolor\":\"#E5ECF6\",\"polar\":{\"angularaxis\":{\"gridcolor\":\"white\",\"linecolor\":\"white\",\"ticks\":\"\"},\"bgcolor\":\"#E5ECF6\",\"radialaxis\":{\"gridcolor\":\"white\",\"linecolor\":\"white\",\"ticks\":\"\"}},\"scene\":{\"xaxis\":{\"backgroundcolor\":\"#E5ECF6\",\"gridcolor\":\"white\",\"gridwidth\":2,\"linecolor\":\"white\",\"showbackground\":true,\"ticks\":\"\",\"zerolinecolor\":\"white\"},\"yaxis\":{\"backgroundcolor\":\"#E5ECF6\",\"gridcolor\":\"white\",\"gridwidth\":2,\"linecolor\":\"white\",\"showbackground\":true,\"ticks\":\"\",\"zerolinecolor\":\"white\"},\"zaxis\":{\"backgroundcolor\":\"#E5ECF6\",\"gridcolor\":\"white\",\"gridwidth\":2,\"linecolor\":\"white\",\"showbackground\":true,\"ticks\":\"\",\"zerolinecolor\":\"white\"}},\"shapedefaults\":{\"line\":{\"color\":\"#2a3f5f\"}},\"ternary\":{\"aaxis\":{\"gridcolor\":\"white\",\"linecolor\":\"white\",\"ticks\":\"\"},\"baxis\":{\"gridcolor\":\"white\",\"linecolor\":\"white\",\"ticks\":\"\"},\"bgcolor\":\"#E5ECF6\",\"caxis\":{\"gridcolor\":\"white\",\"linecolor\":\"white\",\"ticks\":\"\"}},\"title\":{\"x\":0.05},\"xaxis\":{\"automargin\":true,\"gridcolor\":\"white\",\"linecolor\":\"white\",\"ticks\":\"\",\"title\":{\"standoff\":15},\"zerolinecolor\":\"white\",\"zerolinewidth\":2},\"yaxis\":{\"automargin\":true,\"gridcolor\":\"white\",\"linecolor\":\"white\",\"ticks\":\"\",\"title\":{\"standoff\":15},\"zerolinecolor\":\"white\",\"zerolinewidth\":2}}},\"xaxis\":{\"anchor\":\"y\",\"domain\":[0.0,1.0],\"title\":{\"text\":\"x\"}},\"yaxis\":{\"anchor\":\"x\",\"domain\":[0.0,1.0],\"title\":{\"text\":\"y\"}},\"legend\":{\"title\":{\"text\":\"Classification\"},\"tracegroupgap\":0},\"margin\":{\"t\":60},\"width\":800},                        {\"responsive\": true}                    ).then(function(){\n",
              "                            \n",
              "var gd = document.getElementById('3192797d-28e9-41bc-aa2e-c65366de6f86');\n",
              "var x = new MutationObserver(function (mutations, observer) {{\n",
              "        var display = window.getComputedStyle(gd).display;\n",
              "        if (!display || display === 'none') {{\n",
              "            console.log([gd, 'removed!']);\n",
              "            Plotly.purge(gd);\n",
              "            observer.disconnect();\n",
              "        }}\n",
              "}});\n",
              "\n",
              "// Listen for the removal of the full notebook cells\n",
              "var notebookContainer = gd.closest('#notebook-container');\n",
              "if (notebookContainer) {{\n",
              "    x.observe(notebookContainer, {childList: true});\n",
              "}}\n",
              "\n",
              "// Listen for the clearing of the current output cell\n",
              "var outputEl = gd.closest('.output');\n",
              "if (outputEl) {{\n",
              "    x.observe(outputEl, {childList: true});\n",
              "}}\n",
              "\n",
              "                        })                };                            </script>        </div>\n",
              "</body>\n",
              "</html>"
            ]
          },
          "metadata": {}
        }
      ]
    },
    {
      "cell_type": "markdown",
      "source": [
        "### TRIMAP"
      ],
      "metadata": {
        "id": "KLIFc4s-rnaU"
      }
    },
    {
      "cell_type": "code",
      "source": [
        "X_trimap = trimap.TRIMAP(n_dims=2, n_inliers=15).fit_transform(X)\n",
        "\n",
        "X_trimap[1:4, :]\n",
        "all_data['x'] = X_trimap[:,0]\n",
        "all_data['y'] = X_trimap[:,1]\n",
        "all_data['Ingredients'] = data_ingredients\n",
        "\n",
        "fig = px.scatter(\n",
        "    all_data, \n",
        "    x='x', \n",
        "    y='y', \n",
        "    color='Classification', \n",
        "    template=\"simple_white\",\n",
        "    labels={ \n",
        "      \"Classification\": \"Classification (Label)\"\n",
        "    },\n",
        "    color_discrete_sequence= px.colors.qualitative.Plotly + px.colors.qualitative.Bold,\n",
        "    hover_name=\"Description\",\n",
        "    hover_data={'x':False,\n",
        "                'y':False,  \n",
        "                'Kcal ': [f' {x}' for x in data['Kcal']],\n",
        "                'Serving Size ': [f' {y}' for y in data['Serving Size']],\n",
        "                'Carbohydrate ': [f' {z}' for z in data['Carbohydrate']],\n",
        "                'Sugars ': [f' {a}' for a in data['Sugars']],\n",
        "                'Proteins ': [f' {b}' for b in data['Proteins']],\n",
        "                #'Ingredients':True},\n",
        "                }, \n",
        "    width=800, height=500)\n",
        "\n",
        "fig.update_layout(xaxis={'visible': False},\n",
        "                  yaxis={'visible': False},\n",
        "                  margin=dict(l=0,r=0,b=0,t=0))\n",
        "\n",
        "fig.show()\n",
        "fig.write_image('imgs/TRIMAP_ALL.eps', format='eps')"
      ],
      "metadata": {
        "colab": {
          "base_uri": "https://localhost:8080/",
          "height": 517
        },
        "id": "6xwZGth5rqH0",
        "outputId": "b0e59d7f-ae94-4f09-88db-11e2a35e8241"
      },
      "execution_count": 76,
      "outputs": [
        {
          "output_type": "display_data",
          "data": {
            "text/html": [
              "<html>\n",
              "<head><meta charset=\"utf-8\" /></head>\n",
              "<body>\n",
              "    <div>            <script src=\"https://cdnjs.cloudflare.com/ajax/libs/mathjax/2.7.5/MathJax.js?config=TeX-AMS-MML_SVG\"></script><script type=\"text/javascript\">if (window.MathJax) {MathJax.Hub.Config({SVG: {font: \"STIX-Web\"}});}</script>                <script type=\"text/javascript\">window.PlotlyConfig = {MathJaxConfig: 'local'};</script>\n",
              "        <script src=\"https://cdn.plot.ly/plotly-2.8.3.min.js\"></script>                <div id=\"de42f7fe-75e4-4dbc-98b8-26c6053f7fc3\" class=\"plotly-graph-div\" style=\"height:500px; width:800px;\"></div>            <script type=\"text/javascript\">                                    window.PLOTLYENV=window.PLOTLYENV || {};                                    if (document.getElementById(\"de42f7fe-75e4-4dbc-98b8-26c6053f7fc3\")) {                    Plotly.newPlot(                        \"de42f7fe-75e4-4dbc-98b8-26c6053f7fc3\",                        [{\"customdata\":[[\" 168.0\",\" 80.0\",\" 11.0\",\" 0.0\",\" 8.2\"],[\" 234.0\",\" 100.0\",\" 12.0\",\" 0.0\",\" 19.0\"],[\" 146.0\",\" 80.0\",\" 3.7\",\" 0.0\",\" 14.0\"],[\" 166.0\",\" 100.0\",\" 10.0\",\" 0.0\",\" 13.0\"],[\" 166.0\",\" 100.0\",\" 10.0\",\" 0.0\",\" 13.0\"],[\" 178.0\",\" 75.0\",\" 33.0\",\" 0.0\",\" 4.3\"],[\" 158.0\",\" 80.0\",\" 9.3\",\" 0.0\",\" 7.8\"],[\" 77.0\",\" 50.0\",\" 2.1\",\" 0.0\",\" 13.0\"],[\" 188.0\",\" 100.0\",\" 6.0\",\" 0.0\",\" 14.0\"]],\"hovertemplate\":\"<b>%{hovertext}</b><br><br>Classification (Label)=MEAT 2<br>Kcal =%{customdata[0]}<br>Serving Size =%{customdata[1]}<br>Carbohydrate =%{customdata[2]}<br>Sugars =%{customdata[3]}<br>Proteins =%{customdata[4]}<extra></extra>\",\"hovertext\":[\"Carne Mo\\u00edda do Futuro\",\"Almondegas de Soja Vegway\",\"Almondegas Amazonika Mundi\",\"Kibe Incr\\u00edvel Seara\",\"Almondegas Incr\\u00edveis Seara\",\"Almondegas Mr Veggy\",\"Carne Mo\\u00edda Superbom\",\"Carne Vegetal Mo\\u00edda Superbom\",\"Carne Mo\\u00edda Vegetal Verdali\"],\"legendgroup\":\"MEAT 2\",\"marker\":{\"color\":\"#636EFA\",\"symbol\":\"circle\"},\"mode\":\"markers\",\"name\":\"MEAT 2\",\"orientation\":\"v\",\"showlegend\":true,\"x\":[32.75884246826172,56.8212890625,28.72560691833496,28.91294288635254,44.8217658996582,25.434967041015625,3.9647624492645264,27.650856018066406,30.59318733215332],\"xaxis\":\"x\",\"y\":[-1.4827280044555664,23.167137145996094,-3.4168224334716797,-3.3105876445770264,-11.205513000488281,-0.9876492023468018,7.82183837890625,6.864563465118408,1.1562325954437256],\"yaxis\":\"y\",\"type\":\"scatter\"},{\"customdata\":[[\" 168.0\",\" 80.0\",\" 11.0\",\" 0.0\",\" 8.2\"],[\" 150.0\",\" 50.0\",\" 10.0\",\" 0.0\",\" 25.0\"],[\" 150.0\",\" 50.0\",\" 10.0\",\" 0.0\",\" 25.0\"],[\" 62.0\",\" 50.0\",\" 1.0\",\" 0.0\",\" 10.0\"],[\" 62.0\",\" 50.0\",\" 1.0\",\" 0.0\",\" 10.0\"],[\" 115.0\",\" 60.0\",\" 2.8\",\" 0.0\",\" 7.5\"],[\" 115.0\",\" 60.0\",\" 3.1\",\" 0.0\",\" 7.5\"],[\" 121.0\",\" 350.0\",\" 9.3\",\" 0.0\",\" 9.3\"],[\" 88.0\",\" 40.0\",\" 6.0\",\" 0.0\",\" 6.3\"],[\" 129.0\",\" 80.0\",\" 12.0\",\" 0.0\",\" 11.0\"],[\" 203.0\",\" 100.0\",\" 13.0\",\" 0.0\",\" 9.2\"],[\" 64.0\",\" 40.0\",\" 2.7\",\" 0.0\",\" 7.8\"],[\" 26.0\",\" 50.0\",\" 0.5\",\" 0.0\",\" 5.0\"],[\" 22.0\",\" 50.0\",\" 0.5\",\" 0.0\",\" 5.3\"],[\" 53.0\",\" 50.0\",\" 0.0\",\" 0.0\",\" 5.4\"],[\" 63.0\",\" 50.0\",\" 0.2\",\" 0.0\",\" 6.3\"],[\" 144.0\",\" 100.0\",\" 5.0\",\" 0.0\",\" 22.0\"],[\" 119.0\",\" 100.0\",\" 5.0\",\" 0.0\",\" 18.0\"]],\"hovertemplate\":\"<b>%{hovertext}</b><br><br>Classification (Label)=MEAT 3<br>Kcal =%{customdata[0]}<br>Serving Size =%{customdata[1]}<br>Carbohydrate =%{customdata[2]}<br>Sugars =%{customdata[3]}<br>Proteins =%{customdata[4]}<extra></extra>\",\"hovertext\":[\"Carne Mo\\u00edda do Futuro\",\"Fil\\u00e9s Sora Carne Vermelha\",\"Fatias Sora Carne Vermelha\",\"Fil\\u00e9 Pronto Saud\\u00e1vel Sora\",\"Carne Mo\\u00edda Pronto Saud\\u00e1vel Sora\",\"Churrasco Vegabom\",\"Churrasco Aoniondo Vegabom\",\"Carne de Pernil Seara\",\"Alm\\u00f4ndega de Soja Vegana Goshen\",\"Bife de Soja Vegano Goshen\",\"Alm\\u00f4ndega Vegana Superbom\",\"Bife Vegetal Superbom\",\"Escalope ao Molho Caseiro Superbom\",\"Cubinhos ao Molho Mexicano Superbom\",\"Alm\\u00f4ndegas ao Molho Sugo Superbom\",\"Medalh\\u00e3o ao Molho Madeira Superbom\",\"Mignon Verdali\",\"Steak Verdali\"],\"legendgroup\":\"MEAT 3\",\"marker\":{\"color\":\"#EF553B\",\"symbol\":\"circle\"},\"mode\":\"markers\",\"name\":\"MEAT 3\",\"orientation\":\"v\",\"showlegend\":true,\"x\":[33.1872444152832,-39.76107406616211,-39.3046760559082,26.624475479125977,26.444316864013672,27.397863388061523,26.62283706665039,44.20313262939453,24.77123260498047,25.687664031982422,4.996119499206543,22.702787399291992,29.010944366455078,32.39847946166992,29.48383331298828,28.963394165039062,30.805261611938477,30.81756019592285],\"xaxis\":\"x\",\"y\":[-0.8975197076797485,24.134702682495117,23.699546813964844,-1.010394811630249,-0.8404222726821899,-0.6422160267829895,-0.9822226166725159,-10.54941463470459,15.867166519165039,16.509193420410156,8.048067092895508,4.530847072601318,-0.5841475129127502,4.889814376831055,4.387007236480713,6.104025363922119,1.0230900049209595,1.3672571182250977],\"yaxis\":\"y\",\"type\":\"scatter\"},{\"customdata\":[[\" 168.0\",\" 80.0\",\" 11.0\",\" 0.0\",\" 8.2\"],[\" 150.0\",\" 50.0\",\" 10.0\",\" 0.0\",\" 25.0\"],[\" 150.0\",\" 50.0\",\" 10.0\",\" 0.0\",\" 25.0\"],[\" 115.0\",\" 60.0\",\" 2.8\",\" 0.0\",\" 7.5\"],[\" 34.8\",\" 30.0\",\" 2.9\",\" 0.0\",\" 3.8\"],[\" 153.0\",\" 100.0\",\" 12.0\",\" 0.0\",\" 6.0\"],[\" 94.0\",\" 80.0\",\" 3.1\",\" 0.0\",\" 17.0\"],[\" 94.0\",\" 80.0\",\" 3.1\",\" 0.0\",\" 17.0\"],[\" 58.0\",\" 30.0\",\" 2.2\",\" 0.0\",\" 4.8\"],[\" 58.0\",\" 30.0\",\" 2.2\",\" 0.0\",\" 4.8\"],[\" 174.0\",\" 100.0\",\" 6.0\",\" 0.0\",\" 24.0\"],[\" 129.0\",\" 115.0\",\" 5.8\",\" 0.0\",\" 19.0\"],[\" 138.0\",\" 120.0\",\" 8.4\",\" 0.0\",\" 18.0\"]],\"hovertemplate\":\"<b>%{hovertext}</b><br><br>Classification (Label)=POULTRY 3<br>Kcal =%{customdata[0]}<br>Serving Size =%{customdata[1]}<br>Carbohydrate =%{customdata[2]}<br>Sugars =%{customdata[3]}<br>Proteins =%{customdata[4]}<extra></extra>\",\"hovertext\":[\"Frango do Futuro\",\"Fatias Sora Carne Branca\",\"Fil\\u00e9s Sora Carne Branca\",\"Strogonoff de Frango Vegabom\",\"Tiras de Frango New Butchers\",\"Fil\\u00e9 de Frango Desfiado Vegway\",\"Frango Veg e Tal Sadia\",\"Frango Veg e Tal Sadia Desfiado\",\"Peito de Peru de Soja\",\"Peito de Peru de Soja Vegano\",\"Tiras de Ave Verdali\",\"Fil\\u00e9 sem Frango Verdali\",\"Mini Fil\\u00e9 de Frango Verdali\"],\"legendgroup\":\"POULTRY 3\",\"marker\":{\"color\":\"#00CC96\",\"symbol\":\"circle\"},\"mode\":\"markers\",\"name\":\"POULTRY 3\",\"orientation\":\"v\",\"showlegend\":true,\"x\":[32.312217712402344,-38.966949462890625,-39.05897903442383,24.685937881469727,26.117294311523438,55.79624557495117,7.71884822845459,11.322717666625977,25.94684410095215,26.07244300842285,28.585285186767578,30.162874221801758,30.53814125061035],\"xaxis\":\"x\",\"y\":[-1.4347645044326782,23.34212303161621,24.02376937866211,-0.9587399363517761,-13.21147632598877,24.701091766357422,4.685232162475586,4.718799114227295,17.335947036743164,18.75811767578125,-1.7196972370147705,1.3497759103775024,0.46714383363723755],\"yaxis\":\"y\",\"type\":\"scatter\"},{\"customdata\":[[\" 139.0\",\" 50.0\",\" 7.7\",\" 0.0\",\" 5.7\"],[\" 78.0\",\" 35.0\",\" 6.0\",\" 0.0\",\" 4.0\"],[\" 78.0\",\" 35.0\",\" 6.0\",\" 0.0\",\" 4.0\"],[\" 156.0\",\" 65.0\",\" 8.0\",\" 0.0\",\" 11.0\"],[\" 115.0\",\" 80.0\",\" 3.6\",\" 0.0\",\" 9.7\"],[\" 44.0\",\" 30.0\",\" 0.5\",\" 0.0\",\" 5.1\"],[\" 58.0\",\" 30.0\",\" 1.7\",\" 0.0\",\" 5.1\"],[\" 93.0\",\" 50.0\",\" 1.9\",\" 0.0\",\" 8.1\"],[\" 58.0\",\" 30.0\",\" 4.3\",\" 0.0\",\" 2.4\"],[\" 96.0\",\" 50.0\",\" 1.8\",\" 0.0\",\" 8.8\"],[\" 60.0\",\" 40.0\",\" 1.4\",\" 0.0\",\" 7.6\"],[\" 43.0\",\" 40.0\",\" 1.8\",\" 0.0\",\" 4.9\"]],\"hovertemplate\":\"<b>%{hovertext}</b><br><br>Classification (Label)=PORK 1<br>Kcal =%{customdata[0]}<br>Serving Size =%{customdata[1]}<br>Carbohydrate =%{customdata[2]}<br>Sugars =%{customdata[3]}<br>Proteins =%{customdata[4]}<extra></extra>\",\"hovertext\":[\"Lingui\\u00e7a do Futuro\",\"Lingui\\u00e7a calabresa vegabom\",\"saltsicha de chickpea Vegabom\",\"Vegway Soy Sausage\",\"saltsichas Incriveis Seara\",\"Lingui\\u00e7a Apimentada de Soja Goshen\",\"Lingui\\u00e7a Calabresa de Soja Goshen\",\"Lingui\\u00e7a de Soja Vegana Goshen\",\"Lingui\\u00e7a Toscana de Soja Goshen\",\"saltsicha de Soja Vegana Goshen\",\"saltsicha Vegetal Superbom\",\"saltsicha Vegetal Defumada Superbom\"],\"legendgroup\":\"PORK 1\",\"marker\":{\"color\":\"#AB63FA\",\"symbol\":\"circle\"},\"mode\":\"markers\",\"name\":\"PORK 1\",\"orientation\":\"v\",\"showlegend\":true,\"x\":[33.18497085571289,22.822195053100586,23.144065856933594,55.64439392089844,44.6432991027832,26.026161193847656,26.243806838989258,26.122644424438477,25.960668563842773,26.032270431518555,27.76108741760254,25.889423370361328],\"xaxis\":\"x\",\"y\":[-0.8390506505966187,2.525982141494751,2.1663131713867188,25.013072967529297,-10.872878074645996,18.339021682739258,19.00639533996582,18.287782669067383,17.41111946105957,17.751461029052734,8.559618949890137,11.528302192687988],\"yaxis\":\"y\",\"type\":\"scatter\"},{\"customdata\":[[\" 118.0\",\" 50.0\",\" 2.8\",\" 0.0\",\" 7.0\"],[\" 78.0\",\" 50.0\",\" 5.3\",\" 0.0\",\" 8.9\"],[\" 140.0\",\" 120.0\",\" 25.0\",\" 0.0\",\" 6.1\"],[\" 128.0\",\" 60.0\",\" 19.0\",\" 0.0\",\" 5.1\"],[\" 253.0\",\" 113.0\",\" 42.0\",\" 0.0\",\" 17.0\"],[\" 90.0\",\" 80.0\",\" 4.8\",\" 0.0\",\" 11.0\"],[\" 187.0\",\" 80.0\",\" 10.0\",\" 0.0\",\" 9.8\"],[\" 158.0\",\" 113.5\",\" 8.7\",\" 0.0\",\" 15.0\"],[\" 206.0\",\" 100.0\",\" 4.1\",\" 0.0\",\" 13.0\"],[\" 420.0\",\" 100.0\",\" 4.4\",\" 0.0\",\" 28.0\"],[\" 209.0\",\" 115.0\",\" 5.3\",\" 0.0\",\" 20.0\"],[\" 114.0\",\" 60.0\",\" 4.5\",\" 0.0\",\" 7.6\"],[\" 170.0\",\" 80.0\",\" 4.6\",\" 0.0\",\" 12.0\"],[\" 134.0\",\" 60.0\",\" 5.9\",\" 0.0\",\" 7.3\"],[\" 237.0\",\" 134.0\",\" 29.0\",\" 0.0\",\" 16.0\"],[\" 115.0\",\" 60.0\",\" 13.0\",\" 0.0\",\" 8.9\"],[\" 118.0\",\" 60.0\",\" 11.0\",\" 0.0\",\" 6.0\"],[\" 118.0\",\" 60.0\",\" 11.0\",\" 0.0\",\" 6.0\"],[\" 197.0\",\" 80.0\",\" 10.0\",\" 0.0\",\" 11.0\"],[\" 309.0\",\" 115.0\",\" 45.0\",\" 0.0\",\" 7.0\"],[\" 127.0\",\" 90.0\",\" 23.0\",\" 0.0\",\" 3.1\"],[\" 150.0\",\" 50.0\",\" 10.0\",\" 0.0\",\" 25.0\"],[\" 120.0\",\" 90.0\",\" 17.0\",\" 0.0\",\" 5.4\"],[\" 171.0\",\" 90.0\",\" 28.0\",\" 0.0\",\" 3.4\"],[\" 196.0\",\" 100.0\",\" 9.7\",\" 0.0\",\" 19.0\"],[\" 146.0\",\" 63.0\",\" 7.0\",\" 0.0\",\" 12.3\"],[\" 80.0\",\" 70.0\",\" 4.4\",\" 0.0\",\" 8.2\"],[\" 301.0\",\" 67.0\",\" 40.0\",\" 0.0\",\" 8.9\"],[\" 192.0\",\" 90.0\",\" 26.0\",\" 0.0\",\" 7.7\"],[\" 210.0\",\" 90.0\",\" 29.0\",\" 0.0\",\" 10.0\"],[\" 110.0\",\" 60.0\",\" 8.9\",\" 0.0\",\" 4.3\"],[\" 62.0\",\" 50.0\",\" 1.0\",\" 0.0\",\" 10.0\"],[\" 266.0\",\" 80.0\",\" 26.0\",\" 0.0\",\" 27.0\"],[\" 266.0\",\" 80.0\",\" 26.0\",\" 0.0\",\" 27.0\"]],\"hovertemplate\":\"<b>%{hovertext}</b><br><br>Classification (Label)=MEAT 1<br>Kcal =%{customdata[0]}<br>Serving Size =%{customdata[1]}<br>Carbohydrate =%{customdata[2]}<br>Sugars =%{customdata[3]}<br>Proteins =%{customdata[4]}<extra></extra>\",\"hovertext\":[\"Hamburguer de Soja Goshen\",\"Hamburguer de Soja Vegano Goshen\",\"Hamburguer de Quinoa Mr Veggy\",\"Hamburguer de lentil Mr Veggy\",\"Hamburguer vegano falafel amazonika mundi\",\"Hamburguer Vegetal Verdali\",\"VegBurger Sabor Carne\",\"Burger Gourmet Superbom\",\"Hamburguer Incr\\u00edvel Seara\",\"Not Burguer Notco\",\"Hamburguer de Fibra de Caju Amazonika Mundi\",\"Hamburguer Vegabom\",\"Hamburguer de Carne Veg  e Tal Sadia\",\"Hamburger New Butchers\",\"Hamburguer de Legumes Mr Veggy\",\"Hamburguer Vegetariano Mr Veggy\",\"Hambuguer Mr Veggy Mari Mari\",\"Hambuguer Mr Veggy Mari Mari Churrrasco\",\"Hamb\\u00farguer Fazenda Futuro 2.0\",\"Hamb\\u00farguer Vegano de Quinoa Amazonika Mundi\",\"Hamburguer Veggie Roots Tempero Indiano\",\"Hamb\\u00farguer Sora Carne Vermelha \",\"Hamburguer Veggie Roots brazilianspices\",\"Hamburguer veggie roots tempero mexicano\",\"Hamburguer de Soja Sabor Carne Vegway\",\"Vegway Breaded Soy Burguer \",\"Hamburguer Vegetal Superbom\",\"Hamburguer de chickpea Mr Veggy\",\"Hamburguer Veggie Roots Tempero \\u00c1rabe\",\"Hamburguer Veggie Roots Tempero Tailand\\u00eas\",\"Hamburguer Vegabom\",\"Hamb\\u00farguer Pronto Saud\\u00e1vel Sora\",\"hamburguer vegetal com herbs jasmine\",\"Hamburguer Vegetal Tradicional Jasmine\"],\"legendgroup\":\"MEAT 1\",\"marker\":{\"color\":\"#FFA15A\",\"symbol\":\"circle\"},\"mode\":\"markers\",\"name\":\"MEAT 1\",\"orientation\":\"v\",\"showlegend\":true,\"x\":[25.585229873657227,23.12076759338379,26.825672149658203,26.79207420349121,22.75969886779785,33.134132385253906,29.407197952270508,7.9945969581604,44.8518180847168,9.829713821411133,29.18000030517578,21.552886962890625,29.87794303894043,32.3997688293457,16.893842697143555,17.817392349243164,13.906421661376953,13.531455993652344,32.72621154785156,24.875810623168945,25.48894500732422,-39.01301956176758,25.90468406677246,26.722171783447266,56.213966369628906,54.11273956298828,29.59312629699707,26.387792587280273,26.375436782836914,26.28225326538086,19.872718811035156,26.806957244873047,-23.97812271118164,-23.47610092163086],\"xaxis\":\"x\",\"y\":[15.280611038208008,14.898520469665527,-4.274913311004639,-3.459315776824951,-2.149933099746704,-3.5411529541015625,-3.7875161170959473,6.781970500946045,-10.913989067077637,7.395881652832031,-3.62917160987854,1.529965877532959,-3.9527688026428223,-5.874957084655762,9.415987968444824,9.488859176635742,7.9361724853515625,7.818946361541748,-1.7226178646087646,-5.061501979827881,-4.425244331359863,23.28180694580078,-4.059404373168945,-4.278101444244385,24.960006713867188,24.043167114257812,4.49773645401001,-3.481884002685547,-4.222373008728027,-4.969477653503418,4.697622776031494,-1.2169331312179565,14.379648208618164,14.89074420928955],\"yaxis\":\"y\",\"type\":\"scatter\"},{\"customdata\":[[\" 150.0\",\" 50.0\",\" 10.0\",\" 0.0\",\" 25.0\"],[\" 189.0\",\" 80.0\",\" 11.0\",\" 0.0\",\" 9.8\"],[\" 173.0\",\" 80.0\",\" 3.6\",\" 0.0\",\" 13.0\"],[\" 129.0\",\" 100.0\",\" 2.4\",\" 0.0\",\" 7.0\"],[\" 96.0\",\" 80.0\",\" 4.8\",\" 0.0\",\" 11.0\"]],\"hovertemplate\":\"<b>%{hovertext}</b><br><br>Classification (Label)=POULTRY 2<br>Kcal =%{customdata[0]}<br>Serving Size =%{customdata[1]}<br>Carbohydrate =%{customdata[2]}<br>Sugars =%{customdata[3]}<br>Proteins =%{customdata[4]}<extra></extra>\",\"hovertext\":[\"Hamb\\u00farguer Sora Carne Branca\",\"VegBurger Sabor Frango\",\"Hambuguer Incr\\u00edvel Seara Frango\",\"Frango Vegano em Peda\\u00e7os \\u00e0 Base de pea\",\"Hamb\\u00farguer de Frango Verdali\"],\"legendgroup\":\"POULTRY 2\",\"marker\":{\"color\":\"#19D3F3\",\"symbol\":\"circle\"},\"mode\":\"markers\",\"name\":\"POULTRY 2\",\"orientation\":\"v\",\"showlegend\":true,\"x\":[-38.97677993774414,28.932817459106445,44.21072769165039,7.455285549163818,29.93503761291504],\"xaxis\":\"x\",\"y\":[23.350738525390625,-3.5926811695098877,-10.451865196228027,7.158650875091553,-0.7150092124938965],\"yaxis\":\"y\",\"type\":\"scatter\"},{\"customdata\":[[\" 116.0\",\" 60.0\",\" 2.9\",\" 0.0\",\" 7.9\"],[\" 116.0\",\" 60.0\",\" 2.9\",\" 0.0\",\" 7.9\"],[\" 198.0\",\" 100.0\",\" 14.0\",\" 0.0\",\" 15.0\"],[\" 449.0\",\" 130.0\",\" 31.0\",\" 0.0\",\" 12.0\"],[\" 291.0\",\" 130.0\",\" 29.0\",\" 0.0\",\" 17.0\"],[\" 127.0\",\" 40.0\",\" 4.9\",\" 0.0\",\" 6.5\"],[\" 94.0\",\" 40.0\",\" 3.4\",\" 0.0\",\" 6.7\"],[\" 61.0\",\" 40.0\",\" 3.0\",\" 0.0\",\" 7.2\"],[\" 330.0\",\" 130.0\",\" 32.0\",\" 0.0\",\" 13.0\"],[\" 210.0\",\" 80.0\",\" 32.0\",\" 0.0\",\" 8.0\"],[\" 178.0\",\" 130.0\",\" 21.5\",\" 0.0\",\" 13.4\"],[\" 110.0\",\" 80.0\",\" 13.0\",\" 0.0\",\" 8.5\"],[\" 188.0\",\" 100.0\",\" 24.0\",\" 0.0\",\" 13.0\"],[\" 188.0\",\" 100.0\",\" 24.0\",\" 0.0\",\" 13.0\"]],\"hovertemplate\":\"<b>%{hovertext}</b><br><br>Classification (Label)=POULTRY 1<br>Kcal =%{customdata[0]}<br>Serving Size =%{customdata[1]}<br>Carbohydrate =%{customdata[2]}<br>Sugars =%{customdata[3]}<br>Proteins =%{customdata[4]}<extra></extra>\",\"hovertext\":[\"Empanado de Frango Vegabom\",\"Fil\\u00e9 de Frango Empanado Vegabom\",\"Empanados de Frango Vegway\",\"Empanados Incr\\u00edveis Seara\",\"Empanados Sadia Veg e Tal\",\"Empanadinho de Soja  Goshen\",\"Empanadinho de Soja Vegano  Goshen\",\"Steak de Soja Vegano Goshen\",\"Empanado Vegano (Mini Crispy) 100 Foods\",\"Crispy Chicken 100 Foods\",\"Mini Empanado de Legumes Superbom\",\"Steak Vegan Sabor Legumes Superbom\",\"Steak Veg\\u00ea Sabor Frango\",\"Steak Veg\\u00ea Sabor Frango Empanado\"],\"legendgroup\":\"POULTRY 1\",\"marker\":{\"color\":\"#FF6692\",\"symbol\":\"circle\"},\"mode\":\"markers\",\"name\":\"POULTRY 1\",\"orientation\":\"v\",\"showlegend\":true,\"x\":[23.86967658996582,23.914871215820312,57.61882019042969,39.63593673706055,39.315242767333984,25.377777099609375,24.813934326171875,26.065532684326172,37.951663970947266,34.28645324707031,9.679438591003418,9.956958770751953,-33.39337921142578,-29.1636962890625],\"xaxis\":\"x\",\"y\":[1.6643004417419434,2.3450355529785156,24.443803787231445,-8.368566513061523,-8.356268882751465,15.726370811462402,12.459108352661133,16.809734344482422,-8.141879081726074,-4.47234582901001,6.727314472198486,6.499326229095459,14.30024528503418,11.259350776672363],\"yaxis\":\"y\",\"type\":\"scatter\"},{\"customdata\":[[\" 116.0\",\" 60.0\",\" 3.6\",\" 0.0\",\" 7.5\"],[\" 116.0\",\" 60.0\",\" 3.6\",\" 0.0\",\" 7.5\"],[\" 206.0\",\" 100.0\",\" 28.0\",\" 0.0\",\" 8.0\"],[\" 41.0\",\" 40.0\",\" 7.0\",\" 0.0\",\" 1.6\"],[\" 82.0\",\" 30.0\",\" 3.5\",\" 0.0\",\" 4.0\"]],\"hovertemplate\":\"<b>%{hovertext}</b><br><br>Classification (Label)=FISH 2<br>Kcal =%{customdata[0]}<br>Serving Size =%{customdata[1]}<br>Carbohydrate =%{customdata[2]}<br>Sugars =%{customdata[3]}<br>Proteins =%{customdata[4]}<extra></extra>\",\"hovertext\":[\"Fil\\u00e9 Peixe Empanado Vegabom\",\"Tirinhas de Peixe Empanado Vegabom\",\"Bolinho de Bacalhau New Butchers\",\"Bolinho de Siri Amazonika Mundi\",\"Camar\\u00e3o de Soja Vegano Goshen\"],\"legendgroup\":\"FISH 2\",\"marker\":{\"color\":\"#B6E880\",\"symbol\":\"circle\"},\"mode\":\"markers\",\"name\":\"FISH 2\",\"orientation\":\"v\",\"showlegend\":true,\"x\":[23.878376007080078,23.697874069213867,26.00602149963379,25.291065216064453,25.729761123657227],\"xaxis\":\"x\",\"y\":[1.480017066001892,1.8612511157989502,-12.800660133361816,-4.248561859130859,17.41287612915039],\"yaxis\":\"y\",\"type\":\"scatter\"},{\"customdata\":[[\" 124.0\",\" 50.0\",\" 5.1\",\" 0.0\",\" 0.0\"],[\" 124.0\",\" 50.0\",\" 5.1\",\" 0.0\",\" 0.0\"],[\" 124.0\",\" 50.0\",\" 5.1\",\" 0.0\",\" 0.0\"],[\" 31.0\",\" 10.0\",\" 0.6\",\" 0.0\",\" 0.3\"],[\" 25.0\",\" 10.0\",\" 0.7\",\" 0.0\",\" 0.3\"],[\" 29.0\",\" 10.0\",\" 0.7\",\" 0.0\",\" 0.3\"],[\" 30.0\",\" 10.0\",\" 0.7\",\" 0.0\",\" 0.3\"],[\" 178.0\",\" 100.0\",\" 8.7\",\" 0.0\",\" 8.4\"],[\" 178.0\",\" 100.0\",\" 8.7\",\" 0.0\",\" 8.4\"],[\" 280.0\",\" 100.0\",\" 23.3\",\" 0.0\",\" 3.0\"],[\" 170.0\",\" 100.0\",\" 6.0\",\" 0.0\",\" 4.7\"],[\" 170.0\",\" 100.0\",\" 6.0\",\" 0.0\",\" 4.7\"],[\" 82.0\",\" 30.0\",\" 2.7\",\" 0.0\",\" 1.5\"],[\" 83.0\",\" 30.0\",\" 2.9\",\" 0.0\",\" 1.5\"],[\" 95.0\",\" 30.0\",\" 9.1\",\" 0.0\",\" 2.0\"],[\" 89.0\",\" 30.0\",\" 8.2\",\" 0.0\",\" 1.9\"],[\" 93.0\",\" 30.0\",\" 8.8\",\" 0.0\",\" 1.9\"],[\" 83.0\",\" 30.0\",\" 2.3\",\" 0.0\",\" 1.6\"],[\" 83.0\",\" 30.0\",\" 2.3\",\" 0.0\",\" 1.6\"],[\" 83.0\",\" 30.0\",\" 2.3\",\" 0.0\",\" 1.6\"],[\" 581.0\",\" 100.0\",\" 30.2\",\" 0.0\",\" 18.2\"],[\" 581.0\",\" 100.0\",\" 30.2\",\" 0.0\",\" 18.2\"],[\" 59.0\",\" 30.0\",\" 2.0\",\" 0.0\",\" 0.9\"],[\" 43.0\",\" 30.0\",\" 1.2\",\" 0.0\",\" 0.8\"],[\" 100.0\",\" 30.0\",\" 5.4\",\" 0.0\",\" 2.9\"],[\" 43.0\",\" 30.0\",\" 1.2\",\" 0.0\",\" 0.8\"],[\" 394.0\",\" 100.0\",\" 23.0\",\" 0.0\",\" 13.0\"],[\" 30.0\",\" 12.0\",\" 3.0\",\" 0.0\",\" 0.7\"],[\" 62.8\",\" 20.0\",\" 3.6\",\" 0.0\",\" 2.0\"],[\" 57.1\",\" 20.0\",\" 3.4\",\" 0.0\",\" 1.9\"],[\" 68.4\",\" 20.0\",\" 3.8\",\" 0.0\",\" 2.1\"],[\" 62.8\",\" 20.0\",\" 3.6\",\" 0.0\",\" 2.0\"],[\" 89.0\",\" 30.0\",\" 6.4\",\" 0.0\",\" 0.0\"],[\" 72.0\",\" 30.0\",\" 2.9\",\" 0.0\",\" 1.0\"],[\" 58.0\",\" 30.0\",\" 3.5\",\" 0.0\",\" 1.0\"],[\" 71.0\",\" 30.0\",\" 2.8\",\" 0.0\",\" 0.9\"],[\" 78.0\",\" 30.0\",\" 3.4\",\" 0.0\",\" 1.0\"],[\" 76.0\",\" 30.0\",\" 3.4\",\" 0.0\",\" 0.9\"],[\" 36.0\",\" 15.0\",\" 1.0\",\" 0.0\",\" 0.3\"],[\" 38.0\",\" 10.0\",\" 0.8\",\" 0.0\",\" 0.3\"],[\" 51.0\",\" 15.0\",\" 3.8\",\" 0.0\",\" 0.7\"],[\" 36.0\",\" 15.0\",\" 1.2\",\" 0.0\",\" 0.4\"],[\" 47.0\",\" 15.0\",\" 2.8\",\" 0.0\",\" 0.1\"],[\" 47.0\",\" 15.0\",\" 2.8\",\" 0.0\",\" 0.1\"],[\" 49.0\",\" 15.0\",\" 3.1\",\" 0.0\",\" 0.1\"]],\"hovertemplate\":\"<b>%{hovertext}</b><br><br>Classification (Label)=DAIRY 3<br>Kcal =%{customdata[0]}<br>Serving Size =%{customdata[1]}<br>Carbohydrate =%{customdata[2]}<br>Sugars =%{customdata[3]}<br>Proteins =%{customdata[4]}<extra></extra>\",\"hovertext\":[\"Queijo Mu\\u00e7arela Vegabom\",\"Queijo Picante Vegabom\",\"Queijo Cheddar Vegabom\",\"Requeisoy Provolone \",\"Requeisoy Cheddar' \",\"Requeisoy Tradicional\",\"Requeisoy Gorgonzola\",\"Okeijo R\\u00fastico\",\"Okeijo Cremoso\",\"Okeijo Gratinado\",\"Okeijo Mussarela\",\"Okeijo Provolone\",\"Creme s Vida Veg\",\"Creme s fineherbs e Pesto\",\"Queijo mu\\u00e7arela\",\"Queijo minas frescal\",\"Queijo minas padr\\u00e3o\",\"Requeij\\u00e3o Tradicional\",\"Requeij\\u00e3o fineherbs\",\"Requeij\\u00e3o Defumado\",\"Queijo Zimurisku \",\"Queijo Zimurisku Temperado\",\"Queijo Mozarela NoMoo\",\"Queijo Provolone\",\"Queijo Ch\\u00e9vre\",\"Queijo Prato\",\"Queijo Parmes\\u00e3o\",\"Requeij\\u00e3o Nomoo\",\"Queijo Gorgolino\",\"Queijo Melhor Que Cheddar\",\"Queijo Recaishow\",\"Queijo Brie\",\"Mussarela Vegana Goshen\",\"Queijo ProVolone Veganita\",\"Queijo Munster Veganita\",\"Queijo Brie Veganita\",\"Queijo Mussarela Veganita\",\"Queijo Cheddar Veganita\",\"CREAM CHEESE CULIN\\u00c1RIO BASI.CO\",\"REQUEIJ\\u00c3O VEGETAL\",\"QUEIJO PARMES\\u00c3O\",\"QUEIJO MINAS VEGETAL\",\"QUEIJO PRATO\",\"QUEIJO MU\\u00c7ARELA\",\"QUEIJO CHEDDAR\"],\"legendgroup\":\"DAIRY 3\",\"marker\":{\"color\":\"#FF97FF\",\"symbol\":\"circle\"},\"mode\":\"markers\",\"name\":\"DAIRY 3\",\"orientation\":\"v\",\"showlegend\":true,\"x\":[6.151093482971191,7.962676048278809,6.888950347900391,10.084687232971191,8.74171257019043,10.164230346679688,9.657034873962402,9.155969619750977,17.72083854675293,5.1590752601623535,5.8682332038879395,7.027451038360596,-17.227401733398438,-17.555252075195312,-17.507965087890625,-17.546531677246094,-17.390039443969727,-16.121076583862305,-16.628259658813477,-17.312517166137695,-15.533187866210938,-13.621169090270996,-10.394774436950684,-10.33609390258789,-11.349515914916992,-10.892796516418457,-11.27254581451416,-10.941997528076172,-9.673250198364258,-12.990859031677246,-10.146315574645996,-13.059623718261719,-13.872401237487793,-10.590566635131836,-10.874262809753418,-11.203655242919922,-11.344833374023438,-11.076528549194336,-17.55899429321289,-18.84855842590332,-16.81801414489746,-18.782167434692383,-17.312854766845703,-16.79021453857422,-19.485017776489258],\"xaxis\":\"x\",\"y\":[-1.5071121454238892,-2.8409194946289062,-2.239001750946045,-4.8255743980407715,-3.7416739463806152,-5.389442443847656,-4.671907424926758,-0.353924423456192,-2.940800428390503,2.884178876876831,2.899247407913208,1.5296250581741333,-0.721415638923645,-0.5279991030693054,0.12762926518917084,-0.6061539649963379,-0.43827328085899353,-1.991235613822937,-1.4456483125686646,-0.8620766997337341,5.802789688110352,6.750822067260742,8.988986015319824,9.649407386779785,10.124473571777344,9.085626602172852,10.514848709106445,7.187565803527832,8.164627075195312,5.178678512573242,7.951898097991943,8.517677307128906,-0.21627141535282135,10.631085395812988,10.1683931350708,10.667534828186035,10.729521751403809,9.831061363220215,1.7959623336791992,0.7625027894973755,3.8670814037323,0.9287875890731812,0.7435197234153748,1.2354720830917358,0.8694552183151245],\"yaxis\":\"y\",\"type\":\"scatter\"},{\"customdata\":[[\" 146.0\",\" 90.0\",\" 12.1\",\" 0.0\",\" 11.9\"],[\" 327.0\",\" 240.0\",\" 41.0\",\" 0.0\",\" 11.0\"],[\" 317.0\",\" 100.0\",\" 17.0\",\" 0.0\",\" 13.0\"],[\" 153.0\",\" 100.0\",\" 12.0\",\" 0.0\",\" 6.0\"],[\" 138.0\",\" 100.0\",\" 19.0\",\" 0.0\",\" 2.0\"],[\" 304.0\",\" 300.0\",\" 19.0\",\" 0.0\",\" 21.0\"],[\" 440.0\",\" 130.0\",\" 31.0\",\" 0.0\",\" 12.0\"],[\" 166.0\",\" 80.0\",\" 7.1\",\" 0.0\",\" 12.0\"]],\"hovertemplate\":\"<b>%{hovertext}</b><br><br>Classification (Label)=FISH 1<br>Kcal =%{customdata[0]}<br>Serving Size =%{customdata[1]}<br>Carbohydrate =%{customdata[2]}<br>Sugars =%{customdata[3]}<br>Proteins =%{customdata[4]}<extra></extra>\",\"hovertext\":[\"Fil\\u00e9 de saltm\\u00e3o New Butchers\",\"Bacalhau New  Butchers\",\"Vegway Fish Fillet\",\"Vegway Fish Fillet\",\"Vegway Soy Scallop \",\"Bacalhau Incr\\u00edvel Seara\",\"Iscas de Peixe Incr\\u00edvel Seara\",\"Atum do Futuro\"],\"legendgroup\":\"FISH 1\",\"marker\":{\"color\":\"#FECB52\",\"symbol\":\"circle\"},\"mode\":\"markers\",\"name\":\"FISH 1\",\"orientation\":\"v\",\"showlegend\":true,\"x\":[26.061647415161133,28.402875900268555,56.15037155151367,56.059959411621094,56.39453887939453,44.391319274902344,37.77989959716797,28.284435272216797],\"xaxis\":\"x\",\"y\":[-14.319682121276855,-8.510380744934082,24.98575782775879,25.23870849609375,24.781625747680664,-10.61555004119873,-7.337535381317139,-2.013340711593628],\"yaxis\":\"y\",\"type\":\"scatter\"},{\"customdata\":[[\" 78.0\",\" 40.0\",\" 3.9\",\" 0.0\",\" 7.4\"],[\" 185.0\",\" 60.0\",\" 31.0\",\" 0.0\",\" 1.1\"],[\" 34.0\",\" 20.0\",\" 0.2\",\" 0.0\",\" 3.4\"],[\" 75.0\",\" 40.0\",\" 3.6\",\" 0.0\",\" 7.6\"],[\" 35.0\",\" 20.0\",\" 0.4\",\" 0.0\",\" 3.9\"],[\" 476.0\",\" 100.0\",\" 14.0\",\" 0.0\",\" 42.0\"]],\"hovertemplate\":\"<b>%{hovertext}</b><br><br>Classification (Label)=PORK 2<br>Kcal =%{customdata[0]}<br>Serving Size =%{customdata[1]}<br>Carbohydrate =%{customdata[2]}<br>Sugars =%{customdata[3]}<br>Proteins =%{customdata[4]}<extra></extra>\",\"hovertext\":[\"Vegway Soy Ham \",\"Bacon Vegano\",\"Mortadela de Soja Vegana Goshen\",\"Presunto de Soja Defumado\",\"Presunto de Soja Vegano Fatiado Goshen\",\"Bacon Crispy Verdali\"],\"legendgroup\":\"PORK 2\",\"marker\":{\"color\":\"rgb(127, 60, 141)\",\"symbol\":\"circle\"},\"mode\":\"markers\",\"name\":\"PORK 2\",\"orientation\":\"v\",\"showlegend\":true,\"x\":[55.67931365966797,0.23586121201515198,26.25591468811035,24.025714874267578,25.872087478637695,30.127901077270508],\"xaxis\":\"x\",\"y\":[24.933183670043945,4.004735946655273,19.074039459228516,14.848548889160156,19.665454864501953,1.2385212182998657],\"yaxis\":\"y\",\"type\":\"scatter\"},{\"customdata\":[[\" 92.0\",\" 250.0\",\" 3.7\",\" 2.0\",\" 3.2\"],[\" 60.0\",\" 250.0\",\" 3.4\",\" 2.0\",\" 3.2\"],[\" 68.0\",\" 200.0\",\" 0.9\",\" 0.0\",\" 3.0\"],[\" 53.0\",\" 200.0\",\" 0.0\",\" 0.0\",\" 3.0\"],[\" 70.0\",\" 200.0\",\" 1.0\",\" 0.0\",\" 3.0\"],[\" 88.0\",\" 200.0\",\" 4.0\",\" 0.0\",\" 3.0\"],[\" 58.0\",\" 200.0\",\" 0.8\",\" 0.0\",\" 3.0\"],[\" 108.0\",\" 200.0\",\" 13.0\",\" 0.0\",\" 1.1\"],[\" 145.0\",\" 200.0\",\" 18.0\",\" 0.0\",\" 1.5\"],[\" 117.0\",\" 200.0\",\" 27.0\",\" 10.0\",\" 0.0\"],[\" 111.0\",\" 200.0\",\" 20.0\",\" 9.4\",\" 0.0\"],[\" 117.0\",\" 200.0\",\" 27.0\",\" 10.0\",\" 1.0\"],[\" 145.0\",\" 200.0\",\" 18.0\",\" 0.0\",\" 1.5\"],[\" 117.0\",\" 200.0\",\" 27.0\",\" 10.0\",\" 0.0\"],[\" 134.0\",\" 200.0\",\" 27.0\",\" 10.0\",\" 4.6\"],[\" 72.0\",\" 200.0\",\" 11.0\",\" 8.9\",\" 1.1\"],[\" 113.0\",\" 200.0\",\" 7.5\",\" 6.7\",\" 7.0\"],[\" 79.0\",\" 200.0\",\" 12.0\",\" 10.0\",\" 1.2\"],[\" 91.0\",\" 200.0\",\" 15.0\",\" 10.0\",\" 1.1\"],[\" 84.0\",\" 200.0\",\" 16.0\",\" 9.4\",\" 2.0\"],[\" 104.0\",\" 260.0\",\" 20.0\",\" 12.0\",\" 3.0\"],[\" 79.0\",\" 25.0\",\" 8.6\",\" 3.1\",\" 7.3\"],[\" 73.0\",\" 25.0\",\" 11.0\",\" 3.2\",\" 5.0\"],[\" 120.0\",\" 200.0\",\" 15.0\",\" 11.0\",\" 4.8\"],[\" 97.0\",\" 200.0\",\" 8.4\",\" 5.9\",\" 2.3\"],[\" 66.0\",\" 200.0\",\" 10.0\",\" 7.3\",\" 2.7\"],[\" 99.0\",\" 200.0\",\" 16.0\",\" 11.5\",\" 4.1\"],[\" 104.0\",\" 200.0\",\" 18.0\",\" 12.6\",\" 3.6\"],[\" 82.0\",\" 200.0\",\" 14.0\",\" 8.8\",\" 3.3\"],[\" 97.0\",\" 200.0\",\" 8.4\",\" 5.9\",\" 2.3\"],[\" 51.0\",\" 200.0\",\" 6.3\",\" 6.3\",\" 0.9\"],[\" 98.0\",\" 200.0\",\" 17.0\",\" 17.0\",\" 1.3\"],[\" 70.0\",\" 200.0\",\" 11.0\",\" 11.0\",\" 0.9\"],[\" 30.0\",\" 200.0\",\" 0.9\",\" 0.9\",\" 0.9\"],[\" 58.0\",\" 200.0\",\" 8.5\",\" 0.0\",\" 0.9\"],[\" 44.0\",\" 250.0\",\" 1.4\",\" 1.4\",\" 1.6\"],[\" 21.0\",\" 200.0\",\" 4.7\",\" 0.0\",\" 1.0\"],[\" 48.0\",\" 200.0\",\" 6.8\",\" 4.0\",\" 6.8\"],[\" 59.0\",\" 200.0\",\" 7.5\",\" 0.0\",\" 0.9\"],[\" 84.0\",\" 200.0\",\" 15.0\",\" 0.0\",\" 1.2\"],[\" 55.0\",\" 200.0\",\" 4.7\",\" 0.0\",\" 0.0\"],[\" 74.0\",\" 200.0\",\" 15.0\",\" 0.0\",\" 0.0\"],[\" 74.0\",\" 200.0\",\" 15.0\",\" 0.0\",\" 0.0\"],[\" 74.0\",\" 200.0\",\" 15.0\",\" 0.0\",\" 0.0\"],[\" 74.0\",\" 200.0\",\" 15.0\",\" 0.0\",\" 0.0\"],[\" 74.0\",\" 200.0\",\" 15.0\",\" 0.0\",\" 0.0\"],[\" 74.0\",\" 200.0\",\" 15.0\",\" 0.0\",\" 0.0\"],[\" 74.0\",\" 200.0\",\" 15.0\",\" 0.0\",\" 0.0\"],[\" 114.0\",\" 30.0\",\" 25.0\",\" 0.0\",\" 2.0\"],[\" 114.0\",\" 30.0\",\" 25.0\",\" 0.0\",\" 2.0\"],[\" 114.0\",\" 30.0\",\" 25.0\",\" 0.0\",\" 2.0\"],[\" 114.0\",\" 30.0\",\" 25.0\",\" 0.0\",\" 2.0\"],[\" 114.0\",\" 30.0\",\" 25.0\",\" 0.0\",\" 2.0\"],[\" 78.0\",\" 200.0\",\" 8.5\",\" 2.8\",\" 2.4\"],[\" 90.0\",\" 200.0\",\" 3.0\",\" 0.9\",\" 3.0\"],[\" 80.0\",\" 200.0\",\" 3.1\",\" 0.8\",\" 2.0\"],[\" 57.0\",\" 200.0\",\" 1.7\",\" 0.4\",\" 1.9\"],[\" 150.0\",\" 200.0\",\" 18.0\",\" 0.0\",\" 3.0\"],[\" 75.0\",\" 200.0\",\" 16.0\",\" 6.3\",\" 0.0\"],[\" 100.0\",\" 200.0\",\" 2.3\",\" 0.8\",\" 7.0\"],[\" 80.0\",\" 200.0\",\" 3.3\",\" 0.9\",\" 2.1\"],[\" 109.0\",\" 200.0\",\" 3.1\",\" 0.1\",\" 5.4\"],[\" 29.0\",\" 200.0\",\" 0.7\",\" 0.0\",\" 0.7\"],[\" 36.0\",\" 200.0\",\" 1.3\",\" 0.0\",\" 1.3\"],[\" 23.0\",\" 200.0\",\" 4.0\",\" 0.0\",\" 0.8\"],[\" 82.0\",\" 200.0\",\" 2.2\",\" 0.4\",\" 1.6\"],[\" 106.0\",\" 200.0\",\" 3.0\",\" 0.5\",\" 3.0\"],[\" 86.0\",\" 200.0\",\" 3.0\",\" 0.5\",\" 3.0\"],[\" 41.0\",\" 200.0\",\" 5.0\",\" 4.2\",\" 0.8\"],[\" 80.0\",\" 200.0\",\" 12.0\",\" 9.3\",\" 1.5\"],[\" 26.0\",\" 200.0\",\" 1.0\",\" 0.3\",\" 0.7\"],[\" 27.0\",\" 200.0\",\" 1.0\",\" 0.2\",\" 0.8\"],[\" 71.0\",\" 200.0\",\" 11.0\",\" 8.9\",\" 1.1\"],[\" 99.0\",\" 200.0\",\" 14.0\",\" 9.6\",\" 2.2\"],[\" 106.0\",\" 200.0\",\" 19.0\",\" 17.0\",\" 2.2\"],[\" 93.0\",\" 200.0\",\" 16.0\",\" 8.9\",\" 1.1\"],[\" 95.0\",\" 200.0\",\" 12.0\",\" 0.0\",\" 5.4\"],[\" 123.0\",\" 200.0\",\" 4.8\",\" 0.0\",\" 5.1\"],[\" 108.0\",\" 200.0\",\" 5.4\",\" 0.0\",\" 3.8\"],[\" 84.0\",\" 200.0\",\" 3.9\",\" 0.0\",\" 2.8\"]],\"hovertemplate\":\"<b>%{hovertext}</b><br><br>Classification (Label)=DAIRY 1<br>Kcal =%{customdata[0]}<br>Serving Size =%{customdata[1]}<br>Carbohydrate =%{customdata[2]}<br>Sugars =%{customdata[3]}<br>Proteins =%{customdata[4]}<extra></extra>\",\"hovertext\":[\"Not Milk \",\"Not Milk Semidesnatado\",\" Vegetal de almonds\",\" vegetal \",\" Vegetal de almonds Fresco\",\" Vegetal  de Caj\\u00fa Fresco\",\" Vegetal  Fresco\",\" Vegetal Noats Original\",\" Vegetal Noats Barista\",\" Jasmine rice em P\\u00f3\",\" BIOV jasmine rice com amendoas\",\" BIOV jasmine rice com coco\",\" BioV oats Jasmine\",\" Jasmine rice \",\" Jasmine rice com oats\",\"Bebida de rice Nesfit\",\"Bebida Natural Nesfit\",\"Bebida de rice  e Amendoas Nesfit\",\"Bebida de rice e Coco Nesfit\",\"Bebida de oats Nesfit\",\"Bebida de oats e cocoa\",\"Molico Vegetal Nestl\\u00e9\",\"Ninho Vegetal Nestl\\u00e9\",\"Ninho Banana e apple Nestl\\u00e9\",\"Nude Edi\\u00e7\\u00e3o Barista\",\"Nude Original \",\"Nude Sabor Baunilha\",\"Nude de cocoa\",\"Nude + calcium\",\"Nude Barista\",\"Almond Breeze Original\",\"Almond Breeze Chocolate\",\"Almond Breeze Baunilha\",\"Almond Breeze Sem sugar\",\"Almond Breeze Amendoas com Coco\",\"Almond Breeze Chocolate Sem sugar\",\" de Amendoas Silk Sem sugar\",\" de Amendoas Silk \",\" cashews Silk\",\" de almonds e cocoa Silk\",\" de almonds Silk Coco\",\"Bebida de rice L\\u00edquida Sabor Original\",\"Bebida de rice L\\u00edquida Sabor almonds\",\"Bebida de rice L\\u00edquida Sabor peanuts\\n\",\"Bebida de rice L\\u00edquida Sabor cashews\",\"Bebida de rice L\\u00edquida Sabor Chocolate\",\"Bebida de rice L\\u00edquida Sabor Coco\",\"Bebida de rice L\\u00edquida Sabor Baunilha\",\"Bebida de rice Em P\\u00f3 Sabor Original\",\"Bebida de rice Em P\\u00f3 Sabor Original\",\"Bebida de rice Em P\\u00f3 Sabor Banana e apple\",\"Bebida de rice Em P\\u00f3 Sabor Chocolate\",\"Bebida de rice Em P\\u00f3 Sabor strawberries\",\" a tal da castanha barista\",\" a tal da castanha original\",\" a tal da castanha caju + Coco\",\" a tal da castanha almonds\",\" a tal da castanha castanha + cocoa\",\" a tal da castanha oats\",\" a tal da castanha mixed nuts\",\" a tal da castanha caju + Par\\u00e1\",\" a tal da castanha caju + peanuts\",\" Natuterra oats + Coco\",\" de almonds Natuterra\",\" Natuterra oats \",\" Vegetal 3 Nuts \\u2013 macadamianuts, almonds e cashews\",\" Vegetal de macadamianuts e Coco\",\" Vegetal de macadamianuts e cashews\",\" Vegetal Possible Foods\",\" Vegetal Possible Foods Chocolate\",\"Bebida de castanh de caj\\u00fa sem adi\\u00e7\\u00e3o de sugar nature's heart\",\"Bebida de almonds s/ adi\\u00e7\\u00e3o de sugares 1L \\u2013 Nature\\u2019s Heart\",\"Bebida de rice s/ adi\\u00e7\\u00e3o de sugares 1L \\u2013 Nature\\u2019s Heart\",\"Bebida de oats s/ adi\\u00e7\\u00e3o de sugares 1L \\u2013 Nature\\u2019s Heart\",\"Bebida de cocoa & rice 1L \\u2013 Nature\\u2019s Heart\",\"Bebida  & rice s/ adi\\u00e7\\u00e3o de sugares 1L \\u2013 Nature\\u2019s Heart\",\" Vegetal de soy Naturis Batavo\",\" DUOLAT peanuts E CASTANHA 1L - CAJUEIRO\",\" 85 CASTANHAS 1L - CAJUEIRO\",\" TOASTED 1L - CAJUEIRO\"],\"legendgroup\":\"DAIRY 1\",\"marker\":{\"color\":\"rgb(17, 165, 121)\",\"symbol\":\"circle\"},\"mode\":\"markers\",\"name\":\"DAIRY 1\",\"orientation\":\"v\",\"showlegend\":true,\"x\":[-22.205427169799805,-21.5051212310791,-22.690893173217773,-22.799222946166992,-22.28802490234375,-23.96614646911621,-20.7357234954834,-63.62903594970703,-60.62788772583008,-30.887678146362305,-72.82359313964844,-31.728151321411133,-53.27048873901367,-31.637948989868164,-32.906490325927734,-30.164688110351562,-32.68097686767578,-31.10866928100586,-30.750391006469727,-31.60334014892578,-31.376070022583008,-35.78984069824219,-35.06597900390625,-34.14664077758789,-31.89017677307129,-60.26904296875,-64.54122924804688,-62.61211395263672,-63.08224105834961,-31.97336769104004,-35.34018325805664,-35.73578643798828,-35.35790252685547,-35.14033126831055,-34.73072052001953,-35.96292495727539,-30.914697647094727,-31.90337562561035,-30.678424835205078,-29.42227554321289,-31.490089416503906,-28.846906661987305,-28.09342384338379,-27.608041763305664,-27.246192932128906,-27.409805297851562,-28.256895065307617,-28.22888946533203,-34.092002868652344,-33.673221588134766,-30.897037506103516,-30.75693702697754,-31.370771408081055,-68.58870697021484,-75.03992462158203,-81.61860656738281,-74.755126953125,-81.77783203125,-74.33704376220703,-70.0341796875,-81.64508819580078,-82.13987731933594,-23.881357192993164,-25.935869216918945,-27.968229293823242,-82.7394027709961,-80.75933074951172,-83.093505859375,-31.22487449645996,-31.476943969726562,-32.09296417236328,-32.72343063354492,-30.22339630126953,-31.762611389160156,-31.44171905517578,-30.930458068847656,-29.66299819946289,-81.8321304321289,-76.29301452636719,-76.94400024414062],\"xaxis\":\"x\",\"y\":[-14.888687133789062,-15.066192626953125,-18.348020553588867,-18.1810302734375,-17.137426376342773,-15.102907180786133,-18.06538963317871,-9.592790603637695,-9.847620010375977,0.10649887472391129,-8.588775634765625,0.5699641704559326,-9.479279518127441,1.613272786140442,0.11995724588632584,-3.4272589683532715,-4.947126388549805,-3.971454620361328,-3.4805216789245605,-2.8913612365722656,-2.912613868713379,6.340285778045654,3.7409281730651855,-3.101123332977295,-11.279011726379395,-9.693587303161621,-9.785982131958008,-9.779869079589844,-9.74614429473877,-12.62508487701416,-12.359770774841309,-12.147486686706543,-11.495879173278809,-11.16989803314209,-11.511557579040527,-12.030374526977539,-12.602588653564453,-12.303275108337402,-13.372337341308594,-14.980236053466797,-13.650337219238281,-2.840096950531006,-4.088037014007568,-3.171515703201294,-3.3426005840301514,-3.4503328800201416,-3.6130032539367676,-4.033565044403076,10.973779678344727,10.696820259094238,3.8748393058776855,3.2461702823638916,4.439526557922363,-8.867053985595703,-7.475675582885742,-8.310770988464355,-6.218337535858154,-8.276923179626465,-8.428876876831055,-7.788259029388428,-8.248357772827148,-8.521512985229492,-16.546419143676758,-15.754718780517578,-15.318096160888672,-8.663215637207031,-8.014203071594238,-8.534300804138184,-10.275405883789062,-10.977869987487793,-6.388982772827148,-7.173665523529053,-4.543234348297119,-5.518750190734863,-5.093635559082031,-5.364284992218018,-13.06724739074707,-8.318642616271973,-6.365933418273926,-6.2436747550964355],\"yaxis\":\"y\",\"type\":\"scatter\"},{\"customdata\":[[\" 142.0\",\" 200.0\",\" 22.0\",\" 0.0\",\" 0.8\"],[\" 149.0\",\" 200.0\",\" 24.0\",\" 0.0\",\" 0.8\"],[\" 149.0\",\" 200.0\",\" 24.0\",\" 0.0\",\" 0.8\"],[\" 92.0\",\" 200.0\",\" 6.4\",\" 0.0\",\" 0.9\"],[\" 100.0\",\" 200.0\",\" 8.2\",\" 0.0\",\" 1.0\"],[\" 145.0\",\" 150.0\",\" 20.0\",\" 0.0\",\" 1.0\"],[\" 148.0\",\" 150.0\",\" 21.0\",\" 0.0\",\" 1.0\"],[\" 156.0\",\" 250.0\",\" 11.7\",\" 0.0\",\" 14.0\"],[\" 123.0\",\" 250.0\",\" 11.0\",\" 0.0\",\" 10.0\"],[\" 152.0\",\" 250.0\",\" 11.0\",\" 0.0\",\" 14.0\"],[\" 27.0\",\" 15.0\",\" 0.0\",\" 0.0\",\" 0.0\"]],\"hovertemplate\":\"<b>%{hovertext}</b><br><br>Classification (Label)=DAIRY 2<br>Kcal =%{customdata[0]}<br>Serving Size =%{customdata[1]}<br>Carbohydrate =%{customdata[2]}<br>Sugars =%{customdata[3]}<br>Proteins =%{customdata[4]}<extra></extra>\",\"hovertext\":[\"Iogurte \",\"Iogurte  com strawberries\",\"Iogurte  com banana, apple e papaya\",\"Iogurte  Zero sugar\",\"Iogurte  com strawberries Zero sugar\",\"Iogurte GregoVeg \",\"Iogurte GregoVeg  com strawberries\",\"Iogurte Proteico 14g sabor strawberries\",\"Shake \",\"Iogurte Proteico 14g sabor  peanuts\",\"Creme de almonds\"],\"legendgroup\":\"DAIRY 2\",\"marker\":{\"color\":\"rgb(57, 105, 172)\",\"symbol\":\"circle\"},\"mode\":\"markers\",\"name\":\"DAIRY 2\",\"orientation\":\"v\",\"showlegend\":true,\"x\":[-13.15565299987793,-12.497136116027832,-11.961240768432617,-12.280678749084473,-12.658616065979004,-14.908163070678711,-10.401336669921875,-15.413800239562988,-22.998300552368164,-14.527301788330078,-33.817909240722656],\"xaxis\":\"x\",\"y\":[-13.860963821411133,-15.893741607666016,-15.825662612915039,-14.465563774108887,-14.09087085723877,-13.79462718963623,-14.763127326965332,-18.58127212524414,-17.148664474487305,-18.754955291748047,7.653278350830078],\"yaxis\":\"y\",\"type\":\"scatter\"},{\"customdata\":[[\" 28.0\",\" 12.0\",\" 1.4\",\" 0.0\",\" 2.5\"],[\" 20.0\",\" 12.0\",\" 0.0\",\" 0.0\",\" 0.0\"],[\" 70.0\",\" 12.0\",\" 0.0\",\" 0.0\",\" 0.0\"],[\" 71.0\",\" 12.0\",\" 0.6\",\" 0.0\",\" 0.0\"],[\" 57.0\",\" 12.0\",\" 0.6\",\" 0.0\",\" 0.0\"],[\" 56.0\",\" 12.0\",\" 0.6\",\" 0.0\",\" 0.0\"],[\" 33.0\",\" 12.0\",\" 0.6\",\" 0.0\",\" 0.4\"],[\" 33.0\",\" 12.0\",\" 0.6\",\" 0.0\",\" 0.4\"],[\" 33.0\",\" 12.0\",\" 0.6\",\" 0.0\",\" 0.4\"],[\" 33.0\",\" 12.0\",\" 0.6\",\" 0.0\",\" 0.4\"],[\" 33.0\",\" 12.0\",\" 0.6\",\" 0.0\",\" 0.4\"],[\" 25.0\",\" 12.0\",\" 0.0\",\" 0.0\",\" 0.0\"],[\" 21.0\",\" 12.0\",\" 0.0\",\" 0.0\",\" 0.0\"],[\" 84.0\",\" 40.0\",\" 5.2\",\" 0.0\",\" 0.5\"]],\"hovertemplate\":\"<b>%{hovertext}</b><br><br>Classification (Label)=EGG 1<br>Kcal =%{customdata[0]}<br>Serving Size =%{customdata[1]}<br>Carbohydrate =%{customdata[2]}<br>Sugars =%{customdata[3]}<br>Proteins =%{customdata[4]}<extra></extra>\",\"hovertext\":[\"MAIONESE VEGETAL SUPERBOM\",\"MAIONESE FUGINI\",\"NOT MAYO\",\"NOT MAYO garlic\",\"NOT MAYO AZEITONA\",\"NOT MAYO PICANTE\",\"MAIONESE V-MAYO\",\"MAIONESE V-MAYO ApepperDA\",\"MAIONESE V-MAYO TRUFADA\",\"MAIONESE V-MAYO DE ABACATE\",\"MAIONESE V-MAYO DE garlic\",\"MAIONESE HELLMANS\",\"MAIONESE VEGANA FUGINI\",\"MAIONESE DEL\\u00cdCIAS DE GOI\\u00c1S\"],\"legendgroup\":\"EGG 1\",\"marker\":{\"color\":\"rgb(242, 183, 1)\",\"symbol\":\"circle\"},\"mode\":\"markers\",\"name\":\"EGG 1\",\"orientation\":\"v\",\"showlegend\":true,\"x\":[13.717171669006348,5.287350654602051,14.174545288085938,15.727835655212402,14.558584213256836,15.742650032043457,20.71651840209961,20.90981101989746,20.695138931274414,20.44071388244629,20.76161003112793,15.374699592590332,15.876138687133789,4.761653423309326],\"xaxis\":\"x\",\"y\":[-6.238334655761719,-8.237366676330566,-5.527067184448242,-6.429254055023193,-5.2517991065979,-6.842741966247559,-11.062530517578125,-11.054409980773926,-11.19998836517334,-11.008333206176758,-10.78515911102295,-6.278280258178711,-8.896008491516113,1.8316738605499268],\"yaxis\":\"y\",\"type\":\"scatter\"},{\"customdata\":[[\" 25.0\",\" 10.0\",\" 3.3\",\" 0.0\",\" 4.1\"],[\" 28.0\",\" 7.0\",\" 1.2\",\" 0.0\",\" 3.1\"]],\"hovertemplate\":\"<b>%{hovertext}</b><br><br>Classification (Label)=EGG 2<br>Kcal =%{customdata[0]}<br>Serving Size =%{customdata[1]}<br>Carbohydrate =%{customdata[2]}<br>Sugars =%{customdata[3]}<br>Proteins =%{customdata[4]}<extra></extra>\",\"hovertext\":[\"Ovos Novos\",\"Ovos Novos\"],\"legendgroup\":\"EGG 2\",\"marker\":{\"color\":\"rgb(231, 63, 116)\",\"symbol\":\"circle\"},\"mode\":\"markers\",\"name\":\"EGG 2\",\"orientation\":\"v\",\"showlegend\":true,\"x\":[-40.28672409057617,-41.3173713684082],\"xaxis\":\"x\",\"y\":[17.285381317138672,18.979934692382812],\"yaxis\":\"y\",\"type\":\"scatter\"}],                        {\"template\":{\"data\":{\"barpolar\":[{\"marker\":{\"line\":{\"color\":\"white\",\"width\":0.5},\"pattern\":{\"fillmode\":\"overlay\",\"size\":10,\"solidity\":0.2}},\"type\":\"barpolar\"}],\"bar\":[{\"error_x\":{\"color\":\"rgb(36,36,36)\"},\"error_y\":{\"color\":\"rgb(36,36,36)\"},\"marker\":{\"line\":{\"color\":\"white\",\"width\":0.5},\"pattern\":{\"fillmode\":\"overlay\",\"size\":10,\"solidity\":0.2}},\"type\":\"bar\"}],\"carpet\":[{\"aaxis\":{\"endlinecolor\":\"rgb(36,36,36)\",\"gridcolor\":\"white\",\"linecolor\":\"white\",\"minorgridcolor\":\"white\",\"startlinecolor\":\"rgb(36,36,36)\"},\"baxis\":{\"endlinecolor\":\"rgb(36,36,36)\",\"gridcolor\":\"white\",\"linecolor\":\"white\",\"minorgridcolor\":\"white\",\"startlinecolor\":\"rgb(36,36,36)\"},\"type\":\"carpet\"}],\"choropleth\":[{\"colorbar\":{\"outlinewidth\":1,\"tickcolor\":\"rgb(36,36,36)\",\"ticks\":\"outside\"},\"type\":\"choropleth\"}],\"contourcarpet\":[{\"colorbar\":{\"outlinewidth\":1,\"tickcolor\":\"rgb(36,36,36)\",\"ticks\":\"outside\"},\"type\":\"contourcarpet\"}],\"contour\":[{\"colorbar\":{\"outlinewidth\":1,\"tickcolor\":\"rgb(36,36,36)\",\"ticks\":\"outside\"},\"colorscale\":[[0.0,\"#440154\"],[0.1111111111111111,\"#482878\"],[0.2222222222222222,\"#3e4989\"],[0.3333333333333333,\"#31688e\"],[0.4444444444444444,\"#26828e\"],[0.5555555555555556,\"#1f9e89\"],[0.6666666666666666,\"#35b779\"],[0.7777777777777778,\"#6ece58\"],[0.8888888888888888,\"#b5de2b\"],[1.0,\"#fde725\"]],\"type\":\"contour\"}],\"heatmapgl\":[{\"colorbar\":{\"outlinewidth\":1,\"tickcolor\":\"rgb(36,36,36)\",\"ticks\":\"outside\"},\"colorscale\":[[0.0,\"#440154\"],[0.1111111111111111,\"#482878\"],[0.2222222222222222,\"#3e4989\"],[0.3333333333333333,\"#31688e\"],[0.4444444444444444,\"#26828e\"],[0.5555555555555556,\"#1f9e89\"],[0.6666666666666666,\"#35b779\"],[0.7777777777777778,\"#6ece58\"],[0.8888888888888888,\"#b5de2b\"],[1.0,\"#fde725\"]],\"type\":\"heatmapgl\"}],\"heatmap\":[{\"colorbar\":{\"outlinewidth\":1,\"tickcolor\":\"rgb(36,36,36)\",\"ticks\":\"outside\"},\"colorscale\":[[0.0,\"#440154\"],[0.1111111111111111,\"#482878\"],[0.2222222222222222,\"#3e4989\"],[0.3333333333333333,\"#31688e\"],[0.4444444444444444,\"#26828e\"],[0.5555555555555556,\"#1f9e89\"],[0.6666666666666666,\"#35b779\"],[0.7777777777777778,\"#6ece58\"],[0.8888888888888888,\"#b5de2b\"],[1.0,\"#fde725\"]],\"type\":\"heatmap\"}],\"histogram2dcontour\":[{\"colorbar\":{\"outlinewidth\":1,\"tickcolor\":\"rgb(36,36,36)\",\"ticks\":\"outside\"},\"colorscale\":[[0.0,\"#440154\"],[0.1111111111111111,\"#482878\"],[0.2222222222222222,\"#3e4989\"],[0.3333333333333333,\"#31688e\"],[0.4444444444444444,\"#26828e\"],[0.5555555555555556,\"#1f9e89\"],[0.6666666666666666,\"#35b779\"],[0.7777777777777778,\"#6ece58\"],[0.8888888888888888,\"#b5de2b\"],[1.0,\"#fde725\"]],\"type\":\"histogram2dcontour\"}],\"histogram2d\":[{\"colorbar\":{\"outlinewidth\":1,\"tickcolor\":\"rgb(36,36,36)\",\"ticks\":\"outside\"},\"colorscale\":[[0.0,\"#440154\"],[0.1111111111111111,\"#482878\"],[0.2222222222222222,\"#3e4989\"],[0.3333333333333333,\"#31688e\"],[0.4444444444444444,\"#26828e\"],[0.5555555555555556,\"#1f9e89\"],[0.6666666666666666,\"#35b779\"],[0.7777777777777778,\"#6ece58\"],[0.8888888888888888,\"#b5de2b\"],[1.0,\"#fde725\"]],\"type\":\"histogram2d\"}],\"histogram\":[{\"marker\":{\"line\":{\"color\":\"white\",\"width\":0.6}},\"type\":\"histogram\"}],\"mesh3d\":[{\"colorbar\":{\"outlinewidth\":1,\"tickcolor\":\"rgb(36,36,36)\",\"ticks\":\"outside\"},\"type\":\"mesh3d\"}],\"parcoords\":[{\"line\":{\"colorbar\":{\"outlinewidth\":1,\"tickcolor\":\"rgb(36,36,36)\",\"ticks\":\"outside\"}},\"type\":\"parcoords\"}],\"pie\":[{\"automargin\":true,\"type\":\"pie\"}],\"scatter3d\":[{\"line\":{\"colorbar\":{\"outlinewidth\":1,\"tickcolor\":\"rgb(36,36,36)\",\"ticks\":\"outside\"}},\"marker\":{\"colorbar\":{\"outlinewidth\":1,\"tickcolor\":\"rgb(36,36,36)\",\"ticks\":\"outside\"}},\"type\":\"scatter3d\"}],\"scattercarpet\":[{\"marker\":{\"colorbar\":{\"outlinewidth\":1,\"tickcolor\":\"rgb(36,36,36)\",\"ticks\":\"outside\"}},\"type\":\"scattercarpet\"}],\"scattergeo\":[{\"marker\":{\"colorbar\":{\"outlinewidth\":1,\"tickcolor\":\"rgb(36,36,36)\",\"ticks\":\"outside\"}},\"type\":\"scattergeo\"}],\"scattergl\":[{\"marker\":{\"colorbar\":{\"outlinewidth\":1,\"tickcolor\":\"rgb(36,36,36)\",\"ticks\":\"outside\"}},\"type\":\"scattergl\"}],\"scattermapbox\":[{\"marker\":{\"colorbar\":{\"outlinewidth\":1,\"tickcolor\":\"rgb(36,36,36)\",\"ticks\":\"outside\"}},\"type\":\"scattermapbox\"}],\"scatterpolargl\":[{\"marker\":{\"colorbar\":{\"outlinewidth\":1,\"tickcolor\":\"rgb(36,36,36)\",\"ticks\":\"outside\"}},\"type\":\"scatterpolargl\"}],\"scatterpolar\":[{\"marker\":{\"colorbar\":{\"outlinewidth\":1,\"tickcolor\":\"rgb(36,36,36)\",\"ticks\":\"outside\"}},\"type\":\"scatterpolar\"}],\"scatter\":[{\"marker\":{\"colorbar\":{\"outlinewidth\":1,\"tickcolor\":\"rgb(36,36,36)\",\"ticks\":\"outside\"}},\"type\":\"scatter\"}],\"scatterternary\":[{\"marker\":{\"colorbar\":{\"outlinewidth\":1,\"tickcolor\":\"rgb(36,36,36)\",\"ticks\":\"outside\"}},\"type\":\"scatterternary\"}],\"surface\":[{\"colorbar\":{\"outlinewidth\":1,\"tickcolor\":\"rgb(36,36,36)\",\"ticks\":\"outside\"},\"colorscale\":[[0.0,\"#440154\"],[0.1111111111111111,\"#482878\"],[0.2222222222222222,\"#3e4989\"],[0.3333333333333333,\"#31688e\"],[0.4444444444444444,\"#26828e\"],[0.5555555555555556,\"#1f9e89\"],[0.6666666666666666,\"#35b779\"],[0.7777777777777778,\"#6ece58\"],[0.8888888888888888,\"#b5de2b\"],[1.0,\"#fde725\"]],\"type\":\"surface\"}],\"table\":[{\"cells\":{\"fill\":{\"color\":\"rgb(237,237,237)\"},\"line\":{\"color\":\"white\"}},\"header\":{\"fill\":{\"color\":\"rgb(217,217,217)\"},\"line\":{\"color\":\"white\"}},\"type\":\"table\"}]},\"layout\":{\"annotationdefaults\":{\"arrowhead\":0,\"arrowwidth\":1},\"autotypenumbers\":\"strict\",\"coloraxis\":{\"colorbar\":{\"outlinewidth\":1,\"tickcolor\":\"rgb(36,36,36)\",\"ticks\":\"outside\"}},\"colorscale\":{\"diverging\":[[0.0,\"rgb(103,0,31)\"],[0.1,\"rgb(178,24,43)\"],[0.2,\"rgb(214,96,77)\"],[0.3,\"rgb(244,165,130)\"],[0.4,\"rgb(253,219,199)\"],[0.5,\"rgb(247,247,247)\"],[0.6,\"rgb(209,229,240)\"],[0.7,\"rgb(146,197,222)\"],[0.8,\"rgb(67,147,195)\"],[0.9,\"rgb(33,102,172)\"],[1.0,\"rgb(5,48,97)\"]],\"sequential\":[[0.0,\"#440154\"],[0.1111111111111111,\"#482878\"],[0.2222222222222222,\"#3e4989\"],[0.3333333333333333,\"#31688e\"],[0.4444444444444444,\"#26828e\"],[0.5555555555555556,\"#1f9e89\"],[0.6666666666666666,\"#35b779\"],[0.7777777777777778,\"#6ece58\"],[0.8888888888888888,\"#b5de2b\"],[1.0,\"#fde725\"]],\"sequentialminus\":[[0.0,\"#440154\"],[0.1111111111111111,\"#482878\"],[0.2222222222222222,\"#3e4989\"],[0.3333333333333333,\"#31688e\"],[0.4444444444444444,\"#26828e\"],[0.5555555555555556,\"#1f9e89\"],[0.6666666666666666,\"#35b779\"],[0.7777777777777778,\"#6ece58\"],[0.8888888888888888,\"#b5de2b\"],[1.0,\"#fde725\"]]},\"colorway\":[\"#1F77B4\",\"#FF7F0E\",\"#2CA02C\",\"#D62728\",\"#9467BD\",\"#8C564B\",\"#E377C2\",\"#7F7F7F\",\"#BCBD22\",\"#17BECF\"],\"font\":{\"color\":\"rgb(36,36,36)\"},\"geo\":{\"bgcolor\":\"white\",\"lakecolor\":\"white\",\"landcolor\":\"white\",\"showlakes\":true,\"showland\":true,\"subunitcolor\":\"white\"},\"hoverlabel\":{\"align\":\"left\"},\"hovermode\":\"closest\",\"mapbox\":{\"style\":\"light\"},\"paper_bgcolor\":\"white\",\"plot_bgcolor\":\"white\",\"polar\":{\"angularaxis\":{\"gridcolor\":\"rgb(232,232,232)\",\"linecolor\":\"rgb(36,36,36)\",\"showgrid\":false,\"showline\":true,\"ticks\":\"outside\"},\"bgcolor\":\"white\",\"radialaxis\":{\"gridcolor\":\"rgb(232,232,232)\",\"linecolor\":\"rgb(36,36,36)\",\"showgrid\":false,\"showline\":true,\"ticks\":\"outside\"}},\"scene\":{\"xaxis\":{\"backgroundcolor\":\"white\",\"gridcolor\":\"rgb(232,232,232)\",\"gridwidth\":2,\"linecolor\":\"rgb(36,36,36)\",\"showbackground\":true,\"showgrid\":false,\"showline\":true,\"ticks\":\"outside\",\"zeroline\":false,\"zerolinecolor\":\"rgb(36,36,36)\"},\"yaxis\":{\"backgroundcolor\":\"white\",\"gridcolor\":\"rgb(232,232,232)\",\"gridwidth\":2,\"linecolor\":\"rgb(36,36,36)\",\"showbackground\":true,\"showgrid\":false,\"showline\":true,\"ticks\":\"outside\",\"zeroline\":false,\"zerolinecolor\":\"rgb(36,36,36)\"},\"zaxis\":{\"backgroundcolor\":\"white\",\"gridcolor\":\"rgb(232,232,232)\",\"gridwidth\":2,\"linecolor\":\"rgb(36,36,36)\",\"showbackground\":true,\"showgrid\":false,\"showline\":true,\"ticks\":\"outside\",\"zeroline\":false,\"zerolinecolor\":\"rgb(36,36,36)\"}},\"shapedefaults\":{\"fillcolor\":\"black\",\"line\":{\"width\":0},\"opacity\":0.3},\"ternary\":{\"aaxis\":{\"gridcolor\":\"rgb(232,232,232)\",\"linecolor\":\"rgb(36,36,36)\",\"showgrid\":false,\"showline\":true,\"ticks\":\"outside\"},\"baxis\":{\"gridcolor\":\"rgb(232,232,232)\",\"linecolor\":\"rgb(36,36,36)\",\"showgrid\":false,\"showline\":true,\"ticks\":\"outside\"},\"bgcolor\":\"white\",\"caxis\":{\"gridcolor\":\"rgb(232,232,232)\",\"linecolor\":\"rgb(36,36,36)\",\"showgrid\":false,\"showline\":true,\"ticks\":\"outside\"}},\"title\":{\"x\":0.05},\"xaxis\":{\"automargin\":true,\"gridcolor\":\"rgb(232,232,232)\",\"linecolor\":\"rgb(36,36,36)\",\"showgrid\":false,\"showline\":true,\"ticks\":\"outside\",\"title\":{\"standoff\":15},\"zeroline\":false,\"zerolinecolor\":\"rgb(36,36,36)\"},\"yaxis\":{\"automargin\":true,\"gridcolor\":\"rgb(232,232,232)\",\"linecolor\":\"rgb(36,36,36)\",\"showgrid\":false,\"showline\":true,\"ticks\":\"outside\",\"title\":{\"standoff\":15},\"zeroline\":false,\"zerolinecolor\":\"rgb(36,36,36)\"}}},\"xaxis\":{\"anchor\":\"y\",\"domain\":[0.0,1.0],\"title\":{\"text\":\"x\"},\"visible\":false},\"yaxis\":{\"anchor\":\"x\",\"domain\":[0.0,1.0],\"title\":{\"text\":\"y\"},\"visible\":false},\"legend\":{\"title\":{\"text\":\"Classification (Label)\"},\"tracegroupgap\":0},\"margin\":{\"t\":0,\"l\":0,\"r\":0,\"b\":0},\"height\":500,\"width\":800},                        {\"responsive\": true}                    ).then(function(){\n",
              "                            \n",
              "var gd = document.getElementById('de42f7fe-75e4-4dbc-98b8-26c6053f7fc3');\n",
              "var x = new MutationObserver(function (mutations, observer) {{\n",
              "        var display = window.getComputedStyle(gd).display;\n",
              "        if (!display || display === 'none') {{\n",
              "            console.log([gd, 'removed!']);\n",
              "            Plotly.purge(gd);\n",
              "            observer.disconnect();\n",
              "        }}\n",
              "}});\n",
              "\n",
              "// Listen for the removal of the full notebook cells\n",
              "var notebookContainer = gd.closest('#notebook-container');\n",
              "if (notebookContainer) {{\n",
              "    x.observe(notebookContainer, {childList: true});\n",
              "}}\n",
              "\n",
              "// Listen for the clearing of the current output cell\n",
              "var outputEl = gd.closest('.output');\n",
              "if (outputEl) {{\n",
              "    x.observe(outputEl, {childList: true});\n",
              "}}\n",
              "\n",
              "                        })                };                            </script>        </div>\n",
              "</body>\n",
              "</html>"
            ]
          },
          "metadata": {}
        }
      ]
    },
    {
      "cell_type": "code",
      "source": [
        "data_ingredients = label_data.join(ingredients_normalized)\n",
        "isomap = Isomap(n_components=2,n_neighbors=90)\n",
        "X_isomapI = isomap.fit_transform(X_ingredients)\n",
        "\n",
        "X_isomapI[1:4, :]\n",
        "data_ingredients['x'] = X_isomapI[:,0]\n",
        "data_ingredients['y'] = X_isomapI[:,1]\n",
        "\n",
        "fig = px.scatter(data_ingredients, x='x', y='y', color='Classification', hover_data=[\"Description\"], width=800)\n",
        "fig.show()"
      ],
      "metadata": {
        "colab": {
          "base_uri": "https://localhost:8080/",
          "height": 542
        },
        "id": "0-tCZXS6cJjk",
        "outputId": "37f99d68-0d00-4371-9119-29b6c8ee3d6c"
      },
      "execution_count": null,
      "outputs": [
        {
          "output_type": "display_data",
          "data": {
            "text/html": [
              "<html>\n",
              "<head><meta charset=\"utf-8\" /></head>\n",
              "<body>\n",
              "    <div>            <script src=\"https://cdnjs.cloudflare.com/ajax/libs/mathjax/2.7.5/MathJax.js?config=TeX-AMS-MML_SVG\"></script><script type=\"text/javascript\">if (window.MathJax) {MathJax.Hub.Config({SVG: {font: \"STIX-Web\"}});}</script>                <script type=\"text/javascript\">window.PlotlyConfig = {MathJaxConfig: 'local'};</script>\n",
              "        <script src=\"https://cdn.plot.ly/plotly-2.8.3.min.js\"></script>                <div id=\"1be10f98-7b5b-46f1-97a1-17b594b84fda\" class=\"plotly-graph-div\" style=\"height:525px; width:800px;\"></div>            <script type=\"text/javascript\">                                    window.PLOTLYENV=window.PLOTLYENV || {};                                    if (document.getElementById(\"1be10f98-7b5b-46f1-97a1-17b594b84fda\")) {                    Plotly.newPlot(                        \"1be10f98-7b5b-46f1-97a1-17b594b84fda\",                        [{\"customdata\":[[\"Carne Mo\\u00edda do Futuro\"],[\"Almondegas de Soja Vegway\"],[\"Almondegas Amazonika Mundi\"],[\"Kibe Incr\\u00edvel Seara\"],[\"Almondegas Incr\\u00edveis Seara\"],[\"Almondegas Mr Veggy\"],[\"Carne Mo\\u00edda Superbom\"],[\"Carne Vegetal Mo\\u00edda Superbom\"],[\"Carne Mo\\u00edda Vegetal Verdali\"]],\"hovertemplate\":\"Classification=MEAT 2<br>x=%{x}<br>y=%{y}<br>Product's Name=%{customdata[0]}<extra></extra>\",\"legendgroup\":\"MEAT 2\",\"marker\":{\"color\":\"#636efa\",\"symbol\":\"circle\"},\"mode\":\"markers\",\"name\":\"MEAT 2\",\"orientation\":\"v\",\"showlegend\":true,\"x\":[2.1796367383764,2.620579726380203,1.2090248308863905,1.714828631859789,2.3602721443833126,2.3345590205426956,-1.2522765589560478,1.3964087610947822,0.6843771771345706],\"xaxis\":\"x\",\"y\":[0.8196989570610476,-1.2340365242620046,3.3869826646542722,3.0653286156717505,3.8856644237115585,0.6205190447812502,-0.26718688253559053,-2.274426504092996,-0.3251654049491598],\"yaxis\":\"y\",\"type\":\"scatter\"},{\"customdata\":[[\"Carne Mo\\u00edda do Futuro\"],[\"Fil\\u00e9s Sora Carne Vermelha\"],[\"Fatias Sora Carne Vermelha\"],[\"Fil\\u00e9 Pronto Saud\\u00e1vel Sora\"],[\"Carne Mo\\u00edda Pronto Saud\\u00e1vel Sora\"],[\"Churrasco Vegabom\"],[\"Churrasco Aoniondo Vegabom\"],[\"Carne de Pernil Seara\"],[\"Alm\\u00f4ndega de Soja Vegana Goshen\"],[\"Bife de Soja Vegano Goshen\"],[\"Alm\\u00f4ndega Vegana Superbom\"],[\"Bife Vegetal Superbom\"],[\"Escalope ao Molho Caseiro Superbom\"],[\"Cubinhos ao Molho Mexicano Superbom\"],[\"Alm\\u00f4ndegas ao Molho Sugo Superbom\"],[\"Medalh\\u00e3o ao Molho Madeira Superbom\"],[\"Mignon Verdali\"],[\"Steak Verdali\"]],\"hovertemplate\":\"Classification=MEAT 3<br>x=%{x}<br>y=%{y}<br>Product's Name=%{customdata[0]}<extra></extra>\",\"legendgroup\":\"MEAT 3\",\"marker\":{\"color\":\"#EF553B\",\"symbol\":\"circle\"},\"mode\":\"markers\",\"name\":\"MEAT 3\",\"orientation\":\"v\",\"showlegend\":true,\"x\":[1.9091627875519346,-0.1228210179598198,-0.012703074135826352,0.006942894973073648,0.006942894973074467,2.8835525876791457,2.883552587679145,2.3602721443833143,1.891423794891636,2.483555942503494,-1.2930031613873758,2.2138771271708957,0.9920840555285901,0.5729746897276681,2.293829803657798,2.8914136481411763,1.5723371013573506,0.6729489074897934],\"xaxis\":\"x\",\"y\":[0.19203179678665536,0.31387634709348333,-0.07525435366123354,1.1551307719918114,1.1551307719918116,0.8454302569398188,0.8454302569398191,3.885664423711558,-2.623910899133897,-2.9441329387856916,-0.2828504375464078,-0.7950698881184859,-0.3311238046073683,-0.7538814869298047,-2.2591159955642386,-2.6715931376744675,0.7770529835300113,-0.37178345884816044],\"yaxis\":\"y\",\"type\":\"scatter\"},{\"customdata\":[[\"Frango do Futuro\"],[\"Fatias Sora Carne Branca\"],[\"Fil\\u00e9s Sora Carne Branca\"],[\"Strogonoff de Frango Vegabom\"],[\"Tiras de Frango New Butchers\"],[\"Fil\\u00e9 de Frango Desfiado Vegway\"],[\"Frango Veg e Tal Sadia\"],[\"Frango Veg e Tal Sadia Desfiado\"],[\"Peito de Peru de Soja\"],[\"Peito de Peru de Soja Vegano\"],[\"Tiras de Ave Verdali\"],[\"Fil\\u00e9 sem Frango Verdali\"],[\"Mini Fil\\u00e9 de Frango Verdali\"]],\"hovertemplate\":\"Classification=POULTRY 3<br>x=%{x}<br>y=%{y}<br>Product's Name=%{customdata[0]}<extra></extra>\",\"legendgroup\":\"POULTRY 3\",\"marker\":{\"color\":\"#00cc96\",\"symbol\":\"circle\"},\"mode\":\"markers\",\"name\":\"POULTRY 3\",\"orientation\":\"v\",\"showlegend\":true,\"x\":[1.909162787551934,-0.0129320557083362,-0.012932055708336462,1.435180546729976,-1.0617295228870423,2.7693024818680883,0.671142524053896,0.6711425240538959,1.3112430505531787,1.5917613422695251,1.0067521643555848,0.708107500726771,0.4191643564599755],\"xaxis\":\"x\",\"y\":[0.19203179678665508,-0.07477467483099229,-0.0747746748309923,0.49955927323475596,-0.021831304031948384,-1.0306762469459712,1.6743295557681035,1.6743295557681035,-2.292057191329203,-2.744662202127698,3.1103285968303873,0.5059837004741886,1.0485991683426283],\"yaxis\":\"y\",\"type\":\"scatter\"},{\"customdata\":[[\"Lingui\\u00e7a do Futuro\"],[\"Lingui\\u00e7a calabresa vegabom\"],[\"saltsicha de chickpea Vegabom\"],[\"saltsicha de Soja Vegway\"],[\"saltsichas Incriveis Seara\"],[\"Lingui\\u00e7a Apimentada de Soja Goshen\"],[\"Lingui\\u00e7a Calabresa de Soja Goshen\"],[\"Lingui\\u00e7a de Soja Vegana Goshen\"],[\"Lingui\\u00e7a Toscana de Soja Goshen\"],[\"saltsicha de Soja Vegana Goshen\"],[\"saltsicha Vegetal Superbom\"],[\"saltsicha Vegetal Defumada Superbom\"]],\"hovertemplate\":\"Classification=PORK 1<br>x=%{x}<br>y=%{y}<br>Product's Name=%{customdata[0]}<extra></extra>\",\"legendgroup\":\"PORK 1\",\"marker\":{\"color\":\"#ab63fa\",\"symbol\":\"circle\"},\"mode\":\"markers\",\"name\":\"PORK 1\",\"orientation\":\"v\",\"showlegend\":true,\"x\":[2.4614385505322436,1.1470157624572215,0.8113528059156743,2.5264720647359593,2.360272144383315,1.3989892690935792,2.0443420218343875,2.4426078376720612,1.311243050553178,2.097825330292647,1.5009961911384277,1.1224663303634268],\"xaxis\":\"x\",\"y\":[-0.010953515202976667,-1.595880524481467,-1.4315245111196275,-0.8540202425570882,3.8856644237115585,-2.236550993345886,-2.885239941067092,-2.980536735105224,-2.2920571913292025,-2.671723416526722,-2.658167057782814,-2.5618959296553703],\"yaxis\":\"y\",\"type\":\"scatter\"},{\"customdata\":[[\"Hamburguer de Soja Goshen\"],[\"Hamburguer de Soja Vegano Goshen\"],[\"Hamburguer de Quinoa Mr Veggy\"],[\"Hamburguer de lentil Mr Veggy\"],[\"Hamburguer vegano falafel amazonika mundi\"],[\"Hamburguer Vegetal Verdali\"],[\"VegBurger Sabor Carne\"],[\"Burger Gourmet Superbom\"],[\"Hamburguer Incr\\u00edvel Seara\"],[\"Not Burguer Notco\"],[\"Hamburguer de Fibra de Caju Amazonika Mundi\"],[\"Hamburguer Vegabom\"],[\"Hamburguer de Carne Veg  e Tal Sadia\"],[\"Hamburger New Butchers\"],[\"Hamburguer de Legumes Mr Veggy\"],[\"Hamburguer Vegetariano Mr Veggy\"],[\"Hambuguer Mr Veggy Mari Mari\"],[\"Hambuguer Mr Veggy Mari Mari Churrrasco\"],[\"Hamb\\u00farguer Fazenda Futuro 2.0\"],[\"Hamb\\u00farguer Vegano de Quinoa Amazonika Mundi\"],[\"Hamburguer Veggie Roots Tempero Indiano\"],[\"Hamb\\u00farguer Sora Carne Vermelha \"],[\"Hamburguer Veggie Roots brazilianspices\"],[\"Hamburguer veggie roots tempero mexicano\"],[\"Hamburguer de Soja Sabor Carne Vegway\"],[\"Hamb\\u00farguer de Soja Empanado Vegway\"],[\"Hamburguer Vegetal Superbom\"],[\"Hamburguer de chickpea Mr Veggy\"],[\"Hamburguer Veggie Roots Tempero \\u00c1rabe\"],[\"Hamburguer Veggie Roots Tempero Tailand\\u00eas\"],[\"Hamburguer Vegabom\"],[\"Hamb\\u00farguer Pronto Saud\\u00e1vel Sora\"],[\"hamburguer vegetal com herbs jasmine\"],[\"Hamburguer Vegetal Tradicional Jasmine\"]],\"hovertemplate\":\"Classification=MEAT 1<br>x=%{x}<br>y=%{y}<br>Product's Name=%{customdata[0]}<extra></extra>\",\"legendgroup\":\"MEAT 1\",\"marker\":{\"color\":\"#FFA15A\",\"symbol\":\"circle\"},\"mode\":\"markers\",\"name\":\"MEAT 1\",\"orientation\":\"v\",\"showlegend\":true,\"x\":[2.457420590289694,1.793257307552415,-0.42197822726792944,0.029119365279696528,-0.7728714628793794,1.3876914321957523,-0.6169275382294145,-0.4644392486449402,2.3602721443833143,-1.2926455122560365,1.232379182424003,1.7075250981193584,-0.47483041692125366,-0.1410729835632706,0.6701925382639701,0.4306115221419048,0.8622885796536578,0.8622885796536585,2.179636738376399,-0.563414191685034,-0.7069933683582572,-0.01270307413582603,-0.5979436653946436,-0.6598266692758268,3.0977102882355703,2.2198495053516187,2.3396541017636467,-0.5698580203079397,-0.457958497853279,-0.6170174919185409,1.1706860046271954,0.006942894973074581,-0.9447516015883173,-1.005328394028903],\"xaxis\":\"x\",\"y\":[-2.981694183807674,-2.462291383252662,0.12055849280200692,0.9881550630008612,-0.006540461861789291,2.249194926986547,0.8358321956202241,-0.8134213102956023,3.885664423711557,-0.14738862625377974,3.4220083481049492,-1.5767168054916063,1.3192877552083322,1.0463811115901398,-0.6600990318487028,-0.3956927104629773,-1.4922108147364082,-1.492210814736408,0.8196989570610479,0.3181591001436803,0.8431038468653229,-0.0752543536612333,0.7574006354555046,0.7590915681067424,-0.8621070302655308,-1.2496896879354342,-1.5980164703027895,-0.06228831975478613,1.4616866739361327,0.5827190339444114,-0.6693459508137686,1.1551307719918118,-0.37009902784154597,-0.4100113491310131],\"yaxis\":\"y\",\"type\":\"scatter\"},{\"customdata\":[[\"Hamb\\u00farguer Sora Carne Branca\"],[\"VegBurger Sabor Frango\"],[\"Hambuguer Incr\\u00edvel Seara Frango\"],[\"Frango Vegano em Peda\\u00e7os \\u00e0 Base de pea\"],[\"Hamb\\u00farguer de Frango Verdali\"]],\"hovertemplate\":\"Classification=POULTRY 2<br>x=%{x}<br>y=%{y}<br>Product's Name=%{customdata[0]}<extra></extra>\",\"legendgroup\":\"POULTRY 2\",\"marker\":{\"color\":\"#19d3f3\",\"symbol\":\"circle\"},\"mode\":\"markers\",\"name\":\"POULTRY 2\",\"orientation\":\"v\",\"showlegend\":true,\"x\":[-0.012932055708336391,-0.6582915999180549,2.3602721443833152,-0.2554043110109306,1.2531805998277223],\"xaxis\":\"x\",\"y\":[-0.07477467483099241,0.6427814083421006,3.885664423711558,-0.5478014057017754,2.3981730355433393],\"yaxis\":\"y\",\"type\":\"scatter\"},{\"customdata\":[[\"Empanado de Frango Vegabom\"],[\"Fil\\u00e9 de Frango Empanado Vegabom\"],[\"Empanados de Frango Vegway\"],[\"Empanados Incr\\u00edveis Seara\"],[\"Empanados Sadia Veg e Tal\"],[\"Empanadinho de Soja  Goshen\"],[\"Empanadinho de Soja Vegano  Goshen\"],[\"Steak de Soja Vegano Goshen\"],[\"Empanado Vegano (Mini Crispy) 100 Foods\"],[\"Crispy Chicken 100 Foods\"],[\"Mini Empanado de Legumes Superbom\"],[\"Steak Vegan Sabor Legumes Superbom\"],[\"Steak Veg\\u00ea Sabor Frango\"],[\"Steak Veg\\u00ea Sabor Frango Empanado\"]],\"hovertemplate\":\"Classification=POULTRY 1<br>x=%{x}<br>y=%{y}<br>Product's Name=%{customdata[0]}<extra></extra>\",\"legendgroup\":\"POULTRY 1\",\"marker\":{\"color\":\"#FF6692\",\"symbol\":\"circle\"},\"mode\":\"markers\",\"name\":\"POULTRY 1\",\"orientation\":\"v\",\"showlegend\":true,\"x\":[1.0820643408491744,1.0820643408491732,2.3263668669474757,1.9712783620162495,1.971278362016249,2.5973573188273993,1.6003406946914231,2.623138518351966,1.4768509767962272,1.9764322041052327,0.23289087568224182,0.23289087568224182,0.1606889672201985,0.5234975013878813],\"xaxis\":\"x\",\"y\":[-1.2005174320142435,-1.2005174320142433,-1.353654617739388,3.4102441682737865,3.410244168273786,-2.9020124583661175,-1.6890546037825156,-2.8277613465436673,2.599403342242258,3.2710635642858907,-1.1419899442515724,-1.1419899442515724,0.06623398705022207,0.10631205655269717],\"yaxis\":\"y\",\"type\":\"scatter\"},{\"customdata\":[[\"Fil\\u00e9 Peixe Empanado Vegabom\"],[\"Tirinhas de Peixe Empanado Vegabom\"],[\"Bolinho de Bacalhau New Butchers\"],[\"Bolinho de Siri Amazonika Mundi\"],[\"Camar\\u00e3o de Soja Vegano Goshen\"]],\"hovertemplate\":\"Classification=FISH 2<br>x=%{x}<br>y=%{y}<br>Product's Name=%{customdata[0]}<extra></extra>\",\"legendgroup\":\"FISH 2\",\"marker\":{\"color\":\"#B6E880\",\"symbol\":\"circle\"},\"mode\":\"markers\",\"name\":\"FISH 2\",\"orientation\":\"v\",\"showlegend\":true,\"x\":[1.1257395882035337,1.1257395882035348,-0.8280596046023655,-0.3649225649184658,2.1105659270487873],\"xaxis\":\"x\",\"y\":[-1.2602565897687692,-1.2602565897687699,0.5863867308052524,1.573593334454697,-2.7560698409508246],\"yaxis\":\"y\",\"type\":\"scatter\"},{\"customdata\":[[\"Queijo Mu\\u00e7arela Vegabom\"],[\"Queijo Picante Vegabom\"],[\"Queijo Cheddar Vegabom\"],[\"Requeisoy Provolone \"],[\"Requeisoy Cheddar' \"],[\"Requeisoy Tradicional\"],[\"Requeisoy Gorgonzola\"],[\"Okeijo R\\u00fastico\"],[\"Okeijo Cremoso\"],[\"Okeijo Gratinado\"],[\"Okeijo Mussarela\"],[\"Okeijo Provolone\"],[\"Creme s Vida Veg\"],[\"Creme s fineherbs e Pesto\"],[\"Queijo mu\\u00e7arela\"],[\"Queijo minas frescal\"],[\"Queijo minas padr\\u00e3o\"],[\"Requeij\\u00e3o Tradicional\"],[\"Requeij\\u00e3o fineherbs\"],[\"Requeij\\u00e3o Defumado\"],[\"Queijo Zimurisku \"],[\"Queijo Zimurisku Temperado\"],[\"Queijo Mozarela NoMoo\"],[\"Queijo Provolone\"],[\"Queijo Ch\\u00e9vre\"],[\"Queijo Prato\"],[\"Queijo Parmes\\u00e3o\"],[\"Requeij\\u00e3o Nomoo\"],[\"Queijo Gorgolino\"],[\"Queijo Melhor Que Cheddar\"],[\"Queijo Recaishow\"],[\"Queijo Brie\"],[\"Mussarela Vegana Goshen\"],[\"Queijo ProVolone Veganita\"],[\"Queijo Munster Veganita\"],[\"Queijo Brie Veganita\"],[\"Queijo Mussarela Veganita\"],[\"Queijo Cheddar Veganita\"],[\"CREAM CHEESE CULIN\\u00c1RIO BASI.CO\"],[\"REQUEIJ\\u00c3O VEGETAL\"],[\"QUEIJO PARMES\\u00c3O\"],[\"QUEIJO MINAS VEGETAL\"],[\"QUEIJO PRATO\"],[\"QUEIJO MU\\u00c7ARELA\"],[\"QUEIJO CHEDDAR\"]],\"hovertemplate\":\"Classification=DAIRY 3<br>x=%{x}<br>y=%{y}<br>Product's Name=%{customdata[0]}<extra></extra>\",\"legendgroup\":\"DAIRY 3\",\"marker\":{\"color\":\"#FF97FF\",\"symbol\":\"circle\"},\"mode\":\"markers\",\"name\":\"DAIRY 3\",\"orientation\":\"v\",\"showlegend\":true,\"x\":[0.9333582240077064,0.41545226486777614,0.4154522648677762,0.05150189227988635,0.04165754803740385,0.09777764749407347,0.00824866340022791,0.24324045453013515,0.9087736222976067,-0.7950625531848051,-0.4992259401223257,-0.4992259401223262,-2.172681998716747,-2.1325650949634807,-1.8340550419525106,-1.4664106760386737,-1.8873748415252278,-2.327518761703498,-2.2963083273278526,-2.300237007880038,-0.05251553151290952,-0.006654723475321237,-1.7851091398526506,-1.6583730957926732,-1.0861962350949335,-1.0242157686382038,-1.6264827275931846,0.7505874016381444,0.3689305720714514,0.3309759144705041,1.1834598671592427,0.030658852042825112,-0.9378324784772826,-1.5135886662968436,-1.5135886662968439,-1.5135886662968443,-1.513588666296844,-1.4235542021802465,-0.6781289207394984,-2.4374015975763426,-0.3406854178438696,-1.02396127400271,-2.4939025971568465,-2.4092386811669715,-2.4174280900324554],\"xaxis\":\"x\",\"y\":[0.4240914423065811,1.0842221316148173,1.0842221316148175,-0.5082568880370961,-0.5580506588256278,-0.8286336429741048,-0.5472840118033322,0.13733330579425365,0.396756559284036,1.0100938458759747,0.01456357518251961,0.01456357518251928,0.03208031864012351,-0.2146155480204204,-0.14923593889773606,-0.41744972935135516,-0.16310085438301689,-0.42555089600460333,-0.39301844395502444,-0.44894281293291155,0.06813768521548905,0.03664635803075681,-0.30602209503442923,-0.27490501291544167,-0.5293428717157529,-0.03825290655776342,-0.5130795697179644,0.15074396205038845,0.20473270015622666,0.1432864047918117,0.9833595354386457,-0.31477935970114834,-0.26755510349064715,-0.35633676116826346,-0.3563367611682633,-0.35633676116826324,-0.3563367611682631,-0.1262983698950304,0.5193132131352012,0.47269419940879065,-1.1634316161064764,-0.31840431884771947,-0.3677027187945919,-0.37532052782805253,-0.3666734571995204],\"yaxis\":\"y\",\"type\":\"scatter\"},{\"customdata\":[[\"Fil\\u00e9 de saltm\\u00e3o New Butchers\"],[\"Bacalhau New  Butchers\"],[\"Isca de Peixe Vegway\"],[\"Fil\\u00e9 de Peixe Vegway\"],[\"Vieira de Soja Vegway\"],[\"Bacalhau Incr\\u00edvel Seara\"],[\"Iscas de Peixe Incr\\u00edvel Seara\"],[\"Atum do Futuro\"]],\"hovertemplate\":\"Classification=FISH 1<br>x=%{x}<br>y=%{y}<br>Product's Name=%{customdata[0]}<extra></extra>\",\"legendgroup\":\"FISH 1\",\"marker\":{\"color\":\"#FECB52\",\"symbol\":\"circle\"},\"mode\":\"markers\",\"name\":\"FISH 1\",\"orientation\":\"v\",\"showlegend\":true,\"x\":[-1.0075660179024069,0.35467210550380707,2.8657936980319216,3.0299819807067667,3.0035213578198134,2.360272144383314,1.9712783620162488,1.884739406963973],\"xaxis\":\"x\",\"y\":[0.3192222692526014,1.1499334671915726,-1.2593013128931607,-1.0780227161328024,-0.655850655891218,3.885664423711559,3.4102441682737865,1.2690057450168242],\"yaxis\":\"y\",\"type\":\"scatter\"},{\"customdata\":[[\"Presunto de Soja Vegway\"],[\"Bacon Vegano\"],[\"Mortadela de Soja Vegana Goshen\"],[\"Presunto de Soja Defumado\"],[\"Presunto de Soja Vegano Fatiado Goshen\"],[\"Bacon Crispy Verdali\"]],\"hovertemplate\":\"Classification=PORK 2<br>x=%{x}<br>y=%{y}<br>Product's Name=%{customdata[0]}<extra></extra>\",\"legendgroup\":\"PORK 2\",\"marker\":{\"color\":\"#636efa\",\"symbol\":\"circle\"},\"mode\":\"markers\",\"name\":\"PORK 2\",\"orientation\":\"v\",\"showlegend\":true,\"x\":[2.715833261168062,-1.5008624052645922,1.7223599070903102,2.093593199838526,1.6393389464732016,-0.9947776211198537],\"xaxis\":\"x\",\"y\":[-1.088654604410157,-0.23015676176427943,-2.868863046920208,-2.896599526365963,-2.738539966123776,-0.24872835165295815],\"yaxis\":\"y\",\"type\":\"scatter\"},{\"customdata\":[[\"Not Milk \"],[\"Not Milk Semidesnatado\"],[\" Vegetal de almonds\"],[\" vegetal \"],[\" Vegetal de almonds Fresco\"],[\" Vegetal  de Caj\\u00fa Fresco\"],[\" Vegetal  Fresco\"],[\" Vegetal Noats Original\"],[\" Vegetal Noats Barista\"],[\" Jasmine rice em P\\u00f3\"],[\" BIOV jasmine rice com amendoas\"],[\" BIOV jasmine rice com coco\"],[\" BioV oats Jasmine\"],[\" Jasmine rice \"],[\" Jasmine rice com oats\"],[\"Bebida de rice Nesfit\"],[\"Bebida Natural Nesfit\"],[\"Bebida de rice  e Amendoas Nesfit\"],[\"Bebida de rice e Coco Nesfit\"],[\"Bebida de oats Nesfit\"],[\"Bebida de oats e cocoa\"],[\"Molico Vegetal Nestl\\u00e9\"],[\"Ninho Vegetal Nestl\\u00e9\"],[\"Ninho Banana e apple Nestl\\u00e9\"],[\"Nude Edi\\u00e7\\u00e3o Barista\"],[\"Nude Original \"],[\"Nude Sabor Baunilha\"],[\"Nude de cocoa\"],[\"Nude + calcium\"],[\"Nude Barista\"],[\"Almond Breeze Original\"],[\"Almond Breeze Chocolate\"],[\"Almond Breeze Baunilha\"],[\"Almond Breeze Sem sugar\"],[\"Almond Breeze Amendoas com Coco\"],[\"Almond Breeze Chocolate Sem sugar\"],[\" de Amendoas Silk Sem sugar\"],[\" de Amendoas Silk \"],[\" cashews Silk\"],[\" de almonds e cocoa Silk\"],[\" de almonds Silk Coco\"],[\"Bebida de rice L\\u00edquida Sabor Original\"],[\"Bebida de rice L\\u00edquida Sabor almonds\"],[\"Bebida de rice L\\u00edquida Sabor peanuts\\n\"],[\"Bebida de rice L\\u00edquida Sabor cashews\"],[\"Bebida de rice L\\u00edquida Sabor Chocolate\"],[\"Bebida de rice L\\u00edquida Sabor Coco\"],[\"Bebida de rice L\\u00edquida Sabor Baunilha\"],[\"Bebida de rice Em P\\u00f3 Sabor Original\"],[\"Bebida de rice Em P\\u00f3 Sabor Original\"],[\"Bebida de rice Em P\\u00f3 Sabor Banana e apple\"],[\"Bebida de rice Em P\\u00f3 Sabor Chocolate\"],[\"Bebida de rice Em P\\u00f3 Sabor strawberries\"],[\" a tal da castanha barista\"],[\" a tal da castanha original\"],[\" a tal da castanha caju + Coco\"],[\" a tal da castanha almonds\"],[\" a tal da castanha castanha + cocoa\"],[\" a tal da castanha oats\"],[\" a tal da castanha mixed nuts\"],[\" a tal da castanha caju + Par\\u00e1\"],[\" a tal da castanha caju + peanuts\"],[\" Natuterra oats + Coco\"],[\" de almonds Natuterra\"],[\" Natuterra oats \"],[\" Vegetal 3 Nuts \\u2013 macadamianuts, almonds e cashews\"],[\" Vegetal de macadamianuts e Coco\"],[\" Vegetal de macadamianuts e cashews\"],[\" Vegetal Possible Foods\"],[\" Vegetal Possible Foods Chocolate\"],[\"Bebida de castanh de caj\\u00fa sem adi\\u00e7\\u00e3o de sugar nature's heart\"],[\"Bebida de almonds s/ adi\\u00e7\\u00e3o de sugares 1L \\u2013 Nature\\u2019s Heart\"],[\"Bebida de rice s/ adi\\u00e7\\u00e3o de sugares 1L \\u2013 Nature\\u2019s Heart\"],[\"Bebida de oats s/ adi\\u00e7\\u00e3o de sugares 1L \\u2013 Nature\\u2019s Heart\"],[\"Bebida de cocoa & rice 1L \\u2013 Nature\\u2019s Heart\"],[\"Bebida  & rice s/ adi\\u00e7\\u00e3o de sugares 1L \\u2013 Nature\\u2019s Heart\"],[\" Vegetal de soy Naturis Batavo\"],[\" DUOLAT peanuts E CASTANHA 1L - CAJUEIRO\"],[\" 85 CASTANHAS 1L - CAJUEIRO\"],[\" TOASTED 1L - CAJUEIRO\"]],\"hovertemplate\":\"Classification=DAIRY 1<br>x=%{x}<br>y=%{y}<br>Product's Name=%{customdata[0]}<extra></extra>\",\"legendgroup\":\"DAIRY 1\",\"marker\":{\"color\":\"#EF553B\",\"symbol\":\"circle\"},\"mode\":\"markers\",\"name\":\"DAIRY 1\",\"orientation\":\"v\",\"showlegend\":true,\"x\":[-0.6666660388661102,-0.6666660388661106,-1.5775124645379404,-1.5373182719558125,-1.5539433503707505,-1.4214771440722829,-1.5014086316123856,-0.005597065872885113,-1.0399740430497955,-1.5253358062862536,0.002272153074983177,-0.6183830238312281,-0.07140674025099551,-1.0271173592183058,-0.9303973055598592,-1.501645693036866,-0.2284705879286929,-1.0945347081923429,-1.0490142222379917,-1.515517445217315,-1.0871274216213895,-1.845333417490405,-1.845333417490405,-1.8453334174904055,0.5373684985037962,-0.12049722139871176,0.0004973363436732085,0.0004973363436729304,-0.0012472862185769367,0.5373684985037963,-1.9191817275305145,-2.126481587714516,-2.083660170478226,-2.1239633591094575,-2.12297289105915,-2.063776529511788,0.08279578158975172,0.08279578158975194,-0.1591862863091604,-0.452341433433651,-0.12985835281978375,-0.28599214551254215,-2.7421709543261508,-2.459371096035938,-2.3675937688877724,-1.1201151123240738,-0.2888829362355813,-1.3224491148974022,-1.106886627173364,-1.0359962463429646,-2.2797626397203867,-2.29447025536205,-2.3199292676980656,-0.09792764664839668,-0.07319679207164224,0.008362729189757546,-0.07319679207164231,0.004515315824527143,0.0039196608850073445,-0.07725561870233738,0.00836272918975783,0.00837683502786973,-1.6012406083237742,-1.506126407085593,-1.7420508068997391,0.008376835027869931,0.008362729189757835,0.008362729189757934,-1.3759676616750354,-2.2036312987179016,-2.289324399059908,-2.3720105806758065,-2.2669126178797843,-1.7375434124438112,-2.1054006767342517,-2.0776726173510123,0.14119175961318944,0.008376835027869645,-0.07332025680137799,-0.07332025680137809],\"xaxis\":\"x\",\"y\":[-0.22428968517376274,-0.22428968517376244,-0.07314467811686641,-0.10689571256527831,-0.10780467803752612,-0.13986699438531727,-0.09341404283598072,0.07603152010872838,-0.045271813941048594,0.1462495989042231,0.07605720669300073,0.19950838318226485,0.0686146468778098,0.1949294540704886,-0.2257348376661268,-0.3491686848655223,0.21607365266678602,-0.24935040788894172,-0.18092246566346412,-0.315748198030207,0.018335063912129156,0.780606066652081,0.7806060666520813,0.7806060666520814,0.0165724558543864,0.059108465042537556,0.07547988673364321,0.07547988673364314,0.07553992243833685,0.016572455854386204,-0.32935645342178116,-0.3612630746046229,-0.35599857186940964,-0.3465155794930313,-0.36055031053620606,-0.3423352166483685,0.056932101877942565,0.05693210187794317,0.09333263917204689,-0.2362071613020574,0.021571703107262575,0.25344788539296953,-0.19938895622820946,-0.2012683385725384,-0.16002696943349715,0.20166392748131948,0.29694283279038286,-0.020860066744494934,-0.8235886558098745,-0.7186152802286847,-0.37737700468898905,-0.3707958489385665,-0.38948762495295713,0.11488316476592932,0.025743148565967423,0.07535329505514007,0.025743148565967513,0.07474727787129809,0.07525736747717578,0.21771193432643315,0.07535329505514,0.0755044666470608,-0.15343765655627895,-0.08284515770508696,-0.11673337500086388,0.07550446664706052,0.07535329505514023,0.07535329505514003,0.174998874283149,-0.11900048126843822,-0.3774298365687232,-0.24119848710439198,-0.19657984116558885,-0.12731464403271697,-0.16949176774738264,-0.1704222014170724,0.18610809160975095,0.07550446664706072,0.02579479372291671,0.025794793722916466],\"yaxis\":\"y\",\"type\":\"scatter\"},{\"customdata\":[[\"Iogurte \"],[\"Iogurte  com strawberries\"],[\"Iogurte  com banana, apple e papaya\"],[\"Iogurte  Zero sugar\"],[\"Iogurte  com strawberries Zero sugar\"],[\"Iogurte GregoVeg \"],[\"Iogurte GregoVeg  com strawberries\"],[\"Iogurte Proteico 14g sabor strawberries\"],[\"Shake \"],[\"Iogurte Proteico 14g sabor  peanuts\"],[\"Creme de almonds\"]],\"hovertemplate\":\"Classification=DAIRY 2<br>x=%{x}<br>y=%{y}<br>Product's Name=%{customdata[0]}<extra></extra>\",\"legendgroup\":\"DAIRY 2\",\"marker\":{\"color\":\"#00cc96\",\"symbol\":\"circle\"},\"mode\":\"markers\",\"name\":\"DAIRY 2\",\"orientation\":\"v\",\"showlegend\":true,\"x\":[-1.7322247457456874,-1.5053373239922858,-1.4792417971786895,-1.699314795386838,-1.8732658884144877,-0.2851100647457599,-0.6603009587387465,-2.0438463062955416,-1.3913823225235904,-1.5848110801562563,-1.7265254071786114],\"xaxis\":\"x\",\"y\":[-0.2212178248772407,-0.2200741841054082,-0.20978097859525907,-0.24332456662545424,-0.2758729184091962,0.18770455092702806,0.0037693760507239962,-0.2410171752980835,-0.13363698290637918,-0.2902477285037442,0.0372822577675756],\"yaxis\":\"y\",\"type\":\"scatter\"},{\"customdata\":[[\"MAIONESE VEGETAL SUPERBOM\"],[\"MAIONESE FUGINI\"],[\"NOT MAYO\"],[\"NOT MAYO garlic\"],[\"NOT MAYO AZEITONA\"],[\"NOT MAYO PICANTE\"],[\"MAIONESE V-MAYO\"],[\"MAIONESE V-MAYO ApepperDA\"],[\"MAIONESE V-MAYO TRUFADA\"],[\"MAIONESE V-MAYO DE ABACATE\"],[\"MAIONESE V-MAYO DE garlic\"],[\"MAIONESE HELLMANS\"],[\"MAIONESE VEGANA FUGINI\"],[\"MAIONESE DEL\\u00cdCIAS DE GOI\\u00c1S\"]],\"hovertemplate\":\"Classification=EGG 1<br>x=%{x}<br>y=%{y}<br>Product's Name=%{customdata[0]}<extra></extra>\",\"legendgroup\":\"EGG 1\",\"marker\":{\"color\":\"#ab63fa\",\"symbol\":\"circle\"},\"mode\":\"markers\",\"name\":\"EGG 1\",\"orientation\":\"v\",\"showlegend\":true,\"x\":[0.3948275728932115,-0.5988647536304923,-0.605673161420423,-0.34931154211347204,-0.6492976533874417,-0.33313355554814844,1.0998477867503766,1.0843826974997735,1.0943471638642595,1.0823468082312229,1.0998477867503764,0.2559018144814091,0.596662611135729,0.7970263592983617],\"xaxis\":\"x\",\"y\":[0.054642277097566395,-1.2048576325766895,0.5675315928747051,0.6451950142452132,0.5143804431783914,1.026602934950743,3.316289167338143,3.289851046329734,3.296489443101395,3.2830697844526426,3.316289167338144,0.2100804349968585,-0.034198776532159435,0.3962620651370212],\"yaxis\":\"y\",\"type\":\"scatter\"},{\"customdata\":[[\"Ovos Novos\"],[\"VEGAN PRO EGGS NUTRIFY\"]],\"hovertemplate\":\"Classification=EGG 2<br>x=%{x}<br>y=%{y}<br>Product's Name=%{customdata[0]}<extra></extra>\",\"legendgroup\":\"EGG 2\",\"marker\":{\"color\":\"#FFA15A\",\"symbol\":\"circle\"},\"mode\":\"markers\",\"name\":\"EGG 2\",\"orientation\":\"v\",\"showlegend\":true,\"x\":[-0.07332025680137791,-0.07332025680137803],\"xaxis\":\"x\",\"y\":[0.025794793722916112,0.025794793722916258],\"yaxis\":\"y\",\"type\":\"scatter\"}],                        {\"template\":{\"data\":{\"bar\":[{\"error_x\":{\"color\":\"#2a3f5f\"},\"error_y\":{\"color\":\"#2a3f5f\"},\"marker\":{\"line\":{\"color\":\"#E5ECF6\",\"width\":0.5},\"pattern\":{\"fillmode\":\"overlay\",\"size\":10,\"solidity\":0.2}},\"type\":\"bar\"}],\"barpolar\":[{\"marker\":{\"line\":{\"color\":\"#E5ECF6\",\"width\":0.5},\"pattern\":{\"fillmode\":\"overlay\",\"size\":10,\"solidity\":0.2}},\"type\":\"barpolar\"}],\"carpet\":[{\"aaxis\":{\"endlinecolor\":\"#2a3f5f\",\"gridcolor\":\"white\",\"linecolor\":\"white\",\"minorgridcolor\":\"white\",\"startlinecolor\":\"#2a3f5f\"},\"baxis\":{\"endlinecolor\":\"#2a3f5f\",\"gridcolor\":\"white\",\"linecolor\":\"white\",\"minorgridcolor\":\"white\",\"startlinecolor\":\"#2a3f5f\"},\"type\":\"carpet\"}],\"choropleth\":[{\"colorbar\":{\"outlinewidth\":0,\"ticks\":\"\"},\"type\":\"choropleth\"}],\"contour\":[{\"colorbar\":{\"outlinewidth\":0,\"ticks\":\"\"},\"colorscale\":[[0.0,\"#0d0887\"],[0.1111111111111111,\"#46039f\"],[0.2222222222222222,\"#7201a8\"],[0.3333333333333333,\"#9c179e\"],[0.4444444444444444,\"#bd3786\"],[0.5555555555555556,\"#d8576b\"],[0.6666666666666666,\"#ed7953\"],[0.7777777777777778,\"#fb9f3a\"],[0.8888888888888888,\"#fdca26\"],[1.0,\"#f0f921\"]],\"type\":\"contour\"}],\"contourcarpet\":[{\"colorbar\":{\"outlinewidth\":0,\"ticks\":\"\"},\"type\":\"contourcarpet\"}],\"heatmap\":[{\"colorbar\":{\"outlinewidth\":0,\"ticks\":\"\"},\"colorscale\":[[0.0,\"#0d0887\"],[0.1111111111111111,\"#46039f\"],[0.2222222222222222,\"#7201a8\"],[0.3333333333333333,\"#9c179e\"],[0.4444444444444444,\"#bd3786\"],[0.5555555555555556,\"#d8576b\"],[0.6666666666666666,\"#ed7953\"],[0.7777777777777778,\"#fb9f3a\"],[0.8888888888888888,\"#fdca26\"],[1.0,\"#f0f921\"]],\"type\":\"heatmap\"}],\"heatmapgl\":[{\"colorbar\":{\"outlinewidth\":0,\"ticks\":\"\"},\"colorscale\":[[0.0,\"#0d0887\"],[0.1111111111111111,\"#46039f\"],[0.2222222222222222,\"#7201a8\"],[0.3333333333333333,\"#9c179e\"],[0.4444444444444444,\"#bd3786\"],[0.5555555555555556,\"#d8576b\"],[0.6666666666666666,\"#ed7953\"],[0.7777777777777778,\"#fb9f3a\"],[0.8888888888888888,\"#fdca26\"],[1.0,\"#f0f921\"]],\"type\":\"heatmapgl\"}],\"histogram\":[{\"marker\":{\"pattern\":{\"fillmode\":\"overlay\",\"size\":10,\"solidity\":0.2}},\"type\":\"histogram\"}],\"histogram2d\":[{\"colorbar\":{\"outlinewidth\":0,\"ticks\":\"\"},\"colorscale\":[[0.0,\"#0d0887\"],[0.1111111111111111,\"#46039f\"],[0.2222222222222222,\"#7201a8\"],[0.3333333333333333,\"#9c179e\"],[0.4444444444444444,\"#bd3786\"],[0.5555555555555556,\"#d8576b\"],[0.6666666666666666,\"#ed7953\"],[0.7777777777777778,\"#fb9f3a\"],[0.8888888888888888,\"#fdca26\"],[1.0,\"#f0f921\"]],\"type\":\"histogram2d\"}],\"histogram2dcontour\":[{\"colorbar\":{\"outlinewidth\":0,\"ticks\":\"\"},\"colorscale\":[[0.0,\"#0d0887\"],[0.1111111111111111,\"#46039f\"],[0.2222222222222222,\"#7201a8\"],[0.3333333333333333,\"#9c179e\"],[0.4444444444444444,\"#bd3786\"],[0.5555555555555556,\"#d8576b\"],[0.6666666666666666,\"#ed7953\"],[0.7777777777777778,\"#fb9f3a\"],[0.8888888888888888,\"#fdca26\"],[1.0,\"#f0f921\"]],\"type\":\"histogram2dcontour\"}],\"mesh3d\":[{\"colorbar\":{\"outlinewidth\":0,\"ticks\":\"\"},\"type\":\"mesh3d\"}],\"parcoords\":[{\"line\":{\"colorbar\":{\"outlinewidth\":0,\"ticks\":\"\"}},\"type\":\"parcoords\"}],\"pie\":[{\"automargin\":true,\"type\":\"pie\"}],\"scatter\":[{\"marker\":{\"colorbar\":{\"outlinewidth\":0,\"ticks\":\"\"}},\"type\":\"scatter\"}],\"scatter3d\":[{\"line\":{\"colorbar\":{\"outlinewidth\":0,\"ticks\":\"\"}},\"marker\":{\"colorbar\":{\"outlinewidth\":0,\"ticks\":\"\"}},\"type\":\"scatter3d\"}],\"scattercarpet\":[{\"marker\":{\"colorbar\":{\"outlinewidth\":0,\"ticks\":\"\"}},\"type\":\"scattercarpet\"}],\"scattergeo\":[{\"marker\":{\"colorbar\":{\"outlinewidth\":0,\"ticks\":\"\"}},\"type\":\"scattergeo\"}],\"scattergl\":[{\"marker\":{\"colorbar\":{\"outlinewidth\":0,\"ticks\":\"\"}},\"type\":\"scattergl\"}],\"scattermapbox\":[{\"marker\":{\"colorbar\":{\"outlinewidth\":0,\"ticks\":\"\"}},\"type\":\"scattermapbox\"}],\"scatterpolar\":[{\"marker\":{\"colorbar\":{\"outlinewidth\":0,\"ticks\":\"\"}},\"type\":\"scatterpolar\"}],\"scatterpolargl\":[{\"marker\":{\"colorbar\":{\"outlinewidth\":0,\"ticks\":\"\"}},\"type\":\"scatterpolargl\"}],\"scatterternary\":[{\"marker\":{\"colorbar\":{\"outlinewidth\":0,\"ticks\":\"\"}},\"type\":\"scatterternary\"}],\"surface\":[{\"colorbar\":{\"outlinewidth\":0,\"ticks\":\"\"},\"colorscale\":[[0.0,\"#0d0887\"],[0.1111111111111111,\"#46039f\"],[0.2222222222222222,\"#7201a8\"],[0.3333333333333333,\"#9c179e\"],[0.4444444444444444,\"#bd3786\"],[0.5555555555555556,\"#d8576b\"],[0.6666666666666666,\"#ed7953\"],[0.7777777777777778,\"#fb9f3a\"],[0.8888888888888888,\"#fdca26\"],[1.0,\"#f0f921\"]],\"type\":\"surface\"}],\"table\":[{\"cells\":{\"fill\":{\"color\":\"#EBF0F8\"},\"line\":{\"color\":\"white\"}},\"header\":{\"fill\":{\"color\":\"#C8D4E3\"},\"line\":{\"color\":\"white\"}},\"type\":\"table\"}]},\"layout\":{\"annotationdefaults\":{\"arrowcolor\":\"#2a3f5f\",\"arrowhead\":0,\"arrowwidth\":1},\"autotypenumbers\":\"strict\",\"coloraxis\":{\"colorbar\":{\"outlinewidth\":0,\"ticks\":\"\"}},\"colorscale\":{\"diverging\":[[0,\"#8e0152\"],[0.1,\"#c51b7d\"],[0.2,\"#de77ae\"],[0.3,\"#f1b6da\"],[0.4,\"#fde0ef\"],[0.5,\"#f7f7f7\"],[0.6,\"#e6f5d0\"],[0.7,\"#b8e186\"],[0.8,\"#7fbc41\"],[0.9,\"#4d9221\"],[1,\"#276419\"]],\"sequential\":[[0.0,\"#0d0887\"],[0.1111111111111111,\"#46039f\"],[0.2222222222222222,\"#7201a8\"],[0.3333333333333333,\"#9c179e\"],[0.4444444444444444,\"#bd3786\"],[0.5555555555555556,\"#d8576b\"],[0.6666666666666666,\"#ed7953\"],[0.7777777777777778,\"#fb9f3a\"],[0.8888888888888888,\"#fdca26\"],[1.0,\"#f0f921\"]],\"sequentialminus\":[[0.0,\"#0d0887\"],[0.1111111111111111,\"#46039f\"],[0.2222222222222222,\"#7201a8\"],[0.3333333333333333,\"#9c179e\"],[0.4444444444444444,\"#bd3786\"],[0.5555555555555556,\"#d8576b\"],[0.6666666666666666,\"#ed7953\"],[0.7777777777777778,\"#fb9f3a\"],[0.8888888888888888,\"#fdca26\"],[1.0,\"#f0f921\"]]},\"colorway\":[\"#636efa\",\"#EF553B\",\"#00cc96\",\"#ab63fa\",\"#FFA15A\",\"#19d3f3\",\"#FF6692\",\"#B6E880\",\"#FF97FF\",\"#FECB52\"],\"font\":{\"color\":\"#2a3f5f\"},\"geo\":{\"bgcolor\":\"white\",\"lakecolor\":\"white\",\"landcolor\":\"#E5ECF6\",\"showlakes\":true,\"showland\":true,\"subunitcolor\":\"white\"},\"hoverlabel\":{\"align\":\"left\"},\"hovermode\":\"closest\",\"mapbox\":{\"style\":\"light\"},\"paper_bgcolor\":\"white\",\"plot_bgcolor\":\"#E5ECF6\",\"polar\":{\"angularaxis\":{\"gridcolor\":\"white\",\"linecolor\":\"white\",\"ticks\":\"\"},\"bgcolor\":\"#E5ECF6\",\"radialaxis\":{\"gridcolor\":\"white\",\"linecolor\":\"white\",\"ticks\":\"\"}},\"scene\":{\"xaxis\":{\"backgroundcolor\":\"#E5ECF6\",\"gridcolor\":\"white\",\"gridwidth\":2,\"linecolor\":\"white\",\"showbackground\":true,\"ticks\":\"\",\"zerolinecolor\":\"white\"},\"yaxis\":{\"backgroundcolor\":\"#E5ECF6\",\"gridcolor\":\"white\",\"gridwidth\":2,\"linecolor\":\"white\",\"showbackground\":true,\"ticks\":\"\",\"zerolinecolor\":\"white\"},\"zaxis\":{\"backgroundcolor\":\"#E5ECF6\",\"gridcolor\":\"white\",\"gridwidth\":2,\"linecolor\":\"white\",\"showbackground\":true,\"ticks\":\"\",\"zerolinecolor\":\"white\"}},\"shapedefaults\":{\"line\":{\"color\":\"#2a3f5f\"}},\"ternary\":{\"aaxis\":{\"gridcolor\":\"white\",\"linecolor\":\"white\",\"ticks\":\"\"},\"baxis\":{\"gridcolor\":\"white\",\"linecolor\":\"white\",\"ticks\":\"\"},\"bgcolor\":\"#E5ECF6\",\"caxis\":{\"gridcolor\":\"white\",\"linecolor\":\"white\",\"ticks\":\"\"}},\"title\":{\"x\":0.05},\"xaxis\":{\"automargin\":true,\"gridcolor\":\"white\",\"linecolor\":\"white\",\"ticks\":\"\",\"title\":{\"standoff\":15},\"zerolinecolor\":\"white\",\"zerolinewidth\":2},\"yaxis\":{\"automargin\":true,\"gridcolor\":\"white\",\"linecolor\":\"white\",\"ticks\":\"\",\"title\":{\"standoff\":15},\"zerolinecolor\":\"white\",\"zerolinewidth\":2}}},\"xaxis\":{\"anchor\":\"y\",\"domain\":[0.0,1.0],\"title\":{\"text\":\"x\"}},\"yaxis\":{\"anchor\":\"x\",\"domain\":[0.0,1.0],\"title\":{\"text\":\"y\"}},\"legend\":{\"title\":{\"text\":\"Classification\"},\"tracegroupgap\":0},\"margin\":{\"t\":60},\"width\":800},                        {\"responsive\": true}                    ).then(function(){\n",
              "                            \n",
              "var gd = document.getElementById('1be10f98-7b5b-46f1-97a1-17b594b84fda');\n",
              "var x = new MutationObserver(function (mutations, observer) {{\n",
              "        var display = window.getComputedStyle(gd).display;\n",
              "        if (!display || display === 'none') {{\n",
              "            console.log([gd, 'removed!']);\n",
              "            Plotly.purge(gd);\n",
              "            observer.disconnect();\n",
              "        }}\n",
              "}});\n",
              "\n",
              "// Listen for the removal of the full notebook cells\n",
              "var notebookContainer = gd.closest('#notebook-container');\n",
              "if (notebookContainer) {{\n",
              "    x.observe(notebookContainer, {childList: true});\n",
              "}}\n",
              "\n",
              "// Listen for the clearing of the current output cell\n",
              "var outputEl = gd.closest('.output');\n",
              "if (outputEl) {{\n",
              "    x.observe(outputEl, {childList: true});\n",
              "}}\n",
              "\n",
              "                        })                };                            </script>        </div>\n",
              "</body>\n",
              "</html>"
            ]
          },
          "metadata": {}
        }
      ]
    },
    {
      "cell_type": "code",
      "source": [
        "data_nutrients = label_data.join(nutrients_normalized)\n",
        "isomap = Isomap(n_components=2,n_neighbors=90)\n",
        "X_isomapN = isomap.fit_transform(X_nutrients)\n",
        "\n",
        "X_isomapN[1:4, :]\n",
        "data_nutrients['x'] = X_isomapN[:,0]\n",
        "data_nutrients['y'] = X_isomapN[:,1]\n",
        "\n",
        "fig = px.scatter(data_nutrients, x='x', y='y', color='Classification', hover_data=[\"Description\"], width=800)\n",
        "fig.show()"
      ],
      "metadata": {
        "colab": {
          "base_uri": "https://localhost:8080/",
          "height": 542
        },
        "id": "IBtkbvAZcPcS",
        "outputId": "ae32d504-ae7e-4369-eac0-6e7ae97a6022"
      },
      "execution_count": null,
      "outputs": [
        {
          "output_type": "display_data",
          "data": {
            "text/html": [
              "<html>\n",
              "<head><meta charset=\"utf-8\" /></head>\n",
              "<body>\n",
              "    <div>            <script src=\"https://cdnjs.cloudflare.com/ajax/libs/mathjax/2.7.5/MathJax.js?config=TeX-AMS-MML_SVG\"></script><script type=\"text/javascript\">if (window.MathJax) {MathJax.Hub.Config({SVG: {font: \"STIX-Web\"}});}</script>                <script type=\"text/javascript\">window.PlotlyConfig = {MathJaxConfig: 'local'};</script>\n",
              "        <script src=\"https://cdn.plot.ly/plotly-2.8.3.min.js\"></script>                <div id=\"a76ac1b5-2713-4813-9530-3048178c3925\" class=\"plotly-graph-div\" style=\"height:525px; width:800px;\"></div>            <script type=\"text/javascript\">                                    window.PLOTLYENV=window.PLOTLYENV || {};                                    if (document.getElementById(\"a76ac1b5-2713-4813-9530-3048178c3925\")) {                    Plotly.newPlot(                        \"a76ac1b5-2713-4813-9530-3048178c3925\",                        [{\"customdata\":[[\"Carne Mo\\u00edda do Futuro\"],[\"Almondegas de Soja Vegway\"],[\"Almondegas Amazonika Mundi\"],[\"Kibe Incr\\u00edvel Seara\"],[\"Almondegas Incr\\u00edveis Seara\"],[\"Almondegas Mr Veggy\"],[\"Carne Mo\\u00edda Superbom\"],[\"Carne Vegetal Mo\\u00edda Superbom\"],[\"Carne Mo\\u00edda Vegetal Verdali\"]],\"hovertemplate\":\"Classification=MEAT 2<br>x=%{x}<br>y=%{y}<br>Product's Name=%{customdata[0]}<extra></extra>\",\"legendgroup\":\"MEAT 2\",\"marker\":{\"color\":\"#636efa\",\"symbol\":\"circle\"},\"mode\":\"markers\",\"name\":\"MEAT 2\",\"orientation\":\"v\",\"showlegend\":true,\"x\":[-0.4668404960141909,-0.5989811083986946,-0.2287930849016242,-0.4635801103304946,-0.4635845686878548,-0.3989325677046446,-0.6713755075432555,-0.2760775482757486,-0.3652259541203276],\"xaxis\":\"x\",\"y\":[0.12231220448427924,0.42587518045695927,-0.018318823227786944,0.36273788123028183,0.36271956455471954,0.49830654839798366,0.37966842767459374,-0.11312610285888373,0.196786265598503],\"yaxis\":\"y\",\"type\":\"scatter\"},{\"customdata\":[[\"Carne Mo\\u00edda do Futuro\"],[\"Fil\\u00e9s Sora Carne Vermelha\"],[\"Fatias Sora Carne Vermelha\"],[\"Fil\\u00e9 Pronto Saud\\u00e1vel Sora\"],[\"Carne Mo\\u00edda Pronto Saud\\u00e1vel Sora\"],[\"Churrasco Vegabom\"],[\"Churrasco Aoniondo Vegabom\"],[\"Carne de Pernil Seara\"],[\"Alm\\u00f4ndega de Soja Vegana Goshen\"],[\"Bife de Soja Vegano Goshen\"],[\"Alm\\u00f4ndega Vegana Superbom\"],[\"Bife Vegetal Superbom\"],[\"Escalope ao Molho Caseiro Superbom\"],[\"Cubinhos ao Molho Mexicano Superbom\"],[\"Alm\\u00f4ndegas ao Molho Sugo Superbom\"],[\"Medalh\\u00e3o ao Molho Madeira Superbom\"],[\"Mignon Verdali\"],[\"Steak Verdali\"]],\"hovertemplate\":\"Classification=MEAT 3<br>x=%{x}<br>y=%{y}<br>Product's Name=%{customdata[0]}<extra></extra>\",\"legendgroup\":\"MEAT 3\",\"marker\":{\"color\":\"#EF553B\",\"symbol\":\"circle\"},\"mode\":\"markers\",\"name\":\"MEAT 3\",\"orientation\":\"v\",\"showlegend\":true,\"x\":[-0.466840496014191,-0.5958019618109939,-0.595801961810994,-0.14536938426395715,-0.14536938426395724,-0.183941254563436,-0.18453900251724714,0.1451910178041333,-0.3550666736350625,-0.2566002525398772,-0.41419794811416627,-0.34533784944996043,-0.1935440666535139,-0.1768346123174689,-0.05124655169602484,-0.206795371980081,-0.35660078529200273,-0.25922979618086456],\"xaxis\":\"x\",\"y\":[0.12231220448427917,-0.0898301856165755,-0.08983018561657559,-0.18788401062747012,-0.18788401062747023,-0.07310163632672462,-0.06957800409793291,0.7977525203699085,-0.09336383519380342,0.17557857505624827,0.5494342731439642,-0.12250378041230735,-0.1689454104326407,-0.1758649633986905,-0.2117633053287117,-0.14797278938947314,0.1897024413092108,0.1472933369046405],\"yaxis\":\"y\",\"type\":\"scatter\"},{\"customdata\":[[\"Frango do Futuro\"],[\"Fatias Sora Carne Branca\"],[\"Fil\\u00e9s Sora Carne Branca\"],[\"Strogonoff de Frango Vegabom\"],[\"Tiras de Frango New Butchers\"],[\"Fil\\u00e9 de Frango Desfiado Vegway\"],[\"Frango Veg e Tal Sadia\"],[\"Frango Veg e Tal Sadia Desfiado\"],[\"Peito de Peru de Soja\"],[\"Peito de Peru de Soja Vegano\"],[\"Tiras de Ave Verdali\"],[\"Fil\\u00e9 sem Frango Verdali\"],[\"Mini Fil\\u00e9 de Frango Verdali\"]],\"hovertemplate\":\"Classification=POULTRY 3<br>x=%{x}<br>y=%{y}<br>Product's Name=%{customdata[0]}<extra></extra>\",\"legendgroup\":\"POULTRY 3\",\"marker\":{\"color\":\"#00cc96\",\"symbol\":\"circle\"},\"mode\":\"markers\",\"name\":\"POULTRY 3\",\"orientation\":\"v\",\"showlegend\":true,\"x\":[-0.4668404960141911,-0.5958019618109938,-0.5958019618109939,-0.18394125456343596,-0.04644645428680886,-0.3117637998151928,-0.40757567154774577,-0.4075756715477458,-0.24176847911298582,-0.24176847911298582,-0.5841448751220805,-0.32329756892215084,-0.30912226936923015],\"xaxis\":\"x\",\"y\":[0.12231220448427915,-0.08983018561657542,-0.08983018561657559,-0.07310163632672453,-0.2877926001937324,0.3098589496712235,0.14821492259645236,0.14821492259645241,-0.2510562089651752,-0.2510562089651752,0.3612577827258457,0.2398986385029378,0.2668398197805683],\"yaxis\":\"y\",\"type\":\"scatter\"},{\"customdata\":[[\"Lingui\\u00e7a do Futuro\"],[\"Lingui\\u00e7a calabresa vegabom\"],[\"saltsicha de chickpea Vegabom\"],[\"saltsicha de Soja Vegway\"],[\"saltsichas Incriveis Seara\"],[\"Lingui\\u00e7a Apimentada de Soja Goshen\"],[\"Lingui\\u00e7a Calabresa de Soja Goshen\"],[\"Lingui\\u00e7a de Soja Vegana Goshen\"],[\"Lingui\\u00e7a Toscana de Soja Goshen\"],[\"saltsicha de Soja Vegana Goshen\"],[\"saltsicha Vegetal Superbom\"],[\"saltsicha Vegetal Defumada Superbom\"]],\"hovertemplate\":\"Classification=PORK 1<br>x=%{x}<br>y=%{y}<br>Product's Name=%{customdata[0]}<extra></extra>\",\"legendgroup\":\"PORK 1\",\"marker\":{\"color\":\"#ab63fa\",\"symbol\":\"circle\"},\"mode\":\"markers\",\"name\":\"PORK 1\",\"orientation\":\"v\",\"showlegend\":true,\"x\":[-0.4447075454448105,-0.30095559433418706,-0.3110051323525782,-0.45869133892859765,-0.0535984060937362,-0.18912704509771205,-0.27476213862217774,-0.25514490255758765,-0.1860786525940976,-0.2839460179852791,-0.23542162308101314,-0.030498988726795954],\"xaxis\":\"x\",\"y\":[-0.06920889035513193,-0.15406322668442038,-0.15422267574339443,0.14150399134282107,-0.020295277993729082,-0.27352296523065084,-0.2501110228835418,-0.10473651324123391,-0.24897267946563284,-0.09579604142976375,-0.1721765978765492,-0.23947396895694514],\"yaxis\":\"y\",\"type\":\"scatter\"},{\"customdata\":[[\"Hamburguer de Soja Goshen\"],[\"Hamburguer de Soja Vegano Goshen\"],[\"Hamburguer de Quinoa Mr Veggy\"],[\"Hamburguer de lentil Mr Veggy\"],[\"Hamburguer vegano falafel amazonika mundi\"],[\"Hamburguer Vegetal Verdali\"],[\"VegBurger Sabor Carne\"],[\"Burger Gourmet Superbom\"],[\"Hamburguer Incr\\u00edvel Seara\"],[\"Not Burguer Notco\"],[\"Hamburguer de Fibra de Caju Amazonika Mundi\"],[\"Hamburguer Vegabom\"],[\"Hamburguer de Carne Veg  e Tal Sadia\"],[\"Hamburger New Butchers\"],[\"Hamburguer de Legumes Mr Veggy\"],[\"Hamburguer Vegetariano Mr Veggy\"],[\"Hambuguer Mr Veggy Mari Mari\"],[\"Hambuguer Mr Veggy Mari Mari Churrrasco\"],[\"Hamb\\u00farguer Fazenda Futuro 2.0\"],[\"Hamb\\u00farguer Vegano de Quinoa Amazonika Mundi\"],[\"Hamburguer Veggie Roots Tempero Indiano\"],[\"Hamb\\u00farguer Sora Carne Vermelha \"],[\"Hamburguer Veggie Roots brazilianspices\"],[\"Hamburguer veggie roots tempero mexicano\"],[\"Hamburguer de Soja Sabor Carne Vegway\"],[\"Hamb\\u00farguer de Soja Empanado Vegway\"],[\"Hamburguer Vegetal Superbom\"],[\"Hamburguer de chickpea Mr Veggy\"],[\"Hamburguer Veggie Roots Tempero \\u00c1rabe\"],[\"Hamburguer Veggie Roots Tempero Tailand\\u00eas\"],[\"Hamburguer Vegabom\"],[\"Hamb\\u00farguer Pronto Saud\\u00e1vel Sora\"],[\"hamburguer vegetal com herbs jasmine\"],[\"Hamburguer Vegetal Tradicional Jasmine\"]],\"hovertemplate\":\"Classification=MEAT 1<br>x=%{x}<br>y=%{y}<br>Product's Name=%{customdata[0]}<extra></extra>\",\"legendgroup\":\"MEAT 1\",\"marker\":{\"color\":\"#FFA15A\",\"symbol\":\"circle\"},\"mode\":\"markers\",\"name\":\"MEAT 1\",\"orientation\":\"v\",\"showlegend\":true,\"x\":[-0.36969750664405104,-0.15127470588230285,-0.023611155887458882,-0.2689133532573757,-0.44698543099152677,-0.23996224098587055,-0.47634191145271193,-0.21749757943347214,-0.4025229489169794,-1.3538103363222276,-0.3487431350549239,-0.008401262739765807,-0.34727914188031483,-0.3940693457921406,-0.43644129652033725,-0.26359587722041977,-0.32268572484893143,-0.3226857248489316,-0.4786904909077369,-0.37121939379725727,-0.0745190913388788,-0.5958019618109939,-0.08472664794833736,-0.17562429651673248,-0.477939433716185,-0.4356498406933401,-0.039840480236084296,-0.9073179450650533,-0.28020208741199265,-0.33922987587679115,0.007246953032589847,-0.14536938426395732,-0.7479273066880242,-0.7479273066880241],\"xaxis\":\"x\",\"y\":[-0.07504815506279348,-0.1235295124253418,0.429227860760447,0.14540997942234454,0.6762257486810611,0.08728078898349936,0.09961941102224503,0.46671366166610667,0.20344238281645977,0.729048876846802,0.1949205108192622,-0.14234830943132454,-0.6317981932250377,-0.08786670198048925,0.6536445772883924,0.0235673315972438,0.02710109167628591,0.027101091676285872,0.208441471923924,0.6699545306921301,0.32203086762127525,-0.0898301856165755,0.25063204951031576,0.4086023363783264,0.33073821321127655,0.1098549703777304,-0.05803844394050156,0.6894409424358552,0.4180789523457594,0.47847922146380556,-0.07972785171712349,-0.1878840106274703,0.47886270718054424,0.47886270718054424],\"yaxis\":\"y\",\"type\":\"scatter\"},{\"customdata\":[[\"Hamb\\u00farguer Sora Carne Branca\"],[\"VegBurger Sabor Frango\"],[\"Hambuguer Incr\\u00edvel Seara Frango\"],[\"Frango Vegano em Peda\\u00e7os \\u00e0 Base de pea\"],[\"Hamb\\u00farguer de Frango Verdali\"]],\"hovertemplate\":\"Classification=POULTRY 2<br>x=%{x}<br>y=%{y}<br>Product's Name=%{customdata[0]}<extra></extra>\",\"legendgroup\":\"POULTRY 2\",\"marker\":{\"color\":\"#19d3f3\",\"symbol\":\"circle\"},\"mode\":\"markers\",\"name\":\"POULTRY 2\",\"orientation\":\"v\",\"showlegend\":true,\"x\":[-0.5958019618109939,-0.4885485543130807,-0.34467901553289276,-0.024547209321088222,-0.2036348531236929],\"xaxis\":\"x\",\"y\":[-0.0898301856165755,0.11685154415826586,0.08446868480072166,0.2313764217746099,0.06173850668390541],\"yaxis\":\"y\",\"type\":\"scatter\"},{\"customdata\":[[\"Empanado de Frango Vegabom\"],[\"Fil\\u00e9 de Frango Empanado Vegabom\"],[\"Empanados de Frango Vegway\"],[\"Empanados Incr\\u00edveis Seara\"],[\"Empanados Sadia Veg e Tal\"],[\"Empanadinho de Soja  Goshen\"],[\"Empanadinho de Soja Vegano  Goshen\"],[\"Steak de Soja Vegano Goshen\"],[\"Empanado Vegano (Mini Crispy) 100 Foods\"],[\"Crispy Chicken 100 Foods\"],[\"Mini Empanado de Legumes Superbom\"],[\"Steak Vegan Sabor Legumes Superbom\"],[\"Steak Veg\\u00ea Sabor Frango\"],[\"Steak Veg\\u00ea Sabor Frango Empanado\"]],\"hovertemplate\":\"Classification=POULTRY 1<br>x=%{x}<br>y=%{y}<br>Product's Name=%{customdata[0]}<extra></extra>\",\"legendgroup\":\"POULTRY 1\",\"marker\":{\"color\":\"#FF6692\",\"symbol\":\"circle\"},\"mode\":\"markers\",\"name\":\"POULTRY 1\",\"orientation\":\"v\",\"showlegend\":true,\"x\":[-0.024817954893608905,-0.02481795489360897,-0.5685708055344046,-0.8703036978426772,-0.6143073471128059,-0.4755985830612331,-0.15163087566801908,-0.3252084848472398,-0.6109798443880085,-0.4438091286206651,-0.41077085218788306,-0.3332927033769139,-0.2985750111513284,-0.29857501115132856],\"xaxis\":\"x\",\"y\":[-0.16286187547773956,-0.16286187547773964,0.4731393869633993,0.902788301611749,0.7993019448142952,-0.11325580984817385,-0.22429392324668163,-0.12207569604977662,0.8239097721328006,0.5391197942438779,0.6651913920048882,0.17380585731324588,0.417849362966831,0.4178493629668309],\"yaxis\":\"y\",\"type\":\"scatter\"},{\"customdata\":[[\"Fil\\u00e9 Peixe Empanado Vegabom\"],[\"Tirinhas de Peixe Empanado Vegabom\"],[\"Bolinho de Bacalhau New Butchers\"],[\"Bolinho de Siri Amazonika Mundi\"],[\"Camar\\u00e3o de Soja Vegano Goshen\"]],\"hovertemplate\":\"Classification=FISH 2<br>x=%{x}<br>y=%{y}<br>Product's Name=%{customdata[0]}<extra></extra>\",\"legendgroup\":\"FISH 2\",\"marker\":{\"color\":\"#B6E880\",\"symbol\":\"circle\"},\"mode\":\"markers\",\"name\":\"FISH 2\",\"orientation\":\"v\",\"showlegend\":true,\"x\":[-0.20457953777212773,-0.2045795377721277,-0.27474608143846535,-0.07211540977962294,-0.3248479059034857],\"xaxis\":\"x\",\"y\":[-0.06609000097129233,-0.06609000097129232,0.48428203227122973,-0.18000647895957392,-0.23404768515062768],\"yaxis\":\"y\",\"type\":\"scatter\"},{\"customdata\":[[\"Queijo Mu\\u00e7arela Vegabom\"],[\"Queijo Picante Vegabom\"],[\"Queijo Cheddar Vegabom\"],[\"Requeisoy Provolone \"],[\"Requeisoy Cheddar' \"],[\"Requeisoy Tradicional\"],[\"Requeisoy Gorgonzola\"],[\"Okeijo R\\u00fastico\"],[\"Okeijo Cremoso\"],[\"Okeijo Gratinado\"],[\"Okeijo Mussarela\"],[\"Okeijo Provolone\"],[\"Creme s Vida Veg\"],[\"Creme s fineherbs e Pesto\"],[\"Queijo mu\\u00e7arela\"],[\"Queijo minas frescal\"],[\"Queijo minas padr\\u00e3o\"],[\"Requeij\\u00e3o Tradicional\"],[\"Requeij\\u00e3o fineherbs\"],[\"Requeij\\u00e3o Defumado\"],[\"Queijo Zimurisku \"],[\"Queijo Zimurisku Temperado\"],[\"Queijo Mozarela NoMoo\"],[\"Queijo Provolone\"],[\"Queijo Ch\\u00e9vre\"],[\"Queijo Prato\"],[\"Queijo Parmes\\u00e3o\"],[\"Requeij\\u00e3o Nomoo\"],[\"Queijo Gorgolino\"],[\"Queijo Melhor Que Cheddar\"],[\"Queijo Recaishow\"],[\"Queijo Brie\"],[\"Mussarela Vegana Goshen\"],[\"Queijo ProVolone Veganita\"],[\"Queijo Munster Veganita\"],[\"Queijo Brie Veganita\"],[\"Queijo Mussarela Veganita\"],[\"Queijo Cheddar Veganita\"],[\"CREAM CHEESE CULIN\\u00c1RIO BASI.CO\"],[\"REQUEIJ\\u00c3O VEGETAL\"],[\"QUEIJO PARMES\\u00c3O\"],[\"QUEIJO MINAS VEGETAL\"],[\"QUEIJO PRATO\"],[\"QUEIJO MU\\u00c7ARELA\"],[\"QUEIJO CHEDDAR\"]],\"hovertemplate\":\"Classification=DAIRY 3<br>x=%{x}<br>y=%{y}<br>Product's Name=%{customdata[0]}<extra></extra>\",\"legendgroup\":\"DAIRY 3\",\"marker\":{\"color\":\"#FF97FF\",\"symbol\":\"circle\"},\"mode\":\"markers\",\"name\":\"DAIRY 3\",\"orientation\":\"v\",\"showlegend\":true,\"x\":[0.034740809121950475,0.034740809121950496,0.03474080912195052,-0.21110972555711716,-0.20173462836603884,-0.1524314078514431,-0.22032764374687264,0.0781506034620583,0.07815060346205842,-0.42381055342802315,0.039755776134365754,0.039755776134365706,-0.2836981753680316,-0.2926819361083719,-0.18826865980369428,-0.15765524026430663,-0.17650986778804292,-0.29381762573854214,-0.2948109699265558,-0.29186623083368435,-1.3102707662676005,-1.3102707662676003,-0.15865610631240987,-0.04818971792047,-0.26812141372574344,-0.04211148410379143,-0.6469411899668994,-0.4399405938691218,-0.2527223994863478,-0.19116738937315228,-0.27268793330980645,-0.6714474198435603,-0.26999959190260026,-0.13747574691088038,-0.23044023697069993,-0.4531505694993573,-0.32591529235202876,-0.388438635537176,-0.2840831806516339,-0.28156020715714913,-0.546687833176888,-0.18801483939858996,-0.27806681803554845,-0.27806681803554856,-0.29812209263358797],\"xaxis\":\"x\",\"y\":[-0.29418970476780976,-0.2941897047678098,-0.29418970476780976,-0.536411660381741,-0.4892245112804499,-0.533215594801901,-0.5153002649244611,-0.0045605754288538,-0.0045605754288537085,0.40368351230377464,-4.835990879372611e-05,-4.835990879376689e-05,-0.4951961333892067,-0.4892755237387224,-0.33171227634792394,-0.33293729167302466,-0.3325495501880793,-0.5058143824430678,-0.5048331114773253,-0.5078002645217409,1.0086960796020539,1.0086960796020539,-0.48075705773736077,-0.4771513781579701,-0.38652549167646155,-0.48363681015000864,0.47305816455449423,-0.4136962497823811,-0.3961175754324838,-0.40212870677942086,-0.42404838319023447,-0.6307777538461273,-0.4160905384397637,-0.3563751230156591,-0.2736674677247975,-0.613815712036922,-0.4892170587156258,-0.431369636762113,-0.4460505438085682,-0.5719430210518673,-0.4777315169652345,-0.4824294963754844,-0.4824413529019604,-0.48244135290196055,-0.4841292847179868],\"yaxis\":\"y\",\"type\":\"scatter\"},{\"customdata\":[[\"Fil\\u00e9 de saltm\\u00e3o New Butchers\"],[\"Bacalhau New  Butchers\"],[\"Isca de Peixe Vegway\"],[\"Fil\\u00e9 de Peixe Vegway\"],[\"Vieira de Soja Vegway\"],[\"Bacalhau Incr\\u00edvel Seara\"],[\"Iscas de Peixe Incr\\u00edvel Seara\"],[\"Atum do Futuro\"]],\"hovertemplate\":\"Classification=FISH 1<br>x=%{x}<br>y=%{y}<br>Product's Name=%{customdata[0]}<extra></extra>\",\"legendgroup\":\"FISH 1\",\"marker\":{\"color\":\"#FECB52\",\"symbol\":\"circle\"},\"mode\":\"markers\",\"name\":\"FISH 1\",\"orientation\":\"v\",\"showlegend\":true,\"x\":[-0.25045303291374416,-0.22453390240196253,-0.4081575285552839,-0.3110386692031036,-0.41907304452286875,-0.2094705659057449,-0.8243477610518197,-0.3102767788644055],\"xaxis\":\"x\",\"y\":[0.15669733940301958,0.9791381371407704,0.29303269393090675,0.3093713585749583,0.4256375448357572,0.9053301760590956,0.8637782637559277,0.08259757693498604],\"yaxis\":\"y\",\"type\":\"scatter\"},{\"customdata\":[[\"Presunto de Soja Vegway\"],[\"Bacon Vegano\"],[\"Mortadela de Soja Vegana Goshen\"],[\"Presunto de Soja Defumado\"],[\"Presunto de Soja Vegano Fatiado Goshen\"],[\"Bacon Crispy Verdali\"]],\"hovertemplate\":\"Classification=PORK 2<br>x=%{x}<br>y=%{y}<br>Product's Name=%{customdata[0]}<extra></extra>\",\"legendgroup\":\"PORK 2\",\"marker\":{\"color\":\"#636efa\",\"symbol\":\"circle\"},\"mode\":\"markers\",\"name\":\"PORK 2\",\"orientation\":\"v\",\"showlegend\":true,\"x\":[-0.2614816581002491,-0.7749324764748002,-0.4610345412351496,-0.46375871114233885,-0.47385958352966484,-1.226413932581804],\"xaxis\":\"x\",\"y\":[-0.15388604274810294,0.5706259961586244,-0.3098506537154881,-0.0751209642566208,-0.3014835713613597,0.7245933477121186],\"yaxis\":\"y\",\"type\":\"scatter\"},{\"customdata\":[[\"Not Milk \"],[\"Not Milk Semidesnatado\"],[\" Vegetal de almonds\"],[\" vegetal \"],[\" Vegetal de almonds Fresco\"],[\" Vegetal  de Caj\\u00fa Fresco\"],[\" Vegetal  Fresco\"],[\" Vegetal Noats Original\"],[\" Vegetal Noats Barista\"],[\" Jasmine rice em P\\u00f3\"],[\" BIOV jasmine rice com amendoas\"],[\" BIOV jasmine rice com coco\"],[\" BioV oats Jasmine\"],[\" Jasmine rice \"],[\" Jasmine rice com oats\"],[\"Bebida de rice Nesfit\"],[\"Bebida Natural Nesfit\"],[\"Bebida de rice  e Amendoas Nesfit\"],[\"Bebida de rice e Coco Nesfit\"],[\"Bebida de oats Nesfit\"],[\"Bebida de oats e cocoa\"],[\"Molico Vegetal Nestl\\u00e9\"],[\"Ninho Vegetal Nestl\\u00e9\"],[\"Ninho Banana e apple Nestl\\u00e9\"],[\"Nude Edi\\u00e7\\u00e3o Barista\"],[\"Nude Original \"],[\"Nude Sabor Baunilha\"],[\"Nude de cocoa\"],[\"Nude + calcium\"],[\"Nude Barista\"],[\"Almond Breeze Original\"],[\"Almond Breeze Chocolate\"],[\"Almond Breeze Baunilha\"],[\"Almond Breeze Sem sugar\"],[\"Almond Breeze Amendoas com Coco\"],[\"Almond Breeze Chocolate Sem sugar\"],[\" de Amendoas Silk Sem sugar\"],[\" de Amendoas Silk \"],[\" cashews Silk\"],[\" de almonds e cocoa Silk\"],[\" de almonds Silk Coco\"],[\"Bebida de rice L\\u00edquida Sabor Original\"],[\"Bebida de rice L\\u00edquida Sabor almonds\"],[\"Bebida de rice L\\u00edquida Sabor peanuts\\n\"],[\"Bebida de rice L\\u00edquida Sabor cashews\"],[\"Bebida de rice L\\u00edquida Sabor Chocolate\"],[\"Bebida de rice L\\u00edquida Sabor Coco\"],[\"Bebida de rice L\\u00edquida Sabor Baunilha\"],[\"Bebida de rice Em P\\u00f3 Sabor Original\"],[\"Bebida de rice Em P\\u00f3 Sabor Original\"],[\"Bebida de rice Em P\\u00f3 Sabor Banana e apple\"],[\"Bebida de rice Em P\\u00f3 Sabor Chocolate\"],[\"Bebida de rice Em P\\u00f3 Sabor strawberries\"],[\" a tal da castanha barista\"],[\" a tal da castanha original\"],[\" a tal da castanha caju + Coco\"],[\" a tal da castanha almonds\"],[\" a tal da castanha castanha + cocoa\"],[\" a tal da castanha oats\"],[\" a tal da castanha mixed nuts\"],[\" a tal da castanha caju + Par\\u00e1\"],[\" a tal da castanha caju + peanuts\"],[\" Natuterra oats + Coco\"],[\" de almonds Natuterra\"],[\" Natuterra oats \"],[\" Vegetal 3 Nuts \\u2013 macadamianuts, almonds e cashews\"],[\" Vegetal de macadamianuts e Coco\"],[\" Vegetal de macadamianuts e cashews\"],[\" Vegetal Possible Foods\"],[\" Vegetal Possible Foods Chocolate\"],[\"Bebida de castanh de caj\\u00fa sem adi\\u00e7\\u00e3o de sugar nature's heart\"],[\"Bebida de almonds s/ adi\\u00e7\\u00e3o de sugares 1L \\u2013 Nature\\u2019s Heart\"],[\"Bebida de rice s/ adi\\u00e7\\u00e3o de sugares 1L \\u2013 Nature\\u2019s Heart\"],[\"Bebida de oats s/ adi\\u00e7\\u00e3o de sugares 1L \\u2013 Nature\\u2019s Heart\"],[\"Bebida de cocoa & rice 1L \\u2013 Nature\\u2019s Heart\"],[\"Bebida  & rice s/ adi\\u00e7\\u00e3o de sugares 1L \\u2013 Nature\\u2019s Heart\"],[\" Vegetal de soy Naturis Batavo\"],[\" DUOLAT peanuts E CASTANHA 1L - CAJUEIRO\"],[\" 85 CASTANHAS 1L - CAJUEIRO\"],[\" TOASTED 1L - CAJUEIRO\"]],\"hovertemplate\":\"Classification=DAIRY 1<br>x=%{x}<br>y=%{y}<br>Product's Name=%{customdata[0]}<extra></extra>\",\"legendgroup\":\"DAIRY 1\",\"marker\":{\"color\":\"#EF553B\",\"symbol\":\"circle\"},\"mode\":\"markers\",\"name\":\"DAIRY 1\",\"orientation\":\"v\",\"showlegend\":true,\"x\":[0.7664501288485073,0.8134690958036731,0.8204890747723025,0.8201441743240439,0.8046065758007976,0.8131973999357021,0.8080314643176584,0.4608677405487627,0.41933616550213326,1.0380745104677445,0.7246786057064845,1.0340117588686037,0.419336165502133,1.0380745104677445,1.0166191221105603,1.1501007914823318,0.8942309205053278,1.1758587584224174,1.170185862794326,1.15280965568779,1.429892541874489,0.7748026426198716,0.8451266838637106,1.107322714068966,0.9201613267487061,0.6377933502031756,0.7828169946794046,0.8273224356166685,0.872684708688827,0.920161326748706,1.154430840980241,1.536291473490881,1.2960072820760784,0.9787427708170684,0.9618163223026893,1.1776158630967186,0.42389420924887683,0.4697680697472968,0.3942345000991009,0.36594791116262343,0.3957710784338214,0.43572285699150004,0.43572285699149976,0.43572285699149993,0.43572285699149993,0.4357228569915,0.4357228569915,0.43572285699149976,-0.5574124051429591,-0.5574124051429594,-0.5574124051429592,-0.5574124051429593,-0.5574124051429594,0.461984408179842,0.43474212395312745,0.4447483258067617,0.7147896042438031,0.38193807777615546,1.1104272662543986,0.8598567915396506,0.4465459527708038,0.4539672649496394,0.8166894448560799,0.8117622147311203,0.8354353343240226,0.41746735418630543,0.39170717040612585,0.4143465521446356,1.0694684216377668,1.1979261028927295,0.8155081835296866,0.8130419501271591,1.0864755567051076,1.0807832834796718,1.3867384522719486,1.0604865582278145,0.6642076382256379,0.3726505091266266,0.3869666117854947,0.40931582716305354],\"xaxis\":\"x\",\"y\":[0.08994519578369302,0.09935243468339934,-0.09922993952030884,-0.1284924191875894,-0.09349830901564019,-0.018929576281982694,-0.10679336395066136,-0.09548175000575741,0.07012071567799014,0.39958262305776465,0.17074548382045313,0.4013478220855352,0.0701207156779899,0.3995826230577648,0.3649680143613516,0.09881985630257674,0.02319220230775377,0.14433851016970262,0.20727160361383573,0.2098925348518405,0.33042407478098096,-0.46549832725923884,-0.3241090976516998,0.33588839028094797,-0.002652658929938363,0.03286704166254952,0.16717460731147554,0.20920781865645524,0.14812211743280437,-0.002652658929938445,0.03404875767619901,0.288146960234793,0.14325277229344782,-0.11446867261030351,-0.007433365975238485,-0.05641982843974133,-0.03943066098939693,0.07995573328496047,0.015218570473516536,0.16016663660896838,-0.0357895343279361,0.07600495196116323,0.07600495196116311,0.07600495196116311,0.07600495196116328,0.07600495196116319,0.07600495196116319,0.07600495196116315,-0.11156384092533056,-0.11156384092533084,-0.1115638409253306,-0.11156384092533073,-0.11156384092533077,0.03096108676397746,-0.0661656173980562,-0.07605343574804659,-0.1174951981100057,0.20136046836163465,0.19886674660897433,0.010343602883554107,-0.0725695038416607,-0.024899180434827355,-0.16383250411061834,-0.15540224435881894,-0.10490286252022825,-0.0886995196967799,-0.07073607430727288,-0.07527235248539808,0.016970543265137472,0.18335108671326145,-0.11663454529877396,-0.11819032720473853,0.09195842744149978,0.18505062233450842,0.31589201030902664,0.1997407926176274,0.13691721936286055,-0.02761318932567894,-0.04434309029760113,-0.07425755539729072],\"yaxis\":\"y\",\"type\":\"scatter\"},{\"customdata\":[[\"Iogurte \"],[\"Iogurte  com strawberries\"],[\"Iogurte  com banana, apple e papaya\"],[\"Iogurte  Zero sugar\"],[\"Iogurte  com strawberries Zero sugar\"],[\"Iogurte GregoVeg \"],[\"Iogurte GregoVeg  com strawberries\"],[\"Iogurte Proteico 14g sabor strawberries\"],[\"Shake \"],[\"Iogurte Proteico 14g sabor  peanuts\"],[\"Creme de almonds\"]],\"hovertemplate\":\"Classification=DAIRY 2<br>x=%{x}<br>y=%{y}<br>Product's Name=%{customdata[0]}<extra></extra>\",\"legendgroup\":\"DAIRY 2\",\"marker\":{\"color\":\"#00cc96\",\"symbol\":\"circle\"},\"mode\":\"markers\",\"name\":\"DAIRY 2\",\"orientation\":\"v\",\"showlegend\":true,\"x\":[0.7731963891820784,0.7702476902719707,0.7702476902719708,0.7874271797933868,0.7849259541384593,0.24617002605336097,0.24434568030979945,0.7147966309487404,0.3960978495870845,0.7170109223401911,-0.06182460989618779],\"xaxis\":\"x\",\"y\":[0.2812277733244955,0.3103873856249987,0.31038738562499857,-0.014908478813570207,0.008509493116666851,0.15233213491261,0.16680763558988854,0.30988431054813664,0.19691684075027263,0.30146543372855317,-0.5654250148404265],\"yaxis\":\"y\",\"type\":\"scatter\"},{\"customdata\":[[\"MAIONESE VEGETAL SUPERBOM\"],[\"MAIONESE FUGINI\"],[\"NOT MAYO\"],[\"NOT MAYO garlic\"],[\"NOT MAYO AZEITONA\"],[\"NOT MAYO PICANTE\"],[\"MAIONESE V-MAYO\"],[\"MAIONESE V-MAYO ApepperDA\"],[\"MAIONESE V-MAYO TRUFADA\"],[\"MAIONESE V-MAYO DE ABACATE\"],[\"MAIONESE V-MAYO DE garlic\"],[\"MAIONESE HELLMANS\"],[\"MAIONESE VEGANA FUGINI\"],[\"MAIONESE DEL\\u00cdCIAS DE GOI\\u00c1S\"]],\"hovertemplate\":\"Classification=EGG 1<br>x=%{x}<br>y=%{y}<br>Product's Name=%{customdata[0]}<extra></extra>\",\"legendgroup\":\"EGG 1\",\"marker\":{\"color\":\"#ab63fa\",\"symbol\":\"circle\"},\"mode\":\"markers\",\"name\":\"EGG 1\",\"orientation\":\"v\",\"showlegend\":true,\"x\":[-0.45585481642954445,-0.2739573785383419,-0.48029689355913013,-0.49176594795999057,-0.41641291529018915,-0.4024701292156468,-0.26151641062660763,-0.2615164106266077,-0.26151641062660763,-0.2615164106266078,-0.2615164106266078,-0.29734610114131876,-0.23597978980062068,-0.14660354691524835],\"xaxis\":\"x\",\"y\":[-0.37964140750280995,-0.49480324680923843,-0.77804987945498,-0.7619926173161363,-0.6618513537264853,-0.6559411937150166,-0.4805586706487081,-0.48055867064870794,-0.4805586706487081,-0.4805586706487081,-0.4805586706487081,-0.524261232477475,-0.9545624899826267,-0.2295315702820087],\"yaxis\":\"y\",\"type\":\"scatter\"},{\"customdata\":[[\"Ovos Novos\"],[\"VEGAN PRO EGGS NUTRIFY\"]],\"hovertemplate\":\"Classification=EGG 2<br>x=%{x}<br>y=%{y}<br>Product's Name=%{customdata[0]}<extra></extra>\",\"legendgroup\":\"EGG 2\",\"marker\":{\"color\":\"#FFA15A\",\"symbol\":\"circle\"},\"mode\":\"markers\",\"name\":\"EGG 2\",\"orientation\":\"v\",\"showlegend\":true,\"x\":[-0.4539259990681962,-0.41683040725879644],\"xaxis\":\"x\",\"y\":[-0.44963855534657926,-0.606784973335642],\"yaxis\":\"y\",\"type\":\"scatter\"}],                        {\"template\":{\"data\":{\"bar\":[{\"error_x\":{\"color\":\"#2a3f5f\"},\"error_y\":{\"color\":\"#2a3f5f\"},\"marker\":{\"line\":{\"color\":\"#E5ECF6\",\"width\":0.5},\"pattern\":{\"fillmode\":\"overlay\",\"size\":10,\"solidity\":0.2}},\"type\":\"bar\"}],\"barpolar\":[{\"marker\":{\"line\":{\"color\":\"#E5ECF6\",\"width\":0.5},\"pattern\":{\"fillmode\":\"overlay\",\"size\":10,\"solidity\":0.2}},\"type\":\"barpolar\"}],\"carpet\":[{\"aaxis\":{\"endlinecolor\":\"#2a3f5f\",\"gridcolor\":\"white\",\"linecolor\":\"white\",\"minorgridcolor\":\"white\",\"startlinecolor\":\"#2a3f5f\"},\"baxis\":{\"endlinecolor\":\"#2a3f5f\",\"gridcolor\":\"white\",\"linecolor\":\"white\",\"minorgridcolor\":\"white\",\"startlinecolor\":\"#2a3f5f\"},\"type\":\"carpet\"}],\"choropleth\":[{\"colorbar\":{\"outlinewidth\":0,\"ticks\":\"\"},\"type\":\"choropleth\"}],\"contour\":[{\"colorbar\":{\"outlinewidth\":0,\"ticks\":\"\"},\"colorscale\":[[0.0,\"#0d0887\"],[0.1111111111111111,\"#46039f\"],[0.2222222222222222,\"#7201a8\"],[0.3333333333333333,\"#9c179e\"],[0.4444444444444444,\"#bd3786\"],[0.5555555555555556,\"#d8576b\"],[0.6666666666666666,\"#ed7953\"],[0.7777777777777778,\"#fb9f3a\"],[0.8888888888888888,\"#fdca26\"],[1.0,\"#f0f921\"]],\"type\":\"contour\"}],\"contourcarpet\":[{\"colorbar\":{\"outlinewidth\":0,\"ticks\":\"\"},\"type\":\"contourcarpet\"}],\"heatmap\":[{\"colorbar\":{\"outlinewidth\":0,\"ticks\":\"\"},\"colorscale\":[[0.0,\"#0d0887\"],[0.1111111111111111,\"#46039f\"],[0.2222222222222222,\"#7201a8\"],[0.3333333333333333,\"#9c179e\"],[0.4444444444444444,\"#bd3786\"],[0.5555555555555556,\"#d8576b\"],[0.6666666666666666,\"#ed7953\"],[0.7777777777777778,\"#fb9f3a\"],[0.8888888888888888,\"#fdca26\"],[1.0,\"#f0f921\"]],\"type\":\"heatmap\"}],\"heatmapgl\":[{\"colorbar\":{\"outlinewidth\":0,\"ticks\":\"\"},\"colorscale\":[[0.0,\"#0d0887\"],[0.1111111111111111,\"#46039f\"],[0.2222222222222222,\"#7201a8\"],[0.3333333333333333,\"#9c179e\"],[0.4444444444444444,\"#bd3786\"],[0.5555555555555556,\"#d8576b\"],[0.6666666666666666,\"#ed7953\"],[0.7777777777777778,\"#fb9f3a\"],[0.8888888888888888,\"#fdca26\"],[1.0,\"#f0f921\"]],\"type\":\"heatmapgl\"}],\"histogram\":[{\"marker\":{\"pattern\":{\"fillmode\":\"overlay\",\"size\":10,\"solidity\":0.2}},\"type\":\"histogram\"}],\"histogram2d\":[{\"colorbar\":{\"outlinewidth\":0,\"ticks\":\"\"},\"colorscale\":[[0.0,\"#0d0887\"],[0.1111111111111111,\"#46039f\"],[0.2222222222222222,\"#7201a8\"],[0.3333333333333333,\"#9c179e\"],[0.4444444444444444,\"#bd3786\"],[0.5555555555555556,\"#d8576b\"],[0.6666666666666666,\"#ed7953\"],[0.7777777777777778,\"#fb9f3a\"],[0.8888888888888888,\"#fdca26\"],[1.0,\"#f0f921\"]],\"type\":\"histogram2d\"}],\"histogram2dcontour\":[{\"colorbar\":{\"outlinewidth\":0,\"ticks\":\"\"},\"colorscale\":[[0.0,\"#0d0887\"],[0.1111111111111111,\"#46039f\"],[0.2222222222222222,\"#7201a8\"],[0.3333333333333333,\"#9c179e\"],[0.4444444444444444,\"#bd3786\"],[0.5555555555555556,\"#d8576b\"],[0.6666666666666666,\"#ed7953\"],[0.7777777777777778,\"#fb9f3a\"],[0.8888888888888888,\"#fdca26\"],[1.0,\"#f0f921\"]],\"type\":\"histogram2dcontour\"}],\"mesh3d\":[{\"colorbar\":{\"outlinewidth\":0,\"ticks\":\"\"},\"type\":\"mesh3d\"}],\"parcoords\":[{\"line\":{\"colorbar\":{\"outlinewidth\":0,\"ticks\":\"\"}},\"type\":\"parcoords\"}],\"pie\":[{\"automargin\":true,\"type\":\"pie\"}],\"scatter\":[{\"marker\":{\"colorbar\":{\"outlinewidth\":0,\"ticks\":\"\"}},\"type\":\"scatter\"}],\"scatter3d\":[{\"line\":{\"colorbar\":{\"outlinewidth\":0,\"ticks\":\"\"}},\"marker\":{\"colorbar\":{\"outlinewidth\":0,\"ticks\":\"\"}},\"type\":\"scatter3d\"}],\"scattercarpet\":[{\"marker\":{\"colorbar\":{\"outlinewidth\":0,\"ticks\":\"\"}},\"type\":\"scattercarpet\"}],\"scattergeo\":[{\"marker\":{\"colorbar\":{\"outlinewidth\":0,\"ticks\":\"\"}},\"type\":\"scattergeo\"}],\"scattergl\":[{\"marker\":{\"colorbar\":{\"outlinewidth\":0,\"ticks\":\"\"}},\"type\":\"scattergl\"}],\"scattermapbox\":[{\"marker\":{\"colorbar\":{\"outlinewidth\":0,\"ticks\":\"\"}},\"type\":\"scattermapbox\"}],\"scatterpolar\":[{\"marker\":{\"colorbar\":{\"outlinewidth\":0,\"ticks\":\"\"}},\"type\":\"scatterpolar\"}],\"scatterpolargl\":[{\"marker\":{\"colorbar\":{\"outlinewidth\":0,\"ticks\":\"\"}},\"type\":\"scatterpolargl\"}],\"scatterternary\":[{\"marker\":{\"colorbar\":{\"outlinewidth\":0,\"ticks\":\"\"}},\"type\":\"scatterternary\"}],\"surface\":[{\"colorbar\":{\"outlinewidth\":0,\"ticks\":\"\"},\"colorscale\":[[0.0,\"#0d0887\"],[0.1111111111111111,\"#46039f\"],[0.2222222222222222,\"#7201a8\"],[0.3333333333333333,\"#9c179e\"],[0.4444444444444444,\"#bd3786\"],[0.5555555555555556,\"#d8576b\"],[0.6666666666666666,\"#ed7953\"],[0.7777777777777778,\"#fb9f3a\"],[0.8888888888888888,\"#fdca26\"],[1.0,\"#f0f921\"]],\"type\":\"surface\"}],\"table\":[{\"cells\":{\"fill\":{\"color\":\"#EBF0F8\"},\"line\":{\"color\":\"white\"}},\"header\":{\"fill\":{\"color\":\"#C8D4E3\"},\"line\":{\"color\":\"white\"}},\"type\":\"table\"}]},\"layout\":{\"annotationdefaults\":{\"arrowcolor\":\"#2a3f5f\",\"arrowhead\":0,\"arrowwidth\":1},\"autotypenumbers\":\"strict\",\"coloraxis\":{\"colorbar\":{\"outlinewidth\":0,\"ticks\":\"\"}},\"colorscale\":{\"diverging\":[[0,\"#8e0152\"],[0.1,\"#c51b7d\"],[0.2,\"#de77ae\"],[0.3,\"#f1b6da\"],[0.4,\"#fde0ef\"],[0.5,\"#f7f7f7\"],[0.6,\"#e6f5d0\"],[0.7,\"#b8e186\"],[0.8,\"#7fbc41\"],[0.9,\"#4d9221\"],[1,\"#276419\"]],\"sequential\":[[0.0,\"#0d0887\"],[0.1111111111111111,\"#46039f\"],[0.2222222222222222,\"#7201a8\"],[0.3333333333333333,\"#9c179e\"],[0.4444444444444444,\"#bd3786\"],[0.5555555555555556,\"#d8576b\"],[0.6666666666666666,\"#ed7953\"],[0.7777777777777778,\"#fb9f3a\"],[0.8888888888888888,\"#fdca26\"],[1.0,\"#f0f921\"]],\"sequentialminus\":[[0.0,\"#0d0887\"],[0.1111111111111111,\"#46039f\"],[0.2222222222222222,\"#7201a8\"],[0.3333333333333333,\"#9c179e\"],[0.4444444444444444,\"#bd3786\"],[0.5555555555555556,\"#d8576b\"],[0.6666666666666666,\"#ed7953\"],[0.7777777777777778,\"#fb9f3a\"],[0.8888888888888888,\"#fdca26\"],[1.0,\"#f0f921\"]]},\"colorway\":[\"#636efa\",\"#EF553B\",\"#00cc96\",\"#ab63fa\",\"#FFA15A\",\"#19d3f3\",\"#FF6692\",\"#B6E880\",\"#FF97FF\",\"#FECB52\"],\"font\":{\"color\":\"#2a3f5f\"},\"geo\":{\"bgcolor\":\"white\",\"lakecolor\":\"white\",\"landcolor\":\"#E5ECF6\",\"showlakes\":true,\"showland\":true,\"subunitcolor\":\"white\"},\"hoverlabel\":{\"align\":\"left\"},\"hovermode\":\"closest\",\"mapbox\":{\"style\":\"light\"},\"paper_bgcolor\":\"white\",\"plot_bgcolor\":\"#E5ECF6\",\"polar\":{\"angularaxis\":{\"gridcolor\":\"white\",\"linecolor\":\"white\",\"ticks\":\"\"},\"bgcolor\":\"#E5ECF6\",\"radialaxis\":{\"gridcolor\":\"white\",\"linecolor\":\"white\",\"ticks\":\"\"}},\"scene\":{\"xaxis\":{\"backgroundcolor\":\"#E5ECF6\",\"gridcolor\":\"white\",\"gridwidth\":2,\"linecolor\":\"white\",\"showbackground\":true,\"ticks\":\"\",\"zerolinecolor\":\"white\"},\"yaxis\":{\"backgroundcolor\":\"#E5ECF6\",\"gridcolor\":\"white\",\"gridwidth\":2,\"linecolor\":\"white\",\"showbackground\":true,\"ticks\":\"\",\"zerolinecolor\":\"white\"},\"zaxis\":{\"backgroundcolor\":\"#E5ECF6\",\"gridcolor\":\"white\",\"gridwidth\":2,\"linecolor\":\"white\",\"showbackground\":true,\"ticks\":\"\",\"zerolinecolor\":\"white\"}},\"shapedefaults\":{\"line\":{\"color\":\"#2a3f5f\"}},\"ternary\":{\"aaxis\":{\"gridcolor\":\"white\",\"linecolor\":\"white\",\"ticks\":\"\"},\"baxis\":{\"gridcolor\":\"white\",\"linecolor\":\"white\",\"ticks\":\"\"},\"bgcolor\":\"#E5ECF6\",\"caxis\":{\"gridcolor\":\"white\",\"linecolor\":\"white\",\"ticks\":\"\"}},\"title\":{\"x\":0.05},\"xaxis\":{\"automargin\":true,\"gridcolor\":\"white\",\"linecolor\":\"white\",\"ticks\":\"\",\"title\":{\"standoff\":15},\"zerolinecolor\":\"white\",\"zerolinewidth\":2},\"yaxis\":{\"automargin\":true,\"gridcolor\":\"white\",\"linecolor\":\"white\",\"ticks\":\"\",\"title\":{\"standoff\":15},\"zerolinecolor\":\"white\",\"zerolinewidth\":2}}},\"xaxis\":{\"anchor\":\"y\",\"domain\":[0.0,1.0],\"title\":{\"text\":\"x\"}},\"yaxis\":{\"anchor\":\"x\",\"domain\":[0.0,1.0],\"title\":{\"text\":\"y\"}},\"legend\":{\"title\":{\"text\":\"Classification\"},\"tracegroupgap\":0},\"margin\":{\"t\":60},\"width\":800},                        {\"responsive\": true}                    ).then(function(){\n",
              "                            \n",
              "var gd = document.getElementById('a76ac1b5-2713-4813-9530-3048178c3925');\n",
              "var x = new MutationObserver(function (mutations, observer) {{\n",
              "        var display = window.getComputedStyle(gd).display;\n",
              "        if (!display || display === 'none') {{\n",
              "            console.log([gd, 'removed!']);\n",
              "            Plotly.purge(gd);\n",
              "            observer.disconnect();\n",
              "        }}\n",
              "}});\n",
              "\n",
              "// Listen for the removal of the full notebook cells\n",
              "var notebookContainer = gd.closest('#notebook-container');\n",
              "if (notebookContainer) {{\n",
              "    x.observe(notebookContainer, {childList: true});\n",
              "}}\n",
              "\n",
              "// Listen for the clearing of the current output cell\n",
              "var outputEl = gd.closest('.output');\n",
              "if (outputEl) {{\n",
              "    x.observe(outputEl, {childList: true});\n",
              "}}\n",
              "\n",
              "                        })                };                            </script>        </div>\n",
              "</body>\n",
              "</html>"
            ]
          },
          "metadata": {}
        }
      ]
    },
    {
      "cell_type": "markdown",
      "source": [
        "# Trustworthiness"
      ],
      "metadata": {
        "id": "R59Go1ZKswV3"
      }
    },
    {
      "cell_type": "markdown",
      "source": [
        "### t-SNE"
      ],
      "metadata": {
        "id": "d7nFsrDfFBad"
      }
    },
    {
      "cell_type": "code",
      "source": [
        "kneigh = []\n",
        "y_tsne = np.zeros((10,21))\n",
        "\n",
        "v_perplexity = [5,10,15,20,25,30,35,40,45,50]\n",
        "v_learning_rate = [10,50,100,150,200,250,300,350,400,450,500,550,600,650,700,750,800,850,900,950,1000]\n",
        "\n",
        "for pv in range(0,21):\n",
        "  kneigh.append(v_learning_rate[pv])\n",
        "  for pi in range(0,10):\n",
        "    tsne = TSNE(n_components=2,perplexity=v_perplexity[pi],learning_rate=v_learning_rate[pv],metric='euclidean', init='pca')\n",
        "    X_tsne = tsne.fit_transform(X)\n",
        "    precision = trustworthiness(X, X_tsne, metric='euclidean')\n",
        "    y_tsne[pi][pv] = precision"
      ],
      "metadata": {
        "id": "bi9sB3AUs0oX"
      },
      "execution_count": null,
      "outputs": []
    },
    {
      "cell_type": "code",
      "source": [
        "fig = go.Figure()\n",
        "for pi in range(10):\n",
        "  fig.add_trace(go.Scatter(x=kneigh, y=y_tsne[pi],\n",
        "                    mode='lines+markers',\n",
        "                    name='t-SNE perplexity ' + str(v_perplexity[pi])))\n",
        "\n",
        "fig.show()"
      ],
      "metadata": {
        "colab": {
          "base_uri": "https://localhost:8080/",
          "height": 542
        },
        "id": "N1fQ-eLneePn",
        "outputId": "39552347-7d45-47e1-8ebe-2abc3c792c8f"
      },
      "execution_count": 88,
      "outputs": [
        {
          "output_type": "display_data",
          "data": {
            "text/html": [
              "<html>\n",
              "<head><meta charset=\"utf-8\" /></head>\n",
              "<body>\n",
              "    <div>            <script src=\"https://cdnjs.cloudflare.com/ajax/libs/mathjax/2.7.5/MathJax.js?config=TeX-AMS-MML_SVG\"></script><script type=\"text/javascript\">if (window.MathJax) {MathJax.Hub.Config({SVG: {font: \"STIX-Web\"}});}</script>                <script type=\"text/javascript\">window.PlotlyConfig = {MathJaxConfig: 'local'};</script>\n",
              "        <script src=\"https://cdn.plot.ly/plotly-2.8.3.min.js\"></script>                <div id=\"537c3ed0-8397-4245-8096-48d68959fb84\" class=\"plotly-graph-div\" style=\"height:525px; width:100%;\"></div>            <script type=\"text/javascript\">                                    window.PLOTLYENV=window.PLOTLYENV || {};                                    if (document.getElementById(\"537c3ed0-8397-4245-8096-48d68959fb84\")) {                    Plotly.newPlot(                        \"537c3ed0-8397-4245-8096-48d68959fb84\",                        [{\"mode\":\"lines+markers\",\"name\":\"t-SNE perplexity 5\",\"x\":[10,50,100,150,200,250,300,350,400,450,500,550,600,650,700,750,800,850,900,950,1000],\"y\":[0.8976449275362319,0.8993267358857885,0.8970987454034177,0.8840174129353234,0.8762870430456413,0.8831819165044343,0.8742699545749513,0.8851692623837335,0.8687946138870863,0.8718986588795155,0.7219824789097988,0.7578547479991348,0.7252839065541856,0.7344662556781312,0.7159041747782825,0.7235966904607398,0.7319435431537962,0.7342769846420074,0.7069949167207441,0.7193543153796236,0.702960739779364],\"type\":\"scatter\"},{\"mode\":\"lines+markers\",\"name\":\"t-SNE perplexity 10\",\"x\":[10,50,100,150,200,250,300,350,400,450,500,550,600,650,700,750,800,850,900,950,1000],\"y\":[0.8929726368159204,0.8907825005407743,0.8822463768115942,0.8642710361237291,0.8807673588578845,0.8834198572355614,0.8797101449275362,0.8750973393900066,0.8659555483452304,0.8538340904174778,0.8326844040666235,0.6781094527363185,0.6997215011897037,0.7543207873675103,0.7323004542504867,0.704423534501406,0.7058160285528878,0.7331548777849881,0.7486291369240753,0.7340336361669911,0.7188459874540343],\"type\":\"scatter\"},{\"mode\":\"lines+markers\",\"name\":\"t-SNE perplexity 15\",\"x\":[10,50,100,150,200,250,300,350,400,450,500,550,600,650,700,750,800,850,900,950,1000],\"y\":[0.8951817001946788,0.8931105342850962,0.894611183214363,0.8886680726800779,0.8809566298940082,0.8687702790395847,0.8667234479775038,0.8714146658014277,0.8831170235777633,0.8655364481938136,0.8698761626649362,0.851397901795371,0.7833522604369457,0.7293829764222366,0.7590471555267142,0.7689649578195976,0.7498431754272118,0.7332684404066623,0.7214281851611508,0.7385247674670128,0.6979802076573653],\"type\":\"scatter\"},{\"mode\":\"lines+markers\",\"name\":\"t-SNE perplexity 20\",\"x\":[10,50,100,150,200,250,300,350,400,450,500,550,600,650,700,750,800,850,900,950,1000],\"y\":[0.8779445165476963,0.8831494700410989,0.8804699329439758,0.8778769197490807,0.8731397361020983,0.8708847069002812,0.8913746484966472,0.8638032662773091,0.8572058187324249,0.8992807700627299,0.8606018818948735,0.8619457062513519,0.8349286177806619,0.7336983560458576,0.7642629245078953,0.764992969932944,0.7489184512221501,0.7236075059485183,0.7426292450789531,0.7640979883192732,0.7538340904174778],\"type\":\"scatter\"},{\"mode\":\"lines+markers\",\"name\":\"t-SNE perplexity 25\",\"x\":[10,50,100,150,200,250,300,350,400,450,500,550,600,650,700,750,800,850,900,950,1000],\"y\":[0.8819219121782392,0.8699437594635518,0.8836875405580792,0.8753406878650227,0.8680402336145361,0.8770576465498594,0.8745295262816353,0.8796425481289206,0.863681592039801,0.8758273848150552,0.8543667531905689,0.7817921263248973,0.7753379839930781,0.7265736534717716,0.7173020765736535,0.7331332468094311,0.7239022279904823,0.7220338524767467,0.7456332468094311,0.7076925156824573,0.7046101016655851],\"type\":\"scatter\"},{\"mode\":\"lines+markers\",\"name\":\"t-SNE perplexity 30\",\"x\":[10,50,100,150,200,250,300,350,400,450,500,550,600,650,700,750,800,850,900,950,1000],\"y\":[0.8757733073761627,0.8864779364049319,0.8816082630326628,0.8571409258057539,0.8677265844689596,0.8536096690460739,0.8671939216958685,0.8725665152498377,0.8681619078520442,0.8649740428293315,0.8794640925805755,0.867550832792559,0.8554347826086957,0.7465038935756003,0.7459468959550075,0.7639736102098205,0.7498621025308241,0.7312053861129137,0.7576817001946787,0.7321247025740861,0.7211253515033529],\"type\":\"scatter\"},{\"mode\":\"lines+markers\",\"name\":\"t-SNE perplexity 35\",\"x\":[10,50,100,150,200,250,300,350,400,450,500,550,600,650,700,750,800,850,900,950,1000],\"y\":[0.8684322950465067,0.8772306943543153,0.869438135409907,0.8681592039800995,0.865641899199654,0.8671506597447545,0.8820192515682457,0.858868699978369,0.8818786502271252,0.8730207657365348,0.8628893575600259,0.8586226476314082,0.727341553104045,0.7742023577763357,0.7810999351070733,0.7688730261734804,0.7440514817218257,0.7611480640276876,0.7475556997620593,0.7464471122647631,0.7482046290287692],\"type\":\"scatter\"},{\"mode\":\"lines+markers\",\"name\":\"t-SNE perplexity 40\",\"x\":[10,50,100,150,200,250,300,350,400,450,500,550,600,650,700,750,800,850,900,950,1000],\"y\":[0.8794776119402985,0.8741374648496647,0.8692353450140602,0.8704385680294181,0.87208252217175,0.8683971447112264,0.8589308890330953,0.8800913908717283,0.8472285312567597,0.8723934674453818,0.8614563054293749,0.8590904174778282,0.8008544235345014,0.864776660177374,0.7473447977503785,0.7407419424616051,0.7787502703871945,0.7197058187324248,0.7316893791910015,0.7343364698247892,0.748480423967121],\"type\":\"scatter\"},{\"mode\":\"lines+markers\",\"name\":\"t-SNE perplexity 45\",\"x\":[10,50,100,150,200,250,300,350,400,450,500,550,600,650,700,750,800,850,900,950,1000],\"y\":[0.8789638762708198,0.8820138438243565,0.8699086091282717,0.8598961713173264,0.863140817650876,0.8750243348475016,0.8867915855505083,0.8498945489941596,0.8642845554834523,0.8596284879948086,0.8485858749729613,0.8085334198572356,0.8153742158771361,0.766196192948302,0.7751973826519576,0.7400551589876704,0.725857127406446,0.750735453168938,0.7405364481938135,0.7351476314081765,0.7342012762275578],\"type\":\"scatter\"},{\"mode\":\"lines+markers\",\"name\":\"t-SNE perplexity 50\",\"x\":[10,50,100,150,200,250,300,350,400,450,500,550,600,650,700,750,800,850,900,950,1000],\"y\":[0.8803509625784123,0.8660069219121782,0.8602963443651309,0.8695841444949167,0.8788205710577547,0.8769116374648497,0.8771522820679213,0.8825654337010599,0.8638708630759248,0.8577844473285745,0.8670938784339174,0.8769792342634652,0.8623648064027688,0.768321436296777,0.7596284879948085,0.7807943975773307,0.7101773739995674,0.7163584252649795,0.7554888600475882,0.7307943975773308,0.7311215660826303],\"type\":\"scatter\"}],                        {\"template\":{\"data\":{\"bar\":[{\"error_x\":{\"color\":\"#2a3f5f\"},\"error_y\":{\"color\":\"#2a3f5f\"},\"marker\":{\"line\":{\"color\":\"#E5ECF6\",\"width\":0.5},\"pattern\":{\"fillmode\":\"overlay\",\"size\":10,\"solidity\":0.2}},\"type\":\"bar\"}],\"barpolar\":[{\"marker\":{\"line\":{\"color\":\"#E5ECF6\",\"width\":0.5},\"pattern\":{\"fillmode\":\"overlay\",\"size\":10,\"solidity\":0.2}},\"type\":\"barpolar\"}],\"carpet\":[{\"aaxis\":{\"endlinecolor\":\"#2a3f5f\",\"gridcolor\":\"white\",\"linecolor\":\"white\",\"minorgridcolor\":\"white\",\"startlinecolor\":\"#2a3f5f\"},\"baxis\":{\"endlinecolor\":\"#2a3f5f\",\"gridcolor\":\"white\",\"linecolor\":\"white\",\"minorgridcolor\":\"white\",\"startlinecolor\":\"#2a3f5f\"},\"type\":\"carpet\"}],\"choropleth\":[{\"colorbar\":{\"outlinewidth\":0,\"ticks\":\"\"},\"type\":\"choropleth\"}],\"contour\":[{\"colorbar\":{\"outlinewidth\":0,\"ticks\":\"\"},\"colorscale\":[[0.0,\"#0d0887\"],[0.1111111111111111,\"#46039f\"],[0.2222222222222222,\"#7201a8\"],[0.3333333333333333,\"#9c179e\"],[0.4444444444444444,\"#bd3786\"],[0.5555555555555556,\"#d8576b\"],[0.6666666666666666,\"#ed7953\"],[0.7777777777777778,\"#fb9f3a\"],[0.8888888888888888,\"#fdca26\"],[1.0,\"#f0f921\"]],\"type\":\"contour\"}],\"contourcarpet\":[{\"colorbar\":{\"outlinewidth\":0,\"ticks\":\"\"},\"type\":\"contourcarpet\"}],\"heatmap\":[{\"colorbar\":{\"outlinewidth\":0,\"ticks\":\"\"},\"colorscale\":[[0.0,\"#0d0887\"],[0.1111111111111111,\"#46039f\"],[0.2222222222222222,\"#7201a8\"],[0.3333333333333333,\"#9c179e\"],[0.4444444444444444,\"#bd3786\"],[0.5555555555555556,\"#d8576b\"],[0.6666666666666666,\"#ed7953\"],[0.7777777777777778,\"#fb9f3a\"],[0.8888888888888888,\"#fdca26\"],[1.0,\"#f0f921\"]],\"type\":\"heatmap\"}],\"heatmapgl\":[{\"colorbar\":{\"outlinewidth\":0,\"ticks\":\"\"},\"colorscale\":[[0.0,\"#0d0887\"],[0.1111111111111111,\"#46039f\"],[0.2222222222222222,\"#7201a8\"],[0.3333333333333333,\"#9c179e\"],[0.4444444444444444,\"#bd3786\"],[0.5555555555555556,\"#d8576b\"],[0.6666666666666666,\"#ed7953\"],[0.7777777777777778,\"#fb9f3a\"],[0.8888888888888888,\"#fdca26\"],[1.0,\"#f0f921\"]],\"type\":\"heatmapgl\"}],\"histogram\":[{\"marker\":{\"pattern\":{\"fillmode\":\"overlay\",\"size\":10,\"solidity\":0.2}},\"type\":\"histogram\"}],\"histogram2d\":[{\"colorbar\":{\"outlinewidth\":0,\"ticks\":\"\"},\"colorscale\":[[0.0,\"#0d0887\"],[0.1111111111111111,\"#46039f\"],[0.2222222222222222,\"#7201a8\"],[0.3333333333333333,\"#9c179e\"],[0.4444444444444444,\"#bd3786\"],[0.5555555555555556,\"#d8576b\"],[0.6666666666666666,\"#ed7953\"],[0.7777777777777778,\"#fb9f3a\"],[0.8888888888888888,\"#fdca26\"],[1.0,\"#f0f921\"]],\"type\":\"histogram2d\"}],\"histogram2dcontour\":[{\"colorbar\":{\"outlinewidth\":0,\"ticks\":\"\"},\"colorscale\":[[0.0,\"#0d0887\"],[0.1111111111111111,\"#46039f\"],[0.2222222222222222,\"#7201a8\"],[0.3333333333333333,\"#9c179e\"],[0.4444444444444444,\"#bd3786\"],[0.5555555555555556,\"#d8576b\"],[0.6666666666666666,\"#ed7953\"],[0.7777777777777778,\"#fb9f3a\"],[0.8888888888888888,\"#fdca26\"],[1.0,\"#f0f921\"]],\"type\":\"histogram2dcontour\"}],\"mesh3d\":[{\"colorbar\":{\"outlinewidth\":0,\"ticks\":\"\"},\"type\":\"mesh3d\"}],\"parcoords\":[{\"line\":{\"colorbar\":{\"outlinewidth\":0,\"ticks\":\"\"}},\"type\":\"parcoords\"}],\"pie\":[{\"automargin\":true,\"type\":\"pie\"}],\"scatter\":[{\"marker\":{\"colorbar\":{\"outlinewidth\":0,\"ticks\":\"\"}},\"type\":\"scatter\"}],\"scatter3d\":[{\"line\":{\"colorbar\":{\"outlinewidth\":0,\"ticks\":\"\"}},\"marker\":{\"colorbar\":{\"outlinewidth\":0,\"ticks\":\"\"}},\"type\":\"scatter3d\"}],\"scattercarpet\":[{\"marker\":{\"colorbar\":{\"outlinewidth\":0,\"ticks\":\"\"}},\"type\":\"scattercarpet\"}],\"scattergeo\":[{\"marker\":{\"colorbar\":{\"outlinewidth\":0,\"ticks\":\"\"}},\"type\":\"scattergeo\"}],\"scattergl\":[{\"marker\":{\"colorbar\":{\"outlinewidth\":0,\"ticks\":\"\"}},\"type\":\"scattergl\"}],\"scattermapbox\":[{\"marker\":{\"colorbar\":{\"outlinewidth\":0,\"ticks\":\"\"}},\"type\":\"scattermapbox\"}],\"scatterpolar\":[{\"marker\":{\"colorbar\":{\"outlinewidth\":0,\"ticks\":\"\"}},\"type\":\"scatterpolar\"}],\"scatterpolargl\":[{\"marker\":{\"colorbar\":{\"outlinewidth\":0,\"ticks\":\"\"}},\"type\":\"scatterpolargl\"}],\"scatterternary\":[{\"marker\":{\"colorbar\":{\"outlinewidth\":0,\"ticks\":\"\"}},\"type\":\"scatterternary\"}],\"surface\":[{\"colorbar\":{\"outlinewidth\":0,\"ticks\":\"\"},\"colorscale\":[[0.0,\"#0d0887\"],[0.1111111111111111,\"#46039f\"],[0.2222222222222222,\"#7201a8\"],[0.3333333333333333,\"#9c179e\"],[0.4444444444444444,\"#bd3786\"],[0.5555555555555556,\"#d8576b\"],[0.6666666666666666,\"#ed7953\"],[0.7777777777777778,\"#fb9f3a\"],[0.8888888888888888,\"#fdca26\"],[1.0,\"#f0f921\"]],\"type\":\"surface\"}],\"table\":[{\"cells\":{\"fill\":{\"color\":\"#EBF0F8\"},\"line\":{\"color\":\"white\"}},\"header\":{\"fill\":{\"color\":\"#C8D4E3\"},\"line\":{\"color\":\"white\"}},\"type\":\"table\"}]},\"layout\":{\"annotationdefaults\":{\"arrowcolor\":\"#2a3f5f\",\"arrowhead\":0,\"arrowwidth\":1},\"autotypenumbers\":\"strict\",\"coloraxis\":{\"colorbar\":{\"outlinewidth\":0,\"ticks\":\"\"}},\"colorscale\":{\"diverging\":[[0,\"#8e0152\"],[0.1,\"#c51b7d\"],[0.2,\"#de77ae\"],[0.3,\"#f1b6da\"],[0.4,\"#fde0ef\"],[0.5,\"#f7f7f7\"],[0.6,\"#e6f5d0\"],[0.7,\"#b8e186\"],[0.8,\"#7fbc41\"],[0.9,\"#4d9221\"],[1,\"#276419\"]],\"sequential\":[[0.0,\"#0d0887\"],[0.1111111111111111,\"#46039f\"],[0.2222222222222222,\"#7201a8\"],[0.3333333333333333,\"#9c179e\"],[0.4444444444444444,\"#bd3786\"],[0.5555555555555556,\"#d8576b\"],[0.6666666666666666,\"#ed7953\"],[0.7777777777777778,\"#fb9f3a\"],[0.8888888888888888,\"#fdca26\"],[1.0,\"#f0f921\"]],\"sequentialminus\":[[0.0,\"#0d0887\"],[0.1111111111111111,\"#46039f\"],[0.2222222222222222,\"#7201a8\"],[0.3333333333333333,\"#9c179e\"],[0.4444444444444444,\"#bd3786\"],[0.5555555555555556,\"#d8576b\"],[0.6666666666666666,\"#ed7953\"],[0.7777777777777778,\"#fb9f3a\"],[0.8888888888888888,\"#fdca26\"],[1.0,\"#f0f921\"]]},\"colorway\":[\"#636efa\",\"#EF553B\",\"#00cc96\",\"#ab63fa\",\"#FFA15A\",\"#19d3f3\",\"#FF6692\",\"#B6E880\",\"#FF97FF\",\"#FECB52\"],\"font\":{\"color\":\"#2a3f5f\"},\"geo\":{\"bgcolor\":\"white\",\"lakecolor\":\"white\",\"landcolor\":\"#E5ECF6\",\"showlakes\":true,\"showland\":true,\"subunitcolor\":\"white\"},\"hoverlabel\":{\"align\":\"left\"},\"hovermode\":\"closest\",\"mapbox\":{\"style\":\"light\"},\"paper_bgcolor\":\"white\",\"plot_bgcolor\":\"#E5ECF6\",\"polar\":{\"angularaxis\":{\"gridcolor\":\"white\",\"linecolor\":\"white\",\"ticks\":\"\"},\"bgcolor\":\"#E5ECF6\",\"radialaxis\":{\"gridcolor\":\"white\",\"linecolor\":\"white\",\"ticks\":\"\"}},\"scene\":{\"xaxis\":{\"backgroundcolor\":\"#E5ECF6\",\"gridcolor\":\"white\",\"gridwidth\":2,\"linecolor\":\"white\",\"showbackground\":true,\"ticks\":\"\",\"zerolinecolor\":\"white\"},\"yaxis\":{\"backgroundcolor\":\"#E5ECF6\",\"gridcolor\":\"white\",\"gridwidth\":2,\"linecolor\":\"white\",\"showbackground\":true,\"ticks\":\"\",\"zerolinecolor\":\"white\"},\"zaxis\":{\"backgroundcolor\":\"#E5ECF6\",\"gridcolor\":\"white\",\"gridwidth\":2,\"linecolor\":\"white\",\"showbackground\":true,\"ticks\":\"\",\"zerolinecolor\":\"white\"}},\"shapedefaults\":{\"line\":{\"color\":\"#2a3f5f\"}},\"ternary\":{\"aaxis\":{\"gridcolor\":\"white\",\"linecolor\":\"white\",\"ticks\":\"\"},\"baxis\":{\"gridcolor\":\"white\",\"linecolor\":\"white\",\"ticks\":\"\"},\"bgcolor\":\"#E5ECF6\",\"caxis\":{\"gridcolor\":\"white\",\"linecolor\":\"white\",\"ticks\":\"\"}},\"title\":{\"x\":0.05},\"xaxis\":{\"automargin\":true,\"gridcolor\":\"white\",\"linecolor\":\"white\",\"ticks\":\"\",\"title\":{\"standoff\":15},\"zerolinecolor\":\"white\",\"zerolinewidth\":2},\"yaxis\":{\"automargin\":true,\"gridcolor\":\"white\",\"linecolor\":\"white\",\"ticks\":\"\",\"title\":{\"standoff\":15},\"zerolinecolor\":\"white\",\"zerolinewidth\":2}}}},                        {\"responsive\": true}                    ).then(function(){\n",
              "                            \n",
              "var gd = document.getElementById('537c3ed0-8397-4245-8096-48d68959fb84');\n",
              "var x = new MutationObserver(function (mutations, observer) {{\n",
              "        var display = window.getComputedStyle(gd).display;\n",
              "        if (!display || display === 'none') {{\n",
              "            console.log([gd, 'removed!']);\n",
              "            Plotly.purge(gd);\n",
              "            observer.disconnect();\n",
              "        }}\n",
              "}});\n",
              "\n",
              "// Listen for the removal of the full notebook cells\n",
              "var notebookContainer = gd.closest('#notebook-container');\n",
              "if (notebookContainer) {{\n",
              "    x.observe(notebookContainer, {childList: true});\n",
              "}}\n",
              "\n",
              "// Listen for the clearing of the current output cell\n",
              "var outputEl = gd.closest('.output');\n",
              "if (outputEl) {{\n",
              "    x.observe(outputEl, {childList: true});\n",
              "}}\n",
              "\n",
              "                        })                };                            </script>        </div>\n",
              "</body>\n",
              "</html>"
            ]
          },
          "metadata": {}
        }
      ]
    },
    {
      "cell_type": "markdown",
      "source": [
        "### UMAP"
      ],
      "metadata": {
        "id": "YNEwUT6KFHE4"
      }
    },
    {
      "cell_type": "code",
      "source": [
        "teste = [0,0.1,0.25,0.5,0.8,0.99]\n",
        "kneigh = []\n",
        "y_umap = []\n",
        "\n",
        "for n in teste:\n",
        "  kneigh.append(n)\n",
        "  reducer = umap.UMAP(n_components=2, n_neighbors=10, min_dist=n, metric='euclidean')\n",
        "  X_umap = reducer.fit_transform(X)\n",
        "  precision = trustworthiness(X, X_umap, metric='euclidean')\n",
        "  y_umap.append(precision)"
      ],
      "metadata": {
        "id": "xAQdTbk6c-Kw"
      },
      "execution_count": 43,
      "outputs": []
    },
    {
      "cell_type": "code",
      "source": [
        "fig = go.Figure()\n",
        "\n",
        "fig.add_trace(go.Scatter(x=kneigh, y=y_umap,\n",
        "                  mode='lines+markers',\n",
        "                  name='UMAP'))\n",
        "\n",
        "fig.show()"
      ],
      "metadata": {
        "colab": {
          "base_uri": "https://localhost:8080/",
          "height": 542
        },
        "id": "24NK535adD3H",
        "outputId": "d9d2678c-36cc-4e10-9efe-57756fe963a2"
      },
      "execution_count": 44,
      "outputs": [
        {
          "output_type": "display_data",
          "data": {
            "text/html": [
              "<html>\n",
              "<head><meta charset=\"utf-8\" /></head>\n",
              "<body>\n",
              "    <div>            <script src=\"https://cdnjs.cloudflare.com/ajax/libs/mathjax/2.7.5/MathJax.js?config=TeX-AMS-MML_SVG\"></script><script type=\"text/javascript\">if (window.MathJax) {MathJax.Hub.Config({SVG: {font: \"STIX-Web\"}});}</script>                <script type=\"text/javascript\">window.PlotlyConfig = {MathJaxConfig: 'local'};</script>\n",
              "        <script src=\"https://cdn.plot.ly/plotly-2.8.3.min.js\"></script>                <div id=\"8fbbc8da-64f9-497d-9d23-e7c0211ccb70\" class=\"plotly-graph-div\" style=\"height:525px; width:100%;\"></div>            <script type=\"text/javascript\">                                    window.PLOTLYENV=window.PLOTLYENV || {};                                    if (document.getElementById(\"8fbbc8da-64f9-497d-9d23-e7c0211ccb70\")) {                    Plotly.newPlot(                        \"8fbbc8da-64f9-497d-9d23-e7c0211ccb70\",                        [{\"mode\":\"lines+markers\",\"name\":\"UMAP\",\"x\":[0,0.1,0.25,0.5,0.8,0.99],\"y\":[0.8737075492104693,0.8741780229288341,0.8733830845771144,0.8448626433052131,0.8305456413584252,0.7937243132165261],\"type\":\"scatter\"}],                        {\"template\":{\"data\":{\"bar\":[{\"error_x\":{\"color\":\"#2a3f5f\"},\"error_y\":{\"color\":\"#2a3f5f\"},\"marker\":{\"line\":{\"color\":\"#E5ECF6\",\"width\":0.5},\"pattern\":{\"fillmode\":\"overlay\",\"size\":10,\"solidity\":0.2}},\"type\":\"bar\"}],\"barpolar\":[{\"marker\":{\"line\":{\"color\":\"#E5ECF6\",\"width\":0.5},\"pattern\":{\"fillmode\":\"overlay\",\"size\":10,\"solidity\":0.2}},\"type\":\"barpolar\"}],\"carpet\":[{\"aaxis\":{\"endlinecolor\":\"#2a3f5f\",\"gridcolor\":\"white\",\"linecolor\":\"white\",\"minorgridcolor\":\"white\",\"startlinecolor\":\"#2a3f5f\"},\"baxis\":{\"endlinecolor\":\"#2a3f5f\",\"gridcolor\":\"white\",\"linecolor\":\"white\",\"minorgridcolor\":\"white\",\"startlinecolor\":\"#2a3f5f\"},\"type\":\"carpet\"}],\"choropleth\":[{\"colorbar\":{\"outlinewidth\":0,\"ticks\":\"\"},\"type\":\"choropleth\"}],\"contour\":[{\"colorbar\":{\"outlinewidth\":0,\"ticks\":\"\"},\"colorscale\":[[0.0,\"#0d0887\"],[0.1111111111111111,\"#46039f\"],[0.2222222222222222,\"#7201a8\"],[0.3333333333333333,\"#9c179e\"],[0.4444444444444444,\"#bd3786\"],[0.5555555555555556,\"#d8576b\"],[0.6666666666666666,\"#ed7953\"],[0.7777777777777778,\"#fb9f3a\"],[0.8888888888888888,\"#fdca26\"],[1.0,\"#f0f921\"]],\"type\":\"contour\"}],\"contourcarpet\":[{\"colorbar\":{\"outlinewidth\":0,\"ticks\":\"\"},\"type\":\"contourcarpet\"}],\"heatmap\":[{\"colorbar\":{\"outlinewidth\":0,\"ticks\":\"\"},\"colorscale\":[[0.0,\"#0d0887\"],[0.1111111111111111,\"#46039f\"],[0.2222222222222222,\"#7201a8\"],[0.3333333333333333,\"#9c179e\"],[0.4444444444444444,\"#bd3786\"],[0.5555555555555556,\"#d8576b\"],[0.6666666666666666,\"#ed7953\"],[0.7777777777777778,\"#fb9f3a\"],[0.8888888888888888,\"#fdca26\"],[1.0,\"#f0f921\"]],\"type\":\"heatmap\"}],\"heatmapgl\":[{\"colorbar\":{\"outlinewidth\":0,\"ticks\":\"\"},\"colorscale\":[[0.0,\"#0d0887\"],[0.1111111111111111,\"#46039f\"],[0.2222222222222222,\"#7201a8\"],[0.3333333333333333,\"#9c179e\"],[0.4444444444444444,\"#bd3786\"],[0.5555555555555556,\"#d8576b\"],[0.6666666666666666,\"#ed7953\"],[0.7777777777777778,\"#fb9f3a\"],[0.8888888888888888,\"#fdca26\"],[1.0,\"#f0f921\"]],\"type\":\"heatmapgl\"}],\"histogram\":[{\"marker\":{\"pattern\":{\"fillmode\":\"overlay\",\"size\":10,\"solidity\":0.2}},\"type\":\"histogram\"}],\"histogram2d\":[{\"colorbar\":{\"outlinewidth\":0,\"ticks\":\"\"},\"colorscale\":[[0.0,\"#0d0887\"],[0.1111111111111111,\"#46039f\"],[0.2222222222222222,\"#7201a8\"],[0.3333333333333333,\"#9c179e\"],[0.4444444444444444,\"#bd3786\"],[0.5555555555555556,\"#d8576b\"],[0.6666666666666666,\"#ed7953\"],[0.7777777777777778,\"#fb9f3a\"],[0.8888888888888888,\"#fdca26\"],[1.0,\"#f0f921\"]],\"type\":\"histogram2d\"}],\"histogram2dcontour\":[{\"colorbar\":{\"outlinewidth\":0,\"ticks\":\"\"},\"colorscale\":[[0.0,\"#0d0887\"],[0.1111111111111111,\"#46039f\"],[0.2222222222222222,\"#7201a8\"],[0.3333333333333333,\"#9c179e\"],[0.4444444444444444,\"#bd3786\"],[0.5555555555555556,\"#d8576b\"],[0.6666666666666666,\"#ed7953\"],[0.7777777777777778,\"#fb9f3a\"],[0.8888888888888888,\"#fdca26\"],[1.0,\"#f0f921\"]],\"type\":\"histogram2dcontour\"}],\"mesh3d\":[{\"colorbar\":{\"outlinewidth\":0,\"ticks\":\"\"},\"type\":\"mesh3d\"}],\"parcoords\":[{\"line\":{\"colorbar\":{\"outlinewidth\":0,\"ticks\":\"\"}},\"type\":\"parcoords\"}],\"pie\":[{\"automargin\":true,\"type\":\"pie\"}],\"scatter\":[{\"marker\":{\"colorbar\":{\"outlinewidth\":0,\"ticks\":\"\"}},\"type\":\"scatter\"}],\"scatter3d\":[{\"line\":{\"colorbar\":{\"outlinewidth\":0,\"ticks\":\"\"}},\"marker\":{\"colorbar\":{\"outlinewidth\":0,\"ticks\":\"\"}},\"type\":\"scatter3d\"}],\"scattercarpet\":[{\"marker\":{\"colorbar\":{\"outlinewidth\":0,\"ticks\":\"\"}},\"type\":\"scattercarpet\"}],\"scattergeo\":[{\"marker\":{\"colorbar\":{\"outlinewidth\":0,\"ticks\":\"\"}},\"type\":\"scattergeo\"}],\"scattergl\":[{\"marker\":{\"colorbar\":{\"outlinewidth\":0,\"ticks\":\"\"}},\"type\":\"scattergl\"}],\"scattermapbox\":[{\"marker\":{\"colorbar\":{\"outlinewidth\":0,\"ticks\":\"\"}},\"type\":\"scattermapbox\"}],\"scatterpolar\":[{\"marker\":{\"colorbar\":{\"outlinewidth\":0,\"ticks\":\"\"}},\"type\":\"scatterpolar\"}],\"scatterpolargl\":[{\"marker\":{\"colorbar\":{\"outlinewidth\":0,\"ticks\":\"\"}},\"type\":\"scatterpolargl\"}],\"scatterternary\":[{\"marker\":{\"colorbar\":{\"outlinewidth\":0,\"ticks\":\"\"}},\"type\":\"scatterternary\"}],\"surface\":[{\"colorbar\":{\"outlinewidth\":0,\"ticks\":\"\"},\"colorscale\":[[0.0,\"#0d0887\"],[0.1111111111111111,\"#46039f\"],[0.2222222222222222,\"#7201a8\"],[0.3333333333333333,\"#9c179e\"],[0.4444444444444444,\"#bd3786\"],[0.5555555555555556,\"#d8576b\"],[0.6666666666666666,\"#ed7953\"],[0.7777777777777778,\"#fb9f3a\"],[0.8888888888888888,\"#fdca26\"],[1.0,\"#f0f921\"]],\"type\":\"surface\"}],\"table\":[{\"cells\":{\"fill\":{\"color\":\"#EBF0F8\"},\"line\":{\"color\":\"white\"}},\"header\":{\"fill\":{\"color\":\"#C8D4E3\"},\"line\":{\"color\":\"white\"}},\"type\":\"table\"}]},\"layout\":{\"annotationdefaults\":{\"arrowcolor\":\"#2a3f5f\",\"arrowhead\":0,\"arrowwidth\":1},\"autotypenumbers\":\"strict\",\"coloraxis\":{\"colorbar\":{\"outlinewidth\":0,\"ticks\":\"\"}},\"colorscale\":{\"diverging\":[[0,\"#8e0152\"],[0.1,\"#c51b7d\"],[0.2,\"#de77ae\"],[0.3,\"#f1b6da\"],[0.4,\"#fde0ef\"],[0.5,\"#f7f7f7\"],[0.6,\"#e6f5d0\"],[0.7,\"#b8e186\"],[0.8,\"#7fbc41\"],[0.9,\"#4d9221\"],[1,\"#276419\"]],\"sequential\":[[0.0,\"#0d0887\"],[0.1111111111111111,\"#46039f\"],[0.2222222222222222,\"#7201a8\"],[0.3333333333333333,\"#9c179e\"],[0.4444444444444444,\"#bd3786\"],[0.5555555555555556,\"#d8576b\"],[0.6666666666666666,\"#ed7953\"],[0.7777777777777778,\"#fb9f3a\"],[0.8888888888888888,\"#fdca26\"],[1.0,\"#f0f921\"]],\"sequentialminus\":[[0.0,\"#0d0887\"],[0.1111111111111111,\"#46039f\"],[0.2222222222222222,\"#7201a8\"],[0.3333333333333333,\"#9c179e\"],[0.4444444444444444,\"#bd3786\"],[0.5555555555555556,\"#d8576b\"],[0.6666666666666666,\"#ed7953\"],[0.7777777777777778,\"#fb9f3a\"],[0.8888888888888888,\"#fdca26\"],[1.0,\"#f0f921\"]]},\"colorway\":[\"#636efa\",\"#EF553B\",\"#00cc96\",\"#ab63fa\",\"#FFA15A\",\"#19d3f3\",\"#FF6692\",\"#B6E880\",\"#FF97FF\",\"#FECB52\"],\"font\":{\"color\":\"#2a3f5f\"},\"geo\":{\"bgcolor\":\"white\",\"lakecolor\":\"white\",\"landcolor\":\"#E5ECF6\",\"showlakes\":true,\"showland\":true,\"subunitcolor\":\"white\"},\"hoverlabel\":{\"align\":\"left\"},\"hovermode\":\"closest\",\"mapbox\":{\"style\":\"light\"},\"paper_bgcolor\":\"white\",\"plot_bgcolor\":\"#E5ECF6\",\"polar\":{\"angularaxis\":{\"gridcolor\":\"white\",\"linecolor\":\"white\",\"ticks\":\"\"},\"bgcolor\":\"#E5ECF6\",\"radialaxis\":{\"gridcolor\":\"white\",\"linecolor\":\"white\",\"ticks\":\"\"}},\"scene\":{\"xaxis\":{\"backgroundcolor\":\"#E5ECF6\",\"gridcolor\":\"white\",\"gridwidth\":2,\"linecolor\":\"white\",\"showbackground\":true,\"ticks\":\"\",\"zerolinecolor\":\"white\"},\"yaxis\":{\"backgroundcolor\":\"#E5ECF6\",\"gridcolor\":\"white\",\"gridwidth\":2,\"linecolor\":\"white\",\"showbackground\":true,\"ticks\":\"\",\"zerolinecolor\":\"white\"},\"zaxis\":{\"backgroundcolor\":\"#E5ECF6\",\"gridcolor\":\"white\",\"gridwidth\":2,\"linecolor\":\"white\",\"showbackground\":true,\"ticks\":\"\",\"zerolinecolor\":\"white\"}},\"shapedefaults\":{\"line\":{\"color\":\"#2a3f5f\"}},\"ternary\":{\"aaxis\":{\"gridcolor\":\"white\",\"linecolor\":\"white\",\"ticks\":\"\"},\"baxis\":{\"gridcolor\":\"white\",\"linecolor\":\"white\",\"ticks\":\"\"},\"bgcolor\":\"#E5ECF6\",\"caxis\":{\"gridcolor\":\"white\",\"linecolor\":\"white\",\"ticks\":\"\"}},\"title\":{\"x\":0.05},\"xaxis\":{\"automargin\":true,\"gridcolor\":\"white\",\"linecolor\":\"white\",\"ticks\":\"\",\"title\":{\"standoff\":15},\"zerolinecolor\":\"white\",\"zerolinewidth\":2},\"yaxis\":{\"automargin\":true,\"gridcolor\":\"white\",\"linecolor\":\"white\",\"ticks\":\"\",\"title\":{\"standoff\":15},\"zerolinecolor\":\"white\",\"zerolinewidth\":2}}}},                        {\"responsive\": true}                    ).then(function(){\n",
              "                            \n",
              "var gd = document.getElementById('8fbbc8da-64f9-497d-9d23-e7c0211ccb70');\n",
              "var x = new MutationObserver(function (mutations, observer) {{\n",
              "        var display = window.getComputedStyle(gd).display;\n",
              "        if (!display || display === 'none') {{\n",
              "            console.log([gd, 'removed!']);\n",
              "            Plotly.purge(gd);\n",
              "            observer.disconnect();\n",
              "        }}\n",
              "}});\n",
              "\n",
              "// Listen for the removal of the full notebook cells\n",
              "var notebookContainer = gd.closest('#notebook-container');\n",
              "if (notebookContainer) {{\n",
              "    x.observe(notebookContainer, {childList: true});\n",
              "}}\n",
              "\n",
              "// Listen for the clearing of the current output cell\n",
              "var outputEl = gd.closest('.output');\n",
              "if (outputEl) {{\n",
              "    x.observe(outputEl, {childList: true});\n",
              "}}\n",
              "\n",
              "                        })                };                            </script>        </div>\n",
              "</body>\n",
              "</html>"
            ]
          },
          "metadata": {}
        }
      ]
    },
    {
      "cell_type": "code",
      "source": [
        "teste = [2, 5, 10, 20, 30, 40, 50, 60, 70, 80, 90, 100, 110, 120, 130, 140, 150, 160, 170, 180, 190, 200]\n",
        "kneigh = []\n",
        "y_umap = []\n",
        "\n",
        "for n in teste:\n",
        "  kneigh.append(n)\n",
        "  reducer = umap.UMAP(n_components=n,n_neighbors=40,metric='euclidean')\n",
        "  X_umap = reducer.fit_transform(X)\n",
        "  precision = trustworthiness(X, X_umap, n_neighbors=1, metric='euclidean')\n",
        "  y_umap.append(precision)"
      ],
      "metadata": {
        "id": "AbPUVBzM7tKc"
      },
      "execution_count": null,
      "outputs": []
    },
    {
      "cell_type": "code",
      "source": [
        "fig = go.Figure()\n",
        "\n",
        "fig.add_trace(go.Scatter(x=kneigh, y=y_umap,\n",
        "                  mode='lines+markers',\n",
        "                  name='UMAP'))\n",
        "\n",
        "fig.show()"
      ],
      "metadata": {
        "colab": {
          "base_uri": "https://localhost:8080/",
          "height": 542
        },
        "id": "2fnMDYNJ-Nzy",
        "outputId": "3b0efe35-3719-48b9-9e20-7279de9a89b2"
      },
      "execution_count": null,
      "outputs": [
        {
          "output_type": "display_data",
          "data": {
            "text/html": [
              "<html>\n",
              "<head><meta charset=\"utf-8\" /></head>\n",
              "<body>\n",
              "    <div>            <script src=\"https://cdnjs.cloudflare.com/ajax/libs/mathjax/2.7.5/MathJax.js?config=TeX-AMS-MML_SVG\"></script><script type=\"text/javascript\">if (window.MathJax) {MathJax.Hub.Config({SVG: {font: \"STIX-Web\"}});}</script>                <script type=\"text/javascript\">window.PlotlyConfig = {MathJaxConfig: 'local'};</script>\n",
              "        <script src=\"https://cdn.plot.ly/plotly-2.8.3.min.js\"></script>                <div id=\"08727b5e-6d43-4c44-93d2-04abf8b46161\" class=\"plotly-graph-div\" style=\"height:525px; width:100%;\"></div>            <script type=\"text/javascript\">                                    window.PLOTLYENV=window.PLOTLYENV || {};                                    if (document.getElementById(\"08727b5e-6d43-4c44-93d2-04abf8b46161\")) {                    Plotly.newPlot(                        \"08727b5e-6d43-4c44-93d2-04abf8b46161\",                        [{\"mode\":\"lines+markers\",\"name\":\"UMAP\",\"x\":[2,5,10,20,30,40,50,60,70,80,90,100,110,120,130,140,150,160,170,180,190,200],\"y\":[0.8828017560562784,0.9458769702739871,0.9704723368242886,0.9468158256638104,0.9680260234846081,0.9734475827779541,0.9473447582777954,0.9697318311647096,0.9625647942452131,0.9628424838675553,0.9616391621707394,0.9659631862900666,0.959787898021792,0.959893684544589,0.9548159314503333,0.9678408970697133,0.9621284248386756,0.9630011636517508,0.9619961916851794,0.968978102189781,0.9522373849571565,0.9514307627208294],\"type\":\"scatter\"}],                        {\"template\":{\"data\":{\"bar\":[{\"error_x\":{\"color\":\"#2a3f5f\"},\"error_y\":{\"color\":\"#2a3f5f\"},\"marker\":{\"line\":{\"color\":\"#E5ECF6\",\"width\":0.5},\"pattern\":{\"fillmode\":\"overlay\",\"size\":10,\"solidity\":0.2}},\"type\":\"bar\"}],\"barpolar\":[{\"marker\":{\"line\":{\"color\":\"#E5ECF6\",\"width\":0.5},\"pattern\":{\"fillmode\":\"overlay\",\"size\":10,\"solidity\":0.2}},\"type\":\"barpolar\"}],\"carpet\":[{\"aaxis\":{\"endlinecolor\":\"#2a3f5f\",\"gridcolor\":\"white\",\"linecolor\":\"white\",\"minorgridcolor\":\"white\",\"startlinecolor\":\"#2a3f5f\"},\"baxis\":{\"endlinecolor\":\"#2a3f5f\",\"gridcolor\":\"white\",\"linecolor\":\"white\",\"minorgridcolor\":\"white\",\"startlinecolor\":\"#2a3f5f\"},\"type\":\"carpet\"}],\"choropleth\":[{\"colorbar\":{\"outlinewidth\":0,\"ticks\":\"\"},\"type\":\"choropleth\"}],\"contour\":[{\"colorbar\":{\"outlinewidth\":0,\"ticks\":\"\"},\"colorscale\":[[0.0,\"#0d0887\"],[0.1111111111111111,\"#46039f\"],[0.2222222222222222,\"#7201a8\"],[0.3333333333333333,\"#9c179e\"],[0.4444444444444444,\"#bd3786\"],[0.5555555555555556,\"#d8576b\"],[0.6666666666666666,\"#ed7953\"],[0.7777777777777778,\"#fb9f3a\"],[0.8888888888888888,\"#fdca26\"],[1.0,\"#f0f921\"]],\"type\":\"contour\"}],\"contourcarpet\":[{\"colorbar\":{\"outlinewidth\":0,\"ticks\":\"\"},\"type\":\"contourcarpet\"}],\"heatmap\":[{\"colorbar\":{\"outlinewidth\":0,\"ticks\":\"\"},\"colorscale\":[[0.0,\"#0d0887\"],[0.1111111111111111,\"#46039f\"],[0.2222222222222222,\"#7201a8\"],[0.3333333333333333,\"#9c179e\"],[0.4444444444444444,\"#bd3786\"],[0.5555555555555556,\"#d8576b\"],[0.6666666666666666,\"#ed7953\"],[0.7777777777777778,\"#fb9f3a\"],[0.8888888888888888,\"#fdca26\"],[1.0,\"#f0f921\"]],\"type\":\"heatmap\"}],\"heatmapgl\":[{\"colorbar\":{\"outlinewidth\":0,\"ticks\":\"\"},\"colorscale\":[[0.0,\"#0d0887\"],[0.1111111111111111,\"#46039f\"],[0.2222222222222222,\"#7201a8\"],[0.3333333333333333,\"#9c179e\"],[0.4444444444444444,\"#bd3786\"],[0.5555555555555556,\"#d8576b\"],[0.6666666666666666,\"#ed7953\"],[0.7777777777777778,\"#fb9f3a\"],[0.8888888888888888,\"#fdca26\"],[1.0,\"#f0f921\"]],\"type\":\"heatmapgl\"}],\"histogram\":[{\"marker\":{\"pattern\":{\"fillmode\":\"overlay\",\"size\":10,\"solidity\":0.2}},\"type\":\"histogram\"}],\"histogram2d\":[{\"colorbar\":{\"outlinewidth\":0,\"ticks\":\"\"},\"colorscale\":[[0.0,\"#0d0887\"],[0.1111111111111111,\"#46039f\"],[0.2222222222222222,\"#7201a8\"],[0.3333333333333333,\"#9c179e\"],[0.4444444444444444,\"#bd3786\"],[0.5555555555555556,\"#d8576b\"],[0.6666666666666666,\"#ed7953\"],[0.7777777777777778,\"#fb9f3a\"],[0.8888888888888888,\"#fdca26\"],[1.0,\"#f0f921\"]],\"type\":\"histogram2d\"}],\"histogram2dcontour\":[{\"colorbar\":{\"outlinewidth\":0,\"ticks\":\"\"},\"colorscale\":[[0.0,\"#0d0887\"],[0.1111111111111111,\"#46039f\"],[0.2222222222222222,\"#7201a8\"],[0.3333333333333333,\"#9c179e\"],[0.4444444444444444,\"#bd3786\"],[0.5555555555555556,\"#d8576b\"],[0.6666666666666666,\"#ed7953\"],[0.7777777777777778,\"#fb9f3a\"],[0.8888888888888888,\"#fdca26\"],[1.0,\"#f0f921\"]],\"type\":\"histogram2dcontour\"}],\"mesh3d\":[{\"colorbar\":{\"outlinewidth\":0,\"ticks\":\"\"},\"type\":\"mesh3d\"}],\"parcoords\":[{\"line\":{\"colorbar\":{\"outlinewidth\":0,\"ticks\":\"\"}},\"type\":\"parcoords\"}],\"pie\":[{\"automargin\":true,\"type\":\"pie\"}],\"scatter\":[{\"marker\":{\"colorbar\":{\"outlinewidth\":0,\"ticks\":\"\"}},\"type\":\"scatter\"}],\"scatter3d\":[{\"line\":{\"colorbar\":{\"outlinewidth\":0,\"ticks\":\"\"}},\"marker\":{\"colorbar\":{\"outlinewidth\":0,\"ticks\":\"\"}},\"type\":\"scatter3d\"}],\"scattercarpet\":[{\"marker\":{\"colorbar\":{\"outlinewidth\":0,\"ticks\":\"\"}},\"type\":\"scattercarpet\"}],\"scattergeo\":[{\"marker\":{\"colorbar\":{\"outlinewidth\":0,\"ticks\":\"\"}},\"type\":\"scattergeo\"}],\"scattergl\":[{\"marker\":{\"colorbar\":{\"outlinewidth\":0,\"ticks\":\"\"}},\"type\":\"scattergl\"}],\"scattermapbox\":[{\"marker\":{\"colorbar\":{\"outlinewidth\":0,\"ticks\":\"\"}},\"type\":\"scattermapbox\"}],\"scatterpolar\":[{\"marker\":{\"colorbar\":{\"outlinewidth\":0,\"ticks\":\"\"}},\"type\":\"scatterpolar\"}],\"scatterpolargl\":[{\"marker\":{\"colorbar\":{\"outlinewidth\":0,\"ticks\":\"\"}},\"type\":\"scatterpolargl\"}],\"scatterternary\":[{\"marker\":{\"colorbar\":{\"outlinewidth\":0,\"ticks\":\"\"}},\"type\":\"scatterternary\"}],\"surface\":[{\"colorbar\":{\"outlinewidth\":0,\"ticks\":\"\"},\"colorscale\":[[0.0,\"#0d0887\"],[0.1111111111111111,\"#46039f\"],[0.2222222222222222,\"#7201a8\"],[0.3333333333333333,\"#9c179e\"],[0.4444444444444444,\"#bd3786\"],[0.5555555555555556,\"#d8576b\"],[0.6666666666666666,\"#ed7953\"],[0.7777777777777778,\"#fb9f3a\"],[0.8888888888888888,\"#fdca26\"],[1.0,\"#f0f921\"]],\"type\":\"surface\"}],\"table\":[{\"cells\":{\"fill\":{\"color\":\"#EBF0F8\"},\"line\":{\"color\":\"white\"}},\"header\":{\"fill\":{\"color\":\"#C8D4E3\"},\"line\":{\"color\":\"white\"}},\"type\":\"table\"}]},\"layout\":{\"annotationdefaults\":{\"arrowcolor\":\"#2a3f5f\",\"arrowhead\":0,\"arrowwidth\":1},\"autotypenumbers\":\"strict\",\"coloraxis\":{\"colorbar\":{\"outlinewidth\":0,\"ticks\":\"\"}},\"colorscale\":{\"diverging\":[[0,\"#8e0152\"],[0.1,\"#c51b7d\"],[0.2,\"#de77ae\"],[0.3,\"#f1b6da\"],[0.4,\"#fde0ef\"],[0.5,\"#f7f7f7\"],[0.6,\"#e6f5d0\"],[0.7,\"#b8e186\"],[0.8,\"#7fbc41\"],[0.9,\"#4d9221\"],[1,\"#276419\"]],\"sequential\":[[0.0,\"#0d0887\"],[0.1111111111111111,\"#46039f\"],[0.2222222222222222,\"#7201a8\"],[0.3333333333333333,\"#9c179e\"],[0.4444444444444444,\"#bd3786\"],[0.5555555555555556,\"#d8576b\"],[0.6666666666666666,\"#ed7953\"],[0.7777777777777778,\"#fb9f3a\"],[0.8888888888888888,\"#fdca26\"],[1.0,\"#f0f921\"]],\"sequentialminus\":[[0.0,\"#0d0887\"],[0.1111111111111111,\"#46039f\"],[0.2222222222222222,\"#7201a8\"],[0.3333333333333333,\"#9c179e\"],[0.4444444444444444,\"#bd3786\"],[0.5555555555555556,\"#d8576b\"],[0.6666666666666666,\"#ed7953\"],[0.7777777777777778,\"#fb9f3a\"],[0.8888888888888888,\"#fdca26\"],[1.0,\"#f0f921\"]]},\"colorway\":[\"#636efa\",\"#EF553B\",\"#00cc96\",\"#ab63fa\",\"#FFA15A\",\"#19d3f3\",\"#FF6692\",\"#B6E880\",\"#FF97FF\",\"#FECB52\"],\"font\":{\"color\":\"#2a3f5f\"},\"geo\":{\"bgcolor\":\"white\",\"lakecolor\":\"white\",\"landcolor\":\"#E5ECF6\",\"showlakes\":true,\"showland\":true,\"subunitcolor\":\"white\"},\"hoverlabel\":{\"align\":\"left\"},\"hovermode\":\"closest\",\"mapbox\":{\"style\":\"light\"},\"paper_bgcolor\":\"white\",\"plot_bgcolor\":\"#E5ECF6\",\"polar\":{\"angularaxis\":{\"gridcolor\":\"white\",\"linecolor\":\"white\",\"ticks\":\"\"},\"bgcolor\":\"#E5ECF6\",\"radialaxis\":{\"gridcolor\":\"white\",\"linecolor\":\"white\",\"ticks\":\"\"}},\"scene\":{\"xaxis\":{\"backgroundcolor\":\"#E5ECF6\",\"gridcolor\":\"white\",\"gridwidth\":2,\"linecolor\":\"white\",\"showbackground\":true,\"ticks\":\"\",\"zerolinecolor\":\"white\"},\"yaxis\":{\"backgroundcolor\":\"#E5ECF6\",\"gridcolor\":\"white\",\"gridwidth\":2,\"linecolor\":\"white\",\"showbackground\":true,\"ticks\":\"\",\"zerolinecolor\":\"white\"},\"zaxis\":{\"backgroundcolor\":\"#E5ECF6\",\"gridcolor\":\"white\",\"gridwidth\":2,\"linecolor\":\"white\",\"showbackground\":true,\"ticks\":\"\",\"zerolinecolor\":\"white\"}},\"shapedefaults\":{\"line\":{\"color\":\"#2a3f5f\"}},\"ternary\":{\"aaxis\":{\"gridcolor\":\"white\",\"linecolor\":\"white\",\"ticks\":\"\"},\"baxis\":{\"gridcolor\":\"white\",\"linecolor\":\"white\",\"ticks\":\"\"},\"bgcolor\":\"#E5ECF6\",\"caxis\":{\"gridcolor\":\"white\",\"linecolor\":\"white\",\"ticks\":\"\"}},\"title\":{\"x\":0.05},\"xaxis\":{\"automargin\":true,\"gridcolor\":\"white\",\"linecolor\":\"white\",\"ticks\":\"\",\"title\":{\"standoff\":15},\"zerolinecolor\":\"white\",\"zerolinewidth\":2},\"yaxis\":{\"automargin\":true,\"gridcolor\":\"white\",\"linecolor\":\"white\",\"ticks\":\"\",\"title\":{\"standoff\":15},\"zerolinecolor\":\"white\",\"zerolinewidth\":2}}}},                        {\"responsive\": true}                    ).then(function(){\n",
              "                            \n",
              "var gd = document.getElementById('08727b5e-6d43-4c44-93d2-04abf8b46161');\n",
              "var x = new MutationObserver(function (mutations, observer) {{\n",
              "        var display = window.getComputedStyle(gd).display;\n",
              "        if (!display || display === 'none') {{\n",
              "            console.log([gd, 'removed!']);\n",
              "            Plotly.purge(gd);\n",
              "            observer.disconnect();\n",
              "        }}\n",
              "}});\n",
              "\n",
              "// Listen for the removal of the full notebook cells\n",
              "var notebookContainer = gd.closest('#notebook-container');\n",
              "if (notebookContainer) {{\n",
              "    x.observe(notebookContainer, {childList: true});\n",
              "}}\n",
              "\n",
              "// Listen for the clearing of the current output cell\n",
              "var outputEl = gd.closest('.output');\n",
              "if (outputEl) {{\n",
              "    x.observe(outputEl, {childList: true});\n",
              "}}\n",
              "\n",
              "                        })                };                            </script>        </div>\n",
              "</body>\n",
              "</html>"
            ]
          },
          "metadata": {}
        }
      ]
    },
    {
      "cell_type": "markdown",
      "source": [
        "### PCA"
      ],
      "metadata": {
        "id": "C2F5AHyJE_iE"
      }
    },
    {
      "cell_type": "code",
      "source": [
        "components = [2, 5, 10, 20, 30, 40, 50, 60, 70, 80, 90, 100, 110, 120, 130, 140, 150, 160, 170, 180, 190, 200]\n",
        "kneigh = []\n",
        "y_pca = []\n",
        "\n",
        "for n in components:\n",
        "  kneigh.append(n)\n",
        "  pca = sklearnPCA(n_components=n)\n",
        "  X_pca = pca.fit_transform(X)\n",
        "  precision = trustworthiness(X, X_pca, n_neighbors=1, metric='euclidean')\n",
        "  y_pca.append(precision)"
      ],
      "metadata": {
        "id": "rzChEobbFBdm"
      },
      "execution_count": null,
      "outputs": []
    },
    {
      "cell_type": "code",
      "source": [
        "fig = go.Figure()\n",
        "\n",
        "fig.add_trace(go.Scatter(x=kneigh, y=y_pca,\n",
        "                  mode='lines+markers',\n",
        "                  name='PCA'))\n",
        "\n",
        "fig.show()"
      ],
      "metadata": {
        "colab": {
          "base_uri": "https://localhost:8080/",
          "height": 542
        },
        "id": "K2o9fJfODYxO",
        "outputId": "ce8e2239-8995-4cd7-cf71-ba38b9a3d248"
      },
      "execution_count": null,
      "outputs": [
        {
          "output_type": "display_data",
          "data": {
            "text/html": [
              "<html>\n",
              "<head><meta charset=\"utf-8\" /></head>\n",
              "<body>\n",
              "    <div>            <script src=\"https://cdnjs.cloudflare.com/ajax/libs/mathjax/2.7.5/MathJax.js?config=TeX-AMS-MML_SVG\"></script><script type=\"text/javascript\">if (window.MathJax) {MathJax.Hub.Config({SVG: {font: \"STIX-Web\"}});}</script>                <script type=\"text/javascript\">window.PlotlyConfig = {MathJaxConfig: 'local'};</script>\n",
              "        <script src=\"https://cdn.plot.ly/plotly-2.8.3.min.js\"></script>                <div id=\"51126d8b-366a-430e-aa61-8c52893c60f8\" class=\"plotly-graph-div\" style=\"height:525px; width:100%;\"></div>            <script type=\"text/javascript\">                                    window.PLOTLYENV=window.PLOTLYENV || {};                                    if (document.getElementById(\"51126d8b-366a-430e-aa61-8c52893c60f8\")) {                    Plotly.newPlot(                        \"51126d8b-366a-430e-aa61-8c52893c60f8\",                        [{\"mode\":\"lines+markers\",\"name\":\"PCA\",\"x\":[2,5,10,20,30,40,50,60,70,80,90,100,110,120,130,140,150,160,170,180,190,200],\"y\":[0.8400111075848937,0.9429546175817201,0.971371522268063,0.9795699777848302,0.9822939807468528,0.9927668465037555,0.9944065376071088,0.9934544589019358,0.9959801121337142,0.9971173172537818,0.9976726964984661,0.9980561726436052,0.998029726012906,0.9988495715645827,0.9990743679255263,0.9991801544483233,0.9991404845022744,0.998981804718079,0.999047921294827,0.9989421347720301,0.9987702316724849,0.9991669311329736],\"type\":\"scatter\"}],                        {\"template\":{\"data\":{\"bar\":[{\"error_x\":{\"color\":\"#2a3f5f\"},\"error_y\":{\"color\":\"#2a3f5f\"},\"marker\":{\"line\":{\"color\":\"#E5ECF6\",\"width\":0.5},\"pattern\":{\"fillmode\":\"overlay\",\"size\":10,\"solidity\":0.2}},\"type\":\"bar\"}],\"barpolar\":[{\"marker\":{\"line\":{\"color\":\"#E5ECF6\",\"width\":0.5},\"pattern\":{\"fillmode\":\"overlay\",\"size\":10,\"solidity\":0.2}},\"type\":\"barpolar\"}],\"carpet\":[{\"aaxis\":{\"endlinecolor\":\"#2a3f5f\",\"gridcolor\":\"white\",\"linecolor\":\"white\",\"minorgridcolor\":\"white\",\"startlinecolor\":\"#2a3f5f\"},\"baxis\":{\"endlinecolor\":\"#2a3f5f\",\"gridcolor\":\"white\",\"linecolor\":\"white\",\"minorgridcolor\":\"white\",\"startlinecolor\":\"#2a3f5f\"},\"type\":\"carpet\"}],\"choropleth\":[{\"colorbar\":{\"outlinewidth\":0,\"ticks\":\"\"},\"type\":\"choropleth\"}],\"contour\":[{\"colorbar\":{\"outlinewidth\":0,\"ticks\":\"\"},\"colorscale\":[[0.0,\"#0d0887\"],[0.1111111111111111,\"#46039f\"],[0.2222222222222222,\"#7201a8\"],[0.3333333333333333,\"#9c179e\"],[0.4444444444444444,\"#bd3786\"],[0.5555555555555556,\"#d8576b\"],[0.6666666666666666,\"#ed7953\"],[0.7777777777777778,\"#fb9f3a\"],[0.8888888888888888,\"#fdca26\"],[1.0,\"#f0f921\"]],\"type\":\"contour\"}],\"contourcarpet\":[{\"colorbar\":{\"outlinewidth\":0,\"ticks\":\"\"},\"type\":\"contourcarpet\"}],\"heatmap\":[{\"colorbar\":{\"outlinewidth\":0,\"ticks\":\"\"},\"colorscale\":[[0.0,\"#0d0887\"],[0.1111111111111111,\"#46039f\"],[0.2222222222222222,\"#7201a8\"],[0.3333333333333333,\"#9c179e\"],[0.4444444444444444,\"#bd3786\"],[0.5555555555555556,\"#d8576b\"],[0.6666666666666666,\"#ed7953\"],[0.7777777777777778,\"#fb9f3a\"],[0.8888888888888888,\"#fdca26\"],[1.0,\"#f0f921\"]],\"type\":\"heatmap\"}],\"heatmapgl\":[{\"colorbar\":{\"outlinewidth\":0,\"ticks\":\"\"},\"colorscale\":[[0.0,\"#0d0887\"],[0.1111111111111111,\"#46039f\"],[0.2222222222222222,\"#7201a8\"],[0.3333333333333333,\"#9c179e\"],[0.4444444444444444,\"#bd3786\"],[0.5555555555555556,\"#d8576b\"],[0.6666666666666666,\"#ed7953\"],[0.7777777777777778,\"#fb9f3a\"],[0.8888888888888888,\"#fdca26\"],[1.0,\"#f0f921\"]],\"type\":\"heatmapgl\"}],\"histogram\":[{\"marker\":{\"pattern\":{\"fillmode\":\"overlay\",\"size\":10,\"solidity\":0.2}},\"type\":\"histogram\"}],\"histogram2d\":[{\"colorbar\":{\"outlinewidth\":0,\"ticks\":\"\"},\"colorscale\":[[0.0,\"#0d0887\"],[0.1111111111111111,\"#46039f\"],[0.2222222222222222,\"#7201a8\"],[0.3333333333333333,\"#9c179e\"],[0.4444444444444444,\"#bd3786\"],[0.5555555555555556,\"#d8576b\"],[0.6666666666666666,\"#ed7953\"],[0.7777777777777778,\"#fb9f3a\"],[0.8888888888888888,\"#fdca26\"],[1.0,\"#f0f921\"]],\"type\":\"histogram2d\"}],\"histogram2dcontour\":[{\"colorbar\":{\"outlinewidth\":0,\"ticks\":\"\"},\"colorscale\":[[0.0,\"#0d0887\"],[0.1111111111111111,\"#46039f\"],[0.2222222222222222,\"#7201a8\"],[0.3333333333333333,\"#9c179e\"],[0.4444444444444444,\"#bd3786\"],[0.5555555555555556,\"#d8576b\"],[0.6666666666666666,\"#ed7953\"],[0.7777777777777778,\"#fb9f3a\"],[0.8888888888888888,\"#fdca26\"],[1.0,\"#f0f921\"]],\"type\":\"histogram2dcontour\"}],\"mesh3d\":[{\"colorbar\":{\"outlinewidth\":0,\"ticks\":\"\"},\"type\":\"mesh3d\"}],\"parcoords\":[{\"line\":{\"colorbar\":{\"outlinewidth\":0,\"ticks\":\"\"}},\"type\":\"parcoords\"}],\"pie\":[{\"automargin\":true,\"type\":\"pie\"}],\"scatter\":[{\"marker\":{\"colorbar\":{\"outlinewidth\":0,\"ticks\":\"\"}},\"type\":\"scatter\"}],\"scatter3d\":[{\"line\":{\"colorbar\":{\"outlinewidth\":0,\"ticks\":\"\"}},\"marker\":{\"colorbar\":{\"outlinewidth\":0,\"ticks\":\"\"}},\"type\":\"scatter3d\"}],\"scattercarpet\":[{\"marker\":{\"colorbar\":{\"outlinewidth\":0,\"ticks\":\"\"}},\"type\":\"scattercarpet\"}],\"scattergeo\":[{\"marker\":{\"colorbar\":{\"outlinewidth\":0,\"ticks\":\"\"}},\"type\":\"scattergeo\"}],\"scattergl\":[{\"marker\":{\"colorbar\":{\"outlinewidth\":0,\"ticks\":\"\"}},\"type\":\"scattergl\"}],\"scattermapbox\":[{\"marker\":{\"colorbar\":{\"outlinewidth\":0,\"ticks\":\"\"}},\"type\":\"scattermapbox\"}],\"scatterpolar\":[{\"marker\":{\"colorbar\":{\"outlinewidth\":0,\"ticks\":\"\"}},\"type\":\"scatterpolar\"}],\"scatterpolargl\":[{\"marker\":{\"colorbar\":{\"outlinewidth\":0,\"ticks\":\"\"}},\"type\":\"scatterpolargl\"}],\"scatterternary\":[{\"marker\":{\"colorbar\":{\"outlinewidth\":0,\"ticks\":\"\"}},\"type\":\"scatterternary\"}],\"surface\":[{\"colorbar\":{\"outlinewidth\":0,\"ticks\":\"\"},\"colorscale\":[[0.0,\"#0d0887\"],[0.1111111111111111,\"#46039f\"],[0.2222222222222222,\"#7201a8\"],[0.3333333333333333,\"#9c179e\"],[0.4444444444444444,\"#bd3786\"],[0.5555555555555556,\"#d8576b\"],[0.6666666666666666,\"#ed7953\"],[0.7777777777777778,\"#fb9f3a\"],[0.8888888888888888,\"#fdca26\"],[1.0,\"#f0f921\"]],\"type\":\"surface\"}],\"table\":[{\"cells\":{\"fill\":{\"color\":\"#EBF0F8\"},\"line\":{\"color\":\"white\"}},\"header\":{\"fill\":{\"color\":\"#C8D4E3\"},\"line\":{\"color\":\"white\"}},\"type\":\"table\"}]},\"layout\":{\"annotationdefaults\":{\"arrowcolor\":\"#2a3f5f\",\"arrowhead\":0,\"arrowwidth\":1},\"autotypenumbers\":\"strict\",\"coloraxis\":{\"colorbar\":{\"outlinewidth\":0,\"ticks\":\"\"}},\"colorscale\":{\"diverging\":[[0,\"#8e0152\"],[0.1,\"#c51b7d\"],[0.2,\"#de77ae\"],[0.3,\"#f1b6da\"],[0.4,\"#fde0ef\"],[0.5,\"#f7f7f7\"],[0.6,\"#e6f5d0\"],[0.7,\"#b8e186\"],[0.8,\"#7fbc41\"],[0.9,\"#4d9221\"],[1,\"#276419\"]],\"sequential\":[[0.0,\"#0d0887\"],[0.1111111111111111,\"#46039f\"],[0.2222222222222222,\"#7201a8\"],[0.3333333333333333,\"#9c179e\"],[0.4444444444444444,\"#bd3786\"],[0.5555555555555556,\"#d8576b\"],[0.6666666666666666,\"#ed7953\"],[0.7777777777777778,\"#fb9f3a\"],[0.8888888888888888,\"#fdca26\"],[1.0,\"#f0f921\"]],\"sequentialminus\":[[0.0,\"#0d0887\"],[0.1111111111111111,\"#46039f\"],[0.2222222222222222,\"#7201a8\"],[0.3333333333333333,\"#9c179e\"],[0.4444444444444444,\"#bd3786\"],[0.5555555555555556,\"#d8576b\"],[0.6666666666666666,\"#ed7953\"],[0.7777777777777778,\"#fb9f3a\"],[0.8888888888888888,\"#fdca26\"],[1.0,\"#f0f921\"]]},\"colorway\":[\"#636efa\",\"#EF553B\",\"#00cc96\",\"#ab63fa\",\"#FFA15A\",\"#19d3f3\",\"#FF6692\",\"#B6E880\",\"#FF97FF\",\"#FECB52\"],\"font\":{\"color\":\"#2a3f5f\"},\"geo\":{\"bgcolor\":\"white\",\"lakecolor\":\"white\",\"landcolor\":\"#E5ECF6\",\"showlakes\":true,\"showland\":true,\"subunitcolor\":\"white\"},\"hoverlabel\":{\"align\":\"left\"},\"hovermode\":\"closest\",\"mapbox\":{\"style\":\"light\"},\"paper_bgcolor\":\"white\",\"plot_bgcolor\":\"#E5ECF6\",\"polar\":{\"angularaxis\":{\"gridcolor\":\"white\",\"linecolor\":\"white\",\"ticks\":\"\"},\"bgcolor\":\"#E5ECF6\",\"radialaxis\":{\"gridcolor\":\"white\",\"linecolor\":\"white\",\"ticks\":\"\"}},\"scene\":{\"xaxis\":{\"backgroundcolor\":\"#E5ECF6\",\"gridcolor\":\"white\",\"gridwidth\":2,\"linecolor\":\"white\",\"showbackground\":true,\"ticks\":\"\",\"zerolinecolor\":\"white\"},\"yaxis\":{\"backgroundcolor\":\"#E5ECF6\",\"gridcolor\":\"white\",\"gridwidth\":2,\"linecolor\":\"white\",\"showbackground\":true,\"ticks\":\"\",\"zerolinecolor\":\"white\"},\"zaxis\":{\"backgroundcolor\":\"#E5ECF6\",\"gridcolor\":\"white\",\"gridwidth\":2,\"linecolor\":\"white\",\"showbackground\":true,\"ticks\":\"\",\"zerolinecolor\":\"white\"}},\"shapedefaults\":{\"line\":{\"color\":\"#2a3f5f\"}},\"ternary\":{\"aaxis\":{\"gridcolor\":\"white\",\"linecolor\":\"white\",\"ticks\":\"\"},\"baxis\":{\"gridcolor\":\"white\",\"linecolor\":\"white\",\"ticks\":\"\"},\"bgcolor\":\"#E5ECF6\",\"caxis\":{\"gridcolor\":\"white\",\"linecolor\":\"white\",\"ticks\":\"\"}},\"title\":{\"x\":0.05},\"xaxis\":{\"automargin\":true,\"gridcolor\":\"white\",\"linecolor\":\"white\",\"ticks\":\"\",\"title\":{\"standoff\":15},\"zerolinecolor\":\"white\",\"zerolinewidth\":2},\"yaxis\":{\"automargin\":true,\"gridcolor\":\"white\",\"linecolor\":\"white\",\"ticks\":\"\",\"title\":{\"standoff\":15},\"zerolinecolor\":\"white\",\"zerolinewidth\":2}}}},                        {\"responsive\": true}                    ).then(function(){\n",
              "                            \n",
              "var gd = document.getElementById('51126d8b-366a-430e-aa61-8c52893c60f8');\n",
              "var x = new MutationObserver(function (mutations, observer) {{\n",
              "        var display = window.getComputedStyle(gd).display;\n",
              "        if (!display || display === 'none') {{\n",
              "            console.log([gd, 'removed!']);\n",
              "            Plotly.purge(gd);\n",
              "            observer.disconnect();\n",
              "        }}\n",
              "}});\n",
              "\n",
              "// Listen for the removal of the full notebook cells\n",
              "var notebookContainer = gd.closest('#notebook-container');\n",
              "if (notebookContainer) {{\n",
              "    x.observe(notebookContainer, {childList: true});\n",
              "}}\n",
              "\n",
              "// Listen for the clearing of the current output cell\n",
              "var outputEl = gd.closest('.output');\n",
              "if (outputEl) {{\n",
              "    x.observe(outputEl, {childList: true});\n",
              "}}\n",
              "\n",
              "                        })                };                            </script>        </div>\n",
              "</body>\n",
              "</html>"
            ]
          },
          "metadata": {}
        }
      ]
    },
    {
      "cell_type": "markdown",
      "source": [
        "### TRIMAP"
      ],
      "metadata": {
        "id": "PU8AyXxHFROd"
      }
    },
    {
      "cell_type": "code",
      "source": [
        "teste = [1,2,3,4,5,6,7,8,9,10]\n",
        "kneigh = []\n",
        "y_trimap = []\n",
        "\n",
        "for n in teste:\n",
        "  kneigh.append(n)\n",
        "  X_trimap = trimap.TRIMAP(n_dims=2, n_inliers=5, n_random=n).fit_transform(X)\n",
        "  precision = trustworthiness(X, X_trimap, metric='euclidean')\n",
        "  y_trimap.append(precision)"
      ],
      "metadata": {
        "id": "bUQKMxHdFUKY"
      },
      "execution_count": 75,
      "outputs": []
    },
    {
      "cell_type": "code",
      "source": [
        "fig = go.Figure()\n",
        "\n",
        "fig.add_trace(go.Scatter(x=kneigh, y=y_trimap,\n",
        "                  mode='lines+markers',\n",
        "                  name='TRIMAP'))\n",
        "\n",
        "fig.show()"
      ],
      "metadata": {
        "colab": {
          "base_uri": "https://localhost:8080/",
          "height": 542
        },
        "id": "xseW6gRJK5Yr",
        "outputId": "423a5282-6bd9-41e2-e3f4-643b0a41234f"
      },
      "execution_count": 76,
      "outputs": [
        {
          "output_type": "display_data",
          "data": {
            "text/html": [
              "<html>\n",
              "<head><meta charset=\"utf-8\" /></head>\n",
              "<body>\n",
              "    <div>            <script src=\"https://cdnjs.cloudflare.com/ajax/libs/mathjax/2.7.5/MathJax.js?config=TeX-AMS-MML_SVG\"></script><script type=\"text/javascript\">if (window.MathJax) {MathJax.Hub.Config({SVG: {font: \"STIX-Web\"}});}</script>                <script type=\"text/javascript\">window.PlotlyConfig = {MathJaxConfig: 'local'};</script>\n",
              "        <script src=\"https://cdn.plot.ly/plotly-2.8.3.min.js\"></script>                <div id=\"68f7c5fa-1cec-4116-b88f-1b6266481bd0\" class=\"plotly-graph-div\" style=\"height:525px; width:100%;\"></div>            <script type=\"text/javascript\">                                    window.PLOTLYENV=window.PLOTLYENV || {};                                    if (document.getElementById(\"68f7c5fa-1cec-4116-b88f-1b6266481bd0\")) {                    Plotly.newPlot(                        \"68f7c5fa-1cec-4116-b88f-1b6266481bd0\",                        [{\"mode\":\"lines+markers\",\"name\":\"TRIMAP\",\"x\":[1,2,3,4,5,6,7,8,9,10],\"y\":[0.9122593553969284,0.9050643521522821,0.8919776119402985,0.8955845771144278,0.8977774172615185,0.9043937919100151,0.9043451222150118,0.9056402768764872,0.8894467878001298,0.8961929483019684],\"type\":\"scatter\"}],                        {\"template\":{\"data\":{\"bar\":[{\"error_x\":{\"color\":\"#2a3f5f\"},\"error_y\":{\"color\":\"#2a3f5f\"},\"marker\":{\"line\":{\"color\":\"#E5ECF6\",\"width\":0.5},\"pattern\":{\"fillmode\":\"overlay\",\"size\":10,\"solidity\":0.2}},\"type\":\"bar\"}],\"barpolar\":[{\"marker\":{\"line\":{\"color\":\"#E5ECF6\",\"width\":0.5},\"pattern\":{\"fillmode\":\"overlay\",\"size\":10,\"solidity\":0.2}},\"type\":\"barpolar\"}],\"carpet\":[{\"aaxis\":{\"endlinecolor\":\"#2a3f5f\",\"gridcolor\":\"white\",\"linecolor\":\"white\",\"minorgridcolor\":\"white\",\"startlinecolor\":\"#2a3f5f\"},\"baxis\":{\"endlinecolor\":\"#2a3f5f\",\"gridcolor\":\"white\",\"linecolor\":\"white\",\"minorgridcolor\":\"white\",\"startlinecolor\":\"#2a3f5f\"},\"type\":\"carpet\"}],\"choropleth\":[{\"colorbar\":{\"outlinewidth\":0,\"ticks\":\"\"},\"type\":\"choropleth\"}],\"contour\":[{\"colorbar\":{\"outlinewidth\":0,\"ticks\":\"\"},\"colorscale\":[[0.0,\"#0d0887\"],[0.1111111111111111,\"#46039f\"],[0.2222222222222222,\"#7201a8\"],[0.3333333333333333,\"#9c179e\"],[0.4444444444444444,\"#bd3786\"],[0.5555555555555556,\"#d8576b\"],[0.6666666666666666,\"#ed7953\"],[0.7777777777777778,\"#fb9f3a\"],[0.8888888888888888,\"#fdca26\"],[1.0,\"#f0f921\"]],\"type\":\"contour\"}],\"contourcarpet\":[{\"colorbar\":{\"outlinewidth\":0,\"ticks\":\"\"},\"type\":\"contourcarpet\"}],\"heatmap\":[{\"colorbar\":{\"outlinewidth\":0,\"ticks\":\"\"},\"colorscale\":[[0.0,\"#0d0887\"],[0.1111111111111111,\"#46039f\"],[0.2222222222222222,\"#7201a8\"],[0.3333333333333333,\"#9c179e\"],[0.4444444444444444,\"#bd3786\"],[0.5555555555555556,\"#d8576b\"],[0.6666666666666666,\"#ed7953\"],[0.7777777777777778,\"#fb9f3a\"],[0.8888888888888888,\"#fdca26\"],[1.0,\"#f0f921\"]],\"type\":\"heatmap\"}],\"heatmapgl\":[{\"colorbar\":{\"outlinewidth\":0,\"ticks\":\"\"},\"colorscale\":[[0.0,\"#0d0887\"],[0.1111111111111111,\"#46039f\"],[0.2222222222222222,\"#7201a8\"],[0.3333333333333333,\"#9c179e\"],[0.4444444444444444,\"#bd3786\"],[0.5555555555555556,\"#d8576b\"],[0.6666666666666666,\"#ed7953\"],[0.7777777777777778,\"#fb9f3a\"],[0.8888888888888888,\"#fdca26\"],[1.0,\"#f0f921\"]],\"type\":\"heatmapgl\"}],\"histogram\":[{\"marker\":{\"pattern\":{\"fillmode\":\"overlay\",\"size\":10,\"solidity\":0.2}},\"type\":\"histogram\"}],\"histogram2d\":[{\"colorbar\":{\"outlinewidth\":0,\"ticks\":\"\"},\"colorscale\":[[0.0,\"#0d0887\"],[0.1111111111111111,\"#46039f\"],[0.2222222222222222,\"#7201a8\"],[0.3333333333333333,\"#9c179e\"],[0.4444444444444444,\"#bd3786\"],[0.5555555555555556,\"#d8576b\"],[0.6666666666666666,\"#ed7953\"],[0.7777777777777778,\"#fb9f3a\"],[0.8888888888888888,\"#fdca26\"],[1.0,\"#f0f921\"]],\"type\":\"histogram2d\"}],\"histogram2dcontour\":[{\"colorbar\":{\"outlinewidth\":0,\"ticks\":\"\"},\"colorscale\":[[0.0,\"#0d0887\"],[0.1111111111111111,\"#46039f\"],[0.2222222222222222,\"#7201a8\"],[0.3333333333333333,\"#9c179e\"],[0.4444444444444444,\"#bd3786\"],[0.5555555555555556,\"#d8576b\"],[0.6666666666666666,\"#ed7953\"],[0.7777777777777778,\"#fb9f3a\"],[0.8888888888888888,\"#fdca26\"],[1.0,\"#f0f921\"]],\"type\":\"histogram2dcontour\"}],\"mesh3d\":[{\"colorbar\":{\"outlinewidth\":0,\"ticks\":\"\"},\"type\":\"mesh3d\"}],\"parcoords\":[{\"line\":{\"colorbar\":{\"outlinewidth\":0,\"ticks\":\"\"}},\"type\":\"parcoords\"}],\"pie\":[{\"automargin\":true,\"type\":\"pie\"}],\"scatter\":[{\"marker\":{\"colorbar\":{\"outlinewidth\":0,\"ticks\":\"\"}},\"type\":\"scatter\"}],\"scatter3d\":[{\"line\":{\"colorbar\":{\"outlinewidth\":0,\"ticks\":\"\"}},\"marker\":{\"colorbar\":{\"outlinewidth\":0,\"ticks\":\"\"}},\"type\":\"scatter3d\"}],\"scattercarpet\":[{\"marker\":{\"colorbar\":{\"outlinewidth\":0,\"ticks\":\"\"}},\"type\":\"scattercarpet\"}],\"scattergeo\":[{\"marker\":{\"colorbar\":{\"outlinewidth\":0,\"ticks\":\"\"}},\"type\":\"scattergeo\"}],\"scattergl\":[{\"marker\":{\"colorbar\":{\"outlinewidth\":0,\"ticks\":\"\"}},\"type\":\"scattergl\"}],\"scattermapbox\":[{\"marker\":{\"colorbar\":{\"outlinewidth\":0,\"ticks\":\"\"}},\"type\":\"scattermapbox\"}],\"scatterpolar\":[{\"marker\":{\"colorbar\":{\"outlinewidth\":0,\"ticks\":\"\"}},\"type\":\"scatterpolar\"}],\"scatterpolargl\":[{\"marker\":{\"colorbar\":{\"outlinewidth\":0,\"ticks\":\"\"}},\"type\":\"scatterpolargl\"}],\"scatterternary\":[{\"marker\":{\"colorbar\":{\"outlinewidth\":0,\"ticks\":\"\"}},\"type\":\"scatterternary\"}],\"surface\":[{\"colorbar\":{\"outlinewidth\":0,\"ticks\":\"\"},\"colorscale\":[[0.0,\"#0d0887\"],[0.1111111111111111,\"#46039f\"],[0.2222222222222222,\"#7201a8\"],[0.3333333333333333,\"#9c179e\"],[0.4444444444444444,\"#bd3786\"],[0.5555555555555556,\"#d8576b\"],[0.6666666666666666,\"#ed7953\"],[0.7777777777777778,\"#fb9f3a\"],[0.8888888888888888,\"#fdca26\"],[1.0,\"#f0f921\"]],\"type\":\"surface\"}],\"table\":[{\"cells\":{\"fill\":{\"color\":\"#EBF0F8\"},\"line\":{\"color\":\"white\"}},\"header\":{\"fill\":{\"color\":\"#C8D4E3\"},\"line\":{\"color\":\"white\"}},\"type\":\"table\"}]},\"layout\":{\"annotationdefaults\":{\"arrowcolor\":\"#2a3f5f\",\"arrowhead\":0,\"arrowwidth\":1},\"autotypenumbers\":\"strict\",\"coloraxis\":{\"colorbar\":{\"outlinewidth\":0,\"ticks\":\"\"}},\"colorscale\":{\"diverging\":[[0,\"#8e0152\"],[0.1,\"#c51b7d\"],[0.2,\"#de77ae\"],[0.3,\"#f1b6da\"],[0.4,\"#fde0ef\"],[0.5,\"#f7f7f7\"],[0.6,\"#e6f5d0\"],[0.7,\"#b8e186\"],[0.8,\"#7fbc41\"],[0.9,\"#4d9221\"],[1,\"#276419\"]],\"sequential\":[[0.0,\"#0d0887\"],[0.1111111111111111,\"#46039f\"],[0.2222222222222222,\"#7201a8\"],[0.3333333333333333,\"#9c179e\"],[0.4444444444444444,\"#bd3786\"],[0.5555555555555556,\"#d8576b\"],[0.6666666666666666,\"#ed7953\"],[0.7777777777777778,\"#fb9f3a\"],[0.8888888888888888,\"#fdca26\"],[1.0,\"#f0f921\"]],\"sequentialminus\":[[0.0,\"#0d0887\"],[0.1111111111111111,\"#46039f\"],[0.2222222222222222,\"#7201a8\"],[0.3333333333333333,\"#9c179e\"],[0.4444444444444444,\"#bd3786\"],[0.5555555555555556,\"#d8576b\"],[0.6666666666666666,\"#ed7953\"],[0.7777777777777778,\"#fb9f3a\"],[0.8888888888888888,\"#fdca26\"],[1.0,\"#f0f921\"]]},\"colorway\":[\"#636efa\",\"#EF553B\",\"#00cc96\",\"#ab63fa\",\"#FFA15A\",\"#19d3f3\",\"#FF6692\",\"#B6E880\",\"#FF97FF\",\"#FECB52\"],\"font\":{\"color\":\"#2a3f5f\"},\"geo\":{\"bgcolor\":\"white\",\"lakecolor\":\"white\",\"landcolor\":\"#E5ECF6\",\"showlakes\":true,\"showland\":true,\"subunitcolor\":\"white\"},\"hoverlabel\":{\"align\":\"left\"},\"hovermode\":\"closest\",\"mapbox\":{\"style\":\"light\"},\"paper_bgcolor\":\"white\",\"plot_bgcolor\":\"#E5ECF6\",\"polar\":{\"angularaxis\":{\"gridcolor\":\"white\",\"linecolor\":\"white\",\"ticks\":\"\"},\"bgcolor\":\"#E5ECF6\",\"radialaxis\":{\"gridcolor\":\"white\",\"linecolor\":\"white\",\"ticks\":\"\"}},\"scene\":{\"xaxis\":{\"backgroundcolor\":\"#E5ECF6\",\"gridcolor\":\"white\",\"gridwidth\":2,\"linecolor\":\"white\",\"showbackground\":true,\"ticks\":\"\",\"zerolinecolor\":\"white\"},\"yaxis\":{\"backgroundcolor\":\"#E5ECF6\",\"gridcolor\":\"white\",\"gridwidth\":2,\"linecolor\":\"white\",\"showbackground\":true,\"ticks\":\"\",\"zerolinecolor\":\"white\"},\"zaxis\":{\"backgroundcolor\":\"#E5ECF6\",\"gridcolor\":\"white\",\"gridwidth\":2,\"linecolor\":\"white\",\"showbackground\":true,\"ticks\":\"\",\"zerolinecolor\":\"white\"}},\"shapedefaults\":{\"line\":{\"color\":\"#2a3f5f\"}},\"ternary\":{\"aaxis\":{\"gridcolor\":\"white\",\"linecolor\":\"white\",\"ticks\":\"\"},\"baxis\":{\"gridcolor\":\"white\",\"linecolor\":\"white\",\"ticks\":\"\"},\"bgcolor\":\"#E5ECF6\",\"caxis\":{\"gridcolor\":\"white\",\"linecolor\":\"white\",\"ticks\":\"\"}},\"title\":{\"x\":0.05},\"xaxis\":{\"automargin\":true,\"gridcolor\":\"white\",\"linecolor\":\"white\",\"ticks\":\"\",\"title\":{\"standoff\":15},\"zerolinecolor\":\"white\",\"zerolinewidth\":2},\"yaxis\":{\"automargin\":true,\"gridcolor\":\"white\",\"linecolor\":\"white\",\"ticks\":\"\",\"title\":{\"standoff\":15},\"zerolinecolor\":\"white\",\"zerolinewidth\":2}}}},                        {\"responsive\": true}                    ).then(function(){\n",
              "                            \n",
              "var gd = document.getElementById('68f7c5fa-1cec-4116-b88f-1b6266481bd0');\n",
              "var x = new MutationObserver(function (mutations, observer) {{\n",
              "        var display = window.getComputedStyle(gd).display;\n",
              "        if (!display || display === 'none') {{\n",
              "            console.log([gd, 'removed!']);\n",
              "            Plotly.purge(gd);\n",
              "            observer.disconnect();\n",
              "        }}\n",
              "}});\n",
              "\n",
              "// Listen for the removal of the full notebook cells\n",
              "var notebookContainer = gd.closest('#notebook-container');\n",
              "if (notebookContainer) {{\n",
              "    x.observe(notebookContainer, {childList: true});\n",
              "}}\n",
              "\n",
              "// Listen for the clearing of the current output cell\n",
              "var outputEl = gd.closest('.output');\n",
              "if (outputEl) {{\n",
              "    x.observe(outputEl, {childList: true});\n",
              "}}\n",
              "\n",
              "                        })                };                            </script>        </div>\n",
              "</body>\n",
              "</html>"
            ]
          },
          "metadata": {}
        }
      ]
    },
    {
      "cell_type": "markdown",
      "source": [
        "### Neighborhood Preservation"
      ],
      "metadata": {
        "id": "9Or5iDXuMDpu"
      }
    },
    {
      "cell_type": "markdown",
      "source": [
        "All Data (Ingredients + Nutrients)"
      ],
      "metadata": {
        "id": "vvf7VGzBOWDu"
      }
    },
    {
      "cell_type": "code",
      "source": [
        "kneigh = []\n",
        "y_tsne = []\n",
        "y_umap = []\n",
        "y_pca = []\n",
        "y_trimap = []\n",
        "\n",
        "for k in range(1,51):\n",
        "  kneigh.append(k)\n",
        "\n",
        "  precision = trustworthiness(X, X_tsne, n_neighbors=k, metric='euclidean')\n",
        "  y_tsne.append(precision)\n",
        "\n",
        "  precision = trustworthiness(X, X_umap, n_neighbors=k, metric='euclidean')\n",
        "  y_umap.append(precision)\n",
        "\n",
        "  precision = trustworthiness(X, X_pca, n_neighbors=k, metric='euclidean')\n",
        "  y_pca.append(precision)\n",
        "\n",
        "  precision = trustworthiness(X, X_trimap, n_neighbors=k, metric='euclidean')\n",
        "  y_trimap.append(precision)"
      ],
      "metadata": {
        "id": "ibt-sLx1MBAS"
      },
      "execution_count": 77,
      "outputs": []
    },
    {
      "cell_type": "code",
      "source": [
        "fig = go.Figure()\n",
        "\n",
        "fig.add_trace(go.Scatter(x=kneigh, y=y_tsne,\n",
        "                    mode='lines+markers',\n",
        "                    name='t-SNE',\n",
        "                    line=dict(color=px.colors.qualitative.Plotly[0])))\n",
        "\n",
        "fig.add_trace(go.Scatter(x=kneigh, y=y_umap,\n",
        "                    mode='lines+markers',\n",
        "                    name='UMAP',\n",
        "                    line=dict(color=px.colors.qualitative.Plotly[1])))\n",
        "\n",
        "fig.add_trace(go.Scatter(x=kneigh, y=y_pca,\n",
        "                    mode='lines+markers',\n",
        "                    name='PCA',\n",
        "                    line=dict(color=px.colors.qualitative.Plotly[2])))\n",
        "\n",
        "fig.add_trace(go.Scatter(x=kneigh, y=y_trimap,\n",
        "                    mode='lines+markers',\n",
        "                    name='TRIMAP',\n",
        "                    line=dict(color=px.colors.qualitative.Plotly[3])))\n",
        "\n",
        "fig.update_layout(width=1000, template=\"simple_white\",\n",
        "                  margin=dict(l=0,r=0,b=0,t=0))\n",
        "\n",
        "fig.show()\n",
        "fig.write_image('imgs/neighborhoodpres.eps', format='eps')"
      ],
      "metadata": {
        "colab": {
          "base_uri": "https://localhost:8080/",
          "height": 542
        },
        "id": "pRUOvepXO-5e",
        "outputId": "1168eb69-a389-4f3a-95c5-68e147c20e3a"
      },
      "execution_count": 86,
      "outputs": [
        {
          "output_type": "display_data",
          "data": {
            "text/html": [
              "<html>\n",
              "<head><meta charset=\"utf-8\" /></head>\n",
              "<body>\n",
              "    <div>            <script src=\"https://cdnjs.cloudflare.com/ajax/libs/mathjax/2.7.5/MathJax.js?config=TeX-AMS-MML_SVG\"></script><script type=\"text/javascript\">if (window.MathJax) {MathJax.Hub.Config({SVG: {font: \"STIX-Web\"}});}</script>                <script type=\"text/javascript\">window.PlotlyConfig = {MathJaxConfig: 'local'};</script>\n",
              "        <script src=\"https://cdn.plot.ly/plotly-2.8.3.min.js\"></script>                <div id=\"45de23b4-068e-41d3-a543-2370d04acaa2\" class=\"plotly-graph-div\" style=\"height:525px; width:1000px;\"></div>            <script type=\"text/javascript\">                                    window.PLOTLYENV=window.PLOTLYENV || {};                                    if (document.getElementById(\"45de23b4-068e-41d3-a543-2370d04acaa2\")) {                    Plotly.newPlot(                        \"45de23b4-068e-41d3-a543-2370d04acaa2\",                        [{\"line\":{\"color\":\"#636EFA\"},\"mode\":\"lines+markers\",\"name\":\"t-SNE\",\"x\":[1,2,3,4,5,6,7,8,9,10,11,12,13,14,15,16,17,18,19,20,21,22,23,24,25,26,27,28,29,30,31,32,33,34,35,36,37,38,39,40,41,42,43,44,45,46,47,48,49,50],\"y\":[0.9901618533798794,0.9609028054779949,0.9400057044048701,0.9202360786211717,0.9009139087172832,0.8818577734272326,0.8646470565256456,0.848130311030443,0.8329691706309695,0.8193941417007427,0.8056895122112513,0.7966195300408049,0.7866978469899666,0.7787638246551717,0.7676891791258521,0.761376487452099,0.7525984654731458,0.7442740176971653,0.7344194406099742,0.7282593937247263,0.7229378090033828,0.719315295491898,0.716319316437758,0.7128213468074591,0.7097338935574229,0.7071704837124453,0.7025496511003757,0.7003487969994813,0.6988025383859795,0.6959503075649449,0.6936208610724923,0.6915502070393375,0.6906536507825465,0.6886379128004451,0.6862885181368317,0.6850179750856952,0.6843219207349642,0.6828612671864718,0.6817489429691393,0.6810072631897508,0.6800770887635735,0.6779568059107701,0.6767251775853504,0.674840262121055,0.6735553697510219,0.6726280111865321,0.6711551333829712,0.6700673005020832,0.6696642712186036,0.6688756369944704],\"type\":\"scatter\"},{\"line\":{\"color\":\"#EF553B\"},\"mode\":\"lines+markers\",\"name\":\"UMAP\",\"x\":[1,2,3,4,5,6,7,8,9,10,11,12,13,14,15,16,17,18,19,20,21,22,23,24,25,26,27,28,29,30,31,32,33,34,35,36,37,38,39,40,41,42,43,44,45,46,47,48,49,50],\"y\":[0.9402835078810959,0.9147786198643797,0.9034262081751252,0.8810128794600844,0.8612102530824141,0.8447829712410837,0.8304054845892418,0.816207408629651,0.8059765706629298,0.7959859801385296,0.7861186991621775,0.7762182824445383,0.7663783793199554,0.7589028948899113,0.749582784365393,0.7433244734491602,0.7377178175618073,0.728386421589116,0.7231074959004623,0.716992827415213,0.7143599599497675,0.7119181505779444,0.7091533387194189,0.7063067935412948,0.7040214346608209,0.7021702598042335,0.7004145681296468,0.6979542119426674,0.6958805080218511,0.6920001676674317,0.6872339643673022,0.6855818999840739,0.6838469341355067,0.6822915183309695,0.681970401730589,0.680416062347557,0.6795325463803725,0.6765037781001104,0.6730135611622288,0.6696850095833754,0.6669767891299392,0.6650148175212114,0.6626437415040964,0.6606348322909493,0.6589553914282176,0.656127418446793,0.6542549431044726,0.6527822288691854,0.6506218501175761,0.6483989302107052],\"type\":\"scatter\"},{\"line\":{\"color\":\"#00CC96\"},\"mode\":\"lines+markers\",\"name\":\"PCA\",\"x\":[1,2,3,4,5,6,7,8,9,10,11,12,13,14,15,16,17,18,19,20,21,22,23,24,25,26,27,28,29,30,31,32,33,34,35,36,37,38,39,40,41,42,43,44,45,46,47,48,49,50],\"y\":[0.8378028139215064,0.8159420289855073,0.8060012121860349,0.7975114947164637,0.7936648280337444,0.7869275181046125,0.7823352474706043,0.7734665044138272,0.7711275829430493,0.76824946451918,0.7643579491405579,0.7607347216359458,0.7551495436176143,0.7490156479436397,0.7461744095014416,0.7437584637104907,0.7399761295822678,0.7398181358683502,0.737614146261623,0.7347147200330588,0.7327071241896617,0.7309753745432813,0.7291772884980927,0.7292378949703993,0.7277463159176714,0.7286662612749569,0.7292321924144312,0.7286410328026565,0.7273017586034569,0.7271935615706246,0.7261902574561431,0.7253135451505017,0.7250525648948118,0.7254859240103517,0.7255020471826867,0.725398759737262,0.7260095075312467,0.7264804758887569,0.7261502328122245,0.7263744577827096,0.725590760580503,0.7266885884788699,0.7270081480807045,0.7272055147301593,0.7280433234237582,0.7287189650779411,0.7292066213909132,0.7298499091977353,0.7308397099692223,0.7310303950269255],\"type\":\"scatter\"},{\"line\":{\"color\":\"#AB63FA\"},\"mode\":\"lines+markers\",\"name\":\"TRIMAP\",\"x\":[1,2,3,4,5,6,7,8,9,10,11,12,13,14,15,16,17,18,19,20,21,22,23,24,25,26,27,28,29,30,31,32,33,34,35,36,37,38,39,40,41,42,43,44,45,46,47,48,49,50],\"y\":[0.914577382841426,0.9044475468687675,0.899611387418222,0.8993103170121803,0.8895846852693057,0.8745932693440647,0.8608578460096097,0.8505142589995325,0.8419226561443621,0.8325224623772567,0.8218596914249088,0.8147260916467333,0.809579022087514,0.8049691474779029,0.8005986137366099,0.7968574423027055,0.7951261722080136,0.7904318017606444,0.7865414724983555,0.7844815372354557,0.7808204358008349,0.7770031104410307,0.7729241999963395,0.7699508587738142,0.7648258433808306,0.7567437617993735,0.7509855986112539,0.7464072911540559,0.7445172887694085,0.7402595701426221,0.7390344833217988,0.7372551361681796,0.7353911372283823,0.7330887811694834,0.7306427503736921,0.7275197834992712,0.7258977851369155,0.723414533248852,0.7202006346466374,0.7176771243148727,0.715273304195862,0.7120959688223115,0.7092328408704278,0.7081930124111301,0.7070466369379413,0.7056169909570954,0.7038600964178005,0.702250546000546,0.7005598408110554,0.6987043261411688],\"type\":\"scatter\"}],                        {\"template\":{\"data\":{\"barpolar\":[{\"marker\":{\"line\":{\"color\":\"white\",\"width\":0.5},\"pattern\":{\"fillmode\":\"overlay\",\"size\":10,\"solidity\":0.2}},\"type\":\"barpolar\"}],\"bar\":[{\"error_x\":{\"color\":\"rgb(36,36,36)\"},\"error_y\":{\"color\":\"rgb(36,36,36)\"},\"marker\":{\"line\":{\"color\":\"white\",\"width\":0.5},\"pattern\":{\"fillmode\":\"overlay\",\"size\":10,\"solidity\":0.2}},\"type\":\"bar\"}],\"carpet\":[{\"aaxis\":{\"endlinecolor\":\"rgb(36,36,36)\",\"gridcolor\":\"white\",\"linecolor\":\"white\",\"minorgridcolor\":\"white\",\"startlinecolor\":\"rgb(36,36,36)\"},\"baxis\":{\"endlinecolor\":\"rgb(36,36,36)\",\"gridcolor\":\"white\",\"linecolor\":\"white\",\"minorgridcolor\":\"white\",\"startlinecolor\":\"rgb(36,36,36)\"},\"type\":\"carpet\"}],\"choropleth\":[{\"colorbar\":{\"outlinewidth\":1,\"tickcolor\":\"rgb(36,36,36)\",\"ticks\":\"outside\"},\"type\":\"choropleth\"}],\"contourcarpet\":[{\"colorbar\":{\"outlinewidth\":1,\"tickcolor\":\"rgb(36,36,36)\",\"ticks\":\"outside\"},\"type\":\"contourcarpet\"}],\"contour\":[{\"colorbar\":{\"outlinewidth\":1,\"tickcolor\":\"rgb(36,36,36)\",\"ticks\":\"outside\"},\"colorscale\":[[0.0,\"#440154\"],[0.1111111111111111,\"#482878\"],[0.2222222222222222,\"#3e4989\"],[0.3333333333333333,\"#31688e\"],[0.4444444444444444,\"#26828e\"],[0.5555555555555556,\"#1f9e89\"],[0.6666666666666666,\"#35b779\"],[0.7777777777777778,\"#6ece58\"],[0.8888888888888888,\"#b5de2b\"],[1.0,\"#fde725\"]],\"type\":\"contour\"}],\"heatmapgl\":[{\"colorbar\":{\"outlinewidth\":1,\"tickcolor\":\"rgb(36,36,36)\",\"ticks\":\"outside\"},\"colorscale\":[[0.0,\"#440154\"],[0.1111111111111111,\"#482878\"],[0.2222222222222222,\"#3e4989\"],[0.3333333333333333,\"#31688e\"],[0.4444444444444444,\"#26828e\"],[0.5555555555555556,\"#1f9e89\"],[0.6666666666666666,\"#35b779\"],[0.7777777777777778,\"#6ece58\"],[0.8888888888888888,\"#b5de2b\"],[1.0,\"#fde725\"]],\"type\":\"heatmapgl\"}],\"heatmap\":[{\"colorbar\":{\"outlinewidth\":1,\"tickcolor\":\"rgb(36,36,36)\",\"ticks\":\"outside\"},\"colorscale\":[[0.0,\"#440154\"],[0.1111111111111111,\"#482878\"],[0.2222222222222222,\"#3e4989\"],[0.3333333333333333,\"#31688e\"],[0.4444444444444444,\"#26828e\"],[0.5555555555555556,\"#1f9e89\"],[0.6666666666666666,\"#35b779\"],[0.7777777777777778,\"#6ece58\"],[0.8888888888888888,\"#b5de2b\"],[1.0,\"#fde725\"]],\"type\":\"heatmap\"}],\"histogram2dcontour\":[{\"colorbar\":{\"outlinewidth\":1,\"tickcolor\":\"rgb(36,36,36)\",\"ticks\":\"outside\"},\"colorscale\":[[0.0,\"#440154\"],[0.1111111111111111,\"#482878\"],[0.2222222222222222,\"#3e4989\"],[0.3333333333333333,\"#31688e\"],[0.4444444444444444,\"#26828e\"],[0.5555555555555556,\"#1f9e89\"],[0.6666666666666666,\"#35b779\"],[0.7777777777777778,\"#6ece58\"],[0.8888888888888888,\"#b5de2b\"],[1.0,\"#fde725\"]],\"type\":\"histogram2dcontour\"}],\"histogram2d\":[{\"colorbar\":{\"outlinewidth\":1,\"tickcolor\":\"rgb(36,36,36)\",\"ticks\":\"outside\"},\"colorscale\":[[0.0,\"#440154\"],[0.1111111111111111,\"#482878\"],[0.2222222222222222,\"#3e4989\"],[0.3333333333333333,\"#31688e\"],[0.4444444444444444,\"#26828e\"],[0.5555555555555556,\"#1f9e89\"],[0.6666666666666666,\"#35b779\"],[0.7777777777777778,\"#6ece58\"],[0.8888888888888888,\"#b5de2b\"],[1.0,\"#fde725\"]],\"type\":\"histogram2d\"}],\"histogram\":[{\"marker\":{\"line\":{\"color\":\"white\",\"width\":0.6}},\"type\":\"histogram\"}],\"mesh3d\":[{\"colorbar\":{\"outlinewidth\":1,\"tickcolor\":\"rgb(36,36,36)\",\"ticks\":\"outside\"},\"type\":\"mesh3d\"}],\"parcoords\":[{\"line\":{\"colorbar\":{\"outlinewidth\":1,\"tickcolor\":\"rgb(36,36,36)\",\"ticks\":\"outside\"}},\"type\":\"parcoords\"}],\"pie\":[{\"automargin\":true,\"type\":\"pie\"}],\"scatter3d\":[{\"line\":{\"colorbar\":{\"outlinewidth\":1,\"tickcolor\":\"rgb(36,36,36)\",\"ticks\":\"outside\"}},\"marker\":{\"colorbar\":{\"outlinewidth\":1,\"tickcolor\":\"rgb(36,36,36)\",\"ticks\":\"outside\"}},\"type\":\"scatter3d\"}],\"scattercarpet\":[{\"marker\":{\"colorbar\":{\"outlinewidth\":1,\"tickcolor\":\"rgb(36,36,36)\",\"ticks\":\"outside\"}},\"type\":\"scattercarpet\"}],\"scattergeo\":[{\"marker\":{\"colorbar\":{\"outlinewidth\":1,\"tickcolor\":\"rgb(36,36,36)\",\"ticks\":\"outside\"}},\"type\":\"scattergeo\"}],\"scattergl\":[{\"marker\":{\"colorbar\":{\"outlinewidth\":1,\"tickcolor\":\"rgb(36,36,36)\",\"ticks\":\"outside\"}},\"type\":\"scattergl\"}],\"scattermapbox\":[{\"marker\":{\"colorbar\":{\"outlinewidth\":1,\"tickcolor\":\"rgb(36,36,36)\",\"ticks\":\"outside\"}},\"type\":\"scattermapbox\"}],\"scatterpolargl\":[{\"marker\":{\"colorbar\":{\"outlinewidth\":1,\"tickcolor\":\"rgb(36,36,36)\",\"ticks\":\"outside\"}},\"type\":\"scatterpolargl\"}],\"scatterpolar\":[{\"marker\":{\"colorbar\":{\"outlinewidth\":1,\"tickcolor\":\"rgb(36,36,36)\",\"ticks\":\"outside\"}},\"type\":\"scatterpolar\"}],\"scatter\":[{\"marker\":{\"colorbar\":{\"outlinewidth\":1,\"tickcolor\":\"rgb(36,36,36)\",\"ticks\":\"outside\"}},\"type\":\"scatter\"}],\"scatterternary\":[{\"marker\":{\"colorbar\":{\"outlinewidth\":1,\"tickcolor\":\"rgb(36,36,36)\",\"ticks\":\"outside\"}},\"type\":\"scatterternary\"}],\"surface\":[{\"colorbar\":{\"outlinewidth\":1,\"tickcolor\":\"rgb(36,36,36)\",\"ticks\":\"outside\"},\"colorscale\":[[0.0,\"#440154\"],[0.1111111111111111,\"#482878\"],[0.2222222222222222,\"#3e4989\"],[0.3333333333333333,\"#31688e\"],[0.4444444444444444,\"#26828e\"],[0.5555555555555556,\"#1f9e89\"],[0.6666666666666666,\"#35b779\"],[0.7777777777777778,\"#6ece58\"],[0.8888888888888888,\"#b5de2b\"],[1.0,\"#fde725\"]],\"type\":\"surface\"}],\"table\":[{\"cells\":{\"fill\":{\"color\":\"rgb(237,237,237)\"},\"line\":{\"color\":\"white\"}},\"header\":{\"fill\":{\"color\":\"rgb(217,217,217)\"},\"line\":{\"color\":\"white\"}},\"type\":\"table\"}]},\"layout\":{\"annotationdefaults\":{\"arrowhead\":0,\"arrowwidth\":1},\"autotypenumbers\":\"strict\",\"coloraxis\":{\"colorbar\":{\"outlinewidth\":1,\"tickcolor\":\"rgb(36,36,36)\",\"ticks\":\"outside\"}},\"colorscale\":{\"diverging\":[[0.0,\"rgb(103,0,31)\"],[0.1,\"rgb(178,24,43)\"],[0.2,\"rgb(214,96,77)\"],[0.3,\"rgb(244,165,130)\"],[0.4,\"rgb(253,219,199)\"],[0.5,\"rgb(247,247,247)\"],[0.6,\"rgb(209,229,240)\"],[0.7,\"rgb(146,197,222)\"],[0.8,\"rgb(67,147,195)\"],[0.9,\"rgb(33,102,172)\"],[1.0,\"rgb(5,48,97)\"]],\"sequential\":[[0.0,\"#440154\"],[0.1111111111111111,\"#482878\"],[0.2222222222222222,\"#3e4989\"],[0.3333333333333333,\"#31688e\"],[0.4444444444444444,\"#26828e\"],[0.5555555555555556,\"#1f9e89\"],[0.6666666666666666,\"#35b779\"],[0.7777777777777778,\"#6ece58\"],[0.8888888888888888,\"#b5de2b\"],[1.0,\"#fde725\"]],\"sequentialminus\":[[0.0,\"#440154\"],[0.1111111111111111,\"#482878\"],[0.2222222222222222,\"#3e4989\"],[0.3333333333333333,\"#31688e\"],[0.4444444444444444,\"#26828e\"],[0.5555555555555556,\"#1f9e89\"],[0.6666666666666666,\"#35b779\"],[0.7777777777777778,\"#6ece58\"],[0.8888888888888888,\"#b5de2b\"],[1.0,\"#fde725\"]]},\"colorway\":[\"#1F77B4\",\"#FF7F0E\",\"#2CA02C\",\"#D62728\",\"#9467BD\",\"#8C564B\",\"#E377C2\",\"#7F7F7F\",\"#BCBD22\",\"#17BECF\"],\"font\":{\"color\":\"rgb(36,36,36)\"},\"geo\":{\"bgcolor\":\"white\",\"lakecolor\":\"white\",\"landcolor\":\"white\",\"showlakes\":true,\"showland\":true,\"subunitcolor\":\"white\"},\"hoverlabel\":{\"align\":\"left\"},\"hovermode\":\"closest\",\"mapbox\":{\"style\":\"light\"},\"paper_bgcolor\":\"white\",\"plot_bgcolor\":\"white\",\"polar\":{\"angularaxis\":{\"gridcolor\":\"rgb(232,232,232)\",\"linecolor\":\"rgb(36,36,36)\",\"showgrid\":false,\"showline\":true,\"ticks\":\"outside\"},\"bgcolor\":\"white\",\"radialaxis\":{\"gridcolor\":\"rgb(232,232,232)\",\"linecolor\":\"rgb(36,36,36)\",\"showgrid\":false,\"showline\":true,\"ticks\":\"outside\"}},\"scene\":{\"xaxis\":{\"backgroundcolor\":\"white\",\"gridcolor\":\"rgb(232,232,232)\",\"gridwidth\":2,\"linecolor\":\"rgb(36,36,36)\",\"showbackground\":true,\"showgrid\":false,\"showline\":true,\"ticks\":\"outside\",\"zeroline\":false,\"zerolinecolor\":\"rgb(36,36,36)\"},\"yaxis\":{\"backgroundcolor\":\"white\",\"gridcolor\":\"rgb(232,232,232)\",\"gridwidth\":2,\"linecolor\":\"rgb(36,36,36)\",\"showbackground\":true,\"showgrid\":false,\"showline\":true,\"ticks\":\"outside\",\"zeroline\":false,\"zerolinecolor\":\"rgb(36,36,36)\"},\"zaxis\":{\"backgroundcolor\":\"white\",\"gridcolor\":\"rgb(232,232,232)\",\"gridwidth\":2,\"linecolor\":\"rgb(36,36,36)\",\"showbackground\":true,\"showgrid\":false,\"showline\":true,\"ticks\":\"outside\",\"zeroline\":false,\"zerolinecolor\":\"rgb(36,36,36)\"}},\"shapedefaults\":{\"fillcolor\":\"black\",\"line\":{\"width\":0},\"opacity\":0.3},\"ternary\":{\"aaxis\":{\"gridcolor\":\"rgb(232,232,232)\",\"linecolor\":\"rgb(36,36,36)\",\"showgrid\":false,\"showline\":true,\"ticks\":\"outside\"},\"baxis\":{\"gridcolor\":\"rgb(232,232,232)\",\"linecolor\":\"rgb(36,36,36)\",\"showgrid\":false,\"showline\":true,\"ticks\":\"outside\"},\"bgcolor\":\"white\",\"caxis\":{\"gridcolor\":\"rgb(232,232,232)\",\"linecolor\":\"rgb(36,36,36)\",\"showgrid\":false,\"showline\":true,\"ticks\":\"outside\"}},\"title\":{\"x\":0.05},\"xaxis\":{\"automargin\":true,\"gridcolor\":\"rgb(232,232,232)\",\"linecolor\":\"rgb(36,36,36)\",\"showgrid\":false,\"showline\":true,\"ticks\":\"outside\",\"title\":{\"standoff\":15},\"zeroline\":false,\"zerolinecolor\":\"rgb(36,36,36)\"},\"yaxis\":{\"automargin\":true,\"gridcolor\":\"rgb(232,232,232)\",\"linecolor\":\"rgb(36,36,36)\",\"showgrid\":false,\"showline\":true,\"ticks\":\"outside\",\"title\":{\"standoff\":15},\"zeroline\":false,\"zerolinecolor\":\"rgb(36,36,36)\"}}},\"margin\":{\"l\":0,\"r\":0,\"b\":0,\"t\":0},\"width\":1000},                        {\"responsive\": true}                    ).then(function(){\n",
              "                            \n",
              "var gd = document.getElementById('45de23b4-068e-41d3-a543-2370d04acaa2');\n",
              "var x = new MutationObserver(function (mutations, observer) {{\n",
              "        var display = window.getComputedStyle(gd).display;\n",
              "        if (!display || display === 'none') {{\n",
              "            console.log([gd, 'removed!']);\n",
              "            Plotly.purge(gd);\n",
              "            observer.disconnect();\n",
              "        }}\n",
              "}});\n",
              "\n",
              "// Listen for the removal of the full notebook cells\n",
              "var notebookContainer = gd.closest('#notebook-container');\n",
              "if (notebookContainer) {{\n",
              "    x.observe(notebookContainer, {childList: true});\n",
              "}}\n",
              "\n",
              "// Listen for the clearing of the current output cell\n",
              "var outputEl = gd.closest('.output');\n",
              "if (outputEl) {{\n",
              "    x.observe(outputEl, {childList: true});\n",
              "}}\n",
              "\n",
              "                        })                };                            </script>        </div>\n",
              "</body>\n",
              "</html>"
            ]
          },
          "metadata": {}
        }
      ]
    },
    {
      "cell_type": "markdown",
      "source": [
        "Only Ingredients"
      ],
      "metadata": {
        "id": "LSrCqERXPI-W"
      }
    },
    {
      "cell_type": "code",
      "source": [
        "kneigh = []\n",
        "y_tsne = []\n",
        "y_umap = []\n",
        "y_pca = []\n",
        "y_isomap = []\n",
        "\n",
        "for k in range(1,51):\n",
        "  kneigh.append(k)\n",
        "\n",
        "  precision = trustworthiness(X, X_tsneI, n_neighbors=k, metric='euclidean')\n",
        "  y_tsne.append(precision)\n",
        "\n",
        "  precision = trustworthiness(X, X_umapI, n_neighbors=k, metric='euclidean')\n",
        "  y_umap.append(precision)\n",
        "\n",
        "  precision = trustworthiness(X, X_pcaI, n_neighbors=k, metric='euclidean')\n",
        "  y_pca.append(precision)\n",
        "\n",
        "  precision = trustworthiness(X, X_isomapI, n_neighbors=k, metric='euclidean')\n",
        "  y_isomap.append(precision)"
      ],
      "metadata": {
        "id": "iRZxyJ3vPKsK"
      },
      "execution_count": null,
      "outputs": []
    },
    {
      "cell_type": "code",
      "source": [
        "fig = go.Figure()\n",
        "\n",
        "fig.add_trace(go.Scatter(x=kneigh, y=y_tsne,\n",
        "                    mode='lines+markers',\n",
        "                    name='t-SNE'))\n",
        "\n",
        "fig.add_trace(go.Scatter(x=kneigh, y=y_umap,\n",
        "                    mode='lines+markers',\n",
        "                    name='UMAP'))\n",
        "\n",
        "fig.add_trace(go.Scatter(x=kneigh, y=y_pca,\n",
        "                    mode='lines+markers',\n",
        "                    name='PCA'))\n",
        "\n",
        "fig.add_trace(go.Scatter(x=kneigh, y=y_isomap,\n",
        "                    mode='lines+markers',\n",
        "                    name='Isomap'))\n",
        "\n",
        "fig.show()"
      ],
      "metadata": {
        "colab": {
          "base_uri": "https://localhost:8080/"
        },
        "id": "azCq0Zv8PRoA",
        "outputId": "fef79779-d457-484a-902f-798de39a6703"
      },
      "execution_count": null,
      "outputs": [
        {
          "output_type": "display_data",
          "data": {
            "text/html": [
              "<html>\n",
              "<head><meta charset=\"utf-8\" /></head>\n",
              "<body>\n",
              "    <div>            <script src=\"https://cdnjs.cloudflare.com/ajax/libs/mathjax/2.7.5/MathJax.js?config=TeX-AMS-MML_SVG\"></script><script type=\"text/javascript\">if (window.MathJax) {MathJax.Hub.Config({SVG: {font: \"STIX-Web\"}});}</script>                <script type=\"text/javascript\">window.PlotlyConfig = {MathJaxConfig: 'local'};</script>\n",
              "        <script src=\"https://cdn.plot.ly/plotly-2.8.3.min.js\"></script>                <div id=\"709d7ead-894d-4fe0-9cda-9810c0a81bde\" class=\"plotly-graph-div\" style=\"height:525px; width:100%;\"></div>            <script type=\"text/javascript\">                                    window.PLOTLYENV=window.PLOTLYENV || {};                                    if (document.getElementById(\"709d7ead-894d-4fe0-9cda-9810c0a81bde\")) {                    Plotly.newPlot(                        \"709d7ead-894d-4fe0-9cda-9810c0a81bde\",                        [{\"mode\":\"lines+markers\",\"name\":\"t-SNE\",\"x\":[1,2,3,4,5,6,7,8,9,10,11,12,13,14,15,16,17,18,19,20,21,22,23,24,25,26,27,28,29,30,31,32,33,34,35,36,37,38,39,40,41,42,43,44,45,46,47,48,49,50],\"y\":[0.9732227864170104,0.9349488099986704,0.9075841845374976,0.885472963889113,0.8639817218256544,0.8409717123927092,0.8206531505136919,0.8034471853257432,0.7855097048591904,0.7668460875128654,0.7458833763181589,0.7343194503072088,0.7238734148550725,0.716142560210212,0.708814993030494,0.7040816694038667,0.6971764705882353,0.6897860593512768,0.6839379958433313,0.6787021458720741,0.6747021688219123,0.6712311370088152,0.6672948254359199,0.6630151130071706,0.6596991840214347,0.6572607540757187,0.6544780210367629,0.6544842636803347,0.6543834763652656,0.6536661531851573,0.6521453317572796,0.6513377926421404,0.6502841030543993,0.6500089238755442,0.6474876751246414,0.6457690392325783,0.6446573549834419,0.641791774232118,0.6401385742199206,0.6390005548269948,0.636812733933922,0.6354824828482117,0.6343183390119114,0.6338260680898431,0.632311408398365,0.6313250365026982,0.6300218857877755,0.628854645158993,0.6276359446059956,0.6263583794137844],\"type\":\"scatter\"},{\"mode\":\"lines+markers\",\"name\":\"UMAP\",\"x\":[1,2,3,4,5,6,7,8,9,10,11,12,13,14,15,16,17,18,19,20,21,22,23,24,25,26,27,28,29,30,31,32,33,34,35,36,37,38,39,40,41,42,43,44,45,46,47,48,49,50],\"y\":[0.9152914418703058,0.9047932455790454,0.8791735743444391,0.858134360463553,0.8374107722258274,0.8239411407492001,0.8123520450017578,0.8052175288067541,0.7984904918193999,0.7863195081921611,0.7755861451513626,0.7665048543689321,0.7630186559364549,0.759024922004336,0.7548958393003762,0.751149804074106,0.7469505541346974,0.7434696747311567,0.7396901645064959,0.7349471649104165,0.7288774621276404,0.7232712603398395,0.7190809926085127,0.713568928827166,0.7106040677140422,0.7070650111600567,0.7047760989481618,0.7022623591844335,0.7000244489824053,0.6988792480115691,0.6970378559135701,0.6940132783882784,0.6919624292171426,0.6899973797982445,0.6897348410996296,0.6878500961458072,0.686476248976249,0.6852914172806407,0.6837576869133671,0.6823455731530986,0.6800894771442636,0.6786201437096577,0.6773976617995422,0.6766553938261939,0.6758535395763656,0.6759010483178245,0.6749452855305611,0.6730447097294924,0.6714978285761141,0.670509956991579],\"type\":\"scatter\"},{\"mode\":\"lines+markers\",\"name\":\"PCA\",\"x\":[1,2,3,4,5,6,7,8,9,10,11,12,13,14,15,16,17,18,19,20,21,22,23,24,25,26,27,28,29,30,31,32,33,34,35,36,37,38,39,40,41,42,43,44,45,46,47,48,49,50],\"y\":[0.8378292605522056,0.8166467225103045,0.8060056687523397,0.7974140248984969,0.7936648280337444,0.7869184544688257,0.7823879839056214,0.7734682231939058,0.7711214367371022,0.7681840941333555,0.7642943621204491,0.7607394118474744,0.7551462775222966,0.7489353134266434,0.7463959061312558,0.7437593641052238,0.7401474850809889,0.7399193875005265,0.7376411676965693,0.7347147200330588,0.7327064170880992,0.7309774119500699,0.7292040881958444,0.7292378949703993,0.7277469248568993,0.7286680289713656,0.7291636687566383,0.7288521730263654,0.7273588421306588,0.7271919896884529,0.7261897470760323,0.7253384296862557,0.7250549939564945,0.7254854493361207,0.7255832845908885,0.7254232960018612,0.7260393298436776,0.7266297147704601,0.7261506609332696,0.7264299404821951,0.7257208385777478,0.7267555717939349,0.7270069500684464,0.7271807522144764,0.7280425492382014,0.7288166107492626,0.7292058693019863,0.7298595532291184,0.7308393439166454,0.7310307564422278],\"type\":\"scatter\"},{\"mode\":\"lines+markers\",\"name\":\"Isomap\",\"x\":[1,2,3,4,5,6,7,8,9,10,11,12,13,14,15,16,17,18,19,20,21,22,23,24,25,26,27,28,29,30,31,32,33,34,35,36,37,38,39,40,41,42,43,44,45,46,47,48,49,50],\"y\":[0.8094916957579604,0.7828879138412446,0.7690518209529922,0.7497714500820091,0.740979883192732,0.7351175100379767,0.7297140513301301,0.7226473338283419,0.7212511216825854,0.7167793262677682,0.7120143859274295,0.7101226490314714,0.7094546927257526,0.7066234283924555,0.7057732332779592,0.7039763232200997,0.7032762148337596,0.7005227824272527,0.6980786987712195,0.6965856430237021,0.6957702598739662,0.6932813115466634,0.6913596467146186,0.6897358123304388,0.6886706856655705,0.6877063785557214,0.6875132764586973,0.6860815921192049,0.683035637353737,0.6809550756075324,0.6786054782159561,0.676026238254499,0.6730934780665446,0.6719037474581195,0.6700215395185175,0.6680984031435498,0.6668322472670298,0.6651432955086951,0.6647790809782395,0.6655725646457513,0.6668132625048315,0.6663155117119312,0.6667740884324729,0.6663247081167596,0.6665164746686485,0.6670477136418631,0.6677718613448854,0.6686915423328468,0.6688304034485082,0.6691669377281434],\"type\":\"scatter\"}],                        {\"template\":{\"data\":{\"bar\":[{\"error_x\":{\"color\":\"#2a3f5f\"},\"error_y\":{\"color\":\"#2a3f5f\"},\"marker\":{\"line\":{\"color\":\"#E5ECF6\",\"width\":0.5},\"pattern\":{\"fillmode\":\"overlay\",\"size\":10,\"solidity\":0.2}},\"type\":\"bar\"}],\"barpolar\":[{\"marker\":{\"line\":{\"color\":\"#E5ECF6\",\"width\":0.5},\"pattern\":{\"fillmode\":\"overlay\",\"size\":10,\"solidity\":0.2}},\"type\":\"barpolar\"}],\"carpet\":[{\"aaxis\":{\"endlinecolor\":\"#2a3f5f\",\"gridcolor\":\"white\",\"linecolor\":\"white\",\"minorgridcolor\":\"white\",\"startlinecolor\":\"#2a3f5f\"},\"baxis\":{\"endlinecolor\":\"#2a3f5f\",\"gridcolor\":\"white\",\"linecolor\":\"white\",\"minorgridcolor\":\"white\",\"startlinecolor\":\"#2a3f5f\"},\"type\":\"carpet\"}],\"choropleth\":[{\"colorbar\":{\"outlinewidth\":0,\"ticks\":\"\"},\"type\":\"choropleth\"}],\"contour\":[{\"colorbar\":{\"outlinewidth\":0,\"ticks\":\"\"},\"colorscale\":[[0.0,\"#0d0887\"],[0.1111111111111111,\"#46039f\"],[0.2222222222222222,\"#7201a8\"],[0.3333333333333333,\"#9c179e\"],[0.4444444444444444,\"#bd3786\"],[0.5555555555555556,\"#d8576b\"],[0.6666666666666666,\"#ed7953\"],[0.7777777777777778,\"#fb9f3a\"],[0.8888888888888888,\"#fdca26\"],[1.0,\"#f0f921\"]],\"type\":\"contour\"}],\"contourcarpet\":[{\"colorbar\":{\"outlinewidth\":0,\"ticks\":\"\"},\"type\":\"contourcarpet\"}],\"heatmap\":[{\"colorbar\":{\"outlinewidth\":0,\"ticks\":\"\"},\"colorscale\":[[0.0,\"#0d0887\"],[0.1111111111111111,\"#46039f\"],[0.2222222222222222,\"#7201a8\"],[0.3333333333333333,\"#9c179e\"],[0.4444444444444444,\"#bd3786\"],[0.5555555555555556,\"#d8576b\"],[0.6666666666666666,\"#ed7953\"],[0.7777777777777778,\"#fb9f3a\"],[0.8888888888888888,\"#fdca26\"],[1.0,\"#f0f921\"]],\"type\":\"heatmap\"}],\"heatmapgl\":[{\"colorbar\":{\"outlinewidth\":0,\"ticks\":\"\"},\"colorscale\":[[0.0,\"#0d0887\"],[0.1111111111111111,\"#46039f\"],[0.2222222222222222,\"#7201a8\"],[0.3333333333333333,\"#9c179e\"],[0.4444444444444444,\"#bd3786\"],[0.5555555555555556,\"#d8576b\"],[0.6666666666666666,\"#ed7953\"],[0.7777777777777778,\"#fb9f3a\"],[0.8888888888888888,\"#fdca26\"],[1.0,\"#f0f921\"]],\"type\":\"heatmapgl\"}],\"histogram\":[{\"marker\":{\"pattern\":{\"fillmode\":\"overlay\",\"size\":10,\"solidity\":0.2}},\"type\":\"histogram\"}],\"histogram2d\":[{\"colorbar\":{\"outlinewidth\":0,\"ticks\":\"\"},\"colorscale\":[[0.0,\"#0d0887\"],[0.1111111111111111,\"#46039f\"],[0.2222222222222222,\"#7201a8\"],[0.3333333333333333,\"#9c179e\"],[0.4444444444444444,\"#bd3786\"],[0.5555555555555556,\"#d8576b\"],[0.6666666666666666,\"#ed7953\"],[0.7777777777777778,\"#fb9f3a\"],[0.8888888888888888,\"#fdca26\"],[1.0,\"#f0f921\"]],\"type\":\"histogram2d\"}],\"histogram2dcontour\":[{\"colorbar\":{\"outlinewidth\":0,\"ticks\":\"\"},\"colorscale\":[[0.0,\"#0d0887\"],[0.1111111111111111,\"#46039f\"],[0.2222222222222222,\"#7201a8\"],[0.3333333333333333,\"#9c179e\"],[0.4444444444444444,\"#bd3786\"],[0.5555555555555556,\"#d8576b\"],[0.6666666666666666,\"#ed7953\"],[0.7777777777777778,\"#fb9f3a\"],[0.8888888888888888,\"#fdca26\"],[1.0,\"#f0f921\"]],\"type\":\"histogram2dcontour\"}],\"mesh3d\":[{\"colorbar\":{\"outlinewidth\":0,\"ticks\":\"\"},\"type\":\"mesh3d\"}],\"parcoords\":[{\"line\":{\"colorbar\":{\"outlinewidth\":0,\"ticks\":\"\"}},\"type\":\"parcoords\"}],\"pie\":[{\"automargin\":true,\"type\":\"pie\"}],\"scatter\":[{\"marker\":{\"colorbar\":{\"outlinewidth\":0,\"ticks\":\"\"}},\"type\":\"scatter\"}],\"scatter3d\":[{\"line\":{\"colorbar\":{\"outlinewidth\":0,\"ticks\":\"\"}},\"marker\":{\"colorbar\":{\"outlinewidth\":0,\"ticks\":\"\"}},\"type\":\"scatter3d\"}],\"scattercarpet\":[{\"marker\":{\"colorbar\":{\"outlinewidth\":0,\"ticks\":\"\"}},\"type\":\"scattercarpet\"}],\"scattergeo\":[{\"marker\":{\"colorbar\":{\"outlinewidth\":0,\"ticks\":\"\"}},\"type\":\"scattergeo\"}],\"scattergl\":[{\"marker\":{\"colorbar\":{\"outlinewidth\":0,\"ticks\":\"\"}},\"type\":\"scattergl\"}],\"scattermapbox\":[{\"marker\":{\"colorbar\":{\"outlinewidth\":0,\"ticks\":\"\"}},\"type\":\"scattermapbox\"}],\"scatterpolar\":[{\"marker\":{\"colorbar\":{\"outlinewidth\":0,\"ticks\":\"\"}},\"type\":\"scatterpolar\"}],\"scatterpolargl\":[{\"marker\":{\"colorbar\":{\"outlinewidth\":0,\"ticks\":\"\"}},\"type\":\"scatterpolargl\"}],\"scatterternary\":[{\"marker\":{\"colorbar\":{\"outlinewidth\":0,\"ticks\":\"\"}},\"type\":\"scatterternary\"}],\"surface\":[{\"colorbar\":{\"outlinewidth\":0,\"ticks\":\"\"},\"colorscale\":[[0.0,\"#0d0887\"],[0.1111111111111111,\"#46039f\"],[0.2222222222222222,\"#7201a8\"],[0.3333333333333333,\"#9c179e\"],[0.4444444444444444,\"#bd3786\"],[0.5555555555555556,\"#d8576b\"],[0.6666666666666666,\"#ed7953\"],[0.7777777777777778,\"#fb9f3a\"],[0.8888888888888888,\"#fdca26\"],[1.0,\"#f0f921\"]],\"type\":\"surface\"}],\"table\":[{\"cells\":{\"fill\":{\"color\":\"#EBF0F8\"},\"line\":{\"color\":\"white\"}},\"header\":{\"fill\":{\"color\":\"#C8D4E3\"},\"line\":{\"color\":\"white\"}},\"type\":\"table\"}]},\"layout\":{\"annotationdefaults\":{\"arrowcolor\":\"#2a3f5f\",\"arrowhead\":0,\"arrowwidth\":1},\"autotypenumbers\":\"strict\",\"coloraxis\":{\"colorbar\":{\"outlinewidth\":0,\"ticks\":\"\"}},\"colorscale\":{\"diverging\":[[0,\"#8e0152\"],[0.1,\"#c51b7d\"],[0.2,\"#de77ae\"],[0.3,\"#f1b6da\"],[0.4,\"#fde0ef\"],[0.5,\"#f7f7f7\"],[0.6,\"#e6f5d0\"],[0.7,\"#b8e186\"],[0.8,\"#7fbc41\"],[0.9,\"#4d9221\"],[1,\"#276419\"]],\"sequential\":[[0.0,\"#0d0887\"],[0.1111111111111111,\"#46039f\"],[0.2222222222222222,\"#7201a8\"],[0.3333333333333333,\"#9c179e\"],[0.4444444444444444,\"#bd3786\"],[0.5555555555555556,\"#d8576b\"],[0.6666666666666666,\"#ed7953\"],[0.7777777777777778,\"#fb9f3a\"],[0.8888888888888888,\"#fdca26\"],[1.0,\"#f0f921\"]],\"sequentialminus\":[[0.0,\"#0d0887\"],[0.1111111111111111,\"#46039f\"],[0.2222222222222222,\"#7201a8\"],[0.3333333333333333,\"#9c179e\"],[0.4444444444444444,\"#bd3786\"],[0.5555555555555556,\"#d8576b\"],[0.6666666666666666,\"#ed7953\"],[0.7777777777777778,\"#fb9f3a\"],[0.8888888888888888,\"#fdca26\"],[1.0,\"#f0f921\"]]},\"colorway\":[\"#636efa\",\"#EF553B\",\"#00cc96\",\"#ab63fa\",\"#FFA15A\",\"#19d3f3\",\"#FF6692\",\"#B6E880\",\"#FF97FF\",\"#FECB52\"],\"font\":{\"color\":\"#2a3f5f\"},\"geo\":{\"bgcolor\":\"white\",\"lakecolor\":\"white\",\"landcolor\":\"#E5ECF6\",\"showlakes\":true,\"showland\":true,\"subunitcolor\":\"white\"},\"hoverlabel\":{\"align\":\"left\"},\"hovermode\":\"closest\",\"mapbox\":{\"style\":\"light\"},\"paper_bgcolor\":\"white\",\"plot_bgcolor\":\"#E5ECF6\",\"polar\":{\"angularaxis\":{\"gridcolor\":\"white\",\"linecolor\":\"white\",\"ticks\":\"\"},\"bgcolor\":\"#E5ECF6\",\"radialaxis\":{\"gridcolor\":\"white\",\"linecolor\":\"white\",\"ticks\":\"\"}},\"scene\":{\"xaxis\":{\"backgroundcolor\":\"#E5ECF6\",\"gridcolor\":\"white\",\"gridwidth\":2,\"linecolor\":\"white\",\"showbackground\":true,\"ticks\":\"\",\"zerolinecolor\":\"white\"},\"yaxis\":{\"backgroundcolor\":\"#E5ECF6\",\"gridcolor\":\"white\",\"gridwidth\":2,\"linecolor\":\"white\",\"showbackground\":true,\"ticks\":\"\",\"zerolinecolor\":\"white\"},\"zaxis\":{\"backgroundcolor\":\"#E5ECF6\",\"gridcolor\":\"white\",\"gridwidth\":2,\"linecolor\":\"white\",\"showbackground\":true,\"ticks\":\"\",\"zerolinecolor\":\"white\"}},\"shapedefaults\":{\"line\":{\"color\":\"#2a3f5f\"}},\"ternary\":{\"aaxis\":{\"gridcolor\":\"white\",\"linecolor\":\"white\",\"ticks\":\"\"},\"baxis\":{\"gridcolor\":\"white\",\"linecolor\":\"white\",\"ticks\":\"\"},\"bgcolor\":\"#E5ECF6\",\"caxis\":{\"gridcolor\":\"white\",\"linecolor\":\"white\",\"ticks\":\"\"}},\"title\":{\"x\":0.05},\"xaxis\":{\"automargin\":true,\"gridcolor\":\"white\",\"linecolor\":\"white\",\"ticks\":\"\",\"title\":{\"standoff\":15},\"zerolinecolor\":\"white\",\"zerolinewidth\":2},\"yaxis\":{\"automargin\":true,\"gridcolor\":\"white\",\"linecolor\":\"white\",\"ticks\":\"\",\"title\":{\"standoff\":15},\"zerolinecolor\":\"white\",\"zerolinewidth\":2}}}},                        {\"responsive\": true}                    ).then(function(){\n",
              "                            \n",
              "var gd = document.getElementById('709d7ead-894d-4fe0-9cda-9810c0a81bde');\n",
              "var x = new MutationObserver(function (mutations, observer) {{\n",
              "        var display = window.getComputedStyle(gd).display;\n",
              "        if (!display || display === 'none') {{\n",
              "            console.log([gd, 'removed!']);\n",
              "            Plotly.purge(gd);\n",
              "            observer.disconnect();\n",
              "        }}\n",
              "}});\n",
              "\n",
              "// Listen for the removal of the full notebook cells\n",
              "var notebookContainer = gd.closest('#notebook-container');\n",
              "if (notebookContainer) {{\n",
              "    x.observe(notebookContainer, {childList: true});\n",
              "}}\n",
              "\n",
              "// Listen for the clearing of the current output cell\n",
              "var outputEl = gd.closest('.output');\n",
              "if (outputEl) {{\n",
              "    x.observe(outputEl, {childList: true});\n",
              "}}\n",
              "\n",
              "                        })                };                            </script>        </div>\n",
              "</body>\n",
              "</html>"
            ]
          },
          "metadata": {}
        }
      ]
    },
    {
      "cell_type": "markdown",
      "source": [
        "Only Nutrients"
      ],
      "metadata": {
        "id": "qyrbLg5kPTyu"
      }
    },
    {
      "cell_type": "code",
      "source": [
        "kneigh = []\n",
        "y_tsne = []\n",
        "y_umap = []\n",
        "y_pca = []\n",
        "y_isomap = []\n",
        "\n",
        "for k in range(1,51):\n",
        "  kneigh.append(k)\n",
        "\n",
        "  precision = trustworthiness(X, X_tsneN, n_neighbors=k, metric='euclidean')\n",
        "  y_tsne.append(precision)\n",
        "\n",
        "  precision = trustworthiness(X, X_umapN, n_neighbors=k, metric='euclidean')\n",
        "  y_umap.append(precision)\n",
        "\n",
        "  precision = trustworthiness(X, X_pcaN, n_neighbors=k, metric='euclidean')\n",
        "  y_pca.append(precision)\n",
        "\n",
        "  precision = trustworthiness(X, X_isomapN, n_neighbors=k, metric='euclidean')\n",
        "  y_isomap.append(precision)"
      ],
      "metadata": {
        "id": "Nn05BRoHPVMz"
      },
      "execution_count": null,
      "outputs": []
    },
    {
      "cell_type": "code",
      "source": [
        "fig = go.Figure()\n",
        "\n",
        "fig.add_trace(go.Scatter(x=kneigh, y=y_tsne,\n",
        "                    mode='lines+markers',\n",
        "                    name='t-SNE'))\n",
        "\n",
        "fig.add_trace(go.Scatter(x=kneigh, y=y_umap,\n",
        "                    mode='lines+markers',\n",
        "                    name='UMAP'))\n",
        "\n",
        "fig.add_trace(go.Scatter(x=kneigh, y=y_pca,\n",
        "                    mode='lines+markers',\n",
        "                    name='PCA'))\n",
        "\n",
        "fig.add_trace(go.Scatter(x=kneigh, y=y_isomap,\n",
        "                    mode='lines+markers',\n",
        "                    name='Isomap'))\n",
        "\n",
        "fig.show()"
      ],
      "metadata": {
        "colab": {
          "base_uri": "https://localhost:8080/"
        },
        "id": "1mCxna9YPaBE",
        "outputId": "d77248a8-9b72-419f-d21f-bf500a5ec3c8"
      },
      "execution_count": null,
      "outputs": [
        {
          "output_type": "display_data",
          "data": {
            "text/html": [
              "<html>\n",
              "<head><meta charset=\"utf-8\" /></head>\n",
              "<body>\n",
              "    <div>            <script src=\"https://cdnjs.cloudflare.com/ajax/libs/mathjax/2.7.5/MathJax.js?config=TeX-AMS-MML_SVG\"></script><script type=\"text/javascript\">if (window.MathJax) {MathJax.Hub.Config({SVG: {font: \"STIX-Web\"}});}</script>                <script type=\"text/javascript\">window.PlotlyConfig = {MathJaxConfig: 'local'};</script>\n",
              "        <script src=\"https://cdn.plot.ly/plotly-2.8.3.min.js\"></script>                <div id=\"f69f3bee-457f-47e0-bdcf-72cdb13b5daf\" class=\"plotly-graph-div\" style=\"height:525px; width:100%;\"></div>            <script type=\"text/javascript\">                                    window.PLOTLYENV=window.PLOTLYENV || {};                                    if (document.getElementById(\"f69f3bee-457f-47e0-bdcf-72cdb13b5daf\")) {                    Plotly.newPlot(                        \"f69f3bee-457f-47e0-bdcf-72cdb13b5daf\",                        [{\"mode\":\"lines+markers\",\"name\":\"t-SNE\",\"x\":[1,2,3,4,5,6,7,8,9,10,11,12,13,14,15,16,17,18,19,20,21,22,23,24,25,26,27,28,29,30,31,32,33,34,35,36,37,38,39,40,41,42,43,44,45,46,47,48,49,50],\"y\":[0.8558658626890934,0.8199375083100652,0.8007736599105122,0.7814793901750423,0.7660853341985724,0.7478428546827274,0.7349544904097816,0.7252358166267909,0.714889798527369,0.7040835628251134,0.698806090110438,0.6929799258946578,0.6873127438684503,0.6827457727773778,0.6794962861125432,0.6774623995159478,0.6743725490196079,0.6725311612023186,0.6694514185481306,0.6678443873786122,0.6679040944008869,0.6651644187278432,0.6633480797036084,0.661134811856424,0.6600420168067227,0.6596989966555185,0.6612721417069243,0.6593947978595591,0.6568660712747074,0.6554837729363807,0.6554270758690243,0.6540422439878961,0.6523220858061181,0.6504024288131056,0.6495139681920731,0.6476169834571052,0.6475091692482997,0.6480785712166198,0.6488024598122775,0.6510869565217392,0.6494170853939341,0.6486550562253887,0.6482260633157465,0.6473338238669774,0.646225845410628,0.6456453844874595,0.6454761851041266,0.6456716103455233,0.646077307375813,0.6448697097835122],\"type\":\"scatter\"},{\"mode\":\"lines+markers\",\"name\":\"UMAP\",\"x\":[1,2,3,4,5,6,7,8,9,10,11,12,13,14,15,16,17,18,19,20,21,22,23,24,25,26,27,28,29,30,31,32,33,34,35,36,37,38,39,40,41,42,43,44,45,46,47,48,49,50],\"y\":[0.793874960330054,0.7887514958117272,0.774537854074193,0.7590983033529617,0.7441812675751677,0.7277918264132475,0.7186706511973124,0.7100641448725353,0.7022870032329043,0.6946563186736766,0.6916894308198656,0.6899770179635102,0.688202210493311,0.6844134766745171,0.6810362605258635,0.6795981358227448,0.6773580562659847,0.6764702547005058,0.6760678099049772,0.6731795507541545,0.6683177488148978,0.6657294595438925,0.6631127652843252,0.6598886317105886,0.6611295822676897,0.6628048392456887,0.6643351492102649,0.6643856872420322,0.6661755329231935,0.6652257746759302,0.6657821779348387,0.6667791447682752,0.6657028149910027,0.6650992923556562,0.6649332924825224,0.6638022849623595,0.6639150019584802,0.6599129527130931,0.6571640919467007,0.6551069302935539,0.653119146490124,0.6543364592213696,0.65413186441057,0.6539147572015684,0.6531335160411247,0.6530454769457044,0.6530429517986207,0.6514517234625931,0.6507009174741787,0.6492356066355849],\"type\":\"scatter\"},{\"mode\":\"lines+markers\",\"name\":\"PCA\",\"x\":[1,2,3,4,5,6,7,8,9,10,11,12,13,14,15,16,17,18,19,20,21,22,23,24,25,26,27,28,29,30,31,32,33,34,35,36,37,38,39,40,41,42,43,44,45,46,47,48,49,50],\"y\":[0.8378292605522056,0.8168860523866507,0.8060056687523397,0.7971921970369176,0.7936648280337444,0.7869229862867191,0.7822668854252119,0.7734665044138272,0.7711260463915625,0.7681813124148098,0.7642943621204491,0.7607394118474744,0.7551811158723523,0.7490156479436397,0.7463854041358767,0.7437485593684272,0.7401005967604433,0.7398497263775892,0.7375701399247105,0.7347147200330588,0.7327078312912241,0.7309767328144737,0.7292158539168085,0.7292378949703993,0.7277463159176714,0.7286479950787332,0.7291648108176014,0.7288344394642692,0.7273696126074893,0.7271940855313486,0.7262821258760674,0.7253971571906355,0.7250559655811676,0.7254859240103517,0.7254463415313483,0.7254210241255094,0.7260580244275896,0.7266044052525105,0.7261134144023345,0.7264240559534618,0.7257208385777478,0.7267685624974627,0.7270077487432851,0.7271815383260853,0.7279628081258516,0.7288158478924556,0.7292073734798403,0.7300698672981282,0.7308785115423699,0.7310003975568325],\"type\":\"scatter\"},{\"mode\":\"lines+markers\",\"name\":\"Isomap\",\"x\":[1,2,3,4,5,6,7,8,9,10,11,12,13,14,15,16,17,18,19,20,21,22,23,24,25,26,27,28,29,30,31,32,33,34,35,36,37,38,39,40,41,42,43,44,45,46,47,48,49,50],\"y\":[0.8095445890193589,0.7831870761866773,0.7690473643866873,0.7497714500820091,0.7409906986805105,0.7351265736737636,0.7297023321223486,0.7226507713884993,0.7212572678885324,0.7167821079863139,0.712018201148636,0.7101273392429999,0.7094546927257526,0.7066234283924555,0.705768459643696,0.7039691200622353,0.7032847399829497,0.7005195423750231,0.6980779267302211,0.6965878567844388,0.6957695527724038,0.6932813115466634,0.6913603003657831,0.6897383336863232,0.6886664230909756,0.6877016646986314,0.6875127054282157,0.686082700466836,0.6830361758775785,0.6809608391754954,0.6786054782159561,0.6760297220895046,0.6730954213158907,0.6719046968065816,0.6700215395185175,0.6680952225166574,0.6668318021578892,0.6651406772827003,0.6647786528571942,0.6655721443222704,0.6668124366127854,0.6663151057524459,0.6667736890950535,0.6663239220051507,0.6665157004830917,0.6670477136418631,0.6677703571670315,0.6686911714085627,0.6688304034485082,0.6691665763128412],\"type\":\"scatter\"}],                        {\"template\":{\"data\":{\"bar\":[{\"error_x\":{\"color\":\"#2a3f5f\"},\"error_y\":{\"color\":\"#2a3f5f\"},\"marker\":{\"line\":{\"color\":\"#E5ECF6\",\"width\":0.5},\"pattern\":{\"fillmode\":\"overlay\",\"size\":10,\"solidity\":0.2}},\"type\":\"bar\"}],\"barpolar\":[{\"marker\":{\"line\":{\"color\":\"#E5ECF6\",\"width\":0.5},\"pattern\":{\"fillmode\":\"overlay\",\"size\":10,\"solidity\":0.2}},\"type\":\"barpolar\"}],\"carpet\":[{\"aaxis\":{\"endlinecolor\":\"#2a3f5f\",\"gridcolor\":\"white\",\"linecolor\":\"white\",\"minorgridcolor\":\"white\",\"startlinecolor\":\"#2a3f5f\"},\"baxis\":{\"endlinecolor\":\"#2a3f5f\",\"gridcolor\":\"white\",\"linecolor\":\"white\",\"minorgridcolor\":\"white\",\"startlinecolor\":\"#2a3f5f\"},\"type\":\"carpet\"}],\"choropleth\":[{\"colorbar\":{\"outlinewidth\":0,\"ticks\":\"\"},\"type\":\"choropleth\"}],\"contour\":[{\"colorbar\":{\"outlinewidth\":0,\"ticks\":\"\"},\"colorscale\":[[0.0,\"#0d0887\"],[0.1111111111111111,\"#46039f\"],[0.2222222222222222,\"#7201a8\"],[0.3333333333333333,\"#9c179e\"],[0.4444444444444444,\"#bd3786\"],[0.5555555555555556,\"#d8576b\"],[0.6666666666666666,\"#ed7953\"],[0.7777777777777778,\"#fb9f3a\"],[0.8888888888888888,\"#fdca26\"],[1.0,\"#f0f921\"]],\"type\":\"contour\"}],\"contourcarpet\":[{\"colorbar\":{\"outlinewidth\":0,\"ticks\":\"\"},\"type\":\"contourcarpet\"}],\"heatmap\":[{\"colorbar\":{\"outlinewidth\":0,\"ticks\":\"\"},\"colorscale\":[[0.0,\"#0d0887\"],[0.1111111111111111,\"#46039f\"],[0.2222222222222222,\"#7201a8\"],[0.3333333333333333,\"#9c179e\"],[0.4444444444444444,\"#bd3786\"],[0.5555555555555556,\"#d8576b\"],[0.6666666666666666,\"#ed7953\"],[0.7777777777777778,\"#fb9f3a\"],[0.8888888888888888,\"#fdca26\"],[1.0,\"#f0f921\"]],\"type\":\"heatmap\"}],\"heatmapgl\":[{\"colorbar\":{\"outlinewidth\":0,\"ticks\":\"\"},\"colorscale\":[[0.0,\"#0d0887\"],[0.1111111111111111,\"#46039f\"],[0.2222222222222222,\"#7201a8\"],[0.3333333333333333,\"#9c179e\"],[0.4444444444444444,\"#bd3786\"],[0.5555555555555556,\"#d8576b\"],[0.6666666666666666,\"#ed7953\"],[0.7777777777777778,\"#fb9f3a\"],[0.8888888888888888,\"#fdca26\"],[1.0,\"#f0f921\"]],\"type\":\"heatmapgl\"}],\"histogram\":[{\"marker\":{\"pattern\":{\"fillmode\":\"overlay\",\"size\":10,\"solidity\":0.2}},\"type\":\"histogram\"}],\"histogram2d\":[{\"colorbar\":{\"outlinewidth\":0,\"ticks\":\"\"},\"colorscale\":[[0.0,\"#0d0887\"],[0.1111111111111111,\"#46039f\"],[0.2222222222222222,\"#7201a8\"],[0.3333333333333333,\"#9c179e\"],[0.4444444444444444,\"#bd3786\"],[0.5555555555555556,\"#d8576b\"],[0.6666666666666666,\"#ed7953\"],[0.7777777777777778,\"#fb9f3a\"],[0.8888888888888888,\"#fdca26\"],[1.0,\"#f0f921\"]],\"type\":\"histogram2d\"}],\"histogram2dcontour\":[{\"colorbar\":{\"outlinewidth\":0,\"ticks\":\"\"},\"colorscale\":[[0.0,\"#0d0887\"],[0.1111111111111111,\"#46039f\"],[0.2222222222222222,\"#7201a8\"],[0.3333333333333333,\"#9c179e\"],[0.4444444444444444,\"#bd3786\"],[0.5555555555555556,\"#d8576b\"],[0.6666666666666666,\"#ed7953\"],[0.7777777777777778,\"#fb9f3a\"],[0.8888888888888888,\"#fdca26\"],[1.0,\"#f0f921\"]],\"type\":\"histogram2dcontour\"}],\"mesh3d\":[{\"colorbar\":{\"outlinewidth\":0,\"ticks\":\"\"},\"type\":\"mesh3d\"}],\"parcoords\":[{\"line\":{\"colorbar\":{\"outlinewidth\":0,\"ticks\":\"\"}},\"type\":\"parcoords\"}],\"pie\":[{\"automargin\":true,\"type\":\"pie\"}],\"scatter\":[{\"marker\":{\"colorbar\":{\"outlinewidth\":0,\"ticks\":\"\"}},\"type\":\"scatter\"}],\"scatter3d\":[{\"line\":{\"colorbar\":{\"outlinewidth\":0,\"ticks\":\"\"}},\"marker\":{\"colorbar\":{\"outlinewidth\":0,\"ticks\":\"\"}},\"type\":\"scatter3d\"}],\"scattercarpet\":[{\"marker\":{\"colorbar\":{\"outlinewidth\":0,\"ticks\":\"\"}},\"type\":\"scattercarpet\"}],\"scattergeo\":[{\"marker\":{\"colorbar\":{\"outlinewidth\":0,\"ticks\":\"\"}},\"type\":\"scattergeo\"}],\"scattergl\":[{\"marker\":{\"colorbar\":{\"outlinewidth\":0,\"ticks\":\"\"}},\"type\":\"scattergl\"}],\"scattermapbox\":[{\"marker\":{\"colorbar\":{\"outlinewidth\":0,\"ticks\":\"\"}},\"type\":\"scattermapbox\"}],\"scatterpolar\":[{\"marker\":{\"colorbar\":{\"outlinewidth\":0,\"ticks\":\"\"}},\"type\":\"scatterpolar\"}],\"scatterpolargl\":[{\"marker\":{\"colorbar\":{\"outlinewidth\":0,\"ticks\":\"\"}},\"type\":\"scatterpolargl\"}],\"scatterternary\":[{\"marker\":{\"colorbar\":{\"outlinewidth\":0,\"ticks\":\"\"}},\"type\":\"scatterternary\"}],\"surface\":[{\"colorbar\":{\"outlinewidth\":0,\"ticks\":\"\"},\"colorscale\":[[0.0,\"#0d0887\"],[0.1111111111111111,\"#46039f\"],[0.2222222222222222,\"#7201a8\"],[0.3333333333333333,\"#9c179e\"],[0.4444444444444444,\"#bd3786\"],[0.5555555555555556,\"#d8576b\"],[0.6666666666666666,\"#ed7953\"],[0.7777777777777778,\"#fb9f3a\"],[0.8888888888888888,\"#fdca26\"],[1.0,\"#f0f921\"]],\"type\":\"surface\"}],\"table\":[{\"cells\":{\"fill\":{\"color\":\"#EBF0F8\"},\"line\":{\"color\":\"white\"}},\"header\":{\"fill\":{\"color\":\"#C8D4E3\"},\"line\":{\"color\":\"white\"}},\"type\":\"table\"}]},\"layout\":{\"annotationdefaults\":{\"arrowcolor\":\"#2a3f5f\",\"arrowhead\":0,\"arrowwidth\":1},\"autotypenumbers\":\"strict\",\"coloraxis\":{\"colorbar\":{\"outlinewidth\":0,\"ticks\":\"\"}},\"colorscale\":{\"diverging\":[[0,\"#8e0152\"],[0.1,\"#c51b7d\"],[0.2,\"#de77ae\"],[0.3,\"#f1b6da\"],[0.4,\"#fde0ef\"],[0.5,\"#f7f7f7\"],[0.6,\"#e6f5d0\"],[0.7,\"#b8e186\"],[0.8,\"#7fbc41\"],[0.9,\"#4d9221\"],[1,\"#276419\"]],\"sequential\":[[0.0,\"#0d0887\"],[0.1111111111111111,\"#46039f\"],[0.2222222222222222,\"#7201a8\"],[0.3333333333333333,\"#9c179e\"],[0.4444444444444444,\"#bd3786\"],[0.5555555555555556,\"#d8576b\"],[0.6666666666666666,\"#ed7953\"],[0.7777777777777778,\"#fb9f3a\"],[0.8888888888888888,\"#fdca26\"],[1.0,\"#f0f921\"]],\"sequentialminus\":[[0.0,\"#0d0887\"],[0.1111111111111111,\"#46039f\"],[0.2222222222222222,\"#7201a8\"],[0.3333333333333333,\"#9c179e\"],[0.4444444444444444,\"#bd3786\"],[0.5555555555555556,\"#d8576b\"],[0.6666666666666666,\"#ed7953\"],[0.7777777777777778,\"#fb9f3a\"],[0.8888888888888888,\"#fdca26\"],[1.0,\"#f0f921\"]]},\"colorway\":[\"#636efa\",\"#EF553B\",\"#00cc96\",\"#ab63fa\",\"#FFA15A\",\"#19d3f3\",\"#FF6692\",\"#B6E880\",\"#FF97FF\",\"#FECB52\"],\"font\":{\"color\":\"#2a3f5f\"},\"geo\":{\"bgcolor\":\"white\",\"lakecolor\":\"white\",\"landcolor\":\"#E5ECF6\",\"showlakes\":true,\"showland\":true,\"subunitcolor\":\"white\"},\"hoverlabel\":{\"align\":\"left\"},\"hovermode\":\"closest\",\"mapbox\":{\"style\":\"light\"},\"paper_bgcolor\":\"white\",\"plot_bgcolor\":\"#E5ECF6\",\"polar\":{\"angularaxis\":{\"gridcolor\":\"white\",\"linecolor\":\"white\",\"ticks\":\"\"},\"bgcolor\":\"#E5ECF6\",\"radialaxis\":{\"gridcolor\":\"white\",\"linecolor\":\"white\",\"ticks\":\"\"}},\"scene\":{\"xaxis\":{\"backgroundcolor\":\"#E5ECF6\",\"gridcolor\":\"white\",\"gridwidth\":2,\"linecolor\":\"white\",\"showbackground\":true,\"ticks\":\"\",\"zerolinecolor\":\"white\"},\"yaxis\":{\"backgroundcolor\":\"#E5ECF6\",\"gridcolor\":\"white\",\"gridwidth\":2,\"linecolor\":\"white\",\"showbackground\":true,\"ticks\":\"\",\"zerolinecolor\":\"white\"},\"zaxis\":{\"backgroundcolor\":\"#E5ECF6\",\"gridcolor\":\"white\",\"gridwidth\":2,\"linecolor\":\"white\",\"showbackground\":true,\"ticks\":\"\",\"zerolinecolor\":\"white\"}},\"shapedefaults\":{\"line\":{\"color\":\"#2a3f5f\"}},\"ternary\":{\"aaxis\":{\"gridcolor\":\"white\",\"linecolor\":\"white\",\"ticks\":\"\"},\"baxis\":{\"gridcolor\":\"white\",\"linecolor\":\"white\",\"ticks\":\"\"},\"bgcolor\":\"#E5ECF6\",\"caxis\":{\"gridcolor\":\"white\",\"linecolor\":\"white\",\"ticks\":\"\"}},\"title\":{\"x\":0.05},\"xaxis\":{\"automargin\":true,\"gridcolor\":\"white\",\"linecolor\":\"white\",\"ticks\":\"\",\"title\":{\"standoff\":15},\"zerolinecolor\":\"white\",\"zerolinewidth\":2},\"yaxis\":{\"automargin\":true,\"gridcolor\":\"white\",\"linecolor\":\"white\",\"ticks\":\"\",\"title\":{\"standoff\":15},\"zerolinecolor\":\"white\",\"zerolinewidth\":2}}}},                        {\"responsive\": true}                    ).then(function(){\n",
              "                            \n",
              "var gd = document.getElementById('f69f3bee-457f-47e0-bdcf-72cdb13b5daf');\n",
              "var x = new MutationObserver(function (mutations, observer) {{\n",
              "        var display = window.getComputedStyle(gd).display;\n",
              "        if (!display || display === 'none') {{\n",
              "            console.log([gd, 'removed!']);\n",
              "            Plotly.purge(gd);\n",
              "            observer.disconnect();\n",
              "        }}\n",
              "}});\n",
              "\n",
              "// Listen for the removal of the full notebook cells\n",
              "var notebookContainer = gd.closest('#notebook-container');\n",
              "if (notebookContainer) {{\n",
              "    x.observe(notebookContainer, {childList: true});\n",
              "}}\n",
              "\n",
              "// Listen for the clearing of the current output cell\n",
              "var outputEl = gd.closest('.output');\n",
              "if (outputEl) {{\n",
              "    x.observe(outputEl, {childList: true});\n",
              "}}\n",
              "\n",
              "                        })                };                            </script>        </div>\n",
              "</body>\n",
              "</html>"
            ]
          },
          "metadata": {}
        }
      ]
    },
    {
      "cell_type": "markdown",
      "source": [
        "# Silhouette Coefficient"
      ],
      "metadata": {
        "id": "vDo1G0GCcJ7R"
      }
    },
    {
      "cell_type": "code",
      "source": [
        "def coeficiente_silhueta(X_high,X_low):\n",
        "  silhouette_avg_high = []\n",
        "  silhouette_avg_low = []\n",
        "\n",
        "  for k in range(3,20):\n",
        "    clusterer = KMedoids(n_clusters=k, init='k-medoids++',random_state=10)\n",
        "    cluster_labels_high = clusterer.fit_predict(X_high)\n",
        "    cluster_labels_low = clusterer.fit_predict(X_low)\n",
        "    silhouette_avg_high.append(silhouette_score(X_high, cluster_labels_high))\n",
        "    silhouette_avg_low.append(silhouette_score(X_low, cluster_labels_low))\n",
        "\n",
        "  mean_silhouete_high = np.mean(np.array(silhouette_avg_high))\n",
        "  mean_silhouete_low = np.mean(np.array(silhouette_avg_low))\n",
        "  std_silhouete_high = np.std(np.array(silhouette_avg_high))\n",
        "  std_silhouete_low = np.std(np.array(silhouette_avg_low))\n",
        "    \n",
        "  return mean_silhouete_high, mean_silhouete_low, std_silhouete_high, std_silhouete_low"
      ],
      "metadata": {
        "id": "EEcbt83_GI4k"
      },
      "execution_count": 79,
      "outputs": []
    },
    {
      "cell_type": "markdown",
      "source": [
        "### t-SNE"
      ],
      "metadata": {
        "id": "aS99avj-iga8"
      }
    },
    {
      "cell_type": "code",
      "source": [
        "mean_high,mean_low,std_high,std_low = coeficiente_silhueta(X,X_tsne)\n",
        "\n",
        "print(\"TSNE\")\n",
        "print(f\"Média Silhueta Original: {mean_high} Desvio Padrão Original: {std_high}\")\n",
        "print(f\"Média Silhueta Visualização: {mean_low:.10f} Desvio Padrão Visualização: {std_low:.10f}\\n\")"
      ],
      "metadata": {
        "colab": {
          "base_uri": "https://localhost:8080/"
        },
        "id": "6WDSGstkcWa5",
        "outputId": "8f56ca12-5a97-49ea-deff-1cb232e26390"
      },
      "execution_count": 116,
      "outputs": [
        {
          "output_type": "stream",
          "name": "stdout",
          "text": [
            "TSNE\n",
            "Média Silhueta Original: 0.056157551079033335 Desvio Padrão Original: 0.019028980449068117\n",
            "Média Silhueta Visualização: 0.4052584469 Desvio Padrão Visualização: 0.0334430188\n",
            "\n"
          ]
        }
      ]
    },
    {
      "cell_type": "markdown",
      "source": [
        "### UMAP"
      ],
      "metadata": {
        "id": "0GDI0CwojTGx"
      }
    },
    {
      "cell_type": "code",
      "source": [
        "mean_high,mean_low,std_high,std_low = coeficiente_silhueta(X,X_umap)\n",
        "\n",
        "print(\"UMAP\")\n",
        "print(f\"Média Silhueta Original: {mean_high} Desvio Padrão Original: {std_high}\")\n",
        "print(f\"Média Silhueta Visualização: {mean_low:.10f} Desvio Padrão Visualização: {std_low:.10f}\\n\")"
      ],
      "metadata": {
        "colab": {
          "base_uri": "https://localhost:8080/"
        },
        "id": "xm-j7RDcjSSz",
        "outputId": "1bd10b02-2ffb-43cb-98d0-e19b3175ea8d"
      },
      "execution_count": 117,
      "outputs": [
        {
          "output_type": "stream",
          "name": "stdout",
          "text": [
            "UMAP\n",
            "Média Silhueta Original: 0.056157551079033335 Desvio Padrão Original: 0.019028980449068117\n",
            "Média Silhueta Visualização: 0.4858280122 Desvio Padrão Visualização: 0.0267988946\n",
            "\n"
          ]
        }
      ]
    },
    {
      "cell_type": "markdown",
      "source": [
        "### PCA"
      ],
      "metadata": {
        "id": "PKr6Rtggjrof"
      }
    },
    {
      "cell_type": "code",
      "source": [
        "mean_high,mean_low,std_high,std_low = coeficiente_silhueta(X,X_pca)\n",
        "\n",
        "print(\"PCA\")\n",
        "print(f\"Média Silhueta Original: {mean_high} Desvio Padrão Original: {std_high}\")\n",
        "print(f\"Média Silhueta Visualização: {mean_low:.10f} Desvio Padrão Visualização: {std_low:.10f}\\n\")"
      ],
      "metadata": {
        "colab": {
          "base_uri": "https://localhost:8080/"
        },
        "id": "lLzYtxa3jv3C",
        "outputId": "8a3f0947-ab3a-4bc3-c454-877aa16113d0"
      },
      "execution_count": 118,
      "outputs": [
        {
          "output_type": "stream",
          "name": "stdout",
          "text": [
            "PCA\n",
            "Média Silhueta Original: 0.056157551079033335 Desvio Padrão Original: 0.019028980449068117\n",
            "Média Silhueta Visualização: 0.4017336821 Desvio Padrão Visualização: 0.0421325253\n",
            "\n"
          ]
        }
      ]
    },
    {
      "cell_type": "markdown",
      "source": [
        "### TRIMAP"
      ],
      "metadata": {
        "id": "h1FjdURYjkY8"
      }
    },
    {
      "cell_type": "code",
      "source": [
        "mean_high,mean_low,std_high,std_low = coeficiente_silhueta(X,X_trimap)\n",
        "\n",
        "print(\"TriMap\")\n",
        "print(f\"Média Silhueta Original: {mean_high} Desvio Padrão Original: {std_high}\")\n",
        "print(f\"Média Silhueta Visualização: {mean_low:.10f} Desvio Padrão Visualização: {std_low:.10f}\\n\")"
      ],
      "metadata": {
        "colab": {
          "base_uri": "https://localhost:8080/"
        },
        "id": "5DvfQhtGjl7K",
        "outputId": "614ffc0c-c199-4766-9e31-e13fb70f3501"
      },
      "execution_count": 119,
      "outputs": [
        {
          "output_type": "stream",
          "name": "stdout",
          "text": [
            "TriMap\n",
            "Média Silhueta Original: 0.056157551079033335 Desvio Padrão Original: 0.019028980449068117\n",
            "Média Silhueta Visualização: 0.5493216515 Desvio Padrão Visualização: 0.0530898087\n",
            "\n"
          ]
        }
      ]
    },
    {
      "cell_type": "markdown",
      "source": [
        "# Global Score\n"
      ],
      "metadata": {
        "id": "tcuS5drCcko9"
      }
    },
    {
      "cell_type": "markdown",
      "source": [
        "### t-SNE"
      ],
      "metadata": {
        "id": "zjBUVrX3gIDo"
      }
    },
    {
      "cell_type": "code",
      "source": [
        "gs = trimap.TRIMAP(verbose=False).global_score(X, X_tsne)\n",
        "print(f\"tSNE global score {gs} - All Data\")"
      ],
      "metadata": {
        "colab": {
          "base_uri": "https://localhost:8080/"
        },
        "id": "urh2aGi1cmx5",
        "outputId": "81f68821-901d-44e5-b341-ddd1cbcc09a2"
      },
      "execution_count": 97,
      "outputs": [
        {
          "output_type": "stream",
          "name": "stdout",
          "text": [
            "tSNE global score 0.9543604014619684 - All Data\n"
          ]
        }
      ]
    },
    {
      "cell_type": "markdown",
      "source": [
        "### UMAP"
      ],
      "metadata": {
        "id": "zwQVensygL5g"
      }
    },
    {
      "cell_type": "code",
      "source": [
        "gs = trimap.TRIMAP(verbose=False).global_score(X, X_umap)\n",
        "print(f\"UMAP global score {gs} - All Data\")"
      ],
      "metadata": {
        "colab": {
          "base_uri": "https://localhost:8080/"
        },
        "id": "1TobKtibcrmq",
        "outputId": "d655caa8-b2de-4fad-c8e2-6e32ac732316"
      },
      "execution_count": 107,
      "outputs": [
        {
          "output_type": "stream",
          "name": "stdout",
          "text": [
            "UMAP global score 0.9367252284781765 - All Data\n"
          ]
        }
      ]
    },
    {
      "cell_type": "markdown",
      "source": [
        "### PCA"
      ],
      "metadata": {
        "id": "oMKWxdGHgO0M"
      }
    },
    {
      "cell_type": "code",
      "source": [
        "gs = trimap.TRIMAP(verbose=False).global_score(X, X_pca)\n",
        "print(f\"PCA global score {gs} - All Data\")"
      ],
      "metadata": {
        "colab": {
          "base_uri": "https://localhost:8080/"
        },
        "id": "KQtKNuU6cxyw",
        "outputId": "3190ef27-3f8c-4808-b6f5-567c304884cc"
      },
      "execution_count": 100,
      "outputs": [
        {
          "output_type": "stream",
          "name": "stdout",
          "text": [
            "PCA global score 0.9999999999592478 - All Data\n"
          ]
        }
      ]
    },
    {
      "cell_type": "markdown",
      "source": [
        "### TRIMAP"
      ],
      "metadata": {
        "id": "xKfUPzYDgQSn"
      }
    },
    {
      "cell_type": "code",
      "source": [
        "gs = trimap.TRIMAP(verbose=False).global_score(X, X_trimap)\n",
        "print(f\"TRIMAP global score {gs} - All Data\")"
      ],
      "metadata": {
        "colab": {
          "base_uri": "https://localhost:8080/"
        },
        "id": "qcteE9i-c2GU",
        "outputId": "40be1840-a0d9-4ce8-acd2-b9612700a62c"
      },
      "execution_count": 99,
      "outputs": [
        {
          "output_type": "stream",
          "name": "stdout",
          "text": [
            "TRIMAP global score 0.9569871244852038 - All Data\n"
          ]
        }
      ]
    }
  ]
}