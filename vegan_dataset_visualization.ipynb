{
  "nbformat": 4,
  "nbformat_minor": 0,
  "metadata": {
    "colab": {
      "name": "PIBIC.ipynb",
      "provenance": [],
      "collapsed_sections": [
        "9unZu4Gffk8G",
        "fc67aC8Lj5hE",
        "d9y94CTMSLCo",
        "vvf7VGzBOWDu",
        "MOzjzWvfyXPk",
        "YNEwUT6KFHE4",
        "C2F5AHyJE_iE",
        "PU8AyXxHFROd"
      ],
      "authorship_tag": "ABX9TyNingqb2hAz6Qxr3Ol46pGp",
      "include_colab_link": true
    },
    "kernelspec": {
      "name": "python3",
      "display_name": "Python 3"
    },
    "language_info": {
      "name": "python"
    }
  },
  "cells": [
    {
      "cell_type": "markdown",
      "metadata": {
        "id": "view-in-github",
        "colab_type": "text"
      },
      "source": [
        "<a href=\"https://colab.research.google.com/github/dudaholandah/PIBIC/blob/main/vegan_dataset_visualization.ipynb\" target=\"_parent\"><img src=\"https://colab.research.google.com/assets/colab-badge.svg\" alt=\"Open In Colab\"/></a>"
      ]
    },
    {
      "cell_type": "markdown",
      "source": [
        "# Imports"
      ],
      "metadata": {
        "id": "9unZu4Gffk8G"
      }
    },
    {
      "cell_type": "code",
      "source": [
        "!apt-get install poppler-utils \n",
        "!pip install pdf2image\n",
        "!pip install unidecode\n",
        "!pip install umap-learn[plot]\n",
        "!pip install trimap\n",
        "!pip install -U kaleido\n",
        "!pip install scikit-learn-extra"
      ],
      "metadata": {
        "id": "WGib2oaNT1MM"
      },
      "execution_count": null,
      "outputs": []
    },
    {
      "cell_type": "code",
      "execution_count": null,
      "metadata": {
        "id": "qBfSL0Ccbty6"
      },
      "outputs": [],
      "source": [
        "import pandas as pd\n",
        "import numpy as np\n",
        "from unidecode import unidecode\n",
        "from sklearn import preprocessing\n",
        "from pandas.core.frame import DataFrame\n",
        "import plotly.express as px\n",
        "from sklearn.manifold import TSNE\n",
        "import re\n",
        "import umap\n",
        "import trimap\n",
        "from sklearn.decomposition import PCA as sklearnPCA\n",
        "from sklearn.manifold import Isomap\n",
        "from sklearn.manifold import trustworthiness\n",
        "import plotly.graph_objects as go\n",
        "from sklearn.metrics import silhouette_samples, silhouette_score\n",
        "from sklearn.cluster import KMeans\n",
        "import plotly\n",
        "import pdf2image\n",
        "import os\n",
        "from sklearn.metrics import silhouette_samples, silhouette_score\n",
        "from sklearn_extra.cluster import KMedoids"
      ]
    },
    {
      "cell_type": "markdown",
      "source": [
        "# Pre-Processing Data"
      ],
      "metadata": {
        "id": "G0ogYP7UcjBB"
      }
    },
    {
      "cell_type": "code",
      "source": [
        "data = pd.read_excel(\"vegan_dataset.xlsx\", sheet_name='Veganos')"
      ],
      "metadata": {
        "id": "38rpysEbcCOe"
      },
      "execution_count": null,
      "outputs": []
    },
    {
      "cell_type": "code",
      "source": [
        "data.head()"
      ],
      "metadata": {
        "colab": {
          "base_uri": "https://localhost:8080/",
          "height": 206
        },
        "id": "owChfQYLc_Zr",
        "outputId": "cb87db37-c8da-4533-a7fa-da53aa88522a"
      },
      "execution_count": null,
      "outputs": [
        {
          "output_type": "execute_result",
          "data": {
            "text/plain": [
              "  Classification                Description  \\\n",
              "0         MEAT 2      Carne Moída do Futuro   \n",
              "1         MEAT 3      Carne Moída do Futuro   \n",
              "2      POULTRY 3           Frango do Futuro   \n",
              "3        PORK 1          Linguiça do Futuro   \n",
              "4         MEAT 1  Hamburguer de Soja Goshen   \n",
              "\n",
              "                                         Ingredients  Serving Size   Kcal  \\\n",
              "0  water, texturized soy protein, pea protein, ch...          80.0  168.0   \n",
              "1  water, texturized soy protein, isolated soy pr...          80.0  168.0   \n",
              "2  water, texturized soy protein, isolated soy pr...          80.0  168.0   \n",
              "3  water, texturized soy protein, isolated soy pr...          50.0  139.0   \n",
              "4   texturized soy protein, water, soy oil, modif...          50.0  118.0   \n",
              "\n",
              "   Carbohydrate  Sugars  Proteins   Total Fats   Saturated Fats  \\\n",
              "0          11.0     0.0       8.2         10.0              9.0   \n",
              "1          11.0     0.0       8.2         10.0              9.0   \n",
              "2          11.0     0.0       8.2         10.0              9.0   \n",
              "3           7.7     0.0       5.7          9.5              3.9   \n",
              "4           2.8     0.0       7.0          9.0              1.3   \n",
              "\n",
              "    Dietary Fiber   Sodium  B12  Calcium  Zinc  \n",
              "0              0.7   392.0  0.0      0.0   0.0  \n",
              "1              0.7   392.0  0.0      0.0   0.0  \n",
              "2              0.7   392.0  0.0      0.0   0.0  \n",
              "3              0.2   294.0  0.0      0.0   0.0  \n",
              "4              2.0   344.0  0.0      0.0   0.0  "
            ],
            "text/html": [
              "\n",
              "  <div id=\"df-d8e470b6-d6d7-4c60-8600-dc6263b757d5\">\n",
              "    <div class=\"colab-df-container\">\n",
              "      <div>\n",
              "<style scoped>\n",
              "    .dataframe tbody tr th:only-of-type {\n",
              "        vertical-align: middle;\n",
              "    }\n",
              "\n",
              "    .dataframe tbody tr th {\n",
              "        vertical-align: top;\n",
              "    }\n",
              "\n",
              "    .dataframe thead th {\n",
              "        text-align: right;\n",
              "    }\n",
              "</style>\n",
              "<table border=\"1\" class=\"dataframe\">\n",
              "  <thead>\n",
              "    <tr style=\"text-align: right;\">\n",
              "      <th></th>\n",
              "      <th>Classification</th>\n",
              "      <th>Description</th>\n",
              "      <th>Ingredients</th>\n",
              "      <th>Serving Size</th>\n",
              "      <th>Kcal</th>\n",
              "      <th>Carbohydrate</th>\n",
              "      <th>Sugars</th>\n",
              "      <th>Proteins</th>\n",
              "      <th>Total Fats</th>\n",
              "      <th>Saturated Fats</th>\n",
              "      <th>Dietary Fiber</th>\n",
              "      <th>Sodium</th>\n",
              "      <th>B12</th>\n",
              "      <th>Calcium</th>\n",
              "      <th>Zinc</th>\n",
              "    </tr>\n",
              "  </thead>\n",
              "  <tbody>\n",
              "    <tr>\n",
              "      <th>0</th>\n",
              "      <td>MEAT 2</td>\n",
              "      <td>Carne Moída do Futuro</td>\n",
              "      <td>water, texturized soy protein, pea protein, ch...</td>\n",
              "      <td>80.0</td>\n",
              "      <td>168.0</td>\n",
              "      <td>11.0</td>\n",
              "      <td>0.0</td>\n",
              "      <td>8.2</td>\n",
              "      <td>10.0</td>\n",
              "      <td>9.0</td>\n",
              "      <td>0.7</td>\n",
              "      <td>392.0</td>\n",
              "      <td>0.0</td>\n",
              "      <td>0.0</td>\n",
              "      <td>0.0</td>\n",
              "    </tr>\n",
              "    <tr>\n",
              "      <th>1</th>\n",
              "      <td>MEAT 3</td>\n",
              "      <td>Carne Moída do Futuro</td>\n",
              "      <td>water, texturized soy protein, isolated soy pr...</td>\n",
              "      <td>80.0</td>\n",
              "      <td>168.0</td>\n",
              "      <td>11.0</td>\n",
              "      <td>0.0</td>\n",
              "      <td>8.2</td>\n",
              "      <td>10.0</td>\n",
              "      <td>9.0</td>\n",
              "      <td>0.7</td>\n",
              "      <td>392.0</td>\n",
              "      <td>0.0</td>\n",
              "      <td>0.0</td>\n",
              "      <td>0.0</td>\n",
              "    </tr>\n",
              "    <tr>\n",
              "      <th>2</th>\n",
              "      <td>POULTRY 3</td>\n",
              "      <td>Frango do Futuro</td>\n",
              "      <td>water, texturized soy protein, isolated soy pr...</td>\n",
              "      <td>80.0</td>\n",
              "      <td>168.0</td>\n",
              "      <td>11.0</td>\n",
              "      <td>0.0</td>\n",
              "      <td>8.2</td>\n",
              "      <td>10.0</td>\n",
              "      <td>9.0</td>\n",
              "      <td>0.7</td>\n",
              "      <td>392.0</td>\n",
              "      <td>0.0</td>\n",
              "      <td>0.0</td>\n",
              "      <td>0.0</td>\n",
              "    </tr>\n",
              "    <tr>\n",
              "      <th>3</th>\n",
              "      <td>PORK 1</td>\n",
              "      <td>Linguiça do Futuro</td>\n",
              "      <td>water, texturized soy protein, isolated soy pr...</td>\n",
              "      <td>50.0</td>\n",
              "      <td>139.0</td>\n",
              "      <td>7.7</td>\n",
              "      <td>0.0</td>\n",
              "      <td>5.7</td>\n",
              "      <td>9.5</td>\n",
              "      <td>3.9</td>\n",
              "      <td>0.2</td>\n",
              "      <td>294.0</td>\n",
              "      <td>0.0</td>\n",
              "      <td>0.0</td>\n",
              "      <td>0.0</td>\n",
              "    </tr>\n",
              "    <tr>\n",
              "      <th>4</th>\n",
              "      <td>MEAT 1</td>\n",
              "      <td>Hamburguer de Soja Goshen</td>\n",
              "      <td>texturized soy protein, water, soy oil, modif...</td>\n",
              "      <td>50.0</td>\n",
              "      <td>118.0</td>\n",
              "      <td>2.8</td>\n",
              "      <td>0.0</td>\n",
              "      <td>7.0</td>\n",
              "      <td>9.0</td>\n",
              "      <td>1.3</td>\n",
              "      <td>2.0</td>\n",
              "      <td>344.0</td>\n",
              "      <td>0.0</td>\n",
              "      <td>0.0</td>\n",
              "      <td>0.0</td>\n",
              "    </tr>\n",
              "  </tbody>\n",
              "</table>\n",
              "</div>\n",
              "      <button class=\"colab-df-convert\" onclick=\"convertToInteractive('df-d8e470b6-d6d7-4c60-8600-dc6263b757d5')\"\n",
              "              title=\"Convert this dataframe to an interactive table.\"\n",
              "              style=\"display:none;\">\n",
              "        \n",
              "  <svg xmlns=\"http://www.w3.org/2000/svg\" height=\"24px\"viewBox=\"0 0 24 24\"\n",
              "       width=\"24px\">\n",
              "    <path d=\"M0 0h24v24H0V0z\" fill=\"none\"/>\n",
              "    <path d=\"M18.56 5.44l.94 2.06.94-2.06 2.06-.94-2.06-.94-.94-2.06-.94 2.06-2.06.94zm-11 1L8.5 8.5l.94-2.06 2.06-.94-2.06-.94L8.5 2.5l-.94 2.06-2.06.94zm10 10l.94 2.06.94-2.06 2.06-.94-2.06-.94-.94-2.06-.94 2.06-2.06.94z\"/><path d=\"M17.41 7.96l-1.37-1.37c-.4-.4-.92-.59-1.43-.59-.52 0-1.04.2-1.43.59L10.3 9.45l-7.72 7.72c-.78.78-.78 2.05 0 2.83L4 21.41c.39.39.9.59 1.41.59.51 0 1.02-.2 1.41-.59l7.78-7.78 2.81-2.81c.8-.78.8-2.07 0-2.86zM5.41 20L4 18.59l7.72-7.72 1.47 1.35L5.41 20z\"/>\n",
              "  </svg>\n",
              "      </button>\n",
              "      \n",
              "  <style>\n",
              "    .colab-df-container {\n",
              "      display:flex;\n",
              "      flex-wrap:wrap;\n",
              "      gap: 12px;\n",
              "    }\n",
              "\n",
              "    .colab-df-convert {\n",
              "      background-color: #E8F0FE;\n",
              "      border: none;\n",
              "      border-radius: 50%;\n",
              "      cursor: pointer;\n",
              "      display: none;\n",
              "      fill: #1967D2;\n",
              "      height: 32px;\n",
              "      padding: 0 0 0 0;\n",
              "      width: 32px;\n",
              "    }\n",
              "\n",
              "    .colab-df-convert:hover {\n",
              "      background-color: #E2EBFA;\n",
              "      box-shadow: 0px 1px 2px rgba(60, 64, 67, 0.3), 0px 1px 3px 1px rgba(60, 64, 67, 0.15);\n",
              "      fill: #174EA6;\n",
              "    }\n",
              "\n",
              "    [theme=dark] .colab-df-convert {\n",
              "      background-color: #3B4455;\n",
              "      fill: #D2E3FC;\n",
              "    }\n",
              "\n",
              "    [theme=dark] .colab-df-convert:hover {\n",
              "      background-color: #434B5C;\n",
              "      box-shadow: 0px 1px 3px 1px rgba(0, 0, 0, 0.15);\n",
              "      filter: drop-shadow(0px 1px 2px rgba(0, 0, 0, 0.3));\n",
              "      fill: #FFFFFF;\n",
              "    }\n",
              "  </style>\n",
              "\n",
              "      <script>\n",
              "        const buttonEl =\n",
              "          document.querySelector('#df-d8e470b6-d6d7-4c60-8600-dc6263b757d5 button.colab-df-convert');\n",
              "        buttonEl.style.display =\n",
              "          google.colab.kernel.accessAllowed ? 'block' : 'none';\n",
              "\n",
              "        async function convertToInteractive(key) {\n",
              "          const element = document.querySelector('#df-d8e470b6-d6d7-4c60-8600-dc6263b757d5');\n",
              "          const dataTable =\n",
              "            await google.colab.kernel.invokeFunction('convertToInteractive',\n",
              "                                                     [key], {});\n",
              "          if (!dataTable) return;\n",
              "\n",
              "          const docLinkHtml = 'Like what you see? Visit the ' +\n",
              "            '<a target=\"_blank\" href=https://colab.research.google.com/notebooks/data_table.ipynb>data table notebook</a>'\n",
              "            + ' to learn more about interactive tables.';\n",
              "          element.innerHTML = '';\n",
              "          dataTable['output_type'] = 'display_data';\n",
              "          await google.colab.output.renderOutput(dataTable, element);\n",
              "          const docLink = document.createElement('div');\n",
              "          docLink.innerHTML = docLinkHtml;\n",
              "          element.appendChild(docLink);\n",
              "        }\n",
              "      </script>\n",
              "    </div>\n",
              "  </div>\n",
              "  "
            ]
          },
          "metadata": {},
          "execution_count": 51
        }
      ]
    },
    {
      "cell_type": "markdown",
      "source": [
        "### Separating data"
      ],
      "metadata": {
        "id": "iUaEyrS5hi9I"
      }
    },
    {
      "cell_type": "code",
      "source": [
        "data_ingredients = pd.DataFrame(data['Ingredients'])\n",
        "data_nutrients = data.drop(columns=['Ingredients', 'Classification', \"Description\"])\n",
        "data_clasification = pd.DataFrame(data['Classification'])\n",
        "data_name = pd.DataFrame(data[\"Description\"])\n",
        "label_data = data_clasification.join(data_name)"
      ],
      "metadata": {
        "id": "uflKESOVddI4"
      },
      "execution_count": null,
      "outputs": []
    },
    {
      "cell_type": "code",
      "source": [
        "data_nutrients.head()"
      ],
      "metadata": {
        "colab": {
          "base_uri": "https://localhost:8080/",
          "height": 206
        },
        "id": "sxBu43UzedDC",
        "outputId": "eefab13b-2761-4571-e4e9-ca6e49895cdc"
      },
      "execution_count": null,
      "outputs": [
        {
          "output_type": "execute_result",
          "data": {
            "text/plain": [
              "   Serving Size   Kcal  Carbohydrate  Sugars  Proteins   Total Fats  \\\n",
              "0          80.0  168.0          11.0     0.0       8.2         10.0   \n",
              "1          80.0  168.0          11.0     0.0       8.2         10.0   \n",
              "2          80.0  168.0          11.0     0.0       8.2         10.0   \n",
              "3          50.0  139.0           7.7     0.0       5.7          9.5   \n",
              "4          50.0  118.0           2.8     0.0       7.0          9.0   \n",
              "\n",
              "    Saturated Fats   Dietary Fiber   Sodium  B12  Calcium  Zinc  \n",
              "0              9.0              0.7   392.0  0.0      0.0   0.0  \n",
              "1              9.0              0.7   392.0  0.0      0.0   0.0  \n",
              "2              9.0              0.7   392.0  0.0      0.0   0.0  \n",
              "3              3.9              0.2   294.0  0.0      0.0   0.0  \n",
              "4              1.3              2.0   344.0  0.0      0.0   0.0  "
            ],
            "text/html": [
              "\n",
              "  <div id=\"df-cce11505-d47c-4398-9d1c-bd13c39f647d\">\n",
              "    <div class=\"colab-df-container\">\n",
              "      <div>\n",
              "<style scoped>\n",
              "    .dataframe tbody tr th:only-of-type {\n",
              "        vertical-align: middle;\n",
              "    }\n",
              "\n",
              "    .dataframe tbody tr th {\n",
              "        vertical-align: top;\n",
              "    }\n",
              "\n",
              "    .dataframe thead th {\n",
              "        text-align: right;\n",
              "    }\n",
              "</style>\n",
              "<table border=\"1\" class=\"dataframe\">\n",
              "  <thead>\n",
              "    <tr style=\"text-align: right;\">\n",
              "      <th></th>\n",
              "      <th>Serving Size</th>\n",
              "      <th>Kcal</th>\n",
              "      <th>Carbohydrate</th>\n",
              "      <th>Sugars</th>\n",
              "      <th>Proteins</th>\n",
              "      <th>Total Fats</th>\n",
              "      <th>Saturated Fats</th>\n",
              "      <th>Dietary Fiber</th>\n",
              "      <th>Sodium</th>\n",
              "      <th>B12</th>\n",
              "      <th>Calcium</th>\n",
              "      <th>Zinc</th>\n",
              "    </tr>\n",
              "  </thead>\n",
              "  <tbody>\n",
              "    <tr>\n",
              "      <th>0</th>\n",
              "      <td>80.0</td>\n",
              "      <td>168.0</td>\n",
              "      <td>11.0</td>\n",
              "      <td>0.0</td>\n",
              "      <td>8.2</td>\n",
              "      <td>10.0</td>\n",
              "      <td>9.0</td>\n",
              "      <td>0.7</td>\n",
              "      <td>392.0</td>\n",
              "      <td>0.0</td>\n",
              "      <td>0.0</td>\n",
              "      <td>0.0</td>\n",
              "    </tr>\n",
              "    <tr>\n",
              "      <th>1</th>\n",
              "      <td>80.0</td>\n",
              "      <td>168.0</td>\n",
              "      <td>11.0</td>\n",
              "      <td>0.0</td>\n",
              "      <td>8.2</td>\n",
              "      <td>10.0</td>\n",
              "      <td>9.0</td>\n",
              "      <td>0.7</td>\n",
              "      <td>392.0</td>\n",
              "      <td>0.0</td>\n",
              "      <td>0.0</td>\n",
              "      <td>0.0</td>\n",
              "    </tr>\n",
              "    <tr>\n",
              "      <th>2</th>\n",
              "      <td>80.0</td>\n",
              "      <td>168.0</td>\n",
              "      <td>11.0</td>\n",
              "      <td>0.0</td>\n",
              "      <td>8.2</td>\n",
              "      <td>10.0</td>\n",
              "      <td>9.0</td>\n",
              "      <td>0.7</td>\n",
              "      <td>392.0</td>\n",
              "      <td>0.0</td>\n",
              "      <td>0.0</td>\n",
              "      <td>0.0</td>\n",
              "    </tr>\n",
              "    <tr>\n",
              "      <th>3</th>\n",
              "      <td>50.0</td>\n",
              "      <td>139.0</td>\n",
              "      <td>7.7</td>\n",
              "      <td>0.0</td>\n",
              "      <td>5.7</td>\n",
              "      <td>9.5</td>\n",
              "      <td>3.9</td>\n",
              "      <td>0.2</td>\n",
              "      <td>294.0</td>\n",
              "      <td>0.0</td>\n",
              "      <td>0.0</td>\n",
              "      <td>0.0</td>\n",
              "    </tr>\n",
              "    <tr>\n",
              "      <th>4</th>\n",
              "      <td>50.0</td>\n",
              "      <td>118.0</td>\n",
              "      <td>2.8</td>\n",
              "      <td>0.0</td>\n",
              "      <td>7.0</td>\n",
              "      <td>9.0</td>\n",
              "      <td>1.3</td>\n",
              "      <td>2.0</td>\n",
              "      <td>344.0</td>\n",
              "      <td>0.0</td>\n",
              "      <td>0.0</td>\n",
              "      <td>0.0</td>\n",
              "    </tr>\n",
              "  </tbody>\n",
              "</table>\n",
              "</div>\n",
              "      <button class=\"colab-df-convert\" onclick=\"convertToInteractive('df-cce11505-d47c-4398-9d1c-bd13c39f647d')\"\n",
              "              title=\"Convert this dataframe to an interactive table.\"\n",
              "              style=\"display:none;\">\n",
              "        \n",
              "  <svg xmlns=\"http://www.w3.org/2000/svg\" height=\"24px\"viewBox=\"0 0 24 24\"\n",
              "       width=\"24px\">\n",
              "    <path d=\"M0 0h24v24H0V0z\" fill=\"none\"/>\n",
              "    <path d=\"M18.56 5.44l.94 2.06.94-2.06 2.06-.94-2.06-.94-.94-2.06-.94 2.06-2.06.94zm-11 1L8.5 8.5l.94-2.06 2.06-.94-2.06-.94L8.5 2.5l-.94 2.06-2.06.94zm10 10l.94 2.06.94-2.06 2.06-.94-2.06-.94-.94-2.06-.94 2.06-2.06.94z\"/><path d=\"M17.41 7.96l-1.37-1.37c-.4-.4-.92-.59-1.43-.59-.52 0-1.04.2-1.43.59L10.3 9.45l-7.72 7.72c-.78.78-.78 2.05 0 2.83L4 21.41c.39.39.9.59 1.41.59.51 0 1.02-.2 1.41-.59l7.78-7.78 2.81-2.81c.8-.78.8-2.07 0-2.86zM5.41 20L4 18.59l7.72-7.72 1.47 1.35L5.41 20z\"/>\n",
              "  </svg>\n",
              "      </button>\n",
              "      \n",
              "  <style>\n",
              "    .colab-df-container {\n",
              "      display:flex;\n",
              "      flex-wrap:wrap;\n",
              "      gap: 12px;\n",
              "    }\n",
              "\n",
              "    .colab-df-convert {\n",
              "      background-color: #E8F0FE;\n",
              "      border: none;\n",
              "      border-radius: 50%;\n",
              "      cursor: pointer;\n",
              "      display: none;\n",
              "      fill: #1967D2;\n",
              "      height: 32px;\n",
              "      padding: 0 0 0 0;\n",
              "      width: 32px;\n",
              "    }\n",
              "\n",
              "    .colab-df-convert:hover {\n",
              "      background-color: #E2EBFA;\n",
              "      box-shadow: 0px 1px 2px rgba(60, 64, 67, 0.3), 0px 1px 3px 1px rgba(60, 64, 67, 0.15);\n",
              "      fill: #174EA6;\n",
              "    }\n",
              "\n",
              "    [theme=dark] .colab-df-convert {\n",
              "      background-color: #3B4455;\n",
              "      fill: #D2E3FC;\n",
              "    }\n",
              "\n",
              "    [theme=dark] .colab-df-convert:hover {\n",
              "      background-color: #434B5C;\n",
              "      box-shadow: 0px 1px 3px 1px rgba(0, 0, 0, 0.15);\n",
              "      filter: drop-shadow(0px 1px 2px rgba(0, 0, 0, 0.3));\n",
              "      fill: #FFFFFF;\n",
              "    }\n",
              "  </style>\n",
              "\n",
              "      <script>\n",
              "        const buttonEl =\n",
              "          document.querySelector('#df-cce11505-d47c-4398-9d1c-bd13c39f647d button.colab-df-convert');\n",
              "        buttonEl.style.display =\n",
              "          google.colab.kernel.accessAllowed ? 'block' : 'none';\n",
              "\n",
              "        async function convertToInteractive(key) {\n",
              "          const element = document.querySelector('#df-cce11505-d47c-4398-9d1c-bd13c39f647d');\n",
              "          const dataTable =\n",
              "            await google.colab.kernel.invokeFunction('convertToInteractive',\n",
              "                                                     [key], {});\n",
              "          if (!dataTable) return;\n",
              "\n",
              "          const docLinkHtml = 'Like what you see? Visit the ' +\n",
              "            '<a target=\"_blank\" href=https://colab.research.google.com/notebooks/data_table.ipynb>data table notebook</a>'\n",
              "            + ' to learn more about interactive tables.';\n",
              "          element.innerHTML = '';\n",
              "          dataTable['output_type'] = 'display_data';\n",
              "          await google.colab.output.renderOutput(dataTable, element);\n",
              "          const docLink = document.createElement('div');\n",
              "          docLink.innerHTML = docLinkHtml;\n",
              "          element.appendChild(docLink);\n",
              "        }\n",
              "      </script>\n",
              "    </div>\n",
              "  </div>\n",
              "  "
            ]
          },
          "metadata": {},
          "execution_count": 53
        }
      ]
    },
    {
      "cell_type": "markdown",
      "source": [
        "### Normalizing Nutrient Values (MinMax Scaler) "
      ],
      "metadata": {
        "id": "glGmmTNFhZwJ"
      }
    },
    {
      "cell_type": "code",
      "source": [
        "X = data_nutrients.values\n",
        "print(X)"
      ],
      "metadata": {
        "colab": {
          "base_uri": "https://localhost:8080/"
        },
        "id": "CMXY3FP5ekWw",
        "outputId": "f7c3e265-bbaf-4f38-deab-f659919acbde"
      },
      "execution_count": null,
      "outputs": [
        {
          "output_type": "stream",
          "name": "stdout",
          "text": [
            "[[ 80.  168.   11.  ...   0.    0.    0. ]\n",
            " [ 80.  168.   11.  ...   0.    0.    0. ]\n",
            " [ 80.  168.   11.  ...   0.    0.    0. ]\n",
            " ...\n",
            " [ 40.   84.    5.2 ...   0.    0.    0. ]\n",
            " [ 10.   25.    3.3 ...   0.    0.    0. ]\n",
            " [  7.   28.    1.2 ...   0.    0.    0. ]]\n"
          ]
        }
      ]
    },
    {
      "cell_type": "code",
      "source": [
        "attributes_dummies = data_nutrients.columns\n",
        "normalize = preprocessing.MinMaxScaler()\n",
        "xscaled = normalize.fit_transform(X)\n",
        "\n",
        "nutrients_normalized = pd.DataFrame(xscaled,columns=attributes_dummies)\n",
        "nutrients_normalized = nutrients_normalized.replace(np.nan,0)\n",
        "\n",
        "nutrients_normalized.head()"
      ],
      "metadata": {
        "colab": {
          "base_uri": "https://localhost:8080/",
          "height": 206
        },
        "id": "55oXzPRqgA8-",
        "outputId": "cf6a11d0-1beb-41b0-aacd-f601bf6bd090"
      },
      "execution_count": null,
      "outputs": [
        {
          "output_type": "execute_result",
          "data": {
            "text/plain": [
              "   Serving Size      Kcal  Carbohydrate  Sugars  Proteins   Total Fats  \\\n",
              "0      0.212828  0.263815      0.244444     0.0  0.195238     0.204082   \n",
              "1      0.212828  0.263815      0.244444     0.0  0.195238     0.204082   \n",
              "2      0.212828  0.263815      0.244444     0.0  0.195238     0.204082   \n",
              "3      0.125364  0.212121      0.171111     0.0  0.135714     0.193878   \n",
              "4      0.125364  0.174688      0.062222     0.0  0.166667     0.183673   \n",
              "\n",
              "    Saturated Fats   Dietary Fiber     Sodium  B12  Calcium  Zinc  \n",
              "0         0.489130         0.007447  0.414376  0.0      0.0   0.0  \n",
              "1         0.489130         0.007447  0.414376  0.0      0.0   0.0  \n",
              "2         0.489130         0.007447  0.414376  0.0      0.0   0.0  \n",
              "3         0.211957         0.002128  0.310782  0.0      0.0   0.0  \n",
              "4         0.070652         0.021277  0.363636  0.0      0.0   0.0  "
            ],
            "text/html": [
              "\n",
              "  <div id=\"df-cd138c70-cac2-446d-8148-54605eb09842\">\n",
              "    <div class=\"colab-df-container\">\n",
              "      <div>\n",
              "<style scoped>\n",
              "    .dataframe tbody tr th:only-of-type {\n",
              "        vertical-align: middle;\n",
              "    }\n",
              "\n",
              "    .dataframe tbody tr th {\n",
              "        vertical-align: top;\n",
              "    }\n",
              "\n",
              "    .dataframe thead th {\n",
              "        text-align: right;\n",
              "    }\n",
              "</style>\n",
              "<table border=\"1\" class=\"dataframe\">\n",
              "  <thead>\n",
              "    <tr style=\"text-align: right;\">\n",
              "      <th></th>\n",
              "      <th>Serving Size</th>\n",
              "      <th>Kcal</th>\n",
              "      <th>Carbohydrate</th>\n",
              "      <th>Sugars</th>\n",
              "      <th>Proteins</th>\n",
              "      <th>Total Fats</th>\n",
              "      <th>Saturated Fats</th>\n",
              "      <th>Dietary Fiber</th>\n",
              "      <th>Sodium</th>\n",
              "      <th>B12</th>\n",
              "      <th>Calcium</th>\n",
              "      <th>Zinc</th>\n",
              "    </tr>\n",
              "  </thead>\n",
              "  <tbody>\n",
              "    <tr>\n",
              "      <th>0</th>\n",
              "      <td>0.212828</td>\n",
              "      <td>0.263815</td>\n",
              "      <td>0.244444</td>\n",
              "      <td>0.0</td>\n",
              "      <td>0.195238</td>\n",
              "      <td>0.204082</td>\n",
              "      <td>0.489130</td>\n",
              "      <td>0.007447</td>\n",
              "      <td>0.414376</td>\n",
              "      <td>0.0</td>\n",
              "      <td>0.0</td>\n",
              "      <td>0.0</td>\n",
              "    </tr>\n",
              "    <tr>\n",
              "      <th>1</th>\n",
              "      <td>0.212828</td>\n",
              "      <td>0.263815</td>\n",
              "      <td>0.244444</td>\n",
              "      <td>0.0</td>\n",
              "      <td>0.195238</td>\n",
              "      <td>0.204082</td>\n",
              "      <td>0.489130</td>\n",
              "      <td>0.007447</td>\n",
              "      <td>0.414376</td>\n",
              "      <td>0.0</td>\n",
              "      <td>0.0</td>\n",
              "      <td>0.0</td>\n",
              "    </tr>\n",
              "    <tr>\n",
              "      <th>2</th>\n",
              "      <td>0.212828</td>\n",
              "      <td>0.263815</td>\n",
              "      <td>0.244444</td>\n",
              "      <td>0.0</td>\n",
              "      <td>0.195238</td>\n",
              "      <td>0.204082</td>\n",
              "      <td>0.489130</td>\n",
              "      <td>0.007447</td>\n",
              "      <td>0.414376</td>\n",
              "      <td>0.0</td>\n",
              "      <td>0.0</td>\n",
              "      <td>0.0</td>\n",
              "    </tr>\n",
              "    <tr>\n",
              "      <th>3</th>\n",
              "      <td>0.125364</td>\n",
              "      <td>0.212121</td>\n",
              "      <td>0.171111</td>\n",
              "      <td>0.0</td>\n",
              "      <td>0.135714</td>\n",
              "      <td>0.193878</td>\n",
              "      <td>0.211957</td>\n",
              "      <td>0.002128</td>\n",
              "      <td>0.310782</td>\n",
              "      <td>0.0</td>\n",
              "      <td>0.0</td>\n",
              "      <td>0.0</td>\n",
              "    </tr>\n",
              "    <tr>\n",
              "      <th>4</th>\n",
              "      <td>0.125364</td>\n",
              "      <td>0.174688</td>\n",
              "      <td>0.062222</td>\n",
              "      <td>0.0</td>\n",
              "      <td>0.166667</td>\n",
              "      <td>0.183673</td>\n",
              "      <td>0.070652</td>\n",
              "      <td>0.021277</td>\n",
              "      <td>0.363636</td>\n",
              "      <td>0.0</td>\n",
              "      <td>0.0</td>\n",
              "      <td>0.0</td>\n",
              "    </tr>\n",
              "  </tbody>\n",
              "</table>\n",
              "</div>\n",
              "      <button class=\"colab-df-convert\" onclick=\"convertToInteractive('df-cd138c70-cac2-446d-8148-54605eb09842')\"\n",
              "              title=\"Convert this dataframe to an interactive table.\"\n",
              "              style=\"display:none;\">\n",
              "        \n",
              "  <svg xmlns=\"http://www.w3.org/2000/svg\" height=\"24px\"viewBox=\"0 0 24 24\"\n",
              "       width=\"24px\">\n",
              "    <path d=\"M0 0h24v24H0V0z\" fill=\"none\"/>\n",
              "    <path d=\"M18.56 5.44l.94 2.06.94-2.06 2.06-.94-2.06-.94-.94-2.06-.94 2.06-2.06.94zm-11 1L8.5 8.5l.94-2.06 2.06-.94-2.06-.94L8.5 2.5l-.94 2.06-2.06.94zm10 10l.94 2.06.94-2.06 2.06-.94-2.06-.94-.94-2.06-.94 2.06-2.06.94z\"/><path d=\"M17.41 7.96l-1.37-1.37c-.4-.4-.92-.59-1.43-.59-.52 0-1.04.2-1.43.59L10.3 9.45l-7.72 7.72c-.78.78-.78 2.05 0 2.83L4 21.41c.39.39.9.59 1.41.59.51 0 1.02-.2 1.41-.59l7.78-7.78 2.81-2.81c.8-.78.8-2.07 0-2.86zM5.41 20L4 18.59l7.72-7.72 1.47 1.35L5.41 20z\"/>\n",
              "  </svg>\n",
              "      </button>\n",
              "      \n",
              "  <style>\n",
              "    .colab-df-container {\n",
              "      display:flex;\n",
              "      flex-wrap:wrap;\n",
              "      gap: 12px;\n",
              "    }\n",
              "\n",
              "    .colab-df-convert {\n",
              "      background-color: #E8F0FE;\n",
              "      border: none;\n",
              "      border-radius: 50%;\n",
              "      cursor: pointer;\n",
              "      display: none;\n",
              "      fill: #1967D2;\n",
              "      height: 32px;\n",
              "      padding: 0 0 0 0;\n",
              "      width: 32px;\n",
              "    }\n",
              "\n",
              "    .colab-df-convert:hover {\n",
              "      background-color: #E2EBFA;\n",
              "      box-shadow: 0px 1px 2px rgba(60, 64, 67, 0.3), 0px 1px 3px 1px rgba(60, 64, 67, 0.15);\n",
              "      fill: #174EA6;\n",
              "    }\n",
              "\n",
              "    [theme=dark] .colab-df-convert {\n",
              "      background-color: #3B4455;\n",
              "      fill: #D2E3FC;\n",
              "    }\n",
              "\n",
              "    [theme=dark] .colab-df-convert:hover {\n",
              "      background-color: #434B5C;\n",
              "      box-shadow: 0px 1px 3px 1px rgba(0, 0, 0, 0.15);\n",
              "      filter: drop-shadow(0px 1px 2px rgba(0, 0, 0, 0.3));\n",
              "      fill: #FFFFFF;\n",
              "    }\n",
              "  </style>\n",
              "\n",
              "      <script>\n",
              "        const buttonEl =\n",
              "          document.querySelector('#df-cd138c70-cac2-446d-8148-54605eb09842 button.colab-df-convert');\n",
              "        buttonEl.style.display =\n",
              "          google.colab.kernel.accessAllowed ? 'block' : 'none';\n",
              "\n",
              "        async function convertToInteractive(key) {\n",
              "          const element = document.querySelector('#df-cd138c70-cac2-446d-8148-54605eb09842');\n",
              "          const dataTable =\n",
              "            await google.colab.kernel.invokeFunction('convertToInteractive',\n",
              "                                                     [key], {});\n",
              "          if (!dataTable) return;\n",
              "\n",
              "          const docLinkHtml = 'Like what you see? Visit the ' +\n",
              "            '<a target=\"_blank\" href=https://colab.research.google.com/notebooks/data_table.ipynb>data table notebook</a>'\n",
              "            + ' to learn more about interactive tables.';\n",
              "          element.innerHTML = '';\n",
              "          dataTable['output_type'] = 'display_data';\n",
              "          await google.colab.output.renderOutput(dataTable, element);\n",
              "          const docLink = document.createElement('div');\n",
              "          docLink.innerHTML = docLinkHtml;\n",
              "          element.appendChild(docLink);\n",
              "        }\n",
              "      </script>\n",
              "    </div>\n",
              "  </div>\n",
              "  "
            ]
          },
          "metadata": {},
          "execution_count": 55
        }
      ]
    },
    {
      "cell_type": "markdown",
      "source": [
        "### Normalizing Ingredients (One Hot Encode)"
      ],
      "metadata": {
        "id": "47hZh5mjFl6H"
      }
    },
    {
      "cell_type": "code",
      "source": [
        "def pre_process(text):\n",
        "    text = re.sub(r'[.,():%-]+', \" \", text)\n",
        "    text = re.sub(r'[\\s]+', \" \", text)\n",
        "    text = unidecode(text.strip().lower())\n",
        "    return text"
      ],
      "metadata": {
        "id": "xZ6urS9cdQdX"
      },
      "execution_count": null,
      "outputs": []
    },
    {
      "cell_type": "code",
      "source": [
        "vocab = set()\n",
        "\n",
        "for i in range(data_ingredients.shape[0]):\n",
        "  aux = data_ingredients.at[i,'Ingredients'].split(\",\")\n",
        "  for word in aux:\n",
        "    word = pre_process(word)\n",
        "    if len(word) > 1: vocab.add(word.strip())\n",
        "\n",
        "sorted(vocab)"
      ],
      "metadata": {
        "id": "lcbd5lEyBRfc"
      },
      "execution_count": null,
      "outputs": []
    },
    {
      "cell_type": "code",
      "source": [
        "ingredients_normalized = pd.DataFrame()\n",
        "\n",
        "for i in range(276):\n",
        "  aux = data_ingredients.at[i,'Ingredients'].split(\",\")\n",
        "  for word in aux:\n",
        "    word = pre_process(word)\n",
        "    ingredients_normalized.at[i,word] = 1\n",
        "\n",
        "ingredients_normalized = ingredients_normalized.replace(np.nan,0)\n",
        "ingredients_normalized.head()"
      ],
      "metadata": {
        "id": "r_fKMe2ghv6k",
        "colab": {
          "base_uri": "https://localhost:8080/",
          "height": 332
        },
        "outputId": "66467981-da63-4d6d-f112-0984617a069e"
      },
      "execution_count": null,
      "outputs": [
        {
          "output_type": "execute_result",
          "data": {
            "text/plain": [
              "   water  texturized soy protein  pea protein  chickpea flour  vegetal fat  \\\n",
              "0    1.0                     1.0          1.0             1.0          1.0   \n",
              "1    1.0                     1.0          1.0             1.0          1.0   \n",
              "2    1.0                     1.0          1.0             1.0          1.0   \n",
              "3    1.0                     1.0          1.0             1.0          1.0   \n",
              "4    1.0                     1.0          0.0             0.0          0.0   \n",
              "\n",
              "   modified starch  onion  meat flavored condiment  salt  sugar  ...  \\\n",
              "0              1.0    1.0                      1.0   1.0    1.0  ...   \n",
              "1              1.0    1.0                      1.0   1.0    0.0  ...   \n",
              "2              1.0    1.0                      1.0   1.0    0.0  ...   \n",
              "3              1.0    1.0                      0.0   1.0    1.0  ...   \n",
              "4              0.0    0.0                      0.0   1.0    1.0  ...   \n",
              "\n",
              "   tricalcium phosphatxanthan gum  phosphoric acid  aquafaba  \\\n",
              "0                             0.0              0.0       0.0   \n",
              "1                             0.0              0.0       0.0   \n",
              "2                             0.0              0.0       0.0   \n",
              "3                             0.0              0.0       0.0   \n",
              "4                             0.0              0.0       0.0   \n",
              "\n",
              "   potassium sorbate disodium calcium  avocado  potassium chloride  \\\n",
              "0                                 0.0      0.0                 0.0   \n",
              "1                                 0.0      0.0                 0.0   \n",
              "2                                 0.0      0.0                 0.0   \n",
              "3                                 0.0      0.0                 0.0   \n",
              "4                                 0.0      0.0                 0.0   \n",
              "\n",
              "   isolated vegetable protein  soy  pea starch  isolated rice protein  \n",
              "0                         0.0  0.0         0.0                    0.0  \n",
              "1                         0.0  0.0         0.0                    0.0  \n",
              "2                         0.0  0.0         0.0                    0.0  \n",
              "3                         0.0  0.0         0.0                    0.0  \n",
              "4                         0.0  0.0         0.0                    0.0  \n",
              "\n",
              "[5 rows x 383 columns]"
            ],
            "text/html": [
              "\n",
              "  <div id=\"df-df19616c-dc22-4244-b589-061160a93f44\">\n",
              "    <div class=\"colab-df-container\">\n",
              "      <div>\n",
              "<style scoped>\n",
              "    .dataframe tbody tr th:only-of-type {\n",
              "        vertical-align: middle;\n",
              "    }\n",
              "\n",
              "    .dataframe tbody tr th {\n",
              "        vertical-align: top;\n",
              "    }\n",
              "\n",
              "    .dataframe thead th {\n",
              "        text-align: right;\n",
              "    }\n",
              "</style>\n",
              "<table border=\"1\" class=\"dataframe\">\n",
              "  <thead>\n",
              "    <tr style=\"text-align: right;\">\n",
              "      <th></th>\n",
              "      <th>water</th>\n",
              "      <th>texturized soy protein</th>\n",
              "      <th>pea protein</th>\n",
              "      <th>chickpea flour</th>\n",
              "      <th>vegetal fat</th>\n",
              "      <th>modified starch</th>\n",
              "      <th>onion</th>\n",
              "      <th>meat flavored condiment</th>\n",
              "      <th>salt</th>\n",
              "      <th>sugar</th>\n",
              "      <th>...</th>\n",
              "      <th>tricalcium phosphatxanthan gum</th>\n",
              "      <th>phosphoric acid</th>\n",
              "      <th>aquafaba</th>\n",
              "      <th>potassium sorbate disodium calcium</th>\n",
              "      <th>avocado</th>\n",
              "      <th>potassium chloride</th>\n",
              "      <th>isolated vegetable protein</th>\n",
              "      <th>soy</th>\n",
              "      <th>pea starch</th>\n",
              "      <th>isolated rice protein</th>\n",
              "    </tr>\n",
              "  </thead>\n",
              "  <tbody>\n",
              "    <tr>\n",
              "      <th>0</th>\n",
              "      <td>1.0</td>\n",
              "      <td>1.0</td>\n",
              "      <td>1.0</td>\n",
              "      <td>1.0</td>\n",
              "      <td>1.0</td>\n",
              "      <td>1.0</td>\n",
              "      <td>1.0</td>\n",
              "      <td>1.0</td>\n",
              "      <td>1.0</td>\n",
              "      <td>1.0</td>\n",
              "      <td>...</td>\n",
              "      <td>0.0</td>\n",
              "      <td>0.0</td>\n",
              "      <td>0.0</td>\n",
              "      <td>0.0</td>\n",
              "      <td>0.0</td>\n",
              "      <td>0.0</td>\n",
              "      <td>0.0</td>\n",
              "      <td>0.0</td>\n",
              "      <td>0.0</td>\n",
              "      <td>0.0</td>\n",
              "    </tr>\n",
              "    <tr>\n",
              "      <th>1</th>\n",
              "      <td>1.0</td>\n",
              "      <td>1.0</td>\n",
              "      <td>1.0</td>\n",
              "      <td>1.0</td>\n",
              "      <td>1.0</td>\n",
              "      <td>1.0</td>\n",
              "      <td>1.0</td>\n",
              "      <td>1.0</td>\n",
              "      <td>1.0</td>\n",
              "      <td>0.0</td>\n",
              "      <td>...</td>\n",
              "      <td>0.0</td>\n",
              "      <td>0.0</td>\n",
              "      <td>0.0</td>\n",
              "      <td>0.0</td>\n",
              "      <td>0.0</td>\n",
              "      <td>0.0</td>\n",
              "      <td>0.0</td>\n",
              "      <td>0.0</td>\n",
              "      <td>0.0</td>\n",
              "      <td>0.0</td>\n",
              "    </tr>\n",
              "    <tr>\n",
              "      <th>2</th>\n",
              "      <td>1.0</td>\n",
              "      <td>1.0</td>\n",
              "      <td>1.0</td>\n",
              "      <td>1.0</td>\n",
              "      <td>1.0</td>\n",
              "      <td>1.0</td>\n",
              "      <td>1.0</td>\n",
              "      <td>1.0</td>\n",
              "      <td>1.0</td>\n",
              "      <td>0.0</td>\n",
              "      <td>...</td>\n",
              "      <td>0.0</td>\n",
              "      <td>0.0</td>\n",
              "      <td>0.0</td>\n",
              "      <td>0.0</td>\n",
              "      <td>0.0</td>\n",
              "      <td>0.0</td>\n",
              "      <td>0.0</td>\n",
              "      <td>0.0</td>\n",
              "      <td>0.0</td>\n",
              "      <td>0.0</td>\n",
              "    </tr>\n",
              "    <tr>\n",
              "      <th>3</th>\n",
              "      <td>1.0</td>\n",
              "      <td>1.0</td>\n",
              "      <td>1.0</td>\n",
              "      <td>1.0</td>\n",
              "      <td>1.0</td>\n",
              "      <td>1.0</td>\n",
              "      <td>1.0</td>\n",
              "      <td>0.0</td>\n",
              "      <td>1.0</td>\n",
              "      <td>1.0</td>\n",
              "      <td>...</td>\n",
              "      <td>0.0</td>\n",
              "      <td>0.0</td>\n",
              "      <td>0.0</td>\n",
              "      <td>0.0</td>\n",
              "      <td>0.0</td>\n",
              "      <td>0.0</td>\n",
              "      <td>0.0</td>\n",
              "      <td>0.0</td>\n",
              "      <td>0.0</td>\n",
              "      <td>0.0</td>\n",
              "    </tr>\n",
              "    <tr>\n",
              "      <th>4</th>\n",
              "      <td>1.0</td>\n",
              "      <td>1.0</td>\n",
              "      <td>0.0</td>\n",
              "      <td>0.0</td>\n",
              "      <td>0.0</td>\n",
              "      <td>0.0</td>\n",
              "      <td>0.0</td>\n",
              "      <td>0.0</td>\n",
              "      <td>1.0</td>\n",
              "      <td>1.0</td>\n",
              "      <td>...</td>\n",
              "      <td>0.0</td>\n",
              "      <td>0.0</td>\n",
              "      <td>0.0</td>\n",
              "      <td>0.0</td>\n",
              "      <td>0.0</td>\n",
              "      <td>0.0</td>\n",
              "      <td>0.0</td>\n",
              "      <td>0.0</td>\n",
              "      <td>0.0</td>\n",
              "      <td>0.0</td>\n",
              "    </tr>\n",
              "  </tbody>\n",
              "</table>\n",
              "<p>5 rows × 383 columns</p>\n",
              "</div>\n",
              "      <button class=\"colab-df-convert\" onclick=\"convertToInteractive('df-df19616c-dc22-4244-b589-061160a93f44')\"\n",
              "              title=\"Convert this dataframe to an interactive table.\"\n",
              "              style=\"display:none;\">\n",
              "        \n",
              "  <svg xmlns=\"http://www.w3.org/2000/svg\" height=\"24px\"viewBox=\"0 0 24 24\"\n",
              "       width=\"24px\">\n",
              "    <path d=\"M0 0h24v24H0V0z\" fill=\"none\"/>\n",
              "    <path d=\"M18.56 5.44l.94 2.06.94-2.06 2.06-.94-2.06-.94-.94-2.06-.94 2.06-2.06.94zm-11 1L8.5 8.5l.94-2.06 2.06-.94-2.06-.94L8.5 2.5l-.94 2.06-2.06.94zm10 10l.94 2.06.94-2.06 2.06-.94-2.06-.94-.94-2.06-.94 2.06-2.06.94z\"/><path d=\"M17.41 7.96l-1.37-1.37c-.4-.4-.92-.59-1.43-.59-.52 0-1.04.2-1.43.59L10.3 9.45l-7.72 7.72c-.78.78-.78 2.05 0 2.83L4 21.41c.39.39.9.59 1.41.59.51 0 1.02-.2 1.41-.59l7.78-7.78 2.81-2.81c.8-.78.8-2.07 0-2.86zM5.41 20L4 18.59l7.72-7.72 1.47 1.35L5.41 20z\"/>\n",
              "  </svg>\n",
              "      </button>\n",
              "      \n",
              "  <style>\n",
              "    .colab-df-container {\n",
              "      display:flex;\n",
              "      flex-wrap:wrap;\n",
              "      gap: 12px;\n",
              "    }\n",
              "\n",
              "    .colab-df-convert {\n",
              "      background-color: #E8F0FE;\n",
              "      border: none;\n",
              "      border-radius: 50%;\n",
              "      cursor: pointer;\n",
              "      display: none;\n",
              "      fill: #1967D2;\n",
              "      height: 32px;\n",
              "      padding: 0 0 0 0;\n",
              "      width: 32px;\n",
              "    }\n",
              "\n",
              "    .colab-df-convert:hover {\n",
              "      background-color: #E2EBFA;\n",
              "      box-shadow: 0px 1px 2px rgba(60, 64, 67, 0.3), 0px 1px 3px 1px rgba(60, 64, 67, 0.15);\n",
              "      fill: #174EA6;\n",
              "    }\n",
              "\n",
              "    [theme=dark] .colab-df-convert {\n",
              "      background-color: #3B4455;\n",
              "      fill: #D2E3FC;\n",
              "    }\n",
              "\n",
              "    [theme=dark] .colab-df-convert:hover {\n",
              "      background-color: #434B5C;\n",
              "      box-shadow: 0px 1px 3px 1px rgba(0, 0, 0, 0.15);\n",
              "      filter: drop-shadow(0px 1px 2px rgba(0, 0, 0, 0.3));\n",
              "      fill: #FFFFFF;\n",
              "    }\n",
              "  </style>\n",
              "\n",
              "      <script>\n",
              "        const buttonEl =\n",
              "          document.querySelector('#df-df19616c-dc22-4244-b589-061160a93f44 button.colab-df-convert');\n",
              "        buttonEl.style.display =\n",
              "          google.colab.kernel.accessAllowed ? 'block' : 'none';\n",
              "\n",
              "        async function convertToInteractive(key) {\n",
              "          const element = document.querySelector('#df-df19616c-dc22-4244-b589-061160a93f44');\n",
              "          const dataTable =\n",
              "            await google.colab.kernel.invokeFunction('convertToInteractive',\n",
              "                                                     [key], {});\n",
              "          if (!dataTable) return;\n",
              "\n",
              "          const docLinkHtml = 'Like what you see? Visit the ' +\n",
              "            '<a target=\"_blank\" href=https://colab.research.google.com/notebooks/data_table.ipynb>data table notebook</a>'\n",
              "            + ' to learn more about interactive tables.';\n",
              "          element.innerHTML = '';\n",
              "          dataTable['output_type'] = 'display_data';\n",
              "          await google.colab.output.renderOutput(dataTable, element);\n",
              "          const docLink = document.createElement('div');\n",
              "          docLink.innerHTML = docLinkHtml;\n",
              "          element.appendChild(docLink);\n",
              "        }\n",
              "      </script>\n",
              "    </div>\n",
              "  </div>\n",
              "  "
            ]
          },
          "metadata": {},
          "execution_count": 58
        }
      ]
    },
    {
      "cell_type": "markdown",
      "source": [
        "### Preparing data"
      ],
      "metadata": {
        "id": "azEImQ_cGFi_"
      }
    },
    {
      "cell_type": "code",
      "source": [
        "raw_data = pd.DataFrame(ingredients_normalized)\n",
        "raw_data = pd.concat([raw_data,nutrients_normalized], axis=1)\n",
        "raw_data = raw_data.replace(np.nan,0)\n",
        "\n",
        "raw_data.head()"
      ],
      "metadata": {
        "colab": {
          "base_uri": "https://localhost:8080/",
          "height": 297
        },
        "id": "tTomN3J0kd6h",
        "outputId": "d510e0e1-7a76-400d-9c84-d2742901d207"
      },
      "execution_count": null,
      "outputs": [
        {
          "output_type": "execute_result",
          "data": {
            "text/plain": [
              "   water  texturized soy protein  pea protein  chickpea flour  vegetal fat  \\\n",
              "0    1.0                     1.0          1.0             1.0          1.0   \n",
              "1    1.0                     1.0          1.0             1.0          1.0   \n",
              "2    1.0                     1.0          1.0             1.0          1.0   \n",
              "3    1.0                     1.0          1.0             1.0          1.0   \n",
              "4    1.0                     1.0          0.0             0.0          0.0   \n",
              "\n",
              "   modified starch  onion  meat flavored condiment  salt  sugar  ...  \\\n",
              "0              1.0    1.0                      1.0   1.0    1.0  ...   \n",
              "1              1.0    1.0                      1.0   1.0    0.0  ...   \n",
              "2              1.0    1.0                      1.0   1.0    0.0  ...   \n",
              "3              1.0    1.0                      0.0   1.0    1.0  ...   \n",
              "4              0.0    0.0                      0.0   1.0    1.0  ...   \n",
              "\n",
              "   Carbohydrate  Sugars  Proteins   Total Fats   Saturated Fats  \\\n",
              "0      0.244444     0.0  0.195238     0.204082         0.489130   \n",
              "1      0.244444     0.0  0.195238     0.204082         0.489130   \n",
              "2      0.244444     0.0  0.195238     0.204082         0.489130   \n",
              "3      0.171111     0.0  0.135714     0.193878         0.211957   \n",
              "4      0.062222     0.0  0.166667     0.183673         0.070652   \n",
              "\n",
              "    Dietary Fiber     Sodium  B12  Calcium  Zinc  \n",
              "0         0.007447  0.414376  0.0      0.0   0.0  \n",
              "1         0.007447  0.414376  0.0      0.0   0.0  \n",
              "2         0.007447  0.414376  0.0      0.0   0.0  \n",
              "3         0.002128  0.310782  0.0      0.0   0.0  \n",
              "4         0.021277  0.363636  0.0      0.0   0.0  \n",
              "\n",
              "[5 rows x 395 columns]"
            ],
            "text/html": [
              "\n",
              "  <div id=\"df-eca340df-f5dd-4230-9a11-05d169eb8c18\">\n",
              "    <div class=\"colab-df-container\">\n",
              "      <div>\n",
              "<style scoped>\n",
              "    .dataframe tbody tr th:only-of-type {\n",
              "        vertical-align: middle;\n",
              "    }\n",
              "\n",
              "    .dataframe tbody tr th {\n",
              "        vertical-align: top;\n",
              "    }\n",
              "\n",
              "    .dataframe thead th {\n",
              "        text-align: right;\n",
              "    }\n",
              "</style>\n",
              "<table border=\"1\" class=\"dataframe\">\n",
              "  <thead>\n",
              "    <tr style=\"text-align: right;\">\n",
              "      <th></th>\n",
              "      <th>water</th>\n",
              "      <th>texturized soy protein</th>\n",
              "      <th>pea protein</th>\n",
              "      <th>chickpea flour</th>\n",
              "      <th>vegetal fat</th>\n",
              "      <th>modified starch</th>\n",
              "      <th>onion</th>\n",
              "      <th>meat flavored condiment</th>\n",
              "      <th>salt</th>\n",
              "      <th>sugar</th>\n",
              "      <th>...</th>\n",
              "      <th>Carbohydrate</th>\n",
              "      <th>Sugars</th>\n",
              "      <th>Proteins</th>\n",
              "      <th>Total Fats</th>\n",
              "      <th>Saturated Fats</th>\n",
              "      <th>Dietary Fiber</th>\n",
              "      <th>Sodium</th>\n",
              "      <th>B12</th>\n",
              "      <th>Calcium</th>\n",
              "      <th>Zinc</th>\n",
              "    </tr>\n",
              "  </thead>\n",
              "  <tbody>\n",
              "    <tr>\n",
              "      <th>0</th>\n",
              "      <td>1.0</td>\n",
              "      <td>1.0</td>\n",
              "      <td>1.0</td>\n",
              "      <td>1.0</td>\n",
              "      <td>1.0</td>\n",
              "      <td>1.0</td>\n",
              "      <td>1.0</td>\n",
              "      <td>1.0</td>\n",
              "      <td>1.0</td>\n",
              "      <td>1.0</td>\n",
              "      <td>...</td>\n",
              "      <td>0.244444</td>\n",
              "      <td>0.0</td>\n",
              "      <td>0.195238</td>\n",
              "      <td>0.204082</td>\n",
              "      <td>0.489130</td>\n",
              "      <td>0.007447</td>\n",
              "      <td>0.414376</td>\n",
              "      <td>0.0</td>\n",
              "      <td>0.0</td>\n",
              "      <td>0.0</td>\n",
              "    </tr>\n",
              "    <tr>\n",
              "      <th>1</th>\n",
              "      <td>1.0</td>\n",
              "      <td>1.0</td>\n",
              "      <td>1.0</td>\n",
              "      <td>1.0</td>\n",
              "      <td>1.0</td>\n",
              "      <td>1.0</td>\n",
              "      <td>1.0</td>\n",
              "      <td>1.0</td>\n",
              "      <td>1.0</td>\n",
              "      <td>0.0</td>\n",
              "      <td>...</td>\n",
              "      <td>0.244444</td>\n",
              "      <td>0.0</td>\n",
              "      <td>0.195238</td>\n",
              "      <td>0.204082</td>\n",
              "      <td>0.489130</td>\n",
              "      <td>0.007447</td>\n",
              "      <td>0.414376</td>\n",
              "      <td>0.0</td>\n",
              "      <td>0.0</td>\n",
              "      <td>0.0</td>\n",
              "    </tr>\n",
              "    <tr>\n",
              "      <th>2</th>\n",
              "      <td>1.0</td>\n",
              "      <td>1.0</td>\n",
              "      <td>1.0</td>\n",
              "      <td>1.0</td>\n",
              "      <td>1.0</td>\n",
              "      <td>1.0</td>\n",
              "      <td>1.0</td>\n",
              "      <td>1.0</td>\n",
              "      <td>1.0</td>\n",
              "      <td>0.0</td>\n",
              "      <td>...</td>\n",
              "      <td>0.244444</td>\n",
              "      <td>0.0</td>\n",
              "      <td>0.195238</td>\n",
              "      <td>0.204082</td>\n",
              "      <td>0.489130</td>\n",
              "      <td>0.007447</td>\n",
              "      <td>0.414376</td>\n",
              "      <td>0.0</td>\n",
              "      <td>0.0</td>\n",
              "      <td>0.0</td>\n",
              "    </tr>\n",
              "    <tr>\n",
              "      <th>3</th>\n",
              "      <td>1.0</td>\n",
              "      <td>1.0</td>\n",
              "      <td>1.0</td>\n",
              "      <td>1.0</td>\n",
              "      <td>1.0</td>\n",
              "      <td>1.0</td>\n",
              "      <td>1.0</td>\n",
              "      <td>0.0</td>\n",
              "      <td>1.0</td>\n",
              "      <td>1.0</td>\n",
              "      <td>...</td>\n",
              "      <td>0.171111</td>\n",
              "      <td>0.0</td>\n",
              "      <td>0.135714</td>\n",
              "      <td>0.193878</td>\n",
              "      <td>0.211957</td>\n",
              "      <td>0.002128</td>\n",
              "      <td>0.310782</td>\n",
              "      <td>0.0</td>\n",
              "      <td>0.0</td>\n",
              "      <td>0.0</td>\n",
              "    </tr>\n",
              "    <tr>\n",
              "      <th>4</th>\n",
              "      <td>1.0</td>\n",
              "      <td>1.0</td>\n",
              "      <td>0.0</td>\n",
              "      <td>0.0</td>\n",
              "      <td>0.0</td>\n",
              "      <td>0.0</td>\n",
              "      <td>0.0</td>\n",
              "      <td>0.0</td>\n",
              "      <td>1.0</td>\n",
              "      <td>1.0</td>\n",
              "      <td>...</td>\n",
              "      <td>0.062222</td>\n",
              "      <td>0.0</td>\n",
              "      <td>0.166667</td>\n",
              "      <td>0.183673</td>\n",
              "      <td>0.070652</td>\n",
              "      <td>0.021277</td>\n",
              "      <td>0.363636</td>\n",
              "      <td>0.0</td>\n",
              "      <td>0.0</td>\n",
              "      <td>0.0</td>\n",
              "    </tr>\n",
              "  </tbody>\n",
              "</table>\n",
              "<p>5 rows × 395 columns</p>\n",
              "</div>\n",
              "      <button class=\"colab-df-convert\" onclick=\"convertToInteractive('df-eca340df-f5dd-4230-9a11-05d169eb8c18')\"\n",
              "              title=\"Convert this dataframe to an interactive table.\"\n",
              "              style=\"display:none;\">\n",
              "        \n",
              "  <svg xmlns=\"http://www.w3.org/2000/svg\" height=\"24px\"viewBox=\"0 0 24 24\"\n",
              "       width=\"24px\">\n",
              "    <path d=\"M0 0h24v24H0V0z\" fill=\"none\"/>\n",
              "    <path d=\"M18.56 5.44l.94 2.06.94-2.06 2.06-.94-2.06-.94-.94-2.06-.94 2.06-2.06.94zm-11 1L8.5 8.5l.94-2.06 2.06-.94-2.06-.94L8.5 2.5l-.94 2.06-2.06.94zm10 10l.94 2.06.94-2.06 2.06-.94-2.06-.94-.94-2.06-.94 2.06-2.06.94z\"/><path d=\"M17.41 7.96l-1.37-1.37c-.4-.4-.92-.59-1.43-.59-.52 0-1.04.2-1.43.59L10.3 9.45l-7.72 7.72c-.78.78-.78 2.05 0 2.83L4 21.41c.39.39.9.59 1.41.59.51 0 1.02-.2 1.41-.59l7.78-7.78 2.81-2.81c.8-.78.8-2.07 0-2.86zM5.41 20L4 18.59l7.72-7.72 1.47 1.35L5.41 20z\"/>\n",
              "  </svg>\n",
              "      </button>\n",
              "      \n",
              "  <style>\n",
              "    .colab-df-container {\n",
              "      display:flex;\n",
              "      flex-wrap:wrap;\n",
              "      gap: 12px;\n",
              "    }\n",
              "\n",
              "    .colab-df-convert {\n",
              "      background-color: #E8F0FE;\n",
              "      border: none;\n",
              "      border-radius: 50%;\n",
              "      cursor: pointer;\n",
              "      display: none;\n",
              "      fill: #1967D2;\n",
              "      height: 32px;\n",
              "      padding: 0 0 0 0;\n",
              "      width: 32px;\n",
              "    }\n",
              "\n",
              "    .colab-df-convert:hover {\n",
              "      background-color: #E2EBFA;\n",
              "      box-shadow: 0px 1px 2px rgba(60, 64, 67, 0.3), 0px 1px 3px 1px rgba(60, 64, 67, 0.15);\n",
              "      fill: #174EA6;\n",
              "    }\n",
              "\n",
              "    [theme=dark] .colab-df-convert {\n",
              "      background-color: #3B4455;\n",
              "      fill: #D2E3FC;\n",
              "    }\n",
              "\n",
              "    [theme=dark] .colab-df-convert:hover {\n",
              "      background-color: #434B5C;\n",
              "      box-shadow: 0px 1px 3px 1px rgba(0, 0, 0, 0.15);\n",
              "      filter: drop-shadow(0px 1px 2px rgba(0, 0, 0, 0.3));\n",
              "      fill: #FFFFFF;\n",
              "    }\n",
              "  </style>\n",
              "\n",
              "      <script>\n",
              "        const buttonEl =\n",
              "          document.querySelector('#df-eca340df-f5dd-4230-9a11-05d169eb8c18 button.colab-df-convert');\n",
              "        buttonEl.style.display =\n",
              "          google.colab.kernel.accessAllowed ? 'block' : 'none';\n",
              "\n",
              "        async function convertToInteractive(key) {\n",
              "          const element = document.querySelector('#df-eca340df-f5dd-4230-9a11-05d169eb8c18');\n",
              "          const dataTable =\n",
              "            await google.colab.kernel.invokeFunction('convertToInteractive',\n",
              "                                                     [key], {});\n",
              "          if (!dataTable) return;\n",
              "\n",
              "          const docLinkHtml = 'Like what you see? Visit the ' +\n",
              "            '<a target=\"_blank\" href=https://colab.research.google.com/notebooks/data_table.ipynb>data table notebook</a>'\n",
              "            + ' to learn more about interactive tables.';\n",
              "          element.innerHTML = '';\n",
              "          dataTable['output_type'] = 'display_data';\n",
              "          await google.colab.output.renderOutput(dataTable, element);\n",
              "          const docLink = document.createElement('div');\n",
              "          docLink.innerHTML = docLinkHtml;\n",
              "          element.appendChild(docLink);\n",
              "        }\n",
              "      </script>\n",
              "    </div>\n",
              "  </div>\n",
              "  "
            ]
          },
          "metadata": {},
          "execution_count": 59
        }
      ]
    },
    {
      "cell_type": "code",
      "source": [
        "X = raw_data.values\n",
        "X_ingredients = ingredients_normalized.values\n",
        "X_nutrients = nutrients_normalized.values\n",
        "y = label_data.values\n",
        "all_data = label_data.join(raw_data)\n",
        "\n",
        "for i in range(276):\n",
        "  label = label_data['Classification'][i].rstrip()\n",
        "  label_data.at[i,'Classification'] = label\n",
        "  all_data.at[i,'Classification'] = label\n",
        "\n",
        "print(all_data['Classification'].value_counts())"
      ],
      "metadata": {
        "colab": {
          "base_uri": "https://localhost:8080/"
        },
        "id": "I8hjs_JCcDiL",
        "outputId": "b4940b2e-9079-415e-ed1f-da8c5be60062"
      },
      "execution_count": null,
      "outputs": [
        {
          "output_type": "stream",
          "name": "stdout",
          "text": [
            "DAIRY 1      80\n",
            "DAIRY 3      45\n",
            "MEAT 1       34\n",
            "MEAT 3       18\n",
            "POULTRY 1    14\n",
            "EGG 1        14\n",
            "POULTRY 3    13\n",
            "PORK 1       12\n",
            "DAIRY 2      11\n",
            "MEAT 2        9\n",
            "FISH 1        8\n",
            "PORK 2        6\n",
            "POULTRY 2     5\n",
            "FISH 2        5\n",
            "EGG 2         2\n",
            "Name: Classification, dtype: int64\n"
          ]
        }
      ]
    },
    {
      "cell_type": "markdown",
      "source": [
        "# Visualization Techniques"
      ],
      "metadata": {
        "id": "fc67aC8Lj5hE"
      }
    },
    {
      "cell_type": "code",
      "source": [
        "for i in range(276):\n",
        "  aux = data_ingredients.at[i,'Ingredients']\n",
        "  data_ingredients.at[i,'Ingredients'] = re.sub(',\\s*',\"<br>\",aux).lstrip()"
      ],
      "metadata": {
        "id": "fPvDbUMGFeWs"
      },
      "execution_count": null,
      "outputs": []
    },
    {
      "cell_type": "code",
      "source": [
        "if not os.path.exists(\"imgs\"):\n",
        "    os.mkdir(\"imgs\")"
      ],
      "metadata": {
        "id": "E3cA0tsme9Yz"
      },
      "execution_count": null,
      "outputs": []
    },
    {
      "cell_type": "markdown",
      "source": [
        "### t-SNE"
      ],
      "metadata": {
        "id": "XDaLYnRncUbJ"
      }
    },
    {
      "cell_type": "code",
      "source": [
        "tsne = TSNE(n_components=2,perplexity=5,learning_rate=100,metric='euclidean', init='pca')\n",
        "X_tsne = tsne.fit_transform(X)\n",
        "\n",
        "X_tsne[1:4, :]\n",
        "all_data['x'] = X_tsne[:,0]\n",
        "all_data['y'] = X_tsne[:,1]\n",
        "all_data['Ingredients'] = data_ingredients\n",
        "\n",
        "fig = px.scatter(\n",
        "    all_data, \n",
        "    x='x', \n",
        "    y='y', \n",
        "    color='Classification', \n",
        "    template=\"simple_white\",\n",
        "    labels={ \n",
        "      \"Classification\": \"Classification (Label)\"\n",
        "    },\n",
        "    color_discrete_sequence= px.colors.qualitative.Plotly + px.colors.qualitative.Bold,\n",
        "    hover_name=\"Description\",\n",
        "    hover_data={'x':False,\n",
        "                'y':False,  \n",
        "                'Kcal ': [f' {x}' for x in data['Kcal']],\n",
        "                'Serving Size ': [f' {y}' for y in data['Serving Size']],\n",
        "                'Carbohydrate ': [f' {z}' for z in data['Carbohydrate']],\n",
        "                'Sugars ': [f' {a}' for a in data['Sugars']],\n",
        "                'Proteins ': [f' {b}' for b in data['Proteins']],\n",
        "                }, #'Ingredients':True}, \n",
        "    width=700)\n",
        "\n",
        "fig.update_traces(showlegend=False,\n",
        "                  marker=dict(size=9,\n",
        "                              line=dict(width=1,\n",
        "                                        color='DarkSlateGrey')),\n",
        "                  selector=dict(mode='markers'))\n",
        "\n",
        "fig.update_layout(xaxis={'visible': False},\n",
        "                  yaxis={'visible': False},\n",
        "                  margin=dict(l=0,r=0,b=0,t=0))\n",
        "\n",
        "fig.show()\n",
        "fig.write_image('imgs/TSNE_ALL.eps', format='eps')"
      ],
      "metadata": {
        "colab": {
          "base_uri": "https://localhost:8080/",
          "height": 542
        },
        "id": "o-rjtAxAqlNJ",
        "outputId": "19695730-34a7-4ffa-c596-8d27318730ae"
      },
      "execution_count": 119,
      "outputs": [
        {
          "output_type": "display_data",
          "data": {
            "text/html": [
              "<html>\n",
              "<head><meta charset=\"utf-8\" /></head>\n",
              "<body>\n",
              "    <div>            <script src=\"https://cdnjs.cloudflare.com/ajax/libs/mathjax/2.7.5/MathJax.js?config=TeX-AMS-MML_SVG\"></script><script type=\"text/javascript\">if (window.MathJax) {MathJax.Hub.Config({SVG: {font: \"STIX-Web\"}});}</script>                <script type=\"text/javascript\">window.PlotlyConfig = {MathJaxConfig: 'local'};</script>\n",
              "        <script src=\"https://cdn.plot.ly/plotly-2.8.3.min.js\"></script>                <div id=\"f2d6cd39-9fa0-4126-933d-acb17c3d354b\" class=\"plotly-graph-div\" style=\"height:525px; width:700px;\"></div>            <script type=\"text/javascript\">                                    window.PLOTLYENV=window.PLOTLYENV || {};                                    if (document.getElementById(\"f2d6cd39-9fa0-4126-933d-acb17c3d354b\")) {                    Plotly.newPlot(                        \"f2d6cd39-9fa0-4126-933d-acb17c3d354b\",                        [{\"customdata\":[[\" 168.0\",\" 80.0\",\" 11.0\",\" 0.0\",\" 8.2\"],[\" 234.0\",\" 100.0\",\" 12.0\",\" 0.0\",\" 19.0\"],[\" 146.0\",\" 80.0\",\" 3.7\",\" 0.0\",\" 14.0\"],[\" 166.0\",\" 100.0\",\" 10.0\",\" 0.0\",\" 13.0\"],[\" 166.0\",\" 100.0\",\" 10.0\",\" 0.0\",\" 13.0\"],[\" 178.0\",\" 75.0\",\" 33.0\",\" 0.0\",\" 4.3\"],[\" 158.0\",\" 80.0\",\" 9.3\",\" 0.0\",\" 7.8\"],[\" 77.0\",\" 50.0\",\" 2.1\",\" 0.0\",\" 13.0\"],[\" 188.0\",\" 100.0\",\" 6.0\",\" 0.0\",\" 14.0\"]],\"hovertemplate\":\"<b>%{hovertext}</b><br><br>Classification (Label)=MEAT 2<br>Kcal =%{customdata[0]}<br>Serving Size =%{customdata[1]}<br>Carbohydrate =%{customdata[2]}<br>Sugars =%{customdata[3]}<br>Proteins =%{customdata[4]}<extra></extra>\",\"hovertext\":[\"Carne Mo\\u00edda do Futuro\",\"Almondegas de Soja Vegway\",\"Almondegas Amazonika Mundi\",\"Kibe Incr\\u00edvel Seara\",\"Almondegas Incr\\u00edveis Seara\",\"Almondegas Mr Veggy\",\"Carne Mo\\u00edda Superbom\",\"Carne Vegetal Mo\\u00edda Superbom\",\"Carne Mo\\u00edda Vegetal Verdali\"],\"legendgroup\":\"MEAT 2\",\"marker\":{\"color\":\"#636EFA\",\"symbol\":\"circle\",\"line\":{\"color\":\"DarkSlateGrey\",\"width\":1},\"size\":9},\"mode\":\"markers\",\"name\":\"MEAT 2\",\"orientation\":\"v\",\"showlegend\":false,\"x\":[26.706565856933594,59.2596321105957,24.67335319519043,36.52311325073242,53.93220520019531,23.354455947875977,10.673428535461426,40.302860260009766,55.08185577392578],\"xaxis\":\"x\",\"y\":[-39.84885787963867,35.896728515625,-30.3327579498291,-8.42671012878418,-27.20956039428711,6.968386650085449,-19.35341453552246,37.885860443115234,-2.707939863204956],\"yaxis\":\"y\",\"type\":\"scatter\"},{\"customdata\":[[\" 168.0\",\" 80.0\",\" 11.0\",\" 0.0\",\" 8.2\"],[\" 150.0\",\" 50.0\",\" 10.0\",\" 0.0\",\" 25.0\"],[\" 150.0\",\" 50.0\",\" 10.0\",\" 0.0\",\" 25.0\"],[\" 62.0\",\" 50.0\",\" 1.0\",\" 0.0\",\" 10.0\"],[\" 62.0\",\" 50.0\",\" 1.0\",\" 0.0\",\" 10.0\"],[\" 115.0\",\" 60.0\",\" 2.8\",\" 0.0\",\" 7.5\"],[\" 115.0\",\" 60.0\",\" 3.1\",\" 0.0\",\" 7.5\"],[\" 121.0\",\" 350.0\",\" 9.3\",\" 0.0\",\" 9.3\"],[\" 88.0\",\" 40.0\",\" 6.0\",\" 0.0\",\" 6.3\"],[\" 129.0\",\" 80.0\",\" 12.0\",\" 0.0\",\" 11.0\"],[\" 203.0\",\" 100.0\",\" 13.0\",\" 0.0\",\" 9.2\"],[\" 64.0\",\" 40.0\",\" 2.7\",\" 0.0\",\" 7.8\"],[\" 26.0\",\" 50.0\",\" 0.5\",\" 0.0\",\" 5.0\"],[\" 22.0\",\" 50.0\",\" 0.5\",\" 0.0\",\" 5.3\"],[\" 53.0\",\" 50.0\",\" 0.0\",\" 0.0\",\" 5.4\"],[\" 63.0\",\" 50.0\",\" 0.2\",\" 0.0\",\" 6.3\"],[\" 144.0\",\" 100.0\",\" 5.0\",\" 0.0\",\" 22.0\"],[\" 119.0\",\" 100.0\",\" 5.0\",\" 0.0\",\" 18.0\"]],\"hovertemplate\":\"<b>%{hovertext}</b><br><br>Classification (Label)=MEAT 3<br>Kcal =%{customdata[0]}<br>Serving Size =%{customdata[1]}<br>Carbohydrate =%{customdata[2]}<br>Sugars =%{customdata[3]}<br>Proteins =%{customdata[4]}<extra></extra>\",\"hovertext\":[\"Carne Mo\\u00edda do Futuro\",\"Fil\\u00e9s Sora Carne Vermelha\",\"Fatias Sora Carne Vermelha\",\"Fil\\u00e9 Pronto Saud\\u00e1vel Sora\",\"Carne Mo\\u00edda Pronto Saud\\u00e1vel Sora\",\"Churrasco Vegabom\",\"Churrasco Aoniondo Vegabom\",\"Carne de Pernil Seara\",\"Alm\\u00f4ndega de Soja Vegana Goshen\",\"Bife de Soja Vegano Goshen\",\"Alm\\u00f4ndega Vegana Superbom\",\"Bife Vegetal Superbom\",\"Escalope ao Molho Caseiro Superbom\",\"Cubinhos ao Molho Mexicano Superbom\",\"Alm\\u00f4ndegas ao Molho Sugo Superbom\",\"Medalh\\u00e3o ao Molho Madeira Superbom\",\"Mignon Verdali\",\"Steak Verdali\"],\"legendgroup\":\"MEAT 3\",\"marker\":{\"color\":\"#EF553B\",\"symbol\":\"circle\",\"line\":{\"color\":\"DarkSlateGrey\",\"width\":1},\"size\":9},\"mode\":\"markers\",\"name\":\"MEAT 3\",\"orientation\":\"v\",\"showlegend\":false,\"x\":[27.96939468383789,25.402515411376953,25.402515411376953,24.20085334777832,23.417991638183594,34.08222198486328,34.776832580566406,54.74958419799805,17.472593307495117,24.288562774658203,11.008129119873047,30.21050453186035,39.94679260253906,40.306461334228516,38.27962112426758,39.010528564453125,55.58786392211914,56.09697723388672],\"xaxis\":\"x\",\"y\":[-41.71982192993164,27.710805892944336,27.710805892944336,14.421340942382812,14.532033920288086,-2.1002378463745117,-2.052619695663452,-28.471477508544922,54.589603424072266,51.56443405151367,-19.895544052124023,30.116697311401367,31.54153823852539,32.06835174560547,36.84138488769531,36.74644088745117,-1.1569397449493408,-2.7256219387054443],\"yaxis\":\"y\",\"type\":\"scatter\"},{\"customdata\":[[\" 168.0\",\" 80.0\",\" 11.0\",\" 0.0\",\" 8.2\"],[\" 150.0\",\" 50.0\",\" 10.0\",\" 0.0\",\" 25.0\"],[\" 150.0\",\" 50.0\",\" 10.0\",\" 0.0\",\" 25.0\"],[\" 115.0\",\" 60.0\",\" 2.8\",\" 0.0\",\" 7.5\"],[\" 34.8\",\" 30.0\",\" 2.9\",\" 0.0\",\" 3.8\"],[\" 153.0\",\" 100.0\",\" 12.0\",\" 0.0\",\" 6.0\"],[\" 94.0\",\" 80.0\",\" 3.1\",\" 0.0\",\" 17.0\"],[\" 94.0\",\" 80.0\",\" 3.1\",\" 0.0\",\" 17.0\"],[\" 58.0\",\" 30.0\",\" 2.2\",\" 0.0\",\" 4.8\"],[\" 58.0\",\" 30.0\",\" 2.2\",\" 0.0\",\" 4.8\"],[\" 174.0\",\" 100.0\",\" 6.0\",\" 0.0\",\" 24.0\"],[\" 129.0\",\" 115.0\",\" 5.8\",\" 0.0\",\" 19.0\"],[\" 138.0\",\" 120.0\",\" 8.4\",\" 0.0\",\" 18.0\"]],\"hovertemplate\":\"<b>%{hovertext}</b><br><br>Classification (Label)=POULTRY 3<br>Kcal =%{customdata[0]}<br>Serving Size =%{customdata[1]}<br>Carbohydrate =%{customdata[2]}<br>Sugars =%{customdata[3]}<br>Proteins =%{customdata[4]}<extra></extra>\",\"hovertext\":[\"Frango do Futuro\",\"Fatias Sora Carne Branca\",\"Fil\\u00e9s Sora Carne Branca\",\"Strogonoff de Frango Vegabom\",\"Tiras de Frango New Butchers\",\"Fil\\u00e9 de Frango Desfiado Vegway\",\"Frango Veg e Tal Sadia\",\"Frango Veg e Tal Sadia Desfiado\",\"Peito de Peru de Soja\",\"Peito de Peru de Soja Vegano\",\"Tiras de Ave Verdali\",\"Fil\\u00e9 sem Frango Verdali\",\"Mini Fil\\u00e9 de Frango Verdali\"],\"legendgroup\":\"POULTRY 3\",\"marker\":{\"color\":\"#00CC96\",\"symbol\":\"circle\",\"line\":{\"color\":\"DarkSlateGrey\",\"width\":1},\"size\":9},\"mode\":\"markers\",\"name\":\"POULTRY 3\",\"orientation\":\"v\",\"showlegend\":false,\"x\":[28.647706985473633,27.72011375427246,26.94281578063965,34.634761810302734,8.44257640838623,56.11805725097656,-16.401336669921875,-16.401336669921875,21.8148136138916,13.593772888183594,37.93598556518555,51.941768646240234,49.93220901489258],\"xaxis\":\"x\",\"y\":[-41.328224182128906,28.080406188964844,29.46430778503418,-3.849853515625,-30.217514038085938,32.38232421875,0.09765928238630295,0.09765928238630295,63.05324172973633,62.056392669677734,-9.5027437210083,-4.132894515991211,-4.734091281890869],\"yaxis\":\"y\",\"type\":\"scatter\"},{\"customdata\":[[\" 139.0\",\" 50.0\",\" 7.7\",\" 0.0\",\" 5.7\"],[\" 78.0\",\" 35.0\",\" 6.0\",\" 0.0\",\" 4.0\"],[\" 78.0\",\" 35.0\",\" 6.0\",\" 0.0\",\" 4.0\"],[\" 156.0\",\" 65.0\",\" 8.0\",\" 0.0\",\" 11.0\"],[\" 115.0\",\" 80.0\",\" 3.6\",\" 0.0\",\" 9.7\"],[\" 44.0\",\" 30.0\",\" 0.5\",\" 0.0\",\" 5.1\"],[\" 58.0\",\" 30.0\",\" 1.7\",\" 0.0\",\" 5.1\"],[\" 93.0\",\" 50.0\",\" 1.9\",\" 0.0\",\" 8.1\"],[\" 58.0\",\" 30.0\",\" 4.3\",\" 0.0\",\" 2.4\"],[\" 96.0\",\" 50.0\",\" 1.8\",\" 0.0\",\" 8.8\"],[\" 60.0\",\" 40.0\",\" 1.4\",\" 0.0\",\" 7.6\"],[\" 43.0\",\" 40.0\",\" 1.8\",\" 0.0\",\" 4.9\"]],\"hovertemplate\":\"<b>%{hovertext}</b><br><br>Classification (Label)=PORK 1<br>Kcal =%{customdata[0]}<br>Serving Size =%{customdata[1]}<br>Carbohydrate =%{customdata[2]}<br>Sugars =%{customdata[3]}<br>Proteins =%{customdata[4]}<extra></extra>\",\"hovertext\":[\"Lingui\\u00e7a do Futuro\",\"Lingui\\u00e7a calabresa vegabom\",\"saltsicha de chickpea Vegabom\",\"Vegway Soy Sausage\",\"saltsichas Incriveis Seara\",\"Lingui\\u00e7a Apepperda de Soja Goshen\",\"Lingui\\u00e7a Calabresa de Soja Goshen\",\"Lingui\\u00e7a de Soja Vegana Goshen\",\"Lingui\\u00e7a Toscana de Soja Goshen\",\"saltsicha de Soja Vegana Goshen\",\"saltsicha Vegetal Superbom\",\"saltsicha Vegetal Defumada Superbom\"],\"legendgroup\":\"PORK 1\",\"marker\":{\"color\":\"#AB63FA\",\"symbol\":\"circle\",\"line\":{\"color\":\"DarkSlateGrey\",\"width\":1},\"size\":9},\"mode\":\"markers\",\"name\":\"PORK 1\",\"orientation\":\"v\",\"showlegend\":false,\"x\":[28.193445205688477,30.335142135620117,31.202939987182617,56.04468536376953,54.92290496826172,22.87946319580078,16.003131866455078,19.44289207458496,21.555734634399414,19.37942123413086,41.44572830200195,42.10517883300781],\"xaxis\":\"x\",\"y\":[-38.5467414855957,2.105707883834839,4.215604305267334,34.115989685058594,-26.229652404785156,62.34038543701172,60.958309173583984,64.27950286865234,62.06512451171875,63.38468551635742,39.41496658325195,40.18809509277344],\"yaxis\":\"y\",\"type\":\"scatter\"},{\"customdata\":[[\" 118.0\",\" 50.0\",\" 2.8\",\" 0.0\",\" 7.0\"],[\" 78.0\",\" 50.0\",\" 5.3\",\" 0.0\",\" 8.9\"],[\" 140.0\",\" 120.0\",\" 25.0\",\" 0.0\",\" 6.1\"],[\" 128.0\",\" 60.0\",\" 19.0\",\" 0.0\",\" 5.1\"],[\" 253.0\",\" 113.0\",\" 42.0\",\" 0.0\",\" 17.0\"],[\" 90.0\",\" 80.0\",\" 4.8\",\" 0.0\",\" 11.0\"],[\" 187.0\",\" 80.0\",\" 10.0\",\" 0.0\",\" 9.8\"],[\" 158.0\",\" 113.5\",\" 8.7\",\" 0.0\",\" 15.0\"],[\" 206.0\",\" 100.0\",\" 4.1\",\" 0.0\",\" 13.0\"],[\" 420.0\",\" 100.0\",\" 4.4\",\" 0.0\",\" 28.0\"],[\" 209.0\",\" 115.0\",\" 5.3\",\" 0.0\",\" 20.0\"],[\" 114.0\",\" 60.0\",\" 4.5\",\" 0.0\",\" 7.6\"],[\" 170.0\",\" 80.0\",\" 4.6\",\" 0.0\",\" 12.0\"],[\" 134.0\",\" 60.0\",\" 5.9\",\" 0.0\",\" 7.3\"],[\" 237.0\",\" 134.0\",\" 29.0\",\" 0.0\",\" 16.0\"],[\" 115.0\",\" 60.0\",\" 13.0\",\" 0.0\",\" 8.9\"],[\" 118.0\",\" 60.0\",\" 11.0\",\" 0.0\",\" 6.0\"],[\" 118.0\",\" 60.0\",\" 11.0\",\" 0.0\",\" 6.0\"],[\" 197.0\",\" 80.0\",\" 10.0\",\" 0.0\",\" 11.0\"],[\" 309.0\",\" 115.0\",\" 45.0\",\" 0.0\",\" 7.0\"],[\" 127.0\",\" 90.0\",\" 23.0\",\" 0.0\",\" 3.1\"],[\" 150.0\",\" 50.0\",\" 10.0\",\" 0.0\",\" 25.0\"],[\" 120.0\",\" 90.0\",\" 17.0\",\" 0.0\",\" 5.4\"],[\" 171.0\",\" 90.0\",\" 28.0\",\" 0.0\",\" 3.4\"],[\" 196.0\",\" 100.0\",\" 9.7\",\" 0.0\",\" 19.0\"],[\" 146.0\",\" 63.0\",\" 7.0\",\" 0.0\",\" 12.3\"],[\" 80.0\",\" 70.0\",\" 4.4\",\" 0.0\",\" 8.2\"],[\" 301.0\",\" 67.0\",\" 40.0\",\" 0.0\",\" 8.9\"],[\" 192.0\",\" 90.0\",\" 26.0\",\" 0.0\",\" 7.7\"],[\" 210.0\",\" 90.0\",\" 29.0\",\" 0.0\",\" 10.0\"],[\" 110.0\",\" 60.0\",\" 8.9\",\" 0.0\",\" 4.3\"],[\" 62.0\",\" 50.0\",\" 1.0\",\" 0.0\",\" 10.0\"],[\" 266.0\",\" 80.0\",\" 26.0\",\" 0.0\",\" 27.0\"],[\" 266.0\",\" 80.0\",\" 26.0\",\" 0.0\",\" 27.0\"]],\"hovertemplate\":\"<b>%{hovertext}</b><br><br>Classification (Label)=MEAT 1<br>Kcal =%{customdata[0]}<br>Serving Size =%{customdata[1]}<br>Carbohydrate =%{customdata[2]}<br>Sugars =%{customdata[3]}<br>Proteins =%{customdata[4]}<extra></extra>\",\"hovertext\":[\"Hamburguer de Soja Goshen\",\"Hamburguer de Soja Vegano Goshen\",\"Hamburguer de Quinoa Mr Veggy\",\"Hamburguer de lentil Mr Veggy\",\"Hamburguer vegano falafel amazonika mundi\",\"Hamburguer Vegetal Verdali\",\"VegBurger Sabor Carne\",\"Burger Gourmet Superbom\",\"Hamburguer Incr\\u00edvel Seara\",\"Not Burguer Notco\",\"Hamburguer de Fibra de Caju Amazonika Mundi\",\"Hamburguer Vegabom\",\"Hamburguer de Carne Veg  e Tal Sadia\",\"Hamburger New Butchers\",\"Hamburguer de Legumes Mr Veggy\",\"Hamburguer Vegetariano Mr Veggy\",\"Hambuguer Mr Veggy Mari Mari\",\"Hambuguer Mr Veggy Mari Mari Churrrasco\",\"Hamb\\u00farguer Fazenda Futuro 2.0\",\"Hamb\\u00farguer Vegano de Quinoa Amazonika Mundi\",\"Hamburguer Veggie Roots Tempero Indiano\",\"Hamb\\u00farguer Sora Carne Vermelha \",\"Hamburguer Veggie Roots brazilian spices\",\"Hamburguer veggie roots tempero mexicano\",\"Hamburguer de Soja Sabor Carne Vegway\",\"Hamb\\u00farguer de Soja Empanado Vegway\",\"Hamburguer Vegetal Superbom\",\"Hamburguer de chickpea Mr Veggy\",\"Hamburguer Veggie Roots Tempero \\u00c1rabe\",\"Hamburguer Veggie Roots Tempero Tail,\\u00eas\",\"Hamburguer Vegabom\",\"Hamb\\u00farguer Pronto Saud\\u00e1vel Sora\",\"hamburguer vegetal com herbs jasmine\",\"Hamburguer Vegetal Tradicional Jasmine\"],\"legendgroup\":\"MEAT 1\",\"marker\":{\"color\":\"#FFA15A\",\"symbol\":\"circle\",\"line\":{\"color\":\"DarkSlateGrey\",\"width\":1},\"size\":9},\"mode\":\"markers\",\"name\":\"MEAT 1\",\"orientation\":\"v\",\"showlegend\":false,\"x\":[23.03327751159668,17.889970779418945,22.914709091186523,2.7110729217529297,4.4133100509643555,38.856163024902344,-48.41065979003906,-22.625347137451172,52.531368255615234,-18.385345458984375,24.966388702392578,30.689451217651367,-7.775604248046875,9.60157585144043,22.700584411621094,23.475122451782227,17.606657028198242,17.31837272644043,26.48424530029297,-0.38966915011405945,4.180791854858398,25.402515411376953,7.533448696136475,8.311936378479004,56.84364700317383,60.02369689941406,37.83918380737305,2.556368827819824,8.413727760314941,8.05151653289795,26.595054626464844,24.005022048950195,-9.088127136230469,-8.515673637390137],\"xaxis\":\"x\",\"y\":[51.09965515136719,53.65720748901367,9.539133071899414,8.590410232543945,2.412010431289673,-10.477184295654297,12.670981407165527,3.2957582473754883,-26.905385971069336,1.411468267440796,-30.903797149658203,3.53094744682312,1.8945459127426147,-31.14256477355957,5.091581344604492,5.853152751922607,3.2800018787384033,3.8609507083892822,-39.123558044433594,-3.074603796005249,-7.137480735778809,27.710805892944336,-7.56616735458374,-7.23629093170166,32.04509735107422,35.45381546020508,32.98115921020508,7.20260763168335,-3.556442975997925,-4.786556720733643,4.610927104949951,15.853489875793457,-33.11491394042969,-33.391624450683594],\"yaxis\":\"y\",\"type\":\"scatter\"},{\"customdata\":[[\" 150.0\",\" 50.0\",\" 10.0\",\" 0.0\",\" 25.0\"],[\" 189.0\",\" 80.0\",\" 11.0\",\" 0.0\",\" 9.8\"],[\" 173.0\",\" 80.0\",\" 3.6\",\" 0.0\",\" 13.0\"],[\" 129.0\",\" 100.0\",\" 2.4\",\" 0.0\",\" 7.0\"],[\" 96.0\",\" 80.0\",\" 4.8\",\" 0.0\",\" 11.0\"]],\"hovertemplate\":\"<b>%{hovertext}</b><br><br>Classification (Label)=POULTRY 2<br>Kcal =%{customdata[0]}<br>Serving Size =%{customdata[1]}<br>Carbohydrate =%{customdata[2]}<br>Sugars =%{customdata[3]}<br>Proteins =%{customdata[4]}<extra></extra>\",\"hovertext\":[\"Hamb\\u00farguer Sora Carne Branca\",\"VegBurger Sabor Frango\",\"Hambuguer Incr\\u00edvel Seara Frango\",\"Frango Vegano em Peda\\u00e7os \\u00e0 Base de pea\",\"Hamb\\u00farguer de Frango Verdali\"],\"legendgroup\":\"POULTRY 2\",\"marker\":{\"color\":\"#19D3F3\",\"symbol\":\"circle\",\"line\":{\"color\":\"DarkSlateGrey\",\"width\":1},\"size\":9},\"mode\":\"markers\",\"name\":\"POULTRY 2\",\"orientation\":\"v\",\"showlegend\":false,\"x\":[28.127124786376953,-48.98418426513672,53.464576721191406,-21.913959503173828,50.8134765625],\"xaxis\":\"x\",\"y\":[29.230329513549805,12.944890975952148,-25.737548828125,2.954705238342285,-4.4988603591918945],\"yaxis\":\"y\",\"type\":\"scatter\"},{\"customdata\":[[\" 116.0\",\" 60.0\",\" 2.9\",\" 0.0\",\" 7.9\"],[\" 116.0\",\" 60.0\",\" 2.9\",\" 0.0\",\" 7.9\"],[\" 198.0\",\" 100.0\",\" 14.0\",\" 0.0\",\" 15.0\"],[\" 449.0\",\" 130.0\",\" 31.0\",\" 0.0\",\" 12.0\"],[\" 291.0\",\" 130.0\",\" 29.0\",\" 0.0\",\" 17.0\"],[\" 127.0\",\" 40.0\",\" 4.9\",\" 0.0\",\" 6.5\"],[\" 94.0\",\" 40.0\",\" 3.4\",\" 0.0\",\" 6.7\"],[\" 61.0\",\" 40.0\",\" 3.0\",\" 0.0\",\" 7.2\"],[\" 330.0\",\" 130.0\",\" 32.0\",\" 0.0\",\" 13.0\"],[\" 210.0\",\" 80.0\",\" 32.0\",\" 0.0\",\" 8.0\"],[\" 178.0\",\" 130.0\",\" 21.5\",\" 0.0\",\" 13.4\"],[\" 110.0\",\" 80.0\",\" 13.0\",\" 0.0\",\" 8.5\"],[\" 188.0\",\" 100.0\",\" 24.0\",\" 0.0\",\" 13.0\"],[\" 188.0\",\" 100.0\",\" 24.0\",\" 0.0\",\" 13.0\"]],\"hovertemplate\":\"<b>%{hovertext}</b><br><br>Classification (Label)=POULTRY 1<br>Kcal =%{customdata[0]}<br>Serving Size =%{customdata[1]}<br>Carbohydrate =%{customdata[2]}<br>Sugars =%{customdata[3]}<br>Proteins =%{customdata[4]}<extra></extra>\",\"hovertext\":[\"Empanado de Frango Vegabom\",\"Fil\\u00e9 de Frango Empanado Vegabom\",\"Empanados de Frango Vegway\",\"Empanados Incr\\u00edveis Seara\",\"Empanados Sadia Veg e Tal\",\"Empanadinho de Soja  Goshen\",\"Empanadinho de Soja Vegano  Goshen\",\"Steak de Soja Vegano Goshen\",\"Empanado Vegano Mini Crispy 100 Foods\",\"Crispy Chicken 100 Foods\",\"Mini Empanado de Legumes Superbom\",\"Steak Vegan Sabor Legumes Superbom\",\"Steak Veg\\u00ea Sabor Frango\",\"Steak Veg\\u00ea Sabor Frango Empanado\"],\"legendgroup\":\"POULTRY 1\",\"marker\":{\"color\":\"#FF6692\",\"symbol\":\"circle\",\"line\":{\"color\":\"DarkSlateGrey\",\"width\":1},\"size\":9},\"mode\":\"markers\",\"name\":\"POULTRY 1\",\"orientation\":\"v\",\"showlegend\":false,\"x\":[35.53002166748047,35.53002166748047,58.04310989379883,44.28313446044922,43.16698455810547,26.261430740356445,26.67962074279785,25.96124267578125,37.67986297607422,37.03057098388672,-11.101810455322266,-10.521811485290527,-19.378934860229492,-18.90091896057129],\"xaxis\":\"x\",\"y\":[1.8120886087417603,1.8120886087417603,29.883853912353516,-23.288557052612305,-23.026151657104492,51.027671813964844,52.816062927246094,52.08361053466797,-20.10447883605957,-20.091699600219727,8.34619140625,8.610544204711914,-25.040437698364258,-24.59181022644043],\"yaxis\":\"y\",\"type\":\"scatter\"},{\"customdata\":[[\" 116.0\",\" 60.0\",\" 3.6\",\" 0.0\",\" 7.5\"],[\" 116.0\",\" 60.0\",\" 3.6\",\" 0.0\",\" 7.5\"],[\" 206.0\",\" 100.0\",\" 28.0\",\" 0.0\",\" 8.0\"],[\" 41.0\",\" 40.0\",\" 7.0\",\" 0.0\",\" 1.6\"],[\" 82.0\",\" 30.0\",\" 3.5\",\" 0.0\",\" 4.0\"]],\"hovertemplate\":\"<b>%{hovertext}</b><br><br>Classification (Label)=FISH 2<br>Kcal =%{customdata[0]}<br>Serving Size =%{customdata[1]}<br>Carbohydrate =%{customdata[2]}<br>Sugars =%{customdata[3]}<br>Proteins =%{customdata[4]}<extra></extra>\",\"hovertext\":[\"Fil\\u00e9 Peixe Empanado Vegabom\",\"Tirinhas de Peixe Empanado Vegabom\",\"Bolinho de Bacalhau New Butchers\",\"Bolinho de Siri Amazonika Mundi\",\"Camar\\u00e3o de Soja Vegano Goshen\"],\"legendgroup\":\"FISH 2\",\"marker\":{\"color\":\"#B6E880\",\"symbol\":\"circle\",\"line\":{\"color\":\"DarkSlateGrey\",\"width\":1},\"size\":9},\"mode\":\"markers\",\"name\":\"FISH 2\",\"orientation\":\"v\",\"showlegend\":false,\"x\":[37.04923629760742,37.04923629760742,5.585995674133301,1.2213201522827148,17.22491455078125],\"xaxis\":\"x\",\"y\":[2.5167510509490967,2.5167510509490967,-32.959774017333984,-8.40471363067627,60.12793731689453],\"yaxis\":\"y\",\"type\":\"scatter\"},{\"customdata\":[[\" 124.0\",\" 50.0\",\" 5.1\",\" 0.0\",\" 0.0\"],[\" 124.0\",\" 50.0\",\" 5.1\",\" 0.0\",\" 0.0\"],[\" 124.0\",\" 50.0\",\" 5.1\",\" 0.0\",\" 0.0\"],[\" 31.0\",\" 10.0\",\" 0.6\",\" 0.0\",\" 0.3\"],[\" 25.0\",\" 10.0\",\" 0.7\",\" 0.0\",\" 0.3\"],[\" 29.0\",\" 10.0\",\" 0.7\",\" 0.0\",\" 0.3\"],[\" 30.0\",\" 10.0\",\" 0.7\",\" 0.0\",\" 0.3\"],[\" 178.0\",\" 100.0\",\" 8.7\",\" 0.0\",\" 8.4\"],[\" 178.0\",\" 100.0\",\" 8.7\",\" 0.0\",\" 8.4\"],[\" 280.0\",\" 100.0\",\" 23.3\",\" 0.0\",\" 3.0\"],[\" 170.0\",\" 100.0\",\" 6.0\",\" 0.0\",\" 4.7\"],[\" 170.0\",\" 100.0\",\" 6.0\",\" 0.0\",\" 4.7\"],[\" 82.0\",\" 30.0\",\" 2.7\",\" 0.0\",\" 1.5\"],[\" 83.0\",\" 30.0\",\" 2.9\",\" 0.0\",\" 1.5\"],[\" 95.0\",\" 30.0\",\" 9.1\",\" 0.0\",\" 2.0\"],[\" 89.0\",\" 30.0\",\" 8.2\",\" 0.0\",\" 1.9\"],[\" 93.0\",\" 30.0\",\" 8.8\",\" 0.0\",\" 1.9\"],[\" 83.0\",\" 30.0\",\" 2.3\",\" 0.0\",\" 1.6\"],[\" 83.0\",\" 30.0\",\" 2.3\",\" 0.0\",\" 1.6\"],[\" 83.0\",\" 30.0\",\" 2.3\",\" 0.0\",\" 1.6\"],[\" 581.0\",\" 100.0\",\" 30.2\",\" 0.0\",\" 18.2\"],[\" 581.0\",\" 100.0\",\" 30.2\",\" 0.0\",\" 18.2\"],[\" 59.0\",\" 30.0\",\" 2.0\",\" 0.0\",\" 0.9\"],[\" 43.0\",\" 30.0\",\" 1.2\",\" 0.0\",\" 0.8\"],[\" 100.0\",\" 30.0\",\" 5.4\",\" 0.0\",\" 2.9\"],[\" 43.0\",\" 30.0\",\" 1.2\",\" 0.0\",\" 0.8\"],[\" 394.0\",\" 100.0\",\" 23.0\",\" 0.0\",\" 13.0\"],[\" 30.0\",\" 12.0\",\" 3.0\",\" 0.0\",\" 0.7\"],[\" 62.8\",\" 20.0\",\" 3.6\",\" 0.0\",\" 2.0\"],[\" 57.1\",\" 20.0\",\" 3.4\",\" 0.0\",\" 1.9\"],[\" 68.4\",\" 20.0\",\" 3.8\",\" 0.0\",\" 2.1\"],[\" 62.8\",\" 20.0\",\" 3.6\",\" 0.0\",\" 2.0\"],[\" 89.0\",\" 30.0\",\" 6.4\",\" 0.0\",\" 0.0\"],[\" 72.0\",\" 30.0\",\" 2.9\",\" 0.0\",\" 1.0\"],[\" 58.0\",\" 30.0\",\" 3.5\",\" 0.0\",\" 1.0\"],[\" 71.0\",\" 30.0\",\" 2.8\",\" 0.0\",\" 0.9\"],[\" 78.0\",\" 30.0\",\" 3.4\",\" 0.0\",\" 1.0\"],[\" 76.0\",\" 30.0\",\" 3.4\",\" 0.0\",\" 0.9\"],[\" 36.0\",\" 15.0\",\" 1.0\",\" 0.0\",\" 0.3\"],[\" 38.0\",\" 10.0\",\" 0.8\",\" 0.0\",\" 0.3\"],[\" 51.0\",\" 15.0\",\" 3.8\",\" 0.0\",\" 0.7\"],[\" 36.0\",\" 15.0\",\" 1.2\",\" 0.0\",\" 0.4\"],[\" 47.0\",\" 15.0\",\" 2.8\",\" 0.0\",\" 0.1\"],[\" 47.0\",\" 15.0\",\" 2.8\",\" 0.0\",\" 0.1\"],[\" 49.0\",\" 15.0\",\" 3.1\",\" 0.0\",\" 0.1\"]],\"hovertemplate\":\"<b>%{hovertext}</b><br><br>Classification (Label)=DAIRY 3<br>Kcal =%{customdata[0]}<br>Serving Size =%{customdata[1]}<br>Carbohydrate =%{customdata[2]}<br>Sugars =%{customdata[3]}<br>Proteins =%{customdata[4]}<extra></extra>\",\"hovertext\":[\"Queijo Mu\\u00e7arela Vegabom\",\"Queijo Picante Vegabom\",\"Queijo Cheddar Vegabom\",\"Requeisoy Provolone \",\"Requeisoy Cheddar' \",\"Requeisoy Tradicional\",\"Requeisoy Gorgonzola\",\"Okeijo R\\u00fastico\",\"Okeijo Cremoso\",\"Okeijo Gratinado\",\"Okeijo Mussarela\",\"Okeijo Provolone\",\"Creme s Vida Veg\",\"Creme s fine herbs e Pesto\",\"Queijo mu\\u00e7arela\",\"Queijo minas frescal\",\"Queijo minas padr\\u00e3o\",\"Requeij\\u00e3o Tradicional\",\"Requeij\\u00e3o fine herbs\",\"Requeij\\u00e3o Defumado\",\"Queijo Zimurisku \",\"Queijo Zimurisku Temperado\",\"Queijo Mozarela NoMoo\",\"Queijo Provolone\",\"Queijo Ch\\u00e9vre\",\"Queijo Prato\",\"Queijo Parmes\\u00e3o\",\"Requeij\\u00e3o Nomoo\",\"Queijo Gorgolino\",\"Queijo Melhor Que Cheddar\",\"Queijo Recaishow\",\"Queijo Brie\",\"Mussarela Vegana Goshen\",\"Queijo ProVolone Veganita\",\"Queijo Munster Veganita\",\"Queijo Brie Veganita\",\"Queijo Mussarela Veganita\",\"Queijo Cheddar Veganita\",\"CREAM CHEESE CULIN\\u00c1RIO BASI.CO\",\"REQUEIJ\\u00c3O VEGETAL\",\"QUEIJO PARMES\\u00c3O\",\"QUEIJO MINAS VEGETAL\",\"QUEIJO PRATO\",\"QUEIJO MU\\u00c7ARELA\",\"QUEIJO CHEDDAR\"],\"legendgroup\":\"DAIRY 3\",\"marker\":{\"color\":\"#FF97FF\",\"symbol\":\"circle\",\"line\":{\"color\":\"DarkSlateGrey\",\"width\":1},\"size\":9},\"mode\":\"markers\",\"name\":\"DAIRY 3\",\"orientation\":\"v\",\"showlegend\":false,\"x\":[20.283763885498047,20.283763885498047,20.283763885498047,-17.758745193481445,-17.04375648498535,-16.020076751708984,-16.567081451416016,2.4589107036590576,3.1036157608032227,-23.328941345214844,-33.505859375,-33.505859375,-51.9161491394043,-52.60483932495117,-52.636966705322266,-53.17218017578125,-53.38206100463867,-52.797420501708984,-53.434749603271484,-54.55971908569336,-12.413680076599121,-12.002341270446777,-32.81438064575195,-32.814109802246094,-25.14855194091797,-33.9366340637207,-24.65703010559082,-28.1530704498291,-32.91755294799805,2.050356864929199,-32.60244369506836,-24.48558235168457,1.131403923034668,-29.96493148803711,-28.875577926635742,-29.506057739257812,-30.566177368164062,-30.9659366607666,-19.891464233398438,-19.93613052368164,-19.696434020996094,-20.296478271484375,-14.164748191833496,-14.31328296661377,-14.99551773071289],\"xaxis\":\"x\",\"y\":[-15.343971252441406,-15.343971252441406,-15.343971252441406,45.058998107910156,46.328792572021484,45.55684280395508,44.59000778198242,4.265107154846191,3.8296961784362793,14.58091926574707,29.751127243041992,29.751127243041992,22.38335609436035,20.198688507080078,27.564794540405273,25.757404327392578,27.62745475769043,22.74146270751953,21.09024429321289,22.429285049438477,-19.740880966186523,-20.28204345703125,22.077106475830078,23.36283302307129,17.47911262512207,21.423763275146484,16.394140243530273,22.999082565307617,12.719762802124023,-22.252910614013672,13.323066711425781,18.982282638549805,-11.822616577148438,21.372026443481445,20.81728172302246,19.574609756469727,20.325159072875977,18.37529182434082,27.347078323364258,28.17037582397461,25.681419372558594,11.98414134979248,21.039941787719727,22.084911346435547,22.65216064453125],\"yaxis\":\"y\",\"type\":\"scatter\"},{\"customdata\":[[\" 146.0\",\" 90.0\",\" 12.1\",\" 0.0\",\" 11.9\"],[\" 327.0\",\" 240.0\",\" 41.0\",\" 0.0\",\" 11.0\"],[\" 317.0\",\" 100.0\",\" 17.0\",\" 0.0\",\" 13.0\"],[\" 153.0\",\" 100.0\",\" 12.0\",\" 0.0\",\" 6.0\"],[\" 138.0\",\" 100.0\",\" 19.0\",\" 0.0\",\" 2.0\"],[\" 304.0\",\" 300.0\",\" 19.0\",\" 0.0\",\" 21.0\"],[\" 440.0\",\" 130.0\",\" 31.0\",\" 0.0\",\" 12.0\"],[\" 166.0\",\" 80.0\",\" 7.1\",\" 0.0\",\" 12.0\"]],\"hovertemplate\":\"<b>%{hovertext}</b><br><br>Classification (Label)=FISH 1<br>Kcal =%{customdata[0]}<br>Serving Size =%{customdata[1]}<br>Carbohydrate =%{customdata[2]}<br>Sugars =%{customdata[3]}<br>Proteins =%{customdata[4]}<extra></extra>\",\"hovertext\":[\"Fil\\u00e9 de saltm\\u00e3o New Butchers\",\"Bacalhau New  Butchers\",\"Isca de Peixe Vegway\",\"Fil\\u00e9 de Peixe Vegway\",\"Vieira de Soja Vegway\",\"Bacalhau Incr\\u00edvel Seara\",\"Iscas de Peixe Incr\\u00edvel Seara\",\"Atum do Futuro\"],\"legendgroup\":\"FISH 1\",\"marker\":{\"color\":\"#FECB52\",\"symbol\":\"circle\",\"line\":{\"color\":\"DarkSlateGrey\",\"width\":1},\"size\":9},\"mode\":\"markers\",\"name\":\"FISH 1\",\"orientation\":\"v\",\"showlegend\":false,\"x\":[7.101922035217285,6.10270357131958,55.80925369262695,55.646541595458984,53.90223693847656,53.141109466552734,43.98368835449219,24.53142547607422],\"xaxis\":\"x\",\"y\":[-31.356229782104492,-33.917484283447266,29.594045639038086,30.928237915039062,32.66521453857422,-28.565410614013672,-22.21210289001465,-39.33043670654297],\"yaxis\":\"y\",\"type\":\"scatter\"},{\"customdata\":[[\" 78.0\",\" 40.0\",\" 3.9\",\" 0.0\",\" 7.4\"],[\" 185.0\",\" 60.0\",\" 31.0\",\" 0.0\",\" 1.1\"],[\" 34.0\",\" 20.0\",\" 0.2\",\" 0.0\",\" 3.4\"],[\" 75.0\",\" 40.0\",\" 3.6\",\" 0.0\",\" 7.6\"],[\" 35.0\",\" 20.0\",\" 0.4\",\" 0.0\",\" 3.9\"],[\" 476.0\",\" 100.0\",\" 14.0\",\" 0.0\",\" 42.0\"]],\"hovertemplate\":\"<b>%{hovertext}</b><br><br>Classification (Label)=PORK 2<br>Kcal =%{customdata[0]}<br>Serving Size =%{customdata[1]}<br>Carbohydrate =%{customdata[2]}<br>Sugars =%{customdata[3]}<br>Proteins =%{customdata[4]}<extra></extra>\",\"hovertext\":[\"Presunto de Soja Vegway\",\"Bacon Vegano\",\"Mortadela de Soja Vegana Goshen\",\"Presunto de Soja Defumado\",\"Presunto de Soja Vegano Fatiado Goshen\",\"Bacon Crispy Verdali\"],\"legendgroup\":\"PORK 2\",\"marker\":{\"color\":\"rgb(127, 60, 141)\",\"symbol\":\"circle\",\"line\":{\"color\":\"DarkSlateGrey\",\"width\":1},\"size\":9},\"mode\":\"markers\",\"name\":\"PORK 2\",\"orientation\":\"v\",\"showlegend\":false,\"x\":[58.45786666870117,4.8122782707214355,14.462013244628906,18.627872467041016,14.24324893951416,57.28371810913086],\"xaxis\":\"x\",\"y\":[32.74083709716797,-22.763505935668945,61.377620697021484,52.407108306884766,60.01612854003906,-2.907810926437378],\"yaxis\":\"y\",\"type\":\"scatter\"},{\"customdata\":[[\" 92.0\",\" 250.0\",\" 3.7\",\" 2.0\",\" 3.2\"],[\" 60.0\",\" 250.0\",\" 3.4\",\" 2.0\",\" 3.2\"],[\" 68.0\",\" 200.0\",\" 0.9\",\" 0.0\",\" 3.0\"],[\" 53.0\",\" 200.0\",\" 0.0\",\" 0.0\",\" 3.0\"],[\" 70.0\",\" 200.0\",\" 1.0\",\" 0.0\",\" 3.0\"],[\" 88.0\",\" 200.0\",\" 4.0\",\" 0.0\",\" 3.0\"],[\" 58.0\",\" 200.0\",\" 0.8\",\" 0.0\",\" 3.0\"],[\" 108.0\",\" 200.0\",\" 13.0\",\" 0.0\",\" 1.1\"],[\" 145.0\",\" 200.0\",\" 18.0\",\" 0.0\",\" 1.5\"],[\" 117.0\",\" 200.0\",\" 27.0\",\" 10.0\",\" 0.0\"],[\" 111.0\",\" 200.0\",\" 20.0\",\" 9.4\",\" 0.0\"],[\" 117.0\",\" 200.0\",\" 27.0\",\" 10.0\",\" 1.0\"],[\" 145.0\",\" 200.0\",\" 18.0\",\" 0.0\",\" 1.5\"],[\" 117.0\",\" 200.0\",\" 27.0\",\" 10.0\",\" 0.0\"],[\" 134.0\",\" 200.0\",\" 27.0\",\" 10.0\",\" 4.6\"],[\" 72.0\",\" 200.0\",\" 11.0\",\" 8.9\",\" 1.1\"],[\" 113.0\",\" 200.0\",\" 7.5\",\" 6.7\",\" 7.0\"],[\" 79.0\",\" 200.0\",\" 12.0\",\" 10.0\",\" 1.2\"],[\" 91.0\",\" 200.0\",\" 15.0\",\" 10.0\",\" 1.1\"],[\" 84.0\",\" 200.0\",\" 16.0\",\" 9.4\",\" 2.0\"],[\" 104.0\",\" 260.0\",\" 20.0\",\" 12.0\",\" 3.0\"],[\" 79.0\",\" 25.0\",\" 8.6\",\" 3.1\",\" 7.3\"],[\" 73.0\",\" 25.0\",\" 11.0\",\" 3.2\",\" 5.0\"],[\" 120.0\",\" 200.0\",\" 15.0\",\" 11.0\",\" 4.8\"],[\" 97.0\",\" 200.0\",\" 8.4\",\" 5.9\",\" 2.3\"],[\" 66.0\",\" 200.0\",\" 10.0\",\" 7.3\",\" 2.7\"],[\" 99.0\",\" 200.0\",\" 16.0\",\" 11.5\",\" 4.1\"],[\" 104.0\",\" 200.0\",\" 18.0\",\" 12.6\",\" 3.6\"],[\" 82.0\",\" 200.0\",\" 14.0\",\" 8.8\",\" 3.3\"],[\" 97.0\",\" 200.0\",\" 8.4\",\" 5.9\",\" 2.3\"],[\" 51.0\",\" 200.0\",\" 6.3\",\" 6.3\",\" 0.9\"],[\" 98.0\",\" 200.0\",\" 17.0\",\" 17.0\",\" 1.3\"],[\" 70.0\",\" 200.0\",\" 11.0\",\" 11.0\",\" 0.9\"],[\" 30.0\",\" 200.0\",\" 0.9\",\" 0.9\",\" 0.9\"],[\" 58.0\",\" 200.0\",\" 8.5\",\" 0.0\",\" 0.9\"],[\" 44.0\",\" 250.0\",\" 1.4\",\" 1.4\",\" 1.6\"],[\" 21.0\",\" 200.0\",\" 4.7\",\" 0.0\",\" 1.0\"],[\" 48.0\",\" 200.0\",\" 6.8\",\" 4.0\",\" 6.8\"],[\" 59.0\",\" 200.0\",\" 7.5\",\" 0.0\",\" 0.9\"],[\" 84.0\",\" 200.0\",\" 15.0\",\" 0.0\",\" 1.2\"],[\" 55.0\",\" 200.0\",\" 4.7\",\" 0.0\",\" 0.0\"],[\" 74.0\",\" 200.0\",\" 15.0\",\" 0.0\",\" 0.0\"],[\" 74.0\",\" 200.0\",\" 15.0\",\" 0.0\",\" 0.0\"],[\" 74.0\",\" 200.0\",\" 15.0\",\" 0.0\",\" 0.0\"],[\" 74.0\",\" 200.0\",\" 15.0\",\" 0.0\",\" 0.0\"],[\" 74.0\",\" 200.0\",\" 15.0\",\" 0.0\",\" 0.0\"],[\" 74.0\",\" 200.0\",\" 15.0\",\" 0.0\",\" 0.0\"],[\" 74.0\",\" 200.0\",\" 15.0\",\" 0.0\",\" 0.0\"],[\" 114.0\",\" 30.0\",\" 25.0\",\" 0.0\",\" 2.0\"],[\" 114.0\",\" 30.0\",\" 25.0\",\" 0.0\",\" 2.0\"],[\" 114.0\",\" 30.0\",\" 25.0\",\" 0.0\",\" 2.0\"],[\" 114.0\",\" 30.0\",\" 25.0\",\" 0.0\",\" 2.0\"],[\" 114.0\",\" 30.0\",\" 25.0\",\" 0.0\",\" 2.0\"],[\" 78.0\",\" 200.0\",\" 8.5\",\" 2.8\",\" 2.4\"],[\" 90.0\",\" 200.0\",\" 3.0\",\" 0.9\",\" 3.0\"],[\" 80.0\",\" 200.0\",\" 3.1\",\" 0.8\",\" 2.0\"],[\" 57.0\",\" 200.0\",\" 1.7\",\" 0.4\",\" 1.9\"],[\" 150.0\",\" 200.0\",\" 18.0\",\" 0.0\",\" 3.0\"],[\" 75.0\",\" 200.0\",\" 16.0\",\" 6.3\",\" 0.0\"],[\" 100.0\",\" 200.0\",\" 2.3\",\" 0.8\",\" 7.0\"],[\" 80.0\",\" 200.0\",\" 3.3\",\" 0.9\",\" 2.1\"],[\" 109.0\",\" 200.0\",\" 3.1\",\" 0.1\",\" 5.4\"],[\" 29.0\",\" 200.0\",\" 0.7\",\" 0.0\",\" 0.7\"],[\" 36.0\",\" 200.0\",\" 1.3\",\" 0.0\",\" 1.3\"],[\" 23.0\",\" 200.0\",\" 4.0\",\" 0.0\",\" 0.8\"],[\" 82.0\",\" 200.0\",\" 2.2\",\" 0.4\",\" 1.6\"],[\" 106.0\",\" 200.0\",\" 3.0\",\" 0.5\",\" 3.0\"],[\" 86.0\",\" 200.0\",\" 3.0\",\" 0.5\",\" 3.0\"],[\" 41.0\",\" 200.0\",\" 5.0\",\" 4.2\",\" 0.8\"],[\" 80.0\",\" 200.0\",\" 12.0\",\" 9.3\",\" 1.5\"],[\" 26.0\",\" 200.0\",\" 1.0\",\" 0.3\",\" 0.7\"],[\" 27.0\",\" 200.0\",\" 1.0\",\" 0.2\",\" 0.8\"],[\" 71.0\",\" 200.0\",\" 11.0\",\" 8.9\",\" 1.1\"],[\" 99.0\",\" 200.0\",\" 14.0\",\" 9.6\",\" 2.2\"],[\" 106.0\",\" 200.0\",\" 19.0\",\" 17.0\",\" 2.2\"],[\" 93.0\",\" 200.0\",\" 16.0\",\" 8.9\",\" 1.1\"],[\" 95.0\",\" 200.0\",\" 12.0\",\" 0.0\",\" 5.4\"],[\" 123.0\",\" 200.0\",\" 4.8\",\" 0.0\",\" 5.1\"],[\" 108.0\",\" 200.0\",\" 5.4\",\" 0.0\",\" 3.8\"],[\" 84.0\",\" 200.0\",\" 3.9\",\" 0.0\",\" 2.8\"]],\"hovertemplate\":\"<b>%{hovertext}</b><br><br>Classification (Label)=DAIRY 1<br>Kcal =%{customdata[0]}<br>Serving Size =%{customdata[1]}<br>Carbohydrate =%{customdata[2]}<br>Sugars =%{customdata[3]}<br>Proteins =%{customdata[4]}<extra></extra>\",\"hovertext\":[\"Not Milk \",\"Not Milk Semidesnatado\",\" Vegetal de almonds\",\" vegetal \",\" Vegetal de almonds Fresco\",\" Vegetal  de Caj\\u00fa Fresco\",\" Vegetal  Fresco\",\" Vegetal Noats Original\",\" Vegetal Noats Barista\",\" Jasmine rice powder\",\" BIOV jasmine rice com amendoas\",\" BIOV jasmine rice com coco\",\" BioV oats Jasmine\",\" Jasmine rice \",\" Jasmine rice com oats\",\"Bebida de rice Nesfit\",\"Bebida Natural Nesfit\",\"Bebida de rice  e Amendoas Nesfit\",\"Bebida de rice e Coco Nesfit\",\"Bebida de oats Nesfit\",\"Bebida de oats e cocoa\",\"Molico Vegetal Nestl\\u00e9\",\"Ninho Vegetal Nestl\\u00e9\",\"Ninho Banana e apple Nestl\\u00e9\",\"Nude Edi\\u00e7\\u00e3o Barista\",\"Nude Original \",\"Nude Sabor Baunilha\",\"Nude de cocoa\",\"Nude + calcium\",\"Nude Barista\",\"Almond Breeze Original\",\"Almond Breeze Chocolate\",\"Almond Breeze Baunilha\",\"Almond Breeze Sem sugar\",\"Almond Breeze Amendoas com Coco\",\"Almond Breeze Chocolate Sem sugar\",\" de Amendoas Silk Sem sugar\",\" de Amendoas Silk \",\" cashews Silk\",\" de almonds e cocoa Silk\",\" de almonds Silk Coco\",\"Bebida de rice L\\u00edquida Sabor Original\",\"Bebida de rice L\\u00edquida Sabor almonds\",\"Bebida de rice L\\u00edquida Sabor peanuts\\n\",\"Bebida de rice L\\u00edquida Sabor cashews\",\"Bebida de rice L\\u00edquida Sabor Chocolate\",\"Bebida de rice L\\u00edquida Sabor Coco\",\"Bebida de rice L\\u00edquida Sabor Baunilha\",\"Bebida de rice powder Sabor Original\",\"Bebida de rice powder Sabor Original\",\"Bebida de rice powder Sabor Banana e apple\",\"Bebida de rice powder Sabor Chocolate\",\"Bebida de rice powder Sabor strawberries\",\" a tal da castanha barista\",\" a tal da castanha original\",\" a tal da castanha caju + Coco\",\" a tal da castanha almonds\",\" a tal da castanha castanha + cocoa\",\" a tal da castanha oats\",\" a tal da castanha mixed nuts\",\" a tal da castanha caju + Par\\u00e1\",\" a tal da castanha caju + peanuts\",\" Natuterra oats + Coco\",\" de almonds Natuterra\",\" Natuterra oats \",\" Vegetal 3 Nuts \\u2013 macadamia nuts, almonds e cashews\",\" Vegetal de macadamia nuts e Coco\",\" Vegetal de macadamia nuts e cashews\",\" Vegetal Possible Foods\",\" Vegetal Possible Foods Chocolate\",\"Bebida de castanh de caj\\u00fa sem adi\\u00e7\\u00e3o de sugar nature's heart\",\"Bebida de almonds s/ adi\\u00e7\\u00e3o de sugares 1L \\u2013 Nature\\u2019s Heart\",\"Bebida de rice s/ adi\\u00e7\\u00e3o de sugares 1L \\u2013 Nature\\u2019s Heart\",\"Bebida de oats s/ adi\\u00e7\\u00e3o de sugares 1L \\u2013 Nature\\u2019s Heart\",\"Bebida de cocoa & rice 1L \\u2013 Nature\\u2019s Heart\",\"Bebida  & rice s/ adi\\u00e7\\u00e3o de sugares 1L \\u2013 Nature\\u2019s Heart\",\" Vegetal de soy Naturis Batavo\",\" DUOLAT peanuts E CASTANHA 1L - CAJUEIRO\",\" 85 CASTANHAS 1L - CAJUEIRO\",\" TOASTED 1L - CAJUEIRO\"],\"legendgroup\":\"DAIRY 1\",\"marker\":{\"color\":\"rgb(17, 165, 121)\",\"symbol\":\"circle\",\"line\":{\"color\":\"DarkSlateGrey\",\"width\":1},\"size\":9},\"mode\":\"markers\",\"name\":\"DAIRY 1\",\"orientation\":\"v\",\"showlegend\":false,\"x\":[-16.698665618896484,-16.521949768066406,-5.501917362213135,-7.338935852050781,-6.2320661544799805,-7.966415882110596,-7.273482799530029,-7.943328380584717,-8.645508766174316,-42.7084846496582,-25.544179916381836,-41.68660354614258,-7.283770561218262,-42.7084846496582,-42.44432830810547,-39.32109069824219,-5.6371259689331055,-44.209259033203125,-44.65206527709961,-38.51841735839844,-37.15803146362305,-19.969820022583008,-18.869686126708984,-19.492948532104492,-9.969672203063965,-0.17612214386463165,-1.1388739347457886,-1.1530330181121826,-2.9001619815826416,-9.969672203063965,-73.9189682006836,-72.9500503540039,-72.87996673583984,-75.40052795410156,-74.3428955078125,-75.70491790771484,-27.17583465576172,-28.256549835205078,-25.952991485595703,-29.40203094482422,-27.66866683959961,-28.772747039794922,-27.924640655517578,-29.203323364257812,-28.57181167602539,-30.149545669555664,-29.880748748779297,-29.31586265563965,-26.082605361938477,-25.830900192260742,-29.40269660949707,-29.976091384887695,-30.67864418029785,-2.061647891998291,-0.8230448365211487,-0.47491803765296936,-5.619547367095947,-2.695119619369507,-4.404946804046631,3.1201441287994385,1.934370756149292,-3.7112390995025635,-5.230982780456543,-6.262376308441162,-6.375348091125488,-3.803295850753784,-0.9667811989784241,-2.5332770347595215,-6.3920087814331055,-6.898858070373535,-48.949684143066406,-49.64750671386719,-50.05065155029297,-50.87038803100586,-50.253387451171875,-49.50749969482422,1.6637524366378784,-2.8648414611816406,0.2972172200679779,-0.2973191738128662],\"xaxis\":\"x\",\"y\":[-8.828453063964844,-9.437461853027344,-66.02378845214844,-66.1915283203125,-64.67292785644531,-63.69355773925781,-64.95002746582031,-0.6430119276046753,-1.9580514430999756,-9.11895751953125,-11.237166404724121,-8.204339027404785,-0.033284761011600494,-9.11895751953125,-6.998141765594482,-18.52828598022461,-22.90822410583496,-20.31308364868164,-20.81224250793457,-18.668094635009766,-18.912961959838867,-39.41545104980469,-39.12622833251953,-38.27964782714844,-7.6937947273254395,-6.461531162261963,-7.133459091186523,-5.523705959320068,-6.353768825531006,-7.6937947273254395,-1.5973809957504272,0.30091360211372375,-1.3005634546279907,-1.7356278896331787,0.2764139771461487,-0.2525346577167511,-58.206363677978516,-58.192405700683594,-59.287109375,-59.449249267578125,-59.33990478515625,-11.716012001037598,-13.226399421691895,-7.042377471923828,-6.549546718597412,-13.867104530334473,-11.797446250915527,-10.753213882446289,-25.963590621948242,-26.562881469726562,-28.258167266845703,-27.522871017456055,-28.695144653320312,-9.487344741821289,-23.61699867248535,-25.678394317626953,-25.079561233520508,-22.769548416137695,-6.555289268493652,-26.46828842163086,-25.198450088500977,-19.509641647338867,-42.7275276184082,-42.59113693237305,-43.61893081665039,-27.260578155517578,-28.434921264648438,-27.057273864746094,-13.702638626098633,-14.128921508789062,-31.215206146240234,-31.054996490478516,-26.9080753326416,-27.750497817993164,-25.166488647460938,-26.00101089477539,-5.255530834197998,-19.23818016052246,-23.507022857666016,-22.636587142944336],\"yaxis\":\"y\",\"type\":\"scatter\"},{\"customdata\":[[\" 142.0\",\" 200.0\",\" 22.0\",\" 0.0\",\" 0.8\"],[\" 149.0\",\" 200.0\",\" 24.0\",\" 0.0\",\" 0.8\"],[\" 149.0\",\" 200.0\",\" 24.0\",\" 0.0\",\" 0.8\"],[\" 92.0\",\" 200.0\",\" 6.4\",\" 0.0\",\" 0.9\"],[\" 100.0\",\" 200.0\",\" 8.2\",\" 0.0\",\" 1.0\"],[\" 145.0\",\" 150.0\",\" 20.0\",\" 0.0\",\" 1.0\"],[\" 148.0\",\" 150.0\",\" 21.0\",\" 0.0\",\" 1.0\"],[\" 156.0\",\" 250.0\",\" 11.7\",\" 0.0\",\" 14.0\"],[\" 123.0\",\" 250.0\",\" 11.0\",\" 0.0\",\" 10.0\"],[\" 152.0\",\" 250.0\",\" 11.0\",\" 0.0\",\" 14.0\"],[\" 27.0\",\" 15.0\",\" 0.0\",\" 0.0\",\" 0.0\"]],\"hovertemplate\":\"<b>%{hovertext}</b><br><br>Classification (Label)=DAIRY 2<br>Kcal =%{customdata[0]}<br>Serving Size =%{customdata[1]}<br>Carbohydrate =%{customdata[2]}<br>Sugars =%{customdata[3]}<br>Proteins =%{customdata[4]}<extra></extra>\",\"hovertext\":[\"Iogurte \",\"Iogurte  com strawberries\",\"Iogurte  com banana, apple e papaya\",\"Iogurte  Zero sugar\",\"Iogurte  com strawberries Zero sugar\",\"Iogurte GregoVeg \",\"Iogurte GregoVeg  com strawberries\",\"Iogurte Proteico 14g sabor strawberries\",\"Shake \",\"Iogurte Proteico 14g sabor  peanuts\",\"Creme de almonds\"],\"legendgroup\":\"DAIRY 2\",\"marker\":{\"color\":\"rgb(57, 105, 172)\",\"symbol\":\"circle\",\"line\":{\"color\":\"DarkSlateGrey\",\"width\":1},\"size\":9},\"mode\":\"markers\",\"name\":\"DAIRY 2\",\"orientation\":\"v\",\"showlegend\":false,\"x\":[8.146937370300293,10.786410331726074,11.042807579040527,7.786607265472412,11.060396194458008,6.557048320770264,6.353701114654541,3.8025970458984375,-6.372152805328369,3.2341556549072266,-7.074340343475342],\"xaxis\":\"x\",\"y\":[-52.22939682006836,-53.03606414794922,-54.21479415893555,-52.87443923950195,-52.07248306274414,-48.29370880126953,-47.593040466308594,-55.849998474121094,-67.95738220214844,-56.250755310058594,-25.95111656188965],\"yaxis\":\"y\",\"type\":\"scatter\"},{\"customdata\":[[\" 28.0\",\" 12.0\",\" 1.4\",\" 0.0\",\" 2.5\"],[\" 20.0\",\" 12.0\",\" 0.0\",\" 0.0\",\" 0.0\"],[\" 70.0\",\" 12.0\",\" 0.0\",\" 0.0\",\" 0.0\"],[\" 71.0\",\" 12.0\",\" 0.6\",\" 0.0\",\" 0.0\"],[\" 57.0\",\" 12.0\",\" 0.6\",\" 0.0\",\" 0.0\"],[\" 56.0\",\" 12.0\",\" 0.6\",\" 0.0\",\" 0.0\"],[\" 33.0\",\" 12.0\",\" 0.6\",\" 0.0\",\" 0.4\"],[\" 33.0\",\" 12.0\",\" 0.6\",\" 0.0\",\" 0.4\"],[\" 33.0\",\" 12.0\",\" 0.6\",\" 0.0\",\" 0.4\"],[\" 33.0\",\" 12.0\",\" 0.6\",\" 0.0\",\" 0.4\"],[\" 33.0\",\" 12.0\",\" 0.6\",\" 0.0\",\" 0.4\"],[\" 25.0\",\" 12.0\",\" 0.0\",\" 0.0\",\" 0.0\"],[\" 21.0\",\" 12.0\",\" 0.0\",\" 0.0\",\" 0.0\"],[\" 84.0\",\" 40.0\",\" 5.2\",\" 0.0\",\" 0.5\"]],\"hovertemplate\":\"<b>%{hovertext}</b><br><br>Classification (Label)=EGG 1<br>Kcal =%{customdata[0]}<br>Serving Size =%{customdata[1]}<br>Carbohydrate =%{customdata[2]}<br>Sugars =%{customdata[3]}<br>Proteins =%{customdata[4]}<extra></extra>\",\"hovertext\":[\"MAIONESE VEGETAL SUPERBOM\",\"MAIONESE FUGINI\",\"NOT MAYO\",\"NOT MAYO garlic\",\"NOT MAYO AZEITONA\",\"NOT MAYO PICANTE\",\"MAIONESE V-MAYO\",\"MAIONESE V-MAYO ApepperDA\",\"MAIONESE V-MAYO TRUFADA\",\"MAIONESE V-MAYO DE ABACATE\",\"MAIONESE V-MAYO DE garlic\",\"MAIONESE HELLMANS\",\"MAIONESE VEGANA FUGINI\",\"MAIONESE DEL\\u00cdCIAS DE GOI\\u00c1S\"],\"legendgroup\":\"EGG 1\",\"marker\":{\"color\":\"rgb(242, 183, 1)\",\"symbol\":\"circle\",\"line\":{\"color\":\"DarkSlateGrey\",\"width\":1},\"size\":9},\"mode\":\"markers\",\"name\":\"EGG 1\",\"orientation\":\"v\",\"showlegend\":false,\"x\":[-7.93764591217041,-8.83771800994873,1.6987810134887695,2.881456136703491,1.310080647468567,2.75177001953125,-10.738869667053223,-9.2859525680542,-10.738869667053223,-9.365345001220703,-10.738869667053223,-8.378580093383789,-9.932332038879395,0.1298503428697586],\"xaxis\":\"x\",\"y\":[40.60768127441406,40.96552658081055,35.60127639770508,34.8420524597168,34.79248046875,36.498966217041016,63.615455627441406,64.52896118164062,63.615455627441406,62.58494567871094,63.615455627441406,39.24950408935547,41.756858825683594,3.5574984550476074],\"yaxis\":\"y\",\"type\":\"scatter\"},{\"customdata\":[[\" 25.0\",\" 10.0\",\" 3.3\",\" 0.0\",\" 4.1\"],[\" 28.0\",\" 7.0\",\" 1.2\",\" 0.0\",\" 3.1\"]],\"hovertemplate\":\"<b>%{hovertext}</b><br><br>Classification (Label)=EGG 2<br>Kcal =%{customdata[0]}<br>Serving Size =%{customdata[1]}<br>Carbohydrate =%{customdata[2]}<br>Sugars =%{customdata[3]}<br>Proteins =%{customdata[4]}<extra></extra>\",\"hovertext\":[\"Ovos Novos\",\"Ovos Novos\"],\"legendgroup\":\"EGG 2\",\"marker\":{\"color\":\"rgb(231, 63, 116)\",\"symbol\":\"circle\",\"line\":{\"color\":\"DarkSlateGrey\",\"width\":1},\"size\":9},\"mode\":\"markers\",\"name\":\"EGG 2\",\"orientation\":\"v\",\"showlegend\":false,\"x\":[2.1417036056518555,-0.2276788055896759],\"xaxis\":\"x\",\"y\":[-19.299407958984375,-20.57785415649414],\"yaxis\":\"y\",\"type\":\"scatter\"}],                        {\"template\":{\"data\":{\"barpolar\":[{\"marker\":{\"line\":{\"color\":\"white\",\"width\":0.5},\"pattern\":{\"fillmode\":\"overlay\",\"size\":10,\"solidity\":0.2}},\"type\":\"barpolar\"}],\"bar\":[{\"error_x\":{\"color\":\"rgb(36,36,36)\"},\"error_y\":{\"color\":\"rgb(36,36,36)\"},\"marker\":{\"line\":{\"color\":\"white\",\"width\":0.5},\"pattern\":{\"fillmode\":\"overlay\",\"size\":10,\"solidity\":0.2}},\"type\":\"bar\"}],\"carpet\":[{\"aaxis\":{\"endlinecolor\":\"rgb(36,36,36)\",\"gridcolor\":\"white\",\"linecolor\":\"white\",\"minorgridcolor\":\"white\",\"startlinecolor\":\"rgb(36,36,36)\"},\"baxis\":{\"endlinecolor\":\"rgb(36,36,36)\",\"gridcolor\":\"white\",\"linecolor\":\"white\",\"minorgridcolor\":\"white\",\"startlinecolor\":\"rgb(36,36,36)\"},\"type\":\"carpet\"}],\"choropleth\":[{\"colorbar\":{\"outlinewidth\":1,\"tickcolor\":\"rgb(36,36,36)\",\"ticks\":\"outside\"},\"type\":\"choropleth\"}],\"contourcarpet\":[{\"colorbar\":{\"outlinewidth\":1,\"tickcolor\":\"rgb(36,36,36)\",\"ticks\":\"outside\"},\"type\":\"contourcarpet\"}],\"contour\":[{\"colorbar\":{\"outlinewidth\":1,\"tickcolor\":\"rgb(36,36,36)\",\"ticks\":\"outside\"},\"colorscale\":[[0.0,\"#440154\"],[0.1111111111111111,\"#482878\"],[0.2222222222222222,\"#3e4989\"],[0.3333333333333333,\"#31688e\"],[0.4444444444444444,\"#26828e\"],[0.5555555555555556,\"#1f9e89\"],[0.6666666666666666,\"#35b779\"],[0.7777777777777778,\"#6ece58\"],[0.8888888888888888,\"#b5de2b\"],[1.0,\"#fde725\"]],\"type\":\"contour\"}],\"heatmapgl\":[{\"colorbar\":{\"outlinewidth\":1,\"tickcolor\":\"rgb(36,36,36)\",\"ticks\":\"outside\"},\"colorscale\":[[0.0,\"#440154\"],[0.1111111111111111,\"#482878\"],[0.2222222222222222,\"#3e4989\"],[0.3333333333333333,\"#31688e\"],[0.4444444444444444,\"#26828e\"],[0.5555555555555556,\"#1f9e89\"],[0.6666666666666666,\"#35b779\"],[0.7777777777777778,\"#6ece58\"],[0.8888888888888888,\"#b5de2b\"],[1.0,\"#fde725\"]],\"type\":\"heatmapgl\"}],\"heatmap\":[{\"colorbar\":{\"outlinewidth\":1,\"tickcolor\":\"rgb(36,36,36)\",\"ticks\":\"outside\"},\"colorscale\":[[0.0,\"#440154\"],[0.1111111111111111,\"#482878\"],[0.2222222222222222,\"#3e4989\"],[0.3333333333333333,\"#31688e\"],[0.4444444444444444,\"#26828e\"],[0.5555555555555556,\"#1f9e89\"],[0.6666666666666666,\"#35b779\"],[0.7777777777777778,\"#6ece58\"],[0.8888888888888888,\"#b5de2b\"],[1.0,\"#fde725\"]],\"type\":\"heatmap\"}],\"histogram2dcontour\":[{\"colorbar\":{\"outlinewidth\":1,\"tickcolor\":\"rgb(36,36,36)\",\"ticks\":\"outside\"},\"colorscale\":[[0.0,\"#440154\"],[0.1111111111111111,\"#482878\"],[0.2222222222222222,\"#3e4989\"],[0.3333333333333333,\"#31688e\"],[0.4444444444444444,\"#26828e\"],[0.5555555555555556,\"#1f9e89\"],[0.6666666666666666,\"#35b779\"],[0.7777777777777778,\"#6ece58\"],[0.8888888888888888,\"#b5de2b\"],[1.0,\"#fde725\"]],\"type\":\"histogram2dcontour\"}],\"histogram2d\":[{\"colorbar\":{\"outlinewidth\":1,\"tickcolor\":\"rgb(36,36,36)\",\"ticks\":\"outside\"},\"colorscale\":[[0.0,\"#440154\"],[0.1111111111111111,\"#482878\"],[0.2222222222222222,\"#3e4989\"],[0.3333333333333333,\"#31688e\"],[0.4444444444444444,\"#26828e\"],[0.5555555555555556,\"#1f9e89\"],[0.6666666666666666,\"#35b779\"],[0.7777777777777778,\"#6ece58\"],[0.8888888888888888,\"#b5de2b\"],[1.0,\"#fde725\"]],\"type\":\"histogram2d\"}],\"histogram\":[{\"marker\":{\"line\":{\"color\":\"white\",\"width\":0.6}},\"type\":\"histogram\"}],\"mesh3d\":[{\"colorbar\":{\"outlinewidth\":1,\"tickcolor\":\"rgb(36,36,36)\",\"ticks\":\"outside\"},\"type\":\"mesh3d\"}],\"parcoords\":[{\"line\":{\"colorbar\":{\"outlinewidth\":1,\"tickcolor\":\"rgb(36,36,36)\",\"ticks\":\"outside\"}},\"type\":\"parcoords\"}],\"pie\":[{\"automargin\":true,\"type\":\"pie\"}],\"scatter3d\":[{\"line\":{\"colorbar\":{\"outlinewidth\":1,\"tickcolor\":\"rgb(36,36,36)\",\"ticks\":\"outside\"}},\"marker\":{\"colorbar\":{\"outlinewidth\":1,\"tickcolor\":\"rgb(36,36,36)\",\"ticks\":\"outside\"}},\"type\":\"scatter3d\"}],\"scattercarpet\":[{\"marker\":{\"colorbar\":{\"outlinewidth\":1,\"tickcolor\":\"rgb(36,36,36)\",\"ticks\":\"outside\"}},\"type\":\"scattercarpet\"}],\"scattergeo\":[{\"marker\":{\"colorbar\":{\"outlinewidth\":1,\"tickcolor\":\"rgb(36,36,36)\",\"ticks\":\"outside\"}},\"type\":\"scattergeo\"}],\"scattergl\":[{\"marker\":{\"colorbar\":{\"outlinewidth\":1,\"tickcolor\":\"rgb(36,36,36)\",\"ticks\":\"outside\"}},\"type\":\"scattergl\"}],\"scattermapbox\":[{\"marker\":{\"colorbar\":{\"outlinewidth\":1,\"tickcolor\":\"rgb(36,36,36)\",\"ticks\":\"outside\"}},\"type\":\"scattermapbox\"}],\"scatterpolargl\":[{\"marker\":{\"colorbar\":{\"outlinewidth\":1,\"tickcolor\":\"rgb(36,36,36)\",\"ticks\":\"outside\"}},\"type\":\"scatterpolargl\"}],\"scatterpolar\":[{\"marker\":{\"colorbar\":{\"outlinewidth\":1,\"tickcolor\":\"rgb(36,36,36)\",\"ticks\":\"outside\"}},\"type\":\"scatterpolar\"}],\"scatter\":[{\"marker\":{\"colorbar\":{\"outlinewidth\":1,\"tickcolor\":\"rgb(36,36,36)\",\"ticks\":\"outside\"}},\"type\":\"scatter\"}],\"scatterternary\":[{\"marker\":{\"colorbar\":{\"outlinewidth\":1,\"tickcolor\":\"rgb(36,36,36)\",\"ticks\":\"outside\"}},\"type\":\"scatterternary\"}],\"surface\":[{\"colorbar\":{\"outlinewidth\":1,\"tickcolor\":\"rgb(36,36,36)\",\"ticks\":\"outside\"},\"colorscale\":[[0.0,\"#440154\"],[0.1111111111111111,\"#482878\"],[0.2222222222222222,\"#3e4989\"],[0.3333333333333333,\"#31688e\"],[0.4444444444444444,\"#26828e\"],[0.5555555555555556,\"#1f9e89\"],[0.6666666666666666,\"#35b779\"],[0.7777777777777778,\"#6ece58\"],[0.8888888888888888,\"#b5de2b\"],[1.0,\"#fde725\"]],\"type\":\"surface\"}],\"table\":[{\"cells\":{\"fill\":{\"color\":\"rgb(237,237,237)\"},\"line\":{\"color\":\"white\"}},\"header\":{\"fill\":{\"color\":\"rgb(217,217,217)\"},\"line\":{\"color\":\"white\"}},\"type\":\"table\"}]},\"layout\":{\"annotationdefaults\":{\"arrowhead\":0,\"arrowwidth\":1},\"autotypenumbers\":\"strict\",\"coloraxis\":{\"colorbar\":{\"outlinewidth\":1,\"tickcolor\":\"rgb(36,36,36)\",\"ticks\":\"outside\"}},\"colorscale\":{\"diverging\":[[0.0,\"rgb(103,0,31)\"],[0.1,\"rgb(178,24,43)\"],[0.2,\"rgb(214,96,77)\"],[0.3,\"rgb(244,165,130)\"],[0.4,\"rgb(253,219,199)\"],[0.5,\"rgb(247,247,247)\"],[0.6,\"rgb(209,229,240)\"],[0.7,\"rgb(146,197,222)\"],[0.8,\"rgb(67,147,195)\"],[0.9,\"rgb(33,102,172)\"],[1.0,\"rgb(5,48,97)\"]],\"sequential\":[[0.0,\"#440154\"],[0.1111111111111111,\"#482878\"],[0.2222222222222222,\"#3e4989\"],[0.3333333333333333,\"#31688e\"],[0.4444444444444444,\"#26828e\"],[0.5555555555555556,\"#1f9e89\"],[0.6666666666666666,\"#35b779\"],[0.7777777777777778,\"#6ece58\"],[0.8888888888888888,\"#b5de2b\"],[1.0,\"#fde725\"]],\"sequentialminus\":[[0.0,\"#440154\"],[0.1111111111111111,\"#482878\"],[0.2222222222222222,\"#3e4989\"],[0.3333333333333333,\"#31688e\"],[0.4444444444444444,\"#26828e\"],[0.5555555555555556,\"#1f9e89\"],[0.6666666666666666,\"#35b779\"],[0.7777777777777778,\"#6ece58\"],[0.8888888888888888,\"#b5de2b\"],[1.0,\"#fde725\"]]},\"colorway\":[\"#1F77B4\",\"#FF7F0E\",\"#2CA02C\",\"#D62728\",\"#9467BD\",\"#8C564B\",\"#E377C2\",\"#7F7F7F\",\"#BCBD22\",\"#17BECF\"],\"font\":{\"color\":\"rgb(36,36,36)\"},\"geo\":{\"bgcolor\":\"white\",\"lakecolor\":\"white\",\"landcolor\":\"white\",\"showlakes\":true,\"showland\":true,\"subunitcolor\":\"white\"},\"hoverlabel\":{\"align\":\"left\"},\"hovermode\":\"closest\",\"mapbox\":{\"style\":\"light\"},\"paper_bgcolor\":\"white\",\"plot_bgcolor\":\"white\",\"polar\":{\"angularaxis\":{\"gridcolor\":\"rgb(232,232,232)\",\"linecolor\":\"rgb(36,36,36)\",\"showgrid\":false,\"showline\":true,\"ticks\":\"outside\"},\"bgcolor\":\"white\",\"radialaxis\":{\"gridcolor\":\"rgb(232,232,232)\",\"linecolor\":\"rgb(36,36,36)\",\"showgrid\":false,\"showline\":true,\"ticks\":\"outside\"}},\"scene\":{\"xaxis\":{\"backgroundcolor\":\"white\",\"gridcolor\":\"rgb(232,232,232)\",\"gridwidth\":2,\"linecolor\":\"rgb(36,36,36)\",\"showbackground\":true,\"showgrid\":false,\"showline\":true,\"ticks\":\"outside\",\"zeroline\":false,\"zerolinecolor\":\"rgb(36,36,36)\"},\"yaxis\":{\"backgroundcolor\":\"white\",\"gridcolor\":\"rgb(232,232,232)\",\"gridwidth\":2,\"linecolor\":\"rgb(36,36,36)\",\"showbackground\":true,\"showgrid\":false,\"showline\":true,\"ticks\":\"outside\",\"zeroline\":false,\"zerolinecolor\":\"rgb(36,36,36)\"},\"zaxis\":{\"backgroundcolor\":\"white\",\"gridcolor\":\"rgb(232,232,232)\",\"gridwidth\":2,\"linecolor\":\"rgb(36,36,36)\",\"showbackground\":true,\"showgrid\":false,\"showline\":true,\"ticks\":\"outside\",\"zeroline\":false,\"zerolinecolor\":\"rgb(36,36,36)\"}},\"shapedefaults\":{\"fillcolor\":\"black\",\"line\":{\"width\":0},\"opacity\":0.3},\"ternary\":{\"aaxis\":{\"gridcolor\":\"rgb(232,232,232)\",\"linecolor\":\"rgb(36,36,36)\",\"showgrid\":false,\"showline\":true,\"ticks\":\"outside\"},\"baxis\":{\"gridcolor\":\"rgb(232,232,232)\",\"linecolor\":\"rgb(36,36,36)\",\"showgrid\":false,\"showline\":true,\"ticks\":\"outside\"},\"bgcolor\":\"white\",\"caxis\":{\"gridcolor\":\"rgb(232,232,232)\",\"linecolor\":\"rgb(36,36,36)\",\"showgrid\":false,\"showline\":true,\"ticks\":\"outside\"}},\"title\":{\"x\":0.05},\"xaxis\":{\"automargin\":true,\"gridcolor\":\"rgb(232,232,232)\",\"linecolor\":\"rgb(36,36,36)\",\"showgrid\":false,\"showline\":true,\"ticks\":\"outside\",\"title\":{\"standoff\":15},\"zeroline\":false,\"zerolinecolor\":\"rgb(36,36,36)\"},\"yaxis\":{\"automargin\":true,\"gridcolor\":\"rgb(232,232,232)\",\"linecolor\":\"rgb(36,36,36)\",\"showgrid\":false,\"showline\":true,\"ticks\":\"outside\",\"title\":{\"standoff\":15},\"zeroline\":false,\"zerolinecolor\":\"rgb(36,36,36)\"}}},\"xaxis\":{\"anchor\":\"y\",\"domain\":[0.0,1.0],\"title\":{\"text\":\"x\"},\"visible\":false},\"yaxis\":{\"anchor\":\"x\",\"domain\":[0.0,1.0],\"title\":{\"text\":\"y\"},\"visible\":false},\"legend\":{\"title\":{\"text\":\"Classification (Label)\"},\"tracegroupgap\":0},\"margin\":{\"t\":0,\"l\":0,\"r\":0,\"b\":0},\"width\":700},                        {\"responsive\": true}                    ).then(function(){\n",
              "                            \n",
              "var gd = document.getElementById('f2d6cd39-9fa0-4126-933d-acb17c3d354b');\n",
              "var x = new MutationObserver(function (mutations, observer) {{\n",
              "        var display = window.getComputedStyle(gd).display;\n",
              "        if (!display || display === 'none') {{\n",
              "            console.log([gd, 'removed!']);\n",
              "            Plotly.purge(gd);\n",
              "            observer.disconnect();\n",
              "        }}\n",
              "}});\n",
              "\n",
              "// Listen for the removal of the full notebook cells\n",
              "var notebookContainer = gd.closest('#notebook-container');\n",
              "if (notebookContainer) {{\n",
              "    x.observe(notebookContainer, {childList: true});\n",
              "}}\n",
              "\n",
              "// Listen for the clearing of the current output cell\n",
              "var outputEl = gd.closest('.output');\n",
              "if (outputEl) {{\n",
              "    x.observe(outputEl, {childList: true});\n",
              "}}\n",
              "\n",
              "                        })                };                            </script>        </div>\n",
              "</body>\n",
              "</html>"
            ]
          },
          "metadata": {}
        }
      ]
    },
    {
      "cell_type": "markdown",
      "source": [
        "### UMAP"
      ],
      "metadata": {
        "id": "A7LLQVJotd72"
      }
    },
    {
      "cell_type": "code",
      "source": [
        "reducer = umap.UMAP(n_components=2,n_neighbors=10,metric='euclidean', random_state=0)\n",
        "X_umap = reducer.fit_transform(X)\n",
        "\n",
        "X_umap[1:4, :]\n",
        "all_data['x'] = X_umap[:,0]\n",
        "all_data['y'] = X_umap[:,1]\n",
        "\n",
        "fig = px.scatter(\n",
        "    all_data, \n",
        "    x='x', \n",
        "    y='y', \n",
        "    color='Classification', \n",
        "    template=\"simple_white\",\n",
        "    labels={ \n",
        "      \"Classification\": \"Classification (Label)\"\n",
        "    },\n",
        "    color_discrete_sequence= px.colors.qualitative.Plotly + px.colors.qualitative.Bold,\n",
        "    hover_name=\"Description\",\n",
        "    hover_data={'x':False,\n",
        "                'y':False,  \n",
        "                'Kcal ': [f' {x}' for x in data['Kcal']],\n",
        "                'Serving Size ': [f' {y}' for y in data['Serving Size']],\n",
        "                'Carbohydrate ': [f' {z}' for z in data['Carbohydrate']],\n",
        "                'Sugars ': [f' {a}' for a in data['Sugars']],\n",
        "                'Proteins ': [f' {b}' for b in data['Proteins']],\n",
        "                }, #'Ingredients':True}, \n",
        "    width=800)\n",
        "\n",
        "fig.update_traces(marker=dict(size=9,\n",
        "                              line=dict(width=1,\n",
        "                                        color='DarkSlateGrey')),\n",
        "                  selector=dict(mode='markers'))\n",
        "\n",
        "fig.update_layout(xaxis={'visible': False},\n",
        "                  yaxis={'visible': False},\n",
        "                  legend=dict(font=dict(size=16)),\n",
        "                  margin=dict(l=0,r=0,b=0,t=0))\n",
        "\n",
        "fig.show()\n",
        "fig.write_image('imgs/UMAP_ALL.eps', format='eps')"
      ],
      "metadata": {
        "colab": {
          "base_uri": "https://localhost:8080/",
          "height": 542
        },
        "id": "akN3C0Vmtg-9",
        "outputId": "e97c0f0b-2216-4aa0-c011-4196c58c16fe"
      },
      "execution_count": 120,
      "outputs": [
        {
          "output_type": "display_data",
          "data": {
            "text/html": [
              "<html>\n",
              "<head><meta charset=\"utf-8\" /></head>\n",
              "<body>\n",
              "    <div>            <script src=\"https://cdnjs.cloudflare.com/ajax/libs/mathjax/2.7.5/MathJax.js?config=TeX-AMS-MML_SVG\"></script><script type=\"text/javascript\">if (window.MathJax) {MathJax.Hub.Config({SVG: {font: \"STIX-Web\"}});}</script>                <script type=\"text/javascript\">window.PlotlyConfig = {MathJaxConfig: 'local'};</script>\n",
              "        <script src=\"https://cdn.plot.ly/plotly-2.8.3.min.js\"></script>                <div id=\"eb58e384-6b0b-4d4d-be3e-e1cc2b724428\" class=\"plotly-graph-div\" style=\"height:525px; width:800px;\"></div>            <script type=\"text/javascript\">                                    window.PLOTLYENV=window.PLOTLYENV || {};                                    if (document.getElementById(\"eb58e384-6b0b-4d4d-be3e-e1cc2b724428\")) {                    Plotly.newPlot(                        \"eb58e384-6b0b-4d4d-be3e-e1cc2b724428\",                        [{\"customdata\":[[\" 168.0\",\" 80.0\",\" 11.0\",\" 0.0\",\" 8.2\"],[\" 234.0\",\" 100.0\",\" 12.0\",\" 0.0\",\" 19.0\"],[\" 146.0\",\" 80.0\",\" 3.7\",\" 0.0\",\" 14.0\"],[\" 166.0\",\" 100.0\",\" 10.0\",\" 0.0\",\" 13.0\"],[\" 166.0\",\" 100.0\",\" 10.0\",\" 0.0\",\" 13.0\"],[\" 178.0\",\" 75.0\",\" 33.0\",\" 0.0\",\" 4.3\"],[\" 158.0\",\" 80.0\",\" 9.3\",\" 0.0\",\" 7.8\"],[\" 77.0\",\" 50.0\",\" 2.1\",\" 0.0\",\" 13.0\"],[\" 188.0\",\" 100.0\",\" 6.0\",\" 0.0\",\" 14.0\"]],\"hovertemplate\":\"<b>%{hovertext}</b><br><br>Classification (Label)=MEAT 2<br>Kcal =%{customdata[0]}<br>Serving Size =%{customdata[1]}<br>Carbohydrate =%{customdata[2]}<br>Sugars =%{customdata[3]}<br>Proteins =%{customdata[4]}<extra></extra>\",\"hovertext\":[\"Carne Mo\\u00edda do Futuro\",\"Almondegas de Soja Vegway\",\"Almondegas Amazonika Mundi\",\"Kibe Incr\\u00edvel Seara\",\"Almondegas Incr\\u00edveis Seara\",\"Almondegas Mr Veggy\",\"Carne Mo\\u00edda Superbom\",\"Carne Vegetal Mo\\u00edda Superbom\",\"Carne Mo\\u00edda Vegetal Verdali\"],\"legendgroup\":\"MEAT 2\",\"marker\":{\"color\":\"#636EFA\",\"symbol\":\"circle\",\"line\":{\"color\":\"DarkSlateGrey\",\"width\":1},\"size\":9},\"mode\":\"markers\",\"name\":\"MEAT 2\",\"orientation\":\"v\",\"showlegend\":true,\"x\":[5.072026252746582,-2.9317901134490967,4.782992839813232,1.268723487854004,1.4098944664001465,-0.42952588200569153,4.215357303619385,-1.988058090209961,1.3667877912521362],\"xaxis\":\"x\",\"y\":[5.046488285064697,9.028459548950195,5.0631608963012695,7.9638447761535645,9.449713706970215,7.400842666625977,3.7175793647766113,7.5518317222595215,7.160375118255615],\"yaxis\":\"y\",\"type\":\"scatter\"},{\"customdata\":[[\" 168.0\",\" 80.0\",\" 11.0\",\" 0.0\",\" 8.2\"],[\" 150.0\",\" 50.0\",\" 10.0\",\" 0.0\",\" 25.0\"],[\" 150.0\",\" 50.0\",\" 10.0\",\" 0.0\",\" 25.0\"],[\" 62.0\",\" 50.0\",\" 1.0\",\" 0.0\",\" 10.0\"],[\" 62.0\",\" 50.0\",\" 1.0\",\" 0.0\",\" 10.0\"],[\" 115.0\",\" 60.0\",\" 2.8\",\" 0.0\",\" 7.5\"],[\" 115.0\",\" 60.0\",\" 3.1\",\" 0.0\",\" 7.5\"],[\" 121.0\",\" 350.0\",\" 9.3\",\" 0.0\",\" 9.3\"],[\" 88.0\",\" 40.0\",\" 6.0\",\" 0.0\",\" 6.3\"],[\" 129.0\",\" 80.0\",\" 12.0\",\" 0.0\",\" 11.0\"],[\" 203.0\",\" 100.0\",\" 13.0\",\" 0.0\",\" 9.2\"],[\" 64.0\",\" 40.0\",\" 2.7\",\" 0.0\",\" 7.8\"],[\" 26.0\",\" 50.0\",\" 0.5\",\" 0.0\",\" 5.0\"],[\" 22.0\",\" 50.0\",\" 0.5\",\" 0.0\",\" 5.3\"],[\" 53.0\",\" 50.0\",\" 0.0\",\" 0.0\",\" 5.4\"],[\" 63.0\",\" 50.0\",\" 0.2\",\" 0.0\",\" 6.3\"],[\" 144.0\",\" 100.0\",\" 5.0\",\" 0.0\",\" 22.0\"],[\" 119.0\",\" 100.0\",\" 5.0\",\" 0.0\",\" 18.0\"]],\"hovertemplate\":\"<b>%{hovertext}</b><br><br>Classification (Label)=MEAT 3<br>Kcal =%{customdata[0]}<br>Serving Size =%{customdata[1]}<br>Carbohydrate =%{customdata[2]}<br>Sugars =%{customdata[3]}<br>Proteins =%{customdata[4]}<extra></extra>\",\"hovertext\":[\"Carne Mo\\u00edda do Futuro\",\"Fil\\u00e9s Sora Carne Vermelha\",\"Fatias Sora Carne Vermelha\",\"Fil\\u00e9 Pronto Saud\\u00e1vel Sora\",\"Carne Mo\\u00edda Pronto Saud\\u00e1vel Sora\",\"Churrasco Vegabom\",\"Churrasco Aoniondo Vegabom\",\"Carne de Pernil Seara\",\"Alm\\u00f4ndega de Soja Vegana Goshen\",\"Bife de Soja Vegano Goshen\",\"Alm\\u00f4ndega Vegana Superbom\",\"Bife Vegetal Superbom\",\"Escalope ao Molho Caseiro Superbom\",\"Cubinhos ao Molho Mexicano Superbom\",\"Alm\\u00f4ndegas ao Molho Sugo Superbom\",\"Medalh\\u00e3o ao Molho Madeira Superbom\",\"Mignon Verdali\",\"Steak Verdali\"],\"legendgroup\":\"MEAT 3\",\"marker\":{\"color\":\"#EF553B\",\"symbol\":\"circle\",\"line\":{\"color\":\"DarkSlateGrey\",\"width\":1},\"size\":9},\"mode\":\"markers\",\"name\":\"MEAT 3\",\"orientation\":\"v\",\"showlegend\":true,\"x\":[5.205827713012695,-1.5172280073165894,-1.5634934902191162,-0.34300750494003296,-0.3926986753940582,0.08162233978509903,-0.0016845749923959374,1.4299335479736328,-4.567580699920654,-4.326444149017334,4.129591941833496,-1.7094155550003052,-1.7407859563827515,-1.7645937204360962,-2.0115277767181396,-2.0069406032562256,1.2751436233520508,1.2907474040985107],\"xaxis\":\"x\",\"y\":[5.1663665771484375,5.9351887702941895,5.96434211730957,7.776020050048828,7.830715179443359,7.729792594909668,7.675344944000244,9.507811546325684,6.375123500823975,6.572084426879883,3.746687650680542,6.307316303253174,7.5854034423828125,7.569797992706299,7.5457444190979,7.549355983734131,7.217528343200684,7.122648239135742],\"yaxis\":\"y\",\"type\":\"scatter\"},{\"customdata\":[[\" 168.0\",\" 80.0\",\" 11.0\",\" 0.0\",\" 8.2\"],[\" 150.0\",\" 50.0\",\" 10.0\",\" 0.0\",\" 25.0\"],[\" 150.0\",\" 50.0\",\" 10.0\",\" 0.0\",\" 25.0\"],[\" 115.0\",\" 60.0\",\" 2.8\",\" 0.0\",\" 7.5\"],[\" 34.8\",\" 30.0\",\" 2.9\",\" 0.0\",\" 3.8\"],[\" 153.0\",\" 100.0\",\" 12.0\",\" 0.0\",\" 6.0\"],[\" 94.0\",\" 80.0\",\" 3.1\",\" 0.0\",\" 17.0\"],[\" 94.0\",\" 80.0\",\" 3.1\",\" 0.0\",\" 17.0\"],[\" 58.0\",\" 30.0\",\" 2.2\",\" 0.0\",\" 4.8\"],[\" 58.0\",\" 30.0\",\" 2.2\",\" 0.0\",\" 4.8\"],[\" 174.0\",\" 100.0\",\" 6.0\",\" 0.0\",\" 24.0\"],[\" 129.0\",\" 115.0\",\" 5.8\",\" 0.0\",\" 19.0\"],[\" 138.0\",\" 120.0\",\" 8.4\",\" 0.0\",\" 18.0\"]],\"hovertemplate\":\"<b>%{hovertext}</b><br><br>Classification (Label)=POULTRY 3<br>Kcal =%{customdata[0]}<br>Serving Size =%{customdata[1]}<br>Carbohydrate =%{customdata[2]}<br>Sugars =%{customdata[3]}<br>Proteins =%{customdata[4]}<extra></extra>\",\"hovertext\":[\"Frango do Futuro\",\"Fatias Sora Carne Branca\",\"Fil\\u00e9s Sora Carne Branca\",\"Strogonoff de Frango Vegabom\",\"Tiras de Frango New Butchers\",\"Fil\\u00e9 de Frango Desfiado Vegway\",\"Frango Veg e Tal Sadia\",\"Frango Veg e Tal Sadia Desfiado\",\"Peito de Peru de Soja\",\"Peito de Peru de Soja Vegano\",\"Tiras de Ave Verdali\",\"Fil\\u00e9 sem Frango Verdali\",\"Mini Fil\\u00e9 de Frango Verdali\"],\"legendgroup\":\"POULTRY 3\",\"marker\":{\"color\":\"#00CC96\",\"symbol\":\"circle\",\"line\":{\"color\":\"DarkSlateGrey\",\"width\":1},\"size\":9},\"mode\":\"markers\",\"name\":\"POULTRY 3\",\"orientation\":\"v\",\"showlegend\":true,\"x\":[5.240534782409668,-1.5834145545959473,-1.5895390510559082,0.05212150514125824,3.3058767318725586,-2.979401111602783,3.9404590129852295,3.8870911598205566,-4.902472496032715,-4.994574069976807,1.319031834602356,1.3380900621414185,1.2961695194244385],\"xaxis\":\"x\",\"y\":[5.198904514312744,5.997678279876709,5.998120307922363,7.692450046539307,3.549882173538208,8.942306518554688,5.278662204742432,5.323376178741455,6.6377034187316895,6.679606914520264,7.713062763214111,7.225280284881592,7.355984687805176],\"yaxis\":\"y\",\"type\":\"scatter\"},{\"customdata\":[[\" 139.0\",\" 50.0\",\" 7.7\",\" 0.0\",\" 5.7\"],[\" 78.0\",\" 35.0\",\" 6.0\",\" 0.0\",\" 4.0\"],[\" 78.0\",\" 35.0\",\" 6.0\",\" 0.0\",\" 4.0\"],[\" 156.0\",\" 65.0\",\" 8.0\",\" 0.0\",\" 11.0\"],[\" 115.0\",\" 80.0\",\" 3.6\",\" 0.0\",\" 9.7\"],[\" 44.0\",\" 30.0\",\" 0.5\",\" 0.0\",\" 5.1\"],[\" 58.0\",\" 30.0\",\" 1.7\",\" 0.0\",\" 5.1\"],[\" 93.0\",\" 50.0\",\" 1.9\",\" 0.0\",\" 8.1\"],[\" 58.0\",\" 30.0\",\" 4.3\",\" 0.0\",\" 2.4\"],[\" 96.0\",\" 50.0\",\" 1.8\",\" 0.0\",\" 8.8\"],[\" 60.0\",\" 40.0\",\" 1.4\",\" 0.0\",\" 7.6\"],[\" 43.0\",\" 40.0\",\" 1.8\",\" 0.0\",\" 4.9\"]],\"hovertemplate\":\"<b>%{hovertext}</b><br><br>Classification (Label)=PORK 1<br>Kcal =%{customdata[0]}<br>Serving Size =%{customdata[1]}<br>Carbohydrate =%{customdata[2]}<br>Sugars =%{customdata[3]}<br>Proteins =%{customdata[4]}<extra></extra>\",\"hovertext\":[\"Lingui\\u00e7a do Futuro\",\"Lingui\\u00e7a calabresa vegabom\",\"saltsicha de chickpea Vegabom\",\"Vegway Soy Sausage\",\"saltsichas Incriveis Seara\",\"Lingui\\u00e7a Apepperda de Soja Goshen\",\"Lingui\\u00e7a Calabresa de Soja Goshen\",\"Lingui\\u00e7a de Soja Vegana Goshen\",\"Lingui\\u00e7a Toscana de Soja Goshen\",\"saltsicha de Soja Vegana Goshen\",\"saltsicha Vegetal Superbom\",\"saltsicha Vegetal Defumada Superbom\"],\"legendgroup\":\"PORK 1\",\"marker\":{\"color\":\"#AB63FA\",\"symbol\":\"circle\",\"line\":{\"color\":\"DarkSlateGrey\",\"width\":1},\"size\":9},\"mode\":\"markers\",\"name\":\"PORK 1\",\"orientation\":\"v\",\"showlegend\":true,\"x\":[5.191906929016113,0.24726909399032593,0.3360324203968048,-2.8482155799865723,1.47739577293396,-4.994370460510254,-4.820932388305664,-4.851515293121338,-5.053542137145996,-4.996425151824951,-2.1664161682128906,-2.2990407943725586],\"xaxis\":\"x\",\"y\":[5.1701788902282715,7.596177101135254,7.799137115478516,9.09155559539795,9.561762809753418,6.7183003425598145,6.530140399932861,6.583469390869141,6.767217636108398,6.723669528961182,7.526930332183838,7.454618453979492],\"yaxis\":\"y\",\"type\":\"scatter\"},{\"customdata\":[[\" 118.0\",\" 50.0\",\" 2.8\",\" 0.0\",\" 7.0\"],[\" 78.0\",\" 50.0\",\" 5.3\",\" 0.0\",\" 8.9\"],[\" 140.0\",\" 120.0\",\" 25.0\",\" 0.0\",\" 6.1\"],[\" 128.0\",\" 60.0\",\" 19.0\",\" 0.0\",\" 5.1\"],[\" 253.0\",\" 113.0\",\" 42.0\",\" 0.0\",\" 17.0\"],[\" 90.0\",\" 80.0\",\" 4.8\",\" 0.0\",\" 11.0\"],[\" 187.0\",\" 80.0\",\" 10.0\",\" 0.0\",\" 9.8\"],[\" 158.0\",\" 113.5\",\" 8.7\",\" 0.0\",\" 15.0\"],[\" 206.0\",\" 100.0\",\" 4.1\",\" 0.0\",\" 13.0\"],[\" 420.0\",\" 100.0\",\" 4.4\",\" 0.0\",\" 28.0\"],[\" 209.0\",\" 115.0\",\" 5.3\",\" 0.0\",\" 20.0\"],[\" 114.0\",\" 60.0\",\" 4.5\",\" 0.0\",\" 7.6\"],[\" 170.0\",\" 80.0\",\" 4.6\",\" 0.0\",\" 12.0\"],[\" 134.0\",\" 60.0\",\" 5.9\",\" 0.0\",\" 7.3\"],[\" 237.0\",\" 134.0\",\" 29.0\",\" 0.0\",\" 16.0\"],[\" 115.0\",\" 60.0\",\" 13.0\",\" 0.0\",\" 8.9\"],[\" 118.0\",\" 60.0\",\" 11.0\",\" 0.0\",\" 6.0\"],[\" 118.0\",\" 60.0\",\" 11.0\",\" 0.0\",\" 6.0\"],[\" 197.0\",\" 80.0\",\" 10.0\",\" 0.0\",\" 11.0\"],[\" 309.0\",\" 115.0\",\" 45.0\",\" 0.0\",\" 7.0\"],[\" 127.0\",\" 90.0\",\" 23.0\",\" 0.0\",\" 3.1\"],[\" 150.0\",\" 50.0\",\" 10.0\",\" 0.0\",\" 25.0\"],[\" 120.0\",\" 90.0\",\" 17.0\",\" 0.0\",\" 5.4\"],[\" 171.0\",\" 90.0\",\" 28.0\",\" 0.0\",\" 3.4\"],[\" 196.0\",\" 100.0\",\" 9.7\",\" 0.0\",\" 19.0\"],[\" 146.0\",\" 63.0\",\" 7.0\",\" 0.0\",\" 12.3\"],[\" 80.0\",\" 70.0\",\" 4.4\",\" 0.0\",\" 8.2\"],[\" 301.0\",\" 67.0\",\" 40.0\",\" 0.0\",\" 8.9\"],[\" 192.0\",\" 90.0\",\" 26.0\",\" 0.0\",\" 7.7\"],[\" 210.0\",\" 90.0\",\" 29.0\",\" 0.0\",\" 10.0\"],[\" 110.0\",\" 60.0\",\" 8.9\",\" 0.0\",\" 4.3\"],[\" 62.0\",\" 50.0\",\" 1.0\",\" 0.0\",\" 10.0\"],[\" 266.0\",\" 80.0\",\" 26.0\",\" 0.0\",\" 27.0\"],[\" 266.0\",\" 80.0\",\" 26.0\",\" 0.0\",\" 27.0\"]],\"hovertemplate\":\"<b>%{hovertext}</b><br><br>Classification (Label)=MEAT 1<br>Kcal =%{customdata[0]}<br>Serving Size =%{customdata[1]}<br>Carbohydrate =%{customdata[2]}<br>Sugars =%{customdata[3]}<br>Proteins =%{customdata[4]}<extra></extra>\",\"hovertext\":[\"Hamburguer de Soja Goshen\",\"Hamburguer de Soja Vegano Goshen\",\"Hamburguer de Quinoa Mr Veggy\",\"Hamburguer de lentil Mr Veggy\",\"Hamburguer vegano falafel amazonika mundi\",\"Hamburguer Vegetal Verdali\",\"VegBurger Sabor Carne\",\"Burger Gourmet Superbom\",\"Hamburguer Incr\\u00edvel Seara\",\"Not Burguer Notco\",\"Hamburguer de Fibra de Caju Amazonika Mundi\",\"Hamburguer Vegabom\",\"Hamburguer de Carne Veg  e Tal Sadia\",\"Hamburger New Butchers\",\"Hamburguer de Legumes Mr Veggy\",\"Hamburguer Vegetariano Mr Veggy\",\"Hambuguer Mr Veggy Mari Mari\",\"Hambuguer Mr Veggy Mari Mari Churrrasco\",\"Hamb\\u00farguer Fazenda Futuro 2.0\",\"Hamb\\u00farguer Vegano de Quinoa Amazonika Mundi\",\"Hamburguer Veggie Roots Tempero Indiano\",\"Hamb\\u00farguer Sora Carne Vermelha \",\"Hamburguer Veggie Roots brazilian spices\",\"Hamburguer veggie roots tempero mexicano\",\"Hamburguer de Soja Sabor Carne Vegway\",\"Hamb\\u00farguer de Soja Empanado Vegway\",\"Hamburguer Vegetal Superbom\",\"Hamburguer de chickpea Mr Veggy\",\"Hamburguer Veggie Roots Tempero \\u00c1rabe\",\"Hamburguer Veggie Roots Tempero Tail,\\u00eas\",\"Hamburguer Vegabom\",\"Hamb\\u00farguer Pronto Saud\\u00e1vel Sora\",\"hamburguer vegetal com herbs jasmine\",\"Hamburguer Vegetal Tradicional Jasmine\"],\"legendgroup\":\"MEAT 1\",\"marker\":{\"color\":\"#FFA15A\",\"symbol\":\"circle\",\"line\":{\"color\":\"DarkSlateGrey\",\"width\":1},\"size\":9},\"mode\":\"markers\",\"name\":\"MEAT 1\",\"orientation\":\"v\",\"showlegend\":true,\"x\":[-4.310866832733154,-4.270228385925293,-0.37084245681762695,2.6882150173187256,2.9702131748199463,1.4616297483444214,2.0355396270751953,2.707336902618408,1.3383924961090088,3.857978105545044,4.69595193862915,0.164833202958107,2.992945432662964,3.0873029232025146,-0.5032874941825867,-0.4673602879047394,-0.5400683879852295,-0.49316170811653137,5.169461250305176,3.35229754447937,3.1063976287841797,-1.5906548500061035,2.8861584663391113,2.7770566940307617,-2.8361411094665527,-2.9092066287994385,-1.8395048379898071,2.7914438247680664,2.9516489505767822,2.894544839859009,-0.11188417673110962,-0.3962230384349823,3.916374444961548,3.953195810317993],\"xaxis\":\"x\",\"y\":[6.594113349914551,6.365489482879639,7.493951320648193,3.0828874111175537,3.2494547367095947,8.391013145446777,3.260303497314453,4.741218566894531,9.408367156982422,5.283370018005371,5.099173545837402,7.6098504066467285,5.696849822998047,3.6297106742858887,7.241708278656006,7.295355796813965,7.156091213226318,7.17363166809082,5.150559425354004,4.601149559020996,4.903623104095459,5.992663383483887,4.81987190246582,4.7401323318481445,9.145088195800781,9.059529304504395,7.428709506988525,3.118927478790283,4.758259296417236,4.829001426696777,7.370678901672363,7.815593719482422,2.8121590614318848,2.791090726852417],\"yaxis\":\"y\",\"type\":\"scatter\"},{\"customdata\":[[\" 150.0\",\" 50.0\",\" 10.0\",\" 0.0\",\" 25.0\"],[\" 189.0\",\" 80.0\",\" 11.0\",\" 0.0\",\" 9.8\"],[\" 173.0\",\" 80.0\",\" 3.6\",\" 0.0\",\" 13.0\"],[\" 129.0\",\" 100.0\",\" 2.4\",\" 0.0\",\" 7.0\"],[\" 96.0\",\" 80.0\",\" 4.8\",\" 0.0\",\" 11.0\"]],\"hovertemplate\":\"<b>%{hovertext}</b><br><br>Classification (Label)=POULTRY 2<br>Kcal =%{customdata[0]}<br>Serving Size =%{customdata[1]}<br>Carbohydrate =%{customdata[2]}<br>Sugars =%{customdata[3]}<br>Proteins =%{customdata[4]}<extra></extra>\",\"hovertext\":[\"Hamb\\u00farguer Sora Carne Branca\",\"VegBurger Sabor Frango\",\"Hambuguer Incr\\u00edvel Seara Frango\",\"Frango Vegano em Peda\\u00e7os \\u00e0 Base de pea\",\"Hamb\\u00farguer de Frango Verdali\"],\"legendgroup\":\"POULTRY 2\",\"marker\":{\"color\":\"#19D3F3\",\"symbol\":\"circle\",\"line\":{\"color\":\"DarkSlateGrey\",\"width\":1},\"size\":9},\"mode\":\"markers\",\"name\":\"POULTRY 2\",\"orientation\":\"v\",\"showlegend\":true,\"x\":[-1.6661564111709595,2.0259292125701904,1.4317365884780884,2.86613130569458,1.3353413343429565],\"xaxis\":\"x\",\"y\":[6.087437629699707,3.2504801750183105,9.483115196228027,5.003934860229492,7.410376071929932],\"yaxis\":\"y\",\"type\":\"scatter\"},{\"customdata\":[[\" 116.0\",\" 60.0\",\" 2.9\",\" 0.0\",\" 7.9\"],[\" 116.0\",\" 60.0\",\" 2.9\",\" 0.0\",\" 7.9\"],[\" 198.0\",\" 100.0\",\" 14.0\",\" 0.0\",\" 15.0\"],[\" 449.0\",\" 130.0\",\" 31.0\",\" 0.0\",\" 12.0\"],[\" 291.0\",\" 130.0\",\" 29.0\",\" 0.0\",\" 17.0\"],[\" 127.0\",\" 40.0\",\" 4.9\",\" 0.0\",\" 6.5\"],[\" 94.0\",\" 40.0\",\" 3.4\",\" 0.0\",\" 6.7\"],[\" 61.0\",\" 40.0\",\" 3.0\",\" 0.0\",\" 7.2\"],[\" 330.0\",\" 130.0\",\" 32.0\",\" 0.0\",\" 13.0\"],[\" 210.0\",\" 80.0\",\" 32.0\",\" 0.0\",\" 8.0\"],[\" 178.0\",\" 130.0\",\" 21.5\",\" 0.0\",\" 13.4\"],[\" 110.0\",\" 80.0\",\" 13.0\",\" 0.0\",\" 8.5\"],[\" 188.0\",\" 100.0\",\" 24.0\",\" 0.0\",\" 13.0\"],[\" 188.0\",\" 100.0\",\" 24.0\",\" 0.0\",\" 13.0\"]],\"hovertemplate\":\"<b>%{hovertext}</b><br><br>Classification (Label)=POULTRY 1<br>Kcal =%{customdata[0]}<br>Serving Size =%{customdata[1]}<br>Carbohydrate =%{customdata[2]}<br>Sugars =%{customdata[3]}<br>Proteins =%{customdata[4]}<extra></extra>\",\"hovertext\":[\"Empanado de Frango Vegabom\",\"Fil\\u00e9 de Frango Empanado Vegabom\",\"Empanados de Frango Vegway\",\"Empanados Incr\\u00edveis Seara\",\"Empanados Sadia Veg e Tal\",\"Empanadinho de Soja  Goshen\",\"Empanadinho de Soja Vegano  Goshen\",\"Steak de Soja Vegano Goshen\",\"Empanado Vegano Mini Crispy 100 Foods\",\"Crispy Chicken 100 Foods\",\"Mini Empanado de Legumes Superbom\",\"Steak Vegan Sabor Legumes Superbom\",\"Steak Veg\\u00ea Sabor Frango\",\"Steak Veg\\u00ea Sabor Frango Empanado\"],\"legendgroup\":\"POULTRY 1\",\"marker\":{\"color\":\"#FF6692\",\"symbol\":\"circle\",\"line\":{\"color\":\"DarkSlateGrey\",\"width\":1},\"size\":9},\"mode\":\"markers\",\"name\":\"POULTRY 1\",\"orientation\":\"v\",\"showlegend\":true,\"x\":[0.16666918992996216,0.2748563289642334,-3.0439727306365967,1.459889531135559,1.4201172590255737,-4.285458087921143,-4.437756538391113,-4.2220611572265625,1.2134745121002197,1.1871763467788696,3.157078981399536,3.202711582183838,3.6683743000030518,3.6891465187072754],\"xaxis\":\"x\",\"y\":[7.823691368103027,7.879112720489502,9.075685501098633,9.153975486755371,9.123308181762695,6.578012466430664,6.614717960357666,6.543144702911377,8.658550262451172,8.616623878479004,5.337222576141357,5.232881546020508,4.589694023132324,4.550923824310303],\"yaxis\":\"y\",\"type\":\"scatter\"},{\"customdata\":[[\" 116.0\",\" 60.0\",\" 3.6\",\" 0.0\",\" 7.5\"],[\" 116.0\",\" 60.0\",\" 3.6\",\" 0.0\",\" 7.5\"],[\" 206.0\",\" 100.0\",\" 28.0\",\" 0.0\",\" 8.0\"],[\" 41.0\",\" 40.0\",\" 7.0\",\" 0.0\",\" 1.6\"],[\" 82.0\",\" 30.0\",\" 3.5\",\" 0.0\",\" 4.0\"]],\"hovertemplate\":\"<b>%{hovertext}</b><br><br>Classification (Label)=FISH 2<br>Kcal =%{customdata[0]}<br>Serving Size =%{customdata[1]}<br>Carbohydrate =%{customdata[2]}<br>Sugars =%{customdata[3]}<br>Proteins =%{customdata[4]}<extra></extra>\",\"hovertext\":[\"Fil\\u00e9 Peixe Empanado Vegabom\",\"Tirinhas de Peixe Empanado Vegabom\",\"Bolinho de Bacalhau New Butchers\",\"Bolinho de Siri Amazonika Mundi\",\"Camar\\u00e3o de Soja Vegano Goshen\"],\"legendgroup\":\"FISH 2\",\"marker\":{\"color\":\"#B6E880\",\"symbol\":\"circle\",\"line\":{\"color\":\"DarkSlateGrey\",\"width\":1},\"size\":9},\"mode\":\"markers\",\"name\":\"FISH 2\",\"orientation\":\"v\",\"showlegend\":true,\"x\":[0.23581071197986603,0.22399817407131195,3.410087823867798,3.27386212348938,-4.894491195678711],\"xaxis\":\"x\",\"y\":[7.846426963806152,7.861049175262451,3.5304062366485596,4.291569709777832,6.492419719696045],\"yaxis\":\"y\",\"type\":\"scatter\"},{\"customdata\":[[\" 124.0\",\" 50.0\",\" 5.1\",\" 0.0\",\" 0.0\"],[\" 124.0\",\" 50.0\",\" 5.1\",\" 0.0\",\" 0.0\"],[\" 124.0\",\" 50.0\",\" 5.1\",\" 0.0\",\" 0.0\"],[\" 31.0\",\" 10.0\",\" 0.6\",\" 0.0\",\" 0.3\"],[\" 25.0\",\" 10.0\",\" 0.7\",\" 0.0\",\" 0.3\"],[\" 29.0\",\" 10.0\",\" 0.7\",\" 0.0\",\" 0.3\"],[\" 30.0\",\" 10.0\",\" 0.7\",\" 0.0\",\" 0.3\"],[\" 178.0\",\" 100.0\",\" 8.7\",\" 0.0\",\" 8.4\"],[\" 178.0\",\" 100.0\",\" 8.7\",\" 0.0\",\" 8.4\"],[\" 280.0\",\" 100.0\",\" 23.3\",\" 0.0\",\" 3.0\"],[\" 170.0\",\" 100.0\",\" 6.0\",\" 0.0\",\" 4.7\"],[\" 170.0\",\" 100.0\",\" 6.0\",\" 0.0\",\" 4.7\"],[\" 82.0\",\" 30.0\",\" 2.7\",\" 0.0\",\" 1.5\"],[\" 83.0\",\" 30.0\",\" 2.9\",\" 0.0\",\" 1.5\"],[\" 95.0\",\" 30.0\",\" 9.1\",\" 0.0\",\" 2.0\"],[\" 89.0\",\" 30.0\",\" 8.2\",\" 0.0\",\" 1.9\"],[\" 93.0\",\" 30.0\",\" 8.8\",\" 0.0\",\" 1.9\"],[\" 83.0\",\" 30.0\",\" 2.3\",\" 0.0\",\" 1.6\"],[\" 83.0\",\" 30.0\",\" 2.3\",\" 0.0\",\" 1.6\"],[\" 83.0\",\" 30.0\",\" 2.3\",\" 0.0\",\" 1.6\"],[\" 581.0\",\" 100.0\",\" 30.2\",\" 0.0\",\" 18.2\"],[\" 581.0\",\" 100.0\",\" 30.2\",\" 0.0\",\" 18.2\"],[\" 59.0\",\" 30.0\",\" 2.0\",\" 0.0\",\" 0.9\"],[\" 43.0\",\" 30.0\",\" 1.2\",\" 0.0\",\" 0.8\"],[\" 100.0\",\" 30.0\",\" 5.4\",\" 0.0\",\" 2.9\"],[\" 43.0\",\" 30.0\",\" 1.2\",\" 0.0\",\" 0.8\"],[\" 394.0\",\" 100.0\",\" 23.0\",\" 0.0\",\" 13.0\"],[\" 30.0\",\" 12.0\",\" 3.0\",\" 0.0\",\" 0.7\"],[\" 62.8\",\" 20.0\",\" 3.6\",\" 0.0\",\" 2.0\"],[\" 57.1\",\" 20.0\",\" 3.4\",\" 0.0\",\" 1.9\"],[\" 68.4\",\" 20.0\",\" 3.8\",\" 0.0\",\" 2.1\"],[\" 62.8\",\" 20.0\",\" 3.6\",\" 0.0\",\" 2.0\"],[\" 89.0\",\" 30.0\",\" 6.4\",\" 0.0\",\" 0.0\"],[\" 72.0\",\" 30.0\",\" 2.9\",\" 0.0\",\" 1.0\"],[\" 58.0\",\" 30.0\",\" 3.5\",\" 0.0\",\" 1.0\"],[\" 71.0\",\" 30.0\",\" 2.8\",\" 0.0\",\" 0.9\"],[\" 78.0\",\" 30.0\",\" 3.4\",\" 0.0\",\" 1.0\"],[\" 76.0\",\" 30.0\",\" 3.4\",\" 0.0\",\" 0.9\"],[\" 36.0\",\" 15.0\",\" 1.0\",\" 0.0\",\" 0.3\"],[\" 38.0\",\" 10.0\",\" 0.8\",\" 0.0\",\" 0.3\"],[\" 51.0\",\" 15.0\",\" 3.8\",\" 0.0\",\" 0.7\"],[\" 36.0\",\" 15.0\",\" 1.2\",\" 0.0\",\" 0.4\"],[\" 47.0\",\" 15.0\",\" 2.8\",\" 0.0\",\" 0.1\"],[\" 47.0\",\" 15.0\",\" 2.8\",\" 0.0\",\" 0.1\"],[\" 49.0\",\" 15.0\",\" 3.1\",\" 0.0\",\" 0.1\"]],\"hovertemplate\":\"<b>%{hovertext}</b><br><br>Classification (Label)=DAIRY 3<br>Kcal =%{customdata[0]}<br>Serving Size =%{customdata[1]}<br>Carbohydrate =%{customdata[2]}<br>Sugars =%{customdata[3]}<br>Proteins =%{customdata[4]}<extra></extra>\",\"hovertext\":[\"Queijo Mu\\u00e7arela Vegabom\",\"Queijo Picante Vegabom\",\"Queijo Cheddar Vegabom\",\"Requeisoy Provolone \",\"Requeisoy Cheddar' \",\"Requeisoy Tradicional\",\"Requeisoy Gorgonzola\",\"Okeijo R\\u00fastico\",\"Okeijo Cremoso\",\"Okeijo Gratinado\",\"Okeijo Mussarela\",\"Okeijo Provolone\",\"Creme s Vida Veg\",\"Creme s fine herbs e Pesto\",\"Queijo mu\\u00e7arela\",\"Queijo minas frescal\",\"Queijo minas padr\\u00e3o\",\"Requeij\\u00e3o Tradicional\",\"Requeij\\u00e3o fine herbs\",\"Requeij\\u00e3o Defumado\",\"Queijo Zimurisku \",\"Queijo Zimurisku Temperado\",\"Queijo Mozarela NoMoo\",\"Queijo Provolone\",\"Queijo Ch\\u00e9vre\",\"Queijo Prato\",\"Queijo Parmes\\u00e3o\",\"Requeij\\u00e3o Nomoo\",\"Queijo Gorgolino\",\"Queijo Melhor Que Cheddar\",\"Queijo Recaishow\",\"Queijo Brie\",\"Mussarela Vegana Goshen\",\"Queijo ProVolone Veganita\",\"Queijo Munster Veganita\",\"Queijo Brie Veganita\",\"Queijo Mussarela Veganita\",\"Queijo Cheddar Veganita\",\"CREAM CHEESE CULIN\\u00c1RIO BASI.CO\",\"REQUEIJ\\u00c3O VEGETAL\",\"QUEIJO PARMES\\u00c3O\",\"QUEIJO MINAS VEGETAL\",\"QUEIJO PRATO\",\"QUEIJO MU\\u00c7ARELA\",\"QUEIJO CHEDDAR\"],\"legendgroup\":\"DAIRY 3\",\"marker\":{\"color\":\"#FF97FF\",\"symbol\":\"circle\",\"line\":{\"color\":\"DarkSlateGrey\",\"width\":1},\"size\":9},\"mode\":\"markers\",\"name\":\"DAIRY 3\",\"orientation\":\"v\",\"showlegend\":true,\"x\":[2.3602373600006104,2.43746280670166,2.3644814491271973,8.11540412902832,8.18177604675293,8.088605880737305,8.092174530029297,2.832066297531128,3.0579745769500732,2.736328601837158,2.543084144592285,2.549697160720825,1.4784270524978638,1.3866121768951416,1.1831979751586914,1.2646061182022095,1.2248194217681885,1.341557502746582,1.4572410583496094,1.4479752779006958,3.5647008419036865,3.5254578590393066,2.1404011249542236,2.1115376949310303,2.5589449405670166,2.2389461994171143,2.5013887882232666,2.207120895385742,2.200509786605835,3.8241126537323,2.308711528778076,2.490112543106079,3.3379859924316406,2.3007874488830566,2.347618579864502,2.213505983352661,2.3047308921813965,2.2954869270324707,3.091836929321289,3.1198832988739014,2.9002537727355957,3.413874626159668,2.8229262828826904,2.7438294887542725,2.828202962875366],\"xaxis\":\"x\",\"y\":[4.782182693481445,4.7395734786987305,4.798213481903076,4.666067123413086,4.613269329071045,4.735071182250977,4.701004981994629,3.0963377952575684,3.196089267730713,2.3830857276916504,2.6336591243743896,2.652914047241211,2.9514784812927246,3.0098366737365723,2.753389596939087,2.7410237789154053,2.7241766452789307,2.8624680042266846,2.954379081726074,2.9572701454162598,2.8139522075653076,2.872929334640503,1.688713788986206,1.5493632555007935,1.9246695041656494,1.5146785974502563,2.048043727874756,1.4018843173980713,1.8489855527877808,3.0467751026153564,1.6404844522476196,1.8262443542480469,4.46550989151001,1.680729866027832,1.4312695264816284,1.6224926710128784,1.5916498899459839,1.4748135805130005,2.008655309677124,2.1692073345184326,1.7785041332244873,2.673475980758667,1.6235456466674805,1.5416789054870605,1.6008938550949097],\"yaxis\":\"y\",\"type\":\"scatter\"},{\"customdata\":[[\" 146.0\",\" 90.0\",\" 12.1\",\" 0.0\",\" 11.9\"],[\" 327.0\",\" 240.0\",\" 41.0\",\" 0.0\",\" 11.0\"],[\" 317.0\",\" 100.0\",\" 17.0\",\" 0.0\",\" 13.0\"],[\" 153.0\",\" 100.0\",\" 12.0\",\" 0.0\",\" 6.0\"],[\" 138.0\",\" 100.0\",\" 19.0\",\" 0.0\",\" 2.0\"],[\" 304.0\",\" 300.0\",\" 19.0\",\" 0.0\",\" 21.0\"],[\" 440.0\",\" 130.0\",\" 31.0\",\" 0.0\",\" 12.0\"],[\" 166.0\",\" 80.0\",\" 7.1\",\" 0.0\",\" 12.0\"]],\"hovertemplate\":\"<b>%{hovertext}</b><br><br>Classification (Label)=FISH 1<br>Kcal =%{customdata[0]}<br>Serving Size =%{customdata[1]}<br>Carbohydrate =%{customdata[2]}<br>Sugars =%{customdata[3]}<br>Proteins =%{customdata[4]}<extra></extra>\",\"hovertext\":[\"Fil\\u00e9 de saltm\\u00e3o New Butchers\",\"Bacalhau New  Butchers\",\"Isca de Peixe Vegway\",\"Fil\\u00e9 de Peixe Vegway\",\"Vieira de Soja Vegway\",\"Bacalhau Incr\\u00edvel Seara\",\"Iscas de Peixe Incr\\u00edvel Seara\",\"Atum do Futuro\"],\"legendgroup\":\"FISH 1\",\"marker\":{\"color\":\"#FECB52\",\"symbol\":\"circle\",\"line\":{\"color\":\"DarkSlateGrey\",\"width\":1},\"size\":9},\"mode\":\"markers\",\"name\":\"FISH 1\",\"orientation\":\"v\",\"showlegend\":true,\"x\":[3.427518129348755,3.403045415878296,-2.995265007019043,-2.8755674362182617,-2.8750052452087402,1.5496422052383423,1.4075504541397095,5.096805572509766],\"xaxis\":\"x\",\"y\":[3.5263209342956543,3.7234222888946533,9.053506851196289,8.945342063903809,8.767672538757324,9.609919548034668,9.216915130615234,5.0607380867004395],\"yaxis\":\"y\",\"type\":\"scatter\"},{\"customdata\":[[\" 78.0\",\" 40.0\",\" 3.9\",\" 0.0\",\" 7.4\"],[\" 185.0\",\" 60.0\",\" 31.0\",\" 0.0\",\" 1.1\"],[\" 34.0\",\" 20.0\",\" 0.2\",\" 0.0\",\" 3.4\"],[\" 75.0\",\" 40.0\",\" 3.6\",\" 0.0\",\" 7.6\"],[\" 35.0\",\" 20.0\",\" 0.4\",\" 0.0\",\" 3.9\"],[\" 476.0\",\" 100.0\",\" 14.0\",\" 0.0\",\" 42.0\"]],\"hovertemplate\":\"<b>%{hovertext}</b><br><br>Classification (Label)=PORK 2<br>Kcal =%{customdata[0]}<br>Serving Size =%{customdata[1]}<br>Carbohydrate =%{customdata[2]}<br>Sugars =%{customdata[3]}<br>Proteins =%{customdata[4]}<extra></extra>\",\"hovertext\":[\"Presunto de Soja Vegway\",\"Bacon Vegano\",\"Mortadela de Soja Vegana Goshen\",\"Presunto de Soja Defumado\",\"Presunto de Soja Vegano Fatiado Goshen\",\"Bacon Crispy Verdali\"],\"legendgroup\":\"PORK 2\",\"marker\":{\"color\":\"rgb(127, 60, 141)\",\"symbol\":\"circle\",\"line\":{\"color\":\"DarkSlateGrey\",\"width\":1},\"size\":9},\"mode\":\"markers\",\"name\":\"PORK 2\",\"orientation\":\"v\",\"showlegend\":true,\"x\":[-2.909736394882202,3.828533172607422,-4.995053291320801,-4.358231067657471,-4.8092145919799805,1.4529876708984375],\"xaxis\":\"x\",\"y\":[9.142345428466797,3.316607713699341,6.705843925476074,6.5339202880859375,6.546560287475586,7.010150909423828],\"yaxis\":\"y\",\"type\":\"scatter\"},{\"customdata\":[[\" 92.0\",\" 250.0\",\" 3.7\",\" 2.0\",\" 3.2\"],[\" 60.0\",\" 250.0\",\" 3.4\",\" 2.0\",\" 3.2\"],[\" 68.0\",\" 200.0\",\" 0.9\",\" 0.0\",\" 3.0\"],[\" 53.0\",\" 200.0\",\" 0.0\",\" 0.0\",\" 3.0\"],[\" 70.0\",\" 200.0\",\" 1.0\",\" 0.0\",\" 3.0\"],[\" 88.0\",\" 200.0\",\" 4.0\",\" 0.0\",\" 3.0\"],[\" 58.0\",\" 200.0\",\" 0.8\",\" 0.0\",\" 3.0\"],[\" 108.0\",\" 200.0\",\" 13.0\",\" 0.0\",\" 1.1\"],[\" 145.0\",\" 200.0\",\" 18.0\",\" 0.0\",\" 1.5\"],[\" 117.0\",\" 200.0\",\" 27.0\",\" 10.0\",\" 0.0\"],[\" 111.0\",\" 200.0\",\" 20.0\",\" 9.4\",\" 0.0\"],[\" 117.0\",\" 200.0\",\" 27.0\",\" 10.0\",\" 1.0\"],[\" 145.0\",\" 200.0\",\" 18.0\",\" 0.0\",\" 1.5\"],[\" 117.0\",\" 200.0\",\" 27.0\",\" 10.0\",\" 0.0\"],[\" 134.0\",\" 200.0\",\" 27.0\",\" 10.0\",\" 4.6\"],[\" 72.0\",\" 200.0\",\" 11.0\",\" 8.9\",\" 1.1\"],[\" 113.0\",\" 200.0\",\" 7.5\",\" 6.7\",\" 7.0\"],[\" 79.0\",\" 200.0\",\" 12.0\",\" 10.0\",\" 1.2\"],[\" 91.0\",\" 200.0\",\" 15.0\",\" 10.0\",\" 1.1\"],[\" 84.0\",\" 200.0\",\" 16.0\",\" 9.4\",\" 2.0\"],[\" 104.0\",\" 260.0\",\" 20.0\",\" 12.0\",\" 3.0\"],[\" 79.0\",\" 25.0\",\" 8.6\",\" 3.1\",\" 7.3\"],[\" 73.0\",\" 25.0\",\" 11.0\",\" 3.2\",\" 5.0\"],[\" 120.0\",\" 200.0\",\" 15.0\",\" 11.0\",\" 4.8\"],[\" 97.0\",\" 200.0\",\" 8.4\",\" 5.9\",\" 2.3\"],[\" 66.0\",\" 200.0\",\" 10.0\",\" 7.3\",\" 2.7\"],[\" 99.0\",\" 200.0\",\" 16.0\",\" 11.5\",\" 4.1\"],[\" 104.0\",\" 200.0\",\" 18.0\",\" 12.6\",\" 3.6\"],[\" 82.0\",\" 200.0\",\" 14.0\",\" 8.8\",\" 3.3\"],[\" 97.0\",\" 200.0\",\" 8.4\",\" 5.9\",\" 2.3\"],[\" 51.0\",\" 200.0\",\" 6.3\",\" 6.3\",\" 0.9\"],[\" 98.0\",\" 200.0\",\" 17.0\",\" 17.0\",\" 1.3\"],[\" 70.0\",\" 200.0\",\" 11.0\",\" 11.0\",\" 0.9\"],[\" 30.0\",\" 200.0\",\" 0.9\",\" 0.9\",\" 0.9\"],[\" 58.0\",\" 200.0\",\" 8.5\",\" 0.0\",\" 0.9\"],[\" 44.0\",\" 250.0\",\" 1.4\",\" 1.4\",\" 1.6\"],[\" 21.0\",\" 200.0\",\" 4.7\",\" 0.0\",\" 1.0\"],[\" 48.0\",\" 200.0\",\" 6.8\",\" 4.0\",\" 6.8\"],[\" 59.0\",\" 200.0\",\" 7.5\",\" 0.0\",\" 0.9\"],[\" 84.0\",\" 200.0\",\" 15.0\",\" 0.0\",\" 1.2\"],[\" 55.0\",\" 200.0\",\" 4.7\",\" 0.0\",\" 0.0\"],[\" 74.0\",\" 200.0\",\" 15.0\",\" 0.0\",\" 0.0\"],[\" 74.0\",\" 200.0\",\" 15.0\",\" 0.0\",\" 0.0\"],[\" 74.0\",\" 200.0\",\" 15.0\",\" 0.0\",\" 0.0\"],[\" 74.0\",\" 200.0\",\" 15.0\",\" 0.0\",\" 0.0\"],[\" 74.0\",\" 200.0\",\" 15.0\",\" 0.0\",\" 0.0\"],[\" 74.0\",\" 200.0\",\" 15.0\",\" 0.0\",\" 0.0\"],[\" 74.0\",\" 200.0\",\" 15.0\",\" 0.0\",\" 0.0\"],[\" 114.0\",\" 30.0\",\" 25.0\",\" 0.0\",\" 2.0\"],[\" 114.0\",\" 30.0\",\" 25.0\",\" 0.0\",\" 2.0\"],[\" 114.0\",\" 30.0\",\" 25.0\",\" 0.0\",\" 2.0\"],[\" 114.0\",\" 30.0\",\" 25.0\",\" 0.0\",\" 2.0\"],[\" 114.0\",\" 30.0\",\" 25.0\",\" 0.0\",\" 2.0\"],[\" 78.0\",\" 200.0\",\" 8.5\",\" 2.8\",\" 2.4\"],[\" 90.0\",\" 200.0\",\" 3.0\",\" 0.9\",\" 3.0\"],[\" 80.0\",\" 200.0\",\" 3.1\",\" 0.8\",\" 2.0\"],[\" 57.0\",\" 200.0\",\" 1.7\",\" 0.4\",\" 1.9\"],[\" 150.0\",\" 200.0\",\" 18.0\",\" 0.0\",\" 3.0\"],[\" 75.0\",\" 200.0\",\" 16.0\",\" 6.3\",\" 0.0\"],[\" 100.0\",\" 200.0\",\" 2.3\",\" 0.8\",\" 7.0\"],[\" 80.0\",\" 200.0\",\" 3.3\",\" 0.9\",\" 2.1\"],[\" 109.0\",\" 200.0\",\" 3.1\",\" 0.1\",\" 5.4\"],[\" 29.0\",\" 200.0\",\" 0.7\",\" 0.0\",\" 0.7\"],[\" 36.0\",\" 200.0\",\" 1.3\",\" 0.0\",\" 1.3\"],[\" 23.0\",\" 200.0\",\" 4.0\",\" 0.0\",\" 0.8\"],[\" 82.0\",\" 200.0\",\" 2.2\",\" 0.4\",\" 1.6\"],[\" 106.0\",\" 200.0\",\" 3.0\",\" 0.5\",\" 3.0\"],[\" 86.0\",\" 200.0\",\" 3.0\",\" 0.5\",\" 3.0\"],[\" 41.0\",\" 200.0\",\" 5.0\",\" 4.2\",\" 0.8\"],[\" 80.0\",\" 200.0\",\" 12.0\",\" 9.3\",\" 1.5\"],[\" 26.0\",\" 200.0\",\" 1.0\",\" 0.3\",\" 0.7\"],[\" 27.0\",\" 200.0\",\" 1.0\",\" 0.2\",\" 0.8\"],[\" 71.0\",\" 200.0\",\" 11.0\",\" 8.9\",\" 1.1\"],[\" 99.0\",\" 200.0\",\" 14.0\",\" 9.6\",\" 2.2\"],[\" 106.0\",\" 200.0\",\" 19.0\",\" 17.0\",\" 2.2\"],[\" 93.0\",\" 200.0\",\" 16.0\",\" 8.9\",\" 1.1\"],[\" 95.0\",\" 200.0\",\" 12.0\",\" 0.0\",\" 5.4\"],[\" 123.0\",\" 200.0\",\" 4.8\",\" 0.0\",\" 5.1\"],[\" 108.0\",\" 200.0\",\" 5.4\",\" 0.0\",\" 3.8\"],[\" 84.0\",\" 200.0\",\" 3.9\",\" 0.0\",\" 2.8\"]],\"hovertemplate\":\"<b>%{hovertext}</b><br><br>Classification (Label)=DAIRY 1<br>Kcal =%{customdata[0]}<br>Serving Size =%{customdata[1]}<br>Carbohydrate =%{customdata[2]}<br>Sugars =%{customdata[3]}<br>Proteins =%{customdata[4]}<extra></extra>\",\"hovertext\":[\"Not Milk \",\"Not Milk Semidesnatado\",\" Vegetal de almonds\",\" vegetal \",\" Vegetal de almonds Fresco\",\" Vegetal  de Caj\\u00fa Fresco\",\" Vegetal  Fresco\",\" Vegetal Noats Original\",\" Vegetal Noats Barista\",\" Jasmine rice powder\",\" BIOV jasmine rice com amendoas\",\" BIOV jasmine rice com coco\",\" BioV oats Jasmine\",\" Jasmine rice \",\" Jasmine rice com oats\",\"Bebida de rice Nesfit\",\"Bebida Natural Nesfit\",\"Bebida de rice  e Amendoas Nesfit\",\"Bebida de rice e Coco Nesfit\",\"Bebida de oats Nesfit\",\"Bebida de oats e cocoa\",\"Molico Vegetal Nestl\\u00e9\",\"Ninho Vegetal Nestl\\u00e9\",\"Ninho Banana e apple Nestl\\u00e9\",\"Nude Edi\\u00e7\\u00e3o Barista\",\"Nude Original \",\"Nude Sabor Baunilha\",\"Nude de cocoa\",\"Nude + calcium\",\"Nude Barista\",\"Almond Breeze Original\",\"Almond Breeze Chocolate\",\"Almond Breeze Baunilha\",\"Almond Breeze Sem sugar\",\"Almond Breeze Amendoas com Coco\",\"Almond Breeze Chocolate Sem sugar\",\" de Amendoas Silk Sem sugar\",\" de Amendoas Silk \",\" cashews Silk\",\" de almonds e cocoa Silk\",\" de almonds Silk Coco\",\"Bebida de rice L\\u00edquida Sabor Original\",\"Bebida de rice L\\u00edquida Sabor almonds\",\"Bebida de rice L\\u00edquida Sabor peanuts\\n\",\"Bebida de rice L\\u00edquida Sabor cashews\",\"Bebida de rice L\\u00edquida Sabor Chocolate\",\"Bebida de rice L\\u00edquida Sabor Coco\",\"Bebida de rice L\\u00edquida Sabor Baunilha\",\"Bebida de rice powder Sabor Original\",\"Bebida de rice powder Sabor Original\",\"Bebida de rice powder Sabor Banana e apple\",\"Bebida de rice powder Sabor Chocolate\",\"Bebida de rice powder Sabor strawberries\",\" a tal da castanha barista\",\" a tal da castanha original\",\" a tal da castanha caju + Coco\",\" a tal da castanha almonds\",\" a tal da castanha castanha + cocoa\",\" a tal da castanha oats\",\" a tal da castanha mixed nuts\",\" a tal da castanha caju + Par\\u00e1\",\" a tal da castanha caju + peanuts\",\" Natuterra oats + Coco\",\" de almonds Natuterra\",\" Natuterra oats \",\" Vegetal 3 Nuts \\u2013 macadamia nuts, almonds e cashews\",\" Vegetal de macadamia nuts e Coco\",\" Vegetal de macadamia nuts e cashews\",\" Vegetal Possible Foods\",\" Vegetal Possible Foods Chocolate\",\"Bebida de castanh de caj\\u00fa sem adi\\u00e7\\u00e3o de sugar nature's heart\",\"Bebida de almonds s/ adi\\u00e7\\u00e3o de sugares 1L \\u2013 Nature\\u2019s Heart\",\"Bebida de rice s/ adi\\u00e7\\u00e3o de sugares 1L \\u2013 Nature\\u2019s Heart\",\"Bebida de oats s/ adi\\u00e7\\u00e3o de sugares 1L \\u2013 Nature\\u2019s Heart\",\"Bebida de cocoa & rice 1L \\u2013 Nature\\u2019s Heart\",\"Bebida  & rice s/ adi\\u00e7\\u00e3o de sugares 1L \\u2013 Nature\\u2019s Heart\",\" Vegetal de soy Naturis Batavo\",\" DUOLAT peanuts E CASTANHA 1L - CAJUEIRO\",\" 85 CASTANHAS 1L - CAJUEIRO\",\" TOASTED 1L - CAJUEIRO\"],\"legendgroup\":\"DAIRY 1\",\"marker\":{\"color\":\"rgb(17, 165, 121)\",\"symbol\":\"circle\",\"line\":{\"color\":\"DarkSlateGrey\",\"width\":1},\"size\":9},\"mode\":\"markers\",\"name\":\"DAIRY 1\",\"orientation\":\"v\",\"showlegend\":true,\"x\":[3.7148468494415283,3.7706544399261475,6.318826198577881,6.2768874168396,6.344929218292236,6.30037260055542,6.249104976654053,3.026710271835327,3.0887832641601562,2.8601553440093994,3.6414194107055664,2.9892473220825195,3.1266286373138428,2.881044626235962,2.9767343997955322,3.532301664352417,3.8604135513305664,3.7928004264831543,3.919891595840454,3.527808904647827,3.5231213569641113,4.414130687713623,4.467890739440918,4.448227882385254,3.2966208457946777,3.040228843688965,3.3556268215179443,3.32940411567688,3.373389959335327,3.3337721824645996,7.780447483062744,7.855608940124512,7.849377632141113,7.8544087409973145,7.795686721801758,7.852444171905518,6.544548034667969,6.490448951721191,6.552662372589111,6.528889179229736,6.5972981452941895,3.5315909385681152,3.6452794075012207,3.6278247833251953,3.6752240657806396,3.675367832183838,3.678734540939331,3.6104226112365723,2.8784101009368896,2.853807210922241,2.6495625972747803,2.7415566444396973,2.73646879196167,3.674731731414795,3.7761220932006836,4.095331192016602,4.273292064666748,3.8681397438049316,3.5099499225616455,3.9903676509857178,4.00191593170166,3.8611676692962646,4.7162580490112305,4.81035852432251,4.722046375274658,4.295377254486084,4.267236232757568,4.371592044830322,3.9116299152374268,3.850458860397339,4.474767684936523,4.435895919799805,4.412597179412842,4.376213550567627,4.383697509765625,4.300775527954102,3.5774545669555664,3.857630491256714,3.9316189289093018,3.978745937347412],\"xaxis\":\"x\",\"y\":[5.22967529296875,5.273910045623779,2.674445629119873,2.615722179412842,2.7046561241149902,2.741009473800659,2.7051775455474854,5.657834053039551,5.657436370849609,6.7238311767578125,6.486323356628418,6.780593395233154,5.587692737579346,6.698535442352295,6.777482032775879,6.1563401222229,3.6749393939971924,6.437990665435791,6.424205303192139,5.859221935272217,5.767990589141846,3.84769606590271,3.876976728439331,3.8636882305145264,5.154816627502441,5.014191150665283,4.946356773376465,4.912778377532959,5.149742603302002,5.1248931884765625,0.3390602171421051,0.2636793553829193,0.26605844497680664,0.2668020725250244,0.3256929814815521,0.26865676045417786,1.4509230852127075,1.3763715028762817,1.4444788694381714,1.4327545166015625,1.5012640953063965,6.844813346862793,7.030912399291992,6.884395122528076,6.726129055023193,6.869989395141602,6.846547603607178,6.905517101287842,6.098843574523926,6.13146448135376,6.38353967666626,6.478196620941162,6.480780601501465,5.021417140960693,3.136892318725586,3.266767978668213,3.4767329692840576,3.5628578662872314,4.942560195922852,3.0816738605499268,3.1367111206054688,2.990434408187866,3.534176826477051,3.4395127296447754,3.539909839630127,3.121229648590088,3.080681800842285,3.1328284740448,4.590198516845703,4.564157009124756,6.766483306884766,6.721423625946045,6.676540374755859,6.72429895401001,6.712117671966553,6.792994976043701,4.368648529052734,3.0379908084869385,3.445279836654663,2.972341299057007],\"yaxis\":\"y\",\"type\":\"scatter\"},{\"customdata\":[[\" 142.0\",\" 200.0\",\" 22.0\",\" 0.0\",\" 0.8\"],[\" 149.0\",\" 200.0\",\" 24.0\",\" 0.0\",\" 0.8\"],[\" 149.0\",\" 200.0\",\" 24.0\",\" 0.0\",\" 0.8\"],[\" 92.0\",\" 200.0\",\" 6.4\",\" 0.0\",\" 0.9\"],[\" 100.0\",\" 200.0\",\" 8.2\",\" 0.0\",\" 1.0\"],[\" 145.0\",\" 150.0\",\" 20.0\",\" 0.0\",\" 1.0\"],[\" 148.0\",\" 150.0\",\" 21.0\",\" 0.0\",\" 1.0\"],[\" 156.0\",\" 250.0\",\" 11.7\",\" 0.0\",\" 14.0\"],[\" 123.0\",\" 250.0\",\" 11.0\",\" 0.0\",\" 10.0\"],[\" 152.0\",\" 250.0\",\" 11.0\",\" 0.0\",\" 14.0\"],[\" 27.0\",\" 15.0\",\" 0.0\",\" 0.0\",\" 0.0\"]],\"hovertemplate\":\"<b>%{hovertext}</b><br><br>Classification (Label)=DAIRY 2<br>Kcal =%{customdata[0]}<br>Serving Size =%{customdata[1]}<br>Carbohydrate =%{customdata[2]}<br>Sugars =%{customdata[3]}<br>Proteins =%{customdata[4]}<extra></extra>\",\"hovertext\":[\"Iogurte \",\"Iogurte  com strawberries\",\"Iogurte  com banana, apple e papaya\",\"Iogurte  Zero sugar\",\"Iogurte  com strawberries Zero sugar\",\"Iogurte GregoVeg \",\"Iogurte GregoVeg  com strawberries\",\"Iogurte Proteico 14g sabor strawberries\",\"Shake \",\"Iogurte Proteico 14g sabor  peanuts\",\"Creme de almonds\"],\"legendgroup\":\"DAIRY 2\",\"marker\":{\"color\":\"rgb(57, 105, 172)\",\"symbol\":\"circle\",\"line\":{\"color\":\"DarkSlateGrey\",\"width\":1},\"size\":9},\"mode\":\"markers\",\"name\":\"DAIRY 2\",\"orientation\":\"v\",\"showlegend\":true,\"x\":[5.436797142028809,5.387916564941406,5.348811626434326,5.400452613830566,5.365690231323242,5.081547737121582,4.963449001312256,5.679393291473389,6.267917633056641,5.658438682556152,4.16237735748291],\"xaxis\":\"x\",\"y\":[2.7034809589385986,2.5655276775360107,2.6068596839904785,2.668382167816162,2.610706329345703,2.744807720184326,2.7928273677825928,2.8340179920196533,2.612332820892334,2.7764363288879395,3.4132418632507324],\"yaxis\":\"y\",\"type\":\"scatter\"},{\"customdata\":[[\" 28.0\",\" 12.0\",\" 1.4\",\" 0.0\",\" 2.5\"],[\" 20.0\",\" 12.0\",\" 0.0\",\" 0.0\",\" 0.0\"],[\" 70.0\",\" 12.0\",\" 0.0\",\" 0.0\",\" 0.0\"],[\" 71.0\",\" 12.0\",\" 0.6\",\" 0.0\",\" 0.0\"],[\" 57.0\",\" 12.0\",\" 0.6\",\" 0.0\",\" 0.0\"],[\" 56.0\",\" 12.0\",\" 0.6\",\" 0.0\",\" 0.0\"],[\" 33.0\",\" 12.0\",\" 0.6\",\" 0.0\",\" 0.4\"],[\" 33.0\",\" 12.0\",\" 0.6\",\" 0.0\",\" 0.4\"],[\" 33.0\",\" 12.0\",\" 0.6\",\" 0.0\",\" 0.4\"],[\" 33.0\",\" 12.0\",\" 0.6\",\" 0.0\",\" 0.4\"],[\" 33.0\",\" 12.0\",\" 0.6\",\" 0.0\",\" 0.4\"],[\" 25.0\",\" 12.0\",\" 0.0\",\" 0.0\",\" 0.0\"],[\" 21.0\",\" 12.0\",\" 0.0\",\" 0.0\",\" 0.0\"],[\" 84.0\",\" 40.0\",\" 5.2\",\" 0.0\",\" 0.5\"]],\"hovertemplate\":\"<b>%{hovertext}</b><br><br>Classification (Label)=EGG 1<br>Kcal =%{customdata[0]}<br>Serving Size =%{customdata[1]}<br>Carbohydrate =%{customdata[2]}<br>Sugars =%{customdata[3]}<br>Proteins =%{customdata[4]}<extra></extra>\",\"hovertext\":[\"MAIONESE VEGETAL SUPERBOM\",\"MAIONESE FUGINI\",\"NOT MAYO\",\"NOT MAYO garlic\",\"NOT MAYO AZEITONA\",\"NOT MAYO PICANTE\",\"MAIONESE V-MAYO\",\"MAIONESE V-MAYO ApepperDA\",\"MAIONESE V-MAYO TRUFADA\",\"MAIONESE V-MAYO DE ABACATE\",\"MAIONESE V-MAYO DE garlic\",\"MAIONESE HELLMANS\",\"MAIONESE VEGANA FUGINI\",\"MAIONESE DEL\\u00cdCIAS DE GOI\\u00c1S\"],\"legendgroup\":\"EGG 1\",\"marker\":{\"color\":\"rgb(242, 183, 1)\",\"symbol\":\"circle\",\"line\":{\"color\":\"DarkSlateGrey\",\"width\":1},\"size\":9},\"mode\":\"markers\",\"name\":\"EGG 1\",\"orientation\":\"v\",\"showlegend\":true,\"x\":[8.063136100769043,8.081486701965332,7.902263641357422,7.977818489074707,7.976746559143066,7.967214107513428,9.122986793518066,9.198408126831055,9.132920265197754,9.189647674560547,9.129030227661133,8.033344268798828,8.172375679016113,2.921077251434326],\"xaxis\":\"x\",\"y\":[4.969326019287109,5.002320289611816,5.474132537841797,5.569732666015625,5.579020977020264,5.560104846954346,5.637768745422363,5.719141960144043,5.652979373931885,5.705593585968018,5.648062705993652,5.051035404205322,5.060093402862549,3.610964298248291],\"yaxis\":\"y\",\"type\":\"scatter\"},{\"customdata\":[[\" 25.0\",\" 10.0\",\" 3.3\",\" 0.0\",\" 4.1\"],[\" 28.0\",\" 7.0\",\" 1.2\",\" 0.0\",\" 3.1\"]],\"hovertemplate\":\"<b>%{hovertext}</b><br><br>Classification (Label)=EGG 2<br>Kcal =%{customdata[0]}<br>Serving Size =%{customdata[1]}<br>Carbohydrate =%{customdata[2]}<br>Sugars =%{customdata[3]}<br>Proteins =%{customdata[4]}<extra></extra>\",\"hovertext\":[\"Ovos Novos\",\"Ovos Novos\"],\"legendgroup\":\"EGG 2\",\"marker\":{\"color\":\"rgb(231, 63, 116)\",\"symbol\":\"circle\",\"line\":{\"color\":\"DarkSlateGrey\",\"width\":1},\"size\":9},\"mode\":\"markers\",\"name\":\"EGG 2\",\"orientation\":\"v\",\"showlegend\":true,\"x\":[4.0222320556640625,3.7905843257904053],\"xaxis\":\"x\",\"y\":[3.377751111984253,3.3456175327301025],\"yaxis\":\"y\",\"type\":\"scatter\"}],                        {\"template\":{\"data\":{\"barpolar\":[{\"marker\":{\"line\":{\"color\":\"white\",\"width\":0.5},\"pattern\":{\"fillmode\":\"overlay\",\"size\":10,\"solidity\":0.2}},\"type\":\"barpolar\"}],\"bar\":[{\"error_x\":{\"color\":\"rgb(36,36,36)\"},\"error_y\":{\"color\":\"rgb(36,36,36)\"},\"marker\":{\"line\":{\"color\":\"white\",\"width\":0.5},\"pattern\":{\"fillmode\":\"overlay\",\"size\":10,\"solidity\":0.2}},\"type\":\"bar\"}],\"carpet\":[{\"aaxis\":{\"endlinecolor\":\"rgb(36,36,36)\",\"gridcolor\":\"white\",\"linecolor\":\"white\",\"minorgridcolor\":\"white\",\"startlinecolor\":\"rgb(36,36,36)\"},\"baxis\":{\"endlinecolor\":\"rgb(36,36,36)\",\"gridcolor\":\"white\",\"linecolor\":\"white\",\"minorgridcolor\":\"white\",\"startlinecolor\":\"rgb(36,36,36)\"},\"type\":\"carpet\"}],\"choropleth\":[{\"colorbar\":{\"outlinewidth\":1,\"tickcolor\":\"rgb(36,36,36)\",\"ticks\":\"outside\"},\"type\":\"choropleth\"}],\"contourcarpet\":[{\"colorbar\":{\"outlinewidth\":1,\"tickcolor\":\"rgb(36,36,36)\",\"ticks\":\"outside\"},\"type\":\"contourcarpet\"}],\"contour\":[{\"colorbar\":{\"outlinewidth\":1,\"tickcolor\":\"rgb(36,36,36)\",\"ticks\":\"outside\"},\"colorscale\":[[0.0,\"#440154\"],[0.1111111111111111,\"#482878\"],[0.2222222222222222,\"#3e4989\"],[0.3333333333333333,\"#31688e\"],[0.4444444444444444,\"#26828e\"],[0.5555555555555556,\"#1f9e89\"],[0.6666666666666666,\"#35b779\"],[0.7777777777777778,\"#6ece58\"],[0.8888888888888888,\"#b5de2b\"],[1.0,\"#fde725\"]],\"type\":\"contour\"}],\"heatmapgl\":[{\"colorbar\":{\"outlinewidth\":1,\"tickcolor\":\"rgb(36,36,36)\",\"ticks\":\"outside\"},\"colorscale\":[[0.0,\"#440154\"],[0.1111111111111111,\"#482878\"],[0.2222222222222222,\"#3e4989\"],[0.3333333333333333,\"#31688e\"],[0.4444444444444444,\"#26828e\"],[0.5555555555555556,\"#1f9e89\"],[0.6666666666666666,\"#35b779\"],[0.7777777777777778,\"#6ece58\"],[0.8888888888888888,\"#b5de2b\"],[1.0,\"#fde725\"]],\"type\":\"heatmapgl\"}],\"heatmap\":[{\"colorbar\":{\"outlinewidth\":1,\"tickcolor\":\"rgb(36,36,36)\",\"ticks\":\"outside\"},\"colorscale\":[[0.0,\"#440154\"],[0.1111111111111111,\"#482878\"],[0.2222222222222222,\"#3e4989\"],[0.3333333333333333,\"#31688e\"],[0.4444444444444444,\"#26828e\"],[0.5555555555555556,\"#1f9e89\"],[0.6666666666666666,\"#35b779\"],[0.7777777777777778,\"#6ece58\"],[0.8888888888888888,\"#b5de2b\"],[1.0,\"#fde725\"]],\"type\":\"heatmap\"}],\"histogram2dcontour\":[{\"colorbar\":{\"outlinewidth\":1,\"tickcolor\":\"rgb(36,36,36)\",\"ticks\":\"outside\"},\"colorscale\":[[0.0,\"#440154\"],[0.1111111111111111,\"#482878\"],[0.2222222222222222,\"#3e4989\"],[0.3333333333333333,\"#31688e\"],[0.4444444444444444,\"#26828e\"],[0.5555555555555556,\"#1f9e89\"],[0.6666666666666666,\"#35b779\"],[0.7777777777777778,\"#6ece58\"],[0.8888888888888888,\"#b5de2b\"],[1.0,\"#fde725\"]],\"type\":\"histogram2dcontour\"}],\"histogram2d\":[{\"colorbar\":{\"outlinewidth\":1,\"tickcolor\":\"rgb(36,36,36)\",\"ticks\":\"outside\"},\"colorscale\":[[0.0,\"#440154\"],[0.1111111111111111,\"#482878\"],[0.2222222222222222,\"#3e4989\"],[0.3333333333333333,\"#31688e\"],[0.4444444444444444,\"#26828e\"],[0.5555555555555556,\"#1f9e89\"],[0.6666666666666666,\"#35b779\"],[0.7777777777777778,\"#6ece58\"],[0.8888888888888888,\"#b5de2b\"],[1.0,\"#fde725\"]],\"type\":\"histogram2d\"}],\"histogram\":[{\"marker\":{\"line\":{\"color\":\"white\",\"width\":0.6}},\"type\":\"histogram\"}],\"mesh3d\":[{\"colorbar\":{\"outlinewidth\":1,\"tickcolor\":\"rgb(36,36,36)\",\"ticks\":\"outside\"},\"type\":\"mesh3d\"}],\"parcoords\":[{\"line\":{\"colorbar\":{\"outlinewidth\":1,\"tickcolor\":\"rgb(36,36,36)\",\"ticks\":\"outside\"}},\"type\":\"parcoords\"}],\"pie\":[{\"automargin\":true,\"type\":\"pie\"}],\"scatter3d\":[{\"line\":{\"colorbar\":{\"outlinewidth\":1,\"tickcolor\":\"rgb(36,36,36)\",\"ticks\":\"outside\"}},\"marker\":{\"colorbar\":{\"outlinewidth\":1,\"tickcolor\":\"rgb(36,36,36)\",\"ticks\":\"outside\"}},\"type\":\"scatter3d\"}],\"scattercarpet\":[{\"marker\":{\"colorbar\":{\"outlinewidth\":1,\"tickcolor\":\"rgb(36,36,36)\",\"ticks\":\"outside\"}},\"type\":\"scattercarpet\"}],\"scattergeo\":[{\"marker\":{\"colorbar\":{\"outlinewidth\":1,\"tickcolor\":\"rgb(36,36,36)\",\"ticks\":\"outside\"}},\"type\":\"scattergeo\"}],\"scattergl\":[{\"marker\":{\"colorbar\":{\"outlinewidth\":1,\"tickcolor\":\"rgb(36,36,36)\",\"ticks\":\"outside\"}},\"type\":\"scattergl\"}],\"scattermapbox\":[{\"marker\":{\"colorbar\":{\"outlinewidth\":1,\"tickcolor\":\"rgb(36,36,36)\",\"ticks\":\"outside\"}},\"type\":\"scattermapbox\"}],\"scatterpolargl\":[{\"marker\":{\"colorbar\":{\"outlinewidth\":1,\"tickcolor\":\"rgb(36,36,36)\",\"ticks\":\"outside\"}},\"type\":\"scatterpolargl\"}],\"scatterpolar\":[{\"marker\":{\"colorbar\":{\"outlinewidth\":1,\"tickcolor\":\"rgb(36,36,36)\",\"ticks\":\"outside\"}},\"type\":\"scatterpolar\"}],\"scatter\":[{\"marker\":{\"colorbar\":{\"outlinewidth\":1,\"tickcolor\":\"rgb(36,36,36)\",\"ticks\":\"outside\"}},\"type\":\"scatter\"}],\"scatterternary\":[{\"marker\":{\"colorbar\":{\"outlinewidth\":1,\"tickcolor\":\"rgb(36,36,36)\",\"ticks\":\"outside\"}},\"type\":\"scatterternary\"}],\"surface\":[{\"colorbar\":{\"outlinewidth\":1,\"tickcolor\":\"rgb(36,36,36)\",\"ticks\":\"outside\"},\"colorscale\":[[0.0,\"#440154\"],[0.1111111111111111,\"#482878\"],[0.2222222222222222,\"#3e4989\"],[0.3333333333333333,\"#31688e\"],[0.4444444444444444,\"#26828e\"],[0.5555555555555556,\"#1f9e89\"],[0.6666666666666666,\"#35b779\"],[0.7777777777777778,\"#6ece58\"],[0.8888888888888888,\"#b5de2b\"],[1.0,\"#fde725\"]],\"type\":\"surface\"}],\"table\":[{\"cells\":{\"fill\":{\"color\":\"rgb(237,237,237)\"},\"line\":{\"color\":\"white\"}},\"header\":{\"fill\":{\"color\":\"rgb(217,217,217)\"},\"line\":{\"color\":\"white\"}},\"type\":\"table\"}]},\"layout\":{\"annotationdefaults\":{\"arrowhead\":0,\"arrowwidth\":1},\"autotypenumbers\":\"strict\",\"coloraxis\":{\"colorbar\":{\"outlinewidth\":1,\"tickcolor\":\"rgb(36,36,36)\",\"ticks\":\"outside\"}},\"colorscale\":{\"diverging\":[[0.0,\"rgb(103,0,31)\"],[0.1,\"rgb(178,24,43)\"],[0.2,\"rgb(214,96,77)\"],[0.3,\"rgb(244,165,130)\"],[0.4,\"rgb(253,219,199)\"],[0.5,\"rgb(247,247,247)\"],[0.6,\"rgb(209,229,240)\"],[0.7,\"rgb(146,197,222)\"],[0.8,\"rgb(67,147,195)\"],[0.9,\"rgb(33,102,172)\"],[1.0,\"rgb(5,48,97)\"]],\"sequential\":[[0.0,\"#440154\"],[0.1111111111111111,\"#482878\"],[0.2222222222222222,\"#3e4989\"],[0.3333333333333333,\"#31688e\"],[0.4444444444444444,\"#26828e\"],[0.5555555555555556,\"#1f9e89\"],[0.6666666666666666,\"#35b779\"],[0.7777777777777778,\"#6ece58\"],[0.8888888888888888,\"#b5de2b\"],[1.0,\"#fde725\"]],\"sequentialminus\":[[0.0,\"#440154\"],[0.1111111111111111,\"#482878\"],[0.2222222222222222,\"#3e4989\"],[0.3333333333333333,\"#31688e\"],[0.4444444444444444,\"#26828e\"],[0.5555555555555556,\"#1f9e89\"],[0.6666666666666666,\"#35b779\"],[0.7777777777777778,\"#6ece58\"],[0.8888888888888888,\"#b5de2b\"],[1.0,\"#fde725\"]]},\"colorway\":[\"#1F77B4\",\"#FF7F0E\",\"#2CA02C\",\"#D62728\",\"#9467BD\",\"#8C564B\",\"#E377C2\",\"#7F7F7F\",\"#BCBD22\",\"#17BECF\"],\"font\":{\"color\":\"rgb(36,36,36)\"},\"geo\":{\"bgcolor\":\"white\",\"lakecolor\":\"white\",\"landcolor\":\"white\",\"showlakes\":true,\"showland\":true,\"subunitcolor\":\"white\"},\"hoverlabel\":{\"align\":\"left\"},\"hovermode\":\"closest\",\"mapbox\":{\"style\":\"light\"},\"paper_bgcolor\":\"white\",\"plot_bgcolor\":\"white\",\"polar\":{\"angularaxis\":{\"gridcolor\":\"rgb(232,232,232)\",\"linecolor\":\"rgb(36,36,36)\",\"showgrid\":false,\"showline\":true,\"ticks\":\"outside\"},\"bgcolor\":\"white\",\"radialaxis\":{\"gridcolor\":\"rgb(232,232,232)\",\"linecolor\":\"rgb(36,36,36)\",\"showgrid\":false,\"showline\":true,\"ticks\":\"outside\"}},\"scene\":{\"xaxis\":{\"backgroundcolor\":\"white\",\"gridcolor\":\"rgb(232,232,232)\",\"gridwidth\":2,\"linecolor\":\"rgb(36,36,36)\",\"showbackground\":true,\"showgrid\":false,\"showline\":true,\"ticks\":\"outside\",\"zeroline\":false,\"zerolinecolor\":\"rgb(36,36,36)\"},\"yaxis\":{\"backgroundcolor\":\"white\",\"gridcolor\":\"rgb(232,232,232)\",\"gridwidth\":2,\"linecolor\":\"rgb(36,36,36)\",\"showbackground\":true,\"showgrid\":false,\"showline\":true,\"ticks\":\"outside\",\"zeroline\":false,\"zerolinecolor\":\"rgb(36,36,36)\"},\"zaxis\":{\"backgroundcolor\":\"white\",\"gridcolor\":\"rgb(232,232,232)\",\"gridwidth\":2,\"linecolor\":\"rgb(36,36,36)\",\"showbackground\":true,\"showgrid\":false,\"showline\":true,\"ticks\":\"outside\",\"zeroline\":false,\"zerolinecolor\":\"rgb(36,36,36)\"}},\"shapedefaults\":{\"fillcolor\":\"black\",\"line\":{\"width\":0},\"opacity\":0.3},\"ternary\":{\"aaxis\":{\"gridcolor\":\"rgb(232,232,232)\",\"linecolor\":\"rgb(36,36,36)\",\"showgrid\":false,\"showline\":true,\"ticks\":\"outside\"},\"baxis\":{\"gridcolor\":\"rgb(232,232,232)\",\"linecolor\":\"rgb(36,36,36)\",\"showgrid\":false,\"showline\":true,\"ticks\":\"outside\"},\"bgcolor\":\"white\",\"caxis\":{\"gridcolor\":\"rgb(232,232,232)\",\"linecolor\":\"rgb(36,36,36)\",\"showgrid\":false,\"showline\":true,\"ticks\":\"outside\"}},\"title\":{\"x\":0.05},\"xaxis\":{\"automargin\":true,\"gridcolor\":\"rgb(232,232,232)\",\"linecolor\":\"rgb(36,36,36)\",\"showgrid\":false,\"showline\":true,\"ticks\":\"outside\",\"title\":{\"standoff\":15},\"zeroline\":false,\"zerolinecolor\":\"rgb(36,36,36)\"},\"yaxis\":{\"automargin\":true,\"gridcolor\":\"rgb(232,232,232)\",\"linecolor\":\"rgb(36,36,36)\",\"showgrid\":false,\"showline\":true,\"ticks\":\"outside\",\"title\":{\"standoff\":15},\"zeroline\":false,\"zerolinecolor\":\"rgb(36,36,36)\"}}},\"xaxis\":{\"anchor\":\"y\",\"domain\":[0.0,1.0],\"title\":{\"text\":\"x\"},\"visible\":false},\"yaxis\":{\"anchor\":\"x\",\"domain\":[0.0,1.0],\"title\":{\"text\":\"y\"},\"visible\":false},\"legend\":{\"title\":{\"text\":\"Classification (Label)\"},\"tracegroupgap\":0,\"font\":{\"size\":16}},\"margin\":{\"t\":0,\"l\":0,\"r\":0,\"b\":0},\"width\":800},                        {\"responsive\": true}                    ).then(function(){\n",
              "                            \n",
              "var gd = document.getElementById('eb58e384-6b0b-4d4d-be3e-e1cc2b724428');\n",
              "var x = new MutationObserver(function (mutations, observer) {{\n",
              "        var display = window.getComputedStyle(gd).display;\n",
              "        if (!display || display === 'none') {{\n",
              "            console.log([gd, 'removed!']);\n",
              "            Plotly.purge(gd);\n",
              "            observer.disconnect();\n",
              "        }}\n",
              "}});\n",
              "\n",
              "// Listen for the removal of the full notebook cells\n",
              "var notebookContainer = gd.closest('#notebook-container');\n",
              "if (notebookContainer) {{\n",
              "    x.observe(notebookContainer, {childList: true});\n",
              "}}\n",
              "\n",
              "// Listen for the clearing of the current output cell\n",
              "var outputEl = gd.closest('.output');\n",
              "if (outputEl) {{\n",
              "    x.observe(outputEl, {childList: true});\n",
              "}}\n",
              "\n",
              "                        })                };                            </script>        </div>\n",
              "</body>\n",
              "</html>"
            ]
          },
          "metadata": {}
        }
      ]
    },
    {
      "cell_type": "markdown",
      "source": [
        "### PCA"
      ],
      "metadata": {
        "id": "29zJ_sqZd1gv"
      }
    },
    {
      "cell_type": "code",
      "source": [
        "sklearn_pca = sklearnPCA(n_components=2)\n",
        "X_pca = sklearn_pca.fit_transform(X)\n",
        "\n",
        "X_pca[1:4, :]\n",
        "all_data['x'] = X_pca[:,0]\n",
        "all_data['y'] = X_pca[:,1]\n",
        "\n",
        "fig = px.scatter(\n",
        "    all_data, \n",
        "    x='x', \n",
        "    y='y', \n",
        "    color='Classification', \n",
        "    template=\"simple_white\",\n",
        "    labels={ \n",
        "      \"Classification\": \"Classification (Label)\"\n",
        "    },\n",
        "    color_discrete_sequence= px.colors.qualitative.Plotly + px.colors.qualitative.Bold,\n",
        "    hover_name=\"Description\",\n",
        "    hover_data={'x':False,\n",
        "                'y':False,  \n",
        "                'Kcal ': [f' {x}' for x in data['Kcal']],\n",
        "                'Serving Size ': [f' {y}' for y in data['Serving Size']],\n",
        "                'Carbohydrate ': [f' {z}' for z in data['Carbohydrate']],\n",
        "                'Sugars ': [f' {a}' for a in data['Sugars']],\n",
        "                'Proteins ': [f' {b}' for b in data['Proteins']],\n",
        "                }, #'Ingredients':True}, \n",
        "    width=700)\n",
        "\n",
        "fig.update_traces(showlegend=False,\n",
        "                  marker=dict(size=9,\n",
        "                              line=dict(width=1,\n",
        "                                        color='DarkSlateGrey')),\n",
        "                  selector=dict(mode='markers'))\n",
        "\n",
        "fig.update_layout(xaxis={'visible': False},\n",
        "                  yaxis={'visible': False},\n",
        "                  margin=dict(l=0,r=0,b=0,t=0))\n",
        "\n",
        "fig.show()\n",
        "fig.write_image('imgs/PCA_ALL.eps', format='eps')"
      ],
      "metadata": {
        "colab": {
          "base_uri": "https://localhost:8080/",
          "height": 542
        },
        "id": "3LsXNNwnd4VR",
        "outputId": "27753ec3-afc4-444b-ce0a-cf921bebe2d7"
      },
      "execution_count": 121,
      "outputs": [
        {
          "output_type": "display_data",
          "data": {
            "text/html": [
              "<html>\n",
              "<head><meta charset=\"utf-8\" /></head>\n",
              "<body>\n",
              "    <div>            <script src=\"https://cdnjs.cloudflare.com/ajax/libs/mathjax/2.7.5/MathJax.js?config=TeX-AMS-MML_SVG\"></script><script type=\"text/javascript\">if (window.MathJax) {MathJax.Hub.Config({SVG: {font: \"STIX-Web\"}});}</script>                <script type=\"text/javascript\">window.PlotlyConfig = {MathJaxConfig: 'local'};</script>\n",
              "        <script src=\"https://cdn.plot.ly/plotly-2.8.3.min.js\"></script>                <div id=\"d077b2f4-a0d6-451b-aafb-c3f73c11edbb\" class=\"plotly-graph-div\" style=\"height:525px; width:700px;\"></div>            <script type=\"text/javascript\">                                    window.PLOTLYENV=window.PLOTLYENV || {};                                    if (document.getElementById(\"d077b2f4-a0d6-451b-aafb-c3f73c11edbb\")) {                    Plotly.newPlot(                        \"d077b2f4-a0d6-451b-aafb-c3f73c11edbb\",                        [{\"customdata\":[[\" 168.0\",\" 80.0\",\" 11.0\",\" 0.0\",\" 8.2\"],[\" 234.0\",\" 100.0\",\" 12.0\",\" 0.0\",\" 19.0\"],[\" 146.0\",\" 80.0\",\" 3.7\",\" 0.0\",\" 14.0\"],[\" 166.0\",\" 100.0\",\" 10.0\",\" 0.0\",\" 13.0\"],[\" 166.0\",\" 100.0\",\" 10.0\",\" 0.0\",\" 13.0\"],[\" 178.0\",\" 75.0\",\" 33.0\",\" 0.0\",\" 4.3\"],[\" 158.0\",\" 80.0\",\" 9.3\",\" 0.0\",\" 7.8\"],[\" 77.0\",\" 50.0\",\" 2.1\",\" 0.0\",\" 13.0\"],[\" 188.0\",\" 100.0\",\" 6.0\",\" 0.0\",\" 14.0\"]],\"hovertemplate\":\"<b>%{hovertext}</b><br><br>Classification (Label)=MEAT 2<br>Kcal =%{customdata[0]}<br>Serving Size =%{customdata[1]}<br>Carbohydrate =%{customdata[2]}<br>Sugars =%{customdata[3]}<br>Proteins =%{customdata[4]}<extra></extra>\",\"hovertext\":[\"Carne Mo\\u00edda do Futuro\",\"Almondegas de Soja Vegway\",\"Almondegas Amazonika Mundi\",\"Kibe Incr\\u00edvel Seara\",\"Almondegas Incr\\u00edveis Seara\",\"Almondegas Mr Veggy\",\"Carne Mo\\u00edda Superbom\",\"Carne Vegetal Mo\\u00edda Superbom\",\"Carne Mo\\u00edda Vegetal Verdali\"],\"legendgroup\":\"MEAT 2\",\"marker\":{\"color\":\"#636EFA\",\"symbol\":\"circle\",\"line\":{\"color\":\"DarkSlateGrey\",\"width\":1},\"size\":9},\"mode\":\"markers\",\"name\":\"MEAT 2\",\"orientation\":\"v\",\"showlegend\":false,\"x\":[1.0988247502607917,0.5979376270525956,1.065540403219385,1.3296027157083954,2.345512928193247,0.8758788221301493,0.34451390027435186,0.48921231530375753,1.1700263664897075],\"xaxis\":\"x\",\"y\":[-0.13060238971632218,1.1502079408856873,-0.5570436930737442,-0.62340664415378,-1.4203610823124293,0.5928293652522822,-0.6657172796045855,1.2951695212995349,0.09457964631471301],\"yaxis\":\"y\",\"type\":\"scatter\"},{\"customdata\":[[\" 168.0\",\" 80.0\",\" 11.0\",\" 0.0\",\" 8.2\"],[\" 150.0\",\" 50.0\",\" 10.0\",\" 0.0\",\" 25.0\"],[\" 150.0\",\" 50.0\",\" 10.0\",\" 0.0\",\" 25.0\"],[\" 62.0\",\" 50.0\",\" 1.0\",\" 0.0\",\" 10.0\"],[\" 62.0\",\" 50.0\",\" 1.0\",\" 0.0\",\" 10.0\"],[\" 115.0\",\" 60.0\",\" 2.8\",\" 0.0\",\" 7.5\"],[\" 115.0\",\" 60.0\",\" 3.1\",\" 0.0\",\" 7.5\"],[\" 121.0\",\" 350.0\",\" 9.3\",\" 0.0\",\" 9.3\"],[\" 88.0\",\" 40.0\",\" 6.0\",\" 0.0\",\" 6.3\"],[\" 129.0\",\" 80.0\",\" 12.0\",\" 0.0\",\" 11.0\"],[\" 203.0\",\" 100.0\",\" 13.0\",\" 0.0\",\" 9.2\"],[\" 64.0\",\" 40.0\",\" 2.7\",\" 0.0\",\" 7.8\"],[\" 26.0\",\" 50.0\",\" 0.5\",\" 0.0\",\" 5.0\"],[\" 22.0\",\" 50.0\",\" 0.5\",\" 0.0\",\" 5.3\"],[\" 53.0\",\" 50.0\",\" 0.0\",\" 0.0\",\" 5.4\"],[\" 63.0\",\" 50.0\",\" 0.2\",\" 0.0\",\" 6.3\"],[\" 144.0\",\" 100.0\",\" 5.0\",\" 0.0\",\" 22.0\"],[\" 119.0\",\" 100.0\",\" 5.0\",\" 0.0\",\" 18.0\"]],\"hovertemplate\":\"<b>%{hovertext}</b><br><br>Classification (Label)=MEAT 3<br>Kcal =%{customdata[0]}<br>Serving Size =%{customdata[1]}<br>Carbohydrate =%{customdata[2]}<br>Sugars =%{customdata[3]}<br>Proteins =%{customdata[4]}<extra></extra>\",\"hovertext\":[\"Carne Mo\\u00edda do Futuro\",\"Fil\\u00e9s Sora Carne Vermelha\",\"Fatias Sora Carne Vermelha\",\"Fil\\u00e9 Pronto Saud\\u00e1vel Sora\",\"Carne Mo\\u00edda Pronto Saud\\u00e1vel Sora\",\"Churrasco Vegabom\",\"Churrasco Aoniondo Vegabom\",\"Carne de Pernil Seara\",\"Alm\\u00f4ndega de Soja Vegana Goshen\",\"Bife de Soja Vegano Goshen\",\"Alm\\u00f4ndega Vegana Superbom\",\"Bife Vegetal Superbom\",\"Escalope ao Molho Caseiro Superbom\",\"Cubinhos ao Molho Mexicano Superbom\",\"Alm\\u00f4ndegas ao Molho Sugo Superbom\",\"Medalh\\u00e3o ao Molho Madeira Superbom\",\"Mignon Verdali\",\"Steak Verdali\"],\"legendgroup\":\"MEAT 3\",\"marker\":{\"color\":\"#EF553B\",\"symbol\":\"circle\",\"line\":{\"color\":\"DarkSlateGrey\",\"width\":1},\"size\":9},\"mode\":\"markers\",\"name\":\"MEAT 3\",\"orientation\":\"v\",\"showlegend\":false,\"x\":[0.9119045335367846,-0.14201001134107993,-0.14201001134108018,0.7564257231154831,0.7564257231154831,1.061183838884697,1.0612709378603877,2.325177431692568,0.05699226374589046,0.3954618460055884,0.3373389654406093,0.07098713895850012,1.1759360533132925,1.1731452481241245,1.4481191028578273,1.4354496375565686,1.926494797762945,0.7740031173445564],\"xaxis\":\"x\",\"y\":[0.0688003502036329,0.09425981995145846,0.09425981995145423,0.14155982228935493,0.14155982228935493,0.7592850862858558,0.7589461466836671,-1.518697870138966,1.6645202241284218,1.379698266315937,-0.6970556969079145,1.1513072954194592,0.9689036962415766,0.9689999579696426,1.2167656134782516,1.5610710796472191,-0.17102114430093704,0.5197932877067849],\"yaxis\":\"y\",\"type\":\"scatter\"},{\"customdata\":[[\" 168.0\",\" 80.0\",\" 11.0\",\" 0.0\",\" 8.2\"],[\" 150.0\",\" 50.0\",\" 10.0\",\" 0.0\",\" 25.0\"],[\" 150.0\",\" 50.0\",\" 10.0\",\" 0.0\",\" 25.0\"],[\" 115.0\",\" 60.0\",\" 2.8\",\" 0.0\",\" 7.5\"],[\" 34.8\",\" 30.0\",\" 2.9\",\" 0.0\",\" 3.8\"],[\" 153.0\",\" 100.0\",\" 12.0\",\" 0.0\",\" 6.0\"],[\" 94.0\",\" 80.0\",\" 3.1\",\" 0.0\",\" 17.0\"],[\" 94.0\",\" 80.0\",\" 3.1\",\" 0.0\",\" 17.0\"],[\" 58.0\",\" 30.0\",\" 2.2\",\" 0.0\",\" 4.8\"],[\" 58.0\",\" 30.0\",\" 2.2\",\" 0.0\",\" 4.8\"],[\" 174.0\",\" 100.0\",\" 6.0\",\" 0.0\",\" 24.0\"],[\" 129.0\",\" 115.0\",\" 5.8\",\" 0.0\",\" 19.0\"],[\" 138.0\",\" 120.0\",\" 8.4\",\" 0.0\",\" 18.0\"]],\"hovertemplate\":\"<b>%{hovertext}</b><br><br>Classification (Label)=POULTRY 3<br>Kcal =%{customdata[0]}<br>Serving Size =%{customdata[1]}<br>Carbohydrate =%{customdata[2]}<br>Sugars =%{customdata[3]}<br>Proteins =%{customdata[4]}<extra></extra>\",\"hovertext\":[\"Frango do Futuro\",\"Fatias Sora Carne Branca\",\"Fil\\u00e9s Sora Carne Branca\",\"Strogonoff de Frango Vegabom\",\"Tiras de Frango New Butchers\",\"Fil\\u00e9 de Frango Desfiado Vegway\",\"Frango Veg e Tal Sadia\",\"Frango Veg e Tal Sadia Desfiado\",\"Peito de Peru de Soja\",\"Peito de Peru de Soja Vegano\",\"Tiras de Ave Verdali\",\"Fil\\u00e9 sem Frango Verdali\",\"Mini Fil\\u00e9 de Frango Verdali\"],\"legendgroup\":\"POULTRY 3\",\"marker\":{\"color\":\"#00CC96\",\"symbol\":\"circle\",\"line\":{\"color\":\"DarkSlateGrey\",\"width\":1},\"size\":9},\"mode\":\"markers\",\"name\":\"POULTRY 3\",\"orientation\":\"v\",\"showlegend\":false,\"x\":[0.9119045335367861,-0.5232794374322154,-0.5232794374322154,0.5240559623564965,1.230000741299043,0.5128902187816102,-0.012537246927319414,-0.012537246927319414,0.01691463516270978,-0.10469101725534577,1.5545907848325167,0.9114234763518715,1.677238672289462],\"xaxis\":\"x\",\"y\":[0.06880035020363094,0.21314754700901625,0.2131475470090182,0.31598430176729525,-0.8063615211399227,1.093137220457181,-0.4929521813772193,-0.4929521813772193,2.1036679674209737,2.0034474784583183,-0.8366905374305776,-0.19392130933199797,-0.6993405381790031],\"yaxis\":\"y\",\"type\":\"scatter\"},{\"customdata\":[[\" 139.0\",\" 50.0\",\" 7.7\",\" 0.0\",\" 5.7\"],[\" 78.0\",\" 35.0\",\" 6.0\",\" 0.0\",\" 4.0\"],[\" 78.0\",\" 35.0\",\" 6.0\",\" 0.0\",\" 4.0\"],[\" 156.0\",\" 65.0\",\" 8.0\",\" 0.0\",\" 11.0\"],[\" 115.0\",\" 80.0\",\" 3.6\",\" 0.0\",\" 9.7\"],[\" 44.0\",\" 30.0\",\" 0.5\",\" 0.0\",\" 5.1\"],[\" 58.0\",\" 30.0\",\" 1.7\",\" 0.0\",\" 5.1\"],[\" 93.0\",\" 50.0\",\" 1.9\",\" 0.0\",\" 8.1\"],[\" 58.0\",\" 30.0\",\" 4.3\",\" 0.0\",\" 2.4\"],[\" 96.0\",\" 50.0\",\" 1.8\",\" 0.0\",\" 8.8\"],[\" 60.0\",\" 40.0\",\" 1.4\",\" 0.0\",\" 7.6\"],[\" 43.0\",\" 40.0\",\" 1.8\",\" 0.0\",\" 4.9\"]],\"hovertemplate\":\"<b>%{hovertext}</b><br><br>Classification (Label)=PORK 1<br>Kcal =%{customdata[0]}<br>Serving Size =%{customdata[1]}<br>Carbohydrate =%{customdata[2]}<br>Sugars =%{customdata[3]}<br>Proteins =%{customdata[4]}<extra></extra>\",\"hovertext\":[\"Lingui\\u00e7a do Futuro\",\"Lingui\\u00e7a calabresa vegabom\",\"saltsicha de chickpea Vegabom\",\"Vegway Soy Sausage\",\"saltsichas Incriveis Seara\",\"Lingui\\u00e7a Apepperda de Soja Goshen\",\"Lingui\\u00e7a Calabresa de Soja Goshen\",\"Lingui\\u00e7a de Soja Vegana Goshen\",\"Lingui\\u00e7a Toscana de Soja Goshen\",\"saltsicha de Soja Vegana Goshen\",\"saltsicha Vegetal Superbom\",\"saltsicha Vegetal Defumada Superbom\"],\"legendgroup\":\"PORK 1\",\"marker\":{\"color\":\"#AB63FA\",\"symbol\":\"circle\",\"line\":{\"color\":\"DarkSlateGrey\",\"width\":1},\"size\":9},\"mode\":\"markers\",\"name\":\"PORK 1\",\"orientation\":\"v\",\"showlegend\":false,\"x\":[1.576305419821584,0.06863536381880561,0.014154042444015693,0.44391708079967424,2.2512247894536346,0.012836709266389097,-0.019519882645533632,0.16906829354578243,0.007529098482858512,0.018154020444737375,0.4227576754187719,0.8603668794751557],\"xaxis\":\"x\",\"y\":[-0.04040417897836023,0.921042552517209,0.8794810616807788,0.9302479125509278,-1.4041860743720813,2.145910605840919,2.236964798972273,2.229995886764969,2.1020907779609304,2.187346792828189,1.6820432054458263,1.2222580186651988],\"yaxis\":\"y\",\"type\":\"scatter\"},{\"customdata\":[[\" 118.0\",\" 50.0\",\" 2.8\",\" 0.0\",\" 7.0\"],[\" 78.0\",\" 50.0\",\" 5.3\",\" 0.0\",\" 8.9\"],[\" 140.0\",\" 120.0\",\" 25.0\",\" 0.0\",\" 6.1\"],[\" 128.0\",\" 60.0\",\" 19.0\",\" 0.0\",\" 5.1\"],[\" 253.0\",\" 113.0\",\" 42.0\",\" 0.0\",\" 17.0\"],[\" 90.0\",\" 80.0\",\" 4.8\",\" 0.0\",\" 11.0\"],[\" 187.0\",\" 80.0\",\" 10.0\",\" 0.0\",\" 9.8\"],[\" 158.0\",\" 113.5\",\" 8.7\",\" 0.0\",\" 15.0\"],[\" 206.0\",\" 100.0\",\" 4.1\",\" 0.0\",\" 13.0\"],[\" 420.0\",\" 100.0\",\" 4.4\",\" 0.0\",\" 28.0\"],[\" 209.0\",\" 115.0\",\" 5.3\",\" 0.0\",\" 20.0\"],[\" 114.0\",\" 60.0\",\" 4.5\",\" 0.0\",\" 7.6\"],[\" 170.0\",\" 80.0\",\" 4.6\",\" 0.0\",\" 12.0\"],[\" 134.0\",\" 60.0\",\" 5.9\",\" 0.0\",\" 7.3\"],[\" 237.0\",\" 134.0\",\" 29.0\",\" 0.0\",\" 16.0\"],[\" 115.0\",\" 60.0\",\" 13.0\",\" 0.0\",\" 8.9\"],[\" 118.0\",\" 60.0\",\" 11.0\",\" 0.0\",\" 6.0\"],[\" 118.0\",\" 60.0\",\" 11.0\",\" 0.0\",\" 6.0\"],[\" 197.0\",\" 80.0\",\" 10.0\",\" 0.0\",\" 11.0\"],[\" 309.0\",\" 115.0\",\" 45.0\",\" 0.0\",\" 7.0\"],[\" 127.0\",\" 90.0\",\" 23.0\",\" 0.0\",\" 3.1\"],[\" 150.0\",\" 50.0\",\" 10.0\",\" 0.0\",\" 25.0\"],[\" 120.0\",\" 90.0\",\" 17.0\",\" 0.0\",\" 5.4\"],[\" 171.0\",\" 90.0\",\" 28.0\",\" 0.0\",\" 3.4\"],[\" 196.0\",\" 100.0\",\" 9.7\",\" 0.0\",\" 19.0\"],[\" 146.0\",\" 63.0\",\" 7.0\",\" 0.0\",\" 12.3\"],[\" 80.0\",\" 70.0\",\" 4.4\",\" 0.0\",\" 8.2\"],[\" 301.0\",\" 67.0\",\" 40.0\",\" 0.0\",\" 8.9\"],[\" 192.0\",\" 90.0\",\" 26.0\",\" 0.0\",\" 7.7\"],[\" 210.0\",\" 90.0\",\" 29.0\",\" 0.0\",\" 10.0\"],[\" 110.0\",\" 60.0\",\" 8.9\",\" 0.0\",\" 4.3\"],[\" 62.0\",\" 50.0\",\" 1.0\",\" 0.0\",\" 10.0\"],[\" 266.0\",\" 80.0\",\" 26.0\",\" 0.0\",\" 27.0\"],[\" 266.0\",\" 80.0\",\" 26.0\",\" 0.0\",\" 27.0\"]],\"hovertemplate\":\"<b>%{hovertext}</b><br><br>Classification (Label)=MEAT 1<br>Kcal =%{customdata[0]}<br>Serving Size =%{customdata[1]}<br>Carbohydrate =%{customdata[2]}<br>Sugars =%{customdata[3]}<br>Proteins =%{customdata[4]}<extra></extra>\",\"hovertext\":[\"Hamburguer de Soja Goshen\",\"Hamburguer de Soja Vegano Goshen\",\"Hamburguer de Quinoa Mr Veggy\",\"Hamburguer de lentil Mr Veggy\",\"Hamburguer vegano falafel amazonika mundi\",\"Hamburguer Vegetal Verdali\",\"VegBurger Sabor Carne\",\"Burger Gourmet Superbom\",\"Hamburguer Incr\\u00edvel Seara\",\"Not Burguer Notco\",\"Hamburguer de Fibra de Caju Amazonika Mundi\",\"Hamburguer Vegabom\",\"Hamburguer de Carne Veg  e Tal Sadia\",\"Hamburger New Butchers\",\"Hamburguer de Legumes Mr Veggy\",\"Hamburguer Vegetariano Mr Veggy\",\"Hambuguer Mr Veggy Mari Mari\",\"Hambuguer Mr Veggy Mari Mari Churrrasco\",\"Hamb\\u00farguer Fazenda Futuro 2.0\",\"Hamb\\u00farguer Vegano de Quinoa Amazonika Mundi\",\"Hamburguer Veggie Roots Tempero Indiano\",\"Hamb\\u00farguer Sora Carne Vermelha \",\"Hamburguer Veggie Roots brazilian spices\",\"Hamburguer veggie roots tempero mexicano\",\"Hamburguer de Soja Sabor Carne Vegway\",\"Hamb\\u00farguer de Soja Empanado Vegway\",\"Hamburguer Vegetal Superbom\",\"Hamburguer de chickpea Mr Veggy\",\"Hamburguer Veggie Roots Tempero \\u00c1rabe\",\"Hamburguer Veggie Roots Tempero Tail,\\u00eas\",\"Hamburguer Vegabom\",\"Hamb\\u00farguer Pronto Saud\\u00e1vel Sora\",\"hamburguer vegetal com herbs jasmine\",\"Hamburguer Vegetal Tradicional Jasmine\"],\"legendgroup\":\"MEAT 1\",\"marker\":{\"color\":\"#FFA15A\",\"symbol\":\"circle\",\"line\":{\"color\":\"DarkSlateGrey\",\"width\":1},\"size\":9},\"mode\":\"markers\",\"name\":\"MEAT 1\",\"orientation\":\"v\",\"showlegend\":false,\"x\":[0.13360051494759748,0.003916614575841684,0.6910677324565467,0.506039696822732,-0.024815003635918823,1.6923742015159888,1.1580374025666518,0.4101550358317963,2.318395394794866,0.48899021273624244,1.0827800929610023,0.06672592305398069,0.9925112282488319,1.5806018260034425,0.9545835229728703,0.7826049784657005,-0.1333746928230914,-0.1333746928230914,1.1205010626746448,0.3100637131731743,0.4615134172440419,-0.14201001134108016,0.4739297440182856,0.6711139431642995,0.5459880658074935,0.37575123581456416,1.4158410432635702,0.019916750272184255,0.6882390708716073,0.6775600651822593,0.411475144239501,0.6184386896028315,-0.40539827530328,-0.40017942855138244],\"xaxis\":\"x\",\"y\":[1.501022360180119,1.4492942122954888,0.12463943660214215,-0.009510880302888073,-0.007151312787298153,-0.9242610049783623,-0.8490053909254067,-0.19546810119842184,-1.425262385301445,-1.1317681872620031,-0.6129882024798509,0.8310734615544406,-0.6967112682559387,-1.2693852731018735,0.4794321036558177,0.49857980686472375,0.6310447500453288,0.6310447500453288,-0.12010711340179969,-0.09929457352735012,-0.11490871948854811,0.09425981995145437,-0.15349189572028046,-0.2220971677554737,1.0933583285328954,0.9809506779804594,1.1507836678632624,0.3119130184135375,-0.1649167850456775,-0.000356574926281174,0.4677717611259543,-0.031129852754260636,0.41117597840138187,0.41880401073839335],\"yaxis\":\"y\",\"type\":\"scatter\"},{\"customdata\":[[\" 150.0\",\" 50.0\",\" 10.0\",\" 0.0\",\" 25.0\"],[\" 189.0\",\" 80.0\",\" 11.0\",\" 0.0\",\" 9.8\"],[\" 173.0\",\" 80.0\",\" 3.6\",\" 0.0\",\" 13.0\"],[\" 129.0\",\" 100.0\",\" 2.4\",\" 0.0\",\" 7.0\"],[\" 96.0\",\" 80.0\",\" 4.8\",\" 0.0\",\" 11.0\"]],\"hovertemplate\":\"<b>%{hovertext}</b><br><br>Classification (Label)=POULTRY 2<br>Kcal =%{customdata[0]}<br>Serving Size =%{customdata[1]}<br>Carbohydrate =%{customdata[2]}<br>Sugars =%{customdata[3]}<br>Proteins =%{customdata[4]}<extra></extra>\",\"hovertext\":[\"Hamb\\u00farguer Sora Carne Branca\",\"VegBurger Sabor Frango\",\"Hambuguer Incr\\u00edvel Seara Frango\",\"Frango Vegano em Peda\\u00e7os \\u00e0 Base de pea\",\"Hamb\\u00farguer de Frango Verdali\"],\"legendgroup\":\"POULTRY 2\",\"marker\":{\"color\":\"#19D3F3\",\"symbol\":\"circle\",\"line\":{\"color\":\"DarkSlateGrey\",\"width\":1},\"size\":9},\"mode\":\"markers\",\"name\":\"POULTRY 2\",\"orientation\":\"v\",\"showlegend\":false,\"x\":[-0.5232794374322154,1.1536575698094143,2.2941598308962923,0.18794457507252002,1.486620405390802],\"xaxis\":\"x\",\"y\":[0.21314754700901783,-0.7877135280184506,-1.4141483003499835,-0.4021577185515533,-0.6302118203218626],\"yaxis\":\"y\",\"type\":\"scatter\"},{\"customdata\":[[\" 116.0\",\" 60.0\",\" 2.9\",\" 0.0\",\" 7.9\"],[\" 116.0\",\" 60.0\",\" 2.9\",\" 0.0\",\" 7.9\"],[\" 198.0\",\" 100.0\",\" 14.0\",\" 0.0\",\" 15.0\"],[\" 449.0\",\" 130.0\",\" 31.0\",\" 0.0\",\" 12.0\"],[\" 291.0\",\" 130.0\",\" 29.0\",\" 0.0\",\" 17.0\"],[\" 127.0\",\" 40.0\",\" 4.9\",\" 0.0\",\" 6.5\"],[\" 94.0\",\" 40.0\",\" 3.4\",\" 0.0\",\" 6.7\"],[\" 61.0\",\" 40.0\",\" 3.0\",\" 0.0\",\" 7.2\"],[\" 330.0\",\" 130.0\",\" 32.0\",\" 0.0\",\" 13.0\"],[\" 210.0\",\" 80.0\",\" 32.0\",\" 0.0\",\" 8.0\"],[\" 178.0\",\" 130.0\",\" 21.5\",\" 0.0\",\" 13.4\"],[\" 110.0\",\" 80.0\",\" 13.0\",\" 0.0\",\" 8.5\"],[\" 188.0\",\" 100.0\",\" 24.0\",\" 0.0\",\" 13.0\"],[\" 188.0\",\" 100.0\",\" 24.0\",\" 0.0\",\" 13.0\"]],\"hovertemplate\":\"<b>%{hovertext}</b><br><br>Classification (Label)=POULTRY 1<br>Kcal =%{customdata[0]}<br>Serving Size =%{customdata[1]}<br>Carbohydrate =%{customdata[2]}<br>Sugars =%{customdata[3]}<br>Proteins =%{customdata[4]}<extra></extra>\",\"hovertext\":[\"Empanado de Frango Vegabom\",\"Fil\\u00e9 de Frango Empanado Vegabom\",\"Empanados de Frango Vegway\",\"Empanados Incr\\u00edveis Seara\",\"Empanados Sadia Veg e Tal\",\"Empanadinho de Soja  Goshen\",\"Empanadinho de Soja Vegano  Goshen\",\"Steak de Soja Vegano Goshen\",\"Empanado Vegano Mini Crispy 100 Foods\",\"Crispy Chicken 100 Foods\",\"Mini Empanado de Legumes Superbom\",\"Steak Vegan Sabor Legumes Superbom\",\"Steak Veg\\u00ea Sabor Frango\",\"Steak Veg\\u00ea Sabor Frango Empanado\"],\"legendgroup\":\"POULTRY 1\",\"marker\":{\"color\":\"#FF6692\",\"symbol\":\"circle\",\"line\":{\"color\":\"DarkSlateGrey\",\"width\":1},\"size\":9},\"mode\":\"markers\",\"name\":\"POULTRY 1\",\"orientation\":\"v\",\"showlegend\":false,\"x\":[0.6827693763965115,0.6827693763965115,0.6884639720933116,2.4078062209149955,2.3841478442191755,0.48578372147937227,0.10941174384464267,0.28747776561146293,2.026099973195305,1.9522260779002272,0.8966145023571838,0.8494381572830974,-0.31613187208336135,-0.23136170567631123],\"xaxis\":\"x\",\"y\":[0.9904683529265682,0.9904683529265681,1.1535985000147202,-1.2750663180667061,-1.2473940836589203,1.4154594044524564,1.100390212671682,1.6353143166559676,-0.7294813513112829,-0.699573425327221,-0.6526513225904952,-0.6271663309699366,0.0710755427595407,0.0629033099307967],\"yaxis\":\"y\",\"type\":\"scatter\"},{\"customdata\":[[\" 116.0\",\" 60.0\",\" 3.6\",\" 0.0\",\" 7.5\"],[\" 116.0\",\" 60.0\",\" 3.6\",\" 0.0\",\" 7.5\"],[\" 206.0\",\" 100.0\",\" 28.0\",\" 0.0\",\" 8.0\"],[\" 41.0\",\" 40.0\",\" 7.0\",\" 0.0\",\" 1.6\"],[\" 82.0\",\" 30.0\",\" 3.5\",\" 0.0\",\" 4.0\"]],\"hovertemplate\":\"<b>%{hovertext}</b><br><br>Classification (Label)=FISH 2<br>Kcal =%{customdata[0]}<br>Serving Size =%{customdata[1]}<br>Carbohydrate =%{customdata[2]}<br>Sugars =%{customdata[3]}<br>Proteins =%{customdata[4]}<extra></extra>\",\"hovertext\":[\"Fil\\u00e9 Peixe Empanado Vegabom\",\"Tirinhas de Peixe Empanado Vegabom\",\"Bolinho de Bacalhau New Butchers\",\"Bolinho de Siri Amazonika Mundi\",\"Camar\\u00e3o de Soja Vegano Goshen\"],\"legendgroup\":\"FISH 2\",\"marker\":{\"color\":\"#B6E880\",\"symbol\":\"circle\",\"line\":{\"color\":\"DarkSlateGrey\",\"width\":1},\"size\":9},\"mode\":\"markers\",\"name\":\"FISH 2\",\"orientation\":\"v\",\"showlegend\":false,\"x\":[0.7270841689783181,0.7270841689783181,0.6732269553081495,0.6912138455247179,-0.027839426701525234],\"xaxis\":\"x\",\"y\":[1.0141165323256138,1.014116532325614,-0.5982497757724873,-0.16158407029179206,1.89983827842119],\"yaxis\":\"y\",\"type\":\"scatter\"},{\"customdata\":[[\" 124.0\",\" 50.0\",\" 5.1\",\" 0.0\",\" 0.0\"],[\" 124.0\",\" 50.0\",\" 5.1\",\" 0.0\",\" 0.0\"],[\" 124.0\",\" 50.0\",\" 5.1\",\" 0.0\",\" 0.0\"],[\" 31.0\",\" 10.0\",\" 0.6\",\" 0.0\",\" 0.3\"],[\" 25.0\",\" 10.0\",\" 0.7\",\" 0.0\",\" 0.3\"],[\" 29.0\",\" 10.0\",\" 0.7\",\" 0.0\",\" 0.3\"],[\" 30.0\",\" 10.0\",\" 0.7\",\" 0.0\",\" 0.3\"],[\" 178.0\",\" 100.0\",\" 8.7\",\" 0.0\",\" 8.4\"],[\" 178.0\",\" 100.0\",\" 8.7\",\" 0.0\",\" 8.4\"],[\" 280.0\",\" 100.0\",\" 23.3\",\" 0.0\",\" 3.0\"],[\" 170.0\",\" 100.0\",\" 6.0\",\" 0.0\",\" 4.7\"],[\" 170.0\",\" 100.0\",\" 6.0\",\" 0.0\",\" 4.7\"],[\" 82.0\",\" 30.0\",\" 2.7\",\" 0.0\",\" 1.5\"],[\" 83.0\",\" 30.0\",\" 2.9\",\" 0.0\",\" 1.5\"],[\" 95.0\",\" 30.0\",\" 9.1\",\" 0.0\",\" 2.0\"],[\" 89.0\",\" 30.0\",\" 8.2\",\" 0.0\",\" 1.9\"],[\" 93.0\",\" 30.0\",\" 8.8\",\" 0.0\",\" 1.9\"],[\" 83.0\",\" 30.0\",\" 2.3\",\" 0.0\",\" 1.6\"],[\" 83.0\",\" 30.0\",\" 2.3\",\" 0.0\",\" 1.6\"],[\" 83.0\",\" 30.0\",\" 2.3\",\" 0.0\",\" 1.6\"],[\" 581.0\",\" 100.0\",\" 30.2\",\" 0.0\",\" 18.2\"],[\" 581.0\",\" 100.0\",\" 30.2\",\" 0.0\",\" 18.2\"],[\" 59.0\",\" 30.0\",\" 2.0\",\" 0.0\",\" 0.9\"],[\" 43.0\",\" 30.0\",\" 1.2\",\" 0.0\",\" 0.8\"],[\" 100.0\",\" 30.0\",\" 5.4\",\" 0.0\",\" 2.9\"],[\" 43.0\",\" 30.0\",\" 1.2\",\" 0.0\",\" 0.8\"],[\" 394.0\",\" 100.0\",\" 23.0\",\" 0.0\",\" 13.0\"],[\" 30.0\",\" 12.0\",\" 3.0\",\" 0.0\",\" 0.7\"],[\" 62.8\",\" 20.0\",\" 3.6\",\" 0.0\",\" 2.0\"],[\" 57.1\",\" 20.0\",\" 3.4\",\" 0.0\",\" 1.9\"],[\" 68.4\",\" 20.0\",\" 3.8\",\" 0.0\",\" 2.1\"],[\" 62.8\",\" 20.0\",\" 3.6\",\" 0.0\",\" 2.0\"],[\" 89.0\",\" 30.0\",\" 6.4\",\" 0.0\",\" 0.0\"],[\" 72.0\",\" 30.0\",\" 2.9\",\" 0.0\",\" 1.0\"],[\" 58.0\",\" 30.0\",\" 3.5\",\" 0.0\",\" 1.0\"],[\" 71.0\",\" 30.0\",\" 2.8\",\" 0.0\",\" 0.9\"],[\" 78.0\",\" 30.0\",\" 3.4\",\" 0.0\",\" 1.0\"],[\" 76.0\",\" 30.0\",\" 3.4\",\" 0.0\",\" 0.9\"],[\" 36.0\",\" 15.0\",\" 1.0\",\" 0.0\",\" 0.3\"],[\" 38.0\",\" 10.0\",\" 0.8\",\" 0.0\",\" 0.3\"],[\" 51.0\",\" 15.0\",\" 3.8\",\" 0.0\",\" 0.7\"],[\" 36.0\",\" 15.0\",\" 1.2\",\" 0.0\",\" 0.4\"],[\" 47.0\",\" 15.0\",\" 2.8\",\" 0.0\",\" 0.1\"],[\" 47.0\",\" 15.0\",\" 2.8\",\" 0.0\",\" 0.1\"],[\" 49.0\",\" 15.0\",\" 3.1\",\" 0.0\",\" 0.1\"]],\"hovertemplate\":\"<b>%{hovertext}</b><br><br>Classification (Label)=DAIRY 3<br>Kcal =%{customdata[0]}<br>Serving Size =%{customdata[1]}<br>Carbohydrate =%{customdata[2]}<br>Sugars =%{customdata[3]}<br>Proteins =%{customdata[4]}<extra></extra>\",\"hovertext\":[\"Queijo Mu\\u00e7arela Vegabom\",\"Queijo Picante Vegabom\",\"Queijo Cheddar Vegabom\",\"Requeisoy Provolone \",\"Requeisoy Cheddar' \",\"Requeisoy Tradicional\",\"Requeisoy Gorgonzola\",\"Okeijo R\\u00fastico\",\"Okeijo Cremoso\",\"Okeijo Gratinado\",\"Okeijo Mussarela\",\"Okeijo Provolone\",\"Creme s Vida Veg\",\"Creme s fine herbs e Pesto\",\"Queijo mu\\u00e7arela\",\"Queijo minas frescal\",\"Queijo minas padr\\u00e3o\",\"Requeij\\u00e3o Tradicional\",\"Requeij\\u00e3o fine herbs\",\"Requeij\\u00e3o Defumado\",\"Queijo Zimurisku \",\"Queijo Zimurisku Temperado\",\"Queijo Mozarela NoMoo\",\"Queijo Provolone\",\"Queijo Ch\\u00e9vre\",\"Queijo Prato\",\"Queijo Parmes\\u00e3o\",\"Requeij\\u00e3o Nomoo\",\"Queijo Gorgolino\",\"Queijo Melhor Que Cheddar\",\"Queijo Recaishow\",\"Queijo Brie\",\"Mussarela Vegana Goshen\",\"Queijo ProVolone Veganita\",\"Queijo Munster Veganita\",\"Queijo Brie Veganita\",\"Queijo Mussarela Veganita\",\"Queijo Cheddar Veganita\",\"CREAM CHEESE CULIN\\u00c1RIO BASI.CO\",\"REQUEIJ\\u00c3O VEGETAL\",\"QUEIJO PARMES\\u00c3O\",\"QUEIJO MINAS VEGETAL\",\"QUEIJO PRATO\",\"QUEIJO MU\\u00c7ARELA\",\"QUEIJO CHEDDAR\"],\"legendgroup\":\"DAIRY 3\",\"marker\":{\"color\":\"#FF97FF\",\"symbol\":\"circle\",\"line\":{\"color\":\"DarkSlateGrey\",\"width\":1},\"size\":9},\"mode\":\"markers\",\"name\":\"DAIRY 3\",\"orientation\":\"v\",\"showlegend\":false,\"x\":[-0.08634138705718274,-0.08634138705718272,-0.08634138705718272,-0.5820446206877581,-0.6041934855547683,-0.5836751987360883,-0.5778912466165198,-0.295197778328235,0.09056784244759095,-0.4232750631791835,-0.5134066004874578,-0.5134066004874578,-0.2800809141113943,-0.39635385382030935,-0.46444097407221596,-0.4254441741298236,-0.46512312663823835,-0.35221709490852093,-0.4674833555966112,-0.3575837595991211,-0.4494529476582417,-0.29177696138414877,-0.6922867043107597,-0.7025279982558066,-0.6127378516716866,-0.7272512604288264,-0.5258827672239604,-0.6543750000354943,0.1741193402821834,-0.5187926664571629,-0.19573985947112105,-0.6726011722180406,-0.3443465485885978,-0.6625702734159881,-0.6508355442358983,-0.6621076386903427,-0.6576249888075053,-0.4904213830441661,-0.5879402449801122,-0.6695088720138882,-0.8248406931840905,-0.6904284945744441,-0.859740892679805,-1.0225697813860535,-1.0520832422968731],\"xaxis\":\"x\",\"y\":[0.22363950178502226,0.22363950178502226,0.22363950178502226,0.40794037998961297,0.4109386172996706,0.4056128808580038,0.4056881247106695,0.06700867781001471,-0.01794990438221071,-0.12864759720882218,0.013928070154318505,0.013928070154318505,-0.1961730117975248,-0.30430326686360887,-0.18314007370368313,-0.13407182425481054,-0.18262150121789322,-0.22225078394779216,-0.3282087632538358,-0.5725443556172641,-0.2039496544123723,-0.007886690505711905,0.12852903670430837,0.13386853095739212,0.04683855193421274,0.13787416606103345,-0.030105358785552774,0.15724003377441467,-0.08190050346429681,0.09145174869965214,0.03055465339869709,0.07112673763384848,0.1549487167723195,0.13170316780009073,0.13741872478829104,0.11390016387701646,0.12101117420564134,0.31836174371246845,-0.08560797508834805,-0.1264806937286226,0.10275294549861913,-0.003372800436093379,0.11919712706481235,0.002587403801934533,0.0009760792152061447],\"yaxis\":\"y\",\"type\":\"scatter\"},{\"customdata\":[[\" 146.0\",\" 90.0\",\" 12.1\",\" 0.0\",\" 11.9\"],[\" 327.0\",\" 240.0\",\" 41.0\",\" 0.0\",\" 11.0\"],[\" 317.0\",\" 100.0\",\" 17.0\",\" 0.0\",\" 13.0\"],[\" 153.0\",\" 100.0\",\" 12.0\",\" 0.0\",\" 6.0\"],[\" 138.0\",\" 100.0\",\" 19.0\",\" 0.0\",\" 2.0\"],[\" 304.0\",\" 300.0\",\" 19.0\",\" 0.0\",\" 21.0\"],[\" 440.0\",\" 130.0\",\" 31.0\",\" 0.0\",\" 12.0\"],[\" 166.0\",\" 80.0\",\" 7.1\",\" 0.0\",\" 12.0\"]],\"hovertemplate\":\"<b>%{hovertext}</b><br><br>Classification (Label)=FISH 1<br>Kcal =%{customdata[0]}<br>Serving Size =%{customdata[1]}<br>Carbohydrate =%{customdata[2]}<br>Sugars =%{customdata[3]}<br>Proteins =%{customdata[4]}<extra></extra>\",\"hovertext\":[\"Fil\\u00e9 de saltm\\u00e3o New Butchers\",\"Bacalhau New  Butchers\",\"Isca de Peixe Vegway\",\"Fil\\u00e9 de Peixe Vegway\",\"Vieira de Soja Vegway\",\"Bacalhau Incr\\u00edvel Seara\",\"Iscas de Peixe Incr\\u00edvel Seara\",\"Atum do Futuro\"],\"legendgroup\":\"FISH 1\",\"marker\":{\"color\":\"#FECB52\",\"symbol\":\"circle\",\"line\":{\"color\":\"DarkSlateGrey\",\"width\":1},\"size\":9},\"mode\":\"markers\",\"name\":\"FISH 1\",\"orientation\":\"v\",\"showlegend\":false,\"x\":[0.8248574578033329,0.7439484332216293,0.595429217792611,0.5257131318098474,0.5003630237766361,2.363362650869822,2.393735685425744,0.5794609989765339],\"xaxis\":\"x\",\"y\":[-0.6689618093200026,-0.37735688224782993,1.1152340078879244,1.1194028653273829,0.9580421829313022,-1.5267344819828048,-1.2749717004671481,0.14753327642837988],\"yaxis\":\"y\",\"type\":\"scatter\"},{\"customdata\":[[\" 78.0\",\" 40.0\",\" 3.9\",\" 0.0\",\" 7.4\"],[\" 185.0\",\" 60.0\",\" 31.0\",\" 0.0\",\" 1.1\"],[\" 34.0\",\" 20.0\",\" 0.2\",\" 0.0\",\" 3.4\"],[\" 75.0\",\" 40.0\",\" 3.6\",\" 0.0\",\" 7.6\"],[\" 35.0\",\" 20.0\",\" 0.4\",\" 0.0\",\" 3.9\"],[\" 476.0\",\" 100.0\",\" 14.0\",\" 0.0\",\" 42.0\"]],\"hovertemplate\":\"<b>%{hovertext}</b><br><br>Classification (Label)=PORK 2<br>Kcal =%{customdata[0]}<br>Serving Size =%{customdata[1]}<br>Carbohydrate =%{customdata[2]}<br>Sugars =%{customdata[3]}<br>Proteins =%{customdata[4]}<extra></extra>\",\"hovertext\":[\"Presunto de Soja Vegway\",\"Bacon Vegano\",\"Mortadela de Soja Vegana Goshen\",\"Presunto de Soja Defumado\",\"Presunto de Soja Vegano Fatiado Goshen\",\"Bacon Crispy Verdali\"],\"legendgroup\":\"PORK 2\",\"marker\":{\"color\":\"rgb(127, 60, 141)\",\"symbol\":\"circle\",\"line\":{\"color\":\"DarkSlateGrey\",\"width\":1},\"size\":9},\"mode\":\"markers\",\"name\":\"PORK 2\",\"orientation\":\"v\",\"showlegend\":false,\"x\":[0.2917259461918851,-0.4691135697331105,-0.07637377799025467,0.17872763058313323,-0.07932269589146275,0.5963258261802331],\"xaxis\":\"x\",\"y\":[0.9546090437392767,0.043825141238269416,2.1770864876689724,1.4485137421189642,2.0487595403557504,0.2131982087741339],\"yaxis\":\"y\",\"type\":\"scatter\"},{\"customdata\":[[\" 92.0\",\" 250.0\",\" 3.7\",\" 2.0\",\" 3.2\"],[\" 60.0\",\" 250.0\",\" 3.4\",\" 2.0\",\" 3.2\"],[\" 68.0\",\" 200.0\",\" 0.9\",\" 0.0\",\" 3.0\"],[\" 53.0\",\" 200.0\",\" 0.0\",\" 0.0\",\" 3.0\"],[\" 70.0\",\" 200.0\",\" 1.0\",\" 0.0\",\" 3.0\"],[\" 88.0\",\" 200.0\",\" 4.0\",\" 0.0\",\" 3.0\"],[\" 58.0\",\" 200.0\",\" 0.8\",\" 0.0\",\" 3.0\"],[\" 108.0\",\" 200.0\",\" 13.0\",\" 0.0\",\" 1.1\"],[\" 145.0\",\" 200.0\",\" 18.0\",\" 0.0\",\" 1.5\"],[\" 117.0\",\" 200.0\",\" 27.0\",\" 10.0\",\" 0.0\"],[\" 111.0\",\" 200.0\",\" 20.0\",\" 9.4\",\" 0.0\"],[\" 117.0\",\" 200.0\",\" 27.0\",\" 10.0\",\" 1.0\"],[\" 145.0\",\" 200.0\",\" 18.0\",\" 0.0\",\" 1.5\"],[\" 117.0\",\" 200.0\",\" 27.0\",\" 10.0\",\" 0.0\"],[\" 134.0\",\" 200.0\",\" 27.0\",\" 10.0\",\" 4.6\"],[\" 72.0\",\" 200.0\",\" 11.0\",\" 8.9\",\" 1.1\"],[\" 113.0\",\" 200.0\",\" 7.5\",\" 6.7\",\" 7.0\"],[\" 79.0\",\" 200.0\",\" 12.0\",\" 10.0\",\" 1.2\"],[\" 91.0\",\" 200.0\",\" 15.0\",\" 10.0\",\" 1.1\"],[\" 84.0\",\" 200.0\",\" 16.0\",\" 9.4\",\" 2.0\"],[\" 104.0\",\" 260.0\",\" 20.0\",\" 12.0\",\" 3.0\"],[\" 79.0\",\" 25.0\",\" 8.6\",\" 3.1\",\" 7.3\"],[\" 73.0\",\" 25.0\",\" 11.0\",\" 3.2\",\" 5.0\"],[\" 120.0\",\" 200.0\",\" 15.0\",\" 11.0\",\" 4.8\"],[\" 97.0\",\" 200.0\",\" 8.4\",\" 5.9\",\" 2.3\"],[\" 66.0\",\" 200.0\",\" 10.0\",\" 7.3\",\" 2.7\"],[\" 99.0\",\" 200.0\",\" 16.0\",\" 11.5\",\" 4.1\"],[\" 104.0\",\" 200.0\",\" 18.0\",\" 12.6\",\" 3.6\"],[\" 82.0\",\" 200.0\",\" 14.0\",\" 8.8\",\" 3.3\"],[\" 97.0\",\" 200.0\",\" 8.4\",\" 5.9\",\" 2.3\"],[\" 51.0\",\" 200.0\",\" 6.3\",\" 6.3\",\" 0.9\"],[\" 98.0\",\" 200.0\",\" 17.0\",\" 17.0\",\" 1.3\"],[\" 70.0\",\" 200.0\",\" 11.0\",\" 11.0\",\" 0.9\"],[\" 30.0\",\" 200.0\",\" 0.9\",\" 0.9\",\" 0.9\"],[\" 58.0\",\" 200.0\",\" 8.5\",\" 0.0\",\" 0.9\"],[\" 44.0\",\" 250.0\",\" 1.4\",\" 1.4\",\" 1.6\"],[\" 21.0\",\" 200.0\",\" 4.7\",\" 0.0\",\" 1.0\"],[\" 48.0\",\" 200.0\",\" 6.8\",\" 4.0\",\" 6.8\"],[\" 59.0\",\" 200.0\",\" 7.5\",\" 0.0\",\" 0.9\"],[\" 84.0\",\" 200.0\",\" 15.0\",\" 0.0\",\" 1.2\"],[\" 55.0\",\" 200.0\",\" 4.7\",\" 0.0\",\" 0.0\"],[\" 74.0\",\" 200.0\",\" 15.0\",\" 0.0\",\" 0.0\"],[\" 74.0\",\" 200.0\",\" 15.0\",\" 0.0\",\" 0.0\"],[\" 74.0\",\" 200.0\",\" 15.0\",\" 0.0\",\" 0.0\"],[\" 74.0\",\" 200.0\",\" 15.0\",\" 0.0\",\" 0.0\"],[\" 74.0\",\" 200.0\",\" 15.0\",\" 0.0\",\" 0.0\"],[\" 74.0\",\" 200.0\",\" 15.0\",\" 0.0\",\" 0.0\"],[\" 74.0\",\" 200.0\",\" 15.0\",\" 0.0\",\" 0.0\"],[\" 114.0\",\" 30.0\",\" 25.0\",\" 0.0\",\" 2.0\"],[\" 114.0\",\" 30.0\",\" 25.0\",\" 0.0\",\" 2.0\"],[\" 114.0\",\" 30.0\",\" 25.0\",\" 0.0\",\" 2.0\"],[\" 114.0\",\" 30.0\",\" 25.0\",\" 0.0\",\" 2.0\"],[\" 114.0\",\" 30.0\",\" 25.0\",\" 0.0\",\" 2.0\"],[\" 78.0\",\" 200.0\",\" 8.5\",\" 2.8\",\" 2.4\"],[\" 90.0\",\" 200.0\",\" 3.0\",\" 0.9\",\" 3.0\"],[\" 80.0\",\" 200.0\",\" 3.1\",\" 0.8\",\" 2.0\"],[\" 57.0\",\" 200.0\",\" 1.7\",\" 0.4\",\" 1.9\"],[\" 150.0\",\" 200.0\",\" 18.0\",\" 0.0\",\" 3.0\"],[\" 75.0\",\" 200.0\",\" 16.0\",\" 6.3\",\" 0.0\"],[\" 100.0\",\" 200.0\",\" 2.3\",\" 0.8\",\" 7.0\"],[\" 80.0\",\" 200.0\",\" 3.3\",\" 0.9\",\" 2.1\"],[\" 109.0\",\" 200.0\",\" 3.1\",\" 0.1\",\" 5.4\"],[\" 29.0\",\" 200.0\",\" 0.7\",\" 0.0\",\" 0.7\"],[\" 36.0\",\" 200.0\",\" 1.3\",\" 0.0\",\" 1.3\"],[\" 23.0\",\" 200.0\",\" 4.0\",\" 0.0\",\" 0.8\"],[\" 82.0\",\" 200.0\",\" 2.2\",\" 0.4\",\" 1.6\"],[\" 106.0\",\" 200.0\",\" 3.0\",\" 0.5\",\" 3.0\"],[\" 86.0\",\" 200.0\",\" 3.0\",\" 0.5\",\" 3.0\"],[\" 41.0\",\" 200.0\",\" 5.0\",\" 4.2\",\" 0.8\"],[\" 80.0\",\" 200.0\",\" 12.0\",\" 9.3\",\" 1.5\"],[\" 26.0\",\" 200.0\",\" 1.0\",\" 0.3\",\" 0.7\"],[\" 27.0\",\" 200.0\",\" 1.0\",\" 0.2\",\" 0.8\"],[\" 71.0\",\" 200.0\",\" 11.0\",\" 8.9\",\" 1.1\"],[\" 99.0\",\" 200.0\",\" 14.0\",\" 9.6\",\" 2.2\"],[\" 106.0\",\" 200.0\",\" 19.0\",\" 17.0\",\" 2.2\"],[\" 93.0\",\" 200.0\",\" 16.0\",\" 8.9\",\" 1.1\"],[\" 95.0\",\" 200.0\",\" 12.0\",\" 0.0\",\" 5.4\"],[\" 123.0\",\" 200.0\",\" 4.8\",\" 0.0\",\" 5.1\"],[\" 108.0\",\" 200.0\",\" 5.4\",\" 0.0\",\" 3.8\"],[\" 84.0\",\" 200.0\",\" 3.9\",\" 0.0\",\" 2.8\"]],\"hovertemplate\":\"<b>%{hovertext}</b><br><br>Classification (Label)=DAIRY 1<br>Kcal =%{customdata[0]}<br>Serving Size =%{customdata[1]}<br>Carbohydrate =%{customdata[2]}<br>Sugars =%{customdata[3]}<br>Proteins =%{customdata[4]}<extra></extra>\",\"hovertext\":[\"Not Milk \",\"Not Milk Semidesnatado\",\" Vegetal de almonds\",\" vegetal \",\" Vegetal de almonds Fresco\",\" Vegetal  de Caj\\u00fa Fresco\",\" Vegetal  Fresco\",\" Vegetal Noats Original\",\" Vegetal Noats Barista\",\" Jasmine rice powder\",\" BIOV jasmine rice com amendoas\",\" BIOV jasmine rice com coco\",\" BioV oats Jasmine\",\" Jasmine rice \",\" Jasmine rice com oats\",\"Bebida de rice Nesfit\",\"Bebida Natural Nesfit\",\"Bebida de rice  e Amendoas Nesfit\",\"Bebida de rice e Coco Nesfit\",\"Bebida de oats Nesfit\",\"Bebida de oats e cocoa\",\"Molico Vegetal Nestl\\u00e9\",\"Ninho Vegetal Nestl\\u00e9\",\"Ninho Banana e apple Nestl\\u00e9\",\"Nude Edi\\u00e7\\u00e3o Barista\",\"Nude Original \",\"Nude Sabor Baunilha\",\"Nude de cocoa\",\"Nude + calcium\",\"Nude Barista\",\"Almond Breeze Original\",\"Almond Breeze Chocolate\",\"Almond Breeze Baunilha\",\"Almond Breeze Sem sugar\",\"Almond Breeze Amendoas com Coco\",\"Almond Breeze Chocolate Sem sugar\",\" de Amendoas Silk Sem sugar\",\" de Amendoas Silk \",\" cashews Silk\",\" de almonds e cocoa Silk\",\" de almonds Silk Coco\",\"Bebida de rice L\\u00edquida Sabor Original\",\"Bebida de rice L\\u00edquida Sabor almonds\",\"Bebida de rice L\\u00edquida Sabor peanuts\\n\",\"Bebida de rice L\\u00edquida Sabor cashews\",\"Bebida de rice L\\u00edquida Sabor Chocolate\",\"Bebida de rice L\\u00edquida Sabor Coco\",\"Bebida de rice L\\u00edquida Sabor Baunilha\",\"Bebida de rice powder Sabor Original\",\"Bebida de rice powder Sabor Original\",\"Bebida de rice powder Sabor Banana e apple\",\"Bebida de rice powder Sabor Chocolate\",\"Bebida de rice powder Sabor strawberries\",\" a tal da castanha barista\",\" a tal da castanha original\",\" a tal da castanha caju + Coco\",\" a tal da castanha almonds\",\" a tal da castanha castanha + cocoa\",\" a tal da castanha oats\",\" a tal da castanha mixed nuts\",\" a tal da castanha caju + Par\\u00e1\",\" a tal da castanha caju + peanuts\",\" Natuterra oats + Coco\",\" de almonds Natuterra\",\" Natuterra oats \",\" Vegetal 3 Nuts \\u2013 macadamia nuts, almonds e cashews\",\" Vegetal de macadamia nuts e Coco\",\" Vegetal de macadamia nuts e cashews\",\" Vegetal Possible Foods\",\" Vegetal Possible Foods Chocolate\",\"Bebida de castanh de caj\\u00fa sem adi\\u00e7\\u00e3o de sugar nature's heart\",\"Bebida de almonds s/ adi\\u00e7\\u00e3o de sugares 1L \\u2013 Nature\\u2019s Heart\",\"Bebida de rice s/ adi\\u00e7\\u00e3o de sugares 1L \\u2013 Nature\\u2019s Heart\",\"Bebida de oats s/ adi\\u00e7\\u00e3o de sugares 1L \\u2013 Nature\\u2019s Heart\",\"Bebida de cocoa & rice 1L \\u2013 Nature\\u2019s Heart\",\"Bebida  & rice s/ adi\\u00e7\\u00e3o de sugares 1L \\u2013 Nature\\u2019s Heart\",\" Vegetal de soy Naturis Batavo\",\" DUOLAT peanuts E CASTANHA 1L - CAJUEIRO\",\" 85 CASTANHAS 1L - CAJUEIRO\",\" TOASTED 1L - CAJUEIRO\"],\"legendgroup\":\"DAIRY 1\",\"marker\":{\"color\":\"rgb(17, 165, 121)\",\"symbol\":\"circle\",\"line\":{\"color\":\"DarkSlateGrey\",\"width\":1},\"size\":9},\"mode\":\"markers\",\"name\":\"DAIRY 1\",\"orientation\":\"v\",\"showlegend\":false,\"x\":[-0.2565818442073518,-0.27163209108320663,-0.9830659134912736,-0.7433699365392346,-0.7969497379011901,-0.9134648945463698,-0.7067462581370382,-0.6013426431350088,-0.7177529966764019,-0.7979826011956924,-0.7268899257878992,-0.7754953948156629,-0.5405220469953408,-0.7979826011956924,-0.797307772966933,-1.0148024104344469,-0.7207134242500246,-0.9540119176808726,-0.9915816700579029,-0.9436518153421164,-0.9237214565031319,-0.6709801616311664,-0.6532331971594288,-0.6617066643062716,-0.4575540847971446,-0.4422225206998169,-0.452610985261181,-0.47091332928448426,-0.5842629992042218,-0.4575540847971445,-1.0640116541037818,-1.1422110926999323,-1.0795052627723327,-1.2013296129133855,-1.0822089602633151,-1.2794167167673234,-0.7868993564018615,-0.779318596823774,-0.8476348456555571,-0.7808367812759764,-0.7747973861626019,-0.8092073931197861,-0.7507398835359615,-0.7482743288876293,-0.8093408528133224,-0.8243236417599302,-0.7134808561037297,-0.7416436882798884,-0.6479011252072918,-0.6479011252072918,-0.7866188984767158,-0.8276098207246211,-0.8069832139512922,-0.4522356612085128,-0.6943561470957292,-0.7032974519848063,-0.678625952290796,-0.7229996239806916,-0.631576525444467,-0.7605327917385479,-0.7032443883889978,-0.7062778451448681,-0.85527123670127,-0.8795381983780441,-0.6942278764603722,-0.7885958646096081,-0.5390606975508914,-0.7003674334271347,-0.7212905317669244,-0.7490226764091182,-0.946671023882192,-0.8751812666611296,-0.8486172972806411,-0.7725414397749415,-0.9408852768677314,-0.8891802465197859,-0.37030303195401365,-0.6969904894350119,-0.6820030633813644,-0.6901099362824377],\"xaxis\":\"x\",\"y\":[-1.0382334009720577,-1.035291019632547,-1.400149241617878,-1.593613255051002,-1.6025296028768248,-1.3233718968314667,-1.542382496614629,-0.1752453524372605,-0.2641570435774074,-0.44715173457939217,-0.16137529499971628,-0.4402418745187755,-0.11269746273384683,-0.44715173457939217,-0.47750375005739365,-0.3996531084847116,-0.3144574397261875,-0.3458377710762064,-0.3676135780997718,-0.4125676594513865,-0.41790333345968345,-0.42963856663754285,-0.4317784303611356,-0.4788385068044348,-0.4380292852822857,-0.0019653005292564404,-0.020004852539464137,-0.03886513517390025,-0.09547938893862697,-0.43802928528228574,-0.48310166828890044,-0.5412048717817829,-0.4995812294398784,-0.5071823844541996,-0.49188897713288066,-0.5749134160179874,-0.4233775709438597,-0.43518666328198463,-0.4069032335575255,-0.46173725904336305,-0.4336032142874338,-0.21641755763393358,-0.5099585444443837,-0.1021040836665534,-0.10954132053331861,-0.2053972092222815,-0.1685561028262411,-0.16675287066943686,0.04303695826760207,0.04303695826760207,-0.05621316353262187,-0.07545747805271871,-0.07911830130103967,-0.28866565901700336,-0.1690188136825078,-0.17028618358900693,-0.2386172430245934,-0.21792509769296275,-0.11696566208469229,-0.5243284490220124,-0.1728297877365966,-0.18515470190828082,-0.8134206684811859,-0.7838424450603408,-1.0171945885294515,-0.22793186648747044,-0.1381370775350548,-0.16505259813025802,-0.4732515867806263,-0.5090017343198873,-0.17203086475674473,-0.19402834978466935,-0.20692534210420663,-0.2202389242760102,-0.2710991863743875,-0.23338646379334363,0.02959903529604202,-0.17525268393695653,-0.16610166134370158,-0.16163874186167163],\"yaxis\":\"y\",\"type\":\"scatter\"},{\"customdata\":[[\" 142.0\",\" 200.0\",\" 22.0\",\" 0.0\",\" 0.8\"],[\" 149.0\",\" 200.0\",\" 24.0\",\" 0.0\",\" 0.8\"],[\" 149.0\",\" 200.0\",\" 24.0\",\" 0.0\",\" 0.8\"],[\" 92.0\",\" 200.0\",\" 6.4\",\" 0.0\",\" 0.9\"],[\" 100.0\",\" 200.0\",\" 8.2\",\" 0.0\",\" 1.0\"],[\" 145.0\",\" 150.0\",\" 20.0\",\" 0.0\",\" 1.0\"],[\" 148.0\",\" 150.0\",\" 21.0\",\" 0.0\",\" 1.0\"],[\" 156.0\",\" 250.0\",\" 11.7\",\" 0.0\",\" 14.0\"],[\" 123.0\",\" 250.0\",\" 11.0\",\" 0.0\",\" 10.0\"],[\" 152.0\",\" 250.0\",\" 11.0\",\" 0.0\",\" 14.0\"],[\" 27.0\",\" 15.0\",\" 0.0\",\" 0.0\",\" 0.0\"]],\"hovertemplate\":\"<b>%{hovertext}</b><br><br>Classification (Label)=DAIRY 2<br>Kcal =%{customdata[0]}<br>Serving Size =%{customdata[1]}<br>Carbohydrate =%{customdata[2]}<br>Sugars =%{customdata[3]}<br>Proteins =%{customdata[4]}<extra></extra>\",\"hovertext\":[\"Iogurte \",\"Iogurte  com strawberries\",\"Iogurte  com banana, apple e papaya\",\"Iogurte  Zero sugar\",\"Iogurte  com strawberries Zero sugar\",\"Iogurte GregoVeg \",\"Iogurte GregoVeg  com strawberries\",\"Iogurte Proteico 14g sabor strawberries\",\"Shake \",\"Iogurte Proteico 14g sabor  peanuts\",\"Creme de almonds\"],\"legendgroup\":\"DAIRY 2\",\"marker\":{\"color\":\"rgb(57, 105, 172)\",\"symbol\":\"circle\",\"line\":{\"color\":\"DarkSlateGrey\",\"width\":1},\"size\":9},\"mode\":\"markers\",\"name\":\"DAIRY 2\",\"orientation\":\"v\",\"showlegend\":false,\"x\":[-0.612262562369624,-0.7382908285867507,-0.733714934437689,-0.8241967546156783,-0.9530038669217902,-0.44093403493337197,-0.3934489878136685,-0.5596036619343948,-0.5019075289659486,-0.5894189172967772,-0.6636166395174069],\"xaxis\":\"x\",\"y\":[-0.727443273035393,-0.45670572232951784,-0.4482895938336907,-0.8293776212635756,-0.5603240307583988,-0.24454479237348875,-0.321189842852984,-1.1382132989676306,-1.0441413676643925,-1.1287150064082947,-0.20911988169582849],\"yaxis\":\"y\",\"type\":\"scatter\"},{\"customdata\":[[\" 28.0\",\" 12.0\",\" 1.4\",\" 0.0\",\" 2.5\"],[\" 20.0\",\" 12.0\",\" 0.0\",\" 0.0\",\" 0.0\"],[\" 70.0\",\" 12.0\",\" 0.0\",\" 0.0\",\" 0.0\"],[\" 71.0\",\" 12.0\",\" 0.6\",\" 0.0\",\" 0.0\"],[\" 57.0\",\" 12.0\",\" 0.6\",\" 0.0\",\" 0.0\"],[\" 56.0\",\" 12.0\",\" 0.6\",\" 0.0\",\" 0.0\"],[\" 33.0\",\" 12.0\",\" 0.6\",\" 0.0\",\" 0.4\"],[\" 33.0\",\" 12.0\",\" 0.6\",\" 0.0\",\" 0.4\"],[\" 33.0\",\" 12.0\",\" 0.6\",\" 0.0\",\" 0.4\"],[\" 33.0\",\" 12.0\",\" 0.6\",\" 0.0\",\" 0.4\"],[\" 33.0\",\" 12.0\",\" 0.6\",\" 0.0\",\" 0.4\"],[\" 25.0\",\" 12.0\",\" 0.0\",\" 0.0\",\" 0.0\"],[\" 21.0\",\" 12.0\",\" 0.0\",\" 0.0\",\" 0.0\"],[\" 84.0\",\" 40.0\",\" 5.2\",\" 0.0\",\" 0.5\"]],\"hovertemplate\":\"<b>%{hovertext}</b><br><br>Classification (Label)=EGG 1<br>Kcal =%{customdata[0]}<br>Serving Size =%{customdata[1]}<br>Carbohydrate =%{customdata[2]}<br>Sugars =%{customdata[3]}<br>Proteins =%{customdata[4]}<extra></extra>\",\"hovertext\":[\"MAIONESE VEGETAL SUPERBOM\",\"MAIONESE FUGINI\",\"NOT MAYO\",\"NOT MAYO garlic\",\"NOT MAYO AZEITONA\",\"NOT MAYO PICANTE\",\"MAIONESE V-MAYO\",\"MAIONESE V-MAYO ApepperDA\",\"MAIONESE V-MAYO TRUFADA\",\"MAIONESE V-MAYO DE ABACATE\",\"MAIONESE V-MAYO DE garlic\",\"MAIONESE HELLMANS\",\"MAIONESE VEGANA FUGINI\",\"MAIONESE DEL\\u00cdCIAS DE GOI\\u00c1S\"],\"legendgroup\":\"EGG 1\",\"marker\":{\"color\":\"rgb(242, 183, 1)\",\"symbol\":\"circle\",\"line\":{\"color\":\"DarkSlateGrey\",\"width\":1},\"size\":9},\"mode\":\"markers\",\"name\":\"EGG 1\",\"orientation\":\"v\",\"showlegend\":false,\"x\":[-0.2609677887517714,-0.339989863263352,0.22616396758209462,0.37553297616129483,0.23068855361662277,0.38697360931270397,1.0247734437560372,1.0479041420344117,1.0247734437560372,1.0299764235477795,1.0247734437560372,-0.11132562582623699,0.45652720947109154,-0.47456313453065274],\"xaxis\":\"x\",\"y\":[0.13024952377956725,0.4621383883080824,0.22619298674326568,0.34604735815183346,0.22666173464328815,0.2589511147189263,-0.6305493291300999,-0.6023698523980213,-0.6305493291300999,-0.6344593832963481,-0.6305493291300999,0.20875412663683146,0.28095089610817975,0.055731168987341276],\"yaxis\":\"y\",\"type\":\"scatter\"},{\"customdata\":[[\" 25.0\",\" 10.0\",\" 3.3\",\" 0.0\",\" 4.1\"],[\" 28.0\",\" 7.0\",\" 1.2\",\" 0.0\",\" 3.1\"]],\"hovertemplate\":\"<b>%{hovertext}</b><br><br>Classification (Label)=EGG 2<br>Kcal =%{customdata[0]}<br>Serving Size =%{customdata[1]}<br>Carbohydrate =%{customdata[2]}<br>Sugars =%{customdata[3]}<br>Proteins =%{customdata[4]}<extra></extra>\",\"hovertext\":[\"Ovos Novos\",\"Ovos Novos\"],\"legendgroup\":\"EGG 2\",\"marker\":{\"color\":\"rgb(231, 63, 116)\",\"symbol\":\"circle\",\"line\":{\"color\":\"DarkSlateGrey\",\"width\":1},\"size\":9},\"mode\":\"markers\",\"name\":\"EGG 2\",\"orientation\":\"v\",\"showlegend\":false,\"x\":[-0.4860377242119932,-0.543661579803185],\"xaxis\":\"x\",\"y\":[-0.18564457176292073,-0.005501373239610351],\"yaxis\":\"y\",\"type\":\"scatter\"}],                        {\"template\":{\"data\":{\"barpolar\":[{\"marker\":{\"line\":{\"color\":\"white\",\"width\":0.5},\"pattern\":{\"fillmode\":\"overlay\",\"size\":10,\"solidity\":0.2}},\"type\":\"barpolar\"}],\"bar\":[{\"error_x\":{\"color\":\"rgb(36,36,36)\"},\"error_y\":{\"color\":\"rgb(36,36,36)\"},\"marker\":{\"line\":{\"color\":\"white\",\"width\":0.5},\"pattern\":{\"fillmode\":\"overlay\",\"size\":10,\"solidity\":0.2}},\"type\":\"bar\"}],\"carpet\":[{\"aaxis\":{\"endlinecolor\":\"rgb(36,36,36)\",\"gridcolor\":\"white\",\"linecolor\":\"white\",\"minorgridcolor\":\"white\",\"startlinecolor\":\"rgb(36,36,36)\"},\"baxis\":{\"endlinecolor\":\"rgb(36,36,36)\",\"gridcolor\":\"white\",\"linecolor\":\"white\",\"minorgridcolor\":\"white\",\"startlinecolor\":\"rgb(36,36,36)\"},\"type\":\"carpet\"}],\"choropleth\":[{\"colorbar\":{\"outlinewidth\":1,\"tickcolor\":\"rgb(36,36,36)\",\"ticks\":\"outside\"},\"type\":\"choropleth\"}],\"contourcarpet\":[{\"colorbar\":{\"outlinewidth\":1,\"tickcolor\":\"rgb(36,36,36)\",\"ticks\":\"outside\"},\"type\":\"contourcarpet\"}],\"contour\":[{\"colorbar\":{\"outlinewidth\":1,\"tickcolor\":\"rgb(36,36,36)\",\"ticks\":\"outside\"},\"colorscale\":[[0.0,\"#440154\"],[0.1111111111111111,\"#482878\"],[0.2222222222222222,\"#3e4989\"],[0.3333333333333333,\"#31688e\"],[0.4444444444444444,\"#26828e\"],[0.5555555555555556,\"#1f9e89\"],[0.6666666666666666,\"#35b779\"],[0.7777777777777778,\"#6ece58\"],[0.8888888888888888,\"#b5de2b\"],[1.0,\"#fde725\"]],\"type\":\"contour\"}],\"heatmapgl\":[{\"colorbar\":{\"outlinewidth\":1,\"tickcolor\":\"rgb(36,36,36)\",\"ticks\":\"outside\"},\"colorscale\":[[0.0,\"#440154\"],[0.1111111111111111,\"#482878\"],[0.2222222222222222,\"#3e4989\"],[0.3333333333333333,\"#31688e\"],[0.4444444444444444,\"#26828e\"],[0.5555555555555556,\"#1f9e89\"],[0.6666666666666666,\"#35b779\"],[0.7777777777777778,\"#6ece58\"],[0.8888888888888888,\"#b5de2b\"],[1.0,\"#fde725\"]],\"type\":\"heatmapgl\"}],\"heatmap\":[{\"colorbar\":{\"outlinewidth\":1,\"tickcolor\":\"rgb(36,36,36)\",\"ticks\":\"outside\"},\"colorscale\":[[0.0,\"#440154\"],[0.1111111111111111,\"#482878\"],[0.2222222222222222,\"#3e4989\"],[0.3333333333333333,\"#31688e\"],[0.4444444444444444,\"#26828e\"],[0.5555555555555556,\"#1f9e89\"],[0.6666666666666666,\"#35b779\"],[0.7777777777777778,\"#6ece58\"],[0.8888888888888888,\"#b5de2b\"],[1.0,\"#fde725\"]],\"type\":\"heatmap\"}],\"histogram2dcontour\":[{\"colorbar\":{\"outlinewidth\":1,\"tickcolor\":\"rgb(36,36,36)\",\"ticks\":\"outside\"},\"colorscale\":[[0.0,\"#440154\"],[0.1111111111111111,\"#482878\"],[0.2222222222222222,\"#3e4989\"],[0.3333333333333333,\"#31688e\"],[0.4444444444444444,\"#26828e\"],[0.5555555555555556,\"#1f9e89\"],[0.6666666666666666,\"#35b779\"],[0.7777777777777778,\"#6ece58\"],[0.8888888888888888,\"#b5de2b\"],[1.0,\"#fde725\"]],\"type\":\"histogram2dcontour\"}],\"histogram2d\":[{\"colorbar\":{\"outlinewidth\":1,\"tickcolor\":\"rgb(36,36,36)\",\"ticks\":\"outside\"},\"colorscale\":[[0.0,\"#440154\"],[0.1111111111111111,\"#482878\"],[0.2222222222222222,\"#3e4989\"],[0.3333333333333333,\"#31688e\"],[0.4444444444444444,\"#26828e\"],[0.5555555555555556,\"#1f9e89\"],[0.6666666666666666,\"#35b779\"],[0.7777777777777778,\"#6ece58\"],[0.8888888888888888,\"#b5de2b\"],[1.0,\"#fde725\"]],\"type\":\"histogram2d\"}],\"histogram\":[{\"marker\":{\"line\":{\"color\":\"white\",\"width\":0.6}},\"type\":\"histogram\"}],\"mesh3d\":[{\"colorbar\":{\"outlinewidth\":1,\"tickcolor\":\"rgb(36,36,36)\",\"ticks\":\"outside\"},\"type\":\"mesh3d\"}],\"parcoords\":[{\"line\":{\"colorbar\":{\"outlinewidth\":1,\"tickcolor\":\"rgb(36,36,36)\",\"ticks\":\"outside\"}},\"type\":\"parcoords\"}],\"pie\":[{\"automargin\":true,\"type\":\"pie\"}],\"scatter3d\":[{\"line\":{\"colorbar\":{\"outlinewidth\":1,\"tickcolor\":\"rgb(36,36,36)\",\"ticks\":\"outside\"}},\"marker\":{\"colorbar\":{\"outlinewidth\":1,\"tickcolor\":\"rgb(36,36,36)\",\"ticks\":\"outside\"}},\"type\":\"scatter3d\"}],\"scattercarpet\":[{\"marker\":{\"colorbar\":{\"outlinewidth\":1,\"tickcolor\":\"rgb(36,36,36)\",\"ticks\":\"outside\"}},\"type\":\"scattercarpet\"}],\"scattergeo\":[{\"marker\":{\"colorbar\":{\"outlinewidth\":1,\"tickcolor\":\"rgb(36,36,36)\",\"ticks\":\"outside\"}},\"type\":\"scattergeo\"}],\"scattergl\":[{\"marker\":{\"colorbar\":{\"outlinewidth\":1,\"tickcolor\":\"rgb(36,36,36)\",\"ticks\":\"outside\"}},\"type\":\"scattergl\"}],\"scattermapbox\":[{\"marker\":{\"colorbar\":{\"outlinewidth\":1,\"tickcolor\":\"rgb(36,36,36)\",\"ticks\":\"outside\"}},\"type\":\"scattermapbox\"}],\"scatterpolargl\":[{\"marker\":{\"colorbar\":{\"outlinewidth\":1,\"tickcolor\":\"rgb(36,36,36)\",\"ticks\":\"outside\"}},\"type\":\"scatterpolargl\"}],\"scatterpolar\":[{\"marker\":{\"colorbar\":{\"outlinewidth\":1,\"tickcolor\":\"rgb(36,36,36)\",\"ticks\":\"outside\"}},\"type\":\"scatterpolar\"}],\"scatter\":[{\"marker\":{\"colorbar\":{\"outlinewidth\":1,\"tickcolor\":\"rgb(36,36,36)\",\"ticks\":\"outside\"}},\"type\":\"scatter\"}],\"scatterternary\":[{\"marker\":{\"colorbar\":{\"outlinewidth\":1,\"tickcolor\":\"rgb(36,36,36)\",\"ticks\":\"outside\"}},\"type\":\"scatterternary\"}],\"surface\":[{\"colorbar\":{\"outlinewidth\":1,\"tickcolor\":\"rgb(36,36,36)\",\"ticks\":\"outside\"},\"colorscale\":[[0.0,\"#440154\"],[0.1111111111111111,\"#482878\"],[0.2222222222222222,\"#3e4989\"],[0.3333333333333333,\"#31688e\"],[0.4444444444444444,\"#26828e\"],[0.5555555555555556,\"#1f9e89\"],[0.6666666666666666,\"#35b779\"],[0.7777777777777778,\"#6ece58\"],[0.8888888888888888,\"#b5de2b\"],[1.0,\"#fde725\"]],\"type\":\"surface\"}],\"table\":[{\"cells\":{\"fill\":{\"color\":\"rgb(237,237,237)\"},\"line\":{\"color\":\"white\"}},\"header\":{\"fill\":{\"color\":\"rgb(217,217,217)\"},\"line\":{\"color\":\"white\"}},\"type\":\"table\"}]},\"layout\":{\"annotationdefaults\":{\"arrowhead\":0,\"arrowwidth\":1},\"autotypenumbers\":\"strict\",\"coloraxis\":{\"colorbar\":{\"outlinewidth\":1,\"tickcolor\":\"rgb(36,36,36)\",\"ticks\":\"outside\"}},\"colorscale\":{\"diverging\":[[0.0,\"rgb(103,0,31)\"],[0.1,\"rgb(178,24,43)\"],[0.2,\"rgb(214,96,77)\"],[0.3,\"rgb(244,165,130)\"],[0.4,\"rgb(253,219,199)\"],[0.5,\"rgb(247,247,247)\"],[0.6,\"rgb(209,229,240)\"],[0.7,\"rgb(146,197,222)\"],[0.8,\"rgb(67,147,195)\"],[0.9,\"rgb(33,102,172)\"],[1.0,\"rgb(5,48,97)\"]],\"sequential\":[[0.0,\"#440154\"],[0.1111111111111111,\"#482878\"],[0.2222222222222222,\"#3e4989\"],[0.3333333333333333,\"#31688e\"],[0.4444444444444444,\"#26828e\"],[0.5555555555555556,\"#1f9e89\"],[0.6666666666666666,\"#35b779\"],[0.7777777777777778,\"#6ece58\"],[0.8888888888888888,\"#b5de2b\"],[1.0,\"#fde725\"]],\"sequentialminus\":[[0.0,\"#440154\"],[0.1111111111111111,\"#482878\"],[0.2222222222222222,\"#3e4989\"],[0.3333333333333333,\"#31688e\"],[0.4444444444444444,\"#26828e\"],[0.5555555555555556,\"#1f9e89\"],[0.6666666666666666,\"#35b779\"],[0.7777777777777778,\"#6ece58\"],[0.8888888888888888,\"#b5de2b\"],[1.0,\"#fde725\"]]},\"colorway\":[\"#1F77B4\",\"#FF7F0E\",\"#2CA02C\",\"#D62728\",\"#9467BD\",\"#8C564B\",\"#E377C2\",\"#7F7F7F\",\"#BCBD22\",\"#17BECF\"],\"font\":{\"color\":\"rgb(36,36,36)\"},\"geo\":{\"bgcolor\":\"white\",\"lakecolor\":\"white\",\"landcolor\":\"white\",\"showlakes\":true,\"showland\":true,\"subunitcolor\":\"white\"},\"hoverlabel\":{\"align\":\"left\"},\"hovermode\":\"closest\",\"mapbox\":{\"style\":\"light\"},\"paper_bgcolor\":\"white\",\"plot_bgcolor\":\"white\",\"polar\":{\"angularaxis\":{\"gridcolor\":\"rgb(232,232,232)\",\"linecolor\":\"rgb(36,36,36)\",\"showgrid\":false,\"showline\":true,\"ticks\":\"outside\"},\"bgcolor\":\"white\",\"radialaxis\":{\"gridcolor\":\"rgb(232,232,232)\",\"linecolor\":\"rgb(36,36,36)\",\"showgrid\":false,\"showline\":true,\"ticks\":\"outside\"}},\"scene\":{\"xaxis\":{\"backgroundcolor\":\"white\",\"gridcolor\":\"rgb(232,232,232)\",\"gridwidth\":2,\"linecolor\":\"rgb(36,36,36)\",\"showbackground\":true,\"showgrid\":false,\"showline\":true,\"ticks\":\"outside\",\"zeroline\":false,\"zerolinecolor\":\"rgb(36,36,36)\"},\"yaxis\":{\"backgroundcolor\":\"white\",\"gridcolor\":\"rgb(232,232,232)\",\"gridwidth\":2,\"linecolor\":\"rgb(36,36,36)\",\"showbackground\":true,\"showgrid\":false,\"showline\":true,\"ticks\":\"outside\",\"zeroline\":false,\"zerolinecolor\":\"rgb(36,36,36)\"},\"zaxis\":{\"backgroundcolor\":\"white\",\"gridcolor\":\"rgb(232,232,232)\",\"gridwidth\":2,\"linecolor\":\"rgb(36,36,36)\",\"showbackground\":true,\"showgrid\":false,\"showline\":true,\"ticks\":\"outside\",\"zeroline\":false,\"zerolinecolor\":\"rgb(36,36,36)\"}},\"shapedefaults\":{\"fillcolor\":\"black\",\"line\":{\"width\":0},\"opacity\":0.3},\"ternary\":{\"aaxis\":{\"gridcolor\":\"rgb(232,232,232)\",\"linecolor\":\"rgb(36,36,36)\",\"showgrid\":false,\"showline\":true,\"ticks\":\"outside\"},\"baxis\":{\"gridcolor\":\"rgb(232,232,232)\",\"linecolor\":\"rgb(36,36,36)\",\"showgrid\":false,\"showline\":true,\"ticks\":\"outside\"},\"bgcolor\":\"white\",\"caxis\":{\"gridcolor\":\"rgb(232,232,232)\",\"linecolor\":\"rgb(36,36,36)\",\"showgrid\":false,\"showline\":true,\"ticks\":\"outside\"}},\"title\":{\"x\":0.05},\"xaxis\":{\"automargin\":true,\"gridcolor\":\"rgb(232,232,232)\",\"linecolor\":\"rgb(36,36,36)\",\"showgrid\":false,\"showline\":true,\"ticks\":\"outside\",\"title\":{\"standoff\":15},\"zeroline\":false,\"zerolinecolor\":\"rgb(36,36,36)\"},\"yaxis\":{\"automargin\":true,\"gridcolor\":\"rgb(232,232,232)\",\"linecolor\":\"rgb(36,36,36)\",\"showgrid\":false,\"showline\":true,\"ticks\":\"outside\",\"title\":{\"standoff\":15},\"zeroline\":false,\"zerolinecolor\":\"rgb(36,36,36)\"}}},\"xaxis\":{\"anchor\":\"y\",\"domain\":[0.0,1.0],\"title\":{\"text\":\"x\"},\"visible\":false},\"yaxis\":{\"anchor\":\"x\",\"domain\":[0.0,1.0],\"title\":{\"text\":\"y\"},\"visible\":false},\"legend\":{\"title\":{\"text\":\"Classification (Label)\"},\"tracegroupgap\":0},\"margin\":{\"t\":0,\"l\":0,\"r\":0,\"b\":0},\"width\":700},                        {\"responsive\": true}                    ).then(function(){\n",
              "                            \n",
              "var gd = document.getElementById('d077b2f4-a0d6-451b-aafb-c3f73c11edbb');\n",
              "var x = new MutationObserver(function (mutations, observer) {{\n",
              "        var display = window.getComputedStyle(gd).display;\n",
              "        if (!display || display === 'none') {{\n",
              "            console.log([gd, 'removed!']);\n",
              "            Plotly.purge(gd);\n",
              "            observer.disconnect();\n",
              "        }}\n",
              "}});\n",
              "\n",
              "// Listen for the removal of the full notebook cells\n",
              "var notebookContainer = gd.closest('#notebook-container');\n",
              "if (notebookContainer) {{\n",
              "    x.observe(notebookContainer, {childList: true});\n",
              "}}\n",
              "\n",
              "// Listen for the clearing of the current output cell\n",
              "var outputEl = gd.closest('.output');\n",
              "if (outputEl) {{\n",
              "    x.observe(outputEl, {childList: true});\n",
              "}}\n",
              "\n",
              "                        })                };                            </script>        </div>\n",
              "</body>\n",
              "</html>"
            ]
          },
          "metadata": {}
        }
      ]
    },
    {
      "cell_type": "markdown",
      "source": [
        "### TRIMAP"
      ],
      "metadata": {
        "id": "KLIFc4s-rnaU"
      }
    },
    {
      "cell_type": "code",
      "source": [
        "X_trimap = trimap.TRIMAP(n_dims=2, n_inliers=15).fit_transform(X)\n",
        "\n",
        "X_trimap[1:4, :]\n",
        "all_data['x'] = X_trimap[:,0]\n",
        "all_data['y'] = X_trimap[:,1]\n",
        "all_data['Ingredients'] = data_ingredients\n",
        "\n",
        "fig = px.scatter(\n",
        "    all_data, \n",
        "    x='x', \n",
        "    y='y', \n",
        "    color='Classification', \n",
        "    template=\"simple_white\",\n",
        "    labels={ \n",
        "      \"Classification\": \"Classification (Label)\"\n",
        "    },\n",
        "    color_discrete_sequence= px.colors.qualitative.Plotly + px.colors.qualitative.Bold,\n",
        "    hover_name=\"Description\",\n",
        "    hover_data={'x':False,\n",
        "                'y':False,  \n",
        "                # 'Kcal ': [f' {x}' for x in data['Kcal']],\n",
        "                # 'Serving Size ': [f' {y}' for y in data['Serving Size']],\n",
        "                # 'Carbohydrate ': [f' {z}' for z in data['Carbohydrate']],\n",
        "                # 'Sugars ': [f' {a}' for a in data['Sugars']],\n",
        "                # 'Proteins ': [f' {b}' for b in data['Proteins']],\n",
        "                'Ingredients':True\n",
        "                }, \n",
        "    width=800)\n",
        "\n",
        "fig.update_traces(marker=dict(size=9,\n",
        "                              line=dict(width=1,\n",
        "                                        color='DarkSlateGrey')),\n",
        "                  selector=dict(mode='markers'))\n",
        "\n",
        "fig.update_layout(xaxis={'visible': False},\n",
        "                  yaxis={'visible': False},\n",
        "                  legend=dict(font=dict(size=16)),\n",
        "                  margin=dict(l=0,r=0,b=0,t=0))\n",
        "\n",
        "fig.show()\n",
        "fig.write_image('imgs/TRIMAP_ALL.eps', format='eps')"
      ],
      "metadata": {
        "colab": {
          "base_uri": "https://localhost:8080/",
          "height": 542
        },
        "id": "6xwZGth5rqH0",
        "outputId": "df98773a-30e1-4b55-d0fe-f8c0488eb968"
      },
      "execution_count": 126,
      "outputs": [
        {
          "output_type": "display_data",
          "data": {
            "text/html": [
              "<html>\n",
              "<head><meta charset=\"utf-8\" /></head>\n",
              "<body>\n",
              "    <div>            <script src=\"https://cdnjs.cloudflare.com/ajax/libs/mathjax/2.7.5/MathJax.js?config=TeX-AMS-MML_SVG\"></script><script type=\"text/javascript\">if (window.MathJax) {MathJax.Hub.Config({SVG: {font: \"STIX-Web\"}});}</script>                <script type=\"text/javascript\">window.PlotlyConfig = {MathJaxConfig: 'local'};</script>\n",
              "        <script src=\"https://cdn.plot.ly/plotly-2.8.3.min.js\"></script>                <div id=\"b8e9daac-fab0-4d83-b38e-a165d64be8e2\" class=\"plotly-graph-div\" style=\"height:525px; width:800px;\"></div>            <script type=\"text/javascript\">                                    window.PLOTLYENV=window.PLOTLYENV || {};                                    if (document.getElementById(\"b8e9daac-fab0-4d83-b38e-a165d64be8e2\")) {                    Plotly.newPlot(                        \"b8e9daac-fab0-4d83-b38e-a165d64be8e2\",                        [{\"customdata\":[[\"water<br>texturized soy protein<br>pea protein<br>chickpea flour<br>vegetal fat<br>modified starch<br>onion<br>meat flavored condiment<br>salt<br>sugar<br>powdered beet<br>stabilizer methylcellulose<br>natural aromatizer<br>antioxidant ascorbic acid.\"],[\"soy isolated fiber<br>isolated soy protein<br>water<br>soy oil<br>sugar<br>carrot<br>salt<br>celery<br>gluten<br>chestnut<br>potato starch<br>spices<br>yeast extract.\"],[\"water<br>pea protein<br>soy protein<br>vegetal fat<br>cashew fiber meat<br>onion<br>garlic<br>salt<br>pepper<br>a\\u00e7ai extract<br>powdered beet<br>natural aromatizer<br>methylcellulose thickener.\"],[\"water<br>soy protein<br>wheat<br>cottonseed oil<br>onion<br>salt<br>gluten<br>garlic<br>salt<br>iron<br>vitamin B12\"],[\"water<br>pea protein<br>cottonseed oil<br>vegetal fat<br>gluten<br>salt<br>malt<br>onion<br>starch<br>sugar<br>iron<br>garlic<br>vitamin B12<br>methylcellulose thickener<br>natural aroma<br>antioxidant ascorbic acid<br>beet coloring. \"],[\"water<br>texturized soy protein<br>breadcrumbs<br>onion<br>national palm oil<br>salt<br>garlic<br>natural spices<br>spices.\"],[\"water<br>soy protein<br>sunflower oil<br>corn starch <br>hydrocolloid mix<br>palm oil<br>vegetable meat spices<br>bamboo fiber<br>spices<br>natural vegetable aroma<br>caramel coloring<br>smoke aroma<br>iron<br>zinc<br>vitamin A<br>vitamin B9<br>vitamin B12 <br>methylcellulose thickener. \"],[\"wheat gluten<br>hydrolyzed vegetable protein<br>texturized soy protein<br>soy flour<br>vegetable palm fat<br>salt<br>sugar<br>maltodextrin<br>yeast extract<br>spices <br>black pepper<br>garlic powder<br>onion powder <br>natural caramel coloring.\"],[\"water<br>soy protein mix<br>pea<br>chickpea<br>vegetable oil<br>vegetal fiber<br>spices<br>bovine natural aroma<br>salt<br>yeast extract<br>sugar<br>onion powder<br>garlic powder<br>antioxidant ascorbic acid<br>beet<br>malt extract<br>vitamin B12 <br>iron.\"]],\"hovertemplate\":\"<b>%{hovertext}</b><br><br>Classification (Label)=MEAT 2<br>Ingredients=%{customdata[0]}<extra></extra>\",\"hovertext\":[\"Carne Mo\\u00edda do Futuro\",\"Almondegas de Soja Vegway\",\"Almondegas Amazonika Mundi\",\"Kibe Incr\\u00edvel Seara\",\"Almondegas Incr\\u00edveis Seara\",\"Almondegas Mr Veggy\",\"Carne Mo\\u00edda Superbom\",\"Carne Vegetal Mo\\u00edda Superbom\",\"Carne Mo\\u00edda Vegetal Verdali\"],\"legendgroup\":\"MEAT 2\",\"marker\":{\"color\":\"#636EFA\",\"symbol\":\"circle\",\"line\":{\"color\":\"DarkSlateGrey\",\"width\":1},\"size\":9},\"mode\":\"markers\",\"name\":\"MEAT 2\",\"orientation\":\"v\",\"showlegend\":true,\"x\":[30.962848663330078,49.41020202636719,33.43672180175781,35.39754867553711,46.77165603637695,30.915010452270508,64.54955291748047,37.797454833984375,37.60341262817383],\"xaxis\":\"x\",\"y\":[-2.6341052055358887,41.93182373046875,-0.6729515194892883,2.471677303314209,-5.491348743438721,8.47812271118164,-18.466571807861328,15.390508651733398,6.413691997528076],\"yaxis\":\"y\",\"type\":\"scatter\"},{\"customdata\":[[\"water<br>texturized soy protein<br>isolated soy protein<br>pea protein<br>chickpea flour<br>vegetal fat<br>modified starch<br>meat flavored condiment<br>onion<br>salt<br>dextrose<br>powdered beet<br>antioxidant ascorbic acid.\"],[\"soy flour<br>soy sauce<br>garlic essential oil<br>onion\"],[\"soy flour<br>soy sauce<br>garlic essential oil<br>onion\"],[\"soy protein<br>pea<br>quinoa<br>garlic<br>onion<br>vegetable oil<br>spices<br>salt<br>flavoring\"],[\"soy protein<br>pea<br>quinoa<br>garlic<br>onion<br>vegetable oil<br>spices<br>salt<br>flavoring\"],[\"water<br>texturized soy protein<br>modified corn starch<br>gluten<br>soy sauce<br>onion<br>garlic<br>salt<br>vegetable oil<br>spices\"],[\"water<br>texturized soy protein<br>modified corn starch<br>gluten<br>onion<br>soy sauce<br>garlic<br>salt<br>vegetable oil<br>spices\"],[\"water<br>pea protein<br>cottonseed oil<br>vegetal fat<br>gluten<br>salt<br>malt<br>onion<br>starch<br>sugar<br>iron<br>garlic<br>vitamin B12<br>methylcellulose thickener<br>natural aroma<br>antioxidant ascorbic acid<br>beet coloring. \"],[\"texturized soy protein<br>water<br>soy protein<br>soy oil<br>wheat gluten<br>salt<br>corn starch<br>carrot<br>carrageenan<br>soy sauce<br>sorbitol <br>natural spices.\"],[\"texturized soy protein<br>water<br>soy oil<br>salt<br>sugar<br>wheat gluten<br>soy sauce<br>sorbitol<br>ground black pepper<br>brazilian spices<br>spices <br>natural aroma.\"],[\"water<br>soy protein<br>palm oil<br>corn starch <br>hydrocolloid mix<br>sunflower oil<br>vegetable meat flavor spices<br>bamboo fiber<br>caramel coloring<br>natural vegetable aroma<br>spices<br>refined sugar<br>natural smoke aromatizer<br>iron<br>zinc<br>vitamin A<br>vitamin B9<br>vitamin B12<br>methylcellulose thickener. \"],[\"gluten<br>hydrolyzed soy protein<br>texturized soy protein<br>soy flour<br>soy oil<br>salt<br>natural spices <br>natural caramel coloring.\"],[\"water<br>texturized soy protein<br>hydrolyzed vegetable protein<br>potato starch<br>onion<br>garlic<br>natural spices<br>red pepper<br>salt<br>spices<br>maltodextrin<br>sugar<br>yeast extract <br>natural caramel coloring. \"],[\"water<br>texturized soy protein<br>hydrolyzed vegetable protein<br>potato starch<br>onion<br>garlic<br>natural spices<br>red pepper<br>salt<br>spices<br>maltodextrin<br>sugar<br>yeast extract <br>natural caramel coloring.\"],[\"water<br>texturized soy protein<br>isolated soy protein<br>hydrolyzed soy protein<br>wheat gluten<br>canola vegetable oil<br>tomato juice<br>modified starch<br>salt<br>sugar<br>maltodextrin<br>yeast extract<br>onion<br>garlic<br>spices <br>spices <br>black pepper<br>garlic powder<br>onion powder <br>natural caramel coloring.\"],[\"texturized soy protein<br>isolated soy protein<br>hydrolyzed soy protein<br>wheat gluten<br>soy oil<br>modified starch<br>salt<br>onion<br>garlic<br>tomato paste<br>sugar<br>maltodextrin<br>yeast extract<br>spices <br>black pepper<br>garlic powder<br>onion powder <br>natural caramel coloring.\"],[\"water<br>soy protein mix<br>pea<br>chickpea<br>vegetable oil<br>vegetal fiber<br>spices<br>bovine natural aroma<br>salt<br>tomato paste<br>yeast extract<br>sugar<br>vinegar<br>onion<br>garlic<br>malt extract<br>natural smoke aromatizertizer<br>antioxidant ascorbic acid<br>vitamin B12 <br>iron.\"],[\"water<br>soy protein mix<br>pea<br>chickpea<br>vegetable oil<br>vegetal fiber<br>spices<br>bovine natural aroma<br>salt<br>yeast extract<br>sugar<br>onion powder<br>garlic powder<br>malt extract<br>natural smoke aromatizertizer<br>antioxidant ascorbic acid.\"]],\"hovertemplate\":\"<b>%{hovertext}</b><br><br>Classification (Label)=MEAT 3<br>Ingredients=%{customdata[0]}<extra></extra>\",\"hovertext\":[\"Carne Mo\\u00edda do Futuro\",\"Fil\\u00e9s Sora Carne Vermelha\",\"Fatias Sora Carne Vermelha\",\"Fil\\u00e9 Pronto Saud\\u00e1vel Sora\",\"Carne Mo\\u00edda Pronto Saud\\u00e1vel Sora\",\"Churrasco Vegabom\",\"Churrasco Aoniondo Vegabom\",\"Carne de Pernil Seara\",\"Alm\\u00f4ndega de Soja Vegana Goshen\",\"Bife de Soja Vegano Goshen\",\"Alm\\u00f4ndega Vegana Superbom\",\"Bife Vegetal Superbom\",\"Escalope ao Molho Caseiro Superbom\",\"Cubinhos ao Molho Mexicano Superbom\",\"Alm\\u00f4ndegas ao Molho Sugo Superbom\",\"Medalh\\u00e3o ao Molho Madeira Superbom\",\"Mignon Verdali\",\"Steak Verdali\"],\"legendgroup\":\"MEAT 3\",\"marker\":{\"color\":\"#EF553B\",\"symbol\":\"circle\",\"line\":{\"color\":\"DarkSlateGrey\",\"width\":1},\"size\":9},\"mode\":\"markers\",\"name\":\"MEAT 3\",\"orientation\":\"v\",\"showlegend\":true,\"x\":[30.962291717529297,-13.014094352722168,-13.269627571105957,31.155113220214844,31.405946731567383,30.598758697509766,30.53822898864746,47.26721954345703,33.561119079589844,34.262393951416016,64.56165313720703,32.62766647338867,36.767024993896484,36.20688247680664,37.86091613769531,37.88689041137695,38.356285095214844,38.400150299072266],\"xaxis\":\"x\",\"y\":[-2.7890379428863525,5.485958099365234,4.658504962921143,5.290935516357422,5.8016581535339355,8.441605567932129,8.29551887512207,-6.288641452789307,22.8297119140625,22.81700897216797,-19.862411499023438,17.28504180908203,12.954730033874512,12.73397159576416,15.771467208862305,15.884001731872559,6.414584159851074,6.349214553833008],\"yaxis\":\"y\",\"type\":\"scatter\"},{\"customdata\":[[\"water<br>texturized soy protein<br>isolated soy protein<br>pea protein<br>chickpea flour<br>vegetal fat<br>modified starch<br>meat flavored condiment<br>onion<br>salt<br>dextrose<br>powdered beet<br>antioxidant ascorbic acid.\"],[\"soy flour<br>soy sauce<br>garlic essential oil\"],[\"soy flour<br>soy sauce<br>garlic essential oil\"],[\"water<br>gluten<br>champignon<br>soy milk<br>garlic<br>salt<br>vegetable oil<br>spices.\"],[\"water<br>texturized pea protein<br>modified starch<br>onion<br>yeast extract<br>natural aroma<br>himalayan pink salt<br>vitamin mix<br>thiamine vitamin B1<br>riboflavin vitamin B2<br>niacin vitamin B3<br>pyridoxine vitamin B6<br>folic acid vitamin B9<br>cobalamin vitamin B12<br>biotin vitamin B7<br>garlic<br>black pepper<br>iron<br>antioxidant ascorbic acid.\"],[\"soy isolated fiber<br>isolated soy protein<br>water<br>soy oil<br>sugar<br>gluten<br>salt<br>yeast extract<br>spices<br>potato starch.\\n\"],[\"water<br>soy protein<br>pea protein<br>beans<br>sunflower oil<br>salt<br>flavoring<br>natural aroma<br>natural aromatizer\"],[\"water<br>soy protein<br>pea protein<br>beans<br>sunflower oil<br>salt<br>flavoring<br>natural aroma <br>natural aromatizer\"],[\"texturized soy protein<br>water<br>isolated soy protein<br>soy oil<br>wheat gluten<br>salt<br>paprika<br>soy sauce<br>sorbitol<br>ponceau coloring<br>pepper<br>vegetal gum<br>natural spices.\"],[\"texturized soy protein<br>soy protein isolate<br>water<br>soy oil<br>cassava starch<br>wheat gluten<br>carrageenan<br>salt<br>soy sauce<br>sorbitol<br>ponceau coloring<br>paprika<br>konjac<br>aroma <br>spices natural.\"],[\"water<br>soy protein mix<br>pea protein mix<br>vegetable oil<br>corn maltodextrin<br>salt<br>onion<br>black pepper<br>garlic<br>natural aroma<br>antioxidant ascorbic acid<br>vitamin B12 <br>iron.\"],[\"water<br>soy protein mix<br>pea <br>chickpea<br>vegetable oil<br>vegetal fiber<br>stabilizer methylcellulose<br>maltodextrin<br>salt<br>yeast extract<br>chicken natural aroma<br>garlic powder<br>antioxidant ascorbic acid<br>vitamin B12 <br>iron.\"],[\"water<br>soy protein mix<br>pea <br>chickpea<br>vegetable oil<br>vegetal fiber<br>stabilizer methylcellulose<br>corn flour<br>ginger<br>garlic<br>onion <br>cilantro<br>white pepper<br>salt<br>chicken natural aroma<br>antioxidant ascorbic acid<br>vitamin B12 <br>iron.\"]],\"hovertemplate\":\"<b>%{hovertext}</b><br><br>Classification (Label)=POULTRY 3<br>Ingredients=%{customdata[0]}<extra></extra>\",\"hovertext\":[\"Frango do Futuro\",\"Fatias Sora Carne Branca\",\"Fil\\u00e9s Sora Carne Branca\",\"Strogonoff de Frango Vegabom\",\"Tiras de Frango New Butchers\",\"Fil\\u00e9 de Frango Desfiado Vegway\",\"Frango Veg e Tal Sadia\",\"Frango Veg e Tal Sadia Desfiado\",\"Peito de Peru de Soja\",\"Peito de Peru de Soja Vegano\",\"Tiras de Ave Verdali\",\"Fil\\u00e9 sem Frango Verdali\",\"Mini Fil\\u00e9 de Frango Verdali\"],\"legendgroup\":\"POULTRY 3\",\"marker\":{\"color\":\"#00CC96\",\"symbol\":\"circle\",\"line\":{\"color\":\"DarkSlateGrey\",\"width\":1},\"size\":9},\"mode\":\"markers\",\"name\":\"POULTRY 3\",\"orientation\":\"v\",\"showlegend\":true,\"x\":[31.171070098876953,-13.33512020111084,-13.919103622436523,30.60654067993164,36.846031188964844,49.27175521850586,30.958480834960938,28.642162322998047,34.1338005065918,33.266021728515625,37.391929626464844,37.578948974609375,38.33525466918945],\"xaxis\":\"x\",\"y\":[-2.2923028469085693,5.17759895324707,4.852080345153809,7.935317516326904,-0.7543280124664307,41.044158935546875,-1.9588998556137085,-3.054856538772583,26.76274299621582,25.38082504272461,2.258075475692749,5.541567325592041,3.9848906993865967],\"yaxis\":\"y\",\"type\":\"scatter\"},{\"customdata\":[[\"water<br>texturized soy protein<br>isolated soy protein<br>pea protein<br>chickpea flour<br>vegetal fat<br>modified starch<br>salt<br>powdered beet<br>natural aromatizer<br>sugar<br>onion<br>garlic<br>white pepper<br>stabilizer methylcellulose<br>carrageenan gum<br>prepared condiment<br>antioxidant ascorbic acid.\"],[\"water<br>texturized soy protein<br>soy protein isolate<br>modified corn starch<br>cassava starch<br>vegetable oil<br>gluten flour<br>salt<br>spices<br>artificial coloring<br>conservante sodium benzoate\"],[\"chickpea<br>texturized soy protein<br>soy protein isolate<br>micronized protein<br>gluten flour<br>vegetable oil<br>salt<br>spices<br>annatto natural coloring\"],[\"soy isolated fiber<br>water<br>gluten<br>soy oil<br>sugar<br>potato starch<br>salt<br>spices<br>yeast extract<br>red rice yeast powder.\"],[\"water<br>pea protein<br>cottonseed oil<br>vegetal fat<br>gluten<br>salt<br>malt<br>onion<br>starch<br>sugar<br>iron<br>garlic<br>vitamin B12<br>methylcellulose thickener<br>natural aroma<br>antioxidant ascorbic acid<br>beet coloring. \"],[\"texturized soy protein<br>water<br>isolated soy protein<br>soy oil<br>wheat gluten<br>salt<br>paprika<br>soy sauce<br>sorbitol<br>ponceau coloring<br>pepper<br>vegetal gum<br>konjac <br>natural spices.\"],[\"texturized soy protein<br>isolated soy protein<br>cassava starch<br>water<br>soy oil<br>wheat gluten<br>carrageenan<br>sorbitol<br>salt<br>paprika<br>soy sauce<br>ponceau coloring<br>aroma <br>natural spices.\"],[\"texturized soy protein<br>isolated soy protein<br>modified cassava starch<br>wheat gluten<br>vegetal gum<br>water<br>soy oil<br>salt<br>sugar<br>paprika<br>soy sauce<br>sorbitol<br>ponceau coloring<br>aroma <br>natural spices.\"],[\"texturized soy protein<br>water<br>isolated soy protein<br>soy oil<br>wheat gluten<br>salt<br>paprika<br>soy sauce<br>sorbitol<br>ponceau coloring<br>pepper<br>vegetal gum<br>natural spices.\"],[\"texturized soy protein<br>isolated soy protein<br>modified cassava starch<br>wheat gluten<br>vegetal gum<br>water<br>soy oil<br>salt<br>paprika<br>soy sauce<br>sorbitol<br>ponceau coloring<br>aroma <br>natural spices.\"],[\"wheat gluten<br>hydrolyzed soy protein<br>texturized soy protein<br>soy flour<br>soy oil<br>vegetal fiber<br>salt<br>sugar<br>maltodextrin<br>spices <br>garlic powder<br>cilantro powder<br>onion powder<br>black pepper powder<br>yeast extract<br>hydrolyzed corn protein <br>annatto natural coloring. \"],[\"wheat gluten<br>vegetal fiber<br>soy oil<br>wheat fiber<br>wheat flour<br>iron<br>folic acid<br>soy flour<br>hydrolyzed soy protein<br>corn starch<br>soy lecithin<br>natural condiments<br>black pepper<br>salt<br>sugar<br>maltodextrin<br>spices <br>garlic powder<br>cilantro powder<br>onion powder<br>black pepper powder<br>yeast extract<br>hydrolyzed corn protein <br>natural smoke aromatizertizer.\"]],\"hovertemplate\":\"<b>%{hovertext}</b><br><br>Classification (Label)=PORK 1<br>Ingredients=%{customdata[0]}<extra></extra>\",\"hovertext\":[\"Lingui\\u00e7a do Futuro\",\"Lingui\\u00e7a calabresa vegabom\",\"saltsicha de chickpea Vegabom\",\"Vegway Soy Sausage\",\"saltsichas Incriveis Seara\",\"Lingui\\u00e7a Apepperda de Soja Goshen\",\"Lingui\\u00e7a Calabresa de Soja Goshen\",\"Lingui\\u00e7a de Soja Vegana Goshen\",\"Lingui\\u00e7a Toscana de Soja Goshen\",\"saltsicha de Soja Vegana Goshen\",\"saltsicha Vegetal Superbom\",\"saltsicha Vegetal Defumada Superbom\"],\"legendgroup\":\"PORK 1\",\"marker\":{\"color\":\"#AB63FA\",\"symbol\":\"circle\",\"line\":{\"color\":\"DarkSlateGrey\",\"width\":1},\"size\":9},\"mode\":\"markers\",\"name\":\"PORK 1\",\"orientation\":\"v\",\"showlegend\":true,\"x\":[31.756685256958008,30.98202896118164,30.75248908996582,49.37663269042969,47.7149772644043,34.186859130859375,33.181968688964844,34.25331115722656,33.791595458984375,34.378379821777344,38.13545608520508,38.65534591674805],\"xaxis\":\"x\",\"y\":[-2.6223649978637695,8.385793685913086,8.570745468139648,41.78348922729492,-6.077389240264893,26.894254684448242,25.754776000976562,26.70406723022461,26.162216186523438,26.922319412231445,15.346431732177734,14.78976058959961],\"yaxis\":\"y\",\"type\":\"scatter\"},{\"customdata\":[[\"texturized soy protein<br>water<br>soy oil<br>modified corn starch<br>sugar<br>salt<br>soy sauce<br>wheat gluten<br>natural spices<br>ground black pepper<br>ground white pepper.\"],[\"texturized soy protein<br>soy extract<br>wheat flour<br>corn starch<br>water<br>soy oil<br>salt<br>sorbitol<br>soy sauce<br>oregano<br>natural spices.\"],[\"water<br>processed carrot<br>oat flakes<br>raw chickpea<br>quinoa<br>sesame seeds<br>green onion<br>onion<br>mustard<br>cassava starch<br>salt<br>garlic<br>spices.\"],[\"water<br>carrot<br>lentil<br>onion<br>flaked potato<br>cassava starch<br>spinach<br>palm oil<br>green onion<br>flaxseed<br>salt<br>garlic<br>sesame seeds<br>liquid smoke.\"],[\"water<br>chickpea<br>beans<br>extra virgin olive oil<br>pataua oil<br>cilantro<br>cumin<br>curry<br>black pepper<br>sodium bicarbonate<br>salt<br>sesame seeds<br>green onion<br>parsley<br>mint\"],[\"water<br>protein mix<br>soy concentrated protein<br>pea concentrated protein<br>bamboo fiber<br>onion<br>corn maltodextrin<br>vegetal fat<br>salt<br>beet<br>yeast extract<br>black pepper<br>garlic<br>methylcellulose stabilizer<br>natural aroma<br>caramel natural extract<br>antioxidant ascorbic acid<br>vitamin B12<br>iron.\"],[\"water<br>protein preparation<br>texturized soy protein<br>pea isolated protein<br>coconut oil<br>onion<br>himalayan pink salt<br>garlic<br>pepper<br>powdered beet<br>iron<br>vitamin B6<br>vitamin B12<br>stabilizer modified starch<br>stabilizer methylcellulose<br>natural aroma<br>antioxidant rosemary extract.\"],[\"water<br>pea concentrated protein<br>pea texturized protein<br>vegetal fiber<br>sunflower oil<br>coconut oil<br>pea isolated protein<br>yeast extract<br>spices<br>vegan beef<br>onion powder<br>beet concentrate<br>garlic powder<br>salt<br>smoke arome<br>spices<br>iron<br>zinc<br>vitamin A<br>vitamin B9<br>vitamin B12.\"],[\"water<br>pea protein<br>cottonseed oil<br>vegetal fat<br>gluten<br>salt<br>malt<br>onion<br>starch<br>sugar<br>iron<br>garlic<br>vitamin B12<br>methylcellulose thickener<br>natural aroma<br>antioxidant ascorbic acid<br>beet coloring. \"],[\"water<br>pea protein<br>coconut oil<br>sunflower oil<br>bamboo fiber<br>cacao powder<br>rice protein<br>salt<br>powdered beet juice<br>defatted chia seeds powder<br>powder spinach<br>iron<br>zinc<br>vitamin A<br>vitamin B9<br>vitamin B12<br>stabilizer methylcellulose<br>natural aroma\"],[\"water<br>pea protein<br>soy protein<br>vegetal fat<br>cashew fiber meat<br>onion<br>garlic<br>salt<br>ass\\u00ees\\u00ee pepper<br>a\\u00e7ai extract<br>powdered beet<br>natural aromatizer<br>methylcellulose thickener.\"],[\"water<br>texturized soy protein<br>soy protein isolate<br>micronized protein<br>vegetable oil<br>gluten flour<br>salt<br>spices.\"],[\"water<br>wheat protein<br>coconut oil<br>soy protein<br>sunflower oil<br>onion<br>beet<br>potato fiber<br>herbs<br>spices<br>salt<br>garlic<br>tomato<br>barley malt extract<br>maltodextrin<br>iron ferric orthophosphate<br>vitamin B12<br>natural aroma<br>methylcellulose thickener.\"],[\"water<br>texturized pea protein<br>coconut fat<br>modified starch<br>onion<br>yeast extract<br>powdered beet<br>himalayan pink salt<br>stabilizer methylcellulose<br>vitamin mix<br>vitamin B1<br>vitamin B2<br>vitamin B3<br>vitamin B6<br>vitamin B9<br>vitamin B12<br>vitamin B7<br>natural aroma<br>black pepper<br>garlic<br>iron<br>antioxidant ascorbic acid.\"],[\"water<br>texturized soy protein<br>carrot<br>corn<br>breadcrumbs<br>wheat flour<br>onion<br>pea<br>national palm oil<br>corn starch<br>salt<br>garlic<br>natural spices.\"],[\"water<br>texturized soy protein<br>wheat flour<br>breadcrumbs<br>onion <br>national palm oil<br>corn starch<br>salt<br>garlic<br>natural spices.\"],[\"water<br>texturized soy protein<br>wheat flour<br>breadcrumbs<br>vegetable palm fat<br>sunflower oil<br>corn starch<br>salt<br>natural spices<br>citric acid<br>caramel coloring<br>annatto natural coloring.\"],[\"water<br>texturized soy protein<br>wheat flour<br>breadcrumbs<br>vegetable palm fat<br>sunflower oil<br>corn starch<br>salt<br>natural spices<br>citric acid<br>caramel coloring<br>annatto natural coloring.\"],[\"water<br>texturized soy protein<br>pea protein<br>chickpea flour<br>vegetal fat<br>modified starch<br>onion<br>meat flavored condiment<br>salt<br>sugar<br>powdered beet<br>stabilizer methylcellulose<br>natural aromatizer<br>antioxidant ascorbic acid.\"],[\"water<br>white quinoa<br>black quinoa<br>red quinoa<br>oat flakes<br>carrot<br>zucchini<br>onion<br>black tucupi<br>apple vinegar<br>extra virgin olive oil<br>salt<br>grated nutmeg<br>black pepper <br>cilantro.\"],[\"sweet potato<br>oat<br>carrot<br>white quinoa<br>red quinoa<br>extra virgin olive oil<br>lemon<br>salt<br>onion<br>garlic<br>curry<br>oregano<br>basil<br>cilantro<br>cumin<br>mint\"],[\"soy flour<br>soy sauce<br>garlic essential oil<br>onion\"],[\"beans<br>oat<br>extra virgin olive oil<br>golden flaxseed<br>chia seeds<br>salt<br>onion<br>garlic<br>turmeric<br>annatto<br>organic liquid smoke<br>cilantro<br>salt<br>green onion<br>cumin<br>oregano<br>bay.\"],[\"beans<br>oat<br>beet<br>tomato extract<br>extra virgin olive oil<br>golden flaxseed<br>chia seeds<br>salt<br>white wine vinegar<br>onion<br>garlic<br>smoked paprika<br>salt<br>cayenne pepper<br>pepper chipotle<br>pepper chili<br>red pepper<br>black pepper<br>organic liquid smoke<br>cumin<br>cilantro.\"],[\"soy isolated fiber<br>isolated soy protein<br>water<br>sugar<br>soy oil<br>gluten<br>salt<br>yeast extract<br>potato starch<br>spices.\"],[\"soy isolated fiber<br>isolated soy protein<br>water<br>soy oil<br>sugar<br>chestnut<br>salt<br>celery<br>gluten<br>potato starch<br>carrot<br>yeast extract.\"],[\"gluten<br>soy oil<br>wheat fiber<br>wheat flour<br>texturized soy protein<br>hydrolyzed soy protein<br>garlic<br>onion<br>salt<br>spices<br>maltodextrin<br>sugar<br>yeast extract<br>natural caramel coloring<br>defatted chia seed<br>natural smoke aromatizertizer.\"],[\"chickpea<br>water<br>flaked potato<br>purple onion<br>palm oil<br>chickpea flour<br>cassava starch<br>chickpea flour<br>salt<br>green onion<br>flaxseed<br>spices.\"],[\"chickpea<br>carrot<br>oat<br>lime juice<br>olive oil<br>salt<br>golden flaxseed<br>chia seeds<br>sesame seeds<br>zaatar<br>onion<br>garlic<br>smoked paprika<br>black pepper<br>manjerona<br>oregano<br>cumin <br>mint\"],[\"lentil<br>oat<br>sunflower seed<br>soy sauce<br>extra virgin olive oil<br>lime juice<br>golden flaxseed<br>chia seeds<br>salt<br>onion<br>garlic<br>smoked paprika<br>sesame seed oil<br>cilantro<br>salt<br>ginger<br>black pepper\"],[\"texturized soy protein<br>wheat flour<br>gluten flour<br>water<br>breadcrumbs<br>shimeji<br>shitake<br>vegetable oil<br>salt<br>garlic\\u00a0\"],[\"soy protein<br>pea<br>quinoa<br>garlic<br>onion<br>vegetable oil<br>spices<br>salt e flavoring\"],[\"texturized soy protein<br>oat bran<br>golden flaxseed flour<br>onion powder<br>sunflower oil<br>quinoa flakes<br>salt light<br>cassava starch<br>garlic powder<br>carob powder<br>powdered beet<br>soluble fiber <br>aroma\"],[\"texturized soy protein<br>oat bran<br>golden flaxseed flour<br>onion powder<br>sunflower oil<br>quinoa flakes<br>salt light<br>cassava starch<br>herbs<br>parsley<br>green onion <br>thyme<br>garlic powder<br>carob powder<br>powdered beet<br>soluble fiber <br>aroma.\"]],\"hovertemplate\":\"<b>%{hovertext}</b><br><br>Classification (Label)=MEAT 1<br>Ingredients=%{customdata[0]}<extra></extra>\",\"hovertext\":[\"Hamburguer de Soja Goshen\",\"Hamburguer de Soja Vegano Goshen\",\"Hamburguer de Quinoa Mr Veggy\",\"Hamburguer de lentil Mr Veggy\",\"Hamburguer vegano falafel amazonika mundi\",\"Hamburguer Vegetal Verdali\",\"VegBurger Sabor Carne\",\"Burger Gourmet Superbom\",\"Hamburguer Incr\\u00edvel Seara\",\"Not Burguer Notco\",\"Hamburguer de Fibra de Caju Amazonika Mundi\",\"Hamburguer Vegabom\",\"Hamburguer de Carne Veg  e Tal Sadia\",\"Hamburger New Butchers\",\"Hamburguer de Legumes Mr Veggy\",\"Hamburguer Vegetariano Mr Veggy\",\"Hambuguer Mr Veggy Mari Mari\",\"Hambuguer Mr Veggy Mari Mari Churrrasco\",\"Hamb\\u00farguer Fazenda Futuro 2.0\",\"Hamb\\u00farguer Vegano de Quinoa Amazonika Mundi\",\"Hamburguer Veggie Roots Tempero Indiano\",\"Hamb\\u00farguer Sora Carne Vermelha \",\"Hamburguer Veggie Roots brazilian spices\",\"Hamburguer veggie roots tempero mexicano\",\"Hamburguer de Soja Sabor Carne Vegway\",\"Hamb\\u00farguer de Soja Empanado Vegway\",\"Hamburguer Vegetal Superbom\",\"Hamburguer de chickpea Mr Veggy\",\"Hamburguer Veggie Roots Tempero \\u00c1rabe\",\"Hamburguer Veggie Roots Tempero Tail,\\u00eas\",\"Hamburguer Vegabom\",\"Hamb\\u00farguer Pronto Saud\\u00e1vel Sora\",\"hamburguer vegetal com herbs jasmine\",\"Hamburguer Vegetal Tradicional Jasmine\"],\"legendgroup\":\"MEAT 1\",\"marker\":{\"color\":\"#FFA15A\",\"symbol\":\"circle\",\"line\":{\"color\":\"DarkSlateGrey\",\"width\":1},\"size\":9},\"mode\":\"markers\",\"name\":\"MEAT 1\",\"orientation\":\"v\",\"showlegend\":true,\"x\":[33.84560012817383,33.18920135498047,30.933454513549805,32.345157623291016,21.92493438720703,40.38928985595703,36.45412063598633,64.49202728271484,48.228092193603516,64.79505920410156,32.60126495361328,30.347444534301758,34.06775665283203,37.275054931640625,33.312782287597656,32.06156539916992,31.735307693481445,31.930049896240234,31.024124145507812,22.665979385375977,23.299375534057617,-12.716025352478027,24.044811248779297,24.20801544189453,49.45977020263672,49.5776252746582,37.78468704223633,31.492202758789062,24.083471298217773,24.317472457885742,31.34827423095703,30.5926570892334,-18.124465942382812,-18.173580169677734],\"xaxis\":\"x\",\"y\":[21.228097915649414,21.54355812072754,4.992377758026123,4.071204662322998,6.466057777404785,-0.7011486887931824,1.6972541809082031,-19.139432907104492,-6.465574741363525,-19.808359146118164,-1.7700538635253906,8.991756439208984,1.3457670211791992,-0.42896977066993713,10.936378479003906,11.180717468261719,12.045853614807129,15.368379592895508,-2.601943016052246,8.660139083862305,8.06509780883789,5.542731761932373,7.965680122375488,8.095842361450195,42.082515716552734,43.65846252441406,15.138456344604492,5.316464900970459,8.184386253356934,8.093603134155273,8.948494911193848,6.247903347015381,-0.9512941837310791,-1.5783095359802246],\"yaxis\":\"y\",\"type\":\"scatter\"},{\"customdata\":[[\"soy flour<br>soy sauce<br>garlic essential oil\"],[\"water<br>protein preparation<br>texturized soy protein<br>pea isolated protein<br>coconut oil<br>onion<br>himalayan pink salt<br>garlic<br>pepper<br>iron<br>vitamin B6<br>vitamin B12<br>stabilizer modified starch <br>stabilizer methylcellulose<br>natural aroma<br>natural caramel coloring<br>antioxidant rosemary extract.\"],[\"water<br>pea protein<br>cottonseed oil<br>vegetal fat<br>gluten<br>salt<br>malt<br>onion<br>starch<br>sugar<br>iron<br>garlic<br>vitamin B12<br>methylcellulose thickener<br>natural aroma <br>natural aroma<br>antioxidant ascorbic acid<br>beet coloring. \"],[\"water<br>pea protein isolate<br>dehydrated orange pulp<br>sunflower oil<br>vegetable grilled chicken flavor spices<br>yeast extract<br>vegetal fiber<br>salt<br>ground black pepper<br>iron<br>zinc<br>vitamin A<br>vitamin B9<br>vitamin B12 <br>stabilizer sodium alginate.\"],[\"water<br>soy protein mix<br>pea <br>chickpea<br>vegetal fiber<br>maltodextrin<br>stabilizer methylcellulose<br>salt<br>chicken natural aroma<br>garlic<br>onion<br>white pepper<br>antioxidant ascorbic acid<br>vitamin B12 <br>iron.\"]],\"hovertemplate\":\"<b>%{hovertext}</b><br><br>Classification (Label)=POULTRY 2<br>Ingredients=%{customdata[0]}<extra></extra>\",\"hovertext\":[\"Hamb\\u00farguer Sora Carne Branca\",\"VegBurger Sabor Frango\",\"Hambuguer Incr\\u00edvel Seara Frango\",\"Frango Vegano em Peda\\u00e7os \\u00e0 Base de pea\",\"Hamb\\u00farguer de Frango Verdali\"],\"legendgroup\":\"POULTRY 2\",\"marker\":{\"color\":\"#19D3F3\",\"symbol\":\"circle\",\"line\":{\"color\":\"DarkSlateGrey\",\"width\":1},\"size\":9},\"mode\":\"markers\",\"name\":\"POULTRY 2\",\"orientation\":\"v\",\"showlegend\":true,\"x\":[-13.621932983398438,37.810813903808594,47.00822067260742,66.14907836914062,39.277679443359375],\"xaxis\":\"x\",\"y\":[5.016701698303223,1.7916258573532104,-5.787619113922119,-21.42559242248535,1.676760196685791],\"yaxis\":\"y\",\"type\":\"scatter\"},{\"customdata\":[[\"texturized soy protein<br>micronized protein<br>soy protein isolate<br>gluten<br>soy sauce<br>garlic<br>salt<br>vegetable oil<br>panko flour<br>water<br>spices\"],[\"texturized soy protein<br>micronized protein<br>soy protein isolate<br>gluten<br>soy sauce<br>garlic<br>salt<br>vegetable oil<br>panko flour<br>water<br>spices.\"],[\"soy isolated fiber<br>isolated soy protein<br>water<br>sugar<br>soy oil<br>gluten<br>salt<br>panko flour<br>potato starch<br>wheat flour<br>spices<br>yeast extract<br>betacaroten\"],[\"water<br>breadcrumbs<br>cottonseed oil<br>soy protein<br>vegetal fat<br>onion<br>gluten<br>cassava starch<br>rice flour<br>salt<br>corn flour<br>iron<br>folic acid<br>wheat flour<br>garlic<br>white pepper<br>black pepper<br>iron<br>vitamin B12<br>methylcellulose thickener<br>carrageenan thickener<br>natural aroma<br>flavor enhancer monosodium glutamate\"],[\"water<br>breadcrumbs<br>cottonseed oil<br>soy protein<br>vegetal fat<br>onion<br>gluten<br>cassava starch<br>rice flour<br>salt<br>corn flour<br>iron<br>folic acid<br>wheat flour<br>garlic<br>white pepper<br>black pepper<br>iron<br>vitamin B12<br>methylcellulose thickener<br>carrageenan thickener<br>natural aroma<br>flavor enhancer monosodium glutamate\"],[\"texturized soy protein<br>isolated soy protein<br>water<br>soy oil<br>modified corn starch<br>sugar<br>salt<br>sorbitol<br>wheat gluten<br>spices <br>natural aroma<br>ground white pepper<br>breadcrumbs.\"],[\"texturized soy protein<br>isolated soy protein<br>wheat gluten<br>modified starch<br>water<br>soy oil<br>salt<br>sorbitol <br>natural aroma.\"],[\"texturized soy protein<br>isolated soy protein<br>wheat gluten<br>water<br>soy oil<br>sesame seed oil<br>sugar<br>salt<br>sorbitol<br>spices.\"],[\"water<br>wheat flour<br>iron<br>folic acid<br>texturized pea protein<br>vegetal fat<br>stabilizer methylcellulose<br>modified starch<br>corn flour<br>starch<br>gluten<br>salt<br>garlic<br>onion<br>white pepper<br>black pepper<br>red pepper<br>yeast<br>natural flavoring <br>chemical yeasts<br>sodium acid pyrophosphate INS 450i<br>sodium bicarbonate INS 500ii.\"],[\"water<br>wheat flour<br>iron<br>folic acid<br>texturized pea protein<br>vegetal fat<br>stabilizer methylcellulose<br>modified starch<br>corn flour<br>starch<br>gluten<br>salt<br>garlic<br>onion<br>white pepper<br>black pepper<br>red pepper<br>yeast<br>natural flavoring <br>chemical yeasts<br>sodium acid pyrophosphate INS 450i<br>sodium bicarbonate INS 500ii.\"],[\"water<br>soy protein<br>wheat flour<br>iron<br>folic acid<br>corn flour<br>oat<br>flaxseed<br>sunflower oil<br>isolated soy protein<br>vegetal fiber<br>vegetable spices<br>starch and hydrocolloid mix<br>spices<br>natural aroma<br>natural smoke aromatizertizer<br>salt<br>sugar<br>iron<br>zinc<br>vitamin A<br>vitamin B9<br>vitamin B12<br>guar gum<br>xanthan gum<br>methylcellulose<br>emulsifier esters of mono<br>emulsifier diglycerides of fatty acids. \"],[\"water<br>soy protein<br>wheat flour <br>iron <br>folic acid<br>corn flour<br>oat<br>flaxseed<br>sunflower oil<br>isolated soy protein<br>vegetal fiber<br>vegetable spices<br>starch mix<br>hydrocolloid mix<br>spices<br>natural aroma<br>natural smoke aromatizertizer<br>salt<br>sugar<br>iron<br>zinc<br>vitamin A<br>vitamin B9<br>vitamin B12<br>guar gum<br>xanthan gum<br>methylcellulose<br>emulsifier esters of mono<br>emulsifier diglycerides of fatty acids.\"],[\"texturized pea protein<br>oil<br>salt<br>chicken natural aromatizer\"],[\"texturized pea protein<br>oil<br>salt<br>breadcrumbs<br>natural aromatizer\"]],\"hovertemplate\":\"<b>%{hovertext}</b><br><br>Classification (Label)=POULTRY 1<br>Ingredients=%{customdata[0]}<extra></extra>\",\"hovertext\":[\"Empanado de Frango Vegabom\",\"Fil\\u00e9 de Frango Empanado Vegabom\",\"Empanados de Frango Vegway\",\"Empanados Incr\\u00edveis Seara\",\"Empanados Sadia Veg e Tal\",\"Empanadinho de Soja  Goshen\",\"Empanadinho de Soja Vegano  Goshen\",\"Steak de Soja Vegano Goshen\",\"Empanado Vegano Mini Crispy 100 Foods\",\"Crispy Chicken 100 Foods\",\"Mini Empanado de Legumes Superbom\",\"Steak Vegan Sabor Legumes Superbom\",\"Steak Veg\\u00ea Sabor Frango\",\"Steak Veg\\u00ea Sabor Frango Empanado\"],\"legendgroup\":\"POULTRY 1\",\"marker\":{\"color\":\"#FF6692\",\"symbol\":\"circle\",\"line\":{\"color\":\"DarkSlateGrey\",\"width\":1},\"size\":9},\"mode\":\"markers\",\"name\":\"POULTRY 1\",\"orientation\":\"v\",\"showlegend\":true,\"x\":[30.13292121887207,30.38120460510254,49.272830963134766,42.12492752075195,43.93745803833008,34.56085205078125,34.04357147216797,35.15901565551758,40.779293060302734,40.542457580566406,65.94275665283203,65.38365936279297,-21.463817596435547,-20.823822021484375],\"xaxis\":\"x\",\"y\":[8.59504222869873,8.921370506286621,41.526023864746094,-1.699336051940918,-3.2721288204193115,22.471481323242188,22.573299407958984,24.314472198486328,-1.3485193252563477,-1.0838786363601685,-20.47597885131836,-21.88446807861328,-2.2466964721679688,-2.288677453994751],\"yaxis\":\"y\",\"type\":\"scatter\"},{\"customdata\":[[\"texturized soy protein<br>micronized protein<br>soy protein isolate<br>gluten<br>soy sauce<br>seaweed<br>garlic<br>salt<br>vegetable oil<br>panko flour<br>water<br>spices.\"],[\"texturized soy protein<br>micronized protein<br>soy protein isolate<br>gluten<br>soy sauce<br>seaweed<br>garlic<br>salt<br>vegetable oil<br>panko flour<br>water<br>spices.\"],[\"water<br>potato<br>jackfruit<br>rice flour<br>texturized pea protein<br>olive oil<br>sunflower oil<br>cassava starch<br>methylcellulose<br>modified starch<br>corn flour<br>garlic<br>onion<br>black pepper<br>himalayan pink salt<br>dextrose<br>dha<br>epa<br>ascorbic acid\"],[\"cashew fiber meat<br>tomato<br>onion<br>coconut milk<br>tomato extract<br>water<br>flour<br>cilantro<br>flaxseed flour<br>palm olive oil<br>extra virgin olive oil<br>sacha inchi oil<br>garlic<br>salt<br>lime juice<br>apple vinegar<br>black pepper<br>annatto.\"],[\"texturized soy protein<br>isolated soy protein<br>cassava starch<br>water<br>soy oil<br>wheat gluten<br>carrot<br>sorbitol<br>salt<br>ponceau coloring<br>aroma <br>natural spices.\"]],\"hovertemplate\":\"<b>%{hovertext}</b><br><br>Classification (Label)=FISH 2<br>Ingredients=%{customdata[0]}<extra></extra>\",\"hovertext\":[\"Fil\\u00e9 Peixe Empanado Vegabom\",\"Tirinhas de Peixe Empanado Vegabom\",\"Bolinho de Bacalhau New Butchers\",\"Bolinho de Siri Amazonika Mundi\",\"Camar\\u00e3o de Soja Vegano Goshen\"],\"legendgroup\":\"FISH 2\",\"marker\":{\"color\":\"#B6E880\",\"symbol\":\"circle\",\"line\":{\"color\":\"DarkSlateGrey\",\"width\":1},\"size\":9},\"mode\":\"markers\",\"name\":\"FISH 2\",\"orientation\":\"v\",\"showlegend\":true,\"x\":[30.23141860961914,29.96148109436035,34.37150192260742,26.612993240356445,33.95708084106445],\"xaxis\":\"x\",\"y\":[8.51285171508789,9.040125846862793,-0.5792006254196167,7.094021320343018,23.69576644897461],\"yaxis\":\"y\",\"type\":\"scatter\"},{\"customdata\":[[\"water<br>modified potato starch<br>vegetal fat<br>artifical cheese flavoring<br>annatto coloring<br>salt<br>spices <br>pepper<br>potassium sorbate.\"],[\"water<br>modified potato starch<br>vegetal fat<br>artifical cheese flavoring<br>annatto coloring<br>salt<br>spices<br>pepper<br>potassium sorbate.\"],[\"water<br>modified potato starch<br>vegetal fat<br>artifical cheese flavoring<br>annatto coloring<br>salt<br>spices<br>pepper<br>potassium sorbate.\"],[\"water<br>soy oil<br>soy extract<br>modified starch<br>yeast<br>salt<br>potassium sorbate<br>citric acid<br>natural coloring beta carotene<br>carboxymethylcellulose<br>calcium disodium<br>guar gum<br>xanthan gum<br>tocopherol<br>natural cheese aroma\"],[\"water<br>soy oil<br>soy extract<br>modified starch<br>yeast<br>salt<br>potassium sorbate<br>citric acid<br>natural annatto coloring<br>carboxymethylcellulose<br>calcium disodium<br>guar gum<br>xanthan gum<br>tocopherol<br>natural cheese aroma \"],[\"water<br>soy oil<br>soy extract<br>modified starch<br>yeast<br>salt<br>potassium sorbate<br>citric acid<br>carboxymethylcellulose <br>calcium disodium<br>guar gum<br>xanthan gum<br>tocopherol<br>natural cheese aroma \"],[\"water<br>soy oil<br>soy extract<br>modified starch<br>yeast<br>salt<br>potassium sorbate<br>citric acid<br>carboxymethylcellulose<br>calcium disodium<br>guar gum<br>xanthan gum<br>tocopherol<br>natural cheese aroma \"],[\"water<br>peanuts<br>chickpea<br>vinegar<br>salt\"],[\"water<br>peanuts<br>chickpea<br>vinegar<br>curry<br>garlic<br>salt\"],[\"water<br>rice flour<br>sunflower oil<br>coconut oil<br>nutritional yeast<br>mustard<br>lactic acid<br>salt\"],[\"water<br>peanuts<br>chickpea<br>lupin<br>sunflower oil<br>wine<br>cassava starch<br>coconut oil<br>seaweed extract<br>nutritional yeast<br>vinegar<br>mustard<br>salt\"],[\"water<br>peanuts<br>chickpea<br>lupin<br>sunflower oil<br>wine<br>cassava starch<br>coconut oil<br>seaweed extract<br>nutritional yeast<br>vinegar<br>mustard<br>salt\"],[\"water<br>cashews<br>coconut oil <br>modified starch<br>salt <br>vitamin B6<br>vitamin B12<br>yeast extract \"],[\"water<br>cashews<br>coconut oil<br>modified starch<br>salt<br>fine herbs<br>pesto sauce<br>vitamin B6<br>vitamin B12\"],[\"water<br>cashews<br>modified potato starch<br>modified cassava starch<br>coconut oil <br>salt <br>yeast extract<br>vitamin B6<br>vitamin B12<br>carrageenan gum<br>lactic acid <br>potassium sorbate<br>annatto natural coloring.\"],[\"water<br>cashews<br>potato starch<br>coconut oil <br>salt <br>yeast extract<br>vitamin B6<br>vitamin B12<br>lactic acid<br>potassium sorbate<br>annatto natural coloring.\"],[\"water<br>cashews<br>modified potato starch<br>modified cassava starch<br>coconut oil <br>salt <br>yeast extract<br>vitamin B6<br>vitamin B12<br>carrageenan gum<br>lactic acid <br>potassium sorbate<br>annatto natural coloring.\"],[\"water<br>cashews<br>coconut oil <br>modified starch<br>salt <br>vitamin B6<br>vitamin B12<br>yeast extract<br>potassium sorbate\"],[\"water<br>cashews<br>coconut oil <br>modified starch<br>salt <br>vitamin B6<br>vitamin B12<br>fine herbs<br>potassium sorbate\"],[\"water<br>cashews<br>coconut oil <br>modified starch<br>salt <br>vitamin B6<br>vitamin B12<br>natural aroma<br>annatto natural coloring<br>potassium sorbate  \"],[\"cashews<br>water<br>probiotics\"],[\"cashews<br>water<br>spices<br>probiotics\"],[\"cashews<br>water<br>coconut oil<br>nutritional yeast<br>seaweed extract <br>cassava starch<br>probiotics <br>salt.\"],[\"cashews<br>water<br>coconut oil<br>nutritional yeast<br>liquid smoke<br>seaweed extract <br>cassava starch<br>probiotics <br>salt.\"],[\"cashews<br>water <br>coconut oil<br>probiotics <br>salt.\"],[\"cashews<br>water<br>coconut oil<br>nutritional yeast<br>seaweed extract <br>cassava starch<br>probiotics<br>salt <br>natural annatto coloring.\"],[\"cashews<br>water <br>coconut oil<br>nutritional yeast<br>probiotics <br>salt.\"],[\"water<br>cashews<br>coconut oil<br>cassava starch<br>maltodextrin<br>salt<br>seaweed extract <br>potassium sorbate.\"],[\"cashews<br>water<br>lime<br>coconut oil<br>onion <br>garlic<br>cassava starch<br>salt<br>spirulina\"],[\"cashews<br>red bell pepper<br>lime<br>water<br>salt<br>turmeric\"],[\"cashews<br>water<br>lime<br>salt<br>garlic<br>cassava starch<br>coconut oil<br>olive oil\"],[\"cashews<br>salt<br>coconut oil<br>probiotics<br>penicillium c<br>idum\"],[\"water<br>potato starch palm oil<br>carrot<br>apple<br>pumpkin<br>salt  <br>mozzarella aroma.\"],[\"cashews<br>water <br>coconut oil<br>seaweed extract <br>cassava starch<br>probiotics <br>salt\"],[\"cashews<br>water <br>coconut oil<br>seaweed extract <br>cassava starch<br>probiotics <br>salt\"],[\"cashews<br>water <br>coconut oil<br>seaweed extract <br>cassava starch<br>probiotics <br>salt.\"],[\"cashews<br>water <br>coconut oil<br>seaweed extract <br>cassava starch<br>probiotics <br>salt\"],[\"cashews<br>water <br>coconut oil<br>seaweed extract <br>cassava starch<br>probiotics<br>spices <br>salt\"],[\"water<br>cashews<br>coconut oil <br>starch<br>lime juice<br>salt <br>xanthan gum <br>potassium sorbate\"],[\"water<br>cashews<br>sunflower oil<br>starch<br>lime juice<br>salt <br>xanthan gum<br>nutritional yeast <br>potassium sorbate\"],[\"cashews<br>potato starch<br>coconut oil <br>salt<br>xanthan gum<br>natural annatto coloring <br>potassium sorbate.\"],[\"water<br>cashews<br>sunflower oil<br>seaweed extract <br>salt <br>lactic acid\"],[\"cashews water<br>cashews<br>sunflower oil<br>potato starch<br>coconut oil <br>cassava starch<br>salt <br>yeast<br>natural annatto coloring<br>carrageenan gum<br>lactic acid<br>tricalcium phosphatxanthan gum\"],[\"cashews water<br>cashews<br>sunflower oil<br>potato starch<br>coconut oil <br>cassava starch<br>salt <br>yeast<br>carrageenan gum<br>lactic acid<br>tricalcium phosphate<br>xanthan gum <br>natural annatto coloring.\"],[\"cashews water<br>cashews<br>sunflower oil<br>potato starch<br>coconut oil <br>cassava starch<br>salt <br>carrageenan gum<br>lactic acid<br>tricalcium phosphate<br>xanthan gum<br>natural cheese aroma <br>natural annatto coloring\"]],\"hovertemplate\":\"<b>%{hovertext}</b><br><br>Classification (Label)=DAIRY 3<br>Ingredients=%{customdata[0]}<extra></extra>\",\"hovertext\":[\"Queijo Mu\\u00e7arela Vegabom\",\"Queijo Picante Vegabom\",\"Queijo Cheddar Vegabom\",\"Requeisoy Provolone \",\"Requeisoy Cheddar' \",\"Requeisoy Tradicional\",\"Requeisoy Gorgonzola\",\"Okeijo R\\u00fastico\",\"Okeijo Cremoso\",\"Okeijo Gratinado\",\"Okeijo Mussarela\",\"Okeijo Provolone\",\"Creme s Vida Veg\",\"Creme s fine herbs e Pesto\",\"Queijo mu\\u00e7arela\",\"Queijo minas frescal\",\"Queijo minas padr\\u00e3o\",\"Requeij\\u00e3o Tradicional\",\"Requeij\\u00e3o fine herbs\",\"Requeij\\u00e3o Defumado\",\"Queijo Zimurisku \",\"Queijo Zimurisku Temperado\",\"Queijo Mozarela NoMoo\",\"Queijo Provolone\",\"Queijo Ch\\u00e9vre\",\"Queijo Prato\",\"Queijo Parmes\\u00e3o\",\"Requeij\\u00e3o Nomoo\",\"Queijo Gorgolino\",\"Queijo Melhor Que Cheddar\",\"Queijo Recaishow\",\"Queijo Brie\",\"Mussarela Vegana Goshen\",\"Queijo ProVolone Veganita\",\"Queijo Munster Veganita\",\"Queijo Brie Veganita\",\"Queijo Mussarela Veganita\",\"Queijo Cheddar Veganita\",\"CREAM CHEESE CULIN\\u00c1RIO BASI.CO\",\"REQUEIJ\\u00c3O VEGETAL\",\"QUEIJO PARMES\\u00c3O\",\"QUEIJO MINAS VEGETAL\",\"QUEIJO PRATO\",\"QUEIJO MU\\u00c7ARELA\",\"QUEIJO CHEDDAR\"],\"legendgroup\":\"DAIRY 3\",\"marker\":{\"color\":\"#FF97FF\",\"symbol\":\"circle\",\"line\":{\"color\":\"DarkSlateGrey\",\"width\":1},\"size\":9},\"mode\":\"markers\",\"name\":\"DAIRY 3\",\"orientation\":\"v\",\"showlegend\":true,\"x\":[-22.91353988647461,-23.962862014770508,-22.91069984436035,5.554226398468018,5.841485500335693,5.510149955749512,5.735039710998535,-25.570302963256836,-22.068147659301758,-27.925329208374023,-29.93750762939453,-29.47534942626953,-33.289974212646484,-33.13615798950195,-30.998188018798828,-32.181495666503906,-30.624135971069336,-32.63288497924805,-32.29972457885742,-32.50473403930664,-44.6707878112793,-41.74103927612305,-43.192893981933594,-43.419769287109375,-39.18462371826172,-43.28886795043945,-40.39634704589844,-40.26081466674805,-37.507957458496094,-33.99717712402344,-35.95172119140625,-37.288326263427734,-24.838153839111328,-43.39133071899414,-44.06045150756836,-43.39826583862305,-43.505977630615234,-43.25790023803711,-33.083003997802734,-28.306133270263672,-30.439483642578125,-33.49979019165039,-31.227542877197266,-31.164445877075195,-31.237590789794922],\"xaxis\":\"x\",\"y\":[0.7038966417312622,1.1331467628479004,0.8884168863296509,-12.973109245300293,-13.17376708984375,-13.067304611206055,-12.75841999053955,-2.968689203262329,-1.6554335355758667,-0.5427463054656982,0.9202557802200317,0.14910154044628143,9.912676811218262,9.332062721252441,8.465446472167969,8.944266319274902,8.305886268615723,9.031211853027344,9.186429023742676,9.322196006774902,2.098942995071411,3.6412501335144043,11.204751968383789,11.360711097717285,6.898993492126465,11.511711120605469,7.434932231903076,8.344837188720703,6.506122589111328,-1.5706508159637451,6.41527795791626,6.637744903564453,-3.664536476135254,11.274066925048828,11.35472297668457,11.047865867614746,11.130881309509277,10.311405181884766,5.2071919441223145,-0.049444492906332016,3.6717731952667236,-0.3755978047847748,4.830834865570068,2.1489322185516357,3.0014355182647705],\"yaxis\":\"y\",\"type\":\"scatter\"},{\"customdata\":[[\"water<br>texturized pea protein<br>jackfruit<br>coconut fat<br>modified starch<br>onion<br>natural aroma<br>himalayan pink salt<br>EPA<br>DHA<br>garlic<br>paprika<br>antioxidant ascorbic acid.\"],[\"potato<br>water<br>tomato<br>jackfruit<br>onion<br>texturized pea protein<br>olive oil<br>yellow bell pepper<br>red bell pepper<br>garlic<br>metyhlcellulose<br>modified starch<br>green olives<br>black olives<br>salt<br>himalayan pink salt<br>epa<br>dha<br>ascorbic acid\"],[\"isolated soy protein<br>soy isolated fiber<br>water<br>gluten<br>soy oil<br>potato starch<br>sugar<br>salt<br>seaweed<br>spices<br>yeast extract<br>wheat flour.\"],[\"soy isolated fiber<br>isolated soy protein<br>water<br>soy oil<br>sugar<br>gluten<br>potato starch<br>salt<br>seaweed<br>spices<br>yeast extract.\"],[\"isolated soy protein<br>water<br>soy oil<br>sugar<br>gluten<br>salt<br>spices<br>yeast extract<br>xylose.\"],[\"water<br>pea protein<br>cottonseed oil<br>vegetal fat<br>gluten<br>salt<br>malt<br>onion<br>starch<br>sugar<br>iron<br>garlic<br>vitamin B12<br>methylcellulose thickener<br>natural aroma<br>antioxidant ascorbic acid<br>beet coloring. \"],[\"water<br>breadcrumbs<br>cottonseed oil<br>soy protein<br>vegetal fat<br>onion<br>gluten<br>cassava starch<br>rice flour<br>salt<br>corn flour<br>iron<br>folic acid<br>wheat flour<br>garlic<br>white pepper<br>black pepper<br>iron<br>vitamin B12<br>methylcellulose thickener<br>carrageenan thickener<br>natural aroma<br>flavor enhancer monosodium glutamate\"],[\"water<br>protein preparation<br>texturized soy protein<br>pea protein <br>chickpea flour<br>olive oil<br>radish powder<br>schizochytrium sp microalgae oil with DHA<br>sugar<br>onion<br>salt<br>natural aromatizer <br>ascorbic acid antioxidant.\"]],\"hovertemplate\":\"<b>%{hovertext}</b><br><br>Classification (Label)=FISH 1<br>Ingredients=%{customdata[0]}<extra></extra>\",\"hovertext\":[\"Fil\\u00e9 de saltm\\u00e3o New Butchers\",\"Bacalhau New  Butchers\",\"Isca de Peixe Vegway\",\"Fil\\u00e9 de Peixe Vegway\",\"Vieira de Soja Vegway\",\"Bacalhau Incr\\u00edvel Seara\",\"Iscas de Peixe Incr\\u00edvel Seara\",\"Atum do Futuro\"],\"legendgroup\":\"FISH 1\",\"marker\":{\"color\":\"#FECB52\",\"symbol\":\"circle\",\"line\":{\"color\":\"DarkSlateGrey\",\"width\":1},\"size\":9},\"mode\":\"markers\",\"name\":\"FISH 1\",\"orientation\":\"v\",\"showlegend\":true,\"x\":[36.970420837402344,32.53764343261719,49.09193420410156,49.15644073486328,47.332462310791016,47.925254821777344,40.818199157714844,31.1429443359375],\"xaxis\":\"x\",\"y\":[-1.0423400402069092,1.5914314985275269,40.56242752075195,41.12040328979492,40.07167053222656,-6.041134834289551,-1.1523821353912354,-2.0455355644226074],\"yaxis\":\"y\",\"type\":\"scatter\"},{\"customdata\":[[\"soy isolated fiber<br>isolated soy protein<br>water<br>sugar<br>soy oil<br>gluten<br>salt<br>yeast extract<br>potato starch<br>spices natural.\"],[\"water<br>potato starch<br>taro starch<br>corn starch<br>cassava starch<br>modified cassava starch<br>citric acid<br>sodium propionate<br>sunflower oil\"],[\"texturized soy protein<br>soy protein isolate<br>cassava starch<br>wheat gluten<br>carrageenan<br>water<br>soy oil<br>salt<br>soy sauce<br>sorbitol<br>paprika<br>ponceau coloring<br>konjac<br>aroma <br>natural spices.\"],[\"texturized soy protein<br>soy extract<br>cassava starch<br>corn starch<br>wheat flour<br>wheat gluten<br>water<br>soy oil<br>salt<br>sugar<br>humectant sorbitol<br>soy sauce<br>natural aromatizer smoked ham aroma.\"],[\"texturized soy protein<br>soy protein isolate<br>cassava starch<br>wheat gluten<br>carrageenan<br>water<br>soy oil<br>salt<br>soy sauce<br>sorbitol<br>phosphate<br>ponceau coloring<br>aroma <br>natural spices.\"],[\"soy protein mix<br>pea <br>chickpea<br>vegetable oil<br>vegetal fiber<br>salt<br>yeast extract<br>sugar<br>malt extract<br>natural smoke aromatizertizer<br>antioxidant ascorbic acid.\"]],\"hovertemplate\":\"<b>%{hovertext}</b><br><br>Classification (Label)=PORK 2<br>Ingredients=%{customdata[0]}<extra></extra>\",\"hovertext\":[\"Presunto de Soja Vegway\",\"Bacon Vegano\",\"Mortadela de Soja Vegana Goshen\",\"Presunto de Soja Defumado\",\"Presunto de Soja Vegano Fatiado Goshen\",\"Bacon Crispy Verdali\"],\"legendgroup\":\"PORK 2\",\"marker\":{\"color\":\"rgb(127, 60, 141)\",\"symbol\":\"circle\",\"line\":{\"color\":\"DarkSlateGrey\",\"width\":1},\"size\":9},\"mode\":\"markers\",\"name\":\"PORK 2\",\"orientation\":\"v\",\"showlegend\":true,\"x\":[49.47939682006836,-22.8244686126709,33.33345031738281,34.180538177490234,33.51219940185547,37.97674560546875],\"xaxis\":\"x\",\"y\":[42.33584976196289,-0.10572949796915054,25.462169647216797,22.398059844970703,25.292879104614258,5.967453956604004],\"yaxis\":\"y\",\"type\":\"scatter\"},{\"customdata\":[[\"water<br>pea protein<br>coconut oil<br>sugar<br>chicory fiber<br>pineapple<br>sunflower oil<br>natural aroma<br>salt<br>cabbage<br>vitamin D2<br>vitamin B12<br>dipotassium phosphate<br>calcium phosphate<br>arabic gum<br>gellan gum<br>EDTA.\"],[\"water<br>pea protein<br>sugar<br>chicory fiber<br>pineapple<br>coconut oil<br>sunflower oil<br>natural aroma<br>salt<br>cabbage<br>vitamin D2<br>vitamin B12<br>dipotassium phosphate<br>calcium phosphate<br>arabic gum<br>gellan gum<br>EDTA.\"],[\"water<br>almonds<br>coconut cream<br>pea protein<br>minerals<br>tricalcium phosphate<br>guar gum<br>gellan gum<br>polyphosphates<br>sunflower lecithin<br>vitamin B6<br>vitamin D2 vitamin B12<br>natural aroma<br>stevia.\"],[\"water<br>coconut cream<br>pea protein<br>minerals<br>tricalcium phosphate<br>guar gum<br>gellan gum<br>polyphosphates<br>sunflower lecithin<br>vitamin B6<br>vitamin D2<br>vitamin B12<br>natural aroma<br>stevia.\"],[\"water<br>almonds<br>coconut cream<br>pea protein<br>minerals<br>tricalcium phosphate<br>vitamin B6<br>vitamin B12<br>guar gum<br>gellan gum<br>sunflower lecithin<br>natural aroma<br>stevia.\"],[\"water<br>cashews<br>minerals<br>tricalcium phosphate<br>vitamin B6<br>vitamin B12<br>guar gum<br>gellan gum<br>sunflower lecithin<br>natural aroma<br>stevia.\"],[\"water<br>coconut cream<br>pea protein<br>minerals<br>tricalcium phosphate<br>vitamin B6<br>vitamin B12<br>guar gum<br>gellan gum<br>sunflower lecithin<br>natural aroma<br>stevia.\"],[\"water<br>oat<br>sunflower oil <br>tricalcium phosphate<br>salt .\"],[\"water<br>oat<br>sunflower oil <br>tricalcium phosphate<br>dipotassium phosphate<br>dicalcium phosphate<br>calcium carbonate <br>salt .\"],[\"rice <br>calcium<br>inulin<br>sunflower oil<br>salt<br>natural aroma<br>xanthan gum\"],[\"water<br>rice<br>sunflower oil <br>almonds<br>salt\"],[\"rice <br>calcium<br>sunflower oil <br>salt<br>natural aroma<br>xanthan gum.\"],[\"water<br>oat<br>sunflower oil<br>calcium <br>salt\"],[\"rice <br>calcium<br>inulin<br>sunflower oil <br>salt<br>natural aroma<br>xanthan gum\"],[\"rice <br>oat fiber<br>oat<br>calcium<br>sunflower oil <br>salt<br>natural aroma <br>xanthan gum.\"],[\"water<br>rice<br>soluble fiber<br>sunflower oil<br>calcium<br>salt<br>vitamin D<br>gellan gum<br>soy lecithin\"],[\"water<br>pea isolated protein<br>demerara sugar<br>sunflower oil<br>vitamins \"],[\"water<br>rice<br>soluble fiber polidextrose<br>sunflower oil<br>powdered almonds<br>calcium tricalcium phosphate<br>salt<br>vitamin D colecalciferol<br>gellan gum<br>soy lecithin.\\u00a0\"],[\"water<br>rice<br>soluble fiber polidextrose<br>powdered coconut<br>sunflower oil<br>calcium tricalcium phosphate<br>salt<br>vitamin D colecalciferol<br>gellan gum<br>soy lecithin\"],[\"water<br>oat <br>soluble fiber<br>sunflower oil<br>calcium<br>salt<br>vitamin D<br>gellan gum<br>soy lecithin.\"],[\"water<br>oat <br>demerara sugar<br>soluble fiber<br>powdered coconut<br>calcium<br>salt<br>vitamin D<br>gellan gum\"],[\"rice flour <br>oat flour<br>pea protein<br>polidextrose<br>demerara sugar<br>soy lecithin<br>dipotassium phosphate.\\u00a0\"],[\"rice flour <br>oat flour<br>pea protein<br>polidextrose<br>demerara sugar<br>soy lecithin<br>dipotassium phosphate.\\u00a0\"],[\"rice flour <br>oat flour<br>pea protein<br>polidextrose<br>demerara sugar<br>soy lecithin<br>dipotassium phosphate.\\u00a0\"],[\"water<br>oat<br>canola oil<br>dipotassium phosphate<br>calcium carbonate<br>salt<br>vitamin D2<br>vitamin B2<br>vitamin B12\"],[\"water<br>oat<br>salt \"],[\"water<br>oat<br>vanilla extract <br>salt \"],[\"water<br>oat<br>cocoa <br>salt \"],[\"water<br>oat<br>calcium carbonate<br>salt \"],[\"water<br>oat<br>canola oil<br>dipotassium phosphate<br>calcium carbonate<br>salt<br>vitamin D2<br>vitamin B2 <br>vitamin B12\"],[\"almonds <br>sugar<br>calcium carbonate<br>salt <br>vitamin A<br>vitamin D<br>vitamin E<br>potassium citrate<br>gellan gum <br>tara gum<br>sunflower lecithin\"],[\"almonds <br>powdered coconut<br>sugar<br>calcium carbonate<br>salt <br>vitamin A<br>vitamin D <br>vitamin E<br>potassium citrate<br>gellan gum <br>tara gum<br>sunflower lecithin.\"],[\"almonds <br>sugar<br>calcium carbonate<br>salt <br>vitamin A<br>vitamin D<br>vitamin E<br>potassium citrate<br>gellan gum <br>tara gum <br>sunflower lecithin.\"],[\"almonds <br>calcium carbonate<br>salt <br>vitamin A<br>vitamin D<br>vitamin E<br>potassium citrate<br>tara gum <br>gellan gum<br>sunflower lecithin \"],[\"almonds <br>sugar<br>powdered coconut<br>calcium carbonate<br>salt <br>vitamin A<br>vitamin D<br>vitamin E<br>potassium citrate<br>gellan gum <br>tara gum <br>sunflower lecithin.\"],[\"almonds <br>powdered coconut<br>calcium carbonate<br>salt <br>vitamin A<br>vitamin D<br>vitamin E<br>potassium citrate<br>tara gum<br>gellan gum<br>sunflower lecithin.\"],[\"water<br>sugar<br>almonds<br>calcium carbonate<br>carob gum<br>gellan gum <br>sunflower lecithin.\"],[\"water<br>sugar<br>almonds<br>calcium carbonate<br>carob gum <br>gellan gum <br>sunflower lecithin.\"],[\"water<br>cashews<br>sugar<br>calcium carbonate<br>carob gum <br>gellan gum<br>sunflower lecithin\"],[\"water<br>sugar<br>almonds<br>cocoa<br>calcium carbonate<br>carob gum <br>gellan gum<br>ascorbic acid<br>sunflower lecithin\"],[\"water<br>almonds <br>sugar<br>calcium carbonate<br>carob gum <br>gellan gum<br>sunflower lecithin\"],[\"water<br>rice<br>sunflower oil<br>calcium carbonate <br>salt  <br>tricalcium phosphate <br>sodium citrate.\\n\"],[\"water<br>rice<br>sunflower oil<br>almonds<br>natural aroma<br>salt <br>xanthan gum<br>tricalcium phosphate <br>sodium citrate.\\n\"],[\"water<br>rice<br>sunflower oil<br>peanuts<br>natural cheese aroma<br>salt <br>xanthan gum<br>tricalcium phosphatsodium citrate.\\n\"],[\"water<br>rice<br>sunflower oil<br>cashews<br>natural cheese aroma<br>salt <br>emulsifier xanthan gum<br>tricalcium phosphatsodium citrate.\\n\"],[\"water<br>rice<br>sunflower oil<br>powdered coconut<br>salt<br>xanthan gum<br>tricalcium phosphate<br>sodium citrate stevia\\n\"],[\"water<br>rice<br>sunflower oil<br>grated coconut<br>water<br>salt  <br>tricalcium phosphate <br>sodium citrate.\\n\"],[\"water<br>rice<br>sunflower oil<br>salt <br>natural cheese aroma<br>tricalcium phosphate <br>sodium citrate.\\n\"],[\"rice <br>polidextrose <br>calcium carbonate <br>salt\\n\"],[\"rice <br>polidextrose <br>calcium carbonate <br>salt \\n\"],[\"rice <br>inulin<br>banana pulp<br>calcium carbonate <br>salt <br>xanthan gum<br>stevia\\n\"],[\"rice <br>powdered coconut<br>inulin<br>calcium carbonate <br>salt <br>xanthan gum<br>stevia\\n\"],[\"rice <br>inulin<br>strawberries<br>calcium carbonate <br>salt <br>xanthan gum<br>beet natural coloring <br>stevia.\\n\"],[\"water<br>oat<br>cashews<br>salt  <br>natural aroma.\"],[\"water<br>cashews\"],[\"water<br>cashews <br>coconut\"],[\"water <br>almonds\"],[\"water<br>cashews <br>demerara sugar  <br>cocoa\"],[\"water<br>oatflour<br>calcium carbonate<br>salt \"],[\"water<br>cashews<br>pea protein<br>brazil nuts <br>tricalcium phosphate \"],[\"water<br>cashews <br>brazil nuts\"],[\"water<br>peanuts <br>cashews\"],[\"water<br>oatflour<br>coconut cream<br>calcium tricalcium phosphate<br>gellan gum<br>guar gum<br>vitamin D<br>vitamin E<br>vitamin B12\"],[\"water<br>almonds<br>calcium tricalcium phosphate<br>gellan gum<br>guar gum<br>vitamin D<br>vitamin E<br>vitamin B12\"],[\"water<br>oat<br>calcium tricalcium phosphate<br>natural aroma<br>gellan gum<br>guar gum<br>vitamin D<br>vitamin E<br>vitamin B12.\"],[\"water<br>macadamia nuts<br>almonds <br>cashews\"],[\"water<br>macadamia nuts <br>coconut\"],[\"water<br>macadamia nuts <br>cashews\"],[\"water<br>demerara sugar<br>cashews<br>calcium carbonate<br>salt <br>guar gum <br>natural aroma\"],[\"water<br>demerara sugar <br>cashews<br>cocoa<br>calcium carbonate<br>salt <br>guar gum <br>natural aroma\"],[\"cashews <br>calcium tricalcium phosphate<br>salt <br>vitamin A retinyl palmitate<br>vitamin D2 ergocalciferol<br>natural gellan gum <br>sunflower lecithin.\"],[\"almonds <br>calcium tricalcium phosphate<br>salt <br>vitamin A retinyl palmitate<br>vitamin D2 ergocalciferol<br>natural gellan gum <br>sunflower lecithin.\"],[\"water<br>rice<br>sunflower oil<br>calcium tricalcium phosphate<br>salt <br>vitamin A retinyl palmitate<br>vitamin D2 ergocalciferol<br>natural gellan gum \"],[\"water<br>oat<br>sunflower oil<br>calcium tricalcium phosphate<br>salt <br>vitamin A retinyl palmitate<br>vitamin D2 ergocalciferol<br>natural gellan gum \"],[\"water<br>rice<br>demerara sugar<br>powdered coconut<br>sunflower oil<br>calcium tricalcium phosphate<br>salt <br>vitamin A retinyl palmitate<br>vitamin D2 ergocalciferol<br>natural gellan gum\"],[\"water<br>rice<br>powdered coconut<br>sunflower oil<br>calcium tricalcium phosphate<br>salt <br>vitamin A retinyl palmitate<br>vitamin D2 ergocalciferol<br>natural gellan gum.\"],[\"water<br>soy extract<br>sugar<br>calcium tricalcium phosphate<br>sodium chloride<br>salt<br>carrageenan gum <br>carboxymethylcellulose sodium citrate.\"],[\"water<br>peanuts <br>cashews\"],[\"water\\u00a0<br>cashews\"],[\"water\\u00a0<br>cashews\"]],\"hovertemplate\":\"<b>%{hovertext}</b><br><br>Classification (Label)=DAIRY 1<br>Ingredients=%{customdata[0]}<extra></extra>\",\"hovertext\":[\"Not Milk \",\"Not Milk Semidesnatado\",\" Vegetal de almonds\",\" vegetal \",\" Vegetal de almonds Fresco\",\" Vegetal  de Caj\\u00fa Fresco\",\" Vegetal  Fresco\",\" Vegetal Noats Original\",\" Vegetal Noats Barista\",\" Jasmine rice powder\",\" BIOV jasmine rice com amendoas\",\" BIOV jasmine rice com coco\",\" BioV oats Jasmine\",\" Jasmine rice \",\" Jasmine rice com oats\",\"Bebida de rice Nesfit\",\"Bebida Natural Nesfit\",\"Bebida de rice  e Amendoas Nesfit\",\"Bebida de rice e Coco Nesfit\",\"Bebida de oats Nesfit\",\"Bebida de oats e cocoa\",\"Molico Vegetal Nestl\\u00e9\",\"Ninho Vegetal Nestl\\u00e9\",\"Ninho Banana e apple Nestl\\u00e9\",\"Nude Edi\\u00e7\\u00e3o Barista\",\"Nude Original \",\"Nude Sabor Baunilha\",\"Nude de cocoa\",\"Nude + calcium\",\"Nude Barista\",\"Almond Breeze Original\",\"Almond Breeze Chocolate\",\"Almond Breeze Baunilha\",\"Almond Breeze Sem sugar\",\"Almond Breeze Amendoas com Coco\",\"Almond Breeze Chocolate Sem sugar\",\" de Amendoas Silk Sem sugar\",\" de Amendoas Silk \",\" cashews Silk\",\" de almonds e cocoa Silk\",\" de almonds Silk Coco\",\"Bebida de rice L\\u00edquida Sabor Original\",\"Bebida de rice L\\u00edquida Sabor almonds\",\"Bebida de rice L\\u00edquida Sabor peanuts\\n\",\"Bebida de rice L\\u00edquida Sabor cashews\",\"Bebida de rice L\\u00edquida Sabor Chocolate\",\"Bebida de rice L\\u00edquida Sabor Coco\",\"Bebida de rice L\\u00edquida Sabor Baunilha\",\"Bebida de rice powder Sabor Original\",\"Bebida de rice powder Sabor Original\",\"Bebida de rice powder Sabor Banana e apple\",\"Bebida de rice powder Sabor Chocolate\",\"Bebida de rice powder Sabor strawberries\",\" a tal da castanha barista\",\" a tal da castanha original\",\" a tal da castanha caju + Coco\",\" a tal da castanha almonds\",\" a tal da castanha castanha + cocoa\",\" a tal da castanha oats\",\" a tal da castanha mixed nuts\",\" a tal da castanha caju + Par\\u00e1\",\" a tal da castanha caju + peanuts\",\" Natuterra oats + Coco\",\" de almonds Natuterra\",\" Natuterra oats \",\" Vegetal 3 Nuts \\u2013 macadamia nuts, almonds e cashews\",\" Vegetal de macadamia nuts e Coco\",\" Vegetal de macadamia nuts e cashews\",\" Vegetal Possible Foods\",\" Vegetal Possible Foods Chocolate\",\"Bebida de castanh de caj\\u00fa sem adi\\u00e7\\u00e3o de sugar nature's heart\",\"Bebida de almonds s/ adi\\u00e7\\u00e3o de sugares 1L \\u2013 Nature\\u2019s Heart\",\"Bebida de rice s/ adi\\u00e7\\u00e3o de sugares 1L \\u2013 Nature\\u2019s Heart\",\"Bebida de oats s/ adi\\u00e7\\u00e3o de sugares 1L \\u2013 Nature\\u2019s Heart\",\"Bebida de cocoa & rice 1L \\u2013 Nature\\u2019s Heart\",\"Bebida  & rice s/ adi\\u00e7\\u00e3o de sugares 1L \\u2013 Nature\\u2019s Heart\",\" Vegetal de soy Naturis Batavo\",\" DUOLAT peanuts E CASTANHA 1L - CAJUEIRO\",\" 85 CASTANHAS 1L - CAJUEIRO\",\" TOASTED 1L - CAJUEIRO\"],\"legendgroup\":\"DAIRY 1\",\"marker\":{\"color\":\"rgb(17, 165, 121)\",\"symbol\":\"circle\",\"line\":{\"color\":\"DarkSlateGrey\",\"width\":1},\"size\":9},\"mode\":\"markers\",\"name\":\"DAIRY 1\",\"orientation\":\"v\",\"showlegend\":true,\"x\":[-21.018272399902344,-19.39426612854004,-8.196167945861816,-7.191622257232666,-7.636357307434082,-11.65764331817627,-7.488730430603027,-27.404415130615234,-27.27790069580078,-23.483169555664062,-25.663625717163086,-23.608064651489258,-27.760772705078125,-23.499744415283203,-23.779098510742188,-22.10056495666504,-24.185745239257812,-22.937543869018555,-22.83357048034668,-21.805288314819336,-22.143892288208008,-19.716203689575195,-19.62896156311035,-19.61089515686035,-25.509206771850586,-27.86420249938965,-27.758790969848633,-27.8846435546875,-27.094240188598633,-25.524194717407227,-22.077524185180664,-21.8712158203125,-22.422643661499023,-22.330291748046875,-21.991779327392578,-22.129159927368164,-26.243305206298828,-25.230600357055664,-25.548917770385742,-25.671918869018555,-26.236665725708008,-25.15853500366211,-25.025997161865234,-24.626197814941406,-25.822233200073242,-25.282777786254883,-26.10577392578125,-25.77366065979004,-21.965242385864258,-22.270456314086914,-22.879697799682617,-22.250272750854492,-21.772022247314453,-31.30110740661621,-61.09434509277344,-62.039859771728516,-49.24808120727539,-55.373382568359375,-26.151674270629883,-55.99220275878906,-59.68748474121094,-60.427738189697266,-16.531402587890625,-20.590595245361328,-19.9272518157959,-58.17388153076172,-56.932437896728516,-60.639930725097656,-24.797344207763672,-26.045291900634766,-25.00617790222168,-24.54438591003418,-24.300506591796875,-24.235595703125,-23.51791000366211,-24.186838150024414,-21.861997604370117,-60.499359130859375,-59.999855041503906,-60.46430587768555],\"xaxis\":\"x\",\"y\":[-14.4008207321167,-16.15032386779785,-22.830276489257812,-23.12651252746582,-23.067195892333984,-22.668241500854492,-22.947919845581055,-6.899251937866211,-8.290761947631836,-5.703033924102783,-6.8817925453186035,-5.774934768676758,-8.010200500488281,-5.564619541168213,-5.999923229217529,-14.094733238220215,-9.260531425476074,-14.43336009979248,-14.20794677734375,-14.882508277893066,-15.242036819458008,-4.508450031280518,-3.22458553314209,-3.443098783493042,-11.050646781921387,-8.135910034179688,-8.665735244750977,-8.339401245117188,-8.319604873657227,-10.963895797729492,-23.22846794128418,-22.92112159729004,-22.807828903198242,-22.140560150146484,-22.605016708374023,-22.049497604370117,-26.63080406188965,-26.092615127563477,-26.75217056274414,-27.877166748046875,-26.797819137573242,-5.974129676818848,-5.7842793464660645,-5.375117778778076,-6.221837043762207,-5.987112998962402,-6.125661849975586,-6.173283100128174,-4.528532028198242,-4.508413314819336,-4.866515636444092,-4.528243541717529,-4.505274295806885,-7.286452293395996,-10.626493453979492,-11.14394760131836,-13.16547966003418,-10.247344970703125,-8.857741355895996,-10.227766036987305,-10.209919929504395,-10.494187355041504,-20.08128547668457,-20.19843864440918,-18.012184143066406,-11.669774055480957,-10.726648330688477,-11.261945724487305,-11.481009483337402,-10.48742961883545,-14.047188758850098,-14.56510066986084,-13.261938095092773,-12.891151428222656,-13.518634796142578,-12.8897123336792,-13.318472862243652,-10.874786376953125,-10.377204895019531,-10.805974006652832],\"yaxis\":\"y\",\"type\":\"scatter\"},{\"customdata\":[[\"water<br>coconut cream<br>sugar<br>modified starch<br>soluble fiber<br>tricalcium phosphate<br>xanthan gum<br>natural aroma<br>potassium sorbate.\"],[\"water<br>coconut cream<br>sugar<br>water<br>strawberries<br>maltodextrin<br>modified starch<br>annatto natural coloring<br>xanthan gum<br>potassium sorbate<br>lactic acid<br>modified starch<br>soluble fiber<br>tricalcium phosphate<br>xanthan gum<br>potassium sorbate.\"],[\"water<br>coconut cream<br>sugar<br>banana<br>papaya<br>apple<br>maltodextrin<br>modified starch<br>annatto natural coloring<br>lactic acid<br>potassium sorbate<br>soluble fiber<br>tricalcium phosphate<br>xanthan gum\"],[\"water<br>coconut cream<br>modified starch<br>soluble fiber<br>tricalcium phosphate <br>xanthan gum<br>natural aroma<br>potassium sorbate<br>stevia.\"],[\"water<br>coconut cream<br>water<br>strawberries<br>maltodextrin<br>modified starch<br>annatto natural coloring<br><br>xanthan gum<br>potassium sorbate<br>lactic acid<br>modified starch<br>soluble fiber<br>tricalcium phosphate<br>xanthan gum<br>potassium sorbate<br>stevia.\"],[\"water<br>coconut cream<br>sugar<br>modified starch<br>pectin<br>potassium sorbate\"],[\"water<br>coconut cream<br>sugar<br>strawberries<br>modified starch<br>pectin<br>apple juice<br>grape juice<br>beet coloring<br>potassium sorbate\"],[\"water<br>coconut cream<br>pea protein<br>soy protein<br>sugar<br>strawberries<br>beet natural coloring<br>pectin<br>citric acid<br>natural aroma<br>potassium sorbate<br>soluble fiber<br>tricalcium phosphate <br>sunflower lecithin<br>natural aroma<br>potassium sorbate<br>stevia\"],[\"water<br>coconut cream<br>pea protein<br>sugar<br>cocoa<br>guar gum<br>gellan gum<br>polyphosphates<br>sunflower lecithin<br>natural aroma<br>stevia.\"],[\"water<br>coconut cream<br>pea protein<br>soy protein<br>sugar<br>peanuts<br>natural cheese aroma<br>caramel coloring<br>pectin<br>citric acid<br>potassium sorbate<br>soluble fiber<br>tricalcium phosphate<br>sunflower lecithin<br>natural aroma<br>potassium sorbate<br>stevia \"],[\"almonds <br>palm oil<br>starch<br>carrageenan gum<br>potassium citrate<br>tara gum<br>tripotassium phosphate sunflower lecithin.\"]],\"hovertemplate\":\"<b>%{hovertext}</b><br><br>Classification (Label)=DAIRY 2<br>Ingredients=%{customdata[0]}<extra></extra>\",\"hovertext\":[\"Iogurte \",\"Iogurte  com strawberries\",\"Iogurte  com banana, apple e papaya\",\"Iogurte  Zero sugar\",\"Iogurte  com strawberries Zero sugar\",\"Iogurte GregoVeg \",\"Iogurte GregoVeg  com strawberries\",\"Iogurte Proteico 14g sabor strawberries\",\"Shake \",\"Iogurte Proteico 14g sabor  peanuts\",\"Creme de almonds\"],\"legendgroup\":\"DAIRY 2\",\"marker\":{\"color\":\"rgb(57, 105, 172)\",\"symbol\":\"circle\",\"line\":{\"color\":\"DarkSlateGrey\",\"width\":1},\"size\":9},\"mode\":\"markers\",\"name\":\"DAIRY 2\",\"orientation\":\"v\",\"showlegend\":true,\"x\":[-1.9500540494918823,-2.4487242698669434,-1.9888805150985718,-3.8345656394958496,-2.7642621994018555,-6.58035135269165,-3.53592848777771,-5.0387115478515625,-9.170323371887207,-4.626776695251465,-18.886796951293945],\"xaxis\":\"x\",\"y\":[-18.237707138061523,-18.034061431884766,-18.202022552490234,-18.468791961669922,-18.166873931884766,-14.486146926879883,-18.280139923095703,-20.582271575927734,-21.98456382751465,-20.324609756469727,-5.106205463409424],\"yaxis\":\"y\",\"type\":\"scatter\"},{\"customdata\":[[\"water<br>vegetable oil<br>sugar<br>modified starch<br>salt<br>vinegar<br>soy extract<br>potassium sorbate<br>guar gum <br>xanthan gum<br>lactic acid <br>phosphoric acid<br>calcium disodium\"],[\"soy oil<br>modified starch<br>sugar<br>vinegar<br>salt<br>lactic acid<br>xanthan gum<br>potassium sorbate<br>calcium disodium\"],[\"vegetable oil<br>water<br>guar gum<br>aquafaba<br>corn starch<br>vinegar<br>demerara sugar<br>salt<br>spices <br>mustard <br>garlic<br>lime juice<br>xanthan gum<br>lactic acid<br>calcium disodium\"],[\"vegetable oil<br>water<br>aquafaba<br>vinegar<br>spices <br>garlic<br>pepper <br>mustard<br>demerara sugar<br>salt<br>mustard<br>corn starch<br>lime juice<br>lactic acid<br>calcium disodium\"],[\"vegetable oil<br>water<br>black olives<br>water<br>guar gum<br>aquafaba<br>corn starch<br>vinegar<br>demerara sugar<br>salt<br>spices <br>mustard <br>garlic<br>lime juice<br>xanthan gum<br>lactic acid<br>calcium disodium.\"],[\"vegetable oil<br>water<br>aquafaba<br>corn starch<br>demerara sugar<br>vinegar<br>salt<br>spices <br>mustard<br>garlic<br>red pepper <br>white pepper<br>lime juice<br>lactic acid<br>xanthan gum<br><br>calcium disodium.\"],[\"water<br>canola oil<br>vinegar<br>starch<br>pea protein<br>sugar<br>salt<br>mustard<br>lactic acid<br>lime juice<br>natural aroma<br>garlic<br>onion<br>potassium sorbate disodium calcium.\\u00a0\"],[\"water<br>canola oil<br>vinegar<br>starch<br>pea protein<br>sugar<br>salt<br>mustard<br>pepper<br>lactic acid<br>lime juice<br>natural aroma<br>garlic<br>onion<br>potassium sorbate disodium calcium.\\u00a0\"],[\"water<br>canola oil<br>vinegar<br>starch<br>pea protein<br>sugar<br>salt<br>mustard<br>natural aroma<br>lactic acid<br>lime juice<br>garlic<br>onion<br>potassium sorbate disodium calcium.\\u00a0\"],[\"water<br>canola oil<br>vinegar<br>avocado<br>starch<br>pea protein<br>sugar<br>salt<br>mustard<br>lactic acid<br>lime juice<br>natural aroma<br>garlic<br>onion<br>potassium sorbate disodium calcium.\\u00a0\"],[\"water<br>canola oil<br>vinegar<br>starch<br>pea protein<br>sugar<br>salt<br>mustard<br>lactic acid<br>lime juice<br>natural aroma<br>garlic<br>onion<br>potassium sorbate disodium calcium.\\u00a0\"],[\"water<br>vegetable oil<br>modified starch<br>vinegar<br>sugar<br>salt<br>potassium chloride<br>lime juice<br>xanthan gum<br>calcium disodium <br>citric acid\"],[\"soy oil<br>modified starch<br>sugar<br>vinegar<br>salt<br>isolated vegetable protein<br>hydrolyzed vegetable protein<br>xanthan gum<br>citric acid<br>lactic acid<br>potassium sorbate<br>onion<br>garlic<br>lime juice<br>calcium disodium\"],[\"water<br>soy<br>sunflower oil<br>corn starch<br>salt<br>vinegar<br>potassium sorbate \"]],\"hovertemplate\":\"<b>%{hovertext}</b><br><br>Classification (Label)=EGG 1<br>Ingredients=%{customdata[0]}<extra></extra>\",\"hovertext\":[\"MAIONESE VEGETAL SUPERBOM\",\"MAIONESE FUGINI\",\"NOT MAYO\",\"NOT MAYO garlic\",\"NOT MAYO AZEITONA\",\"NOT MAYO PICANTE\",\"MAIONESE V-MAYO\",\"MAIONESE V-MAYO ApepperDA\",\"MAIONESE V-MAYO TRUFADA\",\"MAIONESE V-MAYO DE ABACATE\",\"MAIONESE V-MAYO DE garlic\",\"MAIONESE HELLMANS\",\"MAIONESE VEGANA FUGINI\",\"MAIONESE DEL\\u00cdCIAS DE GOI\\u00c1S\"],\"legendgroup\":\"EGG 1\",\"marker\":{\"color\":\"rgb(242, 183, 1)\",\"symbol\":\"circle\",\"line\":{\"color\":\"DarkSlateGrey\",\"width\":1},\"size\":9},\"mode\":\"markers\",\"name\":\"EGG 1\",\"orientation\":\"v\",\"showlegend\":true,\"x\":[8.105928421020508,7.597675800323486,14.034566879272461,14.566925048828125,13.926115036010742,13.599474906921387,21.329082489013672,21.198444366455078,22.05234718322754,22.00385856628418,22.31967544555664,10.118416786193848,12.461152076721191,-24.74712562561035],\"xaxis\":\"x\",\"y\":[-12.164694786071777,-11.78504467010498,-8.511597633361816,-8.528630256652832,-8.396661758422852,-8.741369247436523,-9.089672088623047,-8.737531661987305,-8.691368103027344,-8.560375213623047,-8.83834171295166,-10.74659252166748,-10.391646385192871,-3.607908248901367],\"yaxis\":\"y\",\"type\":\"scatter\"},{\"customdata\":[[\"pea starch<br>pea protein <br>sodium bicarbonate\"],[\"isolated rice protein<br>chickpea <br>golden flaxseed\"]],\"hovertemplate\":\"<b>%{hovertext}</b><br><br>Classification (Label)=EGG 2<br>Ingredients=%{customdata[0]}<extra></extra>\",\"hovertext\":[\"Ovos Novos\",\"Ovos Novos\"],\"legendgroup\":\"EGG 2\",\"marker\":{\"color\":\"rgb(231, 63, 116)\",\"symbol\":\"circle\",\"line\":{\"color\":\"DarkSlateGrey\",\"width\":1},\"size\":9},\"mode\":\"markers\",\"name\":\"EGG 2\",\"orientation\":\"v\",\"showlegend\":true,\"x\":[-19.66607666015625,-20.890716552734375],\"xaxis\":\"x\",\"y\":[-2.8445611000061035,-2.9327635765075684],\"yaxis\":\"y\",\"type\":\"scatter\"}],                        {\"template\":{\"data\":{\"barpolar\":[{\"marker\":{\"line\":{\"color\":\"white\",\"width\":0.5},\"pattern\":{\"fillmode\":\"overlay\",\"size\":10,\"solidity\":0.2}},\"type\":\"barpolar\"}],\"bar\":[{\"error_x\":{\"color\":\"rgb(36,36,36)\"},\"error_y\":{\"color\":\"rgb(36,36,36)\"},\"marker\":{\"line\":{\"color\":\"white\",\"width\":0.5},\"pattern\":{\"fillmode\":\"overlay\",\"size\":10,\"solidity\":0.2}},\"type\":\"bar\"}],\"carpet\":[{\"aaxis\":{\"endlinecolor\":\"rgb(36,36,36)\",\"gridcolor\":\"white\",\"linecolor\":\"white\",\"minorgridcolor\":\"white\",\"startlinecolor\":\"rgb(36,36,36)\"},\"baxis\":{\"endlinecolor\":\"rgb(36,36,36)\",\"gridcolor\":\"white\",\"linecolor\":\"white\",\"minorgridcolor\":\"white\",\"startlinecolor\":\"rgb(36,36,36)\"},\"type\":\"carpet\"}],\"choropleth\":[{\"colorbar\":{\"outlinewidth\":1,\"tickcolor\":\"rgb(36,36,36)\",\"ticks\":\"outside\"},\"type\":\"choropleth\"}],\"contourcarpet\":[{\"colorbar\":{\"outlinewidth\":1,\"tickcolor\":\"rgb(36,36,36)\",\"ticks\":\"outside\"},\"type\":\"contourcarpet\"}],\"contour\":[{\"colorbar\":{\"outlinewidth\":1,\"tickcolor\":\"rgb(36,36,36)\",\"ticks\":\"outside\"},\"colorscale\":[[0.0,\"#440154\"],[0.1111111111111111,\"#482878\"],[0.2222222222222222,\"#3e4989\"],[0.3333333333333333,\"#31688e\"],[0.4444444444444444,\"#26828e\"],[0.5555555555555556,\"#1f9e89\"],[0.6666666666666666,\"#35b779\"],[0.7777777777777778,\"#6ece58\"],[0.8888888888888888,\"#b5de2b\"],[1.0,\"#fde725\"]],\"type\":\"contour\"}],\"heatmapgl\":[{\"colorbar\":{\"outlinewidth\":1,\"tickcolor\":\"rgb(36,36,36)\",\"ticks\":\"outside\"},\"colorscale\":[[0.0,\"#440154\"],[0.1111111111111111,\"#482878\"],[0.2222222222222222,\"#3e4989\"],[0.3333333333333333,\"#31688e\"],[0.4444444444444444,\"#26828e\"],[0.5555555555555556,\"#1f9e89\"],[0.6666666666666666,\"#35b779\"],[0.7777777777777778,\"#6ece58\"],[0.8888888888888888,\"#b5de2b\"],[1.0,\"#fde725\"]],\"type\":\"heatmapgl\"}],\"heatmap\":[{\"colorbar\":{\"outlinewidth\":1,\"tickcolor\":\"rgb(36,36,36)\",\"ticks\":\"outside\"},\"colorscale\":[[0.0,\"#440154\"],[0.1111111111111111,\"#482878\"],[0.2222222222222222,\"#3e4989\"],[0.3333333333333333,\"#31688e\"],[0.4444444444444444,\"#26828e\"],[0.5555555555555556,\"#1f9e89\"],[0.6666666666666666,\"#35b779\"],[0.7777777777777778,\"#6ece58\"],[0.8888888888888888,\"#b5de2b\"],[1.0,\"#fde725\"]],\"type\":\"heatmap\"}],\"histogram2dcontour\":[{\"colorbar\":{\"outlinewidth\":1,\"tickcolor\":\"rgb(36,36,36)\",\"ticks\":\"outside\"},\"colorscale\":[[0.0,\"#440154\"],[0.1111111111111111,\"#482878\"],[0.2222222222222222,\"#3e4989\"],[0.3333333333333333,\"#31688e\"],[0.4444444444444444,\"#26828e\"],[0.5555555555555556,\"#1f9e89\"],[0.6666666666666666,\"#35b779\"],[0.7777777777777778,\"#6ece58\"],[0.8888888888888888,\"#b5de2b\"],[1.0,\"#fde725\"]],\"type\":\"histogram2dcontour\"}],\"histogram2d\":[{\"colorbar\":{\"outlinewidth\":1,\"tickcolor\":\"rgb(36,36,36)\",\"ticks\":\"outside\"},\"colorscale\":[[0.0,\"#440154\"],[0.1111111111111111,\"#482878\"],[0.2222222222222222,\"#3e4989\"],[0.3333333333333333,\"#31688e\"],[0.4444444444444444,\"#26828e\"],[0.5555555555555556,\"#1f9e89\"],[0.6666666666666666,\"#35b779\"],[0.7777777777777778,\"#6ece58\"],[0.8888888888888888,\"#b5de2b\"],[1.0,\"#fde725\"]],\"type\":\"histogram2d\"}],\"histogram\":[{\"marker\":{\"line\":{\"color\":\"white\",\"width\":0.6}},\"type\":\"histogram\"}],\"mesh3d\":[{\"colorbar\":{\"outlinewidth\":1,\"tickcolor\":\"rgb(36,36,36)\",\"ticks\":\"outside\"},\"type\":\"mesh3d\"}],\"parcoords\":[{\"line\":{\"colorbar\":{\"outlinewidth\":1,\"tickcolor\":\"rgb(36,36,36)\",\"ticks\":\"outside\"}},\"type\":\"parcoords\"}],\"pie\":[{\"automargin\":true,\"type\":\"pie\"}],\"scatter3d\":[{\"line\":{\"colorbar\":{\"outlinewidth\":1,\"tickcolor\":\"rgb(36,36,36)\",\"ticks\":\"outside\"}},\"marker\":{\"colorbar\":{\"outlinewidth\":1,\"tickcolor\":\"rgb(36,36,36)\",\"ticks\":\"outside\"}},\"type\":\"scatter3d\"}],\"scattercarpet\":[{\"marker\":{\"colorbar\":{\"outlinewidth\":1,\"tickcolor\":\"rgb(36,36,36)\",\"ticks\":\"outside\"}},\"type\":\"scattercarpet\"}],\"scattergeo\":[{\"marker\":{\"colorbar\":{\"outlinewidth\":1,\"tickcolor\":\"rgb(36,36,36)\",\"ticks\":\"outside\"}},\"type\":\"scattergeo\"}],\"scattergl\":[{\"marker\":{\"colorbar\":{\"outlinewidth\":1,\"tickcolor\":\"rgb(36,36,36)\",\"ticks\":\"outside\"}},\"type\":\"scattergl\"}],\"scattermapbox\":[{\"marker\":{\"colorbar\":{\"outlinewidth\":1,\"tickcolor\":\"rgb(36,36,36)\",\"ticks\":\"outside\"}},\"type\":\"scattermapbox\"}],\"scatterpolargl\":[{\"marker\":{\"colorbar\":{\"outlinewidth\":1,\"tickcolor\":\"rgb(36,36,36)\",\"ticks\":\"outside\"}},\"type\":\"scatterpolargl\"}],\"scatterpolar\":[{\"marker\":{\"colorbar\":{\"outlinewidth\":1,\"tickcolor\":\"rgb(36,36,36)\",\"ticks\":\"outside\"}},\"type\":\"scatterpolar\"}],\"scatter\":[{\"marker\":{\"colorbar\":{\"outlinewidth\":1,\"tickcolor\":\"rgb(36,36,36)\",\"ticks\":\"outside\"}},\"type\":\"scatter\"}],\"scatterternary\":[{\"marker\":{\"colorbar\":{\"outlinewidth\":1,\"tickcolor\":\"rgb(36,36,36)\",\"ticks\":\"outside\"}},\"type\":\"scatterternary\"}],\"surface\":[{\"colorbar\":{\"outlinewidth\":1,\"tickcolor\":\"rgb(36,36,36)\",\"ticks\":\"outside\"},\"colorscale\":[[0.0,\"#440154\"],[0.1111111111111111,\"#482878\"],[0.2222222222222222,\"#3e4989\"],[0.3333333333333333,\"#31688e\"],[0.4444444444444444,\"#26828e\"],[0.5555555555555556,\"#1f9e89\"],[0.6666666666666666,\"#35b779\"],[0.7777777777777778,\"#6ece58\"],[0.8888888888888888,\"#b5de2b\"],[1.0,\"#fde725\"]],\"type\":\"surface\"}],\"table\":[{\"cells\":{\"fill\":{\"color\":\"rgb(237,237,237)\"},\"line\":{\"color\":\"white\"}},\"header\":{\"fill\":{\"color\":\"rgb(217,217,217)\"},\"line\":{\"color\":\"white\"}},\"type\":\"table\"}]},\"layout\":{\"annotationdefaults\":{\"arrowhead\":0,\"arrowwidth\":1},\"autotypenumbers\":\"strict\",\"coloraxis\":{\"colorbar\":{\"outlinewidth\":1,\"tickcolor\":\"rgb(36,36,36)\",\"ticks\":\"outside\"}},\"colorscale\":{\"diverging\":[[0.0,\"rgb(103,0,31)\"],[0.1,\"rgb(178,24,43)\"],[0.2,\"rgb(214,96,77)\"],[0.3,\"rgb(244,165,130)\"],[0.4,\"rgb(253,219,199)\"],[0.5,\"rgb(247,247,247)\"],[0.6,\"rgb(209,229,240)\"],[0.7,\"rgb(146,197,222)\"],[0.8,\"rgb(67,147,195)\"],[0.9,\"rgb(33,102,172)\"],[1.0,\"rgb(5,48,97)\"]],\"sequential\":[[0.0,\"#440154\"],[0.1111111111111111,\"#482878\"],[0.2222222222222222,\"#3e4989\"],[0.3333333333333333,\"#31688e\"],[0.4444444444444444,\"#26828e\"],[0.5555555555555556,\"#1f9e89\"],[0.6666666666666666,\"#35b779\"],[0.7777777777777778,\"#6ece58\"],[0.8888888888888888,\"#b5de2b\"],[1.0,\"#fde725\"]],\"sequentialminus\":[[0.0,\"#440154\"],[0.1111111111111111,\"#482878\"],[0.2222222222222222,\"#3e4989\"],[0.3333333333333333,\"#31688e\"],[0.4444444444444444,\"#26828e\"],[0.5555555555555556,\"#1f9e89\"],[0.6666666666666666,\"#35b779\"],[0.7777777777777778,\"#6ece58\"],[0.8888888888888888,\"#b5de2b\"],[1.0,\"#fde725\"]]},\"colorway\":[\"#1F77B4\",\"#FF7F0E\",\"#2CA02C\",\"#D62728\",\"#9467BD\",\"#8C564B\",\"#E377C2\",\"#7F7F7F\",\"#BCBD22\",\"#17BECF\"],\"font\":{\"color\":\"rgb(36,36,36)\"},\"geo\":{\"bgcolor\":\"white\",\"lakecolor\":\"white\",\"landcolor\":\"white\",\"showlakes\":true,\"showland\":true,\"subunitcolor\":\"white\"},\"hoverlabel\":{\"align\":\"left\"},\"hovermode\":\"closest\",\"mapbox\":{\"style\":\"light\"},\"paper_bgcolor\":\"white\",\"plot_bgcolor\":\"white\",\"polar\":{\"angularaxis\":{\"gridcolor\":\"rgb(232,232,232)\",\"linecolor\":\"rgb(36,36,36)\",\"showgrid\":false,\"showline\":true,\"ticks\":\"outside\"},\"bgcolor\":\"white\",\"radialaxis\":{\"gridcolor\":\"rgb(232,232,232)\",\"linecolor\":\"rgb(36,36,36)\",\"showgrid\":false,\"showline\":true,\"ticks\":\"outside\"}},\"scene\":{\"xaxis\":{\"backgroundcolor\":\"white\",\"gridcolor\":\"rgb(232,232,232)\",\"gridwidth\":2,\"linecolor\":\"rgb(36,36,36)\",\"showbackground\":true,\"showgrid\":false,\"showline\":true,\"ticks\":\"outside\",\"zeroline\":false,\"zerolinecolor\":\"rgb(36,36,36)\"},\"yaxis\":{\"backgroundcolor\":\"white\",\"gridcolor\":\"rgb(232,232,232)\",\"gridwidth\":2,\"linecolor\":\"rgb(36,36,36)\",\"showbackground\":true,\"showgrid\":false,\"showline\":true,\"ticks\":\"outside\",\"zeroline\":false,\"zerolinecolor\":\"rgb(36,36,36)\"},\"zaxis\":{\"backgroundcolor\":\"white\",\"gridcolor\":\"rgb(232,232,232)\",\"gridwidth\":2,\"linecolor\":\"rgb(36,36,36)\",\"showbackground\":true,\"showgrid\":false,\"showline\":true,\"ticks\":\"outside\",\"zeroline\":false,\"zerolinecolor\":\"rgb(36,36,36)\"}},\"shapedefaults\":{\"fillcolor\":\"black\",\"line\":{\"width\":0},\"opacity\":0.3},\"ternary\":{\"aaxis\":{\"gridcolor\":\"rgb(232,232,232)\",\"linecolor\":\"rgb(36,36,36)\",\"showgrid\":false,\"showline\":true,\"ticks\":\"outside\"},\"baxis\":{\"gridcolor\":\"rgb(232,232,232)\",\"linecolor\":\"rgb(36,36,36)\",\"showgrid\":false,\"showline\":true,\"ticks\":\"outside\"},\"bgcolor\":\"white\",\"caxis\":{\"gridcolor\":\"rgb(232,232,232)\",\"linecolor\":\"rgb(36,36,36)\",\"showgrid\":false,\"showline\":true,\"ticks\":\"outside\"}},\"title\":{\"x\":0.05},\"xaxis\":{\"automargin\":true,\"gridcolor\":\"rgb(232,232,232)\",\"linecolor\":\"rgb(36,36,36)\",\"showgrid\":false,\"showline\":true,\"ticks\":\"outside\",\"title\":{\"standoff\":15},\"zeroline\":false,\"zerolinecolor\":\"rgb(36,36,36)\"},\"yaxis\":{\"automargin\":true,\"gridcolor\":\"rgb(232,232,232)\",\"linecolor\":\"rgb(36,36,36)\",\"showgrid\":false,\"showline\":true,\"ticks\":\"outside\",\"title\":{\"standoff\":15},\"zeroline\":false,\"zerolinecolor\":\"rgb(36,36,36)\"}}},\"xaxis\":{\"anchor\":\"y\",\"domain\":[0.0,1.0],\"title\":{\"text\":\"x\"},\"visible\":false},\"yaxis\":{\"anchor\":\"x\",\"domain\":[0.0,1.0],\"title\":{\"text\":\"y\"},\"visible\":false},\"legend\":{\"title\":{\"text\":\"Classification (Label)\"},\"tracegroupgap\":0,\"font\":{\"size\":16}},\"margin\":{\"t\":0,\"l\":0,\"r\":0,\"b\":0},\"width\":800},                        {\"responsive\": true}                    ).then(function(){\n",
              "                            \n",
              "var gd = document.getElementById('b8e9daac-fab0-4d83-b38e-a165d64be8e2');\n",
              "var x = new MutationObserver(function (mutations, observer) {{\n",
              "        var display = window.getComputedStyle(gd).display;\n",
              "        if (!display || display === 'none') {{\n",
              "            console.log([gd, 'removed!']);\n",
              "            Plotly.purge(gd);\n",
              "            observer.disconnect();\n",
              "        }}\n",
              "}});\n",
              "\n",
              "// Listen for the removal of the full notebook cells\n",
              "var notebookContainer = gd.closest('#notebook-container');\n",
              "if (notebookContainer) {{\n",
              "    x.observe(notebookContainer, {childList: true});\n",
              "}}\n",
              "\n",
              "// Listen for the clearing of the current output cell\n",
              "var outputEl = gd.closest('.output');\n",
              "if (outputEl) {{\n",
              "    x.observe(outputEl, {childList: true});\n",
              "}}\n",
              "\n",
              "                        })                };                            </script>        </div>\n",
              "</body>\n",
              "</html>"
            ]
          },
          "metadata": {}
        }
      ]
    },
    {
      "cell_type": "markdown",
      "source": [
        "# Trustworthiness"
      ],
      "metadata": {
        "id": "R59Go1ZKswV3"
      }
    },
    {
      "cell_type": "markdown",
      "source": [
        "## Neighborhood Preservation"
      ],
      "metadata": {
        "id": "9Or5iDXuMDpu"
      }
    },
    {
      "cell_type": "markdown",
      "source": [
        "### Trustworthiness"
      ],
      "metadata": {
        "id": "vvf7VGzBOWDu"
      }
    },
    {
      "cell_type": "markdown",
      "source": [
        "All Data (Ingredients + Nutrients)"
      ],
      "metadata": {
        "id": "5ljaZO-_m7gY"
      }
    },
    {
      "cell_type": "code",
      "source": [
        "kneigh = []\n",
        "y_tsne = []\n",
        "y_umap = []\n",
        "y_pca = []\n",
        "y_trimap = []\n",
        "\n",
        "for k in range(1,51):\n",
        "  kneigh.append(k)\n",
        "\n",
        "  precision = trustworthiness(X, X_tsne, n_neighbors=k, metric='euclidean')\n",
        "  y_tsne.append(precision)\n",
        "\n",
        "  precision = trustworthiness(X, X_umap, n_neighbors=k, metric='euclidean')\n",
        "  y_umap.append(precision)\n",
        "\n",
        "  precision = trustworthiness(X, X_pca, n_neighbors=k, metric='euclidean')\n",
        "  y_pca.append(precision)\n",
        "\n",
        "  precision = trustworthiness(X, X_trimap, n_neighbors=k, metric='euclidean')\n",
        "  y_trimap.append(precision)"
      ],
      "metadata": {
        "id": "ibt-sLx1MBAS"
      },
      "execution_count": 103,
      "outputs": []
    },
    {
      "cell_type": "code",
      "source": [
        "fig = go.Figure()\n",
        "\n",
        "fig.add_trace(go.Scatter(x=kneigh, y=y_tsne,\n",
        "                    mode='lines+markers',\n",
        "                    name='t-SNE',\n",
        "                    line=dict(color=px.colors.qualitative.Plotly[0])))\n",
        "\n",
        "fig.add_trace(go.Scatter(x=kneigh, y=y_umap,\n",
        "                    mode='lines+markers',\n",
        "                    name='UMAP',\n",
        "                    line=dict(color=px.colors.qualitative.Plotly[1])))\n",
        "\n",
        "fig.add_trace(go.Scatter(x=kneigh, y=y_pca,\n",
        "                    mode='lines+markers',\n",
        "                    name='PCA',\n",
        "                    line=dict(color=px.colors.qualitative.Plotly[2])))\n",
        "\n",
        "fig.add_trace(go.Scatter(x=kneigh, y=y_trimap,\n",
        "                    mode='lines+markers',\n",
        "                    name='TRIMAP',\n",
        "                    line=dict(color=px.colors.qualitative.Plotly[3])))\n",
        "\n",
        "fig.update_layout(width=1000, template=\"simple_white\",\n",
        "                  xaxis_title=\"K (number of neighbors)\",\n",
        "                  yaxis_title=\"Trustworthiness\",\n",
        "                  font=dict(size=18),\n",
        "                  margin=dict(l=0,r=0,b=0,t=0))\n",
        "\n",
        "fig.show()\n",
        "fig.write_image('imgs/neighborhoodpres.eps', format='eps')"
      ],
      "metadata": {
        "colab": {
          "base_uri": "https://localhost:8080/",
          "height": 542
        },
        "id": "pRUOvepXO-5e",
        "outputId": "7d921883-cfaf-49c3-cd19-60462c60bb8b"
      },
      "execution_count": 112,
      "outputs": [
        {
          "output_type": "display_data",
          "data": {
            "text/html": [
              "<html>\n",
              "<head><meta charset=\"utf-8\" /></head>\n",
              "<body>\n",
              "    <div>            <script src=\"https://cdnjs.cloudflare.com/ajax/libs/mathjax/2.7.5/MathJax.js?config=TeX-AMS-MML_SVG\"></script><script type=\"text/javascript\">if (window.MathJax) {MathJax.Hub.Config({SVG: {font: \"STIX-Web\"}});}</script>                <script type=\"text/javascript\">window.PlotlyConfig = {MathJaxConfig: 'local'};</script>\n",
              "        <script src=\"https://cdn.plot.ly/plotly-2.8.3.min.js\"></script>                <div id=\"a3abb7b6-8c80-412c-abb2-255dfac3a505\" class=\"plotly-graph-div\" style=\"height:525px; width:1000px;\"></div>            <script type=\"text/javascript\">                                    window.PLOTLYENV=window.PLOTLYENV || {};                                    if (document.getElementById(\"a3abb7b6-8c80-412c-abb2-255dfac3a505\")) {                    Plotly.newPlot(                        \"a3abb7b6-8c80-412c-abb2-255dfac3a505\",                        [{\"line\":{\"color\":\"#636EFA\"},\"mode\":\"lines+markers\",\"name\":\"t-SNE\",\"x\":[1,2,3,4,5,6,7,8,9,10,11,12,13,14,15,16,17,18,19,20,21,22,23,24,25,26,27,28,29,30,31,32,33,34,35,36,37,38,39,40,41,42,43,44,45,46,47,48,49,50],\"y\":[0.991021368877605,0.9790320436112219,0.9594497031926841,0.9470839719286924,0.9381137789314298,0.9240467321061171,0.9104203289190984,0.8933462585595248,0.8770543693378078,0.8592895490834237,0.8466344661996836,0.8335901224145209,0.8237582305602007,0.814663184826335,0.8080989478910083,0.8009047166277696,0.7955728900255754,0.7887939553585603,0.7830981696452008,0.7766116178163465,0.77204035570037,0.7671556442959402,0.76149707033548,0.7559888505642794,0.7515552307879674,0.7473443307619243,0.743439430796816,0.739057838012777,0.7350037265849834,0.7312684041204272,0.7264949543822257,0.7233108377130115,0.7205515135969156,0.7187056772936733,0.7146482652331746,0.7113049476014438,0.7071155147242103,0.7043473024417576,0.7021454858060749,0.6989844984700225,0.6969467596951467,0.6955604270693785,0.6943990530911113,0.6925199122070556,0.6909095131921219,0.6891930653264798,0.6876973293322202,0.6874788573158139,0.6873632793625415,0.6876659799775923],\"type\":\"scatter\"},{\"line\":{\"color\":\"#EF553B\"},\"mode\":\"lines+markers\",\"name\":\"UMAP\",\"x\":[1,2,3,4,5,6,7,8,9,10,11,12,13,14,15,16,17,18,19,20,21,22,23,24,25,26,27,28,29,30,31,32,33,34,35,36,37,38,39,40,41,42,43,44,45,46,47,48,49,50],\"y\":[0.9519861419655136,0.9456455258609228,0.9257313225306166,0.9164313946922642,0.9058052130651092,0.8999261313683371,0.891198874956053,0.8807613508236394,0.8678196949023368,0.8569682049570224,0.8448209643861818,0.8340872848365462,0.8272279124860646,0.8193093672080602,0.8127370109411698,0.807289415679834,0.8036658141517476,0.7957252370908219,0.791365184656766,0.7888507630095339,0.7843410944800824,0.7795498689268299,0.7746223857221669,0.7699603138583805,0.7657502131287297,0.7607346310581902,0.7563407224677654,0.7520210719051609,0.7463224206862087,0.7413829419346726,0.7382020533612614,0.7329227384933906,0.7291756541948924,0.7259715157487416,0.7228750615083234,0.7194164549277906,0.7168251255207777,0.7140596117694495,0.7112045271231807,0.7085792225696896,0.7072357228042008,0.7057081963220071,0.7043165979007631,0.7029767688297314,0.7017047565960609,0.701081425809887,0.7003275347277063,0.6984726821683344,0.6957737033685623,0.6937619718818895],\"type\":\"scatter\"},{\"line\":{\"color\":\"#00CC96\"},\"mode\":\"lines+markers\",\"name\":\"PCA\",\"x\":[1,2,3,4,5,6,7,8,9,10,11,12,13,14,15,16,17,18,19,20,21,22,23,24,25,26,27,28,29,30,31,32,33,34,35,36,37,38,39,40,41,42,43,44,45,46,47,48,49,50],\"y\":[0.874404950809267,0.846396755750565,0.823738346079113,0.8161315909763115,0.8082468094311054,0.7943438380872103,0.7884722059455448,0.7863539174435552,0.781367162050866,0.7768491474032657,0.7738667521276217,0.7694655503963229,0.7681192081243032,0.7676003774705407,0.7654913979110577,0.7625208891578068,0.7606445012787724,0.7577712652727961,0.7571853855727154,0.7568766787685587,0.755612265100861,0.7550351113103242,0.7537650307085317,0.7527028935080129,0.7527280477408355,0.7526975047197494,0.7528837039321159,0.752498215560314,0.7529581114615106,0.7503369067454704,0.7500979929812528,0.7502697483675744,0.7508997244472427,0.7506241966138639,0.7508750429397729,0.7510323406142426,0.7513660399529964,0.751350568242315,0.7523670812590869,0.751516527119271,0.7515456569640869,0.7513628059919619,0.7510039342722554,0.7505113656016427,0.7504048990462033,0.7498981586162388,0.7493689973902514,0.7492481364763974,0.7497591374044237,0.7500618020166974],\"type\":\"scatter\"},{\"line\":{\"color\":\"#AB63FA\"},\"mode\":\"lines+markers\",\"name\":\"TRIMAP\",\"x\":[1,2,3,4,5,6,7,8,9,10,11,12,13,14,15,16,17,18,19,20,21,22,23,24,25,26,27,28,29,30,31,32,33,34,35,36,37,38,39,40,41,42,43,44,45,46,47,48,49,50],\"y\":[0.9415397228393103,0.9397952399946816,0.9354198976772377,0.9277177274071684,0.919438135409907,0.9117564419791355,0.9068127661236767,0.8975813326733217,0.8876304532212266,0.878354057136499,0.8671616280311932,0.8579334928005253,0.8502767471432553,0.8415721973422494,0.8365058906646808,0.8294310225602904,0.8222540494458653,0.8152352115916108,0.8089144485928781,0.8017378021783406,0.7953923847990134,0.7892995395460658,0.7830165739789315,0.7777582372696741,0.771385336743393,0.767044128773148,0.7638046618928518,0.7620676890065216,0.7592631485981147,0.7581318704349922,0.7570575361706384,0.7557020425226947,0.7545151398556554,0.7529477269749771,0.7525745295193531,0.7515289727847387,0.7511688566036392,0.7504093159971863,0.7493308468063027,0.7478563502471502,0.7471118555151419,0.7463455527138392,0.7459167748871073,0.7439980378654241,0.7436640654031959,0.7429142045463214,0.7423527597903177,0.741934622369405,0.7411367689563988,0.7400314431313022],\"type\":\"scatter\"}],                        {\"template\":{\"data\":{\"barpolar\":[{\"marker\":{\"line\":{\"color\":\"white\",\"width\":0.5},\"pattern\":{\"fillmode\":\"overlay\",\"size\":10,\"solidity\":0.2}},\"type\":\"barpolar\"}],\"bar\":[{\"error_x\":{\"color\":\"rgb(36,36,36)\"},\"error_y\":{\"color\":\"rgb(36,36,36)\"},\"marker\":{\"line\":{\"color\":\"white\",\"width\":0.5},\"pattern\":{\"fillmode\":\"overlay\",\"size\":10,\"solidity\":0.2}},\"type\":\"bar\"}],\"carpet\":[{\"aaxis\":{\"endlinecolor\":\"rgb(36,36,36)\",\"gridcolor\":\"white\",\"linecolor\":\"white\",\"minorgridcolor\":\"white\",\"startlinecolor\":\"rgb(36,36,36)\"},\"baxis\":{\"endlinecolor\":\"rgb(36,36,36)\",\"gridcolor\":\"white\",\"linecolor\":\"white\",\"minorgridcolor\":\"white\",\"startlinecolor\":\"rgb(36,36,36)\"},\"type\":\"carpet\"}],\"choropleth\":[{\"colorbar\":{\"outlinewidth\":1,\"tickcolor\":\"rgb(36,36,36)\",\"ticks\":\"outside\"},\"type\":\"choropleth\"}],\"contourcarpet\":[{\"colorbar\":{\"outlinewidth\":1,\"tickcolor\":\"rgb(36,36,36)\",\"ticks\":\"outside\"},\"type\":\"contourcarpet\"}],\"contour\":[{\"colorbar\":{\"outlinewidth\":1,\"tickcolor\":\"rgb(36,36,36)\",\"ticks\":\"outside\"},\"colorscale\":[[0.0,\"#440154\"],[0.1111111111111111,\"#482878\"],[0.2222222222222222,\"#3e4989\"],[0.3333333333333333,\"#31688e\"],[0.4444444444444444,\"#26828e\"],[0.5555555555555556,\"#1f9e89\"],[0.6666666666666666,\"#35b779\"],[0.7777777777777778,\"#6ece58\"],[0.8888888888888888,\"#b5de2b\"],[1.0,\"#fde725\"]],\"type\":\"contour\"}],\"heatmapgl\":[{\"colorbar\":{\"outlinewidth\":1,\"tickcolor\":\"rgb(36,36,36)\",\"ticks\":\"outside\"},\"colorscale\":[[0.0,\"#440154\"],[0.1111111111111111,\"#482878\"],[0.2222222222222222,\"#3e4989\"],[0.3333333333333333,\"#31688e\"],[0.4444444444444444,\"#26828e\"],[0.5555555555555556,\"#1f9e89\"],[0.6666666666666666,\"#35b779\"],[0.7777777777777778,\"#6ece58\"],[0.8888888888888888,\"#b5de2b\"],[1.0,\"#fde725\"]],\"type\":\"heatmapgl\"}],\"heatmap\":[{\"colorbar\":{\"outlinewidth\":1,\"tickcolor\":\"rgb(36,36,36)\",\"ticks\":\"outside\"},\"colorscale\":[[0.0,\"#440154\"],[0.1111111111111111,\"#482878\"],[0.2222222222222222,\"#3e4989\"],[0.3333333333333333,\"#31688e\"],[0.4444444444444444,\"#26828e\"],[0.5555555555555556,\"#1f9e89\"],[0.6666666666666666,\"#35b779\"],[0.7777777777777778,\"#6ece58\"],[0.8888888888888888,\"#b5de2b\"],[1.0,\"#fde725\"]],\"type\":\"heatmap\"}],\"histogram2dcontour\":[{\"colorbar\":{\"outlinewidth\":1,\"tickcolor\":\"rgb(36,36,36)\",\"ticks\":\"outside\"},\"colorscale\":[[0.0,\"#440154\"],[0.1111111111111111,\"#482878\"],[0.2222222222222222,\"#3e4989\"],[0.3333333333333333,\"#31688e\"],[0.4444444444444444,\"#26828e\"],[0.5555555555555556,\"#1f9e89\"],[0.6666666666666666,\"#35b779\"],[0.7777777777777778,\"#6ece58\"],[0.8888888888888888,\"#b5de2b\"],[1.0,\"#fde725\"]],\"type\":\"histogram2dcontour\"}],\"histogram2d\":[{\"colorbar\":{\"outlinewidth\":1,\"tickcolor\":\"rgb(36,36,36)\",\"ticks\":\"outside\"},\"colorscale\":[[0.0,\"#440154\"],[0.1111111111111111,\"#482878\"],[0.2222222222222222,\"#3e4989\"],[0.3333333333333333,\"#31688e\"],[0.4444444444444444,\"#26828e\"],[0.5555555555555556,\"#1f9e89\"],[0.6666666666666666,\"#35b779\"],[0.7777777777777778,\"#6ece58\"],[0.8888888888888888,\"#b5de2b\"],[1.0,\"#fde725\"]],\"type\":\"histogram2d\"}],\"histogram\":[{\"marker\":{\"line\":{\"color\":\"white\",\"width\":0.6}},\"type\":\"histogram\"}],\"mesh3d\":[{\"colorbar\":{\"outlinewidth\":1,\"tickcolor\":\"rgb(36,36,36)\",\"ticks\":\"outside\"},\"type\":\"mesh3d\"}],\"parcoords\":[{\"line\":{\"colorbar\":{\"outlinewidth\":1,\"tickcolor\":\"rgb(36,36,36)\",\"ticks\":\"outside\"}},\"type\":\"parcoords\"}],\"pie\":[{\"automargin\":true,\"type\":\"pie\"}],\"scatter3d\":[{\"line\":{\"colorbar\":{\"outlinewidth\":1,\"tickcolor\":\"rgb(36,36,36)\",\"ticks\":\"outside\"}},\"marker\":{\"colorbar\":{\"outlinewidth\":1,\"tickcolor\":\"rgb(36,36,36)\",\"ticks\":\"outside\"}},\"type\":\"scatter3d\"}],\"scattercarpet\":[{\"marker\":{\"colorbar\":{\"outlinewidth\":1,\"tickcolor\":\"rgb(36,36,36)\",\"ticks\":\"outside\"}},\"type\":\"scattercarpet\"}],\"scattergeo\":[{\"marker\":{\"colorbar\":{\"outlinewidth\":1,\"tickcolor\":\"rgb(36,36,36)\",\"ticks\":\"outside\"}},\"type\":\"scattergeo\"}],\"scattergl\":[{\"marker\":{\"colorbar\":{\"outlinewidth\":1,\"tickcolor\":\"rgb(36,36,36)\",\"ticks\":\"outside\"}},\"type\":\"scattergl\"}],\"scattermapbox\":[{\"marker\":{\"colorbar\":{\"outlinewidth\":1,\"tickcolor\":\"rgb(36,36,36)\",\"ticks\":\"outside\"}},\"type\":\"scattermapbox\"}],\"scatterpolargl\":[{\"marker\":{\"colorbar\":{\"outlinewidth\":1,\"tickcolor\":\"rgb(36,36,36)\",\"ticks\":\"outside\"}},\"type\":\"scatterpolargl\"}],\"scatterpolar\":[{\"marker\":{\"colorbar\":{\"outlinewidth\":1,\"tickcolor\":\"rgb(36,36,36)\",\"ticks\":\"outside\"}},\"type\":\"scatterpolar\"}],\"scatter\":[{\"marker\":{\"colorbar\":{\"outlinewidth\":1,\"tickcolor\":\"rgb(36,36,36)\",\"ticks\":\"outside\"}},\"type\":\"scatter\"}],\"scatterternary\":[{\"marker\":{\"colorbar\":{\"outlinewidth\":1,\"tickcolor\":\"rgb(36,36,36)\",\"ticks\":\"outside\"}},\"type\":\"scatterternary\"}],\"surface\":[{\"colorbar\":{\"outlinewidth\":1,\"tickcolor\":\"rgb(36,36,36)\",\"ticks\":\"outside\"},\"colorscale\":[[0.0,\"#440154\"],[0.1111111111111111,\"#482878\"],[0.2222222222222222,\"#3e4989\"],[0.3333333333333333,\"#31688e\"],[0.4444444444444444,\"#26828e\"],[0.5555555555555556,\"#1f9e89\"],[0.6666666666666666,\"#35b779\"],[0.7777777777777778,\"#6ece58\"],[0.8888888888888888,\"#b5de2b\"],[1.0,\"#fde725\"]],\"type\":\"surface\"}],\"table\":[{\"cells\":{\"fill\":{\"color\":\"rgb(237,237,237)\"},\"line\":{\"color\":\"white\"}},\"header\":{\"fill\":{\"color\":\"rgb(217,217,217)\"},\"line\":{\"color\":\"white\"}},\"type\":\"table\"}]},\"layout\":{\"annotationdefaults\":{\"arrowhead\":0,\"arrowwidth\":1},\"autotypenumbers\":\"strict\",\"coloraxis\":{\"colorbar\":{\"outlinewidth\":1,\"tickcolor\":\"rgb(36,36,36)\",\"ticks\":\"outside\"}},\"colorscale\":{\"diverging\":[[0.0,\"rgb(103,0,31)\"],[0.1,\"rgb(178,24,43)\"],[0.2,\"rgb(214,96,77)\"],[0.3,\"rgb(244,165,130)\"],[0.4,\"rgb(253,219,199)\"],[0.5,\"rgb(247,247,247)\"],[0.6,\"rgb(209,229,240)\"],[0.7,\"rgb(146,197,222)\"],[0.8,\"rgb(67,147,195)\"],[0.9,\"rgb(33,102,172)\"],[1.0,\"rgb(5,48,97)\"]],\"sequential\":[[0.0,\"#440154\"],[0.1111111111111111,\"#482878\"],[0.2222222222222222,\"#3e4989\"],[0.3333333333333333,\"#31688e\"],[0.4444444444444444,\"#26828e\"],[0.5555555555555556,\"#1f9e89\"],[0.6666666666666666,\"#35b779\"],[0.7777777777777778,\"#6ece58\"],[0.8888888888888888,\"#b5de2b\"],[1.0,\"#fde725\"]],\"sequentialminus\":[[0.0,\"#440154\"],[0.1111111111111111,\"#482878\"],[0.2222222222222222,\"#3e4989\"],[0.3333333333333333,\"#31688e\"],[0.4444444444444444,\"#26828e\"],[0.5555555555555556,\"#1f9e89\"],[0.6666666666666666,\"#35b779\"],[0.7777777777777778,\"#6ece58\"],[0.8888888888888888,\"#b5de2b\"],[1.0,\"#fde725\"]]},\"colorway\":[\"#1F77B4\",\"#FF7F0E\",\"#2CA02C\",\"#D62728\",\"#9467BD\",\"#8C564B\",\"#E377C2\",\"#7F7F7F\",\"#BCBD22\",\"#17BECF\"],\"font\":{\"color\":\"rgb(36,36,36)\"},\"geo\":{\"bgcolor\":\"white\",\"lakecolor\":\"white\",\"landcolor\":\"white\",\"showlakes\":true,\"showland\":true,\"subunitcolor\":\"white\"},\"hoverlabel\":{\"align\":\"left\"},\"hovermode\":\"closest\",\"mapbox\":{\"style\":\"light\"},\"paper_bgcolor\":\"white\",\"plot_bgcolor\":\"white\",\"polar\":{\"angularaxis\":{\"gridcolor\":\"rgb(232,232,232)\",\"linecolor\":\"rgb(36,36,36)\",\"showgrid\":false,\"showline\":true,\"ticks\":\"outside\"},\"bgcolor\":\"white\",\"radialaxis\":{\"gridcolor\":\"rgb(232,232,232)\",\"linecolor\":\"rgb(36,36,36)\",\"showgrid\":false,\"showline\":true,\"ticks\":\"outside\"}},\"scene\":{\"xaxis\":{\"backgroundcolor\":\"white\",\"gridcolor\":\"rgb(232,232,232)\",\"gridwidth\":2,\"linecolor\":\"rgb(36,36,36)\",\"showbackground\":true,\"showgrid\":false,\"showline\":true,\"ticks\":\"outside\",\"zeroline\":false,\"zerolinecolor\":\"rgb(36,36,36)\"},\"yaxis\":{\"backgroundcolor\":\"white\",\"gridcolor\":\"rgb(232,232,232)\",\"gridwidth\":2,\"linecolor\":\"rgb(36,36,36)\",\"showbackground\":true,\"showgrid\":false,\"showline\":true,\"ticks\":\"outside\",\"zeroline\":false,\"zerolinecolor\":\"rgb(36,36,36)\"},\"zaxis\":{\"backgroundcolor\":\"white\",\"gridcolor\":\"rgb(232,232,232)\",\"gridwidth\":2,\"linecolor\":\"rgb(36,36,36)\",\"showbackground\":true,\"showgrid\":false,\"showline\":true,\"ticks\":\"outside\",\"zeroline\":false,\"zerolinecolor\":\"rgb(36,36,36)\"}},\"shapedefaults\":{\"fillcolor\":\"black\",\"line\":{\"width\":0},\"opacity\":0.3},\"ternary\":{\"aaxis\":{\"gridcolor\":\"rgb(232,232,232)\",\"linecolor\":\"rgb(36,36,36)\",\"showgrid\":false,\"showline\":true,\"ticks\":\"outside\"},\"baxis\":{\"gridcolor\":\"rgb(232,232,232)\",\"linecolor\":\"rgb(36,36,36)\",\"showgrid\":false,\"showline\":true,\"ticks\":\"outside\"},\"bgcolor\":\"white\",\"caxis\":{\"gridcolor\":\"rgb(232,232,232)\",\"linecolor\":\"rgb(36,36,36)\",\"showgrid\":false,\"showline\":true,\"ticks\":\"outside\"}},\"title\":{\"x\":0.05},\"xaxis\":{\"automargin\":true,\"gridcolor\":\"rgb(232,232,232)\",\"linecolor\":\"rgb(36,36,36)\",\"showgrid\":false,\"showline\":true,\"ticks\":\"outside\",\"title\":{\"standoff\":15},\"zeroline\":false,\"zerolinecolor\":\"rgb(36,36,36)\"},\"yaxis\":{\"automargin\":true,\"gridcolor\":\"rgb(232,232,232)\",\"linecolor\":\"rgb(36,36,36)\",\"showgrid\":false,\"showline\":true,\"ticks\":\"outside\",\"title\":{\"standoff\":15},\"zeroline\":false,\"zerolinecolor\":\"rgb(36,36,36)\"}}},\"font\":{\"size\":18},\"margin\":{\"l\":0,\"r\":0,\"b\":0,\"t\":0},\"width\":1000,\"xaxis\":{\"title\":{\"text\":\"K (number of neighbors)\"}},\"yaxis\":{\"title\":{\"text\":\"Trustworthiness\"}}},                        {\"responsive\": true}                    ).then(function(){\n",
              "                            \n",
              "var gd = document.getElementById('a3abb7b6-8c80-412c-abb2-255dfac3a505');\n",
              "var x = new MutationObserver(function (mutations, observer) {{\n",
              "        var display = window.getComputedStyle(gd).display;\n",
              "        if (!display || display === 'none') {{\n",
              "            console.log([gd, 'removed!']);\n",
              "            Plotly.purge(gd);\n",
              "            observer.disconnect();\n",
              "        }}\n",
              "}});\n",
              "\n",
              "// Listen for the removal of the full notebook cells\n",
              "var notebookContainer = gd.closest('#notebook-container');\n",
              "if (notebookContainer) {{\n",
              "    x.observe(notebookContainer, {childList: true});\n",
              "}}\n",
              "\n",
              "// Listen for the clearing of the current output cell\n",
              "var outputEl = gd.closest('.output');\n",
              "if (outputEl) {{\n",
              "    x.observe(outputEl, {childList: true});\n",
              "}}\n",
              "\n",
              "                        })                };                            </script>        </div>\n",
              "</body>\n",
              "</html>"
            ]
          },
          "metadata": {}
        }
      ]
    },
    {
      "cell_type": "markdown",
      "source": [
        "### KNN"
      ],
      "metadata": {
        "id": "-fEEIT9OmY_J"
      }
    },
    {
      "cell_type": "code",
      "source": [
        "def neighborhood_preservation(lista_a, lista_b, k):\n",
        "  ans = []\n",
        "  size = len(lista_a)\n",
        "\n",
        "  for i in range(size):\n",
        "    prop = 0.0\n",
        "    for x in lista_b[i]:\n",
        "      if x in lista_a[i]: prop += 1\n",
        "    \n",
        "    ans.append(prop/k)\n",
        "\n",
        "  return sum(ans)/size"
      ],
      "metadata": {
        "id": "amjnC4GolDsY"
      },
      "execution_count": null,
      "outputs": []
    },
    {
      "cell_type": "code",
      "source": [
        "def neighborhood_hit(lista_a, lista_b, k):\n",
        "  ans = []\n",
        "  size = len(lista_a)\n",
        "\n",
        "  for i in range(size):\n",
        "    prop = 0.0\n",
        "    for x in lista_b[i]:\n",
        "      for y in lista_a[i]:\n",
        "        if all_data['Classification'].iloc[x] == all_data['Classification'].iloc[y]: \n",
        "          prop += 1\n",
        "          break\n",
        "    \n",
        "    ans.append(prop/k)\n",
        "\n",
        "  return sum(ans)/size"
      ],
      "metadata": {
        "id": "1loqQHULZv26"
      },
      "execution_count": null,
      "outputs": []
    },
    {
      "cell_type": "code",
      "source": [
        "def knn(X, k):\n",
        "  nearest_neighbors_ids = []\n",
        "    \n",
        "  for p in range(len(X)):\n",
        "    distances = np.linalg.norm(X - X[p], axis=1)\n",
        "    nearest_neighbors_ids.append(distances.argsort()[:(k)])\n",
        "\n",
        "  return nearest_neighbors_ids"
      ],
      "metadata": {
        "id": "39g2KOdlrmlx"
      },
      "execution_count": null,
      "outputs": []
    },
    {
      "cell_type": "markdown",
      "source": [
        "Neighborhood Preservation"
      ],
      "metadata": {
        "id": "QnkOeVlEsZqg"
      }
    },
    {
      "cell_type": "code",
      "source": [
        "kneigh = []\n",
        "y_tsne = []\n",
        "y_umap = []\n",
        "y_pca = []\n",
        "y_trimap = []\n",
        "\n",
        "\n",
        "for k in range(1,51):\n",
        "  kneigh.append(k)\n",
        "  knn_x = knn(X, k)\n",
        "\n",
        "  knn_tsne = knn(X_tsne, k)\n",
        "  precision = neighborhood_preservation(knn_x, knn_tsne, k)\n",
        "  y_tsne.append(precision)\n",
        "\n",
        "  knn_umap = knn(X_umap, k)\n",
        "  precision = neighborhood_preservation(knn_x, knn_umap, k)\n",
        "  y_umap.append(precision)\n",
        "\n",
        "  knn_pca = knn(X_pca, k)\n",
        "  precision = neighborhood_preservation(knn_x, knn_pca, k)\n",
        "  y_pca.append(precision)\n",
        "\n",
        "  knn_trimap = knn(X_trimap, k)\n",
        "  precision = neighborhood_preservation(knn_x, knn_trimap, k) \n",
        "  y_trimap.append(precision)  "
      ],
      "metadata": {
        "id": "GCimKPJbqLZD"
      },
      "execution_count": null,
      "outputs": []
    },
    {
      "cell_type": "code",
      "source": [
        "fig = go.Figure()\n",
        "\n",
        "fig.add_trace(go.Scatter(x=kneigh, y=y_tsne,\n",
        "                    mode='lines+markers',\n",
        "                    name='t-SNE',\n",
        "                    line=dict(color=px.colors.qualitative.Plotly[0])))\n",
        "\n",
        "fig.add_trace(go.Scatter(x=kneigh, y=y_umap,\n",
        "                    mode='lines+markers',\n",
        "                    name='UMAP',\n",
        "                    line=dict(color=px.colors.qualitative.Plotly[1])))\n",
        "\n",
        "fig.add_trace(go.Scatter(x=kneigh, y=y_pca,\n",
        "                    mode='lines+markers',\n",
        "                    name='PCA',\n",
        "                    line=dict(color=px.colors.qualitative.Plotly[2])))\n",
        "\n",
        "fig.add_trace(go.Scatter(x=kneigh, y=y_trimap,\n",
        "                    mode='lines+markers',\n",
        "                    name='TRIMAP',\n",
        "                    line=dict(color=px.colors.qualitative.Plotly[3])))\n",
        "\n",
        "fig.update_layout(width=1000, template=\"simple_white\",\n",
        "                  xaxis_title=\"K (number of neighbors)\",\n",
        "                  yaxis_title=\"Neighborhood Preservation\",\n",
        "                  font=dict(size=18),\n",
        "                  margin=dict(l=0,r=0,b=0,t=0))\n",
        "\n",
        "fig.show()\n",
        "fig.write_image('imgs/neighborhoodpresknn.eps', format='eps')"
      ],
      "metadata": {
        "id": "V9Z9caOyrfDT",
        "colab": {
          "base_uri": "https://localhost:8080/",
          "height": 542
        },
        "outputId": "a807849a-5baa-4dcc-8295-a076103bd9bc"
      },
      "execution_count": null,
      "outputs": [
        {
          "output_type": "display_data",
          "data": {
            "text/html": [
              "<html>\n",
              "<head><meta charset=\"utf-8\" /></head>\n",
              "<body>\n",
              "    <div>            <script src=\"https://cdnjs.cloudflare.com/ajax/libs/mathjax/2.7.5/MathJax.js?config=TeX-AMS-MML_SVG\"></script><script type=\"text/javascript\">if (window.MathJax) {MathJax.Hub.Config({SVG: {font: \"STIX-Web\"}});}</script>                <script type=\"text/javascript\">window.PlotlyConfig = {MathJaxConfig: 'local'};</script>\n",
              "        <script src=\"https://cdn.plot.ly/plotly-2.8.3.min.js\"></script>                <div id=\"88005d6b-5210-4931-af46-c872451bfa3a\" class=\"plotly-graph-div\" style=\"height:525px; width:1000px;\"></div>            <script type=\"text/javascript\">                                    window.PLOTLYENV=window.PLOTLYENV || {};                                    if (document.getElementById(\"88005d6b-5210-4931-af46-c872451bfa3a\")) {                    Plotly.newPlot(                        \"88005d6b-5210-4931-af46-c872451bfa3a\",                        [{\"line\":{\"color\":\"#636EFA\"},\"mode\":\"lines+markers\",\"name\":\"t-SNE\",\"x\":[1,2,3,4,5,6,7,8,9,10,11,12,13,14,15,16,17,18,19,20,21,22,23,24,25,26,27,28,29,30,31,32,33,34,35,36,37,38,39,40,41,42,43,44,45,46,47,48,49,50],\"y\":[0.9166666666666666,0.8840579710144928,0.8417874396135253,0.779891304347826,0.7333333333333342,0.7095410628019327,0.6739130434782619,0.6426630434782609,0.6211755233494355,0.59963768115942,0.5741106719367587,0.5546497584541066,0.5381828316610922,0.5266563146997929,0.5142512077294683,0.5079257246376812,0.5044757033248078,0.4991948470209345,0.491609458428681,0.4818840579710146,0.47135955831607995,0.46277997364953855,0.45589161940768735,0.4507850241545893,0.4466666666666666,0.44091415830546304,0.4353193773483629,0.43193581780538304,0.43015992003998016,0.4268115942028984,0.4263674614305753,0.4260643115942029,0.42314448836187935,0.419757033248082,0.4188405797101447,0.4191827697262479,0.4190168429298862,0.4200991609458429,0.42001114827201774,0.4192028985507246,0.42046659597030706,0.42089371980676277,0.42037411526794743,0.421525032938076,0.42181964573268904,0.4215500945179582,0.42229417206290415,0.42368659420289856,0.42413487133984007,0.4249275362318835],\"type\":\"scatter\"},{\"line\":{\"color\":\"#EF553B\"},\"mode\":\"lines+markers\",\"name\":\"UMAP\",\"x\":[1,2,3,4,5,6,7,8,9,10,11,12,13,14,15,16,17,18,19,20,21,22,23,24,25,26,27,28,29,30,31,32,33,34,35,36,37,38,39,40,41,42,43,44,45,46,47,48,49,50],\"y\":[0.9347826086956522,0.6938405797101449,0.6497584541062801,0.6467391304347826,0.6565217391304345,0.6545893719806771,0.6381987577639759,0.6313405797101449,0.6203703703703689,0.6076086956521736,0.5859683794466399,0.5685386473429958,0.5565774804905236,0.5445134575569355,0.5275362318840576,0.5197010869565217,0.5147058823529411,0.5094605475040254,0.49828375286041177,0.488405797101449,0.4818840579710148,0.4759552042160734,0.47164461247636985,0.46920289855072456,0.46492753623188415,0.46112040133779264,0.456387546967257,0.45251035196687406,0.4494002998500749,0.44649758454106225,0.44576905095839203,0.44429347826086957,0.4392841458058847,0.4360613810741692,0.43457556935817815,0.4331723027375197,0.4331179005092046,0.43430587337909965,0.4334819769602377,0.43170289855072436,0.432926829268293,0.4334023464458247,0.43351870576339707,0.43412384716732516,0.43470209339774574,0.43667296786389387,0.437711995066296,0.4396890096618356,0.43944099378882046,0.43768115942028935],\"type\":\"scatter\"},{\"line\":{\"color\":\"#00CC96\"},\"mode\":\"lines+markers\",\"name\":\"PCA\",\"x\":[1,2,3,4,5,6,7,8,9,10,11,12,13,14,15,16,17,18,19,20,21,22,23,24,25,26,27,28,29,30,31,32,33,34,35,36,37,38,39,40,41,42,43,44,45,46,47,48,49,50],\"y\":[0.9565217391304348,0.6612318840579711,0.5942028985507252,0.5317028985507246,0.503623188405797,0.48731884057971037,0.4591097308488611,0.4388586956521739,0.4243156199677941,0.41304347826086935,0.39888010540184504,0.3897946859903384,0.3821070234113716,0.37525879917184246,0.3690821256038649,0.3596014492753623,0.3572037510656438,0.35567632850241543,0.3520213577421812,0.3496376811594202,0.3481711525189787,0.34552042160737817,0.3448330182734719,0.3472222222222223,0.34507246376811557,0.34629319955406934,0.3493022007514759,0.3533902691511389,0.35644677661169416,0.3579710144927537,0.35729312762973353,0.3599411231884058,0.36286780851998285,0.3666879795396417,0.37184265010351975,0.3766103059581321,0.3817077947512733,0.38501144164759754,0.3879598662207359,0.39411231884057996,0.39775539059738396,0.40208764665286395,0.40478597910347175,0.4076086956521739,0.4115942028985506,0.41493383742911155,0.4180542707369719,0.4224033816425123,0.426131322094055,0.4302898550724639],\"type\":\"scatter\"},{\"line\":{\"color\":\"#AB63FA\"},\"mode\":\"lines+markers\",\"name\":\"TRIMAP\",\"x\":[1,2,3,4,5,6,7,8,9,10,11,12,13,14,15,16,17,18,19,20,21,22,23,24,25,26,27,28,29,30,31,32,33,34,35,36,37,38,39,40,41,42,43,44,45,46,47,48,49,50],\"y\":[0.9347826086956522,0.6177536231884058,0.6280193236714975,0.6177536231884058,0.617391304347826,0.6219806763285032,0.6066252587991718,0.5896739130434783,0.5813204508856679,0.5673913043478266,0.5451251646903825,0.5314009661835751,0.5214604236343368,0.5051759834368533,0.492028985507246,0.485054347826087,0.4784739982949703,0.4746376811594202,0.4658657513348585,0.45833333333333354,0.4530710835058662,0.4459815546772065,0.4413988657844986,0.4365942028985507,0.4356521739130433,0.43115942028985504,0.4263285024154589,0.42585403726708104,0.42428785607196445,0.42137681159420315,0.42017297802711545,0.4209692028985507,0.42007026789635504,0.4179454390451834,0.4167701863354035,0.4166666666666664,0.4178417547982763,0.4169527078565981,0.4171311780007433,0.4167572463768116,0.4179038529515731,0.418737060041408,0.4201213346814964,0.42103096179183147,0.4215780998389695,0.4241493383742912,0.42576318223866727,0.4270833333333336,0.4288671990535344,0.42956521739130427],\"type\":\"scatter\"}],                        {\"template\":{\"data\":{\"barpolar\":[{\"marker\":{\"line\":{\"color\":\"white\",\"width\":0.5},\"pattern\":{\"fillmode\":\"overlay\",\"size\":10,\"solidity\":0.2}},\"type\":\"barpolar\"}],\"bar\":[{\"error_x\":{\"color\":\"rgb(36,36,36)\"},\"error_y\":{\"color\":\"rgb(36,36,36)\"},\"marker\":{\"line\":{\"color\":\"white\",\"width\":0.5},\"pattern\":{\"fillmode\":\"overlay\",\"size\":10,\"solidity\":0.2}},\"type\":\"bar\"}],\"carpet\":[{\"aaxis\":{\"endlinecolor\":\"rgb(36,36,36)\",\"gridcolor\":\"white\",\"linecolor\":\"white\",\"minorgridcolor\":\"white\",\"startlinecolor\":\"rgb(36,36,36)\"},\"baxis\":{\"endlinecolor\":\"rgb(36,36,36)\",\"gridcolor\":\"white\",\"linecolor\":\"white\",\"minorgridcolor\":\"white\",\"startlinecolor\":\"rgb(36,36,36)\"},\"type\":\"carpet\"}],\"choropleth\":[{\"colorbar\":{\"outlinewidth\":1,\"tickcolor\":\"rgb(36,36,36)\",\"ticks\":\"outside\"},\"type\":\"choropleth\"}],\"contourcarpet\":[{\"colorbar\":{\"outlinewidth\":1,\"tickcolor\":\"rgb(36,36,36)\",\"ticks\":\"outside\"},\"type\":\"contourcarpet\"}],\"contour\":[{\"colorbar\":{\"outlinewidth\":1,\"tickcolor\":\"rgb(36,36,36)\",\"ticks\":\"outside\"},\"colorscale\":[[0.0,\"#440154\"],[0.1111111111111111,\"#482878\"],[0.2222222222222222,\"#3e4989\"],[0.3333333333333333,\"#31688e\"],[0.4444444444444444,\"#26828e\"],[0.5555555555555556,\"#1f9e89\"],[0.6666666666666666,\"#35b779\"],[0.7777777777777778,\"#6ece58\"],[0.8888888888888888,\"#b5de2b\"],[1.0,\"#fde725\"]],\"type\":\"contour\"}],\"heatmapgl\":[{\"colorbar\":{\"outlinewidth\":1,\"tickcolor\":\"rgb(36,36,36)\",\"ticks\":\"outside\"},\"colorscale\":[[0.0,\"#440154\"],[0.1111111111111111,\"#482878\"],[0.2222222222222222,\"#3e4989\"],[0.3333333333333333,\"#31688e\"],[0.4444444444444444,\"#26828e\"],[0.5555555555555556,\"#1f9e89\"],[0.6666666666666666,\"#35b779\"],[0.7777777777777778,\"#6ece58\"],[0.8888888888888888,\"#b5de2b\"],[1.0,\"#fde725\"]],\"type\":\"heatmapgl\"}],\"heatmap\":[{\"colorbar\":{\"outlinewidth\":1,\"tickcolor\":\"rgb(36,36,36)\",\"ticks\":\"outside\"},\"colorscale\":[[0.0,\"#440154\"],[0.1111111111111111,\"#482878\"],[0.2222222222222222,\"#3e4989\"],[0.3333333333333333,\"#31688e\"],[0.4444444444444444,\"#26828e\"],[0.5555555555555556,\"#1f9e89\"],[0.6666666666666666,\"#35b779\"],[0.7777777777777778,\"#6ece58\"],[0.8888888888888888,\"#b5de2b\"],[1.0,\"#fde725\"]],\"type\":\"heatmap\"}],\"histogram2dcontour\":[{\"colorbar\":{\"outlinewidth\":1,\"tickcolor\":\"rgb(36,36,36)\",\"ticks\":\"outside\"},\"colorscale\":[[0.0,\"#440154\"],[0.1111111111111111,\"#482878\"],[0.2222222222222222,\"#3e4989\"],[0.3333333333333333,\"#31688e\"],[0.4444444444444444,\"#26828e\"],[0.5555555555555556,\"#1f9e89\"],[0.6666666666666666,\"#35b779\"],[0.7777777777777778,\"#6ece58\"],[0.8888888888888888,\"#b5de2b\"],[1.0,\"#fde725\"]],\"type\":\"histogram2dcontour\"}],\"histogram2d\":[{\"colorbar\":{\"outlinewidth\":1,\"tickcolor\":\"rgb(36,36,36)\",\"ticks\":\"outside\"},\"colorscale\":[[0.0,\"#440154\"],[0.1111111111111111,\"#482878\"],[0.2222222222222222,\"#3e4989\"],[0.3333333333333333,\"#31688e\"],[0.4444444444444444,\"#26828e\"],[0.5555555555555556,\"#1f9e89\"],[0.6666666666666666,\"#35b779\"],[0.7777777777777778,\"#6ece58\"],[0.8888888888888888,\"#b5de2b\"],[1.0,\"#fde725\"]],\"type\":\"histogram2d\"}],\"histogram\":[{\"marker\":{\"line\":{\"color\":\"white\",\"width\":0.6}},\"type\":\"histogram\"}],\"mesh3d\":[{\"colorbar\":{\"outlinewidth\":1,\"tickcolor\":\"rgb(36,36,36)\",\"ticks\":\"outside\"},\"type\":\"mesh3d\"}],\"parcoords\":[{\"line\":{\"colorbar\":{\"outlinewidth\":1,\"tickcolor\":\"rgb(36,36,36)\",\"ticks\":\"outside\"}},\"type\":\"parcoords\"}],\"pie\":[{\"automargin\":true,\"type\":\"pie\"}],\"scatter3d\":[{\"line\":{\"colorbar\":{\"outlinewidth\":1,\"tickcolor\":\"rgb(36,36,36)\",\"ticks\":\"outside\"}},\"marker\":{\"colorbar\":{\"outlinewidth\":1,\"tickcolor\":\"rgb(36,36,36)\",\"ticks\":\"outside\"}},\"type\":\"scatter3d\"}],\"scattercarpet\":[{\"marker\":{\"colorbar\":{\"outlinewidth\":1,\"tickcolor\":\"rgb(36,36,36)\",\"ticks\":\"outside\"}},\"type\":\"scattercarpet\"}],\"scattergeo\":[{\"marker\":{\"colorbar\":{\"outlinewidth\":1,\"tickcolor\":\"rgb(36,36,36)\",\"ticks\":\"outside\"}},\"type\":\"scattergeo\"}],\"scattergl\":[{\"marker\":{\"colorbar\":{\"outlinewidth\":1,\"tickcolor\":\"rgb(36,36,36)\",\"ticks\":\"outside\"}},\"type\":\"scattergl\"}],\"scattermapbox\":[{\"marker\":{\"colorbar\":{\"outlinewidth\":1,\"tickcolor\":\"rgb(36,36,36)\",\"ticks\":\"outside\"}},\"type\":\"scattermapbox\"}],\"scatterpolargl\":[{\"marker\":{\"colorbar\":{\"outlinewidth\":1,\"tickcolor\":\"rgb(36,36,36)\",\"ticks\":\"outside\"}},\"type\":\"scatterpolargl\"}],\"scatterpolar\":[{\"marker\":{\"colorbar\":{\"outlinewidth\":1,\"tickcolor\":\"rgb(36,36,36)\",\"ticks\":\"outside\"}},\"type\":\"scatterpolar\"}],\"scatter\":[{\"marker\":{\"colorbar\":{\"outlinewidth\":1,\"tickcolor\":\"rgb(36,36,36)\",\"ticks\":\"outside\"}},\"type\":\"scatter\"}],\"scatterternary\":[{\"marker\":{\"colorbar\":{\"outlinewidth\":1,\"tickcolor\":\"rgb(36,36,36)\",\"ticks\":\"outside\"}},\"type\":\"scatterternary\"}],\"surface\":[{\"colorbar\":{\"outlinewidth\":1,\"tickcolor\":\"rgb(36,36,36)\",\"ticks\":\"outside\"},\"colorscale\":[[0.0,\"#440154\"],[0.1111111111111111,\"#482878\"],[0.2222222222222222,\"#3e4989\"],[0.3333333333333333,\"#31688e\"],[0.4444444444444444,\"#26828e\"],[0.5555555555555556,\"#1f9e89\"],[0.6666666666666666,\"#35b779\"],[0.7777777777777778,\"#6ece58\"],[0.8888888888888888,\"#b5de2b\"],[1.0,\"#fde725\"]],\"type\":\"surface\"}],\"table\":[{\"cells\":{\"fill\":{\"color\":\"rgb(237,237,237)\"},\"line\":{\"color\":\"white\"}},\"header\":{\"fill\":{\"color\":\"rgb(217,217,217)\"},\"line\":{\"color\":\"white\"}},\"type\":\"table\"}]},\"layout\":{\"annotationdefaults\":{\"arrowhead\":0,\"arrowwidth\":1},\"autotypenumbers\":\"strict\",\"coloraxis\":{\"colorbar\":{\"outlinewidth\":1,\"tickcolor\":\"rgb(36,36,36)\",\"ticks\":\"outside\"}},\"colorscale\":{\"diverging\":[[0.0,\"rgb(103,0,31)\"],[0.1,\"rgb(178,24,43)\"],[0.2,\"rgb(214,96,77)\"],[0.3,\"rgb(244,165,130)\"],[0.4,\"rgb(253,219,199)\"],[0.5,\"rgb(247,247,247)\"],[0.6,\"rgb(209,229,240)\"],[0.7,\"rgb(146,197,222)\"],[0.8,\"rgb(67,147,195)\"],[0.9,\"rgb(33,102,172)\"],[1.0,\"rgb(5,48,97)\"]],\"sequential\":[[0.0,\"#440154\"],[0.1111111111111111,\"#482878\"],[0.2222222222222222,\"#3e4989\"],[0.3333333333333333,\"#31688e\"],[0.4444444444444444,\"#26828e\"],[0.5555555555555556,\"#1f9e89\"],[0.6666666666666666,\"#35b779\"],[0.7777777777777778,\"#6ece58\"],[0.8888888888888888,\"#b5de2b\"],[1.0,\"#fde725\"]],\"sequentialminus\":[[0.0,\"#440154\"],[0.1111111111111111,\"#482878\"],[0.2222222222222222,\"#3e4989\"],[0.3333333333333333,\"#31688e\"],[0.4444444444444444,\"#26828e\"],[0.5555555555555556,\"#1f9e89\"],[0.6666666666666666,\"#35b779\"],[0.7777777777777778,\"#6ece58\"],[0.8888888888888888,\"#b5de2b\"],[1.0,\"#fde725\"]]},\"colorway\":[\"#1F77B4\",\"#FF7F0E\",\"#2CA02C\",\"#D62728\",\"#9467BD\",\"#8C564B\",\"#E377C2\",\"#7F7F7F\",\"#BCBD22\",\"#17BECF\"],\"font\":{\"color\":\"rgb(36,36,36)\"},\"geo\":{\"bgcolor\":\"white\",\"lakecolor\":\"white\",\"landcolor\":\"white\",\"showlakes\":true,\"showland\":true,\"subunitcolor\":\"white\"},\"hoverlabel\":{\"align\":\"left\"},\"hovermode\":\"closest\",\"mapbox\":{\"style\":\"light\"},\"paper_bgcolor\":\"white\",\"plot_bgcolor\":\"white\",\"polar\":{\"angularaxis\":{\"gridcolor\":\"rgb(232,232,232)\",\"linecolor\":\"rgb(36,36,36)\",\"showgrid\":false,\"showline\":true,\"ticks\":\"outside\"},\"bgcolor\":\"white\",\"radialaxis\":{\"gridcolor\":\"rgb(232,232,232)\",\"linecolor\":\"rgb(36,36,36)\",\"showgrid\":false,\"showline\":true,\"ticks\":\"outside\"}},\"scene\":{\"xaxis\":{\"backgroundcolor\":\"white\",\"gridcolor\":\"rgb(232,232,232)\",\"gridwidth\":2,\"linecolor\":\"rgb(36,36,36)\",\"showbackground\":true,\"showgrid\":false,\"showline\":true,\"ticks\":\"outside\",\"zeroline\":false,\"zerolinecolor\":\"rgb(36,36,36)\"},\"yaxis\":{\"backgroundcolor\":\"white\",\"gridcolor\":\"rgb(232,232,232)\",\"gridwidth\":2,\"linecolor\":\"rgb(36,36,36)\",\"showbackground\":true,\"showgrid\":false,\"showline\":true,\"ticks\":\"outside\",\"zeroline\":false,\"zerolinecolor\":\"rgb(36,36,36)\"},\"zaxis\":{\"backgroundcolor\":\"white\",\"gridcolor\":\"rgb(232,232,232)\",\"gridwidth\":2,\"linecolor\":\"rgb(36,36,36)\",\"showbackground\":true,\"showgrid\":false,\"showline\":true,\"ticks\":\"outside\",\"zeroline\":false,\"zerolinecolor\":\"rgb(36,36,36)\"}},\"shapedefaults\":{\"fillcolor\":\"black\",\"line\":{\"width\":0},\"opacity\":0.3},\"ternary\":{\"aaxis\":{\"gridcolor\":\"rgb(232,232,232)\",\"linecolor\":\"rgb(36,36,36)\",\"showgrid\":false,\"showline\":true,\"ticks\":\"outside\"},\"baxis\":{\"gridcolor\":\"rgb(232,232,232)\",\"linecolor\":\"rgb(36,36,36)\",\"showgrid\":false,\"showline\":true,\"ticks\":\"outside\"},\"bgcolor\":\"white\",\"caxis\":{\"gridcolor\":\"rgb(232,232,232)\",\"linecolor\":\"rgb(36,36,36)\",\"showgrid\":false,\"showline\":true,\"ticks\":\"outside\"}},\"title\":{\"x\":0.05},\"xaxis\":{\"automargin\":true,\"gridcolor\":\"rgb(232,232,232)\",\"linecolor\":\"rgb(36,36,36)\",\"showgrid\":false,\"showline\":true,\"ticks\":\"outside\",\"title\":{\"standoff\":15},\"zeroline\":false,\"zerolinecolor\":\"rgb(36,36,36)\"},\"yaxis\":{\"automargin\":true,\"gridcolor\":\"rgb(232,232,232)\",\"linecolor\":\"rgb(36,36,36)\",\"showgrid\":false,\"showline\":true,\"ticks\":\"outside\",\"title\":{\"standoff\":15},\"zeroline\":false,\"zerolinecolor\":\"rgb(36,36,36)\"}}},\"font\":{\"size\":18},\"margin\":{\"l\":0,\"r\":0,\"b\":0,\"t\":0},\"width\":1000,\"xaxis\":{\"title\":{\"text\":\"K (number of neighbors)\"}},\"yaxis\":{\"title\":{\"text\":\"Neighborhood Preservation\"}}},                        {\"responsive\": true}                    ).then(function(){\n",
              "                            \n",
              "var gd = document.getElementById('88005d6b-5210-4931-af46-c872451bfa3a');\n",
              "var x = new MutationObserver(function (mutations, observer) {{\n",
              "        var display = window.getComputedStyle(gd).display;\n",
              "        if (!display || display === 'none') {{\n",
              "            console.log([gd, 'removed!']);\n",
              "            Plotly.purge(gd);\n",
              "            observer.disconnect();\n",
              "        }}\n",
              "}});\n",
              "\n",
              "// Listen for the removal of the full notebook cells\n",
              "var notebookContainer = gd.closest('#notebook-container');\n",
              "if (notebookContainer) {{\n",
              "    x.observe(notebookContainer, {childList: true});\n",
              "}}\n",
              "\n",
              "// Listen for the clearing of the current output cell\n",
              "var outputEl = gd.closest('.output');\n",
              "if (outputEl) {{\n",
              "    x.observe(outputEl, {childList: true});\n",
              "}}\n",
              "\n",
              "                        })                };                            </script>        </div>\n",
              "</body>\n",
              "</html>"
            ]
          },
          "metadata": {}
        }
      ]
    },
    {
      "cell_type": "markdown",
      "source": [
        "Neighborhood Hit"
      ],
      "metadata": {
        "id": "4z0PeQUjsdfT"
      }
    },
    {
      "cell_type": "code",
      "source": [
        "kneigh = []\n",
        "y_tsne = []\n",
        "y_umap = []\n",
        "y_pca = []\n",
        "y_trimap = []\n",
        "\n",
        "\n",
        "for k in range(1,51):\n",
        "  kneigh.append(k)\n",
        "  knn_x = knn(X, k)\n",
        "\n",
        "  knn_tsne = knn(X_tsne, k)\n",
        "  precision = neighborhood_hit(knn_x, knn_tsne, k)\n",
        "  y_tsne.append(precision)\n",
        "\n",
        "  knn_umap = knn(X_umap, k)\n",
        "  precision = neighborhood_hit(knn_x, knn_umap, k)\n",
        "  y_umap.append(precision)\n",
        "\n",
        "  knn_pca = knn(X_pca, k)\n",
        "  precision = neighborhood_hit(knn_x, knn_pca, k)\n",
        "  y_pca.append(precision)\n",
        "\n",
        "  knn_trimap = knn(X_trimap, k)\n",
        "  precision = neighborhood_hit(knn_x, knn_trimap, k) \n",
        "  y_trimap.append(precision)  "
      ],
      "metadata": {
        "id": "1bFGYqgesfnJ"
      },
      "execution_count": null,
      "outputs": []
    },
    {
      "cell_type": "code",
      "source": [
        "fig = go.Figure()\n",
        "\n",
        "fig.add_trace(go.Scatter(x=kneigh, y=y_tsne,\n",
        "                    mode='lines+markers',\n",
        "                    name='t-SNE',\n",
        "                    line=dict(color=px.colors.qualitative.Plotly[0])))\n",
        "\n",
        "fig.add_trace(go.Scatter(x=kneigh, y=y_umap,\n",
        "                    mode='lines+markers',\n",
        "                    name='UMAP',\n",
        "                    line=dict(color=px.colors.qualitative.Plotly[1])))\n",
        "\n",
        "fig.add_trace(go.Scatter(x=kneigh, y=y_pca,\n",
        "                    mode='lines+markers',\n",
        "                    name='PCA',\n",
        "                    line=dict(color=px.colors.qualitative.Plotly[2])))\n",
        "\n",
        "fig.add_trace(go.Scatter(x=kneigh, y=y_trimap,\n",
        "                    mode='lines+markers',\n",
        "                    name='TRIMAP',\n",
        "                    line=dict(color=px.colors.qualitative.Plotly[3])))\n",
        "\n",
        "fig.update_layout(width=1000, template=\"simple_white\",\n",
        "                  xaxis_title=\"K (number of neighbors)\",\n",
        "                  yaxis_title=\"Neighborhood Preservation\",\n",
        "                  font=dict(size=18),\n",
        "                  margin=dict(l=0,r=0,b=0,t=0))\n",
        "\n",
        "fig.show()\n",
        "fig.write_image('imgs/neighborhoodhit.eps', format='eps')"
      ],
      "metadata": {
        "colab": {
          "base_uri": "https://localhost:8080/",
          "height": 542
        },
        "id": "wge7e8qYcjgW",
        "outputId": "7a6fcf63-f38d-4254-be2e-de85af595057"
      },
      "execution_count": null,
      "outputs": [
        {
          "output_type": "display_data",
          "data": {
            "text/html": [
              "<html>\n",
              "<head><meta charset=\"utf-8\" /></head>\n",
              "<body>\n",
              "    <div>            <script src=\"https://cdnjs.cloudflare.com/ajax/libs/mathjax/2.7.5/MathJax.js?config=TeX-AMS-MML_SVG\"></script><script type=\"text/javascript\">if (window.MathJax) {MathJax.Hub.Config({SVG: {font: \"STIX-Web\"}});}</script>                <script type=\"text/javascript\">window.PlotlyConfig = {MathJaxConfig: 'local'};</script>\n",
              "        <script src=\"https://cdn.plot.ly/plotly-2.8.3.min.js\"></script>                <div id=\"867ba3bc-c70a-43ed-a27d-223ccec3e5c1\" class=\"plotly-graph-div\" style=\"height:525px; width:1000px;\"></div>            <script type=\"text/javascript\">                                    window.PLOTLYENV=window.PLOTLYENV || {};                                    if (document.getElementById(\"867ba3bc-c70a-43ed-a27d-223ccec3e5c1\")) {                    Plotly.newPlot(                        \"867ba3bc-c70a-43ed-a27d-223ccec3e5c1\",                        [{\"line\":{\"color\":\"#636EFA\"},\"mode\":\"lines+markers\",\"name\":\"t-SNE\",\"x\":[1,2,3,4,5,6,7,8,9,10,11,12,13,14,15,16,17,18,19,20,21,22,23,24,25,26,27,28,29,30,31,32,33,34,35,36,37,38,39,40,41,42,43,44,45,46,47,48,49,50],\"y\":[0.9818840579710145,0.9655797101449275,0.9335748792270524,0.8985507246376812,0.8898550724637683,0.885265700483092,0.8788819875776404,0.8740942028985508,0.8707729468599025,0.8663043478260879,0.8554018445322783,0.8423913043478258,0.8394648829431433,0.8398033126293991,0.8352657004830922,0.8331068840579711,0.8309889173060517,0.8357487922705321,0.8318077803203647,0.8269927536231884,0.8198757763975145,0.8150527009222661,0.8131695022054195,0.810386473429952,0.8082608695652175,0.8092251950947592,0.8113258185721932,0.809782608695653,0.8112193903048476,0.8101449275362324,0.8129967274427323,0.8158967391304348,0.8151075977162909,0.8152173913043465,0.8183229813664586,0.8192431561996788,0.8247160203681942,0.8278032036613272,0.8297101449275349,0.8303442028985504,0.8350123718628489,0.8338509316770183,0.8330805527468829,0.8333333333333333,0.8342190016103052,0.8336483931947082,0.8329478877582471,0.8356733091787436,0.8361431529133391,0.837463768115941],\"type\":\"scatter\"},{\"line\":{\"color\":\"#EF553B\"},\"mode\":\"lines+markers\",\"name\":\"UMAP\",\"x\":[1,2,3,4,5,6,7,8,9,10,11,12,13,14,15,16,17,18,19,20,21,22,23,24,25,26,27,28,29,30,31,32,33,34,35,36,37,38,39,40,41,42,43,44,45,46,47,48,49,50],\"y\":[0.9855072463768116,0.8786231884057971,0.8671497584541056,0.8596014492753623,0.8652173913043479,0.8659420289855083,0.8690476190476197,0.8745471014492754,0.8796296296296282,0.8713768115942041,0.8669301712779962,0.8626207729468597,0.8547937569676697,0.8532608695652172,0.8485507246376808,0.8457880434782609,0.8418584825234436,0.841988727858294,0.8369565217391289,0.834963768115941,0.8381642512077296,0.8394268774703562,0.8408947700063012,0.8398248792270533,0.8394202898550723,0.8454570791527309,0.8438003220611894,0.842132505175984,0.8405797101449276,0.8376811594202913,0.8355539971949533,0.8361639492753623,0.8325647782169492,0.8317348678601861,0.834265010351966,0.8380636070853466,0.8414610262436348,0.8424866514111371,0.8435525826830159,0.8447463768115937,0.8471191233651462,0.8472222222222231,0.8489214694978103,0.8494729907773386,0.8521739130434772,0.8539697542533098,0.8536077705827924,0.8560537439613523,0.8560337178349613,0.8547826086956525],\"type\":\"scatter\"},{\"line\":{\"color\":\"#00CC96\"},\"mode\":\"lines+markers\",\"name\":\"PCA\",\"x\":[1,2,3,4,5,6,7,8,9,10,11,12,13,14,15,16,17,18,19,20,21,22,23,24,25,26,27,28,29,30,31,32,33,34,35,36,37,38,39,40,41,42,43,44,45,46,47,48,49,50],\"y\":[0.9855072463768116,0.842391304347826,0.7971014492753622,0.7753623188405797,0.7500000000000002,0.736111111111112,0.7313664596273292,0.7241847826086957,0.7298711755233485,0.7304347826086964,0.7213438735177863,0.7261473429951691,0.7290969899665548,0.7375776397515525,0.7427536231884065,0.7468297101449275,0.750426257459504,0.7574476650563607,0.7694508009153306,0.7746376811594197,0.777087646652864,0.7778326745718052,0.7830812854442349,0.7847222222222229,0.78927536231884,0.7944537346711256,0.8048845947396656,0.8172877846790887,0.822588705647177,0.8241545893719817,0.8253856942496511,0.8288043478260869,0.8314668423364058,0.8337595907928378,0.8361283643892328,0.8419887278582948,0.8462593027810418,0.8507818459191472,0.8547937569676693,0.8641304347826071,0.8727465535524909,0.8751725327812293,0.8789180990899911,0.8808465085639007,0.8826086956521737,0.8859483301827363,0.8876811594202885,0.891379830917874,0.8944099378881996,0.8962318840579706],\"type\":\"scatter\"},{\"line\":{\"color\":\"#AB63FA\"},\"mode\":\"lines+markers\",\"name\":\"TRIMAP\",\"x\":[1,2,3,4,5,6,7,8,9,10,11,12,13,14,15,16,17,18,19,20,21,22,23,24,25,26,27,28,29,30,31,32,33,34,35,36,37,38,39,40,41,42,43,44,45,46,47,48,49,50],\"y\":[0.9855072463768116,0.8623188405797102,0.8647342995169076,0.8659420289855072,0.8731884057971018,0.8822463768115946,0.8799171842650108,0.8759057971014492,0.8784219001610298,0.8742753623188406,0.8685770750988134,0.8683574879227053,0.8678929765886287,0.8690476190476178,0.8714975845410631,0.873641304347826,0.8780903665814144,0.8800322061191634,0.8789092295957276,0.8746376811594201,0.874051069703244,0.8694005270092235,0.8640516698172659,0.8642814009661847,0.8678260869565215,0.8708193979933104,0.8713097155126132,0.8744824016563143,0.8780609695152429,0.8763285024154602,0.8780972417017304,0.8797554347826086,0.8809837505489668,0.8819266837169635,0.8838509316770179,0.8870772946859914,0.8915001958480206,0.895118230358506,0.8969713861018211,0.9049818840579698,0.9094202898550712,0.9109730848861287,0.9126221772834522,0.9139492753623198,0.9136070853462148,0.9143037177063661,0.9134289238359529,0.9137228260869563,0.915483584738244,0.9178985507246368],\"type\":\"scatter\"}],                        {\"template\":{\"data\":{\"barpolar\":[{\"marker\":{\"line\":{\"color\":\"white\",\"width\":0.5},\"pattern\":{\"fillmode\":\"overlay\",\"size\":10,\"solidity\":0.2}},\"type\":\"barpolar\"}],\"bar\":[{\"error_x\":{\"color\":\"rgb(36,36,36)\"},\"error_y\":{\"color\":\"rgb(36,36,36)\"},\"marker\":{\"line\":{\"color\":\"white\",\"width\":0.5},\"pattern\":{\"fillmode\":\"overlay\",\"size\":10,\"solidity\":0.2}},\"type\":\"bar\"}],\"carpet\":[{\"aaxis\":{\"endlinecolor\":\"rgb(36,36,36)\",\"gridcolor\":\"white\",\"linecolor\":\"white\",\"minorgridcolor\":\"white\",\"startlinecolor\":\"rgb(36,36,36)\"},\"baxis\":{\"endlinecolor\":\"rgb(36,36,36)\",\"gridcolor\":\"white\",\"linecolor\":\"white\",\"minorgridcolor\":\"white\",\"startlinecolor\":\"rgb(36,36,36)\"},\"type\":\"carpet\"}],\"choropleth\":[{\"colorbar\":{\"outlinewidth\":1,\"tickcolor\":\"rgb(36,36,36)\",\"ticks\":\"outside\"},\"type\":\"choropleth\"}],\"contourcarpet\":[{\"colorbar\":{\"outlinewidth\":1,\"tickcolor\":\"rgb(36,36,36)\",\"ticks\":\"outside\"},\"type\":\"contourcarpet\"}],\"contour\":[{\"colorbar\":{\"outlinewidth\":1,\"tickcolor\":\"rgb(36,36,36)\",\"ticks\":\"outside\"},\"colorscale\":[[0.0,\"#440154\"],[0.1111111111111111,\"#482878\"],[0.2222222222222222,\"#3e4989\"],[0.3333333333333333,\"#31688e\"],[0.4444444444444444,\"#26828e\"],[0.5555555555555556,\"#1f9e89\"],[0.6666666666666666,\"#35b779\"],[0.7777777777777778,\"#6ece58\"],[0.8888888888888888,\"#b5de2b\"],[1.0,\"#fde725\"]],\"type\":\"contour\"}],\"heatmapgl\":[{\"colorbar\":{\"outlinewidth\":1,\"tickcolor\":\"rgb(36,36,36)\",\"ticks\":\"outside\"},\"colorscale\":[[0.0,\"#440154\"],[0.1111111111111111,\"#482878\"],[0.2222222222222222,\"#3e4989\"],[0.3333333333333333,\"#31688e\"],[0.4444444444444444,\"#26828e\"],[0.5555555555555556,\"#1f9e89\"],[0.6666666666666666,\"#35b779\"],[0.7777777777777778,\"#6ece58\"],[0.8888888888888888,\"#b5de2b\"],[1.0,\"#fde725\"]],\"type\":\"heatmapgl\"}],\"heatmap\":[{\"colorbar\":{\"outlinewidth\":1,\"tickcolor\":\"rgb(36,36,36)\",\"ticks\":\"outside\"},\"colorscale\":[[0.0,\"#440154\"],[0.1111111111111111,\"#482878\"],[0.2222222222222222,\"#3e4989\"],[0.3333333333333333,\"#31688e\"],[0.4444444444444444,\"#26828e\"],[0.5555555555555556,\"#1f9e89\"],[0.6666666666666666,\"#35b779\"],[0.7777777777777778,\"#6ece58\"],[0.8888888888888888,\"#b5de2b\"],[1.0,\"#fde725\"]],\"type\":\"heatmap\"}],\"histogram2dcontour\":[{\"colorbar\":{\"outlinewidth\":1,\"tickcolor\":\"rgb(36,36,36)\",\"ticks\":\"outside\"},\"colorscale\":[[0.0,\"#440154\"],[0.1111111111111111,\"#482878\"],[0.2222222222222222,\"#3e4989\"],[0.3333333333333333,\"#31688e\"],[0.4444444444444444,\"#26828e\"],[0.5555555555555556,\"#1f9e89\"],[0.6666666666666666,\"#35b779\"],[0.7777777777777778,\"#6ece58\"],[0.8888888888888888,\"#b5de2b\"],[1.0,\"#fde725\"]],\"type\":\"histogram2dcontour\"}],\"histogram2d\":[{\"colorbar\":{\"outlinewidth\":1,\"tickcolor\":\"rgb(36,36,36)\",\"ticks\":\"outside\"},\"colorscale\":[[0.0,\"#440154\"],[0.1111111111111111,\"#482878\"],[0.2222222222222222,\"#3e4989\"],[0.3333333333333333,\"#31688e\"],[0.4444444444444444,\"#26828e\"],[0.5555555555555556,\"#1f9e89\"],[0.6666666666666666,\"#35b779\"],[0.7777777777777778,\"#6ece58\"],[0.8888888888888888,\"#b5de2b\"],[1.0,\"#fde725\"]],\"type\":\"histogram2d\"}],\"histogram\":[{\"marker\":{\"line\":{\"color\":\"white\",\"width\":0.6}},\"type\":\"histogram\"}],\"mesh3d\":[{\"colorbar\":{\"outlinewidth\":1,\"tickcolor\":\"rgb(36,36,36)\",\"ticks\":\"outside\"},\"type\":\"mesh3d\"}],\"parcoords\":[{\"line\":{\"colorbar\":{\"outlinewidth\":1,\"tickcolor\":\"rgb(36,36,36)\",\"ticks\":\"outside\"}},\"type\":\"parcoords\"}],\"pie\":[{\"automargin\":true,\"type\":\"pie\"}],\"scatter3d\":[{\"line\":{\"colorbar\":{\"outlinewidth\":1,\"tickcolor\":\"rgb(36,36,36)\",\"ticks\":\"outside\"}},\"marker\":{\"colorbar\":{\"outlinewidth\":1,\"tickcolor\":\"rgb(36,36,36)\",\"ticks\":\"outside\"}},\"type\":\"scatter3d\"}],\"scattercarpet\":[{\"marker\":{\"colorbar\":{\"outlinewidth\":1,\"tickcolor\":\"rgb(36,36,36)\",\"ticks\":\"outside\"}},\"type\":\"scattercarpet\"}],\"scattergeo\":[{\"marker\":{\"colorbar\":{\"outlinewidth\":1,\"tickcolor\":\"rgb(36,36,36)\",\"ticks\":\"outside\"}},\"type\":\"scattergeo\"}],\"scattergl\":[{\"marker\":{\"colorbar\":{\"outlinewidth\":1,\"tickcolor\":\"rgb(36,36,36)\",\"ticks\":\"outside\"}},\"type\":\"scattergl\"}],\"scattermapbox\":[{\"marker\":{\"colorbar\":{\"outlinewidth\":1,\"tickcolor\":\"rgb(36,36,36)\",\"ticks\":\"outside\"}},\"type\":\"scattermapbox\"}],\"scatterpolargl\":[{\"marker\":{\"colorbar\":{\"outlinewidth\":1,\"tickcolor\":\"rgb(36,36,36)\",\"ticks\":\"outside\"}},\"type\":\"scatterpolargl\"}],\"scatterpolar\":[{\"marker\":{\"colorbar\":{\"outlinewidth\":1,\"tickcolor\":\"rgb(36,36,36)\",\"ticks\":\"outside\"}},\"type\":\"scatterpolar\"}],\"scatter\":[{\"marker\":{\"colorbar\":{\"outlinewidth\":1,\"tickcolor\":\"rgb(36,36,36)\",\"ticks\":\"outside\"}},\"type\":\"scatter\"}],\"scatterternary\":[{\"marker\":{\"colorbar\":{\"outlinewidth\":1,\"tickcolor\":\"rgb(36,36,36)\",\"ticks\":\"outside\"}},\"type\":\"scatterternary\"}],\"surface\":[{\"colorbar\":{\"outlinewidth\":1,\"tickcolor\":\"rgb(36,36,36)\",\"ticks\":\"outside\"},\"colorscale\":[[0.0,\"#440154\"],[0.1111111111111111,\"#482878\"],[0.2222222222222222,\"#3e4989\"],[0.3333333333333333,\"#31688e\"],[0.4444444444444444,\"#26828e\"],[0.5555555555555556,\"#1f9e89\"],[0.6666666666666666,\"#35b779\"],[0.7777777777777778,\"#6ece58\"],[0.8888888888888888,\"#b5de2b\"],[1.0,\"#fde725\"]],\"type\":\"surface\"}],\"table\":[{\"cells\":{\"fill\":{\"color\":\"rgb(237,237,237)\"},\"line\":{\"color\":\"white\"}},\"header\":{\"fill\":{\"color\":\"rgb(217,217,217)\"},\"line\":{\"color\":\"white\"}},\"type\":\"table\"}]},\"layout\":{\"annotationdefaults\":{\"arrowhead\":0,\"arrowwidth\":1},\"autotypenumbers\":\"strict\",\"coloraxis\":{\"colorbar\":{\"outlinewidth\":1,\"tickcolor\":\"rgb(36,36,36)\",\"ticks\":\"outside\"}},\"colorscale\":{\"diverging\":[[0.0,\"rgb(103,0,31)\"],[0.1,\"rgb(178,24,43)\"],[0.2,\"rgb(214,96,77)\"],[0.3,\"rgb(244,165,130)\"],[0.4,\"rgb(253,219,199)\"],[0.5,\"rgb(247,247,247)\"],[0.6,\"rgb(209,229,240)\"],[0.7,\"rgb(146,197,222)\"],[0.8,\"rgb(67,147,195)\"],[0.9,\"rgb(33,102,172)\"],[1.0,\"rgb(5,48,97)\"]],\"sequential\":[[0.0,\"#440154\"],[0.1111111111111111,\"#482878\"],[0.2222222222222222,\"#3e4989\"],[0.3333333333333333,\"#31688e\"],[0.4444444444444444,\"#26828e\"],[0.5555555555555556,\"#1f9e89\"],[0.6666666666666666,\"#35b779\"],[0.7777777777777778,\"#6ece58\"],[0.8888888888888888,\"#b5de2b\"],[1.0,\"#fde725\"]],\"sequentialminus\":[[0.0,\"#440154\"],[0.1111111111111111,\"#482878\"],[0.2222222222222222,\"#3e4989\"],[0.3333333333333333,\"#31688e\"],[0.4444444444444444,\"#26828e\"],[0.5555555555555556,\"#1f9e89\"],[0.6666666666666666,\"#35b779\"],[0.7777777777777778,\"#6ece58\"],[0.8888888888888888,\"#b5de2b\"],[1.0,\"#fde725\"]]},\"colorway\":[\"#1F77B4\",\"#FF7F0E\",\"#2CA02C\",\"#D62728\",\"#9467BD\",\"#8C564B\",\"#E377C2\",\"#7F7F7F\",\"#BCBD22\",\"#17BECF\"],\"font\":{\"color\":\"rgb(36,36,36)\"},\"geo\":{\"bgcolor\":\"white\",\"lakecolor\":\"white\",\"landcolor\":\"white\",\"showlakes\":true,\"showland\":true,\"subunitcolor\":\"white\"},\"hoverlabel\":{\"align\":\"left\"},\"hovermode\":\"closest\",\"mapbox\":{\"style\":\"light\"},\"paper_bgcolor\":\"white\",\"plot_bgcolor\":\"white\",\"polar\":{\"angularaxis\":{\"gridcolor\":\"rgb(232,232,232)\",\"linecolor\":\"rgb(36,36,36)\",\"showgrid\":false,\"showline\":true,\"ticks\":\"outside\"},\"bgcolor\":\"white\",\"radialaxis\":{\"gridcolor\":\"rgb(232,232,232)\",\"linecolor\":\"rgb(36,36,36)\",\"showgrid\":false,\"showline\":true,\"ticks\":\"outside\"}},\"scene\":{\"xaxis\":{\"backgroundcolor\":\"white\",\"gridcolor\":\"rgb(232,232,232)\",\"gridwidth\":2,\"linecolor\":\"rgb(36,36,36)\",\"showbackground\":true,\"showgrid\":false,\"showline\":true,\"ticks\":\"outside\",\"zeroline\":false,\"zerolinecolor\":\"rgb(36,36,36)\"},\"yaxis\":{\"backgroundcolor\":\"white\",\"gridcolor\":\"rgb(232,232,232)\",\"gridwidth\":2,\"linecolor\":\"rgb(36,36,36)\",\"showbackground\":true,\"showgrid\":false,\"showline\":true,\"ticks\":\"outside\",\"zeroline\":false,\"zerolinecolor\":\"rgb(36,36,36)\"},\"zaxis\":{\"backgroundcolor\":\"white\",\"gridcolor\":\"rgb(232,232,232)\",\"gridwidth\":2,\"linecolor\":\"rgb(36,36,36)\",\"showbackground\":true,\"showgrid\":false,\"showline\":true,\"ticks\":\"outside\",\"zeroline\":false,\"zerolinecolor\":\"rgb(36,36,36)\"}},\"shapedefaults\":{\"fillcolor\":\"black\",\"line\":{\"width\":0},\"opacity\":0.3},\"ternary\":{\"aaxis\":{\"gridcolor\":\"rgb(232,232,232)\",\"linecolor\":\"rgb(36,36,36)\",\"showgrid\":false,\"showline\":true,\"ticks\":\"outside\"},\"baxis\":{\"gridcolor\":\"rgb(232,232,232)\",\"linecolor\":\"rgb(36,36,36)\",\"showgrid\":false,\"showline\":true,\"ticks\":\"outside\"},\"bgcolor\":\"white\",\"caxis\":{\"gridcolor\":\"rgb(232,232,232)\",\"linecolor\":\"rgb(36,36,36)\",\"showgrid\":false,\"showline\":true,\"ticks\":\"outside\"}},\"title\":{\"x\":0.05},\"xaxis\":{\"automargin\":true,\"gridcolor\":\"rgb(232,232,232)\",\"linecolor\":\"rgb(36,36,36)\",\"showgrid\":false,\"showline\":true,\"ticks\":\"outside\",\"title\":{\"standoff\":15},\"zeroline\":false,\"zerolinecolor\":\"rgb(36,36,36)\"},\"yaxis\":{\"automargin\":true,\"gridcolor\":\"rgb(232,232,232)\",\"linecolor\":\"rgb(36,36,36)\",\"showgrid\":false,\"showline\":true,\"ticks\":\"outside\",\"title\":{\"standoff\":15},\"zeroline\":false,\"zerolinecolor\":\"rgb(36,36,36)\"}}},\"font\":{\"size\":18},\"margin\":{\"l\":0,\"r\":0,\"b\":0,\"t\":0},\"width\":1000,\"xaxis\":{\"title\":{\"text\":\"K (number of neighbors)\"}},\"yaxis\":{\"title\":{\"text\":\"Neighborhood Preservation\"}}},                        {\"responsive\": true}                    ).then(function(){\n",
              "                            \n",
              "var gd = document.getElementById('867ba3bc-c70a-43ed-a27d-223ccec3e5c1');\n",
              "var x = new MutationObserver(function (mutations, observer) {{\n",
              "        var display = window.getComputedStyle(gd).display;\n",
              "        if (!display || display === 'none') {{\n",
              "            console.log([gd, 'removed!']);\n",
              "            Plotly.purge(gd);\n",
              "            observer.disconnect();\n",
              "        }}\n",
              "}});\n",
              "\n",
              "// Listen for the removal of the full notebook cells\n",
              "var notebookContainer = gd.closest('#notebook-container');\n",
              "if (notebookContainer) {{\n",
              "    x.observe(notebookContainer, {childList: true});\n",
              "}}\n",
              "\n",
              "// Listen for the clearing of the current output cell\n",
              "var outputEl = gd.closest('.output');\n",
              "if (outputEl) {{\n",
              "    x.observe(outputEl, {childList: true});\n",
              "}}\n",
              "\n",
              "                        })                };                            </script>        </div>\n",
              "</body>\n",
              "</html>"
            ]
          },
          "metadata": {}
        }
      ]
    },
    {
      "cell_type": "markdown",
      "source": [
        "# Silhouette Coefficient"
      ],
      "metadata": {
        "id": "vDo1G0GCcJ7R"
      }
    },
    {
      "cell_type": "code",
      "source": [
        "def coeficiente_silhueta(X_high,X_low):\n",
        "  silhouette_avg_high = []\n",
        "  silhouette_avg_low = []\n",
        "\n",
        "  for k in range(3,20):\n",
        "    clusterer = KMedoids(n_clusters=k, init='k-medoids++',random_state=10)\n",
        "    cluster_labels_high = clusterer.fit_predict(X_high)\n",
        "    cluster_labels_low = clusterer.fit_predict(X_low)\n",
        "    silhouette_avg_high.append(silhouette_score(X_high, cluster_labels_high))\n",
        "    silhouette_avg_low.append(silhouette_score(X_low, cluster_labels_low))\n",
        "\n",
        "  mean_silhouete_high = np.mean(np.array(silhouette_avg_high))\n",
        "  mean_silhouete_low = np.mean(np.array(silhouette_avg_low))\n",
        "  std_silhouete_high = np.std(np.array(silhouette_avg_high))\n",
        "  std_silhouete_low = np.std(np.array(silhouette_avg_low))\n",
        "    \n",
        "  return mean_silhouete_high, mean_silhouete_low, std_silhouete_high, std_silhouete_low"
      ],
      "metadata": {
        "id": "EEcbt83_GI4k"
      },
      "execution_count": null,
      "outputs": []
    },
    {
      "cell_type": "markdown",
      "source": [
        "### t-SNE"
      ],
      "metadata": {
        "id": "aS99avj-iga8"
      }
    },
    {
      "cell_type": "code",
      "source": [
        "mean_high,mean_low,std_high,std_low = coeficiente_silhueta(X,X_tsne)\n",
        "\n",
        "print(\"TSNE\")\n",
        "print(f\"Média Silhueta Original: {mean_high} Desvio Padrão Original: {std_high}\")\n",
        "print(f\"Média Silhueta Visualização: {mean_low:.10f} Desvio Padrão Visualização: {std_low:.10f}\\n\")"
      ],
      "metadata": {
        "id": "6WDSGstkcWa5",
        "colab": {
          "base_uri": "https://localhost:8080/"
        },
        "outputId": "5fd9ab82-8869-4c3a-dc5f-9d700d90ceb2"
      },
      "execution_count": null,
      "outputs": [
        {
          "output_type": "stream",
          "name": "stdout",
          "text": [
            "TSNE\n",
            "Média Silhueta Original: 0.0860648712739905 Desvio Padrão Original: 0.02080142865863332\n",
            "Média Silhueta Visualização: 0.4283835888 Desvio Padrão Visualização: 0.0527206250\n",
            "\n"
          ]
        }
      ]
    },
    {
      "cell_type": "markdown",
      "source": [
        "### UMAP"
      ],
      "metadata": {
        "id": "0GDI0CwojTGx"
      }
    },
    {
      "cell_type": "code",
      "source": [
        "mean_high,mean_low,std_high,std_low = coeficiente_silhueta(X,X_umap)\n",
        "\n",
        "print(\"UMAP\")\n",
        "print(f\"Média Silhueta Original: {mean_high} Desvio Padrão Original: {std_high}\")\n",
        "print(f\"Média Silhueta Visualização: {mean_low:.10f} Desvio Padrão Visualização: {std_low:.10f}\\n\")"
      ],
      "metadata": {
        "id": "xm-j7RDcjSSz",
        "colab": {
          "base_uri": "https://localhost:8080/"
        },
        "outputId": "eaab15f8-e111-4cd6-f617-f5e02b1fdaa7"
      },
      "execution_count": null,
      "outputs": [
        {
          "output_type": "stream",
          "name": "stdout",
          "text": [
            "UMAP\n",
            "Média Silhueta Original: 0.0860648712739905 Desvio Padrão Original: 0.02080142865863332\n",
            "Média Silhueta Visualização: 0.5233905911 Desvio Padrão Visualização: 0.0593110807\n",
            "\n"
          ]
        }
      ]
    },
    {
      "cell_type": "markdown",
      "source": [
        "### PCA"
      ],
      "metadata": {
        "id": "PKr6Rtggjrof"
      }
    },
    {
      "cell_type": "code",
      "source": [
        "mean_high,mean_low,std_high,std_low = coeficiente_silhueta(X,X_pca)\n",
        "\n",
        "print(\"PCA\")\n",
        "print(f\"Média Silhueta Original: {mean_high} Desvio Padrão Original: {std_high}\")\n",
        "print(f\"Média Silhueta Visualização: {mean_low:.10f} Desvio Padrão Visualização: {std_low:.10f}\\n\")"
      ],
      "metadata": {
        "id": "lLzYtxa3jv3C",
        "colab": {
          "base_uri": "https://localhost:8080/"
        },
        "outputId": "4ddd1a2f-6894-48c2-e7b2-60d5b732ccd0"
      },
      "execution_count": null,
      "outputs": [
        {
          "output_type": "stream",
          "name": "stdout",
          "text": [
            "PCA\n",
            "Média Silhueta Original: 0.0860648712739905 Desvio Padrão Original: 0.02080142865863332\n",
            "Média Silhueta Visualização: 0.4175589453 Desvio Padrão Visualização: 0.0468529850\n",
            "\n"
          ]
        }
      ]
    },
    {
      "cell_type": "markdown",
      "source": [
        "### TRIMAP"
      ],
      "metadata": {
        "id": "h1FjdURYjkY8"
      }
    },
    {
      "cell_type": "code",
      "source": [
        "mean_high,mean_low,std_high,std_low = coeficiente_silhueta(X,X_trimap)\n",
        "\n",
        "print(\"TriMap\")\n",
        "print(f\"Média Silhueta Original: {mean_high} Desvio Padrão Original: {std_high}\")\n",
        "print(f\"Média Silhueta Visualização: {mean_low:.10f} Desvio Padrão Visualização: {std_low:.10f}\\n\")"
      ],
      "metadata": {
        "id": "5DvfQhtGjl7K",
        "colab": {
          "base_uri": "https://localhost:8080/"
        },
        "outputId": "d3d36f41-6d83-434a-e34e-988101a0be3d"
      },
      "execution_count": null,
      "outputs": [
        {
          "output_type": "stream",
          "name": "stdout",
          "text": [
            "TriMap\n",
            "Média Silhueta Original: 0.0860648712739905 Desvio Padrão Original: 0.02080142865863332\n",
            "Média Silhueta Visualização: 0.5411089659 Desvio Padrão Visualização: 0.0377489701\n",
            "\n"
          ]
        }
      ]
    },
    {
      "cell_type": "markdown",
      "source": [
        "# Global Score\n"
      ],
      "metadata": {
        "id": "tcuS5drCcko9"
      }
    },
    {
      "cell_type": "markdown",
      "source": [
        "### t-SNE"
      ],
      "metadata": {
        "id": "zjBUVrX3gIDo"
      }
    },
    {
      "cell_type": "code",
      "source": [
        "gs = trimap.TRIMAP(verbose=False).global_score(X, X_tsne)\n",
        "print(f\"tSNE global score {gs} - All Data\")"
      ],
      "metadata": {
        "id": "urh2aGi1cmx5",
        "colab": {
          "base_uri": "https://localhost:8080/"
        },
        "outputId": "544de16f-92e1-403b-fbf3-b25f48b5870c"
      },
      "execution_count": null,
      "outputs": [
        {
          "output_type": "stream",
          "name": "stdout",
          "text": [
            "tSNE global score 0.9473750672210572 - All Data\n"
          ]
        }
      ]
    },
    {
      "cell_type": "markdown",
      "source": [
        "### UMAP"
      ],
      "metadata": {
        "id": "zwQVensygL5g"
      }
    },
    {
      "cell_type": "code",
      "source": [
        "gs = trimap.TRIMAP(verbose=False).global_score(X, X_umap)\n",
        "print(f\"UMAP global score {gs} - All Data\")"
      ],
      "metadata": {
        "id": "1TobKtibcrmq",
        "colab": {
          "base_uri": "https://localhost:8080/"
        },
        "outputId": "d2230af6-c639-4c90-a9c1-72f03ae3ccce"
      },
      "execution_count": null,
      "outputs": [
        {
          "output_type": "stream",
          "name": "stdout",
          "text": [
            "UMAP global score 0.9399467783070421 - All Data\n"
          ]
        }
      ]
    },
    {
      "cell_type": "markdown",
      "source": [
        "### PCA"
      ],
      "metadata": {
        "id": "oMKWxdGHgO0M"
      }
    },
    {
      "cell_type": "code",
      "source": [
        "gs = trimap.TRIMAP(verbose=False).global_score(X, X_pca)\n",
        "print(f\"PCA global score {gs} - All Data\")"
      ],
      "metadata": {
        "id": "KQtKNuU6cxyw",
        "colab": {
          "base_uri": "https://localhost:8080/"
        },
        "outputId": "adf90dfc-bef8-4812-b44a-9d458686d0b3"
      },
      "execution_count": null,
      "outputs": [
        {
          "output_type": "stream",
          "name": "stdout",
          "text": [
            "PCA global score 1.0 - All Data\n"
          ]
        }
      ]
    },
    {
      "cell_type": "markdown",
      "source": [
        "### TRIMAP"
      ],
      "metadata": {
        "id": "xKfUPzYDgQSn"
      }
    },
    {
      "cell_type": "code",
      "source": [
        "gs = trimap.TRIMAP(verbose=False).global_score(X, X_trimap)\n",
        "print(f\"TRIMAP global score {gs} - All Data\")"
      ],
      "metadata": {
        "id": "qcteE9i-c2GU",
        "colab": {
          "base_uri": "https://localhost:8080/"
        },
        "outputId": "5b8bfe92-f8fa-490b-b127-f2afe337e93f"
      },
      "execution_count": null,
      "outputs": [
        {
          "output_type": "stream",
          "name": "stdout",
          "text": [
            "TRIMAP global score 0.9542009845020423 - All Data\n"
          ]
        }
      ]
    },
    {
      "cell_type": "markdown",
      "source": [
        "# Testing values"
      ],
      "metadata": {
        "id": "MOzjzWvfyXPk"
      }
    },
    {
      "cell_type": "markdown",
      "source": [
        "### t-SNE"
      ],
      "metadata": {
        "id": "d7nFsrDfFBad"
      }
    },
    {
      "cell_type": "code",
      "source": [
        "kneigh = []\n",
        "y_tsne = np.zeros((10,21))\n",
        "\n",
        "v_perplexity = [5,10,15,20,25,30,35,40,45,50]\n",
        "v_learning_rate = [10,50,100,150,200,250,300,350,400,450,500,550,600,650,700,750,800,850,900,950,1000]\n",
        "\n",
        "for pv in range(0,21):\n",
        "  kneigh.append(v_learning_rate[pv])\n",
        "  for pi in range(0,10):\n",
        "    tsne = TSNE(n_components=2,perplexity=v_perplexity[pi],learning_rate=v_learning_rate[pv],metric='euclidean', init='pca')\n",
        "    X_tsne = tsne.fit_transform(X)\n",
        "    precision = trustworthiness(X, X_tsne, metric='euclidean')\n",
        "    y_tsne[pi][pv] = precision"
      ],
      "metadata": {
        "id": "bi9sB3AUs0oX"
      },
      "execution_count": null,
      "outputs": []
    },
    {
      "cell_type": "code",
      "source": [
        "fig = go.Figure()\n",
        "for pi in range(10):\n",
        "  fig.add_trace(go.Scatter(x=kneigh, y=y_tsne[pi],\n",
        "                    mode='lines+markers',\n",
        "                    name='t-SNE perplexity ' + str(v_perplexity[pi])))\n",
        "\n",
        "fig.show()"
      ],
      "metadata": {
        "id": "N1fQ-eLneePn"
      },
      "execution_count": null,
      "outputs": []
    },
    {
      "cell_type": "markdown",
      "source": [
        "### UMAP"
      ],
      "metadata": {
        "id": "YNEwUT6KFHE4"
      }
    },
    {
      "cell_type": "code",
      "source": [
        "teste = [0,0.1,0.25,0.5,0.8,0.99]\n",
        "kneigh = []\n",
        "y_umap = []\n",
        "\n",
        "for n in teste:\n",
        "  kneigh.append(n)\n",
        "  reducer = umap.UMAP(n_components=2, n_neighbors=10, min_dist=n, metric='euclidean')\n",
        "  X_umap = reducer.fit_transform(X)\n",
        "  precision = trustworthiness(X, X_umap, metric='euclidean')\n",
        "  y_umap.append(precision)"
      ],
      "metadata": {
        "id": "xAQdTbk6c-Kw"
      },
      "execution_count": null,
      "outputs": []
    },
    {
      "cell_type": "code",
      "source": [
        "fig = go.Figure()\n",
        "\n",
        "fig.add_trace(go.Scatter(x=kneigh, y=y_umap,\n",
        "                  mode='lines+markers',\n",
        "                  name='UMAP'))\n",
        "\n",
        "fig.show()"
      ],
      "metadata": {
        "id": "24NK535adD3H"
      },
      "execution_count": null,
      "outputs": []
    },
    {
      "cell_type": "code",
      "source": [
        "teste = [2, 5, 10, 20, 30, 40, 50, 60, 70, 80, 90, 100, 110, 120, 130, 140, 150, 160, 170, 180, 190, 200]\n",
        "kneigh = []\n",
        "y_umap = []\n",
        "\n",
        "for n in teste:\n",
        "  kneigh.append(n)\n",
        "  reducer = umap.UMAP(n_components=n,n_neighbors=40,metric='euclidean')\n",
        "  X_umap = reducer.fit_transform(X)\n",
        "  precision = trustworthiness(X, X_umap, n_neighbors=1, metric='euclidean')\n",
        "  y_umap.append(precision)"
      ],
      "metadata": {
        "id": "AbPUVBzM7tKc"
      },
      "execution_count": null,
      "outputs": []
    },
    {
      "cell_type": "code",
      "source": [
        "fig = go.Figure()\n",
        "\n",
        "fig.add_trace(go.Scatter(x=kneigh, y=y_umap,\n",
        "                  mode='lines+markers',\n",
        "                  name='UMAP'))\n",
        "\n",
        "fig.show()"
      ],
      "metadata": {
        "id": "2fnMDYNJ-Nzy"
      },
      "execution_count": null,
      "outputs": []
    },
    {
      "cell_type": "markdown",
      "source": [
        "### PCA"
      ],
      "metadata": {
        "id": "C2F5AHyJE_iE"
      }
    },
    {
      "cell_type": "code",
      "source": [
        "components = [2, 5, 10, 20, 30, 40, 50, 60, 70, 80, 90, 100, 110, 120, 130, 140, 150, 160, 170, 180, 190, 200]\n",
        "kneigh = []\n",
        "y_pca = []\n",
        "\n",
        "for n in components:\n",
        "  kneigh.append(n)\n",
        "  pca = sklearnPCA(n_components=n)\n",
        "  X_pca = pca.fit_transform(X)\n",
        "  precision = trustworthiness(X, X_pca, n_neighbors=1, metric='euclidean')\n",
        "  y_pca.append(precision)"
      ],
      "metadata": {
        "id": "rzChEobbFBdm"
      },
      "execution_count": null,
      "outputs": []
    },
    {
      "cell_type": "code",
      "source": [
        "fig = go.Figure()\n",
        "\n",
        "fig.add_trace(go.Scatter(x=kneigh, y=y_pca,\n",
        "                  mode='lines+markers',\n",
        "                  name='PCA'))\n",
        "\n",
        "fig.show()"
      ],
      "metadata": {
        "id": "K2o9fJfODYxO"
      },
      "execution_count": null,
      "outputs": []
    },
    {
      "cell_type": "markdown",
      "source": [
        "### TRIMAP"
      ],
      "metadata": {
        "id": "PU8AyXxHFROd"
      }
    },
    {
      "cell_type": "code",
      "source": [
        "teste = [1,2,3,4,5,6,7,8,9,10]\n",
        "kneigh = []\n",
        "y_trimap = []\n",
        "\n",
        "for n in teste:\n",
        "  kneigh.append(n)\n",
        "  X_trimap = trimap.TRIMAP(n_dims=2, n_inliers=5, n_random=n).fit_transform(X)\n",
        "  precision = trustworthiness(X, X_trimap, metric='euclidean')\n",
        "  y_trimap.append(precision)"
      ],
      "metadata": {
        "id": "bUQKMxHdFUKY"
      },
      "execution_count": null,
      "outputs": []
    },
    {
      "cell_type": "code",
      "source": [
        "fig = go.Figure()\n",
        "\n",
        "fig.add_trace(go.Scatter(x=kneigh, y=y_trimap,\n",
        "                  mode='lines+markers',\n",
        "                  name='TRIMAP'))\n",
        "\n",
        "fig.show()"
      ],
      "metadata": {
        "id": "xseW6gRJK5Yr"
      },
      "execution_count": null,
      "outputs": []
    }
  ]
}